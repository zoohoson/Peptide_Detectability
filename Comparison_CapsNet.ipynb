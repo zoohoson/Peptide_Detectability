{
 "cells": [
  {
   "cell_type": "code",
   "execution_count": 1,
   "id": "4e6f5486",
   "metadata": {
    "ExecuteTime": {
     "end_time": "2023-03-20T15:11:15.431368Z",
     "start_time": "2023-03-20T15:11:15.424706Z"
    }
   },
   "outputs": [],
   "source": [
    "import os\n",
    "os.environ[\"CUDA_VISIBLE_DEVICES\"]='2'"
   ]
  },
  {
   "cell_type": "code",
   "execution_count": 2,
   "id": "3a8ab587",
   "metadata": {
    "ExecuteTime": {
     "end_time": "2023-03-20T15:11:17.568679Z",
     "start_time": "2023-03-20T15:11:15.918495Z"
    }
   },
   "outputs": [
    {
     "data": {
      "text/plain": [
       "device(type='cuda')"
      ]
     },
     "execution_count": 2,
     "metadata": {},
     "output_type": "execute_result"
    }
   ],
   "source": [
    "import pandas as pd\n",
    "import numpy as np\n",
    "import matplotlib.pyplot as plt\n",
    "import seaborn as sns\n",
    "\n",
    "from sklearn import metrics\n",
    "from sklearn.metrics import classification_report, confusion_matrix, roc_curve, roc_auc_score\n",
    "from sklearn.model_selection import train_test_split\n",
    "\n",
    "from torchtext import data, datasets\n",
    "from torchtext.vocab import Vectors\n",
    "from torch.nn import init\n",
    "from torch.autograd import Variable\n",
    "import torch\n",
    "import torch.nn as nn\n",
    "import torch.nn.functional as F\n",
    "import torch.optim as optim\n",
    "DEVICE = torch.device(\"cuda\" if torch.cuda.is_available() else \"cpu\")\n",
    "DEVICE"
   ]
  },
  {
   "cell_type": "code",
   "execution_count": 3,
   "id": "cf19e2bc",
   "metadata": {
    "ExecuteTime": {
     "end_time": "2023-03-20T15:11:28.880670Z",
     "start_time": "2023-03-20T15:11:17.570375Z"
    }
   },
   "outputs": [
    {
     "name": "stderr",
     "output_type": "stream",
     "text": [
      "/home/bis/miniconda3/envs/torch/lib/python3.6/site-packages/torchtext/data/field.py:150: UserWarning: Field class will be retired soon and moved to torchtext.legacy. Please see the most recent release notes for further information.\n",
      "  warnings.warn('{} class will be retired soon and moved to torchtext.legacy. Please see the most recent release notes for further information.'.format(self.__class__.__name__), UserWarning)\n",
      "/home/bis/miniconda3/envs/torch/lib/python3.6/site-packages/torchtext/data/example.py:68: UserWarning: Example class will be retired soon and moved to torchtext.legacy. Please see the most recent release notes for further information.\n",
      "  warnings.warn('Example class will be retired soon and moved to torchtext.legacy. Please see the most recent release notes for further information.', UserWarning)\n",
      "/home/bis/miniconda3/envs/torch/lib/python3.6/site-packages/torchtext/data/example.py:78: UserWarning: Example class will be retired soon and moved to torchtext.legacy. Please see the most recent release notes for further information.\n",
      "  warnings.warn('Example class will be retired soon and moved to torchtext.legacy. Please see the most recent release notes for further information.', UserWarning)\n"
     ]
    }
   ],
   "source": [
    "from RefModel.model_CapsNet import *"
   ]
  },
  {
   "cell_type": "markdown",
   "id": "7b7bcf65",
   "metadata": {},
   "source": [
    "# Cross species : HPP"
   ]
  },
  {
   "cell_type": "markdown",
   "id": "c200b206",
   "metadata": {},
   "source": [
    "# 메모\n",
    "    - GPMDP training dataset은 7.5만개의 펩타이드로 구성, 반반 레이블링\n",
    "    - DeepMSPeptide, CapsNet 둘다 MOps를 0, LOps를 1로 레이블링해서 학습\n",
    "    - 추론할때 확률이 높을수록 디텍터블하지 않은 것임\n",
    "        - DeepMSpeptide의 경우 그래서 1-확률로 바꿔서 표현 (deepMSpeptide공식깃헙 문서에 그렇게 코딩되어있음.)\n",
    "        - CapsNet도 같은 학습셋을 쓰는데 MOps에 0으로 레이블 된 것 확인함"
   ]
  },
  {
   "cell_type": "code",
   "execution_count": 4,
   "id": "943d2344",
   "metadata": {
    "ExecuteTime": {
     "end_time": "2023-03-20T15:11:29.456744Z",
     "start_time": "2023-03-20T15:11:28.883003Z"
    }
   },
   "outputs": [],
   "source": [
    "gpmdb_train = pd.read_csv('RefModel/2019Bioinformatics_DeepMSPeptide/Datasets/GPMDB_training_peptides.txt', sep='\\t')\n",
    "d_train = gpmdb_train.loc[gpmdb_train.Class=='LObs'].Peptide_seq.unique()"
   ]
  },
  {
   "cell_type": "code",
   "execution_count": 5,
   "id": "60006fec",
   "metadata": {
    "ExecuteTime": {
     "end_time": "2023-03-20T15:11:29.500516Z",
     "start_time": "2023-03-20T15:11:29.458348Z"
    }
   },
   "outputs": [],
   "source": [
    "gpmdb_train = pd.read_csv('RefModel/2021MDPI_CapsNet/data/train.csv')\n",
    "c_train = gpmdb_train.loc[gpmdb_train.Label==1].Seqs.unique()"
   ]
  },
  {
   "cell_type": "code",
   "execution_count": 6,
   "id": "4fd898f7",
   "metadata": {
    "ExecuteTime": {
     "end_time": "2023-03-20T15:11:29.514292Z",
     "start_time": "2023-03-20T15:11:29.501828Z"
    }
   },
   "outputs": [
    {
     "name": "stdout",
     "output_type": "stream",
     "text": [
      "37500 37500 37500\n"
     ]
    }
   ],
   "source": [
    "print(len(c_train), len(d_train), len(set(c_train).intersection(d_train)))"
   ]
  },
  {
   "cell_type": "code",
   "execution_count": 7,
   "id": "3aceec91",
   "metadata": {
    "ExecuteTime": {
     "end_time": "2023-03-20T15:11:29.524344Z",
     "start_time": "2023-03-20T15:11:29.515519Z"
    }
   },
   "outputs": [],
   "source": [
    "hpp_n = pd.read_csv('RefModel/2021MDPI_CapsNet/mp.csv').Seqs.unique()"
   ]
  },
  {
   "cell_type": "code",
   "execution_count": 8,
   "id": "a3146517",
   "metadata": {
    "ExecuteTime": {
     "end_time": "2023-03-20T15:11:29.531854Z",
     "start_time": "2023-03-20T15:11:29.525862Z"
    }
   },
   "outputs": [
    {
     "data": {
      "text/plain": [
       "set()"
      ]
     },
     "execution_count": 8,
     "metadata": {},
     "output_type": "execute_result"
    }
   ],
   "source": [
    "set(hpp_n).intersection(set(c_train))"
   ]
  },
  {
   "cell_type": "code",
   "execution_count": 9,
   "id": "b3ca858b",
   "metadata": {
    "ExecuteTime": {
     "end_time": "2023-03-20T15:11:34.147940Z",
     "start_time": "2023-03-20T15:11:29.533067Z"
    }
   },
   "outputs": [
    {
     "name": "stderr",
     "output_type": "stream",
     "text": [
      "/home/bis/miniconda3/envs/torch/lib/python3.6/site-packages/torchtext/data/field.py:150: UserWarning: Field class will be retired soon and moved to torchtext.legacy. Please see the most recent release notes for further information.\n",
      "  warnings.warn('{} class will be retired soon and moved to torchtext.legacy. Please see the most recent release notes for further information.'.format(self.__class__.__name__), UserWarning)\n",
      "/home/bis/miniconda3/envs/torch/lib/python3.6/site-packages/torchtext/data/example.py:68: UserWarning: Example class will be retired soon and moved to torchtext.legacy. Please see the most recent release notes for further information.\n",
      "  warnings.warn('Example class will be retired soon and moved to torchtext.legacy. Please see the most recent release notes for further information.', UserWarning)\n",
      "/home/bis/miniconda3/envs/torch/lib/python3.6/site-packages/torchtext/data/example.py:78: UserWarning: Example class will be retired soon and moved to torchtext.legacy. Please see the most recent release notes for further information.\n",
      "  warnings.warn('Example class will be retired soon and moved to torchtext.legacy. Please see the most recent release notes for further information.', UserWarning)\n"
     ]
    },
    {
     "data": {
      "text/plain": [
       "CapsuleNet(\n",
       "  (embedding): Embedding(22, 20)\n",
       "  (lstm): LSTM(20, 40, batch_first=True)\n",
       "  (conv1): Conv2d(1, 256, kernel_size=(9, 9), stride=(1, 1))\n",
       "  (conv3): Conv2d(1, 256, kernel_size=(8, 8), stride=(1, 1))\n",
       "  (cbamBlock): CBAMBlock(\n",
       "    (avg_pool): AdaptiveAvgPool2d(output_size=1)\n",
       "    (max_pool): AdaptiveMaxPool2d(output_size=1)\n",
       "    (channel_excitation): Sequential(\n",
       "      (0): Linear(in_features=256, out_features=16, bias=False)\n",
       "      (1): ReLU(inplace=True)\n",
       "      (2): Linear(in_features=16, out_features=256, bias=False)\n",
       "    )\n",
       "    (sigmoid): Sigmoid()\n",
       "    (spatial_excitation): Sequential(\n",
       "      (0): Conv2d(2, 1, kernel_size=(7, 7), stride=(1, 1), padding=(3, 3), bias=False)\n",
       "    )\n",
       "  )\n",
       "  (conv2): Conv2d(256, 256, kernel_size=(9, 9), stride=(2, 2))\n",
       "  (conv4): Conv2d(256, 256, kernel_size=(8, 8), stride=(2, 2))\n",
       "  (capsule): Capsule()\n",
       ")"
      ]
     },
     "execution_count": 9,
     "metadata": {},
     "output_type": "execute_result"
    }
   ],
   "source": [
    "def tokenizer(text): # create a tokenizer function\n",
    "    \"\"\"\n",
    "    定义分词操作\n",
    "    \"\"\"\n",
    "    return list(text)\n",
    "\n",
    "\n",
    "LABEL = data.Field(sequential=False, use_vocab=False)\n",
    "TEXT = data.Field(sequential=True, tokenize=tokenizer ,fix_length=45)\n",
    "original_train, original_val, original_test = data.TabularDataset.splits(\n",
    "        path='RefModel/2021MDPI_CapsNet/data/', train='train.csv', validation='train.csv',test='test.csv', format='csv',skip_header=True,\n",
    "        fields=[('Seqs', TEXT), ('Label', LABEL)])\n",
    "TEXT.build_vocab(original_train, original_val, original_test)\n",
    "\n",
    "model = CapsuleNet()\n",
    "\"\"\"\n",
    "将前面生成的词向量矩阵拷贝到模型的embedding层\n",
    "这样就自动的可以将输入的word index转为词向量\n",
    "\"\"\"\n",
    "# 训练\n",
    "model.to(DEVICE)\n",
    "# 训练\n",
    "optimizer = optim.Adam(model.parameters(),lr=0.001)\n",
    "\n",
    "n_class = 2\n",
    "\n",
    "model.load_state_dict(torch.load('RefModel/2021MDPI_CapsNet/model/params.pkl'))#, map_location='cpu'))\n",
    "model.eval()"
   ]
  },
  {
   "cell_type": "code",
   "execution_count": 10,
   "id": "143934f9",
   "metadata": {
    "ExecuteTime": {
     "end_time": "2022-12-16T15:12:04.306099Z",
     "start_time": "2022-12-16T15:12:03.846425Z"
    }
   },
   "outputs": [
    {
     "name": "stderr",
     "output_type": "stream",
     "text": [
      "/home/bis/miniconda3/envs/torch/lib/python3.6/site-packages/torchtext/data/iterator.py:48: UserWarning: BucketIterator class will be retired soon and moved to torchtext.legacy. Please see the most recent release notes for further information.\n",
      "  warnings.warn('{} class will be retired soon and moved to torchtext.legacy. Please see the most recent release notes for further information.'.format(self.__class__.__name__), UserWarning)\n"
     ]
    }
   ],
   "source": [
    "df_hpp = pd.read_csv('/data/2021_SJH_detectability/data_human/HPP.csv')[['peptide', 'Class']]\n",
    "\n",
    "pe1 = df_hpp.loc[df_hpp['Class']=='PE1'].rename({'peptide':'Seqs', 'Class':'Label'}, axis=1).reset_index(drop=True)\n",
    "dmp = df_hpp.loc[df_hpp['Class']=='Detected_MPs'].rename({'peptide':'Seqs', 'Class':'Label'}, axis=1).reset_index(drop=True)\n",
    "mp = df_hpp.loc[df_hpp['Class']=='MPs'].rename({'peptide':'Seqs', 'Class':'Label'}, axis=1).reset_index(drop=True)\n",
    "\n",
    "pe1['Label']=1\n",
    "dmp['Label']=1\n",
    "mp['Label']=0\n",
    "\n",
    "pe1.to_csv('RefModel/2021MDPI_CapsNet/pe1.csv', index=False)\n",
    "dmp.to_csv('RefModel/2021MDPI_CapsNet/dmp.csv', index=False)\n",
    "mp.to_csv('RefModel/2021MDPI_CapsNet/mp.csv', index=False)\n",
    "\n",
    "train1,val1,test1 = data.TabularDataset.splits(\n",
    "        path='RefModel/2021MDPI_CapsNet/', train='pe1.csv',validation='pe1.csv',test='pe1.csv', format='csv',skip_header=True,\n",
    "        fields=[('Seqs', TEXT), ('Label', LABEL)])\n",
    "# TEXT.build_vocab(train1,val1,test1)\n",
    "test_iter1 = data.BucketIterator(val1, batch_size=32, sort_key=lambda x: len(x.Seqs), \n",
    "                                 shuffle=True,device=DEVICE)\n",
    "\n",
    "train2,val2,test2 = data.TabularDataset.splits(\n",
    "        path='RefModel/2021MDPI_CapsNet/', train='dmp.csv',validation='dmp.csv',test='dmp.csv', format='csv',skip_header=True,\n",
    "        fields=[('Seqs', TEXT), ('Label', LABEL)])\n",
    "# TEXT.build_vocab(train2,val2,test2)\n",
    "test_iter2 = data.BucketIterator(val2, batch_size=32, sort_key=lambda x: len(x.Seqs), \n",
    "                                 shuffle=True,device=DEVICE)\n",
    "\n",
    "train3,val3,test3 = data.TabularDataset.splits(\n",
    "        path='RefModel/2021MDPI_CapsNet/', train='mp.csv',validation='mp.csv',test='mp.csv', format='csv',skip_header=True,\n",
    "        fields=[('Seqs', TEXT), ('Label', LABEL)])\n",
    "# TEXT.build_vocab(train3, val3,test3)\n",
    "test_iter3 = data.BucketIterator(val3, batch_size=32, sort_key=lambda x: len(x.Seqs), \n",
    "                                 shuffle=True,device=DEVICE)"
   ]
  },
  {
   "cell_type": "code",
   "execution_count": 11,
   "id": "9451ea6f",
   "metadata": {
    "ExecuteTime": {
     "end_time": "2022-12-16T15:12:26.966732Z",
     "start_time": "2022-12-16T15:12:04.315345Z"
    }
   },
   "outputs": [
    {
     "name": "stderr",
     "output_type": "stream",
     "text": [
      "/home/bis/miniconda3/envs/torch/lib/python3.6/site-packages/torchtext/data/batch.py:23: UserWarning: Batch class will be retired soon and moved to torchtext.legacy. Please see the most recent release notes for further information.\n",
      "  warnings.warn('{} class will be retired soon and moved to torchtext.legacy. Please see the most recent release notes for further information.'.format(self.__class__.__name__), UserWarning)\n"
     ]
    }
   ],
   "source": [
    "all_pred1 = []\n",
    "all_true1 = []\n",
    "all_p1 = []\n",
    "for batch_idx, batch in enumerate(test_iter1):\n",
    "        data = batch.Seqs\n",
    "        target = batch.Label\n",
    "        target = torch.sparse.torch.eye(n_class).index_select(dim=0, index=target.cpu().data)\n",
    "        target = target.to(DEVICE)\n",
    "        data = data.permute(1,0)\n",
    "        try:\n",
    "            out = model(data)\n",
    "        except:\n",
    "            print(data)\n",
    "        out = torch.sqrt(torch.sum(out*out, 2))\n",
    "        out1 = out[:,1]\n",
    "        _,y_pre = torch.max(out,-1)\n",
    "        \n",
    "        all_p1.extend(list(out1.cpu().detach().numpy()))\n",
    "        all_pred1.extend(list(y_pre.cpu().detach().numpy()))\n",
    "        all_true1.extend(list(batch.Label.cpu().detach().numpy()))"
   ]
  },
  {
   "cell_type": "code",
   "execution_count": 12,
   "id": "cb16b02c",
   "metadata": {
    "ExecuteTime": {
     "end_time": "2022-12-16T15:12:49.114062Z",
     "start_time": "2022-12-16T15:12:26.969589Z"
    }
   },
   "outputs": [],
   "source": [
    "all_pred2 = []\n",
    "all_true2 = []\n",
    "all_p2 = []\n",
    "for batch_idx, batch in enumerate(test_iter2):\n",
    "        data = batch.Seqs\n",
    "        target = batch.Label\n",
    "        target = torch.sparse.torch.eye(n_class).index_select(dim=0, index=target.cpu().data)\n",
    "        target = target.to(DEVICE)\n",
    "        data = data.permute(1,0)\n",
    "        out = model(data)\n",
    "        out = torch.sqrt(torch.sum(out*out, 2))\n",
    "        out1 = out[:,1]\n",
    "        _,y_pre = torch.max(out,-1)\n",
    "        \n",
    "        all_p2.extend(list(out1.cpu().detach().numpy()))\n",
    "        all_pred2.extend(list(y_pre.cpu().detach().numpy()))\n",
    "        all_true2.extend(list(batch.Label.cpu().detach().numpy()))"
   ]
  },
  {
   "cell_type": "code",
   "execution_count": 13,
   "id": "59f68582",
   "metadata": {
    "ExecuteTime": {
     "end_time": "2022-12-16T15:13:05.397323Z",
     "start_time": "2022-12-16T15:12:49.116520Z"
    }
   },
   "outputs": [],
   "source": [
    "all_pred3 = []\n",
    "all_true3 = []\n",
    "all_p3 = []\n",
    "for batch_idx, batch in enumerate(test_iter3):\n",
    "        data = batch.Seqs\n",
    "        target = batch.Label\n",
    "        target = torch.sparse.torch.eye(n_class).index_select(dim=0, index=target.cpu().data)\n",
    "        target = target.to(DEVICE)\n",
    "        data = data.permute(1,0)\n",
    "        out = model(data)\n",
    "        out = torch.sqrt(torch.sum(out*out, 2))\n",
    "        out1 = out[:,1]\n",
    "        _,y_pre = torch.max(out,-1)\n",
    "        \n",
    "        all_p3.extend(list(out1.cpu().detach().numpy()))\n",
    "        all_pred3.extend(list(y_pre.cpu().detach().numpy()))\n",
    "        all_true3.extend(list(batch.Label.cpu().detach().numpy()))"
   ]
  },
  {
   "cell_type": "code",
   "execution_count": 14,
   "id": "15ff78da",
   "metadata": {
    "ExecuteTime": {
     "end_time": "2022-12-16T15:13:05.603913Z",
     "start_time": "2022-12-16T15:13:05.399529Z"
    }
   },
   "outputs": [
    {
     "data": {
      "image/png": "[encoded data removed]",
      "text/plain": [
       "<Figure size 360x216 with 1 Axes>"
      ]
     },
     "metadata": {
      "needs_background": "light"
     },
     "output_type": "display_data"
    }
   ],
   "source": [
    "plt.figure(figsize=(5,3))\n",
    "a = plt.violinplot([list(map(lambda x: 1-x, all_p1)), \n",
    "                    list(map(lambda x: 1-x, all_p2)), \n",
    "                    list(map(lambda x: 1-x, all_p3))],\n",
    "               showmeans=True,\n",
    "              )\n",
    "plt.xticks([y + 1 for y in range(3)], ['PE1', 'Detected MPs', 'Current MPs'])\n",
    "plt.ylim(-0.05, 1.05)\n",
    "b = plt.grid(axis='y')\n",
    "plt.show()"
   ]
  },
  {
   "cell_type": "code",
   "execution_count": 15,
   "id": "a578b6ad",
   "metadata": {
    "ExecuteTime": {
     "end_time": "2022-12-16T15:13:24.972313Z",
     "start_time": "2022-12-16T15:13:24.858689Z"
    }
   },
   "outputs": [
    {
     "name": "stdout",
     "output_type": "stream",
     "text": [
      "TEST Accuracy : 0.6816912301808963\n",
      "TEST AUC : 0.7682903116654968\n",
      "              precision    recall  f1-score   support\n",
      "\n",
      "           0     0.4439    0.7445    0.5561      6234\n",
      "           1     0.8757    0.6587    0.7519     17039\n",
      "\n",
      "    accuracy                         0.6817     23273\n",
      "   macro avg     0.6598    0.7016    0.6540     23273\n",
      "weighted avg     0.7600    0.6817    0.6994     23273\n",
      "\n"
     ]
    }
   ],
   "source": [
    "hpp_pred = np.array(list(map(lambda x: 1-x, np.concatenate([all_pred1, all_pred2, all_pred3]))))\n",
    "hpp_true = np.concatenate([all_true1, all_true2, all_true3])\n",
    "hpp_prob = np.array(list(map(lambda x: 1-x, np.concatenate([all_p1, all_p2, all_p3]))))\n",
    "\n",
    "auc = roc_auc_score(hpp_true, hpp_prob)\n",
    "acc = metrics.accuracy_score(hpp_true,hpp_pred)\n",
    "print('TEST Accuracy : {}'.format(acc))\n",
    "print('TEST AUC : {}'.format(auc))\n",
    "print(classification_report(hpp_true, hpp_pred, digits=4))"
   ]
  },
  {
   "cell_type": "code",
   "execution_count": 19,
   "id": "7e37bc1a",
   "metadata": {
    "ExecuteTime": {
     "end_time": "2022-12-16T15:15:17.487363Z",
     "start_time": "2022-12-16T15:15:17.213236Z"
    }
   },
   "outputs": [
    {
     "data": {
      "image/png": "[encoded data removed]",
      "text/plain": [
       "<Figure size 288x288 with 1 Axes>"
      ]
     },
     "metadata": {
      "needs_background": "light"
     },
     "output_type": "display_data"
    },
    {
     "data": {
      "image/png": "[encoded data removed]",
      "text/plain": [
       "<Figure size 216x216 with 2 Axes>"
      ]
     },
     "metadata": {
      "needs_background": "light"
     },
     "output_type": "display_data"
    }
   ],
   "source": [
    "plt.figure(figsize=(4, 4))\n",
    "fpr, tpr, threshold = roc_curve(hpp_true, hpp_prob)\n",
    "plt.plot(fpr, tpr, marker='.', label='AUC = {:.4f}'.format(auc), color='orange')\n",
    "plt.title('ROC curve')\n",
    "plt.xlabel('False Positive Rate')\n",
    "plt.ylabel('True Positive Rate')\n",
    "plt.legend()\n",
    "plt.show()\n",
    "\n",
    "cf_matrix = confusion_matrix(hpp_true, hpp_pred)\n",
    "plt.figure(figsize=(3, 3))\n",
    "sns.heatmap(cf_matrix, annot=True, fmt=',.0f')\n",
    "plt.show()"
   ]
  },
  {
   "cell_type": "code",
   "execution_count": 21,
   "id": "63cf8b1b",
   "metadata": {
    "ExecuteTime": {
     "end_time": "2022-12-16T15:17:39.136764Z",
     "start_time": "2022-12-16T15:17:39.131649Z"
    }
   },
   "outputs": [],
   "source": [
    "np.save('log/result_HPP_CapsNet_fpr.npy', fpr)\n",
    "np.save('log/result_HPP_CapsNet_tpr.npy', tpr)\n",
    "np.save('log/result_HPP_CapsNet_threshold.npy', threshold)\n",
    "np.save('log/result_HPP_CapsNet_prob.npy', hpp_prob)\n",
    "np.save('log/result_HPP_CapsNet_true.npy', hpp_true)"
   ]
  },
  {
   "cell_type": "markdown",
   "id": "8d215190",
   "metadata": {},
   "source": [
    "# Cross species - Mouse"
   ]
  },
  {
   "cell_type": "code",
   "execution_count": 23,
   "id": "6c0d912d",
   "metadata": {
    "ExecuteTime": {
     "end_time": "2022-12-16T16:40:01.860661Z",
     "start_time": "2022-12-16T15:22:43.580412Z"
    },
    "scrolled": false
   },
   "outputs": [
    {
     "name": "stdout",
     "output_type": "stream",
     "text": [
      "TEST Accuracy : 0.8001168880054416\n",
      "TEST AUC : 0.8306138344213212\n",
      "              precision    recall  f1-score   support\n",
      "\n",
      "           0     0.9810    0.8050    0.8843   1436852\n",
      "           1     0.1640    0.7103    0.2665     77418\n",
      "\n",
      "    accuracy                         0.8001   1514270\n",
      "   macro avg     0.5725    0.7576    0.5754   1514270\n",
      "weighted avg     0.9392    0.8001    0.8527   1514270\n",
      "\n"
     ]
    },
    {
     "data": {
      "image/png": "[encoded data removed]",
      "text/plain": [
       "<Figure size 288x288 with 1 Axes>"
      ]
     },
     "metadata": {
      "needs_background": "light"
     },
     "output_type": "display_data"
    },
    {
     "data": {
      "image/png": "[encoded data removed]",
      "text/plain": [
       "<Figure size 216x216 with 2 Axes>"
      ]
     },
     "metadata": {
      "needs_background": "light"
     },
     "output_type": "display_data"
    }
   ],
   "source": [
    "from torchtext import data, datasets\n",
    "\n",
    "tmp = pd.concat([\n",
    "    pd.read_csv('/data/2021_SJH_detectability/data_cross_species/raw/mouse/KLife/train.csv'),\n",
    "    pd.read_csv('/data/2021_SJH_detectability/data_cross_species/raw/mouse/KLife/test.csv'),\n",
    "])[['peptide', 'label']]  # .drop_duplicates()\n",
    "tmp = tmp[tmp.peptide.apply(lambda x: 'B' not in x)].reset_index(drop=True)\n",
    "tmp = tmp[tmp.peptide.apply(lambda x: 'Z' not in x)].reset_index(drop=True)\n",
    "tmp = tmp.rename({'peptide': 'Seq','label': 'Label'}, axis=1)\n",
    "tmp['Label'] = tmp.Label.apply(lambda x: {True: 1, False:0}[x])\n",
    "\n",
    "tmp.to_csv('RefModel/2021MDPI_CapsNet/mouse_KLife.csv', index=False)\n",
    "\n",
    "train1,val1,test1 = data.TabularDataset.splits(\n",
    "        path='RefModel/2021MDPI_CapsNet/', train='mouse_KLife.csv',validation='mouse_KLife.csv',test='mouse_KLife.csv', format='csv',skip_header=True,\n",
    "        fields=[('Seqs', TEXT), ('Label', LABEL)])\n",
    "# TEXT.build_vocab(train1,val1,test1)\n",
    "test_iter = data.BucketIterator(val1, batch_size=32, sort_key=lambda x: len(x.Seqs), \n",
    "                                 shuffle=True,device=DEVICE)\n",
    "\n",
    "all_pred1 = []\n",
    "all_true1 = []\n",
    "all_p1 = []\n",
    "\n",
    "for batch_idx, batch in enumerate(test_iter):\n",
    "    data = batch.Seqs\n",
    "    data = data.permute(1, 0)\n",
    "    \n",
    "    out = model(data)\n",
    "    out = torch.sqrt(torch.sum(out * out, 2))\n",
    "    out1 = out[:, 1]\n",
    "    _, y_pre = torch.max(out, -1)\n",
    "    all_p1.extend(list(out1.cpu().detach().numpy()))\n",
    "    all_pred1.extend(list(y_pre.cpu().detach().numpy()))\n",
    "    all_true1.extend(list(batch.Label.cpu().detach().numpy()))\n",
    "\n",
    "all_pred1 = np.array(list(map(lambda x: 1-x, np.array(all_pred1))))\n",
    "all_true1 = np.array(all_true1)\n",
    "all_p1 = np.array(list(map(lambda x: 1-x, np.array(all_p1))))\n",
    "\n",
    "auc = roc_auc_score(all_true1, all_p1)\n",
    "acc = metrics.accuracy_score(all_true1,all_pred1)\n",
    "print('TEST Accuracy : {}'.format(acc))\n",
    "print('TEST AUC : {}'.format(auc))\n",
    "print(classification_report(all_true1, all_pred1, digits=4))\n",
    "\n",
    "plt.figure(figsize=(4, 4))\n",
    "fpr, tpr, threshold = roc_curve(all_true1, all_p1)\n",
    "plt.plot(fpr, tpr, marker='.', label='AUC = {:.4f}'.format(auc), color='orange')\n",
    "plt.title('ROC curve')\n",
    "plt.xlabel('False Positive Rate')\n",
    "plt.ylabel('True Positive Rate')\n",
    "plt.legend()\n",
    "plt.show()\n",
    "\n",
    "cf_matrix = confusion_matrix(all_true1, all_pred1)\n",
    "plt.figure(figsize=(3, 3))\n",
    "sns.heatmap(cf_matrix, annot=True, fmt=',.0f')\n",
    "plt.show()\n",
    "\n",
    "np.save('log/result_mouse_KLife_CapsNet_fpr.npy', fpr)\n",
    "np.save('log/result_mouse_KLife_CapsNet_tpr.npy', tpr)\n",
    "np.save('log/result_mouse_KLife_CapsNet_threshold.npy', threshold)\n",
    "np.save('log/result_mouse_KLife_CapsNet_prob.npy', all_p1)\n",
    "np.save('log/result_mouse_KLife_CapsNet_true.npy', all_true1)"
   ]
  },
  {
   "cell_type": "code",
   "execution_count": 5,
   "id": "95fc3e24",
   "metadata": {
    "ExecuteTime": {
     "end_time": "2023-03-20T02:03:00.365810Z",
     "start_time": "2023-03-19T17:51:04.476204Z"
    },
    "scrolled": false
   },
   "outputs": [
    {
     "name": "stderr",
     "output_type": "stream",
     "text": [
      "/home/bis/miniconda3/envs/torch/lib/python3.6/site-packages/torchtext/data/example.py:68: UserWarning: Example class will be retired soon and moved to torchtext.legacy. Please see the most recent release notes for further information.\n",
      "  warnings.warn('Example class will be retired soon and moved to torchtext.legacy. Please see the most recent release notes for further information.', UserWarning)\n",
      "/home/bis/miniconda3/envs/torch/lib/python3.6/site-packages/torchtext/data/example.py:78: UserWarning: Example class will be retired soon and moved to torchtext.legacy. Please see the most recent release notes for further information.\n",
      "  warnings.warn('Example class will be retired soon and moved to torchtext.legacy. Please see the most recent release notes for further information.', UserWarning)\n",
      "/home/bis/miniconda3/envs/torch/lib/python3.6/site-packages/torchtext/data/iterator.py:48: UserWarning: BucketIterator class will be retired soon and moved to torchtext.legacy. Please see the most recent release notes for further information.\n",
      "  warnings.warn('{} class will be retired soon and moved to torchtext.legacy. Please see the most recent release notes for further information.'.format(self.__class__.__name__), UserWarning)\n",
      "/home/bis/miniconda3/envs/torch/lib/python3.6/site-packages/torchtext/data/batch.py:23: UserWarning: Batch class will be retired soon and moved to torchtext.legacy. Please see the most recent release notes for further information.\n",
      "  warnings.warn('{} class will be retired soon and moved to torchtext.legacy. Please see the most recent release notes for further information.'.format(self.__class__.__name__), UserWarning)\n"
     ]
    },
    {
     "name": "stdout",
     "output_type": "stream",
     "text": [
      "TEST Accuracy : 0.8019361901100669\n",
      "TEST AUC : 0.8321528393964103\n",
      "              precision    recall  f1-score   support\n",
      "\n",
      "           0     0.9799    0.8069    0.8850   1385973\n",
      "           1     0.1785    0.7168    0.2859     81135\n",
      "\n",
      "    accuracy                         0.8019   1467108\n",
      "   macro avg     0.5792    0.7619    0.5854   1467108\n",
      "weighted avg     0.9356    0.8019    0.8519   1467108\n",
      "\n"
     ]
    },
    {
     "data": {
      "image/png": "[encoded data removed]",
      "text/plain": [
       "<Figure size 288x288 with 1 Axes>"
      ]
     },
     "metadata": {
      "needs_background": "light"
     },
     "output_type": "display_data"
    },
    {
     "data": {
      "image/png": "[encoded data removed]",
      "text/plain": [
       "<Figure size 216x216 with 2 Axes>"
      ]
     },
     "metadata": {
      "needs_background": "light"
     },
     "output_type": "display_data"
    }
   ],
   "source": [
    "from torchtext import data, datasets\n",
    "\n",
    "tmp = pd.read_csv('/data/2021_SJH_detectability/diff_tool/mouse_eph4/data.csv')[['peptide', 'label']]  # .drop_duplicates()\n",
    "tmp = tmp[tmp.peptide.apply(lambda x: 'B' not in x)].reset_index(drop=True)\n",
    "tmp = tmp[tmp.peptide.apply(lambda x: 'Z' not in x)].reset_index(drop=True)\n",
    "tmp = tmp.rename({'peptide': 'Seq','label': 'Label'}, axis=1)\n",
    "tmp['Label'] = tmp.Label.apply(lambda x: {True: 1, False:0}[x])\n",
    "\n",
    "tmp.to_csv('RefModel/2021MDPI_CapsNet/mouse_KLife_msgf.csv', index=False)\n",
    "\n",
    "train1,val1,test1 = data.TabularDataset.splits(\n",
    "        path='RefModel/2021MDPI_CapsNet/', train='mouse_KLife_msgf.csv',validation='mouse_KLife_msgf.csv',test='mouse_KLife_msgf.csv', format='csv',skip_header=True,\n",
    "        fields=[('Seqs', TEXT), ('Label', LABEL)])\n",
    "# TEXT.build_vocab(train1,val1,test1)\n",
    "test_iter = data.BucketIterator(val1, batch_size=32, sort_key=lambda x: len(x.Seqs), \n",
    "                                 shuffle=True,device=DEVICE)\n",
    "\n",
    "all_pred1 = []\n",
    "all_true1 = []\n",
    "all_p1 = []\n",
    "\n",
    "for batch_idx, batch in enumerate(test_iter):\n",
    "    data = batch.Seqs\n",
    "    data = data.permute(1, 0)\n",
    "    \n",
    "    out = model(data)\n",
    "    out = torch.sqrt(torch.sum(out * out, 2))\n",
    "    out1 = out[:, 1]\n",
    "    _, y_pre = torch.max(out, -1)\n",
    "    all_p1.extend(list(out1.cpu().detach().numpy()))\n",
    "    all_pred1.extend(list(y_pre.cpu().detach().numpy()))\n",
    "    all_true1.extend(list(batch.Label.cpu().detach().numpy()))\n",
    "\n",
    "all_pred1 = np.array(list(map(lambda x: 1-x, np.array(all_pred1))))\n",
    "all_true1 = np.array(all_true1)\n",
    "all_p1 = np.array(list(map(lambda x: 1-x, np.array(all_p1))))\n",
    "\n",
    "auc = roc_auc_score(all_true1, all_p1)\n",
    "acc = metrics.accuracy_score(all_true1,all_pred1)\n",
    "print('TEST Accuracy : {}'.format(acc))\n",
    "print('TEST AUC : {}'.format(auc))\n",
    "print(classification_report(all_true1, all_pred1, digits=4))\n",
    "\n",
    "plt.figure(figsize=(4, 4))\n",
    "fpr, tpr, threshold = roc_curve(all_true1, all_p1)\n",
    "plt.plot(fpr, tpr, marker='.', label='AUC = {:.4f}'.format(auc), color='orange')\n",
    "plt.title('ROC curve')\n",
    "plt.xlabel('False Positive Rate')\n",
    "plt.ylabel('True Positive Rate')\n",
    "plt.legend()\n",
    "plt.show()\n",
    "\n",
    "cf_matrix = confusion_matrix(all_true1, all_pred1)\n",
    "plt.figure(figsize=(3, 3))\n",
    "sns.heatmap(cf_matrix, annot=True, fmt=',.0f')\n",
    "plt.show()\n",
    "\n",
    "np.save('log/result_mouse_msgf_KLife_CapsNet_fpr.npy', fpr)\n",
    "np.save('log/result_mouse_msgf_KLife_CapsNet_tpr.npy', tpr)\n",
    "np.save('log/result_mouse_msgf_KLife_CapsNet_threshold.npy', threshold)\n",
    "np.save('log/result_mouse_msgf_KLife_CapsNet_prob.npy', all_p1)\n",
    "np.save('log/result_mouse_msgf_KLife_CapsNet_true.npy', all_true1)"
   ]
  },
  {
   "cell_type": "code",
   "execution_count": null,
   "id": "0fb386ef",
   "metadata": {
    "ExecuteTime": {
     "start_time": "2023-03-20T15:11:51.956Z"
    },
    "scrolled": false
   },
   "outputs": [
    {
     "name": "stderr",
     "output_type": "stream",
     "text": [
      "/home/bis/miniconda3/envs/torch/lib/python3.6/site-packages/torchtext/data/iterator.py:48: UserWarning: BucketIterator class will be retired soon and moved to torchtext.legacy. Please see the most recent release notes for further information.\n",
      "  warnings.warn('{} class will be retired soon and moved to torchtext.legacy. Please see the most recent release notes for further information.'.format(self.__class__.__name__), UserWarning)\n",
      "/home/bis/miniconda3/envs/torch/lib/python3.6/site-packages/torchtext/data/batch.py:23: UserWarning: Batch class will be retired soon and moved to torchtext.legacy. Please see the most recent release notes for further information.\n",
      "  warnings.warn('{} class will be retired soon and moved to torchtext.legacy. Please see the most recent release notes for further information.'.format(self.__class__.__name__), UserWarning)\n"
     ]
    }
   ],
   "source": [
    "from torchtext import data, datasets\n",
    "\n",
    "tmp = pd.read_csv('/data/2021_SJH_detectability/diff_tool/mouse_eph4/data.csv')[['peptide', 'label']]  # .drop_duplicates()\n",
    "tmp = tmp[tmp.peptide.apply(lambda x: 'B' not in x)].reset_index(drop=True)\n",
    "tmp = tmp[tmp.peptide.apply(lambda x: 'Z' not in x)].reset_index(drop=True)\n",
    "tmp = tmp.rename({'peptide': 'Seq','label': 'Label'}, axis=1)\n",
    "tmp['Label'] = tmp.Label.apply(lambda x: {True: 1, False:0}[x])\n",
    "\n",
    "tmp.to_csv('RefModel/2021MDPI_CapsNet/mouse_KLife_msgf.csv', index=False)\n",
    "\n",
    "train1,val1,test1 = data.TabularDataset.splits(\n",
    "        path='RefModel/2021MDPI_CapsNet/', train='mouse_KLife_msgf.csv',validation='mouse_KLife_msgf.csv',test='mouse_KLife_msgf.csv', format='csv',skip_header=True,\n",
    "        fields=[('Seqs', TEXT), ('Label', LABEL)])\n",
    "# TEXT.build_vocab(train1,val1,test1)\n",
    "test_iter = data.BucketIterator(val1, batch_size=32, sort_key=lambda x: len(x.Seqs), \n",
    "                                 shuffle=True,device=DEVICE)\n",
    "\n",
    "all_pred1 = []\n",
    "all_true1 = []\n",
    "all_p1 = []\n",
    "\n",
    "for batch_idx, batch in enumerate(test_iter):\n",
    "    data = batch.Seqs\n",
    "    data = data.permute(1, 0)\n",
    "    \n",
    "    out = model(data)\n",
    "    out = torch.sqrt(torch.sum(out * out, 2))\n",
    "    out1 = out[:, 0]  # original model : 0 is Detectable peptide\n",
    "    _, y_pre = torch.max(out, -1)\n",
    "    all_p1.extend(list(out1.cpu().detach().numpy()))\n",
    "    all_pred1.extend(list(y_pre.cpu().detach().numpy()))\n",
    "    all_true1.extend(list(batch.Label.cpu().detach().numpy()))\n",
    "\n",
    "all_pred1 = np.array(list(map(lambda x: x, np.array(all_pred1))))\n",
    "all_true1 = np.array(all_true1)\n",
    "all_p1 = np.array(list(map(lambda x: x, np.array(all_p1))))\n",
    "\n",
    "auc = roc_auc_score(all_true1, all_p1)\n",
    "acc = metrics.accuracy_score(all_true1,all_pred1)\n",
    "print('TEST Accuracy : {}'.format(acc))\n",
    "print('TEST AUC : {}'.format(auc))\n",
    "print(classification_report(all_true1, all_pred1, digits=4))\n",
    "\n",
    "plt.figure(figsize=(4, 4))\n",
    "fpr, tpr, threshold = roc_curve(all_true1, all_p1)\n",
    "plt.plot(fpr, tpr, marker='.', label='AUC = {:.4f}'.format(auc), color='orange')\n",
    "plt.title('ROC curve')\n",
    "plt.xlabel('False Positive Rate')\n",
    "plt.ylabel('True Positive Rate')\n",
    "plt.legend()\n",
    "plt.show()\n",
    "\n",
    "cf_matrix = confusion_matrix(all_true1, all_pred1)\n",
    "plt.figure(figsize=(3, 3))\n",
    "sns.heatmap(cf_matrix, annot=True, fmt=',.0f')\n",
    "plt.show()\n",
    "\n",
    "np.save('log/result_mouse_msgf_KLife_CapsNet_fpr.npy', fpr)\n",
    "np.save('log/result_mouse_msgf_KLife_CapsNet_tpr.npy', tpr)\n",
    "np.save('log/result_mouse_msgf_KLife_CapsNet_threshold.npy', threshold)\n",
    "np.save('log/result_mouse_msgf_KLife_CapsNet_prob.npy', all_p1)\n",
    "np.save('log/result_mouse_msgf_KLife_CapsNet_true.npy', all_true1)\n",
    "\n",
    "# 결과 같은지 확인만"
   ]
  },
  {
   "cell_type": "code",
   "execution_count": 24,
   "id": "aa170021",
   "metadata": {
    "ExecuteTime": {
     "end_time": "2022-12-16T17:46:36.841635Z",
     "start_time": "2022-12-16T16:40:01.863213Z"
    }
   },
   "outputs": [
    {
     "name": "stderr",
     "output_type": "stream",
     "text": [
      "/home/bis/miniconda3/envs/torch/lib/python3.6/site-packages/torchtext/data/example.py:68: UserWarning: Example class will be retired soon and moved to torchtext.legacy. Please see the most recent release notes for further information.\n",
      "  warnings.warn('Example class will be retired soon and moved to torchtext.legacy. Please see the most recent release notes for further information.', UserWarning)\n",
      "/home/bis/miniconda3/envs/torch/lib/python3.6/site-packages/torchtext/data/example.py:78: UserWarning: Example class will be retired soon and moved to torchtext.legacy. Please see the most recent release notes for further information.\n",
      "  warnings.warn('Example class will be retired soon and moved to torchtext.legacy. Please see the most recent release notes for further information.', UserWarning)\n",
      "/home/bis/miniconda3/envs/torch/lib/python3.6/site-packages/torchtext/data/iterator.py:48: UserWarning: BucketIterator class will be retired soon and moved to torchtext.legacy. Please see the most recent release notes for further information.\n",
      "  warnings.warn('{} class will be retired soon and moved to torchtext.legacy. Please see the most recent release notes for further information.'.format(self.__class__.__name__), UserWarning)\n",
      "/home/bis/miniconda3/envs/torch/lib/python3.6/site-packages/torchtext/data/batch.py:23: UserWarning: Batch class will be retired soon and moved to torchtext.legacy. Please see the most recent release notes for further information.\n",
      "  warnings.warn('{} class will be retired soon and moved to torchtext.legacy. Please see the most recent release notes for further information.'.format(self.__class__.__name__), UserWarning)\n"
     ]
    },
    {
     "name": "stdout",
     "output_type": "stream",
     "text": [
      "TEST Accuracy : 0.20823990862460748\n",
      "TEST AUC : 0.1978843571732306\n",
      "              precision    recall  f1-score   support\n",
      "\n",
      "           0     0.8479    0.2006    0.3244   1257928\n",
      "           1     0.0234    0.3472    0.0438     69344\n",
      "\n",
      "    accuracy                         0.2082   1327272\n",
      "   macro avg     0.4356    0.2739    0.1841   1327272\n",
      "weighted avg     0.8048    0.2082    0.3098   1327272\n",
      "\n"
     ]
    },
    {
     "data": {
      "image/png": "[encoded data removed]",
      "text/plain": [
       "<Figure size 288x288 with 1 Axes>"
      ]
     },
     "metadata": {
      "needs_background": "light"
     },
     "output_type": "display_data"
    },
    {
     "data": {
      "image/png": "[encoded data removed]",
      "text/plain": [
       "<Figure size 216x216 with 2 Axes>"
      ]
     },
     "metadata": {
      "needs_background": "light"
     },
     "output_type": "display_data"
    }
   ],
   "source": [
    "from torchtext import data, datasets\n",
    "\n",
    "tmp = pd.concat([\n",
    "    pd.read_csv('/data/2021_SJH_detectability/data_cross_species/raw/mouse/SkeletaMuscle/train.csv'),\n",
    "    pd.read_csv('/data/2021_SJH_detectability/data_cross_species/raw/mouse/SkeletaMuscle/test.csv'),\n",
    "])[['peptide', 'label']]  # .drop_duplicates()\n",
    "tmp = tmp[tmp.peptide.apply(lambda x: 'B' not in x)].reset_index(drop=True)\n",
    "tmp = tmp[tmp.peptide.apply(lambda x: 'Z' not in x)].reset_index(drop=True)\n",
    "tmp = tmp.rename({'peptide': 'Seq','label': 'Label'}, axis=1)\n",
    "tmp['Label'] = tmp.Label.apply(lambda x: {True: 1, False:0}[x])\n",
    "\n",
    "tmp.to_csv('RefModel/2021MDPI_CapsNet/mouse_SkeletaMuscle.csv', index=False)\n",
    "\n",
    "train1,val1,test1 = data.TabularDataset.splits(\n",
    "        path='RefModel/2021MDPI_CapsNet/', train='mouse_SkeletaMuscle.csv',validation='mouse_SkeletaMuscle.csv',test='mouse_SkeletaMuscle.csv', format='csv',skip_header=True,\n",
    "        fields=[('Seqs', TEXT), ('Label', LABEL)])\n",
    "# TEXT.build_vocab(train1,val1,test1)\n",
    "test_iter = data.BucketIterator(val1, batch_size=32, sort_key=lambda x: len(x.Seqs), \n",
    "                                 shuffle=True,device=DEVICE)\n",
    "\n",
    "all_pred1 = []\n",
    "all_true1 = []\n",
    "all_p1 = []\n",
    "\n",
    "for batch_idx, batch in enumerate(test_iter):\n",
    "    data = batch.Seqs\n",
    "    data = data.permute(1, 0)\n",
    "    \n",
    "    out = model(data)\n",
    "    out = torch.sqrt(torch.sum(out * out, 2))\n",
    "    out1 = out[:, 1]\n",
    "    _, y_pre = torch.max(out, -1)\n",
    "    all_p1.extend(list(out1.cpu().detach().numpy()))\n",
    "    all_pred1.extend(list(y_pre.cpu().detach().numpy()))\n",
    "    all_true1.extend(list(batch.Label.cpu().detach().numpy()))\n",
    "    \n",
    "auc = roc_auc_score(all_true1, all_p1)\n",
    "acc = metrics.accuracy_score(all_true1,all_pred1)\n",
    "print('TEST Accuracy : {}'.format(acc))\n",
    "print('TEST AUC : {}'.format(auc))\n",
    "print(classification_report(all_true1, all_pred1, digits=4))\n",
    "\n",
    "all_pred1 = np.array(list(map(lambda x: 1-x, np.array(all_pred1))))\n",
    "all_true1 = np.array(all_true1)\n",
    "all_p1 = np.array(list(map(lambda x: 1-x, np.array(all_p1))))\n",
    "\n",
    "plt.figure(figsize=(4, 4))\n",
    "fpr, tpr, threshold = roc_curve(all_true1, all_p1)\n",
    "plt.plot(fpr, tpr, marker='.', label='AUC = {:.4f}'.format(auc), color='orange')\n",
    "plt.title('ROC curve')\n",
    "plt.xlabel('False Positive Rate')\n",
    "plt.ylabel('True Positive Rate')\n",
    "plt.legend()\n",
    "plt.show()\n",
    "\n",
    "cf_matrix = confusion_matrix(all_true1, all_pred1)\n",
    "plt.figure(figsize=(3, 3))\n",
    "sns.heatmap(cf_matrix, annot=True, fmt=',.0f')\n",
    "plt.show()\n",
    "\n",
    "np.save('log/result_mouse_SkeletaMuscle_CapsNet_fpr.npy', fpr)\n",
    "np.save('log/result_mouse_SkeletaMuscle_CapsNet_tpr.npy', tpr)\n",
    "np.save('log/result_mouse_SkeletaMuscle_CapsNet_threshold.npy', threshold)\n",
    "np.save('log/result_mouse_SkeletaMuscle_CapsNet_prob.npy', all_p1)\n",
    "np.save('log/result_mouse_SkeletaMuscle_CapsNet_true.npy', all_true1)"
   ]
  },
  {
   "cell_type": "code",
   "execution_count": null,
   "id": "16c50c2b",
   "metadata": {
    "ExecuteTime": {
     "start_time": "2023-03-20T15:12:15.332Z"
    }
   },
   "outputs": [],
   "source": [
    "from torchtext import data, datasets\n",
    "\n",
    "tmp = pd.read_csv('/data/2021_SJH_detectability/diff_tool/mouse_tmuscle/data.csv')[['peptide', 'label']]  # .drop_duplicates()\n",
    "tmp = tmp[tmp.peptide.apply(lambda x: 'B' not in x)].reset_index(drop=True)\n",
    "tmp = tmp[tmp.peptide.apply(lambda x: 'Z' not in x)].reset_index(drop=True)\n",
    "tmp = tmp.rename({'peptide': 'Seq','label': 'Label'}, axis=1)\n",
    "tmp['Label'] = tmp.Label.apply(lambda x: {True: 1, False:0}[x])\n",
    "\n",
    "tmp.to_csv('RefModel/2021MDPI_CapsNet/mouse_SkeletaMuscle_msgf.csv', index=False)\n",
    "\n",
    "train1,val1,test1 = data.TabularDataset.splits(\n",
    "        path='RefModel/2021MDPI_CapsNet/', train='mouse_SkeletaMuscle_msgf.csv',validation='mouse_SkeletaMuscle_msgf.csv',test='mouse_SkeletaMuscle_msgf.csv', format='csv',skip_header=True,\n",
    "        fields=[('Seqs', TEXT), ('Label', LABEL)])\n",
    "# TEXT.build_vocab(train1,val1,test1)\n",
    "test_iter = data.BucketIterator(val1, batch_size=32, sort_key=lambda x: len(x.Seqs), \n",
    "                                 shuffle=True,device=DEVICE)\n",
    "\n",
    "all_pred1 = []\n",
    "all_true1 = []\n",
    "all_p1 = []\n",
    "\n",
    "for batch_idx, batch in enumerate(test_iter):\n",
    "    data = batch.Seqs\n",
    "    data = data.permute(1, 0)\n",
    "    \n",
    "    out = model(data)\n",
    "    out = torch.sqrt(torch.sum(out * out, 2))\n",
    "    out1 = out[:, 0]\n",
    "    _, y_pre = torch.max(out, -1)\n",
    "    all_p1.extend(list(out1.cpu().detach().numpy()))\n",
    "    all_pred1.extend(list(y_pre.cpu().detach().numpy()))\n",
    "    all_true1.extend(list(batch.Label.cpu().detach().numpy()))\n",
    "    \n",
    "auc = roc_auc_score(all_true1, all_p1)\n",
    "acc = metrics.accuracy_score(all_true1,all_pred1)\n",
    "print('TEST Accuracy : {}'.format(acc))\n",
    "print('TEST AUC : {}'.format(auc))\n",
    "print(classification_report(all_true1, all_pred1, digits=4))\n",
    "\n",
    "all_pred1 = np.array(list(map(lambda x: x, np.array(all_pred1))))\n",
    "all_true1 = np.array(all_true1)\n",
    "all_p1 = np.array(list(map(lambda x: x, np.array(all_p1))))\n",
    "\n",
    "plt.figure(figsize=(4, 4))\n",
    "fpr, tpr, threshold = roc_curve(all_true1, all_p1)\n",
    "plt.plot(fpr, tpr, marker='.', label='AUC = {:.4f}'.format(auc), color='orange')\n",
    "plt.title('ROC curve')\n",
    "plt.xlabel('False Positive Rate')\n",
    "plt.ylabel('True Positive Rate')\n",
    "plt.legend()\n",
    "plt.show()\n",
    "\n",
    "cf_matrix = confusion_matrix(all_true1, all_pred1)\n",
    "plt.figure(figsize=(3, 3))\n",
    "sns.heatmap(cf_matrix, annot=True, fmt=',.0f')\n",
    "plt.show()\n",
    "\n",
    "np.save('log/result_mouse_msgf_SkeletaMuscle_CapsNet_fpr.npy', fpr)\n",
    "np.save('log/result_mouse_msgf_SkeletaMuscle_CapsNet_tpr.npy', tpr)\n",
    "np.save('log/result_mouse_msgf_SkeletaMuscle_CapsNet_threshold.npy', threshold)\n",
    "np.save('log/result_mouse_msgf_SkeletaMuscle_CapsNet_prob.npy', all_p1)\n",
    "np.save('log/result_mouse_msgf_SkeletaMuscle_CapsNet_true.npy', all_true1)"
   ]
  },
  {
   "cell_type": "markdown",
   "id": "7a25ec21",
   "metadata": {},
   "source": [
    "# Cross species - Human"
   ]
  },
  {
   "cell_type": "code",
   "execution_count": 25,
   "id": "34ff0aae",
   "metadata": {
    "ExecuteTime": {
     "end_time": "2022-12-16T19:19:22.752926Z",
     "start_time": "2022-12-16T17:46:36.843866Z"
    },
    "scrolled": false
   },
   "outputs": [
    {
     "name": "stderr",
     "output_type": "stream",
     "text": [
      "/home/bis/miniconda3/envs/torch/lib/python3.6/site-packages/torchtext/data/example.py:68: UserWarning: Example class will be retired soon and moved to torchtext.legacy. Please see the most recent release notes for further information.\n",
      "  warnings.warn('Example class will be retired soon and moved to torchtext.legacy. Please see the most recent release notes for further information.', UserWarning)\n",
      "/home/bis/miniconda3/envs/torch/lib/python3.6/site-packages/torchtext/data/example.py:78: UserWarning: Example class will be retired soon and moved to torchtext.legacy. Please see the most recent release notes for further information.\n",
      "  warnings.warn('Example class will be retired soon and moved to torchtext.legacy. Please see the most recent release notes for further information.', UserWarning)\n",
      "/home/bis/miniconda3/envs/torch/lib/python3.6/site-packages/torchtext/data/iterator.py:48: UserWarning: BucketIterator class will be retired soon and moved to torchtext.legacy. Please see the most recent release notes for further information.\n",
      "  warnings.warn('{} class will be retired soon and moved to torchtext.legacy. Please see the most recent release notes for further information.'.format(self.__class__.__name__), UserWarning)\n",
      "/home/bis/miniconda3/envs/torch/lib/python3.6/site-packages/torchtext/data/batch.py:23: UserWarning: Batch class will be retired soon and moved to torchtext.legacy. Please see the most recent release notes for further information.\n",
      "  warnings.warn('{} class will be retired soon and moved to torchtext.legacy. Please see the most recent release notes for further information.'.format(self.__class__.__name__), UserWarning)\n"
     ]
    },
    {
     "name": "stdout",
     "output_type": "stream",
     "text": [
      "TEST Accuracy : 0.799697373563276\n",
      "TEST AUC : 0.8034829787361495\n",
      "              precision    recall  f1-score   support\n",
      "\n",
      "           0     0.9684    0.8119    0.8833   1862789\n",
      "           1     0.1927    0.6285    0.2950    133071\n",
      "\n",
      "    accuracy                         0.7997   1995860\n",
      "   macro avg     0.5805    0.7202    0.5891   1995860\n",
      "weighted avg     0.9166    0.7997    0.8440   1995860\n",
      "\n"
     ]
    },
    {
     "data": {
      "image/png": "[encoded data removed]",
      "text/plain": [
       "<Figure size 288x288 with 1 Axes>"
      ]
     },
     "metadata": {
      "needs_background": "light"
     },
     "output_type": "display_data"
    },
    {
     "data": {
      "image/png": "[encoded data removed]",
      "text/plain": [
       "<Figure size 216x216 with 2 Axes>"
      ]
     },
     "metadata": {
      "needs_background": "light"
     },
     "output_type": "display_data"
    }
   ],
   "source": [
    "from torchtext import data, datasets\n",
    "\n",
    "tmp = pd.concat([\n",
    "    pd.read_csv('/data/2021_SJH_detectability/data_cross_species/raw/human/HEK293/train.csv'),\n",
    "    pd.read_csv('/data/2021_SJH_detectability/data_cross_species/raw/human/HEK293/test.csv'),\n",
    "])[['peptide', 'label']]#.drop_duplicates()\n",
    "tmp = tmp[tmp.peptide.apply(lambda x: 'B' not in x)].reset_index(drop=True)\n",
    "tmp = tmp[tmp.peptide.apply(lambda x: 'Z' not in x)].reset_index(drop=True)\n",
    "tmp = tmp.rename({'peptide': 'Seq','label': 'Label'}, axis=1)\n",
    "tmp['Label'] = tmp.Label.apply(lambda x: {True: 1, False:0}[x])\n",
    "\n",
    "tmp.to_csv('RefModel/2021MDPI_CapsNet/human_HEK293.csv', index=False)\n",
    "\n",
    "train1,val1,test1 = data.TabularDataset.splits(\n",
    "        path='RefModel/2021MDPI_CapsNet/', train='human_HEK293.csv',validation='human_HEK293.csv',test='human_HEK293.csv', format='csv',skip_header=True,\n",
    "        fields=[('Seqs', TEXT), ('Label', LABEL)])\n",
    "# TEXT.build_vocab(train1,val1,test1)\n",
    "test_iter = data.BucketIterator(val1, batch_size=32, sort_key=lambda x: len(x.Seqs), \n",
    "                                 shuffle=True,device=DEVICE)\n",
    "\n",
    "all_pred1 = []\n",
    "all_true1 = []\n",
    "all_p1 = []\n",
    "\n",
    "for batch_idx, batch in enumerate(test_iter):\n",
    "    data = batch.Seqs\n",
    "    data = data.permute(1, 0)\n",
    "    \n",
    "    out = model(data)\n",
    "    out = torch.sqrt(torch.sum(out * out, 2))\n",
    "    out1 = out[:, 1]\n",
    "    _, y_pre = torch.max(out, -1)\n",
    "    all_p1.extend(list(out1.cpu().detach().numpy()))\n",
    "    all_pred1.extend(list(y_pre.cpu().detach().numpy()))\n",
    "    all_true1.extend(list(batch.Label.cpu().detach().numpy()))\n",
    "\n",
    "all_pred1 = np.array(list(map(lambda x: 1-x, np.array(all_pred1))))\n",
    "all_true1 = np.array(all_true1)\n",
    "all_p1 = np.array(list(map(lambda x: 1-x, np.array(all_p1))))\n",
    "\n",
    "auc = roc_auc_score(all_true1, all_p1)\n",
    "acc = metrics.accuracy_score(all_true1,all_pred1)\n",
    "print('TEST Accuracy : {}'.format(acc))\n",
    "print('TEST AUC : {}'.format(auc))\n",
    "print(classification_report(all_true1, all_pred1, digits=4))\n",
    "\n",
    "\n",
    "plt.figure(figsize=(4, 4))\n",
    "fpr, tpr, threshold = roc_curve(all_true1, all_p1)\n",
    "plt.plot(fpr, tpr, marker='.', label='AUC = {:.4f}'.format(auc), color='orange')\n",
    "plt.title('ROC curve')\n",
    "plt.xlabel('False Positive Rate')\n",
    "plt.ylabel('True Positive Rate')\n",
    "plt.legend()\n",
    "plt.show()\n",
    "\n",
    "cf_matrix = confusion_matrix(all_true1, all_pred1)\n",
    "plt.figure(figsize=(3, 3))\n",
    "sns.heatmap(cf_matrix, annot=True, fmt=',.0f')\n",
    "plt.show()\n",
    "\n",
    "np.save('log/result_human_HEK293_CapsNet_fpr.npy', fpr)\n",
    "np.save('log/result_human_HEK293_CapsNet_tpr.npy', tpr)\n",
    "np.save('log/result_human_HEK293_CapsNet_threshold.npy', threshold)\n",
    "np.save('log/result_human_HEK293_CapsNet_prob.npy', all_p1)\n",
    "np.save('log/result_human_HEK293_CapsNet_true.npy', all_true1)"
   ]
  },
  {
   "cell_type": "code",
   "execution_count": null,
   "id": "5d14f65f",
   "metadata": {
    "ExecuteTime": {
     "start_time": "2023-03-20T15:12:40.100Z"
    },
    "scrolled": false
   },
   "outputs": [],
   "source": [
    "from torchtext import data, datasets\n",
    "\n",
    "tmp = pd.read_csv('/data/2021_SJH_detectability/diff_tool/human_hek293/data.csv')[['peptide', 'label']]#.drop_duplicates()\n",
    "tmp = tmp[tmp.peptide.apply(lambda x: 'B' not in x)].reset_index(drop=True)\n",
    "tmp = tmp[tmp.peptide.apply(lambda x: 'Z' not in x)].reset_index(drop=True)\n",
    "tmp = tmp.rename({'peptide': 'Seq','label': 'Label'}, axis=1)\n",
    "tmp['Label'] = tmp.Label.apply(lambda x: {True: 1, False:0}[x])\n",
    "\n",
    "tmp.to_csv('RefModel/2021MDPI_CapsNet/human_HEK293_msgf.csv', index=False)\n",
    "\n",
    "train1,val1,test1 = data.TabularDataset.splits(\n",
    "        path='RefModel/2021MDPI_CapsNet/', train='human_HEK293_msgf.csv',validation='human_HEK293_msgf.csv',test='human_HEK293_msgf.csv', format='csv',skip_header=True,\n",
    "        fields=[('Seqs', TEXT), ('Label', LABEL)])\n",
    "# TEXT.build_vocab(train1,val1,test1)\n",
    "test_iter = data.BucketIterator(val1, batch_size=32, sort_key=lambda x: len(x.Seqs), \n",
    "                                 shuffle=True,device=DEVICE)\n",
    "\n",
    "all_pred1 = []\n",
    "all_true1 = []\n",
    "all_p1 = []\n",
    "\n",
    "for batch_idx, batch in enumerate(test_iter):\n",
    "    data = batch.Seqs\n",
    "    data = data.permute(1, 0)\n",
    "    \n",
    "    out = model(data)\n",
    "    out = torch.sqrt(torch.sum(out * out, 2))\n",
    "    out1 = out[:, 0]\n",
    "    _, y_pre = torch.max(out, -1)\n",
    "    all_p1.extend(list(out1.cpu().detach().numpy()))\n",
    "    all_pred1.extend(list(y_pre.cpu().detach().numpy()))\n",
    "    all_true1.extend(list(batch.Label.cpu().detach().numpy()))\n",
    "\n",
    "all_pred1 = np.array(list(map(lambda x: x, np.array(all_pred1))))\n",
    "all_true1 = np.array(all_true1)\n",
    "all_p1 = np.array(list(map(lambda x: x, np.array(all_p1))))\n",
    "\n",
    "auc = roc_auc_score(all_true1, all_p1)\n",
    "acc = metrics.accuracy_score(all_true1,all_pred1)\n",
    "print('TEST Accuracy : {}'.format(acc))\n",
    "print('TEST AUC : {}'.format(auc))\n",
    "print(classification_report(all_true1, all_pred1, digits=4))\n",
    "\n",
    "\n",
    "plt.figure(figsize=(4, 4))\n",
    "fpr, tpr, threshold = roc_curve(all_true1, all_p1)\n",
    "plt.plot(fpr, tpr, marker='.', label='AUC = {:.4f}'.format(auc), color='orange')\n",
    "plt.title('ROC curve')\n",
    "plt.xlabel('False Positive Rate')\n",
    "plt.ylabel('True Positive Rate')\n",
    "plt.legend()\n",
    "plt.show()\n",
    "\n",
    "cf_matrix = confusion_matrix(all_true1, all_pred1)\n",
    "plt.figure(figsize=(3, 3))\n",
    "sns.heatmap(cf_matrix, annot=True, fmt=',.0f')\n",
    "plt.show()\n",
    "\n",
    "np.save('log/result_human_msgf_HEK293_CapsNet_fpr.npy', fpr)\n",
    "np.save('log/result_human_msgf_HEK293_CapsNet_tpr.npy', tpr)\n",
    "np.save('log/result_human_msgf_HEK293_CapsNet_threshold.npy', threshold)\n",
    "np.save('log/result_human_msgf_HEK293_CapsNet_prob.npy', all_p1)\n",
    "np.save('log/result_human_msgf_HEK293_CapsNet_true.npy', all_true1)"
   ]
  },
  {
   "cell_type": "code",
   "execution_count": 26,
   "id": "51f344ab",
   "metadata": {
    "ExecuteTime": {
     "end_time": "2022-12-16T20:27:10.722495Z",
     "start_time": "2022-12-16T19:19:22.754860Z"
    }
   },
   "outputs": [
    {
     "name": "stderr",
     "output_type": "stream",
     "text": [
      "/home/bis/miniconda3/envs/torch/lib/python3.6/site-packages/torchtext/data/example.py:68: UserWarning: Example class will be retired soon and moved to torchtext.legacy. Please see the most recent release notes for further information.\n",
      "  warnings.warn('Example class will be retired soon and moved to torchtext.legacy. Please see the most recent release notes for further information.', UserWarning)\n",
      "/home/bis/miniconda3/envs/torch/lib/python3.6/site-packages/torchtext/data/example.py:78: UserWarning: Example class will be retired soon and moved to torchtext.legacy. Please see the most recent release notes for further information.\n",
      "  warnings.warn('Example class will be retired soon and moved to torchtext.legacy. Please see the most recent release notes for further information.', UserWarning)\n",
      "/home/bis/miniconda3/envs/torch/lib/python3.6/site-packages/torchtext/data/iterator.py:48: UserWarning: BucketIterator class will be retired soon and moved to torchtext.legacy. Please see the most recent release notes for further information.\n",
      "  warnings.warn('{} class will be retired soon and moved to torchtext.legacy. Please see the most recent release notes for further information.'.format(self.__class__.__name__), UserWarning)\n",
      "/home/bis/miniconda3/envs/torch/lib/python3.6/site-packages/torchtext/data/batch.py:23: UserWarning: Batch class will be retired soon and moved to torchtext.legacy. Please see the most recent release notes for further information.\n",
      "  warnings.warn('{} class will be retired soon and moved to torchtext.legacy. Please see the most recent release notes for further information.'.format(self.__class__.__name__), UserWarning)\n"
     ]
    },
    {
     "name": "stdout",
     "output_type": "stream",
     "text": [
      "TEST Accuracy : 0.7900876699193148\n",
      "TEST AUC : 0.80472306907139\n",
      "              precision    recall  f1-score   support\n",
      "\n",
      "           0     0.9834    0.7953    0.8794   1441079\n",
      "           1     0.1119    0.6583    0.1913     56470\n",
      "\n",
      "    accuracy                         0.7901   1497549\n",
      "   macro avg     0.5477    0.7268    0.5353   1497549\n",
      "weighted avg     0.9506    0.7901    0.8534   1497549\n",
      "\n"
     ]
    },
    {
     "data": {
      "image/png": "[encoded data removed]",
      "text/plain": [
       "<Figure size 288x288 with 1 Axes>"
      ]
     },
     "metadata": {
      "needs_background": "light"
     },
     "output_type": "display_data"
    },
    {
     "data": {
      "image/png": "[encoded data removed]",
      "text/plain": [
       "<Figure size 216x216 with 2 Axes>"
      ]
     },
     "metadata": {
      "needs_background": "light"
     },
     "output_type": "display_data"
    }
   ],
   "source": [
    "from torchtext import data, datasets\n",
    "\n",
    "tmp = pd.concat([\n",
    "    pd.read_csv('/data/2021_SJH_detectability/data_cross_species/raw/human/HmapLiver/train.csv'),\n",
    "    pd.read_csv('/data/2021_SJH_detectability/data_cross_species/raw/human/HmapLiver/test.csv'),\n",
    "])[['peptide', 'label']]#.drop_duplicates()\n",
    "tmp = tmp[tmp.peptide.apply(lambda x: 'B' not in x)].reset_index(drop=True)\n",
    "tmp = tmp[tmp.peptide.apply(lambda x: 'Z' not in x)].reset_index(drop=True)\n",
    "tmp = tmp.rename({'peptide': 'Seq','label': 'Label'}, axis=1)\n",
    "tmp['Label'] = tmp.Label.apply(lambda x: {True: 1, False:0}[x])\n",
    "\n",
    "tmp.to_csv('RefModel/2021MDPI_CapsNet/human_HmapLiver.csv', index=False)\n",
    "\n",
    "train1,val1,test1 = data.TabularDataset.splits(\n",
    "        path='RefModel/2021MDPI_CapsNet/', train='human_HmapLiver.csv',validation='human_HmapLiver.csv',test='human_HmapLiver.csv', format='csv',skip_header=True,\n",
    "        fields=[('Seqs', TEXT), ('Label', LABEL)])\n",
    "# TEXT.build_vocab(train1,val1,test1)\n",
    "test_iter = data.BucketIterator(val1, batch_size=32, sort_key=lambda x: len(x.Seqs), \n",
    "                                 shuffle=True,device=DEVICE)\n",
    "\n",
    "all_pred1 = []\n",
    "all_true1 = []\n",
    "all_p1 = []\n",
    "\n",
    "for batch_idx, batch in enumerate(test_iter):\n",
    "    data = batch.Seqs\n",
    "    data = data.permute(1, 0)\n",
    "    \n",
    "    out = model(data)\n",
    "    out = torch.sqrt(torch.sum(out * out, 2))\n",
    "    out1 = out[:, 1]\n",
    "    _, y_pre = torch.max(out, -1)\n",
    "    all_p1.extend(list(out1.cpu().detach().numpy()))\n",
    "    all_pred1.extend(list(y_pre.cpu().detach().numpy()))\n",
    "    all_true1.extend(list(batch.Label.cpu().detach().numpy()))\n",
    "    \n",
    "all_pred1 = np.array(list(map(lambda x: 1-x, np.array(all_pred1))))\n",
    "all_true1 = np.array(all_true1)\n",
    "all_p1 = np.array(list(map(lambda x: 1-x, np.array(all_p1))))\n",
    "\n",
    "auc = roc_auc_score(all_true1, all_p1)\n",
    "acc = metrics.accuracy_score(all_true1,all_pred1)\n",
    "print('TEST Accuracy : {}'.format(acc))\n",
    "print('TEST AUC : {}'.format(auc))\n",
    "print(classification_report(all_true1, all_pred1, digits=4))\n",
    "\n",
    "\n",
    "plt.figure(figsize=(4, 4))\n",
    "fpr, tpr, threshold = roc_curve(all_true1, all_p1)\n",
    "plt.plot(fpr, tpr, marker='.', label='AUC = {:.4f}'.format(auc), color='orange')\n",
    "plt.title('ROC curve')\n",
    "plt.xlabel('False Positive Rate')\n",
    "plt.ylabel('True Positive Rate')\n",
    "plt.legend()\n",
    "plt.show()\n",
    "\n",
    "cf_matrix = confusion_matrix(all_true1, all_pred1)\n",
    "plt.figure(figsize=(3, 3))\n",
    "sns.heatmap(cf_matrix, annot=True, fmt=',.0f')\n",
    "plt.show()\n",
    "\n",
    "np.save('log/result_human_HmapLiver_CapsNet_fpr.npy', fpr)\n",
    "np.save('log/result_human_HmapLiver_CapsNet_tpr.npy', tpr)\n",
    "np.save('log/result_human_HmapLiver_CapsNet_threshold.npy', threshold)\n",
    "np.save('log/result_human_HmapLiver_CapsNet_prob.npy', all_p1)\n",
    "np.save('log/result_human_HmapLiver_CapsNet_true.npy', all_true1)"
   ]
  },
  {
   "cell_type": "code",
   "execution_count": null,
   "id": "9fc56624",
   "metadata": {
    "ExecuteTime": {
     "start_time": "2023-03-20T15:12:56.086Z"
    }
   },
   "outputs": [],
   "source": [
    "from torchtext import data, datasets\n",
    "\n",
    "tmp = pd.read_csv('/data/2021_SJH_detectability/diff_tool/human_liver/data.csv')[['peptide', 'label']]#.drop_duplicates()\n",
    "tmp = tmp[tmp.peptide.apply(lambda x: 'B' not in x)].reset_index(drop=True)\n",
    "tmp = tmp[tmp.peptide.apply(lambda x: 'Z' not in x)].reset_index(drop=True)\n",
    "tmp = tmp.rename({'peptide': 'Seq','label': 'Label'}, axis=1)\n",
    "tmp['Label'] = tmp.Label.apply(lambda x: {True: 1, False:0}[x])\n",
    "\n",
    "tmp.to_csv('RefModel/2021MDPI_CapsNet/human_HmapLiver_msgf.csv', index=False)\n",
    "\n",
    "train1,val1,test1 = data.TabularDataset.splits(\n",
    "        path='RefModel/2021MDPI_CapsNet/', train='human_HmapLiver_msgf.csv',validation='human_HmapLiver_msgf.csv',test='human_HmapLiver_msgf.csv', format='csv',skip_header=True,\n",
    "        fields=[('Seqs', TEXT), ('Label', LABEL)])\n",
    "# TEXT.build_vocab(train1,val1,test1)\n",
    "test_iter = data.BucketIterator(val1, batch_size=32, sort_key=lambda x: len(x.Seqs), \n",
    "                                 shuffle=True,device=DEVICE)\n",
    "\n",
    "all_pred1 = []\n",
    "all_true1 = []\n",
    "all_p1 = []\n",
    "\n",
    "for batch_idx, batch in enumerate(test_iter):\n",
    "    data = batch.Seqs\n",
    "    data = data.permute(1, 0)\n",
    "    \n",
    "    out = model(data)\n",
    "    out = torch.sqrt(torch.sum(out * out, 2))\n",
    "    out1 = out[:, 0]\n",
    "    _, y_pre = torch.max(out, -1)\n",
    "    all_p1.extend(list(out1.cpu().detach().numpy()))\n",
    "    all_pred1.extend(list(y_pre.cpu().detach().numpy()))\n",
    "    all_true1.extend(list(batch.Label.cpu().detach().numpy()))\n",
    "    \n",
    "all_pred1 = np.array(list(map(lambda x: x, np.array(all_pred1))))\n",
    "all_true1 = np.array(all_true1)\n",
    "all_p1 = np.array(list(map(lambda x: x, np.array(all_p1))))\n",
    "\n",
    "auc = roc_auc_score(all_true1, all_p1)\n",
    "acc = metrics.accuracy_score(all_true1,all_pred1)\n",
    "print('TEST Accuracy : {}'.format(acc))\n",
    "print('TEST AUC : {}'.format(auc))\n",
    "print(classification_report(all_true1, all_pred1, digits=4))\n",
    "\n",
    "\n",
    "plt.figure(figsize=(4, 4))\n",
    "fpr, tpr, threshold = roc_curve(all_true1, all_p1)\n",
    "plt.plot(fpr, tpr, marker='.', label='AUC = {:.4f}'.format(auc), color='orange')\n",
    "plt.title('ROC curve')\n",
    "plt.xlabel('False Positive Rate')\n",
    "plt.ylabel('True Positive Rate')\n",
    "plt.legend()\n",
    "plt.show()\n",
    "\n",
    "cf_matrix = confusion_matrix(all_true1, all_pred1)\n",
    "plt.figure(figsize=(3, 3))\n",
    "sns.heatmap(cf_matrix, annot=True, fmt=',.0f')\n",
    "plt.show()\n",
    "\n",
    "np.save('log/result_human_msgf_HmapLiver_CapsNet_fpr.npy', fpr)\n",
    "np.save('log/result_human_msgf_HmapLiver_CapsNet_tpr.npy', tpr)\n",
    "np.save('log/result_human_msgf_HmapLiver_CapsNet_threshold.npy', threshold)\n",
    "np.save('log/result_human_msgf_HmapLiver_CapsNet_prob.npy', all_p1)\n",
    "np.save('log/result_human_msgf_HmapLiver_CapsNet_true.npy', all_true1)"
   ]
  },
  {
   "cell_type": "markdown",
   "id": "38c29032",
   "metadata": {},
   "source": [
    "# Cross species - Yeast"
   ]
  },
  {
   "cell_type": "code",
   "execution_count": 27,
   "id": "696f5f3d",
   "metadata": {
    "ExecuteTime": {
     "end_time": "2022-12-16T20:52:50.210524Z",
     "start_time": "2022-12-16T20:27:10.724496Z"
    },
    "scrolled": true
   },
   "outputs": [
    {
     "name": "stderr",
     "output_type": "stream",
     "text": [
      "/home/bis/miniconda3/envs/torch/lib/python3.6/site-packages/torchtext/data/example.py:68: UserWarning: Example class will be retired soon and moved to torchtext.legacy. Please see the most recent release notes for further information.\n",
      "  warnings.warn('Example class will be retired soon and moved to torchtext.legacy. Please see the most recent release notes for further information.', UserWarning)\n",
      "/home/bis/miniconda3/envs/torch/lib/python3.6/site-packages/torchtext/data/example.py:78: UserWarning: Example class will be retired soon and moved to torchtext.legacy. Please see the most recent release notes for further information.\n",
      "  warnings.warn('Example class will be retired soon and moved to torchtext.legacy. Please see the most recent release notes for further information.', UserWarning)\n",
      "/home/bis/miniconda3/envs/torch/lib/python3.6/site-packages/torchtext/data/iterator.py:48: UserWarning: BucketIterator class will be retired soon and moved to torchtext.legacy. Please see the most recent release notes for further information.\n",
      "  warnings.warn('{} class will be retired soon and moved to torchtext.legacy. Please see the most recent release notes for further information.'.format(self.__class__.__name__), UserWarning)\n",
      "/home/bis/miniconda3/envs/torch/lib/python3.6/site-packages/torchtext/data/batch.py:23: UserWarning: Batch class will be retired soon and moved to torchtext.legacy. Please see the most recent release notes for further information.\n",
      "  warnings.warn('{} class will be retired soon and moved to torchtext.legacy. Please see the most recent release notes for further information.'.format(self.__class__.__name__), UserWarning)\n"
     ]
    },
    {
     "name": "stdout",
     "output_type": "stream",
     "text": [
      "TEST Accuracy : 0.7904533221891178\n",
      "TEST AUC : 0.7809793778721987\n",
      "              precision    recall  f1-score   support\n",
      "\n",
      "           0     0.9696    0.8023    0.8781    521986\n",
      "           1     0.1624    0.6034    0.2560     33160\n",
      "\n",
      "    accuracy                         0.7905    555146\n",
      "   macro avg     0.5660    0.7029    0.5670    555146\n",
      "weighted avg     0.9213    0.7905    0.8409    555146\n",
      "\n"
     ]
    },
    {
     "data": {
      "image/png": "[encoded data removed]",
      "text/plain": [
       "<Figure size 288x288 with 1 Axes>"
      ]
     },
     "metadata": {
      "needs_background": "light"
     },
     "output_type": "display_data"
    },
    {
     "data": {
      "image/png": "[encoded data removed]",
      "text/plain": [
       "<Figure size 216x216 with 2 Axes>"
      ]
     },
     "metadata": {
      "needs_background": "light"
     },
     "output_type": "display_data"
    }
   ],
   "source": [
    "from torchtext import data, datasets\n",
    "\n",
    "tmp = pd.concat([\n",
    "    pd.read_csv('/data/2021_SJH_detectability/data_cross_species/raw/yeast/DelPBP1/train.csv'),\n",
    "    pd.read_csv('/data/2021_SJH_detectability/data_cross_species/raw/yeast/DelPBP1/test.csv'),\n",
    "])[['peptide', 'label']]#.drop_duplicates()\n",
    "tmp = tmp[tmp.peptide.apply(lambda x: 'B' not in x)].reset_index(drop=True)\n",
    "tmp = tmp[tmp.peptide.apply(lambda x: 'Z' not in x)].reset_index(drop=True)\n",
    "tmp = tmp.rename({'peptide': 'Seq','label': 'Label'}, axis=1)\n",
    "tmp['Label'] = tmp.Label.apply(lambda x: {True: 1, False:0}[x])\n",
    "\n",
    "tmp.to_csv('RefModel/2021MDPI_CapsNet/yeast_DelPBP1.csv', index=False)\n",
    "\n",
    "train1,val1,test1 = data.TabularDataset.splits(\n",
    "        path='RefModel/2021MDPI_CapsNet/', train='yeast_DelPBP1.csv',validation='yeast_DelPBP1.csv',test='yeast_DelPBP1.csv', format='csv',skip_header=True,\n",
    "        fields=[('Seqs', TEXT), ('Label', LABEL)])\n",
    "# TEXT.build_vocab(train1,val1,test1)\n",
    "test_iter = data.BucketIterator(val1, batch_size=32, sort_key=lambda x: len(x.Seqs), \n",
    "                                 shuffle=True,device=DEVICE)\n",
    "\n",
    "all_pred1 = []\n",
    "all_true1 = []\n",
    "all_p1 = []\n",
    "\n",
    "for batch_idx, batch in enumerate(test_iter):\n",
    "    data = batch.Seqs\n",
    "    data = data.permute(1, 0)\n",
    "    \n",
    "    out = model(data)\n",
    "    out = torch.sqrt(torch.sum(out * out, 2))\n",
    "    out1 = out[:, 1]\n",
    "    _, y_pre = torch.max(out, -1)\n",
    "    all_p1.extend(list(out1.cpu().detach().numpy()))\n",
    "    all_pred1.extend(list(y_pre.cpu().detach().numpy()))\n",
    "    all_true1.extend(list(batch.Label.cpu().detach().numpy()))\n",
    "    \n",
    "all_pred1 = np.array(list(map(lambda x: 1-x, np.array(all_pred1))))\n",
    "all_true1 = np.array(all_true1)\n",
    "all_p1 = np.array(list(map(lambda x: 1-x, np.array(all_p1))))\n",
    "\n",
    "auc = roc_auc_score(all_true1, all_p1)\n",
    "acc = metrics.accuracy_score(all_true1,all_pred1)\n",
    "print('TEST Accuracy : {}'.format(acc))\n",
    "print('TEST AUC : {}'.format(auc))\n",
    "print(classification_report(all_true1, all_pred1, digits=4))\n",
    "\n",
    "\n",
    "plt.figure(figsize=(4, 4))\n",
    "fpr, tpr, threshold = roc_curve(all_true1, all_p1)\n",
    "plt.plot(fpr, tpr, marker='.', label='AUC = {:.4f}'.format(auc), color='orange')\n",
    "plt.title('ROC curve')\n",
    "plt.xlabel('False Positive Rate')\n",
    "plt.ylabel('True Positive Rate')\n",
    "plt.legend()\n",
    "plt.show()\n",
    "\n",
    "cf_matrix = confusion_matrix(all_true1, all_pred1)\n",
    "plt.figure(figsize=(3, 3))\n",
    "sns.heatmap(cf_matrix, annot=True, fmt=',.0f')\n",
    "plt.show()\n",
    "\n",
    "np.save('log/result_yeast_DelPBP1_CapsNet_fpr.npy', fpr)\n",
    "np.save('log/result_yeast_DelPBP1_CapsNet_tpr.npy', tpr)\n",
    "np.save('log/result_yeast_DelPBP1_CapsNet_threshold.npy', threshold)\n",
    "np.save('log/result_yeast_DelPBP1_CapsNet_prob.npy', all_p1)\n",
    "np.save('log/result_yeast_DelPBP1_CapsNet_true.npy', all_true1)"
   ]
  },
  {
   "cell_type": "code",
   "execution_count": null,
   "id": "89017558",
   "metadata": {
    "ExecuteTime": {
     "start_time": "2023-03-20T15:13:39.935Z"
    },
    "scrolled": true
   },
   "outputs": [],
   "source": [
    "from torchtext import data, datasets\n",
    "\n",
    "tmp = pd.read_csv('/data/2021_SJH_detectability/diff_tool/yeast_25/data.csv')[['peptide', 'label']]#.drop_duplicates()\n",
    "tmp = tmp[tmp.peptide.apply(lambda x: 'B' not in x)].reset_index(drop=True)\n",
    "tmp = tmp[tmp.peptide.apply(lambda x: 'Z' not in x)].reset_index(drop=True)\n",
    "tmp = tmp.rename({'peptide': 'Seq','label': 'Label'}, axis=1)\n",
    "tmp['Label'] = tmp.Label.apply(lambda x: {True: 1, False:0}[x])\n",
    "\n",
    "tmp.to_csv('RefModel/2021MDPI_CapsNet/yeast_DelPBP1_msgf.csv', index=False)\n",
    "\n",
    "train1,val1,test1 = data.TabularDataset.splits(\n",
    "        path='RefModel/2021MDPI_CapsNet/', train='yeast_DelPBP1_msgf.csv',validation='yeast_DelPBP1_msgf.csv',test='yeast_DelPBP1_msgf.csv', format='csv',skip_header=True,\n",
    "        fields=[('Seqs', TEXT), ('Label', LABEL)])\n",
    "# TEXT.build_vocab(train1,val1,test1)\n",
    "test_iter = data.BucketIterator(val1, batch_size=32, sort_key=lambda x: len(x.Seqs), \n",
    "                                 shuffle=True,device=DEVICE)\n",
    "\n",
    "all_pred1 = []\n",
    "all_true1 = []\n",
    "all_p1 = []\n",
    "\n",
    "for batch_idx, batch in enumerate(test_iter):\n",
    "    data = batch.Seqs\n",
    "    data = data.permute(1, 0)\n",
    "    \n",
    "    out = model(data)\n",
    "    out = torch.sqrt(torch.sum(out * out, 2))\n",
    "    out1 = out[:, 0]\n",
    "    _, y_pre = torch.max(out, -1)\n",
    "    all_p1.extend(list(out1.cpu().detach().numpy()))\n",
    "    all_pred1.extend(list(y_pre.cpu().detach().numpy()))\n",
    "    all_true1.extend(list(batch.Label.cpu().detach().numpy()))\n",
    "    \n",
    "all_pred1 = np.array(list(map(lambda x: x, np.array(all_pred1))))\n",
    "all_true1 = np.array(all_true1)\n",
    "all_p1 = np.array(list(map(lambda x: x, np.array(all_p1))))\n",
    "\n",
    "auc = roc_auc_score(all_true1, all_p1)\n",
    "acc = metrics.accuracy_score(all_true1,all_pred1)\n",
    "print('TEST Accuracy : {}'.format(acc))\n",
    "print('TEST AUC : {}'.format(auc))\n",
    "print(classification_report(all_true1, all_pred1, digits=4))\n",
    "\n",
    "\n",
    "plt.figure(figsize=(4, 4))\n",
    "fpr, tpr, threshold = roc_curve(all_true1, all_p1)\n",
    "plt.plot(fpr, tpr, marker='.', label='AUC = {:.4f}'.format(auc), color='orange')\n",
    "plt.title('ROC curve')\n",
    "plt.xlabel('False Positive Rate')\n",
    "plt.ylabel('True Positive Rate')\n",
    "plt.legend()\n",
    "plt.show()\n",
    "\n",
    "cf_matrix = confusion_matrix(all_true1, all_pred1)\n",
    "plt.figure(figsize=(3, 3))\n",
    "sns.heatmap(cf_matrix, annot=True, fmt=',.0f')\n",
    "plt.show()\n",
    "\n",
    "np.save('log/result_yeast_msgf_DelPBP1_CapsNet_fpr.npy', fpr)\n",
    "np.save('log/result_yeast_msgf_DelPBP1_CapsNet_tpr.npy', tpr)\n",
    "np.save('log/result_yeast_msgf_DelPBP1_CapsNet_threshold.npy', threshold)\n",
    "np.save('log/result_yeast_msgf_DelPBP1_CapsNet_prob.npy', all_p1)\n",
    "np.save('log/result_yeast_msgf_DelPBP1_CapsNet_true.npy', all_true1)"
   ]
  },
  {
   "cell_type": "code",
   "execution_count": 28,
   "id": "79a689ac",
   "metadata": {
    "ExecuteTime": {
     "end_time": "2022-12-16T21:21:48.914223Z",
     "start_time": "2022-12-16T20:52:50.212433Z"
    }
   },
   "outputs": [
    {
     "name": "stderr",
     "output_type": "stream",
     "text": [
      "/home/bis/miniconda3/envs/torch/lib/python3.6/site-packages/torchtext/data/example.py:68: UserWarning: Example class will be retired soon and moved to torchtext.legacy. Please see the most recent release notes for further information.\n",
      "  warnings.warn('Example class will be retired soon and moved to torchtext.legacy. Please see the most recent release notes for further information.', UserWarning)\n",
      "/home/bis/miniconda3/envs/torch/lib/python3.6/site-packages/torchtext/data/example.py:78: UserWarning: Example class will be retired soon and moved to torchtext.legacy. Please see the most recent release notes for further information.\n",
      "  warnings.warn('Example class will be retired soon and moved to torchtext.legacy. Please see the most recent release notes for further information.', UserWarning)\n",
      "/home/bis/miniconda3/envs/torch/lib/python3.6/site-packages/torchtext/data/iterator.py:48: UserWarning: BucketIterator class will be retired soon and moved to torchtext.legacy. Please see the most recent release notes for further information.\n",
      "  warnings.warn('{} class will be retired soon and moved to torchtext.legacy. Please see the most recent release notes for further information.'.format(self.__class__.__name__), UserWarning)\n",
      "/home/bis/miniconda3/envs/torch/lib/python3.6/site-packages/torchtext/data/batch.py:23: UserWarning: Batch class will be retired soon and moved to torchtext.legacy. Please see the most recent release notes for further information.\n",
      "  warnings.warn('{} class will be retired soon and moved to torchtext.legacy. Please see the most recent release notes for further information.'.format(self.__class__.__name__), UserWarning)\n"
     ]
    },
    {
     "name": "stdout",
     "output_type": "stream",
     "text": [
      "TEST Accuracy : 0.8158744858854308\n",
      "TEST AUC : 0.8301983810120106\n",
      "              precision    recall  f1-score   support\n",
      "\n",
      "           0     0.9442    0.8398    0.8890    562874\n",
      "           1     0.3595    0.6445    0.4615     78520\n",
      "\n",
      "    accuracy                         0.8159    641394\n",
      "   macro avg     0.6519    0.7422    0.6752    641394\n",
      "weighted avg     0.8727    0.8159    0.8366    641394\n",
      "\n"
     ]
    },
    {
     "data": {
      "image/png": "[encoded data removed]",
      "text/plain": [
       "<Figure size 288x288 with 1 Axes>"
      ]
     },
     "metadata": {
      "needs_background": "light"
     },
     "output_type": "display_data"
    },
    {
     "data": {
      "image/png": "[encoded data removed]",
      "text/plain": [
       "<Figure size 216x216 with 2 Axes>"
      ]
     },
     "metadata": {
      "needs_background": "light"
     },
     "output_type": "display_data"
    }
   ],
   "source": [
    "from torchtext import data, datasets\n",
    "\n",
    "tmp = pd.concat([\n",
    "    pd.read_csv('/data/2021_SJH_detectability/data_cross_species/raw/yeast/KLife/train.csv'),\n",
    "    pd.read_csv('/data/2021_SJH_detectability/data_cross_species/raw/yeast/KLife/test.csv'),\n",
    "])[['peptide', 'label']]#.drop_duplicates()\n",
    "tmp = tmp[tmp.peptide.apply(lambda x: 'B' not in x)].reset_index(drop=True)\n",
    "tmp = tmp[tmp.peptide.apply(lambda x: 'Z' not in x)].reset_index(drop=True)\n",
    "tmp = tmp.rename({'peptide': 'Seq','label': 'Label'}, axis=1)\n",
    "tmp['Label'] = tmp.Label.apply(lambda x: {True: 1, False:0}[x])\n",
    "\n",
    "tmp.to_csv('RefModel/2021MDPI_CapsNet/yeast_KLife.csv', index=False)\n",
    "\n",
    "train1,val1,test1 = data.TabularDataset.splits(\n",
    "        path='RefModel/2021MDPI_CapsNet/', train='yeast_KLife.csv',validation='yeast_KLife.csv',test='yeast_KLife.csv', format='csv',skip_header=True,\n",
    "        fields=[('Seqs', TEXT), ('Label', LABEL)])\n",
    "# TEXT.build_vocab(train1,val1,test1)\n",
    "test_iter = data.BucketIterator(val1, batch_size=32, sort_key=lambda x: len(x.Seqs), \n",
    "                                 shuffle=True,device=DEVICE)\n",
    "\n",
    "all_pred1 = []\n",
    "all_true1 = []\n",
    "all_p1 = []\n",
    "\n",
    "for batch_idx, batch in enumerate(test_iter):\n",
    "    data = batch.Seqs\n",
    "    data = data.permute(1, 0)\n",
    "    \n",
    "    out = model(data)\n",
    "    out = torch.sqrt(torch.sum(out * out, 2))\n",
    "    out1 = out[:, 1]\n",
    "    _, y_pre = torch.max(out, -1)\n",
    "    all_p1.extend(list(out1.cpu().detach().numpy()))\n",
    "    all_pred1.extend(list(y_pre.cpu().detach().numpy()))\n",
    "    all_true1.extend(list(batch.Label.cpu().detach().numpy()))\n",
    "    \n",
    "all_pred1 = np.array(list(map(lambda x: 1-x, np.array(all_pred1))))\n",
    "all_true1 = np.array(all_true1)\n",
    "all_p1 = np.array(list(map(lambda x: 1-x, np.array(all_p1))))\n",
    "\n",
    "auc = roc_auc_score(all_true1, all_p1)\n",
    "acc = metrics.accuracy_score(all_true1,all_pred1)\n",
    "print('TEST Accuracy : {}'.format(acc))\n",
    "print('TEST AUC : {}'.format(auc))\n",
    "print(classification_report(all_true1, all_pred1, digits=4))\n",
    "\n",
    "\n",
    "plt.figure(figsize=(4, 4))\n",
    "fpr, tpr, threshold = roc_curve(all_true1, all_p1)\n",
    "plt.plot(fpr, tpr, marker='.', label='AUC = {:.4f}'.format(auc), color='orange')\n",
    "plt.title('ROC curve')\n",
    "plt.xlabel('False Positive Rate')\n",
    "plt.ylabel('True Positive Rate')\n",
    "plt.legend()\n",
    "plt.show()\n",
    "\n",
    "cf_matrix = confusion_matrix(all_true1, all_pred1)\n",
    "plt.figure(figsize=(3, 3))\n",
    "sns.heatmap(cf_matrix, annot=True, fmt=',.0f')\n",
    "plt.show()\n",
    "\n",
    "np.save('log/result_yeast_KLife_CapsNet_fpr.npy', fpr)\n",
    "np.save('log/result_yeast_KLife_CapsNet_tpr.npy', tpr)\n",
    "np.save('log/result_yeast_KLife_CapsNet_threshold.npy', threshold)\n",
    "np.save('log/result_yeast_KLife_CapsNet_prob.npy', all_p1)\n",
    "np.save('log/result_yeast_KLife_CapsNet_true.npy', all_true1)"
   ]
  },
  {
   "cell_type": "code",
   "execution_count": null,
   "id": "904edd73",
   "metadata": {
    "ExecuteTime": {
     "start_time": "2023-03-20T15:13:53.242Z"
    }
   },
   "outputs": [],
   "source": [
    "from torchtext import data, datasets\n",
    "\n",
    "tmp = pd.read_csv('/data/2021_SJH_detectability/diff_tool/yeast_23/data.csv')[['peptide', 'label']]#.drop_duplicates()\n",
    "tmp = tmp[tmp.peptide.apply(lambda x: 'B' not in x)].reset_index(drop=True)\n",
    "tmp = tmp[tmp.peptide.apply(lambda x: 'Z' not in x)].reset_index(drop=True)\n",
    "tmp = tmp.rename({'peptide': 'Seq','label': 'Label'}, axis=1)\n",
    "tmp['Label'] = tmp.Label.apply(lambda x: {True: 1, False:0}[x])\n",
    "\n",
    "tmp.to_csv('RefModel/2021MDPI_CapsNet/yeast_KLife_msgf.csv', index=False)\n",
    "\n",
    "train1,val1,test1 = data.TabularDataset.splits(\n",
    "        path='RefModel/2021MDPI_CapsNet/', train='yeast_KLife_msgf.csv',validation='yeast_KLife_msgf.csv',test='yeast_KLife_msgf.csv', format='csv',skip_header=True,\n",
    "        fields=[('Seqs', TEXT), ('Label', LABEL)])\n",
    "# TEXT.build_vocab(train1,val1,test1)\n",
    "test_iter = data.BucketIterator(val1, batch_size=32, sort_key=lambda x: len(x.Seqs), \n",
    "                                 shuffle=True,device=DEVICE)\n",
    "\n",
    "all_pred1 = []\n",
    "all_true1 = []\n",
    "all_p1 = []\n",
    "\n",
    "for batch_idx, batch in enumerate(test_iter):\n",
    "    data = batch.Seqs\n",
    "    data = data.permute(1, 0)\n",
    "    \n",
    "    out = model(data)\n",
    "    out = torch.sqrt(torch.sum(out * out, 2))\n",
    "    out1 = out[:, 0]\n",
    "    _, y_pre = torch.max(out, -1)\n",
    "    all_p1.extend(list(out1.cpu().detach().numpy()))\n",
    "    all_pred1.extend(list(y_pre.cpu().detach().numpy()))\n",
    "    all_true1.extend(list(batch.Label.cpu().detach().numpy()))\n",
    "    \n",
    "all_pred1 = np.array(list(map(lambda x: x, np.array(all_pred1))))\n",
    "all_true1 = np.array(all_true1)\n",
    "all_p1 = np.array(list(map(lambda x: x, np.array(all_p1))))\n",
    "\n",
    "auc = roc_auc_score(all_true1, all_p1)\n",
    "acc = metrics.accuracy_score(all_true1,all_pred1)\n",
    "print('TEST Accuracy : {}'.format(acc))\n",
    "print('TEST AUC : {}'.format(auc))\n",
    "print(classification_report(all_true1, all_pred1, digits=4))\n",
    "\n",
    "\n",
    "plt.figure(figsize=(4, 4))\n",
    "fpr, tpr, threshold = roc_curve(all_true1, all_p1)\n",
    "plt.plot(fpr, tpr, marker='.', label='AUC = {:.4f}'.format(auc), color='orange')\n",
    "plt.title('ROC curve')\n",
    "plt.xlabel('False Positive Rate')\n",
    "plt.ylabel('True Positive Rate')\n",
    "plt.legend()\n",
    "plt.show()\n",
    "\n",
    "cf_matrix = confusion_matrix(all_true1, all_pred1)\n",
    "plt.figure(figsize=(3, 3))\n",
    "sns.heatmap(cf_matrix, annot=True, fmt=',.0f')\n",
    "plt.show()\n",
    "\n",
    "np.save('log/result_yeast_msgf_KLife_CapsNet_fpr.npy', fpr)\n",
    "np.save('log/result_yeast_msgf_KLife_CapsNet_tpr.npy', tpr)\n",
    "np.save('log/result_yeast_msgf_KLife_CapsNet_threshold.npy', threshold)\n",
    "np.save('log/result_yeast_msgf_KLife_CapsNet_prob.npy', all_p1)\n",
    "np.save('log/result_yeast_msgf_KLife_CapsNet_true.npy', all_true1)"
   ]
  },
  {
   "cell_type": "markdown",
   "id": "0ef91252",
   "metadata": {},
   "source": [
    "# massIVE-KB"
   ]
  },
  {
   "cell_type": "code",
   "execution_count": 29,
   "id": "75eb468d",
   "metadata": {
    "ExecuteTime": {
     "end_time": "2022-12-17T15:11:17.533426Z",
     "start_time": "2022-12-17T15:11:17.454082Z"
    }
   },
   "outputs": [],
   "source": [
    "from torchtext import data, datasets\n",
    "\n",
    "test = pd.read_csv('RefModel/2021MDPI_CapsNet/test.csv')"
   ]
  },
  {
   "cell_type": "code",
   "execution_count": 30,
   "id": "bb554bfa",
   "metadata": {
    "ExecuteTime": {
     "end_time": "2022-12-17T15:11:28.527465Z",
     "start_time": "2022-12-17T15:11:21.655630Z"
    }
   },
   "outputs": [
    {
     "name": "stderr",
     "output_type": "stream",
     "text": [
      "/home/bis/miniconda3/envs/torch/lib/python3.6/site-packages/torchtext/data/field.py:150: UserWarning: Field class will be retired soon and moved to torchtext.legacy. Please see the most recent release notes for further information.\n",
      "  warnings.warn('{} class will be retired soon and moved to torchtext.legacy. Please see the most recent release notes for further information.'.format(self.__class__.__name__), UserWarning)\n",
      "/home/bis/miniconda3/envs/torch/lib/python3.6/site-packages/torchtext/data/example.py:68: UserWarning: Example class will be retired soon and moved to torchtext.legacy. Please see the most recent release notes for further information.\n",
      "  warnings.warn('Example class will be retired soon and moved to torchtext.legacy. Please see the most recent release notes for further information.', UserWarning)\n",
      "/home/bis/miniconda3/envs/torch/lib/python3.6/site-packages/torchtext/data/example.py:78: UserWarning: Example class will be retired soon and moved to torchtext.legacy. Please see the most recent release notes for further information.\n",
      "  warnings.warn('Example class will be retired soon and moved to torchtext.legacy. Please see the most recent release notes for further information.', UserWarning)\n"
     ]
    }
   ],
   "source": [
    "LABEL = data.Field(sequential=False, use_vocab=False)\n",
    "TEXT = data.Field(sequential=True, tokenize=tokenizer ,fix_length=45)\n",
    "train, val, test = data.TabularDataset.splits(\n",
    "                                path='RefModel/2021MDPI_CapsNet/', \n",
    "                                train='train.csv',\n",
    "                                validation='val.csv',\n",
    "                                test='test.csv',\n",
    "                                format='csv',\n",
    "                                skip_header=True,\n",
    "                                fields=[('Seqs', TEXT), ('Label', LABEL)])\n",
    "TEXT.build_vocab(train, val, test)\n",
    "n_class = 2"
   ]
  },
  {
   "cell_type": "code",
   "execution_count": 31,
   "id": "4ec74122",
   "metadata": {
    "ExecuteTime": {
     "end_time": "2022-12-17T15:11:31.146694Z",
     "start_time": "2022-12-17T15:11:31.018904Z"
    }
   },
   "outputs": [
    {
     "data": {
      "text/plain": [
       "CapsuleNet(\n",
       "  (embedding): Embedding(22, 20)\n",
       "  (lstm): LSTM(20, 40, batch_first=True)\n",
       "  (conv1): Conv2d(1, 256, kernel_size=(9, 9), stride=(1, 1))\n",
       "  (conv3): Conv2d(1, 256, kernel_size=(8, 8), stride=(1, 1))\n",
       "  (cbamBlock): CBAMBlock(\n",
       "    (avg_pool): AdaptiveAvgPool2d(output_size=1)\n",
       "    (max_pool): AdaptiveMaxPool2d(output_size=1)\n",
       "    (channel_excitation): Sequential(\n",
       "      (0): Linear(in_features=256, out_features=16, bias=False)\n",
       "      (1): ReLU(inplace=True)\n",
       "      (2): Linear(in_features=16, out_features=256, bias=False)\n",
       "    )\n",
       "    (sigmoid): Sigmoid()\n",
       "    (spatial_excitation): Sequential(\n",
       "      (0): Conv2d(2, 1, kernel_size=(7, 7), stride=(1, 1), padding=(3, 3), bias=False)\n",
       "    )\n",
       "  )\n",
       "  (conv2): Conv2d(256, 256, kernel_size=(9, 9), stride=(2, 2))\n",
       "  (conv4): Conv2d(256, 256, kernel_size=(8, 8), stride=(2, 2))\n",
       "  (capsule): Capsule()\n",
       ")"
      ]
     },
     "execution_count": 31,
     "metadata": {},
     "output_type": "execute_result"
    }
   ],
   "source": [
    "model_retrained = CapsuleNet()\n",
    "model_retrained.to(DEVICE)\n",
    "optimizer = optim.Adam(model_retrained.parameters(),lr=0.001)\n",
    "model_retrained.load_state_dict(torch.load('log/model_CapsNet.pkl'))\n",
    "model_retrained.eval()"
   ]
  },
  {
   "cell_type": "code",
   "execution_count": 32,
   "id": "8168f9ed",
   "metadata": {
    "ExecuteTime": {
     "end_time": "2022-12-17T15:11:35.586038Z",
     "start_time": "2022-12-17T15:11:35.582811Z"
    }
   },
   "outputs": [
    {
     "name": "stderr",
     "output_type": "stream",
     "text": [
      "/home/bis/miniconda3/envs/torch/lib/python3.6/site-packages/torchtext/data/iterator.py:48: UserWarning: BucketIterator class will be retired soon and moved to torchtext.legacy. Please see the most recent release notes for further information.\n",
      "  warnings.warn('{} class will be retired soon and moved to torchtext.legacy. Please see the most recent release notes for further information.'.format(self.__class__.__name__), UserWarning)\n"
     ]
    }
   ],
   "source": [
    "test_iter = data.BucketIterator(test, batch_size=32, sort_key=lambda x: len(x.Seqs), \n",
    "                                 shuffle=False,device=DEVICE)"
   ]
  },
  {
   "cell_type": "code",
   "execution_count": 33,
   "id": "5a8a90f6",
   "metadata": {
    "ExecuteTime": {
     "end_time": "2022-12-17T15:19:20.007985Z",
     "start_time": "2022-12-17T15:11:47.800480Z"
    }
   },
   "outputs": [
    {
     "name": "stderr",
     "output_type": "stream",
     "text": [
      "/home/bis/miniconda3/envs/torch/lib/python3.6/site-packages/torchtext/data/batch.py:23: UserWarning: Batch class will be retired soon and moved to torchtext.legacy. Please see the most recent release notes for further information.\n",
      "  warnings.warn('{} class will be retired soon and moved to torchtext.legacy. Please see the most recent release notes for further information.'.format(self.__class__.__name__), UserWarning)\n"
     ]
    }
   ],
   "source": [
    "all_pred1 = []\n",
    "all_true1 = []\n",
    "all_p1 = []\n",
    "\n",
    "for batch_idx, batch in enumerate(test_iter):\n",
    "    data = batch.Seqs\n",
    "    data = data.permute(1, 0)\n",
    "    \n",
    "    out = model_retrained(data)\n",
    "    out = torch.sqrt(torch.sum(out * out, 2))\n",
    "    out1 = out[:, 1]\n",
    "    _, y_pre = torch.max(out, -1)\n",
    "    all_p1.extend(list(out1.cpu().detach().numpy()))\n",
    "    all_pred1.extend(list(y_pre.cpu().detach().numpy()))\n",
    "    all_true1.extend(list(batch.Label.cpu().detach().numpy()))"
   ]
  },
  {
   "cell_type": "code",
   "execution_count": 37,
   "id": "b7390a0a",
   "metadata": {
    "ExecuteTime": {
     "end_time": "2022-12-17T16:23:54.267403Z",
     "start_time": "2022-12-17T16:23:54.260788Z"
    }
   },
   "outputs": [
    {
     "data": {
      "text/plain": [
       "tensor([[0.3930, 0.7980],\n",
       "        [0.9136, 0.1097],\n",
       "        [0.7367, 0.5076],\n",
       "        [0.9056, 0.2193],\n",
       "        [0.9568, 0.1130],\n",
       "        [0.4598, 0.6977],\n",
       "        [0.9026, 0.1739],\n",
       "        [0.3599, 0.7787],\n",
       "        [0.9153, 0.2076],\n",
       "        [0.4614, 0.7348],\n",
       "        [0.6646, 0.5803],\n",
       "        [0.8807, 0.2024],\n",
       "        [0.9819, 0.0596],\n",
       "        [0.9545, 0.0687],\n",
       "        [0.9457, 0.0465],\n",
       "        [0.8315, 0.4037],\n",
       "        [0.9132, 0.1094],\n",
       "        [0.9417, 0.0713]], device='cuda:0', grad_fn=<SqrtBackward>)"
      ]
     },
     "execution_count": 37,
     "metadata": {},
     "output_type": "execute_result"
    }
   ],
   "source": [
    "out"
   ]
  },
  {
   "cell_type": "code",
   "execution_count": 40,
   "id": "32dfa8fa",
   "metadata": {
    "ExecuteTime": {
     "end_time": "2022-12-17T16:24:14.420106Z",
     "start_time": "2022-12-17T16:24:14.415551Z"
    }
   },
   "outputs": [
    {
     "data": {
      "text/plain": [
       "tensor([1, 0, 0, 0, 0, 1, 0, 1, 0, 1, 0, 0, 0, 0, 0, 0, 0, 0], device='cuda:0')"
      ]
     },
     "execution_count": 40,
     "metadata": {},
     "output_type": "execute_result"
    }
   ],
   "source": [
    "torch.max(out, -1)[1]"
   ]
  },
  {
   "cell_type": "code",
   "execution_count": 34,
   "id": "abaa25a8",
   "metadata": {
    "ExecuteTime": {
     "end_time": "2022-12-17T15:19:21.089672Z",
     "start_time": "2022-12-17T15:19:20.010809Z"
    }
   },
   "outputs": [
    {
     "name": "stdout",
     "output_type": "stream",
     "text": [
      "TEST Accuracy : 0.82650287629023\n",
      "TEST AUC : 0.9054324923265014\n",
      "              precision    recall  f1-score   support\n",
      "\n",
      "           0     0.8351    0.8193    0.8272     86495\n",
      "           1     0.8180    0.8339    0.8258     84211\n",
      "\n",
      "    accuracy                         0.8265    170706\n",
      "   macro avg     0.8266    0.8266    0.8265    170706\n",
      "weighted avg     0.8267    0.8265    0.8265    170706\n",
      "\n"
     ]
    },
    {
     "data": {
      "image/png": "[encoded data removed]",
      "text/plain": [
       "<Figure size 288x288 with 1 Axes>"
      ]
     },
     "metadata": {
      "needs_background": "light"
     },
     "output_type": "display_data"
    },
    {
     "data": {
      "image/png": "[encoded data removed]",
      "text/plain": [
       "<Figure size 216x216 with 2 Axes>"
      ]
     },
     "metadata": {
      "needs_background": "light"
     },
     "output_type": "display_data"
    }
   ],
   "source": [
    "auc = roc_auc_score(all_true1, all_p1)\n",
    "acc = metrics.accuracy_score(all_true1,all_pred1)\n",
    "print('TEST Accuracy : {}'.format(acc))\n",
    "print('TEST AUC : {}'.format(auc))\n",
    "print(classification_report(all_true1, all_pred1, digits=4))\n",
    "\n",
    "\n",
    "plt.figure(figsize=(4, 4))\n",
    "fpr, tpr, _ = roc_curve(all_true1, all_p1)\n",
    "plt.plot(fpr, tpr, marker='.', label='AUC = {:.4f}'.format(auc), color='orange')\n",
    "plt.title('ROC curve')\n",
    "plt.xlabel('False Positive Rate')\n",
    "plt.ylabel('True Positive Rate')\n",
    "plt.legend()\n",
    "plt.show()\n",
    "\n",
    "cf_matrix = confusion_matrix(all_true1, all_pred1)\n",
    "plt.figure(figsize=(3, 3))\n",
    "sns.heatmap(cf_matrix, annot=True, fmt=',.0f')\n",
    "plt.show()"
   ]
  },
  {
   "cell_type": "code",
   "execution_count": 17,
   "id": "fe852362",
   "metadata": {
    "ExecuteTime": {
     "end_time": "2022-11-28T14:17:14.198945Z",
     "start_time": "2022-11-28T14:17:14.194968Z"
    }
   },
   "outputs": [],
   "source": [
    "np.save('log/result_CapsNet_fpr.npy', fpr)\n",
    "np.save('log/result_CapsNet_tpr.npy', tpr)"
   ]
  },
  {
   "cell_type": "code",
   "execution_count": 35,
   "id": "34df53df",
   "metadata": {
    "ExecuteTime": {
     "end_time": "2022-12-17T15:19:21.134443Z",
     "start_time": "2022-12-17T15:19:21.091501Z"
    }
   },
   "outputs": [],
   "source": [
    "np.save('log/result_massivekb_ypred_capsnet.npy', np.array(all_pred1))\n",
    "np.save('log/result_massivekb_yprob_capsnet.npy', np.array(all_p1))\n",
    "np.save('log/result_massivekb_ytrue_capsnet.npy', np.array(all_true1))"
   ]
  },
  {
   "cell_type": "markdown",
   "id": "d205d4d3",
   "metadata": {},
   "source": [
    "# Case of cleavage sites count"
   ]
  },
  {
   "cell_type": "code",
   "execution_count": 18,
   "id": "fd742e63",
   "metadata": {
    "ExecuteTime": {
     "end_time": "2022-11-28T14:33:56.221166Z",
     "start_time": "2022-11-28T14:33:56.178366Z"
    }
   },
   "outputs": [],
   "source": [
    "probs = np.array(all_p1)\n",
    "y_test = np.array(all_true1)\n",
    "y_pred = np.array(all_pred1)"
   ]
  },
  {
   "cell_type": "code",
   "execution_count": 21,
   "id": "8a35c573",
   "metadata": {
    "ExecuteTime": {
     "end_time": "2022-11-28T14:38:33.562495Z",
     "start_time": "2022-11-28T14:38:33.557959Z"
    }
   },
   "outputs": [],
   "source": [
    "miss0_idx = np.load('RefModel/2021MDPI_CapsNet/CapsNet_miss0_idx.npy')\n",
    "miss1_idx = np.load('RefModel/2021MDPI_CapsNet/CapsNet_miss1_idx.npy')\n",
    "miss2_idx = np.load('RefModel/2021MDPI_CapsNet/CapsNet_miss2_idx.npy')"
   ]
  },
  {
   "cell_type": "code",
   "execution_count": 22,
   "id": "06ba7212",
   "metadata": {
    "ExecuteTime": {
     "end_time": "2022-11-28T14:38:36.278430Z",
     "start_time": "2022-11-28T14:38:33.981173Z"
    },
    "scrolled": false
   },
   "outputs": [
    {
     "name": "stdout",
     "output_type": "stream",
     "text": [
      "Test AUC : 0.8691868599385262\n",
      "              precision    recall  f1-score   support\n",
      "\n",
      "           0     0.8273    0.5418    0.6547     10970\n",
      "           1     0.8852    0.9690    0.9252     40007\n",
      "\n",
      "    accuracy                         0.8770     50977\n",
      "   macro avg     0.8562    0.7554    0.7900     50977\n",
      "weighted avg     0.8727    0.8770    0.8670     50977\n",
      "\n"
     ]
    },
    {
     "data": {
      "image/png": "[encoded data removed]",
      "text/plain": [
       "<Figure size 288x288 with 1 Axes>"
      ]
     },
     "metadata": {
      "needs_background": "light"
     },
     "output_type": "display_data"
    },
    {
     "data": {
      "image/png": "[encoded data removed]",
      "text/plain": [
       "<Figure size 216x216 with 2 Axes>"
      ]
     },
     "metadata": {
      "needs_background": "light"
     },
     "output_type": "display_data"
    },
    {
     "name": "stdout",
     "output_type": "stream",
     "text": [
      "Test AUC : 0.8498007756244284\n",
      "              precision    recall  f1-score   support\n",
      "\n",
      "           0     0.7714    0.7450    0.7580     31745\n",
      "           1     0.7641    0.7891    0.7764     33229\n",
      "\n",
      "    accuracy                         0.7675     64974\n",
      "   macro avg     0.7677    0.7670    0.7672     64974\n",
      "weighted avg     0.7677    0.7675    0.7674     64974\n",
      "\n"
     ]
    },
    {
     "data": {
      "image/png": "[encoded data removed]",
      "text/plain": [
       "<Figure size 288x288 with 1 Axes>"
      ]
     },
     "metadata": {
      "needs_background": "light"
     },
     "output_type": "display_data"
    },
    {
     "data": {
      "image/png": "[encoded data removed]",
      "text/plain": [
       "<Figure size 216x216 with 2 Axes>"
      ]
     },
     "metadata": {
      "needs_background": "light"
     },
     "output_type": "display_data"
    },
    {
     "name": "stdout",
     "output_type": "stream",
     "text": [
      "Test AUC : 0.8630282995012336\n",
      "              precision    recall  f1-score   support\n",
      "\n",
      "           0     0.8779    0.9428    0.9092     43780\n",
      "           1     0.6764    0.4768    0.5594     10975\n",
      "\n",
      "    accuracy                         0.8494     54755\n",
      "   macro avg     0.7772    0.7098    0.7343     54755\n",
      "weighted avg     0.8375    0.8494    0.8391     54755\n",
      "\n"
     ]
    },
    {
     "data": {
      "image/png": "[encoded data removed]",
      "text/plain": [
       "<Figure size 288x288 with 1 Axes>"
      ]
     },
     "metadata": {
      "needs_background": "light"
     },
     "output_type": "display_data"
    },
    {
     "data": {
      "image/png": "[encoded data removed]",
      "text/plain": [
       "<Figure size 216x216 with 2 Axes>"
      ]
     },
     "metadata": {
      "needs_background": "light"
     },
     "output_type": "display_data"
    }
   ],
   "source": [
    "y_pred = np.array(y_pred)\n",
    "probs_miss0 = probs[miss0_idx]\n",
    "probs_miss1 = probs[miss1_idx]\n",
    "probs_miss2 = probs[miss2_idx]\n",
    "y_pred_miss0 = y_pred[miss0_idx]\n",
    "y_pred_miss1 = y_pred[miss1_idx]\n",
    "y_pred_miss2 = y_pred[miss2_idx]\n",
    "y_test_miss0 = y_test[miss0_idx]\n",
    "y_test_miss1 = y_test[miss1_idx]\n",
    "y_test_miss2 = y_test[miss2_idx]\n",
    "\n",
    "auc = roc_auc_score(y_test_miss0, probs_miss0)\n",
    "print('Test AUC : {}'.format(auc))\n",
    "print(classification_report(y_test_miss0, y_pred_miss0, digits=4))\n",
    "\n",
    "plt.figure(figsize=(4, 4))\n",
    "fpr, tpr, _ = roc_curve(y_test_miss0, probs_miss0)\n",
    "plt.plot(fpr, tpr, marker='.', label='AUC = {:.4f}'.format(auc), color='orange')\n",
    "plt.title('ROC curve')\n",
    "plt.xlabel('False Positive Rate')\n",
    "plt.ylabel('True Positive Rate')\n",
    "plt.legend()\n",
    "plt.show()\n",
    "\n",
    "cf_matrix = confusion_matrix(y_test_miss0, y_pred_miss0)\n",
    "plt.figure(figsize=(3, 3))\n",
    "sns.heatmap(cf_matrix, annot=True, fmt=',.0f')\n",
    "plt.show()\n",
    "\n",
    "auc = roc_auc_score(y_test_miss1, probs_miss1)\n",
    "print('Test AUC : {}'.format(auc))\n",
    "print(classification_report(y_test_miss1, y_pred_miss1, digits=4))\n",
    "\n",
    "plt.figure(figsize=(4, 4))\n",
    "fpr, tpr, _ = roc_curve(y_test_miss1, probs_miss1)\n",
    "plt.plot(fpr, tpr, marker='.', label='AUC = {:.4f}'.format(auc), color='orange')\n",
    "plt.title('ROC curve')\n",
    "plt.xlabel('False Positive Rate')\n",
    "plt.ylabel('True Positive Rate')\n",
    "plt.legend()\n",
    "plt.show()\n",
    "\n",
    "cf_matrix = confusion_matrix(y_test_miss1, y_pred_miss1)\n",
    "plt.figure(figsize=(3, 3))\n",
    "sns.heatmap(cf_matrix, annot=True, fmt=',.0f')\n",
    "plt.show()\n",
    "\n",
    "auc = roc_auc_score(y_test_miss2, probs_miss2)\n",
    "print('Test AUC : {}'.format(auc))\n",
    "print(classification_report(y_test_miss2, y_pred_miss2, digits=4))\n",
    "\n",
    "plt.figure(figsize=(4, 4))\n",
    "fpr, tpr, _ = roc_curve(y_test_miss2, probs_miss2)\n",
    "plt.plot(fpr, tpr, marker='.', label='AUC = {:.4f}'.format(auc), color='orange')\n",
    "plt.title('ROC curve')\n",
    "plt.xlabel('False Positive Rate')\n",
    "plt.ylabel('True Positive Rate')\n",
    "plt.legend()\n",
    "plt.show()\n",
    "\n",
    "cf_matrix = confusion_matrix(y_test_miss2, y_pred_miss2)\n",
    "plt.figure(figsize=(3, 3))\n",
    "sns.heatmap(cf_matrix, annot=True, fmt=',.0f')\n",
    "plt.show()\n",
    "\n"
   ]
  },
  {
   "cell_type": "markdown",
   "id": "dfc3b9ff",
   "metadata": {},
   "source": [
    "# Cross species - Mouse"
   ]
  },
  {
   "cell_type": "code",
   "execution_count": 70,
   "id": "ea8b621e",
   "metadata": {
    "ExecuteTime": {
     "end_time": "2022-10-31T07:46:10.255445Z",
     "start_time": "2022-10-31T06:23:51.341253Z"
    }
   },
   "outputs": [
    {
     "name": "stderr",
     "output_type": "stream",
     "text": [
      "/home/bis/miniconda3/envs/torch/lib/python3.6/site-packages/torchtext/data/example.py:68: UserWarning: Example class will be retired soon and moved to torchtext.legacy. Please see the most recent release notes for further information.\n",
      "  warnings.warn('Example class will be retired soon and moved to torchtext.legacy. Please see the most recent release notes for further information.', UserWarning)\n",
      "/home/bis/miniconda3/envs/torch/lib/python3.6/site-packages/torchtext/data/example.py:78: UserWarning: Example class will be retired soon and moved to torchtext.legacy. Please see the most recent release notes for further information.\n",
      "  warnings.warn('Example class will be retired soon and moved to torchtext.legacy. Please see the most recent release notes for further information.', UserWarning)\n",
      "/home/bis/miniconda3/envs/torch/lib/python3.6/site-packages/torchtext/data/iterator.py:48: UserWarning: BucketIterator class will be retired soon and moved to torchtext.legacy. Please see the most recent release notes for further information.\n",
      "  warnings.warn('{} class will be retired soon and moved to torchtext.legacy. Please see the most recent release notes for further information.'.format(self.__class__.__name__), UserWarning)\n",
      "/home/bis/miniconda3/envs/torch/lib/python3.6/site-packages/torchtext/data/batch.py:23: UserWarning: Batch class will be retired soon and moved to torchtext.legacy. Please see the most recent release notes for further information.\n",
      "  warnings.warn('{} class will be retired soon and moved to torchtext.legacy. Please see the most recent release notes for further information.'.format(self.__class__.__name__), UserWarning)\n"
     ]
    },
    {
     "name": "stdout",
     "output_type": "stream",
     "text": [
      "TEST Accuracy : 0.6813797315214943\n",
      "TEST AUC : 0.8942877602685556\n",
      "              precision    recall  f1-score   support\n",
      "\n",
      "           0     0.9933    0.6619    0.7944   1602113\n",
      "           1     0.1730    0.9408    0.2923    120483\n",
      "\n",
      "    accuracy                         0.6814   1722596\n",
      "   macro avg     0.5832    0.8013    0.5434   1722596\n",
      "weighted avg     0.9359    0.6814    0.7593   1722596\n",
      "\n"
     ]
    },
    {
     "data": {
      "image/png": "[encoded data removed]",
      "text/plain": [
       "<Figure size 288x288 with 1 Axes>"
      ]
     },
     "metadata": {
      "needs_background": "light"
     },
     "output_type": "display_data"
    },
    {
     "data": {
      "image/png": "[encoded data removed]",
      "text/plain": [
       "<Figure size 216x216 with 2 Axes>"
      ]
     },
     "metadata": {
      "needs_background": "light"
     },
     "output_type": "display_data"
    }
   ],
   "source": [
    "from torchtext import data, datasets\n",
    "\n",
    "tmp = pd.concat([\n",
    "    pd.read_csv('/data/2021_SJH_detectability/data_cross_species/raw/mouse/train.csv'),\n",
    "    pd.read_csv('/data/2021_SJH_detectability/data_cross_species/raw/mouse/test.csv'),\n",
    "])[['peptide', 'label']]  # .drop_duplicates()\n",
    "tmp = tmp[tmp.peptide.apply(lambda x: 'B' not in x)].reset_index(drop=True)\n",
    "tmp = tmp[tmp.peptide.apply(lambda x: 'Z' not in x)].reset_index(drop=True)\n",
    "tmp = tmp.rename({'peptide': 'Seq','label': 'Label'}, axis=1)\n",
    "tmp['Label'] = tmp.Label.apply(lambda x: {True: 1, False:0}[x])\n",
    "\n",
    "tmp.to_csv('RefModel/2021MDPI_CapsNet/mouse.csv', index=False)\n",
    "\n",
    "train1,val1,test1 = data.TabularDataset.splits(\n",
    "        path='RefModel/2021MDPI_CapsNet/', train='mouse.csv',validation='mouse.csv',test='mouse.csv', format='csv',skip_header=True,\n",
    "        fields=[('Seqs', TEXT), ('Label', LABEL)])\n",
    "# TEXT.build_vocab(train1,val1,test1)\n",
    "test_iter = data.BucketIterator(val1, batch_size=32, sort_key=lambda x: len(x.Seqs), \n",
    "                                 shuffle=True,device=DEVICE)\n",
    "\n",
    "all_pred1 = []\n",
    "all_true1 = []\n",
    "all_p1 = []\n",
    "\n",
    "for batch_idx, batch in enumerate(test_iter):\n",
    "    data = batch.Seqs\n",
    "    data = data.permute(1, 0)\n",
    "    \n",
    "    out = model_retrained(data)\n",
    "    out = torch.sqrt(torch.sum(out * out, 2))\n",
    "    out1 = out[:, 1]\n",
    "    _, y_pre = torch.max(out, -1)\n",
    "    all_p1.extend(list(out1.cpu().detach().numpy()))\n",
    "    all_pred1.extend(list(y_pre.cpu().detach().numpy()))\n",
    "    all_true1.extend(list(batch.Label.cpu().detach().numpy()))\n",
    "    \n",
    "auc = roc_auc_score(all_true1, all_p1)\n",
    "acc = metrics.accuracy_score(all_true1,all_pred1)\n",
    "print('TEST Accuracy : {}'.format(acc))\n",
    "print('TEST AUC : {}'.format(auc))\n",
    "print(classification_report(all_true1, all_pred1, digits=4))\n",
    "\n",
    "\n",
    "plt.figure(figsize=(4, 4))\n",
    "fpr, tpr, _ = roc_curve(all_true1, all_p1)\n",
    "plt.plot(fpr, tpr, marker='.', label='AUC = {:.4f}'.format(auc), color='orange')\n",
    "plt.title('ROC curve')\n",
    "plt.xlabel('False Positive Rate')\n",
    "plt.ylabel('True Positive Rate')\n",
    "plt.legend()\n",
    "plt.show()\n",
    "\n",
    "cf_matrix = confusion_matrix(all_true1, all_pred1)\n",
    "plt.figure(figsize=(3, 3))\n",
    "sns.heatmap(cf_matrix, annot=True, fmt=',.0f')\n",
    "plt.show()"
   ]
  }
 ],
 "metadata": {
  "kernelspec": {
   "display_name": "torch",
   "language": "python",
   "name": "torch"
  },
  "language_info": {
   "codemirror_mode": {
    "name": "ipython",
    "version": 3
   },
   "file_extension": ".py",
   "mimetype": "text/x-python",
   "name": "python",
   "nbconvert_exporter": "python",
   "pygments_lexer": "ipython3",
   "version": "3.6.13"
  }
 },
 "nbformat": 4,
 "nbformat_minor": 5
}
