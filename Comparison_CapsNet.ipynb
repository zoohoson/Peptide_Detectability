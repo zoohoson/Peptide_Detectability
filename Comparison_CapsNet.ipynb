{
 "cells": [
  {
   "cell_type": "code",
   "execution_count": 2,
   "id": "3a8ab587",
   "metadata": {
    "ExecuteTime": {
     "end_time": "2022-05-28T13:56:29.227756Z",
     "start_time": "2022-05-28T13:56:28.276888Z"
    }
   },
   "outputs": [
    {
     "data": {
      "text/plain": [
       "device(type='cuda')"
      ]
     },
     "execution_count": 2,
     "metadata": {},
     "output_type": "execute_result"
    }
   ],
   "source": [
    "import pandas as pd\n",
    "import numpy as np\n",
    "import matplotlib.pyplot as plt\n",
    "import seaborn as sns\n",
    "from sklearn.metrics import classification_report\n",
    "from sklearn.metrics import confusion_matrix\n",
    "from sklearn.metrics import roc_curve\n",
    "from sklearn.metrics import roc_auc_score\n",
    "from sklearn.model_selection import train_test_split\n",
    "\n",
    "from sklearn import metrics\n",
    "\n",
    "import torch\n",
    "from torchtext import data, datasets\n",
    "from torchtext.vocab import Vectors\n",
    "from torch.nn import init\n",
    "from torch.autograd import Variable\n",
    "import torch.nn as nn\n",
    "import torch.nn.functional as F\n",
    "import torch.optim as optim\n",
    "DEVICE = torch.device(\"cuda\" if torch.cuda.is_available() else \"cpu\")\n",
    "DEVICE"
   ]
  },
  {
   "cell_type": "code",
   "execution_count": 3,
   "id": "af73cad5",
   "metadata": {
    "ExecuteTime": {
     "end_time": "2022-05-28T13:57:01.580140Z",
     "start_time": "2022-05-28T13:56:45.397400Z"
    }
   },
   "outputs": [
    {
     "name": "stderr",
     "output_type": "stream",
     "text": [
      "/home/bis/miniconda3/envs/torch/lib/python3.6/site-packages/torchtext/data/field.py:150: UserWarning: Field class will be retired soon and moved to torchtext.legacy. Please see the most recent release notes for further information.\n",
      "  warnings.warn('{} class will be retired soon and moved to torchtext.legacy. Please see the most recent release notes for further information.'.format(self.__class__.__name__), UserWarning)\n",
      "/home/bis/miniconda3/envs/torch/lib/python3.6/site-packages/torchtext/data/example.py:68: UserWarning: Example class will be retired soon and moved to torchtext.legacy. Please see the most recent release notes for further information.\n",
      "  warnings.warn('Example class will be retired soon and moved to torchtext.legacy. Please see the most recent release notes for further information.', UserWarning)\n",
      "/home/bis/miniconda3/envs/torch/lib/python3.6/site-packages/torchtext/data/example.py:78: UserWarning: Example class will be retired soon and moved to torchtext.legacy. Please see the most recent release notes for further information.\n",
      "  warnings.warn('Example class will be retired soon and moved to torchtext.legacy. Please see the most recent release notes for further information.', UserWarning)\n",
      "/home/bis/miniconda3/envs/torch/lib/python3.6/site-packages/torchtext/data/iterator.py:48: UserWarning: BucketIterator class will be retired soon and moved to torchtext.legacy. Please see the most recent release notes for further information.\n",
      "  warnings.warn('{} class will be retired soon and moved to torchtext.legacy. Please see the most recent release notes for further information.'.format(self.__class__.__name__), UserWarning)\n"
     ]
    }
   ],
   "source": [
    "from model_CapsNet import *"
   ]
  },
  {
   "cell_type": "code",
   "execution_count": 4,
   "id": "ef1d9e56",
   "metadata": {
    "ExecuteTime": {
     "end_time": "2022-05-28T13:57:06.933576Z",
     "start_time": "2022-05-28T13:57:05.123080Z"
    }
   },
   "outputs": [],
   "source": [
    "def tokenizer(text): # create a tokenizer function\n",
    "    \"\"\"\n",
    "    定义分词操作\n",
    "    \"\"\"\n",
    "    return list(text)\n",
    "LABEL = data.Field(sequential=False, use_vocab=False)\n",
    "TEXT = data.Field(sequential=True, tokenize=tokenizer ,fix_length=45)\n",
    "original_train, original_val, original_test = data.TabularDataset.splits(\n",
    "        path='2021MDPI_CapsNet/data/', train='train.csv', validation='train.csv',test='test.csv', format='csv',skip_header=True,\n",
    "        fields=[('Seqs', TEXT), ('Label', LABEL)])\n",
    "TEXT.build_vocab(original_train, original_val, original_test)"
   ]
  },
  {
   "cell_type": "code",
   "execution_count": 5,
   "id": "f4ae7b84",
   "metadata": {
    "ExecuteTime": {
     "end_time": "2022-05-28T13:57:08.641848Z",
     "start_time": "2022-05-28T13:57:08.363981Z"
    }
   },
   "outputs": [],
   "source": [
    "model = CapsuleNet()\n",
    "\"\"\"\n",
    "将前面生成的词向量矩阵拷贝到模型的embedding层\n",
    "这样就自动的可以将输入的word index转为词向量\n",
    "\"\"\"\n",
    "# 训练\n",
    "model.to(DEVICE)\n",
    "# 训练\n",
    "optimizer = optim.Adam(model.parameters(),lr=0.001)"
   ]
  },
  {
   "cell_type": "code",
   "execution_count": 6,
   "id": "09fe4e09",
   "metadata": {
    "ExecuteTime": {
     "end_time": "2022-05-28T13:57:09.894444Z",
     "start_time": "2022-05-28T13:57:09.892336Z"
    }
   },
   "outputs": [],
   "source": [
    "n_class = 2"
   ]
  },
  {
   "cell_type": "code",
   "execution_count": 7,
   "id": "e660c63b",
   "metadata": {
    "ExecuteTime": {
     "end_time": "2022-05-28T13:57:10.168480Z",
     "start_time": "2022-05-28T13:57:10.124802Z"
    }
   },
   "outputs": [
    {
     "data": {
      "text/plain": [
       "CapsuleNet(\n",
       "  (embedding): Embedding(22, 20)\n",
       "  (lstm): LSTM(20, 40, batch_first=True)\n",
       "  (conv1): Conv2d(1, 256, kernel_size=(9, 9), stride=(1, 1))\n",
       "  (conv3): Conv2d(1, 256, kernel_size=(8, 8), stride=(1, 1))\n",
       "  (cbamBlock): CBAMBlock(\n",
       "    (avg_pool): AdaptiveAvgPool2d(output_size=1)\n",
       "    (max_pool): AdaptiveMaxPool2d(output_size=1)\n",
       "    (channel_excitation): Sequential(\n",
       "      (0): Linear(in_features=256, out_features=16, bias=False)\n",
       "      (1): ReLU(inplace=True)\n",
       "      (2): Linear(in_features=16, out_features=256, bias=False)\n",
       "    )\n",
       "    (sigmoid): Sigmoid()\n",
       "    (spatial_excitation): Sequential(\n",
       "      (0): Conv2d(2, 1, kernel_size=(7, 7), stride=(1, 1), padding=(3, 3), bias=False)\n",
       "    )\n",
       "  )\n",
       "  (conv2): Conv2d(256, 256, kernel_size=(9, 9), stride=(2, 2))\n",
       "  (conv4): Conv2d(256, 256, kernel_size=(8, 8), stride=(2, 2))\n",
       "  (capsule): Capsule()\n",
       ")"
      ]
     },
     "execution_count": 7,
     "metadata": {},
     "output_type": "execute_result"
    }
   ],
   "source": [
    "model.load_state_dict(torch.load('2021MDPI_CapsNet/model/params.pkl'))#, map_location='cpu'))\n",
    "model.eval()"
   ]
  },
  {
   "cell_type": "markdown",
   "id": "7b7bcf65",
   "metadata": {},
   "source": [
    "# HPP"
   ]
  },
  {
   "cell_type": "code",
   "execution_count": 7,
   "id": "62d45af9",
   "metadata": {
    "ExecuteTime": {
     "end_time": "2022-05-27T16:43:04.485832Z",
     "start_time": "2022-05-27T16:43:04.436033Z"
    }
   },
   "outputs": [],
   "source": [
    "df_hpp = pd.read_csv('data/HPP.csv')[['peptide', 'Class']]\n",
    "\n",
    "pe1 = df_hpp.loc[df_hpp['Class']=='PE1'].rename({'peptide':'Seqs', 'Class':'Label'}, axis=1).reset_index(drop=True)\n",
    "dmp = df_hpp.loc[df_hpp['Class']=='Detected_MPs'].rename({'peptide':'Seqs', 'Class':'Label'}, axis=1).reset_index(drop=True)\n",
    "mp = df_hpp.loc[df_hpp['Class']=='MPs'].rename({'peptide':'Seqs', 'Class':'Label'}, axis=1).reset_index(drop=True)\n",
    "\n",
    "pe1['Label']=1\n",
    "dmp['Label']=1\n",
    "mp['Label']=0\n",
    "\n",
    "pe1.to_csv('2021MDPI_CapsNet/pe1.csv', index=False)\n",
    "dmp.to_csv('2021MDPI_CapsNet/dmp.csv', index=False)\n",
    "mp.to_csv('2021MDPI_CapsNet/mp.csv', index=False)"
   ]
  },
  {
   "cell_type": "code",
   "execution_count": 8,
   "id": "5c073613",
   "metadata": {
    "ExecuteTime": {
     "end_time": "2022-05-27T16:43:12.415564Z",
     "start_time": "2022-05-27T16:43:12.041524Z"
    }
   },
   "outputs": [],
   "source": [
    "train1,val1,test1 = data.TabularDataset.splits(\n",
    "        path='2021MDPI_CapsNet/', train='pe1.csv',validation='pe1.csv',test='pe1.csv', format='csv',skip_header=True,\n",
    "        fields=[('Seqs', TEXT), ('Label', LABEL)])\n",
    "# TEXT.build_vocab(train1,val1,test1)\n",
    "test_iter1 = data.BucketIterator(val1, batch_size=32, sort_key=lambda x: len(x.Seqs), \n",
    "                                 shuffle=True,device=DEVICE)\n",
    "\n",
    "train2,val2,test2 = data.TabularDataset.splits(\n",
    "        path='2021MDPI_CapsNet/', train='dmp.csv',validation='dmp.csv',test='dmp.csv', format='csv',skip_header=True,\n",
    "        fields=[('Seqs', TEXT), ('Label', LABEL)])\n",
    "# TEXT.build_vocab(train2,val2,test2)\n",
    "test_iter2 = data.BucketIterator(val2, batch_size=32, sort_key=lambda x: len(x.Seqs), \n",
    "                                 shuffle=True,device=DEVICE)\n",
    "\n",
    "train3,val3,test3 = data.TabularDataset.splits(\n",
    "        path='2021MDPI_CapsNet/', train='mp.csv',validation='mp.csv',test='mp.csv', format='csv',skip_header=True,\n",
    "        fields=[('Seqs', TEXT), ('Label', LABEL)])\n",
    "# TEXT.build_vocab(train3, val3,test3)\n",
    "test_iter3 = data.BucketIterator(val3, batch_size=32, sort_key=lambda x: len(x.Seqs), \n",
    "                                 shuffle=True,device=DEVICE)"
   ]
  },
  {
   "cell_type": "code",
   "execution_count": 9,
   "id": "9451ea6f",
   "metadata": {
    "ExecuteTime": {
     "end_time": "2022-05-27T16:43:45.219490Z",
     "start_time": "2022-05-27T16:43:23.069353Z"
    }
   },
   "outputs": [
    {
     "name": "stderr",
     "output_type": "stream",
     "text": [
      "/home/bis/miniconda3/envs/torch/lib/python3.6/site-packages/torchtext/data/batch.py:23: UserWarning: Batch class will be retired soon and moved to torchtext.legacy. Please see the most recent release notes for further information.\n",
      "  warnings.warn('{} class will be retired soon and moved to torchtext.legacy. Please see the most recent release notes for further information.'.format(self.__class__.__name__), UserWarning)\n"
     ]
    }
   ],
   "source": [
    "all_pred1 = []\n",
    "all_true1 = []\n",
    "all_p1 = []\n",
    "for batch_idx, batch in enumerate(test_iter1):\n",
    "        data = batch.Seqs\n",
    "        target = batch.Label\n",
    "        target = torch.sparse.torch.eye(n_class).index_select(dim=0, index=target.cpu().data)\n",
    "        target = target.to(DEVICE)\n",
    "        data = data.permute(1,0)\n",
    "        try:\n",
    "            out = model(data)\n",
    "        except:\n",
    "            print(data)\n",
    "        out = torch.sqrt(torch.sum(out*out, 2))\n",
    "        out1 = out[:,1]\n",
    "        _,y_pre = torch.max(out,-1)\n",
    "        \n",
    "        all_p1.extend(list(out1.cpu().detach().numpy()))\n",
    "        all_pred1.extend(list(y_pre.cpu().detach().numpy()))\n",
    "        all_true1.extend(list(batch.Label.cpu().detach().numpy()))"
   ]
  },
  {
   "cell_type": "code",
   "execution_count": 10,
   "id": "cb16b02c",
   "metadata": {
    "ExecuteTime": {
     "end_time": "2022-05-27T16:44:06.551054Z",
     "start_time": "2022-05-27T16:43:45.222341Z"
    }
   },
   "outputs": [],
   "source": [
    "all_pred2 = []\n",
    "all_true2 = []\n",
    "all_p2 = []\n",
    "for batch_idx, batch in enumerate(test_iter2):\n",
    "        data = batch.Seqs\n",
    "        target = batch.Label\n",
    "        target = torch.sparse.torch.eye(n_class).index_select(dim=0, index=target.cpu().data)\n",
    "        target = target.to(DEVICE)\n",
    "        data = data.permute(1,0)\n",
    "        out = model(data)\n",
    "        out = torch.sqrt(torch.sum(out*out, 2))\n",
    "        out1 = out[:,1]\n",
    "        _,y_pre = torch.max(out,-1)\n",
    "        \n",
    "        all_p2.extend(list(out1.cpu().detach().numpy()))\n",
    "        all_pred2.extend(list(y_pre.cpu().detach().numpy()))\n",
    "        all_true2.extend(list(batch.Label.cpu().detach().numpy()))"
   ]
  },
  {
   "cell_type": "code",
   "execution_count": 11,
   "id": "59f68582",
   "metadata": {
    "ExecuteTime": {
     "end_time": "2022-05-27T16:44:22.538173Z",
     "start_time": "2022-05-27T16:44:06.555179Z"
    }
   },
   "outputs": [],
   "source": [
    "all_pred3 = []\n",
    "all_true3 = []\n",
    "all_p3 = []\n",
    "for batch_idx, batch in enumerate(test_iter3):\n",
    "        data = batch.Seqs\n",
    "        target = batch.Label\n",
    "        target = torch.sparse.torch.eye(n_class).index_select(dim=0, index=target.cpu().data)\n",
    "        target = target.to(DEVICE)\n",
    "        data = data.permute(1,0)\n",
    "        out = model(data)\n",
    "        out = torch.sqrt(torch.sum(out*out, 2))\n",
    "        out1 = out[:,1]\n",
    "        _,y_pre = torch.max(out,-1)\n",
    "        \n",
    "        all_p3.extend(list(out1.cpu().detach().numpy()))\n",
    "        all_pred3.extend(list(y_pre.cpu().detach().numpy()))\n",
    "        all_true3.extend(list(batch.Label.cpu().detach().numpy()))"
   ]
  },
  {
   "cell_type": "code",
   "execution_count": 12,
   "id": "9be6f16a",
   "metadata": {
    "ExecuteTime": {
     "end_time": "2022-05-27T16:44:22.749509Z",
     "start_time": "2022-05-27T16:44:22.540514Z"
    }
   },
   "outputs": [
    {
     "data": {
      "image/png": "[encoded data removed]",
      "text/plain": [
       "<Figure size 360x216 with 1 Axes>"
      ]
     },
     "metadata": {
      "needs_background": "light"
     },
     "output_type": "display_data"
    }
   ],
   "source": [
    "plt.figure(figsize=(5,3))\n",
    "a = plt.violinplot([list(map(lambda x: 1-x, all_p1)), \n",
    "                    list(map(lambda x: 1-x, all_p2)), \n",
    "                    list(map(lambda x: 1-x, all_p3))],\n",
    "               showmeans=True,\n",
    "              )\n",
    "plt.xticks([y + 1 for y in range(3)], ['PE1', 'Detected MPs', 'Current MPs'])\n",
    "plt.ylim(-0.05, 1.05)\n",
    "b = plt.grid(axis='y')\n",
    "plt.show()"
   ]
  },
  {
   "cell_type": "markdown",
   "id": "0ef91252",
   "metadata": {},
   "source": [
    "# massIVE-KB"
   ]
  },
  {
   "cell_type": "code",
   "execution_count": 8,
   "id": "75eb468d",
   "metadata": {
    "ExecuteTime": {
     "end_time": "2022-05-28T13:57:17.321285Z",
     "start_time": "2022-05-28T13:57:17.245717Z"
    }
   },
   "outputs": [],
   "source": [
    "from torchtext import data, datasets\n",
    "\n",
    "test = pd.read_csv('2021MDPI_CapsNet/test.csv')"
   ]
  },
  {
   "cell_type": "code",
   "execution_count": 10,
   "id": "bb554bfa",
   "metadata": {
    "ExecuteTime": {
     "end_time": "2022-05-28T13:57:55.664756Z",
     "start_time": "2022-05-28T13:57:47.946876Z"
    }
   },
   "outputs": [
    {
     "name": "stderr",
     "output_type": "stream",
     "text": [
      "/home/bis/miniconda3/envs/torch/lib/python3.6/site-packages/torchtext/data/field.py:150: UserWarning: Field class will be retired soon and moved to torchtext.legacy. Please see the most recent release notes for further information.\n",
      "  warnings.warn('{} class will be retired soon and moved to torchtext.legacy. Please see the most recent release notes for further information.'.format(self.__class__.__name__), UserWarning)\n",
      "/home/bis/miniconda3/envs/torch/lib/python3.6/site-packages/torchtext/data/example.py:68: UserWarning: Example class will be retired soon and moved to torchtext.legacy. Please see the most recent release notes for further information.\n",
      "  warnings.warn('Example class will be retired soon and moved to torchtext.legacy. Please see the most recent release notes for further information.', UserWarning)\n",
      "/home/bis/miniconda3/envs/torch/lib/python3.6/site-packages/torchtext/data/example.py:78: UserWarning: Example class will be retired soon and moved to torchtext.legacy. Please see the most recent release notes for further information.\n",
      "  warnings.warn('Example class will be retired soon and moved to torchtext.legacy. Please see the most recent release notes for further information.', UserWarning)\n"
     ]
    }
   ],
   "source": [
    "LABEL = data.Field(sequential=False, use_vocab=False)\n",
    "TEXT = data.Field(sequential=True, tokenize=tokenizer ,fix_length=45)\n",
    "train, val, test = data.TabularDataset.splits(\n",
    "                                path='2021MDPI_CapsNet/', \n",
    "                                train='train.csv',\n",
    "                                validation='val.csv',\n",
    "                                test='test.csv',\n",
    "                                format='csv',\n",
    "                                skip_header=True,\n",
    "                                fields=[('Seqs', TEXT), ('Label', LABEL)])\n",
    "TEXT.build_vocab(train, val, test)\n",
    "n_class = 2"
   ]
  },
  {
   "cell_type": "code",
   "execution_count": 11,
   "id": "4ec74122",
   "metadata": {
    "ExecuteTime": {
     "end_time": "2022-05-28T13:57:58.542306Z",
     "start_time": "2022-05-28T13:57:58.376321Z"
    }
   },
   "outputs": [
    {
     "data": {
      "text/plain": [
       "CapsuleNet(\n",
       "  (embedding): Embedding(22, 20)\n",
       "  (lstm): LSTM(20, 40, batch_first=True)\n",
       "  (conv1): Conv2d(1, 256, kernel_size=(9, 9), stride=(1, 1))\n",
       "  (conv3): Conv2d(1, 256, kernel_size=(8, 8), stride=(1, 1))\n",
       "  (cbamBlock): CBAMBlock(\n",
       "    (avg_pool): AdaptiveAvgPool2d(output_size=1)\n",
       "    (max_pool): AdaptiveMaxPool2d(output_size=1)\n",
       "    (channel_excitation): Sequential(\n",
       "      (0): Linear(in_features=256, out_features=16, bias=False)\n",
       "      (1): ReLU(inplace=True)\n",
       "      (2): Linear(in_features=16, out_features=256, bias=False)\n",
       "    )\n",
       "    (sigmoid): Sigmoid()\n",
       "    (spatial_excitation): Sequential(\n",
       "      (0): Conv2d(2, 1, kernel_size=(7, 7), stride=(1, 1), padding=(3, 3), bias=False)\n",
       "    )\n",
       "  )\n",
       "  (conv2): Conv2d(256, 256, kernel_size=(9, 9), stride=(2, 2))\n",
       "  (conv4): Conv2d(256, 256, kernel_size=(8, 8), stride=(2, 2))\n",
       "  (capsule): Capsule()\n",
       ")"
      ]
     },
     "execution_count": 11,
     "metadata": {},
     "output_type": "execute_result"
    }
   ],
   "source": [
    "model_retrained = CapsuleNet()\n",
    "model_retrained.to(DEVICE)\n",
    "optimizer = optim.Adam(model_retrained.parameters(),lr=0.001)\n",
    "model_retrained.load_state_dict(torch.load('log/CapsNet.pkl'))\n",
    "model_retrained.eval()"
   ]
  },
  {
   "cell_type": "code",
   "execution_count": 13,
   "id": "8168f9ed",
   "metadata": {
    "ExecuteTime": {
     "end_time": "2022-05-28T13:58:31.011012Z",
     "start_time": "2022-05-28T13:58:31.007939Z"
    }
   },
   "outputs": [
    {
     "name": "stderr",
     "output_type": "stream",
     "text": [
      "/home/bis/miniconda3/envs/torch/lib/python3.6/site-packages/torchtext/data/iterator.py:48: UserWarning: BucketIterator class will be retired soon and moved to torchtext.legacy. Please see the most recent release notes for further information.\n",
      "  warnings.warn('{} class will be retired soon and moved to torchtext.legacy. Please see the most recent release notes for further information.'.format(self.__class__.__name__), UserWarning)\n"
     ]
    }
   ],
   "source": [
    "test_iter = data.BucketIterator(test, batch_size=32, sort_key=lambda x: len(x.Seqs), \n",
    "                                 shuffle=True,device=DEVICE)"
   ]
  },
  {
   "cell_type": "code",
   "execution_count": 21,
   "id": "5a8a90f6",
   "metadata": {
    "ExecuteTime": {
     "end_time": "2022-05-28T14:26:02.585189Z",
     "start_time": "2022-05-28T14:18:38.397381Z"
    }
   },
   "outputs": [
    {
     "name": "stderr",
     "output_type": "stream",
     "text": [
      "/home/bis/miniconda3/envs/torch/lib/python3.6/site-packages/torchtext/data/batch.py:23: UserWarning: Batch class will be retired soon and moved to torchtext.legacy. Please see the most recent release notes for further information.\n",
      "  warnings.warn('{} class will be retired soon and moved to torchtext.legacy. Please see the most recent release notes for further information.'.format(self.__class__.__name__), UserWarning)\n"
     ]
    }
   ],
   "source": [
    "all_pred1 = []\n",
    "all_true1 = []\n",
    "all_p1 = []\n",
    "\n",
    "for batch_idx, batch in enumerate(test_iter):\n",
    "    data = batch.Seqs\n",
    "    data = data.permute(1, 0)\n",
    "    \n",
    "    out = model_retrained(data)\n",
    "    out = torch.sqrt(torch.sum(out * out, 2))\n",
    "    out1 = out[:, 1]\n",
    "    _, y_pre = torch.max(out, -1)\n",
    "    all_p1.extend(list(out1.cpu().detach().numpy()))\n",
    "    all_pred1.extend(list(y_pre.cpu().detach().numpy()))\n",
    "    all_true1.extend(list(batch.Label.cpu().detach().numpy()))"
   ]
  },
  {
   "cell_type": "code",
   "execution_count": 23,
   "id": "76b10d76",
   "metadata": {
    "ExecuteTime": {
     "end_time": "2022-05-28T14:27:49.750265Z",
     "start_time": "2022-05-28T14:27:48.541054Z"
    }
   },
   "outputs": [
    {
     "name": "stdout",
     "output_type": "stream",
     "text": [
      "TEST Accuracy : 0.826775217493534\n",
      "TEST AUC : 0.9066519394863761\n",
      "              precision    recall  f1-score   support\n",
      "\n",
      "           0     0.8189    0.8449    0.8317     86178\n",
      "           1     0.8354    0.8082    0.8216     83942\n",
      "\n",
      "    accuracy                         0.8268    170120\n",
      "   macro avg     0.8271    0.8265    0.8266    170120\n",
      "weighted avg     0.8270    0.8268    0.8267    170120\n",
      "\n"
     ]
    },
    {
     "data": {
      "image/png": "[encoded data removed]",
      "text/plain": [
       "<Figure size 288x288 with 1 Axes>"
      ]
     },
     "metadata": {
      "needs_background": "light"
     },
     "output_type": "display_data"
    },
    {
     "data": {
      "image/png": "[encoded data removed]",
      "text/plain": [
       "<Figure size 216x216 with 2 Axes>"
      ]
     },
     "metadata": {
      "needs_background": "light"
     },
     "output_type": "display_data"
    }
   ],
   "source": [
    "auc = roc_auc_score(all_true1, all_p1)\n",
    "acc = metrics.accuracy_score(all_true1,all_pred1)\n",
    "print('TEST Accuracy : {}'.format(acc))\n",
    "print('TEST AUC : {}'.format(auc))\n",
    "print(classification_report(all_true1, all_pred1, digits=4))\n",
    "\n",
    "\n",
    "plt.figure(figsize=(4, 4))\n",
    "fpr, tpr, _ = roc_curve(all_true1, all_p1)\n",
    "plt.plot(fpr, tpr, marker='.', label='AUC = {:.4f}'.format(auc), color='orange')\n",
    "plt.title('ROC curve')\n",
    "plt.xlabel('False Positive Rate')\n",
    "plt.ylabel('True Positive Rate')\n",
    "plt.legend()\n",
    "plt.show()\n",
    "\n",
    "cf_matrix = confusion_matrix(all_true1, all_pred1)\n",
    "plt.figure(figsize=(3, 3))\n",
    "sns.heatmap(cf_matrix, annot=True, fmt=',.0f')\n",
    "plt.show()"
   ]
  },
  {
   "cell_type": "code",
   "execution_count": 24,
   "id": "fe852362",
   "metadata": {
    "ExecuteTime": {
     "end_time": "2022-05-28T14:28:44.398788Z",
     "start_time": "2022-05-28T14:28:44.395324Z"
    }
   },
   "outputs": [],
   "source": [
    "np.save('log/result_CapsNet_fpr.npy', fpr)\n",
    "np.save('log/result_CapsNet_tpr.npy', tpr)"
   ]
  },
  {
   "cell_type": "code",
   "execution_count": null,
   "id": "61dffe3c",
   "metadata": {},
   "outputs": [],
   "source": []
  }
 ],
 "metadata": {
  "kernelspec": {
   "display_name": "torch",
   "language": "python",
   "name": "torch"
  },
  "language_info": {
   "codemirror_mode": {
    "name": "ipython",
    "version": 3
   },
   "file_extension": ".py",
   "mimetype": "text/x-python",
   "name": "python",
   "nbconvert_exporter": "python",
   "pygments_lexer": "ipython3",
   "version": "3.6.13"
  }
 },
 "nbformat": 4,
 "nbformat_minor": 5
}
