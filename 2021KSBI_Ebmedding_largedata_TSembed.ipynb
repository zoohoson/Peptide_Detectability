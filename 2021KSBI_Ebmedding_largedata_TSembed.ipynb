{
 "cells": [
  {
   "cell_type": "code",
   "execution_count": 1,
   "metadata": {
    "ExecuteTime": {
     "end_time": "2021-10-24T14:38:09.618063Z",
     "start_time": "2021-10-24T14:38:08.858162Z"
    }
   },
   "outputs": [],
   "source": [
    "import pandas as pd\n",
    "import numpy as np\n",
    "import matplotlib.pyplot as plt\n",
    "import seaborn as sns\n",
    "from sklearn.metrics import classification_report\n",
    "from sklearn.metrics import confusion_matrix\n",
    "from sklearn.metrics import roc_curve\n",
    "from sklearn.metrics import roc_auc_score\n",
    "from sklearn.model_selection import train_test_split"
   ]
  },
  {
   "cell_type": "code",
   "execution_count": 2,
   "metadata": {
    "ExecuteTime": {
     "end_time": "2021-10-24T14:38:09.628172Z",
     "start_time": "2021-10-24T14:38:09.619521Z"
    }
   },
   "outputs": [
    {
     "name": "stdout",
     "output_type": "stream",
     "text": [
      "(19, 21)\n"
     ]
    }
   ],
   "source": [
    "df_aaindex = pd.read_csv('data/aaindex/df_aaindex19.csv')\n",
    "print(df_aaindex.shape)\n",
    "df_aaindex.head(1)\n",
    "tmp = df_aaindex.drop('Unnamed: 0',axis=1).T\n",
    "aa2val = dict()\n",
    "for aa, val in zip(tmp.index, tmp.values):\n",
    "    aa2val[aa]=val"
   ]
  },
  {
   "cell_type": "code",
   "execution_count": 3,
   "metadata": {
    "ExecuteTime": {
     "end_time": "2021-10-24T14:38:12.117280Z",
     "start_time": "2021-10-24T14:38:09.629335Z"
    }
   },
   "outputs": [],
   "source": [
    "df_detect_peptide_train = pd.read_csv('data/df_detect_peptide_train.csv')\n",
    "test = pd.read_csv('data/df_detect_peptide_test.csv')\n",
    "train, val = train_test_split(df_detect_peptide_train, test_size=0.2, random_state=7)"
   ]
  },
  {
   "cell_type": "code",
   "execution_count": 4,
   "metadata": {
    "ExecuteTime": {
     "end_time": "2021-10-24T14:38:12.130206Z",
     "start_time": "2021-10-24T14:38:12.118558Z"
    }
   },
   "outputs": [
    {
     "data": {
      "text/html": [
       "<div>\n",
       "<style scoped>\n",
       "    .dataframe tbody tr th:only-of-type {\n",
       "        vertical-align: middle;\n",
       "    }\n",
       "\n",
       "    .dataframe tbody tr th {\n",
       "        vertical-align: top;\n",
       "    }\n",
       "\n",
       "    .dataframe thead th {\n",
       "        text-align: right;\n",
       "    }\n",
       "</style>\n",
       "<table border=\"1\" class=\"dataframe\">\n",
       "  <thead>\n",
       "    <tr style=\"text-align: right;\">\n",
       "      <th></th>\n",
       "      <th>peptide</th>\n",
       "      <th>En</th>\n",
       "      <th>Ec</th>\n",
       "      <th>E1</th>\n",
       "      <th>E2</th>\n",
       "      <th>protein</th>\n",
       "      <th>PEP</th>\n",
       "      <th>ID</th>\n",
       "    </tr>\n",
       "  </thead>\n",
       "  <tbody>\n",
       "    <tr>\n",
       "      <th>595411</th>\n",
       "      <td>K.QELNEPPKQSTSFLVLQEILESEEKGDPNK.P</td>\n",
       "      <td>VYKMLQEKQELNEPP</td>\n",
       "      <td>EEKGDPNKPSGFRSV</td>\n",
       "      <td>QELNEPPKQSTSFLV</td>\n",
       "      <td>EILESEEKGDPNKPS</td>\n",
       "      <td>sp|O00151|PDLI1_HUMAN</td>\n",
       "      <td>QELNEPPKQSTSFLVLQEILESEEKGDPNK</td>\n",
       "      <td>0</td>\n",
       "    </tr>\n",
       "  </tbody>\n",
       "</table>\n",
       "</div>"
      ],
      "text/plain": [
       "                                   peptide               En               Ec  \\\n",
       "595411  K.QELNEPPKQSTSFLVLQEILESEEKGDPNK.P  VYKMLQEKQELNEPP  EEKGDPNKPSGFRSV   \n",
       "\n",
       "                     E1               E2                protein  \\\n",
       "595411  QELNEPPKQSTSFLV  EILESEEKGDPNKPS  sp|O00151|PDLI1_HUMAN   \n",
       "\n",
       "                                   PEP  ID  \n",
       "595411  QELNEPPKQSTSFLVLQEILESEEKGDPNK   0  "
      ]
     },
     "execution_count": 4,
     "metadata": {},
     "output_type": "execute_result"
    }
   ],
   "source": [
    "train.head(1)"
   ]
  },
  {
   "cell_type": "code",
   "execution_count": 5,
   "metadata": {
    "ExecuteTime": {
     "end_time": "2021-10-24T14:38:12.138928Z",
     "start_time": "2021-10-24T14:38:12.131375Z"
    }
   },
   "outputs": [],
   "source": [
    "def get_data_labelEnc(df):\n",
    "    label_enc = {v:k+1 for k, v in enumerate('ARNDCQEGHILKMFPSTWYV')}\n",
    "    label_enc['Z']=0\n",
    "    aa_data = [np.array([seq.count(a) for a in 'ARNDCQEGHILKMFPSTWYV'] + list(np.array([aa2val[aa] for aa in seq]).sum(axis=0)))\n",
    "               for seq in df.PEP.values]\n",
    "    pep_data = [[label_enc[aa] for aa in seq] + [0]*(30-len(seq))\n",
    "               for seq in df.PEP.values]\n",
    "    en_data = [[label_enc[aa] for aa in seq]\n",
    "               for seq in df.En.values]\n",
    "    ec_data = [[label_enc[aa] for aa in seq]\n",
    "               for seq in df.Ec.values]\n",
    "    e1_data = [[label_enc[aa] for aa in seq]\n",
    "               if seq != '-' else [0 for _ in range(15)]\n",
    "               for seq in df.E1.values]\n",
    "    e2_data = [[label_enc[aa] for aa in seq]\n",
    "               if seq != '-' else [0 for _ in range(15)]\n",
    "               for seq in df.E2.values]\n",
    "    return np.array(aa_data), np.array(pep_data), np.array(en_data), np.array(ec_data), np.array(e1_data), np.array(e2_data), np.array(df.ID.values)"
   ]
  },
  {
   "cell_type": "code",
   "execution_count": 6,
   "metadata": {
    "ExecuteTime": {
     "end_time": "2021-10-24T14:38:46.912635Z",
     "start_time": "2021-10-24T14:38:12.139899Z"
    }
   },
   "outputs": [
    {
     "name": "stdout",
     "output_type": "stream",
     "text": [
      "(543516, 39) (543516, 30) (543516, 15) (543516, 15) (543516, 15) (543516, 15) (543516,)\n",
      "(135880, 39) (135880, 30) (135880, 15) (135880, 15) (135880, 15) (135880, 15) (135880,)\n",
      "(133992, 39) (133992, 30) (133992, 15) (133992, 15) (133992, 15) (133992, 15) (133992,)\n"
     ]
    }
   ],
   "source": [
    "aa_train, pep_train, en_train, ec_train, e1_train, e2_train, y_train = get_data_labelEnc(train)\n",
    "aa_val, pep_val, en_val, ec_val, e1_val, e2_val, y_val = get_data_labelEnc(val)\n",
    "aa_test, pep_test, en_test, ec_test, e1_test, e2_test, y_test = get_data_labelEnc(test)\n",
    "print(aa_train.shape, pep_train.shape, en_train.shape, ec_train.shape, e1_train.shape, e2_train.shape, y_train.shape)\n",
    "print(aa_val.shape, pep_val.shape, en_val.shape, ec_val.shape, e1_val.shape, e2_val.shape, y_val.shape)\n",
    "print(aa_test.shape, pep_test.shape, en_test.shape, ec_test.shape, e1_test.shape, e2_test.shape, y_test.shape)"
   ]
  },
  {
   "cell_type": "markdown",
   "metadata": {},
   "source": [
    "# Train"
   ]
  },
  {
   "cell_type": "code",
   "execution_count": 7,
   "metadata": {
    "ExecuteTime": {
     "end_time": "2021-10-24T14:38:48.001953Z",
     "start_time": "2021-10-24T14:38:46.914124Z"
    }
   },
   "outputs": [],
   "source": [
    "from tensorflow.python.client import device_lib\n",
    "\n",
    "import tensorflow as tf\n",
    "gpus = tf.config.experimental.list_physical_devices('GPU')\n",
    "if gpus:\n",
    "    try:\n",
    "        tf.config.experimental.set_virtual_device_configuration(gpus[0],\n",
    "        [tf.config.experimental.VirtualDeviceConfiguration(memory_limit=1024*4)])\n",
    "    except RuntimeError as e:\n",
    "        print(e)"
   ]
  },
  {
   "cell_type": "code",
   "execution_count": 8,
   "metadata": {
    "ExecuteTime": {
     "end_time": "2021-10-24T14:38:48.005853Z",
     "start_time": "2021-10-24T14:38:48.003222Z"
    }
   },
   "outputs": [],
   "source": [
    "def plot_graphs(history, metric):\n",
    "    plt.plot(history.history[metric])\n",
    "    plt.plot(history.history['val_'+metric], '')\n",
    "    plt.xlabel(\"Epochs\")\n",
    "    plt.ylabel(metric)\n",
    "    plt.legend([metric, 'val_'+metric])"
   ]
  },
  {
   "cell_type": "markdown",
   "metadata": {},
   "source": [
    "# high param"
   ]
  },
  {
   "cell_type": "code",
   "execution_count": 9,
   "metadata": {
    "ExecuteTime": {
     "end_time": "2021-10-24T14:38:48.034729Z",
     "start_time": "2021-10-24T14:38:48.006781Z"
    }
   },
   "outputs": [],
   "source": [
    "from tensorflow import keras"
   ]
  },
  {
   "cell_type": "markdown",
   "metadata": {},
   "source": [
    "* Embedidng 같이, NC LSTM, Miss LSTM 따로 modeling\n",
    "\n",
    "* [Peptide Transformer embedding, (concat) cleavage site 15-mer LSTM output] -> object function binary crossentropy !! "
   ]
  },
  {
   "cell_type": "code",
   "execution_count": 33,
   "metadata": {
    "ExecuteTime": {
     "end_time": "2021-10-25T07:15:53.868947Z",
     "start_time": "2021-10-25T07:15:34.195772Z"
    },
    "scrolled": false
   },
   "outputs": [
    {
     "name": "stdout",
     "output_type": "stream",
     "text": [
      "Model: \"model_10\"\n",
      "__________________________________________________________________________________________________\n",
      "Layer (type)                    Output Shape         Param #     Connected to                     \n",
      "==================================================================================================\n",
      "input_67 (InputLayer)           [(None, 30)]         0                                            \n",
      "__________________________________________________________________________________________________\n",
      "input_69 (InputLayer)           [(None, 15)]         0                                            \n",
      "__________________________________________________________________________________________________\n",
      "input_70 (InputLayer)           [(None, 15)]         0                                            \n",
      "__________________________________________________________________________________________________\n",
      "input_71 (InputLayer)           [(None, 15)]         0                                            \n",
      "__________________________________________________________________________________________________\n",
      "input_72 (InputLayer)           [(None, 15)]         0                                            \n",
      "__________________________________________________________________________________________________\n",
      "embedding_22 (Embedding)        (None, 30, 128)      2688        input_67[0][0]                   \n",
      "__________________________________________________________________________________________________\n",
      "embedding_23 (Embedding)        (None, 15, 64)       1344        input_69[0][0]                   \n",
      "                                                                 input_70[0][0]                   \n",
      "                                                                 input_71[0][0]                   \n",
      "                                                                 input_72[0][0]                   \n",
      "__________________________________________________________________________________________________\n",
      "dropout_135 (Dropout)           (None, 30, 128)      0           embedding_22[0][0]               \n",
      "__________________________________________________________________________________________________\n",
      "dropout_136 (Dropout)           (None, 15, 64)       0           embedding_23[0][0]               \n",
      "__________________________________________________________________________________________________\n",
      "dropout_137 (Dropout)           (None, 15, 64)       0           embedding_23[1][0]               \n",
      "__________________________________________________________________________________________________\n",
      "dropout_138 (Dropout)           (None, 15, 64)       0           embedding_23[2][0]               \n",
      "__________________________________________________________________________________________________\n",
      "dropout_139 (Dropout)           (None, 15, 64)       0           embedding_23[3][0]               \n",
      "__________________________________________________________________________________________________\n",
      "bidirectional_43 (Bidirectional (None, 30, 128)      98816       dropout_135[0][0]                \n",
      "__________________________________________________________________________________________________\n",
      "bidirectional_45 (Bidirectional (None, 15, 64)       24832       dropout_136[0][0]                \n",
      "                                                                 dropout_137[0][0]                \n",
      "__________________________________________________________________________________________________\n",
      "bidirectional_47 (Bidirectional (None, 15, 64)       24832       dropout_138[0][0]                \n",
      "                                                                 dropout_139[0][0]                \n",
      "__________________________________________________________________________________________________\n",
      "bidirectional_44 (Bidirectional (None, 64)           41216       bidirectional_43[0][0]           \n",
      "__________________________________________________________________________________________________\n",
      "input_68 (InputLayer)           [(None, 39)]         0                                            \n",
      "__________________________________________________________________________________________________\n",
      "bidirectional_46 (Bidirectional (None, 32)           10368       bidirectional_45[0][0]           \n",
      "                                                                 bidirectional_45[1][0]           \n",
      "__________________________________________________________________________________________________\n",
      "bidirectional_48 (Bidirectional (None, 32)           10368       bidirectional_47[0][0]           \n",
      "                                                                 bidirectional_47[1][0]           \n",
      "__________________________________________________________________________________________________\n",
      "dense_90 (Dense)                (None, 32)           2080        bidirectional_44[0][0]           \n",
      "__________________________________________________________________________________________________\n",
      "dense_91 (Dense)                (None, 32)           1280        input_68[0][0]                   \n",
      "__________________________________________________________________________________________________\n",
      "dense_92 (Dense)                (None, 16)           528         bidirectional_46[0][0]           \n",
      "__________________________________________________________________________________________________\n",
      "dense_93 (Dense)                (None, 16)           528         bidirectional_46[1][0]           \n",
      "__________________________________________________________________________________________________\n",
      "dense_94 (Dense)                (None, 16)           528         bidirectional_48[0][0]           \n",
      "__________________________________________________________________________________________________\n",
      "dense_95 (Dense)                (None, 16)           528         bidirectional_48[1][0]           \n",
      "__________________________________________________________________________________________________\n",
      "dropout_140 (Dropout)           (None, 32)           0           dense_90[0][0]                   \n",
      "__________________________________________________________________________________________________\n",
      "dropout_141 (Dropout)           (None, 32)           0           dense_91[0][0]                   \n",
      "__________________________________________________________________________________________________\n",
      "dropout_142 (Dropout)           (None, 16)           0           dense_92[0][0]                   \n",
      "__________________________________________________________________________________________________\n",
      "dropout_143 (Dropout)           (None, 16)           0           dense_93[0][0]                   \n",
      "__________________________________________________________________________________________________\n",
      "dropout_144 (Dropout)           (None, 16)           0           dense_94[0][0]                   \n",
      "__________________________________________________________________________________________________\n",
      "dropout_145 (Dropout)           (None, 16)           0           dense_95[0][0]                   \n",
      "__________________________________________________________________________________________________\n",
      "concatenate_10 (Concatenate)    (None, 128)          0           dropout_140[0][0]                \n",
      "                                                                 dropout_141[0][0]                \n",
      "                                                                 dropout_142[0][0]                \n",
      "                                                                 dropout_143[0][0]                \n",
      "                                                                 dropout_144[0][0]                \n",
      "                                                                 dropout_145[0][0]                \n",
      "__________________________________________________________________________________________________\n",
      "dense_96 (Dense)                (None, 64)           8256        concatenate_10[0][0]             \n",
      "__________________________________________________________________________________________________\n",
      "dropout_146 (Dropout)           (None, 64)           0           dense_96[0][0]                   \n",
      "__________________________________________________________________________________________________\n",
      "dense_97 (Dense)                (None, 32)           2080        dropout_146[0][0]                \n",
      "__________________________________________________________________________________________________\n",
      "dropout_147 (Dropout)           (None, 32)           0           dense_97[0][0]                   \n",
      "__________________________________________________________________________________________________\n",
      "dense_98 (Dense)                (None, 1)            33          dropout_147[0][0]                \n",
      "==================================================================================================\n",
      "Total params: 230,305\n",
      "Trainable params: 230,305\n",
      "Non-trainable params: 0\n",
      "__________________________________________________________________________________________________\n"
     ]
    }
   ],
   "source": [
    "pep = tf.keras.layers.Input(shape=((30,)))\n",
    "input1_ = tf.keras.layers.Embedding(21, 128, input_length=30, mask_zero=True)(pep)\n",
    "input1 = tf.keras.layers.Dropout(np.random.uniform(0, 0.5))(input1_)\n",
    "\n",
    "input2 = tf.keras.layers.Input(shape=((39,)))  # peptide info\n",
    "\n",
    "ts_emb = tf.keras.layers.Embedding(21, 64, input_length=15, mask_zero=True)\n",
    "\n",
    "n = tf.keras.layers.Input(shape=((15,)))\n",
    "input3_ = ts_emb(n)\n",
    "input3 = tf.keras.layers.Dropout(np.random.uniform(0, 0.4))(input3_)\n",
    "\n",
    "c = tf.keras.layers.Input(shape=((15,)))\n",
    "input4_ = ts_emb(c)\n",
    "input4 = tf.keras.layers.Dropout(np.random.uniform(0, 0.4))(input4_)\n",
    "\n",
    "m1 = tf.keras.layers.Input(shape=((15,)))\n",
    "input5_ = ts_emb(m1)\n",
    "input5 = tf.keras.layers.Dropout(np.random.uniform(0, 0.4))(input5_)\n",
    "\n",
    "m2 = tf.keras.layers.Input(shape=((15,)))\n",
    "input6_ = ts_emb(m2)\n",
    "input6 = tf.keras.layers.Dropout(np.random.uniform(0, 0.4))(input6_)\n",
    "\n",
    "\n",
    "\n",
    "# reshap1 = keras.backend.reshape(input1, [-1, 30, 128, 1])\n",
    "# cnn1 = tf.keras.layers.TimeDistributed(\n",
    "#     tf.keras.layers.Conv1D(\n",
    "#         filters=32, kernel_size=2, strides=1, padding='same')\n",
    "#     )(reshap1)\n",
    "# avgpool1 = tf.keras.layers.TimeDistributed(\n",
    "#     tf.keras.layers.AveragePooling1D(pool_size=2)\n",
    "#     )(cnn1)\n",
    "# flat1 = tf.keras.layers.TimeDistributed(\n",
    "#     tf.keras.layers.Flatten()\n",
    "#     )(avgpool1)\n",
    "lstm1 = tf.keras.layers.Bidirectional(tf.keras.layers.LSTM(64, return_sequences=True))(input1)\n",
    "lstm1 = tf.keras.layers.Bidirectional(tf.keras.layers.LSTM(32))(lstm1)\n",
    "net_lstm_ = tf.keras.layers.Dense(32, activation='relu')(lstm1)\n",
    "net_lstm = tf.keras.layers.Dropout(np.random.uniform(0, 0.5))(net_lstm_)\n",
    "\n",
    "net_dense1_ = tf.keras.layers.Dense(32, activation='relu')(input2)\n",
    "net_dense1 = tf.keras.layers.Dropout(np.random.uniform(0, 0.4))(net_dense1_)\n",
    "\n",
    "\n",
    "ts_lstm1 = tf.keras.layers.Bidirectional(tf.keras.layers.LSTM(32, return_sequences=True))\n",
    "ts_lstm2 = tf.keras.layers.Bidirectional(tf.keras.layers.LSTM(16))\n",
    "\n",
    "# reshap3 = keras.backend.reshape(input3, [-1, 15, 64, 1])\n",
    "# cnn3 = tf.keras.layers.TimeDistributed(\n",
    "#     tf.keras.layers.Conv1D(\n",
    "#         filters=16, kernel_size=2, strides=1, padding='same')\n",
    "#     )(reshap3)\n",
    "# avgpool3 = tf.keras.layers.TimeDistributed(\n",
    "#     tf.keras.layers.AveragePooling1D(pool_size=2)\n",
    "#     )(cnn3)\n",
    "# flat3 = tf.keras.layers.TimeDistributed(\n",
    "#     tf.keras.layers.Flatten()\n",
    "#     )(avgpool3)\n",
    "\n",
    "digest_n = ts_lstm1(input3)\n",
    "digest_n = ts_lstm2(digest_n)\n",
    "net_n_ = tf.keras.layers.Dense(16, activation='relu')(digest_n)\n",
    "net_n = tf.keras.layers.Dropout(np.random.uniform(0, 0.4))(net_n_)\n",
    "\n",
    "# reshap4 = keras.backend.reshape(input4, [-1, 15, 64, 1])\n",
    "# cnn4 = tf.keras.layers.TimeDistributed(\n",
    "#     tf.keras.layers.Conv1D(\n",
    "#         filters=16, kernel_size=2, strides=1, padding='same')\n",
    "#     )(reshap4)\n",
    "# avgpool4 = tf.keras.layers.TimeDistributed(\n",
    "#     tf.keras.layers.AveragePooling1D(pool_size=2)\n",
    "#     )(cnn4)\n",
    "# flat4 = tf.keras.layers.TimeDistributed(\n",
    "#     tf.keras.layers.Flatten()\n",
    "#     )(avgpool4)\n",
    "digest_c = ts_lstm1(input4)\n",
    "digest_c = ts_lstm2(digest_c)\n",
    "net_c_ = tf.keras.layers.Dense(16, activation='relu')(digest_c)\n",
    "net_c = tf.keras.layers.Dropout(np.random.uniform(0, 0.4))(net_c_)\n",
    "\n",
    "miss_lstm1 = tf.keras.layers.Bidirectional(tf.keras.layers.LSTM(32, return_sequences=True))\n",
    "miss_lstm2 = tf.keras.layers.Bidirectional(tf.keras.layers.LSTM(16))\n",
    "\n",
    "# reshap5 = keras.backend.reshape(input5, [-1, 15, 64, 1])\n",
    "# cnn5 = tf.keras.layers.TimeDistributed(\n",
    "#     tf.keras.layers.Conv1D(\n",
    "#         filters=16, kernel_size=2, strides=1, padding='same')\n",
    "#     )(reshap5)\n",
    "# avgpool5 = tf.keras.layers.TimeDistributed(\n",
    "#     tf.keras.layers.AveragePooling1D(pool_size=2)\n",
    "#     )(cnn5)\n",
    "# flat5 = tf.keras.layers.TimeDistributed(\n",
    "#     tf.keras.layers.Flatten()\n",
    "#     )(avgpool5)\n",
    "digest_m1 = miss_lstm1(input5)\n",
    "digest_m1 = miss_lstm2(digest_m1)\n",
    "net_m1_ = tf.keras.layers.Dense(16, activation='relu')(digest_m1)\n",
    "net_m1 = tf.keras.layers.Dropout(np.random.uniform(0, 0.4))(net_m1_)\n",
    "\n",
    "# reshap6 = keras.backend.reshape(input6, [-1, 15, 64, 1])\n",
    "# cnn6 = tf.keras.layers.TimeDistributed(\n",
    "#     tf.keras.layers.Conv1D(\n",
    "#         filters=16, kernel_size=2, strides=1, padding='same')\n",
    "#     )(reshap6)\n",
    "# avgpool6 = tf.keras.layers.TimeDistributed(\n",
    "#     tf.keras.layers.AveragePooling1D(pool_size=2)\n",
    "#     )(cnn6)\n",
    "# flat6 = tf.keras.layers.TimeDistributed(\n",
    "#     tf.keras.layers.Flatten()\n",
    "#     )(avgpool6)\n",
    "digest_m2 = miss_lstm1(input6)\n",
    "digest_m2 = miss_lstm2(digest_m2)\n",
    "net_m2_ = tf.keras.layers.Dense(16, activation='relu')(digest_m2)\n",
    "net_m2 = tf.keras.layers.Dropout(np.random.uniform(0, 0.4))(net_m2_)\n",
    "\n",
    "\n",
    "\n",
    "\n",
    "merge = tf.keras.layers.concatenate([net_lstm, \n",
    "                                     net_dense1,\n",
    "                                     net_n,\n",
    "                                     net_c,\n",
    "                                     net_m1,\n",
    "                                     net_m2])\n",
    "\n",
    "net1 = tf.keras.layers.Dense(64, activation='relu')(merge)\n",
    "net1_drop = tf.keras.layers.Dropout(np.random.uniform(0, 0.5))(net1)\n",
    "net3 = tf.keras.layers.Dense(32, activation='relu')(net1_drop)\n",
    "net3_drop = tf.keras.layers.Dropout(np.random.uniform(0, 0.5))(net3)\n",
    "\n",
    "output = tf.keras.layers.Dense(1, activation = 'sigmoid')(net3_drop)\n",
    "\n",
    "model_high = tf.keras.Model(inputs=[pep, input2,\n",
    "                              n, c,\n",
    "                              m1, m2],\n",
    "                       outputs=[output])\n",
    "\n",
    "model_high.summary()\n",
    "\n",
    "model_high.compile(loss=tf.keras.losses.BinaryCrossentropy(from_logits=True),\n",
    "              optimizer=tf.keras.optimizers.Adam(3e-4),\n",
    "              metrics=['accuracy'])\n",
    "\n",
    "es = tf.keras.callbacks.EarlyStopping(monitor='val_loss',\n",
    "                                      mode='min', \n",
    "                                      verbose=1,\n",
    "                                      patience=50)"
   ]
  },
  {
   "cell_type": "code",
   "execution_count": 34,
   "metadata": {
    "ExecuteTime": {
     "end_time": "2021-10-25T15:04:07.193961Z",
     "start_time": "2021-10-25T07:15:53.870278Z"
    },
    "scrolled": true
   },
   "outputs": [
    {
     "name": "stdout",
     "output_type": "stream",
     "text": [
      "Epoch 1/300\n",
      "1062/1062 [==============================] - 366s 282ms/step - loss: 4.5256 - accuracy: 0.5174 - val_loss: 0.6758 - val_accuracy: 0.6840\n",
      "Epoch 2/300\n",
      "1062/1062 [==============================] - 274s 258ms/step - loss: 0.6437 - accuracy: 0.6401 - val_loss: 0.5008 - val_accuracy: 0.7630\n",
      "Epoch 3/300\n",
      "1062/1062 [==============================] - 273s 257ms/step - loss: 0.5160 - accuracy: 0.7548 - val_loss: 0.4603 - val_accuracy: 0.7848\n",
      "Epoch 4/300\n",
      "1062/1062 [==============================] - 273s 257ms/step - loss: 0.4775 - accuracy: 0.7790 - val_loss: 0.4463 - val_accuracy: 0.7929\n",
      "Epoch 5/300\n",
      "1062/1062 [==============================] - 274s 258ms/step - loss: 0.4594 - accuracy: 0.7908 - val_loss: 0.4334 - val_accuracy: 0.8005\n",
      "Epoch 6/300\n",
      "1062/1062 [==============================] - 274s 258ms/step - loss: 0.4458 - accuracy: 0.7975 - val_loss: 0.4261 - val_accuracy: 0.8056\n",
      "Epoch 7/300\n",
      "1062/1062 [==============================] - 274s 258ms/step - loss: 0.4364 - accuracy: 0.8019 - val_loss: 0.4208 - val_accuracy: 0.8078\n",
      "Epoch 8/300\n",
      "1062/1062 [==============================] - 274s 258ms/step - loss: 0.4314 - accuracy: 0.8055 - val_loss: 0.4193 - val_accuracy: 0.8093\n",
      "Epoch 9/300\n",
      "1062/1062 [==============================] - 274s 258ms/step - loss: 0.4262 - accuracy: 0.8082 - val_loss: 0.4235 - val_accuracy: 0.8043\n",
      "Epoch 10/300\n",
      "1062/1062 [==============================] - 273s 257ms/step - loss: 0.4239 - accuracy: 0.8094 - val_loss: 0.4129 - val_accuracy: 0.8126\n",
      "Epoch 11/300\n",
      "1062/1062 [==============================] - 273s 257ms/step - loss: 0.4182 - accuracy: 0.8113 - val_loss: 0.4084 - val_accuracy: 0.8145\n",
      "Epoch 12/300\n",
      "1062/1062 [==============================] - 274s 258ms/step - loss: 0.4130 - accuracy: 0.8139 - val_loss: 0.4063 - val_accuracy: 0.8155\n",
      "Epoch 13/300\n",
      "1062/1062 [==============================] - 274s 258ms/step - loss: 0.4089 - accuracy: 0.8157 - val_loss: 0.4010 - val_accuracy: 0.8186\n",
      "Epoch 14/300\n",
      "1062/1062 [==============================] - 274s 258ms/step - loss: 0.4050 - accuracy: 0.8167 - val_loss: 0.3998 - val_accuracy: 0.8197\n",
      "Epoch 15/300\n",
      "1062/1062 [==============================] - 275s 259ms/step - loss: 0.4023 - accuracy: 0.8185 - val_loss: 0.3976 - val_accuracy: 0.8206\n",
      "Epoch 16/300\n",
      "1062/1062 [==============================] - 274s 258ms/step - loss: 0.4008 - accuracy: 0.8197 - val_loss: 0.3945 - val_accuracy: 0.8229\n",
      "Epoch 17/300\n",
      "1062/1062 [==============================] - 274s 258ms/step - loss: 0.3984 - accuracy: 0.8209 - val_loss: 0.3980 - val_accuracy: 0.8204\n",
      "Epoch 18/300\n",
      "1062/1062 [==============================] - 274s 258ms/step - loss: 0.3960 - accuracy: 0.8221 - val_loss: 0.3949 - val_accuracy: 0.8233\n",
      "Epoch 19/300\n",
      "1062/1062 [==============================] - 275s 259ms/step - loss: 0.3937 - accuracy: 0.8235 - val_loss: 0.3909 - val_accuracy: 0.8250\n",
      "Epoch 20/300\n",
      "1062/1062 [==============================] - 273s 257ms/step - loss: 0.3938 - accuracy: 0.8234 - val_loss: 0.3915 - val_accuracy: 0.8249\n",
      "Epoch 21/300\n",
      "1062/1062 [==============================] - 274s 258ms/step - loss: 0.3923 - accuracy: 0.8238 - val_loss: 0.3886 - val_accuracy: 0.8261\n",
      "Epoch 22/300\n",
      "1062/1062 [==============================] - 274s 258ms/step - loss: 0.3908 - accuracy: 0.8253 - val_loss: 0.3862 - val_accuracy: 0.8262\n",
      "Epoch 23/300\n",
      "1062/1062 [==============================] - 274s 258ms/step - loss: 0.3889 - accuracy: 0.8252 - val_loss: 0.3896 - val_accuracy: 0.8261\n",
      "Epoch 24/300\n",
      "1062/1062 [==============================] - 274s 258ms/step - loss: 0.3860 - accuracy: 0.8266 - val_loss: 0.3868 - val_accuracy: 0.8267\n",
      "Epoch 25/300\n",
      "1062/1062 [==============================] - 273s 257ms/step - loss: 0.3852 - accuracy: 0.8283 - val_loss: 0.3850 - val_accuracy: 0.8275\n",
      "Epoch 26/300\n",
      "1062/1062 [==============================] - 273s 257ms/step - loss: 0.3839 - accuracy: 0.8286 - val_loss: 0.3849 - val_accuracy: 0.8271\n",
      "Epoch 27/300\n",
      "1062/1062 [==============================] - 273s 257ms/step - loss: 0.3827 - accuracy: 0.8282 - val_loss: 0.3839 - val_accuracy: 0.8277\n",
      "Epoch 28/300\n",
      "1062/1062 [==============================] - 274s 258ms/step - loss: 0.3842 - accuracy: 0.8278 - val_loss: 0.3831 - val_accuracy: 0.8277\n",
      "Epoch 29/300\n",
      "1062/1062 [==============================] - 273s 257ms/step - loss: 0.3817 - accuracy: 0.8293 - val_loss: 0.3825 - val_accuracy: 0.8287\n",
      "Epoch 30/300\n",
      "1062/1062 [==============================] - 273s 257ms/step - loss: 0.3805 - accuracy: 0.8302 - val_loss: 0.3836 - val_accuracy: 0.8283\n",
      "Epoch 31/300\n",
      "1062/1062 [==============================] - 274s 258ms/step - loss: 0.3797 - accuracy: 0.8305 - val_loss: 0.3830 - val_accuracy: 0.8288\n",
      "Epoch 32/300\n",
      "1062/1062 [==============================] - 274s 258ms/step - loss: 0.3772 - accuracy: 0.8317 - val_loss: 0.3801 - val_accuracy: 0.8291\n",
      "Epoch 33/300\n",
      "1062/1062 [==============================] - 275s 259ms/step - loss: 0.3751 - accuracy: 0.8327 - val_loss: 0.3803 - val_accuracy: 0.8296\n",
      "Epoch 34/300\n",
      "1062/1062 [==============================] - 230s 217ms/step - loss: 0.3761 - accuracy: 0.8319 - val_loss: 0.3787 - val_accuracy: 0.8308\n",
      "Epoch 35/300\n",
      "1062/1062 [==============================] - 228s 215ms/step - loss: 0.3743 - accuracy: 0.8330 - val_loss: 0.3780 - val_accuracy: 0.8306\n",
      "Epoch 36/300\n",
      "1062/1062 [==============================] - 222s 209ms/step - loss: 0.3751 - accuracy: 0.8323 - val_loss: 0.3811 - val_accuracy: 0.8282\n",
      "Epoch 37/300\n",
      "1062/1062 [==============================] - 226s 213ms/step - loss: 0.3732 - accuracy: 0.8339 - val_loss: 0.3787 - val_accuracy: 0.8308\n",
      "Epoch 38/300\n",
      "1062/1062 [==============================] - 223s 210ms/step - loss: 0.3719 - accuracy: 0.8340 - val_loss: 0.3791 - val_accuracy: 0.8297\n",
      "Epoch 39/300\n",
      "1062/1062 [==============================] - 224s 211ms/step - loss: 0.3715 - accuracy: 0.8345 - val_loss: 0.3774 - val_accuracy: 0.8312\n",
      "Epoch 40/300\n",
      "1062/1062 [==============================] - 219s 206ms/step - loss: 0.3687 - accuracy: 0.8358 - val_loss: 0.3766 - val_accuracy: 0.8312\n",
      "Epoch 41/300\n",
      "1062/1062 [==============================] - 228s 215ms/step - loss: 0.3695 - accuracy: 0.8352 - val_loss: 0.3768 - val_accuracy: 0.8315\n",
      "Epoch 42/300\n",
      "1062/1062 [==============================] - 219s 206ms/step - loss: 0.3691 - accuracy: 0.8353 - val_loss: 0.3776 - val_accuracy: 0.8316\n",
      "Epoch 43/300\n",
      "1062/1062 [==============================] - 225s 212ms/step - loss: 0.3669 - accuracy: 0.8369 - val_loss: 0.3748 - val_accuracy: 0.8329\n",
      "Epoch 44/300\n",
      "1062/1062 [==============================] - 226s 213ms/step - loss: 0.3658 - accuracy: 0.8374 - val_loss: 0.3754 - val_accuracy: 0.8322\n",
      "Epoch 45/300\n",
      "1062/1062 [==============================] - 220s 208ms/step - loss: 0.3658 - accuracy: 0.8379 - val_loss: 0.3802 - val_accuracy: 0.8300\n",
      "Epoch 46/300\n",
      "1062/1062 [==============================] - 227s 214ms/step - loss: 0.3651 - accuracy: 0.8372 - val_loss: 0.3742 - val_accuracy: 0.8324\n",
      "Epoch 47/300\n",
      "1062/1062 [==============================] - 222s 209ms/step - loss: 0.3643 - accuracy: 0.8386 - val_loss: 0.3746 - val_accuracy: 0.8332\n",
      "Epoch 48/300\n",
      "1062/1062 [==============================] - 223s 210ms/step - loss: 0.3645 - accuracy: 0.8371 - val_loss: 0.3747 - val_accuracy: 0.8335\n",
      "Epoch 49/300\n",
      "1062/1062 [==============================] - 222s 209ms/step - loss: 0.3620 - accuracy: 0.8391 - val_loss: 0.3733 - val_accuracy: 0.8340\n",
      "Epoch 50/300\n",
      "1062/1062 [==============================] - 219s 206ms/step - loss: 0.3611 - accuracy: 0.8398 - val_loss: 0.3755 - val_accuracy: 0.8337\n",
      "Epoch 51/300\n",
      "1062/1062 [==============================] - 226s 213ms/step - loss: 0.3597 - accuracy: 0.8410 - val_loss: 0.3743 - val_accuracy: 0.8330\n",
      "Epoch 52/300\n",
      "1062/1062 [==============================] - 221s 208ms/step - loss: 0.3593 - accuracy: 0.8412 - val_loss: 0.3733 - val_accuracy: 0.8343\n",
      "Epoch 53/300\n",
      "1062/1062 [==============================] - 224s 211ms/step - loss: 0.3585 - accuracy: 0.8412 - val_loss: 0.3718 - val_accuracy: 0.8342\n",
      "Epoch 54/300\n",
      "1062/1062 [==============================] - 221s 208ms/step - loss: 0.3570 - accuracy: 0.8425 - val_loss: 0.3724 - val_accuracy: 0.8346\n",
      "Epoch 55/300\n",
      "1062/1062 [==============================] - 229s 216ms/step - loss: 0.3568 - accuracy: 0.8420 - val_loss: 0.3729 - val_accuracy: 0.8343\n"
     ]
    },
    {
     "name": "stdout",
     "output_type": "stream",
     "text": [
      "Epoch 56/300\n",
      "1062/1062 [==============================] - 218s 206ms/step - loss: 0.3566 - accuracy: 0.8422 - val_loss: 0.3735 - val_accuracy: 0.8338\n",
      "Epoch 57/300\n",
      "1062/1062 [==============================] - 227s 214ms/step - loss: 0.3539 - accuracy: 0.8438 - val_loss: 0.3734 - val_accuracy: 0.8339\n",
      "Epoch 58/300\n",
      "1062/1062 [==============================] - 220s 207ms/step - loss: 0.3533 - accuracy: 0.8443 - val_loss: 0.3724 - val_accuracy: 0.8339\n",
      "Epoch 59/300\n",
      "1062/1062 [==============================] - 224s 211ms/step - loss: 0.3519 - accuracy: 0.8447 - val_loss: 0.3726 - val_accuracy: 0.8339\n",
      "Epoch 60/300\n",
      "1062/1062 [==============================] - 223s 210ms/step - loss: 0.3516 - accuracy: 0.8454 - val_loss: 0.3719 - val_accuracy: 0.8347\n",
      "Epoch 61/300\n",
      "1062/1062 [==============================] - 222s 209ms/step - loss: 0.3524 - accuracy: 0.8453 - val_loss: 0.3723 - val_accuracy: 0.8345\n",
      "Epoch 62/300\n",
      "1062/1062 [==============================] - 220s 207ms/step - loss: 0.3514 - accuracy: 0.8451 - val_loss: 0.3711 - val_accuracy: 0.8351\n",
      "Epoch 63/300\n",
      "1062/1062 [==============================] - 222s 209ms/step - loss: 0.3521 - accuracy: 0.8447 - val_loss: 0.3728 - val_accuracy: 0.8343\n",
      "Epoch 64/300\n",
      "1062/1062 [==============================] - 221s 208ms/step - loss: 0.3490 - accuracy: 0.8467 - val_loss: 0.3710 - val_accuracy: 0.8351\n",
      "Epoch 65/300\n",
      "1062/1062 [==============================] - 220s 207ms/step - loss: 0.3477 - accuracy: 0.8473 - val_loss: 0.3714 - val_accuracy: 0.8350\n",
      "Epoch 66/300\n",
      "1062/1062 [==============================] - 227s 214ms/step - loss: 0.3456 - accuracy: 0.8490 - val_loss: 0.3716 - val_accuracy: 0.8351\n",
      "Epoch 67/300\n",
      "1062/1062 [==============================] - 216s 204ms/step - loss: 0.3453 - accuracy: 0.8486 - val_loss: 0.3732 - val_accuracy: 0.8339\n",
      "Epoch 68/300\n",
      "1062/1062 [==============================] - 222s 209ms/step - loss: 0.3442 - accuracy: 0.8496 - val_loss: 0.3709 - val_accuracy: 0.8356\n",
      "Epoch 69/300\n",
      "1062/1062 [==============================] - 225s 212ms/step - loss: 0.3430 - accuracy: 0.8507 - val_loss: 0.3734 - val_accuracy: 0.8342\n",
      "Epoch 70/300\n",
      "1062/1062 [==============================] - 221s 208ms/step - loss: 0.3442 - accuracy: 0.8496 - val_loss: 0.3733 - val_accuracy: 0.8339\n",
      "Epoch 71/300\n",
      "1062/1062 [==============================] - 221s 208ms/step - loss: 0.3422 - accuracy: 0.8498 - val_loss: 0.3734 - val_accuracy: 0.8349\n",
      "Epoch 72/300\n",
      "1062/1062 [==============================] - 225s 212ms/step - loss: 0.3414 - accuracy: 0.8504 - val_loss: 0.3740 - val_accuracy: 0.8349\n",
      "Epoch 73/300\n",
      "1062/1062 [==============================] - 220s 207ms/step - loss: 0.3398 - accuracy: 0.8513 - val_loss: 0.3729 - val_accuracy: 0.8347\n",
      "Epoch 74/300\n",
      "1062/1062 [==============================] - 226s 213ms/step - loss: 0.3401 - accuracy: 0.8521 - val_loss: 0.3724 - val_accuracy: 0.8355\n",
      "Epoch 75/300\n",
      "1062/1062 [==============================] - 221s 208ms/step - loss: 0.3383 - accuracy: 0.8523 - val_loss: 0.3736 - val_accuracy: 0.8335\n",
      "Epoch 76/300\n",
      "1062/1062 [==============================] - 222s 209ms/step - loss: 0.3372 - accuracy: 0.8533 - val_loss: 0.3740 - val_accuracy: 0.8342\n",
      "Epoch 77/300\n",
      "1062/1062 [==============================] - 226s 213ms/step - loss: 0.3367 - accuracy: 0.8525 - val_loss: 0.3749 - val_accuracy: 0.8331\n",
      "Epoch 78/300\n",
      "1062/1062 [==============================] - 222s 209ms/step - loss: 0.3354 - accuracy: 0.8537 - val_loss: 0.3766 - val_accuracy: 0.8326\n",
      "Epoch 79/300\n",
      "1062/1062 [==============================] - 224s 211ms/step - loss: 0.3351 - accuracy: 0.8526 - val_loss: 0.3749 - val_accuracy: 0.8344\n",
      "Epoch 80/300\n",
      "1062/1062 [==============================] - 228s 215ms/step - loss: 0.3334 - accuracy: 0.8553 - val_loss: 0.3735 - val_accuracy: 0.8341\n",
      "Epoch 81/300\n",
      "1062/1062 [==============================] - 219s 207ms/step - loss: 0.3323 - accuracy: 0.8565 - val_loss: 0.3752 - val_accuracy: 0.8338\n",
      "Epoch 82/300\n",
      "1062/1062 [==============================] - 226s 213ms/step - loss: 0.3320 - accuracy: 0.8561 - val_loss: 0.3757 - val_accuracy: 0.8332\n",
      "Epoch 83/300\n",
      "1062/1062 [==============================] - 217s 204ms/step - loss: 0.3306 - accuracy: 0.8565 - val_loss: 0.3755 - val_accuracy: 0.8339\n",
      "Epoch 84/300\n",
      "1062/1062 [==============================] - 228s 215ms/step - loss: 0.3303 - accuracy: 0.8565 - val_loss: 0.3763 - val_accuracy: 0.8330\n",
      "Epoch 85/300\n",
      "1062/1062 [==============================] - 227s 214ms/step - loss: 0.3303 - accuracy: 0.8567 - val_loss: 0.3765 - val_accuracy: 0.8341\n",
      "Epoch 86/300\n",
      "1062/1062 [==============================] - 220s 207ms/step - loss: 0.3289 - accuracy: 0.8569 - val_loss: 0.3795 - val_accuracy: 0.8323\n",
      "Epoch 87/300\n",
      "1062/1062 [==============================] - 224s 211ms/step - loss: 0.3257 - accuracy: 0.8589 - val_loss: 0.3763 - val_accuracy: 0.8334\n",
      "Epoch 88/300\n",
      "1062/1062 [==============================] - 221s 208ms/step - loss: 0.3261 - accuracy: 0.8594 - val_loss: 0.3775 - val_accuracy: 0.8324\n",
      "Epoch 89/300\n",
      "1062/1062 [==============================] - 222s 209ms/step - loss: 0.3263 - accuracy: 0.8591 - val_loss: 0.3771 - val_accuracy: 0.8326\n",
      "Epoch 90/300\n",
      "1062/1062 [==============================] - 226s 212ms/step - loss: 0.3241 - accuracy: 0.8599 - val_loss: 0.3792 - val_accuracy: 0.8327\n",
      "Epoch 91/300\n",
      "1062/1062 [==============================] - 220s 207ms/step - loss: 0.3214 - accuracy: 0.8616 - val_loss: 0.3774 - val_accuracy: 0.8324\n",
      "Epoch 92/300\n",
      "1062/1062 [==============================] - 228s 215ms/step - loss: 0.3221 - accuracy: 0.8611 - val_loss: 0.3790 - val_accuracy: 0.8316\n",
      "Epoch 93/300\n",
      "1062/1062 [==============================] - 222s 209ms/step - loss: 0.3209 - accuracy: 0.8614 - val_loss: 0.3785 - val_accuracy: 0.8323\n",
      "Epoch 94/300\n",
      "1062/1062 [==============================] - 225s 211ms/step - loss: 0.3214 - accuracy: 0.8609 - val_loss: 0.3793 - val_accuracy: 0.8322\n",
      "Epoch 95/300\n",
      "1062/1062 [==============================] - 226s 212ms/step - loss: 0.3185 - accuracy: 0.8629 - val_loss: 0.3794 - val_accuracy: 0.8322\n",
      "Epoch 96/300\n",
      "1062/1062 [==============================] - 224s 211ms/step - loss: 0.3183 - accuracy: 0.8622 - val_loss: 0.3824 - val_accuracy: 0.8328\n",
      "Epoch 97/300\n",
      "1062/1062 [==============================] - 224s 211ms/step - loss: 0.3178 - accuracy: 0.8640 - val_loss: 0.3806 - val_accuracy: 0.8319\n",
      "Epoch 98/300\n",
      "1062/1062 [==============================] - 222s 209ms/step - loss: 0.3171 - accuracy: 0.8636 - val_loss: 0.3818 - val_accuracy: 0.8313\n",
      "Epoch 99/300\n",
      "1062/1062 [==============================] - 228s 215ms/step - loss: 0.3163 - accuracy: 0.8641 - val_loss: 0.3818 - val_accuracy: 0.8317\n",
      "Epoch 100/300\n",
      "1062/1062 [==============================] - 221s 209ms/step - loss: 0.3141 - accuracy: 0.8650 - val_loss: 0.3812 - val_accuracy: 0.8312\n",
      "Epoch 101/300\n",
      "1062/1062 [==============================] - 221s 208ms/step - loss: 0.3149 - accuracy: 0.8647 - val_loss: 0.3835 - val_accuracy: 0.8315\n",
      "Epoch 102/300\n",
      "1062/1062 [==============================] - 226s 212ms/step - loss: 0.3117 - accuracy: 0.8670 - val_loss: 0.3831 - val_accuracy: 0.8318\n",
      "Epoch 103/300\n",
      "1062/1062 [==============================] - 221s 209ms/step - loss: 0.3115 - accuracy: 0.8669 - val_loss: 0.3890 - val_accuracy: 0.8318\n",
      "Epoch 104/300\n",
      "1062/1062 [==============================] - 224s 211ms/step - loss: 0.3119 - accuracy: 0.8663 - val_loss: 0.3856 - val_accuracy: 0.8305\n",
      "Epoch 105/300\n",
      "1062/1062 [==============================] - 224s 211ms/step - loss: 0.3110 - accuracy: 0.8676 - val_loss: 0.3839 - val_accuracy: 0.8312\n",
      "Epoch 106/300\n",
      "1062/1062 [==============================] - 218s 205ms/step - loss: 0.3089 - accuracy: 0.8682 - val_loss: 0.3867 - val_accuracy: 0.8310\n",
      "Epoch 107/300\n",
      "1062/1062 [==============================] - 224s 211ms/step - loss: 0.3096 - accuracy: 0.8679 - val_loss: 0.3860 - val_accuracy: 0.8300\n",
      "Epoch 108/300\n",
      "1062/1062 [==============================] - 218s 205ms/step - loss: 0.3085 - accuracy: 0.8689 - val_loss: 0.3865 - val_accuracy: 0.8309\n",
      "Epoch 109/300\n",
      "1062/1062 [==============================] - 226s 213ms/step - loss: 0.3068 - accuracy: 0.8694 - val_loss: 0.3880 - val_accuracy: 0.8280\n",
      "Epoch 110/300\n"
     ]
    },
    {
     "name": "stdout",
     "output_type": "stream",
     "text": [
      "1062/1062 [==============================] - 225s 212ms/step - loss: 0.3061 - accuracy: 0.8697 - val_loss: 0.3892 - val_accuracy: 0.8306\n",
      "Epoch 111/300\n",
      "1062/1062 [==============================] - 223s 210ms/step - loss: 0.3048 - accuracy: 0.8707 - val_loss: 0.3876 - val_accuracy: 0.8307\n",
      "Epoch 112/300\n",
      "1062/1062 [==============================] - 228s 214ms/step - loss: 0.3040 - accuracy: 0.8707 - val_loss: 0.3886 - val_accuracy: 0.8305\n",
      "Epoch 113/300\n",
      "1062/1062 [==============================] - 216s 203ms/step - loss: 0.3026 - accuracy: 0.8721 - val_loss: 0.3893 - val_accuracy: 0.8298\n",
      "Epoch 114/300\n",
      "1062/1062 [==============================] - 224s 211ms/step - loss: 0.3022 - accuracy: 0.8706 - val_loss: 0.3890 - val_accuracy: 0.8284\n",
      "Epoch 115/300\n",
      "1062/1062 [==============================] - 221s 208ms/step - loss: 0.3024 - accuracy: 0.8718 - val_loss: 0.3907 - val_accuracy: 0.8294\n",
      "Epoch 116/300\n",
      "1062/1062 [==============================] - 224s 211ms/step - loss: 0.3010 - accuracy: 0.8726 - val_loss: 0.3917 - val_accuracy: 0.8284\n",
      "Epoch 117/300\n",
      "1062/1062 [==============================] - 223s 210ms/step - loss: 0.3006 - accuracy: 0.8727 - val_loss: 0.3952 - val_accuracy: 0.8285\n",
      "Epoch 118/300\n",
      "1062/1062 [==============================] - 220s 207ms/step - loss: 0.2984 - accuracy: 0.8742 - val_loss: 0.3920 - val_accuracy: 0.8290\n",
      "Epoch 00118: early stopping\n"
     ]
    }
   ],
   "source": [
    "history = model_high.fit([pep_train, aa_train, en_train, ec_train, e1_train, e2_train],\n",
    "                    y_train, \n",
    "                    epochs=300,\n",
    "                    batch_size=512,\n",
    "                    validation_data=([pep_val, aa_val, en_val, ec_val, e1_val, e2_val], y_val),\n",
    "                    callbacks=[es]\n",
    "                        )"
   ]
  },
  {
   "cell_type": "code",
   "execution_count": 35,
   "metadata": {
    "ExecuteTime": {
     "end_time": "2021-10-25T15:04:07.403074Z",
     "start_time": "2021-10-25T15:04:07.195812Z"
    }
   },
   "outputs": [
    {
     "data": {
      "image/png": "[encoded data removed]",
      "text/plain": [
       "<Figure size 1152x144 with 2 Axes>"
      ]
     },
     "metadata": {
      "needs_background": "light"
     },
     "output_type": "display_data"
    }
   ],
   "source": [
    "plt.figure(figsize=(16,2))\n",
    "plt.subplot(1,2,1)\n",
    "plot_graphs(history, 'accuracy')\n",
    "plt.subplot(1,2,2)\n",
    "plot_graphs(history, 'loss')"
   ]
  },
  {
   "cell_type": "markdown",
   "metadata": {},
   "source": [
    "# eval"
   ]
  },
  {
   "cell_type": "code",
   "execution_count": 36,
   "metadata": {
    "ExecuteTime": {
     "end_time": "2021-10-25T15:11:16.563370Z",
     "start_time": "2021-10-25T15:04:07.404158Z"
    },
    "scrolled": false
   },
   "outputs": [
    {
     "name": "stdout",
     "output_type": "stream",
     "text": [
      "4188/4188 [==============================] - 134s 32ms/step - loss: 0.3960 - accuracy: 0.8264\n",
      "Test Loss: 0.39595481753349304\n",
      "Test Accuracy: 0.826400101184845\n",
      "              precision    recall  f1-score   support\n",
      "\n",
      "           0       0.86      0.78      0.82     66996\n",
      "           1       0.80      0.88      0.83     66996\n",
      "\n",
      "    accuracy                           0.83    133992\n",
      "   macro avg       0.83      0.83      0.83    133992\n",
      "weighted avg       0.83      0.83      0.83    133992\n",
      "\n",
      "rf auc : 0.9090540083322793\n"
     ]
    },
    {
     "data": {
      "image/png": "[encoded data removed]",
      "text/plain": [
       "<Figure size 288x288 with 1 Axes>"
      ]
     },
     "metadata": {
      "needs_background": "light"
     },
     "output_type": "display_data"
    },
    {
     "data": {
      "image/png": "[encoded data removed]",
      "text/plain": [
       "<Figure size 216x216 with 2 Axes>"
      ]
     },
     "metadata": {
      "needs_background": "light"
     },
     "output_type": "display_data"
    },
    {
     "data": {
      "image/png": "[encoded data removed]",
      "text/plain": [
       "<Figure size 216x216 with 2 Axes>"
      ]
     },
     "metadata": {
      "needs_background": "light"
     },
     "output_type": "display_data"
    }
   ],
   "source": [
    "test_loss, test_acc = model_high.evaluate([pep_test, aa_test, en_test, ec_test, e1_test, e2_test], y_test)\n",
    "print('Test Loss: {}'.format(test_loss))\n",
    "print('Test Accuracy: {}'.format(test_acc))\n",
    "\n",
    "# prediction\n",
    "y_pred = [1 if i>=0.5 else 0 for i in model_high.predict([pep_test, aa_test, en_test, ec_test, e1_test, e2_test])]\n",
    "print(classification_report(y_test, y_pred))\n",
    "# AUC\n",
    "probs = model_high.predict([pep_test, aa_test, en_test, ec_test, e1_test, e2_test])\n",
    "rf_auc = roc_auc_score(y_test, probs)\n",
    "print('rf auc : {}'.format(rf_auc))\n",
    "# plot the roc curve for the model_high\n",
    "rf_fpr, rf_tpr, _ = roc_curve(y_test, probs)\n",
    "plt.figure(figsize=(4, 4))\n",
    "plt.plot(rf_fpr, rf_tpr, marker='.', label='RF AUC = {:.4f}'.format(rf_auc), color='orange')\n",
    "plt.title('ROC curve')\n",
    "# axis labels\n",
    "plt.xlabel('False Positive Rate')\n",
    "plt.ylabel('True Positive Rate')\n",
    "# show the legend\n",
    "plt.legend()\n",
    "# show the plot\n",
    "plt.show()\n",
    "\n",
    "cf_matrix = confusion_matrix(y_test, y_pred)\n",
    "plt.figure(figsize=(3, 3))\n",
    "sns.heatmap(cf_matrix, annot=True, fmt=',.0f')\n",
    "plt.show()\n",
    "plt.figure(figsize=(3, 3))\n",
    "sns.heatmap(cf_matrix/np.sum(cf_matrix), annot=True, \n",
    "            fmt='.2%', cmap='Blues')\n",
    "plt.show()"
   ]
  },
  {
   "cell_type": "code",
   "execution_count": null,
   "metadata": {},
   "outputs": [],
   "source": []
  }
 ],
 "metadata": {
  "kernelspec": {
   "display_name": "TF2.4",
   "language": "python",
   "name": "tf2.4"
  },
  "language_info": {
   "codemirror_mode": {
    "name": "ipython",
    "version": 3
   },
   "file_extension": ".py",
   "mimetype": "text/x-python",
   "name": "python",
   "nbconvert_exporter": "python",
   "pygments_lexer": "ipython3",
   "version": "3.7.0"
  }
 },
 "nbformat": 4,
 "nbformat_minor": 4
}
