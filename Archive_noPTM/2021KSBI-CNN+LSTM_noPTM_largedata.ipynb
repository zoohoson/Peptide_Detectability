{
 "cells": [
  {
   "cell_type": "code",
   "execution_count": 1,
   "metadata": {
    "ExecuteTime": {
     "end_time": "2021-10-20T02:01:41.794313Z",
     "start_time": "2021-10-20T02:01:39.871546Z"
    }
   },
   "outputs": [],
   "source": [
    "import warnings\n",
    "warnings.simplefilter(action='ignore', category=FutureWarning)\n",
    "\n",
    "import argparse\n",
    "import numpy as np\n",
    "from tensorflow import keras"
   ]
  },
  {
   "cell_type": "code",
   "execution_count": 2,
   "metadata": {
    "ExecuteTime": {
     "end_time": "2021-10-20T02:01:41.843668Z",
     "start_time": "2021-10-20T02:01:41.796405Z"
    }
   },
   "outputs": [],
   "source": [
    "import tensorflow as tf\n",
    "gpus = tf.config.experimental.list_physical_devices('GPU')\n",
    "if gpus:\n",
    "    try:\n",
    "        tf.config.experimental.set_virtual_device_configuration(gpus[0],\n",
    "        [tf.config.experimental.VirtualDeviceConfiguration(memory_limit=1024*4)])\n",
    "    except RuntimeError as e:\n",
    "        print(e)"
   ]
  },
  {
   "cell_type": "code",
   "execution_count": 3,
   "metadata": {
    "ExecuteTime": {
     "end_time": "2021-10-20T02:01:41.856238Z",
     "start_time": "2021-10-20T02:01:41.846071Z"
    }
   },
   "outputs": [],
   "source": [
    "def load_pep_and_codify(file, max_len):\n",
    "    aa_dict={'A':1,'R':2,'N':3,'D':4,'C':5,'Q':6,'E':7,'G':8,'H':9,'I':10,'L':11,'K':12,'M':13,'F':14,\n",
    "        'P':15,'O':16,'S':17,'U':18,'T':19,'W':20,'Y':21,'V':22}\n",
    "    with open(file, 'r') as inf:\n",
    "        lines = inf.read().splitlines()\n",
    "    pep_codes=[]\n",
    "    long_pep_counter = 0\n",
    "    newLines = []\n",
    "    for pep in lines:\n",
    "        if not len(pep) > max_len:\n",
    "            current_pep=[]\n",
    "            for aa in pep:\n",
    "                current_pep.append(aa_dict[aa])\n",
    "            pep_codes.append(current_pep)\n",
    "            newLines.extend([pep])\n",
    "        else:\n",
    "            long_pep_counter += 1\n",
    "    predict_data = keras.preprocessing.sequence.pad_sequences(pep_codes, value=0, padding='post', maxlen=max_len)\n",
    "    return predict_data, long_pep_counter, newLines"
   ]
  },
  {
   "cell_type": "markdown",
   "metadata": {},
   "source": [
    "# New Train"
   ]
  },
  {
   "cell_type": "code",
   "execution_count": 4,
   "metadata": {
    "ExecuteTime": {
     "end_time": "2021-10-20T02:01:42.988770Z",
     "start_time": "2021-10-20T02:01:41.858079Z"
    }
   },
   "outputs": [],
   "source": [
    "pep = tf.keras.layers.Input(shape=((30,)))\n",
    "input1_ = tf.keras.layers.Embedding(21, 32, input_length=30, mask_zero=True)(pep)\n",
    "input1 = tf.keras.layers.Dropout(np.random.uniform(0, 0.2))(input1_)"
   ]
  },
  {
   "cell_type": "code",
   "execution_count": 5,
   "metadata": {
    "ExecuteTime": {
     "end_time": "2021-10-20T02:01:44.022308Z",
     "start_time": "2021-10-20T02:01:43.599354Z"
    }
   },
   "outputs": [
    {
     "name": "stdout",
     "output_type": "stream",
     "text": [
      "Model: \"model\"\n",
      "_________________________________________________________________\n",
      "Layer (type)                 Output Shape              Param #   \n",
      "=================================================================\n",
      "input_2 (InputLayer)         [(None, 30)]              0         \n",
      "_________________________________________________________________\n",
      "embedding_1 (Embedding)      (None, 30, 50)            1150      \n",
      "_________________________________________________________________\n",
      "dropout_1 (Dropout)          (None, 30, 50)            0         \n",
      "_________________________________________________________________\n",
      "tf.reshape (TFOpLambda)      (None, 30, 50, 1)         0         \n",
      "_________________________________________________________________\n",
      "time_distributed (TimeDistri (None, 30, 50, 32)        128       \n",
      "_________________________________________________________________\n",
      "time_distributed_1 (TimeDist (None, 30, 25, 32)        0         \n",
      "_________________________________________________________________\n",
      "time_distributed_2 (TimeDist (None, 30, 800)           0         \n",
      "_________________________________________________________________\n",
      "lstm (LSTM)                  (None, 64)                221440    \n",
      "_________________________________________________________________\n",
      "dense (Dense)                (None, 64)                4160      \n",
      "_________________________________________________________________\n",
      "dropout_2 (Dropout)          (None, 64)                0         \n",
      "_________________________________________________________________\n",
      "dense_1 (Dense)              (None, 1)                 65        \n",
      "=================================================================\n",
      "Total params: 226,943\n",
      "Trainable params: 226,943\n",
      "Non-trainable params: 0\n",
      "_________________________________________________________________\n"
     ]
    }
   ],
   "source": [
    "pep = tf.keras.layers.Input(shape=((30,)))\n",
    "input1_ = tf.keras.layers.Embedding(23, 50, input_length=30, mask_zero=True)(pep)\n",
    "input1 = tf.keras.layers.Dropout(np.random.uniform(0, 0.2))(input1_)\n",
    "\n",
    "reshap = keras.backend.reshape(input1, [-1, 30, 50, 1])\n",
    "\n",
    "cnn1 = tf.keras.layers.TimeDistributed(\n",
    "    tf.keras.layers.Conv1D(\n",
    "        filters=32, kernel_size=3, strides=1, padding='same')\n",
    "    )(reshap)\n",
    "\n",
    "avgpool = tf.keras.layers.TimeDistributed(\n",
    "    tf.keras.layers.AveragePooling1D(pool_size=2)\n",
    "    )(cnn1)\n",
    "\n",
    "flat = tf.keras.layers.TimeDistributed(\n",
    "    tf.keras.layers.Flatten()\n",
    "    )(avgpool)\n",
    "\n",
    "lstm = tf.keras.layers.LSTM(64)(flat)\n",
    "    \n",
    "den = tf.keras.layers.Dense(64, activation='relu')(lstm)\n",
    "dropout1 = tf.keras.layers.Dropout(np.random.uniform(0, 0.2))(den)\n",
    "output = tf.keras.layers.Dense(1, activation='sigmoid')(dropout1)\n",
    "\n",
    "model = tf.keras.Model(inputs=pep, outputs=[output])\n",
    "model.summary()"
   ]
  },
  {
   "cell_type": "code",
   "execution_count": 6,
   "metadata": {
    "ExecuteTime": {
     "end_time": "2021-10-20T02:01:44.614768Z",
     "start_time": "2021-10-20T02:01:44.599204Z"
    }
   },
   "outputs": [],
   "source": [
    "model.compile(loss=tf.keras.losses.BinaryCrossentropy(from_logits=True),\n",
    "              optimizer=tf.keras.optimizers.Adam(1e-4),\n",
    "              metrics=['accuracy'])\n",
    "\n",
    "es = tf.keras.callbacks.EarlyStopping(monitor='val_loss',\n",
    "                                      mode='min', \n",
    "                                      verbose=1,\n",
    "                                      patience=50)"
   ]
  },
  {
   "cell_type": "markdown",
   "metadata": {},
   "source": [
    "# 1. Make Data X_train, y_train, X_test, y_test"
   ]
  },
  {
   "cell_type": "code",
   "execution_count": 7,
   "metadata": {
    "ExecuteTime": {
     "end_time": "2021-10-20T02:01:46.368042Z",
     "start_time": "2021-10-20T02:01:45.693645Z"
    }
   },
   "outputs": [],
   "source": [
    "import matplotlib.pyplot as plt\n",
    "import pandas as pd\n",
    "from sklearn.model_selection import train_test_split\n",
    "\n",
    "file_path = '../compareModel/2019Bioinformatics_DeepMSPeptide/DeepMSPeptide/'"
   ]
  },
  {
   "cell_type": "code",
   "execution_count": 8,
   "metadata": {
    "ExecuteTime": {
     "end_time": "2021-10-20T02:01:54.987546Z",
     "start_time": "2021-10-20T02:01:46.371702Z"
    }
   },
   "outputs": [
    {
     "name": "stdout",
     "output_type": "stream",
     "text": [
      "Loading input peptides\n",
      "Succesfully loaded 641892 peptides and skipped 0\n",
      "Loading input peptides\n",
      "Succesfully loaded 129204 peptides and skipped 0\n",
      "(513513, 30) (128379, 30) (129204, 30) (513513,) (128379,) (129204,)\n"
     ]
    }
   ],
   "source": [
    "# make DeepMSpeptide format\n",
    "args = file_path + 'detect_peptide_train_noptm_largedata.txt'\n",
    "print('Loading input peptides')\n",
    "X_train, skipped, lines = load_pep_and_codify(args, 30)\n",
    "tmp = open(file_path+'detect_peptide_train_y_noptm_largedata.txt')\n",
    "y_train = np.array([int(_.replace('\\n', '')) for _ in tmp.readlines()])\n",
    "tmp.close()\n",
    "print('Succesfully loaded {0} peptides and skipped {1}'.format(len(lines), str(skipped)))\n",
    "\n",
    "args = file_path + 'detect_peptide_test_noptm_largedata.txt'\n",
    "print('Loading input peptides')\n",
    "X_test, skipped, lines = load_pep_and_codify(args, 30)\n",
    "tmp = open(file_path+'detect_peptide_test_y_noptm_largedata.txt')\n",
    "y_test = np.array([int(_.replace('\\n', '')) for _ in tmp.readlines()])\n",
    "tmp.close()\n",
    "print('Succesfully loaded {0} peptides and skipped {1}'.format(len(lines), str(skipped)))\n",
    "\n",
    "X_train, X_val, y_train, y_val = train_test_split(X_train, y_train, test_size=0.2)\n",
    "print(X_train.shape, X_val.shape, X_test.shape, y_train.shape, y_val.shape, y_test.shape)\n"
   ]
  },
  {
   "cell_type": "markdown",
   "metadata": {},
   "source": [
    "# 2. train"
   ]
  },
  {
   "cell_type": "code",
   "execution_count": 9,
   "metadata": {
    "ExecuteTime": {
     "end_time": "2021-10-20T02:01:54.994184Z",
     "start_time": "2021-10-20T02:01:54.989855Z"
    }
   },
   "outputs": [],
   "source": [
    "def plot_graphs(history, metric):\n",
    "    plt.plot(history.history[metric])\n",
    "    plt.plot(history.history['val_'+metric], '')\n",
    "    plt.xlabel(\"Epochs\")\n",
    "    plt.ylabel(metric)\n",
    "    plt.legend([metric, 'val_'+metric])"
   ]
  },
  {
   "cell_type": "code",
   "execution_count": 10,
   "metadata": {
    "ExecuteTime": {
     "end_time": "2021-10-20T06:02:51.210771Z",
     "start_time": "2021-10-20T02:01:54.995428Z"
    },
    "scrolled": true
   },
   "outputs": [
    {
     "name": "stdout",
     "output_type": "stream",
     "text": [
      "Epoch 1/200\n",
      "5136/5136 [==============================] - 80s 14ms/step - loss: 0.5532 - accuracy: 0.7069 - val_loss: 0.4690 - val_accuracy: 0.7756\n",
      "Epoch 2/200\n",
      "5136/5136 [==============================] - 74s 14ms/step - loss: 0.4707 - accuracy: 0.7755 - val_loss: 0.4492 - val_accuracy: 0.7874\n",
      "Epoch 3/200\n",
      "5136/5136 [==============================] - 72s 14ms/step - loss: 0.4524 - accuracy: 0.7878 - val_loss: 0.4433 - val_accuracy: 0.7923\n",
      "Epoch 4/200\n",
      "5136/5136 [==============================] - 72s 14ms/step - loss: 0.4416 - accuracy: 0.7941 - val_loss: 0.4287 - val_accuracy: 0.8030\n",
      "Epoch 5/200\n",
      "5136/5136 [==============================] - 74s 14ms/step - loss: 0.4343 - accuracy: 0.7988 - val_loss: 0.4241 - val_accuracy: 0.8065\n",
      "Epoch 6/200\n",
      "5136/5136 [==============================] - 72s 14ms/step - loss: 0.4263 - accuracy: 0.8053 - val_loss: 0.4181 - val_accuracy: 0.8099\n",
      "Epoch 7/200\n",
      "5136/5136 [==============================] - 68s 13ms/step - loss: 0.4213 - accuracy: 0.8078 - val_loss: 0.4129 - val_accuracy: 0.8131\n",
      "Epoch 8/200\n",
      "5136/5136 [==============================] - 74s 14ms/step - loss: 0.4176 - accuracy: 0.8096 - val_loss: 0.4102 - val_accuracy: 0.8146\n",
      "Epoch 9/200\n",
      "5136/5136 [==============================] - 72s 14ms/step - loss: 0.4143 - accuracy: 0.8116 - val_loss: 0.4075 - val_accuracy: 0.8155\n",
      "Epoch 10/200\n",
      "5136/5136 [==============================] - 71s 14ms/step - loss: 0.4110 - accuracy: 0.8132 - val_loss: 0.4055 - val_accuracy: 0.8171\n",
      "Epoch 11/200\n",
      "5136/5136 [==============================] - 77s 15ms/step - loss: 0.4098 - accuracy: 0.8147 - val_loss: 0.4150 - val_accuracy: 0.8096\n",
      "Epoch 12/200\n",
      "5136/5136 [==============================] - 72s 14ms/step - loss: 0.4070 - accuracy: 0.8154 - val_loss: 0.4015 - val_accuracy: 0.8189\n",
      "Epoch 13/200\n",
      "5136/5136 [==============================] - 72s 14ms/step - loss: 0.4045 - accuracy: 0.8173 - val_loss: 0.3996 - val_accuracy: 0.8198\n",
      "Epoch 14/200\n",
      "5136/5136 [==============================] - 75s 15ms/step - loss: 0.4039 - accuracy: 0.8173 - val_loss: 0.3980 - val_accuracy: 0.8213\n",
      "Epoch 15/200\n",
      "5136/5136 [==============================] - 73s 14ms/step - loss: 0.4038 - accuracy: 0.8178 - val_loss: 0.3992 - val_accuracy: 0.8199\n",
      "Epoch 16/200\n",
      "5136/5136 [==============================] - 72s 14ms/step - loss: 0.4000 - accuracy: 0.8196 - val_loss: 0.3966 - val_accuracy: 0.8218\n",
      "Epoch 17/200\n",
      "5136/5136 [==============================] - 74s 14ms/step - loss: 0.4001 - accuracy: 0.8201 - val_loss: 0.3944 - val_accuracy: 0.8229\n",
      "Epoch 18/200\n",
      "5136/5136 [==============================] - 73s 14ms/step - loss: 0.3975 - accuracy: 0.8214 - val_loss: 0.3944 - val_accuracy: 0.8235\n",
      "Epoch 19/200\n",
      "5136/5136 [==============================] - 73s 14ms/step - loss: 0.3967 - accuracy: 0.8219 - val_loss: 0.3979 - val_accuracy: 0.8210\n",
      "Epoch 20/200\n",
      "5136/5136 [==============================] - 74s 14ms/step - loss: 0.3944 - accuracy: 0.8227 - val_loss: 0.3917 - val_accuracy: 0.8244\n",
      "Epoch 21/200\n",
      "5136/5136 [==============================] - 72s 14ms/step - loss: 0.3941 - accuracy: 0.8235 - val_loss: 0.3912 - val_accuracy: 0.8241\n",
      "Epoch 22/200\n",
      "5136/5136 [==============================] - 76s 15ms/step - loss: 0.3934 - accuracy: 0.8229 - val_loss: 0.3909 - val_accuracy: 0.8239\n",
      "Epoch 23/200\n",
      "5136/5136 [==============================] - 73s 14ms/step - loss: 0.3942 - accuracy: 0.8232 - val_loss: 0.3919 - val_accuracy: 0.8243\n",
      "Epoch 24/200\n",
      "5136/5136 [==============================] - 72s 14ms/step - loss: 0.3928 - accuracy: 0.8235 - val_loss: 0.3898 - val_accuracy: 0.8245\n",
      "Epoch 25/200\n",
      "5136/5136 [==============================] - 74s 14ms/step - loss: 0.3924 - accuracy: 0.8235 - val_loss: 0.3891 - val_accuracy: 0.8256\n",
      "Epoch 26/200\n",
      "5136/5136 [==============================] - 117s 23ms/step - loss: 0.3898 - accuracy: 0.8250 - val_loss: 0.3900 - val_accuracy: 0.8246\n",
      "Epoch 27/200\n",
      "5136/5136 [==============================] - 124s 24ms/step - loss: 0.3900 - accuracy: 0.8254 - val_loss: 0.3906 - val_accuracy: 0.8241\n",
      "Epoch 28/200\n",
      "5136/5136 [==============================] - 126s 24ms/step - loss: 0.3888 - accuracy: 0.8258 - val_loss: 0.3888 - val_accuracy: 0.8254\n",
      "Epoch 29/200\n",
      "5136/5136 [==============================] - 123s 24ms/step - loss: 0.3900 - accuracy: 0.8249 - val_loss: 0.3893 - val_accuracy: 0.8249\n",
      "Epoch 30/200\n",
      "5136/5136 [==============================] - 124s 24ms/step - loss: 0.3875 - accuracy: 0.8266 - val_loss: 0.3891 - val_accuracy: 0.8248\n",
      "Epoch 31/200\n",
      "5136/5136 [==============================] - 126s 24ms/step - loss: 0.3866 - accuracy: 0.8269 - val_loss: 0.3872 - val_accuracy: 0.8257\n",
      "Epoch 32/200\n",
      "5136/5136 [==============================] - 123s 24ms/step - loss: 0.3861 - accuracy: 0.8269 - val_loss: 0.3867 - val_accuracy: 0.8263\n",
      "Epoch 33/200\n",
      "5136/5136 [==============================] - 126s 25ms/step - loss: 0.3853 - accuracy: 0.8286 - val_loss: 0.3868 - val_accuracy: 0.8261\n",
      "Epoch 34/200\n",
      "5136/5136 [==============================] - 123s 24ms/step - loss: 0.3864 - accuracy: 0.8262 - val_loss: 0.3873 - val_accuracy: 0.8263\n",
      "Epoch 35/200\n",
      "5136/5136 [==============================] - 123s 24ms/step - loss: 0.3852 - accuracy: 0.8273 - val_loss: 0.3862 - val_accuracy: 0.8267\n",
      "Epoch 36/200\n",
      "5136/5136 [==============================] - 125s 24ms/step - loss: 0.3866 - accuracy: 0.8264 - val_loss: 0.3862 - val_accuracy: 0.8260\n",
      "Epoch 37/200\n",
      "5136/5136 [==============================] - 123s 24ms/step - loss: 0.3857 - accuracy: 0.8270 - val_loss: 0.3886 - val_accuracy: 0.8255\n",
      "Epoch 38/200\n",
      "5136/5136 [==============================] - 126s 25ms/step - loss: 0.3839 - accuracy: 0.8280 - val_loss: 0.3859 - val_accuracy: 0.8269\n",
      "Epoch 39/200\n",
      "5136/5136 [==============================] - 124s 24ms/step - loss: 0.3835 - accuracy: 0.8283 - val_loss: 0.3851 - val_accuracy: 0.8266\n",
      "Epoch 40/200\n",
      "5136/5136 [==============================] - 123s 24ms/step - loss: 0.3843 - accuracy: 0.8279 - val_loss: 0.3877 - val_accuracy: 0.8249\n",
      "Epoch 41/200\n",
      "5136/5136 [==============================] - 125s 24ms/step - loss: 0.3832 - accuracy: 0.8286 - val_loss: 0.3859 - val_accuracy: 0.8265\n",
      "Epoch 42/200\n",
      "5136/5136 [==============================] - 124s 24ms/step - loss: 0.3830 - accuracy: 0.8289 - val_loss: 0.3847 - val_accuracy: 0.8278\n",
      "Epoch 43/200\n",
      "5136/5136 [==============================] - 125s 24ms/step - loss: 0.3817 - accuracy: 0.8295 - val_loss: 0.3871 - val_accuracy: 0.8259\n",
      "Epoch 44/200\n",
      "5136/5136 [==============================] - 125s 24ms/step - loss: 0.3847 - accuracy: 0.8276 - val_loss: 0.3865 - val_accuracy: 0.8268\n",
      "Epoch 45/200\n",
      "5136/5136 [==============================] - 124s 24ms/step - loss: 0.3816 - accuracy: 0.8287 - val_loss: 0.3839 - val_accuracy: 0.8278\n",
      "Epoch 46/200\n",
      "5136/5136 [==============================] - 125s 24ms/step - loss: 0.3806 - accuracy: 0.8291 - val_loss: 0.3859 - val_accuracy: 0.8274\n",
      "Epoch 47/200\n",
      "5136/5136 [==============================] - 125s 24ms/step - loss: 0.3801 - accuracy: 0.8292 - val_loss: 0.3855 - val_accuracy: 0.8270\n",
      "Epoch 48/200\n",
      "5136/5136 [==============================] - 125s 24ms/step - loss: 0.3799 - accuracy: 0.8296 - val_loss: 0.3843 - val_accuracy: 0.8276\n",
      "Epoch 49/200\n",
      "5136/5136 [==============================] - 124s 24ms/step - loss: 0.3791 - accuracy: 0.8311 - val_loss: 0.3843 - val_accuracy: 0.8279\n",
      "Epoch 50/200\n",
      "5136/5136 [==============================] - 124s 24ms/step - loss: 0.3789 - accuracy: 0.8309 - val_loss: 0.3861 - val_accuracy: 0.8275\n",
      "Epoch 51/200\n",
      "5136/5136 [==============================] - 124s 24ms/step - loss: 0.3783 - accuracy: 0.8313 - val_loss: 0.3847 - val_accuracy: 0.8268\n",
      "Epoch 52/200\n",
      "5136/5136 [==============================] - 125s 24ms/step - loss: 0.3795 - accuracy: 0.8303 - val_loss: 0.3830 - val_accuracy: 0.8283\n",
      "Epoch 53/200\n",
      "5136/5136 [==============================] - 125s 24ms/step - loss: 0.3783 - accuracy: 0.8310 - val_loss: 0.3833 - val_accuracy: 0.8287\n",
      "Epoch 54/200\n",
      "5136/5136 [==============================] - 123s 24ms/step - loss: 0.3777 - accuracy: 0.8307 - val_loss: 0.3828 - val_accuracy: 0.8286\n",
      "Epoch 55/200\n",
      "5136/5136 [==============================] - 123s 24ms/step - loss: 0.3795 - accuracy: 0.8298 - val_loss: 0.3854 - val_accuracy: 0.8277\n",
      "Epoch 56/200\n"
     ]
    },
    {
     "name": "stdout",
     "output_type": "stream",
     "text": [
      "5136/5136 [==============================] - 126s 24ms/step - loss: 0.3785 - accuracy: 0.8308 - val_loss: 0.3841 - val_accuracy: 0.8273\n",
      "Epoch 57/200\n",
      "5136/5136 [==============================] - 123s 24ms/step - loss: 0.3776 - accuracy: 0.8310 - val_loss: 0.3831 - val_accuracy: 0.8285\n",
      "Epoch 58/200\n",
      "5136/5136 [==============================] - 125s 24ms/step - loss: 0.3790 - accuracy: 0.8300 - val_loss: 0.3844 - val_accuracy: 0.8273\n",
      "Epoch 59/200\n",
      "5136/5136 [==============================] - 124s 24ms/step - loss: 0.3756 - accuracy: 0.8316 - val_loss: 0.3835 - val_accuracy: 0.8289\n",
      "Epoch 60/200\n",
      "5136/5136 [==============================] - 122s 24ms/step - loss: 0.3758 - accuracy: 0.8323 - val_loss: 0.3832 - val_accuracy: 0.8283\n",
      "Epoch 61/200\n",
      "5136/5136 [==============================] - 126s 24ms/step - loss: 0.3748 - accuracy: 0.8326 - val_loss: 0.3841 - val_accuracy: 0.8282\n",
      "Epoch 62/200\n",
      "5136/5136 [==============================] - 123s 24ms/step - loss: 0.3763 - accuracy: 0.8314 - val_loss: 0.3831 - val_accuracy: 0.8287\n",
      "Epoch 63/200\n",
      "5136/5136 [==============================] - 125s 24ms/step - loss: 0.3749 - accuracy: 0.8325 - val_loss: 0.3831 - val_accuracy: 0.8282\n",
      "Epoch 64/200\n",
      "5136/5136 [==============================] - 124s 24ms/step - loss: 0.3746 - accuracy: 0.8324 - val_loss: 0.3827 - val_accuracy: 0.8283\n",
      "Epoch 65/200\n",
      "5136/5136 [==============================] - 123s 24ms/step - loss: 0.3748 - accuracy: 0.8324 - val_loss: 0.3865 - val_accuracy: 0.8268\n",
      "Epoch 66/200\n",
      "5136/5136 [==============================] - 127s 25ms/step - loss: 0.3736 - accuracy: 0.8339 - val_loss: 0.3839 - val_accuracy: 0.8288\n",
      "Epoch 67/200\n",
      "5136/5136 [==============================] - 132s 26ms/step - loss: 0.3748 - accuracy: 0.8320 - val_loss: 0.3840 - val_accuracy: 0.8289\n",
      "Epoch 68/200\n",
      "5136/5136 [==============================] - 133s 26ms/step - loss: 0.3724 - accuracy: 0.8337 - val_loss: 0.3830 - val_accuracy: 0.8292\n",
      "Epoch 69/200\n",
      "5136/5136 [==============================] - 133s 26ms/step - loss: 0.3739 - accuracy: 0.8325 - val_loss: 0.3833 - val_accuracy: 0.8287\n",
      "Epoch 70/200\n",
      "5136/5136 [==============================] - 133s 26ms/step - loss: 0.3720 - accuracy: 0.8337 - val_loss: 0.3832 - val_accuracy: 0.8289\n",
      "Epoch 71/200\n",
      "5136/5136 [==============================] - 133s 26ms/step - loss: 0.3715 - accuracy: 0.8342 - val_loss: 0.3831 - val_accuracy: 0.8293\n",
      "Epoch 72/200\n",
      "5136/5136 [==============================] - 134s 26ms/step - loss: 0.3730 - accuracy: 0.8331 - val_loss: 0.3848 - val_accuracy: 0.8279\n",
      "Epoch 73/200\n",
      "5136/5136 [==============================] - 132s 26ms/step - loss: 0.3719 - accuracy: 0.8340 - val_loss: 0.3826 - val_accuracy: 0.8292\n",
      "Epoch 74/200\n",
      "5136/5136 [==============================] - 133s 26ms/step - loss: 0.3721 - accuracy: 0.8338 - val_loss: 0.3835 - val_accuracy: 0.8286\n",
      "Epoch 75/200\n",
      "5136/5136 [==============================] - 131s 26ms/step - loss: 0.3716 - accuracy: 0.8342 - val_loss: 0.3841 - val_accuracy: 0.8285\n",
      "Epoch 76/200\n",
      "5136/5136 [==============================] - 134s 26ms/step - loss: 0.3716 - accuracy: 0.8339 - val_loss: 0.3838 - val_accuracy: 0.8276\n",
      "Epoch 77/200\n",
      "5136/5136 [==============================] - 133s 26ms/step - loss: 0.3712 - accuracy: 0.8344 - val_loss: 0.3840 - val_accuracy: 0.8277\n",
      "Epoch 78/200\n",
      "5136/5136 [==============================] - 133s 26ms/step - loss: 0.3720 - accuracy: 0.8338 - val_loss: 0.3829 - val_accuracy: 0.8288\n",
      "Epoch 79/200\n",
      "5136/5136 [==============================] - 133s 26ms/step - loss: 0.3710 - accuracy: 0.8336 - val_loss: 0.3844 - val_accuracy: 0.8287\n",
      "Epoch 80/200\n",
      "5136/5136 [==============================] - 132s 26ms/step - loss: 0.3699 - accuracy: 0.8345 - val_loss: 0.3830 - val_accuracy: 0.8288\n",
      "Epoch 81/200\n",
      "5136/5136 [==============================] - 132s 26ms/step - loss: 0.3701 - accuracy: 0.8350 - val_loss: 0.3841 - val_accuracy: 0.8291\n",
      "Epoch 82/200\n",
      "5136/5136 [==============================] - 133s 26ms/step - loss: 0.3706 - accuracy: 0.8337 - val_loss: 0.3834 - val_accuracy: 0.8281\n",
      "Epoch 83/200\n",
      "5136/5136 [==============================] - 132s 26ms/step - loss: 0.3703 - accuracy: 0.8352 - val_loss: 0.3841 - val_accuracy: 0.8290\n",
      "Epoch 84/200\n",
      "5136/5136 [==============================] - 134s 26ms/step - loss: 0.3700 - accuracy: 0.8348 - val_loss: 0.3827 - val_accuracy: 0.8289\n",
      "Epoch 85/200\n",
      "5136/5136 [==============================] - 131s 26ms/step - loss: 0.3695 - accuracy: 0.8345 - val_loss: 0.3829 - val_accuracy: 0.8292\n",
      "Epoch 86/200\n",
      "5136/5136 [==============================] - 134s 26ms/step - loss: 0.3680 - accuracy: 0.8361 - val_loss: 0.3841 - val_accuracy: 0.8291\n",
      "Epoch 87/200\n",
      "5136/5136 [==============================] - 131s 26ms/step - loss: 0.3703 - accuracy: 0.8349 - val_loss: 0.3832 - val_accuracy: 0.8287\n",
      "Epoch 88/200\n",
      "5136/5136 [==============================] - 134s 26ms/step - loss: 0.3694 - accuracy: 0.8352 - val_loss: 0.3832 - val_accuracy: 0.8283\n",
      "Epoch 89/200\n",
      "5136/5136 [==============================] - 133s 26ms/step - loss: 0.3682 - accuracy: 0.8352 - val_loss: 0.3836 - val_accuracy: 0.8291\n",
      "Epoch 90/200\n",
      "5136/5136 [==============================] - 133s 26ms/step - loss: 0.3672 - accuracy: 0.8359 - val_loss: 0.3851 - val_accuracy: 0.8276\n",
      "Epoch 91/200\n",
      "5136/5136 [==============================] - 132s 26ms/step - loss: 0.3676 - accuracy: 0.8362 - val_loss: 0.3833 - val_accuracy: 0.8283\n",
      "Epoch 92/200\n",
      "5136/5136 [==============================] - 132s 26ms/step - loss: 0.3691 - accuracy: 0.8354 - val_loss: 0.3844 - val_accuracy: 0.8290\n",
      "Epoch 93/200\n",
      "5136/5136 [==============================] - 132s 26ms/step - loss: 0.3669 - accuracy: 0.8369 - val_loss: 0.3838 - val_accuracy: 0.8281\n",
      "Epoch 94/200\n",
      "5136/5136 [==============================] - 133s 26ms/step - loss: 0.3662 - accuracy: 0.8370 - val_loss: 0.3847 - val_accuracy: 0.8290\n",
      "Epoch 95/200\n",
      "5136/5136 [==============================] - 132s 26ms/step - loss: 0.3673 - accuracy: 0.8359 - val_loss: 0.3847 - val_accuracy: 0.8287\n",
      "Epoch 96/200\n",
      "5136/5136 [==============================] - 133s 26ms/step - loss: 0.3670 - accuracy: 0.8367 - val_loss: 0.3838 - val_accuracy: 0.8284\n",
      "Epoch 97/200\n",
      "5136/5136 [==============================] - 133s 26ms/step - loss: 0.3662 - accuracy: 0.8361 - val_loss: 0.3853 - val_accuracy: 0.8278\n",
      "Epoch 98/200\n",
      "5136/5136 [==============================] - 132s 26ms/step - loss: 0.3659 - accuracy: 0.8370 - val_loss: 0.3851 - val_accuracy: 0.8285\n",
      "Epoch 99/200\n",
      "5136/5136 [==============================] - 132s 26ms/step - loss: 0.3654 - accuracy: 0.8372 - val_loss: 0.3852 - val_accuracy: 0.8291\n",
      "Epoch 100/200\n",
      "5136/5136 [==============================] - 133s 26ms/step - loss: 0.3651 - accuracy: 0.8374 - val_loss: 0.3840 - val_accuracy: 0.8291\n",
      "Epoch 101/200\n",
      "5136/5136 [==============================] - 133s 26ms/step - loss: 0.3659 - accuracy: 0.8368 - val_loss: 0.3849 - val_accuracy: 0.8286\n",
      "Epoch 102/200\n",
      "5136/5136 [==============================] - 131s 26ms/step - loss: 0.3662 - accuracy: 0.8360 - val_loss: 0.3861 - val_accuracy: 0.8275\n",
      "Epoch 103/200\n",
      "5136/5136 [==============================] - 132s 26ms/step - loss: 0.3659 - accuracy: 0.8369 - val_loss: 0.3839 - val_accuracy: 0.8288\n",
      "Epoch 104/200\n",
      "5136/5136 [==============================] - 132s 26ms/step - loss: 0.3639 - accuracy: 0.8379 - val_loss: 0.3844 - val_accuracy: 0.8288\n",
      "Epoch 105/200\n",
      "5136/5136 [==============================] - 134s 26ms/step - loss: 0.3655 - accuracy: 0.8372 - val_loss: 0.3844 - val_accuracy: 0.8295\n",
      "Epoch 106/200\n",
      "5136/5136 [==============================] - 133s 26ms/step - loss: 0.3650 - accuracy: 0.8366 - val_loss: 0.3850 - val_accuracy: 0.8283\n",
      "Epoch 107/200\n",
      "5136/5136 [==============================] - 133s 26ms/step - loss: 0.3626 - accuracy: 0.8385 - val_loss: 0.3850 - val_accuracy: 0.8284\n",
      "Epoch 108/200\n",
      "5136/5136 [==============================] - 133s 26ms/step - loss: 0.3652 - accuracy: 0.8375 - val_loss: 0.3854 - val_accuracy: 0.8285\n",
      "Epoch 109/200\n",
      "5136/5136 [==============================] - 133s 26ms/step - loss: 0.3630 - accuracy: 0.8382 - val_loss: 0.3849 - val_accuracy: 0.8284\n",
      "Epoch 110/200\n",
      "5136/5136 [==============================] - 132s 26ms/step - loss: 0.3638 - accuracy: 0.8376 - val_loss: 0.3851 - val_accuracy: 0.8282\n"
     ]
    },
    {
     "name": "stdout",
     "output_type": "stream",
     "text": [
      "Epoch 111/200\n",
      "5136/5136 [==============================] - 133s 26ms/step - loss: 0.3643 - accuracy: 0.8372 - val_loss: 0.3877 - val_accuracy: 0.8270\n",
      "Epoch 112/200\n",
      "5136/5136 [==============================] - 132s 26ms/step - loss: 0.3643 - accuracy: 0.8377 - val_loss: 0.3876 - val_accuracy: 0.8277\n",
      "Epoch 113/200\n",
      "5136/5136 [==============================] - 134s 26ms/step - loss: 0.3633 - accuracy: 0.8376 - val_loss: 0.3850 - val_accuracy: 0.8280\n",
      "Epoch 114/200\n",
      "5136/5136 [==============================] - 131s 26ms/step - loss: 0.3634 - accuracy: 0.8375 - val_loss: 0.3858 - val_accuracy: 0.8280\n",
      "Epoch 115/200\n",
      "5136/5136 [==============================] - 133s 26ms/step - loss: 0.3620 - accuracy: 0.8385 - val_loss: 0.3862 - val_accuracy: 0.8284\n",
      "Epoch 116/200\n",
      "5136/5136 [==============================] - 133s 26ms/step - loss: 0.3625 - accuracy: 0.8382 - val_loss: 0.3862 - val_accuracy: 0.8282\n",
      "Epoch 117/200\n",
      "5136/5136 [==============================] - 130s 25ms/step - loss: 0.3624 - accuracy: 0.8383 - val_loss: 0.3878 - val_accuracy: 0.8277\n",
      "Epoch 118/200\n",
      "5136/5136 [==============================] - 126s 25ms/step - loss: 0.3620 - accuracy: 0.8386 - val_loss: 0.3872 - val_accuracy: 0.8277\n",
      "Epoch 119/200\n",
      "5136/5136 [==============================] - 128s 25ms/step - loss: 0.3610 - accuracy: 0.8393 - val_loss: 0.3882 - val_accuracy: 0.8273\n",
      "Epoch 120/200\n",
      "5136/5136 [==============================] - 128s 25ms/step - loss: 0.3608 - accuracy: 0.8395 - val_loss: 0.3867 - val_accuracy: 0.8281\n",
      "Epoch 121/200\n",
      "5136/5136 [==============================] - 130s 25ms/step - loss: 0.3630 - accuracy: 0.8384 - val_loss: 0.3866 - val_accuracy: 0.8278\n",
      "Epoch 122/200\n",
      "5136/5136 [==============================] - 130s 25ms/step - loss: 0.3617 - accuracy: 0.8392 - val_loss: 0.3863 - val_accuracy: 0.8286\n",
      "Epoch 123/200\n",
      "5136/5136 [==============================] - 130s 25ms/step - loss: 0.3612 - accuracy: 0.8396 - val_loss: 0.3866 - val_accuracy: 0.8271\n",
      "Epoch 00123: early stopping\n"
     ]
    }
   ],
   "source": [
    "history = model.fit(X_train, y_train, epochs=200, \n",
    "                    batch_size=100,\n",
    "                    validation_data=(X_val, y_val),\n",
    "                                       callbacks=[es])"
   ]
  },
  {
   "cell_type": "code",
   "execution_count": 11,
   "metadata": {
    "ExecuteTime": {
     "end_time": "2021-10-20T06:02:51.837258Z",
     "start_time": "2021-10-20T06:02:51.213101Z"
    }
   },
   "outputs": [
    {
     "data": {
      "image/png": "[encoded data removed]",
      "text/plain": [
       "<Figure size 1152x144 with 2 Axes>"
      ]
     },
     "metadata": {
      "needs_background": "light"
     },
     "output_type": "display_data"
    }
   ],
   "source": [
    "plt.figure(figsize=(16,2))\n",
    "plt.subplot(1,2,1)\n",
    "plot_graphs(history, 'accuracy')\n",
    "plt.subplot(1,2,2)\n",
    "plot_graphs(history, 'loss')"
   ]
  },
  {
   "cell_type": "markdown",
   "metadata": {},
   "source": [
    "# 3. test"
   ]
  },
  {
   "cell_type": "code",
   "execution_count": 12,
   "metadata": {
    "ExecuteTime": {
     "end_time": "2021-10-20T06:02:51.893544Z",
     "start_time": "2021-10-20T06:02:51.838421Z"
    }
   },
   "outputs": [],
   "source": [
    "from sklearn.metrics import classification_report\n",
    "from sklearn.metrics import confusion_matrix\n",
    "from sklearn.metrics import roc_curve\n",
    "from sklearn.metrics import roc_auc_score\n",
    "import seaborn as sns"
   ]
  },
  {
   "cell_type": "code",
   "execution_count": 13,
   "metadata": {
    "ExecuteTime": {
     "end_time": "2021-10-20T06:03:45.382520Z",
     "start_time": "2021-10-20T06:02:51.895120Z"
    }
   },
   "outputs": [
    {
     "name": "stdout",
     "output_type": "stream",
     "text": [
      "4038/4038 [==============================] - 53s 13ms/step - loss: 0.3879 - accuracy: 0.8265\n",
      "Test Loss: 0.38792553544044495\n",
      "Test Accuracy: 0.8264527320861816\n"
     ]
    }
   ],
   "source": [
    "test_loss, test_acc = model.evaluate(X_test, y_test)\n",
    "print('Test Loss: {}'.format(test_loss))\n",
    "print('Test Accuracy: {}'.format(test_acc))"
   ]
  },
  {
   "cell_type": "code",
   "execution_count": 14,
   "metadata": {
    "ExecuteTime": {
     "end_time": "2021-10-20T06:04:37.093855Z",
     "start_time": "2021-10-20T06:03:45.384216Z"
    }
   },
   "outputs": [
    {
     "name": "stdout",
     "output_type": "stream",
     "text": [
      "              precision    recall  f1-score   support\n",
      "\n",
      "           0       0.87      0.76      0.82     64602\n",
      "           1       0.79      0.89      0.84     64602\n",
      "\n",
      "    accuracy                           0.83    129204\n",
      "   macro avg       0.83      0.83      0.83    129204\n",
      "weighted avg       0.83      0.83      0.83    129204\n",
      "\n",
      "rf auc : 0.9102559850838287\n"
     ]
    },
    {
     "data": {
      "image/png": "[encoded data removed]",
      "text/plain": [
       "<Figure size 288x288 with 1 Axes>"
      ]
     },
     "metadata": {
      "needs_background": "light"
     },
     "output_type": "display_data"
    },
    {
     "data": {
      "image/png": "[encoded data removed]",
      "text/plain": [
       "<Figure size 216x216 with 2 Axes>"
      ]
     },
     "metadata": {
      "needs_background": "light"
     },
     "output_type": "display_data"
    },
    {
     "data": {
      "image/png": "[encoded data removed]",
      "text/plain": [
       "<Figure size 216x216 with 2 Axes>"
      ]
     },
     "metadata": {
      "needs_background": "light"
     },
     "output_type": "display_data"
    }
   ],
   "source": [
    "# prediction\n",
    "y_pred = [1 if i>=0.5 else 0 for i in model.predict(X_test)]\n",
    "print(classification_report(y_test, y_pred))\n",
    "# AUC\n",
    "probs = model.predict(X_test)\n",
    "rf_auc = roc_auc_score(y_test, probs)\n",
    "print('rf auc : {}'.format(rf_auc))\n",
    "# plot the roc curve for the model\n",
    "rf_fpr, rf_tpr, _ = roc_curve(y_test, probs)\n",
    "plt.figure(figsize=(4, 4))\n",
    "plt.plot(rf_fpr, rf_tpr, marker='.', label='RF AUC = {:.4f}'.format(rf_auc), color='orange')\n",
    "plt.title('ROC curve')\n",
    "# axis labels\n",
    "plt.xlabel('False Positive Rate')\n",
    "plt.ylabel('True Positive Rate')\n",
    "# show the legend\n",
    "plt.legend()\n",
    "# show the plot\n",
    "plt.show()\n",
    "\n",
    "cf_matrix = confusion_matrix(y_test, y_pred)\n",
    "plt.figure(figsize=(3, 3))\n",
    "sns.heatmap(cf_matrix, annot=True, fmt=',.0f')\n",
    "plt.show()\n",
    "plt.figure(figsize=(3, 3))\n",
    "sns.heatmap(cf_matrix/np.sum(cf_matrix), annot=True, \n",
    "            fmt='.2%', cmap='Blues')\n",
    "plt.show()"
   ]
  },
  {
   "cell_type": "code",
   "execution_count": null,
   "metadata": {},
   "outputs": [],
   "source": []
  }
 ],
 "metadata": {
  "kernelspec": {
   "display_name": "TF2.4",
   "language": "python",
   "name": "tf2.4"
  },
  "language_info": {
   "codemirror_mode": {
    "name": "ipython",
    "version": 3
   },
   "file_extension": ".py",
   "mimetype": "text/x-python",
   "name": "python",
   "nbconvert_exporter": "python",
   "pygments_lexer": "ipython3",
   "version": "3.7.0"
  }
 },
 "nbformat": 4,
 "nbformat_minor": 4
}
