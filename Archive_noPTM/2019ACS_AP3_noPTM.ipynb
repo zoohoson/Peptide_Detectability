{
 "cells": [
  {
   "cell_type": "code",
   "execution_count": 18,
   "metadata": {
    "ExecuteTime": {
     "end_time": "2021-09-30T15:16:01.816735Z",
     "start_time": "2021-09-30T15:16:01.814172Z"
    }
   },
   "outputs": [],
   "source": [
    "import pandas as pd\n",
    "import numpy as np"
   ]
  },
  {
   "cell_type": "code",
   "execution_count": 2,
   "metadata": {
    "ExecuteTime": {
     "end_time": "2021-09-30T15:12:10.641775Z",
     "start_time": "2021-09-30T15:12:09.883357Z"
    }
   },
   "outputs": [],
   "source": [
    "from sklearn.model_selection import cross_val_score\n",
    "from sklearn.model_selection import train_test_split\n",
    "from sklearn.ensemble import RandomForestClassifier\n",
    "from sklearn.metrics import classification_report\n",
    "from sklearn.metrics import confusion_matrix\n",
    "from sklearn.metrics import roc_curve\n",
    "from sklearn.metrics import roc_auc_score\n",
    "import seaborn as sns\n",
    "import matplotlib.pyplot as plt"
   ]
  },
  {
   "cell_type": "code",
   "execution_count": 3,
   "metadata": {
    "ExecuteTime": {
     "end_time": "2021-09-30T15:12:10.645263Z",
     "start_time": "2021-09-30T15:12:10.643404Z"
    }
   },
   "outputs": [],
   "source": [
    "import time"
   ]
  },
  {
   "cell_type": "code",
   "execution_count": 4,
   "metadata": {
    "ExecuteTime": {
     "end_time": "2021-09-30T15:12:10.820156Z",
     "start_time": "2021-09-30T15:12:10.646481Z"
    }
   },
   "outputs": [],
   "source": [
    "df_digest_protein = pd.read_csv('../data/uniprot/df_digest_protein_noptm.csv')"
   ]
  },
  {
   "cell_type": "code",
   "execution_count": 5,
   "metadata": {
    "ExecuteTime": {
     "end_time": "2021-09-30T15:12:10.833556Z",
     "start_time": "2021-09-30T15:12:10.821512Z"
    }
   },
   "outputs": [
    {
     "name": "stdout",
     "output_type": "stream",
     "text": [
      "(3925, 5)\n"
     ]
    },
    {
     "data": {
      "text/html": [
       "<div>\n",
       "<style scoped>\n",
       "    .dataframe tbody tr th:only-of-type {\n",
       "        vertical-align: middle;\n",
       "    }\n",
       "\n",
       "    .dataframe tbody tr th {\n",
       "        vertical-align: top;\n",
       "    }\n",
       "\n",
       "    .dataframe thead th {\n",
       "        text-align: right;\n",
       "    }\n",
       "</style>\n",
       "<table border=\"1\" class=\"dataframe\">\n",
       "  <thead>\n",
       "    <tr style=\"text-align: right;\">\n",
       "      <th></th>\n",
       "      <th>PROTEIN</th>\n",
       "      <th>SEQUENCE</th>\n",
       "      <th>PROTEIN_FULL</th>\n",
       "      <th>SPECTRAL_CNT</th>\n",
       "      <th>SPECTRAL_CNT_MISS</th>\n",
       "    </tr>\n",
       "  </thead>\n",
       "  <tbody>\n",
       "    <tr>\n",
       "      <th>0</th>\n",
       "      <td>sp|Q9NP61|ARFG3_HUMAN</td>\n",
       "      <td>MGDPSKQDILTIFKRLRSVPTNKVCFDCGAKNPSWASITYGVFLCI...</td>\n",
       "      <td>&gt;sp|Q9NP61|ARFG3_HUMAN ADP-ribosylation factor...</td>\n",
       "      <td>M_1;G_8;D_0;P_5;S_0;K_0;Q_5;D_2;I_2;L_2;T_2;I_...</td>\n",
       "      <td>M_1;G_9;D_9;P_14;S_14;K_14;Q_17;D_17;I_17;L_17...</td>\n",
       "    </tr>\n",
       "  </tbody>\n",
       "</table>\n",
       "</div>"
      ],
      "text/plain": [
       "                 PROTEIN                                           SEQUENCE  \\\n",
       "0  sp|Q9NP61|ARFG3_HUMAN  MGDPSKQDILTIFKRLRSVPTNKVCFDCGAKNPSWASITYGVFLCI...   \n",
       "\n",
       "                                        PROTEIN_FULL  \\\n",
       "0  >sp|Q9NP61|ARFG3_HUMAN ADP-ribosylation factor...   \n",
       "\n",
       "                                        SPECTRAL_CNT  \\\n",
       "0  M_1;G_8;D_0;P_5;S_0;K_0;Q_5;D_2;I_2;L_2;T_2;I_...   \n",
       "\n",
       "                                   SPECTRAL_CNT_MISS  \n",
       "0  M_1;G_9;D_9;P_14;S_14;K_14;Q_17;D_17;I_17;L_17...  "
      ]
     },
     "execution_count": 5,
     "metadata": {},
     "output_type": "execute_result"
    }
   ],
   "source": [
    "print(df_digest_protein.shape)\n",
    "df_digest_protein.head(1)"
   ]
  },
  {
   "cell_type": "markdown",
   "metadata": {},
   "source": [
    "# Digestibility Modeling\n",
    "  - labelling followed AP3 paper"
   ]
  },
  {
   "cell_type": "code",
   "execution_count": 6,
   "metadata": {
    "ExecuteTime": {
     "end_time": "2021-09-30T15:12:11.162088Z",
     "start_time": "2021-09-30T15:12:11.147910Z"
    }
   },
   "outputs": [],
   "source": [
    "def labelling_ap3(prot2cnt, prot2cnt_miss, THRESHOLD = 4):  # prot2cnt, prot2cnt_miss must be list split by ;\n",
    "\n",
    "    ts2label = dict()\n",
    "    # protein loop\n",
    "    for idx in range(len(prot2cnt)):\n",
    "        # amino acid loop in one protein\n",
    "        for amino_idx in range(len(prot2cnt[idx])):\n",
    "            # tryptic site : K, R\n",
    "            if prot2cnt[idx][amino_idx][:1] in 'KR':\n",
    "                \n",
    "                # *******TRYPTIC SITE EXTRACTING FROM PROTEIN*******\n",
    "                # tryptic site in protein N-terminal\n",
    "                if amino_idx <= THRESHOLD - 1:\n",
    "                    tryptic_site = 'Z'*(THRESHOLD-amino_idx) + ''.join([a[0] for a in prot2cnt[idx][: amino_idx+THRESHOLD + 1]])  # added Z\n",
    "                # tryptic site in protein C-terminal\n",
    "                elif amino_idx >= len(prot2cnt[idx]) - THRESHOLD:\n",
    "                    tryptic_site = ''.join([a[0] for a in prot2cnt[idx][amino_idx-THRESHOLD: amino_idx+THRESHOLD + 1]]) + 'Z'*(THRESHOLD-(len(prot2cnt[idx])-1)+amino_idx)  # added Z\n",
    "                else:\n",
    "                    tryptic_site = ''.join([a[0] for a in prot2cnt[idx][amino_idx-THRESHOLD: amino_idx+THRESHOLD + 1]])\n",
    "\n",
    "                    \n",
    "                # *******TRYPTIC SITE LABELLING (WHEN POSITIVE)*******\n",
    "                # N-terminal of tryptic site condition\n",
    "                N_Pcondition = int(prot2cnt[idx][amino_idx][2:]) >= 1\n",
    "                # C-terminal of tryptic site condition\n",
    "                if amino_idx == len(prot2cnt[idx]) - 1:  # tryptic site in last position of protein\n",
    "                    C_prot2cntondition = True\n",
    "                else:\n",
    "                    C_prot2cntondition = int(prot2cnt[idx][amino_idx + 1][2:]) >= 1\n",
    "                # miss cleavage of tryptic site contidion\n",
    "                miss_prot2cntondition = int(prot2cnt_miss[idx][amino_idx][2:]) == 0\n",
    "                # True of all above, Positive labeling\n",
    "                P_condition = (N_Pcondition == True) and (C_prot2cntondition == True) and (miss_prot2cntondition == True)\n",
    "\n",
    "                # *******TRYPTIC SITE LABELLING (WHEN NEGATIVE)*******\n",
    "                # N-terminal of tryptic site condition\n",
    "                N_NCondition = int(prot2cnt[idx][amino_idx][2:]) == 0\n",
    "                # C-terminal of tryptic site condition\n",
    "                if amino_idx == len(prot2cnt[idx]) - 1:  # tryptic site in last position of protein\n",
    "                    C_NCondition = False\n",
    "                else:\n",
    "                    C_NCondition = int(prot2cnt[idx][amino_idx + 1][2:]) == 0\n",
    "                # miss cleavage of tryptic site condition\n",
    "                miss_Ncondition = int(prot2cnt_miss[idx][amino_idx][2:]) >= 1\n",
    "                # True of all above, Negative labeling\n",
    "                N_condition = (N_NCondition == True) and (C_NCondition == True) and (miss_Ncondition == True)\n",
    "\n",
    "                # *******MAKING DATASET*******\n",
    "                if P_condition:\n",
    "                    if tryptic_site not in ts2label:\n",
    "                        ts2label[tryptic_site] = []\n",
    "                    ts2label[tryptic_site].append(('P', idx, amino_idx))\n",
    "                elif N_condition:\n",
    "                    if tryptic_site not in ts2label:\n",
    "                        ts2label[tryptic_site] = []\n",
    "                    ts2label[tryptic_site].append(('N', idx, amino_idx))\n",
    "    \n",
    "    # *******JUST FOR COUNTING*******\n",
    "    p = [k for k, v in ts2label.items() if v[0][0]=='P']\n",
    "    n = [k for k, v in ts2label.items() if v[0][0]=='N']\n",
    "    print(' P, unique p: {} \\n n, unique n: {} \\n total : {:,}'.format(\n",
    "         (len(p), len(set(p))), \n",
    "         (len(n), len(set(n))), \n",
    "         len(p)+len(n)))\n",
    "    df = pd.DataFrame({'tryptic_site':p+n, 'label':['P' if i in p else 'N' for i in p+n]})\n",
    "    return df, ts2label"
   ]
  },
  {
   "cell_type": "code",
   "execution_count": 7,
   "metadata": {
    "ExecuteTime": {
     "end_time": "2021-09-30T15:12:12.129493Z",
     "start_time": "2021-09-30T15:12:11.835535Z"
    }
   },
   "outputs": [],
   "source": [
    "prot2cnt = [_.split(';') for _ in df_digest_protein.SPECTRAL_CNT.values]\n",
    "prot2cnt_miss = [_.split(';') for _ in df_digest_protein.SPECTRAL_CNT_MISS.values]"
   ]
  },
  {
   "cell_type": "code",
   "execution_count": 8,
   "metadata": {
    "ExecuteTime": {
     "end_time": "2021-09-30T15:12:19.967121Z",
     "start_time": "2021-09-30T15:12:12.131080Z"
    }
   },
   "outputs": [
    {
     "name": "stdout",
     "output_type": "stream",
     "text": [
      " P, unique p: (21382, 21382) \n",
      " n, unique n: (9076, 9076) \n",
      " total : 30,458\n"
     ]
    }
   ],
   "source": [
    "df_digest, ts2label = labelling_ap3(prot2cnt, prot2cnt_miss, THRESHOLD=4)  # ts2label is just for checking"
   ]
  },
  {
   "cell_type": "markdown",
   "metadata": {},
   "source": [
    "* train digestibility model"
   ]
  },
  {
   "cell_type": "code",
   "execution_count": 9,
   "metadata": {
    "ExecuteTime": {
     "end_time": "2021-09-30T15:12:19.972846Z",
     "start_time": "2021-09-30T15:12:19.969850Z"
    }
   },
   "outputs": [],
   "source": [
    "def onehot_enc(aa):\n",
    "    return [1 if aa == a else 0 for a in 'ARNDCQEGHILKMFPSTWYVZ']"
   ]
  },
  {
   "cell_type": "code",
   "execution_count": 10,
   "metadata": {
    "ExecuteTime": {
     "end_time": "2021-09-30T15:12:28.282744Z",
     "start_time": "2021-09-30T15:12:19.974412Z"
    }
   },
   "outputs": [
    {
     "name": "stdout",
     "output_type": "stream",
     "text": [
      "(30458, 189) (30458,) (22843, 189) (7615, 189) (22843,) (7615,)\n"
     ]
    },
    {
     "data": {
      "text/plain": [
       "RandomForestClassifier(max_features='sqrt', n_estimators=200)"
      ]
     },
     "execution_count": 10,
     "metadata": {},
     "output_type": "execute_result"
    }
   ],
   "source": [
    "X = np.array([[__ for _ in ts for __ in onehot_enc(_)] for ts in df_digest.tryptic_site.values])\n",
    "y = df_digest.label.values\n",
    "X_train, X_test, y_train, y_test = train_test_split(X, y,\n",
    "                                                    test_size=0.25, random_state=77)\n",
    "print(X.shape, y.shape, X_train.shape, X_test.shape, y_train.shape, y_test.shape)\n",
    "RF_digest = RandomForestClassifier(n_estimators=200, max_features='sqrt')\n",
    "RF_digest.fit(X_train, y_train)"
   ]
  },
  {
   "cell_type": "code",
   "execution_count": 11,
   "metadata": {
    "ExecuteTime": {
     "end_time": "2021-09-30T15:12:29.188018Z",
     "start_time": "2021-09-30T15:12:28.285237Z"
    }
   },
   "outputs": [
    {
     "name": "stdout",
     "output_type": "stream",
     "text": [
      "              precision    recall  f1-score   support\n",
      "\n",
      "           N       0.87      0.67      0.76      2241\n",
      "           P       0.87      0.96      0.91      5374\n",
      "\n",
      "    accuracy                           0.87      7615\n",
      "   macro avg       0.87      0.81      0.84      7615\n",
      "weighted avg       0.87      0.87      0.87      7615\n",
      "\n",
      "AUC : 0.9136035105147878\n"
     ]
    }
   ],
   "source": [
    "y_pred = RF_digest.predict(X_test)\n",
    "print(classification_report(y_test, y_pred))\n",
    "probs = RF_digest.predict_proba(X_test)[:, 1]\n",
    "rf_auc = roc_auc_score(y_test, probs)\n",
    "print('AUC : {}'.format(rf_auc))"
   ]
  },
  {
   "cell_type": "code",
   "execution_count": 12,
   "metadata": {
    "ExecuteTime": {
     "end_time": "2021-09-30T15:12:38.664046Z",
     "start_time": "2021-09-30T15:12:29.190410Z"
    }
   },
   "outputs": [
    {
     "data": {
      "text/plain": [
       "RandomForestClassifier(max_features='sqrt', n_estimators=200)"
      ]
     },
     "execution_count": 12,
     "metadata": {},
     "output_type": "execute_result"
    }
   ],
   "source": [
    "RF_digest = RandomForestClassifier(n_estimators=200, max_features='sqrt')\n",
    "RF_digest.fit(X, y)  # for adjusting Detectability"
   ]
  },
  {
   "cell_type": "markdown",
   "metadata": {},
   "source": [
    "# mRMR"
   ]
  },
  {
   "cell_type": "markdown",
   "metadata": {},
   "source": [
    "# Detectability"
   ]
  },
  {
   "cell_type": "code",
   "execution_count": 13,
   "metadata": {
    "ExecuteTime": {
     "end_time": "2021-09-30T15:05:38.340821Z",
     "start_time": "2021-09-30T15:05:38.337225Z"
    }
   },
   "outputs": [],
   "source": [
    "def cal_digestibility(seq_li, model):\n",
    "    noseq_idx = [idx for idx, _ in enumerate(seq_li) if _ == '-']\n",
    "    X = np.array([[__ for _ in seq for __ in onehot_enc(_)] if seq != '-' else [0]*189 for seq in seq_li])\n",
    "    y_pred = model.predict_proba(X)[:, 1]  # positive probability = digestibility\n",
    "    y_pred[noseq_idx] = 1\n",
    "    return y_pred"
   ]
  },
  {
   "cell_type": "code",
   "execution_count": 14,
   "metadata": {
    "ExecuteTime": {
     "end_time": "2021-09-30T15:05:38.353918Z",
     "start_time": "2021-09-30T15:05:38.342110Z"
    }
   },
   "outputs": [],
   "source": [
    "def labelling_detect(df, aa2val, RF_digest):\n",
    "    df_ = df.copy()\n",
    "    # set tryptic site 9mer\n",
    "    df_['miss'] = [sum([1 for _ in p[:-1] if _ in 'KR']) for p in df_.PEP.values]\n",
    "    df_['En'] = df_.En.apply(lambda x: x[3:-3]).values\n",
    "    df_['Ec'] = df_.Ec.apply(lambda x: x[3:-3]).values\n",
    "    df_['E1'] = df_.E1.apply(lambda x: x[3:-3] if x != '-' else '-').values\n",
    "    df_['E2'] = df_.E2.apply(lambda x: x[3:-3] if x != '-' else '-').values\n",
    "\n",
    "    # digestibility\n",
    "    score_n = cal_digestibility(df_.En.values, RF_digest)\n",
    "    score_c = cal_digestibility(df_.Ec.values, RF_digest)\n",
    "    score_m1 = cal_digestibility(df_.E1.values, RF_digest)\n",
    "    score_m2 = cal_digestibility(df_.E2.values, RF_digest)\n",
    "    df_['digestibility'] = score_n * score_c * score_m1 * score_m2\n",
    "    \n",
    "    # get AA index\n",
    "    cols = list(range(21+len(aa2val['A'])))  # aa_cnt + aa_index length sum \n",
    "    cols_value = []\n",
    "    for seq in df_.PEP.values:\n",
    "        aa_cnt = [seq.count(a) for a in 'ARNDCQEGHILKMFPSTWYVZ']\n",
    "        aa_index = list(np.array([aa2val[aa] for aa in seq]).sum(axis=0))\n",
    "        cols_value.append(aa_cnt+aa_index)\n",
    "    df_[cols] = cols_value\n",
    "\n",
    "    df_.drop(['peptide', 'En', 'Ec', 'E1', 'E2', 'protein', 'PEP'], axis=1, inplace=True)\n",
    "    return df_"
   ]
  },
  {
   "cell_type": "code",
   "execution_count": 19,
   "metadata": {
    "ExecuteTime": {
     "end_time": "2021-09-30T15:16:20.578498Z",
     "start_time": "2021-09-30T15:16:19.960251Z"
    }
   },
   "outputs": [],
   "source": [
    "df_detect_peptide_train = pd.read_csv('../data/df_detect_peptide_train_noptm.csv')\n",
    "df_detect_peptide_test = pd.read_csv('../data/df_detect_peptide_test_noptm.csv')\n",
    "\n",
    "# AA index\n",
    "df_aaindex = pd.read_csv('../data/aaindex/df_aaindex.csv')\n",
    "tmp = df_aaindex.drop('Unnamed: 0',axis=1).T\n",
    "aa2val = dict()\n",
    "for aa, val in zip(tmp.index, tmp.values):\n",
    "    aa2val[aa]=val"
   ]
  },
  {
   "cell_type": "markdown",
   "metadata": {},
   "source": [
    "* mRMR top 50 features selection\n",
    "  - https://github.com/smazzanti/mrmr"
   ]
  },
  {
   "cell_type": "code",
   "execution_count": 20,
   "metadata": {
    "ExecuteTime": {
     "end_time": "2021-09-30T15:18:38.916993Z",
     "start_time": "2021-09-30T15:16:22.936659Z"
    }
   },
   "outputs": [],
   "source": [
    "train = labelling_detect(df_detect_peptide_train, aa2val, RF_digest)"
   ]
  },
  {
   "cell_type": "code",
   "execution_count": 21,
   "metadata": {
    "ExecuteTime": {
     "end_time": "2021-09-30T15:19:43.039009Z",
     "start_time": "2021-09-30T15:18:38.919241Z"
    }
   },
   "outputs": [
    {
     "name": "stderr",
     "output_type": "stream",
     "text": [
      "100%|██████████| 50/50 [01:02<00:00,  1.25s/it]\n"
     ]
    }
   ],
   "source": [
    "from mrmr import mrmr_classif\n",
    "\n",
    "X = train.drop('ID', axis=1)\n",
    "y = train.ID\n",
    "\n",
    "# use mrmr classification\n",
    "selected_features = mrmr_classif(X, y, K = 50)"
   ]
  },
  {
   "cell_type": "markdown",
   "metadata": {},
   "source": [
    "* Forward Selection strategy with 10 cross validation\n",
    "  - in paper, 29 feature is optimal"
   ]
  },
  {
   "cell_type": "code",
   "execution_count": 22,
   "metadata": {
    "ExecuteTime": {
     "end_time": "2021-10-01T06:13:26.562887Z",
     "start_time": "2021-09-30T15:19:43.040827Z"
    }
   },
   "outputs": [
    {
     "name": "stdout",
     "output_type": "stream",
     "text": [
      "50 51772.71\r"
     ]
    }
   ],
   "source": [
    "start = time.time()\n",
    "\n",
    "col2auc = dict()\n",
    "for col_idx in range(1, len(selected_features)+1):\n",
    "    print(col_idx, round(time.time() - start, 2), end='\\r')\n",
    "    \n",
    "    cols = selected_features[:col_idx] + ['ID']\n",
    "    df_selection = train[cols]\n",
    "    X = df_selection.drop('ID', axis=1).values\n",
    "    y = df_selection.ID.values\n",
    "    clf = RandomForestClassifier(n_estimators=200, max_features='sqrt', random_state=7)\n",
    "    scores = cross_val_score(clf, X, y, cv=10, scoring='roc_auc')\n",
    "    col2auc[col_idx] = sum(scores) / len(scores)"
   ]
  },
  {
   "cell_type": "code",
   "execution_count": 23,
   "metadata": {
    "ExecuteTime": {
     "end_time": "2021-10-01T06:13:26.571362Z",
     "start_time": "2021-10-01T06:13:26.565075Z"
    },
    "scrolled": true
   },
   "outputs": [
    {
     "name": "stdout",
     "output_type": "stream",
     "text": [
      "(48, 0.8748813928901337)\n",
      "(47, 0.8743318305993224)\n",
      "(50, 0.8739609586423838)\n",
      "(45, 0.8739403237765304)\n",
      "(40, 0.873485303650139)\n",
      "(49, 0.8734356862859641)\n",
      "(44, 0.87342115886085)\n",
      "(43, 0.873265719905379)\n",
      "(46, 0.8731060560836552)\n",
      "(41, 0.872969517891217)\n",
      "(37, 0.872816869483476)\n",
      "(35, 0.8728164225237011)\n",
      "(42, 0.872801657969341)\n",
      "(32, 0.8726276159884188)\n",
      "(33, 0.8725814551004373)\n",
      "(34, 0.872479064405374)\n",
      "(31, 0.872428097040493)\n",
      "(36, 0.8723978277913232)\n",
      "(38, 0.8723597513902005)\n",
      "(30, 0.8721210361680637)\n",
      "(39, 0.8717782736212337)\n",
      "(28, 0.8713229595994962)\n",
      "(26, 0.8711741525275357)\n",
      "(29, 0.8708432508661843)\n",
      "(27, 0.870739876514301)\n",
      "(25, 0.870473026379808)\n",
      "(22, 0.8703202674455055)\n",
      "(24, 0.8701789393285912)\n",
      "(23, 0.8700371734560106)\n",
      "(19, 0.8699099296018922)\n",
      "(20, 0.8698307955748004)\n",
      "(21, 0.8698239210254044)\n",
      "(17, 0.8668926359033694)\n",
      "(18, 0.8662841761367378)\n",
      "(16, 0.8651215703361007)\n",
      "(11, 0.8601840336997642)\n",
      "(15, 0.8599608439926483)\n",
      "(14, 0.8585195536283698)\n",
      "(10, 0.8579196482323572)\n",
      "(12, 0.8575432768991871)\n",
      "(13, 0.8568058175012851)\n",
      "(9, 0.8531126333934805)\n",
      "(8, 0.848303345172382)\n",
      "(3, 0.8418706097553308)\n",
      "(4, 0.8382371586335806)\n",
      "(7, 0.8315940037499123)\n",
      "(6, 0.8199457007871315)\n",
      "(5, 0.8084340750889961)\n",
      "(2, 0.7766751722113177)\n",
      "(1, 0.7666555452280305)\n"
     ]
    }
   ],
   "source": [
    "for i in sorted(col2auc.items(), key=lambda x:x[1], reverse=True):\n",
    "    print(i)  # select 29 features"
   ]
  },
  {
   "cell_type": "markdown",
   "metadata": {},
   "source": [
    "* final training"
   ]
  },
  {
   "cell_type": "code",
   "execution_count": 24,
   "metadata": {
    "ExecuteTime": {
     "end_time": "2021-10-01T06:16:15.013605Z",
     "start_time": "2021-10-01T06:13:26.572587Z"
    }
   },
   "outputs": [],
   "source": [
    "df = pd.concat([df_detect_peptide_train, df_detect_peptide_test], axis=0)\n",
    "train_idx = df_detect_peptide_train.shape[0]\n",
    "\n",
    "df_ = labelling_detect(df, aa2val, RF_digest)"
   ]
  },
  {
   "cell_type": "code",
   "execution_count": 25,
   "metadata": {
    "ExecuteTime": {
     "end_time": "2021-10-01T06:16:15.018307Z",
     "start_time": "2021-10-01T06:16:15.015588Z"
    }
   },
   "outputs": [],
   "source": [
    "train_final = df_.iloc[:train_idx]\n",
    "test_final = df_.iloc[train_idx:]"
   ]
  },
  {
   "cell_type": "code",
   "execution_count": 26,
   "metadata": {
    "ExecuteTime": {
     "end_time": "2021-10-01T06:16:15.043671Z",
     "start_time": "2021-10-01T06:16:15.020015Z"
    }
   },
   "outputs": [],
   "source": [
    "cols = selected_features[:29] + ['ID']\n",
    "train = train_final[cols]\n",
    "test = test_final[cols]"
   ]
  },
  {
   "cell_type": "code",
   "execution_count": 27,
   "metadata": {
    "ExecuteTime": {
     "end_time": "2021-10-01T06:16:15.069502Z",
     "start_time": "2021-10-01T06:16:15.044938Z"
    }
   },
   "outputs": [
    {
     "name": "stdout",
     "output_type": "stream",
     "text": [
      "(177997, 29) (44499, 29) (177997,) (44499,)\n"
     ]
    }
   ],
   "source": [
    "X_train = train.drop('ID', axis=1).values\n",
    "y_train = train.ID.values\n",
    "X_test = test.drop('ID', axis=1).values\n",
    "y_test = test.ID.values\n",
    "print(X_train.shape, X_test.shape, y_train.shape, y_test.shape)"
   ]
  },
  {
   "cell_type": "code",
   "execution_count": 28,
   "metadata": {
    "ExecuteTime": {
     "end_time": "2021-10-01T06:18:28.591673Z",
     "start_time": "2021-10-01T06:16:15.070702Z"
    }
   },
   "outputs": [
    {
     "data": {
      "text/plain": [
       "RandomForestClassifier(max_features='sqrt', n_estimators=200)"
      ]
     },
     "execution_count": 28,
     "metadata": {},
     "output_type": "execute_result"
    }
   ],
   "source": [
    "RF_detect = RandomForestClassifier(n_estimators=200, max_features='sqrt')\n",
    "RF_detect.fit(X_train, y_train)"
   ]
  },
  {
   "cell_type": "code",
   "execution_count": 29,
   "metadata": {
    "ExecuteTime": {
     "end_time": "2021-10-01T06:18:33.326751Z",
     "start_time": "2021-10-01T06:18:28.593205Z"
    }
   },
   "outputs": [
    {
     "name": "stdout",
     "output_type": "stream",
     "text": [
      "              precision    recall  f1-score   support\n",
      "\n",
      "           0       0.85      0.80      0.82     22330\n",
      "           1       0.81      0.86      0.83     22169\n",
      "\n",
      "    accuracy                           0.83     44499\n",
      "   macro avg       0.83      0.83      0.83     44499\n",
      "weighted avg       0.83      0.83      0.83     44499\n",
      "\n",
      "rf auc : 0.9127667704366916\n"
     ]
    },
    {
     "data": {
      "image/png": "[encoded data removed]",
      "text/plain": [
       "<Figure size 288x288 with 1 Axes>"
      ]
     },
     "metadata": {
      "needs_background": "light"
     },
     "output_type": "display_data"
    }
   ],
   "source": [
    "# prediction\n",
    "y_pred = RF_detect.predict(X_test)\n",
    "print(classification_report(y_test, y_pred))\n",
    "\n",
    "# AUC\n",
    "probs = RF_detect.predict_proba(X_test)[:, 1]\n",
    "rf_auc = roc_auc_score(y_test, probs)\n",
    "print('rf auc : {}'.format(rf_auc))\n",
    "# plot the roc curve for the model\n",
    "rf_fpr, rf_tpr, _ = roc_curve(y_test, probs)\n",
    "plt.figure(figsize=(4, 4))\n",
    "plt.plot(rf_fpr, rf_tpr, marker='.', label='RF AUC = {:.4f}'.format(rf_auc), color='orange')\n",
    "plt.title('ROC curve')\n",
    "# axis labels\n",
    "plt.xlabel('False Positive Rate')\n",
    "plt.ylabel('True Positive Rate')\n",
    "# show the legend\n",
    "plt.legend()\n",
    "# show the plot\n",
    "plt.show()"
   ]
  },
  {
   "cell_type": "code",
   "execution_count": null,
   "metadata": {},
   "outputs": [],
   "source": []
  }
 ],
 "metadata": {
  "kernelspec": {
   "display_name": "TF2.0",
   "language": "python",
   "name": "bis"
  },
  "language_info": {
   "codemirror_mode": {
    "name": "ipython",
    "version": 3
   },
   "file_extension": ".py",
   "mimetype": "text/x-python",
   "name": "python",
   "nbconvert_exporter": "python",
   "pygments_lexer": "ipython3",
   "version": "3.6.12"
  }
 },
 "nbformat": 4,
 "nbformat_minor": 4
}
