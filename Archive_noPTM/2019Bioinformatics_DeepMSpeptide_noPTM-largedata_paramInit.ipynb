{
 "cells": [
  {
   "cell_type": "code",
   "execution_count": 2,
   "metadata": {
    "ExecuteTime": {
     "end_time": "2021-10-21T19:26:57.641055Z",
     "start_time": "2021-10-21T19:26:55.862347Z"
    }
   },
   "outputs": [],
   "source": [
    "import warnings\n",
    "warnings.simplefilter(action='ignore', category=FutureWarning)\n",
    "\n",
    "import argparse\n",
    "import numpy as np\n",
    "import tensorflow as tf\n",
    "from tensorflow import keras"
   ]
  },
  {
   "cell_type": "code",
   "execution_count": 3,
   "metadata": {
    "ExecuteTime": {
     "end_time": "2021-10-21T19:26:57.644731Z",
     "start_time": "2021-10-21T19:26:57.642577Z"
    }
   },
   "outputs": [],
   "source": [
    "tf.enable_eager_execution()"
   ]
  },
  {
   "cell_type": "code",
   "execution_count": 4,
   "metadata": {
    "ExecuteTime": {
     "end_time": "2021-10-21T19:26:57.884636Z",
     "start_time": "2021-10-21T19:26:57.878713Z"
    }
   },
   "outputs": [],
   "source": [
    "def load_pep_and_codify(file, max_len):\n",
    "    aa_dict={'A':1,'R':2,'N':3,'D':4,'C':5,'Q':6,'E':7,'G':8,'H':9,'I':10,'L':11,'K':12,'M':13,'F':14,\n",
    "        'P':15,'O':16,'S':17,'U':18,'T':19,'W':20,'Y':21,'V':22}\n",
    "    with open(file, 'r') as inf:\n",
    "        lines = inf.read().splitlines()\n",
    "    pep_codes=[]\n",
    "    long_pep_counter = 0\n",
    "    newLines = []\n",
    "    for pep in lines:\n",
    "        if not len(pep) > max_len:\n",
    "            current_pep=[]\n",
    "            for aa in pep:\n",
    "                current_pep.append(aa_dict[aa])\n",
    "            pep_codes.append(current_pep)\n",
    "            newLines.extend([pep])\n",
    "        else:\n",
    "            long_pep_counter += 1\n",
    "    predict_data = keras.preprocessing.sequence.pad_sequences(pep_codes, value=0, padding='post', maxlen=max_len)\n",
    "    return predict_data, long_pep_counter, newLines"
   ]
  },
  {
   "cell_type": "code",
   "execution_count": 5,
   "metadata": {
    "ExecuteTime": {
     "end_time": "2021-10-21T19:26:58.778632Z",
     "start_time": "2021-10-21T19:26:58.775635Z"
    }
   },
   "outputs": [],
   "source": [
    "def plot_graphs(history, metric):\n",
    "    plt.plot(history.history[metric])\n",
    "    plt.plot(history.history['val_'+metric], '')\n",
    "    plt.xlabel(\"Epochs\")\n",
    "    plt.ylabel(metric)\n",
    "    plt.legend([metric, 'val_'+metric])"
   ]
  },
  {
   "cell_type": "markdown",
   "metadata": {},
   "source": [
    "# 1. Make Data X_train, y_train, X_test, y_test"
   ]
  },
  {
   "cell_type": "code",
   "execution_count": 6,
   "metadata": {
    "ExecuteTime": {
     "end_time": "2021-10-21T19:27:03.120476Z",
     "start_time": "2021-10-21T19:27:02.400580Z"
    }
   },
   "outputs": [],
   "source": [
    "import matplotlib.pyplot as plt\n",
    "import pandas as pd\n",
    "from sklearn.model_selection import train_test_split\n",
    "\n",
    "file_path = '../compareModel/2019Bioinformatics_DeepMSPeptide/DeepMSPeptide/'"
   ]
  },
  {
   "cell_type": "code",
   "execution_count": 7,
   "metadata": {
    "ExecuteTime": {
     "end_time": "2021-10-21T19:27:22.092217Z",
     "start_time": "2021-10-21T19:27:17.815045Z"
    }
   },
   "outputs": [],
   "source": [
    "# make DeepMSpeptide format\n",
    "df_peptide_train = pd.read_csv('../data/df_detect_peptide_train_noptm_211018_includeDigest.csv')\n",
    "df_peptide_test = pd.read_csv('../data/df_detect_peptide_test_noptm_211018_includeDigest.csv')\n",
    "\n",
    "inp = open(file_path+'detect_peptide_train_noptm_largedata.txt', 'w')\n",
    "inp_y = open(file_path+'detect_peptide_train_y_noptm_largedata.txt', 'w')\n",
    "for x, y in df_peptide_train[['PEP', 'ID']].values:\n",
    "    inp.write(x+'\\n')\n",
    "    inp_y.write(str(y)+'\\n')\n",
    "inp.close()\n",
    "inp_y.close()\n",
    "\n",
    "inp = open(file_path+'detect_peptide_test_noptm_largedata.txt', 'w')\n",
    "inp_y = open(file_path+'detect_peptide_test_y_noptm_largedata.txt', 'w')\n",
    "for x, y in df_peptide_test[['PEP', 'ID']].values:\n",
    "    inp.write(x+'\\n')\n",
    "    inp_y.write(str(y)+'\\n')\n",
    "inp.close()\n",
    "inp_y.close()"
   ]
  },
  {
   "cell_type": "markdown",
   "metadata": {},
   "source": [
    "# 2. train"
   ]
  },
  {
   "cell_type": "markdown",
   "metadata": {},
   "source": [
    "# 2-2. Github code"
   ]
  },
  {
   "cell_type": "code",
   "execution_count": 8,
   "metadata": {
    "ExecuteTime": {
     "end_time": "2021-10-21T19:27:32.298455Z",
     "start_time": "2021-10-21T19:27:23.078966Z"
    }
   },
   "outputs": [
    {
     "name": "stdout",
     "output_type": "stream",
     "text": [
      "Loading input peptides\n",
      "Succesfully loaded 641892 peptides and skipped 0\n",
      "Loading input peptides\n",
      "Succesfully loaded 129204 peptides and skipped 0\n",
      "(513513, 81) (128379, 81) (129204, 81) (513513,) (128379,) (129204,)\n",
      "Loading model...\n",
      "WARNING:tensorflow:From /home/bis/miniconda3/envs/TF1.14/lib/python3.6/site-packages/tensorflow/python/ops/math_grad.py:1250: add_dispatch_support.<locals>.wrapper (from tensorflow.python.ops.array_ops) is deprecated and will be removed in a future version.\n",
      "Instructions for updating:\n",
      "Use tf.where in 2.0, which has the same broadcast rule as np.where\n",
      "WARNING:tensorflow:Error in loading the saved optimizer state. As a result, your model is starting with a freshly initialized optimizer.\n",
      "Model: \"sequential_1\"\n",
      "_________________________________________________________________\n",
      "Layer (type)                 Output Shape              Param #   \n",
      "=================================================================\n",
      "embedding_1 (Embedding)      (None, 81, 50)            1150      \n",
      "_________________________________________________________________\n",
      "dropout_2 (Dropout)          (None, 81, 50)            0         \n",
      "_________________________________________________________________\n",
      "conv1d_1 (Conv1D)            (None, 81, 128)           19328     \n",
      "_________________________________________________________________\n",
      "conv1d_2 (Conv1D)            (None, 80, 64)            16448     \n",
      "_________________________________________________________________\n",
      "global_max_pooling1d_1 (Glob (None, 64)                0         \n",
      "_________________________________________________________________\n",
      "dense_2 (Dense)              (None, 64)                4160      \n",
      "_________________________________________________________________\n",
      "dropout_3 (Dropout)          (None, 64)                0         \n",
      "_________________________________________________________________\n",
      "activation_2 (Activation)    (None, 64)                0         \n",
      "_________________________________________________________________\n",
      "dense_3 (Dense)              (None, 1)                 65        \n",
      "_________________________________________________________________\n",
      "activation_3 (Activation)    (None, 1)                 0         \n",
      "=================================================================\n",
      "Total params: 41,151\n",
      "Trainable params: 41,151\n",
      "Non-trainable params: 0\n",
      "_________________________________________________________________\n",
      "None\n"
     ]
    }
   ],
   "source": [
    "args = file_path + 'detect_peptide_train_noptm_largedata.txt'\n",
    "print('Loading input peptides')\n",
    "X_train81, skipped, lines = load_pep_and_codify(args, 81)\n",
    "tmp = open(file_path+'detect_peptide_train_y_noptm_largedata.txt')\n",
    "y_train81 = np.array([int(_.replace('\\n', '')) for _ in tmp.readlines()])\n",
    "tmp.close()\n",
    "print('Succesfully loaded {0} peptides and skipped {1}'.format(len(lines), str(skipped)))\n",
    "\n",
    "args = file_path + 'detect_peptide_test_noptm_largedata.txt'\n",
    "print('Loading input peptides')\n",
    "X_test81, skipped, lines = load_pep_and_codify(args, 81)\n",
    "tmp = open(file_path+'detect_peptide_test_y_noptm_largedata.txt')\n",
    "y_test81 = np.array([int(_.replace('\\n', '')) for _ in tmp.readlines()])\n",
    "tmp.close()\n",
    "print('Succesfully loaded {0} peptides and skipped {1}'.format(len(lines), str(skipped)))\n",
    "\n",
    "X_train81, X_val81, y_train81, y_val81 = train_test_split(X_train81, y_train81, test_size=0.2)\n",
    "print(X_train81.shape, X_val81.shape, X_test81.shape, y_train81.shape, y_val81.shape, y_test81.shape)\n",
    "\n",
    "\n",
    "print('Loading model...')\n",
    "model_2_1D = keras.models.load_model(file_path + 'model_2_1D.h5')\n",
    "print(model_2_1D.summary())"
   ]
  },
  {
   "cell_type": "code",
   "execution_count": 9,
   "metadata": {
    "ExecuteTime": {
     "end_time": "2021-10-19T17:16:46.770009Z",
     "start_time": "2021-10-19T17:16:46.761449Z"
    }
   },
   "outputs": [
    {
     "name": "stdout",
     "output_type": "stream",
     "text": [
      "0 embedding_1/embeddings:0 (23, 50)\n",
      "1 conv1d_1/kernel:0 (3, 50, 128)\n",
      "2 conv1d_1/bias:0 (128,)\n",
      "3 conv1d_2/kernel:0 (2, 128, 64)\n",
      "4 conv1d_2/bias:0 (64,)\n",
      "5 dense_2/kernel:0 (64, 64)\n",
      "6 dense_2/bias:0 (64,)\n",
      "7 dense_3/kernel:0 (64, 1)\n",
      "8 dense_3/bias:0 (1,)\n"
     ]
    }
   ],
   "source": [
    "for i in range(len(model_2_1D.weights)):\n",
    "    print(i, model_2_1D.weights[i].name, model_2_1D.weights[i].shape)"
   ]
  },
  {
   "cell_type": "code",
   "execution_count": 10,
   "metadata": {
    "ExecuteTime": {
     "end_time": "2021-10-19T17:16:46.785550Z",
     "start_time": "2021-10-19T17:16:46.772144Z"
    }
   },
   "outputs": [
    {
     "name": "stdout",
     "output_type": "stream",
     "text": [
      "(23, 50) [] (3, 50, 128) (128,) (2, 128, 64) (64,) [] (64, 64) (64,) [] [] (64, 1) (1,) []\n"
     ]
    }
   ],
   "source": [
    "print(model_2_1D.get_layer(index=0).get_weights()[0].shape,\n",
    "      model_2_1D.get_layer(index=1).get_weights(),\n",
    "      model_2_1D.get_layer(index=2).get_weights()[0].shape,\n",
    "      model_2_1D.get_layer(index=2).get_weights()[1].shape,\n",
    "      model_2_1D.get_layer(index=3).get_weights()[0].shape,\n",
    "      model_2_1D.get_layer(index=3).get_weights()[1].shape,\n",
    "      model_2_1D.get_layer(index=4).get_weights(),\n",
    "      model_2_1D.get_layer(index=5).get_weights()[0].shape,\n",
    "      model_2_1D.get_layer(index=5).get_weights()[1].shape,\n",
    "      model_2_1D.get_layer(index=6).get_weights(),\n",
    "      model_2_1D.get_layer(index=7).get_weights(),\n",
    "      model_2_1D.get_layer(index=8).get_weights()[0].shape,\n",
    "      model_2_1D.get_layer(index=8).get_weights()[1].shape,\n",
    "      model_2_1D.get_layer(index=9).get_weights())"
   ]
  },
  {
   "cell_type": "code",
   "execution_count": 11,
   "metadata": {
    "ExecuteTime": {
     "end_time": "2021-10-19T17:16:46.800416Z",
     "start_time": "2021-10-19T17:16:46.787168Z"
    }
   },
   "outputs": [],
   "source": [
    "model_2_1D.get_layer(index=0).set_weights(\n",
    "    [tf.keras.initializers.glorot_uniform(seed=7)(shape=(23,50)).numpy()])\n",
    "model_2_1D.get_layer(index=2).set_weights(\n",
    "    [tf.keras.initializers.glorot_uniform(seed=7)(shape=(3,50,128)).numpy(),\n",
    "     np.zeros(128,)])\n",
    "model_2_1D.get_layer(index=3).set_weights(\n",
    "    [tf.keras.initializers.glorot_uniform(seed=7)(shape=(2,128,64)).numpy(),\n",
    "    np.zeros(64,)])\n",
    "model_2_1D.get_layer(index=5).set_weights(\n",
    "    [tf.keras.initializers.glorot_uniform(seed=7)(shape=(64,64)).numpy(),\n",
    "    np.zeros(64,)])\n",
    "model_2_1D.get_layer(index=8).set_weights(\n",
    "    [tf.keras.initializers.glorot_uniform(seed=7)(shape=(64,1)).numpy(),\n",
    "    np.zeros(1,)])"
   ]
  },
  {
   "cell_type": "code",
   "execution_count": 12,
   "metadata": {
    "ExecuteTime": {
     "end_time": "2021-10-19T20:52:52.382171Z",
     "start_time": "2021-10-19T17:16:50.566344Z"
    },
    "scrolled": true
   },
   "outputs": [
    {
     "name": "stdout",
     "output_type": "stream",
     "text": [
      "Train on 337179 samples, validate on 84295 samples\n",
      "Epoch 1/200\n",
      "337179/337179 [==============================] - 73s 215us/sample - loss: 0.4006 - acc: 0.8118 - binary_crossentropy: 0.4006 - val_loss: 0.3740 - val_acc: 0.8285 - val_binary_crossentropy: 0.3740\n",
      "Epoch 2/200\n",
      "337179/337179 [==============================] - 70s 208us/sample - loss: 0.3636 - acc: 0.8349 - binary_crossentropy: 0.3636 - val_loss: 0.3612 - val_acc: 0.8349 - val_binary_crossentropy: 0.3612\n",
      "Epoch 3/200\n",
      "337179/337179 [==============================] - 70s 209us/sample - loss: 0.3532 - acc: 0.8404 - binary_crossentropy: 0.3532 - val_loss: 0.3483 - val_acc: 0.8443 - val_binary_crossentropy: 0.3483\n",
      "Epoch 4/200\n",
      "337179/337179 [==============================] - 70s 209us/sample - loss: 0.3479 - acc: 0.8435 - binary_crossentropy: 0.3479 - val_loss: 0.3404 - val_acc: 0.8468 - val_binary_crossentropy: 0.3404\n",
      "Epoch 5/200\n",
      "337179/337179 [==============================] - 70s 209us/sample - loss: 0.3445 - acc: 0.8457 - binary_crossentropy: 0.3445 - val_loss: 0.3396 - val_acc: 0.8474 - val_binary_crossentropy: 0.3396\n",
      "Epoch 6/200\n",
      "337179/337179 [==============================] - 70s 209us/sample - loss: 0.3416 - acc: 0.8473 - binary_crossentropy: 0.3416 - val_loss: 0.3440 - val_acc: 0.8449 - val_binary_crossentropy: 0.3440\n",
      "Epoch 7/200\n",
      "337179/337179 [==============================] - 70s 208us/sample - loss: 0.3394 - acc: 0.8483 - binary_crossentropy: 0.3394 - val_loss: 0.3430 - val_acc: 0.8445 - val_binary_crossentropy: 0.3430\n",
      "Epoch 8/200\n",
      "337179/337179 [==============================] - 70s 209us/sample - loss: 0.3373 - acc: 0.8494 - binary_crossentropy: 0.3373 - val_loss: 0.3367 - val_acc: 0.8499 - val_binary_crossentropy: 0.3367\n",
      "Epoch 9/200\n",
      "337179/337179 [==============================] - 70s 208us/sample - loss: 0.3362 - acc: 0.8502 - binary_crossentropy: 0.3362 - val_loss: 0.3431 - val_acc: 0.8441 - val_binary_crossentropy: 0.3431\n",
      "Epoch 10/200\n",
      "337179/337179 [==============================] - 70s 208us/sample - loss: 0.3341 - acc: 0.8521 - binary_crossentropy: 0.3341 - val_loss: 0.3419 - val_acc: 0.8453 - val_binary_crossentropy: 0.3419\n",
      "Epoch 11/200\n",
      "337179/337179 [==============================] - 70s 208us/sample - loss: 0.3329 - acc: 0.8521 - binary_crossentropy: 0.3329 - val_loss: 0.3391 - val_acc: 0.8477 - val_binary_crossentropy: 0.3391\n",
      "Epoch 12/200\n",
      "337179/337179 [==============================] - 70s 209us/sample - loss: 0.3315 - acc: 0.8528 - binary_crossentropy: 0.3315 - val_loss: 0.3329 - val_acc: 0.8514 - val_binary_crossentropy: 0.3329\n",
      "Epoch 13/200\n",
      "337179/337179 [==============================] - 70s 208us/sample - loss: 0.3297 - acc: 0.8542 - binary_crossentropy: 0.3297 - val_loss: 0.3365 - val_acc: 0.8494 - val_binary_crossentropy: 0.3365\n",
      "Epoch 14/200\n",
      "337179/337179 [==============================] - 71s 209us/sample - loss: 0.3301 - acc: 0.8542 - binary_crossentropy: 0.3301 - val_loss: 0.3389 - val_acc: 0.8476 - val_binary_crossentropy: 0.3389\n",
      "Epoch 15/200\n",
      "337179/337179 [==============================] - 71s 211us/sample - loss: 0.3278 - acc: 0.8553 - binary_crossentropy: 0.3278 - val_loss: 0.3402 - val_acc: 0.8467 - val_binary_crossentropy: 0.3402\n",
      "Epoch 16/200\n",
      "337179/337179 [==============================] - 70s 209us/sample - loss: 0.3270 - acc: 0.8547 - binary_crossentropy: 0.3270 - val_loss: 0.3287 - val_acc: 0.8541 - val_binary_crossentropy: 0.3287\n",
      "Epoch 17/200\n",
      "337179/337179 [==============================] - 70s 207us/sample - loss: 0.3267 - acc: 0.8553 - binary_crossentropy: 0.3267 - val_loss: 0.3316 - val_acc: 0.8525 - val_binary_crossentropy: 0.3316\n",
      "Epoch 18/200\n",
      "337179/337179 [==============================] - 70s 209us/sample - loss: 0.3251 - acc: 0.8562 - binary_crossentropy: 0.3251 - val_loss: 0.3337 - val_acc: 0.8507 - val_binary_crossentropy: 0.3337\n",
      "Epoch 19/200\n",
      "337179/337179 [==============================] - 70s 208us/sample - loss: 0.3250 - acc: 0.8567 - binary_crossentropy: 0.3250 - val_loss: 0.3383 - val_acc: 0.8493 - val_binary_crossentropy: 0.3383\n",
      "Epoch 20/200\n",
      "337179/337179 [==============================] - 70s 209us/sample - loss: 0.3237 - acc: 0.8577 - binary_crossentropy: 0.3237 - val_loss: 0.3401 - val_acc: 0.8461 - val_binary_crossentropy: 0.3401\n",
      "Epoch 21/200\n",
      "337179/337179 [==============================] - 70s 209us/sample - loss: 0.3233 - acc: 0.8572 - binary_crossentropy: 0.3233 - val_loss: 0.3334 - val_acc: 0.8511 - val_binary_crossentropy: 0.3334\n",
      "Epoch 22/200\n",
      "337179/337179 [==============================] - 70s 209us/sample - loss: 0.3221 - acc: 0.8578 - binary_crossentropy: 0.3221 - val_loss: 0.3337 - val_acc: 0.8506 - val_binary_crossentropy: 0.3337\n",
      "Epoch 23/200\n",
      "337179/337179 [==============================] - 71s 210us/sample - loss: 0.3218 - acc: 0.8576 - binary_crossentropy: 0.3218 - val_loss: 0.3356 - val_acc: 0.8497 - val_binary_crossentropy: 0.3356\n",
      "Epoch 24/200\n",
      "337179/337179 [==============================] - 71s 209us/sample - loss: 0.3210 - acc: 0.8584 - binary_crossentropy: 0.3210 - val_loss: 0.3379 - val_acc: 0.8490 - val_binary_crossentropy: 0.3379\n",
      "Epoch 25/200\n",
      "337179/337179 [==============================] - 70s 209us/sample - loss: 0.3201 - acc: 0.8588 - binary_crossentropy: 0.3201 - val_loss: 0.3500 - val_acc: 0.8425 - val_binary_crossentropy: 0.3500\n",
      "Epoch 26/200\n",
      "337179/337179 [==============================] - 71s 209us/sample - loss: 0.3199 - acc: 0.8590 - binary_crossentropy: 0.3199 - val_loss: 0.3340 - val_acc: 0.8510 - val_binary_crossentropy: 0.3340\n",
      "Epoch 27/200\n",
      "337179/337179 [==============================] - 71s 210us/sample - loss: 0.3194 - acc: 0.8599 - binary_crossentropy: 0.3194 - val_loss: 0.3351 - val_acc: 0.8501 - val_binary_crossentropy: 0.3351\n",
      "Epoch 28/200\n",
      "337179/337179 [==============================] - 71s 210us/sample - loss: 0.3188 - acc: 0.8597 - binary_crossentropy: 0.3188 - val_loss: 0.3463 - val_acc: 0.8455 - val_binary_crossentropy: 0.3463\n",
      "Epoch 29/200\n",
      "337179/337179 [==============================] - 71s 210us/sample - loss: 0.3181 - acc: 0.8598 - binary_crossentropy: 0.3181 - val_loss: 0.3414 - val_acc: 0.8475 - val_binary_crossentropy: 0.3414\n",
      "Epoch 30/200\n",
      "337179/337179 [==============================] - 70s 208us/sample - loss: 0.3176 - acc: 0.8602 - binary_crossentropy: 0.3176 - val_loss: 0.3294 - val_acc: 0.8541 - val_binary_crossentropy: 0.3294\n",
      "Epoch 31/200\n",
      "337179/337179 [==============================] - 71s 209us/sample - loss: 0.3171 - acc: 0.8607 - binary_crossentropy: 0.3171 - val_loss: 0.3422 - val_acc: 0.8472 - val_binary_crossentropy: 0.3422\n",
      "Epoch 32/200\n",
      "337179/337179 [==============================] - 71s 209us/sample - loss: 0.3166 - acc: 0.8606 - binary_crossentropy: 0.3166 - val_loss: 0.3358 - val_acc: 0.8507 - val_binary_crossentropy: 0.3358\n",
      "Epoch 33/200\n",
      "337179/337179 [==============================] - 71s 210us/sample - loss: 0.3168 - acc: 0.8607 - binary_crossentropy: 0.3168 - val_loss: 0.3323 - val_acc: 0.8524 - val_binary_crossentropy: 0.3323\n",
      "Epoch 34/200\n",
      "337179/337179 [==============================] - 71s 210us/sample - loss: 0.3156 - acc: 0.8612 - binary_crossentropy: 0.3156 - val_loss: 0.3435 - val_acc: 0.8461 - val_binary_crossentropy: 0.3435\n",
      "Epoch 35/200\n",
      "337179/337179 [==============================] - 62s 184us/sample - loss: 0.3155 - acc: 0.8611 - binary_crossentropy: 0.3155 - val_loss: 0.3396 - val_acc: 0.8484 - val_binary_crossentropy: 0.3396\n",
      "Epoch 36/200\n",
      "337179/337179 [==============================] - 37s 111us/sample - loss: 0.3148 - acc: 0.8617 - binary_crossentropy: 0.3148 - val_loss: 0.3407 - val_acc: 0.8500 - val_binary_crossentropy: 0.3407\n",
      "Epoch 37/200\n",
      "337179/337179 [==============================] - 37s 111us/sample - loss: 0.3139 - acc: 0.8615 - binary_crossentropy: 0.3139 - val_loss: 0.3376 - val_acc: 0.8524 - val_binary_crossentropy: 0.3376\n",
      "Epoch 38/200\n",
      "337179/337179 [==============================] - 38s 111us/sample - loss: 0.3141 - acc: 0.8623 - binary_crossentropy: 0.3141 - val_loss: 0.3342 - val_acc: 0.8534 - val_binary_crossentropy: 0.3342\n",
      "Epoch 39/200\n",
      "337179/337179 [==============================] - 37s 111us/sample - loss: 0.3137 - acc: 0.8627 - binary_crossentropy: 0.3137 - val_loss: 0.3311 - val_acc: 0.8538 - val_binary_crossentropy: 0.3311\n"
     ]
    },
    {
     "name": "stdout",
     "output_type": "stream",
     "text": [
      "Epoch 40/200\n",
      "337179/337179 [==============================] - 37s 111us/sample - loss: 0.3132 - acc: 0.8622 - binary_crossentropy: 0.3132 - val_loss: 0.3322 - val_acc: 0.8522 - val_binary_crossentropy: 0.3322\n",
      "Epoch 41/200\n",
      "337179/337179 [==============================] - 37s 111us/sample - loss: 0.3123 - acc: 0.8634 - binary_crossentropy: 0.3123 - val_loss: 0.3493 - val_acc: 0.8470 - val_binary_crossentropy: 0.3493\n",
      "Epoch 42/200\n",
      "337179/337179 [==============================] - 37s 111us/sample - loss: 0.3123 - acc: 0.8629 - binary_crossentropy: 0.3123 - val_loss: 0.3364 - val_acc: 0.8529 - val_binary_crossentropy: 0.3364\n",
      "Epoch 43/200\n",
      "337179/337179 [==============================] - 38s 111us/sample - loss: 0.3127 - acc: 0.8628 - binary_crossentropy: 0.3127 - val_loss: 0.3310 - val_acc: 0.8541 - val_binary_crossentropy: 0.3310\n",
      "Epoch 44/200\n",
      "337179/337179 [==============================] - 37s 111us/sample - loss: 0.3121 - acc: 0.8631 - binary_crossentropy: 0.3121 - val_loss: 0.3324 - val_acc: 0.8534 - val_binary_crossentropy: 0.3324\n",
      "Epoch 45/200\n",
      "337179/337179 [==============================] - 37s 111us/sample - loss: 0.3116 - acc: 0.8635 - binary_crossentropy: 0.3116 - val_loss: 0.3373 - val_acc: 0.8495 - val_binary_crossentropy: 0.3373\n",
      "Epoch 46/200\n",
      "337179/337179 [==============================] - 38s 111us/sample - loss: 0.3108 - acc: 0.8637 - binary_crossentropy: 0.3108 - val_loss: 0.3347 - val_acc: 0.8507 - val_binary_crossentropy: 0.3347\n",
      "Epoch 47/200\n",
      "337179/337179 [==============================] - 38s 112us/sample - loss: 0.3105 - acc: 0.8639 - binary_crossentropy: 0.3105 - val_loss: 0.3355 - val_acc: 0.8515 - val_binary_crossentropy: 0.3355\n",
      "Epoch 48/200\n",
      "337179/337179 [==============================] - 38s 112us/sample - loss: 0.3099 - acc: 0.8643 - binary_crossentropy: 0.3099 - val_loss: 0.3322 - val_acc: 0.8542 - val_binary_crossentropy: 0.3322\n",
      "Epoch 49/200\n",
      "337179/337179 [==============================] - 38s 112us/sample - loss: 0.3103 - acc: 0.8642 - binary_crossentropy: 0.3103 - val_loss: 0.3376 - val_acc: 0.8505 - val_binary_crossentropy: 0.3376\n",
      "Epoch 50/200\n",
      "337179/337179 [==============================] - 38s 111us/sample - loss: 0.3097 - acc: 0.8641 - binary_crossentropy: 0.3097 - val_loss: 0.3398 - val_acc: 0.8501 - val_binary_crossentropy: 0.3398\n",
      "Epoch 51/200\n",
      "337179/337179 [==============================] - 38s 111us/sample - loss: 0.3101 - acc: 0.8637 - binary_crossentropy: 0.3101 - val_loss: 0.3486 - val_acc: 0.8455 - val_binary_crossentropy: 0.3486\n",
      "Epoch 52/200\n",
      "337179/337179 [==============================] - 38s 112us/sample - loss: 0.3090 - acc: 0.8649 - binary_crossentropy: 0.3090 - val_loss: 0.3380 - val_acc: 0.8501 - val_binary_crossentropy: 0.3380\n",
      "Epoch 53/200\n",
      "337179/337179 [==============================] - 38s 111us/sample - loss: 0.3090 - acc: 0.8644 - binary_crossentropy: 0.3090 - val_loss: 0.3315 - val_acc: 0.8536 - val_binary_crossentropy: 0.3315\n",
      "Epoch 54/200\n",
      "337179/337179 [==============================] - 38s 112us/sample - loss: 0.3093 - acc: 0.8643 - binary_crossentropy: 0.3093 - val_loss: 0.3303 - val_acc: 0.8526 - val_binary_crossentropy: 0.3303\n",
      "Epoch 55/200\n",
      "337179/337179 [==============================] - 38s 112us/sample - loss: 0.3081 - acc: 0.8656 - binary_crossentropy: 0.3081 - val_loss: 0.3285 - val_acc: 0.8559 - val_binary_crossentropy: 0.3285\n",
      "Epoch 56/200\n",
      "337179/337179 [==============================] - 38s 111us/sample - loss: 0.3081 - acc: 0.8648 - binary_crossentropy: 0.3081 - val_loss: 0.3309 - val_acc: 0.8533 - val_binary_crossentropy: 0.3309\n",
      "Epoch 57/200\n",
      "337179/337179 [==============================] - 38s 112us/sample - loss: 0.3081 - acc: 0.8652 - binary_crossentropy: 0.3081 - val_loss: 0.3321 - val_acc: 0.8525 - val_binary_crossentropy: 0.3321\n",
      "Epoch 58/200\n",
      "337179/337179 [==============================] - 38s 112us/sample - loss: 0.3077 - acc: 0.8651 - binary_crossentropy: 0.3077 - val_loss: 0.3318 - val_acc: 0.8536 - val_binary_crossentropy: 0.3318\n",
      "Epoch 59/200\n",
      "337179/337179 [==============================] - 38s 112us/sample - loss: 0.3075 - acc: 0.8649 - binary_crossentropy: 0.3075 - val_loss: 0.3330 - val_acc: 0.8533 - val_binary_crossentropy: 0.3330\n",
      "Epoch 60/200\n",
      "337179/337179 [==============================] - 38s 111us/sample - loss: 0.3068 - acc: 0.8656 - binary_crossentropy: 0.3068 - val_loss: 0.3371 - val_acc: 0.8514 - val_binary_crossentropy: 0.3371\n",
      "Epoch 61/200\n",
      "337179/337179 [==============================] - 38s 111us/sample - loss: 0.3075 - acc: 0.8651 - binary_crossentropy: 0.3075 - val_loss: 0.3349 - val_acc: 0.8519 - val_binary_crossentropy: 0.3349\n",
      "Epoch 62/200\n",
      "337179/337179 [==============================] - 38s 111us/sample - loss: 0.3069 - acc: 0.8654 - binary_crossentropy: 0.3069 - val_loss: 0.3371 - val_acc: 0.8504 - val_binary_crossentropy: 0.3371\n",
      "Epoch 63/200\n",
      "337179/337179 [==============================] - 38s 112us/sample - loss: 0.3070 - acc: 0.8655 - binary_crossentropy: 0.3070 - val_loss: 0.3328 - val_acc: 0.8534 - val_binary_crossentropy: 0.3328\n",
      "Epoch 64/200\n",
      "337179/337179 [==============================] - 38s 111us/sample - loss: 0.3063 - acc: 0.8657 - binary_crossentropy: 0.3063 - val_loss: 0.3394 - val_acc: 0.8516 - val_binary_crossentropy: 0.3394\n",
      "Epoch 65/200\n",
      "337179/337179 [==============================] - 38s 112us/sample - loss: 0.3061 - acc: 0.8662 - binary_crossentropy: 0.3061 - val_loss: 0.3322 - val_acc: 0.8534 - val_binary_crossentropy: 0.3322\n",
      "Epoch 66/200\n",
      "337179/337179 [==============================] - 38s 112us/sample - loss: 0.3058 - acc: 0.8663 - binary_crossentropy: 0.3058 - val_loss: 0.3315 - val_acc: 0.8535 - val_binary_crossentropy: 0.3315\n",
      "Epoch 67/200\n",
      "337179/337179 [==============================] - 38s 111us/sample - loss: 0.3054 - acc: 0.8661 - binary_crossentropy: 0.3054 - val_loss: 0.3351 - val_acc: 0.8526 - val_binary_crossentropy: 0.3351\n",
      "Epoch 68/200\n",
      "337179/337179 [==============================] - 38s 111us/sample - loss: 0.3058 - acc: 0.8662 - binary_crossentropy: 0.3058 - val_loss: 0.3371 - val_acc: 0.8519 - val_binary_crossentropy: 0.3371\n",
      "Epoch 69/200\n",
      "337179/337179 [==============================] - 38s 111us/sample - loss: 0.3053 - acc: 0.8667 - binary_crossentropy: 0.3053 - val_loss: 0.3325 - val_acc: 0.8530 - val_binary_crossentropy: 0.3325\n",
      "Epoch 70/200\n",
      "337179/337179 [==============================] - 38s 112us/sample - loss: 0.3053 - acc: 0.8670 - binary_crossentropy: 0.3053 - val_loss: 0.3312 - val_acc: 0.8537 - val_binary_crossentropy: 0.3312\n",
      "Epoch 71/200\n",
      "337179/337179 [==============================] - 38s 112us/sample - loss: 0.3048 - acc: 0.8665 - binary_crossentropy: 0.3048 - val_loss: 0.3307 - val_acc: 0.8535 - val_binary_crossentropy: 0.3307\n",
      "Epoch 72/200\n",
      "337179/337179 [==============================] - 37s 111us/sample - loss: 0.3043 - acc: 0.8672 - binary_crossentropy: 0.3043 - val_loss: 0.3287 - val_acc: 0.8539 - val_binary_crossentropy: 0.3287\n",
      "Epoch 73/200\n",
      "337179/337179 [==============================] - 38s 111us/sample - loss: 0.3048 - acc: 0.8665 - binary_crossentropy: 0.3048 - val_loss: 0.3394 - val_acc: 0.8499 - val_binary_crossentropy: 0.3394\n",
      "Epoch 74/200\n",
      "337179/337179 [==============================] - 37s 111us/sample - loss: 0.3042 - acc: 0.8666 - binary_crossentropy: 0.3042 - val_loss: 0.3336 - val_acc: 0.8530 - val_binary_crossentropy: 0.3336\n",
      "Epoch 75/200\n",
      "337179/337179 [==============================] - 38s 112us/sample - loss: 0.3039 - acc: 0.8668 - binary_crossentropy: 0.3039 - val_loss: 0.3319 - val_acc: 0.8542 - val_binary_crossentropy: 0.3319\n",
      "Epoch 76/200\n",
      "337179/337179 [==============================] - 38s 111us/sample - loss: 0.3042 - acc: 0.8670 - binary_crossentropy: 0.3042 - val_loss: 0.3316 - val_acc: 0.8548 - val_binary_crossentropy: 0.3316\n",
      "Epoch 77/200\n",
      "337179/337179 [==============================] - 38s 112us/sample - loss: 0.3042 - acc: 0.8665 - binary_crossentropy: 0.3042 - val_loss: 0.3344 - val_acc: 0.8515 - val_binary_crossentropy: 0.3344\n",
      "Epoch 78/200\n",
      "337179/337179 [==============================] - 38s 112us/sample - loss: 0.3037 - acc: 0.8675 - binary_crossentropy: 0.3037 - val_loss: 0.3337 - val_acc: 0.8526 - val_binary_crossentropy: 0.3337\n",
      "Epoch 79/200\n",
      "337179/337179 [==============================] - 38s 112us/sample - loss: 0.3042 - acc: 0.8666 - binary_crossentropy: 0.3042 - val_loss: 0.3330 - val_acc: 0.8519 - val_binary_crossentropy: 0.3330\n",
      "Epoch 80/200\n",
      "337179/337179 [==============================] - 37s 111us/sample - loss: 0.3030 - acc: 0.8676 - binary_crossentropy: 0.3030 - val_loss: 0.3291 - val_acc: 0.8543 - val_binary_crossentropy: 0.3291\n",
      "Epoch 81/200\n",
      "337179/337179 [==============================] - 38s 112us/sample - loss: 0.3037 - acc: 0.8673 - binary_crossentropy: 0.3037 - val_loss: 0.3300 - val_acc: 0.8536 - val_binary_crossentropy: 0.3300\n",
      "Epoch 82/200\n",
      "337179/337179 [==============================] - 38s 111us/sample - loss: 0.3039 - acc: 0.8673 - binary_crossentropy: 0.3039 - val_loss: 0.3321 - val_acc: 0.8528 - val_binary_crossentropy: 0.3321\n",
      "Epoch 83/200\n",
      "337179/337179 [==============================] - 38s 111us/sample - loss: 0.3030 - acc: 0.8675 - binary_crossentropy: 0.3030 - val_loss: 0.3298 - val_acc: 0.8550 - val_binary_crossentropy: 0.3298\n",
      "Epoch 84/200\n",
      "337179/337179 [==============================] - 38s 111us/sample - loss: 0.3031 - acc: 0.8672 - binary_crossentropy: 0.3031 - val_loss: 0.3357 - val_acc: 0.8519 - val_binary_crossentropy: 0.3357\n",
      "Epoch 85/200\n",
      "337179/337179 [==============================] - 38s 112us/sample - loss: 0.3025 - acc: 0.8680 - binary_crossentropy: 0.3025 - val_loss: 0.3366 - val_acc: 0.8513 - val_binary_crossentropy: 0.3366\n",
      "Epoch 86/200\n",
      "337179/337179 [==============================] - 38s 112us/sample - loss: 0.3024 - acc: 0.8680 - binary_crossentropy: 0.3024 - val_loss: 0.3407 - val_acc: 0.8497 - val_binary_crossentropy: 0.3407\n",
      "Epoch 87/200\n",
      "337179/337179 [==============================] - 38s 111us/sample - loss: 0.3026 - acc: 0.8680 - binary_crossentropy: 0.3026 - val_loss: 0.3484 - val_acc: 0.8475 - val_binary_crossentropy: 0.3484\n",
      "Epoch 88/200\n",
      "337179/337179 [==============================] - 38s 112us/sample - loss: 0.3021 - acc: 0.8683 - binary_crossentropy: 0.3021 - val_loss: 0.3418 - val_acc: 0.8493 - val_binary_crossentropy: 0.3418\n",
      "Epoch 89/200\n",
      "337179/337179 [==============================] - 37s 111us/sample - loss: 0.3028 - acc: 0.8682 - binary_crossentropy: 0.3028 - val_loss: 0.3391 - val_acc: 0.8497 - val_binary_crossentropy: 0.3391\n",
      "Epoch 90/200\n",
      "337179/337179 [==============================] - 38s 111us/sample - loss: 0.3017 - acc: 0.8679 - binary_crossentropy: 0.3017 - val_loss: 0.3370 - val_acc: 0.8539 - val_binary_crossentropy: 0.3370\n",
      "Epoch 91/200\n",
      "337179/337179 [==============================] - 37s 111us/sample - loss: 0.3017 - acc: 0.8681 - binary_crossentropy: 0.3017 - val_loss: 0.3348 - val_acc: 0.8516 - val_binary_crossentropy: 0.3348\n",
      "Epoch 92/200\n",
      "337179/337179 [==============================] - 38s 111us/sample - loss: 0.3018 - acc: 0.8682 - binary_crossentropy: 0.3018 - val_loss: 0.3340 - val_acc: 0.8512 - val_binary_crossentropy: 0.3340\n",
      "Epoch 93/200\n",
      "337179/337179 [==============================] - 38s 111us/sample - loss: 0.3013 - acc: 0.8676 - binary_crossentropy: 0.3013 - val_loss: 0.3317 - val_acc: 0.8538 - val_binary_crossentropy: 0.3317\n",
      "Epoch 94/200\n",
      "337179/337179 [==============================] - 38s 111us/sample - loss: 0.3013 - acc: 0.8686 - binary_crossentropy: 0.3013 - val_loss: 0.3311 - val_acc: 0.8528 - val_binary_crossentropy: 0.3311\n",
      "Epoch 95/200\n",
      "337179/337179 [==============================] - 38s 111us/sample - loss: 0.3012 - acc: 0.8682 - binary_crossentropy: 0.3012 - val_loss: 0.3352 - val_acc: 0.8522 - val_binary_crossentropy: 0.3352\n",
      "Epoch 96/200\n",
      "337179/337179 [==============================] - 38s 112us/sample - loss: 0.3013 - acc: 0.8677 - binary_crossentropy: 0.3013 - val_loss: 0.3329 - val_acc: 0.8518 - val_binary_crossentropy: 0.3329\n",
      "Epoch 97/200\n",
      "337179/337179 [==============================] - 38s 111us/sample - loss: 0.3013 - acc: 0.8681 - binary_crossentropy: 0.3013 - val_loss: 0.3315 - val_acc: 0.8534 - val_binary_crossentropy: 0.3315\n",
      "Epoch 98/200\n",
      "337179/337179 [==============================] - 38s 111us/sample - loss: 0.3011 - acc: 0.8682 - binary_crossentropy: 0.3011 - val_loss: 0.3355 - val_acc: 0.8512 - val_binary_crossentropy: 0.3355\n",
      "Epoch 99/200\n",
      "337179/337179 [==============================] - 37s 111us/sample - loss: 0.3015 - acc: 0.8681 - binary_crossentropy: 0.3015 - val_loss: 0.3336 - val_acc: 0.8542 - val_binary_crossentropy: 0.3336\n",
      "Epoch 100/200\n",
      "337179/337179 [==============================] - 38s 112us/sample - loss: 0.3012 - acc: 0.8679 - binary_crossentropy: 0.3012 - val_loss: 0.3387 - val_acc: 0.8503 - val_binary_crossentropy: 0.3387\n",
      "Epoch 101/200\n",
      "337179/337179 [==============================] - 38s 112us/sample - loss: 0.3009 - acc: 0.8684 - binary_crossentropy: 0.3009 - val_loss: 0.3370 - val_acc: 0.8507 - val_binary_crossentropy: 0.3370\n",
      "Epoch 102/200\n",
      "337179/337179 [==============================] - 38s 111us/sample - loss: 0.3009 - acc: 0.8687 - binary_crossentropy: 0.3009 - val_loss: 0.3344 - val_acc: 0.8524 - val_binary_crossentropy: 0.3344\n",
      "Epoch 103/200\n",
      "337179/337179 [==============================] - 38s 111us/sample - loss: 0.3006 - acc: 0.8685 - binary_crossentropy: 0.3006 - val_loss: 0.3378 - val_acc: 0.8535 - val_binary_crossentropy: 0.3378\n",
      "Epoch 104/200\n",
      "337179/337179 [==============================] - 37s 111us/sample - loss: 0.3002 - acc: 0.8686 - binary_crossentropy: 0.3002 - val_loss: 0.3314 - val_acc: 0.8538 - val_binary_crossentropy: 0.3314\n",
      "Epoch 105/200\n",
      "337179/337179 [==============================] - 38s 111us/sample - loss: 0.3004 - acc: 0.8686 - binary_crossentropy: 0.3004 - val_loss: 0.3359 - val_acc: 0.8513 - val_binary_crossentropy: 0.3359\n",
      "Epoch 106/200\n",
      "337179/337179 [==============================] - 38s 112us/sample - loss: 0.2999 - acc: 0.8692 - binary_crossentropy: 0.2999 - val_loss: 0.3478 - val_acc: 0.8499 - val_binary_crossentropy: 0.3478\n",
      "Epoch 107/200\n",
      "337179/337179 [==============================] - 38s 112us/sample - loss: 0.3002 - acc: 0.8690 - binary_crossentropy: 0.3002 - val_loss: 0.3387 - val_acc: 0.8534 - val_binary_crossentropy: 0.3387\n",
      "Epoch 108/200\n",
      "337179/337179 [==============================] - 37s 111us/sample - loss: 0.3004 - acc: 0.8689 - binary_crossentropy: 0.3004 - val_loss: 0.3433 - val_acc: 0.8501 - val_binary_crossentropy: 0.3433\n",
      "Epoch 109/200\n",
      "337179/337179 [==============================] - 38s 112us/sample - loss: 0.2999 - acc: 0.8688 - binary_crossentropy: 0.2999 - val_loss: 0.3357 - val_acc: 0.8529 - val_binary_crossentropy: 0.3357\n",
      "Epoch 110/200\n",
      "337179/337179 [==============================] - 38s 112us/sample - loss: 0.3004 - acc: 0.8684 - binary_crossentropy: 0.3004 - val_loss: 0.3394 - val_acc: 0.8515 - val_binary_crossentropy: 0.3394\n",
      "Epoch 111/200\n",
      "337179/337179 [==============================] - 38s 112us/sample - loss: 0.2999 - acc: 0.8684 - binary_crossentropy: 0.2999 - val_loss: 0.3400 - val_acc: 0.8512 - val_binary_crossentropy: 0.3400\n",
      "Epoch 112/200\n",
      "337179/337179 [==============================] - 38s 111us/sample - loss: 0.2991 - acc: 0.8696 - binary_crossentropy: 0.2991 - val_loss: 0.3387 - val_acc: 0.8509 - val_binary_crossentropy: 0.3387\n",
      "Epoch 113/200\n",
      "337179/337179 [==============================] - 38s 111us/sample - loss: 0.2997 - acc: 0.8692 - binary_crossentropy: 0.2997 - val_loss: 0.3330 - val_acc: 0.8546 - val_binary_crossentropy: 0.3330\n",
      "Epoch 114/200\n",
      "337179/337179 [==============================] - 38s 112us/sample - loss: 0.2996 - acc: 0.8693 - binary_crossentropy: 0.2996 - val_loss: 0.3334 - val_acc: 0.8519 - val_binary_crossentropy: 0.3334\n",
      "Epoch 115/200\n",
      "337179/337179 [==============================] - 38s 111us/sample - loss: 0.2995 - acc: 0.8691 - binary_crossentropy: 0.2995 - val_loss: 0.3321 - val_acc: 0.8533 - val_binary_crossentropy: 0.3321\n",
      "Epoch 116/200\n",
      "337179/337179 [==============================] - 38s 111us/sample - loss: 0.2997 - acc: 0.8693 - binary_crossentropy: 0.2997 - val_loss: 0.3311 - val_acc: 0.8538 - val_binary_crossentropy: 0.3311\n",
      "Epoch 117/200\n",
      "337179/337179 [==============================] - 37s 111us/sample - loss: 0.2992 - acc: 0.8694 - binary_crossentropy: 0.2992 - val_loss: 0.3435 - val_acc: 0.8493 - val_binary_crossentropy: 0.3435\n",
      "Epoch 118/200\n"
     ]
    },
    {
     "name": "stdout",
     "output_type": "stream",
     "text": [
      "337179/337179 [==============================] - 38s 111us/sample - loss: 0.2991 - acc: 0.8689 - binary_crossentropy: 0.2991 - val_loss: 0.3356 - val_acc: 0.8520 - val_binary_crossentropy: 0.3356\n",
      "Epoch 119/200\n",
      "337179/337179 [==============================] - 38s 111us/sample - loss: 0.2990 - acc: 0.8692 - binary_crossentropy: 0.2990 - val_loss: 0.3394 - val_acc: 0.8522 - val_binary_crossentropy: 0.3394\n",
      "Epoch 120/200\n",
      "337179/337179 [==============================] - 38s 112us/sample - loss: 0.2990 - acc: 0.8694 - binary_crossentropy: 0.2990 - val_loss: 0.3357 - val_acc: 0.8529 - val_binary_crossentropy: 0.3357\n",
      "Epoch 121/200\n",
      "337179/337179 [==============================] - 38s 112us/sample - loss: 0.2989 - acc: 0.8700 - binary_crossentropy: 0.2989 - val_loss: 0.3375 - val_acc: 0.8515 - val_binary_crossentropy: 0.3375\n",
      "Epoch 122/200\n",
      "337179/337179 [==============================] - 38s 112us/sample - loss: 0.2988 - acc: 0.8700 - binary_crossentropy: 0.2988 - val_loss: 0.3346 - val_acc: 0.8530 - val_binary_crossentropy: 0.3346\n",
      "Epoch 123/200\n",
      "337179/337179 [==============================] - 38s 112us/sample - loss: 0.2992 - acc: 0.8688 - binary_crossentropy: 0.2992 - val_loss: 0.3392 - val_acc: 0.8497 - val_binary_crossentropy: 0.3392\n",
      "Epoch 124/200\n",
      "337179/337179 [==============================] - 38s 113us/sample - loss: 0.2991 - acc: 0.8698 - binary_crossentropy: 0.2991 - val_loss: 0.3305 - val_acc: 0.8523 - val_binary_crossentropy: 0.3305\n",
      "Epoch 125/200\n",
      "337179/337179 [==============================] - 58s 172us/sample - loss: 0.2984 - acc: 0.8697 - binary_crossentropy: 0.2984 - val_loss: 0.3422 - val_acc: 0.8511 - val_binary_crossentropy: 0.3422\n",
      "Epoch 126/200\n",
      "337179/337179 [==============================] - 81s 241us/sample - loss: 0.2986 - acc: 0.8696 - binary_crossentropy: 0.2986 - val_loss: 0.3401 - val_acc: 0.8493 - val_binary_crossentropy: 0.3401\n",
      "Epoch 127/200\n",
      "337179/337179 [==============================] - 72s 215us/sample - loss: 0.2977 - acc: 0.8695 - binary_crossentropy: 0.2977 - val_loss: 0.3344 - val_acc: 0.8537 - val_binary_crossentropy: 0.3344\n",
      "Epoch 128/200\n",
      "337179/337179 [==============================] - 69s 205us/sample - loss: 0.2983 - acc: 0.8697 - binary_crossentropy: 0.2983 - val_loss: 0.3440 - val_acc: 0.8515 - val_binary_crossentropy: 0.3440\n",
      "Epoch 129/200\n",
      "337179/337179 [==============================] - 89s 264us/sample - loss: 0.2984 - acc: 0.8697 - binary_crossentropy: 0.2984 - val_loss: 0.3346 - val_acc: 0.8533 - val_binary_crossentropy: 0.3346\n",
      "Epoch 130/200\n",
      "337179/337179 [==============================] - 105s 313us/sample - loss: 0.2986 - acc: 0.8693 - binary_crossentropy: 0.2986 - val_loss: 0.3355 - val_acc: 0.8523 - val_binary_crossentropy: 0.3355\n",
      "Epoch 131/200\n",
      "337179/337179 [==============================] - 105s 311us/sample - loss: 0.2984 - acc: 0.8696 - binary_crossentropy: 0.2984 - val_loss: 0.3356 - val_acc: 0.8526 - val_binary_crossentropy: 0.3356\n",
      "Epoch 132/200\n",
      "337179/337179 [==============================] - 105s 312us/sample - loss: 0.2980 - acc: 0.8697 - binary_crossentropy: 0.2980 - val_loss: 0.3394 - val_acc: 0.8511 - val_binary_crossentropy: 0.3394\n",
      "Epoch 133/200\n",
      "337179/337179 [==============================] - 105s 312us/sample - loss: 0.2979 - acc: 0.8699 - binary_crossentropy: 0.2979 - val_loss: 0.3359 - val_acc: 0.8531 - val_binary_crossentropy: 0.3359\n",
      "Epoch 134/200\n",
      "337179/337179 [==============================] - 106s 315us/sample - loss: 0.2981 - acc: 0.8700 - binary_crossentropy: 0.2981 - val_loss: 0.3372 - val_acc: 0.8531 - val_binary_crossentropy: 0.3372\n",
      "Epoch 135/200\n",
      "337179/337179 [==============================] - 105s 310us/sample - loss: 0.2974 - acc: 0.8701 - binary_crossentropy: 0.2974 - val_loss: 0.3426 - val_acc: 0.8499 - val_binary_crossentropy: 0.3426\n",
      "Epoch 136/200\n",
      "337179/337179 [==============================] - 104s 310us/sample - loss: 0.2974 - acc: 0.8701 - binary_crossentropy: 0.2974 - val_loss: 0.3394 - val_acc: 0.8522 - val_binary_crossentropy: 0.3394\n",
      "Epoch 137/200\n",
      "337179/337179 [==============================] - 105s 312us/sample - loss: 0.2981 - acc: 0.8696 - binary_crossentropy: 0.2981 - val_loss: 0.3365 - val_acc: 0.8525 - val_binary_crossentropy: 0.3365\n",
      "Epoch 138/200\n",
      "337179/337179 [==============================] - 105s 312us/sample - loss: 0.2977 - acc: 0.8703 - binary_crossentropy: 0.2977 - val_loss: 0.3407 - val_acc: 0.8498 - val_binary_crossentropy: 0.3407\n",
      "Epoch 139/200\n",
      "337179/337179 [==============================] - 105s 311us/sample - loss: 0.2979 - acc: 0.8700 - binary_crossentropy: 0.2979 - val_loss: 0.3468 - val_acc: 0.8479 - val_binary_crossentropy: 0.3468\n",
      "Epoch 140/200\n",
      "337179/337179 [==============================] - 105s 311us/sample - loss: 0.2979 - acc: 0.8698 - binary_crossentropy: 0.2979 - val_loss: 0.3383 - val_acc: 0.8515 - val_binary_crossentropy: 0.3383\n",
      "Epoch 141/200\n",
      "337179/337179 [==============================] - 105s 312us/sample - loss: 0.2974 - acc: 0.8705 - binary_crossentropy: 0.2974 - val_loss: 0.3363 - val_acc: 0.8519 - val_binary_crossentropy: 0.3363\n",
      "Epoch 142/200\n",
      "337179/337179 [==============================] - 106s 314us/sample - loss: 0.2968 - acc: 0.8704 - binary_crossentropy: 0.2968 - val_loss: 0.3327 - val_acc: 0.8530 - val_binary_crossentropy: 0.3327\n",
      "Epoch 143/200\n",
      "337179/337179 [==============================] - 105s 312us/sample - loss: 0.2971 - acc: 0.8701 - binary_crossentropy: 0.2971 - val_loss: 0.3362 - val_acc: 0.8508 - val_binary_crossentropy: 0.3362\n",
      "Epoch 144/200\n",
      "337179/337179 [==============================] - 105s 310us/sample - loss: 0.2977 - acc: 0.8703 - binary_crossentropy: 0.2977 - val_loss: 0.3357 - val_acc: 0.8520 - val_binary_crossentropy: 0.3357\n",
      "Epoch 145/200\n",
      "337179/337179 [==============================] - 106s 314us/sample - loss: 0.2969 - acc: 0.8704 - binary_crossentropy: 0.2969 - val_loss: 0.3456 - val_acc: 0.8497 - val_binary_crossentropy: 0.3456\n",
      "Epoch 146/200\n",
      "337179/337179 [==============================] - 105s 310us/sample - loss: 0.2967 - acc: 0.8712 - binary_crossentropy: 0.2967 - val_loss: 0.3321 - val_acc: 0.8533 - val_binary_crossentropy: 0.3321\n",
      "Epoch 147/200\n",
      "337179/337179 [==============================] - 105s 312us/sample - loss: 0.2970 - acc: 0.8704 - binary_crossentropy: 0.2970 - val_loss: 0.3432 - val_acc: 0.8514 - val_binary_crossentropy: 0.3432\n",
      "Epoch 148/200\n",
      "337179/337179 [==============================] - 106s 314us/sample - loss: 0.2970 - acc: 0.8707 - binary_crossentropy: 0.2970 - val_loss: 0.3479 - val_acc: 0.8493 - val_binary_crossentropy: 0.3479\n",
      "Epoch 149/200\n",
      "337179/337179 [==============================] - 105s 311us/sample - loss: 0.2968 - acc: 0.8704 - binary_crossentropy: 0.2968 - val_loss: 0.3332 - val_acc: 0.8519 - val_binary_crossentropy: 0.3332\n",
      "Epoch 150/200\n",
      "337179/337179 [==============================] - 105s 312us/sample - loss: 0.2967 - acc: 0.8707 - binary_crossentropy: 0.2967 - val_loss: 0.3388 - val_acc: 0.8528 - val_binary_crossentropy: 0.3388\n",
      "Epoch 151/200\n",
      "337179/337179 [==============================] - 106s 314us/sample - loss: 0.2963 - acc: 0.8704 - binary_crossentropy: 0.2963 - val_loss: 0.3344 - val_acc: 0.8534 - val_binary_crossentropy: 0.3344\n",
      "Epoch 152/200\n",
      "337179/337179 [==============================] - 105s 311us/sample - loss: 0.2967 - acc: 0.8706 - binary_crossentropy: 0.2967 - val_loss: 0.3335 - val_acc: 0.8532 - val_binary_crossentropy: 0.3335\n",
      "Epoch 153/200\n",
      "337179/337179 [==============================] - 105s 312us/sample - loss: 0.2961 - acc: 0.8706 - binary_crossentropy: 0.2961 - val_loss: 0.3372 - val_acc: 0.8531 - val_binary_crossentropy: 0.3372\n",
      "Epoch 154/200\n",
      "337179/337179 [==============================] - 105s 311us/sample - loss: 0.2958 - acc: 0.8707 - binary_crossentropy: 0.2958 - val_loss: 0.3399 - val_acc: 0.8509 - val_binary_crossentropy: 0.3399\n",
      "Epoch 155/200\n",
      "337179/337179 [==============================] - 105s 312us/sample - loss: 0.2967 - acc: 0.8703 - binary_crossentropy: 0.2967 - val_loss: 0.3345 - val_acc: 0.8514 - val_binary_crossentropy: 0.3345\n",
      "Epoch 156/200\n",
      "337179/337179 [==============================] - 106s 314us/sample - loss: 0.2967 - acc: 0.8706 - binary_crossentropy: 0.2967 - val_loss: 0.3375 - val_acc: 0.8516 - val_binary_crossentropy: 0.3375\n"
     ]
    },
    {
     "name": "stdout",
     "output_type": "stream",
     "text": [
      "Epoch 157/200\n",
      "337179/337179 [==============================] - 105s 313us/sample - loss: 0.2965 - acc: 0.8703 - binary_crossentropy: 0.2965 - val_loss: 0.3362 - val_acc: 0.8521 - val_binary_crossentropy: 0.3362\n",
      "Epoch 158/200\n",
      "337179/337179 [==============================] - 106s 313us/sample - loss: 0.2963 - acc: 0.8707 - binary_crossentropy: 0.2963 - val_loss: 0.3473 - val_acc: 0.8490 - val_binary_crossentropy: 0.3473\n",
      "Epoch 159/200\n",
      "337179/337179 [==============================] - 104s 310us/sample - loss: 0.2959 - acc: 0.8711 - binary_crossentropy: 0.2959 - val_loss: 0.3445 - val_acc: 0.8519 - val_binary_crossentropy: 0.3445\n",
      "Epoch 160/200\n",
      "337179/337179 [==============================] - 105s 311us/sample - loss: 0.2954 - acc: 0.8717 - binary_crossentropy: 0.2954 - val_loss: 0.3389 - val_acc: 0.8528 - val_binary_crossentropy: 0.3389\n",
      "Epoch 161/200\n",
      "337179/337179 [==============================] - 106s 314us/sample - loss: 0.2963 - acc: 0.8705 - binary_crossentropy: 0.2963 - val_loss: 0.3407 - val_acc: 0.8505 - val_binary_crossentropy: 0.3407\n",
      "Epoch 162/200\n",
      "337179/337179 [==============================] - 105s 312us/sample - loss: 0.2966 - acc: 0.8708 - binary_crossentropy: 0.2966 - val_loss: 0.3405 - val_acc: 0.8513 - val_binary_crossentropy: 0.3405\n",
      "Epoch 163/200\n",
      "337179/337179 [==============================] - 105s 311us/sample - loss: 0.2965 - acc: 0.8701 - binary_crossentropy: 0.2965 - val_loss: 0.3371 - val_acc: 0.8524 - val_binary_crossentropy: 0.3371\n",
      "Epoch 164/200\n",
      "337179/337179 [==============================] - 105s 312us/sample - loss: 0.2963 - acc: 0.8702 - binary_crossentropy: 0.2963 - val_loss: 0.3367 - val_acc: 0.8521 - val_binary_crossentropy: 0.3367\n",
      "Epoch 165/200\n",
      "337179/337179 [==============================] - 105s 312us/sample - loss: 0.2964 - acc: 0.8709 - binary_crossentropy: 0.2964 - val_loss: 0.3435 - val_acc: 0.8488 - val_binary_crossentropy: 0.3435\n",
      "Epoch 166/200\n",
      "337179/337179 [==============================] - 105s 312us/sample - loss: 0.2959 - acc: 0.8715 - binary_crossentropy: 0.2959 - val_loss: 0.3386 - val_acc: 0.8518 - val_binary_crossentropy: 0.3386\n",
      "Epoch 167/200\n",
      "337179/337179 [==============================] - 105s 312us/sample - loss: 0.2957 - acc: 0.8709 - binary_crossentropy: 0.2957 - val_loss: 0.3433 - val_acc: 0.8498 - val_binary_crossentropy: 0.3433\n",
      "Epoch 168/200\n",
      "337179/337179 [==============================] - 105s 311us/sample - loss: 0.2955 - acc: 0.8711 - binary_crossentropy: 0.2955 - val_loss: 0.3394 - val_acc: 0.8515 - val_binary_crossentropy: 0.3394\n",
      "Epoch 169/200\n",
      "337179/337179 [==============================] - 105s 313us/sample - loss: 0.2953 - acc: 0.8711 - binary_crossentropy: 0.2953 - val_loss: 0.3393 - val_acc: 0.8507 - val_binary_crossentropy: 0.3393\n",
      "Epoch 170/200\n",
      "337179/337179 [==============================] - 105s 311us/sample - loss: 0.2954 - acc: 0.8713 - binary_crossentropy: 0.2954 - val_loss: 0.3489 - val_acc: 0.8511 - val_binary_crossentropy: 0.3489\n",
      "Epoch 171/200\n",
      "337179/337179 [==============================] - 107s 316us/sample - loss: 0.2955 - acc: 0.8714 - binary_crossentropy: 0.2955 - val_loss: 0.3434 - val_acc: 0.8509 - val_binary_crossentropy: 0.3434\n",
      "Epoch 172/200\n",
      "337179/337179 [==============================] - 105s 311us/sample - loss: 0.2954 - acc: 0.8709 - binary_crossentropy: 0.2954 - val_loss: 0.3470 - val_acc: 0.8483 - val_binary_crossentropy: 0.3470\n",
      "Epoch 173/200\n",
      "337179/337179 [==============================] - 105s 312us/sample - loss: 0.2954 - acc: 0.8712 - binary_crossentropy: 0.2954 - val_loss: 0.3366 - val_acc: 0.8512 - val_binary_crossentropy: 0.3366\n",
      "Epoch 174/200\n",
      "337179/337179 [==============================] - 106s 315us/sample - loss: 0.2951 - acc: 0.8712 - binary_crossentropy: 0.2951 - val_loss: 0.3370 - val_acc: 0.8524 - val_binary_crossentropy: 0.3370\n",
      "Epoch 175/200\n",
      "337179/337179 [==============================] - 105s 312us/sample - loss: 0.2957 - acc: 0.8714 - binary_crossentropy: 0.2957 - val_loss: 0.3358 - val_acc: 0.8524 - val_binary_crossentropy: 0.3358\n",
      "Epoch 176/200\n",
      "337179/337179 [==============================] - 105s 313us/sample - loss: 0.2950 - acc: 0.8711 - binary_crossentropy: 0.2950 - val_loss: 0.3397 - val_acc: 0.8512 - val_binary_crossentropy: 0.3397\n",
      "Epoch 177/200\n",
      "337179/337179 [==============================] - 105s 312us/sample - loss: 0.2952 - acc: 0.8712 - binary_crossentropy: 0.2952 - val_loss: 0.3371 - val_acc: 0.8526 - val_binary_crossentropy: 0.3371\n",
      "Epoch 178/200\n",
      "337179/337179 [==============================] - 106s 313us/sample - loss: 0.2956 - acc: 0.8711 - binary_crossentropy: 0.2956 - val_loss: 0.3422 - val_acc: 0.8510 - val_binary_crossentropy: 0.3422\n",
      "Epoch 179/200\n",
      "337179/337179 [==============================] - 105s 312us/sample - loss: 0.2947 - acc: 0.8712 - binary_crossentropy: 0.2947 - val_loss: 0.3384 - val_acc: 0.8509 - val_binary_crossentropy: 0.3384\n",
      "Epoch 180/200\n",
      "337179/337179 [==============================] - 106s 314us/sample - loss: 0.2955 - acc: 0.8714 - binary_crossentropy: 0.2955 - val_loss: 0.3363 - val_acc: 0.8511 - val_binary_crossentropy: 0.3363\n",
      "Epoch 181/200\n",
      "337179/337179 [==============================] - 105s 311us/sample - loss: 0.2954 - acc: 0.8711 - binary_crossentropy: 0.2954 - val_loss: 0.3409 - val_acc: 0.8507 - val_binary_crossentropy: 0.3409\n",
      "Epoch 182/200\n",
      "337179/337179 [==============================] - 75s 223us/sample - loss: 0.2944 - acc: 0.8711 - binary_crossentropy: 0.2944 - val_loss: 0.3378 - val_acc: 0.8516 - val_binary_crossentropy: 0.3378\n",
      "Epoch 183/200\n",
      "337179/337179 [==============================] - 69s 204us/sample - loss: 0.2946 - acc: 0.8718 - binary_crossentropy: 0.2946 - val_loss: 0.3375 - val_acc: 0.8532 - val_binary_crossentropy: 0.3375\n",
      "Epoch 184/200\n",
      "337179/337179 [==============================] - 69s 205us/sample - loss: 0.2955 - acc: 0.8712 - binary_crossentropy: 0.2955 - val_loss: 0.3407 - val_acc: 0.8494 - val_binary_crossentropy: 0.3407\n",
      "Epoch 185/200\n",
      "337179/337179 [==============================] - 68s 203us/sample - loss: 0.2946 - acc: 0.8717 - binary_crossentropy: 0.2946 - val_loss: 0.3486 - val_acc: 0.8497 - val_binary_crossentropy: 0.3486\n",
      "Epoch 186/200\n",
      "337179/337179 [==============================] - 69s 203us/sample - loss: 0.2945 - acc: 0.8715 - binary_crossentropy: 0.2945 - val_loss: 0.3373 - val_acc: 0.8516 - val_binary_crossentropy: 0.3373\n",
      "Epoch 187/200\n",
      "337179/337179 [==============================] - 69s 205us/sample - loss: 0.2948 - acc: 0.8714 - binary_crossentropy: 0.2948 - val_loss: 0.3481 - val_acc: 0.8488 - val_binary_crossentropy: 0.3481\n",
      "Epoch 188/200\n",
      "337179/337179 [==============================] - 69s 204us/sample - loss: 0.2947 - acc: 0.8714 - binary_crossentropy: 0.2947 - val_loss: 0.3357 - val_acc: 0.8512 - val_binary_crossentropy: 0.3357\n",
      "Epoch 189/200\n",
      "337179/337179 [==============================] - 68s 201us/sample - loss: 0.2955 - acc: 0.8713 - binary_crossentropy: 0.2955 - val_loss: 0.3362 - val_acc: 0.8523 - val_binary_crossentropy: 0.3362\n",
      "Epoch 190/200\n",
      "337179/337179 [==============================] - 69s 204us/sample - loss: 0.2947 - acc: 0.8714 - binary_crossentropy: 0.2947 - val_loss: 0.3414 - val_acc: 0.8503 - val_binary_crossentropy: 0.3414\n",
      "Epoch 191/200\n",
      "337179/337179 [==============================] - 68s 202us/sample - loss: 0.2949 - acc: 0.8714 - binary_crossentropy: 0.2949 - val_loss: 0.3385 - val_acc: 0.8512 - val_binary_crossentropy: 0.3385\n",
      "Epoch 192/200\n",
      "337179/337179 [==============================] - 68s 202us/sample - loss: 0.2942 - acc: 0.8718 - binary_crossentropy: 0.2942 - val_loss: 0.3443 - val_acc: 0.8494 - val_binary_crossentropy: 0.3443\n",
      "Epoch 193/200\n",
      "337179/337179 [==============================] - 69s 205us/sample - loss: 0.2943 - acc: 0.8718 - binary_crossentropy: 0.2943 - val_loss: 0.3470 - val_acc: 0.8503 - val_binary_crossentropy: 0.3470\n",
      "Epoch 194/200\n",
      "337179/337179 [==============================] - 69s 204us/sample - loss: 0.2943 - acc: 0.8716 - binary_crossentropy: 0.2943 - val_loss: 0.3425 - val_acc: 0.8504 - val_binary_crossentropy: 0.3425\n",
      "Epoch 195/200\n",
      "337179/337179 [==============================] - 69s 206us/sample - loss: 0.2945 - acc: 0.8716 - binary_crossentropy: 0.2945 - val_loss: 0.3500 - val_acc: 0.8463 - val_binary_crossentropy: 0.3500\n"
     ]
    },
    {
     "name": "stdout",
     "output_type": "stream",
     "text": [
      "Epoch 196/200\n",
      "337179/337179 [==============================] - 70s 207us/sample - loss: 0.2944 - acc: 0.8714 - binary_crossentropy: 0.2944 - val_loss: 0.3512 - val_acc: 0.8461 - val_binary_crossentropy: 0.3512\n",
      "Epoch 197/200\n",
      "337179/337179 [==============================] - 69s 205us/sample - loss: 0.2941 - acc: 0.8717 - binary_crossentropy: 0.2941 - val_loss: 0.3523 - val_acc: 0.8472 - val_binary_crossentropy: 0.3523\n",
      "Epoch 198/200\n",
      "337179/337179 [==============================] - 69s 205us/sample - loss: 0.2938 - acc: 0.8719 - binary_crossentropy: 0.2938 - val_loss: 0.3529 - val_acc: 0.8482 - val_binary_crossentropy: 0.3529\n",
      "Epoch 199/200\n",
      "337179/337179 [==============================] - 69s 204us/sample - loss: 0.2943 - acc: 0.8714 - binary_crossentropy: 0.2943 - val_loss: 0.3511 - val_acc: 0.8463 - val_binary_crossentropy: 0.3511\n",
      "Epoch 200/200\n",
      "337179/337179 [==============================] - 69s 204us/sample - loss: 0.2941 - acc: 0.8719 - binary_crossentropy: 0.2941 - val_loss: 0.3463 - val_acc: 0.8482 - val_binary_crossentropy: 0.3463\n"
     ]
    },
    {
     "data": {
      "image/png": "[encoded data removed]",
      "text/plain": [
       "<Figure size 1152x144 with 2 Axes>"
      ]
     },
     "metadata": {
      "needs_background": "light"
     },
     "output_type": "display_data"
    }
   ],
   "source": [
    "history_github = model_2_1D.fit(X_train81, y_train81, epochs=200, \n",
    "                    batch_size=100,\n",
    "                    validation_data=(X_val81, y_val81))\n",
    "\n",
    "plt.figure(figsize=(16,2))\n",
    "plt.subplot(1,2,1)\n",
    "plot_graphs(history_github, 'acc')\n",
    "plt.subplot(1,2,2)\n",
    "plot_graphs(history_github, 'loss')"
   ]
  },
  {
   "cell_type": "markdown",
   "metadata": {},
   "source": [
    "# 3. test"
   ]
  },
  {
   "cell_type": "code",
   "execution_count": 9,
   "metadata": {
    "ExecuteTime": {
     "end_time": "2021-10-21T19:27:32.337689Z",
     "start_time": "2021-10-21T19:27:32.299811Z"
    }
   },
   "outputs": [],
   "source": [
    "from sklearn.metrics import classification_report\n",
    "from sklearn.metrics import confusion_matrix\n",
    "from sklearn.metrics import roc_curve\n",
    "from sklearn.metrics import roc_auc_score\n",
    "import seaborn as sns"
   ]
  },
  {
   "cell_type": "code",
   "execution_count": 10,
   "metadata": {
    "ExecuteTime": {
     "end_time": "2021-10-21T19:28:18.228794Z",
     "start_time": "2021-10-21T19:27:32.339333Z"
    }
   },
   "outputs": [
    {
     "name": "stdout",
     "output_type": "stream",
     "text": [
      "129204/129204 [==============================] - 15s 119us/sample - loss: 2.6286 - acc: 0.2399 - binary_crossentropy: 2.6286\n",
      "Test Accuracy: [2.628602079428267, 0.23992291, 2.6286042]\n",
      "              precision    recall  f1-score   support\n",
      "\n",
      "           0       0.22      0.20      0.21     64602\n",
      "           1       0.26      0.28      0.27     64602\n",
      "\n",
      "    accuracy                           0.24    129204\n",
      "   macro avg       0.24      0.24      0.24    129204\n",
      "weighted avg       0.24      0.24      0.24    129204\n",
      "\n",
      "rf auc : 0.16910318525062987\n"
     ]
    },
    {
     "data": {
      "image/png": "[encoded data removed]",
      "text/plain": [
       "<Figure size 288x288 with 1 Axes>"
      ]
     },
     "metadata": {
      "needs_background": "light"
     },
     "output_type": "display_data"
    },
    {
     "data": {
      "image/png": "[encoded data removed]",
      "text/plain": [
       "<Figure size 216x216 with 2 Axes>"
      ]
     },
     "metadata": {
      "needs_background": "light"
     },
     "output_type": "display_data"
    },
    {
     "data": {
      "image/png": "[encoded data removed]",
      "text/plain": [
       "<Figure size 216x216 with 2 Axes>"
      ]
     },
     "metadata": {
      "needs_background": "light"
     },
     "output_type": "display_data"
    }
   ],
   "source": [
    "test_acc = model_2_1D.evaluate(X_test81, y_test81)\n",
    "print('Test Accuracy: {}'.format(test_acc))\n",
    "\n",
    "# prediction\n",
    "y_pred = [1 if i>=0.5 else 0 for i in model_2_1D.predict(X_test81)]\n",
    "print(classification_report(y_test81, y_pred))\n",
    "# AUC\n",
    "probs = model_2_1D.predict(X_test81)\n",
    "rf_auc = roc_auc_score(y_test81, probs)\n",
    "print('rf auc : {}'.format(rf_auc))\n",
    "# plot the roc curve for the model\n",
    "rf_fpr, rf_tpr, _ = roc_curve(y_test81, probs)\n",
    "plt.figure(figsize=(4, 4))\n",
    "plt.plot(rf_fpr, rf_tpr, marker='.', label='RF AUC = {:.4f}'.format(rf_auc), color='orange')\n",
    "plt.title('ROC curve')\n",
    "# axis labels\n",
    "plt.xlabel('False Positive Rate')\n",
    "plt.ylabel('True Positive Rate')\n",
    "# show the legend\n",
    "plt.legend()\n",
    "# show the plot\n",
    "plt.show()\n",
    "\n",
    "cf_matrix = confusion_matrix(y_test81, y_pred)\n",
    "plt.figure(figsize=(3, 3))\n",
    "sns.heatmap(cf_matrix, annot=True, fmt=',.0f')\n",
    "plt.show()\n",
    "plt.figure(figsize=(3, 3))\n",
    "sns.heatmap(cf_matrix/np.sum(cf_matrix), annot=True, \n",
    "            fmt='.2%', cmap='Blues')\n",
    "plt.show()"
   ]
  },
  {
   "cell_type": "code",
   "execution_count": 42,
   "metadata": {
    "ExecuteTime": {
     "end_time": "2021-10-21T19:41:28.772222Z",
     "start_time": "2021-10-21T19:41:28.761066Z"
    }
   },
   "outputs": [],
   "source": [
    "model_2_1D.get_layer(index=0).set_weights(\n",
    "    [tf.keras.initializers.glorot_uniform(seed=7)(shape=(23,50)).numpy()])\n",
    "model_2_1D.get_layer(index=1).set_weights([])\n",
    "model_2_1D.get_layer(index=2).set_weights(\n",
    "    [tf.keras.initializers.glorot_uniform(seed=7)(shape=(3,50,128)).numpy(),\n",
    "     np.zeros(128,)])\n",
    "model_2_1D.get_layer(index=3).set_weights(\n",
    "    [tf.keras.initializers.glorot_uniform(seed=7)(shape=(2,128,64)).numpy(),\n",
    "    np.zeros(64,)])\n",
    "model_2_1D.get_layer(index=4).set_weights([])\n",
    "model_2_1D.get_layer(index=5).set_weights(\n",
    "    [tf.keras.initializers.glorot_uniform(seed=7)(shape=(64,64)).numpy(),\n",
    "    np.zeros(64,)])\n",
    "model_2_1D.get_layer(index=6).set_weights([])\n",
    "model_2_1D.get_layer(index=7).set_weights([])\n",
    "model_2_1D.get_layer(index=8).set_weights(\n",
    "    [tf.keras.initializers.glorot_uniform(seed=7)(shape=(64,1)).numpy(),\n",
    "    np.zeros(1,)])\n",
    "model_2_1D.get_layer(index=9).set_weights([])"
   ]
  },
  {
   "cell_type": "code",
   "execution_count": 43,
   "metadata": {
    "ExecuteTime": {
     "end_time": "2021-10-21T19:42:17.969401Z",
     "start_time": "2021-10-21T19:41:32.969180Z"
    }
   },
   "outputs": [
    {
     "name": "stdout",
     "output_type": "stream",
     "text": [
      "129204/129204 [==============================] - 15s 115us/sample - loss: 0.6994 - acc: 0.5000 - binary_crossentropy: 0.6994\n",
      "Test Accuracy: [0.6994260144393875, 0.5, 0.6994263]\n"
     ]
    },
    {
     "name": "stderr",
     "output_type": "stream",
     "text": [
      "/home/bis/miniconda3/envs/TF1.14/lib/python3.6/site-packages/sklearn/metrics/_classification.py:1248: UndefinedMetricWarning: Precision and F-score are ill-defined and being set to 0.0 in labels with no predicted samples. Use `zero_division` parameter to control this behavior.\n",
      "  _warn_prf(average, modifier, msg_start, len(result))\n",
      "/home/bis/miniconda3/envs/TF1.14/lib/python3.6/site-packages/sklearn/metrics/_classification.py:1248: UndefinedMetricWarning: Precision and F-score are ill-defined and being set to 0.0 in labels with no predicted samples. Use `zero_division` parameter to control this behavior.\n",
      "  _warn_prf(average, modifier, msg_start, len(result))\n",
      "/home/bis/miniconda3/envs/TF1.14/lib/python3.6/site-packages/sklearn/metrics/_classification.py:1248: UndefinedMetricWarning: Precision and F-score are ill-defined and being set to 0.0 in labels with no predicted samples. Use `zero_division` parameter to control this behavior.\n",
      "  _warn_prf(average, modifier, msg_start, len(result))\n"
     ]
    },
    {
     "name": "stdout",
     "output_type": "stream",
     "text": [
      "              precision    recall  f1-score   support\n",
      "\n",
      "           0       0.00      0.00      0.00     64602\n",
      "           1       0.50      1.00      0.67     64602\n",
      "\n",
      "    accuracy                           0.50    129204\n",
      "   macro avg       0.25      0.50      0.33    129204\n",
      "weighted avg       0.25      0.50      0.33    129204\n",
      "\n",
      "rf auc : 0.5097515657574601\n"
     ]
    },
    {
     "data": {
      "image/png": "[encoded data removed]",
      "text/plain": [
       "<Figure size 288x288 with 1 Axes>"
      ]
     },
     "metadata": {
      "needs_background": "light"
     },
     "output_type": "display_data"
    },
    {
     "data": {
      "image/png": "[encoded data removed]",
      "text/plain": [
       "<Figure size 216x216 with 2 Axes>"
      ]
     },
     "metadata": {
      "needs_background": "light"
     },
     "output_type": "display_data"
    },
    {
     "data": {
      "image/png": "[encoded data removed]",
      "text/plain": [
       "<Figure size 216x216 with 2 Axes>"
      ]
     },
     "metadata": {
      "needs_background": "light"
     },
     "output_type": "display_data"
    }
   ],
   "source": [
    "test_acc = model_2_1D.evaluate(X_test81, y_test81)\n",
    "print('Test Accuracy: {}'.format(test_acc))\n",
    "\n",
    "# prediction\n",
    "y_pred = [1 if i>=0.5 else 0 for i in model_2_1D.predict(X_test81)]\n",
    "print(classification_report(y_test81, y_pred))\n",
    "# AUC\n",
    "probs = model_2_1D.predict(X_test81)\n",
    "rf_auc = roc_auc_score(y_test81, probs)\n",
    "print('rf auc : {}'.format(rf_auc))\n",
    "# plot the roc curve for the model\n",
    "rf_fpr, rf_tpr, _ = roc_curve(y_test81, probs)\n",
    "plt.figure(figsize=(4, 4))\n",
    "plt.plot(rf_fpr, rf_tpr, marker='.', label='RF AUC = {:.4f}'.format(rf_auc), color='orange')\n",
    "plt.title('ROC curve')\n",
    "# axis labels\n",
    "plt.xlabel('False Positive Rate')\n",
    "plt.ylabel('True Positive Rate')\n",
    "# show the legend\n",
    "plt.legend()\n",
    "# show the plot\n",
    "plt.show()\n",
    "\n",
    "cf_matrix = confusion_matrix(y_test81, y_pred)\n",
    "plt.figure(figsize=(3, 3))\n",
    "sns.heatmap(cf_matrix, annot=True, fmt=',.0f')\n",
    "plt.show()\n",
    "plt.figure(figsize=(3, 3))\n",
    "sns.heatmap(cf_matrix/np.sum(cf_matrix), annot=True, \n",
    "            fmt='.2%', cmap='Blues')\n",
    "plt.show()"
   ]
  },
  {
   "cell_type": "markdown",
   "metadata": {},
   "source": [
    "# DeepMSpeptide의 파라메터 초기화가필요하다."
   ]
  },
  {
   "cell_type": "code",
   "execution_count": null,
   "metadata": {},
   "outputs": [],
   "source": []
  }
 ],
 "metadata": {
  "kernelspec": {
   "display_name": "TF1.14",
   "language": "python",
   "name": "tf1.14"
  },
  "language_info": {
   "codemirror_mode": {
    "name": "ipython",
    "version": 3
   },
   "file_extension": ".py",
   "mimetype": "text/x-python",
   "name": "python",
   "nbconvert_exporter": "python",
   "pygments_lexer": "ipython3",
   "version": "3.6.13"
  }
 },
 "nbformat": 4,
 "nbformat_minor": 4
}
