{
 "cells": [
  {
   "cell_type": "code",
   "execution_count": 13,
   "metadata": {
    "ExecuteTime": {
     "end_time": "2021-08-28T16:07:19.228627Z",
     "start_time": "2021-08-28T16:07:19.016468Z"
    }
   },
   "outputs": [],
   "source": [
    "import pandas as pd\n",
    "import numpy as np\n",
    "import matplotlib.pyplot as plt"
   ]
  },
  {
   "cell_type": "code",
   "execution_count": 7,
   "metadata": {
    "ExecuteTime": {
     "end_time": "2021-08-28T16:05:42.298478Z",
     "start_time": "2021-08-28T16:05:41.699532Z"
    }
   },
   "outputs": [],
   "source": [
    "tmp = open('data/uniprot/uniprot-proteome_UP000005640.fasta', 'r')\n",
    "uni_lines = tmp.readlines()\n",
    "tmp.close()\n",
    "\n",
    "uni_dic = {'PROTEIN_FULL':[], 'SEQUENCE':[]}\n",
    "tmp = ''  # initialize\n",
    "for idx, line in enumerate(uni_lines):\n",
    "    l = line.replace('\\n', '')\n",
    "    if '>' in l:\n",
    "        if idx!=0:\n",
    "            uni_dic['SEQUENCE'].append(tmp)\n",
    "        uni_dic['PROTEIN_FULL'].append(l)\n",
    "        tmp = ''  # initialize\n",
    "    else:\n",
    "        tmp += l\n",
    "\n",
    "    if idx + 1 == len(uni_lines):  # end line of db\n",
    "        uni_dic['SEQUENCE'].append(tmp)\n",
    "\n",
    "df_uni = pd.DataFrame(uni_dic)\n",
    "\n",
    "df_uni['PROTEIN'] = [i.replace('>', '').split(' ')[0] for i in df_uni.PROTEIN_FULL.values]\n",
    "df_uni = df_uni[['PROTEIN', 'SEQUENCE', 'PROTEIN_FULL']]"
   ]
  },
  {
   "cell_type": "code",
   "execution_count": 9,
   "metadata": {
    "ExecuteTime": {
     "end_time": "2021-08-28T16:05:52.174106Z",
     "start_time": "2021-08-28T16:05:52.166354Z"
    }
   },
   "outputs": [
    {
     "name": "stdout",
     "output_type": "stream",
     "text": [
      "(75074, 3)\n"
     ]
    },
    {
     "data": {
      "text/html": [
       "<div>\n",
       "<style scoped>\n",
       "    .dataframe tbody tr th:only-of-type {\n",
       "        vertical-align: middle;\n",
       "    }\n",
       "\n",
       "    .dataframe tbody tr th {\n",
       "        vertical-align: top;\n",
       "    }\n",
       "\n",
       "    .dataframe thead th {\n",
       "        text-align: right;\n",
       "    }\n",
       "</style>\n",
       "<table border=\"1\" class=\"dataframe\">\n",
       "  <thead>\n",
       "    <tr style=\"text-align: right;\">\n",
       "      <th></th>\n",
       "      <th>PROTEIN</th>\n",
       "      <th>SEQUENCE</th>\n",
       "      <th>PROTEIN_FULL</th>\n",
       "    </tr>\n",
       "  </thead>\n",
       "  <tbody>\n",
       "    <tr>\n",
       "      <th>0</th>\n",
       "      <td>sp|Q9H553|ALG2_HUMAN</td>\n",
       "      <td>MAEEQGRERDSVPKPSVLFLHPDLGVGGAERLVLDAALALQARGCS...</td>\n",
       "      <td>&gt;sp|Q9H553|ALG2_HUMAN Alpha-1,3/1,6-mannosyltr...</td>\n",
       "    </tr>\n",
       "    <tr>\n",
       "      <th>1</th>\n",
       "      <td>sp|Q96QF7|ACRC_HUMAN</td>\n",
       "      <td>MDGCKKELPRLQEPEEDEDCYILNVQSSSDDTSGSSVARRAPKRQA...</td>\n",
       "      <td>&gt;sp|Q96QF7|ACRC_HUMAN Acidic repeat-containing...</td>\n",
       "    </tr>\n",
       "  </tbody>\n",
       "</table>\n",
       "</div>"
      ],
      "text/plain": [
       "                PROTEIN                                           SEQUENCE  \\\n",
       "0  sp|Q9H553|ALG2_HUMAN  MAEEQGRERDSVPKPSVLFLHPDLGVGGAERLVLDAALALQARGCS...   \n",
       "1  sp|Q96QF7|ACRC_HUMAN  MDGCKKELPRLQEPEEDEDCYILNVQSSSDDTSGSSVARRAPKRQA...   \n",
       "\n",
       "                                        PROTEIN_FULL  \n",
       "0  >sp|Q9H553|ALG2_HUMAN Alpha-1,3/1,6-mannosyltr...  \n",
       "1  >sp|Q96QF7|ACRC_HUMAN Acidic repeat-containing...  "
      ]
     },
     "execution_count": 9,
     "metadata": {},
     "output_type": "execute_result"
    }
   ],
   "source": [
    "print(df_uni.shape)\n",
    "df_uni.head(2)"
   ]
  },
  {
   "cell_type": "markdown",
   "metadata": {},
   "source": [
    "# EDA"
   ]
  },
  {
   "cell_type": "code",
   "execution_count": 14,
   "metadata": {
    "ExecuteTime": {
     "end_time": "2021-08-28T16:07:25.287161Z",
     "start_time": "2021-08-28T16:07:21.113306Z"
    }
   },
   "outputs": [
    {
     "data": {
      "image/png": "[encoded data removed]",
      "text/plain": [
       "<Figure size 720x72 with 1 Axes>"
      ]
     },
     "metadata": {
      "needs_background": "light"
     },
     "output_type": "display_data"
    }
   ],
   "source": [
    "length_viz = {len(i):[] for i in df_uni.SEQUENCE.values}\n",
    "for i in df_uni.SEQUENCE.values:\n",
    "    length_viz[len(i)].append(i)\n",
    "\n",
    "length_viz = {k:len(v) for k, v in length_viz.items()}\n",
    "tmp = np.array(sorted(list(filter(lambda x: x[1]>=1, length_viz.items())), key=lambda x: x[0], reverse=True))\n",
    "x = tmp[:, 0]\n",
    "y = tmp[:, 1]\n",
    "plt.figure(figsize=(10,1))\n",
    "plt.bar(x, y, color='orange')\n",
    "plt.title('sequence length freq')\n",
    "plt.show()"
   ]
  },
  {
   "cell_type": "code",
   "execution_count": 16,
   "metadata": {
    "ExecuteTime": {
     "end_time": "2021-08-28T16:09:09.091599Z",
     "start_time": "2021-08-28T16:09:07.276237Z"
    }
   },
   "outputs": [
    {
     "data": {
      "image/png": "[encoded data removed]",
      "text/plain": [
       "<Figure size 720x72 with 1 Axes>"
      ]
     },
     "metadata": {
      "needs_background": "light"
     },
     "output_type": "display_data"
    }
   ],
   "source": [
    "length_viz = {len(i):[] for i in df_uni.SEQUENCE.values}\n",
    "for i in df_uni.SEQUENCE.values:\n",
    "    length_viz[len(i)].append(i)\n",
    "\n",
    "length_viz = {k:len(v) for k, v in length_viz.items()}\n",
    "tmp = np.array(sorted(list(filter(lambda x: (x[1]>=1) & (x[0]<=1000),\n",
    "                                  length_viz.items())),\n",
    "                      key=lambda x: x[0],\n",
    "                      reverse=True))\n",
    "x = tmp[:, 0]\n",
    "y = tmp[:, 1]\n",
    "plt.figure(figsize=(10,1))\n",
    "plt.bar(x, y, color='orange')\n",
    "plt.title('sequence length freq')\n",
    "plt.show()"
   ]
  },
  {
   "cell_type": "code",
   "execution_count": 17,
   "metadata": {
    "ExecuteTime": {
     "end_time": "2021-08-28T16:09:26.654071Z",
     "start_time": "2021-08-28T16:09:25.817344Z"
    }
   },
   "outputs": [
    {
     "data": {
      "image/png": "[encoded data removed]",
      "text/plain": [
       "<Figure size 720x72 with 1 Axes>"
      ]
     },
     "metadata": {
      "needs_background": "light"
     },
     "output_type": "display_data"
    }
   ],
   "source": [
    "length_viz = {len(i):[] for i in df_uni.SEQUENCE.values}\n",
    "for i in df_uni.SEQUENCE.values:\n",
    "    length_viz[len(i)].append(i)\n",
    "\n",
    "length_viz = {k:len(v) for k, v in length_viz.items()}\n",
    "tmp = np.array(sorted(list(filter(lambda x: (x[1]>=1) & (x[0]<=400),\n",
    "                                  length_viz.items())),\n",
    "                      key=lambda x: x[0],\n",
    "                      reverse=True))\n",
    "x = tmp[:, 0]\n",
    "y = tmp[:, 1]\n",
    "plt.figure(figsize=(10,1))\n",
    "plt.bar(x, y, color='orange')\n",
    "plt.title('sequence length freq')\n",
    "plt.show()"
   ]
  },
  {
   "cell_type": "markdown",
   "metadata": {
    "ExecuteTime": {
     "end_time": "2021-08-28T16:10:42.379481Z",
     "start_time": "2021-08-28T16:10:42.114527Z"
    }
   },
   "source": [
    "- SEQUENCE 같고 PROTEIN이 다를 수 있음"
   ]
  },
  {
   "cell_type": "code",
   "execution_count": 28,
   "metadata": {
    "ExecuteTime": {
     "end_time": "2021-08-28T17:00:28.090903Z",
     "start_time": "2021-08-28T17:00:27.899558Z"
    }
   },
   "outputs": [
    {
     "name": "stdout",
     "output_type": "stream",
     "text": [
      "duplicated sequence cnt : 124\n"
     ]
    },
    {
     "data": {
      "text/html": [
       "<div>\n",
       "<style scoped>\n",
       "    .dataframe tbody tr th:only-of-type {\n",
       "        vertical-align: middle;\n",
       "    }\n",
       "\n",
       "    .dataframe tbody tr th {\n",
       "        vertical-align: top;\n",
       "    }\n",
       "\n",
       "    .dataframe thead th {\n",
       "        text-align: right;\n",
       "    }\n",
       "</style>\n",
       "<table border=\"1\" class=\"dataframe\">\n",
       "  <thead>\n",
       "    <tr style=\"text-align: right;\">\n",
       "      <th></th>\n",
       "      <th>PROTEIN</th>\n",
       "      <th>SEQUENCE</th>\n",
       "    </tr>\n",
       "  </thead>\n",
       "  <tbody>\n",
       "    <tr>\n",
       "      <th>85</th>\n",
       "      <td>tr|A0A140T8X3|A0A140T8X3_HUMAN;tr|A0A140T990|A...</td>\n",
       "      <td>DFGYCPRVYCENQPMLPIGVLVMVGFTVGKVPVPDIRTCHFCLVED...</td>\n",
       "    </tr>\n",
       "    <tr>\n",
       "      <th>67</th>\n",
       "      <td>tr|H0Y6P8|H0Y6P8_HUMAN;tr|A0A140T9C1|A0A140T9C...</td>\n",
       "      <td>DFGYCPRVYCENQPMLPIGVLVMVGFTVGKVPVPDIRTCHFCLVED...</td>\n",
       "    </tr>\n",
       "    <tr>\n",
       "      <th>88</th>\n",
       "      <td>tr|A0A140T9P3|A0A140T9P3_HUMAN;tr|A0A140T9T9|A...</td>\n",
       "      <td>FPFAPPGAAAEPHSLRYNLTVLSWDGSVQSGFLAEVHLDGQPFLRY...</td>\n",
       "    </tr>\n",
       "    <tr>\n",
       "      <th>123</th>\n",
       "      <td>tr|A0A0J9YXZ3|A0A0J9YXZ3_HUMAN;tr|H0Y7F9|H0Y7F...</td>\n",
       "      <td>GGSAVPSECLDAMEEPDHGALLLLPGRPHPHGQSVITVIGGEEHFE...</td>\n",
       "    </tr>\n",
       "    <tr>\n",
       "      <th>80</th>\n",
       "      <td>tr|H0YIL3|H0YIL3_HUMAN;tr|H0YIQ5|H0YIQ5_HUMAN;...</td>\n",
       "      <td>HVIIAFPTSYKVVITLWIVYLWVSLLKTIFWSRNGHDGSTDVQQRA...</td>\n",
       "    </tr>\n",
       "  </tbody>\n",
       "</table>\n",
       "</div>"
      ],
      "text/plain": [
       "                                               PROTEIN  \\\n",
       "85   tr|A0A140T8X3|A0A140T8X3_HUMAN;tr|A0A140T990|A...   \n",
       "67   tr|H0Y6P8|H0Y6P8_HUMAN;tr|A0A140T9C1|A0A140T9C...   \n",
       "88   tr|A0A140T9P3|A0A140T9P3_HUMAN;tr|A0A140T9T9|A...   \n",
       "123  tr|A0A0J9YXZ3|A0A0J9YXZ3_HUMAN;tr|H0Y7F9|H0Y7F...   \n",
       "80   tr|H0YIL3|H0YIL3_HUMAN;tr|H0YIQ5|H0YIQ5_HUMAN;...   \n",
       "\n",
       "                                              SEQUENCE  \n",
       "85   DFGYCPRVYCENQPMLPIGVLVMVGFTVGKVPVPDIRTCHFCLVED...  \n",
       "67   DFGYCPRVYCENQPMLPIGVLVMVGFTVGKVPVPDIRTCHFCLVED...  \n",
       "88   FPFAPPGAAAEPHSLRYNLTVLSWDGSVQSGFLAEVHLDGQPFLRY...  \n",
       "123  GGSAVPSECLDAMEEPDHGALLLLPGRPHPHGQSVITVIGGEEHFE...  \n",
       "80   HVIIAFPTSYKVVITLWIVYLWVSLLKTIFWSRNGHDGSTDVQQRA...  "
      ]
     },
     "execution_count": 28,
     "metadata": {},
     "output_type": "execute_result"
    }
   ],
   "source": [
    "dupli_dic = dict()\n",
    "for s, p in df_uni[['SEQUENCE', 'PROTEIN']].values:\n",
    "    if s not in dupli_dic:\n",
    "        dupli_dic[s] = []\n",
    "    dupli_dic[s].append(p)\n",
    "dupli_dic = {s:p for s, p in list(filter(lambda x: len(x[1]) > 1, dupli_dic.items()))}\n",
    "\n",
    "df_dupli_dic = pd.DataFrame([[';'.join(p), s] for s, p in dupli_dic.items()],\n",
    "                             columns=['PROTEIN', 'SEQUENCE'])\n",
    "print('duplicated sequence cnt : {:,}'.format(df_dupli_dic.shape[0]))\n",
    "df_dupli_dic.sort_values('SEQUENCE').head()  # 한 SEQUENCE에 여러 PROTEIN을 ; 로 표시"
   ]
  },
  {
   "cell_type": "markdown",
   "metadata": {},
   "source": [
    "# save"
   ]
  },
  {
   "cell_type": "code",
   "execution_count": null,
   "metadata": {
    "ExecuteTime": {
     "start_time": "2021-08-28T17:02:05.762Z"
    }
   },
   "outputs": [],
   "source": [
    "df_uni.to_csv('data/uniprot/df_uni.csv', index=False)"
   ]
  },
  {
   "cell_type": "code",
   "execution_count": null,
   "metadata": {},
   "outputs": [],
   "source": []
  }
 ],
 "metadata": {
  "kernelspec": {
   "display_name": "TF2.0",
   "language": "python",
   "name": "bis"
  },
  "language_info": {
   "codemirror_mode": {
    "name": "ipython",
    "version": 3
   },
   "file_extension": ".py",
   "mimetype": "text/x-python",
   "name": "python",
   "nbconvert_exporter": "python",
   "pygments_lexer": "ipython3",
   "version": "3.6.12"
  }
 },
 "nbformat": 4,
 "nbformat_minor": 4
}
