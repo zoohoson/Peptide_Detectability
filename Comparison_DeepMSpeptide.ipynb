{
 "cells": [
  {
   "cell_type": "code",
   "execution_count": 4,
   "id": "67ac578d",
   "metadata": {
    "ExecuteTime": {
     "end_time": "2022-05-30T15:25:42.237589Z",
     "start_time": "2022-05-30T15:25:42.230361Z"
    }
   },
   "outputs": [],
   "source": [
    "import warnings\n",
    "warnings.simplefilter(action='ignore', category=FutureWarning)\n",
    "import numpy as np\n",
    "import tensorflow as tf\n",
    "from tensorflow import keras\n",
    "import pandas as pd\n",
    "import matplotlib.pyplot as plt"
   ]
  },
  {
   "cell_type": "code",
   "execution_count": 5,
   "id": "bc31c464",
   "metadata": {
    "ExecuteTime": {
     "end_time": "2022-05-30T15:25:42.977612Z",
     "start_time": "2022-05-30T15:25:42.975025Z"
    }
   },
   "outputs": [],
   "source": [
    "from sklearn.metrics import roc_curve\n",
    "from sklearn.metrics import roc_auc_score\n",
    "from sklearn.metrics import classification_report\n",
    "from sklearn.metrics import confusion_matrix\n",
    "import seaborn as sns"
   ]
  },
  {
   "cell_type": "code",
   "execution_count": 6,
   "id": "3cb28c99",
   "metadata": {
    "ExecuteTime": {
     "end_time": "2022-05-30T15:25:43.427516Z",
     "start_time": "2022-05-30T15:25:43.421967Z"
    }
   },
   "outputs": [],
   "source": [
    "def load_pep_and_codify(file, max_len):\n",
    "    aa_dict={'A':1,'R':2,'N':3,'D':4,'C':5,'Q':6,'E':7,'G':8,'H':9,'I':10,'L':11,'K':12,'M':13,'F':14,\n",
    "        'P':15,'O':16,'S':17,'U':18,'T':19,'W':20,'Y':21,'V':22}\n",
    "##############################################\n",
    "# original code\n",
    "#     with open(file, 'r') as inf:\n",
    "#         lines = inf.read().splitlines()\n",
    "##############################################\n",
    "    lines = file\n",
    "    pep_codes=[]\n",
    "    long_pep_counter = 0\n",
    "    newLines = []\n",
    "    for pep in lines:\n",
    "        if not len(pep) > max_len:\n",
    "            current_pep=[]\n",
    "            for aa in pep:\n",
    "                current_pep.append(aa_dict[aa])\n",
    "            pep_codes.append(current_pep)\n",
    "            newLines.extend([pep])\n",
    "        else:\n",
    "            long_pep_counter += 1\n",
    "    predict_data = keras.preprocessing.sequence.pad_sequences(pep_codes, value=0, padding='post', maxlen=max_len)\n",
    "    return predict_data, long_pep_counter, newLines"
   ]
  },
  {
   "cell_type": "code",
   "execution_count": 7,
   "id": "cee90eb8",
   "metadata": {
    "ExecuteTime": {
     "end_time": "2022-05-30T15:25:47.691706Z",
     "start_time": "2022-05-30T15:25:46.834600Z"
    },
    "scrolled": true
   },
   "outputs": [
    {
     "name": "stdout",
     "output_type": "stream",
     "text": [
      "Loading model...\n",
      "WARNING:tensorflow:From /home/bis/miniconda3/envs/TF1.14/lib/python3.6/site-packages/tensorflow/python/keras/initializers.py:119: calling RandomUniform.__init__ (from tensorflow.python.ops.init_ops) with dtype is deprecated and will be removed in a future version.\n",
      "Instructions for updating:\n",
      "Call initializer instance with the dtype argument instead of passing it to the constructor\n",
      "WARNING:tensorflow:From /home/bis/miniconda3/envs/TF1.14/lib/python3.6/site-packages/tensorflow/python/ops/init_ops.py:97: calling GlorotUniform.__init__ (from tensorflow.python.ops.init_ops) with dtype is deprecated and will be removed in a future version.\n",
      "Instructions for updating:\n",
      "Call initializer instance with the dtype argument instead of passing it to the constructor\n",
      "WARNING:tensorflow:From /home/bis/miniconda3/envs/TF1.14/lib/python3.6/site-packages/tensorflow/python/ops/init_ops.py:1251: calling VarianceScaling.__init__ (from tensorflow.python.ops.init_ops) with dtype is deprecated and will be removed in a future version.\n",
      "Instructions for updating:\n",
      "Call initializer instance with the dtype argument instead of passing it to the constructor\n",
      "WARNING:tensorflow:From /home/bis/miniconda3/envs/TF1.14/lib/python3.6/site-packages/tensorflow/python/ops/init_ops.py:97: calling Zeros.__init__ (from tensorflow.python.ops.init_ops) with dtype is deprecated and will be removed in a future version.\n",
      "Instructions for updating:\n",
      "Call initializer instance with the dtype argument instead of passing it to the constructor\n",
      "WARNING:tensorflow:From /home/bis/miniconda3/envs/TF1.14/lib/python3.6/site-packages/tensorflow/python/ops/nn_impl.py:180: add_dispatch_support.<locals>.wrapper (from tensorflow.python.ops.array_ops) is deprecated and will be removed in a future version.\n",
      "Instructions for updating:\n",
      "Use tf.where in 2.0, which has the same broadcast rule as np.where\n",
      "WARNING:tensorflow:Error in loading the saved optimizer state. As a result, your model is starting with a freshly initialized optimizer.\n"
     ]
    }
   ],
   "source": [
    "print('Loading model...')\n",
    "model_2_1D = keras.models.load_model('Model_original_DeepMSpeptide.h5')"
   ]
  },
  {
   "cell_type": "markdown",
   "id": "f2e38479",
   "metadata": {},
   "source": [
    "# HPP"
   ]
  },
  {
   "cell_type": "code",
   "execution_count": 5,
   "id": "aaed949b",
   "metadata": {
    "ExecuteTime": {
     "end_time": "2022-05-27T16:46:03.790427Z",
     "start_time": "2022-05-27T16:46:03.745443Z"
    }
   },
   "outputs": [],
   "source": [
    "df_hpp = pd.read_csv('data/HPP.csv')"
   ]
  },
  {
   "cell_type": "code",
   "execution_count": 6,
   "id": "41c603c8",
   "metadata": {
    "ExecuteTime": {
     "end_time": "2022-05-27T16:46:09.157871Z",
     "start_time": "2022-05-27T16:46:05.788041Z"
    },
    "scrolled": true
   },
   "outputs": [
    {
     "name": "stdout",
     "output_type": "stream",
     "text": [
      "Loading model...\n",
      "WARNING:tensorflow:From /home/bis/miniconda3/envs/TF1.14/lib/python3.6/site-packages/tensorflow/python/keras/initializers.py:119: calling RandomUniform.__init__ (from tensorflow.python.ops.init_ops) with dtype is deprecated and will be removed in a future version.\n",
      "Instructions for updating:\n",
      "Call initializer instance with the dtype argument instead of passing it to the constructor\n",
      "WARNING:tensorflow:From /home/bis/miniconda3/envs/TF1.14/lib/python3.6/site-packages/tensorflow/python/ops/init_ops.py:97: calling GlorotUniform.__init__ (from tensorflow.python.ops.init_ops) with dtype is deprecated and will be removed in a future version.\n",
      "Instructions for updating:\n",
      "Call initializer instance with the dtype argument instead of passing it to the constructor\n",
      "WARNING:tensorflow:From /home/bis/miniconda3/envs/TF1.14/lib/python3.6/site-packages/tensorflow/python/ops/init_ops.py:1251: calling VarianceScaling.__init__ (from tensorflow.python.ops.init_ops) with dtype is deprecated and will be removed in a future version.\n",
      "Instructions for updating:\n",
      "Call initializer instance with the dtype argument instead of passing it to the constructor\n",
      "WARNING:tensorflow:From /home/bis/miniconda3/envs/TF1.14/lib/python3.6/site-packages/tensorflow/python/ops/init_ops.py:97: calling Zeros.__init__ (from tensorflow.python.ops.init_ops) with dtype is deprecated and will be removed in a future version.\n",
      "Instructions for updating:\n",
      "Call initializer instance with the dtype argument instead of passing it to the constructor\n",
      "WARNING:tensorflow:From /home/bis/miniconda3/envs/TF1.14/lib/python3.6/site-packages/tensorflow/python/ops/nn_impl.py:180: add_dispatch_support.<locals>.wrapper (from tensorflow.python.ops.array_ops) is deprecated and will be removed in a future version.\n",
      "Instructions for updating:\n",
      "Use tf.where in 2.0, which has the same broadcast rule as np.where\n",
      "WARNING:tensorflow:Error in loading the saved optimizer state. As a result, your model is starting with a freshly initialized optimizer.\n",
      "Loading input peptides\n",
      "Succesfully loaded 23273 peptides and skipped 0\n",
      "Making predictions\n"
     ]
    }
   ],
   "source": [
    "print('Loading input peptides')\n",
    "# predict_data, skipped,  lines = load_pep_and_codify(args.infile[0], 81)\n",
    "file = df_hpp.peptide.values\n",
    "predict_data, skipped,  lines = load_pep_and_codify(file, 81)\n",
    "print('Succesfully loaded {0} peptides and skipped {1}'.format(len(lines), str(skipped)))\n",
    "\n",
    "print('Making predictions')\n",
    "model_2_1D_pred = model_2_1D.predict(predict_data)\n",
    "model_2_1D_pred = np.hstack((np.array(lines).reshape(len(lines), 1),model_2_1D_pred)).tolist()"
   ]
  },
  {
   "cell_type": "code",
   "execution_count": 7,
   "id": "05a6ea36",
   "metadata": {
    "ExecuteTime": {
     "end_time": "2022-05-27T16:46:10.883928Z",
     "start_time": "2022-05-27T16:46:10.846570Z"
    }
   },
   "outputs": [],
   "source": [
    "df_hpp = pd.concat([df_hpp, pd.DataFrame(model_2_1D_pred, columns=['peptide', 'probs'])['probs']], axis=1)\n",
    "pe = df_hpp.loc[df_hpp.Class=='PE1'][['peptide', 'probs']].drop_duplicates()\n",
    "dmp = df_hpp.loc[df_hpp.Class=='Detected_MPs'][['peptide', 'probs']].drop_duplicates()\n",
    "mp = df_hpp.loc[df_hpp.Class=='MPs'][['peptide', 'probs']].drop_duplicates()"
   ]
  },
  {
   "cell_type": "code",
   "execution_count": 8,
   "id": "3ffe72e8",
   "metadata": {
    "ExecuteTime": {
     "end_time": "2022-05-27T16:46:13.688597Z",
     "start_time": "2022-05-27T16:46:13.531241Z"
    }
   },
   "outputs": [
    {
     "data": {
      "image/png": "[encoded data removed]",
      "text/plain": [
       "<Figure size 360x216 with 1 Axes>"
      ]
     },
     "metadata": {
      "needs_background": "light"
     },
     "output_type": "display_data"
    }
   ],
   "source": [
    "plt.figure(figsize=(5,3))\n",
    "a = plt.violinplot([list(map(lambda x: 1-x, pe.probs.astype(float))), \n",
    "                    list(map(lambda x: 1-x, dmp.probs.astype(float))), \n",
    "                    list(map(lambda x: 1-x, mp.probs.astype(float)))],\n",
    "               showmeans=True,\n",
    "              )\n",
    "plt.xticks([y + 1 for y in range(len([pe,dmp,mp]))], ['PE1', 'Detected MPs', 'Current MPs'])\n",
    "b = plt.grid(axis='y')\n",
    "plt.show()"
   ]
  },
  {
   "cell_type": "markdown",
   "id": "5d90e8d9",
   "metadata": {},
   "source": [
    "# massIVE-KB"
   ]
  },
  {
   "cell_type": "code",
   "execution_count": 20,
   "id": "934eb915",
   "metadata": {
    "ExecuteTime": {
     "end_time": "2022-05-30T15:30:14.287259Z",
     "start_time": "2022-05-30T15:30:13.918439Z"
    }
   },
   "outputs": [],
   "source": [
    "df_test = pd.read_csv('data/test_diff_hpp.csv')[['peptide', 'label']].drop_duplicates()"
   ]
  },
  {
   "cell_type": "code",
   "execution_count": 9,
   "id": "54405d50",
   "metadata": {
    "ExecuteTime": {
     "end_time": "2022-05-30T15:25:56.991584Z",
     "start_time": "2022-05-30T15:25:55.876789Z"
    }
   },
   "outputs": [
    {
     "name": "stdout",
     "output_type": "stream",
     "text": [
      "Loading model...\n"
     ]
    }
   ],
   "source": [
    "print('Loading model...')\n",
    "model_2_1D_retrained = keras.models.load_model('log/DeepMspeptide.h5')"
   ]
  },
  {
   "cell_type": "code",
   "execution_count": 10,
   "id": "a1b55987",
   "metadata": {
    "ExecuteTime": {
     "end_time": "2022-05-30T15:26:07.010125Z",
     "start_time": "2022-05-30T15:26:05.749279Z"
    }
   },
   "outputs": [
    {
     "name": "stdout",
     "output_type": "stream",
     "text": [
      "Loading input peptides\n",
      "Succesfully loaded 170120 peptides and skipped 0\n"
     ]
    }
   ],
   "source": [
    "print('Loading input peptides')\n",
    "file = df_test.peptide.values\n",
    "X_test, skipped,  lines = load_pep_and_codify(file, 81)\n",
    "y_test = df_test.label.values\n",
    "print('Succesfully loaded {0} peptides and skipped {1}'.format(len(lines), str(skipped)))"
   ]
  },
  {
   "cell_type": "code",
   "execution_count": 11,
   "id": "d2dab42f",
   "metadata": {
    "ExecuteTime": {
     "end_time": "2022-05-30T15:26:54.263858Z",
     "start_time": "2022-05-30T15:26:08.047547Z"
    }
   },
   "outputs": [
    {
     "name": "stdout",
     "output_type": "stream",
     "text": [
      "170120/170120 [==============================] - 24s 140us/sample - loss: 0.4088 - acc: 0.8165 - binary_crossentropy: 0.4088\n"
     ]
    }
   ],
   "source": [
    "probs = model_2_1D_retrained.predict(X_test)\n",
    "y_pred = [1 if i>=0.5 else 0 for i in probs]\n",
    "acc = model_2_1D_retrained.evaluate(X_test, y_test)"
   ]
  },
  {
   "cell_type": "code",
   "execution_count": 20,
   "id": "e032ea29",
   "metadata": {
    "ExecuteTime": {
     "end_time": "2022-05-27T16:49:41.315917Z",
     "start_time": "2022-05-27T16:49:40.143995Z"
    }
   },
   "outputs": [
    {
     "name": "stdout",
     "output_type": "stream",
     "text": [
      "Test Accuracy: [0.40882030606353925, 0.81645894, 0.4088199]\n",
      "Test AUC : 0.8973313748933661\n",
      "              precision    recall  f1-score   support\n",
      "\n",
      "       False     0.8128    0.8285    0.8206     86178\n",
      "        True     0.8203    0.8041    0.8122     83942\n",
      "\n",
      "    accuracy                         0.8165    170120\n",
      "   macro avg     0.8166    0.8163    0.8164    170120\n",
      "weighted avg     0.8165    0.8165    0.8164    170120\n",
      "\n"
     ]
    },
    {
     "data": {
      "image/png": "[encoded data removed]",
      "text/plain": [
       "<Figure size 288x288 with 1 Axes>"
      ]
     },
     "metadata": {
      "needs_background": "light"
     },
     "output_type": "display_data"
    },
    {
     "data": {
      "image/png": "[encoded data removed]",
      "text/plain": [
       "<Figure size 216x216 with 2 Axes>"
      ]
     },
     "metadata": {
      "needs_background": "light"
     },
     "output_type": "display_data"
    }
   ],
   "source": [
    "auc = roc_auc_score(y_test, probs)\n",
    "print('Test Accuracy: {}'.format(acc))\n",
    "print('Test AUC : {}'.format(auc))\n",
    "print(classification_report(y_test, y_pred, digits=4))\n",
    "\n",
    "plt.figure(figsize=(4, 4))\n",
    "fpr, tpr, _ = roc_curve(y_test, probs)\n",
    "plt.plot(fpr, tpr, marker='.', label='AUC = {:.4f}'.format(auc), color='orange')\n",
    "plt.title('ROC curve')\n",
    "plt.xlabel('False Positive Rate')\n",
    "plt.ylabel('True Positive Rate')\n",
    "plt.legend()\n",
    "plt.show()\n",
    "\n",
    "cf_matrix = confusion_matrix(y_test, y_pred)\n",
    "plt.figure(figsize=(3, 3))\n",
    "sns.heatmap(cf_matrix, annot=True, fmt=',.0f')\n",
    "plt.show()"
   ]
  },
  {
   "cell_type": "code",
   "execution_count": 21,
   "id": "a426c5df",
   "metadata": {
    "ExecuteTime": {
     "end_time": "2022-05-27T16:49:51.700000Z",
     "start_time": "2022-05-27T16:49:51.696390Z"
    }
   },
   "outputs": [],
   "source": [
    "np.save('log/result_DeepMSpeptide_fpr.npy', fpr)\n",
    "np.save('log/result_DeepMSpeptide_tpr.npy', tpr)"
   ]
  },
  {
   "cell_type": "markdown",
   "id": "21ba2d89",
   "metadata": {},
   "source": [
    "# Case of Cleavage sites count"
   ]
  },
  {
   "cell_type": "code",
   "execution_count": 25,
   "id": "37ff1b4f",
   "metadata": {
    "ExecuteTime": {
     "end_time": "2022-05-30T15:31:05.865271Z",
     "start_time": "2022-05-30T15:31:04.224888Z"
    },
    "scrolled": false
   },
   "outputs": [
    {
     "name": "stdout",
     "output_type": "stream",
     "text": [
      "Test AUC : 0.8394995454643912\n",
      "              precision    recall  f1-score   support\n",
      "\n",
      "       False     0.7650    0.4848    0.5935     10839\n",
      "        True     0.8744    0.9601    0.9152     40477\n",
      "\n",
      "    accuracy                         0.8597     51316\n",
      "   macro avg     0.8197    0.7225    0.7544     51316\n",
      "weighted avg     0.8513    0.8597    0.8473     51316\n",
      "\n"
     ]
    },
    {
     "data": {
      "image/png": "[encoded data removed]",
      "text/plain": [
       "<Figure size 288x288 with 1 Axes>"
      ]
     },
     "metadata": {
      "needs_background": "light"
     },
     "output_type": "display_data"
    },
    {
     "data": {
      "image/png": "[encoded data removed]",
      "text/plain": [
       "<Figure size 216x216 with 2 Axes>"
      ]
     },
     "metadata": {
      "needs_background": "light"
     },
     "output_type": "display_data"
    },
    {
     "name": "stdout",
     "output_type": "stream",
     "text": [
      "Test AUC : 0.8397433251127155\n",
      "              precision    recall  f1-score   support\n",
      "\n",
      "       False     0.7418    0.7689    0.7551     31792\n",
      "        True     0.7684    0.7413    0.7546     32882\n",
      "\n",
      "    accuracy                         0.7548     64674\n",
      "   macro avg     0.7551    0.7551    0.7548     64674\n",
      "weighted avg     0.7553    0.7548    0.7548     64674\n",
      "\n"
     ]
    },
    {
     "data": {
      "image/png": "[encoded data removed]",
      "text/plain": [
       "<Figure size 288x288 with 1 Axes>"
      ]
     },
     "metadata": {
      "needs_background": "light"
     },
     "output_type": "display_data"
    },
    {
     "data": {
      "image/png": "[encoded data removed]",
      "text/plain": [
       "<Figure size 216x216 with 2 Axes>"
      ]
     },
     "metadata": {
      "needs_background": "light"
     },
     "output_type": "display_data"
    },
    {
     "name": "stdout",
     "output_type": "stream",
     "text": [
      "Test AUC : 0.8597697037204534\n",
      "              precision    recall  f1-score   support\n",
      "\n",
      "       False     0.8684    0.9575    0.9108     43547\n",
      "        True     0.6974    0.4028    0.5107     10583\n",
      "\n",
      "    accuracy                         0.8491     54130\n",
      "   macro avg     0.7829    0.6802    0.7107     54130\n",
      "weighted avg     0.8349    0.8491    0.8325     54130\n",
      "\n"
     ]
    },
    {
     "data": {
      "image/png": "[encoded data removed]",
      "text/plain": [
       "<Figure size 288x288 with 1 Axes>"
      ]
     },
     "metadata": {
      "needs_background": "light"
     },
     "output_type": "display_data"
    },
    {
     "data": {
      "image/png": "[encoded data removed]",
      "text/plain": [
       "<Figure size 216x216 with 2 Axes>"
      ]
     },
     "metadata": {
      "needs_background": "light"
     },
     "output_type": "display_data"
    }
   ],
   "source": [
    "idx = df_test.index\n",
    "df_test = pd.read_csv('data/test_diff_hpp.csv').loc[idx]\n",
    "df_test.reset_index(drop=True, inplace=True)\n",
    "\n",
    "miss0_idx = df_test.loc[df_test.miss1=='ZZZZZZZZZZZZZZZ'].index\n",
    "miss1_idx = df_test.loc[(df_test.miss1!='ZZZZZZZZZZZZZZZ') & (df_test.miss2=='ZZZZZZZZZZZZZZZ')].index\n",
    "miss2_idx = df_test.loc[(df_test.miss1!='ZZZZZZZZZZZZZZZ') & (df_test.miss2!='ZZZZZZZZZZZZZZZ')].index\n",
    "\n",
    "y_pred = np.array(y_pred)\n",
    "probs_miss0 = probs[miss0_idx]\n",
    "probs_miss1 = probs[miss1_idx]\n",
    "probs_miss2 = probs[miss2_idx]\n",
    "y_pred_miss0 = y_pred[miss0_idx]\n",
    "y_pred_miss1 = y_pred[miss1_idx]\n",
    "y_pred_miss2 = y_pred[miss2_idx]\n",
    "y_test_miss0 = y_test[miss0_idx]\n",
    "y_test_miss1 = y_test[miss1_idx]\n",
    "y_test_miss2 = y_test[miss2_idx]\n",
    "\n",
    "auc = roc_auc_score(y_test_miss0, probs_miss0)\n",
    "print('Test AUC : {}'.format(auc))\n",
    "print(classification_report(y_test_miss0, y_pred_miss0, digits=4))\n",
    "\n",
    "plt.figure(figsize=(4, 4))\n",
    "fpr, tpr, _ = roc_curve(y_test_miss0, probs_miss0)\n",
    "plt.plot(fpr, tpr, marker='.', label='AUC = {:.4f}'.format(auc), color='orange')\n",
    "plt.title('ROC curve')\n",
    "plt.xlabel('False Positive Rate')\n",
    "plt.ylabel('True Positive Rate')\n",
    "plt.legend()\n",
    "plt.show()\n",
    "\n",
    "cf_matrix = confusion_matrix(y_test_miss0, y_pred_miss0)\n",
    "plt.figure(figsize=(3, 3))\n",
    "sns.heatmap(cf_matrix, annot=True, fmt=',.0f')\n",
    "plt.show()\n",
    "\n",
    "auc = roc_auc_score(y_test_miss1, probs_miss1)\n",
    "print('Test AUC : {}'.format(auc))\n",
    "print(classification_report(y_test_miss1, y_pred_miss1, digits=4))\n",
    "\n",
    "plt.figure(figsize=(4, 4))\n",
    "fpr, tpr, _ = roc_curve(y_test_miss1, probs_miss1)\n",
    "plt.plot(fpr, tpr, marker='.', label='AUC = {:.4f}'.format(auc), color='orange')\n",
    "plt.title('ROC curve')\n",
    "plt.xlabel('False Positive Rate')\n",
    "plt.ylabel('True Positive Rate')\n",
    "plt.legend()\n",
    "plt.show()\n",
    "\n",
    "cf_matrix = confusion_matrix(y_test_miss1, y_pred_miss1)\n",
    "plt.figure(figsize=(3, 3))\n",
    "sns.heatmap(cf_matrix, annot=True, fmt=',.0f')\n",
    "plt.show()\n",
    "\n",
    "auc = roc_auc_score(y_test_miss2, probs_miss2)\n",
    "print('Test AUC : {}'.format(auc))\n",
    "print(classification_report(y_test_miss2, y_pred_miss2, digits=4))\n",
    "\n",
    "plt.figure(figsize=(4, 4))\n",
    "fpr, tpr, _ = roc_curve(y_test_miss2, probs_miss2)\n",
    "plt.plot(fpr, tpr, marker='.', label='AUC = {:.4f}'.format(auc), color='orange')\n",
    "plt.title('ROC curve')\n",
    "plt.xlabel('False Positive Rate')\n",
    "plt.ylabel('True Positive Rate')\n",
    "plt.legend()\n",
    "plt.show()\n",
    "\n",
    "cf_matrix = confusion_matrix(y_test_miss2, y_pred_miss2)\n",
    "plt.figure(figsize=(3, 3))\n",
    "sns.heatmap(cf_matrix, annot=True, fmt=',.0f')\n",
    "plt.show()\n",
    "\n"
   ]
  },
  {
   "cell_type": "code",
   "execution_count": 27,
   "id": "ecfb8429",
   "metadata": {
    "ExecuteTime": {
     "end_time": "2022-05-30T15:42:26.369104Z",
     "start_time": "2022-05-30T15:42:26.364633Z"
    }
   },
   "outputs": [],
   "source": [
    "np.save('data/CapsNet_miss0_idx.npy', np.array(miss0_idx))\n",
    "np.save('data/CapsNet_miss1_idx.npy', np.array(miss1_idx))\n",
    "np.save('data/CapsNet_miss2_idx.npy', np.array(miss2_idx))"
   ]
  },
  {
   "cell_type": "code",
   "execution_count": null,
   "id": "490564cc",
   "metadata": {},
   "outputs": [],
   "source": []
  }
 ],
 "metadata": {
  "kernelspec": {
   "display_name": "TF1.14",
   "language": "python",
   "name": "tf1.14"
  },
  "language_info": {
   "codemirror_mode": {
    "name": "ipython",
    "version": 3
   },
   "file_extension": ".py",
   "mimetype": "text/x-python",
   "name": "python",
   "nbconvert_exporter": "python",
   "pygments_lexer": "ipython3",
   "version": "3.6.13"
  }
 },
 "nbformat": 4,
 "nbformat_minor": 5
}
