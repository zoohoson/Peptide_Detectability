{
 "cells": [
  {
   "cell_type": "code",
   "execution_count": 3,
   "id": "67ac578d",
   "metadata": {
    "ExecuteTime": {
     "end_time": "2022-05-27T16:46:00.788947Z",
     "start_time": "2022-05-27T16:46:00.786107Z"
    }
   },
   "outputs": [],
   "source": [
    "import warnings\n",
    "warnings.simplefilter(action='ignore', category=FutureWarning)\n",
    "import numpy as np\n",
    "import tensorflow as tf\n",
    "from tensorflow import keras\n",
    "import pandas as pd\n",
    "import matplotlib.pyplot as plt"
   ]
  },
  {
   "cell_type": "code",
   "execution_count": 19,
   "id": "bc31c464",
   "metadata": {
    "ExecuteTime": {
     "end_time": "2022-05-27T16:49:38.305436Z",
     "start_time": "2022-05-27T16:49:38.279040Z"
    }
   },
   "outputs": [],
   "source": [
    "from sklearn.metrics import roc_curve\n",
    "from sklearn.metrics import roc_auc_score\n",
    "from sklearn.metrics import classification_report\n",
    "from sklearn.metrics import confusion_matrix\n",
    "import seaborn as sns"
   ]
  },
  {
   "cell_type": "code",
   "execution_count": 4,
   "id": "3cb28c99",
   "metadata": {
    "ExecuteTime": {
     "end_time": "2022-05-27T16:46:01.728816Z",
     "start_time": "2022-05-27T16:46:01.723320Z"
    }
   },
   "outputs": [],
   "source": [
    "def load_pep_and_codify(file, max_len):\n",
    "    aa_dict={'A':1,'R':2,'N':3,'D':4,'C':5,'Q':6,'E':7,'G':8,'H':9,'I':10,'L':11,'K':12,'M':13,'F':14,\n",
    "        'P':15,'O':16,'S':17,'U':18,'T':19,'W':20,'Y':21,'V':22}\n",
    "##############################################\n",
    "# original code\n",
    "#     with open(file, 'r') as inf:\n",
    "#         lines = inf.read().splitlines()\n",
    "##############################################\n",
    "    lines = file\n",
    "    pep_codes=[]\n",
    "    long_pep_counter = 0\n",
    "    newLines = []\n",
    "    for pep in lines:\n",
    "        if not len(pep) > max_len:\n",
    "            current_pep=[]\n",
    "            for aa in pep:\n",
    "                current_pep.append(aa_dict[aa])\n",
    "            pep_codes.append(current_pep)\n",
    "            newLines.extend([pep])\n",
    "        else:\n",
    "            long_pep_counter += 1\n",
    "    predict_data = keras.preprocessing.sequence.pad_sequences(pep_codes, value=0, padding='post', maxlen=max_len)\n",
    "    return predict_data, long_pep_counter, newLines"
   ]
  },
  {
   "cell_type": "markdown",
   "id": "f2e38479",
   "metadata": {},
   "source": [
    "# HPP"
   ]
  },
  {
   "cell_type": "code",
   "execution_count": 5,
   "id": "aaed949b",
   "metadata": {
    "ExecuteTime": {
     "end_time": "2022-05-27T16:46:03.790427Z",
     "start_time": "2022-05-27T16:46:03.745443Z"
    }
   },
   "outputs": [],
   "source": [
    "df_hpp = pd.read_csv('data/HPP.csv')"
   ]
  },
  {
   "cell_type": "code",
   "execution_count": 6,
   "id": "41c603c8",
   "metadata": {
    "ExecuteTime": {
     "end_time": "2022-05-27T16:46:09.157871Z",
     "start_time": "2022-05-27T16:46:05.788041Z"
    },
    "scrolled": true
   },
   "outputs": [
    {
     "name": "stdout",
     "output_type": "stream",
     "text": [
      "Loading model...\n",
      "WARNING:tensorflow:From /home/bis/miniconda3/envs/TF1.14/lib/python3.6/site-packages/tensorflow/python/keras/initializers.py:119: calling RandomUniform.__init__ (from tensorflow.python.ops.init_ops) with dtype is deprecated and will be removed in a future version.\n",
      "Instructions for updating:\n",
      "Call initializer instance with the dtype argument instead of passing it to the constructor\n",
      "WARNING:tensorflow:From /home/bis/miniconda3/envs/TF1.14/lib/python3.6/site-packages/tensorflow/python/ops/init_ops.py:97: calling GlorotUniform.__init__ (from tensorflow.python.ops.init_ops) with dtype is deprecated and will be removed in a future version.\n",
      "Instructions for updating:\n",
      "Call initializer instance with the dtype argument instead of passing it to the constructor\n",
      "WARNING:tensorflow:From /home/bis/miniconda3/envs/TF1.14/lib/python3.6/site-packages/tensorflow/python/ops/init_ops.py:1251: calling VarianceScaling.__init__ (from tensorflow.python.ops.init_ops) with dtype is deprecated and will be removed in a future version.\n",
      "Instructions for updating:\n",
      "Call initializer instance with the dtype argument instead of passing it to the constructor\n",
      "WARNING:tensorflow:From /home/bis/miniconda3/envs/TF1.14/lib/python3.6/site-packages/tensorflow/python/ops/init_ops.py:97: calling Zeros.__init__ (from tensorflow.python.ops.init_ops) with dtype is deprecated and will be removed in a future version.\n",
      "Instructions for updating:\n",
      "Call initializer instance with the dtype argument instead of passing it to the constructor\n",
      "WARNING:tensorflow:From /home/bis/miniconda3/envs/TF1.14/lib/python3.6/site-packages/tensorflow/python/ops/nn_impl.py:180: add_dispatch_support.<locals>.wrapper (from tensorflow.python.ops.array_ops) is deprecated and will be removed in a future version.\n",
      "Instructions for updating:\n",
      "Use tf.where in 2.0, which has the same broadcast rule as np.where\n",
      "WARNING:tensorflow:Error in loading the saved optimizer state. As a result, your model is starting with a freshly initialized optimizer.\n",
      "Loading input peptides\n",
      "Succesfully loaded 23273 peptides and skipped 0\n",
      "Making predictions\n"
     ]
    }
   ],
   "source": [
    "print('Loading model...')\n",
    "model_2_1D = keras.models.load_model('Model_original_DeepMSpeptide.h5')\n",
    "\n",
    "print('Loading input peptides')\n",
    "# predict_data, skipped,  lines = load_pep_and_codify(args.infile[0], 81)\n",
    "file = df_hpp.peptide.values\n",
    "predict_data, skipped,  lines = load_pep_and_codify(file, 81)\n",
    "print('Succesfully loaded {0} peptides and skipped {1}'.format(len(lines), str(skipped)))\n",
    "\n",
    "print('Making predictions')\n",
    "model_2_1D_pred = model_2_1D.predict(predict_data)\n",
    "model_2_1D_pred = np.hstack((np.array(lines).reshape(len(lines), 1),model_2_1D_pred)).tolist()"
   ]
  },
  {
   "cell_type": "code",
   "execution_count": 7,
   "id": "05a6ea36",
   "metadata": {
    "ExecuteTime": {
     "end_time": "2022-05-27T16:46:10.883928Z",
     "start_time": "2022-05-27T16:46:10.846570Z"
    }
   },
   "outputs": [],
   "source": [
    "df_hpp = pd.concat([df_hpp, pd.DataFrame(model_2_1D_pred, columns=['peptide', 'probs'])['probs']], axis=1)\n",
    "pe = df_hpp.loc[df_hpp.Class=='PE1'][['peptide', 'probs']].drop_duplicates()\n",
    "dmp = df_hpp.loc[df_hpp.Class=='Detected_MPs'][['peptide', 'probs']].drop_duplicates()\n",
    "mp = df_hpp.loc[df_hpp.Class=='MPs'][['peptide', 'probs']].drop_duplicates()"
   ]
  },
  {
   "cell_type": "code",
   "execution_count": 8,
   "id": "3ffe72e8",
   "metadata": {
    "ExecuteTime": {
     "end_time": "2022-05-27T16:46:13.688597Z",
     "start_time": "2022-05-27T16:46:13.531241Z"
    }
   },
   "outputs": [
    {
     "data": {
      "image/png": "[encoded data removed]",
      "text/plain": [
       "<Figure size 360x216 with 1 Axes>"
      ]
     },
     "metadata": {
      "needs_background": "light"
     },
     "output_type": "display_data"
    }
   ],
   "source": [
    "plt.figure(figsize=(5,3))\n",
    "a = plt.violinplot([list(map(lambda x: 1-x, pe.probs.astype(float))), \n",
    "                    list(map(lambda x: 1-x, dmp.probs.astype(float))), \n",
    "                    list(map(lambda x: 1-x, mp.probs.astype(float)))],\n",
    "               showmeans=True,\n",
    "              )\n",
    "plt.xticks([y + 1 for y in range(len([pe,dmp,mp]))], ['PE1', 'Detected MPs', 'Current MPs'])\n",
    "b = plt.grid(axis='y')\n",
    "plt.show()"
   ]
  },
  {
   "cell_type": "markdown",
   "id": "5d90e8d9",
   "metadata": {},
   "source": [
    "# massIVE-KB"
   ]
  },
  {
   "cell_type": "code",
   "execution_count": 9,
   "id": "934eb915",
   "metadata": {
    "ExecuteTime": {
     "end_time": "2022-05-27T16:46:17.651971Z",
     "start_time": "2022-05-27T16:46:17.248663Z"
    }
   },
   "outputs": [],
   "source": [
    "df_test = pd.read_csv('data/test_diff_hpp.csv')[['peptide', 'label']].drop_duplicates()"
   ]
  },
  {
   "cell_type": "code",
   "execution_count": 11,
   "id": "54405d50",
   "metadata": {
    "ExecuteTime": {
     "end_time": "2022-05-27T16:47:06.799680Z",
     "start_time": "2022-05-27T16:47:05.683212Z"
    }
   },
   "outputs": [
    {
     "name": "stdout",
     "output_type": "stream",
     "text": [
      "Loading model...\n"
     ]
    }
   ],
   "source": [
    "print('Loading model...')\n",
    "model_2_1D_retrained = keras.models.load_model('log/DeepMspeptide.h5')"
   ]
  },
  {
   "cell_type": "code",
   "execution_count": 12,
   "id": "a1b55987",
   "metadata": {
    "ExecuteTime": {
     "end_time": "2022-05-27T16:47:14.205151Z",
     "start_time": "2022-05-27T16:47:12.741590Z"
    }
   },
   "outputs": [
    {
     "name": "stdout",
     "output_type": "stream",
     "text": [
      "Loading input peptides\n",
      "Succesfully loaded 170120 peptides and skipped 0\n"
     ]
    }
   ],
   "source": [
    "print('Loading input peptides')\n",
    "file = df_test.peptide.values\n",
    "X_test, skipped,  lines = load_pep_and_codify(file, 81)\n",
    "y_test = df_test.label.values\n",
    "print('Succesfully loaded {0} peptides and skipped {1}'.format(len(lines), str(skipped)))"
   ]
  },
  {
   "cell_type": "code",
   "execution_count": null,
   "id": "d2dab42f",
   "metadata": {
    "ExecuteTime": {
     "end_time": "2022-05-27T16:47:53.676563Z",
     "start_time": "2022-05-27T16:47:21.520888Z"
    }
   },
   "outputs": [],
   "source": [
    "probs = model_2_1D_retrained.predict(X_test)\n",
    "y_pred = [1 if i>=0.5 else 0 for i in probs]\n",
    "acc = model_2_1D_retrained.evaluate(X_test, y_test)"
   ]
  },
  {
   "cell_type": "code",
   "execution_count": 20,
   "id": "e032ea29",
   "metadata": {
    "ExecuteTime": {
     "end_time": "2022-05-27T16:49:41.315917Z",
     "start_time": "2022-05-27T16:49:40.143995Z"
    }
   },
   "outputs": [
    {
     "name": "stdout",
     "output_type": "stream",
     "text": [
      "Test Accuracy: [0.40882030606353925, 0.81645894, 0.4088199]\n",
      "Test AUC : 0.8973313748933661\n",
      "              precision    recall  f1-score   support\n",
      "\n",
      "       False     0.8128    0.8285    0.8206     86178\n",
      "        True     0.8203    0.8041    0.8122     83942\n",
      "\n",
      "    accuracy                         0.8165    170120\n",
      "   macro avg     0.8166    0.8163    0.8164    170120\n",
      "weighted avg     0.8165    0.8165    0.8164    170120\n",
      "\n"
     ]
    },
    {
     "data": {
      "image/png": "[encoded data removed]",
      "text/plain": [
       "<Figure size 288x288 with 1 Axes>"
      ]
     },
     "metadata": {
      "needs_background": "light"
     },
     "output_type": "display_data"
    },
    {
     "data": {
      "image/png": "[encoded data removed]",
      "text/plain": [
       "<Figure size 216x216 with 2 Axes>"
      ]
     },
     "metadata": {
      "needs_background": "light"
     },
     "output_type": "display_data"
    }
   ],
   "source": [
    "auc = roc_auc_score(y_test, probs)\n",
    "print('Test Accuracy: {}'.format(acc))\n",
    "print('Test AUC : {}'.format(auc))\n",
    "print(classification_report(y_test, y_pred, digits=4))\n",
    "\n",
    "plt.figure(figsize=(4, 4))\n",
    "fpr, tpr, _ = roc_curve(y_test, probs)\n",
    "plt.plot(fpr, tpr, marker='.', label='AUC = {:.4f}'.format(auc), color='orange')\n",
    "plt.title('ROC curve')\n",
    "plt.xlabel('False Positive Rate')\n",
    "plt.ylabel('True Positive Rate')\n",
    "plt.legend()\n",
    "plt.show()\n",
    "\n",
    "cf_matrix = confusion_matrix(y_test, y_pred)\n",
    "plt.figure(figsize=(3, 3))\n",
    "sns.heatmap(cf_matrix, annot=True, fmt=',.0f')\n",
    "plt.show()"
   ]
  },
  {
   "cell_type": "code",
   "execution_count": 21,
   "id": "a426c5df",
   "metadata": {
    "ExecuteTime": {
     "end_time": "2022-05-27T16:49:51.700000Z",
     "start_time": "2022-05-27T16:49:51.696390Z"
    }
   },
   "outputs": [],
   "source": [
    "np.save('log/result_DeepMSpeptide_fpr.npy', fpr)\n",
    "np.save('log/result_DeepMSpeptide_tpr.npy', tpr)"
   ]
  }
 ],
 "metadata": {
  "kernelspec": {
   "display_name": "TF1.14",
   "language": "python",
   "name": "tf1.14"
  },
  "language_info": {
   "codemirror_mode": {
    "name": "ipython",
    "version": 3
   },
   "file_extension": ".py",
   "mimetype": "text/x-python",
   "name": "python",
   "nbconvert_exporter": "python",
   "pygments_lexer": "ipython3",
   "version": "3.6.13"
  }
 },
 "nbformat": 4,
 "nbformat_minor": 5
}
