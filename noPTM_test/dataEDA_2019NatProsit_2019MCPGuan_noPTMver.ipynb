{
 "cells": [
  {
   "cell_type": "code",
   "execution_count": 1,
   "metadata": {
    "ExecuteTime": {
     "end_time": "2021-10-17T12:29:56.565456Z",
     "start_time": "2021-10-17T12:29:54.016639Z"
    }
   },
   "outputs": [],
   "source": [
    "import tensorflow as tf\n",
    "import pickle\n",
    "import numpy as np\n",
    "from tensorflow.keras import models\n",
    "from tensorflow.keras import layers\n",
    "\n",
    "import matplotlib.pyplot as plt\n",
    "from scipy.stats import pearsonr\n",
    "\n",
    "import pandas as pd"
   ]
  },
  {
   "cell_type": "code",
   "execution_count": 2,
   "metadata": {
    "ExecuteTime": {
     "end_time": "2021-10-17T12:29:56.654186Z",
     "start_time": "2021-10-17T12:29:56.566934Z"
    }
   },
   "outputs": [],
   "source": [
    "import math\n",
    "\n",
    "import seaborn as sns"
   ]
  },
  {
   "cell_type": "markdown",
   "metadata": {},
   "source": [
    "# charge prediction\n",
    " - find threshold"
   ]
  },
  {
   "cell_type": "code",
   "execution_count": 3,
   "metadata": {
    "ExecuteTime": {
     "end_time": "2021-10-17T12:29:59.325345Z",
     "start_time": "2021-10-17T12:29:57.906166Z"
    }
   },
   "outputs": [],
   "source": [
    "def reshapeOneHot(X):\n",
    "    X = np.dstack(X)\n",
    "    X = np.swapaxes(X, 1, 2)\n",
    "    X = np.swapaxes(X, 0, 1)\n",
    "    return X\n",
    "\n",
    "def one_hot_encode_peptide(peptide, MAX_LENGTH = 41):\n",
    "    if len(peptide) > MAX_LENGTH:\n",
    "        print('Peptide length is larger than maximal length of ', str(MAX_LENGTH))\n",
    "        return None\n",
    "    else:\n",
    "        AA_vocabulary = 'KRPTNAQVSGILCMJHFYWEDBXO'#B: acetyl; O: Carbamyl; J: oxidized Met; X:pyro_glu\n",
    "        no_not_used_aas = 1#U: not used\n",
    "\n",
    "        one_hot_peptide = np.zeros((len(peptide), len(AA_vocabulary) - no_not_used_aas))\n",
    "\n",
    "        for j in range(0, len(peptide)):\n",
    "            try:\n",
    "                aa = peptide[j]\n",
    "                one_hot_peptide[j, AA_vocabulary.index(aa)] = 1\n",
    "            except:\n",
    "                pass\n",
    "        \n",
    "        no_front_paddings = int((MAX_LENGTH - len(peptide))/2)\n",
    "        peptide_front_paddings = np.zeros((no_front_paddings, one_hot_peptide.shape[1]))\n",
    "\n",
    "        no_back_paddings = MAX_LENGTH - len(peptide) - no_front_paddings\n",
    "        peptide_back_paddings = np.zeros((no_back_paddings, one_hot_peptide.shape[1]))\n",
    "\n",
    "        full_one_hot_peptide = np.vstack((peptide_front_paddings, one_hot_peptide, peptide_back_paddings))\n",
    "\n",
    "        return peptide, full_one_hot_peptide\n",
    "    \n",
    "AA_vocabulary = 'KRPTNAQVSGILCMJHFYWEDBXOU'#B: acetyl; J: oxidized Met; X:pyro_glu\n",
    "single2psi_lookup = {'B': '(Acetyl)-',\n",
    "                     'J': 'M(Oxidation)',\n",
    "                     'X': '(Gln->pyro-Glu)Q',\n",
    "                     'C': 'C(Carbamidomethyl)'}\n",
    "\n",
    "def one_hot_to_single_ptm(one_hot):\n",
    "    seq = ''\n",
    "    for row in one_hot:\n",
    "        if row.sum() > 0:\n",
    "            idx = row.argmax()\n",
    "            seq += AA_vocabulary[idx]\n",
    "    return seq\n",
    "\n",
    "\n",
    "\n",
    "def single_ptm_to_psi(single_ptm_seq):\n",
    "    psi_seq = single_ptm_seq\n",
    "    for code in single2psi_lookup:\n",
    "        psi_seq = psi_seq.replace(code, single2psi_lookup[code])\n",
    "    return psi_seq\n",
    "\n",
    "fn1 = '../refModel/2019MCP_Guan/LCMSMS_Pred_Supplemental_Material_section_S6/ChargeState/zfit_bidirLSTM2_masking_result.pickle'\n",
    "with open(fn1, 'rb') as fid:\n",
    "    pred_data = pickle.load(fid)\n",
    "\n",
    "fn2 = '../refModel/2019MCP_Guan/LCMSMS_Pred_Supplemental_Material_section_S6/ChargeState/zfit_one_hot.pickle'\n",
    "with open(fn2, 'rb') as fid:\n",
    "    real_data = pickle.load(fid)\n",
    "\n",
    "def plot_zfit(train_X, train_y, predicted_train_y, n):\n",
    "\n",
    "    X = train_X[n]\n",
    "    s_seq = one_hot_to_single_ptm(X)\n",
    "    print(s_seq)\n",
    "    psi_seq = single_ptm_to_psi(s_seq)\n",
    "    print(psi_seq)\n",
    "   \n",
    "    y_exp = train_y[n]\n",
    "    y_pred = predicted_train_y[n]\n",
    "    pcc = pearsonr(y_exp, y_pred)\n",
    "\n",
    "    fig, ax = plt.subplots()\n",
    "    charges = range(1, len(y_exp) + 1)\n",
    "    ax.stem(charges, y_exp, 'b', markerfmt=\" \", label='Experimental')\n",
    "    ax.stem(charges, -y_pred, 'g', markerfmt=\" \", label='Predicted')\n",
    "    plt.text(1.5, -0.35, 'pcc: %6.3f, %6.3g'%(pcc[0], pcc[1]))\n",
    "    plt.xticks(charges)\n",
    "    plt.xlabel('charge')\n",
    "    plt.title(psi_seq)\n",
    "    plt.show()"
   ]
  },
  {
   "cell_type": "code",
   "execution_count": 3,
   "metadata": {
    "ExecuteTime": {
     "end_time": "2021-10-07T22:49:00.143053Z",
     "start_time": "2021-10-07T22:48:55.120402Z"
    }
   },
   "outputs": [
    {
     "name": "stdout",
     "output_type": "stream",
     "text": [
      "Model: \"sequential_1\"\n",
      "_________________________________________________________________\n",
      "Layer (type)                 Output Shape              Param #   \n",
      "=================================================================\n",
      "masking_1 (Masking)          (None, None, 23)          0         \n",
      "_________________________________________________________________\n",
      "bidirectional_1 (Bidirection (None, None, 512)         573440    \n",
      "_________________________________________________________________\n",
      "bidirectional_2 (Bidirection (None, 512)               1574912   \n",
      "_________________________________________________________________\n",
      "dense_1 (Dense)              (None, 256)               131328    \n",
      "_________________________________________________________________\n",
      "dense_2 (Dense)              (None, 5)                 1285      \n",
      "=================================================================\n",
      "Total params: 2,280,965\n",
      "Trainable params: 2,280,965\n",
      "Non-trainable params: 0\n",
      "_________________________________________________________________\n",
      "None\n"
     ]
    }
   ],
   "source": [
    "network_ori = tf.keras.models.load_model('../refModel/2019MCP_Guan/LCMSMS_Pred_Supplemental_Material_section_S6/ChargeState/zfit_bidirLSTM2_masking_model.h5')\n",
    "\n",
    "print(network_ori.summary())"
   ]
  },
  {
   "cell_type": "code",
   "execution_count": 4,
   "metadata": {
    "ExecuteTime": {
     "end_time": "2021-10-07T22:49:01.459112Z",
     "start_time": "2021-10-07T22:49:00.144585Z"
    }
   },
   "outputs": [],
   "source": [
    "train = pd.read_csv('../data/df_detect_peptide_train_noptm_210930_includeDigest.csv')\n",
    "test = pd.read_csv('../data/df_detect_peptide_test_noptm_210930_includeDigest.csv')\n",
    "\n",
    "df = pd.concat([train, test], axis=0).reset_index(drop=True)"
   ]
  },
  {
   "cell_type": "code",
   "execution_count": 7,
   "metadata": {
    "ExecuteTime": {
     "end_time": "2021-10-07T22:52:32.556237Z",
     "start_time": "2021-10-07T22:52:32.426368Z"
    }
   },
   "outputs": [
    {
     "data": {
      "text/plain": [
       "((510472, 8), 492693, 242846)"
      ]
     },
     "execution_count": 7,
     "metadata": {},
     "output_type": "execute_result"
    }
   ],
   "source": [
    "df.shape, len(df.PEP.unique()), len(ided_pep)"
   ]
  },
  {
   "cell_type": "code",
   "execution_count": 6,
   "metadata": {
    "ExecuteTime": {
     "end_time": "2021-10-07T22:49:21.297715Z",
     "start_time": "2021-10-07T22:49:21.077436Z"
    }
   },
   "outputs": [],
   "source": [
    "ided_pep = df.loc[df.ID==1].PEP.unique()\n",
    "whole_pep = df.PEP.unique()"
   ]
  },
  {
   "cell_type": "markdown",
   "metadata": {},
   "source": [
    "# Search Threshold\n",
    " - 몇 이상의 값을 가진 charge를 사용할 것인가, 나머지는 zero padding 해야한다."
   ]
  },
  {
   "cell_type": "code",
   "execution_count": 8,
   "metadata": {
    "ExecuteTime": {
     "end_time": "2021-10-07T16:00:50.769988Z",
     "start_time": "2021-10-07T16:00:14.592734Z"
    }
   },
   "outputs": [],
   "source": [
    "df_kb = pd.read_csv('../data/massIVE-KB/df_kb_noptm.csv')\n",
    "df_uni = pd.read_csv('../data/uniprot/df_uni_noptm_ided.csv')\n",
    "\n",
    "df_kb_not6charge = df_kb.loc[df_kb.CHARGE!=6].reset_index(drop=True)\n",
    "\n",
    "pep2charge = dict()\n",
    "for p, c in df_kb_not6charge[['PEPTIDE', 'CHARGE']].values:\n",
    "    if p not in pep2charge:\n",
    "        pep2charge[p] = [0, 0, 0, 0, 0]\n",
    "    pep2charge[p][int(c)-1] += 1\n",
    "\n",
    "ided_pep2charge = dict()\n",
    "for p in ided_pep:\n",
    "    try:\n",
    "        ided_pep2charge[p] = pep2charge[p]\n",
    "    except:\n",
    "        pass  # charge 6 case"
   ]
  },
  {
   "cell_type": "code",
   "execution_count": 147,
   "metadata": {
    "ExecuteTime": {
     "end_time": "2021-10-07T17:45:58.425138Z",
     "start_time": "2021-10-07T17:45:58.009246Z"
    }
   },
   "outputs": [],
   "source": [
    "kb_y = np.array(list(ided_pep2charge.values()))\n",
    "kb_X_str = np.array(list(ided_pep2charge.keys()))"
   ]
  },
  {
   "cell_type": "code",
   "execution_count": 35,
   "metadata": {
    "ExecuteTime": {
     "end_time": "2021-10-07T16:12:40.216392Z",
     "start_time": "2021-10-07T16:12:35.104562Z"
    }
   },
   "outputs": [
    {
     "name": "stdout",
     "output_type": "stream",
     "text": [
      "(242827, 41, 23)\n"
     ]
    }
   ],
   "source": [
    "ided_pep2onehot = dict()\n",
    "for p in kb_X_str:\n",
    "    o = one_hot_encode_peptide(p)\n",
    "    ided_pep2onehot[p] = o[1]\n",
    "kb_X = np.array(list(ided_pep2onehot.values()))\n",
    "print(kb_X.shape)"
   ]
  },
  {
   "cell_type": "code",
   "execution_count": 36,
   "metadata": {
    "ExecuteTime": {
     "end_time": "2021-10-07T16:12:55.688523Z",
     "start_time": "2021-10-07T16:12:41.880394Z"
    }
   },
   "outputs": [
    {
     "name": "stdout",
     "output_type": "stream",
     "text": [
      "1.07 hour estimated\n"
     ]
    }
   ],
   "source": [
    "test=kb_X[:1000]\n",
    "kb_pred = network_ori.predict(test)\n",
    "print(round(15.9*(242827/1000)/3600, 2), 'hour estimated')"
   ]
  },
  {
   "cell_type": "code",
   "execution_count": 37,
   "metadata": {
    "ExecuteTime": {
     "end_time": "2021-10-07T17:09:36.011053Z",
     "start_time": "2021-10-07T16:12:56.519611Z"
    }
   },
   "outputs": [],
   "source": [
    "kb_pred = network_ori.predict(kb_X)"
   ]
  },
  {
   "cell_type": "code",
   "execution_count": 65,
   "metadata": {
    "ExecuteTime": {
     "end_time": "2021-10-07T17:17:09.409031Z",
     "start_time": "2021-10-07T17:17:08.207019Z"
    }
   },
   "outputs": [],
   "source": [
    "kb_pred_log = np.array([np.array(list(map(lambda x: -math.log(x), _))) for _ in kb_pred])"
   ]
  },
  {
   "cell_type": "code",
   "execution_count": 87,
   "metadata": {
    "ExecuteTime": {
     "end_time": "2021-10-07T17:18:43.103158Z",
     "start_time": "2021-10-07T17:18:42.990216Z"
    }
   },
   "outputs": [
    {
     "name": "stdout",
     "output_type": "stream",
     "text": [
      "NPQNSNPEGTSNK\n",
      "NPQNSNPEGTSNK\n"
     ]
    },
    {
     "data": {
      "image/png": "[encoded data removed]",
      "text/plain": [
       "<Figure size 432x288 with 1 Axes>"
      ]
     },
     "metadata": {
      "needs_background": "light"
     },
     "output_type": "display_data"
    }
   ],
   "source": [
    "plot_zfit(kb_X, kb_y, kb_pred_log, 9)"
   ]
  },
  {
   "cell_type": "code",
   "execution_count": 94,
   "metadata": {
    "ExecuteTime": {
     "end_time": "2021-10-07T17:22:10.305253Z",
     "start_time": "2021-10-07T17:22:09.339595Z"
    }
   },
   "outputs": [],
   "source": [
    "pred_logs = []\n",
    "for real, pred in zip(kb_y, kb_pred_log):\n",
    "    idxes = np.where(real==1)[0]\n",
    "    pred_logs += list(pred[idxes])"
   ]
  },
  {
   "cell_type": "code",
   "execution_count": 101,
   "metadata": {
    "ExecuteTime": {
     "end_time": "2021-10-07T17:24:02.580532Z",
     "start_time": "2021-10-07T17:24:01.218835Z"
    }
   },
   "outputs": [
    {
     "name": "stderr",
     "output_type": "stream",
     "text": [
      "/home/bis/miniconda3/envs/bis/lib/python3.6/site-packages/seaborn/_decorators.py:43: FutureWarning: Pass the following variable as a keyword arg: x. From version 0.12, the only valid positional argument will be `data`, and passing other arguments without an explicit keyword will result in an error or misinterpretation.\n",
      "  FutureWarning\n"
     ]
    },
    {
     "data": {
      "image/png": "[encoded data removed]",
      "text/plain": [
       "<Figure size 1440x360 with 1 Axes>"
      ]
     },
     "metadata": {
      "needs_background": "light"
     },
     "output_type": "display_data"
    }
   ],
   "source": [
    "plt.figure(figsize=(20,5))\n",
    "sns.violinplot(pred_logs, color='orange')\n",
    "plt.title('massIVE-KB charge prediction threshold')\n",
    "plt.xlabel('prob logscale')\n",
    "plt.show()"
   ]
  },
  {
   "cell_type": "code",
   "execution_count": 109,
   "metadata": {
    "ExecuteTime": {
     "end_time": "2021-10-07T17:27:32.133356Z",
     "start_time": "2021-10-07T17:27:32.009338Z"
    }
   },
   "outputs": [
    {
     "name": "stdout",
     "output_type": "stream",
     "text": [
      "[only real charge] below 6 ratio :  0.9929168711540639\n"
     ]
    }
   ],
   "source": [
    "print('[only real charge] below 6 ratio : ', len(list(filter(lambda x: x<=6, pred_logs)))/len(pred_logs))"
   ]
  },
  {
   "cell_type": "code",
   "execution_count": 108,
   "metadata": {
    "ExecuteTime": {
     "end_time": "2021-10-07T17:27:23.526296Z",
     "start_time": "2021-10-07T17:27:22.906103Z"
    }
   },
   "outputs": [
    {
     "name": "stdout",
     "output_type": "stream",
     "text": [
      "[all charge] below 6 ratio :  0.5813019145317448\n"
     ]
    }
   ],
   "source": [
    "all_logs = [__ for _ in kb_pred_log for __ in _]\n",
    "print('[all charge] below 6 ratio : ', len(list(filter(lambda x: x<=6, all_logs)))/len(all_logs))"
   ]
  },
  {
   "cell_type": "markdown",
   "metadata": {},
   "source": [
    "# 위 threshold에 따라 pep2charge tensor를 구성\n",
    "# 그 값에 MS2 예측해서 새로운 input 생성!"
   ]
  },
  {
   "cell_type": "code",
   "execution_count": 110,
   "metadata": {
    "ExecuteTime": {
     "end_time": "2021-10-07T17:34:03.953615Z",
     "start_time": "2021-10-07T17:34:03.951188Z"
    }
   },
   "outputs": [],
   "source": [
    "# Charge prediction"
   ]
  },
  {
   "cell_type": "code",
   "execution_count": null,
   "metadata": {
    "ExecuteTime": {
     "end_time": "2021-10-08T00:49:33.204680Z",
     "start_time": "2021-10-07T23:03:40.394053Z"
    }
   },
   "outputs": [],
   "source": [
    "# additional prediction charge 6 peptide \n",
    "all_X_str = np.array(list(set(whole_pep)))\n",
    "\n",
    "all_onehot = dict()\n",
    "for p in all_X_str:\n",
    "    o = one_hot_encode_peptide(p)\n",
    "    all_onehot[p] = o[1]\n",
    "all_X = np.array(list(all_onehot.values()))\n",
    "\n",
    "all_pred = network_ori.predict(all_X)\n",
    "all_pred_log = np.array([np.array(list(map(lambda x: -math.log(x), _))) for _ in all_pred])\n",
    "\n",
    "print(all_X_str.shape, all_X.shape, all_pred_log.shape)"
   ]
  },
  {
   "cell_type": "code",
   "execution_count": 14,
   "metadata": {
    "ExecuteTime": {
     "end_time": "2021-10-08T02:16:11.073053Z",
     "start_time": "2021-10-08T02:16:05.684956Z"
    }
   },
   "outputs": [],
   "source": [
    "peplist = []\n",
    "for p, prob in zip(all_X_str, all_pred_log):\n",
    "    idxes = np.where(prob<=6)[0]\n",
    "    charges = idxes + 1  # casting\n",
    "    for c in charges:\n",
    "        peplist.append([p, 30, c])\n",
    "\n",
    "df_peplist = pd.DataFrame(peplist, columns=['modified_sequence', 'collision_energy', 'precursor_charge'])"
   ]
  },
  {
   "cell_type": "code",
   "execution_count": 15,
   "metadata": {
    "ExecuteTime": {
     "end_time": "2021-10-08T02:16:15.434407Z",
     "start_time": "2021-10-08T02:16:13.466283Z"
    }
   },
   "outputs": [],
   "source": [
    "df_peplist.to_csv('noPTM_MS2_prediction211008.csv', index=False)"
   ]
  },
  {
   "cell_type": "code",
   "execution_count": 5,
   "metadata": {
    "ExecuteTime": {
     "end_time": "2021-10-17T12:32:40.986186Z",
     "start_time": "2021-10-17T12:32:40.497349Z"
    }
   },
   "outputs": [
    {
     "name": "stdout",
     "output_type": "stream",
     "text": [
      "(1468674, 3)\n"
     ]
    },
    {
     "data": {
      "text/html": [
       "<div>\n",
       "<style scoped>\n",
       "    .dataframe tbody tr th:only-of-type {\n",
       "        vertical-align: middle;\n",
       "    }\n",
       "\n",
       "    .dataframe tbody tr th {\n",
       "        vertical-align: top;\n",
       "    }\n",
       "\n",
       "    .dataframe thead th {\n",
       "        text-align: right;\n",
       "    }\n",
       "</style>\n",
       "<table border=\"1\" class=\"dataframe\">\n",
       "  <thead>\n",
       "    <tr style=\"text-align: right;\">\n",
       "      <th></th>\n",
       "      <th>modified_sequence</th>\n",
       "      <th>collision_energy</th>\n",
       "      <th>precursor_charge</th>\n",
       "    </tr>\n",
       "  </thead>\n",
       "  <tbody>\n",
       "    <tr>\n",
       "      <th>0</th>\n",
       "      <td>RISPARETR</td>\n",
       "      <td>30</td>\n",
       "      <td>1</td>\n",
       "    </tr>\n",
       "    <tr>\n",
       "      <th>1</th>\n",
       "      <td>RISPARETR</td>\n",
       "      <td>30</td>\n",
       "      <td>2</td>\n",
       "    </tr>\n",
       "  </tbody>\n",
       "</table>\n",
       "</div>"
      ],
      "text/plain": [
       "  modified_sequence  collision_energy  precursor_charge\n",
       "0         RISPARETR                30                 1\n",
       "1         RISPARETR                30                 2"
      ]
     },
     "execution_count": 5,
     "metadata": {},
     "output_type": "execute_result"
    }
   ],
   "source": [
    "df_peplist = pd.read_csv('noPTM_MS2_prediction211008.csv')\n",
    "print(df_peplist.shape)\n",
    "df_peplist.head(2)"
   ]
  },
  {
   "cell_type": "code",
   "execution_count": null,
   "metadata": {
    "ExecuteTime": {
     "end_time": "2021-10-08T00:49:33.206935Z",
     "start_time": "2021-10-07T23:04:43.659Z"
    }
   },
   "outputs": [],
   "source": [
    "# make server MODEL_ECTRA=/home/bis/2021_SJH_detectability/Detectability/refModel/2019Nat_Prosit/prosit-master/preTrained/frag/prosit1/ MODEL_IRT=/home/bis/2021_SJH_detectability/Detectability/refModel/2019Nat_Prosit/prosit-master/preTrained/irt/model_irt_prediction/"
   ]
  },
  {
   "cell_type": "code",
   "execution_count": 16,
   "metadata": {
    "ExecuteTime": {
     "end_time": "2021-10-08T02:17:03.584243Z",
     "start_time": "2021-10-08T02:16:22.954455Z"
    }
   },
   "outputs": [
    {
     "name": "stdout",
     "output_type": "stream",
     "text": [
      "  % Total    % Received % Xferd  Average Speed   Time    Time     Time  Current\n",
      "                                 Dload  Upload   Total   Spent    Left  Speed\n",
      "100 30.4M    0     0  100 30.4M      0   778k  0:00:40  0:00:40 --:--:--     0^C\n"
     ]
    }
   ],
   "source": [
    "!curl -F \"peptides=@noPTM_MS2_prediction211008.csv\" http://127.0.0.1:5000/predict/msms --output noPTM_MS2_prediction211008_result.msms"
   ]
  },
  {
   "cell_type": "markdown",
   "metadata": {},
   "source": [
    "# Make MS2 tensor pickle"
   ]
  },
  {
   "cell_type": "code",
   "execution_count": null,
   "metadata": {
    "ExecuteTime": {
     "end_time": "2021-10-17T12:31:03.712530Z",
     "start_time": "2021-10-17T12:30:44.587150Z"
    }
   },
   "outputs": [],
   "source": [
    "df_ms2 = pd.read_csv('noPTM_MS2_prediction211008_result.msms', sep='\\t')"
   ]
  },
  {
   "cell_type": "code",
   "execution_count": 6,
   "metadata": {
    "ExecuteTime": {
     "end_time": "2021-10-17T12:32:52.999202Z",
     "start_time": "2021-10-17T12:32:52.991454Z"
    }
   },
   "outputs": [
    {
     "name": "stdout",
     "output_type": "stream",
     "text": [
      "(1468674, 5)\n"
     ]
    },
    {
     "data": {
      "text/html": [
       "<div>\n",
       "<style scoped>\n",
       "    .dataframe tbody tr th:only-of-type {\n",
       "        vertical-align: middle;\n",
       "    }\n",
       "\n",
       "    .dataframe tbody tr th {\n",
       "        vertical-align: top;\n",
       "    }\n",
       "\n",
       "    .dataframe thead th {\n",
       "        text-align: right;\n",
       "    }\n",
       "</style>\n",
       "<table border=\"1\" class=\"dataframe\">\n",
       "  <thead>\n",
       "    <tr style=\"text-align: right;\">\n",
       "      <th></th>\n",
       "      <th>Intensities</th>\n",
       "      <th>Masses</th>\n",
       "      <th>Matches</th>\n",
       "      <th>Modified Sequence</th>\n",
       "      <th>Charge</th>\n",
       "    </tr>\n",
       "  </thead>\n",
       "  <tbody>\n",
       "    <tr>\n",
       "      <th>0</th>\n",
       "      <td>0.11973064;1.0;0.014851017;0.04148714;0.039550...</td>\n",
       "      <td>175.118952167;276.166631167;405.209224167;729....</td>\n",
       "      <td>y1;y2;y3;y6;y7;y8;b1;b2;b3;b7;b8</td>\n",
       "      <td>RISPARETR</td>\n",
       "      <td>1</td>\n",
       "    </tr>\n",
       "    <tr>\n",
       "      <th>1</th>\n",
       "      <td>0.31035903;1.0;0.03278381;0.008371239;0.044243...</td>\n",
       "      <td>175.118952167;276.166631167;405.209224167;729....</td>\n",
       "      <td>y1;y2;y3;y6;y7;y8;b1;b2;b3;b5;b6;b7;b8;y6(2+);...</td>\n",
       "      <td>RISPARETR</td>\n",
       "      <td>2</td>\n",
       "    </tr>\n",
       "  </tbody>\n",
       "</table>\n",
       "</div>"
      ],
      "text/plain": [
       "                                         Intensities  \\\n",
       "0  0.11973064;1.0;0.014851017;0.04148714;0.039550...   \n",
       "1  0.31035903;1.0;0.03278381;0.008371239;0.044243...   \n",
       "\n",
       "                                              Masses  \\\n",
       "0  175.118952167;276.166631167;405.209224167;729....   \n",
       "1  175.118952167;276.166631167;405.209224167;729....   \n",
       "\n",
       "                                             Matches Modified Sequence  Charge  \n",
       "0                   y1;y2;y3;y6;y7;y8;b1;b2;b3;b7;b8         RISPARETR       1  \n",
       "1  y1;y2;y3;y6;y7;y8;b1;b2;b3;b5;b6;b7;b8;y6(2+);...         RISPARETR       2  "
      ]
     },
     "execution_count": 6,
     "metadata": {},
     "output_type": "execute_result"
    }
   ],
   "source": [
    "print(df_ms2.shape)\n",
    "df_ms2.head(2)"
   ]
  },
  {
   "cell_type": "code",
   "execution_count": 7,
   "metadata": {
    "ExecuteTime": {
     "end_time": "2021-10-17T13:47:54.330291Z",
     "start_time": "2021-10-17T13:47:09.898610Z"
    }
   },
   "outputs": [
    {
     "data": {
      "text/html": [
       "<div>\n",
       "<style scoped>\n",
       "    .dataframe tbody tr th:only-of-type {\n",
       "        vertical-align: middle;\n",
       "    }\n",
       "\n",
       "    .dataframe tbody tr th {\n",
       "        vertical-align: top;\n",
       "    }\n",
       "\n",
       "    .dataframe thead th {\n",
       "        text-align: right;\n",
       "    }\n",
       "</style>\n",
       "<table border=\"1\" class=\"dataframe\">\n",
       "  <thead>\n",
       "    <tr style=\"text-align: right;\">\n",
       "      <th></th>\n",
       "      <th>0</th>\n",
       "    </tr>\n",
       "  </thead>\n",
       "  <tbody>\n",
       "    <tr>\n",
       "      <th>count</th>\n",
       "      <td>5.583910e+07</td>\n",
       "    </tr>\n",
       "    <tr>\n",
       "      <th>mean</th>\n",
       "      <td>6.572690e+02</td>\n",
       "    </tr>\n",
       "    <tr>\n",
       "      <th>std</th>\n",
       "      <td>3.759977e+02</td>\n",
       "    </tr>\n",
       "    <tr>\n",
       "      <th>min</th>\n",
       "      <td>2.000000e+01</td>\n",
       "    </tr>\n",
       "    <tr>\n",
       "      <th>25%</th>\n",
       "      <td>3.740000e+02</td>\n",
       "    </tr>\n",
       "    <tr>\n",
       "      <th>50%</th>\n",
       "      <td>6.000000e+02</td>\n",
       "    </tr>\n",
       "    <tr>\n",
       "      <th>75%</th>\n",
       "      <td>8.680000e+02</td>\n",
       "    </tr>\n",
       "    <tr>\n",
       "      <th>max</th>\n",
       "      <td>3.756000e+03</td>\n",
       "    </tr>\n",
       "  </tbody>\n",
       "</table>\n",
       "</div>"
      ],
      "text/plain": [
       "                  0\n",
       "count  5.583910e+07\n",
       "mean   6.572690e+02\n",
       "std    3.759977e+02\n",
       "min    2.000000e+01\n",
       "25%    3.740000e+02\n",
       "50%    6.000000e+02\n",
       "75%    8.680000e+02\n",
       "max    3.756000e+03"
      ]
     },
     "execution_count": 7,
     "metadata": {},
     "output_type": "execute_result"
    }
   ],
   "source": [
    "masses = [int(__) for _ in df_ms2.Masses.values for __ in list(map(float, _.split(';')))]\n",
    "pd.DataFrame(masses).describe()"
   ]
  },
  {
   "cell_type": "code",
   "execution_count": 8,
   "metadata": {
    "ExecuteTime": {
     "end_time": "2021-10-17T13:50:32.767691Z",
     "start_time": "2021-10-17T13:47:54.334527Z"
    }
   },
   "outputs": [
    {
     "name": "stderr",
     "output_type": "stream",
     "text": [
      "/home/bis/miniconda3/envs/bis/lib/python3.6/site-packages/seaborn/_decorators.py:43: FutureWarning: Pass the following variable as a keyword arg: x. From version 0.12, the only valid positional argument will be `data`, and passing other arguments without an explicit keyword will result in an error or misinterpretation.\n",
      "  FutureWarning\n"
     ]
    },
    {
     "data": {
      "image/png": "[encoded data removed]",
      "text/plain": [
       "<Figure size 1080x288 with 1 Axes>"
      ]
     },
     "metadata": {
      "needs_background": "light"
     },
     "output_type": "display_data"
    }
   ],
   "source": [
    "plt.figure(figsize=(15,4))\n",
    "sns.violinplot(masses)  # 2000DA 까지 사용\n",
    "plt.title('MS2 prediction m/z distribution')\n",
    "plt.show()"
   ]
  },
  {
   "cell_type": "code",
   "execution_count": 9,
   "metadata": {
    "ExecuteTime": {
     "end_time": "2021-10-17T13:52:31.503419Z",
     "start_time": "2021-10-17T13:50:32.769466Z"
    }
   },
   "outputs": [],
   "source": [
    "cols = ['Intensities', 'Masses', 'Modified Sequence', 'Charge']\n",
    "pep2cmzint = {p:[c, m, i] for i, m, p, c in df_ms2[cols].values}\n",
    "\n",
    "get_idx = lambda x: int(round(float(x), 2)*100)\n",
    "\n",
    "def get_spectrum(pep2cmzint):\n",
    "    pep2tensor = dict()\n",
    "    for pep, (c, m, i) in pep2cmzint.items():\n",
    "        tensor = np.zeros((5, 100000))\n",
    "        i = np.array(list(map(float, i.split(';'))))\n",
    "        m2idx = np.array(list(map(get_idx, m.split(';'))))\n",
    "        idx2inten = {k:v for k, v in zip(m2idx, i) if k <= 100000-1}  # Dalton 제한\n",
    "        \n",
    "        row_idx = c-1\n",
    "        col_idx = np.array(list(idx2inten.keys()))\n",
    "        val = np.array(list(idx2inten.values()))\n",
    "        tensor[row_idx, col_idx] = val\n",
    "        \n",
    "        pep2tensor[pep]=tensor\n",
    "    return pep2tensor\n",
    "\n",
    "pep2tensor = get_spectrum(pep2cmzint)"
   ]
  },
  {
   "cell_type": "code",
   "execution_count": 12,
   "metadata": {
    "ExecuteTime": {
     "end_time": "2021-10-17T14:44:44.873074Z",
     "start_time": "2021-10-17T14:44:44.870044Z"
    }
   },
   "outputs": [
    {
     "data": {
      "text/plain": [
       "492693"
      ]
     },
     "execution_count": 12,
     "metadata": {},
     "output_type": "execute_result"
    }
   ],
   "source": [
    "len(pep2tensor)"
   ]
  },
  {
   "cell_type": "code",
   "execution_count": 13,
   "metadata": {
    "ExecuteTime": {
     "end_time": "2021-10-17T14:44:56.490801Z",
     "start_time": "2021-10-17T14:44:56.477667Z"
    }
   },
   "outputs": [
    {
     "data": {
      "text/plain": [
       "'RISPARETR'"
      ]
     },
     "execution_count": 13,
     "metadata": {},
     "output_type": "execute_result"
    }
   ],
   "source": [
    "list(pep2tensor.keys())[0]"
   ]
  },
  {
   "cell_type": "code",
   "execution_count": 14,
   "metadata": {
    "ExecuteTime": {
     "end_time": "2021-10-17T14:45:02.282311Z",
     "start_time": "2021-10-17T14:45:02.261987Z"
    }
   },
   "outputs": [
    {
     "data": {
      "text/plain": [
       "array([[0., 0., 0., ..., 0., 0., 0.],\n",
       "       [0., 0., 0., ..., 0., 0., 0.],\n",
       "       [0., 0., 0., ..., 0., 0., 0.],\n",
       "       [0., 0., 0., ..., 0., 0., 0.],\n",
       "       [0., 0., 0., ..., 0., 0., 0.]])"
      ]
     },
     "execution_count": 14,
     "metadata": {},
     "output_type": "execute_result"
    }
   ],
   "source": [
    "list(pep2tensor.values())[0]"
   ]
  },
  {
   "cell_type": "code",
   "execution_count": null,
   "metadata": {},
   "outputs": [],
   "source": []
  }
 ],
 "metadata": {
  "kernelspec": {
   "display_name": "TF2.0",
   "language": "python",
   "name": "bis"
  },
  "language_info": {
   "codemirror_mode": {
    "name": "ipython",
    "version": 3
   },
   "file_extension": ".py",
   "mimetype": "text/x-python",
   "name": "python",
   "nbconvert_exporter": "python",
   "pygments_lexer": "ipython3",
   "version": "3.6.12"
  }
 },
 "nbformat": 4,
 "nbformat_minor": 4
}
