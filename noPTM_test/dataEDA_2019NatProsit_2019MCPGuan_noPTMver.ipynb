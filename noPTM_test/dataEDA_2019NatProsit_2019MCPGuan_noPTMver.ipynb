{
 "cells": [
  {
   "cell_type": "code",
   "execution_count": 3,
   "metadata": {
    "ExecuteTime": {
     "end_time": "2021-09-30T18:06:47.921006Z",
     "start_time": "2021-09-30T18:06:45.350057Z"
    }
   },
   "outputs": [],
   "source": [
    "import tensorflow as tf\n",
    "import pickle\n",
    "import numpy as np\n",
    "from tensorflow.keras import models\n",
    "from tensorflow.keras import layers"
   ]
  },
  {
   "cell_type": "code",
   "execution_count": 10,
   "metadata": {
    "ExecuteTime": {
     "end_time": "2021-09-30T18:23:46.480018Z",
     "start_time": "2021-09-30T18:23:46.477794Z"
    }
   },
   "outputs": [],
   "source": [
    "import pandas as pd"
   ]
  },
  {
   "cell_type": "markdown",
   "metadata": {},
   "source": [
    "# charge prediction"
   ]
  },
  {
   "cell_type": "code",
   "execution_count": 11,
   "metadata": {
    "ExecuteTime": {
     "end_time": "2021-09-30T18:25:08.472632Z",
     "start_time": "2021-09-30T18:24:25.085806Z"
    }
   },
   "outputs": [],
   "source": [
    "df_kb = pd.read_csv('../data/massIVE-KB/df_kb_noptm.csv')"
   ]
  },
  {
   "cell_type": "code",
   "execution_count": 12,
   "metadata": {
    "ExecuteTime": {
     "end_time": "2021-09-30T18:25:08.492010Z",
     "start_time": "2021-09-30T18:25:08.476007Z"
    }
   },
   "outputs": [
    {
     "name": "stdout",
     "output_type": "stream",
     "text": [
      "(1163969, 6)\n"
     ]
    },
    {
     "data": {
      "text/html": [
       "<div>\n",
       "<style scoped>\n",
       "    .dataframe tbody tr th:only-of-type {\n",
       "        vertical-align: middle;\n",
       "    }\n",
       "\n",
       "    .dataframe tbody tr th {\n",
       "        vertical-align: top;\n",
       "    }\n",
       "\n",
       "    .dataframe thead th {\n",
       "        text-align: right;\n",
       "    }\n",
       "</style>\n",
       "<table border=\"1\" class=\"dataframe\">\n",
       "  <thead>\n",
       "    <tr style=\"text-align: right;\">\n",
       "      <th></th>\n",
       "      <th>CHARGE</th>\n",
       "      <th>PEPTIDE</th>\n",
       "      <th>PROTEINS</th>\n",
       "      <th>SPECTRAL_CNT</th>\n",
       "      <th>MZ</th>\n",
       "      <th>INTENSITY</th>\n",
       "    </tr>\n",
       "  </thead>\n",
       "  <tbody>\n",
       "    <tr>\n",
       "      <th>0</th>\n",
       "      <td>2</td>\n",
       "      <td>HGYIPGK</td>\n",
       "      <td>sp|Q9ULV4|COR1C_HUMAN</td>\n",
       "      <td>20</td>\n",
       "      <td>110.07217407226562;110.0797119140625;111.07563...</td>\n",
       "      <td>109124.765625;3682.905029296875;3920.083740234...</td>\n",
       "    </tr>\n",
       "    <tr>\n",
       "      <th>1</th>\n",
       "      <td>2</td>\n",
       "      <td>KEGLSFNK</td>\n",
       "      <td>sp|Q6UVY6|MOXD1_HUMAN</td>\n",
       "      <td>4</td>\n",
       "      <td>101.10691833496094;102.05462646484375;110.0711...</td>\n",
       "      <td>561.285400390625;362.3951110839844;388.3195495...</td>\n",
       "    </tr>\n",
       "  </tbody>\n",
       "</table>\n",
       "</div>"
      ],
      "text/plain": [
       "   CHARGE   PEPTIDE               PROTEINS  SPECTRAL_CNT  \\\n",
       "0       2   HGYIPGK  sp|Q9ULV4|COR1C_HUMAN            20   \n",
       "1       2  KEGLSFNK  sp|Q6UVY6|MOXD1_HUMAN             4   \n",
       "\n",
       "                                                  MZ  \\\n",
       "0  110.07217407226562;110.0797119140625;111.07563...   \n",
       "1  101.10691833496094;102.05462646484375;110.0711...   \n",
       "\n",
       "                                           INTENSITY  \n",
       "0  109124.765625;3682.905029296875;3920.083740234...  \n",
       "1  561.285400390625;362.3951110839844;388.3195495...  "
      ]
     },
     "execution_count": 12,
     "metadata": {},
     "output_type": "execute_result"
    }
   ],
   "source": [
    "print(df_kb.shape)\n",
    "df_kb.head(2)"
   ]
  },
  {
   "cell_type": "code",
   "execution_count": 13,
   "metadata": {
    "ExecuteTime": {
     "end_time": "2021-09-30T18:27:08.384017Z",
     "start_time": "2021-09-30T18:27:04.987106Z"
    }
   },
   "outputs": [],
   "source": [
    "pep2charge = dict()\n",
    "for p, c in df_kb[['PEPTIDE', 'CHARGE']].values:\n",
    "    if p not in pep2charge:\n",
    "        pep2charge[p] = [0, 0, 0, 0, 0, 0]\n",
    "    charge_idx = c-1\n",
    "    pep2charge[p][charge_idx] += 1"
   ]
  },
  {
   "cell_type": "code",
   "execution_count": null,
   "metadata": {},
   "outputs": [],
   "source": []
  },
  {
   "cell_type": "code",
   "execution_count": null,
   "metadata": {},
   "outputs": [],
   "source": []
  },
  {
   "cell_type": "code",
   "execution_count": null,
   "metadata": {},
   "outputs": [],
   "source": [
    "pep_data = "
   ]
  },
  {
   "cell_type": "code",
   "execution_count": null,
   "metadata": {},
   "outputs": [],
   "source": [
    "def label2onehot(pep_list):\n",
    "    pep_data = [[[1 if aa == a else 0 for a in 'ARNDCQEGHILKMFPSTWYV']\n",
    "             for aa in seq] + [[0]*20]*(30-len(seq))\n",
    "             for seq in pep]\n",
    "    return np.array(pep_data)"
   ]
  },
  {
   "cell_type": "code",
   "execution_count": 24,
   "metadata": {
    "ExecuteTime": {
     "end_time": "2021-09-30T18:33:07.104326Z",
     "start_time": "2021-09-30T18:33:07.095378Z"
    }
   },
   "outputs": [],
   "source": [
    "def reshapeOneHot(X):\n",
    "    X = np.dstack(X)\n",
    "    X = np.swapaxes(X, 1, 2)\n",
    "    X = np.swapaxes(X, 0, 1)\n",
    "    return X\n",
    "\n",
    "def one_hot_encode_peptide(peptide, MAX_LENGTH = 30):\n",
    "    if len(peptide) > MAX_LENGTH:\n",
    "        print('Peptide length is larger than maximal length of ', str(MAX_LENGTH))\n",
    "        return None\n",
    "    else:\n",
    "        AA_vocabulary = 'KRPTNAQVSGILCMJHFYWEDBXOU'#B: acetyl; O: Carbamyl; J: oxidized Met; X:pyro_glu\n",
    "        no_not_used_aas = 1#U: not used\n",
    "\n",
    "        one_hot_peptide = np.zeros((len(peptide), len(AA_vocabulary) - no_not_used_aas))\n",
    "\n",
    "        for j in range(0, len(peptide)):\n",
    "            try:\n",
    "                aa = peptide[j]\n",
    "                one_hot_peptide[j, AA_vocabulary.index(aa)] = 1\n",
    "            except:\n",
    "                pass\n",
    "        \n",
    "        no_front_paddings = int((MAX_LENGTH - len(peptide))/2)\n",
    "        peptide_front_paddings = np.zeros((no_front_paddings, one_hot_peptide.shape[1]))\n",
    "\n",
    "        no_back_paddings = MAX_LENGTH - len(peptide) - no_front_paddings\n",
    "        peptide_back_paddings = np.zeros((no_back_paddings, one_hot_peptide.shape[1]))\n",
    "\n",
    "        full_one_hot_peptide = np.vstack((peptide_front_paddings, one_hot_peptide, peptide_back_paddings))\n",
    "\n",
    "        return peptide, full_one_hot_peptide\n",
    "\n",
    "seq = '(Acetyl)-AC(Carbamidomethyl)DEM(Oxidation)NN(Deamidated)QQ(Deamidated)K'\n",
    "ohc_seq = one_hot_encode_peptide(seq)"
   ]
  },
  {
   "cell_type": "code",
   "execution_count": 35,
   "metadata": {
    "ExecuteTime": {
     "end_time": "2021-10-01T04:17:13.220860Z",
     "start_time": "2021-10-01T04:17:12.344870Z"
    }
   },
   "outputs": [
    {
     "name": "stdout",
     "output_type": "stream",
     "text": [
      "Model: \"sequential\"\n",
      "_________________________________________________________________\n",
      "Layer (type)                 Output Shape              Param #   \n",
      "=================================================================\n",
      "masking (Masking)            (None, None, 23)          0         \n",
      "_________________________________________________________________\n",
      "bidirectional (Bidirectional (None, None, 512)         573440    \n",
      "_________________________________________________________________\n",
      "bidirectional_1 (Bidirection (None, 512)               1574912   \n",
      "_________________________________________________________________\n",
      "dense (Dense)                (None, 256)               131328    \n",
      "_________________________________________________________________\n",
      "dense_1 (Dense)              (None, 5)                 1285      \n",
      "=================================================================\n",
      "Total params: 2,280,965\n",
      "Trainable params: 2,280,965\n",
      "Non-trainable params: 0\n",
      "_________________________________________________________________\n",
      "None\n"
     ]
    }
   ],
   "source": [
    "from tensorflow.keras import models\n",
    "from tensorflow.keras import layers\n",
    "\n",
    "network = models.Sequential()\n",
    "network.add(layers.Masking(mask_value=0., input_shape=(None, training_X.shape[2])))\n",
    "network.add(layers.Bidirectional(layers.LSTM(256,\n",
    "\t\t\t \t\t     dropout=0.1,\n",
    "\t\t\t\t\t     recurrent_dropout=0.5,  \n",
    "\t\t\t\t\t     return_sequences=True)))\n",
    "network.add(layers.Bidirectional(layers.LSTM(256,\n",
    "\t\t\t \t\t     dropout=0.1,\n",
    "\t\t\t\t\t     recurrent_dropout=0.5)))\n",
    "network.add(layers.Dense(256, activation='tanh'))\n",
    "network.add(layers.Dense(5, activation='softmax'))\n",
    "print(network.summary())"
   ]
  },
  {
   "cell_type": "code",
   "execution_count": null,
   "metadata": {},
   "outputs": [],
   "source": [
    "network.compile(optimizer='adam', loss='mean_squared_error')\n",
    "history = network.fit(training_X, \n",
    "\t\t      training_y, \n",
    "\t\t      epochs=150, \n",
    "\t\t      batch_size=1024,\n",
    "\t\t      validation_split=0.2)\n",
    "\n",
    "cost = network.evaluate(testing_X, testing_y, batch_size=1024)\n",
    "print('test cost:', cost)"
   ]
  },
  {
   "cell_type": "code",
   "execution_count": null,
   "metadata": {},
   "outputs": [],
   "source": []
  }
 ],
 "metadata": {
  "kernelspec": {
   "display_name": "TF2.0",
   "language": "python",
   "name": "bis"
  },
  "language_info": {
   "codemirror_mode": {
    "name": "ipython",
    "version": 3
   },
   "file_extension": ".py",
   "mimetype": "text/x-python",
   "name": "python",
   "nbconvert_exporter": "python",
   "pygments_lexer": "ipython3",
   "version": "3.6.12"
  }
 },
 "nbformat": 4,
 "nbformat_minor": 4
}
