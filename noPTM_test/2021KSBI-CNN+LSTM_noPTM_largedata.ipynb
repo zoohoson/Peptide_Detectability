{
 "cells": [
  {
   "cell_type": "code",
   "execution_count": 4,
   "metadata": {
    "ExecuteTime": {
     "end_time": "2021-10-04T17:47:04.749646Z",
     "start_time": "2021-10-04T17:47:04.746169Z"
    }
   },
   "outputs": [],
   "source": [
    "import warnings\n",
    "warnings.simplefilter(action='ignore', category=FutureWarning)\n",
    "\n",
    "import argparse\n",
    "import numpy as np\n",
    "from tensorflow import keras"
   ]
  },
  {
   "cell_type": "code",
   "execution_count": 5,
   "metadata": {
    "ExecuteTime": {
     "end_time": "2021-10-04T17:47:04.918956Z",
     "start_time": "2021-10-04T17:47:04.915512Z"
    }
   },
   "outputs": [],
   "source": [
    "import tensorflow as tf\n",
    "gpus = tf.config.experimental.list_physical_devices('GPU')\n",
    "if gpus:\n",
    "    try:\n",
    "        tf.config.experimental.set_virtual_device_configuration(gpus[0],\n",
    "        [tf.config.experimental.VirtualDeviceConfiguration(memory_limit=1024*4)])\n",
    "    except RuntimeError as e:\n",
    "        print(e)"
   ]
  },
  {
   "cell_type": "code",
   "execution_count": 6,
   "metadata": {
    "ExecuteTime": {
     "end_time": "2021-10-04T17:47:05.107413Z",
     "start_time": "2021-10-04T17:47:05.101900Z"
    }
   },
   "outputs": [],
   "source": [
    "def load_pep_and_codify(file, max_len):\n",
    "    aa_dict={'A':1,'R':2,'N':3,'D':4,'C':5,'Q':6,'E':7,'G':8,'H':9,'I':10,'L':11,'K':12,'M':13,'F':14,\n",
    "        'P':15,'O':16,'S':17,'U':18,'T':19,'W':20,'Y':21,'V':22}\n",
    "    with open(file, 'r') as inf:\n",
    "        lines = inf.read().splitlines()\n",
    "    pep_codes=[]\n",
    "    long_pep_counter = 0\n",
    "    newLines = []\n",
    "    for pep in lines:\n",
    "        if not len(pep) > max_len:\n",
    "            current_pep=[]\n",
    "            for aa in pep:\n",
    "                current_pep.append(aa_dict[aa])\n",
    "            pep_codes.append(current_pep)\n",
    "            newLines.extend([pep])\n",
    "        else:\n",
    "            long_pep_counter += 1\n",
    "    predict_data = keras.preprocessing.sequence.pad_sequences(pep_codes, value=0, padding='post', maxlen=max_len)\n",
    "    return predict_data, long_pep_counter, newLines"
   ]
  },
  {
   "cell_type": "markdown",
   "metadata": {},
   "source": [
    "# New Train"
   ]
  },
  {
   "cell_type": "code",
   "execution_count": 7,
   "metadata": {
    "ExecuteTime": {
     "end_time": "2021-10-04T17:47:10.136824Z",
     "start_time": "2021-10-04T17:47:07.710200Z"
    }
   },
   "outputs": [
    {
     "name": "stdout",
     "output_type": "stream",
     "text": [
      "Model: \"sequential\"\n",
      "_________________________________________________________________\n",
      "Layer (type)                 Output Shape              Param #   \n",
      "=================================================================\n",
      "embedding (Embedding)        (None, 30, 50)            1150      \n",
      "_________________________________________________________________\n",
      "dropout (Dropout)            (None, 30, 50)            0         \n",
      "_________________________________________________________________\n",
      "conv1d (Conv1D)              (None, 30, 128)           19328     \n",
      "_________________________________________________________________\n",
      "conv1d_1 (Conv1D)            (None, 29, 64)            16448     \n",
      "_________________________________________________________________\n",
      "lstm (LSTM)                  (None, 64)                33024     \n",
      "_________________________________________________________________\n",
      "dense (Dense)                (None, 64)                4160      \n",
      "_________________________________________________________________\n",
      "dropout_1 (Dropout)          (None, 64)                0         \n",
      "_________________________________________________________________\n",
      "dense_1 (Dense)              (None, 1)                 65        \n",
      "=================================================================\n",
      "Total params: 74,175\n",
      "Trainable params: 74,175\n",
      "Non-trainable params: 0\n",
      "_________________________________________________________________\n"
     ]
    }
   ],
   "source": [
    "model = tf.keras.Sequential([\n",
    "    # vacabulary size 23 (22 AminoAcid + zero padding)\n",
    "    # embedding vector size 50\n",
    "    # input length (including padding) 30 ( 81 to 30)\n",
    "    tf.keras.layers.Embedding(23, 50, input_length=30),\n",
    "    tf.keras.layers.Dropout(np.random.uniform(0, 0.2)),\n",
    "    tf.keras.layers.Conv1D(filters=128, kernel_size=3, strides=1, padding='same'),\n",
    "    tf.keras.layers.Conv1D(filters=64, kernel_size=2, strides=1),\n",
    "    \n",
    "    tf.keras.layers.LSTM(64),\n",
    "    \n",
    "    tf.keras.layers.Dense(64, activation='relu'),\n",
    "    tf.keras.layers.Dropout(np.random.uniform(0, 0.2)),\n",
    "    tf.keras.layers.Dense(1, activation='sigmoid')\n",
    "])\n",
    "model.summary()\n",
    "\n",
    "model.compile(loss=tf.keras.losses.BinaryCrossentropy(from_logits=True),\n",
    "              optimizer=tf.keras.optimizers.Adam(1e-4),\n",
    "              metrics=['accuracy'])\n",
    "\n",
    "es = tf.keras.callbacks.EarlyStopping(monitor='val_loss',\n",
    "                                      mode='min', \n",
    "                                      verbose=1,\n",
    "                                      patience=20)"
   ]
  },
  {
   "cell_type": "markdown",
   "metadata": {},
   "source": [
    "# 1. Make Data X_train, y_train, X_test, y_test"
   ]
  },
  {
   "cell_type": "code",
   "execution_count": 8,
   "metadata": {
    "ExecuteTime": {
     "end_time": "2021-10-04T17:47:11.229844Z",
     "start_time": "2021-10-04T17:47:10.620419Z"
    }
   },
   "outputs": [],
   "source": [
    "import matplotlib.pyplot as plt\n",
    "import pandas as pd\n",
    "from sklearn.model_selection import train_test_split\n",
    "\n",
    "file_path = '../compareModel/2019Bioinformatics_DeepMSPeptide/DeepMSPeptide/'"
   ]
  },
  {
   "cell_type": "code",
   "execution_count": 9,
   "metadata": {
    "ExecuteTime": {
     "end_time": "2021-10-04T17:47:31.689426Z",
     "start_time": "2021-10-04T17:47:27.031923Z"
    }
   },
   "outputs": [
    {
     "name": "stdout",
     "output_type": "stream",
     "text": [
      "Loading input peptides\n",
      "Succesfully loaded 421474 peptides and skipped 0\n",
      "Loading input peptides\n",
      "Succesfully loaded 88998 peptides and skipped 0\n",
      "(337179, 30) (84295, 30) (88998, 30) (337179,) (84295,) (88998,)\n"
     ]
    }
   ],
   "source": [
    "# make DeepMSpeptide format\n",
    "args = file_path + 'detect_peptide_train_noptm_largedata.txt'\n",
    "print('Loading input peptides')\n",
    "X_train, skipped, lines = load_pep_and_codify(args, 30)\n",
    "tmp = open(file_path+'detect_peptide_train_y_noptm_largedata.txt')\n",
    "y_train = np.array([int(_.replace('\\n', '')) for _ in tmp.readlines()])\n",
    "tmp.close()\n",
    "print('Succesfully loaded {0} peptides and skipped {1}'.format(len(lines), str(skipped)))\n",
    "\n",
    "args = file_path + 'detect_peptide_test_noptm_largedata.txt'\n",
    "print('Loading input peptides')\n",
    "X_test, skipped, lines = load_pep_and_codify(args, 30)\n",
    "tmp = open(file_path+'detect_peptide_test_y_noptm_largedata.txt')\n",
    "y_test = np.array([int(_.replace('\\n', '')) for _ in tmp.readlines()])\n",
    "tmp.close()\n",
    "print('Succesfully loaded {0} peptides and skipped {1}'.format(len(lines), str(skipped)))\n",
    "\n",
    "X_train, X_val, y_train, y_val = train_test_split(X_train, y_train, test_size=0.2)\n",
    "print(X_train.shape, X_val.shape, X_test.shape, y_train.shape, y_val.shape, y_test.shape)\n"
   ]
  },
  {
   "cell_type": "markdown",
   "metadata": {},
   "source": [
    "# 2. train"
   ]
  },
  {
   "cell_type": "code",
   "execution_count": 10,
   "metadata": {
    "ExecuteTime": {
     "end_time": "2021-10-04T17:47:34.505590Z",
     "start_time": "2021-10-04T17:47:34.502168Z"
    }
   },
   "outputs": [],
   "source": [
    "def plot_graphs(history, metric):\n",
    "    plt.plot(history.history[metric])\n",
    "    plt.plot(history.history['val_'+metric], '')\n",
    "    plt.xlabel(\"Epochs\")\n",
    "    plt.ylabel(metric)\n",
    "    plt.legend([metric, 'val_'+metric])"
   ]
  },
  {
   "cell_type": "code",
   "execution_count": 11,
   "metadata": {
    "ExecuteTime": {
     "end_time": "2021-10-04T20:53:31.904763Z",
     "start_time": "2021-10-04T17:47:36.341646Z"
    }
   },
   "outputs": [
    {
     "name": "stdout",
     "output_type": "stream",
     "text": [
      "Epoch 1/200\n",
      "3372/3372 [==============================] - 137s 38ms/step - loss: 0.5069 - accuracy: 0.7269 - val_loss: 0.3798 - val_accuracy: 0.8221\n",
      "Epoch 2/200\n",
      "3372/3372 [==============================] - 127s 38ms/step - loss: 0.3829 - accuracy: 0.8200 - val_loss: 0.3740 - val_accuracy: 0.8264\n",
      "Epoch 3/200\n",
      "3372/3372 [==============================] - 127s 38ms/step - loss: 0.3662 - accuracy: 0.8306 - val_loss: 0.3488 - val_accuracy: 0.8406\n",
      "Epoch 4/200\n",
      "3372/3372 [==============================] - 126s 37ms/step - loss: 0.3533 - accuracy: 0.8390 - val_loss: 0.3415 - val_accuracy: 0.8460\n",
      "Epoch 5/200\n",
      "3372/3372 [==============================] - 127s 38ms/step - loss: 0.3478 - accuracy: 0.8417 - val_loss: 0.3417 - val_accuracy: 0.8450\n",
      "Epoch 6/200\n",
      "3372/3372 [==============================] - 126s 37ms/step - loss: 0.3462 - accuracy: 0.8431 - val_loss: 0.3385 - val_accuracy: 0.8479\n",
      "Epoch 7/200\n",
      "3372/3372 [==============================] - 127s 38ms/step - loss: 0.3427 - accuracy: 0.8455 - val_loss: 0.3366 - val_accuracy: 0.8487\n",
      "Epoch 8/200\n",
      "3372/3372 [==============================] - 126s 37ms/step - loss: 0.3384 - accuracy: 0.8468 - val_loss: 0.3384 - val_accuracy: 0.8482\n",
      "Epoch 9/200\n",
      "3372/3372 [==============================] - 127s 38ms/step - loss: 0.3383 - accuracy: 0.8471 - val_loss: 0.3341 - val_accuracy: 0.8499\n",
      "Epoch 10/200\n",
      "3372/3372 [==============================] - 127s 38ms/step - loss: 0.3362 - accuracy: 0.8486 - val_loss: 0.3286 - val_accuracy: 0.8526\n",
      "Epoch 11/200\n",
      "3372/3372 [==============================] - 126s 37ms/step - loss: 0.3332 - accuracy: 0.8503 - val_loss: 0.3284 - val_accuracy: 0.8533\n",
      "Epoch 12/200\n",
      "3372/3372 [==============================] - 127s 38ms/step - loss: 0.3347 - accuracy: 0.8497 - val_loss: 0.3273 - val_accuracy: 0.8542\n",
      "Epoch 13/200\n",
      "3372/3372 [==============================] - 126s 38ms/step - loss: 0.3320 - accuracy: 0.8509 - val_loss: 0.3261 - val_accuracy: 0.8546\n",
      "Epoch 14/200\n",
      "3372/3372 [==============================] - 127s 38ms/step - loss: 0.3321 - accuracy: 0.8513 - val_loss: 0.3251 - val_accuracy: 0.8557\n",
      "Epoch 15/200\n",
      "3372/3372 [==============================] - 127s 38ms/step - loss: 0.3294 - accuracy: 0.8517 - val_loss: 0.3254 - val_accuracy: 0.8549\n",
      "Epoch 16/200\n",
      "3372/3372 [==============================] - 127s 38ms/step - loss: 0.3294 - accuracy: 0.8521 - val_loss: 0.3237 - val_accuracy: 0.8560\n",
      "Epoch 17/200\n",
      "3372/3372 [==============================] - 127s 38ms/step - loss: 0.3303 - accuracy: 0.8521 - val_loss: 0.3254 - val_accuracy: 0.8558\n",
      "Epoch 18/200\n",
      "3372/3372 [==============================] - 126s 37ms/step - loss: 0.3267 - accuracy: 0.8538 - val_loss: 0.3243 - val_accuracy: 0.8554\n",
      "Epoch 19/200\n",
      "3372/3372 [==============================] - 128s 38ms/step - loss: 0.3266 - accuracy: 0.8543 - val_loss: 0.3241 - val_accuracy: 0.8562\n",
      "Epoch 20/200\n",
      "3372/3372 [==============================] - 126s 37ms/step - loss: 0.3266 - accuracy: 0.8544 - val_loss: 0.3231 - val_accuracy: 0.8566\n",
      "Epoch 21/200\n",
      "3372/3372 [==============================] - 127s 38ms/step - loss: 0.3268 - accuracy: 0.8536 - val_loss: 0.3226 - val_accuracy: 0.8567\n",
      "Epoch 22/200\n",
      "3372/3372 [==============================] - 126s 37ms/step - loss: 0.3249 - accuracy: 0.8548 - val_loss: 0.3219 - val_accuracy: 0.8572\n",
      "Epoch 23/200\n",
      "3372/3372 [==============================] - 128s 38ms/step - loss: 0.3240 - accuracy: 0.8552 - val_loss: 0.3211 - val_accuracy: 0.8571\n",
      "Epoch 24/200\n",
      "3372/3372 [==============================] - 126s 37ms/step - loss: 0.3244 - accuracy: 0.8552 - val_loss: 0.3208 - val_accuracy: 0.8576\n",
      "Epoch 25/200\n",
      "3372/3372 [==============================] - 126s 37ms/step - loss: 0.3241 - accuracy: 0.8559 - val_loss: 0.3190 - val_accuracy: 0.8589\n",
      "Epoch 26/200\n",
      "3372/3372 [==============================] - 127s 38ms/step - loss: 0.3205 - accuracy: 0.8572 - val_loss: 0.3190 - val_accuracy: 0.8587\n",
      "Epoch 27/200\n",
      "3372/3372 [==============================] - 126s 37ms/step - loss: 0.3202 - accuracy: 0.8572 - val_loss: 0.3213 - val_accuracy: 0.8574\n",
      "Epoch 28/200\n",
      "3372/3372 [==============================] - 127s 38ms/step - loss: 0.3195 - accuracy: 0.8576 - val_loss: 0.3190 - val_accuracy: 0.8593\n",
      "Epoch 29/200\n",
      "3372/3372 [==============================] - 126s 37ms/step - loss: 0.3215 - accuracy: 0.8565 - val_loss: 0.3180 - val_accuracy: 0.8600\n",
      "Epoch 30/200\n",
      "3372/3372 [==============================] - 127s 38ms/step - loss: 0.3201 - accuracy: 0.8577 - val_loss: 0.3177 - val_accuracy: 0.8598\n",
      "Epoch 31/200\n",
      "3372/3372 [==============================] - 127s 38ms/step - loss: 0.3190 - accuracy: 0.8587 - val_loss: 0.3191 - val_accuracy: 0.8583\n",
      "Epoch 32/200\n",
      "3372/3372 [==============================] - 126s 37ms/step - loss: 0.3175 - accuracy: 0.8587 - val_loss: 0.3181 - val_accuracy: 0.8590\n",
      "Epoch 33/200\n",
      "3372/3372 [==============================] - 127s 38ms/step - loss: 0.3182 - accuracy: 0.8580 - val_loss: 0.3177 - val_accuracy: 0.8600\n",
      "Epoch 34/200\n",
      "3372/3372 [==============================] - 126s 37ms/step - loss: 0.3177 - accuracy: 0.8596 - val_loss: 0.3182 - val_accuracy: 0.8590\n",
      "Epoch 35/200\n",
      "3372/3372 [==============================] - 127s 38ms/step - loss: 0.3162 - accuracy: 0.8594 - val_loss: 0.3152 - val_accuracy: 0.8604\n",
      "Epoch 36/200\n",
      "3372/3372 [==============================] - 127s 38ms/step - loss: 0.3141 - accuracy: 0.8612 - val_loss: 0.3208 - val_accuracy: 0.8578\n",
      "Epoch 37/200\n",
      "3372/3372 [==============================] - 127s 38ms/step - loss: 0.3171 - accuracy: 0.8595 - val_loss: 0.3150 - val_accuracy: 0.8612\n",
      "Epoch 38/200\n",
      "3372/3372 [==============================] - 127s 38ms/step - loss: 0.3142 - accuracy: 0.8609 - val_loss: 0.3159 - val_accuracy: 0.8611\n",
      "Epoch 39/200\n",
      "3372/3372 [==============================] - 125s 37ms/step - loss: 0.3161 - accuracy: 0.8595 - val_loss: 0.3146 - val_accuracy: 0.8606\n",
      "Epoch 40/200\n",
      "3372/3372 [==============================] - 118s 35ms/step - loss: 0.3144 - accuracy: 0.8604 - val_loss: 0.3146 - val_accuracy: 0.8614\n",
      "Epoch 41/200\n",
      "3372/3372 [==============================] - 117s 35ms/step - loss: 0.3148 - accuracy: 0.8613 - val_loss: 0.3155 - val_accuracy: 0.8610\n",
      "Epoch 42/200\n",
      "3372/3372 [==============================] - 118s 35ms/step - loss: 0.3138 - accuracy: 0.8607 - val_loss: 0.3130 - val_accuracy: 0.8611\n",
      "Epoch 43/200\n",
      "3372/3372 [==============================] - 117s 35ms/step - loss: 0.3142 - accuracy: 0.8604 - val_loss: 0.3143 - val_accuracy: 0.8612\n",
      "Epoch 44/200\n",
      "3372/3372 [==============================] - 118s 35ms/step - loss: 0.3136 - accuracy: 0.8611 - val_loss: 0.3141 - val_accuracy: 0.8607\n",
      "Epoch 45/200\n",
      "3372/3372 [==============================] - 117s 35ms/step - loss: 0.3139 - accuracy: 0.8610 - val_loss: 0.3139 - val_accuracy: 0.8603\n",
      "Epoch 46/200\n",
      "3372/3372 [==============================] - 117s 35ms/step - loss: 0.3119 - accuracy: 0.8621 - val_loss: 0.3141 - val_accuracy: 0.8610\n",
      "Epoch 47/200\n",
      "3372/3372 [==============================] - 118s 35ms/step - loss: 0.3113 - accuracy: 0.8619 - val_loss: 0.3136 - val_accuracy: 0.8609\n",
      "Epoch 48/200\n",
      "3372/3372 [==============================] - 117s 35ms/step - loss: 0.3127 - accuracy: 0.8616 - val_loss: 0.3147 - val_accuracy: 0.8604\n",
      "Epoch 49/200\n",
      "3372/3372 [==============================] - 117s 35ms/step - loss: 0.3093 - accuracy: 0.8634 - val_loss: 0.3143 - val_accuracy: 0.8609\n",
      "Epoch 50/200\n",
      "3372/3372 [==============================] - 116s 34ms/step - loss: 0.3118 - accuracy: 0.8616 - val_loss: 0.3134 - val_accuracy: 0.8611\n",
      "Epoch 51/200\n",
      "3372/3372 [==============================] - 118s 35ms/step - loss: 0.3091 - accuracy: 0.8631 - val_loss: 0.3129 - val_accuracy: 0.8616\n",
      "Epoch 52/200\n",
      "3372/3372 [==============================] - 116s 34ms/step - loss: 0.3097 - accuracy: 0.8634 - val_loss: 0.3127 - val_accuracy: 0.8615\n",
      "Epoch 53/200\n",
      "3372/3372 [==============================] - 117s 35ms/step - loss: 0.3082 - accuracy: 0.8642 - val_loss: 0.3130 - val_accuracy: 0.8616\n",
      "Epoch 54/200\n",
      "3372/3372 [==============================] - 117s 35ms/step - loss: 0.3093 - accuracy: 0.8631 - val_loss: 0.3130 - val_accuracy: 0.8615\n",
      "Epoch 55/200\n",
      "3372/3372 [==============================] - 117s 35ms/step - loss: 0.3088 - accuracy: 0.8636 - val_loss: 0.3145 - val_accuracy: 0.8606\n",
      "Epoch 56/200\n"
     ]
    },
    {
     "name": "stdout",
     "output_type": "stream",
     "text": [
      "3372/3372 [==============================] - 118s 35ms/step - loss: 0.3093 - accuracy: 0.8628 - val_loss: 0.3139 - val_accuracy: 0.8613\n",
      "Epoch 57/200\n",
      "3372/3372 [==============================] - 117s 35ms/step - loss: 0.3082 - accuracy: 0.8636 - val_loss: 0.3123 - val_accuracy: 0.8620\n",
      "Epoch 58/200\n",
      "3372/3372 [==============================] - 118s 35ms/step - loss: 0.3087 - accuracy: 0.8638 - val_loss: 0.3142 - val_accuracy: 0.8612\n",
      "Epoch 59/200\n",
      "3372/3372 [==============================] - 116s 34ms/step - loss: 0.3075 - accuracy: 0.8639 - val_loss: 0.3129 - val_accuracy: 0.8616\n",
      "Epoch 60/200\n",
      "3372/3372 [==============================] - 118s 35ms/step - loss: 0.3056 - accuracy: 0.8648 - val_loss: 0.3134 - val_accuracy: 0.8614\n",
      "Epoch 61/200\n",
      "3372/3372 [==============================] - 117s 35ms/step - loss: 0.3085 - accuracy: 0.8637 - val_loss: 0.3143 - val_accuracy: 0.8609\n",
      "Epoch 62/200\n",
      "3372/3372 [==============================] - 117s 35ms/step - loss: 0.3052 - accuracy: 0.8656 - val_loss: 0.3147 - val_accuracy: 0.8615\n",
      "Epoch 63/200\n",
      "3372/3372 [==============================] - 118s 35ms/step - loss: 0.3050 - accuracy: 0.8656 - val_loss: 0.3123 - val_accuracy: 0.8619\n",
      "Epoch 64/200\n",
      "3372/3372 [==============================] - 116s 34ms/step - loss: 0.3074 - accuracy: 0.8635 - val_loss: 0.3177 - val_accuracy: 0.8583\n",
      "Epoch 65/200\n",
      "3372/3372 [==============================] - 117s 35ms/step - loss: 0.3049 - accuracy: 0.8655 - val_loss: 0.3121 - val_accuracy: 0.8614\n",
      "Epoch 66/200\n",
      "3372/3372 [==============================] - 116s 34ms/step - loss: 0.3071 - accuracy: 0.8645 - val_loss: 0.3136 - val_accuracy: 0.8614\n",
      "Epoch 67/200\n",
      "3372/3372 [==============================] - 119s 35ms/step - loss: 0.3048 - accuracy: 0.8660 - val_loss: 0.3132 - val_accuracy: 0.8608\n",
      "Epoch 68/200\n",
      "3372/3372 [==============================] - 117s 35ms/step - loss: 0.3037 - accuracy: 0.8663 - val_loss: 0.3135 - val_accuracy: 0.8611\n",
      "Epoch 69/200\n",
      "3372/3372 [==============================] - 118s 35ms/step - loss: 0.3041 - accuracy: 0.8655 - val_loss: 0.3140 - val_accuracy: 0.8610\n",
      "Epoch 70/200\n",
      "3372/3372 [==============================] - 118s 35ms/step - loss: 0.3031 - accuracy: 0.8666 - val_loss: 0.3162 - val_accuracy: 0.8609\n",
      "Epoch 71/200\n",
      "3372/3372 [==============================] - 117s 35ms/step - loss: 0.3027 - accuracy: 0.8670 - val_loss: 0.3142 - val_accuracy: 0.8613\n",
      "Epoch 72/200\n",
      "3372/3372 [==============================] - 118s 35ms/step - loss: 0.3022 - accuracy: 0.8667 - val_loss: 0.3120 - val_accuracy: 0.8623\n",
      "Epoch 73/200\n",
      "3372/3372 [==============================] - 116s 35ms/step - loss: 0.3042 - accuracy: 0.8653 - val_loss: 0.3152 - val_accuracy: 0.8605\n",
      "Epoch 74/200\n",
      "3372/3372 [==============================] - 117s 35ms/step - loss: 0.3025 - accuracy: 0.8664 - val_loss: 0.3141 - val_accuracy: 0.8610\n",
      "Epoch 75/200\n",
      "3372/3372 [==============================] - 117s 35ms/step - loss: 0.3011 - accuracy: 0.8670 - val_loss: 0.3161 - val_accuracy: 0.8600\n",
      "Epoch 76/200\n",
      "3372/3372 [==============================] - 117s 35ms/step - loss: 0.3016 - accuracy: 0.8675 - val_loss: 0.3144 - val_accuracy: 0.8612\n",
      "Epoch 77/200\n",
      "3372/3372 [==============================] - 117s 35ms/step - loss: 0.3012 - accuracy: 0.8673 - val_loss: 0.3131 - val_accuracy: 0.8616\n",
      "Epoch 78/200\n",
      "3372/3372 [==============================] - 117s 35ms/step - loss: 0.2992 - accuracy: 0.8679 - val_loss: 0.3140 - val_accuracy: 0.8622\n",
      "Epoch 79/200\n",
      "3372/3372 [==============================] - 117s 35ms/step - loss: 0.3000 - accuracy: 0.8685 - val_loss: 0.3145 - val_accuracy: 0.8610\n",
      "Epoch 80/200\n",
      "3372/3372 [==============================] - 116s 34ms/step - loss: 0.3007 - accuracy: 0.8681 - val_loss: 0.3131 - val_accuracy: 0.8611\n",
      "Epoch 81/200\n",
      "3372/3372 [==============================] - 117s 35ms/step - loss: 0.3008 - accuracy: 0.8675 - val_loss: 0.3141 - val_accuracy: 0.8616\n",
      "Epoch 82/200\n",
      "3372/3372 [==============================] - 117s 35ms/step - loss: 0.3004 - accuracy: 0.8680 - val_loss: 0.3136 - val_accuracy: 0.8615\n",
      "Epoch 83/200\n",
      "3372/3372 [==============================] - 117s 35ms/step - loss: 0.2988 - accuracy: 0.8676 - val_loss: 0.3165 - val_accuracy: 0.8601\n",
      "Epoch 84/200\n",
      "3372/3372 [==============================] - 117s 35ms/step - loss: 0.2977 - accuracy: 0.8680 - val_loss: 0.3136 - val_accuracy: 0.8620\n",
      "Epoch 85/200\n",
      "3372/3372 [==============================] - 116s 34ms/step - loss: 0.2986 - accuracy: 0.8688 - val_loss: 0.3150 - val_accuracy: 0.8614\n",
      "Epoch 86/200\n",
      "3372/3372 [==============================] - 117s 35ms/step - loss: 0.2987 - accuracy: 0.8688 - val_loss: 0.3139 - val_accuracy: 0.8619\n",
      "Epoch 87/200\n",
      "3372/3372 [==============================] - 116s 34ms/step - loss: 0.2980 - accuracy: 0.8693 - val_loss: 0.3145 - val_accuracy: 0.8611\n",
      "Epoch 88/200\n",
      "3372/3372 [==============================] - 117s 35ms/step - loss: 0.2969 - accuracy: 0.8696 - val_loss: 0.3138 - val_accuracy: 0.8620\n",
      "Epoch 89/200\n",
      "3372/3372 [==============================] - 117s 35ms/step - loss: 0.2960 - accuracy: 0.8703 - val_loss: 0.3146 - val_accuracy: 0.8618\n",
      "Epoch 90/200\n",
      "3372/3372 [==============================] - 117s 35ms/step - loss: 0.2960 - accuracy: 0.8699 - val_loss: 0.3143 - val_accuracy: 0.8625\n",
      "Epoch 91/200\n",
      "3372/3372 [==============================] - 116s 35ms/step - loss: 0.2956 - accuracy: 0.8701 - val_loss: 0.3141 - val_accuracy: 0.8621\n",
      "Epoch 92/200\n",
      "3372/3372 [==============================] - 116s 34ms/step - loss: 0.2958 - accuracy: 0.8695 - val_loss: 0.3152 - val_accuracy: 0.8613\n",
      "Epoch 00092: early stopping\n"
     ]
    }
   ],
   "source": [
    "history = model.fit(X_train, y_train, epochs=200, \n",
    "                    batch_size=100,\n",
    "                    validation_data=(X_val, y_val),\n",
    "                                       callbacks=[es])"
   ]
  },
  {
   "cell_type": "code",
   "execution_count": 12,
   "metadata": {
    "ExecuteTime": {
     "end_time": "2021-10-04T20:53:32.218844Z",
     "start_time": "2021-10-04T20:53:31.906386Z"
    }
   },
   "outputs": [
    {
     "data": {
      "image/png": "[encoded data removed]",
      "text/plain": [
       "<Figure size 1152x144 with 2 Axes>"
      ]
     },
     "metadata": {
      "needs_background": "light"
     },
     "output_type": "display_data"
    }
   ],
   "source": [
    "plt.figure(figsize=(16,2))\n",
    "plt.subplot(1,2,1)\n",
    "plot_graphs(history, 'accuracy')\n",
    "plt.subplot(1,2,2)\n",
    "plot_graphs(history, 'loss')"
   ]
  },
  {
   "cell_type": "markdown",
   "metadata": {},
   "source": [
    "# 3. test"
   ]
  },
  {
   "cell_type": "code",
   "execution_count": 13,
   "metadata": {
    "ExecuteTime": {
     "end_time": "2021-10-04T20:53:32.291225Z",
     "start_time": "2021-10-04T20:53:32.220219Z"
    }
   },
   "outputs": [],
   "source": [
    "from sklearn.metrics import classification_report\n",
    "from sklearn.metrics import confusion_matrix\n",
    "from sklearn.metrics import roc_curve\n",
    "from sklearn.metrics import roc_auc_score\n",
    "import seaborn as sns"
   ]
  },
  {
   "cell_type": "code",
   "execution_count": 14,
   "metadata": {
    "ExecuteTime": {
     "end_time": "2021-10-04T20:54:25.716536Z",
     "start_time": "2021-10-04T20:53:32.293030Z"
    }
   },
   "outputs": [
    {
     "name": "stdout",
     "output_type": "stream",
     "text": [
      "2782/2782 [==============================] - 53s 19ms/step - loss: 0.3063 - accuracy: 0.8677\n",
      "Test Loss: 0.3063461482524872\n",
      "Test Accuracy: 0.8676599264144897\n"
     ]
    }
   ],
   "source": [
    "test_loss, test_acc = model.evaluate(X_test, y_test)\n",
    "print('Test Loss: {}'.format(test_loss))\n",
    "print('Test Accuracy: {}'.format(test_acc))"
   ]
  },
  {
   "cell_type": "code",
   "execution_count": 15,
   "metadata": {
    "ExecuteTime": {
     "end_time": "2021-10-04T20:55:12.547053Z",
     "start_time": "2021-10-04T20:54:25.718226Z"
    }
   },
   "outputs": [
    {
     "name": "stdout",
     "output_type": "stream",
     "text": [
      "              precision    recall  f1-score   support\n",
      "\n",
      "           0       0.91      0.82      0.86     44509\n",
      "           1       0.83      0.92      0.87     44489\n",
      "\n",
      "    accuracy                           0.87     88998\n",
      "   macro avg       0.87      0.87      0.87     88998\n",
      "weighted avg       0.87      0.87      0.87     88998\n",
      "\n",
      "rf auc : 0.9438127149446225\n"
     ]
    },
    {
     "data": {
      "image/png": "[encoded data removed]",
      "text/plain": [
       "<Figure size 288x288 with 1 Axes>"
      ]
     },
     "metadata": {
      "needs_background": "light"
     },
     "output_type": "display_data"
    },
    {
     "data": {
      "image/png": "[encoded data removed]",
      "text/plain": [
       "<Figure size 216x216 with 2 Axes>"
      ]
     },
     "metadata": {
      "needs_background": "light"
     },
     "output_type": "display_data"
    },
    {
     "data": {
      "image/png": "[encoded data removed]",
      "text/plain": [
       "<Figure size 216x216 with 2 Axes>"
      ]
     },
     "metadata": {
      "needs_background": "light"
     },
     "output_type": "display_data"
    }
   ],
   "source": [
    "# prediction\n",
    "y_pred = [1 if i>=0.5 else 0 for i in model.predict(X_test)]\n",
    "print(classification_report(y_test, y_pred))\n",
    "# AUC\n",
    "probs = model.predict(X_test)\n",
    "rf_auc = roc_auc_score(y_test, probs)\n",
    "print('rf auc : {}'.format(rf_auc))\n",
    "# plot the roc curve for the model\n",
    "rf_fpr, rf_tpr, _ = roc_curve(y_test, probs)\n",
    "plt.figure(figsize=(4, 4))\n",
    "plt.plot(rf_fpr, rf_tpr, marker='.', label='RF AUC = {:.4f}'.format(rf_auc), color='orange')\n",
    "plt.title('ROC curve')\n",
    "# axis labels\n",
    "plt.xlabel('False Positive Rate')\n",
    "plt.ylabel('True Positive Rate')\n",
    "# show the legend\n",
    "plt.legend()\n",
    "# show the plot\n",
    "plt.show()\n",
    "\n",
    "cf_matrix = confusion_matrix(y_test, y_pred)\n",
    "plt.figure(figsize=(3, 3))\n",
    "sns.heatmap(cf_matrix, annot=True, fmt=',.0f')\n",
    "plt.show()\n",
    "plt.figure(figsize=(3, 3))\n",
    "sns.heatmap(cf_matrix/np.sum(cf_matrix), annot=True, \n",
    "            fmt='.2%', cmap='Blues')\n",
    "plt.show()"
   ]
  },
  {
   "cell_type": "code",
   "execution_count": null,
   "metadata": {},
   "outputs": [],
   "source": []
  }
 ],
 "metadata": {
  "kernelspec": {
   "display_name": "TF2.4",
   "language": "python",
   "name": "tf2.4"
  },
  "language_info": {
   "codemirror_mode": {
    "name": "ipython",
    "version": 3
   },
   "file_extension": ".py",
   "mimetype": "text/x-python",
   "name": "python",
   "nbconvert_exporter": "python",
   "pygments_lexer": "ipython3",
   "version": "3.7.0"
  }
 },
 "nbformat": 4,
 "nbformat_minor": 4
}
