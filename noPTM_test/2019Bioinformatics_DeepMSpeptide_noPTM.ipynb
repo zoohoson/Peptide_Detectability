{
 "cells": [
  {
   "cell_type": "code",
   "execution_count": 1,
   "metadata": {
    "ExecuteTime": {
     "end_time": "2021-09-30T15:17:00.815805Z",
     "start_time": "2021-09-30T15:16:59.346617Z"
    }
   },
   "outputs": [],
   "source": [
    "import warnings\n",
    "warnings.simplefilter(action='ignore', category=FutureWarning)\n",
    "\n",
    "import argparse\n",
    "import numpy as np\n",
    "import tensorflow as tf\n",
    "from tensorflow import keras"
   ]
  },
  {
   "cell_type": "code",
   "execution_count": 2,
   "metadata": {
    "ExecuteTime": {
     "end_time": "2021-09-30T15:17:00.822679Z",
     "start_time": "2021-09-30T15:17:00.817086Z"
    }
   },
   "outputs": [],
   "source": [
    "def load_pep_and_codify(file, max_len):\n",
    "    aa_dict={'A':1,'R':2,'N':3,'D':4,'C':5,'Q':6,'E':7,'G':8,'H':9,'I':10,'L':11,'K':12,'M':13,'F':14,\n",
    "        'P':15,'O':16,'S':17,'U':18,'T':19,'W':20,'Y':21,'V':22}\n",
    "    with open(file, 'r') as inf:\n",
    "        lines = inf.read().splitlines()\n",
    "    pep_codes=[]\n",
    "    long_pep_counter = 0\n",
    "    newLines = []\n",
    "    for pep in lines:\n",
    "        if not len(pep) > max_len:\n",
    "            current_pep=[]\n",
    "            for aa in pep:\n",
    "                current_pep.append(aa_dict[aa])\n",
    "            pep_codes.append(current_pep)\n",
    "            newLines.extend([pep])\n",
    "        else:\n",
    "            long_pep_counter += 1\n",
    "    predict_data = keras.preprocessing.sequence.pad_sequences(pep_codes, value=0, padding='post', maxlen=max_len)\n",
    "    return predict_data, long_pep_counter, newLines"
   ]
  },
  {
   "cell_type": "markdown",
   "metadata": {},
   "source": [
    "# New Train"
   ]
  },
  {
   "cell_type": "code",
   "execution_count": 3,
   "metadata": {
    "ExecuteTime": {
     "end_time": "2021-09-30T15:27:43.667066Z",
     "start_time": "2021-09-30T15:27:43.495048Z"
    }
   },
   "outputs": [
    {
     "name": "stdout",
     "output_type": "stream",
     "text": [
      "WARNING:tensorflow:From /home/bis/miniconda3/envs/TF1.14/lib/python3.6/site-packages/tensorflow/python/keras/initializers.py:119: calling RandomUniform.__init__ (from tensorflow.python.ops.init_ops) with dtype is deprecated and will be removed in a future version.\n",
      "Instructions for updating:\n",
      "Call initializer instance with the dtype argument instead of passing it to the constructor\n",
      "WARNING:tensorflow:From /home/bis/miniconda3/envs/TF1.14/lib/python3.6/site-packages/tensorflow/python/ops/init_ops.py:1251: calling VarianceScaling.__init__ (from tensorflow.python.ops.init_ops) with dtype is deprecated and will be removed in a future version.\n",
      "Instructions for updating:\n",
      "Call initializer instance with the dtype argument instead of passing it to the constructor\n",
      "Model: \"sequential\"\n",
      "_________________________________________________________________\n",
      "Layer (type)                 Output Shape              Param #   \n",
      "=================================================================\n",
      "embedding (Embedding)        (None, 30, 50)            1150      \n",
      "_________________________________________________________________\n",
      "dropout (Dropout)            (None, 30, 50)            0         \n",
      "_________________________________________________________________\n",
      "conv1d (Conv1D)              (None, 30, 128)           19328     \n",
      "_________________________________________________________________\n",
      "conv1d_1 (Conv1D)            (None, 29, 64)            16448     \n",
      "_________________________________________________________________\n",
      "global_max_pooling1d (Global (None, 64)                0         \n",
      "_________________________________________________________________\n",
      "dense (Dense)                (None, 64)                4160      \n",
      "_________________________________________________________________\n",
      "dropout_1 (Dropout)          (None, 64)                0         \n",
      "_________________________________________________________________\n",
      "dense_1 (Dense)              (None, 1)                 65        \n",
      "=================================================================\n",
      "Total params: 41,151\n",
      "Trainable params: 41,151\n",
      "Non-trainable params: 0\n",
      "_________________________________________________________________\n",
      "WARNING:tensorflow:From /home/bis/miniconda3/envs/TF1.14/lib/python3.6/site-packages/tensorflow/python/ops/nn_impl.py:180: add_dispatch_support.<locals>.wrapper (from tensorflow.python.ops.array_ops) is deprecated and will be removed in a future version.\n",
      "Instructions for updating:\n",
      "Use tf.where in 2.0, which has the same broadcast rule as np.where\n"
     ]
    }
   ],
   "source": [
    "model = tf.keras.Sequential([\n",
    "    # vacabulary size 23 (22 AminoAcid + zero padding)\n",
    "    # embedding vector size 50\n",
    "    # input length (including padding) 30 ( 81 to 30)\n",
    "    tf.keras.layers.Embedding(23, 50, input_length=30),\n",
    "    tf.keras.layers.Dropout(np.random.uniform(0, 0.2)),\n",
    "    tf.keras.layers.Conv1D(filters=128, kernel_size=3, strides=1, padding='same'),\n",
    "    tf.keras.layers.Conv1D(filters=64, kernel_size=2, strides=1),\n",
    "    tf.keras.layers.GlobalMaxPooling1D(),\n",
    "    tf.keras.layers.Dense(64, activation='relu'),\n",
    "    tf.keras.layers.Dropout(np.random.uniform(0, 0.2)),\n",
    "    tf.keras.layers.Dense(1, activation='sigmoid')\n",
    "])\n",
    "model.summary()\n",
    "\n",
    "model.compile(loss=tf.keras.losses.BinaryCrossentropy(from_logits=True),\n",
    "              optimizer=tf.keras.optimizers.Adam(1e-4),\n",
    "              metrics=['accuracy'])"
   ]
  },
  {
   "cell_type": "markdown",
   "metadata": {},
   "source": [
    "# 1. Make Data X_train, y_train, X_test, y_test"
   ]
  },
  {
   "cell_type": "code",
   "execution_count": 4,
   "metadata": {
    "ExecuteTime": {
     "end_time": "2021-09-30T15:27:57.351608Z",
     "start_time": "2021-09-30T15:27:56.816869Z"
    }
   },
   "outputs": [],
   "source": [
    "import matplotlib.pyplot as plt\n",
    "import pandas as pd\n",
    "from sklearn.model_selection import train_test_split\n",
    "\n",
    "file_path = '../compareModel/2019Bioinformatics_DeepMSPeptide/DeepMSPeptide/'"
   ]
  },
  {
   "cell_type": "code",
   "execution_count": 19,
   "metadata": {
    "ExecuteTime": {
     "end_time": "2021-09-30T18:18:10.502324Z",
     "start_time": "2021-09-30T18:18:04.215619Z"
    }
   },
   "outputs": [
    {
     "name": "stdout",
     "output_type": "stream",
     "text": [
      "Loading input peptides\n",
      "Succesfully loaded 421474 peptides and skipped 0\n",
      "Loading input peptides\n",
      "Succesfully loaded 88998 peptides and skipped 0\n",
      "(337179, 30) (84295, 30) (88998, 30) (337179,) (84295,) (88998,)\n"
     ]
    }
   ],
   "source": [
    "# make DeepMSpeptide format\n",
    "df_peptide_train = pd.read_csv('../data/df_detect_peptide_train_noptm_210930_includeDigest.csv')\n",
    "df_peptide_test = pd.read_csv('../data/df_detect_peptide_test_noptm_210930_includeDigest.csv')\n",
    "\n",
    "inp = open(file_path+'detect_peptide_train_noptm.txt', 'w')\n",
    "inp_y = open(file_path+'detect_peptide_train_y_noptm.txt', 'w')\n",
    "for x, y in df_peptide_train[['PEP', 'ID']].values:\n",
    "    inp.write(x+'\\n')\n",
    "    inp_y.write(str(y)+'\\n')\n",
    "inp.close()\n",
    "inp_y.close()\n",
    "\n",
    "inp = open(file_path+'detect_peptide_test_noptm.txt', 'w')\n",
    "inp_y = open(file_path+'detect_peptide_test_y_noptm.txt', 'w')\n",
    "for x, y in df_peptide_test[['PEP', 'ID']].values:\n",
    "    inp.write(x+'\\n')\n",
    "    inp_y.write(str(y)+'\\n')\n",
    "inp.close()\n",
    "inp_y.close()\n",
    "\n",
    "args = file_path + 'detect_peptide_train_noptm.txt'\n",
    "print('Loading input peptides')\n",
    "X_train, skipped, lines = load_pep_and_codify(args, 30)\n",
    "tmp = open(file_path+'detect_peptide_train_y_noptm.txt')\n",
    "y_train = np.array([int(_.replace('\\n', '')) for _ in tmp.readlines()])\n",
    "tmp.close()\n",
    "print('Succesfully loaded {0} peptides and skipped {1}'.format(len(lines), str(skipped)))\n",
    "\n",
    "args = file_path + 'detect_peptide_test_noptm.txt'\n",
    "print('Loading input peptides')\n",
    "X_test, skipped, lines = load_pep_and_codify(args, 30)\n",
    "tmp = open(file_path+'detect_peptide_test_y_noptm.txt')\n",
    "y_test = np.array([int(_.replace('\\n', '')) for _ in tmp.readlines()])\n",
    "tmp.close()\n",
    "print('Succesfully loaded {0} peptides and skipped {1}'.format(len(lines), str(skipped)))\n",
    "\n",
    "X_train, X_val, y_train, y_val = train_test_split(X_train, y_train, test_size=0.2)\n",
    "print(X_train.shape, X_val.shape, X_test.shape, y_train.shape, y_val.shape, y_test.shape)"
   ]
  },
  {
   "cell_type": "markdown",
   "metadata": {},
   "source": [
    "# 2. train"
   ]
  },
  {
   "cell_type": "code",
   "execution_count": 20,
   "metadata": {
    "ExecuteTime": {
     "end_time": "2021-09-30T18:18:10.506716Z",
     "start_time": "2021-09-30T18:18:10.503845Z"
    }
   },
   "outputs": [],
   "source": [
    "def plot_graphs(history, metric):\n",
    "    plt.plot(history.history[metric])\n",
    "    plt.plot(history.history['val_'+metric], '')\n",
    "    plt.xlabel(\"Epochs\")\n",
    "    plt.ylabel(metric)\n",
    "    plt.legend([metric, 'val_'+metric])"
   ]
  },
  {
   "cell_type": "code",
   "execution_count": 21,
   "metadata": {
    "ExecuteTime": {
     "end_time": "2021-09-30T21:07:04.231541Z",
     "start_time": "2021-09-30T18:18:10.507910Z"
    },
    "scrolled": true
   },
   "outputs": [
    {
     "name": "stdout",
     "output_type": "stream",
     "text": [
      "Train on 337179 samples, validate on 84295 samples\n",
      "Epoch 1/200\n",
      "337179/337179 [==============================] - 58s 171us/sample - loss: 0.6064 - acc: 0.7660 - val_loss: 0.5977 - val_acc: 0.7916\n",
      "Epoch 2/200\n",
      "337179/337179 [==============================] - 57s 170us/sample - loss: 0.5960 - acc: 0.7957 - val_loss: 0.5935 - val_acc: 0.8062\n",
      "Epoch 3/200\n",
      "337179/337179 [==============================] - 56s 166us/sample - loss: 0.5939 - acc: 0.8016 - val_loss: 0.5931 - val_acc: 0.8020\n",
      "Epoch 4/200\n",
      "337179/337179 [==============================] - 58s 173us/sample - loss: 0.5930 - acc: 0.8039 - val_loss: 0.5925 - val_acc: 0.8031\n",
      "Epoch 5/200\n",
      "337179/337179 [==============================] - 57s 170us/sample - loss: 0.5925 - acc: 0.8046 - val_loss: 0.5914 - val_acc: 0.8087\n",
      "Epoch 6/200\n",
      "337179/337179 [==============================] - 58s 171us/sample - loss: 0.5919 - acc: 0.8062 - val_loss: 0.5909 - val_acc: 0.8126\n",
      "Epoch 7/200\n",
      "337179/337179 [==============================] - 58s 173us/sample - loss: 0.5915 - acc: 0.8071 - val_loss: 0.5908 - val_acc: 0.8146\n",
      "Epoch 8/200\n",
      "337179/337179 [==============================] - 57s 168us/sample - loss: 0.5911 - acc: 0.8084 - val_loss: 0.5901 - val_acc: 0.8151\n",
      "Epoch 9/200\n",
      "337179/337179 [==============================] - 58s 173us/sample - loss: 0.5906 - acc: 0.8096 - val_loss: 0.5904 - val_acc: 0.8083\n",
      "Epoch 10/200\n",
      "337179/337179 [==============================] - 57s 168us/sample - loss: 0.5902 - acc: 0.8103 - val_loss: 0.5895 - val_acc: 0.8152\n",
      "Epoch 11/200\n",
      "337179/337179 [==============================] - 57s 169us/sample - loss: 0.5899 - acc: 0.8110 - val_loss: 0.5895 - val_acc: 0.8138\n",
      "Epoch 12/200\n",
      "337179/337179 [==============================] - 59s 175us/sample - loss: 0.5895 - acc: 0.8118 - val_loss: 0.5888 - val_acc: 0.8187\n",
      "Epoch 13/200\n",
      "337179/337179 [==============================] - 57s 169us/sample - loss: 0.5887 - acc: 0.8137 - val_loss: 0.5882 - val_acc: 0.8212\n",
      "Epoch 14/200\n",
      "337179/337179 [==============================] - 57s 170us/sample - loss: 0.5879 - acc: 0.8155 - val_loss: 0.5874 - val_acc: 0.8143\n",
      "Epoch 15/200\n",
      "337179/337179 [==============================] - 59s 174us/sample - loss: 0.5864 - acc: 0.8177 - val_loss: 0.5851 - val_acc: 0.8213\n",
      "Epoch 16/200\n",
      "337179/337179 [==============================] - 56s 167us/sample - loss: 0.5851 - acc: 0.8198 - val_loss: 0.5848 - val_acc: 0.8258\n",
      "Epoch 17/200\n",
      "337179/337179 [==============================] - 58s 172us/sample - loss: 0.5842 - acc: 0.8218 - val_loss: 0.5831 - val_acc: 0.8302\n",
      "Epoch 18/200\n",
      "337179/337179 [==============================] - 56s 165us/sample - loss: 0.5833 - acc: 0.8236 - val_loss: 0.5836 - val_acc: 0.8345\n",
      "Epoch 19/200\n",
      "337179/337179 [==============================] - 58s 173us/sample - loss: 0.5825 - acc: 0.8254 - val_loss: 0.5837 - val_acc: 0.8163\n",
      "Epoch 20/200\n",
      "337179/337179 [==============================] - 56s 167us/sample - loss: 0.5821 - acc: 0.8261 - val_loss: 0.5822 - val_acc: 0.8355\n",
      "Epoch 21/200\n",
      "337179/337179 [==============================] - 58s 171us/sample - loss: 0.5814 - acc: 0.8271 - val_loss: 0.5807 - val_acc: 0.8320\n",
      "Epoch 22/200\n",
      "337179/337179 [==============================] - 58s 172us/sample - loss: 0.5809 - acc: 0.8287 - val_loss: 0.5809 - val_acc: 0.8280\n",
      "Epoch 23/200\n",
      "337179/337179 [==============================] - 57s 170us/sample - loss: 0.5803 - acc: 0.8300 - val_loss: 0.5811 - val_acc: 0.8256\n",
      "Epoch 24/200\n",
      "337179/337179 [==============================] - 57s 169us/sample - loss: 0.5801 - acc: 0.8302 - val_loss: 0.5809 - val_acc: 0.8252\n",
      "Epoch 25/200\n",
      "337179/337179 [==============================] - 58s 171us/sample - loss: 0.5794 - acc: 0.8316 - val_loss: 0.5811 - val_acc: 0.8215\n",
      "Epoch 26/200\n",
      "337179/337179 [==============================] - 56s 167us/sample - loss: 0.5791 - acc: 0.8323 - val_loss: 0.5794 - val_acc: 0.8297\n",
      "Epoch 27/200\n",
      "337179/337179 [==============================] - 59s 175us/sample - loss: 0.5791 - acc: 0.8324 - val_loss: 0.5787 - val_acc: 0.8378\n",
      "Epoch 28/200\n",
      "337179/337179 [==============================] - 56s 166us/sample - loss: 0.5787 - acc: 0.8335 - val_loss: 0.5788 - val_acc: 0.8345\n",
      "Epoch 29/200\n",
      "337179/337179 [==============================] - 57s 169us/sample - loss: 0.5785 - acc: 0.8344 - val_loss: 0.5793 - val_acc: 0.8326\n",
      "Epoch 30/200\n",
      "337179/337179 [==============================] - 58s 172us/sample - loss: 0.5782 - acc: 0.8344 - val_loss: 0.5785 - val_acc: 0.8343\n",
      "Epoch 31/200\n",
      "337179/337179 [==============================] - 58s 171us/sample - loss: 0.5781 - acc: 0.8349 - val_loss: 0.5782 - val_acc: 0.8407\n",
      "Epoch 32/200\n",
      "337179/337179 [==============================] - 57s 169us/sample - loss: 0.5780 - acc: 0.8344 - val_loss: 0.5791 - val_acc: 0.8313\n",
      "Epoch 33/200\n",
      "337179/337179 [==============================] - 58s 171us/sample - loss: 0.5776 - acc: 0.8355 - val_loss: 0.5786 - val_acc: 0.8360\n",
      "Epoch 34/200\n",
      "337179/337179 [==============================] - 57s 168us/sample - loss: 0.5774 - acc: 0.8359 - val_loss: 0.5779 - val_acc: 0.8371\n",
      "Epoch 35/200\n",
      "337179/337179 [==============================] - 58s 173us/sample - loss: 0.5772 - acc: 0.8368 - val_loss: 0.5786 - val_acc: 0.8322\n",
      "Epoch 36/200\n",
      "337179/337179 [==============================] - 56s 167us/sample - loss: 0.5772 - acc: 0.8370 - val_loss: 0.5791 - val_acc: 0.8373\n",
      "Epoch 37/200\n",
      "337179/337179 [==============================] - 58s 173us/sample - loss: 0.5769 - acc: 0.8369 - val_loss: 0.5780 - val_acc: 0.8298\n",
      "Epoch 38/200\n",
      "337179/337179 [==============================] - 56s 167us/sample - loss: 0.5771 - acc: 0.8367 - val_loss: 0.5775 - val_acc: 0.8385\n",
      "Epoch 39/200\n",
      "337179/337179 [==============================] - 57s 168us/sample - loss: 0.5769 - acc: 0.8374 - val_loss: 0.5782 - val_acc: 0.8361\n",
      "Epoch 40/200\n",
      "337179/337179 [==============================] - 58s 171us/sample - loss: 0.5768 - acc: 0.8378 - val_loss: 0.5769 - val_acc: 0.8375\n",
      "Epoch 41/200\n",
      "337179/337179 [==============================] - 56s 167us/sample - loss: 0.5764 - acc: 0.8387 - val_loss: 0.5792 - val_acc: 0.8303\n",
      "Epoch 42/200\n",
      "337179/337179 [==============================] - 60s 176us/sample - loss: 0.5764 - acc: 0.8386 - val_loss: 0.5786 - val_acc: 0.8376\n",
      "Epoch 43/200\n",
      "337179/337179 [==============================] - 56s 167us/sample - loss: 0.5762 - acc: 0.8393 - val_loss: 0.5775 - val_acc: 0.8361\n",
      "Epoch 44/200\n",
      "337179/337179 [==============================] - 57s 171us/sample - loss: 0.5761 - acc: 0.8392 - val_loss: 0.5777 - val_acc: 0.8340\n",
      "Epoch 45/200\n",
      "337179/337179 [==============================] - 59s 174us/sample - loss: 0.5759 - acc: 0.8397 - val_loss: 0.5783 - val_acc: 0.8407\n",
      "Epoch 46/200\n",
      "337179/337179 [==============================] - 56s 166us/sample - loss: 0.5758 - acc: 0.8399 - val_loss: 0.5766 - val_acc: 0.8402\n",
      "Epoch 47/200\n",
      "337179/337179 [==============================] - 57s 169us/sample - loss: 0.5760 - acc: 0.8397 - val_loss: 0.5773 - val_acc: 0.8376\n",
      "Epoch 48/200\n",
      "337179/337179 [==============================] - 58s 171us/sample - loss: 0.5757 - acc: 0.8402 - val_loss: 0.5784 - val_acc: 0.8314\n",
      "Epoch 49/200\n",
      "337179/337179 [==============================] - 58s 172us/sample - loss: 0.5758 - acc: 0.8398 - val_loss: 0.5764 - val_acc: 0.8376\n",
      "Epoch 50/200\n",
      "337179/337179 [==============================] - 58s 172us/sample - loss: 0.5756 - acc: 0.8405 - val_loss: 0.5775 - val_acc: 0.8345\n",
      "Epoch 51/200\n",
      "337179/337179 [==============================] - 57s 169us/sample - loss: 0.5755 - acc: 0.8405 - val_loss: 0.5770 - val_acc: 0.8369\n",
      "Epoch 52/200\n",
      "337179/337179 [==============================] - 58s 172us/sample - loss: 0.5754 - acc: 0.8411 - val_loss: 0.5761 - val_acc: 0.8429\n",
      "Epoch 53/200\n",
      "337179/337179 [==============================] - 58s 171us/sample - loss: 0.5753 - acc: 0.8407 - val_loss: 0.5765 - val_acc: 0.8359\n",
      "Epoch 54/200\n",
      "337179/337179 [==============================] - 56s 167us/sample - loss: 0.5752 - acc: 0.8412 - val_loss: 0.5776 - val_acc: 0.8342\n",
      "Epoch 55/200\n",
      "337179/337179 [==============================] - 60s 178us/sample - loss: 0.5753 - acc: 0.8411 - val_loss: 0.5761 - val_acc: 0.8439\n",
      "Epoch 56/200\n",
      "337179/337179 [==============================] - 58s 173us/sample - loss: 0.5751 - acc: 0.8415 - val_loss: 0.5763 - val_acc: 0.8422\n",
      "Epoch 57/200\n",
      "337179/337179 [==============================] - 58s 171us/sample - loss: 0.5753 - acc: 0.8409 - val_loss: 0.5771 - val_acc: 0.8328\n",
      "Epoch 58/200\n",
      "337179/337179 [==============================] - 60s 177us/sample - loss: 0.5753 - acc: 0.8414 - val_loss: 0.5758 - val_acc: 0.8400\n",
      "Epoch 59/200\n",
      "337179/337179 [==============================] - 58s 172us/sample - loss: 0.5751 - acc: 0.8416 - val_loss: 0.5761 - val_acc: 0.8428\n",
      "Epoch 60/200\n",
      "337179/337179 [==============================] - 59s 175us/sample - loss: 0.5749 - acc: 0.8423 - val_loss: 0.5768 - val_acc: 0.8375\n",
      "Epoch 61/200\n",
      "337179/337179 [==============================] - 55s 163us/sample - loss: 0.5748 - acc: 0.8423 - val_loss: 0.5789 - val_acc: 0.8303\n",
      "Epoch 62/200\n",
      "337179/337179 [==============================] - 57s 168us/sample - loss: 0.5748 - acc: 0.8422 - val_loss: 0.5779 - val_acc: 0.8355\n",
      "Epoch 63/200\n",
      "337179/337179 [==============================] - 59s 175us/sample - loss: 0.5745 - acc: 0.8429 - val_loss: 0.5776 - val_acc: 0.8338\n",
      "Epoch 64/200\n",
      "337179/337179 [==============================] - 57s 168us/sample - loss: 0.5748 - acc: 0.8421 - val_loss: 0.5769 - val_acc: 0.8374\n",
      "Epoch 65/200\n",
      "337179/337179 [==============================] - 57s 169us/sample - loss: 0.5747 - acc: 0.8423 - val_loss: 0.5769 - val_acc: 0.8355\n",
      "Epoch 66/200\n",
      "337179/337179 [==============================] - 59s 175us/sample - loss: 0.5746 - acc: 0.8428 - val_loss: 0.5779 - val_acc: 0.8379\n",
      "Epoch 67/200\n",
      "337179/337179 [==============================] - 57s 170us/sample - loss: 0.5746 - acc: 0.8425 - val_loss: 0.5771 - val_acc: 0.8388\n",
      "Epoch 68/200\n",
      "337179/337179 [==============================] - 60s 178us/sample - loss: 0.5745 - acc: 0.8425 - val_loss: 0.5757 - val_acc: 0.8433\n",
      "Epoch 69/200\n",
      "337179/337179 [==============================] - 59s 174us/sample - loss: 0.5746 - acc: 0.8430 - val_loss: 0.5780 - val_acc: 0.8319\n",
      "Epoch 70/200\n",
      "337179/337179 [==============================] - 59s 174us/sample - loss: 0.5744 - acc: 0.8430 - val_loss: 0.5767 - val_acc: 0.8406\n",
      "Epoch 71/200\n",
      "337179/337179 [==============================] - 65s 191us/sample - loss: 0.5743 - acc: 0.8434 - val_loss: 0.5780 - val_acc: 0.8334\n",
      "Epoch 72/200\n",
      "337179/337179 [==============================] - 57s 170us/sample - loss: 0.5743 - acc: 0.8432 - val_loss: 0.5762 - val_acc: 0.8372\n",
      "Epoch 73/200\n",
      "337179/337179 [==============================] - 58s 173us/sample - loss: 0.5743 - acc: 0.8440 - val_loss: 0.5753 - val_acc: 0.8430\n",
      "Epoch 74/200\n",
      "337179/337179 [==============================] - 59s 175us/sample - loss: 0.5743 - acc: 0.8434 - val_loss: 0.5768 - val_acc: 0.8381\n",
      "Epoch 75/200\n",
      "337179/337179 [==============================] - 57s 169us/sample - loss: 0.5742 - acc: 0.8436 - val_loss: 0.5753 - val_acc: 0.8420\n",
      "Epoch 76/200\n",
      "337179/337179 [==============================] - 59s 175us/sample - loss: 0.5742 - acc: 0.8436 - val_loss: 0.5777 - val_acc: 0.8304\n",
      "Epoch 77/200\n",
      "337179/337179 [==============================] - 55s 162us/sample - loss: 0.5740 - acc: 0.8446 - val_loss: 0.5760 - val_acc: 0.8429\n",
      "Epoch 78/200\n",
      "337179/337179 [==============================] - 51s 152us/sample - loss: 0.5740 - acc: 0.8436 - val_loss: 0.5765 - val_acc: 0.8357\n",
      "Epoch 79/200\n",
      "337179/337179 [==============================] - 44s 131us/sample - loss: 0.5742 - acc: 0.8432 - val_loss: 0.5781 - val_acc: 0.8353\n",
      "Epoch 80/200\n",
      "337179/337179 [==============================] - 48s 142us/sample - loss: 0.5742 - acc: 0.8434 - val_loss: 0.5757 - val_acc: 0.8418\n",
      "Epoch 81/200\n",
      "337179/337179 [==============================] - 46s 135us/sample - loss: 0.5742 - acc: 0.8438 - val_loss: 0.5754 - val_acc: 0.8466\n",
      "Epoch 82/200\n",
      "337179/337179 [==============================] - 47s 140us/sample - loss: 0.5739 - acc: 0.8447 - val_loss: 0.5772 - val_acc: 0.8359\n",
      "Epoch 83/200\n",
      "337179/337179 [==============================] - 45s 134us/sample - loss: 0.5740 - acc: 0.8445 - val_loss: 0.5755 - val_acc: 0.8427\n",
      "Epoch 84/200\n",
      "337179/337179 [==============================] - 46s 137us/sample - loss: 0.5737 - acc: 0.8447 - val_loss: 0.5757 - val_acc: 0.8391\n",
      "Epoch 85/200\n",
      "337179/337179 [==============================] - 47s 138us/sample - loss: 0.5737 - acc: 0.8450 - val_loss: 0.5760 - val_acc: 0.8450\n",
      "Epoch 86/200\n",
      "337179/337179 [==============================] - 45s 135us/sample - loss: 0.5738 - acc: 0.8448 - val_loss: 0.5768 - val_acc: 0.8331\n",
      "Epoch 87/200\n",
      "337179/337179 [==============================] - 47s 139us/sample - loss: 0.5737 - acc: 0.8451 - val_loss: 0.5756 - val_acc: 0.8436\n",
      "Epoch 88/200\n",
      "337179/337179 [==============================] - 46s 136us/sample - loss: 0.5738 - acc: 0.8447 - val_loss: 0.5758 - val_acc: 0.8477\n",
      "Epoch 89/200\n",
      "337179/337179 [==============================] - 47s 139us/sample - loss: 0.5736 - acc: 0.8456 - val_loss: 0.5754 - val_acc: 0.8408\n",
      "Epoch 90/200\n",
      "337179/337179 [==============================] - 46s 138us/sample - loss: 0.5736 - acc: 0.8449 - val_loss: 0.5761 - val_acc: 0.8408\n",
      "Epoch 91/200\n",
      "337179/337179 [==============================] - 46s 136us/sample - loss: 0.5737 - acc: 0.8448 - val_loss: 0.5760 - val_acc: 0.8400\n",
      "Epoch 92/200\n",
      "337179/337179 [==============================] - 47s 138us/sample - loss: 0.5735 - acc: 0.8449 - val_loss: 0.5767 - val_acc: 0.8419\n",
      "Epoch 93/200\n",
      "337179/337179 [==============================] - 46s 136us/sample - loss: 0.5736 - acc: 0.8450 - val_loss: 0.5759 - val_acc: 0.8427\n",
      "Epoch 94/200\n",
      "337179/337179 [==============================] - 46s 136us/sample - loss: 0.5735 - acc: 0.8453 - val_loss: 0.5756 - val_acc: 0.8440\n",
      "Epoch 95/200\n",
      "337179/337179 [==============================] - 46s 136us/sample - loss: 0.5733 - acc: 0.8459 - val_loss: 0.5764 - val_acc: 0.8447\n",
      "Epoch 96/200\n",
      "337179/337179 [==============================] - 47s 138us/sample - loss: 0.5736 - acc: 0.8452 - val_loss: 0.5767 - val_acc: 0.8360\n",
      "Epoch 97/200\n",
      "337179/337179 [==============================] - 46s 137us/sample - loss: 0.5734 - acc: 0.8456 - val_loss: 0.5777 - val_acc: 0.8368\n",
      "Epoch 98/200\n",
      "337179/337179 [==============================] - 46s 137us/sample - loss: 0.5733 - acc: 0.8459 - val_loss: 0.5758 - val_acc: 0.8409\n",
      "Epoch 99/200\n",
      "337179/337179 [==============================] - 46s 137us/sample - loss: 0.5732 - acc: 0.8464 - val_loss: 0.5758 - val_acc: 0.8393\n",
      "Epoch 100/200\n",
      "337179/337179 [==============================] - 46s 136us/sample - loss: 0.5732 - acc: 0.8460 - val_loss: 0.5763 - val_acc: 0.8358\n",
      "Epoch 101/200\n",
      "337179/337179 [==============================] - 47s 140us/sample - loss: 0.5733 - acc: 0.8457 - val_loss: 0.5759 - val_acc: 0.8425\n",
      "Epoch 102/200\n",
      "337179/337179 [==============================] - 46s 136us/sample - loss: 0.5732 - acc: 0.8465 - val_loss: 0.5754 - val_acc: 0.8428\n",
      "Epoch 103/200\n",
      "337179/337179 [==============================] - 47s 138us/sample - loss: 0.5733 - acc: 0.8456 - val_loss: 0.5764 - val_acc: 0.8368\n",
      "Epoch 104/200\n",
      "337179/337179 [==============================] - 46s 136us/sample - loss: 0.5731 - acc: 0.8465 - val_loss: 0.5764 - val_acc: 0.8406\n",
      "Epoch 105/200\n",
      "337179/337179 [==============================] - 47s 139us/sample - loss: 0.5730 - acc: 0.8466 - val_loss: 0.5760 - val_acc: 0.8407\n",
      "Epoch 106/200\n",
      "337179/337179 [==============================] - 46s 137us/sample - loss: 0.5729 - acc: 0.8463 - val_loss: 0.5762 - val_acc: 0.8369\n",
      "Epoch 107/200\n",
      "337179/337179 [==============================] - 46s 137us/sample - loss: 0.5731 - acc: 0.8461 - val_loss: 0.5766 - val_acc: 0.8389\n",
      "Epoch 108/200\n",
      "337179/337179 [==============================] - 47s 140us/sample - loss: 0.5732 - acc: 0.8461 - val_loss: 0.5762 - val_acc: 0.8385\n",
      "Epoch 109/200\n",
      "337179/337179 [==============================] - 46s 135us/sample - loss: 0.5731 - acc: 0.8459 - val_loss: 0.5763 - val_acc: 0.8343\n",
      "Epoch 110/200\n",
      "337179/337179 [==============================] - 47s 140us/sample - loss: 0.5729 - acc: 0.8470 - val_loss: 0.5782 - val_acc: 0.8299\n",
      "Epoch 111/200\n",
      "337179/337179 [==============================] - 45s 134us/sample - loss: 0.5731 - acc: 0.8459 - val_loss: 0.5758 - val_acc: 0.8422\n",
      "Epoch 112/200\n",
      "337179/337179 [==============================] - 47s 140us/sample - loss: 0.5731 - acc: 0.8463 - val_loss: 0.5765 - val_acc: 0.8391\n",
      "Epoch 113/200\n"
     ]
    },
    {
     "name": "stdout",
     "output_type": "stream",
     "text": [
      "337179/337179 [==============================] - 47s 139us/sample - loss: 0.5728 - acc: 0.8472 - val_loss: 0.5762 - val_acc: 0.8446\n",
      "Epoch 114/200\n",
      "337179/337179 [==============================] - 44s 131us/sample - loss: 0.5732 - acc: 0.8466 - val_loss: 0.5769 - val_acc: 0.8402\n",
      "Epoch 115/200\n",
      "337179/337179 [==============================] - 47s 139us/sample - loss: 0.5729 - acc: 0.8473 - val_loss: 0.5755 - val_acc: 0.8444\n",
      "Epoch 116/200\n",
      "337179/337179 [==============================] - 46s 136us/sample - loss: 0.5728 - acc: 0.8468 - val_loss: 0.5760 - val_acc: 0.8358\n",
      "Epoch 117/200\n",
      "337179/337179 [==============================] - 47s 140us/sample - loss: 0.5728 - acc: 0.8469 - val_loss: 0.5760 - val_acc: 0.8351\n",
      "Epoch 118/200\n",
      "337179/337179 [==============================] - 45s 132us/sample - loss: 0.5727 - acc: 0.8473 - val_loss: 0.5758 - val_acc: 0.8440\n",
      "Epoch 119/200\n",
      "337179/337179 [==============================] - 46s 137us/sample - loss: 0.5729 - acc: 0.8466 - val_loss: 0.5760 - val_acc: 0.8397\n",
      "Epoch 120/200\n",
      "337179/337179 [==============================] - 48s 141us/sample - loss: 0.5729 - acc: 0.8469 - val_loss: 0.5772 - val_acc: 0.8317\n",
      "Epoch 121/200\n",
      "337179/337179 [==============================] - 46s 136us/sample - loss: 0.5728 - acc: 0.8473 - val_loss: 0.5761 - val_acc: 0.8386\n",
      "Epoch 122/200\n",
      "337179/337179 [==============================] - 46s 137us/sample - loss: 0.5727 - acc: 0.8474 - val_loss: 0.5779 - val_acc: 0.8324\n",
      "Epoch 123/200\n",
      "337179/337179 [==============================] - 46s 136us/sample - loss: 0.5727 - acc: 0.8476 - val_loss: 0.5760 - val_acc: 0.8380\n",
      "Epoch 124/200\n",
      "337179/337179 [==============================] - 46s 138us/sample - loss: 0.5727 - acc: 0.8478 - val_loss: 0.5756 - val_acc: 0.8444\n",
      "Epoch 125/200\n",
      "337179/337179 [==============================] - 47s 141us/sample - loss: 0.5726 - acc: 0.8476 - val_loss: 0.5760 - val_acc: 0.8403\n",
      "Epoch 126/200\n",
      "337179/337179 [==============================] - 45s 135us/sample - loss: 0.5725 - acc: 0.8477 - val_loss: 0.5765 - val_acc: 0.8364\n",
      "Epoch 127/200\n",
      "337179/337179 [==============================] - 47s 140us/sample - loss: 0.5726 - acc: 0.8474 - val_loss: 0.5755 - val_acc: 0.8406\n",
      "Epoch 128/200\n",
      "337179/337179 [==============================] - 46s 136us/sample - loss: 0.5727 - acc: 0.8476 - val_loss: 0.5759 - val_acc: 0.8399\n",
      "Epoch 129/200\n",
      "337179/337179 [==============================] - 46s 138us/sample - loss: 0.5724 - acc: 0.8486 - val_loss: 0.5766 - val_acc: 0.8417\n",
      "Epoch 130/200\n",
      "337179/337179 [==============================] - 45s 134us/sample - loss: 0.5723 - acc: 0.8480 - val_loss: 0.5758 - val_acc: 0.8397\n",
      "Epoch 131/200\n",
      "337179/337179 [==============================] - 46s 136us/sample - loss: 0.5724 - acc: 0.8482 - val_loss: 0.5764 - val_acc: 0.8337\n",
      "Epoch 132/200\n",
      "337179/337179 [==============================] - 47s 141us/sample - loss: 0.5724 - acc: 0.8476 - val_loss: 0.5748 - val_acc: 0.8442\n",
      "Epoch 133/200\n",
      "337179/337179 [==============================] - 47s 139us/sample - loss: 0.5723 - acc: 0.8482 - val_loss: 0.5752 - val_acc: 0.8418\n",
      "Epoch 134/200\n",
      "337179/337179 [==============================] - 45s 134us/sample - loss: 0.5724 - acc: 0.8485 - val_loss: 0.5763 - val_acc: 0.8371\n",
      "Epoch 135/200\n",
      "337179/337179 [==============================] - 46s 137us/sample - loss: 0.5724 - acc: 0.8480 - val_loss: 0.5757 - val_acc: 0.8403\n",
      "Epoch 136/200\n",
      "337179/337179 [==============================] - 47s 139us/sample - loss: 0.5721 - acc: 0.8485 - val_loss: 0.5761 - val_acc: 0.8394\n",
      "Epoch 137/200\n",
      "337179/337179 [==============================] - 46s 137us/sample - loss: 0.5724 - acc: 0.8480 - val_loss: 0.5760 - val_acc: 0.8428\n",
      "Epoch 138/200\n",
      "337179/337179 [==============================] - 46s 136us/sample - loss: 0.5722 - acc: 0.8484 - val_loss: 0.5759 - val_acc: 0.8429\n",
      "Epoch 139/200\n",
      "337179/337179 [==============================] - 46s 136us/sample - loss: 0.5724 - acc: 0.8476 - val_loss: 0.5755 - val_acc: 0.8412\n",
      "Epoch 140/200\n",
      "337179/337179 [==============================] - 47s 140us/sample - loss: 0.5723 - acc: 0.8479 - val_loss: 0.5754 - val_acc: 0.8379\n",
      "Epoch 141/200\n",
      "337179/337179 [==============================] - 47s 139us/sample - loss: 0.5722 - acc: 0.8485 - val_loss: 0.5754 - val_acc: 0.8431\n",
      "Epoch 142/200\n",
      "337179/337179 [==============================] - 45s 135us/sample - loss: 0.5723 - acc: 0.8482 - val_loss: 0.5752 - val_acc: 0.8457\n",
      "Epoch 143/200\n",
      "337179/337179 [==============================] - 47s 140us/sample - loss: 0.5724 - acc: 0.8481 - val_loss: 0.5758 - val_acc: 0.8390\n",
      "Epoch 144/200\n",
      "337179/337179 [==============================] - 46s 137us/sample - loss: 0.5722 - acc: 0.8483 - val_loss: 0.5759 - val_acc: 0.8393\n",
      "Epoch 145/200\n",
      "337179/337179 [==============================] - 48s 142us/sample - loss: 0.5721 - acc: 0.8483 - val_loss: 0.5758 - val_acc: 0.8377\n",
      "Epoch 146/200\n",
      "337179/337179 [==============================] - 45s 132us/sample - loss: 0.5723 - acc: 0.8482 - val_loss: 0.5762 - val_acc: 0.8389\n",
      "Epoch 147/200\n",
      "337179/337179 [==============================] - 47s 139us/sample - loss: 0.5722 - acc: 0.8485 - val_loss: 0.5752 - val_acc: 0.8428\n",
      "Epoch 148/200\n",
      "337179/337179 [==============================] - 46s 136us/sample - loss: 0.5724 - acc: 0.8479 - val_loss: 0.5750 - val_acc: 0.8415\n",
      "Epoch 149/200\n",
      "337179/337179 [==============================] - 46s 137us/sample - loss: 0.5721 - acc: 0.8487 - val_loss: 0.5760 - val_acc: 0.8366\n",
      "Epoch 150/200\n",
      "337179/337179 [==============================] - 46s 137us/sample - loss: 0.5722 - acc: 0.8487 - val_loss: 0.5767 - val_acc: 0.8393\n",
      "Epoch 151/200\n",
      "337179/337179 [==============================] - 46s 136us/sample - loss: 0.5720 - acc: 0.8494 - val_loss: 0.5752 - val_acc: 0.8425\n",
      "Epoch 152/200\n",
      "337179/337179 [==============================] - 47s 139us/sample - loss: 0.5719 - acc: 0.8494 - val_loss: 0.5766 - val_acc: 0.8370\n",
      "Epoch 153/200\n",
      "337179/337179 [==============================] - 46s 136us/sample - loss: 0.5720 - acc: 0.8488 - val_loss: 0.5753 - val_acc: 0.8422\n",
      "Epoch 154/200\n",
      "337179/337179 [==============================] - 46s 135us/sample - loss: 0.5719 - acc: 0.8494 - val_loss: 0.5756 - val_acc: 0.8385\n",
      "Epoch 155/200\n",
      "337179/337179 [==============================] - 47s 141us/sample - loss: 0.5720 - acc: 0.8491 - val_loss: 0.5749 - val_acc: 0.8448\n",
      "Epoch 156/200\n",
      "337179/337179 [==============================] - 46s 136us/sample - loss: 0.5719 - acc: 0.8496 - val_loss: 0.5772 - val_acc: 0.8316\n",
      "Epoch 157/200\n",
      "337179/337179 [==============================] - 47s 139us/sample - loss: 0.5719 - acc: 0.8494 - val_loss: 0.5761 - val_acc: 0.8436\n",
      "Epoch 158/200\n",
      "337179/337179 [==============================] - 44s 130us/sample - loss: 0.5718 - acc: 0.8497 - val_loss: 0.5751 - val_acc: 0.8440\n",
      "Epoch 159/200\n",
      "337179/337179 [==============================] - 46s 138us/sample - loss: 0.5718 - acc: 0.8491 - val_loss: 0.5759 - val_acc: 0.8457\n",
      "Epoch 160/200\n",
      "337179/337179 [==============================] - 47s 140us/sample - loss: 0.5720 - acc: 0.8489 - val_loss: 0.5754 - val_acc: 0.8425\n",
      "Epoch 161/200\n",
      "337179/337179 [==============================] - 47s 139us/sample - loss: 0.5719 - acc: 0.8492 - val_loss: 0.5764 - val_acc: 0.8396\n",
      "Epoch 162/200\n",
      "337179/337179 [==============================] - 46s 137us/sample - loss: 0.5719 - acc: 0.8491 - val_loss: 0.5754 - val_acc: 0.8402\n",
      "Epoch 163/200\n",
      "337179/337179 [==============================] - 46s 138us/sample - loss: 0.5718 - acc: 0.8491 - val_loss: 0.5755 - val_acc: 0.8383\n",
      "Epoch 164/200\n",
      "337179/337179 [==============================] - 47s 139us/sample - loss: 0.5717 - acc: 0.8497 - val_loss: 0.5752 - val_acc: 0.8426\n",
      "Epoch 165/200\n",
      "337179/337179 [==============================] - 47s 139us/sample - loss: 0.5717 - acc: 0.8495 - val_loss: 0.5749 - val_acc: 0.8433\n",
      "Epoch 166/200\n",
      "337179/337179 [==============================] - 45s 134us/sample - loss: 0.5719 - acc: 0.8494 - val_loss: 0.5751 - val_acc: 0.8437\n",
      "Epoch 167/200\n",
      "337179/337179 [==============================] - 47s 140us/sample - loss: 0.5718 - acc: 0.8491 - val_loss: 0.5752 - val_acc: 0.8420\n",
      "Epoch 168/200\n",
      "337179/337179 [==============================] - 47s 139us/sample - loss: 0.5719 - acc: 0.8492 - val_loss: 0.5769 - val_acc: 0.8376\n",
      "Epoch 169/200\n",
      "337179/337179 [==============================] - 47s 140us/sample - loss: 0.5717 - acc: 0.8497 - val_loss: 0.5757 - val_acc: 0.8384\n",
      "Epoch 170/200\n",
      "337179/337179 [==============================] - 45s 135us/sample - loss: 0.5715 - acc: 0.8503 - val_loss: 0.5759 - val_acc: 0.8384\n",
      "Epoch 171/200\n",
      "337179/337179 [==============================] - 47s 140us/sample - loss: 0.5717 - acc: 0.8500 - val_loss: 0.5749 - val_acc: 0.8450\n",
      "Epoch 172/200\n",
      "337179/337179 [==============================] - 47s 138us/sample - loss: 0.5717 - acc: 0.8498 - val_loss: 0.5758 - val_acc: 0.8386\n",
      "Epoch 173/200\n",
      "337179/337179 [==============================] - 47s 140us/sample - loss: 0.5716 - acc: 0.8501 - val_loss: 0.5754 - val_acc: 0.8396\n",
      "Epoch 174/200\n",
      "337179/337179 [==============================] - 45s 134us/sample - loss: 0.5716 - acc: 0.8501 - val_loss: 0.5771 - val_acc: 0.8356\n",
      "Epoch 175/200\n",
      "337179/337179 [==============================] - 49s 145us/sample - loss: 0.5717 - acc: 0.8499 - val_loss: 0.5751 - val_acc: 0.8436\n",
      "Epoch 176/200\n",
      "337179/337179 [==============================] - 46s 137us/sample - loss: 0.5715 - acc: 0.8503 - val_loss: 0.5758 - val_acc: 0.8368\n",
      "Epoch 177/200\n",
      "337179/337179 [==============================] - 47s 139us/sample - loss: 0.5716 - acc: 0.8502 - val_loss: 0.5774 - val_acc: 0.8384\n",
      "Epoch 178/200\n",
      "337179/337179 [==============================] - 46s 136us/sample - loss: 0.5714 - acc: 0.8505 - val_loss: 0.5754 - val_acc: 0.8450\n",
      "Epoch 179/200\n",
      "337179/337179 [==============================] - 46s 138us/sample - loss: 0.5714 - acc: 0.8508 - val_loss: 0.5761 - val_acc: 0.8368\n",
      "Epoch 180/200\n",
      "337179/337179 [==============================] - 48s 142us/sample - loss: 0.5716 - acc: 0.8500 - val_loss: 0.5761 - val_acc: 0.8361\n",
      "Epoch 181/200\n",
      "337179/337179 [==============================] - 45s 134us/sample - loss: 0.5715 - acc: 0.8501 - val_loss: 0.5758 - val_acc: 0.8415\n",
      "Epoch 182/200\n",
      "337179/337179 [==============================] - 47s 139us/sample - loss: 0.5715 - acc: 0.8500 - val_loss: 0.5757 - val_acc: 0.8428\n",
      "Epoch 183/200\n",
      "337179/337179 [==============================] - 47s 138us/sample - loss: 0.5715 - acc: 0.8499 - val_loss: 0.5755 - val_acc: 0.8435\n",
      "Epoch 184/200\n",
      "337179/337179 [==============================] - 46s 135us/sample - loss: 0.5712 - acc: 0.8510 - val_loss: 0.5757 - val_acc: 0.8423\n",
      "Epoch 185/200\n",
      "337179/337179 [==============================] - 46s 138us/sample - loss: 0.5715 - acc: 0.8506 - val_loss: 0.5755 - val_acc: 0.8415\n",
      "Epoch 186/200\n",
      "337179/337179 [==============================] - 44s 132us/sample - loss: 0.5716 - acc: 0.8498 - val_loss: 0.5752 - val_acc: 0.8438\n",
      "Epoch 187/200\n",
      "337179/337179 [==============================] - 47s 139us/sample - loss: 0.5712 - acc: 0.8511 - val_loss: 0.5772 - val_acc: 0.8414\n",
      "Epoch 188/200\n",
      "337179/337179 [==============================] - 46s 137us/sample - loss: 0.5714 - acc: 0.8504 - val_loss: 0.5745 - val_acc: 0.8458\n",
      "Epoch 189/200\n",
      "337179/337179 [==============================] - 46s 136us/sample - loss: 0.5714 - acc: 0.8502 - val_loss: 0.5749 - val_acc: 0.8426\n",
      "Epoch 190/200\n",
      "337179/337179 [==============================] - 47s 138us/sample - loss: 0.5715 - acc: 0.8501 - val_loss: 0.5753 - val_acc: 0.8433\n",
      "Epoch 191/200\n",
      "337179/337179 [==============================] - 45s 134us/sample - loss: 0.5713 - acc: 0.8506 - val_loss: 0.5761 - val_acc: 0.8374\n",
      "Epoch 192/200\n",
      "337179/337179 [==============================] - 48s 141us/sample - loss: 0.5712 - acc: 0.8505 - val_loss: 0.5752 - val_acc: 0.8426\n",
      "Epoch 193/200\n",
      "337179/337179 [==============================] - 45s 134us/sample - loss: 0.5713 - acc: 0.8503 - val_loss: 0.5753 - val_acc: 0.8437\n",
      "Epoch 194/200\n",
      "337179/337179 [==============================] - 45s 134us/sample - loss: 0.5714 - acc: 0.8504 - val_loss: 0.5755 - val_acc: 0.8410\n",
      "Epoch 195/200\n",
      "337179/337179 [==============================] - 46s 136us/sample - loss: 0.5715 - acc: 0.8501 - val_loss: 0.5747 - val_acc: 0.8456\n",
      "Epoch 196/200\n",
      "337179/337179 [==============================] - 45s 134us/sample - loss: 0.5713 - acc: 0.8508 - val_loss: 0.5769 - val_acc: 0.8367\n",
      "Epoch 197/200\n",
      "337179/337179 [==============================] - 46s 135us/sample - loss: 0.5713 - acc: 0.8503 - val_loss: 0.5759 - val_acc: 0.8368\n",
      "Epoch 198/200\n",
      "337179/337179 [==============================] - 45s 133us/sample - loss: 0.5710 - acc: 0.8512 - val_loss: 0.5755 - val_acc: 0.8384\n",
      "Epoch 199/200\n",
      "337179/337179 [==============================] - 47s 139us/sample - loss: 0.5713 - acc: 0.8506 - val_loss: 0.5750 - val_acc: 0.8464\n",
      "Epoch 200/200\n",
      "337179/337179 [==============================] - 46s 137us/sample - loss: 0.5714 - acc: 0.8505 - val_loss: 0.5754 - val_acc: 0.8435\n"
     ]
    }
   ],
   "source": [
    "history = model.fit(X_train, y_train, epochs=200, \n",
    "                    batch_size=100,\n",
    "                    validation_data=(X_val, y_val))"
   ]
  },
  {
   "cell_type": "code",
   "execution_count": 22,
   "metadata": {
    "ExecuteTime": {
     "end_time": "2021-09-30T21:07:04.481526Z",
     "start_time": "2021-09-30T21:07:04.233014Z"
    }
   },
   "outputs": [
    {
     "data": {
      "image/png": "[encoded data removed]",
      "text/plain": [
       "<Figure size 1152x144 with 2 Axes>"
      ]
     },
     "metadata": {
      "needs_background": "light"
     },
     "output_type": "display_data"
    }
   ],
   "source": [
    "plt.figure(figsize=(16,2))\n",
    "plt.subplot(1,2,1)\n",
    "plot_graphs(history, 'acc')\n",
    "plt.subplot(1,2,2)\n",
    "plot_graphs(history, 'loss')"
   ]
  },
  {
   "cell_type": "markdown",
   "metadata": {},
   "source": [
    "# 2-2. Github code"
   ]
  },
  {
   "cell_type": "code",
   "execution_count": 18,
   "metadata": {
    "ExecuteTime": {
     "end_time": "2021-09-30T18:18:04.214051Z",
     "start_time": "2021-09-30T15:37:26.163944Z"
    }
   },
   "outputs": [
    {
     "name": "stdout",
     "output_type": "stream",
     "text": [
      "Loading input peptides\n",
      "Succesfully loaded 421474 peptides and skipped 0\n",
      "Loading input peptides\n",
      "Succesfully loaded 88998 peptides and skipped 0\n",
      "(337179, 81) (84295, 81) (88998, 81) (337179,) (84295,) (88998,)\n",
      "Loading model...\n",
      "WARNING:tensorflow:Error in loading the saved optimizer state. As a result, your model is starting with a freshly initialized optimizer.\n",
      "Train on 337179 samples, validate on 84295 samples\n",
      "Epoch 1/200\n",
      "337179/337179 [==============================] - 42s 125us/sample - loss: 0.4377 - acc: 0.7897 - binary_crossentropy: 0.4377 - val_loss: 0.3726 - val_acc: 0.8292 - val_binary_crossentropy: 0.3726\n",
      "Epoch 2/200\n",
      "337179/337179 [==============================] - 41s 121us/sample - loss: 0.3780 - acc: 0.8287 - binary_crossentropy: 0.3780 - val_loss: 0.3588 - val_acc: 0.8363 - val_binary_crossentropy: 0.3588\n",
      "Epoch 3/200\n",
      "337179/337179 [==============================] - 41s 122us/sample - loss: 0.3658 - acc: 0.8357 - binary_crossentropy: 0.3658 - val_loss: 0.3505 - val_acc: 0.8418 - val_binary_crossentropy: 0.3505\n",
      "Epoch 4/200\n",
      "337179/337179 [==============================] - 41s 121us/sample - loss: 0.3601 - acc: 0.8388 - binary_crossentropy: 0.3601 - val_loss: 0.3512 - val_acc: 0.8418 - val_binary_crossentropy: 0.3512\n",
      "Epoch 5/200\n",
      "337179/337179 [==============================] - 41s 122us/sample - loss: 0.3561 - acc: 0.8409 - binary_crossentropy: 0.3561 - val_loss: 0.3461 - val_acc: 0.8445 - val_binary_crossentropy: 0.3461\n",
      "Epoch 6/200\n",
      "337179/337179 [==============================] - 41s 121us/sample - loss: 0.3539 - acc: 0.8423 - binary_crossentropy: 0.3539 - val_loss: 0.3465 - val_acc: 0.8428 - val_binary_crossentropy: 0.3465\n",
      "Epoch 7/200\n",
      "337179/337179 [==============================] - 41s 122us/sample - loss: 0.3513 - acc: 0.8434 - binary_crossentropy: 0.3513 - val_loss: 0.3446 - val_acc: 0.8468 - val_binary_crossentropy: 0.3446\n",
      "Epoch 8/200\n",
      "337179/337179 [==============================] - 41s 121us/sample - loss: 0.3489 - acc: 0.8452 - binary_crossentropy: 0.3489 - val_loss: 0.3415 - val_acc: 0.8472 - val_binary_crossentropy: 0.3415\n",
      "Epoch 9/200\n",
      "337179/337179 [==============================] - 41s 121us/sample - loss: 0.3475 - acc: 0.8456 - binary_crossentropy: 0.3476 - val_loss: 0.3415 - val_acc: 0.8476 - val_binary_crossentropy: 0.3415\n",
      "Epoch 10/200\n",
      "337179/337179 [==============================] - 41s 121us/sample - loss: 0.3454 - acc: 0.8462 - binary_crossentropy: 0.3454 - val_loss: 0.3436 - val_acc: 0.8459 - val_binary_crossentropy: 0.3436\n",
      "Epoch 11/200\n",
      "337179/337179 [==============================] - 41s 121us/sample - loss: 0.3447 - acc: 0.8468 - binary_crossentropy: 0.3447 - val_loss: 0.3381 - val_acc: 0.8491 - val_binary_crossentropy: 0.3381\n",
      "Epoch 12/200\n",
      "337179/337179 [==============================] - 41s 121us/sample - loss: 0.3434 - acc: 0.8482 - binary_crossentropy: 0.3434 - val_loss: 0.3449 - val_acc: 0.8459 - val_binary_crossentropy: 0.3449\n",
      "Epoch 13/200\n",
      "337179/337179 [==============================] - 41s 121us/sample - loss: 0.3424 - acc: 0.8478 - binary_crossentropy: 0.3424 - val_loss: 0.3417 - val_acc: 0.8474 - val_binary_crossentropy: 0.3417\n",
      "Epoch 14/200\n",
      "337179/337179 [==============================] - 41s 121us/sample - loss: 0.3412 - acc: 0.8486 - binary_crossentropy: 0.3412 - val_loss: 0.3408 - val_acc: 0.8475 - val_binary_crossentropy: 0.3408\n",
      "Epoch 15/200\n",
      "337179/337179 [==============================] - 41s 121us/sample - loss: 0.3403 - acc: 0.8487 - binary_crossentropy: 0.3403 - val_loss: 0.3385 - val_acc: 0.8494 - val_binary_crossentropy: 0.3385\n",
      "Epoch 16/200\n",
      "337179/337179 [==============================] - 41s 122us/sample - loss: 0.3390 - acc: 0.8490 - binary_crossentropy: 0.3390 - val_loss: 0.3383 - val_acc: 0.8505 - val_binary_crossentropy: 0.3383\n",
      "Epoch 17/200\n",
      "337179/337179 [==============================] - 41s 122us/sample - loss: 0.3379 - acc: 0.8507 - binary_crossentropy: 0.3379 - val_loss: 0.3383 - val_acc: 0.8493 - val_binary_crossentropy: 0.3383\n",
      "Epoch 18/200\n",
      "337179/337179 [==============================] - 41s 121us/sample - loss: 0.3374 - acc: 0.8505 - binary_crossentropy: 0.3374 - val_loss: 0.3376 - val_acc: 0.8505 - val_binary_crossentropy: 0.3376\n",
      "Epoch 19/200\n",
      "337179/337179 [==============================] - 41s 121us/sample - loss: 0.3362 - acc: 0.8516 - binary_crossentropy: 0.3362 - val_loss: 0.3429 - val_acc: 0.8462 - val_binary_crossentropy: 0.3429\n",
      "Epoch 20/200\n",
      "337179/337179 [==============================] - 44s 129us/sample - loss: 0.3356 - acc: 0.8511 - binary_crossentropy: 0.3356 - val_loss: 0.3432 - val_acc: 0.8465 - val_binary_crossentropy: 0.3432\n",
      "Epoch 21/200\n",
      "337179/337179 [==============================] - 41s 121us/sample - loss: 0.3358 - acc: 0.8513 - binary_crossentropy: 0.3358 - val_loss: 0.3433 - val_acc: 0.8466 - val_binary_crossentropy: 0.3433\n",
      "Epoch 22/200\n",
      "337179/337179 [==============================] - 41s 122us/sample - loss: 0.3347 - acc: 0.8522 - binary_crossentropy: 0.3347 - val_loss: 0.3461 - val_acc: 0.8458 - val_binary_crossentropy: 0.3461\n",
      "Epoch 23/200\n",
      "337179/337179 [==============================] - 41s 121us/sample - loss: 0.3339 - acc: 0.8524 - binary_crossentropy: 0.3339 - val_loss: 0.3339 - val_acc: 0.8522 - val_binary_crossentropy: 0.3339\n",
      "Epoch 24/200\n",
      "337179/337179 [==============================] - 41s 121us/sample - loss: 0.3332 - acc: 0.8527 - binary_crossentropy: 0.3332 - val_loss: 0.3366 - val_acc: 0.8507 - val_binary_crossentropy: 0.3366\n",
      "Epoch 25/200\n",
      "337179/337179 [==============================] - 41s 121us/sample - loss: 0.3335 - acc: 0.8527 - binary_crossentropy: 0.3335 - val_loss: 0.3364 - val_acc: 0.8498 - val_binary_crossentropy: 0.3364\n",
      "Epoch 26/200\n",
      "337179/337179 [==============================] - 41s 121us/sample - loss: 0.3323 - acc: 0.8537 - binary_crossentropy: 0.3323 - val_loss: 0.3356 - val_acc: 0.8515 - val_binary_crossentropy: 0.3356\n",
      "Epoch 27/200\n",
      "337179/337179 [==============================] - 41s 121us/sample - loss: 0.3322 - acc: 0.8534 - binary_crossentropy: 0.3322 - val_loss: 0.3407 - val_acc: 0.8479 - val_binary_crossentropy: 0.3407\n",
      "Epoch 28/200\n",
      "337179/337179 [==============================] - 40s 120us/sample - loss: 0.3309 - acc: 0.8544 - binary_crossentropy: 0.3309 - val_loss: 0.3388 - val_acc: 0.8495 - val_binary_crossentropy: 0.3388\n",
      "Epoch 29/200\n",
      "337179/337179 [==============================] - 40s 119us/sample - loss: 0.3305 - acc: 0.8540 - binary_crossentropy: 0.3305 - val_loss: 0.3376 - val_acc: 0.8490 - val_binary_crossentropy: 0.3376\n",
      "Epoch 30/200\n",
      "337179/337179 [==============================] - 40s 119us/sample - loss: 0.3307 - acc: 0.8546 - binary_crossentropy: 0.3307 - val_loss: 0.3371 - val_acc: 0.8497 - val_binary_crossentropy: 0.3371\n",
      "Epoch 31/200\n",
      "337179/337179 [==============================] - 40s 119us/sample - loss: 0.3298 - acc: 0.8550 - binary_crossentropy: 0.3298 - val_loss: 0.3396 - val_acc: 0.8489 - val_binary_crossentropy: 0.3396\n",
      "Epoch 32/200\n",
      "337179/337179 [==============================] - 40s 119us/sample - loss: 0.3299 - acc: 0.8545 - binary_crossentropy: 0.3299 - val_loss: 0.3397 - val_acc: 0.8480 - val_binary_crossentropy: 0.3397\n",
      "Epoch 33/200\n",
      "337179/337179 [==============================] - 40s 120us/sample - loss: 0.3289 - acc: 0.8549 - binary_crossentropy: 0.3289 - val_loss: 0.3434 - val_acc: 0.8461 - val_binary_crossentropy: 0.3434\n",
      "Epoch 34/200\n",
      "337179/337179 [==============================] - 40s 119us/sample - loss: 0.3290 - acc: 0.8549 - binary_crossentropy: 0.3290 - val_loss: 0.3355 - val_acc: 0.8498 - val_binary_crossentropy: 0.3355\n",
      "Epoch 35/200\n",
      "337179/337179 [==============================] - 40s 119us/sample - loss: 0.3287 - acc: 0.8549 - binary_crossentropy: 0.3287 - val_loss: 0.3395 - val_acc: 0.8499 - val_binary_crossentropy: 0.3395\n",
      "Epoch 36/200\n",
      "337179/337179 [==============================] - 40s 119us/sample - loss: 0.3281 - acc: 0.8556 - binary_crossentropy: 0.3281 - val_loss: 0.3358 - val_acc: 0.8508 - val_binary_crossentropy: 0.3358\n",
      "Epoch 37/200\n",
      "337179/337179 [==============================] - 40s 119us/sample - loss: 0.3281 - acc: 0.8555 - binary_crossentropy: 0.3281 - val_loss: 0.3363 - val_acc: 0.8504 - val_binary_crossentropy: 0.3363\n",
      "Epoch 38/200\n",
      "337179/337179 [==============================] - 40s 119us/sample - loss: 0.3268 - acc: 0.8556 - binary_crossentropy: 0.3268 - val_loss: 0.3416 - val_acc: 0.8480 - val_binary_crossentropy: 0.3416\n",
      "Epoch 39/200\n",
      "337179/337179 [==============================] - 40s 119us/sample - loss: 0.3264 - acc: 0.8563 - binary_crossentropy: 0.3264 - val_loss: 0.3395 - val_acc: 0.8490 - val_binary_crossentropy: 0.3395\n",
      "Epoch 40/200\n",
      "337179/337179 [==============================] - 40s 119us/sample - loss: 0.3263 - acc: 0.8561 - binary_crossentropy: 0.3263 - val_loss: 0.3332 - val_acc: 0.8516 - val_binary_crossentropy: 0.3332\n",
      "Epoch 41/200\n",
      "337179/337179 [==============================] - 40s 119us/sample - loss: 0.3257 - acc: 0.8568 - binary_crossentropy: 0.3257 - val_loss: 0.3417 - val_acc: 0.8475 - val_binary_crossentropy: 0.3417\n",
      "Epoch 42/200\n",
      "337179/337179 [==============================] - 41s 121us/sample - loss: 0.3252 - acc: 0.8566 - binary_crossentropy: 0.3252 - val_loss: 0.3355 - val_acc: 0.8503 - val_binary_crossentropy: 0.3355\n",
      "Epoch 43/200\n",
      "337179/337179 [==============================] - 40s 119us/sample - loss: 0.3244 - acc: 0.8580 - binary_crossentropy: 0.3244 - val_loss: 0.3454 - val_acc: 0.8455 - val_binary_crossentropy: 0.3454\n",
      "Epoch 44/200\n",
      "337179/337179 [==============================] - 40s 119us/sample - loss: 0.3245 - acc: 0.8565 - binary_crossentropy: 0.3245 - val_loss: 0.3422 - val_acc: 0.8489 - val_binary_crossentropy: 0.3422\n",
      "Epoch 45/200\n",
      "337179/337179 [==============================] - 40s 119us/sample - loss: 0.3241 - acc: 0.8579 - binary_crossentropy: 0.3241 - val_loss: 0.3377 - val_acc: 0.8480 - val_binary_crossentropy: 0.3377\n",
      "Epoch 46/200\n",
      "337179/337179 [==============================] - 40s 119us/sample - loss: 0.3239 - acc: 0.8578 - binary_crossentropy: 0.3239 - val_loss: 0.3354 - val_acc: 0.8508 - val_binary_crossentropy: 0.3354\n",
      "Epoch 47/200\n",
      "337179/337179 [==============================] - 41s 121us/sample - loss: 0.3234 - acc: 0.8580 - binary_crossentropy: 0.3234 - val_loss: 0.3349 - val_acc: 0.8504 - val_binary_crossentropy: 0.3349\n",
      "Epoch 48/200\n",
      "337179/337179 [==============================] - 40s 119us/sample - loss: 0.3234 - acc: 0.8576 - binary_crossentropy: 0.3234 - val_loss: 0.3412 - val_acc: 0.8501 - val_binary_crossentropy: 0.3412\n",
      "Epoch 49/200\n",
      "337179/337179 [==============================] - 40s 119us/sample - loss: 0.3225 - acc: 0.8579 - binary_crossentropy: 0.3225 - val_loss: 0.3325 - val_acc: 0.8521 - val_binary_crossentropy: 0.3325\n",
      "Epoch 50/200\n",
      "337179/337179 [==============================] - 40s 119us/sample - loss: 0.3228 - acc: 0.8581 - binary_crossentropy: 0.3228 - val_loss: 0.3407 - val_acc: 0.8487 - val_binary_crossentropy: 0.3407\n",
      "Epoch 51/200\n",
      "337179/337179 [==============================] - 41s 120us/sample - loss: 0.3216 - acc: 0.8582 - binary_crossentropy: 0.3216 - val_loss: 0.3345 - val_acc: 0.8515 - val_binary_crossentropy: 0.3345\n",
      "Epoch 52/200\n",
      "337179/337179 [==============================] - 40s 119us/sample - loss: 0.3217 - acc: 0.8584 - binary_crossentropy: 0.3217 - val_loss: 0.3350 - val_acc: 0.8503 - val_binary_crossentropy: 0.3350\n",
      "Epoch 53/200\n",
      "337179/337179 [==============================] - 40s 119us/sample - loss: 0.3219 - acc: 0.8583 - binary_crossentropy: 0.3219 - val_loss: 0.3370 - val_acc: 0.8496 - val_binary_crossentropy: 0.3370\n",
      "Epoch 54/200\n",
      "337179/337179 [==============================] - 40s 119us/sample - loss: 0.3211 - acc: 0.8591 - binary_crossentropy: 0.3211 - val_loss: 0.3395 - val_acc: 0.8488 - val_binary_crossentropy: 0.3395\n",
      "Epoch 55/200\n",
      "337179/337179 [==============================] - 40s 119us/sample - loss: 0.3211 - acc: 0.8584 - binary_crossentropy: 0.3211 - val_loss: 0.3446 - val_acc: 0.8483 - val_binary_crossentropy: 0.3446\n",
      "Epoch 56/200\n",
      "337179/337179 [==============================] - 41s 121us/sample - loss: 0.3208 - acc: 0.8589 - binary_crossentropy: 0.3208 - val_loss: 0.3426 - val_acc: 0.8478 - val_binary_crossentropy: 0.3426\n",
      "Epoch 57/200\n",
      "337179/337179 [==============================] - 40s 119us/sample - loss: 0.3205 - acc: 0.8590 - binary_crossentropy: 0.3205 - val_loss: 0.3327 - val_acc: 0.8508 - val_binary_crossentropy: 0.3327\n",
      "Epoch 58/200\n",
      "337179/337179 [==============================] - 40s 119us/sample - loss: 0.3191 - acc: 0.8601 - binary_crossentropy: 0.3191 - val_loss: 0.3381 - val_acc: 0.8505 - val_binary_crossentropy: 0.3381\n",
      "Epoch 59/200\n",
      "337179/337179 [==============================] - 40s 119us/sample - loss: 0.3201 - acc: 0.8592 - binary_crossentropy: 0.3201 - val_loss: 0.3458 - val_acc: 0.8479 - val_binary_crossentropy: 0.3458\n",
      "Epoch 60/200\n",
      "337179/337179 [==============================] - 41s 120us/sample - loss: 0.3202 - acc: 0.8587 - binary_crossentropy: 0.3202 - val_loss: 0.3378 - val_acc: 0.8496 - val_binary_crossentropy: 0.3378\n",
      "Epoch 61/200\n",
      "337179/337179 [==============================] - 40s 119us/sample - loss: 0.3197 - acc: 0.8591 - binary_crossentropy: 0.3197 - val_loss: 0.3385 - val_acc: 0.8508 - val_binary_crossentropy: 0.3385\n",
      "Epoch 62/200\n",
      "337179/337179 [==============================] - 40s 119us/sample - loss: 0.3198 - acc: 0.8592 - binary_crossentropy: 0.3198 - val_loss: 0.3375 - val_acc: 0.8481 - val_binary_crossentropy: 0.3375\n",
      "Epoch 63/200\n",
      "337179/337179 [==============================] - 41s 121us/sample - loss: 0.3196 - acc: 0.8591 - binary_crossentropy: 0.3196 - val_loss: 0.3343 - val_acc: 0.8516 - val_binary_crossentropy: 0.3343\n",
      "Epoch 64/200\n",
      "337179/337179 [==============================] - 40s 120us/sample - loss: 0.3186 - acc: 0.8595 - binary_crossentropy: 0.3186 - val_loss: 0.3426 - val_acc: 0.8500 - val_binary_crossentropy: 0.3426\n",
      "Epoch 65/200\n",
      "337179/337179 [==============================] - 41s 120us/sample - loss: 0.3195 - acc: 0.8593 - binary_crossentropy: 0.3195 - val_loss: 0.3336 - val_acc: 0.8507 - val_binary_crossentropy: 0.3336\n",
      "Epoch 66/200\n",
      "337179/337179 [==============================] - 40s 120us/sample - loss: 0.3186 - acc: 0.8602 - binary_crossentropy: 0.3186 - val_loss: 0.3379 - val_acc: 0.8492 - val_binary_crossentropy: 0.3379\n",
      "Epoch 67/200\n",
      "337179/337179 [==============================] - 41s 121us/sample - loss: 0.3188 - acc: 0.8594 - binary_crossentropy: 0.3188 - val_loss: 0.3389 - val_acc: 0.8495 - val_binary_crossentropy: 0.3389\n",
      "Epoch 68/200\n",
      "337179/337179 [==============================] - 40s 120us/sample - loss: 0.3184 - acc: 0.8604 - binary_crossentropy: 0.3184 - val_loss: 0.3328 - val_acc: 0.8510 - val_binary_crossentropy: 0.3328\n",
      "Epoch 69/200\n",
      "337179/337179 [==============================] - 40s 120us/sample - loss: 0.3189 - acc: 0.8604 - binary_crossentropy: 0.3189 - val_loss: 0.3335 - val_acc: 0.8521 - val_binary_crossentropy: 0.3335\n",
      "Epoch 70/200\n",
      "337179/337179 [==============================] - 41s 121us/sample - loss: 0.3186 - acc: 0.8597 - binary_crossentropy: 0.3186 - val_loss: 0.3366 - val_acc: 0.8507 - val_binary_crossentropy: 0.3366\n",
      "Epoch 71/200\n",
      "337179/337179 [==============================] - 41s 121us/sample - loss: 0.3183 - acc: 0.8600 - binary_crossentropy: 0.3183 - val_loss: 0.3388 - val_acc: 0.8487 - val_binary_crossentropy: 0.3388\n",
      "Epoch 72/200\n",
      "337179/337179 [==============================] - 40s 119us/sample - loss: 0.3173 - acc: 0.8608 - binary_crossentropy: 0.3173 - val_loss: 0.3386 - val_acc: 0.8485 - val_binary_crossentropy: 0.3386\n",
      "Epoch 73/200\n",
      "337179/337179 [==============================] - 41s 120us/sample - loss: 0.3177 - acc: 0.8602 - binary_crossentropy: 0.3177 - val_loss: 0.3412 - val_acc: 0.8504 - val_binary_crossentropy: 0.3412\n",
      "Epoch 74/200\n",
      "337179/337179 [==============================] - 40s 120us/sample - loss: 0.3174 - acc: 0.8604 - binary_crossentropy: 0.3174 - val_loss: 0.3371 - val_acc: 0.8504 - val_binary_crossentropy: 0.3371\n",
      "Epoch 75/200\n",
      "337179/337179 [==============================] - 41s 122us/sample - loss: 0.3175 - acc: 0.8602 - binary_crossentropy: 0.3175 - val_loss: 0.3394 - val_acc: 0.8494 - val_binary_crossentropy: 0.3394\n",
      "Epoch 76/200\n",
      "337179/337179 [==============================] - 40s 119us/sample - loss: 0.3172 - acc: 0.8603 - binary_crossentropy: 0.3172 - val_loss: 0.3346 - val_acc: 0.8520 - val_binary_crossentropy: 0.3346\n",
      "Epoch 77/200\n"
     ]
    },
    {
     "name": "stdout",
     "output_type": "stream",
     "text": [
      "337179/337179 [==============================] - 40s 120us/sample - loss: 0.3166 - acc: 0.8605 - binary_crossentropy: 0.3166 - val_loss: 0.3398 - val_acc: 0.8503 - val_binary_crossentropy: 0.3398\n",
      "Epoch 78/200\n",
      "337179/337179 [==============================] - 41s 121us/sample - loss: 0.3169 - acc: 0.8609 - binary_crossentropy: 0.3169 - val_loss: 0.3363 - val_acc: 0.8505 - val_binary_crossentropy: 0.3363\n",
      "Epoch 79/200\n",
      "337179/337179 [==============================] - 41s 120us/sample - loss: 0.3160 - acc: 0.8613 - binary_crossentropy: 0.3160 - val_loss: 0.3499 - val_acc: 0.8491 - val_binary_crossentropy: 0.3499\n",
      "Epoch 80/200\n",
      "337179/337179 [==============================] - 40s 119us/sample - loss: 0.3164 - acc: 0.8608 - binary_crossentropy: 0.3164 - val_loss: 0.3382 - val_acc: 0.8490 - val_binary_crossentropy: 0.3382\n",
      "Epoch 81/200\n",
      "337179/337179 [==============================] - 40s 120us/sample - loss: 0.3165 - acc: 0.8606 - binary_crossentropy: 0.3165 - val_loss: 0.3392 - val_acc: 0.8507 - val_binary_crossentropy: 0.3392\n",
      "Epoch 82/200\n",
      "337179/337179 [==============================] - 40s 120us/sample - loss: 0.3158 - acc: 0.8610 - binary_crossentropy: 0.3158 - val_loss: 0.3398 - val_acc: 0.8481 - val_binary_crossentropy: 0.3398\n",
      "Epoch 83/200\n",
      "337179/337179 [==============================] - 40s 119us/sample - loss: 0.3156 - acc: 0.8611 - binary_crossentropy: 0.3156 - val_loss: 0.3400 - val_acc: 0.8491 - val_binary_crossentropy: 0.3400\n",
      "Epoch 84/200\n",
      "337179/337179 [==============================] - 40s 120us/sample - loss: 0.3159 - acc: 0.8610 - binary_crossentropy: 0.3159 - val_loss: 0.3367 - val_acc: 0.8509 - val_binary_crossentropy: 0.3367\n",
      "Epoch 85/200\n",
      "337179/337179 [==============================] - 41s 120us/sample - loss: 0.3164 - acc: 0.8608 - binary_crossentropy: 0.3164 - val_loss: 0.3360 - val_acc: 0.8511 - val_binary_crossentropy: 0.3360\n",
      "Epoch 86/200\n",
      "337179/337179 [==============================] - 40s 120us/sample - loss: 0.3156 - acc: 0.8608 - binary_crossentropy: 0.3156 - val_loss: 0.3401 - val_acc: 0.8479 - val_binary_crossentropy: 0.3401\n",
      "Epoch 87/200\n",
      "337179/337179 [==============================] - 40s 120us/sample - loss: 0.3160 - acc: 0.8608 - binary_crossentropy: 0.3160 - val_loss: 0.3343 - val_acc: 0.8519 - val_binary_crossentropy: 0.3343\n",
      "Epoch 88/200\n",
      "337179/337179 [==============================] - 40s 120us/sample - loss: 0.3155 - acc: 0.8616 - binary_crossentropy: 0.3155 - val_loss: 0.3423 - val_acc: 0.8486 - val_binary_crossentropy: 0.3423\n",
      "Epoch 89/200\n",
      "337179/337179 [==============================] - 40s 120us/sample - loss: 0.3152 - acc: 0.8618 - binary_crossentropy: 0.3152 - val_loss: 0.3331 - val_acc: 0.8515 - val_binary_crossentropy: 0.3331\n",
      "Epoch 90/200\n",
      "337179/337179 [==============================] - 41s 121us/sample - loss: 0.3150 - acc: 0.8615 - binary_crossentropy: 0.3150 - val_loss: 0.3367 - val_acc: 0.8513 - val_binary_crossentropy: 0.3367\n",
      "Epoch 91/200\n",
      "337179/337179 [==============================] - 40s 119us/sample - loss: 0.3150 - acc: 0.8613 - binary_crossentropy: 0.3150 - val_loss: 0.3444 - val_acc: 0.8489 - val_binary_crossentropy: 0.3444\n",
      "Epoch 92/200\n",
      "337179/337179 [==============================] - 40s 120us/sample - loss: 0.3149 - acc: 0.8616 - binary_crossentropy: 0.3149 - val_loss: 0.3410 - val_acc: 0.8497 - val_binary_crossentropy: 0.3410\n",
      "Epoch 93/200\n",
      "337179/337179 [==============================] - 41s 121us/sample - loss: 0.3157 - acc: 0.8609 - binary_crossentropy: 0.3157 - val_loss: 0.3362 - val_acc: 0.8493 - val_binary_crossentropy: 0.3362\n",
      "Epoch 94/200\n",
      "337179/337179 [==============================] - 40s 120us/sample - loss: 0.3145 - acc: 0.8614 - binary_crossentropy: 0.3145 - val_loss: 0.3473 - val_acc: 0.8484 - val_binary_crossentropy: 0.3473\n",
      "Epoch 95/200\n",
      "337179/337179 [==============================] - 40s 120us/sample - loss: 0.3146 - acc: 0.8616 - binary_crossentropy: 0.3146 - val_loss: 0.3390 - val_acc: 0.8492 - val_binary_crossentropy: 0.3390\n",
      "Epoch 96/200\n",
      "337179/337179 [==============================] - 40s 120us/sample - loss: 0.3145 - acc: 0.8617 - binary_crossentropy: 0.3145 - val_loss: 0.3392 - val_acc: 0.8483 - val_binary_crossentropy: 0.3392\n",
      "Epoch 97/200\n",
      "337179/337179 [==============================] - 40s 120us/sample - loss: 0.3140 - acc: 0.8619 - binary_crossentropy: 0.3140 - val_loss: 0.3390 - val_acc: 0.8494 - val_binary_crossentropy: 0.3390\n",
      "Epoch 98/200\n",
      "337179/337179 [==============================] - 41s 121us/sample - loss: 0.3139 - acc: 0.8622 - binary_crossentropy: 0.3139 - val_loss: 0.3359 - val_acc: 0.8505 - val_binary_crossentropy: 0.3358\n",
      "Epoch 99/200\n",
      "337179/337179 [==============================] - 40s 120us/sample - loss: 0.3144 - acc: 0.8615 - binary_crossentropy: 0.3144 - val_loss: 0.3335 - val_acc: 0.8513 - val_binary_crossentropy: 0.3335\n",
      "Epoch 100/200\n",
      "337179/337179 [==============================] - 40s 120us/sample - loss: 0.3142 - acc: 0.8620 - binary_crossentropy: 0.3142 - val_loss: 0.3335 - val_acc: 0.8507 - val_binary_crossentropy: 0.3335\n",
      "Epoch 101/200\n",
      "337179/337179 [==============================] - 41s 120us/sample - loss: 0.3137 - acc: 0.8626 - binary_crossentropy: 0.3137 - val_loss: 0.3345 - val_acc: 0.8512 - val_binary_crossentropy: 0.3345\n",
      "Epoch 102/200\n",
      "337179/337179 [==============================] - 40s 120us/sample - loss: 0.3138 - acc: 0.8619 - binary_crossentropy: 0.3138 - val_loss: 0.3426 - val_acc: 0.8489 - val_binary_crossentropy: 0.3426\n",
      "Epoch 103/200\n",
      "337179/337179 [==============================] - 41s 120us/sample - loss: 0.3132 - acc: 0.8630 - binary_crossentropy: 0.3132 - val_loss: 0.3362 - val_acc: 0.8492 - val_binary_crossentropy: 0.3362\n",
      "Epoch 104/200\n",
      "337179/337179 [==============================] - 41s 121us/sample - loss: 0.3137 - acc: 0.8623 - binary_crossentropy: 0.3137 - val_loss: 0.3411 - val_acc: 0.8487 - val_binary_crossentropy: 0.3411\n",
      "Epoch 105/200\n",
      "337179/337179 [==============================] - 40s 120us/sample - loss: 0.3130 - acc: 0.8622 - binary_crossentropy: 0.3130 - val_loss: 0.3400 - val_acc: 0.8485 - val_binary_crossentropy: 0.3400\n",
      "Epoch 106/200\n",
      "337179/337179 [==============================] - 41s 121us/sample - loss: 0.3128 - acc: 0.8622 - binary_crossentropy: 0.3128 - val_loss: 0.3426 - val_acc: 0.8477 - val_binary_crossentropy: 0.3426\n",
      "Epoch 107/200\n",
      "337179/337179 [==============================] - 41s 121us/sample - loss: 0.3132 - acc: 0.8622 - binary_crossentropy: 0.3132 - val_loss: 0.3413 - val_acc: 0.8493 - val_binary_crossentropy: 0.3413\n",
      "Epoch 108/200\n",
      "337179/337179 [==============================] - 41s 122us/sample - loss: 0.3138 - acc: 0.8622 - binary_crossentropy: 0.3138 - val_loss: 0.3400 - val_acc: 0.8491 - val_binary_crossentropy: 0.3400\n",
      "Epoch 109/200\n",
      "337179/337179 [==============================] - 41s 121us/sample - loss: 0.3126 - acc: 0.8622 - binary_crossentropy: 0.3126 - val_loss: 0.3420 - val_acc: 0.8488 - val_binary_crossentropy: 0.3420\n",
      "Epoch 110/200\n",
      "337179/337179 [==============================] - 40s 119us/sample - loss: 0.3129 - acc: 0.8624 - binary_crossentropy: 0.3129 - val_loss: 0.3397 - val_acc: 0.8482 - val_binary_crossentropy: 0.3397\n",
      "Epoch 111/200\n",
      "337179/337179 [==============================] - 41s 123us/sample - loss: 0.3126 - acc: 0.8625 - binary_crossentropy: 0.3126 - val_loss: 0.3450 - val_acc: 0.8478 - val_binary_crossentropy: 0.3450\n",
      "Epoch 112/200\n",
      "337179/337179 [==============================] - 41s 122us/sample - loss: 0.3119 - acc: 0.8627 - binary_crossentropy: 0.3119 - val_loss: 0.3375 - val_acc: 0.8514 - val_binary_crossentropy: 0.3375\n",
      "Epoch 113/200\n",
      "337179/337179 [==============================] - 40s 120us/sample - loss: 0.3125 - acc: 0.8626 - binary_crossentropy: 0.3125 - val_loss: 0.3346 - val_acc: 0.8514 - val_binary_crossentropy: 0.3346\n",
      "Epoch 114/200\n",
      "337179/337179 [==============================] - 41s 121us/sample - loss: 0.3124 - acc: 0.8626 - binary_crossentropy: 0.3124 - val_loss: 0.3457 - val_acc: 0.8480 - val_binary_crossentropy: 0.3457\n",
      "Epoch 115/200\n",
      "337179/337179 [==============================] - 41s 121us/sample - loss: 0.3127 - acc: 0.8626 - binary_crossentropy: 0.3127 - val_loss: 0.3388 - val_acc: 0.8475 - val_binary_crossentropy: 0.3388\n",
      "Epoch 116/200\n",
      "337179/337179 [==============================] - 41s 121us/sample - loss: 0.3125 - acc: 0.8627 - binary_crossentropy: 0.3125 - val_loss: 0.3384 - val_acc: 0.8504 - val_binary_crossentropy: 0.3384\n",
      "Epoch 117/200\n",
      "337179/337179 [==============================] - 41s 121us/sample - loss: 0.3118 - acc: 0.8630 - binary_crossentropy: 0.3118 - val_loss: 0.3348 - val_acc: 0.8508 - val_binary_crossentropy: 0.3348\n",
      "Epoch 118/200\n",
      "337179/337179 [==============================] - 41s 121us/sample - loss: 0.3119 - acc: 0.8629 - binary_crossentropy: 0.3119 - val_loss: 0.3419 - val_acc: 0.8489 - val_binary_crossentropy: 0.3419\n",
      "Epoch 119/200\n",
      "337179/337179 [==============================] - 41s 121us/sample - loss: 0.3125 - acc: 0.8625 - binary_crossentropy: 0.3125 - val_loss: 0.3336 - val_acc: 0.8511 - val_binary_crossentropy: 0.3336\n",
      "Epoch 120/200\n",
      "337179/337179 [==============================] - 41s 120us/sample - loss: 0.3126 - acc: 0.8624 - binary_crossentropy: 0.3126 - val_loss: 0.3363 - val_acc: 0.8495 - val_binary_crossentropy: 0.3363\n",
      "Epoch 121/200\n",
      "337179/337179 [==============================] - 42s 124us/sample - loss: 0.3116 - acc: 0.8626 - binary_crossentropy: 0.3116 - val_loss: 0.3345 - val_acc: 0.8514 - val_binary_crossentropy: 0.3345\n",
      "Epoch 122/200\n",
      "337179/337179 [==============================] - 43s 127us/sample - loss: 0.3119 - acc: 0.8624 - binary_crossentropy: 0.3119 - val_loss: 0.3369 - val_acc: 0.8497 - val_binary_crossentropy: 0.3369\n",
      "Epoch 123/200\n",
      "337179/337179 [==============================] - 46s 135us/sample - loss: 0.3121 - acc: 0.8630 - binary_crossentropy: 0.3121 - val_loss: 0.3379 - val_acc: 0.8510 - val_binary_crossentropy: 0.3379\n",
      "Epoch 124/200\n",
      "337179/337179 [==============================] - 47s 139us/sample - loss: 0.3121 - acc: 0.8630 - binary_crossentropy: 0.3121 - val_loss: 0.3356 - val_acc: 0.8510 - val_binary_crossentropy: 0.3356\n",
      "Epoch 125/200\n",
      "337179/337179 [==============================] - 49s 145us/sample - loss: 0.3119 - acc: 0.8632 - binary_crossentropy: 0.3119 - val_loss: 0.3401 - val_acc: 0.8487 - val_binary_crossentropy: 0.3401\n",
      "Epoch 126/200\n",
      "337179/337179 [==============================] - 46s 136us/sample - loss: 0.3113 - acc: 0.8633 - binary_crossentropy: 0.3113 - val_loss: 0.3487 - val_acc: 0.8469 - val_binary_crossentropy: 0.3487\n",
      "Epoch 127/200\n",
      "337179/337179 [==============================] - 47s 139us/sample - loss: 0.3113 - acc: 0.8632 - binary_crossentropy: 0.3113 - val_loss: 0.3471 - val_acc: 0.8489 - val_binary_crossentropy: 0.3471\n",
      "Epoch 128/200\n",
      "337179/337179 [==============================] - 46s 136us/sample - loss: 0.3116 - acc: 0.8636 - binary_crossentropy: 0.3116 - val_loss: 0.3367 - val_acc: 0.8502 - val_binary_crossentropy: 0.3367\n",
      "Epoch 129/200\n",
      "337179/337179 [==============================] - 47s 138us/sample - loss: 0.3115 - acc: 0.8634 - binary_crossentropy: 0.3115 - val_loss: 0.3335 - val_acc: 0.8514 - val_binary_crossentropy: 0.3335\n",
      "Epoch 130/200\n",
      "337179/337179 [==============================] - 45s 132us/sample - loss: 0.3114 - acc: 0.8633 - binary_crossentropy: 0.3114 - val_loss: 0.3370 - val_acc: 0.8504 - val_binary_crossentropy: 0.3370\n",
      "Epoch 131/200\n",
      "337179/337179 [==============================] - 45s 134us/sample - loss: 0.3113 - acc: 0.8628 - binary_crossentropy: 0.3113 - val_loss: 0.3346 - val_acc: 0.8530 - val_binary_crossentropy: 0.3346\n",
      "Epoch 132/200\n",
      "337179/337179 [==============================] - 45s 133us/sample - loss: 0.3112 - acc: 0.8635 - binary_crossentropy: 0.3112 - val_loss: 0.3389 - val_acc: 0.8510 - val_binary_crossentropy: 0.3389\n",
      "Epoch 133/200\n",
      "337179/337179 [==============================] - 44s 132us/sample - loss: 0.3113 - acc: 0.8636 - binary_crossentropy: 0.3113 - val_loss: 0.3382 - val_acc: 0.8488 - val_binary_crossentropy: 0.3382\n",
      "Epoch 134/200\n",
      "337179/337179 [==============================] - 45s 134us/sample - loss: 0.3109 - acc: 0.8633 - binary_crossentropy: 0.3109 - val_loss: 0.3470 - val_acc: 0.8490 - val_binary_crossentropy: 0.3470\n",
      "Epoch 135/200\n",
      "337179/337179 [==============================] - 45s 133us/sample - loss: 0.3112 - acc: 0.8634 - binary_crossentropy: 0.3112 - val_loss: 0.3345 - val_acc: 0.8519 - val_binary_crossentropy: 0.3345\n",
      "Epoch 136/200\n",
      "337179/337179 [==============================] - 45s 135us/sample - loss: 0.3108 - acc: 0.8630 - binary_crossentropy: 0.3108 - val_loss: 0.3341 - val_acc: 0.8516 - val_binary_crossentropy: 0.3342\n",
      "Epoch 137/200\n",
      "337179/337179 [==============================] - 44s 131us/sample - loss: 0.3104 - acc: 0.8639 - binary_crossentropy: 0.3104 - val_loss: 0.3384 - val_acc: 0.8513 - val_binary_crossentropy: 0.3384\n",
      "Epoch 138/200\n",
      "337179/337179 [==============================] - 45s 133us/sample - loss: 0.3107 - acc: 0.8637 - binary_crossentropy: 0.3107 - val_loss: 0.3394 - val_acc: 0.8495 - val_binary_crossentropy: 0.3394\n",
      "Epoch 139/200\n",
      "337179/337179 [==============================] - 46s 136us/sample - loss: 0.3104 - acc: 0.8636 - binary_crossentropy: 0.3104 - val_loss: 0.3392 - val_acc: 0.8524 - val_binary_crossentropy: 0.3392\n",
      "Epoch 140/200\n",
      "337179/337179 [==============================] - 45s 132us/sample - loss: 0.3105 - acc: 0.8642 - binary_crossentropy: 0.3106 - val_loss: 0.3351 - val_acc: 0.8512 - val_binary_crossentropy: 0.3351\n",
      "Epoch 141/200\n",
      "337179/337179 [==============================] - 45s 135us/sample - loss: 0.3099 - acc: 0.8639 - binary_crossentropy: 0.3099 - val_loss: 0.3424 - val_acc: 0.8501 - val_binary_crossentropy: 0.3424\n",
      "Epoch 142/200\n",
      "337179/337179 [==============================] - 57s 169us/sample - loss: 0.3102 - acc: 0.8640 - binary_crossentropy: 0.3102 - val_loss: 0.3345 - val_acc: 0.8499 - val_binary_crossentropy: 0.3345\n",
      "Epoch 143/200\n",
      "337179/337179 [==============================] - 61s 180us/sample - loss: 0.3100 - acc: 0.8640 - binary_crossentropy: 0.3100 - val_loss: 0.3377 - val_acc: 0.8507 - val_binary_crossentropy: 0.3377\n",
      "Epoch 144/200\n",
      "337179/337179 [==============================] - 63s 188us/sample - loss: 0.3104 - acc: 0.8638 - binary_crossentropy: 0.3104 - val_loss: 0.3523 - val_acc: 0.8465 - val_binary_crossentropy: 0.3523\n",
      "Epoch 145/200\n",
      "337179/337179 [==============================] - 63s 187us/sample - loss: 0.3097 - acc: 0.8640 - binary_crossentropy: 0.3097 - val_loss: 0.3354 - val_acc: 0.8503 - val_binary_crossentropy: 0.3354\n",
      "Epoch 146/200\n",
      "337179/337179 [==============================] - 63s 186us/sample - loss: 0.3108 - acc: 0.8638 - binary_crossentropy: 0.3108 - val_loss: 0.3397 - val_acc: 0.8503 - val_binary_crossentropy: 0.3397\n",
      "Epoch 147/200\n",
      "337179/337179 [==============================] - 62s 184us/sample - loss: 0.3100 - acc: 0.8639 - binary_crossentropy: 0.3100 - val_loss: 0.3461 - val_acc: 0.8494 - val_binary_crossentropy: 0.3461\n",
      "Epoch 148/200\n",
      "337179/337179 [==============================] - 60s 179us/sample - loss: 0.3101 - acc: 0.8642 - binary_crossentropy: 0.3101 - val_loss: 0.3479 - val_acc: 0.8465 - val_binary_crossentropy: 0.3479\n",
      "Epoch 149/200\n",
      "337179/337179 [==============================] - 61s 182us/sample - loss: 0.3100 - acc: 0.8635 - binary_crossentropy: 0.3100 - val_loss: 0.3418 - val_acc: 0.8496 - val_binary_crossentropy: 0.3418\n",
      "Epoch 150/200\n",
      "337179/337179 [==============================] - 62s 184us/sample - loss: 0.3093 - acc: 0.8644 - binary_crossentropy: 0.3093 - val_loss: 0.3391 - val_acc: 0.8513 - val_binary_crossentropy: 0.3391\n",
      "Epoch 151/200\n",
      "337179/337179 [==============================] - 60s 178us/sample - loss: 0.3099 - acc: 0.8644 - binary_crossentropy: 0.3099 - val_loss: 0.3449 - val_acc: 0.8485 - val_binary_crossentropy: 0.3449\n",
      "Epoch 152/200\n",
      "337179/337179 [==============================] - 61s 182us/sample - loss: 0.3096 - acc: 0.8644 - binary_crossentropy: 0.3096 - val_loss: 0.3418 - val_acc: 0.8493 - val_binary_crossentropy: 0.3418\n",
      "Epoch 153/200\n",
      "337179/337179 [==============================] - 60s 177us/sample - loss: 0.3098 - acc: 0.8647 - binary_crossentropy: 0.3098 - val_loss: 0.3408 - val_acc: 0.8488 - val_binary_crossentropy: 0.3408\n",
      "Epoch 154/200\n",
      "337179/337179 [==============================] - 60s 177us/sample - loss: 0.3098 - acc: 0.8639 - binary_crossentropy: 0.3098 - val_loss: 0.3393 - val_acc: 0.8491 - val_binary_crossentropy: 0.3393\n",
      "Epoch 155/200\n"
     ]
    },
    {
     "name": "stdout",
     "output_type": "stream",
     "text": [
      "337179/337179 [==============================] - 61s 180us/sample - loss: 0.3089 - acc: 0.8647 - binary_crossentropy: 0.3089 - val_loss: 0.3414 - val_acc: 0.8481 - val_binary_crossentropy: 0.3414\n",
      "Epoch 156/200\n",
      "337179/337179 [==============================] - 60s 177us/sample - loss: 0.3096 - acc: 0.8644 - binary_crossentropy: 0.3096 - val_loss: 0.3374 - val_acc: 0.8484 - val_binary_crossentropy: 0.3374\n",
      "Epoch 157/200\n",
      "337179/337179 [==============================] - 61s 180us/sample - loss: 0.3091 - acc: 0.8641 - binary_crossentropy: 0.3091 - val_loss: 0.3434 - val_acc: 0.8495 - val_binary_crossentropy: 0.3434\n",
      "Epoch 158/200\n",
      "337179/337179 [==============================] - 60s 177us/sample - loss: 0.3094 - acc: 0.8639 - binary_crossentropy: 0.3094 - val_loss: 0.3370 - val_acc: 0.8518 - val_binary_crossentropy: 0.3370\n",
      "Epoch 159/200\n",
      "337179/337179 [==============================] - 59s 176us/sample - loss: 0.3093 - acc: 0.8642 - binary_crossentropy: 0.3093 - val_loss: 0.3446 - val_acc: 0.8501 - val_binary_crossentropy: 0.3446\n",
      "Epoch 160/200\n",
      "337179/337179 [==============================] - 60s 179us/sample - loss: 0.3084 - acc: 0.8649 - binary_crossentropy: 0.3084 - val_loss: 0.3387 - val_acc: 0.8515 - val_binary_crossentropy: 0.3387\n",
      "Epoch 161/200\n",
      "337179/337179 [==============================] - 59s 176us/sample - loss: 0.3095 - acc: 0.8638 - binary_crossentropy: 0.3095 - val_loss: 0.3348 - val_acc: 0.8510 - val_binary_crossentropy: 0.3348\n",
      "Epoch 162/200\n",
      "337179/337179 [==============================] - 59s 176us/sample - loss: 0.3093 - acc: 0.8641 - binary_crossentropy: 0.3093 - val_loss: 0.3406 - val_acc: 0.8492 - val_binary_crossentropy: 0.3406\n",
      "Epoch 163/200\n",
      "337179/337179 [==============================] - 62s 183us/sample - loss: 0.3091 - acc: 0.8643 - binary_crossentropy: 0.3091 - val_loss: 0.3401 - val_acc: 0.8503 - val_binary_crossentropy: 0.3401\n",
      "Epoch 164/200\n",
      "337179/337179 [==============================] - 60s 179us/sample - loss: 0.3089 - acc: 0.8644 - binary_crossentropy: 0.3089 - val_loss: 0.3349 - val_acc: 0.8517 - val_binary_crossentropy: 0.3349\n",
      "Epoch 165/200\n",
      "337179/337179 [==============================] - 61s 182us/sample - loss: 0.3089 - acc: 0.8649 - binary_crossentropy: 0.3089 - val_loss: 0.3397 - val_acc: 0.8501 - val_binary_crossentropy: 0.3397\n",
      "Epoch 166/200\n",
      "337179/337179 [==============================] - 63s 186us/sample - loss: 0.3089 - acc: 0.8645 - binary_crossentropy: 0.3089 - val_loss: 0.3386 - val_acc: 0.8521 - val_binary_crossentropy: 0.3386\n",
      "Epoch 167/200\n",
      "337179/337179 [==============================] - 60s 178us/sample - loss: 0.3091 - acc: 0.8644 - binary_crossentropy: 0.3091 - val_loss: 0.3363 - val_acc: 0.8519 - val_binary_crossentropy: 0.3363\n",
      "Epoch 168/200\n",
      "337179/337179 [==============================] - 62s 184us/sample - loss: 0.3086 - acc: 0.8644 - binary_crossentropy: 0.3086 - val_loss: 0.3446 - val_acc: 0.8490 - val_binary_crossentropy: 0.3446\n",
      "Epoch 169/200\n",
      "337179/337179 [==============================] - 63s 187us/sample - loss: 0.3084 - acc: 0.8646 - binary_crossentropy: 0.3084 - val_loss: 0.3365 - val_acc: 0.8509 - val_binary_crossentropy: 0.3365\n",
      "Epoch 170/200\n",
      "337179/337179 [==============================] - 61s 180us/sample - loss: 0.3086 - acc: 0.8646 - binary_crossentropy: 0.3086 - val_loss: 0.3372 - val_acc: 0.8512 - val_binary_crossentropy: 0.3372\n",
      "Epoch 171/200\n",
      "337179/337179 [==============================] - 62s 183us/sample - loss: 0.3088 - acc: 0.8650 - binary_crossentropy: 0.3088 - val_loss: 0.3372 - val_acc: 0.8510 - val_binary_crossentropy: 0.3372\n",
      "Epoch 172/200\n",
      "337179/337179 [==============================] - 62s 183us/sample - loss: 0.3084 - acc: 0.8651 - binary_crossentropy: 0.3084 - val_loss: 0.3386 - val_acc: 0.8498 - val_binary_crossentropy: 0.3386\n",
      "Epoch 173/200\n",
      "337179/337179 [==============================] - 61s 180us/sample - loss: 0.3093 - acc: 0.8645 - binary_crossentropy: 0.3093 - val_loss: 0.3403 - val_acc: 0.8507 - val_binary_crossentropy: 0.3403\n",
      "Epoch 174/200\n",
      "337179/337179 [==============================] - 62s 185us/sample - loss: 0.3086 - acc: 0.8643 - binary_crossentropy: 0.3086 - val_loss: 0.3394 - val_acc: 0.8492 - val_binary_crossentropy: 0.3394\n",
      "Epoch 175/200\n",
      "337179/337179 [==============================] - 62s 184us/sample - loss: 0.3086 - acc: 0.8646 - binary_crossentropy: 0.3086 - val_loss: 0.3492 - val_acc: 0.8479 - val_binary_crossentropy: 0.3492\n",
      "Epoch 176/200\n",
      "337179/337179 [==============================] - 61s 181us/sample - loss: 0.3082 - acc: 0.8651 - binary_crossentropy: 0.3082 - val_loss: 0.3341 - val_acc: 0.8514 - val_binary_crossentropy: 0.3341\n",
      "Epoch 177/200\n",
      "337179/337179 [==============================] - 62s 183us/sample - loss: 0.3086 - acc: 0.8647 - binary_crossentropy: 0.3086 - val_loss: 0.3455 - val_acc: 0.8473 - val_binary_crossentropy: 0.3455\n",
      "Epoch 178/200\n",
      "337179/337179 [==============================] - 60s 179us/sample - loss: 0.3088 - acc: 0.8648 - binary_crossentropy: 0.3088 - val_loss: 0.3441 - val_acc: 0.8481 - val_binary_crossentropy: 0.3441\n",
      "Epoch 179/200\n",
      "337179/337179 [==============================] - 63s 185us/sample - loss: 0.3087 - acc: 0.8644 - binary_crossentropy: 0.3087 - val_loss: 0.3460 - val_acc: 0.8489 - val_binary_crossentropy: 0.3460\n",
      "Epoch 180/200\n",
      "337179/337179 [==============================] - 62s 184us/sample - loss: 0.3078 - acc: 0.8649 - binary_crossentropy: 0.3078 - val_loss: 0.3396 - val_acc: 0.8501 - val_binary_crossentropy: 0.3396\n",
      "Epoch 181/200\n",
      "337179/337179 [==============================] - 63s 187us/sample - loss: 0.3079 - acc: 0.8650 - binary_crossentropy: 0.3079 - val_loss: 0.3392 - val_acc: 0.8493 - val_binary_crossentropy: 0.3392\n",
      "Epoch 182/200\n",
      "337179/337179 [==============================] - 63s 186us/sample - loss: 0.3076 - acc: 0.8648 - binary_crossentropy: 0.3076 - val_loss: 0.3404 - val_acc: 0.8501 - val_binary_crossentropy: 0.3404\n",
      "Epoch 183/200\n",
      "337179/337179 [==============================] - 70s 209us/sample - loss: 0.3076 - acc: 0.8654 - binary_crossentropy: 0.3076 - val_loss: 0.3497 - val_acc: 0.8499 - val_binary_crossentropy: 0.3497\n",
      "Epoch 184/200\n",
      "337179/337179 [==============================] - 72s 212us/sample - loss: 0.3073 - acc: 0.8657 - binary_crossentropy: 0.3073 - val_loss: 0.3342 - val_acc: 0.8515 - val_binary_crossentropy: 0.3342\n",
      "Epoch 185/200\n",
      "337179/337179 [==============================] - 73s 217us/sample - loss: 0.3081 - acc: 0.8653 - binary_crossentropy: 0.3081 - val_loss: 0.3443 - val_acc: 0.8490 - val_binary_crossentropy: 0.3443\n",
      "Epoch 186/200\n",
      "337179/337179 [==============================] - 73s 215us/sample - loss: 0.3079 - acc: 0.8651 - binary_crossentropy: 0.3079 - val_loss: 0.3433 - val_acc: 0.8516 - val_binary_crossentropy: 0.3433\n",
      "Epoch 187/200\n",
      "337179/337179 [==============================] - 73s 217us/sample - loss: 0.3078 - acc: 0.8650 - binary_crossentropy: 0.3078 - val_loss: 0.3394 - val_acc: 0.8489 - val_binary_crossentropy: 0.3394\n",
      "Epoch 188/200\n",
      "337179/337179 [==============================] - 73s 215us/sample - loss: 0.3079 - acc: 0.8648 - binary_crossentropy: 0.3079 - val_loss: 0.3403 - val_acc: 0.8492 - val_binary_crossentropy: 0.3403\n",
      "Epoch 189/200\n",
      "337179/337179 [==============================] - 72s 214us/sample - loss: 0.3080 - acc: 0.8652 - binary_crossentropy: 0.3080 - val_loss: 0.3363 - val_acc: 0.8508 - val_binary_crossentropy: 0.3363\n",
      "Epoch 190/200\n",
      "337179/337179 [==============================] - 73s 216us/sample - loss: 0.3078 - acc: 0.8645 - binary_crossentropy: 0.3078 - val_loss: 0.3357 - val_acc: 0.8506 - val_binary_crossentropy: 0.3357\n",
      "Epoch 191/200\n",
      "337179/337179 [==============================] - 73s 218us/sample - loss: 0.3072 - acc: 0.8649 - binary_crossentropy: 0.3072 - val_loss: 0.3416 - val_acc: 0.8490 - val_binary_crossentropy: 0.3416\n",
      "Epoch 192/200\n",
      "337179/337179 [==============================] - 72s 215us/sample - loss: 0.3072 - acc: 0.8653 - binary_crossentropy: 0.3072 - val_loss: 0.3397 - val_acc: 0.8500 - val_binary_crossentropy: 0.3397\n",
      "Epoch 193/200\n",
      "337179/337179 [==============================] - 73s 217us/sample - loss: 0.3075 - acc: 0.8655 - binary_crossentropy: 0.3075 - val_loss: 0.3445 - val_acc: 0.8498 - val_binary_crossentropy: 0.3445\n",
      "Epoch 194/200\n",
      "337179/337179 [==============================] - 73s 215us/sample - loss: 0.3081 - acc: 0.8647 - binary_crossentropy: 0.3081 - val_loss: 0.3366 - val_acc: 0.8500 - val_binary_crossentropy: 0.3366\n",
      "Epoch 195/200\n",
      "337179/337179 [==============================] - 71s 212us/sample - loss: 0.3072 - acc: 0.8651 - binary_crossentropy: 0.3072 - val_loss: 0.3378 - val_acc: 0.8502 - val_binary_crossentropy: 0.3378\n",
      "Epoch 196/200\n",
      "337179/337179 [==============================] - 73s 216us/sample - loss: 0.3070 - acc: 0.8652 - binary_crossentropy: 0.3070 - val_loss: 0.3542 - val_acc: 0.8489 - val_binary_crossentropy: 0.3542\n",
      "Epoch 197/200\n",
      "337179/337179 [==============================] - 72s 213us/sample - loss: 0.3073 - acc: 0.8655 - binary_crossentropy: 0.3073 - val_loss: 0.3365 - val_acc: 0.8493 - val_binary_crossentropy: 0.3365\n",
      "Epoch 198/200\n",
      "337179/337179 [==============================] - 75s 223us/sample - loss: 0.3069 - acc: 0.8656 - binary_crossentropy: 0.3069 - val_loss: 0.3483 - val_acc: 0.8491 - val_binary_crossentropy: 0.3483\n",
      "Epoch 199/200\n",
      "337179/337179 [==============================] - 74s 218us/sample - loss: 0.3080 - acc: 0.8652 - binary_crossentropy: 0.3080 - val_loss: 0.3367 - val_acc: 0.8512 - val_binary_crossentropy: 0.3367\n",
      "Epoch 200/200\n",
      "337179/337179 [==============================] - 72s 213us/sample - loss: 0.3077 - acc: 0.8648 - binary_crossentropy: 0.3077 - val_loss: 0.3415 - val_acc: 0.8486 - val_binary_crossentropy: 0.3415\n"
     ]
    },
    {
     "data": {
      "image/png": "[encoded data removed]",
      "text/plain": [
       "<Figure size 1152x144 with 2 Axes>"
      ]
     },
     "metadata": {
      "needs_background": "light"
     },
     "output_type": "display_data"
    }
   ],
   "source": [
    "args = file_path + 'detect_peptide_train_noptm.txt'\n",
    "print('Loading input peptides')\n",
    "X_train81, skipped, lines = load_pep_and_codify(args, 81)\n",
    "tmp = open(file_path+'detect_peptide_train_y_noptm.txt')\n",
    "y_train81 = np.array([int(_.replace('\\n', '')) for _ in tmp.readlines()])\n",
    "tmp.close()\n",
    "print('Succesfully loaded {0} peptides and skipped {1}'.format(len(lines), str(skipped)))\n",
    "\n",
    "args = file_path + 'detect_peptide_test_noptm.txt'\n",
    "print('Loading input peptides')\n",
    "X_test81, skipped, lines = load_pep_and_codify(args, 81)\n",
    "tmp = open(file_path+'detect_peptide_test_y_noptm.txt')\n",
    "y_test81 = np.array([int(_.replace('\\n', '')) for _ in tmp.readlines()])\n",
    "tmp.close()\n",
    "print('Succesfully loaded {0} peptides and skipped {1}'.format(len(lines), str(skipped)))\n",
    "\n",
    "X_train81, X_val81, y_train81, y_val81 = train_test_split(X_train81, y_train81, test_size=0.2)\n",
    "print(X_train81.shape, X_val81.shape, X_test81.shape, y_train81.shape, y_val81.shape, y_test81.shape)\n",
    "\n",
    "\n",
    "print('Loading model...')\n",
    "model_2_1D = keras.models.load_model(file_path + 'model_2_1D.h5')\n",
    "\n",
    "history_github = model_2_1D.fit(X_train81, y_train81, epochs=200, \n",
    "                    batch_size=100,\n",
    "                    validation_data=(X_val81, y_val81))\n",
    "\n",
    "plt.figure(figsize=(16,2))\n",
    "plt.subplot(1,2,1)\n",
    "plot_graphs(history_github, 'acc')\n",
    "plt.subplot(1,2,2)\n",
    "plot_graphs(history_github, 'loss')"
   ]
  },
  {
   "cell_type": "markdown",
   "metadata": {},
   "source": [
    "# 3. test"
   ]
  },
  {
   "cell_type": "code",
   "execution_count": 23,
   "metadata": {
    "ExecuteTime": {
     "end_time": "2021-09-30T21:07:04.689971Z",
     "start_time": "2021-09-30T21:07:04.482724Z"
    }
   },
   "outputs": [],
   "source": [
    "from sklearn.metrics import classification_report\n",
    "from sklearn.metrics import confusion_matrix\n",
    "from sklearn.metrics import roc_curve\n",
    "from sklearn.metrics import roc_auc_score\n",
    "import seaborn as sns"
   ]
  },
  {
   "cell_type": "code",
   "execution_count": 24,
   "metadata": {
    "ExecuteTime": {
     "end_time": "2021-09-30T21:07:11.836698Z",
     "start_time": "2021-09-30T21:07:04.691180Z"
    }
   },
   "outputs": [
    {
     "name": "stdout",
     "output_type": "stream",
     "text": [
      "88998/88998 [==============================] - 7s 80us/sample - loss: 0.5710 - acc: 0.8630\n",
      "Test Loss: 0.5710091826947834\n",
      "Test Accuracy: 0.8630081415176392\n"
     ]
    }
   ],
   "source": [
    "test_loss, test_acc = model.evaluate(X_test, y_test)\n",
    "print('Test Loss: {}'.format(test_loss))\n",
    "print('Test Accuracy: {}'.format(test_acc))"
   ]
  },
  {
   "cell_type": "code",
   "execution_count": 25,
   "metadata": {
    "ExecuteTime": {
     "end_time": "2021-09-30T21:07:26.523575Z",
     "start_time": "2021-09-30T21:07:11.838349Z"
    }
   },
   "outputs": [
    {
     "name": "stdout",
     "output_type": "stream",
     "text": [
      "              precision    recall  f1-score   support\n",
      "\n",
      "           0       0.86      0.86      0.86     44509\n",
      "           1       0.86      0.86      0.86     44489\n",
      "\n",
      "    accuracy                           0.86     88998\n",
      "   macro avg       0.86      0.86      0.86     88998\n",
      "weighted avg       0.86      0.86      0.86     88998\n",
      "\n",
      "rf auc : 0.9230507935375096\n"
     ]
    },
    {
     "data": {
      "image/png": "[encoded data removed]",
      "text/plain": [
       "<Figure size 288x288 with 1 Axes>"
      ]
     },
     "metadata": {
      "needs_background": "light"
     },
     "output_type": "display_data"
    },
    {
     "data": {
      "image/png": "[encoded data removed]",
      "text/plain": [
       "<Figure size 216x216 with 2 Axes>"
      ]
     },
     "metadata": {
      "needs_background": "light"
     },
     "output_type": "display_data"
    },
    {
     "data": {
      "image/png": "[encoded data removed]",
      "text/plain": [
       "<Figure size 216x216 with 2 Axes>"
      ]
     },
     "metadata": {
      "needs_background": "light"
     },
     "output_type": "display_data"
    }
   ],
   "source": [
    "# prediction\n",
    "y_pred = [1 if i>=0.5 else 0 for i in model.predict(X_test)]\n",
    "print(classification_report(y_test, y_pred))\n",
    "# AUC\n",
    "probs = model.predict(X_test)\n",
    "rf_auc = roc_auc_score(y_test, probs)\n",
    "print('rf auc : {}'.format(rf_auc))\n",
    "# plot the roc curve for the model\n",
    "rf_fpr, rf_tpr, _ = roc_curve(y_test, probs)\n",
    "plt.figure(figsize=(4, 4))\n",
    "plt.plot(rf_fpr, rf_tpr, marker='.', label='RF AUC = {:.4f}'.format(rf_auc), color='orange')\n",
    "plt.title('ROC curve')\n",
    "# axis labels\n",
    "plt.xlabel('False Positive Rate')\n",
    "plt.ylabel('True Positive Rate')\n",
    "# show the legend\n",
    "plt.legend()\n",
    "# show the plot\n",
    "plt.show()\n",
    "\n",
    "cf_matrix = confusion_matrix(y_test, y_pred)\n",
    "plt.figure(figsize=(3, 3))\n",
    "sns.heatmap(cf_matrix, annot=True, fmt=',.0f')\n",
    "plt.show()\n",
    "plt.figure(figsize=(3, 3))\n",
    "sns.heatmap(cf_matrix/np.sum(cf_matrix), annot=True, \n",
    "            fmt='.2%', cmap='Blues')\n",
    "plt.show()"
   ]
  },
  {
   "cell_type": "code",
   "execution_count": 29,
   "metadata": {
    "ExecuteTime": {
     "end_time": "2021-10-01T01:23:37.435766Z",
     "start_time": "2021-10-01T01:23:10.126698Z"
    }
   },
   "outputs": [
    {
     "name": "stdout",
     "output_type": "stream",
     "text": [
      "88998/88998 [==============================] - 9s 102us/sample - loss: 0.3434 - acc: 0.8515 - binary_crossentropy: 0.3434\n",
      "Test Loss: 0.5710091826947834\n",
      "Test Accuracy: [0.34338107316605804, 0.851536, 0.34338102]\n",
      "              precision    recall  f1-score   support\n",
      "\n",
      "           0       0.92      0.77      0.84     44509\n",
      "           1       0.80      0.93      0.86     44489\n",
      "\n",
      "    accuracy                           0.85     88998\n",
      "   macro avg       0.86      0.85      0.85     88998\n",
      "weighted avg       0.86      0.85      0.85     88998\n",
      "\n",
      "rf auc : 0.9329487780851804\n"
     ]
    },
    {
     "data": {
      "image/png": "[encoded data removed]",
      "text/plain": [
       "<Figure size 288x288 with 1 Axes>"
      ]
     },
     "metadata": {
      "needs_background": "light"
     },
     "output_type": "display_data"
    },
    {
     "data": {
      "image/png": "[encoded data removed]",
      "text/plain": [
       "<Figure size 216x216 with 2 Axes>"
      ]
     },
     "metadata": {
      "needs_background": "light"
     },
     "output_type": "display_data"
    },
    {
     "data": {
      "image/png": "[encoded data removed]",
      "text/plain": [
       "<Figure size 216x216 with 2 Axes>"
      ]
     },
     "metadata": {
      "needs_background": "light"
     },
     "output_type": "display_data"
    }
   ],
   "source": [
    "test_acc = model_2_1D.evaluate(X_test81, y_test81)\n",
    "print('Test Loss: {}'.format(test_loss))\n",
    "print('Test Accuracy: {}'.format(test_acc))\n",
    "\n",
    "# prediction\n",
    "y_pred = [1 if i>=0.5 else 0 for i in model_2_1D.predict(X_test81)]\n",
    "print(classification_report(y_test81, y_pred))\n",
    "# AUC\n",
    "probs = model_2_1D.predict(X_test81)\n",
    "rf_auc = roc_auc_score(y_test81, probs)\n",
    "print('rf auc : {}'.format(rf_auc))\n",
    "# plot the roc curve for the model\n",
    "rf_fpr, rf_tpr, _ = roc_curve(y_test81, probs)\n",
    "plt.figure(figsize=(4, 4))\n",
    "plt.plot(rf_fpr, rf_tpr, marker='.', label='RF AUC = {:.4f}'.format(rf_auc), color='orange')\n",
    "plt.title('ROC curve')\n",
    "# axis labels\n",
    "plt.xlabel('False Positive Rate')\n",
    "plt.ylabel('True Positive Rate')\n",
    "# show the legend\n",
    "plt.legend()\n",
    "# show the plot\n",
    "plt.show()\n",
    "\n",
    "cf_matrix = confusion_matrix(y_test81, y_pred)\n",
    "plt.figure(figsize=(3, 3))\n",
    "sns.heatmap(cf_matrix, annot=True, fmt=',.0f')\n",
    "plt.show()\n",
    "plt.figure(figsize=(3, 3))\n",
    "sns.heatmap(cf_matrix/np.sum(cf_matrix), annot=True, \n",
    "            fmt='.2%', cmap='Blues')\n",
    "plt.show()"
   ]
  },
  {
   "cell_type": "code",
   "execution_count": 30,
   "metadata": {
    "ExecuteTime": {
     "end_time": "2021-10-01T03:59:55.515231Z",
     "start_time": "2021-10-01T03:59:55.491171Z"
    }
   },
   "outputs": [],
   "source": [
    "import pickle\n",
    "\n",
    "with open('pep_zeroMSGF_noptm.pickle', 'rb') as f:\n",
    "    pep_zeroMSGF_noptm = pickle.load(f)"
   ]
  },
  {
   "cell_type": "code",
   "execution_count": 34,
   "metadata": {
    "ExecuteTime": {
     "end_time": "2021-10-01T04:04:02.818052Z",
     "start_time": "2021-10-01T04:04:01.955945Z"
    }
   },
   "outputs": [],
   "source": [
    "max_len=81\n",
    "\n",
    "aa_dict={'A':1,'R':2,'N':3,'D':4,'C':5,'Q':6,'E':7,'G':8,'H':9,'I':10,'L':11,'K':12,'M':13,'F':14,\n",
    "    'P':15,'O':16,'S':17,'U':18,'T':19,'W':20,'Y':21,'V':22}\n",
    "pep_codes=[]\n",
    "newLines = []\n",
    "for pep in pep_zeroMSGF_noptm:\n",
    "    if not len(pep) > max_len:\n",
    "        current_pep=[]\n",
    "        for aa in pep:\n",
    "            current_pep.append(aa_dict[aa])\n",
    "        pep_codes.append(current_pep)\n",
    "        newLines.extend([pep])\n",
    "predict_data = keras.preprocessing.sequence.pad_sequences(pep_codes, value=0, padding='post', maxlen=max_len)"
   ]
  },
  {
   "cell_type": "code",
   "execution_count": 35,
   "metadata": {
    "ExecuteTime": {
     "end_time": "2021-10-01T04:04:03.782844Z",
     "start_time": "2021-10-01T04:04:03.774267Z"
    }
   },
   "outputs": [],
   "source": [
    "predict_label = np.array([0]*len(predict_data))"
   ]
  },
  {
   "cell_type": "code",
   "execution_count": 36,
   "metadata": {
    "ExecuteTime": {
     "end_time": "2021-10-01T04:04:38.755666Z",
     "start_time": "2021-10-01T04:04:25.414985Z"
    }
   },
   "outputs": [
    {
     "name": "stdout",
     "output_type": "stream",
     "text": [
      "93542/93542 [==============================] - 7s 74us/sample - loss: 1.0921 - acc: 0.5968 - binary_crossentropy: 1.0921\n",
      "Test Loss: 0.5710091826947834\n",
      "Test Accuracy: [1.0920911951762005, 0.5968442, 1.0920904]\n",
      "              precision    recall  f1-score   support\n",
      "\n",
      "           0       1.00      0.60      0.75     93542\n",
      "           1       0.00      0.00      0.00         0\n",
      "\n",
      "    accuracy                           0.60     93542\n",
      "   macro avg       0.50      0.30      0.37     93542\n",
      "weighted avg       1.00      0.60      0.75     93542\n",
      "\n"
     ]
    },
    {
     "name": "stderr",
     "output_type": "stream",
     "text": [
      "/home/bis/miniconda3/envs/TF1.14/lib/python3.6/site-packages/sklearn/metrics/_classification.py:1248: UndefinedMetricWarning: Recall and F-score are ill-defined and being set to 0.0 in labels with no true samples. Use `zero_division` parameter to control this behavior.\n",
      "  _warn_prf(average, modifier, msg_start, len(result))\n",
      "/home/bis/miniconda3/envs/TF1.14/lib/python3.6/site-packages/sklearn/metrics/_classification.py:1248: UndefinedMetricWarning: Recall and F-score are ill-defined and being set to 0.0 in labels with no true samples. Use `zero_division` parameter to control this behavior.\n",
      "  _warn_prf(average, modifier, msg_start, len(result))\n",
      "/home/bis/miniconda3/envs/TF1.14/lib/python3.6/site-packages/sklearn/metrics/_classification.py:1248: UndefinedMetricWarning: Recall and F-score are ill-defined and being set to 0.0 in labels with no true samples. Use `zero_division` parameter to control this behavior.\n",
      "  _warn_prf(average, modifier, msg_start, len(result))\n"
     ]
    }
   ],
   "source": [
    "test_acc = model_2_1D.evaluate(predict_data, predict_label)\n",
    "print('Test Loss: {}'.format(test_loss))\n",
    "print('Test Accuracy: {}'.format(test_acc))\n",
    "\n",
    "# prediction\n",
    "y_pred = [1 if i>=0.5 else 0 for i in model_2_1D.predict(predict_data)]\n",
    "print(classification_report(predict_label, y_pred))"
   ]
  },
  {
   "cell_type": "code",
   "execution_count": 38,
   "metadata": {
    "ExecuteTime": {
     "end_time": "2021-10-01T04:05:04.946154Z",
     "start_time": "2021-10-01T04:04:58.726982Z"
    }
   },
   "outputs": [],
   "source": [
    "y_prob = model_2_1D.predict(predict_data)"
   ]
  },
  {
   "cell_type": "code",
   "execution_count": 47,
   "metadata": {
    "ExecuteTime": {
     "end_time": "2021-10-01T04:07:13.061696Z",
     "start_time": "2021-10-01T04:07:12.974109Z"
    }
   },
   "outputs": [
    {
     "data": {
      "image/png": "[encoded data removed]",
      "text/plain": [
       "<Figure size 144x360 with 1 Axes>"
      ]
     },
     "metadata": {
      "needs_background": "light"
     },
     "output_type": "display_data"
    }
   ],
   "source": [
    "plt.figure(figsize=(2,5))\n",
    "plt.boxplot(y_prob.reshape(-1))\n",
    "plt.title('zero MSGF score noptm_peptides\\' detectability')\n",
    "plt.xlabel('0MSGF peptides\\'')\n",
    "plt.show()"
   ]
  }
 ],
 "metadata": {
  "kernelspec": {
   "display_name": "TF1.14",
   "language": "python",
   "name": "tf1.14"
  },
  "language_info": {
   "codemirror_mode": {
    "name": "ipython",
    "version": 3
   },
   "file_extension": ".py",
   "mimetype": "text/x-python",
   "name": "python",
   "nbconvert_exporter": "python",
   "pygments_lexer": "ipython3",
   "version": "3.6.13"
  }
 },
 "nbformat": 4,
 "nbformat_minor": 4
}
