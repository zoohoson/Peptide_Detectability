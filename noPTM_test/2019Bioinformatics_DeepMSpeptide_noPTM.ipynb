{
 "cells": [
  {
   "cell_type": "code",
   "execution_count": 1,
   "metadata": {
    "ExecuteTime": {
     "end_time": "2021-09-15T17:35:06.330997Z",
     "start_time": "2021-09-15T17:35:04.732525Z"
    }
   },
   "outputs": [],
   "source": [
    "import warnings\n",
    "warnings.simplefilter(action='ignore', category=FutureWarning)\n",
    "\n",
    "import argparse\n",
    "import numpy as np\n",
    "import tensorflow as tf\n",
    "from tensorflow import keras"
   ]
  },
  {
   "cell_type": "code",
   "execution_count": 2,
   "metadata": {
    "ExecuteTime": {
     "end_time": "2021-09-15T17:35:06.338255Z",
     "start_time": "2021-09-15T17:35:06.332584Z"
    }
   },
   "outputs": [],
   "source": [
    "def load_pep_and_codify(file, max_len):\n",
    "    aa_dict={'A':1,'R':2,'N':3,'D':4,'C':5,'Q':6,'E':7,'G':8,'H':9,'I':10,'L':11,'K':12,'M':13,'F':14,\n",
    "        'P':15,'O':16,'S':17,'U':18,'T':19,'W':20,'Y':21,'V':22}\n",
    "    with open(file, 'r') as inf:\n",
    "        lines = inf.read().splitlines()\n",
    "    pep_codes=[]\n",
    "    long_pep_counter = 0\n",
    "    newLines = []\n",
    "    for pep in lines:\n",
    "        if not len(pep) > max_len:\n",
    "            current_pep=[]\n",
    "            for aa in pep:\n",
    "                current_pep.append(aa_dict[aa])\n",
    "            pep_codes.append(current_pep)\n",
    "            newLines.extend([pep])\n",
    "        else:\n",
    "            long_pep_counter += 1\n",
    "    predict_data = keras.preprocessing.sequence.pad_sequences(pep_codes, value=0, padding='post', maxlen=max_len)\n",
    "    return predict_data, long_pep_counter, newLines"
   ]
  },
  {
   "cell_type": "markdown",
   "metadata": {},
   "source": [
    "# New Train"
   ]
  },
  {
   "cell_type": "code",
   "execution_count": 9,
   "metadata": {
    "ExecuteTime": {
     "end_time": "2021-09-15T17:36:33.038268Z",
     "start_time": "2021-09-15T17:36:32.873847Z"
    }
   },
   "outputs": [
    {
     "name": "stdout",
     "output_type": "stream",
     "text": [
      "Model: \"sequential_1\"\n",
      "_________________________________________________________________\n",
      "Layer (type)                 Output Shape              Param #   \n",
      "=================================================================\n",
      "embedding_1 (Embedding)      (None, 30, 50)            1150      \n",
      "_________________________________________________________________\n",
      "dropout_2 (Dropout)          (None, 30, 50)            0         \n",
      "_________________________________________________________________\n",
      "conv1d_2 (Conv1D)            (None, 30, 128)           19328     \n",
      "_________________________________________________________________\n",
      "conv1d_3 (Conv1D)            (None, 29, 64)            16448     \n",
      "_________________________________________________________________\n",
      "global_max_pooling1d_1 (Glob (None, 64)                0         \n",
      "_________________________________________________________________\n",
      "dense_2 (Dense)              (None, 64)                4160      \n",
      "_________________________________________________________________\n",
      "dropout_3 (Dropout)          (None, 64)                0         \n",
      "_________________________________________________________________\n",
      "dense_3 (Dense)              (None, 1)                 65        \n",
      "=================================================================\n",
      "Total params: 41,151\n",
      "Trainable params: 41,151\n",
      "Non-trainable params: 0\n",
      "_________________________________________________________________\n"
     ]
    }
   ],
   "source": [
    "model = tf.keras.Sequential([\n",
    "    # vacabulary size 23 (22 AminoAcid + zero padding)\n",
    "    # embedding vector size 50\n",
    "    # input length (including padding) 30 ( 81 to 30)\n",
    "    tf.keras.layers.Embedding(23, 50, input_length=30),\n",
    "    tf.keras.layers.Dropout(np.random.uniform(0, 0.2)),\n",
    "    tf.keras.layers.Conv1D(filters=128, kernel_size=3, strides=1, padding='same'),\n",
    "    tf.keras.layers.Conv1D(filters=64, kernel_size=2, strides=1),\n",
    "    tf.keras.layers.GlobalMaxPooling1D(),\n",
    "    tf.keras.layers.Dense(64, activation='relu'),\n",
    "    tf.keras.layers.Dropout(np.random.uniform(0, 0.2)),\n",
    "    tf.keras.layers.Dense(1, activation='sigmoid')\n",
    "])\n",
    "model.summary()\n",
    "\n",
    "model.compile(loss=tf.keras.losses.BinaryCrossentropy(from_logits=True),\n",
    "              optimizer=tf.keras.optimizers.Adam(1e-4),\n",
    "              metrics=['accuracy'])"
   ]
  },
  {
   "cell_type": "markdown",
   "metadata": {},
   "source": [
    "# 1. Make Data X_train, y_train, X_test, y_test"
   ]
  },
  {
   "cell_type": "code",
   "execution_count": 4,
   "metadata": {
    "ExecuteTime": {
     "end_time": "2021-09-15T17:35:37.375763Z",
     "start_time": "2021-09-15T17:35:36.860093Z"
    }
   },
   "outputs": [],
   "source": [
    "import matplotlib.pyplot as plt\n",
    "import pandas as pd\n",
    "from sklearn.model_selection import train_test_split\n",
    "\n",
    "file_path = '../compareModel/2019Bioinformatics_DeepMSPeptide/DeepMSPeptide/'"
   ]
  },
  {
   "cell_type": "code",
   "execution_count": 5,
   "metadata": {
    "ExecuteTime": {
     "end_time": "2021-09-15T17:36:04.748197Z",
     "start_time": "2021-09-15T17:36:01.971687Z"
    }
   },
   "outputs": [
    {
     "name": "stdout",
     "output_type": "stream",
     "text": [
      "Loading input peptides\n",
      "Succesfully loaded 177997 peptides and skipped 0\n",
      "Loading input peptides\n",
      "Succesfully loaded 44499 peptides and skipped 0\n",
      "(142397, 30) (35600, 30) (44499, 30) (142397,) (35600,) (44499,)\n"
     ]
    }
   ],
   "source": [
    "# make DeepMSpeptide format\n",
    "df_peptide_train = pd.read_csv('../data/df_detect_peptide_train_noptm.csv')\n",
    "df_peptide_test = pd.read_csv('../data/df_detect_peptide_test_noptm.csv')\n",
    "\n",
    "inp = open(file_path+'detect_peptide_train_noptm.txt', 'w')\n",
    "inp_y = open(file_path+'detect_peptide_train_y_noptm.txt', 'w')\n",
    "for x, y in df_peptide_train[['PEP', 'ID']].values:\n",
    "    inp.write(x+'\\n')\n",
    "    inp_y.write(str(y)+'\\n')\n",
    "inp.close()\n",
    "inp_y.close()\n",
    "\n",
    "inp = open(file_path+'detect_peptide_test_noptm.txt', 'w')\n",
    "inp_y = open(file_path+'detect_peptide_test_y_noptm.txt', 'w')\n",
    "for x, y in df_peptide_test[['PEP', 'ID']].values:\n",
    "    inp.write(x+'\\n')\n",
    "    inp_y.write(str(y)+'\\n')\n",
    "inp.close()\n",
    "inp_y.close()\n",
    "\n",
    "args = file_path + 'detect_peptide_train_noptm.txt'\n",
    "print('Loading input peptides')\n",
    "X_train, skipped, lines = load_pep_and_codify(args, 30)\n",
    "tmp = open(file_path+'detect_peptide_train_y_noptm.txt')\n",
    "y_train = np.array([int(_.replace('\\n', '')) for _ in tmp.readlines()])\n",
    "tmp.close()\n",
    "print('Succesfully loaded {0} peptides and skipped {1}'.format(len(lines), str(skipped)))\n",
    "\n",
    "args = file_path + 'detect_peptide_test_noptm.txt'\n",
    "print('Loading input peptides')\n",
    "X_test, skipped, lines = load_pep_and_codify(args, 30)\n",
    "tmp = open(file_path+'detect_peptide_test_y_noptm.txt')\n",
    "y_test = np.array([int(_.replace('\\n', '')) for _ in tmp.readlines()])\n",
    "tmp.close()\n",
    "print('Succesfully loaded {0} peptides and skipped {1}'.format(len(lines), str(skipped)))\n",
    "\n",
    "X_train, X_val, y_train, y_val = train_test_split(X_train, y_train, test_size=0.2)\n",
    "print(X_train.shape, X_val.shape, X_test.shape, y_train.shape, y_val.shape, y_test.shape)"
   ]
  },
  {
   "cell_type": "markdown",
   "metadata": {},
   "source": [
    "# 2. train"
   ]
  },
  {
   "cell_type": "code",
   "execution_count": 6,
   "metadata": {
    "ExecuteTime": {
     "end_time": "2021-09-15T17:36:07.167182Z",
     "start_time": "2021-09-15T17:36:07.163812Z"
    }
   },
   "outputs": [],
   "source": [
    "def plot_graphs(history, metric):\n",
    "    plt.plot(history.history[metric])\n",
    "    plt.plot(history.history['val_'+metric], '')\n",
    "    plt.xlabel(\"Epochs\")\n",
    "    plt.ylabel(metric)\n",
    "    plt.legend([metric, 'val_'+metric])"
   ]
  },
  {
   "cell_type": "code",
   "execution_count": 10,
   "metadata": {
    "ExecuteTime": {
     "end_time": "2021-09-15T18:38:48.148673Z",
     "start_time": "2021-09-15T17:36:35.898816Z"
    }
   },
   "outputs": [
    {
     "name": "stdout",
     "output_type": "stream",
     "text": [
      "Train on 142397 samples, validate on 35600 samples\n",
      "Epoch 1/200\n",
      "142397/142397 [==============================] - 23s 161us/sample - loss: 0.6257 - acc: 0.7120 - val_loss: 0.5896 - val_acc: 0.8112\n",
      "Epoch 2/200\n",
      "142397/142397 [==============================] - 23s 160us/sample - loss: 0.5891 - acc: 0.8162 - val_loss: 0.5860 - val_acc: 0.8228\n",
      "Epoch 3/200\n",
      "142397/142397 [==============================] - 23s 159us/sample - loss: 0.5873 - acc: 0.8214 - val_loss: 0.5853 - val_acc: 0.8224\n",
      "Epoch 4/200\n",
      "142397/142397 [==============================] - 22s 156us/sample - loss: 0.5864 - acc: 0.8235 - val_loss: 0.5844 - val_acc: 0.8272\n",
      "Epoch 5/200\n",
      "142397/142397 [==============================] - 22s 156us/sample - loss: 0.5857 - acc: 0.8248 - val_loss: 0.5840 - val_acc: 0.8308\n",
      "Epoch 6/200\n",
      "142397/142397 [==============================] - 23s 158us/sample - loss: 0.5853 - acc: 0.8255 - val_loss: 0.5838 - val_acc: 0.8292\n",
      "Epoch 7/200\n",
      "142397/142397 [==============================] - 23s 165us/sample - loss: 0.5852 - acc: 0.8261 - val_loss: 0.5838 - val_acc: 0.8257\n",
      "Epoch 8/200\n",
      "142397/142397 [==============================] - 23s 164us/sample - loss: 0.5847 - acc: 0.8267 - val_loss: 0.5834 - val_acc: 0.8289\n",
      "Epoch 9/200\n",
      "142397/142397 [==============================] - 23s 164us/sample - loss: 0.5846 - acc: 0.8269 - val_loss: 0.5840 - val_acc: 0.8225\n",
      "Epoch 10/200\n",
      "142397/142397 [==============================] - 23s 160us/sample - loss: 0.5843 - acc: 0.8279 - val_loss: 0.5832 - val_acc: 0.8271\n",
      "Epoch 11/200\n",
      "142397/142397 [==============================] - 23s 163us/sample - loss: 0.5840 - acc: 0.8280 - val_loss: 0.5843 - val_acc: 0.8201\n",
      "Epoch 12/200\n",
      "142397/142397 [==============================] - 23s 165us/sample - loss: 0.5840 - acc: 0.8280 - val_loss: 0.5823 - val_acc: 0.8318\n",
      "Epoch 13/200\n",
      "142397/142397 [==============================] - 31s 216us/sample - loss: 0.5836 - acc: 0.8288 - val_loss: 0.5822 - val_acc: 0.8316\n",
      "Epoch 14/200\n",
      "142397/142397 [==============================] - 44s 311us/sample - loss: 0.5836 - acc: 0.8297 - val_loss: 0.5820 - val_acc: 0.8345\n",
      "Epoch 15/200\n",
      "142397/142397 [==============================] - 34s 241us/sample - loss: 0.5834 - acc: 0.8297 - val_loss: 0.5823 - val_acc: 0.8299\n",
      "Epoch 16/200\n",
      "142397/142397 [==============================] - 24s 170us/sample - loss: 0.5831 - acc: 0.8305 - val_loss: 0.5819 - val_acc: 0.8312\n",
      "Epoch 17/200\n",
      "142397/142397 [==============================] - 24s 166us/sample - loss: 0.5830 - acc: 0.8308 - val_loss: 0.5821 - val_acc: 0.8294\n",
      "Epoch 18/200\n",
      "142397/142397 [==============================] - 23s 163us/sample - loss: 0.5828 - acc: 0.8312 - val_loss: 0.5821 - val_acc: 0.8288\n",
      "Epoch 19/200\n",
      "142397/142397 [==============================] - 23s 162us/sample - loss: 0.5827 - acc: 0.8316 - val_loss: 0.5817 - val_acc: 0.8315\n",
      "Epoch 20/200\n",
      "142397/142397 [==============================] - 23s 164us/sample - loss: 0.5825 - acc: 0.8322 - val_loss: 0.5824 - val_acc: 0.8252\n",
      "Epoch 21/200\n",
      "142397/142397 [==============================] - 23s 160us/sample - loss: 0.5823 - acc: 0.8320 - val_loss: 0.5815 - val_acc: 0.8313\n",
      "Epoch 22/200\n",
      "142397/142397 [==============================] - 23s 164us/sample - loss: 0.5823 - acc: 0.8320 - val_loss: 0.5815 - val_acc: 0.8301\n",
      "Epoch 23/200\n",
      "142397/142397 [==============================] - 23s 158us/sample - loss: 0.5821 - acc: 0.8328 - val_loss: 0.5808 - val_acc: 0.8348\n",
      "Epoch 24/200\n",
      "142397/142397 [==============================] - 22s 156us/sample - loss: 0.5817 - acc: 0.8336 - val_loss: 0.5815 - val_acc: 0.8295\n",
      "Epoch 25/200\n",
      "142397/142397 [==============================] - 22s 155us/sample - loss: 0.5817 - acc: 0.8337 - val_loss: 0.5807 - val_acc: 0.8353\n",
      "Epoch 26/200\n",
      "142397/142397 [==============================] - 22s 155us/sample - loss: 0.5815 - acc: 0.8345 - val_loss: 0.5816 - val_acc: 0.8266\n",
      "Epoch 27/200\n",
      "142397/142397 [==============================] - 19s 136us/sample - loss: 0.5814 - acc: 0.8344 - val_loss: 0.5804 - val_acc: 0.8337\n",
      "Epoch 28/200\n",
      "142397/142397 [==============================] - 17s 122us/sample - loss: 0.5810 - acc: 0.8348 - val_loss: 0.5802 - val_acc: 0.8342\n",
      "Epoch 29/200\n",
      "142397/142397 [==============================] - 20s 138us/sample - loss: 0.5807 - acc: 0.8356 - val_loss: 0.5796 - val_acc: 0.8333\n",
      "Epoch 30/200\n",
      "142397/142397 [==============================] - 17s 121us/sample - loss: 0.5802 - acc: 0.8364 - val_loss: 0.5786 - val_acc: 0.8385\n",
      "Epoch 31/200\n",
      "142397/142397 [==============================] - 17s 120us/sample - loss: 0.5793 - acc: 0.8379 - val_loss: 0.5781 - val_acc: 0.8395\n",
      "Epoch 32/200\n",
      "142397/142397 [==============================] - 17s 121us/sample - loss: 0.5789 - acc: 0.8385 - val_loss: 0.5778 - val_acc: 0.8352\n",
      "Epoch 33/200\n",
      "142397/142397 [==============================] - 18s 124us/sample - loss: 0.5784 - acc: 0.8393 - val_loss: 0.5773 - val_acc: 0.8343\n",
      "Epoch 34/200\n",
      "142397/142397 [==============================] - 17s 123us/sample - loss: 0.5781 - acc: 0.8396 - val_loss: 0.5763 - val_acc: 0.8399\n",
      "Epoch 35/200\n",
      "142397/142397 [==============================] - 18s 123us/sample - loss: 0.5779 - acc: 0.8398 - val_loss: 0.5766 - val_acc: 0.8356\n",
      "Epoch 36/200\n",
      "142397/142397 [==============================] - 17s 123us/sample - loss: 0.5776 - acc: 0.8405 - val_loss: 0.5763 - val_acc: 0.8483\n",
      "Epoch 37/200\n",
      "142397/142397 [==============================] - 17s 123us/sample - loss: 0.5774 - acc: 0.8405 - val_loss: 0.5752 - val_acc: 0.8444\n",
      "Epoch 38/200\n",
      "142397/142397 [==============================] - 17s 121us/sample - loss: 0.5773 - acc: 0.8405 - val_loss: 0.5751 - val_acc: 0.8441\n",
      "Epoch 39/200\n",
      "142397/142397 [==============================] - 17s 121us/sample - loss: 0.5766 - acc: 0.8426 - val_loss: 0.5751 - val_acc: 0.8463\n",
      "Epoch 40/200\n",
      "142397/142397 [==============================] - 17s 122us/sample - loss: 0.5765 - acc: 0.8427 - val_loss: 0.5750 - val_acc: 0.8454\n",
      "Epoch 41/200\n",
      "142397/142397 [==============================] - 17s 122us/sample - loss: 0.5763 - acc: 0.8425 - val_loss: 0.5753 - val_acc: 0.8433\n",
      "Epoch 42/200\n",
      "142397/142397 [==============================] - 17s 120us/sample - loss: 0.5759 - acc: 0.8441 - val_loss: 0.5743 - val_acc: 0.8481\n",
      "Epoch 43/200\n",
      "142397/142397 [==============================] - 17s 123us/sample - loss: 0.5757 - acc: 0.8443 - val_loss: 0.5749 - val_acc: 0.8408\n",
      "Epoch 44/200\n",
      "142397/142397 [==============================] - 18s 123us/sample - loss: 0.5754 - acc: 0.8446 - val_loss: 0.5738 - val_acc: 0.8488\n",
      "Epoch 45/200\n",
      "142397/142397 [==============================] - 18s 124us/sample - loss: 0.5754 - acc: 0.8455 - val_loss: 0.5744 - val_acc: 0.8518\n",
      "Epoch 46/200\n",
      "142397/142397 [==============================] - 18s 123us/sample - loss: 0.5753 - acc: 0.8454 - val_loss: 0.5741 - val_acc: 0.8453\n",
      "Epoch 47/200\n",
      "142397/142397 [==============================] - 17s 123us/sample - loss: 0.5748 - acc: 0.8461 - val_loss: 0.5739 - val_acc: 0.8430\n",
      "Epoch 48/200\n",
      "142397/142397 [==============================] - 18s 124us/sample - loss: 0.5746 - acc: 0.8466 - val_loss: 0.5738 - val_acc: 0.8501\n",
      "Epoch 49/200\n",
      "142397/142397 [==============================] - 17s 122us/sample - loss: 0.5745 - acc: 0.8466 - val_loss: 0.5736 - val_acc: 0.8496\n",
      "Epoch 50/200\n",
      "142397/142397 [==============================] - 17s 122us/sample - loss: 0.5741 - acc: 0.8477 - val_loss: 0.5736 - val_acc: 0.8481\n",
      "Epoch 51/200\n",
      "142397/142397 [==============================] - 17s 121us/sample - loss: 0.5742 - acc: 0.8469 - val_loss: 0.5733 - val_acc: 0.8499\n",
      "Epoch 52/200\n",
      "142397/142397 [==============================] - 17s 121us/sample - loss: 0.5742 - acc: 0.8474 - val_loss: 0.5738 - val_acc: 0.8426\n",
      "Epoch 53/200\n",
      "142397/142397 [==============================] - 17s 123us/sample - loss: 0.5739 - acc: 0.8478 - val_loss: 0.5730 - val_acc: 0.8505\n",
      "Epoch 54/200\n",
      "142397/142397 [==============================] - 18s 123us/sample - loss: 0.5737 - acc: 0.8483 - val_loss: 0.5729 - val_acc: 0.8496\n",
      "Epoch 55/200\n",
      "142397/142397 [==============================] - 17s 121us/sample - loss: 0.5737 - acc: 0.8481 - val_loss: 0.5736 - val_acc: 0.8433\n",
      "Epoch 56/200\n",
      "142397/142397 [==============================] - 17s 121us/sample - loss: 0.5735 - acc: 0.8489 - val_loss: 0.5731 - val_acc: 0.8457\n",
      "Epoch 57/200\n"
     ]
    },
    {
     "name": "stdout",
     "output_type": "stream",
     "text": [
      "142397/142397 [==============================] - 17s 121us/sample - loss: 0.5730 - acc: 0.8498 - val_loss: 0.5729 - val_acc: 0.8489\n",
      "Epoch 58/200\n",
      "142397/142397 [==============================] - 17s 122us/sample - loss: 0.5731 - acc: 0.8493 - val_loss: 0.5727 - val_acc: 0.8457\n",
      "Epoch 59/200\n",
      "142397/142397 [==============================] - 17s 122us/sample - loss: 0.5730 - acc: 0.8494 - val_loss: 0.5740 - val_acc: 0.8554\n",
      "Epoch 60/200\n",
      "142397/142397 [==============================] - 17s 122us/sample - loss: 0.5729 - acc: 0.8500 - val_loss: 0.5735 - val_acc: 0.8416\n",
      "Epoch 61/200\n",
      "142397/142397 [==============================] - 17s 122us/sample - loss: 0.5728 - acc: 0.8501 - val_loss: 0.5730 - val_acc: 0.8474\n",
      "Epoch 62/200\n",
      "142397/142397 [==============================] - 18s 123us/sample - loss: 0.5727 - acc: 0.8507 - val_loss: 0.5721 - val_acc: 0.8494\n",
      "Epoch 63/200\n",
      "142397/142397 [==============================] - 18s 124us/sample - loss: 0.5724 - acc: 0.8511 - val_loss: 0.5721 - val_acc: 0.8533\n",
      "Epoch 64/200\n",
      "142397/142397 [==============================] - 17s 121us/sample - loss: 0.5723 - acc: 0.8513 - val_loss: 0.5719 - val_acc: 0.8535\n",
      "Epoch 65/200\n",
      "142397/142397 [==============================] - 17s 122us/sample - loss: 0.5723 - acc: 0.8516 - val_loss: 0.5720 - val_acc: 0.8533\n",
      "Epoch 66/200\n",
      "142397/142397 [==============================] - 17s 123us/sample - loss: 0.5720 - acc: 0.8521 - val_loss: 0.5723 - val_acc: 0.8537\n",
      "Epoch 67/200\n",
      "142397/142397 [==============================] - 18s 123us/sample - loss: 0.5719 - acc: 0.8522 - val_loss: 0.5722 - val_acc: 0.8485\n",
      "Epoch 68/200\n",
      "142397/142397 [==============================] - 17s 121us/sample - loss: 0.5717 - acc: 0.8523 - val_loss: 0.5720 - val_acc: 0.8486\n",
      "Epoch 69/200\n",
      "142397/142397 [==============================] - 17s 120us/sample - loss: 0.5716 - acc: 0.8525 - val_loss: 0.5718 - val_acc: 0.8528\n",
      "Epoch 70/200\n",
      "142397/142397 [==============================] - 17s 121us/sample - loss: 0.5715 - acc: 0.8527 - val_loss: 0.5718 - val_acc: 0.8476\n",
      "Epoch 71/200\n",
      "142397/142397 [==============================] - 17s 122us/sample - loss: 0.5714 - acc: 0.8532 - val_loss: 0.5712 - val_acc: 0.8546\n",
      "Epoch 72/200\n",
      "142397/142397 [==============================] - 17s 122us/sample - loss: 0.5713 - acc: 0.8533 - val_loss: 0.5711 - val_acc: 0.8529\n",
      "Epoch 73/200\n",
      "142397/142397 [==============================] - 17s 121us/sample - loss: 0.5712 - acc: 0.8542 - val_loss: 0.5719 - val_acc: 0.8477\n",
      "Epoch 74/200\n",
      "142397/142397 [==============================] - 17s 122us/sample - loss: 0.5712 - acc: 0.8532 - val_loss: 0.5713 - val_acc: 0.8536\n",
      "Epoch 75/200\n",
      "142397/142397 [==============================] - 18s 124us/sample - loss: 0.5710 - acc: 0.8536 - val_loss: 0.5714 - val_acc: 0.8504\n",
      "Epoch 76/200\n",
      "142397/142397 [==============================] - 18s 124us/sample - loss: 0.5712 - acc: 0.8530 - val_loss: 0.5711 - val_acc: 0.8511\n",
      "Epoch 77/200\n",
      "142397/142397 [==============================] - 17s 122us/sample - loss: 0.5711 - acc: 0.8534 - val_loss: 0.5713 - val_acc: 0.8551\n",
      "Epoch 78/200\n",
      "142397/142397 [==============================] - 17s 122us/sample - loss: 0.5711 - acc: 0.8533 - val_loss: 0.5715 - val_acc: 0.8492\n",
      "Epoch 79/200\n",
      "142397/142397 [==============================] - 17s 121us/sample - loss: 0.5707 - acc: 0.8546 - val_loss: 0.5713 - val_acc: 0.8534\n",
      "Epoch 80/200\n",
      "142397/142397 [==============================] - 18s 126us/sample - loss: 0.5707 - acc: 0.8547 - val_loss: 0.5711 - val_acc: 0.8520\n",
      "Epoch 81/200\n",
      "142397/142397 [==============================] - 17s 123us/sample - loss: 0.5708 - acc: 0.8543 - val_loss: 0.5711 - val_acc: 0.8522\n",
      "Epoch 82/200\n",
      "142397/142397 [==============================] - 17s 121us/sample - loss: 0.5707 - acc: 0.8551 - val_loss: 0.5720 - val_acc: 0.8582\n",
      "Epoch 83/200\n",
      "142397/142397 [==============================] - 17s 119us/sample - loss: 0.5703 - acc: 0.8552 - val_loss: 0.5710 - val_acc: 0.8539\n",
      "Epoch 84/200\n",
      "142397/142397 [==============================] - 17s 120us/sample - loss: 0.5702 - acc: 0.8560 - val_loss: 0.5710 - val_acc: 0.8523\n",
      "Epoch 85/200\n",
      "142397/142397 [==============================] - 17s 121us/sample - loss: 0.5704 - acc: 0.8551 - val_loss: 0.5709 - val_acc: 0.8550\n",
      "Epoch 86/200\n",
      "142397/142397 [==============================] - 17s 120us/sample - loss: 0.5705 - acc: 0.8549 - val_loss: 0.5707 - val_acc: 0.8531\n",
      "Epoch 87/200\n",
      "142397/142397 [==============================] - 17s 119us/sample - loss: 0.5701 - acc: 0.8563 - val_loss: 0.5715 - val_acc: 0.8502\n",
      "Epoch 88/200\n",
      "142397/142397 [==============================] - 17s 121us/sample - loss: 0.5702 - acc: 0.8557 - val_loss: 0.5714 - val_acc: 0.8546\n",
      "Epoch 89/200\n",
      "142397/142397 [==============================] - 18s 123us/sample - loss: 0.5701 - acc: 0.8562 - val_loss: 0.5707 - val_acc: 0.8526\n",
      "Epoch 90/200\n",
      "142397/142397 [==============================] - 17s 121us/sample - loss: 0.5700 - acc: 0.8561 - val_loss: 0.5712 - val_acc: 0.8538\n",
      "Epoch 91/200\n",
      "142397/142397 [==============================] - 18s 124us/sample - loss: 0.5700 - acc: 0.8563 - val_loss: 0.5716 - val_acc: 0.8494\n",
      "Epoch 92/200\n",
      "142397/142397 [==============================] - 18s 123us/sample - loss: 0.5698 - acc: 0.8567 - val_loss: 0.5706 - val_acc: 0.8556\n",
      "Epoch 93/200\n",
      "142397/142397 [==============================] - 18s 125us/sample - loss: 0.5700 - acc: 0.8562 - val_loss: 0.5703 - val_acc: 0.8548\n",
      "Epoch 94/200\n",
      "142397/142397 [==============================] - 17s 123us/sample - loss: 0.5700 - acc: 0.8559 - val_loss: 0.5708 - val_acc: 0.8560\n",
      "Epoch 95/200\n",
      "142397/142397 [==============================] - 18s 123us/sample - loss: 0.5696 - acc: 0.8569 - val_loss: 0.5708 - val_acc: 0.8512\n",
      "Epoch 96/200\n",
      "142397/142397 [==============================] - 17s 123us/sample - loss: 0.5697 - acc: 0.8568 - val_loss: 0.5704 - val_acc: 0.8531\n",
      "Epoch 97/200\n",
      "142397/142397 [==============================] - 18s 124us/sample - loss: 0.5694 - acc: 0.8569 - val_loss: 0.5707 - val_acc: 0.8514\n",
      "Epoch 98/200\n",
      "142397/142397 [==============================] - 17s 122us/sample - loss: 0.5697 - acc: 0.8565 - val_loss: 0.5719 - val_acc: 0.8459\n",
      "Epoch 99/200\n",
      "142397/142397 [==============================] - 17s 120us/sample - loss: 0.5695 - acc: 0.8570 - val_loss: 0.5707 - val_acc: 0.8492\n",
      "Epoch 100/200\n",
      "142397/142397 [==============================] - 17s 120us/sample - loss: 0.5694 - acc: 0.8573 - val_loss: 0.5700 - val_acc: 0.8549\n",
      "Epoch 101/200\n",
      "142397/142397 [==============================] - 17s 122us/sample - loss: 0.5693 - acc: 0.8575 - val_loss: 0.5704 - val_acc: 0.8554\n",
      "Epoch 102/200\n",
      "142397/142397 [==============================] - 18s 127us/sample - loss: 0.5695 - acc: 0.8568 - val_loss: 0.5709 - val_acc: 0.8526\n",
      "Epoch 103/200\n",
      "142397/142397 [==============================] - 17s 122us/sample - loss: 0.5694 - acc: 0.8572 - val_loss: 0.5704 - val_acc: 0.8563\n",
      "Epoch 104/200\n",
      "142397/142397 [==============================] - 17s 119us/sample - loss: 0.5693 - acc: 0.8572 - val_loss: 0.5702 - val_acc: 0.8560\n",
      "Epoch 105/200\n",
      "142397/142397 [==============================] - 18s 123us/sample - loss: 0.5693 - acc: 0.8577 - val_loss: 0.5702 - val_acc: 0.8512\n",
      "Epoch 106/200\n",
      "142397/142397 [==============================] - 17s 122us/sample - loss: 0.5693 - acc: 0.8575 - val_loss: 0.5715 - val_acc: 0.8457\n",
      "Epoch 107/200\n",
      "142397/142397 [==============================] - 18s 123us/sample - loss: 0.5690 - acc: 0.8577 - val_loss: 0.5704 - val_acc: 0.8498\n",
      "Epoch 108/200\n",
      "142397/142397 [==============================] - 18s 124us/sample - loss: 0.5690 - acc: 0.8582 - val_loss: 0.5702 - val_acc: 0.8512\n",
      "Epoch 109/200\n",
      "142397/142397 [==============================] - 17s 121us/sample - loss: 0.5691 - acc: 0.8577 - val_loss: 0.5699 - val_acc: 0.8565\n",
      "Epoch 110/200\n",
      "142397/142397 [==============================] - 17s 121us/sample - loss: 0.5687 - acc: 0.8584 - val_loss: 0.5696 - val_acc: 0.8569\n",
      "Epoch 111/200\n",
      "142397/142397 [==============================] - 17s 122us/sample - loss: 0.5687 - acc: 0.8585 - val_loss: 0.5698 - val_acc: 0.8575\n",
      "Epoch 112/200\n",
      "142397/142397 [==============================] - 17s 123us/sample - loss: 0.5687 - acc: 0.8586 - val_loss: 0.5703 - val_acc: 0.8497\n",
      "Epoch 113/200\n"
     ]
    },
    {
     "name": "stdout",
     "output_type": "stream",
     "text": [
      "142397/142397 [==============================] - 18s 124us/sample - loss: 0.5685 - acc: 0.8594 - val_loss: 0.5699 - val_acc: 0.8567\n",
      "Epoch 114/200\n",
      "142397/142397 [==============================] - 18s 124us/sample - loss: 0.5686 - acc: 0.8586 - val_loss: 0.5708 - val_acc: 0.8576\n",
      "Epoch 115/200\n",
      "142397/142397 [==============================] - 18s 124us/sample - loss: 0.5688 - acc: 0.8580 - val_loss: 0.5713 - val_acc: 0.8456\n",
      "Epoch 116/200\n",
      "142397/142397 [==============================] - 18s 124us/sample - loss: 0.5688 - acc: 0.8585 - val_loss: 0.5699 - val_acc: 0.8603\n",
      "Epoch 117/200\n",
      "142397/142397 [==============================] - 17s 122us/sample - loss: 0.5687 - acc: 0.8589 - val_loss: 0.5698 - val_acc: 0.8566\n",
      "Epoch 118/200\n",
      "142397/142397 [==============================] - 18s 123us/sample - loss: 0.5685 - acc: 0.8594 - val_loss: 0.5697 - val_acc: 0.8535\n",
      "Epoch 119/200\n",
      "142397/142397 [==============================] - 17s 120us/sample - loss: 0.5686 - acc: 0.8585 - val_loss: 0.5697 - val_acc: 0.8576\n",
      "Epoch 120/200\n",
      "142397/142397 [==============================] - 17s 120us/sample - loss: 0.5687 - acc: 0.8583 - val_loss: 0.5702 - val_acc: 0.8553\n",
      "Epoch 121/200\n",
      "142397/142397 [==============================] - 17s 120us/sample - loss: 0.5684 - acc: 0.8596 - val_loss: 0.5704 - val_acc: 0.8519\n",
      "Epoch 122/200\n",
      "142397/142397 [==============================] - 17s 122us/sample - loss: 0.5686 - acc: 0.8583 - val_loss: 0.5696 - val_acc: 0.8563\n",
      "Epoch 123/200\n",
      "142397/142397 [==============================] - 18s 126us/sample - loss: 0.5682 - acc: 0.8599 - val_loss: 0.5707 - val_acc: 0.8501\n",
      "Epoch 124/200\n",
      "142397/142397 [==============================] - 19s 132us/sample - loss: 0.5684 - acc: 0.8602 - val_loss: 0.5700 - val_acc: 0.8535\n",
      "Epoch 125/200\n",
      "142397/142397 [==============================] - 19s 133us/sample - loss: 0.5684 - acc: 0.8589 - val_loss: 0.5707 - val_acc: 0.8518\n",
      "Epoch 126/200\n",
      "142397/142397 [==============================] - 18s 128us/sample - loss: 0.5681 - acc: 0.8599 - val_loss: 0.5695 - val_acc: 0.8560\n",
      "Epoch 127/200\n",
      "142397/142397 [==============================] - 18s 127us/sample - loss: 0.5684 - acc: 0.8589 - val_loss: 0.5701 - val_acc: 0.8510\n",
      "Epoch 128/200\n",
      "142397/142397 [==============================] - 19s 132us/sample - loss: 0.5680 - acc: 0.8601 - val_loss: 0.5693 - val_acc: 0.8581\n",
      "Epoch 129/200\n",
      "142397/142397 [==============================] - 18s 126us/sample - loss: 0.5679 - acc: 0.8607 - val_loss: 0.5695 - val_acc: 0.8556\n",
      "Epoch 130/200\n",
      "142397/142397 [==============================] - 19s 131us/sample - loss: 0.5682 - acc: 0.8603 - val_loss: 0.5699 - val_acc: 0.8535\n",
      "Epoch 131/200\n",
      "142397/142397 [==============================] - 18s 128us/sample - loss: 0.5680 - acc: 0.8608 - val_loss: 0.5697 - val_acc: 0.8556\n",
      "Epoch 132/200\n",
      "142397/142397 [==============================] - 18s 125us/sample - loss: 0.5682 - acc: 0.8596 - val_loss: 0.5696 - val_acc: 0.8549\n",
      "Epoch 133/200\n",
      "142397/142397 [==============================] - 18s 126us/sample - loss: 0.5678 - acc: 0.8606 - val_loss: 0.5698 - val_acc: 0.8520\n",
      "Epoch 134/200\n",
      "142397/142397 [==============================] - 18s 126us/sample - loss: 0.5678 - acc: 0.8607 - val_loss: 0.5701 - val_acc: 0.8607\n",
      "Epoch 135/200\n",
      "142397/142397 [==============================] - 19s 131us/sample - loss: 0.5680 - acc: 0.8601 - val_loss: 0.5697 - val_acc: 0.8580\n",
      "Epoch 136/200\n",
      "142397/142397 [==============================] - 18s 127us/sample - loss: 0.5679 - acc: 0.8601 - val_loss: 0.5697 - val_acc: 0.8539\n",
      "Epoch 137/200\n",
      "142397/142397 [==============================] - 18s 128us/sample - loss: 0.5678 - acc: 0.8607 - val_loss: 0.5693 - val_acc: 0.8549\n",
      "Epoch 138/200\n",
      "142397/142397 [==============================] - 18s 129us/sample - loss: 0.5676 - acc: 0.8607 - val_loss: 0.5695 - val_acc: 0.8550\n",
      "Epoch 139/200\n",
      "142397/142397 [==============================] - 18s 128us/sample - loss: 0.5679 - acc: 0.8607 - val_loss: 0.5696 - val_acc: 0.8520\n",
      "Epoch 140/200\n",
      "142397/142397 [==============================] - 17s 123us/sample - loss: 0.5675 - acc: 0.8615 - val_loss: 0.5694 - val_acc: 0.8546\n",
      "Epoch 141/200\n",
      "142397/142397 [==============================] - 18s 128us/sample - loss: 0.5675 - acc: 0.8614 - val_loss: 0.5690 - val_acc: 0.8571\n",
      "Epoch 142/200\n",
      "142397/142397 [==============================] - 18s 130us/sample - loss: 0.5675 - acc: 0.8612 - val_loss: 0.5699 - val_acc: 0.8503\n",
      "Epoch 143/200\n",
      "142397/142397 [==============================] - 18s 123us/sample - loss: 0.5674 - acc: 0.8616 - val_loss: 0.5698 - val_acc: 0.8591\n",
      "Epoch 144/200\n",
      "142397/142397 [==============================] - 19s 131us/sample - loss: 0.5677 - acc: 0.8604 - val_loss: 0.5693 - val_acc: 0.8543\n",
      "Epoch 145/200\n",
      "142397/142397 [==============================] - 18s 128us/sample - loss: 0.5676 - acc: 0.8614 - val_loss: 0.5692 - val_acc: 0.8542\n",
      "Epoch 146/200\n",
      "142397/142397 [==============================] - 18s 126us/sample - loss: 0.5678 - acc: 0.8610 - val_loss: 0.5690 - val_acc: 0.8569\n",
      "Epoch 147/200\n",
      "142397/142397 [==============================] - 18s 129us/sample - loss: 0.5674 - acc: 0.8616 - val_loss: 0.5698 - val_acc: 0.8592\n",
      "Epoch 148/200\n",
      "142397/142397 [==============================] - 18s 129us/sample - loss: 0.5674 - acc: 0.8613 - val_loss: 0.5696 - val_acc: 0.8583\n",
      "Epoch 149/200\n",
      "142397/142397 [==============================] - 18s 127us/sample - loss: 0.5677 - acc: 0.8608 - val_loss: 0.5696 - val_acc: 0.8583\n",
      "Epoch 150/200\n",
      "142397/142397 [==============================] - 18s 128us/sample - loss: 0.5669 - acc: 0.8627 - val_loss: 0.5696 - val_acc: 0.8526\n",
      "Epoch 151/200\n",
      "142397/142397 [==============================] - 18s 126us/sample - loss: 0.5674 - acc: 0.8617 - val_loss: 0.5695 - val_acc: 0.8552\n",
      "Epoch 152/200\n",
      "142397/142397 [==============================] - 20s 142us/sample - loss: 0.5677 - acc: 0.8607 - val_loss: 0.5696 - val_acc: 0.8532\n",
      "Epoch 153/200\n",
      "142397/142397 [==============================] - 19s 132us/sample - loss: 0.5669 - acc: 0.8629 - val_loss: 0.5688 - val_acc: 0.8583\n",
      "Epoch 154/200\n",
      "142397/142397 [==============================] - 20s 141us/sample - loss: 0.5672 - acc: 0.8616 - val_loss: 0.5702 - val_acc: 0.8494\n",
      "Epoch 155/200\n",
      "142397/142397 [==============================] - 20s 139us/sample - loss: 0.5672 - acc: 0.8613 - val_loss: 0.5694 - val_acc: 0.8542\n",
      "Epoch 156/200\n",
      "142397/142397 [==============================] - 19s 131us/sample - loss: 0.5672 - acc: 0.8620 - val_loss: 0.5691 - val_acc: 0.8567\n",
      "Epoch 157/200\n",
      "142397/142397 [==============================] - 18s 128us/sample - loss: 0.5671 - acc: 0.8622 - val_loss: 0.5691 - val_acc: 0.8571\n",
      "Epoch 158/200\n",
      "142397/142397 [==============================] - 17s 123us/sample - loss: 0.5668 - acc: 0.8630 - val_loss: 0.5689 - val_acc: 0.8573\n",
      "Epoch 159/200\n",
      "142397/142397 [==============================] - 18s 125us/sample - loss: 0.5669 - acc: 0.8628 - val_loss: 0.5691 - val_acc: 0.8560\n",
      "Epoch 160/200\n",
      "142397/142397 [==============================] - 18s 130us/sample - loss: 0.5669 - acc: 0.8628 - val_loss: 0.5688 - val_acc: 0.8594\n",
      "Epoch 161/200\n",
      "142397/142397 [==============================] - 18s 125us/sample - loss: 0.5670 - acc: 0.8623 - val_loss: 0.5695 - val_acc: 0.8528\n",
      "Epoch 162/200\n",
      "142397/142397 [==============================] - 18s 126us/sample - loss: 0.5672 - acc: 0.8614 - val_loss: 0.5695 - val_acc: 0.8563\n",
      "Epoch 163/200\n",
      "142397/142397 [==============================] - 18s 126us/sample - loss: 0.5670 - acc: 0.8618 - val_loss: 0.5690 - val_acc: 0.8586\n",
      "Epoch 164/200\n",
      "142397/142397 [==============================] - 19s 131us/sample - loss: 0.5669 - acc: 0.8626 - val_loss: 0.5690 - val_acc: 0.8561\n",
      "Epoch 165/200\n",
      "142397/142397 [==============================] - 18s 126us/sample - loss: 0.5667 - acc: 0.8629 - val_loss: 0.5691 - val_acc: 0.8593\n",
      "Epoch 166/200\n",
      "142397/142397 [==============================] - 18s 126us/sample - loss: 0.5670 - acc: 0.8625 - val_loss: 0.5686 - val_acc: 0.8565\n",
      "Epoch 167/200\n",
      "142397/142397 [==============================] - 18s 125us/sample - loss: 0.5664 - acc: 0.8638 - val_loss: 0.5692 - val_acc: 0.8559\n",
      "Epoch 168/200\n",
      "142397/142397 [==============================] - 18s 127us/sample - loss: 0.5666 - acc: 0.8631 - val_loss: 0.5707 - val_acc: 0.8450\n",
      "Epoch 169/200\n"
     ]
    },
    {
     "name": "stdout",
     "output_type": "stream",
     "text": [
      "142397/142397 [==============================] - 19s 131us/sample - loss: 0.5668 - acc: 0.8627 - val_loss: 0.5689 - val_acc: 0.8566\n",
      "Epoch 170/200\n",
      "142397/142397 [==============================] - 18s 124us/sample - loss: 0.5666 - acc: 0.8633 - val_loss: 0.5695 - val_acc: 0.8522\n",
      "Epoch 171/200\n",
      "142397/142397 [==============================] - 18s 126us/sample - loss: 0.5669 - acc: 0.8622 - val_loss: 0.5691 - val_acc: 0.8553\n",
      "Epoch 172/200\n",
      "142397/142397 [==============================] - 18s 125us/sample - loss: 0.5668 - acc: 0.8627 - val_loss: 0.5689 - val_acc: 0.8562\n",
      "Epoch 173/200\n",
      "142397/142397 [==============================] - 18s 124us/sample - loss: 0.5664 - acc: 0.8633 - val_loss: 0.5690 - val_acc: 0.8596\n",
      "Epoch 174/200\n",
      "142397/142397 [==============================] - 18s 129us/sample - loss: 0.5665 - acc: 0.8630 - val_loss: 0.5695 - val_acc: 0.8578\n",
      "Epoch 175/200\n",
      "142397/142397 [==============================] - 18s 124us/sample - loss: 0.5667 - acc: 0.8633 - val_loss: 0.5691 - val_acc: 0.8546\n",
      "Epoch 176/200\n",
      "142397/142397 [==============================] - 18s 127us/sample - loss: 0.5666 - acc: 0.8628 - val_loss: 0.5692 - val_acc: 0.8594\n",
      "Epoch 177/200\n",
      "142397/142397 [==============================] - 18s 125us/sample - loss: 0.5663 - acc: 0.8636 - val_loss: 0.5693 - val_acc: 0.8557\n",
      "Epoch 178/200\n",
      "142397/142397 [==============================] - 18s 126us/sample - loss: 0.5665 - acc: 0.8634 - val_loss: 0.5691 - val_acc: 0.8546\n",
      "Epoch 179/200\n",
      "142397/142397 [==============================] - 18s 128us/sample - loss: 0.5666 - acc: 0.8633 - val_loss: 0.5693 - val_acc: 0.8547\n",
      "Epoch 180/200\n",
      "142397/142397 [==============================] - 18s 130us/sample - loss: 0.5665 - acc: 0.8631 - val_loss: 0.5695 - val_acc: 0.8542\n",
      "Epoch 181/200\n",
      "142397/142397 [==============================] - 18s 125us/sample - loss: 0.5665 - acc: 0.8632 - val_loss: 0.5694 - val_acc: 0.8537\n",
      "Epoch 182/200\n",
      "142397/142397 [==============================] - 18s 126us/sample - loss: 0.5664 - acc: 0.8637 - val_loss: 0.5692 - val_acc: 0.8577\n",
      "Epoch 183/200\n",
      "142397/142397 [==============================] - 18s 127us/sample - loss: 0.5666 - acc: 0.8629 - val_loss: 0.5698 - val_acc: 0.8488\n",
      "Epoch 184/200\n",
      "142397/142397 [==============================] - 18s 128us/sample - loss: 0.5661 - acc: 0.8643 - val_loss: 0.5691 - val_acc: 0.8568\n",
      "Epoch 185/200\n",
      "142397/142397 [==============================] - 18s 129us/sample - loss: 0.5661 - acc: 0.8641 - val_loss: 0.5691 - val_acc: 0.8562\n",
      "Epoch 186/200\n",
      "142397/142397 [==============================] - 18s 126us/sample - loss: 0.5661 - acc: 0.8641 - val_loss: 0.5688 - val_acc: 0.8567\n",
      "Epoch 187/200\n",
      "142397/142397 [==============================] - 18s 129us/sample - loss: 0.5663 - acc: 0.8637 - val_loss: 0.5693 - val_acc: 0.8519\n",
      "Epoch 188/200\n",
      "142397/142397 [==============================] - 19s 130us/sample - loss: 0.5661 - acc: 0.8643 - val_loss: 0.5691 - val_acc: 0.8593\n",
      "Epoch 189/200\n",
      "142397/142397 [==============================] - 18s 125us/sample - loss: 0.5659 - acc: 0.8645 - val_loss: 0.5692 - val_acc: 0.8544\n",
      "Epoch 190/200\n",
      "142397/142397 [==============================] - 18s 124us/sample - loss: 0.5665 - acc: 0.8628 - val_loss: 0.5691 - val_acc: 0.8608\n",
      "Epoch 191/200\n",
      "142397/142397 [==============================] - 19s 130us/sample - loss: 0.5661 - acc: 0.8644 - val_loss: 0.5692 - val_acc: 0.8594\n",
      "Epoch 192/200\n",
      "142397/142397 [==============================] - 18s 129us/sample - loss: 0.5663 - acc: 0.8634 - val_loss: 0.5691 - val_acc: 0.8538\n",
      "Epoch 193/200\n",
      "142397/142397 [==============================] - 18s 123us/sample - loss: 0.5662 - acc: 0.8639 - val_loss: 0.5692 - val_acc: 0.8555\n",
      "Epoch 194/200\n",
      "142397/142397 [==============================] - 18s 128us/sample - loss: 0.5662 - acc: 0.8641 - val_loss: 0.5695 - val_acc: 0.8534\n",
      "Epoch 195/200\n",
      "142397/142397 [==============================] - 19s 130us/sample - loss: 0.5662 - acc: 0.8635 - val_loss: 0.5690 - val_acc: 0.8578\n",
      "Epoch 196/200\n",
      "142397/142397 [==============================] - 18s 129us/sample - loss: 0.5658 - acc: 0.8651 - val_loss: 0.5694 - val_acc: 0.8533\n",
      "Epoch 197/200\n",
      "142397/142397 [==============================] - 18s 129us/sample - loss: 0.5661 - acc: 0.8638 - val_loss: 0.5688 - val_acc: 0.8579\n",
      "Epoch 198/200\n",
      "142397/142397 [==============================] - 18s 126us/sample - loss: 0.5657 - acc: 0.8653 - val_loss: 0.5689 - val_acc: 0.8548\n",
      "Epoch 199/200\n",
      "142397/142397 [==============================] - 18s 126us/sample - loss: 0.5663 - acc: 0.8636 - val_loss: 0.5695 - val_acc: 0.8514\n",
      "Epoch 200/200\n",
      "142397/142397 [==============================] - 18s 127us/sample - loss: 0.5660 - acc: 0.8645 - val_loss: 0.5693 - val_acc: 0.8516\n"
     ]
    }
   ],
   "source": [
    "history = model.fit(X_train, y_train, epochs=200, \n",
    "                    batch_size=100,\n",
    "                    validation_data=(X_val, y_val))"
   ]
  },
  {
   "cell_type": "code",
   "execution_count": 11,
   "metadata": {
    "ExecuteTime": {
     "end_time": "2021-09-15T18:38:48.397970Z",
     "start_time": "2021-09-15T18:38:48.150899Z"
    }
   },
   "outputs": [
    {
     "data": {
      "image/png": "[encoded data removed]",
      "text/plain": [
       "<Figure size 1152x144 with 2 Axes>"
      ]
     },
     "metadata": {
      "needs_background": "light"
     },
     "output_type": "display_data"
    }
   ],
   "source": [
    "plt.figure(figsize=(16,2))\n",
    "plt.subplot(1,2,1)\n",
    "plot_graphs(history, 'acc')\n",
    "plt.subplot(1,2,2)\n",
    "plot_graphs(history, 'loss')"
   ]
  },
  {
   "cell_type": "markdown",
   "metadata": {},
   "source": [
    "# 3. test"
   ]
  },
  {
   "cell_type": "code",
   "execution_count": 12,
   "metadata": {
    "ExecuteTime": {
     "end_time": "2021-09-15T18:38:48.433109Z",
     "start_time": "2021-09-15T18:38:48.399303Z"
    }
   },
   "outputs": [],
   "source": [
    "from sklearn.metrics import classification_report\n",
    "from sklearn.metrics import confusion_matrix\n",
    "from sklearn.metrics import roc_curve\n",
    "from sklearn.metrics import roc_auc_score\n",
    "import seaborn as sns"
   ]
  },
  {
   "cell_type": "code",
   "execution_count": 13,
   "metadata": {
    "ExecuteTime": {
     "end_time": "2021-09-15T18:38:51.550170Z",
     "start_time": "2021-09-15T18:38:48.434219Z"
    }
   },
   "outputs": [
    {
     "name": "stdout",
     "output_type": "stream",
     "text": [
      "44499/44499 [==============================] - 3s 70us/sample - loss: 0.5712 - acc: 0.8516\n",
      "Test Loss: 0.5712375338285054\n",
      "Test Accuracy: 0.8515921831130981\n"
     ]
    }
   ],
   "source": [
    "test_loss, test_acc = model.evaluate(X_test, y_test)\n",
    "print('Test Loss: {}'.format(test_loss))\n",
    "print('Test Accuracy: {}'.format(test_acc))"
   ]
  },
  {
   "cell_type": "code",
   "execution_count": 14,
   "metadata": {
    "ExecuteTime": {
     "end_time": "2021-09-15T18:38:58.007573Z",
     "start_time": "2021-09-15T18:38:51.551391Z"
    }
   },
   "outputs": [
    {
     "name": "stdout",
     "output_type": "stream",
     "text": [
      "              precision    recall  f1-score   support\n",
      "\n",
      "           0       0.82      0.90      0.86     22330\n",
      "           1       0.89      0.80      0.84     22169\n",
      "\n",
      "    accuracy                           0.85     44499\n",
      "   macro avg       0.86      0.85      0.85     44499\n",
      "weighted avg       0.86      0.85      0.85     44499\n",
      "\n",
      "rf auc : 0.9162440645210932\n"
     ]
    },
    {
     "data": {
      "image/png": "[encoded data removed]",
      "text/plain": [
       "<Figure size 288x288 with 1 Axes>"
      ]
     },
     "metadata": {
      "needs_background": "light"
     },
     "output_type": "display_data"
    },
    {
     "data": {
      "image/png": "[encoded data removed]",
      "text/plain": [
       "<Figure size 216x216 with 2 Axes>"
      ]
     },
     "metadata": {
      "needs_background": "light"
     },
     "output_type": "display_data"
    },
    {
     "data": {
      "image/png": "[encoded data removed]",
      "text/plain": [
       "<Figure size 216x216 with 2 Axes>"
      ]
     },
     "metadata": {
      "needs_background": "light"
     },
     "output_type": "display_data"
    }
   ],
   "source": [
    "# prediction\n",
    "y_pred = [1 if i>=0.5 else 0 for i in model.predict(X_test)]\n",
    "print(classification_report(y_test, y_pred))\n",
    "# AUC\n",
    "probs = model.predict(X_test)\n",
    "rf_auc = roc_auc_score(y_test, probs)\n",
    "print('rf auc : {}'.format(rf_auc))\n",
    "# plot the roc curve for the model\n",
    "rf_fpr, rf_tpr, _ = roc_curve(y_test, probs)\n",
    "plt.figure(figsize=(4, 4))\n",
    "plt.plot(rf_fpr, rf_tpr, marker='.', label='RF AUC = {:.4f}'.format(rf_auc), color='orange')\n",
    "plt.title('ROC curve')\n",
    "# axis labels\n",
    "plt.xlabel('False Positive Rate')\n",
    "plt.ylabel('True Positive Rate')\n",
    "# show the legend\n",
    "plt.legend()\n",
    "# show the plot\n",
    "plt.show()\n",
    "\n",
    "cf_matrix = confusion_matrix(y_test, y_pred)\n",
    "plt.figure(figsize=(3, 3))\n",
    "sns.heatmap(cf_matrix, annot=True, fmt=',.0f')\n",
    "plt.show()\n",
    "plt.figure(figsize=(3, 3))\n",
    "sns.heatmap(cf_matrix/np.sum(cf_matrix), annot=True, \n",
    "            fmt='.2%', cmap='Blues')\n",
    "plt.show()"
   ]
  }
 ],
 "metadata": {
  "kernelspec": {
   "display_name": "TF1.14",
   "language": "python",
   "name": "tf1.14"
  },
  "language_info": {
   "codemirror_mode": {
    "name": "ipython",
    "version": 3
   },
   "file_extension": ".py",
   "mimetype": "text/x-python",
   "name": "python",
   "nbconvert_exporter": "python",
   "pygments_lexer": "ipython3",
   "version": "3.6.13"
  }
 },
 "nbformat": 4,
 "nbformat_minor": 4
}
