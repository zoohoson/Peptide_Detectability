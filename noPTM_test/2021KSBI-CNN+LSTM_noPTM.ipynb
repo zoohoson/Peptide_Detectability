{
 "cells": [
  {
   "cell_type": "code",
   "execution_count": 1,
   "metadata": {
    "ExecuteTime": {
     "end_time": "2021-10-04T17:46:19.371213Z",
     "start_time": "2021-10-04T17:46:17.551835Z"
    }
   },
   "outputs": [],
   "source": [
    "import warnings\n",
    "warnings.simplefilter(action='ignore', category=FutureWarning)\n",
    "\n",
    "import argparse\n",
    "import numpy as np\n",
    "from tensorflow import keras"
   ]
  },
  {
   "cell_type": "code",
   "execution_count": 2,
   "metadata": {
    "ExecuteTime": {
     "end_time": "2021-10-04T17:46:19.423822Z",
     "start_time": "2021-10-04T17:46:19.375166Z"
    }
   },
   "outputs": [],
   "source": [
    "import tensorflow as tf\n",
    "gpus = tf.config.experimental.list_physical_devices('GPU')\n",
    "if gpus:\n",
    "    try:\n",
    "        tf.config.experimental.set_virtual_device_configuration(gpus[0],\n",
    "        [tf.config.experimental.VirtualDeviceConfiguration(memory_limit=1024*4)])\n",
    "    except RuntimeError as e:\n",
    "        print(e)"
   ]
  },
  {
   "cell_type": "code",
   "execution_count": 3,
   "metadata": {
    "ExecuteTime": {
     "end_time": "2021-10-04T17:46:19.778979Z",
     "start_time": "2021-10-04T17:46:19.773576Z"
    }
   },
   "outputs": [],
   "source": [
    "def load_pep_and_codify(file, max_len):\n",
    "    aa_dict={'A':1,'R':2,'N':3,'D':4,'C':5,'Q':6,'E':7,'G':8,'H':9,'I':10,'L':11,'K':12,'M':13,'F':14,\n",
    "        'P':15,'O':16,'S':17,'U':18,'T':19,'W':20,'Y':21,'V':22}\n",
    "    with open(file, 'r') as inf:\n",
    "        lines = inf.read().splitlines()\n",
    "    pep_codes=[]\n",
    "    long_pep_counter = 0\n",
    "    newLines = []\n",
    "    for pep in lines:\n",
    "        if not len(pep) > max_len:\n",
    "            current_pep=[]\n",
    "            for aa in pep:\n",
    "                current_pep.append(aa_dict[aa])\n",
    "            pep_codes.append(current_pep)\n",
    "            newLines.extend([pep])\n",
    "        else:\n",
    "            long_pep_counter += 1\n",
    "    predict_data = keras.preprocessing.sequence.pad_sequences(pep_codes, value=0, padding='post', maxlen=max_len)\n",
    "    return predict_data, long_pep_counter, newLines"
   ]
  },
  {
   "cell_type": "markdown",
   "metadata": {},
   "source": [
    "# New Train"
   ]
  },
  {
   "cell_type": "code",
   "execution_count": 4,
   "metadata": {
    "ExecuteTime": {
     "end_time": "2021-10-04T17:46:27.099889Z",
     "start_time": "2021-10-04T17:46:24.772438Z"
    }
   },
   "outputs": [
    {
     "name": "stdout",
     "output_type": "stream",
     "text": [
      "Model: \"sequential\"\n",
      "_________________________________________________________________\n",
      "Layer (type)                 Output Shape              Param #   \n",
      "=================================================================\n",
      "embedding (Embedding)        (None, 30, 50)            1150      \n",
      "_________________________________________________________________\n",
      "dropout (Dropout)            (None, 30, 50)            0         \n",
      "_________________________________________________________________\n",
      "conv1d (Conv1D)              (None, 30, 128)           19328     \n",
      "_________________________________________________________________\n",
      "conv1d_1 (Conv1D)            (None, 29, 64)            16448     \n",
      "_________________________________________________________________\n",
      "lstm (LSTM)                  (None, 64)                33024     \n",
      "_________________________________________________________________\n",
      "dense (Dense)                (None, 64)                4160      \n",
      "_________________________________________________________________\n",
      "dropout_1 (Dropout)          (None, 64)                0         \n",
      "_________________________________________________________________\n",
      "dense_1 (Dense)              (None, 1)                 65        \n",
      "=================================================================\n",
      "Total params: 74,175\n",
      "Trainable params: 74,175\n",
      "Non-trainable params: 0\n",
      "_________________________________________________________________\n"
     ]
    }
   ],
   "source": [
    "model = tf.keras.Sequential([\n",
    "    # vacabulary size 23 (22 AminoAcid + zero padding)\n",
    "    # embedding vector size 50\n",
    "    # input length (including padding) 30 ( 81 to 30)\n",
    "    tf.keras.layers.Embedding(23, 50, input_length=30),\n",
    "    tf.keras.layers.Dropout(np.random.uniform(0, 0.2)),\n",
    "    tf.keras.layers.Conv1D(filters=128, kernel_size=3, strides=1, padding='same'),\n",
    "    tf.keras.layers.Conv1D(filters=64, kernel_size=2, strides=1),\n",
    "    \n",
    "    tf.keras.layers.LSTM(64),\n",
    "    \n",
    "    tf.keras.layers.Dense(64, activation='relu'),\n",
    "    tf.keras.layers.Dropout(np.random.uniform(0, 0.2)),\n",
    "    tf.keras.layers.Dense(1, activation='sigmoid')\n",
    "])\n",
    "model.summary()\n",
    "\n",
    "model.compile(loss=tf.keras.losses.BinaryCrossentropy(from_logits=True),\n",
    "              optimizer=tf.keras.optimizers.Adam(1e-4),\n",
    "              metrics=['accuracy'])\n",
    "\n",
    "es = tf.keras.callbacks.EarlyStopping(monitor='val_loss',\n",
    "                                      mode='min', \n",
    "                                      verbose=1,\n",
    "                                      patience=20)"
   ]
  },
  {
   "cell_type": "markdown",
   "metadata": {},
   "source": [
    "# 1. Make Data X_train, y_train, X_test, y_test"
   ]
  },
  {
   "cell_type": "code",
   "execution_count": 5,
   "metadata": {
    "ExecuteTime": {
     "end_time": "2021-10-04T17:46:52.922634Z",
     "start_time": "2021-10-04T17:46:52.269728Z"
    }
   },
   "outputs": [],
   "source": [
    "import matplotlib.pyplot as plt\n",
    "import pandas as pd\n",
    "from sklearn.model_selection import train_test_split\n",
    "\n",
    "file_path = '../compareModel/2019Bioinformatics_DeepMSPeptide/DeepMSPeptide/'"
   ]
  },
  {
   "cell_type": "code",
   "execution_count": 6,
   "metadata": {
    "ExecuteTime": {
     "end_time": "2021-10-04T17:46:55.051940Z",
     "start_time": "2021-10-04T17:46:52.924182Z"
    }
   },
   "outputs": [
    {
     "name": "stdout",
     "output_type": "stream",
     "text": [
      "Loading input peptides\n",
      "Succesfully loaded 177997 peptides and skipped 0\n",
      "Loading input peptides\n",
      "Succesfully loaded 44499 peptides and skipped 0\n",
      "(142397, 30) (35600, 30) (44499, 30) (142397,) (35600,) (44499,)\n"
     ]
    }
   ],
   "source": [
    "# make DeepMSpeptide format\n",
    "args = file_path + 'detect_peptide_train_noptm.txt'\n",
    "print('Loading input peptides')\n",
    "X_train, skipped, lines = load_pep_and_codify(args, 30)\n",
    "tmp = open(file_path+'detect_peptide_train_y_noptm.txt')\n",
    "y_train = np.array([int(_.replace('\\n', '')) for _ in tmp.readlines()])\n",
    "tmp.close()\n",
    "print('Succesfully loaded {0} peptides and skipped {1}'.format(len(lines), str(skipped)))\n",
    "\n",
    "args = file_path + 'detect_peptide_test_noptm.txt'\n",
    "print('Loading input peptides')\n",
    "X_test, skipped, lines = load_pep_and_codify(args, 30)\n",
    "tmp = open(file_path+'detect_peptide_test_y_noptm.txt')\n",
    "y_test = np.array([int(_.replace('\\n', '')) for _ in tmp.readlines()])\n",
    "tmp.close()\n",
    "print('Succesfully loaded {0} peptides and skipped {1}'.format(len(lines), str(skipped)))\n",
    "\n",
    "X_train, X_val, y_train, y_val = train_test_split(X_train, y_train, test_size=0.2)\n",
    "print(X_train.shape, X_val.shape, X_test.shape, y_train.shape, y_val.shape, y_test.shape)\n"
   ]
  },
  {
   "cell_type": "markdown",
   "metadata": {},
   "source": [
    "# 2. train"
   ]
  },
  {
   "cell_type": "code",
   "execution_count": 7,
   "metadata": {
    "ExecuteTime": {
     "end_time": "2021-10-04T17:46:57.224896Z",
     "start_time": "2021-10-04T17:46:57.221808Z"
    }
   },
   "outputs": [],
   "source": [
    "def plot_graphs(history, metric):\n",
    "    plt.plot(history.history[metric])\n",
    "    plt.plot(history.history['val_'+metric], '')\n",
    "    plt.xlabel(\"Epochs\")\n",
    "    plt.ylabel(metric)\n",
    "    plt.legend([metric, 'val_'+metric])"
   ]
  },
  {
   "cell_type": "code",
   "execution_count": 8,
   "metadata": {
    "ExecuteTime": {
     "end_time": "2021-10-04T19:09:08.951671Z",
     "start_time": "2021-10-04T17:46:58.646530Z"
    }
   },
   "outputs": [
    {
     "name": "stdout",
     "output_type": "stream",
     "text": [
      "Epoch 1/200\n",
      "1424/1424 [==============================] - 58s 35ms/step - loss: 0.5456 - accuracy: 0.6969 - val_loss: 0.4093 - val_accuracy: 0.8074\n",
      "Epoch 2/200\n",
      "1424/1424 [==============================] - 51s 36ms/step - loss: 0.3893 - accuracy: 0.8183 - val_loss: 0.3678 - val_accuracy: 0.8308\n",
      "Epoch 3/200\n",
      "1424/1424 [==============================] - 50s 35ms/step - loss: 0.3614 - accuracy: 0.8349 - val_loss: 0.3527 - val_accuracy: 0.8383\n",
      "Epoch 4/200\n",
      "1424/1424 [==============================] - 50s 35ms/step - loss: 0.3511 - accuracy: 0.8399 - val_loss: 0.3416 - val_accuracy: 0.8453\n",
      "Epoch 5/200\n",
      "1424/1424 [==============================] - 50s 35ms/step - loss: 0.3420 - accuracy: 0.8457 - val_loss: 0.3342 - val_accuracy: 0.8485\n",
      "Epoch 6/200\n",
      "1424/1424 [==============================] - 50s 35ms/step - loss: 0.3366 - accuracy: 0.8490 - val_loss: 0.3455 - val_accuracy: 0.8418\n",
      "Epoch 7/200\n",
      "1424/1424 [==============================] - 51s 36ms/step - loss: 0.3325 - accuracy: 0.8514 - val_loss: 0.3287 - val_accuracy: 0.8529\n",
      "Epoch 8/200\n",
      "1424/1424 [==============================] - 51s 36ms/step - loss: 0.3277 - accuracy: 0.8550 - val_loss: 0.3252 - val_accuracy: 0.8552\n",
      "Epoch 9/200\n",
      "1424/1424 [==============================] - 50s 35ms/step - loss: 0.3216 - accuracy: 0.8578 - val_loss: 0.3233 - val_accuracy: 0.8560\n",
      "Epoch 10/200\n",
      "1424/1424 [==============================] - 50s 35ms/step - loss: 0.3249 - accuracy: 0.8554 - val_loss: 0.3312 - val_accuracy: 0.8522\n",
      "Epoch 11/200\n",
      "1424/1424 [==============================] - 50s 35ms/step - loss: 0.3243 - accuracy: 0.8573 - val_loss: 0.3168 - val_accuracy: 0.8601\n",
      "Epoch 12/200\n",
      "1424/1424 [==============================] - 51s 36ms/step - loss: 0.3183 - accuracy: 0.8597 - val_loss: 0.3178 - val_accuracy: 0.8598\n",
      "Epoch 13/200\n",
      "1424/1424 [==============================] - 50s 35ms/step - loss: 0.3179 - accuracy: 0.8606 - val_loss: 0.3150 - val_accuracy: 0.8604\n",
      "Epoch 14/200\n",
      "1424/1424 [==============================] - 50s 35ms/step - loss: 0.3124 - accuracy: 0.8632 - val_loss: 0.3135 - val_accuracy: 0.8606\n",
      "Epoch 15/200\n",
      "1424/1424 [==============================] - 49s 35ms/step - loss: 0.3127 - accuracy: 0.8631 - val_loss: 0.3121 - val_accuracy: 0.8610\n",
      "Epoch 16/200\n",
      "1424/1424 [==============================] - 50s 35ms/step - loss: 0.3135 - accuracy: 0.8631 - val_loss: 0.3159 - val_accuracy: 0.8605\n",
      "Epoch 17/200\n",
      "1424/1424 [==============================] - 51s 36ms/step - loss: 0.3120 - accuracy: 0.8643 - val_loss: 0.3127 - val_accuracy: 0.8619\n",
      "Epoch 18/200\n",
      "1424/1424 [==============================] - 51s 36ms/step - loss: 0.3122 - accuracy: 0.8640 - val_loss: 0.3112 - val_accuracy: 0.8620\n",
      "Epoch 19/200\n",
      "1424/1424 [==============================] - 50s 35ms/step - loss: 0.3111 - accuracy: 0.8642 - val_loss: 0.3112 - val_accuracy: 0.8626\n",
      "Epoch 20/200\n",
      "1424/1424 [==============================] - 51s 36ms/step - loss: 0.3112 - accuracy: 0.8625 - val_loss: 0.3144 - val_accuracy: 0.8601\n",
      "Epoch 21/200\n",
      "1424/1424 [==============================] - 49s 35ms/step - loss: 0.3095 - accuracy: 0.8642 - val_loss: 0.3116 - val_accuracy: 0.8612\n",
      "Epoch 22/200\n",
      "1424/1424 [==============================] - 50s 35ms/step - loss: 0.3087 - accuracy: 0.8634 - val_loss: 0.3086 - val_accuracy: 0.8631\n",
      "Epoch 23/200\n",
      "1424/1424 [==============================] - 51s 36ms/step - loss: 0.3080 - accuracy: 0.8658 - val_loss: 0.3103 - val_accuracy: 0.8621\n",
      "Epoch 24/200\n",
      "1424/1424 [==============================] - 50s 35ms/step - loss: 0.3083 - accuracy: 0.8646 - val_loss: 0.3079 - val_accuracy: 0.8640\n",
      "Epoch 25/200\n",
      "1424/1424 [==============================] - 50s 35ms/step - loss: 0.3099 - accuracy: 0.8653 - val_loss: 0.3082 - val_accuracy: 0.8634\n",
      "Epoch 26/200\n",
      "1424/1424 [==============================] - 50s 35ms/step - loss: 0.3047 - accuracy: 0.8679 - val_loss: 0.3084 - val_accuracy: 0.8640\n",
      "Epoch 27/200\n",
      "1424/1424 [==============================] - 50s 35ms/step - loss: 0.3057 - accuracy: 0.8669 - val_loss: 0.3114 - val_accuracy: 0.8628\n",
      "Epoch 28/200\n",
      "1424/1424 [==============================] - 50s 35ms/step - loss: 0.3056 - accuracy: 0.8665 - val_loss: 0.3056 - val_accuracy: 0.8655\n",
      "Epoch 29/200\n",
      "1424/1424 [==============================] - 50s 35ms/step - loss: 0.3048 - accuracy: 0.8676 - val_loss: 0.3073 - val_accuracy: 0.8648\n",
      "Epoch 30/200\n",
      "1424/1424 [==============================] - 50s 35ms/step - loss: 0.3033 - accuracy: 0.8677 - val_loss: 0.3069 - val_accuracy: 0.8639\n",
      "Epoch 31/200\n",
      "1424/1424 [==============================] - 50s 35ms/step - loss: 0.3037 - accuracy: 0.8683 - val_loss: 0.3045 - val_accuracy: 0.8661\n",
      "Epoch 32/200\n",
      "1424/1424 [==============================] - 51s 36ms/step - loss: 0.3017 - accuracy: 0.8681 - val_loss: 0.3040 - val_accuracy: 0.8654\n",
      "Epoch 33/200\n",
      "1424/1424 [==============================] - 50s 35ms/step - loss: 0.3023 - accuracy: 0.8676 - val_loss: 0.3065 - val_accuracy: 0.8645\n",
      "Epoch 34/200\n",
      "1424/1424 [==============================] - 50s 35ms/step - loss: 0.3031 - accuracy: 0.8687 - val_loss: 0.3044 - val_accuracy: 0.8656\n",
      "Epoch 35/200\n",
      "1424/1424 [==============================] - 51s 36ms/step - loss: 0.3005 - accuracy: 0.8694 - val_loss: 0.3122 - val_accuracy: 0.8633\n",
      "Epoch 36/200\n",
      "1424/1424 [==============================] - 50s 35ms/step - loss: 0.3011 - accuracy: 0.8695 - val_loss: 0.3032 - val_accuracy: 0.8672\n",
      "Epoch 37/200\n",
      "1424/1424 [==============================] - 50s 35ms/step - loss: 0.3025 - accuracy: 0.8692 - val_loss: 0.3029 - val_accuracy: 0.8667\n",
      "Epoch 38/200\n",
      "1424/1424 [==============================] - 51s 36ms/step - loss: 0.2972 - accuracy: 0.8715 - val_loss: 0.3040 - val_accuracy: 0.8656\n",
      "Epoch 39/200\n",
      "1424/1424 [==============================] - 49s 35ms/step - loss: 0.3010 - accuracy: 0.8699 - val_loss: 0.3046 - val_accuracy: 0.8656\n",
      "Epoch 40/200\n",
      "1424/1424 [==============================] - 51s 36ms/step - loss: 0.3011 - accuracy: 0.8697 - val_loss: 0.3029 - val_accuracy: 0.8680\n",
      "Epoch 41/200\n",
      "1424/1424 [==============================] - 51s 35ms/step - loss: 0.3008 - accuracy: 0.8699 - val_loss: 0.3041 - val_accuracy: 0.8660\n",
      "Epoch 42/200\n",
      "1424/1424 [==============================] - 50s 35ms/step - loss: 0.2963 - accuracy: 0.8723 - val_loss: 0.3048 - val_accuracy: 0.8658\n",
      "Epoch 43/200\n",
      "1424/1424 [==============================] - 51s 36ms/step - loss: 0.3007 - accuracy: 0.8699 - val_loss: 0.3028 - val_accuracy: 0.8673\n",
      "Epoch 44/200\n",
      "1424/1424 [==============================] - 50s 35ms/step - loss: 0.2983 - accuracy: 0.8711 - val_loss: 0.3039 - val_accuracy: 0.8665\n",
      "Epoch 45/200\n",
      "1424/1424 [==============================] - 50s 35ms/step - loss: 0.2992 - accuracy: 0.8703 - val_loss: 0.3040 - val_accuracy: 0.8663\n",
      "Epoch 46/200\n",
      "1424/1424 [==============================] - 50s 35ms/step - loss: 0.2975 - accuracy: 0.8710 - val_loss: 0.3010 - val_accuracy: 0.8685\n",
      "Epoch 47/200\n",
      "1424/1424 [==============================] - 50s 35ms/step - loss: 0.2963 - accuracy: 0.8714 - val_loss: 0.3018 - val_accuracy: 0.8678\n",
      "Epoch 48/200\n",
      "1424/1424 [==============================] - 51s 36ms/step - loss: 0.2979 - accuracy: 0.8706 - val_loss: 0.3026 - val_accuracy: 0.8672\n",
      "Epoch 49/200\n",
      "1424/1424 [==============================] - 50s 35ms/step - loss: 0.2976 - accuracy: 0.8702 - val_loss: 0.3014 - val_accuracy: 0.8688\n",
      "Epoch 50/200\n",
      "1424/1424 [==============================] - 50s 35ms/step - loss: 0.2985 - accuracy: 0.8710 - val_loss: 0.3039 - val_accuracy: 0.8658\n",
      "Epoch 51/200\n",
      "1424/1424 [==============================] - 50s 35ms/step - loss: 0.2965 - accuracy: 0.8718 - val_loss: 0.3008 - val_accuracy: 0.8678\n",
      "Epoch 52/200\n",
      "1424/1424 [==============================] - 50s 35ms/step - loss: 0.2953 - accuracy: 0.8723 - val_loss: 0.3027 - val_accuracy: 0.8676\n",
      "Epoch 53/200\n",
      "1424/1424 [==============================] - 51s 36ms/step - loss: 0.2939 - accuracy: 0.8734 - val_loss: 0.3003 - val_accuracy: 0.8681\n",
      "Epoch 54/200\n",
      "1424/1424 [==============================] - 50s 35ms/step - loss: 0.2956 - accuracy: 0.8718 - val_loss: 0.3036 - val_accuracy: 0.8668\n",
      "Epoch 55/200\n",
      "1424/1424 [==============================] - 50s 35ms/step - loss: 0.2962 - accuracy: 0.8707 - val_loss: 0.3021 - val_accuracy: 0.8686\n",
      "Epoch 56/200\n"
     ]
    },
    {
     "name": "stdout",
     "output_type": "stream",
     "text": [
      "1424/1424 [==============================] - 50s 35ms/step - loss: 0.2944 - accuracy: 0.8724 - val_loss: 0.3043 - val_accuracy: 0.8669\n",
      "Epoch 57/200\n",
      "1424/1424 [==============================] - 50s 35ms/step - loss: 0.2963 - accuracy: 0.8715 - val_loss: 0.3010 - val_accuracy: 0.8682\n",
      "Epoch 58/200\n",
      "1424/1424 [==============================] - 51s 36ms/step - loss: 0.2929 - accuracy: 0.8742 - val_loss: 0.3030 - val_accuracy: 0.8680\n",
      "Epoch 59/200\n",
      "1424/1424 [==============================] - 50s 35ms/step - loss: 0.2945 - accuracy: 0.8733 - val_loss: 0.3033 - val_accuracy: 0.8678\n",
      "Epoch 60/200\n",
      "1424/1424 [==============================] - 50s 35ms/step - loss: 0.2952 - accuracy: 0.8719 - val_loss: 0.3020 - val_accuracy: 0.8679\n",
      "Epoch 61/200\n",
      "1424/1424 [==============================] - 51s 36ms/step - loss: 0.2916 - accuracy: 0.8742 - val_loss: 0.3011 - val_accuracy: 0.8674\n",
      "Epoch 62/200\n",
      "1424/1424 [==============================] - 49s 34ms/step - loss: 0.2917 - accuracy: 0.8747 - val_loss: 0.3011 - val_accuracy: 0.8679\n",
      "Epoch 63/200\n",
      "1424/1424 [==============================] - 50s 35ms/step - loss: 0.2946 - accuracy: 0.8723 - val_loss: 0.3020 - val_accuracy: 0.8681\n",
      "Epoch 64/200\n",
      "1424/1424 [==============================] - 50s 35ms/step - loss: 0.2946 - accuracy: 0.8727 - val_loss: 0.3009 - val_accuracy: 0.8689\n",
      "Epoch 65/200\n",
      "1424/1424 [==============================] - 50s 35ms/step - loss: 0.2914 - accuracy: 0.8742 - val_loss: 0.2992 - val_accuracy: 0.8690\n",
      "Epoch 66/200\n",
      "1424/1424 [==============================] - 51s 36ms/step - loss: 0.2905 - accuracy: 0.8745 - val_loss: 0.3000 - val_accuracy: 0.8679\n",
      "Epoch 67/200\n",
      "1424/1424 [==============================] - 50s 35ms/step - loss: 0.2905 - accuracy: 0.8739 - val_loss: 0.3014 - val_accuracy: 0.8679\n",
      "Epoch 68/200\n",
      "1424/1424 [==============================] - 50s 35ms/step - loss: 0.2908 - accuracy: 0.8742 - val_loss: 0.3016 - val_accuracy: 0.8685\n",
      "Epoch 69/200\n",
      "1424/1424 [==============================] - 50s 35ms/step - loss: 0.2907 - accuracy: 0.8752 - val_loss: 0.3017 - val_accuracy: 0.8672\n",
      "Epoch 70/200\n",
      "1424/1424 [==============================] - 50s 35ms/step - loss: 0.2896 - accuracy: 0.8752 - val_loss: 0.3046 - val_accuracy: 0.8666\n",
      "Epoch 71/200\n",
      "1424/1424 [==============================] - 51s 36ms/step - loss: 0.2907 - accuracy: 0.8752 - val_loss: 0.2997 - val_accuracy: 0.8695\n",
      "Epoch 72/200\n",
      "1424/1424 [==============================] - 50s 35ms/step - loss: 0.2890 - accuracy: 0.8754 - val_loss: 0.3028 - val_accuracy: 0.8679\n",
      "Epoch 73/200\n",
      "1424/1424 [==============================] - 50s 35ms/step - loss: 0.2908 - accuracy: 0.8750 - val_loss: 0.3001 - val_accuracy: 0.8689\n",
      "Epoch 74/200\n",
      "1424/1424 [==============================] - 49s 35ms/step - loss: 0.2887 - accuracy: 0.8769 - val_loss: 0.3043 - val_accuracy: 0.8681\n",
      "Epoch 75/200\n",
      "1424/1424 [==============================] - 50s 35ms/step - loss: 0.2900 - accuracy: 0.8754 - val_loss: 0.3003 - val_accuracy: 0.8691\n",
      "Epoch 76/200\n",
      "1424/1424 [==============================] - 51s 36ms/step - loss: 0.2904 - accuracy: 0.8761 - val_loss: 0.3028 - val_accuracy: 0.8679\n",
      "Epoch 77/200\n",
      "1424/1424 [==============================] - 50s 35ms/step - loss: 0.2865 - accuracy: 0.8773 - val_loss: 0.3067 - val_accuracy: 0.8659\n",
      "Epoch 78/200\n",
      "1424/1424 [==============================] - 51s 36ms/step - loss: 0.2893 - accuracy: 0.8761 - val_loss: 0.2990 - val_accuracy: 0.8692\n",
      "Epoch 79/200\n",
      "1424/1424 [==============================] - 50s 35ms/step - loss: 0.2873 - accuracy: 0.8763 - val_loss: 0.2999 - val_accuracy: 0.8687\n",
      "Epoch 80/200\n",
      "1424/1424 [==============================] - 50s 35ms/step - loss: 0.2877 - accuracy: 0.8766 - val_loss: 0.3010 - val_accuracy: 0.8686\n",
      "Epoch 81/200\n",
      "1424/1424 [==============================] - 51s 36ms/step - loss: 0.2863 - accuracy: 0.8771 - val_loss: 0.2994 - val_accuracy: 0.8692\n",
      "Epoch 82/200\n",
      "1424/1424 [==============================] - 50s 35ms/step - loss: 0.2861 - accuracy: 0.8777 - val_loss: 0.2997 - val_accuracy: 0.8706\n",
      "Epoch 83/200\n",
      "1424/1424 [==============================] - 51s 36ms/step - loss: 0.2879 - accuracy: 0.8768 - val_loss: 0.3048 - val_accuracy: 0.8678\n",
      "Epoch 84/200\n",
      "1424/1424 [==============================] - 50s 35ms/step - loss: 0.2875 - accuracy: 0.8772 - val_loss: 0.3006 - val_accuracy: 0.8689\n",
      "Epoch 85/200\n",
      "1424/1424 [==============================] - 50s 35ms/step - loss: 0.2861 - accuracy: 0.8774 - val_loss: 0.3006 - val_accuracy: 0.8681\n",
      "Epoch 86/200\n",
      "1424/1424 [==============================] - 50s 35ms/step - loss: 0.2850 - accuracy: 0.8779 - val_loss: 0.3028 - val_accuracy: 0.8673\n",
      "Epoch 87/200\n",
      "1424/1424 [==============================] - 50s 35ms/step - loss: 0.2850 - accuracy: 0.8774 - val_loss: 0.3028 - val_accuracy: 0.8677\n",
      "Epoch 88/200\n",
      "1424/1424 [==============================] - 51s 36ms/step - loss: 0.2844 - accuracy: 0.8784 - val_loss: 0.3008 - val_accuracy: 0.8699\n",
      "Epoch 89/200\n",
      "1424/1424 [==============================] - 50s 35ms/step - loss: 0.2839 - accuracy: 0.8784 - val_loss: 0.2997 - val_accuracy: 0.8694\n",
      "Epoch 90/200\n",
      "1424/1424 [==============================] - 50s 35ms/step - loss: 0.2820 - accuracy: 0.8787 - val_loss: 0.3024 - val_accuracy: 0.8700\n",
      "Epoch 91/200\n",
      "1424/1424 [==============================] - 50s 35ms/step - loss: 0.2846 - accuracy: 0.8785 - val_loss: 0.3025 - val_accuracy: 0.8684\n",
      "Epoch 92/200\n",
      "1424/1424 [==============================] - 49s 35ms/step - loss: 0.2832 - accuracy: 0.8798 - val_loss: 0.3021 - val_accuracy: 0.8681\n",
      "Epoch 93/200\n",
      "1424/1424 [==============================] - 51s 36ms/step - loss: 0.2816 - accuracy: 0.8801 - val_loss: 0.3008 - val_accuracy: 0.8699\n",
      "Epoch 94/200\n",
      "1424/1424 [==============================] - 50s 35ms/step - loss: 0.2824 - accuracy: 0.8798 - val_loss: 0.3018 - val_accuracy: 0.8687\n",
      "Epoch 95/200\n",
      "1424/1424 [==============================] - 50s 35ms/step - loss: 0.2835 - accuracy: 0.8780 - val_loss: 0.2995 - val_accuracy: 0.8697\n",
      "Epoch 96/200\n",
      "1424/1424 [==============================] - 51s 36ms/step - loss: 0.2826 - accuracy: 0.8789 - val_loss: 0.3015 - val_accuracy: 0.8685\n",
      "Epoch 97/200\n",
      "1424/1424 [==============================] - 49s 34ms/step - loss: 0.2819 - accuracy: 0.8799 - val_loss: 0.3006 - val_accuracy: 0.8691\n",
      "Epoch 98/200\n",
      "1424/1424 [==============================] - 51s 35ms/step - loss: 0.2819 - accuracy: 0.8795 - val_loss: 0.3008 - val_accuracy: 0.8691\n",
      "Epoch 00098: early stopping\n"
     ]
    }
   ],
   "source": [
    "history = model.fit(X_train, y_train, epochs=200, \n",
    "                    batch_size=100,\n",
    "                    validation_data=(X_val, y_val),\n",
    "                                       callbacks=[es])"
   ]
  },
  {
   "cell_type": "code",
   "execution_count": 9,
   "metadata": {
    "ExecuteTime": {
     "end_time": "2021-10-04T19:09:09.270453Z",
     "start_time": "2021-10-04T19:09:08.953876Z"
    }
   },
   "outputs": [
    {
     "data": {
      "image/png": "[encoded data removed]",
      "text/plain": [
       "<Figure size 1152x144 with 2 Axes>"
      ]
     },
     "metadata": {
      "needs_background": "light"
     },
     "output_type": "display_data"
    }
   ],
   "source": [
    "plt.figure(figsize=(16,2))\n",
    "plt.subplot(1,2,1)\n",
    "plot_graphs(history, 'accuracy')\n",
    "plt.subplot(1,2,2)\n",
    "plot_graphs(history, 'loss')"
   ]
  },
  {
   "cell_type": "markdown",
   "metadata": {},
   "source": [
    "# 3. test"
   ]
  },
  {
   "cell_type": "code",
   "execution_count": 10,
   "metadata": {
    "ExecuteTime": {
     "end_time": "2021-10-04T19:09:09.336899Z",
     "start_time": "2021-10-04T19:09:09.271877Z"
    }
   },
   "outputs": [],
   "source": [
    "from sklearn.metrics import classification_report\n",
    "from sklearn.metrics import confusion_matrix\n",
    "from sklearn.metrics import roc_curve\n",
    "from sklearn.metrics import roc_auc_score\n",
    "import seaborn as sns"
   ]
  },
  {
   "cell_type": "code",
   "execution_count": 11,
   "metadata": {
    "ExecuteTime": {
     "end_time": "2021-10-04T19:09:40.052664Z",
     "start_time": "2021-10-04T19:09:09.338409Z"
    }
   },
   "outputs": [
    {
     "name": "stdout",
     "output_type": "stream",
     "text": [
      "1391/1391 [==============================] - 31s 21ms/step - loss: 0.2993 - accuracy: 0.8713\n",
      "Test Loss: 0.29934173822402954\n",
      "Test Accuracy: 0.8712779879570007\n"
     ]
    }
   ],
   "source": [
    "test_loss, test_acc = model.evaluate(X_test, y_test)\n",
    "print('Test Loss: {}'.format(test_loss))\n",
    "print('Test Accuracy: {}'.format(test_acc))"
   ]
  },
  {
   "cell_type": "code",
   "execution_count": 12,
   "metadata": {
    "ExecuteTime": {
     "end_time": "2021-10-04T19:10:05.229831Z",
     "start_time": "2021-10-04T19:09:40.054321Z"
    }
   },
   "outputs": [
    {
     "name": "stdout",
     "output_type": "stream",
     "text": [
      "              precision    recall  f1-score   support\n",
      "\n",
      "           0       0.88      0.86      0.87     22330\n",
      "           1       0.86      0.88      0.87     22169\n",
      "\n",
      "    accuracy                           0.87     44499\n",
      "   macro avg       0.87      0.87      0.87     44499\n",
      "weighted avg       0.87      0.87      0.87     44499\n",
      "\n",
      "rf auc : 0.9440586225056928\n"
     ]
    },
    {
     "data": {
      "image/png": "[encoded data removed]",
      "text/plain": [
       "<Figure size 288x288 with 1 Axes>"
      ]
     },
     "metadata": {
      "needs_background": "light"
     },
     "output_type": "display_data"
    },
    {
     "data": {
      "image/png": "[encoded data removed]",
      "text/plain": [
       "<Figure size 216x216 with 2 Axes>"
      ]
     },
     "metadata": {
      "needs_background": "light"
     },
     "output_type": "display_data"
    },
    {
     "data": {
      "image/png": "[encoded data removed]",
      "text/plain": [
       "<Figure size 216x216 with 2 Axes>"
      ]
     },
     "metadata": {
      "needs_background": "light"
     },
     "output_type": "display_data"
    }
   ],
   "source": [
    "# prediction\n",
    "y_pred = [1 if i>=0.5 else 0 for i in model.predict(X_test)]\n",
    "print(classification_report(y_test, y_pred))\n",
    "# AUC\n",
    "probs = model.predict(X_test)\n",
    "rf_auc = roc_auc_score(y_test, probs)\n",
    "print('rf auc : {}'.format(rf_auc))\n",
    "# plot the roc curve for the model\n",
    "rf_fpr, rf_tpr, _ = roc_curve(y_test, probs)\n",
    "plt.figure(figsize=(4, 4))\n",
    "plt.plot(rf_fpr, rf_tpr, marker='.', label='RF AUC = {:.4f}'.format(rf_auc), color='orange')\n",
    "plt.title('ROC curve')\n",
    "# axis labels\n",
    "plt.xlabel('False Positive Rate')\n",
    "plt.ylabel('True Positive Rate')\n",
    "# show the legend\n",
    "plt.legend()\n",
    "# show the plot\n",
    "plt.show()\n",
    "\n",
    "cf_matrix = confusion_matrix(y_test, y_pred)\n",
    "plt.figure(figsize=(3, 3))\n",
    "sns.heatmap(cf_matrix, annot=True, fmt=',.0f')\n",
    "plt.show()\n",
    "plt.figure(figsize=(3, 3))\n",
    "sns.heatmap(cf_matrix/np.sum(cf_matrix), annot=True, \n",
    "            fmt='.2%', cmap='Blues')\n",
    "plt.show()"
   ]
  },
  {
   "cell_type": "code",
   "execution_count": null,
   "metadata": {},
   "outputs": [],
   "source": []
  }
 ],
 "metadata": {
  "kernelspec": {
   "display_name": "TF2.4",
   "language": "python",
   "name": "tf2.4"
  },
  "language_info": {
   "codemirror_mode": {
    "name": "ipython",
    "version": 3
   },
   "file_extension": ".py",
   "mimetype": "text/x-python",
   "name": "python",
   "nbconvert_exporter": "python",
   "pygments_lexer": "ipython3",
   "version": "3.7.0"
  }
 },
 "nbformat": 4,
 "nbformat_minor": 4
}
