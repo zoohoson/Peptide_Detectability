{
 "cells": [
  {
   "cell_type": "code",
   "execution_count": 1,
   "metadata": {
    "ExecuteTime": {
     "end_time": "2021-09-30T17:05:37.003663Z",
     "start_time": "2021-09-30T17:05:35.112599Z"
    }
   },
   "outputs": [],
   "source": [
    "import warnings\n",
    "warnings.simplefilter(action='ignore', category=FutureWarning)\n",
    "\n",
    "import argparse\n",
    "import numpy as np\n",
    "from tensorflow import keras"
   ]
  },
  {
   "cell_type": "code",
   "execution_count": 2,
   "metadata": {
    "ExecuteTime": {
     "end_time": "2021-09-30T17:05:40.361503Z",
     "start_time": "2021-09-30T17:05:40.312441Z"
    }
   },
   "outputs": [],
   "source": [
    "import tensorflow as tf\n",
    "gpus = tf.config.experimental.list_physical_devices('GPU')\n",
    "if gpus:\n",
    "    try:\n",
    "        tf.config.experimental.set_virtual_device_configuration(gpus[0],\n",
    "        [tf.config.experimental.VirtualDeviceConfiguration(memory_limit=1024*4)])\n",
    "    except RuntimeError as e:\n",
    "        print(e)"
   ]
  },
  {
   "cell_type": "code",
   "execution_count": 3,
   "metadata": {
    "ExecuteTime": {
     "end_time": "2021-09-30T17:05:46.526964Z",
     "start_time": "2021-09-30T17:05:46.521713Z"
    }
   },
   "outputs": [],
   "source": [
    "def load_pep_and_codify(file, max_len):\n",
    "    aa_dict={'A':1,'R':2,'N':3,'D':4,'C':5,'Q':6,'E':7,'G':8,'H':9,'I':10,'L':11,'K':12,'M':13,'F':14,\n",
    "        'P':15,'O':16,'S':17,'U':18,'T':19,'W':20,'Y':21,'V':22}\n",
    "    with open(file, 'r') as inf:\n",
    "        lines = inf.read().splitlines()\n",
    "    pep_codes=[]\n",
    "    long_pep_counter = 0\n",
    "    newLines = []\n",
    "    for pep in lines:\n",
    "        if not len(pep) > max_len:\n",
    "            current_pep=[]\n",
    "            for aa in pep:\n",
    "                current_pep.append(aa_dict[aa])\n",
    "            pep_codes.append(current_pep)\n",
    "            newLines.extend([pep])\n",
    "        else:\n",
    "            long_pep_counter += 1\n",
    "    predict_data = keras.preprocessing.sequence.pad_sequences(pep_codes, value=0, padding='post', maxlen=max_len)\n",
    "    return predict_data, long_pep_counter, newLines"
   ]
  },
  {
   "cell_type": "markdown",
   "metadata": {},
   "source": [
    "# New Train"
   ]
  },
  {
   "cell_type": "code",
   "execution_count": 4,
   "metadata": {
    "ExecuteTime": {
     "end_time": "2021-09-30T17:07:16.692209Z",
     "start_time": "2021-09-30T17:07:14.992506Z"
    }
   },
   "outputs": [
    {
     "name": "stdout",
     "output_type": "stream",
     "text": [
      "Model: \"sequential\"\n",
      "_________________________________________________________________\n",
      "Layer (type)                 Output Shape              Param #   \n",
      "=================================================================\n",
      "embedding (Embedding)        (None, 30, 50)            1150      \n",
      "_________________________________________________________________\n",
      "dropout (Dropout)            (None, 30, 50)            0         \n",
      "_________________________________________________________________\n",
      "conv1d (Conv1D)              (None, 30, 128)           19328     \n",
      "_________________________________________________________________\n",
      "conv1d_1 (Conv1D)            (None, 29, 64)            16448     \n",
      "_________________________________________________________________\n",
      "lstm (LSTM)                  (None, 64)                33024     \n",
      "_________________________________________________________________\n",
      "dense (Dense)                (None, 64)                4160      \n",
      "_________________________________________________________________\n",
      "dropout_1 (Dropout)          (None, 64)                0         \n",
      "_________________________________________________________________\n",
      "dense_1 (Dense)              (None, 1)                 65        \n",
      "=================================================================\n",
      "Total params: 74,175\n",
      "Trainable params: 74,175\n",
      "Non-trainable params: 0\n",
      "_________________________________________________________________\n"
     ]
    }
   ],
   "source": [
    "model = tf.keras.Sequential([\n",
    "    # vacabulary size 23 (22 AminoAcid + zero padding)\n",
    "    # embedding vector size 50\n",
    "    # input length (including padding) 30 ( 81 to 30)\n",
    "    tf.keras.layers.Embedding(23, 50, input_length=30),\n",
    "    tf.keras.layers.Dropout(np.random.uniform(0, 0.2)),\n",
    "    tf.keras.layers.Conv1D(filters=128, kernel_size=3, strides=1, padding='same'),\n",
    "    tf.keras.layers.Conv1D(filters=64, kernel_size=2, strides=1),\n",
    "    \n",
    "    tf.keras.layers.LSTM(64),\n",
    "    \n",
    "    tf.keras.layers.Dense(64, activation='relu'),\n",
    "    tf.keras.layers.Dropout(np.random.uniform(0, 0.2)),\n",
    "    tf.keras.layers.Dense(1, activation='sigmoid')\n",
    "])\n",
    "model.summary()\n",
    "\n",
    "model.compile(loss=tf.keras.losses.BinaryCrossentropy(from_logits=True),\n",
    "              optimizer=tf.keras.optimizers.Adam(1e-4),\n",
    "              metrics=['accuracy'])\n",
    "\n",
    "es = tf.keras.callbacks.EarlyStopping(monitor='val_loss',\n",
    "                                      mode='min', \n",
    "                                      verbose=1,\n",
    "                                      patience=20)"
   ]
  },
  {
   "cell_type": "markdown",
   "metadata": {},
   "source": [
    "# 1. Make Data X_train, y_train, X_test, y_test"
   ]
  },
  {
   "cell_type": "code",
   "execution_count": 5,
   "metadata": {
    "ExecuteTime": {
     "end_time": "2021-09-30T17:07:31.103445Z",
     "start_time": "2021-09-30T17:07:30.464251Z"
    }
   },
   "outputs": [],
   "source": [
    "import matplotlib.pyplot as plt\n",
    "import pandas as pd\n",
    "from sklearn.model_selection import train_test_split\n",
    "\n",
    "file_path = '../compareModel/2019Bioinformatics_DeepMSPeptide/DeepMSPeptide/'"
   ]
  },
  {
   "cell_type": "code",
   "execution_count": 8,
   "metadata": {
    "ExecuteTime": {
     "end_time": "2021-09-30T17:14:08.664273Z",
     "start_time": "2021-09-30T17:14:03.598031Z"
    }
   },
   "outputs": [
    {
     "name": "stdout",
     "output_type": "stream",
     "text": [
      "Loading input peptides\n",
      "Succesfully loaded 421474 peptides and skipped 0\n",
      "Loading input peptides\n",
      "Succesfully loaded 88998 peptides and skipped 0\n",
      "(337179, 30) (84295, 30) (88998, 30) (337179,) (84295,) (88998,)\n"
     ]
    }
   ],
   "source": [
    "# make DeepMSpeptide format\n",
    "args = file_path + 'detect_peptide_train_noptm.txt'\n",
    "print('Loading input peptides')\n",
    "X_train, skipped, lines = load_pep_and_codify(args, 30)\n",
    "tmp = open(file_path+'detect_peptide_train_y_noptm.txt')\n",
    "y_train = np.array([int(_.replace('\\n', '')) for _ in tmp.readlines()])\n",
    "tmp.close()\n",
    "print('Succesfully loaded {0} peptides and skipped {1}'.format(len(lines), str(skipped)))\n",
    "\n",
    "args = file_path + 'detect_peptide_test_noptm.txt'\n",
    "print('Loading input peptides')\n",
    "X_test, skipped, lines = load_pep_and_codify(args, 30)\n",
    "tmp = open(file_path+'detect_peptide_test_y_noptm.txt')\n",
    "y_test = np.array([int(_.replace('\\n', '')) for _ in tmp.readlines()])\n",
    "tmp.close()\n",
    "print('Succesfully loaded {0} peptides and skipped {1}'.format(len(lines), str(skipped)))\n",
    "\n",
    "X_train, X_val, y_train, y_val = train_test_split(X_train, y_train, test_size=0.2)\n",
    "print(X_train.shape, X_val.shape, X_test.shape, y_train.shape, y_val.shape, y_test.shape)\n"
   ]
  },
  {
   "cell_type": "markdown",
   "metadata": {},
   "source": [
    "# 2. train"
   ]
  },
  {
   "cell_type": "code",
   "execution_count": 9,
   "metadata": {
    "ExecuteTime": {
     "end_time": "2021-09-30T17:14:24.274081Z",
     "start_time": "2021-09-30T17:14:24.270593Z"
    }
   },
   "outputs": [],
   "source": [
    "def plot_graphs(history, metric):\n",
    "    plt.plot(history.history[metric])\n",
    "    plt.plot(history.history['val_'+metric], '')\n",
    "    plt.xlabel(\"Epochs\")\n",
    "    plt.ylabel(metric)\n",
    "    plt.legend([metric, 'val_'+metric])"
   ]
  },
  {
   "cell_type": "code",
   "execution_count": 10,
   "metadata": {
    "ExecuteTime": {
     "end_time": "2021-09-30T19:31:37.294408Z",
     "start_time": "2021-09-30T17:14:45.621275Z"
    }
   },
   "outputs": [
    {
     "name": "stdout",
     "output_type": "stream",
     "text": [
      "Epoch 1/200\n",
      "3372/3372 [==============================] - 83s 22ms/step - loss: 0.5047 - accuracy: 0.7327 - val_loss: 0.3754 - val_accuracy: 0.8232\n",
      "Epoch 2/200\n",
      "3372/3372 [==============================] - 74s 22ms/step - loss: 0.3811 - accuracy: 0.8213 - val_loss: 0.3639 - val_accuracy: 0.8310\n",
      "Epoch 3/200\n",
      "3372/3372 [==============================] - 73s 22ms/step - loss: 0.3662 - accuracy: 0.8309 - val_loss: 0.3541 - val_accuracy: 0.8362\n",
      "Epoch 4/200\n",
      "3372/3372 [==============================] - 75s 22ms/step - loss: 0.3535 - accuracy: 0.8395 - val_loss: 0.3450 - val_accuracy: 0.8424\n",
      "Epoch 5/200\n",
      "3372/3372 [==============================] - 74s 22ms/step - loss: 0.3493 - accuracy: 0.8417 - val_loss: 0.3390 - val_accuracy: 0.8473\n",
      "Epoch 6/200\n",
      "3372/3372 [==============================] - 74s 22ms/step - loss: 0.3440 - accuracy: 0.8440 - val_loss: 0.3401 - val_accuracy: 0.8461\n",
      "Epoch 7/200\n",
      "3372/3372 [==============================] - 73s 22ms/step - loss: 0.3416 - accuracy: 0.8464 - val_loss: 0.3327 - val_accuracy: 0.8502\n",
      "Epoch 8/200\n",
      "3372/3372 [==============================] - 72s 21ms/step - loss: 0.3382 - accuracy: 0.8478 - val_loss: 0.3352 - val_accuracy: 0.8477\n",
      "Epoch 9/200\n",
      "3372/3372 [==============================] - 73s 22ms/step - loss: 0.3376 - accuracy: 0.8480 - val_loss: 0.3299 - val_accuracy: 0.8506\n",
      "Epoch 10/200\n",
      "3372/3372 [==============================] - 74s 22ms/step - loss: 0.3366 - accuracy: 0.8484 - val_loss: 0.3309 - val_accuracy: 0.8511\n",
      "Epoch 11/200\n",
      "3372/3372 [==============================] - 72s 21ms/step - loss: 0.3344 - accuracy: 0.8501 - val_loss: 0.3305 - val_accuracy: 0.8511\n",
      "Epoch 12/200\n",
      "3372/3372 [==============================] - 74s 22ms/step - loss: 0.3334 - accuracy: 0.8510 - val_loss: 0.3271 - val_accuracy: 0.8528\n",
      "Epoch 13/200\n",
      "3372/3372 [==============================] - 74s 22ms/step - loss: 0.3321 - accuracy: 0.8508 - val_loss: 0.3279 - val_accuracy: 0.8527\n",
      "Epoch 14/200\n",
      "3372/3372 [==============================] - 74s 22ms/step - loss: 0.3313 - accuracy: 0.8519 - val_loss: 0.3275 - val_accuracy: 0.8540\n",
      "Epoch 15/200\n",
      "3372/3372 [==============================] - 72s 21ms/step - loss: 0.3293 - accuracy: 0.8522 - val_loss: 0.3254 - val_accuracy: 0.8542\n",
      "Epoch 16/200\n",
      "3372/3372 [==============================] - 73s 22ms/step - loss: 0.3288 - accuracy: 0.8526 - val_loss: 0.3280 - val_accuracy: 0.8526\n",
      "Epoch 17/200\n",
      "3372/3372 [==============================] - 75s 22ms/step - loss: 0.3277 - accuracy: 0.8541 - val_loss: 0.3281 - val_accuracy: 0.8535\n",
      "Epoch 18/200\n",
      "3372/3372 [==============================] - 73s 22ms/step - loss: 0.3288 - accuracy: 0.8529 - val_loss: 0.3239 - val_accuracy: 0.8557\n",
      "Epoch 19/200\n",
      "3372/3372 [==============================] - 74s 22ms/step - loss: 0.3284 - accuracy: 0.8532 - val_loss: 0.3265 - val_accuracy: 0.8539\n",
      "Epoch 20/200\n",
      "3372/3372 [==============================] - 74s 22ms/step - loss: 0.3275 - accuracy: 0.8542 - val_loss: 0.3226 - val_accuracy: 0.8561\n",
      "Epoch 21/200\n",
      "3372/3372 [==============================] - 74s 22ms/step - loss: 0.3250 - accuracy: 0.8555 - val_loss: 0.3228 - val_accuracy: 0.8559\n",
      "Epoch 22/200\n",
      "3372/3372 [==============================] - 74s 22ms/step - loss: 0.3254 - accuracy: 0.8540 - val_loss: 0.3254 - val_accuracy: 0.8540\n",
      "Epoch 23/200\n",
      "3372/3372 [==============================] - 75s 22ms/step - loss: 0.3257 - accuracy: 0.8544 - val_loss: 0.3225 - val_accuracy: 0.8556\n",
      "Epoch 24/200\n",
      "3372/3372 [==============================] - 75s 22ms/step - loss: 0.3263 - accuracy: 0.8546 - val_loss: 0.3214 - val_accuracy: 0.8565\n",
      "Epoch 25/200\n",
      "3372/3372 [==============================] - 74s 22ms/step - loss: 0.3230 - accuracy: 0.8579 - val_loss: 0.3211 - val_accuracy: 0.8564\n",
      "Epoch 26/200\n",
      "3372/3372 [==============================] - 73s 22ms/step - loss: 0.3239 - accuracy: 0.8561 - val_loss: 0.3208 - val_accuracy: 0.8568\n",
      "Epoch 27/200\n",
      "3372/3372 [==============================] - 73s 22ms/step - loss: 0.3228 - accuracy: 0.8564 - val_loss: 0.3218 - val_accuracy: 0.8563\n",
      "Epoch 28/200\n",
      "3372/3372 [==============================] - 74s 22ms/step - loss: 0.3233 - accuracy: 0.8566 - val_loss: 0.3244 - val_accuracy: 0.8548\n",
      "Epoch 29/200\n",
      "3372/3372 [==============================] - 75s 22ms/step - loss: 0.3220 - accuracy: 0.8563 - val_loss: 0.3228 - val_accuracy: 0.8557\n",
      "Epoch 30/200\n",
      "3372/3372 [==============================] - 75s 22ms/step - loss: 0.3208 - accuracy: 0.8572 - val_loss: 0.3204 - val_accuracy: 0.8567\n",
      "Epoch 31/200\n",
      "3372/3372 [==============================] - 75s 22ms/step - loss: 0.3199 - accuracy: 0.8580 - val_loss: 0.3200 - val_accuracy: 0.8568\n",
      "Epoch 32/200\n",
      "3372/3372 [==============================] - 73s 22ms/step - loss: 0.3227 - accuracy: 0.8564 - val_loss: 0.3202 - val_accuracy: 0.8569\n",
      "Epoch 33/200\n",
      "3372/3372 [==============================] - 75s 22ms/step - loss: 0.3225 - accuracy: 0.8572 - val_loss: 0.3202 - val_accuracy: 0.8571\n",
      "Epoch 34/200\n",
      "3372/3372 [==============================] - 78s 23ms/step - loss: 0.3210 - accuracy: 0.8573 - val_loss: 0.3190 - val_accuracy: 0.8580\n",
      "Epoch 35/200\n",
      "3372/3372 [==============================] - 96s 28ms/step - loss: 0.3210 - accuracy: 0.8571 - val_loss: 0.3191 - val_accuracy: 0.8582\n",
      "Epoch 36/200\n",
      "3372/3372 [==============================] - 97s 29ms/step - loss: 0.3209 - accuracy: 0.8572 - val_loss: 0.3202 - val_accuracy: 0.8560\n",
      "Epoch 37/200\n",
      "3372/3372 [==============================] - 96s 28ms/step - loss: 0.3198 - accuracy: 0.8584 - val_loss: 0.3183 - val_accuracy: 0.8582\n",
      "Epoch 38/200\n",
      "3372/3372 [==============================] - 97s 29ms/step - loss: 0.3180 - accuracy: 0.8588 - val_loss: 0.3172 - val_accuracy: 0.8591\n",
      "Epoch 39/200\n",
      "3372/3372 [==============================] - 95s 28ms/step - loss: 0.3177 - accuracy: 0.8595 - val_loss: 0.3181 - val_accuracy: 0.8586\n",
      "Epoch 40/200\n",
      "3372/3372 [==============================] - 96s 28ms/step - loss: 0.3178 - accuracy: 0.8589 - val_loss: 0.3162 - val_accuracy: 0.8596\n",
      "Epoch 41/200\n",
      "3372/3372 [==============================] - 96s 28ms/step - loss: 0.3165 - accuracy: 0.8597 - val_loss: 0.3160 - val_accuracy: 0.8598\n",
      "Epoch 42/200\n",
      "3372/3372 [==============================] - 96s 28ms/step - loss: 0.3166 - accuracy: 0.8607 - val_loss: 0.3188 - val_accuracy: 0.8564\n",
      "Epoch 43/200\n",
      "3372/3372 [==============================] - 94s 28ms/step - loss: 0.3165 - accuracy: 0.8590 - val_loss: 0.3155 - val_accuracy: 0.8600\n",
      "Epoch 44/200\n",
      "3372/3372 [==============================] - 95s 28ms/step - loss: 0.3142 - accuracy: 0.8611 - val_loss: 0.3160 - val_accuracy: 0.8595\n",
      "Epoch 45/200\n",
      "3372/3372 [==============================] - 95s 28ms/step - loss: 0.3139 - accuracy: 0.8610 - val_loss: 0.3152 - val_accuracy: 0.8601\n",
      "Epoch 46/200\n",
      "3372/3372 [==============================] - 95s 28ms/step - loss: 0.3138 - accuracy: 0.8614 - val_loss: 0.3153 - val_accuracy: 0.8593\n",
      "Epoch 47/200\n",
      "3372/3372 [==============================] - 95s 28ms/step - loss: 0.3130 - accuracy: 0.8616 - val_loss: 0.3156 - val_accuracy: 0.8596\n",
      "Epoch 48/200\n",
      "3372/3372 [==============================] - 97s 29ms/step - loss: 0.3121 - accuracy: 0.8615 - val_loss: 0.3145 - val_accuracy: 0.8600\n",
      "Epoch 49/200\n",
      "3372/3372 [==============================] - 94s 28ms/step - loss: 0.3148 - accuracy: 0.8607 - val_loss: 0.3171 - val_accuracy: 0.8606\n",
      "Epoch 50/200\n",
      "3372/3372 [==============================] - 93s 28ms/step - loss: 0.3128 - accuracy: 0.8620 - val_loss: 0.3139 - val_accuracy: 0.8612\n",
      "Epoch 51/200\n",
      "3372/3372 [==============================] - 95s 28ms/step - loss: 0.3121 - accuracy: 0.8627 - val_loss: 0.3148 - val_accuracy: 0.8599\n",
      "Epoch 52/200\n",
      "3372/3372 [==============================] - 96s 28ms/step - loss: 0.3115 - accuracy: 0.8622 - val_loss: 0.3147 - val_accuracy: 0.8606\n",
      "Epoch 53/200\n",
      "3372/3372 [==============================] - 94s 28ms/step - loss: 0.3129 - accuracy: 0.8610 - val_loss: 0.3175 - val_accuracy: 0.8581\n",
      "Epoch 54/200\n",
      "3372/3372 [==============================] - 94s 28ms/step - loss: 0.3126 - accuracy: 0.8617 - val_loss: 0.3136 - val_accuracy: 0.8609\n",
      "Epoch 55/200\n",
      "3372/3372 [==============================] - 95s 28ms/step - loss: 0.3131 - accuracy: 0.8616 - val_loss: 0.3148 - val_accuracy: 0.8598\n",
      "Epoch 56/200\n"
     ]
    },
    {
     "name": "stdout",
     "output_type": "stream",
     "text": [
      "3372/3372 [==============================] - 93s 28ms/step - loss: 0.3120 - accuracy: 0.8623 - val_loss: 0.3155 - val_accuracy: 0.8593\n",
      "Epoch 57/200\n",
      "3372/3372 [==============================] - 95s 28ms/step - loss: 0.3102 - accuracy: 0.8631 - val_loss: 0.3138 - val_accuracy: 0.8601\n",
      "Epoch 58/200\n",
      "3372/3372 [==============================] - 96s 28ms/step - loss: 0.3088 - accuracy: 0.8638 - val_loss: 0.3144 - val_accuracy: 0.8611\n",
      "Epoch 59/200\n",
      "3372/3372 [==============================] - 95s 28ms/step - loss: 0.3083 - accuracy: 0.8645 - val_loss: 0.3144 - val_accuracy: 0.8601\n",
      "Epoch 60/200\n",
      "3372/3372 [==============================] - 94s 28ms/step - loss: 0.3083 - accuracy: 0.8640 - val_loss: 0.3136 - val_accuracy: 0.8608\n",
      "Epoch 61/200\n",
      "3372/3372 [==============================] - 93s 28ms/step - loss: 0.3086 - accuracy: 0.8627 - val_loss: 0.3156 - val_accuracy: 0.8591\n",
      "Epoch 62/200\n",
      "3372/3372 [==============================] - 95s 28ms/step - loss: 0.3094 - accuracy: 0.8627 - val_loss: 0.3151 - val_accuracy: 0.8598\n",
      "Epoch 63/200\n",
      "3372/3372 [==============================] - 94s 28ms/step - loss: 0.3072 - accuracy: 0.8640 - val_loss: 0.3131 - val_accuracy: 0.8620\n",
      "Epoch 64/200\n",
      "3372/3372 [==============================] - 95s 28ms/step - loss: 0.3086 - accuracy: 0.8635 - val_loss: 0.3143 - val_accuracy: 0.8609\n",
      "Epoch 65/200\n",
      "3372/3372 [==============================] - 96s 28ms/step - loss: 0.3076 - accuracy: 0.8640 - val_loss: 0.3144 - val_accuracy: 0.8611\n",
      "Epoch 66/200\n",
      "3372/3372 [==============================] - 95s 28ms/step - loss: 0.3062 - accuracy: 0.8658 - val_loss: 0.3137 - val_accuracy: 0.8602\n",
      "Epoch 67/200\n",
      "3372/3372 [==============================] - 93s 28ms/step - loss: 0.3089 - accuracy: 0.8637 - val_loss: 0.3137 - val_accuracy: 0.8615\n",
      "Epoch 68/200\n",
      "3372/3372 [==============================] - 96s 28ms/step - loss: 0.3071 - accuracy: 0.8641 - val_loss: 0.3146 - val_accuracy: 0.8610\n",
      "Epoch 69/200\n",
      "3372/3372 [==============================] - 95s 28ms/step - loss: 0.3040 - accuracy: 0.8654 - val_loss: 0.3161 - val_accuracy: 0.8607\n",
      "Epoch 70/200\n",
      "3372/3372 [==============================] - 94s 28ms/step - loss: 0.3073 - accuracy: 0.8648 - val_loss: 0.3142 - val_accuracy: 0.8609\n",
      "Epoch 71/200\n",
      "3372/3372 [==============================] - 94s 28ms/step - loss: 0.3061 - accuracy: 0.8650 - val_loss: 0.3142 - val_accuracy: 0.8611\n",
      "Epoch 72/200\n",
      "3372/3372 [==============================] - 94s 28ms/step - loss: 0.3054 - accuracy: 0.8648 - val_loss: 0.3144 - val_accuracy: 0.8619\n",
      "Epoch 73/200\n",
      "3372/3372 [==============================] - 95s 28ms/step - loss: 0.3046 - accuracy: 0.8658 - val_loss: 0.3138 - val_accuracy: 0.8609\n",
      "Epoch 74/200\n",
      "3372/3372 [==============================] - 93s 28ms/step - loss: 0.3014 - accuracy: 0.8669 - val_loss: 0.3130 - val_accuracy: 0.8621\n",
      "Epoch 75/200\n",
      "3372/3372 [==============================] - 95s 28ms/step - loss: 0.3041 - accuracy: 0.8661 - val_loss: 0.3139 - val_accuracy: 0.8612\n",
      "Epoch 76/200\n",
      "3372/3372 [==============================] - 95s 28ms/step - loss: 0.3043 - accuracy: 0.8660 - val_loss: 0.3135 - val_accuracy: 0.8620\n",
      "Epoch 77/200\n",
      "3372/3372 [==============================] - 95s 28ms/step - loss: 0.3019 - accuracy: 0.8670 - val_loss: 0.3156 - val_accuracy: 0.8585\n",
      "Epoch 78/200\n",
      "3372/3372 [==============================] - 93s 28ms/step - loss: 0.3009 - accuracy: 0.8677 - val_loss: 0.3137 - val_accuracy: 0.8614\n",
      "Epoch 79/200\n",
      "3372/3372 [==============================] - 95s 28ms/step - loss: 0.3019 - accuracy: 0.8672 - val_loss: 0.3137 - val_accuracy: 0.8607\n",
      "Epoch 80/200\n",
      "3372/3372 [==============================] - 93s 28ms/step - loss: 0.3005 - accuracy: 0.8675 - val_loss: 0.3139 - val_accuracy: 0.8611\n",
      "Epoch 81/200\n",
      "3372/3372 [==============================] - 95s 28ms/step - loss: 0.3010 - accuracy: 0.8674 - val_loss: 0.3137 - val_accuracy: 0.8619\n",
      "Epoch 82/200\n",
      "3372/3372 [==============================] - 95s 28ms/step - loss: 0.3002 - accuracy: 0.8680 - val_loss: 0.3153 - val_accuracy: 0.8617\n",
      "Epoch 83/200\n",
      "3372/3372 [==============================] - 95s 28ms/step - loss: 0.2999 - accuracy: 0.8686 - val_loss: 0.3140 - val_accuracy: 0.8615\n",
      "Epoch 84/200\n",
      "3372/3372 [==============================] - 95s 28ms/step - loss: 0.3015 - accuracy: 0.8678 - val_loss: 0.3189 - val_accuracy: 0.8611\n",
      "Epoch 85/200\n",
      "3372/3372 [==============================] - 94s 28ms/step - loss: 0.2988 - accuracy: 0.8680 - val_loss: 0.3143 - val_accuracy: 0.8614\n",
      "Epoch 86/200\n",
      "3372/3372 [==============================] - 95s 28ms/step - loss: 0.2985 - accuracy: 0.8684 - val_loss: 0.3137 - val_accuracy: 0.8615\n",
      "Epoch 87/200\n",
      "3372/3372 [==============================] - 94s 28ms/step - loss: 0.2988 - accuracy: 0.8685 - val_loss: 0.3202 - val_accuracy: 0.8585\n",
      "Epoch 88/200\n",
      "3372/3372 [==============================] - 95s 28ms/step - loss: 0.2987 - accuracy: 0.8689 - val_loss: 0.3138 - val_accuracy: 0.8621\n",
      "Epoch 89/200\n",
      "3372/3372 [==============================] - 95s 28ms/step - loss: 0.2971 - accuracy: 0.8699 - val_loss: 0.3137 - val_accuracy: 0.8608\n",
      "Epoch 90/200\n",
      "3372/3372 [==============================] - 96s 28ms/step - loss: 0.2982 - accuracy: 0.8695 - val_loss: 0.3155 - val_accuracy: 0.8618\n",
      "Epoch 91/200\n",
      "3372/3372 [==============================] - 94s 28ms/step - loss: 0.2979 - accuracy: 0.8694 - val_loss: 0.3148 - val_accuracy: 0.8614\n",
      "Epoch 92/200\n",
      "3372/3372 [==============================] - 94s 28ms/step - loss: 0.2967 - accuracy: 0.8696 - val_loss: 0.3142 - val_accuracy: 0.8611\n",
      "Epoch 93/200\n",
      "3372/3372 [==============================] - 95s 28ms/step - loss: 0.2975 - accuracy: 0.8692 - val_loss: 0.3154 - val_accuracy: 0.8613\n",
      "Epoch 94/200\n",
      "3372/3372 [==============================] - 95s 28ms/step - loss: 0.2945 - accuracy: 0.8709 - val_loss: 0.3160 - val_accuracy: 0.8597\n",
      "Epoch 00094: early stopping\n"
     ]
    }
   ],
   "source": [
    "history = model.fit(X_train, y_train, epochs=200, \n",
    "                    batch_size=100,\n",
    "                    validation_data=(X_val, y_val),\n",
    "                                       callbacks=[es])"
   ]
  },
  {
   "cell_type": "code",
   "execution_count": 11,
   "metadata": {
    "ExecuteTime": {
     "end_time": "2021-09-30T19:31:37.581997Z",
     "start_time": "2021-09-30T19:31:37.296598Z"
    }
   },
   "outputs": [
    {
     "data": {
      "image/png": "[encoded data removed]",
      "text/plain": [
       "<Figure size 1152x144 with 2 Axes>"
      ]
     },
     "metadata": {
      "needs_background": "light"
     },
     "output_type": "display_data"
    }
   ],
   "source": [
    "plt.figure(figsize=(16,2))\n",
    "plt.subplot(1,2,1)\n",
    "plot_graphs(history, 'accuracy')\n",
    "plt.subplot(1,2,2)\n",
    "plot_graphs(history, 'loss')"
   ]
  },
  {
   "cell_type": "markdown",
   "metadata": {},
   "source": [
    "# 3. test"
   ]
  },
  {
   "cell_type": "code",
   "execution_count": 12,
   "metadata": {
    "ExecuteTime": {
     "end_time": "2021-09-30T19:31:37.655280Z",
     "start_time": "2021-09-30T19:31:37.583378Z"
    }
   },
   "outputs": [],
   "source": [
    "from sklearn.metrics import classification_report\n",
    "from sklearn.metrics import confusion_matrix\n",
    "from sklearn.metrics import roc_curve\n",
    "from sklearn.metrics import roc_auc_score\n",
    "import seaborn as sns"
   ]
  },
  {
   "cell_type": "code",
   "execution_count": 13,
   "metadata": {
    "ExecuteTime": {
     "end_time": "2021-09-30T19:32:17.968086Z",
     "start_time": "2021-09-30T19:31:37.656870Z"
    }
   },
   "outputs": [
    {
     "name": "stdout",
     "output_type": "stream",
     "text": [
      "2782/2782 [==============================] - 40s 14ms/step - loss: 0.3147 - accuracy: 0.8607\n",
      "Test Loss: 0.3147493004798889\n",
      "Test Accuracy: 0.8607047200202942\n"
     ]
    }
   ],
   "source": [
    "test_loss, test_acc = model.evaluate(X_test, y_test)\n",
    "print('Test Loss: {}'.format(test_loss))\n",
    "print('Test Accuracy: {}'.format(test_acc))"
   ]
  },
  {
   "cell_type": "code",
   "execution_count": 14,
   "metadata": {
    "ExecuteTime": {
     "end_time": "2021-09-30T19:32:55.260702Z",
     "start_time": "2021-09-30T19:32:17.970026Z"
    }
   },
   "outputs": [
    {
     "name": "stdout",
     "output_type": "stream",
     "text": [
      "              precision    recall  f1-score   support\n",
      "\n",
      "           0       0.93      0.78      0.85     44509\n",
      "           1       0.81      0.94      0.87     44489\n",
      "\n",
      "    accuracy                           0.86     88998\n",
      "   macro avg       0.87      0.86      0.86     88998\n",
      "weighted avg       0.87      0.86      0.86     88998\n",
      "\n",
      "rf auc : 0.9432983019494536\n"
     ]
    },
    {
     "data": {
      "image/png": "[encoded data removed]",
      "text/plain": [
       "<Figure size 288x288 with 1 Axes>"
      ]
     },
     "metadata": {
      "needs_background": "light"
     },
     "output_type": "display_data"
    },
    {
     "data": {
      "image/png": "[encoded data removed]",
      "text/plain": [
       "<Figure size 216x216 with 2 Axes>"
      ]
     },
     "metadata": {
      "needs_background": "light"
     },
     "output_type": "display_data"
    },
    {
     "data": {
      "image/png": "[encoded data removed]",
      "text/plain": [
       "<Figure size 216x216 with 2 Axes>"
      ]
     },
     "metadata": {
      "needs_background": "light"
     },
     "output_type": "display_data"
    }
   ],
   "source": [
    "# prediction\n",
    "y_pred = [1 if i>=0.5 else 0 for i in model.predict(X_test)]\n",
    "print(classification_report(y_test, y_pred))\n",
    "# AUC\n",
    "probs = model.predict(X_test)\n",
    "rf_auc = roc_auc_score(y_test, probs)\n",
    "print('rf auc : {}'.format(rf_auc))\n",
    "# plot the roc curve for the model\n",
    "rf_fpr, rf_tpr, _ = roc_curve(y_test, probs)\n",
    "plt.figure(figsize=(4, 4))\n",
    "plt.plot(rf_fpr, rf_tpr, marker='.', label='RF AUC = {:.4f}'.format(rf_auc), color='orange')\n",
    "plt.title('ROC curve')\n",
    "# axis labels\n",
    "plt.xlabel('False Positive Rate')\n",
    "plt.ylabel('True Positive Rate')\n",
    "# show the legend\n",
    "plt.legend()\n",
    "# show the plot\n",
    "plt.show()\n",
    "\n",
    "cf_matrix = confusion_matrix(y_test, y_pred)\n",
    "plt.figure(figsize=(3, 3))\n",
    "sns.heatmap(cf_matrix, annot=True, fmt=',.0f')\n",
    "plt.show()\n",
    "plt.figure(figsize=(3, 3))\n",
    "sns.heatmap(cf_matrix/np.sum(cf_matrix), annot=True, \n",
    "            fmt='.2%', cmap='Blues')\n",
    "plt.show()"
   ]
  },
  {
   "cell_type": "code",
   "execution_count": null,
   "metadata": {},
   "outputs": [],
   "source": []
  }
 ],
 "metadata": {
  "kernelspec": {
   "display_name": "TF2.4",
   "language": "python",
   "name": "tf2.4"
  },
  "language_info": {
   "codemirror_mode": {
    "name": "ipython",
    "version": 3
   },
   "file_extension": ".py",
   "mimetype": "text/x-python",
   "name": "python",
   "nbconvert_exporter": "python",
   "pygments_lexer": "ipython3",
   "version": "3.7.0"
  }
 },
 "nbformat": 4,
 "nbformat_minor": 4
}
