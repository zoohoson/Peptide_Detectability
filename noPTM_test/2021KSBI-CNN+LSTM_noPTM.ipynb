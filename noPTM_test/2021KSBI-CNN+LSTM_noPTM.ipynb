{
 "cells": [
  {
   "cell_type": "code",
   "execution_count": 1,
   "metadata": {
    "ExecuteTime": {
     "end_time": "2021-09-15T17:28:16.061759Z",
     "start_time": "2021-09-15T17:28:14.716309Z"
    }
   },
   "outputs": [],
   "source": [
    "import warnings\n",
    "warnings.simplefilter(action='ignore', category=FutureWarning)\n",
    "\n",
    "import argparse\n",
    "import numpy as np\n",
    "from tensorflow import keras"
   ]
  },
  {
   "cell_type": "code",
   "execution_count": 2,
   "metadata": {
    "ExecuteTime": {
     "end_time": "2021-09-15T17:28:16.816360Z",
     "start_time": "2021-09-15T17:28:16.771498Z"
    }
   },
   "outputs": [],
   "source": [
    "import tensorflow as tf\n",
    "gpus = tf.config.experimental.list_physical_devices('GPU')\n",
    "if gpus:\n",
    "    try:\n",
    "        tf.config.experimental.set_virtual_device_configuration(gpus[0],\n",
    "        [tf.config.experimental.VirtualDeviceConfiguration(memory_limit=1024*4)])\n",
    "    except RuntimeError as e:\n",
    "        print(e)"
   ]
  },
  {
   "cell_type": "code",
   "execution_count": 3,
   "metadata": {
    "ExecuteTime": {
     "end_time": "2021-09-15T17:28:18.746016Z",
     "start_time": "2021-09-15T17:28:18.740615Z"
    }
   },
   "outputs": [],
   "source": [
    "def load_pep_and_codify(file, max_len):\n",
    "    aa_dict={'A':1,'R':2,'N':3,'D':4,'C':5,'Q':6,'E':7,'G':8,'H':9,'I':10,'L':11,'K':12,'M':13,'F':14,\n",
    "        'P':15,'O':16,'S':17,'U':18,'T':19,'W':20,'Y':21,'V':22}\n",
    "    with open(file, 'r') as inf:\n",
    "        lines = inf.read().splitlines()\n",
    "    pep_codes=[]\n",
    "    long_pep_counter = 0\n",
    "    newLines = []\n",
    "    for pep in lines:\n",
    "        if not len(pep) > max_len:\n",
    "            current_pep=[]\n",
    "            for aa in pep:\n",
    "                current_pep.append(aa_dict[aa])\n",
    "            pep_codes.append(current_pep)\n",
    "            newLines.extend([pep])\n",
    "        else:\n",
    "            long_pep_counter += 1\n",
    "    predict_data = keras.preprocessing.sequence.pad_sequences(pep_codes, value=0, padding='post', maxlen=max_len)\n",
    "    return predict_data, long_pep_counter, newLines"
   ]
  },
  {
   "cell_type": "markdown",
   "metadata": {},
   "source": [
    "# New Train"
   ]
  },
  {
   "cell_type": "code",
   "execution_count": 4,
   "metadata": {
    "ExecuteTime": {
     "end_time": "2021-09-15T17:28:21.235253Z",
     "start_time": "2021-09-15T17:28:20.116674Z"
    }
   },
   "outputs": [
    {
     "name": "stdout",
     "output_type": "stream",
     "text": [
      "Model: \"sequential\"\n",
      "_________________________________________________________________\n",
      "Layer (type)                 Output Shape              Param #   \n",
      "=================================================================\n",
      "embedding (Embedding)        (None, 30, 50)            1150      \n",
      "_________________________________________________________________\n",
      "dropout (Dropout)            (None, 30, 50)            0         \n",
      "_________________________________________________________________\n",
      "conv1d (Conv1D)              (None, 30, 128)           19328     \n",
      "_________________________________________________________________\n",
      "lstm (LSTM)                  (None, 128)               131584    \n",
      "_________________________________________________________________\n",
      "dense (Dense)                (None, 64)                8256      \n",
      "_________________________________________________________________\n",
      "dropout_1 (Dropout)          (None, 64)                0         \n",
      "_________________________________________________________________\n",
      "dense_1 (Dense)              (None, 1)                 65        \n",
      "=================================================================\n",
      "Total params: 160,383\n",
      "Trainable params: 160,383\n",
      "Non-trainable params: 0\n",
      "_________________________________________________________________\n"
     ]
    }
   ],
   "source": [
    "model = tf.keras.Sequential([\n",
    "    # vacabulary size 23 (22 AminoAcid + zero padding)\n",
    "    # embedding vector size 50\n",
    "    # input length (including padding) 30 ( 81 to 30)\n",
    "    tf.keras.layers.Embedding(23, 50, input_length=30),\n",
    "    tf.keras.layers.Dropout(np.random.uniform(0, 0.2)),\n",
    "    tf.keras.layers.Conv1D(filters=128, kernel_size=3, strides=1, padding='same'),\n",
    "#     tf.keras.layers.Conv1D(filters=64, kernel_size=2, strides=1),\n",
    "    \n",
    "    tf.keras.layers.LSTM(128),\n",
    "    \n",
    "    tf.keras.layers.Dense(64, activation='relu'),\n",
    "    tf.keras.layers.Dropout(np.random.uniform(0, 0.2)),\n",
    "    tf.keras.layers.Dense(1, activation='sigmoid')\n",
    "])\n",
    "model.summary()\n",
    "\n",
    "model.compile(loss=tf.keras.losses.BinaryCrossentropy(from_logits=True),\n",
    "              optimizer=tf.keras.optimizers.Adam(1e-4),\n",
    "              metrics=['accuracy'])\n",
    "\n",
    "es = tf.keras.callbacks.EarlyStopping(monitor='val_loss',\n",
    "                                      mode='min', \n",
    "                                      verbose=1,\n",
    "                                      patience=20)"
   ]
  },
  {
   "cell_type": "markdown",
   "metadata": {},
   "source": [
    "# 1. Make Data X_train, y_train, X_test, y_test"
   ]
  },
  {
   "cell_type": "code",
   "execution_count": 5,
   "metadata": {
    "ExecuteTime": {
     "end_time": "2021-09-15T17:28:39.055684Z",
     "start_time": "2021-09-15T17:28:38.500153Z"
    }
   },
   "outputs": [],
   "source": [
    "import matplotlib.pyplot as plt\n",
    "import pandas as pd\n",
    "from sklearn.model_selection import train_test_split\n",
    "\n",
    "file_path = '../compareModel/2019Bioinformatics_DeepMSPeptide/DeepMSPeptide/'"
   ]
  },
  {
   "cell_type": "code",
   "execution_count": 8,
   "metadata": {
    "ExecuteTime": {
     "end_time": "2021-09-15T17:30:43.420543Z",
     "start_time": "2021-09-15T17:30:40.851796Z"
    }
   },
   "outputs": [
    {
     "name": "stdout",
     "output_type": "stream",
     "text": [
      "Loading input peptides\n",
      "Succesfully loaded 177997 peptides and skipped 0\n",
      "Loading input peptides\n",
      "Succesfully loaded 44499 peptides and skipped 0\n",
      "(142397, 30) (35600, 30) (44499, 30) (142397,) (35600,) (44499,)\n"
     ]
    }
   ],
   "source": [
    "# make DeepMSpeptide format\n",
    "df_peptide_train = pd.read_csv('../data/df_detect_peptide_train_noptm.csv')\n",
    "df_peptide_test = pd.read_csv('../data/df_detect_peptide_test_noptm.csv')\n",
    "\n",
    "inp = open(file_path+'detect_peptide_train_noptm.txt', 'w')\n",
    "inp_y = open(file_path+'detect_peptide_train_noptm_y.txt', 'w')\n",
    "for x, y in df_peptide_train[['PEP', 'ID']].values:\n",
    "    inp.write(x+'\\n')\n",
    "    inp_y.write(str(y)+'\\n')\n",
    "inp.close()\n",
    "inp_y.close()\n",
    "\n",
    "inp = open(file_path+'detect_peptide_test_noptm.txt', 'w')\n",
    "inp_y = open(file_path+'detect_peptide_test_noptm_y.txt', 'w')\n",
    "for x, y in df_peptide_test[['PEP', 'ID']].values:\n",
    "    inp.write(x+'\\n')\n",
    "    inp_y.write(str(y)+'\\n')\n",
    "inp.close()\n",
    "inp_y.close()\n",
    "\n",
    "args = file_path + 'detect_peptide_train_noptm.txt'\n",
    "print('Loading input peptides')\n",
    "X_train, skipped, lines = load_pep_and_codify(args, 30)\n",
    "tmp = open(file_path+'detect_peptide_train_noptm_y.txt')\n",
    "y_train = np.array([int(_.replace('\\n', '')) for _ in tmp.readlines()])\n",
    "tmp.close()\n",
    "print('Succesfully loaded {0} peptides and skipped {1}'.format(len(lines), str(skipped)))\n",
    "\n",
    "args = file_path + 'detect_peptide_test_noptm.txt'\n",
    "print('Loading input peptides')\n",
    "X_test, skipped, lines = load_pep_and_codify(args, 30)\n",
    "tmp = open(file_path+'detect_peptide_test_noptm_y.txt')\n",
    "y_test = np.array([int(_.replace('\\n', '')) for _ in tmp.readlines()])\n",
    "tmp.close()\n",
    "print('Succesfully loaded {0} peptides and skipped {1}'.format(len(lines), str(skipped)))\n",
    "\n",
    "X_train, X_val, y_train, y_val = train_test_split(X_train, y_train, test_size=0.2)\n",
    "print(X_train.shape, X_val.shape, X_test.shape, y_train.shape, y_val.shape, y_test.shape)\n"
   ]
  },
  {
   "cell_type": "markdown",
   "metadata": {},
   "source": [
    "# 2. train"
   ]
  },
  {
   "cell_type": "code",
   "execution_count": 9,
   "metadata": {
    "ExecuteTime": {
     "end_time": "2021-09-15T17:30:52.038476Z",
     "start_time": "2021-09-15T17:30:52.035621Z"
    }
   },
   "outputs": [],
   "source": [
    "def plot_graphs(history, metric):\n",
    "    plt.plot(history.history[metric])\n",
    "    plt.plot(history.history['val_'+metric], '')\n",
    "    plt.xlabel(\"Epochs\")\n",
    "    plt.ylabel(metric)\n",
    "    plt.legend([metric, 'val_'+metric])"
   ]
  },
  {
   "cell_type": "code",
   "execution_count": 10,
   "metadata": {
    "ExecuteTime": {
     "end_time": "2021-09-15T17:47:16.948865Z",
     "start_time": "2021-09-15T17:30:52.819357Z"
    }
   },
   "outputs": [
    {
     "name": "stdout",
     "output_type": "stream",
     "text": [
      "Epoch 1/200\n",
      "1424/1424 [==============================] - 14s 7ms/step - loss: 0.5341 - accuracy: 0.7118 - val_loss: 0.3790 - val_accuracy: 0.8259\n",
      "Epoch 2/200\n",
      "1424/1424 [==============================] - 9s 6ms/step - loss: 0.3854 - accuracy: 0.8188 - val_loss: 0.3720 - val_accuracy: 0.8275\n",
      "Epoch 3/200\n",
      "1424/1424 [==============================] - 9s 6ms/step - loss: 0.3699 - accuracy: 0.8289 - val_loss: 0.3576 - val_accuracy: 0.8360\n",
      "Epoch 4/200\n",
      "1424/1424 [==============================] - 9s 6ms/step - loss: 0.3597 - accuracy: 0.8364 - val_loss: 0.3549 - val_accuracy: 0.8385\n",
      "Epoch 5/200\n",
      "1424/1424 [==============================] - 9s 6ms/step - loss: 0.3553 - accuracy: 0.8376 - val_loss: 0.3447 - val_accuracy: 0.8441\n",
      "Epoch 6/200\n",
      "1424/1424 [==============================] - 9s 6ms/step - loss: 0.3445 - accuracy: 0.8425 - val_loss: 0.3394 - val_accuracy: 0.8479\n",
      "Epoch 7/200\n",
      "1424/1424 [==============================] - 9s 6ms/step - loss: 0.3420 - accuracy: 0.8447 - val_loss: 0.3363 - val_accuracy: 0.8497\n",
      "Epoch 8/200\n",
      "1424/1424 [==============================] - 9s 6ms/step - loss: 0.3385 - accuracy: 0.8461 - val_loss: 0.3442 - val_accuracy: 0.8450\n",
      "Epoch 9/200\n",
      "1424/1424 [==============================] - 9s 6ms/step - loss: 0.3361 - accuracy: 0.8492 - val_loss: 0.3332 - val_accuracy: 0.8507\n",
      "Epoch 10/200\n",
      "1424/1424 [==============================] - 9s 6ms/step - loss: 0.3320 - accuracy: 0.8520 - val_loss: 0.3242 - val_accuracy: 0.8568\n",
      "Epoch 11/200\n",
      "1424/1424 [==============================] - 9s 6ms/step - loss: 0.3260 - accuracy: 0.8561 - val_loss: 0.3228 - val_accuracy: 0.8560\n",
      "Epoch 12/200\n",
      "1424/1424 [==============================] - 9s 6ms/step - loss: 0.3270 - accuracy: 0.8557 - val_loss: 0.3209 - val_accuracy: 0.8582\n",
      "Epoch 13/200\n",
      "1424/1424 [==============================] - 9s 6ms/step - loss: 0.3229 - accuracy: 0.8565 - val_loss: 0.3219 - val_accuracy: 0.8569\n",
      "Epoch 14/200\n",
      "1424/1424 [==============================] - 9s 6ms/step - loss: 0.3200 - accuracy: 0.8591 - val_loss: 0.3193 - val_accuracy: 0.8590\n",
      "Epoch 15/200\n",
      "1424/1424 [==============================] - 9s 6ms/step - loss: 0.3203 - accuracy: 0.8591 - val_loss: 0.3201 - val_accuracy: 0.8587\n",
      "Epoch 16/200\n",
      "1424/1424 [==============================] - 9s 6ms/step - loss: 0.3202 - accuracy: 0.8588 - val_loss: 0.3182 - val_accuracy: 0.8596\n",
      "Epoch 17/200\n",
      "1424/1424 [==============================] - 9s 6ms/step - loss: 0.3159 - accuracy: 0.8604 - val_loss: 0.3189 - val_accuracy: 0.8612\n",
      "Epoch 18/200\n",
      "1424/1424 [==============================] - 9s 6ms/step - loss: 0.3162 - accuracy: 0.8606 - val_loss: 0.3157 - val_accuracy: 0.8619\n",
      "Epoch 19/200\n",
      "1424/1424 [==============================] - 9s 6ms/step - loss: 0.3161 - accuracy: 0.8617 - val_loss: 0.3158 - val_accuracy: 0.8619\n",
      "Epoch 20/200\n",
      "1424/1424 [==============================] - 9s 6ms/step - loss: 0.3135 - accuracy: 0.8631 - val_loss: 0.3112 - val_accuracy: 0.8638\n",
      "Epoch 21/200\n",
      "1424/1424 [==============================] - 9s 6ms/step - loss: 0.3129 - accuracy: 0.8629 - val_loss: 0.3123 - val_accuracy: 0.8640\n",
      "Epoch 22/200\n",
      "1424/1424 [==============================] - 9s 6ms/step - loss: 0.3099 - accuracy: 0.8657 - val_loss: 0.3144 - val_accuracy: 0.8632\n",
      "Epoch 23/200\n",
      "1424/1424 [==============================] - 9s 6ms/step - loss: 0.3133 - accuracy: 0.8635 - val_loss: 0.3115 - val_accuracy: 0.8636\n",
      "Epoch 24/200\n",
      "1424/1424 [==============================] - 9s 6ms/step - loss: 0.3108 - accuracy: 0.8649 - val_loss: 0.3120 - val_accuracy: 0.8630\n",
      "Epoch 25/200\n",
      "1424/1424 [==============================] - 9s 6ms/step - loss: 0.3126 - accuracy: 0.8624 - val_loss: 0.3087 - val_accuracy: 0.8651\n",
      "Epoch 26/200\n",
      "1424/1424 [==============================] - 9s 6ms/step - loss: 0.3078 - accuracy: 0.8670 - val_loss: 0.3084 - val_accuracy: 0.8649\n",
      "Epoch 27/200\n",
      "1424/1424 [==============================] - 19s 13ms/step - loss: 0.3074 - accuracy: 0.8658 - val_loss: 0.3098 - val_accuracy: 0.8653\n",
      "Epoch 28/200\n",
      "1424/1424 [==============================] - 23s 16ms/step - loss: 0.3109 - accuracy: 0.8648 - val_loss: 0.3077 - val_accuracy: 0.8663\n",
      "Epoch 29/200\n",
      "1424/1424 [==============================] - 19s 13ms/step - loss: 0.3079 - accuracy: 0.8662 - val_loss: 0.3077 - val_accuracy: 0.8668\n",
      "Epoch 30/200\n",
      "1424/1424 [==============================] - 9s 6ms/step - loss: 0.3060 - accuracy: 0.8676 - val_loss: 0.3054 - val_accuracy: 0.8667\n",
      "Epoch 31/200\n",
      "1424/1424 [==============================] - 9s 6ms/step - loss: 0.3061 - accuracy: 0.8676 - val_loss: 0.3080 - val_accuracy: 0.8664\n",
      "Epoch 32/200\n",
      "1424/1424 [==============================] - 9s 7ms/step - loss: 0.3031 - accuracy: 0.8689 - val_loss: 0.3079 - val_accuracy: 0.8658\n",
      "Epoch 33/200\n",
      "1424/1424 [==============================] - 9s 7ms/step - loss: 0.3046 - accuracy: 0.8677 - val_loss: 0.3070 - val_accuracy: 0.8665\n",
      "Epoch 34/200\n",
      "1424/1424 [==============================] - 9s 7ms/step - loss: 0.3046 - accuracy: 0.8678 - val_loss: 0.3047 - val_accuracy: 0.8681\n",
      "Epoch 35/200\n",
      "1424/1424 [==============================] - 10s 7ms/step - loss: 0.3043 - accuracy: 0.8673 - val_loss: 0.3098 - val_accuracy: 0.8657\n",
      "Epoch 36/200\n",
      "1424/1424 [==============================] - 10s 7ms/step - loss: 0.3060 - accuracy: 0.8671 - val_loss: 0.3075 - val_accuracy: 0.8649\n",
      "Epoch 37/200\n",
      "1424/1424 [==============================] - 10s 7ms/step - loss: 0.3029 - accuracy: 0.8677 - val_loss: 0.3044 - val_accuracy: 0.8672\n",
      "Epoch 38/200\n",
      "1424/1424 [==============================] - 10s 7ms/step - loss: 0.3036 - accuracy: 0.8682 - val_loss: 0.3036 - val_accuracy: 0.8687\n",
      "Epoch 39/200\n",
      "1424/1424 [==============================] - 10s 7ms/step - loss: 0.3018 - accuracy: 0.8692 - val_loss: 0.3030 - val_accuracy: 0.8694\n",
      "Epoch 40/200\n",
      "1424/1424 [==============================] - 10s 7ms/step - loss: 0.3042 - accuracy: 0.8673 - val_loss: 0.3085 - val_accuracy: 0.8655\n",
      "Epoch 41/200\n",
      "1424/1424 [==============================] - 10s 7ms/step - loss: 0.3012 - accuracy: 0.8692 - val_loss: 0.3025 - val_accuracy: 0.8693\n",
      "Epoch 42/200\n",
      "1424/1424 [==============================] - 10s 7ms/step - loss: 0.2994 - accuracy: 0.8707 - val_loss: 0.3052 - val_accuracy: 0.8677\n",
      "Epoch 43/200\n",
      "1424/1424 [==============================] - 10s 7ms/step - loss: 0.2989 - accuracy: 0.8709 - val_loss: 0.3083 - val_accuracy: 0.8654\n",
      "Epoch 44/200\n",
      "1424/1424 [==============================] - 10s 7ms/step - loss: 0.3003 - accuracy: 0.8706 - val_loss: 0.3024 - val_accuracy: 0.8693\n",
      "Epoch 45/200\n",
      "1424/1424 [==============================] - 10s 7ms/step - loss: 0.2995 - accuracy: 0.8707 - val_loss: 0.3025 - val_accuracy: 0.8697\n",
      "Epoch 46/200\n",
      "1424/1424 [==============================] - 10s 7ms/step - loss: 0.3016 - accuracy: 0.8696 - val_loss: 0.3016 - val_accuracy: 0.8697\n",
      "Epoch 47/200\n",
      "1424/1424 [==============================] - 10s 7ms/step - loss: 0.2967 - accuracy: 0.8714 - val_loss: 0.3021 - val_accuracy: 0.8688\n",
      "Epoch 48/200\n",
      "1424/1424 [==============================] - 21s 15ms/step - loss: 0.2995 - accuracy: 0.8695 - val_loss: 0.3039 - val_accuracy: 0.8685\n",
      "Epoch 49/200\n",
      "1424/1424 [==============================] - 21s 15ms/step - loss: 0.2966 - accuracy: 0.8711 - val_loss: 0.3028 - val_accuracy: 0.8698\n",
      "Epoch 50/200\n",
      "1424/1424 [==============================] - 17s 12ms/step - loss: 0.2963 - accuracy: 0.8714 - val_loss: 0.3015 - val_accuracy: 0.8697\n",
      "Epoch 51/200\n",
      "1424/1424 [==============================] - 10s 7ms/step - loss: 0.2967 - accuracy: 0.8724 - val_loss: 0.3022 - val_accuracy: 0.8689\n",
      "Epoch 52/200\n",
      "1424/1424 [==============================] - 10s 7ms/step - loss: 0.2981 - accuracy: 0.8701 - val_loss: 0.3017 - val_accuracy: 0.8697\n",
      "Epoch 53/200\n",
      "1424/1424 [==============================] - 10s 7ms/step - loss: 0.2990 - accuracy: 0.8700 - val_loss: 0.2992 - val_accuracy: 0.8709\n",
      "Epoch 54/200\n",
      "1424/1424 [==============================] - 10s 7ms/step - loss: 0.2957 - accuracy: 0.8727 - val_loss: 0.3033 - val_accuracy: 0.8694\n",
      "Epoch 55/200\n",
      "1424/1424 [==============================] - 10s 7ms/step - loss: 0.2944 - accuracy: 0.8728 - val_loss: 0.2996 - val_accuracy: 0.8714\n",
      "Epoch 56/200\n",
      "1424/1424 [==============================] - 10s 7ms/step - loss: 0.2945 - accuracy: 0.8728 - val_loss: 0.3013 - val_accuracy: 0.8703\n"
     ]
    },
    {
     "name": "stdout",
     "output_type": "stream",
     "text": [
      "Epoch 57/200\n",
      "1424/1424 [==============================] - 10s 7ms/step - loss: 0.2928 - accuracy: 0.8737 - val_loss: 0.3002 - val_accuracy: 0.8701\n",
      "Epoch 58/200\n",
      "1424/1424 [==============================] - 10s 7ms/step - loss: 0.2944 - accuracy: 0.8732 - val_loss: 0.3016 - val_accuracy: 0.8696\n",
      "Epoch 59/200\n",
      "1424/1424 [==============================] - 10s 7ms/step - loss: 0.2921 - accuracy: 0.8744 - val_loss: 0.3005 - val_accuracy: 0.8710\n",
      "Epoch 60/200\n",
      "1424/1424 [==============================] - 10s 7ms/step - loss: 0.2930 - accuracy: 0.8730 - val_loss: 0.3002 - val_accuracy: 0.8708\n",
      "Epoch 61/200\n",
      "1424/1424 [==============================] - 11s 8ms/step - loss: 0.2910 - accuracy: 0.8749 - val_loss: 0.2993 - val_accuracy: 0.8715\n",
      "Epoch 62/200\n",
      "1424/1424 [==============================] - 10s 7ms/step - loss: 0.2940 - accuracy: 0.8729 - val_loss: 0.3036 - val_accuracy: 0.8682\n",
      "Epoch 63/200\n",
      "1424/1424 [==============================] - 10s 7ms/step - loss: 0.2910 - accuracy: 0.8750 - val_loss: 0.3006 - val_accuracy: 0.8700\n",
      "Epoch 64/200\n",
      "1424/1424 [==============================] - 10s 7ms/step - loss: 0.2917 - accuracy: 0.8735 - val_loss: 0.2990 - val_accuracy: 0.8707\n",
      "Epoch 65/200\n",
      "1424/1424 [==============================] - 10s 7ms/step - loss: 0.2905 - accuracy: 0.8748 - val_loss: 0.2995 - val_accuracy: 0.8708\n",
      "Epoch 66/200\n",
      "1424/1424 [==============================] - 10s 7ms/step - loss: 0.2906 - accuracy: 0.8741 - val_loss: 0.3019 - val_accuracy: 0.8705\n",
      "Epoch 67/200\n",
      "1424/1424 [==============================] - 10s 7ms/step - loss: 0.2897 - accuracy: 0.8757 - val_loss: 0.2995 - val_accuracy: 0.8710\n",
      "Epoch 68/200\n",
      "1424/1424 [==============================] - 10s 7ms/step - loss: 0.2869 - accuracy: 0.8775 - val_loss: 0.3000 - val_accuracy: 0.8711\n",
      "Epoch 69/200\n",
      "1424/1424 [==============================] - 10s 7ms/step - loss: 0.2891 - accuracy: 0.8769 - val_loss: 0.2995 - val_accuracy: 0.8716\n",
      "Epoch 70/200\n",
      "1424/1424 [==============================] - 10s 7ms/step - loss: 0.2896 - accuracy: 0.8750 - val_loss: 0.2994 - val_accuracy: 0.8717\n",
      "Epoch 71/200\n",
      "1424/1424 [==============================] - 10s 7ms/step - loss: 0.2882 - accuracy: 0.8762 - val_loss: 0.3024 - val_accuracy: 0.8721\n",
      "Epoch 72/200\n",
      "1424/1424 [==============================] - 10s 7ms/step - loss: 0.2900 - accuracy: 0.8760 - val_loss: 0.3001 - val_accuracy: 0.8714\n",
      "Epoch 73/200\n",
      "1424/1424 [==============================] - 10s 7ms/step - loss: 0.2867 - accuracy: 0.8769 - val_loss: 0.2985 - val_accuracy: 0.8717\n",
      "Epoch 74/200\n",
      "1424/1424 [==============================] - 10s 7ms/step - loss: 0.2856 - accuracy: 0.8772 - val_loss: 0.2989 - val_accuracy: 0.8716\n",
      "Epoch 75/200\n",
      "1424/1424 [==============================] - 10s 7ms/step - loss: 0.2867 - accuracy: 0.8763 - val_loss: 0.2995 - val_accuracy: 0.8720\n",
      "Epoch 76/200\n",
      "1424/1424 [==============================] - 10s 7ms/step - loss: 0.2830 - accuracy: 0.8786 - val_loss: 0.2984 - val_accuracy: 0.8728\n",
      "Epoch 77/200\n",
      "1424/1424 [==============================] - 10s 7ms/step - loss: 0.2838 - accuracy: 0.8784 - val_loss: 0.2992 - val_accuracy: 0.8703\n",
      "Epoch 78/200\n",
      "1424/1424 [==============================] - 10s 7ms/step - loss: 0.2868 - accuracy: 0.8771 - val_loss: 0.2988 - val_accuracy: 0.8721\n",
      "Epoch 79/200\n",
      "1424/1424 [==============================] - 10s 7ms/step - loss: 0.2840 - accuracy: 0.8787 - val_loss: 0.2991 - val_accuracy: 0.8710\n",
      "Epoch 80/200\n",
      "1424/1424 [==============================] - 10s 7ms/step - loss: 0.2854 - accuracy: 0.8770 - val_loss: 0.2993 - val_accuracy: 0.8721\n",
      "Epoch 81/200\n",
      "1424/1424 [==============================] - 10s 7ms/step - loss: 0.2806 - accuracy: 0.8806 - val_loss: 0.2999 - val_accuracy: 0.8724\n",
      "Epoch 82/200\n",
      "1424/1424 [==============================] - 10s 7ms/step - loss: 0.2815 - accuracy: 0.8784 - val_loss: 0.2999 - val_accuracy: 0.8703\n",
      "Epoch 83/200\n",
      "1424/1424 [==============================] - 10s 7ms/step - loss: 0.2782 - accuracy: 0.8813 - val_loss: 0.3005 - val_accuracy: 0.8706\n",
      "Epoch 84/200\n",
      "1424/1424 [==============================] - 10s 7ms/step - loss: 0.2829 - accuracy: 0.8782 - val_loss: 0.3009 - val_accuracy: 0.8718\n",
      "Epoch 85/200\n",
      "1424/1424 [==============================] - 10s 7ms/step - loss: 0.2782 - accuracy: 0.8800 - val_loss: 0.3029 - val_accuracy: 0.8704\n",
      "Epoch 86/200\n",
      "1424/1424 [==============================] - 10s 7ms/step - loss: 0.2766 - accuracy: 0.8824 - val_loss: 0.3030 - val_accuracy: 0.8708\n",
      "Epoch 87/200\n",
      "1424/1424 [==============================] - 10s 7ms/step - loss: 0.2754 - accuracy: 0.8833 - val_loss: 0.3021 - val_accuracy: 0.8705\n",
      "Epoch 88/200\n",
      "1424/1424 [==============================] - 10s 7ms/step - loss: 0.2757 - accuracy: 0.8819 - val_loss: 0.2997 - val_accuracy: 0.8710\n",
      "Epoch 89/200\n",
      "1424/1424 [==============================] - 10s 7ms/step - loss: 0.2757 - accuracy: 0.8825 - val_loss: 0.3017 - val_accuracy: 0.8690\n",
      "Epoch 90/200\n",
      "1424/1424 [==============================] - 10s 7ms/step - loss: 0.2772 - accuracy: 0.8814 - val_loss: 0.3019 - val_accuracy: 0.8713\n",
      "Epoch 91/200\n",
      "1424/1424 [==============================] - 10s 7ms/step - loss: 0.2736 - accuracy: 0.8841 - val_loss: 0.3006 - val_accuracy: 0.8711\n",
      "Epoch 92/200\n",
      "1424/1424 [==============================] - 10s 7ms/step - loss: 0.2748 - accuracy: 0.8829 - val_loss: 0.3013 - val_accuracy: 0.8698\n",
      "Epoch 93/200\n",
      "1424/1424 [==============================] - 10s 7ms/step - loss: 0.2728 - accuracy: 0.8848 - val_loss: 0.3019 - val_accuracy: 0.8712\n",
      "Epoch 94/200\n",
      "1424/1424 [==============================] - 10s 7ms/step - loss: 0.2717 - accuracy: 0.8834 - val_loss: 0.3036 - val_accuracy: 0.8715\n",
      "Epoch 95/200\n",
      "1424/1424 [==============================] - 10s 7ms/step - loss: 0.2718 - accuracy: 0.8848 - val_loss: 0.3026 - val_accuracy: 0.8704\n",
      "Epoch 96/200\n",
      "1424/1424 [==============================] - 10s 7ms/step - loss: 0.2753 - accuracy: 0.8829 - val_loss: 0.3041 - val_accuracy: 0.8698\n",
      "Epoch 00096: early stopping\n"
     ]
    }
   ],
   "source": [
    "history = model.fit(X_train, y_train, epochs=200, \n",
    "                    batch_size=100,\n",
    "                    validation_data=(X_val, y_val),\n",
    "                                       callbacks=[es])"
   ]
  },
  {
   "cell_type": "code",
   "execution_count": 11,
   "metadata": {
    "ExecuteTime": {
     "end_time": "2021-09-15T17:47:17.273261Z",
     "start_time": "2021-09-15T17:47:16.952502Z"
    }
   },
   "outputs": [
    {
     "data": {
      "image/png": "[encoded data removed]",
      "text/plain": [
       "<Figure size 1152x144 with 2 Axes>"
      ]
     },
     "metadata": {
      "needs_background": "light"
     },
     "output_type": "display_data"
    }
   ],
   "source": [
    "plt.figure(figsize=(16,2))\n",
    "plt.subplot(1,2,1)\n",
    "plot_graphs(history, 'accuracy')\n",
    "plt.subplot(1,2,2)\n",
    "plot_graphs(history, 'loss')"
   ]
  },
  {
   "cell_type": "markdown",
   "metadata": {},
   "source": [
    "# 3. test"
   ]
  },
  {
   "cell_type": "code",
   "execution_count": 12,
   "metadata": {
    "ExecuteTime": {
     "end_time": "2021-09-15T17:47:17.354319Z",
     "start_time": "2021-09-15T17:47:17.274798Z"
    }
   },
   "outputs": [],
   "source": [
    "from sklearn.metrics import classification_report\n",
    "from sklearn.metrics import confusion_matrix\n",
    "from sklearn.metrics import roc_curve\n",
    "from sklearn.metrics import roc_auc_score\n",
    "import seaborn as sns"
   ]
  },
  {
   "cell_type": "code",
   "execution_count": 13,
   "metadata": {
    "ExecuteTime": {
     "end_time": "2021-09-15T17:47:22.222919Z",
     "start_time": "2021-09-15T17:47:17.355680Z"
    }
   },
   "outputs": [
    {
     "name": "stdout",
     "output_type": "stream",
     "text": [
      "1391/1391 [==============================] - 5s 3ms/step - loss: 0.3051 - accuracy: 0.8693\n",
      "Test Loss: 0.30513545870780945\n",
      "Test Accuracy: 0.8692554831504822\n"
     ]
    }
   ],
   "source": [
    "test_loss, test_acc = model.evaluate(X_test, y_test)\n",
    "print('Test Loss: {}'.format(test_loss))\n",
    "print('Test Accuracy: {}'.format(test_acc))"
   ]
  },
  {
   "cell_type": "code",
   "execution_count": 14,
   "metadata": {
    "ExecuteTime": {
     "end_time": "2021-09-15T17:47:29.108164Z",
     "start_time": "2021-09-15T17:47:22.224464Z"
    }
   },
   "outputs": [
    {
     "name": "stdout",
     "output_type": "stream",
     "text": [
      "              precision    recall  f1-score   support\n",
      "\n",
      "           0       0.89      0.84      0.87     22330\n",
      "           1       0.85      0.90      0.87     22169\n",
      "\n",
      "    accuracy                           0.87     44499\n",
      "   macro avg       0.87      0.87      0.87     44499\n",
      "weighted avg       0.87      0.87      0.87     44499\n",
      "\n",
      "rf auc : 0.9426934711949047\n"
     ]
    },
    {
     "data": {
      "image/png": "[encoded data removed]",
      "text/plain": [
       "<Figure size 288x288 with 1 Axes>"
      ]
     },
     "metadata": {
      "needs_background": "light"
     },
     "output_type": "display_data"
    },
    {
     "data": {
      "image/png": "[encoded data removed]",
      "text/plain": [
       "<Figure size 216x216 with 2 Axes>"
      ]
     },
     "metadata": {
      "needs_background": "light"
     },
     "output_type": "display_data"
    },
    {
     "data": {
      "image/png": "[encoded data removed]",
      "text/plain": [
       "<Figure size 216x216 with 2 Axes>"
      ]
     },
     "metadata": {
      "needs_background": "light"
     },
     "output_type": "display_data"
    }
   ],
   "source": [
    "# prediction\n",
    "y_pred = [1 if i>=0.5 else 0 for i in model.predict(X_test)]\n",
    "print(classification_report(y_test, y_pred))\n",
    "# AUC\n",
    "probs = model.predict(X_test)\n",
    "rf_auc = roc_auc_score(y_test, probs)\n",
    "print('rf auc : {}'.format(rf_auc))\n",
    "# plot the roc curve for the model\n",
    "rf_fpr, rf_tpr, _ = roc_curve(y_test, probs)\n",
    "plt.figure(figsize=(4, 4))\n",
    "plt.plot(rf_fpr, rf_tpr, marker='.', label='RF AUC = {:.4f}'.format(rf_auc), color='orange')\n",
    "plt.title('ROC curve')\n",
    "# axis labels\n",
    "plt.xlabel('False Positive Rate')\n",
    "plt.ylabel('True Positive Rate')\n",
    "# show the legend\n",
    "plt.legend()\n",
    "# show the plot\n",
    "plt.show()\n",
    "\n",
    "cf_matrix = confusion_matrix(y_test, y_pred)\n",
    "plt.figure(figsize=(3, 3))\n",
    "sns.heatmap(cf_matrix, annot=True, fmt=',.0f')\n",
    "plt.show()\n",
    "plt.figure(figsize=(3, 3))\n",
    "sns.heatmap(cf_matrix/np.sum(cf_matrix), annot=True, \n",
    "            fmt='.2%', cmap='Blues')\n",
    "plt.show()"
   ]
  },
  {
   "cell_type": "code",
   "execution_count": null,
   "metadata": {},
   "outputs": [],
   "source": []
  }
 ],
 "metadata": {
  "kernelspec": {
   "display_name": "TF2.4",
   "language": "python",
   "name": "tf2.4"
  },
  "language_info": {
   "codemirror_mode": {
    "name": "ipython",
    "version": 3
   },
   "file_extension": ".py",
   "mimetype": "text/x-python",
   "name": "python",
   "nbconvert_exporter": "python",
   "pygments_lexer": "ipython3",
   "version": "3.7.0"
  }
 },
 "nbformat": 4,
 "nbformat_minor": 4
}
