{
 "cells": [
  {
   "cell_type": "code",
   "execution_count": 1,
   "metadata": {
    "ExecuteTime": {
     "end_time": "2021-09-30T15:05:03.038831Z",
     "start_time": "2021-09-30T15:05:02.757408Z"
    }
   },
   "outputs": [],
   "source": [
    "import pandas as pd\n",
    "import numpy as np"
   ]
  },
  {
   "cell_type": "code",
   "execution_count": 2,
   "metadata": {
    "ExecuteTime": {
     "end_time": "2021-09-30T15:05:03.908577Z",
     "start_time": "2021-09-30T15:05:03.040302Z"
    }
   },
   "outputs": [],
   "source": [
    "from sklearn.model_selection import cross_val_score\n",
    "from sklearn.model_selection import train_test_split\n",
    "from sklearn.ensemble import RandomForestClassifier\n",
    "from sklearn.metrics import classification_report\n",
    "from sklearn.metrics import confusion_matrix\n",
    "from sklearn.metrics import roc_curve\n",
    "from sklearn.metrics import roc_auc_score\n",
    "import seaborn as sns\n",
    "import matplotlib.pyplot as plt"
   ]
  },
  {
   "cell_type": "code",
   "execution_count": 3,
   "metadata": {
    "ExecuteTime": {
     "end_time": "2021-09-30T15:05:03.912647Z",
     "start_time": "2021-09-30T15:05:03.910589Z"
    }
   },
   "outputs": [],
   "source": [
    "import time"
   ]
  },
  {
   "cell_type": "code",
   "execution_count": 4,
   "metadata": {
    "ExecuteTime": {
     "end_time": "2021-09-30T15:05:09.149256Z",
     "start_time": "2021-09-30T15:05:08.961161Z"
    }
   },
   "outputs": [],
   "source": [
    "df_digest_protein = pd.read_csv('../data/uniprot/df_digest_protein_noptm.csv')"
   ]
  },
  {
   "cell_type": "code",
   "execution_count": 5,
   "metadata": {
    "ExecuteTime": {
     "end_time": "2021-09-30T15:05:10.340891Z",
     "start_time": "2021-09-30T15:05:10.326092Z"
    }
   },
   "outputs": [
    {
     "name": "stdout",
     "output_type": "stream",
     "text": [
      "(3925, 5)\n"
     ]
    },
    {
     "data": {
      "text/html": [
       "<div>\n",
       "<style scoped>\n",
       "    .dataframe tbody tr th:only-of-type {\n",
       "        vertical-align: middle;\n",
       "    }\n",
       "\n",
       "    .dataframe tbody tr th {\n",
       "        vertical-align: top;\n",
       "    }\n",
       "\n",
       "    .dataframe thead th {\n",
       "        text-align: right;\n",
       "    }\n",
       "</style>\n",
       "<table border=\"1\" class=\"dataframe\">\n",
       "  <thead>\n",
       "    <tr style=\"text-align: right;\">\n",
       "      <th></th>\n",
       "      <th>PROTEIN</th>\n",
       "      <th>SEQUENCE</th>\n",
       "      <th>PROTEIN_FULL</th>\n",
       "      <th>SPECTRAL_CNT</th>\n",
       "      <th>SPECTRAL_CNT_MISS</th>\n",
       "    </tr>\n",
       "  </thead>\n",
       "  <tbody>\n",
       "    <tr>\n",
       "      <th>0</th>\n",
       "      <td>sp|Q9NP61|ARFG3_HUMAN</td>\n",
       "      <td>MGDPSKQDILTIFKRLRSVPTNKVCFDCGAKNPSWASITYGVFLCI...</td>\n",
       "      <td>&gt;sp|Q9NP61|ARFG3_HUMAN ADP-ribosylation factor...</td>\n",
       "      <td>M_1;G_8;D_0;P_5;S_0;K_0;Q_5;D_2;I_2;L_2;T_2;I_...</td>\n",
       "      <td>M_1;G_9;D_9;P_14;S_14;K_14;Q_17;D_17;I_17;L_17...</td>\n",
       "    </tr>\n",
       "  </tbody>\n",
       "</table>\n",
       "</div>"
      ],
      "text/plain": [
       "                 PROTEIN                                           SEQUENCE  \\\n",
       "0  sp|Q9NP61|ARFG3_HUMAN  MGDPSKQDILTIFKRLRSVPTNKVCFDCGAKNPSWASITYGVFLCI...   \n",
       "\n",
       "                                        PROTEIN_FULL  \\\n",
       "0  >sp|Q9NP61|ARFG3_HUMAN ADP-ribosylation factor...   \n",
       "\n",
       "                                        SPECTRAL_CNT  \\\n",
       "0  M_1;G_8;D_0;P_5;S_0;K_0;Q_5;D_2;I_2;L_2;T_2;I_...   \n",
       "\n",
       "                                   SPECTRAL_CNT_MISS  \n",
       "0  M_1;G_9;D_9;P_14;S_14;K_14;Q_17;D_17;I_17;L_17...  "
      ]
     },
     "execution_count": 5,
     "metadata": {},
     "output_type": "execute_result"
    }
   ],
   "source": [
    "print(df_digest_protein.shape)\n",
    "df_digest_protein.head(1)"
   ]
  },
  {
   "cell_type": "markdown",
   "metadata": {},
   "source": [
    "# Digestibility Modeling\n",
    "  - labelling followed AP3 paper"
   ]
  },
  {
   "cell_type": "code",
   "execution_count": 6,
   "metadata": {
    "ExecuteTime": {
     "end_time": "2021-09-30T15:05:10.760179Z",
     "start_time": "2021-09-30T15:05:10.745335Z"
    }
   },
   "outputs": [],
   "source": [
    "def labelling_ap3(prot2cnt, prot2cnt_miss, THRESHOLD = 4):  # prot2cnt, prot2cnt_miss must be list split by ;\n",
    "\n",
    "    ts2label = dict()\n",
    "    # protein loop\n",
    "    for idx in range(len(prot2cnt)):\n",
    "        # amino acid loop in one protein\n",
    "        for amino_idx in range(len(prot2cnt[idx])):\n",
    "            # tryptic site : K, R\n",
    "            if prot2cnt[idx][amino_idx][:1] in 'KR':\n",
    "                \n",
    "                # *******TRYPTIC SITE EXTRACTING FROM PROTEIN*******\n",
    "                # tryptic site in protein N-terminal\n",
    "                if amino_idx <= THRESHOLD - 1:\n",
    "                    tryptic_site = 'Z'*(THRESHOLD-amino_idx) + ''.join([a[0] for a in prot2cnt[idx][: amino_idx+THRESHOLD + 1]])  # added Z\n",
    "                # tryptic site in protein C-terminal\n",
    "                elif amino_idx >= len(prot2cnt[idx]) - THRESHOLD:\n",
    "                    tryptic_site = ''.join([a[0] for a in prot2cnt[idx][amino_idx-THRESHOLD: amino_idx+THRESHOLD + 1]]) + 'Z'*(THRESHOLD-(len(prot2cnt[idx])-1)+amino_idx)  # added Z\n",
    "                else:\n",
    "                    tryptic_site = ''.join([a[0] for a in prot2cnt[idx][amino_idx-THRESHOLD: amino_idx+THRESHOLD + 1]])\n",
    "\n",
    "                    \n",
    "                # *******TRYPTIC SITE LABELLING (WHEN POSITIVE)*******\n",
    "                # N-terminal of tryptic site condition\n",
    "                N_Pcondition = int(prot2cnt[idx][amino_idx][2:]) >= 1\n",
    "                # C-terminal of tryptic site condition\n",
    "                if amino_idx == len(prot2cnt[idx]) - 1:  # tryptic site in last position of protein\n",
    "                    C_prot2cntondition = True\n",
    "                else:\n",
    "                    C_prot2cntondition = int(prot2cnt[idx][amino_idx + 1][2:]) >= 1\n",
    "                # miss cleavage of tryptic site contidion\n",
    "                miss_prot2cntondition = int(prot2cnt_miss[idx][amino_idx][2:]) == 0\n",
    "                # True of all above, Positive labeling\n",
    "                P_condition = (N_Pcondition == True) and (C_prot2cntondition == True) and (miss_prot2cntondition == True)\n",
    "\n",
    "                # *******TRYPTIC SITE LABELLING (WHEN NEGATIVE)*******\n",
    "                # N-terminal of tryptic site condition\n",
    "                N_NCondition = int(prot2cnt[idx][amino_idx][2:]) == 0\n",
    "                # C-terminal of tryptic site condition\n",
    "                if amino_idx == len(prot2cnt[idx]) - 1:  # tryptic site in last position of protein\n",
    "                    C_NCondition = False\n",
    "                else:\n",
    "                    C_NCondition = int(prot2cnt[idx][amino_idx + 1][2:]) == 0\n",
    "                # miss cleavage of tryptic site condition\n",
    "                miss_Ncondition = int(prot2cnt_miss[idx][amino_idx][2:]) >= 1\n",
    "                # True of all above, Negative labeling\n",
    "                N_condition = (N_NCondition == True) and (C_NCondition == True) and (miss_Ncondition == True)\n",
    "\n",
    "                # *******MAKING DATASET*******\n",
    "                if P_condition:\n",
    "                    if tryptic_site not in ts2label:\n",
    "                        ts2label[tryptic_site] = []\n",
    "                    ts2label[tryptic_site].append(('P', idx, amino_idx))\n",
    "                elif N_condition:\n",
    "                    if tryptic_site not in ts2label:\n",
    "                        ts2label[tryptic_site] = []\n",
    "                    ts2label[tryptic_site].append(('N', idx, amino_idx))\n",
    "    \n",
    "    # *******JUST FOR COUNTING*******\n",
    "    p = [k for k, v in ts2label.items() if v[0][0]=='P']\n",
    "    n = [k for k, v in ts2label.items() if v[0][0]=='N']\n",
    "    print(' P, unique p: {} \\n n, unique n: {} \\n total : {:,}'.format(\n",
    "         (len(p), len(set(p))), \n",
    "         (len(n), len(set(n))), \n",
    "         len(p)+len(n)))\n",
    "    df = pd.DataFrame({'tryptic_site':p+n, 'label':['P' if i in p else 'N' for i in p+n]})\n",
    "    return df, ts2label"
   ]
  },
  {
   "cell_type": "code",
   "execution_count": 7,
   "metadata": {
    "ExecuteTime": {
     "end_time": "2021-09-30T15:05:11.630640Z",
     "start_time": "2021-09-30T15:05:11.328707Z"
    }
   },
   "outputs": [],
   "source": [
    "prot2cnt = [_.split(';') for _ in df_digest_protein.SPECTRAL_CNT.values]\n",
    "prot2cnt_miss = [_.split(';') for _ in df_digest_protein.SPECTRAL_CNT_MISS.values]"
   ]
  },
  {
   "cell_type": "code",
   "execution_count": 8,
   "metadata": {
    "ExecuteTime": {
     "end_time": "2021-09-30T15:05:19.738512Z",
     "start_time": "2021-09-30T15:05:11.849458Z"
    }
   },
   "outputs": [
    {
     "name": "stdout",
     "output_type": "stream",
     "text": [
      " P, unique p: (21382, 21382) \n",
      " n, unique n: (9076, 9076) \n",
      " total : 30,458\n"
     ]
    }
   ],
   "source": [
    "df_digest, ts2label = labelling_ap3(prot2cnt, prot2cnt_miss, THRESHOLD=4)  # ts2label is just for checking"
   ]
  },
  {
   "cell_type": "markdown",
   "metadata": {},
   "source": [
    "* train digestibility model"
   ]
  },
  {
   "cell_type": "code",
   "execution_count": 9,
   "metadata": {
    "ExecuteTime": {
     "end_time": "2021-09-30T15:05:19.745436Z",
     "start_time": "2021-09-30T15:05:19.741755Z"
    }
   },
   "outputs": [],
   "source": [
    "def onehot_enc(aa):\n",
    "    return [1 if aa == a else 0 for a in 'ARNDCQEGHILKMFPSTWYVZ']"
   ]
  },
  {
   "cell_type": "code",
   "execution_count": 10,
   "metadata": {
    "ExecuteTime": {
     "end_time": "2021-09-30T15:05:27.986577Z",
     "start_time": "2021-09-30T15:05:19.746850Z"
    }
   },
   "outputs": [
    {
     "name": "stdout",
     "output_type": "stream",
     "text": [
      "(30458, 189) (30458,) (22843, 189) (7615, 189) (22843,) (7615,)\n"
     ]
    },
    {
     "data": {
      "text/plain": [
       "RandomForestClassifier(max_features='sqrt', n_estimators=200)"
      ]
     },
     "execution_count": 10,
     "metadata": {},
     "output_type": "execute_result"
    }
   ],
   "source": [
    "X = np.array([[__ for _ in ts for __ in onehot_enc(_)] for ts in df_digest.tryptic_site.values])\n",
    "y = df_digest.label.values\n",
    "X_train, X_test, y_train, y_test = train_test_split(X, y,\n",
    "                                                    test_size=0.25, random_state=77)\n",
    "print(X.shape, y.shape, X_train.shape, X_test.shape, y_train.shape, y_test.shape)\n",
    "RF_digest = RandomForestClassifier(n_estimators=200, max_features='sqrt')\n",
    "RF_digest.fit(X_train, y_train)"
   ]
  },
  {
   "cell_type": "code",
   "execution_count": 11,
   "metadata": {
    "ExecuteTime": {
     "end_time": "2021-09-30T15:05:28.872372Z",
     "start_time": "2021-09-30T15:05:27.987982Z"
    }
   },
   "outputs": [
    {
     "name": "stdout",
     "output_type": "stream",
     "text": [
      "              precision    recall  f1-score   support\n",
      "\n",
      "           N       0.87      0.67      0.76      2241\n",
      "           P       0.88      0.96      0.91      5374\n",
      "\n",
      "    accuracy                           0.87      7615\n",
      "   macro avg       0.87      0.82      0.84      7615\n",
      "weighted avg       0.87      0.87      0.87      7615\n",
      "\n",
      "AUC : 0.9143973653369629\n"
     ]
    }
   ],
   "source": [
    "y_pred = RF_digest.predict(X_test)\n",
    "print(classification_report(y_test, y_pred))\n",
    "probs = RF_digest.predict_proba(X_test)[:, 1]\n",
    "rf_auc = roc_auc_score(y_test, probs)\n",
    "print('AUC : {}'.format(rf_auc))"
   ]
  },
  {
   "cell_type": "code",
   "execution_count": 12,
   "metadata": {
    "ExecuteTime": {
     "end_time": "2021-09-30T15:05:38.335582Z",
     "start_time": "2021-09-30T15:05:28.873705Z"
    }
   },
   "outputs": [
    {
     "data": {
      "text/plain": [
       "RandomForestClassifier(max_features='sqrt', n_estimators=200)"
      ]
     },
     "execution_count": 12,
     "metadata": {},
     "output_type": "execute_result"
    }
   ],
   "source": [
    "RF_digest = RandomForestClassifier(n_estimators=200, max_features='sqrt')\n",
    "RF_digest.fit(X, y)  # for adjusting Detectability"
   ]
  },
  {
   "cell_type": "markdown",
   "metadata": {},
   "source": [
    "# Detectability\n",
    "  - large dataset"
   ]
  },
  {
   "cell_type": "code",
   "execution_count": 13,
   "metadata": {
    "ExecuteTime": {
     "end_time": "2021-09-30T15:05:38.340821Z",
     "start_time": "2021-09-30T15:05:38.337225Z"
    }
   },
   "outputs": [],
   "source": [
    "def cal_digestibility(seq_li, model):\n",
    "    noseq_idx = [idx for idx, _ in enumerate(seq_li) if _ == '-']\n",
    "    X = np.array([[__ for _ in seq for __ in onehot_enc(_)] if seq != '-' else [0]*189 for seq in seq_li])\n",
    "    y_pred = model.predict_proba(X)[:, 1]  # positive probability = digestibility\n",
    "    y_pred[noseq_idx] = 1\n",
    "    return y_pred"
   ]
  },
  {
   "cell_type": "code",
   "execution_count": 14,
   "metadata": {
    "ExecuteTime": {
     "end_time": "2021-09-30T15:05:38.353918Z",
     "start_time": "2021-09-30T15:05:38.342110Z"
    }
   },
   "outputs": [],
   "source": [
    "def labelling_detect(df, aa2val, RF_digest):\n",
    "    df_ = df.copy()\n",
    "    # set tryptic site 9mer\n",
    "    df_['miss'] = [sum([1 for _ in p[:-1] if _ in 'KR']) for p in df_.PEP.values]\n",
    "    df_['En'] = df_.En.apply(lambda x: x[3:-3]).values\n",
    "    df_['Ec'] = df_.Ec.apply(lambda x: x[3:-3]).values\n",
    "    df_['E1'] = df_.E1.apply(lambda x: x[3:-3] if x != '-' else '-').values\n",
    "    df_['E2'] = df_.E2.apply(lambda x: x[3:-3] if x != '-' else '-').values\n",
    "\n",
    "    # digestibility\n",
    "    score_n = cal_digestibility(df_.En.values, RF_digest)\n",
    "    score_c = cal_digestibility(df_.Ec.values, RF_digest)\n",
    "    score_m1 = cal_digestibility(df_.E1.values, RF_digest)\n",
    "    score_m2 = cal_digestibility(df_.E2.values, RF_digest)\n",
    "    df_['digestibility'] = score_n * score_c * score_m1 * score_m2\n",
    "    \n",
    "    # get AA index\n",
    "    cols = list(range(21+len(aa2val['A'])))  # aa_cnt + aa_index length sum \n",
    "    cols_value = []\n",
    "    for seq in df_.PEP.values:\n",
    "        aa_cnt = [seq.count(a) for a in 'ARNDCQEGHILKMFPSTWYVZ']\n",
    "        aa_index = list(np.array([aa2val[aa] for aa in seq]).sum(axis=0))\n",
    "        cols_value.append(aa_cnt+aa_index)\n",
    "    df_[cols] = cols_value\n",
    "\n",
    "    df_.drop(['peptide', 'En', 'Ec', 'E1', 'E2', 'protein', 'PEP'], axis=1, inplace=True)\n",
    "    return df_"
   ]
  },
  {
   "cell_type": "code",
   "execution_count": 24,
   "metadata": {
    "ExecuteTime": {
     "end_time": "2021-09-30T15:22:38.983964Z",
     "start_time": "2021-09-30T15:22:37.789558Z"
    }
   },
   "outputs": [],
   "source": [
    "df_detect_peptide_train = pd.read_csv('../data/df_detect_peptide_train_noptm_210930_includeDigest.csv')\n",
    "df_detect_peptide_test = pd.read_csv('../data/df_detect_peptide_test_noptm_210930_includeDigest.csv')\n",
    "\n",
    "# AA index\n",
    "df_aaindex = pd.read_csv('../data/aaindex/df_aaindex.csv')\n",
    "tmp = df_aaindex.drop('Unnamed: 0',axis=1).T\n",
    "aa2val = dict()\n",
    "for aa, val in zip(tmp.index, tmp.values):\n",
    "    aa2val[aa]=val"
   ]
  },
  {
   "cell_type": "code",
   "execution_count": 25,
   "metadata": {
    "ExecuteTime": {
     "end_time": "2021-09-30T15:28:47.524941Z",
     "start_time": "2021-09-30T15:22:41.124737Z"
    }
   },
   "outputs": [],
   "source": [
    "train = labelling_detect(df_detect_peptide_train, aa2val, RF_digest)"
   ]
  },
  {
   "cell_type": "code",
   "execution_count": 27,
   "metadata": {
    "ExecuteTime": {
     "end_time": "2021-09-30T15:31:20.357833Z",
     "start_time": "2021-09-30T15:28:47.531929Z"
    }
   },
   "outputs": [
    {
     "name": "stderr",
     "output_type": "stream",
     "text": [
      "100%|██████████| 50/50 [02:21<00:00,  2.82s/it]\n"
     ]
    }
   ],
   "source": [
    "from mrmr import mrmr_classif\n",
    "\n",
    "X = train.drop('ID', axis=1)\n",
    "y = train.ID\n",
    "\n",
    "# use mrmr classification\n",
    "selected_features = mrmr_classif(X, y, K = 50)"
   ]
  },
  {
   "cell_type": "code",
   "execution_count": 28,
   "metadata": {
    "ExecuteTime": {
     "end_time": "2021-09-30T15:40:54.448220Z",
     "start_time": "2021-09-30T15:31:20.359725Z"
    }
   },
   "outputs": [],
   "source": [
    "df = pd.concat([df_detect_peptide_train, df_detect_peptide_test], axis=0)\n",
    "train_idx = df_detect_peptide_train.shape[0]\n",
    "df_ = labelling_detect(df, aa2val, RF_digest)\n",
    "\n",
    "train_final = df_.iloc[:train_idx]\n",
    "test_final = df_.iloc[train_idx:]\n",
    "\n",
    "cols = selected_features[:29] + ['ID']\n",
    "train = train_final[cols]\n",
    "test = test_final[cols]"
   ]
  },
  {
   "cell_type": "code",
   "execution_count": 29,
   "metadata": {
    "ExecuteTime": {
     "end_time": "2021-09-30T15:40:54.590633Z",
     "start_time": "2021-09-30T15:40:54.450093Z"
    }
   },
   "outputs": [
    {
     "name": "stdout",
     "output_type": "stream",
     "text": [
      "(421474, 29) (88998, 29) (421474,) (88998,)\n"
     ]
    }
   ],
   "source": [
    "X_train = train.drop('ID', axis=1).values\n",
    "y_train = train.ID.values\n",
    "X_test = test.drop('ID', axis=1).values\n",
    "y_test = test.ID.values\n",
    "print(X_train.shape, X_test.shape, y_train.shape, y_test.shape)"
   ]
  },
  {
   "cell_type": "code",
   "execution_count": 48,
   "metadata": {
    "ExecuteTime": {
     "end_time": "2021-09-30T16:27:50.401473Z",
     "start_time": "2021-09-30T16:19:51.680290Z"
    }
   },
   "outputs": [
    {
     "data": {
      "text/plain": [
       "RandomForestClassifier(max_features='sqrt', n_estimators=200)"
      ]
     },
     "execution_count": 48,
     "metadata": {},
     "output_type": "execute_result"
    }
   ],
   "source": [
    "RF_detect = RandomForestClassifier(n_estimators=200, max_features='sqrt')\n",
    "RF_detect.fit(X_train, y_train)"
   ]
  },
  {
   "cell_type": "code",
   "execution_count": 31,
   "metadata": {
    "ExecuteTime": {
     "end_time": "2021-09-30T15:48:51.389086Z",
     "start_time": "2021-09-30T15:48:35.178961Z"
    }
   },
   "outputs": [
    {
     "name": "stdout",
     "output_type": "stream",
     "text": [
      "              precision    recall  f1-score   support\n",
      "\n",
      "           0       0.86      0.78      0.82     44509\n",
      "           1       0.80      0.88      0.84     44489\n",
      "\n",
      "    accuracy                           0.83     88998\n",
      "   macro avg       0.83      0.83      0.83     88998\n",
      "weighted avg       0.83      0.83      0.83     88998\n",
      "\n",
      "rf auc : 0.9134609907642045\n"
     ]
    },
    {
     "data": {
      "image/png": "[encoded data removed]",
      "text/plain": [
       "<Figure size 288x288 with 1 Axes>"
      ]
     },
     "metadata": {
      "needs_background": "light"
     },
     "output_type": "display_data"
    }
   ],
   "source": [
    "# prediction\n",
    "y_pred = RF_detect.predict(X_test)\n",
    "print(classification_report(y_test, y_pred))\n",
    "\n",
    "# AUC\n",
    "probs = RF_detect.predict_proba(X_test)[:, 1]\n",
    "rf_auc = roc_auc_score(y_test, probs)\n",
    "print('rf auc : {}'.format(rf_auc))\n",
    "# plot the roc curve for the model\n",
    "rf_fpr, rf_tpr, _ = roc_curve(y_test, probs)\n",
    "plt.figure(figsize=(4, 4))\n",
    "plt.plot(rf_fpr, rf_tpr, marker='.', label='RF AUC = {:.4f}'.format(rf_auc), color='orange')\n",
    "plt.title('ROC curve')\n",
    "# axis labels\n",
    "plt.xlabel('False Positive Rate')\n",
    "plt.ylabel('True Positive Rate')\n",
    "# show the legend\n",
    "plt.legend()\n",
    "# show the plot\n",
    "plt.show()"
   ]
  },
  {
   "cell_type": "markdown",
   "metadata": {},
   "source": [
    "# Detectability\n",
    " - original"
   ]
  },
  {
   "cell_type": "code",
   "execution_count": 32,
   "metadata": {
    "ExecuteTime": {
     "end_time": "2021-09-30T15:55:51.904707Z",
     "start_time": "2021-09-30T15:48:51.391813Z"
    }
   },
   "outputs": [
    {
     "name": "stdout",
     "output_type": "stream",
     "text": [
      "(177997, 29) (44499, 29) (177997,) (44499,)\n",
      "              precision    recall  f1-score   support\n",
      "\n",
      "           0       0.85      0.80      0.82     22330\n",
      "           1       0.81      0.86      0.83     22169\n",
      "\n",
      "    accuracy                           0.83     44499\n",
      "   macro avg       0.83      0.83      0.83     44499\n",
      "weighted avg       0.83      0.83      0.83     44499\n",
      "\n",
      "rf auc : 0.9126150262435632\n"
     ]
    },
    {
     "data": {
      "image/png": "[encoded data removed]",
      "text/plain": [
       "<Figure size 288x288 with 1 Axes>"
      ]
     },
     "metadata": {
      "needs_background": "light"
     },
     "output_type": "display_data"
    }
   ],
   "source": [
    "df_detect_peptide_train_ori = pd.read_csv('../data/df_detect_peptide_train_noptm.csv')\n",
    "df_detect_peptide_test_ori = pd.read_csv('../data/df_detect_peptide_test_noptm.csv')\n",
    "\n",
    "df = pd.concat([df_detect_peptide_train_ori, df_detect_peptide_test_ori], axis=0)\n",
    "train_idx = df_detect_peptide_train_ori.shape[0]\n",
    "df_ = labelling_detect(df, aa2val, RF_digest)\n",
    "train_final = df_.iloc[:train_idx]\n",
    "test_final = df_.iloc[train_idx:]\n",
    "cols = selected_features[:29] + ['ID']\n",
    "train = train_final[cols]\n",
    "test = test_final[cols]\n",
    "\n",
    "X_train_ori = train.drop('ID', axis=1).values\n",
    "y_train_ori = train.ID.values\n",
    "X_test_ori = test.drop('ID', axis=1).values\n",
    "y_test_ori = test.ID.values\n",
    "print(X_train_ori.shape, X_test_ori.shape, y_train_ori.shape, y_test_ori.shape)\n",
    "\n",
    "RF_detect_ori = RandomForestClassifier(n_estimators=200, max_features='sqrt')\n",
    "RF_detect_ori.fit(X_train_ori, y_train_ori)\n",
    "\n",
    "# prediction\n",
    "y_pred = RF_detect_ori.predict(X_test_ori)\n",
    "print(classification_report(y_test_ori, y_pred))\n",
    "\n",
    "# AUC\n",
    "probs = RF_detect_ori.predict_proba(X_test_ori)[:, 1]\n",
    "rf_auc = roc_auc_score(y_test_ori, probs)\n",
    "print('rf auc : {}'.format(rf_auc))\n",
    "# plot the roc curve for the model\n",
    "rf_fpr, rf_tpr, _ = roc_curve(y_test_ori, probs)\n",
    "plt.figure(figsize=(4, 4))\n",
    "plt.plot(rf_fpr, rf_tpr, marker='.', label='RF AUC = {:.4f}'.format(rf_auc), color='orange')\n",
    "plt.title('ROC curve')\n",
    "# axis labels\n",
    "plt.xlabel('False Positive Rate')\n",
    "plt.ylabel('True Positive Rate')\n",
    "# show the legend\n",
    "plt.legend()\n",
    "# show the plot\n",
    "plt.show()"
   ]
  },
  {
   "cell_type": "code",
   "execution_count": 47,
   "metadata": {
    "ExecuteTime": {
     "end_time": "2021-09-30T16:19:15.070682Z",
     "start_time": "2021-09-30T16:19:12.975859Z"
    }
   },
   "outputs": [
    {
     "name": "stdout",
     "output_type": "stream",
     "text": [
      "44499 88998 44499\n"
     ]
    }
   ],
   "source": [
    "ori = []\n",
    "large=[]\n",
    "for o, l in zip(X_test_ori, X_test):\n",
    "    o = ';'.join(list(map(str, o)))\n",
    "    l = ';'.join(list(map(str, l)))\n",
    "    if o == l:\n",
    "        ori.append(o)\n",
    "        large.append(l)\n",
    "\n",
    "print(X_test_ori.shape[0], X_test.shape[0], len(ori)) # ori_set이 large_set에 다 포함됨"
   ]
  },
  {
   "cell_type": "code",
   "execution_count": 49,
   "metadata": {
    "ExecuteTime": {
     "end_time": "2021-09-30T16:27:59.215217Z",
     "start_time": "2021-09-30T16:27:50.403774Z"
    }
   },
   "outputs": [
    {
     "name": "stdout",
     "output_type": "stream",
     "text": [
      "              precision    recall  f1-score   support\n",
      "\n",
      "           0       0.86      0.78      0.82     22330\n",
      "           1       0.80      0.87      0.83     22169\n",
      "\n",
      "    accuracy                           0.83     44499\n",
      "   macro avg       0.83      0.83      0.83     44499\n",
      "weighted avg       0.83      0.83      0.83     44499\n",
      "\n",
      "rf auc : 0.9130748958803356\n"
     ]
    },
    {
     "data": {
      "image/png": "[encoded data removed]",
      "text/plain": [
       "<Figure size 288x288 with 1 Axes>"
      ]
     },
     "metadata": {
      "needs_background": "light"
     },
     "output_type": "display_data"
    }
   ],
   "source": [
    "# prediction\n",
    "y_pred = RF_detect.predict(X_test_ori)\n",
    "print(classification_report(y_test_ori, y_pred))\n",
    "# AUC\n",
    "probs = RF_detect.predict_proba(X_test_ori)[:, 1]\n",
    "rf_auc = roc_auc_score(y_test_ori, probs)\n",
    "print('rf auc : {}'.format(rf_auc))\n",
    "# plot the roc curve for the model\n",
    "rf_fpr, rf_tpr, _ = roc_curve(y_test_ori, probs)\n",
    "plt.figure(figsize=(4, 4))\n",
    "plt.plot(rf_fpr, rf_tpr, marker='.', label='RF AUC = {:.4f}'.format(rf_auc), color='orange')\n",
    "plt.title('ROC curve')\n",
    "# axis labels\n",
    "plt.xlabel('False Positive Rate')\n",
    "plt.ylabel('True Positive Rate')\n",
    "# show the legend\n",
    "plt.legend()\n",
    "# show the plot\n",
    "plt.show()"
   ]
  },
  {
   "cell_type": "code",
   "execution_count": null,
   "metadata": {},
   "outputs": [],
   "source": [
    "# 비슷하므로 largedataset사용해도 되겠다."
   ]
  },
  {
   "cell_type": "markdown",
   "metadata": {},
   "source": [
    "# tool result ....ㅋ"
   ]
  },
  {
   "cell_type": "code",
   "execution_count": 52,
   "metadata": {
    "ExecuteTime": {
     "end_time": "2021-09-30T17:30:24.143412Z",
     "start_time": "2021-09-30T17:30:22.134615Z"
    }
   },
   "outputs": [],
   "source": [
    "ap3_result = pd.read_csv('../data/uniprot/DetectabilitiesOfPeptides.txt', sep='\\t')"
   ]
  },
  {
   "cell_type": "code",
   "execution_count": 60,
   "metadata": {
    "ExecuteTime": {
     "end_time": "2021-09-30T17:32:50.996691Z",
     "start_time": "2021-09-30T17:32:49.057389Z"
    }
   },
   "outputs": [],
   "source": [
    "ap3_common = ap3_result.merge(df_detect_peptide_test_ori, left_on=['Protein id', 'Peptide sequence'], right_on=['protein', 'PEP'], how='inner')\n",
    "ap3_pred = ap3_common['Peptide detectability'].values"
   ]
  },
  {
   "cell_type": "code",
   "execution_count": 76,
   "metadata": {
    "ExecuteTime": {
     "end_time": "2021-09-30T17:35:23.356873Z",
     "start_time": "2021-09-30T17:35:23.259938Z"
    }
   },
   "outputs": [
    {
     "name": "stdout",
     "output_type": "stream",
     "text": [
      "              precision    recall  f1-score   support\n",
      "\n",
      "           0       0.50      0.57      0.54     22330\n",
      "           1       0.50      0.43      0.46     22169\n",
      "\n",
      "    accuracy                           0.50     44499\n",
      "   macro avg       0.50      0.50      0.50     44499\n",
      "weighted avg       0.50      0.50      0.50     44499\n",
      "\n"
     ]
    }
   ],
   "source": [
    "# prediction\n",
    "ap3_p = np.array([1 if _>=0.5 else 0 for _ in ap3_pred])\n",
    "print(classification_report(y_test_ori, ap3_p))"
   ]
  },
  {
   "cell_type": "code",
   "execution_count": 77,
   "metadata": {
    "ExecuteTime": {
     "end_time": "2021-09-30T17:36:03.240454Z",
     "start_time": "2021-09-30T17:36:02.963982Z"
    }
   },
   "outputs": [
    {
     "name": "stdout",
     "output_type": "stream",
     "text": [
      "rf auc : 0.49878438697222616\n"
     ]
    },
    {
     "data": {
      "image/png": "[encoded data removed]",
      "text/plain": [
       "<Figure size 288x288 with 1 Axes>"
      ]
     },
     "metadata": {
      "needs_background": "light"
     },
     "output_type": "display_data"
    }
   ],
   "source": [
    "# AUC\n",
    "rf_auc = roc_auc_score(y_test_ori, ap3_pred)\n",
    "print('rf auc : {}'.format(rf_auc))\n",
    "# plot the roc curve for the model\n",
    "rf_fpr, rf_tpr, _ = roc_curve(y_test_ori, ap3_pred)\n",
    "plt.figure(figsize=(4, 4))\n",
    "plt.plot(rf_fpr, rf_tpr, marker='.', label='RF AUC = {:.4f}'.format(rf_auc), color='orange')\n",
    "plt.title('ROC curve')\n",
    "# axis labels\n",
    "plt.xlabel('False Positive Rate')\n",
    "plt.ylabel('True Positive Rate')\n",
    "# show the legend\n",
    "plt.legend()\n",
    "# show the plot\n",
    "plt.show()"
   ]
  },
  {
   "cell_type": "code",
   "execution_count": 79,
   "metadata": {
    "ExecuteTime": {
     "end_time": "2021-09-30T17:36:35.605747Z",
     "start_time": "2021-09-30T17:36:35.579401Z"
    },
    "scrolled": true
   },
   "outputs": [
    {
     "data": {
      "text/html": [
       "<div>\n",
       "<style scoped>\n",
       "    .dataframe tbody tr th:only-of-type {\n",
       "        vertical-align: middle;\n",
       "    }\n",
       "\n",
       "    .dataframe tbody tr th {\n",
       "        vertical-align: top;\n",
       "    }\n",
       "\n",
       "    .dataframe thead th {\n",
       "        text-align: right;\n",
       "    }\n",
       "</style>\n",
       "<table border=\"1\" class=\"dataframe\">\n",
       "  <thead>\n",
       "    <tr style=\"text-align: right;\">\n",
       "      <th></th>\n",
       "      <th>Peptide sequence</th>\n",
       "      <th>Protein id</th>\n",
       "      <th>Peptide detectability</th>\n",
       "      <th>peptide</th>\n",
       "      <th>En</th>\n",
       "      <th>Ec</th>\n",
       "      <th>E1</th>\n",
       "      <th>E2</th>\n",
       "      <th>protein</th>\n",
       "      <th>PEP</th>\n",
       "      <th>ID</th>\n",
       "    </tr>\n",
       "  </thead>\n",
       "  <tbody>\n",
       "    <tr>\n",
       "      <th>0</th>\n",
       "      <td>NTLYLQMGSLR</td>\n",
       "      <td>sp|A0A075B6Q5|HV364_HUMAN</td>\n",
       "      <td>0.95000</td>\n",
       "      <td>K.NTLYLQMGSLR.A</td>\n",
       "      <td>TISRDNSKNTLYLQM</td>\n",
       "      <td>YLQMGSLRAEDMAVY</td>\n",
       "      <td>-</td>\n",
       "      <td>-</td>\n",
       "      <td>sp|A0A075B6Q5|HV364_HUMAN</td>\n",
       "      <td>NTLYLQMGSLR</td>\n",
       "      <td>1</td>\n",
       "    </tr>\n",
       "    <tr>\n",
       "      <th>1</th>\n",
       "      <td>AEAPPGSK</td>\n",
       "      <td>sp|A0A087WXM9|MEIKN_HUMAN</td>\n",
       "      <td>0.75000</td>\n",
       "      <td>K.AEAPPGSK.R</td>\n",
       "      <td>PDLGSPAKAEAPPGS</td>\n",
       "      <td>AEAPPGSKRKGKVHG</td>\n",
       "      <td>-</td>\n",
       "      <td>-</td>\n",
       "      <td>sp|A0A087WXM9|MEIKN_HUMAN</td>\n",
       "      <td>AEAPPGSK</td>\n",
       "      <td>0</td>\n",
       "    </tr>\n",
       "    <tr>\n",
       "      <th>2</th>\n",
       "      <td>APQFSNVSAIFSTSSEDYQK</td>\n",
       "      <td>sp|A0A087WXM9|MEIKN_HUMAN</td>\n",
       "      <td>0.93500</td>\n",
       "      <td>K.APQFSNVSAIFSTSSEDYQK.C</td>\n",
       "      <td>SKAVAIEKAPQFSNV</td>\n",
       "      <td>TSSEDYQKCHRKTVM</td>\n",
       "      <td>-</td>\n",
       "      <td>-</td>\n",
       "      <td>sp|A0A087WXM9|MEIKN_HUMAN</td>\n",
       "      <td>APQFSNVSAIFSTSSEDYQK</td>\n",
       "      <td>1</td>\n",
       "    </tr>\n",
       "    <tr>\n",
       "      <th>3</th>\n",
       "      <td>DTPQDIIIK</td>\n",
       "      <td>sp|A0A087WXM9|MEIKN_HUMAN</td>\n",
       "      <td>0.73000</td>\n",
       "      <td>K.DTPQDIIIK.M</td>\n",
       "      <td>KKKYSLPKDTPQDII</td>\n",
       "      <td>TPQDIIIKMAZZZZZ</td>\n",
       "      <td>-</td>\n",
       "      <td>-</td>\n",
       "      <td>sp|A0A087WXM9|MEIKN_HUMAN</td>\n",
       "      <td>DTPQDIIIK</td>\n",
       "      <td>1</td>\n",
       "    </tr>\n",
       "    <tr>\n",
       "      <th>4</th>\n",
       "      <td>LGVTGEKSLQENR</td>\n",
       "      <td>sp|A0A087WXM9|MEIKN_HUMAN</td>\n",
       "      <td>0.09500</td>\n",
       "      <td>R.LGVTGEKSLQENR.S</td>\n",
       "      <td>GSGPFSPRLGVTGEK</td>\n",
       "      <td>EKSLQENRSSEDTQD</td>\n",
       "      <td>RLGVTGEKSLQENRS</td>\n",
       "      <td>-</td>\n",
       "      <td>sp|A0A087WXM9|MEIKN_HUMAN</td>\n",
       "      <td>LGVTGEKSLQENR</td>\n",
       "      <td>1</td>\n",
       "    </tr>\n",
       "    <tr>\n",
       "      <th>5</th>\n",
       "      <td>SFEESFPSPELFRK</td>\n",
       "      <td>sp|A0A087WXM9|MEIKN_HUMAN</td>\n",
       "      <td>0.59000</td>\n",
       "      <td>K.SFEESFPSPELFRK.S</td>\n",
       "      <td>TDSYAEYKSFEESFP</td>\n",
       "      <td>PSPELFRKSDYLDWE</td>\n",
       "      <td>FPSPELFRKSDYLDW</td>\n",
       "      <td>-</td>\n",
       "      <td>sp|A0A087WXM9|MEIKN_HUMAN</td>\n",
       "      <td>SFEESFPSPELFRK</td>\n",
       "      <td>1</td>\n",
       "    </tr>\n",
       "    <tr>\n",
       "      <th>6</th>\n",
       "      <td>APQFSNVSAIFSTSSEDYQKCHR</td>\n",
       "      <td>sp|A0A087WXM9|MEIKN_HUMAN</td>\n",
       "      <td>0.47000</td>\n",
       "      <td>K.APQFSNVSAIFSTSSEDYQKCHR.K</td>\n",
       "      <td>SKAVAIEKAPQFSNV</td>\n",
       "      <td>EDYQKCHRKTVMTVA</td>\n",
       "      <td>TSSEDYQKCHRKTVM</td>\n",
       "      <td>-</td>\n",
       "      <td>sp|A0A087WXM9|MEIKN_HUMAN</td>\n",
       "      <td>APQFSNVSAIFSTSSEDYQKCHR</td>\n",
       "      <td>0</td>\n",
       "    </tr>\n",
       "    <tr>\n",
       "      <th>7</th>\n",
       "      <td>REGQRLNLTPTPDLGSPAK</td>\n",
       "      <td>sp|A0A087WXM9|MEIKN_HUMAN</td>\n",
       "      <td>0.10000</td>\n",
       "      <td>K.REGQRLNLTPTPDLGSPAK.A</td>\n",
       "      <td>LRVYTRKKREGQRLN</td>\n",
       "      <td>PDLGSPAKAEAPPGS</td>\n",
       "      <td>RVYTRKKREGQRLNL</td>\n",
       "      <td>RKKREGQRLNLTPTP</td>\n",
       "      <td>sp|A0A087WXM9|MEIKN_HUMAN</td>\n",
       "      <td>REGQRLNLTPTPDLGSPAK</td>\n",
       "      <td>0</td>\n",
       "    </tr>\n",
       "    <tr>\n",
       "      <th>8</th>\n",
       "      <td>QVKNKGVIVK</td>\n",
       "      <td>sp|A0A087WXM9|MEIKN_HUMAN</td>\n",
       "      <td>0.07000</td>\n",
       "      <td>R.QVKNKGVIVK.K</td>\n",
       "      <td>IRTSPGTRQVKNKGV</td>\n",
       "      <td>KNKGVIVKKKKYSLP</td>\n",
       "      <td>SPGTRQVKNKGVIVK</td>\n",
       "      <td>GTRQVKNKGVIVKKK</td>\n",
       "      <td>sp|A0A087WXM9|MEIKN_HUMAN</td>\n",
       "      <td>QVKNKGVIVK</td>\n",
       "      <td>0</td>\n",
       "    </tr>\n",
       "    <tr>\n",
       "      <th>9</th>\n",
       "      <td>DPALTVDLGDSEK</td>\n",
       "      <td>sp|A0A096LP49|CC187_HUMAN</td>\n",
       "      <td>0.78000</td>\n",
       "      <td>R.DPALTVDLGDSEK.V</td>\n",
       "      <td>HHSKDPSRDPALTVD</td>\n",
       "      <td>VDLGDSEKVIAAKCS</td>\n",
       "      <td>-</td>\n",
       "      <td>-</td>\n",
       "      <td>sp|A0A096LP49|CC187_HUMAN</td>\n",
       "      <td>DPALTVDLGDSEK</td>\n",
       "      <td>1</td>\n",
       "    </tr>\n",
       "    <tr>\n",
       "      <th>10</th>\n",
       "      <td>SPFPQQPWSAVATQPCPR</td>\n",
       "      <td>sp|A0A096LP49|CC187_HUMAN</td>\n",
       "      <td>0.59500</td>\n",
       "      <td>R.SPFPQQPWSAVATQPCPR.R</td>\n",
       "      <td>PGSPPEKRSPFPQQP</td>\n",
       "      <td>VATQPCPRRAWTACE</td>\n",
       "      <td>-</td>\n",
       "      <td>-</td>\n",
       "      <td>sp|A0A096LP49|CC187_HUMAN</td>\n",
       "      <td>SPFPQQPWSAVATQPCPR</td>\n",
       "      <td>0</td>\n",
       "    </tr>\n",
       "    <tr>\n",
       "      <th>11</th>\n",
       "      <td>VTSGMVLGGQEAPGSFCLCLNR</td>\n",
       "      <td>sp|A0A096LP49|CC187_HUMAN</td>\n",
       "      <td>0.38500</td>\n",
       "      <td>K.VTSGMVLGGQEAPGSFCLCLNR.A</td>\n",
       "      <td>SPVLEWSKVTSGMVL</td>\n",
       "      <td>SFCLCLNRAWNHAET</td>\n",
       "      <td>-</td>\n",
       "      <td>-</td>\n",
       "      <td>sp|A0A096LP49|CC187_HUMAN</td>\n",
       "      <td>VTSGMVLGGQEAPGSFCLCLNR</td>\n",
       "      <td>0</td>\n",
       "    </tr>\n",
       "    <tr>\n",
       "      <th>12</th>\n",
       "      <td>AADWKAVAK</td>\n",
       "      <td>sp|A0A096LP49|CC187_HUMAN</td>\n",
       "      <td>0.19000</td>\n",
       "      <td>R.AADWKAVAK.P</td>\n",
       "      <td>FSHGAPGRAADWKAV</td>\n",
       "      <td>ADWKAVAKPRLCAPA</td>\n",
       "      <td>PGRAADWKAVAKPRL</td>\n",
       "      <td>-</td>\n",
       "      <td>sp|A0A096LP49|CC187_HUMAN</td>\n",
       "      <td>AADWKAVAK</td>\n",
       "      <td>1</td>\n",
       "    </tr>\n",
       "    <tr>\n",
       "      <th>13</th>\n",
       "      <td>VSQHQVPVLREK</td>\n",
       "      <td>sp|A0A096LP49|CC187_HUMAN</td>\n",
       "      <td>0.15000</td>\n",
       "      <td>R.VSQHQVPVLREK.P</td>\n",
       "      <td>GQGRELSRVSQHQVP</td>\n",
       "      <td>QVPVLREKPKRVKSS</td>\n",
       "      <td>QHQVPVLREKPKRVK</td>\n",
       "      <td>-</td>\n",
       "      <td>sp|A0A096LP49|CC187_HUMAN</td>\n",
       "      <td>VSQHQVPVLREK</td>\n",
       "      <td>1</td>\n",
       "    </tr>\n",
       "    <tr>\n",
       "      <th>14</th>\n",
       "      <td>GGQELGPSKR</td>\n",
       "      <td>sp|A0A096LP49|CC187_HUMAN</td>\n",
       "      <td>0.27375</td>\n",
       "      <td>K.GGQELGPSKR.R</td>\n",
       "      <td>LELAQARKGGQELGP</td>\n",
       "      <td>QELGPSKRRLQDVAG</td>\n",
       "      <td>GQELGPSKRRLQDVA</td>\n",
       "      <td>-</td>\n",
       "      <td>sp|A0A096LP49|CC187_HUMAN</td>\n",
       "      <td>GGQELGPSKR</td>\n",
       "      <td>0</td>\n",
       "    </tr>\n",
       "    <tr>\n",
       "      <th>15</th>\n",
       "      <td>LGHFSQRPWSALAGQACSPQR</td>\n",
       "      <td>sp|A0A096LP49|CC187_HUMAN</td>\n",
       "      <td>0.65000</td>\n",
       "      <td>R.LGHFSQRPWSALAGQACSPQR.A</td>\n",
       "      <td>RPESPHERLGHFSQR</td>\n",
       "      <td>GQACSPQRAWGAQRQ</td>\n",
       "      <td>RLGHFSQRPWSALAG</td>\n",
       "      <td>-</td>\n",
       "      <td>sp|A0A096LP49|CC187_HUMAN</td>\n",
       "      <td>LGHFSQRPWSALAGQACSPQR</td>\n",
       "      <td>0</td>\n",
       "    </tr>\n",
       "    <tr>\n",
       "      <th>16</th>\n",
       "      <td>PWSALAGQACSPQRAWGAQR</td>\n",
       "      <td>sp|A0A096LP49|CC187_HUMAN</td>\n",
       "      <td>0.04500</td>\n",
       "      <td>R.PWSALAGQACSPQRAWGAQR.Q</td>\n",
       "      <td>RLGHFSQRPWSALAG</td>\n",
       "      <td>QRAWGAQRQGPSSQR</td>\n",
       "      <td>GQACSPQRAWGAQRQ</td>\n",
       "      <td>-</td>\n",
       "      <td>sp|A0A096LP49|CC187_HUMAN</td>\n",
       "      <td>PWSALAGQACSPQRAWGAQR</td>\n",
       "      <td>0</td>\n",
       "    </tr>\n",
       "    <tr>\n",
       "      <th>17</th>\n",
       "      <td>SPFPQQPWSAVATQPCPRR</td>\n",
       "      <td>sp|A0A096LP49|CC187_HUMAN</td>\n",
       "      <td>0.21000</td>\n",
       "      <td>R.SPFPQQPWSAVATQPCPRR.A</td>\n",
       "      <td>PGSPPEKRSPFPQQP</td>\n",
       "      <td>ATQPCPRRAWTACET</td>\n",
       "      <td>VATQPCPRRAWTACE</td>\n",
       "      <td>-</td>\n",
       "      <td>sp|A0A096LP49|CC187_HUMAN</td>\n",
       "      <td>SPFPQQPWSAVATQPCPRR</td>\n",
       "      <td>0</td>\n",
       "    </tr>\n",
       "    <tr>\n",
       "      <th>18</th>\n",
       "      <td>NPLERPSPPAQR</td>\n",
       "      <td>sp|A0A096LP49|CC187_HUMAN</td>\n",
       "      <td>0.05000</td>\n",
       "      <td>R.NPLERPSPPAQR.P</td>\n",
       "      <td>EDPGPRLRNPLERPS</td>\n",
       "      <td>RPSPPAQRPWSSSGV</td>\n",
       "      <td>RLRNPLERPSPPAQR</td>\n",
       "      <td>-</td>\n",
       "      <td>sp|A0A096LP49|CC187_HUMAN</td>\n",
       "      <td>NPLERPSPPAQR</td>\n",
       "      <td>1</td>\n",
       "    </tr>\n",
       "    <tr>\n",
       "      <th>19</th>\n",
       "      <td>LQEVYRQQR</td>\n",
       "      <td>sp|A0A096LP49|CC187_HUMAN</td>\n",
       "      <td>0.20000</td>\n",
       "      <td>R.LQEVYRQQR.E</td>\n",
       "      <td>TRELRSRRLQEVYRQ</td>\n",
       "      <td>QEVYRQQREAVLGRA</td>\n",
       "      <td>RRLQEVYRQQREAVL</td>\n",
       "      <td>-</td>\n",
       "      <td>sp|A0A096LP49|CC187_HUMAN</td>\n",
       "      <td>LQEVYRQQR</td>\n",
       "      <td>1</td>\n",
       "    </tr>\n",
       "    <tr>\n",
       "      <th>20</th>\n",
       "      <td>SFSTWRASTPR</td>\n",
       "      <td>sp|A0A096LP49|CC187_HUMAN</td>\n",
       "      <td>0.04500</td>\n",
       "      <td>K.SFSTWRASTPR.Y</td>\n",
       "      <td>AWPYGVEKSFSTWRA</td>\n",
       "      <td>TWRASTPRYZZZZZZ</td>\n",
       "      <td>EKSFSTWRASTPRYZ</td>\n",
       "      <td>-</td>\n",
       "      <td>sp|A0A096LP49|CC187_HUMAN</td>\n",
       "      <td>SFSTWRASTPR</td>\n",
       "      <td>1</td>\n",
       "    </tr>\n",
       "    <tr>\n",
       "      <th>21</th>\n",
       "      <td>KGQALVRSLLGPPPVLR</td>\n",
       "      <td>sp|A0A096LP49|CC187_HUMAN</td>\n",
       "      <td>0.03000</td>\n",
       "      <td>R.KGQALVRSLLGPPPVLR.R</td>\n",
       "      <td>LVGVYAWRKGQALVR</td>\n",
       "      <td>LGPPPVLRRHHSKDP</td>\n",
       "      <td>VGVYAWRKGQALVRS</td>\n",
       "      <td>RKGQALVRSLLGPPP</td>\n",
       "      <td>sp|A0A096LP49|CC187_HUMAN</td>\n",
       "      <td>KGQALVRSLLGPPPVLR</td>\n",
       "      <td>0</td>\n",
       "    </tr>\n",
       "    <tr>\n",
       "      <th>22</th>\n",
       "      <td>SLLGPPPVLRRHHSK</td>\n",
       "      <td>sp|A0A096LP49|CC187_HUMAN</td>\n",
       "      <td>0.07000</td>\n",
       "      <td>R.SLLGPPPVLRRHHSK.D</td>\n",
       "      <td>RKGQALVRSLLGPPP</td>\n",
       "      <td>VLRRHHSKDPSRDPA</td>\n",
       "      <td>LGPPPVLRRHHSKDP</td>\n",
       "      <td>GPPPVLRRHHSKDPS</td>\n",
       "      <td>sp|A0A096LP49|CC187_HUMAN</td>\n",
       "      <td>SLLGPPPVLRRHHSK</td>\n",
       "      <td>0</td>\n",
       "    </tr>\n",
       "    <tr>\n",
       "      <th>23</th>\n",
       "      <td>QQIQAGLELAQARKGGQELGPSK</td>\n",
       "      <td>sp|A0A096LP49|CC187_HUMAN</td>\n",
       "      <td>0.28500</td>\n",
       "      <td>R.QQIQAGLELAQARKGGQELGPSK.R</td>\n",
       "      <td>MAILQDLRQQIQAGL</td>\n",
       "      <td>GQELGPSKRRLQDVA</td>\n",
       "      <td>GLELAQARKGGQELG</td>\n",
       "      <td>LELAQARKGGQELGP</td>\n",
       "      <td>sp|A0A096LP49|CC187_HUMAN</td>\n",
       "      <td>QQIQAGLELAQARKGGQELGPSK</td>\n",
       "      <td>0</td>\n",
       "    </tr>\n",
       "    <tr>\n",
       "      <th>24</th>\n",
       "      <td>RRLQDVAGR</td>\n",
       "      <td>sp|A0A096LP49|CC187_HUMAN</td>\n",
       "      <td>0.01500</td>\n",
       "      <td>K.RRLQDVAGR.G</td>\n",
       "      <td>GQELGPSKRRLQDVA</td>\n",
       "      <td>RLQDVAGRGCCRDPN</td>\n",
       "      <td>QELGPSKRRLQDVAG</td>\n",
       "      <td>ELGPSKRRLQDVAGR</td>\n",
       "      <td>sp|A0A096LP49|CC187_HUMAN</td>\n",
       "      <td>RRLQDVAGR</td>\n",
       "      <td>0</td>\n",
       "    </tr>\n",
       "    <tr>\n",
       "      <th>25</th>\n",
       "      <td>KHSSLERAR</td>\n",
       "      <td>sp|A0A096LP49|CC187_HUMAN</td>\n",
       "      <td>0.00500</td>\n",
       "      <td>R.KHSSLERAR.S</td>\n",
       "      <td>SPWAMTERKHSSLER</td>\n",
       "      <td>HSSLERARSVHTWEP</td>\n",
       "      <td>PWAMTERKHSSLERA</td>\n",
       "      <td>RKHSSLERARSVHTW</td>\n",
       "      <td>sp|A0A096LP49|CC187_HUMAN</td>\n",
       "      <td>KHSSLERAR</td>\n",
       "      <td>0</td>\n",
       "    </tr>\n",
       "    <tr>\n",
       "      <th>26</th>\n",
       "      <td>PWSSSGVQRAGPQGKGR</td>\n",
       "      <td>sp|A0A096LP49|CC187_HUMAN</td>\n",
       "      <td>0.03000</td>\n",
       "      <td>R.PWSSSGVQRAGPQGKGR.G</td>\n",
       "      <td>RPSPPAQRPWSSSGV</td>\n",
       "      <td>AGPQGKGRGIGSPVS</td>\n",
       "      <td>WSSSGVQRAGPQGKG</td>\n",
       "      <td>QRAGPQGKGRGIGSP</td>\n",
       "      <td>sp|A0A096LP49|CC187_HUMAN</td>\n",
       "      <td>PWSSSGVQRAGPQGKGR</td>\n",
       "      <td>0</td>\n",
       "    </tr>\n",
       "    <tr>\n",
       "      <th>27</th>\n",
       "      <td>EKDTLRPCPR</td>\n",
       "      <td>sp|A0A096LP49|CC187_HUMAN</td>\n",
       "      <td>0.66000</td>\n",
       "      <td>K.EKDTLRPCPR.S</td>\n",
       "      <td>FPQNPLGKEKDTLRP</td>\n",
       "      <td>DTLRPCPRSRGLLGP</td>\n",
       "      <td>QNPLGKEKDTLRPCP</td>\n",
       "      <td>GKEKDTLRPCPRSRG</td>\n",
       "      <td>sp|A0A096LP49|CC187_HUMAN</td>\n",
       "      <td>EKDTLRPCPR</td>\n",
       "      <td>0</td>\n",
       "    </tr>\n",
       "    <tr>\n",
       "      <th>28</th>\n",
       "      <td>YLPRGMCIYLDPKEAEHLGTSSSLHLR</td>\n",
       "      <td>sp|A0A096LP49|CC187_HUMAN</td>\n",
       "      <td>0.03500</td>\n",
       "      <td>R.YLPRGMCIYLDPKEAEHLGTSSSLHLR.H</td>\n",
       "      <td>ELQDLTTRYLPRGMC</td>\n",
       "      <td>TSSSLHLRHKQAQLQ</td>\n",
       "      <td>LTTRYLPRGMCIYLD</td>\n",
       "      <td>MCIYLDPKEAEHLGT</td>\n",
       "      <td>sp|A0A096LP49|CC187_HUMAN</td>\n",
       "      <td>YLPRGMCIYLDPKEAEHLGTSSSLHLR</td>\n",
       "      <td>0</td>\n",
       "    </tr>\n",
       "    <tr>\n",
       "      <th>29</th>\n",
       "      <td>AHCESKPRGFPEEGHVDVK</td>\n",
       "      <td>sp|A0A096LP49|CC187_HUMAN</td>\n",
       "      <td>0.09000</td>\n",
       "      <td>R.AHCESKPRGFPEEGHVDVK.P</td>\n",
       "      <td>QQQSVSPRAHCESKP</td>\n",
       "      <td>EEGHVDVKPDKRLQR</td>\n",
       "      <td>PRAHCESKPRGFPEE</td>\n",
       "      <td>AHCESKPRGFPEEGH</td>\n",
       "      <td>sp|A0A096LP49|CC187_HUMAN</td>\n",
       "      <td>AHCESKPRGFPEEGHVDVK</td>\n",
       "      <td>0</td>\n",
       "    </tr>\n",
       "    <tr>\n",
       "      <th>30</th>\n",
       "      <td>PWAGWSGGRGIHREHLPLPSTR</td>\n",
       "      <td>sp|A0A096LP49|CC187_HUMAN</td>\n",
       "      <td>0.05500</td>\n",
       "      <td>R.PWAGWSGGRGIHREHLPLPSTR.A</td>\n",
       "      <td>GKGDPADRPWAGWSG</td>\n",
       "      <td>HLPLPSTRAWPYGVE</td>\n",
       "      <td>WAGWSGGRGIHREHL</td>\n",
       "      <td>SGGRGIHREHLPLPS</td>\n",
       "      <td>sp|A0A096LP49|CC187_HUMAN</td>\n",
       "      <td>PWAGWSGGRGIHREHLPLPSTR</td>\n",
       "      <td>0</td>\n",
       "    </tr>\n",
       "    <tr>\n",
       "      <th>31</th>\n",
       "      <td>ARERLELYDEHVSSR</td>\n",
       "      <td>sp|A0A096LP55|QCR6L_HUMAN</td>\n",
       "      <td>0.76500</td>\n",
       "      <td>K.ARERLELYDEHVSSR.S</td>\n",
       "      <td>EQLEKCVKARERLEL</td>\n",
       "      <td>YDEHVSSRSHTEEDC</td>\n",
       "      <td>LEKCVKARERLELYD</td>\n",
       "      <td>KCVKARERLELYDEH</td>\n",
       "      <td>sp|A0A096LP55|QCR6L_HUMAN</td>\n",
       "      <td>ARERLELYDEHVSSR</td>\n",
       "      <td>0</td>\n",
       "    </tr>\n",
       "    <tr>\n",
       "      <th>32</th>\n",
       "      <td>SIAYLQMNSLK</td>\n",
       "      <td>sp|A0A0A0MS15|HV349_HUMAN</td>\n",
       "      <td>0.98500</td>\n",
       "      <td>K.SIAYLQMNSLK.T</td>\n",
       "      <td>TISRDDSKSIAYLQM</td>\n",
       "      <td>YLQMNSLKTEDTAVY</td>\n",
       "      <td>-</td>\n",
       "      <td>-</td>\n",
       "      <td>sp|A0A0A0MS15|HV349_HUMAN</td>\n",
       "      <td>SIAYLQMNSLK</td>\n",
       "      <td>1</td>\n",
       "    </tr>\n",
       "    <tr>\n",
       "      <th>33</th>\n",
       "      <td>LSCTASGFTFGDYAMSWVRQAPGK</td>\n",
       "      <td>sp|A0A0A0MS15|HV349_HUMAN</td>\n",
       "      <td>0.06000</td>\n",
       "      <td>R.LSCTASGFTFGDYAMSWVRQAPGK.G</td>\n",
       "      <td>VQPGRSLRLSCTASG</td>\n",
       "      <td>WVRQAPGKGLEWVGF</td>\n",
       "      <td>DYAMSWVRQAPGKGL</td>\n",
       "      <td>-</td>\n",
       "      <td>sp|A0A0A0MS15|HV349_HUMAN</td>\n",
       "      <td>LSCTASGFTFGDYAMSWVRQAPGK</td>\n",
       "      <td>0</td>\n",
       "    </tr>\n",
       "    <tr>\n",
       "      <th>34</th>\n",
       "      <td>QAPGKGLEWVSLISWDGGSTYYADSVKGR</td>\n",
       "      <td>sp|A0A0B4J1X8|HV343_HUMAN</td>\n",
       "      <td>0.03500</td>\n",
       "      <td>R.QAPGKGLEWVSLISWDGGSTYYADSVKGR.F</td>\n",
       "      <td>DYTMHWVRQAPGKGL</td>\n",
       "      <td>YADSVKGRFTISRDN</td>\n",
       "      <td>WVRQAPGKGLEWVSL</td>\n",
       "      <td>TYYADSVKGRFTISR</td>\n",
       "      <td>sp|A0A0B4J1X8|HV343_HUMAN</td>\n",
       "      <td>QAPGKGLEWVSLISWDGGSTYYADSVKGR</td>\n",
       "      <td>0</td>\n",
       "    </tr>\n",
       "    <tr>\n",
       "      <th>35</th>\n",
       "      <td>ASGYTFTSYAMHWVR</td>\n",
       "      <td>sp|A0A0C4DH29|HV103_HUMAN</td>\n",
       "      <td>0.87500</td>\n",
       "      <td>K.ASGYTFTSYAMHWVR.Q</td>\n",
       "      <td>ASVKVSCKASGYTFT</td>\n",
       "      <td>SYAMHWVRQAPGQRL</td>\n",
       "      <td>-</td>\n",
       "      <td>-</td>\n",
       "      <td>sp|A0A0C4DH29|HV103_HUMAN</td>\n",
       "      <td>ASGYTFTSYAMHWVR</td>\n",
       "      <td>1</td>\n",
       "    </tr>\n",
       "    <tr>\n",
       "      <th>36</th>\n",
       "      <td>LEWMGWINAGNGNTK</td>\n",
       "      <td>sp|A0A0C4DH29|HV103_HUMAN</td>\n",
       "      <td>0.86000</td>\n",
       "      <td>R.LEWMGWINAGNGNTK.Y</td>\n",
       "      <td>VRQAPGQRLEWMGWI</td>\n",
       "      <td>NAGNGNTKYSQKFQG</td>\n",
       "      <td>-</td>\n",
       "      <td>-</td>\n",
       "      <td>sp|A0A0C4DH29|HV103_HUMAN</td>\n",
       "      <td>LEWMGWINAGNGNTK</td>\n",
       "      <td>1</td>\n",
       "    </tr>\n",
       "    <tr>\n",
       "      <th>37</th>\n",
       "      <td>SEDTAVYYCAR</td>\n",
       "      <td>sp|A0A0C4DH29|HV103_HUMAN</td>\n",
       "      <td>0.87000</td>\n",
       "      <td>R.SEDTAVYYCAR.Z</td>\n",
       "      <td>YMELSSLRSEDTAVY</td>\n",
       "      <td>TAVYYCARZZZZZZZ</td>\n",
       "      <td>-</td>\n",
       "      <td>-</td>\n",
       "      <td>sp|A0A0C4DH29|HV103_HUMAN</td>\n",
       "      <td>SEDTAVYYCAR</td>\n",
       "      <td>0</td>\n",
       "    </tr>\n",
       "    <tr>\n",
       "      <th>38</th>\n",
       "      <td>VTITRDTSASTAYMELSSLR</td>\n",
       "      <td>sp|A0A0C4DH29|HV103_HUMAN</td>\n",
       "      <td>0.46000</td>\n",
       "      <td>R.VTITRDTSASTAYMELSSLR.S</td>\n",
       "      <td>YSQKFQGRVTITRDT</td>\n",
       "      <td>YMELSSLRSEDTAVY</td>\n",
       "      <td>QGRVTITRDTSASTA</td>\n",
       "      <td>-</td>\n",
       "      <td>sp|A0A0C4DH29|HV103_HUMAN</td>\n",
       "      <td>VTITRDTSASTAYMELSSLR</td>\n",
       "      <td>1</td>\n",
       "    </tr>\n",
       "    <tr>\n",
       "      <th>39</th>\n",
       "      <td>VTMTTDTSTSTAYMELR</td>\n",
       "      <td>sp|A0A0C4DH31|HV118_HUMAN</td>\n",
       "      <td>0.78500</td>\n",
       "      <td>R.VTMTTDTSTSTAYMELR.S</td>\n",
       "      <td>YAQKLQGRVTMTTDT</td>\n",
       "      <td>STAYMELRSLRSDDT</td>\n",
       "      <td>-</td>\n",
       "      <td>-</td>\n",
       "      <td>sp|A0A0C4DH31|HV118_HUMAN</td>\n",
       "      <td>VTMTTDTSTSTAYMELR</td>\n",
       "      <td>1</td>\n",
       "    </tr>\n",
       "    <tr>\n",
       "      <th>40</th>\n",
       "      <td>KPGASVKVSCK</td>\n",
       "      <td>sp|A0A0C4DH31|HV118_HUMAN</td>\n",
       "      <td>0.02000</td>\n",
       "      <td>K.KPGASVKVSCK.A</td>\n",
       "      <td>VQSGAEVKKPGASVK</td>\n",
       "      <td>ASVKVSCKASGYTFT</td>\n",
       "      <td>QSGAEVKKPGASVKV</td>\n",
       "      <td>KKPGASVKVSCKASG</td>\n",
       "      <td>sp|A0A0C4DH31|HV118_HUMAN</td>\n",
       "      <td>KPGASVKVSCK</td>\n",
       "      <td>0</td>\n",
       "    </tr>\n",
       "    <tr>\n",
       "      <th>41</th>\n",
       "      <td>PWNEVEDR</td>\n",
       "      <td>sp|A0A0J9YWL9|TX13C_HUMAN</td>\n",
       "      <td>0.27500</td>\n",
       "      <td>R.PWNEVEDR.L</td>\n",
       "      <td>FYTAFRSRPWNEVED</td>\n",
       "      <td>PWNEVEDRLRAIVAD</td>\n",
       "      <td>-</td>\n",
       "      <td>-</td>\n",
       "      <td>sp|A0A0J9YWL9|TX13C_HUMAN</td>\n",
       "      <td>PWNEVEDR</td>\n",
       "      <td>1</td>\n",
       "    </tr>\n",
       "    <tr>\n",
       "      <th>42</th>\n",
       "      <td>DPVMQEGTAPPEFSR</td>\n",
       "      <td>sp|A0A0J9YWL9|TX13C_HUMAN</td>\n",
       "      <td>0.87000</td>\n",
       "      <td>K.DPVMQEGTAPPEFSR.S</td>\n",
       "      <td>SSSHSLKKDPVMQEG</td>\n",
       "      <td>TAPPEFSRSHSLEKK</td>\n",
       "      <td>-</td>\n",
       "      <td>-</td>\n",
       "      <td>sp|A0A0J9YWL9|TX13C_HUMAN</td>\n",
       "      <td>DPVMQEGTAPPEFSR</td>\n",
       "      <td>1</td>\n",
       "    </tr>\n",
       "    <tr>\n",
       "      <th>43</th>\n",
       "      <td>EMVPLGDSNSHSLK</td>\n",
       "      <td>sp|A0A0J9YWL9|TX13C_HUMAN</td>\n",
       "      <td>0.93000</td>\n",
       "      <td>K.EMVPLGDSNSHSLK.K</td>\n",
       "      <td>EKKPVMPKEMVPLGD</td>\n",
       "      <td>DSNSHSLKKDPVVPK</td>\n",
       "      <td>-</td>\n",
       "      <td>-</td>\n",
       "      <td>sp|A0A0J9YWL9|TX13C_HUMAN</td>\n",
       "      <td>EMVPLGDSNSHSLK</td>\n",
       "      <td>1</td>\n",
       "    </tr>\n",
       "    <tr>\n",
       "      <th>44</th>\n",
       "      <td>DPVMPQNMIPLEDSNSHSLK</td>\n",
       "      <td>sp|A0A0J9YWL9|TX13C_HUMAN</td>\n",
       "      <td>0.88000</td>\n",
       "      <td>K.DPVMPQNMIPLEDSNSHSLK.K</td>\n",
       "      <td>SRSHSLKKDPVMPQN</td>\n",
       "      <td>DSNSHSLKKDPVMPQ</td>\n",
       "      <td>-</td>\n",
       "      <td>-</td>\n",
       "      <td>sp|A0A0J9YWL9|TX13C_HUMAN</td>\n",
       "      <td>DPVMPQNMIPLEDSNSHSLK</td>\n",
       "      <td>1</td>\n",
       "    </tr>\n",
       "    <tr>\n",
       "      <th>45</th>\n",
       "      <td>HDDVIRFINNEVLR</td>\n",
       "      <td>sp|A0A0J9YWL9|TX13C_HUMAN</td>\n",
       "      <td>0.24000</td>\n",
       "      <td>R.HDDVIRFINNEVLR.N</td>\n",
       "      <td>GDHASGFRHDDVIRF</td>\n",
       "      <td>FINNEVLRNGGSPAF</td>\n",
       "      <td>FRHDDVIRFINNEVL</td>\n",
       "      <td>-</td>\n",
       "      <td>sp|A0A0J9YWL9|TX13C_HUMAN</td>\n",
       "      <td>HDDVIRFINNEVLR</td>\n",
       "      <td>1</td>\n",
       "    </tr>\n",
       "    <tr>\n",
       "      <th>46</th>\n",
       "      <td>NPVVHKEMVSLGDSNSHSMK</td>\n",
       "      <td>sp|A0A0J9YWL9|TX13C_HUMAN</td>\n",
       "      <td>0.32500</td>\n",
       "      <td>K.NPVVHKEMVSLGDSNSHSMK.K</td>\n",
       "      <td>SNSHSLTKNPVVHKE</td>\n",
       "      <td>DSNSHSMKKDPVMPQ</td>\n",
       "      <td>TKNPVVHKEMVSLGD</td>\n",
       "      <td>-</td>\n",
       "      <td>sp|A0A0J9YWL9|TX13C_HUMAN</td>\n",
       "      <td>NPVVHKEMVSLGDSNSHSMK</td>\n",
       "      <td>1</td>\n",
       "    </tr>\n",
       "    <tr>\n",
       "      <th>47</th>\n",
       "      <td>EMVSLGDSNSHSMKK</td>\n",
       "      <td>sp|A0A0J9YWL9|TX13C_HUMAN</td>\n",
       "      <td>0.43000</td>\n",
       "      <td>K.EMVSLGDSNSHSMKK.D</td>\n",
       "      <td>TKNPVVHKEMVSLGD</td>\n",
       "      <td>SNSHSMKKDPVMPQK</td>\n",
       "      <td>DSNSHSMKKDPVMPQ</td>\n",
       "      <td>-</td>\n",
       "      <td>sp|A0A0J9YWL9|TX13C_HUMAN</td>\n",
       "      <td>EMVSLGDSNSHSMKK</td>\n",
       "      <td>0</td>\n",
       "    </tr>\n",
       "    <tr>\n",
       "      <th>48</th>\n",
       "      <td>KDPVMPQK</td>\n",
       "      <td>sp|A0A0J9YWL9|TX13C_HUMAN</td>\n",
       "      <td>0.74000</td>\n",
       "      <td>K.KDPVMPQK.M</td>\n",
       "      <td>DSNSHSMKKDPVMPQ</td>\n",
       "      <td>KDPVMPQKMVPLGDS</td>\n",
       "      <td>SNSHSMKKDPVMPQK</td>\n",
       "      <td>-</td>\n",
       "      <td>sp|A0A0J9YWL9|TX13C_HUMAN</td>\n",
       "      <td>KDPVMPQK</td>\n",
       "      <td>1</td>\n",
       "    </tr>\n",
       "    <tr>\n",
       "      <th>49</th>\n",
       "      <td>KVPMMPK</td>\n",
       "      <td>sp|A0A0J9YWL9|TX13C_HUMAN</td>\n",
       "      <td>0.43000</td>\n",
       "      <td>K.KVPMMPK.E</td>\n",
       "      <td>YSRRHSQKKVPMMPK</td>\n",
       "      <td>KKVPMMPKEMVPLGE</td>\n",
       "      <td>SRRHSQKKVPMMPKE</td>\n",
       "      <td>-</td>\n",
       "      <td>sp|A0A0J9YWL9|TX13C_HUMAN</td>\n",
       "      <td>KVPMMPK</td>\n",
       "      <td>0</td>\n",
       "    </tr>\n",
       "  </tbody>\n",
       "</table>\n",
       "</div>"
      ],
      "text/plain": [
       "                 Peptide sequence                 Protein id  \\\n",
       "0                     NTLYLQMGSLR  sp|A0A075B6Q5|HV364_HUMAN   \n",
       "1                        AEAPPGSK  sp|A0A087WXM9|MEIKN_HUMAN   \n",
       "2            APQFSNVSAIFSTSSEDYQK  sp|A0A087WXM9|MEIKN_HUMAN   \n",
       "3                       DTPQDIIIK  sp|A0A087WXM9|MEIKN_HUMAN   \n",
       "4                   LGVTGEKSLQENR  sp|A0A087WXM9|MEIKN_HUMAN   \n",
       "5                  SFEESFPSPELFRK  sp|A0A087WXM9|MEIKN_HUMAN   \n",
       "6         APQFSNVSAIFSTSSEDYQKCHR  sp|A0A087WXM9|MEIKN_HUMAN   \n",
       "7             REGQRLNLTPTPDLGSPAK  sp|A0A087WXM9|MEIKN_HUMAN   \n",
       "8                      QVKNKGVIVK  sp|A0A087WXM9|MEIKN_HUMAN   \n",
       "9                   DPALTVDLGDSEK  sp|A0A096LP49|CC187_HUMAN   \n",
       "10             SPFPQQPWSAVATQPCPR  sp|A0A096LP49|CC187_HUMAN   \n",
       "11         VTSGMVLGGQEAPGSFCLCLNR  sp|A0A096LP49|CC187_HUMAN   \n",
       "12                      AADWKAVAK  sp|A0A096LP49|CC187_HUMAN   \n",
       "13                   VSQHQVPVLREK  sp|A0A096LP49|CC187_HUMAN   \n",
       "14                     GGQELGPSKR  sp|A0A096LP49|CC187_HUMAN   \n",
       "15          LGHFSQRPWSALAGQACSPQR  sp|A0A096LP49|CC187_HUMAN   \n",
       "16           PWSALAGQACSPQRAWGAQR  sp|A0A096LP49|CC187_HUMAN   \n",
       "17            SPFPQQPWSAVATQPCPRR  sp|A0A096LP49|CC187_HUMAN   \n",
       "18                   NPLERPSPPAQR  sp|A0A096LP49|CC187_HUMAN   \n",
       "19                      LQEVYRQQR  sp|A0A096LP49|CC187_HUMAN   \n",
       "20                    SFSTWRASTPR  sp|A0A096LP49|CC187_HUMAN   \n",
       "21              KGQALVRSLLGPPPVLR  sp|A0A096LP49|CC187_HUMAN   \n",
       "22                SLLGPPPVLRRHHSK  sp|A0A096LP49|CC187_HUMAN   \n",
       "23        QQIQAGLELAQARKGGQELGPSK  sp|A0A096LP49|CC187_HUMAN   \n",
       "24                      RRLQDVAGR  sp|A0A096LP49|CC187_HUMAN   \n",
       "25                      KHSSLERAR  sp|A0A096LP49|CC187_HUMAN   \n",
       "26              PWSSSGVQRAGPQGKGR  sp|A0A096LP49|CC187_HUMAN   \n",
       "27                     EKDTLRPCPR  sp|A0A096LP49|CC187_HUMAN   \n",
       "28    YLPRGMCIYLDPKEAEHLGTSSSLHLR  sp|A0A096LP49|CC187_HUMAN   \n",
       "29            AHCESKPRGFPEEGHVDVK  sp|A0A096LP49|CC187_HUMAN   \n",
       "30         PWAGWSGGRGIHREHLPLPSTR  sp|A0A096LP49|CC187_HUMAN   \n",
       "31                ARERLELYDEHVSSR  sp|A0A096LP55|QCR6L_HUMAN   \n",
       "32                    SIAYLQMNSLK  sp|A0A0A0MS15|HV349_HUMAN   \n",
       "33       LSCTASGFTFGDYAMSWVRQAPGK  sp|A0A0A0MS15|HV349_HUMAN   \n",
       "34  QAPGKGLEWVSLISWDGGSTYYADSVKGR  sp|A0A0B4J1X8|HV343_HUMAN   \n",
       "35                ASGYTFTSYAMHWVR  sp|A0A0C4DH29|HV103_HUMAN   \n",
       "36                LEWMGWINAGNGNTK  sp|A0A0C4DH29|HV103_HUMAN   \n",
       "37                    SEDTAVYYCAR  sp|A0A0C4DH29|HV103_HUMAN   \n",
       "38           VTITRDTSASTAYMELSSLR  sp|A0A0C4DH29|HV103_HUMAN   \n",
       "39              VTMTTDTSTSTAYMELR  sp|A0A0C4DH31|HV118_HUMAN   \n",
       "40                    KPGASVKVSCK  sp|A0A0C4DH31|HV118_HUMAN   \n",
       "41                       PWNEVEDR  sp|A0A0J9YWL9|TX13C_HUMAN   \n",
       "42                DPVMQEGTAPPEFSR  sp|A0A0J9YWL9|TX13C_HUMAN   \n",
       "43                 EMVPLGDSNSHSLK  sp|A0A0J9YWL9|TX13C_HUMAN   \n",
       "44           DPVMPQNMIPLEDSNSHSLK  sp|A0A0J9YWL9|TX13C_HUMAN   \n",
       "45                 HDDVIRFINNEVLR  sp|A0A0J9YWL9|TX13C_HUMAN   \n",
       "46           NPVVHKEMVSLGDSNSHSMK  sp|A0A0J9YWL9|TX13C_HUMAN   \n",
       "47                EMVSLGDSNSHSMKK  sp|A0A0J9YWL9|TX13C_HUMAN   \n",
       "48                       KDPVMPQK  sp|A0A0J9YWL9|TX13C_HUMAN   \n",
       "49                        KVPMMPK  sp|A0A0J9YWL9|TX13C_HUMAN   \n",
       "\n",
       "    Peptide detectability                            peptide               En  \\\n",
       "0                 0.95000                    K.NTLYLQMGSLR.A  TISRDNSKNTLYLQM   \n",
       "1                 0.75000                       K.AEAPPGSK.R  PDLGSPAKAEAPPGS   \n",
       "2                 0.93500           K.APQFSNVSAIFSTSSEDYQK.C  SKAVAIEKAPQFSNV   \n",
       "3                 0.73000                      K.DTPQDIIIK.M  KKKYSLPKDTPQDII   \n",
       "4                 0.09500                  R.LGVTGEKSLQENR.S  GSGPFSPRLGVTGEK   \n",
       "5                 0.59000                 K.SFEESFPSPELFRK.S  TDSYAEYKSFEESFP   \n",
       "6                 0.47000        K.APQFSNVSAIFSTSSEDYQKCHR.K  SKAVAIEKAPQFSNV   \n",
       "7                 0.10000            K.REGQRLNLTPTPDLGSPAK.A  LRVYTRKKREGQRLN   \n",
       "8                 0.07000                     R.QVKNKGVIVK.K  IRTSPGTRQVKNKGV   \n",
       "9                 0.78000                  R.DPALTVDLGDSEK.V  HHSKDPSRDPALTVD   \n",
       "10                0.59500             R.SPFPQQPWSAVATQPCPR.R  PGSPPEKRSPFPQQP   \n",
       "11                0.38500         K.VTSGMVLGGQEAPGSFCLCLNR.A  SPVLEWSKVTSGMVL   \n",
       "12                0.19000                      R.AADWKAVAK.P  FSHGAPGRAADWKAV   \n",
       "13                0.15000                   R.VSQHQVPVLREK.P  GQGRELSRVSQHQVP   \n",
       "14                0.27375                     K.GGQELGPSKR.R  LELAQARKGGQELGP   \n",
       "15                0.65000          R.LGHFSQRPWSALAGQACSPQR.A  RPESPHERLGHFSQR   \n",
       "16                0.04500           R.PWSALAGQACSPQRAWGAQR.Q  RLGHFSQRPWSALAG   \n",
       "17                0.21000            R.SPFPQQPWSAVATQPCPRR.A  PGSPPEKRSPFPQQP   \n",
       "18                0.05000                   R.NPLERPSPPAQR.P  EDPGPRLRNPLERPS   \n",
       "19                0.20000                      R.LQEVYRQQR.E  TRELRSRRLQEVYRQ   \n",
       "20                0.04500                    K.SFSTWRASTPR.Y  AWPYGVEKSFSTWRA   \n",
       "21                0.03000              R.KGQALVRSLLGPPPVLR.R  LVGVYAWRKGQALVR   \n",
       "22                0.07000                R.SLLGPPPVLRRHHSK.D  RKGQALVRSLLGPPP   \n",
       "23                0.28500        R.QQIQAGLELAQARKGGQELGPSK.R  MAILQDLRQQIQAGL   \n",
       "24                0.01500                      K.RRLQDVAGR.G  GQELGPSKRRLQDVA   \n",
       "25                0.00500                      R.KHSSLERAR.S  SPWAMTERKHSSLER   \n",
       "26                0.03000              R.PWSSSGVQRAGPQGKGR.G  RPSPPAQRPWSSSGV   \n",
       "27                0.66000                     K.EKDTLRPCPR.S  FPQNPLGKEKDTLRP   \n",
       "28                0.03500    R.YLPRGMCIYLDPKEAEHLGTSSSLHLR.H  ELQDLTTRYLPRGMC   \n",
       "29                0.09000            R.AHCESKPRGFPEEGHVDVK.P  QQQSVSPRAHCESKP   \n",
       "30                0.05500         R.PWAGWSGGRGIHREHLPLPSTR.A  GKGDPADRPWAGWSG   \n",
       "31                0.76500                K.ARERLELYDEHVSSR.S  EQLEKCVKARERLEL   \n",
       "32                0.98500                    K.SIAYLQMNSLK.T  TISRDDSKSIAYLQM   \n",
       "33                0.06000       R.LSCTASGFTFGDYAMSWVRQAPGK.G  VQPGRSLRLSCTASG   \n",
       "34                0.03500  R.QAPGKGLEWVSLISWDGGSTYYADSVKGR.F  DYTMHWVRQAPGKGL   \n",
       "35                0.87500                K.ASGYTFTSYAMHWVR.Q  ASVKVSCKASGYTFT   \n",
       "36                0.86000                R.LEWMGWINAGNGNTK.Y  VRQAPGQRLEWMGWI   \n",
       "37                0.87000                    R.SEDTAVYYCAR.Z  YMELSSLRSEDTAVY   \n",
       "38                0.46000           R.VTITRDTSASTAYMELSSLR.S  YSQKFQGRVTITRDT   \n",
       "39                0.78500              R.VTMTTDTSTSTAYMELR.S  YAQKLQGRVTMTTDT   \n",
       "40                0.02000                    K.KPGASVKVSCK.A  VQSGAEVKKPGASVK   \n",
       "41                0.27500                       R.PWNEVEDR.L  FYTAFRSRPWNEVED   \n",
       "42                0.87000                K.DPVMQEGTAPPEFSR.S  SSSHSLKKDPVMQEG   \n",
       "43                0.93000                 K.EMVPLGDSNSHSLK.K  EKKPVMPKEMVPLGD   \n",
       "44                0.88000           K.DPVMPQNMIPLEDSNSHSLK.K  SRSHSLKKDPVMPQN   \n",
       "45                0.24000                 R.HDDVIRFINNEVLR.N  GDHASGFRHDDVIRF   \n",
       "46                0.32500           K.NPVVHKEMVSLGDSNSHSMK.K  SNSHSLTKNPVVHKE   \n",
       "47                0.43000                K.EMVSLGDSNSHSMKK.D  TKNPVVHKEMVSLGD   \n",
       "48                0.74000                       K.KDPVMPQK.M  DSNSHSMKKDPVMPQ   \n",
       "49                0.43000                        K.KVPMMPK.E  YSRRHSQKKVPMMPK   \n",
       "\n",
       "                 Ec               E1               E2  \\\n",
       "0   YLQMGSLRAEDMAVY                -                -   \n",
       "1   AEAPPGSKRKGKVHG                -                -   \n",
       "2   TSSEDYQKCHRKTVM                -                -   \n",
       "3   TPQDIIIKMAZZZZZ                -                -   \n",
       "4   EKSLQENRSSEDTQD  RLGVTGEKSLQENRS                -   \n",
       "5   PSPELFRKSDYLDWE  FPSPELFRKSDYLDW                -   \n",
       "6   EDYQKCHRKTVMTVA  TSSEDYQKCHRKTVM                -   \n",
       "7   PDLGSPAKAEAPPGS  RVYTRKKREGQRLNL  RKKREGQRLNLTPTP   \n",
       "8   KNKGVIVKKKKYSLP  SPGTRQVKNKGVIVK  GTRQVKNKGVIVKKK   \n",
       "9   VDLGDSEKVIAAKCS                -                -   \n",
       "10  VATQPCPRRAWTACE                -                -   \n",
       "11  SFCLCLNRAWNHAET                -                -   \n",
       "12  ADWKAVAKPRLCAPA  PGRAADWKAVAKPRL                -   \n",
       "13  QVPVLREKPKRVKSS  QHQVPVLREKPKRVK                -   \n",
       "14  QELGPSKRRLQDVAG  GQELGPSKRRLQDVA                -   \n",
       "15  GQACSPQRAWGAQRQ  RLGHFSQRPWSALAG                -   \n",
       "16  QRAWGAQRQGPSSQR  GQACSPQRAWGAQRQ                -   \n",
       "17  ATQPCPRRAWTACET  VATQPCPRRAWTACE                -   \n",
       "18  RPSPPAQRPWSSSGV  RLRNPLERPSPPAQR                -   \n",
       "19  QEVYRQQREAVLGRA  RRLQEVYRQQREAVL                -   \n",
       "20  TWRASTPRYZZZZZZ  EKSFSTWRASTPRYZ                -   \n",
       "21  LGPPPVLRRHHSKDP  VGVYAWRKGQALVRS  RKGQALVRSLLGPPP   \n",
       "22  VLRRHHSKDPSRDPA  LGPPPVLRRHHSKDP  GPPPVLRRHHSKDPS   \n",
       "23  GQELGPSKRRLQDVA  GLELAQARKGGQELG  LELAQARKGGQELGP   \n",
       "24  RLQDVAGRGCCRDPN  QELGPSKRRLQDVAG  ELGPSKRRLQDVAGR   \n",
       "25  HSSLERARSVHTWEP  PWAMTERKHSSLERA  RKHSSLERARSVHTW   \n",
       "26  AGPQGKGRGIGSPVS  WSSSGVQRAGPQGKG  QRAGPQGKGRGIGSP   \n",
       "27  DTLRPCPRSRGLLGP  QNPLGKEKDTLRPCP  GKEKDTLRPCPRSRG   \n",
       "28  TSSSLHLRHKQAQLQ  LTTRYLPRGMCIYLD  MCIYLDPKEAEHLGT   \n",
       "29  EEGHVDVKPDKRLQR  PRAHCESKPRGFPEE  AHCESKPRGFPEEGH   \n",
       "30  HLPLPSTRAWPYGVE  WAGWSGGRGIHREHL  SGGRGIHREHLPLPS   \n",
       "31  YDEHVSSRSHTEEDC  LEKCVKARERLELYD  KCVKARERLELYDEH   \n",
       "32  YLQMNSLKTEDTAVY                -                -   \n",
       "33  WVRQAPGKGLEWVGF  DYAMSWVRQAPGKGL                -   \n",
       "34  YADSVKGRFTISRDN  WVRQAPGKGLEWVSL  TYYADSVKGRFTISR   \n",
       "35  SYAMHWVRQAPGQRL                -                -   \n",
       "36  NAGNGNTKYSQKFQG                -                -   \n",
       "37  TAVYYCARZZZZZZZ                -                -   \n",
       "38  YMELSSLRSEDTAVY  QGRVTITRDTSASTA                -   \n",
       "39  STAYMELRSLRSDDT                -                -   \n",
       "40  ASVKVSCKASGYTFT  QSGAEVKKPGASVKV  KKPGASVKVSCKASG   \n",
       "41  PWNEVEDRLRAIVAD                -                -   \n",
       "42  TAPPEFSRSHSLEKK                -                -   \n",
       "43  DSNSHSLKKDPVVPK                -                -   \n",
       "44  DSNSHSLKKDPVMPQ                -                -   \n",
       "45  FINNEVLRNGGSPAF  FRHDDVIRFINNEVL                -   \n",
       "46  DSNSHSMKKDPVMPQ  TKNPVVHKEMVSLGD                -   \n",
       "47  SNSHSMKKDPVMPQK  DSNSHSMKKDPVMPQ                -   \n",
       "48  KDPVMPQKMVPLGDS  SNSHSMKKDPVMPQK                -   \n",
       "49  KKVPMMPKEMVPLGE  SRRHSQKKVPMMPKE                -   \n",
       "\n",
       "                      protein                            PEP  ID  \n",
       "0   sp|A0A075B6Q5|HV364_HUMAN                    NTLYLQMGSLR   1  \n",
       "1   sp|A0A087WXM9|MEIKN_HUMAN                       AEAPPGSK   0  \n",
       "2   sp|A0A087WXM9|MEIKN_HUMAN           APQFSNVSAIFSTSSEDYQK   1  \n",
       "3   sp|A0A087WXM9|MEIKN_HUMAN                      DTPQDIIIK   1  \n",
       "4   sp|A0A087WXM9|MEIKN_HUMAN                  LGVTGEKSLQENR   1  \n",
       "5   sp|A0A087WXM9|MEIKN_HUMAN                 SFEESFPSPELFRK   1  \n",
       "6   sp|A0A087WXM9|MEIKN_HUMAN        APQFSNVSAIFSTSSEDYQKCHR   0  \n",
       "7   sp|A0A087WXM9|MEIKN_HUMAN            REGQRLNLTPTPDLGSPAK   0  \n",
       "8   sp|A0A087WXM9|MEIKN_HUMAN                     QVKNKGVIVK   0  \n",
       "9   sp|A0A096LP49|CC187_HUMAN                  DPALTVDLGDSEK   1  \n",
       "10  sp|A0A096LP49|CC187_HUMAN             SPFPQQPWSAVATQPCPR   0  \n",
       "11  sp|A0A096LP49|CC187_HUMAN         VTSGMVLGGQEAPGSFCLCLNR   0  \n",
       "12  sp|A0A096LP49|CC187_HUMAN                      AADWKAVAK   1  \n",
       "13  sp|A0A096LP49|CC187_HUMAN                   VSQHQVPVLREK   1  \n",
       "14  sp|A0A096LP49|CC187_HUMAN                     GGQELGPSKR   0  \n",
       "15  sp|A0A096LP49|CC187_HUMAN          LGHFSQRPWSALAGQACSPQR   0  \n",
       "16  sp|A0A096LP49|CC187_HUMAN           PWSALAGQACSPQRAWGAQR   0  \n",
       "17  sp|A0A096LP49|CC187_HUMAN            SPFPQQPWSAVATQPCPRR   0  \n",
       "18  sp|A0A096LP49|CC187_HUMAN                   NPLERPSPPAQR   1  \n",
       "19  sp|A0A096LP49|CC187_HUMAN                      LQEVYRQQR   1  \n",
       "20  sp|A0A096LP49|CC187_HUMAN                    SFSTWRASTPR   1  \n",
       "21  sp|A0A096LP49|CC187_HUMAN              KGQALVRSLLGPPPVLR   0  \n",
       "22  sp|A0A096LP49|CC187_HUMAN                SLLGPPPVLRRHHSK   0  \n",
       "23  sp|A0A096LP49|CC187_HUMAN        QQIQAGLELAQARKGGQELGPSK   0  \n",
       "24  sp|A0A096LP49|CC187_HUMAN                      RRLQDVAGR   0  \n",
       "25  sp|A0A096LP49|CC187_HUMAN                      KHSSLERAR   0  \n",
       "26  sp|A0A096LP49|CC187_HUMAN              PWSSSGVQRAGPQGKGR   0  \n",
       "27  sp|A0A096LP49|CC187_HUMAN                     EKDTLRPCPR   0  \n",
       "28  sp|A0A096LP49|CC187_HUMAN    YLPRGMCIYLDPKEAEHLGTSSSLHLR   0  \n",
       "29  sp|A0A096LP49|CC187_HUMAN            AHCESKPRGFPEEGHVDVK   0  \n",
       "30  sp|A0A096LP49|CC187_HUMAN         PWAGWSGGRGIHREHLPLPSTR   0  \n",
       "31  sp|A0A096LP55|QCR6L_HUMAN                ARERLELYDEHVSSR   0  \n",
       "32  sp|A0A0A0MS15|HV349_HUMAN                    SIAYLQMNSLK   1  \n",
       "33  sp|A0A0A0MS15|HV349_HUMAN       LSCTASGFTFGDYAMSWVRQAPGK   0  \n",
       "34  sp|A0A0B4J1X8|HV343_HUMAN  QAPGKGLEWVSLISWDGGSTYYADSVKGR   0  \n",
       "35  sp|A0A0C4DH29|HV103_HUMAN                ASGYTFTSYAMHWVR   1  \n",
       "36  sp|A0A0C4DH29|HV103_HUMAN                LEWMGWINAGNGNTK   1  \n",
       "37  sp|A0A0C4DH29|HV103_HUMAN                    SEDTAVYYCAR   0  \n",
       "38  sp|A0A0C4DH29|HV103_HUMAN           VTITRDTSASTAYMELSSLR   1  \n",
       "39  sp|A0A0C4DH31|HV118_HUMAN              VTMTTDTSTSTAYMELR   1  \n",
       "40  sp|A0A0C4DH31|HV118_HUMAN                    KPGASVKVSCK   0  \n",
       "41  sp|A0A0J9YWL9|TX13C_HUMAN                       PWNEVEDR   1  \n",
       "42  sp|A0A0J9YWL9|TX13C_HUMAN                DPVMQEGTAPPEFSR   1  \n",
       "43  sp|A0A0J9YWL9|TX13C_HUMAN                 EMVPLGDSNSHSLK   1  \n",
       "44  sp|A0A0J9YWL9|TX13C_HUMAN           DPVMPQNMIPLEDSNSHSLK   1  \n",
       "45  sp|A0A0J9YWL9|TX13C_HUMAN                 HDDVIRFINNEVLR   1  \n",
       "46  sp|A0A0J9YWL9|TX13C_HUMAN           NPVVHKEMVSLGDSNSHSMK   1  \n",
       "47  sp|A0A0J9YWL9|TX13C_HUMAN                EMVSLGDSNSHSMKK   0  \n",
       "48  sp|A0A0J9YWL9|TX13C_HUMAN                       KDPVMPQK   1  \n",
       "49  sp|A0A0J9YWL9|TX13C_HUMAN                        KVPMMPK   0  "
      ]
     },
     "execution_count": 79,
     "metadata": {},
     "output_type": "execute_result"
    }
   ],
   "source": [
    "ap3_common.head(50)"
   ]
  }
 ],
 "metadata": {
  "kernelspec": {
   "display_name": "TF2.0",
   "language": "python",
   "name": "bis"
  },
  "language_info": {
   "codemirror_mode": {
    "name": "ipython",
    "version": 3
   },
   "file_extension": ".py",
   "mimetype": "text/x-python",
   "name": "python",
   "nbconvert_exporter": "python",
   "pygments_lexer": "ipython3",
   "version": "3.6.12"
  }
 },
 "nbformat": 4,
 "nbformat_minor": 4
}
