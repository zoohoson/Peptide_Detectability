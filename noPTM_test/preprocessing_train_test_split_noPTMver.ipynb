{
 "cells": [
  {
   "cell_type": "code",
   "execution_count": 6,
   "metadata": {
    "ExecuteTime": {
     "end_time": "2021-10-06T15:07:48.115626Z",
     "start_time": "2021-10-06T15:07:47.894574Z"
    }
   },
   "outputs": [],
   "source": [
    "import pandas as pd\n",
    "import numpy as np\n",
    "import matplotlib.pyplot as plt\n",
    "\n",
    "import sys\n",
    "sys.path.append(\"/home/bis/2021_SJH_detectability/Detectability\")\n",
    "from utils import *"
   ]
  },
  {
   "cell_type": "code",
   "execution_count": null,
   "metadata": {
    "ExecuteTime": {
     "end_time": "2021-09-30T13:11:49.561793Z",
     "start_time": "2021-09-30T13:10:45.447369Z"
    }
   },
   "outputs": [],
   "source": [
    "df_kb = pd.read_csv('../data/massIVE-KB/df_kb_filter.csv')"
   ]
  },
  {
   "cell_type": "code",
   "execution_count": 26,
   "metadata": {
    "ExecuteTime": {
     "end_time": "2021-10-06T15:41:44.632957Z",
     "start_time": "2021-10-06T15:41:44.263874Z"
    }
   },
   "outputs": [],
   "source": [
    "df_uni = pd.read_csv('../data/uniprot/df_uni.csv')"
   ]
  },
  {
   "cell_type": "markdown",
   "metadata": {},
   "source": [
    "  - no PTM version\n",
    "    - only use peptide with no PTM\n",
    "    - 단, PTM peptide의 STRIP_PEPTIDE가 non detected peptide set에 들어가서는 안된다 !"
   ]
  },
  {
   "cell_type": "code",
   "execution_count": 13,
   "metadata": {
    "ExecuteTime": {
     "end_time": "2021-09-30T13:12:03.628996Z",
     "start_time": "2021-09-30T13:12:01.877894Z"
    }
   },
   "outputs": [],
   "source": [
    "# get PTM sequences\n",
    "ptm_idx = df_kb.loc[df_kb.SEQ.apply(lambda x: '+' in x) | (df_kb.SEQ.apply(lambda x: '-' in x))].index\n",
    "df_ptm = df_kb.loc[ptm_idx]\n",
    "df_noptm = df_kb.drop(ptm_idx, axis=0).reset_index(drop=True)\n",
    "\n",
    "ptm_seq = df_ptm.STRIP_PEPTIDE.unique()"
   ]
  },
  {
   "cell_type": "code",
   "execution_count": 14,
   "metadata": {
    "ExecuteTime": {
     "end_time": "2021-09-30T13:12:11.162035Z",
     "start_time": "2021-09-30T13:12:06.086174Z"
    }
   },
   "outputs": [
    {
     "name": "stdout",
     "output_type": "stream",
     "text": [
      "STRIP precursor which has protein >2 cnt :  55621\n"
     ]
    }
   ],
   "source": [
    "# protein check\n",
    "pc2prot = dict()\n",
    "for pep, c, prot in df_noptm[['SEQ', 'CHARGE', 'PROTEIN']].values:\n",
    "    if (pep, c) not in pc2prot:\n",
    "        pc2prot[(pep, c)]=set()\n",
    "    for p in prot.split(';'):\n",
    "        pc2prot[(pep, c)].add(p)\n",
    "    \n",
    "print('STRIP precursor which has protein >2 cnt : ', \n",
    "      len([_ for _ in pc2prot.values() if len(_) >=2]))\n",
    "\n",
    "for (p, c), v in pc2prot.items():\n",
    "    pc2prot[(p, c)] = ';'.join(list(v))"
   ]
  },
  {
   "cell_type": "code",
   "execution_count": 15,
   "metadata": {
    "ExecuteTime": {
     "end_time": "2021-09-30T13:12:12.833139Z",
     "start_time": "2021-09-30T13:12:11.163543Z"
    }
   },
   "outputs": [],
   "source": [
    "# spectral count check\n",
    "pc2cnt = dict()\n",
    "for p, c, cnt in df_noptm[['SEQ', 'CHARGE', 'SPECTRAL_CNT']].values:\n",
    "    if (p, c) not in pc2cnt:\n",
    "        pc2cnt[(p, c)] = 0\n",
    "    pc2cnt[(p, c)] += cnt"
   ]
  },
  {
   "cell_type": "code",
   "execution_count": 16,
   "metadata": {
    "ExecuteTime": {
     "end_time": "2021-09-30T13:12:15.198554Z",
     "start_time": "2021-09-30T13:12:12.834785Z"
    }
   },
   "outputs": [],
   "source": [
    "# spectrum check\n",
    "pc2mz = dict()\n",
    "pc2int = dict()\n",
    "for p, c, m, i in df_noptm[['SEQ', 'CHARGE', 'MZ', 'INTENSITY']].values:  \n",
    "    if '+' not in p:\n",
    "        pc2mz[(p, c)] = m\n",
    "        pc2int[(p, c)] = i"
   ]
  },
  {
   "cell_type": "code",
   "execution_count": 17,
   "metadata": {
    "ExecuteTime": {
     "end_time": "2021-09-30T13:12:23.255343Z",
     "start_time": "2021-09-30T13:12:15.200020Z"
    }
   },
   "outputs": [],
   "source": [
    "pc = {(p,c) for p, c in df_noptm[['SEQ', 'CHARGE']].values}\n",
    "df_ided_peptide = pd.DataFrame([[c, p, pc2prot[(p, c)], pc2cnt[(p,c)], pc2mz[(p,c)], pc2int[(p,c)]]\n",
    "                                for p, c in pc],\n",
    "                              columns=['CHARGE', 'PEPTIDE', 'PROTEINS', \n",
    "                                       'SPECTRAL_CNT', 'MZ', 'INTENSITY'])"
   ]
  },
  {
   "cell_type": "code",
   "execution_count": 18,
   "metadata": {
    "ExecuteTime": {
     "end_time": "2021-09-30T13:12:23.274742Z",
     "start_time": "2021-09-30T13:12:23.256730Z"
    }
   },
   "outputs": [
    {
     "name": "stdout",
     "output_type": "stream",
     "text": [
      "(1163969, 6)\n"
     ]
    },
    {
     "data": {
      "text/html": [
       "<div>\n",
       "<style scoped>\n",
       "    .dataframe tbody tr th:only-of-type {\n",
       "        vertical-align: middle;\n",
       "    }\n",
       "\n",
       "    .dataframe tbody tr th {\n",
       "        vertical-align: top;\n",
       "    }\n",
       "\n",
       "    .dataframe thead th {\n",
       "        text-align: right;\n",
       "    }\n",
       "</style>\n",
       "<table border=\"1\" class=\"dataframe\">\n",
       "  <thead>\n",
       "    <tr style=\"text-align: right;\">\n",
       "      <th></th>\n",
       "      <th>CHARGE</th>\n",
       "      <th>PEPTIDE</th>\n",
       "      <th>PROTEINS</th>\n",
       "      <th>SPECTRAL_CNT</th>\n",
       "      <th>MZ</th>\n",
       "      <th>INTENSITY</th>\n",
       "    </tr>\n",
       "  </thead>\n",
       "  <tbody>\n",
       "    <tr>\n",
       "      <th>0</th>\n",
       "      <td>2</td>\n",
       "      <td>ERPLFPQILASIELLAR</td>\n",
       "      <td>sp|P15056|BRAF_HUMAN</td>\n",
       "      <td>1</td>\n",
       "      <td>112.08771514892578;113.07160949707031;114.0671...</td>\n",
       "      <td>119082.4921875;112399.9609375;68056.1796875;18...</td>\n",
       "    </tr>\n",
       "    <tr>\n",
       "      <th>1</th>\n",
       "      <td>4</td>\n",
       "      <td>VPIVIQDDSLPAGPPPQIRILK</td>\n",
       "      <td>sp|Q7Z422|SZRD1_HUMAN</td>\n",
       "      <td>1</td>\n",
       "      <td>120.08069610595703;127.08636474609375;129.1016...</td>\n",
       "      <td>16488.7109375;14861.8779296875;19653.990234375...</td>\n",
       "    </tr>\n",
       "  </tbody>\n",
       "</table>\n",
       "</div>"
      ],
      "text/plain": [
       "   CHARGE                 PEPTIDE               PROTEINS  SPECTRAL_CNT  \\\n",
       "0       2       ERPLFPQILASIELLAR   sp|P15056|BRAF_HUMAN             1   \n",
       "1       4  VPIVIQDDSLPAGPPPQIRILK  sp|Q7Z422|SZRD1_HUMAN             1   \n",
       "\n",
       "                                                  MZ  \\\n",
       "0  112.08771514892578;113.07160949707031;114.0671...   \n",
       "1  120.08069610595703;127.08636474609375;129.1016...   \n",
       "\n",
       "                                           INTENSITY  \n",
       "0  119082.4921875;112399.9609375;68056.1796875;18...  \n",
       "1  16488.7109375;14861.8779296875;19653.990234375...  "
      ]
     },
     "execution_count": 18,
     "metadata": {},
     "output_type": "execute_result"
    }
   ],
   "source": [
    "print(df_ided_peptide.shape)\n",
    "df_ided_peptide.head(2)"
   ]
  },
  {
   "cell_type": "code",
   "execution_count": 39,
   "metadata": {
    "ExecuteTime": {
     "end_time": "2021-09-15T16:42:25.054039Z",
     "start_time": "2021-09-15T16:41:08.300123Z"
    }
   },
   "outputs": [],
   "source": [
    "df_ided_peptide.to_csv('../data/massIVE-KB/df_kb_noptm.csv', index=False)"
   ]
  },
  {
   "cell_type": "markdown",
   "metadata": {},
   "source": [
    "# protein selection\n",
    "  - only use ided protein (based on massIVE-KB)"
   ]
  },
  {
   "cell_type": "code",
   "execution_count": 22,
   "metadata": {
    "ExecuteTime": {
     "end_time": "2021-09-30T13:14:36.208447Z",
     "start_time": "2021-09-30T13:14:35.809675Z"
    }
   },
   "outputs": [
    {
     "name": "stdout",
     "output_type": "stream",
     "text": [
      "19057\n"
     ]
    }
   ],
   "source": [
    "ided_protein = list({__ for _ in df_ided_peptide.PROTEINS.values for __ in _.split(';')})\n",
    "print(len(ided_protein))"
   ]
  },
  {
   "cell_type": "code",
   "execution_count": 23,
   "metadata": {
    "ExecuteTime": {
     "end_time": "2021-09-30T13:15:06.068707Z",
     "start_time": "2021-09-30T13:14:37.788276Z"
    }
   },
   "outputs": [
    {
     "name": "stdout",
     "output_type": "stream",
     "text": [
      "(19057, 3)\n"
     ]
    },
    {
     "data": {
      "text/html": [
       "<div>\n",
       "<style scoped>\n",
       "    .dataframe tbody tr th:only-of-type {\n",
       "        vertical-align: middle;\n",
       "    }\n",
       "\n",
       "    .dataframe tbody tr th {\n",
       "        vertical-align: top;\n",
       "    }\n",
       "\n",
       "    .dataframe thead th {\n",
       "        text-align: right;\n",
       "    }\n",
       "</style>\n",
       "<table border=\"1\" class=\"dataframe\">\n",
       "  <thead>\n",
       "    <tr style=\"text-align: right;\">\n",
       "      <th></th>\n",
       "      <th>PROTEIN</th>\n",
       "      <th>SEQUENCE</th>\n",
       "      <th>PROTEIN_FULL</th>\n",
       "    </tr>\n",
       "  </thead>\n",
       "  <tbody>\n",
       "    <tr>\n",
       "      <th>0</th>\n",
       "      <td>sp|Q9H553|ALG2_HUMAN</td>\n",
       "      <td>MAEEQGRERDSVPKPSVLFLHPDLGVGGAERLVLDAALALQARGCS...</td>\n",
       "      <td>&gt;sp|Q9H553|ALG2_HUMAN Alpha-1,3/1,6-mannosyltr...</td>\n",
       "    </tr>\n",
       "  </tbody>\n",
       "</table>\n",
       "</div>"
      ],
      "text/plain": [
       "                PROTEIN                                           SEQUENCE  \\\n",
       "0  sp|Q9H553|ALG2_HUMAN  MAEEQGRERDSVPKPSVLFLHPDLGVGGAERLVLDAALALQARGCS...   \n",
       "\n",
       "                                        PROTEIN_FULL  \n",
       "0  >sp|Q9H553|ALG2_HUMAN Alpha-1,3/1,6-mannosyltr...  "
      ]
     },
     "execution_count": 23,
     "metadata": {},
     "output_type": "execute_result"
    }
   ],
   "source": [
    "df_ided_protein_idx = [idx for idx, p in zip(df_uni.index, df_uni.PROTEIN.values) if p in ided_protein]\n",
    "df_ided_protein = df_uni.loc[df_ided_protein_idx].reset_index(drop=True)\n",
    "print(df_ided_protein.shape)\n",
    "df_ided_protein.head(1)\n",
    "# pk = PROTEIN"
   ]
  },
  {
   "cell_type": "markdown",
   "metadata": {},
   "source": [
    "# Spectral Count\n",
    "  - on uniprot protiens\n",
    "  - with massIVE-KB peptides,\n",
    "  - about spectral_count, spectral_count_miss"
   ]
  },
  {
   "cell_type": "code",
   "execution_count": 8,
   "metadata": {
    "ExecuteTime": {
     "end_time": "2021-10-06T15:08:20.276180Z",
     "start_time": "2021-10-06T15:08:20.133317Z"
    }
   },
   "outputs": [],
   "source": [
    "def prot2counting(pep_tree, df_prot, df_pep):\n",
    "    # STRIP_PEPTIDE SPECTRAL_CNT\n",
    "    pep2cnt = dict()\n",
    "    for p, cnt in df_pep[['PEPTIDE', 'SPECTRAL_CNT']].values:\n",
    "        if p not in pep2cnt:\n",
    "            pep2cnt[p] = 0\n",
    "        pep2cnt[p] += cnt\n",
    "\n",
    "    # counting array init\n",
    "    pep_cnt = [[0 for __ in range(len(_))] for _ in df_prot.SEQUENCE.values]\n",
    "    miss_cnt = [[0 for __ in range(len(_))] for _ in df_prot.SEQUENCE.values]\n",
    "    \n",
    "    # counting start! (protein roop)\n",
    "    for prot_idx, prot_seq in enumerate(df_prot.SEQUENCE.values):\n",
    "        if prot_idx % 1000 == 0:\n",
    "            print('peptide(spectral) counting...', prot_idx, '/', len(df_prot), end='\\r')\n",
    "\n",
    "        # matched peptide in protein\n",
    "        results = pep_tree.search_all(prot_seq)\n",
    "        # ex) result = ('ACAC', 5) = (peptide, location)\n",
    "        for result in results: \n",
    "            pep = result[0]\n",
    "            pep_len = len(result[0])\n",
    "            start_idx = result[1]\n",
    "            cnt = pep2cnt[pep]\n",
    "            \n",
    "            # miss cleavage case\n",
    "            if sum([1 for p in pep[:-1] if p in 'KR']) >= 1:\n",
    "                if pep[-1] in 'KR':  # __KR__KR case\n",
    "                    miss_change_range = range(start_idx, start_idx + pep_len -1)\n",
    "                    # miss cleavage count\n",
    "                    for idx, value in enumerate(miss_cnt[prot_idx]):\n",
    "                        if idx in miss_change_range:\n",
    "                            value += cnt\n",
    "                            miss_cnt[prot_idx][idx] = value\n",
    "                    # peptide(spectral) count \n",
    "                    # only count first, and last amino acid of peptide which include miss cleavage\n",
    "                    # last : For counting N term of tryptic site\n",
    "                    # first : Foir counting C term of tryptic site\n",
    "                    pep_cnt[prot_idx][start_idx + pep_len -1] += cnt\n",
    "                    pep_cnt[prot_idx][start_idx] += cnt\n",
    "                else:  # _KR__ case\n",
    "                    miss_change_range = range(start_idx, start_idx + pep_len)\n",
    "                    # miss cleavage count\n",
    "                    for idx, value in enumerate(miss_cnt[prot_idx]):\n",
    "                        if idx in miss_change_range:\n",
    "                            value += cnt\n",
    "                            miss_cnt[prot_idx][idx] = value\n",
    "            # not miss cleavage case\n",
    "            else:\n",
    "                change_range = range(start_idx, start_idx + pep_len)\n",
    "                # peptide(spectral) count\n",
    "                for idx, value in enumerate(pep_cnt[prot_idx]):\n",
    "                    if idx in change_range:\n",
    "                        value += cnt\n",
    "                        pep_cnt[prot_idx][idx] = value\n",
    "    print('peptide(spectral) counting done!                              n')\n",
    "    \n",
    "    # peptide(spectral) count with protein\n",
    "    prot2cnt = dict()\n",
    "    for idx, ((pname, seqs), cnts) in enumerate(zip(df_prot[['PROTEIN', 'SEQUENCE']].values, pep_cnt)):\n",
    "        prot2cnt[pname]=';'.join([str(seq) + '_' + str(cnt) for seq, cnt in zip(seqs, cnts)])\n",
    "\n",
    "    prot2cnt_miss = dict()\n",
    "    for idx, ((pname, seqs), cnts) in enumerate(zip(df_prot[['PROTEIN', 'SEQUENCE']].values, miss_cnt)):\n",
    "        prot2cnt_miss[pname] = ';'.join([str(seq) + '_' + str(cnt) for seq, cnt in zip(seqs, cnts)])\n",
    "    return prot2cnt, prot2cnt_miss"
   ]
  },
  {
   "cell_type": "code",
   "execution_count": 25,
   "metadata": {
    "ExecuteTime": {
     "end_time": "2021-09-30T13:19:05.122080Z",
     "start_time": "2021-09-30T13:15:22.212221Z"
    }
   },
   "outputs": [
    {
     "name": "stdout",
     "output_type": "stream",
     "text": [
      "peptide(spectral) counting done!                              n\n"
     ]
    }
   ],
   "source": [
    "pep_tree = tree_from_pep(df_ided_peptide.PEPTIDE.unique())  # from utils\n",
    "\n",
    "prot2cnt, prot2cnt_miss = prot2counting(pep_tree, df_ided_protein, df_ided_peptide)\n",
    "\n",
    "df_ided_protein['SPECTRAL_CNT'] = [prot2cnt[pname] for pname in df_ided_protein.PROTEIN.values]\n",
    "df_ided_protein['SPECTRAL_CNT_MISS'] = [prot2cnt_miss[pname] for pname in df_ided_protein.PROTEIN.values]"
   ]
  },
  {
   "cell_type": "code",
   "execution_count": 26,
   "metadata": {
    "ExecuteTime": {
     "end_time": "2021-09-30T13:19:05.132167Z",
     "start_time": "2021-09-30T13:19:05.123849Z"
    }
   },
   "outputs": [
    {
     "name": "stdout",
     "output_type": "stream",
     "text": [
      "(19057, 5)\n"
     ]
    },
    {
     "data": {
      "text/html": [
       "<div>\n",
       "<style scoped>\n",
       "    .dataframe tbody tr th:only-of-type {\n",
       "        vertical-align: middle;\n",
       "    }\n",
       "\n",
       "    .dataframe tbody tr th {\n",
       "        vertical-align: top;\n",
       "    }\n",
       "\n",
       "    .dataframe thead th {\n",
       "        text-align: right;\n",
       "    }\n",
       "</style>\n",
       "<table border=\"1\" class=\"dataframe\">\n",
       "  <thead>\n",
       "    <tr style=\"text-align: right;\">\n",
       "      <th></th>\n",
       "      <th>PROTEIN</th>\n",
       "      <th>SEQUENCE</th>\n",
       "      <th>PROTEIN_FULL</th>\n",
       "      <th>SPECTRAL_CNT</th>\n",
       "      <th>SPECTRAL_CNT_MISS</th>\n",
       "    </tr>\n",
       "  </thead>\n",
       "  <tbody>\n",
       "    <tr>\n",
       "      <th>0</th>\n",
       "      <td>sp|Q9H553|ALG2_HUMAN</td>\n",
       "      <td>MAEEQGRERDSVPKPSVLFLHPDLGVGGAERLVLDAALALQARGCS...</td>\n",
       "      <td>&gt;sp|Q9H553|ALG2_HUMAN Alpha-1,3/1,6-mannosyltr...</td>\n",
       "      <td>M_0;A_0;E_0;E_0;Q_0;G_0;R_0;E_3;R_0;D_149;S_2;...</td>\n",
       "      <td>M_0;A_0;E_0;E_0;Q_0;G_0;R_0;E_3;R_3;D_152;S_15...</td>\n",
       "    </tr>\n",
       "  </tbody>\n",
       "</table>\n",
       "</div>"
      ],
      "text/plain": [
       "                PROTEIN                                           SEQUENCE  \\\n",
       "0  sp|Q9H553|ALG2_HUMAN  MAEEQGRERDSVPKPSVLFLHPDLGVGGAERLVLDAALALQARGCS...   \n",
       "\n",
       "                                        PROTEIN_FULL  \\\n",
       "0  >sp|Q9H553|ALG2_HUMAN Alpha-1,3/1,6-mannosyltr...   \n",
       "\n",
       "                                        SPECTRAL_CNT  \\\n",
       "0  M_0;A_0;E_0;E_0;Q_0;G_0;R_0;E_3;R_0;D_149;S_2;...   \n",
       "\n",
       "                                   SPECTRAL_CNT_MISS  \n",
       "0  M_0;A_0;E_0;E_0;Q_0;G_0;R_0;E_3;R_3;D_152;S_15...  "
      ]
     },
     "execution_count": 26,
     "metadata": {},
     "output_type": "execute_result"
    }
   ],
   "source": [
    "print(df_ided_protein.shape)\n",
    "df_ided_protein.head(1)"
   ]
  },
  {
   "cell_type": "code",
   "execution_count": 45,
   "metadata": {
    "ExecuteTime": {
     "end_time": "2021-09-15T16:47:16.438066Z",
     "start_time": "2021-09-15T16:47:14.517917Z"
    }
   },
   "outputs": [],
   "source": [
    "df_ided_protein.to_csv('../data/uniprot/df_uni_noptm_ided.csv', index=False)"
   ]
  },
  {
   "cell_type": "markdown",
   "metadata": {},
   "source": [
    "# Make Detect_pep, unDetect_pep version==whole\n",
    "  - spectral cnt >= 2 : detect\n",
    "  - spectral cnt == 0 : undetect\n",
    "    - except PTM peptide"
   ]
  },
  {
   "cell_type": "code",
   "execution_count": 9,
   "metadata": {
    "ExecuteTime": {
     "end_time": "2021-10-06T15:08:24.637371Z",
     "start_time": "2021-10-06T15:08:24.487004Z"
    }
   },
   "outputs": [],
   "source": [
    "def pep_from_prot(df_uni, MISS_CLEAVAGE, thres=4):\n",
    "    peptide = []\n",
    "    TS_AA = 'KR'\n",
    "\n",
    "    for protein, pname, cnt, cnt_miss in df_uni[['SEQUENCE', 'PROTEIN', 'SPECTRAL_CNT', 'SPECTRAL_CNT_MISS']].values:\n",
    "        cnt = list(map(lambda x: int(x[2:]), cnt.split(';')))\n",
    "        cnt_miss = list(map(lambda x: int(x[2:]), cnt_miss.split(';')))\n",
    "        \n",
    "        ts_idx = []  # tryptic site index\n",
    "        for prot_idx, aa in enumerate(protein):\n",
    "            if aa in TS_AA:\n",
    "                ts_idx.append(prot_idx)\n",
    "        for idx in range(len(ts_idx)):\n",
    "            n = MISS_CLEAVAGE\n",
    "            if idx+(n+1) > len(ts_idx)-1:  # peptide making range\n",
    "                break\n",
    "\n",
    "            # protein N term\n",
    "            if (ts_idx[idx]<=(thres - 1)) and (ts_idx[idx] >= len(protein) -1 -(thres - 1)):  # -MNQKLLK- 앞뒤 다 부족한 경우\n",
    "                en = 'Z' * (thres - ts_idx[idx]) + protein[: ts_idx[idx]+(thres + 1)] + 'Z' * (thres - (len(protein)-1 - ts_idx[idx]))\n",
    "            elif ts_idx[idx]<=(thres - 1):\n",
    "                en = 'Z' * (thres - ts_idx[idx]) + protein[: ts_idx[idx]+(thres + 1)]\n",
    "            elif ts_idx[idx] >= len(protein) -1 -(thres - 1):  # for EAQDRRN : 끝이 부족한 경우\n",
    "                en = protein[ts_idx[idx]-thres:] + 'Z' * (thres - (len(protein)-1 - ts_idx[idx]))\n",
    "            else:\n",
    "                en = protein[ts_idx[idx]-thres: ts_idx[idx]+(thres + 1)]\n",
    "\n",
    "            # protein C term\n",
    "            if (ts_idx[idx+n+1] >= len(protein) -1 -(thres - 1)) and (ts_idx[idx+n+1] <= (thres - 1)):\n",
    "                ec = 'Z' * (thres - ts_idx[idx+n+1]) + protein[: ts_idx[idx+n+1]+(thres + 1)]  + 'Z' * (thres - (len(protein)-1 - ts_idx[idx+n+1]))\n",
    "            elif ts_idx[idx+n+1] >= len(protein) -1 -(thres - 1):\n",
    "                ec = protein[ts_idx[idx+n+1] - thres :] + 'Z' * (thres - (len(protein)-1 - ts_idx[idx+n+1]))\n",
    "            elif ts_idx[idx+n+1] <= (thres - 1):  # for -MRRS : 시작이 부족한 경우\n",
    "                ec = 'Z' * (thres - ts_idx[idx+n+1]) + protein[: ts_idx[idx+n+1]+(thres + 1)]\n",
    "            else:\n",
    "                ec = protein[ts_idx[idx+n+1] - thres : ts_idx[idx+n+1] +(thres + 1)]  # n+1번째 tryptic_site\n",
    "                    \n",
    "            # Peptide miss cleavage\n",
    "            if n != 0:  # miss cleavage 고려하는 경우,\n",
    "                ei = []\n",
    "                for i in range(1, n+1):\n",
    "                    if ts_idx[idx+i] >= len(protein) -1 -(thres - 1):\n",
    "                        ei_tmp = protein[ts_idx[idx+i] - thres :] + 'Z' * (thres - (len(protein)-1 - ts_idx[idx+i]))\n",
    "                    elif ts_idx[idx+i] <= (thres - 1):\n",
    "                        ei_tmp = 'Z' * (thres - ts_idx[idx+i]) + protein[: ts_idx[idx+i]+(thres + 1)]\n",
    "                    else:\n",
    "                        ei_tmp = protein[ts_idx[idx+i] - thres : ts_idx[idx+i] +(thres + 1)]\n",
    "                    ei.append(ei_tmp)\n",
    "            else:  # miss cleavage 고려안하는 경우\n",
    "                ei = []\n",
    "            # peptide\n",
    "            if ts_idx[idx+n+1] == len(protein)-1:  # protein C term = idx + n + 1 의 tryptic_site 가 단백질의 마지막인 경우\n",
    "                pep = protein[ts_idx[idx]] + '.' + protein[ts_idx[idx]+1:ts_idx[idx+n+1]+1] + '.Z'\n",
    "            else:\n",
    "                pep = protein[ts_idx[idx]] + '.' + protein[ts_idx[idx]+1:ts_idx[idx+n+1]+1] + '.' + protein[ts_idx[idx+n+1]+1]\n",
    "\n",
    "            peptide.append({pep:[[en], [ec], ei, pname]})\n",
    "    return peptide"
   ]
  },
  {
   "cell_type": "code",
   "execution_count": null,
   "metadata": {
    "ExecuteTime": {
     "end_time": "2021-09-30T13:19:06.703903Z",
     "start_time": "2021-09-30T13:19:05.153118Z"
    }
   },
   "outputs": [],
   "source": [
    "# STRIP_PEPTIDE SPECTRAL_CNT\n",
    "pep2cnt = dict()\n",
    "for p, cnt in df_ided_peptide[['PEPTIDE', 'SPECTRAL_CNT']].values:\n",
    "    if p not in pep2cnt:\n",
    "        pep2cnt[p] = 0\n",
    "    pep2cnt[p] += cnt\n",
    "    \n",
    "    "
   ]
  },
  {
   "cell_type": "code",
   "execution_count": 19,
   "metadata": {
    "ExecuteTime": {
     "end_time": "2021-10-06T15:12:53.037600Z",
     "start_time": "2021-10-06T15:12:53.012235Z"
    }
   },
   "outputs": [],
   "source": [
    "def pep_detection_labelling(df_ided_protein, pep_tree, pep2cnt):\n",
    "    peptide0 = pep_from_prot(df_ided_protein, 0, thres=7)\n",
    "    peps = [list(dic.keys())[0] for dic in peptide0]\n",
    "    ens = [list(dic.values())[0][0] for dic in peptide0]\n",
    "    ecs = [list(dic.values())[0][1] for dic in peptide0]\n",
    "    eis = [list(dic.values())[0][2] for dic in peptide0]\n",
    "    pname = [list(dic.values())[0][3] for dic in peptide0]\n",
    "    zero = pd.DataFrame([[p, n[0], c[0], '-', '-', pn] \n",
    "                         for p, n, c, m, pn in zip(peps, ens, ecs, eis, pname)],\n",
    "                columns=['peptide', 'En', 'Ec', 'E1', 'E2', 'protein'])\n",
    "    zero['PEP'] = [i.split('.')[1] for i in zero.peptide.values]\n",
    "\n",
    "    peptide1 = pep_from_prot(df_ided_protein, 1, thres=7)\n",
    "    peps = [list(dic.keys())[0] for dic in peptide1]\n",
    "    ens = [list(dic.values())[0][0] for dic in peptide1]\n",
    "    ecs = [list(dic.values())[0][1] for dic in peptide1]\n",
    "    eis = [list(dic.values())[0][2] for dic in peptide1]\n",
    "    pname = [list(dic.values())[0][3] for dic in peptide1]\n",
    "    one = pd.DataFrame([[p, n[0], c[0], m[0], '-', pn]\n",
    "                        for p, n, c, m, pn in zip(peps, ens, ecs, eis, pname)],\n",
    "                columns=['peptide', 'En', 'Ec', 'E1', 'E2', 'protein'])\n",
    "    one['PEP'] = [i.split('.')[1] for i in one.peptide.values]\n",
    "\n",
    "    peptide2 = pep_from_prot(df_ided_protein, 2, thres=7)\n",
    "    peps = [list(dic.keys())[0] for dic in peptide2]\n",
    "    ens = [list(dic.values())[0][0] for dic in peptide2]\n",
    "    ecs = [list(dic.values())[0][1] for dic in peptide2]\n",
    "    eis = [list(dic.values())[0][2] for dic in peptide2]\n",
    "    pname = [list(dic.values())[0][3] for dic in peptide2]\n",
    "    two = pd.DataFrame([[p, n[0], c[0], m[0], m[1], pn]\n",
    "                        for p, n, c, m, pn in zip(peps, ens, ecs, eis, pname)],\n",
    "                columns=['peptide', 'En', 'Ec', 'E1', 'E2', 'protein'])\n",
    "    two['PEP'] = [i.split('.')[1] for i in two.peptide.values]\n",
    "\n",
    "    zero_filter = zero.loc[zero.PEP.apply(lambda x: (len(x)>=7) and (len(x)<=30))]\n",
    "    one_filter = one.loc[one.PEP.apply(lambda x: (len(x)>=7) and (len(x)<=30))]\n",
    "    two_filter = two.loc[two.PEP.apply(lambda x: (len(x)>=7) and (len(x)<=30))]\n",
    "\n",
    "    df_fully = pd.concat([zero_filter, one_filter, two_filter], axis=0).reset_index(drop=True)\n",
    "\n",
    "    # preprocessing\n",
    "    amino = list(\"ARNDCEQGHILKMFPSTWYVZ\")\n",
    "    check_u = [idx for idx, t in enumerate(df_fully.PEP.values) if 'U' in t]\n",
    "    check_x = [idx for idx, t in enumerate(df_fully.PEP.values) if 'X' in t]\n",
    "    check_n = [idx for idx, t in enumerate(df_fully.En.values) if (sum([1 for a in t if a not in amino]) >= 1) and t !='-']\n",
    "    check_c = [idx for idx, t in enumerate(df_fully.Ec.values) if (sum([1 for a in t if a not in amino]) >= 1) and t !='-']\n",
    "    check_1 = [idx for idx, t in enumerate(df_fully.E1.values) if (sum([1 for a in t if a not in amino]) >= 1) and t !='-']\n",
    "    check_2 = [idx for idx, t in enumerate(df_fully.E2.values) if (sum([1 for a in t if a not in amino]) >= 1) and t !='-']\n",
    "    check = list(set(check_n).union(set(check_c)).union(set(check_1)).union(set(check_2)).union(set(check_u)).union(set(check_x)))\n",
    "    print('del rows(including U, X amino acid) cnt : {:,}'.format(len(check)))\n",
    "    df_fully = df_fully.drop(check).reset_index(drop=True)\n",
    "\n",
    "    ided = []\n",
    "    for fully_pep in df_fully.PEP.values:\n",
    "        results = [i for i in pep_tree.search_all(fully_pep)]\n",
    "        if len(results) != 0:\n",
    "            result_pep = [_[0] for _ in results]\n",
    "            if fully_pep in result_pep:  # 정확히 똑같은 pep 있는 경우\n",
    "                if pep2cnt[fully_pep] > 1:\n",
    "                    ided.append(1)\n",
    "                else:\n",
    "                    ided.append(-1)  # SC1인 경우는 제거하자\n",
    "            else:\n",
    "                ided.append(0)\n",
    "        else:\n",
    "            ided.append(0)\n",
    "    df_fully['ID'] = ided\n",
    "\n",
    "    drop_idx = df_fully.loc[df_fully.ID==-1].index\n",
    "    print('peptide with 1 spectral count (remove this peptide) cnt : ', len(drop_idx))\n",
    "    df_fully = df_fully.drop(drop_idx).reset_index(drop=True)\n",
    "\n",
    "    drop_idx = np.where(df_fully.duplicated()==True)[0]\n",
    "    df_fully = df_fully.drop(drop_idx).reset_index(drop=True)\n",
    "\n",
    "    print('----ID/nonID cnt----\\n', df_fully.ID.value_counts())  # massIVE-KB : half is semi_non_tryptic, half is fully_tryptic\n",
    "    print('----final shape----\\n', df_fully.shape)\n",
    "    df_fully.head(1)\n",
    "    return df_fully"
   ]
  },
  {
   "cell_type": "code",
   "execution_count": 29,
   "metadata": {
    "ExecuteTime": {
     "end_time": "2021-09-30T13:22:09.099992Z",
     "start_time": "2021-09-30T13:19:06.705310Z"
    }
   },
   "outputs": [
    {
     "name": "stdout",
     "output_type": "stream",
     "text": [
      "del rows(including U, X amino acid) cnt : 160\n",
      "peptide with 1 spectral count (remove this peptide) cnt :  69640\n",
      "----ID/nonID cnt----\n",
      " 0    1615618\n",
      "1     398381\n",
      "Name: ID, dtype: int64\n",
      "----final shape----\n",
      " (2013999, 8)\n"
     ]
    }
   ],
   "source": [
    "df_fully = pep_detection_labelling(df_ided_protein=df_ided_protein, pep_tree=pep_tree, pep2cnt=pep2cnt)"
   ]
  },
  {
   "cell_type": "code",
   "execution_count": 30,
   "metadata": {
    "ExecuteTime": {
     "end_time": "2021-09-30T13:22:09.103536Z",
     "start_time": "2021-09-30T13:22:09.101573Z"
    }
   },
   "outputs": [],
   "source": [
    "# Detection Negative label which is PTM peptide, remove"
   ]
  },
  {
   "cell_type": "code",
   "execution_count": 31,
   "metadata": {
    "ExecuteTime": {
     "end_time": "2021-09-30T13:22:12.904100Z",
     "start_time": "2021-09-30T13:22:09.104703Z"
    }
   },
   "outputs": [],
   "source": [
    "ptm_drop = pd.DataFrame([[_, True] for _ in ptm_seq], columns=['PEP', 'DROP'])\n",
    "df_fully = df_fully.merge(ptm_drop, how='left', on='PEP').fillna(False)"
   ]
  },
  {
   "cell_type": "code",
   "execution_count": 32,
   "metadata": {
    "ExecuteTime": {
     "end_time": "2021-09-30T13:22:15.002784Z",
     "start_time": "2021-09-30T13:22:12.905969Z"
    }
   },
   "outputs": [],
   "source": [
    "drop_idx = df_fully.loc[(df_fully.ID==0) & (df_fully.DROP==True)].index\n",
    "df_fully = df_fully.drop(drop_idx, axis=0).drop('DROP' ,axis=1).reset_index(drop=True)"
   ]
  },
  {
   "cell_type": "code",
   "execution_count": 63,
   "metadata": {
    "ExecuteTime": {
     "end_time": "2021-09-30T14:32:27.509173Z",
     "start_time": "2021-09-30T14:32:27.495356Z"
    }
   },
   "outputs": [
    {
     "data": {
      "text/plain": [
       "0    1491004\n",
       "1     398381\n",
       "Name: ID, dtype: int64"
      ]
     },
     "execution_count": 63,
     "metadata": {},
     "output_type": "execute_result"
    }
   ],
   "source": [
    "df_fully.ID.value_counts()"
   ]
  },
  {
   "cell_type": "code",
   "execution_count": 93,
   "metadata": {
    "ExecuteTime": {
     "end_time": "2021-09-15T17:17:11.484827Z",
     "start_time": "2021-09-15T17:17:04.132194Z"
    }
   },
   "outputs": [],
   "source": [
    "df_fully.to_csv('../data/uniprot/df_whole_pep_from_prot_noptm.csv', index=False)"
   ]
  },
  {
   "cell_type": "markdown",
   "metadata": {},
   "source": [
    "##### 210930메모, 10월중 시도해볼 일\n",
    "- 110만개중에 semi, non tryptic 비율이 궁굼하다!\n",
    "- fully만으로 해야하는 한계를 단백질 매칭 이용해서 해결할수있을것같은데,, digestibility가 거기서도 잘동작하면 정말 대박(잘잡아낸거), 근데 거기선잘안될것같긴 하다 !"
   ]
  },
  {
   "cell_type": "code",
   "execution_count": null,
   "metadata": {},
   "outputs": [],
   "source": []
  },
  {
   "cell_type": "markdown",
   "metadata": {},
   "source": [
    "# Make Digest_prot, Detect_pep, unDetect_pep  version==holdout\n",
    "  - digestion preprocessing -> proceed to AP3 (or each file which treat digestion peptide)\n",
    "  - spectral cnt >= 2 : detect\n",
    "  - spectral cnt == 0 : undetect\n",
    "    - except PTM peptide sequences"
   ]
  },
  {
   "cell_type": "markdown",
   "metadata": {},
   "source": [
    "# 1. protein filtration \n",
    "  - sequence coverage >= 0.5"
   ]
  },
  {
   "cell_type": "code",
   "execution_count": 33,
   "metadata": {
    "ExecuteTime": {
     "end_time": "2021-09-30T13:29:36.568102Z",
     "start_time": "2021-09-30T13:27:36.687395Z"
    }
   },
   "outputs": [],
   "source": [
    "cover_cnt = [[0 for __ in range(len(_))] for _ in df_ided_protein.SEQUENCE.values]\n",
    "coverage_dic = {pname:0 for pname in df_ided_protein.PROTEIN.values}\n",
    "for prot_idx, (prot_seq, pname) in enumerate(df_ided_protein[['SEQUENCE', 'PROTEIN']].values):\n",
    "    pep_results = pep_tree.search_all(prot_seq)\n",
    "\n",
    "    for pep_result in pep_results:  # result = ('ACAC', 5) = (peptide, location)\n",
    "        change_range = range(pep_result[1], pep_result[1] + len(pep_result[0]))\n",
    "        for idx, value in enumerate(cover_cnt[prot_idx]):\n",
    "            if idx in change_range:\n",
    "                value += 1\n",
    "                cover_cnt[prot_idx][idx] = value\n",
    "    cov = sum([1 for _ in cover_cnt[prot_idx] if _ >= 1]) / len(cover_cnt[prot_idx])\n",
    "    coverage_dic[pname] = cov"
   ]
  },
  {
   "cell_type": "code",
   "execution_count": 34,
   "metadata": {
    "ExecuteTime": {
     "end_time": "2021-09-30T13:29:36.610185Z",
     "start_time": "2021-09-30T13:29:36.570197Z"
    }
   },
   "outputs": [],
   "source": [
    "# viz : protein's spectral count, coverage\n",
    "df_cover = pd.DataFrame([[pname, round(c, 2)]\n",
    "                           for pname, c in coverage_dic.items()],\n",
    "                           columns=['protein', 'coverage']).sort_values('coverage', ascending=False)"
   ]
  },
  {
   "cell_type": "code",
   "execution_count": 35,
   "metadata": {
    "ExecuteTime": {
     "end_time": "2021-09-30T13:30:03.739311Z",
     "start_time": "2021-09-30T13:29:36.611675Z"
    }
   },
   "outputs": [
    {
     "data": {
      "image/png": "[encoded data removed]",
      "text/plain": [
       "<Figure size 1080x144 with 1 Axes>"
      ]
     },
     "metadata": {
      "needs_background": "light"
     },
     "output_type": "display_data"
    }
   ],
   "source": [
    "plt.figure(figsize=(15,2))\n",
    "plt.bar(range(len(df_cover)), df_cover.coverage.values, color='orange')\n",
    "\n",
    "plt.title('sequence coverage ')\n",
    "plt.xlabel('protein index')\n",
    "plt.ylabel('coverage')\n",
    "plt.yticks(list(np.arange(0, 1, 0.1)))\n",
    "plt.grid()\n",
    "plt.show()"
   ]
  },
  {
   "cell_type": "code",
   "execution_count": 36,
   "metadata": {
    "ExecuteTime": {
     "end_time": "2021-09-30T13:30:07.238858Z",
     "start_time": "2021-09-30T13:30:03.740973Z"
    }
   },
   "outputs": [
    {
     "name": "stdout",
     "output_type": "stream",
     "text": [
      "after protein sequence coverage >= 0.5 filtration :  7850\n",
      "(3925, 5) (3925, 5)\n"
     ]
    }
   ],
   "source": [
    "THRESHOLD = 0.5\n",
    "remain_prot = df_cover.loc[df_cover.coverage>=THRESHOLD].protein.values\n",
    "print('after protein sequence coverage >= 0.5 filtration : ', len(remain_prot))\n",
    "\n",
    "digest_prot = remain_prot[:int(len(remain_prot)/2)]\n",
    "detect_prot = remain_prot[int(len(remain_prot)/2):]\n",
    "\n",
    "digest_idx = [idx for idx, _ in enumerate(df_ided_protein.PROTEIN.values) if _ in digest_prot]\n",
    "detect_idx = [idx for idx, _ in enumerate(df_ided_protein.PROTEIN.values) if _ in detect_prot]\n",
    "df_digest_protein = df_ided_protein.loc[digest_idx].reset_index(drop=True)\n",
    "df_detect_protein = df_ided_protein.loc[detect_idx].reset_index(drop=True)\n",
    "print(df_digest_protein.shape, df_detect_protein.shape)"
   ]
  },
  {
   "cell_type": "code",
   "execution_count": 98,
   "metadata": {
    "ExecuteTime": {
     "end_time": "2021-09-15T17:20:34.283536Z",
     "start_time": "2021-09-15T17:20:33.545568Z"
    }
   },
   "outputs": [],
   "source": [
    "df_digest_protein.to_csv('../data/uniprot/df_digest_protein_noptm.csv', index=False)\n",
    "df_detect_protein.to_csv('../data/uniprot/df_detect_protein_noptm.csv', index=False)"
   ]
  },
  {
   "cell_type": "markdown",
   "metadata": {},
   "source": [
    "# 2. Detect_pep, unDetect_pep"
   ]
  },
  {
   "cell_type": "code",
   "execution_count": 37,
   "metadata": {
    "ExecuteTime": {
     "end_time": "2021-09-30T13:36:31.751859Z",
     "start_time": "2021-09-30T13:35:49.207812Z"
    }
   },
   "outputs": [
    {
     "name": "stdout",
     "output_type": "stream",
     "text": [
      "del rows(including U, X amino acid) cnt : 26\n",
      "peptide with 1 spectral count (remove this peptide) cnt :  18218\n",
      "----ID/nonID cnt----\n",
      " 0    338292\n",
      "1    111248\n",
      "Name: ID, dtype: int64\n",
      "----final shape----\n",
      " (449540, 8)\n"
     ]
    }
   ],
   "source": [
    "df_detect_peptide = pep_detection_labelling(df_ided_protein = df_detect_protein)"
   ]
  },
  {
   "cell_type": "code",
   "execution_count": 100,
   "metadata": {
    "ExecuteTime": {
     "end_time": "2021-09-15T17:22:12.737830Z",
     "start_time": "2021-09-15T17:22:11.011330Z"
    }
   },
   "outputs": [],
   "source": [
    "df_detect_peptide.to_csv('../data/uniprot/df_detect_peptide_noptm.csv', index=False)"
   ]
  },
  {
   "cell_type": "code",
   "execution_count": 39,
   "metadata": {
    "ExecuteTime": {
     "end_time": "2021-09-30T13:40:57.622149Z",
     "start_time": "2021-09-30T13:40:21.513727Z"
    }
   },
   "outputs": [
    {
     "name": "stdout",
     "output_type": "stream",
     "text": [
      "del rows(including U, X amino acid) cnt : 28\n",
      "peptide with 1 spectral count (remove this peptide) cnt :  19853\n",
      "----ID/nonID cnt----\n",
      " 0    221209\n",
      "1    143988\n",
      "Name: ID, dtype: int64\n",
      "----final shape----\n",
      " (365197, 8)\n"
     ]
    }
   ],
   "source": [
    "df_digest_peptide = pep_detection_labelling(df_ided_protein = df_digest_protein)"
   ]
  },
  {
   "cell_type": "markdown",
   "metadata": {},
   "source": [
    "* unDetectable sampling"
   ]
  },
  {
   "cell_type": "code",
   "execution_count": 40,
   "metadata": {
    "ExecuteTime": {
     "end_time": "2021-09-30T13:49:07.312462Z",
     "start_time": "2021-09-30T13:49:06.644227Z"
    }
   },
   "outputs": [
    {
     "data": {
      "image/png": "[encoded data removed]",
      "text/plain": [
       "<Figure size 1440x144 with 2 Axes>"
      ]
     },
     "metadata": {
      "needs_background": "light"
     },
     "output_type": "display_data"
    }
   ],
   "source": [
    "fig, ax = plt.subplots(1, 2)\n",
    "fig.set_size_inches(20, 2)\n",
    "ax[0].hist(df_detect_peptide.loc[df_detect_peptide.ID==0].PEP.apply(lambda x: len(x)).values, bins=12)\n",
    "ax[0].set_title('whole negative peptide length distribution')\n",
    "ax[1].hist(df_detect_peptide.loc[df_detect_peptide.ID==0].sample(168244, random_state=7).PEP.apply(lambda x: len(x)).values, bins=12)\n",
    "ax[1].set_title('sampled negative peptide length distribution')\n",
    "plt.show()"
   ]
  },
  {
   "cell_type": "code",
   "execution_count": 41,
   "metadata": {
    "ExecuteTime": {
     "end_time": "2021-09-30T13:49:40.612137Z",
     "start_time": "2021-09-30T13:49:40.055747Z"
    }
   },
   "outputs": [
    {
     "data": {
      "image/png": "[encoded data removed]",
      "text/plain": [
       "<Figure size 1440x144 with 2 Axes>"
      ]
     },
     "metadata": {
      "needs_background": "light"
     },
     "output_type": "display_data"
    }
   ],
   "source": [
    "fig, ax = plt.subplots(1, 2)\n",
    "fig.set_size_inches(20, 2)\n",
    "ax[0].hist(df_digest_peptide.loc[df_digest_peptide.ID==0].PEP.apply(lambda x: len(x)).values, bins=12)\n",
    "ax[0].set_title('whole negative peptide length distribution')\n",
    "ax[1].hist(df_digest_peptide.loc[df_digest_peptide.ID==0].sample(168244, random_state=7).PEP.apply(lambda x: len(x)).values, bins=12)\n",
    "ax[1].set_title('sampled negative peptide length distribution')\n",
    "plt.show()"
   ]
  },
  {
   "cell_type": "code",
   "execution_count": 42,
   "metadata": {
    "ExecuteTime": {
     "end_time": "2021-09-30T13:49:48.469771Z",
     "start_time": "2021-09-30T13:49:48.231892Z"
    }
   },
   "outputs": [],
   "source": [
    "p = df_detect_peptide.loc[df_detect_peptide.ID==1]\n",
    "n = df_detect_peptide.loc[df_detect_peptide.ID==0].sample(len(p), random_state=7)\n",
    "df_detect_peptide_sampled = pd.concat([p, n], axis=0).reset_index(drop=True)"
   ]
  },
  {
   "cell_type": "code",
   "execution_count": 43,
   "metadata": {
    "ExecuteTime": {
     "end_time": "2021-09-30T13:49:54.378195Z",
     "start_time": "2021-09-30T13:49:54.110397Z"
    }
   },
   "outputs": [],
   "source": [
    "p = df_digest_peptide.loc[df_digest_peptide.ID==1]\n",
    "n = df_digest_peptide.loc[df_digest_peptide.ID==0].sample(len(p), random_state=7)\n",
    "df_digest_peptide_sampled = pd.concat([p, n], axis=0).reset_index(drop=True)"
   ]
  },
  {
   "cell_type": "markdown",
   "metadata": {},
   "source": [
    "* train_test split (holdout)"
   ]
  },
  {
   "cell_type": "code",
   "execution_count": 52,
   "metadata": {
    "ExecuteTime": {
     "end_time": "2021-09-30T13:51:58.254276Z",
     "start_time": "2021-09-30T13:51:58.136536Z"
    }
   },
   "outputs": [
    {
     "name": "stdout",
     "output_type": "stream",
     "text": [
      "---sampled ID/nonID cnt---\n",
      " 1    111248\n",
      "0    111248\n",
      "Name: ID, dtype: int64 \n",
      "---holdout ID/nonID cnt---\n",
      " 0    44509\n",
      "1    44489\n",
      "Name: ID, dtype: int64 \n",
      "---train   ID/nonID cnt---\n",
      " 1    66759\n",
      "0    66739\n",
      "Name: ID, dtype: int64\n"
     ]
    }
   ],
   "source": [
    "hold = df_detect_peptide_sampled.sample(frac=0.4, random_state=7)\n",
    "train = df_detect_peptide_sampled.drop(hold.index, axis=0)\n",
    "print('---sampled ID/nonID cnt---\\n', df_detect_peptide_sampled.ID.value_counts(),\n",
    "      '\\n---holdout ID/nonID cnt---\\n', hold.ID.value_counts(),\n",
    "      '\\n---train   ID/nonID cnt---\\n', train.ID.value_counts())"
   ]
  },
  {
   "cell_type": "code",
   "execution_count": 53,
   "metadata": {
    "ExecuteTime": {
     "end_time": "2021-09-30T13:52:00.300298Z",
     "start_time": "2021-09-30T13:52:00.105532Z"
    }
   },
   "outputs": [],
   "source": [
    "df_train = pd.concat([train, df_digest_peptide_sampled], axis=0).reset_index(drop=True)"
   ]
  },
  {
   "cell_type": "code",
   "execution_count": 54,
   "metadata": {
    "ExecuteTime": {
     "end_time": "2021-09-30T13:52:00.366825Z",
     "start_time": "2021-09-30T13:52:00.360384Z"
    }
   },
   "outputs": [
    {
     "data": {
      "text/plain": [
       "1    210747\n",
       "0    210727\n",
       "Name: ID, dtype: int64"
      ]
     },
     "execution_count": 54,
     "metadata": {},
     "output_type": "execute_result"
    }
   ],
   "source": [
    "df_train.ID.value_counts()"
   ]
  },
  {
   "cell_type": "code",
   "execution_count": 64,
   "metadata": {
    "ExecuteTime": {
     "end_time": "2021-09-30T15:22:12.842109Z",
     "start_time": "2021-09-30T15:22:10.498471Z"
    }
   },
   "outputs": [],
   "source": [
    "hold.to_csv('../data/df_detect_peptide_test_noptm_210930_includeDigest.csv', index=False)\n",
    "df_train.to_csv('../data/df_detect_peptide_train_noptm_210930_includeDigest.csv', index=False)"
   ]
  },
  {
   "cell_type": "markdown",
   "metadata": {},
   "source": [
    "# pepformer dataset"
   ]
  },
  {
   "cell_type": "code",
   "execution_count": 29,
   "metadata": {
    "ExecuteTime": {
     "end_time": "2021-10-06T15:46:47.174625Z",
     "start_time": "2021-10-06T15:46:19.020761Z"
    }
   },
   "outputs": [
    {
     "name": "stdout",
     "output_type": "stream",
     "text": [
      "(90000, 3)\n"
     ]
    },
    {
     "data": {
      "text/html": [
       "<div>\n",
       "<style scoped>\n",
       "    .dataframe tbody tr th:only-of-type {\n",
       "        vertical-align: middle;\n",
       "    }\n",
       "\n",
       "    .dataframe tbody tr th {\n",
       "        vertical-align: top;\n",
       "    }\n",
       "\n",
       "    .dataframe thead th {\n",
       "        text-align: right;\n",
       "    }\n",
       "</style>\n",
       "<table border=\"1\" class=\"dataframe\">\n",
       "  <thead>\n",
       "    <tr style=\"text-align: right;\">\n",
       "      <th></th>\n",
       "      <th>PEPTIDE</th>\n",
       "      <th>label</th>\n",
       "      <th>SPECTRAL_CNT</th>\n",
       "    </tr>\n",
       "  </thead>\n",
       "  <tbody>\n",
       "    <tr>\n",
       "      <th>0</th>\n",
       "      <td>LLSEVEELNMSLTALREK</td>\n",
       "      <td>0</td>\n",
       "      <td>2</td>\n",
       "    </tr>\n",
       "    <tr>\n",
       "      <th>1</th>\n",
       "      <td>ERMDEEQKLYTD</td>\n",
       "      <td>0</td>\n",
       "      <td>2</td>\n",
       "    </tr>\n",
       "  </tbody>\n",
       "</table>\n",
       "</div>"
      ],
      "text/plain": [
       "              PEPTIDE  label  SPECTRAL_CNT\n",
       "0  LLSEVEELNMSLTALREK      0             2\n",
       "1        ERMDEEQKLYTD      0             2"
      ]
     },
     "execution_count": 29,
     "metadata": {},
     "output_type": "execute_result"
    }
   ],
   "source": [
    "df_pepformer = pd.read_csv('../compareModel/2021ACS_PepFormer/dataset/Homo_sapiens.csv', names=['PEPTIDE', 'label'])\n",
    "df_pepformer['SPECTRAL_CNT'] = 2  # 임의의 id된걸 의미하는 값.\n",
    "\n",
    "pf_tree = tree_from_pep(df_pepformer.PEPTIDE.unique())\n",
    "pf2cnt = {k:2 for k in df_pepformer.PEPTIDE.values}\n",
    "\n",
    "print(df_pepformer.shape)\n",
    "df_pepformer.head(2)"
   ]
  },
  {
   "cell_type": "code",
   "execution_count": 30,
   "metadata": {
    "ExecuteTime": {
     "end_time": "2021-10-06T15:49:07.379422Z",
     "start_time": "2021-10-06T15:48:09.003561Z"
    }
   },
   "outputs": [
    {
     "name": "stdout",
     "output_type": "stream",
     "text": [
      "peptide(spectral) counting done!                              n\n"
     ]
    }
   ],
   "source": [
    "df_pf_protein = df_uni.copy()\n",
    "p2cnt, p2cnt_miss = prot2counting(pf_tree, df_pf_protein, df_pepformer)\n",
    "df_pf_protein['SPECTRAL_CNT'] = [p2cnt[pname] for pname in df_pf_protein.PROTEIN.values]\n",
    "df_pf_protein['SPECTRAL_CNT_MISS'] = [p2cnt_miss[pname] for pname in df_pf_protein.PROTEIN.values]"
   ]
  },
  {
   "cell_type": "code",
   "execution_count": 31,
   "metadata": {
    "ExecuteTime": {
     "end_time": "2021-10-06T15:54:25.127441Z",
     "start_time": "2021-10-06T15:49:07.381439Z"
    }
   },
   "outputs": [
    {
     "name": "stdout",
     "output_type": "stream",
     "text": [
      "del rows(including U, X amino acid) cnt : 11,806\n",
      "peptide with 1 spectral count (remove this peptide) cnt :  0\n",
      "----ID/nonID cnt----\n",
      " 0    4625646\n",
      "1     164741\n",
      "Name: ID, dtype: int64\n",
      "----final shape----\n",
      " (4790387, 8)\n"
     ]
    }
   ],
   "source": [
    "df_pf = pep_detection_labelling(df_ided_protein=df_pf_protein, pep_tree=pf_tree, pep2cnt=pf2cnt)"
   ]
  },
  {
   "cell_type": "code",
   "execution_count": 32,
   "metadata": {
    "ExecuteTime": {
     "end_time": "2021-10-06T15:54:25.142453Z",
     "start_time": "2021-10-06T15:54:25.129309Z"
    }
   },
   "outputs": [
    {
     "data": {
      "text/html": [
       "<div>\n",
       "<style scoped>\n",
       "    .dataframe tbody tr th:only-of-type {\n",
       "        vertical-align: middle;\n",
       "    }\n",
       "\n",
       "    .dataframe tbody tr th {\n",
       "        vertical-align: top;\n",
       "    }\n",
       "\n",
       "    .dataframe thead th {\n",
       "        text-align: right;\n",
       "    }\n",
       "</style>\n",
       "<table border=\"1\" class=\"dataframe\">\n",
       "  <thead>\n",
       "    <tr style=\"text-align: right;\">\n",
       "      <th></th>\n",
       "      <th>peptide</th>\n",
       "      <th>En</th>\n",
       "      <th>Ec</th>\n",
       "      <th>E1</th>\n",
       "      <th>E2</th>\n",
       "      <th>protein</th>\n",
       "      <th>PEP</th>\n",
       "      <th>ID</th>\n",
       "    </tr>\n",
       "  </thead>\n",
       "  <tbody>\n",
       "    <tr>\n",
       "      <th>0</th>\n",
       "      <td>K.PSVLFLHPDLGVGGAER.L</td>\n",
       "      <td>RERDSVPKPSVLFLH</td>\n",
       "      <td>LGVGGAERLVLDAAL</td>\n",
       "      <td>-</td>\n",
       "      <td>-</td>\n",
       "      <td>sp|Q9H553|ALG2_HUMAN</td>\n",
       "      <td>PSVLFLHPDLGVGGAER</td>\n",
       "      <td>0</td>\n",
       "    </tr>\n",
       "    <tr>\n",
       "      <th>1</th>\n",
       "      <td>R.LVLDAALALQAR.G</td>\n",
       "      <td>LGVGGAERLVLDAAL</td>\n",
       "      <td>AALALQARGCSVKIW</td>\n",
       "      <td>-</td>\n",
       "      <td>-</td>\n",
       "      <td>sp|Q9H553|ALG2_HUMAN</td>\n",
       "      <td>LVLDAALALQAR</td>\n",
       "      <td>0</td>\n",
       "    </tr>\n",
       "    <tr>\n",
       "      <th>2</th>\n",
       "      <td>K.IWTAHYDPGHCFAESR.E</td>\n",
       "      <td>QARGCSVKIWTAHYD</td>\n",
       "      <td>GHCFAESRELPVRCA</td>\n",
       "      <td>-</td>\n",
       "      <td>-</td>\n",
       "      <td>sp|Q9H553|ALG2_HUMAN</td>\n",
       "      <td>IWTAHYDPGHCFAESR</td>\n",
       "      <td>0</td>\n",
       "    </tr>\n",
       "    <tr>\n",
       "      <th>3</th>\n",
       "      <td>R.CAGDWLPR.G</td>\n",
       "      <td>ESRELPVRCAGDWLP</td>\n",
       "      <td>CAGDWLPRGLGWGGR</td>\n",
       "      <td>-</td>\n",
       "      <td>-</td>\n",
       "      <td>sp|Q9H553|ALG2_HUMAN</td>\n",
       "      <td>CAGDWLPR</td>\n",
       "      <td>0</td>\n",
       "    </tr>\n",
       "    <tr>\n",
       "      <th>4</th>\n",
       "      <td>R.GLGWGGR.G</td>\n",
       "      <td>CAGDWLPRGLGWGGR</td>\n",
       "      <td>RGLGWGGRGAAVCAY</td>\n",
       "      <td>-</td>\n",
       "      <td>-</td>\n",
       "      <td>sp|Q9H553|ALG2_HUMAN</td>\n",
       "      <td>GLGWGGR</td>\n",
       "      <td>0</td>\n",
       "    </tr>\n",
       "    <tr>\n",
       "      <th>...</th>\n",
       "      <td>...</td>\n",
       "      <td>...</td>\n",
       "      <td>...</td>\n",
       "      <td>...</td>\n",
       "      <td>...</td>\n",
       "      <td>...</td>\n",
       "      <td>...</td>\n",
       "      <td>...</td>\n",
       "    </tr>\n",
       "    <tr>\n",
       "      <th>4790382</th>\n",
       "      <td>K.PFLRLSKEDVWK.E</td>\n",
       "      <td>CPNITVQKPFLRLSK</td>\n",
       "      <td>LSKEDVWKEQTLLCL</td>\n",
       "      <td>TVQKPFLRLSKEDVW</td>\n",
       "      <td>KPFLRLSKEDVWKEQ</td>\n",
       "      <td>tr|E9PGM3|E9PGM3_HUMAN</td>\n",
       "      <td>PFLRLSKEDVWK</td>\n",
       "      <td>0</td>\n",
       "    </tr>\n",
       "    <tr>\n",
       "      <th>4790383</th>\n",
       "      <td>R.NEETRLNSQKK.I</td>\n",
       "      <td>SQQLMQNRNEETRLN</td>\n",
       "      <td>TRLNSQKKILFDVIA</td>\n",
       "      <td>QNRNEETRLNSQKKI</td>\n",
       "      <td>ETRLNSQKKILFDVI</td>\n",
       "      <td>tr|E9PGM3|E9PGM3_HUMAN</td>\n",
       "      <td>NEETRLNSQKK</td>\n",
       "      <td>0</td>\n",
       "    </tr>\n",
       "    <tr>\n",
       "      <th>4790384</th>\n",
       "      <td>R.LNSQKKILFDVIAK.Y</td>\n",
       "      <td>QNRNEETRLNSQKKI</td>\n",
       "      <td>ILFDVIAKYYAQERD</td>\n",
       "      <td>ETRLNSQKKILFDVI</td>\n",
       "      <td>TRLNSQKKILFDVIA</td>\n",
       "      <td>tr|E9PGM3|E9PGM3_HUMAN</td>\n",
       "      <td>LNSQKKILFDVIAK</td>\n",
       "      <td>0</td>\n",
       "    </tr>\n",
       "    <tr>\n",
       "      <th>4790385</th>\n",
       "      <td>K.KILFDVIAKYYAQER.D</td>\n",
       "      <td>ETRLNSQKKILFDVI</td>\n",
       "      <td>AKYYAQERDCLLTDE</td>\n",
       "      <td>TRLNSQKKILFDVIA</td>\n",
       "      <td>ILFDVIAKYYAQERD</td>\n",
       "      <td>tr|E9PGM3|E9PGM3_HUMAN</td>\n",
       "      <td>KILFDVIAKYYAQER</td>\n",
       "      <td>0</td>\n",
       "    </tr>\n",
       "    <tr>\n",
       "      <th>4790386</th>\n",
       "      <td>K.YYAQERDCLLTDEYFDIHSGIIELLENEKR.A</td>\n",
       "      <td>ILFDVIAKYYAQERD</td>\n",
       "      <td>ELLENEKRAEALEAT</td>\n",
       "      <td>AKYYAQERDCLLTDE</td>\n",
       "      <td>IELLENEKRAEALEA</td>\n",
       "      <td>tr|E9PGM3|E9PGM3_HUMAN</td>\n",
       "      <td>YYAQERDCLLTDEYFDIHSGIIELLENEKR</td>\n",
       "      <td>0</td>\n",
       "    </tr>\n",
       "  </tbody>\n",
       "</table>\n",
       "<p>4790387 rows × 8 columns</p>\n",
       "</div>"
      ],
      "text/plain": [
       "                                    peptide               En               Ec  \\\n",
       "0                     K.PSVLFLHPDLGVGGAER.L  RERDSVPKPSVLFLH  LGVGGAERLVLDAAL   \n",
       "1                          R.LVLDAALALQAR.G  LGVGGAERLVLDAAL  AALALQARGCSVKIW   \n",
       "2                      K.IWTAHYDPGHCFAESR.E  QARGCSVKIWTAHYD  GHCFAESRELPVRCA   \n",
       "3                              R.CAGDWLPR.G  ESRELPVRCAGDWLP  CAGDWLPRGLGWGGR   \n",
       "4                               R.GLGWGGR.G  CAGDWLPRGLGWGGR  RGLGWGGRGAAVCAY   \n",
       "...                                     ...              ...              ...   \n",
       "4790382                    K.PFLRLSKEDVWK.E  CPNITVQKPFLRLSK  LSKEDVWKEQTLLCL   \n",
       "4790383                     R.NEETRLNSQKK.I  SQQLMQNRNEETRLN  TRLNSQKKILFDVIA   \n",
       "4790384                  R.LNSQKKILFDVIAK.Y  QNRNEETRLNSQKKI  ILFDVIAKYYAQERD   \n",
       "4790385                 K.KILFDVIAKYYAQER.D  ETRLNSQKKILFDVI  AKYYAQERDCLLTDE   \n",
       "4790386  K.YYAQERDCLLTDEYFDIHSGIIELLENEKR.A  ILFDVIAKYYAQERD  ELLENEKRAEALEAT   \n",
       "\n",
       "                      E1               E2                 protein  \\\n",
       "0                      -                -    sp|Q9H553|ALG2_HUMAN   \n",
       "1                      -                -    sp|Q9H553|ALG2_HUMAN   \n",
       "2                      -                -    sp|Q9H553|ALG2_HUMAN   \n",
       "3                      -                -    sp|Q9H553|ALG2_HUMAN   \n",
       "4                      -                -    sp|Q9H553|ALG2_HUMAN   \n",
       "...                  ...              ...                     ...   \n",
       "4790382  TVQKPFLRLSKEDVW  KPFLRLSKEDVWKEQ  tr|E9PGM3|E9PGM3_HUMAN   \n",
       "4790383  QNRNEETRLNSQKKI  ETRLNSQKKILFDVI  tr|E9PGM3|E9PGM3_HUMAN   \n",
       "4790384  ETRLNSQKKILFDVI  TRLNSQKKILFDVIA  tr|E9PGM3|E9PGM3_HUMAN   \n",
       "4790385  TRLNSQKKILFDVIA  ILFDVIAKYYAQERD  tr|E9PGM3|E9PGM3_HUMAN   \n",
       "4790386  AKYYAQERDCLLTDE  IELLENEKRAEALEA  tr|E9PGM3|E9PGM3_HUMAN   \n",
       "\n",
       "                                    PEP  ID  \n",
       "0                     PSVLFLHPDLGVGGAER   0  \n",
       "1                          LVLDAALALQAR   0  \n",
       "2                      IWTAHYDPGHCFAESR   0  \n",
       "3                              CAGDWLPR   0  \n",
       "4                               GLGWGGR   0  \n",
       "...                                 ...  ..  \n",
       "4790382                    PFLRLSKEDVWK   0  \n",
       "4790383                     NEETRLNSQKK   0  \n",
       "4790384                  LNSQKKILFDVIAK   0  \n",
       "4790385                 KILFDVIAKYYAQER   0  \n",
       "4790386  YYAQERDCLLTDEYFDIHSGIIELLENEKR   0  \n",
       "\n",
       "[4790387 rows x 8 columns]"
      ]
     },
     "execution_count": 32,
     "metadata": {},
     "output_type": "execute_result"
    }
   ],
   "source": [
    "df_pf"
   ]
  },
  {
   "cell_type": "code",
   "execution_count": 33,
   "metadata": {
    "ExecuteTime": {
     "end_time": "2021-10-06T15:59:13.561134Z",
     "start_time": "2021-10-06T15:55:31.915129Z"
    }
   },
   "outputs": [
    {
     "data": {
      "text/plain": [
       "0"
      ]
     },
     "execution_count": 33,
     "metadata": {},
     "output_type": "execute_result"
    }
   ],
   "source": [
    "p = df_pepformer.PEPTIDE.values\n",
    "sum([1 for _ in p if ('X' in p) or ('U' in p)])"
   ]
  },
  {
   "cell_type": "code",
   "execution_count": 36,
   "metadata": {
    "ExecuteTime": {
     "end_time": "2021-10-06T16:01:33.726510Z",
     "start_time": "2021-10-06T16:01:33.399854Z"
    }
   },
   "outputs": [],
   "source": [
    "pp = set(df_pf.loc[df_pf.ID==1].PEP.unique())"
   ]
  },
  {
   "cell_type": "code",
   "execution_count": 37,
   "metadata": {
    "ExecuteTime": {
     "end_time": "2021-10-06T16:01:34.839260Z",
     "start_time": "2021-10-06T16:01:34.836320Z"
    }
   },
   "outputs": [
    {
     "data": {
      "text/plain": [
       "46315"
      ]
     },
     "execution_count": 37,
     "metadata": {},
     "output_type": "execute_result"
    }
   ],
   "source": [
    "len(pp)"
   ]
  },
  {
   "cell_type": "code",
   "execution_count": 34,
   "metadata": {
    "ExecuteTime": {
     "end_time": "2021-10-06T16:00:44.417815Z",
     "start_time": "2021-10-06T16:00:42.635282Z"
    }
   },
   "outputs": [
    {
     "name": "stdout",
     "output_type": "stream",
     "text": [
      "46315\n"
     ]
    }
   ],
   "source": [
    "pp = set(df_pf.PEP.unique())\n",
    "p = set(p)\n",
    "print(len(pp.intersection(p)))"
   ]
  },
  {
   "cell_type": "code",
   "execution_count": 38,
   "metadata": {
    "ExecuteTime": {
     "end_time": "2021-10-06T16:05:48.446919Z",
     "start_time": "2021-10-06T16:03:39.100272Z"
    }
   },
   "outputs": [
    {
     "name": "stdout",
     "output_type": "stream",
     "text": [
      "del rows(including U, X amino acid) cnt : 160\n",
      "peptide with 1 spectral count (remove this peptide) cnt :  0\n",
      "----ID/nonID cnt----\n",
      " 0    2029429\n",
      "1      54072\n",
      "Name: ID, dtype: int64\n",
      "----final shape----\n",
      " (2083501, 8)\n"
     ]
    }
   ],
   "source": [
    "df_pf2 = pep_detection_labelling(df_ided_protein=df_ided_protein, pep_tree=pf_tree, pep2cnt=pf2cnt)"
   ]
  },
  {
   "cell_type": "code",
   "execution_count": null,
   "metadata": {},
   "outputs": [],
   "source": []
  }
 ],
 "metadata": {
  "kernelspec": {
   "display_name": "TF2.0",
   "language": "python",
   "name": "bis"
  },
  "language_info": {
   "codemirror_mode": {
    "name": "ipython",
    "version": 3
   },
   "file_extension": ".py",
   "mimetype": "text/x-python",
   "name": "python",
   "nbconvert_exporter": "python",
   "pygments_lexer": "ipython3",
   "version": "3.6.12"
  }
 },
 "nbformat": 4,
 "nbformat_minor": 4
}
