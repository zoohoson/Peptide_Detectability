{
 "cells": [
  {
   "cell_type": "code",
   "execution_count": 1,
   "metadata": {
    "ExecuteTime": {
     "end_time": "2021-10-04T14:20:24.102578Z",
     "start_time": "2021-10-04T14:20:22.601907Z"
    }
   },
   "outputs": [],
   "source": [
    "import warnings\n",
    "warnings.simplefilter(action='ignore', category=FutureWarning)\n",
    "\n",
    "import argparse\n",
    "import numpy as np\n",
    "import tensorflow as tf\n",
    "from tensorflow import keras"
   ]
  },
  {
   "cell_type": "code",
   "execution_count": 2,
   "metadata": {
    "ExecuteTime": {
     "end_time": "2021-10-04T14:20:24.110098Z",
     "start_time": "2021-10-04T14:20:24.104276Z"
    }
   },
   "outputs": [],
   "source": [
    "def load_pep_and_codify(file, max_len):\n",
    "    aa_dict={'A':1,'R':2,'N':3,'D':4,'C':5,'Q':6,'E':7,'G':8,'H':9,'I':10,'L':11,'K':12,'M':13,'F':14,\n",
    "        'P':15,'O':16,'S':17,'U':18,'T':19,'W':20,'Y':21,'V':22}\n",
    "    with open(file, 'r') as inf:\n",
    "        lines = inf.read().splitlines()\n",
    "    pep_codes=[]\n",
    "    long_pep_counter = 0\n",
    "    newLines = []\n",
    "    for pep in lines:\n",
    "        if not len(pep) > max_len:\n",
    "            current_pep=[]\n",
    "            for aa in pep:\n",
    "                current_pep.append(aa_dict[aa])\n",
    "            pep_codes.append(current_pep)\n",
    "            newLines.extend([pep])\n",
    "        else:\n",
    "            long_pep_counter += 1\n",
    "    predict_data = keras.preprocessing.sequence.pad_sequences(pep_codes, value=0, padding='post', maxlen=max_len)\n",
    "    return predict_data, long_pep_counter, newLines"
   ]
  },
  {
   "cell_type": "code",
   "execution_count": 4,
   "metadata": {
    "ExecuteTime": {
     "end_time": "2021-10-04T14:20:35.086344Z",
     "start_time": "2021-10-04T14:20:35.083152Z"
    }
   },
   "outputs": [],
   "source": [
    "def plot_graphs(history, metric):\n",
    "    plt.plot(history.history[metric])\n",
    "    plt.plot(history.history['val_'+metric], '')\n",
    "    plt.xlabel(\"Epochs\")\n",
    "    plt.ylabel(metric)\n",
    "    plt.legend([metric, 'val_'+metric])"
   ]
  },
  {
   "cell_type": "markdown",
   "metadata": {},
   "source": [
    "# 1. Make Data X_train, y_train, X_test, y_test"
   ]
  },
  {
   "cell_type": "code",
   "execution_count": 3,
   "metadata": {
    "ExecuteTime": {
     "end_time": "2021-10-04T14:20:29.128988Z",
     "start_time": "2021-10-04T14:20:28.485334Z"
    }
   },
   "outputs": [],
   "source": [
    "import matplotlib.pyplot as plt\n",
    "import pandas as pd\n",
    "from sklearn.model_selection import train_test_split\n",
    "\n",
    "file_path = '../compareModel/2019Bioinformatics_DeepMSPeptide/DeepMSPeptide/'"
   ]
  },
  {
   "cell_type": "code",
   "execution_count": 6,
   "metadata": {
    "ExecuteTime": {
     "end_time": "2021-10-04T14:21:32.785499Z",
     "start_time": "2021-10-04T14:21:30.266393Z"
    }
   },
   "outputs": [],
   "source": [
    "# make DeepMSpeptide format\n",
    "df_peptide_train = pd.read_csv('../data/df_detect_peptide_train_noptm_210930_includeDigest.csv')\n",
    "df_peptide_test = pd.read_csv('../data/df_detect_peptide_test_noptm_210930_includeDigest.csv')\n",
    "\n",
    "inp = open(file_path+'detect_peptide_train_noptm_largedata.txt', 'w')\n",
    "inp_y = open(file_path+'detect_peptide_train_y_noptm_largedata.txt', 'w')\n",
    "for x, y in df_peptide_train[['PEP', 'ID']].values:\n",
    "    inp.write(x+'\\n')\n",
    "    inp_y.write(str(y)+'\\n')\n",
    "inp.close()\n",
    "inp_y.close()\n",
    "\n",
    "inp = open(file_path+'detect_peptide_test_noptm_largedata.txt', 'w')\n",
    "inp_y = open(file_path+'detect_peptide_test_y_noptm_largedata.txt', 'w')\n",
    "for x, y in df_peptide_test[['PEP', 'ID']].values:\n",
    "    inp.write(x+'\\n')\n",
    "    inp_y.write(str(y)+'\\n')\n",
    "inp.close()\n",
    "inp_y.close()"
   ]
  },
  {
   "cell_type": "code",
   "execution_count": 7,
   "metadata": {
    "ExecuteTime": {
     "end_time": "2021-10-04T14:21:38.823932Z",
     "start_time": "2021-10-04T14:21:33.832962Z"
    }
   },
   "outputs": [
    {
     "name": "stdout",
     "output_type": "stream",
     "text": [
      "Loading input peptides\n",
      "Succesfully loaded 421474 peptides and skipped 0\n",
      "Loading input peptides\n",
      "Succesfully loaded 88998 peptides and skipped 0\n",
      "(337179, 30) (84295, 30) (88998, 30) (337179,) (84295,) (88998,)\n"
     ]
    }
   ],
   "source": [
    "args = file_path + 'detect_peptide_train_noptm_largedata.txt'\n",
    "print('Loading input peptides')\n",
    "X_train, skipped, lines = load_pep_and_codify(args, 30)\n",
    "tmp = open(file_path+'detect_peptide_train_y_noptm_largedata.txt')\n",
    "y_train = np.array([int(_.replace('\\n', '')) for _ in tmp.readlines()])\n",
    "tmp.close()\n",
    "print('Succesfully loaded {0} peptides and skipped {1}'.format(len(lines), str(skipped)))\n",
    "\n",
    "args = file_path + 'detect_peptide_test_noptm_largedata.txt'\n",
    "print('Loading input peptides')\n",
    "X_test, skipped, lines = load_pep_and_codify(args, 30)\n",
    "tmp = open(file_path+'detect_peptide_test_y_noptm_largedata.txt')\n",
    "y_test = np.array([int(_.replace('\\n', '')) for _ in tmp.readlines()])\n",
    "tmp.close()\n",
    "print('Succesfully loaded {0} peptides and skipped {1}'.format(len(lines), str(skipped)))\n",
    "\n",
    "X_train, X_val, y_train, y_val = train_test_split(X_train, y_train, test_size=0.2)\n",
    "print(X_train.shape, X_val.shape, X_test.shape, y_train.shape, y_val.shape, y_test.shape)"
   ]
  },
  {
   "cell_type": "markdown",
   "metadata": {},
   "source": [
    "# 2. train"
   ]
  },
  {
   "cell_type": "code",
   "execution_count": 8,
   "metadata": {
    "ExecuteTime": {
     "end_time": "2021-10-04T14:22:02.950927Z",
     "start_time": "2021-10-04T14:22:02.777101Z"
    }
   },
   "outputs": [
    {
     "name": "stdout",
     "output_type": "stream",
     "text": [
      "Model: \"sequential_1\"\n",
      "_________________________________________________________________\n",
      "Layer (type)                 Output Shape              Param #   \n",
      "=================================================================\n",
      "embedding_1 (Embedding)      (None, 30, 50)            1150      \n",
      "_________________________________________________________________\n",
      "dropout_2 (Dropout)          (None, 30, 50)            0         \n",
      "_________________________________________________________________\n",
      "conv1d_2 (Conv1D)            (None, 30, 128)           19328     \n",
      "_________________________________________________________________\n",
      "conv1d_3 (Conv1D)            (None, 29, 64)            16448     \n",
      "_________________________________________________________________\n",
      "global_max_pooling1d_1 (Glob (None, 64)                0         \n",
      "_________________________________________________________________\n",
      "dense_2 (Dense)              (None, 64)                4160      \n",
      "_________________________________________________________________\n",
      "dropout_3 (Dropout)          (None, 64)                0         \n",
      "_________________________________________________________________\n",
      "dense_3 (Dense)              (None, 1)                 65        \n",
      "=================================================================\n",
      "Total params: 41,151\n",
      "Trainable params: 41,151\n",
      "Non-trainable params: 0\n",
      "_________________________________________________________________\n"
     ]
    }
   ],
   "source": [
    "model = tf.keras.Sequential([\n",
    "    # vacabulary size 23 (22 AminoAcid + zero padding)\n",
    "    # embedding vector size 50\n",
    "    # input length (including padding) 30 ( 81 to 30)\n",
    "    tf.keras.layers.Embedding(23, 50, input_length=30),\n",
    "    tf.keras.layers.Dropout(np.random.uniform(0, 0.2)),\n",
    "    tf.keras.layers.Conv1D(filters=128, kernel_size=3, strides=1, padding='same'),\n",
    "    tf.keras.layers.Conv1D(filters=64, kernel_size=2, strides=1),\n",
    "    tf.keras.layers.GlobalMaxPooling1D(),\n",
    "    tf.keras.layers.Dense(64, activation='relu'),\n",
    "    tf.keras.layers.Dropout(np.random.uniform(0, 0.2)),\n",
    "    tf.keras.layers.Dense(1, activation='sigmoid')\n",
    "])\n",
    "model.summary()\n",
    "\n",
    "model.compile(loss=tf.keras.losses.BinaryCrossentropy(from_logits=True),\n",
    "              optimizer=tf.keras.optimizers.Adam(1e-4),\n",
    "              metrics=['accuracy'])"
   ]
  },
  {
   "cell_type": "code",
   "execution_count": 9,
   "metadata": {
    "ExecuteTime": {
     "end_time": "2021-10-04T17:37:47.355125Z",
     "start_time": "2021-10-04T14:22:03.800841Z"
    },
    "scrolled": true
   },
   "outputs": [
    {
     "name": "stdout",
     "output_type": "stream",
     "text": [
      "Train on 337179 samples, validate on 84295 samples\n",
      "Epoch 1/200\n",
      "337179/337179 [==============================] - 59s 176us/sample - loss: 0.6143 - acc: 0.7449 - val_loss: 0.5950 - val_acc: 0.7942\n",
      "Epoch 2/200\n",
      "337179/337179 [==============================] - 57s 170us/sample - loss: 0.5946 - acc: 0.8006 - val_loss: 0.5928 - val_acc: 0.8004\n",
      "Epoch 3/200\n",
      "337179/337179 [==============================] - 58s 171us/sample - loss: 0.5933 - acc: 0.8040 - val_loss: 0.5936 - val_acc: 0.7925\n",
      "Epoch 4/200\n",
      "337179/337179 [==============================] - 57s 170us/sample - loss: 0.5924 - acc: 0.8054 - val_loss: 0.5910 - val_acc: 0.8069\n",
      "Epoch 5/200\n",
      "337179/337179 [==============================] - 57s 170us/sample - loss: 0.5919 - acc: 0.8064 - val_loss: 0.5906 - val_acc: 0.8052\n",
      "Epoch 6/200\n",
      "337179/337179 [==============================] - 58s 172us/sample - loss: 0.5915 - acc: 0.8076 - val_loss: 0.5904 - val_acc: 0.8047\n",
      "Epoch 7/200\n",
      "337179/337179 [==============================] - 58s 171us/sample - loss: 0.5907 - acc: 0.8091 - val_loss: 0.5896 - val_acc: 0.8109\n",
      "Epoch 8/200\n",
      "337179/337179 [==============================] - 58s 172us/sample - loss: 0.5903 - acc: 0.8102 - val_loss: 0.5895 - val_acc: 0.8068\n",
      "Epoch 9/200\n",
      "337179/337179 [==============================] - 58s 172us/sample - loss: 0.5898 - acc: 0.8111 - val_loss: 0.5888 - val_acc: 0.8136\n",
      "Epoch 10/200\n",
      "337179/337179 [==============================] - 58s 171us/sample - loss: 0.5891 - acc: 0.8120 - val_loss: 0.5884 - val_acc: 0.8073\n",
      "Epoch 11/200\n",
      "337179/337179 [==============================] - 58s 172us/sample - loss: 0.5879 - acc: 0.8144 - val_loss: 0.5863 - val_acc: 0.8144\n",
      "Epoch 12/200\n",
      "337179/337179 [==============================] - 58s 171us/sample - loss: 0.5867 - acc: 0.8162 - val_loss: 0.5854 - val_acc: 0.8158\n",
      "Epoch 13/200\n",
      "337179/337179 [==============================] - 58s 172us/sample - loss: 0.5858 - acc: 0.8179 - val_loss: 0.5843 - val_acc: 0.8217\n",
      "Epoch 14/200\n",
      "337179/337179 [==============================] - 58s 172us/sample - loss: 0.5850 - acc: 0.8193 - val_loss: 0.5834 - val_acc: 0.8223\n",
      "Epoch 15/200\n",
      "337179/337179 [==============================] - 58s 172us/sample - loss: 0.5843 - acc: 0.8216 - val_loss: 0.5843 - val_acc: 0.8151\n",
      "Epoch 16/200\n",
      "337179/337179 [==============================] - 58s 172us/sample - loss: 0.5838 - acc: 0.8226 - val_loss: 0.5837 - val_acc: 0.8149\n",
      "Epoch 17/200\n",
      "337179/337179 [==============================] - 59s 174us/sample - loss: 0.5832 - acc: 0.8238 - val_loss: 0.5823 - val_acc: 0.8227\n",
      "Epoch 18/200\n",
      "337179/337179 [==============================] - 58s 172us/sample - loss: 0.5826 - acc: 0.8252 - val_loss: 0.5816 - val_acc: 0.8195\n",
      "Epoch 19/200\n",
      "337179/337179 [==============================] - 58s 173us/sample - loss: 0.5823 - acc: 0.8257 - val_loss: 0.5810 - val_acc: 0.8229\n",
      "Epoch 20/200\n",
      "337179/337179 [==============================] - 58s 173us/sample - loss: 0.5817 - acc: 0.8277 - val_loss: 0.5810 - val_acc: 0.8242\n",
      "Epoch 21/200\n",
      "337179/337179 [==============================] - 59s 174us/sample - loss: 0.5813 - acc: 0.8278 - val_loss: 0.5805 - val_acc: 0.8313\n",
      "Epoch 22/200\n",
      "337179/337179 [==============================] - 59s 176us/sample - loss: 0.5810 - acc: 0.8287 - val_loss: 0.5801 - val_acc: 0.8268\n",
      "Epoch 23/200\n",
      "337179/337179 [==============================] - 58s 173us/sample - loss: 0.5806 - acc: 0.8296 - val_loss: 0.5795 - val_acc: 0.8301\n",
      "Epoch 24/200\n",
      "337179/337179 [==============================] - 59s 175us/sample - loss: 0.5803 - acc: 0.8300 - val_loss: 0.5790 - val_acc: 0.8328\n",
      "Epoch 25/200\n",
      "337179/337179 [==============================] - 59s 174us/sample - loss: 0.5800 - acc: 0.8313 - val_loss: 0.5796 - val_acc: 0.8254\n",
      "Epoch 26/200\n",
      "337179/337179 [==============================] - 59s 176us/sample - loss: 0.5797 - acc: 0.8312 - val_loss: 0.5789 - val_acc: 0.8312\n",
      "Epoch 27/200\n",
      "337179/337179 [==============================] - 59s 175us/sample - loss: 0.5796 - acc: 0.8316 - val_loss: 0.5793 - val_acc: 0.8303\n",
      "Epoch 28/200\n",
      "337179/337179 [==============================] - 59s 174us/sample - loss: 0.5792 - acc: 0.8323 - val_loss: 0.5781 - val_acc: 0.8348\n",
      "Epoch 29/200\n",
      "337179/337179 [==============================] - 58s 172us/sample - loss: 0.5790 - acc: 0.8332 - val_loss: 0.5793 - val_acc: 0.8236\n",
      "Epoch 30/200\n",
      "337179/337179 [==============================] - 58s 173us/sample - loss: 0.5789 - acc: 0.8333 - val_loss: 0.5793 - val_acc: 0.8302\n",
      "Epoch 31/200\n",
      "337179/337179 [==============================] - 59s 174us/sample - loss: 0.5786 - acc: 0.8341 - val_loss: 0.5777 - val_acc: 0.8384\n",
      "Epoch 32/200\n",
      "337179/337179 [==============================] - 58s 173us/sample - loss: 0.5785 - acc: 0.8339 - val_loss: 0.5778 - val_acc: 0.8367\n",
      "Epoch 33/200\n",
      "337179/337179 [==============================] - 59s 174us/sample - loss: 0.5782 - acc: 0.8349 - val_loss: 0.5783 - val_acc: 0.8348\n",
      "Epoch 34/200\n",
      "337179/337179 [==============================] - 59s 175us/sample - loss: 0.5781 - acc: 0.8353 - val_loss: 0.5771 - val_acc: 0.8361\n",
      "Epoch 35/200\n",
      "337179/337179 [==============================] - 59s 176us/sample - loss: 0.5780 - acc: 0.8354 - val_loss: 0.5786 - val_acc: 0.8321\n",
      "Epoch 36/200\n",
      "337179/337179 [==============================] - 59s 176us/sample - loss: 0.5778 - acc: 0.8358 - val_loss: 0.5767 - val_acc: 0.8337\n",
      "Epoch 37/200\n",
      "337179/337179 [==============================] - 59s 174us/sample - loss: 0.5775 - acc: 0.8366 - val_loss: 0.5770 - val_acc: 0.8337\n",
      "Epoch 38/200\n",
      "337179/337179 [==============================] - 60s 177us/sample - loss: 0.5774 - acc: 0.8362 - val_loss: 0.5771 - val_acc: 0.8389\n",
      "Epoch 39/200\n",
      "337179/337179 [==============================] - 59s 175us/sample - loss: 0.5771 - acc: 0.8373 - val_loss: 0.5764 - val_acc: 0.8371\n",
      "Epoch 40/200\n",
      "337179/337179 [==============================] - 59s 175us/sample - loss: 0.5770 - acc: 0.8371 - val_loss: 0.5773 - val_acc: 0.8357\n",
      "Epoch 41/200\n",
      "337179/337179 [==============================] - 59s 176us/sample - loss: 0.5770 - acc: 0.8378 - val_loss: 0.5763 - val_acc: 0.8378\n",
      "Epoch 42/200\n",
      "337179/337179 [==============================] - 59s 176us/sample - loss: 0.5769 - acc: 0.8381 - val_loss: 0.5764 - val_acc: 0.8348\n",
      "Epoch 43/200\n",
      "337179/337179 [==============================] - 59s 175us/sample - loss: 0.5767 - acc: 0.8383 - val_loss: 0.5767 - val_acc: 0.8397\n",
      "Epoch 44/200\n",
      "337179/337179 [==============================] - 58s 173us/sample - loss: 0.5766 - acc: 0.8383 - val_loss: 0.5764 - val_acc: 0.8398\n",
      "Epoch 45/200\n",
      "337179/337179 [==============================] - 60s 177us/sample - loss: 0.5767 - acc: 0.8382 - val_loss: 0.5762 - val_acc: 0.8388\n",
      "Epoch 46/200\n",
      "337179/337179 [==============================] - 61s 180us/sample - loss: 0.5764 - acc: 0.8390 - val_loss: 0.5768 - val_acc: 0.8314\n",
      "Epoch 47/200\n",
      "337179/337179 [==============================] - 59s 175us/sample - loss: 0.5764 - acc: 0.8388 - val_loss: 0.5764 - val_acc: 0.8402\n",
      "Epoch 48/200\n",
      "337179/337179 [==============================] - 60s 177us/sample - loss: 0.5761 - acc: 0.8399 - val_loss: 0.5761 - val_acc: 0.8337\n",
      "Epoch 49/200\n",
      "337179/337179 [==============================] - 59s 174us/sample - loss: 0.5762 - acc: 0.8393 - val_loss: 0.5757 - val_acc: 0.8404\n",
      "Epoch 50/200\n",
      "337179/337179 [==============================] - 59s 176us/sample - loss: 0.5761 - acc: 0.8400 - val_loss: 0.5760 - val_acc: 0.8370\n",
      "Epoch 51/200\n",
      "337179/337179 [==============================] - 59s 176us/sample - loss: 0.5759 - acc: 0.8399 - val_loss: 0.5762 - val_acc: 0.8384\n",
      "Epoch 52/200\n",
      "337179/337179 [==============================] - 59s 175us/sample - loss: 0.5759 - acc: 0.8403 - val_loss: 0.5758 - val_acc: 0.8346\n",
      "Epoch 53/200\n",
      "337179/337179 [==============================] - 60s 177us/sample - loss: 0.5757 - acc: 0.8404 - val_loss: 0.5767 - val_acc: 0.8337\n",
      "Epoch 54/200\n",
      "337179/337179 [==============================] - 59s 176us/sample - loss: 0.5756 - acc: 0.8405 - val_loss: 0.5763 - val_acc: 0.8431\n",
      "Epoch 55/200\n",
      "337179/337179 [==============================] - 59s 176us/sample - loss: 0.5756 - acc: 0.8407 - val_loss: 0.5756 - val_acc: 0.8406\n",
      "Epoch 56/200\n",
      "337179/337179 [==============================] - 60s 178us/sample - loss: 0.5754 - acc: 0.8407 - val_loss: 0.5770 - val_acc: 0.8303\n",
      "Epoch 57/200\n"
     ]
    },
    {
     "name": "stdout",
     "output_type": "stream",
     "text": [
      "337179/337179 [==============================] - 60s 177us/sample - loss: 0.5756 - acc: 0.8411 - val_loss: 0.5756 - val_acc: 0.8386\n",
      "Epoch 58/200\n",
      "337179/337179 [==============================] - 59s 175us/sample - loss: 0.5755 - acc: 0.8410 - val_loss: 0.5758 - val_acc: 0.8369\n",
      "Epoch 59/200\n",
      "337179/337179 [==============================] - 59s 176us/sample - loss: 0.5752 - acc: 0.8415 - val_loss: 0.5759 - val_acc: 0.8441\n",
      "Epoch 60/200\n",
      "337179/337179 [==============================] - 59s 176us/sample - loss: 0.5750 - acc: 0.8421 - val_loss: 0.5753 - val_acc: 0.8420\n",
      "Epoch 61/200\n",
      "337179/337179 [==============================] - 59s 176us/sample - loss: 0.5753 - acc: 0.8408 - val_loss: 0.5751 - val_acc: 0.8409\n",
      "Epoch 62/200\n",
      "337179/337179 [==============================] - 59s 176us/sample - loss: 0.5751 - acc: 0.8421 - val_loss: 0.5760 - val_acc: 0.8375\n",
      "Epoch 63/200\n",
      "337179/337179 [==============================] - 59s 175us/sample - loss: 0.5751 - acc: 0.8417 - val_loss: 0.5758 - val_acc: 0.8453\n",
      "Epoch 64/200\n",
      "337179/337179 [==============================] - 60s 177us/sample - loss: 0.5749 - acc: 0.8423 - val_loss: 0.5760 - val_acc: 0.8411\n",
      "Epoch 65/200\n",
      "337179/337179 [==============================] - 59s 176us/sample - loss: 0.5749 - acc: 0.8419 - val_loss: 0.5754 - val_acc: 0.8355\n",
      "Epoch 66/200\n",
      "337179/337179 [==============================] - 60s 177us/sample - loss: 0.5747 - acc: 0.8428 - val_loss: 0.5755 - val_acc: 0.8443\n",
      "Epoch 67/200\n",
      "337179/337179 [==============================] - 59s 176us/sample - loss: 0.5750 - acc: 0.8422 - val_loss: 0.5756 - val_acc: 0.8362\n",
      "Epoch 68/200\n",
      "337179/337179 [==============================] - 59s 176us/sample - loss: 0.5748 - acc: 0.8426 - val_loss: 0.5763 - val_acc: 0.8328\n",
      "Epoch 69/200\n",
      "337179/337179 [==============================] - 59s 176us/sample - loss: 0.5747 - acc: 0.8429 - val_loss: 0.5759 - val_acc: 0.8459\n",
      "Epoch 70/200\n",
      "337179/337179 [==============================] - 59s 174us/sample - loss: 0.5747 - acc: 0.8424 - val_loss: 0.5761 - val_acc: 0.8312\n",
      "Epoch 71/200\n",
      "337179/337179 [==============================] - 60s 178us/sample - loss: 0.5746 - acc: 0.8429 - val_loss: 0.5748 - val_acc: 0.8418\n",
      "Epoch 72/200\n",
      "337179/337179 [==============================] - 59s 176us/sample - loss: 0.5746 - acc: 0.8433 - val_loss: 0.5753 - val_acc: 0.8438\n",
      "Epoch 73/200\n",
      "337179/337179 [==============================] - 60s 179us/sample - loss: 0.5743 - acc: 0.8437 - val_loss: 0.5748 - val_acc: 0.8432\n",
      "Epoch 74/200\n",
      "337179/337179 [==============================] - 60s 178us/sample - loss: 0.5744 - acc: 0.8433 - val_loss: 0.5749 - val_acc: 0.8428\n",
      "Epoch 75/200\n",
      "337179/337179 [==============================] - 60s 177us/sample - loss: 0.5745 - acc: 0.8437 - val_loss: 0.5750 - val_acc: 0.8393\n",
      "Epoch 76/200\n",
      "337179/337179 [==============================] - 60s 178us/sample - loss: 0.5745 - acc: 0.8436 - val_loss: 0.5753 - val_acc: 0.8445\n",
      "Epoch 77/200\n",
      "337179/337179 [==============================] - 60s 177us/sample - loss: 0.5744 - acc: 0.8438 - val_loss: 0.5748 - val_acc: 0.8408\n",
      "Epoch 78/200\n",
      "337179/337179 [==============================] - 60s 177us/sample - loss: 0.5743 - acc: 0.8439 - val_loss: 0.5759 - val_acc: 0.8373\n",
      "Epoch 79/200\n",
      "337179/337179 [==============================] - 60s 177us/sample - loss: 0.5742 - acc: 0.8440 - val_loss: 0.5750 - val_acc: 0.8395\n",
      "Epoch 80/200\n",
      "337179/337179 [==============================] - 60s 179us/sample - loss: 0.5742 - acc: 0.8442 - val_loss: 0.5755 - val_acc: 0.8391\n",
      "Epoch 81/200\n",
      "337179/337179 [==============================] - 58s 171us/sample - loss: 0.5740 - acc: 0.8444 - val_loss: 0.5745 - val_acc: 0.8430\n",
      "Epoch 82/200\n",
      "337179/337179 [==============================] - 62s 185us/sample - loss: 0.5740 - acc: 0.8443 - val_loss: 0.5750 - val_acc: 0.8438\n",
      "Epoch 83/200\n",
      "337179/337179 [==============================] - 62s 185us/sample - loss: 0.5738 - acc: 0.8451 - val_loss: 0.5749 - val_acc: 0.8385\n",
      "Epoch 84/200\n",
      "337179/337179 [==============================] - 62s 184us/sample - loss: 0.5741 - acc: 0.8444 - val_loss: 0.5748 - val_acc: 0.8393\n",
      "Epoch 85/200\n",
      "337179/337179 [==============================] - 62s 184us/sample - loss: 0.5739 - acc: 0.8449 - val_loss: 0.5745 - val_acc: 0.8409\n",
      "Epoch 86/200\n",
      "337179/337179 [==============================] - 62s 183us/sample - loss: 0.5738 - acc: 0.8449 - val_loss: 0.5758 - val_acc: 0.8358\n",
      "Epoch 87/200\n",
      "337179/337179 [==============================] - 62s 185us/sample - loss: 0.5738 - acc: 0.8448 - val_loss: 0.5745 - val_acc: 0.8432\n",
      "Epoch 88/200\n",
      "337179/337179 [==============================] - 62s 185us/sample - loss: 0.5737 - acc: 0.8454 - val_loss: 0.5745 - val_acc: 0.8391\n",
      "Epoch 89/200\n",
      "337179/337179 [==============================] - 62s 185us/sample - loss: 0.5737 - acc: 0.8453 - val_loss: 0.5748 - val_acc: 0.8397\n",
      "Epoch 90/200\n",
      "337179/337179 [==============================] - 62s 185us/sample - loss: 0.5737 - acc: 0.8451 - val_loss: 0.5746 - val_acc: 0.8410\n",
      "Epoch 91/200\n",
      "337179/337179 [==============================] - 62s 185us/sample - loss: 0.5737 - acc: 0.8456 - val_loss: 0.5757 - val_acc: 0.8368\n",
      "Epoch 92/200\n",
      "337179/337179 [==============================] - 62s 184us/sample - loss: 0.5736 - acc: 0.8454 - val_loss: 0.5755 - val_acc: 0.8341\n",
      "Epoch 93/200\n",
      "337179/337179 [==============================] - 62s 185us/sample - loss: 0.5737 - acc: 0.8455 - val_loss: 0.5744 - val_acc: 0.8428\n",
      "Epoch 94/200\n",
      "337179/337179 [==============================] - 62s 185us/sample - loss: 0.5735 - acc: 0.8460 - val_loss: 0.5749 - val_acc: 0.8372\n",
      "Epoch 95/200\n",
      "337179/337179 [==============================] - 63s 185us/sample - loss: 0.5735 - acc: 0.8458 - val_loss: 0.5754 - val_acc: 0.8401\n",
      "Epoch 96/200\n",
      "337179/337179 [==============================] - 63s 186us/sample - loss: 0.5736 - acc: 0.8456 - val_loss: 0.5753 - val_acc: 0.8380\n",
      "Epoch 97/200\n",
      "337179/337179 [==============================] - 62s 184us/sample - loss: 0.5734 - acc: 0.8464 - val_loss: 0.5748 - val_acc: 0.8392\n",
      "Epoch 98/200\n",
      "337179/337179 [==============================] - 62s 185us/sample - loss: 0.5734 - acc: 0.8459 - val_loss: 0.5749 - val_acc: 0.8361\n",
      "Epoch 99/200\n",
      "337179/337179 [==============================] - 62s 184us/sample - loss: 0.5734 - acc: 0.8462 - val_loss: 0.5750 - val_acc: 0.8373\n",
      "Epoch 100/200\n",
      "337179/337179 [==============================] - 62s 185us/sample - loss: 0.5731 - acc: 0.8465 - val_loss: 0.5758 - val_acc: 0.8353\n",
      "Epoch 101/200\n",
      "337179/337179 [==============================] - 62s 184us/sample - loss: 0.5731 - acc: 0.8471 - val_loss: 0.5751 - val_acc: 0.8382\n",
      "Epoch 102/200\n",
      "337179/337179 [==============================] - 62s 185us/sample - loss: 0.5732 - acc: 0.8465 - val_loss: 0.5748 - val_acc: 0.8443\n",
      "Epoch 103/200\n",
      "337179/337179 [==============================] - 63s 187us/sample - loss: 0.5732 - acc: 0.8465 - val_loss: 0.5745 - val_acc: 0.8418\n",
      "Epoch 104/200\n",
      "337179/337179 [==============================] - 63s 185us/sample - loss: 0.5731 - acc: 0.8467 - val_loss: 0.5746 - val_acc: 0.8442\n",
      "Epoch 105/200\n",
      "337179/337179 [==============================] - 62s 185us/sample - loss: 0.5732 - acc: 0.8465 - val_loss: 0.5746 - val_acc: 0.8431\n",
      "Epoch 106/200\n",
      "337179/337179 [==============================] - 63s 186us/sample - loss: 0.5730 - acc: 0.8471 - val_loss: 0.5751 - val_acc: 0.8394\n",
      "Epoch 107/200\n",
      "337179/337179 [==============================] - 62s 185us/sample - loss: 0.5731 - acc: 0.8465 - val_loss: 0.5743 - val_acc: 0.8406\n",
      "Epoch 108/200\n",
      "337179/337179 [==============================] - 62s 184us/sample - loss: 0.5729 - acc: 0.8471 - val_loss: 0.5745 - val_acc: 0.8437\n",
      "Epoch 109/200\n",
      "337179/337179 [==============================] - 63s 186us/sample - loss: 0.5729 - acc: 0.8477 - val_loss: 0.5748 - val_acc: 0.8365\n",
      "Epoch 110/200\n",
      "337179/337179 [==============================] - 63s 186us/sample - loss: 0.5729 - acc: 0.8470 - val_loss: 0.5746 - val_acc: 0.8400\n",
      "Epoch 111/200\n",
      "337179/337179 [==============================] - 63s 186us/sample - loss: 0.5731 - acc: 0.8473 - val_loss: 0.5747 - val_acc: 0.8381\n",
      "Epoch 112/200\n",
      "337179/337179 [==============================] - 63s 186us/sample - loss: 0.5730 - acc: 0.8471 - val_loss: 0.5742 - val_acc: 0.8414\n",
      "Epoch 113/200\n"
     ]
    },
    {
     "name": "stdout",
     "output_type": "stream",
     "text": [
      "337179/337179 [==============================] - 63s 185us/sample - loss: 0.5730 - acc: 0.8471 - val_loss: 0.5753 - val_acc: 0.8380\n",
      "Epoch 114/200\n",
      "337179/337179 [==============================] - 62s 185us/sample - loss: 0.5726 - acc: 0.8478 - val_loss: 0.5756 - val_acc: 0.8339\n",
      "Epoch 115/200\n",
      "337179/337179 [==============================] - 63s 186us/sample - loss: 0.5729 - acc: 0.8472 - val_loss: 0.5747 - val_acc: 0.8435\n",
      "Epoch 116/200\n",
      "337179/337179 [==============================] - 62s 185us/sample - loss: 0.5728 - acc: 0.8477 - val_loss: 0.5745 - val_acc: 0.8411\n",
      "Epoch 117/200\n",
      "337179/337179 [==============================] - 62s 185us/sample - loss: 0.5728 - acc: 0.8481 - val_loss: 0.5743 - val_acc: 0.8415\n",
      "Epoch 118/200\n",
      "337179/337179 [==============================] - 62s 185us/sample - loss: 0.5726 - acc: 0.8480 - val_loss: 0.5747 - val_acc: 0.8368\n",
      "Epoch 119/200\n",
      "337179/337179 [==============================] - 63s 186us/sample - loss: 0.5726 - acc: 0.8478 - val_loss: 0.5750 - val_acc: 0.8418\n",
      "Epoch 120/200\n",
      "337179/337179 [==============================] - 63s 185us/sample - loss: 0.5726 - acc: 0.8481 - val_loss: 0.5750 - val_acc: 0.8433\n",
      "Epoch 121/200\n",
      "337179/337179 [==============================] - 63s 186us/sample - loss: 0.5728 - acc: 0.8477 - val_loss: 0.5743 - val_acc: 0.8427\n",
      "Epoch 122/200\n",
      "337179/337179 [==============================] - 63s 185us/sample - loss: 0.5725 - acc: 0.8486 - val_loss: 0.5745 - val_acc: 0.8419\n",
      "Epoch 123/200\n",
      "337179/337179 [==============================] - 62s 185us/sample - loss: 0.5726 - acc: 0.8477 - val_loss: 0.5756 - val_acc: 0.8323\n",
      "Epoch 124/200\n",
      "337179/337179 [==============================] - 63s 186us/sample - loss: 0.5726 - acc: 0.8484 - val_loss: 0.5746 - val_acc: 0.8431\n",
      "Epoch 125/200\n",
      "337179/337179 [==============================] - 63s 187us/sample - loss: 0.5726 - acc: 0.8481 - val_loss: 0.5748 - val_acc: 0.8407\n",
      "Epoch 126/200\n",
      "337179/337179 [==============================] - 63s 185us/sample - loss: 0.5724 - acc: 0.8487 - val_loss: 0.5747 - val_acc: 0.8461\n",
      "Epoch 127/200\n",
      "337179/337179 [==============================] - 62s 185us/sample - loss: 0.5724 - acc: 0.8488 - val_loss: 0.5749 - val_acc: 0.8398\n",
      "Epoch 128/200\n",
      "337179/337179 [==============================] - 63s 186us/sample - loss: 0.5726 - acc: 0.8480 - val_loss: 0.5743 - val_acc: 0.8404\n",
      "Epoch 129/200\n",
      "337179/337179 [==============================] - 63s 185us/sample - loss: 0.5724 - acc: 0.8489 - val_loss: 0.5740 - val_acc: 0.8430\n",
      "Epoch 130/200\n",
      "337179/337179 [==============================] - 62s 185us/sample - loss: 0.5725 - acc: 0.8485 - val_loss: 0.5744 - val_acc: 0.8408\n",
      "Epoch 131/200\n",
      "337179/337179 [==============================] - 62s 185us/sample - loss: 0.5723 - acc: 0.8485 - val_loss: 0.5745 - val_acc: 0.8398\n",
      "Epoch 132/200\n",
      "337179/337179 [==============================] - 62s 185us/sample - loss: 0.5722 - acc: 0.8490 - val_loss: 0.5746 - val_acc: 0.8408\n",
      "Epoch 133/200\n",
      "337179/337179 [==============================] - 63s 186us/sample - loss: 0.5723 - acc: 0.8490 - val_loss: 0.5749 - val_acc: 0.8371\n",
      "Epoch 134/200\n",
      "337179/337179 [==============================] - 62s 185us/sample - loss: 0.5721 - acc: 0.8493 - val_loss: 0.5742 - val_acc: 0.8398\n",
      "Epoch 135/200\n",
      "337179/337179 [==============================] - 62s 185us/sample - loss: 0.5722 - acc: 0.8492 - val_loss: 0.5752 - val_acc: 0.8345\n",
      "Epoch 136/200\n",
      "337179/337179 [==============================] - 63s 187us/sample - loss: 0.5725 - acc: 0.8479 - val_loss: 0.5747 - val_acc: 0.8366\n",
      "Epoch 137/200\n",
      "337179/337179 [==============================] - 63s 186us/sample - loss: 0.5720 - acc: 0.8495 - val_loss: 0.5744 - val_acc: 0.8448\n",
      "Epoch 138/200\n",
      "337179/337179 [==============================] - 63s 186us/sample - loss: 0.5722 - acc: 0.8496 - val_loss: 0.5747 - val_acc: 0.8414\n",
      "Epoch 139/200\n",
      "337179/337179 [==============================] - 62s 185us/sample - loss: 0.5721 - acc: 0.8494 - val_loss: 0.5740 - val_acc: 0.8426\n",
      "Epoch 140/200\n",
      "337179/337179 [==============================] - 63s 186us/sample - loss: 0.5720 - acc: 0.8491 - val_loss: 0.5746 - val_acc: 0.8376\n",
      "Epoch 141/200\n",
      "337179/337179 [==============================] - 63s 186us/sample - loss: 0.5722 - acc: 0.8490 - val_loss: 0.5744 - val_acc: 0.8406\n",
      "Epoch 142/200\n",
      "337179/337179 [==============================] - 63s 186us/sample - loss: 0.5721 - acc: 0.8494 - val_loss: 0.5744 - val_acc: 0.8454\n",
      "Epoch 143/200\n",
      "337179/337179 [==============================] - 63s 186us/sample - loss: 0.5719 - acc: 0.8496 - val_loss: 0.5743 - val_acc: 0.8413\n",
      "Epoch 144/200\n",
      "337179/337179 [==============================] - 62s 185us/sample - loss: 0.5720 - acc: 0.8492 - val_loss: 0.5744 - val_acc: 0.8430\n",
      "Epoch 145/200\n",
      "337179/337179 [==============================] - 63s 186us/sample - loss: 0.5719 - acc: 0.8500 - val_loss: 0.5750 - val_acc: 0.8364\n",
      "Epoch 146/200\n",
      "337179/337179 [==============================] - 62s 185us/sample - loss: 0.5718 - acc: 0.8500 - val_loss: 0.5745 - val_acc: 0.8466\n",
      "Epoch 147/200\n",
      "337179/337179 [==============================] - 63s 186us/sample - loss: 0.5719 - acc: 0.8499 - val_loss: 0.5746 - val_acc: 0.8389\n",
      "Epoch 148/200\n",
      "337179/337179 [==============================] - 63s 186us/sample - loss: 0.5720 - acc: 0.8495 - val_loss: 0.5744 - val_acc: 0.8391\n",
      "Epoch 149/200\n",
      "337179/337179 [==============================] - 62s 184us/sample - loss: 0.5718 - acc: 0.8501 - val_loss: 0.5746 - val_acc: 0.8470\n",
      "Epoch 150/200\n",
      "337179/337179 [==============================] - 62s 185us/sample - loss: 0.5717 - acc: 0.8504 - val_loss: 0.5745 - val_acc: 0.8409\n",
      "Epoch 151/200\n",
      "337179/337179 [==============================] - 63s 186us/sample - loss: 0.5720 - acc: 0.8497 - val_loss: 0.5742 - val_acc: 0.8425\n",
      "Epoch 152/200\n",
      "337179/337179 [==============================] - 63s 186us/sample - loss: 0.5719 - acc: 0.8502 - val_loss: 0.5747 - val_acc: 0.8403\n",
      "Epoch 153/200\n",
      "337179/337179 [==============================] - 63s 186us/sample - loss: 0.5717 - acc: 0.8501 - val_loss: 0.5743 - val_acc: 0.8453\n",
      "Epoch 154/200\n",
      "337179/337179 [==============================] - 62s 185us/sample - loss: 0.5718 - acc: 0.8505 - val_loss: 0.5743 - val_acc: 0.8401\n",
      "Epoch 155/200\n",
      "337179/337179 [==============================] - 63s 186us/sample - loss: 0.5717 - acc: 0.8499 - val_loss: 0.5753 - val_acc: 0.8401\n",
      "Epoch 156/200\n",
      "337179/337179 [==============================] - 63s 186us/sample - loss: 0.5718 - acc: 0.8502 - val_loss: 0.5754 - val_acc: 0.8396\n",
      "Epoch 157/200\n",
      "337179/337179 [==============================] - 63s 186us/sample - loss: 0.5717 - acc: 0.8502 - val_loss: 0.5742 - val_acc: 0.8455\n",
      "Epoch 158/200\n",
      "337179/337179 [==============================] - 63s 186us/sample - loss: 0.5717 - acc: 0.8500 - val_loss: 0.5745 - val_acc: 0.8384\n",
      "Epoch 159/200\n",
      "337179/337179 [==============================] - 63s 186us/sample - loss: 0.5717 - acc: 0.8506 - val_loss: 0.5752 - val_acc: 0.8396\n",
      "Epoch 160/200\n",
      "337179/337179 [==============================] - 63s 186us/sample - loss: 0.5717 - acc: 0.8502 - val_loss: 0.5741 - val_acc: 0.8445\n",
      "Epoch 161/200\n",
      "337179/337179 [==============================] - 63s 186us/sample - loss: 0.5716 - acc: 0.8503 - val_loss: 0.5742 - val_acc: 0.8415\n",
      "Epoch 162/200\n",
      "337179/337179 [==============================] - 62s 185us/sample - loss: 0.5717 - acc: 0.8506 - val_loss: 0.5741 - val_acc: 0.8439\n",
      "Epoch 163/200\n",
      "337179/337179 [==============================] - 63s 186us/sample - loss: 0.5716 - acc: 0.8507 - val_loss: 0.5745 - val_acc: 0.8384\n",
      "Epoch 164/200\n",
      "337179/337179 [==============================] - 63s 186us/sample - loss: 0.5715 - acc: 0.8507 - val_loss: 0.5746 - val_acc: 0.8416\n",
      "Epoch 165/200\n",
      "337179/337179 [==============================] - 63s 186us/sample - loss: 0.5715 - acc: 0.8504 - val_loss: 0.5742 - val_acc: 0.8411\n",
      "Epoch 166/200\n",
      "337179/337179 [==============================] - 63s 186us/sample - loss: 0.5714 - acc: 0.8508 - val_loss: 0.5745 - val_acc: 0.8390\n",
      "Epoch 167/200\n",
      "337179/337179 [==============================] - 63s 186us/sample - loss: 0.5715 - acc: 0.8508 - val_loss: 0.5741 - val_acc: 0.8404\n",
      "Epoch 168/200\n",
      "337179/337179 [==============================] - 63s 186us/sample - loss: 0.5714 - acc: 0.8510 - val_loss: 0.5743 - val_acc: 0.8389\n",
      "Epoch 169/200\n"
     ]
    },
    {
     "name": "stdout",
     "output_type": "stream",
     "text": [
      "337179/337179 [==============================] - 63s 186us/sample - loss: 0.5715 - acc: 0.8506 - val_loss: 0.5742 - val_acc: 0.8397\n",
      "Epoch 170/200\n",
      "337179/337179 [==============================] - 63s 186us/sample - loss: 0.5714 - acc: 0.8511 - val_loss: 0.5745 - val_acc: 0.8399\n",
      "Epoch 171/200\n",
      "337179/337179 [==============================] - 62s 185us/sample - loss: 0.5714 - acc: 0.8509 - val_loss: 0.5742 - val_acc: 0.8403\n",
      "Epoch 172/200\n",
      "337179/337179 [==============================] - 62s 185us/sample - loss: 0.5714 - acc: 0.8512 - val_loss: 0.5743 - val_acc: 0.8433\n",
      "Epoch 173/200\n",
      "337179/337179 [==============================] - 62s 185us/sample - loss: 0.5712 - acc: 0.8517 - val_loss: 0.5747 - val_acc: 0.8381\n",
      "Epoch 174/200\n",
      "337179/337179 [==============================] - 62s 185us/sample - loss: 0.5715 - acc: 0.8508 - val_loss: 0.5755 - val_acc: 0.8386\n",
      "Epoch 175/200\n",
      "337179/337179 [==============================] - 62s 185us/sample - loss: 0.5711 - acc: 0.8521 - val_loss: 0.5748 - val_acc: 0.8354\n",
      "Epoch 176/200\n",
      "337179/337179 [==============================] - 62s 185us/sample - loss: 0.5714 - acc: 0.8513 - val_loss: 0.5739 - val_acc: 0.8444\n",
      "Epoch 177/200\n",
      "337179/337179 [==============================] - 63s 186us/sample - loss: 0.5714 - acc: 0.8514 - val_loss: 0.5751 - val_acc: 0.8431\n",
      "Epoch 178/200\n",
      "337179/337179 [==============================] - 63s 186us/sample - loss: 0.5714 - acc: 0.8506 - val_loss: 0.5745 - val_acc: 0.8400\n",
      "Epoch 179/200\n",
      "337179/337179 [==============================] - 63s 186us/sample - loss: 0.5714 - acc: 0.8509 - val_loss: 0.5739 - val_acc: 0.8430\n",
      "Epoch 180/200\n",
      "337179/337179 [==============================] - 62s 185us/sample - loss: 0.5713 - acc: 0.8513 - val_loss: 0.5740 - val_acc: 0.8416\n",
      "Epoch 181/200\n",
      "337179/337179 [==============================] - 62s 185us/sample - loss: 0.5713 - acc: 0.8514 - val_loss: 0.5742 - val_acc: 0.8405\n",
      "Epoch 182/200\n",
      "337179/337179 [==============================] - 63s 185us/sample - loss: 0.5711 - acc: 0.8520 - val_loss: 0.5741 - val_acc: 0.8420\n",
      "Epoch 183/200\n",
      "337179/337179 [==============================] - 55s 163us/sample - loss: 0.5711 - acc: 0.8519 - val_loss: 0.5742 - val_acc: 0.8451\n",
      "Epoch 184/200\n",
      "337179/337179 [==============================] - 35s 105us/sample - loss: 0.5713 - acc: 0.8515 - val_loss: 0.5748 - val_acc: 0.8384\n",
      "Epoch 185/200\n",
      "337179/337179 [==============================] - 36s 106us/sample - loss: 0.5711 - acc: 0.8516 - val_loss: 0.5742 - val_acc: 0.8432\n",
      "Epoch 186/200\n",
      "337179/337179 [==============================] - 35s 105us/sample - loss: 0.5710 - acc: 0.8520 - val_loss: 0.5743 - val_acc: 0.8402\n",
      "Epoch 187/200\n",
      "337179/337179 [==============================] - 36s 106us/sample - loss: 0.5711 - acc: 0.8516 - val_loss: 0.5742 - val_acc: 0.8401\n",
      "Epoch 188/200\n",
      "337179/337179 [==============================] - 36s 106us/sample - loss: 0.5712 - acc: 0.8519 - val_loss: 0.5747 - val_acc: 0.8375\n",
      "Epoch 189/200\n",
      "337179/337179 [==============================] - 35s 104us/sample - loss: 0.5711 - acc: 0.8516 - val_loss: 0.5746 - val_acc: 0.8367\n",
      "Epoch 190/200\n",
      "337179/337179 [==============================] - 35s 105us/sample - loss: 0.5712 - acc: 0.8517 - val_loss: 0.5748 - val_acc: 0.8367\n",
      "Epoch 191/200\n",
      "337179/337179 [==============================] - 35s 104us/sample - loss: 0.5708 - acc: 0.8527 - val_loss: 0.5748 - val_acc: 0.8388\n",
      "Epoch 192/200\n",
      "337179/337179 [==============================] - 36s 106us/sample - loss: 0.5710 - acc: 0.8522 - val_loss: 0.5742 - val_acc: 0.8426\n",
      "Epoch 193/200\n",
      "337179/337179 [==============================] - 35s 105us/sample - loss: 0.5709 - acc: 0.8520 - val_loss: 0.5743 - val_acc: 0.8411\n",
      "Epoch 194/200\n",
      "337179/337179 [==============================] - 36s 106us/sample - loss: 0.5707 - acc: 0.8525 - val_loss: 0.5740 - val_acc: 0.8425\n",
      "Epoch 195/200\n",
      "337179/337179 [==============================] - 35s 105us/sample - loss: 0.5710 - acc: 0.8522 - val_loss: 0.5747 - val_acc: 0.8409\n",
      "Epoch 196/200\n",
      "337179/337179 [==============================] - 35s 105us/sample - loss: 0.5711 - acc: 0.8518 - val_loss: 0.5748 - val_acc: 0.8380\n",
      "Epoch 197/200\n",
      "337179/337179 [==============================] - 36s 106us/sample - loss: 0.5709 - acc: 0.8524 - val_loss: 0.5742 - val_acc: 0.8398\n",
      "Epoch 198/200\n",
      "337179/337179 [==============================] - 35s 103us/sample - loss: 0.5710 - acc: 0.8518 - val_loss: 0.5741 - val_acc: 0.8465\n",
      "Epoch 199/200\n",
      "337179/337179 [==============================] - 36s 106us/sample - loss: 0.5712 - acc: 0.8515 - val_loss: 0.5754 - val_acc: 0.8410\n",
      "Epoch 200/200\n",
      "337179/337179 [==============================] - 35s 104us/sample - loss: 0.5709 - acc: 0.8521 - val_loss: 0.5741 - val_acc: 0.8398\n"
     ]
    }
   ],
   "source": [
    "history = model.fit(X_train, y_train, epochs=200, \n",
    "                    batch_size=100,\n",
    "                    validation_data=(X_val, y_val))"
   ]
  },
  {
   "cell_type": "code",
   "execution_count": 10,
   "metadata": {
    "ExecuteTime": {
     "end_time": "2021-10-04T17:37:47.611888Z",
     "start_time": "2021-10-04T17:37:47.356964Z"
    }
   },
   "outputs": [
    {
     "data": {
      "image/png": "[encoded data removed]",
      "text/plain": [
       "<Figure size 1152x144 with 2 Axes>"
      ]
     },
     "metadata": {
      "needs_background": "light"
     },
     "output_type": "display_data"
    }
   ],
   "source": [
    "plt.figure(figsize=(16,2))\n",
    "plt.subplot(1,2,1)\n",
    "plot_graphs(history, 'acc')\n",
    "plt.subplot(1,2,2)\n",
    "plot_graphs(history, 'loss')"
   ]
  },
  {
   "cell_type": "markdown",
   "metadata": {},
   "source": [
    "# 2-2. Github code"
   ]
  },
  {
   "cell_type": "code",
   "execution_count": 11,
   "metadata": {
    "ExecuteTime": {
     "end_time": "2021-10-04T21:02:23.549010Z",
     "start_time": "2021-10-04T17:37:47.613324Z"
    }
   },
   "outputs": [
    {
     "name": "stdout",
     "output_type": "stream",
     "text": [
      "Loading input peptides\n",
      "Succesfully loaded 421474 peptides and skipped 0\n",
      "Loading input peptides\n",
      "Succesfully loaded 88998 peptides and skipped 0\n",
      "(337179, 81) (84295, 81) (88998, 81) (337179,) (84295,) (88998,)\n",
      "Loading model...\n",
      "WARNING:tensorflow:From /home/bis/miniconda3/envs/TF1.14/lib/python3.6/site-packages/tensorflow/python/ops/init_ops.py:97: calling GlorotUniform.__init__ (from tensorflow.python.ops.init_ops) with dtype is deprecated and will be removed in a future version.\n",
      "Instructions for updating:\n",
      "Call initializer instance with the dtype argument instead of passing it to the constructor\n",
      "WARNING:tensorflow:From /home/bis/miniconda3/envs/TF1.14/lib/python3.6/site-packages/tensorflow/python/ops/init_ops.py:97: calling Zeros.__init__ (from tensorflow.python.ops.init_ops) with dtype is deprecated and will be removed in a future version.\n",
      "Instructions for updating:\n",
      "Call initializer instance with the dtype argument instead of passing it to the constructor\n",
      "WARNING:tensorflow:Error in loading the saved optimizer state. As a result, your model is starting with a freshly initialized optimizer.\n",
      "Train on 337179 samples, validate on 84295 samples\n",
      "Epoch 1/200\n",
      "337179/337179 [==============================] - 45s 135us/sample - loss: 0.4376 - acc: 0.7901 - binary_crossentropy: 0.4376 - val_loss: 0.3785 - val_acc: 0.8252 - val_binary_crossentropy: 0.3785\n",
      "Epoch 2/200\n",
      "337179/337179 [==============================] - 44s 131us/sample - loss: 0.3803 - acc: 0.8274 - binary_crossentropy: 0.3803 - val_loss: 0.3651 - val_acc: 0.8322 - val_binary_crossentropy: 0.3651\n",
      "Epoch 3/200\n",
      "337179/337179 [==============================] - 44s 131us/sample - loss: 0.3691 - acc: 0.8343 - binary_crossentropy: 0.3691 - val_loss: 0.3509 - val_acc: 0.8421 - val_binary_crossentropy: 0.3509\n",
      "Epoch 4/200\n",
      "337179/337179 [==============================] - 44s 131us/sample - loss: 0.3630 - acc: 0.8377 - binary_crossentropy: 0.3630 - val_loss: 0.3497 - val_acc: 0.8404 - val_binary_crossentropy: 0.3497\n",
      "Epoch 5/200\n",
      "337179/337179 [==============================] - 44s 130us/sample - loss: 0.3580 - acc: 0.8404 - binary_crossentropy: 0.3580 - val_loss: 0.3459 - val_acc: 0.8447 - val_binary_crossentropy: 0.3459\n",
      "Epoch 6/200\n",
      "337179/337179 [==============================] - 44s 131us/sample - loss: 0.3553 - acc: 0.8418 - binary_crossentropy: 0.3553 - val_loss: 0.3424 - val_acc: 0.8471 - val_binary_crossentropy: 0.3424\n",
      "Epoch 7/200\n",
      "337179/337179 [==============================] - 45s 132us/sample - loss: 0.3524 - acc: 0.8431 - binary_crossentropy: 0.3524 - val_loss: 0.3411 - val_acc: 0.8469 - val_binary_crossentropy: 0.3411\n",
      "Epoch 8/200\n",
      "337179/337179 [==============================] - 45s 132us/sample - loss: 0.3503 - acc: 0.8446 - binary_crossentropy: 0.3503 - val_loss: 0.3396 - val_acc: 0.8479 - val_binary_crossentropy: 0.3396\n",
      "Epoch 9/200\n",
      "337179/337179 [==============================] - 43s 128us/sample - loss: 0.3491 - acc: 0.8447 - binary_crossentropy: 0.3491 - val_loss: 0.3406 - val_acc: 0.8467 - val_binary_crossentropy: 0.3406\n",
      "Epoch 10/200\n",
      "337179/337179 [==============================] - 44s 130us/sample - loss: 0.3473 - acc: 0.8459 - binary_crossentropy: 0.3473 - val_loss: 0.3385 - val_acc: 0.8482 - val_binary_crossentropy: 0.3385\n",
      "Epoch 11/200\n",
      "337179/337179 [==============================] - 46s 136us/sample - loss: 0.3462 - acc: 0.8464 - binary_crossentropy: 0.3462 - val_loss: 0.3397 - val_acc: 0.8472 - val_binary_crossentropy: 0.3397\n",
      "Epoch 12/200\n",
      "337179/337179 [==============================] - 47s 140us/sample - loss: 0.3450 - acc: 0.8472 - binary_crossentropy: 0.3450 - val_loss: 0.3429 - val_acc: 0.8462 - val_binary_crossentropy: 0.3429\n",
      "Epoch 13/200\n",
      "337179/337179 [==============================] - 56s 166us/sample - loss: 0.3438 - acc: 0.8474 - binary_crossentropy: 0.3438 - val_loss: 0.3396 - val_acc: 0.8475 - val_binary_crossentropy: 0.3396\n",
      "Epoch 14/200\n",
      "337179/337179 [==============================] - 71s 210us/sample - loss: 0.3436 - acc: 0.8478 - binary_crossentropy: 0.3436 - val_loss: 0.3368 - val_acc: 0.8491 - val_binary_crossentropy: 0.3368\n",
      "Epoch 15/200\n",
      "337179/337179 [==============================] - 67s 199us/sample - loss: 0.3415 - acc: 0.8490 - binary_crossentropy: 0.3415 - val_loss: 0.3380 - val_acc: 0.8485 - val_binary_crossentropy: 0.3380\n",
      "Epoch 16/200\n",
      "337179/337179 [==============================] - 69s 203us/sample - loss: 0.3419 - acc: 0.8492 - binary_crossentropy: 0.3419 - val_loss: 0.3392 - val_acc: 0.8485 - val_binary_crossentropy: 0.3392\n",
      "Epoch 17/200\n",
      "337179/337179 [==============================] - 70s 207us/sample - loss: 0.3402 - acc: 0.8500 - binary_crossentropy: 0.3402 - val_loss: 0.3427 - val_acc: 0.8469 - val_binary_crossentropy: 0.3427\n",
      "Epoch 18/200\n",
      "337179/337179 [==============================] - 68s 203us/sample - loss: 0.3398 - acc: 0.8496 - binary_crossentropy: 0.3398 - val_loss: 0.3410 - val_acc: 0.8488 - val_binary_crossentropy: 0.3410\n",
      "Epoch 19/200\n",
      "337179/337179 [==============================] - 69s 205us/sample - loss: 0.3382 - acc: 0.8507 - binary_crossentropy: 0.3382 - val_loss: 0.3363 - val_acc: 0.8494 - val_binary_crossentropy: 0.3363\n",
      "Epoch 20/200\n",
      "337179/337179 [==============================] - 69s 203us/sample - loss: 0.3385 - acc: 0.8506 - binary_crossentropy: 0.3385 - val_loss: 0.3365 - val_acc: 0.8498 - val_binary_crossentropy: 0.3365\n",
      "Epoch 21/200\n",
      "337179/337179 [==============================] - 67s 200us/sample - loss: 0.3373 - acc: 0.8510 - binary_crossentropy: 0.3373 - val_loss: 0.3357 - val_acc: 0.8500 - val_binary_crossentropy: 0.3357\n",
      "Epoch 22/200\n",
      "337179/337179 [==============================] - 70s 208us/sample - loss: 0.3368 - acc: 0.8513 - binary_crossentropy: 0.3368 - val_loss: 0.3374 - val_acc: 0.8488 - val_binary_crossentropy: 0.3374\n",
      "Epoch 23/200\n",
      "337179/337179 [==============================] - 69s 206us/sample - loss: 0.3351 - acc: 0.8519 - binary_crossentropy: 0.3351 - val_loss: 0.3354 - val_acc: 0.8499 - val_binary_crossentropy: 0.3354\n",
      "Epoch 24/200\n",
      "337179/337179 [==============================] - 67s 200us/sample - loss: 0.3351 - acc: 0.8516 - binary_crossentropy: 0.3351 - val_loss: 0.3367 - val_acc: 0.8499 - val_binary_crossentropy: 0.3367\n",
      "Epoch 25/200\n",
      "337179/337179 [==============================] - 69s 206us/sample - loss: 0.3346 - acc: 0.8531 - binary_crossentropy: 0.3346 - val_loss: 0.3345 - val_acc: 0.8503 - val_binary_crossentropy: 0.3345\n",
      "Epoch 26/200\n",
      "337179/337179 [==============================] - 70s 206us/sample - loss: 0.3336 - acc: 0.8526 - binary_crossentropy: 0.3336 - val_loss: 0.3365 - val_acc: 0.8492 - val_binary_crossentropy: 0.3365\n",
      "Epoch 27/200\n",
      "337179/337179 [==============================] - 70s 207us/sample - loss: 0.3337 - acc: 0.8521 - binary_crossentropy: 0.3337 - val_loss: 0.3382 - val_acc: 0.8504 - val_binary_crossentropy: 0.3382\n",
      "Epoch 28/200\n",
      "337179/337179 [==============================] - 67s 199us/sample - loss: 0.3327 - acc: 0.8529 - binary_crossentropy: 0.3327 - val_loss: 0.3423 - val_acc: 0.8466 - val_binary_crossentropy: 0.3423\n",
      "Epoch 29/200\n",
      "337179/337179 [==============================] - 70s 209us/sample - loss: 0.3327 - acc: 0.8530 - binary_crossentropy: 0.3327 - val_loss: 0.3361 - val_acc: 0.8499 - val_binary_crossentropy: 0.3361\n",
      "Epoch 30/200\n",
      "337179/337179 [==============================] - 69s 205us/sample - loss: 0.3319 - acc: 0.8533 - binary_crossentropy: 0.3319 - val_loss: 0.3342 - val_acc: 0.8508 - val_binary_crossentropy: 0.3342\n",
      "Epoch 31/200\n",
      "337179/337179 [==============================] - 68s 201us/sample - loss: 0.3310 - acc: 0.8544 - binary_crossentropy: 0.3310 - val_loss: 0.3382 - val_acc: 0.8488 - val_binary_crossentropy: 0.3382\n",
      "Epoch 32/200\n",
      "337179/337179 [==============================] - 66s 196us/sample - loss: 0.3306 - acc: 0.8539 - binary_crossentropy: 0.3306 - val_loss: 0.3341 - val_acc: 0.8508 - val_binary_crossentropy: 0.3341\n",
      "Epoch 33/200\n",
      "337179/337179 [==============================] - 69s 206us/sample - loss: 0.3309 - acc: 0.8535 - binary_crossentropy: 0.3309 - val_loss: 0.3368 - val_acc: 0.8504 - val_binary_crossentropy: 0.3368\n",
      "Epoch 34/200\n",
      "337179/337179 [==============================] - 68s 201us/sample - loss: 0.3295 - acc: 0.8546 - binary_crossentropy: 0.3295 - val_loss: 0.3372 - val_acc: 0.8498 - val_binary_crossentropy: 0.3372\n"
     ]
    },
    {
     "name": "stdout",
     "output_type": "stream",
     "text": [
      "Epoch 35/200\n",
      "337179/337179 [==============================] - 70s 207us/sample - loss: 0.3296 - acc: 0.8549 - binary_crossentropy: 0.3296 - val_loss: 0.3396 - val_acc: 0.8493 - val_binary_crossentropy: 0.3396\n",
      "Epoch 36/200\n",
      "337179/337179 [==============================] - 69s 205us/sample - loss: 0.3294 - acc: 0.8556 - binary_crossentropy: 0.3294 - val_loss: 0.3368 - val_acc: 0.8503 - val_binary_crossentropy: 0.3368\n",
      "Epoch 37/200\n",
      "337179/337179 [==============================] - 69s 204us/sample - loss: 0.3287 - acc: 0.8554 - binary_crossentropy: 0.3287 - val_loss: 0.3343 - val_acc: 0.8504 - val_binary_crossentropy: 0.3343\n",
      "Epoch 38/200\n",
      "337179/337179 [==============================] - 70s 206us/sample - loss: 0.3286 - acc: 0.8549 - binary_crossentropy: 0.3286 - val_loss: 0.3360 - val_acc: 0.8524 - val_binary_crossentropy: 0.3360\n",
      "Epoch 39/200\n",
      "337179/337179 [==============================] - 70s 207us/sample - loss: 0.3279 - acc: 0.8556 - binary_crossentropy: 0.3279 - val_loss: 0.3345 - val_acc: 0.8508 - val_binary_crossentropy: 0.3345\n",
      "Epoch 40/200\n",
      "337179/337179 [==============================] - 70s 207us/sample - loss: 0.3271 - acc: 0.8553 - binary_crossentropy: 0.3271 - val_loss: 0.3325 - val_acc: 0.8518 - val_binary_crossentropy: 0.3325\n",
      "Epoch 41/200\n",
      "337179/337179 [==============================] - 67s 199us/sample - loss: 0.3272 - acc: 0.8560 - binary_crossentropy: 0.3272 - val_loss: 0.3354 - val_acc: 0.8507 - val_binary_crossentropy: 0.3354\n",
      "Epoch 42/200\n",
      "337179/337179 [==============================] - 70s 207us/sample - loss: 0.3264 - acc: 0.8564 - binary_crossentropy: 0.3264 - val_loss: 0.3326 - val_acc: 0.8519 - val_binary_crossentropy: 0.3326\n",
      "Epoch 43/200\n",
      "337179/337179 [==============================] - 69s 204us/sample - loss: 0.3262 - acc: 0.8564 - binary_crossentropy: 0.3262 - val_loss: 0.3404 - val_acc: 0.8446 - val_binary_crossentropy: 0.3404\n",
      "Epoch 44/200\n",
      "337179/337179 [==============================] - 70s 207us/sample - loss: 0.3257 - acc: 0.8562 - binary_crossentropy: 0.3257 - val_loss: 0.3331 - val_acc: 0.8522 - val_binary_crossentropy: 0.3331\n",
      "Epoch 45/200\n",
      "337179/337179 [==============================] - 68s 200us/sample - loss: 0.3254 - acc: 0.8567 - binary_crossentropy: 0.3254 - val_loss: 0.3324 - val_acc: 0.8524 - val_binary_crossentropy: 0.3324\n",
      "Epoch 46/200\n",
      "337179/337179 [==============================] - 69s 206us/sample - loss: 0.3253 - acc: 0.8570 - binary_crossentropy: 0.3253 - val_loss: 0.3344 - val_acc: 0.8511 - val_binary_crossentropy: 0.3344\n",
      "Epoch 47/200\n",
      "337179/337179 [==============================] - 69s 203us/sample - loss: 0.3251 - acc: 0.8566 - binary_crossentropy: 0.3251 - val_loss: 0.3343 - val_acc: 0.8513 - val_binary_crossentropy: 0.3343\n",
      "Epoch 48/200\n",
      "337179/337179 [==============================] - 70s 209us/sample - loss: 0.3244 - acc: 0.8577 - binary_crossentropy: 0.3244 - val_loss: 0.3372 - val_acc: 0.8518 - val_binary_crossentropy: 0.3372\n",
      "Epoch 49/200\n",
      "337179/337179 [==============================] - 68s 201us/sample - loss: 0.3240 - acc: 0.8576 - binary_crossentropy: 0.3240 - val_loss: 0.3344 - val_acc: 0.8514 - val_binary_crossentropy: 0.3344\n",
      "Epoch 50/200\n",
      "337179/337179 [==============================] - 66s 197us/sample - loss: 0.3236 - acc: 0.8574 - binary_crossentropy: 0.3236 - val_loss: 0.3325 - val_acc: 0.8516 - val_binary_crossentropy: 0.3325\n",
      "Epoch 51/200\n",
      "337179/337179 [==============================] - 70s 207us/sample - loss: 0.3235 - acc: 0.8573 - binary_crossentropy: 0.3235 - val_loss: 0.3350 - val_acc: 0.8511 - val_binary_crossentropy: 0.3350\n",
      "Epoch 52/200\n",
      "337179/337179 [==============================] - 69s 205us/sample - loss: 0.3235 - acc: 0.8577 - binary_crossentropy: 0.3235 - val_loss: 0.3405 - val_acc: 0.8481 - val_binary_crossentropy: 0.3405\n",
      "Epoch 53/200\n",
      "337179/337179 [==============================] - 69s 205us/sample - loss: 0.3231 - acc: 0.8577 - binary_crossentropy: 0.3231 - val_loss: 0.3335 - val_acc: 0.8515 - val_binary_crossentropy: 0.3335\n",
      "Epoch 54/200\n",
      "337179/337179 [==============================] - 67s 198us/sample - loss: 0.3228 - acc: 0.8580 - binary_crossentropy: 0.3228 - val_loss: 0.3318 - val_acc: 0.8521 - val_binary_crossentropy: 0.3318\n",
      "Epoch 55/200\n",
      "337179/337179 [==============================] - 69s 204us/sample - loss: 0.3227 - acc: 0.8577 - binary_crossentropy: 0.3227 - val_loss: 0.3356 - val_acc: 0.8511 - val_binary_crossentropy: 0.3356\n",
      "Epoch 56/200\n",
      "337179/337179 [==============================] - 68s 201us/sample - loss: 0.3220 - acc: 0.8585 - binary_crossentropy: 0.3220 - val_loss: 0.3337 - val_acc: 0.8509 - val_binary_crossentropy: 0.3337\n",
      "Epoch 57/200\n",
      "337179/337179 [==============================] - 70s 208us/sample - loss: 0.3216 - acc: 0.8584 - binary_crossentropy: 0.3216 - val_loss: 0.3328 - val_acc: 0.8532 - val_binary_crossentropy: 0.3328\n",
      "Epoch 58/200\n",
      "337179/337179 [==============================] - 67s 198us/sample - loss: 0.3220 - acc: 0.8584 - binary_crossentropy: 0.3220 - val_loss: 0.3325 - val_acc: 0.8528 - val_binary_crossentropy: 0.3325\n",
      "Epoch 59/200\n",
      "337179/337179 [==============================] - 70s 207us/sample - loss: 0.3217 - acc: 0.8582 - binary_crossentropy: 0.3217 - val_loss: 0.3360 - val_acc: 0.8504 - val_binary_crossentropy: 0.3360\n",
      "Epoch 60/200\n",
      "337179/337179 [==============================] - 69s 204us/sample - loss: 0.3210 - acc: 0.8591 - binary_crossentropy: 0.3210 - val_loss: 0.3335 - val_acc: 0.8514 - val_binary_crossentropy: 0.3335\n",
      "Epoch 61/200\n",
      "337179/337179 [==============================] - 69s 204us/sample - loss: 0.3209 - acc: 0.8586 - binary_crossentropy: 0.3209 - val_loss: 0.3313 - val_acc: 0.8530 - val_binary_crossentropy: 0.3313\n",
      "Epoch 62/200\n",
      "337179/337179 [==============================] - 67s 199us/sample - loss: 0.3208 - acc: 0.8590 - binary_crossentropy: 0.3208 - val_loss: 0.3332 - val_acc: 0.8522 - val_binary_crossentropy: 0.3332\n",
      "Epoch 63/200\n",
      "337179/337179 [==============================] - 68s 203us/sample - loss: 0.3205 - acc: 0.8589 - binary_crossentropy: 0.3205 - val_loss: 0.3346 - val_acc: 0.8526 - val_binary_crossentropy: 0.3346\n",
      "Epoch 64/200\n",
      "337179/337179 [==============================] - 69s 205us/sample - loss: 0.3208 - acc: 0.8591 - binary_crossentropy: 0.3208 - val_loss: 0.3328 - val_acc: 0.8520 - val_binary_crossentropy: 0.3328\n",
      "Epoch 65/200\n",
      "337179/337179 [==============================] - 68s 201us/sample - loss: 0.3201 - acc: 0.8588 - binary_crossentropy: 0.3201 - val_loss: 0.3328 - val_acc: 0.8529 - val_binary_crossentropy: 0.3328\n",
      "Epoch 66/200\n",
      "337179/337179 [==============================] - 70s 207us/sample - loss: 0.3204 - acc: 0.8600 - binary_crossentropy: 0.3204 - val_loss: 0.3355 - val_acc: 0.8524 - val_binary_crossentropy: 0.3355\n",
      "Epoch 67/200\n",
      "337179/337179 [==============================] - 68s 202us/sample - loss: 0.3199 - acc: 0.8589 - binary_crossentropy: 0.3199 - val_loss: 0.3326 - val_acc: 0.8519 - val_binary_crossentropy: 0.3326\n",
      "Epoch 68/200\n",
      "337179/337179 [==============================] - 68s 203us/sample - loss: 0.3197 - acc: 0.8596 - binary_crossentropy: 0.3197 - val_loss: 0.3392 - val_acc: 0.8497 - val_binary_crossentropy: 0.3392\n",
      "Epoch 69/200\n",
      "337179/337179 [==============================] - 68s 200us/sample - loss: 0.3196 - acc: 0.8598 - binary_crossentropy: 0.3196 - val_loss: 0.3317 - val_acc: 0.8520 - val_binary_crossentropy: 0.3317\n",
      "Epoch 70/200\n",
      "337179/337179 [==============================] - 70s 208us/sample - loss: 0.3198 - acc: 0.8594 - binary_crossentropy: 0.3198 - val_loss: 0.3326 - val_acc: 0.8526 - val_binary_crossentropy: 0.3326\n",
      "Epoch 71/200\n",
      "337179/337179 [==============================] - 67s 198us/sample - loss: 0.3194 - acc: 0.8596 - binary_crossentropy: 0.3194 - val_loss: 0.3311 - val_acc: 0.8526 - val_binary_crossentropy: 0.3311\n",
      "Epoch 72/200\n",
      "337179/337179 [==============================] - 69s 204us/sample - loss: 0.3194 - acc: 0.8596 - binary_crossentropy: 0.3194 - val_loss: 0.3358 - val_acc: 0.8523 - val_binary_crossentropy: 0.3358\n",
      "Epoch 73/200\n",
      "337179/337179 [==============================] - 69s 203us/sample - loss: 0.3192 - acc: 0.8601 - binary_crossentropy: 0.3192 - val_loss: 0.3348 - val_acc: 0.8524 - val_binary_crossentropy: 0.3348\n",
      "Epoch 74/200\n"
     ]
    },
    {
     "name": "stdout",
     "output_type": "stream",
     "text": [
      "337179/337179 [==============================] - 69s 205us/sample - loss: 0.3194 - acc: 0.8595 - binary_crossentropy: 0.3194 - val_loss: 0.3316 - val_acc: 0.8542 - val_binary_crossentropy: 0.3316\n",
      "Epoch 75/200\n",
      "337179/337179 [==============================] - 69s 204us/sample - loss: 0.3188 - acc: 0.8600 - binary_crossentropy: 0.3188 - val_loss: 0.3337 - val_acc: 0.8521 - val_binary_crossentropy: 0.3337\n",
      "Epoch 76/200\n",
      "337179/337179 [==============================] - 69s 204us/sample - loss: 0.3181 - acc: 0.8597 - binary_crossentropy: 0.3181 - val_loss: 0.3356 - val_acc: 0.8529 - val_binary_crossentropy: 0.3356\n",
      "Epoch 77/200\n",
      "337179/337179 [==============================] - 69s 204us/sample - loss: 0.3184 - acc: 0.8598 - binary_crossentropy: 0.3184 - val_loss: 0.3310 - val_acc: 0.8525 - val_binary_crossentropy: 0.3310\n",
      "Epoch 78/200\n",
      "337179/337179 [==============================] - 68s 201us/sample - loss: 0.3179 - acc: 0.8607 - binary_crossentropy: 0.3179 - val_loss: 0.3328 - val_acc: 0.8522 - val_binary_crossentropy: 0.3328\n",
      "Epoch 79/200\n",
      "337179/337179 [==============================] - 70s 208us/sample - loss: 0.3181 - acc: 0.8599 - binary_crossentropy: 0.3181 - val_loss: 0.3323 - val_acc: 0.8512 - val_binary_crossentropy: 0.3323\n",
      "Epoch 80/200\n",
      "337179/337179 [==============================] - 68s 200us/sample - loss: 0.3179 - acc: 0.8603 - binary_crossentropy: 0.3179 - val_loss: 0.3325 - val_acc: 0.8524 - val_binary_crossentropy: 0.3325\n",
      "Epoch 81/200\n",
      "337179/337179 [==============================] - 70s 208us/sample - loss: 0.3176 - acc: 0.8604 - binary_crossentropy: 0.3176 - val_loss: 0.3328 - val_acc: 0.8529 - val_binary_crossentropy: 0.3328\n",
      "Epoch 82/200\n",
      "337179/337179 [==============================] - 68s 201us/sample - loss: 0.3178 - acc: 0.8608 - binary_crossentropy: 0.3178 - val_loss: 0.3351 - val_acc: 0.8529 - val_binary_crossentropy: 0.3351\n",
      "Epoch 83/200\n",
      "337179/337179 [==============================] - 69s 206us/sample - loss: 0.3173 - acc: 0.8609 - binary_crossentropy: 0.3173 - val_loss: 0.3350 - val_acc: 0.8513 - val_binary_crossentropy: 0.3350\n",
      "Epoch 84/200\n",
      "337179/337179 [==============================] - 68s 201us/sample - loss: 0.3169 - acc: 0.8611 - binary_crossentropy: 0.3169 - val_loss: 0.3320 - val_acc: 0.8526 - val_binary_crossentropy: 0.3320\n",
      "Epoch 85/200\n",
      "337179/337179 [==============================] - 64s 191us/sample - loss: 0.3171 - acc: 0.8610 - binary_crossentropy: 0.3171 - val_loss: 0.3375 - val_acc: 0.8507 - val_binary_crossentropy: 0.3375\n",
      "Epoch 86/200\n",
      "337179/337179 [==============================] - 61s 182us/sample - loss: 0.3172 - acc: 0.8609 - binary_crossentropy: 0.3172 - val_loss: 0.3316 - val_acc: 0.8540 - val_binary_crossentropy: 0.3316\n",
      "Epoch 87/200\n",
      "337179/337179 [==============================] - 58s 171us/sample - loss: 0.3174 - acc: 0.8607 - binary_crossentropy: 0.3174 - val_loss: 0.3326 - val_acc: 0.8531 - val_binary_crossentropy: 0.3326\n",
      "Epoch 88/200\n",
      "337179/337179 [==============================] - 60s 177us/sample - loss: 0.3173 - acc: 0.8607 - binary_crossentropy: 0.3173 - val_loss: 0.3369 - val_acc: 0.8517 - val_binary_crossentropy: 0.3369\n",
      "Epoch 89/200\n",
      "337179/337179 [==============================] - 59s 175us/sample - loss: 0.3166 - acc: 0.8612 - binary_crossentropy: 0.3166 - val_loss: 0.3390 - val_acc: 0.8517 - val_binary_crossentropy: 0.3390\n",
      "Epoch 90/200\n",
      "337179/337179 [==============================] - 61s 181us/sample - loss: 0.3168 - acc: 0.8605 - binary_crossentropy: 0.3168 - val_loss: 0.3317 - val_acc: 0.8536 - val_binary_crossentropy: 0.3317\n",
      "Epoch 91/200\n",
      "337179/337179 [==============================] - 60s 178us/sample - loss: 0.3161 - acc: 0.8617 - binary_crossentropy: 0.3161 - val_loss: 0.3356 - val_acc: 0.8531 - val_binary_crossentropy: 0.3356\n",
      "Epoch 92/200\n",
      "337179/337179 [==============================] - 61s 181us/sample - loss: 0.3162 - acc: 0.8620 - binary_crossentropy: 0.3162 - val_loss: 0.3339 - val_acc: 0.8532 - val_binary_crossentropy: 0.3339\n",
      "Epoch 93/200\n",
      "337179/337179 [==============================] - 57s 169us/sample - loss: 0.3161 - acc: 0.8613 - binary_crossentropy: 0.3161 - val_loss: 0.3344 - val_acc: 0.8524 - val_binary_crossentropy: 0.3344\n",
      "Epoch 94/200\n",
      "337179/337179 [==============================] - 62s 183us/sample - loss: 0.3163 - acc: 0.8617 - binary_crossentropy: 0.3163 - val_loss: 0.3404 - val_acc: 0.8497 - val_binary_crossentropy: 0.3404\n",
      "Epoch 95/200\n",
      "337179/337179 [==============================] - 58s 172us/sample - loss: 0.3158 - acc: 0.8616 - binary_crossentropy: 0.3158 - val_loss: 0.3358 - val_acc: 0.8523 - val_binary_crossentropy: 0.3358\n",
      "Epoch 96/200\n",
      "337179/337179 [==============================] - 61s 181us/sample - loss: 0.3156 - acc: 0.8614 - binary_crossentropy: 0.3156 - val_loss: 0.3321 - val_acc: 0.8537 - val_binary_crossentropy: 0.3321\n",
      "Epoch 97/200\n",
      "337179/337179 [==============================] - 58s 172us/sample - loss: 0.3155 - acc: 0.8614 - binary_crossentropy: 0.3155 - val_loss: 0.3359 - val_acc: 0.8501 - val_binary_crossentropy: 0.3359\n",
      "Epoch 98/200\n",
      "337179/337179 [==============================] - 60s 179us/sample - loss: 0.3161 - acc: 0.8615 - binary_crossentropy: 0.3161 - val_loss: 0.3326 - val_acc: 0.8535 - val_binary_crossentropy: 0.3326\n",
      "Epoch 99/200\n",
      "337179/337179 [==============================] - 58s 173us/sample - loss: 0.3159 - acc: 0.8621 - binary_crossentropy: 0.3159 - val_loss: 0.3342 - val_acc: 0.8515 - val_binary_crossentropy: 0.3342\n",
      "Epoch 100/200\n",
      "337179/337179 [==============================] - 62s 184us/sample - loss: 0.3155 - acc: 0.8614 - binary_crossentropy: 0.3155 - val_loss: 0.3331 - val_acc: 0.8514 - val_binary_crossentropy: 0.3331\n",
      "Epoch 101/200\n",
      "337179/337179 [==============================] - 59s 175us/sample - loss: 0.3157 - acc: 0.8615 - binary_crossentropy: 0.3157 - val_loss: 0.3329 - val_acc: 0.8527 - val_binary_crossentropy: 0.3329\n",
      "Epoch 102/200\n",
      "337179/337179 [==============================] - 60s 179us/sample - loss: 0.3151 - acc: 0.8614 - binary_crossentropy: 0.3151 - val_loss: 0.3323 - val_acc: 0.8535 - val_binary_crossentropy: 0.3323\n",
      "Epoch 103/200\n",
      "337179/337179 [==============================] - 59s 175us/sample - loss: 0.3154 - acc: 0.8615 - binary_crossentropy: 0.3154 - val_loss: 0.3349 - val_acc: 0.8537 - val_binary_crossentropy: 0.3349\n",
      "Epoch 104/200\n",
      "337179/337179 [==============================] - 60s 179us/sample - loss: 0.3147 - acc: 0.8626 - binary_crossentropy: 0.3147 - val_loss: 0.3353 - val_acc: 0.8508 - val_binary_crossentropy: 0.3353\n",
      "Epoch 105/200\n",
      "337179/337179 [==============================] - 59s 175us/sample - loss: 0.3149 - acc: 0.8616 - binary_crossentropy: 0.3149 - val_loss: 0.3330 - val_acc: 0.8538 - val_binary_crossentropy: 0.3330\n",
      "Epoch 106/200\n",
      "337179/337179 [==============================] - 59s 176us/sample - loss: 0.3148 - acc: 0.8623 - binary_crossentropy: 0.3148 - val_loss: 0.3339 - val_acc: 0.8527 - val_binary_crossentropy: 0.3339\n",
      "Epoch 107/200\n",
      "337179/337179 [==============================] - 57s 170us/sample - loss: 0.3147 - acc: 0.8624 - binary_crossentropy: 0.3147 - val_loss: 0.3343 - val_acc: 0.8510 - val_binary_crossentropy: 0.3343\n",
      "Epoch 108/200\n",
      "337179/337179 [==============================] - 62s 184us/sample - loss: 0.3151 - acc: 0.8626 - binary_crossentropy: 0.3151 - val_loss: 0.3358 - val_acc: 0.8533 - val_binary_crossentropy: 0.3358\n",
      "Epoch 109/200\n",
      "337179/337179 [==============================] - 58s 173us/sample - loss: 0.3146 - acc: 0.8624 - binary_crossentropy: 0.3146 - val_loss: 0.3321 - val_acc: 0.8527 - val_binary_crossentropy: 0.3321\n",
      "Epoch 110/200\n",
      "337179/337179 [==============================] - 61s 181us/sample - loss: 0.3144 - acc: 0.8619 - binary_crossentropy: 0.3144 - val_loss: 0.3318 - val_acc: 0.8530 - val_binary_crossentropy: 0.3318\n",
      "Epoch 111/200\n",
      "337179/337179 [==============================] - 59s 174us/sample - loss: 0.3140 - acc: 0.8622 - binary_crossentropy: 0.3140 - val_loss: 0.3396 - val_acc: 0.8532 - val_binary_crossentropy: 0.3396\n",
      "Epoch 112/200\n",
      "337179/337179 [==============================] - 62s 183us/sample - loss: 0.3142 - acc: 0.8620 - binary_crossentropy: 0.3142 - val_loss: 0.3377 - val_acc: 0.8534 - val_binary_crossentropy: 0.3377\n",
      "Epoch 113/200\n"
     ]
    },
    {
     "name": "stdout",
     "output_type": "stream",
     "text": [
      "337179/337179 [==============================] - 60s 178us/sample - loss: 0.3141 - acc: 0.8624 - binary_crossentropy: 0.3141 - val_loss: 0.3325 - val_acc: 0.8539 - val_binary_crossentropy: 0.3325\n",
      "Epoch 114/200\n",
      "337179/337179 [==============================] - 61s 182us/sample - loss: 0.3140 - acc: 0.8628 - binary_crossentropy: 0.3140 - val_loss: 0.3318 - val_acc: 0.8540 - val_binary_crossentropy: 0.3318\n",
      "Epoch 115/200\n",
      "337179/337179 [==============================] - 58s 171us/sample - loss: 0.3144 - acc: 0.8621 - binary_crossentropy: 0.3144 - val_loss: 0.3335 - val_acc: 0.8533 - val_binary_crossentropy: 0.3335\n",
      "Epoch 116/200\n",
      "337179/337179 [==============================] - 61s 180us/sample - loss: 0.3146 - acc: 0.8618 - binary_crossentropy: 0.3146 - val_loss: 0.3371 - val_acc: 0.8535 - val_binary_crossentropy: 0.3371\n",
      "Epoch 117/200\n",
      "337179/337179 [==============================] - 60s 177us/sample - loss: 0.3138 - acc: 0.8622 - binary_crossentropy: 0.3138 - val_loss: 0.3319 - val_acc: 0.8530 - val_binary_crossentropy: 0.3319\n",
      "Epoch 118/200\n",
      "337179/337179 [==============================] - 61s 180us/sample - loss: 0.3140 - acc: 0.8623 - binary_crossentropy: 0.3140 - val_loss: 0.3333 - val_acc: 0.8538 - val_binary_crossentropy: 0.3333\n",
      "Epoch 119/200\n",
      "337179/337179 [==============================] - 60s 178us/sample - loss: 0.3140 - acc: 0.8619 - binary_crossentropy: 0.3140 - val_loss: 0.3357 - val_acc: 0.8529 - val_binary_crossentropy: 0.3357\n",
      "Epoch 120/200\n",
      "337179/337179 [==============================] - 60s 178us/sample - loss: 0.3138 - acc: 0.8628 - binary_crossentropy: 0.3138 - val_loss: 0.3366 - val_acc: 0.8528 - val_binary_crossentropy: 0.3366\n",
      "Epoch 121/200\n",
      "337179/337179 [==============================] - 59s 175us/sample - loss: 0.3133 - acc: 0.8629 - binary_crossentropy: 0.3133 - val_loss: 0.3328 - val_acc: 0.8533 - val_binary_crossentropy: 0.3328\n",
      "Epoch 122/200\n",
      "337179/337179 [==============================] - 61s 181us/sample - loss: 0.3131 - acc: 0.8631 - binary_crossentropy: 0.3131 - val_loss: 0.3341 - val_acc: 0.8526 - val_binary_crossentropy: 0.3341\n",
      "Epoch 123/200\n",
      "337179/337179 [==============================] - 59s 176us/sample - loss: 0.3130 - acc: 0.8632 - binary_crossentropy: 0.3130 - val_loss: 0.3342 - val_acc: 0.8545 - val_binary_crossentropy: 0.3342\n",
      "Epoch 124/200\n",
      "337179/337179 [==============================] - 59s 175us/sample - loss: 0.3135 - acc: 0.8625 - binary_crossentropy: 0.3135 - val_loss: 0.3327 - val_acc: 0.8526 - val_binary_crossentropy: 0.3327\n",
      "Epoch 125/200\n",
      "337179/337179 [==============================] - 60s 177us/sample - loss: 0.3135 - acc: 0.8624 - binary_crossentropy: 0.3135 - val_loss: 0.3326 - val_acc: 0.8535 - val_binary_crossentropy: 0.3326\n",
      "Epoch 126/200\n",
      "337179/337179 [==============================] - 61s 180us/sample - loss: 0.3122 - acc: 0.8634 - binary_crossentropy: 0.3122 - val_loss: 0.3376 - val_acc: 0.8524 - val_binary_crossentropy: 0.3376\n",
      "Epoch 127/200\n",
      "337179/337179 [==============================] - 60s 178us/sample - loss: 0.3126 - acc: 0.8627 - binary_crossentropy: 0.3126 - val_loss: 0.3345 - val_acc: 0.8528 - val_binary_crossentropy: 0.3345\n",
      "Epoch 128/200\n",
      "337179/337179 [==============================] - 60s 178us/sample - loss: 0.3133 - acc: 0.8627 - binary_crossentropy: 0.3134 - val_loss: 0.3318 - val_acc: 0.8536 - val_binary_crossentropy: 0.3318\n",
      "Epoch 129/200\n",
      "337179/337179 [==============================] - 58s 173us/sample - loss: 0.3135 - acc: 0.8624 - binary_crossentropy: 0.3135 - val_loss: 0.3341 - val_acc: 0.8531 - val_binary_crossentropy: 0.3341\n",
      "Epoch 130/200\n",
      "337179/337179 [==============================] - 60s 177us/sample - loss: 0.3128 - acc: 0.8632 - binary_crossentropy: 0.3128 - val_loss: 0.3380 - val_acc: 0.8517 - val_binary_crossentropy: 0.3380\n",
      "Epoch 131/200\n",
      "337179/337179 [==============================] - 61s 181us/sample - loss: 0.3128 - acc: 0.8629 - binary_crossentropy: 0.3128 - val_loss: 0.3342 - val_acc: 0.8530 - val_binary_crossentropy: 0.3342\n",
      "Epoch 132/200\n",
      "337179/337179 [==============================] - 59s 175us/sample - loss: 0.3124 - acc: 0.8631 - binary_crossentropy: 0.3124 - val_loss: 0.3381 - val_acc: 0.8521 - val_binary_crossentropy: 0.3381\n",
      "Epoch 133/200\n",
      "337179/337179 [==============================] - 59s 175us/sample - loss: 0.3125 - acc: 0.8630 - binary_crossentropy: 0.3125 - val_loss: 0.3354 - val_acc: 0.8532 - val_binary_crossentropy: 0.3354\n",
      "Epoch 134/200\n",
      "337179/337179 [==============================] - 59s 174us/sample - loss: 0.3127 - acc: 0.8633 - binary_crossentropy: 0.3127 - val_loss: 0.3345 - val_acc: 0.8515 - val_binary_crossentropy: 0.3345\n",
      "Epoch 135/200\n",
      "337179/337179 [==============================] - 61s 180us/sample - loss: 0.3123 - acc: 0.8638 - binary_crossentropy: 0.3123 - val_loss: 0.3341 - val_acc: 0.8538 - val_binary_crossentropy: 0.3341\n",
      "Epoch 136/200\n",
      "337179/337179 [==============================] - 60s 177us/sample - loss: 0.3117 - acc: 0.8633 - binary_crossentropy: 0.3117 - val_loss: 0.3341 - val_acc: 0.8519 - val_binary_crossentropy: 0.3341\n",
      "Epoch 137/200\n",
      "337179/337179 [==============================] - 61s 180us/sample - loss: 0.3120 - acc: 0.8636 - binary_crossentropy: 0.3120 - val_loss: 0.3358 - val_acc: 0.8520 - val_binary_crossentropy: 0.3358\n",
      "Epoch 138/200\n",
      "337179/337179 [==============================] - 58s 171us/sample - loss: 0.3116 - acc: 0.8635 - binary_crossentropy: 0.3116 - val_loss: 0.3334 - val_acc: 0.8523 - val_binary_crossentropy: 0.3334\n",
      "Epoch 139/200\n",
      "337179/337179 [==============================] - 61s 180us/sample - loss: 0.3118 - acc: 0.8635 - binary_crossentropy: 0.3118 - val_loss: 0.3331 - val_acc: 0.8518 - val_binary_crossentropy: 0.3331\n",
      "Epoch 140/200\n",
      "337179/337179 [==============================] - 60s 177us/sample - loss: 0.3122 - acc: 0.8636 - binary_crossentropy: 0.3122 - val_loss: 0.3353 - val_acc: 0.8521 - val_binary_crossentropy: 0.3353\n",
      "Epoch 141/200\n",
      "337179/337179 [==============================] - 60s 179us/sample - loss: 0.3117 - acc: 0.8637 - binary_crossentropy: 0.3117 - val_loss: 0.3319 - val_acc: 0.8533 - val_binary_crossentropy: 0.3319\n",
      "Epoch 142/200\n",
      "337179/337179 [==============================] - 59s 174us/sample - loss: 0.3113 - acc: 0.8639 - binary_crossentropy: 0.3113 - val_loss: 0.3344 - val_acc: 0.8535 - val_binary_crossentropy: 0.3344\n",
      "Epoch 143/200\n",
      "337179/337179 [==============================] - 62s 183us/sample - loss: 0.3121 - acc: 0.8635 - binary_crossentropy: 0.3121 - val_loss: 0.3321 - val_acc: 0.8540 - val_binary_crossentropy: 0.3321\n",
      "Epoch 144/200\n",
      "337179/337179 [==============================] - 59s 175us/sample - loss: 0.3114 - acc: 0.8640 - binary_crossentropy: 0.3114 - val_loss: 0.3329 - val_acc: 0.8537 - val_binary_crossentropy: 0.3329\n",
      "Epoch 145/200\n",
      "337179/337179 [==============================] - 62s 185us/sample - loss: 0.3118 - acc: 0.8633 - binary_crossentropy: 0.3118 - val_loss: 0.3343 - val_acc: 0.8531 - val_binary_crossentropy: 0.3343\n",
      "Epoch 146/200\n",
      "337179/337179 [==============================] - 59s 174us/sample - loss: 0.3115 - acc: 0.8634 - binary_crossentropy: 0.3115 - val_loss: 0.3337 - val_acc: 0.8521 - val_binary_crossentropy: 0.3337\n",
      "Epoch 147/200\n",
      "337179/337179 [==============================] - 60s 177us/sample - loss: 0.3113 - acc: 0.8633 - binary_crossentropy: 0.3113 - val_loss: 0.3327 - val_acc: 0.8522 - val_binary_crossentropy: 0.3327\n",
      "Epoch 148/200\n",
      "337179/337179 [==============================] - 60s 177us/sample - loss: 0.3107 - acc: 0.8639 - binary_crossentropy: 0.3107 - val_loss: 0.3360 - val_acc: 0.8533 - val_binary_crossentropy: 0.3360\n",
      "Epoch 149/200\n",
      "337179/337179 [==============================] - 61s 180us/sample - loss: 0.3106 - acc: 0.8641 - binary_crossentropy: 0.3106 - val_loss: 0.3331 - val_acc: 0.8526 - val_binary_crossentropy: 0.3331\n",
      "Epoch 150/200\n",
      "337179/337179 [==============================] - 60s 179us/sample - loss: 0.3113 - acc: 0.8641 - binary_crossentropy: 0.3113 - val_loss: 0.3353 - val_acc: 0.8537 - val_binary_crossentropy: 0.3353\n",
      "Epoch 151/200\n",
      "337179/337179 [==============================] - 60s 179us/sample - loss: 0.3108 - acc: 0.8640 - binary_crossentropy: 0.3108 - val_loss: 0.3331 - val_acc: 0.8533 - val_binary_crossentropy: 0.3331\n",
      "Epoch 152/200\n"
     ]
    },
    {
     "name": "stdout",
     "output_type": "stream",
     "text": [
      "337179/337179 [==============================] - 58s 173us/sample - loss: 0.3118 - acc: 0.8635 - binary_crossentropy: 0.3118 - val_loss: 0.3331 - val_acc: 0.8535 - val_binary_crossentropy: 0.3331\n",
      "Epoch 153/200\n",
      "337179/337179 [==============================] - 60s 179us/sample - loss: 0.3108 - acc: 0.8645 - binary_crossentropy: 0.3108 - val_loss: 0.3334 - val_acc: 0.8521 - val_binary_crossentropy: 0.3334\n",
      "Epoch 154/200\n",
      "337179/337179 [==============================] - 60s 179us/sample - loss: 0.3113 - acc: 0.8639 - binary_crossentropy: 0.3113 - val_loss: 0.3352 - val_acc: 0.8523 - val_binary_crossentropy: 0.3352\n",
      "Epoch 155/200\n",
      "337179/337179 [==============================] - 60s 179us/sample - loss: 0.3109 - acc: 0.8638 - binary_crossentropy: 0.3109 - val_loss: 0.3368 - val_acc: 0.8510 - val_binary_crossentropy: 0.3368\n",
      "Epoch 156/200\n",
      "337179/337179 [==============================] - 59s 174us/sample - loss: 0.3108 - acc: 0.8644 - binary_crossentropy: 0.3108 - val_loss: 0.3392 - val_acc: 0.8495 - val_binary_crossentropy: 0.3392\n",
      "Epoch 157/200\n",
      "337179/337179 [==============================] - 60s 177us/sample - loss: 0.3112 - acc: 0.8638 - binary_crossentropy: 0.3112 - val_loss: 0.3370 - val_acc: 0.8533 - val_binary_crossentropy: 0.3370\n",
      "Epoch 158/200\n",
      "337179/337179 [==============================] - 59s 176us/sample - loss: 0.3103 - acc: 0.8644 - binary_crossentropy: 0.3103 - val_loss: 0.3357 - val_acc: 0.8515 - val_binary_crossentropy: 0.3357\n",
      "Epoch 159/200\n",
      "337179/337179 [==============================] - 61s 180us/sample - loss: 0.3104 - acc: 0.8641 - binary_crossentropy: 0.3104 - val_loss: 0.3388 - val_acc: 0.8518 - val_binary_crossentropy: 0.3388\n",
      "Epoch 160/200\n",
      "337179/337179 [==============================] - 58s 171us/sample - loss: 0.3105 - acc: 0.8641 - binary_crossentropy: 0.3105 - val_loss: 0.3356 - val_acc: 0.8528 - val_binary_crossentropy: 0.3356\n",
      "Epoch 161/200\n",
      "337179/337179 [==============================] - 60s 178us/sample - loss: 0.3104 - acc: 0.8643 - binary_crossentropy: 0.3104 - val_loss: 0.3353 - val_acc: 0.8516 - val_binary_crossentropy: 0.3353\n",
      "Epoch 162/200\n",
      "337179/337179 [==============================] - 60s 177us/sample - loss: 0.3103 - acc: 0.8641 - binary_crossentropy: 0.3103 - val_loss: 0.3345 - val_acc: 0.8516 - val_binary_crossentropy: 0.3345\n",
      "Epoch 163/200\n",
      "337179/337179 [==============================] - 60s 177us/sample - loss: 0.3103 - acc: 0.8647 - binary_crossentropy: 0.3103 - val_loss: 0.3393 - val_acc: 0.8522 - val_binary_crossentropy: 0.3393\n",
      "Epoch 164/200\n",
      "337179/337179 [==============================] - 59s 175us/sample - loss: 0.3103 - acc: 0.8643 - binary_crossentropy: 0.3103 - val_loss: 0.3343 - val_acc: 0.8504 - val_binary_crossentropy: 0.3343\n",
      "Epoch 165/200\n",
      "337179/337179 [==============================] - 59s 175us/sample - loss: 0.3107 - acc: 0.8639 - binary_crossentropy: 0.3107 - val_loss: 0.3368 - val_acc: 0.8510 - val_binary_crossentropy: 0.3368\n",
      "Epoch 166/200\n",
      "337179/337179 [==============================] - 58s 173us/sample - loss: 0.3096 - acc: 0.8640 - binary_crossentropy: 0.3096 - val_loss: 0.3359 - val_acc: 0.8521 - val_binary_crossentropy: 0.3359\n",
      "Epoch 167/200\n",
      "337179/337179 [==============================] - 62s 183us/sample - loss: 0.3103 - acc: 0.8640 - binary_crossentropy: 0.3103 - val_loss: 0.3391 - val_acc: 0.8524 - val_binary_crossentropy: 0.3391\n",
      "Epoch 168/200\n",
      "337179/337179 [==============================] - 59s 176us/sample - loss: 0.3098 - acc: 0.8641 - binary_crossentropy: 0.3098 - val_loss: 0.3371 - val_acc: 0.8504 - val_binary_crossentropy: 0.3371\n",
      "Epoch 169/200\n",
      "337179/337179 [==============================] - 59s 176us/sample - loss: 0.3103 - acc: 0.8638 - binary_crossentropy: 0.3103 - val_loss: 0.3320 - val_acc: 0.8525 - val_binary_crossentropy: 0.3320\n",
      "Epoch 170/200\n",
      "337179/337179 [==============================] - 59s 176us/sample - loss: 0.3100 - acc: 0.8643 - binary_crossentropy: 0.3100 - val_loss: 0.3380 - val_acc: 0.8522 - val_binary_crossentropy: 0.3380\n",
      "Epoch 171/200\n",
      "337179/337179 [==============================] - 61s 180us/sample - loss: 0.3093 - acc: 0.8650 - binary_crossentropy: 0.3093 - val_loss: 0.3347 - val_acc: 0.8504 - val_binary_crossentropy: 0.3347\n",
      "Epoch 172/200\n",
      "337179/337179 [==============================] - 59s 176us/sample - loss: 0.3100 - acc: 0.8642 - binary_crossentropy: 0.3100 - val_loss: 0.3350 - val_acc: 0.8534 - val_binary_crossentropy: 0.3350\n",
      "Epoch 173/200\n",
      "337179/337179 [==============================] - 61s 181us/sample - loss: 0.3098 - acc: 0.8644 - binary_crossentropy: 0.3098 - val_loss: 0.3332 - val_acc: 0.8529 - val_binary_crossentropy: 0.3332\n",
      "Epoch 174/200\n",
      "337179/337179 [==============================] - 57s 170us/sample - loss: 0.3096 - acc: 0.8646 - binary_crossentropy: 0.3096 - val_loss: 0.3350 - val_acc: 0.8536 - val_binary_crossentropy: 0.3350\n",
      "Epoch 175/200\n",
      "337179/337179 [==============================] - 60s 177us/sample - loss: 0.3101 - acc: 0.8644 - binary_crossentropy: 0.3101 - val_loss: 0.3334 - val_acc: 0.8532 - val_binary_crossentropy: 0.3334\n",
      "Epoch 176/200\n",
      "337179/337179 [==============================] - 59s 174us/sample - loss: 0.3095 - acc: 0.8646 - binary_crossentropy: 0.3095 - val_loss: 0.3380 - val_acc: 0.8507 - val_binary_crossentropy: 0.3380\n",
      "Epoch 177/200\n",
      "337179/337179 [==============================] - 61s 180us/sample - loss: 0.3096 - acc: 0.8649 - binary_crossentropy: 0.3096 - val_loss: 0.3342 - val_acc: 0.8528 - val_binary_crossentropy: 0.3342\n",
      "Epoch 178/200\n",
      "337179/337179 [==============================] - 58s 173us/sample - loss: 0.3098 - acc: 0.8650 - binary_crossentropy: 0.3098 - val_loss: 0.3341 - val_acc: 0.8525 - val_binary_crossentropy: 0.3341\n",
      "Epoch 179/200\n",
      "337179/337179 [==============================] - 60s 177us/sample - loss: 0.3093 - acc: 0.8641 - binary_crossentropy: 0.3093 - val_loss: 0.3408 - val_acc: 0.8518 - val_binary_crossentropy: 0.3408\n",
      "Epoch 180/200\n",
      "337179/337179 [==============================] - 60s 178us/sample - loss: 0.3093 - acc: 0.8645 - binary_crossentropy: 0.3093 - val_loss: 0.3377 - val_acc: 0.8516 - val_binary_crossentropy: 0.3377\n",
      "Epoch 181/200\n",
      "337179/337179 [==============================] - 60s 177us/sample - loss: 0.3091 - acc: 0.8653 - binary_crossentropy: 0.3091 - val_loss: 0.3355 - val_acc: 0.8522 - val_binary_crossentropy: 0.3355\n",
      "Epoch 182/200\n",
      "337179/337179 [==============================] - 59s 176us/sample - loss: 0.3095 - acc: 0.8645 - binary_crossentropy: 0.3095 - val_loss: 0.3354 - val_acc: 0.8522 - val_binary_crossentropy: 0.3354\n",
      "Epoch 183/200\n",
      "337179/337179 [==============================] - 57s 170us/sample - loss: 0.3094 - acc: 0.8648 - binary_crossentropy: 0.3094 - val_loss: 0.3352 - val_acc: 0.8512 - val_binary_crossentropy: 0.3352\n",
      "Epoch 184/200\n",
      "337179/337179 [==============================] - 60s 177us/sample - loss: 0.3096 - acc: 0.8651 - binary_crossentropy: 0.3096 - val_loss: 0.3348 - val_acc: 0.8524 - val_binary_crossentropy: 0.3348\n",
      "Epoch 185/200\n",
      "337179/337179 [==============================] - 59s 176us/sample - loss: 0.3090 - acc: 0.8648 - binary_crossentropy: 0.3090 - val_loss: 0.3370 - val_acc: 0.8525 - val_binary_crossentropy: 0.3370\n",
      "Epoch 186/200\n",
      "337179/337179 [==============================] - 59s 175us/sample - loss: 0.3091 - acc: 0.8642 - binary_crossentropy: 0.3091 - val_loss: 0.3357 - val_acc: 0.8523 - val_binary_crossentropy: 0.3357\n",
      "Epoch 187/200\n",
      "337179/337179 [==============================] - 60s 177us/sample - loss: 0.3094 - acc: 0.8647 - binary_crossentropy: 0.3094 - val_loss: 0.3352 - val_acc: 0.8522 - val_binary_crossentropy: 0.3352\n",
      "Epoch 188/200\n",
      "337179/337179 [==============================] - 59s 174us/sample - loss: 0.3094 - acc: 0.8645 - binary_crossentropy: 0.3094 - val_loss: 0.3330 - val_acc: 0.8530 - val_binary_crossentropy: 0.3330\n",
      "Epoch 189/200\n",
      "337179/337179 [==============================] - 58s 173us/sample - loss: 0.3092 - acc: 0.8642 - binary_crossentropy: 0.3092 - val_loss: 0.3341 - val_acc: 0.8528 - val_binary_crossentropy: 0.3341\n",
      "Epoch 190/200\n",
      "337179/337179 [==============================] - 54s 160us/sample - loss: 0.3083 - acc: 0.8648 - binary_crossentropy: 0.3083 - val_loss: 0.3340 - val_acc: 0.8518 - val_binary_crossentropy: 0.3340\n",
      "Epoch 191/200\n"
     ]
    },
    {
     "name": "stdout",
     "output_type": "stream",
     "text": [
      "337179/337179 [==============================] - 51s 152us/sample - loss: 0.3095 - acc: 0.8646 - binary_crossentropy: 0.3095 - val_loss: 0.3347 - val_acc: 0.8524 - val_binary_crossentropy: 0.3347\n",
      "Epoch 192/200\n",
      "337179/337179 [==============================] - 47s 138us/sample - loss: 0.3087 - acc: 0.8652 - binary_crossentropy: 0.3087 - val_loss: 0.3348 - val_acc: 0.8521 - val_binary_crossentropy: 0.3348\n",
      "Epoch 193/200\n",
      "337179/337179 [==============================] - 47s 139us/sample - loss: 0.3085 - acc: 0.8659 - binary_crossentropy: 0.3085 - val_loss: 0.3361 - val_acc: 0.8529 - val_binary_crossentropy: 0.3361\n",
      "Epoch 194/200\n",
      "337179/337179 [==============================] - 49s 145us/sample - loss: 0.3089 - acc: 0.8653 - binary_crossentropy: 0.3089 - val_loss: 0.3344 - val_acc: 0.8535 - val_binary_crossentropy: 0.3344\n",
      "Epoch 195/200\n",
      "337179/337179 [==============================] - 48s 143us/sample - loss: 0.3091 - acc: 0.8650 - binary_crossentropy: 0.3091 - val_loss: 0.3377 - val_acc: 0.8491 - val_binary_crossentropy: 0.3377\n",
      "Epoch 196/200\n",
      "337179/337179 [==============================] - 47s 139us/sample - loss: 0.3087 - acc: 0.8651 - binary_crossentropy: 0.3087 - val_loss: 0.3344 - val_acc: 0.8516 - val_binary_crossentropy: 0.3344\n",
      "Epoch 197/200\n",
      "337179/337179 [==============================] - 48s 142us/sample - loss: 0.3087 - acc: 0.8650 - binary_crossentropy: 0.3087 - val_loss: 0.3338 - val_acc: 0.8523 - val_binary_crossentropy: 0.3338\n",
      "Epoch 198/200\n",
      "337179/337179 [==============================] - 46s 137us/sample - loss: 0.3087 - acc: 0.8650 - binary_crossentropy: 0.3087 - val_loss: 0.3370 - val_acc: 0.8526 - val_binary_crossentropy: 0.3370\n",
      "Epoch 199/200\n",
      "337179/337179 [==============================] - 48s 142us/sample - loss: 0.3084 - acc: 0.8654 - binary_crossentropy: 0.3084 - val_loss: 0.3350 - val_acc: 0.8515 - val_binary_crossentropy: 0.3350\n",
      "Epoch 200/200\n",
      "337179/337179 [==============================] - 48s 142us/sample - loss: 0.3092 - acc: 0.8651 - binary_crossentropy: 0.3092 - val_loss: 0.3371 - val_acc: 0.8519 - val_binary_crossentropy: 0.3371\n"
     ]
    },
    {
     "data": {
      "image/png": "[encoded data removed]",
      "text/plain": [
       "<Figure size 1152x144 with 2 Axes>"
      ]
     },
     "metadata": {
      "needs_background": "light"
     },
     "output_type": "display_data"
    }
   ],
   "source": [
    "args = file_path + 'detect_peptide_train_noptm_largedata.txt'\n",
    "print('Loading input peptides')\n",
    "X_train81, skipped, lines = load_pep_and_codify(args, 81)\n",
    "tmp = open(file_path+'detect_peptide_train_y_noptm_largedata.txt')\n",
    "y_train81 = np.array([int(_.replace('\\n', '')) for _ in tmp.readlines()])\n",
    "tmp.close()\n",
    "print('Succesfully loaded {0} peptides and skipped {1}'.format(len(lines), str(skipped)))\n",
    "\n",
    "args = file_path + 'detect_peptide_test_noptm_largedata.txt'\n",
    "print('Loading input peptides')\n",
    "X_test81, skipped, lines = load_pep_and_codify(args, 81)\n",
    "tmp = open(file_path+'detect_peptide_test_y_noptm_largedata.txt')\n",
    "y_test81 = np.array([int(_.replace('\\n', '')) for _ in tmp.readlines()])\n",
    "tmp.close()\n",
    "print('Succesfully loaded {0} peptides and skipped {1}'.format(len(lines), str(skipped)))\n",
    "\n",
    "X_train81, X_val81, y_train81, y_val81 = train_test_split(X_train81, y_train81, test_size=0.2)\n",
    "print(X_train81.shape, X_val81.shape, X_test81.shape, y_train81.shape, y_val81.shape, y_test81.shape)\n",
    "\n",
    "\n",
    "print('Loading model...')\n",
    "model_2_1D = keras.models.load_model(file_path + 'model_2_1D.h5')\n",
    "\n",
    "history_github = model_2_1D.fit(X_train81, y_train81, epochs=200, \n",
    "                    batch_size=100,\n",
    "                    validation_data=(X_val81, y_val81))\n",
    "\n",
    "plt.figure(figsize=(16,2))\n",
    "plt.subplot(1,2,1)\n",
    "plot_graphs(history_github, 'acc')\n",
    "plt.subplot(1,2,2)\n",
    "plot_graphs(history_github, 'loss')"
   ]
  },
  {
   "cell_type": "markdown",
   "metadata": {},
   "source": [
    "# 3. test"
   ]
  },
  {
   "cell_type": "code",
   "execution_count": 12,
   "metadata": {
    "ExecuteTime": {
     "end_time": "2021-10-04T21:02:23.583432Z",
     "start_time": "2021-10-04T21:02:23.551305Z"
    }
   },
   "outputs": [],
   "source": [
    "from sklearn.metrics import classification_report\n",
    "from sklearn.metrics import confusion_matrix\n",
    "from sklearn.metrics import roc_curve\n",
    "from sklearn.metrics import roc_auc_score\n",
    "import seaborn as sns"
   ]
  },
  {
   "cell_type": "code",
   "execution_count": 13,
   "metadata": {
    "ExecuteTime": {
     "end_time": "2021-10-04T21:02:39.958641Z",
     "start_time": "2021-10-04T21:02:23.584685Z"
    }
   },
   "outputs": [
    {
     "name": "stdout",
     "output_type": "stream",
     "text": [
      "88998/88998 [==============================] - 6s 64us/sample - loss: 0.5695 - acc: 0.8633\n",
      "Test Loss: 0.569490050697046\n",
      "Test Accuracy: 0.8632665872573853\n",
      "              precision    recall  f1-score   support\n",
      "\n",
      "           0       0.85      0.88      0.87     44509\n",
      "           1       0.87      0.85      0.86     44489\n",
      "\n",
      "    accuracy                           0.86     88998\n",
      "   macro avg       0.86      0.86      0.86     88998\n",
      "weighted avg       0.86      0.86      0.86     88998\n",
      "\n",
      "rf auc : 0.9195619404364757\n"
     ]
    },
    {
     "data": {
      "image/png": "[encoded data removed]",
      "text/plain": [
       "<Figure size 288x288 with 1 Axes>"
      ]
     },
     "metadata": {
      "needs_background": "light"
     },
     "output_type": "display_data"
    },
    {
     "data": {
      "image/png": "[encoded data removed]",
      "text/plain": [
       "<Figure size 216x216 with 2 Axes>"
      ]
     },
     "metadata": {
      "needs_background": "light"
     },
     "output_type": "display_data"
    },
    {
     "data": {
      "image/png": "[encoded data removed]",
      "text/plain": [
       "<Figure size 216x216 with 2 Axes>"
      ]
     },
     "metadata": {
      "needs_background": "light"
     },
     "output_type": "display_data"
    }
   ],
   "source": [
    "test_loss, test_acc = model.evaluate(X_test, y_test)\n",
    "print('Test Loss: {}'.format(test_loss))\n",
    "print('Test Accuracy: {}'.format(test_acc))\n",
    "\n",
    "# prediction\n",
    "y_pred = [1 if i>=0.5 else 0 for i in model.predict(X_test)]\n",
    "print(classification_report(y_test, y_pred))\n",
    "# AUC\n",
    "probs = model.predict(X_test)\n",
    "rf_auc = roc_auc_score(y_test, probs)\n",
    "print('rf auc : {}'.format(rf_auc))\n",
    "# plot the roc curve for the model\n",
    "rf_fpr, rf_tpr, _ = roc_curve(y_test, probs)\n",
    "plt.figure(figsize=(4, 4))\n",
    "plt.plot(rf_fpr, rf_tpr, marker='.', label='RF AUC = {:.4f}'.format(rf_auc), color='orange')\n",
    "plt.title('ROC curve')\n",
    "# axis labels\n",
    "plt.xlabel('False Positive Rate')\n",
    "plt.ylabel('True Positive Rate')\n",
    "# show the legend\n",
    "plt.legend()\n",
    "# show the plot\n",
    "plt.show()\n",
    "\n",
    "cf_matrix = confusion_matrix(y_test, y_pred)\n",
    "plt.figure(figsize=(3, 3))\n",
    "sns.heatmap(cf_matrix, annot=True, fmt=',.0f')\n",
    "plt.show()\n",
    "plt.figure(figsize=(3, 3))\n",
    "sns.heatmap(cf_matrix/np.sum(cf_matrix), annot=True, \n",
    "            fmt='.2%', cmap='Blues')\n",
    "plt.show()"
   ]
  },
  {
   "cell_type": "code",
   "execution_count": 14,
   "metadata": {
    "ExecuteTime": {
     "end_time": "2021-10-04T21:03:00.250977Z",
     "start_time": "2021-10-04T21:02:39.959871Z"
    }
   },
   "outputs": [
    {
     "name": "stdout",
     "output_type": "stream",
     "text": [
      "88998/88998 [==============================] - 7s 77us/sample - loss: 0.3391 - acc: 0.8542 - binary_crossentropy: 0.3391\n",
      "Test Loss: 0.569490050697046\n",
      "Test Accuracy: [0.33912464481447113, 0.8541877, 0.33912423]\n",
      "              precision    recall  f1-score   support\n",
      "\n",
      "           0       0.91      0.79      0.84     44509\n",
      "           1       0.81      0.92      0.86     44489\n",
      "\n",
      "    accuracy                           0.85     88998\n",
      "   macro avg       0.86      0.85      0.85     88998\n",
      "weighted avg       0.86      0.85      0.85     88998\n",
      "\n",
      "rf auc : 0.9339800137281874\n"
     ]
    },
    {
     "data": {
      "image/png": "[encoded data removed]",
      "text/plain": [
       "<Figure size 288x288 with 1 Axes>"
      ]
     },
     "metadata": {
      "needs_background": "light"
     },
     "output_type": "display_data"
    },
    {
     "data": {
      "image/png": "[encoded data removed]",
      "text/plain": [
       "<Figure size 216x216 with 2 Axes>"
      ]
     },
     "metadata": {
      "needs_background": "light"
     },
     "output_type": "display_data"
    },
    {
     "data": {
      "image/png": "[encoded data removed]",
      "text/plain": [
       "<Figure size 216x216 with 2 Axes>"
      ]
     },
     "metadata": {
      "needs_background": "light"
     },
     "output_type": "display_data"
    }
   ],
   "source": [
    "test_acc = model_2_1D.evaluate(X_test81, y_test81)\n",
    "print('Test Loss: {}'.format(test_loss))\n",
    "print('Test Accuracy: {}'.format(test_acc))\n",
    "\n",
    "# prediction\n",
    "y_pred = [1 if i>=0.5 else 0 for i in model_2_1D.predict(X_test81)]\n",
    "print(classification_report(y_test81, y_pred))\n",
    "# AUC\n",
    "probs = model_2_1D.predict(X_test81)\n",
    "rf_auc = roc_auc_score(y_test81, probs)\n",
    "print('rf auc : {}'.format(rf_auc))\n",
    "# plot the roc curve for the model\n",
    "rf_fpr, rf_tpr, _ = roc_curve(y_test81, probs)\n",
    "plt.figure(figsize=(4, 4))\n",
    "plt.plot(rf_fpr, rf_tpr, marker='.', label='RF AUC = {:.4f}'.format(rf_auc), color='orange')\n",
    "plt.title('ROC curve')\n",
    "# axis labels\n",
    "plt.xlabel('False Positive Rate')\n",
    "plt.ylabel('True Positive Rate')\n",
    "# show the legend\n",
    "plt.legend()\n",
    "# show the plot\n",
    "plt.show()\n",
    "\n",
    "cf_matrix = confusion_matrix(y_test81, y_pred)\n",
    "plt.figure(figsize=(3, 3))\n",
    "sns.heatmap(cf_matrix, annot=True, fmt=',.0f')\n",
    "plt.show()\n",
    "plt.figure(figsize=(3, 3))\n",
    "sns.heatmap(cf_matrix/np.sum(cf_matrix), annot=True, \n",
    "            fmt='.2%', cmap='Blues')\n",
    "plt.show()"
   ]
  },
  {
   "cell_type": "markdown",
   "metadata": {},
   "source": [
    "# check zero MSGF peptides property"
   ]
  },
  {
   "cell_type": "code",
   "execution_count": 15,
   "metadata": {
    "ExecuteTime": {
     "end_time": "2021-10-04T21:03:00.275877Z",
     "start_time": "2021-10-04T21:03:00.252162Z"
    }
   },
   "outputs": [],
   "source": [
    "import pickle\n",
    "\n",
    "with open('pep_zeroMSGF_noptm.pickle', 'rb') as f:\n",
    "    pep_zeroMSGF_noptm = pickle.load(f)"
   ]
  },
  {
   "cell_type": "code",
   "execution_count": 16,
   "metadata": {
    "ExecuteTime": {
     "end_time": "2021-10-04T21:03:01.202149Z",
     "start_time": "2021-10-04T21:03:00.277530Z"
    }
   },
   "outputs": [],
   "source": [
    "max_len=81\n",
    "\n",
    "aa_dict={'A':1,'R':2,'N':3,'D':4,'C':5,'Q':6,'E':7,'G':8,'H':9,'I':10,'L':11,'K':12,'M':13,'F':14,\n",
    "    'P':15,'O':16,'S':17,'U':18,'T':19,'W':20,'Y':21,'V':22}\n",
    "pep_codes=[]\n",
    "newLines = []\n",
    "for pep in pep_zeroMSGF_noptm:\n",
    "    if not len(pep) > max_len:\n",
    "        current_pep=[]\n",
    "        for aa in pep:\n",
    "            current_pep.append(aa_dict[aa])\n",
    "        pep_codes.append(current_pep)\n",
    "        newLines.extend([pep])\n",
    "predict_data = keras.preprocessing.sequence.pad_sequences(pep_codes, value=0, padding='post', maxlen=max_len)"
   ]
  },
  {
   "cell_type": "code",
   "execution_count": 17,
   "metadata": {
    "ExecuteTime": {
     "end_time": "2021-10-04T21:03:01.212092Z",
     "start_time": "2021-10-04T21:03:01.203542Z"
    }
   },
   "outputs": [],
   "source": [
    "predict_label = np.array([0]*len(predict_data))"
   ]
  },
  {
   "cell_type": "code",
   "execution_count": 18,
   "metadata": {
    "ExecuteTime": {
     "end_time": "2021-10-04T21:03:15.326231Z",
     "start_time": "2021-10-04T21:03:01.213171Z"
    }
   },
   "outputs": [
    {
     "name": "stdout",
     "output_type": "stream",
     "text": [
      "93542/93542 [==============================] - 7s 77us/sample - loss: 1.0802 - acc: 0.6148 - binary_crossentropy: 1.0802\n",
      "Test Loss: 0.569490050697046\n",
      "Test Accuracy: [1.0802476228004148, 0.6147613, 1.0802478]\n",
      "              precision    recall  f1-score   support\n",
      "\n",
      "           0       1.00      0.61      0.76     93542\n",
      "           1       0.00      0.00      0.00         0\n",
      "\n",
      "    accuracy                           0.61     93542\n",
      "   macro avg       0.50      0.31      0.38     93542\n",
      "weighted avg       1.00      0.61      0.76     93542\n",
      "\n"
     ]
    },
    {
     "name": "stderr",
     "output_type": "stream",
     "text": [
      "/home/bis/miniconda3/envs/TF1.14/lib/python3.6/site-packages/sklearn/metrics/_classification.py:1248: UndefinedMetricWarning: Recall and F-score are ill-defined and being set to 0.0 in labels with no true samples. Use `zero_division` parameter to control this behavior.\n",
      "  _warn_prf(average, modifier, msg_start, len(result))\n",
      "/home/bis/miniconda3/envs/TF1.14/lib/python3.6/site-packages/sklearn/metrics/_classification.py:1248: UndefinedMetricWarning: Recall and F-score are ill-defined and being set to 0.0 in labels with no true samples. Use `zero_division` parameter to control this behavior.\n",
      "  _warn_prf(average, modifier, msg_start, len(result))\n",
      "/home/bis/miniconda3/envs/TF1.14/lib/python3.6/site-packages/sklearn/metrics/_classification.py:1248: UndefinedMetricWarning: Recall and F-score are ill-defined and being set to 0.0 in labels with no true samples. Use `zero_division` parameter to control this behavior.\n",
      "  _warn_prf(average, modifier, msg_start, len(result))\n"
     ]
    }
   ],
   "source": [
    "test_acc = model_2_1D.evaluate(predict_data, predict_label)\n",
    "print('Test Loss: {}'.format(test_loss))\n",
    "print('Test Accuracy: {}'.format(test_acc))\n",
    "\n",
    "# prediction\n",
    "y_pred = [1 if i>=0.5 else 0 for i in model_2_1D.predict(predict_data)]\n",
    "print(classification_report(predict_label, y_pred))"
   ]
  },
  {
   "cell_type": "code",
   "execution_count": 19,
   "metadata": {
    "ExecuteTime": {
     "end_time": "2021-10-04T21:03:21.445945Z",
     "start_time": "2021-10-04T21:03:15.327479Z"
    }
   },
   "outputs": [],
   "source": [
    "y_prob = model_2_1D.predict(predict_data)"
   ]
  },
  {
   "cell_type": "code",
   "execution_count": 20,
   "metadata": {
    "ExecuteTime": {
     "end_time": "2021-10-04T21:03:21.534807Z",
     "start_time": "2021-10-04T21:03:21.447187Z"
    }
   },
   "outputs": [
    {
     "data": {
      "image/png": "[encoded data removed]",
      "text/plain": [
       "<Figure size 144x360 with 1 Axes>"
      ]
     },
     "metadata": {
      "needs_background": "light"
     },
     "output_type": "display_data"
    }
   ],
   "source": [
    "plt.figure(figsize=(2,5))\n",
    "plt.boxplot(y_prob.reshape(-1))\n",
    "plt.title('zero MSGF score noptm_peptides\\' detectability')\n",
    "plt.xlabel('0MSGF peptides\\'')\n",
    "plt.show()"
   ]
  },
  {
   "cell_type": "code",
   "execution_count": null,
   "metadata": {},
   "outputs": [],
   "source": []
  }
 ],
 "metadata": {
  "kernelspec": {
   "display_name": "TF1.14",
   "language": "python",
   "name": "tf1.14"
  },
  "language_info": {
   "codemirror_mode": {
    "name": "ipython",
    "version": 3
   },
   "file_extension": ".py",
   "mimetype": "text/x-python",
   "name": "python",
   "nbconvert_exporter": "python",
   "pygments_lexer": "ipython3",
   "version": "3.6.13"
  }
 },
 "nbformat": 4,
 "nbformat_minor": 4
}
