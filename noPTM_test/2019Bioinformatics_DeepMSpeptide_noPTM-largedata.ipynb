{
 "cells": [
  {
   "cell_type": "code",
   "execution_count": 1,
   "metadata": {
    "ExecuteTime": {
     "end_time": "2021-10-17T16:18:26.247466Z",
     "start_time": "2021-10-17T16:18:24.436558Z"
    }
   },
   "outputs": [],
   "source": [
    "import warnings\n",
    "warnings.simplefilter(action='ignore', category=FutureWarning)\n",
    "\n",
    "import argparse\n",
    "import numpy as np\n",
    "import tensorflow as tf\n",
    "from tensorflow import keras"
   ]
  },
  {
   "cell_type": "code",
   "execution_count": 2,
   "metadata": {
    "ExecuteTime": {
     "end_time": "2021-10-17T16:18:26.254676Z",
     "start_time": "2021-10-17T16:18:26.248828Z"
    }
   },
   "outputs": [],
   "source": [
    "def load_pep_and_codify(file, max_len):\n",
    "    aa_dict={'A':1,'R':2,'N':3,'D':4,'C':5,'Q':6,'E':7,'G':8,'H':9,'I':10,'L':11,'K':12,'M':13,'F':14,\n",
    "        'P':15,'O':16,'S':17,'U':18,'T':19,'W':20,'Y':21,'V':22}\n",
    "    with open(file, 'r') as inf:\n",
    "        lines = inf.read().splitlines()\n",
    "    pep_codes=[]\n",
    "    long_pep_counter = 0\n",
    "    newLines = []\n",
    "    for pep in lines:\n",
    "        if not len(pep) > max_len:\n",
    "            current_pep=[]\n",
    "            for aa in pep:\n",
    "                current_pep.append(aa_dict[aa])\n",
    "            pep_codes.append(current_pep)\n",
    "            newLines.extend([pep])\n",
    "        else:\n",
    "            long_pep_counter += 1\n",
    "    predict_data = keras.preprocessing.sequence.pad_sequences(pep_codes, value=0, padding='post', maxlen=max_len)\n",
    "    return predict_data, long_pep_counter, newLines"
   ]
  },
  {
   "cell_type": "code",
   "execution_count": 3,
   "metadata": {
    "ExecuteTime": {
     "end_time": "2021-10-17T16:18:26.284791Z",
     "start_time": "2021-10-17T16:18:26.255904Z"
    }
   },
   "outputs": [],
   "source": [
    "def plot_graphs(history, metric):\n",
    "    plt.plot(history.history[metric])\n",
    "    plt.plot(history.history['val_'+metric], '')\n",
    "    plt.xlabel(\"Epochs\")\n",
    "    plt.ylabel(metric)\n",
    "    plt.legend([metric, 'val_'+metric])"
   ]
  },
  {
   "cell_type": "markdown",
   "metadata": {},
   "source": [
    "# 1. Make Data X_train, y_train, X_test, y_test"
   ]
  },
  {
   "cell_type": "code",
   "execution_count": 4,
   "metadata": {
    "ExecuteTime": {
     "end_time": "2021-10-17T16:18:33.764376Z",
     "start_time": "2021-10-17T16:18:33.137205Z"
    }
   },
   "outputs": [],
   "source": [
    "import matplotlib.pyplot as plt\n",
    "import pandas as pd\n",
    "from sklearn.model_selection import train_test_split\n",
    "\n",
    "file_path = '../compareModel/2019Bioinformatics_DeepMSPeptide/DeepMSPeptide/'"
   ]
  },
  {
   "cell_type": "code",
   "execution_count": 5,
   "metadata": {
    "ExecuteTime": {
     "end_time": "2021-10-17T16:18:41.485038Z",
     "start_time": "2021-10-17T16:18:39.313028Z"
    }
   },
   "outputs": [],
   "source": [
    "# make DeepMSpeptide format\n",
    "df_peptide_train = pd.read_csv('../data/df_detect_peptide_train_noptm_210930_includeDigest.csv')\n",
    "df_peptide_test = pd.read_csv('../data/df_detect_peptide_test_noptm_210930_includeDigest.csv')\n",
    "\n",
    "inp = open(file_path+'detect_peptide_train_noptm_largedata.txt', 'w')\n",
    "inp_y = open(file_path+'detect_peptide_train_y_noptm_largedata.txt', 'w')\n",
    "for x, y in df_peptide_train[['PEP', 'ID']].values:\n",
    "    inp.write(x+'\\n')\n",
    "    inp_y.write(str(y)+'\\n')\n",
    "inp.close()\n",
    "inp_y.close()\n",
    "\n",
    "inp = open(file_path+'detect_peptide_test_noptm_largedata.txt', 'w')\n",
    "inp_y = open(file_path+'detect_peptide_test_y_noptm_largedata.txt', 'w')\n",
    "for x, y in df_peptide_test[['PEP', 'ID']].values:\n",
    "    inp.write(x+'\\n')\n",
    "    inp_y.write(str(y)+'\\n')\n",
    "inp.close()\n",
    "inp_y.close()"
   ]
  },
  {
   "cell_type": "code",
   "execution_count": 6,
   "metadata": {
    "ExecuteTime": {
     "end_time": "2021-10-17T16:18:45.568248Z",
     "start_time": "2021-10-17T16:18:41.486967Z"
    }
   },
   "outputs": [
    {
     "name": "stdout",
     "output_type": "stream",
     "text": [
      "Loading input peptides\n",
      "Succesfully loaded 421474 peptides and skipped 0\n",
      "Loading input peptides\n",
      "Succesfully loaded 88998 peptides and skipped 0\n",
      "(337179, 30) (84295, 30) (88998, 30) (337179,) (84295,) (88998,)\n"
     ]
    }
   ],
   "source": [
    "args = file_path + 'detect_peptide_train_noptm_largedata.txt'\n",
    "print('Loading input peptides')\n",
    "X_train, skipped, lines = load_pep_and_codify(args, 30)\n",
    "tmp = open(file_path+'detect_peptide_train_y_noptm_largedata.txt')\n",
    "y_train = np.array([int(_.replace('\\n', '')) for _ in tmp.readlines()])\n",
    "tmp.close()\n",
    "print('Succesfully loaded {0} peptides and skipped {1}'.format(len(lines), str(skipped)))\n",
    "\n",
    "args = file_path + 'detect_peptide_test_noptm_largedata.txt'\n",
    "print('Loading input peptides')\n",
    "X_test, skipped, lines = load_pep_and_codify(args, 30)\n",
    "tmp = open(file_path+'detect_peptide_test_y_noptm_largedata.txt')\n",
    "y_test = np.array([int(_.replace('\\n', '')) for _ in tmp.readlines()])\n",
    "tmp.close()\n",
    "print('Succesfully loaded {0} peptides and skipped {1}'.format(len(lines), str(skipped)))\n",
    "\n",
    "X_train, X_val, y_train, y_val = train_test_split(X_train, y_train, test_size=0.2)\n",
    "print(X_train.shape, X_val.shape, X_test.shape, y_train.shape, y_val.shape, y_test.shape)"
   ]
  },
  {
   "cell_type": "markdown",
   "metadata": {},
   "source": [
    "# 2. train"
   ]
  },
  {
   "cell_type": "code",
   "execution_count": 7,
   "metadata": {
    "ExecuteTime": {
     "end_time": "2021-10-17T16:18:46.288366Z",
     "start_time": "2021-10-17T16:18:46.089635Z"
    }
   },
   "outputs": [
    {
     "name": "stdout",
     "output_type": "stream",
     "text": [
      "WARNING:tensorflow:From /home/bis/miniconda3/envs/TF1.14/lib/python3.6/site-packages/tensorflow/python/keras/initializers.py:119: calling RandomUniform.__init__ (from tensorflow.python.ops.init_ops) with dtype is deprecated and will be removed in a future version.\n",
      "Instructions for updating:\n",
      "Call initializer instance with the dtype argument instead of passing it to the constructor\n",
      "WARNING:tensorflow:From /home/bis/miniconda3/envs/TF1.14/lib/python3.6/site-packages/tensorflow/python/ops/init_ops.py:1251: calling VarianceScaling.__init__ (from tensorflow.python.ops.init_ops) with dtype is deprecated and will be removed in a future version.\n",
      "Instructions for updating:\n",
      "Call initializer instance with the dtype argument instead of passing it to the constructor\n",
      "Model: \"sequential\"\n",
      "_________________________________________________________________\n",
      "Layer (type)                 Output Shape              Param #   \n",
      "=================================================================\n",
      "embedding (Embedding)        (None, 30, 50)            1150      \n",
      "_________________________________________________________________\n",
      "dropout (Dropout)            (None, 30, 50)            0         \n",
      "_________________________________________________________________\n",
      "conv1d (Conv1D)              (None, 30, 128)           19328     \n",
      "_________________________________________________________________\n",
      "conv1d_1 (Conv1D)            (None, 29, 64)            16448     \n",
      "_________________________________________________________________\n",
      "global_max_pooling1d (Global (None, 64)                0         \n",
      "_________________________________________________________________\n",
      "dense (Dense)                (None, 64)                4160      \n",
      "_________________________________________________________________\n",
      "dropout_1 (Dropout)          (None, 64)                0         \n",
      "_________________________________________________________________\n",
      "dense_1 (Dense)              (None, 1)                 65        \n",
      "=================================================================\n",
      "Total params: 41,151\n",
      "Trainable params: 41,151\n",
      "Non-trainable params: 0\n",
      "_________________________________________________________________\n",
      "WARNING:tensorflow:From /home/bis/miniconda3/envs/TF1.14/lib/python3.6/site-packages/tensorflow/python/ops/nn_impl.py:180: add_dispatch_support.<locals>.wrapper (from tensorflow.python.ops.array_ops) is deprecated and will be removed in a future version.\n",
      "Instructions for updating:\n",
      "Use tf.where in 2.0, which has the same broadcast rule as np.where\n"
     ]
    }
   ],
   "source": [
    "model = tf.keras.Sequential([\n",
    "    # vacabulary size 23 (22 AminoAcid + zero padding)\n",
    "    # embedding vector size 50\n",
    "    # input length (including padding) 30 ( 81 to 30)\n",
    "    tf.keras.layers.Embedding(23, 50, input_length=30),\n",
    "    tf.keras.layers.Dropout(np.random.uniform(0, 0.2)),\n",
    "    tf.keras.layers.Conv1D(filters=128, kernel_size=3, strides=1, padding='same'),\n",
    "    tf.keras.layers.Conv1D(filters=64, kernel_size=2, strides=1),\n",
    "    tf.keras.layers.GlobalMaxPooling1D(),\n",
    "    tf.keras.layers.Dense(64, activation='relu'),\n",
    "    tf.keras.layers.Dropout(np.random.uniform(0, 0.2)),\n",
    "    tf.keras.layers.Dense(1, activation='sigmoid')\n",
    "])\n",
    "model.summary()\n",
    "\n",
    "model.compile(loss=tf.keras.losses.BinaryCrossentropy(from_logits=True),\n",
    "              optimizer=tf.keras.optimizers.Adam(1e-4),\n",
    "              metrics=['accuracy'])"
   ]
  },
  {
   "cell_type": "code",
   "execution_count": 9,
   "metadata": {
    "ExecuteTime": {
     "end_time": "2021-10-04T17:37:47.355125Z",
     "start_time": "2021-10-04T14:22:03.800841Z"
    },
    "scrolled": true
   },
   "outputs": [
    {
     "name": "stdout",
     "output_type": "stream",
     "text": [
      "Train on 337179 samples, validate on 84295 samples\n",
      "Epoch 1/200\n",
      "337179/337179 [==============================] - 59s 176us/sample - loss: 0.6143 - acc: 0.7449 - val_loss: 0.5950 - val_acc: 0.7942\n",
      "Epoch 2/200\n",
      "337179/337179 [==============================] - 57s 170us/sample - loss: 0.5946 - acc: 0.8006 - val_loss: 0.5928 - val_acc: 0.8004\n",
      "Epoch 3/200\n",
      "337179/337179 [==============================] - 58s 171us/sample - loss: 0.5933 - acc: 0.8040 - val_loss: 0.5936 - val_acc: 0.7925\n",
      "Epoch 4/200\n",
      "337179/337179 [==============================] - 57s 170us/sample - loss: 0.5924 - acc: 0.8054 - val_loss: 0.5910 - val_acc: 0.8069\n",
      "Epoch 5/200\n",
      "337179/337179 [==============================] - 57s 170us/sample - loss: 0.5919 - acc: 0.8064 - val_loss: 0.5906 - val_acc: 0.8052\n",
      "Epoch 6/200\n",
      "337179/337179 [==============================] - 58s 172us/sample - loss: 0.5915 - acc: 0.8076 - val_loss: 0.5904 - val_acc: 0.8047\n",
      "Epoch 7/200\n",
      "337179/337179 [==============================] - 58s 171us/sample - loss: 0.5907 - acc: 0.8091 - val_loss: 0.5896 - val_acc: 0.8109\n",
      "Epoch 8/200\n",
      "337179/337179 [==============================] - 58s 172us/sample - loss: 0.5903 - acc: 0.8102 - val_loss: 0.5895 - val_acc: 0.8068\n",
      "Epoch 9/200\n",
      "337179/337179 [==============================] - 58s 172us/sample - loss: 0.5898 - acc: 0.8111 - val_loss: 0.5888 - val_acc: 0.8136\n",
      "Epoch 10/200\n",
      "337179/337179 [==============================] - 58s 171us/sample - loss: 0.5891 - acc: 0.8120 - val_loss: 0.5884 - val_acc: 0.8073\n",
      "Epoch 11/200\n",
      "337179/337179 [==============================] - 58s 172us/sample - loss: 0.5879 - acc: 0.8144 - val_loss: 0.5863 - val_acc: 0.8144\n",
      "Epoch 12/200\n",
      "337179/337179 [==============================] - 58s 171us/sample - loss: 0.5867 - acc: 0.8162 - val_loss: 0.5854 - val_acc: 0.8158\n",
      "Epoch 13/200\n",
      "337179/337179 [==============================] - 58s 172us/sample - loss: 0.5858 - acc: 0.8179 - val_loss: 0.5843 - val_acc: 0.8217\n",
      "Epoch 14/200\n",
      "337179/337179 [==============================] - 58s 172us/sample - loss: 0.5850 - acc: 0.8193 - val_loss: 0.5834 - val_acc: 0.8223\n",
      "Epoch 15/200\n",
      "337179/337179 [==============================] - 58s 172us/sample - loss: 0.5843 - acc: 0.8216 - val_loss: 0.5843 - val_acc: 0.8151\n",
      "Epoch 16/200\n",
      "337179/337179 [==============================] - 58s 172us/sample - loss: 0.5838 - acc: 0.8226 - val_loss: 0.5837 - val_acc: 0.8149\n",
      "Epoch 17/200\n",
      "337179/337179 [==============================] - 59s 174us/sample - loss: 0.5832 - acc: 0.8238 - val_loss: 0.5823 - val_acc: 0.8227\n",
      "Epoch 18/200\n",
      "337179/337179 [==============================] - 58s 172us/sample - loss: 0.5826 - acc: 0.8252 - val_loss: 0.5816 - val_acc: 0.8195\n",
      "Epoch 19/200\n",
      "337179/337179 [==============================] - 58s 173us/sample - loss: 0.5823 - acc: 0.8257 - val_loss: 0.5810 - val_acc: 0.8229\n",
      "Epoch 20/200\n",
      "337179/337179 [==============================] - 58s 173us/sample - loss: 0.5817 - acc: 0.8277 - val_loss: 0.5810 - val_acc: 0.8242\n",
      "Epoch 21/200\n",
      "337179/337179 [==============================] - 59s 174us/sample - loss: 0.5813 - acc: 0.8278 - val_loss: 0.5805 - val_acc: 0.8313\n",
      "Epoch 22/200\n",
      "337179/337179 [==============================] - 59s 176us/sample - loss: 0.5810 - acc: 0.8287 - val_loss: 0.5801 - val_acc: 0.8268\n",
      "Epoch 23/200\n",
      "337179/337179 [==============================] - 58s 173us/sample - loss: 0.5806 - acc: 0.8296 - val_loss: 0.5795 - val_acc: 0.8301\n",
      "Epoch 24/200\n",
      "337179/337179 [==============================] - 59s 175us/sample - loss: 0.5803 - acc: 0.8300 - val_loss: 0.5790 - val_acc: 0.8328\n",
      "Epoch 25/200\n",
      "337179/337179 [==============================] - 59s 174us/sample - loss: 0.5800 - acc: 0.8313 - val_loss: 0.5796 - val_acc: 0.8254\n",
      "Epoch 26/200\n",
      "337179/337179 [==============================] - 59s 176us/sample - loss: 0.5797 - acc: 0.8312 - val_loss: 0.5789 - val_acc: 0.8312\n",
      "Epoch 27/200\n",
      "337179/337179 [==============================] - 59s 175us/sample - loss: 0.5796 - acc: 0.8316 - val_loss: 0.5793 - val_acc: 0.8303\n",
      "Epoch 28/200\n",
      "337179/337179 [==============================] - 59s 174us/sample - loss: 0.5792 - acc: 0.8323 - val_loss: 0.5781 - val_acc: 0.8348\n",
      "Epoch 29/200\n",
      "337179/337179 [==============================] - 58s 172us/sample - loss: 0.5790 - acc: 0.8332 - val_loss: 0.5793 - val_acc: 0.8236\n",
      "Epoch 30/200\n",
      "337179/337179 [==============================] - 58s 173us/sample - loss: 0.5789 - acc: 0.8333 - val_loss: 0.5793 - val_acc: 0.8302\n",
      "Epoch 31/200\n",
      "337179/337179 [==============================] - 59s 174us/sample - loss: 0.5786 - acc: 0.8341 - val_loss: 0.5777 - val_acc: 0.8384\n",
      "Epoch 32/200\n",
      "337179/337179 [==============================] - 58s 173us/sample - loss: 0.5785 - acc: 0.8339 - val_loss: 0.5778 - val_acc: 0.8367\n",
      "Epoch 33/200\n",
      "337179/337179 [==============================] - 59s 174us/sample - loss: 0.5782 - acc: 0.8349 - val_loss: 0.5783 - val_acc: 0.8348\n",
      "Epoch 34/200\n",
      "337179/337179 [==============================] - 59s 175us/sample - loss: 0.5781 - acc: 0.8353 - val_loss: 0.5771 - val_acc: 0.8361\n",
      "Epoch 35/200\n",
      "337179/337179 [==============================] - 59s 176us/sample - loss: 0.5780 - acc: 0.8354 - val_loss: 0.5786 - val_acc: 0.8321\n",
      "Epoch 36/200\n",
      "337179/337179 [==============================] - 59s 176us/sample - loss: 0.5778 - acc: 0.8358 - val_loss: 0.5767 - val_acc: 0.8337\n",
      "Epoch 37/200\n",
      "337179/337179 [==============================] - 59s 174us/sample - loss: 0.5775 - acc: 0.8366 - val_loss: 0.5770 - val_acc: 0.8337\n",
      "Epoch 38/200\n",
      "337179/337179 [==============================] - 60s 177us/sample - loss: 0.5774 - acc: 0.8362 - val_loss: 0.5771 - val_acc: 0.8389\n",
      "Epoch 39/200\n",
      "337179/337179 [==============================] - 59s 175us/sample - loss: 0.5771 - acc: 0.8373 - val_loss: 0.5764 - val_acc: 0.8371\n",
      "Epoch 40/200\n",
      "337179/337179 [==============================] - 59s 175us/sample - loss: 0.5770 - acc: 0.8371 - val_loss: 0.5773 - val_acc: 0.8357\n",
      "Epoch 41/200\n",
      "337179/337179 [==============================] - 59s 176us/sample - loss: 0.5770 - acc: 0.8378 - val_loss: 0.5763 - val_acc: 0.8378\n",
      "Epoch 42/200\n",
      "337179/337179 [==============================] - 59s 176us/sample - loss: 0.5769 - acc: 0.8381 - val_loss: 0.5764 - val_acc: 0.8348\n",
      "Epoch 43/200\n",
      "337179/337179 [==============================] - 59s 175us/sample - loss: 0.5767 - acc: 0.8383 - val_loss: 0.5767 - val_acc: 0.8397\n",
      "Epoch 44/200\n",
      "337179/337179 [==============================] - 58s 173us/sample - loss: 0.5766 - acc: 0.8383 - val_loss: 0.5764 - val_acc: 0.8398\n",
      "Epoch 45/200\n",
      "337179/337179 [==============================] - 60s 177us/sample - loss: 0.5767 - acc: 0.8382 - val_loss: 0.5762 - val_acc: 0.8388\n",
      "Epoch 46/200\n",
      "337179/337179 [==============================] - 61s 180us/sample - loss: 0.5764 - acc: 0.8390 - val_loss: 0.5768 - val_acc: 0.8314\n",
      "Epoch 47/200\n",
      "337179/337179 [==============================] - 59s 175us/sample - loss: 0.5764 - acc: 0.8388 - val_loss: 0.5764 - val_acc: 0.8402\n",
      "Epoch 48/200\n",
      "337179/337179 [==============================] - 60s 177us/sample - loss: 0.5761 - acc: 0.8399 - val_loss: 0.5761 - val_acc: 0.8337\n",
      "Epoch 49/200\n",
      "337179/337179 [==============================] - 59s 174us/sample - loss: 0.5762 - acc: 0.8393 - val_loss: 0.5757 - val_acc: 0.8404\n",
      "Epoch 50/200\n",
      "337179/337179 [==============================] - 59s 176us/sample - loss: 0.5761 - acc: 0.8400 - val_loss: 0.5760 - val_acc: 0.8370\n",
      "Epoch 51/200\n",
      "337179/337179 [==============================] - 59s 176us/sample - loss: 0.5759 - acc: 0.8399 - val_loss: 0.5762 - val_acc: 0.8384\n",
      "Epoch 52/200\n",
      "337179/337179 [==============================] - 59s 175us/sample - loss: 0.5759 - acc: 0.8403 - val_loss: 0.5758 - val_acc: 0.8346\n",
      "Epoch 53/200\n",
      "337179/337179 [==============================] - 60s 177us/sample - loss: 0.5757 - acc: 0.8404 - val_loss: 0.5767 - val_acc: 0.8337\n",
      "Epoch 54/200\n",
      "337179/337179 [==============================] - 59s 176us/sample - loss: 0.5756 - acc: 0.8405 - val_loss: 0.5763 - val_acc: 0.8431\n",
      "Epoch 55/200\n",
      "337179/337179 [==============================] - 59s 176us/sample - loss: 0.5756 - acc: 0.8407 - val_loss: 0.5756 - val_acc: 0.8406\n",
      "Epoch 56/200\n",
      "337179/337179 [==============================] - 60s 178us/sample - loss: 0.5754 - acc: 0.8407 - val_loss: 0.5770 - val_acc: 0.8303\n",
      "Epoch 57/200\n",
      "337179/337179 [==============================] - 60s 177us/sample - loss: 0.5756 - acc: 0.8411 - val_loss: 0.5756 - val_acc: 0.8386\n",
      "Epoch 58/200\n",
      "337179/337179 [==============================] - 59s 175us/sample - loss: 0.5755 - acc: 0.8410 - val_loss: 0.5758 - val_acc: 0.8369\n",
      "Epoch 59/200\n",
      "337179/337179 [==============================] - 59s 176us/sample - loss: 0.5752 - acc: 0.8415 - val_loss: 0.5759 - val_acc: 0.8441\n",
      "Epoch 60/200\n",
      "337179/337179 [==============================] - 59s 176us/sample - loss: 0.5750 - acc: 0.8421 - val_loss: 0.5753 - val_acc: 0.8420\n",
      "Epoch 61/200\n",
      "337179/337179 [==============================] - 59s 176us/sample - loss: 0.5753 - acc: 0.8408 - val_loss: 0.5751 - val_acc: 0.8409\n",
      "Epoch 62/200\n",
      "337179/337179 [==============================] - 59s 176us/sample - loss: 0.5751 - acc: 0.8421 - val_loss: 0.5760 - val_acc: 0.8375\n",
      "Epoch 63/200\n",
      "337179/337179 [==============================] - 59s 175us/sample - loss: 0.5751 - acc: 0.8417 - val_loss: 0.5758 - val_acc: 0.8453\n",
      "Epoch 64/200\n",
      "337179/337179 [==============================] - 60s 177us/sample - loss: 0.5749 - acc: 0.8423 - val_loss: 0.5760 - val_acc: 0.8411\n",
      "Epoch 65/200\n",
      "337179/337179 [==============================] - 59s 176us/sample - loss: 0.5749 - acc: 0.8419 - val_loss: 0.5754 - val_acc: 0.8355\n",
      "Epoch 66/200\n",
      "337179/337179 [==============================] - 60s 177us/sample - loss: 0.5747 - acc: 0.8428 - val_loss: 0.5755 - val_acc: 0.8443\n",
      "Epoch 67/200\n",
      "337179/337179 [==============================] - 59s 176us/sample - loss: 0.5750 - acc: 0.8422 - val_loss: 0.5756 - val_acc: 0.8362\n",
      "Epoch 68/200\n",
      "337179/337179 [==============================] - 59s 176us/sample - loss: 0.5748 - acc: 0.8426 - val_loss: 0.5763 - val_acc: 0.8328\n",
      "Epoch 69/200\n",
      "337179/337179 [==============================] - 59s 176us/sample - loss: 0.5747 - acc: 0.8429 - val_loss: 0.5759 - val_acc: 0.8459\n",
      "Epoch 70/200\n",
      "337179/337179 [==============================] - 59s 174us/sample - loss: 0.5747 - acc: 0.8424 - val_loss: 0.5761 - val_acc: 0.8312\n",
      "Epoch 71/200\n",
      "337179/337179 [==============================] - 60s 178us/sample - loss: 0.5746 - acc: 0.8429 - val_loss: 0.5748 - val_acc: 0.8418\n",
      "Epoch 72/200\n",
      "337179/337179 [==============================] - 59s 176us/sample - loss: 0.5746 - acc: 0.8433 - val_loss: 0.5753 - val_acc: 0.8438\n",
      "Epoch 73/200\n",
      "337179/337179 [==============================] - 60s 179us/sample - loss: 0.5743 - acc: 0.8437 - val_loss: 0.5748 - val_acc: 0.8432\n",
      "Epoch 74/200\n",
      "337179/337179 [==============================] - 60s 178us/sample - loss: 0.5744 - acc: 0.8433 - val_loss: 0.5749 - val_acc: 0.8428\n",
      "Epoch 75/200\n",
      "337179/337179 [==============================] - 60s 177us/sample - loss: 0.5745 - acc: 0.8437 - val_loss: 0.5750 - val_acc: 0.8393\n",
      "Epoch 76/200\n",
      "337179/337179 [==============================] - 60s 178us/sample - loss: 0.5745 - acc: 0.8436 - val_loss: 0.5753 - val_acc: 0.8445\n",
      "Epoch 77/200\n",
      "337179/337179 [==============================] - 60s 177us/sample - loss: 0.5744 - acc: 0.8438 - val_loss: 0.5748 - val_acc: 0.8408\n",
      "Epoch 78/200\n",
      "337179/337179 [==============================] - 60s 177us/sample - loss: 0.5743 - acc: 0.8439 - val_loss: 0.5759 - val_acc: 0.8373\n",
      "Epoch 79/200\n",
      "337179/337179 [==============================] - 60s 177us/sample - loss: 0.5742 - acc: 0.8440 - val_loss: 0.5750 - val_acc: 0.8395\n",
      "Epoch 80/200\n",
      "337179/337179 [==============================] - 60s 179us/sample - loss: 0.5742 - acc: 0.8442 - val_loss: 0.5755 - val_acc: 0.8391\n",
      "Epoch 81/200\n",
      "337179/337179 [==============================] - 58s 171us/sample - loss: 0.5740 - acc: 0.8444 - val_loss: 0.5745 - val_acc: 0.8430\n",
      "Epoch 82/200\n",
      "337179/337179 [==============================] - 62s 185us/sample - loss: 0.5740 - acc: 0.8443 - val_loss: 0.5750 - val_acc: 0.8438\n",
      "Epoch 83/200\n",
      "337179/337179 [==============================] - 62s 185us/sample - loss: 0.5738 - acc: 0.8451 - val_loss: 0.5749 - val_acc: 0.8385\n",
      "Epoch 84/200\n",
      "337179/337179 [==============================] - 62s 184us/sample - loss: 0.5741 - acc: 0.8444 - val_loss: 0.5748 - val_acc: 0.8393\n",
      "Epoch 85/200\n",
      "337179/337179 [==============================] - 62s 184us/sample - loss: 0.5739 - acc: 0.8449 - val_loss: 0.5745 - val_acc: 0.8409\n",
      "Epoch 86/200\n",
      "337179/337179 [==============================] - 62s 183us/sample - loss: 0.5738 - acc: 0.8449 - val_loss: 0.5758 - val_acc: 0.8358\n",
      "Epoch 87/200\n",
      "337179/337179 [==============================] - 62s 185us/sample - loss: 0.5738 - acc: 0.8448 - val_loss: 0.5745 - val_acc: 0.8432\n",
      "Epoch 88/200\n",
      "337179/337179 [==============================] - 62s 185us/sample - loss: 0.5737 - acc: 0.8454 - val_loss: 0.5745 - val_acc: 0.8391\n",
      "Epoch 89/200\n",
      "337179/337179 [==============================] - 62s 185us/sample - loss: 0.5737 - acc: 0.8453 - val_loss: 0.5748 - val_acc: 0.8397\n",
      "Epoch 90/200\n",
      "337179/337179 [==============================] - 62s 185us/sample - loss: 0.5737 - acc: 0.8451 - val_loss: 0.5746 - val_acc: 0.8410\n",
      "Epoch 91/200\n",
      "337179/337179 [==============================] - 62s 185us/sample - loss: 0.5737 - acc: 0.8456 - val_loss: 0.5757 - val_acc: 0.8368\n",
      "Epoch 92/200\n",
      "337179/337179 [==============================] - 62s 184us/sample - loss: 0.5736 - acc: 0.8454 - val_loss: 0.5755 - val_acc: 0.8341\n",
      "Epoch 93/200\n",
      "337179/337179 [==============================] - 62s 185us/sample - loss: 0.5737 - acc: 0.8455 - val_loss: 0.5744 - val_acc: 0.8428\n",
      "Epoch 94/200\n",
      "337179/337179 [==============================] - 62s 185us/sample - loss: 0.5735 - acc: 0.8460 - val_loss: 0.5749 - val_acc: 0.8372\n",
      "Epoch 95/200\n",
      "337179/337179 [==============================] - 63s 185us/sample - loss: 0.5735 - acc: 0.8458 - val_loss: 0.5754 - val_acc: 0.8401\n",
      "Epoch 96/200\n",
      "337179/337179 [==============================] - 63s 186us/sample - loss: 0.5736 - acc: 0.8456 - val_loss: 0.5753 - val_acc: 0.8380\n",
      "Epoch 97/200\n",
      "337179/337179 [==============================] - 62s 184us/sample - loss: 0.5734 - acc: 0.8464 - val_loss: 0.5748 - val_acc: 0.8392\n",
      "Epoch 98/200\n",
      "337179/337179 [==============================] - 62s 185us/sample - loss: 0.5734 - acc: 0.8459 - val_loss: 0.5749 - val_acc: 0.8361\n",
      "Epoch 99/200\n",
      "337179/337179 [==============================] - 62s 184us/sample - loss: 0.5734 - acc: 0.8462 - val_loss: 0.5750 - val_acc: 0.8373\n",
      "Epoch 100/200\n",
      "337179/337179 [==============================] - 62s 185us/sample - loss: 0.5731 - acc: 0.8465 - val_loss: 0.5758 - val_acc: 0.8353\n",
      "Epoch 101/200\n",
      "337179/337179 [==============================] - 62s 184us/sample - loss: 0.5731 - acc: 0.8471 - val_loss: 0.5751 - val_acc: 0.8382\n",
      "Epoch 102/200\n",
      "337179/337179 [==============================] - 62s 185us/sample - loss: 0.5732 - acc: 0.8465 - val_loss: 0.5748 - val_acc: 0.8443\n",
      "Epoch 103/200\n",
      "337179/337179 [==============================] - 63s 187us/sample - loss: 0.5732 - acc: 0.8465 - val_loss: 0.5745 - val_acc: 0.8418\n",
      "Epoch 104/200\n",
      "337179/337179 [==============================] - 63s 185us/sample - loss: 0.5731 - acc: 0.8467 - val_loss: 0.5746 - val_acc: 0.8442\n",
      "Epoch 105/200\n",
      "337179/337179 [==============================] - 62s 185us/sample - loss: 0.5732 - acc: 0.8465 - val_loss: 0.5746 - val_acc: 0.8431\n",
      "Epoch 106/200\n",
      "337179/337179 [==============================] - 63s 186us/sample - loss: 0.5730 - acc: 0.8471 - val_loss: 0.5751 - val_acc: 0.8394\n",
      "Epoch 107/200\n",
      "337179/337179 [==============================] - 62s 185us/sample - loss: 0.5731 - acc: 0.8465 - val_loss: 0.5743 - val_acc: 0.8406\n",
      "Epoch 108/200\n",
      "337179/337179 [==============================] - 62s 184us/sample - loss: 0.5729 - acc: 0.8471 - val_loss: 0.5745 - val_acc: 0.8437\n",
      "Epoch 109/200\n",
      "337179/337179 [==============================] - 63s 186us/sample - loss: 0.5729 - acc: 0.8477 - val_loss: 0.5748 - val_acc: 0.8365\n",
      "Epoch 110/200\n",
      "337179/337179 [==============================] - 63s 186us/sample - loss: 0.5729 - acc: 0.8470 - val_loss: 0.5746 - val_acc: 0.8400\n",
      "Epoch 111/200\n",
      "337179/337179 [==============================] - 63s 186us/sample - loss: 0.5731 - acc: 0.8473 - val_loss: 0.5747 - val_acc: 0.8381\n",
      "Epoch 112/200\n",
      "337179/337179 [==============================] - 63s 186us/sample - loss: 0.5730 - acc: 0.8471 - val_loss: 0.5742 - val_acc: 0.8414\n",
      "Epoch 113/200\n"
     ]
    },
    {
     "name": "stdout",
     "output_type": "stream",
     "text": [
      "337179/337179 [==============================] - 63s 185us/sample - loss: 0.5730 - acc: 0.8471 - val_loss: 0.5753 - val_acc: 0.8380\n",
      "Epoch 114/200\n",
      "337179/337179 [==============================] - 62s 185us/sample - loss: 0.5726 - acc: 0.8478 - val_loss: 0.5756 - val_acc: 0.8339\n",
      "Epoch 115/200\n",
      "337179/337179 [==============================] - 63s 186us/sample - loss: 0.5729 - acc: 0.8472 - val_loss: 0.5747 - val_acc: 0.8435\n",
      "Epoch 116/200\n",
      "337179/337179 [==============================] - 62s 185us/sample - loss: 0.5728 - acc: 0.8477 - val_loss: 0.5745 - val_acc: 0.8411\n",
      "Epoch 117/200\n",
      "337179/337179 [==============================] - 62s 185us/sample - loss: 0.5728 - acc: 0.8481 - val_loss: 0.5743 - val_acc: 0.8415\n",
      "Epoch 118/200\n",
      "337179/337179 [==============================] - 62s 185us/sample - loss: 0.5726 - acc: 0.8480 - val_loss: 0.5747 - val_acc: 0.8368\n",
      "Epoch 119/200\n",
      "337179/337179 [==============================] - 63s 186us/sample - loss: 0.5726 - acc: 0.8478 - val_loss: 0.5750 - val_acc: 0.8418\n",
      "Epoch 120/200\n",
      "337179/337179 [==============================] - 63s 185us/sample - loss: 0.5726 - acc: 0.8481 - val_loss: 0.5750 - val_acc: 0.8433\n",
      "Epoch 121/200\n",
      "337179/337179 [==============================] - 63s 186us/sample - loss: 0.5728 - acc: 0.8477 - val_loss: 0.5743 - val_acc: 0.8427\n",
      "Epoch 122/200\n",
      "337179/337179 [==============================] - 63s 185us/sample - loss: 0.5725 - acc: 0.8486 - val_loss: 0.5745 - val_acc: 0.8419\n",
      "Epoch 123/200\n",
      "337179/337179 [==============================] - 62s 185us/sample - loss: 0.5726 - acc: 0.8477 - val_loss: 0.5756 - val_acc: 0.8323\n",
      "Epoch 124/200\n",
      "337179/337179 [==============================] - 63s 186us/sample - loss: 0.5726 - acc: 0.8484 - val_loss: 0.5746 - val_acc: 0.8431\n",
      "Epoch 125/200\n",
      "337179/337179 [==============================] - 63s 187us/sample - loss: 0.5726 - acc: 0.8481 - val_loss: 0.5748 - val_acc: 0.8407\n",
      "Epoch 126/200\n",
      "337179/337179 [==============================] - 63s 185us/sample - loss: 0.5724 - acc: 0.8487 - val_loss: 0.5747 - val_acc: 0.8461\n",
      "Epoch 127/200\n",
      "337179/337179 [==============================] - 62s 185us/sample - loss: 0.5724 - acc: 0.8488 - val_loss: 0.5749 - val_acc: 0.8398\n",
      "Epoch 128/200\n",
      "337179/337179 [==============================] - 63s 186us/sample - loss: 0.5726 - acc: 0.8480 - val_loss: 0.5743 - val_acc: 0.8404\n",
      "Epoch 129/200\n",
      "337179/337179 [==============================] - 63s 185us/sample - loss: 0.5724 - acc: 0.8489 - val_loss: 0.5740 - val_acc: 0.8430\n",
      "Epoch 130/200\n",
      "337179/337179 [==============================] - 62s 185us/sample - loss: 0.5725 - acc: 0.8485 - val_loss: 0.5744 - val_acc: 0.8408\n",
      "Epoch 131/200\n",
      "337179/337179 [==============================] - 62s 185us/sample - loss: 0.5723 - acc: 0.8485 - val_loss: 0.5745 - val_acc: 0.8398\n",
      "Epoch 132/200\n",
      "337179/337179 [==============================] - 62s 185us/sample - loss: 0.5722 - acc: 0.8490 - val_loss: 0.5746 - val_acc: 0.8408\n",
      "Epoch 133/200\n",
      "337179/337179 [==============================] - 63s 186us/sample - loss: 0.5723 - acc: 0.8490 - val_loss: 0.5749 - val_acc: 0.8371\n",
      "Epoch 134/200\n",
      "337179/337179 [==============================] - 62s 185us/sample - loss: 0.5721 - acc: 0.8493 - val_loss: 0.5742 - val_acc: 0.8398\n",
      "Epoch 135/200\n",
      "337179/337179 [==============================] - 62s 185us/sample - loss: 0.5722 - acc: 0.8492 - val_loss: 0.5752 - val_acc: 0.8345\n",
      "Epoch 136/200\n",
      "337179/337179 [==============================] - 63s 187us/sample - loss: 0.5725 - acc: 0.8479 - val_loss: 0.5747 - val_acc: 0.8366\n",
      "Epoch 137/200\n",
      "337179/337179 [==============================] - 63s 186us/sample - loss: 0.5720 - acc: 0.8495 - val_loss: 0.5744 - val_acc: 0.8448\n",
      "Epoch 138/200\n",
      "337179/337179 [==============================] - 63s 186us/sample - loss: 0.5722 - acc: 0.8496 - val_loss: 0.5747 - val_acc: 0.8414\n",
      "Epoch 139/200\n",
      "337179/337179 [==============================] - 62s 185us/sample - loss: 0.5721 - acc: 0.8494 - val_loss: 0.5740 - val_acc: 0.8426\n",
      "Epoch 140/200\n",
      "337179/337179 [==============================] - 63s 186us/sample - loss: 0.5720 - acc: 0.8491 - val_loss: 0.5746 - val_acc: 0.8376\n",
      "Epoch 141/200\n",
      "337179/337179 [==============================] - 63s 186us/sample - loss: 0.5722 - acc: 0.8490 - val_loss: 0.5744 - val_acc: 0.8406\n",
      "Epoch 142/200\n",
      "337179/337179 [==============================] - 63s 186us/sample - loss: 0.5721 - acc: 0.8494 - val_loss: 0.5744 - val_acc: 0.8454\n",
      "Epoch 143/200\n",
      "337179/337179 [==============================] - 63s 186us/sample - loss: 0.5719 - acc: 0.8496 - val_loss: 0.5743 - val_acc: 0.8413\n",
      "Epoch 144/200\n",
      "337179/337179 [==============================] - 62s 185us/sample - loss: 0.5720 - acc: 0.8492 - val_loss: 0.5744 - val_acc: 0.8430\n",
      "Epoch 145/200\n",
      "337179/337179 [==============================] - 63s 186us/sample - loss: 0.5719 - acc: 0.8500 - val_loss: 0.5750 - val_acc: 0.8364\n",
      "Epoch 146/200\n",
      "337179/337179 [==============================] - 62s 185us/sample - loss: 0.5718 - acc: 0.8500 - val_loss: 0.5745 - val_acc: 0.8466\n",
      "Epoch 147/200\n",
      "337179/337179 [==============================] - 63s 186us/sample - loss: 0.5719 - acc: 0.8499 - val_loss: 0.5746 - val_acc: 0.8389\n",
      "Epoch 148/200\n",
      "337179/337179 [==============================] - 63s 186us/sample - loss: 0.5720 - acc: 0.8495 - val_loss: 0.5744 - val_acc: 0.8391\n",
      "Epoch 149/200\n",
      "337179/337179 [==============================] - 62s 184us/sample - loss: 0.5718 - acc: 0.8501 - val_loss: 0.5746 - val_acc: 0.8470\n",
      "Epoch 150/200\n",
      "337179/337179 [==============================] - 62s 185us/sample - loss: 0.5717 - acc: 0.8504 - val_loss: 0.5745 - val_acc: 0.8409\n",
      "Epoch 151/200\n",
      "337179/337179 [==============================] - 63s 186us/sample - loss: 0.5720 - acc: 0.8497 - val_loss: 0.5742 - val_acc: 0.8425\n",
      "Epoch 152/200\n",
      "337179/337179 [==============================] - 63s 186us/sample - loss: 0.5719 - acc: 0.8502 - val_loss: 0.5747 - val_acc: 0.8403\n",
      "Epoch 153/200\n",
      "337179/337179 [==============================] - 63s 186us/sample - loss: 0.5717 - acc: 0.8501 - val_loss: 0.5743 - val_acc: 0.8453\n",
      "Epoch 154/200\n",
      "337179/337179 [==============================] - 62s 185us/sample - loss: 0.5718 - acc: 0.8505 - val_loss: 0.5743 - val_acc: 0.8401\n",
      "Epoch 155/200\n",
      "337179/337179 [==============================] - 63s 186us/sample - loss: 0.5717 - acc: 0.8499 - val_loss: 0.5753 - val_acc: 0.8401\n",
      "Epoch 156/200\n",
      "337179/337179 [==============================] - 63s 186us/sample - loss: 0.5718 - acc: 0.8502 - val_loss: 0.5754 - val_acc: 0.8396\n",
      "Epoch 157/200\n",
      "337179/337179 [==============================] - 63s 186us/sample - loss: 0.5717 - acc: 0.8502 - val_loss: 0.5742 - val_acc: 0.8455\n",
      "Epoch 158/200\n",
      "337179/337179 [==============================] - 63s 186us/sample - loss: 0.5717 - acc: 0.8500 - val_loss: 0.5745 - val_acc: 0.8384\n",
      "Epoch 159/200\n",
      "337179/337179 [==============================] - 63s 186us/sample - loss: 0.5717 - acc: 0.8506 - val_loss: 0.5752 - val_acc: 0.8396\n",
      "Epoch 160/200\n",
      "337179/337179 [==============================] - 63s 186us/sample - loss: 0.5717 - acc: 0.8502 - val_loss: 0.5741 - val_acc: 0.8445\n",
      "Epoch 161/200\n",
      "337179/337179 [==============================] - 63s 186us/sample - loss: 0.5716 - acc: 0.8503 - val_loss: 0.5742 - val_acc: 0.8415\n",
      "Epoch 162/200\n",
      "337179/337179 [==============================] - 62s 185us/sample - loss: 0.5717 - acc: 0.8506 - val_loss: 0.5741 - val_acc: 0.8439\n",
      "Epoch 163/200\n",
      "337179/337179 [==============================] - 63s 186us/sample - loss: 0.5716 - acc: 0.8507 - val_loss: 0.5745 - val_acc: 0.8384\n",
      "Epoch 164/200\n",
      "337179/337179 [==============================] - 63s 186us/sample - loss: 0.5715 - acc: 0.8507 - val_loss: 0.5746 - val_acc: 0.8416\n",
      "Epoch 165/200\n",
      "337179/337179 [==============================] - 63s 186us/sample - loss: 0.5715 - acc: 0.8504 - val_loss: 0.5742 - val_acc: 0.8411\n",
      "Epoch 166/200\n",
      "337179/337179 [==============================] - 63s 186us/sample - loss: 0.5714 - acc: 0.8508 - val_loss: 0.5745 - val_acc: 0.8390\n",
      "Epoch 167/200\n",
      "337179/337179 [==============================] - 63s 186us/sample - loss: 0.5715 - acc: 0.8508 - val_loss: 0.5741 - val_acc: 0.8404\n",
      "Epoch 168/200\n",
      "337179/337179 [==============================] - 63s 186us/sample - loss: 0.5714 - acc: 0.8510 - val_loss: 0.5743 - val_acc: 0.8389\n",
      "Epoch 169/200\n",
      "337179/337179 [==============================] - 63s 186us/sample - loss: 0.5715 - acc: 0.8506 - val_loss: 0.5742 - val_acc: 0.8397\n",
      "Epoch 170/200\n",
      "337179/337179 [==============================] - 63s 186us/sample - loss: 0.5714 - acc: 0.8511 - val_loss: 0.5745 - val_acc: 0.8399\n",
      "Epoch 171/200\n",
      "337179/337179 [==============================] - 62s 185us/sample - loss: 0.5714 - acc: 0.8509 - val_loss: 0.5742 - val_acc: 0.8403\n",
      "Epoch 172/200\n",
      "337179/337179 [==============================] - 62s 185us/sample - loss: 0.5714 - acc: 0.8512 - val_loss: 0.5743 - val_acc: 0.8433\n",
      "Epoch 173/200\n",
      "337179/337179 [==============================] - 62s 185us/sample - loss: 0.5712 - acc: 0.8517 - val_loss: 0.5747 - val_acc: 0.8381\n",
      "Epoch 174/200\n",
      "337179/337179 [==============================] - 62s 185us/sample - loss: 0.5715 - acc: 0.8508 - val_loss: 0.5755 - val_acc: 0.8386\n",
      "Epoch 175/200\n",
      "337179/337179 [==============================] - 62s 185us/sample - loss: 0.5711 - acc: 0.8521 - val_loss: 0.5748 - val_acc: 0.8354\n",
      "Epoch 176/200\n",
      "337179/337179 [==============================] - 62s 185us/sample - loss: 0.5714 - acc: 0.8513 - val_loss: 0.5739 - val_acc: 0.8444\n",
      "Epoch 177/200\n",
      "337179/337179 [==============================] - 63s 186us/sample - loss: 0.5714 - acc: 0.8514 - val_loss: 0.5751 - val_acc: 0.8431\n",
      "Epoch 178/200\n",
      "337179/337179 [==============================] - 63s 186us/sample - loss: 0.5714 - acc: 0.8506 - val_loss: 0.5745 - val_acc: 0.8400\n",
      "Epoch 179/200\n",
      "337179/337179 [==============================] - 63s 186us/sample - loss: 0.5714 - acc: 0.8509 - val_loss: 0.5739 - val_acc: 0.8430\n",
      "Epoch 180/200\n",
      "337179/337179 [==============================] - 62s 185us/sample - loss: 0.5713 - acc: 0.8513 - val_loss: 0.5740 - val_acc: 0.8416\n",
      "Epoch 181/200\n",
      "337179/337179 [==============================] - 62s 185us/sample - loss: 0.5713 - acc: 0.8514 - val_loss: 0.5742 - val_acc: 0.8405\n",
      "Epoch 182/200\n",
      "337179/337179 [==============================] - 63s 185us/sample - loss: 0.5711 - acc: 0.8520 - val_loss: 0.5741 - val_acc: 0.8420\n",
      "Epoch 183/200\n",
      "337179/337179 [==============================] - 55s 163us/sample - loss: 0.5711 - acc: 0.8519 - val_loss: 0.5742 - val_acc: 0.8451\n",
      "Epoch 184/200\n",
      "337179/337179 [==============================] - 35s 105us/sample - loss: 0.5713 - acc: 0.8515 - val_loss: 0.5748 - val_acc: 0.8384\n",
      "Epoch 185/200\n",
      "337179/337179 [==============================] - 36s 106us/sample - loss: 0.5711 - acc: 0.8516 - val_loss: 0.5742 - val_acc: 0.8432\n",
      "Epoch 186/200\n",
      "337179/337179 [==============================] - 35s 105us/sample - loss: 0.5710 - acc: 0.8520 - val_loss: 0.5743 - val_acc: 0.8402\n",
      "Epoch 187/200\n",
      "337179/337179 [==============================] - 36s 106us/sample - loss: 0.5711 - acc: 0.8516 - val_loss: 0.5742 - val_acc: 0.8401\n",
      "Epoch 188/200\n",
      "337179/337179 [==============================] - 36s 106us/sample - loss: 0.5712 - acc: 0.8519 - val_loss: 0.5747 - val_acc: 0.8375\n",
      "Epoch 189/200\n",
      "337179/337179 [==============================] - 35s 104us/sample - loss: 0.5711 - acc: 0.8516 - val_loss: 0.5746 - val_acc: 0.8367\n",
      "Epoch 190/200\n",
      "337179/337179 [==============================] - 35s 105us/sample - loss: 0.5712 - acc: 0.8517 - val_loss: 0.5748 - val_acc: 0.8367\n",
      "Epoch 191/200\n",
      "337179/337179 [==============================] - 35s 104us/sample - loss: 0.5708 - acc: 0.8527 - val_loss: 0.5748 - val_acc: 0.8388\n",
      "Epoch 192/200\n",
      "337179/337179 [==============================] - 36s 106us/sample - loss: 0.5710 - acc: 0.8522 - val_loss: 0.5742 - val_acc: 0.8426\n",
      "Epoch 193/200\n",
      "337179/337179 [==============================] - 35s 105us/sample - loss: 0.5709 - acc: 0.8520 - val_loss: 0.5743 - val_acc: 0.8411\n",
      "Epoch 194/200\n",
      "337179/337179 [==============================] - 36s 106us/sample - loss: 0.5707 - acc: 0.8525 - val_loss: 0.5740 - val_acc: 0.8425\n",
      "Epoch 195/200\n",
      "337179/337179 [==============================] - 35s 105us/sample - loss: 0.5710 - acc: 0.8522 - val_loss: 0.5747 - val_acc: 0.8409\n",
      "Epoch 196/200\n",
      "337179/337179 [==============================] - 35s 105us/sample - loss: 0.5711 - acc: 0.8518 - val_loss: 0.5748 - val_acc: 0.8380\n",
      "Epoch 197/200\n",
      "337179/337179 [==============================] - 36s 106us/sample - loss: 0.5709 - acc: 0.8524 - val_loss: 0.5742 - val_acc: 0.8398\n",
      "Epoch 198/200\n",
      "337179/337179 [==============================] - 35s 103us/sample - loss: 0.5710 - acc: 0.8518 - val_loss: 0.5741 - val_acc: 0.8465\n",
      "Epoch 199/200\n",
      "337179/337179 [==============================] - 36s 106us/sample - loss: 0.5712 - acc: 0.8515 - val_loss: 0.5754 - val_acc: 0.8410\n",
      "Epoch 200/200\n",
      "337179/337179 [==============================] - 35s 104us/sample - loss: 0.5709 - acc: 0.8521 - val_loss: 0.5741 - val_acc: 0.8398\n"
     ]
    }
   ],
   "source": [
    "history = model.fit(X_train, y_train, epochs=200, \n",
    "                    batch_size=100,\n",
    "                    validation_data=(X_val, y_val))"
   ]
  },
  {
   "cell_type": "code",
   "execution_count": 10,
   "metadata": {
    "ExecuteTime": {
     "end_time": "2021-10-04T17:37:47.611888Z",
     "start_time": "2021-10-04T17:37:47.356964Z"
    }
   },
   "outputs": [
    {
     "data": {
      "image/png": "[encoded data removed]",
      "text/plain": [
       "<Figure size 1152x144 with 2 Axes>"
      ]
     },
     "metadata": {
      "needs_background": "light"
     },
     "output_type": "display_data"
    }
   ],
   "source": [
    "plt.figure(figsize=(16,2))\n",
    "plt.subplot(1,2,1)\n",
    "plot_graphs(history, 'acc')\n",
    "plt.subplot(1,2,2)\n",
    "plot_graphs(history, 'loss')"
   ]
  },
  {
   "cell_type": "markdown",
   "metadata": {},
   "source": [
    "# 2-2. Github code"
   ]
  },
  {
   "cell_type": "code",
   "execution_count": null,
   "metadata": {
    "ExecuteTime": {
     "start_time": "2021-10-17T16:18:54.673Z"
    }
   },
   "outputs": [
    {
     "name": "stdout",
     "output_type": "stream",
     "text": [
      "Loading input peptides\n",
      "Succesfully loaded 421474 peptides and skipped 0\n",
      "Loading input peptides\n",
      "Succesfully loaded 88998 peptides and skipped 0\n",
      "(337179, 81) (84295, 81) (88998, 81) (337179,) (84295,) (88998,)\n",
      "Loading model...\n",
      "WARNING:tensorflow:From /home/bis/miniconda3/envs/TF1.14/lib/python3.6/site-packages/tensorflow/python/ops/init_ops.py:97: calling GlorotUniform.__init__ (from tensorflow.python.ops.init_ops) with dtype is deprecated and will be removed in a future version.\n",
      "Instructions for updating:\n",
      "Call initializer instance with the dtype argument instead of passing it to the constructor\n",
      "WARNING:tensorflow:From /home/bis/miniconda3/envs/TF1.14/lib/python3.6/site-packages/tensorflow/python/ops/init_ops.py:97: calling Zeros.__init__ (from tensorflow.python.ops.init_ops) with dtype is deprecated and will be removed in a future version.\n",
      "Instructions for updating:\n",
      "Call initializer instance with the dtype argument instead of passing it to the constructor\n",
      "WARNING:tensorflow:Error in loading the saved optimizer state. As a result, your model is starting with a freshly initialized optimizer.\n",
      "Train on 337179 samples, validate on 84295 samples\n",
      "Epoch 1/200\n",
      "337179/337179 [==============================] - 964s 3ms/sample - loss: 0.4320 - acc: 0.7947 - binary_crossentropy: 0.4320 - val_loss: 0.3749 - val_acc: 0.8285 - val_binary_crossentropy: 0.3749\n",
      "Epoch 2/200\n",
      "337179/337179 [==============================] - 871s 3ms/sample - loss: 0.3768 - acc: 0.8300 - binary_crossentropy: 0.3768 - val_loss: 0.3589 - val_acc: 0.8368 - val_binary_crossentropy: 0.3589\n",
      "Epoch 3/200\n",
      "337179/337179 [==============================] - 352s 1ms/sample - loss: 0.3651 - acc: 0.8361 - binary_crossentropy: 0.3651 - val_loss: 0.3552 - val_acc: 0.8381 - val_binary_crossentropy: 0.3552\n",
      "Epoch 4/200\n",
      "337179/337179 [==============================] - 363s 1ms/sample - loss: 0.3596 - acc: 0.8396 - binary_crossentropy: 0.3596 - val_loss: 0.3495 - val_acc: 0.8417 - val_binary_crossentropy: 0.3495\n",
      "Epoch 5/200\n",
      "337179/337179 [==============================] - 123s 365us/sample - loss: 0.3558 - acc: 0.8419 - binary_crossentropy: 0.3558 - val_loss: 0.3496 - val_acc: 0.8411 - val_binary_crossentropy: 0.3496\n",
      "Epoch 6/200\n",
      "337179/337179 [==============================] - 45s 134us/sample - loss: 0.3530 - acc: 0.8429 - binary_crossentropy: 0.3530 - val_loss: 0.3500 - val_acc: 0.8412 - val_binary_crossentropy: 0.3500\n",
      "Epoch 7/200\n",
      "337179/337179 [==============================] - 45s 133us/sample - loss: 0.3505 - acc: 0.8440 - binary_crossentropy: 0.3505 - val_loss: 0.3439 - val_acc: 0.8450 - val_binary_crossentropy: 0.3439\n",
      "Epoch 8/200\n",
      "337179/337179 [==============================] - 46s 138us/sample - loss: 0.3496 - acc: 0.8450 - binary_crossentropy: 0.3496 - val_loss: 0.3434 - val_acc: 0.8448 - val_binary_crossentropy: 0.3434\n",
      "Epoch 9/200\n",
      "194800/337179 [================>.............] - ETA: 1:52 - loss: 0.3464 - acc: 0.8468 - binary_crossentropy: 0.3464"
     ]
    }
   ],
   "source": [
    "args = file_path + 'detect_peptide_train_noptm_largedata.txt'\n",
    "print('Loading input peptides')\n",
    "X_train81, skipped, lines = load_pep_and_codify(args, 81)\n",
    "tmp = open(file_path+'detect_peptide_train_y_noptm_largedata.txt')\n",
    "y_train81 = np.array([int(_.replace('\\n', '')) for _ in tmp.readlines()])\n",
    "tmp.close()\n",
    "print('Succesfully loaded {0} peptides and skipped {1}'.format(len(lines), str(skipped)))\n",
    "\n",
    "args = file_path + 'detect_peptide_test_noptm_largedata.txt'\n",
    "print('Loading input peptides')\n",
    "X_test81, skipped, lines = load_pep_and_codify(args, 81)\n",
    "tmp = open(file_path+'detect_peptide_test_y_noptm_largedata.txt')\n",
    "y_test81 = np.array([int(_.replace('\\n', '')) for _ in tmp.readlines()])\n",
    "tmp.close()\n",
    "print('Succesfully loaded {0} peptides and skipped {1}'.format(len(lines), str(skipped)))\n",
    "\n",
    "X_train81, X_val81, y_train81, y_val81 = train_test_split(X_train81, y_train81, test_size=0.2)\n",
    "print(X_train81.shape, X_val81.shape, X_test81.shape, y_train81.shape, y_val81.shape, y_test81.shape)\n",
    "\n",
    "\n",
    "print('Loading model...')\n",
    "model_2_1D = keras.models.load_model(file_path + 'model_2_1D.h5')\n",
    "\n",
    "history_github = model_2_1D.fit(X_train81, y_train81, epochs=200, \n",
    "                    batch_size=100,\n",
    "                    validation_data=(X_val81, y_val81))\n",
    "\n",
    "plt.figure(figsize=(16,2))\n",
    "plt.subplot(1,2,1)\n",
    "plot_graphs(history_github, 'acc')\n",
    "plt.subplot(1,2,2)\n",
    "plot_graphs(history_github, 'loss')"
   ]
  },
  {
   "cell_type": "markdown",
   "metadata": {},
   "source": [
    "# 3. test"
   ]
  },
  {
   "cell_type": "code",
   "execution_count": null,
   "metadata": {
    "ExecuteTime": {
     "start_time": "2021-10-17T16:19:09.079Z"
    }
   },
   "outputs": [],
   "source": [
    "from sklearn.metrics import classification_report\n",
    "from sklearn.metrics import confusion_matrix\n",
    "from sklearn.metrics import roc_curve\n",
    "from sklearn.metrics import roc_auc_score\n",
    "import seaborn as sns"
   ]
  },
  {
   "cell_type": "code",
   "execution_count": 13,
   "metadata": {
    "ExecuteTime": {
     "end_time": "2021-10-04T21:02:39.958641Z",
     "start_time": "2021-10-04T21:02:23.584685Z"
    }
   },
   "outputs": [
    {
     "name": "stdout",
     "output_type": "stream",
     "text": [
      "88998/88998 [==============================] - 6s 64us/sample - loss: 0.5695 - acc: 0.8633\n",
      "Test Loss: 0.569490050697046\n",
      "Test Accuracy: 0.8632665872573853\n",
      "              precision    recall  f1-score   support\n",
      "\n",
      "           0       0.85      0.88      0.87     44509\n",
      "           1       0.87      0.85      0.86     44489\n",
      "\n",
      "    accuracy                           0.86     88998\n",
      "   macro avg       0.86      0.86      0.86     88998\n",
      "weighted avg       0.86      0.86      0.86     88998\n",
      "\n",
      "rf auc : 0.9195619404364757\n"
     ]
    },
    {
     "data": {
      "image/png": "[encoded data removed]",
      "text/plain": [
       "<Figure size 288x288 with 1 Axes>"
      ]
     },
     "metadata": {
      "needs_background": "light"
     },
     "output_type": "display_data"
    },
    {
     "data": {
      "image/png": "[encoded data removed]",
      "text/plain": [
       "<Figure size 216x216 with 2 Axes>"
      ]
     },
     "metadata": {
      "needs_background": "light"
     },
     "output_type": "display_data"
    },
    {
     "data": {
      "image/png": "[encoded data removed]",
      "text/plain": [
       "<Figure size 216x216 with 2 Axes>"
      ]
     },
     "metadata": {
      "needs_background": "light"
     },
     "output_type": "display_data"
    }
   ],
   "source": [
    "test_loss, test_acc = model.evaluate(X_test, y_test)\n",
    "print('Test Loss: {}'.format(test_loss))\n",
    "print('Test Accuracy: {}'.format(test_acc))\n",
    "\n",
    "# prediction\n",
    "y_pred = [1 if i>=0.5 else 0 for i in model.predict(X_test)]\n",
    "print(classification_report(y_test, y_pred))\n",
    "# AUC\n",
    "probs = model.predict(X_test)\n",
    "rf_auc = roc_auc_score(y_test, probs)\n",
    "print('rf auc : {}'.format(rf_auc))\n",
    "# plot the roc curve for the model\n",
    "rf_fpr, rf_tpr, _ = roc_curve(y_test, probs)\n",
    "plt.figure(figsize=(4, 4))\n",
    "plt.plot(rf_fpr, rf_tpr, marker='.', label='RF AUC = {:.4f}'.format(rf_auc), color='orange')\n",
    "plt.title('ROC curve')\n",
    "# axis labels\n",
    "plt.xlabel('False Positive Rate')\n",
    "plt.ylabel('True Positive Rate')\n",
    "# show the legend\n",
    "plt.legend()\n",
    "# show the plot\n",
    "plt.show()\n",
    "\n",
    "cf_matrix = confusion_matrix(y_test, y_pred)\n",
    "plt.figure(figsize=(3, 3))\n",
    "sns.heatmap(cf_matrix, annot=True, fmt=',.0f')\n",
    "plt.show()\n",
    "plt.figure(figsize=(3, 3))\n",
    "sns.heatmap(cf_matrix/np.sum(cf_matrix), annot=True, \n",
    "            fmt='.2%', cmap='Blues')\n",
    "plt.show()"
   ]
  },
  {
   "cell_type": "code",
   "execution_count": 14,
   "metadata": {
    "ExecuteTime": {
     "end_time": "2021-10-04T21:03:00.250977Z",
     "start_time": "2021-10-04T21:02:39.959871Z"
    }
   },
   "outputs": [
    {
     "name": "stdout",
     "output_type": "stream",
     "text": [
      "88998/88998 [==============================] - 7s 77us/sample - loss: 0.3391 - acc: 0.8542 - binary_crossentropy: 0.3391\n",
      "Test Loss: 0.569490050697046\n",
      "Test Accuracy: [0.33912464481447113, 0.8541877, 0.33912423]\n",
      "              precision    recall  f1-score   support\n",
      "\n",
      "           0       0.91      0.79      0.84     44509\n",
      "           1       0.81      0.92      0.86     44489\n",
      "\n",
      "    accuracy                           0.85     88998\n",
      "   macro avg       0.86      0.85      0.85     88998\n",
      "weighted avg       0.86      0.85      0.85     88998\n",
      "\n",
      "rf auc : 0.9339800137281874\n"
     ]
    },
    {
     "data": {
      "image/png": "[encoded data removed]",
      "text/plain": [
       "<Figure size 288x288 with 1 Axes>"
      ]
     },
     "metadata": {
      "needs_background": "light"
     },
     "output_type": "display_data"
    },
    {
     "data": {
      "image/png": "[encoded data removed]",
      "text/plain": [
       "<Figure size 216x216 with 2 Axes>"
      ]
     },
     "metadata": {
      "needs_background": "light"
     },
     "output_type": "display_data"
    },
    {
     "data": {
      "image/png": "[encoded data removed]",
      "text/plain": [
       "<Figure size 216x216 with 2 Axes>"
      ]
     },
     "metadata": {
      "needs_background": "light"
     },
     "output_type": "display_data"
    }
   ],
   "source": [
    "test_acc = model_2_1D.evaluate(X_test81, y_test81)\n",
    "print('Test Loss: {}'.format(test_loss))\n",
    "print('Test Accuracy: {}'.format(test_acc))\n",
    "\n",
    "# prediction\n",
    "y_pred = [1 if i>=0.5 else 0 for i in model_2_1D.predict(X_test81)]\n",
    "print(classification_report(y_test81, y_pred))\n",
    "# AUC\n",
    "probs = model_2_1D.predict(X_test81)\n",
    "rf_auc = roc_auc_score(y_test81, probs)\n",
    "print('rf auc : {}'.format(rf_auc))\n",
    "# plot the roc curve for the model\n",
    "rf_fpr, rf_tpr, _ = roc_curve(y_test81, probs)\n",
    "plt.figure(figsize=(4, 4))\n",
    "plt.plot(rf_fpr, rf_tpr, marker='.', label='RF AUC = {:.4f}'.format(rf_auc), color='orange')\n",
    "plt.title('ROC curve')\n",
    "# axis labels\n",
    "plt.xlabel('False Positive Rate')\n",
    "plt.ylabel('True Positive Rate')\n",
    "# show the legend\n",
    "plt.legend()\n",
    "# show the plot\n",
    "plt.show()\n",
    "\n",
    "cf_matrix = confusion_matrix(y_test81, y_pred)\n",
    "plt.figure(figsize=(3, 3))\n",
    "sns.heatmap(cf_matrix, annot=True, fmt=',.0f')\n",
    "plt.show()\n",
    "plt.figure(figsize=(3, 3))\n",
    "sns.heatmap(cf_matrix/np.sum(cf_matrix), annot=True, \n",
    "            fmt='.2%', cmap='Blues')\n",
    "plt.show()"
   ]
  },
  {
   "cell_type": "markdown",
   "metadata": {},
   "source": [
    "# check zero MSGF peptides property"
   ]
  },
  {
   "cell_type": "code",
   "execution_count": 15,
   "metadata": {
    "ExecuteTime": {
     "end_time": "2021-10-04T21:03:00.275877Z",
     "start_time": "2021-10-04T21:03:00.252162Z"
    }
   },
   "outputs": [],
   "source": [
    "import pickle\n",
    "\n",
    "with open('pep_zeroMSGF_noptm.pickle', 'rb') as f:\n",
    "    pep_zeroMSGF_noptm = pickle.load(f)"
   ]
  },
  {
   "cell_type": "code",
   "execution_count": 16,
   "metadata": {
    "ExecuteTime": {
     "end_time": "2021-10-04T21:03:01.202149Z",
     "start_time": "2021-10-04T21:03:00.277530Z"
    }
   },
   "outputs": [],
   "source": [
    "max_len=81\n",
    "\n",
    "aa_dict={'A':1,'R':2,'N':3,'D':4,'C':5,'Q':6,'E':7,'G':8,'H':9,'I':10,'L':11,'K':12,'M':13,'F':14,\n",
    "    'P':15,'O':16,'S':17,'U':18,'T':19,'W':20,'Y':21,'V':22}\n",
    "pep_codes=[]\n",
    "newLines = []\n",
    "for pep in pep_zeroMSGF_noptm:\n",
    "    if not len(pep) > max_len:\n",
    "        current_pep=[]\n",
    "        for aa in pep:\n",
    "            current_pep.append(aa_dict[aa])\n",
    "        pep_codes.append(current_pep)\n",
    "        newLines.extend([pep])\n",
    "predict_data = keras.preprocessing.sequence.pad_sequences(pep_codes, value=0, padding='post', maxlen=max_len)"
   ]
  },
  {
   "cell_type": "code",
   "execution_count": 17,
   "metadata": {
    "ExecuteTime": {
     "end_time": "2021-10-04T21:03:01.212092Z",
     "start_time": "2021-10-04T21:03:01.203542Z"
    }
   },
   "outputs": [],
   "source": [
    "predict_label = np.array([0]*len(predict_data))"
   ]
  },
  {
   "cell_type": "code",
   "execution_count": 18,
   "metadata": {
    "ExecuteTime": {
     "end_time": "2021-10-04T21:03:15.326231Z",
     "start_time": "2021-10-04T21:03:01.213171Z"
    }
   },
   "outputs": [
    {
     "name": "stdout",
     "output_type": "stream",
     "text": [
      "93542/93542 [==============================] - 7s 77us/sample - loss: 1.0802 - acc: 0.6148 - binary_crossentropy: 1.0802\n",
      "Test Loss: 0.569490050697046\n",
      "Test Accuracy: [1.0802476228004148, 0.6147613, 1.0802478]\n",
      "              precision    recall  f1-score   support\n",
      "\n",
      "           0       1.00      0.61      0.76     93542\n",
      "           1       0.00      0.00      0.00         0\n",
      "\n",
      "    accuracy                           0.61     93542\n",
      "   macro avg       0.50      0.31      0.38     93542\n",
      "weighted avg       1.00      0.61      0.76     93542\n",
      "\n"
     ]
    },
    {
     "name": "stderr",
     "output_type": "stream",
     "text": [
      "/home/bis/miniconda3/envs/TF1.14/lib/python3.6/site-packages/sklearn/metrics/_classification.py:1248: UndefinedMetricWarning: Recall and F-score are ill-defined and being set to 0.0 in labels with no true samples. Use `zero_division` parameter to control this behavior.\n",
      "  _warn_prf(average, modifier, msg_start, len(result))\n",
      "/home/bis/miniconda3/envs/TF1.14/lib/python3.6/site-packages/sklearn/metrics/_classification.py:1248: UndefinedMetricWarning: Recall and F-score are ill-defined and being set to 0.0 in labels with no true samples. Use `zero_division` parameter to control this behavior.\n",
      "  _warn_prf(average, modifier, msg_start, len(result))\n",
      "/home/bis/miniconda3/envs/TF1.14/lib/python3.6/site-packages/sklearn/metrics/_classification.py:1248: UndefinedMetricWarning: Recall and F-score are ill-defined and being set to 0.0 in labels with no true samples. Use `zero_division` parameter to control this behavior.\n",
      "  _warn_prf(average, modifier, msg_start, len(result))\n"
     ]
    }
   ],
   "source": [
    "test_acc = model_2_1D.evaluate(predict_data, predict_label)\n",
    "print('Test Loss: {}'.format(test_loss))\n",
    "print('Test Accuracy: {}'.format(test_acc))\n",
    "\n",
    "# prediction\n",
    "y_pred = [1 if i>=0.5 else 0 for i in model_2_1D.predict(predict_data)]\n",
    "print(classification_report(predict_label, y_pred))"
   ]
  },
  {
   "cell_type": "code",
   "execution_count": 19,
   "metadata": {
    "ExecuteTime": {
     "end_time": "2021-10-04T21:03:21.445945Z",
     "start_time": "2021-10-04T21:03:15.327479Z"
    }
   },
   "outputs": [],
   "source": [
    "y_prob = model_2_1D.predict(predict_data)"
   ]
  },
  {
   "cell_type": "code",
   "execution_count": 20,
   "metadata": {
    "ExecuteTime": {
     "end_time": "2021-10-04T21:03:21.534807Z",
     "start_time": "2021-10-04T21:03:21.447187Z"
    }
   },
   "outputs": [
    {
     "data": {
      "image/png": "[encoded data removed]",
      "text/plain": [
       "<Figure size 144x360 with 1 Axes>"
      ]
     },
     "metadata": {
      "needs_background": "light"
     },
     "output_type": "display_data"
    }
   ],
   "source": [
    "plt.figure(figsize=(2,5))\n",
    "plt.boxplot(y_prob.reshape(-1))\n",
    "plt.title('zero MSGF score noptm_peptides\\' detectability')\n",
    "plt.xlabel('0MSGF peptides\\'')\n",
    "plt.show()"
   ]
  },
  {
   "cell_type": "code",
   "execution_count": null,
   "metadata": {},
   "outputs": [],
   "source": []
  }
 ],
 "metadata": {
  "kernelspec": {
   "display_name": "TF1.14",
   "language": "python",
   "name": "tf1.14"
  },
  "language_info": {
   "codemirror_mode": {
    "name": "ipython",
    "version": 3
   },
   "file_extension": ".py",
   "mimetype": "text/x-python",
   "name": "python",
   "nbconvert_exporter": "python",
   "pygments_lexer": "ipython3",
   "version": "3.6.13"
  }
 },
 "nbformat": 4,
 "nbformat_minor": 4
}
