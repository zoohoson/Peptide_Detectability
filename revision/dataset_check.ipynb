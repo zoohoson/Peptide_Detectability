{
 "cells": [
  {
   "cell_type": "code",
   "execution_count": 1,
   "id": "1c608777",
   "metadata": {
    "ExecuteTime": {
     "end_time": "2023-03-20T16:01:54.368388Z",
     "start_time": "2023-03-20T16:01:54.115749Z"
    }
   },
   "outputs": [],
   "source": [
    "import pandas as pd"
   ]
  },
  {
   "cell_type": "code",
   "execution_count": 11,
   "id": "69a63477",
   "metadata": {
    "ExecuteTime": {
     "end_time": "2023-03-20T13:52:26.901143Z",
     "start_time": "2023-03-20T13:52:24.105375Z"
    }
   },
   "outputs": [
    {
     "name": "stdout",
     "output_type": "stream",
     "text": [
      "peptide length: 147125\n",
      ": 131445\n"
     ]
    }
   ],
   "source": [
    "df=pd.read_csv('/data/2021_SJH_detectability/diff_tool/H.sapiens_HEK293[21]_msgf_Fdr1.tsv', sep='\\t')\n",
    "peptide=df.Peptide.unique()\n",
    "up=set()\n",
    "for p in peptide:\n",
    "    up.add(''.join([_ for _ in p if ord(_) in range(65, 91)]))\n",
    "print('peptide length:', len(peptide))\n",
    "print(':', len(up))"
   ]
  },
  {
   "cell_type": "code",
   "execution_count": 12,
   "id": "3164d6de",
   "metadata": {
    "ExecuteTime": {
     "end_time": "2023-03-20T13:52:35.232749Z",
     "start_time": "2023-03-20T13:52:34.230619Z"
    }
   },
   "outputs": [
    {
     "name": "stdout",
     "output_type": "stream",
     "text": [
      "peptide length: 57370\n",
      ": 52506\n"
     ]
    }
   ],
   "source": [
    "df=pd.read_csv('/data/2021_SJH_detectability/diff_tool/H.sapiens_Liver[22]_msgf_Fdr1.tsv', sep='\\t')\n",
    "peptide=df.Peptide.unique()\n",
    "up=set()\n",
    "for p in peptide:\n",
    "    up.add(''.join([_ for _ in p if ord(_) in range(65, 91)]))\n",
    "print('peptide length:', len(peptide))\n",
    "print(':', len(up))"
   ]
  },
  {
   "cell_type": "code",
   "execution_count": 20,
   "id": "bda4e405",
   "metadata": {
    "ExecuteTime": {
     "end_time": "2023-03-20T13:58:01.791291Z",
     "start_time": "2023-03-20T13:58:00.260231Z"
    }
   },
   "outputs": [
    {
     "name": "stdout",
     "output_type": "stream",
     "text": [
      "peptide length: 83398\n",
      ": 81138\n"
     ]
    }
   ],
   "source": [
    "df=pd.read_csv('/data/2021_SJH_detectability/diff_tool/M.musculus_EpH4[23]_msgf_Fdr1.tsv', sep='\\t')\n",
    "peptide=df.Peptide.unique()\n",
    "up=set()\n",
    "for p in peptide:\n",
    "    up.add(''.join([_ for _ in p if ord(_) in range(65, 91)]))\n",
    "print('peptide length:', len(peptide))\n",
    "print(':', len(up))"
   ]
  },
  {
   "cell_type": "code",
   "execution_count": 22,
   "id": "d2027d70",
   "metadata": {
    "ExecuteTime": {
     "end_time": "2023-03-20T13:58:49.241999Z",
     "start_time": "2023-03-20T13:58:47.300703Z"
    }
   },
   "outputs": [
    {
     "name": "stdout",
     "output_type": "stream",
     "text": [
      "peptide length: 80035\n",
      ": 70352\n"
     ]
    }
   ],
   "source": [
    "df=pd.read_csv('/data/2021_SJH_detectability/diff_tool/M.musculus_Tmuscle[24]_msgf_Fdr1.tsv', sep='\\t')\n",
    "peptide=df.Peptide.unique()\n",
    "up=set()\n",
    "for p in peptide:\n",
    "    up.add(''.join([_ for _ in p if ord(_) in range(65, 91)]))\n",
    "print('peptide length:', len(peptide))\n",
    "print(':', len(up))"
   ]
  },
  {
   "cell_type": "code",
   "execution_count": 21,
   "id": "400ef288",
   "metadata": {
    "ExecuteTime": {
     "end_time": "2023-03-20T13:58:35.168804Z",
     "start_time": "2023-03-20T13:58:33.243100Z"
    }
   },
   "outputs": [
    {
     "name": "stdout",
     "output_type": "stream",
     "text": [
      "peptide length: 97087\n",
      ": 84969\n"
     ]
    }
   ],
   "source": [
    "df=pd.read_csv('/data/2021_SJH_detectability/diff_tool/S.cerevisiae_BY4741[23]_msgf_Fdr1.tsv', sep='\\t')\n",
    "peptide=df.Peptide.unique()\n",
    "up=set()\n",
    "for p in peptide:\n",
    "    up.add(''.join([_ for _ in p if ord(_) in range(65, 91)]))\n",
    "print('peptide length:', len(peptide))\n",
    "print(':', len(up))"
   ]
  },
  {
   "cell_type": "code",
   "execution_count": 23,
   "id": "8127eac7",
   "metadata": {
    "ExecuteTime": {
     "end_time": "2023-03-20T13:59:14.626206Z",
     "start_time": "2023-03-20T13:59:11.113297Z"
    }
   },
   "outputs": [
    {
     "name": "stdout",
     "output_type": "stream",
     "text": [
      "peptide length: 39134\n",
      ": 35360\n"
     ]
    }
   ],
   "source": [
    "df=pd.read_csv('/data/2021_SJH_detectability/diff_tool/S.cerevisiae_BY4741[25]_msgf_Fdr1.tsv', sep='\\t')\n",
    "peptide=df.Peptide.unique()\n",
    "up=set()\n",
    "for p in peptide:\n",
    "    up.add(''.join([_ for _ in p if ord(_) in range(65, 91)]))\n",
    "print('peptide length:', len(peptide))\n",
    "print(':', len(up))"
   ]
  },
  {
   "cell_type": "code",
   "execution_count": null,
   "id": "d80a849a",
   "metadata": {},
   "outputs": [],
   "source": []
  },
  {
   "cell_type": "code",
   "execution_count": null,
   "id": "84dff220",
   "metadata": {},
   "outputs": [],
   "source": []
  },
  {
   "cell_type": "code",
   "execution_count": null,
   "id": "36afca30",
   "metadata": {},
   "outputs": [],
   "source": []
  },
  {
   "cell_type": "code",
   "execution_count": null,
   "id": "49b24e11",
   "metadata": {},
   "outputs": [],
   "source": []
  },
  {
   "cell_type": "code",
   "execution_count": null,
   "id": "03571785",
   "metadata": {},
   "outputs": [],
   "source": []
  },
  {
   "cell_type": "code",
   "execution_count": null,
   "id": "9348f7be",
   "metadata": {},
   "outputs": [],
   "source": []
  },
  {
   "cell_type": "code",
   "execution_count": null,
   "id": "f113e9f2",
   "metadata": {},
   "outputs": [],
   "source": []
  },
  {
   "cell_type": "code",
   "execution_count": 2,
   "id": "92f5ea6c",
   "metadata": {
    "ExecuteTime": {
     "end_time": "2023-03-19T16:22:50.186041Z",
     "start_time": "2023-03-19T16:22:48.288013Z"
    }
   },
   "outputs": [],
   "source": [
    "df_m=pd.read_csv('/data/2021_SJH_detectability/data_human/train.csv')\n",
    "pep_m=set(df_m.peptide.unique())\n",
    "df_hpp=pd.read_csv('/data/2021_SJH_detectability/data_human/HPP.csv')\n",
    "pep_hpp=set(df_hpp.peptide.unique())"
   ]
  },
  {
   "cell_type": "code",
   "execution_count": 17,
   "id": "5a1ac7e1",
   "metadata": {
    "ExecuteTime": {
     "end_time": "2023-03-19T14:36:40.688218Z",
     "start_time": "2023-03-19T14:36:30.867466Z"
    }
   },
   "outputs": [
    {
     "name": "stdout",
     "output_type": "stream",
     "text": [
      "599202\n",
      "16518\n"
     ]
    }
   ],
   "source": [
    "df_human1=pd.concat([\n",
    "    pd.read_csv('/data/2021_SJH_detectability/data_cross_species/raw/human/HEK293/test.csv'),\n",
    "    pd.read_csv('/data/2021_SJH_detectability/data_cross_species/raw/human/HEK293/train.csv')])\n",
    "\n",
    "df_human2=pd.concat([\n",
    "    pd.read_csv('/data/2021_SJH_detectability/data_cross_species/raw/human/HmapLiver/test.csv'),\n",
    "    pd.read_csv('/data/2021_SJH_detectability/data_cross_species/raw/human/HmapLiver/train.csv')])\n",
    "\n",
    "pep_human1=set(df_human1.peptide.unique())\n",
    "\n",
    "pep_human2=set(df_human2.peptide.unique())\n",
    "\n",
    "pep_human=pep_human1.union(pep_human2)\n",
    "\n",
    "print(len(pep_m.intersection(pep_human)))\n",
    "print(len(pep_hpp.intersection(pep_human)))"
   ]
  },
  {
   "cell_type": "code",
   "execution_count": 3,
   "id": "def95d10",
   "metadata": {
    "ExecuteTime": {
     "end_time": "2023-03-19T16:22:58.862910Z",
     "start_time": "2023-03-19T16:22:50.275519Z"
    }
   },
   "outputs": [
    {
     "name": "stdout",
     "output_type": "stream",
     "text": [
      "220933\n",
      "5608\n"
     ]
    }
   ],
   "source": [
    "df_mouse1=pd.concat([\n",
    "    pd.read_csv('/data/2021_SJH_detectability/data_cross_species/raw/mouse/KLife/test.csv'),\n",
    "    pd.read_csv('/data/2021_SJH_detectability/data_cross_species/raw/mouse/KLife/train.csv')])\n",
    "\n",
    "df_mouse2=pd.concat([\n",
    "    pd.read_csv('/data/2021_SJH_detectability/data_cross_species/raw/mouse/SkeletaMuscle/test.csv'),\n",
    "    pd.read_csv('/data/2021_SJH_detectability/data_cross_species/raw/mouse/SkeletaMuscle/train.csv')])\n",
    "\n",
    "pep_mouse1=set(df_mouse1.peptide.unique())\n",
    "\n",
    "pep_mouse2=set(df_mouse2.peptide.unique())\n",
    "\n",
    "pep_mouse=pep_mouse1.union(pep_mouse2)\n",
    "\n",
    "print(len(pep_m.intersection(pep_mouse)))\n",
    "print(len(pep_hpp.intersection(pep_mouse)))"
   ]
  },
  {
   "cell_type": "code",
   "execution_count": 4,
   "id": "6ba70a11",
   "metadata": {
    "ExecuteTime": {
     "end_time": "2023-03-19T16:23:12.324751Z",
     "start_time": "2023-03-19T16:23:12.049742Z"
    }
   },
   "outputs": [
    {
     "name": "stdout",
     "output_type": "stream",
     "text": [
      "1498552 1313195\n",
      "1107833\n"
     ]
    }
   ],
   "source": [
    "print(len(pep_mouse1), len(pep_mouse2))\n",
    "print(len(pep_mouse1.intersection(pep_mouse2)))"
   ]
  },
  {
   "cell_type": "code",
   "execution_count": 19,
   "id": "a8f0354a",
   "metadata": {
    "ExecuteTime": {
     "end_time": "2023-03-19T14:36:51.245698Z",
     "start_time": "2023-03-19T14:36:48.347797Z"
    }
   },
   "outputs": [
    {
     "name": "stdout",
     "output_type": "stream",
     "text": [
      "1348\n",
      "21549\n"
     ]
    }
   ],
   "source": [
    "df_yeast1=pd.concat([\n",
    "    pd.read_csv('/data/2021_SJH_detectability/data_cross_species/raw/yeast/DelPBP1/test.csv'),\n",
    "    pd.read_csv('/data/2021_SJH_detectability/data_cross_species/raw/yeast/DelPBP1/train.csv')])\n",
    "\n",
    "df_yeast2=pd.concat([\n",
    "    pd.read_csv('/data/2021_SJH_detectability/data_cross_species/raw/yeast/KLife/test.csv'),\n",
    "    pd.read_csv('/data/2021_SJH_detectability/data_cross_species/raw/yeast/KLife/train.csv')])\n",
    "\n",
    "pep_yeast1=set(df_yeast1.peptide.unique())\n",
    "\n",
    "pep_yeast2=set(df_yeast2.peptide.unique())\n",
    "\n",
    "pep_yeast=pep_yeast1.union(pep_yeast2)\n",
    "\n",
    "print(len(pep_m.intersection(pep_yeast)))\n",
    "print(len(pep_hpp.intersection(pep_hpp)))"
   ]
  },
  {
   "cell_type": "code",
   "execution_count": null,
   "id": "bb88593e",
   "metadata": {},
   "outputs": [],
   "source": []
  }
 ],
 "metadata": {
  "kernelspec": {
   "display_name": "dbydeep",
   "language": "python",
   "name": "dbydeep"
  },
  "language_info": {
   "codemirror_mode": {
    "name": "ipython",
    "version": 3
   },
   "file_extension": ".py",
   "mimetype": "text/x-python",
   "name": "python",
   "nbconvert_exporter": "python",
   "pygments_lexer": "ipython3",
   "version": "3.8.13"
  }
 },
 "nbformat": 4,
 "nbformat_minor": 5
}
