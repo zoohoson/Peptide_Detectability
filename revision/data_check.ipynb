{
 "cells": [
  {
   "cell_type": "code",
   "execution_count": 6,
   "id": "b423ea6f",
   "metadata": {
    "ExecuteTime": {
     "end_time": "2023-03-24T10:01:32.985189Z",
     "start_time": "2023-03-24T10:01:31.812900Z"
    }
   },
   "outputs": [],
   "source": [
    "import pandas as pd\n",
    "df=pd.read_csv('/data/2021_SJH_detectability/diff_tool/M.musculus_EpH4[23]_msgf_Fdr1.tsv', sep='\\t')"
   ]
  },
  {
   "cell_type": "code",
   "execution_count": 7,
   "id": "ba301b6d",
   "metadata": {
    "ExecuteTime": {
     "end_time": "2023-03-24T10:01:46.398181Z",
     "start_time": "2023-03-24T10:01:44.995467Z"
    }
   },
   "outputs": [],
   "source": [
    "df2=pd.read_csv('/data/2021_SJH_detectability/diff_tool/S.cerevisiae_BY4741[23]_msgf_Fdr1.tsv', sep='\\t')"
   ]
  },
  {
   "cell_type": "code",
   "execution_count": 11,
   "id": "39014015",
   "metadata": {
    "ExecuteTime": {
     "end_time": "2023-03-24T10:02:17.336564Z",
     "start_time": "2023-03-24T10:02:17.252430Z"
    }
   },
   "outputs": [
    {
     "name": "stdout",
     "output_type": "stream",
     "text": [
      "283\n"
     ]
    }
   ],
   "source": [
    "m_set=set(df.Peptide.unique())\n",
    "s_set=set(df2.Peptide.unique())\n",
    "print(len(m_set.intersection(s_set)))"
   ]
  },
  {
   "cell_type": "code",
   "execution_count": 8,
   "id": "f695b9f0",
   "metadata": {
    "ExecuteTime": {
     "end_time": "2023-03-24T10:01:46.418548Z",
     "start_time": "2023-03-24T10:01:46.399884Z"
    }
   },
   "outputs": [
    {
     "data": {
      "text/html": [
       "<div>\n",
       "<style scoped>\n",
       "    .dataframe tbody tr th:only-of-type {\n",
       "        vertical-align: middle;\n",
       "    }\n",
       "\n",
       "    .dataframe tbody tr th {\n",
       "        vertical-align: top;\n",
       "    }\n",
       "\n",
       "    .dataframe thead th {\n",
       "        text-align: right;\n",
       "    }\n",
       "</style>\n",
       "<table border=\"1\" class=\"dataframe\">\n",
       "  <thead>\n",
       "    <tr style=\"text-align: right;\">\n",
       "      <th></th>\n",
       "      <th>#SpecFile</th>\n",
       "      <th>SpecID</th>\n",
       "      <th>ScanNum</th>\n",
       "      <th>FragMethod</th>\n",
       "      <th>Precursor</th>\n",
       "      <th>IsotopeError</th>\n",
       "      <th>PrecursorError(ppm)</th>\n",
       "      <th>Charge</th>\n",
       "      <th>Peptide</th>\n",
       "      <th>Protein</th>\n",
       "      <th>DeNovoScore</th>\n",
       "      <th>MSGFScore</th>\n",
       "      <th>SpecEValue</th>\n",
       "      <th>EValue</th>\n",
       "      <th>QValue</th>\n",
       "      <th>PepQValue</th>\n",
       "      <th>QValue.1</th>\n",
       "      <th>PepQValue.1</th>\n",
       "    </tr>\n",
       "  </thead>\n",
       "  <tbody>\n",
       "    <tr>\n",
       "      <th>0</th>\n",
       "      <td>20180907_QX1_JoMu_SA_Easy12-7_uPAC_500ng_Scere...</td>\n",
       "      <td>controllerType=0 controllerNumber=1 scan=172131</td>\n",
       "      <td>172131</td>\n",
       "      <td>HCD</td>\n",
       "      <td>1332.89470</td>\n",
       "      <td>0</td>\n",
       "      <td>0.732663</td>\n",
       "      <td>3</td>\n",
       "      <td>TMGVPLYNASNDQIGGDVYEEYPDDDTHFGDDDFGK</td>\n",
       "      <td>sp|P47103|CYP7_YEAST(pre=K,post=A)</td>\n",
       "      <td>288</td>\n",
       "      <td>283</td>\n",
       "      <td>1.865684e-44</td>\n",
       "      <td>1.072182e-37</td>\n",
       "      <td>0.000000</td>\n",
       "      <td>0.000000</td>\n",
       "      <td>0.000000</td>\n",
       "      <td>0.000000</td>\n",
       "    </tr>\n",
       "    <tr>\n",
       "      <th>1</th>\n",
       "      <td>20180907_QX1_JoMu_SA_Easy12-7_uPAC_500ng_Scere...</td>\n",
       "      <td>controllerType=0 controllerNumber=1 scan=129486</td>\n",
       "      <td>129486</td>\n",
       "      <td>HCD</td>\n",
       "      <td>1478.99840</td>\n",
       "      <td>0</td>\n",
       "      <td>0.907895</td>\n",
       "      <td>3</td>\n",
       "      <td>DNLTLWTSDMSESGQAEDQQQQQQHQQQQPPAAAEGEAPK</td>\n",
       "      <td>sp|P29311|BMH1_YEAST(pre=R,post=-)</td>\n",
       "      <td>296</td>\n",
       "      <td>281</td>\n",
       "      <td>2.496751e-42</td>\n",
       "      <td>1.436628e-35</td>\n",
       "      <td>0.000000</td>\n",
       "      <td>0.000000</td>\n",
       "      <td>0.000000</td>\n",
       "      <td>0.000000</td>\n",
       "    </tr>\n",
       "    <tr>\n",
       "      <th>2</th>\n",
       "      <td>20180907_QX1_JoMu_SA_Easy12-7_uPAC_500ng_Scere...</td>\n",
       "      <td>controllerType=0 controllerNumber=1 scan=109151</td>\n",
       "      <td>109151</td>\n",
       "      <td>HCD</td>\n",
       "      <td>1484.32960</td>\n",
       "      <td>0</td>\n",
       "      <td>0.575676</td>\n",
       "      <td>3</td>\n",
       "      <td>DNLTLWTSDM+15.995SESGQAEDQQQQQQHQQQQPPAAAEGEAPK</td>\n",
       "      <td>sp|P29311|BMH1_YEAST(pre=R,post=-)</td>\n",
       "      <td>312</td>\n",
       "      <td>291</td>\n",
       "      <td>3.669590e-42</td>\n",
       "      <td>2.111478e-35</td>\n",
       "      <td>0.000000</td>\n",
       "      <td>0.000000</td>\n",
       "      <td>0.000000</td>\n",
       "      <td>0.000000</td>\n",
       "    </tr>\n",
       "    <tr>\n",
       "      <th>3</th>\n",
       "      <td>20180907_QX1_JoMu_SA_Easy12-7_uPAC_500ng_Scere...</td>\n",
       "      <td>controllerType=0 controllerNumber=1 scan=131503</td>\n",
       "      <td>131503</td>\n",
       "      <td>HCD</td>\n",
       "      <td>1197.89070</td>\n",
       "      <td>0</td>\n",
       "      <td>0.917140</td>\n",
       "      <td>3</td>\n",
       "      <td>DVPMVDSHEATEEPPTTSTNTPSFPHLAQEQAK</td>\n",
       "      <td>sp|P43609|RSC8_YEAST(pre=K,post=E)</td>\n",
       "      <td>259</td>\n",
       "      <td>258</td>\n",
       "      <td>7.812284e-42</td>\n",
       "      <td>4.485042e-35</td>\n",
       "      <td>0.000000</td>\n",
       "      <td>0.000000</td>\n",
       "      <td>0.000000</td>\n",
       "      <td>0.000000</td>\n",
       "    </tr>\n",
       "    <tr>\n",
       "      <th>4</th>\n",
       "      <td>20180907_QX1_JoMu_SA_Easy12-7_uPAC_500ng_Scere...</td>\n",
       "      <td>controllerType=0 controllerNumber=1 scan=187736</td>\n",
       "      <td>187736</td>\n",
       "      <td>HCD</td>\n",
       "      <td>1233.60140</td>\n",
       "      <td>0</td>\n",
       "      <td>0.593727</td>\n",
       "      <td>3</td>\n",
       "      <td>GNVFTDYSTGSILFGEPATNAQHSFFQLVHQGTK</td>\n",
       "      <td>sp|P12709|G6PI_YEAST(pre=R,post=L)</td>\n",
       "      <td>258</td>\n",
       "      <td>254</td>\n",
       "      <td>9.156144e-42</td>\n",
       "      <td>5.258386e-35</td>\n",
       "      <td>0.000000</td>\n",
       "      <td>0.000000</td>\n",
       "      <td>0.000000</td>\n",
       "      <td>0.000000</td>\n",
       "    </tr>\n",
       "    <tr>\n",
       "      <th>...</th>\n",
       "      <td>...</td>\n",
       "      <td>...</td>\n",
       "      <td>...</td>\n",
       "      <td>...</td>\n",
       "      <td>...</td>\n",
       "      <td>...</td>\n",
       "      <td>...</td>\n",
       "      <td>...</td>\n",
       "      <td>...</td>\n",
       "      <td>...</td>\n",
       "      <td>...</td>\n",
       "      <td>...</td>\n",
       "      <td>...</td>\n",
       "      <td>...</td>\n",
       "      <td>...</td>\n",
       "      <td>...</td>\n",
       "      <td>...</td>\n",
       "      <td>...</td>\n",
       "    </tr>\n",
       "    <tr>\n",
       "      <th>353388</th>\n",
       "      <td>20180907_QX4_JoMu_SA_EASY12-7_uPAC_500ng_Scere...</td>\n",
       "      <td>controllerType=0 controllerNumber=1 scan=61255</td>\n",
       "      <td>61255</td>\n",
       "      <td>HCD</td>\n",
       "      <td>474.25333</td>\n",
       "      <td>0</td>\n",
       "      <td>1.608720</td>\n",
       "      <td>2</td>\n",
       "      <td>VTDGVMVAR</td>\n",
       "      <td>sp|P00549|KPYK1_YEAST(pre=K,post=G)</td>\n",
       "      <td>65</td>\n",
       "      <td>49</td>\n",
       "      <td>1.186026e-08</td>\n",
       "      <td>6.686701e-02</td>\n",
       "      <td>0.010889</td>\n",
       "      <td>0.000000</td>\n",
       "      <td>0.009995</td>\n",
       "      <td>0.000017</td>\n",
       "    </tr>\n",
       "    <tr>\n",
       "      <th>353389</th>\n",
       "      <td>20180907_QX4_JoMu_SA_EASY12-7_uPAC_500ng_Scere...</td>\n",
       "      <td>controllerType=0 controllerNumber=1 scan=111860</td>\n",
       "      <td>111860</td>\n",
       "      <td>HCD</td>\n",
       "      <td>708.68256</td>\n",
       "      <td>0</td>\n",
       "      <td>2.153125</td>\n",
       "      <td>3</td>\n",
       "      <td>SHLGM+15.995IAGGTGIAPM+15.995YQIM+15.995K</td>\n",
       "      <td>sp|P38626|NCB5R_YEAST(pre=R,post=A)</td>\n",
       "      <td>103</td>\n",
       "      <td>26</td>\n",
       "      <td>1.186069e-08</td>\n",
       "      <td>6.769160e-02</td>\n",
       "      <td>0.010889</td>\n",
       "      <td>0.021308</td>\n",
       "      <td>0.009995</td>\n",
       "      <td>0.009221</td>\n",
       "    </tr>\n",
       "    <tr>\n",
       "      <th>353390</th>\n",
       "      <td>20180907_QX4_JoMu_SA_EASY12-7_uPAC_500ng_Scere...</td>\n",
       "      <td>controllerType=0 controllerNumber=1 scan=36909</td>\n",
       "      <td>36909</td>\n",
       "      <td>HCD</td>\n",
       "      <td>473.27438</td>\n",
       "      <td>0</td>\n",
       "      <td>5.416500</td>\n",
       "      <td>2</td>\n",
       "      <td>STIVNGNLK</td>\n",
       "      <td>sp|Q06211|MMS1_YEAST(pre=R,post=F)</td>\n",
       "      <td>67</td>\n",
       "      <td>47</td>\n",
       "      <td>1.186316e-08</td>\n",
       "      <td>6.688339e-02</td>\n",
       "      <td>0.010889</td>\n",
       "      <td>0.021308</td>\n",
       "      <td>0.009995</td>\n",
       "      <td>0.032188</td>\n",
       "    </tr>\n",
       "    <tr>\n",
       "      <th>353391</th>\n",
       "      <td>20180907_QX4_JoMu_SA_EASY12-7_uPAC_500ng_Scere...</td>\n",
       "      <td>controllerType=0 controllerNumber=1 scan=191623</td>\n",
       "      <td>191623</td>\n",
       "      <td>HCD</td>\n",
       "      <td>946.46530</td>\n",
       "      <td>0</td>\n",
       "      <td>-12.897328</td>\n",
       "      <td>2</td>\n",
       "      <td>EEGIGSFYSGFTPILFK</td>\n",
       "      <td>sp|P23641|MPCP_YEAST(pre=K,post=Q)</td>\n",
       "      <td>85</td>\n",
       "      <td>26</td>\n",
       "      <td>1.186491e-08</td>\n",
       "      <td>6.757432e-02</td>\n",
       "      <td>0.010889</td>\n",
       "      <td>0.000000</td>\n",
       "      <td>0.009997</td>\n",
       "      <td>0.000000</td>\n",
       "    </tr>\n",
       "    <tr>\n",
       "      <th>353392</th>\n",
       "      <td>20180907_QX4_JoMu_SA_EASY12-7_uPAC_500ng_Scere...</td>\n",
       "      <td>controllerType=0 controllerNumber=1 scan=39378</td>\n",
       "      <td>39378</td>\n",
       "      <td>HCD</td>\n",
       "      <td>646.34760</td>\n",
       "      <td>2</td>\n",
       "      <td>-11.629659</td>\n",
       "      <td>2</td>\n",
       "      <td>YVYLFAIC+57.021IK</td>\n",
       "      <td>sp|Q04746|KAR5_YEAST(pre=R,post=F)</td>\n",
       "      <td>64</td>\n",
       "      <td>30</td>\n",
       "      <td>1.186541e-08</td>\n",
       "      <td>6.703073e-02</td>\n",
       "      <td>0.010889</td>\n",
       "      <td>0.021308</td>\n",
       "      <td>0.009997</td>\n",
       "      <td>0.032198</td>\n",
       "    </tr>\n",
       "  </tbody>\n",
       "</table>\n",
       "<p>353393 rows × 18 columns</p>\n",
       "</div>"
      ],
      "text/plain": [
       "                                                #SpecFile  \\\n",
       "0       20180907_QX1_JoMu_SA_Easy12-7_uPAC_500ng_Scere...   \n",
       "1       20180907_QX1_JoMu_SA_Easy12-7_uPAC_500ng_Scere...   \n",
       "2       20180907_QX1_JoMu_SA_Easy12-7_uPAC_500ng_Scere...   \n",
       "3       20180907_QX1_JoMu_SA_Easy12-7_uPAC_500ng_Scere...   \n",
       "4       20180907_QX1_JoMu_SA_Easy12-7_uPAC_500ng_Scere...   \n",
       "...                                                   ...   \n",
       "353388  20180907_QX4_JoMu_SA_EASY12-7_uPAC_500ng_Scere...   \n",
       "353389  20180907_QX4_JoMu_SA_EASY12-7_uPAC_500ng_Scere...   \n",
       "353390  20180907_QX4_JoMu_SA_EASY12-7_uPAC_500ng_Scere...   \n",
       "353391  20180907_QX4_JoMu_SA_EASY12-7_uPAC_500ng_Scere...   \n",
       "353392  20180907_QX4_JoMu_SA_EASY12-7_uPAC_500ng_Scere...   \n",
       "\n",
       "                                                 SpecID  ScanNum FragMethod  \\\n",
       "0       controllerType=0 controllerNumber=1 scan=172131   172131        HCD   \n",
       "1       controllerType=0 controllerNumber=1 scan=129486   129486        HCD   \n",
       "2       controllerType=0 controllerNumber=1 scan=109151   109151        HCD   \n",
       "3       controllerType=0 controllerNumber=1 scan=131503   131503        HCD   \n",
       "4       controllerType=0 controllerNumber=1 scan=187736   187736        HCD   \n",
       "...                                                 ...      ...        ...   \n",
       "353388   controllerType=0 controllerNumber=1 scan=61255    61255        HCD   \n",
       "353389  controllerType=0 controllerNumber=1 scan=111860   111860        HCD   \n",
       "353390   controllerType=0 controllerNumber=1 scan=36909    36909        HCD   \n",
       "353391  controllerType=0 controllerNumber=1 scan=191623   191623        HCD   \n",
       "353392   controllerType=0 controllerNumber=1 scan=39378    39378        HCD   \n",
       "\n",
       "         Precursor  IsotopeError  PrecursorError(ppm)  Charge  \\\n",
       "0       1332.89470             0             0.732663       3   \n",
       "1       1478.99840             0             0.907895       3   \n",
       "2       1484.32960             0             0.575676       3   \n",
       "3       1197.89070             0             0.917140       3   \n",
       "4       1233.60140             0             0.593727       3   \n",
       "...            ...           ...                  ...     ...   \n",
       "353388   474.25333             0             1.608720       2   \n",
       "353389   708.68256             0             2.153125       3   \n",
       "353390   473.27438             0             5.416500       2   \n",
       "353391   946.46530             0           -12.897328       2   \n",
       "353392   646.34760             2           -11.629659       2   \n",
       "\n",
       "                                                Peptide  \\\n",
       "0                  TMGVPLYNASNDQIGGDVYEEYPDDDTHFGDDDFGK   \n",
       "1              DNLTLWTSDMSESGQAEDQQQQQQHQQQQPPAAAEGEAPK   \n",
       "2       DNLTLWTSDM+15.995SESGQAEDQQQQQQHQQQQPPAAAEGEAPK   \n",
       "3                     DVPMVDSHEATEEPPTTSTNTPSFPHLAQEQAK   \n",
       "4                    GNVFTDYSTGSILFGEPATNAQHSFFQLVHQGTK   \n",
       "...                                                 ...   \n",
       "353388                                        VTDGVMVAR   \n",
       "353389        SHLGM+15.995IAGGTGIAPM+15.995YQIM+15.995K   \n",
       "353390                                        STIVNGNLK   \n",
       "353391                                EEGIGSFYSGFTPILFK   \n",
       "353392                                YVYLFAIC+57.021IK   \n",
       "\n",
       "                                    Protein  DeNovoScore  MSGFScore  \\\n",
       "0        sp|P47103|CYP7_YEAST(pre=K,post=A)          288        283   \n",
       "1        sp|P29311|BMH1_YEAST(pre=R,post=-)          296        281   \n",
       "2        sp|P29311|BMH1_YEAST(pre=R,post=-)          312        291   \n",
       "3        sp|P43609|RSC8_YEAST(pre=K,post=E)          259        258   \n",
       "4        sp|P12709|G6PI_YEAST(pre=R,post=L)          258        254   \n",
       "...                                     ...          ...        ...   \n",
       "353388  sp|P00549|KPYK1_YEAST(pre=K,post=G)           65         49   \n",
       "353389  sp|P38626|NCB5R_YEAST(pre=R,post=A)          103         26   \n",
       "353390   sp|Q06211|MMS1_YEAST(pre=R,post=F)           67         47   \n",
       "353391   sp|P23641|MPCP_YEAST(pre=K,post=Q)           85         26   \n",
       "353392   sp|Q04746|KAR5_YEAST(pre=R,post=F)           64         30   \n",
       "\n",
       "          SpecEValue        EValue    QValue  PepQValue  QValue.1  PepQValue.1  \n",
       "0       1.865684e-44  1.072182e-37  0.000000   0.000000  0.000000     0.000000  \n",
       "1       2.496751e-42  1.436628e-35  0.000000   0.000000  0.000000     0.000000  \n",
       "2       3.669590e-42  2.111478e-35  0.000000   0.000000  0.000000     0.000000  \n",
       "3       7.812284e-42  4.485042e-35  0.000000   0.000000  0.000000     0.000000  \n",
       "4       9.156144e-42  5.258386e-35  0.000000   0.000000  0.000000     0.000000  \n",
       "...              ...           ...       ...        ...       ...          ...  \n",
       "353388  1.186026e-08  6.686701e-02  0.010889   0.000000  0.009995     0.000017  \n",
       "353389  1.186069e-08  6.769160e-02  0.010889   0.021308  0.009995     0.009221  \n",
       "353390  1.186316e-08  6.688339e-02  0.010889   0.021308  0.009995     0.032188  \n",
       "353391  1.186491e-08  6.757432e-02  0.010889   0.000000  0.009997     0.000000  \n",
       "353392  1.186541e-08  6.703073e-02  0.010889   0.021308  0.009997     0.032198  \n",
       "\n",
       "[353393 rows x 18 columns]"
      ]
     },
     "execution_count": 8,
     "metadata": {},
     "output_type": "execute_result"
    }
   ],
   "source": [
    "df2"
   ]
  },
  {
   "cell_type": "code",
   "execution_count": 43,
   "id": "e9b97300",
   "metadata": {
    "ExecuteTime": {
     "end_time": "2023-03-29T16:42:11.027380Z",
     "start_time": "2023-03-29T16:42:09.292997Z"
    }
   },
   "outputs": [],
   "source": [
    "df=pd.concat([\n",
    "    pd.read_csv('/data/2021_SJH_detectability/data_human/train.csv'),\n",
    "    pd.read_csv('/data/2021_SJH_detectability/data_human/test.csv')\n",
    "])"
   ]
  },
  {
   "cell_type": "code",
   "execution_count": 44,
   "id": "04975b69",
   "metadata": {
    "ExecuteTime": {
     "end_time": "2023-03-29T16:42:11.171805Z",
     "start_time": "2023-03-29T16:42:11.029287Z"
    },
    "scrolled": true
   },
   "outputs": [
    {
     "name": "stdout",
     "output_type": "stream",
     "text": [
      "(840698, 6)\n",
      "831543\n"
     ]
    }
   ],
   "source": [
    "print(df.shape)\n",
    "print(len(df.peptide.unique()))"
   ]
  },
  {
   "cell_type": "code",
   "execution_count": 45,
   "id": "36e858f5",
   "metadata": {
    "ExecuteTime": {
     "end_time": "2023-03-29T16:42:11.287456Z",
     "start_time": "2023-03-29T16:42:11.173278Z"
    }
   },
   "outputs": [
    {
     "name": "stdout",
     "output_type": "stream",
     "text": [
      "(426192, 6)\n",
      "423340\n"
     ]
    }
   ],
   "source": [
    "df_true=df.loc[df.label==False]\n",
    "print(df_true.shape)\n",
    "print(len(df_true.peptide.unique()))"
   ]
  },
  {
   "cell_type": "code",
   "execution_count": 46,
   "id": "47fa6578",
   "metadata": {
    "ExecuteTime": {
     "end_time": "2023-03-29T16:42:11.403294Z",
     "start_time": "2023-03-29T16:42:11.289308Z"
    }
   },
   "outputs": [
    {
     "name": "stdout",
     "output_type": "stream",
     "text": [
      "(414506, 6)\n",
      "408207\n"
     ]
    }
   ],
   "source": [
    "df_true=df.loc[df.label==True]\n",
    "print(df_true.shape)\n",
    "print(len(df_true.peptide.unique()))"
   ]
  },
  {
   "cell_type": "code",
   "execution_count": 18,
   "id": "da166099",
   "metadata": {
    "ExecuteTime": {
     "end_time": "2023-03-29T16:31:03.172891Z",
     "start_time": "2023-03-29T16:31:03.170122Z"
    }
   },
   "outputs": [],
   "source": [
    "from sklearn.model_selection import train_test_split"
   ]
  },
  {
   "cell_type": "code",
   "execution_count": 23,
   "id": "04b163ac",
   "metadata": {
    "ExecuteTime": {
     "end_time": "2023-03-29T16:31:58.498430Z",
     "start_time": "2023-03-29T16:31:56.288692Z"
    }
   },
   "outputs": [],
   "source": [
    "train=pd.read_csv('/data/2021_SJH_detectability/data_human/train.csv')\n",
    "train, val = train_test_split(train, test_size=0.2, random_state=7)\n",
    "test=pd.read_csv('/data/2021_SJH_detectability/data_human/test.csv')"
   ]
  },
  {
   "cell_type": "code",
   "execution_count": 21,
   "id": "0160ae31",
   "metadata": {
    "ExecuteTime": {
     "end_time": "2023-03-29T16:31:28.491064Z",
     "start_time": "2023-03-29T16:31:28.388590Z"
    }
   },
   "outputs": [
    {
     "name": "stdout",
     "output_type": "stream",
     "text": [
      "(264362, 6)\n",
      "260702\n"
     ]
    }
   ],
   "source": [
    "df_true=train.loc[train.label==True]\n",
    "print(df_true.shape)\n",
    "print(len(df_true.peptide.unique()))"
   ]
  },
  {
   "cell_type": "code",
   "execution_count": 22,
   "id": "188d237d",
   "metadata": {
    "ExecuteTime": {
     "end_time": "2023-03-29T16:31:38.465737Z",
     "start_time": "2023-03-29T16:31:38.423153Z"
    }
   },
   "outputs": [
    {
     "name": "stdout",
     "output_type": "stream",
     "text": [
      "(65933, 6)\n",
      "65665\n"
     ]
    }
   ],
   "source": [
    "df_true=val.loc[val.label==True]\n",
    "print(df_true.shape)\n",
    "print(len(df_true.peptide.unique()))"
   ]
  },
  {
   "cell_type": "code",
   "execution_count": 29,
   "id": "93a11f52",
   "metadata": {
    "ExecuteTime": {
     "end_time": "2023-03-29T16:33:45.568209Z",
     "start_time": "2023-03-29T16:33:44.155827Z"
    }
   },
   "outputs": [
    {
     "name": "stdout",
     "output_type": "stream",
     "text": [
      "(669992, 6)\n",
      "(330295, 6)\n",
      "324749\n"
     ]
    }
   ],
   "source": [
    "train=pd.read_csv('/data/2021_SJH_detectability/data_human/train.csv')\n",
    "print(train.shape)\n",
    "df_true=train.loc[train.label==True]\n",
    "print(df_true.shape)\n",
    "print(len(df_true.peptide.unique()))"
   ]
  },
  {
   "cell_type": "code",
   "execution_count": 24,
   "id": "435cac0c",
   "metadata": {
    "ExecuteTime": {
     "end_time": "2023-03-29T16:32:04.827938Z",
     "start_time": "2023-03-29T16:32:04.790877Z"
    }
   },
   "outputs": [
    {
     "name": "stdout",
     "output_type": "stream",
     "text": [
      "(84211, 6)\n",
      "83458\n"
     ]
    }
   ],
   "source": [
    "df_true=test.loc[test.label==True]\n",
    "print(df_true.shape)\n",
    "print(len(df_true.peptide.unique()))"
   ]
  },
  {
   "cell_type": "code",
   "execution_count": 27,
   "id": "d281eba0",
   "metadata": {
    "ExecuteTime": {
     "end_time": "2023-03-29T16:32:49.816569Z",
     "start_time": "2023-03-29T16:32:49.812881Z"
    }
   },
   "outputs": [
    {
     "data": {
      "text/plain": [
       "326367"
      ]
     },
     "execution_count": 27,
     "metadata": {},
     "output_type": "execute_result"
    }
   ],
   "source": [
    "260702+65665"
   ]
  },
  {
   "cell_type": "code",
   "execution_count": 28,
   "id": "8ba72295",
   "metadata": {
    "ExecuteTime": {
     "end_time": "2023-03-29T16:33:05.458507Z",
     "start_time": "2023-03-29T16:33:05.455116Z"
    }
   },
   "outputs": [
    {
     "data": {
      "text/plain": [
       "408207"
      ]
     },
     "execution_count": 28,
     "metadata": {},
     "output_type": "execute_result"
    }
   ],
   "source": [
    "324749+83458"
   ]
  },
  {
   "cell_type": "code",
   "execution_count": 30,
   "id": "452fd53c",
   "metadata": {
    "ExecuteTime": {
     "end_time": "2023-03-29T16:35:48.230226Z",
     "start_time": "2023-03-29T16:35:48.226353Z"
    }
   },
   "outputs": [
    {
     "data": {
      "text/plain": [
       "268246.0"
      ]
     },
     "execution_count": 30,
     "metadata": {},
     "output_type": "execute_result"
    }
   ],
   "source": [
    "536492/2"
   ]
  },
  {
   "cell_type": "code",
   "execution_count": 31,
   "id": "a3311e48",
   "metadata": {
    "ExecuteTime": {
     "end_time": "2023-03-29T16:35:52.545957Z",
     "start_time": "2023-03-29T16:35:52.543053Z"
    }
   },
   "outputs": [
    {
     "data": {
      "text/plain": [
       "67062.0"
      ]
     },
     "execution_count": 31,
     "metadata": {},
     "output_type": "execute_result"
    }
   ],
   "source": [
    "134124/2"
   ]
  },
  {
   "cell_type": "code",
   "execution_count": 32,
   "id": "06b34010",
   "metadata": {
    "ExecuteTime": {
     "end_time": "2023-03-29T16:35:58.703515Z",
     "start_time": "2023-03-29T16:35:58.700787Z"
    }
   },
   "outputs": [
    {
     "data": {
      "text/plain": [
       "335308.0"
      ]
     },
     "execution_count": 32,
     "metadata": {},
     "output_type": "execute_result"
    }
   ],
   "source": [
    "268246.0+67062.0"
   ]
  },
  {
   "cell_type": "code",
   "execution_count": null,
   "id": "dfe63cdb",
   "metadata": {},
   "outputs": [],
   "source": []
  }
 ],
 "metadata": {
  "kernelspec": {
   "display_name": "dbydeep",
   "language": "python",
   "name": "dbydeep"
  },
  "language_info": {
   "codemirror_mode": {
    "name": "ipython",
    "version": 3
   },
   "file_extension": ".py",
   "mimetype": "text/x-python",
   "name": "python",
   "nbconvert_exporter": "python",
   "pygments_lexer": "ipython3",
   "version": "3.8.13"
  }
 },
 "nbformat": 4,
 "nbformat_minor": 5
}
