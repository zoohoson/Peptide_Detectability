{
 "cells": [
  {
   "cell_type": "code",
   "execution_count": 1,
   "id": "041a6739",
   "metadata": {
    "ExecuteTime": {
     "end_time": "2023-03-19T15:08:02.959960Z",
     "start_time": "2023-03-19T15:08:00.730616Z"
    }
   },
   "outputs": [
    {
     "name": "stdout",
     "output_type": "stream",
     "text": [
      "WARNING:tensorflow:From /home/bis/2021_SJH_detectability/DbyDeep/RefModel/model_DeepMSpeptide.py:14: The name tf.enable_eager_execution is deprecated. Please use tf.compat.v1.enable_eager_execution instead.\n",
      "\n"
     ]
    }
   ],
   "source": [
    "import os\n",
    "os.environ[\"CUDA_VISIBLE_DEVICES\"]='2'\n",
    "\n",
    "import warnings\n",
    "warnings.simplefilter(action='ignore', category=FutureWarning)\n",
    "\n",
    "import pandas as pd\n",
    "import numpy as np\n",
    "import tensorflow as tf\n",
    "from tensorflow import keras\n",
    "\n",
    "import matplotlib.pyplot as plt\n",
    "import seaborn as sns\n",
    "\n",
    "from sklearn.metrics import roc_curve, roc_auc_score, classification_report, confusion_matrix, accuracy_score\n",
    "\n",
    "import sys\n",
    "sys.path.append('/home/bis/2021_SJH_detectability/DbyDeep')\n",
    "from RefModel.model_DeepMSpeptide import load_pep_and_codify"
   ]
  },
  {
   "cell_type": "code",
   "execution_count": 2,
   "id": "5c37f788",
   "metadata": {
    "ExecuteTime": {
     "end_time": "2023-03-19T15:08:04.265893Z",
     "start_time": "2023-03-19T15:08:02.962174Z"
    }
   },
   "outputs": [
    {
     "name": "stdout",
     "output_type": "stream",
     "text": [
      "Loading model...\n",
      "WARNING:tensorflow:From /home/bis/miniconda3/envs/TF1.14/lib/python3.6/site-packages/tensorflow/python/ops/math_grad.py:1250: add_dispatch_support.<locals>.wrapper (from tensorflow.python.ops.array_ops) is deprecated and will be removed in a future version.\n",
      "Instructions for updating:\n",
      "Use tf.where in 2.0, which has the same broadcast rule as np.where\n"
     ]
    }
   ],
   "source": [
    "print('Loading model...')\n",
    "model_2_1D = keras.models.load_model('/home/bis/2021_SJH_detectability/DbyDeep/log/model_DeepMspeptide.h5')\n",
    "# retrained"
   ]
  },
  {
   "cell_type": "code",
   "execution_count": 3,
   "id": "e0991b6d",
   "metadata": {
    "ExecuteTime": {
     "end_time": "2023-03-19T15:08:06.350879Z",
     "start_time": "2023-03-19T15:08:04.267980Z"
    }
   },
   "outputs": [],
   "source": [
    "df_massive=pd.read_csv('/data/2021_SJH_detectability/data_human/train.csv')\n",
    "df_merge=pd.DataFrame(df_massive.peptide.unique(), columns=['peptide'])\n",
    "df_merge['Drop']=True\n",
    "df_hpp=pd.read_csv('/data/2021_SJH_detectability/data_human/HPP.csv')"
   ]
  },
  {
   "cell_type": "markdown",
   "id": "a16fd587",
   "metadata": {},
   "source": [
    "# Cross species : Mouse"
   ]
  },
  {
   "cell_type": "code",
   "execution_count": 4,
   "id": "6e13c650",
   "metadata": {
    "ExecuteTime": {
     "end_time": "2023-03-19T15:14:23.926766Z",
     "start_time": "2023-03-19T15:08:31.373879Z"
    }
   },
   "outputs": [
    {
     "name": "stdout",
     "output_type": "stream",
     "text": [
      "Loading input peptides\n",
      "Succesfully loaded 1255210 peptides and skipped 0\n",
      "1255210/1255210 [==============================] - 166s 132us/sample - loss: 0.6731 - acc: 0.6861 - binary_crossentropy: 0.6731\n",
      "Test Accuracy: [0.6731028228758619, 0.6860804, 0.6731021]\n",
      "Test AUC : 0.905758824626766\n",
      "              precision    recall  f1-score   support\n",
      "\n",
      "       False     0.9970    0.6741    0.8043   1201513\n",
      "        True     0.1157    0.9543    0.2064     53697\n",
      "\n",
      "    accuracy                         0.6861   1255210\n",
      "   macro avg     0.5563    0.8142    0.5054   1255210\n",
      "weighted avg     0.9593    0.6861    0.7788   1255210\n",
      "\n"
     ]
    },
    {
     "data": {
      "image/png": "[encoded data removed]",
      "text/plain": [
       "<Figure size 288x288 with 1 Axes>"
      ]
     },
     "metadata": {
      "needs_background": "light"
     },
     "output_type": "display_data"
    },
    {
     "data": {
      "image/png": "[encoded data removed]",
      "text/plain": [
       "<Figure size 216x216 with 2 Axes>"
      ]
     },
     "metadata": {
      "needs_background": "light"
     },
     "output_type": "display_data"
    }
   ],
   "source": [
    "df_test = pd.read_csv('/data/2021_SJH_detectability/diff_tool/mouse_eph4/data.csv')\n",
    "df_test=df_test.merge(df_merge, how='left')\n",
    "df_test.Drop.fillna(False, inplace=True)\n",
    "idxes=df_test.loc[df_test.Drop==True].index\n",
    "df_test=df_test.drop(idxes, axis=0).reset_index(drop=True)\n",
    "df_test=df_test.drop(['Drop'],axis=1)\n",
    "df_test=df_test[['peptide', 'label']]#.drop_duplicates()\n",
    "\n",
    "df_test = df_test[df_test.peptide.apply(lambda x: 'B' not in x)].reset_index(drop=True)\n",
    "df_test = df_test[df_test.peptide.apply(lambda x: 'Z' not in x)].reset_index(drop=True)\n",
    "\n",
    "print('Loading input peptides')\n",
    "file = df_test.peptide.values\n",
    "X_test, skipped,  lines = load_pep_and_codify(file, 81)\n",
    "y_test = df_test.label.values\n",
    "print('Succesfully loaded {0} peptides and skipped {1}'.format(len(lines), str(skipped)))\n",
    "\n",
    "probs = model_2_1D.predict(X_test)\n",
    "# probs = 1-probs\n",
    "y_pred = [1 if i>=0.5 else 0 for i in probs]\n",
    "acc = model_2_1D.evaluate(X_test, y_test)\n",
    "\n",
    "auc = roc_auc_score(y_test, probs)\n",
    "print('Test Accuracy: {}'.format(acc))\n",
    "print('Test AUC : {}'.format(auc))\n",
    "print(classification_report(y_test, y_pred, digits=4))\n",
    "\n",
    "plt.figure(figsize=(4, 4))\n",
    "fpr, tpr, threshold = roc_curve(y_test, probs)\n",
    "plt.plot(fpr, tpr, marker='.', label='AUC = {:.4f}'.format(auc), color='orange')\n",
    "plt.title('ROC curve')\n",
    "plt.xlabel('False Positive Rate')\n",
    "plt.ylabel('True Positive Rate')\n",
    "plt.legend()\n",
    "plt.show()\n",
    "\n",
    "cf_matrix = confusion_matrix(y_test, y_pred)\n",
    "plt.figure(figsize=(3, 3))\n",
    "sns.heatmap(cf_matrix, annot=True, fmt=',.0f')\n",
    "plt.show()\n",
    "\n",
    "np.save('log/result_mouse_KLife_DeepMSpeptide_fpr_msgfplus.npy', fpr)\n",
    "np.save('log/result_mouse_KLife_DeepMSpeptide_tpr_msgfplus.npy', tpr)\n",
    "np.save('log/result_mouse_KLife_DeepMSpeptide_threshold_msgfplus.npy', threshold)\n",
    "np.save('log/result_mouse_KLife_DeepMSpeptide_prob_msgfplus.npy', probs)\n",
    "np.save('log/result_mouse_KLife_DeepMSpeptide_true_msgfplus.npy', y_test)"
   ]
  },
  {
   "cell_type": "code",
   "execution_count": 5,
   "id": "c8e385f3",
   "metadata": {
    "ExecuteTime": {
     "end_time": "2023-03-19T15:19:29.916456Z",
     "start_time": "2023-03-19T15:14:23.928762Z"
    }
   },
   "outputs": [
    {
     "name": "stdout",
     "output_type": "stream",
     "text": [
      "Loading input peptides\n",
      "Succesfully loaded 1139482 peptides and skipped 0\n",
      "1139482/1139482 [==============================] - 118s 104us/sample - loss: 0.6924 - acc: 0.6817 - binary_crossentropy: 0.6924\n",
      "Test Accuracy: [0.6923747959860428, 0.68165183, 0.69236887]\n",
      "Test AUC : 0.8759942743084141\n",
      "              precision    recall  f1-score   support\n",
      "\n",
      "       False     0.9950    0.6711    0.8015   1091666\n",
      "        True     0.1095    0.9234    0.1958     47816\n",
      "\n",
      "    accuracy                         0.6817   1139482\n",
      "   macro avg     0.5523    0.7972    0.4987   1139482\n",
      "weighted avg     0.9579    0.6817    0.7761   1139482\n",
      "\n"
     ]
    },
    {
     "data": {
      "image/png": "[encoded data removed]",
      "text/plain": [
       "<Figure size 288x288 with 1 Axes>"
      ]
     },
     "metadata": {
      "needs_background": "light"
     },
     "output_type": "display_data"
    },
    {
     "data": {
      "image/png": "[encoded data removed]",
      "text/plain": [
       "<Figure size 216x216 with 2 Axes>"
      ]
     },
     "metadata": {
      "needs_background": "light"
     },
     "output_type": "display_data"
    }
   ],
   "source": [
    "df_test = pd.read_csv('/data/2021_SJH_detectability/diff_tool/mouse_tmuscle/data.csv')\n",
    "df_test=df_test.merge(df_merge, how='left')\n",
    "df_test.Drop.fillna(False, inplace=True)\n",
    "idxes=df_test.loc[df_test.Drop==True].index\n",
    "df_test=df_test.drop(idxes, axis=0).reset_index(drop=True)\n",
    "df_test=df_test.drop(['Drop'],axis=1)\n",
    "df_test=df_test[['peptide', 'label']]#.drop_duplicates()\n",
    "\n",
    "df_test = df_test[df_test.peptide.apply(lambda x: 'B' not in x)].reset_index(drop=True)\n",
    "df_test = df_test[df_test.peptide.apply(lambda x: 'Z' not in x)].reset_index(drop=True)\n",
    "\n",
    "print('Loading input peptides')\n",
    "file = df_test.peptide.values\n",
    "X_test, skipped,  lines = load_pep_and_codify(file, 81)\n",
    "y_test = df_test.label.values\n",
    "print('Succesfully loaded {0} peptides and skipped {1}'.format(len(lines), str(skipped)))\n",
    "\n",
    "probs = model_2_1D.predict(X_test)\n",
    "# probs = 1-probs\n",
    "y_pred = [1 if i>=0.5 else 0 for i in probs]\n",
    "acc = model_2_1D.evaluate(X_test, y_test)\n",
    "\n",
    "auc = roc_auc_score(y_test, probs)\n",
    "print('Test Accuracy: {}'.format(acc))\n",
    "print('Test AUC : {}'.format(auc))\n",
    "print(classification_report(y_test, y_pred, digits=4))\n",
    "\n",
    "plt.figure(figsize=(4, 4))\n",
    "fpr, tpr, threshold = roc_curve(y_test, probs)\n",
    "plt.plot(fpr, tpr, marker='.', label='AUC = {:.4f}'.format(auc), color='orange')\n",
    "plt.title('ROC curve')\n",
    "plt.xlabel('False Positive Rate')\n",
    "plt.ylabel('True Positive Rate')\n",
    "plt.legend()\n",
    "plt.show()\n",
    "\n",
    "cf_matrix = confusion_matrix(y_test, y_pred)\n",
    "plt.figure(figsize=(3, 3))\n",
    "sns.heatmap(cf_matrix, annot=True, fmt=',.0f')\n",
    "plt.show()\n",
    "\n",
    "np.save('log/result_mouse_SkeletaMuscle_DeepMSpeptide_fpr_msgfplus.npy', fpr)\n",
    "np.save('log/result_mouse_SkeletaMuscle_DeepMSpeptide_tpr_msgfplus.npy', tpr)\n",
    "np.save('log/result_mouse_SkeletaMuscle_DeepMSpeptide_threshold_msgfplus.npy', threshold)\n",
    "np.save('log/result_mouse_SkeletaMuscle_DeepMSpeptide_prob_msgfplus.npy', probs)\n",
    "np.save('log/result_mouse_SkeletaMuscle_DeepMSpeptide_true_msgfplus.npy', y_test)"
   ]
  },
  {
   "cell_type": "markdown",
   "id": "3cd28dfc",
   "metadata": {},
   "source": [
    "# Cross species : Human"
   ]
  },
  {
   "cell_type": "code",
   "execution_count": 6,
   "id": "4c734f5e",
   "metadata": {
    "ExecuteTime": {
     "end_time": "2023-03-19T15:22:02.011511Z",
     "start_time": "2023-03-19T15:19:29.918686Z"
    }
   },
   "outputs": [
    {
     "name": "stdout",
     "output_type": "stream",
     "text": [
      "Loading input peptides\n",
      "Succesfully loaded 1295085 peptides and skipped 0\n",
      "Test AUC : 0.8814990152953899\n",
      "              precision    recall  f1-score   support\n",
      "\n",
      "       False     0.9948    0.7065    0.8262   1245379\n",
      "        True     0.1098    0.9075    0.1960     49706\n",
      "\n",
      "    accuracy                         0.7142   1295085\n",
      "   macro avg     0.5523    0.8070    0.5111   1295085\n",
      "weighted avg     0.9608    0.7142    0.8020   1295085\n",
      "\n"
     ]
    },
    {
     "data": {
      "image/png": "[encoded data removed]",
      "text/plain": [
       "<Figure size 288x288 with 1 Axes>"
      ]
     },
     "metadata": {
      "needs_background": "light"
     },
     "output_type": "display_data"
    },
    {
     "data": {
      "image/png": "[encoded data removed]",
      "text/plain": [
       "<Figure size 216x216 with 2 Axes>"
      ]
     },
     "metadata": {
      "needs_background": "light"
     },
     "output_type": "display_data"
    }
   ],
   "source": [
    "df_test = pd.read_csv('/data/2021_SJH_detectability/diff_tool/human_hek293/data.csv')\n",
    "df_test=df_test.merge(df_merge, how='left')\n",
    "df_test.Drop.fillna(False, inplace=True)\n",
    "idxes=df_test.loc[df_test.Drop==True].index\n",
    "df_test=df_test.drop(idxes, axis=0).reset_index(drop=True)\n",
    "df_test=df_test.drop(['Drop'],axis=1)\n",
    "df_test=df_test[['peptide', 'label']]#.drop_duplicates()\n",
    "\n",
    "print('Loading input peptides')\n",
    "file = df_test.peptide.values\n",
    "X_test, skipped,  lines = load_pep_and_codify(file, 81)\n",
    "y_test = df_test.label.values\n",
    "print('Succesfully loaded {0} peptides and skipped {1}'.format(len(lines), str(skipped)))\n",
    "\n",
    "probs = model_2_1D.predict(X_test)\n",
    "# probs = 1-probs\n",
    "y_pred = [1 if i >= 0.5 else 0 for i in probs]\n",
    "# acc = model_2_1D.evaluate(X_test, y_test)\n",
    "\n",
    "auc = roc_auc_score(y_test, probs)\n",
    "# print('Test Accuracy: {}'.format(acc))\n",
    "print('Test AUC : {}'.format(auc))\n",
    "print(classification_report(y_test, y_pred, digits=4))\n",
    "\n",
    "plt.figure(figsize=(4, 4))\n",
    "fpr, tpr, threshold = roc_curve(y_test, probs)\n",
    "plt.plot(fpr, tpr, marker='.', label='AUC = {:.4f}'.format(auc), color='orange')\n",
    "plt.title('ROC curve')\n",
    "plt.xlabel('False Positive Rate')\n",
    "plt.ylabel('True Positive Rate')\n",
    "plt.legend()\n",
    "plt.show()\n",
    "\n",
    "cf_matrix = confusion_matrix(y_test, y_pred)\n",
    "plt.figure(figsize=(3, 3))\n",
    "sns.heatmap(cf_matrix, annot=True, fmt=',.0f')\n",
    "plt.show()\n",
    "\n",
    "np.save('log/result_human_HEK293_DeepMSpeptide_fpr_msgfplus.npy', fpr)\n",
    "np.save('log/result_human_HEK293_DeepMSpeptide_tpr_msgfplus.npy', tpr)\n",
    "np.save('log/result_human_HEK293_DeepMSpeptide_threshold_msgfplus.npy', threshold)\n",
    "np.save('log/result_human_HEK293_DeepMSpeptide_prob_msgfplus.npy', probs)\n",
    "np.save('log/result_human_HEK293_DeepMSpeptide_true_msgfplus.npy', y_test)"
   ]
  },
  {
   "cell_type": "code",
   "execution_count": 7,
   "id": "182a4073",
   "metadata": {
    "ExecuteTime": {
     "end_time": "2023-03-19T15:23:36.585901Z",
     "start_time": "2023-03-19T15:22:02.013231Z"
    }
   },
   "outputs": [
    {
     "name": "stdout",
     "output_type": "stream",
     "text": [
      "Loading input peptides\n",
      "Succesfully loaded 760506 peptides and skipped 0\n",
      "Test AUC : 0.8784830484119946\n",
      "              precision    recall  f1-score   support\n",
      "\n",
      "       False     0.9959    0.7092    0.8285    742101\n",
      "        True     0.0700    0.8822    0.1297     18405\n",
      "\n",
      "    accuracy                         0.7134    760506\n",
      "   macro avg     0.5329    0.7957    0.4791    760506\n",
      "weighted avg     0.9735    0.7134    0.8116    760506\n",
      "\n"
     ]
    },
    {
     "data": {
      "image/png": "[encoded data removed]",
      "text/plain": [
       "<Figure size 288x288 with 1 Axes>"
      ]
     },
     "metadata": {
      "needs_background": "light"
     },
     "output_type": "display_data"
    },
    {
     "data": {
      "image/png": "[encoded data removed]",
      "text/plain": [
       "<Figure size 216x216 with 2 Axes>"
      ]
     },
     "metadata": {
      "needs_background": "light"
     },
     "output_type": "display_data"
    }
   ],
   "source": [
    "df_test = pd.read_csv('/data/2021_SJH_detectability/diff_tool/human_liver/data.csv')\n",
    "df_test=df_test.merge(df_merge, how='left')\n",
    "df_test.Drop.fillna(False, inplace=True)\n",
    "idxes=df_test.loc[df_test.Drop==True].index\n",
    "df_test=df_test.drop(idxes, axis=0).reset_index(drop=True)\n",
    "df_test=df_test.drop(['Drop'],axis=1)\n",
    "df_test=df_test[['peptide', 'label']]#.drop_duplicates()\n",
    "\n",
    "print('Loading input peptides')\n",
    "file = df_test.peptide.values\n",
    "X_test, skipped,  lines = load_pep_and_codify(file, 81)\n",
    "y_test = df_test.label.values\n",
    "print('Succesfully loaded {0} peptides and skipped {1}'.format(len(lines), str(skipped)))\n",
    "\n",
    "probs = model_2_1D.predict(X_test)\n",
    "# probs = 1-probs\n",
    "y_pred = [1 if i >= 0.5 else 0 for i in probs]\n",
    "# acc = model_2_1D.evaluate(X_test, y_test)\n",
    "\n",
    "auc = roc_auc_score(y_test, probs)\n",
    "# print('Test Accuracy: {}'.format(acc))\n",
    "print('Test AUC : {}'.format(auc))\n",
    "print(classification_report(y_test, y_pred, digits=4))\n",
    "\n",
    "plt.figure(figsize=(4, 4))\n",
    "fpr, tpr, threshold = roc_curve(y_test, probs)\n",
    "plt.plot(fpr, tpr, marker='.', label='AUC = {:.4f}'.format(auc), color='orange')\n",
    "plt.title('ROC curve')\n",
    "plt.xlabel('False Positive Rate')\n",
    "plt.ylabel('True Positive Rate')\n",
    "plt.legend()\n",
    "plt.show()\n",
    "\n",
    "cf_matrix = confusion_matrix(y_test, y_pred)\n",
    "plt.figure(figsize=(3, 3))\n",
    "sns.heatmap(cf_matrix, annot=True, fmt=',.0f')\n",
    "plt.show()\n",
    "\n",
    "np.save('log/result_human_HmapLiver_DeepMSpeptide_fpr_msgfplus.npy', fpr)\n",
    "np.save('log/result_human_HmapLiver_DeepMSpeptide_tpr_msgfplus.npy', tpr)\n",
    "np.save('log/result_human_HmapLiver_DeepMSpeptide_threshold_msgfplus.npy', threshold)\n",
    "np.save('log/result_human_HmapLiver_DeepMSpeptide_prob_msgfplus.npy', probs)\n",
    "np.save('log/result_human_HmapLiver_DeepMSpeptide_true_msgfplus.npy', y_test)"
   ]
  },
  {
   "cell_type": "markdown",
   "id": "bcca8836",
   "metadata": {
    "ExecuteTime": {
     "end_time": "2022-10-31T07:39:43.417842Z",
     "start_time": "2022-10-31T07:39:43.415890Z"
    }
   },
   "source": [
    "# Yeast"
   ]
  },
  {
   "cell_type": "code",
   "execution_count": 8,
   "id": "aea3dc37",
   "metadata": {
    "ExecuteTime": {
     "end_time": "2023-03-19T15:26:04.296599Z",
     "start_time": "2023-03-19T15:23:36.587371Z"
    }
   },
   "outputs": [
    {
     "name": "stdout",
     "output_type": "stream",
     "text": [
      "Loading input peptides\n",
      "Succesfully loaded 640596 peptides and skipped 0\n",
      "640596/640596 [==============================] - 68s 106us/sample - loss: 0.5769 - acc: 0.7244 - binary_crossentropy: 0.5769\n",
      "Test Accuracy: [0.5769457892055649, 0.7244113, 0.57694685]\n",
      "Test AUC : 0.9094089934813756\n",
      "              precision    recall  f1-score   support\n",
      "\n",
      "       False     0.9868    0.6925    0.8139    557309\n",
      "        True     0.3131    0.9381    0.4695     83287\n",
      "\n",
      "    accuracy                         0.7244    640596\n",
      "   macro avg     0.6500    0.8153    0.6417    640596\n",
      "weighted avg     0.8992    0.7244    0.7691    640596\n",
      "\n"
     ]
    },
    {
     "data": {
      "image/png": "[encoded data removed]",
      "text/plain": [
       "<Figure size 288x288 with 1 Axes>"
      ]
     },
     "metadata": {
      "needs_background": "light"
     },
     "output_type": "display_data"
    },
    {
     "data": {
      "image/png": "[encoded data removed]",
      "text/plain": [
       "<Figure size 216x216 with 2 Axes>"
      ]
     },
     "metadata": {
      "needs_background": "light"
     },
     "output_type": "display_data"
    }
   ],
   "source": [
    "df_test = pd.read_csv('/data/2021_SJH_detectability/diff_tool/yeast_23/data.csv')\n",
    "df_test=df_test.merge(df_merge, how='left')\n",
    "df_test.Drop.fillna(False, inplace=True)\n",
    "idxes=df_test.loc[df_test.Drop==True].index\n",
    "df_test=df_test.drop(idxes, axis=0).reset_index(drop=True)\n",
    "df_test=df_test.drop(['Drop'],axis=1)\n",
    "df_test=df_test[['peptide', 'label']]#.drop_duplicates()\n",
    "\n",
    "print('Loading input peptides')\n",
    "file = df_test.peptide.values\n",
    "X_test, skipped,  lines = load_pep_and_codify(file, 81)\n",
    "y_test = df_test.label.values\n",
    "print('Succesfully loaded {0} peptides and skipped {1}'.format(len(lines), str(skipped)))\n",
    "\n",
    "probs = model_2_1D.predict(X_test)\n",
    "# probs = 1-probs\n",
    "y_pred = [1 if i>=0.5 else 0 for i in probs]\n",
    "acc = model_2_1D.evaluate(X_test, y_test)\n",
    "\n",
    "auc = roc_auc_score(y_test, probs)\n",
    "print('Test Accuracy: {}'.format(acc))\n",
    "print('Test AUC : {}'.format(auc))\n",
    "print(classification_report(y_test, y_pred, digits=4))\n",
    "\n",
    "plt.figure(figsize=(4, 4))\n",
    "fpr, tpr, threshold = roc_curve(y_test, probs)\n",
    "plt.plot(fpr, tpr, marker='.', label='AUC = {:.4f}'.format(auc), color='orange')\n",
    "plt.title('ROC curve')\n",
    "plt.xlabel('False Positive Rate')\n",
    "plt.ylabel('True Positive Rate')\n",
    "plt.legend()\n",
    "plt.show()\n",
    "\n",
    "cf_matrix = confusion_matrix(y_test, y_pred)\n",
    "plt.figure(figsize=(3, 3))\n",
    "sns.heatmap(cf_matrix, annot=True, fmt=',.0f')\n",
    "plt.show()\n",
    "\n",
    "np.save('log/result_yeast_DelPBP1_DeepMSpeptide_fpr_msgfplus.npy', fpr)\n",
    "np.save('log/result_yeast_DelPBP1_DeepMSpeptide_tpr_msgfplus.npy', tpr)\n",
    "np.save('log/result_yeast_DelPBP1_DeepMSpeptide_threshold_msgfplus.npy', threshold)\n",
    "np.save('log/result_yeast_DelPBP1_DeepMSpeptide_prob_msgfplus.npy', probs)\n",
    "np.save('log/result_yeast_DelPBP1_DeepMSpeptide_true_msgfplus.npy', y_test)"
   ]
  },
  {
   "cell_type": "code",
   "execution_count": 9,
   "id": "4d3a0ad2",
   "metadata": {
    "ExecuteTime": {
     "end_time": "2023-03-19T15:28:18.788024Z",
     "start_time": "2023-03-19T15:26:04.298286Z"
    }
   },
   "outputs": [
    {
     "name": "stdout",
     "output_type": "stream",
     "text": [
      "Loading input peptides\n",
      "Succesfully loaded 588859 peptides and skipped 0\n",
      "588859/588859 [==============================] - 65s 110us/sample - loss: 0.7799 - acc: 0.6507 - binary_crossentropy: 0.7799\n",
      "Test Accuracy: [0.7798773717649385, 0.65070415, 0.7798773]\n",
      "Test AUC : 0.8234488086674785\n",
      "              precision    recall  f1-score   support\n",
      "\n",
      "       False     0.9873    0.6376    0.7748    554973\n",
      "        True     0.1273    0.8655    0.2219     33886\n",
      "\n",
      "    accuracy                         0.6507    588859\n",
      "   macro avg     0.5573    0.7516    0.4984    588859\n",
      "weighted avg     0.9378    0.6507    0.7430    588859\n",
      "\n"
     ]
    },
    {
     "data": {
      "image/png": "[encoded data removed]",
      "text/plain": [
       "<Figure size 288x288 with 1 Axes>"
      ]
     },
     "metadata": {
      "needs_background": "light"
     },
     "output_type": "display_data"
    },
    {
     "data": {
      "image/png": "[encoded data removed]",
      "text/plain": [
       "<Figure size 216x216 with 2 Axes>"
      ]
     },
     "metadata": {
      "needs_background": "light"
     },
     "output_type": "display_data"
    }
   ],
   "source": [
    "df_test = pd.read_csv('/data/2021_SJH_detectability/diff_tool/yeast_25/data.csv')\n",
    "df_test=df_test.merge(df_merge, how='left')\n",
    "df_test.Drop.fillna(False, inplace=True)\n",
    "idxes=df_test.loc[df_test.Drop==True].index\n",
    "df_test=df_test.drop(idxes, axis=0).reset_index(drop=True)\n",
    "df_test=df_test.drop(['Drop'],axis=1)\n",
    "df_test=df_test[['peptide', 'label']]#.drop_duplicates()\n",
    "\n",
    "print('Loading input peptides')\n",
    "file = df_test.peptide.values\n",
    "X_test, skipped,  lines = load_pep_and_codify(file, 81)\n",
    "y_test = df_test.label.values\n",
    "print('Succesfully loaded {0} peptides and skipped {1}'.format(len(lines), str(skipped)))\n",
    "\n",
    "probs = model_2_1D.predict(X_test)\n",
    "# probs = 1-probs\n",
    "y_pred = [1 if i>=0.5 else 0 for i in probs]\n",
    "acc = model_2_1D.evaluate(X_test, y_test)\n",
    "\n",
    "auc = roc_auc_score(y_test, probs)\n",
    "print('Test Accuracy: {}'.format(acc))\n",
    "print('Test AUC : {}'.format(auc))\n",
    "print(classification_report(y_test, y_pred, digits=4))\n",
    "\n",
    "plt.figure(figsize=(4, 4))\n",
    "fpr, tpr, threshold = roc_curve(y_test, probs)\n",
    "plt.plot(fpr, tpr, marker='.', label='AUC = {:.4f}'.format(auc), color='orange')\n",
    "plt.title('ROC curve')\n",
    "plt.xlabel('False Positive Rate')\n",
    "plt.ylabel('True Positive Rate')\n",
    "plt.legend()\n",
    "plt.show()\n",
    "\n",
    "cf_matrix = confusion_matrix(y_test, y_pred)\n",
    "plt.figure(figsize=(3, 3))\n",
    "sns.heatmap(cf_matrix, annot=True, fmt=',.0f')\n",
    "plt.show()\n",
    "\n",
    "np.save('log/result_yeast_KLife_DeepMSpeptide_fpr_msgfplus.npy', fpr)\n",
    "np.save('log/result_yeast_KLife_DeepMSpeptide_tpr_msgfplus.npy', tpr)\n",
    "np.save('log/result_yeast_KLife_DeepMSpeptide_threshold_msgfplus.npy', threshold)\n",
    "np.save('log/result_yeast_KLife_DeepMSpeptide_prob_msgfplus.npy', probs)\n",
    "np.save('log/result_yeast_KLife_DeepMSpeptide_true_msgfplus.npy', y_test)"
   ]
  },
  {
   "cell_type": "code",
   "execution_count": null,
   "id": "13963bc6",
   "metadata": {},
   "outputs": [],
   "source": []
  }
 ],
 "metadata": {
  "kernelspec": {
   "display_name": "TF1.14",
   "language": "python",
   "name": "tf1.14"
  },
  "language_info": {
   "codemirror_mode": {
    "name": "ipython",
    "version": 3
   },
   "file_extension": ".py",
   "mimetype": "text/x-python",
   "name": "python",
   "nbconvert_exporter": "python",
   "pygments_lexer": "ipython3",
   "version": "3.6.13"
  }
 },
 "nbformat": 4,
 "nbformat_minor": 5
}
