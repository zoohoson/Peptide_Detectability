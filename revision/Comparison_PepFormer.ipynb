{
 "cells": [
  {
   "cell_type": "code",
   "execution_count": 1,
   "id": "b068968d",
   "metadata": {
    "ExecuteTime": {
     "end_time": "2023-03-19T14:59:27.537906Z",
     "start_time": "2023-03-19T14:59:25.570221Z"
    }
   },
   "outputs": [],
   "source": [
    "import pandas as pd\n",
    "import numpy as np\n",
    "\n",
    "import torch\n",
    "import torch.nn as nn\n",
    "import torch.nn.functional as F\n",
    "import torchvision\n",
    "import torchvision.transforms as transforms\n",
    "import torch.utils.data as Data\n",
    "import torch.nn.utils.rnn as rnn_utils\n",
    "from torch.autograd import Variable\n",
    "\n",
    "device = torch.device(\"cuda\",0)\n",
    "\n",
    "import seaborn as sns\n",
    "import matplotlib.pyplot as plt\n",
    "from sklearn.metrics import classification_report, confusion_matrix, roc_curve, roc_auc_score, accuracy_score"
   ]
  },
  {
   "cell_type": "code",
   "execution_count": 2,
   "id": "600fd864",
   "metadata": {
    "ExecuteTime": {
     "end_time": "2023-03-19T14:59:27.554162Z",
     "start_time": "2023-03-19T14:59:27.540286Z"
    }
   },
   "outputs": [],
   "source": [
    "def pred(data_iter, net):\n",
    "    y_pred = []\n",
    "    for x, y in data_iter:\n",
    "        x,y=x.to(device),y.to(device)\n",
    "        outputs=net.trainModel(x)\n",
    "#         print(outputs.argmax(dim=1),\n",
    "#              outputs.argmax(dim=1)==y,\n",
    "#              (outputs.argmax(dim=1)==y).float(),\n",
    "#              (outputs.argmax(dim=1)==y).float().sum(),\n",
    "#              (outputs.argmax(dim=1)==y).float().sum().item())\n",
    "        for _ in outputs.argmax(dim=1):\n",
    "            y_pred.append(int(_))\n",
    "    return y_pred\n",
    "\n",
    "def pred_prob(data_iter, net):\n",
    "    y_pred = []\n",
    "    for x, y in data_iter:\n",
    "        x,y=x.to(device),y.to(device)\n",
    "        outputs=net.trainModel(x)\n",
    "        for _ in outputs:\n",
    "            y_pred.append(list(map(float, _)))\n",
    "    return y_pred\n",
    "\n",
    "class newModel(nn.Module):\n",
    "    def __init__(self, vocab_size=24):\n",
    "        super().__init__()\n",
    "        self.hidden_dim = 25\n",
    "        self.batch_size = 256\n",
    "        self.emb_dim = 512\n",
    "        \n",
    "        self.embedding = nn.Embedding(vocab_size, self.emb_dim, padding_idx=0)\n",
    "        self.encoder_layer = nn.TransformerEncoderLayer(d_model=512, nhead=8)\n",
    "        self.transformer_encoder = nn.TransformerEncoder(self.encoder_layer, num_layers=1)\n",
    "        \n",
    "        self.gru = nn.GRU(self.emb_dim, self.hidden_dim, num_layers=2, \n",
    "                               bidirectional=True, dropout=0.2)\n",
    "        \n",
    "        \n",
    "        self.block1=nn.Sequential(nn.Linear(4050,1024),\n",
    "                                            nn.BatchNorm1d(1024),\n",
    "                                            nn.LeakyReLU(),\n",
    "                                            nn.Linear(1024,256),\n",
    "                                 )\n",
    "\n",
    "        self.block2=nn.Sequential(\n",
    "                                               nn.BatchNorm1d(256),\n",
    "                                               nn.LeakyReLU(),\n",
    "                                               nn.Linear(256,128),\n",
    "                                               nn.BatchNorm1d(128),\n",
    "                                               nn.LeakyReLU(),\n",
    "                                               nn.Linear(128,64),\n",
    "                                               nn.BatchNorm1d(64),\n",
    "                                               nn.LeakyReLU(),\n",
    "                                               nn.Linear(64,2)\n",
    "                                            )\n",
    "        \n",
    "    def forward(self, x):\n",
    "        x=self.embedding(x)\n",
    "        output=self.transformer_encoder(x).permute(1, 0, 2)\n",
    "        output,hn=self.gru(output)\n",
    "        output=output.permute(1,0,2)\n",
    "        hn=hn.permute(1,0,2)\n",
    "        output=output.reshape(output.shape[0],-1)\n",
    "        hn=hn.reshape(output.shape[0],-1)\n",
    "        output=torch.cat([output,hn],1)\n",
    "        return self.block1(output)\n",
    "\n",
    "    def trainModel(self, x):\n",
    "        with torch.no_grad():\n",
    "            output=self.forward(x)\n",
    "        return self.block2(output)"
   ]
  },
  {
   "cell_type": "code",
   "execution_count": 3,
   "id": "f8550a95",
   "metadata": {
    "ExecuteTime": {
     "end_time": "2023-03-19T14:59:28.144604Z",
     "start_time": "2023-03-19T14:59:28.135558Z"
    }
   },
   "outputs": [],
   "source": [
    "import sys\n",
    "sys.path.append('/home/bis/2021_SJH_detectability/DbyDeep')\n",
    "from RefModel.model_PepFormer import newModel, evaluate_accuracy, genData"
   ]
  },
  {
   "cell_type": "code",
   "execution_count": 4,
   "id": "f9d662eb",
   "metadata": {
    "ExecuteTime": {
     "end_time": "2023-03-19T14:59:31.896869Z",
     "start_time": "2023-03-19T14:59:28.529943Z"
    },
    "scrolled": true
   },
   "outputs": [
    {
     "data": {
      "text/plain": [
       "newModel(\n",
       "  (embedding): Embedding(24, 512, padding_idx=0)\n",
       "  (encoder_layer): TransformerEncoderLayer(\n",
       "    (self_attn): MultiheadAttention(\n",
       "      (out_proj): _LinearWithBias(in_features=512, out_features=512, bias=True)\n",
       "    )\n",
       "    (linear1): Linear(in_features=512, out_features=2048, bias=True)\n",
       "    (dropout): Dropout(p=0.1, inplace=False)\n",
       "    (linear2): Linear(in_features=2048, out_features=512, bias=True)\n",
       "    (norm1): LayerNorm((512,), eps=1e-05, elementwise_affine=True)\n",
       "    (norm2): LayerNorm((512,), eps=1e-05, elementwise_affine=True)\n",
       "    (dropout1): Dropout(p=0.1, inplace=False)\n",
       "    (dropout2): Dropout(p=0.1, inplace=False)\n",
       "  )\n",
       "  (transformer_encoder): TransformerEncoder(\n",
       "    (layers): ModuleList(\n",
       "      (0): TransformerEncoderLayer(\n",
       "        (self_attn): MultiheadAttention(\n",
       "          (out_proj): _LinearWithBias(in_features=512, out_features=512, bias=True)\n",
       "        )\n",
       "        (linear1): Linear(in_features=512, out_features=2048, bias=True)\n",
       "        (dropout): Dropout(p=0.1, inplace=False)\n",
       "        (linear2): Linear(in_features=2048, out_features=512, bias=True)\n",
       "        (norm1): LayerNorm((512,), eps=1e-05, elementwise_affine=True)\n",
       "        (norm2): LayerNorm((512,), eps=1e-05, elementwise_affine=True)\n",
       "        (dropout1): Dropout(p=0.1, inplace=False)\n",
       "        (dropout2): Dropout(p=0.1, inplace=False)\n",
       "      )\n",
       "    )\n",
       "  )\n",
       "  (gru): GRU(512, 25, num_layers=2, dropout=0.2, bidirectional=True)\n",
       "  (block1): Sequential(\n",
       "    (0): Linear(in_features=2100, out_features=1024, bias=True)\n",
       "    (1): BatchNorm1d(1024, eps=1e-05, momentum=0.1, affine=True, track_running_stats=True)\n",
       "    (2): LeakyReLU(negative_slope=0.01)\n",
       "    (3): Linear(in_features=1024, out_features=256, bias=True)\n",
       "  )\n",
       "  (block2): Sequential(\n",
       "    (0): BatchNorm1d(256, eps=1e-05, momentum=0.1, affine=True, track_running_stats=True)\n",
       "    (1): LeakyReLU(negative_slope=0.01)\n",
       "    (2): Linear(in_features=256, out_features=128, bias=True)\n",
       "    (3): BatchNorm1d(128, eps=1e-05, momentum=0.1, affine=True, track_running_stats=True)\n",
       "    (4): LeakyReLU(negative_slope=0.01)\n",
       "    (5): Linear(in_features=128, out_features=64, bias=True)\n",
       "    (6): BatchNorm1d(64, eps=1e-05, momentum=0.1, affine=True, track_running_stats=True)\n",
       "    (7): LeakyReLU(negative_slope=0.01)\n",
       "    (8): Linear(in_features=64, out_features=2, bias=True)\n",
       "  )\n",
       ")"
      ]
     },
     "execution_count": 4,
     "metadata": {},
     "output_type": "execute_result"
    }
   ],
   "source": [
    "net = newModel().to(device)  # retrained\n",
    "net.load_state_dict(torch.load(f'/home/bis/2021_SJH_detectability/DbyDeep/log/model_PepFormer.pl')['model'])\n",
    "net.eval()"
   ]
  },
  {
   "cell_type": "code",
   "execution_count": 5,
   "id": "58fd54ff",
   "metadata": {
    "ExecuteTime": {
     "end_time": "2023-03-19T14:59:31.904079Z",
     "start_time": "2023-03-19T14:59:31.899179Z"
    }
   },
   "outputs": [
    {
     "data": {
      "text/plain": [
       "8867506"
      ]
     },
     "execution_count": 5,
     "metadata": {},
     "output_type": "execute_result"
    }
   ],
   "source": [
    "def get_n_params(model):\n",
    "    pp=0\n",
    "    for p in list(model.parameters()):\n",
    "        nn=1\n",
    "        for s in list(p.size()):\n",
    "            nn = nn*s\n",
    "        pp += nn\n",
    "    return pp\n",
    "get_n_params(net)"
   ]
  },
  {
   "cell_type": "code",
   "execution_count": 6,
   "id": "e04df0ef",
   "metadata": {
    "ExecuteTime": {
     "end_time": "2023-03-19T15:00:49.742203Z",
     "start_time": "2023-03-19T15:00:47.962630Z"
    }
   },
   "outputs": [],
   "source": [
    "df_massive=pd.read_csv('/data/2021_SJH_detectability/data_human/train.csv')\n",
    "df_merge=pd.DataFrame(df_massive.peptide.unique(), columns=['peptide'])\n",
    "df_merge['Drop']=True\n",
    "df_hpp=pd.read_csv('/data/2021_SJH_detectability/data_human/HPP.csv')"
   ]
  },
  {
   "cell_type": "markdown",
   "id": "b2d4c190",
   "metadata": {},
   "source": [
    "# Cross species : Mouse"
   ]
  },
  {
   "cell_type": "code",
   "execution_count": 7,
   "id": "39172757",
   "metadata": {
    "ExecuteTime": {
     "end_time": "2023-03-19T15:04:50.445184Z",
     "start_time": "2023-03-19T15:00:53.222884Z"
    }
   },
   "outputs": [
    {
     "name": "stdout",
     "output_type": "stream",
     "text": [
      "length > 40: 0\n",
      "Test AUC : 0.9051168124382081\n",
      "              precision    recall  f1-score   support\n",
      "\n",
      "           0     0.9963    0.6713    0.8021   1248306\n",
      "           1     0.1046    0.9391    0.1882     51018\n",
      "\n",
      "    accuracy                         0.6818   1299324\n",
      "   macro avg     0.5504    0.8052    0.4951   1299324\n",
      "weighted avg     0.9613    0.6818    0.7780   1299324\n",
      "\n"
     ]
    },
    {
     "data": {
      "image/png": "[encoded data removed]",
      "text/plain": [
       "<Figure size 288x288 with 1 Axes>"
      ]
     },
     "metadata": {
      "needs_background": "light"
     },
     "output_type": "display_data"
    },
    {
     "data": {
      "image/png": "[encoded data removed]",
      "text/plain": [
       "<Figure size 216x216 with 2 Axes>"
      ]
     },
     "metadata": {
      "needs_background": "light"
     },
     "output_type": "display_data"
    }
   ],
   "source": [
    "tmp = pd.concat([\n",
    "    pd.read_csv('/data/2021_SJH_detectability/data_cross_species/raw/mouse/KLife/train.csv'),\n",
    "    pd.read_csv('/data/2021_SJH_detectability/data_cross_species/raw/mouse/KLife/test.csv'),\n",
    "])\n",
    "tmp=tmp.merge(df_merge, how='left')\n",
    "tmp.Drop.fillna(False, inplace=True)\n",
    "idxes=tmp.loc[tmp.Drop==True].index\n",
    "tmp=tmp.drop(idxes, axis=0).reset_index(drop=True)\n",
    "tmp=tmp.drop(['Drop'],axis=1)\n",
    "tmp=tmp[['peptide', 'label']]#.drop_duplicates()\n",
    "\n",
    "tmp = tmp[tmp.peptide.apply(lambda x: 'B' not in x)].reset_index(drop=True)\n",
    "tmp = tmp[tmp.peptide.apply(lambda x: 'Z' not in x)].reset_index(drop=True)\n",
    "\n",
    "tmp['label'] = tmp['label'].apply(lambda x: {True: str(1), False: str(0)}[x])\n",
    "test = []\n",
    "for line in tmp.values:\n",
    "    line = ','.join(line)\n",
    "    test.append(line)\n",
    "\n",
    "test_data, test_label = genData(test, 40)\n",
    "test_data = test_data[:-1]\n",
    "test_label = test_label[:-1]\n",
    "test_dataset = Data.TensorDataset(test_data, test_label)\n",
    "batch_size=256\n",
    "test_iter = torch.utils.data.DataLoader(test_dataset, batch_size=batch_size, shuffle=False)\n",
    "\n",
    "y_pred = pred(test_iter, net)\n",
    "probs = np.array(pred_prob(test_iter, net))[:, 1]\n",
    "\n",
    "# acc = evaluate_accuracy(test_iter,net)\n",
    "auc = roc_auc_score(test_label, probs)\n",
    "\n",
    "# print('Test Accuracy: {}'.format(acc))\n",
    "print('Test AUC : {}'.format(auc))\n",
    "print(classification_report(test_label, y_pred, digits=4))\n",
    "\n",
    "plt.figure(figsize=(4, 4))\n",
    "fpr, tpr, threshold = roc_curve(test_label, probs)\n",
    "plt.plot(fpr, tpr, marker='.', label='AUC = {:.4f}'.format(auc), color='orange')\n",
    "plt.title('ROC curve')\n",
    "plt.xlabel('False Positive Rate')\n",
    "plt.ylabel('True Positive Rate')\n",
    "plt.legend()\n",
    "plt.show()\n",
    "\n",
    "cf_matrix = confusion_matrix(test_label, y_pred)\n",
    "plt.figure(figsize=(3, 3))\n",
    "sns.heatmap(cf_matrix, annot=True, fmt=',.0f')\n",
    "plt.show()\n",
    "\n",
    "np.save('log/result_mouse_KLife_PepFormer_fpr.npy', fpr)\n",
    "np.save('log/result_mouse_KLife_PepFormer_tpr.npy', tpr)\n",
    "np.save('log/result_mouse_KLife_PepFormer_threshold.npy', threshold)\n",
    "np.save('log/result_mouse_KLife_PepFormer_prob.npy', probs)\n",
    "np.save('log/result_mouse_KLife_PepFormer_true.npy', test_label)"
   ]
  },
  {
   "cell_type": "code",
   "execution_count": 8,
   "id": "0ef99c9f",
   "metadata": {
    "ExecuteTime": {
     "end_time": "2023-03-19T15:08:30.312160Z",
     "start_time": "2023-03-19T15:04:50.447490Z"
    }
   },
   "outputs": [
    {
     "name": "stdout",
     "output_type": "stream",
     "text": [
      "length > 40: 0\n",
      "Test AUC : 0.8778315260492742\n",
      "              precision    recall  f1-score   support\n",
      "\n",
      "           0     0.9951    0.6703    0.8010   1085325\n",
      "           1     0.1073    0.9233    0.1922     46561\n",
      "\n",
      "    accuracy                         0.6807   1131886\n",
      "   macro avg     0.5512    0.7968    0.4966   1131886\n",
      "weighted avg     0.9586    0.6807    0.7760   1131886\n",
      "\n"
     ]
    },
    {
     "data": {
      "image/png": "[encoded data removed]",
      "text/plain": [
       "<Figure size 288x288 with 1 Axes>"
      ]
     },
     "metadata": {
      "needs_background": "light"
     },
     "output_type": "display_data"
    },
    {
     "data": {
      "image/png": "[encoded data removed]",
      "text/plain": [
       "<Figure size 216x216 with 2 Axes>"
      ]
     },
     "metadata": {
      "needs_background": "light"
     },
     "output_type": "display_data"
    }
   ],
   "source": [
    "tmp = pd.concat([\n",
    "    pd.read_csv('/data/2021_SJH_detectability/data_cross_species/raw/mouse/SkeletaMuscle/train.csv'),\n",
    "    pd.read_csv('/data/2021_SJH_detectability/data_cross_species/raw/mouse/SkeletaMuscle/test.csv'),\n",
    "])\n",
    "tmp=tmp.merge(df_merge, how='left')\n",
    "tmp.Drop.fillna(False, inplace=True)\n",
    "idxes=tmp.loc[tmp.Drop==True].index\n",
    "tmp=tmp.drop(idxes, axis=0).reset_index(drop=True)\n",
    "tmp=tmp.drop(['Drop'],axis=1)\n",
    "tmp=tmp[['peptide', 'label']]#.drop_duplicates()\n",
    "\n",
    "tmp = tmp[tmp.peptide.apply(lambda x: 'B' not in x)].reset_index(drop=True)\n",
    "tmp = tmp[tmp.peptide.apply(lambda x: 'Z' not in x)].reset_index(drop=True)\n",
    "\n",
    "tmp['label'] = tmp['label'].apply(lambda x: {True: str(1), False: str(0)}[x])\n",
    "test = []\n",
    "for line in tmp.values:\n",
    "    line = ','.join(line)\n",
    "    test.append(line)\n",
    "\n",
    "test_data, test_label = genData(test, 40)\n",
    "test_data = test_data[:-1]\n",
    "test_label = test_label[:-1]\n",
    "test_dataset = Data.TensorDataset(test_data, test_label)\n",
    "batch_size=256\n",
    "test_iter = torch.utils.data.DataLoader(test_dataset, batch_size=batch_size, shuffle=False)\n",
    "\n",
    "y_pred = pred(test_iter, net)\n",
    "probs = np.array(pred_prob(test_iter, net))[:, 1]\n",
    "\n",
    "# acc = evaluate_accuracy(test_iter,net)\n",
    "auc = roc_auc_score(test_label, probs)\n",
    "\n",
    "# print('Test Accuracy: {}'.format(acc))\n",
    "print('Test AUC : {}'.format(auc))\n",
    "print(classification_report(test_label, y_pred, digits=4))\n",
    "\n",
    "plt.figure(figsize=(4, 4))\n",
    "fpr, tpr, threshold = roc_curve(test_label, probs)\n",
    "plt.plot(fpr, tpr, marker='.', label='AUC = {:.4f}'.format(auc), color='orange')\n",
    "plt.title('ROC curve')\n",
    "plt.xlabel('False Positive Rate')\n",
    "plt.ylabel('True Positive Rate')\n",
    "plt.legend()\n",
    "plt.show()\n",
    "\n",
    "cf_matrix = confusion_matrix(test_label, y_pred)\n",
    "plt.figure(figsize=(3, 3))\n",
    "sns.heatmap(cf_matrix, annot=True, fmt=',.0f')\n",
    "plt.show()\n",
    "\n",
    "np.save('log/result_mouse_SkeletaMuscle_PepFormer_fpr.npy', fpr)\n",
    "np.save('log/result_mouse_SkeletaMuscle_PepFormer_tpr.npy', tpr)\n",
    "np.save('log/result_mouse_SkeletaMuscle_PepFormer_threshold.npy', threshold)\n",
    "np.save('log/result_mouse_SkeletaMuscle_PepFormer_prob.npy', probs)\n",
    "np.save('log/result_mouse_SkeletaMuscle_PepFormer_true.npy', test_label)"
   ]
  },
  {
   "cell_type": "markdown",
   "id": "a63ddc2d",
   "metadata": {},
   "source": [
    "# Cross species : Human"
   ]
  },
  {
   "cell_type": "code",
   "execution_count": 9,
   "id": "e341ecc6",
   "metadata": {
    "ExecuteTime": {
     "end_time": "2023-03-19T15:13:42.817898Z",
     "start_time": "2023-03-19T15:08:30.314061Z"
    }
   },
   "outputs": [
    {
     "name": "stdout",
     "output_type": "stream",
     "text": [
      "length > 40: 0\n",
      "Test AUC : 0.8569953458488135\n",
      "              precision    recall  f1-score   support\n",
      "\n",
      "           0     0.9927    0.7017    0.8222   1363828\n",
      "           1     0.0985    0.8637    0.1769     51481\n",
      "\n",
      "    accuracy                         0.7076   1415309\n",
      "   macro avg     0.5456    0.7827    0.4996   1415309\n",
      "weighted avg     0.9602    0.7076    0.7988   1415309\n",
      "\n"
     ]
    },
    {
     "data": {
      "image/png": "[encoded data removed]",
      "text/plain": [
       "<Figure size 288x288 with 1 Axes>"
      ]
     },
     "metadata": {
      "needs_background": "light"
     },
     "output_type": "display_data"
    },
    {
     "data": {
      "image/png": "[encoded data removed]",
      "text/plain": [
       "<Figure size 216x216 with 2 Axes>"
      ]
     },
     "metadata": {
      "needs_background": "light"
     },
     "output_type": "display_data"
    }
   ],
   "source": [
    "tmp = pd.concat([\n",
    "    pd.read_csv('/data/2021_SJH_detectability/data_cross_species/raw/human/HEK293/train.csv'),\n",
    "    pd.read_csv('/data/2021_SJH_detectability/data_cross_species/raw/human/HEK293/test.csv'),\n",
    "])\n",
    "tmp=tmp.merge(df_merge, how='left')\n",
    "tmp.Drop.fillna(False, inplace=True)\n",
    "idxes=tmp.loc[tmp.Drop==True].index\n",
    "tmp=tmp.drop(idxes, axis=0).reset_index(drop=True)\n",
    "tmp=tmp.drop(['Drop'],axis=1)\n",
    "tmp=tmp[['peptide', 'label']]#.drop_duplicates()\n",
    "\n",
    "tmp['label'] = tmp['label'].apply(lambda x: {True: str(1), False: str(0)}[x])\n",
    "test = []\n",
    "for line in tmp.values:\n",
    "    line = ','.join(line)\n",
    "    test.append(line)\n",
    "\n",
    "test_data, test_label = genData(test, 40)\n",
    "test_data = test_data[:-1]\n",
    "test_label = test_label[:-1]\n",
    "test_dataset = Data.TensorDataset(test_data, test_label)\n",
    "batch_size=256\n",
    "test_iter = torch.utils.data.DataLoader(test_dataset, batch_size=batch_size, shuffle=False)\n",
    "\n",
    "y_pred = pred(test_iter, net)\n",
    "probs = np.array(pred_prob(test_iter, net))[:, 1]\n",
    "\n",
    "# acc = evaluate_accuracy(test_iter,net)\n",
    "auc = roc_auc_score(test_label, probs)\n",
    "\n",
    "# print('Test Accuracy: {}'.format(acc))\n",
    "print('Test AUC : {}'.format(auc))\n",
    "print(classification_report(test_label, y_pred, digits=4))\n",
    "\n",
    "plt.figure(figsize=(4, 4))\n",
    "fpr, tpr, threshold = roc_curve(test_label, probs)\n",
    "plt.plot(fpr, tpr, marker='.', label='AUC = {:.4f}'.format(auc), color='orange')\n",
    "plt.title('ROC curve')\n",
    "plt.xlabel('False Positive Rate')\n",
    "plt.ylabel('True Positive Rate')\n",
    "plt.legend()\n",
    "plt.show()\n",
    "\n",
    "cf_matrix = confusion_matrix(test_label, y_pred)\n",
    "plt.figure(figsize=(3, 3))\n",
    "sns.heatmap(cf_matrix, annot=True, fmt=',.0f')\n",
    "plt.show()\n",
    "\n",
    "np.save('log/result_human_HEK293_PepFormer_fpr.npy', fpr)\n",
    "np.save('log/result_human_HEK293_PepFormer_tpr.npy', tpr)\n",
    "np.save('log/result_human_HEK293_PepFormer_threshold.npy', threshold)\n",
    "np.save('log/result_human_HEK293_PepFormer_prob.npy', probs)\n",
    "np.save('log/result_human_HEK293_PepFormer_true.npy', test_label)"
   ]
  },
  {
   "cell_type": "code",
   "execution_count": 10,
   "id": "a91f95ab",
   "metadata": {
    "ExecuteTime": {
     "end_time": "2023-03-19T15:17:50.454277Z",
     "start_time": "2023-03-19T15:13:42.820295Z"
    }
   },
   "outputs": [
    {
     "name": "stdout",
     "output_type": "stream",
     "text": [
      "length > 40: 0\n",
      "Test AUC : 0.8041547437809393\n",
      "              precision    recall  f1-score   support\n",
      "\n",
      "           0     0.9936    0.6955    0.8182   1003489\n",
      "           1     0.0490    0.7773    0.0922     20251\n",
      "\n",
      "    accuracy                         0.6971   1023740\n",
      "   macro avg     0.5213    0.7364    0.4552   1023740\n",
      "weighted avg     0.9749    0.6971    0.8039   1023740\n",
      "\n"
     ]
    },
    {
     "data": {
      "image/png": "[encoded data removed]",
      "text/plain": [
       "<Figure size 288x288 with 1 Axes>"
      ]
     },
     "metadata": {
      "needs_background": "light"
     },
     "output_type": "display_data"
    },
    {
     "data": {
      "image/png": "[encoded data removed]",
      "text/plain": [
       "<Figure size 216x216 with 2 Axes>"
      ]
     },
     "metadata": {
      "needs_background": "light"
     },
     "output_type": "display_data"
    }
   ],
   "source": [
    "tmp = pd.concat([\n",
    "    pd.read_csv('/data/2021_SJH_detectability/data_cross_species/raw/human/HmapLiver/train.csv'),\n",
    "    pd.read_csv('/data/2021_SJH_detectability/data_cross_species/raw/human/HmapLiver/test.csv'),\n",
    "])\n",
    "tmp=tmp.merge(df_merge, how='left')\n",
    "tmp.Drop.fillna(False, inplace=True)\n",
    "idxes=tmp.loc[tmp.Drop==True].index\n",
    "tmp=tmp.drop(idxes, axis=0).reset_index(drop=True)\n",
    "tmp=tmp.drop(['Drop'],axis=1)\n",
    "tmp=tmp[['peptide', 'label']]#.drop_duplicates()\n",
    "\n",
    "tmp['label'] = tmp['label'].apply(lambda x: {True: str(1), False: str(0)}[x])\n",
    "test = []\n",
    "for line in tmp.values:\n",
    "    line = ','.join(line)\n",
    "    test.append(line)\n",
    "\n",
    "test_data, test_label = genData(test, 40)\n",
    "test_data = test_data[:-1]\n",
    "test_label = test_label[:-1]\n",
    "test_dataset = Data.TensorDataset(test_data, test_label)\n",
    "batch_size=256\n",
    "test_iter = torch.utils.data.DataLoader(test_dataset, batch_size=batch_size, shuffle=False)\n",
    "\n",
    "y_pred = pred(test_iter, net)\n",
    "probs = np.array(pred_prob(test_iter, net))[:, 1]\n",
    "\n",
    "# acc = evaluate_accuracy(test_iter,net)\n",
    "auc = roc_auc_score(test_label, probs)\n",
    "\n",
    "# print('Test Accuracy: {}'.format(acc))\n",
    "print('Test AUC : {}'.format(auc))\n",
    "print(classification_report(test_label, y_pred, digits=4))\n",
    "\n",
    "plt.figure(figsize=(4, 4))\n",
    "fpr, tpr, threshold = roc_curve(test_label, probs)\n",
    "plt.plot(fpr, tpr, marker='.', label='AUC = {:.4f}'.format(auc), color='orange')\n",
    "plt.title('ROC curve')\n",
    "plt.xlabel('False Positive Rate')\n",
    "plt.ylabel('True Positive Rate')\n",
    "plt.legend()\n",
    "plt.show()\n",
    "\n",
    "cf_matrix = confusion_matrix(test_label, y_pred)\n",
    "plt.figure(figsize=(3, 3))\n",
    "sns.heatmap(cf_matrix, annot=True, fmt=',.0f')\n",
    "plt.show()\n",
    "\n",
    "np.save('log/result_human_HmapLiver_PepFormer_fpr.npy', fpr)\n",
    "np.save('log/result_human_HmapLiver_PepFormer_tpr.npy', tpr)\n",
    "np.save('log/result_human_HmapLiver_PepFormer_threshold.npy', threshold)\n",
    "np.save('log/result_human_HmapLiver_PepFormer_prob.npy', probs)\n",
    "np.save('log/result_human_HmapLiver_PepFormer_true.npy', test_label)"
   ]
  },
  {
   "cell_type": "markdown",
   "id": "69c7bb88",
   "metadata": {},
   "source": [
    "# Cross species : Yeast"
   ]
  },
  {
   "cell_type": "code",
   "execution_count": 11,
   "id": "4eaf6db5",
   "metadata": {
    "ExecuteTime": {
     "end_time": "2023-03-19T15:19:56.019055Z",
     "start_time": "2023-03-19T15:17:50.456156Z"
    }
   },
   "outputs": [
    {
     "name": "stdout",
     "output_type": "stream",
     "text": [
      "length > 40: 0\n",
      "Test AUC : 0.8612821361905629\n",
      "              precision    recall  f1-score   support\n",
      "\n",
      "           0     0.9921    0.6429    0.7802    520819\n",
      "           1     0.1402    0.9194    0.2432     32972\n",
      "\n",
      "    accuracy                         0.6594    553791\n",
      "   macro avg     0.5661    0.7811    0.5117    553791\n",
      "weighted avg     0.9414    0.6594    0.7483    553791\n",
      "\n"
     ]
    },
    {
     "data": {
      "image/png": "[encoded data removed]",
      "text/plain": [
       "<Figure size 288x288 with 1 Axes>"
      ]
     },
     "metadata": {
      "needs_background": "light"
     },
     "output_type": "display_data"
    },
    {
     "data": {
      "image/png": "[encoded data removed]",
      "text/plain": [
       "<Figure size 216x216 with 2 Axes>"
      ]
     },
     "metadata": {
      "needs_background": "light"
     },
     "output_type": "display_data"
    }
   ],
   "source": [
    "tmp = pd.concat([\n",
    "    pd.read_csv('/data/2021_SJH_detectability/data_cross_species/raw/yeast/DelPBP1/train.csv'),\n",
    "    pd.read_csv('/data/2021_SJH_detectability/data_cross_species/raw/yeast/DelPBP1/test.csv'),\n",
    "])\n",
    "tmp=tmp.merge(df_merge, how='left')\n",
    "tmp.Drop.fillna(False, inplace=True)\n",
    "idxes=tmp.loc[tmp.Drop==True].index\n",
    "tmp=tmp.drop(idxes, axis=0).reset_index(drop=True)\n",
    "tmp=tmp.drop(['Drop'],axis=1)\n",
    "tmp=tmp[['peptide', 'label']]#.drop_duplicates()\n",
    "\n",
    "tmp['label'] = tmp['label'].apply(lambda x: {True: str(1), False: str(0)}[x])\n",
    "test = []\n",
    "for line in tmp.values:\n",
    "    line = ','.join(line)\n",
    "    test.append(line)\n",
    "\n",
    "test_data, test_label = genData(test, 40)\n",
    "test_data = test_data[:-1]\n",
    "test_label = test_label[:-1]\n",
    "test_dataset = Data.TensorDataset(test_data, test_label)\n",
    "batch_size=256\n",
    "test_iter = torch.utils.data.DataLoader(test_dataset, batch_size=batch_size, shuffle=False)\n",
    "\n",
    "y_pred = pred(test_iter, net)\n",
    "probs = np.array(pred_prob(test_iter, net))[:, 1]\n",
    "\n",
    "# acc = evaluate_accuracy(test_iter,net)\n",
    "auc = roc_auc_score(test_label, probs)\n",
    "\n",
    "# print('Test Accuracy: {}'.format(acc))\n",
    "print('Test AUC : {}'.format(auc))\n",
    "print(classification_report(test_label, y_pred, digits=4))\n",
    "\n",
    "plt.figure(figsize=(4, 4))\n",
    "fpr, tpr, threshold = roc_curve(test_label, probs)\n",
    "plt.plot(fpr, tpr, marker='.', label='AUC = {:.4f}'.format(auc), color='orange')\n",
    "plt.title('ROC curve')\n",
    "plt.xlabel('False Positive Rate')\n",
    "plt.ylabel('True Positive Rate')\n",
    "plt.legend()\n",
    "plt.show()\n",
    "\n",
    "cf_matrix = confusion_matrix(test_label, y_pred)\n",
    "plt.figure(figsize=(3, 3))\n",
    "sns.heatmap(cf_matrix, annot=True, fmt=',.0f')\n",
    "plt.show()\n",
    "\n",
    "np.save('log/result_yeast_DelPBP1_PepFormer_fpr.npy', fpr)\n",
    "np.save('log/result_yeast_DelPBP1_PepFormer_tpr.npy', tpr)\n",
    "np.save('log/result_yeast_DelPBP1_PepFormer_threshold.npy', threshold)\n",
    "np.save('log/result_yeast_DelPBP1_PepFormer_prob.npy', probs)\n",
    "np.save('log/result_yeast_DelPBP1_PepFormer_true.npy', test_label)"
   ]
  },
  {
   "cell_type": "code",
   "execution_count": 12,
   "id": "eeaa1e79",
   "metadata": {
    "ExecuteTime": {
     "end_time": "2023-03-19T15:22:24.594090Z",
     "start_time": "2023-03-19T15:19:56.021249Z"
    }
   },
   "outputs": [
    {
     "name": "stdout",
     "output_type": "stream",
     "text": [
      "length > 40: 0\n",
      "Test AUC : 0.9050583326423864\n",
      "              precision    recall  f1-score   support\n",
      "\n",
      "           0     0.9844    0.6865    0.8089    561781\n",
      "           1     0.2904    0.9220    0.4417     78156\n",
      "\n",
      "    accuracy                         0.7153    639937\n",
      "   macro avg     0.6374    0.8043    0.6253    639937\n",
      "weighted avg     0.8997    0.7153    0.7641    639937\n",
      "\n"
     ]
    },
    {
     "data": {
      "image/png": "[encoded data removed]",
      "text/plain": [
       "<Figure size 288x288 with 1 Axes>"
      ]
     },
     "metadata": {
      "needs_background": "light"
     },
     "output_type": "display_data"
    },
    {
     "data": {
      "image/png": "[encoded data removed]",
      "text/plain": [
       "<Figure size 216x216 with 2 Axes>"
      ]
     },
     "metadata": {
      "needs_background": "light"
     },
     "output_type": "display_data"
    }
   ],
   "source": [
    "tmp = pd.concat([\n",
    "    pd.read_csv('/data/2021_SJH_detectability/data_cross_species/raw/yeast/KLife/train.csv'),\n",
    "    pd.read_csv('/data/2021_SJH_detectability/data_cross_species/raw/yeast/KLife/test.csv'),\n",
    "])\n",
    "tmp=tmp.merge(df_merge, how='left')\n",
    "tmp.Drop.fillna(False, inplace=True)\n",
    "idxes=tmp.loc[tmp.Drop==True].index\n",
    "tmp=tmp.drop(idxes, axis=0).reset_index(drop=True)\n",
    "tmp=tmp.drop(['Drop'],axis=1)\n",
    "tmp=tmp[['peptide', 'label']]#.drop_duplicates()\n",
    "\n",
    "tmp['label'] = tmp['label'].apply(lambda x: {True: str(1), False: str(0)}[x])\n",
    "test = []\n",
    "for line in tmp.values:\n",
    "    line = ','.join(line)\n",
    "    test.append(line)\n",
    "\n",
    "test_data, test_label = genData(test, 40)\n",
    "test_data = test_data[:-1]\n",
    "test_label = test_label[:-1]\n",
    "test_dataset = Data.TensorDataset(test_data, test_label)\n",
    "batch_size=256\n",
    "test_iter = torch.utils.data.DataLoader(test_dataset, batch_size=batch_size, shuffle=False)\n",
    "\n",
    "y_pred = pred(test_iter, net)\n",
    "probs = np.array(pred_prob(test_iter, net))[:, 1]\n",
    "\n",
    "# acc = evaluate_accuracy(test_iter,net)\n",
    "auc = roc_auc_score(test_label, probs)\n",
    "\n",
    "# print('Test Accuracy: {}'.format(acc))\n",
    "print('Test AUC : {}'.format(auc))\n",
    "print(classification_report(test_label, y_pred, digits=4))\n",
    "\n",
    "plt.figure(figsize=(4, 4))\n",
    "fpr, tpr, threshold = roc_curve(test_label, probs)\n",
    "plt.plot(fpr, tpr, marker='.', label='AUC = {:.4f}'.format(auc), color='orange')\n",
    "plt.title('ROC curve')\n",
    "plt.xlabel('False Positive Rate')\n",
    "plt.ylabel('True Positive Rate')\n",
    "plt.legend()\n",
    "plt.show()\n",
    "\n",
    "cf_matrix = confusion_matrix(test_label, y_pred)\n",
    "plt.figure(figsize=(3, 3))\n",
    "sns.heatmap(cf_matrix, annot=True, fmt=',.0f')\n",
    "plt.show()\n",
    "\n",
    "np.save('log/result_yeast_KLife_PepFormer_fpr.npy', fpr)\n",
    "np.save('log/result_yeast_KLife_PepFormer_tpr.npy', tpr)\n",
    "np.save('log/result_yeast_KLife_PepFormer_threshold.npy', threshold)\n",
    "np.save('log/result_yeast_KLife_PepFormer_prob.npy', probs)\n",
    "np.save('log/result_yeast_KLife_PepFormer_true.npy', test_label)"
   ]
  },
  {
   "cell_type": "code",
   "execution_count": null,
   "id": "1a8186ca",
   "metadata": {},
   "outputs": [],
   "source": []
  }
 ],
 "metadata": {
  "kernelspec": {
   "display_name": "torch",
   "language": "python",
   "name": "torch"
  },
  "language_info": {
   "codemirror_mode": {
    "name": "ipython",
    "version": 3
   },
   "file_extension": ".py",
   "mimetype": "text/x-python",
   "name": "python",
   "nbconvert_exporter": "python",
   "pygments_lexer": "ipython3",
   "version": "3.6.13"
  }
 },
 "nbformat": 4,
 "nbformat_minor": 5
}
