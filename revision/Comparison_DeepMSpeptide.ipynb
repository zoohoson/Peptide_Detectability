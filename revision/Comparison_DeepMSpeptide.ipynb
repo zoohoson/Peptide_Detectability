{
 "cells": [
  {
   "cell_type": "code",
   "execution_count": 1,
   "id": "041a6739",
   "metadata": {
    "ExecuteTime": {
     "end_time": "2023-03-19T14:57:45.986527Z",
     "start_time": "2023-03-19T14:57:44.258031Z"
    }
   },
   "outputs": [
    {
     "name": "stdout",
     "output_type": "stream",
     "text": [
      "WARNING:tensorflow:From /home/bis/2021_SJH_detectability/DbyDeep/RefModel/model_DeepMSpeptide.py:14: The name tf.enable_eager_execution is deprecated. Please use tf.compat.v1.enable_eager_execution instead.\n",
      "\n"
     ]
    }
   ],
   "source": [
    "import os\n",
    "os.environ[\"CUDA_VISIBLE_DEVICES\"]='2'\n",
    "\n",
    "import warnings\n",
    "warnings.simplefilter(action='ignore', category=FutureWarning)\n",
    "\n",
    "import pandas as pd\n",
    "import numpy as np\n",
    "import tensorflow as tf\n",
    "from tensorflow import keras\n",
    "\n",
    "import matplotlib.pyplot as plt\n",
    "import seaborn as sns\n",
    "\n",
    "from sklearn.metrics import roc_curve, roc_auc_score, classification_report, confusion_matrix, accuracy_score\n",
    "\n",
    "import sys\n",
    "sys.path.append('/home/bis/2021_SJH_detectability/DbyDeep')\n",
    "from RefModel.model_DeepMSpeptide import load_pep_and_codify"
   ]
  },
  {
   "cell_type": "code",
   "execution_count": 2,
   "id": "5c37f788",
   "metadata": {
    "ExecuteTime": {
     "end_time": "2023-03-19T14:57:46.905980Z",
     "start_time": "2023-03-19T14:57:45.988338Z"
    }
   },
   "outputs": [
    {
     "name": "stdout",
     "output_type": "stream",
     "text": [
      "Loading model...\n",
      "WARNING:tensorflow:From /home/bis/miniconda3/envs/TF1.14/lib/python3.6/site-packages/tensorflow/python/ops/math_grad.py:1250: add_dispatch_support.<locals>.wrapper (from tensorflow.python.ops.array_ops) is deprecated and will be removed in a future version.\n",
      "Instructions for updating:\n",
      "Use tf.where in 2.0, which has the same broadcast rule as np.where\n"
     ]
    }
   ],
   "source": [
    "print('Loading model...')\n",
    "model_2_1D = keras.models.load_model('/home/bis/2021_SJH_detectability/DbyDeep/log/model_DeepMspeptide.h5')\n",
    "# retrained"
   ]
  },
  {
   "cell_type": "code",
   "execution_count": 4,
   "id": "2b01203c",
   "metadata": {
    "ExecuteTime": {
     "end_time": "2023-03-19T14:58:47.050648Z",
     "start_time": "2023-03-19T14:58:45.653048Z"
    }
   },
   "outputs": [],
   "source": [
    "df_massive=pd.read_csv('/data/2021_SJH_detectability/data_human/train.csv')\n",
    "df_merge=pd.DataFrame(df_massive.peptide.unique(), columns=['peptide'])\n",
    "df_merge['Drop']=True\n",
    "df_hpp=pd.read_csv('/data/2021_SJH_detectability/data_human/HPP.csv')"
   ]
  },
  {
   "cell_type": "markdown",
   "id": "a16fd587",
   "metadata": {},
   "source": [
    "# Cross species : Mouse"
   ]
  },
  {
   "cell_type": "code",
   "execution_count": 5,
   "id": "6e13c650",
   "metadata": {
    "ExecuteTime": {
     "end_time": "2023-03-19T15:02:34.345033Z",
     "start_time": "2023-03-19T14:58:47.932971Z"
    }
   },
   "outputs": [
    {
     "name": "stdout",
     "output_type": "stream",
     "text": [
      "Loading input peptides\n",
      "Succesfully loaded 1299325 peptides and skipped 0\n",
      "1299325/1299325 [==============================] - 107s 83us/sample - loss: 0.6805 - acc: 0.6829 - binary_crossentropy: 0.6805\n",
      "Test Accuracy: [0.6805322977710875, 0.68289226, 0.6805326]\n",
      "Test AUC : 0.9058734006055039\n",
      "              precision    recall  f1-score   support\n",
      "\n",
      "       False     0.9971    0.6719    0.8028   1248307\n",
      "        True     0.1060    0.9520    0.1908     51018\n",
      "\n",
      "    accuracy                         0.6829   1299325\n",
      "   macro avg     0.5516    0.8120    0.4968   1299325\n",
      "weighted avg     0.9621    0.6829    0.7788   1299325\n",
      "\n"
     ]
    },
    {
     "data": {
      "image/png": "[encoded data removed]",
      "text/plain": [
       "<Figure size 288x288 with 1 Axes>"
      ]
     },
     "metadata": {
      "needs_background": "light"
     },
     "output_type": "display_data"
    },
    {
     "data": {
      "image/png": "[encoded data removed]",
      "text/plain": [
       "<Figure size 216x216 with 2 Axes>"
      ]
     },
     "metadata": {
      "needs_background": "light"
     },
     "output_type": "display_data"
    }
   ],
   "source": [
    "df_test = pd.concat([\n",
    "    pd.read_csv('/data/2021_SJH_detectability/data_cross_species/raw/mouse/KLife/train.csv'),\n",
    "    pd.read_csv('/data/2021_SJH_detectability/data_cross_species/raw/mouse/KLife/test.csv'),\n",
    "])\n",
    "df_test=df_test.merge(df_merge, how='left')\n",
    "df_test.Drop.fillna(False, inplace=True)\n",
    "idxes=df_test.loc[df_test.Drop==True].index\n",
    "df_test=df_test.drop(idxes, axis=0).reset_index(drop=True)\n",
    "df_test=df_test.drop(['Drop'],axis=1)\n",
    "df_test=df_test[['peptide', 'label']]#.drop_duplicates()\n",
    "\n",
    "df_test = df_test[df_test.peptide.apply(lambda x: 'B' not in x)].reset_index(drop=True)\n",
    "df_test = df_test[df_test.peptide.apply(lambda x: 'Z' not in x)].reset_index(drop=True)\n",
    "\n",
    "print('Loading input peptides')\n",
    "file = df_test.peptide.values\n",
    "X_test, skipped,  lines = load_pep_and_codify(file, 81)\n",
    "y_test = df_test.label.values\n",
    "print('Succesfully loaded {0} peptides and skipped {1}'.format(len(lines), str(skipped)))\n",
    "\n",
    "probs = model_2_1D.predict(X_test)\n",
    "# probs = 1-probs\n",
    "y_pred = [1 if i>=0.5 else 0 for i in probs]\n",
    "acc = model_2_1D.evaluate(X_test, y_test)\n",
    "\n",
    "auc = roc_auc_score(y_test, probs)\n",
    "print('Test Accuracy: {}'.format(acc))\n",
    "print('Test AUC : {}'.format(auc))\n",
    "print(classification_report(y_test, y_pred, digits=4))\n",
    "\n",
    "plt.figure(figsize=(4, 4))\n",
    "fpr, tpr, threshold = roc_curve(y_test, probs)\n",
    "plt.plot(fpr, tpr, marker='.', label='AUC = {:.4f}'.format(auc), color='orange')\n",
    "plt.title('ROC curve')\n",
    "plt.xlabel('False Positive Rate')\n",
    "plt.ylabel('True Positive Rate')\n",
    "plt.legend()\n",
    "plt.show()\n",
    "\n",
    "cf_matrix = confusion_matrix(y_test, y_pred)\n",
    "plt.figure(figsize=(3, 3))\n",
    "sns.heatmap(cf_matrix, annot=True, fmt=',.0f')\n",
    "plt.show()\n",
    "\n",
    "np.save('log/result_mouse_KLife_DeepMSpeptide_fpr.npy', fpr)\n",
    "np.save('log/result_mouse_KLife_DeepMSpeptide_tpr.npy', tpr)\n",
    "np.save('log/result_mouse_KLife_DeepMSpeptide_threshold.npy', threshold)\n",
    "np.save('log/result_mouse_KLife_DeepMSpeptide_prob.npy', probs)\n",
    "np.save('log/result_mouse_KLife_DeepMSpeptide_true.npy', y_test)"
   ]
  },
  {
   "cell_type": "code",
   "execution_count": 6,
   "id": "c8e385f3",
   "metadata": {
    "ExecuteTime": {
     "end_time": "2023-03-19T15:06:18.542502Z",
     "start_time": "2023-03-19T15:02:34.346905Z"
    }
   },
   "outputs": [
    {
     "name": "stdout",
     "output_type": "stream",
     "text": [
      "Loading input peptides\n",
      "Succesfully loaded 1131887 peptides and skipped 0\n",
      "1131887/1131887 [==============================] - 114s 101us/sample - loss: 0.6933 - acc: 0.6810 - binary_crossentropy: 0.6933\n",
      "Test Accuracy: [0.6932999154787987, 0.6810079, 0.69330245]\n",
      "Test AUC : 0.8795061999763901\n",
      "              precision    recall  f1-score   support\n",
      "\n",
      "       False     0.9954    0.6704    0.8012   1085326\n",
      "        True     0.1078    0.9279    0.1931     46561\n",
      "\n",
      "    accuracy                         0.6810   1131887\n",
      "   macro avg     0.5516    0.7991    0.4972   1131887\n",
      "weighted avg     0.9589    0.6810    0.7762   1131887\n",
      "\n"
     ]
    },
    {
     "data": {
      "image/png": "[encoded data removed]",
      "text/plain": [
       "<Figure size 288x288 with 1 Axes>"
      ]
     },
     "metadata": {
      "needs_background": "light"
     },
     "output_type": "display_data"
    },
    {
     "data": {
      "image/png": "[encoded data removed]",
      "text/plain": [
       "<Figure size 216x216 with 2 Axes>"
      ]
     },
     "metadata": {
      "needs_background": "light"
     },
     "output_type": "display_data"
    }
   ],
   "source": [
    "df_test = pd.concat([\n",
    "    pd.read_csv('/data/2021_SJH_detectability/data_cross_species/raw/mouse/SkeletaMuscle/train.csv'),\n",
    "    pd.read_csv('/data/2021_SJH_detectability/data_cross_species/raw/mouse/SkeletaMuscle/test.csv'),\n",
    "])\n",
    "df_test=df_test.merge(df_merge, how='left')\n",
    "df_test.Drop.fillna(False, inplace=True)\n",
    "idxes=df_test.loc[df_test.Drop==True].index\n",
    "df_test=df_test.drop(idxes, axis=0).reset_index(drop=True)\n",
    "df_test=df_test.drop(['Drop'],axis=1)\n",
    "df_test=df_test[['peptide', 'label']]#.drop_duplicates()\n",
    "\n",
    "df_test = df_test[df_test.peptide.apply(lambda x: 'B' not in x)].reset_index(drop=True)\n",
    "df_test = df_test[df_test.peptide.apply(lambda x: 'Z' not in x)].reset_index(drop=True)\n",
    "\n",
    "print('Loading input peptides')\n",
    "file = df_test.peptide.values\n",
    "X_test, skipped,  lines = load_pep_and_codify(file, 81)\n",
    "y_test = df_test.label.values\n",
    "print('Succesfully loaded {0} peptides and skipped {1}'.format(len(lines), str(skipped)))\n",
    "\n",
    "probs = model_2_1D.predict(X_test)\n",
    "# probs = 1-probs\n",
    "y_pred = [1 if i>=0.5 else 0 for i in probs]\n",
    "acc = model_2_1D.evaluate(X_test, y_test)\n",
    "\n",
    "auc = roc_auc_score(y_test, probs)\n",
    "print('Test Accuracy: {}'.format(acc))\n",
    "print('Test AUC : {}'.format(auc))\n",
    "print(classification_report(y_test, y_pred, digits=4))\n",
    "\n",
    "plt.figure(figsize=(4, 4))\n",
    "fpr, tpr, threshold = roc_curve(y_test, probs)\n",
    "plt.plot(fpr, tpr, marker='.', label='AUC = {:.4f}'.format(auc), color='orange')\n",
    "plt.title('ROC curve')\n",
    "plt.xlabel('False Positive Rate')\n",
    "plt.ylabel('True Positive Rate')\n",
    "plt.legend()\n",
    "plt.show()\n",
    "\n",
    "cf_matrix = confusion_matrix(y_test, y_pred)\n",
    "plt.figure(figsize=(3, 3))\n",
    "sns.heatmap(cf_matrix, annot=True, fmt=',.0f')\n",
    "plt.show()\n",
    "\n",
    "np.save('log/result_mouse_SkeletaMuscle_DeepMSpeptide_fpr.npy', fpr)\n",
    "np.save('log/result_mouse_SkeletaMuscle_DeepMSpeptide_tpr.npy', tpr)\n",
    "np.save('log/result_mouse_SkeletaMuscle_DeepMSpeptide_threshold.npy', threshold)\n",
    "np.save('log/result_mouse_SkeletaMuscle_DeepMSpeptide_prob.npy', probs)\n",
    "np.save('log/result_mouse_SkeletaMuscle_DeepMSpeptide_true.npy', y_test)"
   ]
  },
  {
   "cell_type": "markdown",
   "id": "3cd28dfc",
   "metadata": {},
   "source": [
    "# Cross species : Human"
   ]
  },
  {
   "cell_type": "code",
   "execution_count": 7,
   "id": "4c734f5e",
   "metadata": {
    "ExecuteTime": {
     "end_time": "2023-03-19T15:09:04.105239Z",
     "start_time": "2023-03-19T15:06:18.544524Z"
    }
   },
   "outputs": [
    {
     "name": "stdout",
     "output_type": "stream",
     "text": [
      "Loading input peptides\n",
      "Succesfully loaded 1415310 peptides and skipped 0\n",
      "Test AUC : 0.8667013533628883\n",
      "              precision    recall  f1-score   support\n",
      "\n",
      "       False     0.9939    0.7023    0.8230   1363829\n",
      "        True     0.1009    0.8850    0.1811     51481\n",
      "\n",
      "    accuracy                         0.7090   1415310\n",
      "   macro avg     0.5474    0.7937    0.5021   1415310\n",
      "weighted avg     0.9614    0.7090    0.7997   1415310\n",
      "\n"
     ]
    },
    {
     "data": {
      "image/png": "[encoded data removed]",
      "text/plain": [
       "<Figure size 288x288 with 1 Axes>"
      ]
     },
     "metadata": {
      "needs_background": "light"
     },
     "output_type": "display_data"
    },
    {
     "data": {
      "image/png": "[encoded data removed]",
      "text/plain": [
       "<Figure size 216x216 with 2 Axes>"
      ]
     },
     "metadata": {
      "needs_background": "light"
     },
     "output_type": "display_data"
    }
   ],
   "source": [
    "df_test = pd.concat([\n",
    "    pd.read_csv('/data/2021_SJH_detectability/data_cross_species/raw/human/HEK293/train.csv'),\n",
    "    pd.read_csv('/data/2021_SJH_detectability/data_cross_species/raw/human/HEK293/test.csv'),\n",
    "])\n",
    "df_test=df_test.merge(df_merge, how='left')\n",
    "df_test.Drop.fillna(False, inplace=True)\n",
    "idxes=df_test.loc[df_test.Drop==True].index\n",
    "df_test=df_test.drop(idxes, axis=0).reset_index(drop=True)\n",
    "df_test=df_test.drop(['Drop'],axis=1)\n",
    "df_test=df_test[['peptide', 'label']]#.drop_duplicates()\n",
    "\n",
    "print('Loading input peptides')\n",
    "file = df_test.peptide.values\n",
    "X_test, skipped,  lines = load_pep_and_codify(file, 81)\n",
    "y_test = df_test.label.values\n",
    "print('Succesfully loaded {0} peptides and skipped {1}'.format(len(lines), str(skipped)))\n",
    "\n",
    "probs = model_2_1D.predict(X_test)\n",
    "# probs = 1-probs\n",
    "y_pred = [1 if i >= 0.5 else 0 for i in probs]\n",
    "# acc = model_2_1D.evaluate(X_test, y_test)\n",
    "\n",
    "auc = roc_auc_score(y_test, probs)\n",
    "# print('Test Accuracy: {}'.format(acc))\n",
    "print('Test AUC : {}'.format(auc))\n",
    "print(classification_report(y_test, y_pred, digits=4))\n",
    "\n",
    "plt.figure(figsize=(4, 4))\n",
    "fpr, tpr, threshold = roc_curve(y_test, probs)\n",
    "plt.plot(fpr, tpr, marker='.', label='AUC = {:.4f}'.format(auc), color='orange')\n",
    "plt.title('ROC curve')\n",
    "plt.xlabel('False Positive Rate')\n",
    "plt.ylabel('True Positive Rate')\n",
    "plt.legend()\n",
    "plt.show()\n",
    "\n",
    "cf_matrix = confusion_matrix(y_test, y_pred)\n",
    "plt.figure(figsize=(3, 3))\n",
    "sns.heatmap(cf_matrix, annot=True, fmt=',.0f')\n",
    "plt.show()\n",
    "\n",
    "np.save('log/result_human_HEK293_DeepMSpeptide_fpr.npy', fpr)\n",
    "np.save('log/result_human_HEK293_DeepMSpeptide_tpr.npy', tpr)\n",
    "np.save('log/result_human_HEK293_DeepMSpeptide_threshold.npy', threshold)\n",
    "np.save('log/result_human_HEK293_DeepMSpeptide_prob.npy', probs)\n",
    "np.save('log/result_human_HEK293_DeepMSpeptide_true.npy', y_test)"
   ]
  },
  {
   "cell_type": "code",
   "execution_count": 8,
   "id": "182a4073",
   "metadata": {
    "ExecuteTime": {
     "end_time": "2023-03-19T15:11:41.033090Z",
     "start_time": "2023-03-19T15:09:04.107562Z"
    }
   },
   "outputs": [
    {
     "name": "stdout",
     "output_type": "stream",
     "text": [
      "Loading input peptides\n",
      "Succesfully loaded 1023741 peptides and skipped 0\n",
      "Test AUC : 0.832824592067517\n",
      "              precision    recall  f1-score   support\n",
      "\n",
      "       False     0.9949    0.6947    0.8181   1003490\n",
      "        True     0.0516    0.8231    0.0971     20251\n",
      "\n",
      "    accuracy                         0.6972   1023741\n",
      "   macro avg     0.5232    0.7589    0.4576   1023741\n",
      "weighted avg     0.9762    0.6972    0.8038   1023741\n",
      "\n"
     ]
    },
    {
     "data": {
      "image/png": "[encoded data removed]",
      "text/plain": [
       "<Figure size 288x288 with 1 Axes>"
      ]
     },
     "metadata": {
      "needs_background": "light"
     },
     "output_type": "display_data"
    },
    {
     "data": {
      "image/png": "[encoded data removed]",
      "text/plain": [
       "<Figure size 216x216 with 2 Axes>"
      ]
     },
     "metadata": {
      "needs_background": "light"
     },
     "output_type": "display_data"
    }
   ],
   "source": [
    "df_test = pd.concat([\n",
    "    pd.read_csv('/data/2021_SJH_detectability/data_cross_species/raw/human/HmapLiver/train.csv'),\n",
    "    pd.read_csv('/data/2021_SJH_detectability/data_cross_species/raw/human/HmapLiver/test.csv'),\n",
    "])\n",
    "df_test=df_test.merge(df_merge, how='left')\n",
    "df_test.Drop.fillna(False, inplace=True)\n",
    "idxes=df_test.loc[df_test.Drop==True].index\n",
    "df_test=df_test.drop(idxes, axis=0).reset_index(drop=True)\n",
    "df_test=df_test.drop(['Drop'],axis=1)\n",
    "df_test=df_test[['peptide', 'label']]#.drop_duplicates()\n",
    "\n",
    "print('Loading input peptides')\n",
    "file = df_test.peptide.values\n",
    "X_test, skipped,  lines = load_pep_and_codify(file, 81)\n",
    "y_test = df_test.label.values\n",
    "print('Succesfully loaded {0} peptides and skipped {1}'.format(len(lines), str(skipped)))\n",
    "\n",
    "probs = model_2_1D.predict(X_test)\n",
    "# probs = 1-probs\n",
    "y_pred = [1 if i >= 0.5 else 0 for i in probs]\n",
    "# acc = model_2_1D.evaluate(X_test, y_test)\n",
    "\n",
    "auc = roc_auc_score(y_test, probs)\n",
    "# print('Test Accuracy: {}'.format(acc))\n",
    "print('Test AUC : {}'.format(auc))\n",
    "print(classification_report(y_test, y_pred, digits=4))\n",
    "\n",
    "plt.figure(figsize=(4, 4))\n",
    "fpr, tpr, threshold = roc_curve(y_test, probs)\n",
    "plt.plot(fpr, tpr, marker='.', label='AUC = {:.4f}'.format(auc), color='orange')\n",
    "plt.title('ROC curve')\n",
    "plt.xlabel('False Positive Rate')\n",
    "plt.ylabel('True Positive Rate')\n",
    "plt.legend()\n",
    "plt.show()\n",
    "\n",
    "cf_matrix = confusion_matrix(y_test, y_pred)\n",
    "plt.figure(figsize=(3, 3))\n",
    "sns.heatmap(cf_matrix, annot=True, fmt=',.0f')\n",
    "plt.show()\n",
    "\n",
    "np.save('log/result_human_HmapLiver_DeepMSpeptide_fpr.npy', fpr)\n",
    "np.save('log/result_human_HmapLiver_DeepMSpeptide_tpr.npy', tpr)\n",
    "np.save('log/result_human_HmapLiver_DeepMSpeptide_threshold.npy', threshold)\n",
    "np.save('log/result_human_HmapLiver_DeepMSpeptide_prob.npy', probs)\n",
    "np.save('log/result_human_HmapLiver_DeepMSpeptide_true.npy', y_test)"
   ]
  },
  {
   "cell_type": "markdown",
   "id": "bcca8836",
   "metadata": {
    "ExecuteTime": {
     "end_time": "2022-10-31T07:39:43.417842Z",
     "start_time": "2022-10-31T07:39:43.415890Z"
    }
   },
   "source": [
    "# Yeast"
   ]
  },
  {
   "cell_type": "code",
   "execution_count": 9,
   "id": "aea3dc37",
   "metadata": {
    "ExecuteTime": {
     "end_time": "2023-03-19T15:14:25.942121Z",
     "start_time": "2023-03-19T15:11:41.035311Z"
    }
   },
   "outputs": [
    {
     "name": "stdout",
     "output_type": "stream",
     "text": [
      "Loading input peptides\n",
      "Succesfully loaded 553792 peptides and skipped 0\n",
      "553792/553792 [==============================] - 78s 141us/sample - loss: 0.7640 - acc: 0.6559 - binary_crossentropy: 0.7639\n",
      "Test Accuracy: [0.7639502766286516, 0.65585995, 0.7639499]\n",
      "Test AUC : 0.8522949203488934\n",
      "              precision    recall  f1-score   support\n",
      "\n",
      "       False     0.9911    0.6398    0.7776    520820\n",
      "        True     0.1377    0.9088    0.2392     32972\n",
      "\n",
      "    accuracy                         0.6559    553792\n",
      "   macro avg     0.5644    0.7743    0.5084    553792\n",
      "weighted avg     0.9403    0.6559    0.7456    553792\n",
      "\n"
     ]
    },
    {
     "data": {
      "image/png": "[encoded data removed]",
      "text/plain": [
       "<Figure size 288x288 with 1 Axes>"
      ]
     },
     "metadata": {
      "needs_background": "light"
     },
     "output_type": "display_data"
    },
    {
     "data": {
      "image/png": "[encoded data removed]",
      "text/plain": [
       "<Figure size 216x216 with 2 Axes>"
      ]
     },
     "metadata": {
      "needs_background": "light"
     },
     "output_type": "display_data"
    }
   ],
   "source": [
    "df_test = pd.concat([\n",
    "    pd.read_csv('/data/2021_SJH_detectability/data_cross_species/raw/yeast/DelPBP1/train.csv'),\n",
    "    pd.read_csv('/data/2021_SJH_detectability/data_cross_species/raw/yeast/DelPBP1/test.csv'),\n",
    "])\n",
    "df_test=df_test.merge(df_merge, how='left')\n",
    "df_test.Drop.fillna(False, inplace=True)\n",
    "idxes=df_test.loc[df_test.Drop==True].index\n",
    "df_test=df_test.drop(idxes, axis=0).reset_index(drop=True)\n",
    "df_test=df_test.drop(['Drop'],axis=1)\n",
    "df_test=df_test[['peptide', 'label']]#.drop_duplicates()\n",
    "\n",
    "print('Loading input peptides')\n",
    "file = df_test.peptide.values\n",
    "X_test, skipped,  lines = load_pep_and_codify(file, 81)\n",
    "y_test = df_test.label.values\n",
    "print('Succesfully loaded {0} peptides and skipped {1}'.format(len(lines), str(skipped)))\n",
    "\n",
    "probs = model_2_1D.predict(X_test)\n",
    "# probs = 1-probs\n",
    "y_pred = [1 if i>=0.5 else 0 for i in probs]\n",
    "acc = model_2_1D.evaluate(X_test, y_test)\n",
    "\n",
    "auc = roc_auc_score(y_test, probs)\n",
    "print('Test Accuracy: {}'.format(acc))\n",
    "print('Test AUC : {}'.format(auc))\n",
    "print(classification_report(y_test, y_pred, digits=4))\n",
    "\n",
    "plt.figure(figsize=(4, 4))\n",
    "fpr, tpr, threshold = roc_curve(y_test, probs)\n",
    "plt.plot(fpr, tpr, marker='.', label='AUC = {:.4f}'.format(auc), color='orange')\n",
    "plt.title('ROC curve')\n",
    "plt.xlabel('False Positive Rate')\n",
    "plt.ylabel('True Positive Rate')\n",
    "plt.legend()\n",
    "plt.show()\n",
    "\n",
    "cf_matrix = confusion_matrix(y_test, y_pred)\n",
    "plt.figure(figsize=(3, 3))\n",
    "sns.heatmap(cf_matrix, annot=True, fmt=',.0f')\n",
    "plt.show()\n",
    "\n",
    "np.save('log/result_yeast_DelPBP1_DeepMSpeptide_fpr.npy', fpr)\n",
    "np.save('log/result_yeast_DelPBP1_DeepMSpeptide_tpr.npy', tpr)\n",
    "np.save('log/result_yeast_DelPBP1_DeepMSpeptide_threshold.npy', threshold)\n",
    "np.save('log/result_yeast_DelPBP1_DeepMSpeptide_prob.npy', probs)\n",
    "np.save('log/result_yeast_DelPBP1_DeepMSpeptide_true.npy', y_test)"
   ]
  },
  {
   "cell_type": "code",
   "execution_count": 10,
   "id": "4d3a0ad2",
   "metadata": {
    "ExecuteTime": {
     "end_time": "2023-03-19T15:17:41.733480Z",
     "start_time": "2023-03-19T15:14:25.943915Z"
    }
   },
   "outputs": [
    {
     "name": "stdout",
     "output_type": "stream",
     "text": [
      "Loading input peptides\n",
      "Succesfully loaded 639938 peptides and skipped 0\n",
      "639938/639938 [==============================] - 89s 140us/sample - loss: 0.5936 - acc: 0.7168 - binary_crossentropy: 0.5936\n",
      "Test Accuracy: [0.59356744318874, 0.716846, 0.5935674]\n",
      "Test AUC : 0.9073123459716476\n",
      "              precision    recall  f1-score   support\n",
      "\n",
      "       False     0.9871    0.6864    0.8097    561782\n",
      "        True     0.2933    0.9358    0.4467     78156\n",
      "\n",
      "    accuracy                         0.7168    639938\n",
      "   macro avg     0.6402    0.8111    0.6282    639938\n",
      "weighted avg     0.9024    0.7168    0.7654    639938\n",
      "\n"
     ]
    },
    {
     "data": {
      "image/png": "[encoded data removed]",
      "text/plain": [
       "<Figure size 288x288 with 1 Axes>"
      ]
     },
     "metadata": {
      "needs_background": "light"
     },
     "output_type": "display_data"
    },
    {
     "data": {
      "image/png": "[encoded data removed]",
      "text/plain": [
       "<Figure size 216x216 with 2 Axes>"
      ]
     },
     "metadata": {
      "needs_background": "light"
     },
     "output_type": "display_data"
    }
   ],
   "source": [
    "df_test = pd.concat([\n",
    "    pd.read_csv('/data/2021_SJH_detectability/data_cross_species/raw/yeast/KLife/train.csv'),\n",
    "    pd.read_csv('/data/2021_SJH_detectability/data_cross_species/raw/yeast/KLife/test.csv'),\n",
    "])\n",
    "df_test=df_test.merge(df_merge, how='left')\n",
    "df_test.Drop.fillna(False, inplace=True)\n",
    "idxes=df_test.loc[df_test.Drop==True].index\n",
    "df_test=df_test.drop(idxes, axis=0).reset_index(drop=True)\n",
    "df_test=df_test.drop(['Drop'],axis=1)\n",
    "df_test=df_test[['peptide', 'label']]#.drop_duplicates()\n",
    "\n",
    "print('Loading input peptides')\n",
    "file = df_test.peptide.values\n",
    "X_test, skipped,  lines = load_pep_and_codify(file, 81)\n",
    "y_test = df_test.label.values\n",
    "print('Succesfully loaded {0} peptides and skipped {1}'.format(len(lines), str(skipped)))\n",
    "\n",
    "probs = model_2_1D.predict(X_test)\n",
    "# probs = 1-probs\n",
    "y_pred = [1 if i>=0.5 else 0 for i in probs]\n",
    "acc = model_2_1D.evaluate(X_test, y_test)\n",
    "\n",
    "auc = roc_auc_score(y_test, probs)\n",
    "print('Test Accuracy: {}'.format(acc))\n",
    "print('Test AUC : {}'.format(auc))\n",
    "print(classification_report(y_test, y_pred, digits=4))\n",
    "\n",
    "plt.figure(figsize=(4, 4))\n",
    "fpr, tpr, threshold = roc_curve(y_test, probs)\n",
    "plt.plot(fpr, tpr, marker='.', label='AUC = {:.4f}'.format(auc), color='orange')\n",
    "plt.title('ROC curve')\n",
    "plt.xlabel('False Positive Rate')\n",
    "plt.ylabel('True Positive Rate')\n",
    "plt.legend()\n",
    "plt.show()\n",
    "\n",
    "cf_matrix = confusion_matrix(y_test, y_pred)\n",
    "plt.figure(figsize=(3, 3))\n",
    "sns.heatmap(cf_matrix, annot=True, fmt=',.0f')\n",
    "plt.show()\n",
    "\n",
    "np.save('log/result_yeast_KLife_DeepMSpeptide_fpr.npy', fpr)\n",
    "np.save('log/result_yeast_KLife_DeepMSpeptide_tpr.npy', tpr)\n",
    "np.save('log/result_yeast_KLife_DeepMSpeptide_threshold.npy', threshold)\n",
    "np.save('log/result_yeast_KLife_DeepMSpeptide_prob.npy', probs)\n",
    "np.save('log/result_yeast_KLife_DeepMSpeptide_true.npy', y_test)"
   ]
  },
  {
   "cell_type": "code",
   "execution_count": null,
   "id": "13963bc6",
   "metadata": {},
   "outputs": [],
   "source": []
  }
 ],
 "metadata": {
  "kernelspec": {
   "display_name": "TF1.14",
   "language": "python",
   "name": "tf1.14"
  },
  "language_info": {
   "codemirror_mode": {
    "name": "ipython",
    "version": 3
   },
   "file_extension": ".py",
   "mimetype": "text/x-python",
   "name": "python",
   "nbconvert_exporter": "python",
   "pygments_lexer": "ipython3",
   "version": "3.6.13"
  }
 },
 "nbformat": 4,
 "nbformat_minor": 5
}
