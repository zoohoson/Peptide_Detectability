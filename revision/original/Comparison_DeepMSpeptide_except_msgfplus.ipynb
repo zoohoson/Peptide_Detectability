{
 "cells": [
  {
   "cell_type": "code",
   "execution_count": 1,
   "id": "041a6739",
   "metadata": {
    "ExecuteTime": {
     "end_time": "2023-03-19T16:58:37.529788Z",
     "start_time": "2023-03-19T16:58:35.318679Z"
    }
   },
   "outputs": [
    {
     "name": "stdout",
     "output_type": "stream",
     "text": [
      "WARNING:tensorflow:From /home/bis/2021_SJH_detectability/DbyDeep/RefModel/model_DeepMSpeptide.py:14: The name tf.enable_eager_execution is deprecated. Please use tf.compat.v1.enable_eager_execution instead.\n",
      "\n"
     ]
    }
   ],
   "source": [
    "import os\n",
    "os.environ[\"CUDA_VISIBLE_DEVICES\"]='2'\n",
    "\n",
    "import warnings\n",
    "warnings.simplefilter(action='ignore', category=FutureWarning)\n",
    "\n",
    "import pandas as pd\n",
    "import numpy as np\n",
    "import tensorflow as tf\n",
    "from tensorflow import keras\n",
    "\n",
    "import matplotlib.pyplot as plt\n",
    "import seaborn as sns\n",
    "\n",
    "from sklearn.metrics import roc_curve, roc_auc_score, classification_report, confusion_matrix, accuracy_score\n",
    "\n",
    "import sys\n",
    "sys.path.append('/home/bis/2021_SJH_detectability/DbyDeep')\n",
    "from RefModel.model_DeepMSpeptide import load_pep_and_codify"
   ]
  },
  {
   "cell_type": "code",
   "execution_count": 2,
   "id": "5c37f788",
   "metadata": {
    "ExecuteTime": {
     "end_time": "2023-03-19T16:58:38.834075Z",
     "start_time": "2023-03-19T16:58:37.533250Z"
    }
   },
   "outputs": [
    {
     "name": "stdout",
     "output_type": "stream",
     "text": [
      "Loading model...\n",
      "WARNING:tensorflow:From /home/bis/miniconda3/envs/TF1.14/lib/python3.6/site-packages/tensorflow/python/ops/math_grad.py:1250: add_dispatch_support.<locals>.wrapper (from tensorflow.python.ops.array_ops) is deprecated and will be removed in a future version.\n",
      "Instructions for updating:\n",
      "Use tf.where in 2.0, which has the same broadcast rule as np.where\n",
      "WARNING:tensorflow:Error in loading the saved optimizer state. As a result, your model is starting with a freshly initialized optimizer.\n"
     ]
    }
   ],
   "source": [
    "print('Loading model...')\n",
    "model_2_1D = keras.models.load_model('/home/bis/2021_SJH_detectability/DbyDeep/RefModel/2019Bioinformatics_DeepMSPeptide/DeepMSPeptide/model_2_1D.h5')\n",
    "# retrained"
   ]
  },
  {
   "cell_type": "code",
   "execution_count": 3,
   "id": "2b01203c",
   "metadata": {
    "ExecuteTime": {
     "end_time": "2023-03-19T16:58:40.860289Z",
     "start_time": "2023-03-19T16:58:38.839081Z"
    }
   },
   "outputs": [],
   "source": [
    "df_massive=pd.read_csv('/data/2021_SJH_detectability/data_human/train.csv')\n",
    "df_hpp=pd.read_csv('/data/2021_SJH_detectability/data_human/HPP.csv')\n",
    "df_merge=pd.DataFrame(np.concatenate([df_massive.peptide.unique(), df_hpp.peptide.unique()]), columns=['peptide'])\n",
    "df_merge['Drop']=True"
   ]
  },
  {
   "cell_type": "markdown",
   "id": "a16fd587",
   "metadata": {},
   "source": [
    "# Cross species : Mouse"
   ]
  },
  {
   "cell_type": "code",
   "execution_count": 4,
   "id": "6e13c650",
   "metadata": {
    "ExecuteTime": {
     "end_time": "2023-03-19T17:08:12.078129Z",
     "start_time": "2023-03-19T16:58:40.862369Z"
    }
   },
   "outputs": [
    {
     "name": "stdout",
     "output_type": "stream",
     "text": [
      "Loading input peptides\n",
      "Succesfully loaded 1250166 peptides and skipped 0\n",
      "1250166/1250166 [==============================] - 290s 232us/sample - loss: 3.3018 - acc: 0.2736 - binary_crossentropy: 3.3018\n",
      "Test Accuracy: [3.301827424965288, 0.2735541, 3.3018217]\n",
      "Test AUC : 0.8552589261269842\n",
      "              precision    recall  f1-score   support\n",
      "\n",
      "       False     0.9930    0.7197    0.8345   1198253\n",
      "        True     0.1200    0.8822    0.2112     51913\n",
      "\n",
      "    accuracy                         0.7264   1250166\n",
      "   macro avg     0.5565    0.8009    0.5229   1250166\n",
      "weighted avg     0.9567    0.7264    0.8086   1250166\n",
      "\n"
     ]
    },
    {
     "data": {
      "image/png": "[encoded data removed]",
      "text/plain": [
       "<Figure size 288x288 with 1 Axes>"
      ]
     },
     "metadata": {
      "needs_background": "light"
     },
     "output_type": "display_data"
    },
    {
     "data": {
      "image/png": "[encoded data removed]",
      "text/plain": [
       "<Figure size 216x216 with 2 Axes>"
      ]
     },
     "metadata": {
      "needs_background": "light"
     },
     "output_type": "display_data"
    }
   ],
   "source": [
    "df_test = pd.read_csv('/data/2021_SJH_detectability/diff_tool/mouse_eph4/data.csv')\n",
    "df_test=df_test.merge(df_merge, how='left')\n",
    "df_test.Drop.fillna(False, inplace=True)\n",
    "idxes=df_test.loc[df_test.Drop==True].index\n",
    "df_test=df_test.drop(idxes, axis=0).reset_index(drop=True)\n",
    "df_test=df_test.drop(['Drop'],axis=1)\n",
    "df_test=df_test[['peptide', 'label']]#.drop_duplicates()\n",
    "\n",
    "df_test = df_test[df_test.peptide.apply(lambda x: 'B' not in x)].reset_index(drop=True)\n",
    "df_test = df_test[df_test.peptide.apply(lambda x: 'Z' not in x)].reset_index(drop=True)\n",
    "\n",
    "print('Loading input peptides')\n",
    "file = df_test.peptide.values\n",
    "X_test, skipped,  lines = load_pep_and_codify(file, 81)\n",
    "y_test = df_test.label.values\n",
    "print('Succesfully loaded {0} peptides and skipped {1}'.format(len(lines), str(skipped)))\n",
    "\n",
    "probs = model_2_1D.predict(X_test)\n",
    "probs = 1-probs\n",
    "y_pred = [1 if i>=0.5 else 0 for i in probs]\n",
    "acc = model_2_1D.evaluate(X_test, y_test)\n",
    "\n",
    "auc = roc_auc_score(y_test, probs)\n",
    "print('Test Accuracy: {}'.format(acc))\n",
    "print('Test AUC : {}'.format(auc))\n",
    "print(classification_report(y_test, y_pred, digits=4))\n",
    "\n",
    "plt.figure(figsize=(4, 4))\n",
    "fpr, tpr, threshold = roc_curve(y_test, probs)\n",
    "plt.plot(fpr, tpr, marker='.', label='AUC = {:.4f}'.format(auc), color='orange')\n",
    "plt.title('ROC curve')\n",
    "plt.xlabel('False Positive Rate')\n",
    "plt.ylabel('True Positive Rate')\n",
    "plt.legend()\n",
    "plt.show()\n",
    "\n",
    "cf_matrix = confusion_matrix(y_test, y_pred)\n",
    "plt.figure(figsize=(3, 3))\n",
    "sns.heatmap(cf_matrix, annot=True, fmt=',.0f')\n",
    "plt.show()\n",
    "\n",
    "np.save('log/result_mouse_KLife_DeepMSpeptide_fpr.npy', fpr)\n",
    "np.save('log/result_mouse_KLife_DeepMSpeptide_tpr.npy', tpr)\n",
    "np.save('log/result_mouse_KLife_DeepMSpeptide_threshold.npy', threshold)\n",
    "np.save('log/result_mouse_KLife_DeepMSpeptide_prob.npy', probs)\n",
    "np.save('log/result_mouse_KLife_DeepMSpeptide_true.npy', y_test)"
   ]
  },
  {
   "cell_type": "code",
   "execution_count": 5,
   "id": "c8e385f3",
   "metadata": {
    "ExecuteTime": {
     "end_time": "2023-03-19T17:17:33.430917Z",
     "start_time": "2023-03-19T17:08:12.084577Z"
    }
   },
   "outputs": [
    {
     "name": "stdout",
     "output_type": "stream",
     "text": [
      "Loading input peptides\n",
      "Succesfully loaded 1134618 peptides and skipped 0\n",
      "1134618/1134618 [==============================] - 271s 239us/sample - loss: 3.2766 - acc: 0.2803 - binary_crossentropy: 3.2766\n",
      "Test Accuracy: [3.2765545609857165, 0.280267, 3.2765524]\n",
      "Test AUC : 0.8264402203589566\n",
      "              precision    recall  f1-score   support\n",
      "\n",
      "       False     0.9897    0.7153    0.8304   1088363\n",
      "        True     0.1096    0.8244    0.1934     46255\n",
      "\n",
      "    accuracy                         0.7197   1134618\n",
      "   macro avg     0.5496    0.7698    0.5119   1134618\n",
      "weighted avg     0.9538    0.7197    0.8044   1134618\n",
      "\n"
     ]
    },
    {
     "data": {
      "image/png": "[encoded data removed]",
      "text/plain": [
       "<Figure size 288x288 with 1 Axes>"
      ]
     },
     "metadata": {
      "needs_background": "light"
     },
     "output_type": "display_data"
    },
    {
     "data": {
      "image/png": "[encoded data removed]",
      "text/plain": [
       "<Figure size 216x216 with 2 Axes>"
      ]
     },
     "metadata": {
      "needs_background": "light"
     },
     "output_type": "display_data"
    }
   ],
   "source": [
    "df_test = pd.read_csv('/data/2021_SJH_detectability/diff_tool/mouse_tmuscle/data.csv')\n",
    "df_test=df_test.merge(df_merge, how='left')\n",
    "df_test.Drop.fillna(False, inplace=True)\n",
    "idxes=df_test.loc[df_test.Drop==True].index\n",
    "df_test=df_test.drop(idxes, axis=0).reset_index(drop=True)\n",
    "df_test=df_test.drop(['Drop'],axis=1)\n",
    "df_test=df_test[['peptide', 'label']]#.drop_duplicates()\n",
    "\n",
    "df_test = df_test[df_test.peptide.apply(lambda x: 'B' not in x)].reset_index(drop=True)\n",
    "df_test = df_test[df_test.peptide.apply(lambda x: 'Z' not in x)].reset_index(drop=True)\n",
    "\n",
    "print('Loading input peptides')\n",
    "file = df_test.peptide.values\n",
    "X_test, skipped,  lines = load_pep_and_codify(file, 81)\n",
    "y_test = df_test.label.values\n",
    "print('Succesfully loaded {0} peptides and skipped {1}'.format(len(lines), str(skipped)))\n",
    "\n",
    "probs = model_2_1D.predict(X_test)\n",
    "probs = 1-probs\n",
    "y_pred = [1 if i>=0.5 else 0 for i in probs]\n",
    "acc = model_2_1D.evaluate(X_test, y_test)\n",
    "\n",
    "auc = roc_auc_score(y_test, probs)\n",
    "print('Test Accuracy: {}'.format(acc))\n",
    "print('Test AUC : {}'.format(auc))\n",
    "print(classification_report(y_test, y_pred, digits=4))\n",
    "\n",
    "plt.figure(figsize=(4, 4))\n",
    "fpr, tpr, threshold = roc_curve(y_test, probs)\n",
    "plt.plot(fpr, tpr, marker='.', label='AUC = {:.4f}'.format(auc), color='orange')\n",
    "plt.title('ROC curve')\n",
    "plt.xlabel('False Positive Rate')\n",
    "plt.ylabel('True Positive Rate')\n",
    "plt.legend()\n",
    "plt.show()\n",
    "\n",
    "cf_matrix = confusion_matrix(y_test, y_pred)\n",
    "plt.figure(figsize=(3, 3))\n",
    "sns.heatmap(cf_matrix, annot=True, fmt=',.0f')\n",
    "plt.show()\n",
    "\n",
    "np.save('log/result_mouse_SkeletaMuscle_DeepMSpeptide_fpr.npy', fpr)\n",
    "np.save('log/result_mouse_SkeletaMuscle_DeepMSpeptide_tpr.npy', tpr)\n",
    "np.save('log/result_mouse_SkeletaMuscle_DeepMSpeptide_threshold.npy', threshold)\n",
    "np.save('log/result_mouse_SkeletaMuscle_DeepMSpeptide_prob.npy', probs)\n",
    "np.save('log/result_mouse_SkeletaMuscle_DeepMSpeptide_true.npy', y_test)"
   ]
  },
  {
   "cell_type": "markdown",
   "id": "3cd28dfc",
   "metadata": {},
   "source": [
    "# Cross species : Human"
   ]
  },
  {
   "cell_type": "code",
   "execution_count": 6,
   "id": "4c734f5e",
   "metadata": {
    "ExecuteTime": {
     "end_time": "2023-03-19T17:22:58.370274Z",
     "start_time": "2023-03-19T17:17:33.433847Z"
    }
   },
   "outputs": [
    {
     "name": "stdout",
     "output_type": "stream",
     "text": [
      "Loading input peptides\n",
      "Succesfully loaded 1281061 peptides and skipped 0\n",
      "Test AUC : 0.8279226888817048\n",
      "              precision    recall  f1-score   support\n",
      "\n",
      "       False     0.9897    0.7485    0.8524   1236318\n",
      "        True     0.1015    0.7847    0.1797     44743\n",
      "\n",
      "    accuracy                         0.7498   1281061\n",
      "   macro avg     0.5456    0.7666    0.5160   1281061\n",
      "weighted avg     0.9587    0.7498    0.8289   1281061\n",
      "\n"
     ]
    },
    {
     "data": {
      "image/png": "[encoded data removed]",
      "text/plain": [
       "<Figure size 288x288 with 1 Axes>"
      ]
     },
     "metadata": {
      "needs_background": "light"
     },
     "output_type": "display_data"
    },
    {
     "data": {
      "image/png": "[encoded data removed]",
      "text/plain": [
       "<Figure size 216x216 with 2 Axes>"
      ]
     },
     "metadata": {
      "needs_background": "light"
     },
     "output_type": "display_data"
    }
   ],
   "source": [
    "df_test = pd.read_csv('/data/2021_SJH_detectability/diff_tool/human_hek293/data.csv')\n",
    "df_test=df_test.merge(df_merge, how='left')\n",
    "df_test.Drop.fillna(False, inplace=True)\n",
    "idxes=df_test.loc[df_test.Drop==True].index\n",
    "df_test=df_test.drop(idxes, axis=0).reset_index(drop=True)\n",
    "df_test=df_test.drop(['Drop'],axis=1)\n",
    "df_test=df_test[['peptide', 'label']]#.drop_duplicates()\n",
    "\n",
    "print('Loading input peptides')\n",
    "file = df_test.peptide.values\n",
    "X_test, skipped,  lines = load_pep_and_codify(file, 81)\n",
    "y_test = df_test.label.values\n",
    "print('Succesfully loaded {0} peptides and skipped {1}'.format(len(lines), str(skipped)))\n",
    "\n",
    "probs = model_2_1D.predict(X_test)\n",
    "probs = 1-probs\n",
    "y_pred = [1 if i >= 0.5 else 0 for i in probs]\n",
    "# acc = model_2_1D.evaluate(X_test, y_test)\n",
    "\n",
    "auc = roc_auc_score(y_test, probs)\n",
    "# print('Test Accuracy: {}'.format(acc))\n",
    "print('Test AUC : {}'.format(auc))\n",
    "print(classification_report(y_test, y_pred, digits=4))\n",
    "\n",
    "plt.figure(figsize=(4, 4))\n",
    "fpr, tpr, threshold = roc_curve(y_test, probs)\n",
    "plt.plot(fpr, tpr, marker='.', label='AUC = {:.4f}'.format(auc), color='orange')\n",
    "plt.title('ROC curve')\n",
    "plt.xlabel('False Positive Rate')\n",
    "plt.ylabel('True Positive Rate')\n",
    "plt.legend()\n",
    "plt.show()\n",
    "\n",
    "cf_matrix = confusion_matrix(y_test, y_pred)\n",
    "plt.figure(figsize=(3, 3))\n",
    "sns.heatmap(cf_matrix, annot=True, fmt=',.0f')\n",
    "plt.show()\n",
    "\n",
    "np.save('log/result_human_HEK293_DeepMSpeptide_fpr.npy', fpr)\n",
    "np.save('log/result_human_HEK293_DeepMSpeptide_tpr.npy', tpr)\n",
    "np.save('log/result_human_HEK293_DeepMSpeptide_threshold.npy', threshold)\n",
    "np.save('log/result_human_HEK293_DeepMSpeptide_prob.npy', probs)\n",
    "np.save('log/result_human_HEK293_DeepMSpeptide_true.npy', y_test)"
   ]
  },
  {
   "cell_type": "code",
   "execution_count": 7,
   "id": "182a4073",
   "metadata": {
    "ExecuteTime": {
     "end_time": "2023-03-19T17:25:46.338426Z",
     "start_time": "2023-03-19T17:22:58.372191Z"
    }
   },
   "outputs": [
    {
     "name": "stdout",
     "output_type": "stream",
     "text": [
      "Loading input peptides\n",
      "Succesfully loaded 749788 peptides and skipped 0\n",
      "Test AUC : 0.8429924389892769\n",
      "              precision    recall  f1-score   support\n",
      "\n",
      "       False     0.9946    0.7497    0.8550    733958\n",
      "        True     0.0653    0.8111    0.1209     15830\n",
      "\n",
      "    accuracy                         0.7510    749788\n",
      "   macro avg     0.5300    0.7804    0.4879    749788\n",
      "weighted avg     0.9750    0.7510    0.8395    749788\n",
      "\n"
     ]
    },
    {
     "data": {
      "image/png": "[encoded data removed]",
      "text/plain": [
       "<Figure size 288x288 with 1 Axes>"
      ]
     },
     "metadata": {
      "needs_background": "light"
     },
     "output_type": "display_data"
    },
    {
     "data": {
      "image/png": "[encoded data removed]",
      "text/plain": [
       "<Figure size 216x216 with 2 Axes>"
      ]
     },
     "metadata": {
      "needs_background": "light"
     },
     "output_type": "display_data"
    }
   ],
   "source": [
    "df_test = pd.read_csv('/data/2021_SJH_detectability/diff_tool/human_liver/data.csv')\n",
    "df_test=df_test.merge(df_merge, how='left')\n",
    "df_test.Drop.fillna(False, inplace=True)\n",
    "idxes=df_test.loc[df_test.Drop==True].index\n",
    "df_test=df_test.drop(idxes, axis=0).reset_index(drop=True)\n",
    "df_test=df_test.drop(['Drop'],axis=1)\n",
    "df_test=df_test[['peptide', 'label']]#.drop_duplicates()\n",
    "\n",
    "print('Loading input peptides')\n",
    "file = df_test.peptide.values\n",
    "X_test, skipped,  lines = load_pep_and_codify(file, 81)\n",
    "y_test = df_test.label.values\n",
    "print('Succesfully loaded {0} peptides and skipped {1}'.format(len(lines), str(skipped)))\n",
    "\n",
    "probs = model_2_1D.predict(X_test)\n",
    "probs = 1-probs\n",
    "y_pred = [1 if i >= 0.5 else 0 for i in probs]\n",
    "# acc = model_2_1D.evaluate(X_test, y_test)\n",
    "\n",
    "auc = roc_auc_score(y_test, probs)\n",
    "# print('Test Accuracy: {}'.format(acc))\n",
    "print('Test AUC : {}'.format(auc))\n",
    "print(classification_report(y_test, y_pred, digits=4))\n",
    "\n",
    "plt.figure(figsize=(4, 4))\n",
    "fpr, tpr, threshold = roc_curve(y_test, probs)\n",
    "plt.plot(fpr, tpr, marker='.', label='AUC = {:.4f}'.format(auc), color='orange')\n",
    "plt.title('ROC curve')\n",
    "plt.xlabel('False Positive Rate')\n",
    "plt.ylabel('True Positive Rate')\n",
    "plt.legend()\n",
    "plt.show()\n",
    "\n",
    "cf_matrix = confusion_matrix(y_test, y_pred)\n",
    "plt.figure(figsize=(3, 3))\n",
    "sns.heatmap(cf_matrix, annot=True, fmt=',.0f')\n",
    "plt.show()\n",
    "\n",
    "np.save('log/result_human_HmapLiver_DeepMSpeptide_fpr.npy', fpr)\n",
    "np.save('log/result_human_HmapLiver_DeepMSpeptide_tpr.npy', tpr)\n",
    "np.save('log/result_human_HmapLiver_DeepMSpeptide_threshold.npy', threshold)\n",
    "np.save('log/result_human_HmapLiver_DeepMSpeptide_prob.npy', probs)\n",
    "np.save('log/result_human_HmapLiver_DeepMSpeptide_true.npy', y_test)"
   ]
  },
  {
   "cell_type": "markdown",
   "id": "bcca8836",
   "metadata": {
    "ExecuteTime": {
     "end_time": "2022-10-31T07:39:43.417842Z",
     "start_time": "2022-10-31T07:39:43.415890Z"
    }
   },
   "source": [
    "# Yeast"
   ]
  },
  {
   "cell_type": "code",
   "execution_count": 8,
   "id": "aea3dc37",
   "metadata": {
    "ExecuteTime": {
     "end_time": "2023-03-19T17:30:16.265070Z",
     "start_time": "2023-03-19T17:25:46.340761Z"
    }
   },
   "outputs": [
    {
     "name": "stdout",
     "output_type": "stream",
     "text": [
      "Loading input peptides\n",
      "Succesfully loaded 640574 peptides and skipped 0\n",
      "640574/640574 [==============================] - 133s 207us/sample - loss: 3.0765 - acc: 0.2563 - binary_crossentropy: 3.0765\n",
      "Test Accuracy: [3.076533749827488, 0.25629047, 3.076522]\n",
      "Test AUC : 0.8527066316258957\n",
      "              precision    recall  f1-score   support\n",
      "\n",
      "       False     0.9735    0.7251    0.8312    557294\n",
      "        True     0.3206    0.8680    0.4682     83280\n",
      "\n",
      "    accuracy                         0.7437    640574\n",
      "   macro avg     0.6471    0.7965    0.6497    640574\n",
      "weighted avg     0.8886    0.7437    0.7840    640574\n",
      "\n"
     ]
    },
    {
     "data": {
      "image/png": "[encoded data removed]",
      "text/plain": [
       "<Figure size 288x288 with 1 Axes>"
      ]
     },
     "metadata": {
      "needs_background": "light"
     },
     "output_type": "display_data"
    },
    {
     "data": {
      "image/png": "[encoded data removed]",
      "text/plain": [
       "<Figure size 216x216 with 2 Axes>"
      ]
     },
     "metadata": {
      "needs_background": "light"
     },
     "output_type": "display_data"
    }
   ],
   "source": [
    "df_test = pd.read_csv('/data/2021_SJH_detectability/diff_tool/yeast_23/data.csv')\n",
    "df_test=df_test.merge(df_merge, how='left')\n",
    "df_test.Drop.fillna(False, inplace=True)\n",
    "idxes=df_test.loc[df_test.Drop==True].index\n",
    "df_test=df_test.drop(idxes, axis=0).reset_index(drop=True)\n",
    "df_test=df_test.drop(['Drop'],axis=1)\n",
    "df_test=df_test[['peptide', 'label']]#.drop_duplicates()\n",
    "\n",
    "print('Loading input peptides')\n",
    "file = df_test.peptide.values\n",
    "X_test, skipped,  lines = load_pep_and_codify(file, 81)\n",
    "y_test = df_test.label.values\n",
    "print('Succesfully loaded {0} peptides and skipped {1}'.format(len(lines), str(skipped)))\n",
    "\n",
    "probs = model_2_1D.predict(X_test)\n",
    "probs = 1-probs\n",
    "y_pred = [1 if i>=0.5 else 0 for i in probs]\n",
    "acc = model_2_1D.evaluate(X_test, y_test)\n",
    "\n",
    "auc = roc_auc_score(y_test, probs)\n",
    "print('Test Accuracy: {}'.format(acc))\n",
    "print('Test AUC : {}'.format(auc))\n",
    "print(classification_report(y_test, y_pred, digits=4))\n",
    "\n",
    "plt.figure(figsize=(4, 4))\n",
    "fpr, tpr, threshold = roc_curve(y_test, probs)\n",
    "plt.plot(fpr, tpr, marker='.', label='AUC = {:.4f}'.format(auc), color='orange')\n",
    "plt.title('ROC curve')\n",
    "plt.xlabel('False Positive Rate')\n",
    "plt.ylabel('True Positive Rate')\n",
    "plt.legend()\n",
    "plt.show()\n",
    "\n",
    "cf_matrix = confusion_matrix(y_test, y_pred)\n",
    "plt.figure(figsize=(3, 3))\n",
    "sns.heatmap(cf_matrix, annot=True, fmt=',.0f')\n",
    "plt.show()\n",
    "\n",
    "np.save('log/result_yeast_DelPBP1_DeepMSpeptide_fpr.npy', fpr)\n",
    "np.save('log/result_yeast_DelPBP1_DeepMSpeptide_tpr.npy', tpr)\n",
    "np.save('log/result_yeast_DelPBP1_DeepMSpeptide_threshold.npy', threshold)\n",
    "np.save('log/result_yeast_DelPBP1_DeepMSpeptide_prob.npy', probs)\n",
    "np.save('log/result_yeast_DelPBP1_DeepMSpeptide_true.npy', y_test)"
   ]
  },
  {
   "cell_type": "code",
   "execution_count": 9,
   "id": "4d3a0ad2",
   "metadata": {
    "ExecuteTime": {
     "end_time": "2023-03-19T17:34:30.474893Z",
     "start_time": "2023-03-19T17:30:16.267340Z"
    }
   },
   "outputs": [
    {
     "name": "stdout",
     "output_type": "stream",
     "text": [
      "Loading input peptides\n",
      "Succesfully loaded 588836 peptides and skipped 0\n",
      "588836/588836 [==============================] - 122s 208us/sample - loss: 2.9544 - acc: 0.3215 - binary_crossentropy: 2.9544\n",
      "Test Accuracy: [2.954350151397099, 0.32145452, 2.9543548]\n",
      "Test AUC : 0.7802919698171726\n",
      "              precision    recall  f1-score   support\n",
      "\n",
      "       False     0.9803    0.6724    0.7977    554951\n",
      "        True     0.1267    0.7787    0.2180     33885\n",
      "\n",
      "    accuracy                         0.6785    588836\n",
      "   macro avg     0.5535    0.7255    0.5079    588836\n",
      "weighted avg     0.9312    0.6785    0.7643    588836\n",
      "\n"
     ]
    },
    {
     "data": {
      "image/png": "[encoded data removed]",
      "text/plain": [
       "<Figure size 288x288 with 1 Axes>"
      ]
     },
     "metadata": {
      "needs_background": "light"
     },
     "output_type": "display_data"
    },
    {
     "data": {
      "image/png": "[encoded data removed]",
      "text/plain": [
       "<Figure size 216x216 with 2 Axes>"
      ]
     },
     "metadata": {
      "needs_background": "light"
     },
     "output_type": "display_data"
    }
   ],
   "source": [
    "df_test = pd.read_csv('/data/2021_SJH_detectability/diff_tool/yeast_25/data.csv')\n",
    "df_test=df_test.merge(df_merge, how='left')\n",
    "df_test.Drop.fillna(False, inplace=True)\n",
    "idxes=df_test.loc[df_test.Drop==True].index\n",
    "df_test=df_test.drop(idxes, axis=0).reset_index(drop=True)\n",
    "df_test=df_test.drop(['Drop'],axis=1)\n",
    "df_test=df_test[['peptide', 'label']]#.drop_duplicates()\n",
    "\n",
    "print('Loading input peptides')\n",
    "file = df_test.peptide.values\n",
    "X_test, skipped,  lines = load_pep_and_codify(file, 81)\n",
    "y_test = df_test.label.values\n",
    "print('Succesfully loaded {0} peptides and skipped {1}'.format(len(lines), str(skipped)))\n",
    "\n",
    "probs = model_2_1D.predict(X_test)\n",
    "probs = 1-probs\n",
    "y_pred = [1 if i>=0.5 else 0 for i in probs]\n",
    "acc = model_2_1D.evaluate(X_test, y_test)\n",
    "\n",
    "auc = roc_auc_score(y_test, probs)\n",
    "print('Test Accuracy: {}'.format(acc))\n",
    "print('Test AUC : {}'.format(auc))\n",
    "print(classification_report(y_test, y_pred, digits=4))\n",
    "\n",
    "plt.figure(figsize=(4, 4))\n",
    "fpr, tpr, threshold = roc_curve(y_test, probs)\n",
    "plt.plot(fpr, tpr, marker='.', label='AUC = {:.4f}'.format(auc), color='orange')\n",
    "plt.title('ROC curve')\n",
    "plt.xlabel('False Positive Rate')\n",
    "plt.ylabel('True Positive Rate')\n",
    "plt.legend()\n",
    "plt.show()\n",
    "\n",
    "cf_matrix = confusion_matrix(y_test, y_pred)\n",
    "plt.figure(figsize=(3, 3))\n",
    "sns.heatmap(cf_matrix, annot=True, fmt=',.0f')\n",
    "plt.show()\n",
    "\n",
    "np.save('log/result_yeast_KLife_DeepMSpeptide_fpr.npy', fpr)\n",
    "np.save('log/result_yeast_KLife_DeepMSpeptide_tpr.npy', tpr)\n",
    "np.save('log/result_yeast_KLife_DeepMSpeptide_threshold.npy', threshold)\n",
    "np.save('log/result_yeast_KLife_DeepMSpeptide_prob.npy', probs)\n",
    "np.save('log/result_yeast_KLife_DeepMSpeptide_true.npy', y_test)"
   ]
  },
  {
   "cell_type": "code",
   "execution_count": null,
   "id": "13963bc6",
   "metadata": {},
   "outputs": [],
   "source": []
  }
 ],
 "metadata": {
  "kernelspec": {
   "display_name": "TF1.14",
   "language": "python",
   "name": "tf1.14"
  },
  "language_info": {
   "codemirror_mode": {
    "name": "ipython",
    "version": 3
   },
   "file_extension": ".py",
   "mimetype": "text/x-python",
   "name": "python",
   "nbconvert_exporter": "python",
   "pygments_lexer": "ipython3",
   "version": "3.6.13"
  }
 },
 "nbformat": 4,
 "nbformat_minor": 5
}
