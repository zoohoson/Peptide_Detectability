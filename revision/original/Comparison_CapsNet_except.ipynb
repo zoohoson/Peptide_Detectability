{
 "cells": [
  {
   "cell_type": "code",
   "execution_count": 1,
   "id": "4e6f5486",
   "metadata": {
    "ExecuteTime": {
     "end_time": "2023-03-19T16:42:20.716322Z",
     "start_time": "2023-03-19T16:42:20.705029Z"
    }
   },
   "outputs": [],
   "source": [
    "import os\n",
    "os.environ[\"CUDA_VISIBLE_DEVICES\"]='2'"
   ]
  },
  {
   "cell_type": "code",
   "execution_count": 2,
   "id": "3a8ab587",
   "metadata": {
    "ExecuteTime": {
     "end_time": "2023-03-19T16:42:22.816248Z",
     "start_time": "2023-03-19T16:42:21.097184Z"
    }
   },
   "outputs": [
    {
     "data": {
      "text/plain": [
       "device(type='cuda')"
      ]
     },
     "execution_count": 2,
     "metadata": {},
     "output_type": "execute_result"
    }
   ],
   "source": [
    "import pandas as pd\n",
    "import numpy as np\n",
    "import matplotlib.pyplot as plt\n",
    "import seaborn as sns\n",
    "\n",
    "from sklearn import metrics\n",
    "from sklearn.metrics import classification_report, confusion_matrix, roc_curve, roc_auc_score\n",
    "from sklearn.model_selection import train_test_split\n",
    "\n",
    "from torchtext import data, datasets\n",
    "from torchtext.vocab import Vectors\n",
    "from torch.nn import init\n",
    "from torch.autograd import Variable\n",
    "import torch\n",
    "import torch.nn as nn\n",
    "import torch.nn.functional as F\n",
    "import torch.optim as optim\n",
    "DEVICE = torch.device(\"cuda\" if torch.cuda.is_available() else \"cpu\")\n",
    "DEVICE"
   ]
  },
  {
   "cell_type": "code",
   "execution_count": 3,
   "id": "cf19e2bc",
   "metadata": {
    "ExecuteTime": {
     "end_time": "2023-03-19T16:43:21.948945Z",
     "start_time": "2023-03-19T16:43:06.845726Z"
    }
   },
   "outputs": [
    {
     "name": "stderr",
     "output_type": "stream",
     "text": [
      "/home/bis/miniconda3/envs/torch/lib/python3.6/site-packages/torchtext/data/field.py:150: UserWarning: Field class will be retired soon and moved to torchtext.legacy. Please see the most recent release notes for further information.\n",
      "  warnings.warn('{} class will be retired soon and moved to torchtext.legacy. Please see the most recent release notes for further information.'.format(self.__class__.__name__), UserWarning)\n",
      "/home/bis/miniconda3/envs/torch/lib/python3.6/site-packages/torchtext/data/example.py:68: UserWarning: Example class will be retired soon and moved to torchtext.legacy. Please see the most recent release notes for further information.\n",
      "  warnings.warn('Example class will be retired soon and moved to torchtext.legacy. Please see the most recent release notes for further information.', UserWarning)\n",
      "/home/bis/miniconda3/envs/torch/lib/python3.6/site-packages/torchtext/data/example.py:78: UserWarning: Example class will be retired soon and moved to torchtext.legacy. Please see the most recent release notes for further information.\n",
      "  warnings.warn('Example class will be retired soon and moved to torchtext.legacy. Please see the most recent release notes for further information.', UserWarning)\n"
     ]
    }
   ],
   "source": [
    "import sys\n",
    "sys.path.append('/home/bis/2021_SJH_detectability/DbyDeep')\n",
    "from RefModel.model_CapsNet import *"
   ]
  },
  {
   "cell_type": "markdown",
   "id": "c200b206",
   "metadata": {},
   "source": [
    "# 메모\n",
    "    - GPMDP training dataset은 7.5만개의 펩타이드로 구성, 반반 레이블링\n",
    "    - DeepMSPeptide, CapsNet 둘다 MOps를 0, LOps를 1로 레이블링해서 학습\n",
    "    - 추론할때 확률이 높을수록 디텍터블하지 않은 것임\n",
    "        - DeepMSpeptide의 경우 그래서 1-확률로 바꿔서 표현 (deepMSpeptide공식깃헙 문서에 그렇게 코딩되어있음.)\n",
    "        - CapsNet도 같은 학습셋을 쓰는데 MOps에 0으로 레이블 된 것 확인함"
   ]
  },
  {
   "cell_type": "code",
   "execution_count": 5,
   "id": "bdd4676d",
   "metadata": {
    "ExecuteTime": {
     "end_time": "2023-03-19T16:44:09.431215Z",
     "start_time": "2023-03-19T16:44:03.590621Z"
    }
   },
   "outputs": [
    {
     "data": {
      "text/plain": [
       "CapsuleNet(\n",
       "  (embedding): Embedding(22, 20)\n",
       "  (lstm): LSTM(20, 40, batch_first=True)\n",
       "  (conv1): Conv2d(1, 256, kernel_size=(9, 9), stride=(1, 1))\n",
       "  (conv3): Conv2d(1, 256, kernel_size=(8, 8), stride=(1, 1))\n",
       "  (cbamBlock): CBAMBlock(\n",
       "    (avg_pool): AdaptiveAvgPool2d(output_size=1)\n",
       "    (max_pool): AdaptiveMaxPool2d(output_size=1)\n",
       "    (channel_excitation): Sequential(\n",
       "      (0): Linear(in_features=256, out_features=16, bias=False)\n",
       "      (1): ReLU(inplace=True)\n",
       "      (2): Linear(in_features=16, out_features=256, bias=False)\n",
       "    )\n",
       "    (sigmoid): Sigmoid()\n",
       "    (spatial_excitation): Sequential(\n",
       "      (0): Conv2d(2, 1, kernel_size=(7, 7), stride=(1, 1), padding=(3, 3), bias=False)\n",
       "    )\n",
       "  )\n",
       "  (conv2): Conv2d(256, 256, kernel_size=(9, 9), stride=(2, 2))\n",
       "  (conv4): Conv2d(256, 256, kernel_size=(8, 8), stride=(2, 2))\n",
       "  (capsule): Capsule()\n",
       ")"
      ]
     },
     "execution_count": 5,
     "metadata": {},
     "output_type": "execute_result"
    }
   ],
   "source": [
    "def tokenizer(text): # create a tokenizer function\n",
    "    \"\"\"\n",
    "    定义分词操作\n",
    "    \"\"\"\n",
    "    return list(text)\n",
    "\n",
    "\n",
    "LABEL = data.Field(sequential=False, use_vocab=False)\n",
    "TEXT = data.Field(sequential=True, tokenize=tokenizer ,fix_length=45)\n",
    "original_train, original_val, original_test = data.TabularDataset.splits(\n",
    "        path='/home/bis/2021_SJH_detectability/DbyDeep/RefModel/2021MDPI_CapsNet/data/', train='train.csv', validation='train.csv',test='test.csv', format='csv',skip_header=True,\n",
    "        fields=[('Seqs', TEXT), ('Label', LABEL)])\n",
    "TEXT.build_vocab(original_train, original_val, original_test)\n",
    "\n",
    "model = CapsuleNet()\n",
    "\"\"\"\n",
    "将前面生成的词向量矩阵拷贝到模型的embedding层\n",
    "这样就自动的可以将输入的word index转为词向量\n",
    "\"\"\"\n",
    "# 训练\n",
    "model.to(DEVICE)\n",
    "# 训练\n",
    "optimizer = optim.Adam(model.parameters(),lr=0.001)\n",
    "\n",
    "n_class = 2\n",
    "\n",
    "model.load_state_dict(torch.load('/home/bis/2021_SJH_detectability/DbyDeep/RefModel/2021MDPI_CapsNet/model/params.pkl'))#, map_location='cpu'))\n",
    "model.eval()"
   ]
  },
  {
   "cell_type": "code",
   "execution_count": 6,
   "id": "8ee23382",
   "metadata": {
    "ExecuteTime": {
     "end_time": "2023-03-19T16:44:22.038821Z",
     "start_time": "2023-03-19T16:44:20.234534Z"
    }
   },
   "outputs": [],
   "source": [
    "df_massive=pd.read_csv('/data/2021_SJH_detectability/data_human/train.csv')\n",
    "df_hpp=pd.read_csv('/data/2021_SJH_detectability/data_human/HPP.csv')\n",
    "df_merge=pd.DataFrame(np.concatenate([df_massive.peptide.unique(), df_hpp.peptide.unique()]), columns=['peptide'])\n",
    "df_merge['Drop']=True"
   ]
  },
  {
   "cell_type": "markdown",
   "id": "8d215190",
   "metadata": {},
   "source": [
    "# Cross species - Mouse"
   ]
  },
  {
   "cell_type": "code",
   "execution_count": 7,
   "id": "6c0d912d",
   "metadata": {
    "ExecuteTime": {
     "end_time": "2023-03-19T23:43:43.046964Z",
     "start_time": "2023-03-19T16:46:35.473294Z"
    },
    "scrolled": false
   },
   "outputs": [
    {
     "name": "stderr",
     "output_type": "stream",
     "text": [
      "/home/bis/miniconda3/envs/torch/lib/python3.6/site-packages/torchtext/data/example.py:68: UserWarning: Example class will be retired soon and moved to torchtext.legacy. Please see the most recent release notes for further information.\n",
      "  warnings.warn('Example class will be retired soon and moved to torchtext.legacy. Please see the most recent release notes for further information.', UserWarning)\n",
      "/home/bis/miniconda3/envs/torch/lib/python3.6/site-packages/torchtext/data/example.py:78: UserWarning: Example class will be retired soon and moved to torchtext.legacy. Please see the most recent release notes for further information.\n",
      "  warnings.warn('Example class will be retired soon and moved to torchtext.legacy. Please see the most recent release notes for further information.', UserWarning)\n",
      "/home/bis/miniconda3/envs/torch/lib/python3.6/site-packages/torchtext/data/iterator.py:48: UserWarning: BucketIterator class will be retired soon and moved to torchtext.legacy. Please see the most recent release notes for further information.\n",
      "  warnings.warn('{} class will be retired soon and moved to torchtext.legacy. Please see the most recent release notes for further information.'.format(self.__class__.__name__), UserWarning)\n",
      "/home/bis/miniconda3/envs/torch/lib/python3.6/site-packages/torchtext/data/batch.py:23: UserWarning: Batch class will be retired soon and moved to torchtext.legacy. Please see the most recent release notes for further information.\n",
      "  warnings.warn('{} class will be retired soon and moved to torchtext.legacy. Please see the most recent release notes for further information.'.format(self.__class__.__name__), UserWarning)\n"
     ]
    },
    {
     "name": "stdout",
     "output_type": "stream",
     "text": [
      "TEST Accuracy : 0.1874568751366667\n",
      "TEST AUC : 0.16649117696759788\n",
      "              precision    recall  f1-score   support\n",
      "\n",
      "           0     0.8695    0.1828    0.3021   1245028\n",
      "           1     0.0145    0.3054    0.0278     49179\n",
      "\n",
      "    accuracy                         0.1875   1294207\n",
      "   macro avg     0.4420    0.2441    0.1649   1294207\n",
      "weighted avg     0.8370    0.1875    0.2917   1294207\n",
      "\n"
     ]
    },
    {
     "data": {
      "image/png": "[encoded data removed]",
      "text/plain": [
       "<Figure size 288x288 with 1 Axes>"
      ]
     },
     "metadata": {
      "needs_background": "light"
     },
     "output_type": "display_data"
    },
    {
     "data": {
      "image/png": "[encoded data removed]",
      "text/plain": [
       "<Figure size 216x216 with 2 Axes>"
      ]
     },
     "metadata": {
      "needs_background": "light"
     },
     "output_type": "display_data"
    }
   ],
   "source": [
    "from torchtext import data, datasets\n",
    "\n",
    "tmp = pd.concat([\n",
    "    pd.read_csv('/data/2021_SJH_detectability/data_cross_species/raw/mouse/KLife/train.csv'),\n",
    "    pd.read_csv('/data/2021_SJH_detectability/data_cross_species/raw/mouse/KLife/test.csv'),\n",
    "])\n",
    "tmp=tmp.merge(df_merge, how='left')\n",
    "tmp.Drop.fillna(False, inplace=True)\n",
    "idxes=tmp.loc[tmp.Drop==True].index\n",
    "tmp=tmp.drop(idxes, axis=0).reset_index(drop=True)\n",
    "tmp=tmp.drop(['Drop'],axis=1)\n",
    "tmp=tmp[['peptide', 'label']]#.drop_duplicates()\n",
    "\n",
    "tmp = tmp[tmp.peptide.apply(lambda x: 'B' not in x)].reset_index(drop=True)\n",
    "tmp = tmp[tmp.peptide.apply(lambda x: 'Z' not in x)].reset_index(drop=True)\n",
    "tmp = tmp.rename({'peptide': 'Seq','label': 'Label'}, axis=1)\n",
    "tmp['Label'] = tmp.Label.apply(lambda x: {True: 1, False:0}[x])\n",
    "tmp.to_csv('/home/bis/2021_SJH_detectability/DbyDeep/RefModel/2021MDPI_CapsNet/mouse_KLife_except.csv', index=False)\n",
    "\n",
    "train1,val1,test1 = data.TabularDataset.splits(\n",
    "        path='/home/bis/2021_SJH_detectability/DbyDeep/RefModel/2021MDPI_CapsNet/', train='mouse_KLife_except.csv',validation='mouse_KLife_except.csv',test='mouse_KLife_except.csv', format='csv',skip_header=True,\n",
    "        fields=[('Seqs', TEXT), ('Label', LABEL)])\n",
    "# TEXT.build_vocab(train1,val1,test1)\n",
    "test_iter = data.BucketIterator(val1, batch_size=32, sort_key=lambda x: len(x.Seqs), \n",
    "                                 shuffle=True,device=DEVICE)\n",
    "\n",
    "all_pred1 = []\n",
    "all_true1 = []\n",
    "all_p1 = []\n",
    "\n",
    "for batch_idx, batch in enumerate(test_iter):\n",
    "    data = batch.Seqs\n",
    "    data = data.permute(1, 0)\n",
    "    \n",
    "    out = model(data)\n",
    "    out = torch.sqrt(torch.sum(out * out, 2))\n",
    "    out1 = out[:, 1]\n",
    "    _, y_pre = torch.max(out, -1)\n",
    "    all_p1.extend(list(out1.cpu().detach().numpy()))\n",
    "    all_pred1.extend(list(y_pre.cpu().detach().numpy()))\n",
    "    all_true1.extend(list(batch.Label.cpu().detach().numpy()))\n",
    "\n",
    "all_pred1 = np.array(list(map(lambda x: x, np.array(all_pred1))))\n",
    "all_true1 = np.array(all_true1)\n",
    "all_p1 = np.array(list(map(lambda x: x, np.array(all_p1))))\n",
    "\n",
    "auc = roc_auc_score(all_true1, all_p1)\n",
    "acc = metrics.accuracy_score(all_true1,all_pred1)\n",
    "print('TEST Accuracy : {}'.format(acc))\n",
    "print('TEST AUC : {}'.format(auc))\n",
    "print(classification_report(all_true1, all_pred1, digits=4))\n",
    "\n",
    "plt.figure(figsize=(4, 4))\n",
    "fpr, tpr, threshold = roc_curve(all_true1, all_p1)\n",
    "plt.plot(fpr, tpr, marker='.', label='AUC = {:.4f}'.format(auc), color='orange')\n",
    "plt.title('ROC curve')\n",
    "plt.xlabel('False Positive Rate')\n",
    "plt.ylabel('True Positive Rate')\n",
    "plt.legend()\n",
    "plt.show()\n",
    "\n",
    "cf_matrix = confusion_matrix(all_true1, all_pred1)\n",
    "plt.figure(figsize=(3, 3))\n",
    "sns.heatmap(cf_matrix, annot=True, fmt=',.0f')\n",
    "plt.show()\n",
    "\n",
    "np.save('log/result_mouse_KLife_CapsNet_fpr.npy', fpr)\n",
    "np.save('log/result_mouse_KLife_CapsNet_tpr.npy', tpr)\n",
    "np.save('log/result_mouse_KLife_CapsNet_threshold.npy', threshold)\n",
    "np.save('log/result_mouse_KLife_CapsNet_prob.npy', all_p1)\n",
    "np.save('log/result_mouse_KLife_CapsNet_true.npy', all_true1)"
   ]
  },
  {
   "cell_type": "code",
   "execution_count": 8,
   "id": "aa170021",
   "metadata": {
    "ExecuteTime": {
     "end_time": "2023-03-20T06:02:48.231337Z",
     "start_time": "2023-03-19T23:43:43.048748Z"
    }
   },
   "outputs": [
    {
     "name": "stderr",
     "output_type": "stream",
     "text": [
      "/home/bis/miniconda3/envs/torch/lib/python3.6/site-packages/torchtext/data/example.py:68: UserWarning: Example class will be retired soon and moved to torchtext.legacy. Please see the most recent release notes for further information.\n",
      "  warnings.warn('Example class will be retired soon and moved to torchtext.legacy. Please see the most recent release notes for further information.', UserWarning)\n",
      "/home/bis/miniconda3/envs/torch/lib/python3.6/site-packages/torchtext/data/example.py:78: UserWarning: Example class will be retired soon and moved to torchtext.legacy. Please see the most recent release notes for further information.\n",
      "  warnings.warn('Example class will be retired soon and moved to torchtext.legacy. Please see the most recent release notes for further information.', UserWarning)\n",
      "/home/bis/miniconda3/envs/torch/lib/python3.6/site-packages/torchtext/data/iterator.py:48: UserWarning: BucketIterator class will be retired soon and moved to torchtext.legacy. Please see the most recent release notes for further information.\n",
      "  warnings.warn('{} class will be retired soon and moved to torchtext.legacy. Please see the most recent release notes for further information.'.format(self.__class__.__name__), UserWarning)\n",
      "/home/bis/miniconda3/envs/torch/lib/python3.6/site-packages/torchtext/data/batch.py:23: UserWarning: Batch class will be retired soon and moved to torchtext.legacy. Please see the most recent release notes for further information.\n",
      "  warnings.warn('{} class will be retired soon and moved to torchtext.legacy. Please see the most recent release notes for further information.'.format(self.__class__.__name__), UserWarning)\n"
     ]
    },
    {
     "name": "stdout",
     "output_type": "stream",
     "text": [
      "TEST Accuracy : 0.1940850359270492\n",
      "TEST AUC : 0.19850517898539388\n",
      "              precision    recall  f1-score   support\n",
      "\n",
      "           0     0.8775    0.1866    0.3078   1082017\n",
      "           1     0.0187    0.3733    0.0357     44989\n",
      "\n",
      "    accuracy                         0.1941   1127006\n",
      "   macro avg     0.4481    0.2800    0.1717   1127006\n",
      "weighted avg     0.8432    0.1941    0.2969   1127006\n",
      "\n"
     ]
    },
    {
     "data": {
      "image/png": "[encoded data removed]",
      "text/plain": [
       "<Figure size 288x288 with 1 Axes>"
      ]
     },
     "metadata": {
      "needs_background": "light"
     },
     "output_type": "display_data"
    },
    {
     "data": {
      "image/png": "[encoded data removed]",
      "text/plain": [
       "<Figure size 216x216 with 2 Axes>"
      ]
     },
     "metadata": {
      "needs_background": "light"
     },
     "output_type": "display_data"
    }
   ],
   "source": [
    "from torchtext import data, datasets\n",
    "\n",
    "tmp = pd.concat([\n",
    "    pd.read_csv('/data/2021_SJH_detectability/data_cross_species/raw/mouse/SkeletaMuscle/train.csv'),\n",
    "    pd.read_csv('/data/2021_SJH_detectability/data_cross_species/raw/mouse/SkeletaMuscle/test.csv'),\n",
    "])\n",
    "tmp=tmp.merge(df_merge, how='left')\n",
    "tmp.Drop.fillna(False, inplace=True)\n",
    "idxes=tmp.loc[tmp.Drop==True].index\n",
    "tmp=tmp.drop(idxes, axis=0).reset_index(drop=True)\n",
    "tmp=tmp.drop(['Drop'],axis=1)\n",
    "tmp=tmp[['peptide', 'label']]#.drop_duplicates()\n",
    "\n",
    "tmp = tmp[tmp.peptide.apply(lambda x: 'B' not in x)].reset_index(drop=True)\n",
    "tmp = tmp[tmp.peptide.apply(lambda x: 'Z' not in x)].reset_index(drop=True)\n",
    "tmp = tmp.rename({'peptide': 'Seq','label': 'Label'}, axis=1)\n",
    "tmp['Label'] = tmp.Label.apply(lambda x: {True: 1, False:0}[x])\n",
    "tmp.to_csv('/home/bis/2021_SJH_detectability/DbyDeep/RefModel/2021MDPI_CapsNet/mouse_SkeletaMuscle_except.csv', index=False)\n",
    "\n",
    "train1,val1,test1 = data.TabularDataset.splits(\n",
    "        path='/home/bis/2021_SJH_detectability/DbyDeep/RefModel/2021MDPI_CapsNet/', train='mouse_SkeletaMuscle_except.csv',validation='mouse_SkeletaMuscle_except.csv',test='mouse_SkeletaMuscle_except.csv', format='csv',skip_header=True,\n",
    "        fields=[('Seqs', TEXT), ('Label', LABEL)])\n",
    "# TEXT.build_vocab(train1,val1,test1)\n",
    "test_iter = data.BucketIterator(val1, batch_size=32, sort_key=lambda x: len(x.Seqs), \n",
    "                                 shuffle=True,device=DEVICE)\n",
    "\n",
    "all_pred1 = []\n",
    "all_true1 = []\n",
    "all_p1 = []\n",
    "\n",
    "for batch_idx, batch in enumerate(test_iter):\n",
    "    data = batch.Seqs\n",
    "    data = data.permute(1, 0)\n",
    "    \n",
    "    out = model(data)\n",
    "    out = torch.sqrt(torch.sum(out * out, 2))\n",
    "    out1 = out[:, 1]\n",
    "    _, y_pre = torch.max(out, -1)\n",
    "    all_p1.extend(list(out1.cpu().detach().numpy()))\n",
    "    all_pred1.extend(list(y_pre.cpu().detach().numpy()))\n",
    "    all_true1.extend(list(batch.Label.cpu().detach().numpy()))\n",
    "    \n",
    "all_pred1 = np.array(list(map(lambda x: x, np.array(all_pred1))))\n",
    "all_true1 = np.array(all_true1)\n",
    "all_p1 = np.array(list(map(lambda x: x, np.array(all_p1))))\n",
    "    \n",
    "auc = roc_auc_score(all_true1, all_p1)\n",
    "acc = metrics.accuracy_score(all_true1,all_pred1)\n",
    "print('TEST Accuracy : {}'.format(acc))\n",
    "print('TEST AUC : {}'.format(auc))\n",
    "print(classification_report(all_true1, all_pred1, digits=4))\n",
    "\n",
    "\n",
    "\n",
    "plt.figure(figsize=(4, 4))\n",
    "fpr, tpr, threshold = roc_curve(all_true1, all_p1)\n",
    "plt.plot(fpr, tpr, marker='.', label='AUC = {:.4f}'.format(auc), color='orange')\n",
    "plt.title('ROC curve')\n",
    "plt.xlabel('False Positive Rate')\n",
    "plt.ylabel('True Positive Rate')\n",
    "plt.legend()\n",
    "plt.show()\n",
    "\n",
    "cf_matrix = confusion_matrix(all_true1, all_pred1)\n",
    "plt.figure(figsize=(3, 3))\n",
    "sns.heatmap(cf_matrix, annot=True, fmt=',.0f')\n",
    "plt.show()\n",
    "\n",
    "np.save('log/result_mouse_SkeletaMuscle_CapsNet_fpr.npy', fpr)\n",
    "np.save('log/result_mouse_SkeletaMuscle_CapsNet_tpr.npy', tpr)\n",
    "np.save('log/result_mouse_SkeletaMuscle_CapsNet_threshold.npy', threshold)\n",
    "np.save('log/result_mouse_SkeletaMuscle_CapsNet_prob.npy', all_p1)\n",
    "np.save('log/result_mouse_SkeletaMuscle_CapsNet_true.npy', all_true1)"
   ]
  },
  {
   "cell_type": "markdown",
   "id": "7a25ec21",
   "metadata": {},
   "source": [
    "# Cross species - Human"
   ]
  },
  {
   "cell_type": "code",
   "execution_count": 9,
   "id": "34ff0aae",
   "metadata": {
    "ExecuteTime": {
     "end_time": "2023-03-20T13:54:45.912934Z",
     "start_time": "2023-03-20T06:02:48.233770Z"
    },
    "scrolled": false
   },
   "outputs": [
    {
     "name": "stderr",
     "output_type": "stream",
     "text": [
      "/home/bis/miniconda3/envs/torch/lib/python3.6/site-packages/torchtext/data/example.py:68: UserWarning: Example class will be retired soon and moved to torchtext.legacy. Please see the most recent release notes for further information.\n",
      "  warnings.warn('Example class will be retired soon and moved to torchtext.legacy. Please see the most recent release notes for further information.', UserWarning)\n",
      "/home/bis/miniconda3/envs/torch/lib/python3.6/site-packages/torchtext/data/example.py:78: UserWarning: Example class will be retired soon and moved to torchtext.legacy. Please see the most recent release notes for further information.\n",
      "  warnings.warn('Example class will be retired soon and moved to torchtext.legacy. Please see the most recent release notes for further information.', UserWarning)\n",
      "/home/bis/miniconda3/envs/torch/lib/python3.6/site-packages/torchtext/data/iterator.py:48: UserWarning: BucketIterator class will be retired soon and moved to torchtext.legacy. Please see the most recent release notes for further information.\n",
      "  warnings.warn('{} class will be retired soon and moved to torchtext.legacy. Please see the most recent release notes for further information.'.format(self.__class__.__name__), UserWarning)\n",
      "/home/bis/miniconda3/envs/torch/lib/python3.6/site-packages/torchtext/data/batch.py:23: UserWarning: Batch class will be retired soon and moved to torchtext.legacy. Please see the most recent release notes for further information.\n",
      "  warnings.warn('{} class will be retired soon and moved to torchtext.legacy. Please see the most recent release notes for further information.'.format(self.__class__.__name__), UserWarning)\n"
     ]
    },
    {
     "name": "stdout",
     "output_type": "stream",
     "text": [
      "TEST Accuracy : 0.17267626173643957\n",
      "TEST AUC : 0.19582603118370603\n",
      "              precision    recall  f1-score   support\n",
      "\n",
      "           0     0.8911    0.1644    0.2776   1353817\n",
      "           1     0.0167    0.4137    0.0321     46416\n",
      "\n",
      "    accuracy                         0.1727   1400233\n",
      "   macro avg     0.4539    0.2890    0.1548   1400233\n",
      "weighted avg     0.8621    0.1727    0.2695   1400233\n",
      "\n"
     ]
    },
    {
     "data": {
      "image/png": "[encoded data removed]",
      "text/plain": [
       "<Figure size 288x288 with 1 Axes>"
      ]
     },
     "metadata": {
      "needs_background": "light"
     },
     "output_type": "display_data"
    },
    {
     "data": {
      "image/png": "[encoded data removed]",
      "text/plain": [
       "<Figure size 216x216 with 2 Axes>"
      ]
     },
     "metadata": {
      "needs_background": "light"
     },
     "output_type": "display_data"
    }
   ],
   "source": [
    "from torchtext import data, datasets\n",
    "\n",
    "tmp = pd.concat([\n",
    "    pd.read_csv('/data/2021_SJH_detectability/data_cross_species/raw/human/HEK293/train.csv'),\n",
    "    pd.read_csv('/data/2021_SJH_detectability/data_cross_species/raw/human/HEK293/test.csv'),\n",
    "])\n",
    "tmp=tmp.merge(df_merge, how='left')\n",
    "tmp.Drop.fillna(False, inplace=True)\n",
    "idxes=tmp.loc[tmp.Drop==True].index\n",
    "tmp=tmp.drop(idxes, axis=0).reset_index(drop=True)\n",
    "tmp=tmp.drop(['Drop'],axis=1)\n",
    "tmp=tmp[['peptide', 'label']]#.drop_duplicates()\n",
    "\n",
    "tmp = tmp[tmp.peptide.apply(lambda x: 'B' not in x)].reset_index(drop=True)\n",
    "tmp = tmp[tmp.peptide.apply(lambda x: 'Z' not in x)].reset_index(drop=True)\n",
    "tmp = tmp.rename({'peptide': 'Seq','label': 'Label'}, axis=1)\n",
    "tmp['Label'] = tmp.Label.apply(lambda x: {True: 1, False:0}[x])\n",
    "tmp.to_csv('/home/bis/2021_SJH_detectability/DbyDeep/RefModel/2021MDPI_CapsNet/human_HEK293_except.csv', index=False)\n",
    "\n",
    "train1,val1,test1 = data.TabularDataset.splits(\n",
    "        path='/home/bis/2021_SJH_detectability/DbyDeep/RefModel/2021MDPI_CapsNet/', train='human_HEK293_except.csv',validation='human_HEK293_except.csv',test='human_HEK293_except.csv', format='csv',skip_header=True,\n",
    "        fields=[('Seqs', TEXT), ('Label', LABEL)])\n",
    "# TEXT.build_vocab(train1,val1,test1)\n",
    "test_iter = data.BucketIterator(val1, batch_size=32, sort_key=lambda x: len(x.Seqs), \n",
    "                                 shuffle=True,device=DEVICE)\n",
    "\n",
    "all_pred1 = []\n",
    "all_true1 = []\n",
    "all_p1 = []\n",
    "\n",
    "for batch_idx, batch in enumerate(test_iter):\n",
    "    data = batch.Seqs\n",
    "    data = data.permute(1, 0)\n",
    "    \n",
    "    out = model(data)\n",
    "    out = torch.sqrt(torch.sum(out * out, 2))\n",
    "    out1 = out[:, 1]\n",
    "    _, y_pre = torch.max(out, -1)\n",
    "    all_p1.extend(list(out1.cpu().detach().numpy()))\n",
    "    all_pred1.extend(list(y_pre.cpu().detach().numpy()))\n",
    "    all_true1.extend(list(batch.Label.cpu().detach().numpy()))\n",
    "\n",
    "all_pred1 = np.array(list(map(lambda x: x, np.array(all_pred1))))\n",
    "all_true1 = np.array(all_true1)\n",
    "all_p1 = np.array(list(map(lambda x: x, np.array(all_p1))))\n",
    "\n",
    "auc = roc_auc_score(all_true1, all_p1)\n",
    "acc = metrics.accuracy_score(all_true1,all_pred1)\n",
    "print('TEST Accuracy : {}'.format(acc))\n",
    "print('TEST AUC : {}'.format(auc))\n",
    "print(classification_report(all_true1, all_pred1, digits=4))\n",
    "\n",
    "\n",
    "plt.figure(figsize=(4, 4))\n",
    "fpr, tpr, threshold = roc_curve(all_true1, all_p1)\n",
    "plt.plot(fpr, tpr, marker='.', label='AUC = {:.4f}'.format(auc), color='orange')\n",
    "plt.title('ROC curve')\n",
    "plt.xlabel('False Positive Rate')\n",
    "plt.ylabel('True Positive Rate')\n",
    "plt.legend()\n",
    "plt.show()\n",
    "\n",
    "cf_matrix = confusion_matrix(all_true1, all_pred1)\n",
    "plt.figure(figsize=(3, 3))\n",
    "sns.heatmap(cf_matrix, annot=True, fmt=',.0f')\n",
    "plt.show()\n",
    "\n",
    "np.save('log/result_human_HEK293_CapsNet_fpr.npy', fpr)\n",
    "np.save('log/result_human_HEK293_CapsNet_tpr.npy', tpr)\n",
    "np.save('log/result_human_HEK293_CapsNet_threshold.npy', threshold)\n",
    "np.save('log/result_human_HEK293_CapsNet_prob.npy', all_p1)\n",
    "np.save('log/result_human_HEK293_CapsNet_true.npy', all_true1)"
   ]
  },
  {
   "cell_type": "code",
   "execution_count": 10,
   "id": "51f344ab",
   "metadata": {
    "ExecuteTime": {
     "end_time": "2023-03-20T14:11:27.666982Z",
     "start_time": "2023-03-20T13:54:45.914884Z"
    }
   },
   "outputs": [
    {
     "name": "stderr",
     "output_type": "stream",
     "text": [
      "/home/bis/miniconda3/envs/torch/lib/python3.6/site-packages/torchtext/data/example.py:68: UserWarning: Example class will be retired soon and moved to torchtext.legacy. Please see the most recent release notes for further information.\n",
      "  warnings.warn('Example class will be retired soon and moved to torchtext.legacy. Please see the most recent release notes for further information.', UserWarning)\n",
      "/home/bis/miniconda3/envs/torch/lib/python3.6/site-packages/torchtext/data/example.py:78: UserWarning: Example class will be retired soon and moved to torchtext.legacy. Please see the most recent release notes for further information.\n",
      "  warnings.warn('Example class will be retired soon and moved to torchtext.legacy. Please see the most recent release notes for further information.', UserWarning)\n",
      "/home/bis/miniconda3/envs/torch/lib/python3.6/site-packages/torchtext/data/iterator.py:48: UserWarning: BucketIterator class will be retired soon and moved to torchtext.legacy. Please see the most recent release notes for further information.\n",
      "  warnings.warn('{} class will be retired soon and moved to torchtext.legacy. Please see the most recent release notes for further information.'.format(self.__class__.__name__), UserWarning)\n",
      "/home/bis/miniconda3/envs/torch/lib/python3.6/site-packages/torchtext/data/batch.py:23: UserWarning: Batch class will be retired soon and moved to torchtext.legacy. Please see the most recent release notes for further information.\n",
      "  warnings.warn('{} class will be retired soon and moved to torchtext.legacy. Please see the most recent release notes for further information.'.format(self.__class__.__name__), UserWarning)\n"
     ]
    },
    {
     "ename": "KeyboardInterrupt",
     "evalue": "",
     "output_type": "error",
     "traceback": [
      "\u001b[0;31m---------------------------------------------------------------------------\u001b[0m",
      "\u001b[0;31mKeyboardInterrupt\u001b[0m                         Traceback (most recent call last)",
      "\u001b[0;32m<ipython-input-10-d026b1e81f47>\u001b[0m in \u001b[0;36m<module>\u001b[0;34m\u001b[0m\n\u001b[1;32m     33\u001b[0m     \u001b[0mdata\u001b[0m \u001b[0;34m=\u001b[0m \u001b[0mdata\u001b[0m\u001b[0;34m.\u001b[0m\u001b[0mpermute\u001b[0m\u001b[0;34m(\u001b[0m\u001b[0;36m1\u001b[0m\u001b[0;34m,\u001b[0m \u001b[0;36m0\u001b[0m\u001b[0;34m)\u001b[0m\u001b[0;34m\u001b[0m\u001b[0;34m\u001b[0m\u001b[0m\n\u001b[1;32m     34\u001b[0m \u001b[0;34m\u001b[0m\u001b[0m\n\u001b[0;32m---> 35\u001b[0;31m     \u001b[0mout\u001b[0m \u001b[0;34m=\u001b[0m \u001b[0mmodel\u001b[0m\u001b[0;34m(\u001b[0m\u001b[0mdata\u001b[0m\u001b[0;34m)\u001b[0m\u001b[0;34m\u001b[0m\u001b[0;34m\u001b[0m\u001b[0m\n\u001b[0m\u001b[1;32m     36\u001b[0m     \u001b[0mout\u001b[0m \u001b[0;34m=\u001b[0m \u001b[0mtorch\u001b[0m\u001b[0;34m.\u001b[0m\u001b[0msqrt\u001b[0m\u001b[0;34m(\u001b[0m\u001b[0mtorch\u001b[0m\u001b[0;34m.\u001b[0m\u001b[0msum\u001b[0m\u001b[0;34m(\u001b[0m\u001b[0mout\u001b[0m \u001b[0;34m*\u001b[0m \u001b[0mout\u001b[0m\u001b[0;34m,\u001b[0m \u001b[0;36m2\u001b[0m\u001b[0;34m)\u001b[0m\u001b[0;34m)\u001b[0m\u001b[0;34m\u001b[0m\u001b[0;34m\u001b[0m\u001b[0m\n\u001b[1;32m     37\u001b[0m     \u001b[0mout1\u001b[0m \u001b[0;34m=\u001b[0m \u001b[0mout\u001b[0m\u001b[0;34m[\u001b[0m\u001b[0;34m:\u001b[0m\u001b[0;34m,\u001b[0m \u001b[0;36m1\u001b[0m\u001b[0;34m]\u001b[0m\u001b[0;34m\u001b[0m\u001b[0;34m\u001b[0m\u001b[0m\n",
      "\u001b[0;32m~/miniconda3/envs/torch/lib/python3.6/site-packages/torch/nn/modules/module.py\u001b[0m in \u001b[0;36m_call_impl\u001b[0;34m(self, *input, **kwargs)\u001b[0m\n\u001b[1;32m    725\u001b[0m             \u001b[0mresult\u001b[0m \u001b[0;34m=\u001b[0m \u001b[0mself\u001b[0m\u001b[0;34m.\u001b[0m\u001b[0m_slow_forward\u001b[0m\u001b[0;34m(\u001b[0m\u001b[0;34m*\u001b[0m\u001b[0minput\u001b[0m\u001b[0;34m,\u001b[0m \u001b[0;34m**\u001b[0m\u001b[0mkwargs\u001b[0m\u001b[0;34m)\u001b[0m\u001b[0;34m\u001b[0m\u001b[0;34m\u001b[0m\u001b[0m\n\u001b[1;32m    726\u001b[0m         \u001b[0;32melse\u001b[0m\u001b[0;34m:\u001b[0m\u001b[0;34m\u001b[0m\u001b[0;34m\u001b[0m\u001b[0m\n\u001b[0;32m--> 727\u001b[0;31m             \u001b[0mresult\u001b[0m \u001b[0;34m=\u001b[0m \u001b[0mself\u001b[0m\u001b[0;34m.\u001b[0m\u001b[0mforward\u001b[0m\u001b[0;34m(\u001b[0m\u001b[0;34m*\u001b[0m\u001b[0minput\u001b[0m\u001b[0;34m,\u001b[0m \u001b[0;34m**\u001b[0m\u001b[0mkwargs\u001b[0m\u001b[0;34m)\u001b[0m\u001b[0;34m\u001b[0m\u001b[0;34m\u001b[0m\u001b[0m\n\u001b[0m\u001b[1;32m    728\u001b[0m         for hook in itertools.chain(\n\u001b[1;32m    729\u001b[0m                 \u001b[0m_global_forward_hooks\u001b[0m\u001b[0;34m.\u001b[0m\u001b[0mvalues\u001b[0m\u001b[0;34m(\u001b[0m\u001b[0;34m)\u001b[0m\u001b[0;34m,\u001b[0m\u001b[0;34m\u001b[0m\u001b[0;34m\u001b[0m\u001b[0m\n",
      "\u001b[0;32m~/2021_SJH_detectability/DbyDeep/RefModel/model_CapsNet.py\u001b[0m in \u001b[0;36mforward\u001b[0;34m(self, x)\u001b[0m\n\u001b[1;32m    296\u001b[0m         \u001b[0mbatch_size\u001b[0m \u001b[0;34m=\u001b[0m \u001b[0mx\u001b[0m\u001b[0;34m.\u001b[0m\u001b[0msize\u001b[0m\u001b[0;34m(\u001b[0m\u001b[0;36m0\u001b[0m\u001b[0;34m)\u001b[0m\u001b[0;34m\u001b[0m\u001b[0;34m\u001b[0m\u001b[0m\n\u001b[1;32m    297\u001b[0m         \u001b[0;31m# Conv1\u001b[0m\u001b[0;34m\u001b[0m\u001b[0;34m\u001b[0m\u001b[0;34m\u001b[0m\u001b[0m\n\u001b[0;32m--> 298\u001b[0;31m         \u001b[0my\u001b[0m \u001b[0;34m=\u001b[0m \u001b[0mfeatureGenera\u001b[0m\u001b[0;34m(\u001b[0m\u001b[0mx\u001b[0m\u001b[0;34m)\u001b[0m\u001b[0;34m\u001b[0m\u001b[0;34m\u001b[0m\u001b[0m\n\u001b[0m\u001b[1;32m    299\u001b[0m         \u001b[0mout\u001b[0m \u001b[0;34m=\u001b[0m \u001b[0mself\u001b[0m\u001b[0;34m.\u001b[0m\u001b[0membedding\u001b[0m\u001b[0;34m(\u001b[0m\u001b[0mx\u001b[0m\u001b[0;34m)\u001b[0m\u001b[0;34m\u001b[0m\u001b[0;34m\u001b[0m\u001b[0m\n\u001b[1;32m    300\u001b[0m         \u001b[0my\u001b[0m \u001b[0;34m=\u001b[0m \u001b[0my\u001b[0m\u001b[0;34m.\u001b[0m\u001b[0mtype_as\u001b[0m\u001b[0;34m(\u001b[0m\u001b[0mout\u001b[0m\u001b[0;34m)\u001b[0m\u001b[0;34m\u001b[0m\u001b[0;34m\u001b[0m\u001b[0m\n",
      "\u001b[0;32m~/2021_SJH_detectability/DbyDeep/RefModel/model_CapsNet.py\u001b[0m in \u001b[0;36mfeatureGenera\u001b[0;34m(t)\u001b[0m\n\u001b[1;32m    191\u001b[0m         \u001b[0mflag\u001b[0m \u001b[0;34m=\u001b[0m \u001b[0mflag\u001b[0m\u001b[0;34m+\u001b[0m\u001b[0;36m1\u001b[0m\u001b[0;34m\u001b[0m\u001b[0;34m\u001b[0m\u001b[0m\n\u001b[1;32m    192\u001b[0m         \u001b[0;32mfor\u001b[0m \u001b[0mj\u001b[0m \u001b[0;32min\u001b[0m \u001b[0mi\u001b[0m\u001b[0;34m:\u001b[0m\u001b[0;34m\u001b[0m\u001b[0;34m\u001b[0m\u001b[0m\n\u001b[0;32m--> 193\u001b[0;31m             \u001b[0;32mif\u001b[0m \u001b[0mj\u001b[0m\u001b[0;34m!=\u001b[0m\u001b[0;36m1\u001b[0m\u001b[0;34m:\u001b[0m\u001b[0;34m\u001b[0m\u001b[0;34m\u001b[0m\u001b[0m\n\u001b[0m\u001b[1;32m    194\u001b[0m                 \u001b[0ma\u001b[0m \u001b[0;34m=\u001b[0m \u001b[0mTEXT\u001b[0m\u001b[0;34m.\u001b[0m\u001b[0mvocab\u001b[0m\u001b[0;34m.\u001b[0m\u001b[0mitos\u001b[0m\u001b[0;34m[\u001b[0m\u001b[0mj\u001b[0m\u001b[0;34m]\u001b[0m\u001b[0;34m\u001b[0m\u001b[0;34m\u001b[0m\u001b[0m\n\u001b[1;32m    195\u001b[0m                 \u001b[0mprotein\u001b[0m \u001b[0;34m=\u001b[0m \u001b[0mprotein\u001b[0m\u001b[0;34m+\u001b[0m\u001b[0ma\u001b[0m\u001b[0;34m\u001b[0m\u001b[0;34m\u001b[0m\u001b[0m\n",
      "\u001b[0;31mKeyboardInterrupt\u001b[0m: "
     ]
    }
   ],
   "source": [
    "from torchtext import data, datasets\n",
    "\n",
    "tmp = pd.concat([\n",
    "    pd.read_csv('/data/2021_SJH_detectability/data_cross_species/raw/human/HmapLiver/train.csv'),\n",
    "    pd.read_csv('/data/2021_SJH_detectability/data_cross_species/raw/human/HmapLiver/test.csv'),\n",
    "])\n",
    "tmp=tmp.merge(df_merge, how='left')\n",
    "tmp.Drop.fillna(False, inplace=True)\n",
    "idxes=tmp.loc[tmp.Drop==True].index\n",
    "tmp=tmp.drop(idxes, axis=0).reset_index(drop=True)\n",
    "tmp=tmp.drop(['Drop'],axis=1)\n",
    "tmp=tmp[['peptide', 'label']]#.drop_duplicates()\n",
    "\n",
    "tmp = tmp[tmp.peptide.apply(lambda x: 'B' not in x)].reset_index(drop=True)\n",
    "tmp = tmp[tmp.peptide.apply(lambda x: 'Z' not in x)].reset_index(drop=True)\n",
    "tmp = tmp.rename({'peptide': 'Seq','label': 'Label'}, axis=1)\n",
    "tmp['Label'] = tmp.Label.apply(lambda x: {True: 1, False:0}[x])\n",
    "tmp.to_csv('/home/bis/2021_SJH_detectability/DbyDeep/RefModel/2021MDPI_CapsNet/human_HmapLiver_except.csv', index=False)\n",
    "\n",
    "train1,val1,test1 = data.TabularDataset.splits(\n",
    "        path='/home/bis/2021_SJH_detectability/DbyDeep/RefModel/2021MDPI_CapsNet/', train='human_HmapLiver_except.csv',validation='human_HmapLiver_except.csv',test='human_HmapLiver_except.csv', format='csv',skip_header=True,\n",
    "        fields=[('Seqs', TEXT), ('Label', LABEL)])\n",
    "# TEXT.build_vocab(train1,val1,test1)\n",
    "test_iter = data.BucketIterator(val1, batch_size=32, sort_key=lambda x: len(x.Seqs), \n",
    "                                 shuffle=True,device=DEVICE)\n",
    "\n",
    "all_pred1 = []\n",
    "all_true1 = []\n",
    "all_p1 = []\n",
    "\n",
    "for batch_idx, batch in enumerate(test_iter):\n",
    "    data = batch.Seqs\n",
    "    data = data.permute(1, 0)\n",
    "    \n",
    "    out = model(data)\n",
    "    out = torch.sqrt(torch.sum(out * out, 2))\n",
    "    out1 = out[:, 1]\n",
    "    _, y_pre = torch.max(out, -1)\n",
    "    all_p1.extend(list(out1.cpu().detach().numpy()))\n",
    "    all_pred1.extend(list(y_pre.cpu().detach().numpy()))\n",
    "    all_true1.extend(list(batch.Label.cpu().detach().numpy()))\n",
    "    \n",
    "all_pred1 = np.array(list(map(lambda x: x, np.array(all_pred1))))\n",
    "all_true1 = np.array(all_true1)\n",
    "all_p1 = np.array(list(map(lambda x: x, np.array(all_p1))))\n",
    "\n",
    "auc = roc_auc_score(all_true1, all_p1)\n",
    "acc = metrics.accuracy_score(all_true1,all_pred1)\n",
    "print('TEST Accuracy : {}'.format(acc))\n",
    "print('TEST AUC : {}'.format(auc))\n",
    "print(classification_report(all_true1, all_pred1, digits=4))\n",
    "\n",
    "\n",
    "plt.figure(figsize=(4, 4))\n",
    "fpr, tpr, threshold = roc_curve(all_true1, all_p1)\n",
    "plt.plot(fpr, tpr, marker='.', label='AUC = {:.4f}'.format(auc), color='orange')\n",
    "plt.title('ROC curve')\n",
    "plt.xlabel('False Positive Rate')\n",
    "plt.ylabel('True Positive Rate')\n",
    "plt.legend()\n",
    "plt.show()\n",
    "\n",
    "cf_matrix = confusion_matrix(all_true1, all_pred1)\n",
    "plt.figure(figsize=(3, 3))\n",
    "sns.heatmap(cf_matrix, annot=True, fmt=',.0f')\n",
    "plt.show()\n",
    "\n",
    "np.save('log/result_human_HmapLiver_CapsNet_fpr.npy', fpr)\n",
    "np.save('log/result_human_HmapLiver_CapsNet_tpr.npy', tpr)\n",
    "np.save('log/result_human_HmapLiver_CapsNet_threshold.npy', threshold)\n",
    "np.save('log/result_human_HmapLiver_CapsNet_prob.npy', all_p1)\n",
    "np.save('log/result_human_HmapLiver_CapsNet_true.npy', all_true1)"
   ]
  },
  {
   "cell_type": "markdown",
   "id": "38c29032",
   "metadata": {},
   "source": [
    "# Cross species - Yeast"
   ]
  },
  {
   "cell_type": "code",
   "execution_count": null,
   "id": "696f5f3d",
   "metadata": {
    "ExecuteTime": {
     "end_time": "2023-03-20T14:11:27.669482Z",
     "start_time": "2023-03-19T16:48:20.367Z"
    },
    "scrolled": true
   },
   "outputs": [],
   "source": [
    "from torchtext import data, datasets\n",
    "\n",
    "tmp = pd.concat([\n",
    "    pd.read_csv('/data/2021_SJH_detectability/data_cross_species/raw/yeast/DelPBP1/train.csv'),\n",
    "    pd.read_csv('/data/2021_SJH_detectability/data_cross_species/raw/yeast/DelPBP1/test.csv'),\n",
    "])\n",
    "tmp=tmp.merge(df_merge, how='left')\n",
    "tmp.Drop.fillna(False, inplace=True)\n",
    "idxes=tmp.loc[tmp.Drop==True].index\n",
    "tmp=tmp.drop(idxes, axis=0).reset_index(drop=True)\n",
    "tmp=tmp.drop(['Drop'],axis=1)\n",
    "tmp=tmp[['peptide', 'label']]#.drop_duplicates()\n",
    "\n",
    "tmp = tmp[tmp.peptide.apply(lambda x: 'B' not in x)].reset_index(drop=True)\n",
    "tmp = tmp[tmp.peptide.apply(lambda x: 'Z' not in x)].reset_index(drop=True)\n",
    "tmp = tmp.rename({'peptide': 'Seq','label': 'Label'}, axis=1)\n",
    "tmp['Label'] = tmp.Label.apply(lambda x: {True: 1, False:0}[x])\n",
    "tmp.to_csv('/home/bis/2021_SJH_detectability/DbyDeep/RefModel/2021MDPI_CapsNet/yeast_DelPBP1_except.csv', index=False)\n",
    "\n",
    "train1,val1,test1 = data.TabularDataset.splits(\n",
    "        path='/home/bis/2021_SJH_detectability/DbyDeep/RefModel/2021MDPI_CapsNet/', train='yeast_DelPBP1_except.csv',validation='yeast_DelPBP1_except.csv',test='yeast_DelPBP1_except.csv', format='csv',skip_header=True,\n",
    "        fields=[('Seqs', TEXT), ('Label', LABEL)])\n",
    "# TEXT.build_vocab(train1,val1,test1)\n",
    "test_iter = data.BucketIterator(val1, batch_size=32, sort_key=lambda x: len(x.Seqs), \n",
    "                                 shuffle=True,device=DEVICE)\n",
    "\n",
    "all_pred1 = []\n",
    "all_true1 = []\n",
    "all_p1 = []\n",
    "\n",
    "for batch_idx, batch in enumerate(test_iter):\n",
    "    data = batch.Seqs\n",
    "    data = data.permute(1, 0)\n",
    "    \n",
    "    out = model(data)\n",
    "    out = torch.sqrt(torch.sum(out * out, 2))\n",
    "    out1 = out[:, 1]\n",
    "    _, y_pre = torch.max(out, -1)\n",
    "    all_p1.extend(list(out1.cpu().detach().numpy()))\n",
    "    all_pred1.extend(list(y_pre.cpu().detach().numpy()))\n",
    "    all_true1.extend(list(batch.Label.cpu().detach().numpy()))\n",
    "    \n",
    "all_pred1 = np.array(list(map(lambda x: x, np.array(all_pred1))))\n",
    "all_true1 = np.array(all_true1)\n",
    "all_p1 = np.array(list(map(lambda x: x, np.array(all_p1))))\n",
    "\n",
    "auc = roc_auc_score(all_true1, all_p1)\n",
    "acc = metrics.accuracy_score(all_true1,all_pred1)\n",
    "print('TEST Accuracy : {}'.format(acc))\n",
    "print('TEST AUC : {}'.format(auc))\n",
    "print(classification_report(all_true1, all_pred1, digits=4))\n",
    "\n",
    "\n",
    "plt.figure(figsize=(4, 4))\n",
    "fpr, tpr, threshold = roc_curve(all_true1, all_p1)\n",
    "plt.plot(fpr, tpr, marker='.', label='AUC = {:.4f}'.format(auc), color='orange')\n",
    "plt.title('ROC curve')\n",
    "plt.xlabel('False Positive Rate')\n",
    "plt.ylabel('True Positive Rate')\n",
    "plt.legend()\n",
    "plt.show()\n",
    "\n",
    "cf_matrix = confusion_matrix(all_true1, all_pred1)\n",
    "plt.figure(figsize=(3, 3))\n",
    "sns.heatmap(cf_matrix, annot=True, fmt=',.0f')\n",
    "plt.show()\n",
    "\n",
    "np.save('log/result_yeast_DelPBP1_CapsNet_fpr.npy', fpr)\n",
    "np.save('log/result_yeast_DelPBP1_CapsNet_tpr.npy', tpr)\n",
    "np.save('log/result_yeast_DelPBP1_CapsNet_threshold.npy', threshold)\n",
    "np.save('log/result_yeast_DelPBP1_CapsNet_prob.npy', all_p1)\n",
    "np.save('log/result_yeast_DelPBP1_CapsNet_true.npy', all_true1)"
   ]
  },
  {
   "cell_type": "code",
   "execution_count": null,
   "id": "79a689ac",
   "metadata": {
    "ExecuteTime": {
     "end_time": "2023-03-20T14:11:27.670623Z",
     "start_time": "2023-03-19T16:48:32.246Z"
    }
   },
   "outputs": [],
   "source": [
    "from torchtext import data, datasets\n",
    "\n",
    "tmp = pd.concat([\n",
    "    pd.read_csv('/data/2021_SJH_detectability/data_cross_species/raw/yeast/KLife/train.csv'),\n",
    "    pd.read_csv('/data/2021_SJH_detectability/data_cross_species/raw/yeast/KLife/test.csv'),\n",
    "])\n",
    "tmp=tmp.merge(df_merge, how='left')\n",
    "tmp.Drop.fillna(False, inplace=True)\n",
    "idxes=tmp.loc[tmp.Drop==True].index\n",
    "tmp=tmp.drop(idxes, axis=0).reset_index(drop=True)\n",
    "tmp=tmp.drop(['Drop'],axis=1)\n",
    "tmp=tmp[['peptide', 'label']]#.drop_duplicates()\n",
    "\n",
    "tmp = tmp[tmp.peptide.apply(lambda x: 'B' not in x)].reset_index(drop=True)\n",
    "tmp = tmp[tmp.peptide.apply(lambda x: 'Z' not in x)].reset_index(drop=True)\n",
    "tmp = tmp.rename({'peptide': 'Seq','label': 'Label'}, axis=1)\n",
    "tmp['Label'] = tmp.Label.apply(lambda x: {True: 1, False:0}[x])\n",
    "tmp.to_csv('/home/bis/2021_SJH_detectability/DbyDeep/RefModel/2021MDPI_CapsNet/yeast_KLife_except.csv', index=False)\n",
    "\n",
    "train1,val1,test1 = data.TabularDataset.splits(\n",
    "        path='/home/bis/2021_SJH_detectability/DbyDeep/RefModel/2021MDPI_CapsNet/', train='yeast_KLife_except.csv',validation='yeast_KLife_except.csv',test='yeast_KLife_except.csv', format='csv',skip_header=True,\n",
    "        fields=[('Seqs', TEXT), ('Label', LABEL)])\n",
    "# TEXT.build_vocab(train1,val1,test1)\n",
    "test_iter = data.BucketIterator(val1, batch_size=32, sort_key=lambda x: len(x.Seqs), \n",
    "                                 shuffle=True,device=DEVICE)\n",
    "\n",
    "all_pred1 = []\n",
    "all_true1 = []\n",
    "all_p1 = []\n",
    "\n",
    "for batch_idx, batch in enumerate(test_iter):\n",
    "    data = batch.Seqs\n",
    "    data = data.permute(1, 0)\n",
    "    \n",
    "    out = model(data)\n",
    "    out = torch.sqrt(torch.sum(out * out, 2))\n",
    "    out1 = out[:, 1]\n",
    "    _, y_pre = torch.max(out, -1)\n",
    "    all_p1.extend(list(out1.cpu().detach().numpy()))\n",
    "    all_pred1.extend(list(y_pre.cpu().detach().numpy()))\n",
    "    all_true1.extend(list(batch.Label.cpu().detach().numpy()))\n",
    "    \n",
    "all_pred1 = np.array(list(map(lambda x: x, np.array(all_pred1))))\n",
    "all_true1 = np.array(all_true1)\n",
    "all_p1 = np.array(list(map(lambda x: x, np.array(all_p1))))\n",
    "\n",
    "auc = roc_auc_score(all_true1, all_p1)\n",
    "acc = metrics.accuracy_score(all_true1,all_pred1)\n",
    "print('TEST Accuracy : {}'.format(acc))\n",
    "print('TEST AUC : {}'.format(auc))\n",
    "print(classification_report(all_true1, all_pred1, digits=4))\n",
    "\n",
    "\n",
    "plt.figure(figsize=(4, 4))\n",
    "fpr, tpr, threshold = roc_curve(all_true1, all_p1)\n",
    "plt.plot(fpr, tpr, marker='.', label='AUC = {:.4f}'.format(auc), color='orange')\n",
    "plt.title('ROC curve')\n",
    "plt.xlabel('False Positive Rate')\n",
    "plt.ylabel('True Positive Rate')\n",
    "plt.legend()\n",
    "plt.show()\n",
    "\n",
    "cf_matrix = confusion_matrix(all_true1, all_pred1)\n",
    "plt.figure(figsize=(3, 3))\n",
    "sns.heatmap(cf_matrix, annot=True, fmt=',.0f')\n",
    "plt.show()\n",
    "\n",
    "np.save('log/result_yeast_KLife_CapsNet_fpr.npy', fpr)\n",
    "np.save('log/result_yeast_KLife_CapsNet_tpr.npy', tpr)\n",
    "np.save('log/result_yeast_KLife_CapsNet_threshold.npy', threshold)\n",
    "np.save('log/result_yeast_KLife_CapsNet_prob.npy', all_p1)\n",
    "np.save('log/result_yeast_KLife_CapsNet_true.npy', all_true1)"
   ]
  },
  {
   "cell_type": "code",
   "execution_count": null,
   "id": "1c7f5f1a",
   "metadata": {},
   "outputs": [],
   "source": []
  }
 ],
 "metadata": {
  "kernelspec": {
   "display_name": "torch",
   "language": "python",
   "name": "torch"
  },
  "language_info": {
   "codemirror_mode": {
    "name": "ipython",
    "version": 3
   },
   "file_extension": ".py",
   "mimetype": "text/x-python",
   "name": "python",
   "nbconvert_exporter": "python",
   "pygments_lexer": "ipython3",
   "version": "3.6.13"
  }
 },
 "nbformat": 4,
 "nbformat_minor": 5
}
