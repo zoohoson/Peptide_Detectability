{
 "cells": [
  {
   "cell_type": "code",
   "execution_count": 1,
   "id": "b068968d",
   "metadata": {
    "ExecuteTime": {
     "end_time": "2023-03-19T16:59:31.067991Z",
     "start_time": "2023-03-19T16:59:29.068251Z"
    }
   },
   "outputs": [],
   "source": [
    "import pandas as pd\n",
    "import numpy as np\n",
    "\n",
    "import torch\n",
    "import torch.nn as nn\n",
    "import torch.nn.functional as F\n",
    "import torchvision\n",
    "import torchvision.transforms as transforms\n",
    "import torch.utils.data as Data\n",
    "import torch.nn.utils.rnn as rnn_utils\n",
    "from torch.autograd import Variable\n",
    "\n",
    "device = torch.device(\"cuda\",0)\n",
    "\n",
    "import seaborn as sns\n",
    "import matplotlib.pyplot as plt\n",
    "from sklearn.metrics import classification_report, confusion_matrix, roc_curve, roc_auc_score, accuracy_score"
   ]
  },
  {
   "cell_type": "code",
   "execution_count": 2,
   "id": "600fd864",
   "metadata": {
    "ExecuteTime": {
     "end_time": "2023-03-19T16:59:31.092895Z",
     "start_time": "2023-03-19T16:59:31.070989Z"
    }
   },
   "outputs": [],
   "source": [
    "def pred(data_iter, net):\n",
    "    y_pred = []\n",
    "    for x, y in data_iter:\n",
    "        x,y=x.to(device),y.to(device)\n",
    "        outputs=net.trainModel(x)\n",
    "#         print(outputs.argmax(dim=1),\n",
    "#              outputs.argmax(dim=1)==y,\n",
    "#              (outputs.argmax(dim=1)==y).float(),\n",
    "#              (outputs.argmax(dim=1)==y).float().sum(),\n",
    "#              (outputs.argmax(dim=1)==y).float().sum().item())\n",
    "        for _ in outputs.argmax(dim=1):\n",
    "            y_pred.append(int(_))\n",
    "    return y_pred\n",
    "\n",
    "def pred_prob(data_iter, net):\n",
    "    y_pred = []\n",
    "    for x, y in data_iter:\n",
    "        x,y=x.to(device),y.to(device)\n",
    "        outputs=net.trainModel(x)\n",
    "        for _ in outputs:\n",
    "            y_pred.append(list(map(float, _)))\n",
    "    return y_pred\n",
    "\n",
    "class newModel(nn.Module):\n",
    "    def __init__(self, vocab_size=24):\n",
    "        super().__init__()\n",
    "        self.hidden_dim = 25\n",
    "        self.batch_size = 256\n",
    "        self.emb_dim = 512\n",
    "        \n",
    "        self.embedding = nn.Embedding(vocab_size, self.emb_dim, padding_idx=0)\n",
    "        self.encoder_layer = nn.TransformerEncoderLayer(d_model=512, nhead=8)\n",
    "        self.transformer_encoder = nn.TransformerEncoder(self.encoder_layer, num_layers=1)\n",
    "        \n",
    "        self.gru = nn.GRU(self.emb_dim, self.hidden_dim, num_layers=2, \n",
    "                               bidirectional=True, dropout=0.2)\n",
    "        \n",
    "        \n",
    "        self.block1=nn.Sequential(nn.Linear(4050,1024),\n",
    "                                            nn.BatchNorm1d(1024),\n",
    "                                            nn.LeakyReLU(),\n",
    "                                            nn.Linear(1024,256),\n",
    "                                 )\n",
    "\n",
    "        self.block2=nn.Sequential(\n",
    "                                               nn.BatchNorm1d(256),\n",
    "                                               nn.LeakyReLU(),\n",
    "                                               nn.Linear(256,128),\n",
    "                                               nn.BatchNorm1d(128),\n",
    "                                               nn.LeakyReLU(),\n",
    "                                               nn.Linear(128,64),\n",
    "                                               nn.BatchNorm1d(64),\n",
    "                                               nn.LeakyReLU(),\n",
    "                                               nn.Linear(64,2)\n",
    "                                            )\n",
    "        \n",
    "    def forward(self, x):\n",
    "        x=self.embedding(x)\n",
    "        output=self.transformer_encoder(x).permute(1, 0, 2)\n",
    "        output,hn=self.gru(output)\n",
    "        output=output.permute(1,0,2)\n",
    "        hn=hn.permute(1,0,2)\n",
    "        output=output.reshape(output.shape[0],-1)\n",
    "        hn=hn.reshape(output.shape[0],-1)\n",
    "        output=torch.cat([output,hn],1)\n",
    "        return self.block1(output)\n",
    "\n",
    "    def trainModel(self, x):\n",
    "        with torch.no_grad():\n",
    "            output=self.forward(x)\n",
    "        return self.block2(output)\n",
    "    \n",
    "def genData(file,max_len):\n",
    "    aa_dict={'A':1,'R':2,'N':3,'D':4,'C':5,'Q':6,'E':7,'G':8,'H':9,'I':10,\n",
    "             'L':11,'K':12,'M':13,'F':14,'P':15,'O':16,'S':17,'U':18,'T':19,\n",
    "             'W':20,'Y':21,'V':22,'X':23}\n",
    "##############################################\n",
    "# original code\n",
    "    # with open(file, 'r') as inf:\n",
    "    #     lines = inf.read().splitlines()\n",
    "##############################################        \n",
    "    lines = file\n",
    "    long_pep_counter=0\n",
    "    pep_codes=[]\n",
    "    labels=[]\n",
    "    lines.append('X'*79+',-1')  # for setting format\n",
    "    for pep in lines:\n",
    "        pep,label=pep.split(\",\")\n",
    "        if not len(pep) > max_len:\n",
    "            labels.append(int(label))\n",
    "            current_pep=[]\n",
    "            for aa in pep:\n",
    "                current_pep.append(aa_dict[aa])\n",
    "            pep_codes.append(torch.tensor(current_pep))\n",
    "        else:\n",
    "            long_pep_counter += 1\n",
    "    print(\"length > {}:\".format(max_len),long_pep_counter)\n",
    "    data = rnn_utils.pad_sequence(pep_codes, batch_first=True)  # padding\n",
    "    return data, torch.tensor(labels)"
   ]
  },
  {
   "cell_type": "code",
   "execution_count": 3,
   "id": "f9d662eb",
   "metadata": {
    "ExecuteTime": {
     "end_time": "2023-03-19T16:59:39.552943Z",
     "start_time": "2023-03-19T16:59:31.235890Z"
    },
    "scrolled": true
   },
   "outputs": [
    {
     "data": {
      "text/plain": [
       "newModel(\n",
       "  (embedding): Embedding(24, 512, padding_idx=0)\n",
       "  (encoder_layer): TransformerEncoderLayer(\n",
       "    (self_attn): MultiheadAttention(\n",
       "      (out_proj): _LinearWithBias(in_features=512, out_features=512, bias=True)\n",
       "    )\n",
       "    (linear1): Linear(in_features=512, out_features=2048, bias=True)\n",
       "    (dropout): Dropout(p=0.1, inplace=False)\n",
       "    (linear2): Linear(in_features=2048, out_features=512, bias=True)\n",
       "    (norm1): LayerNorm((512,), eps=1e-05, elementwise_affine=True)\n",
       "    (norm2): LayerNorm((512,), eps=1e-05, elementwise_affine=True)\n",
       "    (dropout1): Dropout(p=0.1, inplace=False)\n",
       "    (dropout2): Dropout(p=0.1, inplace=False)\n",
       "  )\n",
       "  (transformer_encoder): TransformerEncoder(\n",
       "    (layers): ModuleList(\n",
       "      (0): TransformerEncoderLayer(\n",
       "        (self_attn): MultiheadAttention(\n",
       "          (out_proj): _LinearWithBias(in_features=512, out_features=512, bias=True)\n",
       "        )\n",
       "        (linear1): Linear(in_features=512, out_features=2048, bias=True)\n",
       "        (dropout): Dropout(p=0.1, inplace=False)\n",
       "        (linear2): Linear(in_features=2048, out_features=512, bias=True)\n",
       "        (norm1): LayerNorm((512,), eps=1e-05, elementwise_affine=True)\n",
       "        (norm2): LayerNorm((512,), eps=1e-05, elementwise_affine=True)\n",
       "        (dropout1): Dropout(p=0.1, inplace=False)\n",
       "        (dropout2): Dropout(p=0.1, inplace=False)\n",
       "      )\n",
       "    )\n",
       "  )\n",
       "  (gru): GRU(512, 25, num_layers=2, dropout=0.2, bidirectional=True)\n",
       "  (block1): Sequential(\n",
       "    (0): Linear(in_features=4050, out_features=1024, bias=True)\n",
       "    (1): BatchNorm1d(1024, eps=1e-05, momentum=0.1, affine=True, track_running_stats=True)\n",
       "    (2): LeakyReLU(negative_slope=0.01)\n",
       "    (3): Linear(in_features=1024, out_features=256, bias=True)\n",
       "  )\n",
       "  (block2): Sequential(\n",
       "    (0): BatchNorm1d(256, eps=1e-05, momentum=0.1, affine=True, track_running_stats=True)\n",
       "    (1): LeakyReLU(negative_slope=0.01)\n",
       "    (2): Linear(in_features=256, out_features=128, bias=True)\n",
       "    (3): BatchNorm1d(128, eps=1e-05, momentum=0.1, affine=True, track_running_stats=True)\n",
       "    (4): LeakyReLU(negative_slope=0.01)\n",
       "    (5): Linear(in_features=128, out_features=64, bias=True)\n",
       "    (6): BatchNorm1d(64, eps=1e-05, momentum=0.1, affine=True, track_running_stats=True)\n",
       "    (7): LeakyReLU(negative_slope=0.01)\n",
       "    (8): Linear(in_features=64, out_features=2, bias=True)\n",
       "  )\n",
       ")"
      ]
     },
     "execution_count": 3,
     "metadata": {},
     "output_type": "execute_result"
    }
   ],
   "source": [
    "net = newModel().to(device)  # retrained\n",
    "net.load_state_dict(torch.load(f'/home/bis/2021_SJH_detectability/DbyDeep/RefModel/2021ACS_PepFormer/Model/0.pl')['model'])\n",
    "net.eval()"
   ]
  },
  {
   "cell_type": "code",
   "execution_count": 4,
   "id": "58fd54ff",
   "metadata": {
    "ExecuteTime": {
     "end_time": "2023-03-19T16:59:39.562702Z",
     "start_time": "2023-03-19T16:59:39.556271Z"
    }
   },
   "outputs": [
    {
     "data": {
      "text/plain": [
       "10864306"
      ]
     },
     "execution_count": 4,
     "metadata": {},
     "output_type": "execute_result"
    }
   ],
   "source": [
    "def get_n_params(model):\n",
    "    pp=0\n",
    "    for p in list(model.parameters()):\n",
    "        nn=1\n",
    "        for s in list(p.size()):\n",
    "            nn = nn*s\n",
    "        pp += nn\n",
    "    return pp\n",
    "get_n_params(net)"
   ]
  },
  {
   "cell_type": "code",
   "execution_count": 5,
   "id": "e04df0ef",
   "metadata": {
    "ExecuteTime": {
     "end_time": "2023-03-19T16:59:41.528990Z",
     "start_time": "2023-03-19T16:59:39.564703Z"
    }
   },
   "outputs": [],
   "source": [
    "df_massive=pd.read_csv('/data/2021_SJH_detectability/data_human/train.csv')\n",
    "df_hpp=pd.read_csv('/data/2021_SJH_detectability/data_human/HPP.csv')\n",
    "df_merge=pd.DataFrame(np.concatenate([df_massive.peptide.unique(), df_hpp.peptide.unique()]), columns=['peptide'])\n",
    "df_merge['Drop']=True"
   ]
  },
  {
   "cell_type": "markdown",
   "id": "b2d4c190",
   "metadata": {},
   "source": [
    "# Cross species : Mouse"
   ]
  },
  {
   "cell_type": "code",
   "execution_count": 6,
   "id": "39172757",
   "metadata": {
    "ExecuteTime": {
     "end_time": "2023-03-19T17:07:14.993404Z",
     "start_time": "2023-03-19T16:59:43.414110Z"
    }
   },
   "outputs": [
    {
     "name": "stdout",
     "output_type": "stream",
     "text": [
      "length > 79: 0\n",
      "Test AUC : 0.8711963584140847\n",
      "              precision    recall  f1-score   support\n",
      "\n",
      "           0     0.9934    0.7556    0.8584   1198253\n",
      "           1     0.1356    0.8846    0.2351     51913\n",
      "\n",
      "    accuracy                         0.7610   1250166\n",
      "   macro avg     0.5645    0.8201    0.5467   1250166\n",
      "weighted avg     0.9578    0.7610    0.8325   1250166\n",
      "\n"
     ]
    },
    {
     "data": {
      "image/png": "[encoded data removed]",
      "text/plain": [
       "<Figure size 288x288 with 1 Axes>"
      ]
     },
     "metadata": {
      "needs_background": "light"
     },
     "output_type": "display_data"
    },
    {
     "data": {
      "image/png": "[encoded data removed]",
      "text/plain": [
       "<Figure size 216x216 with 2 Axes>"
      ]
     },
     "metadata": {
      "needs_background": "light"
     },
     "output_type": "display_data"
    }
   ],
   "source": [
    "tmp = pd.read_csv('/data/2021_SJH_detectability/diff_tool/mouse_eph4/data.csv')\n",
    "tmp=tmp.merge(df_merge, how='left')\n",
    "tmp.Drop.fillna(False, inplace=True)\n",
    "idxes=tmp.loc[tmp.Drop==True].index\n",
    "tmp=tmp.drop(idxes, axis=0).reset_index(drop=True)\n",
    "tmp=tmp.drop(['Drop'],axis=1)\n",
    "tmp=tmp[['peptide', 'label']]#.drop_duplicates()\n",
    "\n",
    "tmp = tmp[tmp.peptide.apply(lambda x: 'B' not in x)].reset_index(drop=True)\n",
    "tmp = tmp[tmp.peptide.apply(lambda x: 'Z' not in x)].reset_index(drop=True)\n",
    "\n",
    "tmp['label'] = tmp['label'].apply(lambda x: {True: str(1), False: str(0)}[x])\n",
    "test = []\n",
    "for line in tmp.values:\n",
    "    line = ','.join(line)\n",
    "    test.append(line)\n",
    "\n",
    "test_data, test_label = genData(test, 79)\n",
    "test_data = test_data[:-1]\n",
    "test_label = test_label[:-1]\n",
    "test_dataset = Data.TensorDataset(test_data, test_label)\n",
    "batch_size=256\n",
    "test_iter = torch.utils.data.DataLoader(test_dataset, batch_size=batch_size, shuffle=False)\n",
    "\n",
    "y_pred = pred(test_iter, net)\n",
    "probs = np.array(pred_prob(test_iter, net))[:, 1]\n",
    "\n",
    "# acc = evaluate_accuracy(test_iter,net)\n",
    "auc = roc_auc_score(test_label, probs)\n",
    "\n",
    "# print('Test Accuracy: {}'.format(acc))\n",
    "print('Test AUC : {}'.format(auc))\n",
    "print(classification_report(test_label, y_pred, digits=4))\n",
    "\n",
    "plt.figure(figsize=(4, 4))\n",
    "fpr, tpr, threshold = roc_curve(test_label, probs)\n",
    "plt.plot(fpr, tpr, marker='.', label='AUC = {:.4f}'.format(auc), color='orange')\n",
    "plt.title('ROC curve')\n",
    "plt.xlabel('False Positive Rate')\n",
    "plt.ylabel('True Positive Rate')\n",
    "plt.legend()\n",
    "plt.show()\n",
    "\n",
    "cf_matrix = confusion_matrix(test_label, y_pred)\n",
    "plt.figure(figsize=(3, 3))\n",
    "sns.heatmap(cf_matrix, annot=True, fmt=',.0f')\n",
    "plt.show()\n",
    "\n",
    "np.save('log/result_mouse_KLife_PepFormer_fpr.npy', fpr)\n",
    "np.save('log/result_mouse_KLife_PepFormer_tpr.npy', tpr)\n",
    "np.save('log/result_mouse_KLife_PepFormer_threshold.npy', threshold)\n",
    "np.save('log/result_mouse_KLife_PepFormer_prob.npy', probs)\n",
    "np.save('log/result_mouse_KLife_PepFormer_true.npy', test_label)"
   ]
  },
  {
   "cell_type": "code",
   "execution_count": 7,
   "id": "0ef99c9f",
   "metadata": {
    "ExecuteTime": {
     "end_time": "2023-03-19T17:15:08.005982Z",
     "start_time": "2023-03-19T17:07:14.995797Z"
    }
   },
   "outputs": [
    {
     "name": "stdout",
     "output_type": "stream",
     "text": [
      "length > 79: 0\n",
      "Test AUC : 0.8449836885967151\n",
      "              precision    recall  f1-score   support\n",
      "\n",
      "           0     0.9918    0.7520    0.8554   1088363\n",
      "           1     0.1275    0.8530    0.2219     46255\n",
      "\n",
      "    accuracy                         0.7561   1134618\n",
      "   macro avg     0.5596    0.8025    0.5386   1134618\n",
      "weighted avg     0.9565    0.7561    0.8296   1134618\n",
      "\n"
     ]
    },
    {
     "data": {
      "image/png": "[encoded data removed]",
      "text/plain": [
       "<Figure size 288x288 with 1 Axes>"
      ]
     },
     "metadata": {
      "needs_background": "light"
     },
     "output_type": "display_data"
    },
    {
     "data": {
      "image/png": "[encoded data removed]",
      "text/plain": [
       "<Figure size 216x216 with 2 Axes>"
      ]
     },
     "metadata": {
      "needs_background": "light"
     },
     "output_type": "display_data"
    }
   ],
   "source": [
    "tmp = pd.read_csv('/data/2021_SJH_detectability/diff_tool/mouse_tmuscle/data.csv')\n",
    "tmp=tmp.merge(df_merge, how='left')\n",
    "tmp.Drop.fillna(False, inplace=True)\n",
    "idxes=tmp.loc[tmp.Drop==True].index\n",
    "tmp=tmp.drop(idxes, axis=0).reset_index(drop=True)\n",
    "tmp=tmp.drop(['Drop'],axis=1)\n",
    "tmp=tmp[['peptide', 'label']]#.drop_duplicates()\n",
    "\n",
    "tmp = tmp[tmp.peptide.apply(lambda x: 'B' not in x)].reset_index(drop=True)\n",
    "tmp = tmp[tmp.peptide.apply(lambda x: 'Z' not in x)].reset_index(drop=True)\n",
    "\n",
    "tmp['label'] = tmp['label'].apply(lambda x: {True: str(1), False: str(0)}[x])\n",
    "test = []\n",
    "for line in tmp.values:\n",
    "    line = ','.join(line)\n",
    "    test.append(line)\n",
    "\n",
    "test_data, test_label = genData(test, 79)\n",
    "test_data = test_data[:-1]\n",
    "test_label = test_label[:-1]\n",
    "test_dataset = Data.TensorDataset(test_data, test_label)\n",
    "batch_size=256\n",
    "test_iter = torch.utils.data.DataLoader(test_dataset, batch_size=batch_size, shuffle=False)\n",
    "\n",
    "y_pred = pred(test_iter, net)\n",
    "probs = np.array(pred_prob(test_iter, net))[:, 1]\n",
    "\n",
    "# acc = evaluate_accuracy(test_iter,net)\n",
    "auc = roc_auc_score(test_label, probs)\n",
    "\n",
    "# print('Test Accuracy: {}'.format(acc))\n",
    "print('Test AUC : {}'.format(auc))\n",
    "print(classification_report(test_label, y_pred, digits=4))\n",
    "\n",
    "plt.figure(figsize=(4, 4))\n",
    "fpr, tpr, threshold = roc_curve(test_label, probs)\n",
    "plt.plot(fpr, tpr, marker='.', label='AUC = {:.4f}'.format(auc), color='orange')\n",
    "plt.title('ROC curve')\n",
    "plt.xlabel('False Positive Rate')\n",
    "plt.ylabel('True Positive Rate')\n",
    "plt.legend()\n",
    "plt.show()\n",
    "\n",
    "cf_matrix = confusion_matrix(test_label, y_pred)\n",
    "plt.figure(figsize=(3, 3))\n",
    "sns.heatmap(cf_matrix, annot=True, fmt=',.0f')\n",
    "plt.show()\n",
    "\n",
    "np.save('log/result_mouse_SkeletaMuscle_PepFormer_fpr.npy', fpr)\n",
    "np.save('log/result_mouse_SkeletaMuscle_PepFormer_tpr.npy', tpr)\n",
    "np.save('log/result_mouse_SkeletaMuscle_PepFormer_threshold.npy', threshold)\n",
    "np.save('log/result_mouse_SkeletaMuscle_PepFormer_prob.npy', probs)\n",
    "np.save('log/result_mouse_SkeletaMuscle_PepFormer_true.npy', test_label)"
   ]
  },
  {
   "cell_type": "markdown",
   "id": "a63ddc2d",
   "metadata": {},
   "source": [
    "# Cross species : Human"
   ]
  },
  {
   "cell_type": "code",
   "execution_count": 8,
   "id": "e341ecc6",
   "metadata": {
    "ExecuteTime": {
     "end_time": "2023-03-19T17:23:50.242688Z",
     "start_time": "2023-03-19T17:15:08.018386Z"
    }
   },
   "outputs": [
    {
     "name": "stdout",
     "output_type": "stream",
     "text": [
      "length > 79: 0\n",
      "Test AUC : 0.8392486416647674\n",
      "              precision    recall  f1-score   support\n",
      "\n",
      "           0     0.9904    0.7883    0.8779   1236318\n",
      "           1     0.1189    0.7898    0.2067     44743\n",
      "\n",
      "    accuracy                         0.7883   1281061\n",
      "   macro avg     0.5547    0.7890    0.5423   1281061\n",
      "weighted avg     0.9600    0.7883    0.8544   1281061\n",
      "\n"
     ]
    },
    {
     "data": {
      "image/png": "[encoded data removed]",
      "text/plain": [
       "<Figure size 288x288 with 1 Axes>"
      ]
     },
     "metadata": {
      "needs_background": "light"
     },
     "output_type": "display_data"
    },
    {
     "data": {
      "image/png": "[encoded data removed]",
      "text/plain": [
       "<Figure size 216x216 with 2 Axes>"
      ]
     },
     "metadata": {
      "needs_background": "light"
     },
     "output_type": "display_data"
    }
   ],
   "source": [
    "tmp = pd.read_csv('/data/2021_SJH_detectability/diff_tool/human_hek293/data.csv')\n",
    "tmp=tmp.merge(df_merge, how='left')\n",
    "tmp.Drop.fillna(False, inplace=True)\n",
    "idxes=tmp.loc[tmp.Drop==True].index\n",
    "tmp=tmp.drop(idxes, axis=0).reset_index(drop=True)\n",
    "tmp=tmp.drop(['Drop'],axis=1)\n",
    "tmp=tmp[['peptide', 'label']]#.drop_duplicates()\n",
    "\n",
    "tmp['label'] = tmp['label'].apply(lambda x: {True: str(1), False: str(0)}[x])\n",
    "test = []\n",
    "for line in tmp.values:\n",
    "    line = ','.join(line)\n",
    "    test.append(line)\n",
    "\n",
    "test_data, test_label = genData(test, 79)\n",
    "test_data = test_data[:-1]\n",
    "test_label = test_label[:-1]\n",
    "test_dataset = Data.TensorDataset(test_data, test_label)\n",
    "batch_size=256\n",
    "test_iter = torch.utils.data.DataLoader(test_dataset, batch_size=batch_size, shuffle=False)\n",
    "\n",
    "y_pred = pred(test_iter, net)\n",
    "probs = np.array(pred_prob(test_iter, net))[:, 1]\n",
    "\n",
    "# acc = evaluate_accuracy(test_iter,net)\n",
    "auc = roc_auc_score(test_label, probs)\n",
    "\n",
    "# print('Test Accuracy: {}'.format(acc))\n",
    "print('Test AUC : {}'.format(auc))\n",
    "print(classification_report(test_label, y_pred, digits=4))\n",
    "\n",
    "plt.figure(figsize=(4, 4))\n",
    "fpr, tpr, threshold = roc_curve(test_label, probs)\n",
    "plt.plot(fpr, tpr, marker='.', label='AUC = {:.4f}'.format(auc), color='orange')\n",
    "plt.title('ROC curve')\n",
    "plt.xlabel('False Positive Rate')\n",
    "plt.ylabel('True Positive Rate')\n",
    "plt.legend()\n",
    "plt.show()\n",
    "\n",
    "cf_matrix = confusion_matrix(test_label, y_pred)\n",
    "plt.figure(figsize=(3, 3))\n",
    "sns.heatmap(cf_matrix, annot=True, fmt=',.0f')\n",
    "plt.show()\n",
    "\n",
    "np.save('log/result_human_HEK293_PepFormer_fpr.npy', fpr)\n",
    "np.save('log/result_human_HEK293_PepFormer_tpr.npy', tpr)\n",
    "np.save('log/result_human_HEK293_PepFormer_threshold.npy', threshold)\n",
    "np.save('log/result_human_HEK293_PepFormer_prob.npy', probs)\n",
    "np.save('log/result_human_HEK293_PepFormer_true.npy', test_label)"
   ]
  },
  {
   "cell_type": "code",
   "execution_count": 9,
   "id": "a91f95ab",
   "metadata": {
    "ExecuteTime": {
     "end_time": "2023-03-19T17:27:57.795048Z",
     "start_time": "2023-03-19T17:23:50.245671Z"
    }
   },
   "outputs": [
    {
     "name": "stdout",
     "output_type": "stream",
     "text": [
      "length > 79: 0\n",
      "Test AUC : 0.844003597421495\n",
      "              precision    recall  f1-score   support\n",
      "\n",
      "           0     0.9941    0.7900    0.8804    733958\n",
      "           1     0.0743    0.7815    0.1357     15830\n",
      "\n",
      "    accuracy                         0.7899    749788\n",
      "   macro avg     0.5342    0.7858    0.5081    749788\n",
      "weighted avg     0.9747    0.7899    0.8647    749788\n",
      "\n"
     ]
    },
    {
     "data": {
      "image/png": "[encoded data removed]",
      "text/plain": [
       "<Figure size 288x288 with 1 Axes>"
      ]
     },
     "metadata": {
      "needs_background": "light"
     },
     "output_type": "display_data"
    },
    {
     "data": {
      "image/png": "[encoded data removed]",
      "text/plain": [
       "<Figure size 216x216 with 2 Axes>"
      ]
     },
     "metadata": {
      "needs_background": "light"
     },
     "output_type": "display_data"
    }
   ],
   "source": [
    "tmp = pd.read_csv('/data/2021_SJH_detectability/diff_tool/human_liver/data.csv')\n",
    "tmp=tmp.merge(df_merge, how='left')\n",
    "tmp.Drop.fillna(False, inplace=True)\n",
    "idxes=tmp.loc[tmp.Drop==True].index\n",
    "tmp=tmp.drop(idxes, axis=0).reset_index(drop=True)\n",
    "tmp=tmp.drop(['Drop'],axis=1)\n",
    "tmp=tmp[['peptide', 'label']]#.drop_duplicates()\n",
    "\n",
    "tmp['label'] = tmp['label'].apply(lambda x: {True: str(1), False: str(0)}[x])\n",
    "test = []\n",
    "for line in tmp.values:\n",
    "    line = ','.join(line)\n",
    "    test.append(line)\n",
    "\n",
    "test_data, test_label = genData(test, 79)\n",
    "test_data = test_data[:-1]\n",
    "test_label = test_label[:-1]\n",
    "test_dataset = Data.TensorDataset(test_data, test_label)\n",
    "batch_size=256\n",
    "test_iter = torch.utils.data.DataLoader(test_dataset, batch_size=batch_size, shuffle=False)\n",
    "\n",
    "y_pred = pred(test_iter, net)\n",
    "probs = np.array(pred_prob(test_iter, net))[:, 1]\n",
    "\n",
    "# acc = evaluate_accuracy(test_iter,net)\n",
    "auc = roc_auc_score(test_label, probs)\n",
    "\n",
    "# print('Test Accuracy: {}'.format(acc))\n",
    "print('Test AUC : {}'.format(auc))\n",
    "print(classification_report(test_label, y_pred, digits=4))\n",
    "\n",
    "plt.figure(figsize=(4, 4))\n",
    "fpr, tpr, threshold = roc_curve(test_label, probs)\n",
    "plt.plot(fpr, tpr, marker='.', label='AUC = {:.4f}'.format(auc), color='orange')\n",
    "plt.title('ROC curve')\n",
    "plt.xlabel('False Positive Rate')\n",
    "plt.ylabel('True Positive Rate')\n",
    "plt.legend()\n",
    "plt.show()\n",
    "\n",
    "cf_matrix = confusion_matrix(test_label, y_pred)\n",
    "plt.figure(figsize=(3, 3))\n",
    "sns.heatmap(cf_matrix, annot=True, fmt=',.0f')\n",
    "plt.show()\n",
    "\n",
    "np.save('log/result_human_HmapLiver_PepFormer_fpr.npy', fpr)\n",
    "np.save('log/result_human_HmapLiver_PepFormer_tpr.npy', tpr)\n",
    "np.save('log/result_human_HmapLiver_PepFormer_threshold.npy', threshold)\n",
    "np.save('log/result_human_HmapLiver_PepFormer_prob.npy', probs)\n",
    "np.save('log/result_human_HmapLiver_PepFormer_true.npy', test_label)"
   ]
  },
  {
   "cell_type": "markdown",
   "id": "69c7bb88",
   "metadata": {},
   "source": [
    "# Cross species : Yeast"
   ]
  },
  {
   "cell_type": "code",
   "execution_count": 10,
   "id": "4eaf6db5",
   "metadata": {
    "ExecuteTime": {
     "end_time": "2023-03-19T17:31:22.224020Z",
     "start_time": "2023-03-19T17:27:57.796532Z"
    }
   },
   "outputs": [
    {
     "name": "stdout",
     "output_type": "stream",
     "text": [
      "length > 79: 0\n",
      "Test AUC : 0.8711557871961525\n",
      "              precision    recall  f1-score   support\n",
      "\n",
      "           0     0.9763    0.7596    0.8544    557294\n",
      "           1     0.3527    0.8764    0.5029     83280\n",
      "\n",
      "    accuracy                         0.7748    640574\n",
      "   macro avg     0.6645    0.8180    0.6787    640574\n",
      "weighted avg     0.8952    0.7748    0.8087    640574\n",
      "\n"
     ]
    },
    {
     "data": {
      "image/png": "[encoded data removed]",
      "text/plain": [
       "<Figure size 288x288 with 1 Axes>"
      ]
     },
     "metadata": {
      "needs_background": "light"
     },
     "output_type": "display_data"
    },
    {
     "data": {
      "image/png": "[encoded data removed]",
      "text/plain": [
       "<Figure size 216x216 with 2 Axes>"
      ]
     },
     "metadata": {
      "needs_background": "light"
     },
     "output_type": "display_data"
    }
   ],
   "source": [
    "tmp = pd.read_csv('/data/2021_SJH_detectability/diff_tool/yeast_23/data.csv')\n",
    "tmp=tmp.merge(df_merge, how='left')\n",
    "tmp.Drop.fillna(False, inplace=True)\n",
    "idxes=tmp.loc[tmp.Drop==True].index\n",
    "tmp=tmp.drop(idxes, axis=0).reset_index(drop=True)\n",
    "tmp=tmp.drop(['Drop'],axis=1)\n",
    "tmp=tmp[['peptide', 'label']]#.drop_duplicates()\n",
    "\n",
    "tmp['label'] = tmp['label'].apply(lambda x: {True: str(1), False: str(0)}[x])\n",
    "test = []\n",
    "for line in tmp.values:\n",
    "    line = ','.join(line)\n",
    "    test.append(line)\n",
    "\n",
    "test_data, test_label = genData(test, 79)\n",
    "test_data = test_data[:-1]\n",
    "test_label = test_label[:-1]\n",
    "test_dataset = Data.TensorDataset(test_data, test_label)\n",
    "batch_size=256\n",
    "test_iter = torch.utils.data.DataLoader(test_dataset, batch_size=batch_size, shuffle=False)\n",
    "\n",
    "y_pred = pred(test_iter, net)\n",
    "probs = np.array(pred_prob(test_iter, net))[:, 1]\n",
    "\n",
    "# acc = evaluate_accuracy(test_iter,net)\n",
    "auc = roc_auc_score(test_label, probs)\n",
    "\n",
    "# print('Test Accuracy: {}'.format(acc))\n",
    "print('Test AUC : {}'.format(auc))\n",
    "print(classification_report(test_label, y_pred, digits=4))\n",
    "\n",
    "plt.figure(figsize=(4, 4))\n",
    "fpr, tpr, threshold = roc_curve(test_label, probs)\n",
    "plt.plot(fpr, tpr, marker='.', label='AUC = {:.4f}'.format(auc), color='orange')\n",
    "plt.title('ROC curve')\n",
    "plt.xlabel('False Positive Rate')\n",
    "plt.ylabel('True Positive Rate')\n",
    "plt.legend()\n",
    "plt.show()\n",
    "\n",
    "cf_matrix = confusion_matrix(test_label, y_pred)\n",
    "plt.figure(figsize=(3, 3))\n",
    "sns.heatmap(cf_matrix, annot=True, fmt=',.0f')\n",
    "plt.show()\n",
    "\n",
    "np.save('log/result_yeast_DelPBP1_PepFormer_fpr.npy', fpr)\n",
    "np.save('log/result_yeast_DelPBP1_PepFormer_tpr.npy', tpr)\n",
    "np.save('log/result_yeast_DelPBP1_PepFormer_threshold.npy', threshold)\n",
    "np.save('log/result_yeast_DelPBP1_PepFormer_prob.npy', probs)\n",
    "np.save('log/result_yeast_DelPBP1_PepFormer_true.npy', test_label)"
   ]
  },
  {
   "cell_type": "code",
   "execution_count": 11,
   "id": "eeaa1e79",
   "metadata": {
    "ExecuteTime": {
     "end_time": "2023-03-19T17:34:29.405637Z",
     "start_time": "2023-03-19T17:31:22.226531Z"
    }
   },
   "outputs": [
    {
     "name": "stdout",
     "output_type": "stream",
     "text": [
      "length > 79: 0\n",
      "Test AUC : 0.8142269152484297\n",
      "              precision    recall  f1-score   support\n",
      "\n",
      "           0     0.9848    0.7058    0.8223    554951\n",
      "           1     0.1457    0.8215    0.2474     33885\n",
      "\n",
      "    accuracy                         0.7124    588836\n",
      "   macro avg     0.5652    0.7636    0.5349    588836\n",
      "weighted avg     0.9365    0.7124    0.7892    588836\n",
      "\n"
     ]
    },
    {
     "data": {
      "image/png": "[encoded data removed]",
      "text/plain": [
       "<Figure size 288x288 with 1 Axes>"
      ]
     },
     "metadata": {
      "needs_background": "light"
     },
     "output_type": "display_data"
    },
    {
     "data": {
      "image/png": "[encoded data removed]",
      "text/plain": [
       "<Figure size 216x216 with 2 Axes>"
      ]
     },
     "metadata": {
      "needs_background": "light"
     },
     "output_type": "display_data"
    }
   ],
   "source": [
    "tmp = pd.read_csv('/data/2021_SJH_detectability/diff_tool/yeast_25/data.csv')\n",
    "tmp=tmp.merge(df_merge, how='left')\n",
    "tmp.Drop.fillna(False, inplace=True)\n",
    "idxes=tmp.loc[tmp.Drop==True].index\n",
    "tmp=tmp.drop(idxes, axis=0).reset_index(drop=True)\n",
    "tmp=tmp.drop(['Drop'],axis=1)\n",
    "tmp=tmp[['peptide', 'label']]#.drop_duplicates()\n",
    "\n",
    "tmp['label'] = tmp['label'].apply(lambda x: {True: str(1), False: str(0)}[x])\n",
    "test = []\n",
    "for line in tmp.values:\n",
    "    line = ','.join(line)\n",
    "    test.append(line)\n",
    "\n",
    "test_data, test_label = genData(test, 79)\n",
    "test_data = test_data[:-1]\n",
    "test_label = test_label[:-1]\n",
    "test_dataset = Data.TensorDataset(test_data, test_label)\n",
    "batch_size=256\n",
    "test_iter = torch.utils.data.DataLoader(test_dataset, batch_size=batch_size, shuffle=False)\n",
    "\n",
    "y_pred = pred(test_iter, net)\n",
    "probs = np.array(pred_prob(test_iter, net))[:, 1]\n",
    "\n",
    "# acc = evaluate_accuracy(test_iter,net)\n",
    "auc = roc_auc_score(test_label, probs)\n",
    "\n",
    "# print('Test Accuracy: {}'.format(acc))\n",
    "print('Test AUC : {}'.format(auc))\n",
    "print(classification_report(test_label, y_pred, digits=4))\n",
    "\n",
    "plt.figure(figsize=(4, 4))\n",
    "fpr, tpr, threshold = roc_curve(test_label, probs)\n",
    "plt.plot(fpr, tpr, marker='.', label='AUC = {:.4f}'.format(auc), color='orange')\n",
    "plt.title('ROC curve')\n",
    "plt.xlabel('False Positive Rate')\n",
    "plt.ylabel('True Positive Rate')\n",
    "plt.legend()\n",
    "plt.show()\n",
    "\n",
    "cf_matrix = confusion_matrix(test_label, y_pred)\n",
    "plt.figure(figsize=(3, 3))\n",
    "sns.heatmap(cf_matrix, annot=True, fmt=',.0f')\n",
    "plt.show()\n",
    "\n",
    "np.save('log/result_yeast_KLife_PepFormer_fpr.npy', fpr)\n",
    "np.save('log/result_yeast_KLife_PepFormer_tpr.npy', tpr)\n",
    "np.save('log/result_yeast_KLife_PepFormer_threshold.npy', threshold)\n",
    "np.save('log/result_yeast_KLife_PepFormer_prob.npy', probs)\n",
    "np.save('log/result_yeast_KLife_PepFormer_true.npy', test_label)"
   ]
  },
  {
   "cell_type": "code",
   "execution_count": null,
   "id": "1a8186ca",
   "metadata": {},
   "outputs": [],
   "source": []
  }
 ],
 "metadata": {
  "kernelspec": {
   "display_name": "torch",
   "language": "python",
   "name": "torch"
  },
  "language_info": {
   "codemirror_mode": {
    "name": "ipython",
    "version": 3
   },
   "file_extension": ".py",
   "mimetype": "text/x-python",
   "name": "python",
   "nbconvert_exporter": "python",
   "pygments_lexer": "ipython3",
   "version": "3.6.13"
  }
 },
 "nbformat": 4,
 "nbformat_minor": 5
}
