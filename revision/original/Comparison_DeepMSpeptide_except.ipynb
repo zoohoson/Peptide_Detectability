{
 "cells": [
  {
   "cell_type": "code",
   "execution_count": 1,
   "id": "041a6739",
   "metadata": {
    "ExecuteTime": {
     "end_time": "2023-03-19T16:36:30.973244Z",
     "start_time": "2023-03-19T16:36:29.166892Z"
    }
   },
   "outputs": [
    {
     "name": "stdout",
     "output_type": "stream",
     "text": [
      "WARNING:tensorflow:From /home/bis/2021_SJH_detectability/DbyDeep/RefModel/model_DeepMSpeptide.py:14: The name tf.enable_eager_execution is deprecated. Please use tf.compat.v1.enable_eager_execution instead.\n",
      "\n"
     ]
    }
   ],
   "source": [
    "import os\n",
    "os.environ[\"CUDA_VISIBLE_DEVICES\"]='2'\n",
    "\n",
    "import warnings\n",
    "warnings.simplefilter(action='ignore', category=FutureWarning)\n",
    "\n",
    "import pandas as pd\n",
    "import numpy as np\n",
    "import tensorflow as tf\n",
    "from tensorflow import keras\n",
    "\n",
    "import matplotlib.pyplot as plt\n",
    "import seaborn as sns\n",
    "\n",
    "from sklearn.metrics import roc_curve, roc_auc_score, classification_report, confusion_matrix, accuracy_score\n",
    "\n",
    "import sys\n",
    "sys.path.append('/home/bis/2021_SJH_detectability/DbyDeep')\n",
    "from RefModel.model_DeepMSpeptide import load_pep_and_codify"
   ]
  },
  {
   "cell_type": "code",
   "execution_count": 2,
   "id": "5c37f788",
   "metadata": {
    "ExecuteTime": {
     "end_time": "2023-03-19T16:36:31.973958Z",
     "start_time": "2023-03-19T16:36:30.974991Z"
    }
   },
   "outputs": [
    {
     "name": "stdout",
     "output_type": "stream",
     "text": [
      "Loading model...\n",
      "WARNING:tensorflow:From /home/bis/miniconda3/envs/TF1.14/lib/python3.6/site-packages/tensorflow/python/ops/math_grad.py:1250: add_dispatch_support.<locals>.wrapper (from tensorflow.python.ops.array_ops) is deprecated and will be removed in a future version.\n",
      "Instructions for updating:\n",
      "Use tf.where in 2.0, which has the same broadcast rule as np.where\n",
      "WARNING:tensorflow:Error in loading the saved optimizer state. As a result, your model is starting with a freshly initialized optimizer.\n"
     ]
    }
   ],
   "source": [
    "print('Loading model...')\n",
    "model_2_1D = keras.models.load_model('/home/bis/2021_SJH_detectability/DbyDeep/RefModel/2019Bioinformatics_DeepMSPeptide/DeepMSPeptide/model_2_1D.h5')\n",
    "# retrained"
   ]
  },
  {
   "cell_type": "code",
   "execution_count": 3,
   "id": "2b01203c",
   "metadata": {
    "ExecuteTime": {
     "end_time": "2023-03-19T16:36:34.490546Z",
     "start_time": "2023-03-19T16:36:32.951720Z"
    }
   },
   "outputs": [],
   "source": [
    "df_massive=pd.read_csv('/data/2021_SJH_detectability/data_human/train.csv')\n",
    "df_hpp=pd.read_csv('/data/2021_SJH_detectability/data_human/HPP.csv')\n",
    "df_merge=pd.DataFrame(np.concatenate([df_massive.peptide.unique(), df_hpp.peptide.unique()]), columns=['peptide'])\n",
    "df_merge['Drop']=True"
   ]
  },
  {
   "cell_type": "markdown",
   "id": "a16fd587",
   "metadata": {},
   "source": [
    "# Cross species : Mouse"
   ]
  },
  {
   "cell_type": "code",
   "execution_count": 10,
   "id": "6e13c650",
   "metadata": {
    "ExecuteTime": {
     "end_time": "2023-03-19T17:07:29.335719Z",
     "start_time": "2023-03-19T16:57:59.080921Z"
    }
   },
   "outputs": [
    {
     "name": "stdout",
     "output_type": "stream",
     "text": [
      "Loading input peptides\n",
      "Succesfully loaded 1294207 peptides and skipped 0\n",
      "1294207/1294207 [==============================] - 302s 233us/sample - loss: 3.3098 - acc: 0.2749 - binary_crossentropy: 3.3098\n",
      "Test Accuracy: [3.3098268206503247, 0.27490038, 3.3098187]\n",
      "Test AUC : 0.8625419165579195\n",
      "              precision    recall  f1-score   support\n",
      "\n",
      "       False     0.9942    0.7184    0.8341   1245028\n",
      "        True     0.1115    0.8942    0.1982     49179\n",
      "\n",
      "    accuracy                         0.7251   1294207\n",
      "   macro avg     0.5528    0.8063    0.5162   1294207\n",
      "weighted avg     0.9607    0.7251    0.8099   1294207\n",
      "\n"
     ]
    },
    {
     "data": {
      "image/png": "[encoded data removed]",
      "text/plain": [
       "<Figure size 288x288 with 1 Axes>"
      ]
     },
     "metadata": {
      "needs_background": "light"
     },
     "output_type": "display_data"
    },
    {
     "data": {
      "image/png": "[encoded data removed]",
      "text/plain": [
       "<Figure size 216x216 with 2 Axes>"
      ]
     },
     "metadata": {
      "needs_background": "light"
     },
     "output_type": "display_data"
    }
   ],
   "source": [
    "df_test = pd.concat([\n",
    "    pd.read_csv('/data/2021_SJH_detectability/data_cross_species/raw/mouse/KLife/train.csv'),\n",
    "    pd.read_csv('/data/2021_SJH_detectability/data_cross_species/raw/mouse/KLife/test.csv'),\n",
    "])\n",
    "df_test=df_test.merge(df_merge, how='left')\n",
    "df_test.Drop.fillna(False, inplace=True)\n",
    "idxes=df_test.loc[df_test.Drop==True].index\n",
    "df_test=df_test.drop(idxes, axis=0).reset_index(drop=True)\n",
    "df_test=df_test.drop(['Drop'],axis=1)\n",
    "df_test=df_test[['peptide', 'label']]#.drop_duplicates()\n",
    "\n",
    "df_test = df_test[df_test.peptide.apply(lambda x: 'B' not in x)].reset_index(drop=True)\n",
    "df_test = df_test[df_test.peptide.apply(lambda x: 'Z' not in x)].reset_index(drop=True)\n",
    "\n",
    "print('Loading input peptides')\n",
    "file = df_test.peptide.values\n",
    "X_test, skipped,  lines = load_pep_and_codify(file, 81)\n",
    "y_test = df_test.label.values\n",
    "print('Succesfully loaded {0} peptides and skipped {1}'.format(len(lines), str(skipped)))\n",
    "\n",
    "probs = model_2_1D.predict(X_test)\n",
    "probs = 1-probs\n",
    "y_pred = [1 if i>=0.5 else 0 for i in probs]\n",
    "acc = model_2_1D.evaluate(X_test, y_test)\n",
    "\n",
    "auc = roc_auc_score(y_test, probs)\n",
    "print('Test Accuracy: {}'.format(acc))\n",
    "print('Test AUC : {}'.format(auc))\n",
    "print(classification_report(y_test, y_pred, digits=4))\n",
    "\n",
    "plt.figure(figsize=(4, 4))\n",
    "fpr, tpr, threshold = roc_curve(y_test, probs)\n",
    "plt.plot(fpr, tpr, marker='.', label='AUC = {:.4f}'.format(auc), color='orange')\n",
    "plt.title('ROC curve')\n",
    "plt.xlabel('False Positive Rate')\n",
    "plt.ylabel('True Positive Rate')\n",
    "plt.legend()\n",
    "plt.show()\n",
    "\n",
    "cf_matrix = confusion_matrix(y_test, y_pred)\n",
    "plt.figure(figsize=(3, 3))\n",
    "sns.heatmap(cf_matrix, annot=True, fmt=',.0f')\n",
    "plt.show()\n",
    "\n",
    "np.save('log/result_mouse_KLife_DeepMSpeptide_fpr.npy', fpr)\n",
    "np.save('log/result_mouse_KLife_DeepMSpeptide_tpr.npy', tpr)\n",
    "np.save('log/result_mouse_KLife_DeepMSpeptide_threshold.npy', threshold)\n",
    "np.save('log/result_mouse_KLife_DeepMSpeptide_prob.npy', probs)\n",
    "np.save('log/result_mouse_KLife_DeepMSpeptide_true.npy', y_test)"
   ]
  },
  {
   "cell_type": "code",
   "execution_count": 11,
   "id": "c8e385f3",
   "metadata": {
    "ExecuteTime": {
     "end_time": "2023-03-19T17:16:48.145210Z",
     "start_time": "2023-03-19T17:07:29.343347Z"
    }
   },
   "outputs": [
    {
     "name": "stdout",
     "output_type": "stream",
     "text": [
      "Loading input peptides\n",
      "Succesfully loaded 1127006 peptides and skipped 0\n",
      "1127006/1127006 [==============================] - 276s 245us/sample - loss: 3.2751 - acc: 0.2798 - binary_crossentropy: 3.2751\n",
      "Test Accuracy: [3.275124556052303, 0.27983525, 3.2751231]\n",
      "Test AUC : 0.8375819938856793\n",
      "              precision    recall  f1-score   support\n",
      "\n",
      "       False     0.9908    0.7152    0.8307   1082017\n",
      "        True     0.1092    0.8397    0.1933     44989\n",
      "\n",
      "    accuracy                         0.7202   1127006\n",
      "   macro avg     0.5500    0.7774    0.5120   1127006\n",
      "weighted avg     0.9556    0.7202    0.8053   1127006\n",
      "\n"
     ]
    },
    {
     "data": {
      "image/png": "[encoded data removed]",
      "text/plain": [
       "<Figure size 288x288 with 1 Axes>"
      ]
     },
     "metadata": {
      "needs_background": "light"
     },
     "output_type": "display_data"
    },
    {
     "data": {
      "image/png": "[encoded data removed]",
      "text/plain": [
       "<Figure size 216x216 with 2 Axes>"
      ]
     },
     "metadata": {
      "needs_background": "light"
     },
     "output_type": "display_data"
    }
   ],
   "source": [
    "df_test = pd.concat([\n",
    "    pd.read_csv('/data/2021_SJH_detectability/data_cross_species/raw/mouse/SkeletaMuscle/train.csv'),\n",
    "    pd.read_csv('/data/2021_SJH_detectability/data_cross_species/raw/mouse/SkeletaMuscle/test.csv'),\n",
    "])\n",
    "df_test=df_test.merge(df_merge, how='left')\n",
    "df_test.Drop.fillna(False, inplace=True)\n",
    "idxes=df_test.loc[df_test.Drop==True].index\n",
    "df_test=df_test.drop(idxes, axis=0).reset_index(drop=True)\n",
    "df_test=df_test.drop(['Drop'],axis=1)\n",
    "df_test=df_test[['peptide', 'label']]#.drop_duplicates()\n",
    "\n",
    "df_test = df_test[df_test.peptide.apply(lambda x: 'B' not in x)].reset_index(drop=True)\n",
    "df_test = df_test[df_test.peptide.apply(lambda x: 'Z' not in x)].reset_index(drop=True)\n",
    "\n",
    "print('Loading input peptides')\n",
    "file = df_test.peptide.values\n",
    "X_test, skipped,  lines = load_pep_and_codify(file, 81)\n",
    "y_test = df_test.label.values\n",
    "print('Succesfully loaded {0} peptides and skipped {1}'.format(len(lines), str(skipped)))\n",
    "\n",
    "probs = model_2_1D.predict(X_test)\n",
    "probs = 1-probs\n",
    "y_pred = [1 if i>=0.5 else 0 for i in probs]\n",
    "acc = model_2_1D.evaluate(X_test, y_test)\n",
    "\n",
    "auc = roc_auc_score(y_test, probs)\n",
    "print('Test Accuracy: {}'.format(acc))\n",
    "print('Test AUC : {}'.format(auc))\n",
    "print(classification_report(y_test, y_pred, digits=4))\n",
    "\n",
    "plt.figure(figsize=(4, 4))\n",
    "fpr, tpr, threshold = roc_curve(y_test, probs)\n",
    "plt.plot(fpr, tpr, marker='.', label='AUC = {:.4f}'.format(auc), color='orange')\n",
    "plt.title('ROC curve')\n",
    "plt.xlabel('False Positive Rate')\n",
    "plt.ylabel('True Positive Rate')\n",
    "plt.legend()\n",
    "plt.show()\n",
    "\n",
    "cf_matrix = confusion_matrix(y_test, y_pred)\n",
    "plt.figure(figsize=(3, 3))\n",
    "sns.heatmap(cf_matrix, annot=True, fmt=',.0f')\n",
    "plt.show()\n",
    "\n",
    "np.save('log/result_mouse_SkeletaMuscle_DeepMSpeptide_fpr.npy', fpr)\n",
    "np.save('log/result_mouse_SkeletaMuscle_DeepMSpeptide_tpr.npy', tpr)\n",
    "np.save('log/result_mouse_SkeletaMuscle_DeepMSpeptide_threshold.npy', threshold)\n",
    "np.save('log/result_mouse_SkeletaMuscle_DeepMSpeptide_prob.npy', probs)\n",
    "np.save('log/result_mouse_SkeletaMuscle_DeepMSpeptide_true.npy', y_test)"
   ]
  },
  {
   "cell_type": "markdown",
   "id": "3cd28dfc",
   "metadata": {},
   "source": [
    "# Cross species : Human"
   ]
  },
  {
   "cell_type": "code",
   "execution_count": 12,
   "id": "4c734f5e",
   "metadata": {
    "ExecuteTime": {
     "end_time": "2023-03-19T17:22:36.134229Z",
     "start_time": "2023-03-19T17:16:48.148108Z"
    }
   },
   "outputs": [
    {
     "name": "stdout",
     "output_type": "stream",
     "text": [
      "Loading input peptides\n",
      "Succesfully loaded 1400233 peptides and skipped 0\n",
      "Test AUC : 0.831425079563499\n",
      "              precision    recall  f1-score   support\n",
      "\n",
      "       False     0.9902    0.7456    0.8506   1353817\n",
      "        True     0.0956    0.7844    0.1704     46416\n",
      "\n",
      "    accuracy                         0.7468   1400233\n",
      "   macro avg     0.5429    0.7650    0.5105   1400233\n",
      "weighted avg     0.9605    0.7468    0.8281   1400233\n",
      "\n"
     ]
    },
    {
     "data": {
      "image/png": "[encoded data removed]",
      "text/plain": [
       "<Figure size 288x288 with 1 Axes>"
      ]
     },
     "metadata": {
      "needs_background": "light"
     },
     "output_type": "display_data"
    },
    {
     "data": {
      "image/png": "[encoded data removed]",
      "text/plain": [
       "<Figure size 216x216 with 2 Axes>"
      ]
     },
     "metadata": {
      "needs_background": "light"
     },
     "output_type": "display_data"
    }
   ],
   "source": [
    "df_test = pd.concat([\n",
    "    pd.read_csv('/data/2021_SJH_detectability/data_cross_species/raw/human/HEK293/train.csv'),\n",
    "    pd.read_csv('/data/2021_SJH_detectability/data_cross_species/raw/human/HEK293/test.csv'),\n",
    "])\n",
    "df_test=df_test.merge(df_merge, how='left')\n",
    "df_test.Drop.fillna(False, inplace=True)\n",
    "idxes=df_test.loc[df_test.Drop==True].index\n",
    "df_test=df_test.drop(idxes, axis=0).reset_index(drop=True)\n",
    "df_test=df_test.drop(['Drop'],axis=1)\n",
    "df_test=df_test[['peptide', 'label']]#.drop_duplicates()\n",
    "\n",
    "print('Loading input peptides')\n",
    "file = df_test.peptide.values\n",
    "X_test, skipped,  lines = load_pep_and_codify(file, 81)\n",
    "y_test = df_test.label.values\n",
    "print('Succesfully loaded {0} peptides and skipped {1}'.format(len(lines), str(skipped)))\n",
    "\n",
    "probs = model_2_1D.predict(X_test)\n",
    "probs = 1-probs\n",
    "y_pred = [1 if i >= 0.5 else 0 for i in probs]\n",
    "# acc = model_2_1D.evaluate(X_test, y_test)\n",
    "\n",
    "auc = roc_auc_score(y_test, probs)\n",
    "# print('Test Accuracy: {}'.format(acc))\n",
    "print('Test AUC : {}'.format(auc))\n",
    "print(classification_report(y_test, y_pred, digits=4))\n",
    "\n",
    "plt.figure(figsize=(4, 4))\n",
    "fpr, tpr, threshold = roc_curve(y_test, probs)\n",
    "plt.plot(fpr, tpr, marker='.', label='AUC = {:.4f}'.format(auc), color='orange')\n",
    "plt.title('ROC curve')\n",
    "plt.xlabel('False Positive Rate')\n",
    "plt.ylabel('True Positive Rate')\n",
    "plt.legend()\n",
    "plt.show()\n",
    "\n",
    "cf_matrix = confusion_matrix(y_test, y_pred)\n",
    "plt.figure(figsize=(3, 3))\n",
    "sns.heatmap(cf_matrix, annot=True, fmt=',.0f')\n",
    "plt.show()\n",
    "\n",
    "np.save('log/result_human_HEK293_DeepMSpeptide_fpr.npy', fpr)\n",
    "np.save('log/result_human_HEK293_DeepMSpeptide_tpr.npy', tpr)\n",
    "np.save('log/result_human_HEK293_DeepMSpeptide_threshold.npy', threshold)\n",
    "np.save('log/result_human_HEK293_DeepMSpeptide_prob.npy', probs)\n",
    "np.save('log/result_human_HEK293_DeepMSpeptide_true.npy', y_test)"
   ]
  },
  {
   "cell_type": "code",
   "execution_count": 13,
   "id": "182a4073",
   "metadata": {
    "ExecuteTime": {
     "end_time": "2023-03-19T17:26:25.417870Z",
     "start_time": "2023-03-19T17:22:36.141824Z"
    }
   },
   "outputs": [
    {
     "name": "stdout",
     "output_type": "stream",
     "text": [
      "Loading input peptides\n",
      "Succesfully loaded 1011246 peptides and skipped 0\n",
      "Test AUC : 0.8295632731482132\n",
      "              precision    recall  f1-score   support\n",
      "\n",
      "       False     0.9948    0.7375    0.8470    993639\n",
      "        True     0.0501    0.7812    0.0941     17607\n",
      "\n",
      "    accuracy                         0.7382   1011246\n",
      "   macro avg     0.5224    0.7593    0.4706   1011246\n",
      "weighted avg     0.9783    0.7382    0.8339   1011246\n",
      "\n"
     ]
    },
    {
     "data": {
      "image/png": "[encoded data removed]",
      "text/plain": [
       "<Figure size 288x288 with 1 Axes>"
      ]
     },
     "metadata": {
      "needs_background": "light"
     },
     "output_type": "display_data"
    },
    {
     "data": {
      "image/png": "[encoded data removed]",
      "text/plain": [
       "<Figure size 216x216 with 2 Axes>"
      ]
     },
     "metadata": {
      "needs_background": "light"
     },
     "output_type": "display_data"
    }
   ],
   "source": [
    "df_test = pd.concat([\n",
    "    pd.read_csv('/data/2021_SJH_detectability/data_cross_species/raw/human/HmapLiver/train.csv'),\n",
    "    pd.read_csv('/data/2021_SJH_detectability/data_cross_species/raw/human/HmapLiver/test.csv'),\n",
    "])\n",
    "df_test=df_test.merge(df_merge, how='left')\n",
    "df_test.Drop.fillna(False, inplace=True)\n",
    "idxes=df_test.loc[df_test.Drop==True].index\n",
    "df_test=df_test.drop(idxes, axis=0).reset_index(drop=True)\n",
    "df_test=df_test.drop(['Drop'],axis=1)\n",
    "df_test=df_test[['peptide', 'label']]#.drop_duplicates()\n",
    "\n",
    "print('Loading input peptides')\n",
    "file = df_test.peptide.values\n",
    "X_test, skipped,  lines = load_pep_and_codify(file, 81)\n",
    "y_test = df_test.label.values\n",
    "print('Succesfully loaded {0} peptides and skipped {1}'.format(len(lines), str(skipped)))\n",
    "\n",
    "probs = model_2_1D.predict(X_test)\n",
    "probs = 1-probs\n",
    "y_pred = [1 if i >= 0.5 else 0 for i in probs]\n",
    "# acc = model_2_1D.evaluate(X_test, y_test)\n",
    "\n",
    "auc = roc_auc_score(y_test, probs)\n",
    "# print('Test Accuracy: {}'.format(acc))\n",
    "print('Test AUC : {}'.format(auc))\n",
    "print(classification_report(y_test, y_pred, digits=4))\n",
    "\n",
    "plt.figure(figsize=(4, 4))\n",
    "fpr, tpr, threshold = roc_curve(y_test, probs)\n",
    "plt.plot(fpr, tpr, marker='.', label='AUC = {:.4f}'.format(auc), color='orange')\n",
    "plt.title('ROC curve')\n",
    "plt.xlabel('False Positive Rate')\n",
    "plt.ylabel('True Positive Rate')\n",
    "plt.legend()\n",
    "plt.show()\n",
    "\n",
    "cf_matrix = confusion_matrix(y_test, y_pred)\n",
    "plt.figure(figsize=(3, 3))\n",
    "sns.heatmap(cf_matrix, annot=True, fmt=',.0f')\n",
    "plt.show()\n",
    "\n",
    "np.save('log/result_human_HmapLiver_DeepMSpeptide_fpr.npy', fpr)\n",
    "np.save('log/result_human_HmapLiver_DeepMSpeptide_tpr.npy', tpr)\n",
    "np.save('log/result_human_HmapLiver_DeepMSpeptide_threshold.npy', threshold)\n",
    "np.save('log/result_human_HmapLiver_DeepMSpeptide_prob.npy', probs)\n",
    "np.save('log/result_human_HmapLiver_DeepMSpeptide_true.npy', y_test)"
   ]
  },
  {
   "cell_type": "markdown",
   "id": "bcca8836",
   "metadata": {
    "ExecuteTime": {
     "end_time": "2022-10-31T07:39:43.417842Z",
     "start_time": "2022-10-31T07:39:43.415890Z"
    }
   },
   "source": [
    "# Yeast"
   ]
  },
  {
   "cell_type": "code",
   "execution_count": 14,
   "id": "aea3dc37",
   "metadata": {
    "ExecuteTime": {
     "end_time": "2023-03-19T17:30:22.394415Z",
     "start_time": "2023-03-19T17:26:25.420660Z"
    }
   },
   "outputs": [
    {
     "name": "stdout",
     "output_type": "stream",
     "text": [
      "Loading input peptides\n",
      "Succesfully loaded 553772 peptides and skipped 0\n",
      "553772/553772 [==============================] - 113s 204us/sample - loss: 2.9592 - acc: 0.3165 - binary_crossentropy: 2.9592\n",
      "Test Accuracy: [2.959174943940014, 0.31648764, 2.959183]\n",
      "Test AUC : 0.8086083700214877\n",
      "              precision    recall  f1-score   support\n",
      "\n",
      "       False     0.9837    0.6747    0.8004    520802\n",
      "        True     0.1380    0.8229    0.2364     32970\n",
      "\n",
      "    accuracy                         0.6835    553772\n",
      "   macro avg     0.5608    0.7488    0.5184    553772\n",
      "weighted avg     0.9333    0.6835    0.7668    553772\n",
      "\n"
     ]
    },
    {
     "data": {
      "image/png": "[encoded data removed]",
      "text/plain": [
       "<Figure size 288x288 with 1 Axes>"
      ]
     },
     "metadata": {
      "needs_background": "light"
     },
     "output_type": "display_data"
    },
    {
     "data": {
      "image/png": "[encoded data removed]",
      "text/plain": [
       "<Figure size 216x216 with 2 Axes>"
      ]
     },
     "metadata": {
      "needs_background": "light"
     },
     "output_type": "display_data"
    }
   ],
   "source": [
    "df_test = pd.concat([\n",
    "    pd.read_csv('/data/2021_SJH_detectability/data_cross_species/raw/yeast/DelPBP1/train.csv'),\n",
    "    pd.read_csv('/data/2021_SJH_detectability/data_cross_species/raw/yeast/DelPBP1/test.csv'),\n",
    "])\n",
    "df_test=df_test.merge(df_merge, how='left')\n",
    "df_test.Drop.fillna(False, inplace=True)\n",
    "idxes=df_test.loc[df_test.Drop==True].index\n",
    "df_test=df_test.drop(idxes, axis=0).reset_index(drop=True)\n",
    "df_test=df_test.drop(['Drop'],axis=1)\n",
    "df_test=df_test[['peptide', 'label']]#.drop_duplicates()\n",
    "\n",
    "print('Loading input peptides')\n",
    "file = df_test.peptide.values\n",
    "X_test, skipped,  lines = load_pep_and_codify(file, 81)\n",
    "y_test = df_test.label.values\n",
    "print('Succesfully loaded {0} peptides and skipped {1}'.format(len(lines), str(skipped)))\n",
    "\n",
    "probs = model_2_1D.predict(X_test)\n",
    "probs = 1-probs\n",
    "y_pred = [1 if i>=0.5 else 0 for i in probs]\n",
    "acc = model_2_1D.evaluate(X_test, y_test)\n",
    "\n",
    "auc = roc_auc_score(y_test, probs)\n",
    "print('Test Accuracy: {}'.format(acc))\n",
    "print('Test AUC : {}'.format(auc))\n",
    "print(classification_report(y_test, y_pred, digits=4))\n",
    "\n",
    "plt.figure(figsize=(4, 4))\n",
    "fpr, tpr, threshold = roc_curve(y_test, probs)\n",
    "plt.plot(fpr, tpr, marker='.', label='AUC = {:.4f}'.format(auc), color='orange')\n",
    "plt.title('ROC curve')\n",
    "plt.xlabel('False Positive Rate')\n",
    "plt.ylabel('True Positive Rate')\n",
    "plt.legend()\n",
    "plt.show()\n",
    "\n",
    "cf_matrix = confusion_matrix(y_test, y_pred)\n",
    "plt.figure(figsize=(3, 3))\n",
    "sns.heatmap(cf_matrix, annot=True, fmt=',.0f')\n",
    "plt.show()\n",
    "\n",
    "np.save('log/result_yeast_DelPBP1_DeepMSpeptide_fpr.npy', fpr)\n",
    "np.save('log/result_yeast_DelPBP1_DeepMSpeptide_tpr.npy', tpr)\n",
    "np.save('log/result_yeast_DelPBP1_DeepMSpeptide_threshold.npy', threshold)\n",
    "np.save('log/result_yeast_DelPBP1_DeepMSpeptide_prob.npy', probs)\n",
    "np.save('log/result_yeast_DelPBP1_DeepMSpeptide_true.npy', y_test)"
   ]
  },
  {
   "cell_type": "code",
   "execution_count": 15,
   "id": "4d3a0ad2",
   "metadata": {
    "ExecuteTime": {
     "end_time": "2023-03-19T17:34:51.627450Z",
     "start_time": "2023-03-19T17:30:22.396409Z"
    }
   },
   "outputs": [
    {
     "name": "stdout",
     "output_type": "stream",
     "text": [
      "Loading input peptides\n",
      "Succesfully loaded 639915 peptides and skipped 0\n",
      "639915/639915 [==============================] - 127s 199us/sample - loss: 3.0768 - acc: 0.2597 - binary_crossentropy: 3.0768\n",
      "Test Accuracy: [3.0767742654262964, 0.25973606, 3.0767732]\n",
      "Test AUC : 0.8573292635471582\n",
      "              precision    recall  f1-score   support\n",
      "\n",
      "       False     0.9770    0.7211    0.8298    561767\n",
      "        True     0.3046    0.8782    0.4523     78148\n",
      "\n",
      "    accuracy                         0.7403    639915\n",
      "   macro avg     0.6408    0.7997    0.6410    639915\n",
      "weighted avg     0.8949    0.7403    0.7837    639915\n",
      "\n"
     ]
    },
    {
     "data": {
      "image/png": "[encoded data removed]",
      "text/plain": [
       "<Figure size 288x288 with 1 Axes>"
      ]
     },
     "metadata": {
      "needs_background": "light"
     },
     "output_type": "display_data"
    },
    {
     "data": {
      "image/png": "[encoded data removed]",
      "text/plain": [
       "<Figure size 216x216 with 2 Axes>"
      ]
     },
     "metadata": {
      "needs_background": "light"
     },
     "output_type": "display_data"
    }
   ],
   "source": [
    "df_test = pd.concat([\n",
    "    pd.read_csv('/data/2021_SJH_detectability/data_cross_species/raw/yeast/KLife/train.csv'),\n",
    "    pd.read_csv('/data/2021_SJH_detectability/data_cross_species/raw/yeast/KLife/test.csv'),\n",
    "])\n",
    "df_test=df_test.merge(df_merge, how='left')\n",
    "df_test.Drop.fillna(False, inplace=True)\n",
    "idxes=df_test.loc[df_test.Drop==True].index\n",
    "df_test=df_test.drop(idxes, axis=0).reset_index(drop=True)\n",
    "df_test=df_test.drop(['Drop'],axis=1)\n",
    "df_test=df_test[['peptide', 'label']]#.drop_duplicates()\n",
    "\n",
    "print('Loading input peptides')\n",
    "file = df_test.peptide.values\n",
    "X_test, skipped,  lines = load_pep_and_codify(file, 81)\n",
    "y_test = df_test.label.values\n",
    "print('Succesfully loaded {0} peptides and skipped {1}'.format(len(lines), str(skipped)))\n",
    "\n",
    "probs = model_2_1D.predict(X_test)\n",
    "probs = 1-probs\n",
    "y_pred = [1 if i>=0.5 else 0 for i in probs]\n",
    "acc = model_2_1D.evaluate(X_test, y_test)\n",
    "\n",
    "auc = roc_auc_score(y_test, probs)\n",
    "print('Test Accuracy: {}'.format(acc))\n",
    "print('Test AUC : {}'.format(auc))\n",
    "print(classification_report(y_test, y_pred, digits=4))\n",
    "\n",
    "plt.figure(figsize=(4, 4))\n",
    "fpr, tpr, threshold = roc_curve(y_test, probs)\n",
    "plt.plot(fpr, tpr, marker='.', label='AUC = {:.4f}'.format(auc), color='orange')\n",
    "plt.title('ROC curve')\n",
    "plt.xlabel('False Positive Rate')\n",
    "plt.ylabel('True Positive Rate')\n",
    "plt.legend()\n",
    "plt.show()\n",
    "\n",
    "cf_matrix = confusion_matrix(y_test, y_pred)\n",
    "plt.figure(figsize=(3, 3))\n",
    "sns.heatmap(cf_matrix, annot=True, fmt=',.0f')\n",
    "plt.show()\n",
    "\n",
    "np.save('log/result_yeast_KLife_DeepMSpeptide_fpr.npy', fpr)\n",
    "np.save('log/result_yeast_KLife_DeepMSpeptide_tpr.npy', tpr)\n",
    "np.save('log/result_yeast_KLife_DeepMSpeptide_threshold.npy', threshold)\n",
    "np.save('log/result_yeast_KLife_DeepMSpeptide_prob.npy', probs)\n",
    "np.save('log/result_yeast_KLife_DeepMSpeptide_true.npy', y_test)"
   ]
  },
  {
   "cell_type": "code",
   "execution_count": null,
   "id": "13963bc6",
   "metadata": {},
   "outputs": [],
   "source": []
  }
 ],
 "metadata": {
  "kernelspec": {
   "display_name": "TF1.14",
   "language": "python",
   "name": "tf1.14"
  },
  "language_info": {
   "codemirror_mode": {
    "name": "ipython",
    "version": 3
   },
   "file_extension": ".py",
   "mimetype": "text/x-python",
   "name": "python",
   "nbconvert_exporter": "python",
   "pygments_lexer": "ipython3",
   "version": "3.6.13"
  }
 },
 "nbformat": 4,
 "nbformat_minor": 5
}
