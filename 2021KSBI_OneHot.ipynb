{
 "cells": [
  {
   "cell_type": "code",
   "execution_count": 1,
   "metadata": {
    "ExecuteTime": {
     "end_time": "2021-09-07T18:52:46.277171Z",
     "start_time": "2021-09-07T18:52:44.923991Z"
    }
   },
   "outputs": [],
   "source": [
    "import pandas as pd\n",
    "import numpy as np\n",
    "import matplotlib.pyplot as plt\n",
    "import seaborn as sns\n",
    "from sklearn.metrics import classification_report\n",
    "from sklearn.metrics import confusion_matrix\n",
    "from sklearn.metrics import roc_curve\n",
    "from sklearn.metrics import roc_auc_score\n",
    "from sklearn.model_selection import train_test_split"
   ]
  },
  {
   "cell_type": "code",
   "execution_count": 2,
   "metadata": {
    "ExecuteTime": {
     "end_time": "2021-09-07T18:52:46.299183Z",
     "start_time": "2021-09-07T18:52:46.278801Z"
    }
   },
   "outputs": [
    {
     "name": "stdout",
     "output_type": "stream",
     "text": [
      "(19, 21)\n"
     ]
    }
   ],
   "source": [
    "df_aaindex = pd.read_csv('data/aaindex/df_aaindex19.csv')\n",
    "print(df_aaindex.shape)\n",
    "df_aaindex.head(1)\n",
    "tmp = df_aaindex.drop('Unnamed: 0',axis=1).T\n",
    "aa2val = dict()\n",
    "for aa, val in zip(tmp.index, tmp.values):\n",
    "    aa2val[aa]=val"
   ]
  },
  {
   "cell_type": "code",
   "execution_count": 3,
   "metadata": {
    "ExecuteTime": {
     "end_time": "2021-09-07T18:52:47.705633Z",
     "start_time": "2021-09-07T18:52:46.300535Z"
    }
   },
   "outputs": [],
   "source": [
    "df_detect_peptide_train = pd.read_csv('data/df_detect_peptide_train.csv')\n",
    "test = pd.read_csv('data/df_detect_peptide_test.csv')\n",
    "train, val = train_test_split(df_detect_peptide_train, test_size=0.2, random_state=7)"
   ]
  },
  {
   "cell_type": "code",
   "execution_count": 4,
   "metadata": {
    "ExecuteTime": {
     "end_time": "2021-09-07T18:52:47.722507Z",
     "start_time": "2021-09-07T18:52:47.706979Z"
    }
   },
   "outputs": [
    {
     "data": {
      "text/html": [
       "<div>\n",
       "<style scoped>\n",
       "    .dataframe tbody tr th:only-of-type {\n",
       "        vertical-align: middle;\n",
       "    }\n",
       "\n",
       "    .dataframe tbody tr th {\n",
       "        vertical-align: top;\n",
       "    }\n",
       "\n",
       "    .dataframe thead th {\n",
       "        text-align: right;\n",
       "    }\n",
       "</style>\n",
       "<table border=\"1\" class=\"dataframe\">\n",
       "  <thead>\n",
       "    <tr style=\"text-align: right;\">\n",
       "      <th></th>\n",
       "      <th>peptide</th>\n",
       "      <th>En</th>\n",
       "      <th>Ec</th>\n",
       "      <th>E1</th>\n",
       "      <th>E2</th>\n",
       "      <th>protein</th>\n",
       "      <th>PEP</th>\n",
       "      <th>ID</th>\n",
       "    </tr>\n",
       "  </thead>\n",
       "  <tbody>\n",
       "    <tr>\n",
       "      <th>210101</th>\n",
       "      <td>R.MDKVHSEAER.L</td>\n",
       "      <td>QQKVLQQRMDKVHSE</td>\n",
       "      <td>KVHSEAERLEARFQD</td>\n",
       "      <td>VLQQRMDKVHSEAER</td>\n",
       "      <td>-</td>\n",
       "      <td>sp|Q96M63|CC114_HUMAN</td>\n",
       "      <td>MDKVHSEAER</td>\n",
       "      <td>0</td>\n",
       "    </tr>\n",
       "  </tbody>\n",
       "</table>\n",
       "</div>"
      ],
      "text/plain": [
       "               peptide               En               Ec               E1 E2  \\\n",
       "210101  R.MDKVHSEAER.L  QQKVLQQRMDKVHSE  KVHSEAERLEARFQD  VLQQRMDKVHSEAER  -   \n",
       "\n",
       "                      protein         PEP  ID  \n",
       "210101  sp|Q96M63|CC114_HUMAN  MDKVHSEAER   0  "
      ]
     },
     "execution_count": 4,
     "metadata": {},
     "output_type": "execute_result"
    }
   ],
   "source": [
    "train.head(1)"
   ]
  },
  {
   "cell_type": "code",
   "execution_count": 5,
   "metadata": {
    "ExecuteTime": {
     "end_time": "2021-09-07T18:52:47.730367Z",
     "start_time": "2021-09-07T18:52:47.723555Z"
    }
   },
   "outputs": [],
   "source": [
    "def get_data(df):\n",
    "    aa_data = [np.array([seq.count(a) for a in 'ARNDCQEGHILKMFPSTWYVZ'] + list(np.array([aa2val[aa] for aa in seq]).sum(axis=0)))\n",
    "               for seq in df.PEP.values]\n",
    "    pep_data = [[[1 if aa == a else 0 for a in 'ARNDCQEGHILKMFPSTWYVZ'] for aa in seq] + [[0]*21]*(30-len(seq))\n",
    "               for seq in df.PEP.values]\n",
    "    en_data = [[[1 if aa == a else 0 for a in 'ARNDCQEGHILKMFPSTWYVZ'] for aa in seq]\n",
    "               for seq in df.En.values]\n",
    "    ec_data = [[[1 if aa == a else 0 for a in 'ARNDCQEGHILKMFPSTWYVZ'] for aa in seq]\n",
    "               for seq in df.Ec.values]\n",
    "    e1_data = [[[1 if aa == a else 0 for a in 'ARNDCQEGHILKMFPSTWYVZ'] for aa in seq]\n",
    "               if seq != '-' else [[0]*21 for _ in range(15)]\n",
    "               for seq in df.E1.values]\n",
    "    e2_data = [[[1 if aa == a else 0 for a in 'ARNDCQEGHILKMFPSTWYVZ'] for aa in seq]\n",
    "               if seq != '-' else [[0]*21 for _ in range(15)]\n",
    "               for seq in df.E2.values]\n",
    "    return np.array(aa_data), np.array(pep_data), np.array(en_data), np.array(ec_data), np.array(e1_data), np.array(e2_data), np.array(df.ID.values)"
   ]
  },
  {
   "cell_type": "code",
   "execution_count": 6,
   "metadata": {
    "ExecuteTime": {
     "end_time": "2021-09-07T18:55:21.200579Z",
     "start_time": "2021-09-07T18:52:47.731374Z"
    }
   },
   "outputs": [
    {
     "name": "stdout",
     "output_type": "stream",
     "text": [
      "(215352, 40) (215352, 30, 21) (215352, 15, 21) (215352, 15, 21) (215352, 15, 21) (215352, 15, 21) (215352,)\n",
      "(53838, 40) (53838, 30, 21) (53838, 15, 21) (53838, 15, 21) (53838, 15, 21) (53838, 15, 21) (53838,)\n",
      "(67298, 40) (67298, 30, 21) (67298, 15, 21) (67298, 15, 21) (67298, 15, 21) (67298, 15, 21) (67298,)\n"
     ]
    }
   ],
   "source": [
    "aa_train, pep_train, en_train, ec_train, e1_train, e2_train, y_train = get_data(train)\n",
    "\n",
    "aa_val, pep_val, en_val, ec_val, e1_val, e2_val, y_val = get_data(val)\n",
    "\n",
    "aa_test, pep_test, en_test, ec_test, e1_test, e2_test, y_test = get_data(test)\n",
    "\n",
    "print(aa_train.shape, pep_train.shape, en_train.shape, ec_train.shape, e1_train.shape, e2_train.shape, y_train.shape)\n",
    "\n",
    "print(aa_val.shape, pep_val.shape, en_val.shape, ec_val.shape, e1_val.shape, e2_val.shape, y_val.shape)\n",
    "\n",
    "print(aa_test.shape, pep_test.shape, en_test.shape, ec_test.shape, e1_test.shape, e2_test.shape, y_test.shape)"
   ]
  },
  {
   "cell_type": "markdown",
   "metadata": {},
   "source": [
    "# Train"
   ]
  },
  {
   "cell_type": "code",
   "execution_count": 7,
   "metadata": {
    "ExecuteTime": {
     "end_time": "2021-09-07T18:55:22.667698Z",
     "start_time": "2021-09-07T18:55:21.202229Z"
    }
   },
   "outputs": [],
   "source": [
    "from tensorflow.python.client import device_lib\n",
    "\n",
    "import tensorflow as tf\n",
    "gpus = tf.config.experimental.list_physical_devices('GPU')\n",
    "if gpus:\n",
    "    try:\n",
    "        tf.config.experimental.set_virtual_device_configuration(gpus[1],\n",
    "        [tf.config.experimental.VirtualDeviceConfiguration(memory_limit=1024*4)])\n",
    "    except RuntimeError as e:\n",
    "        print(e)"
   ]
  },
  {
   "cell_type": "code",
   "execution_count": 9,
   "metadata": {
    "ExecuteTime": {
     "end_time": "2021-09-07T18:55:22.671694Z",
     "start_time": "2021-09-07T18:55:22.668974Z"
    }
   },
   "outputs": [],
   "source": [
    "def plot_graphs(history, metric):\n",
    "    plt.plot(history.history[metric])\n",
    "    plt.plot(history.history['val_'+metric], '')\n",
    "    plt.xlabel(\"Epochs\")\n",
    "    plt.ylabel(metric)\n",
    "    plt.legend([metric, 'val_'+metric])"
   ]
  },
  {
   "cell_type": "markdown",
   "metadata": {},
   "source": [
    "# high param"
   ]
  },
  {
   "cell_type": "code",
   "execution_count": 14,
   "metadata": {
    "ExecuteTime": {
     "end_time": "2021-09-07T18:55:25.723488Z",
     "start_time": "2021-09-07T18:55:22.672698Z"
    }
   },
   "outputs": [
    {
     "name": "stdout",
     "output_type": "stream",
     "text": [
      "Model: \"model_1\"\n",
      "__________________________________________________________________________________________________\n",
      "Layer (type)                    Output Shape         Param #     Connected to                     \n",
      "==================================================================================================\n",
      "input_7 (InputLayer)            [(None, 30, 21)]     0                                            \n",
      "__________________________________________________________________________________________________\n",
      "input_9 (InputLayer)            [(None, 15, 21)]     0                                            \n",
      "__________________________________________________________________________________________________\n",
      "input_10 (InputLayer)           [(None, 15, 21)]     0                                            \n",
      "__________________________________________________________________________________________________\n",
      "input_11 (InputLayer)           [(None, 15, 21)]     0                                            \n",
      "__________________________________________________________________________________________________\n",
      "input_12 (InputLayer)           [(None, 15, 21)]     0                                            \n",
      "__________________________________________________________________________________________________\n",
      "bidirectional_5 (Bidirectional) (None, 32)           4864        input_7[0][0]                    \n",
      "__________________________________________________________________________________________________\n",
      "bidirectional_6 (Bidirectional) (None, 32)           4864        input_9[0][0]                    \n",
      "__________________________________________________________________________________________________\n",
      "bidirectional_7 (Bidirectional) (None, 32)           4864        input_10[0][0]                   \n",
      "__________________________________________________________________________________________________\n",
      "bidirectional_8 (Bidirectional) (None, 32)           4864        input_11[0][0]                   \n",
      "__________________________________________________________________________________________________\n",
      "bidirectional_9 (Bidirectional) (None, 32)           4864        input_12[0][0]                   \n",
      "__________________________________________________________________________________________________\n",
      "dense_9 (Dense)                 (None, 32)           1056        bidirectional_5[0][0]            \n",
      "__________________________________________________________________________________________________\n",
      "input_8 (InputLayer)            [(None, 40)]         0                                            \n",
      "__________________________________________________________________________________________________\n",
      "dense_11 (Dense)                (None, 32)           1056        bidirectional_6[0][0]            \n",
      "__________________________________________________________________________________________________\n",
      "dense_12 (Dense)                (None, 32)           1056        bidirectional_7[0][0]            \n",
      "__________________________________________________________________________________________________\n",
      "dense_13 (Dense)                (None, 32)           1056        bidirectional_8[0][0]            \n",
      "__________________________________________________________________________________________________\n",
      "dense_14 (Dense)                (None, 32)           1056        bidirectional_9[0][0]            \n",
      "__________________________________________________________________________________________________\n",
      "dropout_7 (Dropout)             (None, 32)           0           dense_9[0][0]                    \n",
      "__________________________________________________________________________________________________\n",
      "dense_10 (Dense)                (None, 32)           1312        input_8[0][0]                    \n",
      "__________________________________________________________________________________________________\n",
      "dropout_8 (Dropout)             (None, 32)           0           dense_11[0][0]                   \n",
      "__________________________________________________________________________________________________\n",
      "dropout_9 (Dropout)             (None, 32)           0           dense_12[0][0]                   \n",
      "__________________________________________________________________________________________________\n",
      "dropout_10 (Dropout)            (None, 32)           0           dense_13[0][0]                   \n",
      "__________________________________________________________________________________________________\n",
      "dropout_11 (Dropout)            (None, 32)           0           dense_14[0][0]                   \n",
      "__________________________________________________________________________________________________\n",
      "concatenate_1 (Concatenate)     (None, 192)          0           dropout_7[0][0]                  \n",
      "                                                                 dense_10[0][0]                   \n",
      "                                                                 dropout_8[0][0]                  \n",
      "                                                                 dropout_9[0][0]                  \n",
      "                                                                 dropout_10[0][0]                 \n",
      "                                                                 dropout_11[0][0]                 \n",
      "__________________________________________________________________________________________________\n",
      "dense_15 (Dense)                (None, 128)          24704       concatenate_1[0][0]              \n",
      "__________________________________________________________________________________________________\n",
      "dropout_12 (Dropout)            (None, 128)          0           dense_15[0][0]                   \n",
      "__________________________________________________________________________________________________\n",
      "dense_16 (Dense)                (None, 64)           8256        dropout_12[0][0]                 \n",
      "__________________________________________________________________________________________________\n",
      "dropout_13 (Dropout)            (None, 64)           0           dense_16[0][0]                   \n",
      "__________________________________________________________________________________________________\n",
      "dense_17 (Dense)                (None, 1)            65          dropout_13[0][0]                 \n",
      "==================================================================================================\n",
      "Total params: 63,937\n",
      "Trainable params: 63,937\n",
      "Non-trainable params: 0\n",
      "__________________________________________________________________________________________________\n"
     ]
    }
   ],
   "source": [
    "input1 = tf.keras.layers.Input(shape=((30,21,)))  # peptide with zero padding\n",
    "input2 = tf.keras.layers.Input(shape=((40,)))  # peptide info\n",
    "input3 = tf.keras.layers.Input(shape=((15,21,)))  # N term info\n",
    "input4 = tf.keras.layers.Input(shape=((15,21,)))  # C term info\n",
    "input5 = tf.keras.layers.Input(shape=((15,21,)))  # miss1 term info\n",
    "input6 = tf.keras.layers.Input(shape=((15,21,)))  # miss2 term info\n",
    "\n",
    "\n",
    "lstm1 = tf.keras.layers.Bidirectional(tf.keras.layers.LSTM(16))(input1)\n",
    "net_lstm_ = tf.keras.layers.Dense(32, activation='relu')(lstm1)\n",
    "net_lstm = tf.keras.layers.Dropout(np.random.uniform(0, 0.2))(net_lstm_)\n",
    "\n",
    "net_dense1 = tf.keras.layers.Dense(32, activation='relu')(input2)\n",
    "\n",
    "digest_n = tf.keras.layers.Bidirectional(tf.keras.layers.LSTM(16))(input3)\n",
    "net_n_ = tf.keras.layers.Dense(32, activation='relu')(digest_n)\n",
    "net_n = tf.keras.layers.Dropout(np.random.uniform(0, 0.2))(net_n_)\n",
    "\n",
    "digest_c = tf.keras.layers.Bidirectional(tf.keras.layers.LSTM(16))(input4)\n",
    "net_c_ = tf.keras.layers.Dense(32, activation='relu')(digest_c)\n",
    "net_c = tf.keras.layers.Dropout(np.random.uniform(0, 0.2))(net_c_)\n",
    "\n",
    "digest_m1 = tf.keras.layers.Bidirectional(tf.keras.layers.LSTM(16))(input5)\n",
    "net_m1_ = tf.keras.layers.Dense(32, activation='relu')(digest_m1)\n",
    "net_m1 = tf.keras.layers.Dropout(np.random.uniform(0, 0.2))(net_m1_)\n",
    "\n",
    "digest_m2 = tf.keras.layers.Bidirectional(tf.keras.layers.LSTM(16))(input6)\n",
    "net_m2_ = tf.keras.layers.Dense(32, activation='relu')(digest_m2)\n",
    "net_m2 = tf.keras.layers.Dropout(np.random.uniform(0, 0.2))(net_m2_)\n",
    "\n",
    "merge = tf.keras.layers.concatenate([net_lstm, \n",
    "                                     net_dense1,\n",
    "                                     net_n,\n",
    "                                     net_c,\n",
    "                                     net_m1,\n",
    "                                     net_m2])\n",
    "\n",
    "net1 = tf.keras.layers.Dense(128, activation='relu')(merge)\n",
    "net1_drop = tf.keras.layers.Dropout(np.random.uniform(0, 0.2))(net1)\n",
    "\n",
    "net2 = tf.keras.layers.Dense(64, activation='relu')(net1_drop)\n",
    "net2_drop = tf.keras.layers.Dropout(np.random.uniform(0, 0.2))(net2)\n",
    "\n",
    "output = tf.keras.layers.Dense(1, activation = 'sigmoid')(net2_drop)\n",
    "\n",
    "model_high = tf.keras.Model(inputs=[input1, input2,\n",
    "                              input3, input4,\n",
    "                              input5, input6],\n",
    "                       outputs=[output])\n",
    "\n",
    "model_high.summary()\n",
    "\n",
    "model_high.compile(loss=tf.keras.losses.BinaryCrossentropy(from_logits=True),\n",
    "              optimizer=tf.keras.optimizers.Adam(1e-4),\n",
    "              metrics=['accuracy'])\n",
    "\n",
    "es = tf.keras.callbacks.EarlyStopping(monitor='val_loss',\n",
    "                                      mode='min', \n",
    "                                      verbose=1,\n",
    "                                      patience=20)"
   ]
  },
  {
   "cell_type": "code",
   "execution_count": 15,
   "metadata": {
    "ExecuteTime": {
     "end_time": "2021-09-04T20:56:49.366194Z",
     "start_time": "2021-09-04T20:28:19.590351Z"
    },
    "scrolled": true
   },
   "outputs": [
    {
     "name": "stdout",
     "output_type": "stream",
     "text": [
      "Epoch 1/300\n",
      "3365/3365 [==============================] - 169s 47ms/step - loss: 4.8917 - accuracy: 0.5683 - val_loss: 0.5169 - val_accuracy: 0.7417\n",
      "Epoch 2/300\n",
      "3365/3365 [==============================] - 153s 45ms/step - loss: 0.5354 - accuracy: 0.7360 - val_loss: 0.4841 - val_accuracy: 0.7712\n",
      "Epoch 3/300\n",
      "3365/3365 [==============================] - 153s 46ms/step - loss: 0.4950 - accuracy: 0.7634 - val_loss: 0.4635 - val_accuracy: 0.7806\n",
      "Epoch 4/300\n",
      "3365/3365 [==============================] - 152s 45ms/step - loss: 0.4780 - accuracy: 0.7724 - val_loss: 0.4588 - val_accuracy: 0.7823\n",
      "Epoch 5/300\n",
      "3365/3365 [==============================] - 153s 46ms/step - loss: 0.4654 - accuracy: 0.7788 - val_loss: 0.4524 - val_accuracy: 0.7852\n",
      "Epoch 6/300\n",
      "3365/3365 [==============================] - 152s 45ms/step - loss: 0.4595 - accuracy: 0.7858 - val_loss: 0.4444 - val_accuracy: 0.7899\n",
      "Epoch 7/300\n",
      "3365/3365 [==============================] - 154s 46ms/step - loss: 0.4505 - accuracy: 0.7900 - val_loss: 0.4391 - val_accuracy: 0.7940\n",
      "Epoch 8/300\n",
      "3365/3365 [==============================] - 152s 45ms/step - loss: 0.4453 - accuracy: 0.7926 - val_loss: 0.4330 - val_accuracy: 0.7990\n",
      "Epoch 9/300\n",
      "3365/3365 [==============================] - 157s 47ms/step - loss: 0.4407 - accuracy: 0.7954 - val_loss: 0.4298 - val_accuracy: 0.8024\n",
      "Epoch 10/300\n",
      "3365/3365 [==============================] - 156s 46ms/step - loss: 0.4351 - accuracy: 0.7988 - val_loss: 0.4268 - val_accuracy: 0.8045\n",
      "Epoch 11/300\n",
      "3365/3365 [==============================] - 152s 45ms/step - loss: 0.4317 - accuracy: 0.8013 - val_loss: 0.4211 - val_accuracy: 0.8077\n",
      "Epoch 12/300\n",
      "3365/3365 [==============================] - 157s 47ms/step - loss: 0.4267 - accuracy: 0.8041 - val_loss: 0.4261 - val_accuracy: 0.8045\n",
      "Epoch 13/300\n",
      "3365/3365 [==============================] - 161s 48ms/step - loss: 0.4241 - accuracy: 0.8062 - val_loss: 0.4193 - val_accuracy: 0.8091\n",
      "Epoch 14/300\n",
      "3365/3365 [==============================] - 162s 48ms/step - loss: 0.4213 - accuracy: 0.8071 - val_loss: 0.4119 - val_accuracy: 0.8119\n",
      "Epoch 15/300\n",
      "3365/3365 [==============================] - 159s 47ms/step - loss: 0.4189 - accuracy: 0.8085 - val_loss: 0.4128 - val_accuracy: 0.8115\n",
      "Epoch 16/300\n",
      "3365/3365 [==============================] - 155s 46ms/step - loss: 0.4163 - accuracy: 0.8102 - val_loss: 0.4098 - val_accuracy: 0.8128\n",
      "Epoch 17/300\n",
      "3365/3365 [==============================] - 159s 47ms/step - loss: 0.4111 - accuracy: 0.8139 - val_loss: 0.4092 - val_accuracy: 0.8124\n",
      "Epoch 18/300\n",
      "3365/3365 [==============================] - 159s 47ms/step - loss: 0.4121 - accuracy: 0.8113 - val_loss: 0.4072 - val_accuracy: 0.8146\n",
      "Epoch 19/300\n",
      "3365/3365 [==============================] - 161s 48ms/step - loss: 0.4125 - accuracy: 0.8117 - val_loss: 0.4068 - val_accuracy: 0.8147\n",
      "Epoch 20/300\n",
      "3365/3365 [==============================] - 160s 48ms/step - loss: 0.4069 - accuracy: 0.8143 - val_loss: 0.4048 - val_accuracy: 0.8156\n",
      "Epoch 21/300\n",
      "3365/3365 [==============================] - 155s 46ms/step - loss: 0.4078 - accuracy: 0.8148 - val_loss: 0.4032 - val_accuracy: 0.8165\n",
      "Epoch 22/300\n",
      "3365/3365 [==============================] - 157s 47ms/step - loss: 0.4062 - accuracy: 0.8159 - val_loss: 0.4027 - val_accuracy: 0.8181\n",
      "Epoch 23/300\n",
      "3365/3365 [==============================] - 157s 47ms/step - loss: 0.4034 - accuracy: 0.8173 - val_loss: 0.3999 - val_accuracy: 0.8179\n",
      "Epoch 24/300\n",
      "3365/3365 [==============================] - 152s 45ms/step - loss: 0.4036 - accuracy: 0.8166 - val_loss: 0.3992 - val_accuracy: 0.8190\n",
      "Epoch 25/300\n",
      "3365/3365 [==============================] - 155s 46ms/step - loss: 0.4024 - accuracy: 0.8182 - val_loss: 0.3993 - val_accuracy: 0.8180\n",
      "Epoch 26/300\n",
      "3365/3365 [==============================] - 150s 45ms/step - loss: 0.3989 - accuracy: 0.8185 - val_loss: 0.3958 - val_accuracy: 0.8209\n",
      "Epoch 27/300\n",
      "3365/3365 [==============================] - 151s 45ms/step - loss: 0.3960 - accuracy: 0.8212 - val_loss: 0.3984 - val_accuracy: 0.8190\n",
      "Epoch 28/300\n",
      "3365/3365 [==============================] - 150s 45ms/step - loss: 0.3986 - accuracy: 0.8200 - val_loss: 0.3963 - val_accuracy: 0.8191\n",
      "Epoch 29/300\n",
      "3365/3365 [==============================] - 150s 45ms/step - loss: 0.3966 - accuracy: 0.8202 - val_loss: 0.3933 - val_accuracy: 0.8210\n",
      "Epoch 30/300\n",
      "3365/3365 [==============================] - 149s 44ms/step - loss: 0.3939 - accuracy: 0.8230 - val_loss: 0.3942 - val_accuracy: 0.8217\n",
      "Epoch 31/300\n",
      "3365/3365 [==============================] - 151s 45ms/step - loss: 0.3951 - accuracy: 0.8224 - val_loss: 0.3959 - val_accuracy: 0.8208\n",
      "Epoch 32/300\n",
      "3365/3365 [==============================] - 152s 45ms/step - loss: 0.3930 - accuracy: 0.8229 - val_loss: 0.3939 - val_accuracy: 0.8207\n",
      "Epoch 33/300\n",
      "3365/3365 [==============================] - 151s 45ms/step - loss: 0.3929 - accuracy: 0.8234 - val_loss: 0.3911 - val_accuracy: 0.8241\n",
      "Epoch 34/300\n",
      "3365/3365 [==============================] - 151s 45ms/step - loss: 0.3926 - accuracy: 0.8223 - val_loss: 0.3911 - val_accuracy: 0.8240\n",
      "Epoch 35/300\n",
      "3365/3365 [==============================] - 153s 46ms/step - loss: 0.3884 - accuracy: 0.8260 - val_loss: 0.3906 - val_accuracy: 0.8248\n",
      "Epoch 36/300\n",
      "3365/3365 [==============================] - 146s 43ms/step - loss: 0.3896 - accuracy: 0.8248 - val_loss: 0.3892 - val_accuracy: 0.8248\n",
      "Epoch 37/300\n",
      "3365/3365 [==============================] - 153s 45ms/step - loss: 0.3878 - accuracy: 0.8253 - val_loss: 0.3897 - val_accuracy: 0.8251\n",
      "Epoch 38/300\n",
      "3365/3365 [==============================] - 154s 46ms/step - loss: 0.3870 - accuracy: 0.8266 - val_loss: 0.3897 - val_accuracy: 0.8261\n",
      "Epoch 39/300\n",
      "3365/3365 [==============================] - 150s 45ms/step - loss: 0.3873 - accuracy: 0.8272 - val_loss: 0.3875 - val_accuracy: 0.8260\n",
      "Epoch 40/300\n",
      "3365/3365 [==============================] - 154s 46ms/step - loss: 0.3863 - accuracy: 0.8268 - val_loss: 0.3890 - val_accuracy: 0.8255\n",
      "Epoch 41/300\n",
      "3365/3365 [==============================] - 153s 45ms/step - loss: 0.3862 - accuracy: 0.8262 - val_loss: 0.3885 - val_accuracy: 0.8248\n",
      "Epoch 42/300\n",
      "3365/3365 [==============================] - 152s 45ms/step - loss: 0.3843 - accuracy: 0.8282 - val_loss: 0.3889 - val_accuracy: 0.8269\n",
      "Epoch 43/300\n",
      "3365/3365 [==============================] - 151s 45ms/step - loss: 0.3847 - accuracy: 0.8270 - val_loss: 0.3884 - val_accuracy: 0.8243\n",
      "Epoch 44/300\n",
      "3365/3365 [==============================] - 154s 46ms/step - loss: 0.3827 - accuracy: 0.8284 - val_loss: 0.3873 - val_accuracy: 0.8279\n",
      "Epoch 45/300\n",
      "3365/3365 [==============================] - 152s 45ms/step - loss: 0.3828 - accuracy: 0.8292 - val_loss: 0.3888 - val_accuracy: 0.8259\n",
      "Epoch 46/300\n",
      "3365/3365 [==============================] - 155s 46ms/step - loss: 0.3825 - accuracy: 0.8283 - val_loss: 0.3866 - val_accuracy: 0.8254\n",
      "Epoch 47/300\n",
      "3365/3365 [==============================] - 152s 45ms/step - loss: 0.3809 - accuracy: 0.8308 - val_loss: 0.3905 - val_accuracy: 0.8215\n",
      "Epoch 48/300\n",
      "3365/3365 [==============================] - 153s 45ms/step - loss: 0.3811 - accuracy: 0.8293 - val_loss: 0.3839 - val_accuracy: 0.8280\n",
      "Epoch 49/300\n",
      "3365/3365 [==============================] - 155s 46ms/step - loss: 0.3833 - accuracy: 0.8279 - val_loss: 0.3869 - val_accuracy: 0.8264\n",
      "Epoch 50/300\n",
      "3365/3365 [==============================] - 152s 45ms/step - loss: 0.3784 - accuracy: 0.8314 - val_loss: 0.3857 - val_accuracy: 0.8281\n",
      "Epoch 51/300\n",
      "3365/3365 [==============================] - 154s 46ms/step - loss: 0.3791 - accuracy: 0.8306 - val_loss: 0.3837 - val_accuracy: 0.8287\n",
      "Epoch 52/300\n",
      "3365/3365 [==============================] - 152s 45ms/step - loss: 0.3793 - accuracy: 0.8303 - val_loss: 0.3833 - val_accuracy: 0.8285\n",
      "Epoch 53/300\n",
      "3365/3365 [==============================] - 153s 46ms/step - loss: 0.3781 - accuracy: 0.8315 - val_loss: 0.3901 - val_accuracy: 0.8233\n",
      "Epoch 54/300\n",
      "3365/3365 [==============================] - 153s 45ms/step - loss: 0.3769 - accuracy: 0.8317 - val_loss: 0.3856 - val_accuracy: 0.8266\n",
      "Epoch 55/300\n",
      "3365/3365 [==============================] - 154s 46ms/step - loss: 0.3769 - accuracy: 0.8305 - val_loss: 0.3822 - val_accuracy: 0.8294\n",
      "Epoch 56/300\n"
     ]
    },
    {
     "name": "stdout",
     "output_type": "stream",
     "text": [
      "3365/3365 [==============================] - 153s 45ms/step - loss: 0.3765 - accuracy: 0.8312 - val_loss: 0.3831 - val_accuracy: 0.8287\n",
      "Epoch 57/300\n",
      "3365/3365 [==============================] - 152s 45ms/step - loss: 0.3751 - accuracy: 0.8332 - val_loss: 0.3810 - val_accuracy: 0.8298\n",
      "Epoch 58/300\n",
      "3365/3365 [==============================] - 152s 45ms/step - loss: 0.3758 - accuracy: 0.8327 - val_loss: 0.3822 - val_accuracy: 0.8298\n",
      "Epoch 59/300\n",
      "3365/3365 [==============================] - 151s 45ms/step - loss: 0.3745 - accuracy: 0.8334 - val_loss: 0.3809 - val_accuracy: 0.8302\n",
      "Epoch 60/300\n",
      "3365/3365 [==============================] - 154s 46ms/step - loss: 0.3748 - accuracy: 0.8322 - val_loss: 0.3814 - val_accuracy: 0.8308\n",
      "Epoch 61/300\n",
      "3365/3365 [==============================] - 153s 45ms/step - loss: 0.3758 - accuracy: 0.8327 - val_loss: 0.3815 - val_accuracy: 0.8297\n",
      "Epoch 62/300\n",
      "3365/3365 [==============================] - 153s 45ms/step - loss: 0.3750 - accuracy: 0.8329 - val_loss: 0.3796 - val_accuracy: 0.8301\n",
      "Epoch 63/300\n",
      "3365/3365 [==============================] - 153s 46ms/step - loss: 0.3728 - accuracy: 0.8337 - val_loss: 0.3853 - val_accuracy: 0.8252\n",
      "Epoch 64/300\n",
      "3365/3365 [==============================] - 152s 45ms/step - loss: 0.3729 - accuracy: 0.8337 - val_loss: 0.3782 - val_accuracy: 0.8307\n",
      "Epoch 65/300\n",
      "3365/3365 [==============================] - 152s 45ms/step - loss: 0.3715 - accuracy: 0.8349 - val_loss: 0.3791 - val_accuracy: 0.8312\n",
      "Epoch 66/300\n",
      "3365/3365 [==============================] - 152s 45ms/step - loss: 0.3731 - accuracy: 0.8341 - val_loss: 0.3769 - val_accuracy: 0.8326\n",
      "Epoch 67/300\n",
      "3365/3365 [==============================] - 151s 45ms/step - loss: 0.3733 - accuracy: 0.8347 - val_loss: 0.3795 - val_accuracy: 0.8305\n",
      "Epoch 68/300\n",
      "3365/3365 [==============================] - 152s 45ms/step - loss: 0.3722 - accuracy: 0.8344 - val_loss: 0.3771 - val_accuracy: 0.8321\n",
      "Epoch 69/300\n",
      "3365/3365 [==============================] - 152s 45ms/step - loss: 0.3725 - accuracy: 0.8340 - val_loss: 0.3803 - val_accuracy: 0.8314\n",
      "Epoch 70/300\n",
      "3365/3365 [==============================] - 152s 45ms/step - loss: 0.3694 - accuracy: 0.8353 - val_loss: 0.3775 - val_accuracy: 0.8309\n",
      "Epoch 71/300\n",
      "3365/3365 [==============================] - 154s 46ms/step - loss: 0.3723 - accuracy: 0.8336 - val_loss: 0.3780 - val_accuracy: 0.8310\n",
      "Epoch 72/300\n",
      "3365/3365 [==============================] - 155s 46ms/step - loss: 0.3660 - accuracy: 0.8372 - val_loss: 0.3786 - val_accuracy: 0.8321\n",
      "Epoch 73/300\n",
      "3365/3365 [==============================] - 152s 45ms/step - loss: 0.3695 - accuracy: 0.8347 - val_loss: 0.3799 - val_accuracy: 0.8292\n",
      "Epoch 74/300\n",
      "3365/3365 [==============================] - 152s 45ms/step - loss: 0.3704 - accuracy: 0.8357 - val_loss: 0.3850 - val_accuracy: 0.8267\n",
      "Epoch 75/300\n",
      "3365/3365 [==============================] - 152s 45ms/step - loss: 0.3691 - accuracy: 0.8366 - val_loss: 0.3780 - val_accuracy: 0.8331\n",
      "Epoch 76/300\n",
      "3365/3365 [==============================] - 152s 45ms/step - loss: 0.3678 - accuracy: 0.8362 - val_loss: 0.3782 - val_accuracy: 0.8327\n",
      "Epoch 77/300\n",
      "3365/3365 [==============================] - 152s 45ms/step - loss: 0.3685 - accuracy: 0.8355 - val_loss: 0.3774 - val_accuracy: 0.8321\n",
      "Epoch 78/300\n",
      "3365/3365 [==============================] - 151s 45ms/step - loss: 0.3670 - accuracy: 0.8364 - val_loss: 0.3818 - val_accuracy: 0.8304\n",
      "Epoch 79/300\n",
      "3365/3365 [==============================] - 152s 45ms/step - loss: 0.3656 - accuracy: 0.8369 - val_loss: 0.3762 - val_accuracy: 0.8321\n",
      "Epoch 80/300\n",
      "3365/3365 [==============================] - 152s 45ms/step - loss: 0.3668 - accuracy: 0.8364 - val_loss: 0.3758 - val_accuracy: 0.8329\n",
      "Epoch 81/300\n",
      "3365/3365 [==============================] - 155s 46ms/step - loss: 0.3667 - accuracy: 0.8371 - val_loss: 0.3769 - val_accuracy: 0.8311\n",
      "Epoch 82/300\n",
      "3365/3365 [==============================] - 152s 45ms/step - loss: 0.3666 - accuracy: 0.8376 - val_loss: 0.3778 - val_accuracy: 0.8316\n",
      "Epoch 83/300\n",
      "3365/3365 [==============================] - 152s 45ms/step - loss: 0.3657 - accuracy: 0.8370 - val_loss: 0.3776 - val_accuracy: 0.8315\n",
      "Epoch 84/300\n",
      "3365/3365 [==============================] - 152s 45ms/step - loss: 0.3656 - accuracy: 0.8386 - val_loss: 0.3774 - val_accuracy: 0.8317\n",
      "Epoch 85/300\n",
      "3365/3365 [==============================] - 153s 45ms/step - loss: 0.3654 - accuracy: 0.8377 - val_loss: 0.3771 - val_accuracy: 0.8323\n",
      "Epoch 86/300\n",
      "3365/3365 [==============================] - 151s 45ms/step - loss: 0.3628 - accuracy: 0.8387 - val_loss: 0.3845 - val_accuracy: 0.8241\n",
      "Epoch 87/300\n",
      "3365/3365 [==============================] - 153s 45ms/step - loss: 0.3651 - accuracy: 0.8369 - val_loss: 0.3765 - val_accuracy: 0.8325\n",
      "Epoch 88/300\n",
      "3365/3365 [==============================] - 152s 45ms/step - loss: 0.3651 - accuracy: 0.8366 - val_loss: 0.3783 - val_accuracy: 0.8315\n",
      "Epoch 89/300\n",
      "3365/3365 [==============================] - 154s 46ms/step - loss: 0.3632 - accuracy: 0.8384 - val_loss: 0.3754 - val_accuracy: 0.8333\n",
      "Epoch 90/300\n",
      "3365/3365 [==============================] - 154s 46ms/step - loss: 0.3643 - accuracy: 0.8379 - val_loss: 0.3751 - val_accuracy: 0.8341\n",
      "Epoch 91/300\n",
      "3365/3365 [==============================] - 154s 46ms/step - loss: 0.3611 - accuracy: 0.8382 - val_loss: 0.3744 - val_accuracy: 0.8340\n",
      "Epoch 92/300\n",
      "3365/3365 [==============================] - 152s 45ms/step - loss: 0.3610 - accuracy: 0.8404 - val_loss: 0.3766 - val_accuracy: 0.8321\n",
      "Epoch 93/300\n",
      "3365/3365 [==============================] - 151s 45ms/step - loss: 0.3615 - accuracy: 0.8397 - val_loss: 0.3759 - val_accuracy: 0.8328\n",
      "Epoch 94/300\n",
      "3365/3365 [==============================] - 151s 45ms/step - loss: 0.3620 - accuracy: 0.8387 - val_loss: 0.3751 - val_accuracy: 0.8330\n",
      "Epoch 95/300\n",
      "3365/3365 [==============================] - 152s 45ms/step - loss: 0.3619 - accuracy: 0.8396 - val_loss: 0.3753 - val_accuracy: 0.8338\n",
      "Epoch 96/300\n",
      "3365/3365 [==============================] - 153s 45ms/step - loss: 0.3643 - accuracy: 0.8377 - val_loss: 0.3786 - val_accuracy: 0.8301\n",
      "Epoch 97/300\n",
      "3365/3365 [==============================] - 154s 46ms/step - loss: 0.3628 - accuracy: 0.8380 - val_loss: 0.3730 - val_accuracy: 0.8341\n",
      "Epoch 98/300\n",
      "3365/3365 [==============================] - 153s 45ms/step - loss: 0.3613 - accuracy: 0.8388 - val_loss: 0.3764 - val_accuracy: 0.8322\n",
      "Epoch 99/300\n",
      "3365/3365 [==============================] - 152s 45ms/step - loss: 0.3608 - accuracy: 0.8395 - val_loss: 0.3737 - val_accuracy: 0.8335\n",
      "Epoch 100/300\n",
      "3365/3365 [==============================] - 151s 45ms/step - loss: 0.3583 - accuracy: 0.8415 - val_loss: 0.3755 - val_accuracy: 0.8327\n",
      "Epoch 101/300\n",
      "3365/3365 [==============================] - 153s 45ms/step - loss: 0.3613 - accuracy: 0.8383 - val_loss: 0.3739 - val_accuracy: 0.8340\n",
      "Epoch 102/300\n",
      "3365/3365 [==============================] - 152s 45ms/step - loss: 0.3603 - accuracy: 0.8408 - val_loss: 0.3738 - val_accuracy: 0.8335\n",
      "Epoch 103/300\n",
      "3365/3365 [==============================] - 152s 45ms/step - loss: 0.3609 - accuracy: 0.8398 - val_loss: 0.3733 - val_accuracy: 0.8335\n",
      "Epoch 104/300\n",
      "3365/3365 [==============================] - 154s 46ms/step - loss: 0.3601 - accuracy: 0.8399 - val_loss: 0.3740 - val_accuracy: 0.8330\n",
      "Epoch 105/300\n",
      "3365/3365 [==============================] - 152s 45ms/step - loss: 0.3601 - accuracy: 0.8399 - val_loss: 0.3733 - val_accuracy: 0.8349\n",
      "Epoch 106/300\n",
      "3365/3365 [==============================] - 154s 46ms/step - loss: 0.3563 - accuracy: 0.8416 - val_loss: 0.3744 - val_accuracy: 0.8347\n",
      "Epoch 107/300\n",
      "3365/3365 [==============================] - 151s 45ms/step - loss: 0.3583 - accuracy: 0.8420 - val_loss: 0.3743 - val_accuracy: 0.8334\n",
      "Epoch 108/300\n",
      "3365/3365 [==============================] - 152s 45ms/step - loss: 0.3565 - accuracy: 0.8408 - val_loss: 0.3744 - val_accuracy: 0.8333\n",
      "Epoch 109/300\n",
      "3365/3365 [==============================] - 152s 45ms/step - loss: 0.3581 - accuracy: 0.8411 - val_loss: 0.3750 - val_accuracy: 0.8339\n",
      "Epoch 110/300\n",
      "3365/3365 [==============================] - 152s 45ms/step - loss: 0.3560 - accuracy: 0.8418 - val_loss: 0.3750 - val_accuracy: 0.8335\n"
     ]
    },
    {
     "name": "stdout",
     "output_type": "stream",
     "text": [
      "Epoch 111/300\n",
      "3365/3365 [==============================] - 151s 45ms/step - loss: 0.3570 - accuracy: 0.8424 - val_loss: 0.3739 - val_accuracy: 0.8337\n",
      "Epoch 112/300\n",
      "3365/3365 [==============================] - 153s 45ms/step - loss: 0.3575 - accuracy: 0.8415 - val_loss: 0.3733 - val_accuracy: 0.8344\n",
      "Epoch 113/300\n",
      "3365/3365 [==============================] - 152s 45ms/step - loss: 0.3562 - accuracy: 0.8420 - val_loss: 0.3749 - val_accuracy: 0.8343\n",
      "Epoch 114/300\n",
      "3365/3365 [==============================] - 152s 45ms/step - loss: 0.3565 - accuracy: 0.8428 - val_loss: 0.3740 - val_accuracy: 0.8351\n",
      "Epoch 115/300\n",
      "3365/3365 [==============================] - 151s 45ms/step - loss: 0.3579 - accuracy: 0.8421 - val_loss: 0.3732 - val_accuracy: 0.8350\n",
      "Epoch 116/300\n",
      "3365/3365 [==============================] - 152s 45ms/step - loss: 0.3567 - accuracy: 0.8416 - val_loss: 0.3725 - val_accuracy: 0.8341\n",
      "Epoch 117/300\n",
      "3365/3365 [==============================] - 153s 45ms/step - loss: 0.3562 - accuracy: 0.8430 - val_loss: 0.3756 - val_accuracy: 0.8319\n",
      "Epoch 118/300\n",
      "3365/3365 [==============================] - 152s 45ms/step - loss: 0.3580 - accuracy: 0.8408 - val_loss: 0.3738 - val_accuracy: 0.8342\n",
      "Epoch 119/300\n",
      "3365/3365 [==============================] - 151s 45ms/step - loss: 0.3559 - accuracy: 0.8419 - val_loss: 0.3740 - val_accuracy: 0.8339\n",
      "Epoch 120/300\n",
      "3365/3365 [==============================] - 152s 45ms/step - loss: 0.3553 - accuracy: 0.8431 - val_loss: 0.3781 - val_accuracy: 0.8306\n",
      "Epoch 121/300\n",
      "3365/3365 [==============================] - 151s 45ms/step - loss: 0.3540 - accuracy: 0.8436 - val_loss: 0.3733 - val_accuracy: 0.8342\n",
      "Epoch 122/300\n",
      "3365/3365 [==============================] - 153s 46ms/step - loss: 0.3558 - accuracy: 0.8424 - val_loss: 0.3748 - val_accuracy: 0.8341\n",
      "Epoch 123/300\n",
      "3365/3365 [==============================] - 152s 45ms/step - loss: 0.3548 - accuracy: 0.8418 - val_loss: 0.3762 - val_accuracy: 0.8323\n",
      "Epoch 124/300\n",
      "3365/3365 [==============================] - 152s 45ms/step - loss: 0.3499 - accuracy: 0.8456 - val_loss: 0.3743 - val_accuracy: 0.8339\n",
      "Epoch 125/300\n",
      "3365/3365 [==============================] - 151s 45ms/step - loss: 0.3542 - accuracy: 0.8433 - val_loss: 0.3766 - val_accuracy: 0.8326\n",
      "Epoch 126/300\n",
      "3365/3365 [==============================] - 153s 45ms/step - loss: 0.3534 - accuracy: 0.8432 - val_loss: 0.3726 - val_accuracy: 0.8350\n",
      "Epoch 127/300\n",
      "3365/3365 [==============================] - 153s 46ms/step - loss: 0.3537 - accuracy: 0.8437 - val_loss: 0.3746 - val_accuracy: 0.8346\n",
      "Epoch 128/300\n",
      "3365/3365 [==============================] - 151s 45ms/step - loss: 0.3548 - accuracy: 0.8432 - val_loss: 0.3743 - val_accuracy: 0.8338\n",
      "Epoch 129/300\n",
      "3365/3365 [==============================] - 153s 46ms/step - loss: 0.3515 - accuracy: 0.8452 - val_loss: 0.3748 - val_accuracy: 0.8331\n",
      "Epoch 130/300\n",
      "3365/3365 [==============================] - 152s 45ms/step - loss: 0.3548 - accuracy: 0.8433 - val_loss: 0.3749 - val_accuracy: 0.8339\n",
      "Epoch 131/300\n",
      "3365/3365 [==============================] - 152s 45ms/step - loss: 0.3546 - accuracy: 0.8420 - val_loss: 0.3749 - val_accuracy: 0.8336\n",
      "Epoch 132/300\n",
      "3365/3365 [==============================] - 152s 45ms/step - loss: 0.3506 - accuracy: 0.8455 - val_loss: 0.3740 - val_accuracy: 0.8342\n",
      "Epoch 133/300\n",
      "3365/3365 [==============================] - 154s 46ms/step - loss: 0.3523 - accuracy: 0.8437 - val_loss: 0.3718 - val_accuracy: 0.8356\n",
      "Epoch 134/300\n",
      "3365/3365 [==============================] - 151s 45ms/step - loss: 0.3512 - accuracy: 0.8444 - val_loss: 0.3750 - val_accuracy: 0.8340\n",
      "Epoch 135/300\n",
      "3365/3365 [==============================] - 153s 45ms/step - loss: 0.3512 - accuracy: 0.8447 - val_loss: 0.3804 - val_accuracy: 0.8296\n",
      "Epoch 136/300\n",
      "3365/3365 [==============================] - 153s 46ms/step - loss: 0.3510 - accuracy: 0.8451 - val_loss: 0.3729 - val_accuracy: 0.8350\n",
      "Epoch 137/300\n",
      "3365/3365 [==============================] - 152s 45ms/step - loss: 0.3507 - accuracy: 0.8453 - val_loss: 0.3726 - val_accuracy: 0.8358\n",
      "Epoch 138/300\n",
      "3365/3365 [==============================] - 151s 45ms/step - loss: 0.3502 - accuracy: 0.8447 - val_loss: 0.3753 - val_accuracy: 0.8342\n",
      "Epoch 139/300\n",
      "3365/3365 [==============================] - 153s 45ms/step - loss: 0.3492 - accuracy: 0.8454 - val_loss: 0.3738 - val_accuracy: 0.8341\n",
      "Epoch 140/300\n",
      "3365/3365 [==============================] - 151s 45ms/step - loss: 0.3472 - accuracy: 0.8464 - val_loss: 0.3730 - val_accuracy: 0.8351\n",
      "Epoch 141/300\n",
      "3365/3365 [==============================] - 151s 45ms/step - loss: 0.3506 - accuracy: 0.8450 - val_loss: 0.3745 - val_accuracy: 0.8348\n",
      "Epoch 142/300\n",
      "3365/3365 [==============================] - 152s 45ms/step - loss: 0.3504 - accuracy: 0.8453 - val_loss: 0.3743 - val_accuracy: 0.8336\n",
      "Epoch 143/300\n",
      "3365/3365 [==============================] - 152s 45ms/step - loss: 0.3495 - accuracy: 0.8460 - val_loss: 0.3725 - val_accuracy: 0.8352\n",
      "Epoch 144/300\n",
      "3365/3365 [==============================] - 153s 45ms/step - loss: 0.3505 - accuracy: 0.8437 - val_loss: 0.3742 - val_accuracy: 0.8347\n",
      "Epoch 145/300\n",
      "3365/3365 [==============================] - 152s 45ms/step - loss: 0.3474 - accuracy: 0.8463 - val_loss: 0.3737 - val_accuracy: 0.8348\n",
      "Epoch 146/300\n",
      "3365/3365 [==============================] - 153s 46ms/step - loss: 0.3507 - accuracy: 0.8447 - val_loss: 0.3747 - val_accuracy: 0.8347\n",
      "Epoch 147/300\n",
      "3365/3365 [==============================] - 154s 46ms/step - loss: 0.3484 - accuracy: 0.8458 - val_loss: 0.3727 - val_accuracy: 0.8350\n",
      "Epoch 148/300\n",
      "3365/3365 [==============================] - 153s 45ms/step - loss: 0.3491 - accuracy: 0.8452 - val_loss: 0.3761 - val_accuracy: 0.8335\n",
      "Epoch 149/300\n",
      "3365/3365 [==============================] - 155s 46ms/step - loss: 0.3469 - accuracy: 0.8472 - val_loss: 0.3742 - val_accuracy: 0.8348\n",
      "Epoch 150/300\n",
      "3365/3365 [==============================] - 152s 45ms/step - loss: 0.3463 - accuracy: 0.8474 - val_loss: 0.3740 - val_accuracy: 0.8348\n",
      "Epoch 151/300\n",
      "3365/3365 [==============================] - 154s 46ms/step - loss: 0.3490 - accuracy: 0.8452 - val_loss: 0.3733 - val_accuracy: 0.8360\n",
      "Epoch 152/300\n",
      "3365/3365 [==============================] - 151s 45ms/step - loss: 0.3491 - accuracy: 0.8459 - val_loss: 0.3726 - val_accuracy: 0.8350\n",
      "Epoch 153/300\n",
      "3365/3365 [==============================] - 152s 45ms/step - loss: 0.3486 - accuracy: 0.8469 - val_loss: 0.3768 - val_accuracy: 0.8327\n",
      "Epoch 00153: early stopping\n"
     ]
    }
   ],
   "source": [
    "history = model_high.fit([pep_train, aa_train, en_train, ec_train, e1_train, e2_train],\n",
    "                    y_train, \n",
    "                    epochs=300,\n",
    "                    batch_size=64,\n",
    "                    validation_data=([pep_val, aa_val, en_val, ec_val, e1_val, e2_val], y_val),\n",
    "                    callbacks=[es])"
   ]
  },
  {
   "cell_type": "code",
   "execution_count": 16,
   "metadata": {
    "ExecuteTime": {
     "end_time": "2021-09-04T20:56:49.598075Z",
     "start_time": "2021-09-04T20:56:49.368031Z"
    }
   },
   "outputs": [
    {
     "data": {
      "image/png": "[encoded data removed]",
      "text/plain": [
       "<Figure size 1152x144 with 2 Axes>"
      ]
     },
     "metadata": {
      "needs_background": "light"
     },
     "output_type": "display_data"
    }
   ],
   "source": [
    "plt.figure(figsize=(16,2))\n",
    "plt.subplot(1,2,1)\n",
    "plot_graphs(history, 'accuracy')\n",
    "plt.subplot(1,2,2)\n",
    "plot_graphs(history, 'loss')"
   ]
  },
  {
   "cell_type": "markdown",
   "metadata": {},
   "source": [
    "# eval"
   ]
  },
  {
   "cell_type": "code",
   "execution_count": 17,
   "metadata": {
    "ExecuteTime": {
     "end_time": "2021-09-04T20:57:32.651908Z",
     "start_time": "2021-09-04T20:56:49.599163Z"
    },
    "scrolled": false
   },
   "outputs": [
    {
     "name": "stdout",
     "output_type": "stream",
     "text": [
      "2104/2104 [==============================] - 37s 18ms/step - loss: 0.3752 - accuracy: 0.8330\n",
      "Test Loss: 0.37522298097610474\n",
      "Test Accuracy: 0.8330410718917847\n",
      "              precision    recall  f1-score   support\n",
      "\n",
      "           0       0.85      0.80      0.83     33706\n",
      "           1       0.81      0.86      0.84     33592\n",
      "\n",
      "    accuracy                           0.83     67298\n",
      "   macro avg       0.83      0.83      0.83     67298\n",
      "weighted avg       0.83      0.83      0.83     67298\n",
      "\n",
      "rf auc : 0.9142549718474673\n"
     ]
    },
    {
     "data": {
      "image/png": "[encoded data removed]",
      "text/plain": [
       "<Figure size 288x288 with 1 Axes>"
      ]
     },
     "metadata": {
      "needs_background": "light"
     },
     "output_type": "display_data"
    },
    {
     "data": {
      "image/png": "[encoded data removed]",
      "text/plain": [
       "<Figure size 216x216 with 2 Axes>"
      ]
     },
     "metadata": {
      "needs_background": "light"
     },
     "output_type": "display_data"
    },
    {
     "data": {
      "image/png": "[encoded data removed]",
      "text/plain": [
       "<Figure size 216x216 with 2 Axes>"
      ]
     },
     "metadata": {
      "needs_background": "light"
     },
     "output_type": "display_data"
    }
   ],
   "source": [
    "test_loss, test_acc = model_high.evaluate([pep_test, aa_test, en_test, ec_test, e1_test, e2_test], y_test)\n",
    "print('Test Loss: {}'.format(test_loss))\n",
    "print('Test Accuracy: {}'.format(test_acc))\n",
    "\n",
    "# prediction\n",
    "y_pred = [1 if i>=0.5 else 0 for i in model_high.predict([pep_test, aa_test, en_test, ec_test, e1_test, e2_test])]\n",
    "print(classification_report(y_test, y_pred))\n",
    "# AUC\n",
    "probs = model_high.predict([pep_test, aa_test, en_test, ec_test, e1_test, e2_test])\n",
    "rf_auc = roc_auc_score(y_test, probs)\n",
    "print('rf auc : {}'.format(rf_auc))\n",
    "# plot the roc curve for the model_high\n",
    "rf_fpr, rf_tpr, _ = roc_curve(y_test, probs)\n",
    "plt.figure(figsize=(4, 4))\n",
    "plt.plot(rf_fpr, rf_tpr, marker='.', label='RF AUC = {:.4f}'.format(rf_auc), color='orange')\n",
    "plt.title('ROC curve')\n",
    "# axis labels\n",
    "plt.xlabel('False Positive Rate')\n",
    "plt.ylabel('True Positive Rate')\n",
    "# show the legend\n",
    "plt.legend()\n",
    "# show the plot\n",
    "plt.show()\n",
    "\n",
    "cf_matrix = confusion_matrix(y_test, y_pred)\n",
    "plt.figure(figsize=(3, 3))\n",
    "sns.heatmap(cf_matrix, annot=True, fmt=',.0f')\n",
    "plt.show()\n",
    "plt.figure(figsize=(3, 3))\n",
    "sns.heatmap(cf_matrix/np.sum(cf_matrix), annot=True, \n",
    "            fmt='.2%', cmap='Blues')\n",
    "plt.show()"
   ]
  }
 ],
 "metadata": {
  "kernelspec": {
   "display_name": "TF2.4GPU",
   "language": "python",
   "name": "tf2.4gpu"
  },
  "language_info": {
   "codemirror_mode": {
    "name": "ipython",
    "version": 3
   },
   "file_extension": ".py",
   "mimetype": "text/x-python",
   "name": "python",
   "nbconvert_exporter": "python",
   "pygments_lexer": "ipython3",
   "version": "3.6.13"
  }
 },
 "nbformat": 4,
 "nbformat_minor": 4
}
