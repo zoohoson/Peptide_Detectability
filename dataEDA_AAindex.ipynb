{
 "cells": [
  {
   "cell_type": "code",
   "execution_count": 1,
   "metadata": {
    "ExecuteTime": {
     "end_time": "2021-08-27T17:54:08.009528Z",
     "start_time": "2021-08-27T17:54:07.737677Z"
    }
   },
   "outputs": [],
   "source": [
    "import pandas as pd\n",
    "import numpy as np"
   ]
  },
  {
   "cell_type": "code",
   "execution_count": 2,
   "metadata": {
    "ExecuteTime": {
     "end_time": "2021-08-27T17:54:08.055560Z",
     "start_time": "2021-08-27T17:54:08.011038Z"
    }
   },
   "outputs": [
    {
     "name": "stdout",
     "output_type": "stream",
     "text": [
      "(566, 20)\n"
     ]
    }
   ],
   "source": [
    "def remove_blank(li):\n",
    "    while li.count('') != 0:\n",
    "        li.remove('')\n",
    "    return li\n",
    "\n",
    "\n",
    "tmp = open('data/aaindex/aaindex1')\n",
    "aaindex = [_.replace('\\n', '') for _ in tmp.readlines()]\n",
    "tmp.close()\n",
    "\n",
    "data_dic = {k:[] for k in 'ARNDCEQGHILKMFPSTWYV'}\n",
    "title_list = []\n",
    "\n",
    "for idx, line in enumerate(aaindex):\n",
    "    \n",
    "    # D : paper's title\n",
    "    if line[0]=='D':\n",
    "        title = line[2:]  # D paper_title -> indexing\n",
    "        \n",
    "        # check next line whether has 'R'(paper number)\n",
    "        cnt = 1\n",
    "        while aaindex[idx+cnt][0] != 'R':\n",
    "            title += aaindex[idx+cnt]\n",
    "            cnt += 1\n",
    "        title_list.append(title)\n",
    "        \n",
    "    elif line[0] == 'I':\n",
    "        # I : AA - value\n",
    "        a = remove_blank(line[1:].split(' '))  # Amino Acid\n",
    "        v1 = remove_blank(aaindex[idx+1].split(' '))  # value on first line\n",
    "        v2 = remove_blank(aaindex[idx+2].split(' '))  # value on second line\n",
    "        for ami, val1, val2 in zip(a, v1, v2):\n",
    "            # a : D/L (so use 0, -1 index)\n",
    "            data_dic[ami[0]].append(val1)\n",
    "            data_dic[ami[-1]].append(val2)\n",
    "\n",
    "df_aaindex = pd.DataFrame(data_dic, index=title_list)\n",
    "print(df_aaindex.shape)"
   ]
  },
  {
   "cell_type": "markdown",
   "metadata": {},
   "source": [
    "* 결측치 처리"
   ]
  },
  {
   "cell_type": "code",
   "execution_count": 3,
   "metadata": {
    "ExecuteTime": {
     "end_time": "2021-08-27T17:54:08.192427Z",
     "start_time": "2021-08-27T17:54:08.180596Z"
    }
   },
   "outputs": [
    {
     "name": "stdout",
     "output_type": "stream",
     "text": [
      "drop feature :  13\n",
      "(553, 20)\n"
     ]
    }
   ],
   "source": [
    "NA_idx = (df_aaindex=='NA').sum(axis=1)>=1\n",
    "NA_index = list(df_aaindex.loc[NA_idx].index)\n",
    "print('drop feature : ', len(NA_index))\n",
    "\n",
    "df_aaindex = df_aaindex.drop(NA_index).astype(float)\n",
    "print(df_aaindex.shape)"
   ]
  },
  {
   "cell_type": "markdown",
   "metadata": {},
   "source": [
    "* 중복 처리"
   ]
  },
  {
   "cell_type": "code",
   "execution_count": 4,
   "metadata": {
    "ExecuteTime": {
     "end_time": "2021-08-27T17:54:08.479360Z",
     "start_time": "2021-08-27T17:54:08.475370Z"
    }
   },
   "outputs": [
    {
     "name": "stdout",
     "output_type": "stream",
     "text": [
      "중복 개수 :  1\n"
     ]
    }
   ],
   "source": [
    "tmp = {k:0 for k in df_aaindex.index.values}\n",
    "for k in df_aaindex.index.values:\n",
    "    tmp[k] += 1\n",
    "check_title = [i for i, cnt in tmp.items() if cnt >= 2]\n",
    "print('중복 개수 : ', len(check_title))"
   ]
  },
  {
   "cell_type": "code",
   "execution_count": 5,
   "metadata": {
    "ExecuteTime": {
     "end_time": "2021-08-27T17:54:08.649301Z",
     "start_time": "2021-08-27T17:54:08.624511Z"
    }
   },
   "outputs": [
    {
     "data": {
      "text/html": [
       "<div>\n",
       "<style scoped>\n",
       "    .dataframe tbody tr th:only-of-type {\n",
       "        vertical-align: middle;\n",
       "    }\n",
       "\n",
       "    .dataframe tbody tr th {\n",
       "        vertical-align: top;\n",
       "    }\n",
       "\n",
       "    .dataframe thead th {\n",
       "        text-align: right;\n",
       "    }\n",
       "</style>\n",
       "<table border=\"1\" class=\"dataframe\">\n",
       "  <thead>\n",
       "    <tr style=\"text-align: right;\">\n",
       "      <th></th>\n",
       "      <th>A</th>\n",
       "      <th>R</th>\n",
       "      <th>N</th>\n",
       "      <th>D</th>\n",
       "      <th>C</th>\n",
       "      <th>E</th>\n",
       "      <th>Q</th>\n",
       "      <th>G</th>\n",
       "      <th>H</th>\n",
       "      <th>I</th>\n",
       "      <th>L</th>\n",
       "      <th>K</th>\n",
       "      <th>M</th>\n",
       "      <th>F</th>\n",
       "      <th>P</th>\n",
       "      <th>S</th>\n",
       "      <th>T</th>\n",
       "      <th>W</th>\n",
       "      <th>Y</th>\n",
       "      <th>V</th>\n",
       "    </tr>\n",
       "  </thead>\n",
       "  <tbody>\n",
       "    <tr>\n",
       "      <th>Free energy in beta-strand region (Munoz-Serrano, 1994)</th>\n",
       "      <td>0.978</td>\n",
       "      <td>0.784</td>\n",
       "      <td>0.915</td>\n",
       "      <td>1.038</td>\n",
       "      <td>0.573</td>\n",
       "      <td>0.962</td>\n",
       "      <td>0.863</td>\n",
       "      <td>1.405</td>\n",
       "      <td>0.724</td>\n",
       "      <td>0.502</td>\n",
       "      <td>0.766</td>\n",
       "      <td>0.841</td>\n",
       "      <td>0.729</td>\n",
       "      <td>0.585</td>\n",
       "      <td>2.613</td>\n",
       "      <td>0.784</td>\n",
       "      <td>0.569</td>\n",
       "      <td>0.671</td>\n",
       "      <td>0.56</td>\n",
       "      <td>0.444</td>\n",
       "    </tr>\n",
       "    <tr>\n",
       "      <th>Free energy in beta-strand region (Munoz-Serrano, 1994)</th>\n",
       "      <td>1.400</td>\n",
       "      <td>1.230</td>\n",
       "      <td>1.610</td>\n",
       "      <td>1.890</td>\n",
       "      <td>1.140</td>\n",
       "      <td>1.420</td>\n",
       "      <td>1.330</td>\n",
       "      <td>2.060</td>\n",
       "      <td>1.250</td>\n",
       "      <td>1.020</td>\n",
       "      <td>1.330</td>\n",
       "      <td>1.340</td>\n",
       "      <td>1.120</td>\n",
       "      <td>1.070</td>\n",
       "      <td>3.900</td>\n",
       "      <td>1.200</td>\n",
       "      <td>0.990</td>\n",
       "      <td>1.100</td>\n",
       "      <td>0.98</td>\n",
       "      <td>0.870</td>\n",
       "    </tr>\n",
       "  </tbody>\n",
       "</table>\n",
       "</div>"
      ],
      "text/plain": [
       "                                                        A      R      N  \\\n",
       "Free energy in beta-strand region (Munoz-Serran...  0.978  0.784  0.915   \n",
       "Free energy in beta-strand region (Munoz-Serran...  1.400  1.230  1.610   \n",
       "\n",
       "                                                        D      C      E  \\\n",
       "Free energy in beta-strand region (Munoz-Serran...  1.038  0.573  0.962   \n",
       "Free energy in beta-strand region (Munoz-Serran...  1.890  1.140  1.420   \n",
       "\n",
       "                                                        Q      G      H  \\\n",
       "Free energy in beta-strand region (Munoz-Serran...  0.863  1.405  0.724   \n",
       "Free energy in beta-strand region (Munoz-Serran...  1.330  2.060  1.250   \n",
       "\n",
       "                                                        I      L      K  \\\n",
       "Free energy in beta-strand region (Munoz-Serran...  0.502  0.766  0.841   \n",
       "Free energy in beta-strand region (Munoz-Serran...  1.020  1.330  1.340   \n",
       "\n",
       "                                                        M      F      P  \\\n",
       "Free energy in beta-strand region (Munoz-Serran...  0.729  0.585  2.613   \n",
       "Free energy in beta-strand region (Munoz-Serran...  1.120  1.070  3.900   \n",
       "\n",
       "                                                        S      T      W     Y  \\\n",
       "Free energy in beta-strand region (Munoz-Serran...  0.784  0.569  0.671  0.56   \n",
       "Free energy in beta-strand region (Munoz-Serran...  1.200  0.990  1.100  0.98   \n",
       "\n",
       "                                                        V  \n",
       "Free energy in beta-strand region (Munoz-Serran...  0.444  \n",
       "Free energy in beta-strand region (Munoz-Serran...  0.870  "
      ]
     },
     "execution_count": 5,
     "metadata": {},
     "output_type": "execute_result"
    }
   ],
   "source": [
    "df_aaindex.loc[check_title]"
   ]
  },
  {
   "cell_type": "markdown",
   "metadata": {},
   "source": [
    "* 제거"
   ]
  },
  {
   "cell_type": "code",
   "execution_count": 6,
   "metadata": {
    "ExecuteTime": {
     "end_time": "2021-08-27T17:54:08.926895Z",
     "start_time": "2021-08-27T17:54:08.923895Z"
    }
   },
   "outputs": [],
   "source": [
    "df_aaindex.drop(check_title, inplace=True)"
   ]
  },
  {
   "cell_type": "code",
   "execution_count": 7,
   "metadata": {
    "ExecuteTime": {
     "end_time": "2021-08-27T17:54:09.083719Z",
     "start_time": "2021-08-27T17:54:09.081075Z"
    }
   },
   "outputs": [
    {
     "data": {
      "text/plain": [
       "(551, 20)"
      ]
     },
     "execution_count": 7,
     "metadata": {},
     "output_type": "execute_result"
    }
   ],
   "source": [
    "df_aaindex.shape"
   ]
  },
  {
   "cell_type": "code",
   "execution_count": 8,
   "metadata": {
    "ExecuteTime": {
     "end_time": "2021-08-27T17:54:09.240707Z",
     "start_time": "2021-08-27T17:54:09.227336Z"
    }
   },
   "outputs": [],
   "source": [
    "df_aaindex.to_csv('data/aaindex/df_aaindex.csv', index=True)"
   ]
  },
  {
   "cell_type": "markdown",
   "metadata": {},
   "source": [
    "# self select 19 index"
   ]
  },
  {
   "cell_type": "code",
   "execution_count": 9,
   "metadata": {
    "ExecuteTime": {
     "end_time": "2021-08-27T17:54:09.526751Z",
     "start_time": "2021-08-27T17:54:09.523011Z"
    }
   },
   "outputs": [],
   "source": [
    "aaindex19 = ['Average accessible surface area (Janin et al., 1978)',\n",
    "       'Percentage of buried residues (Janin et al., 1978)',\n",
    "       'Percentage of exposed residues (Janin et al., 1978)',\n",
    "       'Hydrophobicity (Prabhakaran, 1990)',\n",
    "       'Side chain hydropathy, uncorrected for solvation (Roseman, 1988)',\n",
    "       'Modified Kyte-Doolittle hydrophobicity scale (Juretic et al., 1998)',\n",
    "       'Number of hydrogen bond donors (Fauchere et al., 1988)',\n",
    "       'Normalized frequency of reverse turn, with weights (Levitt, 1978)',\n",
    "       'Normalized frequency of alpha-helix, unweighted (Levitt, 1978)',\n",
    "       'Normalized frequency of beta-sheet, unweighted (Levitt, 1978)',\n",
    "       'Distance between C-alpha and centroid of side chain (Levitt, 1976)',\n",
    "       'Positive charge (Fauchere et al., 1988)',\n",
    "       'Negative charge (Fauchere et al., 1988)',\n",
    "       'Net charge (Klein et al., 1984)',\n",
    "       'Electron-ion interaction potential values (Cosic, 1994)',\n",
    "       'Isoelectric point (Zimmerman et al., 1968)',\n",
    "       'Transfer free energy (Janin, 1979)',\n",
    "       'Solvation free energy (Eisenberg-McLachlan, 1986)',\n",
    "       'Partition energy (Guy, 1985)']\n",
    "df_aaindex19 = df_aaindex.loc[aaindex19]"
   ]
  },
  {
   "cell_type": "code",
   "execution_count": 10,
   "metadata": {
    "ExecuteTime": {
     "end_time": "2021-08-27T17:54:09.687619Z",
     "start_time": "2021-08-27T17:54:09.681668Z"
    }
   },
   "outputs": [],
   "source": [
    "df_aaindex19.to_csv('data/aaindex/df_aaindex19.csv', index=True)"
   ]
  }
 ],
 "metadata": {
  "kernelspec": {
   "display_name": "TF2.0",
   "language": "python",
   "name": "bis"
  },
  "language_info": {
   "codemirror_mode": {
    "name": "ipython",
    "version": 3
   },
   "file_extension": ".py",
   "mimetype": "text/x-python",
   "name": "python",
   "nbconvert_exporter": "python",
   "pygments_lexer": "ipython3",
   "version": "3.6.12"
  }
 },
 "nbformat": 4,
 "nbformat_minor": 4
}
