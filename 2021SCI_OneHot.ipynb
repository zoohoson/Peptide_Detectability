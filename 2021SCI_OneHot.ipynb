{
 "cells": [
  {
   "cell_type": "code",
   "execution_count": 2,
   "metadata": {
    "ExecuteTime": {
     "end_time": "2021-09-07T18:52:46.277171Z",
     "start_time": "2021-09-07T18:52:44.923991Z"
    }
   },
   "outputs": [],
   "source": [
    "import pandas as pd\n",
    "import numpy as np\n",
    "import matplotlib.pyplot as plt\n",
    "import seaborn as sns\n",
    "from sklearn.metrics import classification_report\n",
    "from sklearn.metrics import confusion_matrix\n",
    "from sklearn.metrics import roc_curve\n",
    "from sklearn.metrics import roc_auc_score\n",
    "from sklearn.model_selection import train_test_split"
   ]
  },
  {
   "cell_type": "code",
   "execution_count": 3,
   "metadata": {
    "ExecuteTime": {
     "end_time": "2021-09-07T18:52:46.299183Z",
     "start_time": "2021-09-07T18:52:46.278801Z"
    }
   },
   "outputs": [
    {
     "name": "stdout",
     "output_type": "stream",
     "text": [
      "(19, 21)\n"
     ]
    }
   ],
   "source": [
    "df_aaindex = pd.read_csv('data/aaindex/df_aaindex19.csv')\n",
    "print(df_aaindex.shape)\n",
    "df_aaindex.head(1)\n",
    "tmp = df_aaindex.drop('Unnamed: 0',axis=1).T\n",
    "aa2val = dict()\n",
    "for aa, val in zip(tmp.index, tmp.values):\n",
    "    aa2val[aa]=val"
   ]
  },
  {
   "cell_type": "code",
   "execution_count": 4,
   "metadata": {
    "ExecuteTime": {
     "end_time": "2021-09-07T18:52:47.705633Z",
     "start_time": "2021-09-07T18:52:46.300535Z"
    }
   },
   "outputs": [],
   "source": [
    "df_detect_peptide_train = pd.read_csv('data/df_detect_peptide_train.csv')\n",
    "test = pd.read_csv('data/df_detect_peptide_test.csv')\n",
    "train, val = train_test_split(df_detect_peptide_train, test_size=0.2, random_state=7)"
   ]
  },
  {
   "cell_type": "code",
   "execution_count": 5,
   "metadata": {
    "ExecuteTime": {
     "end_time": "2021-09-07T18:52:47.722507Z",
     "start_time": "2021-09-07T18:52:47.706979Z"
    }
   },
   "outputs": [
    {
     "data": {
      "text/html": [
       "<div>\n",
       "<style scoped>\n",
       "    .dataframe tbody tr th:only-of-type {\n",
       "        vertical-align: middle;\n",
       "    }\n",
       "\n",
       "    .dataframe tbody tr th {\n",
       "        vertical-align: top;\n",
       "    }\n",
       "\n",
       "    .dataframe thead th {\n",
       "        text-align: right;\n",
       "    }\n",
       "</style>\n",
       "<table border=\"1\" class=\"dataframe\">\n",
       "  <thead>\n",
       "    <tr style=\"text-align: right;\">\n",
       "      <th></th>\n",
       "      <th>peptide</th>\n",
       "      <th>En</th>\n",
       "      <th>Ec</th>\n",
       "      <th>E1</th>\n",
       "      <th>E2</th>\n",
       "      <th>protein</th>\n",
       "      <th>PEP</th>\n",
       "      <th>ID</th>\n",
       "    </tr>\n",
       "  </thead>\n",
       "  <tbody>\n",
       "    <tr>\n",
       "      <th>210101</th>\n",
       "      <td>R.MDKVHSEAER.L</td>\n",
       "      <td>QQKVLQQRMDKVHSE</td>\n",
       "      <td>KVHSEAERLEARFQD</td>\n",
       "      <td>VLQQRMDKVHSEAER</td>\n",
       "      <td>-</td>\n",
       "      <td>sp|Q96M63|CC114_HUMAN</td>\n",
       "      <td>MDKVHSEAER</td>\n",
       "      <td>0</td>\n",
       "    </tr>\n",
       "  </tbody>\n",
       "</table>\n",
       "</div>"
      ],
      "text/plain": [
       "               peptide               En               Ec               E1 E2  \\\n",
       "210101  R.MDKVHSEAER.L  QQKVLQQRMDKVHSE  KVHSEAERLEARFQD  VLQQRMDKVHSEAER  -   \n",
       "\n",
       "                      protein         PEP  ID  \n",
       "210101  sp|Q96M63|CC114_HUMAN  MDKVHSEAER   0  "
      ]
     },
     "execution_count": 5,
     "metadata": {},
     "output_type": "execute_result"
    }
   ],
   "source": [
    "train.head(1)"
   ]
  },
  {
   "cell_type": "code",
   "execution_count": 6,
   "metadata": {
    "ExecuteTime": {
     "end_time": "2021-09-07T18:52:47.730367Z",
     "start_time": "2021-09-07T18:52:47.723555Z"
    }
   },
   "outputs": [],
   "source": [
    "def get_data(df):\n",
    "    aa_data = [np.array([seq.count(a) for a in 'ARNDCQEGHILKMFPSTWYVZ'] + list(np.array([aa2val[aa] for aa in seq]).sum(axis=0)))\n",
    "               for seq in df.PEP.values]\n",
    "    pep_data = [[[1 if aa == a else 0 for a in 'ARNDCQEGHILKMFPSTWYVZ'] for aa in seq] + [[0]*21]*(30-len(seq))\n",
    "               for seq in df.PEP.values]\n",
    "    en_data = [[[1 if aa == a else 0 for a in 'ARNDCQEGHILKMFPSTWYVZ'] for aa in seq]\n",
    "               for seq in df.En.values]\n",
    "    ec_data = [[[1 if aa == a else 0 for a in 'ARNDCQEGHILKMFPSTWYVZ'] for aa in seq]\n",
    "               for seq in df.Ec.values]\n",
    "    e1_data = [[[1 if aa == a else 0 for a in 'ARNDCQEGHILKMFPSTWYVZ'] for aa in seq]\n",
    "               if seq != '-' else [[0]*21 for _ in range(15)]\n",
    "               for seq in df.E1.values]\n",
    "    e2_data = [[[1 if aa == a else 0 for a in 'ARNDCQEGHILKMFPSTWYVZ'] for aa in seq]\n",
    "               if seq != '-' else [[0]*21 for _ in range(15)]\n",
    "               for seq in df.E2.values]\n",
    "    return np.array(aa_data), np.array(pep_data), np.array(en_data), np.array(ec_data), np.array(e1_data), np.array(e2_data), np.array(df.ID.values)"
   ]
  },
  {
   "cell_type": "code",
   "execution_count": 7,
   "metadata": {
    "ExecuteTime": {
     "end_time": "2021-09-07T18:55:21.200579Z",
     "start_time": "2021-09-07T18:52:47.731374Z"
    }
   },
   "outputs": [
    {
     "name": "stdout",
     "output_type": "stream",
     "text": [
      "(215352, 40) (215352, 30, 21) (215352, 15, 21) (215352, 15, 21) (215352, 15, 21) (215352, 15, 21) (215352,)\n",
      "(53838, 40) (53838, 30, 21) (53838, 15, 21) (53838, 15, 21) (53838, 15, 21) (53838, 15, 21) (53838,)\n",
      "(67298, 40) (67298, 30, 21) (67298, 15, 21) (67298, 15, 21) (67298, 15, 21) (67298, 15, 21) (67298,)\n"
     ]
    }
   ],
   "source": [
    "aa_train, pep_train, en_train, ec_train, e1_train, e2_train, y_train = get_data(train)\n",
    "\n",
    "aa_val, pep_val, en_val, ec_val, e1_val, e2_val, y_val = get_data(val)\n",
    "\n",
    "aa_test, pep_test, en_test, ec_test, e1_test, e2_test, y_test = get_data(test)\n",
    "\n",
    "print(aa_train.shape, pep_train.shape, en_train.shape, ec_train.shape, e1_train.shape, e2_train.shape, y_train.shape)\n",
    "\n",
    "print(aa_val.shape, pep_val.shape, en_val.shape, ec_val.shape, e1_val.shape, e2_val.shape, y_val.shape)\n",
    "\n",
    "print(aa_test.shape, pep_test.shape, en_test.shape, ec_test.shape, e1_test.shape, e2_test.shape, y_test.shape)"
   ]
  },
  {
   "cell_type": "markdown",
   "metadata": {},
   "source": [
    "# Train"
   ]
  },
  {
   "cell_type": "code",
   "execution_count": 8,
   "metadata": {
    "ExecuteTime": {
     "end_time": "2021-09-07T18:55:22.667698Z",
     "start_time": "2021-09-07T18:55:21.202229Z"
    }
   },
   "outputs": [],
   "source": [
    "from tensorflow.python.client import device_lib\n",
    "\n",
    "import tensorflow as tf\n",
    "gpus = tf.config.experimental.list_physical_devices('GPU')\n",
    "if gpus:\n",
    "    try:\n",
    "        tf.config.experimental.set_virtual_device_configuration(gpus[0],\n",
    "        [tf.config.experimental.VirtualDeviceConfiguration(memory_limit=1024*8)])\n",
    "    except RuntimeError as e:\n",
    "        print(e)"
   ]
  },
  {
   "cell_type": "code",
   "execution_count": 9,
   "metadata": {
    "ExecuteTime": {
     "end_time": "2021-09-07T18:55:22.671694Z",
     "start_time": "2021-09-07T18:55:22.668974Z"
    }
   },
   "outputs": [],
   "source": [
    "def plot_graphs(history, metric):\n",
    "    plt.plot(history.history[metric])\n",
    "    plt.plot(history.history['val_'+metric], '')\n",
    "    plt.xlabel(\"Epochs\")\n",
    "    plt.ylabel(metric)\n",
    "    plt.legend([metric, 'val_'+metric])"
   ]
  },
  {
   "cell_type": "markdown",
   "metadata": {},
   "source": [
    "# high param"
   ]
  },
  {
   "cell_type": "code",
   "execution_count": 10,
   "metadata": {
    "ExecuteTime": {
     "end_time": "2021-09-07T18:55:25.723488Z",
     "start_time": "2021-09-07T18:55:22.672698Z"
    }
   },
   "outputs": [
    {
     "name": "stdout",
     "output_type": "stream",
     "text": [
      "Model: \"model\"\n",
      "__________________________________________________________________________________________________\n",
      "Layer (type)                    Output Shape         Param #     Connected to                     \n",
      "==================================================================================================\n",
      "input_1 (InputLayer)            [(None, 30, 21)]     0                                            \n",
      "__________________________________________________________________________________________________\n",
      "input_3 (InputLayer)            [(None, 15, 21)]     0                                            \n",
      "__________________________________________________________________________________________________\n",
      "input_4 (InputLayer)            [(None, 15, 21)]     0                                            \n",
      "__________________________________________________________________________________________________\n",
      "input_5 (InputLayer)            [(None, 15, 21)]     0                                            \n",
      "__________________________________________________________________________________________________\n",
      "input_6 (InputLayer)            [(None, 15, 21)]     0                                            \n",
      "__________________________________________________________________________________________________\n",
      "bidirectional (Bidirectional)   (None, 32)           4864        input_1[0][0]                    \n",
      "__________________________________________________________________________________________________\n",
      "bidirectional_1 (Bidirectional) (None, 32)           4864        input_3[0][0]                    \n",
      "__________________________________________________________________________________________________\n",
      "bidirectional_2 (Bidirectional) (None, 32)           4864        input_4[0][0]                    \n",
      "__________________________________________________________________________________________________\n",
      "bidirectional_3 (Bidirectional) (None, 32)           4864        input_5[0][0]                    \n",
      "__________________________________________________________________________________________________\n",
      "bidirectional_4 (Bidirectional) (None, 32)           4864        input_6[0][0]                    \n",
      "__________________________________________________________________________________________________\n",
      "dense (Dense)                   (None, 32)           1056        bidirectional[0][0]              \n",
      "__________________________________________________________________________________________________\n",
      "input_2 (InputLayer)            [(None, 40)]         0                                            \n",
      "__________________________________________________________________________________________________\n",
      "dense_2 (Dense)                 (None, 32)           1056        bidirectional_1[0][0]            \n",
      "__________________________________________________________________________________________________\n",
      "dense_3 (Dense)                 (None, 32)           1056        bidirectional_2[0][0]            \n",
      "__________________________________________________________________________________________________\n",
      "dense_4 (Dense)                 (None, 32)           1056        bidirectional_3[0][0]            \n",
      "__________________________________________________________________________________________________\n",
      "dense_5 (Dense)                 (None, 32)           1056        bidirectional_4[0][0]            \n",
      "__________________________________________________________________________________________________\n",
      "dropout (Dropout)               (None, 32)           0           dense[0][0]                      \n",
      "__________________________________________________________________________________________________\n",
      "dense_1 (Dense)                 (None, 32)           1312        input_2[0][0]                    \n",
      "__________________________________________________________________________________________________\n",
      "dropout_1 (Dropout)             (None, 32)           0           dense_2[0][0]                    \n",
      "__________________________________________________________________________________________________\n",
      "dropout_2 (Dropout)             (None, 32)           0           dense_3[0][0]                    \n",
      "__________________________________________________________________________________________________\n",
      "dropout_3 (Dropout)             (None, 32)           0           dense_4[0][0]                    \n",
      "__________________________________________________________________________________________________\n",
      "dropout_4 (Dropout)             (None, 32)           0           dense_5[0][0]                    \n",
      "__________________________________________________________________________________________________\n",
      "concatenate (Concatenate)       (None, 192)          0           dropout[0][0]                    \n",
      "                                                                 dense_1[0][0]                    \n",
      "                                                                 dropout_1[0][0]                  \n",
      "                                                                 dropout_2[0][0]                  \n",
      "                                                                 dropout_3[0][0]                  \n",
      "                                                                 dropout_4[0][0]                  \n",
      "__________________________________________________________________________________________________\n",
      "dense_6 (Dense)                 (None, 128)          24704       concatenate[0][0]                \n",
      "__________________________________________________________________________________________________\n",
      "dropout_5 (Dropout)             (None, 128)          0           dense_6[0][0]                    \n",
      "__________________________________________________________________________________________________\n",
      "dense_7 (Dense)                 (None, 64)           8256        dropout_5[0][0]                  \n",
      "__________________________________________________________________________________________________\n",
      "dropout_6 (Dropout)             (None, 64)           0           dense_7[0][0]                    \n",
      "__________________________________________________________________________________________________\n",
      "dense_8 (Dense)                 (None, 1)            65          dropout_6[0][0]                  \n",
      "==================================================================================================\n",
      "Total params: 63,937\n",
      "Trainable params: 63,937\n",
      "Non-trainable params: 0\n",
      "__________________________________________________________________________________________________\n"
     ]
    }
   ],
   "source": [
    "input1 = tf.keras.layers.Input(shape=((30,21,)))  # peptide with zero padding\n",
    "input2 = tf.keras.layers.Input(shape=((40,)))  # peptide info\n",
    "input3 = tf.keras.layers.Input(shape=((15,21,)))  # N term info\n",
    "input4 = tf.keras.layers.Input(shape=((15,21,)))  # C term info\n",
    "input5 = tf.keras.layers.Input(shape=((15,21,)))  # miss1 term info\n",
    "input6 = tf.keras.layers.Input(shape=((15,21,)))  # miss2 term info\n",
    "\n",
    "\n",
    "lstm1 = tf.keras.layers.Bidirectional(tf.keras.layers.LSTM(16))(input1)\n",
    "net_lstm_ = tf.keras.layers.Dense(32, activation='relu')(lstm1)\n",
    "net_lstm = tf.keras.layers.Dropout(np.random.uniform(0, 0.2))(net_lstm_)\n",
    "\n",
    "net_dense1 = tf.keras.layers.Dense(32, activation='relu')(input2)\n",
    "\n",
    "digest_n = tf.keras.layers.Bidirectional(tf.keras.layers.LSTM(16))(input3)\n",
    "net_n_ = tf.keras.layers.Dense(32, activation='relu')(digest_n)\n",
    "net_n = tf.keras.layers.Dropout(np.random.uniform(0, 0.2))(net_n_)\n",
    "\n",
    "digest_c = tf.keras.layers.Bidirectional(tf.keras.layers.LSTM(16))(input4)\n",
    "net_c_ = tf.keras.layers.Dense(32, activation='relu')(digest_c)\n",
    "net_c = tf.keras.layers.Dropout(np.random.uniform(0, 0.2))(net_c_)\n",
    "\n",
    "digest_m1 = tf.keras.layers.Bidirectional(tf.keras.layers.LSTM(16))(input5)\n",
    "net_m1_ = tf.keras.layers.Dense(32, activation='relu')(digest_m1)\n",
    "net_m1 = tf.keras.layers.Dropout(np.random.uniform(0, 0.2))(net_m1_)\n",
    "\n",
    "digest_m2 = tf.keras.layers.Bidirectional(tf.keras.layers.LSTM(16))(input6)\n",
    "net_m2_ = tf.keras.layers.Dense(32, activation='relu')(digest_m2)\n",
    "net_m2 = tf.keras.layers.Dropout(np.random.uniform(0, 0.2))(net_m2_)\n",
    "\n",
    "merge = tf.keras.layers.concatenate([net_lstm, \n",
    "                                     net_dense1,\n",
    "                                     net_n,\n",
    "                                     net_c,\n",
    "                                     net_m1,\n",
    "                                     net_m2])\n",
    "\n",
    "net1 = tf.keras.layers.Dense(128, activation='relu')(merge)\n",
    "net1_drop = tf.keras.layers.Dropout(np.random.uniform(0, 0.2))(net1)\n",
    "\n",
    "net2 = tf.keras.layers.Dense(64, activation='relu')(net1_drop)\n",
    "net2_drop = tf.keras.layers.Dropout(np.random.uniform(0, 0.2))(net2)\n",
    "\n",
    "output = tf.keras.layers.Dense(1, activation = 'sigmoid')(net2_drop)\n",
    "\n",
    "model_high = tf.keras.Model(inputs=[input1, input2,\n",
    "                              input3, input4,\n",
    "                              input5, input6],\n",
    "                       outputs=[output])\n",
    "\n",
    "model_high.summary()\n",
    "\n",
    "model_high.compile(loss=tf.keras.losses.BinaryCrossentropy(from_logits=True),\n",
    "              optimizer=tf.keras.optimizers.Adam(1e-2),\n",
    "              metrics=['accuracy'])\n",
    "\n",
    "es = tf.keras.callbacks.EarlyStopping(monitor='val_loss',\n",
    "                                      mode='min', \n",
    "                                      verbose=1,\n",
    "                                      patience=20)"
   ]
  },
  {
   "cell_type": "code",
   "execution_count": 79,
   "metadata": {
    "ExecuteTime": {
     "end_time": "2021-09-04T20:56:49.366194Z",
     "start_time": "2021-09-04T20:28:19.590351Z"
    },
    "scrolled": true
   },
   "outputs": [
    {
     "name": "stdout",
     "output_type": "stream",
     "text": [
      "Epoch 1/250\n",
      "3365/3365 [==============================] - 68s 17ms/step - loss: 0.8013 - accuracy: 0.7185 - val_loss: 0.4250 - val_accuracy: 0.8060\n",
      "Epoch 2/250\n",
      "3365/3365 [==============================] - 54s 16ms/step - loss: 0.4782 - accuracy: 0.7879 - val_loss: 0.4472 - val_accuracy: 0.7991\n",
      "Epoch 3/250\n",
      "3365/3365 [==============================] - 55s 16ms/step - loss: 0.4338 - accuracy: 0.8030 - val_loss: 0.4268 - val_accuracy: 0.8026\n",
      "Epoch 4/250\n",
      "3365/3365 [==============================] - 54s 16ms/step - loss: 0.4022 - accuracy: 0.8181 - val_loss: 0.3979 - val_accuracy: 0.8187\n",
      "Epoch 5/250\n",
      "3365/3365 [==============================] - 55s 16ms/step - loss: 0.3901 - accuracy: 0.8239 - val_loss: 0.3856 - val_accuracy: 0.8268\n",
      "Epoch 6/250\n",
      "3365/3365 [==============================] - 55s 16ms/step - loss: 0.3814 - accuracy: 0.8291 - val_loss: 0.3886 - val_accuracy: 0.8276\n",
      "Epoch 7/250\n",
      "3365/3365 [==============================] - 55s 16ms/step - loss: 0.3774 - accuracy: 0.8309 - val_loss: 0.3839 - val_accuracy: 0.8273\n",
      "Epoch 8/250\n",
      "3365/3365 [==============================] - 55s 16ms/step - loss: 0.3707 - accuracy: 0.8338 - val_loss: 0.3762 - val_accuracy: 0.8332\n",
      "Epoch 9/250\n",
      "3365/3365 [==============================] - 55s 16ms/step - loss: 0.3670 - accuracy: 0.8373 - val_loss: 0.3758 - val_accuracy: 0.8340\n",
      "Epoch 10/250\n",
      "3365/3365 [==============================] - 55s 16ms/step - loss: 0.3627 - accuracy: 0.8384 - val_loss: 0.3767 - val_accuracy: 0.8318\n",
      "Epoch 11/250\n",
      "3365/3365 [==============================] - 55s 16ms/step - loss: 0.3607 - accuracy: 0.8401 - val_loss: 0.3749 - val_accuracy: 0.8321\n",
      "Epoch 12/250\n",
      "3365/3365 [==============================] - 54s 16ms/step - loss: 0.3578 - accuracy: 0.8427 - val_loss: 0.3756 - val_accuracy: 0.8335\n",
      "Epoch 13/250\n",
      "3365/3365 [==============================] - 55s 16ms/step - loss: 0.3530 - accuracy: 0.8440 - val_loss: 0.3768 - val_accuracy: 0.8331\n",
      "Epoch 14/250\n",
      "3365/3365 [==============================] - 55s 16ms/step - loss: 0.3515 - accuracy: 0.8443 - val_loss: 0.3763 - val_accuracy: 0.8351\n",
      "Epoch 15/250\n",
      "3365/3365 [==============================] - 54s 16ms/step - loss: 0.3480 - accuracy: 0.8460 - val_loss: 0.3779 - val_accuracy: 0.8323\n",
      "Epoch 16/250\n",
      "3365/3365 [==============================] - 55s 16ms/step - loss: 0.3478 - accuracy: 0.8460 - val_loss: 0.3786 - val_accuracy: 0.8333\n",
      "Epoch 17/250\n",
      "3365/3365 [==============================] - 54s 16ms/step - loss: 0.3435 - accuracy: 0.8477 - val_loss: 0.3814 - val_accuracy: 0.8310\n",
      "Epoch 18/250\n",
      "3365/3365 [==============================] - 55s 16ms/step - loss: 0.3372 - accuracy: 0.8509 - val_loss: 0.3771 - val_accuracy: 0.8347\n",
      "Epoch 19/250\n",
      "3365/3365 [==============================] - 55s 16ms/step - loss: 0.3343 - accuracy: 0.8528 - val_loss: 0.3817 - val_accuracy: 0.8316\n",
      "Epoch 20/250\n",
      "3365/3365 [==============================] - 55s 16ms/step - loss: 0.3343 - accuracy: 0.8522 - val_loss: 0.3847 - val_accuracy: 0.8308\n",
      "Epoch 21/250\n",
      "3365/3365 [==============================] - 54s 16ms/step - loss: 0.3306 - accuracy: 0.8556 - val_loss: 0.3847 - val_accuracy: 0.8312\n",
      "Epoch 22/250\n",
      "3365/3365 [==============================] - 55s 16ms/step - loss: 0.3275 - accuracy: 0.8566 - val_loss: 0.3861 - val_accuracy: 0.8313\n",
      "Epoch 23/250\n",
      "3365/3365 [==============================] - 55s 16ms/step - loss: 0.3231 - accuracy: 0.8581 - val_loss: 0.3870 - val_accuracy: 0.8290\n",
      "Epoch 24/250\n",
      "3365/3365 [==============================] - 54s 16ms/step - loss: 0.3220 - accuracy: 0.8587 - val_loss: 0.3932 - val_accuracy: 0.8302\n",
      "Epoch 25/250\n",
      "3365/3365 [==============================] - 55s 16ms/step - loss: 0.3163 - accuracy: 0.8611 - val_loss: 0.3933 - val_accuracy: 0.8287\n",
      "Epoch 26/250\n",
      "3365/3365 [==============================] - 55s 16ms/step - loss: 0.3145 - accuracy: 0.8624 - val_loss: 0.3932 - val_accuracy: 0.8301\n",
      "Epoch 27/250\n",
      "3365/3365 [==============================] - 55s 16ms/step - loss: 0.3167 - accuracy: 0.8610 - val_loss: 0.3992 - val_accuracy: 0.8258\n",
      "Epoch 28/250\n",
      "3365/3365 [==============================] - 55s 16ms/step - loss: 0.3100 - accuracy: 0.8643 - val_loss: 0.4029 - val_accuracy: 0.8255\n",
      "Epoch 29/250\n",
      "3365/3365 [==============================] - 54s 16ms/step - loss: 0.3084 - accuracy: 0.8653 - val_loss: 0.4017 - val_accuracy: 0.8246\n",
      "Epoch 30/250\n",
      "3365/3365 [==============================] - 54s 16ms/step - loss: 0.3035 - accuracy: 0.8677 - val_loss: 0.4058 - val_accuracy: 0.8261\n",
      "Epoch 31/250\n",
      "3365/3365 [==============================] - 55s 16ms/step - loss: 0.3008 - accuracy: 0.8690 - val_loss: 0.4105 - val_accuracy: 0.8224\n",
      "Epoch 00031: early stopping\n"
     ]
    }
   ],
   "source": [
    "history = model_high.fit([pep_train, aa_train, en_train, ec_train, e1_train, e2_train],\n",
    "                    y_train, \n",
    "                    epochs=250,\n",
    "                    batch_size=64,\n",
    "                    validation_data=([pep_val, aa_val, en_val, ec_val, e1_val, e2_val], y_val),\n",
    "                    callbacks=[es])"
   ]
  },
  {
   "cell_type": "code",
   "execution_count": 80,
   "metadata": {
    "ExecuteTime": {
     "end_time": "2021-09-04T20:56:49.598075Z",
     "start_time": "2021-09-04T20:56:49.368031Z"
    }
   },
   "outputs": [
    {
     "data": {
      "image/png": "[encoded data removed]",
      "text/plain": [
       "<Figure size 1152x144 with 2 Axes>"
      ]
     },
     "metadata": {
      "needs_background": "light"
     },
     "output_type": "display_data"
    }
   ],
   "source": [
    "plt.figure(figsize=(16,2))\n",
    "plt.subplot(1,2,1)\n",
    "plot_graphs(history, 'accuracy')\n",
    "plt.subplot(1,2,2)\n",
    "plot_graphs(history, 'loss')"
   ]
  },
  {
   "cell_type": "markdown",
   "metadata": {},
   "source": [
    "# eval"
   ]
  },
  {
   "cell_type": "code",
   "execution_count": 81,
   "metadata": {
    "ExecuteTime": {
     "end_time": "2021-09-04T20:57:32.651908Z",
     "start_time": "2021-09-04T20:56:49.599163Z"
    },
    "scrolled": false
   },
   "outputs": [
    {
     "name": "stdout",
     "output_type": "stream",
     "text": [
      "2104/2104 [==============================] - 13s 6ms/step - loss: 0.4050 - accuracy: 0.8253\n",
      "Test Loss: 0.4050477147102356\n",
      "Test Accuracy: 0.8252994418144226\n",
      "              precision    recall  f1-score   support\n",
      "\n",
      "           0       0.82      0.83      0.83     33706\n",
      "           1       0.83      0.82      0.82     33592\n",
      "\n",
      "    accuracy                           0.83     67298\n",
      "   macro avg       0.83      0.83      0.83     67298\n",
      "weighted avg       0.83      0.83      0.83     67298\n",
      "\n",
      "rf auc : 0.9061411532015624\n"
     ]
    },
    {
     "data": {
      "image/png": "[encoded data removed]",
      "text/plain": [
       "<Figure size 288x288 with 1 Axes>"
      ]
     },
     "metadata": {
      "needs_background": "light"
     },
     "output_type": "display_data"
    },
    {
     "data": {
      "image/png": "[encoded data removed]",
      "text/plain": [
       "<Figure size 216x216 with 2 Axes>"
      ]
     },
     "metadata": {
      "needs_background": "light"
     },
     "output_type": "display_data"
    },
    {
     "data": {
      "image/png": "[encoded data removed]",
      "text/plain": [
       "<Figure size 216x216 with 2 Axes>"
      ]
     },
     "metadata": {
      "needs_background": "light"
     },
     "output_type": "display_data"
    }
   ],
   "source": [
    "test_loss, test_acc = model_high.evaluate([pep_test, aa_test, en_test, ec_test, e1_test, e2_test], y_test)\n",
    "print('Test Loss: {}'.format(test_loss))\n",
    "print('Test Accuracy: {}'.format(test_acc))\n",
    "\n",
    "# prediction\n",
    "y_pred = [1 if i>=0.5 else 0 for i in model_high.predict([pep_test, aa_test, en_test, ec_test, e1_test, e2_test])]\n",
    "print(classification_report(y_test, y_pred))\n",
    "# AUC\n",
    "probs = model_high.predict([pep_test, aa_test, en_test, ec_test, e1_test, e2_test])\n",
    "rf_auc = roc_auc_score(y_test, probs)\n",
    "print('rf auc : {}'.format(rf_auc))\n",
    "# plot the roc curve for the model_high\n",
    "rf_fpr, rf_tpr, _ = roc_curve(y_test, probs)\n",
    "plt.figure(figsize=(4, 4))\n",
    "plt.plot(rf_fpr, rf_tpr, marker='.', label='RF AUC = {:.4f}'.format(rf_auc), color='orange')\n",
    "plt.title('ROC curve')\n",
    "# axis labels\n",
    "plt.xlabel('False Positive Rate')\n",
    "plt.ylabel('True Positive Rate')\n",
    "# show the legend\n",
    "plt.legend()\n",
    "# show the plot\n",
    "plt.show()\n",
    "\n",
    "cf_matrix = confusion_matrix(y_test, y_pred)\n",
    "plt.figure(figsize=(3, 3))\n",
    "sns.heatmap(cf_matrix, annot=True, fmt=',.0f')\n",
    "plt.show()\n",
    "plt.figure(figsize=(3, 3))\n",
    "sns.heatmap(cf_matrix/np.sum(cf_matrix), annot=True, \n",
    "            fmt='.2%', cmap='Blues')\n",
    "plt.show()"
   ]
  },
  {
   "cell_type": "markdown",
   "metadata": {},
   "source": [
    "# best record.. ACC 83 AUC 91"
   ]
  },
  {
   "cell_type": "code",
   "execution_count": 64,
   "metadata": {
    "ExecuteTime": {
     "end_time": "2021-09-02T10:18:03.530632Z",
     "start_time": "2021-09-02T10:17:19.324377Z"
    },
    "scrolled": false
   },
   "outputs": [
    {
     "name": "stdout",
     "output_type": "stream",
     "text": [
      "2104/2104 [==============================] - 14s 7ms/step - loss: 0.3724 - accuracy: 0.8350\n",
      "Test Loss: 0.37239736318588257\n",
      "Test Accuracy: 0.8350025415420532\n",
      "              precision    recall  f1-score   support\n",
      "\n",
      "           0       0.83      0.84      0.84     33706\n",
      "           1       0.84      0.83      0.83     33592\n",
      "\n",
      "    accuracy                           0.84     67298\n",
      "   macro avg       0.84      0.83      0.83     67298\n",
      "weighted avg       0.84      0.84      0.83     67298\n",
      "\n",
      "rf auc : 0.9144610840997695\n"
     ]
    },
    {
     "data": {
      "image/png": "[encoded data removed]",
      "text/plain": [
       "<Figure size 288x288 with 1 Axes>"
      ]
     },
     "metadata": {
      "needs_background": "light"
     },
     "output_type": "display_data"
    },
    {
     "data": {
      "image/png": "[encoded data removed]",
      "text/plain": [
       "<Figure size 216x216 with 2 Axes>"
      ]
     },
     "metadata": {
      "needs_background": "light"
     },
     "output_type": "display_data"
    },
    {
     "data": {
      "image/png": "[encoded data removed]",
      "text/plain": [
       "<Figure size 216x216 with 2 Axes>"
      ]
     },
     "metadata": {
      "needs_background": "light"
     },
     "output_type": "display_data"
    }
   ],
   "source": [
    "# batch 32, lr 1e-4\n",
    "test_loss, test_acc = model_high.evaluate([pep_test, aa_test, en_test, ec_test, e1_test, e2_test], y_test)\n",
    "print('Test Loss: {}'.format(test_loss))\n",
    "print('Test Accuracy: {}'.format(test_acc))\n",
    "\n",
    "# prediction\n",
    "y_pred = [1 if i>=0.5 else 0 for i in model_high.predict([pep_test, aa_test, en_test, ec_test, e1_test, e2_test])]\n",
    "print(classification_report(y_test, y_pred))\n",
    "# AUC\n",
    "probs = model_high.predict([pep_test, aa_test, en_test, ec_test, e1_test, e2_test])\n",
    "rf_auc = roc_auc_score(y_test, probs)\n",
    "print('rf auc : {}'.format(rf_auc))\n",
    "# plot the roc curve for the model_high\n",
    "rf_fpr, rf_tpr, _ = roc_curve(y_test, probs)\n",
    "plt.figure(figsize=(4, 4))\n",
    "plt.plot(rf_fpr, rf_tpr, marker='.', label='RF AUC = {:.4f}'.format(rf_auc), color='orange')\n",
    "plt.title('ROC curve')\n",
    "# axis labels\n",
    "plt.xlabel('False Positive Rate')\n",
    "plt.ylabel('True Positive Rate')\n",
    "# show the legend\n",
    "plt.legend()\n",
    "# show the plot\n",
    "plt.show()\n",
    "\n",
    "cf_matrix = confusion_matrix(y_test, y_pred)\n",
    "plt.figure(figsize=(3, 3))\n",
    "sns.heatmap(cf_matrix, annot=True, fmt=',.0f')\n",
    "plt.show()\n",
    "plt.figure(figsize=(3, 3))\n",
    "sns.heatmap(cf_matrix/np.sum(cf_matrix), annot=True, \n",
    "            fmt='.2%', cmap='Blues')\n",
    "plt.show()"
   ]
  }
 ],
 "metadata": {
  "kernelspec": {
   "display_name": "TF2.4",
   "language": "python",
   "name": "tf2.4"
  },
  "language_info": {
   "codemirror_mode": {
    "name": "ipython",
    "version": 3
   },
   "file_extension": ".py",
   "mimetype": "text/x-python",
   "name": "python",
   "nbconvert_exporter": "python",
   "pygments_lexer": "ipython3",
   "version": "3.7.0"
  }
 },
 "nbformat": 4,
 "nbformat_minor": 4
}
