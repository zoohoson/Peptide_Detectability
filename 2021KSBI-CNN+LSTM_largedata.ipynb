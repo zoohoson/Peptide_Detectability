{
 "cells": [
  {
   "cell_type": "code",
   "execution_count": 1,
   "metadata": {
    "ExecuteTime": {
     "end_time": "2021-10-21T19:51:31.164840Z",
     "start_time": "2021-10-21T19:51:29.230650Z"
    }
   },
   "outputs": [],
   "source": [
    "import warnings\n",
    "warnings.simplefilter(action='ignore', category=FutureWarning)\n",
    "\n",
    "import argparse\n",
    "import numpy as np\n",
    "import tensorflow as tf\n",
    "from tensorflow import keras"
   ]
  },
  {
   "cell_type": "code",
   "execution_count": 2,
   "metadata": {
    "ExecuteTime": {
     "end_time": "2021-10-21T19:51:33.023744Z",
     "start_time": "2021-10-21T19:51:32.966119Z"
    }
   },
   "outputs": [],
   "source": [
    "import tensorflow as tf\n",
    "gpus = tf.config.experimental.list_physical_devices('GPU')\n",
    "if gpus:\n",
    "    try:\n",
    "        tf.config.experimental.set_virtual_device_configuration(gpus[0],\n",
    "        [tf.config.experimental.VirtualDeviceConfiguration(memory_limit=1024*4)])\n",
    "    except RuntimeError as e:\n",
    "        print(e)"
   ]
  },
  {
   "cell_type": "code",
   "execution_count": 3,
   "metadata": {
    "ExecuteTime": {
     "end_time": "2021-10-21T19:51:33.979840Z",
     "start_time": "2021-10-21T19:51:33.974519Z"
    }
   },
   "outputs": [],
   "source": [
    "def load_pep_and_codify(file, max_len):\n",
    "    aa_dict={'A':1,'R':2,'N':3,'D':4,'C':5,'Q':6,'E':7,'G':8,'H':9,'I':10,'L':11,'K':12,'M':13,'F':14,\n",
    "        'P':15,'O':16,'S':17,'U':18,'T':19,'W':20,'Y':21,'V':22}\n",
    "    with open(file, 'r') as inf:\n",
    "        lines = inf.read().splitlines()\n",
    "    pep_codes=[]\n",
    "    long_pep_counter = 0\n",
    "    newLines = []\n",
    "    for pep in lines:\n",
    "        if not len(pep) > max_len:\n",
    "            current_pep=[]\n",
    "            for aa in pep:\n",
    "                current_pep.append(aa_dict[aa])\n",
    "            pep_codes.append(current_pep)\n",
    "            newLines.extend([pep])\n",
    "        else:\n",
    "            long_pep_counter += 1\n",
    "    predict_data = keras.preprocessing.sequence.pad_sequences(pep_codes, value=0, padding='post', maxlen=max_len)\n",
    "    return predict_data, long_pep_counter, newLines"
   ]
  },
  {
   "cell_type": "markdown",
   "metadata": {},
   "source": [
    "# New Train"
   ]
  },
  {
   "cell_type": "code",
   "execution_count": 23,
   "metadata": {
    "ExecuteTime": {
     "end_time": "2021-10-24T15:11:28.195249Z",
     "start_time": "2021-10-24T15:11:27.974533Z"
    }
   },
   "outputs": [
    {
     "name": "stdout",
     "output_type": "stream",
     "text": [
      "Model: \"model_11\"\n",
      "_________________________________________________________________\n",
      "Layer (type)                 Output Shape              Param #   \n",
      "=================================================================\n",
      "input_12 (InputLayer)        [(None, 30)]              0         \n",
      "_________________________________________________________________\n",
      "embedding_11 (Embedding)     (None, 30, 32)            736       \n",
      "_________________________________________________________________\n",
      "dropout_12 (Dropout)         (None, 30, 32)            0         \n",
      "_________________________________________________________________\n",
      "tf.reshape_11 (TFOpLambda)   (None, 30, 32, 1)         0         \n",
      "_________________________________________________________________\n",
      "time_distributed_33 (TimeDis (None, 30, 32, 16)        64        \n",
      "_________________________________________________________________\n",
      "time_distributed_34 (TimeDis (None, 30, 16, 16)        0         \n",
      "_________________________________________________________________\n",
      "time_distributed_35 (TimeDis (None, 30, 256)           0         \n",
      "_________________________________________________________________\n",
      "lstm_11 (LSTM)               (None, 64)                82176     \n",
      "_________________________________________________________________\n",
      "dense_12 (Dense)             (None, 1)                 65        \n",
      "=================================================================\n",
      "Total params: 83,041\n",
      "Trainable params: 83,041\n",
      "Non-trainable params: 0\n",
      "_________________________________________________________________\n"
     ]
    }
   ],
   "source": [
    "pep = tf.keras.layers.Input(shape=((30,)))\n",
    "input1_ = tf.keras.layers.Embedding(23, 32, input_length=30, mask_zero=True)(pep)\n",
    "input1 = tf.keras.layers.Dropout(np.random.uniform(0, 0.2))(input1_)\n",
    "\n",
    "reshap = keras.backend.reshape(input1, [-1, 30, 32, 1])\n",
    "\n",
    "cnn1 = tf.keras.layers.TimeDistributed(\n",
    "    tf.keras.layers.Conv1D(\n",
    "        filters=16, kernel_size=3, strides=1, padding='same')\n",
    "    )(reshap)\n",
    "\n",
    "avgpool = tf.keras.layers.TimeDistributed(\n",
    "    tf.keras.layers.AveragePooling1D(pool_size=2)\n",
    "    )(cnn1)\n",
    "\n",
    "flat = tf.keras.layers.TimeDistributed(\n",
    "    tf.keras.layers.Flatten()\n",
    "    )(avgpool)\n",
    "\n",
    "lstm = tf.keras.layers.LSTM(64)(flat)\n",
    "    \n",
    "# den = tf.keras.layers.Dense(16, activation='relu')(lstm)\n",
    "# dropout1 = tf.keras.layers.Dropout(np.random.uniform(0, 0.2))(den)\n",
    "output = tf.keras.layers.Dense(1, activation='sigmoid')(lstm)\n",
    "\n",
    "model = tf.keras.Model(inputs=pep, outputs=[output])\n",
    "model.summary()\n",
    "\n",
    "model.compile(loss=tf.keras.losses.BinaryCrossentropy(from_logits=True),\n",
    "              optimizer=tf.keras.optimizers.Adam(1e-4),\n",
    "              metrics=['accuracy'])\n",
    "\n",
    "es = tf.keras.callbacks.EarlyStopping(monitor='val_loss',\n",
    "                                      mode='min', \n",
    "                                      verbose=1,\n",
    "                                      patience=20)"
   ]
  },
  {
   "cell_type": "markdown",
   "metadata": {},
   "source": [
    "# 1. Make Data X_train, y_train, X_test, y_test"
   ]
  },
  {
   "cell_type": "code",
   "execution_count": 24,
   "metadata": {
    "ExecuteTime": {
     "end_time": "2021-10-24T15:11:29.504076Z",
     "start_time": "2021-10-24T15:11:29.501577Z"
    }
   },
   "outputs": [],
   "source": [
    "import matplotlib.pyplot as plt\n",
    "import pandas as pd\n",
    "from sklearn.model_selection import train_test_split\n",
    "\n",
    "file_path = 'compareModel/2019Bioinformatics_DeepMSPeptide/DeepMSPeptide/'"
   ]
  },
  {
   "cell_type": "code",
   "execution_count": 11,
   "metadata": {
    "ExecuteTime": {
     "end_time": "2021-10-21T19:55:25.025191Z",
     "start_time": "2021-10-21T19:55:12.221018Z"
    }
   },
   "outputs": [
    {
     "name": "stdout",
     "output_type": "stream",
     "text": [
      "Loading input peptides\n",
      "Succesfully loaded 679396 peptides and skipped 0\n",
      "Loading input peptides\n",
      "Succesfully loaded 133992 peptides and skipped 0\n",
      "(543516, 30) (135880, 30) (133992, 30) (543516,) (135880,) (133992,)\n"
     ]
    }
   ],
   "source": [
    "# make DeepMSpeptide format\n",
    "df_peptide_train = pd.read_csv('data/df_detect_peptide_train.csv')\n",
    "df_peptide_test = pd.read_csv('data/df_detect_peptide_test.csv')\n",
    "\n",
    "inp = open(file_path+'detect_peptide_train.txt', 'w')\n",
    "inp_y = open(file_path+'detect_peptide_train_y.txt', 'w')\n",
    "for x, y in df_peptide_train[['PEP', 'ID']].values:\n",
    "    inp.write(x+'\\n')\n",
    "    inp_y.write(str(y)+'\\n')\n",
    "inp.close()\n",
    "inp_y.close()\n",
    "\n",
    "inp = open(file_path+'detect_peptide_test.txt', 'w')\n",
    "inp_y = open(file_path+'detect_peptide_test_y.txt', 'w')\n",
    "for x, y in df_peptide_test[['PEP', 'ID']].values:\n",
    "    inp.write(x+'\\n')\n",
    "    inp_y.write(str(y)+'\\n')\n",
    "inp.close()\n",
    "inp_y.close()\n",
    "\n",
    "args = file_path + 'detect_peptide_train.txt'\n",
    "print('Loading input peptides')\n",
    "X_train, skipped, lines = load_pep_and_codify(args, 30)\n",
    "tmp = open(file_path+'detect_peptide_train_y.txt')\n",
    "y_train = np.array([int(_.replace('\\n', '')) for _ in tmp.readlines()])\n",
    "tmp.close()\n",
    "print('Succesfully loaded {0} peptides and skipped {1}'.format(len(lines), str(skipped)))\n",
    "\n",
    "args = file_path + 'detect_peptide_test.txt'\n",
    "print('Loading input peptides')\n",
    "X_test, skipped, lines = load_pep_and_codify(args, 30)\n",
    "tmp = open(file_path+'detect_peptide_test_y.txt')\n",
    "y_test = np.array([int(_.replace('\\n', '')) for _ in tmp.readlines()])\n",
    "tmp.close()\n",
    "print('Succesfully loaded {0} peptides and skipped {1}'.format(len(lines), str(skipped)))\n",
    "\n",
    "X_train, X_val, y_train, y_val = train_test_split(X_train, y_train, test_size=0.2)\n",
    "print(X_train.shape, X_val.shape, X_test.shape, y_train.shape, y_val.shape, y_test.shape)\n"
   ]
  },
  {
   "cell_type": "markdown",
   "metadata": {},
   "source": [
    "# 2. train"
   ]
  },
  {
   "cell_type": "code",
   "execution_count": 12,
   "metadata": {
    "ExecuteTime": {
     "end_time": "2021-10-21T19:55:25.030818Z",
     "start_time": "2021-10-21T19:55:25.027309Z"
    }
   },
   "outputs": [],
   "source": [
    "def plot_graphs(history, metric):\n",
    "    plt.plot(history.history[metric])\n",
    "    plt.plot(history.history['val_'+metric], '')\n",
    "    plt.xlabel(\"Epochs\")\n",
    "    plt.ylabel(metric)\n",
    "    plt.legend([metric, 'val_'+metric])"
   ]
  },
  {
   "cell_type": "code",
   "execution_count": 25,
   "metadata": {
    "ExecuteTime": {
     "end_time": "2021-10-24T17:24:21.139998Z",
     "start_time": "2021-10-24T15:11:35.479094Z"
    }
   },
   "outputs": [
    {
     "name": "stdout",
     "output_type": "stream",
     "text": [
      "Epoch 1/200\n",
      "5436/5436 [==============================] - 27s 5ms/step - loss: 0.5512 - accuracy: 0.7081 - val_loss: 0.4852 - val_accuracy: 0.7660\n",
      "Epoch 2/200\n",
      "5436/5436 [==============================] - 25s 5ms/step - loss: 0.4737 - accuracy: 0.7744 - val_loss: 0.4599 - val_accuracy: 0.7826\n",
      "Epoch 3/200\n",
      "5436/5436 [==============================] - 25s 5ms/step - loss: 0.4592 - accuracy: 0.7828 - val_loss: 0.4490 - val_accuracy: 0.7900\n",
      "Epoch 4/200\n",
      "5436/5436 [==============================] - 25s 5ms/step - loss: 0.4489 - accuracy: 0.7899 - val_loss: 0.4416 - val_accuracy: 0.7954\n",
      "Epoch 5/200\n",
      "5436/5436 [==============================] - 25s 5ms/step - loss: 0.4417 - accuracy: 0.7946 - val_loss: 0.4348 - val_accuracy: 0.8006\n",
      "Epoch 6/200\n",
      "5436/5436 [==============================] - 25s 5ms/step - loss: 0.4350 - accuracy: 0.7987 - val_loss: 0.4368 - val_accuracy: 0.8004\n",
      "Epoch 7/200\n",
      "5436/5436 [==============================] - 26s 5ms/step - loss: 0.4308 - accuracy: 0.8022 - val_loss: 0.4338 - val_accuracy: 0.8006\n",
      "Epoch 8/200\n",
      "5436/5436 [==============================] - 25s 5ms/step - loss: 0.4276 - accuracy: 0.8035 - val_loss: 0.4342 - val_accuracy: 0.8009\n",
      "Epoch 9/200\n",
      "5436/5436 [==============================] - 25s 5ms/step - loss: 0.4251 - accuracy: 0.8059 - val_loss: 0.4252 - val_accuracy: 0.8057\n",
      "Epoch 10/200\n",
      "5436/5436 [==============================] - 25s 5ms/step - loss: 0.4220 - accuracy: 0.8073 - val_loss: 0.4201 - val_accuracy: 0.8092\n",
      "Epoch 11/200\n",
      "5436/5436 [==============================] - 25s 5ms/step - loss: 0.4212 - accuracy: 0.8073 - val_loss: 0.4178 - val_accuracy: 0.8100\n",
      "Epoch 12/200\n",
      "5436/5436 [==============================] - 25s 5ms/step - loss: 0.4188 - accuracy: 0.8089 - val_loss: 0.4189 - val_accuracy: 0.8094\n",
      "Epoch 13/200\n",
      "5436/5436 [==============================] - 25s 5ms/step - loss: 0.4167 - accuracy: 0.8099 - val_loss: 0.4155 - val_accuracy: 0.8109\n",
      "Epoch 14/200\n",
      "5436/5436 [==============================] - 25s 5ms/step - loss: 0.4157 - accuracy: 0.8106 - val_loss: 0.4138 - val_accuracy: 0.8117\n",
      "Epoch 15/200\n",
      "5436/5436 [==============================] - 25s 5ms/step - loss: 0.4147 - accuracy: 0.8110 - val_loss: 0.4133 - val_accuracy: 0.8121\n",
      "Epoch 16/200\n",
      "5436/5436 [==============================] - 25s 5ms/step - loss: 0.4127 - accuracy: 0.8127 - val_loss: 0.4150 - val_accuracy: 0.8116\n",
      "Epoch 17/200\n",
      "5436/5436 [==============================] - 25s 5ms/step - loss: 0.4114 - accuracy: 0.8133 - val_loss: 0.4111 - val_accuracy: 0.8141\n",
      "Epoch 18/200\n",
      "5436/5436 [==============================] - 25s 5ms/step - loss: 0.4098 - accuracy: 0.8133 - val_loss: 0.4097 - val_accuracy: 0.8151\n",
      "Epoch 19/200\n",
      "5436/5436 [==============================] - 25s 5ms/step - loss: 0.4099 - accuracy: 0.8137 - val_loss: 0.4104 - val_accuracy: 0.8138\n",
      "Epoch 20/200\n",
      "5436/5436 [==============================] - 25s 5ms/step - loss: 0.4091 - accuracy: 0.8138 - val_loss: 0.4085 - val_accuracy: 0.8152\n",
      "Epoch 21/200\n",
      "5436/5436 [==============================] - 44s 8ms/step - loss: 0.4089 - accuracy: 0.8147 - val_loss: 0.4074 - val_accuracy: 0.8159\n",
      "Epoch 22/200\n",
      "5436/5436 [==============================] - 69s 13ms/step - loss: 0.4077 - accuracy: 0.8148 - val_loss: 0.4090 - val_accuracy: 0.8153\n",
      "Epoch 23/200\n",
      "5436/5436 [==============================] - 71s 13ms/step - loss: 0.4072 - accuracy: 0.8147 - val_loss: 0.4068 - val_accuracy: 0.8151\n",
      "Epoch 24/200\n",
      "5436/5436 [==============================] - 79s 15ms/step - loss: 0.4065 - accuracy: 0.8154 - val_loss: 0.4067 - val_accuracy: 0.8162\n",
      "Epoch 25/200\n",
      "5436/5436 [==============================] - 78s 14ms/step - loss: 0.4049 - accuracy: 0.8161 - val_loss: 0.4053 - val_accuracy: 0.8171\n",
      "Epoch 26/200\n",
      "5436/5436 [==============================] - 78s 14ms/step - loss: 0.4050 - accuracy: 0.8165 - val_loss: 0.4052 - val_accuracy: 0.8172\n",
      "Epoch 27/200\n",
      "5436/5436 [==============================] - 78s 14ms/step - loss: 0.4043 - accuracy: 0.8168 - val_loss: 0.4044 - val_accuracy: 0.8172\n",
      "Epoch 28/200\n",
      "5436/5436 [==============================] - 78s 14ms/step - loss: 0.4019 - accuracy: 0.8181 - val_loss: 0.4046 - val_accuracy: 0.8171\n",
      "Epoch 29/200\n",
      "5436/5436 [==============================] - 78s 14ms/step - loss: 0.4029 - accuracy: 0.8177 - val_loss: 0.4029 - val_accuracy: 0.8187\n",
      "Epoch 30/200\n",
      "5436/5436 [==============================] - 77s 14ms/step - loss: 0.4008 - accuracy: 0.8186 - val_loss: 0.4024 - val_accuracy: 0.8184\n",
      "Epoch 31/200\n",
      "5436/5436 [==============================] - 78s 14ms/step - loss: 0.4018 - accuracy: 0.8186 - val_loss: 0.4010 - val_accuracy: 0.8198\n",
      "Epoch 32/200\n",
      "5436/5436 [==============================] - 78s 14ms/step - loss: 0.3997 - accuracy: 0.8198 - val_loss: 0.4006 - val_accuracy: 0.8194\n",
      "Epoch 33/200\n",
      "5436/5436 [==============================] - 78s 14ms/step - loss: 0.3987 - accuracy: 0.8202 - val_loss: 0.4012 - val_accuracy: 0.8190\n",
      "Epoch 34/200\n",
      "5436/5436 [==============================] - 78s 14ms/step - loss: 0.3978 - accuracy: 0.8204 - val_loss: 0.3997 - val_accuracy: 0.8202\n",
      "Epoch 35/200\n",
      "5436/5436 [==============================] - 79s 14ms/step - loss: 0.3989 - accuracy: 0.8200 - val_loss: 0.3992 - val_accuracy: 0.8202\n",
      "Epoch 36/200\n",
      "5436/5436 [==============================] - 78s 14ms/step - loss: 0.3975 - accuracy: 0.8206 - val_loss: 0.3983 - val_accuracy: 0.8206\n",
      "Epoch 37/200\n",
      "5436/5436 [==============================] - 78s 14ms/step - loss: 0.3962 - accuracy: 0.8209 - val_loss: 0.3992 - val_accuracy: 0.8205\n",
      "Epoch 38/200\n",
      "5436/5436 [==============================] - 78s 14ms/step - loss: 0.3977 - accuracy: 0.8203 - val_loss: 0.3992 - val_accuracy: 0.8208\n",
      "Epoch 39/200\n",
      "5436/5436 [==============================] - 77s 14ms/step - loss: 0.3955 - accuracy: 0.8222 - val_loss: 0.3987 - val_accuracy: 0.8207\n",
      "Epoch 40/200\n",
      "5436/5436 [==============================] - 77s 14ms/step - loss: 0.3962 - accuracy: 0.8216 - val_loss: 0.3979 - val_accuracy: 0.8209\n",
      "Epoch 41/200\n",
      "5436/5436 [==============================] - 77s 14ms/step - loss: 0.3950 - accuracy: 0.8221 - val_loss: 0.3977 - val_accuracy: 0.8209\n",
      "Epoch 42/200\n",
      "5436/5436 [==============================] - 77s 14ms/step - loss: 0.3948 - accuracy: 0.8221 - val_loss: 0.3975 - val_accuracy: 0.8219\n",
      "Epoch 43/200\n",
      "5436/5436 [==============================] - 78s 14ms/step - loss: 0.3936 - accuracy: 0.8230 - val_loss: 0.3969 - val_accuracy: 0.8214\n",
      "Epoch 44/200\n",
      "5436/5436 [==============================] - 77s 14ms/step - loss: 0.3937 - accuracy: 0.8226 - val_loss: 0.4000 - val_accuracy: 0.8195\n",
      "Epoch 45/200\n",
      "5436/5436 [==============================] - 78s 14ms/step - loss: 0.3936 - accuracy: 0.8223 - val_loss: 0.3963 - val_accuracy: 0.8215\n",
      "Epoch 46/200\n",
      "5436/5436 [==============================] - 77s 14ms/step - loss: 0.3944 - accuracy: 0.8218 - val_loss: 0.3968 - val_accuracy: 0.8207\n",
      "Epoch 47/200\n",
      "5436/5436 [==============================] - 77s 14ms/step - loss: 0.3928 - accuracy: 0.8233 - val_loss: 0.3969 - val_accuracy: 0.8217\n",
      "Epoch 48/200\n",
      "5436/5436 [==============================] - 77s 14ms/step - loss: 0.3933 - accuracy: 0.8229 - val_loss: 0.3955 - val_accuracy: 0.8214\n",
      "Epoch 49/200\n",
      "5436/5436 [==============================] - 77s 14ms/step - loss: 0.3925 - accuracy: 0.8236 - val_loss: 0.3957 - val_accuracy: 0.8216\n",
      "Epoch 50/200\n",
      "5436/5436 [==============================] - 78s 14ms/step - loss: 0.3913 - accuracy: 0.8235 - val_loss: 0.3967 - val_accuracy: 0.8212\n",
      "Epoch 51/200\n",
      "5436/5436 [==============================] - 77s 14ms/step - loss: 0.3905 - accuracy: 0.8235 - val_loss: 0.3965 - val_accuracy: 0.8205\n",
      "Epoch 52/200\n",
      "5436/5436 [==============================] - 77s 14ms/step - loss: 0.3906 - accuracy: 0.8237 - val_loss: 0.3940 - val_accuracy: 0.8225\n",
      "Epoch 53/200\n",
      "5436/5436 [==============================] - 78s 14ms/step - loss: 0.3907 - accuracy: 0.8247 - val_loss: 0.3949 - val_accuracy: 0.8225\n",
      "Epoch 54/200\n",
      "5436/5436 [==============================] - 78s 14ms/step - loss: 0.3907 - accuracy: 0.8239 - val_loss: 0.3941 - val_accuracy: 0.8230\n",
      "Epoch 55/200\n",
      "5436/5436 [==============================] - 77s 14ms/step - loss: 0.3887 - accuracy: 0.8247 - val_loss: 0.3933 - val_accuracy: 0.8228\n",
      "Epoch 56/200\n"
     ]
    },
    {
     "name": "stdout",
     "output_type": "stream",
     "text": [
      "5436/5436 [==============================] - 78s 14ms/step - loss: 0.3893 - accuracy: 0.8247 - val_loss: 0.3949 - val_accuracy: 0.8223\n",
      "Epoch 57/200\n",
      "5436/5436 [==============================] - 77s 14ms/step - loss: 0.3897 - accuracy: 0.8250 - val_loss: 0.3936 - val_accuracy: 0.8233\n",
      "Epoch 58/200\n",
      "5436/5436 [==============================] - 76s 14ms/step - loss: 0.3900 - accuracy: 0.8244 - val_loss: 0.3935 - val_accuracy: 0.8233\n",
      "Epoch 59/200\n",
      "5436/5436 [==============================] - 78s 14ms/step - loss: 0.3878 - accuracy: 0.8258 - val_loss: 0.3948 - val_accuracy: 0.8218\n",
      "Epoch 60/200\n",
      "5436/5436 [==============================] - 78s 14ms/step - loss: 0.3892 - accuracy: 0.8255 - val_loss: 0.3936 - val_accuracy: 0.8225\n",
      "Epoch 61/200\n",
      "5436/5436 [==============================] - 77s 14ms/step - loss: 0.3886 - accuracy: 0.8250 - val_loss: 0.3924 - val_accuracy: 0.8231\n",
      "Epoch 62/200\n",
      "5436/5436 [==============================] - 77s 14ms/step - loss: 0.3886 - accuracy: 0.8250 - val_loss: 0.3928 - val_accuracy: 0.8235\n",
      "Epoch 63/200\n",
      "5436/5436 [==============================] - 76s 14ms/step - loss: 0.3866 - accuracy: 0.8261 - val_loss: 0.3943 - val_accuracy: 0.8229\n",
      "Epoch 64/200\n",
      "5436/5436 [==============================] - 77s 14ms/step - loss: 0.3878 - accuracy: 0.8257 - val_loss: 0.3928 - val_accuracy: 0.8230\n",
      "Epoch 65/200\n",
      "5436/5436 [==============================] - 78s 14ms/step - loss: 0.3886 - accuracy: 0.8251 - val_loss: 0.3931 - val_accuracy: 0.8230\n",
      "Epoch 66/200\n",
      "5436/5436 [==============================] - 77s 14ms/step - loss: 0.3869 - accuracy: 0.8257 - val_loss: 0.3921 - val_accuracy: 0.8235\n",
      "Epoch 67/200\n",
      "5436/5436 [==============================] - 77s 14ms/step - loss: 0.3878 - accuracy: 0.8245 - val_loss: 0.3952 - val_accuracy: 0.8235\n",
      "Epoch 68/200\n",
      "5436/5436 [==============================] - 78s 14ms/step - loss: 0.3851 - accuracy: 0.8265 - val_loss: 0.3920 - val_accuracy: 0.8240\n",
      "Epoch 69/200\n",
      "5436/5436 [==============================] - 77s 14ms/step - loss: 0.3859 - accuracy: 0.8263 - val_loss: 0.3944 - val_accuracy: 0.8215\n",
      "Epoch 70/200\n",
      "5436/5436 [==============================] - 78s 14ms/step - loss: 0.3859 - accuracy: 0.8260 - val_loss: 0.3918 - val_accuracy: 0.8233\n",
      "Epoch 71/200\n",
      "5436/5436 [==============================] - 78s 14ms/step - loss: 0.3861 - accuracy: 0.8264 - val_loss: 0.3932 - val_accuracy: 0.8222\n",
      "Epoch 72/200\n",
      "5436/5436 [==============================] - 77s 14ms/step - loss: 0.3859 - accuracy: 0.8260 - val_loss: 0.3925 - val_accuracy: 0.8233\n",
      "Epoch 73/200\n",
      "5436/5436 [==============================] - 77s 14ms/step - loss: 0.3857 - accuracy: 0.8264 - val_loss: 0.3929 - val_accuracy: 0.8223\n",
      "Epoch 74/200\n",
      "5436/5436 [==============================] - 78s 14ms/step - loss: 0.3851 - accuracy: 0.8276 - val_loss: 0.3923 - val_accuracy: 0.8237\n",
      "Epoch 75/200\n",
      "5436/5436 [==============================] - 78s 14ms/step - loss: 0.3855 - accuracy: 0.8262 - val_loss: 0.3916 - val_accuracy: 0.8243\n",
      "Epoch 76/200\n",
      "5436/5436 [==============================] - 77s 14ms/step - loss: 0.3832 - accuracy: 0.8278 - val_loss: 0.3926 - val_accuracy: 0.8236\n",
      "Epoch 77/200\n",
      "5436/5436 [==============================] - 77s 14ms/step - loss: 0.3832 - accuracy: 0.8276 - val_loss: 0.3930 - val_accuracy: 0.8227\n",
      "Epoch 78/200\n",
      "5436/5436 [==============================] - 77s 14ms/step - loss: 0.3838 - accuracy: 0.8271 - val_loss: 0.3927 - val_accuracy: 0.8229\n",
      "Epoch 79/200\n",
      "5436/5436 [==============================] - 77s 14ms/step - loss: 0.3831 - accuracy: 0.8281 - val_loss: 0.3920 - val_accuracy: 0.8241\n",
      "Epoch 80/200\n",
      "5436/5436 [==============================] - 77s 14ms/step - loss: 0.3845 - accuracy: 0.8262 - val_loss: 0.3940 - val_accuracy: 0.8229\n",
      "Epoch 81/200\n",
      "5436/5436 [==============================] - 76s 14ms/step - loss: 0.3836 - accuracy: 0.8268 - val_loss: 0.3924 - val_accuracy: 0.8234\n",
      "Epoch 82/200\n",
      "5436/5436 [==============================] - 77s 14ms/step - loss: 0.3826 - accuracy: 0.8278 - val_loss: 0.3927 - val_accuracy: 0.8229\n",
      "Epoch 83/200\n",
      "5436/5436 [==============================] - 77s 14ms/step - loss: 0.3845 - accuracy: 0.8268 - val_loss: 0.3917 - val_accuracy: 0.8241\n",
      "Epoch 84/200\n",
      "5436/5436 [==============================] - 77s 14ms/step - loss: 0.3827 - accuracy: 0.8279 - val_loss: 0.3924 - val_accuracy: 0.8238\n",
      "Epoch 85/200\n",
      "5436/5436 [==============================] - 77s 14ms/step - loss: 0.3825 - accuracy: 0.8274 - val_loss: 0.3915 - val_accuracy: 0.8243\n",
      "Epoch 86/200\n",
      "5436/5436 [==============================] - 77s 14ms/step - loss: 0.3825 - accuracy: 0.8279 - val_loss: 0.3913 - val_accuracy: 0.8239\n",
      "Epoch 87/200\n",
      "5436/5436 [==============================] - 77s 14ms/step - loss: 0.3821 - accuracy: 0.8276 - val_loss: 0.3921 - val_accuracy: 0.8240\n",
      "Epoch 88/200\n",
      "5436/5436 [==============================] - 78s 14ms/step - loss: 0.3830 - accuracy: 0.8267 - val_loss: 0.3928 - val_accuracy: 0.8236\n",
      "Epoch 89/200\n",
      "5436/5436 [==============================] - 78s 14ms/step - loss: 0.3823 - accuracy: 0.8286 - val_loss: 0.3921 - val_accuracy: 0.8236\n",
      "Epoch 90/200\n",
      "5436/5436 [==============================] - 135s 25ms/step - loss: 0.3816 - accuracy: 0.8280 - val_loss: 0.3916 - val_accuracy: 0.8241\n",
      "Epoch 91/200\n",
      "5436/5436 [==============================] - 137s 25ms/step - loss: 0.3802 - accuracy: 0.8293 - val_loss: 0.3919 - val_accuracy: 0.8239\n",
      "Epoch 92/200\n",
      "5436/5436 [==============================] - 140s 26ms/step - loss: 0.3797 - accuracy: 0.8295 - val_loss: 0.3917 - val_accuracy: 0.8239\n",
      "Epoch 93/200\n",
      "5436/5436 [==============================] - 124s 23ms/step - loss: 0.3810 - accuracy: 0.8286 - val_loss: 0.3923 - val_accuracy: 0.8232\n",
      "Epoch 94/200\n",
      "5436/5436 [==============================] - 77s 14ms/step - loss: 0.3803 - accuracy: 0.8290 - val_loss: 0.3930 - val_accuracy: 0.8236\n",
      "Epoch 95/200\n",
      "5436/5436 [==============================] - 77s 14ms/step - loss: 0.3800 - accuracy: 0.8291 - val_loss: 0.3920 - val_accuracy: 0.8238\n",
      "Epoch 96/200\n",
      "5436/5436 [==============================] - 77s 14ms/step - loss: 0.3807 - accuracy: 0.8288 - val_loss: 0.3920 - val_accuracy: 0.8237\n",
      "Epoch 97/200\n",
      "5436/5436 [==============================] - 137s 25ms/step - loss: 0.3799 - accuracy: 0.8288 - val_loss: 0.3924 - val_accuracy: 0.8233\n",
      "Epoch 98/200\n",
      "5436/5436 [==============================] - 137s 25ms/step - loss: 0.3793 - accuracy: 0.8294 - val_loss: 0.3922 - val_accuracy: 0.8236\n",
      "Epoch 99/200\n",
      "5436/5436 [==============================] - 140s 26ms/step - loss: 0.3806 - accuracy: 0.8287 - val_loss: 0.3922 - val_accuracy: 0.8241\n",
      "Epoch 100/200\n",
      "5436/5436 [==============================] - 142s 26ms/step - loss: 0.3788 - accuracy: 0.8293 - val_loss: 0.3925 - val_accuracy: 0.8239\n",
      "Epoch 101/200\n",
      "5436/5436 [==============================] - 139s 26ms/step - loss: 0.3810 - accuracy: 0.8285 - val_loss: 0.3918 - val_accuracy: 0.8240\n",
      "Epoch 102/200\n",
      "5436/5436 [==============================] - 140s 26ms/step - loss: 0.3797 - accuracy: 0.8293 - val_loss: 0.3950 - val_accuracy: 0.8222\n",
      "Epoch 103/200\n",
      "5436/5436 [==============================] - 139s 26ms/step - loss: 0.3785 - accuracy: 0.8304 - val_loss: 0.3937 - val_accuracy: 0.8230\n",
      "Epoch 104/200\n",
      "5436/5436 [==============================] - 142s 26ms/step - loss: 0.3796 - accuracy: 0.8290 - val_loss: 0.3926 - val_accuracy: 0.8238\n",
      "Epoch 105/200\n",
      "5436/5436 [==============================] - 140s 26ms/step - loss: 0.3791 - accuracy: 0.8298 - val_loss: 0.3921 - val_accuracy: 0.8240\n",
      "Epoch 106/200\n",
      "5436/5436 [==============================] - 140s 26ms/step - loss: 0.3788 - accuracy: 0.8294 - val_loss: 0.3926 - val_accuracy: 0.8239\n",
      "Epoch 00106: early stopping\n"
     ]
    }
   ],
   "source": [
    "history = model.fit(X_train, y_train, epochs=200, \n",
    "                    batch_size=100,\n",
    "                    validation_data=(X_val, y_val),\n",
    "                                       callbacks=[es])"
   ]
  },
  {
   "cell_type": "code",
   "execution_count": 26,
   "metadata": {
    "ExecuteTime": {
     "end_time": "2021-10-24T17:24:21.350916Z",
     "start_time": "2021-10-24T17:24:21.141927Z"
    }
   },
   "outputs": [
    {
     "data": {
      "image/png": "[encoded data removed]",
      "text/plain": [
       "<Figure size 1152x144 with 2 Axes>"
      ]
     },
     "metadata": {
      "needs_background": "light"
     },
     "output_type": "display_data"
    }
   ],
   "source": [
    "plt.figure(figsize=(16,2))\n",
    "plt.subplot(1,2,1)\n",
    "plot_graphs(history, 'accuracy')\n",
    "plt.subplot(1,2,2)\n",
    "plot_graphs(history, 'loss')"
   ]
  },
  {
   "cell_type": "markdown",
   "metadata": {},
   "source": [
    "# 3. test"
   ]
  },
  {
   "cell_type": "code",
   "execution_count": 27,
   "metadata": {
    "ExecuteTime": {
     "end_time": "2021-10-24T17:24:21.354546Z",
     "start_time": "2021-10-24T17:24:21.352301Z"
    }
   },
   "outputs": [],
   "source": [
    "from sklearn.metrics import classification_report\n",
    "from sklearn.metrics import confusion_matrix\n",
    "from sklearn.metrics import roc_curve\n",
    "from sklearn.metrics import roc_auc_score\n",
    "import seaborn as sns"
   ]
  },
  {
   "cell_type": "code",
   "execution_count": 28,
   "metadata": {
    "ExecuteTime": {
     "end_time": "2021-10-24T17:25:21.162865Z",
     "start_time": "2021-10-24T17:24:21.355596Z"
    }
   },
   "outputs": [
    {
     "name": "stdout",
     "output_type": "stream",
     "text": [
      "4188/4188 [==============================] - 60s 14ms/step - loss: 0.3837 - accuracy: 0.8283\n",
      "Test Loss: 0.38369375467300415\n",
      "Test Accuracy: 0.828340470790863\n"
     ]
    }
   ],
   "source": [
    "test_loss, test_acc = model.evaluate(X_test, y_test)\n",
    "print('Test Loss: {}'.format(test_loss))\n",
    "print('Test Accuracy: {}'.format(test_acc))"
   ]
  },
  {
   "cell_type": "code",
   "execution_count": 29,
   "metadata": {
    "ExecuteTime": {
     "end_time": "2021-10-24T17:26:18.267568Z",
     "start_time": "2021-10-24T17:25:21.164165Z"
    }
   },
   "outputs": [
    {
     "name": "stdout",
     "output_type": "stream",
     "text": [
      "              precision    recall  f1-score   support\n",
      "\n",
      "           0       0.86      0.78      0.82     66996\n",
      "           1       0.80      0.88      0.84     66996\n",
      "\n",
      "    accuracy                           0.83    133992\n",
      "   macro avg       0.83      0.83      0.83    133992\n",
      "weighted avg       0.83      0.83      0.83    133992\n",
      "\n",
      "rf auc : 0.9106773293556911\n"
     ]
    },
    {
     "data": {
      "image/png": "[encoded data removed]",
      "text/plain": [
       "<Figure size 288x288 with 1 Axes>"
      ]
     },
     "metadata": {
      "needs_background": "light"
     },
     "output_type": "display_data"
    },
    {
     "data": {
      "image/png": "[encoded data removed]",
      "text/plain": [
       "<Figure size 216x216 with 2 Axes>"
      ]
     },
     "metadata": {
      "needs_background": "light"
     },
     "output_type": "display_data"
    },
    {
     "data": {
      "image/png": "[encoded data removed]",
      "text/plain": [
       "<Figure size 216x216 with 2 Axes>"
      ]
     },
     "metadata": {
      "needs_background": "light"
     },
     "output_type": "display_data"
    }
   ],
   "source": [
    "# prediction\n",
    "y_pred = [1 if i>=0.5 else 0 for i in model.predict(X_test)]\n",
    "print(classification_report(y_test, y_pred))\n",
    "# AUC\n",
    "probs = model.predict(X_test)\n",
    "rf_auc = roc_auc_score(y_test, probs)\n",
    "print('rf auc : {}'.format(rf_auc))\n",
    "# plot the roc curve for the model\n",
    "rf_fpr, rf_tpr, _ = roc_curve(y_test, probs)\n",
    "plt.figure(figsize=(4, 4))\n",
    "plt.plot(rf_fpr, rf_tpr, marker='.', label='RF AUC = {:.4f}'.format(rf_auc), color='orange')\n",
    "plt.title('ROC curve')\n",
    "# axis labels\n",
    "plt.xlabel('False Positive Rate')\n",
    "plt.ylabel('True Positive Rate')\n",
    "# show the legend\n",
    "plt.legend()\n",
    "# show the plot\n",
    "plt.show()\n",
    "\n",
    "cf_matrix = confusion_matrix(y_test, y_pred)\n",
    "plt.figure(figsize=(3, 3))\n",
    "sns.heatmap(cf_matrix, annot=True, fmt=',.0f')\n",
    "plt.show()\n",
    "plt.figure(figsize=(3, 3))\n",
    "sns.heatmap(cf_matrix/np.sum(cf_matrix), annot=True, \n",
    "            fmt='.2%', cmap='Blues')\n",
    "plt.show()"
   ]
  },
  {
   "cell_type": "code",
   "execution_count": null,
   "metadata": {},
   "outputs": [],
   "source": []
  }
 ],
 "metadata": {
  "kernelspec": {
   "display_name": "TF2.4",
   "language": "python",
   "name": "tf2.4"
  },
  "language_info": {
   "codemirror_mode": {
    "name": "ipython",
    "version": 3
   },
   "file_extension": ".py",
   "mimetype": "text/x-python",
   "name": "python",
   "nbconvert_exporter": "python",
   "pygments_lexer": "ipython3",
   "version": "3.7.0"
  }
 },
 "nbformat": 4,
 "nbformat_minor": 4
}
