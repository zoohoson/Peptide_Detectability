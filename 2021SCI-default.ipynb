{
 "cells": [
  {
   "cell_type": "code",
   "execution_count": 1,
   "metadata": {
    "ExecuteTime": {
     "end_time": "2021-08-30T23:24:17.991816Z",
     "start_time": "2021-08-30T23:24:17.226399Z"
    }
   },
   "outputs": [],
   "source": [
    "import pandas as pd\n",
    "import numpy as np\n",
    "import matplotlib.pyplot as plt\n",
    "import seaborn as sns\n",
    "from sklearn.metrics import classification_report\n",
    "from sklearn.metrics import confusion_matrix\n",
    "from sklearn.metrics import roc_curve\n",
    "from sklearn.metrics import roc_auc_score\n",
    "from sklearn.model_selection import train_test_split"
   ]
  },
  {
   "cell_type": "code",
   "execution_count": 2,
   "metadata": {
    "ExecuteTime": {
     "end_time": "2021-08-30T23:24:19.725116Z",
     "start_time": "2021-08-30T23:24:19.714025Z"
    }
   },
   "outputs": [
    {
     "name": "stdout",
     "output_type": "stream",
     "text": [
      "(19, 21)\n"
     ]
    }
   ],
   "source": [
    "df_aaindex = pd.read_csv('data/aaindex/df_aaindex19.csv')\n",
    "print(df_aaindex.shape)\n",
    "df_aaindex.head(1)\n",
    "tmp = df_aaindex.drop('Unnamed: 0',axis=1).T\n",
    "aa2val = dict()\n",
    "for aa, val in zip(tmp.index, tmp.values):\n",
    "    aa2val[aa]=val"
   ]
  },
  {
   "cell_type": "code",
   "execution_count": 3,
   "metadata": {
    "ExecuteTime": {
     "end_time": "2021-08-30T23:24:22.503235Z",
     "start_time": "2021-08-30T23:24:21.561948Z"
    }
   },
   "outputs": [],
   "source": [
    "df_detect_peptide_train = pd.read_csv('data/df_detect_peptide_train.csv')\n",
    "test = pd.read_csv('data/df_detect_peptide_test.csv')\n",
    "train, val = train_test_split(df_detect_peptide_train, test_size=0.2, random_state=7)"
   ]
  },
  {
   "cell_type": "code",
   "execution_count": 31,
   "metadata": {
    "ExecuteTime": {
     "end_time": "2021-08-31T01:48:38.075785Z",
     "start_time": "2021-08-31T01:48:38.063856Z"
    }
   },
   "outputs": [
    {
     "data": {
      "text/html": [
       "<div>\n",
       "<style scoped>\n",
       "    .dataframe tbody tr th:only-of-type {\n",
       "        vertical-align: middle;\n",
       "    }\n",
       "\n",
       "    .dataframe tbody tr th {\n",
       "        vertical-align: top;\n",
       "    }\n",
       "\n",
       "    .dataframe thead th {\n",
       "        text-align: right;\n",
       "    }\n",
       "</style>\n",
       "<table border=\"1\" class=\"dataframe\">\n",
       "  <thead>\n",
       "    <tr style=\"text-align: right;\">\n",
       "      <th></th>\n",
       "      <th>peptide</th>\n",
       "      <th>En</th>\n",
       "      <th>Ec</th>\n",
       "      <th>E1</th>\n",
       "      <th>E2</th>\n",
       "      <th>protein</th>\n",
       "      <th>PEP</th>\n",
       "      <th>ID</th>\n",
       "    </tr>\n",
       "  </thead>\n",
       "  <tbody>\n",
       "    <tr>\n",
       "      <th>210101</th>\n",
       "      <td>R.MDKVHSEAER.L</td>\n",
       "      <td>QQKVLQQRMDKVHSE</td>\n",
       "      <td>KVHSEAERLEARFQD</td>\n",
       "      <td>VLQQRMDKVHSEAER</td>\n",
       "      <td>-</td>\n",
       "      <td>sp|Q96M63|CC114_HUMAN</td>\n",
       "      <td>MDKVHSEAER</td>\n",
       "      <td>0</td>\n",
       "    </tr>\n",
       "  </tbody>\n",
       "</table>\n",
       "</div>"
      ],
      "text/plain": [
       "               peptide               En               Ec               E1 E2  \\\n",
       "210101  R.MDKVHSEAER.L  QQKVLQQRMDKVHSE  KVHSEAERLEARFQD  VLQQRMDKVHSEAER  -   \n",
       "\n",
       "                      protein         PEP  ID  \n",
       "210101  sp|Q96M63|CC114_HUMAN  MDKVHSEAER   0  "
      ]
     },
     "execution_count": 31,
     "metadata": {},
     "output_type": "execute_result"
    }
   ],
   "source": [
    "train.head(1)"
   ]
  },
  {
   "cell_type": "code",
   "execution_count": 51,
   "metadata": {
    "ExecuteTime": {
     "end_time": "2021-08-31T01:52:39.484809Z",
     "start_time": "2021-08-31T01:52:39.477781Z"
    }
   },
   "outputs": [],
   "source": [
    "def get_data(df):\n",
    "    aa_data = [np.array([seq.count(a) for a in 'ARNDCQEGHILKMFPSTWYVZ'] + list(np.array([aa2val[aa] for aa in seq]).sum(axis=0)))\n",
    "               for seq in df.PEP.values]\n",
    "    pep_data = [[[1 if aa == a else 0 for a in 'ARNDCQEGHILKMFPSTWYVZ'] for aa in seq] + [[0]*21]*(30-len(seq))\n",
    "               for seq in df.PEP.values]\n",
    "    en_data = [[[1 if aa == a else 0 for a in 'ARNDCQEGHILKMFPSTWYVZ'] for aa in seq]\n",
    "               for seq in df.En.values]\n",
    "    ec_data = [[[1 if aa == a else 0 for a in 'ARNDCQEGHILKMFPSTWYVZ'] for aa in seq]\n",
    "               for seq in df.Ec.values]\n",
    "    e1_data = [[[1 if aa == a else 0 for a in 'ARNDCQEGHILKMFPSTWYVZ'] for aa in seq]\n",
    "               if seq != '-' else [[0]*21 for _ in range(15)]\n",
    "               for seq in df.E1.values]\n",
    "    e2_data = [[[1 if aa == a else 0 for a in 'ARNDCQEGHILKMFPSTWYVZ'] for aa in seq]\n",
    "               if seq != '-' else [[0]*21 for _ in range(15)]\n",
    "               for seq in df.E2.values]\n",
    "    return np.array(aa_data), np.array(pep_data), np.array(en_data), np.array(ec_data), np.array(e1_data), np.array(e2_data), np.array(df.ID.values)"
   ]
  },
  {
   "cell_type": "code",
   "execution_count": 54,
   "metadata": {
    "ExecuteTime": {
     "end_time": "2021-08-31T01:55:22.840935Z",
     "start_time": "2021-08-31T01:53:07.847499Z"
    }
   },
   "outputs": [],
   "source": [
    "aa_train, pep_train, en_train, ec_train, e1_train, e2_train, y_train = get_data(train)\n",
    "\n",
    "aa_val, pep_val, en_val, ec_val, e1_val, e2_val, y_val = get_data(val)\n",
    "\n",
    "aa_test, pep_test, en_test, ec_test, e1_test, e2_test, y_test = get_data(test)"
   ]
  },
  {
   "cell_type": "code",
   "execution_count": 55,
   "metadata": {
    "ExecuteTime": {
     "end_time": "2021-08-31T01:55:22.846886Z",
     "start_time": "2021-08-31T01:55:22.842363Z"
    }
   },
   "outputs": [
    {
     "name": "stdout",
     "output_type": "stream",
     "text": [
      "(215352, 40) (215352, 30, 21) (215352, 15, 21) (215352, 15, 21) (215352, 15, 21) (215352, 15, 21) (215352,)\n",
      "(53838, 40) (53838, 30, 21) (53838, 15, 21) (53838, 15, 21) (53838, 15, 21) (53838, 15, 21) (53838,)\n",
      "(67298, 40) (67298, 30, 21) (67298, 15, 21) (67298, 15, 21) (67298, 15, 21) (67298, 15, 21) (67298,)\n"
     ]
    }
   ],
   "source": [
    "print(aa_train.shape, pep_train.shape, en_train.shape, ec_train.shape, e1_train.shape, e2_train.shape, y_train.shape)\n",
    "\n",
    "print(aa_val.shape, pep_val.shape, en_val.shape, ec_val.shape, e1_val.shape, e2_val.shape, y_val.shape)\n",
    "\n",
    "print(aa_test.shape, pep_test.shape, en_test.shape, ec_test.shape, e1_test.shape, e2_test.shape, y_test.shape)"
   ]
  },
  {
   "cell_type": "markdown",
   "metadata": {},
   "source": [
    "# Train"
   ]
  },
  {
   "cell_type": "code",
   "execution_count": 8,
   "metadata": {
    "ExecuteTime": {
     "end_time": "2021-08-30T23:25:31.598802Z",
     "start_time": "2021-08-30T23:25:30.566297Z"
    }
   },
   "outputs": [],
   "source": [
    "from tensorflow.python.client import device_lib\n",
    "\n",
    "import tensorflow as tf\n",
    "gpus = tf.config.experimental.list_physical_devices('GPU')\n",
    "if gpus:\n",
    "    try:\n",
    "        tf.config.experimental.set_virtual_device_configuration(gpus[0],\n",
    "        [tf.config.experimental.VirtualDeviceConfiguration(memory_limit=1024*8)])\n",
    "    except RuntimeError as e:\n",
    "        print(e)"
   ]
  },
  {
   "cell_type": "code",
   "execution_count": 9,
   "metadata": {
    "ExecuteTime": {
     "end_time": "2021-08-30T23:25:31.602875Z",
     "start_time": "2021-08-30T23:25:31.600238Z"
    }
   },
   "outputs": [],
   "source": [
    "def plot_graphs(history, metric):\n",
    "    plt.plot(history.history[metric])\n",
    "    plt.plot(history.history['val_'+metric], '')\n",
    "    plt.xlabel(\"Epochs\")\n",
    "    plt.ylabel(metric)\n",
    "    plt.legend([metric, 'val_'+metric])"
   ]
  },
  {
   "cell_type": "code",
   "execution_count": 69,
   "metadata": {
    "ExecuteTime": {
     "end_time": "2021-09-02T04:13:00.610308Z",
     "start_time": "2021-09-02T04:12:58.612366Z"
    }
   },
   "outputs": [
    {
     "name": "stdout",
     "output_type": "stream",
     "text": [
      "Model: \"model_7\"\n",
      "__________________________________________________________________________________________________\n",
      "Layer (type)                    Output Shape         Param #     Connected to                     \n",
      "==================================================================================================\n",
      "input_43 (InputLayer)           [(None, 30, 21)]     0                                            \n",
      "__________________________________________________________________________________________________\n",
      "input_45 (InputLayer)           [(None, 15, 21)]     0                                            \n",
      "__________________________________________________________________________________________________\n",
      "input_46 (InputLayer)           [(None, 15, 21)]     0                                            \n",
      "__________________________________________________________________________________________________\n",
      "input_47 (InputLayer)           [(None, 15, 21)]     0                                            \n",
      "__________________________________________________________________________________________________\n",
      "input_48 (InputLayer)           [(None, 15, 21)]     0                                            \n",
      "__________________________________________________________________________________________________\n",
      "bidirectional_35 (Bidirectional (None, 32)           4864        input_43[0][0]                   \n",
      "__________________________________________________________________________________________________\n",
      "input_44 (InputLayer)           [(None, 40)]         0                                            \n",
      "__________________________________________________________________________________________________\n",
      "bidirectional_36 (Bidirectional (None, 32)           4864        input_45[0][0]                   \n",
      "__________________________________________________________________________________________________\n",
      "bidirectional_37 (Bidirectional (None, 32)           4864        input_46[0][0]                   \n",
      "__________________________________________________________________________________________________\n",
      "bidirectional_38 (Bidirectional (None, 32)           4864        input_47[0][0]                   \n",
      "__________________________________________________________________________________________________\n",
      "bidirectional_39 (Bidirectional (None, 32)           4864        input_48[0][0]                   \n",
      "__________________________________________________________________________________________________\n",
      "dense_72 (Dense)                (None, 16)           528         bidirectional_35[0][0]           \n",
      "__________________________________________________________________________________________________\n",
      "dense_73 (Dense)                (None, 32)           1312        input_44[0][0]                   \n",
      "__________________________________________________________________________________________________\n",
      "dense_74 (Dense)                (None, 16)           528         bidirectional_36[0][0]           \n",
      "__________________________________________________________________________________________________\n",
      "dense_75 (Dense)                (None, 16)           528         bidirectional_37[0][0]           \n",
      "__________________________________________________________________________________________________\n",
      "dense_76 (Dense)                (None, 16)           528         bidirectional_38[0][0]           \n",
      "__________________________________________________________________________________________________\n",
      "dense_77 (Dense)                (None, 16)           528         bidirectional_39[0][0]           \n",
      "__________________________________________________________________________________________________\n",
      "concatenate_7 (Concatenate)     (None, 112)          0           dense_72[0][0]                   \n",
      "                                                                 dense_73[0][0]                   \n",
      "                                                                 dense_74[0][0]                   \n",
      "                                                                 dense_75[0][0]                   \n",
      "                                                                 dense_76[0][0]                   \n",
      "                                                                 dense_77[0][0]                   \n",
      "__________________________________________________________________________________________________\n",
      "dense_78 (Dense)                (None, 128)          14464       concatenate_7[0][0]              \n",
      "__________________________________________________________________________________________________\n",
      "dropout_2 (Dropout)             (None, 128)          0           dense_78[0][0]                   \n",
      "__________________________________________________________________________________________________\n",
      "dense_79 (Dense)                (None, 64)           8256        dropout_2[0][0]                  \n",
      "__________________________________________________________________________________________________\n",
      "dense_80 (Dense)                (None, 1)            65          dense_79[0][0]                   \n",
      "==================================================================================================\n",
      "Total params: 51,057\n",
      "Trainable params: 51,057\n",
      "Non-trainable params: 0\n",
      "__________________________________________________________________________________________________\n"
     ]
    }
   ],
   "source": [
    "input1 = tf.keras.layers.Input(shape=((30,21,)))  # peptide with zero padding\n",
    "input2 = tf.keras.layers.Input(shape=((40,)))  # peptide info\n",
    "input3 = tf.keras.layers.Input(shape=((15,21,)))  # N term info\n",
    "input4 = tf.keras.layers.Input(shape=((15,21,)))  # C term info\n",
    "input5 = tf.keras.layers.Input(shape=((15,21,)))  # miss1 term info\n",
    "input6 = tf.keras.layers.Input(shape=((15,21,)))  # miss2 term info\n",
    "\n",
    "\n",
    "lstm1 = tf.keras.layers.Bidirectional(tf.keras.layers.LSTM(16))(input1)\n",
    "net_lstm = tf.keras.layers.Dense(16, activation='relu')(lstm1)\n",
    "\n",
    "net_dense1 = tf.keras.layers.Dense(32, activation='relu')(input2)\n",
    "\n",
    "digest_n = tf.keras.layers.Bidirectional(tf.keras.layers.LSTM(16))(input3)\n",
    "net_n = tf.keras.layers.Dense(16, activation='relu')(digest_n)\n",
    "digest_c = tf.keras.layers.Bidirectional(tf.keras.layers.LSTM(16))(input4)\n",
    "net_c = tf.keras.layers.Dense(16, activation='relu')(digest_c)\n",
    "digest_m1 = tf.keras.layers.Bidirectional(tf.keras.layers.LSTM(16))(input5)\n",
    "net_m1 = tf.keras.layers.Dense(16, activation='relu')(digest_m1)\n",
    "digest_m2 = tf.keras.layers.Bidirectional(tf.keras.layers.LSTM(16))(input6)\n",
    "net_m2 = tf.keras.layers.Dense(16, activation='relu')(digest_m2)\n",
    "\n",
    "merge = tf.keras.layers.concatenate([net_lstm, \n",
    "                                     net_dense1,\n",
    "                                    net_n,\n",
    "                                    net_c,\n",
    "                                    net_m1,\n",
    "                                    net_m2])\n",
    "\n",
    "net1 = tf.keras.layers.Dense(128, activation='relu')(merge)\n",
    "net1_drop = tf.keras.layers.Dropout(0.3)(net1)\n",
    "# net2 = tf.keras.layers.Dense(64, activation='relu')(net1)\n",
    "net3 = tf.keras.layers.Dense(64, activation='relu')(net1_drop)  # 256도해보자.\n",
    "\n",
    "output = tf.keras.layers.Dense(1, activation = 'sigmoid')(net3)\n",
    "\n",
    "model_high = tf.keras.Model(inputs=[input1, input2,\n",
    "                              input3, input4,\n",
    "                              input5, input6],\n",
    "                       outputs=[output])\n",
    "\n",
    "model_high.summary()\n",
    "\n",
    "model_high.compile(loss=tf.keras.losses.BinaryCrossentropy(from_logits=True),\n",
    "              optimizer=tf.keras.optimizers.Adam(1e-4),\n",
    "              metrics=['accuracy'])\n",
    "\n",
    "es = tf.keras.callbacks.EarlyStopping(monitor='val_loss',\n",
    "                                      mode='min', \n",
    "                                      verbose=1,\n",
    "                                      patience=20)"
   ]
  },
  {
   "cell_type": "code",
   "execution_count": 70,
   "metadata": {
    "ExecuteTime": {
     "end_time": "2021-09-02T08:22:49.762470Z",
     "start_time": "2021-09-02T04:13:08.575460Z"
    },
    "scrolled": true
   },
   "outputs": [
    {
     "name": "stdout",
     "output_type": "stream",
     "text": [
      "Epoch 1/250\n",
      "6730/6730 [==============================] - 126s 17ms/step - loss: 2.3212 - accuracy: 0.6103 - val_loss: 0.4943 - val_accuracy: 0.7609\n",
      "Epoch 2/250\n",
      "6730/6730 [==============================] - 111s 17ms/step - loss: 0.5053 - accuracy: 0.7566 - val_loss: 0.4601 - val_accuracy: 0.7816\n",
      "Epoch 3/250\n",
      "6730/6730 [==============================] - 112s 17ms/step - loss: 0.4694 - accuracy: 0.7777 - val_loss: 0.4450 - val_accuracy: 0.7909\n",
      "Epoch 4/250\n",
      "6730/6730 [==============================] - 112s 17ms/step - loss: 0.4521 - accuracy: 0.7880 - val_loss: 0.4381 - val_accuracy: 0.7961\n",
      "Epoch 5/250\n",
      "6730/6730 [==============================] - 111s 17ms/step - loss: 0.4398 - accuracy: 0.7958 - val_loss: 0.4302 - val_accuracy: 0.8013\n",
      "Epoch 6/250\n",
      "6730/6730 [==============================] - 112s 17ms/step - loss: 0.4316 - accuracy: 0.8000 - val_loss: 0.4310 - val_accuracy: 0.8007\n",
      "Epoch 7/250\n",
      "6730/6730 [==============================] - 114s 17ms/step - loss: 0.4239 - accuracy: 0.8041 - val_loss: 0.4243 - val_accuracy: 0.8086\n",
      "Epoch 8/250\n",
      "6730/6730 [==============================] - 113s 17ms/step - loss: 0.4212 - accuracy: 0.8073 - val_loss: 0.4253 - val_accuracy: 0.8078\n",
      "Epoch 9/250\n",
      "6730/6730 [==============================] - 112s 17ms/step - loss: 0.4146 - accuracy: 0.8091 - val_loss: 0.4210 - val_accuracy: 0.8101\n",
      "Epoch 10/250\n",
      "6730/6730 [==============================] - 112s 17ms/step - loss: 0.4100 - accuracy: 0.8129 - val_loss: 0.4223 - val_accuracy: 0.8133\n",
      "Epoch 11/250\n",
      "6730/6730 [==============================] - 113s 17ms/step - loss: 0.4079 - accuracy: 0.8153 - val_loss: 0.4240 - val_accuracy: 0.8065\n",
      "Epoch 12/250\n",
      "6730/6730 [==============================] - 111s 16ms/step - loss: 0.4081 - accuracy: 0.8138 - val_loss: 0.4168 - val_accuracy: 0.8142\n",
      "Epoch 13/250\n",
      "6730/6730 [==============================] - 112s 17ms/step - loss: 0.4050 - accuracy: 0.8169 - val_loss: 0.4162 - val_accuracy: 0.8168\n",
      "Epoch 14/250\n",
      "6730/6730 [==============================] - 111s 17ms/step - loss: 0.4026 - accuracy: 0.8162 - val_loss: 0.4140 - val_accuracy: 0.8144\n",
      "Epoch 15/250\n",
      "6730/6730 [==============================] - 111s 17ms/step - loss: 0.3987 - accuracy: 0.8198 - val_loss: 0.4104 - val_accuracy: 0.8162\n",
      "Epoch 16/250\n",
      "6730/6730 [==============================] - 112s 17ms/step - loss: 0.3974 - accuracy: 0.8205 - val_loss: 0.4036 - val_accuracy: 0.8218\n",
      "Epoch 17/250\n",
      "6730/6730 [==============================] - 113s 17ms/step - loss: 0.3984 - accuracy: 0.8181 - val_loss: 0.4114 - val_accuracy: 0.8208\n",
      "Epoch 18/250\n",
      "6730/6730 [==============================] - 113s 17ms/step - loss: 0.3952 - accuracy: 0.8208 - val_loss: 0.4011 - val_accuracy: 0.8221\n",
      "Epoch 19/250\n",
      "6730/6730 [==============================] - 112s 17ms/step - loss: 0.3938 - accuracy: 0.8228 - val_loss: 0.4075 - val_accuracy: 0.8214\n",
      "Epoch 20/250\n",
      "6730/6730 [==============================] - 112s 17ms/step - loss: 0.3918 - accuracy: 0.8233 - val_loss: 0.4156 - val_accuracy: 0.8151\n",
      "Epoch 21/250\n",
      "6730/6730 [==============================] - 112s 17ms/step - loss: 0.3902 - accuracy: 0.8231 - val_loss: 0.4093 - val_accuracy: 0.8229\n",
      "Epoch 22/250\n",
      "6730/6730 [==============================] - 113s 17ms/step - loss: 0.3888 - accuracy: 0.8243 - val_loss: 0.4055 - val_accuracy: 0.8246\n",
      "Epoch 23/250\n",
      "6730/6730 [==============================] - 112s 17ms/step - loss: 0.3883 - accuracy: 0.8245 - val_loss: 0.4036 - val_accuracy: 0.8250\n",
      "Epoch 24/250\n",
      "6730/6730 [==============================] - 112s 17ms/step - loss: 0.3884 - accuracy: 0.8260 - val_loss: 0.4051 - val_accuracy: 0.8236\n",
      "Epoch 25/250\n",
      "6730/6730 [==============================] - 113s 17ms/step - loss: 0.3835 - accuracy: 0.8278 - val_loss: 0.3989 - val_accuracy: 0.8250\n",
      "Epoch 26/250\n",
      "6730/6730 [==============================] - 113s 17ms/step - loss: 0.3856 - accuracy: 0.8259 - val_loss: 0.4001 - val_accuracy: 0.8260\n",
      "Epoch 27/250\n",
      "6730/6730 [==============================] - 112s 17ms/step - loss: 0.3829 - accuracy: 0.8276 - val_loss: 0.4111 - val_accuracy: 0.8249\n",
      "Epoch 28/250\n",
      "6730/6730 [==============================] - 112s 17ms/step - loss: 0.3836 - accuracy: 0.8283 - val_loss: 0.3948 - val_accuracy: 0.8277\n",
      "Epoch 29/250\n",
      "6730/6730 [==============================] - 112s 17ms/step - loss: 0.3828 - accuracy: 0.8278 - val_loss: 0.4002 - val_accuracy: 0.8275\n",
      "Epoch 30/250\n",
      "6730/6730 [==============================] - 112s 17ms/step - loss: 0.3820 - accuracy: 0.8290 - val_loss: 0.3997 - val_accuracy: 0.8268\n",
      "Epoch 31/250\n",
      "6730/6730 [==============================] - 111s 17ms/step - loss: 0.3800 - accuracy: 0.8300 - val_loss: 0.3974 - val_accuracy: 0.8261\n",
      "Epoch 32/250\n",
      "6730/6730 [==============================] - 112s 17ms/step - loss: 0.3791 - accuracy: 0.8302 - val_loss: 0.3928 - val_accuracy: 0.8281\n",
      "Epoch 33/250\n",
      "6730/6730 [==============================] - 112s 17ms/step - loss: 0.3797 - accuracy: 0.8304 - val_loss: 0.3970 - val_accuracy: 0.8293\n",
      "Epoch 34/250\n",
      "6730/6730 [==============================] - 112s 17ms/step - loss: 0.3776 - accuracy: 0.8310 - val_loss: 0.3947 - val_accuracy: 0.8278\n",
      "Epoch 35/250\n",
      "6730/6730 [==============================] - 113s 17ms/step - loss: 0.3746 - accuracy: 0.8324 - val_loss: 0.3905 - val_accuracy: 0.8285\n",
      "Epoch 36/250\n",
      "6730/6730 [==============================] - 113s 17ms/step - loss: 0.3759 - accuracy: 0.8315 - val_loss: 0.3998 - val_accuracy: 0.8282\n",
      "Epoch 37/250\n",
      "6730/6730 [==============================] - 113s 17ms/step - loss: 0.3763 - accuracy: 0.8324 - val_loss: 0.3907 - val_accuracy: 0.8293\n",
      "Epoch 38/250\n",
      "6730/6730 [==============================] - 112s 17ms/step - loss: 0.3736 - accuracy: 0.8325 - val_loss: 0.3972 - val_accuracy: 0.8295\n",
      "Epoch 39/250\n",
      "6730/6730 [==============================] - 113s 17ms/step - loss: 0.3730 - accuracy: 0.8336 - val_loss: 0.3967 - val_accuracy: 0.8255\n",
      "Epoch 40/250\n",
      "6730/6730 [==============================] - 113s 17ms/step - loss: 0.3730 - accuracy: 0.8343 - val_loss: 0.3947 - val_accuracy: 0.8289\n",
      "Epoch 41/250\n",
      "6730/6730 [==============================] - 113s 17ms/step - loss: 0.3729 - accuracy: 0.8345 - val_loss: 0.3921 - val_accuracy: 0.8309\n",
      "Epoch 42/250\n",
      "6730/6730 [==============================] - 113s 17ms/step - loss: 0.3719 - accuracy: 0.8346 - val_loss: 0.3943 - val_accuracy: 0.8312\n",
      "Epoch 43/250\n",
      "6730/6730 [==============================] - 113s 17ms/step - loss: 0.3714 - accuracy: 0.8349 - val_loss: 0.3897 - val_accuracy: 0.8310\n",
      "Epoch 44/250\n",
      "6730/6730 [==============================] - 112s 17ms/step - loss: 0.3720 - accuracy: 0.8345 - val_loss: 0.3916 - val_accuracy: 0.8312\n",
      "Epoch 45/250\n",
      "6730/6730 [==============================] - 114s 17ms/step - loss: 0.3710 - accuracy: 0.8350 - val_loss: 0.3935 - val_accuracy: 0.8309\n",
      "Epoch 46/250\n",
      "6730/6730 [==============================] - 113s 17ms/step - loss: 0.3690 - accuracy: 0.8360 - val_loss: 0.3975 - val_accuracy: 0.8317\n",
      "Epoch 47/250\n",
      "6730/6730 [==============================] - 114s 17ms/step - loss: 0.3696 - accuracy: 0.8362 - val_loss: 0.3873 - val_accuracy: 0.8282\n",
      "Epoch 48/250\n",
      "6730/6730 [==============================] - 112s 17ms/step - loss: 0.3676 - accuracy: 0.8365 - val_loss: 0.3925 - val_accuracy: 0.8318\n",
      "Epoch 49/250\n",
      "6730/6730 [==============================] - 112s 17ms/step - loss: 0.3687 - accuracy: 0.8370 - val_loss: 0.3924 - val_accuracy: 0.8309\n",
      "Epoch 50/250\n",
      "6730/6730 [==============================] - 112s 17ms/step - loss: 0.3699 - accuracy: 0.8355 - val_loss: 0.3878 - val_accuracy: 0.8326\n",
      "Epoch 51/250\n",
      "6730/6730 [==============================] - 113s 17ms/step - loss: 0.3714 - accuracy: 0.8360 - val_loss: 0.3957 - val_accuracy: 0.8311\n",
      "Epoch 52/250\n",
      "6730/6730 [==============================] - 112s 17ms/step - loss: 0.3680 - accuracy: 0.8366 - val_loss: 0.3838 - val_accuracy: 0.8325\n",
      "Epoch 53/250\n",
      "6730/6730 [==============================] - 112s 17ms/step - loss: 0.3652 - accuracy: 0.8390 - val_loss: 0.3895 - val_accuracy: 0.8309\n",
      "Epoch 54/250\n",
      "6730/6730 [==============================] - 112s 17ms/step - loss: 0.3692 - accuracy: 0.8355 - val_loss: 0.3887 - val_accuracy: 0.8321\n",
      "Epoch 55/250\n",
      "6730/6730 [==============================] - 112s 17ms/step - loss: 0.3666 - accuracy: 0.8371 - val_loss: 0.3906 - val_accuracy: 0.8306\n",
      "Epoch 56/250\n"
     ]
    },
    {
     "name": "stdout",
     "output_type": "stream",
     "text": [
      "6730/6730 [==============================] - 113s 17ms/step - loss: 0.3649 - accuracy: 0.8392 - val_loss: 0.3903 - val_accuracy: 0.8307\n",
      "Epoch 57/250\n",
      "6730/6730 [==============================] - 112s 17ms/step - loss: 0.3653 - accuracy: 0.8386 - val_loss: 0.3920 - val_accuracy: 0.8311\n",
      "Epoch 58/250\n",
      "6730/6730 [==============================] - 109s 16ms/step - loss: 0.3663 - accuracy: 0.8391 - val_loss: 0.3911 - val_accuracy: 0.8299\n",
      "Epoch 59/250\n",
      "6730/6730 [==============================] - 113s 17ms/step - loss: 0.3653 - accuracy: 0.8389 - val_loss: 0.3835 - val_accuracy: 0.8322\n",
      "Epoch 60/250\n",
      "6730/6730 [==============================] - 113s 17ms/step - loss: 0.3649 - accuracy: 0.8383 - val_loss: 0.3850 - val_accuracy: 0.8323\n",
      "Epoch 61/250\n",
      "6730/6730 [==============================] - 113s 17ms/step - loss: 0.3632 - accuracy: 0.8385 - val_loss: 0.3818 - val_accuracy: 0.8319\n",
      "Epoch 62/250\n",
      "6730/6730 [==============================] - 112s 17ms/step - loss: 0.3649 - accuracy: 0.8375 - val_loss: 0.3865 - val_accuracy: 0.8334\n",
      "Epoch 63/250\n",
      "6730/6730 [==============================] - 112s 17ms/step - loss: 0.3636 - accuracy: 0.8396 - val_loss: 0.3879 - val_accuracy: 0.8323\n",
      "Epoch 64/250\n",
      "6730/6730 [==============================] - 113s 17ms/step - loss: 0.3625 - accuracy: 0.8408 - val_loss: 0.3889 - val_accuracy: 0.8310\n",
      "Epoch 65/250\n",
      "6730/6730 [==============================] - 110s 16ms/step - loss: 0.3644 - accuracy: 0.8398 - val_loss: 0.3814 - val_accuracy: 0.8319\n",
      "Epoch 66/250\n",
      "6730/6730 [==============================] - 111s 17ms/step - loss: 0.3636 - accuracy: 0.8389 - val_loss: 0.3870 - val_accuracy: 0.8309\n",
      "Epoch 67/250\n",
      "6730/6730 [==============================] - 112s 17ms/step - loss: 0.3620 - accuracy: 0.8400 - val_loss: 0.3885 - val_accuracy: 0.8291\n",
      "Epoch 68/250\n",
      "6730/6730 [==============================] - 113s 17ms/step - loss: 0.3626 - accuracy: 0.8396 - val_loss: 0.3878 - val_accuracy: 0.8339\n",
      "Epoch 69/250\n",
      "6730/6730 [==============================] - 112s 17ms/step - loss: 0.3608 - accuracy: 0.8404 - val_loss: 0.3847 - val_accuracy: 0.8327\n",
      "Epoch 70/250\n",
      "6730/6730 [==============================] - 113s 17ms/step - loss: 0.3592 - accuracy: 0.8409 - val_loss: 0.3829 - val_accuracy: 0.8328\n",
      "Epoch 71/250\n",
      "6730/6730 [==============================] - 114s 17ms/step - loss: 0.3600 - accuracy: 0.8414 - val_loss: 0.3875 - val_accuracy: 0.8332\n",
      "Epoch 72/250\n",
      "6730/6730 [==============================] - 112s 17ms/step - loss: 0.3601 - accuracy: 0.8410 - val_loss: 0.3856 - val_accuracy: 0.8334\n",
      "Epoch 73/250\n",
      "6730/6730 [==============================] - 113s 17ms/step - loss: 0.3595 - accuracy: 0.8413 - val_loss: 0.3809 - val_accuracy: 0.8345\n",
      "Epoch 74/250\n",
      "6730/6730 [==============================] - 112s 17ms/step - loss: 0.3587 - accuracy: 0.8417 - val_loss: 0.3899 - val_accuracy: 0.8319\n",
      "Epoch 75/250\n",
      "6730/6730 [==============================] - 113s 17ms/step - loss: 0.3584 - accuracy: 0.8418 - val_loss: 0.3832 - val_accuracy: 0.8330\n",
      "Epoch 76/250\n",
      "6730/6730 [==============================] - 112s 17ms/step - loss: 0.3577 - accuracy: 0.8417 - val_loss: 0.3881 - val_accuracy: 0.8325\n",
      "Epoch 77/250\n",
      "6730/6730 [==============================] - 113s 17ms/step - loss: 0.3599 - accuracy: 0.8421 - val_loss: 0.3831 - val_accuracy: 0.8340\n",
      "Epoch 78/250\n",
      "6730/6730 [==============================] - 112s 17ms/step - loss: 0.3579 - accuracy: 0.8420 - val_loss: 0.3863 - val_accuracy: 0.8336\n",
      "Epoch 79/250\n",
      "6730/6730 [==============================] - 112s 17ms/step - loss: 0.3558 - accuracy: 0.8424 - val_loss: 0.3930 - val_accuracy: 0.8288\n",
      "Epoch 80/250\n",
      "6730/6730 [==============================] - 113s 17ms/step - loss: 0.3568 - accuracy: 0.8426 - val_loss: 0.3901 - val_accuracy: 0.8317\n",
      "Epoch 81/250\n",
      "6730/6730 [==============================] - 112s 17ms/step - loss: 0.3571 - accuracy: 0.8432 - val_loss: 0.3847 - val_accuracy: 0.8337\n",
      "Epoch 82/250\n",
      "6730/6730 [==============================] - 112s 17ms/step - loss: 0.3546 - accuracy: 0.8437 - val_loss: 0.3911 - val_accuracy: 0.8333\n",
      "Epoch 83/250\n",
      "6730/6730 [==============================] - 112s 17ms/step - loss: 0.3571 - accuracy: 0.8427 - val_loss: 0.3798 - val_accuracy: 0.8333\n",
      "Epoch 84/250\n",
      "6730/6730 [==============================] - 115s 17ms/step - loss: 0.3555 - accuracy: 0.8438 - val_loss: 0.3909 - val_accuracy: 0.8328\n",
      "Epoch 85/250\n",
      "6730/6730 [==============================] - 111s 16ms/step - loss: 0.3552 - accuracy: 0.8432 - val_loss: 0.3854 - val_accuracy: 0.8307\n",
      "Epoch 86/250\n",
      "6730/6730 [==============================] - 113s 17ms/step - loss: 0.3536 - accuracy: 0.8445 - val_loss: 0.3838 - val_accuracy: 0.8339\n",
      "Epoch 87/250\n",
      "6730/6730 [==============================] - 112s 17ms/step - loss: 0.3558 - accuracy: 0.8421 - val_loss: 0.3849 - val_accuracy: 0.8326\n",
      "Epoch 88/250\n",
      "6730/6730 [==============================] - 112s 17ms/step - loss: 0.3531 - accuracy: 0.8443 - val_loss: 0.3880 - val_accuracy: 0.8333\n",
      "Epoch 89/250\n",
      "6730/6730 [==============================] - 111s 17ms/step - loss: 0.3564 - accuracy: 0.8433 - val_loss: 0.3798 - val_accuracy: 0.8345\n",
      "Epoch 90/250\n",
      "6730/6730 [==============================] - 108s 16ms/step - loss: 0.3544 - accuracy: 0.8440 - val_loss: 0.3914 - val_accuracy: 0.8327\n",
      "Epoch 91/250\n",
      "6730/6730 [==============================] - 110s 16ms/step - loss: 0.3542 - accuracy: 0.8438 - val_loss: 0.3871 - val_accuracy: 0.8333\n",
      "Epoch 92/250\n",
      "6730/6730 [==============================] - 108s 16ms/step - loss: 0.3540 - accuracy: 0.8446 - val_loss: 0.3844 - val_accuracy: 0.8327\n",
      "Epoch 93/250\n",
      "6730/6730 [==============================] - 113s 17ms/step - loss: 0.3517 - accuracy: 0.8459 - val_loss: 0.3841 - val_accuracy: 0.8333\n",
      "Epoch 94/250\n",
      "6730/6730 [==============================] - 130s 19ms/step - loss: 0.3521 - accuracy: 0.8451 - val_loss: 0.3873 - val_accuracy: 0.8341\n",
      "Epoch 95/250\n",
      "6730/6730 [==============================] - 137s 20ms/step - loss: 0.3511 - accuracy: 0.8459 - val_loss: 0.3827 - val_accuracy: 0.8345\n",
      "Epoch 96/250\n",
      "6730/6730 [==============================] - 137s 20ms/step - loss: 0.3531 - accuracy: 0.8448 - val_loss: 0.3853 - val_accuracy: 0.8328\n",
      "Epoch 97/250\n",
      "6730/6730 [==============================] - 137s 20ms/step - loss: 0.3506 - accuracy: 0.8466 - val_loss: 0.3843 - val_accuracy: 0.8330\n",
      "Epoch 98/250\n",
      "6730/6730 [==============================] - 140s 21ms/step - loss: 0.3522 - accuracy: 0.8446 - val_loss: 0.3833 - val_accuracy: 0.8336\n",
      "Epoch 99/250\n",
      "6730/6730 [==============================] - 138s 20ms/step - loss: 0.3524 - accuracy: 0.8455 - val_loss: 0.3845 - val_accuracy: 0.8339\n",
      "Epoch 100/250\n",
      "6730/6730 [==============================] - 136s 20ms/step - loss: 0.3515 - accuracy: 0.8455 - val_loss: 0.3842 - val_accuracy: 0.8330\n",
      "Epoch 101/250\n",
      "6730/6730 [==============================] - 135s 20ms/step - loss: 0.3489 - accuracy: 0.8474 - val_loss: 0.3822 - val_accuracy: 0.8333\n",
      "Epoch 102/250\n",
      "6730/6730 [==============================] - 142s 21ms/step - loss: 0.3519 - accuracy: 0.8457 - val_loss: 0.3831 - val_accuracy: 0.8342\n",
      "Epoch 103/250\n",
      "6730/6730 [==============================] - 137s 20ms/step - loss: 0.3499 - accuracy: 0.8463 - val_loss: 0.3854 - val_accuracy: 0.8325\n",
      "Epoch 104/250\n",
      "6730/6730 [==============================] - 137s 20ms/step - loss: 0.3487 - accuracy: 0.8469 - val_loss: 0.3847 - val_accuracy: 0.8326\n",
      "Epoch 105/250\n",
      "6730/6730 [==============================] - 136s 20ms/step - loss: 0.3516 - accuracy: 0.8453 - val_loss: 0.3810 - val_accuracy: 0.8330\n",
      "Epoch 106/250\n",
      "6730/6730 [==============================] - 135s 20ms/step - loss: 0.3493 - accuracy: 0.8464 - val_loss: 0.3785 - val_accuracy: 0.8339\n",
      "Epoch 107/250\n",
      "6730/6730 [==============================] - 140s 21ms/step - loss: 0.3492 - accuracy: 0.8461 - val_loss: 0.3841 - val_accuracy: 0.8306\n",
      "Epoch 108/250\n",
      "6730/6730 [==============================] - 136s 20ms/step - loss: 0.3500 - accuracy: 0.8467 - val_loss: 0.3912 - val_accuracy: 0.8340\n",
      "Epoch 109/250\n",
      "6730/6730 [==============================] - 137s 20ms/step - loss: 0.3491 - accuracy: 0.8474 - val_loss: 0.3887 - val_accuracy: 0.8307\n",
      "Epoch 110/250\n",
      "6730/6730 [==============================] - 136s 20ms/step - loss: 0.3511 - accuracy: 0.8469 - val_loss: 0.3820 - val_accuracy: 0.8340\n"
     ]
    },
    {
     "name": "stdout",
     "output_type": "stream",
     "text": [
      "Epoch 111/250\n",
      "6730/6730 [==============================] - 141s 21ms/step - loss: 0.3488 - accuracy: 0.8469 - val_loss: 0.3824 - val_accuracy: 0.8332\n",
      "Epoch 112/250\n",
      "6730/6730 [==============================] - 137s 20ms/step - loss: 0.3458 - accuracy: 0.8495 - val_loss: 0.3818 - val_accuracy: 0.8323\n",
      "Epoch 113/250\n",
      "6730/6730 [==============================] - 136s 20ms/step - loss: 0.3477 - accuracy: 0.8472 - val_loss: 0.3829 - val_accuracy: 0.8333\n",
      "Epoch 114/250\n",
      "6730/6730 [==============================] - 137s 20ms/step - loss: 0.3475 - accuracy: 0.8480 - val_loss: 0.3872 - val_accuracy: 0.8306\n",
      "Epoch 115/250\n",
      "6730/6730 [==============================] - 138s 20ms/step - loss: 0.3465 - accuracy: 0.8474 - val_loss: 0.3810 - val_accuracy: 0.8334\n",
      "Epoch 116/250\n",
      "6730/6730 [==============================] - 141s 21ms/step - loss: 0.3470 - accuracy: 0.8483 - val_loss: 0.3875 - val_accuracy: 0.8325\n",
      "Epoch 117/250\n",
      "6730/6730 [==============================] - 136s 20ms/step - loss: 0.3447 - accuracy: 0.8489 - val_loss: 0.3805 - val_accuracy: 0.8339\n",
      "Epoch 118/250\n",
      "6730/6730 [==============================] - 136s 20ms/step - loss: 0.3456 - accuracy: 0.8481 - val_loss: 0.3814 - val_accuracy: 0.8338\n",
      "Epoch 119/250\n",
      "6730/6730 [==============================] - 136s 20ms/step - loss: 0.3450 - accuracy: 0.8494 - val_loss: 0.3846 - val_accuracy: 0.8336\n",
      "Epoch 120/250\n",
      "6730/6730 [==============================] - 142s 21ms/step - loss: 0.3455 - accuracy: 0.8497 - val_loss: 0.3886 - val_accuracy: 0.8331\n",
      "Epoch 121/250\n",
      "6730/6730 [==============================] - 136s 20ms/step - loss: 0.3434 - accuracy: 0.8497 - val_loss: 0.3864 - val_accuracy: 0.8342\n",
      "Epoch 122/250\n",
      "6730/6730 [==============================] - 137s 20ms/step - loss: 0.3427 - accuracy: 0.8508 - val_loss: 0.3883 - val_accuracy: 0.8317\n",
      "Epoch 123/250\n",
      "6730/6730 [==============================] - 136s 20ms/step - loss: 0.3465 - accuracy: 0.8484 - val_loss: 0.3863 - val_accuracy: 0.8321\n",
      "Epoch 124/250\n",
      "6730/6730 [==============================] - 142s 21ms/step - loss: 0.3448 - accuracy: 0.8497 - val_loss: 0.3826 - val_accuracy: 0.8329\n",
      "Epoch 125/250\n",
      "6730/6730 [==============================] - 136s 20ms/step - loss: 0.3458 - accuracy: 0.8484 - val_loss: 0.3876 - val_accuracy: 0.8300\n",
      "Epoch 126/250\n",
      "6730/6730 [==============================] - 137s 20ms/step - loss: 0.3464 - accuracy: 0.8489 - val_loss: 0.3831 - val_accuracy: 0.8302\n",
      "Epoch 00126: early stopping\n"
     ]
    }
   ],
   "source": [
    "history = model_high.fit([pep_train, aa_train, en_train, ec_train, e1_train, e2_train],\n",
    "                    y_train, \n",
    "                    epochs=250,\n",
    "                    batch_size=32,\n",
    "                    validation_data=([pep_val, aa_val, en_val, ec_val, e1_val, e2_val], y_val),\n",
    "                    callbacks=[es])"
   ]
  },
  {
   "cell_type": "code",
   "execution_count": 71,
   "metadata": {
    "ExecuteTime": {
     "end_time": "2021-09-02T08:22:49.997696Z",
     "start_time": "2021-09-02T08:22:49.765240Z"
    }
   },
   "outputs": [
    {
     "data": {
      "image/png": "[encoded data removed]",
      "text/plain": [
       "<Figure size 1152x144 with 2 Axes>"
      ]
     },
     "metadata": {
      "needs_background": "light"
     },
     "output_type": "display_data"
    }
   ],
   "source": [
    "plt.figure(figsize=(16,2))\n",
    "plt.subplot(1,2,1)\n",
    "plot_graphs(history, 'accuracy')\n",
    "plt.subplot(1,2,2)\n",
    "plot_graphs(history, 'loss')"
   ]
  },
  {
   "cell_type": "markdown",
   "metadata": {},
   "source": [
    "# eval"
   ]
  },
  {
   "cell_type": "code",
   "execution_count": 72,
   "metadata": {
    "ExecuteTime": {
     "end_time": "2021-09-02T08:23:44.756482Z",
     "start_time": "2021-09-02T08:22:49.999280Z"
    }
   },
   "outputs": [
    {
     "name": "stdout",
     "output_type": "stream",
     "text": [
      "2104/2104 [==============================] - 19s 9ms/step - loss: 0.3787 - accuracy: 0.8315\n",
      "Test Loss: 0.37874361872673035\n",
      "Test Accuracy: 0.8315402865409851\n",
      "              precision    recall  f1-score   support\n",
      "\n",
      "           0       0.85      0.80      0.83     33706\n",
      "           1       0.81      0.86      0.84     33592\n",
      "\n",
      "    accuracy                           0.83     67298\n",
      "   macro avg       0.83      0.83      0.83     67298\n",
      "weighted avg       0.83      0.83      0.83     67298\n",
      "\n",
      "rf auc : 0.9132060997321204\n"
     ]
    },
    {
     "data": {
      "image/png": "[encoded data removed]",
      "text/plain": [
       "<Figure size 288x288 with 1 Axes>"
      ]
     },
     "metadata": {
      "needs_background": "light"
     },
     "output_type": "display_data"
    },
    {
     "data": {
      "image/png": "[encoded data removed]",
      "text/plain": [
       "<Figure size 216x216 with 2 Axes>"
      ]
     },
     "metadata": {
      "needs_background": "light"
     },
     "output_type": "display_data"
    },
    {
     "data": {
      "image/png": "[encoded data removed]",
      "text/plain": [
       "<Figure size 216x216 with 2 Axes>"
      ]
     },
     "metadata": {
      "needs_background": "light"
     },
     "output_type": "display_data"
    }
   ],
   "source": [
    "test_loss, test_acc = model_high.evaluate([pep_test, aa_test, en_test, ec_test, e1_test, e2_test], y_test)\n",
    "print('Test Loss: {}'.format(test_loss))\n",
    "print('Test Accuracy: {}'.format(test_acc))\n",
    "\n",
    "# prediction\n",
    "y_pred = [1 if i>=0.5 else 0 for i in model_high.predict([pep_test, aa_test, en_test, ec_test, e1_test, e2_test])]\n",
    "print(classification_report(y_test, y_pred))\n",
    "# AUC\n",
    "probs = model_high.predict([pep_test, aa_test, en_test, ec_test, e1_test, e2_test])\n",
    "rf_auc = roc_auc_score(y_test, probs)\n",
    "print('rf auc : {}'.format(rf_auc))\n",
    "# plot the roc curve for the model_high\n",
    "rf_fpr, rf_tpr, _ = roc_curve(y_test, probs)\n",
    "plt.figure(figsize=(4, 4))\n",
    "plt.plot(rf_fpr, rf_tpr, marker='.', label='RF AUC = {:.4f}'.format(rf_auc), color='orange')\n",
    "plt.title('ROC curve')\n",
    "# axis labels\n",
    "plt.xlabel('False Positive Rate')\n",
    "plt.ylabel('True Positive Rate')\n",
    "# show the legend\n",
    "plt.legend()\n",
    "# show the plot\n",
    "plt.show()\n",
    "\n",
    "cf_matrix = confusion_matrix(y_test, y_pred)\n",
    "plt.figure(figsize=(3, 3))\n",
    "sns.heatmap(cf_matrix, annot=True, fmt=',.0f')\n",
    "plt.show()\n",
    "plt.figure(figsize=(3, 3))\n",
    "sns.heatmap(cf_matrix/np.sum(cf_matrix), annot=True, \n",
    "            fmt='.2%', cmap='Blues')\n",
    "plt.show()"
   ]
  },
  {
   "cell_type": "markdown",
   "metadata": {},
   "source": [
    "# other model\n",
    "  - 2019Bioinformatics : DeepMSpeptide \n",
    "    - Acc : 0.809, AUC : 0.871\n",
    "  - 2019ACS : AP3 \n",
    "    - Acc : 0.790, AUC : 0.875\n",
    "  - 2021ACS : PepFormer\n",
    "    - Acc : 0.832, AUC : 0.906"
   ]
  },
  {
   "cell_type": "markdown",
   "metadata": {},
   "source": [
    "* 2021KSBI : ?\n",
    "  - Acc : 0.815, AUC : 0.895"
   ]
  },
  {
   "cell_type": "code",
   "execution_count": null,
   "metadata": {},
   "outputs": [],
   "source": []
  }
 ],
 "metadata": {
  "kernelspec": {
   "display_name": "TF2.4",
   "language": "python",
   "name": "tf2.4"
  },
  "language_info": {
   "codemirror_mode": {
    "name": "ipython",
    "version": 3
   },
   "file_extension": ".py",
   "mimetype": "text/x-python",
   "name": "python",
   "nbconvert_exporter": "python",
   "pygments_lexer": "ipython3",
   "version": "3.7.0"
  }
 },
 "nbformat": 4,
 "nbformat_minor": 4
}
