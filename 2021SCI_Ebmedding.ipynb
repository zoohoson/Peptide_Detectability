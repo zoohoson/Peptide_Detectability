{
 "cells": [
  {
   "cell_type": "code",
   "execution_count": 2,
   "metadata": {
    "ExecuteTime": {
     "end_time": "2021-09-05T22:15:17.051259Z",
     "start_time": "2021-09-05T22:15:16.276799Z"
    }
   },
   "outputs": [],
   "source": [
    "import pandas as pd\n",
    "import numpy as np\n",
    "import matplotlib.pyplot as plt\n",
    "import seaborn as sns\n",
    "from sklearn.metrics import classification_report\n",
    "from sklearn.metrics import confusion_matrix\n",
    "from sklearn.metrics import roc_curve\n",
    "from sklearn.metrics import roc_auc_score\n",
    "from sklearn.model_selection import train_test_split"
   ]
  },
  {
   "cell_type": "code",
   "execution_count": 3,
   "metadata": {
    "ExecuteTime": {
     "end_time": "2021-09-05T22:15:32.179531Z",
     "start_time": "2021-09-05T22:15:32.165203Z"
    }
   },
   "outputs": [
    {
     "name": "stdout",
     "output_type": "stream",
     "text": [
      "(19, 21)\n"
     ]
    }
   ],
   "source": [
    "df_aaindex = pd.read_csv('data/aaindex/df_aaindex19.csv')\n",
    "print(df_aaindex.shape)\n",
    "df_aaindex.head(1)\n",
    "tmp = df_aaindex.drop('Unnamed: 0',axis=1).T\n",
    "aa2val = dict()\n",
    "for aa, val in zip(tmp.index, tmp.values):\n",
    "    aa2val[aa]=val"
   ]
  },
  {
   "cell_type": "code",
   "execution_count": 4,
   "metadata": {
    "ExecuteTime": {
     "end_time": "2021-09-05T22:15:33.399549Z",
     "start_time": "2021-09-05T22:15:32.444116Z"
    }
   },
   "outputs": [],
   "source": [
    "df_detect_peptide_train = pd.read_csv('data/df_detect_peptide_train.csv')\n",
    "test = pd.read_csv('data/df_detect_peptide_test.csv')\n",
    "train, val = train_test_split(df_detect_peptide_train, test_size=0.2, random_state=7)"
   ]
  },
  {
   "cell_type": "code",
   "execution_count": 5,
   "metadata": {
    "ExecuteTime": {
     "end_time": "2021-09-05T22:15:33.414321Z",
     "start_time": "2021-09-05T22:15:33.401041Z"
    }
   },
   "outputs": [
    {
     "data": {
      "text/html": [
       "<div>\n",
       "<style scoped>\n",
       "    .dataframe tbody tr th:only-of-type {\n",
       "        vertical-align: middle;\n",
       "    }\n",
       "\n",
       "    .dataframe tbody tr th {\n",
       "        vertical-align: top;\n",
       "    }\n",
       "\n",
       "    .dataframe thead th {\n",
       "        text-align: right;\n",
       "    }\n",
       "</style>\n",
       "<table border=\"1\" class=\"dataframe\">\n",
       "  <thead>\n",
       "    <tr style=\"text-align: right;\">\n",
       "      <th></th>\n",
       "      <th>peptide</th>\n",
       "      <th>En</th>\n",
       "      <th>Ec</th>\n",
       "      <th>E1</th>\n",
       "      <th>E2</th>\n",
       "      <th>protein</th>\n",
       "      <th>PEP</th>\n",
       "      <th>ID</th>\n",
       "    </tr>\n",
       "  </thead>\n",
       "  <tbody>\n",
       "    <tr>\n",
       "      <th>210101</th>\n",
       "      <td>R.MDKVHSEAER.L</td>\n",
       "      <td>QQKVLQQRMDKVHSE</td>\n",
       "      <td>KVHSEAERLEARFQD</td>\n",
       "      <td>VLQQRMDKVHSEAER</td>\n",
       "      <td>-</td>\n",
       "      <td>sp|Q96M63|CC114_HUMAN</td>\n",
       "      <td>MDKVHSEAER</td>\n",
       "      <td>0</td>\n",
       "    </tr>\n",
       "  </tbody>\n",
       "</table>\n",
       "</div>"
      ],
      "text/plain": [
       "               peptide               En               Ec               E1 E2  \\\n",
       "210101  R.MDKVHSEAER.L  QQKVLQQRMDKVHSE  KVHSEAERLEARFQD  VLQQRMDKVHSEAER  -   \n",
       "\n",
       "                      protein         PEP  ID  \n",
       "210101  sp|Q96M63|CC114_HUMAN  MDKVHSEAER   0  "
      ]
     },
     "execution_count": 5,
     "metadata": {},
     "output_type": "execute_result"
    }
   ],
   "source": [
    "train.head(1)"
   ]
  },
  {
   "cell_type": "code",
   "execution_count": 6,
   "metadata": {
    "ExecuteTime": {
     "end_time": "2021-09-05T22:15:34.147537Z",
     "start_time": "2021-09-05T22:15:34.140684Z"
    }
   },
   "outputs": [],
   "source": [
    "def get_data_labelEnc(df):\n",
    "    label_enc = {v:k+1 for k, v in enumerate('ARNDCQEGHILKMFPSTWYV')}\n",
    "    label_enc['Z']=0\n",
    "    aa_data = [np.array([seq.count(a) for a in 'ARNDCQEGHILKMFPSTWYV'] + list(np.array([aa2val[aa] for aa in seq]).sum(axis=0)))\n",
    "               for seq in df.PEP.values]\n",
    "    pep_data = [[label_enc[aa] for aa in seq] + [0]*(30-len(seq))\n",
    "               for seq in df.PEP.values]\n",
    "    en_data = [[label_enc[aa] for aa in seq]\n",
    "               for seq in df.En.values]\n",
    "    ec_data = [[label_enc[aa] for aa in seq]\n",
    "               for seq in df.Ec.values]\n",
    "    e1_data = [[label_enc[aa] for aa in seq]\n",
    "               if seq != '-' else [0 for _ in range(15)]\n",
    "               for seq in df.E1.values]\n",
    "    e2_data = [[label_enc[aa] for aa in seq]\n",
    "               if seq != '-' else [0 for _ in range(15)]\n",
    "               for seq in df.E2.values]\n",
    "    return np.array(aa_data), np.array(pep_data), np.array(en_data), np.array(ec_data), np.array(e1_data), np.array(e2_data), np.array(df.ID.values)"
   ]
  },
  {
   "cell_type": "code",
   "execution_count": 7,
   "metadata": {
    "ExecuteTime": {
     "end_time": "2021-09-05T22:15:49.800704Z",
     "start_time": "2021-09-05T22:15:34.484548Z"
    }
   },
   "outputs": [
    {
     "name": "stdout",
     "output_type": "stream",
     "text": [
      "(215352, 39) (215352, 30) (215352, 15) (215352, 15) (215352, 15) (215352, 15) (215352,)\n",
      "(53838, 39) (53838, 30) (53838, 15) (53838, 15) (53838, 15) (53838, 15) (53838,)\n",
      "(67298, 39) (67298, 30) (67298, 15) (67298, 15) (67298, 15) (67298, 15) (67298,)\n"
     ]
    }
   ],
   "source": [
    "aa_train, pep_train, en_train, ec_train, e1_train, e2_train, y_train = get_data_labelEnc(train)\n",
    "aa_val, pep_val, en_val, ec_val, e1_val, e2_val, y_val = get_data_labelEnc(val)\n",
    "aa_test, pep_test, en_test, ec_test, e1_test, e2_test, y_test = get_data_labelEnc(test)\n",
    "print(aa_train.shape, pep_train.shape, en_train.shape, ec_train.shape, e1_train.shape, e2_train.shape, y_train.shape)\n",
    "print(aa_val.shape, pep_val.shape, en_val.shape, ec_val.shape, e1_val.shape, e2_val.shape, y_val.shape)\n",
    "print(aa_test.shape, pep_test.shape, en_test.shape, ec_test.shape, e1_test.shape, e2_test.shape, y_test.shape)"
   ]
  },
  {
   "cell_type": "markdown",
   "metadata": {},
   "source": [
    "# Train"
   ]
  },
  {
   "cell_type": "code",
   "execution_count": 8,
   "metadata": {
    "ExecuteTime": {
     "end_time": "2021-09-05T22:15:50.897926Z",
     "start_time": "2021-09-05T22:15:49.802291Z"
    }
   },
   "outputs": [],
   "source": [
    "from tensorflow.python.client import device_lib\n",
    "\n",
    "import tensorflow as tf\n",
    "gpus = tf.config.experimental.list_physical_devices('GPU')\n",
    "if gpus:\n",
    "    try:\n",
    "        tf.config.experimental.set_virtual_device_configuration(gpus[0],\n",
    "        [tf.config.experimental.VirtualDeviceConfiguration(memory_limit=1024*8)])\n",
    "    except RuntimeError as e:\n",
    "        print(e)"
   ]
  },
  {
   "cell_type": "code",
   "execution_count": 9,
   "metadata": {
    "ExecuteTime": {
     "end_time": "2021-09-05T22:15:50.902477Z",
     "start_time": "2021-09-05T22:15:50.899811Z"
    }
   },
   "outputs": [],
   "source": [
    "def plot_graphs(history, metric):\n",
    "    plt.plot(history.history[metric])\n",
    "    plt.plot(history.history['val_'+metric], '')\n",
    "    plt.xlabel(\"Epochs\")\n",
    "    plt.ylabel(metric)\n",
    "    plt.legend([metric, 'val_'+metric])"
   ]
  },
  {
   "cell_type": "markdown",
   "metadata": {},
   "source": [
    "# high param"
   ]
  },
  {
   "cell_type": "code",
   "execution_count": 10,
   "metadata": {
    "ExecuteTime": {
     "end_time": "2021-09-05T22:15:58.516622Z",
     "start_time": "2021-09-05T22:15:50.903729Z"
    },
    "scrolled": false
   },
   "outputs": [
    {
     "name": "stdout",
     "output_type": "stream",
     "text": [
      "Model: \"model\"\n",
      "__________________________________________________________________________________________________\n",
      "Layer (type)                    Output Shape         Param #     Connected to                     \n",
      "==================================================================================================\n",
      "input_3 (InputLayer)            [(None, 15)]         0                                            \n",
      "__________________________________________________________________________________________________\n",
      "input_4 (InputLayer)            [(None, 15)]         0                                            \n",
      "__________________________________________________________________________________________________\n",
      "input_5 (InputLayer)            [(None, 15)]         0                                            \n",
      "__________________________________________________________________________________________________\n",
      "input_6 (InputLayer)            [(None, 15)]         0                                            \n",
      "__________________________________________________________________________________________________\n",
      "input_1 (InputLayer)            [(None, 30)]         0                                            \n",
      "__________________________________________________________________________________________________\n",
      "embedding_1 (Embedding)         (None, 15, 32)       672         input_3[0][0]                    \n",
      "__________________________________________________________________________________________________\n",
      "embedding_2 (Embedding)         (None, 15, 32)       672         input_4[0][0]                    \n",
      "__________________________________________________________________________________________________\n",
      "embedding_3 (Embedding)         (None, 15, 32)       672         input_5[0][0]                    \n",
      "__________________________________________________________________________________________________\n",
      "embedding_4 (Embedding)         (None, 15, 32)       672         input_6[0][0]                    \n",
      "__________________________________________________________________________________________________\n",
      "embedding (Embedding)           (None, 30, 64)       1344        input_1[0][0]                    \n",
      "__________________________________________________________________________________________________\n",
      "bidirectional_1 (Bidirectional) (None, 32)           6272        embedding_1[0][0]                \n",
      "__________________________________________________________________________________________________\n",
      "bidirectional_2 (Bidirectional) (None, 32)           6272        embedding_2[0][0]                \n",
      "__________________________________________________________________________________________________\n",
      "bidirectional_3 (Bidirectional) (None, 32)           6272        embedding_3[0][0]                \n",
      "__________________________________________________________________________________________________\n",
      "bidirectional_4 (Bidirectional) (None, 32)           6272        embedding_4[0][0]                \n",
      "__________________________________________________________________________________________________\n",
      "bidirectional (Bidirectional)   (None, 64)           24832       embedding[0][0]                  \n",
      "__________________________________________________________________________________________________\n",
      "input_2 (InputLayer)            [(None, 39)]         0                                            \n",
      "__________________________________________________________________________________________________\n",
      "dense_2 (Dense)                 (None, 32)           1056        bidirectional_1[0][0]            \n",
      "__________________________________________________________________________________________________\n",
      "dense_3 (Dense)                 (None, 32)           1056        bidirectional_2[0][0]            \n",
      "__________________________________________________________________________________________________\n",
      "dense_4 (Dense)                 (None, 32)           1056        bidirectional_3[0][0]            \n",
      "__________________________________________________________________________________________________\n",
      "dense_5 (Dense)                 (None, 32)           1056        bidirectional_4[0][0]            \n",
      "__________________________________________________________________________________________________\n",
      "dense (Dense)                   (None, 64)           4160        bidirectional[0][0]              \n",
      "__________________________________________________________________________________________________\n",
      "dense_1 (Dense)                 (None, 64)           2560        input_2[0][0]                    \n",
      "__________________________________________________________________________________________________\n",
      "dropout (Dropout)               (None, 32)           0           dense_2[0][0]                    \n",
      "__________________________________________________________________________________________________\n",
      "dropout_1 (Dropout)             (None, 32)           0           dense_3[0][0]                    \n",
      "__________________________________________________________________________________________________\n",
      "dropout_2 (Dropout)             (None, 32)           0           dense_4[0][0]                    \n",
      "__________________________________________________________________________________________________\n",
      "dropout_3 (Dropout)             (None, 32)           0           dense_5[0][0]                    \n",
      "__________________________________________________________________________________________________\n",
      "concatenate (Concatenate)       (None, 256)          0           dense[0][0]                      \n",
      "                                                                 dense_1[0][0]                    \n",
      "                                                                 dropout[0][0]                    \n",
      "                                                                 dropout_1[0][0]                  \n",
      "                                                                 dropout_2[0][0]                  \n",
      "                                                                 dropout_3[0][0]                  \n",
      "__________________________________________________________________________________________________\n",
      "dense_6 (Dense)                 (None, 128)          32896       concatenate[0][0]                \n",
      "__________________________________________________________________________________________________\n",
      "dropout_4 (Dropout)             (None, 128)          0           dense_6[0][0]                    \n",
      "__________________________________________________________________________________________________\n",
      "dense_7 (Dense)                 (None, 64)           8256        dropout_4[0][0]                  \n",
      "__________________________________________________________________________________________________\n",
      "dense_8 (Dense)                 (None, 1)            65          dense_7[0][0]                    \n",
      "==================================================================================================\n",
      "Total params: 106,113\n",
      "Trainable params: 106,113\n",
      "Non-trainable params: 0\n",
      "__________________________________________________________________________________________________\n"
     ]
    }
   ],
   "source": [
    "pep = tf.keras.layers.Input(shape=((30,)))\n",
    "input1 = tf.keras.layers.Embedding(21, 64, input_length=30, mask_zero=True)(pep)\n",
    "\n",
    "input2 = tf.keras.layers.Input(shape=((39,)))  # peptide info\n",
    "\n",
    "n = tf.keras.layers.Input(shape=((15,)))\n",
    "input3 = tf.keras.layers.Embedding(21, 32, input_length=15, mask_zero=True)(n)\n",
    "\n",
    "c = tf.keras.layers.Input(shape=((15,)))\n",
    "input4 = tf.keras.layers.Embedding(21, 32, input_length=15, mask_zero=True)(c)\n",
    "\n",
    "m1 = tf.keras.layers.Input(shape=((15,)))\n",
    "input5 = tf.keras.layers.Embedding(21, 32, input_length=15, mask_zero=True)(m1)\n",
    "\n",
    "m2 = tf.keras.layers.Input(shape=((15,)))\n",
    "input6 = tf.keras.layers.Embedding(21, 32, input_length=15, mask_zero=True)(m2)\n",
    "# CNN add??\n",
    "lstm1 = tf.keras.layers.Bidirectional(tf.keras.layers.LSTM(32))(input1)\n",
    "net_lstm = tf.keras.layers.Dense(64, activation='relu')(lstm1)\n",
    "\n",
    "net_dense1 = tf.keras.layers.Dense(64, activation='relu')(input2)\n",
    "\n",
    "digest_n = tf.keras.layers.Bidirectional(tf.keras.layers.LSTM(16))(input3)\n",
    "net_n_ = tf.keras.layers.Dense(32, activation='relu')(digest_n)\n",
    "net_n = tf.keras.layers.Dropout(np.random.uniform(0, 0.2))(net_n_)\n",
    "\n",
    "digest_c = tf.keras.layers.Bidirectional(tf.keras.layers.LSTM(16))(input4)\n",
    "net_c_ = tf.keras.layers.Dense(32, activation='relu')(digest_c)\n",
    "net_c = tf.keras.layers.Dropout(np.random.uniform(0, 0.2))(net_c_)\n",
    "\n",
    "digest_m1 = tf.keras.layers.Bidirectional(tf.keras.layers.LSTM(16))(input5)\n",
    "net_m1_ = tf.keras.layers.Dense(32, activation='relu')(digest_m1)\n",
    "net_m1 = tf.keras.layers.Dropout(np.random.uniform(0, 0.2))(net_m1_)\n",
    "\n",
    "digest_m2 = tf.keras.layers.Bidirectional(tf.keras.layers.LSTM(16))(input6)\n",
    "net_m2_ = tf.keras.layers.Dense(32, activation='relu')(digest_m2)\n",
    "net_m2 = tf.keras.layers.Dropout(np.random.uniform(0, 0.2))(net_m2_)\n",
    "\n",
    "merge = tf.keras.layers.concatenate([net_lstm, \n",
    "                                     net_dense1,\n",
    "                                    net_n,\n",
    "                                    net_c,\n",
    "                                    net_m1,\n",
    "                                    net_m2])\n",
    "\n",
    "net1 = tf.keras.layers.Dense(128, activation='relu')(merge)\n",
    "net1_drop = tf.keras.layers.Dropout(np.random.uniform(0, 0.2))(net1)\n",
    "net3 = tf.keras.layers.Dense(64, activation='relu')(net1_drop)\n",
    "# net1_drop = tf.keras.layers.Dropout(np.random.uniform(0, 0.2))(net1)\n",
    "output = tf.keras.layers.Dense(1, activation = 'sigmoid')(net3)\n",
    "\n",
    "model_high = tf.keras.Model(inputs=[pep, input2,\n",
    "                              n, c,\n",
    "                              m1, m2],\n",
    "                       outputs=[output])\n",
    "\n",
    "model_high.summary()\n",
    "\n",
    "model_high.compile(loss=tf.keras.losses.BinaryCrossentropy(from_logits=True),\n",
    "              optimizer=tf.keras.optimizers.Adam(1e-3),\n",
    "              metrics=['accuracy'])\n",
    "\n",
    "es = tf.keras.callbacks.EarlyStopping(monitor='val_loss',\n",
    "                                      mode='min', \n",
    "                                      verbose=1,\n",
    "                                      patience=20)"
   ]
  },
  {
   "cell_type": "code",
   "execution_count": 11,
   "metadata": {
    "ExecuteTime": {
     "end_time": "2021-09-06T03:19:21.180910Z",
     "start_time": "2021-09-05T22:15:58.518098Z"
    },
    "scrolled": true
   },
   "outputs": [
    {
     "name": "stdout",
     "output_type": "stream",
     "text": [
      "Epoch 1/300\n",
      "6730/6730 [==============================] - 603s 85ms/step - loss: 0.8251 - accuracy: 0.7430 - val_loss: 0.4345 - val_accuracy: 0.8201\n",
      "Epoch 2/300\n",
      "6730/6730 [==============================] - 543s 81ms/step - loss: 0.4032 - accuracy: 0.8199 - val_loss: 0.3915 - val_accuracy: 0.8268\n",
      "Epoch 3/300\n",
      "6730/6730 [==============================] - 552s 82ms/step - loss: 0.3866 - accuracy: 0.8273 - val_loss: 0.3846 - val_accuracy: 0.8289\n",
      "Epoch 4/300\n",
      "6730/6730 [==============================] - 552s 82ms/step - loss: 0.3792 - accuracy: 0.8304 - val_loss: 0.3833 - val_accuracy: 0.8306\n",
      "Epoch 5/300\n",
      "6730/6730 [==============================] - 557s 83ms/step - loss: 0.3762 - accuracy: 0.8326 - val_loss: 0.3780 - val_accuracy: 0.8336\n",
      "Epoch 6/300\n",
      "6730/6730 [==============================] - 591s 88ms/step - loss: 0.3694 - accuracy: 0.8352 - val_loss: 0.3800 - val_accuracy: 0.8340\n",
      "Epoch 7/300\n",
      "6730/6730 [==============================] - 601s 89ms/step - loss: 0.3658 - accuracy: 0.8369 - val_loss: 0.3739 - val_accuracy: 0.8351\n",
      "Epoch 8/300\n",
      "6730/6730 [==============================] - 590s 88ms/step - loss: 0.3629 - accuracy: 0.8380 - val_loss: 0.3839 - val_accuracy: 0.8338\n",
      "Epoch 9/300\n",
      "6730/6730 [==============================] - 596s 89ms/step - loss: 0.3592 - accuracy: 0.8402 - val_loss: 0.3733 - val_accuracy: 0.8349\n",
      "Epoch 10/300\n",
      "6730/6730 [==============================] - 589s 87ms/step - loss: 0.3566 - accuracy: 0.8415 - val_loss: 0.3767 - val_accuracy: 0.8342\n",
      "Epoch 11/300\n",
      "6730/6730 [==============================] - 574s 85ms/step - loss: 0.3562 - accuracy: 0.8409 - val_loss: 0.3705 - val_accuracy: 0.8358\n",
      "Epoch 12/300\n",
      "6730/6730 [==============================] - 586s 87ms/step - loss: 0.3493 - accuracy: 0.8457 - val_loss: 0.3759 - val_accuracy: 0.8340\n",
      "Epoch 13/300\n",
      "6730/6730 [==============================] - 588s 87ms/step - loss: 0.3496 - accuracy: 0.8453 - val_loss: 0.3726 - val_accuracy: 0.8341\n",
      "Epoch 14/300\n",
      "6730/6730 [==============================] - 592s 88ms/step - loss: 0.3418 - accuracy: 0.8483 - val_loss: 0.3797 - val_accuracy: 0.8344\n",
      "Epoch 15/300\n",
      "6730/6730 [==============================] - 599s 89ms/step - loss: 0.3444 - accuracy: 0.8471 - val_loss: 0.3736 - val_accuracy: 0.8357\n",
      "Epoch 16/300\n",
      "6730/6730 [==============================] - 590s 88ms/step - loss: 0.3387 - accuracy: 0.8509 - val_loss: 0.3781 - val_accuracy: 0.8355\n",
      "Epoch 17/300\n",
      "6730/6730 [==============================] - 602s 89ms/step - loss: 0.3388 - accuracy: 0.8493 - val_loss: 0.3836 - val_accuracy: 0.8318\n",
      "Epoch 18/300\n",
      "6730/6730 [==============================] - 596s 89ms/step - loss: 0.3325 - accuracy: 0.8525 - val_loss: 0.3781 - val_accuracy: 0.8319\n",
      "Epoch 19/300\n",
      "6730/6730 [==============================] - 584s 87ms/step - loss: 0.3325 - accuracy: 0.8525 - val_loss: 0.3830 - val_accuracy: 0.8344\n",
      "Epoch 20/300\n",
      "6730/6730 [==============================] - 592s 88ms/step - loss: 0.3288 - accuracy: 0.8539 - val_loss: 0.3822 - val_accuracy: 0.8321\n",
      "Epoch 21/300\n",
      "6730/6730 [==============================] - 591s 88ms/step - loss: 0.3265 - accuracy: 0.8556 - val_loss: 0.3786 - val_accuracy: 0.8304\n",
      "Epoch 22/300\n",
      "6730/6730 [==============================] - 592s 88ms/step - loss: 0.3244 - accuracy: 0.8552 - val_loss: 0.3820 - val_accuracy: 0.8286\n",
      "Epoch 23/300\n",
      "6730/6730 [==============================] - 591s 88ms/step - loss: 0.3198 - accuracy: 0.8586 - val_loss: 0.3873 - val_accuracy: 0.8330\n",
      "Epoch 24/300\n",
      "6730/6730 [==============================] - 586s 87ms/step - loss: 0.3170 - accuracy: 0.8603 - val_loss: 0.3793 - val_accuracy: 0.8324\n",
      "Epoch 25/300\n",
      "6730/6730 [==============================] - 600s 89ms/step - loss: 0.3164 - accuracy: 0.8604 - val_loss: 0.3837 - val_accuracy: 0.8299\n",
      "Epoch 26/300\n",
      "6730/6730 [==============================] - 601s 89ms/step - loss: 0.3122 - accuracy: 0.8612 - val_loss: 0.3887 - val_accuracy: 0.8312\n",
      "Epoch 27/300\n",
      "6730/6730 [==============================] - 590s 88ms/step - loss: 0.3081 - accuracy: 0.8644 - val_loss: 0.3975 - val_accuracy: 0.8306\n",
      "Epoch 28/300\n",
      "6730/6730 [==============================] - 589s 87ms/step - loss: 0.3067 - accuracy: 0.8649 - val_loss: 0.4012 - val_accuracy: 0.8295\n",
      "Epoch 29/300\n",
      "6730/6730 [==============================] - 593s 88ms/step - loss: 0.3055 - accuracy: 0.8658 - val_loss: 0.4070 - val_accuracy: 0.8297\n",
      "Epoch 30/300\n",
      "6730/6730 [==============================] - 592s 88ms/step - loss: 0.3023 - accuracy: 0.8670 - val_loss: 0.4035 - val_accuracy: 0.8282\n",
      "Epoch 31/300\n",
      "6730/6730 [==============================] - 601s 89ms/step - loss: 0.3001 - accuracy: 0.8675 - val_loss: 0.3932 - val_accuracy: 0.8274\n",
      "Epoch 00031: early stopping\n"
     ]
    }
   ],
   "source": [
    "history = model_high.fit([pep_train, aa_train, en_train, ec_train, e1_train, e2_train],\n",
    "                    y_train, \n",
    "                    epochs=300,\n",
    "                    batch_size=32,\n",
    "                    validation_data=([pep_val, aa_val, en_val, ec_val, e1_val, e2_val], y_val),\n",
    "                    callbacks=[es]\n",
    "                        )"
   ]
  },
  {
   "cell_type": "code",
   "execution_count": 12,
   "metadata": {
    "ExecuteTime": {
     "end_time": "2021-09-06T03:19:21.457388Z",
     "start_time": "2021-09-06T03:19:21.182507Z"
    }
   },
   "outputs": [
    {
     "data": {
      "image/png": "[encoded data removed]",
      "text/plain": [
       "<Figure size 1152x144 with 2 Axes>"
      ]
     },
     "metadata": {
      "needs_background": "light"
     },
     "output_type": "display_data"
    }
   ],
   "source": [
    "plt.figure(figsize=(16,2))\n",
    "plt.subplot(1,2,1)\n",
    "plot_graphs(history, 'accuracy')\n",
    "plt.subplot(1,2,2)\n",
    "plot_graphs(history, 'loss')"
   ]
  },
  {
   "cell_type": "markdown",
   "metadata": {},
   "source": [
    "# eval"
   ]
  },
  {
   "cell_type": "code",
   "execution_count": 13,
   "metadata": {
    "ExecuteTime": {
     "end_time": "2021-09-06T03:21:31.715111Z",
     "start_time": "2021-09-06T03:19:21.458652Z"
    },
    "scrolled": false
   },
   "outputs": [
    {
     "name": "stdout",
     "output_type": "stream",
     "text": [
      "2104/2104 [==============================] - 42s 20ms/step - loss: 0.3911 - accuracy: 0.8284\n",
      "Test Loss: 0.3910985291004181\n",
      "Test Accuracy: 0.8284347057342529\n",
      "              precision    recall  f1-score   support\n",
      "\n",
      "           0       0.81      0.85      0.83     33706\n",
      "           1       0.84      0.80      0.82     33592\n",
      "\n",
      "    accuracy                           0.83     67298\n",
      "   macro avg       0.83      0.83      0.83     67298\n",
      "weighted avg       0.83      0.83      0.83     67298\n",
      "\n",
      "rf auc : 0.9079252834884934\n"
     ]
    },
    {
     "data": {
      "image/png": "[encoded data removed]",
      "text/plain": [
       "<Figure size 288x288 with 1 Axes>"
      ]
     },
     "metadata": {
      "needs_background": "light"
     },
     "output_type": "display_data"
    },
    {
     "data": {
      "image/png": "[encoded data removed]",
      "text/plain": [
       "<Figure size 216x216 with 2 Axes>"
      ]
     },
     "metadata": {
      "needs_background": "light"
     },
     "output_type": "display_data"
    },
    {
     "data": {
      "image/png": "[encoded data removed]",
      "text/plain": [
       "<Figure size 216x216 with 2 Axes>"
      ]
     },
     "metadata": {
      "needs_background": "light"
     },
     "output_type": "display_data"
    }
   ],
   "source": [
    "test_loss, test_acc = model_high.evaluate([pep_test, aa_test, en_test, ec_test, e1_test, e2_test], y_test)\n",
    "print('Test Loss: {}'.format(test_loss))\n",
    "print('Test Accuracy: {}'.format(test_acc))\n",
    "\n",
    "# prediction\n",
    "y_pred = [1 if i>=0.5 else 0 for i in model_high.predict([pep_test, aa_test, en_test, ec_test, e1_test, e2_test])]\n",
    "print(classification_report(y_test, y_pred))\n",
    "# AUC\n",
    "probs = model_high.predict([pep_test, aa_test, en_test, ec_test, e1_test, e2_test])\n",
    "rf_auc = roc_auc_score(y_test, probs)\n",
    "print('rf auc : {}'.format(rf_auc))\n",
    "# plot the roc curve for the model_high\n",
    "rf_fpr, rf_tpr, _ = roc_curve(y_test, probs)\n",
    "plt.figure(figsize=(4, 4))\n",
    "plt.plot(rf_fpr, rf_tpr, marker='.', label='RF AUC = {:.4f}'.format(rf_auc), color='orange')\n",
    "plt.title('ROC curve')\n",
    "# axis labels\n",
    "plt.xlabel('False Positive Rate')\n",
    "plt.ylabel('True Positive Rate')\n",
    "# show the legend\n",
    "plt.legend()\n",
    "# show the plot\n",
    "plt.show()\n",
    "\n",
    "cf_matrix = confusion_matrix(y_test, y_pred)\n",
    "plt.figure(figsize=(3, 3))\n",
    "sns.heatmap(cf_matrix, annot=True, fmt=',.0f')\n",
    "plt.show()\n",
    "plt.figure(figsize=(3, 3))\n",
    "sns.heatmap(cf_matrix/np.sum(cf_matrix), annot=True, \n",
    "            fmt='.2%', cmap='Blues')\n",
    "plt.show()"
   ]
  },
  {
   "cell_type": "markdown",
   "metadata": {},
   "source": [
    "# best"
   ]
  },
  {
   "cell_type": "code",
   "execution_count": 12,
   "metadata": {
    "ExecuteTime": {
     "end_time": "2021-09-03T05:45:20.182307Z",
     "start_time": "2021-09-03T05:43:17.639533Z"
    },
    "scrolled": false
   },
   "outputs": [
    {
     "name": "stdout",
     "output_type": "stream",
     "text": [
      "2104/2104 [==============================] - 38s 18ms/step - loss: 0.3654 - accuracy: 0.8372\n",
      "Test Loss: 0.36536043882369995\n",
      "Test Accuracy: 0.837201714515686\n",
      "              precision    recall  f1-score   support\n",
      "\n",
      "           0       0.84      0.83      0.84     33706\n",
      "           1       0.83      0.84      0.84     33592\n",
      "\n",
      "    accuracy                           0.84     67298\n",
      "   macro avg       0.84      0.84      0.84     67298\n",
      "weighted avg       0.84      0.84      0.84     67298\n",
      "\n",
      "rf auc : 0.9172036976095229\n"
     ]
    },
    {
     "data": {
      "image/png": "[encoded data removed]",
      "text/plain": [
       "<Figure size 288x288 with 1 Axes>"
      ]
     },
     "metadata": {
      "needs_background": "light"
     },
     "output_type": "display_data"
    },
    {
     "data": {
      "image/png": "[encoded data removed]",
      "text/plain": [
       "<Figure size 216x216 with 2 Axes>"
      ]
     },
     "metadata": {
      "needs_background": "light"
     },
     "output_type": "display_data"
    },
    {
     "data": {
      "image/png": "[encoded data removed]",
      "text/plain": [
       "<Figure size 216x216 with 2 Axes>"
      ]
     },
     "metadata": {
      "needs_background": "light"
     },
     "output_type": "display_data"
    }
   ],
   "source": [
    "test_loss, test_acc = model_high.evaluate([pep_test, aa_test, en_test, ec_test, e1_test, e2_test], y_test)\n",
    "print('Test Loss: {}'.format(test_loss))\n",
    "print('Test Accuracy: {}'.format(test_acc))\n",
    "\n",
    "# prediction\n",
    "y_pred = [1 if i>=0.5 else 0 for i in model_high.predict([pep_test, aa_test, en_test, ec_test, e1_test, e2_test])]\n",
    "print(classification_report(y_test, y_pred))\n",
    "# AUC\n",
    "probs = model_high.predict([pep_test, aa_test, en_test, ec_test, e1_test, e2_test])\n",
    "rf_auc = roc_auc_score(y_test, probs)\n",
    "print('rf auc : {}'.format(rf_auc))\n",
    "# plot the roc curve for the model_high\n",
    "rf_fpr, rf_tpr, _ = roc_curve(y_test, probs)\n",
    "plt.figure(figsize=(4, 4))\n",
    "plt.plot(rf_fpr, rf_tpr, marker='.', label='RF AUC = {:.4f}'.format(rf_auc), color='orange')\n",
    "plt.title('ROC curve')\n",
    "# axis labels\n",
    "plt.xlabel('False Positive Rate')\n",
    "plt.ylabel('True Positive Rate')\n",
    "# show the legend\n",
    "plt.legend()\n",
    "# show the plot\n",
    "plt.show()\n",
    "\n",
    "cf_matrix = confusion_matrix(y_test, y_pred)\n",
    "plt.figure(figsize=(3, 3))\n",
    "sns.heatmap(cf_matrix, annot=True, fmt=',.0f')\n",
    "plt.show()\n",
    "plt.figure(figsize=(3, 3))\n",
    "sns.heatmap(cf_matrix/np.sum(cf_matrix), annot=True, \n",
    "            fmt='.2%', cmap='Blues')\n",
    "plt.show()"
   ]
  },
  {
   "cell_type": "markdown",
   "metadata": {},
   "source": [
    "# digestibility Embedding Go!\n",
    "  - using pre trained protein language model"
   ]
  },
  {
   "cell_type": "code",
   "execution_count": null,
   "metadata": {},
   "outputs": [],
   "source": []
  }
 ],
 "metadata": {
  "kernelspec": {
   "display_name": "TF2.4",
   "language": "python",
   "name": "tf2.4"
  },
  "language_info": {
   "codemirror_mode": {
    "name": "ipython",
    "version": 3
   },
   "file_extension": ".py",
   "mimetype": "text/x-python",
   "name": "python",
   "nbconvert_exporter": "python",
   "pygments_lexer": "ipython3",
   "version": "3.7.0"
  }
 },
 "nbformat": 4,
 "nbformat_minor": 4
}
