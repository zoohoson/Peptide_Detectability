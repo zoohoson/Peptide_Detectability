{
 "cells": [
  {
   "cell_type": "code",
   "execution_count": 1,
   "metadata": {
    "ExecuteTime": {
     "end_time": "2021-08-31T03:35:32.263522Z",
     "start_time": "2021-08-31T03:35:31.518739Z"
    }
   },
   "outputs": [],
   "source": [
    "import pandas as pd\n",
    "import numpy as np\n",
    "import matplotlib.pyplot as plt\n",
    "import seaborn as sns\n",
    "from sklearn.metrics import classification_report\n",
    "from sklearn.metrics import confusion_matrix\n",
    "from sklearn.metrics import roc_curve\n",
    "from sklearn.metrics import roc_auc_score\n",
    "from sklearn.model_selection import train_test_split"
   ]
  },
  {
   "cell_type": "code",
   "execution_count": 2,
   "metadata": {
    "ExecuteTime": {
     "end_time": "2021-08-31T03:35:32.780777Z",
     "start_time": "2021-08-31T03:35:32.771564Z"
    }
   },
   "outputs": [
    {
     "name": "stdout",
     "output_type": "stream",
     "text": [
      "(19, 21)\n"
     ]
    }
   ],
   "source": [
    "df_aaindex = pd.read_csv('data/aaindex/df_aaindex19.csv')\n",
    "print(df_aaindex.shape)\n",
    "df_aaindex.head(1)\n",
    "tmp = df_aaindex.drop('Unnamed: 0',axis=1).T\n",
    "aa2val = dict()\n",
    "for aa, val in zip(tmp.index, tmp.values):\n",
    "    aa2val[aa]=val"
   ]
  },
  {
   "cell_type": "code",
   "execution_count": 3,
   "metadata": {
    "ExecuteTime": {
     "end_time": "2021-08-31T03:35:34.145981Z",
     "start_time": "2021-08-31T03:35:33.218700Z"
    }
   },
   "outputs": [],
   "source": [
    "df_detect_peptide_train = pd.read_csv('data/df_detect_peptide_train.csv')\n",
    "test = pd.read_csv('data/df_detect_peptide_test.csv')\n",
    "train, val = train_test_split(df_detect_peptide_train, test_size=0.2, random_state=7)"
   ]
  },
  {
   "cell_type": "code",
   "execution_count": 4,
   "metadata": {
    "ExecuteTime": {
     "end_time": "2021-08-31T03:35:34.287566Z",
     "start_time": "2021-08-31T03:35:34.276012Z"
    }
   },
   "outputs": [
    {
     "data": {
      "text/html": [
       "<div>\n",
       "<style scoped>\n",
       "    .dataframe tbody tr th:only-of-type {\n",
       "        vertical-align: middle;\n",
       "    }\n",
       "\n",
       "    .dataframe tbody tr th {\n",
       "        vertical-align: top;\n",
       "    }\n",
       "\n",
       "    .dataframe thead th {\n",
       "        text-align: right;\n",
       "    }\n",
       "</style>\n",
       "<table border=\"1\" class=\"dataframe\">\n",
       "  <thead>\n",
       "    <tr style=\"text-align: right;\">\n",
       "      <th></th>\n",
       "      <th>peptide</th>\n",
       "      <th>En</th>\n",
       "      <th>Ec</th>\n",
       "      <th>E1</th>\n",
       "      <th>E2</th>\n",
       "      <th>protein</th>\n",
       "      <th>PEP</th>\n",
       "      <th>ID</th>\n",
       "    </tr>\n",
       "  </thead>\n",
       "  <tbody>\n",
       "    <tr>\n",
       "      <th>210101</th>\n",
       "      <td>R.MDKVHSEAER.L</td>\n",
       "      <td>QQKVLQQRMDKVHSE</td>\n",
       "      <td>KVHSEAERLEARFQD</td>\n",
       "      <td>VLQQRMDKVHSEAER</td>\n",
       "      <td>-</td>\n",
       "      <td>sp|Q96M63|CC114_HUMAN</td>\n",
       "      <td>MDKVHSEAER</td>\n",
       "      <td>0</td>\n",
       "    </tr>\n",
       "  </tbody>\n",
       "</table>\n",
       "</div>"
      ],
      "text/plain": [
       "               peptide               En               Ec               E1 E2  \\\n",
       "210101  R.MDKVHSEAER.L  QQKVLQQRMDKVHSE  KVHSEAERLEARFQD  VLQQRMDKVHSEAER  -   \n",
       "\n",
       "                      protein         PEP  ID  \n",
       "210101  sp|Q96M63|CC114_HUMAN  MDKVHSEAER   0  "
      ]
     },
     "execution_count": 4,
     "metadata": {},
     "output_type": "execute_result"
    }
   ],
   "source": [
    "train.head(1)"
   ]
  },
  {
   "cell_type": "code",
   "execution_count": 5,
   "metadata": {
    "ExecuteTime": {
     "end_time": "2021-08-31T03:35:35.490610Z",
     "start_time": "2021-08-31T03:35:35.483815Z"
    }
   },
   "outputs": [],
   "source": [
    "def get_data(df):\n",
    "    aa_data = [np.array([seq.count(a) for a in 'ARNDCQEGHILKMFPSTWYVZ'] + list(np.array([aa2val[aa] for aa in seq]).sum(axis=0)))\n",
    "               for seq in df.PEP.values]\n",
    "    pep_data = [[[1 if aa == a else 0 for a in 'ARNDCQEGHILKMFPSTWYVZ'] for aa in seq] + [[0]*21]*(30-len(seq))\n",
    "               for seq in df.PEP.values]\n",
    "    en_data = [[[1 if aa == a else 0 for a in 'ARNDCQEGHILKMFPSTWYVZ'] for aa in seq]\n",
    "               for seq in df.En.values]\n",
    "    ec_data = [[[1 if aa == a else 0 for a in 'ARNDCQEGHILKMFPSTWYVZ'] for aa in seq]\n",
    "               for seq in df.Ec.values]\n",
    "    e1_data = [[[1 if aa == a else 0 for a in 'ARNDCQEGHILKMFPSTWYVZ'] for aa in seq]\n",
    "               if seq != '-' else [[0]*21 for _ in range(15)]\n",
    "               for seq in df.E1.values]\n",
    "    e2_data = [[[1 if aa == a else 0 for a in 'ARNDCQEGHILKMFPSTWYVZ'] for aa in seq]\n",
    "               if seq != '-' else [[0]*21 for _ in range(15)]\n",
    "               for seq in df.E2.values]\n",
    "    return np.array(aa_data), np.array(pep_data), np.array(en_data), np.array(ec_data), np.array(e1_data), np.array(e2_data), np.array(df.ID.values)"
   ]
  },
  {
   "cell_type": "code",
   "execution_count": 6,
   "metadata": {
    "ExecuteTime": {
     "end_time": "2021-08-31T03:38:02.971112Z",
     "start_time": "2021-08-31T03:35:37.595063Z"
    }
   },
   "outputs": [
    {
     "name": "stdout",
     "output_type": "stream",
     "text": [
      "(215352, 40) (215352, 30, 21) (215352, 15, 21) (215352, 15, 21) (215352, 15, 21) (215352, 15, 21) (215352,)\n",
      "(53838, 40) (53838, 30, 21) (53838, 15, 21) (53838, 15, 21) (53838, 15, 21) (53838, 15, 21) (53838,)\n",
      "(67298, 40) (67298, 30, 21) (67298, 15, 21) (67298, 15, 21) (67298, 15, 21) (67298, 15, 21) (67298,)\n"
     ]
    }
   ],
   "source": [
    "aa_train, pep_train, en_train, ec_train, e1_train, e2_train, y_train = get_data(train)\n",
    "\n",
    "aa_val, pep_val, en_val, ec_val, e1_val, e2_val, y_val = get_data(val)\n",
    "\n",
    "aa_test, pep_test, en_test, ec_test, e1_test, e2_test, y_test = get_data(test)\n",
    "\n",
    "print(aa_train.shape, pep_train.shape, en_train.shape, ec_train.shape, e1_train.shape, e2_train.shape, y_train.shape)\n",
    "\n",
    "print(aa_val.shape, pep_val.shape, en_val.shape, ec_val.shape, e1_val.shape, e2_val.shape, y_val.shape)\n",
    "\n",
    "print(aa_test.shape, pep_test.shape, en_test.shape, ec_test.shape, e1_test.shape, e2_test.shape, y_test.shape)"
   ]
  },
  {
   "cell_type": "markdown",
   "metadata": {},
   "source": [
    "# Train"
   ]
  },
  {
   "cell_type": "code",
   "execution_count": 7,
   "metadata": {
    "ExecuteTime": {
     "end_time": "2021-08-31T03:38:04.004285Z",
     "start_time": "2021-08-31T03:38:02.972349Z"
    }
   },
   "outputs": [],
   "source": [
    "from tensorflow.python.client import device_lib\n",
    "\n",
    "import tensorflow as tf\n",
    "gpus = tf.config.experimental.list_physical_devices('GPU')\n",
    "if gpus:\n",
    "    try:\n",
    "        tf.config.experimental.set_virtual_device_configuration(gpus[0],\n",
    "        [tf.config.experimental.VirtualDeviceConfiguration(memory_limit=1024*8)])\n",
    "    except RuntimeError as e:\n",
    "        print(e)"
   ]
  },
  {
   "cell_type": "code",
   "execution_count": 8,
   "metadata": {
    "ExecuteTime": {
     "end_time": "2021-08-31T03:38:04.008471Z",
     "start_time": "2021-08-31T03:38:04.005839Z"
    }
   },
   "outputs": [],
   "source": [
    "def plot_graphs(history, metric):\n",
    "    plt.plot(history.history[metric])\n",
    "    plt.plot(history.history['val_'+metric], '')\n",
    "    plt.xlabel(\"Epochs\")\n",
    "    plt.ylabel(metric)\n",
    "    plt.legend([metric, 'val_'+metric])"
   ]
  },
  {
   "cell_type": "markdown",
   "metadata": {},
   "source": [
    "# high param"
   ]
  },
  {
   "cell_type": "code",
   "execution_count": 32,
   "metadata": {
    "ExecuteTime": {
     "end_time": "2021-09-01T02:55:01.106642Z",
     "start_time": "2021-09-01T02:54:59.251175Z"
    }
   },
   "outputs": [
    {
     "name": "stdout",
     "output_type": "stream",
     "text": [
      "Model: \"model_5\"\n",
      "__________________________________________________________________________________________________\n",
      "Layer (type)                    Output Shape         Param #     Connected to                     \n",
      "==================================================================================================\n",
      "input_37 (InputLayer)           [(None, 30, 21)]     0                                            \n",
      "__________________________________________________________________________________________________\n",
      "input_39 (InputLayer)           [(None, 15, 21)]     0                                            \n",
      "__________________________________________________________________________________________________\n",
      "input_40 (InputLayer)           [(None, 15, 21)]     0                                            \n",
      "__________________________________________________________________________________________________\n",
      "input_41 (InputLayer)           [(None, 15, 21)]     0                                            \n",
      "__________________________________________________________________________________________________\n",
      "input_42 (InputLayer)           [(None, 15, 21)]     0                                            \n",
      "__________________________________________________________________________________________________\n",
      "bidirectional_30 (Bidirectional (None, 128)          44032       input_37[0][0]                   \n",
      "__________________________________________________________________________________________________\n",
      "input_38 (InputLayer)           [(None, 40)]         0                                            \n",
      "__________________________________________________________________________________________________\n",
      "bidirectional_31 (Bidirectional (None, 128)          44032       input_39[0][0]                   \n",
      "__________________________________________________________________________________________________\n",
      "bidirectional_32 (Bidirectional (None, 128)          44032       input_40[0][0]                   \n",
      "__________________________________________________________________________________________________\n",
      "bidirectional_33 (Bidirectional (None, 128)          44032       input_41[0][0]                   \n",
      "__________________________________________________________________________________________________\n",
      "bidirectional_34 (Bidirectional (None, 128)          44032       input_42[0][0]                   \n",
      "__________________________________________________________________________________________________\n",
      "dense_54 (Dense)                (None, 64)           8256        bidirectional_30[0][0]           \n",
      "__________________________________________________________________________________________________\n",
      "dense_55 (Dense)                (None, 128)          5248        input_38[0][0]                   \n",
      "__________________________________________________________________________________________________\n",
      "dense_56 (Dense)                (None, 64)           8256        bidirectional_31[0][0]           \n",
      "__________________________________________________________________________________________________\n",
      "dense_57 (Dense)                (None, 64)           8256        bidirectional_32[0][0]           \n",
      "__________________________________________________________________________________________________\n",
      "dense_58 (Dense)                (None, 64)           8256        bidirectional_33[0][0]           \n",
      "__________________________________________________________________________________________________\n",
      "dense_59 (Dense)                (None, 64)           8256        bidirectional_34[0][0]           \n",
      "__________________________________________________________________________________________________\n",
      "concatenate_6 (Concatenate)     (None, 448)          0           dense_54[0][0]                   \n",
      "                                                                 dense_55[0][0]                   \n",
      "                                                                 dense_56[0][0]                   \n",
      "                                                                 dense_57[0][0]                   \n",
      "                                                                 dense_58[0][0]                   \n",
      "                                                                 dense_59[0][0]                   \n",
      "__________________________________________________________________________________________________\n",
      "dense_60 (Dense)                (None, 256)          114944      concatenate_6[0][0]              \n",
      "__________________________________________________________________________________________________\n",
      "dropout_3 (Dropout)             (None, 256)          0           dense_60[0][0]                   \n",
      "__________________________________________________________________________________________________\n",
      "dense_61 (Dense)                (None, 128)          32896       dropout_3[0][0]                  \n",
      "__________________________________________________________________________________________________\n",
      "dense_62 (Dense)                (None, 1)            129         dense_61[0][0]                   \n",
      "==================================================================================================\n",
      "Total params: 414,657\n",
      "Trainable params: 414,657\n",
      "Non-trainable params: 0\n",
      "__________________________________________________________________________________________________\n"
     ]
    }
   ],
   "source": [
    "input1 = tf.keras.layers.Input(shape=((30,21,)))  # peptide with zero padding\n",
    "input2 = tf.keras.layers.Input(shape=((40,)))  # peptide info\n",
    "input3 = tf.keras.layers.Input(shape=((15,21,)))  # N term info\n",
    "input4 = tf.keras.layers.Input(shape=((15,21,)))  # C term info\n",
    "input5 = tf.keras.layers.Input(shape=((15,21,)))  # miss1 term info\n",
    "input6 = tf.keras.layers.Input(shape=((15,21,)))  # miss2 term info\n",
    "\n",
    "\n",
    "lstm1 = tf.keras.layers.Bidirectional(tf.keras.layers.LSTM(64))(input1)\n",
    "net_lstm = tf.keras.layers.Dense(64, activation='relu')(lstm1)\n",
    "\n",
    "net_dense1 = tf.keras.layers.Dense(128, activation='relu')(input2)\n",
    "\n",
    "digest_n = tf.keras.layers.Bidirectional(tf.keras.layers.LSTM(64))(input3)\n",
    "net_n = tf.keras.layers.Dense(64, activation='relu')(digest_n)\n",
    "digest_c = tf.keras.layers.Bidirectional(tf.keras.layers.LSTM(64))(input4)\n",
    "net_c = tf.keras.layers.Dense(64, activation='relu')(digest_c)\n",
    "digest_m1 = tf.keras.layers.Bidirectional(tf.keras.layers.LSTM(64))(input5)\n",
    "net_m1 = tf.keras.layers.Dense(64, activation='relu')(digest_m1)\n",
    "digest_m2 = tf.keras.layers.Bidirectional(tf.keras.layers.LSTM(64))(input6)\n",
    "net_m2 = tf.keras.layers.Dense(64, activation='relu')(digest_m2)\n",
    "\n",
    "merge = tf.keras.layers.concatenate([net_lstm, \n",
    "                                     net_dense1,\n",
    "                                    net_n,\n",
    "                                    net_c,\n",
    "                                    net_m1,\n",
    "                                    net_m2])\n",
    "\n",
    "net1 = tf.keras.layers.Dense(256, activation='relu')(merge)\n",
    "net1_drop = tf.keras.layers.Dropout(0.3)(net1)\n",
    "# net2 = tf.keras.layers.Dense(64, activation='relu')(net1)\n",
    "net3 = tf.keras.layers.Dense(128, activation='relu')(net1_drop)\n",
    "\n",
    "output = tf.keras.layers.Dense(1, activation = 'sigmoid')(net3)\n",
    "\n",
    "model_high = tf.keras.Model(inputs=[input1, input2,\n",
    "                              input3, input4,\n",
    "                              input5, input6],\n",
    "                       outputs=[output])\n",
    "\n",
    "model_high.summary()\n",
    "\n",
    "model_high.compile(loss=tf.keras.losses.BinaryCrossentropy(from_logits=True),\n",
    "              optimizer=tf.keras.optimizers.Adam(1e-4),\n",
    "              metrics=['accuracy'])\n",
    "\n",
    "es = tf.keras.callbacks.EarlyStopping(monitor='val_loss',\n",
    "                                      mode='min', \n",
    "                                      verbose=1,\n",
    "                                      patience=20)"
   ]
  },
  {
   "cell_type": "code",
   "execution_count": null,
   "metadata": {
    "ExecuteTime": {
     "start_time": "2021-09-01T02:55:04.069Z"
    },
    "scrolled": true
   },
   "outputs": [
    {
     "name": "stdout",
     "output_type": "stream",
     "text": [
      "Epoch 1/250\n",
      "6730/6730 [==============================] - 128s 17ms/step - loss: 1.4196 - accuracy: 0.6813 - val_loss: 0.4611 - val_accuracy: 0.7865\n",
      "Epoch 2/250\n",
      "6730/6730 [==============================] - 114s 17ms/step - loss: 0.4632 - accuracy: 0.7816 - val_loss: 0.4573 - val_accuracy: 0.7909\n",
      "Epoch 3/250\n",
      "6730/6730 [==============================] - 112s 17ms/step - loss: 0.4457 - accuracy: 0.7904 - val_loss: 0.4520 - val_accuracy: 0.7948\n",
      "Epoch 4/250\n",
      "6730/6730 [==============================] - 113s 17ms/step - loss: 0.4308 - accuracy: 0.7998 - val_loss: 0.4221 - val_accuracy: 0.8102\n",
      "Epoch 5/250\n",
      "6730/6730 [==============================] - 115s 17ms/step - loss: 0.4237 - accuracy: 0.8053 - val_loss: 0.4436 - val_accuracy: 0.8070\n",
      "Epoch 6/250\n",
      "6730/6730 [==============================] - 115s 17ms/step - loss: 0.4142 - accuracy: 0.8110 - val_loss: 0.4385 - val_accuracy: 0.8142\n",
      "Epoch 7/250\n",
      "6730/6730 [==============================] - 115s 17ms/step - loss: 0.4085 - accuracy: 0.8134 - val_loss: 0.4213 - val_accuracy: 0.8155\n",
      "Epoch 8/250\n",
      "6730/6730 [==============================] - 114s 17ms/step - loss: 0.4061 - accuracy: 0.8160 - val_loss: 0.4157 - val_accuracy: 0.8162\n",
      "Epoch 9/250\n",
      "6730/6730 [==============================] - 114s 17ms/step - loss: 0.4008 - accuracy: 0.8194 - val_loss: 0.4188 - val_accuracy: 0.8188\n",
      "Epoch 10/250\n",
      "6730/6730 [==============================] - 112s 17ms/step - loss: 0.3974 - accuracy: 0.8215 - val_loss: 0.4134 - val_accuracy: 0.8211\n",
      "Epoch 11/250\n",
      "6730/6730 [==============================] - 111s 17ms/step - loss: 0.3962 - accuracy: 0.8208 - val_loss: 0.3976 - val_accuracy: 0.8245\n",
      "Epoch 12/250\n",
      "6730/6730 [==============================] - 114s 17ms/step - loss: 0.3934 - accuracy: 0.8224 - val_loss: 0.4130 - val_accuracy: 0.8240\n",
      "Epoch 13/250\n",
      "6730/6730 [==============================] - 114s 17ms/step - loss: 0.3906 - accuracy: 0.8245 - val_loss: 0.4131 - val_accuracy: 0.8229\n",
      "Epoch 14/250\n",
      "6730/6730 [==============================] - 112s 17ms/step - loss: 0.3895 - accuracy: 0.8251 - val_loss: 0.3939 - val_accuracy: 0.8256\n",
      "Epoch 15/250\n",
      "6730/6730 [==============================] - 113s 17ms/step - loss: 0.3871 - accuracy: 0.8263 - val_loss: 0.4015 - val_accuracy: 0.8245\n",
      "Epoch 16/250\n",
      "6730/6730 [==============================] - 113s 17ms/step - loss: 0.3833 - accuracy: 0.8282 - val_loss: 0.3968 - val_accuracy: 0.8262\n",
      "Epoch 17/250\n",
      "6730/6730 [==============================] - 112s 17ms/step - loss: 0.3812 - accuracy: 0.8288 - val_loss: 0.3979 - val_accuracy: 0.8294\n",
      "Epoch 18/250\n",
      "6730/6730 [==============================] - 113s 17ms/step - loss: 0.3783 - accuracy: 0.8306 - val_loss: 0.3975 - val_accuracy: 0.8279\n",
      "Epoch 19/250\n",
      "6730/6730 [==============================] - 112s 17ms/step - loss: 0.3790 - accuracy: 0.8306 - val_loss: 0.4003 - val_accuracy: 0.8283\n",
      "Epoch 20/250\n",
      "6730/6730 [==============================] - 113s 17ms/step - loss: 0.3798 - accuracy: 0.8314 - val_loss: 0.3870 - val_accuracy: 0.8318\n",
      "Epoch 21/250\n",
      "6730/6730 [==============================] - 114s 17ms/step - loss: 0.3771 - accuracy: 0.8322 - val_loss: 0.3958 - val_accuracy: 0.8307\n",
      "Epoch 22/250\n",
      "6730/6730 [==============================] - 112s 17ms/step - loss: 0.3762 - accuracy: 0.8320 - val_loss: 0.3933 - val_accuracy: 0.8286\n",
      "Epoch 23/250\n",
      "6730/6730 [==============================] - 113s 17ms/step - loss: 0.3729 - accuracy: 0.8333 - val_loss: 0.3956 - val_accuracy: 0.8323\n",
      "Epoch 24/250\n",
      "6730/6730 [==============================] - 112s 17ms/step - loss: 0.3727 - accuracy: 0.8341 - val_loss: 0.3941 - val_accuracy: 0.8280\n",
      "Epoch 25/250\n",
      "6730/6730 [==============================] - 111s 17ms/step - loss: 0.3729 - accuracy: 0.8344 - val_loss: 0.3859 - val_accuracy: 0.8315\n",
      "Epoch 26/250\n",
      "6730/6730 [==============================] - 111s 17ms/step - loss: 0.3721 - accuracy: 0.8344 - val_loss: 0.3942 - val_accuracy: 0.8332\n",
      "Epoch 27/250\n",
      "6730/6730 [==============================] - 112s 17ms/step - loss: 0.3677 - accuracy: 0.8354 - val_loss: 0.3935 - val_accuracy: 0.8293\n",
      "Epoch 28/250\n",
      "6730/6730 [==============================] - 111s 17ms/step - loss: 0.3664 - accuracy: 0.8378 - val_loss: 0.3862 - val_accuracy: 0.8330\n",
      "Epoch 29/250\n",
      "6730/6730 [==============================] - 111s 16ms/step - loss: 0.3672 - accuracy: 0.8371 - val_loss: 0.3932 - val_accuracy: 0.8348\n",
      "Epoch 30/250\n",
      "6730/6730 [==============================] - 113s 17ms/step - loss: 0.3662 - accuracy: 0.8384 - val_loss: 0.3868 - val_accuracy: 0.8345\n",
      "Epoch 31/250\n",
      "6730/6730 [==============================] - 112s 17ms/step - loss: 0.3664 - accuracy: 0.8373 - val_loss: 0.3857 - val_accuracy: 0.8302\n",
      "Epoch 32/250\n",
      "6730/6730 [==============================] - 111s 17ms/step - loss: 0.3651 - accuracy: 0.8375 - val_loss: 0.3889 - val_accuracy: 0.8296\n",
      "Epoch 33/250\n",
      "6730/6730 [==============================] - 110s 16ms/step - loss: 0.3613 - accuracy: 0.8399 - val_loss: 0.3938 - val_accuracy: 0.8286\n",
      "Epoch 34/250\n",
      "6730/6730 [==============================] - 111s 16ms/step - loss: 0.3641 - accuracy: 0.8393 - val_loss: 0.3784 - val_accuracy: 0.8345\n",
      "Epoch 35/250\n",
      "6730/6730 [==============================] - 111s 17ms/step - loss: 0.3624 - accuracy: 0.8399 - val_loss: 0.3895 - val_accuracy: 0.8341\n",
      "Epoch 36/250\n",
      "6730/6730 [==============================] - 108s 16ms/step - loss: 0.3580 - accuracy: 0.8419 - val_loss: 0.3825 - val_accuracy: 0.8325\n",
      "Epoch 37/250\n",
      "6730/6730 [==============================] - 110s 16ms/step - loss: 0.3602 - accuracy: 0.8411 - val_loss: 0.3839 - val_accuracy: 0.8353\n",
      "Epoch 38/250\n",
      "6730/6730 [==============================] - 110s 16ms/step - loss: 0.3581 - accuracy: 0.8425 - val_loss: 0.3863 - val_accuracy: 0.8349\n",
      "Epoch 39/250\n",
      "6730/6730 [==============================] - 110s 16ms/step - loss: 0.3552 - accuracy: 0.8431 - val_loss: 0.3860 - val_accuracy: 0.8340\n",
      "Epoch 40/250\n",
      "6730/6730 [==============================] - 111s 16ms/step - loss: 0.3552 - accuracy: 0.8430 - val_loss: 0.3833 - val_accuracy: 0.8337\n",
      "Epoch 41/250\n",
      "6730/6730 [==============================] - 111s 17ms/step - loss: 0.3561 - accuracy: 0.8428 - val_loss: 0.3824 - val_accuracy: 0.8310\n",
      "Epoch 42/250\n",
      "6730/6730 [==============================] - 110s 16ms/step - loss: 0.3556 - accuracy: 0.8421 - val_loss: 0.3868 - val_accuracy: 0.8348\n",
      "Epoch 43/250\n",
      "6730/6730 [==============================] - 107s 16ms/step - loss: 0.3550 - accuracy: 0.8428 - val_loss: 0.3859 - val_accuracy: 0.8356\n",
      "Epoch 44/250\n",
      "6730/6730 [==============================] - 108s 16ms/step - loss: 0.3533 - accuracy: 0.8445 - val_loss: 0.3785 - val_accuracy: 0.8363\n",
      "Epoch 45/250\n",
      "6730/6730 [==============================] - 112s 17ms/step - loss: 0.3500 - accuracy: 0.8461 - val_loss: 0.3868 - val_accuracy: 0.8343\n",
      "Epoch 46/250\n",
      "6730/6730 [==============================] - 112s 17ms/step - loss: 0.3521 - accuracy: 0.8437 - val_loss: 0.3835 - val_accuracy: 0.8348\n",
      "Epoch 47/250\n",
      "6730/6730 [==============================] - 108s 16ms/step - loss: 0.3496 - accuracy: 0.8450 - val_loss: 0.3770 - val_accuracy: 0.8366\n",
      "Epoch 48/250\n",
      "6730/6730 [==============================] - 113s 17ms/step - loss: 0.3481 - accuracy: 0.8461 - val_loss: 0.3767 - val_accuracy: 0.8355\n",
      "Epoch 49/250\n",
      "6730/6730 [==============================] - 113s 17ms/step - loss: 0.3490 - accuracy: 0.8457 - val_loss: 0.3801 - val_accuracy: 0.8336\n",
      "Epoch 50/250\n",
      "6730/6730 [==============================] - 113s 17ms/step - loss: 0.3430 - accuracy: 0.8486 - val_loss: 0.3797 - val_accuracy: 0.8347\n",
      "Epoch 51/250\n",
      "6730/6730 [==============================] - 112s 17ms/step - loss: 0.3435 - accuracy: 0.8486 - val_loss: 0.3839 - val_accuracy: 0.8332\n",
      "Epoch 52/250\n",
      "6730/6730 [==============================] - 114s 17ms/step - loss: 0.3436 - accuracy: 0.8483 - val_loss: 0.3853 - val_accuracy: 0.8346\n",
      "Epoch 53/250\n",
      "6730/6730 [==============================] - 110s 16ms/step - loss: 0.3421 - accuracy: 0.8493 - val_loss: 0.3833 - val_accuracy: 0.8337\n",
      "Epoch 54/250\n",
      "6730/6730 [==============================] - 113s 17ms/step - loss: 0.3406 - accuracy: 0.8492 - val_loss: 0.3797 - val_accuracy: 0.8330\n",
      "Epoch 55/250\n",
      "6730/6730 [==============================] - 112s 17ms/step - loss: 0.3392 - accuracy: 0.8506 - val_loss: 0.3781 - val_accuracy: 0.8344\n",
      "Epoch 56/250\n"
     ]
    },
    {
     "name": "stdout",
     "output_type": "stream",
     "text": [
      "6730/6730 [==============================] - 109s 16ms/step - loss: 0.3363 - accuracy: 0.8526 - val_loss: 0.3847 - val_accuracy: 0.8320\n",
      "Epoch 57/250\n",
      "6730/6730 [==============================] - 111s 16ms/step - loss: 0.3352 - accuracy: 0.8517 - val_loss: 0.3771 - val_accuracy: 0.8330\n",
      "Epoch 58/250\n",
      "6730/6730 [==============================] - 110s 16ms/step - loss: 0.3346 - accuracy: 0.8544 - val_loss: 0.3887 - val_accuracy: 0.8320\n",
      "Epoch 59/250\n",
      "6730/6730 [==============================] - 110s 16ms/step - loss: 0.3348 - accuracy: 0.8530 - val_loss: 0.3816 - val_accuracy: 0.8322\n",
      "Epoch 60/250\n",
      "6730/6730 [==============================] - 111s 16ms/step - loss: 0.3324 - accuracy: 0.8540 - val_loss: 0.3927 - val_accuracy: 0.8332\n",
      "Epoch 61/250\n",
      "6730/6730 [==============================] - 113s 17ms/step - loss: 0.3310 - accuracy: 0.8553 - val_loss: 0.3830 - val_accuracy: 0.8329\n",
      "Epoch 62/250\n",
      "6730/6730 [==============================] - 113s 17ms/step - loss: 0.3298 - accuracy: 0.8565 - val_loss: 0.3848 - val_accuracy: 0.8329\n",
      "Epoch 63/250\n",
      "6730/6730 [==============================] - 113s 17ms/step - loss: 0.3281 - accuracy: 0.8555 - val_loss: 0.3876 - val_accuracy: 0.8329\n",
      "Epoch 64/250\n",
      "6730/6730 [==============================] - 113s 17ms/step - loss: 0.3274 - accuracy: 0.8575 - val_loss: 0.3837 - val_accuracy: 0.8310\n",
      "Epoch 65/250\n",
      "3053/6730 [============>.................] - ETA: 54s - loss: 0.3223 - accuracy: 0.8586"
     ]
    }
   ],
   "source": [
    "history = model_high.fit([pep_train, aa_train, en_train, ec_train, e1_train, e2_train],\n",
    "                    y_train, \n",
    "                    epochs=250,\n",
    "                    batch_size=32,\n",
    "                    validation_data=([pep_val, aa_val, en_val, ec_val, e1_val, e2_val], y_val),\n",
    "                    callbacks=[es])"
   ]
  },
  {
   "cell_type": "code",
   "execution_count": null,
   "metadata": {
    "ExecuteTime": {
     "start_time": "2021-09-01T02:55:14.790Z"
    }
   },
   "outputs": [],
   "source": [
    "plt.figure(figsize=(16,2))\n",
    "plt.subplot(1,2,1)\n",
    "plot_graphs(history, 'accuracy')\n",
    "plt.subplot(1,2,2)\n",
    "plot_graphs(history, 'loss')"
   ]
  },
  {
   "cell_type": "markdown",
   "metadata": {},
   "source": [
    "# eval"
   ]
  },
  {
   "cell_type": "code",
   "execution_count": null,
   "metadata": {
    "ExecuteTime": {
     "start_time": "2021-09-01T02:55:15.694Z"
    }
   },
   "outputs": [],
   "source": [
    "test_loss, test_acc = model_high.evaluate([pep_test, aa_test, en_test, ec_test, e1_test, e2_test], y_test)\n",
    "print('Test Loss: {}'.format(test_loss))\n",
    "print('Test Accuracy: {}'.format(test_acc))\n",
    "\n",
    "# prediction\n",
    "y_pred = [1 if i>=0.5 else 0 for i in model_high.predict([pep_test, aa_test, en_test, ec_test, e1_test, e2_test])]\n",
    "print(classification_report(y_test, y_pred))\n",
    "# AUC\n",
    "probs = model_high.predict([pep_test, aa_test, en_test, ec_test, e1_test, e2_test])\n",
    "rf_auc = roc_auc_score(y_test, probs)\n",
    "print('rf auc : {}'.format(rf_auc))\n",
    "# plot the roc curve for the model_high\n",
    "rf_fpr, rf_tpr, _ = roc_curve(y_test, probs)\n",
    "plt.figure(figsize=(4, 4))\n",
    "plt.plot(rf_fpr, rf_tpr, marker='.', label='RF AUC = {:.4f}'.format(rf_auc), color='orange')\n",
    "plt.title('ROC curve')\n",
    "# axis labels\n",
    "plt.xlabel('False Positive Rate')\n",
    "plt.ylabel('True Positive Rate')\n",
    "# show the legend\n",
    "plt.legend()\n",
    "# show the plot\n",
    "plt.show()\n",
    "\n",
    "cf_matrix = confusion_matrix(y_test, y_pred)\n",
    "plt.figure(figsize=(3, 3))\n",
    "sns.heatmap(cf_matrix, annot=True, fmt=',.0f')\n",
    "plt.show()\n",
    "plt.figure(figsize=(3, 3))\n",
    "sns.heatmap(cf_matrix/np.sum(cf_matrix), annot=True, \n",
    "            fmt='.2%', cmap='Blues')\n",
    "plt.show()"
   ]
  },
  {
   "cell_type": "markdown",
   "metadata": {},
   "source": [
    "# best record.. ACC 83 AUC 91"
   ]
  },
  {
   "cell_type": "code",
   "execution_count": 27,
   "metadata": {
    "ExecuteTime": {
     "end_time": "2021-08-31T10:22:39.267159Z",
     "start_time": "2021-08-31T10:22:39.074615Z"
    }
   },
   "outputs": [
    {
     "data": {
      "image/png": "[encoded data removed]",
      "text/plain": [
       "<Figure size 1152x144 with 2 Axes>"
      ]
     },
     "metadata": {
      "needs_background": "light"
     },
     "output_type": "display_data"
    }
   ],
   "source": [
    "plt.figure(figsize=(16,2))\n",
    "plt.subplot(1,2,1)\n",
    "plot_graphs(history, 'accuracy')\n",
    "plt.subplot(1,2,2)\n",
    "plot_graphs(history, 'loss')"
   ]
  },
  {
   "cell_type": "markdown",
   "metadata": {},
   "source": [
    "# eval"
   ]
  },
  {
   "cell_type": "code",
   "execution_count": 28,
   "metadata": {
    "ExecuteTime": {
     "end_time": "2021-08-31T10:23:23.655009Z",
     "start_time": "2021-08-31T10:22:39.268591Z"
    }
   },
   "outputs": [
    {
     "name": "stdout",
     "output_type": "stream",
     "text": [
      "2104/2104 [==============================] - 15s 7ms/step - loss: 0.3823 - accuracy: 0.8308\n",
      "Test Loss: 0.38233307003974915\n",
      "Test Accuracy: 0.8308270573616028\n",
      "              precision    recall  f1-score   support\n",
      "\n",
      "           0       0.84      0.82      0.83     33706\n",
      "           1       0.82      0.84      0.83     33592\n",
      "\n",
      "    accuracy                           0.83     67298\n",
      "   macro avg       0.83      0.83      0.83     67298\n",
      "weighted avg       0.83      0.83      0.83     67298\n",
      "\n",
      "rf auc : 0.9108199249984601\n"
     ]
    },
    {
     "data": {
      "image/png": "[encoded data removed]",
      "text/plain": [
       "<Figure size 288x288 with 1 Axes>"
      ]
     },
     "metadata": {
      "needs_background": "light"
     },
     "output_type": "display_data"
    },
    {
     "data": {
      "image/png": "[encoded data removed]",
      "text/plain": [
       "<Figure size 216x216 with 2 Axes>"
      ]
     },
     "metadata": {
      "needs_background": "light"
     },
     "output_type": "display_data"
    },
    {
     "data": {
      "image/png": "[encoded data removed]",
      "text/plain": [
       "<Figure size 216x216 with 2 Axes>"
      ]
     },
     "metadata": {
      "needs_background": "light"
     },
     "output_type": "display_data"
    }
   ],
   "source": [
    "test_loss, test_acc = model_high.evaluate([pep_test, aa_test, en_test, ec_test, e1_test, e2_test], y_test)\n",
    "print('Test Loss: {}'.format(test_loss))\n",
    "print('Test Accuracy: {}'.format(test_acc))\n",
    "\n",
    "# prediction\n",
    "y_pred = [1 if i>=0.5 else 0 for i in model_high.predict([pep_test, aa_test, en_test, ec_test, e1_test, e2_test])]\n",
    "print(classification_report(y_test, y_pred))\n",
    "# AUC\n",
    "probs = model_high.predict([pep_test, aa_test, en_test, ec_test, e1_test, e2_test])\n",
    "rf_auc = roc_auc_score(y_test, probs)\n",
    "print('rf auc : {}'.format(rf_auc))\n",
    "# plot the roc curve for the model_high\n",
    "rf_fpr, rf_tpr, _ = roc_curve(y_test, probs)\n",
    "plt.figure(figsize=(4, 4))\n",
    "plt.plot(rf_fpr, rf_tpr, marker='.', label='RF AUC = {:.4f}'.format(rf_auc), color='orange')\n",
    "plt.title('ROC curve')\n",
    "# axis labels\n",
    "plt.xlabel('False Positive Rate')\n",
    "plt.ylabel('True Positive Rate')\n",
    "# show the legend\n",
    "plt.legend()\n",
    "# show the plot\n",
    "plt.show()\n",
    "\n",
    "cf_matrix = confusion_matrix(y_test, y_pred)\n",
    "plt.figure(figsize=(3, 3))\n",
    "sns.heatmap(cf_matrix, annot=True, fmt=',.0f')\n",
    "plt.show()\n",
    "plt.figure(figsize=(3, 3))\n",
    "sns.heatmap(cf_matrix/np.sum(cf_matrix), annot=True, \n",
    "            fmt='.2%', cmap='Blues')\n",
    "plt.show()"
   ]
  }
 ],
 "metadata": {
  "kernelspec": {
   "display_name": "TF2.4",
   "language": "python",
   "name": "tf2.4"
  },
  "language_info": {
   "codemirror_mode": {
    "name": "ipython",
    "version": 3
   },
   "file_extension": ".py",
   "mimetype": "text/x-python",
   "name": "python",
   "nbconvert_exporter": "python",
   "pygments_lexer": "ipython3",
   "version": "3.7.0"
  }
 },
 "nbformat": 4,
 "nbformat_minor": 4
}
