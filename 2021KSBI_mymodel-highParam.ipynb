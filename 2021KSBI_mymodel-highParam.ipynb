{
 "cells": [
  {
   "cell_type": "code",
   "execution_count": 1,
   "metadata": {
    "ExecuteTime": {
     "end_time": "2021-08-31T03:35:32.263522Z",
     "start_time": "2021-08-31T03:35:31.518739Z"
    }
   },
   "outputs": [],
   "source": [
    "import pandas as pd\n",
    "import numpy as np\n",
    "import matplotlib.pyplot as plt\n",
    "import seaborn as sns\n",
    "from sklearn.metrics import classification_report\n",
    "from sklearn.metrics import confusion_matrix\n",
    "from sklearn.metrics import roc_curve\n",
    "from sklearn.metrics import roc_auc_score\n",
    "from sklearn.model_selection import train_test_split"
   ]
  },
  {
   "cell_type": "code",
   "execution_count": 2,
   "metadata": {
    "ExecuteTime": {
     "end_time": "2021-08-31T03:35:32.780777Z",
     "start_time": "2021-08-31T03:35:32.771564Z"
    }
   },
   "outputs": [
    {
     "name": "stdout",
     "output_type": "stream",
     "text": [
      "(19, 21)\n"
     ]
    }
   ],
   "source": [
    "df_aaindex = pd.read_csv('data/aaindex/df_aaindex19.csv')\n",
    "print(df_aaindex.shape)\n",
    "df_aaindex.head(1)\n",
    "tmp = df_aaindex.drop('Unnamed: 0',axis=1).T\n",
    "aa2val = dict()\n",
    "for aa, val in zip(tmp.index, tmp.values):\n",
    "    aa2val[aa]=val"
   ]
  },
  {
   "cell_type": "code",
   "execution_count": 3,
   "metadata": {
    "ExecuteTime": {
     "end_time": "2021-08-31T03:35:34.145981Z",
     "start_time": "2021-08-31T03:35:33.218700Z"
    }
   },
   "outputs": [],
   "source": [
    "df_detect_peptide_train = pd.read_csv('data/df_detect_peptide_train.csv')\n",
    "test = pd.read_csv('data/df_detect_peptide_test.csv')\n",
    "train, val = train_test_split(df_detect_peptide_train, test_size=0.2, random_state=7)"
   ]
  },
  {
   "cell_type": "code",
   "execution_count": 4,
   "metadata": {
    "ExecuteTime": {
     "end_time": "2021-08-31T03:35:34.287566Z",
     "start_time": "2021-08-31T03:35:34.276012Z"
    }
   },
   "outputs": [
    {
     "data": {
      "text/html": [
       "<div>\n",
       "<style scoped>\n",
       "    .dataframe tbody tr th:only-of-type {\n",
       "        vertical-align: middle;\n",
       "    }\n",
       "\n",
       "    .dataframe tbody tr th {\n",
       "        vertical-align: top;\n",
       "    }\n",
       "\n",
       "    .dataframe thead th {\n",
       "        text-align: right;\n",
       "    }\n",
       "</style>\n",
       "<table border=\"1\" class=\"dataframe\">\n",
       "  <thead>\n",
       "    <tr style=\"text-align: right;\">\n",
       "      <th></th>\n",
       "      <th>peptide</th>\n",
       "      <th>En</th>\n",
       "      <th>Ec</th>\n",
       "      <th>E1</th>\n",
       "      <th>E2</th>\n",
       "      <th>protein</th>\n",
       "      <th>PEP</th>\n",
       "      <th>ID</th>\n",
       "    </tr>\n",
       "  </thead>\n",
       "  <tbody>\n",
       "    <tr>\n",
       "      <th>210101</th>\n",
       "      <td>R.MDKVHSEAER.L</td>\n",
       "      <td>QQKVLQQRMDKVHSE</td>\n",
       "      <td>KVHSEAERLEARFQD</td>\n",
       "      <td>VLQQRMDKVHSEAER</td>\n",
       "      <td>-</td>\n",
       "      <td>sp|Q96M63|CC114_HUMAN</td>\n",
       "      <td>MDKVHSEAER</td>\n",
       "      <td>0</td>\n",
       "    </tr>\n",
       "  </tbody>\n",
       "</table>\n",
       "</div>"
      ],
      "text/plain": [
       "               peptide               En               Ec               E1 E2  \\\n",
       "210101  R.MDKVHSEAER.L  QQKVLQQRMDKVHSE  KVHSEAERLEARFQD  VLQQRMDKVHSEAER  -   \n",
       "\n",
       "                      protein         PEP  ID  \n",
       "210101  sp|Q96M63|CC114_HUMAN  MDKVHSEAER   0  "
      ]
     },
     "execution_count": 4,
     "metadata": {},
     "output_type": "execute_result"
    }
   ],
   "source": [
    "train.head(1)"
   ]
  },
  {
   "cell_type": "code",
   "execution_count": 5,
   "metadata": {
    "ExecuteTime": {
     "end_time": "2021-08-31T03:35:35.490610Z",
     "start_time": "2021-08-31T03:35:35.483815Z"
    }
   },
   "outputs": [],
   "source": [
    "def get_data(df):\n",
    "    aa_data = [np.array([seq.count(a) for a in 'ARNDCQEGHILKMFPSTWYVZ'] + list(np.array([aa2val[aa] for aa in seq]).sum(axis=0)))\n",
    "               for seq in df.PEP.values]\n",
    "    pep_data = [[[1 if aa == a else 0 for a in 'ARNDCQEGHILKMFPSTWYVZ'] for aa in seq] + [[0]*21]*(30-len(seq))\n",
    "               for seq in df.PEP.values]\n",
    "    en_data = [[[1 if aa == a else 0 for a in 'ARNDCQEGHILKMFPSTWYVZ'] for aa in seq]\n",
    "               for seq in df.En.values]\n",
    "    ec_data = [[[1 if aa == a else 0 for a in 'ARNDCQEGHILKMFPSTWYVZ'] for aa in seq]\n",
    "               for seq in df.Ec.values]\n",
    "    e1_data = [[[1 if aa == a else 0 for a in 'ARNDCQEGHILKMFPSTWYVZ'] for aa in seq]\n",
    "               if seq != '-' else [[0]*21 for _ in range(15)]\n",
    "               for seq in df.E1.values]\n",
    "    e2_data = [[[1 if aa == a else 0 for a in 'ARNDCQEGHILKMFPSTWYVZ'] for aa in seq]\n",
    "               if seq != '-' else [[0]*21 for _ in range(15)]\n",
    "               for seq in df.E2.values]\n",
    "    return np.array(aa_data), np.array(pep_data), np.array(en_data), np.array(ec_data), np.array(e1_data), np.array(e2_data), np.array(df.ID.values)"
   ]
  },
  {
   "cell_type": "code",
   "execution_count": 6,
   "metadata": {
    "ExecuteTime": {
     "end_time": "2021-08-31T03:38:02.971112Z",
     "start_time": "2021-08-31T03:35:37.595063Z"
    }
   },
   "outputs": [
    {
     "name": "stdout",
     "output_type": "stream",
     "text": [
      "(215352, 40) (215352, 30, 21) (215352, 15, 21) (215352, 15, 21) (215352, 15, 21) (215352, 15, 21) (215352,)\n",
      "(53838, 40) (53838, 30, 21) (53838, 15, 21) (53838, 15, 21) (53838, 15, 21) (53838, 15, 21) (53838,)\n",
      "(67298, 40) (67298, 30, 21) (67298, 15, 21) (67298, 15, 21) (67298, 15, 21) (67298, 15, 21) (67298,)\n"
     ]
    }
   ],
   "source": [
    "aa_train, pep_train, en_train, ec_train, e1_train, e2_train, y_train = get_data(train)\n",
    "\n",
    "aa_val, pep_val, en_val, ec_val, e1_val, e2_val, y_val = get_data(val)\n",
    "\n",
    "aa_test, pep_test, en_test, ec_test, e1_test, e2_test, y_test = get_data(test)\n",
    "\n",
    "print(aa_train.shape, pep_train.shape, en_train.shape, ec_train.shape, e1_train.shape, e2_train.shape, y_train.shape)\n",
    "\n",
    "print(aa_val.shape, pep_val.shape, en_val.shape, ec_val.shape, e1_val.shape, e2_val.shape, y_val.shape)\n",
    "\n",
    "print(aa_test.shape, pep_test.shape, en_test.shape, ec_test.shape, e1_test.shape, e2_test.shape, y_test.shape)"
   ]
  },
  {
   "cell_type": "markdown",
   "metadata": {},
   "source": [
    "# Train"
   ]
  },
  {
   "cell_type": "code",
   "execution_count": 7,
   "metadata": {
    "ExecuteTime": {
     "end_time": "2021-08-31T03:38:04.004285Z",
     "start_time": "2021-08-31T03:38:02.972349Z"
    }
   },
   "outputs": [],
   "source": [
    "from tensorflow.python.client import device_lib\n",
    "\n",
    "import tensorflow as tf\n",
    "gpus = tf.config.experimental.list_physical_devices('GPU')\n",
    "if gpus:\n",
    "    try:\n",
    "        tf.config.experimental.set_virtual_device_configuration(gpus[0],\n",
    "        [tf.config.experimental.VirtualDeviceConfiguration(memory_limit=1024*8)])\n",
    "    except RuntimeError as e:\n",
    "        print(e)"
   ]
  },
  {
   "cell_type": "code",
   "execution_count": 8,
   "metadata": {
    "ExecuteTime": {
     "end_time": "2021-08-31T03:38:04.008471Z",
     "start_time": "2021-08-31T03:38:04.005839Z"
    }
   },
   "outputs": [],
   "source": [
    "def plot_graphs(history, metric):\n",
    "    plt.plot(history.history[metric])\n",
    "    plt.plot(history.history['val_'+metric], '')\n",
    "    plt.xlabel(\"Epochs\")\n",
    "    plt.ylabel(metric)\n",
    "    plt.legend([metric, 'val_'+metric])"
   ]
  },
  {
   "cell_type": "markdown",
   "metadata": {},
   "source": [
    "# high param"
   ]
  },
  {
   "cell_type": "code",
   "execution_count": 74,
   "metadata": {
    "ExecuteTime": {
     "end_time": "2021-09-03T02:09:20.038324Z",
     "start_time": "2021-09-03T02:09:18.252225Z"
    }
   },
   "outputs": [
    {
     "name": "stdout",
     "output_type": "stream",
     "text": [
      "Model: \"model_16\"\n",
      "__________________________________________________________________________________________________\n",
      "Layer (type)                    Output Shape         Param #     Connected to                     \n",
      "==================================================================================================\n",
      "input_103 (InputLayer)          [(None, 30, 21)]     0                                            \n",
      "__________________________________________________________________________________________________\n",
      "input_105 (InputLayer)          [(None, 15, 21)]     0                                            \n",
      "__________________________________________________________________________________________________\n",
      "input_106 (InputLayer)          [(None, 15, 21)]     0                                            \n",
      "__________________________________________________________________________________________________\n",
      "input_107 (InputLayer)          [(None, 15, 21)]     0                                            \n",
      "__________________________________________________________________________________________________\n",
      "input_108 (InputLayer)          [(None, 15, 21)]     0                                            \n",
      "__________________________________________________________________________________________________\n",
      "bidirectional_85 (Bidirectional (None, 32)           4864        input_103[0][0]                  \n",
      "__________________________________________________________________________________________________\n",
      "bidirectional_86 (Bidirectional (None, 32)           4864        input_105[0][0]                  \n",
      "__________________________________________________________________________________________________\n",
      "bidirectional_87 (Bidirectional (None, 32)           4864        input_106[0][0]                  \n",
      "__________________________________________________________________________________________________\n",
      "bidirectional_88 (Bidirectional (None, 32)           4864        input_107[0][0]                  \n",
      "__________________________________________________________________________________________________\n",
      "bidirectional_89 (Bidirectional (None, 32)           4864        input_108[0][0]                  \n",
      "__________________________________________________________________________________________________\n",
      "dense_153 (Dense)               (None, 32)           1056        bidirectional_85[0][0]           \n",
      "__________________________________________________________________________________________________\n",
      "input_104 (InputLayer)          [(None, 40)]         0                                            \n",
      "__________________________________________________________________________________________________\n",
      "dense_155 (Dense)               (None, 32)           1056        bidirectional_86[0][0]           \n",
      "__________________________________________________________________________________________________\n",
      "dense_156 (Dense)               (None, 32)           1056        bidirectional_87[0][0]           \n",
      "__________________________________________________________________________________________________\n",
      "dense_157 (Dense)               (None, 32)           1056        bidirectional_88[0][0]           \n",
      "__________________________________________________________________________________________________\n",
      "dense_158 (Dense)               (None, 32)           1056        bidirectional_89[0][0]           \n",
      "__________________________________________________________________________________________________\n",
      "dropout_29 (Dropout)            (None, 32)           0           dense_153[0][0]                  \n",
      "__________________________________________________________________________________________________\n",
      "dense_154 (Dense)               (None, 32)           1312        input_104[0][0]                  \n",
      "__________________________________________________________________________________________________\n",
      "dropout_30 (Dropout)            (None, 32)           0           dense_155[0][0]                  \n",
      "__________________________________________________________________________________________________\n",
      "dropout_31 (Dropout)            (None, 32)           0           dense_156[0][0]                  \n",
      "__________________________________________________________________________________________________\n",
      "dropout_32 (Dropout)            (None, 32)           0           dense_157[0][0]                  \n",
      "__________________________________________________________________________________________________\n",
      "dropout_33 (Dropout)            (None, 32)           0           dense_158[0][0]                  \n",
      "__________________________________________________________________________________________________\n",
      "concatenate_17 (Concatenate)    (None, 192)          0           dropout_29[0][0]                 \n",
      "                                                                 dense_154[0][0]                  \n",
      "                                                                 dropout_30[0][0]                 \n",
      "                                                                 dropout_31[0][0]                 \n",
      "                                                                 dropout_32[0][0]                 \n",
      "                                                                 dropout_33[0][0]                 \n",
      "__________________________________________________________________________________________________\n",
      "dense_159 (Dense)               (None, 128)          24704       concatenate_17[0][0]             \n",
      "__________________________________________________________________________________________________\n",
      "dense_160 (Dense)               (None, 1)            129         dense_159[0][0]                  \n",
      "==================================================================================================\n",
      "Total params: 55,745\n",
      "Trainable params: 55,745\n",
      "Non-trainable params: 0\n",
      "__________________________________________________________________________________________________\n"
     ]
    }
   ],
   "source": [
    "input1 = tf.keras.layers.Input(shape=((30,21,)))  # peptide with zero padding\n",
    "input2 = tf.keras.layers.Input(shape=((40,)))  # peptide info\n",
    "input3 = tf.keras.layers.Input(shape=((15,21,)))  # N term info\n",
    "input4 = tf.keras.layers.Input(shape=((15,21,)))  # C term info\n",
    "input5 = tf.keras.layers.Input(shape=((15,21,)))  # miss1 term info\n",
    "input6 = tf.keras.layers.Input(shape=((15,21,)))  # miss2 term info\n",
    "\n",
    "\n",
    "lstm1 = tf.keras.layers.Bidirectional(tf.keras.layers.LSTM(16))(input1)\n",
    "net_lstm_ = tf.keras.layers.Dense(32, activation='relu')(lstm1)\n",
    "net_lstm = tf.keras.layers.Dropout(np.random.uniform(0, 0.2))(net_lstm_)\n",
    "\n",
    "net_dense1 = tf.keras.layers.Dense(32, activation='relu')(input2)\n",
    "\n",
    "digest_n = tf.keras.layers.Bidirectional(tf.keras.layers.LSTM(16))(input3)\n",
    "net_n_ = tf.keras.layers.Dense(32, activation='relu')(digest_n)\n",
    "net_n = tf.keras.layers.Dropout(np.random.uniform(0, 0.2))(net_n_)\n",
    "\n",
    "digest_c = tf.keras.layers.Bidirectional(tf.keras.layers.LSTM(16))(input4)\n",
    "net_c_ = tf.keras.layers.Dense(32, activation='relu')(digest_c)\n",
    "net_c = tf.keras.layers.Dropout(np.random.uniform(0, 0.2))(net_c_)\n",
    "\n",
    "digest_m1 = tf.keras.layers.Bidirectional(tf.keras.layers.LSTM(16))(input5)\n",
    "net_m1_ = tf.keras.layers.Dense(32, activation='relu')(digest_m1)\n",
    "net_m1 = tf.keras.layers.Dropout(np.random.uniform(0, 0.2))(net_m1_)\n",
    "\n",
    "digest_m2 = tf.keras.layers.Bidirectional(tf.keras.layers.LSTM(16))(input6)\n",
    "net_m2_ = tf.keras.layers.Dense(32, activation='relu')(digest_m2)\n",
    "net_m2 = tf.keras.layers.Dropout(np.random.uniform(0, 0.2))(net_m2_)\n",
    "\n",
    "merge = tf.keras.layers.concatenate([net_lstm, \n",
    "                                     net_dense1,\n",
    "                                    net_n,\n",
    "                                    net_c,\n",
    "                                    net_m1,\n",
    "                                    net_m2])\n",
    "\n",
    "# net1 = tf.keras.layers.Dense(128, activation='relu')(merge)\n",
    "# net1_drop = tf.keras.layers.Dropout(np.random.uniform(0, 0.2))(net1)\n",
    "net3 = tf.keras.layers.Dense(128, activation='relu')(merge)\n",
    "# net1_drop = tf.keras.layers.Dropout(np.random.uniform(0, 0.2))(net1)\n",
    "output = tf.keras.layers.Dense(1, activation = 'sigmoid')(net3)\n",
    "\n",
    "model_high = tf.keras.Model(inputs=[input1, input2,\n",
    "                              input3, input4,\n",
    "                              input5, input6],\n",
    "                       outputs=[output])\n",
    "\n",
    "model_high.summary()\n",
    "\n",
    "model_high.compile(loss=tf.keras.losses.BinaryCrossentropy(from_logits=True),\n",
    "              optimizer=tf.keras.optimizers.Adam(1e-3),\n",
    "              metrics=['accuracy'])\n",
    "\n",
    "es = tf.keras.callbacks.EarlyStopping(monitor='val_loss',\n",
    "                                      mode='min', \n",
    "                                      verbose=1,\n",
    "                                      patience=20)"
   ]
  },
  {
   "cell_type": "code",
   "execution_count": 75,
   "metadata": {
    "ExecuteTime": {
     "end_time": "2021-09-03T02:27:25.915295Z",
     "start_time": "2021-09-03T02:09:23.181701Z"
    },
    "scrolled": true
   },
   "outputs": [
    {
     "name": "stdout",
     "output_type": "stream",
     "text": [
      "Epoch 1/250\n",
      "1683/1683 [==============================] - 44s 20ms/step - loss: 1.2288 - accuracy: 0.7170 - val_loss: 0.4305 - val_accuracy: 0.8018\n",
      "Epoch 2/250\n",
      "1683/1683 [==============================] - 31s 18ms/step - loss: 0.4443 - accuracy: 0.7961 - val_loss: 0.4621 - val_accuracy: 0.7891\n",
      "Epoch 3/250\n",
      "1683/1683 [==============================] - 31s 18ms/step - loss: 0.4211 - accuracy: 0.8075 - val_loss: 0.3986 - val_accuracy: 0.8197\n",
      "Epoch 4/250\n",
      "1683/1683 [==============================] - 31s 18ms/step - loss: 0.4015 - accuracy: 0.8183 - val_loss: 0.4022 - val_accuracy: 0.8194\n",
      "Epoch 5/250\n",
      "1683/1683 [==============================] - 32s 19ms/step - loss: 0.3912 - accuracy: 0.8231 - val_loss: 0.3888 - val_accuracy: 0.8251\n",
      "Epoch 6/250\n",
      "1683/1683 [==============================] - 31s 19ms/step - loss: 0.3833 - accuracy: 0.8281 - val_loss: 0.3845 - val_accuracy: 0.8274\n",
      "Epoch 7/250\n",
      "1683/1683 [==============================] - 32s 19ms/step - loss: 0.3797 - accuracy: 0.8290 - val_loss: 0.3866 - val_accuracy: 0.8258\n",
      "Epoch 8/250\n",
      "1683/1683 [==============================] - 32s 19ms/step - loss: 0.3748 - accuracy: 0.8319 - val_loss: 0.3833 - val_accuracy: 0.8293\n",
      "Epoch 9/250\n",
      "1683/1683 [==============================] - 32s 19ms/step - loss: 0.3705 - accuracy: 0.8350 - val_loss: 0.3801 - val_accuracy: 0.8298\n",
      "Epoch 10/250\n",
      "1683/1683 [==============================] - 32s 19ms/step - loss: 0.3674 - accuracy: 0.8361 - val_loss: 0.3779 - val_accuracy: 0.8330\n",
      "Epoch 11/250\n",
      "1683/1683 [==============================] - 31s 19ms/step - loss: 0.3648 - accuracy: 0.8373 - val_loss: 0.3779 - val_accuracy: 0.8322\n",
      "Epoch 12/250\n",
      "1683/1683 [==============================] - 31s 18ms/step - loss: 0.3633 - accuracy: 0.8380 - val_loss: 0.3772 - val_accuracy: 0.8324\n",
      "Epoch 13/250\n",
      "1683/1683 [==============================] - 31s 19ms/step - loss: 0.3610 - accuracy: 0.8395 - val_loss: 0.3755 - val_accuracy: 0.8356\n",
      "Epoch 14/250\n",
      "1683/1683 [==============================] - 31s 19ms/step - loss: 0.3569 - accuracy: 0.8411 - val_loss: 0.3736 - val_accuracy: 0.8350\n",
      "Epoch 15/250\n",
      "1683/1683 [==============================] - 32s 19ms/step - loss: 0.3540 - accuracy: 0.8438 - val_loss: 0.3747 - val_accuracy: 0.8349\n",
      "Epoch 16/250\n",
      "1683/1683 [==============================] - 31s 19ms/step - loss: 0.3510 - accuracy: 0.8450 - val_loss: 0.3737 - val_accuracy: 0.8353\n",
      "Epoch 17/250\n",
      "1683/1683 [==============================] - 32s 19ms/step - loss: 0.3496 - accuracy: 0.8466 - val_loss: 0.3780 - val_accuracy: 0.8313\n",
      "Epoch 18/250\n",
      "1683/1683 [==============================] - 31s 19ms/step - loss: 0.3499 - accuracy: 0.8450 - val_loss: 0.3747 - val_accuracy: 0.8352\n",
      "Epoch 19/250\n",
      "1683/1683 [==============================] - 31s 19ms/step - loss: 0.3458 - accuracy: 0.8477 - val_loss: 0.3790 - val_accuracy: 0.8337\n",
      "Epoch 20/250\n",
      "1683/1683 [==============================] - 31s 19ms/step - loss: 0.3448 - accuracy: 0.8484 - val_loss: 0.3789 - val_accuracy: 0.8324\n",
      "Epoch 21/250\n",
      "1683/1683 [==============================] - 31s 19ms/step - loss: 0.3426 - accuracy: 0.8497 - val_loss: 0.3772 - val_accuracy: 0.8345\n",
      "Epoch 22/250\n",
      "1683/1683 [==============================] - 31s 19ms/step - loss: 0.3388 - accuracy: 0.8521 - val_loss: 0.3810 - val_accuracy: 0.8317\n",
      "Epoch 23/250\n",
      "1683/1683 [==============================] - 31s 19ms/step - loss: 0.3360 - accuracy: 0.8530 - val_loss: 0.3780 - val_accuracy: 0.8318\n",
      "Epoch 24/250\n",
      "1683/1683 [==============================] - 31s 18ms/step - loss: 0.3364 - accuracy: 0.8520 - val_loss: 0.3828 - val_accuracy: 0.8317\n",
      "Epoch 25/250\n",
      "1683/1683 [==============================] - 31s 19ms/step - loss: 0.3335 - accuracy: 0.8534 - val_loss: 0.3911 - val_accuracy: 0.8304\n",
      "Epoch 26/250\n",
      "1683/1683 [==============================] - 32s 19ms/step - loss: 0.3292 - accuracy: 0.8559 - val_loss: 0.3825 - val_accuracy: 0.8314\n",
      "Epoch 27/250\n",
      "1683/1683 [==============================] - 32s 19ms/step - loss: 0.3265 - accuracy: 0.8575 - val_loss: 0.3837 - val_accuracy: 0.8314\n",
      "Epoch 28/250\n",
      "1683/1683 [==============================] - 31s 19ms/step - loss: 0.3252 - accuracy: 0.8586 - val_loss: 0.3861 - val_accuracy: 0.8303\n",
      "Epoch 29/250\n",
      "1683/1683 [==============================] - 32s 19ms/step - loss: 0.3268 - accuracy: 0.8575 - val_loss: 0.3882 - val_accuracy: 0.8308\n",
      "Epoch 30/250\n",
      "1683/1683 [==============================] - 32s 19ms/step - loss: 0.3227 - accuracy: 0.8596 - val_loss: 0.3884 - val_accuracy: 0.8283\n",
      "Epoch 31/250\n",
      "1683/1683 [==============================] - 32s 19ms/step - loss: 0.3216 - accuracy: 0.8594 - val_loss: 0.3879 - val_accuracy: 0.8286\n",
      "Epoch 32/250\n",
      "1683/1683 [==============================] - 31s 19ms/step - loss: 0.3181 - accuracy: 0.8614 - val_loss: 0.3895 - val_accuracy: 0.8281\n",
      "Epoch 33/250\n",
      "1683/1683 [==============================] - 31s 19ms/step - loss: 0.3169 - accuracy: 0.8623 - val_loss: 0.3904 - val_accuracy: 0.8302\n",
      "Epoch 34/250\n",
      "1683/1683 [==============================] - 32s 19ms/step - loss: 0.3144 - accuracy: 0.8633 - val_loss: 0.3958 - val_accuracy: 0.8259\n",
      "Epoch 00034: early stopping\n"
     ]
    }
   ],
   "source": [
    "history = model_high.fit([pep_train, aa_train, en_train, ec_train, e1_train, e2_train],\n",
    "                    y_train, \n",
    "                    epochs=250,\n",
    "                    batch_size=128,\n",
    "                    validation_data=([pep_val, aa_val, en_val, ec_val, e1_val, e2_val], y_val),\n",
    "                    callbacks=[es])"
   ]
  },
  {
   "cell_type": "code",
   "execution_count": 76,
   "metadata": {
    "ExecuteTime": {
     "end_time": "2021-09-03T02:27:26.129265Z",
     "start_time": "2021-09-03T02:27:25.917111Z"
    }
   },
   "outputs": [
    {
     "data": {
      "image/png": "[encoded data removed]",
      "text/plain": [
       "<Figure size 1152x144 with 2 Axes>"
      ]
     },
     "metadata": {
      "needs_background": "light"
     },
     "output_type": "display_data"
    }
   ],
   "source": [
    "plt.figure(figsize=(16,2))\n",
    "plt.subplot(1,2,1)\n",
    "plot_graphs(history, 'accuracy')\n",
    "plt.subplot(1,2,2)\n",
    "plot_graphs(history, 'loss')"
   ]
  },
  {
   "cell_type": "markdown",
   "metadata": {},
   "source": [
    "# eval"
   ]
  },
  {
   "cell_type": "code",
   "execution_count": 77,
   "metadata": {
    "ExecuteTime": {
     "end_time": "2021-09-03T02:28:09.981044Z",
     "start_time": "2021-09-03T02:27:26.130675Z"
    },
    "scrolled": false
   },
   "outputs": [
    {
     "name": "stdout",
     "output_type": "stream",
     "text": [
      "2104/2104 [==============================] - 13s 6ms/step - loss: 0.3932 - accuracy: 0.8266\n",
      "Test Loss: 0.39318710565567017\n",
      "Test Accuracy: 0.8266218900680542\n",
      "              precision    recall  f1-score   support\n",
      "\n",
      "           0       0.82      0.83      0.83     33706\n",
      "           1       0.83      0.82      0.83     33592\n",
      "\n",
      "    accuracy                           0.83     67298\n",
      "   macro avg       0.83      0.83      0.83     67298\n",
      "weighted avg       0.83      0.83      0.83     67298\n",
      "\n",
      "rf auc : 0.9073120560184293\n"
     ]
    },
    {
     "data": {
      "image/png": "[encoded data removed]",
      "text/plain": [
       "<Figure size 288x288 with 1 Axes>"
      ]
     },
     "metadata": {
      "needs_background": "light"
     },
     "output_type": "display_data"
    },
    {
     "data": {
      "image/png": "[encoded data removed]",
      "text/plain": [
       "<Figure size 216x216 with 2 Axes>"
      ]
     },
     "metadata": {
      "needs_background": "light"
     },
     "output_type": "display_data"
    },
    {
     "data": {
      "image/png": "[encoded data removed]",
      "text/plain": [
       "<Figure size 216x216 with 2 Axes>"
      ]
     },
     "metadata": {
      "needs_background": "light"
     },
     "output_type": "display_data"
    }
   ],
   "source": [
    "test_loss, test_acc = model_high.evaluate([pep_test, aa_test, en_test, ec_test, e1_test, e2_test], y_test)\n",
    "print('Test Loss: {}'.format(test_loss))\n",
    "print('Test Accuracy: {}'.format(test_acc))\n",
    "\n",
    "# prediction\n",
    "y_pred = [1 if i>=0.5 else 0 for i in model_high.predict([pep_test, aa_test, en_test, ec_test, e1_test, e2_test])]\n",
    "print(classification_report(y_test, y_pred))\n",
    "# AUC\n",
    "probs = model_high.predict([pep_test, aa_test, en_test, ec_test, e1_test, e2_test])\n",
    "rf_auc = roc_auc_score(y_test, probs)\n",
    "print('rf auc : {}'.format(rf_auc))\n",
    "# plot the roc curve for the model_high\n",
    "rf_fpr, rf_tpr, _ = roc_curve(y_test, probs)\n",
    "plt.figure(figsize=(4, 4))\n",
    "plt.plot(rf_fpr, rf_tpr, marker='.', label='RF AUC = {:.4f}'.format(rf_auc), color='orange')\n",
    "plt.title('ROC curve')\n",
    "# axis labels\n",
    "plt.xlabel('False Positive Rate')\n",
    "plt.ylabel('True Positive Rate')\n",
    "# show the legend\n",
    "plt.legend()\n",
    "# show the plot\n",
    "plt.show()\n",
    "\n",
    "cf_matrix = confusion_matrix(y_test, y_pred)\n",
    "plt.figure(figsize=(3, 3))\n",
    "sns.heatmap(cf_matrix, annot=True, fmt=',.0f')\n",
    "plt.show()\n",
    "plt.figure(figsize=(3, 3))\n",
    "sns.heatmap(cf_matrix/np.sum(cf_matrix), annot=True, \n",
    "            fmt='.2%', cmap='Blues')\n",
    "plt.show()"
   ]
  },
  {
   "cell_type": "markdown",
   "metadata": {},
   "source": [
    "# best record.. ACC 83 AUC 91"
   ]
  },
  {
   "cell_type": "code",
   "execution_count": 64,
   "metadata": {
    "ExecuteTime": {
     "end_time": "2021-09-02T10:18:03.530632Z",
     "start_time": "2021-09-02T10:17:19.324377Z"
    },
    "scrolled": false
   },
   "outputs": [
    {
     "name": "stdout",
     "output_type": "stream",
     "text": [
      "2104/2104 [==============================] - 14s 7ms/step - loss: 0.3724 - accuracy: 0.8350\n",
      "Test Loss: 0.37239736318588257\n",
      "Test Accuracy: 0.8350025415420532\n",
      "              precision    recall  f1-score   support\n",
      "\n",
      "           0       0.83      0.84      0.84     33706\n",
      "           1       0.84      0.83      0.83     33592\n",
      "\n",
      "    accuracy                           0.84     67298\n",
      "   macro avg       0.84      0.83      0.83     67298\n",
      "weighted avg       0.84      0.84      0.83     67298\n",
      "\n",
      "rf auc : 0.9144610840997695\n"
     ]
    },
    {
     "data": {
      "image/png": "[encoded data removed]",
      "text/plain": [
       "<Figure size 288x288 with 1 Axes>"
      ]
     },
     "metadata": {
      "needs_background": "light"
     },
     "output_type": "display_data"
    },
    {
     "data": {
      "image/png": "[encoded data removed]",
      "text/plain": [
       "<Figure size 216x216 with 2 Axes>"
      ]
     },
     "metadata": {
      "needs_background": "light"
     },
     "output_type": "display_data"
    },
    {
     "data": {
      "image/png": "[encoded data removed]",
      "text/plain": [
       "<Figure size 216x216 with 2 Axes>"
      ]
     },
     "metadata": {
      "needs_background": "light"
     },
     "output_type": "display_data"
    }
   ],
   "source": [
    "# batch 32, lr 1e-4\n",
    "test_loss, test_acc = model_high.evaluate([pep_test, aa_test, en_test, ec_test, e1_test, e2_test], y_test)\n",
    "print('Test Loss: {}'.format(test_loss))\n",
    "print('Test Accuracy: {}'.format(test_acc))\n",
    "\n",
    "# prediction\n",
    "y_pred = [1 if i>=0.5 else 0 for i in model_high.predict([pep_test, aa_test, en_test, ec_test, e1_test, e2_test])]\n",
    "print(classification_report(y_test, y_pred))\n",
    "# AUC\n",
    "probs = model_high.predict([pep_test, aa_test, en_test, ec_test, e1_test, e2_test])\n",
    "rf_auc = roc_auc_score(y_test, probs)\n",
    "print('rf auc : {}'.format(rf_auc))\n",
    "# plot the roc curve for the model_high\n",
    "rf_fpr, rf_tpr, _ = roc_curve(y_test, probs)\n",
    "plt.figure(figsize=(4, 4))\n",
    "plt.plot(rf_fpr, rf_tpr, marker='.', label='RF AUC = {:.4f}'.format(rf_auc), color='orange')\n",
    "plt.title('ROC curve')\n",
    "# axis labels\n",
    "plt.xlabel('False Positive Rate')\n",
    "plt.ylabel('True Positive Rate')\n",
    "# show the legend\n",
    "plt.legend()\n",
    "# show the plot\n",
    "plt.show()\n",
    "\n",
    "cf_matrix = confusion_matrix(y_test, y_pred)\n",
    "plt.figure(figsize=(3, 3))\n",
    "sns.heatmap(cf_matrix, annot=True, fmt=',.0f')\n",
    "plt.show()\n",
    "plt.figure(figsize=(3, 3))\n",
    "sns.heatmap(cf_matrix/np.sum(cf_matrix), annot=True, \n",
    "            fmt='.2%', cmap='Blues')\n",
    "plt.show()"
   ]
  },
  {
   "cell_type": "code",
   "execution_count": null,
   "metadata": {},
   "outputs": [],
   "source": [
    "# input1 = tf.keras.layers.Input(shape=((30,21,)))  # peptide with zero padding\n",
    "# input2 = tf.keras.layers.Input(shape=((40,)))  # peptide info\n",
    "# input3 = tf.keras.layers.Input(shape=((15,21,)))  # N term info\n",
    "# input4 = tf.keras.layers.Input(shape=((15,21,)))  # C term info\n",
    "# input5 = tf.keras.layers.Input(shape=((15,21,)))  # miss1 term info\n",
    "# input6 = tf.keras.layers.Input(shape=((15,21,)))  # miss2 term info\n",
    "\n",
    "\n",
    "# lstm1 = tf.keras.layers.Bidirectional(tf.keras.layers.LSTM(16))(input1)\n",
    "# net_lstm = tf.keras.layers.Dense(32, activation='relu')(lstm1)\n",
    "\n",
    "# net_dense1 = tf.keras.layers.Dense(32, activation='relu')(input2)\n",
    "\n",
    "# digest_n = tf.keras.layers.Bidirectional(tf.keras.layers.LSTM(16))(input3)\n",
    "# net_n = tf.keras.layers.Dense(32, activation='relu')(digest_n)\n",
    "# digest_c = tf.keras.layers.Bidirectional(tf.keras.layers.LSTM(16))(input4)\n",
    "# net_c = tf.keras.layers.Dense(32, activation='relu')(digest_c)\n",
    "# digest_m1 = tf.keras.layers.Bidirectional(tf.keras.layers.LSTM(16))(input5)\n",
    "# net_m1 = tf.keras.layers.Dense(32, activation='relu')(digest_m1)\n",
    "# digest_m2 = tf.keras.layers.Bidirectional(tf.keras.layers.LSTM(16))(input6)\n",
    "# net_m2 = tf.keras.layers.Dense(32, activation='relu')(digest_m2)\n",
    "\n",
    "# merge = tf.keras.layers.concatenate([net_lstm, \n",
    "#                                      net_dense1,\n",
    "#                                     net_n,\n",
    "#                                     net_c,\n",
    "#                                     net_m1,\n",
    "#                                     net_m2])\n",
    "\n",
    "# net1 = tf.keras.layers.Dense(128, activation='relu')(merge)\n",
    "# net1_drop = tf.keras.layers.Dropout(0.3)(net1)\n",
    "# # net2 = tf.keras.layers.Dense(64, activation='relu')(net1)\n",
    "# net3 = tf.keras.layers.Dense(64, activation='relu')(net1_drop)\n",
    "\n",
    "# output = tf.keras.layers.Dense(1, activation = 'sigmoid')(net3)\n",
    "\n",
    "# model_high = tf.keras.Model(inputs=[input1, input2,\n",
    "#                               input3, input4,\n",
    "#                               input5, input6],\n",
    "#                        outputs=[output])\n",
    "\n",
    "# model_high.summary()\n",
    "\n",
    "# model_high.compile(loss=tf.keras.losses.BinaryCrossentropy(from_logits=True),\n",
    "#               optimizer=tf.keras.optimizers.Adam(1e-4),\n",
    "#               metrics=['accuracy'])\n",
    "\n",
    "# es = tf.keras.callbacks.EarlyStopping(monitor='val_loss',\n",
    "#                                       mode='min', \n",
    "#                                       verbose=1,\n",
    "#                                       patience=20)"
   ]
  },
  {
   "cell_type": "code",
   "execution_count": 50,
   "metadata": {
    "ExecuteTime": {
     "end_time": "2021-09-01T18:25:53.069213Z",
     "start_time": "2021-09-01T18:25:08.660324Z"
    }
   },
   "outputs": [
    {
     "name": "stdout",
     "output_type": "stream",
     "text": [
      "2104/2104 [==============================] - 14s 7ms/step - loss: 0.3810 - accuracy: 0.8348\n",
      "Test Loss: 0.38097691535949707\n",
      "Test Accuracy: 0.8347647786140442\n",
      "              precision    recall  f1-score   support\n",
      "\n",
      "           0       0.84      0.83      0.83     33706\n",
      "           1       0.83      0.84      0.84     33592\n",
      "\n",
      "    accuracy                           0.83     67298\n",
      "   macro avg       0.83      0.83      0.83     67298\n",
      "weighted avg       0.83      0.83      0.83     67298\n",
      "\n",
      "rf auc : 0.9147588009634094\n"
     ]
    },
    {
     "data": {
      "image/png": "[encoded data removed]",
      "text/plain": [
       "<Figure size 288x288 with 1 Axes>"
      ]
     },
     "metadata": {
      "needs_background": "light"
     },
     "output_type": "display_data"
    },
    {
     "data": {
      "image/png": "[encoded data removed]",
      "text/plain": [
       "<Figure size 216x216 with 2 Axes>"
      ]
     },
     "metadata": {
      "needs_background": "light"
     },
     "output_type": "display_data"
    },
    {
     "data": {
      "image/png": "[encoded data removed]",
      "text/plain": [
       "<Figure size 216x216 with 2 Axes>"
      ]
     },
     "metadata": {
      "needs_background": "light"
     },
     "output_type": "display_data"
    }
   ],
   "source": [
    "# 지금꺼 배치 64 젤좋은데?  128은 이거보단안좋음 32도\n",
    "test_loss, test_acc = model_high.evaluate([pep_test, aa_test, en_test, ec_test, e1_test, e2_test], y_test)\n",
    "print('Test Loss: {}'.format(test_loss))\n",
    "print('Test Accuracy: {}'.format(test_acc))\n",
    "\n",
    "# prediction\n",
    "y_pred = [1 if i>=0.5 else 0 for i in model_high.predict([pep_test, aa_test, en_test, ec_test, e1_test, e2_test])]\n",
    "print(classification_report(y_test, y_pred))\n",
    "# AUC\n",
    "probs = model_high.predict([pep_test, aa_test, en_test, ec_test, e1_test, e2_test])\n",
    "rf_auc = roc_auc_score(y_test, probs)\n",
    "print('rf auc : {}'.format(rf_auc))\n",
    "# plot the roc curve for the model_high\n",
    "rf_fpr, rf_tpr, _ = roc_curve(y_test, probs)\n",
    "plt.figure(figsize=(4, 4))\n",
    "plt.plot(rf_fpr, rf_tpr, marker='.', label='RF AUC = {:.4f}'.format(rf_auc), color='orange')\n",
    "plt.title('ROC curve')\n",
    "# axis labels\n",
    "plt.xlabel('False Positive Rate')\n",
    "plt.ylabel('True Positive Rate')\n",
    "# show the legend\n",
    "plt.legend()\n",
    "# show the plot\n",
    "plt.show()\n",
    "\n",
    "cf_matrix = confusion_matrix(y_test, y_pred)\n",
    "plt.figure(figsize=(3, 3))\n",
    "sns.heatmap(cf_matrix, annot=True, fmt=',.0f')\n",
    "plt.show()\n",
    "plt.figure(figsize=(3, 3))\n",
    "sns.heatmap(cf_matrix/np.sum(cf_matrix), annot=True, \n",
    "            fmt='.2%', cmap='Blues')\n",
    "plt.show()"
   ]
  },
  {
   "cell_type": "markdown",
   "metadata": {},
   "source": [
    "# 파라메터 조정\n",
    "  - 지금(6만)보다 더 줄여보기\n",
    "  - 임베딩레이어 써보기\n",
    "  - 임베딩으로 대형부터 소형까지 다해보기"
   ]
  },
  {
   "cell_type": "code",
   "execution_count": null,
   "metadata": {},
   "outputs": [],
   "source": []
  }
 ],
 "metadata": {
  "kernelspec": {
   "display_name": "TF2.4",
   "language": "python",
   "name": "tf2.4"
  },
  "language_info": {
   "codemirror_mode": {
    "name": "ipython",
    "version": 3
   },
   "file_extension": ".py",
   "mimetype": "text/x-python",
   "name": "python",
   "nbconvert_exporter": "python",
   "pygments_lexer": "ipython3",
   "version": "3.7.0"
  }
 },
 "nbformat": 4,
 "nbformat_minor": 4
}
