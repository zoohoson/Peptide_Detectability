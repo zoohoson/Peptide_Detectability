{
 "cells": [
  {
   "cell_type": "code",
   "execution_count": 2,
   "metadata": {
    "ExecuteTime": {
     "end_time": "2021-10-07T19:07:50.257505Z",
     "start_time": "2021-10-07T19:07:49.329736Z"
    }
   },
   "outputs": [
    {
     "name": "stderr",
     "output_type": "stream",
     "text": [
      "/home/bis/miniconda3/envs/TF1.10/lib/python3.6/site-packages/tensorflow/python/framework/dtypes.py:523: FutureWarning: Passing (type, 1) or '1type' as a synonym of type is deprecated; in a future version of numpy, it will be understood as (type, (1,)) / '(1,)type'.\n",
      "  _np_qint8 = np.dtype([(\"qint8\", np.int8, 1)])\n",
      "/home/bis/miniconda3/envs/TF1.10/lib/python3.6/site-packages/tensorflow/python/framework/dtypes.py:524: FutureWarning: Passing (type, 1) or '1type' as a synonym of type is deprecated; in a future version of numpy, it will be understood as (type, (1,)) / '(1,)type'.\n",
      "  _np_quint8 = np.dtype([(\"quint8\", np.uint8, 1)])\n",
      "/home/bis/miniconda3/envs/TF1.10/lib/python3.6/site-packages/tensorflow/python/framework/dtypes.py:525: FutureWarning: Passing (type, 1) or '1type' as a synonym of type is deprecated; in a future version of numpy, it will be understood as (type, (1,)) / '(1,)type'.\n",
      "  _np_qint16 = np.dtype([(\"qint16\", np.int16, 1)])\n",
      "/home/bis/miniconda3/envs/TF1.10/lib/python3.6/site-packages/tensorflow/python/framework/dtypes.py:526: FutureWarning: Passing (type, 1) or '1type' as a synonym of type is deprecated; in a future version of numpy, it will be understood as (type, (1,)) / '(1,)type'.\n",
      "  _np_quint16 = np.dtype([(\"quint16\", np.uint16, 1)])\n",
      "/home/bis/miniconda3/envs/TF1.10/lib/python3.6/site-packages/tensorflow/python/framework/dtypes.py:527: FutureWarning: Passing (type, 1) or '1type' as a synonym of type is deprecated; in a future version of numpy, it will be understood as (type, (1,)) / '(1,)type'.\n",
      "  _np_qint32 = np.dtype([(\"qint32\", np.int32, 1)])\n",
      "/home/bis/miniconda3/envs/TF1.10/lib/python3.6/site-packages/tensorflow/python/framework/dtypes.py:532: FutureWarning: Passing (type, 1) or '1type' as a synonym of type is deprecated; in a future version of numpy, it will be understood as (type, (1,)) / '(1,)type'.\n",
      "  np_resource = np.dtype([(\"resource\", np.ubyte, 1)])\n",
      "Using TensorFlow backend.\n"
     ]
    }
   ],
   "source": [
    "import tensorflow as tf\n",
    "import keras\n",
    "import os"
   ]
  },
  {
   "cell_type": "code",
   "execution_count": 3,
   "metadata": {
    "ExecuteTime": {
     "end_time": "2021-10-07T19:07:50.260861Z",
     "start_time": "2021-10-07T19:07:50.258835Z"
    }
   },
   "outputs": [],
   "source": [
    "import numpy as np"
   ]
  },
  {
   "cell_type": "code",
   "execution_count": 4,
   "metadata": {
    "ExecuteTime": {
     "end_time": "2021-10-07T19:07:51.593937Z",
     "start_time": "2021-10-07T19:07:51.591810Z"
    }
   },
   "outputs": [],
   "source": [
    "# Load the saved Yaml model\n",
    "from keras.models import model_from_yaml"
   ]
  },
  {
   "cell_type": "markdown",
   "metadata": {},
   "source": [
    "# Model params"
   ]
  },
  {
   "cell_type": "code",
   "execution_count": 13,
   "metadata": {
    "ExecuteTime": {
     "end_time": "2021-08-16T15:25:14.910917Z",
     "start_time": "2021-08-16T15:25:14.907115Z"
    }
   },
   "outputs": [
    {
     "name": "stdout",
     "output_type": "stream",
     "text": [
      "frag/prosit1/model.yml irt/model_irt_prediction/model.yaml\n"
     ]
    }
   ],
   "source": [
    "model_spec = 'frag/prosit1/'\n",
    "model_irt = 'irt/model_irt_prediction'\n",
    "\n",
    "spec_MODEL_NAME = \"model.yml\"\n",
    "irt_MODEL_NAME = 'model.yaml'\n",
    "CONFIG_NAME = \"config.yml\"\n",
    "\n",
    "spec_model_path = os.path.join(model_spec, spec_MODEL_NAME)\n",
    "irt_model_path = os.path.join(model_irt, irt_MODEL_NAME)\n",
    "\n",
    "print(spec_model_path, irt_model_path)"
   ]
  },
  {
   "cell_type": "markdown",
   "metadata": {},
   "source": [
    "# spec"
   ]
  },
  {
   "cell_type": "code",
   "execution_count": 61,
   "metadata": {
    "ExecuteTime": {
     "end_time": "2021-08-16T17:39:40.512899Z",
     "start_time": "2021-08-16T17:39:40.509700Z"
    }
   },
   "outputs": [],
   "source": [
    "#Read  the model architecture from  YAML file\n",
    "with open(spec_model_path, 'r') as yaml_file:\n",
    "    yaml_savedModel=yaml_file.read()"
   ]
  },
  {
   "cell_type": "code",
   "execution_count": 32,
   "metadata": {
    "ExecuteTime": {
     "end_time": "2021-08-16T15:37:57.089953Z",
     "start_time": "2021-08-16T15:37:57.085974Z"
    }
   },
   "outputs": [],
   "source": [
    "from layers import *\n",
    "from losses import *"
   ]
  },
  {
   "cell_type": "code",
   "execution_count": 62,
   "metadata": {
    "ExecuteTime": {
     "end_time": "2021-08-16T17:39:51.675032Z",
     "start_time": "2021-08-16T17:39:50.490985Z"
    }
   },
   "outputs": [],
   "source": [
    "model_spec = model_from_yaml(yaml_savedModel, \n",
    "                             custom_objects={\"Attention\": Attention})"
   ]
  },
  {
   "cell_type": "code",
   "execution_count": 63,
   "metadata": {
    "ExecuteTime": {
     "end_time": "2021-08-16T17:39:53.472415Z",
     "start_time": "2021-08-16T17:39:53.463456Z"
    }
   },
   "outputs": [
    {
     "name": "stdout",
     "output_type": "stream",
     "text": [
      "__________________________________________________________________________________________________\n",
      "Layer (type)                    Output Shape         Param #     Connected to                     \n",
      "==================================================================================================\n",
      "peptides_in (InputLayer)        (None, 30)           0                                            \n",
      "__________________________________________________________________________________________________\n",
      "embedding (Embedding)           (None, 30, 32)       704         peptides_in[0][0]                \n",
      "__________________________________________________________________________________________________\n",
      "encoder1 (Bidirectional)        (None, 30, 512)      445440      embedding[0][0]                  \n",
      "__________________________________________________________________________________________________\n",
      "dropout_1 (Dropout)             (None, 30, 512)      0           encoder1[0][0]                   \n",
      "__________________________________________________________________________________________________\n",
      "collision_energy_in (InputLayer (None, 1)            0                                            \n",
      "__________________________________________________________________________________________________\n",
      "precursor_charge_in (InputLayer (None, 6)            0                                            \n",
      "__________________________________________________________________________________________________\n",
      "encoder2 (CuDNNGRU)             (None, 30, 512)      1575936     dropout_1[0][0]                  \n",
      "__________________________________________________________________________________________________\n",
      "meta_in (Concatenate)           (None, 7)            0           collision_energy_in[0][0]        \n",
      "                                                                 precursor_charge_in[0][0]        \n",
      "__________________________________________________________________________________________________\n",
      "dropout_2 (Dropout)             (None, 30, 512)      0           encoder2[0][0]                   \n",
      "__________________________________________________________________________________________________\n",
      "meta_dense (Dense)              (None, 512)          4096        meta_in[0][0]                    \n",
      "__________________________________________________________________________________________________\n",
      "encoder_att (Attention)         (None, 512)          542         dropout_2[0][0]                  \n",
      "__________________________________________________________________________________________________\n",
      "meta_dense_do (Dropout)         (None, 512)          0           meta_dense[0][0]                 \n",
      "__________________________________________________________________________________________________\n",
      "add_meta (Multiply)             (None, 512)          0           encoder_att[0][0]                \n",
      "                                                                 meta_dense_do[0][0]              \n",
      "__________________________________________________________________________________________________\n",
      "repeat (RepeatVector)           (None, 29, 512)      0           add_meta[0][0]                   \n",
      "__________________________________________________________________________________________________\n",
      "decoder (CuDNNGRU)              (None, 29, 512)      1575936     repeat[0][0]                     \n",
      "__________________________________________________________________________________________________\n",
      "dropout_3 (Dropout)             (None, 29, 512)      0           decoder[0][0]                    \n",
      "__________________________________________________________________________________________________\n",
      "permute_1 (Permute)             (None, 512, 29)      0           dropout_3[0][0]                  \n",
      "__________________________________________________________________________________________________\n",
      "dense_1 (Dense)                 (None, 512, 29)      870         permute_1[0][0]                  \n",
      "__________________________________________________________________________________________________\n",
      "permute_2 (Permute)             (None, 29, 512)      0           dense_1[0][0]                    \n",
      "__________________________________________________________________________________________________\n",
      "multiply_1 (Multiply)           (None, 29, 512)      0           dropout_3[0][0]                  \n",
      "                                                                 permute_2[0][0]                  \n",
      "__________________________________________________________________________________________________\n",
      "timedense (TimeDistributed)     (None, 29, 6)        3078        multiply_1[0][0]                 \n",
      "__________________________________________________________________________________________________\n",
      "activation (LeakyReLU)          (None, 29, 6)        0           timedense[0][0]                  \n",
      "__________________________________________________________________________________________________\n",
      "out (Flatten)                   (None, 174)          0           activation[0][0]                 \n",
      "==================================================================================================\n",
      "Total params: 3,606,602\n",
      "Trainable params: 3,606,602\n",
      "Non-trainable params: 0\n",
      "__________________________________________________________________________________________________\n"
     ]
    }
   ],
   "source": [
    "model_spec.summary()"
   ]
  },
  {
   "cell_type": "code",
   "execution_count": 49,
   "metadata": {
    "ExecuteTime": {
     "end_time": "2021-08-16T15:58:10.147266Z",
     "start_time": "2021-08-16T15:58:07.381888Z"
    }
   },
   "outputs": [
    {
     "name": "stderr",
     "output_type": "stream",
     "text": [
      "/home/bis/miniconda3/envs/TF1.10/lib/python3.6/site-packages/keras/engine/saving.py:305: UserWarning: Error in loading the saved optimizer state. As a result, your model is starting with a freshly initialized optimizer.\n",
      "  warnings.warn('Error in loading the saved optimizer '\n"
     ]
    }
   ],
   "source": [
    "param_spec = keras.models.load_model(\"frag/prosit1/weight_32_0.10211.hdf5\",\n",
    "                                    custom_objects={\"Attention\": Attention,\n",
    "                                                   \"masked_spectral_distance\": masked_spectral_distance}\n",
    "                                    )"
   ]
  },
  {
   "cell_type": "code",
   "execution_count": 51,
   "metadata": {
    "ExecuteTime": {
     "end_time": "2021-08-16T15:58:18.253502Z",
     "start_time": "2021-08-16T15:58:18.245852Z"
    }
   },
   "outputs": [
    {
     "name": "stdout",
     "output_type": "stream",
     "text": [
      "__________________________________________________________________________________________________\n",
      "Layer (type)                    Output Shape         Param #     Connected to                     \n",
      "==================================================================================================\n",
      "peptides_in (InputLayer)        (None, 30)           0                                            \n",
      "__________________________________________________________________________________________________\n",
      "embedding (Embedding)           (None, 30, 32)       704         peptides_in[0][0]                \n",
      "__________________________________________________________________________________________________\n",
      "encoder1 (Bidirectional)        (None, 30, 512)      445440      embedding[0][0]                  \n",
      "__________________________________________________________________________________________________\n",
      "dropout_1 (Dropout)             (None, 30, 512)      0           encoder1[0][0]                   \n",
      "__________________________________________________________________________________________________\n",
      "collision_energy_in (InputLayer (None, 1)            0                                            \n",
      "__________________________________________________________________________________________________\n",
      "precursor_charge_in (InputLayer (None, 6)            0                                            \n",
      "__________________________________________________________________________________________________\n",
      "encoder2 (CuDNNGRU)             (None, 30, 512)      1575936     dropout_1[0][0]                  \n",
      "__________________________________________________________________________________________________\n",
      "meta_in (Concatenate)           (None, 7)            0           collision_energy_in[0][0]        \n",
      "                                                                 precursor_charge_in[0][0]        \n",
      "__________________________________________________________________________________________________\n",
      "dropout_2 (Dropout)             (None, 30, 512)      0           encoder2[0][0]                   \n",
      "__________________________________________________________________________________________________\n",
      "meta_dense (Dense)              (None, 512)          4096        meta_in[0][0]                    \n",
      "__________________________________________________________________________________________________\n",
      "encoder_att (Attention)         (None, 512)          542         dropout_2[0][0]                  \n",
      "__________________________________________________________________________________________________\n",
      "meta_dense_do (Dropout)         (None, 512)          0           meta_dense[0][0]                 \n",
      "__________________________________________________________________________________________________\n",
      "add_meta (Multiply)             (None, 512)          0           encoder_att[0][0]                \n",
      "                                                                 meta_dense_do[0][0]              \n",
      "__________________________________________________________________________________________________\n",
      "repeat (RepeatVector)           (None, 29, 512)      0           add_meta[0][0]                   \n",
      "__________________________________________________________________________________________________\n",
      "decoder (CuDNNGRU)              (None, 29, 512)      1575936     repeat[0][0]                     \n",
      "__________________________________________________________________________________________________\n",
      "dropout_3 (Dropout)             (None, 29, 512)      0           decoder[0][0]                    \n",
      "__________________________________________________________________________________________________\n",
      "permute_1 (Permute)             (None, 512, 29)      0           dropout_3[0][0]                  \n",
      "__________________________________________________________________________________________________\n",
      "dense_1 (Dense)                 (None, 512, 29)      870         permute_1[0][0]                  \n",
      "__________________________________________________________________________________________________\n",
      "permute_2 (Permute)             (None, 29, 512)      0           dense_1[0][0]                    \n",
      "__________________________________________________________________________________________________\n",
      "multiply_1 (Multiply)           (None, 29, 512)      0           dropout_3[0][0]                  \n",
      "                                                                 permute_2[0][0]                  \n",
      "__________________________________________________________________________________________________\n",
      "timedense (TimeDistributed)     (None, 29, 6)        3078        multiply_1[0][0]                 \n",
      "__________________________________________________________________________________________________\n",
      "activation (LeakyReLU)          (None, 29, 6)        0           timedense[0][0]                  \n",
      "__________________________________________________________________________________________________\n",
      "out (Flatten)                   (None, 174)          0           activation[0][0]                 \n",
      "==================================================================================================\n",
      "Total params: 3,606,602\n",
      "Trainable params: 3,606,602\n",
      "Non-trainable params: 0\n",
      "__________________________________________________________________________________________________\n"
     ]
    }
   ],
   "source": [
    "param_spec.summary()"
   ]
  },
  {
   "cell_type": "markdown",
   "metadata": {},
   "source": [
    "# iRT"
   ]
  },
  {
   "cell_type": "code",
   "execution_count": 54,
   "metadata": {
    "ExecuteTime": {
     "end_time": "2021-08-16T16:03:00.894650Z",
     "start_time": "2021-08-16T16:03:00.891889Z"
    }
   },
   "outputs": [],
   "source": [
    "#Read  the model architecture from  YAML file\n",
    "with open(irt_model_path, 'r') as yaml_file:\n",
    "    yaml_savedModel=yaml_file.read()"
   ]
  },
  {
   "cell_type": "code",
   "execution_count": 56,
   "metadata": {
    "ExecuteTime": {
     "end_time": "2021-08-16T16:03:15.414379Z",
     "start_time": "2021-08-16T16:03:14.820338Z"
    }
   },
   "outputs": [],
   "source": [
    "model_irt = model_from_yaml(yaml_savedModel, custom_objects={\"Attention\": Attention})"
   ]
  },
  {
   "cell_type": "code",
   "execution_count": 57,
   "metadata": {
    "ExecuteTime": {
     "end_time": "2021-08-16T16:03:19.956203Z",
     "start_time": "2021-08-16T16:03:19.950661Z"
    }
   },
   "outputs": [
    {
     "name": "stdout",
     "output_type": "stream",
     "text": [
      "_________________________________________________________________\n",
      "Layer (type)                 Output Shape              Param #   \n",
      "=================================================================\n",
      "peptides_in (InputLayer)     (None, 30)                0         \n",
      "_________________________________________________________________\n",
      "embedding (Embedding)        (None, 30, 32)            704       \n",
      "_________________________________________________________________\n",
      "encoder1 (Bidirectional)     (None, 30, 512)           445440    \n",
      "_________________________________________________________________\n",
      "dropout_1 (Dropout)          (None, 30, 512)           0         \n",
      "_________________________________________________________________\n",
      "encoder2 (CuDNNGRU)          (None, 30, 512)           1575936   \n",
      "_________________________________________________________________\n",
      "dropout_2 (Dropout)          (None, 30, 512)           0         \n",
      "_________________________________________________________________\n",
      "encoder_att (Attention)      (None, 512)               542       \n",
      "_________________________________________________________________\n",
      "pep_dense1 (Dense)           (None, 512)               262656    \n",
      "_________________________________________________________________\n",
      "pep_dense1_lReLu (LeakyReLU) (None, 512)               0         \n",
      "_________________________________________________________________\n",
      "pep_dense1_drop (Dropout)    (None, 512)               0         \n",
      "_________________________________________________________________\n",
      "prediction (Dense)           (None, 1)                 513       \n",
      "=================================================================\n",
      "Total params: 2,285,791\n",
      "Trainable params: 2,285,791\n",
      "Non-trainable params: 0\n",
      "_________________________________________________________________\n"
     ]
    }
   ],
   "source": [
    "model_irt.summary()"
   ]
  },
  {
   "cell_type": "code",
   "execution_count": 59,
   "metadata": {
    "ExecuteTime": {
     "end_time": "2021-08-16T16:05:15.191001Z",
     "start_time": "2021-08-16T16:05:12.836431Z"
    }
   },
   "outputs": [],
   "source": [
    "param_irt = keras.models.load_model(\"irt/model_irt_prediction/weight_66_0.00796.hdf5\",\n",
    "                                    custom_objects={\"Attention\": Attention}\n",
    "                                    )"
   ]
  },
  {
   "cell_type": "code",
   "execution_count": 60,
   "metadata": {
    "ExecuteTime": {
     "end_time": "2021-08-16T16:05:22.314681Z",
     "start_time": "2021-08-16T16:05:22.308668Z"
    }
   },
   "outputs": [
    {
     "name": "stdout",
     "output_type": "stream",
     "text": [
      "_________________________________________________________________\n",
      "Layer (type)                 Output Shape              Param #   \n",
      "=================================================================\n",
      "peptides_in (InputLayer)     (None, 30)                0         \n",
      "_________________________________________________________________\n",
      "embedding (Embedding)        (None, 30, 32)            704       \n",
      "_________________________________________________________________\n",
      "encoder1 (Bidirectional)     (None, 30, 512)           445440    \n",
      "_________________________________________________________________\n",
      "dropout_1 (Dropout)          (None, 30, 512)           0         \n",
      "_________________________________________________________________\n",
      "encoder2 (CuDNNGRU)          (None, 30, 512)           1575936   \n",
      "_________________________________________________________________\n",
      "dropout_2 (Dropout)          (None, 30, 512)           0         \n",
      "_________________________________________________________________\n",
      "encoder_att (Attention)      (None, 512)               542       \n",
      "_________________________________________________________________\n",
      "pep_dense1 (Dense)           (None, 512)               262656    \n",
      "_________________________________________________________________\n",
      "pep_dense1_lReLu (LeakyReLU) (None, 512)               0         \n",
      "_________________________________________________________________\n",
      "pep_dense1_drop (Dropout)    (None, 512)               0         \n",
      "_________________________________________________________________\n",
      "prediction (Dense)           (None, 1)                 513       \n",
      "=================================================================\n",
      "Total params: 2,285,791\n",
      "Trainable params: 2,285,791\n",
      "Non-trainable params: 0\n",
      "_________________________________________________________________\n"
     ]
    }
   ],
   "source": [
    "param_irt.summary()"
   ]
  },
  {
   "cell_type": "markdown",
   "metadata": {},
   "source": [
    "# iRT data"
   ]
  },
  {
   "cell_type": "code",
   "execution_count": 7,
   "metadata": {
    "ExecuteTime": {
     "end_time": "2021-10-07T19:08:27.522309Z",
     "start_time": "2021-10-07T19:08:27.520133Z"
    }
   },
   "outputs": [],
   "source": [
    "import h5py\n",
    "filename = \"../data/iRT/PrositIRT_data.hdf5\""
   ]
  },
  {
   "cell_type": "code",
   "execution_count": 88,
   "metadata": {
    "ExecuteTime": {
     "end_time": "2021-08-17T03:39:34.643513Z",
     "start_time": "2021-08-17T03:39:32.490012Z"
    }
   },
   "outputs": [
    {
     "name": "stdout",
     "output_type": "stream",
     "text": [
      "Keys: <KeysViewHDF5 ['X_holdout', 'X_train', 'X_val', 'Y_holdout', 'Y_train', 'Y_val']>\n",
      "X_holdout (169339, 30)\n",
      "X_train (349136, 1)\n",
      "X_val (87455, 30)\n",
      "Y_holdout (169339, 1)\n",
      "Y_train (349136, 30)\n",
      "Y_val (87455, 1)\n"
     ]
    }
   ],
   "source": [
    "with h5py.File(filename, \"r\") as f:\n",
    "    # List all groups\n",
    "    print(\"Keys: %s\" % f.keys())\n",
    "    irt_data = dict()\n",
    "    for k in list(f.keys()):\n",
    "        data = np.array(f[k])\n",
    "        print(k, data.shape)\n",
    "        \n",
    "        # Get the data\n",
    "        irt_data[k] = data"
   ]
  },
  {
   "cell_type": "markdown",
   "metadata": {},
   "source": [
    "# MS2 data (5GB)"
   ]
  },
  {
   "cell_type": "code",
   "execution_count": 9,
   "metadata": {
    "ExecuteTime": {
     "end_time": "2021-10-07T19:08:38.387096Z",
     "start_time": "2021-10-07T19:08:38.384921Z"
    }
   },
   "outputs": [],
   "source": [
    "filename = \"../data/frag/holdout_hcd.hdf5\""
   ]
  },
  {
   "cell_type": "code",
   "execution_count": 10,
   "metadata": {
    "ExecuteTime": {
     "end_time": "2021-10-07T19:08:48.096288Z",
     "start_time": "2021-10-07T19:08:38.599063Z"
    }
   },
   "outputs": [
    {
     "name": "stdout",
     "output_type": "stream",
     "text": [
      "Keys: <KeysViewHDF5 ['collision_energy', 'collision_energy_aligned', 'collision_energy_aligned_normed', 'intensities_raw', 'masses_pred', 'masses_raw', 'method', 'precursor_charge_onehot', 'rawfile', 'reverse', 'scan_number', 'score', 'sequence_integer']>\n",
      "collision_energy (754215, 1)\n",
      "collision_energy_aligned (754215, 1)\n",
      "collision_energy_aligned_normed (754215, 1)\n",
      "intensities_raw (754215, 174)\n",
      "masses_pred (754215, 174)\n",
      "masses_raw (754215, 174)\n",
      "method (754215, 3)\n",
      "precursor_charge_onehot (754215, 6)\n",
      "rawfile (754215,)\n",
      "reverse (754215, 1)\n",
      "scan_number (754215, 1)\n",
      "score (754215, 1)\n",
      "sequence_integer (754215, 30)\n"
     ]
    }
   ],
   "source": [
    "with h5py.File(filename, \"r\") as f:\n",
    "    # List all groups\n",
    "    print(\"Keys: %s\" % f.keys())\n",
    "    frag_hold_data = dict()\n",
    "    for k in list(f.keys()):\n",
    "        data = np.array(f[k])\n",
    "        print(k, data.shape)\n",
    "        \n",
    "        # Get the data\n",
    "        frag_hold_data[k] = data"
   ]
  },
  {
   "cell_type": "code",
   "execution_count": 84,
   "metadata": {
    "ExecuteTime": {
     "end_time": "2021-08-17T02:04:32.611428Z",
     "start_time": "2021-08-17T02:04:32.609023Z"
    }
   },
   "outputs": [],
   "source": [
    "filename = \"../data/frag/traintest_hcd.hdf5\""
   ]
  },
  {
   "cell_type": "code",
   "execution_count": 85,
   "metadata": {
    "ExecuteTime": {
     "end_time": "2021-08-17T02:12:32.487789Z",
     "start_time": "2021-08-17T02:04:33.279297Z"
    }
   },
   "outputs": [
    {
     "name": "stdout",
     "output_type": "stream",
     "text": [
      "Keys: <KeysViewHDF5 ['collision_energy', 'collision_energy_aligned', 'collision_energy_aligned_normed', 'intensities_raw', 'masses_pred', 'masses_raw', 'method', 'precursor_charge_onehot', 'rawfile', 'reverse', 'scan_number', 'score', 'sequence_integer', 'sequence_onehot']>\n",
      "collision_energy (6787933, 1)\n",
      "collision_energy_aligned (6787933, 1)\n",
      "collision_energy_aligned_normed (6787933, 1)\n",
      "intensities_raw (6787933, 174)\n",
      "masses_pred (6787933, 174)\n",
      "masses_raw (6787933, 174)\n",
      "method (6787933, 3)\n",
      "precursor_charge_onehot (6787933, 6)\n",
      "rawfile (6787933,)\n",
      "reverse (6787933, 1)\n",
      "scan_number (6787933, 1)\n",
      "score (6787933, 1)\n",
      "sequence_integer (6787933, 30)\n",
      "sequence_onehot (6787933, 30, 22)\n"
     ]
    }
   ],
   "source": [
    "with h5py.File(filename, \"r\") as f:\n",
    "    # List all groups\n",
    "    print(\"Keys: %s\" % f.keys())\n",
    "    frag_train_data = dict()\n",
    "    for k in list(f.keys()):\n",
    "        data = np.array(f[k])\n",
    "        print(k, data.shape)\n",
    "        \n",
    "        # Get the data\n",
    "        frag_train_data[k] = data"
   ]
  }
 ],
 "metadata": {
  "kernelspec": {
   "display_name": "TF1.10",
   "language": "python",
   "name": "tf1.10"
  },
  "language_info": {
   "codemirror_mode": {
    "name": "ipython",
    "version": 3
   },
   "file_extension": ".py",
   "mimetype": "text/x-python",
   "name": "python",
   "nbconvert_exporter": "python",
   "pygments_lexer": "ipython3",
   "version": "3.6.13"
  }
 },
 "nbformat": 4,
 "nbformat_minor": 4
}
