{
 "cells": [
  {
   "cell_type": "code",
   "execution_count": 1,
   "metadata": {
    "ExecuteTime": {
     "end_time": "2021-08-16T19:53:57.432913Z",
     "start_time": "2021-08-16T19:53:56.270361Z"
    },
    "scrolled": true
   },
   "outputs": [
    {
     "name": "stderr",
     "output_type": "stream",
     "text": [
      "/home/bis/miniconda3/envs/TF1.14/lib/python3.6/site-packages/tensorflow/python/framework/dtypes.py:516: FutureWarning: Passing (type, 1) or '1type' as a synonym of type is deprecated; in a future version of numpy, it will be understood as (type, (1,)) / '(1,)type'.\n",
      "  _np_qint8 = np.dtype([(\"qint8\", np.int8, 1)])\n",
      "/home/bis/miniconda3/envs/TF1.14/lib/python3.6/site-packages/tensorflow/python/framework/dtypes.py:517: FutureWarning: Passing (type, 1) or '1type' as a synonym of type is deprecated; in a future version of numpy, it will be understood as (type, (1,)) / '(1,)type'.\n",
      "  _np_quint8 = np.dtype([(\"quint8\", np.uint8, 1)])\n",
      "/home/bis/miniconda3/envs/TF1.14/lib/python3.6/site-packages/tensorflow/python/framework/dtypes.py:518: FutureWarning: Passing (type, 1) or '1type' as a synonym of type is deprecated; in a future version of numpy, it will be understood as (type, (1,)) / '(1,)type'.\n",
      "  _np_qint16 = np.dtype([(\"qint16\", np.int16, 1)])\n",
      "/home/bis/miniconda3/envs/TF1.14/lib/python3.6/site-packages/tensorflow/python/framework/dtypes.py:519: FutureWarning: Passing (type, 1) or '1type' as a synonym of type is deprecated; in a future version of numpy, it will be understood as (type, (1,)) / '(1,)type'.\n",
      "  _np_quint16 = np.dtype([(\"quint16\", np.uint16, 1)])\n",
      "/home/bis/miniconda3/envs/TF1.14/lib/python3.6/site-packages/tensorflow/python/framework/dtypes.py:520: FutureWarning: Passing (type, 1) or '1type' as a synonym of type is deprecated; in a future version of numpy, it will be understood as (type, (1,)) / '(1,)type'.\n",
      "  _np_qint32 = np.dtype([(\"qint32\", np.int32, 1)])\n",
      "/home/bis/miniconda3/envs/TF1.14/lib/python3.6/site-packages/tensorflow/python/framework/dtypes.py:525: FutureWarning: Passing (type, 1) or '1type' as a synonym of type is deprecated; in a future version of numpy, it will be understood as (type, (1,)) / '(1,)type'.\n",
      "  np_resource = np.dtype([(\"resource\", np.ubyte, 1)])\n",
      "/home/bis/miniconda3/envs/TF1.14/lib/python3.6/site-packages/tensorboard/compat/tensorflow_stub/dtypes.py:541: FutureWarning: Passing (type, 1) or '1type' as a synonym of type is deprecated; in a future version of numpy, it will be understood as (type, (1,)) / '(1,)type'.\n",
      "  _np_qint8 = np.dtype([(\"qint8\", np.int8, 1)])\n",
      "/home/bis/miniconda3/envs/TF1.14/lib/python3.6/site-packages/tensorboard/compat/tensorflow_stub/dtypes.py:542: FutureWarning: Passing (type, 1) or '1type' as a synonym of type is deprecated; in a future version of numpy, it will be understood as (type, (1,)) / '(1,)type'.\n",
      "  _np_quint8 = np.dtype([(\"quint8\", np.uint8, 1)])\n",
      "/home/bis/miniconda3/envs/TF1.14/lib/python3.6/site-packages/tensorboard/compat/tensorflow_stub/dtypes.py:543: FutureWarning: Passing (type, 1) or '1type' as a synonym of type is deprecated; in a future version of numpy, it will be understood as (type, (1,)) / '(1,)type'.\n",
      "  _np_qint16 = np.dtype([(\"qint16\", np.int16, 1)])\n",
      "/home/bis/miniconda3/envs/TF1.14/lib/python3.6/site-packages/tensorboard/compat/tensorflow_stub/dtypes.py:544: FutureWarning: Passing (type, 1) or '1type' as a synonym of type is deprecated; in a future version of numpy, it will be understood as (type, (1,)) / '(1,)type'.\n",
      "  _np_quint16 = np.dtype([(\"quint16\", np.uint16, 1)])\n",
      "/home/bis/miniconda3/envs/TF1.14/lib/python3.6/site-packages/tensorboard/compat/tensorflow_stub/dtypes.py:545: FutureWarning: Passing (type, 1) or '1type' as a synonym of type is deprecated; in a future version of numpy, it will be understood as (type, (1,)) / '(1,)type'.\n",
      "  _np_qint32 = np.dtype([(\"qint32\", np.int32, 1)])\n",
      "/home/bis/miniconda3/envs/TF1.14/lib/python3.6/site-packages/tensorboard/compat/tensorflow_stub/dtypes.py:550: FutureWarning: Passing (type, 1) or '1type' as a synonym of type is deprecated; in a future version of numpy, it will be understood as (type, (1,)) / '(1,)type'.\n",
      "  np_resource = np.dtype([(\"resource\", np.ubyte, 1)])\n"
     ]
    }
   ],
   "source": [
    "import tensorflow as tf\n",
    "import pandas as pd\n",
    "import numpy as np"
   ]
  },
  {
   "cell_type": "code",
   "execution_count": 2,
   "metadata": {
    "ExecuteTime": {
     "end_time": "2021-08-16T19:54:00.651188Z",
     "start_time": "2021-08-16T19:54:00.269536Z"
    }
   },
   "outputs": [
    {
     "name": "stdout",
     "output_type": "stream",
     "text": [
      "WARNING:tensorflow:From /home/bis/2021_SJH_detectability/Detectability/refModel/2019ACS_pDeep2/pDeep/pDeep2/model/lstm_tf.py:10: The name tf.set_random_seed is deprecated. Please use tf.compat.v1.set_random_seed instead.\n",
      "\n",
      "WARNING:tensorflow:\n",
      "The TensorFlow contrib module will not be included in TensorFlow 2.0.\n",
      "For more information, please see:\n",
      "  * https://github.com/tensorflow/community/blob/master/rfcs/20180907-contrib-sunset.md\n",
      "  * https://github.com/tensorflow/addons\n",
      "  * https://github.com/tensorflow/io (for I/O related ops)\n",
      "If you depend on functionality not listed there, please file an issue.\n",
      "\n"
     ]
    }
   ],
   "source": [
    "import model.lstm_tf as lstm\n",
    "import model.fragmentation_config as fconfig"
   ]
  },
  {
   "cell_type": "markdown",
   "metadata": {},
   "source": [
    "# MS2 - Load Model"
   ]
  },
  {
   "cell_type": "code",
   "execution_count": 3,
   "metadata": {
    "ExecuteTime": {
     "end_time": "2021-08-16T19:54:00.656047Z",
     "start_time": "2021-08-16T19:54:00.652480Z"
    }
   },
   "outputs": [],
   "source": [
    "# other models are also included in the './tf-models' folder.\n",
    "model_folder = './tf-models/model-180921-modloss/'\n",
    "model = 'pretrain-180921-modloss.ckpt'\n",
    "\n",
    "ion_types = ['b{}', 'y{}']\n",
    "mod_config = fconfig.HCD_CommonMod_Config()\n",
    "mod_config.SetFixMod(['Carbamidomethyl[C]'])\n",
    "mod_config.varmod = [\"Oxidation[M]\"]\n",
    "mod_config.SetIonTypes(ion_types)\n",
    "mod_config.time_step = 100\n",
    "mod_config.min_var_mod_num = 0\n",
    "mod_config.max_var_mod_num = 2\n",
    "\n",
    "pdeep = lstm.IonLSTM(mod_config)"
   ]
  },
  {
   "cell_type": "code",
   "execution_count": 4,
   "metadata": {
    "ExecuteTime": {
     "end_time": "2021-08-16T19:54:01.758464Z",
     "start_time": "2021-08-16T19:54:00.812971Z"
    }
   },
   "outputs": [
    {
     "name": "stdout",
     "output_type": "stream",
     "text": [
      "WARNING:tensorflow:From /home/bis/2021_SJH_detectability/Detectability/refModel/2019ACS_pDeep2/pDeep/pDeep2/model/lstm_tf.py:348: The name tf.ConfigProto is deprecated. Please use tf.compat.v1.ConfigProto instead.\n",
      "\n",
      "WARNING:tensorflow:From /home/bis/2021_SJH_detectability/Detectability/refModel/2019ACS_pDeep2/pDeep/pDeep2/model/lstm_tf.py:351: The name tf.Session is deprecated. Please use tf.compat.v1.Session instead.\n",
      "\n",
      "WARNING:tensorflow:From /home/bis/2021_SJH_detectability/Detectability/refModel/2019ACS_pDeep2/pDeep/pDeep2/model/lstm_tf.py:516: The name tf.train.import_meta_graph is deprecated. Please use tf.compat.v1.train.import_meta_graph instead.\n",
      "\n",
      "WARNING:tensorflow:From /home/bis/miniconda3/envs/TF1.14/lib/python3.6/site-packages/tensorflow/python/training/saver.py:1276: checkpoint_exists (from tensorflow.python.training.checkpoint_management) is deprecated and will be removed in a future version.\n",
      "Instructions for updating:\n",
      "Use standard file APIs to check for files with this prefix.\n",
      "INFO:tensorflow:Restoring parameters from ./tf-models/model-180921-modloss/pretrain-180921-modloss.ckpt\n",
      "WARNING:tensorflow:From /home/bis/2021_SJH_detectability/Detectability/refModel/2019ACS_pDeep2/pDeep/pDeep2/model/lstm_tf.py:518: The name tf.get_default_graph is deprecated. Please use tf.compat.v1.get_default_graph instead.\n",
      "\n"
     ]
    }
   ],
   "source": [
    "pdeep.LoadModel(model_file = model_folder + model)"
   ]
  },
  {
   "cell_type": "code",
   "execution_count": 5,
   "metadata": {
    "ExecuteTime": {
     "end_time": "2021-08-16T19:54:02.508337Z",
     "start_time": "2021-08-16T19:54:01.759856Z"
    }
   },
   "outputs": [],
   "source": [
    "model_file = model_folder + model\n",
    "saver = tf.train.import_meta_graph(model_file+\".meta\")\n",
    "\n",
    "config = tf.ConfigProto()\n",
    "config.gpu_options.allow_growth=True\n",
    "config.intra_op_parallelism_threads = 8\n",
    "sess = tf.Session(config=config)\n",
    "\n",
    "init_op = tf.global_variables_initializer()\n",
    "sess.run(init_op)\n",
    "\n",
    "saver.restore(sess, model_file)\n",
    "graph = tf.get_default_graph()"
   ]
  },
  {
   "cell_type": "code",
   "execution_count": 9,
   "metadata": {
    "ExecuteTime": {
     "end_time": "2021-08-16T19:54:04.311930Z",
     "start_time": "2021-08-16T19:54:04.299751Z"
    },
    "scrolled": true
   },
   "outputs": [
    {
     "name": "stdout",
     "output_type": "stream",
     "text": [
      "(9, 3)\n",
      "2\n",
      "9\n",
      "3\n",
      "27\n",
      "(355, 1024)\n",
      "2\n",
      "355\n",
      "1024\n",
      "363520\n",
      "(1024,)\n",
      "1\n",
      "1024\n",
      "1024\n",
      "(355, 1024)\n",
      "2\n",
      "355\n",
      "1024\n",
      "363520\n",
      "(1024,)\n",
      "1\n",
      "1024\n",
      "1024\n",
      "(772, 1024)\n",
      "2\n",
      "772\n",
      "1024\n",
      "790528\n",
      "(1024,)\n",
      "1\n",
      "1024\n",
      "1024\n",
      "(772, 1024)\n",
      "2\n",
      "772\n",
      "1024\n",
      "790528\n",
      "(1024,)\n",
      "1\n",
      "1024\n",
      "1024\n",
      "(524, 32)\n",
      "2\n",
      "524\n",
      "32\n",
      "16768\n",
      "(32,)\n",
      "1\n",
      "32\n",
      "32\n",
      "(524, 32)\n",
      "2\n",
      "524\n",
      "32\n",
      "16768\n",
      "(32,)\n",
      "1\n",
      "32\n",
      "32\n",
      "(9, 3)\n",
      "2\n",
      "9\n",
      "3\n",
      "27\n",
      "(355, 1024)\n",
      "2\n",
      "355\n",
      "1024\n",
      "363520\n",
      "(1024,)\n",
      "1\n",
      "1024\n",
      "1024\n",
      "(355, 1024)\n",
      "2\n",
      "355\n",
      "1024\n",
      "363520\n",
      "(1024,)\n",
      "1\n",
      "1024\n",
      "1024\n",
      "(772, 1024)\n",
      "2\n",
      "772\n",
      "1024\n",
      "790528\n",
      "(1024,)\n",
      "1\n",
      "1024\n",
      "1024\n",
      "(772, 1024)\n",
      "2\n",
      "772\n",
      "1024\n",
      "790528\n",
      "(1024,)\n",
      "1\n",
      "1024\n",
      "1024\n",
      "(524, 32)\n",
      "2\n",
      "524\n",
      "32\n",
      "16768\n",
      "(32,)\n",
      "1\n",
      "32\n",
      "32\n",
      "(524, 32)\n",
      "2\n",
      "524\n",
      "32\n",
      "16768\n",
      "(32,)\n",
      "1\n",
      "32\n",
      "32\n",
      "4691638\n"
     ]
    }
   ],
   "source": [
    "total_parameters = 0\n",
    "for variable in tf.trainable_variables():\n",
    "    # shape is an array of tf.Dimension\n",
    "    shape = variable.get_shape()\n",
    "    print(shape)\n",
    "    print(len(shape))\n",
    "    variable_parameters = 1\n",
    "    for dim in shape:\n",
    "        print(dim)\n",
    "        variable_parameters *= dim.value\n",
    "    print(variable_parameters)\n",
    "    total_parameters += variable_parameters\n",
    "print(total_parameters)"
   ]
  },
  {
   "cell_type": "code",
   "execution_count": 11,
   "metadata": {
    "ExecuteTime": {
     "end_time": "2021-08-16T19:54:06.725329Z",
     "start_time": "2021-08-16T19:54:06.716983Z"
    }
   },
   "outputs": [
    {
     "data": {
      "text/plain": [
       "4691638"
      ]
     },
     "execution_count": 11,
     "metadata": {},
     "output_type": "execute_result"
    }
   ],
   "source": [
    "np.sum([np.prod(v.get_shape().as_list()) for v in tf.trainable_variables()])"
   ]
  },
  {
   "cell_type": "markdown",
   "metadata": {},
   "source": [
    "# package"
   ]
  },
  {
   "cell_type": "code",
   "execution_count": null,
   "metadata": {},
   "outputs": [],
   "source": [
    "Count the number of parameters in ckpt file(tf-models/model-180921-modloss/pretrain-180921-modloss.ckpt)\n",
    "output_scope/backbone_rnn/fw/lstm_cell/kernel: [524, 32] => 16768\n",
    "output_scope/backbone_rnn/fw/lstm_cell/bias/Adam: [32] => 32\n",
    "output_scope/backbone_rnn/bw/lstm_cell/kernel/Adam_1: [524, 32] => 16768\n",
    "output_scope/backbone_rnn/bw/lstm_cell/kernel/Adam: [524, 32] => 16768\n",
    "output_scope/backbone_rnn/bw/lstm_cell/kernel: [524, 32] => 16768\n",
    "output_scope/backbone_rnn/fw/lstm_cell/bias: [32] => 32\n",
    "output_scope/backbone_rnn/bw/lstm_cell/bias/Adam_1: [32] => 32\n",
    "output_scope/backbone_rnn/fw/lstm_cell/bias/Adam_1: [32] => 32\n",
    "output_scope/backbone_rnn/bw/lstm_cell/bias/Adam: [32] => 32\n",
    "instrument_nce/scan_w/Adam: [9, 3] => 27\n",
    "output_scope/backbone_rnn/fw/lstm_cell/kernel/Adam_1: [524, 32] => 16768\n",
    "beta2_power: [] => 1\n",
    "beta1_power: [] => 1\n",
    "BiLSTM_1/fw/lstm_cell/kernel/Adam_1: [772, 1024] => 790528\n",
    "BiLSTM_0/fw/lstm_cell/kernel: [355, 1024] => 363520\n",
    "BiLSTM_0/fw/lstm_cell/bias/Adam_1: [1024] => 1024\n",
    "instrument_nce/scan_w: [9, 3] => 27\n",
    "BiLSTM_0/fw/lstm_cell/bias: [1024] => 1024\n",
    "BiLSTM_0/fw/lstm_cell/kernel/Adam: [355, 1024] => 363520\n",
    "output_scope/backbone_rnn/fw/lstm_cell/kernel/Adam: [524, 32] => 16768\n",
    "BiLSTM_0/fw/lstm_cell/bias/Adam: [1024] => 1024\n",
    "BiLSTM_1/fw/lstm_cell/kernel: [772, 1024] => 790528\n",
    "BiLSTM_1/bw/lstm_cell/bias/Adam: [1024] => 1024\n",
    "BiLSTM_0/bw/lstm_cell/kernel/Adam_1: [355, 1024] => 363520\n",
    "output_scope/backbone_rnn/bw/lstm_cell/bias: [32] => 32\n",
    "BiLSTM_0/bw/lstm_cell/bias/Adam: [1024] => 1024\n",
    "BiLSTM_1/bw/lstm_cell/kernel: [772, 1024] => 790528\n",
    "BiLSTM_0/bw/lstm_cell/bias/Adam_1: [1024] => 1024\n",
    "BiLSTM_0/bw/lstm_cell/kernel/Adam: [355, 1024] => 363520\n",
    "BiLSTM_0/fw/lstm_cell/kernel/Adam_1: [355, 1024] => 363520\n",
    "BiLSTM_1/bw/lstm_cell/bias: [1024] => 1024\n",
    "BiLSTM_1/bw/lstm_cell/bias/Adam_1: [1024] => 1024\n",
    "BiLSTM_1/fw/lstm_cell/kernel/Adam: [772, 1024] => 790528\n",
    "BiLSTM_0/bw/lstm_cell/kernel: [355, 1024] => 363520\n",
    "BiLSTM_1/bw/lstm_cell/kernel/Adam: [772, 1024] => 790528\n",
    "BiLSTM_1/bw/lstm_cell/kernel/Adam_1: [772, 1024] => 790528\n",
    "BiLSTM_0/bw/lstm_cell/bias: [1024] => 1024\n",
    "BiLSTM_1/fw/lstm_cell/bias: [1024] => 1024\n",
    "instrument_nce/scan_w/Adam_1: [9, 3] => 27\n",
    "BiLSTM_1/fw/lstm_cell/bias/Adam_1: [1024] => 1024\n",
    "BiLSTM_1/fw/lstm_cell/bias/Adam: [1024] => 1024\n",
    "Total Param Count: 7037459\n"
   ]
  },
  {
   "cell_type": "markdown",
   "metadata": {},
   "source": [
    "# not pretrained model"
   ]
  },
  {
   "cell_type": "code",
   "execution_count": 12,
   "metadata": {
    "ExecuteTime": {
     "end_time": "2021-08-16T20:04:20.565188Z",
     "start_time": "2021-08-16T20:04:17.172440Z"
    }
   },
   "outputs": [
    {
     "name": "stdout",
     "output_type": "stream",
     "text": [
      "BuildModel ... \n",
      "WARNING:tensorflow:From /home/bis/2021_SJH_detectability/Detectability/refModel/2019ACS_pDeep2/pDeep/pDeep2/model/lstm_tf.py:49: The name tf.reset_default_graph is deprecated. Please use tf.compat.v1.reset_default_graph instead.\n",
      "\n",
      "WARNING:tensorflow:From /home/bis/2021_SJH_detectability/Detectability/refModel/2019ACS_pDeep2/pDeep/pDeep2/model/lstm_tf.py:21: The name tf.summary.scalar is deprecated. Please use tf.compat.v1.summary.scalar instead.\n",
      "\n",
      "WARNING:tensorflow:From /home/bis/2021_SJH_detectability/Detectability/refModel/2019ACS_pDeep2/pDeep/pDeep2/model/lstm_tf.py:27: The name tf.summary.histogram is deprecated. Please use tf.compat.v1.summary.histogram instead.\n",
      "\n",
      "WARNING:tensorflow:From /home/bis/2021_SJH_detectability/Detectability/refModel/2019ACS_pDeep2/pDeep/pDeep2/model/lstm_tf.py:143: LSTMCell.__init__ (from tensorflow.python.ops.rnn_cell_impl) is deprecated and will be removed in a future version.\n",
      "Instructions for updating:\n",
      "This class is equivalent as tf.keras.layers.LSTMCell, and will be replaced by that in Tensorflow 2.0.\n",
      "WARNING:tensorflow:From /home/bis/2021_SJH_detectability/Detectability/refModel/2019ACS_pDeep2/pDeep/pDeep2/model/lstm_tf.py:147: bidirectional_dynamic_rnn (from tensorflow.python.ops.rnn) is deprecated and will be removed in a future version.\n",
      "Instructions for updating:\n",
      "Please use `keras.layers.Bidirectional(keras.layers.RNN(cell))`, which is equivalent to this API\n",
      "WARNING:tensorflow:From /home/bis/miniconda3/envs/TF1.14/lib/python3.6/site-packages/tensorflow/python/ops/rnn.py:464: dynamic_rnn (from tensorflow.python.ops.rnn) is deprecated and will be removed in a future version.\n",
      "Instructions for updating:\n",
      "Please use `keras.layers.RNN(cell)`, which is equivalent to this API\n",
      "WARNING:tensorflow:From /home/bis/miniconda3/envs/TF1.14/lib/python3.6/site-packages/tensorflow/python/ops/init_ops.py:1251: calling VarianceScaling.__init__ (from tensorflow.python.ops.init_ops) with dtype is deprecated and will be removed in a future version.\n",
      "Instructions for updating:\n",
      "Call initializer instance with the dtype argument instead of passing it to the constructor\n",
      "WARNING:tensorflow:From /home/bis/miniconda3/envs/TF1.14/lib/python3.6/site-packages/tensorflow/python/ops/rnn_cell_impl.py:961: calling Zeros.__init__ (from tensorflow.python.ops.init_ops) with dtype is deprecated and will be removed in a future version.\n",
      "Instructions for updating:\n",
      "Call initializer instance with the dtype argument instead of passing it to the constructor\n",
      "WARNING:tensorflow:Entity <bound method LSTMCell.call of <tensorflow.python.ops.rnn_cell_impl.LSTMCell object at 0x7fb8584cd128>> could not be transformed and will be executed as-is. Please report this to the AutgoGraph team. When filing the bug, set the verbosity to 10 (on Linux, `export AUTOGRAPH_VERBOSITY=10`) and attach the full output. Cause: converting <bound method LSTMCell.call of <tensorflow.python.ops.rnn_cell_impl.LSTMCell object at 0x7fb8584cd128>>: AttributeError: module 'gast' has no attribute 'Index'\n",
      "WARNING: Entity <bound method LSTMCell.call of <tensorflow.python.ops.rnn_cell_impl.LSTMCell object at 0x7fb8584cd128>> could not be transformed and will be executed as-is. Please report this to the AutgoGraph team. When filing the bug, set the verbosity to 10 (on Linux, `export AUTOGRAPH_VERBOSITY=10`) and attach the full output. Cause: converting <bound method LSTMCell.call of <tensorflow.python.ops.rnn_cell_impl.LSTMCell object at 0x7fb8584cd128>>: AttributeError: module 'gast' has no attribute 'Index'\n",
      "WARNING:tensorflow:From /home/bis/miniconda3/envs/TF1.14/lib/python3.6/site-packages/tensorflow/python/ops/rnn.py:244: add_dispatch_support.<locals>.wrapper (from tensorflow.python.ops.array_ops) is deprecated and will be removed in a future version.\n",
      "Instructions for updating:\n",
      "Use tf.where in 2.0, which has the same broadcast rule as np.where\n",
      "WARNING:tensorflow:Entity <bound method LSTMCell.call of <tensorflow.python.ops.rnn_cell_impl.LSTMCell object at 0x7fb858575eb8>> could not be transformed and will be executed as-is. Please report this to the AutgoGraph team. When filing the bug, set the verbosity to 10 (on Linux, `export AUTOGRAPH_VERBOSITY=10`) and attach the full output. Cause: converting <bound method LSTMCell.call of <tensorflow.python.ops.rnn_cell_impl.LSTMCell object at 0x7fb858575eb8>>: AttributeError: module 'gast' has no attribute 'Index'\n",
      "WARNING: Entity <bound method LSTMCell.call of <tensorflow.python.ops.rnn_cell_impl.LSTMCell object at 0x7fb858575eb8>> could not be transformed and will be executed as-is. Please report this to the AutgoGraph team. When filing the bug, set the verbosity to 10 (on Linux, `export AUTOGRAPH_VERBOSITY=10`) and attach the full output. Cause: converting <bound method LSTMCell.call of <tensorflow.python.ops.rnn_cell_impl.LSTMCell object at 0x7fb858575eb8>>: AttributeError: module 'gast' has no attribute 'Index'\n",
      "WARNING:tensorflow:From /home/bis/2021_SJH_detectability/Detectability/refModel/2019ACS_pDeep2/pDeep/pDeep2/model/lstm_tf.py:150: calling dropout (from tensorflow.python.ops.nn_ops) with keep_prob is deprecated and will be removed in a future version.\n",
      "Instructions for updating:\n",
      "Please use `rate` instead of `keep_prob`. Rate should be set to `rate = 1 - keep_prob`.\n",
      "WARNING:tensorflow:Entity <bound method LSTMCell.call of <tensorflow.python.ops.rnn_cell_impl.LSTMCell object at 0x7fb858294ef0>> could not be transformed and will be executed as-is. Please report this to the AutgoGraph team. When filing the bug, set the verbosity to 10 (on Linux, `export AUTOGRAPH_VERBOSITY=10`) and attach the full output. Cause: converting <bound method LSTMCell.call of <tensorflow.python.ops.rnn_cell_impl.LSTMCell object at 0x7fb858294ef0>>: AttributeError: module 'gast' has no attribute 'Index'\n",
      "WARNING: Entity <bound method LSTMCell.call of <tensorflow.python.ops.rnn_cell_impl.LSTMCell object at 0x7fb858294ef0>> could not be transformed and will be executed as-is. Please report this to the AutgoGraph team. When filing the bug, set the verbosity to 10 (on Linux, `export AUTOGRAPH_VERBOSITY=10`) and attach the full output. Cause: converting <bound method LSTMCell.call of <tensorflow.python.ops.rnn_cell_impl.LSTMCell object at 0x7fb858294ef0>>: AttributeError: module 'gast' has no attribute 'Index'\n",
      "WARNING:tensorflow:Entity <bound method LSTMCell.call of <tensorflow.python.ops.rnn_cell_impl.LSTMCell object at 0x7fb8584cd128>> could not be transformed and will be executed as-is. Please report this to the AutgoGraph team. When filing the bug, set the verbosity to 10 (on Linux, `export AUTOGRAPH_VERBOSITY=10`) and attach the full output. Cause: converting <bound method LSTMCell.call of <tensorflow.python.ops.rnn_cell_impl.LSTMCell object at 0x7fb8584cd128>>: AttributeError: module 'gast' has no attribute 'Index'\n",
      "WARNING: Entity <bound method LSTMCell.call of <tensorflow.python.ops.rnn_cell_impl.LSTMCell object at 0x7fb8584cd128>> could not be transformed and will be executed as-is. Please report this to the AutgoGraph team. When filing the bug, set the verbosity to 10 (on Linux, `export AUTOGRAPH_VERBOSITY=10`) and attach the full output. Cause: converting <bound method LSTMCell.call of <tensorflow.python.ops.rnn_cell_impl.LSTMCell object at 0x7fb8584cd128>>: AttributeError: module 'gast' has no attribute 'Index'\n",
      "WARNING:tensorflow:Entity <bound method LSTMCell.call of <tensorflow.python.ops.rnn_cell_impl.LSTMCell object at 0x7fb83c380198>> could not be transformed and will be executed as-is. Please report this to the AutgoGraph team. When filing the bug, set the verbosity to 10 (on Linux, `export AUTOGRAPH_VERBOSITY=10`) and attach the full output. Cause: converting <bound method LSTMCell.call of <tensorflow.python.ops.rnn_cell_impl.LSTMCell object at 0x7fb83c380198>>: AttributeError: module 'gast' has no attribute 'Index'\n",
      "WARNING: Entity <bound method LSTMCell.call of <tensorflow.python.ops.rnn_cell_impl.LSTMCell object at 0x7fb83c380198>> could not be transformed and will be executed as-is. Please report this to the AutgoGraph team. When filing the bug, set the verbosity to 10 (on Linux, `export AUTOGRAPH_VERBOSITY=10`) and attach the full output. Cause: converting <bound method LSTMCell.call of <tensorflow.python.ops.rnn_cell_impl.LSTMCell object at 0x7fb83c380198>>: AttributeError: module 'gast' has no attribute 'Index'\n"
     ]
    },
    {
     "name": "stdout",
     "output_type": "stream",
     "text": [
      "WARNING:tensorflow:Entity <bound method LSTMCell.call of <tensorflow.python.ops.rnn_cell_impl.LSTMCell object at 0x7fb83c58cb70>> could not be transformed and will be executed as-is. Please report this to the AutgoGraph team. When filing the bug, set the verbosity to 10 (on Linux, `export AUTOGRAPH_VERBOSITY=10`) and attach the full output. Cause: converting <bound method LSTMCell.call of <tensorflow.python.ops.rnn_cell_impl.LSTMCell object at 0x7fb83c58cb70>>: AttributeError: module 'gast' has no attribute 'Index'\n",
      "WARNING: Entity <bound method LSTMCell.call of <tensorflow.python.ops.rnn_cell_impl.LSTMCell object at 0x7fb83c58cb70>> could not be transformed and will be executed as-is. Please report this to the AutgoGraph team. When filing the bug, set the verbosity to 10 (on Linux, `export AUTOGRAPH_VERBOSITY=10`) and attach the full output. Cause: converting <bound method LSTMCell.call of <tensorflow.python.ops.rnn_cell_impl.LSTMCell object at 0x7fb83c58cb70>>: AttributeError: module 'gast' has no attribute 'Index'\n",
      "WARNING:tensorflow:From /home/bis/2021_SJH_detectability/Detectability/refModel/2019ACS_pDeep2/pDeep/pDeep2/model/lstm_tf.py:229: The name tf.train.AdamOptimizer is deprecated. Please use tf.compat.v1.train.AdamOptimizer instead.\n",
      "\n",
      "WARNING:tensorflow:From /home/bis/2021_SJH_detectability/Detectability/refModel/2019ACS_pDeep2/pDeep/pDeep2/model/lstm_tf.py:233: The name tf.summary.merge_all is deprecated. Please use tf.compat.v1.summary.merge_all instead.\n",
      "\n",
      "WARNING:tensorflow:From /home/bis/2021_SJH_detectability/Detectability/refModel/2019ACS_pDeep2/pDeep/pDeep2/model/lstm_tf.py:238: The name tf.summary.FileWriter is deprecated. Please use tf.compat.v1.summary.FileWriter instead.\n",
      "\n"
     ]
    }
   ],
   "source": [
    "ion_types = ['b{}', 'y{}']\n",
    "mod_config = fconfig.HCD_CommonMod_Config()\n",
    "mod_config.SetFixMod(['Carbamidomethyl[C]'])\n",
    "mod_config.varmod = [\"Oxidation[M]\"]\n",
    "mod_config.SetIonTypes(ion_types)\n",
    "mod_config.time_step = 100\n",
    "mod_config.min_var_mod_num = 0\n",
    "mod_config.max_var_mod_num = 2\n",
    "\n",
    "pdeep = lstm.IonLSTM(mod_config)\n",
    "\n",
    "pdeep.learning_rate = 0.001\n",
    "pdeep.layer_size = 256\n",
    "pdeep.batch_size = 1024\n",
    "pdeep.BuildModel(input_size = 98, output_size = mod_config.GetTFOutputSize(), nlayers = 2)"
   ]
  },
  {
   "cell_type": "code",
   "execution_count": 37,
   "metadata": {
    "ExecuteTime": {
     "end_time": "2021-08-16T20:16:46.108419Z",
     "start_time": "2021-08-16T20:16:46.105841Z"
    }
   },
   "outputs": [
    {
     "name": "stdout",
     "output_type": "stream",
     "text": [
      "4\n"
     ]
    }
   ],
   "source": [
    "print(mod_config.GetTFOutputSize())"
   ]
  },
  {
   "cell_type": "code",
   "execution_count": 39,
   "metadata": {
    "ExecuteTime": {
     "end_time": "2021-08-16T20:17:07.174335Z",
     "start_time": "2021-08-16T20:17:07.168444Z"
    },
    "scrolled": false
   },
   "outputs": [
    {
     "name": "stdout",
     "output_type": "stream",
     "text": [
      "(9, 3)\n",
      "2\n",
      "27\n",
      "(355, 1024)\n",
      "2\n",
      "363520\n",
      "(1024,)\n",
      "1\n",
      "1024\n",
      "(355, 1024)\n",
      "2\n",
      "363520\n",
      "(1024,)\n",
      "1\n",
      "1024\n",
      "(772, 1024)\n",
      "2\n",
      "790528\n",
      "(1024,)\n",
      "1\n",
      "1024\n",
      "(772, 1024)\n",
      "2\n",
      "790528\n",
      "(1024,)\n",
      "1\n",
      "1024\n",
      "(520, 16)\n",
      "2\n",
      "8320\n",
      "(16,)\n",
      "1\n",
      "16\n",
      "(520, 16)\n",
      "2\n",
      "8320\n",
      "(16,)\n",
      "1\n",
      "16\n",
      "2328891\n"
     ]
    }
   ],
   "source": [
    "total_parameters = 0\n",
    "for variable in tf.trainable_variables():\n",
    "    # shape is an array of tf.Dimension\n",
    "    shape = variable.get_shape()\n",
    "    print(shape)\n",
    "    print(len(shape))\n",
    "    variable_parameters = 1\n",
    "    for dim in shape:\n",
    "#         print(dim)\n",
    "        variable_parameters *= dim.value\n",
    "    print(variable_parameters)\n",
    "    total_parameters += variable_parameters\n",
    "print(total_parameters)"
   ]
  },
  {
   "cell_type": "code",
   "execution_count": 22,
   "metadata": {
    "ExecuteTime": {
     "end_time": "2021-08-16T20:07:31.690038Z",
     "start_time": "2021-08-16T20:07:31.686061Z"
    }
   },
   "outputs": [
    {
     "data": {
      "text/plain": [
       "2328891"
      ]
     },
     "execution_count": 22,
     "metadata": {},
     "output_type": "execute_result"
    }
   ],
   "source": [
    "np.sum([np.prod(v.get_shape().as_list()) for v in tf.trainable_variables()])"
   ]
  },
  {
   "cell_type": "markdown",
   "metadata": {},
   "source": [
    "# data"
   ]
  },
  {
   "cell_type": "code",
   "execution_count": 8,
   "metadata": {
    "ExecuteTime": {
     "end_time": "2021-08-16T14:00:28.537133Z",
     "start_time": "2021-08-16T14:00:28.318563Z"
    }
   },
   "outputs": [],
   "source": [
    "pt_g6 = pd.read_csv('data/ProteomeTools/01625b_GA6-TUM_first_pool_41_01_01-3xHCD-1h-R1.plabel', sep='\\t')\n",
    "pt_g7 = pd.read_csv('data/ProteomeTools/01625b_GA7-TUM_first_pool_120_01_01-3xHCD-1h-R1.plabel', sep='\\t')"
   ]
  },
  {
   "cell_type": "code",
   "execution_count": 9,
   "metadata": {
    "ExecuteTime": {
     "end_time": "2021-08-16T14:00:43.294822Z",
     "start_time": "2021-08-16T14:00:43.291787Z"
    }
   },
   "outputs": [
    {
     "name": "stdout",
     "output_type": "stream",
     "text": [
      "(13004, 11) (9431, 11)\n"
     ]
    }
   ],
   "source": [
    "print(pt_g6.shape, pt_g7.shape)"
   ]
  },
  {
   "cell_type": "code",
   "execution_count": 10,
   "metadata": {
    "ExecuteTime": {
     "end_time": "2021-08-16T14:00:47.329825Z",
     "start_time": "2021-08-16T14:00:47.318313Z"
    }
   },
   "outputs": [
    {
     "data": {
      "text/html": [
       "<div>\n",
       "<style scoped>\n",
       "    .dataframe tbody tr th:only-of-type {\n",
       "        vertical-align: middle;\n",
       "    }\n",
       "\n",
       "    .dataframe tbody tr th {\n",
       "        vertical-align: top;\n",
       "    }\n",
       "\n",
       "    .dataframe thead th {\n",
       "        text-align: right;\n",
       "    }\n",
       "</style>\n",
       "<table border=\"1\" class=\"dataframe\">\n",
       "  <thead>\n",
       "    <tr style=\"text-align: right;\">\n",
       "      <th></th>\n",
       "      <th>spec</th>\n",
       "      <th>peptide</th>\n",
       "      <th>modinfo</th>\n",
       "      <th>b</th>\n",
       "      <th>b-NH3</th>\n",
       "      <th>b-H2O</th>\n",
       "      <th>b-ModLoss</th>\n",
       "      <th>y</th>\n",
       "      <th>y-NH3</th>\n",
       "      <th>y-H2O</th>\n",
       "      <th>y-ModLoss</th>\n",
       "    </tr>\n",
       "  </thead>\n",
       "  <tbody>\n",
       "    <tr>\n",
       "      <th>0</th>\n",
       "      <td>01625b_GA6-TUM_first_pool_41_01_01-3xHCD-1h-R1...</td>\n",
       "      <td>HLDLIEMLEAK</td>\n",
       "      <td>7,Oxidation[M];</td>\n",
       "      <td>b1+1,325014.9;b2+1,3336692.3;b3+1,782299.1;b4+...</td>\n",
       "      <td>b2-NH3+1,99423.1;b6-NH3+1,24342.3;b8-NH3+1,263...</td>\n",
       "      <td>b3-H2O+1,569043.4;b5-H2O+1,38893.7;b6-H2O+1,79...</td>\n",
       "      <td>b7-ModLoss+1,289430.5;b7-ModLoss+2,105029.3;b8...</td>\n",
       "      <td>y10+1,644353.9;y9+1,1524192.6;y8+1,371562.3;y7...</td>\n",
       "      <td>y9-NH3+1,50124.9;y6-NH3+1,26595.2;y2-NH3+1,962...</td>\n",
       "      <td>y9-H2O+1,77871.4;y6-H2O+1,65700.5;y3-H2O+1,350...</td>\n",
       "      <td>y10-ModLoss+1,733900.8;y9-ModLoss+1,1696219.9;...</td>\n",
       "    </tr>\n",
       "    <tr>\n",
       "      <th>1</th>\n",
       "      <td>01625b_GA6-TUM_first_pool_41_01_01-3xHCD-1h-R1...</td>\n",
       "      <td>HLDLIEMLEAK</td>\n",
       "      <td>7,Oxidation[M];</td>\n",
       "      <td>b1+1,76364.2;b2+1,750020.6;b3+1,183478;b4+1,17...</td>\n",
       "      <td>NaN</td>\n",
       "      <td>b3-H2O+1,128524.2;b6-H2O+1,27056;b7-H2O+1,3270...</td>\n",
       "      <td>b7-ModLoss+1,79250.6;b7-ModLoss+2,22529.3;b8-M...</td>\n",
       "      <td>y10+1,110337;y9+1,324225.4;y8+1,82257.2;y7+1,5...</td>\n",
       "      <td>y2-NH3+1,91712.6;y1-NH3+1,96104;</td>\n",
       "      <td>y9-H2O+1,21417.1;y6-H2O+1,18130;y3-H2O+1,76746...</td>\n",
       "      <td>y10-ModLoss+1,160679.6;y9-ModLoss+1,355289.2;y...</td>\n",
       "    </tr>\n",
       "  </tbody>\n",
       "</table>\n",
       "</div>"
      ],
      "text/plain": [
       "                                                spec      peptide  \\\n",
       "0  01625b_GA6-TUM_first_pool_41_01_01-3xHCD-1h-R1...  HLDLIEMLEAK   \n",
       "1  01625b_GA6-TUM_first_pool_41_01_01-3xHCD-1h-R1...  HLDLIEMLEAK   \n",
       "\n",
       "           modinfo                                                  b  \\\n",
       "0  7,Oxidation[M];  b1+1,325014.9;b2+1,3336692.3;b3+1,782299.1;b4+...   \n",
       "1  7,Oxidation[M];  b1+1,76364.2;b2+1,750020.6;b3+1,183478;b4+1,17...   \n",
       "\n",
       "                                               b-NH3  \\\n",
       "0  b2-NH3+1,99423.1;b6-NH3+1,24342.3;b8-NH3+1,263...   \n",
       "1                                                NaN   \n",
       "\n",
       "                                               b-H2O  \\\n",
       "0  b3-H2O+1,569043.4;b5-H2O+1,38893.7;b6-H2O+1,79...   \n",
       "1  b3-H2O+1,128524.2;b6-H2O+1,27056;b7-H2O+1,3270...   \n",
       "\n",
       "                                           b-ModLoss  \\\n",
       "0  b7-ModLoss+1,289430.5;b7-ModLoss+2,105029.3;b8...   \n",
       "1  b7-ModLoss+1,79250.6;b7-ModLoss+2,22529.3;b8-M...   \n",
       "\n",
       "                                                   y  \\\n",
       "0  y10+1,644353.9;y9+1,1524192.6;y8+1,371562.3;y7...   \n",
       "1  y10+1,110337;y9+1,324225.4;y8+1,82257.2;y7+1,5...   \n",
       "\n",
       "                                               y-NH3  \\\n",
       "0  y9-NH3+1,50124.9;y6-NH3+1,26595.2;y2-NH3+1,962...   \n",
       "1                   y2-NH3+1,91712.6;y1-NH3+1,96104;   \n",
       "\n",
       "                                               y-H2O  \\\n",
       "0  y9-H2O+1,77871.4;y6-H2O+1,65700.5;y3-H2O+1,350...   \n",
       "1  y9-H2O+1,21417.1;y6-H2O+1,18130;y3-H2O+1,76746...   \n",
       "\n",
       "                                           y-ModLoss  \n",
       "0  y10-ModLoss+1,733900.8;y9-ModLoss+1,1696219.9;...  \n",
       "1  y10-ModLoss+1,160679.6;y9-ModLoss+1,355289.2;y...  "
      ]
     },
     "execution_count": 10,
     "metadata": {},
     "output_type": "execute_result"
    }
   ],
   "source": [
    "pt_g6.head(2)"
   ]
  }
 ],
 "metadata": {
  "kernelspec": {
   "display_name": "TF1.14",
   "language": "python",
   "name": "tf1.14"
  },
  "language_info": {
   "codemirror_mode": {
    "name": "ipython",
    "version": 3
   },
   "file_extension": ".py",
   "mimetype": "text/x-python",
   "name": "python",
   "nbconvert_exporter": "python",
   "pygments_lexer": "ipython3",
   "version": "3.6.13"
  }
 },
 "nbformat": 4,
 "nbformat_minor": 4
}
