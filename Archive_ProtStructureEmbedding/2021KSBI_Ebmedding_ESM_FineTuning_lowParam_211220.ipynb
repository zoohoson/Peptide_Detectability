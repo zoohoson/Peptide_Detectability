{
 "cells": [
  {
   "cell_type": "code",
   "execution_count": 13,
   "metadata": {
    "ExecuteTime": {
     "end_time": "2021-12-19T19:44:02.908277Z",
     "start_time": "2021-12-19T19:44:02.904448Z"
    }
   },
   "outputs": [],
   "source": [
    "import pandas as pd\n",
    "import numpy as np\n",
    "import matplotlib.pyplot as plt\n",
    "import seaborn as sns\n",
    "from sklearn.metrics import classification_report\n",
    "from sklearn.metrics import confusion_matrix\n",
    "from sklearn.metrics import roc_curve\n",
    "from sklearn.metrics import roc_auc_score\n",
    "from sklearn.model_selection import train_test_split"
   ]
  },
  {
   "cell_type": "code",
   "execution_count": 2,
   "metadata": {
    "ExecuteTime": {
     "end_time": "2021-12-14T13:49:44.730985Z",
     "start_time": "2021-12-14T13:49:44.719236Z"
    }
   },
   "outputs": [
    {
     "name": "stdout",
     "output_type": "stream",
     "text": [
      "(19, 21)\n"
     ]
    }
   ],
   "source": [
    "df_aaindex = pd.read_csv('../data/aaindex/df_aaindex19.csv')\n",
    "print(df_aaindex.shape)\n",
    "df_aaindex.head(1)\n",
    "tmp = df_aaindex.drop('Unnamed: 0',axis=1).T\n",
    "aa2val = dict()\n",
    "for aa, val in zip(tmp.index, tmp.values):\n",
    "    aa2val[aa]=val"
   ]
  },
  {
   "cell_type": "code",
   "execution_count": 3,
   "metadata": {
    "ExecuteTime": {
     "end_time": "2021-12-14T13:52:48.733756Z",
     "start_time": "2021-12-14T13:52:45.951473Z"
    }
   },
   "outputs": [
    {
     "data": {
      "text/html": [
       "<div>\n",
       "<style scoped>\n",
       "    .dataframe tbody tr th:only-of-type {\n",
       "        vertical-align: middle;\n",
       "    }\n",
       "\n",
       "    .dataframe tbody tr th {\n",
       "        vertical-align: top;\n",
       "    }\n",
       "\n",
       "    .dataframe thead th {\n",
       "        text-align: right;\n",
       "    }\n",
       "</style>\n",
       "<table border=\"1\" class=\"dataframe\">\n",
       "  <thead>\n",
       "    <tr style=\"text-align: right;\">\n",
       "      <th></th>\n",
       "      <th>peptide</th>\n",
       "      <th>En</th>\n",
       "      <th>Ec</th>\n",
       "      <th>E1</th>\n",
       "      <th>E2</th>\n",
       "      <th>protein</th>\n",
       "      <th>PEP</th>\n",
       "      <th>ID</th>\n",
       "    </tr>\n",
       "  </thead>\n",
       "  <tbody>\n",
       "    <tr>\n",
       "      <th>595411</th>\n",
       "      <td>K.QELNEPPKQSTSFLVLQEILESEEKGDPNK.P</td>\n",
       "      <td>VYKMLQEKQELNEPP</td>\n",
       "      <td>EEKGDPNKPSGFRSV</td>\n",
       "      <td>QELNEPPKQSTSFLV</td>\n",
       "      <td>EILESEEKGDPNKPS</td>\n",
       "      <td>sp|O00151|PDLI1_HUMAN</td>\n",
       "      <td>QELNEPPKQSTSFLVLQEILESEEKGDPNK</td>\n",
       "      <td>0</td>\n",
       "    </tr>\n",
       "  </tbody>\n",
       "</table>\n",
       "</div>"
      ],
      "text/plain": [
       "                                   peptide               En               Ec  \\\n",
       "595411  K.QELNEPPKQSTSFLVLQEILESEEKGDPNK.P  VYKMLQEKQELNEPP  EEKGDPNKPSGFRSV   \n",
       "\n",
       "                     E1               E2                protein  \\\n",
       "595411  QELNEPPKQSTSFLV  EILESEEKGDPNKPS  sp|O00151|PDLI1_HUMAN   \n",
       "\n",
       "                                   PEP  ID  \n",
       "595411  QELNEPPKQSTSFLVLQEILESEEKGDPNK   0  "
      ]
     },
     "execution_count": 3,
     "metadata": {},
     "output_type": "execute_result"
    }
   ],
   "source": [
    "df_detect_peptide_train = pd.read_csv('../data/df_detect_peptide_train.csv')\n",
    "test = pd.read_csv('../data/df_detect_peptide_test.csv')\n",
    "train, val = train_test_split(df_detect_peptide_train, test_size=0.2, random_state=7)\n",
    "\n",
    "df = pd.concat([train, val, test], axis=0).reset_index(drop=True)\n",
    "\n",
    "train_idx = df.iloc[:len(train), :].index\n",
    "val_idx = df.iloc[len(train):len(train)+len(val), :].index\n",
    "test_idx = df.iloc[len(train)+len(val):, :].index\n",
    "\n",
    "train.head(1)"
   ]
  },
  {
   "cell_type": "markdown",
   "metadata": {},
   "source": [
    "# torch gpu"
   ]
  },
  {
   "cell_type": "code",
   "execution_count": 5,
   "metadata": {
    "ExecuteTime": {
     "end_time": "2021-12-14T13:53:11.863274Z",
     "start_time": "2021-12-14T13:53:11.116391Z"
    }
   },
   "outputs": [],
   "source": [
    "import sys\n",
    "PATH_TO_REPO = \"/home/bis/2021_AIhub/esm/\"\n",
    "sys.path.append(PATH_TO_REPO)\n",
    "\n",
    "import torch\n",
    "import esm\n",
    "\n",
    "from tqdm.notebook import tqdm\n",
    "from tqdm import tqdm, tqdm_notebook\n",
    "import time\n",
    "from torch import nn\n",
    "import torch.nn.functional as F\n",
    "import torch.optim as optim\n",
    "from torch.utils.data import Dataset, DataLoader\n",
    "\n",
    "from transformers import AdamW\n",
    "# from transformers.optimization import get_cosine_schedule_with_warmup\n",
    "from transformers import WarmupLinearSchedule as get_linear_schedule_with_warmup"
   ]
  },
  {
   "cell_type": "code",
   "execution_count": 6,
   "metadata": {
    "ExecuteTime": {
     "end_time": "2021-12-14T13:53:13.771046Z",
     "start_time": "2021-12-14T13:53:13.768299Z"
    }
   },
   "outputs": [],
   "source": [
    "##GPU 사용 시\n",
    "device = torch.device(\"cuda\")"
   ]
  },
  {
   "cell_type": "code",
   "execution_count": 7,
   "metadata": {
    "ExecuteTime": {
     "end_time": "2021-12-14T13:53:26.411525Z",
     "start_time": "2021-12-14T13:53:14.507095Z"
    }
   },
   "outputs": [],
   "source": [
    "esm_model, alphabet = esm.pretrained.esm1b_t33_650M_UR50S()\n",
    "batch_converter = alphabet.get_batch_converter()"
   ]
  },
  {
   "cell_type": "code",
   "execution_count": 8,
   "metadata": {
    "ExecuteTime": {
     "end_time": "2021-12-14T13:53:26.419301Z",
     "start_time": "2021-12-14T13:53:26.413176Z"
    }
   },
   "outputs": [],
   "source": [
    "ct = 0\n",
    "for child in esm_model.children():\n",
    "    ct += 1\n",
    "#     print(ct, child)\n",
    "#     if ct < 7:\n",
    "    for param in child.parameters():\n",
    "        param.requires_grad = False"
   ]
  },
  {
   "cell_type": "code",
   "execution_count": 9,
   "metadata": {
    "ExecuteTime": {
     "end_time": "2021-12-14T13:53:26.432526Z",
     "start_time": "2021-12-14T13:53:26.420531Z"
    }
   },
   "outputs": [],
   "source": [
    "class ESMDataset(Dataset):\n",
    "    def __init__(self, datasets, idxes):\n",
    "        pep_idx, nterm_idx, cterm_idx, m1term_idx, m2term_idx, label_idx = idxes\n",
    "        pep_data = [(label, seq) for label, seq in zip(datasets[:, label_idx], datasets[:, pep_idx])]\n",
    "        nterm_data = [(label, seq) for label, seq in zip(datasets[:, label_idx], datasets[:, nterm_idx])]\n",
    "        cterm_data = [(label, seq) for label, seq in zip(datasets[:, label_idx], datasets[:, cterm_idx])]\n",
    "        m1_data = [(label, seq) for label, seq in zip(datasets[:, label_idx], datasets[:, m1term_idx])]\n",
    "        m2_data = [(label, seq) for label, seq in zip(datasets[:, label_idx], datasets[:, m2term_idx])]\n",
    "        \n",
    "        labels, pep_strs, pep_tokens = batch_converter(pep_data)\n",
    "        _, n_strs, n_tokens = batch_converter(nterm_data)\n",
    "        _, c_strs, c_tokens = batch_converter(cterm_data)\n",
    "        _, m1_strs, m1_tokens = batch_converter(m1_data)\n",
    "        _, m2_strs, m2_tokens = batch_converter(m2_data)\n",
    "\n",
    "        self.sentences = [pep_tokens, n_tokens, c_tokens, m1_tokens, m2_tokens]\n",
    "        self.labels = labels\n",
    "\n",
    "    def __getitem__(self, i):\n",
    "        return (\n",
    "                (self.sentences[0][i], ) + (self.sentences[1][i],) \\\n",
    "                + (self.sentences[2][i], ) + (self.sentences[3][i], ) + (self.sentences[4][i], ) \\\n",
    "                + (self.labels[i], )\n",
    "               )\n",
    "\n",
    "    def __len__(self):\n",
    "        return (len(self.labels))\n",
    "\n",
    "# [PAD] = 1, [MASK] = 21  [CLS] = 0 (special classification token), [SEP] = 2 (seperate segment), Z = 27, '-' = 30, .=29, ,=28\n",
    "# J 없음\n",
    "# A 2, B 25, C 23, D 13, E 9, F 18, G 6, H 21, I 12, K 15, L 4, M 20, N 17, \n",
    "# O 28, P 14, Q 16, R 10, S 8, T 11, U 26, V 7, W 22, X 24, Y 19, Z 27\n",
    "# 3 5 없음"
   ]
  },
  {
   "cell_type": "code",
   "execution_count": 10,
   "metadata": {
    "ExecuteTime": {
     "end_time": "2021-12-14T13:53:33.230745Z",
     "start_time": "2021-12-14T13:53:33.228315Z"
    }
   },
   "outputs": [],
   "source": [
    "## Setting parameters\n",
    "max_len = 30\n",
    "batch_size = 256\n",
    "warmup_ratio = 0.1\n",
    "num_epochs = 10\n",
    "max_grad_norm = 1\n",
    "log_interval = 200\n",
    "learning_rate =  1e-4"
   ]
  },
  {
   "cell_type": "code",
   "execution_count": 11,
   "metadata": {
    "ExecuteTime": {
     "end_time": "2021-12-14T14:01:27.249021Z",
     "start_time": "2021-12-14T13:53:41.965376Z"
    }
   },
   "outputs": [
    {
     "name": "stdout",
     "output_type": "stream",
     "text": [
      "465.28 sec\n"
     ]
    }
   ],
   "source": [
    "s = time.time()\n",
    "\n",
    "dataset_train = train[['PEP', 'En', 'Ec', 'E1', 'E2', 'ID']].values\n",
    "dataset_valid = val[['PEP', 'En', 'Ec', 'E1', 'E2', 'ID']].values\n",
    "dataset_test = test[['PEP', 'En', 'Ec', 'E1', 'E2', 'ID']].values\n",
    "\n",
    "data_train = ESMDataset(dataset_train, [0, 1, 2, 3, 4, 5])\n",
    "data_valid = ESMDataset(dataset_valid, [0, 1, 2, 3, 4, 5])\n",
    "\n",
    "train_dataloader = torch.utils.data.DataLoader(data_train, batch_size=batch_size, num_workers=48)\n",
    "valid_dataloader = torch.utils.data.DataLoader(data_valid, batch_size=batch_size, num_workers=48)\n",
    "\n",
    "e = time.time()\n",
    "print(round(e-s, 2),'sec')"
   ]
  },
  {
   "cell_type": "code",
   "execution_count": 12,
   "metadata": {
    "ExecuteTime": {
     "end_time": "2021-12-14T14:02:56.698151Z",
     "start_time": "2021-12-14T14:01:27.250346Z"
    }
   },
   "outputs": [],
   "source": [
    "data_test = ESMDataset(dataset_test, [0, 1, 2, 3, 4, 5])\n",
    "test_dataloader = torch.utils.data.DataLoader(data_test, batch_size=batch_size, num_workers=48)"
   ]
  },
  {
   "cell_type": "code",
   "execution_count": 16,
   "metadata": {
    "ExecuteTime": {
     "end_time": "2021-12-19T20:23:11.486306Z",
     "start_time": "2021-12-19T20:23:11.482209Z"
    }
   },
   "outputs": [
    {
     "data": {
      "text/plain": [
       "(tensor([ 0,  7,  5, 17, 11,  8, 11, 16, 11, 20,  6, 14, 10, 14,  5,  5,  5,  5,\n",
       "          5,  5,  5, 11, 14,  5,  7, 10,  2,  1,  1,  1,  1,  1]),\n",
       " tensor([ 0, 14, 10,  7, 20,  8, 11, 16, 10,  7,  5, 17, 11,  8, 11, 16,  2]),\n",
       " tensor([ 0,  5,  5,  5, 11, 14,  5,  7, 10, 11,  7, 14, 16, 19, 15, 19,  2]),\n",
       " tensor([ 0,  8, 11, 16, 11, 20,  6, 14, 10, 14,  5,  5,  5,  5,  5,  5,  2]),\n",
       " tensor([ 0, 30,  2,  1,  1,  1,  1,  1,  1,  1,  1,  1,  1,  1,  1,  1,  1]),\n",
       " 1)"
      ]
     },
     "execution_count": 16,
     "metadata": {},
     "output_type": "execute_result"
    }
   ],
   "source": [
    "data_train[2]"
   ]
  },
  {
   "cell_type": "code",
   "execution_count": 21,
   "metadata": {
    "ExecuteTime": {
     "end_time": "2021-12-19T20:25:50.008748Z",
     "start_time": "2021-12-19T20:25:49.876507Z"
    }
   },
   "outputs": [],
   "source": [
    "zero_miss_site = torch.tensor([[ 0, 30,  2,  1,  1,  1,  1,  1,  1,  1,  1,  1,  1,  1,  1,  1,  1],\n",
    "                               [ 0, 30,  2,  1,  1,  1,  1,  1,  1,  1,  1,  1,  1,  1,  1,  1,  1]])  # '-'\n",
    "result = esm_model(zero_miss_site, repr_layers=[33])['representations'][33]"
   ]
  },
  {
   "cell_type": "code",
   "execution_count": 24,
   "metadata": {
    "ExecuteTime": {
     "end_time": "2021-12-19T20:25:55.668370Z",
     "start_time": "2021-12-19T20:25:55.665324Z"
    }
   },
   "outputs": [
    {
     "data": {
      "text/plain": [
       "torch.Size([17, 1280])"
      ]
     },
     "execution_count": 24,
     "metadata": {},
     "output_type": "execute_result"
    }
   ],
   "source": [
    "result[0].shape"
   ]
  },
  {
   "cell_type": "markdown",
   "metadata": {},
   "source": [
    "# model"
   ]
  },
  {
   "cell_type": "code",
   "execution_count": 14,
   "metadata": {
    "ExecuteTime": {
     "end_time": "2021-12-04T19:37:07.042160Z",
     "start_time": "2021-12-04T19:37:07.030533Z"
    }
   },
   "outputs": [
    {
     "name": "stdout",
     "output_type": "stream",
     "text": [
      "tensor([[[True, True, True, True, True, True, True, True, True, True, True,\n",
      "          True, True, True, True, True, True, True, True, True],\n",
      "         [True, True, True, True, True, True, True, True, True, True, True,\n",
      "          True, True, True, True, True, True, True, True, True],\n",
      "         [True, True, True, True, True, True, True, True, True, True, True,\n",
      "          True, True, True, True, True, True, True, True, True]]])\n",
      "torch.Size([5, 3, 40]) torch.Size([2, 3, 20]) torch.Size([2, 3, 20])\n",
      "tensor([[True, True, True, True, True, True, True, True, True, True, True, True,\n",
      "         True, True, True, True, True, True, True, True],\n",
      "        [True, True, True, True, True, True, True, True, True, True, True, True,\n",
      "         True, True, True, True, True, True, True, True],\n",
      "        [True, True, True, True, True, True, True, True, True, True, True, True,\n",
      "         True, True, True, True, True, True, True, True]])\n",
      "tensor([[True, True, True, True, True, True, True, True, True, True, True, True,\n",
      "         True, True, True, True, True, True, True, True],\n",
      "        [True, True, True, True, True, True, True, True, True, True, True, True,\n",
      "         True, True, True, True, True, True, True, True],\n",
      "        [True, True, True, True, True, True, True, True, True, True, True, True,\n",
      "         True, True, True, True, True, True, True, True]])\n"
     ]
    }
   ],
   "source": [
    "rnn = nn.LSTM(10, 20, 1, bidirectional=False)\n",
    "inputs = torch.randn(5, 3, 10)\n",
    "fwoutput, (fwhn, fwcn) = rnn(inputs)\n",
    "\n",
    "print(fwoutput[-1, :, :]==fwhn)\n",
    "\n",
    "rnn = nn.LSTM(10, 20, 1, bidirectional=True)\n",
    "output, (hn, cn) = rnn(inputs)\n",
    "# LSTM param : input_size, hidden_size, num_layers\n",
    "# input shape : (seq_len, batch, input_size)\n",
    "# output shape : (seq_len, batch, num_directions * hidden_size)\n",
    "# hn, cn shape : (num_layers * num_directions, batch, hidden_size)\n",
    "\n",
    "print(output.shape, hn.shape, cn.shape)\n",
    "\n",
    "print(output[0, :, 20:] == hn[1])  # 0번 unit의 뒤 20 vector 가 reverse seq 의 output(hn)\n",
    "\n",
    "print(output[-1, :, :20] == hn[0])  # 끝번 unit의 앞 20 vector가 forward seq 의 output(hn)"
   ]
  },
  {
   "cell_type": "code",
   "execution_count": 11,
   "metadata": {
    "ExecuteTime": {
     "end_time": "2021-12-06T03:06:00.146084Z",
     "start_time": "2021-12-06T03:06:00.136158Z"
    }
   },
   "outputs": [],
   "source": [
    "class ESMClassifier(nn.Module):\n",
    "    def __init__(self,\n",
    "                 esm,\n",
    "                 num_classes=1,\n",
    "                 params=None):\n",
    "        \n",
    "        super(ESMClassifier, self).__init__()\n",
    "        self.esm = esm\n",
    "        self.pep_lstm1 = nn.LSTM(input_size=1280, hidden_size=128, batch_first=True)\n",
    "        self.pep_drop1 = nn.Dropout(p=0.2)\n",
    "        \n",
    "        self.ts_lstm1 = nn.LSTM(input_size=1280, hidden_size=64, batch_first=True)\n",
    "        self.ts_drop1 = nn.Dropout(p=0.2)\n",
    "                \n",
    "        self.fc1 = nn.Linear(384, 128)\n",
    "        self.fc_drop1 = nn.Dropout(p=0.2)\n",
    "        self.fc2 = nn.Linear(128, 1)\n",
    "\n",
    "\n",
    "#     def gen_attention_mask(self, token_ids, valid_length):\n",
    "#         attention_mask = torch.zeros_like(token_ids)\n",
    "#         for i, v in enumerate(valid_length):\n",
    "#             attention_mask[i][:v] = 1\n",
    "#         return attention_mask.float()\n",
    "\n",
    "    def forward(self, token_ids, en_token_ids, ec_token_ids, e1_token_ids, e2_token_ids):\n",
    "#         attention_mask = self.gen_attention_mask(token_ids, valid_length)\n",
    "        \n",
    "        pep_embed = self.esm(token_ids, repr_layers=[33])['representations'][33]\n",
    "        pep_lstm, (pep_hn, __) = self.pep_lstm1(pep_embed)\n",
    "        pep_hn = self.pep_drop1(pep_hn)\n",
    "        \n",
    "        en_embed = self.esm(en_token_ids, repr_layers=[33])['representations'][33]\n",
    "        ec_embed = self.esm(ec_token_ids, repr_layers=[33])['representations'][33]\n",
    "        e1_embed = self.esm(e1_token_ids, repr_layers=[33])['representations'][33]\n",
    "        e2_embed = self.esm(e2_token_ids, repr_layers=[33])['representations'][33]\n",
    "        \n",
    "        en_lstm, (en_hn, __) = self.ts_lstm1(en_embed)\n",
    "        en_lstm = self.ts_drop1(en_hn)\n",
    "        \n",
    "        ec_lstm, (ec_hn, __) = self.ts_lstm1(ec_embed)\n",
    "        ec_lstm = self.ts_drop1(ec_hn)\n",
    "        \n",
    "        e1_lstm, (e1_hn, __) = self.ts_lstm1(e1_embed)\n",
    "        e1_lstm = self.ts_drop1(e1_hn)\n",
    "        \n",
    "        e2_lstm, (e2_hn, __) = self.ts_lstm1(e2_embed)\n",
    "        e2_lstm = self.ts_drop1(e2_hn)\n",
    "        \n",
    "        merge = torch.cat([pep_hn[0], en_hn[0], ec_hn[0], e1_hn[0], e2_hn[0]], dim=1)\n",
    "\n",
    "        merge = self.fc1(merge)\n",
    "        merge = self.fc_drop1(merge)\n",
    "        merge = self.fc2(merge)\n",
    "        \n",
    "        out = torch.sigmoid(merge)\n",
    "        return out"
   ]
  },
  {
   "cell_type": "code",
   "execution_count": 12,
   "metadata": {
    "ExecuteTime": {
     "end_time": "2021-12-06T03:06:09.240527Z",
     "start_time": "2021-12-06T03:06:00.147294Z"
    }
   },
   "outputs": [],
   "source": [
    "model = ESMClassifier(esm_model).to(device)"
   ]
  },
  {
   "cell_type": "code",
   "execution_count": 13,
   "metadata": {
    "ExecuteTime": {
     "end_time": "2021-12-06T03:06:09.248949Z",
     "start_time": "2021-12-06T03:06:09.241780Z"
    }
   },
   "outputs": [
    {
     "data": {
      "text/plain": [
       "ESMClassifier(\n",
       "  (esm): ProteinBertModel(\n",
       "    (embed_tokens): Embedding(33, 1280, padding_idx=1)\n",
       "    (layers): ModuleList(\n",
       "      (0): TransformerLayer(\n",
       "        (self_attn): MultiheadAttention(\n",
       "          (k_proj): Linear(in_features=1280, out_features=1280, bias=True)\n",
       "          (v_proj): Linear(in_features=1280, out_features=1280, bias=True)\n",
       "          (q_proj): Linear(in_features=1280, out_features=1280, bias=True)\n",
       "          (out_proj): Linear(in_features=1280, out_features=1280, bias=True)\n",
       "        )\n",
       "        (self_attn_layer_norm): LayerNorm((1280,), eps=1e-05, elementwise_affine=True)\n",
       "        (fc1): Linear(in_features=1280, out_features=5120, bias=True)\n",
       "        (fc2): Linear(in_features=5120, out_features=1280, bias=True)\n",
       "        (final_layer_norm): LayerNorm((1280,), eps=1e-05, elementwise_affine=True)\n",
       "      )\n",
       "      (1): TransformerLayer(\n",
       "        (self_attn): MultiheadAttention(\n",
       "          (k_proj): Linear(in_features=1280, out_features=1280, bias=True)\n",
       "          (v_proj): Linear(in_features=1280, out_features=1280, bias=True)\n",
       "          (q_proj): Linear(in_features=1280, out_features=1280, bias=True)\n",
       "          (out_proj): Linear(in_features=1280, out_features=1280, bias=True)\n",
       "        )\n",
       "        (self_attn_layer_norm): LayerNorm((1280,), eps=1e-05, elementwise_affine=True)\n",
       "        (fc1): Linear(in_features=1280, out_features=5120, bias=True)\n",
       "        (fc2): Linear(in_features=5120, out_features=1280, bias=True)\n",
       "        (final_layer_norm): LayerNorm((1280,), eps=1e-05, elementwise_affine=True)\n",
       "      )\n",
       "      (2): TransformerLayer(\n",
       "        (self_attn): MultiheadAttention(\n",
       "          (k_proj): Linear(in_features=1280, out_features=1280, bias=True)\n",
       "          (v_proj): Linear(in_features=1280, out_features=1280, bias=True)\n",
       "          (q_proj): Linear(in_features=1280, out_features=1280, bias=True)\n",
       "          (out_proj): Linear(in_features=1280, out_features=1280, bias=True)\n",
       "        )\n",
       "        (self_attn_layer_norm): LayerNorm((1280,), eps=1e-05, elementwise_affine=True)\n",
       "        (fc1): Linear(in_features=1280, out_features=5120, bias=True)\n",
       "        (fc2): Linear(in_features=5120, out_features=1280, bias=True)\n",
       "        (final_layer_norm): LayerNorm((1280,), eps=1e-05, elementwise_affine=True)\n",
       "      )\n",
       "      (3): TransformerLayer(\n",
       "        (self_attn): MultiheadAttention(\n",
       "          (k_proj): Linear(in_features=1280, out_features=1280, bias=True)\n",
       "          (v_proj): Linear(in_features=1280, out_features=1280, bias=True)\n",
       "          (q_proj): Linear(in_features=1280, out_features=1280, bias=True)\n",
       "          (out_proj): Linear(in_features=1280, out_features=1280, bias=True)\n",
       "        )\n",
       "        (self_attn_layer_norm): LayerNorm((1280,), eps=1e-05, elementwise_affine=True)\n",
       "        (fc1): Linear(in_features=1280, out_features=5120, bias=True)\n",
       "        (fc2): Linear(in_features=5120, out_features=1280, bias=True)\n",
       "        (final_layer_norm): LayerNorm((1280,), eps=1e-05, elementwise_affine=True)\n",
       "      )\n",
       "      (4): TransformerLayer(\n",
       "        (self_attn): MultiheadAttention(\n",
       "          (k_proj): Linear(in_features=1280, out_features=1280, bias=True)\n",
       "          (v_proj): Linear(in_features=1280, out_features=1280, bias=True)\n",
       "          (q_proj): Linear(in_features=1280, out_features=1280, bias=True)\n",
       "          (out_proj): Linear(in_features=1280, out_features=1280, bias=True)\n",
       "        )\n",
       "        (self_attn_layer_norm): LayerNorm((1280,), eps=1e-05, elementwise_affine=True)\n",
       "        (fc1): Linear(in_features=1280, out_features=5120, bias=True)\n",
       "        (fc2): Linear(in_features=5120, out_features=1280, bias=True)\n",
       "        (final_layer_norm): LayerNorm((1280,), eps=1e-05, elementwise_affine=True)\n",
       "      )\n",
       "      (5): TransformerLayer(\n",
       "        (self_attn): MultiheadAttention(\n",
       "          (k_proj): Linear(in_features=1280, out_features=1280, bias=True)\n",
       "          (v_proj): Linear(in_features=1280, out_features=1280, bias=True)\n",
       "          (q_proj): Linear(in_features=1280, out_features=1280, bias=True)\n",
       "          (out_proj): Linear(in_features=1280, out_features=1280, bias=True)\n",
       "        )\n",
       "        (self_attn_layer_norm): LayerNorm((1280,), eps=1e-05, elementwise_affine=True)\n",
       "        (fc1): Linear(in_features=1280, out_features=5120, bias=True)\n",
       "        (fc2): Linear(in_features=5120, out_features=1280, bias=True)\n",
       "        (final_layer_norm): LayerNorm((1280,), eps=1e-05, elementwise_affine=True)\n",
       "      )\n",
       "      (6): TransformerLayer(\n",
       "        (self_attn): MultiheadAttention(\n",
       "          (k_proj): Linear(in_features=1280, out_features=1280, bias=True)\n",
       "          (v_proj): Linear(in_features=1280, out_features=1280, bias=True)\n",
       "          (q_proj): Linear(in_features=1280, out_features=1280, bias=True)\n",
       "          (out_proj): Linear(in_features=1280, out_features=1280, bias=True)\n",
       "        )\n",
       "        (self_attn_layer_norm): LayerNorm((1280,), eps=1e-05, elementwise_affine=True)\n",
       "        (fc1): Linear(in_features=1280, out_features=5120, bias=True)\n",
       "        (fc2): Linear(in_features=5120, out_features=1280, bias=True)\n",
       "        (final_layer_norm): LayerNorm((1280,), eps=1e-05, elementwise_affine=True)\n",
       "      )\n",
       "      (7): TransformerLayer(\n",
       "        (self_attn): MultiheadAttention(\n",
       "          (k_proj): Linear(in_features=1280, out_features=1280, bias=True)\n",
       "          (v_proj): Linear(in_features=1280, out_features=1280, bias=True)\n",
       "          (q_proj): Linear(in_features=1280, out_features=1280, bias=True)\n",
       "          (out_proj): Linear(in_features=1280, out_features=1280, bias=True)\n",
       "        )\n",
       "        (self_attn_layer_norm): LayerNorm((1280,), eps=1e-05, elementwise_affine=True)\n",
       "        (fc1): Linear(in_features=1280, out_features=5120, bias=True)\n",
       "        (fc2): Linear(in_features=5120, out_features=1280, bias=True)\n",
       "        (final_layer_norm): LayerNorm((1280,), eps=1e-05, elementwise_affine=True)\n",
       "      )\n",
       "      (8): TransformerLayer(\n",
       "        (self_attn): MultiheadAttention(\n",
       "          (k_proj): Linear(in_features=1280, out_features=1280, bias=True)\n",
       "          (v_proj): Linear(in_features=1280, out_features=1280, bias=True)\n",
       "          (q_proj): Linear(in_features=1280, out_features=1280, bias=True)\n",
       "          (out_proj): Linear(in_features=1280, out_features=1280, bias=True)\n",
       "        )\n",
       "        (self_attn_layer_norm): LayerNorm((1280,), eps=1e-05, elementwise_affine=True)\n",
       "        (fc1): Linear(in_features=1280, out_features=5120, bias=True)\n",
       "        (fc2): Linear(in_features=5120, out_features=1280, bias=True)\n",
       "        (final_layer_norm): LayerNorm((1280,), eps=1e-05, elementwise_affine=True)\n",
       "      )\n",
       "      (9): TransformerLayer(\n",
       "        (self_attn): MultiheadAttention(\n",
       "          (k_proj): Linear(in_features=1280, out_features=1280, bias=True)\n",
       "          (v_proj): Linear(in_features=1280, out_features=1280, bias=True)\n",
       "          (q_proj): Linear(in_features=1280, out_features=1280, bias=True)\n",
       "          (out_proj): Linear(in_features=1280, out_features=1280, bias=True)\n",
       "        )\n",
       "        (self_attn_layer_norm): LayerNorm((1280,), eps=1e-05, elementwise_affine=True)\n",
       "        (fc1): Linear(in_features=1280, out_features=5120, bias=True)\n",
       "        (fc2): Linear(in_features=5120, out_features=1280, bias=True)\n",
       "        (final_layer_norm): LayerNorm((1280,), eps=1e-05, elementwise_affine=True)\n",
       "      )\n",
       "      (10): TransformerLayer(\n",
       "        (self_attn): MultiheadAttention(\n",
       "          (k_proj): Linear(in_features=1280, out_features=1280, bias=True)\n",
       "          (v_proj): Linear(in_features=1280, out_features=1280, bias=True)\n",
       "          (q_proj): Linear(in_features=1280, out_features=1280, bias=True)\n",
       "          (out_proj): Linear(in_features=1280, out_features=1280, bias=True)\n",
       "        )\n",
       "        (self_attn_layer_norm): LayerNorm((1280,), eps=1e-05, elementwise_affine=True)\n",
       "        (fc1): Linear(in_features=1280, out_features=5120, bias=True)\n",
       "        (fc2): Linear(in_features=5120, out_features=1280, bias=True)\n",
       "        (final_layer_norm): LayerNorm((1280,), eps=1e-05, elementwise_affine=True)\n",
       "      )\n",
       "      (11): TransformerLayer(\n",
       "        (self_attn): MultiheadAttention(\n",
       "          (k_proj): Linear(in_features=1280, out_features=1280, bias=True)\n",
       "          (v_proj): Linear(in_features=1280, out_features=1280, bias=True)\n",
       "          (q_proj): Linear(in_features=1280, out_features=1280, bias=True)\n",
       "          (out_proj): Linear(in_features=1280, out_features=1280, bias=True)\n",
       "        )\n",
       "        (self_attn_layer_norm): LayerNorm((1280,), eps=1e-05, elementwise_affine=True)\n",
       "        (fc1): Linear(in_features=1280, out_features=5120, bias=True)\n",
       "        (fc2): Linear(in_features=5120, out_features=1280, bias=True)\n",
       "        (final_layer_norm): LayerNorm((1280,), eps=1e-05, elementwise_affine=True)\n",
       "      )\n",
       "      (12): TransformerLayer(\n",
       "        (self_attn): MultiheadAttention(\n",
       "          (k_proj): Linear(in_features=1280, out_features=1280, bias=True)\n",
       "          (v_proj): Linear(in_features=1280, out_features=1280, bias=True)\n",
       "          (q_proj): Linear(in_features=1280, out_features=1280, bias=True)\n",
       "          (out_proj): Linear(in_features=1280, out_features=1280, bias=True)\n",
       "        )\n",
       "        (self_attn_layer_norm): LayerNorm((1280,), eps=1e-05, elementwise_affine=True)\n",
       "        (fc1): Linear(in_features=1280, out_features=5120, bias=True)\n",
       "        (fc2): Linear(in_features=5120, out_features=1280, bias=True)\n",
       "        (final_layer_norm): LayerNorm((1280,), eps=1e-05, elementwise_affine=True)\n",
       "      )\n",
       "      (13): TransformerLayer(\n",
       "        (self_attn): MultiheadAttention(\n",
       "          (k_proj): Linear(in_features=1280, out_features=1280, bias=True)\n",
       "          (v_proj): Linear(in_features=1280, out_features=1280, bias=True)\n",
       "          (q_proj): Linear(in_features=1280, out_features=1280, bias=True)\n",
       "          (out_proj): Linear(in_features=1280, out_features=1280, bias=True)\n",
       "        )\n",
       "        (self_attn_layer_norm): LayerNorm((1280,), eps=1e-05, elementwise_affine=True)\n",
       "        (fc1): Linear(in_features=1280, out_features=5120, bias=True)\n",
       "        (fc2): Linear(in_features=5120, out_features=1280, bias=True)\n",
       "        (final_layer_norm): LayerNorm((1280,), eps=1e-05, elementwise_affine=True)\n",
       "      )\n",
       "      (14): TransformerLayer(\n",
       "        (self_attn): MultiheadAttention(\n",
       "          (k_proj): Linear(in_features=1280, out_features=1280, bias=True)\n",
       "          (v_proj): Linear(in_features=1280, out_features=1280, bias=True)\n",
       "          (q_proj): Linear(in_features=1280, out_features=1280, bias=True)\n",
       "          (out_proj): Linear(in_features=1280, out_features=1280, bias=True)\n",
       "        )\n",
       "        (self_attn_layer_norm): LayerNorm((1280,), eps=1e-05, elementwise_affine=True)\n",
       "        (fc1): Linear(in_features=1280, out_features=5120, bias=True)\n",
       "        (fc2): Linear(in_features=5120, out_features=1280, bias=True)\n",
       "        (final_layer_norm): LayerNorm((1280,), eps=1e-05, elementwise_affine=True)\n",
       "      )\n",
       "      (15): TransformerLayer(\n",
       "        (self_attn): MultiheadAttention(\n",
       "          (k_proj): Linear(in_features=1280, out_features=1280, bias=True)\n",
       "          (v_proj): Linear(in_features=1280, out_features=1280, bias=True)\n",
       "          (q_proj): Linear(in_features=1280, out_features=1280, bias=True)\n",
       "          (out_proj): Linear(in_features=1280, out_features=1280, bias=True)\n",
       "        )\n",
       "        (self_attn_layer_norm): LayerNorm((1280,), eps=1e-05, elementwise_affine=True)\n",
       "        (fc1): Linear(in_features=1280, out_features=5120, bias=True)\n",
       "        (fc2): Linear(in_features=5120, out_features=1280, bias=True)\n",
       "        (final_layer_norm): LayerNorm((1280,), eps=1e-05, elementwise_affine=True)\n",
       "      )\n",
       "      (16): TransformerLayer(\n",
       "        (self_attn): MultiheadAttention(\n",
       "          (k_proj): Linear(in_features=1280, out_features=1280, bias=True)\n",
       "          (v_proj): Linear(in_features=1280, out_features=1280, bias=True)\n",
       "          (q_proj): Linear(in_features=1280, out_features=1280, bias=True)\n",
       "          (out_proj): Linear(in_features=1280, out_features=1280, bias=True)\n",
       "        )\n",
       "        (self_attn_layer_norm): LayerNorm((1280,), eps=1e-05, elementwise_affine=True)\n",
       "        (fc1): Linear(in_features=1280, out_features=5120, bias=True)\n",
       "        (fc2): Linear(in_features=5120, out_features=1280, bias=True)\n",
       "        (final_layer_norm): LayerNorm((1280,), eps=1e-05, elementwise_affine=True)\n",
       "      )\n",
       "      (17): TransformerLayer(\n",
       "        (self_attn): MultiheadAttention(\n",
       "          (k_proj): Linear(in_features=1280, out_features=1280, bias=True)\n",
       "          (v_proj): Linear(in_features=1280, out_features=1280, bias=True)\n",
       "          (q_proj): Linear(in_features=1280, out_features=1280, bias=True)\n",
       "          (out_proj): Linear(in_features=1280, out_features=1280, bias=True)\n",
       "        )\n",
       "        (self_attn_layer_norm): LayerNorm((1280,), eps=1e-05, elementwise_affine=True)\n",
       "        (fc1): Linear(in_features=1280, out_features=5120, bias=True)\n",
       "        (fc2): Linear(in_features=5120, out_features=1280, bias=True)\n",
       "        (final_layer_norm): LayerNorm((1280,), eps=1e-05, elementwise_affine=True)\n",
       "      )\n",
       "      (18): TransformerLayer(\n",
       "        (self_attn): MultiheadAttention(\n",
       "          (k_proj): Linear(in_features=1280, out_features=1280, bias=True)\n",
       "          (v_proj): Linear(in_features=1280, out_features=1280, bias=True)\n",
       "          (q_proj): Linear(in_features=1280, out_features=1280, bias=True)\n",
       "          (out_proj): Linear(in_features=1280, out_features=1280, bias=True)\n",
       "        )\n",
       "        (self_attn_layer_norm): LayerNorm((1280,), eps=1e-05, elementwise_affine=True)\n",
       "        (fc1): Linear(in_features=1280, out_features=5120, bias=True)\n",
       "        (fc2): Linear(in_features=5120, out_features=1280, bias=True)\n",
       "        (final_layer_norm): LayerNorm((1280,), eps=1e-05, elementwise_affine=True)\n",
       "      )\n",
       "      (19): TransformerLayer(\n",
       "        (self_attn): MultiheadAttention(\n",
       "          (k_proj): Linear(in_features=1280, out_features=1280, bias=True)\n",
       "          (v_proj): Linear(in_features=1280, out_features=1280, bias=True)\n",
       "          (q_proj): Linear(in_features=1280, out_features=1280, bias=True)\n",
       "          (out_proj): Linear(in_features=1280, out_features=1280, bias=True)\n",
       "        )\n",
       "        (self_attn_layer_norm): LayerNorm((1280,), eps=1e-05, elementwise_affine=True)\n",
       "        (fc1): Linear(in_features=1280, out_features=5120, bias=True)\n",
       "        (fc2): Linear(in_features=5120, out_features=1280, bias=True)\n",
       "        (final_layer_norm): LayerNorm((1280,), eps=1e-05, elementwise_affine=True)\n",
       "      )\n",
       "      (20): TransformerLayer(\n",
       "        (self_attn): MultiheadAttention(\n",
       "          (k_proj): Linear(in_features=1280, out_features=1280, bias=True)\n",
       "          (v_proj): Linear(in_features=1280, out_features=1280, bias=True)\n",
       "          (q_proj): Linear(in_features=1280, out_features=1280, bias=True)\n",
       "          (out_proj): Linear(in_features=1280, out_features=1280, bias=True)\n",
       "        )\n",
       "        (self_attn_layer_norm): LayerNorm((1280,), eps=1e-05, elementwise_affine=True)\n",
       "        (fc1): Linear(in_features=1280, out_features=5120, bias=True)\n",
       "        (fc2): Linear(in_features=5120, out_features=1280, bias=True)\n",
       "        (final_layer_norm): LayerNorm((1280,), eps=1e-05, elementwise_affine=True)\n",
       "      )\n",
       "      (21): TransformerLayer(\n",
       "        (self_attn): MultiheadAttention(\n",
       "          (k_proj): Linear(in_features=1280, out_features=1280, bias=True)\n",
       "          (v_proj): Linear(in_features=1280, out_features=1280, bias=True)\n",
       "          (q_proj): Linear(in_features=1280, out_features=1280, bias=True)\n",
       "          (out_proj): Linear(in_features=1280, out_features=1280, bias=True)\n",
       "        )\n",
       "        (self_attn_layer_norm): LayerNorm((1280,), eps=1e-05, elementwise_affine=True)\n",
       "        (fc1): Linear(in_features=1280, out_features=5120, bias=True)\n",
       "        (fc2): Linear(in_features=5120, out_features=1280, bias=True)\n",
       "        (final_layer_norm): LayerNorm((1280,), eps=1e-05, elementwise_affine=True)\n",
       "      )\n",
       "      (22): TransformerLayer(\n",
       "        (self_attn): MultiheadAttention(\n",
       "          (k_proj): Linear(in_features=1280, out_features=1280, bias=True)\n",
       "          (v_proj): Linear(in_features=1280, out_features=1280, bias=True)\n",
       "          (q_proj): Linear(in_features=1280, out_features=1280, bias=True)\n",
       "          (out_proj): Linear(in_features=1280, out_features=1280, bias=True)\n",
       "        )\n",
       "        (self_attn_layer_norm): LayerNorm((1280,), eps=1e-05, elementwise_affine=True)\n",
       "        (fc1): Linear(in_features=1280, out_features=5120, bias=True)\n",
       "        (fc2): Linear(in_features=5120, out_features=1280, bias=True)\n",
       "        (final_layer_norm): LayerNorm((1280,), eps=1e-05, elementwise_affine=True)\n",
       "      )\n",
       "      (23): TransformerLayer(\n",
       "        (self_attn): MultiheadAttention(\n",
       "          (k_proj): Linear(in_features=1280, out_features=1280, bias=True)\n",
       "          (v_proj): Linear(in_features=1280, out_features=1280, bias=True)\n",
       "          (q_proj): Linear(in_features=1280, out_features=1280, bias=True)\n",
       "          (out_proj): Linear(in_features=1280, out_features=1280, bias=True)\n",
       "        )\n",
       "        (self_attn_layer_norm): LayerNorm((1280,), eps=1e-05, elementwise_affine=True)\n",
       "        (fc1): Linear(in_features=1280, out_features=5120, bias=True)\n",
       "        (fc2): Linear(in_features=5120, out_features=1280, bias=True)\n",
       "        (final_layer_norm): LayerNorm((1280,), eps=1e-05, elementwise_affine=True)\n",
       "      )\n",
       "      (24): TransformerLayer(\n",
       "        (self_attn): MultiheadAttention(\n",
       "          (k_proj): Linear(in_features=1280, out_features=1280, bias=True)\n",
       "          (v_proj): Linear(in_features=1280, out_features=1280, bias=True)\n",
       "          (q_proj): Linear(in_features=1280, out_features=1280, bias=True)\n",
       "          (out_proj): Linear(in_features=1280, out_features=1280, bias=True)\n",
       "        )\n",
       "        (self_attn_layer_norm): LayerNorm((1280,), eps=1e-05, elementwise_affine=True)\n",
       "        (fc1): Linear(in_features=1280, out_features=5120, bias=True)\n",
       "        (fc2): Linear(in_features=5120, out_features=1280, bias=True)\n",
       "        (final_layer_norm): LayerNorm((1280,), eps=1e-05, elementwise_affine=True)\n",
       "      )\n",
       "      (25): TransformerLayer(\n",
       "        (self_attn): MultiheadAttention(\n",
       "          (k_proj): Linear(in_features=1280, out_features=1280, bias=True)\n",
       "          (v_proj): Linear(in_features=1280, out_features=1280, bias=True)\n",
       "          (q_proj): Linear(in_features=1280, out_features=1280, bias=True)\n",
       "          (out_proj): Linear(in_features=1280, out_features=1280, bias=True)\n",
       "        )\n",
       "        (self_attn_layer_norm): LayerNorm((1280,), eps=1e-05, elementwise_affine=True)\n",
       "        (fc1): Linear(in_features=1280, out_features=5120, bias=True)\n",
       "        (fc2): Linear(in_features=5120, out_features=1280, bias=True)\n",
       "        (final_layer_norm): LayerNorm((1280,), eps=1e-05, elementwise_affine=True)\n",
       "      )\n",
       "      (26): TransformerLayer(\n",
       "        (self_attn): MultiheadAttention(\n",
       "          (k_proj): Linear(in_features=1280, out_features=1280, bias=True)\n",
       "          (v_proj): Linear(in_features=1280, out_features=1280, bias=True)\n",
       "          (q_proj): Linear(in_features=1280, out_features=1280, bias=True)\n",
       "          (out_proj): Linear(in_features=1280, out_features=1280, bias=True)\n",
       "        )\n",
       "        (self_attn_layer_norm): LayerNorm((1280,), eps=1e-05, elementwise_affine=True)\n",
       "        (fc1): Linear(in_features=1280, out_features=5120, bias=True)\n",
       "        (fc2): Linear(in_features=5120, out_features=1280, bias=True)\n",
       "        (final_layer_norm): LayerNorm((1280,), eps=1e-05, elementwise_affine=True)\n",
       "      )\n",
       "      (27): TransformerLayer(\n",
       "        (self_attn): MultiheadAttention(\n",
       "          (k_proj): Linear(in_features=1280, out_features=1280, bias=True)\n",
       "          (v_proj): Linear(in_features=1280, out_features=1280, bias=True)\n",
       "          (q_proj): Linear(in_features=1280, out_features=1280, bias=True)\n",
       "          (out_proj): Linear(in_features=1280, out_features=1280, bias=True)\n",
       "        )\n",
       "        (self_attn_layer_norm): LayerNorm((1280,), eps=1e-05, elementwise_affine=True)\n",
       "        (fc1): Linear(in_features=1280, out_features=5120, bias=True)\n",
       "        (fc2): Linear(in_features=5120, out_features=1280, bias=True)\n",
       "        (final_layer_norm): LayerNorm((1280,), eps=1e-05, elementwise_affine=True)\n",
       "      )\n",
       "      (28): TransformerLayer(\n",
       "        (self_attn): MultiheadAttention(\n",
       "          (k_proj): Linear(in_features=1280, out_features=1280, bias=True)\n",
       "          (v_proj): Linear(in_features=1280, out_features=1280, bias=True)\n",
       "          (q_proj): Linear(in_features=1280, out_features=1280, bias=True)\n",
       "          (out_proj): Linear(in_features=1280, out_features=1280, bias=True)\n",
       "        )\n",
       "        (self_attn_layer_norm): LayerNorm((1280,), eps=1e-05, elementwise_affine=True)\n",
       "        (fc1): Linear(in_features=1280, out_features=5120, bias=True)\n",
       "        (fc2): Linear(in_features=5120, out_features=1280, bias=True)\n",
       "        (final_layer_norm): LayerNorm((1280,), eps=1e-05, elementwise_affine=True)\n",
       "      )\n",
       "      (29): TransformerLayer(\n",
       "        (self_attn): MultiheadAttention(\n",
       "          (k_proj): Linear(in_features=1280, out_features=1280, bias=True)\n",
       "          (v_proj): Linear(in_features=1280, out_features=1280, bias=True)\n",
       "          (q_proj): Linear(in_features=1280, out_features=1280, bias=True)\n",
       "          (out_proj): Linear(in_features=1280, out_features=1280, bias=True)\n",
       "        )\n",
       "        (self_attn_layer_norm): LayerNorm((1280,), eps=1e-05, elementwise_affine=True)\n",
       "        (fc1): Linear(in_features=1280, out_features=5120, bias=True)\n",
       "        (fc2): Linear(in_features=5120, out_features=1280, bias=True)\n",
       "        (final_layer_norm): LayerNorm((1280,), eps=1e-05, elementwise_affine=True)\n",
       "      )\n",
       "      (30): TransformerLayer(\n",
       "        (self_attn): MultiheadAttention(\n",
       "          (k_proj): Linear(in_features=1280, out_features=1280, bias=True)\n",
       "          (v_proj): Linear(in_features=1280, out_features=1280, bias=True)\n",
       "          (q_proj): Linear(in_features=1280, out_features=1280, bias=True)\n",
       "          (out_proj): Linear(in_features=1280, out_features=1280, bias=True)\n",
       "        )\n",
       "        (self_attn_layer_norm): LayerNorm((1280,), eps=1e-05, elementwise_affine=True)\n",
       "        (fc1): Linear(in_features=1280, out_features=5120, bias=True)\n",
       "        (fc2): Linear(in_features=5120, out_features=1280, bias=True)\n",
       "        (final_layer_norm): LayerNorm((1280,), eps=1e-05, elementwise_affine=True)\n",
       "      )\n",
       "      (31): TransformerLayer(\n",
       "        (self_attn): MultiheadAttention(\n",
       "          (k_proj): Linear(in_features=1280, out_features=1280, bias=True)\n",
       "          (v_proj): Linear(in_features=1280, out_features=1280, bias=True)\n",
       "          (q_proj): Linear(in_features=1280, out_features=1280, bias=True)\n",
       "          (out_proj): Linear(in_features=1280, out_features=1280, bias=True)\n",
       "        )\n",
       "        (self_attn_layer_norm): LayerNorm((1280,), eps=1e-05, elementwise_affine=True)\n",
       "        (fc1): Linear(in_features=1280, out_features=5120, bias=True)\n",
       "        (fc2): Linear(in_features=5120, out_features=1280, bias=True)\n",
       "        (final_layer_norm): LayerNorm((1280,), eps=1e-05, elementwise_affine=True)\n",
       "      )\n",
       "      (32): TransformerLayer(\n",
       "        (self_attn): MultiheadAttention(\n",
       "          (k_proj): Linear(in_features=1280, out_features=1280, bias=True)\n",
       "          (v_proj): Linear(in_features=1280, out_features=1280, bias=True)\n",
       "          (q_proj): Linear(in_features=1280, out_features=1280, bias=True)\n",
       "          (out_proj): Linear(in_features=1280, out_features=1280, bias=True)\n",
       "        )\n",
       "        (self_attn_layer_norm): LayerNorm((1280,), eps=1e-05, elementwise_affine=True)\n",
       "        (fc1): Linear(in_features=1280, out_features=5120, bias=True)\n",
       "        (fc2): Linear(in_features=5120, out_features=1280, bias=True)\n",
       "        (final_layer_norm): LayerNorm((1280,), eps=1e-05, elementwise_affine=True)\n",
       "      )\n",
       "    )\n",
       "    (contact_head): ContactPredictionHead(\n",
       "      (regression): Linear(in_features=660, out_features=1, bias=True)\n",
       "      (activation): Sigmoid()\n",
       "    )\n",
       "    (embed_positions): LearnedPositionalEmbedding(1026, 1280, padding_idx=1)\n",
       "    (emb_layer_norm_before): LayerNorm((1280,), eps=1e-05, elementwise_affine=True)\n",
       "    (emb_layer_norm_after): LayerNorm((1280,), eps=1e-05, elementwise_affine=True)\n",
       "    (lm_head): RobertaLMHead(\n",
       "      (dense): Linear(in_features=1280, out_features=1280, bias=True)\n",
       "      (layer_norm): LayerNorm((1280,), eps=1e-05, elementwise_affine=True)\n",
       "    )\n",
       "  )\n",
       "  (pep_lstm1): LSTM(1280, 128, batch_first=True)\n",
       "  (pep_drop1): Dropout(p=0.2, inplace=False)\n",
       "  (ts_lstm1): LSTM(1280, 64, batch_first=True)\n",
       "  (ts_drop1): Dropout(p=0.2, inplace=False)\n",
       "  (fc1): Linear(in_features=384, out_features=128, bias=True)\n",
       "  (fc_drop1): Dropout(p=0.2, inplace=False)\n",
       "  (fc2): Linear(in_features=128, out_features=1, bias=True)\n",
       ")"
      ]
     },
     "execution_count": 13,
     "metadata": {},
     "output_type": "execute_result"
    }
   ],
   "source": [
    "model.eval()"
   ]
  },
  {
   "cell_type": "code",
   "execution_count": 14,
   "metadata": {
    "ExecuteTime": {
     "end_time": "2021-12-06T03:06:09.272123Z",
     "start_time": "2021-12-06T03:06:09.249953Z"
    }
   },
   "outputs": [
    {
     "name": "stdout",
     "output_type": "stream",
     "text": [
      "+------------------------+------------+\n",
      "|        Modules         | Parameters |\n",
      "+------------------------+------------+\n",
      "| pep_lstm1.weight_ih_l0 |   655360   |\n",
      "| pep_lstm1.weight_hh_l0 |   65536    |\n",
      "|  pep_lstm1.bias_ih_l0  |    512     |\n",
      "|  pep_lstm1.bias_hh_l0  |    512     |\n",
      "| ts_lstm1.weight_ih_l0  |   327680   |\n",
      "| ts_lstm1.weight_hh_l0  |   16384    |\n",
      "|  ts_lstm1.bias_ih_l0   |    256     |\n",
      "|  ts_lstm1.bias_hh_l0   |    256     |\n",
      "|       fc1.weight       |   49152    |\n",
      "|        fc1.bias        |    128     |\n",
      "|       fc2.weight       |    128     |\n",
      "|        fc2.bias        |     1      |\n",
      "+------------------------+------------+\n",
      "Total Trainable Params: 1115905\n"
     ]
    },
    {
     "data": {
      "text/plain": [
       "1115905"
      ]
     },
     "execution_count": 14,
     "metadata": {},
     "output_type": "execute_result"
    }
   ],
   "source": [
    "from prettytable import PrettyTable\n",
    "\n",
    "def count_parameters(model):\n",
    "    table = PrettyTable([\"Modules\", \"Parameters\"])\n",
    "    total_params = 0\n",
    "    for name, parameter in model.named_parameters():\n",
    "        if not parameter.requires_grad: continue\n",
    "        param = parameter.numel()\n",
    "        table.add_row([name, param])\n",
    "        total_params+=param\n",
    "    print(table)\n",
    "    print(f\"Total Trainable Params: {total_params}\")\n",
    "    return total_params\n",
    "    \n",
    "count_parameters(model)  # 1,115,905"
   ]
  },
  {
   "cell_type": "code",
   "execution_count": 15,
   "metadata": {
    "ExecuteTime": {
     "end_time": "2021-12-06T03:06:09.289727Z",
     "start_time": "2021-12-06T03:06:09.273446Z"
    }
   },
   "outputs": [],
   "source": [
    "# Prepare optimizer and schedule (linear warmup and decay)\n",
    "no_decay = ['bias', 'LayerNorm.weight']\n",
    "optimizer_grouped_parameters = [\n",
    "    {'params': [p for n, p in model.named_parameters() if not any(nd in n for nd in no_decay)], 'weight_decay': 0.01},\n",
    "    {'params': [p for n, p in model.named_parameters() if any(nd in n for nd in no_decay)], 'weight_decay': 0.0}\n",
    "]\n",
    "\n",
    "# optimizer = AdamW(optimizer_grouped_parameters, lr=learning_rate)\n",
    "optimizer = torch.optim.Adam(model.parameters(), lr=1e-3)\n",
    "loss_fn = nn.BCELoss()\n",
    "# loss_fn = F.binary_cross_entropy()\n",
    "\n",
    "t_total = len(train_dataloader) * num_epochs\n",
    "# warmup_step = int(t_total * warmup_ratio)\n",
    "\n",
    "# scheduler = get_linear_schedule_with_warmup(optimizer, warmup_steps=warmup_step, t_total=t_total)\n",
    "\n",
    "def calc_accuracy(X,Y):\n",
    "    train_acc = ((X>0.5)==Y).sum().data.cpu().numpy() / len(Y)\n",
    "    return train_acc"
   ]
  },
  {
   "cell_type": "code",
   "execution_count": 16,
   "metadata": {
    "ExecuteTime": {
     "end_time": "2021-12-10T06:38:18.863184Z",
     "start_time": "2021-12-06T03:06:09.290833Z"
    },
    "scrolled": true
   },
   "outputs": [
    {
     "name": "stdout",
     "output_type": "stream",
     "text": [
      "epoch 1 batch id 1 loss 0.7014474272727966 train acc 0.484375 time 13.23\n",
      "epoch 1 batch id 201 loss 0.47278064489364624 train acc 0.734491604477612 time 2903.05\n",
      "epoch 1 batch id 401 loss 0.46440577507019043 train acc 0.7491817331670823 time 5813.78\n",
      "epoch 1 batch id 601 loss 0.4463101923465729 train acc 0.760412333610649 time 8728.18\n",
      "epoch 1 batch id 801 loss 0.45861536264419556 train acc 0.7678341526217228 time 11642.14\n",
      "epoch 1 batch id 1001 loss 0.47250211238861084 train acc 0.7724658154345654 time 14541.81\n",
      "epoch 1 batch id 1201 loss 0.42056262493133545 train acc 0.7769729652373022 time 17461.81\n",
      "epoch 1 batch id 1401 loss 0.4988987147808075 train acc 0.7810910733404711 time 20497.99\n",
      "epoch 1 batch id 1601 loss 0.4582826495170593 train acc 0.784377927857589 time 23535.84\n",
      "epoch 1 batch id 1801 loss 0.43541669845581055 train acc 0.7872904809827873 time 26573.63\n",
      "epoch 1 batch id 2001 loss 0.422135591506958 train acc 0.7895427286356822 time 29612.9\n",
      "epoch 1 train acc 0.7909517819309928 time 31468.17\n",
      "best_acc: 433.866875\n",
      "epoch 1 test acc 0.8170750941619586\n",
      "epoch 2 batch id 1 loss 0.3736893832683563 train acc 0.8359375 time 17.92\n",
      "epoch 2 batch id 201 loss 0.3700731098651886 train acc 0.8169504042288557 time 3053.3\n",
      "epoch 2 batch id 401 loss 0.37491655349731445 train acc 0.817448566084788 time 6102.82\n",
      "epoch 2 batch id 601 loss 0.39702171087265015 train acc 0.8181936356073212 time 9151.98\n",
      "epoch 2 batch id 801 loss 0.4369521141052246 train acc 0.8186349094881398 time 12201.6\n",
      "epoch 2 batch id 1001 loss 0.4158242344856262 train acc 0.8178969468031968 time 15250.3\n",
      "epoch 2 batch id 1201 loss 0.4134819805622101 train acc 0.8183089612822648 time 18298.35\n",
      "epoch 2 batch id 1401 loss 0.47545090317726135 train acc 0.8191554023911491 time 21344.84\n",
      "epoch 2 batch id 1601 loss 0.44242435693740845 train acc 0.8193951046221112 time 24391.93\n",
      "epoch 2 batch id 1801 loss 0.4147038757801056 train acc 0.8199329365630206 time 27439.41\n",
      "epoch 2 batch id 2001 loss 0.407921701669693 train acc 0.8202168447026487 time 30485.8\n",
      "epoch 2 train acc 0.8205229456719129 time 32346.17\n",
      "best_acc: 436.99296875\n",
      "epoch 2 test acc 0.8229622763653484\n",
      "epoch 3 batch id 1 loss 0.35581982135772705 train acc 0.8671875 time 17.8\n",
      "epoch 3 batch id 201 loss 0.35294631123542786 train acc 0.8275808457711443 time 2979.19\n",
      "epoch 3 batch id 401 loss 0.3576151132583618 train acc 0.8273262157107232 time 5916.01\n",
      "epoch 3 batch id 601 loss 0.4109393358230591 train acc 0.8272865536605657 time 8728.84\n",
      "epoch 3 batch id 801 loss 0.4137064814567566 train acc 0.8276958489388264 time 11541.65\n",
      "epoch 3 batch id 1001 loss 0.4045116603374481 train acc 0.8268645417082917 time 14354.13\n",
      "epoch 3 batch id 1201 loss 0.39971399307250977 train acc 0.827136240632806 time 17166.74\n",
      "epoch 3 batch id 1401 loss 0.4617411196231842 train acc 0.827595244468237 time 19979.24\n",
      "epoch 3 batch id 1601 loss 0.40063610672950745 train acc 0.8276516630231106 time 22790.82\n",
      "epoch 3 batch id 1801 loss 0.3941279649734497 train acc 0.8279493163520266 time 25601.36\n",
      "epoch 3 batch id 2001 loss 0.39050227403640747 train acc 0.8279844452773614 time 28412.09\n",
      "epoch 3 train acc 0.8282713398742265 time 30127.01\n",
      "best_acc: 438.3890625\n",
      "epoch 3 test acc 0.8255914548022599\n",
      "epoch 4 batch id 1 loss 0.35813984274864197 train acc 0.84375 time 16.55\n",
      "epoch 4 batch id 201 loss 0.3458420932292938 train acc 0.8332750310945274 time 2825.67\n",
      "epoch 4 batch id 401 loss 0.34281444549560547 train acc 0.8329664120947631 time 5637.24\n",
      "epoch 4 batch id 601 loss 0.3958311676979065 train acc 0.8331491784525791 time 8447.38\n",
      "epoch 4 batch id 801 loss 0.40512028336524963 train acc 0.8333382100499376 time 11257.43\n",
      "epoch 4 batch id 1001 loss 0.381834477186203 train acc 0.8324370941558441 time 14066.42\n",
      "epoch 4 batch id 1201 loss 0.3875032663345337 train acc 0.8325028621981682 time 16876.44\n",
      "epoch 4 batch id 1401 loss 0.4491596221923828 train acc 0.8331047019985724 time 19685.78\n",
      "epoch 4 batch id 1601 loss 0.3945976495742798 train acc 0.8331023579013117 time 22495.43\n",
      "epoch 4 batch id 1801 loss 0.38570436835289 train acc 0.8334497327873404 time 25305.07\n",
      "epoch 4 batch id 2001 loss 0.39159709215164185 train acc 0.8333509026736632 time 28116.0\n",
      "epoch 4 train acc 0.83358660377993 time 29831.09\n",
      "best_acc: 438.455\n",
      "epoch 4 test acc 0.8257156308851223\n",
      "epoch 5 batch id 1 loss 0.34961816668510437 train acc 0.84765625 time 16.56\n",
      "epoch 5 batch id 201 loss 0.3371316194534302 train acc 0.8377448694029851 time 2822.61\n",
      "epoch 5 batch id 401 loss 0.3299207091331482 train acc 0.8368726620947631 time 5632.28\n",
      "epoch 5 batch id 601 loss 0.3702012896537781 train acc 0.8377248856073212 time 8441.97\n",
      "epoch 5 batch id 801 loss 0.398671954870224 train acc 0.837712624843945 time 11250.72\n",
      "epoch 5 batch id 1001 loss 0.37484514713287354 train acc 0.8371433254245755 time 14060.08\n",
      "epoch 5 batch id 1201 loss 0.38097184896469116 train acc 0.8372157316819318 time 16869.3\n",
      "epoch 5 batch id 1401 loss 0.43144088983535767 train acc 0.8378334671663098 time 19678.62\n",
      "epoch 5 batch id 1601 loss 0.3680703341960907 train acc 0.8377942496876952 time 22485.83\n",
      "epoch 5 batch id 1801 loss 0.37337666749954224 train acc 0.8380760688506386 time 25292.9\n",
      "epoch 5 batch id 2001 loss 0.37638264894485474 train acc 0.8382410357321339 time 28099.72\n",
      "epoch 5 train acc 0.8385742450228678 time 29813.66\n",
      "best_acc: 438.501875\n",
      "epoch 5 test acc 0.8258039077212805\n",
      "epoch 6 batch id 1 loss 0.3367752432823181 train acc 0.8671875 time 16.74\n",
      "epoch 6 batch id 201 loss 0.3211454153060913 train acc 0.8432058457711443 time 2819.36\n",
      "epoch 6 batch id 401 loss 0.3416682481765747 train acc 0.8429025093516209 time 5612.96\n",
      "epoch 6 batch id 601 loss 0.36162111163139343 train acc 0.8431715370216306 time 8408.52\n",
      "epoch 6 batch id 801 loss 0.40250730514526367 train acc 0.8433013420724095 time 11206.55\n",
      "epoch 6 batch id 1001 loss 0.37087902426719666 train acc 0.8425753933566433 time 14003.9\n",
      "epoch 6 batch id 1201 loss 0.3508021831512451 train acc 0.8428197855953372 time 16800.36\n",
      "epoch 6 batch id 1401 loss 0.4169788360595703 train acc 0.8433680183797287 time 19607.35\n",
      "epoch 6 batch id 1601 loss 0.36928221583366394 train acc 0.8432644636164897 time 22416.16\n",
      "epoch 6 batch id 1801 loss 0.368892103433609 train acc 0.8435114172681843 time 25225.72\n",
      "epoch 6 batch id 2001 loss 0.3703499138355255 train acc 0.8435411200649675 time 28036.19\n",
      "epoch 6 train acc 0.8437108534268226 time 29751.66\n",
      "epoch 6 test acc 0.8254128413370999\n",
      "epoch 7 batch id 1 loss 0.33563271164894104 train acc 0.84375 time 16.57\n",
      "epoch 7 batch id 201 loss 0.32739490270614624 train acc 0.8471315298507462 time 2825.04\n",
      "epoch 7 batch id 401 loss 0.31559231877326965 train acc 0.8468477244389028 time 5631.72\n",
      "epoch 7 batch id 601 loss 0.3444342613220215 train acc 0.8471427828618968 time 8439.65\n",
      "epoch 7 batch id 801 loss 0.3882299065589905 train acc 0.8474611813358303 time 11246.47\n",
      "epoch 7 batch id 1001 loss 0.367300808429718 train acc 0.8468835851648352 time 14014.03\n",
      "epoch 7 batch id 1201 loss 0.34440672397613525 train acc 0.8470024979184013 time 16712.46\n",
      "epoch 7 batch id 1401 loss 0.42346838116645813 train acc 0.8477482601713062 time 19499.98\n",
      "epoch 7 batch id 1601 loss 0.33912795782089233 train acc 0.847641610712055 time 22286.86\n",
      "epoch 7 batch id 1801 loss 0.3533640205860138 train acc 0.8479403803442532 time 25106.01\n",
      "epoch 7 batch id 2001 loss 0.35235971212387085 train acc 0.8479744502748626 time 27892.34\n",
      "epoch 7 train acc 0.8481982592648641 time 29597.12\n",
      "epoch 7 test acc 0.8237882532956685\n",
      "epoch 8 batch id 1 loss 0.3315165638923645 train acc 0.8515625 time 16.47\n",
      "epoch 8 batch id 201 loss 0.317898690700531 train acc 0.8516402363184079 time 2810.67\n",
      "epoch 8 batch id 401 loss 0.31536391377449036 train acc 0.8513871571072319 time 5605.57\n",
      "epoch 8 batch id 601 loss 0.3314294219017029 train acc 0.8516729929284526 time 8401.86\n",
      "epoch 8 batch id 801 loss 0.37941446900367737 train acc 0.8519477606117354 time 11194.13\n",
      "epoch 8 batch id 1001 loss 0.34509900212287903 train acc 0.8511683628871128 time 13975.1\n",
      "epoch 8 batch id 1201 loss 0.32436156272888184 train acc 0.8513413301415487 time 16755.23\n",
      "epoch 8 batch id 1401 loss 0.4184137284755707 train acc 0.8519863044254105 time 19534.97\n",
      "epoch 8 batch id 1601 loss 0.3422645330429077 train acc 0.8519626405371643 time 22313.55\n"
     ]
    },
    {
     "name": "stdout",
     "output_type": "stream",
     "text": [
      "epoch 8 batch id 1801 loss 0.3338266909122467 train acc 0.8522760792615214 time 25092.12\n",
      "epoch 8 batch id 2001 loss 0.35759472846984863 train acc 0.852351168165917 time 27870.33\n",
      "epoch 8 train acc 0.8526160420029594 time 29440.64\n",
      "epoch 8 test acc 0.8223631709039547\n",
      "epoch 9 batch id 1 loss 0.32649242877960205 train acc 0.85546875 time 13.27\n",
      "epoch 9 batch id 201 loss 0.3079838752746582 train acc 0.8559351679104478 time 2169.78\n",
      "epoch 9 batch id 401 loss 0.32092398405075073 train acc 0.8559168485037406 time 4325.0\n",
      "epoch 9 batch id 601 loss 0.3183908760547638 train acc 0.8558457258735441 time 6481.06\n",
      "epoch 9 batch id 801 loss 0.38080787658691406 train acc 0.8565903948189763 time 8636.99\n",
      "epoch 9 batch id 1001 loss 0.32872018218040466 train acc 0.855726304945055 time 10792.85\n",
      "epoch 9 batch id 1201 loss 0.31729385256767273 train acc 0.8559598771856786 time 12948.38\n",
      "epoch 9 batch id 1401 loss 0.4225287437438965 train acc 0.8564808618843683 time 15104.64\n",
      "epoch 9 batch id 1601 loss 0.3275820016860962 train acc 0.8562153536851967 time 17261.07\n",
      "epoch 9 batch id 1801 loss 0.33029139041900635 train acc 0.8565532169627984 time 19418.04\n",
      "epoch 9 batch id 2001 loss 0.3456750512123108 train acc 0.8566341829085458 time 21575.19\n",
      "epoch 9 train acc 0.856812607193301 time 22890.82\n",
      "epoch 9 test acc 0.8219974105461393\n",
      "epoch 10 batch id 1 loss 0.3267788290977478 train acc 0.859375 time 13.24\n",
      "epoch 10 batch id 201 loss 0.308490514755249 train acc 0.859355565920398 time 2170.13\n",
      "epoch 10 batch id 401 loss 0.326839417219162 train acc 0.8598133572319202 time 4325.07\n",
      "epoch 10 batch id 601 loss 0.30198755860328674 train acc 0.859771474625624 time 6481.96\n",
      "epoch 10 batch id 801 loss 0.35966062545776367 train acc 0.860491768102372 time 8638.75\n",
      "epoch 10 batch id 1001 loss 0.3148542046546936 train acc 0.8599213286713286 time 10795.36\n",
      "epoch 10 batch id 1201 loss 0.3172857165336609 train acc 0.8599116621565362 time 12951.44\n",
      "epoch 10 batch id 1401 loss 0.406475305557251 train acc 0.8602867371520343 time 15108.01\n",
      "epoch 10 batch id 1601 loss 0.30958858132362366 train acc 0.8602850757339163 time 17264.61\n",
      "epoch 10 batch id 1801 loss 0.32609716057777405 train acc 0.8604876631038312 time 19421.22\n",
      "epoch 10 batch id 2001 loss 0.36527979373931885 train acc 0.8603588830584707 time 21577.15\n",
      "epoch 10 train acc 0.8604729431497176 time 22892.42\n",
      "epoch 10 test acc 0.819579213747646\n"
     ]
    }
   ],
   "source": [
    "best_acc = 0\n",
    "for e in range(num_epochs):\n",
    "    t0 = time.time()\n",
    "    train_acc = 0.0\n",
    "    test_acc = 0.0\n",
    "    \n",
    "    model.train()\n",
    "    for batch_id, (pep_token_ids, n_token_ids, c_token_ids, m1_token_ids, m2_token_ids, label) in enumerate(train_dataloader):\n",
    "#         print(batch_id, round(time.time()-t0, 2))  # batch256->2100 loop, each 5 sec -> per 1 epoch, 3h\n",
    "        \n",
    "        pep_token_ids = pep_token_ids.long().to(device)\n",
    "        n_token_ids = n_token_ids.long().to(device)\n",
    "        c_token_ids = c_token_ids.long().to(device)\n",
    "        m1_token_ids = m1_token_ids.long().to(device)\n",
    "        m2_token_ids = m2_token_ids.long().to(device)\n",
    "        label = torch.reshape(label.float(), (-1, 1)).to(device)\n",
    "        \n",
    "        pred = model(pep_token_ids, n_token_ids, c_token_ids, m1_token_ids, m2_token_ids)\n",
    "        loss = F.binary_cross_entropy(pred, label)\n",
    "        optimizer.zero_grad()\n",
    "        loss.backward()\n",
    "        optimizer.step()\n",
    "        \n",
    "        train_acc += calc_accuracy(pred, label)\n",
    "        if batch_id % log_interval == 0:\n",
    "            print(\"epoch {} batch id {} loss {} train acc {} time {}\".format(e+1, batch_id+1, loss.data.cpu().numpy(), train_acc / (batch_id+1), round(time.time()-t0, 2)))\n",
    "        \n",
    "    print(\"epoch {} train acc {} time {}\".format(e+1, train_acc / (batch_id+1), round(time.time()-t0,2)))\n",
    "    \n",
    "    model.eval()\n",
    "    for batch_id, (pep_token_ids, n_token_ids, c_token_ids, m1_token_ids, m2_token_ids, label) in enumerate(valid_dataloader):\n",
    "        pep_token_ids = pep_token_ids.long().to(device)\n",
    "        n_token_ids = n_token_ids.long().to(device)\n",
    "        c_token_ids = c_token_ids.long().to(device)\n",
    "        m1_token_ids = m1_token_ids.long().to(device)\n",
    "        m2_token_ids = m2_token_ids.long().to(device)\n",
    "        label = label.long().to(device)\n",
    "        label = torch.reshape(label, (-1, 1))\n",
    "        pred = model(pep_token_ids, n_token_ids, c_token_ids, m1_token_ids, m2_token_ids)\n",
    "        \n",
    "        test_acc += calc_accuracy(pred, label)\n",
    "    if (test_acc / (batch_id+1))> best_acc:\n",
    "        best_acc=test_acc\n",
    "        torch.save({\"best_acc\":best_acc / (batch_id+1),\"model\":model.state_dict()},f'./lowParam/low.pl')\n",
    "        print(f\"best_acc: {best_acc}\")\n",
    "    print(\"epoch {} test acc {}\".format(e+1, test_acc / (batch_id+1)))"
   ]
  },
  {
   "cell_type": "code",
   "execution_count": 21,
   "metadata": {
    "ExecuteTime": {
     "end_time": "2021-12-12T18:57:35.166975Z",
     "start_time": "2021-12-12T17:57:34.610557Z"
    }
   },
   "outputs": [],
   "source": [
    "pred = []\n",
    "model.eval()\n",
    "with torch.no_grad():\n",
    "    for batch_id, (pep_token_ids, n_token_ids, c_token_ids, m1_token_ids, m2_token_ids, label) in enumerate(test_dataloader):\n",
    "        pep_token_ids = pep_token_ids.long().to(device)\n",
    "        n_token_ids = n_token_ids.long().to(device)\n",
    "        c_token_ids = c_token_ids.long().to(device)\n",
    "        m1_token_ids = m1_token_ids.long().to(device)\n",
    "        m2_token_ids = m2_token_ids.long().to(device)\n",
    "        label = label.long().to(device)\n",
    "        label = torch.reshape(label, (-1, 1))\n",
    "\n",
    "        pred_batch = model(pep_token_ids, n_token_ids, c_token_ids, m1_token_ids, m2_token_ids)\n",
    "        pred += list(pred_batch)\n",
    "        test_acc += calc_accuracy(pred_batch, label)"
   ]
  },
  {
   "cell_type": "code",
   "execution_count": 22,
   "metadata": {
    "ExecuteTime": {
     "end_time": "2021-12-12T20:02:18.912957Z",
     "start_time": "2021-12-12T20:02:00.318783Z"
    }
   },
   "outputs": [
    {
     "name": "stdout",
     "output_type": "stream",
     "text": [
      "              precision    recall  f1-score   support\n",
      "\n",
      "           0       0.83      0.82      0.83     66996\n",
      "           1       0.82      0.83      0.83     66996\n",
      "\n",
      "    accuracy                           0.83    133992\n",
      "   macro avg       0.83      0.83      0.83    133992\n",
      "weighted avg       0.83      0.83      0.83    133992\n",
      "\n"
     ]
    },
    {
     "data": {
      "image/png": "[encoded data removed]",
      "text/plain": [
       "<Figure size 216x216 with 2 Axes>"
      ]
     },
     "metadata": {
      "needs_background": "light"
     },
     "output_type": "display_data"
    },
    {
     "data": {
      "image/png": "[encoded data removed]",
      "text/plain": [
       "<Figure size 216x216 with 2 Axes>"
      ]
     },
     "metadata": {
      "needs_background": "light"
     },
     "output_type": "display_data"
    },
    {
     "name": "stdout",
     "output_type": "stream",
     "text": [
      "accuracy: 0.8263254522658069\n"
     ]
    }
   ],
   "source": [
    "y_test = test.ID.values\n",
    "y_pred = [1 if _ >= 0.5 else 0 for _ in pred]\n",
    "print(classification_report(y_test, y_pred))\n",
    "cf_matrix = confusion_matrix(y_test, y_pred)\n",
    "plt.figure(figsize=(3, 3))\n",
    "sns.heatmap(cf_matrix, annot=True, fmt=',.0f')\n",
    "plt.show()\n",
    "plt.figure(figsize=(3, 3))\n",
    "sns.heatmap(cf_matrix/np.sum(cf_matrix), annot=True, \n",
    "            fmt='.2%', cmap='Blues')\n",
    "plt.show()\n",
    "\n",
    "print('accuracy:', sum(np.array(y_pred)==y_test)/ len (y_pred))"
   ]
  },
  {
   "cell_type": "code",
   "execution_count": 35,
   "metadata": {
    "ExecuteTime": {
     "end_time": "2021-12-12T21:15:32.413197Z",
     "start_time": "2021-12-12T21:15:30.601250Z"
    }
   },
   "outputs": [],
   "source": [
    "probs = [_.cpu().numpy() for _ in pred]"
   ]
  },
  {
   "cell_type": "code",
   "execution_count": 36,
   "metadata": {
    "ExecuteTime": {
     "end_time": "2021-12-12T21:15:37.451749Z",
     "start_time": "2021-12-12T21:15:36.969540Z"
    }
   },
   "outputs": [
    {
     "name": "stdout",
     "output_type": "stream",
     "text": [
      "rf auc : 0.9022046666888106\n"
     ]
    },
    {
     "data": {
      "image/png": "[encoded data removed]",
      "text/plain": [
       "<Figure size 288x288 with 1 Axes>"
      ]
     },
     "metadata": {
      "needs_background": "light"
     },
     "output_type": "display_data"
    }
   ],
   "source": [
    "rf_auc = roc_auc_score(y_test, probs)\n",
    "\n",
    "\n",
    "print('rf auc : {}'.format(rf_auc))\n",
    "# plot the roc curve for the model_high\n",
    "rf_fpr, rf_tpr, _ = roc_curve(y_test, probs)\n",
    "plt.figure(figsize=(4, 4))\n",
    "plt.plot(rf_fpr, rf_tpr, marker='.', label='RF AUC = {:.4f}'.format(rf_auc), color='orange')\n",
    "plt.title('ROC curve')\n",
    "# axis labels\n",
    "plt.xlabel('False Positive Rate')\n",
    "plt.ylabel('True Positive Rate')\n",
    "# show the legend\n",
    "plt.legend()\n",
    "# show the plot\n",
    "plt.show()"
   ]
  },
  {
   "cell_type": "code",
   "execution_count": 37,
   "metadata": {
    "ExecuteTime": {
     "end_time": "2021-12-12T21:17:31.695340Z",
     "start_time": "2021-12-12T21:17:24.921111Z"
    }
   },
   "outputs": [],
   "source": [
    "torch.save({\"model\":model.state_dict()},f'./lowParam/low2.pl')"
   ]
  }
 ],
 "metadata": {
  "kernelspec": {
   "display_name": "ProtEmbedding",
   "language": "python",
   "name": "protembedding"
  },
  "language_info": {
   "codemirror_mode": {
    "name": "ipython",
    "version": 3
   },
   "file_extension": ".py",
   "mimetype": "text/x-python",
   "name": "python",
   "nbconvert_exporter": "python",
   "pygments_lexer": "ipython3",
   "version": "3.6.13"
  }
 },
 "nbformat": 4,
 "nbformat_minor": 4
}
