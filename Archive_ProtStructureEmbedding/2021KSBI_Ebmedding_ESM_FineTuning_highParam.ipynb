{
 "cells": [
  {
   "cell_type": "code",
   "execution_count": 1,
   "metadata": {
    "ExecuteTime": {
     "end_time": "2021-12-06T02:58:48.207342Z",
     "start_time": "2021-12-06T02:58:47.362184Z"
    }
   },
   "outputs": [],
   "source": [
    "import pandas as pd\n",
    "import numpy as np\n",
    "import matplotlib.pyplot as plt\n",
    "import seaborn as sns\n",
    "from sklearn.metrics import classification_report\n",
    "from sklearn.metrics import confusion_matrix\n",
    "from sklearn.metrics import roc_curve\n",
    "from sklearn.metrics import roc_auc_score\n",
    "from sklearn.model_selection import train_test_split"
   ]
  },
  {
   "cell_type": "code",
   "execution_count": 2,
   "metadata": {
    "ExecuteTime": {
     "end_time": "2021-12-06T02:58:48.857548Z",
     "start_time": "2021-12-06T02:58:48.846788Z"
    }
   },
   "outputs": [
    {
     "name": "stdout",
     "output_type": "stream",
     "text": [
      "(19, 21)\n"
     ]
    }
   ],
   "source": [
    "df_aaindex = pd.read_csv('../data/aaindex/df_aaindex19.csv')\n",
    "print(df_aaindex.shape)\n",
    "df_aaindex.head(1)\n",
    "tmp = df_aaindex.drop('Unnamed: 0',axis=1).T\n",
    "aa2val = dict()\n",
    "for aa, val in zip(tmp.index, tmp.values):\n",
    "    aa2val[aa]=val"
   ]
  },
  {
   "cell_type": "code",
   "execution_count": 3,
   "metadata": {
    "ExecuteTime": {
     "end_time": "2021-12-06T02:58:51.800190Z",
     "start_time": "2021-12-06T02:58:49.047389Z"
    }
   },
   "outputs": [
    {
     "data": {
      "text/html": [
       "<div>\n",
       "<style scoped>\n",
       "    .dataframe tbody tr th:only-of-type {\n",
       "        vertical-align: middle;\n",
       "    }\n",
       "\n",
       "    .dataframe tbody tr th {\n",
       "        vertical-align: top;\n",
       "    }\n",
       "\n",
       "    .dataframe thead th {\n",
       "        text-align: right;\n",
       "    }\n",
       "</style>\n",
       "<table border=\"1\" class=\"dataframe\">\n",
       "  <thead>\n",
       "    <tr style=\"text-align: right;\">\n",
       "      <th></th>\n",
       "      <th>peptide</th>\n",
       "      <th>En</th>\n",
       "      <th>Ec</th>\n",
       "      <th>E1</th>\n",
       "      <th>E2</th>\n",
       "      <th>protein</th>\n",
       "      <th>PEP</th>\n",
       "      <th>ID</th>\n",
       "    </tr>\n",
       "  </thead>\n",
       "  <tbody>\n",
       "    <tr>\n",
       "      <th>595411</th>\n",
       "      <td>K.QELNEPPKQSTSFLVLQEILESEEKGDPNK.P</td>\n",
       "      <td>VYKMLQEKQELNEPP</td>\n",
       "      <td>EEKGDPNKPSGFRSV</td>\n",
       "      <td>QELNEPPKQSTSFLV</td>\n",
       "      <td>EILESEEKGDPNKPS</td>\n",
       "      <td>sp|O00151|PDLI1_HUMAN</td>\n",
       "      <td>QELNEPPKQSTSFLVLQEILESEEKGDPNK</td>\n",
       "      <td>0</td>\n",
       "    </tr>\n",
       "  </tbody>\n",
       "</table>\n",
       "</div>"
      ],
      "text/plain": [
       "                                   peptide               En               Ec  \\\n",
       "595411  K.QELNEPPKQSTSFLVLQEILESEEKGDPNK.P  VYKMLQEKQELNEPP  EEKGDPNKPSGFRSV   \n",
       "\n",
       "                     E1               E2                protein  \\\n",
       "595411  QELNEPPKQSTSFLV  EILESEEKGDPNKPS  sp|O00151|PDLI1_HUMAN   \n",
       "\n",
       "                                   PEP  ID  \n",
       "595411  QELNEPPKQSTSFLVLQEILESEEKGDPNK   0  "
      ]
     },
     "execution_count": 3,
     "metadata": {},
     "output_type": "execute_result"
    }
   ],
   "source": [
    "df_detect_peptide_train = pd.read_csv('../data/df_detect_peptide_train.csv')\n",
    "test = pd.read_csv('../data/df_detect_peptide_test.csv')\n",
    "train, val = train_test_split(df_detect_peptide_train, test_size=0.2, random_state=7)\n",
    "\n",
    "df = pd.concat([train, val, test], axis=0).reset_index(drop=True)\n",
    "\n",
    "train_idx = df.iloc[:len(train), :].index\n",
    "val_idx = df.iloc[len(train):len(train)+len(val), :].index\n",
    "test_idx = df.iloc[len(train)+len(val):, :].index\n",
    "\n",
    "train.head(1)"
   ]
  },
  {
   "cell_type": "markdown",
   "metadata": {},
   "source": [
    "# torch gpu"
   ]
  },
  {
   "cell_type": "code",
   "execution_count": 4,
   "metadata": {
    "ExecuteTime": {
     "end_time": "2021-12-06T02:58:52.562349Z",
     "start_time": "2021-12-06T02:58:51.801420Z"
    }
   },
   "outputs": [],
   "source": [
    "import sys\n",
    "PATH_TO_REPO = \"/home/bis/2021_AIhub/esm/\"\n",
    "sys.path.append(PATH_TO_REPO)\n",
    "\n",
    "import torch\n",
    "import esm\n",
    "\n",
    "from tqdm.notebook import tqdm\n",
    "from tqdm import tqdm, tqdm_notebook\n",
    "import time\n",
    "from torch import nn\n",
    "import torch.nn.functional as F\n",
    "import torch.optim as optim\n",
    "from torch.utils.data import Dataset, DataLoader\n",
    "\n",
    "from transformers import AdamW\n",
    "# from transformers.optimization import get_cosine_schedule_with_warmup\n",
    "from transformers import WarmupLinearSchedule as get_linear_schedule_with_warmup\n",
    "\n",
    "import torch.nn.functional as F"
   ]
  },
  {
   "cell_type": "code",
   "execution_count": 5,
   "metadata": {
    "ExecuteTime": {
     "end_time": "2021-12-06T02:58:52.566621Z",
     "start_time": "2021-12-06T02:58:52.564236Z"
    }
   },
   "outputs": [],
   "source": [
    "##GPU 사용 시\n",
    "device = torch.device(\"cuda\")"
   ]
  },
  {
   "cell_type": "code",
   "execution_count": 6,
   "metadata": {
    "ExecuteTime": {
     "end_time": "2021-12-06T02:59:05.420761Z",
     "start_time": "2021-12-06T02:58:52.567824Z"
    }
   },
   "outputs": [],
   "source": [
    "esm_model, alphabet = esm.pretrained.esm1b_t33_650M_UR50S()\n",
    "batch_converter = alphabet.get_batch_converter()"
   ]
  },
  {
   "cell_type": "code",
   "execution_count": 7,
   "metadata": {
    "ExecuteTime": {
     "end_time": "2021-12-06T02:59:05.429469Z",
     "start_time": "2021-12-06T02:59:05.422641Z"
    }
   },
   "outputs": [],
   "source": [
    "ct = 0\n",
    "for child in esm_model.children():\n",
    "    ct += 1\n",
    "#     print(ct, child)\n",
    "    if ct < 7:\n",
    "        for param in child.parameters():\n",
    "            param.requires_grad = False"
   ]
  },
  {
   "cell_type": "code",
   "execution_count": 8,
   "metadata": {
    "ExecuteTime": {
     "end_time": "2021-12-06T02:59:05.442711Z",
     "start_time": "2021-12-06T02:59:05.430548Z"
    }
   },
   "outputs": [],
   "source": [
    "class ESMDataset(Dataset):\n",
    "    def __init__(self, datasets, idxes):\n",
    "        pep_idx, nterm_idx, cterm_idx, m1term_idx, m2term_idx, label_idx = idxes\n",
    "        pep_data = [(label, seq) for label, seq in zip(datasets[:, label_idx], datasets[:, pep_idx])]\n",
    "        nterm_data = [(label, seq) for label, seq in zip(datasets[:, label_idx], datasets[:, nterm_idx])]\n",
    "        cterm_data = [(label, seq) for label, seq in zip(datasets[:, label_idx], datasets[:, cterm_idx])]\n",
    "        m1_data = [(label, seq) for label, seq in zip(datasets[:, label_idx], datasets[:, m1term_idx])]\n",
    "        m2_data = [(label, seq) for label, seq in zip(datasets[:, label_idx], datasets[:, m2term_idx])]\n",
    "        \n",
    "        labels, pep_strs, pep_tokens = batch_converter(pep_data)\n",
    "        _, n_strs, n_tokens = batch_converter(nterm_data)\n",
    "        _, c_strs, c_tokens = batch_converter(cterm_data)\n",
    "        _, m1_strs, m1_tokens = batch_converter(m1_data)\n",
    "        _, m2_strs, m2_tokens = batch_converter(m2_data)\n",
    "\n",
    "        self.sentences = [pep_tokens, n_tokens, c_tokens, m1_tokens, m2_tokens]\n",
    "        self.labels = labels\n",
    "\n",
    "    def __getitem__(self, i):\n",
    "        return (\n",
    "                (self.sentences[0][i], ) + (self.sentences[1][i],) \\\n",
    "                + (self.sentences[2][i], ) + (self.sentences[3][i], ) + (self.sentences[4][i], ) \\\n",
    "                + (self.labels[i], )\n",
    "               )\n",
    "\n",
    "    def __len__(self):\n",
    "        return (len(self.labels))\n",
    "\n",
    "# [PAD] = 1, [MASK] = 21  [CLS] = 0 (special classification token), [SEP] = 2 (seperate segment), Z = 27, '-' = 30, .=29, ,=28\n",
    "# J 없음\n",
    "# A 2, B 25, C 23, D 13, E 9, F 18, G 6, H 21, I 12, K 15, L 4, M 20, N 17, \n",
    "# O 28, P 14, Q 16, R 10, S 8, T 11, U 26, V 7, W 22, X 24, Y 19, Z 27\n",
    "# 3 5 없음"
   ]
  },
  {
   "cell_type": "code",
   "execution_count": 9,
   "metadata": {
    "ExecuteTime": {
     "end_time": "2021-12-06T02:59:05.450051Z",
     "start_time": "2021-12-06T02:59:05.444133Z"
    }
   },
   "outputs": [],
   "source": [
    "## Setting parameters\n",
    "max_len = 30\n",
    "batch_size = 256\n",
    "warmup_ratio = 0.1\n",
    "num_epochs = 10\n",
    "max_grad_norm = 1\n",
    "log_interval = 200\n",
    "learning_rate =  1e-4"
   ]
  },
  {
   "cell_type": "code",
   "execution_count": 10,
   "metadata": {
    "ExecuteTime": {
     "end_time": "2021-12-06T03:07:00.388999Z",
     "start_time": "2021-12-06T02:59:05.451268Z"
    }
   },
   "outputs": [
    {
     "name": "stdout",
     "output_type": "stream",
     "text": [
      "474.93 sec\n"
     ]
    }
   ],
   "source": [
    "s = time.time()\n",
    "\n",
    "dataset_train = train[['PEP', 'En', 'Ec', 'E1', 'E2', 'ID']].values\n",
    "dataset_valid = val[['PEP', 'En', 'Ec', 'E1', 'E2', 'ID']].values\n",
    "dataset_test = test[['PEP', 'En', 'Ec', 'E1', 'E2', 'ID']].values\n",
    "\n",
    "data_train = ESMDataset(dataset_train, [0, 1, 2, 3, 4, 5])\n",
    "data_valid = ESMDataset(dataset_valid, [0, 1, 2, 3, 4, 5])\n",
    "\n",
    "train_dataloader = torch.utils.data.DataLoader(data_train, batch_size=batch_size, num_workers=48)\n",
    "valid_dataloader = torch.utils.data.DataLoader(data_valid, batch_size=batch_size, num_workers=48)\n",
    "\n",
    "e = time.time()\n",
    "print(round(e-s, 2),'sec')"
   ]
  },
  {
   "cell_type": "code",
   "execution_count": 19,
   "metadata": {
    "ExecuteTime": {
     "end_time": "2021-12-12T16:05:04.992798Z",
     "start_time": "2021-12-12T16:03:34.317342Z"
    }
   },
   "outputs": [],
   "source": [
    "data_test = ESMDataset(dataset_test, [0, 1, 2, 3, 4, 5])\n",
    "test_dataloader = torch.utils.data.DataLoader(data_test, batch_size=batch_size, num_workers=48)"
   ]
  },
  {
   "cell_type": "markdown",
   "metadata": {},
   "source": [
    "# model"
   ]
  },
  {
   "cell_type": "code",
   "execution_count": 11,
   "metadata": {
    "ExecuteTime": {
     "end_time": "2021-12-06T03:07:00.407120Z",
     "start_time": "2021-12-06T03:07:00.390437Z"
    }
   },
   "outputs": [],
   "source": [
    "class ESMClassifier(nn.Module):\n",
    "    def __init__(self,\n",
    "                 esm,\n",
    "                 num_classes=1,\n",
    "                 params=None):\n",
    "        \n",
    "        super(ESMClassifier, self).__init__()\n",
    "        self.esm = esm\n",
    "        self.pep_lstm1 = nn.LSTM(input_size=1280, hidden_size=512, batch_first=True)\n",
    "        self.pep_drop1 = nn.Dropout(p=0.2)\n",
    "        self.pep_lstm2 = nn.LSTM(input_size=512, hidden_size=256, batch_first=True)\n",
    "        self.pep_drop2 = nn.Dropout(p=0.2)\n",
    "        self.pep_lstm3 = nn.LSTM(input_size=256, hidden_size=128, batch_first=True)\n",
    "        self.pep_drop3 = nn.Dropout(p=0.2)\n",
    "        \n",
    "        self.ts_lstm1 = nn.LSTM(input_size=1280, hidden_size=512, batch_first=True)\n",
    "        self.ts_drop1 = nn.Dropout(p=0.2)\n",
    "        self.ts_lstm2 = nn.LSTM(input_size=512, hidden_size=128, batch_first=True)\n",
    "        self.ts_drop2 = nn.Dropout(p=0.2)\n",
    "        self.ts_lstm3 = nn.LSTM(input_size=128, hidden_size=64,  batch_first=True)\n",
    "        self.ts_drop3 = nn.Dropout(p=0.2)\n",
    "                \n",
    "        self.fc1 = nn.Linear(384, 256)\n",
    "        self.fc_drop1 = nn.Dropout(p=0.2)\n",
    "        self.fc2 = nn.Linear(256, 128)\n",
    "        self.fc_drop2 = nn.Dropout(p=0.2)\n",
    "        self.fc3 = nn.Linear(128, 1)\n",
    "\n",
    "\n",
    "#     def gen_attention_mask(self, token_ids, valid_length):\n",
    "#         attention_mask = torch.zeros_like(token_ids)\n",
    "#         for i, v in enumerate(valid_length):\n",
    "#             attention_mask[i][:v] = 1\n",
    "#         return attention_mask.float()\n",
    "\n",
    "    def forward(self, token_ids, en_token_ids, ec_token_ids, e1_token_ids, e2_token_ids):\n",
    "#         attention_mask = self.gen_attention_mask(token_ids, valid_length)\n",
    "        \n",
    "        pep_embed = self.esm(token_ids, repr_layers=[33])['representations'][33]\n",
    "        pep_lstm, (pep_hn, __) = self.pep_lstm1(pep_embed)\n",
    "        pep_hn = self.pep_drop1(pep_hn)\n",
    "        pep_lstm, (_, __) = self.pep_lstm2(pep_lstm)\n",
    "        pep_lstm = self.pep_drop2(pep_lstm)\n",
    "        _, (pep_hn, __) = self.pep_lstm3(pep_lstm)\n",
    "        pep_hn = self.pep_drop3(pep_hn)\n",
    "        \n",
    "        en_embed = self.esm(en_token_ids, repr_layers=[33])['representations'][33]\n",
    "        ec_embed = self.esm(ec_token_ids, repr_layers=[33])['representations'][33]\n",
    "        e1_embed = self.esm(e1_token_ids, repr_layers=[33])['representations'][33]\n",
    "        e2_embed = self.esm(e2_token_ids, repr_layers=[33])['representations'][33]\n",
    "        \n",
    "        en_lstm, (_, __) = self.ts_lstm1(en_embed)\n",
    "        en_lstm = self.ts_drop1(en_lstm)\n",
    "        en_lstm, (_, __) = self.ts_lstm2(en_lstm)\n",
    "        en_lstm = self.ts_drop2(en_lstm)\n",
    "        _, (en_hn, __) = self.ts_lstm3(en_lstm)\n",
    "        en_hn = self.ts_drop3(en_hn)\n",
    "        \n",
    "        ec_lstm, (_, __) = self.ts_lstm1(ec_embed)\n",
    "        ec_lstm = self.ts_drop1(ec_lstm)\n",
    "        ec_lstm, (_, __) = self.ts_lstm2(ec_lstm)\n",
    "        ec_lstm = self.ts_drop2(ec_lstm)\n",
    "        _, (ec_hn, __) = self.ts_lstm3(ec_lstm)\n",
    "        ec_hn = self.ts_drop3(ec_hn)\n",
    "        \n",
    "        e1_lstm, (_, __) = self.ts_lstm1(e1_embed)\n",
    "        e1_lstm = self.ts_drop1(e1_lstm)\n",
    "        e1_lstm, (_, __) = self.ts_lstm2(e1_lstm)\n",
    "        e1_lstm = self.ts_drop2(e1_lstm)\n",
    "        _, (e1_hn, __) = self.ts_lstm3(e1_lstm)\n",
    "        e1_hn = self.ts_drop3(e1_hn)\n",
    "        \n",
    "        e2_lstm, (_, __) = self.ts_lstm1(e2_embed)\n",
    "        e2_lstm = self.ts_drop1(e2_lstm)\n",
    "        e2_lstm, (_, __) = self.ts_lstm2(e2_lstm)\n",
    "        e2_lstm = self.ts_drop2(e2_lstm)\n",
    "        _, (e2_hn, __) = self.ts_lstm3(e2_lstm)\n",
    "        e2_hn = self.ts_drop3(e2_hn)\n",
    "        \n",
    "        merge = torch.cat([pep_hn[0], en_hn[0], ec_hn[0], e1_hn[0], e2_hn[0]], dim=1)\n",
    "\n",
    "        merge = self.fc1(merge)\n",
    "        merge = self.fc_drop1(merge)\n",
    "        merge = self.fc2(merge)\n",
    "        merge = self.fc_drop2(merge)\n",
    "        merge = self.fc3(merge)\n",
    "        \n",
    "        out = torch.sigmoid(merge)\n",
    "        return out"
   ]
  },
  {
   "cell_type": "code",
   "execution_count": 12,
   "metadata": {
    "ExecuteTime": {
     "end_time": "2021-12-06T03:07:12.651527Z",
     "start_time": "2021-12-06T03:07:00.408153Z"
    }
   },
   "outputs": [],
   "source": [
    "model = ESMClassifier(esm_model).to(device)"
   ]
  },
  {
   "cell_type": "code",
   "execution_count": 13,
   "metadata": {
    "ExecuteTime": {
     "end_time": "2021-12-06T03:07:12.660288Z",
     "start_time": "2021-12-06T03:07:12.652829Z"
    }
   },
   "outputs": [
    {
     "data": {
      "text/plain": [
       "ESMClassifier(\n",
       "  (esm): ProteinBertModel(\n",
       "    (embed_tokens): Embedding(33, 1280, padding_idx=1)\n",
       "    (layers): ModuleList(\n",
       "      (0): TransformerLayer(\n",
       "        (self_attn): MultiheadAttention(\n",
       "          (k_proj): Linear(in_features=1280, out_features=1280, bias=True)\n",
       "          (v_proj): Linear(in_features=1280, out_features=1280, bias=True)\n",
       "          (q_proj): Linear(in_features=1280, out_features=1280, bias=True)\n",
       "          (out_proj): Linear(in_features=1280, out_features=1280, bias=True)\n",
       "        )\n",
       "        (self_attn_layer_norm): LayerNorm((1280,), eps=1e-05, elementwise_affine=True)\n",
       "        (fc1): Linear(in_features=1280, out_features=5120, bias=True)\n",
       "        (fc2): Linear(in_features=5120, out_features=1280, bias=True)\n",
       "        (final_layer_norm): LayerNorm((1280,), eps=1e-05, elementwise_affine=True)\n",
       "      )\n",
       "      (1): TransformerLayer(\n",
       "        (self_attn): MultiheadAttention(\n",
       "          (k_proj): Linear(in_features=1280, out_features=1280, bias=True)\n",
       "          (v_proj): Linear(in_features=1280, out_features=1280, bias=True)\n",
       "          (q_proj): Linear(in_features=1280, out_features=1280, bias=True)\n",
       "          (out_proj): Linear(in_features=1280, out_features=1280, bias=True)\n",
       "        )\n",
       "        (self_attn_layer_norm): LayerNorm((1280,), eps=1e-05, elementwise_affine=True)\n",
       "        (fc1): Linear(in_features=1280, out_features=5120, bias=True)\n",
       "        (fc2): Linear(in_features=5120, out_features=1280, bias=True)\n",
       "        (final_layer_norm): LayerNorm((1280,), eps=1e-05, elementwise_affine=True)\n",
       "      )\n",
       "      (2): TransformerLayer(\n",
       "        (self_attn): MultiheadAttention(\n",
       "          (k_proj): Linear(in_features=1280, out_features=1280, bias=True)\n",
       "          (v_proj): Linear(in_features=1280, out_features=1280, bias=True)\n",
       "          (q_proj): Linear(in_features=1280, out_features=1280, bias=True)\n",
       "          (out_proj): Linear(in_features=1280, out_features=1280, bias=True)\n",
       "        )\n",
       "        (self_attn_layer_norm): LayerNorm((1280,), eps=1e-05, elementwise_affine=True)\n",
       "        (fc1): Linear(in_features=1280, out_features=5120, bias=True)\n",
       "        (fc2): Linear(in_features=5120, out_features=1280, bias=True)\n",
       "        (final_layer_norm): LayerNorm((1280,), eps=1e-05, elementwise_affine=True)\n",
       "      )\n",
       "      (3): TransformerLayer(\n",
       "        (self_attn): MultiheadAttention(\n",
       "          (k_proj): Linear(in_features=1280, out_features=1280, bias=True)\n",
       "          (v_proj): Linear(in_features=1280, out_features=1280, bias=True)\n",
       "          (q_proj): Linear(in_features=1280, out_features=1280, bias=True)\n",
       "          (out_proj): Linear(in_features=1280, out_features=1280, bias=True)\n",
       "        )\n",
       "        (self_attn_layer_norm): LayerNorm((1280,), eps=1e-05, elementwise_affine=True)\n",
       "        (fc1): Linear(in_features=1280, out_features=5120, bias=True)\n",
       "        (fc2): Linear(in_features=5120, out_features=1280, bias=True)\n",
       "        (final_layer_norm): LayerNorm((1280,), eps=1e-05, elementwise_affine=True)\n",
       "      )\n",
       "      (4): TransformerLayer(\n",
       "        (self_attn): MultiheadAttention(\n",
       "          (k_proj): Linear(in_features=1280, out_features=1280, bias=True)\n",
       "          (v_proj): Linear(in_features=1280, out_features=1280, bias=True)\n",
       "          (q_proj): Linear(in_features=1280, out_features=1280, bias=True)\n",
       "          (out_proj): Linear(in_features=1280, out_features=1280, bias=True)\n",
       "        )\n",
       "        (self_attn_layer_norm): LayerNorm((1280,), eps=1e-05, elementwise_affine=True)\n",
       "        (fc1): Linear(in_features=1280, out_features=5120, bias=True)\n",
       "        (fc2): Linear(in_features=5120, out_features=1280, bias=True)\n",
       "        (final_layer_norm): LayerNorm((1280,), eps=1e-05, elementwise_affine=True)\n",
       "      )\n",
       "      (5): TransformerLayer(\n",
       "        (self_attn): MultiheadAttention(\n",
       "          (k_proj): Linear(in_features=1280, out_features=1280, bias=True)\n",
       "          (v_proj): Linear(in_features=1280, out_features=1280, bias=True)\n",
       "          (q_proj): Linear(in_features=1280, out_features=1280, bias=True)\n",
       "          (out_proj): Linear(in_features=1280, out_features=1280, bias=True)\n",
       "        )\n",
       "        (self_attn_layer_norm): LayerNorm((1280,), eps=1e-05, elementwise_affine=True)\n",
       "        (fc1): Linear(in_features=1280, out_features=5120, bias=True)\n",
       "        (fc2): Linear(in_features=5120, out_features=1280, bias=True)\n",
       "        (final_layer_norm): LayerNorm((1280,), eps=1e-05, elementwise_affine=True)\n",
       "      )\n",
       "      (6): TransformerLayer(\n",
       "        (self_attn): MultiheadAttention(\n",
       "          (k_proj): Linear(in_features=1280, out_features=1280, bias=True)\n",
       "          (v_proj): Linear(in_features=1280, out_features=1280, bias=True)\n",
       "          (q_proj): Linear(in_features=1280, out_features=1280, bias=True)\n",
       "          (out_proj): Linear(in_features=1280, out_features=1280, bias=True)\n",
       "        )\n",
       "        (self_attn_layer_norm): LayerNorm((1280,), eps=1e-05, elementwise_affine=True)\n",
       "        (fc1): Linear(in_features=1280, out_features=5120, bias=True)\n",
       "        (fc2): Linear(in_features=5120, out_features=1280, bias=True)\n",
       "        (final_layer_norm): LayerNorm((1280,), eps=1e-05, elementwise_affine=True)\n",
       "      )\n",
       "      (7): TransformerLayer(\n",
       "        (self_attn): MultiheadAttention(\n",
       "          (k_proj): Linear(in_features=1280, out_features=1280, bias=True)\n",
       "          (v_proj): Linear(in_features=1280, out_features=1280, bias=True)\n",
       "          (q_proj): Linear(in_features=1280, out_features=1280, bias=True)\n",
       "          (out_proj): Linear(in_features=1280, out_features=1280, bias=True)\n",
       "        )\n",
       "        (self_attn_layer_norm): LayerNorm((1280,), eps=1e-05, elementwise_affine=True)\n",
       "        (fc1): Linear(in_features=1280, out_features=5120, bias=True)\n",
       "        (fc2): Linear(in_features=5120, out_features=1280, bias=True)\n",
       "        (final_layer_norm): LayerNorm((1280,), eps=1e-05, elementwise_affine=True)\n",
       "      )\n",
       "      (8): TransformerLayer(\n",
       "        (self_attn): MultiheadAttention(\n",
       "          (k_proj): Linear(in_features=1280, out_features=1280, bias=True)\n",
       "          (v_proj): Linear(in_features=1280, out_features=1280, bias=True)\n",
       "          (q_proj): Linear(in_features=1280, out_features=1280, bias=True)\n",
       "          (out_proj): Linear(in_features=1280, out_features=1280, bias=True)\n",
       "        )\n",
       "        (self_attn_layer_norm): LayerNorm((1280,), eps=1e-05, elementwise_affine=True)\n",
       "        (fc1): Linear(in_features=1280, out_features=5120, bias=True)\n",
       "        (fc2): Linear(in_features=5120, out_features=1280, bias=True)\n",
       "        (final_layer_norm): LayerNorm((1280,), eps=1e-05, elementwise_affine=True)\n",
       "      )\n",
       "      (9): TransformerLayer(\n",
       "        (self_attn): MultiheadAttention(\n",
       "          (k_proj): Linear(in_features=1280, out_features=1280, bias=True)\n",
       "          (v_proj): Linear(in_features=1280, out_features=1280, bias=True)\n",
       "          (q_proj): Linear(in_features=1280, out_features=1280, bias=True)\n",
       "          (out_proj): Linear(in_features=1280, out_features=1280, bias=True)\n",
       "        )\n",
       "        (self_attn_layer_norm): LayerNorm((1280,), eps=1e-05, elementwise_affine=True)\n",
       "        (fc1): Linear(in_features=1280, out_features=5120, bias=True)\n",
       "        (fc2): Linear(in_features=5120, out_features=1280, bias=True)\n",
       "        (final_layer_norm): LayerNorm((1280,), eps=1e-05, elementwise_affine=True)\n",
       "      )\n",
       "      (10): TransformerLayer(\n",
       "        (self_attn): MultiheadAttention(\n",
       "          (k_proj): Linear(in_features=1280, out_features=1280, bias=True)\n",
       "          (v_proj): Linear(in_features=1280, out_features=1280, bias=True)\n",
       "          (q_proj): Linear(in_features=1280, out_features=1280, bias=True)\n",
       "          (out_proj): Linear(in_features=1280, out_features=1280, bias=True)\n",
       "        )\n",
       "        (self_attn_layer_norm): LayerNorm((1280,), eps=1e-05, elementwise_affine=True)\n",
       "        (fc1): Linear(in_features=1280, out_features=5120, bias=True)\n",
       "        (fc2): Linear(in_features=5120, out_features=1280, bias=True)\n",
       "        (final_layer_norm): LayerNorm((1280,), eps=1e-05, elementwise_affine=True)\n",
       "      )\n",
       "      (11): TransformerLayer(\n",
       "        (self_attn): MultiheadAttention(\n",
       "          (k_proj): Linear(in_features=1280, out_features=1280, bias=True)\n",
       "          (v_proj): Linear(in_features=1280, out_features=1280, bias=True)\n",
       "          (q_proj): Linear(in_features=1280, out_features=1280, bias=True)\n",
       "          (out_proj): Linear(in_features=1280, out_features=1280, bias=True)\n",
       "        )\n",
       "        (self_attn_layer_norm): LayerNorm((1280,), eps=1e-05, elementwise_affine=True)\n",
       "        (fc1): Linear(in_features=1280, out_features=5120, bias=True)\n",
       "        (fc2): Linear(in_features=5120, out_features=1280, bias=True)\n",
       "        (final_layer_norm): LayerNorm((1280,), eps=1e-05, elementwise_affine=True)\n",
       "      )\n",
       "      (12): TransformerLayer(\n",
       "        (self_attn): MultiheadAttention(\n",
       "          (k_proj): Linear(in_features=1280, out_features=1280, bias=True)\n",
       "          (v_proj): Linear(in_features=1280, out_features=1280, bias=True)\n",
       "          (q_proj): Linear(in_features=1280, out_features=1280, bias=True)\n",
       "          (out_proj): Linear(in_features=1280, out_features=1280, bias=True)\n",
       "        )\n",
       "        (self_attn_layer_norm): LayerNorm((1280,), eps=1e-05, elementwise_affine=True)\n",
       "        (fc1): Linear(in_features=1280, out_features=5120, bias=True)\n",
       "        (fc2): Linear(in_features=5120, out_features=1280, bias=True)\n",
       "        (final_layer_norm): LayerNorm((1280,), eps=1e-05, elementwise_affine=True)\n",
       "      )\n",
       "      (13): TransformerLayer(\n",
       "        (self_attn): MultiheadAttention(\n",
       "          (k_proj): Linear(in_features=1280, out_features=1280, bias=True)\n",
       "          (v_proj): Linear(in_features=1280, out_features=1280, bias=True)\n",
       "          (q_proj): Linear(in_features=1280, out_features=1280, bias=True)\n",
       "          (out_proj): Linear(in_features=1280, out_features=1280, bias=True)\n",
       "        )\n",
       "        (self_attn_layer_norm): LayerNorm((1280,), eps=1e-05, elementwise_affine=True)\n",
       "        (fc1): Linear(in_features=1280, out_features=5120, bias=True)\n",
       "        (fc2): Linear(in_features=5120, out_features=1280, bias=True)\n",
       "        (final_layer_norm): LayerNorm((1280,), eps=1e-05, elementwise_affine=True)\n",
       "      )\n",
       "      (14): TransformerLayer(\n",
       "        (self_attn): MultiheadAttention(\n",
       "          (k_proj): Linear(in_features=1280, out_features=1280, bias=True)\n",
       "          (v_proj): Linear(in_features=1280, out_features=1280, bias=True)\n",
       "          (q_proj): Linear(in_features=1280, out_features=1280, bias=True)\n",
       "          (out_proj): Linear(in_features=1280, out_features=1280, bias=True)\n",
       "        )\n",
       "        (self_attn_layer_norm): LayerNorm((1280,), eps=1e-05, elementwise_affine=True)\n",
       "        (fc1): Linear(in_features=1280, out_features=5120, bias=True)\n",
       "        (fc2): Linear(in_features=5120, out_features=1280, bias=True)\n",
       "        (final_layer_norm): LayerNorm((1280,), eps=1e-05, elementwise_affine=True)\n",
       "      )\n",
       "      (15): TransformerLayer(\n",
       "        (self_attn): MultiheadAttention(\n",
       "          (k_proj): Linear(in_features=1280, out_features=1280, bias=True)\n",
       "          (v_proj): Linear(in_features=1280, out_features=1280, bias=True)\n",
       "          (q_proj): Linear(in_features=1280, out_features=1280, bias=True)\n",
       "          (out_proj): Linear(in_features=1280, out_features=1280, bias=True)\n",
       "        )\n",
       "        (self_attn_layer_norm): LayerNorm((1280,), eps=1e-05, elementwise_affine=True)\n",
       "        (fc1): Linear(in_features=1280, out_features=5120, bias=True)\n",
       "        (fc2): Linear(in_features=5120, out_features=1280, bias=True)\n",
       "        (final_layer_norm): LayerNorm((1280,), eps=1e-05, elementwise_affine=True)\n",
       "      )\n",
       "      (16): TransformerLayer(\n",
       "        (self_attn): MultiheadAttention(\n",
       "          (k_proj): Linear(in_features=1280, out_features=1280, bias=True)\n",
       "          (v_proj): Linear(in_features=1280, out_features=1280, bias=True)\n",
       "          (q_proj): Linear(in_features=1280, out_features=1280, bias=True)\n",
       "          (out_proj): Linear(in_features=1280, out_features=1280, bias=True)\n",
       "        )\n",
       "        (self_attn_layer_norm): LayerNorm((1280,), eps=1e-05, elementwise_affine=True)\n",
       "        (fc1): Linear(in_features=1280, out_features=5120, bias=True)\n",
       "        (fc2): Linear(in_features=5120, out_features=1280, bias=True)\n",
       "        (final_layer_norm): LayerNorm((1280,), eps=1e-05, elementwise_affine=True)\n",
       "      )\n",
       "      (17): TransformerLayer(\n",
       "        (self_attn): MultiheadAttention(\n",
       "          (k_proj): Linear(in_features=1280, out_features=1280, bias=True)\n",
       "          (v_proj): Linear(in_features=1280, out_features=1280, bias=True)\n",
       "          (q_proj): Linear(in_features=1280, out_features=1280, bias=True)\n",
       "          (out_proj): Linear(in_features=1280, out_features=1280, bias=True)\n",
       "        )\n",
       "        (self_attn_layer_norm): LayerNorm((1280,), eps=1e-05, elementwise_affine=True)\n",
       "        (fc1): Linear(in_features=1280, out_features=5120, bias=True)\n",
       "        (fc2): Linear(in_features=5120, out_features=1280, bias=True)\n",
       "        (final_layer_norm): LayerNorm((1280,), eps=1e-05, elementwise_affine=True)\n",
       "      )\n",
       "      (18): TransformerLayer(\n",
       "        (self_attn): MultiheadAttention(\n",
       "          (k_proj): Linear(in_features=1280, out_features=1280, bias=True)\n",
       "          (v_proj): Linear(in_features=1280, out_features=1280, bias=True)\n",
       "          (q_proj): Linear(in_features=1280, out_features=1280, bias=True)\n",
       "          (out_proj): Linear(in_features=1280, out_features=1280, bias=True)\n",
       "        )\n",
       "        (self_attn_layer_norm): LayerNorm((1280,), eps=1e-05, elementwise_affine=True)\n",
       "        (fc1): Linear(in_features=1280, out_features=5120, bias=True)\n",
       "        (fc2): Linear(in_features=5120, out_features=1280, bias=True)\n",
       "        (final_layer_norm): LayerNorm((1280,), eps=1e-05, elementwise_affine=True)\n",
       "      )\n",
       "      (19): TransformerLayer(\n",
       "        (self_attn): MultiheadAttention(\n",
       "          (k_proj): Linear(in_features=1280, out_features=1280, bias=True)\n",
       "          (v_proj): Linear(in_features=1280, out_features=1280, bias=True)\n",
       "          (q_proj): Linear(in_features=1280, out_features=1280, bias=True)\n",
       "          (out_proj): Linear(in_features=1280, out_features=1280, bias=True)\n",
       "        )\n",
       "        (self_attn_layer_norm): LayerNorm((1280,), eps=1e-05, elementwise_affine=True)\n",
       "        (fc1): Linear(in_features=1280, out_features=5120, bias=True)\n",
       "        (fc2): Linear(in_features=5120, out_features=1280, bias=True)\n",
       "        (final_layer_norm): LayerNorm((1280,), eps=1e-05, elementwise_affine=True)\n",
       "      )\n",
       "      (20): TransformerLayer(\n",
       "        (self_attn): MultiheadAttention(\n",
       "          (k_proj): Linear(in_features=1280, out_features=1280, bias=True)\n",
       "          (v_proj): Linear(in_features=1280, out_features=1280, bias=True)\n",
       "          (q_proj): Linear(in_features=1280, out_features=1280, bias=True)\n",
       "          (out_proj): Linear(in_features=1280, out_features=1280, bias=True)\n",
       "        )\n",
       "        (self_attn_layer_norm): LayerNorm((1280,), eps=1e-05, elementwise_affine=True)\n",
       "        (fc1): Linear(in_features=1280, out_features=5120, bias=True)\n",
       "        (fc2): Linear(in_features=5120, out_features=1280, bias=True)\n",
       "        (final_layer_norm): LayerNorm((1280,), eps=1e-05, elementwise_affine=True)\n",
       "      )\n",
       "      (21): TransformerLayer(\n",
       "        (self_attn): MultiheadAttention(\n",
       "          (k_proj): Linear(in_features=1280, out_features=1280, bias=True)\n",
       "          (v_proj): Linear(in_features=1280, out_features=1280, bias=True)\n",
       "          (q_proj): Linear(in_features=1280, out_features=1280, bias=True)\n",
       "          (out_proj): Linear(in_features=1280, out_features=1280, bias=True)\n",
       "        )\n",
       "        (self_attn_layer_norm): LayerNorm((1280,), eps=1e-05, elementwise_affine=True)\n",
       "        (fc1): Linear(in_features=1280, out_features=5120, bias=True)\n",
       "        (fc2): Linear(in_features=5120, out_features=1280, bias=True)\n",
       "        (final_layer_norm): LayerNorm((1280,), eps=1e-05, elementwise_affine=True)\n",
       "      )\n",
       "      (22): TransformerLayer(\n",
       "        (self_attn): MultiheadAttention(\n",
       "          (k_proj): Linear(in_features=1280, out_features=1280, bias=True)\n",
       "          (v_proj): Linear(in_features=1280, out_features=1280, bias=True)\n",
       "          (q_proj): Linear(in_features=1280, out_features=1280, bias=True)\n",
       "          (out_proj): Linear(in_features=1280, out_features=1280, bias=True)\n",
       "        )\n",
       "        (self_attn_layer_norm): LayerNorm((1280,), eps=1e-05, elementwise_affine=True)\n",
       "        (fc1): Linear(in_features=1280, out_features=5120, bias=True)\n",
       "        (fc2): Linear(in_features=5120, out_features=1280, bias=True)\n",
       "        (final_layer_norm): LayerNorm((1280,), eps=1e-05, elementwise_affine=True)\n",
       "      )\n",
       "      (23): TransformerLayer(\n",
       "        (self_attn): MultiheadAttention(\n",
       "          (k_proj): Linear(in_features=1280, out_features=1280, bias=True)\n",
       "          (v_proj): Linear(in_features=1280, out_features=1280, bias=True)\n",
       "          (q_proj): Linear(in_features=1280, out_features=1280, bias=True)\n",
       "          (out_proj): Linear(in_features=1280, out_features=1280, bias=True)\n",
       "        )\n",
       "        (self_attn_layer_norm): LayerNorm((1280,), eps=1e-05, elementwise_affine=True)\n",
       "        (fc1): Linear(in_features=1280, out_features=5120, bias=True)\n",
       "        (fc2): Linear(in_features=5120, out_features=1280, bias=True)\n",
       "        (final_layer_norm): LayerNorm((1280,), eps=1e-05, elementwise_affine=True)\n",
       "      )\n",
       "      (24): TransformerLayer(\n",
       "        (self_attn): MultiheadAttention(\n",
       "          (k_proj): Linear(in_features=1280, out_features=1280, bias=True)\n",
       "          (v_proj): Linear(in_features=1280, out_features=1280, bias=True)\n",
       "          (q_proj): Linear(in_features=1280, out_features=1280, bias=True)\n",
       "          (out_proj): Linear(in_features=1280, out_features=1280, bias=True)\n",
       "        )\n",
       "        (self_attn_layer_norm): LayerNorm((1280,), eps=1e-05, elementwise_affine=True)\n",
       "        (fc1): Linear(in_features=1280, out_features=5120, bias=True)\n",
       "        (fc2): Linear(in_features=5120, out_features=1280, bias=True)\n",
       "        (final_layer_norm): LayerNorm((1280,), eps=1e-05, elementwise_affine=True)\n",
       "      )\n",
       "      (25): TransformerLayer(\n",
       "        (self_attn): MultiheadAttention(\n",
       "          (k_proj): Linear(in_features=1280, out_features=1280, bias=True)\n",
       "          (v_proj): Linear(in_features=1280, out_features=1280, bias=True)\n",
       "          (q_proj): Linear(in_features=1280, out_features=1280, bias=True)\n",
       "          (out_proj): Linear(in_features=1280, out_features=1280, bias=True)\n",
       "        )\n",
       "        (self_attn_layer_norm): LayerNorm((1280,), eps=1e-05, elementwise_affine=True)\n",
       "        (fc1): Linear(in_features=1280, out_features=5120, bias=True)\n",
       "        (fc2): Linear(in_features=5120, out_features=1280, bias=True)\n",
       "        (final_layer_norm): LayerNorm((1280,), eps=1e-05, elementwise_affine=True)\n",
       "      )\n",
       "      (26): TransformerLayer(\n",
       "        (self_attn): MultiheadAttention(\n",
       "          (k_proj): Linear(in_features=1280, out_features=1280, bias=True)\n",
       "          (v_proj): Linear(in_features=1280, out_features=1280, bias=True)\n",
       "          (q_proj): Linear(in_features=1280, out_features=1280, bias=True)\n",
       "          (out_proj): Linear(in_features=1280, out_features=1280, bias=True)\n",
       "        )\n",
       "        (self_attn_layer_norm): LayerNorm((1280,), eps=1e-05, elementwise_affine=True)\n",
       "        (fc1): Linear(in_features=1280, out_features=5120, bias=True)\n",
       "        (fc2): Linear(in_features=5120, out_features=1280, bias=True)\n",
       "        (final_layer_norm): LayerNorm((1280,), eps=1e-05, elementwise_affine=True)\n",
       "      )\n",
       "      (27): TransformerLayer(\n",
       "        (self_attn): MultiheadAttention(\n",
       "          (k_proj): Linear(in_features=1280, out_features=1280, bias=True)\n",
       "          (v_proj): Linear(in_features=1280, out_features=1280, bias=True)\n",
       "          (q_proj): Linear(in_features=1280, out_features=1280, bias=True)\n",
       "          (out_proj): Linear(in_features=1280, out_features=1280, bias=True)\n",
       "        )\n",
       "        (self_attn_layer_norm): LayerNorm((1280,), eps=1e-05, elementwise_affine=True)\n",
       "        (fc1): Linear(in_features=1280, out_features=5120, bias=True)\n",
       "        (fc2): Linear(in_features=5120, out_features=1280, bias=True)\n",
       "        (final_layer_norm): LayerNorm((1280,), eps=1e-05, elementwise_affine=True)\n",
       "      )\n",
       "      (28): TransformerLayer(\n",
       "        (self_attn): MultiheadAttention(\n",
       "          (k_proj): Linear(in_features=1280, out_features=1280, bias=True)\n",
       "          (v_proj): Linear(in_features=1280, out_features=1280, bias=True)\n",
       "          (q_proj): Linear(in_features=1280, out_features=1280, bias=True)\n",
       "          (out_proj): Linear(in_features=1280, out_features=1280, bias=True)\n",
       "        )\n",
       "        (self_attn_layer_norm): LayerNorm((1280,), eps=1e-05, elementwise_affine=True)\n",
       "        (fc1): Linear(in_features=1280, out_features=5120, bias=True)\n",
       "        (fc2): Linear(in_features=5120, out_features=1280, bias=True)\n",
       "        (final_layer_norm): LayerNorm((1280,), eps=1e-05, elementwise_affine=True)\n",
       "      )\n",
       "      (29): TransformerLayer(\n",
       "        (self_attn): MultiheadAttention(\n",
       "          (k_proj): Linear(in_features=1280, out_features=1280, bias=True)\n",
       "          (v_proj): Linear(in_features=1280, out_features=1280, bias=True)\n",
       "          (q_proj): Linear(in_features=1280, out_features=1280, bias=True)\n",
       "          (out_proj): Linear(in_features=1280, out_features=1280, bias=True)\n",
       "        )\n",
       "        (self_attn_layer_norm): LayerNorm((1280,), eps=1e-05, elementwise_affine=True)\n",
       "        (fc1): Linear(in_features=1280, out_features=5120, bias=True)\n",
       "        (fc2): Linear(in_features=5120, out_features=1280, bias=True)\n",
       "        (final_layer_norm): LayerNorm((1280,), eps=1e-05, elementwise_affine=True)\n",
       "      )\n",
       "      (30): TransformerLayer(\n",
       "        (self_attn): MultiheadAttention(\n",
       "          (k_proj): Linear(in_features=1280, out_features=1280, bias=True)\n",
       "          (v_proj): Linear(in_features=1280, out_features=1280, bias=True)\n",
       "          (q_proj): Linear(in_features=1280, out_features=1280, bias=True)\n",
       "          (out_proj): Linear(in_features=1280, out_features=1280, bias=True)\n",
       "        )\n",
       "        (self_attn_layer_norm): LayerNorm((1280,), eps=1e-05, elementwise_affine=True)\n",
       "        (fc1): Linear(in_features=1280, out_features=5120, bias=True)\n",
       "        (fc2): Linear(in_features=5120, out_features=1280, bias=True)\n",
       "        (final_layer_norm): LayerNorm((1280,), eps=1e-05, elementwise_affine=True)\n",
       "      )\n",
       "      (31): TransformerLayer(\n",
       "        (self_attn): MultiheadAttention(\n",
       "          (k_proj): Linear(in_features=1280, out_features=1280, bias=True)\n",
       "          (v_proj): Linear(in_features=1280, out_features=1280, bias=True)\n",
       "          (q_proj): Linear(in_features=1280, out_features=1280, bias=True)\n",
       "          (out_proj): Linear(in_features=1280, out_features=1280, bias=True)\n",
       "        )\n",
       "        (self_attn_layer_norm): LayerNorm((1280,), eps=1e-05, elementwise_affine=True)\n",
       "        (fc1): Linear(in_features=1280, out_features=5120, bias=True)\n",
       "        (fc2): Linear(in_features=5120, out_features=1280, bias=True)\n",
       "        (final_layer_norm): LayerNorm((1280,), eps=1e-05, elementwise_affine=True)\n",
       "      )\n",
       "      (32): TransformerLayer(\n",
       "        (self_attn): MultiheadAttention(\n",
       "          (k_proj): Linear(in_features=1280, out_features=1280, bias=True)\n",
       "          (v_proj): Linear(in_features=1280, out_features=1280, bias=True)\n",
       "          (q_proj): Linear(in_features=1280, out_features=1280, bias=True)\n",
       "          (out_proj): Linear(in_features=1280, out_features=1280, bias=True)\n",
       "        )\n",
       "        (self_attn_layer_norm): LayerNorm((1280,), eps=1e-05, elementwise_affine=True)\n",
       "        (fc1): Linear(in_features=1280, out_features=5120, bias=True)\n",
       "        (fc2): Linear(in_features=5120, out_features=1280, bias=True)\n",
       "        (final_layer_norm): LayerNorm((1280,), eps=1e-05, elementwise_affine=True)\n",
       "      )\n",
       "    )\n",
       "    (contact_head): ContactPredictionHead(\n",
       "      (regression): Linear(in_features=660, out_features=1, bias=True)\n",
       "      (activation): Sigmoid()\n",
       "    )\n",
       "    (embed_positions): LearnedPositionalEmbedding(1026, 1280, padding_idx=1)\n",
       "    (emb_layer_norm_before): LayerNorm((1280,), eps=1e-05, elementwise_affine=True)\n",
       "    (emb_layer_norm_after): LayerNorm((1280,), eps=1e-05, elementwise_affine=True)\n",
       "    (lm_head): RobertaLMHead(\n",
       "      (dense): Linear(in_features=1280, out_features=1280, bias=True)\n",
       "      (layer_norm): LayerNorm((1280,), eps=1e-05, elementwise_affine=True)\n",
       "    )\n",
       "  )\n",
       "  (pep_lstm1): LSTM(1280, 512, batch_first=True)\n",
       "  (pep_drop1): Dropout(p=0.2, inplace=False)\n",
       "  (pep_lstm2): LSTM(512, 256, batch_first=True)\n",
       "  (pep_drop2): Dropout(p=0.2, inplace=False)\n",
       "  (pep_lstm3): LSTM(256, 128, batch_first=True)\n",
       "  (pep_drop3): Dropout(p=0.2, inplace=False)\n",
       "  (ts_lstm1): LSTM(1280, 512, batch_first=True)\n",
       "  (ts_drop1): Dropout(p=0.2, inplace=False)\n",
       "  (ts_lstm2): LSTM(512, 128, batch_first=True)\n",
       "  (ts_drop2): Dropout(p=0.2, inplace=False)\n",
       "  (ts_lstm3): LSTM(128, 64, batch_first=True)\n",
       "  (ts_drop3): Dropout(p=0.2, inplace=False)\n",
       "  (fc1): Linear(in_features=384, out_features=256, bias=True)\n",
       "  (fc_drop1): Dropout(p=0.2, inplace=False)\n",
       "  (fc2): Linear(in_features=256, out_features=128, bias=True)\n",
       "  (fc_drop2): Dropout(p=0.2, inplace=False)\n",
       "  (fc3): Linear(in_features=128, out_features=1, bias=True)\n",
       ")"
      ]
     },
     "execution_count": 13,
     "metadata": {},
     "output_type": "execute_result"
    }
   ],
   "source": [
    "model.eval()"
   ]
  },
  {
   "cell_type": "code",
   "execution_count": 14,
   "metadata": {
    "ExecuteTime": {
     "end_time": "2021-12-06T03:07:12.685585Z",
     "start_time": "2021-12-06T03:07:12.661289Z"
    }
   },
   "outputs": [
    {
     "name": "stdout",
     "output_type": "stream",
     "text": [
      "+-------------------------------+------------+\n",
      "|            Modules            | Parameters |\n",
      "+-------------------------------+------------+\n",
      "|        esm.lm_head.bias       |     33     |\n",
      "|    esm.lm_head.dense.weight   |  1638400   |\n",
      "|     esm.lm_head.dense.bias    |    1280    |\n",
      "| esm.lm_head.layer_norm.weight |    1280    |\n",
      "|  esm.lm_head.layer_norm.bias  |    1280    |\n",
      "|     pep_lstm1.weight_ih_l0    |  2621440   |\n",
      "|     pep_lstm1.weight_hh_l0    |  1048576   |\n",
      "|      pep_lstm1.bias_ih_l0     |    2048    |\n",
      "|      pep_lstm1.bias_hh_l0     |    2048    |\n",
      "|     pep_lstm2.weight_ih_l0    |   524288   |\n",
      "|     pep_lstm2.weight_hh_l0    |   262144   |\n",
      "|      pep_lstm2.bias_ih_l0     |    1024    |\n",
      "|      pep_lstm2.bias_hh_l0     |    1024    |\n",
      "|     pep_lstm3.weight_ih_l0    |   131072   |\n",
      "|     pep_lstm3.weight_hh_l0    |   65536    |\n",
      "|      pep_lstm3.bias_ih_l0     |    512     |\n",
      "|      pep_lstm3.bias_hh_l0     |    512     |\n",
      "|     ts_lstm1.weight_ih_l0     |  2621440   |\n",
      "|     ts_lstm1.weight_hh_l0     |  1048576   |\n",
      "|      ts_lstm1.bias_ih_l0      |    2048    |\n",
      "|      ts_lstm1.bias_hh_l0      |    2048    |\n",
      "|     ts_lstm2.weight_ih_l0     |   262144   |\n",
      "|     ts_lstm2.weight_hh_l0     |   65536    |\n",
      "|      ts_lstm2.bias_ih_l0      |    512     |\n",
      "|      ts_lstm2.bias_hh_l0      |    512     |\n",
      "|     ts_lstm3.weight_ih_l0     |   32768    |\n",
      "|     ts_lstm3.weight_hh_l0     |   16384    |\n",
      "|      ts_lstm3.bias_ih_l0      |    256     |\n",
      "|      ts_lstm3.bias_hh_l0      |    256     |\n",
      "|           fc1.weight          |   98304    |\n",
      "|            fc1.bias           |    256     |\n",
      "|           fc2.weight          |   32768    |\n",
      "|            fc2.bias           |    128     |\n",
      "|           fc3.weight          |    128     |\n",
      "|            fc3.bias           |     1      |\n",
      "+-------------------------------+------------+\n",
      "Total Trainable Params: 10486562\n"
     ]
    },
    {
     "data": {
      "text/plain": [
       "10486562"
      ]
     },
     "execution_count": 14,
     "metadata": {},
     "output_type": "execute_result"
    }
   ],
   "source": [
    "from prettytable import PrettyTable\n",
    "\n",
    "def count_parameters(model):\n",
    "    table = PrettyTable([\"Modules\", \"Parameters\"])\n",
    "    total_params = 0\n",
    "    for name, parameter in model.named_parameters():\n",
    "        if not parameter.requires_grad: continue\n",
    "        param = parameter.numel()\n",
    "        table.add_row([name, param])\n",
    "        total_params+=param\n",
    "    print(table)\n",
    "    print(f\"Total Trainable Params: {total_params}\")\n",
    "    return total_params\n",
    "    \n",
    "count_parameters(model)"
   ]
  },
  {
   "cell_type": "code",
   "execution_count": 15,
   "metadata": {
    "ExecuteTime": {
     "end_time": "2021-12-06T03:07:12.703595Z",
     "start_time": "2021-12-06T03:07:12.686575Z"
    }
   },
   "outputs": [],
   "source": [
    "# Prepare optimizer and schedule (linear warmup and decay)\n",
    "no_decay = ['bias', 'LayerNorm.weight']\n",
    "optimizer_grouped_parameters = [\n",
    "    {'params': [p for n, p in model.named_parameters() if not any(nd in n for nd in no_decay)], 'weight_decay': 0.01},\n",
    "    {'params': [p for n, p in model.named_parameters() if any(nd in n for nd in no_decay)], 'weight_decay': 0.0}\n",
    "]\n",
    "\n",
    "# optimizer = AdamW(optimizer_grouped_parameters, lr=learning_rate)\n",
    "optimizer = torch.optim.Adam(model.parameters(), lr=1e-3)\n",
    "loss_fn = nn.BCELoss()\n",
    "# loss_fn = F.binary_cross_entropy()\n",
    "\n",
    "t_total = len(train_dataloader) * num_epochs\n",
    "# warmup_step = int(t_total * warmup_ratio)\n",
    "\n",
    "# scheduler = get_linear_schedule_with_warmup(optimizer, warmup_steps=warmup_step, t_total=t_total)\n",
    "\n",
    "def calc_accuracy(X,Y):\n",
    "    train_acc = ((X>0.5)==Y).sum().data.cpu().numpy() / len(Y)\n",
    "    return train_acc"
   ]
  },
  {
   "cell_type": "code",
   "execution_count": 16,
   "metadata": {
    "ExecuteTime": {
     "end_time": "2021-12-10T07:02:37.744766Z",
     "start_time": "2021-12-06T03:07:12.705081Z"
    },
    "scrolled": true
   },
   "outputs": [
    {
     "name": "stdout",
     "output_type": "stream",
     "text": [
      "epoch 1 batch id 1 loss 0.6928390264511108 train acc 0.5078125 time 17.11\n",
      "epoch 1 batch id 201 loss 0.49028047919273376 train acc 0.7259600435323383 time 2979.81\n",
      "epoch 1 batch id 401 loss 0.493201345205307 train acc 0.7393722724438903 time 5946.12\n",
      "epoch 1 batch id 601 loss 0.4335503578186035 train acc 0.753028806156406 time 8916.09\n",
      "epoch 1 batch id 801 loss 0.47761186957359314 train acc 0.76359140917603 time 11883.25\n",
      "epoch 1 batch id 1001 loss 0.44172394275665283 train acc 0.7701946491008991 time 14837.89\n",
      "epoch 1 batch id 1201 loss 0.4154757857322693 train acc 0.7765956754787677 time 17831.74\n",
      "epoch 1 batch id 1401 loss 0.4932558238506317 train acc 0.7818661893290507 time 20926.19\n",
      "epoch 1 batch id 1601 loss 0.44332221150398254 train acc 0.7860297275140538 time 24021.96\n",
      "epoch 1 batch id 1801 loss 0.43403589725494385 train acc 0.7894290498334259 time 27117.55\n",
      "epoch 1 batch id 2001 loss 0.40549710392951965 train acc 0.7920336706646677 time 30215.09\n",
      "epoch 1 train acc 0.7936641928134248 time 32105.18\n",
      "best_acc: 435.30203125\n",
      "epoch 1 test acc 0.8197778366290019\n",
      "epoch 2 batch id 1 loss 0.38555264472961426 train acc 0.8359375 time 18.53\n",
      "epoch 2 batch id 201 loss 0.386933833360672 train acc 0.8231887437810945 time 3125.01\n",
      "epoch 2 batch id 401 loss 0.37615466117858887 train acc 0.8220172225685786 time 6229.93\n",
      "epoch 2 batch id 601 loss 0.41092216968536377 train acc 0.8224898606489185 time 9335.72\n",
      "epoch 2 batch id 801 loss 0.4369138181209564 train acc 0.8228483926342073 time 12440.84\n",
      "epoch 2 batch id 1001 loss 0.4252755045890808 train acc 0.8222675761738262 time 15545.86\n",
      "epoch 2 batch id 1201 loss 0.40266674757003784 train acc 0.8224103611573689 time 18648.98\n",
      "epoch 2 batch id 1401 loss 0.48561811447143555 train acc 0.8231285688793719 time 21751.36\n",
      "epoch 2 batch id 1601 loss 0.40772122144699097 train acc 0.8237063749219238 time 24854.65\n",
      "epoch 2 batch id 1801 loss 0.3932834565639496 train acc 0.8241319926429761 time 27957.22\n",
      "epoch 2 batch id 2001 loss 0.39831966161727905 train acc 0.824302692403798 time 31060.47\n",
      "epoch 2 train acc 0.8245634500269035 time 32952.13\n",
      "best_acc: 438.156875\n",
      "epoch 2 test acc 0.8251541902071563\n",
      "epoch 3 batch id 1 loss 0.3655019700527191 train acc 0.83984375 time 18.63\n",
      "epoch 3 batch id 201 loss 0.3812653720378876 train acc 0.8309235074626866 time 3027.2\n",
      "epoch 3 batch id 401 loss 0.3699676990509033 train acc 0.8296348971321695 time 5917.5\n",
      "epoch 3 batch id 601 loss 0.39620882272720337 train acc 0.8301918677204659 time 8782.57\n",
      "epoch 3 batch id 801 loss 0.4289989471435547 train acc 0.8304658239700374 time 11647.35\n",
      "epoch 3 batch id 1001 loss 0.41636765003204346 train acc 0.8297288648851149 time 14512.09\n",
      "epoch 3 batch id 1201 loss 0.38826698064804077 train acc 0.8297414914654455 time 17376.38\n",
      "epoch 3 batch id 1401 loss 0.4644293785095215 train acc 0.8302468103140613 time 20240.7\n",
      "epoch 3 batch id 1601 loss 0.4006310701370239 train acc 0.8302525765146783 time 23103.91\n",
      "epoch 3 batch id 1801 loss 0.37942102551460266 train acc 0.8306669905607995 time 25967.13\n",
      "epoch 3 batch id 2001 loss 0.39035165309906006 train acc 0.8307408795602199 time 28827.27\n",
      "epoch 3 train acc 0.8309900562449556 time 30575.21\n",
      "best_acc: 439.8571875\n",
      "epoch 3 test acc 0.8283562853107345\n",
      "epoch 4 batch id 1 loss 0.34747517108917236 train acc 0.83984375 time 17.38\n",
      "epoch 4 batch id 201 loss 0.3627292215824127 train acc 0.8370258084577115 time 2882.02\n",
      "epoch 4 batch id 401 loss 0.367355614900589 train acc 0.8355381078553616 time 5744.74\n",
      "epoch 4 batch id 601 loss 0.38369736075401306 train acc 0.8358075083194676 time 8607.1\n",
      "epoch 4 batch id 801 loss 0.4008139669895172 train acc 0.8360350343320849 time 11468.52\n",
      "epoch 4 batch id 1001 loss 0.37855473160743713 train acc 0.8353365384615384 time 14330.82\n",
      "epoch 4 batch id 1201 loss 0.37471169233322144 train acc 0.8353097679017485 time 17192.65\n",
      "epoch 4 batch id 1401 loss 0.4549267888069153 train acc 0.8356280112419701 time 20054.47\n",
      "epoch 4 batch id 1601 loss 0.38560807704925537 train acc 0.8357301100874454 time 22916.39\n",
      "epoch 4 batch id 1801 loss 0.36836689710617065 train acc 0.8361218593836758 time 25779.38\n",
      "epoch 4 batch id 2001 loss 0.3644201159477234 train acc 0.8361170977011494 time 28639.7\n",
      "epoch 4 train acc 0.8363179311272532 time 30388.06\n",
      "best_acc: 441.7478125\n",
      "epoch 4 test acc 0.8319167843691149\n",
      "epoch 5 batch id 1 loss 0.3409677743911743 train acc 0.84765625 time 17.38\n",
      "epoch 5 batch id 201 loss 0.34817397594451904 train acc 0.841923196517413 time 2878.93\n",
      "epoch 5 batch id 401 loss 0.34815478324890137 train acc 0.8409932200748129 time 5740.22\n",
      "epoch 5 batch id 601 loss 0.38455402851104736 train acc 0.8410851705490848 time 8600.78\n",
      "epoch 5 batch id 801 loss 0.3986603021621704 train acc 0.841438436329588 time 11462.13\n",
      "epoch 5 batch id 1001 loss 0.3821146488189697 train acc 0.8407568993506493 time 14323.04\n",
      "epoch 5 batch id 1201 loss 0.3652575612068176 train acc 0.8407154194421316 time 17184.19\n",
      "epoch 5 batch id 1401 loss 0.43835556507110596 train acc 0.8410510349750179 time 20043.08\n",
      "epoch 5 batch id 1601 loss 0.3756466805934906 train acc 0.8411076085259213 time 22902.17\n",
      "epoch 5 batch id 1801 loss 0.34565719962120056 train acc 0.8413923688228762 time 25760.93\n",
      "epoch 5 batch id 2001 loss 0.3472314476966858 train acc 0.8414035169915043 time 28618.24\n",
      "epoch 5 train acc 0.8416657733891578 time 30364.52\n",
      "epoch 5 test acc 0.8307830155367232\n",
      "epoch 6 batch id 1 loss 0.33950531482696533 train acc 0.84375 time 17.74\n",
      "epoch 6 batch id 201 loss 0.3482131361961365 train acc 0.8466845460199005 time 2864.83\n",
      "epoch 6 batch id 401 loss 0.32357341051101685 train acc 0.8450455891521197 time 5713.18\n",
      "epoch 6 batch id 601 loss 0.3451835513114929 train acc 0.8452579034941764 time 8563.31\n",
      "epoch 6 batch id 801 loss 0.4093638062477112 train acc 0.8457494538077404 time 11412.75\n",
      "epoch 6 batch id 1001 loss 0.36495324969291687 train acc 0.8451977709790209 time 14263.49\n",
      "epoch 6 batch id 1201 loss 0.3543195128440857 train acc 0.8452786740216486 time 17122.64\n",
      "epoch 6 batch id 1401 loss 0.4282822012901306 train acc 0.8456459671663098 time 19984.02\n",
      "epoch 6 batch id 1601 loss 0.34730207920074463 train acc 0.845887336039975 time 22846.28\n",
      "epoch 6 batch id 1801 loss 0.33223485946655273 train acc 0.8462225846751804 time 25708.95\n",
      "epoch 6 batch id 2001 loss 0.34971070289611816 train acc 0.8464771520489756 time 28570.59\n",
      "epoch 6 train acc 0.8466886202750875 time 30320.05\n",
      "epoch 6 test acc 0.8297919609227873\n",
      "epoch 7 batch id 1 loss 0.32710981369018555 train acc 0.828125 time 17.43\n",
      "epoch 7 batch id 201 loss 0.31198441982269287 train acc 0.8507268345771144 time 2877.35\n",
      "epoch 7 batch id 401 loss 0.3157990574836731 train acc 0.8500233790523691 time 5737.28\n",
      "epoch 7 batch id 601 loss 0.34034860134124756 train acc 0.8505420653078203 time 8595.82\n",
      "epoch 7 batch id 801 loss 0.40327486395835876 train acc 0.851343047752809 time 11290.56\n",
      "epoch 7 batch id 1001 loss 0.3581429421901703 train acc 0.8506805694305695 time 14158.67\n",
      "epoch 7 batch id 1201 loss 0.3349698781967163 train acc 0.8510225853455454 time 16997.63\n",
      "epoch 7 batch id 1401 loss 0.4054197371006012 train acc 0.851423090649536 time 19835.38\n",
      "epoch 7 batch id 1601 loss 0.33913254737854004 train acc 0.8515307815427857 time 22705.89\n",
      "epoch 7 batch id 1801 loss 0.32929229736328125 train acc 0.8517815623264853 time 25546.06\n",
      "epoch 7 batch id 2001 loss 0.3362106680870056 train acc 0.8518807002748626 time 28390.17\n",
      "epoch 7 train acc 0.8521102892958031 time 30128.0\n",
      "epoch 7 test acc 0.8272119232580039\n",
      "epoch 8 batch id 1 loss 0.3191072344779968 train acc 0.85546875 time 17.32\n",
      "epoch 8 batch id 201 loss 0.297004371881485 train acc 0.8566736629353234 time 2864.33\n",
      "epoch 8 batch id 401 loss 0.30941420793533325 train acc 0.8561798628428927 time 5714.13\n",
      "epoch 8 batch id 601 loss 0.32685351371765137 train acc 0.8560992096505824 time 8549.18\n",
      "epoch 8 batch id 801 loss 0.3881266117095947 train acc 0.856463600187266 time 11380.24\n",
      "epoch 8 batch id 1001 loss 0.35379403829574585 train acc 0.8560267857142857 time 14211.44\n",
      "epoch 8 batch id 1201 loss 0.327523410320282 train acc 0.8560737146128227 time 17041.13\n",
      "epoch 8 batch id 1401 loss 0.40382203459739685 train acc 0.8567234341541756 time 19870.89\n",
      "epoch 8 batch id 1601 loss 0.3226124048233032 train acc 0.8567155293566521 time 22700.12\n"
     ]
    },
    {
     "name": "stdout",
     "output_type": "stream",
     "text": [
      "epoch 8 batch id 1801 loss 0.3108729124069214 train acc 0.8571865456690727 time 25346.05\n",
      "epoch 8 batch id 2001 loss 0.3131878077983856 train acc 0.8571417416291854 time 27543.68\n",
      "epoch 8 train acc 0.8575264410142588 time 28885.71\n",
      "epoch 8 test acc 0.826023422787194\n",
      "epoch 9 batch id 1 loss 0.2986278831958771 train acc 0.8671875 time 13.98\n",
      "epoch 9 batch id 201 loss 0.29229071736335754 train acc 0.8611823694029851 time 2210.9\n",
      "epoch 9 batch id 401 loss 0.3056081235408783 train acc 0.8602906795511222 time 4407.32\n",
      "epoch 9 batch id 601 loss 0.3218837380409241 train acc 0.8606619176372712 time 6603.61\n",
      "epoch 9 batch id 801 loss 0.39903324842453003 train acc 0.8620962078651685 time 8799.59\n",
      "epoch 9 batch id 1001 loss 0.32957977056503296 train acc 0.8614042207792207 time 10996.21\n",
      "epoch 9 batch id 1201 loss 0.31590208411216736 train acc 0.8616875260199833 time 13193.14\n",
      "epoch 9 batch id 1401 loss 0.35987457633018494 train acc 0.8620990587080657 time 15390.43\n",
      "epoch 9 batch id 1601 loss 0.3068535029888153 train acc 0.8618295206121174 time 17587.98\n",
      "epoch 9 batch id 1801 loss 0.30053699016571045 train acc 0.8621143635480288 time 19782.78\n",
      "epoch 9 batch id 2001 loss 0.2904505133628845 train acc 0.8621958551974013 time 21981.32\n",
      "epoch 9 train acc 0.8624754611413775 time 23323.85\n",
      "epoch 9 test acc 0.8277824858757062\n",
      "epoch 10 batch id 1 loss 0.30908942222595215 train acc 0.87109375 time 13.93\n",
      "epoch 10 batch id 201 loss 0.28310757875442505 train acc 0.8680231654228856 time 2211.87\n",
      "epoch 10 batch id 401 loss 0.27313145995140076 train acc 0.8660282886533666 time 4409.64\n",
      "epoch 10 batch id 601 loss 0.30821749567985535 train acc 0.8658160877703827 time 6607.09\n",
      "epoch 10 batch id 801 loss 0.36597082018852234 train acc 0.86667056803995 time 8803.95\n",
      "epoch 10 batch id 1001 loss 0.3465448021888733 train acc 0.866176791958042 time 11001.41\n",
      "epoch 10 batch id 1201 loss 0.3111479878425598 train acc 0.8661694681515404 time 13198.68\n",
      "epoch 10 batch id 1401 loss 0.33229780197143555 train acc 0.8668947403640257 time 15396.3\n",
      "epoch 10 batch id 1601 loss 0.3003790080547333 train acc 0.8669337523422861 time 17593.3\n",
      "epoch 10 batch id 1801 loss 0.2880244851112366 train acc 0.8672135272071072 time 19787.91\n",
      "epoch 10 batch id 2001 loss 0.31199994683265686 train acc 0.8670742753623188 time 21988.08\n",
      "epoch 10 train acc 0.867435778601695 time 23331.81\n",
      "epoch 10 test acc 0.8272413488700565\n"
     ]
    }
   ],
   "source": [
    "best_acc = 0\n",
    "for e in range(num_epochs):\n",
    "    t0=time.time()\n",
    "    train_acc = 0.0\n",
    "    test_acc = 0.0\n",
    "    \n",
    "    model.train()\n",
    "    for batch_id, (pep_token_ids, n_token_ids, c_token_ids, m1_token_ids, m2_token_ids, label) in enumerate(train_dataloader):\n",
    "#         print(batch_id, round(time.time()-t0,2))\n",
    "        \n",
    "        pep_token_ids = pep_token_ids.long().to(device)\n",
    "        n_token_ids = n_token_ids.long().to(device)\n",
    "        c_token_ids = c_token_ids.long().to(device)\n",
    "        m1_token_ids = m1_token_ids.long().to(device)\n",
    "        m2_token_ids = m2_token_ids.long().to(device)\n",
    "        label = torch.reshape(label.float(), (-1, 1)).to(device)\n",
    "        \n",
    "        pred = model(pep_token_ids, n_token_ids, c_token_ids, m1_token_ids, m2_token_ids)\n",
    "        loss = F.binary_cross_entropy(pred, label)\n",
    "#         print(loss)\n",
    "        optimizer.zero_grad()\n",
    "        loss.backward()\n",
    "        optimizer.step()\n",
    "        \n",
    "        train_acc += calc_accuracy(pred, label)\n",
    "        if batch_id % log_interval == 0:\n",
    "            print(\"epoch {} batch id {} loss {} train acc {} time {}\".format(e+1, batch_id+1, loss.data.cpu().numpy(), train_acc / (batch_id+1), round(time.time()-t0, 2)))\n",
    "        \n",
    "    print(\"epoch {} train acc {} time {}\".format(e+1, train_acc / (batch_id+1), round(time.time()-t0,2)))\n",
    "    \n",
    "    model.eval()\n",
    "    for batch_id, (pep_token_ids, n_token_ids, c_token_ids, m1_token_ids, m2_token_ids, label) in enumerate(valid_dataloader):\n",
    "        pep_token_ids = pep_token_ids.long().to(device)\n",
    "        n_token_ids = n_token_ids.long().to(device)\n",
    "        c_token_ids = c_token_ids.long().to(device)\n",
    "        m1_token_ids = m1_token_ids.long().to(device)\n",
    "        m2_token_ids = m2_token_ids.long().to(device)\n",
    "        label = label.long().to(device)\n",
    "        label = torch.reshape(label, (-1, 1))\n",
    "        pred = model(pep_token_ids, n_token_ids, c_token_ids, m1_token_ids, m2_token_ids)\n",
    "        \n",
    "        test_acc += calc_accuracy(pred, label)\n",
    "    if (test_acc / (batch_id+1)) > best_acc:\n",
    "        best_acc=test_acc\n",
    "        torch.save({\"best_acc\":best_acc / (batch_id+1),\"model\":model.state_dict()},f'./highParam/high.pl')\n",
    "        print(f\"best_acc: {best_acc}\")\n",
    "    print(\"epoch {} test acc {}\".format(e+1, test_acc / (batch_id+1)))"
   ]
  },
  {
   "cell_type": "code",
   "execution_count": 21,
   "metadata": {
    "ExecuteTime": {
     "end_time": "2021-12-12T17:58:59.356874Z",
     "start_time": "2021-12-12T17:58:59.353950Z"
    }
   },
   "outputs": [],
   "source": [
    "torch.cuda.empty_cache()"
   ]
  },
  {
   "cell_type": "code",
   "execution_count": 22,
   "metadata": {
    "ExecuteTime": {
     "end_time": "2021-12-12T18:59:52.312542Z",
     "start_time": "2021-12-12T17:59:35.562135Z"
    }
   },
   "outputs": [],
   "source": [
    "pred = []\n",
    "model.eval()\n",
    "with torch.no_grad():\n",
    "    for batch_id, (pep_token_ids, n_token_ids, c_token_ids, m1_token_ids, m2_token_ids, label) in enumerate(test_dataloader):\n",
    "        pep_token_ids = pep_token_ids.long().to(device)\n",
    "        n_token_ids = n_token_ids.long().to(device)\n",
    "        c_token_ids = c_token_ids.long().to(device)\n",
    "        m1_token_ids = m1_token_ids.long().to(device)\n",
    "        m2_token_ids = m2_token_ids.long().to(device)\n",
    "        label = label.long().to(device)\n",
    "        label = torch.reshape(label, (-1, 1))\n",
    "\n",
    "        pred_batch = model(pep_token_ids, n_token_ids, c_token_ids, m1_token_ids, m2_token_ids)\n",
    "        pred += list(pred_batch)\n",
    "        test_acc += calc_accuracy(pred_batch, label)"
   ]
  },
  {
   "cell_type": "code",
   "execution_count": 32,
   "metadata": {
    "ExecuteTime": {
     "end_time": "2021-12-12T19:59:22.769950Z",
     "start_time": "2021-12-12T19:59:22.767352Z"
    }
   },
   "outputs": [],
   "source": [
    "y_test = test.ID.values"
   ]
  },
  {
   "cell_type": "code",
   "execution_count": 34,
   "metadata": {
    "ExecuteTime": {
     "end_time": "2021-12-12T19:59:43.984049Z",
     "start_time": "2021-12-12T19:59:39.558470Z"
    }
   },
   "outputs": [
    {
     "name": "stdout",
     "output_type": "stream",
     "text": [
      "              precision    recall  f1-score   support\n",
      "\n",
      "           0       0.84      0.82      0.83     66996\n",
      "           1       0.82      0.85      0.83     66996\n",
      "\n",
      "    accuracy                           0.83    133992\n",
      "   macro avg       0.83      0.83      0.83    133992\n",
      "weighted avg       0.83      0.83      0.83    133992\n",
      "\n"
     ]
    }
   ],
   "source": [
    "y_pred = [1 if _ >= 0.5 else 0 for _ in pred]\n",
    "print(classification_report(y_test, y_pred))"
   ]
  },
  {
   "cell_type": "code",
   "execution_count": 35,
   "metadata": {
    "ExecuteTime": {
     "end_time": "2021-12-12T19:59:50.487621Z",
     "start_time": "2021-12-12T19:59:50.103316Z"
    },
    "scrolled": false
   },
   "outputs": [
    {
     "data": {
      "image/png": "[encoded data removed]",
      "text/plain": [
       "<Figure size 216x216 with 2 Axes>"
      ]
     },
     "metadata": {
      "needs_background": "light"
     },
     "output_type": "display_data"
    },
    {
     "data": {
      "image/png": "[encoded data removed]",
      "text/plain": [
       "<Figure size 216x216 with 2 Axes>"
      ]
     },
     "metadata": {
      "needs_background": "light"
     },
     "output_type": "display_data"
    }
   ],
   "source": [
    "cf_matrix = confusion_matrix(y_test, y_pred)\n",
    "plt.figure(figsize=(3, 3))\n",
    "sns.heatmap(cf_matrix, annot=True, fmt=',.0f')\n",
    "plt.show()\n",
    "plt.figure(figsize=(3, 3))\n",
    "sns.heatmap(cf_matrix/np.sum(cf_matrix), annot=True, \n",
    "            fmt='.2%', cmap='Blues')\n",
    "plt.show()"
   ]
  },
  {
   "cell_type": "code",
   "execution_count": 43,
   "metadata": {
    "ExecuteTime": {
     "end_time": "2021-12-12T20:00:59.331663Z",
     "start_time": "2021-12-12T20:00:59.053884Z"
    }
   },
   "outputs": [
    {
     "name": "stdout",
     "output_type": "stream",
     "text": [
      "accuracy: 0.8321019165323303\n"
     ]
    }
   ],
   "source": [
    "print('accuracy:', sum(np.array(y_pred)==y_test)/ len (y_pred))"
   ]
  },
  {
   "cell_type": "code",
   "execution_count": 45,
   "metadata": {
    "ExecuteTime": {
     "end_time": "2021-12-12T21:15:53.892283Z",
     "start_time": "2021-12-12T21:15:51.530047Z"
    }
   },
   "outputs": [
    {
     "name": "stdout",
     "output_type": "stream",
     "text": [
      "rf auc : 0.9069939676441866\n"
     ]
    },
    {
     "data": {
      "image/png": "[encoded data removed]",
      "text/plain": [
       "<Figure size 288x288 with 1 Axes>"
      ]
     },
     "metadata": {
      "needs_background": "light"
     },
     "output_type": "display_data"
    }
   ],
   "source": [
    "# AUC\n",
    "probs = [_.cpu().numpy() for _ in pred]\n",
    "rf_auc = roc_auc_score(y_test, probs)\n",
    "\n",
    "\n",
    "print('rf auc : {}'.format(rf_auc))\n",
    "# plot the roc curve for the model_high\n",
    "rf_fpr, rf_tpr, _ = roc_curve(y_test, probs)\n",
    "plt.figure(figsize=(4, 4))\n",
    "plt.plot(rf_fpr, rf_tpr, marker='.', label='RF AUC = {:.4f}'.format(rf_auc), color='orange')\n",
    "plt.title('ROC curve')\n",
    "# axis labels\n",
    "plt.xlabel('False Positive Rate')\n",
    "plt.ylabel('True Positive Rate')\n",
    "# show the legend\n",
    "plt.legend()\n",
    "# show the plot\n",
    "plt.show()"
   ]
  },
  {
   "cell_type": "code",
   "execution_count": 46,
   "metadata": {
    "ExecuteTime": {
     "end_time": "2021-12-12T21:17:12.267449Z",
     "start_time": "2021-12-12T21:17:05.376594Z"
    }
   },
   "outputs": [],
   "source": [
    "torch.save({\"model\":model.state_dict()}, f'./highParam/high2.pl')"
   ]
  },
  {
   "cell_type": "code",
   "execution_count": null,
   "metadata": {},
   "outputs": [],
   "source": []
  },
  {
   "cell_type": "code",
   "execution_count": null,
   "metadata": {},
   "outputs": [],
   "source": [
    "# # 학습에 사용할 CPU나 GPU 장치를 얻습니다.\n",
    "# device = \"cuda\" if torch.cuda.is_available() else \"cpu\"\n",
    "# print(\"Using {} device\".format(device))\n",
    "\n",
    "# # 모델을 정의합니다.\n",
    "# class NeuralNetwork(nn.Module):\n",
    "#     def __init__(self):\n",
    "#         super(NeuralNetwork, self).__init__()\n",
    "#         self.flatten = nn.Flatten()\n",
    "#         self.linear_relu_stack = nn.Sequential(\n",
    "#             nn.Linear(28*28, 512),\n",
    "#             nn.ReLU(),\n",
    "#             nn.Linear(512, 512),\n",
    "#             nn.ReLU(),\n",
    "#             nn.Linear(512, 10),\n",
    "#             nn.ReLU()\n",
    "#         )\n",
    "\n",
    "#     def forward(self, x):\n",
    "#         x = self.flatten(x)\n",
    "#         logits = self.linear_relu_stack(x)\n",
    "#         return logits\n",
    "\n",
    "# model = NeuralNetwork().to(device)\n",
    "# print(model)\n",
    "\n",
    "# def train(dataloader, model, loss_fn, optimizer):\n",
    "#     size = len(dataloader.dataset)\n",
    "#     for batch, (X, y) in enumerate(dataloader):\n",
    "#         X, y = X.to(device), y.to(device)\n",
    "\n",
    "#         # 예측 오류 계산\n",
    "#         pred = model(X)\n",
    "#         loss = loss_fn(pred, y)\n",
    "\n",
    "#         # 역전파\n",
    "#         optimizer.zero_grad()\n",
    "#         loss.backward()\n",
    "#         optimizer.step()\n",
    "\n",
    "#         if batch % 100 == 0:\n",
    "#             loss, current = loss.item(), batch * len(X)\n",
    "#             print(f\"loss: {loss:>7f}  [{current:>5d}/{size:>5d}]\")\n",
    "\n",
    "# def test(dataloader, model, loss_fn):\n",
    "#     size = len(dataloader.dataset)\n",
    "#     num_batches = len(dataloader)\n",
    "#     model.eval()\n",
    "#     test_loss, correct = 0, 0\n",
    "#     with torch.no_grad():\n",
    "#         for X, y in dataloader:\n",
    "#             X, y = X.to(device), y.to(device)\n",
    "#             pred = model(X)\n",
    "#             test_loss += loss_fn(pred, y).item()\n",
    "#             correct += (pred.argmax(1) == y).type(torch.float).sum().item()\n",
    "#     test_loss /= num_batches\n",
    "#     correct /= size\n",
    "#     print(f\"Test Error: \\n Accuracy: {(100*correct):>0.1f}%, Avg loss: {test_loss:>8f} \\n\")\n",
    "\n",
    "# epochs = 5\n",
    "# for t in range(epochs):\n",
    "#     print(f\"Epoch {t+1}\\n-------------------------------\")\n",
    "#     train(train_dataloader, model, loss_fn, optimizer)\n",
    "#     test(test_dataloader, model, loss_fn)\n",
    "# print(\"Done!\")"
   ]
  }
 ],
 "metadata": {
  "kernelspec": {
   "display_name": "ProtEmbedding",
   "language": "python",
   "name": "protembedding"
  },
  "language_info": {
   "codemirror_mode": {
    "name": "ipython",
    "version": 3
   },
   "file_extension": ".py",
   "mimetype": "text/x-python",
   "name": "python",
   "nbconvert_exporter": "python",
   "pygments_lexer": "ipython3",
   "version": "3.6.13"
  }
 },
 "nbformat": 4,
 "nbformat_minor": 4
}
