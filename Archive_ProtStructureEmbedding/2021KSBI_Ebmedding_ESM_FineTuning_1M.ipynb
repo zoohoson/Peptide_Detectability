{
 "cells": [
  {
   "cell_type": "code",
   "execution_count": 1,
   "metadata": {
    "ExecuteTime": {
     "end_time": "2021-12-21T06:16:25.271359Z",
     "start_time": "2021-12-21T06:16:24.344167Z"
    }
   },
   "outputs": [],
   "source": [
    "import pandas as pd\n",
    "import numpy as np\n",
    "import matplotlib.pyplot as plt\n",
    "import seaborn as sns\n",
    "from sklearn.metrics import classification_report\n",
    "from sklearn.metrics import confusion_matrix\n",
    "from sklearn.metrics import roc_curve\n",
    "from sklearn.metrics import roc_auc_score\n",
    "from sklearn.model_selection import train_test_split"
   ]
  },
  {
   "cell_type": "code",
   "execution_count": 2,
   "metadata": {
    "ExecuteTime": {
     "end_time": "2021-12-21T06:16:25.285025Z",
     "start_time": "2021-12-21T06:16:25.273630Z"
    }
   },
   "outputs": [
    {
     "name": "stdout",
     "output_type": "stream",
     "text": [
      "(19, 21)\n"
     ]
    }
   ],
   "source": [
    "df_aaindex = pd.read_csv('../data/aaindex/df_aaindex19.csv')\n",
    "print(df_aaindex.shape)\n",
    "df_aaindex.head(1)\n",
    "tmp = df_aaindex.drop('Unnamed: 0',axis=1).T\n",
    "aa2val = dict()\n",
    "for aa, val in zip(tmp.index, tmp.values):\n",
    "    aa2val[aa]=val"
   ]
  },
  {
   "cell_type": "code",
   "execution_count": 3,
   "metadata": {
    "ExecuteTime": {
     "end_time": "2021-12-21T06:16:28.085537Z",
     "start_time": "2021-12-21T06:16:25.286577Z"
    }
   },
   "outputs": [
    {
     "data": {
      "text/html": [
       "<div>\n",
       "<style scoped>\n",
       "    .dataframe tbody tr th:only-of-type {\n",
       "        vertical-align: middle;\n",
       "    }\n",
       "\n",
       "    .dataframe tbody tr th {\n",
       "        vertical-align: top;\n",
       "    }\n",
       "\n",
       "    .dataframe thead th {\n",
       "        text-align: right;\n",
       "    }\n",
       "</style>\n",
       "<table border=\"1\" class=\"dataframe\">\n",
       "  <thead>\n",
       "    <tr style=\"text-align: right;\">\n",
       "      <th></th>\n",
       "      <th>peptide</th>\n",
       "      <th>En</th>\n",
       "      <th>Ec</th>\n",
       "      <th>E1</th>\n",
       "      <th>E2</th>\n",
       "      <th>protein</th>\n",
       "      <th>PEP</th>\n",
       "      <th>ID</th>\n",
       "    </tr>\n",
       "  </thead>\n",
       "  <tbody>\n",
       "    <tr>\n",
       "      <th>595411</th>\n",
       "      <td>K.QELNEPPKQSTSFLVLQEILESEEKGDPNK.P</td>\n",
       "      <td>VYKMLQEKQELNEPP</td>\n",
       "      <td>EEKGDPNKPSGFRSV</td>\n",
       "      <td>QELNEPPKQSTSFLV</td>\n",
       "      <td>EILESEEKGDPNKPS</td>\n",
       "      <td>sp|O00151|PDLI1_HUMAN</td>\n",
       "      <td>QELNEPPKQSTSFLVLQEILESEEKGDPNK</td>\n",
       "      <td>0</td>\n",
       "    </tr>\n",
       "  </tbody>\n",
       "</table>\n",
       "</div>"
      ],
      "text/plain": [
       "                                   peptide               En               Ec  \\\n",
       "595411  K.QELNEPPKQSTSFLVLQEILESEEKGDPNK.P  VYKMLQEKQELNEPP  EEKGDPNKPSGFRSV   \n",
       "\n",
       "                     E1               E2                protein  \\\n",
       "595411  QELNEPPKQSTSFLV  EILESEEKGDPNKPS  sp|O00151|PDLI1_HUMAN   \n",
       "\n",
       "                                   PEP  ID  \n",
       "595411  QELNEPPKQSTSFLVLQEILESEEKGDPNK   0  "
      ]
     },
     "execution_count": 3,
     "metadata": {},
     "output_type": "execute_result"
    }
   ],
   "source": [
    "df_detect_peptide_train = pd.read_csv('../data/df_detect_peptide_train.csv')\n",
    "test = pd.read_csv('../data/df_detect_peptide_test.csv')\n",
    "train, val = train_test_split(df_detect_peptide_train, test_size=0.2, random_state=7)\n",
    "\n",
    "df = pd.concat([train, val, test], axis=0).reset_index(drop=True)\n",
    "\n",
    "train_idx = df.iloc[:len(train), :].index\n",
    "val_idx = df.iloc[len(train):len(train)+len(val), :].index\n",
    "test_idx = df.iloc[len(train)+len(val):, :].index\n",
    "\n",
    "train.head(1)"
   ]
  },
  {
   "cell_type": "code",
   "execution_count": 4,
   "metadata": {
    "ExecuteTime": {
     "end_time": "2021-12-21T06:16:31.493213Z",
     "start_time": "2021-12-21T06:16:28.087076Z"
    }
   },
   "outputs": [],
   "source": [
    "data = [[n[:8]+p+c[8:], prot, lab] for _, n, c, __, ___, prot, p, lab in train.values]\n",
    "train_new = pd.DataFrame(data, columns=['peptide', 'protein', 'ID'])\n",
    "\n",
    "data = [[n[:8]+p+c[8:], prot, lab] for _, n, c, __, ___, prot, p, lab in val.values]\n",
    "val_new = pd.DataFrame(data, columns=['peptide', 'protein', 'ID'])\n",
    "\n",
    "data = [[n[:8]+p+c[8:], prot, lab] for _, n, c, __, ___, prot, p, lab in test.values]\n",
    "test_new = pd.DataFrame(data, columns=['peptide', 'protein', 'ID'])"
   ]
  },
  {
   "cell_type": "markdown",
   "metadata": {},
   "source": [
    "# torch gpu"
   ]
  },
  {
   "cell_type": "code",
   "execution_count": 5,
   "metadata": {
    "ExecuteTime": {
     "end_time": "2021-12-21T06:16:32.231016Z",
     "start_time": "2021-12-21T06:16:31.494857Z"
    }
   },
   "outputs": [],
   "source": [
    "import sys\n",
    "PATH_TO_REPO = \"/home/bis/2021_AIhub/esm/\"\n",
    "sys.path.append(PATH_TO_REPO)\n",
    "\n",
    "import torch\n",
    "import esm\n",
    "\n",
    "from tqdm.notebook import tqdm\n",
    "from tqdm import tqdm, tqdm_notebook\n",
    "import time\n",
    "from torch import nn\n",
    "import torch.nn.functional as F\n",
    "import torch.optim as optim\n",
    "from torch.utils.data import Dataset, DataLoader\n",
    "\n",
    "from transformers import AdamW\n",
    "# from transformers.optimization import get_cosine_schedule_with_warmup\n",
    "from transformers import WarmupLinearSchedule as get_linear_schedule_with_warmup"
   ]
  },
  {
   "cell_type": "code",
   "execution_count": 6,
   "metadata": {
    "ExecuteTime": {
     "end_time": "2021-12-21T06:16:32.235167Z",
     "start_time": "2021-12-21T06:16:32.232865Z"
    }
   },
   "outputs": [],
   "source": [
    "##GPU 사용 시\n",
    "device = torch.device(\"cuda\")"
   ]
  },
  {
   "cell_type": "code",
   "execution_count": 7,
   "metadata": {
    "ExecuteTime": {
     "end_time": "2021-12-21T06:16:44.141799Z",
     "start_time": "2021-12-21T06:16:32.236391Z"
    }
   },
   "outputs": [],
   "source": [
    "esm_model, alphabet = esm.pretrained.esm1b_t33_650M_UR50S()\n",
    "batch_converter = alphabet.get_batch_converter()"
   ]
  },
  {
   "cell_type": "code",
   "execution_count": 8,
   "metadata": {
    "ExecuteTime": {
     "end_time": "2021-12-21T06:16:44.151443Z",
     "start_time": "2021-12-21T06:16:44.144495Z"
    }
   },
   "outputs": [],
   "source": [
    "ct = 0\n",
    "for child in esm_model.children():\n",
    "    ct += 1\n",
    "#     print(ct, child)\n",
    "#     if ct < 7:\n",
    "    for param in child.parameters():\n",
    "        param.requires_grad = False"
   ]
  },
  {
   "cell_type": "code",
   "execution_count": 9,
   "metadata": {
    "ExecuteTime": {
     "end_time": "2021-12-21T06:16:44.166259Z",
     "start_time": "2021-12-21T06:16:44.152672Z"
    }
   },
   "outputs": [],
   "source": [
    "class ESMDataset(Dataset):\n",
    "    def __init__(self, datasets, idxes):\n",
    "        pep_idx, label_idx = idxes\n",
    "        pep_data = [(label, seq) for label, seq in zip(datasets[:, label_idx], datasets[:, pep_idx])]\n",
    "        labels, pep_strs, pep_tokens = batch_converter(pep_data)\n",
    "\n",
    "        self.sentences = pep_tokens\n",
    "        self.labels = labels\n",
    "\n",
    "    def __getitem__(self, i):\n",
    "        return ((self.sentences[i], ) + (self.labels[i], ))\n",
    "\n",
    "    def __len__(self):\n",
    "        return (len(self.labels))\n",
    "\n",
    "# [PAD] = 1, [MASK] = 21  [CLS] = 0 (special classification token), [SEP] = 2 (seperate segment), Z = 27, '-' = 30, .=29, ,=28\n",
    "# J 없음\n",
    "# A 2, B 25, C 23, D 13, E 9, F 18, G 6, H 21, I 12, K 15, L 4, M 20, N 17, \n",
    "# O 28, P 14, Q 16, R 10, S 8, T 11, U 26, V 7, W 22, X 24, Y 19, Z 27\n",
    "# 3 5 없음"
   ]
  },
  {
   "cell_type": "code",
   "execution_count": 10,
   "metadata": {
    "ExecuteTime": {
     "end_time": "2021-12-21T06:16:44.171649Z",
     "start_time": "2021-12-21T06:16:44.167481Z"
    }
   },
   "outputs": [],
   "source": [
    "## Setting parameters\n",
    "max_len = 30\n",
    "batch_size = 256\n",
    "warmup_ratio = 0.1\n",
    "num_epochs = 10\n",
    "max_grad_norm = 1\n",
    "log_interval = 200\n",
    "learning_rate =  1e-4"
   ]
  },
  {
   "cell_type": "code",
   "execution_count": 11,
   "metadata": {
    "ExecuteTime": {
     "end_time": "2021-12-21T06:20:35.007799Z",
     "start_time": "2021-12-21T06:16:44.172859Z"
    }
   },
   "outputs": [
    {
     "name": "stdout",
     "output_type": "stream",
     "text": [
      "230.83 sec\n"
     ]
    }
   ],
   "source": [
    "s = time.time()\n",
    "\n",
    "dataset_train = train_new[['peptide', 'ID']].values\n",
    "dataset_valid = val_new[['peptide', 'ID']].values\n",
    "dataset_test = test_new[['peptide', 'ID']].values\n",
    "\n",
    "data_train = ESMDataset(dataset_train, [0, 1])\n",
    "data_valid = ESMDataset(dataset_valid, [0, 1])\n",
    "data_test = ESMDataset(dataset_test, [0, 1])\n",
    "\n",
    "train_dataloader = torch.utils.data.DataLoader(data_train, batch_size=batch_size, num_workers=48)\n",
    "valid_dataloader = torch.utils.data.DataLoader(data_valid, batch_size=batch_size, num_workers=48)\n",
    "test_dataloader = torch.utils.data.DataLoader(data_test, batch_size=batch_size, num_workers=48)\n",
    "\n",
    "e = time.time()\n",
    "print(round(e-s, 2),'sec')"
   ]
  },
  {
   "cell_type": "markdown",
   "metadata": {},
   "source": [
    "# model"
   ]
  },
  {
   "cell_type": "code",
   "execution_count": 12,
   "metadata": {
    "ExecuteTime": {
     "end_time": "2021-12-21T06:20:35.026688Z",
     "start_time": "2021-12-21T06:20:35.009684Z"
    }
   },
   "outputs": [],
   "source": [
    "class ESMClassifier(nn.Module):\n",
    "    def __init__(self,\n",
    "                 esm,\n",
    "                 num_classes=1,\n",
    "                 params=None):\n",
    "        \n",
    "        super(ESMClassifier, self).__init__()\n",
    "        self.esm = esm\n",
    "        self.pep_lstm1 = nn.LSTM(input_size=1280, hidden_size=128, batch_first=True)\n",
    "        self.pep_drop1 = nn.Dropout(p=0.2)\n",
    "        \n",
    "        self.ts_lstm1 = nn.LSTM(input_size=1280, hidden_size=64, batch_first=True)\n",
    "        self.ts_drop1 = nn.Dropout(p=0.2)\n",
    "                \n",
    "        self.fc1 = nn.Linear(384, 128)\n",
    "        self.fc_drop1 = nn.Dropout(p=0.2)\n",
    "        self.fc2 = nn.Linear(128, 1)\n",
    "\n",
    "\n",
    "    def forward(self, token_ids):        \n",
    "        pep_dig_embed = self.esm(token_ids, repr_layers=[33])['representations'][33]\n",
    "        \n",
    "        pad_ids = torch.tensor([[0, 1,  1,  1,  1,  1,  1,  1,  1,  1,  1,  1,  1,  1,  1,  1,  2]]*len(token_ids)).long().to(device)\n",
    "        pad_vec = self.esm(pad_ids, repr_layers=[33])['representations'][33]  # 15mer\n",
    "        pad_vec = torch.stack([pad_vec[row_idx][1:-1] for row_idx in range(len(pad_vec))])\n",
    "        \n",
    "        pep_embed = torch.stack([pep_dig_embed[row_idx][8:-7] for row_idx in range(len(pep_dig_embed))])\n",
    "        en_embed = torch.stack([pep_dig_embed[row_idx][:15] for row_idx in range(len(pep_dig_embed))])\n",
    "        ec_embed = torch.stack([pep_dig_embed[row_idx][-15:] for row_idx in range(len(pep_dig_embed))])\n",
    "        \n",
    "        lpad = torch.tensor([0]*8).long().to(device)\n",
    "        rpad = torch.tensor([0]*8).long().to(device)\n",
    "        pep_ids = torch.stack([torch.cat([lpad, token_ids[row_idx][8:-8], rpad]) for row_idx in range(len(token_ids))])  # __KR에서 마지막 ts 제외한 ids.\n",
    "        e1_embed = []\n",
    "        e2_embed = []\n",
    "        for row_idx, pep_id in enumerate(pep_ids):\n",
    "            k_idx = (pep_id==15).nonzero(as_tuple=True)[0]\n",
    "            r_idx = (pep_id==10).nonzero(as_tuple=True)[0]\n",
    "            ts_idx = torch.sort(torch.cat([k_idx, r_idx],dim=0))[0]  # 0 : nterm, 1: m1, 2: m2, 3: cterm, if len(ts_idx)==4\n",
    "            \n",
    "            if len(ts_idx)==1:\n",
    "                e1 = pep_dig_embed[row_idx][ts_idx[0]-7:ts_idx[0]+8]  # 15mer (15*1280 shape)\n",
    "                e2 = pad_vec[row_idx]  # 15*1280\n",
    "                # e2_embed = torch.tensor([[0]*1280]*15).long().to(device)\n",
    "            elif len(ts_idx)==2:\n",
    "                e1 = pep_dig_embed[row_idx][ts_idx[0]-7:ts_idx[0]+8]\n",
    "                e2 = pep_dig_embed[row_idx][ts_idx[1]-7:ts_idx[1]+8]\n",
    "            else:\n",
    "                e1 = pad_vec[row_idx]\n",
    "                e2 = pad_vec[row_idx]\n",
    "            e1_embed.append(e1)\n",
    "            e2_embed.append(e2)\n",
    "            \n",
    "        e1_embed = torch.stack(e1_embed)\n",
    "        e2_embed = torch.stack(e2_embed)\n",
    "        \n",
    "        pep_lstm, (pep_hn, __) = self.pep_lstm1(pep_embed)\n",
    "        en_lstm, (en_hn, __) = self.ts_lstm1(en_embed)\n",
    "        ec_lstm, (ec_hn, __) = self.ts_lstm1(ec_embed)\n",
    "        e1_lstm, (e1_hn, __) = self.ts_lstm1(e1_embed)\n",
    "        e2_lstm, (e2_hn, __) = self.ts_lstm1(e2_embed)\n",
    "        \n",
    "        merge = torch.cat([pep_hn[0], en_hn[0], ec_hn[0], e1_hn[0], e2_hn[0]], dim=1)\n",
    "        merge = self.fc1(merge)\n",
    "        merge = self.fc_drop1(merge)\n",
    "        merge = self.fc2(merge)\n",
    "        \n",
    "        out = torch.sigmoid(merge)\n",
    "        \n",
    "        return out"
   ]
  },
  {
   "cell_type": "code",
   "execution_count": 13,
   "metadata": {
    "ExecuteTime": {
     "end_time": "2021-12-21T06:20:44.351452Z",
     "start_time": "2021-12-21T06:20:35.027790Z"
    },
    "scrolled": true
   },
   "outputs": [],
   "source": [
    "model = ESMClassifier(esm_model).to(device)"
   ]
  },
  {
   "cell_type": "code",
   "execution_count": 14,
   "metadata": {
    "ExecuteTime": {
     "end_time": "2021-12-21T06:20:44.361513Z",
     "start_time": "2021-12-21T06:20:44.352752Z"
    }
   },
   "outputs": [],
   "source": [
    "optimizer = torch.optim.Adam(model.parameters(), lr=1e-3)\n",
    "loss_fn = nn.BCELoss()\n",
    "def calc_accuracy(X,Y):\n",
    "    train_acc = ((X>0.5)==Y).sum().data.cpu().numpy() / len(Y)\n",
    "    return train_acc"
   ]
  },
  {
   "cell_type": "code",
   "execution_count": 15,
   "metadata": {
    "ExecuteTime": {
     "end_time": "2021-12-23T11:44:25.320302Z",
     "start_time": "2021-12-21T06:20:44.362671Z"
    },
    "scrolled": true
   },
   "outputs": [
    {
     "name": "stdout",
     "output_type": "stream",
     "text": [
      "epoch 1 batch id 1 loss 0.6949113607406616 train acc 0.5078125 time 12.2\n",
      "epoch 1 batch id 201 loss 0.5441871881484985 train acc 0.679629197761194 time 1630.22\n",
      "epoch 1 batch id 401 loss 0.5058050155639648 train acc 0.7015371726932669 time 3248.51\n",
      "epoch 1 batch id 601 loss 0.5291488170623779 train acc 0.7118864392678869 time 4866.79\n",
      "epoch 1 batch id 801 loss 0.502938985824585 train acc 0.722475811485643 time 6483.21\n",
      "epoch 1 batch id 1001 loss 0.4696585237979889 train acc 0.7303243631368631 time 8105.0\n",
      "epoch 1 batch id 1201 loss 0.44798171520233154 train acc 0.7381901800582847 time 9728.39\n",
      "epoch 1 batch id 1401 loss 0.5074709057807922 train acc 0.7451959537830122 time 11352.33\n",
      "epoch 1 batch id 1601 loss 0.4664769172668457 train acc 0.7510296299188007 time 12974.33\n",
      "epoch 1 batch id 1801 loss 0.4033125638961792 train acc 0.7560361431149362 time 14595.7\n",
      "epoch 1 batch id 2001 loss 0.44314101338386536 train acc 0.7601550787106447 time 16214.54\n",
      "epoch 1 train acc 0.76252795433145 time 17200.2\n",
      "best_acc: 0.8024729284369115\n",
      "epoch 1 test acc 0.8024729284369115\n",
      "epoch 2 batch id 1 loss 0.4105669856071472 train acc 0.83984375 time 12.25\n",
      "epoch 2 batch id 201 loss 0.37819379568099976 train acc 0.8090990360696517 time 1637.29\n",
      "epoch 2 batch id 401 loss 0.4067320227622986 train acc 0.8083794420199502 time 3255.68\n",
      "epoch 2 batch id 601 loss 0.39817291498184204 train acc 0.8099131655574043 time 4877.86\n",
      "epoch 2 batch id 801 loss 0.4504348337650299 train acc 0.8108321629213483 time 6512.86\n",
      "epoch 2 batch id 1001 loss 0.43341806530952454 train acc 0.8111029595404595 time 8134.96\n",
      "epoch 2 batch id 1201 loss 0.4037151634693146 train acc 0.8121259627393839 time 9757.23\n",
      "epoch 2 batch id 1401 loss 0.4956340193748474 train acc 0.812829006067095 time 11381.88\n",
      "epoch 2 batch id 1601 loss 0.4234640598297119 train acc 0.8136931019675203 time 13006.77\n",
      "epoch 2 batch id 1801 loss 0.3826821446418762 train acc 0.814582176568573 time 14628.13\n",
      "epoch 2 batch id 2001 loss 0.3996967673301697 train acc 0.8150787887306347 time 16255.47\n",
      "epoch 2 train acc 0.8155237443670971 time 17249.54\n",
      "best_acc: 0.8099081920903954\n",
      "epoch 2 test acc 0.8099081920903954\n",
      "epoch 3 batch id 1 loss 0.37387776374816895 train acc 0.8515625 time 12.39\n",
      "epoch 3 batch id 201 loss 0.34462904930114746 train acc 0.8266674440298507 time 1645.44\n",
      "epoch 3 batch id 401 loss 0.3928627669811249 train acc 0.8255143391521197 time 3271.72\n",
      "epoch 3 batch id 601 loss 0.37485453486442566 train acc 0.8262986168885191 time 4897.42\n",
      "epoch 3 batch id 801 loss 0.413071870803833 train acc 0.8272179307116105 time 6518.07\n",
      "epoch 3 batch id 1001 loss 0.380534827709198 train acc 0.8272001436063936 time 8143.46\n",
      "epoch 3 batch id 1201 loss 0.38089460134506226 train acc 0.8282843723980017 time 9768.16\n",
      "epoch 3 batch id 1401 loss 0.48432403802871704 train acc 0.8290172198429693 time 11396.06\n",
      "epoch 3 batch id 1601 loss 0.3877905607223511 train acc 0.8295840490318551 time 13022.41\n",
      "epoch 3 batch id 1801 loss 0.36216413974761963 train acc 0.8303047785952249 time 14645.88\n",
      "epoch 3 batch id 2001 loss 0.3724513649940491 train acc 0.8306452242628686 time 16271.06\n",
      "epoch 3 train acc 0.8310867403988431 time 17272.17\n",
      "best_acc: 0.8148063794726931\n",
      "epoch 3 test acc 0.8148063794726931\n",
      "epoch 4 batch id 1 loss 0.3490764796733856 train acc 0.84765625 time 12.15\n",
      "epoch 4 batch id 201 loss 0.33028775453567505 train acc 0.8408737562189055 time 1634.15\n",
      "epoch 4 batch id 401 loss 0.36679574847221375 train acc 0.839561253117207 time 3253.96\n",
      "epoch 4 batch id 601 loss 0.3728249669075012 train acc 0.8394927724625624 time 4871.68\n",
      "epoch 4 batch id 801 loss 0.39287978410720825 train acc 0.8404825998751561 time 6486.34\n",
      "epoch 4 batch id 1001 loss 0.33883413672447205 train acc 0.8407217782217782 time 8109.29\n",
      "epoch 4 batch id 1201 loss 0.3543093502521515 train acc 0.8415122814321399 time 9732.77\n",
      "epoch 4 batch id 1401 loss 0.44938814640045166 train acc 0.8423252364382584 time 11355.05\n",
      "epoch 4 batch id 1601 loss 0.3598462641239166 train acc 0.8427691677076827 time 12973.49\n",
      "epoch 4 batch id 1801 loss 0.3322101831436157 train acc 0.8433162132148806 time 14593.15\n",
      "epoch 4 batch id 2001 loss 0.36704397201538086 train acc 0.8435879716391804 time 16213.18\n",
      "epoch 4 train acc 0.8439207736413775 time 17198.92\n",
      "epoch 4 test acc 0.8147263418079096\n",
      "epoch 5 batch id 1 loss 0.32935407757759094 train acc 0.859375 time 12.3\n",
      "epoch 5 batch id 201 loss 0.319374680519104 train acc 0.8537585509950248 time 1637.11\n",
      "epoch 5 batch id 401 loss 0.34140533208847046 train acc 0.8532672225685786 time 3254.04\n",
      "epoch 5 batch id 601 loss 0.37462523579597473 train acc 0.8524789413477537 time 4873.87\n",
      "epoch 5 batch id 801 loss 0.3857406973838806 train acc 0.8532595973782772 time 6490.31\n",
      "epoch 5 batch id 1001 loss 0.31529879570007324 train acc 0.853021978021978 time 8110.77\n",
      "epoch 5 batch id 1201 loss 0.3257531225681305 train acc 0.8536343411740216 time 9733.59\n",
      "epoch 5 batch id 1401 loss 0.40199846029281616 train acc 0.8543729925053534 time 11369.05\n",
      "epoch 5 batch id 1601 loss 0.33902037143707275 train acc 0.8550124921923797 time 12989.7\n",
      "epoch 5 batch id 1801 loss 0.31634756922721863 train acc 0.8553646411715713 time 14611.16\n",
      "epoch 5 batch id 2001 loss 0.3627355098724365 train acc 0.8554355634682659 time 16230.39\n",
      "epoch 5 train acc 0.855717028601695 time 17214.69\n",
      "epoch 5 test acc 0.8145645009416196\n",
      "epoch 6 batch id 1 loss 0.29784178733825684 train acc 0.8671875 time 12.3\n",
      "epoch 6 batch id 201 loss 0.30111825466156006 train acc 0.8655161691542289 time 1637.23\n",
      "epoch 6 batch id 401 loss 0.31773799657821655 train acc 0.8648203709476309 time 3254.29\n",
      "epoch 6 batch id 601 loss 0.3453035056591034 train acc 0.8637037229617305 time 4874.55\n",
      "epoch 6 batch id 801 loss 0.3609723746776581 train acc 0.8641493055555556 time 6506.59\n",
      "epoch 6 batch id 1001 loss 0.2988165616989136 train acc 0.864034403096903 time 8122.87\n",
      "epoch 6 batch id 1201 loss 0.30800068378448486 train acc 0.8645139467110741 time 9744.52\n",
      "epoch 6 batch id 1401 loss 0.37784543633461 train acc 0.8651744289793005 time 11378.53\n",
      "epoch 6 batch id 1601 loss 0.3208329975605011 train acc 0.865757729544035 time 12993.54\n",
      "epoch 6 batch id 1801 loss 0.29653051495552063 train acc 0.8657928754858412 time 14612.58\n",
      "epoch 6 batch id 2001 loss 0.3363730311393738 train acc 0.8656726324337831 time 16233.32\n",
      "epoch 6 train acc 0.865968176200565 time 17218.94\n",
      "epoch 6 test acc 0.8135955155367232\n",
      "epoch 7 batch id 1 loss 0.27923583984375 train acc 0.8828125 time 12.23\n",
      "epoch 7 batch id 201 loss 0.284835547208786 train acc 0.8735035758706468 time 1635.73\n",
      "epoch 7 batch id 401 loss 0.30082154273986816 train acc 0.8731978647132169 time 3255.81\n",
      "epoch 7 batch id 601 loss 0.3359605073928833 train acc 0.8717177100665557 time 4875.11\n",
      "epoch 7 batch id 801 loss 0.35133659839630127 train acc 0.8719569288389513 time 6502.92\n",
      "epoch 7 batch id 1001 loss 0.28340858221054077 train acc 0.8722956730769231 time 8123.44\n",
      "epoch 7 batch id 1201 loss 0.2897576093673706 train acc 0.8728500988759367 time 9746.2\n",
      "epoch 7 batch id 1401 loss 0.3605690598487854 train acc 0.8730873037116346 time 11380.41\n",
      "epoch 7 batch id 1601 loss 0.28563231229782104 train acc 0.8734409158338539 time 12996.61\n",
      "epoch 7 batch id 1801 loss 0.2841460406780243 train acc 0.8734470433092726 time 14614.44\n",
      "epoch 7 batch id 2001 loss 0.3006611764431 train acc 0.8731278891804098 time 16229.46\n",
      "epoch 7 train acc 0.8734606726694916 time 17214.48\n",
      "epoch 7 test acc 0.8120244821092278\n",
      "epoch 8 batch id 1 loss 0.2670781910419464 train acc 0.88671875 time 12.29\n",
      "epoch 8 batch id 201 loss 0.28473037481307983 train acc 0.8811411691542289 time 1662.1\n",
      "epoch 8 batch id 401 loss 0.2888581156730652 train acc 0.8808545043640897 time 3283.6\n",
      "epoch 8 batch id 601 loss 0.31699711084365845 train acc 0.8793157237936772 time 4899.4\n",
      "epoch 8 batch id 801 loss 0.34765976667404175 train acc 0.8790086610486891 time 6517.35\n",
      "epoch 8 batch id 1001 loss 0.2828593850135803 train acc 0.8790389298201798 time 8029.99\n",
      "epoch 8 batch id 1201 loss 0.27077826857566833 train acc 0.8796283045378851 time 9456.22\n",
      "epoch 8 batch id 1401 loss 0.33931195735931396 train acc 0.8799072091363311 time 10422.74\n",
      "epoch 8 batch id 1601 loss 0.29160863161087036 train acc 0.88035065974391 time 11374.14\n",
      "epoch 8 batch id 1801 loss 0.26540786027908325 train acc 0.8802553269017213 time 12325.48\n"
     ]
    },
    {
     "name": "stdout",
     "output_type": "stream",
     "text": [
      "epoch 8 batch id 2001 loss 0.3042428493499756 train acc 0.880036544227886 time 13277.32\n",
      "epoch 8 train acc 0.8802487935499058 time 13853.78\n",
      "epoch 8 test acc 0.8113444562146892\n",
      "epoch 9 batch id 1 loss 0.27555394172668457 train acc 0.88671875 time 9.34\n",
      "epoch 9 batch id 201 loss 0.25121089816093445 train acc 0.8853000621890548 time 961.08\n",
      "epoch 9 batch id 401 loss 0.25639835000038147 train acc 0.8865726309226932 time 1913.31\n",
      "epoch 9 batch id 601 loss 0.29821479320526123 train acc 0.8848533693843594 time 2865.36\n",
      "epoch 9 batch id 801 loss 0.32717180252075195 train acc 0.8849143648564295 time 3817.55\n",
      "epoch 9 batch id 1001 loss 0.2810322940349579 train acc 0.8850212287712288 time 4769.57\n",
      "epoch 9 batch id 1201 loss 0.2560262084007263 train acc 0.8854437708159867 time 5721.58\n",
      "epoch 9 batch id 1401 loss 0.32942360639572144 train acc 0.8856648153104925 time 6673.27\n",
      "epoch 9 batch id 1601 loss 0.24927166104316711 train acc 0.8859745861961275 time 7624.92\n",
      "epoch 9 batch id 1801 loss 0.25044262409210205 train acc 0.8859162444475291 time 8576.81\n",
      "epoch 9 batch id 2001 loss 0.2856147289276123 train acc 0.8856392116441779 time 9528.88\n",
      "epoch 9 train acc 0.8858194297316384 time 10105.48\n",
      "epoch 9 test acc 0.8081161723163842\n",
      "epoch 10 batch id 1 loss 0.2497875690460205 train acc 0.890625 time 8.86\n",
      "epoch 10 batch id 201 loss 0.258764386177063 train acc 0.8884872512437811 time 961.05\n",
      "epoch 10 batch id 401 loss 0.25319620966911316 train acc 0.8901866427680798 time 1913.19\n",
      "epoch 10 batch id 601 loss 0.25866857171058655 train acc 0.8887336210482529 time 2865.36\n",
      "epoch 10 batch id 801 loss 0.31486764550209045 train acc 0.8886011626092385 time 3817.75\n",
      "epoch 10 batch id 1001 loss 0.24543476104736328 train acc 0.889188936063936 time 4770.07\n",
      "epoch 10 batch id 1201 loss 0.26696068048477173 train acc 0.8897663405495421 time 5722.36\n",
      "epoch 10 batch id 1401 loss 0.3131503462791443 train acc 0.8900840917201999 time 6674.32\n",
      "epoch 10 batch id 1601 loss 0.27259063720703125 train acc 0.8906567184572143 time 7626.24\n",
      "epoch 10 batch id 1801 loss 0.25804364681243896 train acc 0.8905924659911161 time 8578.21\n",
      "epoch 10 batch id 2001 loss 0.2719821035861969 train acc 0.8903985507246377 time 9530.53\n",
      "epoch 10 train acc 0.890544079566855 time 10107.17\n",
      "epoch 10 test acc 0.8070377236346515\n"
     ]
    }
   ],
   "source": [
    "best_acc = 0\n",
    "for e in range(num_epochs):\n",
    "    t0 = time.time()\n",
    "    train_acc = 0.0\n",
    "    test_acc = 0.0\n",
    "    \n",
    "    model.train()\n",
    "    for batch_id, (pep_token_ids, label) in enumerate(train_dataloader):\n",
    "#         print(batch_id, round(time.time()-t0, 2))  # batch256->2100 loop, each 5 sec -> per 1 epoch, 3h\n",
    "        \n",
    "        pep_token_ids = pep_token_ids.long().to(device)\n",
    "        label = torch.reshape(label.float(), (-1, 1)).to(device)\n",
    "        \n",
    "        pred = model(pep_token_ids)\n",
    "        loss = F.binary_cross_entropy(pred, label)\n",
    "        optimizer.zero_grad()\n",
    "        loss.backward()\n",
    "        optimizer.step()\n",
    "        \n",
    "        train_acc += calc_accuracy(pred, label)\n",
    "        if batch_id % log_interval == 0:\n",
    "            print(\"epoch {} batch id {} loss {} train acc {} time {}\".format(e+1, batch_id+1, loss.data.cpu().numpy(), train_acc / (batch_id+1), round(time.time()-t0, 2)))\n",
    "        \n",
    "    print(\"epoch {} train acc {} time {}\".format(e+1, train_acc / (batch_id+1), round(time.time()-t0,2)))\n",
    "    \n",
    "    model.eval()\n",
    "    for batch_id, (pep_token_ids, label) in enumerate(valid_dataloader):\n",
    "        pep_token_ids = pep_token_ids.long().to(device)\n",
    "        label = label.long().to(device)\n",
    "        label = torch.reshape(label, (-1, 1))\n",
    "        pred = model(pep_token_ids)\n",
    "        \n",
    "        test_acc += calc_accuracy(pred, label)\n",
    "    test_acc = test_acc / (batch_id+1)\n",
    "    if test_acc > best_acc:\n",
    "        best_acc=test_acc\n",
    "        print(f\"best_acc: {best_acc}\")\n",
    "        torch.save({\"best_acc\":best_acc, \"model\":model.state_dict()},f'./finetuning_211221_1M.pl')\n",
    "    print(\"epoch {} test acc {}\".format(e+1, test_acc))"
   ]
  },
  {
   "cell_type": "code",
   "execution_count": null,
   "metadata": {},
   "outputs": [],
   "source": []
  },
  {
   "cell_type": "markdown",
   "metadata": {},
   "source": [
    "# test"
   ]
  },
  {
   "cell_type": "code",
   "execution_count": 21,
   "metadata": {
    "ExecuteTime": {
     "end_time": "2021-12-12T18:57:35.166975Z",
     "start_time": "2021-12-12T17:57:34.610557Z"
    }
   },
   "outputs": [],
   "source": [
    "pred = []\n",
    "model.eval()\n",
    "with torch.no_grad():\n",
    "    for batch_id, (pep_token_ids, n_token_ids, c_token_ids, m1_token_ids, m2_token_ids, label) in enumerate(test_dataloader):\n",
    "        pep_token_ids = pep_token_ids.long().to(device)\n",
    "        n_token_ids = n_token_ids.long().to(device)\n",
    "        c_token_ids = c_token_ids.long().to(device)\n",
    "        m1_token_ids = m1_token_ids.long().to(device)\n",
    "        m2_token_ids = m2_token_ids.long().to(device)\n",
    "        label = label.long().to(device)\n",
    "        label = torch.reshape(label, (-1, 1))\n",
    "\n",
    "        pred_batch = model(pep_token_ids, n_token_ids, c_token_ids, m1_token_ids, m2_token_ids)\n",
    "        pred += list(pred_batch)\n",
    "        test_acc += calc_accuracy(pred_batch, label)"
   ]
  },
  {
   "cell_type": "code",
   "execution_count": 22,
   "metadata": {
    "ExecuteTime": {
     "end_time": "2021-12-12T20:02:18.912957Z",
     "start_time": "2021-12-12T20:02:00.318783Z"
    }
   },
   "outputs": [
    {
     "name": "stdout",
     "output_type": "stream",
     "text": [
      "              precision    recall  f1-score   support\n",
      "\n",
      "           0       0.83      0.82      0.83     66996\n",
      "           1       0.82      0.83      0.83     66996\n",
      "\n",
      "    accuracy                           0.83    133992\n",
      "   macro avg       0.83      0.83      0.83    133992\n",
      "weighted avg       0.83      0.83      0.83    133992\n",
      "\n"
     ]
    },
    {
     "data": {
      "image/png": "[encoded data removed]",
      "text/plain": [
       "<Figure size 216x216 with 2 Axes>"
      ]
     },
     "metadata": {
      "needs_background": "light"
     },
     "output_type": "display_data"
    },
    {
     "data": {
      "image/png": "[encoded data removed]",
      "text/plain": [
       "<Figure size 216x216 with 2 Axes>"
      ]
     },
     "metadata": {
      "needs_background": "light"
     },
     "output_type": "display_data"
    },
    {
     "name": "stdout",
     "output_type": "stream",
     "text": [
      "accuracy: 0.8263254522658069\n"
     ]
    }
   ],
   "source": [
    "y_test = test.ID.values\n",
    "y_pred = [1 if _ >= 0.5 else 0 for _ in pred]\n",
    "print(classification_report(y_test, y_pred))\n",
    "cf_matrix = confusion_matrix(y_test, y_pred)\n",
    "plt.figure(figsize=(3, 3))\n",
    "sns.heatmap(cf_matrix, annot=True, fmt=',.0f')\n",
    "plt.show()\n",
    "plt.figure(figsize=(3, 3))\n",
    "sns.heatmap(cf_matrix/np.sum(cf_matrix), annot=True, \n",
    "            fmt='.2%', cmap='Blues')\n",
    "plt.show()\n",
    "\n",
    "print('accuracy:', sum(np.array(y_pred)==y_test)/ len (y_pred))"
   ]
  },
  {
   "cell_type": "code",
   "execution_count": 35,
   "metadata": {
    "ExecuteTime": {
     "end_time": "2021-12-12T21:15:32.413197Z",
     "start_time": "2021-12-12T21:15:30.601250Z"
    }
   },
   "outputs": [],
   "source": [
    "probs = [_.cpu().numpy() for _ in pred]"
   ]
  },
  {
   "cell_type": "code",
   "execution_count": 36,
   "metadata": {
    "ExecuteTime": {
     "end_time": "2021-12-12T21:15:37.451749Z",
     "start_time": "2021-12-12T21:15:36.969540Z"
    }
   },
   "outputs": [
    {
     "name": "stdout",
     "output_type": "stream",
     "text": [
      "rf auc : 0.9022046666888106\n"
     ]
    },
    {
     "data": {
      "image/png": "[encoded data removed]",
      "text/plain": [
       "<Figure size 288x288 with 1 Axes>"
      ]
     },
     "metadata": {
      "needs_background": "light"
     },
     "output_type": "display_data"
    }
   ],
   "source": [
    "rf_auc = roc_auc_score(y_test, probs)\n",
    "\n",
    "\n",
    "print('rf auc : {}'.format(rf_auc))\n",
    "# plot the roc curve for the model_high\n",
    "rf_fpr, rf_tpr, _ = roc_curve(y_test, probs)\n",
    "plt.figure(figsize=(4, 4))\n",
    "plt.plot(rf_fpr, rf_tpr, marker='.', label='RF AUC = {:.4f}'.format(rf_auc), color='orange')\n",
    "plt.title('ROC curve')\n",
    "# axis labels\n",
    "plt.xlabel('False Positive Rate')\n",
    "plt.ylabel('True Positive Rate')\n",
    "# show the legend\n",
    "plt.legend()\n",
    "# show the plot\n",
    "plt.show()"
   ]
  },
  {
   "cell_type": "code",
   "execution_count": 37,
   "metadata": {
    "ExecuteTime": {
     "end_time": "2021-12-12T21:17:31.695340Z",
     "start_time": "2021-12-12T21:17:24.921111Z"
    }
   },
   "outputs": [],
   "source": [
    "torch.save({\"model\":model.state_dict()},f'./lowParam/low2.pl')"
   ]
  }
 ],
 "metadata": {
  "kernelspec": {
   "display_name": "ProtEmbedding",
   "language": "python",
   "name": "protembedding"
  },
  "language_info": {
   "codemirror_mode": {
    "name": "ipython",
    "version": 3
   },
   "file_extension": ".py",
   "mimetype": "text/x-python",
   "name": "python",
   "nbconvert_exporter": "python",
   "pygments_lexer": "ipython3",
   "version": "3.6.13"
  }
 },
 "nbformat": 4,
 "nbformat_minor": 4
}
