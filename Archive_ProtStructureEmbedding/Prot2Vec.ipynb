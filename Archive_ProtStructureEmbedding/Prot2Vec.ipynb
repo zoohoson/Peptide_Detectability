{
 "cells": [
  {
   "cell_type": "code",
   "execution_count": 1,
   "metadata": {
    "ExecuteTime": {
     "end_time": "2021-11-28T20:18:28.792263Z",
     "start_time": "2021-11-28T20:18:27.930837Z"
    }
   },
   "outputs": [],
   "source": [
    "import pandas as pd\n",
    "import numpy as np\n",
    "import matplotlib.pyplot as plt\n",
    "import seaborn as sns\n",
    "from sklearn.metrics import classification_report\n",
    "from sklearn.metrics import confusion_matrix\n",
    "from sklearn.metrics import roc_curve\n",
    "from sklearn.metrics import roc_auc_score\n",
    "from sklearn.model_selection import train_test_split"
   ]
  },
  {
   "cell_type": "code",
   "execution_count": null,
   "metadata": {
    "ExecuteTime": {
     "end_time": "2021-11-28T20:18:31.204919Z",
     "start_time": "2021-11-28T20:18:28.793814Z"
    }
   },
   "outputs": [],
   "source": [
    "df_detect_peptide_train = pd.read_csv('../data/df_detect_peptide_train.csv')\n",
    "test = pd.read_csv('../data/df_detect_peptide_test.csv')\n",
    "train, val = train_test_split(df_detect_peptide_train, test_size=0.2, random_state=7)"
   ]
  },
  {
   "cell_type": "code",
   "execution_count": 39,
   "metadata": {
    "ExecuteTime": {
     "end_time": "2021-11-28T23:02:44.416534Z",
     "start_time": "2021-11-28T23:02:44.034231Z"
    }
   },
   "outputs": [],
   "source": [
    "df = pd.concat([train, val, test], axis=0).reset_index(drop=True)\n",
    "\n",
    "train_idx = df.iloc[:len(train), :].index\n",
    "val_idx = df.iloc[len(train):len(train)+len(val), :].index\n",
    "test_idx = df.iloc[len(train)+len(val):, :].index"
   ]
  },
  {
   "cell_type": "code",
   "execution_count": 5,
   "metadata": {
    "ExecuteTime": {
     "end_time": "2021-11-28T20:18:31.717305Z",
     "start_time": "2021-11-28T20:18:31.348156Z"
    }
   },
   "outputs": [],
   "source": [
    "df_prot = pd.read_csv('../data/uniprot/df_uni.csv')\n",
    "\n",
    "prot2seq = {k:v for k, v in df_prot[['PROTEIN', 'SEQUENCE']].values}"
   ]
  },
  {
   "cell_type": "markdown",
   "metadata": {},
   "source": [
    "# protein embedding"
   ]
  },
  {
   "cell_type": "code",
   "execution_count": 7,
   "metadata": {
    "ExecuteTime": {
     "end_time": "2021-11-28T20:18:31.907498Z",
     "start_time": "2021-11-28T20:18:31.793453Z"
    }
   },
   "outputs": [],
   "source": [
    "w = open('../data/uniprot/targetProt.fasta', 'w')\n",
    "for p in df.protein.unique():\n",
    "    w.write('>'+p+'\\n')\n",
    "    w.write(prot2seq[p]+'\\n')"
   ]
  },
  {
   "cell_type": "code",
   "execution_count": 8,
   "metadata": {
    "ExecuteTime": {
     "end_time": "2021-11-28T22:37:26.039058Z",
     "start_time": "2021-11-28T22:37:25.935578Z"
    }
   },
   "outputs": [],
   "source": [
    "p2seq = {p:prot2seq[p] for p in df.protein.unique()}"
   ]
  },
  {
   "cell_type": "code",
   "execution_count": null,
   "metadata": {},
   "outputs": [],
   "source": [
    "# python extract.py esm1b_t33_650M_UR50S /home/bis/2021_SJH_detectability/Detectability/data/uniprot/targetProt.fasta /home/bis/2021_SJH_detectability/Detectability/data/ProtStructureEmbedding_emb_esm1b/ --repr_layers 0 32 33 --include mean per_tok"
   ]
  },
  {
   "cell_type": "code",
   "execution_count": 14,
   "metadata": {
    "ExecuteTime": {
     "end_time": "2021-11-28T22:39:12.318640Z",
     "start_time": "2021-11-28T22:39:12.313057Z"
    }
   },
   "outputs": [
    {
     "name": "stdout",
     "output_type": "stream",
     "text": [
      "# of portein (lenght > 1025) :  1076\n"
     ]
    }
   ],
   "source": [
    "print('# of portein (lenght > 1025) : ', sum([1 for _ in p2seq.values() if len(_)>1025]))"
   ]
  },
  {
   "cell_type": "markdown",
   "metadata": {},
   "source": [
    "# peptide embedding"
   ]
  },
  {
   "cell_type": "code",
   "execution_count": 60,
   "metadata": {
    "ExecuteTime": {
     "end_time": "2021-11-28T23:05:22.296798Z",
     "start_time": "2021-11-28T23:05:22.288498Z"
    }
   },
   "outputs": [
    {
     "data": {
      "text/html": [
       "<div>\n",
       "<style scoped>\n",
       "    .dataframe tbody tr th:only-of-type {\n",
       "        vertical-align: middle;\n",
       "    }\n",
       "\n",
       "    .dataframe tbody tr th {\n",
       "        vertical-align: top;\n",
       "    }\n",
       "\n",
       "    .dataframe thead th {\n",
       "        text-align: right;\n",
       "    }\n",
       "</style>\n",
       "<table border=\"1\" class=\"dataframe\">\n",
       "  <thead>\n",
       "    <tr style=\"text-align: right;\">\n",
       "      <th></th>\n",
       "      <th>peptide</th>\n",
       "      <th>En</th>\n",
       "      <th>Ec</th>\n",
       "      <th>E1</th>\n",
       "      <th>E2</th>\n",
       "      <th>protein</th>\n",
       "      <th>PEP</th>\n",
       "      <th>ID</th>\n",
       "    </tr>\n",
       "  </thead>\n",
       "  <tbody>\n",
       "    <tr>\n",
       "      <th>0</th>\n",
       "      <td>K.QELNEPPKQSTSFLVLQEILESEEKGDPNK.P</td>\n",
       "      <td>VYKMLQEKQELNEPP</td>\n",
       "      <td>EEKGDPNKPSGFRSV</td>\n",
       "      <td>QELNEPPKQSTSFLV</td>\n",
       "      <td>EILESEEKGDPNKPS</td>\n",
       "      <td>sp|O00151|PDLI1_HUMAN</td>\n",
       "      <td>QELNEPPKQSTSFLVLQEILESEEKGDPNK</td>\n",
       "      <td>0</td>\n",
       "    </tr>\n",
       "  </tbody>\n",
       "</table>\n",
       "</div>"
      ],
      "text/plain": [
       "                              peptide               En               Ec  \\\n",
       "0  K.QELNEPPKQSTSFLVLQEILESEEKGDPNK.P  VYKMLQEKQELNEPP  EEKGDPNKPSGFRSV   \n",
       "\n",
       "                E1               E2                protein  \\\n",
       "0  QELNEPPKQSTSFLV  EILESEEKGDPNKPS  sp|O00151|PDLI1_HUMAN   \n",
       "\n",
       "                              PEP  ID  \n",
       "0  QELNEPPKQSTSFLVLQEILESEEKGDPNK   0  "
      ]
     },
     "execution_count": 60,
     "metadata": {},
     "output_type": "execute_result"
    }
   ],
   "source": [
    "df.head(1)"
   ]
  },
  {
   "cell_type": "code",
   "execution_count": 61,
   "metadata": {
    "ExecuteTime": {
     "end_time": "2021-11-28T23:05:33.175160Z",
     "start_time": "2021-11-28T23:05:32.335360Z"
    }
   },
   "outputs": [],
   "source": [
    "w = open('../data/ProtStructureEmbedding_emb_esm1b/fasta/En.fasta', 'w')\n",
    "for idx, p in zip(df.index, df.En.values):\n",
    "    w.write('>'+str(idx)+'\\n')\n",
    "    w.write(p+'\\n')"
   ]
  },
  {
   "cell_type": "code",
   "execution_count": 62,
   "metadata": {
    "ExecuteTime": {
     "end_time": "2021-11-28T23:05:37.726914Z",
     "start_time": "2021-11-28T23:05:36.973760Z"
    }
   },
   "outputs": [],
   "source": [
    "w = open('../data/ProtStructureEmbedding_emb_esm1b/fasta/Ec.fasta', 'w')\n",
    "for idx, p in zip(df.index, df.Ec.values):\n",
    "    w.write('>'+str(idx)+'\\n')\n",
    "    w.write(p+'\\n')"
   ]
  },
  {
   "cell_type": "code",
   "execution_count": 63,
   "metadata": {
    "ExecuteTime": {
     "end_time": "2021-11-28T23:05:37.726914Z",
     "start_time": "2021-11-28T23:05:36.973760Z"
    }
   },
   "outputs": [],
   "source": [
    "w = open('../data/ProtStructureEmbedding_emb_esm1b/fasta/E1.fasta', 'w')\n",
    "for idx, p in zip(df.index, df.E1.values):\n",
    "    w.write('>'+str(idx)+'\\n')\n",
    "    w.write(p+'\\n')"
   ]
  },
  {
   "cell_type": "code",
   "execution_count": 64,
   "metadata": {
    "ExecuteTime": {
     "end_time": "2021-11-28T23:05:37.726914Z",
     "start_time": "2021-11-28T23:05:36.973760Z"
    }
   },
   "outputs": [],
   "source": [
    "w = open('../data/ProtStructureEmbedding_emb_esm1b/fasta/E2.fasta', 'w')\n",
    "for idx, p in zip(df.index, df.E2.values):\n",
    "    w.write('>'+str(idx)+'\\n')\n",
    "    w.write(p+'\\n')"
   ]
  },
  {
   "cell_type": "code",
   "execution_count": 65,
   "metadata": {
    "ExecuteTime": {
     "end_time": "2021-11-28T23:05:38.604133Z",
     "start_time": "2021-11-28T23:05:37.728296Z"
    }
   },
   "outputs": [],
   "source": [
    "w = open('../data/ProtStructureEmbedding_emb_esm1b/fasta/PEP.fasta', 'w')\n",
    "for idx, p in zip(df.index, df.PEP.values):\n",
    "    w.write('>'+str(idx)+'\\n')\n",
    "    w.write(p+'\\n')"
   ]
  },
  {
   "cell_type": "code",
   "execution_count": 134,
   "metadata": {
    "ExecuteTime": {
     "end_time": "2021-12-02T20:55:06.159078Z",
     "start_time": "2021-12-02T20:52:41.659418Z"
    }
   },
   "outputs": [],
   "source": [
    "label_path = '/data/211129_SJH_ESM/ProtStructureEmbedding_emb_esm1b/LABEL/'\n",
    "for idx, lab in zip(df.index, df.ID.values):\n",
    "    open(label_path+str(idx), 'w').write(str(lab))"
   ]
  },
  {
   "cell_type": "markdown",
   "metadata": {},
   "source": [
    "# numpy"
   ]
  },
  {
   "cell_type": "code",
   "execution_count": 69,
   "metadata": {
    "ExecuteTime": {
     "end_time": "2021-12-02T18:51:38.477091Z",
     "start_time": "2021-12-02T18:51:38.366721Z"
    }
   },
   "outputs": [],
   "source": [
    "import sys\n",
    "PATH_TO_REPO = \"/home/bis/2021_AIhub/esm/\"\n",
    "sys.path.append(PATH_TO_REPO)\n",
    "\n",
    "import torch\n",
    "import esm"
   ]
  },
  {
   "cell_type": "code",
   "execution_count": 70,
   "metadata": {
    "ExecuteTime": {
     "end_time": "2021-12-02T18:51:40.305216Z",
     "start_time": "2021-12-02T18:51:40.302456Z"
    }
   },
   "outputs": [],
   "source": [
    "FASTA_PATH = '/data/211129_SJH_ESM/ProtStructureEmbedding_emb_esm1b/fasta/PEP.fasta'\n",
    "EMB_PATH = '/data/211129_SJH_ESM/ProtStructureEmbedding_emb_esm1b/PEP/'  # .pt (63GB -> zeropad:140GB)\n",
    "EMB_LAYER = 33"
   ]
  },
  {
   "cell_type": "code",
   "execution_count": 139,
   "metadata": {
    "ExecuteTime": {
     "end_time": "2021-12-02T22:45:29.748632Z",
     "start_time": "2021-12-02T22:45:29.741692Z"
    }
   },
   "outputs": [
    {
     "name": "stdout",
     "output_type": "stream",
     "text": [
      "0\n",
      "1\n"
     ]
    }
   ],
   "source": [
    "aa2vec = dict()\n",
    "for header, seq in esm.data.read_fasta(FASTA_PATH):\n",
    "    idx = header.split('>')[1]\n",
    "    print(idx)\n",
    "    if idx == str(1):\n",
    "        break\n",
    "    fn = f'{EMB_PATH}{idx}.pt'\n",
    "    embs = torch.load(fn)['representations'][EMB_LAYER]\n",
    "    \n",
    "    # zero padding on top\n",
    "    zp = torch.nn.ZeroPad2d((0, 0, 30-len(embs), 0))\n",
    "    embs_pad = zp(embs).numpy()\n",
    "    aa2vec[idx] = embs_pad"
   ]
  },
  {
   "cell_type": "code",
   "execution_count": 140,
   "metadata": {
    "ExecuteTime": {
     "end_time": "2021-12-02T22:45:30.385619Z",
     "start_time": "2021-12-02T22:45:30.381875Z"
    }
   },
   "outputs": [
    {
     "data": {
      "text/plain": [
       "{'0': array([[ 0.08528218,  0.15698674, -0.00476043, ..., -0.28082493,\n",
       "         -0.17248774, -0.25759438],\n",
       "        [ 0.2589074 , -0.02770338,  0.04186126, ..., -0.37686828,\n",
       "          0.01822023,  0.09063172],\n",
       "        [ 0.10234036,  0.10289276, -0.14009404, ..., -0.1643274 ,\n",
       "         -0.02725955,  0.14206922],\n",
       "        ...,\n",
       "        [ 0.07254714,  0.11588723, -0.08704348, ..., -0.13625613,\n",
       "          0.05028485,  0.0671237 ],\n",
       "        [ 0.22895892,  0.04845764,  0.06295758, ..., -0.14954534,\n",
       "         -0.0281459 ,  0.10974251],\n",
       "        [ 0.23911606, -0.11963475,  0.03793335, ..., -0.09492811,\n",
       "          0.21702647,  0.11332861]], dtype=float32)}"
      ]
     },
     "execution_count": 140,
     "metadata": {},
     "output_type": "execute_result"
    }
   ],
   "source": [
    "aa2vec"
   ]
  },
  {
   "cell_type": "code",
   "execution_count": 141,
   "metadata": {
    "ExecuteTime": {
     "end_time": "2021-12-02T22:45:58.841133Z",
     "start_time": "2021-12-02T22:45:58.837853Z"
    }
   },
   "outputs": [
    {
     "data": {
      "text/plain": [
       "RangeIndex(start=0, stop=813388, step=1)"
      ]
     },
     "execution_count": 141,
     "metadata": {},
     "output_type": "execute_result"
    }
   ],
   "source": [
    "df.index"
   ]
  },
  {
   "cell_type": "code",
   "execution_count": 146,
   "metadata": {
    "ExecuteTime": {
     "end_time": "2021-12-02T22:55:35.319709Z",
     "start_time": "2021-12-02T22:55:10.494365Z"
    }
   },
   "outputs": [
    {
     "name": "stdout",
     "output_type": "stream",
     "text": [
      "1000 7.73 sec\r"
     ]
    },
    {
     "ename": "KeyboardInterrupt",
     "evalue": "",
     "output_type": "error",
     "traceback": [
      "\u001b[0;31m---------------------------------------------------------------------------\u001b[0m",
      "\u001b[0;31mKeyboardInterrupt\u001b[0m                         Traceback (most recent call last)",
      "\u001b[0;32m<ipython-input-146-5a0ea15e2c05>\u001b[0m in \u001b[0;36m<module>\u001b[0;34m\u001b[0m\n\u001b[1;32m     41\u001b[0m     \u001b[0mnp\u001b[0m\u001b[0;34m.\u001b[0m\u001b[0msave\u001b[0m\u001b[0;34m(\u001b[0m\u001b[0;34mf'{pep_path_save}{id_name_save}'\u001b[0m\u001b[0;34m,\u001b[0m \u001b[0mpep_embed\u001b[0m\u001b[0;34m)\u001b[0m\u001b[0;34m\u001b[0m\u001b[0;34m\u001b[0m\u001b[0m\n\u001b[1;32m     42\u001b[0m     \u001b[0mnp\u001b[0m\u001b[0;34m.\u001b[0m\u001b[0msave\u001b[0m\u001b[0;34m(\u001b[0m\u001b[0;34mf'{en_path_save}{id_name_save}'\u001b[0m\u001b[0;34m,\u001b[0m \u001b[0men_embed\u001b[0m\u001b[0;34m)\u001b[0m\u001b[0;34m\u001b[0m\u001b[0;34m\u001b[0m\u001b[0m\n\u001b[0;32m---> 43\u001b[0;31m     \u001b[0mnp\u001b[0m\u001b[0;34m.\u001b[0m\u001b[0msave\u001b[0m\u001b[0;34m(\u001b[0m\u001b[0;34mf'{ec_path_save}{id_name_save}'\u001b[0m\u001b[0;34m,\u001b[0m \u001b[0mec_embed\u001b[0m\u001b[0;34m)\u001b[0m\u001b[0;34m\u001b[0m\u001b[0;34m\u001b[0m\u001b[0m\n\u001b[0m\u001b[1;32m     44\u001b[0m     \u001b[0mnp\u001b[0m\u001b[0;34m.\u001b[0m\u001b[0msave\u001b[0m\u001b[0;34m(\u001b[0m\u001b[0;34mf'{m1_path_save}{id_name_save}'\u001b[0m\u001b[0;34m,\u001b[0m \u001b[0mm1_embed\u001b[0m\u001b[0;34m)\u001b[0m\u001b[0;34m\u001b[0m\u001b[0;34m\u001b[0m\u001b[0m\n\u001b[1;32m     45\u001b[0m     \u001b[0mnp\u001b[0m\u001b[0;34m.\u001b[0m\u001b[0msave\u001b[0m\u001b[0;34m(\u001b[0m\u001b[0;34mf'{m2_path_save}{id_name_save}'\u001b[0m\u001b[0;34m,\u001b[0m \u001b[0mm2_embed\u001b[0m\u001b[0;34m)\u001b[0m\u001b[0;34m\u001b[0m\u001b[0;34m\u001b[0m\u001b[0m\n",
      "\u001b[0;32m<__array_function__ internals>\u001b[0m in \u001b[0;36msave\u001b[0;34m(*args, **kwargs)\u001b[0m\n",
      "\u001b[0;32m~/miniconda3/envs/ProtEmbedding/lib/python3.6/site-packages/numpy/lib/npyio.py\u001b[0m in \u001b[0;36msave\u001b[0;34m(file, arr, allow_pickle, fix_imports)\u001b[0m\n\u001b[1;32m    527\u001b[0m         \u001b[0marr\u001b[0m \u001b[0;34m=\u001b[0m \u001b[0mnp\u001b[0m\u001b[0;34m.\u001b[0m\u001b[0masanyarray\u001b[0m\u001b[0;34m(\u001b[0m\u001b[0marr\u001b[0m\u001b[0;34m)\u001b[0m\u001b[0;34m\u001b[0m\u001b[0;34m\u001b[0m\u001b[0m\n\u001b[1;32m    528\u001b[0m         format.write_array(fid, arr, allow_pickle=allow_pickle,\n\u001b[0;32m--> 529\u001b[0;31m                            pickle_kwargs=dict(fix_imports=fix_imports))\n\u001b[0m\u001b[1;32m    530\u001b[0m \u001b[0;34m\u001b[0m\u001b[0m\n\u001b[1;32m    531\u001b[0m \u001b[0;34m\u001b[0m\u001b[0m\n",
      "\u001b[0;31mKeyboardInterrupt\u001b[0m: "
     ]
    }
   ],
   "source": [
    "vecs_dir = '/data/211129_SJH_ESM/ProtStructureEmbedding_emb_esm1b/'\n",
    "EMB_LAYER = 33\n",
    "\n",
    "import time\n",
    "s= time.time()\n",
    "\n",
    "for idx, id_num in enumerate(df.index):\n",
    "    if idx % 1000 == 0:\n",
    "        print(idx, round(time.time()-s,2), 'sec', end='\\r')\n",
    "    pep_path = vecs_dir + 'PEP/'\n",
    "    en_path = vecs_dir + 'En/'\n",
    "    ec_path = vecs_dir + 'Ec/'\n",
    "    m1_path = vecs_dir + 'E1/'\n",
    "    m2_path = vecs_dir + 'E2/'\n",
    "\n",
    "    id_name = str(id_num) + '.pt'\n",
    "    pep_fn = f'{pep_path}{id_name}'  # vector 1개 경로\n",
    "    en_fn = f'{en_path}{id_name}'\n",
    "    ec_fn = f'{ec_path}{id_name}'\n",
    "    m1_fn = f'{m1_path}{id_name}'\n",
    "    m2_fn = f'{m2_path}{id_name}'\n",
    "\n",
    "    embs = torch.load(pep_fn)['representations'][EMB_LAYER]\n",
    "    pep_zp = torch.nn.ZeroPad2d((0, 0, 30-len(embs), 0))  # zero padding on top\n",
    "    pep_embed = pep_zp(embs).numpy()\n",
    "    en_embed = torch.load(en_fn)['representations'][EMB_LAYER].numpy()\n",
    "    ec_embed = torch.load(ec_fn)['representations'][EMB_LAYER].numpy()\n",
    "    m1_embed = torch.load(m1_fn)['representations'][EMB_LAYER].numpy()\n",
    "    if len(m1_embed)==1:\n",
    "        m1_embed = np.zeros((15, 1280))\n",
    "    m2_embed = torch.load(m2_fn)['representations'][EMB_LAYER].numpy()\n",
    "    if len(m2_embed)==1:\n",
    "        m2_embed = np.zeros((15, 1280))\n",
    "\n",
    "    id_name_save = str(id_num) + '.npy'\n",
    "    pep_path_save = vecs_dir + 'PEPnpy/'\n",
    "    en_path_save = vecs_dir + 'Ennpy/'\n",
    "    ec_path_save = vecs_dir + 'Ecnpy/'\n",
    "    m1_path_save = vecs_dir + 'E1npy/'\n",
    "    m2_path_save = vecs_dir + 'E2npy/'\n",
    "    np.save(f'{pep_path_save}{id_name_save}', pep_embed)\n",
    "    np.save(f'{en_path_save}{id_name_save}', en_embed)\n",
    "    np.save(f'{ec_path_save}{id_name_save}', ec_embed)\n",
    "    np.save(f'{m1_path_save}{id_name_save}', m1_embed)\n",
    "    np.save(f'{m2_path_save}{id_name_save}', m2_embed)"
   ]
  },
  {
   "cell_type": "code",
   "execution_count": 147,
   "metadata": {
    "ExecuteTime": {
     "end_time": "2021-12-02T22:55:36.952937Z",
     "start_time": "2021-12-02T22:55:36.949252Z"
    }
   },
   "outputs": [
    {
     "data": {
      "text/plain": [
       "1.746524788888889"
      ]
     },
     "execution_count": 147,
     "metadata": {},
     "output_type": "execute_result"
    }
   ],
   "source": [
    "7.73*(len(df)/1000)/3600"
   ]
  }
 ],
 "metadata": {
  "kernelspec": {
   "display_name": "ProtEmbedding",
   "language": "python",
   "name": "protembedding"
  },
  "language_info": {
   "codemirror_mode": {
    "name": "ipython",
    "version": 3
   },
   "file_extension": ".py",
   "mimetype": "text/x-python",
   "name": "python",
   "nbconvert_exporter": "python",
   "pygments_lexer": "ipython3",
   "version": "3.6.13"
  }
 },
 "nbformat": 4,
 "nbformat_minor": 4
}
