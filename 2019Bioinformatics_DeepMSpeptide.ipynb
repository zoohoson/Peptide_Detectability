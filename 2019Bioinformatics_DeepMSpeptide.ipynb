{
 "cells": [
  {
   "cell_type": "code",
   "execution_count": 1,
   "metadata": {
    "ExecuteTime": {
     "end_time": "2021-08-30T18:22:26.039977Z",
     "start_time": "2021-08-30T18:22:24.541486Z"
    }
   },
   "outputs": [],
   "source": [
    "import warnings\n",
    "warnings.simplefilter(action='ignore', category=FutureWarning)\n",
    "\n",
    "import argparse\n",
    "import numpy as np\n",
    "import tensorflow as tf\n",
    "from tensorflow import keras"
   ]
  },
  {
   "cell_type": "code",
   "execution_count": 2,
   "metadata": {
    "ExecuteTime": {
     "end_time": "2021-08-30T18:22:26.284145Z",
     "start_time": "2021-08-30T18:22:26.278277Z"
    }
   },
   "outputs": [],
   "source": [
    "def load_pep_and_codify(file, max_len):\n",
    "    aa_dict={'A':1,'R':2,'N':3,'D':4,'C':5,'Q':6,'E':7,'G':8,'H':9,'I':10,'L':11,'K':12,'M':13,'F':14,\n",
    "        'P':15,'O':16,'S':17,'U':18,'T':19,'W':20,'Y':21,'V':22}\n",
    "    with open(file, 'r') as inf:\n",
    "        lines = inf.read().splitlines()\n",
    "    pep_codes=[]\n",
    "    long_pep_counter = 0\n",
    "    newLines = []\n",
    "    for pep in lines:\n",
    "        if not len(pep) > max_len:\n",
    "            current_pep=[]\n",
    "            for aa in pep:\n",
    "                current_pep.append(aa_dict[aa])\n",
    "            pep_codes.append(current_pep)\n",
    "            newLines.extend([pep])\n",
    "        else:\n",
    "            long_pep_counter += 1\n",
    "    predict_data = keras.preprocessing.sequence.pad_sequences(pep_codes, value=0, padding='post', maxlen=max_len)\n",
    "    return predict_data, long_pep_counter, newLines"
   ]
  },
  {
   "cell_type": "code",
   "execution_count": 3,
   "metadata": {
    "ExecuteTime": {
     "end_time": "2021-08-30T18:22:32.369547Z",
     "start_time": "2021-08-30T18:22:28.934091Z"
    }
   },
   "outputs": [
    {
     "name": "stdout",
     "output_type": "stream",
     "text": [
      "Loading model...\n",
      "WARNING:tensorflow:From /home/bis/miniconda3/envs/TF1.14/lib/python3.6/site-packages/tensorflow/python/keras/initializers.py:119: calling RandomUniform.__init__ (from tensorflow.python.ops.init_ops) with dtype is deprecated and will be removed in a future version.\n",
      "Instructions for updating:\n",
      "Call initializer instance with the dtype argument instead of passing it to the constructor\n",
      "WARNING:tensorflow:From /home/bis/miniconda3/envs/TF1.14/lib/python3.6/site-packages/tensorflow/python/ops/init_ops.py:97: calling GlorotUniform.__init__ (from tensorflow.python.ops.init_ops) with dtype is deprecated and will be removed in a future version.\n",
      "Instructions for updating:\n",
      "Call initializer instance with the dtype argument instead of passing it to the constructor\n",
      "WARNING:tensorflow:From /home/bis/miniconda3/envs/TF1.14/lib/python3.6/site-packages/tensorflow/python/ops/init_ops.py:1251: calling VarianceScaling.__init__ (from tensorflow.python.ops.init_ops) with dtype is deprecated and will be removed in a future version.\n",
      "Instructions for updating:\n",
      "Call initializer instance with the dtype argument instead of passing it to the constructor\n",
      "WARNING:tensorflow:From /home/bis/miniconda3/envs/TF1.14/lib/python3.6/site-packages/tensorflow/python/ops/init_ops.py:97: calling Zeros.__init__ (from tensorflow.python.ops.init_ops) with dtype is deprecated and will be removed in a future version.\n",
      "Instructions for updating:\n",
      "Call initializer instance with the dtype argument instead of passing it to the constructor\n",
      "WARNING:tensorflow:From /home/bis/miniconda3/envs/TF1.14/lib/python3.6/site-packages/tensorflow/python/ops/nn_impl.py:180: add_dispatch_support.<locals>.wrapper (from tensorflow.python.ops.array_ops) is deprecated and will be removed in a future version.\n",
      "Instructions for updating:\n",
      "Use tf.where in 2.0, which has the same broadcast rule as np.where\n",
      "WARNING:tensorflow:Error in loading the saved optimizer state. As a result, your model is starting with a freshly initialized optimizer.\n",
      "Model: \"sequential_1\"\n",
      "_________________________________________________________________\n",
      "Layer (type)                 Output Shape              Param #   \n",
      "=================================================================\n",
      "embedding_1 (Embedding)      (None, 81, 50)            1150      \n",
      "_________________________________________________________________\n",
      "dropout_2 (Dropout)          (None, 81, 50)            0         \n",
      "_________________________________________________________________\n",
      "conv1d_1 (Conv1D)            (None, 81, 128)           19328     \n",
      "_________________________________________________________________\n",
      "conv1d_2 (Conv1D)            (None, 80, 64)            16448     \n",
      "_________________________________________________________________\n",
      "global_max_pooling1d_1 (Glob (None, 64)                0         \n",
      "_________________________________________________________________\n",
      "dense_2 (Dense)              (None, 64)                4160      \n",
      "_________________________________________________________________\n",
      "dropout_3 (Dropout)          (None, 64)                0         \n",
      "_________________________________________________________________\n",
      "activation_2 (Activation)    (None, 64)                0         \n",
      "_________________________________________________________________\n",
      "dense_3 (Dense)              (None, 1)                 65        \n",
      "_________________________________________________________________\n",
      "activation_3 (Activation)    (None, 1)                 0         \n",
      "=================================================================\n",
      "Total params: 41,151\n",
      "Trainable params: 41,151\n",
      "Non-trainable params: 0\n",
      "_________________________________________________________________\n",
      "None\n",
      "Loading input peptides\n",
      "Succesfully loaded 24997 peptides and skipped 0\n",
      "Making predictions\n",
      "Saving predictions to file compareModel/2019Bioinformatics_DeepMSPeptide/DeepMSPeptide/inputExample_Predictions.txt\n"
     ]
    }
   ],
   "source": [
    "file_path = 'compareModel/2019Bioinformatics_DeepMSPeptide/DeepMSPeptide/'\n",
    "args = file_path + 'inputExample.txt'\n",
    "\n",
    "print('Loading model...')\n",
    "model_2_1D = keras.models.load_model(file_path + 'model_2_1D.h5')\n",
    "print(model_2_1D.summary())\n",
    "\n",
    "print('Loading input peptides')\n",
    "predict_data, skipped, lines = load_pep_and_codify(args, 81)\n",
    "print('Succesfully loaded {0} peptides and skipped {1}'.format(len(lines), str(skipped)))\n",
    "\n",
    "print('Making predictions')\n",
    "model_2_1D_pred = model_2_1D.predict(predict_data)\n",
    "model_2_1D_pred = np.hstack((np.array(lines).reshape(len(lines), 1),model_2_1D_pred)).tolist()\n",
    "\n",
    "Pred_output = []\n",
    "for pred in model_2_1D_pred:\n",
    "    if float(pred[1]) > 0.5:\n",
    "        # pred.extend('0')\n",
    "        Pred_output.append([pred[0], str(1-float(pred[1])), '0'])\n",
    "    else:\n",
    "        Pred_output.append([pred[0], str(1-float(pred[1])), '1'])\n",
    "        # pred.extend('1')\n",
    "\n",
    "outFile = '{0}_Predictions.txt'.format(args.split('.')[0])\n",
    "print('Saving predictions to file {}'.format(outFile))\n",
    "with open(outFile, 'w') as outf:\n",
    "    outf.write('Peptide\\tProb\\tDetectability\\n')\n",
    "    outf.writelines('\\t'.join(i) + '\\n' for i in Pred_output)"
   ]
  },
  {
   "cell_type": "markdown",
   "metadata": {},
   "source": [
    "# New Train"
   ]
  },
  {
   "cell_type": "code",
   "execution_count": 5,
   "metadata": {
    "ExecuteTime": {
     "end_time": "2021-08-30T18:22:43.287467Z",
     "start_time": "2021-08-30T18:22:43.133939Z"
    }
   },
   "outputs": [
    {
     "name": "stdout",
     "output_type": "stream",
     "text": [
      "Model: \"sequential\"\n",
      "_________________________________________________________________\n",
      "Layer (type)                 Output Shape              Param #   \n",
      "=================================================================\n",
      "embedding (Embedding)        (None, 30, 50)            1150      \n",
      "_________________________________________________________________\n",
      "dropout (Dropout)            (None, 30, 50)            0         \n",
      "_________________________________________________________________\n",
      "conv1d (Conv1D)              (None, 30, 128)           19328     \n",
      "_________________________________________________________________\n",
      "conv1d_1 (Conv1D)            (None, 29, 64)            16448     \n",
      "_________________________________________________________________\n",
      "global_max_pooling1d (Global (None, 64)                0         \n",
      "_________________________________________________________________\n",
      "dense (Dense)                (None, 64)                4160      \n",
      "_________________________________________________________________\n",
      "dropout_1 (Dropout)          (None, 64)                0         \n",
      "_________________________________________________________________\n",
      "dense_1 (Dense)              (None, 1)                 65        \n",
      "=================================================================\n",
      "Total params: 41,151\n",
      "Trainable params: 41,151\n",
      "Non-trainable params: 0\n",
      "_________________________________________________________________\n"
     ]
    }
   ],
   "source": [
    "model = tf.keras.Sequential([\n",
    "    # vacabulary size 23 (22 AminoAcid + zero padding)\n",
    "    # embedding vector size 50\n",
    "    # input length (including padding) 30 ( 81 to 30)\n",
    "    tf.keras.layers.Embedding(23, 50, input_length=30),\n",
    "    tf.keras.layers.Dropout(np.random.uniform(0, 0.2)),\n",
    "    tf.keras.layers.Conv1D(filters=128, kernel_size=3, strides=1, padding='same'),\n",
    "    tf.keras.layers.Conv1D(filters=64, kernel_size=2, strides=1),\n",
    "    tf.keras.layers.GlobalMaxPooling1D(),\n",
    "    tf.keras.layers.Dense(64),\n",
    "    tf.keras.layers.Dropout(np.random.uniform(0, 0.2)),\n",
    "    tf.keras.layers.Dense(1, activation='sigmoid')\n",
    "])\n",
    "model.summary()\n",
    "\n",
    "model.compile(loss=tf.keras.losses.BinaryCrossentropy(from_logits=True),\n",
    "              optimizer=tf.keras.optimizers.Adam(1e-5),\n",
    "              metrics=['accuracy'])\n",
    "\n",
    "es = tf.keras.callbacks.EarlyStopping(monitor='val_loss', mode='min', verbose=1, patience=50)"
   ]
  },
  {
   "cell_type": "markdown",
   "metadata": {},
   "source": [
    "# 1. Make Data X_train, y_train, X_test, y_test"
   ]
  },
  {
   "cell_type": "code",
   "execution_count": 11,
   "metadata": {
    "ExecuteTime": {
     "end_time": "2021-08-30T19:36:57.090837Z",
     "start_time": "2021-08-30T19:36:56.899414Z"
    }
   },
   "outputs": [],
   "source": [
    "import matplotlib.pyplot as plt\n",
    "import pandas as pd\n",
    "from sklearn.model_selection import train_test_split\n",
    "\n",
    "file_path = 'compareModel/2019Bioinformatics_DeepMSPeptide/DeepMSPeptide/'"
   ]
  },
  {
   "cell_type": "code",
   "execution_count": 7,
   "metadata": {
    "ExecuteTime": {
     "end_time": "2021-08-30T18:22:51.509832Z",
     "start_time": "2021-08-30T18:22:47.581872Z"
    }
   },
   "outputs": [
    {
     "name": "stdout",
     "output_type": "stream",
     "text": [
      "Loading input peptides\n",
      "Succesfully loaded 269190 peptides and skipped 0\n",
      "Loading input peptides\n",
      "Succesfully loaded 67298 peptides and skipped 0\n",
      "(215352, 30) (53838, 30) (67298, 30) (215352,) (53838,) (67298,)\n"
     ]
    }
   ],
   "source": [
    "# make DeepMSpeptide format\n",
    "df_peptide_train = pd.read_csv('data/df_detect_peptide_train.csv')\n",
    "df_peptide_test = pd.read_csv('data/df_detect_peptide_test.csv')\n",
    "\n",
    "inp = open(file_path+'detect_peptide_train.txt', 'w')\n",
    "inp_y = open(file_path+'detect_peptide_train_y.txt', 'w')\n",
    "for x, y in df_peptide_train[['PEP', 'ID']].values:\n",
    "    inp.write(x+'\\n')\n",
    "    inp_y.write(str(y)+'\\n')\n",
    "inp.close()\n",
    "inp_y.close()\n",
    "\n",
    "inp = open(file_path+'detect_peptide_test.txt', 'w')\n",
    "inp_y = open(file_path+'detect_peptide_test_y.txt', 'w')\n",
    "for x, y in df_peptide_test[['PEP', 'ID']].values:\n",
    "    inp.write(x+'\\n')\n",
    "    inp_y.write(str(y)+'\\n')\n",
    "inp.close()\n",
    "inp_y.close()\n",
    "\n",
    "args = file_path + 'detect_peptide_train.txt'\n",
    "print('Loading input peptides')\n",
    "X_train, skipped, lines = load_pep_and_codify(args, 30)\n",
    "tmp = open(file_path+'detect_peptide_train_y.txt')\n",
    "y_train = np.array([int(_.replace('\\n', '')) for _ in tmp.readlines()])\n",
    "tmp.close()\n",
    "print('Succesfully loaded {0} peptides and skipped {1}'.format(len(lines), str(skipped)))\n",
    "\n",
    "args = file_path + 'detect_peptide_test.txt'\n",
    "print('Loading input peptides')\n",
    "X_test, skipped, lines = load_pep_and_codify(args, 30)\n",
    "tmp = open(file_path+'detect_peptide_test_y.txt')\n",
    "y_test = np.array([int(_.replace('\\n', '')) for _ in tmp.readlines()])\n",
    "tmp.close()\n",
    "print('Succesfully loaded {0} peptides and skipped {1}'.format(len(lines), str(skipped)))\n",
    "\n",
    "X_train, X_val, y_train, y_val = train_test_split(X_train, y_train, test_size=0.2)\n",
    "print(X_train.shape, X_val.shape, X_test.shape, y_train.shape, y_val.shape, y_test.shape)"
   ]
  },
  {
   "cell_type": "markdown",
   "metadata": {},
   "source": [
    "# 2. train"
   ]
  },
  {
   "cell_type": "code",
   "execution_count": 4,
   "metadata": {
    "ExecuteTime": {
     "end_time": "2021-08-30T18:22:42.761645Z",
     "start_time": "2021-08-30T18:22:42.757745Z"
    }
   },
   "outputs": [],
   "source": [
    "def plot_graphs(history, metric):\n",
    "    plt.plot(history.history[metric])\n",
    "    plt.plot(history.history['val_'+metric], '')\n",
    "    plt.xlabel(\"Epochs\")\n",
    "    plt.ylabel(metric)\n",
    "    plt.legend([metric, 'val_'+metric])"
   ]
  },
  {
   "cell_type": "code",
   "execution_count": 8,
   "metadata": {
    "ExecuteTime": {
     "end_time": "2021-08-30T19:31:53.766135Z",
     "start_time": "2021-08-30T18:22:56.558239Z"
    }
   },
   "outputs": [
    {
     "name": "stdout",
     "output_type": "stream",
     "text": [
      "Train on 215352 samples, validate on 53838 samples\n",
      "Epoch 1/200\n",
      "215352/215352 [==============================] - 21s 99us/sample - loss: 0.7007 - acc: 0.4996 - val_loss: 0.6932 - val_acc: 0.5004\n",
      "Epoch 2/200\n",
      "215352/215352 [==============================] - 20s 95us/sample - loss: 0.6859 - acc: 0.5115 - val_loss: 0.6552 - val_acc: 0.6812\n",
      "Epoch 3/200\n",
      "215352/215352 [==============================] - 21s 96us/sample - loss: 0.6298 - acc: 0.7210 - val_loss: 0.6184 - val_acc: 0.7387\n",
      "Epoch 4/200\n",
      "215352/215352 [==============================] - 21s 95us/sample - loss: 0.6179 - acc: 0.7445 - val_loss: 0.6146 - val_acc: 0.7492\n",
      "Epoch 5/200\n",
      "215352/215352 [==============================] - 21s 95us/sample - loss: 0.6157 - acc: 0.7517 - val_loss: 0.6130 - val_acc: 0.7546\n",
      "Epoch 6/200\n",
      "215352/215352 [==============================] - 21s 96us/sample - loss: 0.6145 - acc: 0.7560 - val_loss: 0.6121 - val_acc: 0.7569\n",
      "Epoch 7/200\n",
      "215352/215352 [==============================] - 21s 95us/sample - loss: 0.6137 - acc: 0.7593 - val_loss: 0.6113 - val_acc: 0.7601\n",
      "Epoch 8/200\n",
      "215352/215352 [==============================] - 21s 96us/sample - loss: 0.6130 - acc: 0.7617 - val_loss: 0.6109 - val_acc: 0.7605\n",
      "Epoch 9/200\n",
      "215352/215352 [==============================] - 21s 96us/sample - loss: 0.6126 - acc: 0.7633 - val_loss: 0.6102 - val_acc: 0.7635\n",
      "Epoch 10/200\n",
      "215352/215352 [==============================] - 21s 96us/sample - loss: 0.6120 - acc: 0.7651 - val_loss: 0.6098 - val_acc: 0.7652\n",
      "Epoch 11/200\n",
      "215352/215352 [==============================] - 20s 95us/sample - loss: 0.6118 - acc: 0.7659 - val_loss: 0.6093 - val_acc: 0.7674\n",
      "Epoch 12/200\n",
      "215352/215352 [==============================] - 21s 95us/sample - loss: 0.6114 - acc: 0.7673 - val_loss: 0.6091 - val_acc: 0.7682\n",
      "Epoch 13/200\n",
      "215352/215352 [==============================] - 21s 95us/sample - loss: 0.6110 - acc: 0.7687 - val_loss: 0.6088 - val_acc: 0.7701\n",
      "Epoch 14/200\n",
      "215352/215352 [==============================] - 20s 95us/sample - loss: 0.6110 - acc: 0.7688 - val_loss: 0.6089 - val_acc: 0.7686\n",
      "Epoch 15/200\n",
      "215352/215352 [==============================] - 21s 95us/sample - loss: 0.6107 - acc: 0.7696 - val_loss: 0.6086 - val_acc: 0.7707\n",
      "Epoch 16/200\n",
      "215352/215352 [==============================] - 20s 95us/sample - loss: 0.6106 - acc: 0.7700 - val_loss: 0.6084 - val_acc: 0.7718\n",
      "Epoch 17/200\n",
      "215352/215352 [==============================] - 21s 96us/sample - loss: 0.6105 - acc: 0.7704 - val_loss: 0.6082 - val_acc: 0.7727\n",
      "Epoch 18/200\n",
      "215352/215352 [==============================] - 21s 96us/sample - loss: 0.6103 - acc: 0.7713 - val_loss: 0.6084 - val_acc: 0.7702\n",
      "Epoch 19/200\n",
      "215352/215352 [==============================] - 21s 96us/sample - loss: 0.6100 - acc: 0.7720 - val_loss: 0.6078 - val_acc: 0.7758\n",
      "Epoch 20/200\n",
      "215352/215352 [==============================] - 21s 96us/sample - loss: 0.6100 - acc: 0.7725 - val_loss: 0.6080 - val_acc: 0.7736\n",
      "Epoch 21/200\n",
      "215352/215352 [==============================] - 21s 96us/sample - loss: 0.6097 - acc: 0.7728 - val_loss: 0.6078 - val_acc: 0.7745\n",
      "Epoch 22/200\n",
      "215352/215352 [==============================] - 21s 96us/sample - loss: 0.6095 - acc: 0.7736 - val_loss: 0.6079 - val_acc: 0.7725\n",
      "Epoch 23/200\n",
      "215352/215352 [==============================] - 21s 96us/sample - loss: 0.6094 - acc: 0.7741 - val_loss: 0.6079 - val_acc: 0.7725\n",
      "Epoch 24/200\n",
      "215352/215352 [==============================] - 21s 96us/sample - loss: 0.6094 - acc: 0.7732 - val_loss: 0.6077 - val_acc: 0.7734\n",
      "Epoch 25/200\n",
      "215352/215352 [==============================] - 21s 96us/sample - loss: 0.6092 - acc: 0.7746 - val_loss: 0.6074 - val_acc: 0.7765\n",
      "Epoch 26/200\n",
      "215352/215352 [==============================] - 21s 96us/sample - loss: 0.6089 - acc: 0.7747 - val_loss: 0.6073 - val_acc: 0.7764\n",
      "Epoch 27/200\n",
      "215352/215352 [==============================] - 21s 96us/sample - loss: 0.6091 - acc: 0.7744 - val_loss: 0.6072 - val_acc: 0.7765\n",
      "Epoch 28/200\n",
      "215352/215352 [==============================] - 21s 96us/sample - loss: 0.6089 - acc: 0.7753 - val_loss: 0.6071 - val_acc: 0.7777\n",
      "Epoch 29/200\n",
      "215352/215352 [==============================] - 21s 96us/sample - loss: 0.6088 - acc: 0.7753 - val_loss: 0.6070 - val_acc: 0.7775\n",
      "Epoch 30/200\n",
      "215352/215352 [==============================] - 21s 96us/sample - loss: 0.6089 - acc: 0.7753 - val_loss: 0.6070 - val_acc: 0.7767\n",
      "Epoch 31/200\n",
      "215352/215352 [==============================] - 21s 95us/sample - loss: 0.6085 - acc: 0.7758 - val_loss: 0.6069 - val_acc: 0.7766\n",
      "Epoch 32/200\n",
      "215352/215352 [==============================] - 21s 96us/sample - loss: 0.6087 - acc: 0.7754 - val_loss: 0.6068 - val_acc: 0.7771\n",
      "Epoch 33/200\n",
      "215352/215352 [==============================] - 21s 95us/sample - loss: 0.6083 - acc: 0.7761 - val_loss: 0.6067 - val_acc: 0.7777\n",
      "Epoch 34/200\n",
      "215352/215352 [==============================] - 21s 96us/sample - loss: 0.6082 - acc: 0.7758 - val_loss: 0.6067 - val_acc: 0.7774\n",
      "Epoch 35/200\n",
      "215352/215352 [==============================] - 21s 96us/sample - loss: 0.6082 - acc: 0.7766 - val_loss: 0.6066 - val_acc: 0.7780\n",
      "Epoch 36/200\n",
      "215352/215352 [==============================] - 21s 96us/sample - loss: 0.6079 - acc: 0.7774 - val_loss: 0.6065 - val_acc: 0.7782\n",
      "Epoch 37/200\n",
      "215352/215352 [==============================] - 21s 96us/sample - loss: 0.6079 - acc: 0.7776 - val_loss: 0.6066 - val_acc: 0.7763\n",
      "Epoch 38/200\n",
      "215352/215352 [==============================] - 21s 96us/sample - loss: 0.6080 - acc: 0.7766 - val_loss: 0.6063 - val_acc: 0.7787\n",
      "Epoch 39/200\n",
      "215352/215352 [==============================] - 21s 96us/sample - loss: 0.6080 - acc: 0.7771 - val_loss: 0.6063 - val_acc: 0.7786\n",
      "Epoch 40/200\n",
      "215352/215352 [==============================] - 21s 96us/sample - loss: 0.6078 - acc: 0.7772 - val_loss: 0.6063 - val_acc: 0.7781\n",
      "Epoch 41/200\n",
      "215352/215352 [==============================] - 21s 95us/sample - loss: 0.6078 - acc: 0.7773 - val_loss: 0.6063 - val_acc: 0.7768\n",
      "Epoch 42/200\n",
      "215352/215352 [==============================] - 21s 96us/sample - loss: 0.6076 - acc: 0.7773 - val_loss: 0.6061 - val_acc: 0.7792\n",
      "Epoch 43/200\n",
      "215352/215352 [==============================] - 21s 95us/sample - loss: 0.6075 - acc: 0.7780 - val_loss: 0.6061 - val_acc: 0.7783\n",
      "Epoch 44/200\n",
      "215352/215352 [==============================] - 21s 96us/sample - loss: 0.6075 - acc: 0.7781 - val_loss: 0.6060 - val_acc: 0.7800\n",
      "Epoch 45/200\n",
      "215352/215352 [==============================] - 21s 96us/sample - loss: 0.6073 - acc: 0.7785 - val_loss: 0.6059 - val_acc: 0.7795\n",
      "Epoch 46/200\n",
      "215352/215352 [==============================] - 21s 97us/sample - loss: 0.6073 - acc: 0.7785 - val_loss: 0.6059 - val_acc: 0.7799\n",
      "Epoch 47/200\n",
      "215352/215352 [==============================] - 21s 96us/sample - loss: 0.6074 - acc: 0.7781 - val_loss: 0.6059 - val_acc: 0.7784\n",
      "Epoch 48/200\n",
      "215352/215352 [==============================] - 21s 96us/sample - loss: 0.6073 - acc: 0.7786 - val_loss: 0.6058 - val_acc: 0.7797\n",
      "Epoch 49/200\n",
      "215352/215352 [==============================] - 21s 96us/sample - loss: 0.6070 - acc: 0.7793 - val_loss: 0.6059 - val_acc: 0.7779\n",
      "Epoch 50/200\n",
      "215352/215352 [==============================] - 21s 96us/sample - loss: 0.6071 - acc: 0.7785 - val_loss: 0.6057 - val_acc: 0.7805\n",
      "Epoch 51/200\n",
      "215352/215352 [==============================] - 21s 97us/sample - loss: 0.6072 - acc: 0.7786 - val_loss: 0.6057 - val_acc: 0.7793\n",
      "Epoch 52/200\n",
      "215352/215352 [==============================] - 21s 97us/sample - loss: 0.6069 - acc: 0.7791 - val_loss: 0.6057 - val_acc: 0.7783\n",
      "Epoch 53/200\n",
      "215352/215352 [==============================] - 21s 96us/sample - loss: 0.6068 - acc: 0.7794 - val_loss: 0.6057 - val_acc: 0.7787\n",
      "Epoch 54/200\n",
      "215352/215352 [==============================] - 21s 96us/sample - loss: 0.6069 - acc: 0.7790 - val_loss: 0.6056 - val_acc: 0.7792\n",
      "Epoch 55/200\n",
      "215352/215352 [==============================] - 21s 95us/sample - loss: 0.6068 - acc: 0.7798 - val_loss: 0.6055 - val_acc: 0.7800\n",
      "Epoch 56/200\n",
      "215352/215352 [==============================] - 21s 96us/sample - loss: 0.6066 - acc: 0.7800 - val_loss: 0.6056 - val_acc: 0.7784\n",
      "Epoch 57/200\n",
      "215352/215352 [==============================] - 21s 96us/sample - loss: 0.6066 - acc: 0.7799 - val_loss: 0.6053 - val_acc: 0.7812\n",
      "Epoch 58/200\n",
      "215352/215352 [==============================] - 21s 96us/sample - loss: 0.6067 - acc: 0.7800 - val_loss: 0.6053 - val_acc: 0.7812\n",
      "Epoch 59/200\n",
      "215352/215352 [==============================] - 21s 96us/sample - loss: 0.6067 - acc: 0.7797 - val_loss: 0.6053 - val_acc: 0.7800\n",
      "Epoch 60/200\n",
      "215352/215352 [==============================] - 21s 96us/sample - loss: 0.6065 - acc: 0.7803 - val_loss: 0.6053 - val_acc: 0.7803\n",
      "Epoch 61/200\n",
      "215352/215352 [==============================] - 21s 96us/sample - loss: 0.6066 - acc: 0.7803 - val_loss: 0.6055 - val_acc: 0.7779\n",
      "Epoch 62/200\n",
      "215352/215352 [==============================] - 21s 95us/sample - loss: 0.6065 - acc: 0.7800 - val_loss: 0.6053 - val_acc: 0.7804\n",
      "Epoch 63/200\n",
      "215352/215352 [==============================] - 21s 98us/sample - loss: 0.6064 - acc: 0.7806 - val_loss: 0.6052 - val_acc: 0.7801\n",
      "Epoch 64/200\n",
      "215352/215352 [==============================] - 21s 96us/sample - loss: 0.6065 - acc: 0.7804 - val_loss: 0.6053 - val_acc: 0.7788\n",
      "Epoch 65/200\n",
      "215352/215352 [==============================] - 21s 96us/sample - loss: 0.6063 - acc: 0.7807 - val_loss: 0.6052 - val_acc: 0.7795\n",
      "Epoch 66/200\n",
      "215352/215352 [==============================] - 21s 96us/sample - loss: 0.6063 - acc: 0.7803 - val_loss: 0.6050 - val_acc: 0.7818\n",
      "Epoch 67/200\n",
      "215352/215352 [==============================] - 21s 96us/sample - loss: 0.6062 - acc: 0.7809 - val_loss: 0.6050 - val_acc: 0.7807\n",
      "Epoch 68/200\n",
      "215352/215352 [==============================] - 20s 95us/sample - loss: 0.6064 - acc: 0.7805 - val_loss: 0.6050 - val_acc: 0.7805\n",
      "Epoch 69/200\n",
      "215352/215352 [==============================] - 24s 110us/sample - loss: 0.6063 - acc: 0.7806 - val_loss: 0.6050 - val_acc: 0.7800\n",
      "Epoch 70/200\n",
      "215352/215352 [==============================] - 21s 96us/sample - loss: 0.6061 - acc: 0.7813 - val_loss: 0.6049 - val_acc: 0.7825\n",
      "Epoch 71/200\n",
      "215352/215352 [==============================] - 21s 96us/sample - loss: 0.6060 - acc: 0.7815 - val_loss: 0.6048 - val_acc: 0.7811\n",
      "Epoch 72/200\n",
      "215352/215352 [==============================] - 21s 96us/sample - loss: 0.6062 - acc: 0.7810 - val_loss: 0.6049 - val_acc: 0.7803\n",
      "Epoch 73/200\n",
      "215352/215352 [==============================] - 21s 96us/sample - loss: 0.6059 - acc: 0.7819 - val_loss: 0.6048 - val_acc: 0.7817\n",
      "Epoch 74/200\n",
      "215352/215352 [==============================] - 21s 95us/sample - loss: 0.6059 - acc: 0.7814 - val_loss: 0.6049 - val_acc: 0.7795\n",
      "Epoch 75/200\n",
      "215352/215352 [==============================] - 21s 97us/sample - loss: 0.6059 - acc: 0.7815 - val_loss: 0.6048 - val_acc: 0.7802\n",
      "Epoch 76/200\n",
      "215352/215352 [==============================] - 21s 97us/sample - loss: 0.6061 - acc: 0.7811 - val_loss: 0.6048 - val_acc: 0.7798\n",
      "Epoch 77/200\n",
      "215352/215352 [==============================] - 21s 95us/sample - loss: 0.6060 - acc: 0.7814 - val_loss: 0.6049 - val_acc: 0.7794\n",
      "Epoch 78/200\n",
      "215352/215352 [==============================] - 21s 96us/sample - loss: 0.6060 - acc: 0.7815 - val_loss: 0.6046 - val_acc: 0.7820\n",
      "Epoch 79/200\n",
      "215352/215352 [==============================] - 21s 95us/sample - loss: 0.6057 - acc: 0.7821 - val_loss: 0.6045 - val_acc: 0.7840\n",
      "Epoch 80/200\n",
      "215352/215352 [==============================] - 21s 96us/sample - loss: 0.6058 - acc: 0.7818 - val_loss: 0.6046 - val_acc: 0.7810\n",
      "Epoch 81/200\n",
      "215352/215352 [==============================] - 21s 96us/sample - loss: 0.6058 - acc: 0.7813 - val_loss: 0.6045 - val_acc: 0.7823\n",
      "Epoch 82/200\n",
      "215352/215352 [==============================] - 21s 97us/sample - loss: 0.6056 - acc: 0.7820 - val_loss: 0.6045 - val_acc: 0.7817\n",
      "Epoch 83/200\n",
      "215352/215352 [==============================] - 21s 96us/sample - loss: 0.6056 - acc: 0.7821 - val_loss: 0.6047 - val_acc: 0.7806\n",
      "Epoch 84/200\n",
      "215352/215352 [==============================] - 21s 96us/sample - loss: 0.6057 - acc: 0.7819 - val_loss: 0.6044 - val_acc: 0.7828\n",
      "Epoch 85/200\n",
      "215352/215352 [==============================] - 21s 96us/sample - loss: 0.6057 - acc: 0.7821 - val_loss: 0.6045 - val_acc: 0.7807\n",
      "Epoch 86/200\n",
      "215352/215352 [==============================] - 21s 97us/sample - loss: 0.6057 - acc: 0.7820 - val_loss: 0.6045 - val_acc: 0.7807\n",
      "Epoch 87/200\n",
      "215352/215352 [==============================] - 21s 97us/sample - loss: 0.6054 - acc: 0.7824 - val_loss: 0.6045 - val_acc: 0.7805\n",
      "Epoch 88/200\n",
      "215352/215352 [==============================] - 21s 96us/sample - loss: 0.6057 - acc: 0.7820 - val_loss: 0.6045 - val_acc: 0.7804\n",
      "Epoch 89/200\n",
      "215352/215352 [==============================] - 20s 95us/sample - loss: 0.6054 - acc: 0.7828 - val_loss: 0.6042 - val_acc: 0.7820\n",
      "Epoch 90/200\n",
      "215352/215352 [==============================] - 20s 95us/sample - loss: 0.6053 - acc: 0.7821 - val_loss: 0.6045 - val_acc: 0.7801\n",
      "Epoch 91/200\n",
      "215352/215352 [==============================] - 21s 95us/sample - loss: 0.6056 - acc: 0.7821 - val_loss: 0.6043 - val_acc: 0.7810\n",
      "Epoch 92/200\n",
      "215352/215352 [==============================] - 21s 97us/sample - loss: 0.6053 - acc: 0.7831 - val_loss: 0.6042 - val_acc: 0.7823\n",
      "Epoch 93/200\n",
      "215352/215352 [==============================] - 20s 95us/sample - loss: 0.6055 - acc: 0.7822 - val_loss: 0.6041 - val_acc: 0.7821\n",
      "Epoch 94/200\n",
      "215352/215352 [==============================] - 21s 95us/sample - loss: 0.6052 - acc: 0.7829 - val_loss: 0.6044 - val_acc: 0.7793\n",
      "Epoch 95/200\n",
      "215352/215352 [==============================] - 21s 96us/sample - loss: 0.6054 - acc: 0.7820 - val_loss: 0.6040 - val_acc: 0.7823\n",
      "Epoch 96/200\n",
      "215352/215352 [==============================] - 20s 95us/sample - loss: 0.6053 - acc: 0.7829 - val_loss: 0.6043 - val_acc: 0.7802\n",
      "Epoch 97/200\n",
      "215352/215352 [==============================] - 20s 95us/sample - loss: 0.6052 - acc: 0.7830 - val_loss: 0.6040 - val_acc: 0.7837\n",
      "Epoch 98/200\n",
      "215352/215352 [==============================] - 21s 95us/sample - loss: 0.6052 - acc: 0.7826 - val_loss: 0.6039 - val_acc: 0.7835\n",
      "Epoch 99/200\n",
      "215352/215352 [==============================] - 21s 96us/sample - loss: 0.6051 - acc: 0.7833 - val_loss: 0.6040 - val_acc: 0.7819\n",
      "Epoch 100/200\n",
      "215352/215352 [==============================] - 21s 96us/sample - loss: 0.6051 - acc: 0.7828 - val_loss: 0.6040 - val_acc: 0.7810\n",
      "Epoch 101/200\n",
      "215352/215352 [==============================] - 21s 96us/sample - loss: 0.6050 - acc: 0.7830 - val_loss: 0.6043 - val_acc: 0.7791\n",
      "Epoch 102/200\n",
      "215352/215352 [==============================] - 21s 96us/sample - loss: 0.6050 - acc: 0.7828 - val_loss: 0.6040 - val_acc: 0.7811\n",
      "Epoch 103/200\n",
      "215352/215352 [==============================] - 21s 95us/sample - loss: 0.6050 - acc: 0.7831 - val_loss: 0.6041 - val_acc: 0.7801\n",
      "Epoch 104/200\n",
      "215352/215352 [==============================] - 21s 96us/sample - loss: 0.6051 - acc: 0.7833 - val_loss: 0.6041 - val_acc: 0.7800\n",
      "Epoch 105/200\n",
      "215352/215352 [==============================] - 21s 96us/sample - loss: 0.6049 - acc: 0.7833 - val_loss: 0.6038 - val_acc: 0.7815\n",
      "Epoch 106/200\n",
      "215352/215352 [==============================] - 21s 96us/sample - loss: 0.6050 - acc: 0.7830 - val_loss: 0.6039 - val_acc: 0.7814\n",
      "Epoch 107/200\n",
      "215352/215352 [==============================] - 21s 96us/sample - loss: 0.6050 - acc: 0.7831 - val_loss: 0.6037 - val_acc: 0.7836\n",
      "Epoch 108/200\n",
      "215352/215352 [==============================] - 21s 96us/sample - loss: 0.6049 - acc: 0.7836 - val_loss: 0.6037 - val_acc: 0.7817\n",
      "Epoch 109/200\n",
      "215352/215352 [==============================] - 21s 96us/sample - loss: 0.6048 - acc: 0.7838 - val_loss: 0.6038 - val_acc: 0.7806\n",
      "Epoch 110/200\n",
      "215352/215352 [==============================] - 21s 97us/sample - loss: 0.6047 - acc: 0.7835 - val_loss: 0.6035 - val_acc: 0.7837\n",
      "Epoch 111/200\n",
      "215352/215352 [==============================] - 21s 95us/sample - loss: 0.6046 - acc: 0.7842 - val_loss: 0.6036 - val_acc: 0.7820\n",
      "Epoch 112/200\n",
      "215352/215352 [==============================] - 20s 95us/sample - loss: 0.6045 - acc: 0.7843 - val_loss: 0.6037 - val_acc: 0.7813\n",
      "Epoch 113/200\n",
      "215352/215352 [==============================] - 21s 96us/sample - loss: 0.6046 - acc: 0.7838 - val_loss: 0.6034 - val_acc: 0.7839\n"
     ]
    },
    {
     "name": "stdout",
     "output_type": "stream",
     "text": [
      "Epoch 114/200\n",
      "215352/215352 [==============================] - 21s 96us/sample - loss: 0.6045 - acc: 0.7842 - val_loss: 0.6036 - val_acc: 0.7821\n",
      "Epoch 115/200\n",
      "215352/215352 [==============================] - 21s 96us/sample - loss: 0.6046 - acc: 0.7838 - val_loss: 0.6036 - val_acc: 0.7805\n",
      "Epoch 116/200\n",
      "215352/215352 [==============================] - 20s 95us/sample - loss: 0.6044 - acc: 0.7841 - val_loss: 0.6035 - val_acc: 0.7828\n",
      "Epoch 117/200\n",
      "215352/215352 [==============================] - 21s 96us/sample - loss: 0.6045 - acc: 0.7845 - val_loss: 0.6035 - val_acc: 0.7813\n",
      "Epoch 118/200\n",
      "215352/215352 [==============================] - 20s 95us/sample - loss: 0.6045 - acc: 0.7841 - val_loss: 0.6035 - val_acc: 0.7811\n",
      "Epoch 119/200\n",
      "215352/215352 [==============================] - 21s 97us/sample - loss: 0.6044 - acc: 0.7841 - val_loss: 0.6033 - val_acc: 0.7827\n",
      "Epoch 120/200\n",
      "215352/215352 [==============================] - 21s 96us/sample - loss: 0.6044 - acc: 0.7842 - val_loss: 0.6033 - val_acc: 0.7826\n",
      "Epoch 121/200\n",
      "215352/215352 [==============================] - 21s 95us/sample - loss: 0.6041 - acc: 0.7844 - val_loss: 0.6035 - val_acc: 0.7804\n",
      "Epoch 122/200\n",
      "215352/215352 [==============================] - 21s 95us/sample - loss: 0.6042 - acc: 0.7850 - val_loss: 0.6033 - val_acc: 0.7819\n",
      "Epoch 123/200\n",
      "215352/215352 [==============================] - 21s 96us/sample - loss: 0.6044 - acc: 0.7840 - val_loss: 0.6032 - val_acc: 0.7831\n",
      "Epoch 124/200\n",
      "215352/215352 [==============================] - 21s 95us/sample - loss: 0.6041 - acc: 0.7847 - val_loss: 0.6036 - val_acc: 0.7796\n",
      "Epoch 125/200\n",
      "215352/215352 [==============================] - 21s 95us/sample - loss: 0.6041 - acc: 0.7842 - val_loss: 0.6031 - val_acc: 0.7836\n",
      "Epoch 126/200\n",
      "215352/215352 [==============================] - 21s 95us/sample - loss: 0.6042 - acc: 0.7844 - val_loss: 0.6033 - val_acc: 0.7820\n",
      "Epoch 127/200\n",
      "215352/215352 [==============================] - 20s 95us/sample - loss: 0.6041 - acc: 0.7847 - val_loss: 0.6029 - val_acc: 0.7850\n",
      "Epoch 128/200\n",
      "215352/215352 [==============================] - 21s 96us/sample - loss: 0.6040 - acc: 0.7850 - val_loss: 0.6032 - val_acc: 0.7817\n",
      "Epoch 129/200\n",
      "215352/215352 [==============================] - 21s 96us/sample - loss: 0.6041 - acc: 0.7840 - val_loss: 0.6032 - val_acc: 0.7809\n",
      "Epoch 130/200\n",
      "215352/215352 [==============================] - 20s 95us/sample - loss: 0.6039 - acc: 0.7850 - val_loss: 0.6032 - val_acc: 0.7812\n",
      "Epoch 131/200\n",
      "215352/215352 [==============================] - 21s 96us/sample - loss: 0.6039 - acc: 0.7851 - val_loss: 0.6029 - val_acc: 0.7833\n",
      "Epoch 132/200\n",
      "215352/215352 [==============================] - 20s 95us/sample - loss: 0.6040 - acc: 0.7848 - val_loss: 0.6027 - val_acc: 0.7853\n",
      "Epoch 133/200\n",
      "215352/215352 [==============================] - 20s 94us/sample - loss: 0.6038 - acc: 0.7855 - val_loss: 0.6026 - val_acc: 0.7857\n",
      "Epoch 134/200\n",
      "215352/215352 [==============================] - 21s 97us/sample - loss: 0.6037 - acc: 0.7851 - val_loss: 0.6032 - val_acc: 0.7805\n",
      "Epoch 135/200\n",
      "215352/215352 [==============================] - 20s 95us/sample - loss: 0.6037 - acc: 0.7851 - val_loss: 0.6030 - val_acc: 0.7812\n",
      "Epoch 136/200\n",
      "215352/215352 [==============================] - 20s 95us/sample - loss: 0.6037 - acc: 0.7856 - val_loss: 0.6030 - val_acc: 0.7811\n",
      "Epoch 137/200\n",
      "215352/215352 [==============================] - 21s 97us/sample - loss: 0.6038 - acc: 0.7850 - val_loss: 0.6029 - val_acc: 0.7814\n",
      "Epoch 138/200\n",
      "215352/215352 [==============================] - 20s 95us/sample - loss: 0.6034 - acc: 0.7863 - val_loss: 0.6027 - val_acc: 0.7823\n",
      "Epoch 139/200\n",
      "215352/215352 [==============================] - 21s 95us/sample - loss: 0.6034 - acc: 0.7858 - val_loss: 0.6027 - val_acc: 0.7831\n",
      "Epoch 140/200\n",
      "215352/215352 [==============================] - 21s 96us/sample - loss: 0.6037 - acc: 0.7850 - val_loss: 0.6030 - val_acc: 0.7798\n",
      "Epoch 141/200\n",
      "215352/215352 [==============================] - 20s 95us/sample - loss: 0.6035 - acc: 0.7856 - val_loss: 0.6026 - val_acc: 0.7834\n",
      "Epoch 142/200\n",
      "215352/215352 [==============================] - 21s 96us/sample - loss: 0.6034 - acc: 0.7863 - val_loss: 0.6029 - val_acc: 0.7800\n",
      "Epoch 143/200\n",
      "215352/215352 [==============================] - 21s 97us/sample - loss: 0.6033 - acc: 0.7861 - val_loss: 0.6027 - val_acc: 0.7819\n",
      "Epoch 144/200\n",
      "215352/215352 [==============================] - 21s 97us/sample - loss: 0.6034 - acc: 0.7857 - val_loss: 0.6028 - val_acc: 0.7807\n",
      "Epoch 145/200\n",
      "215352/215352 [==============================] - 21s 96us/sample - loss: 0.6033 - acc: 0.7859 - val_loss: 0.6030 - val_acc: 0.7795\n",
      "Epoch 146/200\n",
      "215352/215352 [==============================] - 21s 96us/sample - loss: 0.6033 - acc: 0.7865 - val_loss: 0.6026 - val_acc: 0.7819\n",
      "Epoch 147/200\n",
      "215352/215352 [==============================] - 21s 96us/sample - loss: 0.6030 - acc: 0.7865 - val_loss: 0.6022 - val_acc: 0.7850\n",
      "Epoch 148/200\n",
      "215352/215352 [==============================] - 21s 96us/sample - loss: 0.6032 - acc: 0.7861 - val_loss: 0.6022 - val_acc: 0.7862\n",
      "Epoch 149/200\n",
      "215352/215352 [==============================] - 21s 97us/sample - loss: 0.6031 - acc: 0.7866 - val_loss: 0.6025 - val_acc: 0.7820\n",
      "Epoch 150/200\n",
      "215352/215352 [==============================] - 21s 96us/sample - loss: 0.6031 - acc: 0.7859 - val_loss: 0.6025 - val_acc: 0.7822\n",
      "Epoch 151/200\n",
      "215352/215352 [==============================] - 21s 96us/sample - loss: 0.6031 - acc: 0.7865 - val_loss: 0.6025 - val_acc: 0.7816\n",
      "Epoch 152/200\n",
      "215352/215352 [==============================] - 21s 97us/sample - loss: 0.6031 - acc: 0.7868 - val_loss: 0.6022 - val_acc: 0.7837\n",
      "Epoch 153/200\n",
      "215352/215352 [==============================] - 21s 96us/sample - loss: 0.6030 - acc: 0.7867 - val_loss: 0.6026 - val_acc: 0.7805\n",
      "Epoch 154/200\n",
      "215352/215352 [==============================] - 21s 96us/sample - loss: 0.6029 - acc: 0.7868 - val_loss: 0.6026 - val_acc: 0.7809\n",
      "Epoch 155/200\n",
      "215352/215352 [==============================] - 21s 96us/sample - loss: 0.6027 - acc: 0.7873 - val_loss: 0.6022 - val_acc: 0.7831\n",
      "Epoch 156/200\n",
      "215352/215352 [==============================] - 21s 96us/sample - loss: 0.6030 - acc: 0.7865 - val_loss: 0.6025 - val_acc: 0.7811\n",
      "Epoch 157/200\n",
      "215352/215352 [==============================] - 20s 95us/sample - loss: 0.6028 - acc: 0.7864 - val_loss: 0.6022 - val_acc: 0.7829\n",
      "Epoch 158/200\n",
      "215352/215352 [==============================] - 21s 96us/sample - loss: 0.6028 - acc: 0.7870 - val_loss: 0.6023 - val_acc: 0.7820\n",
      "Epoch 159/200\n",
      "215352/215352 [==============================] - 20s 95us/sample - loss: 0.6028 - acc: 0.7863 - val_loss: 0.6019 - val_acc: 0.7850\n",
      "Epoch 160/200\n",
      "215352/215352 [==============================] - 21s 96us/sample - loss: 0.6027 - acc: 0.7870 - val_loss: 0.6024 - val_acc: 0.7804\n",
      "Epoch 161/200\n",
      "215352/215352 [==============================] - 21s 97us/sample - loss: 0.6028 - acc: 0.7863 - val_loss: 0.6028 - val_acc: 0.7785\n",
      "Epoch 162/200\n",
      "215352/215352 [==============================] - 21s 97us/sample - loss: 0.6027 - acc: 0.7870 - val_loss: 0.6019 - val_acc: 0.7841\n",
      "Epoch 163/200\n",
      "215352/215352 [==============================] - 21s 96us/sample - loss: 0.6024 - acc: 0.7875 - val_loss: 0.6023 - val_acc: 0.7809\n",
      "Epoch 164/200\n",
      "215352/215352 [==============================] - 21s 96us/sample - loss: 0.6025 - acc: 0.7871 - val_loss: 0.6019 - val_acc: 0.7837\n",
      "Epoch 165/200\n",
      "215352/215352 [==============================] - 21s 96us/sample - loss: 0.6026 - acc: 0.7868 - val_loss: 0.6019 - val_acc: 0.7832\n",
      "Epoch 166/200\n",
      "215352/215352 [==============================] - 21s 96us/sample - loss: 0.6026 - acc: 0.7870 - val_loss: 0.6017 - val_acc: 0.7845\n",
      "Epoch 167/200\n",
      "215352/215352 [==============================] - 21s 97us/sample - loss: 0.6024 - acc: 0.7869 - val_loss: 0.6022 - val_acc: 0.7806\n",
      "Epoch 168/200\n",
      "215352/215352 [==============================] - 21s 96us/sample - loss: 0.6023 - acc: 0.7877 - val_loss: 0.6024 - val_acc: 0.7797\n",
      "Epoch 169/200\n",
      "215352/215352 [==============================] - 21s 96us/sample - loss: 0.6024 - acc: 0.7870 - val_loss: 0.6016 - val_acc: 0.7845\n",
      "Epoch 170/200\n",
      "215352/215352 [==============================] - 21s 97us/sample - loss: 0.6021 - acc: 0.7882 - val_loss: 0.6016 - val_acc: 0.7842\n",
      "Epoch 171/200\n",
      "215352/215352 [==============================] - 21s 96us/sample - loss: 0.6021 - acc: 0.7876 - val_loss: 0.6015 - val_acc: 0.7854\n",
      "Epoch 172/200\n",
      "215352/215352 [==============================] - 21s 97us/sample - loss: 0.6022 - acc: 0.7877 - val_loss: 0.6019 - val_acc: 0.7819\n",
      "Epoch 173/200\n",
      "215352/215352 [==============================] - 21s 98us/sample - loss: 0.6023 - acc: 0.7879 - val_loss: 0.6020 - val_acc: 0.7809\n",
      "Epoch 174/200\n",
      "215352/215352 [==============================] - 21s 97us/sample - loss: 0.6022 - acc: 0.7882 - val_loss: 0.6015 - val_acc: 0.7833\n",
      "Epoch 175/200\n",
      "215352/215352 [==============================] - 21s 97us/sample - loss: 0.6020 - acc: 0.7882 - val_loss: 0.6013 - val_acc: 0.7858\n",
      "Epoch 176/200\n",
      "215352/215352 [==============================] - 21s 96us/sample - loss: 0.6022 - acc: 0.7878 - val_loss: 0.6019 - val_acc: 0.7810\n",
      "Epoch 177/200\n",
      "215352/215352 [==============================] - 21s 97us/sample - loss: 0.6021 - acc: 0.7881 - val_loss: 0.6014 - val_acc: 0.7839\n",
      "Epoch 178/200\n",
      "215352/215352 [==============================] - 21s 97us/sample - loss: 0.6018 - acc: 0.7889 - val_loss: 0.6017 - val_acc: 0.7814\n",
      "Epoch 179/200\n",
      "215352/215352 [==============================] - 21s 96us/sample - loss: 0.6019 - acc: 0.7881 - val_loss: 0.6018 - val_acc: 0.7808\n",
      "Epoch 180/200\n",
      "215352/215352 [==============================] - 21s 96us/sample - loss: 0.6018 - acc: 0.7882 - val_loss: 0.6013 - val_acc: 0.7847\n",
      "Epoch 181/200\n",
      "215352/215352 [==============================] - 21s 96us/sample - loss: 0.6019 - acc: 0.7882 - val_loss: 0.6015 - val_acc: 0.7829\n",
      "Epoch 182/200\n",
      "215352/215352 [==============================] - 21s 95us/sample - loss: 0.6017 - acc: 0.7885 - val_loss: 0.6020 - val_acc: 0.7793\n",
      "Epoch 183/200\n",
      "215352/215352 [==============================] - 21s 96us/sample - loss: 0.6018 - acc: 0.7883 - val_loss: 0.6012 - val_acc: 0.7849\n",
      "Epoch 184/200\n",
      "215352/215352 [==============================] - 21s 97us/sample - loss: 0.6017 - acc: 0.7890 - val_loss: 0.6008 - val_acc: 0.7873\n",
      "Epoch 185/200\n",
      "215352/215352 [==============================] - 21s 96us/sample - loss: 0.6016 - acc: 0.7889 - val_loss: 0.6012 - val_acc: 0.7839\n",
      "Epoch 186/200\n",
      "215352/215352 [==============================] - 21s 96us/sample - loss: 0.6016 - acc: 0.7887 - val_loss: 0.6009 - val_acc: 0.7852\n",
      "Epoch 187/200\n",
      "215352/215352 [==============================] - 21s 96us/sample - loss: 0.6015 - acc: 0.7887 - val_loss: 0.6015 - val_acc: 0.7809\n",
      "Epoch 188/200\n",
      "215352/215352 [==============================] - 21s 97us/sample - loss: 0.6014 - acc: 0.7886 - val_loss: 0.6010 - val_acc: 0.7843\n",
      "Epoch 189/200\n",
      "215352/215352 [==============================] - 21s 97us/sample - loss: 0.6015 - acc: 0.7884 - val_loss: 0.6013 - val_acc: 0.7817\n",
      "Epoch 190/200\n",
      "215352/215352 [==============================] - 21s 97us/sample - loss: 0.6015 - acc: 0.7888 - val_loss: 0.6012 - val_acc: 0.7822\n",
      "Epoch 191/200\n",
      "215352/215352 [==============================] - 21s 96us/sample - loss: 0.6013 - acc: 0.7890 - val_loss: 0.6008 - val_acc: 0.7844\n",
      "Epoch 192/200\n",
      "215352/215352 [==============================] - 21s 96us/sample - loss: 0.6012 - acc: 0.7897 - val_loss: 0.6010 - val_acc: 0.7826\n",
      "Epoch 193/200\n",
      "215352/215352 [==============================] - 21s 97us/sample - loss: 0.6012 - acc: 0.7891 - val_loss: 0.6002 - val_acc: 0.7884\n",
      "Epoch 194/200\n",
      "215352/215352 [==============================] - 21s 96us/sample - loss: 0.6011 - acc: 0.7893 - val_loss: 0.6012 - val_acc: 0.7802\n",
      "Epoch 195/200\n",
      "215352/215352 [==============================] - 21s 97us/sample - loss: 0.6010 - acc: 0.7895 - val_loss: 0.6007 - val_acc: 0.7834\n",
      "Epoch 196/200\n",
      "215352/215352 [==============================] - 21s 97us/sample - loss: 0.6010 - acc: 0.7902 - val_loss: 0.6005 - val_acc: 0.7841\n",
      "Epoch 197/200\n",
      "215352/215352 [==============================] - 21s 97us/sample - loss: 0.6011 - acc: 0.7896 - val_loss: 0.6009 - val_acc: 0.7818\n",
      "Epoch 198/200\n",
      "215352/215352 [==============================] - 21s 97us/sample - loss: 0.6010 - acc: 0.7896 - val_loss: 0.6005 - val_acc: 0.7835\n",
      "Epoch 199/200\n",
      "215352/215352 [==============================] - 21s 96us/sample - loss: 0.6008 - acc: 0.7903 - val_loss: 0.6007 - val_acc: 0.7823\n",
      "Epoch 200/200\n",
      "215352/215352 [==============================] - 21s 97us/sample - loss: 0.6007 - acc: 0.7901 - val_loss: 0.6001 - val_acc: 0.7864\n"
     ]
    }
   ],
   "source": [
    "history = model.fit(X_train, y_train, epochs=200, \n",
    "                    batch_size=100,\n",
    "                    validation_data=(X_val, y_val),\n",
    "                    callbacks=[es])"
   ]
  },
  {
   "cell_type": "code",
   "execution_count": 16,
   "metadata": {
    "ExecuteTime": {
     "end_time": "2021-08-30T19:38:29.218103Z",
     "start_time": "2021-08-30T19:38:28.981795Z"
    }
   },
   "outputs": [
    {
     "data": {
      "image/png": "[encoded data removed]",
      "text/plain": [
       "<Figure size 1152x144 with 2 Axes>"
      ]
     },
     "metadata": {
      "needs_background": "light"
     },
     "output_type": "display_data"
    }
   ],
   "source": [
    "plt.figure(figsize=(16,2))\n",
    "plt.subplot(1,2,1)\n",
    "plot_graphs(history, 'acc')\n",
    "plt.subplot(1,2,2)\n",
    "plot_graphs(history, 'loss')"
   ]
  },
  {
   "cell_type": "markdown",
   "metadata": {},
   "source": [
    "# 3. test"
   ]
  },
  {
   "cell_type": "code",
   "execution_count": 23,
   "metadata": {
    "ExecuteTime": {
     "end_time": "2021-08-30T19:41:51.074958Z",
     "start_time": "2021-08-30T19:41:51.046266Z"
    }
   },
   "outputs": [],
   "source": [
    "from sklearn.metrics import classification_report\n",
    "from sklearn.metrics import confusion_matrix\n",
    "from sklearn.metrics import roc_curve\n",
    "from sklearn.metrics import roc_auc_score\n",
    "import seaborn as sns"
   ]
  },
  {
   "cell_type": "code",
   "execution_count": 9,
   "metadata": {
    "ExecuteTime": {
     "end_time": "2021-08-30T19:31:57.625897Z",
     "start_time": "2021-08-30T19:31:53.767834Z"
    }
   },
   "outputs": [
    {
     "name": "stdout",
     "output_type": "stream",
     "text": [
      "Making predictions\n",
      "Saving predictions to file compareModel/2019Bioinformatics_DeepMSPeptide/DeepMSPeptide/detect_peptide_test_Predictions.txt\n"
     ]
    }
   ],
   "source": [
    "print('Making predictions')\n",
    "model_pred = model.predict(X_test)\n",
    "model_pred = np.hstack((np.array(lines).reshape(len(lines), 1),model_pred)).tolist()\n",
    "\n",
    "Pred_output = []\n",
    "for pred in model_pred:\n",
    "    if float(pred[1]) > 0.5:\n",
    "        Pred_output.append([pred[0], str(1-float(pred[1])), '0'])\n",
    "    else:\n",
    "        Pred_output.append([pred[0], str(1-float(pred[1])), '1'])\n",
    "\n",
    "outFile = '{0}_Predictions.txt'.format(args.split('.')[0])\n",
    "print('Saving predictions to file {}'.format(outFile))\n",
    "with open(outFile, 'w') as outf:\n",
    "    outf.write('Peptide\\tProb\\tDetectability\\n')\n",
    "    outf.writelines('\\t'.join(i) + '\\n' for i in Pred_output)"
   ]
  },
  {
   "cell_type": "code",
   "execution_count": 13,
   "metadata": {
    "ExecuteTime": {
     "end_time": "2021-08-30T19:37:41.076252Z",
     "start_time": "2021-08-30T19:37:37.326337Z"
    }
   },
   "outputs": [
    {
     "name": "stdout",
     "output_type": "stream",
     "text": [
      "67298/67298 [==============================] - 4s 56us/sample - loss: 0.6021 - acc: 0.7825\n",
      "Test Loss: 0.602053581072305\n",
      "Test Accuracy: 0.7824898362159729\n"
     ]
    }
   ],
   "source": [
    "test_loss, test_acc = model.evaluate(X_test, y_test)\n",
    "print('Test Loss: {}'.format(test_loss))\n",
    "print('Test Accuracy: {}'.format(test_acc))"
   ]
  },
  {
   "cell_type": "code",
   "execution_count": 24,
   "metadata": {
    "ExecuteTime": {
     "end_time": "2021-08-30T19:42:00.945295Z",
     "start_time": "2021-08-30T19:41:53.692989Z"
    }
   },
   "outputs": [
    {
     "name": "stdout",
     "output_type": "stream",
     "text": [
      "              precision    recall  f1-score   support\n",
      "\n",
      "           0       0.75      0.86      0.80     33706\n",
      "           1       0.83      0.71      0.76     33592\n",
      "\n",
      "    accuracy                           0.78     67298\n",
      "   macro avg       0.79      0.78      0.78     67298\n",
      "weighted avg       0.79      0.78      0.78     67298\n",
      "\n",
      "rf auc : 0.8618220779185728\n"
     ]
    },
    {
     "data": {
      "image/png": "[encoded data removed]",
      "text/plain": [
       "<Figure size 288x288 with 1 Axes>"
      ]
     },
     "metadata": {
      "needs_background": "light"
     },
     "output_type": "display_data"
    },
    {
     "data": {
      "image/png": "[encoded data removed]",
      "text/plain": [
       "<Figure size 216x216 with 2 Axes>"
      ]
     },
     "metadata": {
      "needs_background": "light"
     },
     "output_type": "display_data"
    },
    {
     "data": {
      "image/png": "[encoded data removed]",
      "text/plain": [
       "<Figure size 216x216 with 2 Axes>"
      ]
     },
     "metadata": {
      "needs_background": "light"
     },
     "output_type": "display_data"
    }
   ],
   "source": [
    "# prediction\n",
    "y_pred = [1 if i>=0.5 else 0 for i in model.predict(X_test)]\n",
    "print(classification_report(y_test, y_pred))\n",
    "# AUC\n",
    "probs = model.predict(X_test)\n",
    "rf_auc = roc_auc_score(y_test, probs)\n",
    "print('rf auc : {}'.format(rf_auc))\n",
    "# plot the roc curve for the model\n",
    "rf_fpr, rf_tpr, _ = roc_curve(y_test, probs)\n",
    "plt.figure(figsize=(4, 4))\n",
    "plt.plot(rf_fpr, rf_tpr, marker='.', label='RF AUC = {:.4f}'.format(rf_auc), color='orange')\n",
    "plt.title('ROC curve')\n",
    "# axis labels\n",
    "plt.xlabel('False Positive Rate')\n",
    "plt.ylabel('True Positive Rate')\n",
    "# show the legend\n",
    "plt.legend()\n",
    "# show the plot\n",
    "plt.show()\n",
    "\n",
    "cf_matrix = confusion_matrix(y_test, y_pred)\n",
    "plt.figure(figsize=(3, 3))\n",
    "sns.heatmap(cf_matrix, annot=True, fmt=',.0f')\n",
    "plt.show()\n",
    "plt.figure(figsize=(3, 3))\n",
    "sns.heatmap(cf_matrix/np.sum(cf_matrix), annot=True, \n",
    "            fmt='.2%', cmap='Blues')\n",
    "plt.show()"
   ]
  },
  {
   "cell_type": "markdown",
   "metadata": {},
   "source": [
    "# max_length 81"
   ]
  },
  {
   "cell_type": "code",
   "execution_count": 25,
   "metadata": {
    "ExecuteTime": {
     "end_time": "2021-08-30T21:01:15.260088Z",
     "start_time": "2021-08-30T21:01:12.522681Z"
    }
   },
   "outputs": [
    {
     "name": "stdout",
     "output_type": "stream",
     "text": [
      "Loading input peptides\n",
      "Succesfully loaded 269190 peptides and skipped 0\n",
      "Loading input peptides\n",
      "Succesfully loaded 67298 peptides and skipped 0\n",
      "(215352, 81) (53838, 81) (67298, 81) (215352,) (53838,) (67298,)\n"
     ]
    }
   ],
   "source": [
    "args = file_path + 'detect_peptide_train.txt'\n",
    "print('Loading input peptides')\n",
    "X_train, skipped, lines = load_pep_and_codify(args, 81)\n",
    "tmp = open(file_path+'detect_peptide_train_y.txt')\n",
    "y_train = np.array([int(_.replace('\\n', '')) for _ in tmp.readlines()])\n",
    "tmp.close()\n",
    "print('Succesfully loaded {0} peptides and skipped {1}'.format(len(lines), str(skipped)))\n",
    "\n",
    "args = file_path + 'detect_peptide_test.txt'\n",
    "print('Loading input peptides')\n",
    "X_test, skipped, lines = load_pep_and_codify(args, 81)\n",
    "tmp = open(file_path+'detect_peptide_test_y.txt')\n",
    "y_test = np.array([int(_.replace('\\n', '')) for _ in tmp.readlines()])\n",
    "tmp.close()\n",
    "print('Succesfully loaded {0} peptides and skipped {1}'.format(len(lines), str(skipped)))\n",
    "\n",
    "X_train, X_val, y_train, y_val = train_test_split(X_train, y_train, test_size=0.2)\n",
    "print(X_train.shape, X_val.shape, X_test.shape, y_train.shape, y_val.shape, y_test.shape)"
   ]
  },
  {
   "cell_type": "code",
   "execution_count": 29,
   "metadata": {
    "ExecuteTime": {
     "end_time": "2021-08-30T21:01:54.978392Z",
     "start_time": "2021-08-30T21:01:54.828205Z"
    }
   },
   "outputs": [
    {
     "name": "stdout",
     "output_type": "stream",
     "text": [
      "Model: \"sequential_3\"\n",
      "_________________________________________________________________\n",
      "Layer (type)                 Output Shape              Param #   \n",
      "=================================================================\n",
      "embedding_3 (Embedding)      (None, 81, 50)            1150      \n",
      "_________________________________________________________________\n",
      "dropout_6 (Dropout)          (None, 81, 50)            0         \n",
      "_________________________________________________________________\n",
      "conv1d_6 (Conv1D)            (None, 81, 128)           19328     \n",
      "_________________________________________________________________\n",
      "conv1d_7 (Conv1D)            (None, 80, 64)            16448     \n",
      "_________________________________________________________________\n",
      "global_max_pooling1d_3 (Glob (None, 64)                0         \n",
      "_________________________________________________________________\n",
      "dense_6 (Dense)              (None, 64)                4160      \n",
      "_________________________________________________________________\n",
      "dropout_7 (Dropout)          (None, 64)                0         \n",
      "_________________________________________________________________\n",
      "dense_7 (Dense)              (None, 1)                 65        \n",
      "=================================================================\n",
      "Total params: 41,151\n",
      "Trainable params: 41,151\n",
      "Non-trainable params: 0\n",
      "_________________________________________________________________\n"
     ]
    }
   ],
   "source": [
    "model81 = tf.keras.Sequential([\n",
    "    tf.keras.layers.Embedding(23, 50, input_length=81),\n",
    "    tf.keras.layers.Dropout(np.random.uniform(0, 0.2)),\n",
    "    tf.keras.layers.Conv1D(filters=128, kernel_size=3, strides=1, padding='same'),\n",
    "    tf.keras.layers.Conv1D(filters=64, kernel_size=2, strides=1),\n",
    "    tf.keras.layers.GlobalMaxPooling1D(),\n",
    "    tf.keras.layers.Dense(64),\n",
    "    tf.keras.layers.Dropout(np.random.uniform(0, 0.2)),\n",
    "    tf.keras.layers.Dense(1, activation='sigmoid')\n",
    "])\n",
    "model81.summary()\n",
    "model81.compile(loss=tf.keras.losses.BinaryCrossentropy(from_logits=True),\n",
    "              optimizer=tf.keras.optimizers.Adam(1e-5),\n",
    "              metrics=['accuracy'])\n",
    "es = tf.keras.callbacks.EarlyStopping(monitor='val_loss', mode='min', verbose=1, patience=50)"
   ]
  },
  {
   "cell_type": "code",
   "execution_count": 30,
   "metadata": {
    "ExecuteTime": {
     "end_time": "2021-08-30T22:25:07.964388Z",
     "start_time": "2021-08-30T21:01:56.430747Z"
    }
   },
   "outputs": [
    {
     "name": "stdout",
     "output_type": "stream",
     "text": [
      "Train on 215352 samples, validate on 53838 samples\n",
      "Epoch 1/200\n",
      "215352/215352 [==============================] - 25s 115us/sample - loss: 0.6987 - acc: 0.4995 - val_loss: 0.6933 - val_acc: 0.5010\n",
      "Epoch 2/200\n",
      "215352/215352 [==============================] - 24s 112us/sample - loss: 0.6918 - acc: 0.4995 - val_loss: 0.6832 - val_acc: 0.5010\n",
      "Epoch 3/200\n",
      "215352/215352 [==============================] - 24s 112us/sample - loss: 0.6419 - acc: 0.6774 - val_loss: 0.6212 - val_acc: 0.7379\n",
      "Epoch 4/200\n",
      "215352/215352 [==============================] - 24s 111us/sample - loss: 0.6190 - acc: 0.7422 - val_loss: 0.6159 - val_acc: 0.7464\n",
      "Epoch 5/200\n",
      "215352/215352 [==============================] - 24s 111us/sample - loss: 0.6163 - acc: 0.7500 - val_loss: 0.6143 - val_acc: 0.7532\n",
      "Epoch 6/200\n",
      "215352/215352 [==============================] - 24s 111us/sample - loss: 0.6153 - acc: 0.7538 - val_loss: 0.6134 - val_acc: 0.7565\n",
      "Epoch 7/200\n",
      "215352/215352 [==============================] - 25s 114us/sample - loss: 0.6146 - acc: 0.7560 - val_loss: 0.6128 - val_acc: 0.7595\n",
      "Epoch 8/200\n",
      "215352/215352 [==============================] - 25s 117us/sample - loss: 0.6142 - acc: 0.7578 - val_loss: 0.6124 - val_acc: 0.7607\n",
      "Epoch 9/200\n",
      "215352/215352 [==============================] - 24s 112us/sample - loss: 0.6135 - acc: 0.7597 - val_loss: 0.6119 - val_acc: 0.7616\n",
      "Epoch 10/200\n",
      "215352/215352 [==============================] - 24s 112us/sample - loss: 0.6130 - acc: 0.7614 - val_loss: 0.6116 - val_acc: 0.7636\n",
      "Epoch 11/200\n",
      "215352/215352 [==============================] - 24s 112us/sample - loss: 0.6128 - acc: 0.7620 - val_loss: 0.6113 - val_acc: 0.7653\n",
      "Epoch 12/200\n",
      "215352/215352 [==============================] - 24s 112us/sample - loss: 0.6125 - acc: 0.7628 - val_loss: 0.6111 - val_acc: 0.7651\n",
      "Epoch 13/200\n",
      "215352/215352 [==============================] - 24s 112us/sample - loss: 0.6123 - acc: 0.7637 - val_loss: 0.6107 - val_acc: 0.7682\n",
      "Epoch 14/200\n",
      "215352/215352 [==============================] - 25s 116us/sample - loss: 0.6120 - acc: 0.7642 - val_loss: 0.6105 - val_acc: 0.7677\n",
      "Epoch 15/200\n",
      "215352/215352 [==============================] - 28s 128us/sample - loss: 0.6117 - acc: 0.7650 - val_loss: 0.6103 - val_acc: 0.7687\n",
      "Epoch 16/200\n",
      "215352/215352 [==============================] - 24s 112us/sample - loss: 0.6116 - acc: 0.7654 - val_loss: 0.6101 - val_acc: 0.7691\n",
      "Epoch 17/200\n",
      "215352/215352 [==============================] - 24s 112us/sample - loss: 0.6113 - acc: 0.7666 - val_loss: 0.6099 - val_acc: 0.7704\n",
      "Epoch 18/200\n",
      "215352/215352 [==============================] - 24s 112us/sample - loss: 0.6111 - acc: 0.7673 - val_loss: 0.6098 - val_acc: 0.7693\n",
      "Epoch 19/200\n",
      "215352/215352 [==============================] - 24s 113us/sample - loss: 0.6107 - acc: 0.7683 - val_loss: 0.6095 - val_acc: 0.7712\n",
      "Epoch 20/200\n",
      "215352/215352 [==============================] - 24s 112us/sample - loss: 0.6105 - acc: 0.7690 - val_loss: 0.6093 - val_acc: 0.7702\n",
      "Epoch 21/200\n",
      "215352/215352 [==============================] - 24s 112us/sample - loss: 0.6103 - acc: 0.7696 - val_loss: 0.6091 - val_acc: 0.7712\n",
      "Epoch 22/200\n",
      "215352/215352 [==============================] - 24s 112us/sample - loss: 0.6102 - acc: 0.7703 - val_loss: 0.6088 - val_acc: 0.7721\n",
      "Epoch 23/200\n",
      "215352/215352 [==============================] - 25s 116us/sample - loss: 0.6098 - acc: 0.7703 - val_loss: 0.6087 - val_acc: 0.7728\n",
      "Epoch 24/200\n",
      "215352/215352 [==============================] - 24s 112us/sample - loss: 0.6096 - acc: 0.7719 - val_loss: 0.6085 - val_acc: 0.7737\n",
      "Epoch 25/200\n",
      "215352/215352 [==============================] - 24s 112us/sample - loss: 0.6096 - acc: 0.7716 - val_loss: 0.6083 - val_acc: 0.7774\n",
      "Epoch 26/200\n",
      "215352/215352 [==============================] - 24s 112us/sample - loss: 0.6095 - acc: 0.7720 - val_loss: 0.6082 - val_acc: 0.7751\n",
      "Epoch 27/200\n",
      "215352/215352 [==============================] - 24s 112us/sample - loss: 0.6093 - acc: 0.7729 - val_loss: 0.6082 - val_acc: 0.7733\n",
      "Epoch 28/200\n",
      "215352/215352 [==============================] - 24s 112us/sample - loss: 0.6093 - acc: 0.7733 - val_loss: 0.6080 - val_acc: 0.7743\n",
      "Epoch 29/200\n",
      "215352/215352 [==============================] - 28s 129us/sample - loss: 0.6092 - acc: 0.7727 - val_loss: 0.6080 - val_acc: 0.7744\n",
      "Epoch 30/200\n",
      "215352/215352 [==============================] - 28s 129us/sample - loss: 0.6088 - acc: 0.7739 - val_loss: 0.6079 - val_acc: 0.7758\n",
      "Epoch 31/200\n",
      "215352/215352 [==============================] - 24s 112us/sample - loss: 0.6087 - acc: 0.7747 - val_loss: 0.6077 - val_acc: 0.7777\n",
      "Epoch 32/200\n",
      "215352/215352 [==============================] - 24s 112us/sample - loss: 0.6086 - acc: 0.7746 - val_loss: 0.6078 - val_acc: 0.7744\n",
      "Epoch 33/200\n",
      "215352/215352 [==============================] - 24s 112us/sample - loss: 0.6087 - acc: 0.7740 - val_loss: 0.6075 - val_acc: 0.7787\n",
      "Epoch 34/200\n",
      "215352/215352 [==============================] - 24s 112us/sample - loss: 0.6087 - acc: 0.7749 - val_loss: 0.6075 - val_acc: 0.7778\n",
      "Epoch 35/200\n",
      "215352/215352 [==============================] - 24s 112us/sample - loss: 0.6086 - acc: 0.7747 - val_loss: 0.6074 - val_acc: 0.7774\n",
      "Epoch 36/200\n",
      "215352/215352 [==============================] - 24s 112us/sample - loss: 0.6084 - acc: 0.7755 - val_loss: 0.6073 - val_acc: 0.7777\n",
      "Epoch 37/200\n",
      "215352/215352 [==============================] - 24s 112us/sample - loss: 0.6085 - acc: 0.7745 - val_loss: 0.6073 - val_acc: 0.7777\n",
      "Epoch 38/200\n",
      "215352/215352 [==============================] - 24s 111us/sample - loss: 0.6084 - acc: 0.7751 - val_loss: 0.6073 - val_acc: 0.7770\n",
      "Epoch 39/200\n",
      "215352/215352 [==============================] - 24s 111us/sample - loss: 0.6082 - acc: 0.7753 - val_loss: 0.6071 - val_acc: 0.7786\n",
      "Epoch 40/200\n",
      "215352/215352 [==============================] - 27s 125us/sample - loss: 0.6081 - acc: 0.7757 - val_loss: 0.6071 - val_acc: 0.7782\n",
      "Epoch 41/200\n",
      "215352/215352 [==============================] - 24s 112us/sample - loss: 0.6081 - acc: 0.7758 - val_loss: 0.6070 - val_acc: 0.7773\n",
      "Epoch 42/200\n",
      "215352/215352 [==============================] - 24s 111us/sample - loss: 0.6082 - acc: 0.7752 - val_loss: 0.6069 - val_acc: 0.7800\n",
      "Epoch 43/200\n",
      "215352/215352 [==============================] - 24s 111us/sample - loss: 0.6080 - acc: 0.7758 - val_loss: 0.6069 - val_acc: 0.7803\n",
      "Epoch 44/200\n",
      "215352/215352 [==============================] - 24s 112us/sample - loss: 0.6081 - acc: 0.7758 - val_loss: 0.6068 - val_acc: 0.7808\n",
      "Epoch 45/200\n",
      "215352/215352 [==============================] - 24s 112us/sample - loss: 0.6080 - acc: 0.7763 - val_loss: 0.6068 - val_acc: 0.7801\n",
      "Epoch 46/200\n",
      "215352/215352 [==============================] - 24s 112us/sample - loss: 0.6077 - acc: 0.7770 - val_loss: 0.6067 - val_acc: 0.7804\n",
      "Epoch 47/200\n",
      "215352/215352 [==============================] - 24s 113us/sample - loss: 0.6079 - acc: 0.7768 - val_loss: 0.6069 - val_acc: 0.7765\n",
      "Epoch 48/200\n",
      "215352/215352 [==============================] - 24s 112us/sample - loss: 0.6079 - acc: 0.7758 - val_loss: 0.6067 - val_acc: 0.7796\n",
      "Epoch 49/200\n",
      "215352/215352 [==============================] - 24s 111us/sample - loss: 0.6078 - acc: 0.7764 - val_loss: 0.6067 - val_acc: 0.7794\n",
      "Epoch 50/200\n",
      "215352/215352 [==============================] - 24s 112us/sample - loss: 0.6078 - acc: 0.7762 - val_loss: 0.6066 - val_acc: 0.7822\n",
      "Epoch 51/200\n",
      "215352/215352 [==============================] - 24s 112us/sample - loss: 0.6076 - acc: 0.7763 - val_loss: 0.6066 - val_acc: 0.7833\n",
      "Epoch 52/200\n",
      "215352/215352 [==============================] - 24s 112us/sample - loss: 0.6075 - acc: 0.7769 - val_loss: 0.6065 - val_acc: 0.7802\n",
      "Epoch 53/200\n",
      "215352/215352 [==============================] - 24s 112us/sample - loss: 0.6074 - acc: 0.7767 - val_loss: 0.6064 - val_acc: 0.7816\n",
      "Epoch 54/200\n",
      "215352/215352 [==============================] - 24s 112us/sample - loss: 0.6076 - acc: 0.7766 - val_loss: 0.6065 - val_acc: 0.7834\n",
      "Epoch 55/200\n",
      "215352/215352 [==============================] - 24s 112us/sample - loss: 0.6076 - acc: 0.7766 - val_loss: 0.6065 - val_acc: 0.7800\n",
      "Epoch 56/200\n",
      "215352/215352 [==============================] - 24s 112us/sample - loss: 0.6073 - acc: 0.7772 - val_loss: 0.6064 - val_acc: 0.7810\n",
      "Epoch 57/200\n",
      "215352/215352 [==============================] - 24s 113us/sample - loss: 0.6076 - acc: 0.7767 - val_loss: 0.6064 - val_acc: 0.7807\n",
      "Epoch 58/200\n",
      "215352/215352 [==============================] - 24s 112us/sample - loss: 0.6075 - acc: 0.7767 - val_loss: 0.6063 - val_acc: 0.7814\n",
      "Epoch 59/200\n",
      "215352/215352 [==============================] - 24s 112us/sample - loss: 0.6073 - acc: 0.7775 - val_loss: 0.6063 - val_acc: 0.7805\n",
      "Epoch 60/200\n",
      "215352/215352 [==============================] - 24s 111us/sample - loss: 0.6073 - acc: 0.7771 - val_loss: 0.6063 - val_acc: 0.7804\n",
      "Epoch 61/200\n",
      "215352/215352 [==============================] - 24s 111us/sample - loss: 0.6073 - acc: 0.7769 - val_loss: 0.6062 - val_acc: 0.7814\n",
      "Epoch 62/200\n",
      "215352/215352 [==============================] - 25s 114us/sample - loss: 0.6073 - acc: 0.7774 - val_loss: 0.6063 - val_acc: 0.7799\n",
      "Epoch 63/200\n",
      "215352/215352 [==============================] - 24s 112us/sample - loss: 0.6072 - acc: 0.7771 - val_loss: 0.6061 - val_acc: 0.7812\n",
      "Epoch 64/200\n",
      "215352/215352 [==============================] - 24s 112us/sample - loss: 0.6073 - acc: 0.7774 - val_loss: 0.6061 - val_acc: 0.7809\n",
      "Epoch 65/200\n",
      "215352/215352 [==============================] - 25s 114us/sample - loss: 0.6071 - acc: 0.7778 - val_loss: 0.6060 - val_acc: 0.7812\n",
      "Epoch 66/200\n",
      "215352/215352 [==============================] - 25s 114us/sample - loss: 0.6072 - acc: 0.7773 - val_loss: 0.6061 - val_acc: 0.7805\n",
      "Epoch 67/200\n",
      "215352/215352 [==============================] - 24s 113us/sample - loss: 0.6070 - acc: 0.7776 - val_loss: 0.6060 - val_acc: 0.7816\n",
      "Epoch 68/200\n",
      "215352/215352 [==============================] - 24s 113us/sample - loss: 0.6070 - acc: 0.7777 - val_loss: 0.6061 - val_acc: 0.7806\n",
      "Epoch 69/200\n",
      "215352/215352 [==============================] - 24s 112us/sample - loss: 0.6069 - acc: 0.7780 - val_loss: 0.6060 - val_acc: 0.7819\n",
      "Epoch 70/200\n",
      "215352/215352 [==============================] - 24s 112us/sample - loss: 0.6069 - acc: 0.7780 - val_loss: 0.6059 - val_acc: 0.7814\n",
      "Epoch 71/200\n",
      "215352/215352 [==============================] - 24s 112us/sample - loss: 0.6069 - acc: 0.7779 - val_loss: 0.6059 - val_acc: 0.7835\n",
      "Epoch 72/200\n",
      "215352/215352 [==============================] - 24s 113us/sample - loss: 0.6070 - acc: 0.7777 - val_loss: 0.6059 - val_acc: 0.7839\n",
      "Epoch 73/200\n",
      "215352/215352 [==============================] - 24s 111us/sample - loss: 0.6069 - acc: 0.7781 - val_loss: 0.6059 - val_acc: 0.7815\n",
      "Epoch 74/200\n",
      "215352/215352 [==============================] - 24s 112us/sample - loss: 0.6068 - acc: 0.7783 - val_loss: 0.6058 - val_acc: 0.7819\n",
      "Epoch 75/200\n",
      "215352/215352 [==============================] - 24s 112us/sample - loss: 0.6066 - acc: 0.7791 - val_loss: 0.6058 - val_acc: 0.7822\n",
      "Epoch 76/200\n",
      "215352/215352 [==============================] - 24s 111us/sample - loss: 0.6068 - acc: 0.7785 - val_loss: 0.6058 - val_acc: 0.7806\n",
      "Epoch 77/200\n",
      "215352/215352 [==============================] - 24s 112us/sample - loss: 0.6066 - acc: 0.7786 - val_loss: 0.6057 - val_acc: 0.7804\n",
      "Epoch 78/200\n",
      "215352/215352 [==============================] - 24s 112us/sample - loss: 0.6067 - acc: 0.7783 - val_loss: 0.6057 - val_acc: 0.7804\n",
      "Epoch 79/200\n",
      "215352/215352 [==============================] - 24s 111us/sample - loss: 0.6067 - acc: 0.7783 - val_loss: 0.6057 - val_acc: 0.7816\n",
      "Epoch 80/200\n",
      "215352/215352 [==============================] - 24s 111us/sample - loss: 0.6066 - acc: 0.7789 - val_loss: 0.6056 - val_acc: 0.7814\n",
      "Epoch 81/200\n",
      "215352/215352 [==============================] - 24s 112us/sample - loss: 0.6065 - acc: 0.7789 - val_loss: 0.6056 - val_acc: 0.7816\n",
      "Epoch 82/200\n",
      "215352/215352 [==============================] - 24s 113us/sample - loss: 0.6065 - acc: 0.7789 - val_loss: 0.6057 - val_acc: 0.7804\n",
      "Epoch 83/200\n",
      "215352/215352 [==============================] - 24s 112us/sample - loss: 0.6064 - acc: 0.7790 - val_loss: 0.6056 - val_acc: 0.7832\n",
      "Epoch 84/200\n",
      "215352/215352 [==============================] - 24s 112us/sample - loss: 0.6065 - acc: 0.7793 - val_loss: 0.6055 - val_acc: 0.7822\n",
      "Epoch 85/200\n",
      "215352/215352 [==============================] - 24s 112us/sample - loss: 0.6063 - acc: 0.7791 - val_loss: 0.6056 - val_acc: 0.7851\n",
      "Epoch 86/200\n",
      "215352/215352 [==============================] - 24s 113us/sample - loss: 0.6064 - acc: 0.7792 - val_loss: 0.6055 - val_acc: 0.7821\n",
      "Epoch 87/200\n",
      "215352/215352 [==============================] - 24s 112us/sample - loss: 0.6063 - acc: 0.7796 - val_loss: 0.6055 - val_acc: 0.7843\n",
      "Epoch 88/200\n",
      "215352/215352 [==============================] - 24s 113us/sample - loss: 0.6063 - acc: 0.7794 - val_loss: 0.6054 - val_acc: 0.7831\n",
      "Epoch 89/200\n",
      "215352/215352 [==============================] - 30s 138us/sample - loss: 0.6062 - acc: 0.7795 - val_loss: 0.6054 - val_acc: 0.7822\n",
      "Epoch 90/200\n",
      "215352/215352 [==============================] - 27s 127us/sample - loss: 0.6062 - acc: 0.7797 - val_loss: 0.6054 - val_acc: 0.7825\n",
      "Epoch 91/200\n",
      "215352/215352 [==============================] - 26s 120us/sample - loss: 0.6062 - acc: 0.7790 - val_loss: 0.6054 - val_acc: 0.7841\n",
      "Epoch 92/200\n",
      "215352/215352 [==============================] - 25s 118us/sample - loss: 0.6062 - acc: 0.7799 - val_loss: 0.6053 - val_acc: 0.7840\n",
      "Epoch 93/200\n",
      "215352/215352 [==============================] - 26s 119us/sample - loss: 0.6061 - acc: 0.7793 - val_loss: 0.6053 - val_acc: 0.7818\n",
      "Epoch 94/200\n",
      "215352/215352 [==============================] - 25s 117us/sample - loss: 0.6060 - acc: 0.7795 - val_loss: 0.6053 - val_acc: 0.7830\n",
      "Epoch 95/200\n",
      "215352/215352 [==============================] - 25s 117us/sample - loss: 0.6061 - acc: 0.7791 - val_loss: 0.6053 - val_acc: 0.7826\n",
      "Epoch 96/200\n",
      "215352/215352 [==============================] - 25s 117us/sample - loss: 0.6060 - acc: 0.7796 - val_loss: 0.6052 - val_acc: 0.7825\n",
      "Epoch 97/200\n",
      "215352/215352 [==============================] - 25s 117us/sample - loss: 0.6059 - acc: 0.7800 - val_loss: 0.6052 - val_acc: 0.7824\n",
      "Epoch 98/200\n",
      "215352/215352 [==============================] - 25s 118us/sample - loss: 0.6060 - acc: 0.7793 - val_loss: 0.6052 - val_acc: 0.7852\n",
      "Epoch 99/200\n",
      "215352/215352 [==============================] - 25s 118us/sample - loss: 0.6059 - acc: 0.7801 - val_loss: 0.6051 - val_acc: 0.7817\n",
      "Epoch 100/200\n",
      "215352/215352 [==============================] - 25s 117us/sample - loss: 0.6059 - acc: 0.7801 - val_loss: 0.6052 - val_acc: 0.7799\n",
      "Epoch 101/200\n",
      "215352/215352 [==============================] - 25s 118us/sample - loss: 0.6057 - acc: 0.7802 - val_loss: 0.6051 - val_acc: 0.7817\n",
      "Epoch 102/200\n",
      "215352/215352 [==============================] - 25s 118us/sample - loss: 0.6057 - acc: 0.7804 - val_loss: 0.6051 - val_acc: 0.7843\n",
      "Epoch 103/200\n",
      "215352/215352 [==============================] - 25s 118us/sample - loss: 0.6057 - acc: 0.7801 - val_loss: 0.6050 - val_acc: 0.7844\n",
      "Epoch 104/200\n",
      "215352/215352 [==============================] - 25s 118us/sample - loss: 0.6057 - acc: 0.7805 - val_loss: 0.6050 - val_acc: 0.7830\n",
      "Epoch 105/200\n",
      "215352/215352 [==============================] - 25s 117us/sample - loss: 0.6056 - acc: 0.7801 - val_loss: 0.6050 - val_acc: 0.7855\n",
      "Epoch 106/200\n",
      "215352/215352 [==============================] - 26s 118us/sample - loss: 0.6056 - acc: 0.7806 - val_loss: 0.6050 - val_acc: 0.7817\n",
      "Epoch 107/200\n",
      "215352/215352 [==============================] - 25s 118us/sample - loss: 0.6057 - acc: 0.7802 - val_loss: 0.6049 - val_acc: 0.7831\n",
      "Epoch 108/200\n",
      "215352/215352 [==============================] - 26s 119us/sample - loss: 0.6055 - acc: 0.7809 - val_loss: 0.6049 - val_acc: 0.7852\n",
      "Epoch 109/200\n",
      "215352/215352 [==============================] - 25s 118us/sample - loss: 0.6054 - acc: 0.7809 - val_loss: 0.6048 - val_acc: 0.7835\n",
      "Epoch 110/200\n",
      "215352/215352 [==============================] - 25s 116us/sample - loss: 0.6055 - acc: 0.7806 - val_loss: 0.6049 - val_acc: 0.7819\n",
      "Epoch 111/200\n",
      "215352/215352 [==============================] - 25s 118us/sample - loss: 0.6054 - acc: 0.7811 - val_loss: 0.6047 - val_acc: 0.7838\n",
      "Epoch 112/200\n",
      "215352/215352 [==============================] - 25s 118us/sample - loss: 0.6053 - acc: 0.7807 - val_loss: 0.6047 - val_acc: 0.7848\n",
      "Epoch 113/200\n"
     ]
    },
    {
     "name": "stdout",
     "output_type": "stream",
     "text": [
      "215352/215352 [==============================] - 25s 118us/sample - loss: 0.6054 - acc: 0.7809 - val_loss: 0.6047 - val_acc: 0.7847\n",
      "Epoch 114/200\n",
      "215352/215352 [==============================] - 25s 118us/sample - loss: 0.6053 - acc: 0.7814 - val_loss: 0.6046 - val_acc: 0.7834\n",
      "Epoch 115/200\n",
      "215352/215352 [==============================] - 25s 115us/sample - loss: 0.6052 - acc: 0.7814 - val_loss: 0.6045 - val_acc: 0.7852\n",
      "Epoch 116/200\n",
      "215352/215352 [==============================] - 26s 119us/sample - loss: 0.6051 - acc: 0.7816 - val_loss: 0.6046 - val_acc: 0.7854\n",
      "Epoch 117/200\n",
      "215352/215352 [==============================] - 26s 119us/sample - loss: 0.6051 - acc: 0.7815 - val_loss: 0.6044 - val_acc: 0.7843\n",
      "Epoch 118/200\n",
      "215352/215352 [==============================] - 25s 117us/sample - loss: 0.6051 - acc: 0.7812 - val_loss: 0.6045 - val_acc: 0.7854\n",
      "Epoch 119/200\n",
      "215352/215352 [==============================] - 26s 119us/sample - loss: 0.6051 - acc: 0.7811 - val_loss: 0.6045 - val_acc: 0.7839\n",
      "Epoch 120/200\n",
      "215352/215352 [==============================] - 25s 116us/sample - loss: 0.6052 - acc: 0.7805 - val_loss: 0.6044 - val_acc: 0.7848\n",
      "Epoch 121/200\n",
      "215352/215352 [==============================] - 25s 118us/sample - loss: 0.6048 - acc: 0.7822 - val_loss: 0.6044 - val_acc: 0.7861\n",
      "Epoch 122/200\n",
      "215352/215352 [==============================] - 26s 120us/sample - loss: 0.6050 - acc: 0.7813 - val_loss: 0.6042 - val_acc: 0.7846\n",
      "Epoch 123/200\n",
      "215352/215352 [==============================] - 25s 118us/sample - loss: 0.6048 - acc: 0.7819 - val_loss: 0.6043 - val_acc: 0.7821\n",
      "Epoch 124/200\n",
      "215352/215352 [==============================] - 26s 119us/sample - loss: 0.6049 - acc: 0.7811 - val_loss: 0.6042 - val_acc: 0.7868\n",
      "Epoch 125/200\n",
      "215352/215352 [==============================] - 25s 115us/sample - loss: 0.6047 - acc: 0.7817 - val_loss: 0.6041 - val_acc: 0.7845\n",
      "Epoch 126/200\n",
      "215352/215352 [==============================] - 26s 119us/sample - loss: 0.6046 - acc: 0.7822 - val_loss: 0.6041 - val_acc: 0.7853\n",
      "Epoch 127/200\n",
      "215352/215352 [==============================] - 25s 118us/sample - loss: 0.6047 - acc: 0.7819 - val_loss: 0.6040 - val_acc: 0.7858\n",
      "Epoch 128/200\n",
      "215352/215352 [==============================] - 25s 117us/sample - loss: 0.6046 - acc: 0.7819 - val_loss: 0.6039 - val_acc: 0.7858\n",
      "Epoch 129/200\n",
      "215352/215352 [==============================] - 25s 118us/sample - loss: 0.6046 - acc: 0.7817 - val_loss: 0.6039 - val_acc: 0.7857\n",
      "Epoch 130/200\n",
      "215352/215352 [==============================] - 25s 117us/sample - loss: 0.6046 - acc: 0.7821 - val_loss: 0.6039 - val_acc: 0.7849\n",
      "Epoch 131/200\n",
      "215352/215352 [==============================] - 26s 120us/sample - loss: 0.6044 - acc: 0.7828 - val_loss: 0.6038 - val_acc: 0.7847\n",
      "Epoch 132/200\n",
      "215352/215352 [==============================] - 26s 120us/sample - loss: 0.6043 - acc: 0.7828 - val_loss: 0.6038 - val_acc: 0.7865\n",
      "Epoch 133/200\n",
      "215352/215352 [==============================] - 25s 116us/sample - loss: 0.6044 - acc: 0.7825 - val_loss: 0.6038 - val_acc: 0.7879\n",
      "Epoch 134/200\n",
      "215352/215352 [==============================] - 25s 118us/sample - loss: 0.6042 - acc: 0.7825 - val_loss: 0.6037 - val_acc: 0.7877\n",
      "Epoch 135/200\n",
      "215352/215352 [==============================] - 25s 117us/sample - loss: 0.6041 - acc: 0.7830 - val_loss: 0.6036 - val_acc: 0.7860\n",
      "Epoch 136/200\n",
      "215352/215352 [==============================] - 25s 118us/sample - loss: 0.6042 - acc: 0.7828 - val_loss: 0.6036 - val_acc: 0.7882\n",
      "Epoch 137/200\n",
      "215352/215352 [==============================] - 26s 119us/sample - loss: 0.6043 - acc: 0.7824 - val_loss: 0.6035 - val_acc: 0.7865\n",
      "Epoch 138/200\n",
      "215352/215352 [==============================] - 25s 116us/sample - loss: 0.6041 - acc: 0.7825 - val_loss: 0.6035 - val_acc: 0.7866\n",
      "Epoch 139/200\n",
      "215352/215352 [==============================] - 25s 118us/sample - loss: 0.6041 - acc: 0.7827 - val_loss: 0.6034 - val_acc: 0.7862\n",
      "Epoch 140/200\n",
      "215352/215352 [==============================] - 25s 117us/sample - loss: 0.6039 - acc: 0.7837 - val_loss: 0.6034 - val_acc: 0.7883\n",
      "Epoch 141/200\n",
      "215352/215352 [==============================] - 25s 117us/sample - loss: 0.6039 - acc: 0.7833 - val_loss: 0.6034 - val_acc: 0.7884\n",
      "Epoch 142/200\n",
      "215352/215352 [==============================] - 26s 119us/sample - loss: 0.6038 - acc: 0.7836 - val_loss: 0.6033 - val_acc: 0.7873\n",
      "Epoch 143/200\n",
      "215352/215352 [==============================] - 25s 116us/sample - loss: 0.6039 - acc: 0.7830 - val_loss: 0.6032 - val_acc: 0.7887\n",
      "Epoch 144/200\n",
      "215352/215352 [==============================] - 26s 119us/sample - loss: 0.6038 - acc: 0.7840 - val_loss: 0.6032 - val_acc: 0.7859\n",
      "Epoch 145/200\n",
      "215352/215352 [==============================] - 25s 117us/sample - loss: 0.6038 - acc: 0.7838 - val_loss: 0.6033 - val_acc: 0.7904\n",
      "Epoch 146/200\n",
      "215352/215352 [==============================] - 25s 117us/sample - loss: 0.6036 - acc: 0.7842 - val_loss: 0.6034 - val_acc: 0.7905\n",
      "Epoch 147/200\n",
      "215352/215352 [==============================] - 26s 120us/sample - loss: 0.6035 - acc: 0.7841 - val_loss: 0.6031 - val_acc: 0.7880\n",
      "Epoch 148/200\n",
      "215352/215352 [==============================] - 25s 118us/sample - loss: 0.6035 - acc: 0.7842 - val_loss: 0.6030 - val_acc: 0.7886\n",
      "Epoch 149/200\n",
      "215352/215352 [==============================] - 25s 118us/sample - loss: 0.6034 - acc: 0.7844 - val_loss: 0.6030 - val_acc: 0.7885\n",
      "Epoch 150/200\n",
      "215352/215352 [==============================] - 25s 117us/sample - loss: 0.6035 - acc: 0.7842 - val_loss: 0.6029 - val_acc: 0.7880\n",
      "Epoch 151/200\n",
      "215352/215352 [==============================] - 26s 119us/sample - loss: 0.6034 - acc: 0.7843 - val_loss: 0.6028 - val_acc: 0.7874\n",
      "Epoch 152/200\n",
      "215352/215352 [==============================] - 25s 118us/sample - loss: 0.6031 - acc: 0.7849 - val_loss: 0.6029 - val_acc: 0.7897\n",
      "Epoch 153/200\n",
      "215352/215352 [==============================] - 25s 115us/sample - loss: 0.6033 - acc: 0.7847 - val_loss: 0.6028 - val_acc: 0.7888\n",
      "Epoch 154/200\n",
      "215352/215352 [==============================] - 26s 119us/sample - loss: 0.6032 - acc: 0.7850 - val_loss: 0.6027 - val_acc: 0.7870\n",
      "Epoch 155/200\n",
      "215352/215352 [==============================] - 25s 118us/sample - loss: 0.6033 - acc: 0.7845 - val_loss: 0.6027 - val_acc: 0.7873\n",
      "Epoch 156/200\n",
      "215352/215352 [==============================] - 26s 119us/sample - loss: 0.6031 - acc: 0.7848 - val_loss: 0.6026 - val_acc: 0.7887\n",
      "Epoch 157/200\n",
      "215352/215352 [==============================] - 26s 119us/sample - loss: 0.6030 - acc: 0.7849 - val_loss: 0.6026 - val_acc: 0.7879\n",
      "Epoch 158/200\n",
      "215352/215352 [==============================] - 25s 117us/sample - loss: 0.6029 - acc: 0.7853 - val_loss: 0.6026 - val_acc: 0.7893\n",
      "Epoch 159/200\n",
      "215352/215352 [==============================] - 26s 119us/sample - loss: 0.6030 - acc: 0.7851 - val_loss: 0.6026 - val_acc: 0.7897\n",
      "Epoch 160/200\n",
      "215352/215352 [==============================] - 26s 120us/sample - loss: 0.6029 - acc: 0.7853 - val_loss: 0.6025 - val_acc: 0.7886\n",
      "Epoch 161/200\n",
      "215352/215352 [==============================] - 25s 118us/sample - loss: 0.6030 - acc: 0.7852 - val_loss: 0.6025 - val_acc: 0.7890\n",
      "Epoch 162/200\n",
      "215352/215352 [==============================] - 26s 120us/sample - loss: 0.6027 - acc: 0.7858 - val_loss: 0.6024 - val_acc: 0.7878\n",
      "Epoch 163/200\n",
      "215352/215352 [==============================] - 25s 117us/sample - loss: 0.6028 - acc: 0.7855 - val_loss: 0.6025 - val_acc: 0.7902\n",
      "Epoch 164/200\n",
      "215352/215352 [==============================] - 25s 118us/sample - loss: 0.6028 - acc: 0.7857 - val_loss: 0.6023 - val_acc: 0.7886\n",
      "Epoch 165/200\n",
      "215352/215352 [==============================] - 25s 118us/sample - loss: 0.6026 - acc: 0.7858 - val_loss: 0.6024 - val_acc: 0.7902\n",
      "Epoch 166/200\n",
      "215352/215352 [==============================] - 25s 117us/sample - loss: 0.6027 - acc: 0.7859 - val_loss: 0.6023 - val_acc: 0.7898\n",
      "Epoch 167/200\n",
      "215352/215352 [==============================] - 25s 118us/sample - loss: 0.6026 - acc: 0.7854 - val_loss: 0.6023 - val_acc: 0.7912\n",
      "Epoch 168/200\n",
      "215352/215352 [==============================] - 25s 118us/sample - loss: 0.6025 - acc: 0.7856 - val_loss: 0.6022 - val_acc: 0.7905\n",
      "Epoch 169/200\n",
      "215352/215352 [==============================] - 26s 120us/sample - loss: 0.6026 - acc: 0.7852 - val_loss: 0.6021 - val_acc: 0.7889\n",
      "Epoch 170/200\n",
      "215352/215352 [==============================] - 25s 118us/sample - loss: 0.6024 - acc: 0.7861 - val_loss: 0.6022 - val_acc: 0.7914\n",
      "Epoch 171/200\n",
      "215352/215352 [==============================] - 25s 117us/sample - loss: 0.6023 - acc: 0.7862 - val_loss: 0.6021 - val_acc: 0.7908\n",
      "Epoch 172/200\n",
      "215352/215352 [==============================] - 26s 118us/sample - loss: 0.6023 - acc: 0.7866 - val_loss: 0.6019 - val_acc: 0.7890\n",
      "Epoch 173/200\n",
      "215352/215352 [==============================] - 25s 117us/sample - loss: 0.6022 - acc: 0.7865 - val_loss: 0.6019 - val_acc: 0.7916\n",
      "Epoch 174/200\n",
      "215352/215352 [==============================] - 26s 120us/sample - loss: 0.6021 - acc: 0.7872 - val_loss: 0.6018 - val_acc: 0.7898\n",
      "Epoch 175/200\n",
      "215352/215352 [==============================] - 26s 121us/sample - loss: 0.6020 - acc: 0.7871 - val_loss: 0.6018 - val_acc: 0.7902\n",
      "Epoch 176/200\n",
      "215352/215352 [==============================] - 25s 118us/sample - loss: 0.6021 - acc: 0.7869 - val_loss: 0.6018 - val_acc: 0.7913\n",
      "Epoch 177/200\n",
      "215352/215352 [==============================] - 26s 119us/sample - loss: 0.6023 - acc: 0.7866 - val_loss: 0.6017 - val_acc: 0.7887\n",
      "Epoch 178/200\n",
      "215352/215352 [==============================] - 25s 116us/sample - loss: 0.6019 - acc: 0.7869 - val_loss: 0.6017 - val_acc: 0.7916\n",
      "Epoch 179/200\n",
      "215352/215352 [==============================] - 25s 117us/sample - loss: 0.6019 - acc: 0.7872 - val_loss: 0.6016 - val_acc: 0.7917\n",
      "Epoch 180/200\n",
      "215352/215352 [==============================] - 26s 119us/sample - loss: 0.6017 - acc: 0.7876 - val_loss: 0.6015 - val_acc: 0.7894\n",
      "Epoch 181/200\n",
      "215352/215352 [==============================] - 25s 117us/sample - loss: 0.6017 - acc: 0.7876 - val_loss: 0.6017 - val_acc: 0.7932\n",
      "Epoch 182/200\n",
      "215352/215352 [==============================] - 26s 120us/sample - loss: 0.6018 - acc: 0.7874 - val_loss: 0.6015 - val_acc: 0.7922\n",
      "Epoch 183/200\n",
      "215352/215352 [==============================] - 25s 116us/sample - loss: 0.6017 - acc: 0.7874 - val_loss: 0.6015 - val_acc: 0.7923\n",
      "Epoch 184/200\n",
      "215352/215352 [==============================] - 26s 120us/sample - loss: 0.6017 - acc: 0.7876 - val_loss: 0.6016 - val_acc: 0.7938\n",
      "Epoch 185/200\n",
      "215352/215352 [==============================] - 26s 119us/sample - loss: 0.6015 - acc: 0.7878 - val_loss: 0.6014 - val_acc: 0.7933\n",
      "Epoch 186/200\n",
      "215352/215352 [==============================] - 25s 117us/sample - loss: 0.6018 - acc: 0.7874 - val_loss: 0.6013 - val_acc: 0.7922\n",
      "Epoch 187/200\n",
      "215352/215352 [==============================] - 26s 119us/sample - loss: 0.6015 - acc: 0.7881 - val_loss: 0.6012 - val_acc: 0.7929\n",
      "Epoch 188/200\n",
      "215352/215352 [==============================] - 25s 117us/sample - loss: 0.6014 - acc: 0.7883 - val_loss: 0.6011 - val_acc: 0.7922\n",
      "Epoch 189/200\n",
      "215352/215352 [==============================] - 25s 118us/sample - loss: 0.6014 - acc: 0.7886 - val_loss: 0.6010 - val_acc: 0.7906\n",
      "Epoch 190/200\n",
      "215352/215352 [==============================] - 26s 120us/sample - loss: 0.6015 - acc: 0.7879 - val_loss: 0.6011 - val_acc: 0.7930\n",
      "Epoch 191/200\n",
      "215352/215352 [==============================] - 25s 117us/sample - loss: 0.6013 - acc: 0.7886 - val_loss: 0.6009 - val_acc: 0.7913\n",
      "Epoch 192/200\n",
      "215352/215352 [==============================] - 26s 119us/sample - loss: 0.6014 - acc: 0.7876 - val_loss: 0.6008 - val_acc: 0.7914\n",
      "Epoch 193/200\n",
      "215352/215352 [==============================] - 25s 117us/sample - loss: 0.6011 - acc: 0.7884 - val_loss: 0.6009 - val_acc: 0.7935\n",
      "Epoch 194/200\n",
      "215352/215352 [==============================] - 26s 119us/sample - loss: 0.6012 - acc: 0.7884 - val_loss: 0.6010 - val_acc: 0.7939\n",
      "Epoch 195/200\n",
      "215352/215352 [==============================] - 26s 120us/sample - loss: 0.6013 - acc: 0.7884 - val_loss: 0.6008 - val_acc: 0.7933\n",
      "Epoch 196/200\n",
      "215352/215352 [==============================] - 25s 116us/sample - loss: 0.6009 - acc: 0.7896 - val_loss: 0.6008 - val_acc: 0.7939\n",
      "Epoch 197/200\n",
      "215352/215352 [==============================] - 25s 118us/sample - loss: 0.6011 - acc: 0.7886 - val_loss: 0.6007 - val_acc: 0.7939\n",
      "Epoch 198/200\n",
      "215352/215352 [==============================] - 25s 115us/sample - loss: 0.6009 - acc: 0.7893 - val_loss: 0.6005 - val_acc: 0.7930\n",
      "Epoch 199/200\n",
      "215352/215352 [==============================] - 25s 118us/sample - loss: 0.6009 - acc: 0.7891 - val_loss: 0.6005 - val_acc: 0.7924\n",
      "Epoch 200/200\n",
      "215352/215352 [==============================] - 26s 118us/sample - loss: 0.6010 - acc: 0.7884 - val_loss: 0.6005 - val_acc: 0.7940\n"
     ]
    }
   ],
   "source": [
    "history = model81.fit(X_train, y_train, epochs=200, \n",
    "                    batch_size=100,\n",
    "                    validation_data=(X_val, y_val),\n",
    "                    callbacks=[es])"
   ]
  },
  {
   "cell_type": "code",
   "execution_count": 31,
   "metadata": {
    "ExecuteTime": {
     "end_time": "2021-08-30T22:25:20.908335Z",
     "start_time": "2021-08-30T22:25:07.966077Z"
    }
   },
   "outputs": [
    {
     "name": "stdout",
     "output_type": "stream",
     "text": [
      "67298/67298 [==============================] - 4s 67us/sample - loss: 0.6022 - acc: 0.7907\n",
      "Test Loss: 0.6021953328052082\n",
      "Test Accuracy: 0.7907218933105469\n",
      "              precision    recall  f1-score   support\n",
      "\n",
      "           0       0.77      0.83      0.80     33706\n",
      "           1       0.82      0.75      0.78     33592\n",
      "\n",
      "    accuracy                           0.79     67298\n",
      "   macro avg       0.79      0.79      0.79     67298\n",
      "weighted avg       0.79      0.79      0.79     67298\n",
      "\n",
      "rf auc : 0.858128468918727\n"
     ]
    },
    {
     "data": {
      "image/png": "[encoded data removed]",
      "text/plain": [
       "<Figure size 288x288 with 1 Axes>"
      ]
     },
     "metadata": {
      "needs_background": "light"
     },
     "output_type": "display_data"
    },
    {
     "data": {
      "image/png": "[encoded data removed]",
      "text/plain": [
       "<Figure size 216x216 with 2 Axes>"
      ]
     },
     "metadata": {
      "needs_background": "light"
     },
     "output_type": "display_data"
    },
    {
     "data": {
      "image/png": "[encoded data removed]",
      "text/plain": [
       "<Figure size 216x216 with 2 Axes>"
      ]
     },
     "metadata": {
      "needs_background": "light"
     },
     "output_type": "display_data"
    }
   ],
   "source": [
    "test_loss, test_acc = model81.evaluate(X_test, y_test)\n",
    "print('Test Loss: {}'.format(test_loss))\n",
    "print('Test Accuracy: {}'.format(test_acc))\n",
    "\n",
    "# prediction\n",
    "y_pred = [1 if i>=0.5 else 0 for i in model81.predict(X_test)]\n",
    "print(classification_report(y_test, y_pred))\n",
    "# AUC\n",
    "probs = model81.predict(X_test)\n",
    "rf_auc = roc_auc_score(y_test, probs)\n",
    "print('rf auc : {}'.format(rf_auc))\n",
    "# plot the roc curve for the model81\n",
    "rf_fpr, rf_tpr, _ = roc_curve(y_test, probs)\n",
    "plt.figure(figsize=(4, 4))\n",
    "plt.plot(rf_fpr, rf_tpr, marker='.', label='RF AUC = {:.4f}'.format(rf_auc), color='orange')\n",
    "plt.title('ROC curve')\n",
    "# axis labels\n",
    "plt.xlabel('False Positive Rate')\n",
    "plt.ylabel('True Positive Rate')\n",
    "# show the legend\n",
    "plt.legend()\n",
    "# show the plot\n",
    "plt.show()\n",
    "\n",
    "cf_matrix = confusion_matrix(y_test, y_pred)\n",
    "plt.figure(figsize=(3, 3))\n",
    "sns.heatmap(cf_matrix, annot=True, fmt=',.0f')\n",
    "plt.show()\n",
    "plt.figure(figsize=(3, 3))\n",
    "sns.heatmap(cf_matrix/np.sum(cf_matrix), annot=True, \n",
    "            fmt='.2%', cmap='Blues')\n",
    "plt.show()"
   ]
  },
  {
   "cell_type": "markdown",
   "metadata": {},
   "source": [
    "# original param"
   ]
  },
  {
   "cell_type": "code",
   "execution_count": 36,
   "metadata": {
    "ExecuteTime": {
     "end_time": "2021-08-30T22:29:45.565509Z",
     "start_time": "2021-08-30T22:29:40.576785Z"
    }
   },
   "outputs": [
    {
     "name": "stdout",
     "output_type": "stream",
     "text": [
      "67298/67298 [==============================] - 5s 74us/sample - loss: 2.6481 - acc: 0.2395 - binary_crossentropy: 2.6481\n",
      "Test Loss: 2.6481499671936035\n",
      "Test Accuracy: 0.2395019233226776\n"
     ]
    }
   ],
   "source": [
    "_, test_acc, test_loss = model_2_1D.evaluate(X_test, y_test)\n",
    "print('Test Loss: {}'.format(test_loss))\n",
    "print('Test Accuracy: {}'.format(test_acc))"
   ]
  },
  {
   "cell_type": "code",
   "execution_count": 37,
   "metadata": {
    "ExecuteTime": {
     "end_time": "2021-08-30T22:29:56.724097Z",
     "start_time": "2021-08-30T22:29:47.209448Z"
    }
   },
   "outputs": [
    {
     "name": "stdout",
     "output_type": "stream",
     "text": [
      "              precision    recall  f1-score   support\n",
      "\n",
      "           0       0.22      0.20      0.21     33706\n",
      "           1       0.26      0.28      0.27     33592\n",
      "\n",
      "    accuracy                           0.24     67298\n",
      "   macro avg       0.24      0.24      0.24     67298\n",
      "weighted avg       0.24      0.24      0.24     67298\n",
      "\n",
      "rf auc : 0.1697024360705187\n"
     ]
    },
    {
     "data": {
      "image/png": "[encoded data removed]",
      "text/plain": [
       "<Figure size 288x288 with 1 Axes>"
      ]
     },
     "metadata": {
      "needs_background": "light"
     },
     "output_type": "display_data"
    },
    {
     "data": {
      "image/png": "[encoded data removed]",
      "text/plain": [
       "<Figure size 216x216 with 2 Axes>"
      ]
     },
     "metadata": {
      "needs_background": "light"
     },
     "output_type": "display_data"
    },
    {
     "data": {
      "image/png": "[encoded data removed]",
      "text/plain": [
       "<Figure size 216x216 with 2 Axes>"
      ]
     },
     "metadata": {
      "needs_background": "light"
     },
     "output_type": "display_data"
    }
   ],
   "source": [
    "# prediction\n",
    "y_pred = [1 if i>=0.5 else 0 for i in model_2_1D.predict(X_test)]\n",
    "print(classification_report(y_test, y_pred))\n",
    "# AUC\n",
    "probs = model_2_1D.predict(X_test)\n",
    "rf_auc = roc_auc_score(y_test, probs)\n",
    "print('rf auc : {}'.format(rf_auc))\n",
    "# plot the roc curve for the model_2_1D\n",
    "rf_fpr, rf_tpr, _ = roc_curve(y_test, probs)\n",
    "plt.figure(figsize=(4, 4))\n",
    "plt.plot(rf_fpr, rf_tpr, marker='.', label='RF AUC = {:.4f}'.format(rf_auc), color='orange')\n",
    "plt.title('ROC curve')\n",
    "# axis labels\n",
    "plt.xlabel('False Positive Rate')\n",
    "plt.ylabel('True Positive Rate')\n",
    "# show the legend\n",
    "plt.legend()\n",
    "# show the plot\n",
    "plt.show()\n",
    "\n",
    "cf_matrix = confusion_matrix(y_test, y_pred)\n",
    "plt.figure(figsize=(3, 3))\n",
    "sns.heatmap(cf_matrix, annot=True, fmt=',.0f')\n",
    "plt.show()\n",
    "plt.figure(figsize=(3, 3))\n",
    "sns.heatmap(cf_matrix/np.sum(cf_matrix), annot=True, \n",
    "            fmt='.2%', cmap='Blues')\n",
    "plt.show()"
   ]
  }
 ],
 "metadata": {
  "kernelspec": {
   "display_name": "TF1.14",
   "language": "python",
   "name": "tf1.14"
  },
  "language_info": {
   "codemirror_mode": {
    "name": "ipython",
    "version": 3
   },
   "file_extension": ".py",
   "mimetype": "text/x-python",
   "name": "python",
   "nbconvert_exporter": "python",
   "pygments_lexer": "ipython3",
   "version": "3.6.13"
  }
 },
 "nbformat": 4,
 "nbformat_minor": 4
}
