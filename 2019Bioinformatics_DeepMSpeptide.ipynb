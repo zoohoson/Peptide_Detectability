{
 "cells": [
  {
   "cell_type": "code",
   "execution_count": 38,
   "metadata": {
    "ExecuteTime": {
     "end_time": "2021-09-05T14:00:25.529144Z",
     "start_time": "2021-09-05T14:00:25.518239Z"
    }
   },
   "outputs": [],
   "source": [
    "import warnings\n",
    "warnings.simplefilter(action='ignore', category=FutureWarning)\n",
    "\n",
    "import argparse\n",
    "import numpy as np\n",
    "import tensorflow as tf\n",
    "from tensorflow import keras"
   ]
  },
  {
   "cell_type": "code",
   "execution_count": 2,
   "metadata": {
    "ExecuteTime": {
     "end_time": "2021-08-30T18:22:26.284145Z",
     "start_time": "2021-08-30T18:22:26.278277Z"
    }
   },
   "outputs": [],
   "source": [
    "def load_pep_and_codify(file, max_len):\n",
    "    aa_dict={'A':1,'R':2,'N':3,'D':4,'C':5,'Q':6,'E':7,'G':8,'H':9,'I':10,'L':11,'K':12,'M':13,'F':14,\n",
    "        'P':15,'O':16,'S':17,'U':18,'T':19,'W':20,'Y':21,'V':22}\n",
    "    with open(file, 'r') as inf:\n",
    "        lines = inf.read().splitlines()\n",
    "    pep_codes=[]\n",
    "    long_pep_counter = 0\n",
    "    newLines = []\n",
    "    for pep in lines:\n",
    "        if not len(pep) > max_len:\n",
    "            current_pep=[]\n",
    "            for aa in pep:\n",
    "                current_pep.append(aa_dict[aa])\n",
    "            pep_codes.append(current_pep)\n",
    "            newLines.extend([pep])\n",
    "        else:\n",
    "            long_pep_counter += 1\n",
    "    predict_data = keras.preprocessing.sequence.pad_sequences(pep_codes, value=0, padding='post', maxlen=max_len)\n",
    "    return predict_data, long_pep_counter, newLines"
   ]
  },
  {
   "cell_type": "code",
   "execution_count": 3,
   "metadata": {
    "ExecuteTime": {
     "end_time": "2021-08-30T18:22:32.369547Z",
     "start_time": "2021-08-30T18:22:28.934091Z"
    }
   },
   "outputs": [
    {
     "name": "stdout",
     "output_type": "stream",
     "text": [
      "Loading model...\n",
      "WARNING:tensorflow:From /home/bis/miniconda3/envs/TF1.14/lib/python3.6/site-packages/tensorflow/python/keras/initializers.py:119: calling RandomUniform.__init__ (from tensorflow.python.ops.init_ops) with dtype is deprecated and will be removed in a future version.\n",
      "Instructions for updating:\n",
      "Call initializer instance with the dtype argument instead of passing it to the constructor\n",
      "WARNING:tensorflow:From /home/bis/miniconda3/envs/TF1.14/lib/python3.6/site-packages/tensorflow/python/ops/init_ops.py:97: calling GlorotUniform.__init__ (from tensorflow.python.ops.init_ops) with dtype is deprecated and will be removed in a future version.\n",
      "Instructions for updating:\n",
      "Call initializer instance with the dtype argument instead of passing it to the constructor\n",
      "WARNING:tensorflow:From /home/bis/miniconda3/envs/TF1.14/lib/python3.6/site-packages/tensorflow/python/ops/init_ops.py:1251: calling VarianceScaling.__init__ (from tensorflow.python.ops.init_ops) with dtype is deprecated and will be removed in a future version.\n",
      "Instructions for updating:\n",
      "Call initializer instance with the dtype argument instead of passing it to the constructor\n",
      "WARNING:tensorflow:From /home/bis/miniconda3/envs/TF1.14/lib/python3.6/site-packages/tensorflow/python/ops/init_ops.py:97: calling Zeros.__init__ (from tensorflow.python.ops.init_ops) with dtype is deprecated and will be removed in a future version.\n",
      "Instructions for updating:\n",
      "Call initializer instance with the dtype argument instead of passing it to the constructor\n",
      "WARNING:tensorflow:From /home/bis/miniconda3/envs/TF1.14/lib/python3.6/site-packages/tensorflow/python/ops/nn_impl.py:180: add_dispatch_support.<locals>.wrapper (from tensorflow.python.ops.array_ops) is deprecated and will be removed in a future version.\n",
      "Instructions for updating:\n",
      "Use tf.where in 2.0, which has the same broadcast rule as np.where\n",
      "WARNING:tensorflow:Error in loading the saved optimizer state. As a result, your model is starting with a freshly initialized optimizer.\n",
      "Model: \"sequential_1\"\n",
      "_________________________________________________________________\n",
      "Layer (type)                 Output Shape              Param #   \n",
      "=================================================================\n",
      "embedding_1 (Embedding)      (None, 81, 50)            1150      \n",
      "_________________________________________________________________\n",
      "dropout_2 (Dropout)          (None, 81, 50)            0         \n",
      "_________________________________________________________________\n",
      "conv1d_1 (Conv1D)            (None, 81, 128)           19328     \n",
      "_________________________________________________________________\n",
      "conv1d_2 (Conv1D)            (None, 80, 64)            16448     \n",
      "_________________________________________________________________\n",
      "global_max_pooling1d_1 (Glob (None, 64)                0         \n",
      "_________________________________________________________________\n",
      "dense_2 (Dense)              (None, 64)                4160      \n",
      "_________________________________________________________________\n",
      "dropout_3 (Dropout)          (None, 64)                0         \n",
      "_________________________________________________________________\n",
      "activation_2 (Activation)    (None, 64)                0         \n",
      "_________________________________________________________________\n",
      "dense_3 (Dense)              (None, 1)                 65        \n",
      "_________________________________________________________________\n",
      "activation_3 (Activation)    (None, 1)                 0         \n",
      "=================================================================\n",
      "Total params: 41,151\n",
      "Trainable params: 41,151\n",
      "Non-trainable params: 0\n",
      "_________________________________________________________________\n",
      "None\n",
      "Loading input peptides\n",
      "Succesfully loaded 24997 peptides and skipped 0\n",
      "Making predictions\n",
      "Saving predictions to file compareModel/2019Bioinformatics_DeepMSPeptide/DeepMSPeptide/inputExample_Predictions.txt\n"
     ]
    }
   ],
   "source": [
    "file_path = 'compareModel/2019Bioinformatics_DeepMSPeptide/DeepMSPeptide/'\n",
    "args = file_path + 'inputExample.txt'\n",
    "\n",
    "print('Loading model...')\n",
    "model_2_1D = keras.models.load_model(file_path + 'model_2_1D.h5')\n",
    "print(model_2_1D.summary())\n",
    "\n",
    "print('Loading input peptides')\n",
    "predict_data, skipped, lines = load_pep_and_codify(args, 81)\n",
    "print('Succesfully loaded {0} peptides and skipped {1}'.format(len(lines), str(skipped)))\n",
    "\n",
    "print('Making predictions')\n",
    "model_2_1D_pred = model_2_1D.predict(predict_data)\n",
    "model_2_1D_pred = np.hstack((np.array(lines).reshape(len(lines), 1),model_2_1D_pred)).tolist()\n",
    "\n",
    "Pred_output = []\n",
    "for pred in model_2_1D_pred:\n",
    "    if float(pred[1]) > 0.5:\n",
    "        # pred.extend('0')\n",
    "        Pred_output.append([pred[0], str(1-float(pred[1])), '0'])\n",
    "    else:\n",
    "        Pred_output.append([pred[0], str(1-float(pred[1])), '1'])\n",
    "        # pred.extend('1')\n",
    "\n",
    "outFile = '{0}_Predictions.txt'.format(args.split('.')[0])\n",
    "print('Saving predictions to file {}'.format(outFile))\n",
    "with open(outFile, 'w') as outf:\n",
    "    outf.write('Peptide\\tProb\\tDetectability\\n')\n",
    "    outf.writelines('\\t'.join(i) + '\\n' for i in Pred_output)"
   ]
  },
  {
   "cell_type": "markdown",
   "metadata": {},
   "source": [
    "# original param"
   ]
  },
  {
   "cell_type": "code",
   "execution_count": 36,
   "metadata": {
    "ExecuteTime": {
     "end_time": "2021-08-30T22:29:45.565509Z",
     "start_time": "2021-08-30T22:29:40.576785Z"
    }
   },
   "outputs": [
    {
     "name": "stdout",
     "output_type": "stream",
     "text": [
      "67298/67298 [==============================] - 5s 74us/sample - loss: 2.6481 - acc: 0.2395 - binary_crossentropy: 2.6481\n",
      "Test Loss: 2.6481499671936035\n",
      "Test Accuracy: 0.2395019233226776\n"
     ]
    }
   ],
   "source": [
    "_, test_acc, test_loss = model_2_1D.evaluate(X_test, y_test)\n",
    "print('Test Loss: {}'.format(test_loss))\n",
    "print('Test Accuracy: {}'.format(test_acc))"
   ]
  },
  {
   "cell_type": "code",
   "execution_count": 37,
   "metadata": {
    "ExecuteTime": {
     "end_time": "2021-08-30T22:29:56.724097Z",
     "start_time": "2021-08-30T22:29:47.209448Z"
    }
   },
   "outputs": [
    {
     "name": "stdout",
     "output_type": "stream",
     "text": [
      "              precision    recall  f1-score   support\n",
      "\n",
      "           0       0.22      0.20      0.21     33706\n",
      "           1       0.26      0.28      0.27     33592\n",
      "\n",
      "    accuracy                           0.24     67298\n",
      "   macro avg       0.24      0.24      0.24     67298\n",
      "weighted avg       0.24      0.24      0.24     67298\n",
      "\n",
      "rf auc : 0.1697024360705187\n"
     ]
    },
    {
     "data": {
      "image/png": "[encoded data removed]",
      "text/plain": [
       "<Figure size 288x288 with 1 Axes>"
      ]
     },
     "metadata": {
      "needs_background": "light"
     },
     "output_type": "display_data"
    },
    {
     "data": {
      "image/png": "[encoded data removed]",
      "text/plain": [
       "<Figure size 216x216 with 2 Axes>"
      ]
     },
     "metadata": {
      "needs_background": "light"
     },
     "output_type": "display_data"
    },
    {
     "data": {
      "image/png": "[encoded data removed]",
      "text/plain": [
       "<Figure size 216x216 with 2 Axes>"
      ]
     },
     "metadata": {
      "needs_background": "light"
     },
     "output_type": "display_data"
    }
   ],
   "source": [
    "# prediction\n",
    "y_pred = [1 if i>=0.5 else 0 for i in model_2_1D.predict(X_test)]\n",
    "print(classification_report(y_test, y_pred))\n",
    "# AUC\n",
    "probs = model_2_1D.predict(X_test)\n",
    "rf_auc = roc_auc_score(y_test, probs)\n",
    "print('rf auc : {}'.format(rf_auc))\n",
    "# plot the roc curve for the model_2_1D\n",
    "rf_fpr, rf_tpr, _ = roc_curve(y_test, probs)\n",
    "plt.figure(figsize=(4, 4))\n",
    "plt.plot(rf_fpr, rf_tpr, marker='.', label='RF AUC = {:.4f}'.format(rf_auc), color='orange')\n",
    "plt.title('ROC curve')\n",
    "# axis labels\n",
    "plt.xlabel('False Positive Rate')\n",
    "plt.ylabel('True Positive Rate')\n",
    "# show the legend\n",
    "plt.legend()\n",
    "# show the plot\n",
    "plt.show()\n",
    "\n",
    "cf_matrix = confusion_matrix(y_test, y_pred)\n",
    "plt.figure(figsize=(3, 3))\n",
    "sns.heatmap(cf_matrix, annot=True, fmt=',.0f')\n",
    "plt.show()\n",
    "plt.figure(figsize=(3, 3))\n",
    "sns.heatmap(cf_matrix/np.sum(cf_matrix), annot=True, \n",
    "            fmt='.2%', cmap='Blues')\n",
    "plt.show()"
   ]
  },
  {
   "cell_type": "markdown",
   "metadata": {},
   "source": [
    "# New Train"
   ]
  },
  {
   "cell_type": "code",
   "execution_count": 41,
   "metadata": {
    "ExecuteTime": {
     "end_time": "2021-09-05T14:15:17.140711Z",
     "start_time": "2021-09-05T14:15:16.989283Z"
    }
   },
   "outputs": [
    {
     "name": "stdout",
     "output_type": "stream",
     "text": [
      "Model: \"sequential_5\"\n",
      "_________________________________________________________________\n",
      "Layer (type)                 Output Shape              Param #   \n",
      "=================================================================\n",
      "embedding_5 (Embedding)      (None, 30, 50)            1150      \n",
      "_________________________________________________________________\n",
      "dropout_10 (Dropout)         (None, 30, 50)            0         \n",
      "_________________________________________________________________\n",
      "conv1d_10 (Conv1D)           (None, 30, 128)           19328     \n",
      "_________________________________________________________________\n",
      "conv1d_11 (Conv1D)           (None, 29, 64)            16448     \n",
      "_________________________________________________________________\n",
      "global_max_pooling1d_5 (Glob (None, 64)                0         \n",
      "_________________________________________________________________\n",
      "dense_10 (Dense)             (None, 64)                4160      \n",
      "_________________________________________________________________\n",
      "dropout_11 (Dropout)         (None, 64)                0         \n",
      "_________________________________________________________________\n",
      "dense_11 (Dense)             (None, 1)                 65        \n",
      "=================================================================\n",
      "Total params: 41,151\n",
      "Trainable params: 41,151\n",
      "Non-trainable params: 0\n",
      "_________________________________________________________________\n"
     ]
    }
   ],
   "source": [
    "model = tf.keras.Sequential([\n",
    "    # vacabulary size 23 (22 AminoAcid + zero padding)\n",
    "    # embedding vector size 50\n",
    "    # input length (including padding) 30 ( 81 to 30)\n",
    "    tf.keras.layers.Embedding(23, 50, input_length=30),\n",
    "    tf.keras.layers.Dropout(np.random.uniform(0, 0.2)),\n",
    "    tf.keras.layers.Conv1D(filters=128, kernel_size=3, strides=1, padding='same'),\n",
    "    tf.keras.layers.Conv1D(filters=64, kernel_size=2, strides=1),\n",
    "    tf.keras.layers.GlobalMaxPooling1D(),\n",
    "    tf.keras.layers.Dense(64, activation='relu'),\n",
    "    tf.keras.layers.Dropout(np.random.uniform(0, 0.2)),\n",
    "    tf.keras.layers.Dense(1, activation='sigmoid')\n",
    "])\n",
    "model.summary()\n",
    "\n",
    "model.compile(loss=tf.keras.losses.BinaryCrossentropy(from_logits=True),\n",
    "              optimizer=tf.keras.optimizers.Adam(1e-4),\n",
    "              metrics=['accuracy'])"
   ]
  },
  {
   "cell_type": "markdown",
   "metadata": {},
   "source": [
    "# 1. Make Data X_train, y_train, X_test, y_test"
   ]
  },
  {
   "cell_type": "code",
   "execution_count": 11,
   "metadata": {
    "ExecuteTime": {
     "end_time": "2021-08-30T19:36:57.090837Z",
     "start_time": "2021-08-30T19:36:56.899414Z"
    }
   },
   "outputs": [],
   "source": [
    "import matplotlib.pyplot as plt\n",
    "import pandas as pd\n",
    "from sklearn.model_selection import train_test_split\n",
    "\n",
    "file_path = 'compareModel/2019Bioinformatics_DeepMSPeptide/DeepMSPeptide/'"
   ]
  },
  {
   "cell_type": "code",
   "execution_count": 43,
   "metadata": {
    "ExecuteTime": {
     "end_time": "2021-09-05T14:16:00.906739Z",
     "start_time": "2021-09-05T14:15:56.748549Z"
    }
   },
   "outputs": [
    {
     "name": "stdout",
     "output_type": "stream",
     "text": [
      "Loading input peptides\n",
      "Succesfully loaded 269190 peptides and skipped 0\n",
      "Loading input peptides\n",
      "Succesfully loaded 67298 peptides and skipped 0\n",
      "(215352, 30) (53838, 30) (67298, 30) (215352,) (53838,) (67298,)\n"
     ]
    }
   ],
   "source": [
    "# make DeepMSpeptide format\n",
    "df_peptide_train = pd.read_csv('data/df_detect_peptide_train.csv')\n",
    "df_peptide_test = pd.read_csv('data/df_detect_peptide_test.csv')\n",
    "\n",
    "inp = open(file_path+'detect_peptide_train.txt', 'w')\n",
    "inp_y = open(file_path+'detect_peptide_train_y.txt', 'w')\n",
    "for x, y in df_peptide_train[['PEP', 'ID']].values:\n",
    "    inp.write(x+'\\n')\n",
    "    inp_y.write(str(y)+'\\n')\n",
    "inp.close()\n",
    "inp_y.close()\n",
    "\n",
    "inp = open(file_path+'detect_peptide_test.txt', 'w')\n",
    "inp_y = open(file_path+'detect_peptide_test_y.txt', 'w')\n",
    "for x, y in df_peptide_test[['PEP', 'ID']].values:\n",
    "    inp.write(x+'\\n')\n",
    "    inp_y.write(str(y)+'\\n')\n",
    "inp.close()\n",
    "inp_y.close()\n",
    "\n",
    "args = file_path + 'detect_peptide_train.txt'\n",
    "print('Loading input peptides')\n",
    "X_train, skipped, lines = load_pep_and_codify(args, 30)\n",
    "tmp = open(file_path+'detect_peptide_train_y.txt')\n",
    "y_train = np.array([int(_.replace('\\n', '')) for _ in tmp.readlines()])\n",
    "tmp.close()\n",
    "print('Succesfully loaded {0} peptides and skipped {1}'.format(len(lines), str(skipped)))\n",
    "\n",
    "args = file_path + 'detect_peptide_test.txt'\n",
    "print('Loading input peptides')\n",
    "X_test, skipped, lines = load_pep_and_codify(args, 30)\n",
    "tmp = open(file_path+'detect_peptide_test_y.txt')\n",
    "y_test = np.array([int(_.replace('\\n', '')) for _ in tmp.readlines()])\n",
    "tmp.close()\n",
    "print('Succesfully loaded {0} peptides and skipped {1}'.format(len(lines), str(skipped)))\n",
    "\n",
    "X_train, X_val, y_train, y_val = train_test_split(X_train, y_train, test_size=0.2)\n",
    "print(X_train.shape, X_val.shape, X_test.shape, y_train.shape, y_val.shape, y_test.shape)"
   ]
  },
  {
   "cell_type": "markdown",
   "metadata": {},
   "source": [
    "# 2. train"
   ]
  },
  {
   "cell_type": "code",
   "execution_count": 4,
   "metadata": {
    "ExecuteTime": {
     "end_time": "2021-08-30T18:22:42.761645Z",
     "start_time": "2021-08-30T18:22:42.757745Z"
    }
   },
   "outputs": [],
   "source": [
    "def plot_graphs(history, metric):\n",
    "    plt.plot(history.history[metric])\n",
    "    plt.plot(history.history['val_'+metric], '')\n",
    "    plt.xlabel(\"Epochs\")\n",
    "    plt.ylabel(metric)\n",
    "    plt.legend([metric, 'val_'+metric])"
   ]
  },
  {
   "cell_type": "code",
   "execution_count": 44,
   "metadata": {
    "ExecuteTime": {
     "end_time": "2021-09-05T15:28:56.053984Z",
     "start_time": "2021-09-05T14:16:00.908078Z"
    }
   },
   "outputs": [
    {
     "name": "stdout",
     "output_type": "stream",
     "text": [
      "Train on 215352 samples, validate on 53838 samples\n",
      "Epoch 1/200\n",
      "215352/215352 [==============================] - 23s 105us/sample - loss: 0.6304 - acc: 0.7076 - val_loss: 0.6146 - val_acc: 0.7588\n",
      "Epoch 2/200\n",
      "215352/215352 [==============================] - 22s 102us/sample - loss: 0.6106 - acc: 0.7686 - val_loss: 0.6126 - val_acc: 0.7688\n",
      "Epoch 3/200\n",
      "215352/215352 [==============================] - 22s 101us/sample - loss: 0.6088 - acc: 0.7737 - val_loss: 0.6107 - val_acc: 0.7736\n",
      "Epoch 4/200\n",
      "215352/215352 [==============================] - 22s 100us/sample - loss: 0.6073 - acc: 0.7781 - val_loss: 0.6100 - val_acc: 0.7685\n",
      "Epoch 5/200\n",
      "215352/215352 [==============================] - 22s 101us/sample - loss: 0.6066 - acc: 0.7806 - val_loss: 0.6092 - val_acc: 0.7795\n",
      "Epoch 6/200\n",
      "215352/215352 [==============================] - 22s 101us/sample - loss: 0.6061 - acc: 0.7812 - val_loss: 0.6089 - val_acc: 0.7813\n",
      "Epoch 7/200\n",
      "215352/215352 [==============================] - 22s 100us/sample - loss: 0.6057 - acc: 0.7819 - val_loss: 0.6089 - val_acc: 0.7818\n",
      "Epoch 8/200\n",
      "215352/215352 [==============================] - 22s 101us/sample - loss: 0.6055 - acc: 0.7824 - val_loss: 0.6082 - val_acc: 0.7788\n",
      "Epoch 9/200\n",
      "215352/215352 [==============================] - 22s 101us/sample - loss: 0.6051 - acc: 0.7829 - val_loss: 0.6080 - val_acc: 0.7779\n",
      "Epoch 10/200\n",
      "215352/215352 [==============================] - 22s 101us/sample - loss: 0.6048 - acc: 0.7837 - val_loss: 0.6079 - val_acc: 0.7789\n",
      "Epoch 11/200\n",
      "215352/215352 [==============================] - 22s 101us/sample - loss: 0.6046 - acc: 0.7841 - val_loss: 0.6076 - val_acc: 0.7817\n",
      "Epoch 12/200\n",
      "215352/215352 [==============================] - 22s 101us/sample - loss: 0.6042 - acc: 0.7852 - val_loss: 0.6075 - val_acc: 0.7787\n",
      "Epoch 13/200\n",
      "215352/215352 [==============================] - 22s 100us/sample - loss: 0.6041 - acc: 0.7856 - val_loss: 0.6073 - val_acc: 0.7830\n",
      "Epoch 14/200\n",
      "215352/215352 [==============================] - 22s 101us/sample - loss: 0.6039 - acc: 0.7860 - val_loss: 0.6071 - val_acc: 0.7776\n",
      "Epoch 15/200\n",
      "215352/215352 [==============================] - 22s 101us/sample - loss: 0.6037 - acc: 0.7856 - val_loss: 0.6078 - val_acc: 0.7873\n",
      "Epoch 16/200\n",
      "215352/215352 [==============================] - 22s 101us/sample - loss: 0.6034 - acc: 0.7869 - val_loss: 0.6067 - val_acc: 0.7835\n",
      "Epoch 17/200\n",
      "215352/215352 [==============================] - 22s 101us/sample - loss: 0.6031 - acc: 0.7875 - val_loss: 0.6081 - val_acc: 0.7684\n",
      "Epoch 18/200\n",
      "215352/215352 [==============================] - 22s 101us/sample - loss: 0.6029 - acc: 0.7878 - val_loss: 0.6062 - val_acc: 0.7838\n",
      "Epoch 19/200\n",
      "215352/215352 [==============================] - 22s 101us/sample - loss: 0.6026 - acc: 0.7884 - val_loss: 0.6060 - val_acc: 0.7824\n",
      "Epoch 20/200\n",
      "215352/215352 [==============================] - 22s 101us/sample - loss: 0.6024 - acc: 0.7889 - val_loss: 0.6058 - val_acc: 0.7846\n",
      "Epoch 21/200\n",
      "215352/215352 [==============================] - 22s 101us/sample - loss: 0.6020 - acc: 0.7898 - val_loss: 0.6055 - val_acc: 0.7828\n",
      "Epoch 22/200\n",
      "215352/215352 [==============================] - 22s 101us/sample - loss: 0.6019 - acc: 0.7901 - val_loss: 0.6053 - val_acc: 0.7832\n",
      "Epoch 23/200\n",
      "215352/215352 [==============================] - 22s 101us/sample - loss: 0.6015 - acc: 0.7906 - val_loss: 0.6051 - val_acc: 0.7884\n",
      "Epoch 24/200\n",
      "215352/215352 [==============================] - 22s 101us/sample - loss: 0.6013 - acc: 0.7911 - val_loss: 0.6050 - val_acc: 0.7814\n",
      "Epoch 25/200\n",
      "215352/215352 [==============================] - 22s 101us/sample - loss: 0.6009 - acc: 0.7913 - val_loss: 0.6049 - val_acc: 0.7920\n",
      "Epoch 26/200\n",
      "215352/215352 [==============================] - 22s 101us/sample - loss: 0.6004 - acc: 0.7919 - val_loss: 0.6046 - val_acc: 0.7784\n",
      "Epoch 27/200\n",
      "215352/215352 [==============================] - 22s 101us/sample - loss: 0.6000 - acc: 0.7926 - val_loss: 0.6040 - val_acc: 0.7817\n",
      "Epoch 28/200\n",
      "215352/215352 [==============================] - 22s 101us/sample - loss: 0.5996 - acc: 0.7930 - val_loss: 0.6036 - val_acc: 0.7813\n",
      "Epoch 29/200\n",
      "215352/215352 [==============================] - 22s 101us/sample - loss: 0.5992 - acc: 0.7938 - val_loss: 0.6033 - val_acc: 0.7818\n",
      "Epoch 30/200\n",
      "215352/215352 [==============================] - 22s 101us/sample - loss: 0.5988 - acc: 0.7942 - val_loss: 0.6023 - val_acc: 0.7888\n",
      "Epoch 31/200\n",
      "215352/215352 [==============================] - 22s 101us/sample - loss: 0.5983 - acc: 0.7953 - val_loss: 0.6027 - val_acc: 0.7805\n",
      "Epoch 32/200\n",
      "215352/215352 [==============================] - 22s 101us/sample - loss: 0.5978 - acc: 0.7962 - val_loss: 0.6022 - val_acc: 0.7820\n",
      "Epoch 33/200\n",
      "215352/215352 [==============================] - 22s 101us/sample - loss: 0.5973 - acc: 0.7971 - val_loss: 0.6022 - val_acc: 0.7800\n",
      "Epoch 34/200\n",
      "215352/215352 [==============================] - 22s 101us/sample - loss: 0.5970 - acc: 0.7979 - val_loss: 0.6008 - val_acc: 0.7932\n",
      "Epoch 35/200\n",
      "215352/215352 [==============================] - 22s 101us/sample - loss: 0.5967 - acc: 0.7985 - val_loss: 0.6006 - val_acc: 0.7949\n",
      "Epoch 36/200\n",
      "215352/215352 [==============================] - 22s 101us/sample - loss: 0.5962 - acc: 0.7993 - val_loss: 0.6004 - val_acc: 0.7949\n",
      "Epoch 37/200\n",
      "215352/215352 [==============================] - 22s 101us/sample - loss: 0.5959 - acc: 0.8001 - val_loss: 0.6002 - val_acc: 0.7883\n",
      "Epoch 38/200\n",
      "215352/215352 [==============================] - 22s 100us/sample - loss: 0.5957 - acc: 0.7997 - val_loss: 0.5997 - val_acc: 0.7972\n",
      "Epoch 39/200\n",
      "215352/215352 [==============================] - 22s 101us/sample - loss: 0.5952 - acc: 0.8013 - val_loss: 0.5993 - val_acc: 0.7917\n",
      "Epoch 40/200\n",
      "215352/215352 [==============================] - 22s 101us/sample - loss: 0.5949 - acc: 0.8015 - val_loss: 0.5994 - val_acc: 0.7899\n",
      "Epoch 41/200\n",
      "215352/215352 [==============================] - 22s 100us/sample - loss: 0.5946 - acc: 0.8023 - val_loss: 0.5992 - val_acc: 0.7902\n",
      "Epoch 42/200\n",
      "215352/215352 [==============================] - 22s 101us/sample - loss: 0.5942 - acc: 0.8029 - val_loss: 0.5985 - val_acc: 0.7976\n",
      "Epoch 43/200\n",
      "215352/215352 [==============================] - 22s 101us/sample - loss: 0.5939 - acc: 0.8032 - val_loss: 0.5985 - val_acc: 0.7941\n",
      "Epoch 44/200\n",
      "215352/215352 [==============================] - 22s 101us/sample - loss: 0.5936 - acc: 0.8040 - val_loss: 0.5982 - val_acc: 0.7920\n",
      "Epoch 45/200\n",
      "215352/215352 [==============================] - 22s 101us/sample - loss: 0.5934 - acc: 0.8039 - val_loss: 0.5978 - val_acc: 0.7965\n",
      "Epoch 46/200\n",
      "215352/215352 [==============================] - 22s 101us/sample - loss: 0.5930 - acc: 0.8049 - val_loss: 0.5982 - val_acc: 0.7902\n",
      "Epoch 47/200\n",
      "215352/215352 [==============================] - 22s 101us/sample - loss: 0.5928 - acc: 0.8052 - val_loss: 0.5975 - val_acc: 0.7942\n",
      "Epoch 48/200\n",
      "215352/215352 [==============================] - 22s 101us/sample - loss: 0.5925 - acc: 0.8060 - val_loss: 0.5970 - val_acc: 0.7962\n",
      "Epoch 49/200\n",
      "215352/215352 [==============================] - 22s 101us/sample - loss: 0.5922 - acc: 0.8066 - val_loss: 0.5970 - val_acc: 0.7998\n",
      "Epoch 50/200\n",
      "215352/215352 [==============================] - 22s 101us/sample - loss: 0.5921 - acc: 0.8065 - val_loss: 0.5970 - val_acc: 0.7928\n",
      "Epoch 51/200\n",
      "215352/215352 [==============================] - 22s 101us/sample - loss: 0.5918 - acc: 0.8071 - val_loss: 0.5967 - val_acc: 0.7936\n",
      "Epoch 52/200\n",
      "215352/215352 [==============================] - 22s 100us/sample - loss: 0.5916 - acc: 0.8073 - val_loss: 0.5962 - val_acc: 0.7987\n",
      "Epoch 53/200\n",
      "215352/215352 [==============================] - 22s 101us/sample - loss: 0.5914 - acc: 0.8079 - val_loss: 0.5960 - val_acc: 0.8006\n",
      "Epoch 54/200\n",
      "215352/215352 [==============================] - 22s 100us/sample - loss: 0.5910 - acc: 0.8088 - val_loss: 0.5961 - val_acc: 0.8011\n",
      "Epoch 55/200\n",
      "215352/215352 [==============================] - 22s 101us/sample - loss: 0.5909 - acc: 0.8094 - val_loss: 0.5959 - val_acc: 0.7997\n",
      "Epoch 56/200\n",
      "215352/215352 [==============================] - 22s 101us/sample - loss: 0.5906 - acc: 0.8096 - val_loss: 0.5959 - val_acc: 0.8014\n",
      "Epoch 57/200\n"
     ]
    },
    {
     "name": "stdout",
     "output_type": "stream",
     "text": [
      "215352/215352 [==============================] - 22s 100us/sample - loss: 0.5904 - acc: 0.8104 - val_loss: 0.5956 - val_acc: 0.7969\n",
      "Epoch 58/200\n",
      "215352/215352 [==============================] - 22s 101us/sample - loss: 0.5903 - acc: 0.8102 - val_loss: 0.5958 - val_acc: 0.7943\n",
      "Epoch 59/200\n",
      "215352/215352 [==============================] - 22s 102us/sample - loss: 0.5900 - acc: 0.8112 - val_loss: 0.5952 - val_acc: 0.7999\n",
      "Epoch 60/200\n",
      "215352/215352 [==============================] - 22s 101us/sample - loss: 0.5900 - acc: 0.8109 - val_loss: 0.5954 - val_acc: 0.7970\n",
      "Epoch 61/200\n",
      "215352/215352 [==============================] - 22s 101us/sample - loss: 0.5896 - acc: 0.8120 - val_loss: 0.5953 - val_acc: 0.8006\n",
      "Epoch 62/200\n",
      "215352/215352 [==============================] - 22s 101us/sample - loss: 0.5895 - acc: 0.8119 - val_loss: 0.5952 - val_acc: 0.7975\n",
      "Epoch 63/200\n",
      "215352/215352 [==============================] - 22s 101us/sample - loss: 0.5894 - acc: 0.8116 - val_loss: 0.5949 - val_acc: 0.7997\n",
      "Epoch 64/200\n",
      "215352/215352 [==============================] - 22s 101us/sample - loss: 0.5892 - acc: 0.8126 - val_loss: 0.5954 - val_acc: 0.7950\n",
      "Epoch 65/200\n",
      "215352/215352 [==============================] - 22s 101us/sample - loss: 0.5890 - acc: 0.8131 - val_loss: 0.5946 - val_acc: 0.8045\n",
      "Epoch 66/200\n",
      "215352/215352 [==============================] - 22s 100us/sample - loss: 0.5890 - acc: 0.8127 - val_loss: 0.5943 - val_acc: 0.8034\n",
      "Epoch 67/200\n",
      "215352/215352 [==============================] - 22s 101us/sample - loss: 0.5886 - acc: 0.8135 - val_loss: 0.5947 - val_acc: 0.7985\n",
      "Epoch 68/200\n",
      "215352/215352 [==============================] - 22s 100us/sample - loss: 0.5885 - acc: 0.8141 - val_loss: 0.5942 - val_acc: 0.8041\n",
      "Epoch 69/200\n",
      "215352/215352 [==============================] - 22s 101us/sample - loss: 0.5884 - acc: 0.8146 - val_loss: 0.5953 - val_acc: 0.7939\n",
      "Epoch 70/200\n",
      "215352/215352 [==============================] - 22s 101us/sample - loss: 0.5884 - acc: 0.8141 - val_loss: 0.5946 - val_acc: 0.7967\n",
      "Epoch 71/200\n",
      "215352/215352 [==============================] - 22s 101us/sample - loss: 0.5881 - acc: 0.8152 - val_loss: 0.5947 - val_acc: 0.7984\n",
      "Epoch 72/200\n",
      "215352/215352 [==============================] - 22s 100us/sample - loss: 0.5880 - acc: 0.8145 - val_loss: 0.5943 - val_acc: 0.7996\n",
      "Epoch 73/200\n",
      "215352/215352 [==============================] - 22s 100us/sample - loss: 0.5878 - acc: 0.8153 - val_loss: 0.5944 - val_acc: 0.8038\n",
      "Epoch 74/200\n",
      "215352/215352 [==============================] - 22s 100us/sample - loss: 0.5878 - acc: 0.8152 - val_loss: 0.5951 - val_acc: 0.7942\n",
      "Epoch 75/200\n",
      "215352/215352 [==============================] - 22s 101us/sample - loss: 0.5875 - acc: 0.8161 - val_loss: 0.5942 - val_acc: 0.8074\n",
      "Epoch 76/200\n",
      "215352/215352 [==============================] - 22s 101us/sample - loss: 0.5875 - acc: 0.8161 - val_loss: 0.5941 - val_acc: 0.8088\n",
      "Epoch 77/200\n",
      "215352/215352 [==============================] - 22s 101us/sample - loss: 0.5873 - acc: 0.8169 - val_loss: 0.5940 - val_acc: 0.8021\n",
      "Epoch 78/200\n",
      "215352/215352 [==============================] - 22s 101us/sample - loss: 0.5872 - acc: 0.8166 - val_loss: 0.5939 - val_acc: 0.8038\n",
      "Epoch 79/200\n",
      "215352/215352 [==============================] - 21s 100us/sample - loss: 0.5872 - acc: 0.8166 - val_loss: 0.5936 - val_acc: 0.8027\n",
      "Epoch 80/200\n",
      "215352/215352 [==============================] - 22s 100us/sample - loss: 0.5870 - acc: 0.8173 - val_loss: 0.5941 - val_acc: 0.7972\n",
      "Epoch 81/200\n",
      "215352/215352 [==============================] - 22s 101us/sample - loss: 0.5870 - acc: 0.8169 - val_loss: 0.5935 - val_acc: 0.8058\n",
      "Epoch 82/200\n",
      "215352/215352 [==============================] - 22s 101us/sample - loss: 0.5867 - acc: 0.8175 - val_loss: 0.5936 - val_acc: 0.8078\n",
      "Epoch 83/200\n",
      "215352/215352 [==============================] - 22s 100us/sample - loss: 0.5866 - acc: 0.8179 - val_loss: 0.5933 - val_acc: 0.8046\n",
      "Epoch 84/200\n",
      "215352/215352 [==============================] - 22s 101us/sample - loss: 0.5865 - acc: 0.8179 - val_loss: 0.5936 - val_acc: 0.8008\n",
      "Epoch 85/200\n",
      "215352/215352 [==============================] - 22s 100us/sample - loss: 0.5864 - acc: 0.8180 - val_loss: 0.5932 - val_acc: 0.8058\n",
      "Epoch 86/200\n",
      "215352/215352 [==============================] - 22s 102us/sample - loss: 0.5861 - acc: 0.8188 - val_loss: 0.5931 - val_acc: 0.8058\n",
      "Epoch 87/200\n",
      "215352/215352 [==============================] - 22s 104us/sample - loss: 0.5863 - acc: 0.8185 - val_loss: 0.5943 - val_acc: 0.8086\n",
      "Epoch 88/200\n",
      "215352/215352 [==============================] - 22s 103us/sample - loss: 0.5860 - acc: 0.8189 - val_loss: 0.5936 - val_acc: 0.8084\n",
      "Epoch 89/200\n",
      "215352/215352 [==============================] - 22s 101us/sample - loss: 0.5859 - acc: 0.8191 - val_loss: 0.5934 - val_acc: 0.8084\n",
      "Epoch 90/200\n",
      "215352/215352 [==============================] - 22s 102us/sample - loss: 0.5857 - acc: 0.8198 - val_loss: 0.5933 - val_acc: 0.8084\n",
      "Epoch 91/200\n",
      "215352/215352 [==============================] - 22s 101us/sample - loss: 0.5857 - acc: 0.8199 - val_loss: 0.5932 - val_acc: 0.8008\n",
      "Epoch 92/200\n",
      "215352/215352 [==============================] - 22s 102us/sample - loss: 0.5858 - acc: 0.8193 - val_loss: 0.5936 - val_acc: 0.8003\n",
      "Epoch 93/200\n",
      "215352/215352 [==============================] - 22s 100us/sample - loss: 0.5855 - acc: 0.8197 - val_loss: 0.5933 - val_acc: 0.8003\n",
      "Epoch 94/200\n",
      "215352/215352 [==============================] - 22s 101us/sample - loss: 0.5855 - acc: 0.8199 - val_loss: 0.5932 - val_acc: 0.8078\n",
      "Epoch 95/200\n",
      "215352/215352 [==============================] - 22s 101us/sample - loss: 0.5854 - acc: 0.8205 - val_loss: 0.5933 - val_acc: 0.8081\n",
      "Epoch 96/200\n",
      "215352/215352 [==============================] - 22s 102us/sample - loss: 0.5854 - acc: 0.8199 - val_loss: 0.5928 - val_acc: 0.8051\n",
      "Epoch 97/200\n",
      "215352/215352 [==============================] - 22s 102us/sample - loss: 0.5851 - acc: 0.8211 - val_loss: 0.5931 - val_acc: 0.8035\n",
      "Epoch 98/200\n",
      "215352/215352 [==============================] - 22s 103us/sample - loss: 0.5850 - acc: 0.8208 - val_loss: 0.5929 - val_acc: 0.8028\n",
      "Epoch 99/200\n",
      "215352/215352 [==============================] - 22s 103us/sample - loss: 0.5851 - acc: 0.8205 - val_loss: 0.5931 - val_acc: 0.8016\n",
      "Epoch 100/200\n",
      "215352/215352 [==============================] - 22s 102us/sample - loss: 0.5850 - acc: 0.8211 - val_loss: 0.5930 - val_acc: 0.8041\n",
      "Epoch 101/200\n",
      "215352/215352 [==============================] - 22s 102us/sample - loss: 0.5847 - acc: 0.8216 - val_loss: 0.5927 - val_acc: 0.8054\n",
      "Epoch 102/200\n",
      "215352/215352 [==============================] - 22s 103us/sample - loss: 0.5848 - acc: 0.8216 - val_loss: 0.5930 - val_acc: 0.8006\n",
      "Epoch 103/200\n",
      "215352/215352 [==============================] - 22s 103us/sample - loss: 0.5848 - acc: 0.8213 - val_loss: 0.5927 - val_acc: 0.8058\n",
      "Epoch 104/200\n",
      "215352/215352 [==============================] - 22s 102us/sample - loss: 0.5845 - acc: 0.8220 - val_loss: 0.5929 - val_acc: 0.8033\n",
      "Epoch 105/200\n",
      "215352/215352 [==============================] - 22s 103us/sample - loss: 0.5845 - acc: 0.8220 - val_loss: 0.5928 - val_acc: 0.8037\n",
      "Epoch 106/200\n",
      "215352/215352 [==============================] - 22s 103us/sample - loss: 0.5845 - acc: 0.8222 - val_loss: 0.5930 - val_acc: 0.8090\n",
      "Epoch 107/200\n",
      "215352/215352 [==============================] - 22s 103us/sample - loss: 0.5844 - acc: 0.8222 - val_loss: 0.5931 - val_acc: 0.8058\n",
      "Epoch 108/200\n",
      "215352/215352 [==============================] - 22s 103us/sample - loss: 0.5843 - acc: 0.8225 - val_loss: 0.5930 - val_acc: 0.8026\n",
      "Epoch 109/200\n",
      "215352/215352 [==============================] - 22s 102us/sample - loss: 0.5845 - acc: 0.8218 - val_loss: 0.5928 - val_acc: 0.8050\n",
      "Epoch 110/200\n",
      "215352/215352 [==============================] - 22s 102us/sample - loss: 0.5841 - acc: 0.8230 - val_loss: 0.5930 - val_acc: 0.8070\n",
      "Epoch 111/200\n",
      "215352/215352 [==============================] - 22s 102us/sample - loss: 0.5841 - acc: 0.8230 - val_loss: 0.5924 - val_acc: 0.8071\n",
      "Epoch 112/200\n",
      "215352/215352 [==============================] - 22s 102us/sample - loss: 0.5842 - acc: 0.8226 - val_loss: 0.5927 - val_acc: 0.8047\n",
      "Epoch 113/200\n"
     ]
    },
    {
     "name": "stdout",
     "output_type": "stream",
     "text": [
      "215352/215352 [==============================] - 22s 102us/sample - loss: 0.5841 - acc: 0.8223 - val_loss: 0.5929 - val_acc: 0.8097\n",
      "Epoch 114/200\n",
      "215352/215352 [==============================] - 22s 102us/sample - loss: 0.5840 - acc: 0.8231 - val_loss: 0.5929 - val_acc: 0.8099\n",
      "Epoch 115/200\n",
      "215352/215352 [==============================] - 22s 102us/sample - loss: 0.5840 - acc: 0.8227 - val_loss: 0.5930 - val_acc: 0.7996\n",
      "Epoch 116/200\n",
      "215352/215352 [==============================] - 22s 102us/sample - loss: 0.5837 - acc: 0.8236 - val_loss: 0.5925 - val_acc: 0.8099\n",
      "Epoch 117/200\n",
      "215352/215352 [==============================] - 22s 102us/sample - loss: 0.5837 - acc: 0.8234 - val_loss: 0.5926 - val_acc: 0.8076\n",
      "Epoch 118/200\n",
      "215352/215352 [==============================] - 22s 102us/sample - loss: 0.5838 - acc: 0.8236 - val_loss: 0.5927 - val_acc: 0.8075\n",
      "Epoch 119/200\n",
      "215352/215352 [==============================] - 22s 103us/sample - loss: 0.5836 - acc: 0.8241 - val_loss: 0.5927 - val_acc: 0.8089\n",
      "Epoch 120/200\n",
      "215352/215352 [==============================] - 22s 103us/sample - loss: 0.5836 - acc: 0.8239 - val_loss: 0.5926 - val_acc: 0.8068\n",
      "Epoch 121/200\n",
      "215352/215352 [==============================] - 22s 102us/sample - loss: 0.5834 - acc: 0.8242 - val_loss: 0.5925 - val_acc: 0.8055\n",
      "Epoch 122/200\n",
      "215352/215352 [==============================] - 22s 103us/sample - loss: 0.5834 - acc: 0.8241 - val_loss: 0.5924 - val_acc: 0.8045\n",
      "Epoch 123/200\n",
      "215352/215352 [==============================] - 22s 102us/sample - loss: 0.5833 - acc: 0.8245 - val_loss: 0.5926 - val_acc: 0.8072\n",
      "Epoch 124/200\n",
      "215352/215352 [==============================] - 22s 103us/sample - loss: 0.5833 - acc: 0.8245 - val_loss: 0.5924 - val_acc: 0.8071\n",
      "Epoch 125/200\n",
      "215352/215352 [==============================] - 22s 103us/sample - loss: 0.5834 - acc: 0.8243 - val_loss: 0.5923 - val_acc: 0.8080\n",
      "Epoch 126/200\n",
      "215352/215352 [==============================] - 22s 103us/sample - loss: 0.5834 - acc: 0.8245 - val_loss: 0.5923 - val_acc: 0.8046\n",
      "Epoch 127/200\n",
      "215352/215352 [==============================] - 22s 102us/sample - loss: 0.5833 - acc: 0.8246 - val_loss: 0.5926 - val_acc: 0.8027\n",
      "Epoch 128/200\n",
      "215352/215352 [==============================] - 22s 102us/sample - loss: 0.5832 - acc: 0.8251 - val_loss: 0.5926 - val_acc: 0.8054\n",
      "Epoch 129/200\n",
      "215352/215352 [==============================] - 22s 102us/sample - loss: 0.5831 - acc: 0.8251 - val_loss: 0.5939 - val_acc: 0.7942\n",
      "Epoch 130/200\n",
      "215352/215352 [==============================] - 22s 102us/sample - loss: 0.5829 - acc: 0.8251 - val_loss: 0.5929 - val_acc: 0.8107\n",
      "Epoch 131/200\n",
      "215352/215352 [==============================] - 22s 102us/sample - loss: 0.5829 - acc: 0.8250 - val_loss: 0.5927 - val_acc: 0.8088\n",
      "Epoch 132/200\n",
      "215352/215352 [==============================] - 22s 102us/sample - loss: 0.5829 - acc: 0.8249 - val_loss: 0.5923 - val_acc: 0.8072\n",
      "Epoch 133/200\n",
      "215352/215352 [==============================] - 22s 102us/sample - loss: 0.5830 - acc: 0.8251 - val_loss: 0.5927 - val_acc: 0.8090\n",
      "Epoch 134/200\n",
      "215352/215352 [==============================] - 22s 103us/sample - loss: 0.5827 - acc: 0.8259 - val_loss: 0.5924 - val_acc: 0.8101\n",
      "Epoch 135/200\n",
      "215352/215352 [==============================] - 22s 102us/sample - loss: 0.5830 - acc: 0.8251 - val_loss: 0.5922 - val_acc: 0.8090\n",
      "Epoch 136/200\n",
      "215352/215352 [==============================] - 22s 102us/sample - loss: 0.5829 - acc: 0.8254 - val_loss: 0.5927 - val_acc: 0.7998\n",
      "Epoch 137/200\n",
      "215352/215352 [==============================] - 22s 102us/sample - loss: 0.5826 - acc: 0.8264 - val_loss: 0.5926 - val_acc: 0.8067\n",
      "Epoch 138/200\n",
      "215352/215352 [==============================] - 22s 102us/sample - loss: 0.5826 - acc: 0.8260 - val_loss: 0.5921 - val_acc: 0.8045\n",
      "Epoch 139/200\n",
      "215352/215352 [==============================] - 22s 102us/sample - loss: 0.5824 - acc: 0.8266 - val_loss: 0.5925 - val_acc: 0.8114\n",
      "Epoch 140/200\n",
      "215352/215352 [==============================] - 22s 102us/sample - loss: 0.5825 - acc: 0.8260 - val_loss: 0.5923 - val_acc: 0.8042\n",
      "Epoch 141/200\n",
      "215352/215352 [==============================] - 23s 108us/sample - loss: 0.5825 - acc: 0.8259 - val_loss: 0.5922 - val_acc: 0.8087\n",
      "Epoch 142/200\n",
      "215352/215352 [==============================] - 22s 102us/sample - loss: 0.5822 - acc: 0.8269 - val_loss: 0.5928 - val_acc: 0.8019\n",
      "Epoch 143/200\n",
      "215352/215352 [==============================] - 22s 101us/sample - loss: 0.5823 - acc: 0.8266 - val_loss: 0.5924 - val_acc: 0.8042\n",
      "Epoch 144/200\n",
      "215352/215352 [==============================] - 22s 104us/sample - loss: 0.5823 - acc: 0.8267 - val_loss: 0.5921 - val_acc: 0.8083\n",
      "Epoch 145/200\n",
      "215352/215352 [==============================] - 22s 102us/sample - loss: 0.5823 - acc: 0.8262 - val_loss: 0.5931 - val_acc: 0.8122\n",
      "Epoch 146/200\n",
      "215352/215352 [==============================] - 22s 102us/sample - loss: 0.5821 - acc: 0.8271 - val_loss: 0.5923 - val_acc: 0.8099\n",
      "Epoch 147/200\n",
      "215352/215352 [==============================] - 22s 103us/sample - loss: 0.5821 - acc: 0.8268 - val_loss: 0.5919 - val_acc: 0.8058\n",
      "Epoch 148/200\n",
      "215352/215352 [==============================] - 22s 102us/sample - loss: 0.5820 - acc: 0.8274 - val_loss: 0.5927 - val_acc: 0.8000\n",
      "Epoch 149/200\n",
      "215352/215352 [==============================] - 22s 102us/sample - loss: 0.5820 - acc: 0.8272 - val_loss: 0.5923 - val_acc: 0.8109\n",
      "Epoch 150/200\n",
      "215352/215352 [==============================] - 22s 102us/sample - loss: 0.5818 - acc: 0.8275 - val_loss: 0.5919 - val_acc: 0.8076\n",
      "Epoch 151/200\n",
      "215352/215352 [==============================] - 22s 102us/sample - loss: 0.5821 - acc: 0.8263 - val_loss: 0.5919 - val_acc: 0.8088\n",
      "Epoch 152/200\n",
      "215352/215352 [==============================] - 22s 103us/sample - loss: 0.5819 - acc: 0.8271 - val_loss: 0.5917 - val_acc: 0.8084\n",
      "Epoch 153/200\n",
      "215352/215352 [==============================] - 22s 102us/sample - loss: 0.5818 - acc: 0.8278 - val_loss: 0.5918 - val_acc: 0.8076\n",
      "Epoch 154/200\n",
      "215352/215352 [==============================] - 22s 102us/sample - loss: 0.5817 - acc: 0.8281 - val_loss: 0.5940 - val_acc: 0.8138\n",
      "Epoch 155/200\n",
      "215352/215352 [==============================] - 22s 103us/sample - loss: 0.5818 - acc: 0.8275 - val_loss: 0.5918 - val_acc: 0.8080\n",
      "Epoch 156/200\n",
      "215352/215352 [==============================] - 22s 102us/sample - loss: 0.5817 - acc: 0.8280 - val_loss: 0.5921 - val_acc: 0.8070\n",
      "Epoch 157/200\n",
      "215352/215352 [==============================] - 22s 101us/sample - loss: 0.5819 - acc: 0.8274 - val_loss: 0.5919 - val_acc: 0.8061\n",
      "Epoch 158/200\n",
      "215352/215352 [==============================] - 22s 102us/sample - loss: 0.5816 - acc: 0.8278 - val_loss: 0.5923 - val_acc: 0.8122\n",
      "Epoch 159/200\n",
      "215352/215352 [==============================] - 22s 101us/sample - loss: 0.5816 - acc: 0.8278 - val_loss: 0.5923 - val_acc: 0.8015\n",
      "Epoch 160/200\n",
      "215352/215352 [==============================] - 22s 101us/sample - loss: 0.5816 - acc: 0.8280 - val_loss: 0.5925 - val_acc: 0.8027\n",
      "Epoch 161/200\n",
      "215352/215352 [==============================] - 22s 101us/sample - loss: 0.5814 - acc: 0.8282 - val_loss: 0.5917 - val_acc: 0.8054\n",
      "Epoch 162/200\n",
      "215352/215352 [==============================] - 22s 102us/sample - loss: 0.5814 - acc: 0.8283 - val_loss: 0.5920 - val_acc: 0.8068\n",
      "Epoch 163/200\n",
      "215352/215352 [==============================] - 22s 101us/sample - loss: 0.5816 - acc: 0.8279 - val_loss: 0.5919 - val_acc: 0.8061\n",
      "Epoch 164/200\n",
      "215352/215352 [==============================] - 22s 102us/sample - loss: 0.5815 - acc: 0.8282 - val_loss: 0.5922 - val_acc: 0.8029\n",
      "Epoch 165/200\n",
      "215352/215352 [==============================] - 22s 102us/sample - loss: 0.5813 - acc: 0.8286 - val_loss: 0.5923 - val_acc: 0.8111\n",
      "Epoch 166/200\n",
      "215352/215352 [==============================] - 22s 102us/sample - loss: 0.5813 - acc: 0.8287 - val_loss: 0.5919 - val_acc: 0.8072\n",
      "Epoch 167/200\n",
      "215352/215352 [==============================] - 22s 102us/sample - loss: 0.5813 - acc: 0.8288 - val_loss: 0.5927 - val_acc: 0.7989\n",
      "Epoch 168/200\n",
      "215352/215352 [==============================] - 22s 102us/sample - loss: 0.5812 - acc: 0.8284 - val_loss: 0.5915 - val_acc: 0.8080\n",
      "Epoch 169/200\n"
     ]
    },
    {
     "name": "stdout",
     "output_type": "stream",
     "text": [
      "215352/215352 [==============================] - 22s 102us/sample - loss: 0.5812 - acc: 0.8291 - val_loss: 0.5919 - val_acc: 0.8066\n",
      "Epoch 170/200\n",
      "215352/215352 [==============================] - 22s 101us/sample - loss: 0.5812 - acc: 0.8288 - val_loss: 0.5920 - val_acc: 0.8109\n",
      "Epoch 171/200\n",
      "215352/215352 [==============================] - 22s 102us/sample - loss: 0.5812 - acc: 0.8285 - val_loss: 0.5920 - val_acc: 0.8061\n",
      "Epoch 172/200\n",
      "215352/215352 [==============================] - 22s 101us/sample - loss: 0.5811 - acc: 0.8288 - val_loss: 0.5915 - val_acc: 0.8075\n",
      "Epoch 173/200\n",
      "215352/215352 [==============================] - 22s 101us/sample - loss: 0.5811 - acc: 0.8293 - val_loss: 0.5921 - val_acc: 0.8061\n",
      "Epoch 174/200\n",
      "215352/215352 [==============================] - 22s 101us/sample - loss: 0.5810 - acc: 0.8297 - val_loss: 0.5917 - val_acc: 0.8055\n",
      "Epoch 175/200\n",
      "215352/215352 [==============================] - 22s 102us/sample - loss: 0.5810 - acc: 0.8292 - val_loss: 0.5917 - val_acc: 0.8106\n",
      "Epoch 176/200\n",
      "215352/215352 [==============================] - 22s 102us/sample - loss: 0.5810 - acc: 0.8294 - val_loss: 0.5923 - val_acc: 0.8015\n",
      "Epoch 177/200\n",
      "215352/215352 [==============================] - 22s 102us/sample - loss: 0.5810 - acc: 0.8292 - val_loss: 0.5918 - val_acc: 0.8106\n",
      "Epoch 178/200\n",
      "215352/215352 [==============================] - 22s 102us/sample - loss: 0.5809 - acc: 0.8292 - val_loss: 0.5919 - val_acc: 0.8120\n",
      "Epoch 179/200\n",
      "215352/215352 [==============================] - 22s 101us/sample - loss: 0.5809 - acc: 0.8295 - val_loss: 0.5914 - val_acc: 0.8073\n",
      "Epoch 180/200\n",
      "215352/215352 [==============================] - 22s 102us/sample - loss: 0.5807 - acc: 0.8298 - val_loss: 0.5925 - val_acc: 0.8126\n",
      "Epoch 181/200\n",
      "215352/215352 [==============================] - 22s 102us/sample - loss: 0.5808 - acc: 0.8296 - val_loss: 0.5924 - val_acc: 0.8128\n",
      "Epoch 182/200\n",
      "215352/215352 [==============================] - 22s 102us/sample - loss: 0.5807 - acc: 0.8302 - val_loss: 0.5918 - val_acc: 0.8046\n",
      "Epoch 183/200\n",
      "215352/215352 [==============================] - 22s 102us/sample - loss: 0.5807 - acc: 0.8298 - val_loss: 0.5919 - val_acc: 0.8034\n",
      "Epoch 184/200\n",
      "215352/215352 [==============================] - 22s 101us/sample - loss: 0.5806 - acc: 0.8304 - val_loss: 0.5918 - val_acc: 0.8045\n",
      "Epoch 185/200\n",
      "215352/215352 [==============================] - 22s 102us/sample - loss: 0.5807 - acc: 0.8299 - val_loss: 0.5917 - val_acc: 0.8082\n",
      "Epoch 186/200\n",
      "215352/215352 [==============================] - 22s 102us/sample - loss: 0.5805 - acc: 0.8303 - val_loss: 0.5917 - val_acc: 0.8050\n",
      "Epoch 187/200\n",
      "215352/215352 [==============================] - 22s 102us/sample - loss: 0.5803 - acc: 0.8306 - val_loss: 0.5922 - val_acc: 0.8032\n",
      "Epoch 188/200\n",
      "215352/215352 [==============================] - 22s 102us/sample - loss: 0.5804 - acc: 0.8306 - val_loss: 0.5914 - val_acc: 0.8079\n",
      "Epoch 189/200\n",
      "215352/215352 [==============================] - 22s 101us/sample - loss: 0.5803 - acc: 0.8308 - val_loss: 0.5920 - val_acc: 0.8060\n",
      "Epoch 190/200\n",
      "215352/215352 [==============================] - 22s 102us/sample - loss: 0.5804 - acc: 0.8304 - val_loss: 0.5915 - val_acc: 0.8105\n",
      "Epoch 191/200\n",
      "215352/215352 [==============================] - 22s 102us/sample - loss: 0.5804 - acc: 0.8302 - val_loss: 0.5912 - val_acc: 0.8095\n",
      "Epoch 192/200\n",
      "215352/215352 [==============================] - 22s 101us/sample - loss: 0.5805 - acc: 0.8308 - val_loss: 0.5918 - val_acc: 0.8039\n",
      "Epoch 193/200\n",
      "215352/215352 [==============================] - 22s 101us/sample - loss: 0.5804 - acc: 0.8305 - val_loss: 0.5916 - val_acc: 0.8092\n",
      "Epoch 194/200\n",
      "215352/215352 [==============================] - 22s 102us/sample - loss: 0.5805 - acc: 0.8299 - val_loss: 0.5918 - val_acc: 0.8034\n",
      "Epoch 195/200\n",
      "215352/215352 [==============================] - 22s 101us/sample - loss: 0.5803 - acc: 0.8306 - val_loss: 0.5921 - val_acc: 0.8020\n",
      "Epoch 196/200\n",
      "215352/215352 [==============================] - 22s 102us/sample - loss: 0.5803 - acc: 0.8307 - val_loss: 0.5917 - val_acc: 0.8063\n",
      "Epoch 197/200\n",
      "215352/215352 [==============================] - 22s 102us/sample - loss: 0.5803 - acc: 0.8306 - val_loss: 0.5920 - val_acc: 0.8098\n",
      "Epoch 198/200\n",
      "215352/215352 [==============================] - 22s 102us/sample - loss: 0.5804 - acc: 0.8304 - val_loss: 0.5915 - val_acc: 0.8066\n",
      "Epoch 199/200\n",
      "215352/215352 [==============================] - 22s 102us/sample - loss: 0.5801 - acc: 0.8313 - val_loss: 0.5913 - val_acc: 0.8094\n",
      "Epoch 200/200\n",
      "215352/215352 [==============================] - 22s 101us/sample - loss: 0.5803 - acc: 0.8310 - val_loss: 0.5916 - val_acc: 0.8072\n"
     ]
    }
   ],
   "source": [
    "history = model.fit(X_train, y_train, epochs=200, \n",
    "                    batch_size=100,\n",
    "                    validation_data=(X_val, y_val))"
   ]
  },
  {
   "cell_type": "code",
   "execution_count": 45,
   "metadata": {
    "ExecuteTime": {
     "end_time": "2021-09-05T15:28:56.285083Z",
     "start_time": "2021-09-05T15:28:56.055780Z"
    }
   },
   "outputs": [
    {
     "data": {
      "image/png": "[encoded data removed]",
      "text/plain": [
       "<Figure size 1152x144 with 2 Axes>"
      ]
     },
     "metadata": {
      "needs_background": "light"
     },
     "output_type": "display_data"
    }
   ],
   "source": [
    "plt.figure(figsize=(16,2))\n",
    "plt.subplot(1,2,1)\n",
    "plot_graphs(history, 'acc')\n",
    "plt.subplot(1,2,2)\n",
    "plot_graphs(history, 'loss')"
   ]
  },
  {
   "cell_type": "markdown",
   "metadata": {},
   "source": [
    "# 3. test"
   ]
  },
  {
   "cell_type": "code",
   "execution_count": 23,
   "metadata": {
    "ExecuteTime": {
     "end_time": "2021-08-30T19:41:51.074958Z",
     "start_time": "2021-08-30T19:41:51.046266Z"
    }
   },
   "outputs": [],
   "source": [
    "from sklearn.metrics import classification_report\n",
    "from sklearn.metrics import confusion_matrix\n",
    "from sklearn.metrics import roc_curve\n",
    "from sklearn.metrics import roc_auc_score\n",
    "import seaborn as sns"
   ]
  },
  {
   "cell_type": "code",
   "execution_count": 46,
   "metadata": {
    "ExecuteTime": {
     "end_time": "2021-09-05T15:29:00.464377Z",
     "start_time": "2021-09-05T15:28:56.286288Z"
    }
   },
   "outputs": [
    {
     "name": "stdout",
     "output_type": "stream",
     "text": [
      "Making predictions\n",
      "Saving predictions to file compareModel/2019Bioinformatics_DeepMSPeptide/DeepMSPeptide/detect_peptide_test_Predictions.txt\n"
     ]
    }
   ],
   "source": [
    "print('Making predictions')\n",
    "model_pred = model.predict(X_test)\n",
    "model_pred = np.hstack((np.array(lines).reshape(len(lines), 1),model_pred)).tolist()\n",
    "\n",
    "Pred_output = []\n",
    "for pred in model_pred:\n",
    "    if float(pred[1]) > 0.5:\n",
    "        Pred_output.append([pred[0], str(1-float(pred[1])), '0'])\n",
    "    else:\n",
    "        Pred_output.append([pred[0], str(1-float(pred[1])), '1'])\n",
    "\n",
    "outFile = '{0}_Predictions.txt'.format(args.split('.')[0])\n",
    "print('Saving predictions to file {}'.format(outFile))\n",
    "with open(outFile, 'w') as outf:\n",
    "    outf.write('Peptide\\tProb\\tDetectability\\n')\n",
    "    outf.writelines('\\t'.join(i) + '\\n' for i in Pred_output)"
   ]
  },
  {
   "cell_type": "code",
   "execution_count": 47,
   "metadata": {
    "ExecuteTime": {
     "end_time": "2021-09-05T15:29:04.567299Z",
     "start_time": "2021-09-05T15:29:00.465664Z"
    }
   },
   "outputs": [
    {
     "name": "stdout",
     "output_type": "stream",
     "text": [
      "67298/67298 [==============================] - 4s 61us/sample - loss: 0.5902 - acc: 0.8091\n",
      "Test Loss: 0.5901626553318363\n",
      "Test Accuracy: 0.8090581893920898\n"
     ]
    }
   ],
   "source": [
    "test_loss, test_acc = model.evaluate(X_test, y_test)\n",
    "print('Test Loss: {}'.format(test_loss))\n",
    "print('Test Accuracy: {}'.format(test_acc))"
   ]
  },
  {
   "cell_type": "code",
   "execution_count": 48,
   "metadata": {
    "ExecuteTime": {
     "end_time": "2021-09-05T15:29:12.440726Z",
     "start_time": "2021-09-05T15:29:04.568483Z"
    }
   },
   "outputs": [
    {
     "name": "stdout",
     "output_type": "stream",
     "text": [
      "              precision    recall  f1-score   support\n",
      "\n",
      "           0       0.77      0.88      0.82     33706\n",
      "           1       0.86      0.74      0.79     33592\n",
      "\n",
      "    accuracy                           0.81     67298\n",
      "   macro avg       0.81      0.81      0.81     67298\n",
      "weighted avg       0.81      0.81      0.81     67298\n",
      "\n",
      "rf auc : 0.8719300384125104\n"
     ]
    },
    {
     "data": {
      "image/png": "[encoded data removed]",
      "text/plain": [
       "<Figure size 288x288 with 1 Axes>"
      ]
     },
     "metadata": {
      "needs_background": "light"
     },
     "output_type": "display_data"
    },
    {
     "data": {
      "image/png": "[encoded data removed]",
      "text/plain": [
       "<Figure size 216x216 with 2 Axes>"
      ]
     },
     "metadata": {
      "needs_background": "light"
     },
     "output_type": "display_data"
    },
    {
     "data": {
      "image/png": "[encoded data removed]",
      "text/plain": [
       "<Figure size 216x216 with 2 Axes>"
      ]
     },
     "metadata": {
      "needs_background": "light"
     },
     "output_type": "display_data"
    }
   ],
   "source": [
    "# prediction\n",
    "y_pred = [1 if i>=0.5 else 0 for i in model.predict(X_test)]\n",
    "print(classification_report(y_test, y_pred))\n",
    "# AUC\n",
    "probs = model.predict(X_test)\n",
    "rf_auc = roc_auc_score(y_test, probs)\n",
    "print('rf auc : {}'.format(rf_auc))\n",
    "# plot the roc curve for the model\n",
    "rf_fpr, rf_tpr, _ = roc_curve(y_test, probs)\n",
    "plt.figure(figsize=(4, 4))\n",
    "plt.plot(rf_fpr, rf_tpr, marker='.', label='RF AUC = {:.4f}'.format(rf_auc), color='orange')\n",
    "plt.title('ROC curve')\n",
    "# axis labels\n",
    "plt.xlabel('False Positive Rate')\n",
    "plt.ylabel('True Positive Rate')\n",
    "# show the legend\n",
    "plt.legend()\n",
    "# show the plot\n",
    "plt.show()\n",
    "\n",
    "cf_matrix = confusion_matrix(y_test, y_pred)\n",
    "plt.figure(figsize=(3, 3))\n",
    "sns.heatmap(cf_matrix, annot=True, fmt=',.0f')\n",
    "plt.show()\n",
    "plt.figure(figsize=(3, 3))\n",
    "sns.heatmap(cf_matrix/np.sum(cf_matrix), annot=True, \n",
    "            fmt='.2%', cmap='Blues')\n",
    "plt.show()"
   ]
  },
  {
   "cell_type": "markdown",
   "metadata": {},
   "source": [
    "# max_length 81"
   ]
  },
  {
   "cell_type": "code",
   "execution_count": 50,
   "metadata": {
    "ExecuteTime": {
     "end_time": "2021-09-05T15:36:01.429459Z",
     "start_time": "2021-09-05T15:35:58.761288Z"
    }
   },
   "outputs": [
    {
     "name": "stdout",
     "output_type": "stream",
     "text": [
      "Loading input peptides\n",
      "Succesfully loaded 269190 peptides and skipped 0\n",
      "Loading input peptides\n",
      "Succesfully loaded 67298 peptides and skipped 0\n",
      "(215352, 81) (53838, 81) (67298, 81) (215352,) (53838,) (67298,)\n"
     ]
    }
   ],
   "source": [
    "args = file_path + 'detect_peptide_train.txt'\n",
    "print('Loading input peptides')\n",
    "X_train, skipped, lines = load_pep_and_codify(args, 81)\n",
    "tmp = open(file_path+'detect_peptide_train_y.txt')\n",
    "y_train = np.array([int(_.replace('\\n', '')) for _ in tmp.readlines()])\n",
    "tmp.close()\n",
    "print('Succesfully loaded {0} peptides and skipped {1}'.format(len(lines), str(skipped)))\n",
    "\n",
    "args = file_path + 'detect_peptide_test.txt'\n",
    "print('Loading input peptides')\n",
    "X_test, skipped, lines = load_pep_and_codify(args, 81)\n",
    "tmp = open(file_path+'detect_peptide_test_y.txt')\n",
    "y_test = np.array([int(_.replace('\\n', '')) for _ in tmp.readlines()])\n",
    "tmp.close()\n",
    "print('Succesfully loaded {0} peptides and skipped {1}'.format(len(lines), str(skipped)))\n",
    "\n",
    "X_train, X_val, y_train, y_val = train_test_split(X_train, y_train, test_size=0.2)\n",
    "print(X_train.shape, X_val.shape, X_test.shape, y_train.shape, y_val.shape, y_test.shape)"
   ]
  },
  {
   "cell_type": "code",
   "execution_count": 53,
   "metadata": {
    "ExecuteTime": {
     "end_time": "2021-09-05T15:36:31.702434Z",
     "start_time": "2021-09-05T15:36:31.552839Z"
    }
   },
   "outputs": [
    {
     "name": "stdout",
     "output_type": "stream",
     "text": [
      "Model: \"sequential_8\"\n",
      "_________________________________________________________________\n",
      "Layer (type)                 Output Shape              Param #   \n",
      "=================================================================\n",
      "embedding_8 (Embedding)      (None, 81, 50)            1150      \n",
      "_________________________________________________________________\n",
      "dropout_16 (Dropout)         (None, 81, 50)            0         \n",
      "_________________________________________________________________\n",
      "conv1d_16 (Conv1D)           (None, 81, 128)           19328     \n",
      "_________________________________________________________________\n",
      "conv1d_17 (Conv1D)           (None, 80, 64)            16448     \n",
      "_________________________________________________________________\n",
      "global_max_pooling1d_8 (Glob (None, 64)                0         \n",
      "_________________________________________________________________\n",
      "dense_16 (Dense)             (None, 64)                4160      \n",
      "_________________________________________________________________\n",
      "dropout_17 (Dropout)         (None, 64)                0         \n",
      "_________________________________________________________________\n",
      "dense_17 (Dense)             (None, 1)                 65        \n",
      "=================================================================\n",
      "Total params: 41,151\n",
      "Trainable params: 41,151\n",
      "Non-trainable params: 0\n",
      "_________________________________________________________________\n"
     ]
    }
   ],
   "source": [
    "model81 = tf.keras.Sequential([\n",
    "    tf.keras.layers.Embedding(23, 50, input_length=81),\n",
    "    tf.keras.layers.Dropout(np.random.uniform(0, 0.2)),\n",
    "    tf.keras.layers.Conv1D(filters=128, kernel_size=3, strides=1, padding='same'),\n",
    "    tf.keras.layers.Conv1D(filters=64, kernel_size=2, strides=1),\n",
    "    tf.keras.layers.GlobalMaxPooling1D(),\n",
    "    tf.keras.layers.Dense(64),\n",
    "    tf.keras.layers.Dropout(np.random.uniform(0, 0.2)),\n",
    "    tf.keras.layers.Dense(1, activation='sigmoid')\n",
    "])\n",
    "model81.summary()\n",
    "model81.compile(loss=tf.keras.losses.BinaryCrossentropy(from_logits=True),\n",
    "              optimizer=tf.keras.optimizers.Adam(1e-4),\n",
    "              metrics=['accuracy'])"
   ]
  },
  {
   "cell_type": "code",
   "execution_count": 54,
   "metadata": {
    "ExecuteTime": {
     "end_time": "2021-09-05T17:11:01.635643Z",
     "start_time": "2021-09-05T15:36:33.944924Z"
    }
   },
   "outputs": [
    {
     "name": "stdout",
     "output_type": "stream",
     "text": [
      "Train on 215352 samples, validate on 53838 samples\n",
      "Epoch 1/200\n",
      "215352/215352 [==============================] - 26s 120us/sample - loss: 0.6281 - acc: 0.7144 - val_loss: 0.6143 - val_acc: 0.7554\n",
      "Epoch 2/200\n",
      "215352/215352 [==============================] - 25s 116us/sample - loss: 0.6100 - acc: 0.7715 - val_loss: 0.6117 - val_acc: 0.7690\n",
      "Epoch 3/200\n",
      "215352/215352 [==============================] - 25s 117us/sample - loss: 0.6089 - acc: 0.7759 - val_loss: 0.6106 - val_acc: 0.7737\n",
      "Epoch 4/200\n",
      "215352/215352 [==============================] - 25s 117us/sample - loss: 0.6081 - acc: 0.7787 - val_loss: 0.6103 - val_acc: 0.7733\n",
      "Epoch 5/200\n",
      "215352/215352 [==============================] - 25s 117us/sample - loss: 0.6075 - acc: 0.7805 - val_loss: 0.6103 - val_acc: 0.7711\n",
      "Epoch 6/200\n",
      "215352/215352 [==============================] - 25s 117us/sample - loss: 0.6071 - acc: 0.7810 - val_loss: 0.6094 - val_acc: 0.7808\n",
      "Epoch 7/200\n",
      "215352/215352 [==============================] - 25s 117us/sample - loss: 0.6067 - acc: 0.7821 - val_loss: 0.6093 - val_acc: 0.7819\n",
      "Epoch 8/200\n",
      "215352/215352 [==============================] - 25s 117us/sample - loss: 0.6063 - acc: 0.7829 - val_loss: 0.6086 - val_acc: 0.7818\n",
      "Epoch 9/200\n",
      "215352/215352 [==============================] - 25s 117us/sample - loss: 0.6059 - acc: 0.7831 - val_loss: 0.6087 - val_acc: 0.7856\n",
      "Epoch 10/200\n",
      "215352/215352 [==============================] - 25s 117us/sample - loss: 0.6055 - acc: 0.7843 - val_loss: 0.6081 - val_acc: 0.7749\n",
      "Epoch 11/200\n",
      "215352/215352 [==============================] - 25s 117us/sample - loss: 0.6053 - acc: 0.7845 - val_loss: 0.6077 - val_acc: 0.7783\n",
      "Epoch 12/200\n",
      "215352/215352 [==============================] - 25s 117us/sample - loss: 0.6050 - acc: 0.7852 - val_loss: 0.6074 - val_acc: 0.7834\n",
      "Epoch 13/200\n",
      "215352/215352 [==============================] - 25s 116us/sample - loss: 0.6048 - acc: 0.7858 - val_loss: 0.6075 - val_acc: 0.7782\n",
      "Epoch 14/200\n",
      "215352/215352 [==============================] - 25s 115us/sample - loss: 0.6046 - acc: 0.7863 - val_loss: 0.6070 - val_acc: 0.7823\n",
      "Epoch 15/200\n",
      "215352/215352 [==============================] - 25s 115us/sample - loss: 0.6044 - acc: 0.7867 - val_loss: 0.6072 - val_acc: 0.7874\n",
      "Epoch 16/200\n",
      "215352/215352 [==============================] - 25s 115us/sample - loss: 0.6041 - acc: 0.7878 - val_loss: 0.6068 - val_acc: 0.7826\n",
      "Epoch 17/200\n",
      "215352/215352 [==============================] - 25s 115us/sample - loss: 0.6039 - acc: 0.7876 - val_loss: 0.6066 - val_acc: 0.7809\n",
      "Epoch 18/200\n",
      "215352/215352 [==============================] - 25s 115us/sample - loss: 0.6036 - acc: 0.7883 - val_loss: 0.6064 - val_acc: 0.7826\n",
      "Epoch 19/200\n",
      "215352/215352 [==============================] - 25s 115us/sample - loss: 0.6035 - acc: 0.7885 - val_loss: 0.6065 - val_acc: 0.7850\n",
      "Epoch 20/200\n",
      "215352/215352 [==============================] - 25s 115us/sample - loss: 0.6033 - acc: 0.7889 - val_loss: 0.6061 - val_acc: 0.7849\n",
      "Epoch 21/200\n",
      "215352/215352 [==============================] - 25s 115us/sample - loss: 0.6031 - acc: 0.7894 - val_loss: 0.6062 - val_acc: 0.7864\n",
      "Epoch 22/200\n",
      "215352/215352 [==============================] - 25s 115us/sample - loss: 0.6029 - acc: 0.7901 - val_loss: 0.6061 - val_acc: 0.7891\n",
      "Epoch 23/200\n",
      "215352/215352 [==============================] - 25s 115us/sample - loss: 0.6027 - acc: 0.7903 - val_loss: 0.6059 - val_acc: 0.7830\n",
      "Epoch 24/200\n",
      "215352/215352 [==============================] - 25s 116us/sample - loss: 0.6025 - acc: 0.7910 - val_loss: 0.6060 - val_acc: 0.7880\n",
      "Epoch 25/200\n",
      "215352/215352 [==============================] - 25s 116us/sample - loss: 0.6023 - acc: 0.7911 - val_loss: 0.6055 - val_acc: 0.7875\n",
      "Epoch 26/200\n",
      "215352/215352 [==============================] - 25s 115us/sample - loss: 0.6021 - acc: 0.7917 - val_loss: 0.6052 - val_acc: 0.7834\n",
      "Epoch 27/200\n",
      "215352/215352 [==============================] - 25s 115us/sample - loss: 0.6019 - acc: 0.7921 - val_loss: 0.6053 - val_acc: 0.7831\n",
      "Epoch 28/200\n",
      "215352/215352 [==============================] - 25s 116us/sample - loss: 0.6016 - acc: 0.7925 - val_loss: 0.6053 - val_acc: 0.7899\n",
      "Epoch 29/200\n",
      "215352/215352 [==============================] - 25s 116us/sample - loss: 0.6013 - acc: 0.7930 - val_loss: 0.6045 - val_acc: 0.7862\n",
      "Epoch 30/200\n",
      "215352/215352 [==============================] - 25s 116us/sample - loss: 0.6010 - acc: 0.7931 - val_loss: 0.6045 - val_acc: 0.7836\n",
      "Epoch 31/200\n",
      "215352/215352 [==============================] - 25s 116us/sample - loss: 0.6005 - acc: 0.7939 - val_loss: 0.6040 - val_acc: 0.7908\n",
      "Epoch 32/200\n",
      "215352/215352 [==============================] - 25s 115us/sample - loss: 0.6004 - acc: 0.7943 - val_loss: 0.6038 - val_acc: 0.7851\n",
      "Epoch 33/200\n",
      "215352/215352 [==============================] - 25s 116us/sample - loss: 0.5999 - acc: 0.7950 - val_loss: 0.6035 - val_acc: 0.7854\n",
      "Epoch 34/200\n",
      "215352/215352 [==============================] - 25s 117us/sample - loss: 0.5996 - acc: 0.7952 - val_loss: 0.6034 - val_acc: 0.7850\n",
      "Epoch 35/200\n",
      "215352/215352 [==============================] - 25s 116us/sample - loss: 0.5993 - acc: 0.7955 - val_loss: 0.6029 - val_acc: 0.7904\n",
      "Epoch 36/200\n",
      "215352/215352 [==============================] - 25s 117us/sample - loss: 0.5991 - acc: 0.7962 - val_loss: 0.6030 - val_acc: 0.7874\n",
      "Epoch 37/200\n",
      "215352/215352 [==============================] - 25s 115us/sample - loss: 0.5988 - acc: 0.7966 - val_loss: 0.6025 - val_acc: 0.7890\n",
      "Epoch 38/200\n",
      "215352/215352 [==============================] - 25s 115us/sample - loss: 0.5985 - acc: 0.7972 - val_loss: 0.6026 - val_acc: 0.7892\n",
      "Epoch 39/200\n",
      "215352/215352 [==============================] - 25s 116us/sample - loss: 0.5983 - acc: 0.7976 - val_loss: 0.6025 - val_acc: 0.7895\n",
      "Epoch 40/200\n",
      "215352/215352 [==============================] - 25s 116us/sample - loss: 0.5980 - acc: 0.7981 - val_loss: 0.6022 - val_acc: 0.7893\n",
      "Epoch 41/200\n",
      "215352/215352 [==============================] - 25s 115us/sample - loss: 0.5977 - acc: 0.7987 - val_loss: 0.6020 - val_acc: 0.7891\n",
      "Epoch 42/200\n",
      "215352/215352 [==============================] - 25s 115us/sample - loss: 0.5975 - acc: 0.7994 - val_loss: 0.6025 - val_acc: 0.7944\n",
      "Epoch 43/200\n",
      "215352/215352 [==============================] - 25s 116us/sample - loss: 0.5972 - acc: 0.7993 - val_loss: 0.6030 - val_acc: 0.7960\n",
      "Epoch 44/200\n",
      "215352/215352 [==============================] - 25s 116us/sample - loss: 0.5970 - acc: 0.7996 - val_loss: 0.6022 - val_acc: 0.7931\n",
      "Epoch 45/200\n",
      "215352/215352 [==============================] - 25s 115us/sample - loss: 0.5966 - acc: 0.8004 - val_loss: 0.6030 - val_acc: 0.7971\n",
      "Epoch 46/200\n",
      "215352/215352 [==============================] - 25s 115us/sample - loss: 0.5964 - acc: 0.8008 - val_loss: 0.6015 - val_acc: 0.7910\n",
      "Epoch 47/200\n",
      "215352/215352 [==============================] - 25s 116us/sample - loss: 0.5960 - acc: 0.8016 - val_loss: 0.6015 - val_acc: 0.7951\n",
      "Epoch 48/200\n",
      "215352/215352 [==============================] - 25s 116us/sample - loss: 0.5959 - acc: 0.8017 - val_loss: 0.6025 - val_acc: 0.7974\n",
      "Epoch 49/200\n",
      "215352/215352 [==============================] - 25s 116us/sample - loss: 0.5957 - acc: 0.8022 - val_loss: 0.6011 - val_acc: 0.7933\n",
      "Epoch 50/200\n",
      "215352/215352 [==============================] - 25s 116us/sample - loss: 0.5954 - acc: 0.8023 - val_loss: 0.6009 - val_acc: 0.7933\n",
      "Epoch 51/200\n",
      "215352/215352 [==============================] - 25s 116us/sample - loss: 0.5950 - acc: 0.8033 - val_loss: 0.6015 - val_acc: 0.7973\n",
      "Epoch 52/200\n",
      "215352/215352 [==============================] - 25s 117us/sample - loss: 0.5949 - acc: 0.8034 - val_loss: 0.6010 - val_acc: 0.7970\n",
      "Epoch 53/200\n",
      "215352/215352 [==============================] - 25s 116us/sample - loss: 0.5945 - acc: 0.8038 - val_loss: 0.6011 - val_acc: 0.7830\n",
      "Epoch 54/200\n",
      "215352/215352 [==============================] - 25s 118us/sample - loss: 0.5943 - acc: 0.8040 - val_loss: 0.6009 - val_acc: 0.7838\n",
      "Epoch 55/200\n",
      "215352/215352 [==============================] - 25s 117us/sample - loss: 0.5939 - acc: 0.8051 - val_loss: 0.6008 - val_acc: 0.7979\n",
      "Epoch 56/200\n",
      "215352/215352 [==============================] - 25s 117us/sample - loss: 0.5936 - acc: 0.8056 - val_loss: 0.6000 - val_acc: 0.7978\n",
      "Epoch 57/200\n"
     ]
    },
    {
     "name": "stdout",
     "output_type": "stream",
     "text": [
      "215352/215352 [==============================] - 25s 117us/sample - loss: 0.5935 - acc: 0.8053 - val_loss: 0.5997 - val_acc: 0.7896\n",
      "Epoch 58/200\n",
      "215352/215352 [==============================] - 25s 116us/sample - loss: 0.5930 - acc: 0.8067 - val_loss: 0.5999 - val_acc: 0.7959\n",
      "Epoch 59/200\n",
      "215352/215352 [==============================] - 25s 117us/sample - loss: 0.5930 - acc: 0.8067 - val_loss: 0.5995 - val_acc: 0.7979\n",
      "Epoch 60/200\n",
      "215352/215352 [==============================] - 25s 117us/sample - loss: 0.5925 - acc: 0.8069 - val_loss: 0.5993 - val_acc: 0.7947\n",
      "Epoch 61/200\n",
      "215352/215352 [==============================] - 25s 117us/sample - loss: 0.5925 - acc: 0.8074 - val_loss: 0.5990 - val_acc: 0.7928\n",
      "Epoch 62/200\n",
      "215352/215352 [==============================] - 25s 117us/sample - loss: 0.5922 - acc: 0.8072 - val_loss: 0.5992 - val_acc: 0.7897\n",
      "Epoch 63/200\n",
      "215352/215352 [==============================] - 25s 117us/sample - loss: 0.5918 - acc: 0.8086 - val_loss: 0.5988 - val_acc: 0.7915\n",
      "Epoch 64/200\n",
      "215352/215352 [==============================] - 35s 164us/sample - loss: 0.5917 - acc: 0.8089 - val_loss: 0.5992 - val_acc: 0.7974\n",
      "Epoch 65/200\n",
      "215352/215352 [==============================] - 41s 188us/sample - loss: 0.5915 - acc: 0.8090 - val_loss: 0.5993 - val_acc: 0.7875\n",
      "Epoch 66/200\n",
      "215352/215352 [==============================] - 26s 119us/sample - loss: 0.5912 - acc: 0.8095 - val_loss: 0.5986 - val_acc: 0.7950\n",
      "Epoch 67/200\n",
      "215352/215352 [==============================] - 25s 118us/sample - loss: 0.5912 - acc: 0.8098 - val_loss: 0.5985 - val_acc: 0.7938\n",
      "Epoch 68/200\n",
      "215352/215352 [==============================] - 25s 118us/sample - loss: 0.5909 - acc: 0.8101 - val_loss: 0.5991 - val_acc: 0.7978\n",
      "Epoch 69/200\n",
      "215352/215352 [==============================] - 25s 118us/sample - loss: 0.5908 - acc: 0.8103 - val_loss: 0.6020 - val_acc: 0.8013\n",
      "Epoch 70/200\n",
      "215352/215352 [==============================] - 25s 117us/sample - loss: 0.5905 - acc: 0.8108 - val_loss: 0.5988 - val_acc: 0.7960\n",
      "Epoch 71/200\n",
      "215352/215352 [==============================] - 25s 118us/sample - loss: 0.5904 - acc: 0.8111 - val_loss: 0.6006 - val_acc: 0.8003\n",
      "Epoch 72/200\n",
      "215352/215352 [==============================] - 25s 118us/sample - loss: 0.5902 - acc: 0.8117 - val_loss: 0.5992 - val_acc: 0.7874\n",
      "Epoch 73/200\n",
      "215352/215352 [==============================] - 25s 118us/sample - loss: 0.5901 - acc: 0.8118 - val_loss: 0.5988 - val_acc: 0.7972\n",
      "Epoch 74/200\n",
      "215352/215352 [==============================] - 25s 117us/sample - loss: 0.5900 - acc: 0.8121 - val_loss: 0.5984 - val_acc: 0.7954\n",
      "Epoch 75/200\n",
      "215352/215352 [==============================] - 25s 117us/sample - loss: 0.5897 - acc: 0.8131 - val_loss: 0.5986 - val_acc: 0.7970\n",
      "Epoch 76/200\n",
      "215352/215352 [==============================] - 25s 118us/sample - loss: 0.5896 - acc: 0.8128 - val_loss: 0.5990 - val_acc: 0.7996\n",
      "Epoch 77/200\n",
      "215352/215352 [==============================] - 25s 118us/sample - loss: 0.5894 - acc: 0.8131 - val_loss: 0.5982 - val_acc: 0.7959\n",
      "Epoch 78/200\n",
      "215352/215352 [==============================] - 25s 116us/sample - loss: 0.5893 - acc: 0.8136 - val_loss: 0.5996 - val_acc: 0.8012\n",
      "Epoch 79/200\n",
      "215352/215352 [==============================] - 25s 117us/sample - loss: 0.5892 - acc: 0.8137 - val_loss: 0.5980 - val_acc: 0.7970\n",
      "Epoch 80/200\n",
      "215352/215352 [==============================] - 25s 117us/sample - loss: 0.5890 - acc: 0.8138 - val_loss: 0.5982 - val_acc: 0.7945\n",
      "Epoch 81/200\n",
      "215352/215352 [==============================] - 25s 116us/sample - loss: 0.5889 - acc: 0.8140 - val_loss: 0.5985 - val_acc: 0.7892\n",
      "Epoch 82/200\n",
      "215352/215352 [==============================] - 26s 119us/sample - loss: 0.5887 - acc: 0.8146 - val_loss: 0.5981 - val_acc: 0.7922\n",
      "Epoch 83/200\n",
      "215352/215352 [==============================] - 25s 116us/sample - loss: 0.5886 - acc: 0.8153 - val_loss: 0.5980 - val_acc: 0.7992\n",
      "Epoch 84/200\n",
      "215352/215352 [==============================] - 26s 120us/sample - loss: 0.5885 - acc: 0.8153 - val_loss: 0.5987 - val_acc: 0.7872\n",
      "Epoch 85/200\n",
      "215352/215352 [==============================] - 27s 125us/sample - loss: 0.5883 - acc: 0.8156 - val_loss: 0.5995 - val_acc: 0.8010\n",
      "Epoch 86/200\n",
      "215352/215352 [==============================] - 25s 116us/sample - loss: 0.5882 - acc: 0.8156 - val_loss: 0.5984 - val_acc: 0.7994\n",
      "Epoch 87/200\n",
      "215352/215352 [==============================] - 25s 116us/sample - loss: 0.5881 - acc: 0.8157 - val_loss: 0.5980 - val_acc: 0.7942\n",
      "Epoch 88/200\n",
      "215352/215352 [==============================] - 25s 118us/sample - loss: 0.5880 - acc: 0.8158 - val_loss: 0.5979 - val_acc: 0.7955\n",
      "Epoch 89/200\n",
      "215352/215352 [==============================] - 25s 117us/sample - loss: 0.5877 - acc: 0.8165 - val_loss: 0.5985 - val_acc: 0.8005\n",
      "Epoch 90/200\n",
      "215352/215352 [==============================] - 25s 116us/sample - loss: 0.5878 - acc: 0.8166 - val_loss: 0.5978 - val_acc: 0.7934\n",
      "Epoch 91/200\n",
      "215352/215352 [==============================] - 25s 117us/sample - loss: 0.5875 - acc: 0.8174 - val_loss: 0.5980 - val_acc: 0.7969\n",
      "Epoch 92/200\n",
      "215352/215352 [==============================] - 25s 117us/sample - loss: 0.5875 - acc: 0.8174 - val_loss: 0.5983 - val_acc: 0.7994\n",
      "Epoch 93/200\n",
      "215352/215352 [==============================] - 25s 117us/sample - loss: 0.5875 - acc: 0.8166 - val_loss: 0.5980 - val_acc: 0.7948\n",
      "Epoch 94/200\n",
      "215352/215352 [==============================] - 25s 116us/sample - loss: 0.5872 - acc: 0.8176 - val_loss: 0.5979 - val_acc: 0.7981\n",
      "Epoch 95/200\n",
      "215352/215352 [==============================] - 25s 116us/sample - loss: 0.5873 - acc: 0.8174 - val_loss: 0.5987 - val_acc: 0.8022\n",
      "Epoch 96/200\n",
      "215352/215352 [==============================] - 25s 117us/sample - loss: 0.5870 - acc: 0.8180 - val_loss: 0.5981 - val_acc: 0.7969\n",
      "Epoch 97/200\n",
      "215352/215352 [==============================] - 26s 120us/sample - loss: 0.5870 - acc: 0.8181 - val_loss: 0.5985 - val_acc: 0.7998\n",
      "Epoch 98/200\n",
      "215352/215352 [==============================] - 32s 148us/sample - loss: 0.5869 - acc: 0.8183 - val_loss: 0.5987 - val_acc: 0.7895\n",
      "Epoch 99/200\n",
      "215352/215352 [==============================] - 32s 150us/sample - loss: 0.5869 - acc: 0.8183 - val_loss: 0.5981 - val_acc: 0.8010\n",
      "Epoch 100/200\n",
      "215352/215352 [==============================] - 33s 151us/sample - loss: 0.5867 - acc: 0.8186 - val_loss: 0.5980 - val_acc: 0.7933\n",
      "Epoch 101/200\n",
      "215352/215352 [==============================] - 33s 151us/sample - loss: 0.5867 - acc: 0.8189 - val_loss: 0.5980 - val_acc: 0.7941\n",
      "Epoch 102/200\n",
      "215352/215352 [==============================] - 33s 151us/sample - loss: 0.5867 - acc: 0.8186 - val_loss: 0.5982 - val_acc: 0.7906\n",
      "Epoch 103/200\n",
      "215352/215352 [==============================] - 32s 150us/sample - loss: 0.5865 - acc: 0.8190 - val_loss: 0.5983 - val_acc: 0.7994\n",
      "Epoch 104/200\n",
      "215352/215352 [==============================] - 32s 150us/sample - loss: 0.5864 - acc: 0.8194 - val_loss: 0.5987 - val_acc: 0.8012\n",
      "Epoch 105/200\n",
      "215352/215352 [==============================] - 32s 149us/sample - loss: 0.5861 - acc: 0.8203 - val_loss: 0.5976 - val_acc: 0.7951\n",
      "Epoch 106/200\n",
      "215352/215352 [==============================] - 32s 150us/sample - loss: 0.5863 - acc: 0.8195 - val_loss: 0.5987 - val_acc: 0.8007\n",
      "Epoch 107/200\n",
      "215352/215352 [==============================] - 32s 150us/sample - loss: 0.5861 - acc: 0.8197 - val_loss: 0.5985 - val_acc: 0.8012\n",
      "Epoch 108/200\n",
      "215352/215352 [==============================] - 32s 150us/sample - loss: 0.5859 - acc: 0.8205 - val_loss: 0.5989 - val_acc: 0.8012\n",
      "Epoch 109/200\n",
      "215352/215352 [==============================] - 32s 151us/sample - loss: 0.5860 - acc: 0.8198 - val_loss: 0.5983 - val_acc: 0.7899\n",
      "Epoch 110/200\n",
      "215352/215352 [==============================] - 33s 152us/sample - loss: 0.5858 - acc: 0.8206 - val_loss: 0.5987 - val_acc: 0.8019\n",
      "Epoch 111/200\n",
      "215352/215352 [==============================] - 34s 159us/sample - loss: 0.5859 - acc: 0.8206 - val_loss: 0.5980 - val_acc: 0.7915\n",
      "Epoch 112/200\n",
      "215352/215352 [==============================] - 32s 150us/sample - loss: 0.5858 - acc: 0.8208 - val_loss: 0.5989 - val_acc: 0.8015\n",
      "Epoch 113/200\n"
     ]
    },
    {
     "name": "stdout",
     "output_type": "stream",
     "text": [
      "215352/215352 [==============================] - 32s 150us/sample - loss: 0.5856 - acc: 0.8213 - val_loss: 0.5978 - val_acc: 0.7945\n",
      "Epoch 114/200\n",
      "215352/215352 [==============================] - 32s 150us/sample - loss: 0.5856 - acc: 0.8209 - val_loss: 0.5980 - val_acc: 0.7987\n",
      "Epoch 115/200\n",
      "215352/215352 [==============================] - 33s 151us/sample - loss: 0.5854 - acc: 0.8215 - val_loss: 0.5982 - val_acc: 0.8000\n",
      "Epoch 116/200\n",
      "215352/215352 [==============================] - 33s 153us/sample - loss: 0.5854 - acc: 0.8213 - val_loss: 0.5989 - val_acc: 0.8016\n",
      "Epoch 117/200\n",
      "215352/215352 [==============================] - 33s 151us/sample - loss: 0.5851 - acc: 0.8220 - val_loss: 0.5983 - val_acc: 0.8012\n",
      "Epoch 118/200\n",
      "215352/215352 [==============================] - 32s 150us/sample - loss: 0.5852 - acc: 0.8218 - val_loss: 0.5985 - val_acc: 0.8007\n",
      "Epoch 119/200\n",
      "215352/215352 [==============================] - 32s 149us/sample - loss: 0.5853 - acc: 0.8214 - val_loss: 0.5978 - val_acc: 0.7940\n",
      "Epoch 120/200\n",
      "215352/215352 [==============================] - 32s 149us/sample - loss: 0.5851 - acc: 0.8219 - val_loss: 0.5978 - val_acc: 0.7966\n",
      "Epoch 121/200\n",
      "215352/215352 [==============================] - 33s 151us/sample - loss: 0.5851 - acc: 0.8222 - val_loss: 0.5982 - val_acc: 0.7987\n",
      "Epoch 122/200\n",
      "215352/215352 [==============================] - 32s 149us/sample - loss: 0.5851 - acc: 0.8220 - val_loss: 0.5984 - val_acc: 0.7922\n",
      "Epoch 123/200\n",
      "215352/215352 [==============================] - 32s 150us/sample - loss: 0.5850 - acc: 0.8224 - val_loss: 0.5983 - val_acc: 0.7908\n",
      "Epoch 124/200\n",
      "215352/215352 [==============================] - 32s 150us/sample - loss: 0.5849 - acc: 0.8219 - val_loss: 0.5981 - val_acc: 0.7965\n",
      "Epoch 125/200\n",
      "215352/215352 [==============================] - 32s 150us/sample - loss: 0.5849 - acc: 0.8225 - val_loss: 0.5982 - val_acc: 0.7944\n",
      "Epoch 126/200\n",
      "215352/215352 [==============================] - 33s 151us/sample - loss: 0.5850 - acc: 0.8221 - val_loss: 0.5981 - val_acc: 0.7908\n",
      "Epoch 127/200\n",
      "215352/215352 [==============================] - 32s 149us/sample - loss: 0.5847 - acc: 0.8230 - val_loss: 0.5988 - val_acc: 0.8008\n",
      "Epoch 128/200\n",
      "215352/215352 [==============================] - 32s 150us/sample - loss: 0.5846 - acc: 0.8233 - val_loss: 0.5979 - val_acc: 0.8005\n",
      "Epoch 129/200\n",
      "215352/215352 [==============================] - 32s 149us/sample - loss: 0.5845 - acc: 0.8230 - val_loss: 0.5984 - val_acc: 0.8007\n",
      "Epoch 130/200\n",
      "215352/215352 [==============================] - 32s 150us/sample - loss: 0.5845 - acc: 0.8232 - val_loss: 0.5988 - val_acc: 0.7994\n",
      "Epoch 131/200\n",
      "215352/215352 [==============================] - 32s 149us/sample - loss: 0.5845 - acc: 0.8237 - val_loss: 0.5977 - val_acc: 0.7950\n",
      "Epoch 132/200\n",
      "215352/215352 [==============================] - 32s 149us/sample - loss: 0.5844 - acc: 0.8234 - val_loss: 0.5988 - val_acc: 0.8010\n",
      "Epoch 133/200\n",
      "215352/215352 [==============================] - 32s 151us/sample - loss: 0.5841 - acc: 0.8244 - val_loss: 0.5982 - val_acc: 0.7977\n",
      "Epoch 134/200\n",
      "215352/215352 [==============================] - 32s 150us/sample - loss: 0.5844 - acc: 0.8238 - val_loss: 0.5988 - val_acc: 0.7860\n",
      "Epoch 135/200\n",
      "215352/215352 [==============================] - 32s 150us/sample - loss: 0.5844 - acc: 0.8234 - val_loss: 0.5985 - val_acc: 0.7984\n",
      "Epoch 136/200\n",
      "215352/215352 [==============================] - 32s 150us/sample - loss: 0.5842 - acc: 0.8236 - val_loss: 0.5986 - val_acc: 0.7979\n",
      "Epoch 137/200\n",
      "215352/215352 [==============================] - 32s 149us/sample - loss: 0.5841 - acc: 0.8239 - val_loss: 0.5983 - val_acc: 0.7967\n",
      "Epoch 138/200\n",
      "215352/215352 [==============================] - 32s 149us/sample - loss: 0.5840 - acc: 0.8241 - val_loss: 0.5990 - val_acc: 0.8002\n",
      "Epoch 139/200\n",
      "215352/215352 [==============================] - 32s 150us/sample - loss: 0.5841 - acc: 0.8242 - val_loss: 0.5982 - val_acc: 0.7984\n",
      "Epoch 140/200\n",
      "215352/215352 [==============================] - 32s 150us/sample - loss: 0.5839 - acc: 0.8246 - val_loss: 0.5980 - val_acc: 0.7973\n",
      "Epoch 141/200\n",
      "215352/215352 [==============================] - 32s 148us/sample - loss: 0.5840 - acc: 0.8241 - val_loss: 0.5984 - val_acc: 0.7954\n",
      "Epoch 142/200\n",
      "215352/215352 [==============================] - 32s 150us/sample - loss: 0.5837 - acc: 0.8249 - val_loss: 0.5986 - val_acc: 0.7973\n",
      "Epoch 143/200\n",
      "215352/215352 [==============================] - 32s 151us/sample - loss: 0.5839 - acc: 0.8243 - val_loss: 0.5979 - val_acc: 0.7961\n",
      "Epoch 144/200\n",
      "215352/215352 [==============================] - 32s 151us/sample - loss: 0.5839 - acc: 0.8246 - val_loss: 0.5989 - val_acc: 0.7879\n",
      "Epoch 145/200\n",
      "215352/215352 [==============================] - 32s 150us/sample - loss: 0.5838 - acc: 0.8249 - val_loss: 0.5984 - val_acc: 0.7881\n",
      "Epoch 146/200\n",
      "215352/215352 [==============================] - 32s 150us/sample - loss: 0.5837 - acc: 0.8249 - val_loss: 0.5979 - val_acc: 0.7936\n",
      "Epoch 147/200\n",
      "215352/215352 [==============================] - 32s 150us/sample - loss: 0.5838 - acc: 0.8248 - val_loss: 0.5987 - val_acc: 0.7965\n",
      "Epoch 148/200\n",
      "215352/215352 [==============================] - 32s 149us/sample - loss: 0.5837 - acc: 0.8249 - val_loss: 0.5982 - val_acc: 0.7989\n",
      "Epoch 149/200\n",
      "215352/215352 [==============================] - 32s 150us/sample - loss: 0.5837 - acc: 0.8252 - val_loss: 0.5982 - val_acc: 0.7964\n",
      "Epoch 150/200\n",
      "215352/215352 [==============================] - 32s 150us/sample - loss: 0.5834 - acc: 0.8256 - val_loss: 0.5982 - val_acc: 0.7971\n",
      "Epoch 151/200\n",
      "215352/215352 [==============================] - 32s 150us/sample - loss: 0.5835 - acc: 0.8253 - val_loss: 0.5990 - val_acc: 0.7978\n",
      "Epoch 152/200\n",
      "215352/215352 [==============================] - 32s 151us/sample - loss: 0.5836 - acc: 0.8250 - val_loss: 0.5981 - val_acc: 0.7960\n",
      "Epoch 153/200\n",
      "215352/215352 [==============================] - 32s 150us/sample - loss: 0.5835 - acc: 0.8257 - val_loss: 0.5986 - val_acc: 0.7897\n",
      "Epoch 154/200\n",
      "215352/215352 [==============================] - 32s 151us/sample - loss: 0.5833 - acc: 0.8260 - val_loss: 0.5981 - val_acc: 0.7928\n",
      "Epoch 155/200\n",
      "215352/215352 [==============================] - 33s 151us/sample - loss: 0.5834 - acc: 0.8254 - val_loss: 0.5988 - val_acc: 0.7999\n",
      "Epoch 156/200\n",
      "215352/215352 [==============================] - 32s 149us/sample - loss: 0.5833 - acc: 0.8262 - val_loss: 0.5982 - val_acc: 0.7991\n",
      "Epoch 157/200\n",
      "215352/215352 [==============================] - 33s 151us/sample - loss: 0.5830 - acc: 0.8265 - val_loss: 0.5987 - val_acc: 0.7952\n",
      "Epoch 158/200\n",
      "215352/215352 [==============================] - 33s 152us/sample - loss: 0.5833 - acc: 0.8257 - val_loss: 0.5983 - val_acc: 0.7982\n",
      "Epoch 159/200\n",
      "215352/215352 [==============================] - 32s 148us/sample - loss: 0.5830 - acc: 0.8264 - val_loss: 0.5988 - val_acc: 0.7927\n",
      "Epoch 160/200\n",
      "215352/215352 [==============================] - 32s 150us/sample - loss: 0.5834 - acc: 0.8257 - val_loss: 0.5982 - val_acc: 0.7959\n",
      "Epoch 161/200\n",
      "215352/215352 [==============================] - 32s 151us/sample - loss: 0.5831 - acc: 0.8263 - val_loss: 0.5977 - val_acc: 0.7963\n",
      "Epoch 162/200\n",
      "215352/215352 [==============================] - 32s 150us/sample - loss: 0.5829 - acc: 0.8265 - val_loss: 0.5985 - val_acc: 0.7892\n",
      "Epoch 163/200\n",
      "215352/215352 [==============================] - 32s 150us/sample - loss: 0.5830 - acc: 0.8264 - val_loss: 0.5986 - val_acc: 0.7951\n",
      "Epoch 164/200\n",
      "215352/215352 [==============================] - 32s 150us/sample - loss: 0.5831 - acc: 0.8259 - val_loss: 0.5987 - val_acc: 0.7955\n",
      "Epoch 165/200\n",
      "215352/215352 [==============================] - 32s 150us/sample - loss: 0.5831 - acc: 0.8259 - val_loss: 0.5980 - val_acc: 0.7959\n",
      "Epoch 166/200\n",
      "215352/215352 [==============================] - 33s 151us/sample - loss: 0.5830 - acc: 0.8262 - val_loss: 0.5990 - val_acc: 0.7995\n",
      "Epoch 167/200\n",
      "215352/215352 [==============================] - 33s 151us/sample - loss: 0.5829 - acc: 0.8268 - val_loss: 0.5994 - val_acc: 0.8005\n",
      "Epoch 168/200\n",
      "215352/215352 [==============================] - 32s 148us/sample - loss: 0.5829 - acc: 0.8262 - val_loss: 0.5986 - val_acc: 0.7876\n",
      "Epoch 169/200\n"
     ]
    },
    {
     "name": "stdout",
     "output_type": "stream",
     "text": [
      "215352/215352 [==============================] - 33s 152us/sample - loss: 0.5831 - acc: 0.8260 - val_loss: 0.5984 - val_acc: 0.7945\n",
      "Epoch 170/200\n",
      "215352/215352 [==============================] - 32s 149us/sample - loss: 0.5829 - acc: 0.8265 - val_loss: 0.5986 - val_acc: 0.7957\n",
      "Epoch 171/200\n",
      "215352/215352 [==============================] - 32s 150us/sample - loss: 0.5828 - acc: 0.8272 - val_loss: 0.5989 - val_acc: 0.7964\n",
      "Epoch 172/200\n",
      "215352/215352 [==============================] - 32s 149us/sample - loss: 0.5828 - acc: 0.8264 - val_loss: 0.5983 - val_acc: 0.7970\n",
      "Epoch 173/200\n",
      "215352/215352 [==============================] - 32s 150us/sample - loss: 0.5828 - acc: 0.8268 - val_loss: 0.5984 - val_acc: 0.7909\n",
      "Epoch 174/200\n",
      "215352/215352 [==============================] - 32s 149us/sample - loss: 0.5827 - acc: 0.8271 - val_loss: 0.5987 - val_acc: 0.7971\n",
      "Epoch 175/200\n",
      "215352/215352 [==============================] - 32s 150us/sample - loss: 0.5826 - acc: 0.8274 - val_loss: 0.5987 - val_acc: 0.7973\n",
      "Epoch 176/200\n",
      "215352/215352 [==============================] - 32s 150us/sample - loss: 0.5827 - acc: 0.8270 - val_loss: 0.5987 - val_acc: 0.7990\n",
      "Epoch 177/200\n",
      "215352/215352 [==============================] - 32s 150us/sample - loss: 0.5827 - acc: 0.8268 - val_loss: 0.5986 - val_acc: 0.8000\n",
      "Epoch 178/200\n",
      "215352/215352 [==============================] - 32s 149us/sample - loss: 0.5826 - acc: 0.8270 - val_loss: 0.5981 - val_acc: 0.7932\n",
      "Epoch 179/200\n",
      "215352/215352 [==============================] - 32s 151us/sample - loss: 0.5824 - acc: 0.8277 - val_loss: 0.5981 - val_acc: 0.7967\n",
      "Epoch 180/200\n",
      "215352/215352 [==============================] - 32s 151us/sample - loss: 0.5824 - acc: 0.8275 - val_loss: 0.5981 - val_acc: 0.7961\n",
      "Epoch 181/200\n",
      "215352/215352 [==============================] - 33s 151us/sample - loss: 0.5825 - acc: 0.8280 - val_loss: 0.5981 - val_acc: 0.7972\n",
      "Epoch 182/200\n",
      "215352/215352 [==============================] - 32s 150us/sample - loss: 0.5825 - acc: 0.8275 - val_loss: 0.5985 - val_acc: 0.7954\n",
      "Epoch 183/200\n",
      "215352/215352 [==============================] - 32s 147us/sample - loss: 0.5827 - acc: 0.8268 - val_loss: 0.5981 - val_acc: 0.7958\n",
      "Epoch 184/200\n",
      "215352/215352 [==============================] - 26s 120us/sample - loss: 0.5826 - acc: 0.8275 - val_loss: 0.5984 - val_acc: 0.7927\n",
      "Epoch 185/200\n",
      "215352/215352 [==============================] - 25s 116us/sample - loss: 0.5824 - acc: 0.8277 - val_loss: 0.5980 - val_acc: 0.7916\n",
      "Epoch 186/200\n",
      "215352/215352 [==============================] - 25s 116us/sample - loss: 0.5827 - acc: 0.8270 - val_loss: 0.5997 - val_acc: 0.8004\n",
      "Epoch 187/200\n",
      "215352/215352 [==============================] - 25s 115us/sample - loss: 0.5823 - acc: 0.8280 - val_loss: 0.5994 - val_acc: 0.7998\n",
      "Epoch 188/200\n",
      "215352/215352 [==============================] - 25s 116us/sample - loss: 0.5823 - acc: 0.8278 - val_loss: 0.5982 - val_acc: 0.7986\n",
      "Epoch 189/200\n",
      "215352/215352 [==============================] - 25s 115us/sample - loss: 0.5823 - acc: 0.8278 - val_loss: 0.5984 - val_acc: 0.7963\n",
      "Epoch 190/200\n",
      "215352/215352 [==============================] - 25s 115us/sample - loss: 0.5822 - acc: 0.8281 - val_loss: 0.5986 - val_acc: 0.7910\n",
      "Epoch 191/200\n",
      "215352/215352 [==============================] - 25s 115us/sample - loss: 0.5821 - acc: 0.8285 - val_loss: 0.5988 - val_acc: 0.7978\n",
      "Epoch 192/200\n",
      "215352/215352 [==============================] - 25s 115us/sample - loss: 0.5823 - acc: 0.8277 - val_loss: 0.5984 - val_acc: 0.7953\n",
      "Epoch 193/200\n",
      "215352/215352 [==============================] - 25s 116us/sample - loss: 0.5821 - acc: 0.8282 - val_loss: 0.5995 - val_acc: 0.8014\n",
      "Epoch 194/200\n",
      "215352/215352 [==============================] - 25s 115us/sample - loss: 0.5823 - acc: 0.8278 - val_loss: 0.5988 - val_acc: 0.7992\n",
      "Epoch 195/200\n",
      "215352/215352 [==============================] - 25s 115us/sample - loss: 0.5825 - acc: 0.8277 - val_loss: 0.5986 - val_acc: 0.7990\n",
      "Epoch 196/200\n",
      "215352/215352 [==============================] - 25s 115us/sample - loss: 0.5822 - acc: 0.8279 - val_loss: 0.5984 - val_acc: 0.7982\n",
      "Epoch 197/200\n",
      "215352/215352 [==============================] - 25s 115us/sample - loss: 0.5821 - acc: 0.8283 - val_loss: 0.5982 - val_acc: 0.7959\n",
      "Epoch 198/200\n",
      "215352/215352 [==============================] - 25s 115us/sample - loss: 0.5822 - acc: 0.8281 - val_loss: 0.5989 - val_acc: 0.8004\n",
      "Epoch 199/200\n",
      "215352/215352 [==============================] - 25s 116us/sample - loss: 0.5820 - acc: 0.8287 - val_loss: 0.6001 - val_acc: 0.8005\n",
      "Epoch 200/200\n",
      "215352/215352 [==============================] - 25s 116us/sample - loss: 0.5819 - acc: 0.8288 - val_loss: 0.5999 - val_acc: 0.8008\n"
     ]
    }
   ],
   "source": [
    "history = model81.fit(X_train, y_train, epochs=200, \n",
    "                    batch_size=100,\n",
    "                    validation_data=(X_val, y_val))"
   ]
  },
  {
   "cell_type": "code",
   "execution_count": 55,
   "metadata": {
    "ExecuteTime": {
     "end_time": "2021-09-05T17:11:14.937601Z",
     "start_time": "2021-09-05T17:11:01.637383Z"
    }
   },
   "outputs": [
    {
     "name": "stdout",
     "output_type": "stream",
     "text": [
      "67298/67298 [==============================] - 4s 66us/sample - loss: 0.5980 - acc: 0.8034\n",
      "Test Loss: 0.5979600409249246\n",
      "Test Accuracy: 0.8034265637397766\n",
      "              precision    recall  f1-score   support\n",
      "\n",
      "           0       0.79      0.83      0.81     33706\n",
      "           1       0.82      0.78      0.80     33592\n",
      "\n",
      "    accuracy                           0.80     67298\n",
      "   macro avg       0.80      0.80      0.80     67298\n",
      "weighted avg       0.80      0.80      0.80     67298\n",
      "\n",
      "rf auc : 0.8447956466848292\n"
     ]
    },
    {
     "data": {
      "image/png": "[encoded data removed]",
      "text/plain": [
       "<Figure size 288x288 with 1 Axes>"
      ]
     },
     "metadata": {
      "needs_background": "light"
     },
     "output_type": "display_data"
    },
    {
     "data": {
      "image/png": "[encoded data removed]",
      "text/plain": [
       "<Figure size 216x216 with 2 Axes>"
      ]
     },
     "metadata": {
      "needs_background": "light"
     },
     "output_type": "display_data"
    },
    {
     "data": {
      "image/png": "[encoded data removed]",
      "text/plain": [
       "<Figure size 216x216 with 2 Axes>"
      ]
     },
     "metadata": {
      "needs_background": "light"
     },
     "output_type": "display_data"
    }
   ],
   "source": [
    "test_loss, test_acc = model81.evaluate(X_test, y_test)\n",
    "print('Test Loss: {}'.format(test_loss))\n",
    "print('Test Accuracy: {}'.format(test_acc))\n",
    "\n",
    "# prediction\n",
    "y_pred = [1 if i>=0.5 else 0 for i in model81.predict(X_test)]\n",
    "print(classification_report(y_test, y_pred))\n",
    "# AUC\n",
    "probs = model81.predict(X_test)\n",
    "rf_auc = roc_auc_score(y_test, probs)\n",
    "print('rf auc : {}'.format(rf_auc))\n",
    "# plot the roc curve for the model81\n",
    "rf_fpr, rf_tpr, _ = roc_curve(y_test, probs)\n",
    "plt.figure(figsize=(4, 4))\n",
    "plt.plot(rf_fpr, rf_tpr, marker='.', label='RF AUC = {:.4f}'.format(rf_auc), color='orange')\n",
    "plt.title('ROC curve')\n",
    "# axis labels\n",
    "plt.xlabel('False Positive Rate')\n",
    "plt.ylabel('True Positive Rate')\n",
    "# show the legend\n",
    "plt.legend()\n",
    "# show the plot\n",
    "plt.show()\n",
    "\n",
    "cf_matrix = confusion_matrix(y_test, y_pred)\n",
    "plt.figure(figsize=(3, 3))\n",
    "sns.heatmap(cf_matrix, annot=True, fmt=',.0f')\n",
    "plt.show()\n",
    "plt.figure(figsize=(3, 3))\n",
    "sns.heatmap(cf_matrix/np.sum(cf_matrix), annot=True, \n",
    "            fmt='.2%', cmap='Blues')\n",
    "plt.show()"
   ]
  }
 ],
 "metadata": {
  "kernelspec": {
   "display_name": "TF1.14",
   "language": "python",
   "name": "tf1.14"
  },
  "language_info": {
   "codemirror_mode": {
    "name": "ipython",
    "version": 3
   },
   "file_extension": ".py",
   "mimetype": "text/x-python",
   "name": "python",
   "nbconvert_exporter": "python",
   "pygments_lexer": "ipython3",
   "version": "3.6.13"
  }
 },
 "nbformat": 4,
 "nbformat_minor": 4
}
