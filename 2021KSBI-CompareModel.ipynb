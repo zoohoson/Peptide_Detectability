{
 "cells": [
  {
   "cell_type": "markdown",
   "metadata": {},
   "source": [
    "# Compare : other model\n",
    "  - 2019Bioinformatics : DeepMSpeptide \n",
    "    - Acc : 0.809, AUC : 0.871\n",
    "  - CNN + LSTM\n",
    "    - ACC : 0.832, AUC : 0.911  \n",
    "  \n",
    "  - 2019ACS : AP3 \n",
    "    - Acc : 0.790, AUC : 0.875  \n",
    "  \n",
    "  - 2021ACS : PepFormer\n",
    "    - Acc : 0.832, AUC : 0.906\n",
    "  \n",
    "  - 2021KSBI : \n",
    "    - Acc : 0.836, AUC : 0.917"
   ]
  },
  {
   "cell_type": "code",
   "execution_count": null,
   "metadata": {},
   "outputs": [],
   "source": []
  },
  {
   "cell_type": "code",
   "execution_count": null,
   "metadata": {},
   "outputs": [],
   "source": []
  }
 ],
 "metadata": {
  "kernelspec": {
   "display_name": "TF2.4",
   "language": "python",
   "name": "tf2.4"
  },
  "language_info": {
   "codemirror_mode": {
    "name": "ipython",
    "version": 3
   },
   "file_extension": ".py",
   "mimetype": "text/x-python",
   "name": "python",
   "nbconvert_exporter": "python",
   "pygments_lexer": "ipython3",
   "version": "3.7.0"
  }
 },
 "nbformat": 4,
 "nbformat_minor": 4
}
