{
 "cells": [
  {
   "cell_type": "code",
   "execution_count": 1,
   "metadata": {
    "ExecuteTime": {
     "end_time": "2021-08-30T23:24:17.991816Z",
     "start_time": "2021-08-30T23:24:17.226399Z"
    }
   },
   "outputs": [],
   "source": [
    "import pandas as pd\n",
    "import numpy as np\n",
    "import matplotlib.pyplot as plt\n",
    "import seaborn as sns\n",
    "from sklearn.metrics import classification_report\n",
    "from sklearn.metrics import confusion_matrix\n",
    "from sklearn.metrics import roc_curve\n",
    "from sklearn.metrics import roc_auc_score\n",
    "from sklearn.model_selection import train_test_split"
   ]
  },
  {
   "cell_type": "code",
   "execution_count": 8,
   "metadata": {
    "ExecuteTime": {
     "end_time": "2021-08-30T23:25:31.598802Z",
     "start_time": "2021-08-30T23:25:30.566297Z"
    }
   },
   "outputs": [],
   "source": [
    "from tensorflow.python.client import device_lib\n",
    "\n",
    "import tensorflow as tf\n",
    "gpus = tf.config.experimental.list_physical_devices('GPU')\n",
    "if gpus:\n",
    "    try:\n",
    "        tf.config.experimental.set_virtual_device_configuration(gpus[0],\n",
    "        [tf.config.experimental.VirtualDeviceConfiguration(memory_limit=1024*8)])\n",
    "    except RuntimeError as e:\n",
    "        print(e)"
   ]
  },
  {
   "cell_type": "code",
   "execution_count": 9,
   "metadata": {
    "ExecuteTime": {
     "end_time": "2021-08-30T23:25:31.602875Z",
     "start_time": "2021-08-30T23:25:31.600238Z"
    }
   },
   "outputs": [],
   "source": [
    "def plot_graphs(history, metric):\n",
    "    plt.plot(history.history[metric])\n",
    "    plt.plot(history.history['val_'+metric], '')\n",
    "    plt.xlabel(\"Epochs\")\n",
    "    plt.ylabel(metric)\n",
    "    plt.legend([metric, 'val_'+metric])"
   ]
  },
  {
   "cell_type": "code",
   "execution_count": 2,
   "metadata": {
    "ExecuteTime": {
     "end_time": "2021-08-30T23:24:19.725116Z",
     "start_time": "2021-08-30T23:24:19.714025Z"
    }
   },
   "outputs": [
    {
     "name": "stdout",
     "output_type": "stream",
     "text": [
      "(19, 21)\n"
     ]
    }
   ],
   "source": [
    "df_aaindex = pd.read_csv('data/aaindex/df_aaindex19.csv')\n",
    "print(df_aaindex.shape)\n",
    "df_aaindex.head(1)\n",
    "tmp = df_aaindex.drop('Unnamed: 0',axis=1).T\n",
    "aa2val = dict()\n",
    "for aa, val in zip(tmp.index, tmp.values):\n",
    "    aa2val[aa]=val"
   ]
  },
  {
   "cell_type": "code",
   "execution_count": 3,
   "metadata": {
    "ExecuteTime": {
     "end_time": "2021-08-30T23:24:22.503235Z",
     "start_time": "2021-08-30T23:24:21.561948Z"
    }
   },
   "outputs": [],
   "source": [
    "df_detect_peptide_train = pd.read_csv('data/df_detect_peptide_train.csv')\n",
    "test = pd.read_csv('data/df_detect_peptide_test.csv')\n",
    "train, val = train_test_split(df_detect_peptide_train, test_size=0.2, random_state=7)"
   ]
  },
  {
   "cell_type": "code",
   "execution_count": 31,
   "metadata": {
    "ExecuteTime": {
     "end_time": "2021-08-31T01:48:38.075785Z",
     "start_time": "2021-08-31T01:48:38.063856Z"
    }
   },
   "outputs": [
    {
     "data": {
      "text/html": [
       "<div>\n",
       "<style scoped>\n",
       "    .dataframe tbody tr th:only-of-type {\n",
       "        vertical-align: middle;\n",
       "    }\n",
       "\n",
       "    .dataframe tbody tr th {\n",
       "        vertical-align: top;\n",
       "    }\n",
       "\n",
       "    .dataframe thead th {\n",
       "        text-align: right;\n",
       "    }\n",
       "</style>\n",
       "<table border=\"1\" class=\"dataframe\">\n",
       "  <thead>\n",
       "    <tr style=\"text-align: right;\">\n",
       "      <th></th>\n",
       "      <th>peptide</th>\n",
       "      <th>En</th>\n",
       "      <th>Ec</th>\n",
       "      <th>E1</th>\n",
       "      <th>E2</th>\n",
       "      <th>protein</th>\n",
       "      <th>PEP</th>\n",
       "      <th>ID</th>\n",
       "    </tr>\n",
       "  </thead>\n",
       "  <tbody>\n",
       "    <tr>\n",
       "      <th>210101</th>\n",
       "      <td>R.MDKVHSEAER.L</td>\n",
       "      <td>QQKVLQQRMDKVHSE</td>\n",
       "      <td>KVHSEAERLEARFQD</td>\n",
       "      <td>VLQQRMDKVHSEAER</td>\n",
       "      <td>-</td>\n",
       "      <td>sp|Q96M63|CC114_HUMAN</td>\n",
       "      <td>MDKVHSEAER</td>\n",
       "      <td>0</td>\n",
       "    </tr>\n",
       "  </tbody>\n",
       "</table>\n",
       "</div>"
      ],
      "text/plain": [
       "               peptide               En               Ec               E1 E2  \\\n",
       "210101  R.MDKVHSEAER.L  QQKVLQQRMDKVHSE  KVHSEAERLEARFQD  VLQQRMDKVHSEAER  -   \n",
       "\n",
       "                      protein         PEP  ID  \n",
       "210101  sp|Q96M63|CC114_HUMAN  MDKVHSEAER   0  "
      ]
     },
     "execution_count": 31,
     "metadata": {},
     "output_type": "execute_result"
    }
   ],
   "source": [
    "train.head(1)"
   ]
  },
  {
   "cell_type": "code",
   "execution_count": 51,
   "metadata": {
    "ExecuteTime": {
     "end_time": "2021-08-31T01:52:39.484809Z",
     "start_time": "2021-08-31T01:52:39.477781Z"
    }
   },
   "outputs": [],
   "source": [
    "def get_data(df):\n",
    "    aa_data = [np.array([seq.count(a) for a in 'ARNDCQEGHILKMFPSTWYVZ'] + list(np.array([aa2val[aa] for aa in seq]).sum(axis=0)))\n",
    "               for seq in df.PEP.values]\n",
    "    pep_data = [[[1 if aa == a else 0 for a in 'ARNDCQEGHILKMFPSTWYVZ'] for aa in seq] + [[0]*21]*(30-len(seq))\n",
    "               for seq in df.PEP.values]\n",
    "    en_data = [[[1 if aa == a else 0 for a in 'ARNDCQEGHILKMFPSTWYVZ'] for aa in seq]\n",
    "               for seq in df.En.values]\n",
    "    ec_data = [[[1 if aa == a else 0 for a in 'ARNDCQEGHILKMFPSTWYVZ'] for aa in seq]\n",
    "               for seq in df.Ec.values]\n",
    "    e1_data = [[[1 if aa == a else 0 for a in 'ARNDCQEGHILKMFPSTWYVZ'] for aa in seq]\n",
    "               if seq != '-' else [[0]*21 for _ in range(15)]\n",
    "               for seq in df.E1.values]\n",
    "    e2_data = [[[1 if aa == a else 0 for a in 'ARNDCQEGHILKMFPSTWYVZ'] for aa in seq]\n",
    "               if seq != '-' else [[0]*21 for _ in range(15)]\n",
    "               for seq in df.E2.values]\n",
    "    return np.array(aa_data), np.array(pep_data), np.array(en_data), np.array(ec_data), np.array(e1_data), np.array(e2_data), np.array(df.ID.values)"
   ]
  },
  {
   "cell_type": "code",
   "execution_count": 54,
   "metadata": {
    "ExecuteTime": {
     "end_time": "2021-08-31T01:55:22.840935Z",
     "start_time": "2021-08-31T01:53:07.847499Z"
    }
   },
   "outputs": [],
   "source": [
    "aa_train, pep_train, en_train, ec_train, e1_train, e2_train, y_train = get_data(train)\n",
    "\n",
    "aa_val, pep_val, en_val, ec_val, e1_val, e2_val, y_val = get_data(val)\n",
    "\n",
    "aa_test, pep_test, en_test, ec_test, e1_test, e2_test, y_test = get_data(test)"
   ]
  },
  {
   "cell_type": "code",
   "execution_count": 55,
   "metadata": {
    "ExecuteTime": {
     "end_time": "2021-08-31T01:55:22.846886Z",
     "start_time": "2021-08-31T01:55:22.842363Z"
    }
   },
   "outputs": [
    {
     "name": "stdout",
     "output_type": "stream",
     "text": [
      "(215352, 40) (215352, 30, 21) (215352, 15, 21) (215352, 15, 21) (215352, 15, 21) (215352, 15, 21) (215352,)\n",
      "(53838, 40) (53838, 30, 21) (53838, 15, 21) (53838, 15, 21) (53838, 15, 21) (53838, 15, 21) (53838,)\n",
      "(67298, 40) (67298, 30, 21) (67298, 15, 21) (67298, 15, 21) (67298, 15, 21) (67298, 15, 21) (67298,)\n"
     ]
    }
   ],
   "source": [
    "print(aa_train.shape, pep_train.shape, en_train.shape, ec_train.shape, e1_train.shape, e2_train.shape, y_train.shape)\n",
    "\n",
    "print(aa_val.shape, pep_val.shape, en_val.shape, ec_val.shape, e1_val.shape, e2_val.shape, y_val.shape)\n",
    "\n",
    "print(aa_test.shape, pep_test.shape, en_test.shape, ec_test.shape, e1_test.shape, e2_test.shape, y_test.shape)"
   ]
  },
  {
   "cell_type": "markdown",
   "metadata": {},
   "source": [
    "# Compare : other model\n",
    "  - 2019Bioinformatics : DeepMSpeptide \n",
    "    - Acc : 0.809, AUC : 0.871\n",
    "  - CNN + LSTM\n",
    "    - ACC : 0.832, AUC : 0.911  \n",
    "  \n",
    "  - 2019ACS : AP3 \n",
    "    - Acc : 0.790, AUC : 0.875  \n",
    "  \n",
    "  - 2021ACS : PepFormer\n",
    "    - Acc : 0.832, AUC : 0.906\n",
    "  \n",
    "  - 2021KSBI : \n",
    "    - Acc : 0.836, AUC : 0.917"
   ]
  },
  {
   "cell_type": "code",
   "execution_count": null,
   "metadata": {},
   "outputs": [],
   "source": []
  }
 ],
 "metadata": {
  "kernelspec": {
   "display_name": "TF2.4",
   "language": "python",
   "name": "tf2.4"
  },
  "language_info": {
   "codemirror_mode": {
    "name": "ipython",
    "version": 3
   },
   "file_extension": ".py",
   "mimetype": "text/x-python",
   "name": "python",
   "nbconvert_exporter": "python",
   "pygments_lexer": "ipython3",
   "version": "3.7.0"
  }
 },
 "nbformat": 4,
 "nbformat_minor": 4
}
