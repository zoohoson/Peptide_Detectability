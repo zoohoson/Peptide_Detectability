{
 "cells": [
  {
   "cell_type": "code",
   "execution_count": 1,
   "metadata": {
    "ExecuteTime": {
     "end_time": "2021-11-26T07:59:15.468068Z",
     "start_time": "2021-11-26T07:59:14.568646Z"
    }
   },
   "outputs": [],
   "source": [
    "import pandas as pd\n",
    "import numpy as np\n",
    "import matplotlib.pyplot as plt\n",
    "import seaborn as sns\n",
    "from sklearn.metrics import classification_report\n",
    "from sklearn.metrics import confusion_matrix\n",
    "from sklearn.metrics import roc_curve\n",
    "from sklearn.metrics import roc_auc_score\n",
    "from sklearn.model_selection import train_test_split\n",
    "\n",
    "import time"
   ]
  },
  {
   "cell_type": "code",
   "execution_count": 2,
   "metadata": {
    "ExecuteTime": {
     "end_time": "2021-11-26T07:59:15.479302Z",
     "start_time": "2021-11-26T07:59:15.470090Z"
    }
   },
   "outputs": [
    {
     "name": "stdout",
     "output_type": "stream",
     "text": [
      "(19, 21)\n"
     ]
    }
   ],
   "source": [
    "df_aaindex = pd.read_csv('../data/aaindex/df_aaindex19.csv')\n",
    "print(df_aaindex.shape)\n",
    "df_aaindex.head(1)\n",
    "tmp = df_aaindex.drop('Unnamed: 0',axis=1).T\n",
    "aa2val = dict()\n",
    "for aa, val in zip(tmp.index, tmp.values):\n",
    "    aa2val[aa]=val"
   ]
  },
  {
   "cell_type": "code",
   "execution_count": 3,
   "metadata": {
    "ExecuteTime": {
     "end_time": "2021-11-26T07:59:19.590633Z",
     "start_time": "2021-11-26T07:59:17.055428Z"
    }
   },
   "outputs": [],
   "source": [
    "df_detect_peptide_train = pd.read_csv('../data/df_detect_peptide_train.csv')\n",
    "test = pd.read_csv('../data/df_detect_peptide_test.csv')\n",
    "train, val = train_test_split(df_detect_peptide_train, test_size=0.2, random_state=7)"
   ]
  },
  {
   "cell_type": "code",
   "execution_count": 4,
   "metadata": {
    "ExecuteTime": {
     "end_time": "2021-11-26T07:59:19.605303Z",
     "start_time": "2021-11-26T07:59:19.592435Z"
    }
   },
   "outputs": [
    {
     "data": {
      "text/html": [
       "<div>\n",
       "<style scoped>\n",
       "    .dataframe tbody tr th:only-of-type {\n",
       "        vertical-align: middle;\n",
       "    }\n",
       "\n",
       "    .dataframe tbody tr th {\n",
       "        vertical-align: top;\n",
       "    }\n",
       "\n",
       "    .dataframe thead th {\n",
       "        text-align: right;\n",
       "    }\n",
       "</style>\n",
       "<table border=\"1\" class=\"dataframe\">\n",
       "  <thead>\n",
       "    <tr style=\"text-align: right;\">\n",
       "      <th></th>\n",
       "      <th>peptide</th>\n",
       "      <th>En</th>\n",
       "      <th>Ec</th>\n",
       "      <th>E1</th>\n",
       "      <th>E2</th>\n",
       "      <th>protein</th>\n",
       "      <th>PEP</th>\n",
       "      <th>ID</th>\n",
       "    </tr>\n",
       "  </thead>\n",
       "  <tbody>\n",
       "    <tr>\n",
       "      <th>595411</th>\n",
       "      <td>K.QELNEPPKQSTSFLVLQEILESEEKGDPNK.P</td>\n",
       "      <td>VYKMLQEKQELNEPP</td>\n",
       "      <td>EEKGDPNKPSGFRSV</td>\n",
       "      <td>QELNEPPKQSTSFLV</td>\n",
       "      <td>EILESEEKGDPNKPS</td>\n",
       "      <td>sp|O00151|PDLI1_HUMAN</td>\n",
       "      <td>QELNEPPKQSTSFLVLQEILESEEKGDPNK</td>\n",
       "      <td>0</td>\n",
       "    </tr>\n",
       "  </tbody>\n",
       "</table>\n",
       "</div>"
      ],
      "text/plain": [
       "                                   peptide               En               Ec  \\\n",
       "595411  K.QELNEPPKQSTSFLVLQEILESEEKGDPNK.P  VYKMLQEKQELNEPP  EEKGDPNKPSGFRSV   \n",
       "\n",
       "                     E1               E2                protein  \\\n",
       "595411  QELNEPPKQSTSFLV  EILESEEKGDPNKPS  sp|O00151|PDLI1_HUMAN   \n",
       "\n",
       "                                   PEP  ID  \n",
       "595411  QELNEPPKQSTSFLVLQEILESEEKGDPNK   0  "
      ]
     },
     "execution_count": 4,
     "metadata": {},
     "output_type": "execute_result"
    }
   ],
   "source": [
    "train.head(1)"
   ]
  },
  {
   "cell_type": "code",
   "execution_count": 5,
   "metadata": {
    "ExecuteTime": {
     "end_time": "2021-11-26T07:59:19.613827Z",
     "start_time": "2021-11-26T07:59:19.606476Z"
    }
   },
   "outputs": [],
   "source": [
    "def get_data_labelEnc(df):\n",
    "    label_enc = {v:k+1 for k, v in enumerate('ARNDCQEGHILKMFPSTWYV')}\n",
    "    label_enc['Z']=0\n",
    "    aa_data = [np.array([seq.count(a) for a in 'ARNDCQEGHILKMFPSTWYV'] + list(np.array([aa2val[aa] for aa in seq]).sum(axis=0)))\n",
    "               for seq in df.PEP.values]\n",
    "    pep_data = [[label_enc[aa] for aa in seq] + [0]*(30-len(seq))\n",
    "               for seq in df.PEP.values]\n",
    "    en_data = [[label_enc[aa] for aa in seq]\n",
    "               for seq in df.En.values]\n",
    "    ec_data = [[label_enc[aa] for aa in seq]\n",
    "               for seq in df.Ec.values]\n",
    "    e1_data = [[label_enc[aa] for aa in seq]\n",
    "               if seq != '-' else [0 for _ in range(15)]\n",
    "               for seq in df.E1.values]\n",
    "    e2_data = [[label_enc[aa] for aa in seq]\n",
    "               if seq != '-' else [0 for _ in range(15)]\n",
    "               for seq in df.E2.values]\n",
    "    return np.array(aa_data), np.array(pep_data), np.array(en_data), np.array(ec_data), np.array(e1_data), np.array(e2_data), np.array(df.ID.values)"
   ]
  },
  {
   "cell_type": "code",
   "execution_count": 6,
   "metadata": {
    "ExecuteTime": {
     "end_time": "2021-11-26T07:59:55.077478Z",
     "start_time": "2021-11-26T07:59:19.927450Z"
    }
   },
   "outputs": [
    {
     "name": "stdout",
     "output_type": "stream",
     "text": [
      "(543516, 39) (543516, 30) (543516, 15) (543516, 15) (543516, 15) (543516, 15) (543516,)\n",
      "(135880, 39) (135880, 30) (135880, 15) (135880, 15) (135880, 15) (135880, 15) (135880,)\n",
      "(133992, 39) (133992, 30) (133992, 15) (133992, 15) (133992, 15) (133992, 15) (133992,)\n"
     ]
    }
   ],
   "source": [
    "aa_train, pep_train, en_train, ec_train, e1_train, e2_train, y_train = get_data_labelEnc(train)\n",
    "aa_val, pep_val, en_val, ec_val, e1_val, e2_val, y_val = get_data_labelEnc(val)\n",
    "aa_test, pep_test, en_test, ec_test, e1_test, e2_test, y_test = get_data_labelEnc(test)\n",
    "print(aa_train.shape, pep_train.shape, en_train.shape, ec_train.shape, e1_train.shape, e2_train.shape, y_train.shape)\n",
    "print(aa_val.shape, pep_val.shape, en_val.shape, ec_val.shape, e1_val.shape, e2_val.shape, y_val.shape)\n",
    "print(aa_test.shape, pep_test.shape, en_test.shape, ec_test.shape, e1_test.shape, e2_test.shape, y_test.shape)"
   ]
  },
  {
   "cell_type": "markdown",
   "metadata": {},
   "source": [
    "# MS2"
   ]
  },
  {
   "cell_type": "code",
   "execution_count": 7,
   "metadata": {
    "ExecuteTime": {
     "end_time": "2021-11-26T08:00:28.643326Z",
     "start_time": "2021-11-26T07:59:56.903227Z"
    }
   },
   "outputs": [],
   "source": [
    "df_ms2 = pd.read_csv('df_modeling_211124_result.msms', sep='\\t')"
   ]
  },
  {
   "cell_type": "code",
   "execution_count": 8,
   "metadata": {
    "ExecuteTime": {
     "end_time": "2021-11-26T08:00:28.653027Z",
     "start_time": "2021-11-26T08:00:28.644989Z"
    }
   },
   "outputs": [
    {
     "name": "stdout",
     "output_type": "stream",
     "text": [
      "(2385750, 5)\n"
     ]
    },
    {
     "data": {
      "text/html": [
       "<div>\n",
       "<style scoped>\n",
       "    .dataframe tbody tr th:only-of-type {\n",
       "        vertical-align: middle;\n",
       "    }\n",
       "\n",
       "    .dataframe tbody tr th {\n",
       "        vertical-align: top;\n",
       "    }\n",
       "\n",
       "    .dataframe thead th {\n",
       "        text-align: right;\n",
       "    }\n",
       "</style>\n",
       "<table border=\"1\" class=\"dataframe\">\n",
       "  <thead>\n",
       "    <tr style=\"text-align: right;\">\n",
       "      <th></th>\n",
       "      <th>Intensities</th>\n",
       "      <th>Masses</th>\n",
       "      <th>Matches</th>\n",
       "      <th>Modified Sequence</th>\n",
       "      <th>Charge</th>\n",
       "    </tr>\n",
       "  </thead>\n",
       "  <tbody>\n",
       "    <tr>\n",
       "      <th>0</th>\n",
       "      <td>0.16607068;0.22559804;1.0;0.10618063;0.1724560...</td>\n",
       "      <td>147.112804167;261.155731167;358.20849516699997...</td>\n",
       "      <td>y1;y2;y3;y4;y5;y6;y7;y8;y9;y10;y11;y12;y13;y14...</td>\n",
       "      <td>QELNEPPKQSTSFLVLQEILESEEKGDPNK</td>\n",
       "      <td>3</td>\n",
       "    </tr>\n",
       "  </tbody>\n",
       "</table>\n",
       "</div>"
      ],
      "text/plain": [
       "                                         Intensities  \\\n",
       "0  0.16607068;0.22559804;1.0;0.10618063;0.1724560...   \n",
       "\n",
       "                                              Masses  \\\n",
       "0  147.112804167;261.155731167;358.20849516699997...   \n",
       "\n",
       "                                             Matches  \\\n",
       "0  y1;y2;y3;y4;y5;y6;y7;y8;y9;y10;y11;y12;y13;y14...   \n",
       "\n",
       "                Modified Sequence  Charge  \n",
       "0  QELNEPPKQSTSFLVLQEILESEEKGDPNK       3  "
      ]
     },
     "execution_count": 8,
     "metadata": {},
     "output_type": "execute_result"
    }
   ],
   "source": [
    "print(df_ms2.shape)\n",
    "df_ms2.head(1)"
   ]
  },
  {
   "cell_type": "code",
   "execution_count": 9,
   "metadata": {
    "ExecuteTime": {
     "end_time": "2021-11-26T08:00:28.666869Z",
     "start_time": "2021-11-26T08:00:28.654324Z"
    }
   },
   "outputs": [],
   "source": [
    "def get_ion_type():\n",
    "    # y1 ~ y29, b1 ~ b29, y1(2+) ~ y29(2+), ... , b1(3+) ~ b29(3+)\n",
    "    ion_num_arr = list(map(str, range(1, 30)))\n",
    "    ion_type_arr = ['y', 'b']\n",
    "    ion_charge_arr = ['', '(2+)', '(3+)']\n",
    "    ion_arr = []\n",
    "    for ic in ion_charge_arr:\n",
    "        for it in ion_type_arr:\n",
    "            for inum in ion_num_arr:\n",
    "                ion_arr.append(it+inum+ic)\n",
    "    return ion_arr\n",
    "\n",
    "def ms_to_174(intens, matches):\n",
    "    i = list(map(float, intens.split(';')))\n",
    "    m = matches.split(';')\n",
    "    ion_dic = {k:v for k, v in zip(m, i)}\n",
    "\n",
    "    ion_arr = get_ion_type()\n",
    "    for ion in ion_arr:\n",
    "        if ion not in ion_dic:\n",
    "            ion_dic[ion] = 0\n",
    "    return ion_dic\n",
    "\n",
    "def ms_to_29(intens, matches, pep):\n",
    "    i = list(map(float, intens.split(';')))\n",
    "    m = matches.split(';')\n",
    "    ion_dic = {k:v for k, v in zip(m, i)}\n",
    "\n",
    "    ion_arr = get_ion_type()\n",
    "    for ion in ion_arr:\n",
    "        if ion not in ion_dic:\n",
    "            ion_dic[ion] = 0\n",
    "    \n",
    "    # fragmentation part\n",
    "    ion_y1c = ['y' + str(i) for i in range(1, len(pep))]\n",
    "    ion_y2c = ['y' + str(i) + '(2+)' for i in range(1, len(pep))]\n",
    "    ion_y3c = ['y' + str(i) + '(3+)' for i in range(1, len(pep))]\n",
    "    ion_b1c = ['b' + str(i) for i in range(len(pep)-1, 0, -1)]\n",
    "    ion_b2c = ['b' + str(i) + '(2+)' for i in range(len(pep)-1, 0, -1)]\n",
    "    ion_b3c = ['b' + str(i) + '(3+)'  for i in range(len(pep)-1, 0, -1)]\n",
    "    \n",
    "    ion_sum = {i:0 for i in range(1, 30)}\n",
    "    for idx, i in enumerate(range(1, len(pep))):\n",
    "        y1c = ion_dic[ion_y1c[idx]]\n",
    "        y2c = ion_dic[ion_y2c[idx]]\n",
    "        y3c = ion_dic[ion_y3c[idx]]\n",
    "        b1c = ion_dic[ion_b1c[idx]]\n",
    "        b2c = ion_dic[ion_b2c[idx]]\n",
    "        b3c = ion_dic[ion_b3c[idx]]\n",
    "        \n",
    "        ion_sum[i] = y1c + y2c + y3c + b1c + b2c + b3c\n",
    "    \n",
    "    return list(np.array(sorted(ion_sum.items()))[:, 1])"
   ]
  },
  {
   "cell_type": "code",
   "execution_count": 10,
   "metadata": {
    "ExecuteTime": {
     "end_time": "2021-11-26T08:05:59.834229Z",
     "start_time": "2021-11-26T08:00:28.668035Z"
    }
   },
   "outputs": [
    {
     "name": "stdout",
     "output_type": "stream",
     "text": [
      "time:  331.16 sec\n"
     ]
    }
   ],
   "source": [
    "s = time.time()\n",
    "\n",
    "p2ms2 = dict()\n",
    "for i, m, p, c in df_ms2[['Intensities', 'Matches', 'Modified Sequence', 'Charge']].values:\n",
    "    if p not in p2ms2:\n",
    "        p2ms2[p] = {k:[0 for _ in range(1, 30)] for k in range(1, 6)}\n",
    "    p2ms2[p][c] = ms_to_29(i, m, p)\n",
    "\n",
    "e = time.time()\n",
    "print('time: ', round(e-s, 2), 'sec')"
   ]
  },
  {
   "cell_type": "code",
   "execution_count": 11,
   "metadata": {
    "ExecuteTime": {
     "end_time": "2021-11-26T08:06:33.878508Z",
     "start_time": "2021-11-26T08:05:59.837046Z"
    }
   },
   "outputs": [
    {
     "name": "stderr",
     "output_type": "stream",
     "text": [
      "/home/bis/miniconda3/envs/TF2.4/lib/python3.7/site-packages/ipykernel_launcher.py:3: VisibleDeprecationWarning: Creating an ndarray from ragged nested sequences (which is a list-or-tuple of lists-or-tuples-or ndarrays with different lengths or shapes) is deprecated. If you meant to do this, you must specify 'dtype=object' when creating the ndarray\n",
      "  This is separate from the ipykernel package so we can avoid doing imports until\n"
     ]
    }
   ],
   "source": [
    "pep_to_ms = dict()\n",
    "for k, v in p2ms2.items():\n",
    "    tensor = np.array(sorted(v.items()))[:, 1]\n",
    "    ms2arr = np.concatenate(tensor, axis=None)\n",
    "    pep_to_ms[k] = ms2arr"
   ]
  },
  {
   "cell_type": "code",
   "execution_count": null,
   "metadata": {
    "ExecuteTime": {
     "end_time": "2021-11-26T08:06:35.536394Z",
     "start_time": "2021-11-26T08:06:33.880422Z"
    }
   },
   "outputs": [],
   "source": [
    "h_train = np.array([pep_to_ms[p] for p in train.PEP.values])\n",
    "c_train = h_train.copy()\n",
    "h_val = np.array([pep_to_ms[p] for p in val.PEP.values])\n",
    "c_val = h_val.copy()"
   ]
  },
  {
   "cell_type": "code",
   "execution_count": 28,
   "metadata": {
    "ExecuteTime": {
     "end_time": "2021-11-26T18:11:33.093589Z",
     "start_time": "2021-11-26T18:11:32.853196Z"
    }
   },
   "outputs": [],
   "source": [
    "h_test = np.array([pep_to_ms[p] for p in test.PEP.values])\n",
    "c_test = h_test.copy()"
   ]
  },
  {
   "cell_type": "markdown",
   "metadata": {},
   "source": [
    "# Train"
   ]
  },
  {
   "cell_type": "code",
   "execution_count": 13,
   "metadata": {
    "ExecuteTime": {
     "end_time": "2021-11-26T08:06:36.654574Z",
     "start_time": "2021-11-26T08:06:35.537836Z"
    }
   },
   "outputs": [],
   "source": [
    "from tensorflow.python.client import device_lib\n",
    "\n",
    "import tensorflow as tf\n",
    "gpus = tf.config.experimental.list_physical_devices('GPU')\n",
    "if gpus:\n",
    "    try:\n",
    "        tf.config.experimental.set_virtual_device_configuration(gpus[0],\n",
    "        [tf.config.experimental.VirtualDeviceConfiguration(memory_limit=1024*4)])\n",
    "    except RuntimeError as e:\n",
    "        print(e)\n",
    "\n",
    "from tensorflow import keras"
   ]
  },
  {
   "cell_type": "code",
   "execution_count": 14,
   "metadata": {
    "ExecuteTime": {
     "end_time": "2021-11-26T08:06:36.659356Z",
     "start_time": "2021-11-26T08:06:36.656602Z"
    }
   },
   "outputs": [],
   "source": [
    "def plot_graphs(history, metric):\n",
    "    plt.plot(history.history[metric])\n",
    "    plt.plot(history.history['val_'+metric], '')\n",
    "    plt.xlabel(\"Epochs\")\n",
    "    plt.ylabel(metric)\n",
    "    plt.legend([metric, 'val_'+metric])\n",
    "    plt.show()"
   ]
  },
  {
   "cell_type": "markdown",
   "metadata": {},
   "source": [
    "# high param"
   ]
  },
  {
   "cell_type": "code",
   "execution_count": 15,
   "metadata": {
    "ExecuteTime": {
     "end_time": "2021-11-26T08:06:46.609423Z",
     "start_time": "2021-11-26T08:06:36.660467Z"
    },
    "scrolled": true
   },
   "outputs": [
    {
     "name": "stdout",
     "output_type": "stream",
     "text": [
      "Model: \"model\"\n",
      "__________________________________________________________________________________________________\n",
      "Layer (type)                    Output Shape         Param #     Connected to                     \n",
      "==================================================================================================\n",
      "input_1 (InputLayer)            [(None, 30)]         0                                            \n",
      "__________________________________________________________________________________________________\n",
      "input_3 (InputLayer)            [(None, 15)]         0                                            \n",
      "__________________________________________________________________________________________________\n",
      "input_4 (InputLayer)            [(None, 15)]         0                                            \n",
      "__________________________________________________________________________________________________\n",
      "input_5 (InputLayer)            [(None, 15)]         0                                            \n",
      "__________________________________________________________________________________________________\n",
      "input_6 (InputLayer)            [(None, 15)]         0                                            \n",
      "__________________________________________________________________________________________________\n",
      "embedding (Embedding)           (None, 30, 128)      2688        input_1[0][0]                    \n",
      "__________________________________________________________________________________________________\n",
      "embedding_1 (Embedding)         (None, 15, 32)       672         input_3[0][0]                    \n",
      "__________________________________________________________________________________________________\n",
      "embedding_2 (Embedding)         (None, 15, 32)       672         input_4[0][0]                    \n",
      "__________________________________________________________________________________________________\n",
      "embedding_3 (Embedding)         (None, 15, 32)       672         input_5[0][0]                    \n",
      "__________________________________________________________________________________________________\n",
      "embedding_4 (Embedding)         (None, 15, 32)       672         input_6[0][0]                    \n",
      "__________________________________________________________________________________________________\n",
      "dropout (Dropout)               (None, 30, 128)      0           embedding[0][0]                  \n",
      "__________________________________________________________________________________________________\n",
      "input_7 (InputLayer)            [(None, 145)]        0                                            \n",
      "__________________________________________________________________________________________________\n",
      "input_8 (InputLayer)            [(None, 145)]        0                                            \n",
      "__________________________________________________________________________________________________\n",
      "dropout_1 (Dropout)             (None, 15, 32)       0           embedding_1[0][0]                \n",
      "__________________________________________________________________________________________________\n",
      "dropout_2 (Dropout)             (None, 15, 32)       0           embedding_2[0][0]                \n",
      "__________________________________________________________________________________________________\n",
      "dropout_3 (Dropout)             (None, 15, 32)       0           embedding_3[0][0]                \n",
      "__________________________________________________________________________________________________\n",
      "dropout_4 (Dropout)             (None, 15, 32)       0           embedding_4[0][0]                \n",
      "__________________________________________________________________________________________________\n",
      "bidirectional_4 (Bidirectional) (None, 290)          317840      dropout[0][0]                    \n",
      "                                                                 input_7[0][0]                    \n",
      "                                                                 input_8[0][0]                    \n",
      "                                                                 input_7[0][0]                    \n",
      "                                                                 input_8[0][0]                    \n",
      "__________________________________________________________________________________________________\n",
      "input_2 (InputLayer)            [(None, 39)]         0                                            \n",
      "__________________________________________________________________________________________________\n",
      "bidirectional (Bidirectional)   (None, 64)           16640       dropout_1[0][0]                  \n",
      "__________________________________________________________________________________________________\n",
      "bidirectional_1 (Bidirectional) (None, 64)           16640       dropout_2[0][0]                  \n",
      "__________________________________________________________________________________________________\n",
      "bidirectional_2 (Bidirectional) (None, 64)           16640       dropout_3[0][0]                  \n",
      "__________________________________________________________________________________________________\n",
      "bidirectional_3 (Bidirectional) (None, 64)           16640       dropout_4[0][0]                  \n",
      "__________________________________________________________________________________________________\n",
      "dense_5 (Dense)                 (None, 128)          37248       bidirectional_4[0][0]            \n",
      "__________________________________________________________________________________________________\n",
      "dense (Dense)                   (None, 32)           1280        input_2[0][0]                    \n",
      "__________________________________________________________________________________________________\n",
      "dense_1 (Dense)                 (None, 32)           2080        bidirectional[0][0]              \n",
      "__________________________________________________________________________________________________\n",
      "dense_2 (Dense)                 (None, 32)           2080        bidirectional_1[0][0]            \n",
      "__________________________________________________________________________________________________\n",
      "dense_3 (Dense)                 (None, 32)           2080        bidirectional_2[0][0]            \n",
      "__________________________________________________________________________________________________\n",
      "dense_4 (Dense)                 (None, 32)           2080        bidirectional_3[0][0]            \n",
      "__________________________________________________________________________________________________\n",
      "dropout_10 (Dropout)            (None, 128)          0           dense_5[0][0]                    \n",
      "__________________________________________________________________________________________________\n",
      "dropout_5 (Dropout)             (None, 32)           0           dense[0][0]                      \n",
      "__________________________________________________________________________________________________\n",
      "dropout_6 (Dropout)             (None, 32)           0           dense_1[0][0]                    \n",
      "__________________________________________________________________________________________________\n",
      "dropout_7 (Dropout)             (None, 32)           0           dense_2[0][0]                    \n",
      "__________________________________________________________________________________________________\n",
      "dropout_8 (Dropout)             (None, 32)           0           dense_3[0][0]                    \n",
      "__________________________________________________________________________________________________\n",
      "dropout_9 (Dropout)             (None, 32)           0           dense_4[0][0]                    \n",
      "__________________________________________________________________________________________________\n",
      "concatenate (Concatenate)       (None, 288)          0           dropout_10[0][0]                 \n",
      "                                                                 dropout_5[0][0]                  \n",
      "                                                                 dropout_6[0][0]                  \n",
      "                                                                 dropout_7[0][0]                  \n",
      "                                                                 dropout_8[0][0]                  \n",
      "                                                                 dropout_9[0][0]                  \n",
      "__________________________________________________________________________________________________\n",
      "dense_6 (Dense)                 (None, 128)          36992       concatenate[0][0]                \n",
      "__________________________________________________________________________________________________\n",
      "dropout_11 (Dropout)            (None, 128)          0           dense_6[0][0]                    \n",
      "__________________________________________________________________________________________________\n",
      "dense_7 (Dense)                 (None, 64)           8256        dropout_11[0][0]                 \n",
      "__________________________________________________________________________________________________\n",
      "dropout_12 (Dropout)            (None, 64)           0           dense_7[0][0]                    \n",
      "__________________________________________________________________________________________________\n",
      "dense_8 (Dense)                 (None, 1)            65          dropout_12[0][0]                 \n",
      "==================================================================================================\n",
      "Total params: 481,937\n",
      "Trainable params: 481,937\n",
      "Non-trainable params: 0\n",
      "__________________________________________________________________________________________________\n"
     ]
    }
   ],
   "source": [
    "BS = 256  # batch_size\n",
    "\n",
    "\n",
    "# Embedding\n",
    "pep = tf.keras.layers.Input(shape=((30,)))\n",
    "pep_embed = tf.keras.layers.Embedding(21, 128, input_length=30, mask_zero=True)(pep)\n",
    "pep_embed = tf.keras.layers.Dropout(np.random.uniform(0, 0.2))(pep_embed)\n",
    "\n",
    "meta = tf.keras.layers.Input(shape=((39,)))  # peptide info\n",
    "\n",
    "n = tf.keras.layers.Input(shape=((15,)))\n",
    "n_embed = tf.keras.layers.Embedding(21, 32, input_length=15, mask_zero=True)(n)\n",
    "n_embed = tf.keras.layers.Dropout(np.random.uniform(0, 0.2))(n_embed)\n",
    "\n",
    "c = tf.keras.layers.Input(shape=((15,)))\n",
    "c_embed = tf.keras.layers.Embedding(21, 32, input_length=15, mask_zero=True)(c)\n",
    "c_embed = tf.keras.layers.Dropout(np.random.uniform(0, 0.2))(c_embed)\n",
    "\n",
    "m1 = tf.keras.layers.Input(shape=((15,)))\n",
    "m1_embed = tf.keras.layers.Embedding(21, 32, input_length=15, mask_zero=True)(m1)\n",
    "m1_embed = tf.keras.layers.Dropout(np.random.uniform(0, 0.2))(m1_embed)\n",
    "\n",
    "m2 = tf.keras.layers.Input(shape=((15,)))\n",
    "m2_embed = tf.keras.layers.Embedding(21, 32, input_length=15, mask_zero=True)(m2)\n",
    "m2_embed = tf.keras.layers.Dropout(np.random.uniform(0, 0.2))(m2_embed)\n",
    "\n",
    "\n",
    "# LSTM\n",
    "net_meta = tf.keras.layers.Dense(32, activation='relu')(meta)\n",
    "net_meta = tf.keras.layers.Dropout(np.random.uniform(0, 0.2))(net_meta)\n",
    "\n",
    "n_lstm = tf.keras.layers.Bidirectional(tf.keras.layers.LSTM(32))(n_embed)\n",
    "n_lstm = tf.keras.layers.Dense(32, activation='relu')(n_lstm)\n",
    "n_lstm = tf.keras.layers.Dropout(np.random.uniform(0, 0.2))(n_lstm)\n",
    "\n",
    "c_lstm = tf.keras.layers.Bidirectional(tf.keras.layers.LSTM(32))(c_embed)\n",
    "c_lstm = tf.keras.layers.Dense(32, activation='relu')(c_lstm)\n",
    "c_lstm = tf.keras.layers.Dropout(np.random.uniform(0, 0.2))(c_lstm)\n",
    "\n",
    "m1_lstm = tf.keras.layers.Bidirectional(tf.keras.layers.LSTM(32))(m1_embed)\n",
    "m1_lstm = tf.keras.layers.Dense(32, activation='relu')(m1_lstm)\n",
    "m1_lstm = tf.keras.layers.Dropout(np.random.uniform(0, 0.2))(m1_lstm)\n",
    "\n",
    "m2_lstm = tf.keras.layers.Bidirectional(tf.keras.layers.LSTM(32))(m2_embed)\n",
    "m2_lstm = tf.keras.layers.Dense(32, activation='relu')(m2_lstm)\n",
    "m2_lstm = tf.keras.layers.Dropout(np.random.uniform(0, 0.2))(m2_lstm)\n",
    "\n",
    "h_0 = tf.keras.layers.Input(shape=((145,)))\n",
    "c_0 = tf.keras.layers.Input(shape=((145,)))\n",
    "# pep_lstm = tf.keras.layers.LSTM(145, stateful=True, batch_size=(BS, 30, 128))(pep_embed, initial_state=[h_0, c_0])\n",
    "pep_lstm = tf.keras.layers.Bidirectional(\n",
    "    tf.keras.layers.LSTM(145))(pep_embed, initial_state=[h_0, c_0, h_0, c_0])\n",
    "pep_lstm = tf.keras.layers.Dense(128, activation='relu')(pep_lstm)\n",
    "pep_lstm = tf.keras.layers.Dropout(np.random.uniform(0, 0.2))(pep_lstm)\n",
    "\n",
    "\n",
    "# Dense\n",
    "merge = tf.keras.layers.concatenate([pep_lstm, \n",
    "                                     net_meta,\n",
    "                                     n_lstm,\n",
    "                                     c_lstm,\n",
    "                                     m1_lstm,\n",
    "                                     m2_lstm])\n",
    "net_merge = tf.keras.layers.Dense(128, activation='relu')(merge)\n",
    "net_merge = tf.keras.layers.Dropout(np.random.uniform(0, 0.2))(net_merge)\n",
    "net_merge = tf.keras.layers.Dense(64, activation='relu')(net_merge)\n",
    "net_merge = tf.keras.layers.Dropout(np.random.uniform(0, 0.2))(net_merge)\n",
    "\n",
    "output = tf.keras.layers.Dense(1, activation = 'sigmoid')(net_merge)\n",
    "\n",
    "model_high = tf.keras.Model(inputs=[h_0, c_0, pep, meta, n, c, m1, m2],\n",
    "                            outputs=[output])\n",
    "\n",
    "model_high.summary()\n",
    "\n",
    "model_high.compile(loss=tf.keras.losses.BinaryCrossentropy(from_logits=True),\n",
    "              optimizer=tf.keras.optimizers.Adam(1e-4),\n",
    "              metrics=['accuracy'])\n",
    "\n",
    "es = tf.keras.callbacks.EarlyStopping(monitor='val_loss',\n",
    "                                      mode='min', \n",
    "                                      verbose=1,\n",
    "                                      patience=50)"
   ]
  },
  {
   "cell_type": "code",
   "execution_count": 16,
   "metadata": {
    "ExecuteTime": {
     "end_time": "2021-11-26T08:06:46.612768Z",
     "start_time": "2021-11-26T08:06:46.610879Z"
    }
   },
   "outputs": [],
   "source": [
    "# # hidden state, cell state \n",
    "# model_high.layers[15].states[0] = h_0\n",
    "# model_high.layers[15].states[1] = c_0"
   ]
  },
  {
   "cell_type": "code",
   "execution_count": 17,
   "metadata": {
    "ExecuteTime": {
     "end_time": "2021-11-26T16:41:48.852864Z",
     "start_time": "2021-11-26T08:06:46.613770Z"
    },
    "scrolled": true
   },
   "outputs": [
    {
     "name": "stdout",
     "output_type": "stream",
     "text": [
      "Epoch 1/100\n",
      "2124/2124 [==============================] - 340s 146ms/step - loss: 3.6758 - accuracy: 0.6178 - val_loss: 0.5176 - val_accuracy: 0.7523\n",
      "Epoch 2/100\n",
      "2124/2124 [==============================] - 317s 149ms/step - loss: 0.5329 - accuracy: 0.7446 - val_loss: 0.4721 - val_accuracy: 0.7763\n",
      "Epoch 3/100\n",
      "2124/2124 [==============================] - 314s 148ms/step - loss: 0.4850 - accuracy: 0.7719 - val_loss: 0.4552 - val_accuracy: 0.7858\n",
      "Epoch 4/100\n",
      "2124/2124 [==============================] - 321s 151ms/step - loss: 0.4634 - accuracy: 0.7830 - val_loss: 0.4459 - val_accuracy: 0.7914\n",
      "Epoch 5/100\n",
      "2124/2124 [==============================] - 316s 149ms/step - loss: 0.4526 - accuracy: 0.7905 - val_loss: 0.4354 - val_accuracy: 0.7980\n",
      "Epoch 6/100\n",
      "2124/2124 [==============================] - 316s 149ms/step - loss: 0.4408 - accuracy: 0.7980 - val_loss: 0.4276 - val_accuracy: 0.8036\n",
      "Epoch 7/100\n",
      "2124/2124 [==============================] - 322s 152ms/step - loss: 0.4323 - accuracy: 0.8036 - val_loss: 0.4257 - val_accuracy: 0.8052\n",
      "Epoch 8/100\n",
      "2124/2124 [==============================] - 323s 152ms/step - loss: 0.4277 - accuracy: 0.8055 - val_loss: 0.4178 - val_accuracy: 0.8094\n",
      "Epoch 9/100\n",
      "2124/2124 [==============================] - 323s 152ms/step - loss: 0.4219 - accuracy: 0.8099 - val_loss: 0.4148 - val_accuracy: 0.8121\n",
      "Epoch 10/100\n",
      "2124/2124 [==============================] - 317s 149ms/step - loss: 0.4188 - accuracy: 0.8102 - val_loss: 0.4093 - val_accuracy: 0.8149\n",
      "Epoch 11/100\n",
      "2124/2124 [==============================] - 321s 151ms/step - loss: 0.4125 - accuracy: 0.8134 - val_loss: 0.4069 - val_accuracy: 0.8166\n",
      "Epoch 12/100\n",
      "2124/2124 [==============================] - 318s 150ms/step - loss: 0.4113 - accuracy: 0.8145 - val_loss: 0.4042 - val_accuracy: 0.8180\n",
      "Epoch 13/100\n",
      "2124/2124 [==============================] - 324s 153ms/step - loss: 0.4086 - accuracy: 0.8157 - val_loss: 0.4021 - val_accuracy: 0.8184\n",
      "Epoch 14/100\n",
      "2124/2124 [==============================] - 319s 150ms/step - loss: 0.4047 - accuracy: 0.8171 - val_loss: 0.4021 - val_accuracy: 0.8198\n",
      "Epoch 15/100\n",
      "2124/2124 [==============================] - 319s 150ms/step - loss: 0.4036 - accuracy: 0.8184 - val_loss: 0.3983 - val_accuracy: 0.8210\n",
      "Epoch 16/100\n",
      "2124/2124 [==============================] - 317s 149ms/step - loss: 0.4000 - accuracy: 0.8202 - val_loss: 0.3985 - val_accuracy: 0.8209\n",
      "Epoch 17/100\n",
      "2124/2124 [==============================] - 325s 153ms/step - loss: 0.3982 - accuracy: 0.8203 - val_loss: 0.3964 - val_accuracy: 0.8213\n",
      "Epoch 18/100\n",
      "2124/2124 [==============================] - 313s 148ms/step - loss: 0.3965 - accuracy: 0.8211 - val_loss: 0.3955 - val_accuracy: 0.8227\n",
      "Epoch 19/100\n",
      "2124/2124 [==============================] - 326s 153ms/step - loss: 0.3949 - accuracy: 0.8230 - val_loss: 0.3945 - val_accuracy: 0.8233\n",
      "Epoch 20/100\n",
      "2124/2124 [==============================] - 323s 152ms/step - loss: 0.3934 - accuracy: 0.8225 - val_loss: 0.3927 - val_accuracy: 0.8232\n",
      "Epoch 21/100\n",
      "2124/2124 [==============================] - 320s 151ms/step - loss: 0.3899 - accuracy: 0.8245 - val_loss: 0.3925 - val_accuracy: 0.8237\n",
      "Epoch 22/100\n",
      "2124/2124 [==============================] - 302s 142ms/step - loss: 0.3905 - accuracy: 0.8254 - val_loss: 0.3895 - val_accuracy: 0.8252\n",
      "Epoch 23/100\n",
      "2124/2124 [==============================] - 301s 142ms/step - loss: 0.3871 - accuracy: 0.8264 - val_loss: 0.3886 - val_accuracy: 0.8258\n",
      "Epoch 24/100\n",
      "2124/2124 [==============================] - 302s 142ms/step - loss: 0.3863 - accuracy: 0.8261 - val_loss: 0.3878 - val_accuracy: 0.8261\n",
      "Epoch 25/100\n",
      "2124/2124 [==============================] - 293s 138ms/step - loss: 0.3850 - accuracy: 0.8271 - val_loss: 0.3867 - val_accuracy: 0.8265\n",
      "Epoch 26/100\n",
      "2124/2124 [==============================] - 296s 139ms/step - loss: 0.3850 - accuracy: 0.8272 - val_loss: 0.3890 - val_accuracy: 0.8244\n",
      "Epoch 27/100\n",
      "2124/2124 [==============================] - 301s 142ms/step - loss: 0.3819 - accuracy: 0.8289 - val_loss: 0.3853 - val_accuracy: 0.8275\n",
      "Epoch 28/100\n",
      "2124/2124 [==============================] - 301s 142ms/step - loss: 0.3818 - accuracy: 0.8285 - val_loss: 0.3884 - val_accuracy: 0.8257\n",
      "Epoch 29/100\n",
      "2124/2124 [==============================] - 295s 139ms/step - loss: 0.3787 - accuracy: 0.8301 - val_loss: 0.3854 - val_accuracy: 0.8271\n",
      "Epoch 30/100\n",
      "2124/2124 [==============================] - 317s 149ms/step - loss: 0.3781 - accuracy: 0.8308 - val_loss: 0.3834 - val_accuracy: 0.8284\n",
      "Epoch 31/100\n",
      "2124/2124 [==============================] - 322s 152ms/step - loss: 0.3772 - accuracy: 0.8304 - val_loss: 0.3856 - val_accuracy: 0.8265\n",
      "Epoch 32/100\n",
      "2124/2124 [==============================] - 325s 153ms/step - loss: 0.3764 - accuracy: 0.8316 - val_loss: 0.3829 - val_accuracy: 0.8283\n",
      "Epoch 33/100\n",
      "2124/2124 [==============================] - 323s 152ms/step - loss: 0.3743 - accuracy: 0.8321 - val_loss: 0.3819 - val_accuracy: 0.8283\n",
      "Epoch 34/100\n",
      "2124/2124 [==============================] - 321s 151ms/step - loss: 0.3734 - accuracy: 0.8327 - val_loss: 0.3816 - val_accuracy: 0.8290\n",
      "Epoch 35/100\n",
      "2124/2124 [==============================] - 324s 153ms/step - loss: 0.3705 - accuracy: 0.8345 - val_loss: 0.3821 - val_accuracy: 0.8290\n",
      "Epoch 36/100\n",
      "2124/2124 [==============================] - 325s 153ms/step - loss: 0.3697 - accuracy: 0.8350 - val_loss: 0.3820 - val_accuracy: 0.8284\n",
      "Epoch 37/100\n",
      "2124/2124 [==============================] - 317s 149ms/step - loss: 0.3686 - accuracy: 0.8353 - val_loss: 0.3805 - val_accuracy: 0.8294\n",
      "Epoch 38/100\n",
      "2124/2124 [==============================] - 327s 154ms/step - loss: 0.3682 - accuracy: 0.8356 - val_loss: 0.3834 - val_accuracy: 0.8287\n",
      "Epoch 39/100\n",
      "2124/2124 [==============================] - 322s 152ms/step - loss: 0.3672 - accuracy: 0.8355 - val_loss: 0.3818 - val_accuracy: 0.8293\n",
      "Epoch 40/100\n",
      "2124/2124 [==============================] - 326s 154ms/step - loss: 0.3647 - accuracy: 0.8374 - val_loss: 0.3831 - val_accuracy: 0.8285\n",
      "Epoch 41/100\n",
      "2124/2124 [==============================] - 325s 153ms/step - loss: 0.3651 - accuracy: 0.8374 - val_loss: 0.3816 - val_accuracy: 0.8290\n",
      "Epoch 42/100\n",
      "2124/2124 [==============================] - 328s 154ms/step - loss: 0.3627 - accuracy: 0.8383 - val_loss: 0.3802 - val_accuracy: 0.8306\n",
      "Epoch 43/100\n",
      "2124/2124 [==============================] - 320s 151ms/step - loss: 0.3615 - accuracy: 0.8388 - val_loss: 0.3828 - val_accuracy: 0.8289\n",
      "Epoch 44/100\n",
      "2124/2124 [==============================] - 319s 150ms/step - loss: 0.3620 - accuracy: 0.8383 - val_loss: 0.3802 - val_accuracy: 0.8308\n",
      "Epoch 45/100\n",
      "2124/2124 [==============================] - 323s 152ms/step - loss: 0.3607 - accuracy: 0.8390 - val_loss: 0.3822 - val_accuracy: 0.8300\n",
      "Epoch 46/100\n",
      "2124/2124 [==============================] - 316s 149ms/step - loss: 0.3584 - accuracy: 0.8406 - val_loss: 0.3813 - val_accuracy: 0.8303\n",
      "Epoch 47/100\n",
      "2124/2124 [==============================] - 329s 155ms/step - loss: 0.3573 - accuracy: 0.8410 - val_loss: 0.3795 - val_accuracy: 0.8311\n",
      "Epoch 48/100\n",
      "2124/2124 [==============================] - 320s 151ms/step - loss: 0.3558 - accuracy: 0.8418 - val_loss: 0.3835 - val_accuracy: 0.8284\n",
      "Epoch 49/100\n",
      "2124/2124 [==============================] - 325s 153ms/step - loss: 0.3543 - accuracy: 0.8423 - val_loss: 0.3797 - val_accuracy: 0.8314\n",
      "Epoch 50/100\n",
      "2124/2124 [==============================] - 323s 152ms/step - loss: 0.3530 - accuracy: 0.8433 - val_loss: 0.3816 - val_accuracy: 0.8302\n",
      "Epoch 51/100\n",
      "2124/2124 [==============================] - 326s 154ms/step - loss: 0.3506 - accuracy: 0.8444 - val_loss: 0.3825 - val_accuracy: 0.8309\n",
      "Epoch 52/100\n",
      "2124/2124 [==============================] - 325s 153ms/step - loss: 0.3498 - accuracy: 0.8459 - val_loss: 0.3810 - val_accuracy: 0.8314\n",
      "Epoch 53/100\n",
      "2124/2124 [==============================] - 326s 154ms/step - loss: 0.3475 - accuracy: 0.8465 - val_loss: 0.3825 - val_accuracy: 0.8300\n",
      "Epoch 54/100\n",
      "2124/2124 [==============================] - 327s 154ms/step - loss: 0.3474 - accuracy: 0.8462 - val_loss: 0.3827 - val_accuracy: 0.8310\n",
      "Epoch 55/100\n",
      "2124/2124 [==============================] - 322s 152ms/step - loss: 0.3457 - accuracy: 0.8474 - val_loss: 0.3828 - val_accuracy: 0.8310\n"
     ]
    },
    {
     "name": "stdout",
     "output_type": "stream",
     "text": [
      "Epoch 56/100\n",
      "2124/2124 [==============================] - 325s 153ms/step - loss: 0.3446 - accuracy: 0.8473 - val_loss: 0.3849 - val_accuracy: 0.8305\n",
      "Epoch 57/100\n",
      "2124/2124 [==============================] - 317s 149ms/step - loss: 0.3420 - accuracy: 0.8486 - val_loss: 0.3843 - val_accuracy: 0.8314\n",
      "Epoch 58/100\n",
      "2124/2124 [==============================] - 330s 156ms/step - loss: 0.3416 - accuracy: 0.8486 - val_loss: 0.3851 - val_accuracy: 0.8303\n",
      "Epoch 59/100\n",
      "2124/2124 [==============================] - 332s 156ms/step - loss: 0.3397 - accuracy: 0.8498 - val_loss: 0.3849 - val_accuracy: 0.8309\n",
      "Epoch 60/100\n",
      "2124/2124 [==============================] - 326s 153ms/step - loss: 0.3384 - accuracy: 0.8499 - val_loss: 0.3851 - val_accuracy: 0.8311\n",
      "Epoch 61/100\n",
      "2124/2124 [==============================] - 320s 151ms/step - loss: 0.3368 - accuracy: 0.8520 - val_loss: 0.3856 - val_accuracy: 0.8294\n",
      "Epoch 62/100\n",
      "2124/2124 [==============================] - 322s 152ms/step - loss: 0.3361 - accuracy: 0.8520 - val_loss: 0.3853 - val_accuracy: 0.8300\n",
      "Epoch 63/100\n",
      "2124/2124 [==============================] - 321s 151ms/step - loss: 0.3335 - accuracy: 0.8535 - val_loss: 0.3913 - val_accuracy: 0.8295\n",
      "Epoch 64/100\n",
      "2124/2124 [==============================] - 323s 152ms/step - loss: 0.3316 - accuracy: 0.8542 - val_loss: 0.3909 - val_accuracy: 0.8289\n",
      "Epoch 65/100\n",
      "2124/2124 [==============================] - 318s 150ms/step - loss: 0.3311 - accuracy: 0.8545 - val_loss: 0.3892 - val_accuracy: 0.8290\n",
      "Epoch 66/100\n",
      "2124/2124 [==============================] - 325s 153ms/step - loss: 0.3287 - accuracy: 0.8559 - val_loss: 0.3902 - val_accuracy: 0.8293\n",
      "Epoch 67/100\n",
      "2124/2124 [==============================] - 324s 152ms/step - loss: 0.3267 - accuracy: 0.8567 - val_loss: 0.3933 - val_accuracy: 0.8289\n",
      "Epoch 68/100\n",
      "2124/2124 [==============================] - 320s 151ms/step - loss: 0.3255 - accuracy: 0.8574 - val_loss: 0.3917 - val_accuracy: 0.8281\n",
      "Epoch 69/100\n",
      "2124/2124 [==============================] - 314s 148ms/step - loss: 0.3241 - accuracy: 0.8585 - val_loss: 0.3932 - val_accuracy: 0.8273\n",
      "Epoch 70/100\n",
      "2124/2124 [==============================] - 319s 150ms/step - loss: 0.3223 - accuracy: 0.8591 - val_loss: 0.3974 - val_accuracy: 0.8272\n",
      "Epoch 71/100\n",
      "2124/2124 [==============================] - 321s 151ms/step - loss: 0.3208 - accuracy: 0.8603 - val_loss: 0.3986 - val_accuracy: 0.8279\n",
      "Epoch 72/100\n",
      "2124/2124 [==============================] - 331s 156ms/step - loss: 0.3213 - accuracy: 0.8594 - val_loss: 0.3993 - val_accuracy: 0.8280\n",
      "Epoch 73/100\n",
      "2124/2124 [==============================] - 325s 153ms/step - loss: 0.3178 - accuracy: 0.8613 - val_loss: 0.3995 - val_accuracy: 0.8274\n",
      "Epoch 74/100\n",
      "2124/2124 [==============================] - 329s 155ms/step - loss: 0.3159 - accuracy: 0.8624 - val_loss: 0.4023 - val_accuracy: 0.8260\n",
      "Epoch 75/100\n",
      "2124/2124 [==============================] - 328s 154ms/step - loss: 0.3145 - accuracy: 0.8638 - val_loss: 0.4012 - val_accuracy: 0.8255\n",
      "Epoch 76/100\n",
      "2124/2124 [==============================] - 322s 151ms/step - loss: 0.3124 - accuracy: 0.8645 - val_loss: 0.4044 - val_accuracy: 0.8258\n",
      "Epoch 77/100\n",
      "2124/2124 [==============================] - 317s 149ms/step - loss: 0.3096 - accuracy: 0.8656 - val_loss: 0.4045 - val_accuracy: 0.8261\n",
      "Epoch 78/100\n",
      "2124/2124 [==============================] - 324s 153ms/step - loss: 0.3070 - accuracy: 0.8672 - val_loss: 0.4078 - val_accuracy: 0.8239\n",
      "Epoch 79/100\n",
      "2124/2124 [==============================] - 320s 151ms/step - loss: 0.3082 - accuracy: 0.8666 - val_loss: 0.4156 - val_accuracy: 0.8252\n",
      "Epoch 80/100\n",
      "2124/2124 [==============================] - 315s 148ms/step - loss: 0.3046 - accuracy: 0.8681 - val_loss: 0.4099 - val_accuracy: 0.8255\n",
      "Epoch 81/100\n",
      "2124/2124 [==============================] - 323s 152ms/step - loss: 0.3038 - accuracy: 0.8690 - val_loss: 0.4160 - val_accuracy: 0.8251\n",
      "Epoch 82/100\n",
      "2124/2124 [==============================] - 328s 154ms/step - loss: 0.3024 - accuracy: 0.8691 - val_loss: 0.4181 - val_accuracy: 0.8248\n",
      "Epoch 83/100\n",
      "2124/2124 [==============================] - 323s 152ms/step - loss: 0.3009 - accuracy: 0.8707 - val_loss: 0.4119 - val_accuracy: 0.8233\n",
      "Epoch 84/100\n",
      "2124/2124 [==============================] - 319s 150ms/step - loss: 0.2988 - accuracy: 0.8716 - val_loss: 0.4193 - val_accuracy: 0.8239\n",
      "Epoch 85/100\n",
      "2124/2124 [==============================] - 325s 153ms/step - loss: 0.2975 - accuracy: 0.8711 - val_loss: 0.4190 - val_accuracy: 0.8245\n",
      "Epoch 86/100\n",
      "2124/2124 [==============================] - 322s 151ms/step - loss: 0.2961 - accuracy: 0.8728 - val_loss: 0.4284 - val_accuracy: 0.8239\n",
      "Epoch 87/100\n",
      "2124/2124 [==============================] - 319s 150ms/step - loss: 0.2937 - accuracy: 0.8741 - val_loss: 0.4232 - val_accuracy: 0.8215\n",
      "Epoch 88/100\n",
      "2124/2124 [==============================] - 319s 150ms/step - loss: 0.2926 - accuracy: 0.8747 - val_loss: 0.4283 - val_accuracy: 0.8239\n",
      "Epoch 89/100\n",
      "2124/2124 [==============================] - 289s 136ms/step - loss: 0.2901 - accuracy: 0.8758 - val_loss: 0.4324 - val_accuracy: 0.8235\n",
      "Epoch 90/100\n",
      "2124/2124 [==============================] - 298s 140ms/step - loss: 0.2884 - accuracy: 0.8768 - val_loss: 0.4303 - val_accuracy: 0.8199\n",
      "Epoch 91/100\n",
      "2124/2124 [==============================] - 301s 142ms/step - loss: 0.2873 - accuracy: 0.8771 - val_loss: 0.4402 - val_accuracy: 0.8218\n",
      "Epoch 92/100\n",
      "2124/2124 [==============================] - 305s 143ms/step - loss: 0.2853 - accuracy: 0.8783 - val_loss: 0.4342 - val_accuracy: 0.8215\n",
      "Epoch 93/100\n",
      "2124/2124 [==============================] - 300s 141ms/step - loss: 0.2841 - accuracy: 0.8789 - val_loss: 0.4409 - val_accuracy: 0.8228\n",
      "Epoch 94/100\n",
      "2124/2124 [==============================] - 301s 142ms/step - loss: 0.2817 - accuracy: 0.8799 - val_loss: 0.4409 - val_accuracy: 0.8217\n",
      "Epoch 95/100\n",
      "2124/2124 [==============================] - 295s 139ms/step - loss: 0.2813 - accuracy: 0.8802 - val_loss: 0.4423 - val_accuracy: 0.8216\n",
      "Epoch 96/100\n",
      "2124/2124 [==============================] - 309s 145ms/step - loss: 0.2791 - accuracy: 0.8813 - val_loss: 0.4395 - val_accuracy: 0.8204\n",
      "Epoch 97/100\n",
      "2124/2124 [==============================] - 325s 153ms/step - loss: 0.2769 - accuracy: 0.8826 - val_loss: 0.4479 - val_accuracy: 0.8210\n",
      "Epoch 00097: early stopping\n"
     ]
    }
   ],
   "source": [
    "history = model_high.fit([h_train, c_train, pep_train, aa_train, en_train, ec_train, e1_train, e2_train],\n",
    "                    y_train, \n",
    "                    epochs=100,\n",
    "                    batch_size=256,\n",
    "                    validation_data=([h_val, c_val, pep_val, aa_val, en_val, ec_val, e1_val, e2_val], y_val),\n",
    "                    callbacks=[es]\n",
    "                        )"
   ]
  },
  {
   "cell_type": "code",
   "execution_count": 18,
   "metadata": {
    "ExecuteTime": {
     "end_time": "2021-11-26T16:41:49.202841Z",
     "start_time": "2021-11-26T16:41:48.854950Z"
    }
   },
   "outputs": [
    {
     "data": {
      "image/png": "[encoded data removed]",
      "text/plain": [
       "<Figure size 1600x200 with 1 Axes>"
      ]
     },
     "metadata": {},
     "output_type": "display_data"
    },
    {
     "data": {
      "image/png": "[encoded data removed]",
      "text/plain": [
       "<Figure size 640x480 with 1 Axes>"
      ]
     },
     "metadata": {},
     "output_type": "display_data"
    }
   ],
   "source": [
    "plt.figure(figsize=(16,2))\n",
    "plt.subplot(1,2,1)\n",
    "plot_graphs(history, 'accuracy')\n",
    "plt.subplot(1,2,2)\n",
    "plot_graphs(history, 'loss')"
   ]
  },
  {
   "cell_type": "markdown",
   "metadata": {},
   "source": [
    "# eval"
   ]
  },
  {
   "cell_type": "code",
   "execution_count": 29,
   "metadata": {
    "ExecuteTime": {
     "end_time": "2021-11-26T18:15:27.876331Z",
     "start_time": "2021-11-26T18:11:40.122831Z"
    }
   },
   "outputs": [
    {
     "name": "stdout",
     "output_type": "stream",
     "text": [
      "4188/4188 [==============================] - 228s 54ms/step - loss: 0.4293 - accuracy: 0.8217\n",
      "Test Loss: 0.42931556701660156\n",
      "Test Accuracy: 0.8217281699180603\n"
     ]
    }
   ],
   "source": [
    "test_loss, test_acc = model_high.evaluate([h_test, c_test, pep_test, aa_test, en_test, ec_test, e1_test, e2_test], y_test)\n",
    "print('Test Loss: {}'.format(test_loss))\n",
    "print('Test Accuracy: {}'.format(test_acc))"
   ]
  },
  {
   "cell_type": "code",
   "execution_count": 30,
   "metadata": {
    "ExecuteTime": {
     "end_time": "2021-11-26T18:22:12.840293Z",
     "start_time": "2021-11-26T18:15:27.877851Z"
    },
    "scrolled": false
   },
   "outputs": [
    {
     "name": "stdout",
     "output_type": "stream",
     "text": [
      "              precision    recall  f1-score   support\n",
      "\n",
      "           0       0.85      0.78      0.81     66996\n",
      "           1       0.80      0.87      0.83     66996\n",
      "\n",
      "    accuracy                           0.82    133992\n",
      "   macro avg       0.82      0.82      0.82    133992\n",
      "weighted avg       0.82      0.82      0.82    133992\n",
      "\n",
      "rf auc : 0.9008336015587208\n"
     ]
    },
    {
     "data": {
      "image/png": "[encoded data removed]",
      "text/plain": [
       "<Figure size 400x400 with 1 Axes>"
      ]
     },
     "metadata": {},
     "output_type": "display_data"
    },
    {
     "data": {
      "image/png": "[encoded data removed]",
      "text/plain": [
       "<Figure size 300x300 with 2 Axes>"
      ]
     },
     "metadata": {},
     "output_type": "display_data"
    },
    {
     "data": {
      "image/png": "[encoded data removed]",
      "text/plain": [
       "<Figure size 300x300 with 2 Axes>"
      ]
     },
     "metadata": {},
     "output_type": "display_data"
    }
   ],
   "source": [
    "# prediction\n",
    "y_pred = [1 if i>=0.5 else 0 for i in model_high.predict([h_test, c_test, pep_test, aa_test, en_test, ec_test, e1_test, e2_test])]\n",
    "print(classification_report(y_test, y_pred))\n",
    "# AUC\n",
    "probs = model_high.predict([h_test, c_test, pep_test, aa_test, en_test, ec_test, e1_test, e2_test])\n",
    "rf_auc = roc_auc_score(y_test, probs)\n",
    "print('rf auc : {}'.format(rf_auc))\n",
    "# plot the roc curve for the model_high\n",
    "rf_fpr, rf_tpr, _ = roc_curve(y_test, probs)\n",
    "plt.figure(figsize=(4, 4))\n",
    "plt.plot(rf_fpr, rf_tpr, marker='.', label='RF AUC = {:.4f}'.format(rf_auc), color='orange')\n",
    "plt.title('ROC curve')\n",
    "# axis labels\n",
    "plt.xlabel('False Positive Rate')\n",
    "plt.ylabel('True Positive Rate')\n",
    "# show the legend\n",
    "plt.legend()\n",
    "# show the plot\n",
    "plt.show()\n",
    "\n",
    "cf_matrix = confusion_matrix(y_test, y_pred)\n",
    "plt.figure(figsize=(3, 3))\n",
    "sns.heatmap(cf_matrix, annot=True, fmt=',.0f')\n",
    "plt.show()\n",
    "plt.figure(figsize=(3, 3))\n",
    "sns.heatmap(cf_matrix/np.sum(cf_matrix), annot=True, \n",
    "            fmt='.2%', cmap='Blues')\n",
    "plt.show()"
   ]
  },
  {
   "cell_type": "code",
   "execution_count": 199,
   "metadata": {
    "ExecuteTime": {
     "end_time": "2021-11-22T03:54:22.714246Z",
     "start_time": "2021-11-22T03:54:22.711822Z"
    }
   },
   "outputs": [],
   "source": [
    "# # Calling `save('my_model.h5')` creates a h5 file `my_model.h5`.\n",
    "# model_high.save(\"compareModel/2021KSBi_multi_ms2/\")\n",
    "\n",
    "# # It can be used to reconstruct the model identically.\n",
    "# model_high_re = keras.models.load_model(\"compareModel/2021KSBi_multi_ms2/\")"
   ]
  }
 ],
 "metadata": {
  "kernelspec": {
   "display_name": "TF2.4",
   "language": "python",
   "name": "tf2.4"
  },
  "language_info": {
   "codemirror_mode": {
    "name": "ipython",
    "version": 3
   },
   "file_extension": ".py",
   "mimetype": "text/x-python",
   "name": "python",
   "nbconvert_exporter": "python",
   "pygments_lexer": "ipython3",
   "version": "3.7.0"
  }
 },
 "nbformat": 4,
 "nbformat_minor": 4
}
