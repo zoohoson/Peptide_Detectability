{
 "cells": [
  {
   "cell_type": "code",
   "execution_count": 1,
   "metadata": {
    "ExecuteTime": {
     "end_time": "2021-11-26T12:25:54.526226Z",
     "start_time": "2021-11-26T12:25:53.654653Z"
    }
   },
   "outputs": [],
   "source": [
    "import pandas as pd\n",
    "import numpy as np\n",
    "import matplotlib.pyplot as plt\n",
    "import seaborn as sns\n",
    "from sklearn.metrics import classification_report\n",
    "from sklearn.metrics import confusion_matrix\n",
    "from sklearn.metrics import roc_curve\n",
    "from sklearn.metrics import roc_auc_score\n",
    "from sklearn.model_selection import train_test_split\n",
    "\n",
    "import time"
   ]
  },
  {
   "cell_type": "code",
   "execution_count": 2,
   "metadata": {
    "ExecuteTime": {
     "end_time": "2021-11-26T12:25:54.538804Z",
     "start_time": "2021-11-26T12:25:54.528606Z"
    }
   },
   "outputs": [
    {
     "name": "stdout",
     "output_type": "stream",
     "text": [
      "(19, 21)\n"
     ]
    }
   ],
   "source": [
    "df_aaindex = pd.read_csv('../data/aaindex/df_aaindex19.csv')\n",
    "print(df_aaindex.shape)\n",
    "df_aaindex.head(1)\n",
    "tmp = df_aaindex.drop('Unnamed: 0',axis=1).T\n",
    "aa2val = dict()\n",
    "for aa, val in zip(tmp.index, tmp.values):\n",
    "    aa2val[aa]=val"
   ]
  },
  {
   "cell_type": "code",
   "execution_count": 3,
   "metadata": {
    "ExecuteTime": {
     "end_time": "2021-11-26T12:25:57.357988Z",
     "start_time": "2021-11-26T12:25:54.540311Z"
    }
   },
   "outputs": [],
   "source": [
    "df_detect_peptide_train = pd.read_csv('../data/df_detect_peptide_train.csv')\n",
    "test = pd.read_csv('../data/df_detect_peptide_test.csv')\n",
    "train, val = train_test_split(df_detect_peptide_train, test_size=0.2, random_state=7)"
   ]
  },
  {
   "cell_type": "code",
   "execution_count": 4,
   "metadata": {
    "ExecuteTime": {
     "end_time": "2021-11-26T12:25:57.374398Z",
     "start_time": "2021-11-26T12:25:57.359910Z"
    }
   },
   "outputs": [
    {
     "data": {
      "text/html": [
       "<div>\n",
       "<style scoped>\n",
       "    .dataframe tbody tr th:only-of-type {\n",
       "        vertical-align: middle;\n",
       "    }\n",
       "\n",
       "    .dataframe tbody tr th {\n",
       "        vertical-align: top;\n",
       "    }\n",
       "\n",
       "    .dataframe thead th {\n",
       "        text-align: right;\n",
       "    }\n",
       "</style>\n",
       "<table border=\"1\" class=\"dataframe\">\n",
       "  <thead>\n",
       "    <tr style=\"text-align: right;\">\n",
       "      <th></th>\n",
       "      <th>peptide</th>\n",
       "      <th>En</th>\n",
       "      <th>Ec</th>\n",
       "      <th>E1</th>\n",
       "      <th>E2</th>\n",
       "      <th>protein</th>\n",
       "      <th>PEP</th>\n",
       "      <th>ID</th>\n",
       "    </tr>\n",
       "  </thead>\n",
       "  <tbody>\n",
       "    <tr>\n",
       "      <th>595411</th>\n",
       "      <td>K.QELNEPPKQSTSFLVLQEILESEEKGDPNK.P</td>\n",
       "      <td>VYKMLQEKQELNEPP</td>\n",
       "      <td>EEKGDPNKPSGFRSV</td>\n",
       "      <td>QELNEPPKQSTSFLV</td>\n",
       "      <td>EILESEEKGDPNKPS</td>\n",
       "      <td>sp|O00151|PDLI1_HUMAN</td>\n",
       "      <td>QELNEPPKQSTSFLVLQEILESEEKGDPNK</td>\n",
       "      <td>0</td>\n",
       "    </tr>\n",
       "  </tbody>\n",
       "</table>\n",
       "</div>"
      ],
      "text/plain": [
       "                                   peptide               En               Ec  \\\n",
       "595411  K.QELNEPPKQSTSFLVLQEILESEEKGDPNK.P  VYKMLQEKQELNEPP  EEKGDPNKPSGFRSV   \n",
       "\n",
       "                     E1               E2                protein  \\\n",
       "595411  QELNEPPKQSTSFLV  EILESEEKGDPNKPS  sp|O00151|PDLI1_HUMAN   \n",
       "\n",
       "                                   PEP  ID  \n",
       "595411  QELNEPPKQSTSFLVLQEILESEEKGDPNK   0  "
      ]
     },
     "execution_count": 4,
     "metadata": {},
     "output_type": "execute_result"
    }
   ],
   "source": [
    "train.head(1)"
   ]
  },
  {
   "cell_type": "code",
   "execution_count": 5,
   "metadata": {
    "ExecuteTime": {
     "end_time": "2021-11-26T12:25:57.382700Z",
     "start_time": "2021-11-26T12:25:57.375497Z"
    }
   },
   "outputs": [],
   "source": [
    "def get_data_labelEnc(df):\n",
    "    label_enc = {v:k+1 for k, v in enumerate('ARNDCQEGHILKMFPSTWYV')}\n",
    "    label_enc['Z']=0\n",
    "    aa_data = [np.array([seq.count(a) for a in 'ARNDCQEGHILKMFPSTWYV'] + list(np.array([aa2val[aa] for aa in seq]).sum(axis=0)))\n",
    "               for seq in df.PEP.values]\n",
    "    pep_data = [[label_enc[aa] for aa in seq] + [0]*(30-len(seq))\n",
    "               for seq in df.PEP.values]\n",
    "    en_data = [[label_enc[aa] for aa in seq]\n",
    "               for seq in df.En.values]\n",
    "    ec_data = [[label_enc[aa] for aa in seq]\n",
    "               for seq in df.Ec.values]\n",
    "    e1_data = [[label_enc[aa] for aa in seq]\n",
    "               if seq != '-' else [0 for _ in range(15)]\n",
    "               for seq in df.E1.values]\n",
    "    e2_data = [[label_enc[aa] for aa in seq]\n",
    "               if seq != '-' else [0 for _ in range(15)]\n",
    "               for seq in df.E2.values]\n",
    "    return np.array(aa_data), np.array(pep_data), np.array(en_data), np.array(ec_data), np.array(e1_data), np.array(e2_data), np.array(df.ID.values)"
   ]
  },
  {
   "cell_type": "code",
   "execution_count": 6,
   "metadata": {
    "ExecuteTime": {
     "end_time": "2021-11-26T12:26:32.686074Z",
     "start_time": "2021-11-26T12:25:57.384104Z"
    }
   },
   "outputs": [
    {
     "name": "stdout",
     "output_type": "stream",
     "text": [
      "(543516, 39) (543516, 30) (543516, 15) (543516, 15) (543516, 15) (543516, 15) (543516,)\n",
      "(135880, 39) (135880, 30) (135880, 15) (135880, 15) (135880, 15) (135880, 15) (135880,)\n",
      "(133992, 39) (133992, 30) (133992, 15) (133992, 15) (133992, 15) (133992, 15) (133992,)\n"
     ]
    }
   ],
   "source": [
    "aa_train, pep_train, en_train, ec_train, e1_train, e2_train, y_train = get_data_labelEnc(train)\n",
    "aa_val, pep_val, en_val, ec_val, e1_val, e2_val, y_val = get_data_labelEnc(val)\n",
    "aa_test, pep_test, en_test, ec_test, e1_test, e2_test, y_test = get_data_labelEnc(test)\n",
    "print(aa_train.shape, pep_train.shape, en_train.shape, ec_train.shape, e1_train.shape, e2_train.shape, y_train.shape)\n",
    "print(aa_val.shape, pep_val.shape, en_val.shape, ec_val.shape, e1_val.shape, e2_val.shape, y_val.shape)\n",
    "print(aa_test.shape, pep_test.shape, en_test.shape, ec_test.shape, e1_test.shape, e2_test.shape, y_test.shape)"
   ]
  },
  {
   "cell_type": "markdown",
   "metadata": {},
   "source": [
    "# MS2"
   ]
  },
  {
   "cell_type": "code",
   "execution_count": 7,
   "metadata": {
    "ExecuteTime": {
     "end_time": "2021-11-26T12:27:03.897687Z",
     "start_time": "2021-11-26T12:26:32.687503Z"
    }
   },
   "outputs": [],
   "source": [
    "df_ms2 = pd.read_csv('df_modeling_211124_result.msms', sep='\\t')"
   ]
  },
  {
   "cell_type": "code",
   "execution_count": 8,
   "metadata": {
    "ExecuteTime": {
     "end_time": "2021-11-26T12:27:03.907833Z",
     "start_time": "2021-11-26T12:27:03.899382Z"
    }
   },
   "outputs": [
    {
     "name": "stdout",
     "output_type": "stream",
     "text": [
      "(2385750, 5)\n"
     ]
    },
    {
     "data": {
      "text/html": [
       "<div>\n",
       "<style scoped>\n",
       "    .dataframe tbody tr th:only-of-type {\n",
       "        vertical-align: middle;\n",
       "    }\n",
       "\n",
       "    .dataframe tbody tr th {\n",
       "        vertical-align: top;\n",
       "    }\n",
       "\n",
       "    .dataframe thead th {\n",
       "        text-align: right;\n",
       "    }\n",
       "</style>\n",
       "<table border=\"1\" class=\"dataframe\">\n",
       "  <thead>\n",
       "    <tr style=\"text-align: right;\">\n",
       "      <th></th>\n",
       "      <th>Intensities</th>\n",
       "      <th>Masses</th>\n",
       "      <th>Matches</th>\n",
       "      <th>Modified Sequence</th>\n",
       "      <th>Charge</th>\n",
       "    </tr>\n",
       "  </thead>\n",
       "  <tbody>\n",
       "    <tr>\n",
       "      <th>0</th>\n",
       "      <td>0.16607068;0.22559804;1.0;0.10618063;0.1724560...</td>\n",
       "      <td>147.112804167;261.155731167;358.20849516699997...</td>\n",
       "      <td>y1;y2;y3;y4;y5;y6;y7;y8;y9;y10;y11;y12;y13;y14...</td>\n",
       "      <td>QELNEPPKQSTSFLVLQEILESEEKGDPNK</td>\n",
       "      <td>3</td>\n",
       "    </tr>\n",
       "  </tbody>\n",
       "</table>\n",
       "</div>"
      ],
      "text/plain": [
       "                                         Intensities  \\\n",
       "0  0.16607068;0.22559804;1.0;0.10618063;0.1724560...   \n",
       "\n",
       "                                              Masses  \\\n",
       "0  147.112804167;261.155731167;358.20849516699997...   \n",
       "\n",
       "                                             Matches  \\\n",
       "0  y1;y2;y3;y4;y5;y6;y7;y8;y9;y10;y11;y12;y13;y14...   \n",
       "\n",
       "                Modified Sequence  Charge  \n",
       "0  QELNEPPKQSTSFLVLQEILESEEKGDPNK       3  "
      ]
     },
     "execution_count": 8,
     "metadata": {},
     "output_type": "execute_result"
    }
   ],
   "source": [
    "print(df_ms2.shape)\n",
    "df_ms2.head(1)"
   ]
  },
  {
   "cell_type": "code",
   "execution_count": 9,
   "metadata": {
    "ExecuteTime": {
     "end_time": "2021-11-26T12:27:03.920421Z",
     "start_time": "2021-11-26T12:27:03.908908Z"
    }
   },
   "outputs": [],
   "source": [
    "def get_ion_type():\n",
    "    # y1 ~ y29, b1 ~ b29, y1(2+) ~ y29(2+), ... , b1(3+) ~ b29(3+)\n",
    "    ion_num_arr = list(map(str, range(1, 30)))\n",
    "    ion_type_arr = ['y', 'b']\n",
    "    ion_charge_arr = ['', '(2+)', '(3+)']\n",
    "    ion_arr = []\n",
    "    for ic in ion_charge_arr:\n",
    "        for it in ion_type_arr:\n",
    "            for inum in ion_num_arr:\n",
    "                ion_arr.append(it+inum+ic)\n",
    "    return ion_arr\n",
    "\n",
    "def ms_to_174(intens, matches):\n",
    "    i = list(map(float, intens.split(';')))\n",
    "    m = matches.split(';')\n",
    "    ion_dic = {k:v for k, v in zip(m, i)}\n",
    "\n",
    "    ion_arr = get_ion_type()\n",
    "    for ion in ion_arr:\n",
    "        if ion not in ion_dic:\n",
    "            ion_dic[ion] = 0\n",
    "    return ion_dic\n",
    "\n",
    "def ms_to_29(intens, matches, pep):\n",
    "    i = list(map(float, intens.split(';')))\n",
    "    m = matches.split(';')\n",
    "    ion_dic = {k:v for k, v in zip(m, i)}\n",
    "\n",
    "    ion_arr = get_ion_type()\n",
    "    for ion in ion_arr:\n",
    "        if ion not in ion_dic:\n",
    "            ion_dic[ion] = 0\n",
    "    \n",
    "    # fragmentation part\n",
    "    ion_y1c = ['y' + str(i) for i in range(1, len(pep))]\n",
    "    ion_y2c = ['y' + str(i) + '(2+)' for i in range(1, len(pep))]\n",
    "    ion_y3c = ['y' + str(i) + '(3+)' for i in range(1, len(pep))]\n",
    "    ion_b1c = ['b' + str(i) for i in range(len(pep)-1, 0, -1)]\n",
    "    ion_b2c = ['b' + str(i) + '(2+)' for i in range(len(pep)-1, 0, -1)]\n",
    "    ion_b3c = ['b' + str(i) + '(3+)'  for i in range(len(pep)-1, 0, -1)]\n",
    "    \n",
    "    ion_sum = {i:0 for i in range(1, 30)}\n",
    "    for idx, i in enumerate(range(1, len(pep))):\n",
    "        y1c = ion_dic[ion_y1c[idx]]\n",
    "        y2c = ion_dic[ion_y2c[idx]]\n",
    "        y3c = ion_dic[ion_y3c[idx]]\n",
    "        b1c = ion_dic[ion_b1c[idx]]\n",
    "        b2c = ion_dic[ion_b2c[idx]]\n",
    "        b3c = ion_dic[ion_b3c[idx]]\n",
    "        \n",
    "        ion_sum[i] = y1c + y2c + y3c + b1c + b2c + b3c\n",
    "    \n",
    "    return list(np.array(sorted(ion_sum.items()))[:, 1])"
   ]
  },
  {
   "cell_type": "code",
   "execution_count": 10,
   "metadata": {
    "ExecuteTime": {
     "end_time": "2021-11-26T12:32:40.682341Z",
     "start_time": "2021-11-26T12:27:03.921860Z"
    }
   },
   "outputs": [
    {
     "name": "stdout",
     "output_type": "stream",
     "text": [
      "time:  336.75 sec\n"
     ]
    }
   ],
   "source": [
    "s = time.time()\n",
    "\n",
    "p2ms2 = dict()\n",
    "for i, m, p, c in df_ms2[['Intensities', 'Matches', 'Modified Sequence', 'Charge']].values:\n",
    "    if p not in p2ms2:\n",
    "        p2ms2[p] = {k:[0 for _ in range(1, 30)] for k in range(1, 6)}\n",
    "    p2ms2[p][c] = ms_to_29(i, m, p)\n",
    "\n",
    "e = time.time()\n",
    "print('time: ', round(e-s, 2), 'sec')"
   ]
  },
  {
   "cell_type": "code",
   "execution_count": 11,
   "metadata": {
    "ExecuteTime": {
     "end_time": "2021-11-26T12:33:12.121084Z",
     "start_time": "2021-11-26T12:32:40.683938Z"
    }
   },
   "outputs": [
    {
     "name": "stderr",
     "output_type": "stream",
     "text": [
      "/home/bis/miniconda3/envs/TF2.4/lib/python3.7/site-packages/ipykernel_launcher.py:3: VisibleDeprecationWarning: Creating an ndarray from ragged nested sequences (which is a list-or-tuple of lists-or-tuples-or ndarrays with different lengths or shapes) is deprecated. If you meant to do this, you must specify 'dtype=object' when creating the ndarray\n",
      "  This is separate from the ipykernel package so we can avoid doing imports until\n"
     ]
    }
   ],
   "source": [
    "pep_to_ms = dict()\n",
    "for k, v in p2ms2.items():\n",
    "    tensor = np.array(sorted(v.items()))[:, 1]\n",
    "    ms2arr = np.concatenate(tensor, axis=None)\n",
    "    pep_to_ms[k] = ms2arr"
   ]
  },
  {
   "cell_type": "code",
   "execution_count": null,
   "metadata": {
    "ExecuteTime": {
     "end_time": "2021-11-26T12:33:13.522466Z",
     "start_time": "2021-11-26T12:33:12.122771Z"
    }
   },
   "outputs": [],
   "source": [
    "h_train = np.array([pep_to_ms[p] for p in train.PEP.values])\n",
    "c_train = h_train.copy()\n",
    "h_val = np.array([pep_to_ms[p] for p in val.PEP.values])\n",
    "c_val = h_val.copy()"
   ]
  },
  {
   "cell_type": "code",
   "execution_count": 32,
   "metadata": {
    "ExecuteTime": {
     "end_time": "2021-11-27T18:03:27.143259Z",
     "start_time": "2021-11-27T18:03:26.913535Z"
    }
   },
   "outputs": [],
   "source": [
    "h_test = np.array([pep_to_ms[p] for p in test.PEP.values])\n",
    "c_test = h_test.copy()"
   ]
  },
  {
   "cell_type": "markdown",
   "metadata": {},
   "source": [
    "# Train"
   ]
  },
  {
   "cell_type": "code",
   "execution_count": 13,
   "metadata": {
    "ExecuteTime": {
     "end_time": "2021-11-26T12:33:14.567880Z",
     "start_time": "2021-11-26T12:33:13.523757Z"
    }
   },
   "outputs": [],
   "source": [
    "from tensorflow.python.client import device_lib\n",
    "\n",
    "import tensorflow as tf\n",
    "gpus = tf.config.experimental.list_physical_devices('GPU')\n",
    "if gpus:\n",
    "    try:\n",
    "        tf.config.experimental.set_virtual_device_configuration(gpus[0],\n",
    "        [tf.config.experimental.VirtualDeviceConfiguration(memory_limit=1024*4)])\n",
    "    except RuntimeError as e:\n",
    "        print(e)\n",
    "\n",
    "from tensorflow import keras"
   ]
  },
  {
   "cell_type": "code",
   "execution_count": 14,
   "metadata": {
    "ExecuteTime": {
     "end_time": "2021-11-26T12:33:14.571648Z",
     "start_time": "2021-11-26T12:33:14.569042Z"
    }
   },
   "outputs": [],
   "source": [
    "def plot_graphs(history, metric):\n",
    "    plt.plot(history.history[metric])\n",
    "    plt.plot(history.history['val_'+metric], '')\n",
    "    plt.xlabel(\"Epochs\")\n",
    "    plt.ylabel(metric)\n",
    "    plt.legend([metric, 'val_'+metric])\n",
    "    plt.show()"
   ]
  },
  {
   "cell_type": "markdown",
   "metadata": {},
   "source": [
    "# high param"
   ]
  },
  {
   "cell_type": "code",
   "execution_count": 27,
   "metadata": {
    "ExecuteTime": {
     "end_time": "2021-11-26T17:57:46.033602Z",
     "start_time": "2021-11-26T17:57:39.874842Z"
    },
    "scrolled": true
   },
   "outputs": [
    {
     "name": "stdout",
     "output_type": "stream",
     "text": [
      "Model: \"model\"\n",
      "__________________________________________________________________________________________________\n",
      "Layer (type)                    Output Shape         Param #     Connected to                     \n",
      "==================================================================================================\n",
      "input_22 (InputLayer)           [(None, 30)]         0                                            \n",
      "__________________________________________________________________________________________________\n",
      "input_24 (InputLayer)           [(None, 15)]         0                                            \n",
      "__________________________________________________________________________________________________\n",
      "input_25 (InputLayer)           [(None, 15)]         0                                            \n",
      "__________________________________________________________________________________________________\n",
      "input_26 (InputLayer)           [(None, 15)]         0                                            \n",
      "__________________________________________________________________________________________________\n",
      "input_27 (InputLayer)           [(None, 15)]         0                                            \n",
      "__________________________________________________________________________________________________\n",
      "embedding_15 (Embedding)        (None, 30, 128)      2688        input_22[0][0]                   \n",
      "__________________________________________________________________________________________________\n",
      "embedding_16 (Embedding)        (None, 15, 32)       672         input_24[0][0]                   \n",
      "__________________________________________________________________________________________________\n",
      "embedding_17 (Embedding)        (None, 15, 32)       672         input_25[0][0]                   \n",
      "__________________________________________________________________________________________________\n",
      "embedding_18 (Embedding)        (None, 15, 32)       672         input_26[0][0]                   \n",
      "__________________________________________________________________________________________________\n",
      "embedding_19 (Embedding)        (None, 15, 32)       672         input_27[0][0]                   \n",
      "__________________________________________________________________________________________________\n",
      "input_28 (InputLayer)           [(None, 145)]        0                                            \n",
      "__________________________________________________________________________________________________\n",
      "dropout_33 (Dropout)            (None, 30, 128)      0           embedding_15[0][0]               \n",
      "__________________________________________________________________________________________________\n",
      "dropout_34 (Dropout)            (None, 15, 32)       0           embedding_16[0][0]               \n",
      "__________________________________________________________________________________________________\n",
      "dropout_35 (Dropout)            (None, 15, 32)       0           embedding_17[0][0]               \n",
      "__________________________________________________________________________________________________\n",
      "dropout_36 (Dropout)            (None, 15, 32)       0           embedding_18[0][0]               \n",
      "__________________________________________________________________________________________________\n",
      "dropout_37 (Dropout)            (None, 15, 32)       0           embedding_19[0][0]               \n",
      "__________________________________________________________________________________________________\n",
      "dense_24 (Dense)                (None, 64)           9344        input_28[0][0]                   \n",
      "__________________________________________________________________________________________________\n",
      "bidirectional_22 (Bidirectional (None, 128)          98816       dropout_33[0][0]                 \n",
      "__________________________________________________________________________________________________\n",
      "input_23 (InputLayer)           [(None, 39)]         0                                            \n",
      "__________________________________________________________________________________________________\n",
      "bidirectional_18 (Bidirectional (None, 64)           16640       dropout_34[0][0]                 \n",
      "__________________________________________________________________________________________________\n",
      "bidirectional_19 (Bidirectional (None, 64)           16640       dropout_35[0][0]                 \n",
      "__________________________________________________________________________________________________\n",
      "bidirectional_20 (Bidirectional (None, 64)           16640       dropout_36[0][0]                 \n",
      "__________________________________________________________________________________________________\n",
      "bidirectional_21 (Bidirectional (None, 64)           16640       dropout_37[0][0]                 \n",
      "__________________________________________________________________________________________________\n",
      "dropout_44 (Dropout)            (None, 64)           0           dense_24[0][0]                   \n",
      "__________________________________________________________________________________________________\n",
      "dense_23 (Dense)                (None, 64)           8256        bidirectional_22[0][0]           \n",
      "__________________________________________________________________________________________________\n",
      "dense_18 (Dense)                (None, 32)           1280        input_23[0][0]                   \n",
      "__________________________________________________________________________________________________\n",
      "dense_19 (Dense)                (None, 32)           2080        bidirectional_18[0][0]           \n",
      "__________________________________________________________________________________________________\n",
      "dense_20 (Dense)                (None, 32)           2080        bidirectional_19[0][0]           \n",
      "__________________________________________________________________________________________________\n",
      "dense_21 (Dense)                (None, 32)           2080        bidirectional_20[0][0]           \n",
      "__________________________________________________________________________________________________\n",
      "dense_22 (Dense)                (None, 32)           2080        bidirectional_21[0][0]           \n",
      "__________________________________________________________________________________________________\n",
      "dense_25 (Dense)                (None, 32)           2080        dropout_44[0][0]                 \n",
      "__________________________________________________________________________________________________\n",
      "dropout_43 (Dropout)            (None, 64)           0           dense_23[0][0]                   \n",
      "__________________________________________________________________________________________________\n",
      "dropout_38 (Dropout)            (None, 32)           0           dense_18[0][0]                   \n",
      "__________________________________________________________________________________________________\n",
      "dropout_39 (Dropout)            (None, 32)           0           dense_19[0][0]                   \n",
      "__________________________________________________________________________________________________\n",
      "dropout_40 (Dropout)            (None, 32)           0           dense_20[0][0]                   \n",
      "__________________________________________________________________________________________________\n",
      "dropout_41 (Dropout)            (None, 32)           0           dense_21[0][0]                   \n",
      "__________________________________________________________________________________________________\n",
      "dropout_42 (Dropout)            (None, 32)           0           dense_22[0][0]                   \n",
      "__________________________________________________________________________________________________\n",
      "dropout_45 (Dropout)            (None, 32)           0           dense_25[0][0]                   \n",
      "__________________________________________________________________________________________________\n",
      "concatenate (Concatenate)       (None, 256)          0           dropout_43[0][0]                 \n",
      "                                                                 dropout_38[0][0]                 \n",
      "                                                                 dropout_39[0][0]                 \n",
      "                                                                 dropout_40[0][0]                 \n",
      "                                                                 dropout_41[0][0]                 \n",
      "                                                                 dropout_42[0][0]                 \n",
      "                                                                 dropout_45[0][0]                 \n",
      "__________________________________________________________________________________________________\n",
      "dense_26 (Dense)                (None, 128)          32896       concatenate[0][0]                \n",
      "__________________________________________________________________________________________________\n",
      "dropout_46 (Dropout)            (None, 128)          0           dense_26[0][0]                   \n",
      "__________________________________________________________________________________________________\n",
      "dense_27 (Dense)                (None, 64)           8256        dropout_46[0][0]                 \n",
      "__________________________________________________________________________________________________\n",
      "dropout_47 (Dropout)            (None, 64)           0           dense_27[0][0]                   \n",
      "__________________________________________________________________________________________________\n",
      "dense_28 (Dense)                (None, 1)            65          dropout_47[0][0]                 \n",
      "==================================================================================================\n",
      "Total params: 241,249\n",
      "Trainable params: 241,249\n",
      "Non-trainable params: 0\n",
      "__________________________________________________________________________________________________\n"
     ]
    }
   ],
   "source": [
    "# Embedding\n",
    "pep = tf.keras.layers.Input(shape=((30,)))\n",
    "pep_embed = tf.keras.layers.Embedding(21, 128, input_length=30, mask_zero=True)(pep)\n",
    "pep_embed = tf.keras.layers.Dropout(np.random.uniform(0, 0.2))(pep_embed)\n",
    "\n",
    "meta = tf.keras.layers.Input(shape=((39,)))  # peptide info\n",
    "\n",
    "n = tf.keras.layers.Input(shape=((15,)))\n",
    "n_embed = tf.keras.layers.Embedding(21, 32, input_length=15, mask_zero=True)(n)\n",
    "n_embed = tf.keras.layers.Dropout(np.random.uniform(0, 0.2))(n_embed)\n",
    "\n",
    "c = tf.keras.layers.Input(shape=((15,)))\n",
    "c_embed = tf.keras.layers.Embedding(21, 32, input_length=15, mask_zero=True)(c)\n",
    "c_embed = tf.keras.layers.Dropout(np.random.uniform(0, 0.2))(c_embed)\n",
    "\n",
    "m1 = tf.keras.layers.Input(shape=((15,)))\n",
    "m1_embed = tf.keras.layers.Embedding(21, 32, input_length=15, mask_zero=True)(m1)\n",
    "m1_embed = tf.keras.layers.Dropout(np.random.uniform(0, 0.2))(m1_embed)\n",
    "\n",
    "m2 = tf.keras.layers.Input(shape=((15,)))\n",
    "m2_embed = tf.keras.layers.Embedding(21, 32, input_length=15, mask_zero=True)(m2)\n",
    "m2_embed = tf.keras.layers.Dropout(np.random.uniform(0, 0.2))(m2_embed)\n",
    "\n",
    "\n",
    "# LSTM\n",
    "net_meta = tf.keras.layers.Dense(32, activation='relu')(meta)\n",
    "net_meta = tf.keras.layers.Dropout(np.random.uniform(0, 0.2))(net_meta)\n",
    "\n",
    "n_lstm = tf.keras.layers.Bidirectional(tf.keras.layers.LSTM(32))(n_embed)\n",
    "n_lstm = tf.keras.layers.Dense(32, activation='relu')(n_lstm)\n",
    "n_lstm = tf.keras.layers.Dropout(np.random.uniform(0, 0.2))(n_lstm)\n",
    "\n",
    "c_lstm = tf.keras.layers.Bidirectional(tf.keras.layers.LSTM(32))(c_embed)\n",
    "c_lstm = tf.keras.layers.Dense(32, activation='relu')(c_lstm)\n",
    "c_lstm = tf.keras.layers.Dropout(np.random.uniform(0, 0.2))(c_lstm)\n",
    "\n",
    "m1_lstm = tf.keras.layers.Bidirectional(tf.keras.layers.LSTM(32))(m1_embed)\n",
    "m1_lstm = tf.keras.layers.Dense(32, activation='relu')(m1_lstm)\n",
    "m1_lstm = tf.keras.layers.Dropout(np.random.uniform(0, 0.2))(m1_lstm)\n",
    "\n",
    "m2_lstm = tf.keras.layers.Bidirectional(tf.keras.layers.LSTM(32))(m2_embed)\n",
    "m2_lstm = tf.keras.layers.Dense(32, activation='relu')(m2_lstm)\n",
    "m2_lstm = tf.keras.layers.Dropout(np.random.uniform(0, 0.2))(m2_lstm)\n",
    "\n",
    "pep_lstm = tf.keras.layers.Bidirectional(tf.keras.layers.LSTM(64))(pep_embed)\n",
    "pep_lstm = tf.keras.layers.Dense(64, activation='relu')(pep_lstm)\n",
    "pep_lstm = tf.keras.layers.Dropout(np.random.uniform(0, 0.2))(pep_lstm)\n",
    "\n",
    "h_0 = tf.keras.layers.Input(shape=((145,)))\n",
    "ms_net = tf.keras.layers.Dense(64, activation='relu')(h_0)\n",
    "ms_net = tf.keras.layers.Dropout(np.random.uniform(0, 0.2))(ms_net)\n",
    "ms_net = tf.keras.layers.Dense(32, activation='relu')(ms_net)\n",
    "ms_net = tf.keras.layers.Dropout(np.random.uniform(0, 0.2))(ms_net)\n",
    "\n",
    "# Dense\n",
    "merge = tf.keras.layers.concatenate([pep_lstm, \n",
    "                                     net_meta,\n",
    "                                     n_lstm,\n",
    "                                     c_lstm,\n",
    "                                     m1_lstm,\n",
    "                                     m2_lstm,\n",
    "                                     ms_net])\n",
    "net_merge = tf.keras.layers.Dense(128, activation='relu')(merge)\n",
    "net_merge = tf.keras.layers.Dropout(np.random.uniform(0, 0.2))(net_merge)\n",
    "net_merge = tf.keras.layers.Dense(64, activation='relu')(net_merge)\n",
    "net_merge = tf.keras.layers.Dropout(np.random.uniform(0, 0.2))(net_merge)\n",
    "\n",
    "output = tf.keras.layers.Dense(1, activation = 'sigmoid')(net_merge)\n",
    "\n",
    "model_high = tf.keras.Model(inputs=[h_0, pep, meta, n, c, m1, m2],\n",
    "                            outputs=[output])\n",
    "\n",
    "model_high.summary()\n",
    "\n",
    "model_high.compile(loss=tf.keras.losses.BinaryCrossentropy(from_logits=True),\n",
    "              optimizer=tf.keras.optimizers.Adam(1e-4),\n",
    "              metrics=['accuracy'])\n",
    "\n",
    "es = tf.keras.callbacks.EarlyStopping(monitor='val_loss',\n",
    "                                      mode='min', \n",
    "                                      verbose=1,\n",
    "                                      patience=50)"
   ]
  },
  {
   "cell_type": "code",
   "execution_count": 29,
   "metadata": {
    "ExecuteTime": {
     "end_time": "2021-11-27T02:46:09.125469Z",
     "start_time": "2021-11-26T18:07:28.296701Z"
    },
    "scrolled": true
   },
   "outputs": [
    {
     "name": "stdout",
     "output_type": "stream",
     "text": [
      "Epoch 1/100\n",
      "2124/2124 [==============================] - 332s 156ms/step - loss: 1.1126 - accuracy: 0.6596 - val_loss: 0.5261 - val_accuracy: 0.7435\n",
      "Epoch 2/100\n",
      "2124/2124 [==============================] - 358s 169ms/step - loss: 0.5388 - accuracy: 0.7352 - val_loss: 0.4970 - val_accuracy: 0.7563\n",
      "Epoch 3/100\n",
      "2124/2124 [==============================] - 341s 160ms/step - loss: 0.5000 - accuracy: 0.7604 - val_loss: 0.4731 - val_accuracy: 0.7743\n",
      "Epoch 4/100\n",
      "2124/2124 [==============================] - 319s 150ms/step - loss: 0.4784 - accuracy: 0.7749 - val_loss: 0.4599 - val_accuracy: 0.7831\n",
      "Epoch 5/100\n",
      "2124/2124 [==============================] - 318s 150ms/step - loss: 0.4611 - accuracy: 0.7869 - val_loss: 0.4442 - val_accuracy: 0.7934\n",
      "Epoch 6/100\n",
      "2124/2124 [==============================] - 320s 151ms/step - loss: 0.4481 - accuracy: 0.7950 - val_loss: 0.4382 - val_accuracy: 0.7973\n",
      "Epoch 7/100\n",
      "2124/2124 [==============================] - 320s 150ms/step - loss: 0.4391 - accuracy: 0.7999 - val_loss: 0.4274 - val_accuracy: 0.8034\n",
      "Epoch 8/100\n",
      "2124/2124 [==============================] - 319s 150ms/step - loss: 0.4325 - accuracy: 0.8040 - val_loss: 0.4204 - val_accuracy: 0.8079\n",
      "Epoch 9/100\n",
      "2124/2124 [==============================] - 318s 150ms/step - loss: 0.4266 - accuracy: 0.8070 - val_loss: 0.4306 - val_accuracy: 0.8027\n",
      "Epoch 10/100\n",
      "2124/2124 [==============================] - 319s 150ms/step - loss: 0.4220 - accuracy: 0.8089 - val_loss: 0.4145 - val_accuracy: 0.8115\n",
      "Epoch 11/100\n",
      "2124/2124 [==============================] - 315s 149ms/step - loss: 0.4179 - accuracy: 0.8113 - val_loss: 0.4103 - val_accuracy: 0.8135\n",
      "Epoch 12/100\n",
      "2124/2124 [==============================] - 288s 135ms/step - loss: 0.4153 - accuracy: 0.8127 - val_loss: 0.4085 - val_accuracy: 0.8147\n",
      "Epoch 13/100\n",
      "2124/2124 [==============================] - 289s 136ms/step - loss: 0.4123 - accuracy: 0.8140 - val_loss: 0.4059 - val_accuracy: 0.8157\n",
      "Epoch 14/100\n",
      "2124/2124 [==============================] - 293s 138ms/step - loss: 0.4101 - accuracy: 0.8153 - val_loss: 0.4041 - val_accuracy: 0.8167\n",
      "Epoch 15/100\n",
      "2124/2124 [==============================] - 289s 136ms/step - loss: 0.4081 - accuracy: 0.8162 - val_loss: 0.4020 - val_accuracy: 0.8179\n",
      "Epoch 16/100\n",
      "2124/2124 [==============================] - 293s 138ms/step - loss: 0.4061 - accuracy: 0.8170 - val_loss: 0.4008 - val_accuracy: 0.8193\n",
      "Epoch 17/100\n",
      "2124/2124 [==============================] - 294s 138ms/step - loss: 0.4046 - accuracy: 0.8177 - val_loss: 0.4003 - val_accuracy: 0.8197\n",
      "Epoch 18/100\n",
      "2124/2124 [==============================] - 291s 137ms/step - loss: 0.4030 - accuracy: 0.8184 - val_loss: 0.3978 - val_accuracy: 0.8205\n",
      "Epoch 19/100\n",
      "2124/2124 [==============================] - 292s 137ms/step - loss: 0.4009 - accuracy: 0.8195 - val_loss: 0.4015 - val_accuracy: 0.8194\n",
      "Epoch 20/100\n",
      "2124/2124 [==============================] - 313s 147ms/step - loss: 0.3998 - accuracy: 0.8200 - val_loss: 0.3969 - val_accuracy: 0.8210\n",
      "Epoch 21/100\n",
      "2124/2124 [==============================] - 318s 150ms/step - loss: 0.3988 - accuracy: 0.8204 - val_loss: 0.3949 - val_accuracy: 0.8224\n",
      "Epoch 22/100\n",
      "2124/2124 [==============================] - 322s 152ms/step - loss: 0.3969 - accuracy: 0.8212 - val_loss: 0.3936 - val_accuracy: 0.8224\n",
      "Epoch 23/100\n",
      "2124/2124 [==============================] - 319s 150ms/step - loss: 0.3956 - accuracy: 0.8219 - val_loss: 0.3929 - val_accuracy: 0.8228\n",
      "Epoch 24/100\n",
      "2124/2124 [==============================] - 316s 149ms/step - loss: 0.3944 - accuracy: 0.8227 - val_loss: 0.3945 - val_accuracy: 0.8230\n",
      "Epoch 25/100\n",
      "2124/2124 [==============================] - 321s 151ms/step - loss: 0.3934 - accuracy: 0.8232 - val_loss: 0.3916 - val_accuracy: 0.8234\n",
      "Epoch 26/100\n",
      "2124/2124 [==============================] - 316s 149ms/step - loss: 0.3923 - accuracy: 0.8236 - val_loss: 0.3898 - val_accuracy: 0.8256\n",
      "Epoch 27/100\n",
      "2124/2124 [==============================] - 317s 149ms/step - loss: 0.3914 - accuracy: 0.8243 - val_loss: 0.3897 - val_accuracy: 0.8247\n",
      "Epoch 28/100\n",
      "2124/2124 [==============================] - 319s 150ms/step - loss: 0.3903 - accuracy: 0.8245 - val_loss: 0.3880 - val_accuracy: 0.8254\n",
      "Epoch 29/100\n",
      "2124/2124 [==============================] - 320s 150ms/step - loss: 0.3895 - accuracy: 0.8252 - val_loss: 0.3894 - val_accuracy: 0.8249\n",
      "Epoch 30/100\n",
      "2124/2124 [==============================] - 314s 148ms/step - loss: 0.3883 - accuracy: 0.8257 - val_loss: 0.3876 - val_accuracy: 0.8267\n",
      "Epoch 31/100\n",
      "2124/2124 [==============================] - 311s 146ms/step - loss: 0.3875 - accuracy: 0.8261 - val_loss: 0.3872 - val_accuracy: 0.8266\n",
      "Epoch 32/100\n",
      "2124/2124 [==============================] - 314s 148ms/step - loss: 0.3868 - accuracy: 0.8265 - val_loss: 0.3884 - val_accuracy: 0.8256\n",
      "Epoch 33/100\n",
      "2124/2124 [==============================] - 315s 148ms/step - loss: 0.3860 - accuracy: 0.8272 - val_loss: 0.3884 - val_accuracy: 0.8256\n",
      "Epoch 34/100\n",
      "2124/2124 [==============================] - 315s 148ms/step - loss: 0.3849 - accuracy: 0.8274 - val_loss: 0.3851 - val_accuracy: 0.8270\n",
      "Epoch 35/100\n",
      "2124/2124 [==============================] - 317s 149ms/step - loss: 0.3841 - accuracy: 0.8285 - val_loss: 0.3851 - val_accuracy: 0.8269\n",
      "Epoch 36/100\n",
      "2124/2124 [==============================] - 313s 147ms/step - loss: 0.3832 - accuracy: 0.8285 - val_loss: 0.3845 - val_accuracy: 0.8278\n",
      "Epoch 37/100\n",
      "2124/2124 [==============================] - 312s 147ms/step - loss: 0.3823 - accuracy: 0.8289 - val_loss: 0.3843 - val_accuracy: 0.8282\n",
      "Epoch 38/100\n",
      "2124/2124 [==============================] - 313s 147ms/step - loss: 0.3816 - accuracy: 0.8296 - val_loss: 0.3830 - val_accuracy: 0.8279\n",
      "Epoch 39/100\n",
      "2124/2124 [==============================] - 315s 148ms/step - loss: 0.3809 - accuracy: 0.8299 - val_loss: 0.3828 - val_accuracy: 0.8289\n",
      "Epoch 40/100\n",
      "2124/2124 [==============================] - 315s 148ms/step - loss: 0.3801 - accuracy: 0.8304 - val_loss: 0.3804 - val_accuracy: 0.8292\n",
      "Epoch 41/100\n",
      "2124/2124 [==============================] - 311s 146ms/step - loss: 0.3792 - accuracy: 0.8307 - val_loss: 0.3813 - val_accuracy: 0.8295\n",
      "Epoch 42/100\n",
      "2124/2124 [==============================] - 313s 148ms/step - loss: 0.3785 - accuracy: 0.8310 - val_loss: 0.3819 - val_accuracy: 0.8292\n",
      "Epoch 43/100\n",
      "2124/2124 [==============================] - 314s 148ms/step - loss: 0.3778 - accuracy: 0.8317 - val_loss: 0.3804 - val_accuracy: 0.8302\n",
      "Epoch 44/100\n",
      "2124/2124 [==============================] - 315s 148ms/step - loss: 0.3771 - accuracy: 0.8318 - val_loss: 0.3789 - val_accuracy: 0.8306\n",
      "Epoch 45/100\n",
      "2124/2124 [==============================] - 313s 147ms/step - loss: 0.3764 - accuracy: 0.8324 - val_loss: 0.3789 - val_accuracy: 0.8305\n",
      "Epoch 46/100\n",
      "2124/2124 [==============================] - 314s 148ms/step - loss: 0.3757 - accuracy: 0.8322 - val_loss: 0.3798 - val_accuracy: 0.8301\n",
      "Epoch 47/100\n",
      "2124/2124 [==============================] - 312s 147ms/step - loss: 0.3750 - accuracy: 0.8328 - val_loss: 0.3779 - val_accuracy: 0.8314\n",
      "Epoch 48/100\n",
      "2124/2124 [==============================] - 315s 148ms/step - loss: 0.3745 - accuracy: 0.8335 - val_loss: 0.3772 - val_accuracy: 0.8314\n",
      "Epoch 49/100\n",
      "2124/2124 [==============================] - 315s 148ms/step - loss: 0.3738 - accuracy: 0.8332 - val_loss: 0.3793 - val_accuracy: 0.8303\n",
      "Epoch 50/100\n",
      "2124/2124 [==============================] - 315s 148ms/step - loss: 0.3729 - accuracy: 0.8341 - val_loss: 0.3772 - val_accuracy: 0.8312\n",
      "Epoch 51/100\n",
      "2124/2124 [==============================] - 310s 146ms/step - loss: 0.3725 - accuracy: 0.8342 - val_loss: 0.3765 - val_accuracy: 0.8316\n",
      "Epoch 52/100\n",
      "2124/2124 [==============================] - 317s 149ms/step - loss: 0.3719 - accuracy: 0.8343 - val_loss: 0.3769 - val_accuracy: 0.8315\n",
      "Epoch 53/100\n",
      "2124/2124 [==============================] - 313s 147ms/step - loss: 0.3712 - accuracy: 0.8343 - val_loss: 0.3775 - val_accuracy: 0.8313\n",
      "Epoch 54/100\n",
      "2124/2124 [==============================] - 316s 149ms/step - loss: 0.3707 - accuracy: 0.8349 - val_loss: 0.3762 - val_accuracy: 0.8316\n",
      "Epoch 55/100\n",
      "2124/2124 [==============================] - 316s 149ms/step - loss: 0.3703 - accuracy: 0.8353 - val_loss: 0.3752 - val_accuracy: 0.8325\n"
     ]
    },
    {
     "name": "stdout",
     "output_type": "stream",
     "text": [
      "Epoch 56/100\n",
      "2124/2124 [==============================] - 314s 148ms/step - loss: 0.3700 - accuracy: 0.8355 - val_loss: 0.3749 - val_accuracy: 0.8330\n",
      "Epoch 57/100\n",
      "2124/2124 [==============================] - 318s 150ms/step - loss: 0.3690 - accuracy: 0.8359 - val_loss: 0.3765 - val_accuracy: 0.8322\n",
      "Epoch 58/100\n",
      "2124/2124 [==============================] - 314s 148ms/step - loss: 0.3685 - accuracy: 0.8360 - val_loss: 0.3748 - val_accuracy: 0.8324\n",
      "Epoch 59/100\n",
      "2124/2124 [==============================] - 320s 150ms/step - loss: 0.3681 - accuracy: 0.8363 - val_loss: 0.3745 - val_accuracy: 0.8328\n",
      "Epoch 60/100\n",
      "2124/2124 [==============================] - 317s 149ms/step - loss: 0.3676 - accuracy: 0.8364 - val_loss: 0.3746 - val_accuracy: 0.8328\n",
      "Epoch 61/100\n",
      "2124/2124 [==============================] - 313s 147ms/step - loss: 0.3671 - accuracy: 0.8367 - val_loss: 0.3747 - val_accuracy: 0.8330\n",
      "Epoch 62/100\n",
      "2124/2124 [==============================] - 315s 148ms/step - loss: 0.3665 - accuracy: 0.8373 - val_loss: 0.3757 - val_accuracy: 0.8323\n",
      "Epoch 63/100\n",
      "2124/2124 [==============================] - 314s 148ms/step - loss: 0.3661 - accuracy: 0.8369 - val_loss: 0.3736 - val_accuracy: 0.8333\n",
      "Epoch 64/100\n",
      "2124/2124 [==============================] - 316s 149ms/step - loss: 0.3657 - accuracy: 0.8376 - val_loss: 0.3731 - val_accuracy: 0.8334\n",
      "Epoch 65/100\n",
      "2124/2124 [==============================] - 315s 148ms/step - loss: 0.3646 - accuracy: 0.8376 - val_loss: 0.3755 - val_accuracy: 0.8313\n",
      "Epoch 66/100\n",
      "2124/2124 [==============================] - 314s 148ms/step - loss: 0.3644 - accuracy: 0.8379 - val_loss: 0.3741 - val_accuracy: 0.8334\n",
      "Epoch 67/100\n",
      "2124/2124 [==============================] - 315s 148ms/step - loss: 0.3644 - accuracy: 0.8379 - val_loss: 0.3738 - val_accuracy: 0.8338\n",
      "Epoch 68/100\n",
      "2124/2124 [==============================] - 314s 148ms/step - loss: 0.3637 - accuracy: 0.8382 - val_loss: 0.3739 - val_accuracy: 0.8335\n",
      "Epoch 69/100\n",
      "2124/2124 [==============================] - 315s 148ms/step - loss: 0.3631 - accuracy: 0.8384 - val_loss: 0.3728 - val_accuracy: 0.8338\n",
      "Epoch 70/100\n",
      "2124/2124 [==============================] - 317s 149ms/step - loss: 0.3628 - accuracy: 0.8391 - val_loss: 0.3738 - val_accuracy: 0.8337\n",
      "Epoch 71/100\n",
      "2124/2124 [==============================] - 314s 148ms/step - loss: 0.3623 - accuracy: 0.8388 - val_loss: 0.3731 - val_accuracy: 0.8335\n",
      "Epoch 72/100\n",
      "2124/2124 [==============================] - 312s 147ms/step - loss: 0.3616 - accuracy: 0.8393 - val_loss: 0.3730 - val_accuracy: 0.8342\n",
      "Epoch 73/100\n",
      "2124/2124 [==============================] - 314s 148ms/step - loss: 0.3611 - accuracy: 0.8397 - val_loss: 0.3723 - val_accuracy: 0.8343\n",
      "Epoch 74/100\n",
      "2124/2124 [==============================] - 316s 149ms/step - loss: 0.3607 - accuracy: 0.8397 - val_loss: 0.3758 - val_accuracy: 0.8321\n",
      "Epoch 75/100\n",
      "2124/2124 [==============================] - 318s 150ms/step - loss: 0.3605 - accuracy: 0.8398 - val_loss: 0.3726 - val_accuracy: 0.8344\n",
      "Epoch 76/100\n",
      "2124/2124 [==============================] - 312s 147ms/step - loss: 0.3596 - accuracy: 0.8404 - val_loss: 0.3728 - val_accuracy: 0.8336\n",
      "Epoch 77/100\n",
      "2124/2124 [==============================] - 314s 148ms/step - loss: 0.3593 - accuracy: 0.8408 - val_loss: 0.3725 - val_accuracy: 0.8343\n",
      "Epoch 78/100\n",
      "2124/2124 [==============================] - 304s 143ms/step - loss: 0.3591 - accuracy: 0.8406 - val_loss: 0.3724 - val_accuracy: 0.8350\n",
      "Epoch 79/100\n",
      "2124/2124 [==============================] - 289s 136ms/step - loss: 0.3585 - accuracy: 0.8407 - val_loss: 0.3741 - val_accuracy: 0.8343\n",
      "Epoch 80/100\n",
      "2124/2124 [==============================] - 289s 136ms/step - loss: 0.3580 - accuracy: 0.8409 - val_loss: 0.3719 - val_accuracy: 0.8348\n",
      "Epoch 81/100\n",
      "2124/2124 [==============================] - 289s 136ms/step - loss: 0.3576 - accuracy: 0.8413 - val_loss: 0.3751 - val_accuracy: 0.8325\n",
      "Epoch 82/100\n",
      "2124/2124 [==============================] - 289s 136ms/step - loss: 0.3572 - accuracy: 0.8416 - val_loss: 0.3720 - val_accuracy: 0.8348\n",
      "Epoch 83/100\n",
      "2124/2124 [==============================] - 287s 135ms/step - loss: 0.3566 - accuracy: 0.8413 - val_loss: 0.3726 - val_accuracy: 0.8340\n",
      "Epoch 84/100\n",
      "2124/2124 [==============================] - 288s 136ms/step - loss: 0.3560 - accuracy: 0.8422 - val_loss: 0.3728 - val_accuracy: 0.8343\n",
      "Epoch 85/100\n",
      "2124/2124 [==============================] - 288s 136ms/step - loss: 0.3559 - accuracy: 0.8420 - val_loss: 0.3726 - val_accuracy: 0.8347\n",
      "Epoch 86/100\n",
      "2124/2124 [==============================] - 292s 137ms/step - loss: 0.3555 - accuracy: 0.8420 - val_loss: 0.3723 - val_accuracy: 0.8338\n",
      "Epoch 87/100\n",
      "2124/2124 [==============================] - 318s 150ms/step - loss: 0.3551 - accuracy: 0.8424 - val_loss: 0.3720 - val_accuracy: 0.8351\n",
      "Epoch 88/100\n",
      "2124/2124 [==============================] - 316s 149ms/step - loss: 0.3549 - accuracy: 0.8424 - val_loss: 0.3719 - val_accuracy: 0.8348\n",
      "Epoch 89/100\n",
      "2124/2124 [==============================] - 318s 150ms/step - loss: 0.3542 - accuracy: 0.8427 - val_loss: 0.3736 - val_accuracy: 0.8349\n",
      "Epoch 90/100\n",
      "2124/2124 [==============================] - 318s 150ms/step - loss: 0.3537 - accuracy: 0.8429 - val_loss: 0.3723 - val_accuracy: 0.8347\n",
      "Epoch 91/100\n",
      "2124/2124 [==============================] - 316s 149ms/step - loss: 0.3532 - accuracy: 0.8436 - val_loss: 0.3726 - val_accuracy: 0.8353\n",
      "Epoch 92/100\n",
      "2124/2124 [==============================] - 316s 149ms/step - loss: 0.3527 - accuracy: 0.8434 - val_loss: 0.3717 - val_accuracy: 0.8351\n",
      "Epoch 93/100\n",
      "2124/2124 [==============================] - 316s 149ms/step - loss: 0.3525 - accuracy: 0.8437 - val_loss: 0.3726 - val_accuracy: 0.8348\n",
      "Epoch 94/100\n",
      "2124/2124 [==============================] - 311s 146ms/step - loss: 0.3519 - accuracy: 0.8439 - val_loss: 0.3736 - val_accuracy: 0.8330\n",
      "Epoch 95/100\n",
      "2124/2124 [==============================] - 317s 149ms/step - loss: 0.3516 - accuracy: 0.8444 - val_loss: 0.3719 - val_accuracy: 0.8344\n",
      "Epoch 96/100\n",
      "2124/2124 [==============================] - 312s 147ms/step - loss: 0.3513 - accuracy: 0.8442 - val_loss: 0.3732 - val_accuracy: 0.8345\n",
      "Epoch 97/100\n",
      "2124/2124 [==============================] - 296s 139ms/step - loss: 0.3509 - accuracy: 0.8444 - val_loss: 0.3720 - val_accuracy: 0.8347\n",
      "Epoch 98/100\n",
      "2124/2124 [==============================] - 290s 137ms/step - loss: 0.3504 - accuracy: 0.8445 - val_loss: 0.3726 - val_accuracy: 0.8346\n",
      "Epoch 99/100\n",
      "2124/2124 [==============================] - 290s 136ms/step - loss: 0.3503 - accuracy: 0.8448 - val_loss: 0.3717 - val_accuracy: 0.8351\n",
      "Epoch 100/100\n",
      "2124/2124 [==============================] - 289s 136ms/step - loss: 0.3497 - accuracy: 0.8450 - val_loss: 0.3726 - val_accuracy: 0.8337\n"
     ]
    }
   ],
   "source": [
    "history = model_high.fit([h_train, pep_train, aa_train, en_train, ec_train, e1_train, e2_train],\n",
    "                    y_train, \n",
    "                    epochs=100,\n",
    "                    batch_size=256,\n",
    "                    validation_data=([h_val, pep_val, aa_val, en_val, ec_val, e1_val, e2_val], y_val),\n",
    "                    callbacks=[es]\n",
    "                        )"
   ]
  },
  {
   "cell_type": "code",
   "execution_count": 30,
   "metadata": {
    "ExecuteTime": {
     "end_time": "2021-11-27T18:02:56.230575Z",
     "start_time": "2021-11-27T18:02:55.896077Z"
    }
   },
   "outputs": [
    {
     "data": {
      "image/png": "[encoded data removed]",
      "text/plain": [
       "<Figure size 1600x200 with 1 Axes>"
      ]
     },
     "metadata": {},
     "output_type": "display_data"
    },
    {
     "data": {
      "image/png": "[encoded data removed]",
      "text/plain": [
       "<Figure size 640x480 with 1 Axes>"
      ]
     },
     "metadata": {},
     "output_type": "display_data"
    }
   ],
   "source": [
    "plt.figure(figsize=(16,2))\n",
    "plt.subplot(1,2,1)\n",
    "plot_graphs(history, 'accuracy')\n",
    "plt.subplot(1,2,2)\n",
    "plot_graphs(history, 'loss')"
   ]
  },
  {
   "cell_type": "markdown",
   "metadata": {},
   "source": [
    "# eval"
   ]
  },
  {
   "cell_type": "code",
   "execution_count": 33,
   "metadata": {
    "ExecuteTime": {
     "end_time": "2021-11-27T18:09:49.571583Z",
     "start_time": "2021-11-27T18:03:31.248414Z"
    },
    "scrolled": false
   },
   "outputs": [
    {
     "name": "stdout",
     "output_type": "stream",
     "text": [
      "4188/4188 [==============================] - 131s 31ms/step - loss: 0.3735 - accuracy: 0.8327\n",
      "Test Loss: 0.37354886531829834\n",
      "Test Accuracy: 0.8327288031578064\n",
      "              precision    recall  f1-score   support\n",
      "\n",
      "           0       0.88      0.77      0.82     66996\n",
      "           1       0.80      0.89      0.84     66996\n",
      "\n",
      "    accuracy                           0.83    133992\n",
      "   macro avg       0.84      0.83      0.83    133992\n",
      "weighted avg       0.84      0.83      0.83    133992\n",
      "\n",
      "rf auc : 0.9173071689609374\n"
     ]
    },
    {
     "data": {
      "image/png": "[encoded data removed]",
      "text/plain": [
       "<Figure size 400x400 with 1 Axes>"
      ]
     },
     "metadata": {},
     "output_type": "display_data"
    },
    {
     "data": {
      "image/png": "[encoded data removed]",
      "text/plain": [
       "<Figure size 300x300 with 2 Axes>"
      ]
     },
     "metadata": {},
     "output_type": "display_data"
    },
    {
     "data": {
      "image/png": "[encoded data removed]",
      "text/plain": [
       "<Figure size 300x300 with 2 Axes>"
      ]
     },
     "metadata": {},
     "output_type": "display_data"
    }
   ],
   "source": [
    "test_loss, test_acc = model_high.evaluate([h_test, pep_test, aa_test, en_test, ec_test, e1_test, e2_test], y_test)\n",
    "print('Test Loss: {}'.format(test_loss))\n",
    "print('Test Accuracy: {}'.format(test_acc))\n",
    "\n",
    "# prediction\n",
    "y_pred = [1 if i>=0.5 else 0 for i in model_high.predict([h_test, pep_test, aa_test, en_test, ec_test, e1_test, e2_test])]\n",
    "print(classification_report(y_test, y_pred))\n",
    "# AUC\n",
    "probs = model_high.predict([h_test, pep_test, aa_test, en_test, ec_test, e1_test, e2_test])\n",
    "rf_auc = roc_auc_score(y_test, probs)\n",
    "print('rf auc : {}'.format(rf_auc))\n",
    "# plot the roc curve for the model_high\n",
    "rf_fpr, rf_tpr, _ = roc_curve(y_test, probs)\n",
    "plt.figure(figsize=(4, 4))\n",
    "plt.plot(rf_fpr, rf_tpr, marker='.', label='RF AUC = {:.4f}'.format(rf_auc), color='orange')\n",
    "plt.title('ROC curve')\n",
    "# axis labels\n",
    "plt.xlabel('False Positive Rate')\n",
    "plt.ylabel('True Positive Rate')\n",
    "# show the legend\n",
    "plt.legend()\n",
    "# show the plot\n",
    "plt.show()\n",
    "\n",
    "cf_matrix = confusion_matrix(y_test, y_pred)\n",
    "plt.figure(figsize=(3, 3))\n",
    "sns.heatmap(cf_matrix, annot=True, fmt=',.0f')\n",
    "plt.show()\n",
    "plt.figure(figsize=(3, 3))\n",
    "sns.heatmap(cf_matrix/np.sum(cf_matrix), annot=True, \n",
    "            fmt='.2%', cmap='Blues')\n",
    "plt.show()"
   ]
  },
  {
   "cell_type": "code",
   "execution_count": 199,
   "metadata": {
    "ExecuteTime": {
     "end_time": "2021-11-22T03:54:22.714246Z",
     "start_time": "2021-11-22T03:54:22.711822Z"
    }
   },
   "outputs": [],
   "source": [
    "# # Calling `save('my_model.h5')` creates a h5 file `my_model.h5`.\n",
    "# model_high.save(\"compareModel/2021KSBi_multi_ms2/\")\n",
    "\n",
    "# # It can be used to reconstruct the model identically.\n",
    "# model_high_re = keras.models.load_model(\"compareModel/2021KSBi_multi_ms2/\")"
   ]
  }
 ],
 "metadata": {
  "kernelspec": {
   "display_name": "TF2.4",
   "language": "python",
   "name": "tf2.4"
  },
  "language_info": {
   "codemirror_mode": {
    "name": "ipython",
    "version": 3
   },
   "file_extension": ".py",
   "mimetype": "text/x-python",
   "name": "python",
   "nbconvert_exporter": "python",
   "pygments_lexer": "ipython3",
   "version": "3.7.0"
  }
 },
 "nbformat": 4,
 "nbformat_minor": 4
}
