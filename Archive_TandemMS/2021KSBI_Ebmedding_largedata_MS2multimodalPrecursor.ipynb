{
 "cells": [
  {
   "cell_type": "code",
   "execution_count": 1,
   "metadata": {
    "ExecuteTime": {
     "end_time": "2021-11-27T19:36:57.695095Z",
     "start_time": "2021-11-27T19:36:56.871035Z"
    }
   },
   "outputs": [],
   "source": [
    "import pandas as pd\n",
    "import numpy as np\n",
    "import matplotlib.pyplot as plt\n",
    "import seaborn as sns\n",
    "from sklearn.metrics import classification_report\n",
    "from sklearn.metrics import confusion_matrix\n",
    "from sklearn.metrics import roc_curve\n",
    "from sklearn.metrics import roc_auc_score\n",
    "from sklearn.model_selection import train_test_split\n",
    "\n",
    "import time"
   ]
  },
  {
   "cell_type": "code",
   "execution_count": 2,
   "metadata": {
    "ExecuteTime": {
     "end_time": "2021-11-27T19:36:57.705449Z",
     "start_time": "2021-11-27T19:36:57.696628Z"
    }
   },
   "outputs": [
    {
     "name": "stdout",
     "output_type": "stream",
     "text": [
      "(19, 21)\n"
     ]
    }
   ],
   "source": [
    "df_aaindex = pd.read_csv('../data/aaindex/df_aaindex19.csv')\n",
    "print(df_aaindex.shape)\n",
    "df_aaindex.head(1)\n",
    "tmp = df_aaindex.drop('Unnamed: 0',axis=1).T\n",
    "aa2val = dict()\n",
    "for aa, val in zip(tmp.index, tmp.values):\n",
    "    aa2val[aa]=val"
   ]
  },
  {
   "cell_type": "code",
   "execution_count": 3,
   "metadata": {
    "ExecuteTime": {
     "end_time": "2021-11-27T19:37:00.319269Z",
     "start_time": "2021-11-27T19:36:57.706639Z"
    }
   },
   "outputs": [],
   "source": [
    "df_detect_peptide_train = pd.read_csv('../data/df_detect_peptide_train.csv')\n",
    "test = pd.read_csv('../data/df_detect_peptide_test.csv')\n",
    "train, val = train_test_split(df_detect_peptide_train, test_size=0.2, random_state=7)"
   ]
  },
  {
   "cell_type": "code",
   "execution_count": 4,
   "metadata": {
    "ExecuteTime": {
     "end_time": "2021-11-27T19:37:00.333048Z",
     "start_time": "2021-11-27T19:37:00.320730Z"
    }
   },
   "outputs": [
    {
     "data": {
      "text/html": [
       "<div>\n",
       "<style scoped>\n",
       "    .dataframe tbody tr th:only-of-type {\n",
       "        vertical-align: middle;\n",
       "    }\n",
       "\n",
       "    .dataframe tbody tr th {\n",
       "        vertical-align: top;\n",
       "    }\n",
       "\n",
       "    .dataframe thead th {\n",
       "        text-align: right;\n",
       "    }\n",
       "</style>\n",
       "<table border=\"1\" class=\"dataframe\">\n",
       "  <thead>\n",
       "    <tr style=\"text-align: right;\">\n",
       "      <th></th>\n",
       "      <th>peptide</th>\n",
       "      <th>En</th>\n",
       "      <th>Ec</th>\n",
       "      <th>E1</th>\n",
       "      <th>E2</th>\n",
       "      <th>protein</th>\n",
       "      <th>PEP</th>\n",
       "      <th>ID</th>\n",
       "    </tr>\n",
       "  </thead>\n",
       "  <tbody>\n",
       "    <tr>\n",
       "      <th>595411</th>\n",
       "      <td>K.QELNEPPKQSTSFLVLQEILESEEKGDPNK.P</td>\n",
       "      <td>VYKMLQEKQELNEPP</td>\n",
       "      <td>EEKGDPNKPSGFRSV</td>\n",
       "      <td>QELNEPPKQSTSFLV</td>\n",
       "      <td>EILESEEKGDPNKPS</td>\n",
       "      <td>sp|O00151|PDLI1_HUMAN</td>\n",
       "      <td>QELNEPPKQSTSFLVLQEILESEEKGDPNK</td>\n",
       "      <td>0</td>\n",
       "    </tr>\n",
       "  </tbody>\n",
       "</table>\n",
       "</div>"
      ],
      "text/plain": [
       "                                   peptide               En               Ec  \\\n",
       "595411  K.QELNEPPKQSTSFLVLQEILESEEKGDPNK.P  VYKMLQEKQELNEPP  EEKGDPNKPSGFRSV   \n",
       "\n",
       "                     E1               E2                protein  \\\n",
       "595411  QELNEPPKQSTSFLV  EILESEEKGDPNKPS  sp|O00151|PDLI1_HUMAN   \n",
       "\n",
       "                                   PEP  ID  \n",
       "595411  QELNEPPKQSTSFLVLQEILESEEKGDPNK   0  "
      ]
     },
     "execution_count": 4,
     "metadata": {},
     "output_type": "execute_result"
    }
   ],
   "source": [
    "train.head(1)"
   ]
  },
  {
   "cell_type": "markdown",
   "metadata": {},
   "source": [
    "# MS2"
   ]
  },
  {
   "cell_type": "code",
   "execution_count": 5,
   "metadata": {
    "ExecuteTime": {
     "end_time": "2021-11-27T19:37:32.139914Z",
     "start_time": "2021-11-27T19:37:00.334099Z"
    }
   },
   "outputs": [],
   "source": [
    "df_ms2 = pd.read_csv('df_modeling_211124_result.msms', sep='\\t')"
   ]
  },
  {
   "cell_type": "code",
   "execution_count": 6,
   "metadata": {
    "ExecuteTime": {
     "end_time": "2021-11-27T19:37:32.150645Z",
     "start_time": "2021-11-27T19:37:32.141998Z"
    }
   },
   "outputs": [
    {
     "name": "stdout",
     "output_type": "stream",
     "text": [
      "(2385750, 5)\n"
     ]
    },
    {
     "data": {
      "text/html": [
       "<div>\n",
       "<style scoped>\n",
       "    .dataframe tbody tr th:only-of-type {\n",
       "        vertical-align: middle;\n",
       "    }\n",
       "\n",
       "    .dataframe tbody tr th {\n",
       "        vertical-align: top;\n",
       "    }\n",
       "\n",
       "    .dataframe thead th {\n",
       "        text-align: right;\n",
       "    }\n",
       "</style>\n",
       "<table border=\"1\" class=\"dataframe\">\n",
       "  <thead>\n",
       "    <tr style=\"text-align: right;\">\n",
       "      <th></th>\n",
       "      <th>Intensities</th>\n",
       "      <th>Masses</th>\n",
       "      <th>Matches</th>\n",
       "      <th>Modified Sequence</th>\n",
       "      <th>Charge</th>\n",
       "    </tr>\n",
       "  </thead>\n",
       "  <tbody>\n",
       "    <tr>\n",
       "      <th>0</th>\n",
       "      <td>0.16607068;0.22559804;1.0;0.10618063;0.1724560...</td>\n",
       "      <td>147.112804167;261.155731167;358.20849516699997...</td>\n",
       "      <td>y1;y2;y3;y4;y5;y6;y7;y8;y9;y10;y11;y12;y13;y14...</td>\n",
       "      <td>QELNEPPKQSTSFLVLQEILESEEKGDPNK</td>\n",
       "      <td>3</td>\n",
       "    </tr>\n",
       "  </tbody>\n",
       "</table>\n",
       "</div>"
      ],
      "text/plain": [
       "                                         Intensities  \\\n",
       "0  0.16607068;0.22559804;1.0;0.10618063;0.1724560...   \n",
       "\n",
       "                                              Masses  \\\n",
       "0  147.112804167;261.155731167;358.20849516699997...   \n",
       "\n",
       "                                             Matches  \\\n",
       "0  y1;y2;y3;y4;y5;y6;y7;y8;y9;y10;y11;y12;y13;y14...   \n",
       "\n",
       "                Modified Sequence  Charge  \n",
       "0  QELNEPPKQSTSFLVLQEILESEEKGDPNK       3  "
      ]
     },
     "execution_count": 6,
     "metadata": {},
     "output_type": "execute_result"
    }
   ],
   "source": [
    "print(df_ms2.shape)\n",
    "df_ms2.head(1)"
   ]
  },
  {
   "cell_type": "code",
   "execution_count": 7,
   "metadata": {
    "ExecuteTime": {
     "end_time": "2021-11-27T19:37:32.163812Z",
     "start_time": "2021-11-27T19:37:32.151989Z"
    }
   },
   "outputs": [],
   "source": [
    "def get_ion_type():\n",
    "    # y1 ~ y29, b1 ~ b29, y1(2+) ~ y29(2+), ... , b1(3+) ~ b29(3+)\n",
    "    ion_num_arr = list(map(str, range(1, 30)))\n",
    "    ion_type_arr = ['y', 'b']\n",
    "    ion_charge_arr = ['', '(2+)', '(3+)']\n",
    "    ion_arr = []\n",
    "    for ic in ion_charge_arr:\n",
    "        for it in ion_type_arr:\n",
    "            for inum in ion_num_arr:\n",
    "                ion_arr.append(it+inum+ic)\n",
    "    return ion_arr\n",
    "\n",
    "def ms_to_174(intens, matches):\n",
    "    i = list(map(float, intens.split(';')))\n",
    "    m = matches.split(';')\n",
    "    ion_dic = {k:v for k, v in zip(m, i)}\n",
    "\n",
    "    ion_arr = get_ion_type()\n",
    "    for ion in ion_arr:\n",
    "        if ion not in ion_dic:\n",
    "            ion_dic[ion] = 0\n",
    "    return ion_dic\n",
    "\n",
    "def ms_to_29(intens, matches, pep):\n",
    "    i = list(map(float, intens.split(';')))\n",
    "    m = matches.split(';')\n",
    "    ion_dic = {k:v for k, v in zip(m, i)}\n",
    "\n",
    "    ion_arr = get_ion_type()\n",
    "    for ion in ion_arr:\n",
    "        if ion not in ion_dic:\n",
    "            ion_dic[ion] = 0\n",
    "    \n",
    "    # fragmentation part\n",
    "    ion_y1c = ['y' + str(i) for i in range(1, len(pep))]\n",
    "    ion_y2c = ['y' + str(i) + '(2+)' for i in range(1, len(pep))]\n",
    "    ion_y3c = ['y' + str(i) + '(3+)' for i in range(1, len(pep))]\n",
    "    ion_b1c = ['b' + str(i) for i in range(len(pep)-1, 0, -1)]\n",
    "    ion_b2c = ['b' + str(i) + '(2+)' for i in range(len(pep)-1, 0, -1)]\n",
    "    ion_b3c = ['b' + str(i) + '(3+)'  for i in range(len(pep)-1, 0, -1)]\n",
    "    \n",
    "    ion_sum = {i:0 for i in range(1, 30)}\n",
    "    for idx, i in enumerate(range(1, len(pep))):\n",
    "        y1c = ion_dic[ion_y1c[idx]]\n",
    "        y2c = ion_dic[ion_y2c[idx]]\n",
    "        y3c = ion_dic[ion_y3c[idx]]\n",
    "        b1c = ion_dic[ion_b1c[idx]]\n",
    "        b2c = ion_dic[ion_b2c[idx]]\n",
    "        b3c = ion_dic[ion_b3c[idx]]\n",
    "        \n",
    "        ion_sum[i] = y1c + y2c + y3c + b1c + b2c + b3c\n",
    "    \n",
    "    return list(np.array(sorted(ion_sum.items()))[:, 1])"
   ]
  },
  {
   "cell_type": "code",
   "execution_count": 8,
   "metadata": {
    "ExecuteTime": {
     "end_time": "2021-11-27T19:43:11.317186Z",
     "start_time": "2021-11-27T19:37:32.164805Z"
    }
   },
   "outputs": [
    {
     "name": "stdout",
     "output_type": "stream",
     "text": [
      "time:  339.14 sec\n"
     ]
    }
   ],
   "source": [
    "s = time.time()\n",
    "\n",
    "p2ms2 = dict()\n",
    "for i, m, p, c in df_ms2[['Intensities', 'Matches', 'Modified Sequence', 'Charge']].values:\n",
    "    if p not in p2ms2:\n",
    "        p2ms2[p] = {k:[0 for _ in range(1, 30)] for k in range(1, 6)}\n",
    "    p2ms2[p][c] = ms_to_29(i, m, p)\n",
    "\n",
    "e = time.time()\n",
    "print('time: ', round(e-s, 2), 'sec')"
   ]
  },
  {
   "cell_type": "markdown",
   "metadata": {},
   "source": [
    "# data argumentation"
   ]
  },
  {
   "cell_type": "code",
   "execution_count": 9,
   "metadata": {
    "ExecuteTime": {
     "end_time": "2021-11-27T19:43:56.248113Z",
     "start_time": "2021-11-27T19:43:11.318661Z"
    }
   },
   "outputs": [],
   "source": [
    "df_peptide = pd.read_csv('../data/massIVE-KB/df_kb_strip.csv')"
   ]
  },
  {
   "cell_type": "code",
   "execution_count": 10,
   "metadata": {
    "ExecuteTime": {
     "end_time": "2021-11-27T19:43:56.258321Z",
     "start_time": "2021-11-27T19:43:56.249728Z"
    }
   },
   "outputs": [
    {
     "name": "stdout",
     "output_type": "stream",
     "text": [
      "(1457872, 6)\n"
     ]
    },
    {
     "data": {
      "text/html": [
       "<div>\n",
       "<style scoped>\n",
       "    .dataframe tbody tr th:only-of-type {\n",
       "        vertical-align: middle;\n",
       "    }\n",
       "\n",
       "    .dataframe tbody tr th {\n",
       "        vertical-align: top;\n",
       "    }\n",
       "\n",
       "    .dataframe thead th {\n",
       "        text-align: right;\n",
       "    }\n",
       "</style>\n",
       "<table border=\"1\" class=\"dataframe\">\n",
       "  <thead>\n",
       "    <tr style=\"text-align: right;\">\n",
       "      <th></th>\n",
       "      <th>CHARGE</th>\n",
       "      <th>PEPTIDE</th>\n",
       "      <th>PROTEINS</th>\n",
       "      <th>SPECTRAL_CNT</th>\n",
       "      <th>MZ</th>\n",
       "      <th>INTENSITY</th>\n",
       "    </tr>\n",
       "  </thead>\n",
       "  <tbody>\n",
       "    <tr>\n",
       "      <th>0</th>\n",
       "      <td>2</td>\n",
       "      <td>LNDNEVSVLEATGIFK</td>\n",
       "      <td>sp|O75094|SLIT3_HUMAN</td>\n",
       "      <td>9</td>\n",
       "      <td>120.08068084716797;129.10238647460938;130.0859...</td>\n",
       "      <td>38134.0859375;78987.125;42591.8046875;110454.2...</td>\n",
       "    </tr>\n",
       "    <tr>\n",
       "      <th>1</th>\n",
       "      <td>2</td>\n",
       "      <td>VLMFSPAVSK</td>\n",
       "      <td>sp|Q9UL01|DSE_HUMAN</td>\n",
       "      <td>10</td>\n",
       "      <td>84.04532623291016;84.08163452148438;86.0973129...</td>\n",
       "      <td>14571.486328125;37760.48828125;322510.96875;12...</td>\n",
       "    </tr>\n",
       "  </tbody>\n",
       "</table>\n",
       "</div>"
      ],
      "text/plain": [
       "   CHARGE           PEPTIDE               PROTEINS  SPECTRAL_CNT  \\\n",
       "0       2  LNDNEVSVLEATGIFK  sp|O75094|SLIT3_HUMAN             9   \n",
       "1       2        VLMFSPAVSK    sp|Q9UL01|DSE_HUMAN            10   \n",
       "\n",
       "                                                  MZ  \\\n",
       "0  120.08068084716797;129.10238647460938;130.0859...   \n",
       "1  84.04532623291016;84.08163452148438;86.0973129...   \n",
       "\n",
       "                                           INTENSITY  \n",
       "0  38134.0859375;78987.125;42591.8046875;110454.2...  \n",
       "1  14571.486328125;37760.48828125;322510.96875;12...  "
      ]
     },
     "execution_count": 10,
     "metadata": {},
     "output_type": "execute_result"
    }
   ],
   "source": [
    "print(df_peptide.shape)\n",
    "df_peptide.head(2)"
   ]
  },
  {
   "cell_type": "code",
   "execution_count": 11,
   "metadata": {
    "ExecuteTime": {
     "end_time": "2021-11-27T19:43:58.047975Z",
     "start_time": "2021-11-27T19:43:56.259301Z"
    }
   },
   "outputs": [],
   "source": [
    "pc_set = {(p,c) for p, c in df_peptide[['PEPTIDE', 'CHARGE']].values}"
   ]
  },
  {
   "cell_type": "code",
   "execution_count": 12,
   "metadata": {
    "ExecuteTime": {
     "end_time": "2021-11-27T19:44:03.511120Z",
     "start_time": "2021-11-27T19:43:58.049118Z"
    }
   },
   "outputs": [],
   "source": [
    "pep2charge_pred = dict()\n",
    "for p, c in df_ms2[['Modified Sequence', 'Charge']].values:\n",
    "    if p not in pep2charge_pred:\n",
    "        pep2charge_pred[p] = []\n",
    "    pep2charge_pred[p].append(c)"
   ]
  },
  {
   "cell_type": "code",
   "execution_count": 13,
   "metadata": {
    "ExecuteTime": {
     "end_time": "2021-11-27T19:44:03.516158Z",
     "start_time": "2021-11-27T19:44:03.512278Z"
    }
   },
   "outputs": [],
   "source": [
    "def p2pcdf(df):\n",
    "    data = []\n",
    "    for p, nterm, cterm, m1, m2, prot, pep, lab in df.values:\n",
    "        for c in pep2charge_pred[pep]:\n",
    "            if (pep, c) in pc_set:\n",
    "                lab=1\n",
    "            else:\n",
    "                lab=0\n",
    "            data.append([p, nterm, cterm, m1, m2, prot, pep, c, ';'.join(map(str, p2ms2[pep][c])), lab])\n",
    "    pcdf = pd.DataFrame(data, columns=[['peptide', 'En', 'Ec', 'E1', 'E2', 'protein', 'PEP', 'CHARGE', 'MS2', 'ID']])\n",
    "    return pcdf"
   ]
  },
  {
   "cell_type": "code",
   "execution_count": 14,
   "metadata": {
    "ExecuteTime": {
     "end_time": "2021-11-27T19:44:46.752254Z",
     "start_time": "2021-11-27T19:44:03.517782Z"
    }
   },
   "outputs": [],
   "source": [
    "train_pc = p2pcdf(train)\n",
    "val_pc = p2pcdf(val)\n",
    "test_pc = p2pcdf(test)"
   ]
  },
  {
   "cell_type": "code",
   "execution_count": 15,
   "metadata": {
    "ExecuteTime": {
     "end_time": "2021-11-27T19:44:46.805353Z",
     "start_time": "2021-11-27T19:44:46.753716Z"
    }
   },
   "outputs": [
    {
     "name": "stdout",
     "output_type": "stream",
     "text": [
      "(543516, 8) (135880, 8) (133992, 8)\n",
      "(1625898, 10) (406243, 10) (400232, 10)\n",
      "(ID,)\n",
      "0        1158014\n",
      "1         467884\n",
      "dtype: int64 (ID,)\n",
      "0        289145\n",
      "1        117098\n",
      "dtype: int64 (ID,)\n",
      "0        296236\n",
      "1        103996\n",
      "dtype: int64\n"
     ]
    }
   ],
   "source": [
    "print(train.shape, val.shape, test.shape)\n",
    "print(train_pc.shape, val_pc.shape, test_pc.shape)\n",
    "print(train_pc.ID.value_counts(), val_pc.ID.value_counts(), test_pc.ID.value_counts())"
   ]
  },
  {
   "cell_type": "code",
   "execution_count": 16,
   "metadata": {
    "ExecuteTime": {
     "end_time": "2021-11-27T19:44:46.813467Z",
     "start_time": "2021-11-27T19:44:46.806462Z"
    }
   },
   "outputs": [],
   "source": [
    "def get_data_labelEnc(df):\n",
    "    label_enc = {v:k+1 for k, v in enumerate('ARNDCQEGHILKMFPSTWYV')}\n",
    "    label_enc['Z']=0\n",
    "    aa_data = [np.array([list(seq[0]).count(a) for a in 'ARNDCQEGHILKMFPSTWYV'] + list(np.array([aa2val[aa] for aa in seq[0]]).sum(axis=0)))\n",
    "               for seq in df.PEP.values]\n",
    "    pep_data = [[label_enc[aa] for aa in seq[0]] + [0]*(30-len(seq[0]))\n",
    "               for seq in df.PEP.values]\n",
    "    en_data = [[label_enc[aa] for aa in seq[0]]\n",
    "               for seq in df.En.values]\n",
    "    ec_data = [[label_enc[aa] for aa in seq[0]]\n",
    "               for seq in df.Ec.values]\n",
    "    e1_data = [[label_enc[aa] for aa in seq[0]]\n",
    "               if seq != '-' else [0 for _ in range(15)]\n",
    "               for seq in df.E1.values]\n",
    "    e2_data = [[label_enc[aa] for aa in seq[0]]\n",
    "               if seq != '-' else [0 for _ in range(15)]\n",
    "               for seq in df.E2.values]\n",
    "    ms_data = [list(map(float, ms2[0].split(';'))) for ms2 in df.MS2.values]\n",
    "    return np.array(aa_data), np.array(pep_data), np.array(en_data), np.array(ec_data), np.array(e1_data), np.array(e2_data), np.array(ms_data), np.array(df.ID.values)"
   ]
  },
  {
   "cell_type": "code",
   "execution_count": 17,
   "metadata": {
    "ExecuteTime": {
     "end_time": "2021-11-27T19:47:47.545950Z",
     "start_time": "2021-11-27T19:44:46.814440Z"
    }
   },
   "outputs": [
    {
     "name": "stdout",
     "output_type": "stream",
     "text": [
      "(1625898, 39) (1625898, 30) (1625898, 15) (1625898, 15) (1625898, 15) (1625898, 15) (1625898, 29) (1625898, 1)\n",
      "(406243, 39) (406243, 30) (406243, 15) (406243, 15) (406243, 15) (406243, 15) (406243, 29) (406243, 1)\n",
      "(400232, 39) (400232, 30) (400232, 15) (400232, 15) (400232, 15) (400232, 15) (400232, 29) (400232, 1)\n"
     ]
    }
   ],
   "source": [
    "aa_train, pep_train, en_train, ec_train, e1_train, e2_train, ms2_train, y_train = get_data_labelEnc(train_pc)\n",
    "aa_val, pep_val, en_val, ec_val, e1_val, e2_val, ms2_val, y_val = get_data_labelEnc(val_pc)\n",
    "aa_test, pep_test, en_test, ec_test, e1_test, e2_test, ms2_test, y_test = get_data_labelEnc(test_pc)\n",
    "print(aa_train.shape, pep_train.shape, en_train.shape, ec_train.shape, e1_train.shape, e2_train.shape, ms2_train.shape, y_train.shape)\n",
    "print(aa_val.shape, pep_val.shape, en_val.shape, ec_val.shape, e1_val.shape, e2_val.shape, ms2_val.shape, y_val.shape)\n",
    "print(aa_test.shape, pep_test.shape, en_test.shape, ec_test.shape, e1_test.shape, e2_test.shape, ms2_test.shape, y_test.shape)"
   ]
  },
  {
   "cell_type": "markdown",
   "metadata": {},
   "source": [
    "# Train"
   ]
  },
  {
   "cell_type": "code",
   "execution_count": 18,
   "metadata": {
    "ExecuteTime": {
     "end_time": "2021-11-27T19:47:48.597031Z",
     "start_time": "2021-11-27T19:47:47.547226Z"
    }
   },
   "outputs": [],
   "source": [
    "from tensorflow.python.client import device_lib\n",
    "\n",
    "import tensorflow as tf\n",
    "gpus = tf.config.experimental.list_physical_devices('GPU')\n",
    "if gpus:\n",
    "    try:\n",
    "        tf.config.experimental.set_virtual_device_configuration(gpus[0],\n",
    "        [tf.config.experimental.VirtualDeviceConfiguration(memory_limit=1024*4)])\n",
    "    except RuntimeError as e:\n",
    "        print(e)\n",
    "\n",
    "from tensorflow import keras"
   ]
  },
  {
   "cell_type": "code",
   "execution_count": 19,
   "metadata": {
    "ExecuteTime": {
     "end_time": "2021-11-27T19:47:48.601149Z",
     "start_time": "2021-11-27T19:47:48.598341Z"
    }
   },
   "outputs": [],
   "source": [
    "def plot_graphs(history, metric):\n",
    "    plt.plot(history.history[metric])\n",
    "    plt.plot(history.history['val_'+metric], '')\n",
    "    plt.xlabel(\"Epochs\")\n",
    "    plt.ylabel(metric)\n",
    "    plt.legend([metric, 'val_'+metric])\n",
    "    plt.show()"
   ]
  },
  {
   "cell_type": "markdown",
   "metadata": {},
   "source": [
    "# high param"
   ]
  },
  {
   "cell_type": "code",
   "execution_count": 20,
   "metadata": {
    "ExecuteTime": {
     "end_time": "2021-11-27T19:47:56.407359Z",
     "start_time": "2021-11-27T19:47:48.602127Z"
    },
    "scrolled": true
   },
   "outputs": [
    {
     "name": "stdout",
     "output_type": "stream",
     "text": [
      "Model: \"model\"\n",
      "__________________________________________________________________________________________________\n",
      "Layer (type)                    Output Shape         Param #     Connected to                     \n",
      "==================================================================================================\n",
      "input_1 (InputLayer)            [(None, 30)]         0                                            \n",
      "__________________________________________________________________________________________________\n",
      "input_3 (InputLayer)            [(None, 15)]         0                                            \n",
      "__________________________________________________________________________________________________\n",
      "input_4 (InputLayer)            [(None, 15)]         0                                            \n",
      "__________________________________________________________________________________________________\n",
      "input_5 (InputLayer)            [(None, 15)]         0                                            \n",
      "__________________________________________________________________________________________________\n",
      "input_6 (InputLayer)            [(None, 15)]         0                                            \n",
      "__________________________________________________________________________________________________\n",
      "embedding (Embedding)           (None, 30, 128)      2688        input_1[0][0]                    \n",
      "__________________________________________________________________________________________________\n",
      "embedding_1 (Embedding)         (None, 15, 32)       672         input_3[0][0]                    \n",
      "__________________________________________________________________________________________________\n",
      "embedding_2 (Embedding)         (None, 15, 32)       672         input_4[0][0]                    \n",
      "__________________________________________________________________________________________________\n",
      "embedding_3 (Embedding)         (None, 15, 32)       672         input_5[0][0]                    \n",
      "__________________________________________________________________________________________________\n",
      "embedding_4 (Embedding)         (None, 15, 32)       672         input_6[0][0]                    \n",
      "__________________________________________________________________________________________________\n",
      "dropout (Dropout)               (None, 30, 128)      0           embedding[0][0]                  \n",
      "__________________________________________________________________________________________________\n",
      "dropout_1 (Dropout)             (None, 15, 32)       0           embedding_1[0][0]                \n",
      "__________________________________________________________________________________________________\n",
      "dropout_2 (Dropout)             (None, 15, 32)       0           embedding_2[0][0]                \n",
      "__________________________________________________________________________________________________\n",
      "dropout_3 (Dropout)             (None, 15, 32)       0           embedding_3[0][0]                \n",
      "__________________________________________________________________________________________________\n",
      "dropout_4 (Dropout)             (None, 15, 32)       0           embedding_4[0][0]                \n",
      "__________________________________________________________________________________________________\n",
      "bidirectional_4 (Bidirectional) (None, 64)           41216       dropout[0][0]                    \n",
      "__________________________________________________________________________________________________\n",
      "input_2 (InputLayer)            [(None, 39)]         0                                            \n",
      "__________________________________________________________________________________________________\n",
      "bidirectional (Bidirectional)   (None, 64)           16640       dropout_1[0][0]                  \n",
      "__________________________________________________________________________________________________\n",
      "bidirectional_1 (Bidirectional) (None, 64)           16640       dropout_2[0][0]                  \n",
      "__________________________________________________________________________________________________\n",
      "bidirectional_2 (Bidirectional) (None, 64)           16640       dropout_3[0][0]                  \n",
      "__________________________________________________________________________________________________\n",
      "bidirectional_3 (Bidirectional) (None, 64)           16640       dropout_4[0][0]                  \n",
      "__________________________________________________________________________________________________\n",
      "input_7 (InputLayer)            [(None, 29)]         0                                            \n",
      "__________________________________________________________________________________________________\n",
      "dense_5 (Dense)                 (None, 32)           2080        bidirectional_4[0][0]            \n",
      "__________________________________________________________________________________________________\n",
      "dense (Dense)                   (None, 32)           1280        input_2[0][0]                    \n",
      "__________________________________________________________________________________________________\n",
      "dense_1 (Dense)                 (None, 32)           2080        bidirectional[0][0]              \n",
      "__________________________________________________________________________________________________\n",
      "dense_2 (Dense)                 (None, 32)           2080        bidirectional_1[0][0]            \n",
      "__________________________________________________________________________________________________\n",
      "dense_3 (Dense)                 (None, 32)           2080        bidirectional_2[0][0]            \n",
      "__________________________________________________________________________________________________\n",
      "dense_4 (Dense)                 (None, 32)           2080        bidirectional_3[0][0]            \n",
      "__________________________________________________________________________________________________\n",
      "dense_6 (Dense)                 (None, 16)           480         input_7[0][0]                    \n",
      "__________________________________________________________________________________________________\n",
      "dropout_10 (Dropout)            (None, 32)           0           dense_5[0][0]                    \n",
      "__________________________________________________________________________________________________\n",
      "dropout_5 (Dropout)             (None, 32)           0           dense[0][0]                      \n",
      "__________________________________________________________________________________________________\n",
      "dropout_6 (Dropout)             (None, 32)           0           dense_1[0][0]                    \n",
      "__________________________________________________________________________________________________\n",
      "dropout_7 (Dropout)             (None, 32)           0           dense_2[0][0]                    \n",
      "__________________________________________________________________________________________________\n",
      "dropout_8 (Dropout)             (None, 32)           0           dense_3[0][0]                    \n",
      "__________________________________________________________________________________________________\n",
      "dropout_9 (Dropout)             (None, 32)           0           dense_4[0][0]                    \n",
      "__________________________________________________________________________________________________\n",
      "dropout_11 (Dropout)            (None, 16)           0           dense_6[0][0]                    \n",
      "__________________________________________________________________________________________________\n",
      "concatenate (Concatenate)       (None, 208)          0           dropout_10[0][0]                 \n",
      "                                                                 dropout_5[0][0]                  \n",
      "                                                                 dropout_6[0][0]                  \n",
      "                                                                 dropout_7[0][0]                  \n",
      "                                                                 dropout_8[0][0]                  \n",
      "                                                                 dropout_9[0][0]                  \n",
      "                                                                 dropout_11[0][0]                 \n",
      "__________________________________________________________________________________________________\n",
      "dense_7 (Dense)                 (None, 128)          26752       concatenate[0][0]                \n",
      "__________________________________________________________________________________________________\n",
      "dropout_12 (Dropout)            (None, 128)          0           dense_7[0][0]                    \n",
      "__________________________________________________________________________________________________\n",
      "dense_8 (Dense)                 (None, 64)           8256        dropout_12[0][0]                 \n",
      "__________________________________________________________________________________________________\n",
      "dropout_13 (Dropout)            (None, 64)           0           dense_8[0][0]                    \n",
      "__________________________________________________________________________________________________\n",
      "dense_9 (Dense)                 (None, 1)            65          dropout_13[0][0]                 \n",
      "==================================================================================================\n",
      "Total params: 160,385\n",
      "Trainable params: 160,385\n",
      "Non-trainable params: 0\n",
      "__________________________________________________________________________________________________\n"
     ]
    }
   ],
   "source": [
    "# Embedding\n",
    "pep = tf.keras.layers.Input(shape=((30,)))\n",
    "pep_embed = tf.keras.layers.Embedding(21, 128, input_length=30, mask_zero=True)(pep)\n",
    "pep_embed = tf.keras.layers.Dropout(np.random.uniform(0, 0.2))(pep_embed)\n",
    "\n",
    "meta = tf.keras.layers.Input(shape=((39,)))  # peptide info\n",
    "\n",
    "n = tf.keras.layers.Input(shape=((15,)))\n",
    "n_embed = tf.keras.layers.Embedding(21, 32, input_length=15, mask_zero=True)(n)\n",
    "n_embed = tf.keras.layers.Dropout(np.random.uniform(0, 0.2))(n_embed)\n",
    "\n",
    "c = tf.keras.layers.Input(shape=((15,)))\n",
    "c_embed = tf.keras.layers.Embedding(21, 32, input_length=15, mask_zero=True)(c)\n",
    "c_embed = tf.keras.layers.Dropout(np.random.uniform(0, 0.2))(c_embed)\n",
    "\n",
    "m1 = tf.keras.layers.Input(shape=((15,)))\n",
    "m1_embed = tf.keras.layers.Embedding(21, 32, input_length=15, mask_zero=True)(m1)\n",
    "m1_embed = tf.keras.layers.Dropout(np.random.uniform(0, 0.2))(m1_embed)\n",
    "\n",
    "m2 = tf.keras.layers.Input(shape=((15,)))\n",
    "m2_embed = tf.keras.layers.Embedding(21, 32, input_length=15, mask_zero=True)(m2)\n",
    "m2_embed = tf.keras.layers.Dropout(np.random.uniform(0, 0.2))(m2_embed)\n",
    "\n",
    "\n",
    "# LSTM\n",
    "net_meta = tf.keras.layers.Dense(32, activation='relu')(meta)\n",
    "net_meta = tf.keras.layers.Dropout(np.random.uniform(0, 0.2))(net_meta)\n",
    "\n",
    "n_lstm = tf.keras.layers.Bidirectional(tf.keras.layers.LSTM(32))(n_embed)\n",
    "n_lstm = tf.keras.layers.Dense(32, activation='relu')(n_lstm)\n",
    "n_lstm = tf.keras.layers.Dropout(np.random.uniform(0, 0.2))(n_lstm)\n",
    "\n",
    "c_lstm = tf.keras.layers.Bidirectional(tf.keras.layers.LSTM(32))(c_embed)\n",
    "c_lstm = tf.keras.layers.Dense(32, activation='relu')(c_lstm)\n",
    "c_lstm = tf.keras.layers.Dropout(np.random.uniform(0, 0.2))(c_lstm)\n",
    "\n",
    "m1_lstm = tf.keras.layers.Bidirectional(tf.keras.layers.LSTM(32))(m1_embed)\n",
    "m1_lstm = tf.keras.layers.Dense(32, activation='relu')(m1_lstm)\n",
    "m1_lstm = tf.keras.layers.Dropout(np.random.uniform(0, 0.2))(m1_lstm)\n",
    "\n",
    "m2_lstm = tf.keras.layers.Bidirectional(tf.keras.layers.LSTM(32))(m2_embed)\n",
    "m2_lstm = tf.keras.layers.Dense(32, activation='relu')(m2_lstm)\n",
    "m2_lstm = tf.keras.layers.Dropout(np.random.uniform(0, 0.2))(m2_lstm)\n",
    "\n",
    "pep_lstm = tf.keras.layers.Bidirectional(tf.keras.layers.LSTM(32))(pep_embed)\n",
    "pep_lstm = tf.keras.layers.Dense(32, activation='relu')(pep_lstm)\n",
    "pep_lstm = tf.keras.layers.Dropout(np.random.uniform(0, 0.2))(pep_lstm)\n",
    "\n",
    "h_0 = tf.keras.layers.Input(shape=((29,)))\n",
    "ms_net = tf.keras.layers.Dense(16, activation='relu')(h_0)\n",
    "ms_net = tf.keras.layers.Dropout(np.random.uniform(0, 0.2))(ms_net)\n",
    "\n",
    "# Dense\n",
    "merge = tf.keras.layers.concatenate([pep_lstm, \n",
    "                                     net_meta,\n",
    "                                     n_lstm,\n",
    "                                     c_lstm,\n",
    "                                     m1_lstm,\n",
    "                                     m2_lstm,\n",
    "                                     ms_net])\n",
    "net_merge = tf.keras.layers.Dense(128, activation='relu')(merge)\n",
    "net_merge = tf.keras.layers.Dropout(np.random.uniform(0, 0.2))(net_merge)\n",
    "net_merge = tf.keras.layers.Dense(64, activation='relu')(net_merge)\n",
    "net_merge = tf.keras.layers.Dropout(np.random.uniform(0, 0.2))(net_merge)\n",
    "\n",
    "output = tf.keras.layers.Dense(1, activation = 'sigmoid')(net_merge)\n",
    "\n",
    "model_high = tf.keras.Model(inputs=[h_0, pep, meta, n, c, m1, m2],\n",
    "                            outputs=[output])\n",
    "\n",
    "model_high.summary()\n",
    "\n",
    "model_high.compile(loss=tf.keras.losses.BinaryCrossentropy(from_logits=True),\n",
    "              optimizer=tf.keras.optimizers.Adam(1e-4),\n",
    "              metrics=['accuracy'])\n",
    "\n",
    "es = tf.keras.callbacks.EarlyStopping(monitor='val_loss',\n",
    "                                      mode='min', \n",
    "                                      verbose=1,\n",
    "                                      patience=50)"
   ]
  },
  {
   "cell_type": "code",
   "execution_count": 23,
   "metadata": {
    "ExecuteTime": {
     "end_time": "2021-11-28T19:17:06.860356Z",
     "start_time": "2021-11-27T19:56:55.740938Z"
    },
    "scrolled": true
   },
   "outputs": [
    {
     "name": "stdout",
     "output_type": "stream",
     "text": [
      "Epoch 1/100\n",
      "6352/6352 [==============================] - 985s 155ms/step - loss: 0.4736 - accuracy: 0.7738 - val_loss: 0.4412 - val_accuracy: 0.7921\n",
      "Epoch 2/100\n",
      "6352/6352 [==============================] - 893s 141ms/step - loss: 0.4390 - accuracy: 0.7931 - val_loss: 0.4242 - val_accuracy: 0.8014\n",
      "Epoch 3/100\n",
      "6352/6352 [==============================] - 893s 141ms/step - loss: 0.4264 - accuracy: 0.8005 - val_loss: 0.4158 - val_accuracy: 0.8067\n",
      "Epoch 4/100\n",
      "6352/6352 [==============================] - 931s 147ms/step - loss: 0.4185 - accuracy: 0.8053 - val_loss: 0.4101 - val_accuracy: 0.8098\n",
      "Epoch 5/100\n",
      "6352/6352 [==============================] - 892s 140ms/step - loss: 0.4123 - accuracy: 0.8089 - val_loss: 0.4049 - val_accuracy: 0.8136\n",
      "Epoch 6/100\n",
      "6352/6352 [==============================] - 897s 141ms/step - loss: 0.4070 - accuracy: 0.8119 - val_loss: 0.4016 - val_accuracy: 0.8159\n",
      "Epoch 7/100\n",
      "6352/6352 [==============================] - 865s 136ms/step - loss: 0.4028 - accuracy: 0.8141 - val_loss: 0.3955 - val_accuracy: 0.8187\n",
      "Epoch 8/100\n",
      "6352/6352 [==============================] - 848s 133ms/step - loss: 0.3988 - accuracy: 0.8166 - val_loss: 0.3923 - val_accuracy: 0.8198\n",
      "Epoch 9/100\n",
      "6352/6352 [==============================] - 846s 133ms/step - loss: 0.3951 - accuracy: 0.8186 - val_loss: 0.3898 - val_accuracy: 0.8220\n",
      "Epoch 10/100\n",
      "6352/6352 [==============================] - 847s 133ms/step - loss: 0.3916 - accuracy: 0.8204 - val_loss: 0.3855 - val_accuracy: 0.8236\n",
      "Epoch 11/100\n",
      "6352/6352 [==============================] - 848s 134ms/step - loss: 0.3885 - accuracy: 0.8220 - val_loss: 0.3831 - val_accuracy: 0.8246\n",
      "Epoch 12/100\n",
      "6352/6352 [==============================] - 851s 134ms/step - loss: 0.3860 - accuracy: 0.8232 - val_loss: 0.3809 - val_accuracy: 0.8269\n",
      "Epoch 13/100\n",
      "6352/6352 [==============================] - 846s 133ms/step - loss: 0.3838 - accuracy: 0.8244 - val_loss: 0.3778 - val_accuracy: 0.8276\n",
      "Epoch 14/100\n",
      "6352/6352 [==============================] - 849s 134ms/step - loss: 0.3816 - accuracy: 0.8256 - val_loss: 0.3761 - val_accuracy: 0.8281\n",
      "Epoch 15/100\n",
      "6352/6352 [==============================] - 848s 134ms/step - loss: 0.3798 - accuracy: 0.8264 - val_loss: 0.3751 - val_accuracy: 0.8298\n",
      "Epoch 16/100\n",
      "6352/6352 [==============================] - 847s 133ms/step - loss: 0.3781 - accuracy: 0.8274 - val_loss: 0.3720 - val_accuracy: 0.8307\n",
      "Epoch 17/100\n",
      "6352/6352 [==============================] - 849s 134ms/step - loss: 0.3766 - accuracy: 0.8281 - val_loss: 0.3709 - val_accuracy: 0.8312\n",
      "Epoch 18/100\n",
      "6352/6352 [==============================] - 848s 133ms/step - loss: 0.3748 - accuracy: 0.8290 - val_loss: 0.3703 - val_accuracy: 0.8318\n",
      "Epoch 19/100\n",
      "6352/6352 [==============================] - 848s 133ms/step - loss: 0.3736 - accuracy: 0.8298 - val_loss: 0.3700 - val_accuracy: 0.8320\n",
      "Epoch 20/100\n",
      "6352/6352 [==============================] - 847s 133ms/step - loss: 0.3718 - accuracy: 0.8305 - val_loss: 0.3688 - val_accuracy: 0.8322\n",
      "Epoch 21/100\n",
      "6352/6352 [==============================] - 850s 134ms/step - loss: 0.3709 - accuracy: 0.8311 - val_loss: 0.3657 - val_accuracy: 0.8337\n",
      "Epoch 22/100\n",
      "6352/6352 [==============================] - 847s 133ms/step - loss: 0.3695 - accuracy: 0.8317 - val_loss: 0.3654 - val_accuracy: 0.8339\n",
      "Epoch 23/100\n",
      "6352/6352 [==============================] - 848s 133ms/step - loss: 0.3685 - accuracy: 0.8322 - val_loss: 0.3638 - val_accuracy: 0.8355\n",
      "Epoch 24/100\n",
      "6352/6352 [==============================] - 848s 134ms/step - loss: 0.3674 - accuracy: 0.8326 - val_loss: 0.3628 - val_accuracy: 0.8354\n",
      "Epoch 25/100\n",
      "6352/6352 [==============================] - 850s 134ms/step - loss: 0.3663 - accuracy: 0.8332 - val_loss: 0.3645 - val_accuracy: 0.8349\n",
      "Epoch 26/100\n",
      "6352/6352 [==============================] - 851s 134ms/step - loss: 0.3652 - accuracy: 0.8338 - val_loss: 0.3625 - val_accuracy: 0.8361\n",
      "Epoch 27/100\n",
      "6352/6352 [==============================] - 852s 134ms/step - loss: 0.3643 - accuracy: 0.8342 - val_loss: 0.3603 - val_accuracy: 0.8368\n",
      "Epoch 28/100\n",
      "6352/6352 [==============================] - 851s 134ms/step - loss: 0.3633 - accuracy: 0.8349 - val_loss: 0.3620 - val_accuracy: 0.8360\n",
      "Epoch 29/100\n",
      "6352/6352 [==============================] - 874s 138ms/step - loss: 0.3625 - accuracy: 0.8351 - val_loss: 0.3629 - val_accuracy: 0.8360\n",
      "Epoch 30/100\n",
      "6352/6352 [==============================] - 959s 151ms/step - loss: 0.3616 - accuracy: 0.8356 - val_loss: 0.3584 - val_accuracy: 0.8379\n",
      "Epoch 31/100\n",
      "6352/6352 [==============================] - 959s 151ms/step - loss: 0.3607 - accuracy: 0.8361 - val_loss: 0.3576 - val_accuracy: 0.8388\n",
      "Epoch 32/100\n",
      "6352/6352 [==============================] - 960s 151ms/step - loss: 0.3599 - accuracy: 0.8366 - val_loss: 0.3568 - val_accuracy: 0.8387\n",
      "Epoch 33/100\n",
      "6352/6352 [==============================] - 957s 151ms/step - loss: 0.3590 - accuracy: 0.8370 - val_loss: 0.3577 - val_accuracy: 0.8385\n",
      "Epoch 34/100\n",
      "6352/6352 [==============================] - 954s 150ms/step - loss: 0.3580 - accuracy: 0.8375 - val_loss: 0.3556 - val_accuracy: 0.8386\n",
      "Epoch 35/100\n",
      "6352/6352 [==============================] - 957s 151ms/step - loss: 0.3575 - accuracy: 0.8377 - val_loss: 0.3546 - val_accuracy: 0.8395\n",
      "Epoch 36/100\n",
      "6352/6352 [==============================] - 961s 151ms/step - loss: 0.3567 - accuracy: 0.8383 - val_loss: 0.3539 - val_accuracy: 0.8405\n",
      "Epoch 37/100\n",
      "6352/6352 [==============================] - 961s 151ms/step - loss: 0.3557 - accuracy: 0.8386 - val_loss: 0.3535 - val_accuracy: 0.8405\n",
      "Epoch 38/100\n",
      "6352/6352 [==============================] - 964s 152ms/step - loss: 0.3550 - accuracy: 0.8392 - val_loss: 0.3549 - val_accuracy: 0.8396\n",
      "Epoch 39/100\n",
      "6352/6352 [==============================] - 959s 151ms/step - loss: 0.3543 - accuracy: 0.8395 - val_loss: 0.3539 - val_accuracy: 0.8404\n",
      "Epoch 40/100\n",
      "6352/6352 [==============================] - 965s 152ms/step - loss: 0.3536 - accuracy: 0.8397 - val_loss: 0.3519 - val_accuracy: 0.8410\n",
      "Epoch 41/100\n",
      "6352/6352 [==============================] - 958s 151ms/step - loss: 0.3530 - accuracy: 0.8401 - val_loss: 0.3534 - val_accuracy: 0.8412\n",
      "Epoch 42/100\n",
      "6352/6352 [==============================] - 960s 151ms/step - loss: 0.3524 - accuracy: 0.8403 - val_loss: 0.3506 - val_accuracy: 0.8417\n",
      "Epoch 43/100\n",
      "6352/6352 [==============================] - 958s 151ms/step - loss: 0.3516 - accuracy: 0.8408 - val_loss: 0.3514 - val_accuracy: 0.8414\n",
      "Epoch 44/100\n",
      "6352/6352 [==============================] - 959s 151ms/step - loss: 0.3508 - accuracy: 0.8414 - val_loss: 0.3495 - val_accuracy: 0.8425\n",
      "Epoch 45/100\n",
      "6352/6352 [==============================] - 961s 151ms/step - loss: 0.3502 - accuracy: 0.8416 - val_loss: 0.3512 - val_accuracy: 0.8422\n",
      "Epoch 46/100\n",
      "6352/6352 [==============================] - 869s 137ms/step - loss: 0.3497 - accuracy: 0.8418 - val_loss: 0.3502 - val_accuracy: 0.8425\n",
      "Epoch 47/100\n",
      "6352/6352 [==============================] - 851s 134ms/step - loss: 0.3490 - accuracy: 0.8423 - val_loss: 0.3488 - val_accuracy: 0.8427\n",
      "Epoch 48/100\n",
      "6352/6352 [==============================] - 845s 133ms/step - loss: 0.3486 - accuracy: 0.8425 - val_loss: 0.3479 - val_accuracy: 0.8434\n",
      "Epoch 49/100\n",
      "6352/6352 [==============================] - 820s 129ms/step - loss: 0.3478 - accuracy: 0.8428 - val_loss: 0.3476 - val_accuracy: 0.8436\n",
      "Epoch 50/100\n",
      "6352/6352 [==============================] - 851s 134ms/step - loss: 0.3471 - accuracy: 0.8432 - val_loss: 0.3470 - val_accuracy: 0.8442\n",
      "Epoch 51/100\n",
      "6352/6352 [==============================] - 801s 126ms/step - loss: 0.3466 - accuracy: 0.8433 - val_loss: 0.3484 - val_accuracy: 0.8433\n",
      "Epoch 52/100\n",
      "6352/6352 [==============================] - 762s 120ms/step - loss: 0.3461 - accuracy: 0.8437 - val_loss: 0.3458 - val_accuracy: 0.8445\n",
      "Epoch 53/100\n",
      "6352/6352 [==============================] - 760s 120ms/step - loss: 0.3454 - accuracy: 0.8439 - val_loss: 0.3462 - val_accuracy: 0.8445\n",
      "Epoch 54/100\n",
      "6352/6352 [==============================] - 816s 128ms/step - loss: 0.3449 - accuracy: 0.8442 - val_loss: 0.3474 - val_accuracy: 0.8437\n",
      "Epoch 55/100\n"
     ]
    },
    {
     "name": "stdout",
     "output_type": "stream",
     "text": [
      "6352/6352 [==============================] - 873s 137ms/step - loss: 0.3444 - accuracy: 0.8444 - val_loss: 0.3455 - val_accuracy: 0.8450\n",
      "Epoch 56/100\n",
      "6352/6352 [==============================] - 873s 137ms/step - loss: 0.3438 - accuracy: 0.8447 - val_loss: 0.3465 - val_accuracy: 0.8442\n",
      "Epoch 57/100\n",
      "6352/6352 [==============================] - 877s 138ms/step - loss: 0.3433 - accuracy: 0.8451 - val_loss: 0.3449 - val_accuracy: 0.8448\n",
      "Epoch 58/100\n",
      "6352/6352 [==============================] - 883s 139ms/step - loss: 0.3430 - accuracy: 0.8452 - val_loss: 0.3455 - val_accuracy: 0.8447\n",
      "Epoch 59/100\n",
      "6352/6352 [==============================] - 885s 139ms/step - loss: 0.3422 - accuracy: 0.8457 - val_loss: 0.3458 - val_accuracy: 0.8441\n",
      "Epoch 60/100\n",
      "6352/6352 [==============================] - 903s 142ms/step - loss: 0.3417 - accuracy: 0.8456 - val_loss: 0.3445 - val_accuracy: 0.8453\n",
      "Epoch 61/100\n",
      "6352/6352 [==============================] - 824s 130ms/step - loss: 0.3414 - accuracy: 0.8461 - val_loss: 0.3435 - val_accuracy: 0.8460\n",
      "Epoch 62/100\n",
      "6352/6352 [==============================] - 827s 130ms/step - loss: 0.3408 - accuracy: 0.8463 - val_loss: 0.3435 - val_accuracy: 0.8459\n",
      "Epoch 63/100\n",
      "6352/6352 [==============================] - 833s 131ms/step - loss: 0.3405 - accuracy: 0.8467 - val_loss: 0.3432 - val_accuracy: 0.8459\n",
      "Epoch 64/100\n",
      "6352/6352 [==============================] - 825s 130ms/step - loss: 0.3399 - accuracy: 0.8469 - val_loss: 0.3447 - val_accuracy: 0.8455\n",
      "Epoch 65/100\n",
      "6352/6352 [==============================] - 822s 129ms/step - loss: 0.3395 - accuracy: 0.8469 - val_loss: 0.3424 - val_accuracy: 0.8463\n",
      "Epoch 66/100\n",
      "6352/6352 [==============================] - 831s 131ms/step - loss: 0.3388 - accuracy: 0.8471 - val_loss: 0.3440 - val_accuracy: 0.8453\n",
      "Epoch 67/100\n",
      "6352/6352 [==============================] - 825s 130ms/step - loss: 0.3384 - accuracy: 0.8475 - val_loss: 0.3442 - val_accuracy: 0.8451\n",
      "Epoch 68/100\n",
      "6352/6352 [==============================] - 809s 127ms/step - loss: 0.3381 - accuracy: 0.8475 - val_loss: 0.3434 - val_accuracy: 0.8455\n",
      "Epoch 69/100\n",
      "6352/6352 [==============================] - 819s 129ms/step - loss: 0.3376 - accuracy: 0.8476 - val_loss: 0.3425 - val_accuracy: 0.8465\n",
      "Epoch 70/100\n",
      "6352/6352 [==============================] - 820s 129ms/step - loss: 0.3371 - accuracy: 0.8482 - val_loss: 0.3420 - val_accuracy: 0.8467\n",
      "Epoch 71/100\n",
      "6352/6352 [==============================] - 823s 130ms/step - loss: 0.3364 - accuracy: 0.8486 - val_loss: 0.3425 - val_accuracy: 0.8463\n",
      "Epoch 72/100\n",
      "6352/6352 [==============================] - 794s 125ms/step - loss: 0.3362 - accuracy: 0.8486 - val_loss: 0.3422 - val_accuracy: 0.8466\n",
      "Epoch 73/100\n",
      "6352/6352 [==============================] - 783s 123ms/step - loss: 0.3358 - accuracy: 0.8490 - val_loss: 0.3420 - val_accuracy: 0.8467\n",
      "Epoch 74/100\n",
      "6352/6352 [==============================] - 807s 127ms/step - loss: 0.3354 - accuracy: 0.8491 - val_loss: 0.3421 - val_accuracy: 0.8467\n",
      "Epoch 75/100\n",
      "6352/6352 [==============================] - 817s 129ms/step - loss: 0.3349 - accuracy: 0.8493 - val_loss: 0.3411 - val_accuracy: 0.8473\n",
      "Epoch 76/100\n",
      "6352/6352 [==============================] - 782s 123ms/step - loss: 0.3343 - accuracy: 0.8495 - val_loss: 0.3407 - val_accuracy: 0.8475\n",
      "Epoch 77/100\n",
      "6352/6352 [==============================] - 784s 123ms/step - loss: 0.3341 - accuracy: 0.8493 - val_loss: 0.3416 - val_accuracy: 0.8470\n",
      "Epoch 78/100\n",
      "6352/6352 [==============================] - 787s 124ms/step - loss: 0.3338 - accuracy: 0.8497 - val_loss: 0.3409 - val_accuracy: 0.8471\n",
      "Epoch 79/100\n",
      "6352/6352 [==============================] - 784s 123ms/step - loss: 0.3332 - accuracy: 0.8501 - val_loss: 0.3418 - val_accuracy: 0.8463\n",
      "Epoch 80/100\n",
      "6352/6352 [==============================] - 790s 124ms/step - loss: 0.3330 - accuracy: 0.8502 - val_loss: 0.3413 - val_accuracy: 0.8470\n",
      "Epoch 81/100\n",
      "6352/6352 [==============================] - 771s 121ms/step - loss: 0.3324 - accuracy: 0.8504 - val_loss: 0.3415 - val_accuracy: 0.8466\n",
      "Epoch 82/100\n",
      "6352/6352 [==============================] - 770s 121ms/step - loss: 0.3321 - accuracy: 0.8506 - val_loss: 0.3398 - val_accuracy: 0.8478\n",
      "Epoch 83/100\n",
      "6352/6352 [==============================] - 765s 120ms/step - loss: 0.3318 - accuracy: 0.8508 - val_loss: 0.3416 - val_accuracy: 0.8468\n",
      "Epoch 84/100\n",
      "6352/6352 [==============================] - 782s 123ms/step - loss: 0.3312 - accuracy: 0.8508 - val_loss: 0.3406 - val_accuracy: 0.8467\n",
      "Epoch 85/100\n",
      "6352/6352 [==============================] - 780s 123ms/step - loss: 0.3310 - accuracy: 0.8509 - val_loss: 0.3406 - val_accuracy: 0.8470\n",
      "Epoch 86/100\n",
      "6352/6352 [==============================] - 786s 124ms/step - loss: 0.3308 - accuracy: 0.8513 - val_loss: 0.3398 - val_accuracy: 0.8477\n",
      "Epoch 87/100\n",
      "6352/6352 [==============================] - 861s 136ms/step - loss: 0.3300 - accuracy: 0.8515 - val_loss: 0.3398 - val_accuracy: 0.8475\n",
      "Epoch 88/100\n",
      "6352/6352 [==============================] - 873s 137ms/step - loss: 0.3299 - accuracy: 0.8515 - val_loss: 0.3397 - val_accuracy: 0.8480\n",
      "Epoch 89/100\n",
      "6352/6352 [==============================] - 714s 112ms/step - loss: 0.3296 - accuracy: 0.8518 - val_loss: 0.3410 - val_accuracy: 0.8467\n",
      "Epoch 90/100\n",
      "6352/6352 [==============================] - 698s 110ms/step - loss: 0.3291 - accuracy: 0.8522 - val_loss: 0.3396 - val_accuracy: 0.8478\n",
      "Epoch 91/100\n",
      "6352/6352 [==============================] - 719s 113ms/step - loss: 0.3287 - accuracy: 0.8523 - val_loss: 0.3421 - val_accuracy: 0.8464\n",
      "Epoch 92/100\n",
      "6352/6352 [==============================] - 751s 118ms/step - loss: 0.3284 - accuracy: 0.8525 - val_loss: 0.3386 - val_accuracy: 0.8486\n",
      "Epoch 93/100\n",
      "6352/6352 [==============================] - 740s 117ms/step - loss: 0.3282 - accuracy: 0.8523 - val_loss: 0.3402 - val_accuracy: 0.8480\n",
      "Epoch 94/100\n",
      "6352/6352 [==============================] - 747s 118ms/step - loss: 0.3277 - accuracy: 0.8529 - val_loss: 0.3390 - val_accuracy: 0.8485\n",
      "Epoch 95/100\n",
      "6352/6352 [==============================] - 690s 109ms/step - loss: 0.3273 - accuracy: 0.8529 - val_loss: 0.3389 - val_accuracy: 0.8487\n",
      "Epoch 96/100\n",
      "6352/6352 [==============================] - 677s 107ms/step - loss: 0.3269 - accuracy: 0.8530 - val_loss: 0.3410 - val_accuracy: 0.8471\n",
      "Epoch 97/100\n",
      "6352/6352 [==============================] - 669s 105ms/step - loss: 0.3265 - accuracy: 0.8534 - val_loss: 0.3390 - val_accuracy: 0.8483\n",
      "Epoch 98/100\n",
      "6352/6352 [==============================] - 664s 105ms/step - loss: 0.3262 - accuracy: 0.8536 - val_loss: 0.3393 - val_accuracy: 0.8482\n",
      "Epoch 99/100\n",
      "6352/6352 [==============================] - 663s 104ms/step - loss: 0.3260 - accuracy: 0.8535 - val_loss: 0.3393 - val_accuracy: 0.8479\n",
      "Epoch 100/100\n",
      "6352/6352 [==============================] - 636s 100ms/step - loss: 0.3257 - accuracy: 0.8538 - val_loss: 0.3387 - val_accuracy: 0.8489\n"
     ]
    }
   ],
   "source": [
    "history = model_high.fit([ms2_train, pep_train, aa_train, en_train, ec_train, e1_train, e2_train],\n",
    "                    y_train, \n",
    "                    epochs=100,\n",
    "                    batch_size=256,\n",
    "                    validation_data=([ms2_val, pep_val, aa_val, en_val, ec_val, e1_val, e2_val], y_val),\n",
    "                    callbacks=[es]\n",
    "                        )"
   ]
  },
  {
   "cell_type": "code",
   "execution_count": 24,
   "metadata": {
    "ExecuteTime": {
     "end_time": "2021-11-28T19:17:07.176252Z",
     "start_time": "2021-11-28T19:17:06.862273Z"
    }
   },
   "outputs": [
    {
     "data": {
      "image/png": "[encoded data removed]",
      "text/plain": [
       "<Figure size 1600x200 with 1 Axes>"
      ]
     },
     "metadata": {},
     "output_type": "display_data"
    },
    {
     "data": {
      "image/png": "[encoded data removed]",
      "text/plain": [
       "<Figure size 640x480 with 1 Axes>"
      ]
     },
     "metadata": {},
     "output_type": "display_data"
    }
   ],
   "source": [
    "plt.figure(figsize=(16,2))\n",
    "plt.subplot(1,2,1)\n",
    "plot_graphs(history, 'accuracy')\n",
    "plt.subplot(1,2,2)\n",
    "plot_graphs(history, 'loss')"
   ]
  },
  {
   "cell_type": "markdown",
   "metadata": {},
   "source": [
    "# eval"
   ]
  },
  {
   "cell_type": "code",
   "execution_count": 25,
   "metadata": {
    "ExecuteTime": {
     "end_time": "2021-11-28T19:27:58.428006Z",
     "start_time": "2021-11-28T19:17:07.177535Z"
    },
    "scrolled": true
   },
   "outputs": [
    {
     "name": "stdout",
     "output_type": "stream",
     "text": [
      "12508/12508 [==============================] - 217s 17ms/step - loss: 0.3286 - accuracy: 0.8517\n",
      "Test Loss: 0.3286498188972473\n",
      "Test Accuracy: 0.8516935110092163\n",
      "              precision    recall  f1-score   support\n",
      "\n",
      "           0       0.91      0.88      0.90    296236\n",
      "           1       0.70      0.76      0.73    103996\n",
      "\n",
      "    accuracy                           0.85    400232\n",
      "   macro avg       0.80      0.82      0.81    400232\n",
      "weighted avg       0.86      0.85      0.85    400232\n",
      "\n",
      "rf auc : 0.9145505433875447\n"
     ]
    },
    {
     "data": {
      "image/png": "[encoded data removed]",
      "text/plain": [
       "<Figure size 400x400 with 1 Axes>"
      ]
     },
     "metadata": {},
     "output_type": "display_data"
    },
    {
     "data": {
      "image/png": "[encoded data removed]",
      "text/plain": [
       "<Figure size 300x300 with 2 Axes>"
      ]
     },
     "metadata": {},
     "output_type": "display_data"
    },
    {
     "data": {
      "image/png": "[encoded data removed]",
      "text/plain": [
       "<Figure size 300x300 with 2 Axes>"
      ]
     },
     "metadata": {},
     "output_type": "display_data"
    }
   ],
   "source": [
    "test_loss, test_acc = model_high.evaluate([ms2_test, pep_test, aa_test, en_test, ec_test, e1_test, e2_test], y_test)\n",
    "print('Test Loss: {}'.format(test_loss))\n",
    "print('Test Accuracy: {}'.format(test_acc))\n",
    "\n",
    "# prediction\n",
    "y_pred = [1 if i>=0.5 else 0 for i in model_high.predict([ms2_test, pep_test, aa_test, en_test, ec_test, e1_test, e2_test])]\n",
    "print(classification_report(y_test, y_pred))\n",
    "# AUC\n",
    "probs = model_high.predict([ms2_test, pep_test, aa_test, en_test, ec_test, e1_test, e2_test])\n",
    "rf_auc = roc_auc_score(y_test, probs)\n",
    "print('rf auc : {}'.format(rf_auc))\n",
    "# plot the roc curve for the model_high\n",
    "rf_fpr, rf_tpr, _ = roc_curve(y_test, probs)\n",
    "plt.figure(figsize=(4, 4))\n",
    "plt.plot(rf_fpr, rf_tpr, marker='.', label='RF AUC = {:.4f}'.format(rf_auc), color='orange')\n",
    "plt.title('ROC curve')\n",
    "# axis labels\n",
    "plt.xlabel('False Positive Rate')\n",
    "plt.ylabel('True Positive Rate')\n",
    "# show the legend\n",
    "plt.legend()\n",
    "# show the plot\n",
    "plt.show()\n",
    "\n",
    "cf_matrix = confusion_matrix(y_test, y_pred)\n",
    "plt.figure(figsize=(3, 3))\n",
    "sns.heatmap(cf_matrix, annot=True, fmt=',.0f')\n",
    "plt.show()\n",
    "plt.figure(figsize=(3, 3))\n",
    "sns.heatmap(cf_matrix/np.sum(cf_matrix), annot=True, \n",
    "            fmt='.2%', cmap='Blues')\n",
    "plt.show()"
   ]
  },
  {
   "cell_type": "code",
   "execution_count": 27,
   "metadata": {
    "ExecuteTime": {
     "end_time": "2021-11-28T19:29:18.869265Z",
     "start_time": "2021-11-28T19:29:18.851199Z"
    }
   },
   "outputs": [
    {
     "data": {
      "text/html": [
       "<div>\n",
       "<style scoped>\n",
       "    .dataframe tbody tr th:only-of-type {\n",
       "        vertical-align: middle;\n",
       "    }\n",
       "\n",
       "    .dataframe tbody tr th {\n",
       "        vertical-align: top;\n",
       "    }\n",
       "\n",
       "    .dataframe thead tr th {\n",
       "        text-align: left;\n",
       "    }\n",
       "</style>\n",
       "<table border=\"1\" class=\"dataframe\">\n",
       "  <thead>\n",
       "    <tr>\n",
       "      <th></th>\n",
       "      <th>peptide</th>\n",
       "      <th>En</th>\n",
       "      <th>Ec</th>\n",
       "      <th>E1</th>\n",
       "      <th>E2</th>\n",
       "      <th>protein</th>\n",
       "      <th>PEP</th>\n",
       "      <th>CHARGE</th>\n",
       "      <th>MS2</th>\n",
       "      <th>ID</th>\n",
       "    </tr>\n",
       "  </thead>\n",
       "  <tbody>\n",
       "    <tr>\n",
       "      <th>0</th>\n",
       "      <td>K.GCIFLDSCTGVVQNNR.L</td>\n",
       "      <td>EKISKEPKGCIFLDS</td>\n",
       "      <td>TGVVQNNRLRKYAFE</td>\n",
       "      <td>-</td>\n",
       "      <td>-</td>\n",
       "      <td>sp|Q96BY6|DOC10_HUMAN</td>\n",
       "      <td>GCIFLDSCTGVVQNNR</td>\n",
       "      <td>2</td>\n",
       "      <td>0.099378206;0.08571642;0.23745453;0.4806975830...</td>\n",
       "      <td>1</td>\n",
       "    </tr>\n",
       "    <tr>\n",
       "      <th>1</th>\n",
       "      <td>K.GCIFLDSCTGVVQNNR.L</td>\n",
       "      <td>EKISKEPKGCIFLDS</td>\n",
       "      <td>TGVVQNNRLRKYAFE</td>\n",
       "      <td>-</td>\n",
       "      <td>-</td>\n",
       "      <td>sp|Q96BY6|DOC10_HUMAN</td>\n",
       "      <td>GCIFLDSCTGVVQNNR</td>\n",
       "      <td>3</td>\n",
       "      <td>0.10105045;0.0496183491;0.17540048;0.598226816...</td>\n",
       "      <td>0</td>\n",
       "    </tr>\n",
       "    <tr>\n",
       "      <th>2</th>\n",
       "      <td>K.GCIFLDSCTGVVQNNR.L</td>\n",
       "      <td>EKISKEPKGCIFLDS</td>\n",
       "      <td>TGVVQNNRLRKYAFE</td>\n",
       "      <td>-</td>\n",
       "      <td>-</td>\n",
       "      <td>sp|Q96BY6|DOC10_HUMAN</td>\n",
       "      <td>GCIFLDSCTGVVQNNR</td>\n",
       "      <td>4</td>\n",
       "      <td>0.114138655;0.055285938;0.21473199550000002;0....</td>\n",
       "      <td>0</td>\n",
       "    </tr>\n",
       "    <tr>\n",
       "      <th>3</th>\n",
       "      <td>K.MYNGSVPFEER.I</td>\n",
       "      <td>GIFPDIYKMYNGSVP</td>\n",
       "      <td>GSVPFEERILAVLQW</td>\n",
       "      <td>-</td>\n",
       "      <td>-</td>\n",
       "      <td>sp|P22413|ENPP1_HUMAN</td>\n",
       "      <td>MYNGSVPFEER</td>\n",
       "      <td>1</td>\n",
       "      <td>0.08776566;0.067099521;0.036628924;0.05993652;...</td>\n",
       "      <td>0</td>\n",
       "    </tr>\n",
       "    <tr>\n",
       "      <th>4</th>\n",
       "      <td>K.MYNGSVPFEER.I</td>\n",
       "      <td>GIFPDIYKMYNGSVP</td>\n",
       "      <td>GSVPFEERILAVLQW</td>\n",
       "      <td>-</td>\n",
       "      <td>-</td>\n",
       "      <td>sp|P22413|ENPP1_HUMAN</td>\n",
       "      <td>MYNGSVPFEER</td>\n",
       "      <td>2</td>\n",
       "      <td>0.07164742;0.10441995;0.022908453;0.028158737;...</td>\n",
       "      <td>1</td>\n",
       "    </tr>\n",
       "    <tr>\n",
       "      <th>...</th>\n",
       "      <td>...</td>\n",
       "      <td>...</td>\n",
       "      <td>...</td>\n",
       "      <td>...</td>\n",
       "      <td>...</td>\n",
       "      <td>...</td>\n",
       "      <td>...</td>\n",
       "      <td>...</td>\n",
       "      <td>...</td>\n",
       "      <td>...</td>\n",
       "    </tr>\n",
       "    <tr>\n",
       "      <th>400227</th>\n",
       "      <td>R.SDVWREFLDR.F</td>\n",
       "      <td>LAIGNGIRSDVWREF</td>\n",
       "      <td>VWREFLDRFGNIKVC</td>\n",
       "      <td>GIRSDVWREFLDRFG</td>\n",
       "      <td>-</td>\n",
       "      <td>sp|Q9Y2P4|S27A6_HUMAN</td>\n",
       "      <td>SDVWREFLDR</td>\n",
       "      <td>1</td>\n",
       "      <td>0.71818589;0.11173443;0.6187248599999999;1.451...</td>\n",
       "      <td>0</td>\n",
       "    </tr>\n",
       "    <tr>\n",
       "      <th>400228</th>\n",
       "      <td>R.SDVWREFLDR.F</td>\n",
       "      <td>LAIGNGIRSDVWREF</td>\n",
       "      <td>VWREFLDRFGNIKVC</td>\n",
       "      <td>GIRSDVWREFLDRFG</td>\n",
       "      <td>-</td>\n",
       "      <td>sp|Q9Y2P4|S27A6_HUMAN</td>\n",
       "      <td>SDVWREFLDR</td>\n",
       "      <td>2</td>\n",
       "      <td>0.9200228199;0.075766476;0.07199726029999999;0...</td>\n",
       "      <td>0</td>\n",
       "    </tr>\n",
       "    <tr>\n",
       "      <th>400229</th>\n",
       "      <td>R.SDVWREFLDR.F</td>\n",
       "      <td>LAIGNGIRSDVWREF</td>\n",
       "      <td>VWREFLDRFGNIKVC</td>\n",
       "      <td>GIRSDVWREFLDRFG</td>\n",
       "      <td>-</td>\n",
       "      <td>sp|Q9Y2P4|S27A6_HUMAN</td>\n",
       "      <td>SDVWREFLDR</td>\n",
       "      <td>3</td>\n",
       "      <td>0.3135493152;0.0442358692;0.061362298669999996...</td>\n",
       "      <td>0</td>\n",
       "    </tr>\n",
       "    <tr>\n",
       "      <th>400230</th>\n",
       "      <td>K.ADPENIK.S</td>\n",
       "      <td>ETEQNKKKADPENIK</td>\n",
       "      <td>KADPENIKSEGDGTQ</td>\n",
       "      <td>-</td>\n",
       "      <td>-</td>\n",
       "      <td>sp|Q5UIP0|RIF1_HUMAN</td>\n",
       "      <td>ADPENIK</td>\n",
       "      <td>1</td>\n",
       "      <td>0.24824446;0.31123823;0.5067087400000001;0.185...</td>\n",
       "      <td>0</td>\n",
       "    </tr>\n",
       "    <tr>\n",
       "      <th>400231</th>\n",
       "      <td>K.ADPENIK.S</td>\n",
       "      <td>ETEQNKKKADPENIK</td>\n",
       "      <td>KADPENIKSEGDGTQ</td>\n",
       "      <td>-</td>\n",
       "      <td>-</td>\n",
       "      <td>sp|Q5UIP0|RIF1_HUMAN</td>\n",
       "      <td>ADPENIK</td>\n",
       "      <td>2</td>\n",
       "      <td>0.10679338;0.042775247;0.14399782;0.2082865343...</td>\n",
       "      <td>0</td>\n",
       "    </tr>\n",
       "  </tbody>\n",
       "</table>\n",
       "<p>400232 rows × 10 columns</p>\n",
       "</div>"
      ],
      "text/plain": [
       "                     peptide               En               Ec  \\\n",
       "0       K.GCIFLDSCTGVVQNNR.L  EKISKEPKGCIFLDS  TGVVQNNRLRKYAFE   \n",
       "1       K.GCIFLDSCTGVVQNNR.L  EKISKEPKGCIFLDS  TGVVQNNRLRKYAFE   \n",
       "2       K.GCIFLDSCTGVVQNNR.L  EKISKEPKGCIFLDS  TGVVQNNRLRKYAFE   \n",
       "3            K.MYNGSVPFEER.I  GIFPDIYKMYNGSVP  GSVPFEERILAVLQW   \n",
       "4            K.MYNGSVPFEER.I  GIFPDIYKMYNGSVP  GSVPFEERILAVLQW   \n",
       "...                      ...              ...              ...   \n",
       "400227        R.SDVWREFLDR.F  LAIGNGIRSDVWREF  VWREFLDRFGNIKVC   \n",
       "400228        R.SDVWREFLDR.F  LAIGNGIRSDVWREF  VWREFLDRFGNIKVC   \n",
       "400229        R.SDVWREFLDR.F  LAIGNGIRSDVWREF  VWREFLDRFGNIKVC   \n",
       "400230           K.ADPENIK.S  ETEQNKKKADPENIK  KADPENIKSEGDGTQ   \n",
       "400231           K.ADPENIK.S  ETEQNKKKADPENIK  KADPENIKSEGDGTQ   \n",
       "\n",
       "                     E1 E2                protein               PEP CHARGE  \\\n",
       "0                     -  -  sp|Q96BY6|DOC10_HUMAN  GCIFLDSCTGVVQNNR      2   \n",
       "1                     -  -  sp|Q96BY6|DOC10_HUMAN  GCIFLDSCTGVVQNNR      3   \n",
       "2                     -  -  sp|Q96BY6|DOC10_HUMAN  GCIFLDSCTGVVQNNR      4   \n",
       "3                     -  -  sp|P22413|ENPP1_HUMAN       MYNGSVPFEER      1   \n",
       "4                     -  -  sp|P22413|ENPP1_HUMAN       MYNGSVPFEER      2   \n",
       "...                 ... ..                    ...               ...    ...   \n",
       "400227  GIRSDVWREFLDRFG  -  sp|Q9Y2P4|S27A6_HUMAN        SDVWREFLDR      1   \n",
       "400228  GIRSDVWREFLDRFG  -  sp|Q9Y2P4|S27A6_HUMAN        SDVWREFLDR      2   \n",
       "400229  GIRSDVWREFLDRFG  -  sp|Q9Y2P4|S27A6_HUMAN        SDVWREFLDR      3   \n",
       "400230                -  -   sp|Q5UIP0|RIF1_HUMAN           ADPENIK      1   \n",
       "400231                -  -   sp|Q5UIP0|RIF1_HUMAN           ADPENIK      2   \n",
       "\n",
       "                                                      MS2 ID  \n",
       "0       0.099378206;0.08571642;0.23745453;0.4806975830...  1  \n",
       "1       0.10105045;0.0496183491;0.17540048;0.598226816...  0  \n",
       "2       0.114138655;0.055285938;0.21473199550000002;0....  0  \n",
       "3       0.08776566;0.067099521;0.036628924;0.05993652;...  0  \n",
       "4       0.07164742;0.10441995;0.022908453;0.028158737;...  1  \n",
       "...                                                   ... ..  \n",
       "400227  0.71818589;0.11173443;0.6187248599999999;1.451...  0  \n",
       "400228  0.9200228199;0.075766476;0.07199726029999999;0...  0  \n",
       "400229  0.3135493152;0.0442358692;0.061362298669999996...  0  \n",
       "400230  0.24824446;0.31123823;0.5067087400000001;0.185...  0  \n",
       "400231  0.10679338;0.042775247;0.14399782;0.2082865343...  0  \n",
       "\n",
       "[400232 rows x 10 columns]"
      ]
     },
     "execution_count": 27,
     "metadata": {},
     "output_type": "execute_result"
    }
   ],
   "source": [
    "test_pc"
   ]
  },
  {
   "cell_type": "code",
   "execution_count": 28,
   "metadata": {
    "ExecuteTime": {
     "end_time": "2021-11-28T19:29:52.553430Z",
     "start_time": "2021-11-28T19:29:52.550313Z"
    }
   },
   "outputs": [],
   "source": [
    "test_pc['ms2_prob'] = probs"
   ]
  },
  {
   "cell_type": "code",
   "execution_count": 29,
   "metadata": {
    "ExecuteTime": {
     "end_time": "2021-11-28T19:29:56.621748Z",
     "start_time": "2021-11-28T19:29:54.620132Z"
    }
   },
   "outputs": [
    {
     "name": "stdout",
     "output_type": "stream",
     "text": [
      "acc:  0.8311242462236551\n",
      "              precision    recall  f1-score   support\n",
      "\n",
      "           0       0.83      0.83      0.83     66996\n",
      "           1       0.83      0.83      0.83     66996\n",
      "\n",
      "    accuracy                           0.83    133992\n",
      "   macro avg       0.83      0.83      0.83    133992\n",
      "weighted avg       0.83      0.83      0.83    133992\n",
      "\n",
      "rf auc : 0.909842552361458\n"
     ]
    },
    {
     "data": {
      "image/png": "[encoded data removed]",
      "text/plain": [
       "<Figure size 400x400 with 1 Axes>"
      ]
     },
     "metadata": {},
     "output_type": "display_data"
    },
    {
     "data": {
      "image/png": "[encoded data removed]",
      "text/plain": [
       "<Figure size 300x300 with 2 Axes>"
      ]
     },
     "metadata": {},
     "output_type": "display_data"
    },
    {
     "data": {
      "image/png": "[encoded data removed]",
      "text/plain": [
       "<Figure size 300x300 with 2 Axes>"
      ]
     },
     "metadata": {},
     "output_type": "display_data"
    }
   ],
   "source": [
    "test_result = dict()\n",
    "for p, nterm ,cterm, m1, m2, prot, pep, c, ms2, lab, ms2_prob in test_pc.values:\n",
    "    row = (p, nterm, cterm, m1, m2, prot, pep)\n",
    "    if row not in test_result:\n",
    "        test_result[row] = dict()\n",
    "    test_result[row][c]=ms2_prob\n",
    "\n",
    "test_label = dict()\n",
    "for prow, prob_dic in test_result.items():\n",
    "    prob_arr = list(test_result[prow].values())\n",
    "    ms2_prob = max(prob_arr)\n",
    "    test_label[prow] = ms2_prob\n",
    "\n",
    "test['ms2_ID'] = list(test_label.values())\n",
    "\n",
    "y_test = test.ID.values\n",
    "y_pred = [1 if p >= 0.5 else 0 for p in test.ms2_ID.values]\n",
    "\n",
    "tptn = sum([1 for yt, yp in zip(y_test, y_pred) if yt==yp])\n",
    "print('acc: ', tptn/len(y_test))\n",
    "print(classification_report(y_test, y_pred))\n",
    "\n",
    "probs = test.ms2_ID.values\n",
    "rf_auc = roc_auc_score(y_test, probs)\n",
    "print('rf auc : {}'.format(rf_auc))\n",
    "# plot the roc curve for the model_high\n",
    "rf_fpr, rf_tpr, _ = roc_curve(y_test, probs)\n",
    "plt.figure(figsize=(4, 4))\n",
    "plt.plot(rf_fpr, rf_tpr, marker='.', label='RF AUC = {:.4f}'.format(rf_auc), color='orange')\n",
    "plt.title('ROC curve')\n",
    "# axis labels\n",
    "plt.xlabel('False Positive Rate')\n",
    "plt.ylabel('True Positive Rate')\n",
    "# show the legend\n",
    "plt.legend()\n",
    "# show the plot\n",
    "plt.show()\n",
    "\n",
    "cf_matrix = confusion_matrix(y_test, y_pred)\n",
    "plt.figure(figsize=(3, 3))\n",
    "sns.heatmap(cf_matrix, annot=True, fmt=',.0f')\n",
    "plt.show()\n",
    "plt.figure(figsize=(3, 3))\n",
    "sns.heatmap(cf_matrix/np.sum(cf_matrix), annot=True, \n",
    "            fmt='.2%', cmap='Blues')\n",
    "plt.show()"
   ]
  },
  {
   "cell_type": "code",
   "execution_count": 199,
   "metadata": {
    "ExecuteTime": {
     "end_time": "2021-11-22T03:54:22.714246Z",
     "start_time": "2021-11-22T03:54:22.711822Z"
    }
   },
   "outputs": [],
   "source": [
    "# # Calling `save('my_model.h5')` creates a h5 file `my_model.h5`.\n",
    "# model_high.save(\"compareModel/2021KSBi_multi_ms2/\")\n",
    "\n",
    "# # It can be used to reconstruct the model identically.\n",
    "# model_high_re = keras.models.load_model(\"compareModel/2021KSBi_multi_ms2/\")"
   ]
  }
 ],
 "metadata": {
  "kernelspec": {
   "display_name": "TF2.4",
   "language": "python",
   "name": "tf2.4"
  },
  "language_info": {
   "codemirror_mode": {
    "name": "ipython",
    "version": 3
   },
   "file_extension": ".py",
   "mimetype": "text/x-python",
   "name": "python",
   "nbconvert_exporter": "python",
   "pygments_lexer": "ipython3",
   "version": "3.7.0"
  }
 },
 "nbformat": 4,
 "nbformat_minor": 4
}
