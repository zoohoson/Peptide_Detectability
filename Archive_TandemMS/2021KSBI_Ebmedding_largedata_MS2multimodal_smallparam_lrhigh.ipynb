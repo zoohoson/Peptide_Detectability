{
 "cells": [
  {
   "cell_type": "code",
   "execution_count": 1,
   "metadata": {
    "ExecuteTime": {
     "end_time": "2021-11-27T18:27:29.195546Z",
     "start_time": "2021-11-27T18:27:28.292348Z"
    }
   },
   "outputs": [],
   "source": [
    "import pandas as pd\n",
    "import numpy as np\n",
    "import matplotlib.pyplot as plt\n",
    "import seaborn as sns\n",
    "from sklearn.metrics import classification_report\n",
    "from sklearn.metrics import confusion_matrix\n",
    "from sklearn.metrics import roc_curve\n",
    "from sklearn.metrics import roc_auc_score\n",
    "from sklearn.model_selection import train_test_split\n",
    "\n",
    "import time"
   ]
  },
  {
   "cell_type": "code",
   "execution_count": 2,
   "metadata": {
    "ExecuteTime": {
     "end_time": "2021-11-27T18:27:29.209760Z",
     "start_time": "2021-11-27T18:27:29.197727Z"
    }
   },
   "outputs": [
    {
     "name": "stdout",
     "output_type": "stream",
     "text": [
      "(19, 21)\n"
     ]
    }
   ],
   "source": [
    "df_aaindex = pd.read_csv('../data/aaindex/df_aaindex19.csv')\n",
    "print(df_aaindex.shape)\n",
    "df_aaindex.head(1)\n",
    "tmp = df_aaindex.drop('Unnamed: 0',axis=1).T\n",
    "aa2val = dict()\n",
    "for aa, val in zip(tmp.index, tmp.values):\n",
    "    aa2val[aa]=val"
   ]
  },
  {
   "cell_type": "code",
   "execution_count": 3,
   "metadata": {
    "ExecuteTime": {
     "end_time": "2021-11-27T18:27:32.064913Z",
     "start_time": "2021-11-27T18:27:29.211472Z"
    }
   },
   "outputs": [],
   "source": [
    "df_detect_peptide_train = pd.read_csv('../data/df_detect_peptide_train.csv')\n",
    "test = pd.read_csv('../data/df_detect_peptide_test.csv')\n",
    "train, val = train_test_split(df_detect_peptide_train, test_size=0.2, random_state=7)"
   ]
  },
  {
   "cell_type": "code",
   "execution_count": 4,
   "metadata": {
    "ExecuteTime": {
     "end_time": "2021-11-27T18:27:32.079468Z",
     "start_time": "2021-11-27T18:27:32.066744Z"
    }
   },
   "outputs": [
    {
     "data": {
      "text/html": [
       "<div>\n",
       "<style scoped>\n",
       "    .dataframe tbody tr th:only-of-type {\n",
       "        vertical-align: middle;\n",
       "    }\n",
       "\n",
       "    .dataframe tbody tr th {\n",
       "        vertical-align: top;\n",
       "    }\n",
       "\n",
       "    .dataframe thead th {\n",
       "        text-align: right;\n",
       "    }\n",
       "</style>\n",
       "<table border=\"1\" class=\"dataframe\">\n",
       "  <thead>\n",
       "    <tr style=\"text-align: right;\">\n",
       "      <th></th>\n",
       "      <th>peptide</th>\n",
       "      <th>En</th>\n",
       "      <th>Ec</th>\n",
       "      <th>E1</th>\n",
       "      <th>E2</th>\n",
       "      <th>protein</th>\n",
       "      <th>PEP</th>\n",
       "      <th>ID</th>\n",
       "    </tr>\n",
       "  </thead>\n",
       "  <tbody>\n",
       "    <tr>\n",
       "      <th>595411</th>\n",
       "      <td>K.QELNEPPKQSTSFLVLQEILESEEKGDPNK.P</td>\n",
       "      <td>VYKMLQEKQELNEPP</td>\n",
       "      <td>EEKGDPNKPSGFRSV</td>\n",
       "      <td>QELNEPPKQSTSFLV</td>\n",
       "      <td>EILESEEKGDPNKPS</td>\n",
       "      <td>sp|O00151|PDLI1_HUMAN</td>\n",
       "      <td>QELNEPPKQSTSFLVLQEILESEEKGDPNK</td>\n",
       "      <td>0</td>\n",
       "    </tr>\n",
       "  </tbody>\n",
       "</table>\n",
       "</div>"
      ],
      "text/plain": [
       "                                   peptide               En               Ec  \\\n",
       "595411  K.QELNEPPKQSTSFLVLQEILESEEKGDPNK.P  VYKMLQEKQELNEPP  EEKGDPNKPSGFRSV   \n",
       "\n",
       "                     E1               E2                protein  \\\n",
       "595411  QELNEPPKQSTSFLV  EILESEEKGDPNKPS  sp|O00151|PDLI1_HUMAN   \n",
       "\n",
       "                                   PEP  ID  \n",
       "595411  QELNEPPKQSTSFLVLQEILESEEKGDPNK   0  "
      ]
     },
     "execution_count": 4,
     "metadata": {},
     "output_type": "execute_result"
    }
   ],
   "source": [
    "train.head(1)"
   ]
  },
  {
   "cell_type": "code",
   "execution_count": 5,
   "metadata": {
    "ExecuteTime": {
     "end_time": "2021-11-27T18:27:32.087983Z",
     "start_time": "2021-11-27T18:27:32.080599Z"
    }
   },
   "outputs": [],
   "source": [
    "def get_data_labelEnc(df):\n",
    "    label_enc = {v:k+1 for k, v in enumerate('ARNDCQEGHILKMFPSTWYV')}\n",
    "    label_enc['Z']=0\n",
    "    aa_data = [np.array([seq.count(a) for a in 'ARNDCQEGHILKMFPSTWYV'] + list(np.array([aa2val[aa] for aa in seq]).sum(axis=0)))\n",
    "               for seq in df.PEP.values]\n",
    "    pep_data = [[label_enc[aa] for aa in seq] + [0]*(30-len(seq))\n",
    "               for seq in df.PEP.values]\n",
    "    en_data = [[label_enc[aa] for aa in seq]\n",
    "               for seq in df.En.values]\n",
    "    ec_data = [[label_enc[aa] for aa in seq]\n",
    "               for seq in df.Ec.values]\n",
    "    e1_data = [[label_enc[aa] for aa in seq]\n",
    "               if seq != '-' else [0 for _ in range(15)]\n",
    "               for seq in df.E1.values]\n",
    "    e2_data = [[label_enc[aa] for aa in seq]\n",
    "               if seq != '-' else [0 for _ in range(15)]\n",
    "               for seq in df.E2.values]\n",
    "    return np.array(aa_data), np.array(pep_data), np.array(en_data), np.array(ec_data), np.array(e1_data), np.array(e2_data), np.array(df.ID.values)"
   ]
  },
  {
   "cell_type": "code",
   "execution_count": 6,
   "metadata": {
    "ExecuteTime": {
     "end_time": "2021-11-27T18:28:09.944556Z",
     "start_time": "2021-11-27T18:27:32.089135Z"
    }
   },
   "outputs": [
    {
     "name": "stdout",
     "output_type": "stream",
     "text": [
      "(543516, 39) (543516, 30) (543516, 15) (543516, 15) (543516, 15) (543516, 15) (543516,)\n",
      "(135880, 39) (135880, 30) (135880, 15) (135880, 15) (135880, 15) (135880, 15) (135880,)\n",
      "(133992, 39) (133992, 30) (133992, 15) (133992, 15) (133992, 15) (133992, 15) (133992,)\n"
     ]
    }
   ],
   "source": [
    "aa_train, pep_train, en_train, ec_train, e1_train, e2_train, y_train = get_data_labelEnc(train)\n",
    "aa_val, pep_val, en_val, ec_val, e1_val, e2_val, y_val = get_data_labelEnc(val)\n",
    "aa_test, pep_test, en_test, ec_test, e1_test, e2_test, y_test = get_data_labelEnc(test)\n",
    "print(aa_train.shape, pep_train.shape, en_train.shape, ec_train.shape, e1_train.shape, e2_train.shape, y_train.shape)\n",
    "print(aa_val.shape, pep_val.shape, en_val.shape, ec_val.shape, e1_val.shape, e2_val.shape, y_val.shape)\n",
    "print(aa_test.shape, pep_test.shape, en_test.shape, ec_test.shape, e1_test.shape, e2_test.shape, y_test.shape)"
   ]
  },
  {
   "cell_type": "markdown",
   "metadata": {},
   "source": [
    "# MS2"
   ]
  },
  {
   "cell_type": "code",
   "execution_count": 7,
   "metadata": {
    "ExecuteTime": {
     "end_time": "2021-11-27T18:28:42.208118Z",
     "start_time": "2021-11-27T18:28:09.946580Z"
    }
   },
   "outputs": [],
   "source": [
    "df_ms2 = pd.read_csv('df_modeling_211124_result.msms', sep='\\t')"
   ]
  },
  {
   "cell_type": "code",
   "execution_count": 8,
   "metadata": {
    "ExecuteTime": {
     "end_time": "2021-11-27T18:28:42.218703Z",
     "start_time": "2021-11-27T18:28:42.210079Z"
    }
   },
   "outputs": [
    {
     "name": "stdout",
     "output_type": "stream",
     "text": [
      "(2385750, 5)\n"
     ]
    },
    {
     "data": {
      "text/html": [
       "<div>\n",
       "<style scoped>\n",
       "    .dataframe tbody tr th:only-of-type {\n",
       "        vertical-align: middle;\n",
       "    }\n",
       "\n",
       "    .dataframe tbody tr th {\n",
       "        vertical-align: top;\n",
       "    }\n",
       "\n",
       "    .dataframe thead th {\n",
       "        text-align: right;\n",
       "    }\n",
       "</style>\n",
       "<table border=\"1\" class=\"dataframe\">\n",
       "  <thead>\n",
       "    <tr style=\"text-align: right;\">\n",
       "      <th></th>\n",
       "      <th>Intensities</th>\n",
       "      <th>Masses</th>\n",
       "      <th>Matches</th>\n",
       "      <th>Modified Sequence</th>\n",
       "      <th>Charge</th>\n",
       "    </tr>\n",
       "  </thead>\n",
       "  <tbody>\n",
       "    <tr>\n",
       "      <th>0</th>\n",
       "      <td>0.16607068;0.22559804;1.0;0.10618063;0.1724560...</td>\n",
       "      <td>147.112804167;261.155731167;358.20849516699997...</td>\n",
       "      <td>y1;y2;y3;y4;y5;y6;y7;y8;y9;y10;y11;y12;y13;y14...</td>\n",
       "      <td>QELNEPPKQSTSFLVLQEILESEEKGDPNK</td>\n",
       "      <td>3</td>\n",
       "    </tr>\n",
       "  </tbody>\n",
       "</table>\n",
       "</div>"
      ],
      "text/plain": [
       "                                         Intensities  \\\n",
       "0  0.16607068;0.22559804;1.0;0.10618063;0.1724560...   \n",
       "\n",
       "                                              Masses  \\\n",
       "0  147.112804167;261.155731167;358.20849516699997...   \n",
       "\n",
       "                                             Matches  \\\n",
       "0  y1;y2;y3;y4;y5;y6;y7;y8;y9;y10;y11;y12;y13;y14...   \n",
       "\n",
       "                Modified Sequence  Charge  \n",
       "0  QELNEPPKQSTSFLVLQEILESEEKGDPNK       3  "
      ]
     },
     "execution_count": 8,
     "metadata": {},
     "output_type": "execute_result"
    }
   ],
   "source": [
    "print(df_ms2.shape)\n",
    "df_ms2.head(1)"
   ]
  },
  {
   "cell_type": "code",
   "execution_count": 9,
   "metadata": {
    "ExecuteTime": {
     "end_time": "2021-11-27T18:28:42.231267Z",
     "start_time": "2021-11-27T18:28:42.219780Z"
    }
   },
   "outputs": [],
   "source": [
    "def get_ion_type():\n",
    "    # y1 ~ y29, b1 ~ b29, y1(2+) ~ y29(2+), ... , b1(3+) ~ b29(3+)\n",
    "    ion_num_arr = list(map(str, range(1, 30)))\n",
    "    ion_type_arr = ['y', 'b']\n",
    "    ion_charge_arr = ['', '(2+)', '(3+)']\n",
    "    ion_arr = []\n",
    "    for ic in ion_charge_arr:\n",
    "        for it in ion_type_arr:\n",
    "            for inum in ion_num_arr:\n",
    "                ion_arr.append(it+inum+ic)\n",
    "    return ion_arr\n",
    "\n",
    "def ms_to_174(intens, matches):\n",
    "    i = list(map(float, intens.split(';')))\n",
    "    m = matches.split(';')\n",
    "    ion_dic = {k:v for k, v in zip(m, i)}\n",
    "\n",
    "    ion_arr = get_ion_type()\n",
    "    for ion in ion_arr:\n",
    "        if ion not in ion_dic:\n",
    "            ion_dic[ion] = 0\n",
    "    return ion_dic\n",
    "\n",
    "def ms_to_29(intens, matches, pep):\n",
    "    i = list(map(float, intens.split(';')))\n",
    "    m = matches.split(';')\n",
    "    ion_dic = {k:v for k, v in zip(m, i)}\n",
    "\n",
    "    ion_arr = get_ion_type()\n",
    "    for ion in ion_arr:\n",
    "        if ion not in ion_dic:\n",
    "            ion_dic[ion] = 0\n",
    "    \n",
    "    # fragmentation part\n",
    "    ion_y1c = ['y' + str(i) for i in range(1, len(pep))]\n",
    "    ion_y2c = ['y' + str(i) + '(2+)' for i in range(1, len(pep))]\n",
    "    ion_y3c = ['y' + str(i) + '(3+)' for i in range(1, len(pep))]\n",
    "    ion_b1c = ['b' + str(i) for i in range(len(pep)-1, 0, -1)]\n",
    "    ion_b2c = ['b' + str(i) + '(2+)' for i in range(len(pep)-1, 0, -1)]\n",
    "    ion_b3c = ['b' + str(i) + '(3+)'  for i in range(len(pep)-1, 0, -1)]\n",
    "    \n",
    "    ion_sum = {i:0 for i in range(1, 30)}\n",
    "    for idx, i in enumerate(range(1, len(pep))):\n",
    "        y1c = ion_dic[ion_y1c[idx]]\n",
    "        y2c = ion_dic[ion_y2c[idx]]\n",
    "        y3c = ion_dic[ion_y3c[idx]]\n",
    "        b1c = ion_dic[ion_b1c[idx]]\n",
    "        b2c = ion_dic[ion_b2c[idx]]\n",
    "        b3c = ion_dic[ion_b3c[idx]]\n",
    "        \n",
    "        ion_sum[i] = y1c + y2c + y3c + b1c + b2c + b3c\n",
    "    \n",
    "    return list(np.array(sorted(ion_sum.items()))[:, 1])"
   ]
  },
  {
   "cell_type": "code",
   "execution_count": 10,
   "metadata": {
    "ExecuteTime": {
     "end_time": "2021-11-27T18:34:16.602212Z",
     "start_time": "2021-11-27T18:28:42.232229Z"
    }
   },
   "outputs": [
    {
     "name": "stdout",
     "output_type": "stream",
     "text": [
      "time:  334.36 sec\n"
     ]
    }
   ],
   "source": [
    "s = time.time()\n",
    "\n",
    "p2ms2 = dict()\n",
    "for i, m, p, c in df_ms2[['Intensities', 'Matches', 'Modified Sequence', 'Charge']].values:\n",
    "    if p not in p2ms2:\n",
    "        p2ms2[p] = {k:[0 for _ in range(1, 30)] for k in range(1, 6)}\n",
    "    p2ms2[p][c] = ms_to_29(i, m, p)\n",
    "\n",
    "e = time.time()\n",
    "print('time: ', round(e-s, 2), 'sec')"
   ]
  },
  {
   "cell_type": "code",
   "execution_count": 11,
   "metadata": {
    "ExecuteTime": {
     "end_time": "2021-11-27T18:34:48.994405Z",
     "start_time": "2021-11-27T18:34:16.603692Z"
    }
   },
   "outputs": [
    {
     "name": "stderr",
     "output_type": "stream",
     "text": [
      "/home/bis/miniconda3/envs/TF2.4/lib/python3.7/site-packages/ipykernel_launcher.py:3: VisibleDeprecationWarning: Creating an ndarray from ragged nested sequences (which is a list-or-tuple of lists-or-tuples-or ndarrays with different lengths or shapes) is deprecated. If you meant to do this, you must specify 'dtype=object' when creating the ndarray\n",
      "  This is separate from the ipykernel package so we can avoid doing imports until\n"
     ]
    }
   ],
   "source": [
    "pep_to_ms = dict()\n",
    "for k, v in p2ms2.items():\n",
    "    tensor = np.array(sorted(v.items()))[:, 1]\n",
    "    ms2arr = np.concatenate(tensor, axis=None)\n",
    "    pep_to_ms[k] = ms2arr"
   ]
  },
  {
   "cell_type": "code",
   "execution_count": 12,
   "metadata": {
    "ExecuteTime": {
     "end_time": "2021-11-27T18:34:51.607799Z",
     "start_time": "2021-11-27T18:34:48.996467Z"
    }
   },
   "outputs": [],
   "source": [
    "h_train = np.array([pep_to_ms[p] for p in train.PEP.values])\n",
    "c_train = h_train.copy()\n",
    "h_val = np.array([pep_to_ms[p] for p in val.PEP.values])\n",
    "c_val = h_val.copy()\n",
    "\n",
    "h_test = np.array([pep_to_ms[p] for p in test.PEP.values])\n",
    "c_test = h_test.copy()"
   ]
  },
  {
   "cell_type": "markdown",
   "metadata": {},
   "source": [
    "# Train"
   ]
  },
  {
   "cell_type": "code",
   "execution_count": 13,
   "metadata": {
    "ExecuteTime": {
     "end_time": "2021-11-27T18:34:52.695674Z",
     "start_time": "2021-11-27T18:34:51.609280Z"
    }
   },
   "outputs": [],
   "source": [
    "from tensorflow.python.client import device_lib\n",
    "\n",
    "import tensorflow as tf\n",
    "gpus = tf.config.experimental.list_physical_devices('GPU')\n",
    "if gpus:\n",
    "    try:\n",
    "        tf.config.experimental.set_virtual_device_configuration(gpus[0],\n",
    "        [tf.config.experimental.VirtualDeviceConfiguration(memory_limit=1024*4)])\n",
    "    except RuntimeError as e:\n",
    "        print(e)\n",
    "\n",
    "from tensorflow import keras"
   ]
  },
  {
   "cell_type": "code",
   "execution_count": 14,
   "metadata": {
    "ExecuteTime": {
     "end_time": "2021-11-27T18:34:52.700322Z",
     "start_time": "2021-11-27T18:34:52.697308Z"
    }
   },
   "outputs": [],
   "source": [
    "def plot_graphs(history, metric):\n",
    "    plt.plot(history.history[metric])\n",
    "    plt.plot(history.history['val_'+metric], '')\n",
    "    plt.xlabel(\"Epochs\")\n",
    "    plt.ylabel(metric)\n",
    "    plt.legend([metric, 'val_'+metric])\n",
    "    plt.show()"
   ]
  },
  {
   "cell_type": "markdown",
   "metadata": {},
   "source": [
    "# high param"
   ]
  },
  {
   "cell_type": "code",
   "execution_count": 16,
   "metadata": {
    "ExecuteTime": {
     "end_time": "2021-11-27T18:35:09.254503Z",
     "start_time": "2021-11-27T18:35:03.018800Z"
    },
    "scrolled": true
   },
   "outputs": [
    {
     "name": "stdout",
     "output_type": "stream",
     "text": [
      "Model: \"model_1\"\n",
      "__________________________________________________________________________________________________\n",
      "Layer (type)                    Output Shape         Param #     Connected to                     \n",
      "==================================================================================================\n",
      "input_8 (InputLayer)            [(None, 30)]         0                                            \n",
      "__________________________________________________________________________________________________\n",
      "input_10 (InputLayer)           [(None, 15)]         0                                            \n",
      "__________________________________________________________________________________________________\n",
      "input_11 (InputLayer)           [(None, 15)]         0                                            \n",
      "__________________________________________________________________________________________________\n",
      "input_12 (InputLayer)           [(None, 15)]         0                                            \n",
      "__________________________________________________________________________________________________\n",
      "input_13 (InputLayer)           [(None, 15)]         0                                            \n",
      "__________________________________________________________________________________________________\n",
      "embedding_5 (Embedding)         (None, 30, 32)       672         input_8[0][0]                    \n",
      "__________________________________________________________________________________________________\n",
      "embedding_6 (Embedding)         (None, 15, 16)       336         input_10[0][0]                   \n",
      "__________________________________________________________________________________________________\n",
      "embedding_7 (Embedding)         (None, 15, 16)       336         input_11[0][0]                   \n",
      "__________________________________________________________________________________________________\n",
      "embedding_8 (Embedding)         (None, 15, 16)       336         input_12[0][0]                   \n",
      "__________________________________________________________________________________________________\n",
      "embedding_9 (Embedding)         (None, 15, 16)       336         input_13[0][0]                   \n",
      "__________________________________________________________________________________________________\n",
      "input_14 (InputLayer)           [(None, 145)]        0                                            \n",
      "__________________________________________________________________________________________________\n",
      "dropout_15 (Dropout)            (None, 30, 32)       0           embedding_5[0][0]                \n",
      "__________________________________________________________________________________________________\n",
      "dropout_16 (Dropout)            (None, 15, 16)       0           embedding_6[0][0]                \n",
      "__________________________________________________________________________________________________\n",
      "dropout_17 (Dropout)            (None, 15, 16)       0           embedding_7[0][0]                \n",
      "__________________________________________________________________________________________________\n",
      "dropout_18 (Dropout)            (None, 15, 16)       0           embedding_8[0][0]                \n",
      "__________________________________________________________________________________________________\n",
      "dropout_19 (Dropout)            (None, 15, 16)       0           embedding_9[0][0]                \n",
      "__________________________________________________________________________________________________\n",
      "dense_17 (Dense)                (None, 64)           9344        input_14[0][0]                   \n",
      "__________________________________________________________________________________________________\n",
      "bidirectional_9 (Bidirectional) (None, 32)           6272        dropout_15[0][0]                 \n",
      "__________________________________________________________________________________________________\n",
      "input_9 (InputLayer)            [(None, 39)]         0                                            \n",
      "__________________________________________________________________________________________________\n",
      "bidirectional_5 (Bidirectional) (None, 16)           1600        dropout_16[0][0]                 \n",
      "__________________________________________________________________________________________________\n",
      "bidirectional_6 (Bidirectional) (None, 16)           1600        dropout_17[0][0]                 \n",
      "__________________________________________________________________________________________________\n",
      "bidirectional_7 (Bidirectional) (None, 16)           1600        dropout_18[0][0]                 \n",
      "__________________________________________________________________________________________________\n",
      "bidirectional_8 (Bidirectional) (None, 16)           1600        dropout_19[0][0]                 \n",
      "__________________________________________________________________________________________________\n",
      "dropout_26 (Dropout)            (None, 64)           0           dense_17[0][0]                   \n",
      "__________________________________________________________________________________________________\n",
      "dense_16 (Dense)                (None, 16)           528         bidirectional_9[0][0]            \n",
      "__________________________________________________________________________________________________\n",
      "dense_11 (Dense)                (None, 32)           1280        input_9[0][0]                    \n",
      "__________________________________________________________________________________________________\n",
      "dense_12 (Dense)                (None, 8)            136         bidirectional_5[0][0]            \n",
      "__________________________________________________________________________________________________\n",
      "dense_13 (Dense)                (None, 8)            136         bidirectional_6[0][0]            \n",
      "__________________________________________________________________________________________________\n",
      "dense_14 (Dense)                (None, 8)            136         bidirectional_7[0][0]            \n",
      "__________________________________________________________________________________________________\n",
      "dense_15 (Dense)                (None, 8)            136         bidirectional_8[0][0]            \n",
      "__________________________________________________________________________________________________\n",
      "dense_18 (Dense)                (None, 32)           2080        dropout_26[0][0]                 \n",
      "__________________________________________________________________________________________________\n",
      "dropout_25 (Dropout)            (None, 16)           0           dense_16[0][0]                   \n",
      "__________________________________________________________________________________________________\n",
      "dropout_20 (Dropout)            (None, 32)           0           dense_11[0][0]                   \n",
      "__________________________________________________________________________________________________\n",
      "dropout_21 (Dropout)            (None, 8)            0           dense_12[0][0]                   \n",
      "__________________________________________________________________________________________________\n",
      "dropout_22 (Dropout)            (None, 8)            0           dense_13[0][0]                   \n",
      "__________________________________________________________________________________________________\n",
      "dropout_23 (Dropout)            (None, 8)            0           dense_14[0][0]                   \n",
      "__________________________________________________________________________________________________\n",
      "dropout_24 (Dropout)            (None, 8)            0           dense_15[0][0]                   \n",
      "__________________________________________________________________________________________________\n",
      "dropout_27 (Dropout)            (None, 32)           0           dense_18[0][0]                   \n",
      "__________________________________________________________________________________________________\n",
      "concatenate_1 (Concatenate)     (None, 112)          0           dropout_25[0][0]                 \n",
      "                                                                 dropout_20[0][0]                 \n",
      "                                                                 dropout_21[0][0]                 \n",
      "                                                                 dropout_22[0][0]                 \n",
      "                                                                 dropout_23[0][0]                 \n",
      "                                                                 dropout_24[0][0]                 \n",
      "                                                                 dropout_27[0][0]                 \n",
      "__________________________________________________________________________________________________\n",
      "dense_19 (Dense)                (None, 64)           7232        concatenate_1[0][0]              \n",
      "__________________________________________________________________________________________________\n",
      "dropout_28 (Dropout)            (None, 64)           0           dense_19[0][0]                   \n",
      "__________________________________________________________________________________________________\n",
      "dense_20 (Dense)                (None, 32)           2080        dropout_28[0][0]                 \n",
      "__________________________________________________________________________________________________\n",
      "dropout_29 (Dropout)            (None, 32)           0           dense_20[0][0]                   \n",
      "__________________________________________________________________________________________________\n",
      "dense_21 (Dense)                (None, 1)            33          dropout_29[0][0]                 \n",
      "==================================================================================================\n",
      "Total params: 37,809\n",
      "Trainable params: 37,809\n",
      "Non-trainable params: 0\n",
      "__________________________________________________________________________________________________\n"
     ]
    }
   ],
   "source": [
    "# Embedding\n",
    "pep = tf.keras.layers.Input(shape=((30,)))\n",
    "pep_embed = tf.keras.layers.Embedding(21, 32, input_length=30, mask_zero=True)(pep)\n",
    "pep_embed = tf.keras.layers.Dropout(np.random.uniform(0, 0.2))(pep_embed)\n",
    "\n",
    "meta = tf.keras.layers.Input(shape=((39,)))  # peptide info\n",
    "\n",
    "n = tf.keras.layers.Input(shape=((15,)))\n",
    "n_embed = tf.keras.layers.Embedding(21, 16, input_length=15, mask_zero=True)(n)\n",
    "n_embed = tf.keras.layers.Dropout(np.random.uniform(0, 0.2))(n_embed)\n",
    "\n",
    "c = tf.keras.layers.Input(shape=((15,)))\n",
    "c_embed = tf.keras.layers.Embedding(21, 16, input_length=15, mask_zero=True)(c)\n",
    "c_embed = tf.keras.layers.Dropout(np.random.uniform(0, 0.2))(c_embed)\n",
    "\n",
    "m1 = tf.keras.layers.Input(shape=((15,)))\n",
    "m1_embed = tf.keras.layers.Embedding(21, 16, input_length=15, mask_zero=True)(m1)\n",
    "m1_embed = tf.keras.layers.Dropout(np.random.uniform(0, 0.2))(m1_embed)\n",
    "\n",
    "m2 = tf.keras.layers.Input(shape=((15,)))\n",
    "m2_embed = tf.keras.layers.Embedding(21, 16, input_length=15, mask_zero=True)(m2)\n",
    "m2_embed = tf.keras.layers.Dropout(np.random.uniform(0, 0.2))(m2_embed)\n",
    "\n",
    "\n",
    "# LSTM\n",
    "net_meta = tf.keras.layers.Dense(32, activation='relu')(meta)\n",
    "net_meta = tf.keras.layers.Dropout(np.random.uniform(0, 0.2))(net_meta)\n",
    "\n",
    "n_lstm = tf.keras.layers.Bidirectional(tf.keras.layers.LSTM(8))(n_embed)\n",
    "n_lstm = tf.keras.layers.Dense(8, activation='relu')(n_lstm)\n",
    "n_lstm = tf.keras.layers.Dropout(np.random.uniform(0, 0.2))(n_lstm)\n",
    "\n",
    "c_lstm = tf.keras.layers.Bidirectional(tf.keras.layers.LSTM(8))(c_embed)\n",
    "c_lstm = tf.keras.layers.Dense(8, activation='relu')(c_lstm)\n",
    "c_lstm = tf.keras.layers.Dropout(np.random.uniform(0, 0.2))(c_lstm)\n",
    "\n",
    "m1_lstm = tf.keras.layers.Bidirectional(tf.keras.layers.LSTM(8))(m1_embed)\n",
    "m1_lstm = tf.keras.layers.Dense(8, activation='relu')(m1_lstm)\n",
    "m1_lstm = tf.keras.layers.Dropout(np.random.uniform(0, 0.2))(m1_lstm)\n",
    "\n",
    "m2_lstm = tf.keras.layers.Bidirectional(tf.keras.layers.LSTM(8))(m2_embed)\n",
    "m2_lstm = tf.keras.layers.Dense(8, activation='relu')(m2_lstm)\n",
    "m2_lstm = tf.keras.layers.Dropout(np.random.uniform(0, 0.2))(m2_lstm)\n",
    "\n",
    "pep_lstm = tf.keras.layers.Bidirectional(tf.keras.layers.LSTM(16))(pep_embed)\n",
    "pep_lstm = tf.keras.layers.Dense(16, activation='relu')(pep_lstm)\n",
    "pep_lstm = tf.keras.layers.Dropout(np.random.uniform(0, 0.2))(pep_lstm)\n",
    "\n",
    "h_0 = tf.keras.layers.Input(shape=((145,)))\n",
    "ms_net = tf.keras.layers.Dense(64, activation='relu')(h_0)\n",
    "ms_net = tf.keras.layers.Dropout(np.random.uniform(0, 0.2))(ms_net)\n",
    "ms_net = tf.keras.layers.Dense(32, activation='relu')(ms_net)\n",
    "ms_net = tf.keras.layers.Dropout(np.random.uniform(0, 0.2))(ms_net)\n",
    "\n",
    "# Dense\n",
    "merge = tf.keras.layers.concatenate([pep_lstm, \n",
    "                                     net_meta,\n",
    "                                     n_lstm,\n",
    "                                     c_lstm,\n",
    "                                     m1_lstm,\n",
    "                                     m2_lstm,\n",
    "                                     ms_net])\n",
    "\n",
    "net_merge = tf.keras.layers.Dense(64, activation='relu')(merge)\n",
    "net_merge = tf.keras.layers.Dropout(np.random.uniform(0, 0.2))(net_merge)\n",
    "net_merge = tf.keras.layers.Dense(32, activation='relu')(net_merge)\n",
    "net_merge = tf.keras.layers.Dropout(np.random.uniform(0, 0.2))(net_merge)\n",
    "\n",
    "output = tf.keras.layers.Dense(1, activation = 'sigmoid')(net_merge)\n",
    "\n",
    "model_high = tf.keras.Model(inputs=[h_0, pep, meta, n, c, m1, m2],\n",
    "                            outputs=[output])\n",
    "\n",
    "model_high.summary()\n",
    "\n",
    "model_high.compile(loss=tf.keras.losses.BinaryCrossentropy(from_logits=True),\n",
    "              optimizer=tf.keras.optimizers.Adam(5e-4),\n",
    "              metrics=['accuracy'])\n",
    "\n",
    "es = tf.keras.callbacks.EarlyStopping(monitor='val_loss',\n",
    "                                      mode='min', \n",
    "                                      verbose=1,\n",
    "                                      patience=50)"
   ]
  },
  {
   "cell_type": "code",
   "execution_count": 17,
   "metadata": {
    "ExecuteTime": {
     "end_time": "2021-11-28T10:34:56.804820Z",
     "start_time": "2021-11-27T18:35:09.256029Z"
    },
    "scrolled": true
   },
   "outputs": [
    {
     "name": "stdout",
     "output_type": "stream",
     "text": [
      "Epoch 1/300\n",
      "2124/2124 [==============================] - 330s 141ms/step - loss: 1.3680 - accuracy: 0.6106 - val_loss: 0.4651 - val_accuracy: 0.7787\n",
      "Epoch 2/300\n",
      "2124/2124 [==============================] - 288s 136ms/step - loss: 0.4760 - accuracy: 0.7773 - val_loss: 0.4425 - val_accuracy: 0.7927\n",
      "Epoch 3/300\n",
      "2124/2124 [==============================] - 293s 138ms/step - loss: 0.4472 - accuracy: 0.7951 - val_loss: 0.4263 - val_accuracy: 0.8041\n",
      "Epoch 4/300\n",
      "2124/2124 [==============================] - 289s 136ms/step - loss: 0.4355 - accuracy: 0.8014 - val_loss: 0.4171 - val_accuracy: 0.8101\n",
      "Epoch 5/300\n",
      "2124/2124 [==============================] - 297s 140ms/step - loss: 0.4265 - accuracy: 0.8065 - val_loss: 0.4123 - val_accuracy: 0.8128\n",
      "Epoch 6/300\n",
      "2124/2124 [==============================] - 300s 141ms/step - loss: 0.4224 - accuracy: 0.8082 - val_loss: 0.4083 - val_accuracy: 0.8144\n",
      "Epoch 7/300\n",
      "2124/2124 [==============================] - 286s 135ms/step - loss: 0.4149 - accuracy: 0.8123 - val_loss: 0.4056 - val_accuracy: 0.8164\n",
      "Epoch 8/300\n",
      "2124/2124 [==============================] - 273s 129ms/step - loss: 0.4124 - accuracy: 0.8133 - val_loss: 0.4072 - val_accuracy: 0.8175\n",
      "Epoch 9/300\n",
      "2124/2124 [==============================] - 273s 129ms/step - loss: 0.4100 - accuracy: 0.8149 - val_loss: 0.4017 - val_accuracy: 0.8185\n",
      "Epoch 10/300\n",
      "2124/2124 [==============================] - 275s 129ms/step - loss: 0.4078 - accuracy: 0.8164 - val_loss: 0.3993 - val_accuracy: 0.8200\n",
      "Epoch 11/300\n",
      "2124/2124 [==============================] - 275s 130ms/step - loss: 0.4031 - accuracy: 0.8187 - val_loss: 0.3975 - val_accuracy: 0.8212\n",
      "Epoch 12/300\n",
      "2124/2124 [==============================] - 282s 133ms/step - loss: 0.4037 - accuracy: 0.8185 - val_loss: 0.3972 - val_accuracy: 0.8222\n",
      "Epoch 13/300\n",
      "2124/2124 [==============================] - 288s 136ms/step - loss: 0.4001 - accuracy: 0.8201 - val_loss: 0.3962 - val_accuracy: 0.8222\n",
      "Epoch 14/300\n",
      "2124/2124 [==============================] - 295s 139ms/step - loss: 0.4007 - accuracy: 0.8192 - val_loss: 0.3943 - val_accuracy: 0.8232\n",
      "Epoch 15/300\n",
      "2124/2124 [==============================] - 284s 134ms/step - loss: 0.3974 - accuracy: 0.8212 - val_loss: 0.3929 - val_accuracy: 0.8227\n",
      "Epoch 16/300\n",
      "2124/2124 [==============================] - 323s 152ms/step - loss: 0.3962 - accuracy: 0.8215 - val_loss: 0.3925 - val_accuracy: 0.8251\n",
      "Epoch 17/300\n",
      "2124/2124 [==============================] - 341s 161ms/step - loss: 0.3959 - accuracy: 0.8219 - val_loss: 0.3923 - val_accuracy: 0.8241\n",
      "Epoch 18/300\n",
      "2124/2124 [==============================] - 346s 163ms/step - loss: 0.3942 - accuracy: 0.8226 - val_loss: 0.3907 - val_accuracy: 0.8243\n",
      "Epoch 19/300\n",
      "2124/2124 [==============================] - 337s 159ms/step - loss: 0.3941 - accuracy: 0.8232 - val_loss: 0.3901 - val_accuracy: 0.8249\n",
      "Epoch 20/300\n",
      "2124/2124 [==============================] - 299s 141ms/step - loss: 0.3918 - accuracy: 0.8242 - val_loss: 0.3906 - val_accuracy: 0.8257\n",
      "Epoch 21/300\n",
      "2124/2124 [==============================] - 299s 141ms/step - loss: 0.3917 - accuracy: 0.8245 - val_loss: 0.3921 - val_accuracy: 0.8248\n",
      "Epoch 22/300\n",
      "2124/2124 [==============================] - 296s 140ms/step - loss: 0.3918 - accuracy: 0.8242 - val_loss: 0.3891 - val_accuracy: 0.8262\n",
      "Epoch 23/300\n",
      "2124/2124 [==============================] - 302s 142ms/step - loss: 0.3908 - accuracy: 0.8243 - val_loss: 0.3885 - val_accuracy: 0.8264\n",
      "Epoch 24/300\n",
      "2124/2124 [==============================] - 297s 140ms/step - loss: 0.3890 - accuracy: 0.8258 - val_loss: 0.3894 - val_accuracy: 0.8261\n",
      "Epoch 25/300\n",
      "2124/2124 [==============================] - 296s 139ms/step - loss: 0.3884 - accuracy: 0.8266 - val_loss: 0.3886 - val_accuracy: 0.8267\n",
      "Epoch 26/300\n",
      "2124/2124 [==============================] - 302s 142ms/step - loss: 0.3870 - accuracy: 0.8272 - val_loss: 0.3930 - val_accuracy: 0.8257\n",
      "Epoch 27/300\n",
      "2124/2124 [==============================] - 303s 142ms/step - loss: 0.3865 - accuracy: 0.8268 - val_loss: 0.3871 - val_accuracy: 0.8266\n",
      "Epoch 28/300\n",
      "2124/2124 [==============================] - 337s 159ms/step - loss: 0.3852 - accuracy: 0.8275 - val_loss: 0.3872 - val_accuracy: 0.8270\n",
      "Epoch 29/300\n",
      "2124/2124 [==============================] - 300s 141ms/step - loss: 0.3860 - accuracy: 0.8274 - val_loss: 0.3867 - val_accuracy: 0.8273\n",
      "Epoch 30/300\n",
      "2124/2124 [==============================] - 301s 142ms/step - loss: 0.3861 - accuracy: 0.8273 - val_loss: 0.3908 - val_accuracy: 0.8250\n",
      "Epoch 31/300\n",
      "2124/2124 [==============================] - 298s 140ms/step - loss: 0.3844 - accuracy: 0.8283 - val_loss: 0.3877 - val_accuracy: 0.8272\n",
      "Epoch 32/300\n",
      "2124/2124 [==============================] - 299s 141ms/step - loss: 0.3833 - accuracy: 0.8285 - val_loss: 0.3868 - val_accuracy: 0.8278\n",
      "Epoch 33/300\n",
      "2124/2124 [==============================] - 298s 140ms/step - loss: 0.3832 - accuracy: 0.8281 - val_loss: 0.3861 - val_accuracy: 0.8280\n",
      "Epoch 34/300\n",
      "2124/2124 [==============================] - 298s 140ms/step - loss: 0.3821 - accuracy: 0.8288 - val_loss: 0.3857 - val_accuracy: 0.8280\n",
      "Epoch 35/300\n",
      "2124/2124 [==============================] - 300s 141ms/step - loss: 0.3821 - accuracy: 0.8287 - val_loss: 0.3849 - val_accuracy: 0.8280\n",
      "Epoch 36/300\n",
      "2124/2124 [==============================] - 300s 141ms/step - loss: 0.3819 - accuracy: 0.8286 - val_loss: 0.3842 - val_accuracy: 0.8286\n",
      "Epoch 37/300\n",
      "2124/2124 [==============================] - 275s 130ms/step - loss: 0.3814 - accuracy: 0.8292 - val_loss: 0.3901 - val_accuracy: 0.8254\n",
      "Epoch 38/300\n",
      "2124/2124 [==============================] - 279s 131ms/step - loss: 0.3792 - accuracy: 0.8307 - val_loss: 0.3856 - val_accuracy: 0.8281\n",
      "Epoch 39/300\n",
      "2124/2124 [==============================] - 280s 132ms/step - loss: 0.3804 - accuracy: 0.8296 - val_loss: 0.3837 - val_accuracy: 0.8286\n",
      "Epoch 40/300\n",
      "2124/2124 [==============================] - 276s 130ms/step - loss: 0.3786 - accuracy: 0.8307 - val_loss: 0.3847 - val_accuracy: 0.8283\n",
      "Epoch 41/300\n",
      "2124/2124 [==============================] - 280s 132ms/step - loss: 0.3791 - accuracy: 0.8306 - val_loss: 0.3856 - val_accuracy: 0.8271\n",
      "Epoch 42/300\n",
      "2124/2124 [==============================] - 279s 131ms/step - loss: 0.3787 - accuracy: 0.8307 - val_loss: 0.3849 - val_accuracy: 0.8275\n",
      "Epoch 43/300\n",
      "2124/2124 [==============================] - 275s 130ms/step - loss: 0.3780 - accuracy: 0.8307 - val_loss: 0.3832 - val_accuracy: 0.8291\n",
      "Epoch 44/300\n",
      "2124/2124 [==============================] - 279s 131ms/step - loss: 0.3775 - accuracy: 0.8315 - val_loss: 0.3843 - val_accuracy: 0.8290\n",
      "Epoch 45/300\n",
      "2124/2124 [==============================] - 278s 131ms/step - loss: 0.3776 - accuracy: 0.8308 - val_loss: 0.3844 - val_accuracy: 0.8281\n",
      "Epoch 46/300\n",
      "2124/2124 [==============================] - 276s 130ms/step - loss: 0.3778 - accuracy: 0.8315 - val_loss: 0.3833 - val_accuracy: 0.8288\n",
      "Epoch 47/300\n",
      "2124/2124 [==============================] - 280s 132ms/step - loss: 0.3760 - accuracy: 0.8317 - val_loss: 0.3836 - val_accuracy: 0.8291\n",
      "Epoch 48/300\n",
      "2124/2124 [==============================] - 279s 131ms/step - loss: 0.3772 - accuracy: 0.8305 - val_loss: 0.3892 - val_accuracy: 0.8285\n",
      "Epoch 49/300\n",
      "2124/2124 [==============================] - 275s 129ms/step - loss: 0.3759 - accuracy: 0.8314 - val_loss: 0.3831 - val_accuracy: 0.8293\n",
      "Epoch 50/300\n",
      "2124/2124 [==============================] - 280s 132ms/step - loss: 0.3752 - accuracy: 0.8317 - val_loss: 0.3831 - val_accuracy: 0.8293\n",
      "Epoch 51/300\n",
      "2124/2124 [==============================] - 280s 132ms/step - loss: 0.3757 - accuracy: 0.8316 - val_loss: 0.3841 - val_accuracy: 0.8286\n",
      "Epoch 52/300\n",
      "2124/2124 [==============================] - 276s 130ms/step - loss: 0.3758 - accuracy: 0.8324 - val_loss: 0.3838 - val_accuracy: 0.8296\n",
      "Epoch 53/300\n",
      "2124/2124 [==============================] - 283s 133ms/step - loss: 0.3749 - accuracy: 0.8325 - val_loss: 0.3850 - val_accuracy: 0.8288\n",
      "Epoch 54/300\n",
      "2124/2124 [==============================] - 280s 132ms/step - loss: 0.3751 - accuracy: 0.8326 - val_loss: 0.3828 - val_accuracy: 0.8295\n",
      "Epoch 55/300\n",
      "2124/2124 [==============================] - 276s 130ms/step - loss: 0.3745 - accuracy: 0.8331 - val_loss: 0.3831 - val_accuracy: 0.8290\n"
     ]
    },
    {
     "name": "stdout",
     "output_type": "stream",
     "text": [
      "Epoch 56/300\n",
      "2124/2124 [==============================] - 281s 133ms/step - loss: 0.3735 - accuracy: 0.8330 - val_loss: 0.3855 - val_accuracy: 0.8278\n",
      "Epoch 57/300\n",
      "2124/2124 [==============================] - 280s 132ms/step - loss: 0.3729 - accuracy: 0.8346 - val_loss: 0.3824 - val_accuracy: 0.8294\n",
      "Epoch 58/300\n",
      "2124/2124 [==============================] - 275s 130ms/step - loss: 0.3726 - accuracy: 0.8343 - val_loss: 0.3836 - val_accuracy: 0.8296\n",
      "Epoch 59/300\n",
      "2124/2124 [==============================] - 279s 131ms/step - loss: 0.3715 - accuracy: 0.8347 - val_loss: 0.3823 - val_accuracy: 0.8291\n",
      "Epoch 60/300\n",
      "2124/2124 [==============================] - 277s 131ms/step - loss: 0.3717 - accuracy: 0.8339 - val_loss: 0.3821 - val_accuracy: 0.8295\n",
      "Epoch 61/300\n",
      "2124/2124 [==============================] - 276s 130ms/step - loss: 0.3718 - accuracy: 0.8339 - val_loss: 0.3817 - val_accuracy: 0.8303\n",
      "Epoch 62/300\n",
      "2124/2124 [==============================] - 280s 132ms/step - loss: 0.3714 - accuracy: 0.8347 - val_loss: 0.3831 - val_accuracy: 0.8291\n",
      "Epoch 63/300\n",
      "2124/2124 [==============================] - 280s 132ms/step - loss: 0.3721 - accuracy: 0.8330 - val_loss: 0.3806 - val_accuracy: 0.8301\n",
      "Epoch 64/300\n",
      "2124/2124 [==============================] - 275s 130ms/step - loss: 0.3719 - accuracy: 0.8339 - val_loss: 0.3821 - val_accuracy: 0.8300\n",
      "Epoch 65/300\n",
      "2124/2124 [==============================] - 279s 131ms/step - loss: 0.3722 - accuracy: 0.8344 - val_loss: 0.3822 - val_accuracy: 0.8299\n",
      "Epoch 66/300\n",
      "2124/2124 [==============================] - 281s 132ms/step - loss: 0.3707 - accuracy: 0.8350 - val_loss: 0.3824 - val_accuracy: 0.8299\n",
      "Epoch 67/300\n",
      "2124/2124 [==============================] - 275s 129ms/step - loss: 0.3699 - accuracy: 0.8352 - val_loss: 0.3816 - val_accuracy: 0.8304\n",
      "Epoch 68/300\n",
      "2124/2124 [==============================] - 279s 131ms/step - loss: 0.3699 - accuracy: 0.8353 - val_loss: 0.3814 - val_accuracy: 0.8301\n",
      "Epoch 69/300\n",
      "2124/2124 [==============================] - 281s 132ms/step - loss: 0.3704 - accuracy: 0.8355 - val_loss: 0.3808 - val_accuracy: 0.8297\n",
      "Epoch 70/300\n",
      "2124/2124 [==============================] - 274s 129ms/step - loss: 0.3705 - accuracy: 0.8349 - val_loss: 0.3812 - val_accuracy: 0.8299\n",
      "Epoch 71/300\n",
      "2124/2124 [==============================] - 277s 130ms/step - loss: 0.3692 - accuracy: 0.8352 - val_loss: 0.3810 - val_accuracy: 0.8308\n",
      "Epoch 72/300\n",
      "2124/2124 [==============================] - 281s 132ms/step - loss: 0.3678 - accuracy: 0.8361 - val_loss: 0.3814 - val_accuracy: 0.8297\n",
      "Epoch 73/300\n",
      "2124/2124 [==============================] - 274s 129ms/step - loss: 0.3677 - accuracy: 0.8372 - val_loss: 0.3820 - val_accuracy: 0.8297\n",
      "Epoch 74/300\n",
      "2124/2124 [==============================] - 274s 129ms/step - loss: 0.3672 - accuracy: 0.8362 - val_loss: 0.3806 - val_accuracy: 0.8306\n",
      "Epoch 75/300\n",
      "2124/2124 [==============================] - 282s 133ms/step - loss: 0.3680 - accuracy: 0.8360 - val_loss: 0.3798 - val_accuracy: 0.8316\n",
      "Epoch 76/300\n",
      "2124/2124 [==============================] - 278s 131ms/step - loss: 0.3694 - accuracy: 0.8354 - val_loss: 0.3800 - val_accuracy: 0.8314\n",
      "Epoch 77/300\n",
      "2124/2124 [==============================] - 276s 130ms/step - loss: 0.3681 - accuracy: 0.8359 - val_loss: 0.3809 - val_accuracy: 0.8301\n",
      "Epoch 78/300\n",
      "2124/2124 [==============================] - 283s 133ms/step - loss: 0.3684 - accuracy: 0.8363 - val_loss: 0.3803 - val_accuracy: 0.8311\n",
      "Epoch 79/300\n",
      "2124/2124 [==============================] - 276s 130ms/step - loss: 0.3680 - accuracy: 0.8361 - val_loss: 0.3796 - val_accuracy: 0.8304\n",
      "Epoch 80/300\n",
      "2124/2124 [==============================] - 277s 131ms/step - loss: 0.3652 - accuracy: 0.8370 - val_loss: 0.3798 - val_accuracy: 0.8312\n",
      "Epoch 81/300\n",
      "2124/2124 [==============================] - 283s 133ms/step - loss: 0.3677 - accuracy: 0.8360 - val_loss: 0.3815 - val_accuracy: 0.8294\n",
      "Epoch 82/300\n",
      "2124/2124 [==============================] - 275s 129ms/step - loss: 0.3668 - accuracy: 0.8370 - val_loss: 0.3824 - val_accuracy: 0.8290\n",
      "Epoch 83/300\n",
      "2124/2124 [==============================] - 275s 130ms/step - loss: 0.3663 - accuracy: 0.8371 - val_loss: 0.3822 - val_accuracy: 0.8290\n",
      "Epoch 84/300\n",
      "2124/2124 [==============================] - 283s 133ms/step - loss: 0.3644 - accuracy: 0.8382 - val_loss: 0.3828 - val_accuracy: 0.8303\n",
      "Epoch 85/300\n",
      "2124/2124 [==============================] - 274s 129ms/step - loss: 0.3670 - accuracy: 0.8362 - val_loss: 0.3793 - val_accuracy: 0.8310\n",
      "Epoch 86/300\n",
      "2124/2124 [==============================] - 275s 130ms/step - loss: 0.3671 - accuracy: 0.8360 - val_loss: 0.3797 - val_accuracy: 0.8312\n",
      "Epoch 87/300\n",
      "2124/2124 [==============================] - 281s 132ms/step - loss: 0.3661 - accuracy: 0.8369 - val_loss: 0.3800 - val_accuracy: 0.8308\n",
      "Epoch 88/300\n",
      "2124/2124 [==============================] - 275s 129ms/step - loss: 0.3655 - accuracy: 0.8364 - val_loss: 0.3807 - val_accuracy: 0.8305\n",
      "Epoch 89/300\n",
      "2124/2124 [==============================] - 274s 129ms/step - loss: 0.3649 - accuracy: 0.8368 - val_loss: 0.3801 - val_accuracy: 0.8311\n",
      "Epoch 90/300\n",
      "2124/2124 [==============================] - 281s 132ms/step - loss: 0.3653 - accuracy: 0.8374 - val_loss: 0.3793 - val_accuracy: 0.8313\n",
      "Epoch 91/300\n",
      "2124/2124 [==============================] - 274s 129ms/step - loss: 0.3650 - accuracy: 0.8380 - val_loss: 0.3803 - val_accuracy: 0.8308\n",
      "Epoch 92/300\n",
      "2124/2124 [==============================] - 274s 129ms/step - loss: 0.3640 - accuracy: 0.8378 - val_loss: 0.3801 - val_accuracy: 0.8306\n",
      "Epoch 93/300\n",
      "2124/2124 [==============================] - 282s 133ms/step - loss: 0.3656 - accuracy: 0.8373 - val_loss: 0.3800 - val_accuracy: 0.8315\n",
      "Epoch 94/300\n",
      "2124/2124 [==============================] - 275s 129ms/step - loss: 0.3646 - accuracy: 0.8382 - val_loss: 0.3794 - val_accuracy: 0.8314\n",
      "Epoch 95/300\n",
      "2124/2124 [==============================] - 274s 129ms/step - loss: 0.3638 - accuracy: 0.8385 - val_loss: 0.3793 - val_accuracy: 0.8317\n",
      "Epoch 96/300\n",
      "2124/2124 [==============================] - 281s 132ms/step - loss: 0.3637 - accuracy: 0.8383 - val_loss: 0.3791 - val_accuracy: 0.8312\n",
      "Epoch 97/300\n",
      "2124/2124 [==============================] - 276s 130ms/step - loss: 0.3629 - accuracy: 0.8392 - val_loss: 0.3795 - val_accuracy: 0.8309\n",
      "Epoch 98/300\n",
      "2124/2124 [==============================] - 275s 129ms/step - loss: 0.3635 - accuracy: 0.8387 - val_loss: 0.3801 - val_accuracy: 0.8303\n",
      "Epoch 99/300\n",
      "2124/2124 [==============================] - 283s 133ms/step - loss: 0.3638 - accuracy: 0.8388 - val_loss: 0.3798 - val_accuracy: 0.8306\n",
      "Epoch 100/300\n",
      "2124/2124 [==============================] - 274s 129ms/step - loss: 0.3621 - accuracy: 0.8392 - val_loss: 0.3801 - val_accuracy: 0.8303\n",
      "Epoch 101/300\n",
      "2124/2124 [==============================] - 273s 129ms/step - loss: 0.3625 - accuracy: 0.8394 - val_loss: 0.3788 - val_accuracy: 0.8320\n",
      "Epoch 102/300\n",
      "2124/2124 [==============================] - 282s 133ms/step - loss: 0.3620 - accuracy: 0.8395 - val_loss: 0.3802 - val_accuracy: 0.8302\n",
      "Epoch 103/300\n",
      "2124/2124 [==============================] - 274s 129ms/step - loss: 0.3625 - accuracy: 0.8389 - val_loss: 0.3797 - val_accuracy: 0.8312\n",
      "Epoch 104/300\n",
      "2124/2124 [==============================] - 276s 130ms/step - loss: 0.3621 - accuracy: 0.8396 - val_loss: 0.3805 - val_accuracy: 0.8312\n",
      "Epoch 105/300\n",
      "2124/2124 [==============================] - 310s 146ms/step - loss: 0.3623 - accuracy: 0.8388 - val_loss: 0.3789 - val_accuracy: 0.8308\n",
      "Epoch 106/300\n",
      "2124/2124 [==============================] - 319s 150ms/step - loss: 0.3631 - accuracy: 0.8391 - val_loss: 0.3798 - val_accuracy: 0.8321\n",
      "Epoch 107/300\n",
      "2124/2124 [==============================] - 317s 149ms/step - loss: 0.3623 - accuracy: 0.8392 - val_loss: 0.3788 - val_accuracy: 0.8316\n",
      "Epoch 108/300\n",
      "2124/2124 [==============================] - 323s 152ms/step - loss: 0.3624 - accuracy: 0.8388 - val_loss: 0.3793 - val_accuracy: 0.8321\n",
      "Epoch 109/300\n",
      "2124/2124 [==============================] - 318s 150ms/step - loss: 0.3605 - accuracy: 0.8403 - val_loss: 0.3800 - val_accuracy: 0.8320\n",
      "Epoch 110/300\n"
     ]
    },
    {
     "name": "stdout",
     "output_type": "stream",
     "text": [
      "2124/2124 [==============================] - 317s 149ms/step - loss: 0.3618 - accuracy: 0.8392 - val_loss: 0.3790 - val_accuracy: 0.8310\n",
      "Epoch 111/300\n",
      "2124/2124 [==============================] - 325s 153ms/step - loss: 0.3606 - accuracy: 0.8400 - val_loss: 0.3792 - val_accuracy: 0.8311\n",
      "Epoch 112/300\n",
      "2124/2124 [==============================] - 320s 151ms/step - loss: 0.3623 - accuracy: 0.8388 - val_loss: 0.3796 - val_accuracy: 0.8316\n",
      "Epoch 113/300\n",
      "2124/2124 [==============================] - 318s 150ms/step - loss: 0.3623 - accuracy: 0.8396 - val_loss: 0.3797 - val_accuracy: 0.8316\n",
      "Epoch 114/300\n",
      "2124/2124 [==============================] - 327s 154ms/step - loss: 0.3611 - accuracy: 0.8400 - val_loss: 0.3802 - val_accuracy: 0.8319\n",
      "Epoch 115/300\n",
      "2124/2124 [==============================] - 318s 150ms/step - loss: 0.3606 - accuracy: 0.8405 - val_loss: 0.3789 - val_accuracy: 0.8315\n",
      "Epoch 116/300\n",
      "2124/2124 [==============================] - 319s 150ms/step - loss: 0.3607 - accuracy: 0.8400 - val_loss: 0.3788 - val_accuracy: 0.8314\n",
      "Epoch 117/300\n",
      "2124/2124 [==============================] - 324s 152ms/step - loss: 0.3595 - accuracy: 0.8402 - val_loss: 0.3790 - val_accuracy: 0.8315\n",
      "Epoch 118/300\n",
      "2124/2124 [==============================] - 319s 150ms/step - loss: 0.3598 - accuracy: 0.8411 - val_loss: 0.3797 - val_accuracy: 0.8309\n",
      "Epoch 119/300\n",
      "2124/2124 [==============================] - 319s 150ms/step - loss: 0.3607 - accuracy: 0.8403 - val_loss: 0.3791 - val_accuracy: 0.8320\n",
      "Epoch 120/300\n",
      "2124/2124 [==============================] - 321s 151ms/step - loss: 0.3598 - accuracy: 0.8400 - val_loss: 0.3796 - val_accuracy: 0.8306\n",
      "Epoch 121/300\n",
      "2124/2124 [==============================] - 320s 151ms/step - loss: 0.3597 - accuracy: 0.8404 - val_loss: 0.3800 - val_accuracy: 0.8325\n",
      "Epoch 122/300\n",
      "2124/2124 [==============================] - 320s 150ms/step - loss: 0.3605 - accuracy: 0.8396 - val_loss: 0.3785 - val_accuracy: 0.8320\n",
      "Epoch 123/300\n",
      "2124/2124 [==============================] - 325s 153ms/step - loss: 0.3589 - accuracy: 0.8405 - val_loss: 0.3793 - val_accuracy: 0.8315\n",
      "Epoch 124/300\n",
      "2124/2124 [==============================] - 318s 150ms/step - loss: 0.3601 - accuracy: 0.8402 - val_loss: 0.3797 - val_accuracy: 0.8311\n",
      "Epoch 125/300\n",
      "2124/2124 [==============================] - 318s 150ms/step - loss: 0.3591 - accuracy: 0.8404 - val_loss: 0.3783 - val_accuracy: 0.8317\n",
      "Epoch 126/300\n",
      "2124/2124 [==============================] - 322s 152ms/step - loss: 0.3586 - accuracy: 0.8411 - val_loss: 0.3782 - val_accuracy: 0.8319\n",
      "Epoch 127/300\n",
      "2124/2124 [==============================] - 319s 150ms/step - loss: 0.3604 - accuracy: 0.8395 - val_loss: 0.3799 - val_accuracy: 0.8318\n",
      "Epoch 128/300\n",
      "2124/2124 [==============================] - 319s 150ms/step - loss: 0.3593 - accuracy: 0.8408 - val_loss: 0.3803 - val_accuracy: 0.8317\n",
      "Epoch 129/300\n",
      "2124/2124 [==============================] - 323s 152ms/step - loss: 0.3595 - accuracy: 0.8401 - val_loss: 0.3782 - val_accuracy: 0.8317\n",
      "Epoch 130/300\n",
      "2124/2124 [==============================] - 318s 150ms/step - loss: 0.3585 - accuracy: 0.8406 - val_loss: 0.3791 - val_accuracy: 0.8321\n",
      "Epoch 131/300\n",
      "2124/2124 [==============================] - 318s 149ms/step - loss: 0.3600 - accuracy: 0.8400 - val_loss: 0.3780 - val_accuracy: 0.8327\n",
      "Epoch 132/300\n",
      "2124/2124 [==============================] - 324s 153ms/step - loss: 0.3597 - accuracy: 0.8402 - val_loss: 0.3789 - val_accuracy: 0.8321\n",
      "Epoch 133/300\n",
      "2124/2124 [==============================] - 319s 150ms/step - loss: 0.3592 - accuracy: 0.8409 - val_loss: 0.3787 - val_accuracy: 0.8318\n",
      "Epoch 134/300\n",
      "2124/2124 [==============================] - 318s 150ms/step - loss: 0.3585 - accuracy: 0.8421 - val_loss: 0.3812 - val_accuracy: 0.8317\n",
      "Epoch 135/300\n",
      "2124/2124 [==============================] - 326s 153ms/step - loss: 0.3584 - accuracy: 0.8406 - val_loss: 0.3781 - val_accuracy: 0.8321\n",
      "Epoch 136/300\n",
      "2124/2124 [==============================] - 317s 149ms/step - loss: 0.3560 - accuracy: 0.8426 - val_loss: 0.3792 - val_accuracy: 0.8317\n",
      "Epoch 137/300\n",
      "2124/2124 [==============================] - 315s 149ms/step - loss: 0.3581 - accuracy: 0.8416 - val_loss: 0.3779 - val_accuracy: 0.8320\n",
      "Epoch 138/300\n",
      "2124/2124 [==============================] - 322s 151ms/step - loss: 0.3587 - accuracy: 0.8408 - val_loss: 0.3781 - val_accuracy: 0.8320\n",
      "Epoch 139/300\n",
      "2124/2124 [==============================] - 319s 150ms/step - loss: 0.3571 - accuracy: 0.8417 - val_loss: 0.3786 - val_accuracy: 0.8320\n",
      "Epoch 140/300\n",
      "2124/2124 [==============================] - 318s 150ms/step - loss: 0.3578 - accuracy: 0.8410 - val_loss: 0.3787 - val_accuracy: 0.8312\n",
      "Epoch 141/300\n",
      "2124/2124 [==============================] - 325s 153ms/step - loss: 0.3571 - accuracy: 0.8414 - val_loss: 0.3788 - val_accuracy: 0.8308\n",
      "Epoch 142/300\n",
      "2124/2124 [==============================] - 317s 149ms/step - loss: 0.3576 - accuracy: 0.8416 - val_loss: 0.3792 - val_accuracy: 0.8320\n",
      "Epoch 143/300\n",
      "2124/2124 [==============================] - 317s 149ms/step - loss: 0.3560 - accuracy: 0.8429 - val_loss: 0.3794 - val_accuracy: 0.8305\n",
      "Epoch 144/300\n",
      "2124/2124 [==============================] - 327s 154ms/step - loss: 0.3565 - accuracy: 0.8421 - val_loss: 0.3785 - val_accuracy: 0.8325\n",
      "Epoch 145/300\n",
      "2124/2124 [==============================] - 319s 150ms/step - loss: 0.3561 - accuracy: 0.8424 - val_loss: 0.3795 - val_accuracy: 0.8311\n",
      "Epoch 146/300\n",
      "2124/2124 [==============================] - 319s 150ms/step - loss: 0.3567 - accuracy: 0.8417 - val_loss: 0.3782 - val_accuracy: 0.8324\n",
      "Epoch 147/300\n",
      "2124/2124 [==============================] - 325s 153ms/step - loss: 0.3570 - accuracy: 0.8412 - val_loss: 0.3795 - val_accuracy: 0.8316\n",
      "Epoch 148/300\n",
      "2124/2124 [==============================] - 318s 150ms/step - loss: 0.3573 - accuracy: 0.8420 - val_loss: 0.3773 - val_accuracy: 0.8326\n",
      "Epoch 149/300\n",
      "2124/2124 [==============================] - 321s 151ms/step - loss: 0.3572 - accuracy: 0.8415 - val_loss: 0.3798 - val_accuracy: 0.8318\n",
      "Epoch 150/300\n",
      "2124/2124 [==============================] - 323s 152ms/step - loss: 0.3566 - accuracy: 0.8419 - val_loss: 0.3798 - val_accuracy: 0.8320\n",
      "Epoch 151/300\n",
      "2124/2124 [==============================] - 319s 150ms/step - loss: 0.3549 - accuracy: 0.8424 - val_loss: 0.3779 - val_accuracy: 0.8324\n",
      "Epoch 152/300\n",
      "2124/2124 [==============================] - 318s 150ms/step - loss: 0.3563 - accuracy: 0.8419 - val_loss: 0.3789 - val_accuracy: 0.8315\n",
      "Epoch 153/300\n",
      "2124/2124 [==============================] - 324s 153ms/step - loss: 0.3569 - accuracy: 0.8414 - val_loss: 0.3774 - val_accuracy: 0.8331\n",
      "Epoch 154/300\n",
      "2124/2124 [==============================] - 294s 138ms/step - loss: 0.3558 - accuracy: 0.8428 - val_loss: 0.3781 - val_accuracy: 0.8325\n",
      "Epoch 155/300\n",
      "2124/2124 [==============================] - 275s 130ms/step - loss: 0.3559 - accuracy: 0.8412 - val_loss: 0.3780 - val_accuracy: 0.8324\n",
      "Epoch 156/300\n",
      "2124/2124 [==============================] - 287s 135ms/step - loss: 0.3558 - accuracy: 0.8429 - val_loss: 0.3789 - val_accuracy: 0.8325\n",
      "Epoch 157/300\n",
      "2124/2124 [==============================] - 278s 131ms/step - loss: 0.3551 - accuracy: 0.8432 - val_loss: 0.3789 - val_accuracy: 0.8320\n",
      "Epoch 158/300\n",
      "2124/2124 [==============================] - 276s 130ms/step - loss: 0.3550 - accuracy: 0.8432 - val_loss: 0.3795 - val_accuracy: 0.8308\n",
      "Epoch 159/300\n",
      "2124/2124 [==============================] - 283s 133ms/step - loss: 0.3568 - accuracy: 0.8409 - val_loss: 0.3778 - val_accuracy: 0.8324\n",
      "Epoch 160/300\n",
      "2124/2124 [==============================] - 278s 131ms/step - loss: 0.3544 - accuracy: 0.8427 - val_loss: 0.3783 - val_accuracy: 0.8310\n",
      "Epoch 161/300\n",
      "2124/2124 [==============================] - 278s 131ms/step - loss: 0.3553 - accuracy: 0.8430 - val_loss: 0.3795 - val_accuracy: 0.8322\n",
      "Epoch 162/300\n",
      "2124/2124 [==============================] - 286s 135ms/step - loss: 0.3535 - accuracy: 0.8436 - val_loss: 0.3800 - val_accuracy: 0.8308\n",
      "Epoch 163/300\n",
      "2124/2124 [==============================] - 261s 123ms/step - loss: 0.3548 - accuracy: 0.8427 - val_loss: 0.3780 - val_accuracy: 0.8320\n",
      "Epoch 164/300\n"
     ]
    },
    {
     "name": "stdout",
     "output_type": "stream",
     "text": [
      "2124/2124 [==============================] - 268s 126ms/step - loss: 0.3542 - accuracy: 0.8432 - val_loss: 0.3793 - val_accuracy: 0.8324\n",
      "Epoch 165/300\n",
      "2124/2124 [==============================] - 288s 136ms/step - loss: 0.3546 - accuracy: 0.8426 - val_loss: 0.3804 - val_accuracy: 0.8322\n",
      "Epoch 166/300\n",
      "2124/2124 [==============================] - 277s 130ms/step - loss: 0.3541 - accuracy: 0.8438 - val_loss: 0.3785 - val_accuracy: 0.8322\n",
      "Epoch 167/300\n",
      "2124/2124 [==============================] - 276s 130ms/step - loss: 0.3538 - accuracy: 0.8432 - val_loss: 0.3784 - val_accuracy: 0.8323\n",
      "Epoch 168/300\n",
      "2124/2124 [==============================] - 285s 134ms/step - loss: 0.3548 - accuracy: 0.8424 - val_loss: 0.3784 - val_accuracy: 0.8323\n",
      "Epoch 169/300\n",
      "2124/2124 [==============================] - 277s 130ms/step - loss: 0.3555 - accuracy: 0.8423 - val_loss: 0.3787 - val_accuracy: 0.8318\n",
      "Epoch 170/300\n",
      "2124/2124 [==============================] - 253s 119ms/step - loss: 0.3540 - accuracy: 0.8428 - val_loss: 0.3795 - val_accuracy: 0.8309\n",
      "Epoch 171/300\n",
      "2124/2124 [==============================] - 249s 117ms/step - loss: 0.3545 - accuracy: 0.8433 - val_loss: 0.3788 - val_accuracy: 0.8317\n",
      "Epoch 172/300\n",
      "2124/2124 [==============================] - 241s 113ms/step - loss: 0.3530 - accuracy: 0.8436 - val_loss: 0.3783 - val_accuracy: 0.8323\n",
      "Epoch 173/300\n",
      "2124/2124 [==============================] - 240s 113ms/step - loss: 0.3548 - accuracy: 0.8426 - val_loss: 0.3783 - val_accuracy: 0.8322\n",
      "Epoch 174/300\n",
      "2124/2124 [==============================] - 248s 117ms/step - loss: 0.3551 - accuracy: 0.8429 - val_loss: 0.3786 - val_accuracy: 0.8318\n",
      "Epoch 175/300\n",
      "2124/2124 [==============================] - 243s 114ms/step - loss: 0.3550 - accuracy: 0.8431 - val_loss: 0.3779 - val_accuracy: 0.8328\n",
      "Epoch 176/300\n",
      "2124/2124 [==============================] - 242s 114ms/step - loss: 0.3539 - accuracy: 0.8439 - val_loss: 0.3781 - val_accuracy: 0.8327\n",
      "Epoch 177/300\n",
      "2124/2124 [==============================] - 245s 115ms/step - loss: 0.3536 - accuracy: 0.8435 - val_loss: 0.3789 - val_accuracy: 0.8319\n",
      "Epoch 178/300\n",
      "2124/2124 [==============================] - 245s 115ms/step - loss: 0.3534 - accuracy: 0.8434 - val_loss: 0.3787 - val_accuracy: 0.8318\n",
      "Epoch 179/300\n",
      "2124/2124 [==============================] - 242s 114ms/step - loss: 0.3535 - accuracy: 0.8432 - val_loss: 0.3789 - val_accuracy: 0.8331\n",
      "Epoch 180/300\n",
      "2124/2124 [==============================] - 286s 135ms/step - loss: 0.3531 - accuracy: 0.8437 - val_loss: 0.3785 - val_accuracy: 0.8322\n",
      "Epoch 181/300\n",
      "2124/2124 [==============================] - 283s 133ms/step - loss: 0.3543 - accuracy: 0.8429 - val_loss: 0.3799 - val_accuracy: 0.8330\n",
      "Epoch 182/300\n",
      "2124/2124 [==============================] - 277s 131ms/step - loss: 0.3534 - accuracy: 0.8432 - val_loss: 0.3781 - val_accuracy: 0.8314\n",
      "Epoch 183/300\n",
      "2124/2124 [==============================] - 278s 131ms/step - loss: 0.3542 - accuracy: 0.8428 - val_loss: 0.3789 - val_accuracy: 0.8327\n",
      "Epoch 184/300\n",
      "2124/2124 [==============================] - 281s 133ms/step - loss: 0.3541 - accuracy: 0.8432 - val_loss: 0.3784 - val_accuracy: 0.8324\n",
      "Epoch 185/300\n",
      "2124/2124 [==============================] - 276s 130ms/step - loss: 0.3536 - accuracy: 0.8434 - val_loss: 0.3780 - val_accuracy: 0.8327\n",
      "Epoch 186/300\n",
      "2124/2124 [==============================] - 276s 130ms/step - loss: 0.3540 - accuracy: 0.8431 - val_loss: 0.3796 - val_accuracy: 0.8305\n",
      "Epoch 187/300\n",
      "2124/2124 [==============================] - 285s 134ms/step - loss: 0.3545 - accuracy: 0.8427 - val_loss: 0.3793 - val_accuracy: 0.8335\n",
      "Epoch 188/300\n",
      "2124/2124 [==============================] - 276s 130ms/step - loss: 0.3509 - accuracy: 0.8453 - val_loss: 0.3787 - val_accuracy: 0.8321\n",
      "Epoch 189/300\n",
      "2124/2124 [==============================] - 276s 130ms/step - loss: 0.3548 - accuracy: 0.8429 - val_loss: 0.3779 - val_accuracy: 0.8329\n",
      "Epoch 190/300\n",
      "2124/2124 [==============================] - 282s 133ms/step - loss: 0.3535 - accuracy: 0.8437 - val_loss: 0.3785 - val_accuracy: 0.8327\n",
      "Epoch 191/300\n",
      "2124/2124 [==============================] - 275s 129ms/step - loss: 0.3535 - accuracy: 0.8436 - val_loss: 0.3774 - val_accuracy: 0.8329\n",
      "Epoch 192/300\n",
      "2124/2124 [==============================] - 276s 130ms/step - loss: 0.3524 - accuracy: 0.8443 - val_loss: 0.3787 - val_accuracy: 0.8329\n",
      "Epoch 193/300\n",
      "2124/2124 [==============================] - 282s 133ms/step - loss: 0.3513 - accuracy: 0.8451 - val_loss: 0.3793 - val_accuracy: 0.8313\n",
      "Epoch 194/300\n",
      "2124/2124 [==============================] - 276s 130ms/step - loss: 0.3529 - accuracy: 0.8437 - val_loss: 0.3786 - val_accuracy: 0.8324\n",
      "Epoch 195/300\n",
      "2124/2124 [==============================] - 274s 129ms/step - loss: 0.3532 - accuracy: 0.8433 - val_loss: 0.3794 - val_accuracy: 0.8318\n",
      "Epoch 196/300\n",
      "2124/2124 [==============================] - 283s 133ms/step - loss: 0.3510 - accuracy: 0.8455 - val_loss: 0.3787 - val_accuracy: 0.8326\n",
      "Epoch 197/300\n",
      "2124/2124 [==============================] - 277s 130ms/step - loss: 0.3516 - accuracy: 0.8439 - val_loss: 0.3774 - val_accuracy: 0.8324\n",
      "Epoch 198/300\n",
      "2124/2124 [==============================] - 275s 130ms/step - loss: 0.3511 - accuracy: 0.8455 - val_loss: 0.3787 - val_accuracy: 0.8324\n",
      "Epoch 00198: early stopping\n"
     ]
    }
   ],
   "source": [
    "history = model_high.fit([h_train, pep_train, aa_train, en_train, ec_train, e1_train, e2_train],\n",
    "                    y_train, \n",
    "                    epochs=300,\n",
    "                    batch_size=256,\n",
    "                    validation_data=([h_val, pep_val, aa_val, en_val, ec_val, e1_val, e2_val], y_val),\n",
    "                    callbacks=[es]\n",
    "                        )"
   ]
  },
  {
   "cell_type": "code",
   "execution_count": 18,
   "metadata": {
    "ExecuteTime": {
     "end_time": "2021-11-28T10:34:57.144342Z",
     "start_time": "2021-11-28T10:34:56.806508Z"
    }
   },
   "outputs": [
    {
     "data": {
      "image/png": "[encoded data removed]",
      "text/plain": [
       "<Figure size 1600x200 with 1 Axes>"
      ]
     },
     "metadata": {},
     "output_type": "display_data"
    },
    {
     "data": {
      "image/png": "[encoded data removed]",
      "text/plain": [
       "<Figure size 640x480 with 1 Axes>"
      ]
     },
     "metadata": {},
     "output_type": "display_data"
    }
   ],
   "source": [
    "plt.figure(figsize=(16,2))\n",
    "plt.subplot(1,2,1)\n",
    "plot_graphs(history, 'accuracy')\n",
    "plt.subplot(1,2,2)\n",
    "plot_graphs(history, 'loss')"
   ]
  },
  {
   "cell_type": "markdown",
   "metadata": {},
   "source": [
    "# eval"
   ]
  },
  {
   "cell_type": "code",
   "execution_count": 19,
   "metadata": {
    "ExecuteTime": {
     "end_time": "2021-11-28T10:42:16.474951Z",
     "start_time": "2021-11-28T10:34:57.145565Z"
    },
    "scrolled": false
   },
   "outputs": [
    {
     "name": "stdout",
     "output_type": "stream",
     "text": [
      "4188/4188 [==============================] - 145s 35ms/step - loss: 0.3727 - accuracy: 0.8334\n",
      "Test Loss: 0.3726549446582794\n",
      "Test Accuracy: 0.8333631753921509\n",
      "              precision    recall  f1-score   support\n",
      "\n",
      "           0       0.87      0.79      0.83     66996\n",
      "           1       0.81      0.88      0.84     66996\n",
      "\n",
      "    accuracy                           0.83    133992\n",
      "   macro avg       0.84      0.83      0.83    133992\n",
      "weighted avg       0.84      0.83      0.83    133992\n",
      "\n",
      "rf auc : 0.9160594879101288\n"
     ]
    },
    {
     "data": {
      "image/png": "[encoded data removed]",
      "text/plain": [
       "<Figure size 400x400 with 1 Axes>"
      ]
     },
     "metadata": {},
     "output_type": "display_data"
    },
    {
     "data": {
      "image/png": "[encoded data removed]",
      "text/plain": [
       "<Figure size 300x300 with 2 Axes>"
      ]
     },
     "metadata": {},
     "output_type": "display_data"
    },
    {
     "data": {
      "image/png": "[encoded data removed]",
      "text/plain": [
       "<Figure size 300x300 with 2 Axes>"
      ]
     },
     "metadata": {},
     "output_type": "display_data"
    }
   ],
   "source": [
    "test_loss, test_acc = model_high.evaluate([h_test, pep_test, aa_test, en_test, ec_test, e1_test, e2_test], y_test)\n",
    "print('Test Loss: {}'.format(test_loss))\n",
    "print('Test Accuracy: {}'.format(test_acc))\n",
    "\n",
    "# prediction\n",
    "y_pred = [1 if i>=0.5 else 0 for i in model_high.predict([h_test, pep_test, aa_test, en_test, ec_test, e1_test, e2_test])]\n",
    "print(classification_report(y_test, y_pred))\n",
    "# AUC\n",
    "probs = model_high.predict([h_test, pep_test, aa_test, en_test, ec_test, e1_test, e2_test])\n",
    "rf_auc = roc_auc_score(y_test, probs)\n",
    "print('rf auc : {}'.format(rf_auc))\n",
    "# plot the roc curve for the model_high\n",
    "rf_fpr, rf_tpr, _ = roc_curve(y_test, probs)\n",
    "plt.figure(figsize=(4, 4))\n",
    "plt.plot(rf_fpr, rf_tpr, marker='.', label='RF AUC = {:.4f}'.format(rf_auc), color='orange')\n",
    "plt.title('ROC curve')\n",
    "# axis labels\n",
    "plt.xlabel('False Positive Rate')\n",
    "plt.ylabel('True Positive Rate')\n",
    "# show the legend\n",
    "plt.legend()\n",
    "# show the plot\n",
    "plt.show()\n",
    "\n",
    "cf_matrix = confusion_matrix(y_test, y_pred)\n",
    "plt.figure(figsize=(3, 3))\n",
    "sns.heatmap(cf_matrix, annot=True, fmt=',.0f')\n",
    "plt.show()\n",
    "plt.figure(figsize=(3, 3))\n",
    "sns.heatmap(cf_matrix/np.sum(cf_matrix), annot=True, \n",
    "            fmt='.2%', cmap='Blues')\n",
    "plt.show()"
   ]
  },
  {
   "cell_type": "code",
   "execution_count": 199,
   "metadata": {
    "ExecuteTime": {
     "end_time": "2021-11-22T03:54:22.714246Z",
     "start_time": "2021-11-22T03:54:22.711822Z"
    }
   },
   "outputs": [],
   "source": [
    "# # Calling `save('my_model.h5')` creates a h5 file `my_model.h5`.\n",
    "# model_high.save(\"compareModel/2021KSBi_multi_ms2/\")\n",
    "\n",
    "# # It can be used to reconstruct the model identically.\n",
    "# model_high_re = keras.models.load_model(\"compareModel/2021KSBi_multi_ms2/\")"
   ]
  }
 ],
 "metadata": {
  "kernelspec": {
   "display_name": "TF2.4",
   "language": "python",
   "name": "tf2.4"
  },
  "language_info": {
   "codemirror_mode": {
    "name": "ipython",
    "version": 3
   },
   "file_extension": ".py",
   "mimetype": "text/x-python",
   "name": "python",
   "nbconvert_exporter": "python",
   "pygments_lexer": "ipython3",
   "version": "3.7.0"
  }
 },
 "nbformat": 4,
 "nbformat_minor": 4
}
