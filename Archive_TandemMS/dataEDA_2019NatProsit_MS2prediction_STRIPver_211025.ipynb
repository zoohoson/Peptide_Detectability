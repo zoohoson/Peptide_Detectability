{
 "cells": [
  {
   "cell_type": "code",
   "execution_count": 1,
   "metadata": {
    "ExecuteTime": {
     "end_time": "2021-11-25T02:43:42.562397Z",
     "start_time": "2021-11-25T02:43:39.908833Z"
    }
   },
   "outputs": [],
   "source": [
    "import pandas as pd\n",
    "import numpy as np\n",
    "import pickle\n",
    "from scipy.stats import pearsonr\n",
    "import math\n",
    "import matplotlib.pyplot as plt\n",
    "\n",
    "from tensorflow.keras import models\n",
    "from tensorflow.keras import layers\n",
    "import tensorflow as tf\n",
    "\n",
    "import sys\n",
    "import time\n",
    "\n",
    "sys.path.append(\"/home/bis/2021_SJH_detectability/Detectability\")\n",
    "from utils import *"
   ]
  },
  {
   "cell_type": "code",
   "execution_count": 2,
   "metadata": {
    "ExecuteTime": {
     "end_time": "2021-11-15T07:55:27.598716Z",
     "start_time": "2021-11-15T07:54:20.889235Z"
    }
   },
   "outputs": [],
   "source": [
    "df_kb = pd.read_csv('../data/massIVE-KB/df_kb_filter.csv')\n",
    "df_uni = pd.read_csv('../data/uniprot/df_uni.csv')"
   ]
  },
  {
   "cell_type": "code",
   "execution_count": null,
   "metadata": {},
   "outputs": [],
   "source": [
    "df_ided_peptide = pd.read_csv('data/massIVE-KB/df_kb_strip.csv')\n",
    "df_ided_protein = pd.read_csv('data/uniprot/df_uni_ided.csv')\n",
    "\n",
    "pep_tree = tree_from_pep(df_ided_peptide.PEPTIDE.unique())  # from utils"
   ]
  },
  {
   "cell_type": "markdown",
   "metadata": {},
   "source": [
    "# Make Detect_pep, unDetect_pep version==whole\n",
    "  - spectral cnt >= 2 : detect\n",
    "  - spectral cnt == 0 : undetect"
   ]
  },
  {
   "cell_type": "code",
   "execution_count": 14,
   "metadata": {
    "ExecuteTime": {
     "end_time": "2021-11-15T08:01:40.371130Z",
     "start_time": "2021-11-15T08:01:40.353297Z"
    }
   },
   "outputs": [],
   "source": [
    "def pep_from_prot(df_uni, MISS_CLEAVAGE, thres=4):\n",
    "    peptide = []\n",
    "    TS_AA = 'KR'\n",
    "\n",
    "    for protein, pname, cnt, cnt_miss in df_uni[['SEQUENCE', 'PROTEIN', 'SPECTRAL_CNT', 'SPECTRAL_CNT_MISS']].values:\n",
    "        cnt = list(map(lambda x: int(x[2:]), cnt.split(';')))\n",
    "        cnt_miss = list(map(lambda x: int(x[2:]), cnt_miss.split(';')))\n",
    "        \n",
    "        ts_idx = []  # tryptic site index\n",
    "        for prot_idx, aa in enumerate(protein):\n",
    "            if aa in TS_AA:\n",
    "                ts_idx.append(prot_idx)\n",
    "        for idx in range(len(ts_idx)):\n",
    "            n = MISS_CLEAVAGE\n",
    "            if idx+(n+1) > len(ts_idx)-1:  # peptide making range\n",
    "                break\n",
    "\n",
    "            # protein N term\n",
    "            if (ts_idx[idx]<=(thres - 1)) and (ts_idx[idx] >= len(protein) -1 -(thres - 1)):  # -MNQKLLK- 앞뒤 다 부족한 경우\n",
    "                en = 'Z' * (thres - ts_idx[idx]) + protein[: ts_idx[idx]+(thres + 1)] + 'Z' * (thres - (len(protein)-1 - ts_idx[idx]))\n",
    "            elif ts_idx[idx]<=(thres - 1):\n",
    "                en = 'Z' * (thres - ts_idx[idx]) + protein[: ts_idx[idx]+(thres + 1)]\n",
    "            elif ts_idx[idx] >= len(protein) -1 -(thres - 1):  # for EAQDRRN : 끝이 부족한 경우\n",
    "                en = protein[ts_idx[idx]-thres:] + 'Z' * (thres - (len(protein)-1 - ts_idx[idx]))\n",
    "            else:\n",
    "                en = protein[ts_idx[idx]-thres: ts_idx[idx]+(thres + 1)]\n",
    "\n",
    "            # protein C term\n",
    "            if (ts_idx[idx+n+1] >= len(protein) -1 -(thres - 1)) and (ts_idx[idx+n+1] <= (thres - 1)):\n",
    "                ec = 'Z' * (thres - ts_idx[idx+n+1]) + protein[: ts_idx[idx+n+1]+(thres + 1)]  + 'Z' * (thres - (len(protein)-1 - ts_idx[idx+n+1]))\n",
    "            elif ts_idx[idx+n+1] >= len(protein) -1 -(thres - 1):\n",
    "                ec = protein[ts_idx[idx+n+1] - thres :] + 'Z' * (thres - (len(protein)-1 - ts_idx[idx+n+1]))\n",
    "            elif ts_idx[idx+n+1] <= (thres - 1):  # for -MRRS : 시작이 부족한 경우\n",
    "                ec = 'Z' * (thres - ts_idx[idx+n+1]) + protein[: ts_idx[idx+n+1]+(thres + 1)]\n",
    "            else:\n",
    "                ec = protein[ts_idx[idx+n+1] - thres : ts_idx[idx+n+1] +(thres + 1)]  # n+1번째 tryptic_site\n",
    "                    \n",
    "            # Peptide miss cleavage\n",
    "            if n != 0:  # miss cleavage 고려하는 경우,\n",
    "                ei = []\n",
    "                for i in range(1, n+1):\n",
    "                    if ts_idx[idx+i] >= len(protein) -1 -(thres - 1):\n",
    "                        ei_tmp = protein[ts_idx[idx+i] - thres :] + 'Z' * (thres - (len(protein)-1 - ts_idx[idx+i]))\n",
    "                    elif ts_idx[idx+i] <= (thres - 1):\n",
    "                        ei_tmp = 'Z' * (thres - ts_idx[idx+i]) + protein[: ts_idx[idx+i]+(thres + 1)]\n",
    "                    else:\n",
    "                        ei_tmp = protein[ts_idx[idx+i] - thres : ts_idx[idx+i] +(thres + 1)]\n",
    "                    ei.append(ei_tmp)\n",
    "            else:  # miss cleavage 고려안하는 경우\n",
    "                ei = []\n",
    "            # peptide\n",
    "            if ts_idx[idx+n+1] == len(protein)-1:  # protein C term = idx + n + 1 의 tryptic_site 가 단백질의 마지막인 경우\n",
    "                pep = protein[ts_idx[idx]] + '.' + protein[ts_idx[idx]+1:ts_idx[idx+n+1]+1] + '.Z'\n",
    "            else:\n",
    "                pep = protein[ts_idx[idx]] + '.' + protein[ts_idx[idx]+1:ts_idx[idx+n+1]+1] + '.' + protein[ts_idx[idx+n+1]+1]\n",
    "\n",
    "            peptide.append({pep:[[en], [ec], ei, pname]})\n",
    "    return peptide"
   ]
  },
  {
   "cell_type": "code",
   "execution_count": 15,
   "metadata": {
    "ExecuteTime": {
     "end_time": "2021-11-15T08:01:42.363988Z",
     "start_time": "2021-11-15T08:01:40.372340Z"
    }
   },
   "outputs": [],
   "source": [
    "# STRIP_PEPTIDE SPECTRAL_CNT\n",
    "pep2cnt = dict()\n",
    "for p, cnt in df_ided_peptide[['PEPTIDE', 'SPECTRAL_CNT']].values:\n",
    "    if p not in pep2cnt:\n",
    "        pep2cnt[p] = 0\n",
    "    pep2cnt[p] += cnt\n",
    "    \n",
    "    \n",
    "def pep_detection_labelling(df_ided_protein=df_ided_protein, pep_tree=pep_tree, pep2cnt=pep2cnt):\n",
    "    peptide0 = pep_from_prot(df_ided_protein, 0, thres=7)\n",
    "    peps = [list(dic.keys())[0] for dic in peptide0]\n",
    "    ens = [list(dic.values())[0][0] for dic in peptide0]\n",
    "    ecs = [list(dic.values())[0][1] for dic in peptide0]\n",
    "    eis = [list(dic.values())[0][2] for dic in peptide0]\n",
    "    pname = [list(dic.values())[0][3] for dic in peptide0]\n",
    "    zero = pd.DataFrame([[p, n[0], c[0], '-', '-', pn] \n",
    "                         for p, n, c, m, pn in zip(peps, ens, ecs, eis, pname)],\n",
    "                columns=['peptide', 'En', 'Ec', 'E1', 'E2', 'protein'])\n",
    "    zero['PEP'] = [i.split('.')[1] for i in zero.peptide.values]\n",
    "\n",
    "    peptide1 = pep_from_prot(df_ided_protein, 1, thres=7)\n",
    "    peps = [list(dic.keys())[0] for dic in peptide1]\n",
    "    ens = [list(dic.values())[0][0] for dic in peptide1]\n",
    "    ecs = [list(dic.values())[0][1] for dic in peptide1]\n",
    "    eis = [list(dic.values())[0][2] for dic in peptide1]\n",
    "    pname = [list(dic.values())[0][3] for dic in peptide1]\n",
    "    one = pd.DataFrame([[p, n[0], c[0], m[0], '-', pn]\n",
    "                        for p, n, c, m, pn in zip(peps, ens, ecs, eis, pname)],\n",
    "                columns=['peptide', 'En', 'Ec', 'E1', 'E2', 'protein'])\n",
    "    one['PEP'] = [i.split('.')[1] for i in one.peptide.values]\n",
    "\n",
    "    peptide2 = pep_from_prot(df_ided_protein, 2, thres=7)\n",
    "    peps = [list(dic.keys())[0] for dic in peptide2]\n",
    "    ens = [list(dic.values())[0][0] for dic in peptide2]\n",
    "    ecs = [list(dic.values())[0][1] for dic in peptide2]\n",
    "    eis = [list(dic.values())[0][2] for dic in peptide2]\n",
    "    pname = [list(dic.values())[0][3] for dic in peptide2]\n",
    "    two = pd.DataFrame([[p, n[0], c[0], m[0], m[1], pn]\n",
    "                        for p, n, c, m, pn in zip(peps, ens, ecs, eis, pname)],\n",
    "                columns=['peptide', 'En', 'Ec', 'E1', 'E2', 'protein'])\n",
    "    two['PEP'] = [i.split('.')[1] for i in two.peptide.values]\n",
    "\n",
    "    zero_filter = zero.loc[zero.PEP.apply(lambda x: (len(x)>=7) and (len(x)<=30))]\n",
    "    one_filter = one.loc[one.PEP.apply(lambda x: (len(x)>=7) and (len(x)<=30))]\n",
    "    two_filter = two.loc[two.PEP.apply(lambda x: (len(x)>=7) and (len(x)<=30))]\n",
    "\n",
    "    df_fully = pd.concat([zero_filter, one_filter, two_filter], axis=0).reset_index(drop=True)\n",
    "\n",
    "    # preprocessing\n",
    "    amino = list(\"ARNDCEQGHILKMFPSTWYVZ\")\n",
    "    check_u = [idx for idx, t in enumerate(df_fully.PEP.values) if 'U' in t]\n",
    "    check_x = [idx for idx, t in enumerate(df_fully.PEP.values) if 'X' in t]\n",
    "    check_n = [idx for idx, t in enumerate(df_fully.En.values) if (sum([1 for a in t if a not in amino]) >= 1) and t !='-']\n",
    "    check_c = [idx for idx, t in enumerate(df_fully.Ec.values) if (sum([1 for a in t if a not in amino]) >= 1) and t !='-']\n",
    "    check_1 = [idx for idx, t in enumerate(df_fully.E1.values) if (sum([1 for a in t if a not in amino]) >= 1) and t !='-']\n",
    "    check_2 = [idx for idx, t in enumerate(df_fully.E2.values) if (sum([1 for a in t if a not in amino]) >= 1) and t !='-']\n",
    "    check = list(set(check_n).union(set(check_c)).union(set(check_1)).union(set(check_2)).union(set(check_u)).union(set(check_x)))\n",
    "    print('del rows(including U, X amino acid) cnt : {:,}'.format(len(check)))\n",
    "    df_fully = df_fully.drop(check).reset_index(drop=True)\n",
    "\n",
    "    ided = []\n",
    "    for fully_pep in df_fully.PEP.values:\n",
    "        results = [i for i in pep_tree.search_all(fully_pep)]\n",
    "        if len(results) != 0:\n",
    "            result_pep = [_[0] for _ in results]\n",
    "            if fully_pep in result_pep:  # 정확히 똑같은 pep 있는 경우\n",
    "                if pep2cnt[fully_pep] > 1:\n",
    "                    ided.append(1)\n",
    "                else:\n",
    "                    ided.append(-1)  # SC1인 경우는 제거하자\n",
    "            else:\n",
    "                ided.append(0)\n",
    "        else:\n",
    "            ided.append(0)\n",
    "    df_fully['ID'] = ided\n",
    "\n",
    "    drop_idx = df_fully.loc[df_fully.ID==-1].index\n",
    "    print('peptide with 1 spectral count (remove this peptide) cnt : ', len(drop_idx))\n",
    "    df_fully = df_fully.drop(drop_idx).reset_index(drop=True)\n",
    "\n",
    "    drop_idx = np.where(df_fully.duplicated()==True)[0]\n",
    "    df_fully = df_fully.drop(drop_idx).reset_index(drop=True)\n",
    "\n",
    "    print('----ID/nonID cnt----\\n', df_fully.ID.value_counts())  # massIVE-KB : half is semi_non_tryptic, half is fully_tryptic\n",
    "    print('----final shape----\\n', df_fully.shape)\n",
    "    df_fully.head(1)\n",
    "    return df_fully"
   ]
  },
  {
   "cell_type": "code",
   "execution_count": 18,
   "metadata": {
    "ExecuteTime": {
     "end_time": "2021-11-15T08:04:53.550182Z",
     "start_time": "2021-11-15T08:01:42.480619Z"
    }
   },
   "outputs": [
    {
     "name": "stdout",
     "output_type": "stream",
     "text": [
      "del rows(including U, X amino acid) cnt : 160\n",
      "peptide with 1 spectral count (remove this peptide) cnt :  113427\n",
      "----ID/nonID cnt----\n",
      " 0    1493757\n",
      "1     480223\n",
      "Name: ID, dtype: int64\n",
      "----final shape----\n",
      " (1973980, 8)\n"
     ]
    }
   ],
   "source": [
    "df_fully = pep_detection_labelling()"
   ]
  },
  {
   "cell_type": "code",
   "execution_count": null,
   "metadata": {
    "ExecuteTime": {
     "end_time": "2021-11-15T08:05:05.282638Z",
     "start_time": "2021-11-15T08:04:54.862775Z"
    }
   },
   "outputs": [],
   "source": [
    "data = []\n",
    "for prot, ptms, strips, c in df_kb[['PROTEIN', 'PTM_SEQ', 'STRIP_PEPTIDE', 'CHARGE']].values:\n",
    "    for p in prot.split(';'):\n",
    "        data.append([p, ptms, strips, c])\n",
    "df_key = pd.DataFrame(data, columns=['protein', 'PTM', 'PEP', 'CHARGE']).drop_duplicates().reset_index(drop=True)\n",
    "print(df_key.shape, len({(_, __) for _, __ in df_key[['protein', 'PEP']].values}))"
   ]
  },
  {
   "cell_type": "code",
   "execution_count": 102,
   "metadata": {
    "ExecuteTime": {
     "end_time": "2021-11-24T20:24:10.783296Z",
     "start_time": "2021-11-24T20:24:07.529261Z"
    },
    "collapsed": true
   },
   "outputs": [
    {
     "ename": "KeyboardInterrupt",
     "evalue": "",
     "output_type": "error",
     "traceback": [
      "\u001b[0;31m---------------------------------------------------------------------------\u001b[0m",
      "\u001b[0;31mKeyboardInterrupt\u001b[0m                         Traceback (most recent call last)",
      "\u001b[0;32m<ipython-input-102-3d446534e088>\u001b[0m in \u001b[0;36m<module>\u001b[0;34m\u001b[0m\n\u001b[1;32m      1\u001b[0m \u001b[0mdf_fully_ptms\u001b[0m \u001b[0;34m=\u001b[0m \u001b[0mdf_fully\u001b[0m\u001b[0;34m.\u001b[0m\u001b[0mloc\u001b[0m\u001b[0;34m[\u001b[0m\u001b[0mdf_fully\u001b[0m\u001b[0;34m.\u001b[0m\u001b[0mID\u001b[0m\u001b[0;34m==\u001b[0m\u001b[0;36m1\u001b[0m\u001b[0;34m]\u001b[0m\u001b[0;34m.\u001b[0m\u001b[0mmerge\u001b[0m\u001b[0;34m(\u001b[0m\u001b[0mdf_key\u001b[0m\u001b[0;34m,\u001b[0m \u001b[0mon\u001b[0m\u001b[0;34m=\u001b[0m\u001b[0;34m[\u001b[0m\u001b[0;34m'protein'\u001b[0m\u001b[0;34m,\u001b[0m \u001b[0;34m'PEP'\u001b[0m\u001b[0;34m]\u001b[0m\u001b[0;34m,\u001b[0m \u001b[0mhow\u001b[0m\u001b[0;34m=\u001b[0m\u001b[0;34m'left'\u001b[0m\u001b[0;34m)\u001b[0m\u001b[0;34m\u001b[0m\u001b[0;34m\u001b[0m\u001b[0m\n\u001b[0;32m----> 2\u001b[0;31m \u001b[0mdf_fully_ptms\u001b[0m \u001b[0;34m=\u001b[0m \u001b[0mdf_fully_ptms\u001b[0m\u001b[0;34m.\u001b[0m\u001b[0mdropna\u001b[0m\u001b[0;34m(\u001b[0m\u001b[0;34m)\u001b[0m\u001b[0;34m.\u001b[0m\u001b[0mreset_index\u001b[0m\u001b[0;34m(\u001b[0m\u001b[0mdrop\u001b[0m\u001b[0;34m=\u001b[0m\u001b[0;32mTrue\u001b[0m\u001b[0;34m)\u001b[0m\u001b[0;34m\u001b[0m\u001b[0;34m\u001b[0m\u001b[0m\n\u001b[0m\u001b[1;32m      3\u001b[0m \u001b[0mprint\u001b[0m\u001b[0;34m(\u001b[0m\u001b[0mdf_fully_ptms\u001b[0m\u001b[0;34m.\u001b[0m\u001b[0mshape\u001b[0m\u001b[0;34m)\u001b[0m\u001b[0;34m\u001b[0m\u001b[0;34m\u001b[0m\u001b[0m\n\u001b[1;32m      4\u001b[0m \u001b[0mcab_idx\u001b[0m \u001b[0;34m=\u001b[0m \u001b[0;34m[\u001b[0m\u001b[0midx\u001b[0m \u001b[0;32mfor\u001b[0m \u001b[0midx\u001b[0m\u001b[0;34m,\u001b[0m \u001b[0mseq\u001b[0m \u001b[0;32min\u001b[0m \u001b[0mzip\u001b[0m\u001b[0;34m(\u001b[0m\u001b[0mdf_fully_ptms\u001b[0m\u001b[0;34m.\u001b[0m\u001b[0mindex\u001b[0m\u001b[0;34m,\u001b[0m \u001b[0mdf_fully_ptms\u001b[0m\u001b[0;34m.\u001b[0m\u001b[0mPTM\u001b[0m\u001b[0;34m.\u001b[0m\u001b[0mvalues\u001b[0m\u001b[0;34m)\u001b[0m \u001b[0;32mif\u001b[0m \u001b[0;34m'(Cab)'\u001b[0m \u001b[0;32min\u001b[0m \u001b[0mseq\u001b[0m\u001b[0;34m]\u001b[0m\u001b[0;34m\u001b[0m\u001b[0;34m\u001b[0m\u001b[0m\n\u001b[1;32m      5\u001b[0m \u001b[0mace_idx\u001b[0m \u001b[0;34m=\u001b[0m \u001b[0;34m[\u001b[0m\u001b[0midx\u001b[0m \u001b[0;32mfor\u001b[0m \u001b[0midx\u001b[0m\u001b[0;34m,\u001b[0m \u001b[0mseq\u001b[0m \u001b[0;32min\u001b[0m \u001b[0mzip\u001b[0m\u001b[0;34m(\u001b[0m\u001b[0mdf_fully_ptms\u001b[0m\u001b[0;34m.\u001b[0m\u001b[0mindex\u001b[0m\u001b[0;34m,\u001b[0m \u001b[0mdf_fully_ptms\u001b[0m\u001b[0;34m.\u001b[0m\u001b[0mPTM\u001b[0m\u001b[0;34m.\u001b[0m\u001b[0mvalues\u001b[0m\u001b[0;34m)\u001b[0m \u001b[0;32mif\u001b[0m \u001b[0;34m'(Ace)'\u001b[0m \u001b[0;32min\u001b[0m \u001b[0mseq\u001b[0m\u001b[0;34m]\u001b[0m\u001b[0;34m\u001b[0m\u001b[0;34m\u001b[0m\u001b[0m\n",
      "\u001b[0;32m~/miniconda3/envs/bis/lib/python3.6/site-packages/pandas/core/frame.py\u001b[0m in \u001b[0;36mdropna\u001b[0;34m(self, axis, how, thresh, subset, inplace)\u001b[0m\n\u001b[1;32m   5005\u001b[0m             \u001b[0magg_obj\u001b[0m \u001b[0;34m=\u001b[0m \u001b[0mself\u001b[0m\u001b[0;34m.\u001b[0m\u001b[0mtake\u001b[0m\u001b[0;34m(\u001b[0m\u001b[0mindices\u001b[0m\u001b[0;34m,\u001b[0m \u001b[0maxis\u001b[0m\u001b[0;34m=\u001b[0m\u001b[0magg_axis\u001b[0m\u001b[0;34m)\u001b[0m\u001b[0;34m\u001b[0m\u001b[0;34m\u001b[0m\u001b[0m\n\u001b[1;32m   5006\u001b[0m \u001b[0;34m\u001b[0m\u001b[0m\n\u001b[0;32m-> 5007\u001b[0;31m         \u001b[0mcount\u001b[0m \u001b[0;34m=\u001b[0m \u001b[0magg_obj\u001b[0m\u001b[0;34m.\u001b[0m\u001b[0mcount\u001b[0m\u001b[0;34m(\u001b[0m\u001b[0maxis\u001b[0m\u001b[0;34m=\u001b[0m\u001b[0magg_axis\u001b[0m\u001b[0;34m)\u001b[0m\u001b[0;34m\u001b[0m\u001b[0;34m\u001b[0m\u001b[0m\n\u001b[0m\u001b[1;32m   5008\u001b[0m \u001b[0;34m\u001b[0m\u001b[0m\n\u001b[1;32m   5009\u001b[0m         \u001b[0;32mif\u001b[0m \u001b[0mthresh\u001b[0m \u001b[0;32mis\u001b[0m \u001b[0;32mnot\u001b[0m \u001b[0;32mNone\u001b[0m\u001b[0;34m:\u001b[0m\u001b[0;34m\u001b[0m\u001b[0;34m\u001b[0m\u001b[0m\n",
      "\u001b[0;32m~/miniconda3/envs/bis/lib/python3.6/site-packages/pandas/core/frame.py\u001b[0m in \u001b[0;36mcount\u001b[0;34m(self, axis, level, numeric_only)\u001b[0m\n\u001b[1;32m   8473\u001b[0m                 \u001b[0;31m# the or any_extension_types is really only hit for single-\u001b[0m\u001b[0;34m\u001b[0m\u001b[0;34m\u001b[0m\u001b[0;34m\u001b[0m\u001b[0m\n\u001b[1;32m   8474\u001b[0m                 \u001b[0;31m# column frames with an extension array\u001b[0m\u001b[0;34m\u001b[0m\u001b[0;34m\u001b[0m\u001b[0;34m\u001b[0m\u001b[0m\n\u001b[0;32m-> 8475\u001b[0;31m                 \u001b[0mresult\u001b[0m \u001b[0;34m=\u001b[0m \u001b[0mnotna\u001b[0m\u001b[0;34m(\u001b[0m\u001b[0mframe\u001b[0m\u001b[0;34m)\u001b[0m\u001b[0;34m.\u001b[0m\u001b[0msum\u001b[0m\u001b[0;34m(\u001b[0m\u001b[0maxis\u001b[0m\u001b[0;34m=\u001b[0m\u001b[0maxis\u001b[0m\u001b[0;34m)\u001b[0m\u001b[0;34m\u001b[0m\u001b[0;34m\u001b[0m\u001b[0m\n\u001b[0m\u001b[1;32m   8476\u001b[0m             \u001b[0;32melse\u001b[0m\u001b[0;34m:\u001b[0m\u001b[0;34m\u001b[0m\u001b[0;34m\u001b[0m\u001b[0m\n\u001b[1;32m   8477\u001b[0m                 \u001b[0;31m# GH13407\u001b[0m\u001b[0;34m\u001b[0m\u001b[0;34m\u001b[0m\u001b[0;34m\u001b[0m\u001b[0m\n",
      "\u001b[0;32m~/miniconda3/envs/bis/lib/python3.6/site-packages/pandas/core/dtypes/missing.py\u001b[0m in \u001b[0;36mnotna\u001b[0;34m(obj)\u001b[0m\n\u001b[1;32m    330\u001b[0m     \u001b[0mName\u001b[0m\u001b[0;34m:\u001b[0m \u001b[0;36m1\u001b[0m\u001b[0;34m,\u001b[0m \u001b[0mdtype\u001b[0m\u001b[0;34m:\u001b[0m \u001b[0mbool\u001b[0m\u001b[0;34m\u001b[0m\u001b[0;34m\u001b[0m\u001b[0m\n\u001b[1;32m    331\u001b[0m     \"\"\"\n\u001b[0;32m--> 332\u001b[0;31m     \u001b[0mres\u001b[0m \u001b[0;34m=\u001b[0m \u001b[0misna\u001b[0m\u001b[0;34m(\u001b[0m\u001b[0mobj\u001b[0m\u001b[0;34m)\u001b[0m\u001b[0;34m\u001b[0m\u001b[0;34m\u001b[0m\u001b[0m\n\u001b[0m\u001b[1;32m    333\u001b[0m     \u001b[0;32mif\u001b[0m \u001b[0mis_scalar\u001b[0m\u001b[0;34m(\u001b[0m\u001b[0mres\u001b[0m\u001b[0;34m)\u001b[0m\u001b[0;34m:\u001b[0m\u001b[0;34m\u001b[0m\u001b[0;34m\u001b[0m\u001b[0m\n\u001b[1;32m    334\u001b[0m         \u001b[0;32mreturn\u001b[0m \u001b[0;32mnot\u001b[0m \u001b[0mres\u001b[0m\u001b[0;34m\u001b[0m\u001b[0;34m\u001b[0m\u001b[0m\n",
      "\u001b[0;32m~/miniconda3/envs/bis/lib/python3.6/site-packages/pandas/core/dtypes/missing.py\u001b[0m in \u001b[0;36misna\u001b[0;34m(obj)\u001b[0m\n\u001b[1;32m    122\u001b[0m     \u001b[0mName\u001b[0m\u001b[0;34m:\u001b[0m \u001b[0;36m1\u001b[0m\u001b[0;34m,\u001b[0m \u001b[0mdtype\u001b[0m\u001b[0;34m:\u001b[0m \u001b[0mbool\u001b[0m\u001b[0;34m\u001b[0m\u001b[0;34m\u001b[0m\u001b[0m\n\u001b[1;32m    123\u001b[0m     \"\"\"\n\u001b[0;32m--> 124\u001b[0;31m     \u001b[0;32mreturn\u001b[0m \u001b[0m_isna\u001b[0m\u001b[0;34m(\u001b[0m\u001b[0mobj\u001b[0m\u001b[0;34m)\u001b[0m\u001b[0;34m\u001b[0m\u001b[0;34m\u001b[0m\u001b[0m\n\u001b[0m\u001b[1;32m    125\u001b[0m \u001b[0;34m\u001b[0m\u001b[0m\n\u001b[1;32m    126\u001b[0m \u001b[0;34m\u001b[0m\u001b[0m\n",
      "\u001b[0;32m~/miniconda3/envs/bis/lib/python3.6/site-packages/pandas/core/dtypes/missing.py\u001b[0m in \u001b[0;36m_isna\u001b[0;34m(obj, inf_as_na)\u001b[0m\n\u001b[1;32m    157\u001b[0m         \u001b[0;32mreturn\u001b[0m \u001b[0m_isna_ndarraylike\u001b[0m\u001b[0;34m(\u001b[0m\u001b[0mobj\u001b[0m\u001b[0;34m,\u001b[0m \u001b[0minf_as_na\u001b[0m\u001b[0;34m=\u001b[0m\u001b[0minf_as_na\u001b[0m\u001b[0;34m)\u001b[0m\u001b[0;34m\u001b[0m\u001b[0;34m\u001b[0m\u001b[0m\n\u001b[1;32m    158\u001b[0m     \u001b[0;32melif\u001b[0m \u001b[0misinstance\u001b[0m\u001b[0;34m(\u001b[0m\u001b[0mobj\u001b[0m\u001b[0;34m,\u001b[0m \u001b[0mABCDataFrame\u001b[0m\u001b[0;34m)\u001b[0m\u001b[0;34m:\u001b[0m\u001b[0;34m\u001b[0m\u001b[0;34m\u001b[0m\u001b[0m\n\u001b[0;32m--> 159\u001b[0;31m         \u001b[0;32mreturn\u001b[0m \u001b[0mobj\u001b[0m\u001b[0;34m.\u001b[0m\u001b[0misna\u001b[0m\u001b[0;34m(\u001b[0m\u001b[0;34m)\u001b[0m\u001b[0;34m\u001b[0m\u001b[0;34m\u001b[0m\u001b[0m\n\u001b[0m\u001b[1;32m    160\u001b[0m     \u001b[0;32melif\u001b[0m \u001b[0misinstance\u001b[0m\u001b[0;34m(\u001b[0m\u001b[0mobj\u001b[0m\u001b[0;34m,\u001b[0m \u001b[0mlist\u001b[0m\u001b[0;34m)\u001b[0m\u001b[0;34m:\u001b[0m\u001b[0;34m\u001b[0m\u001b[0;34m\u001b[0m\u001b[0m\n\u001b[1;32m    161\u001b[0m         \u001b[0;32mreturn\u001b[0m \u001b[0m_isna_ndarraylike\u001b[0m\u001b[0;34m(\u001b[0m\u001b[0mnp\u001b[0m\u001b[0;34m.\u001b[0m\u001b[0masarray\u001b[0m\u001b[0;34m(\u001b[0m\u001b[0mobj\u001b[0m\u001b[0;34m,\u001b[0m \u001b[0mdtype\u001b[0m\u001b[0;34m=\u001b[0m\u001b[0mobject\u001b[0m\u001b[0;34m)\u001b[0m\u001b[0;34m,\u001b[0m \u001b[0minf_as_na\u001b[0m\u001b[0;34m=\u001b[0m\u001b[0minf_as_na\u001b[0m\u001b[0;34m)\u001b[0m\u001b[0;34m\u001b[0m\u001b[0;34m\u001b[0m\u001b[0m\n",
      "\u001b[0;32m~/miniconda3/envs/bis/lib/python3.6/site-packages/pandas/core/frame.py\u001b[0m in \u001b[0;36misna\u001b[0;34m(self)\u001b[0m\n\u001b[1;32m   4870\u001b[0m     \u001b[0;34m@\u001b[0m\u001b[0mdoc\u001b[0m\u001b[0;34m(\u001b[0m\u001b[0mNDFrame\u001b[0m\u001b[0;34m.\u001b[0m\u001b[0misna\u001b[0m\u001b[0;34m,\u001b[0m \u001b[0mklass\u001b[0m\u001b[0;34m=\u001b[0m\u001b[0m_shared_doc_kwargs\u001b[0m\u001b[0;34m[\u001b[0m\u001b[0;34m\"klass\"\u001b[0m\u001b[0;34m]\u001b[0m\u001b[0;34m)\u001b[0m\u001b[0;34m\u001b[0m\u001b[0;34m\u001b[0m\u001b[0m\n\u001b[1;32m   4871\u001b[0m     \u001b[0;32mdef\u001b[0m \u001b[0misna\u001b[0m\u001b[0;34m(\u001b[0m\u001b[0mself\u001b[0m\u001b[0;34m)\u001b[0m \u001b[0;34m->\u001b[0m \u001b[0;34m\"DataFrame\"\u001b[0m\u001b[0;34m:\u001b[0m\u001b[0;34m\u001b[0m\u001b[0;34m\u001b[0m\u001b[0m\n\u001b[0;32m-> 4872\u001b[0;31m         \u001b[0mresult\u001b[0m \u001b[0;34m=\u001b[0m \u001b[0mself\u001b[0m\u001b[0;34m.\u001b[0m\u001b[0m_constructor\u001b[0m\u001b[0;34m(\u001b[0m\u001b[0mself\u001b[0m\u001b[0;34m.\u001b[0m\u001b[0m_data\u001b[0m\u001b[0;34m.\u001b[0m\u001b[0misna\u001b[0m\u001b[0;34m(\u001b[0m\u001b[0mfunc\u001b[0m\u001b[0;34m=\u001b[0m\u001b[0misna\u001b[0m\u001b[0;34m)\u001b[0m\u001b[0;34m)\u001b[0m\u001b[0;34m\u001b[0m\u001b[0;34m\u001b[0m\u001b[0m\n\u001b[0m\u001b[1;32m   4873\u001b[0m         \u001b[0;32mreturn\u001b[0m \u001b[0mresult\u001b[0m\u001b[0;34m.\u001b[0m\u001b[0m__finalize__\u001b[0m\u001b[0;34m(\u001b[0m\u001b[0mself\u001b[0m\u001b[0;34m,\u001b[0m \u001b[0mmethod\u001b[0m\u001b[0;34m=\u001b[0m\u001b[0;34m\"isna\"\u001b[0m\u001b[0;34m)\u001b[0m\u001b[0;34m\u001b[0m\u001b[0;34m\u001b[0m\u001b[0m\n\u001b[1;32m   4874\u001b[0m \u001b[0;34m\u001b[0m\u001b[0m\n",
      "\u001b[0;32m~/miniconda3/envs/bis/lib/python3.6/site-packages/pandas/core/internals/managers.py\u001b[0m in \u001b[0;36misna\u001b[0;34m(self, func)\u001b[0m\n\u001b[1;32m    510\u001b[0m \u001b[0;34m\u001b[0m\u001b[0m\n\u001b[1;32m    511\u001b[0m     \u001b[0;32mdef\u001b[0m \u001b[0misna\u001b[0m\u001b[0;34m(\u001b[0m\u001b[0mself\u001b[0m\u001b[0;34m,\u001b[0m \u001b[0mfunc\u001b[0m\u001b[0;34m)\u001b[0m \u001b[0;34m->\u001b[0m \u001b[0;34m\"BlockManager\"\u001b[0m\u001b[0;34m:\u001b[0m\u001b[0;34m\u001b[0m\u001b[0;34m\u001b[0m\u001b[0m\n\u001b[0;32m--> 512\u001b[0;31m         \u001b[0;32mreturn\u001b[0m \u001b[0mself\u001b[0m\u001b[0;34m.\u001b[0m\u001b[0mapply\u001b[0m\u001b[0;34m(\u001b[0m\u001b[0;34m\"apply\"\u001b[0m\u001b[0;34m,\u001b[0m \u001b[0mfunc\u001b[0m\u001b[0;34m=\u001b[0m\u001b[0mfunc\u001b[0m\u001b[0;34m)\u001b[0m\u001b[0;34m\u001b[0m\u001b[0;34m\u001b[0m\u001b[0m\n\u001b[0m\u001b[1;32m    513\u001b[0m \u001b[0;34m\u001b[0m\u001b[0m\n\u001b[1;32m    514\u001b[0m     def where(\n",
      "\u001b[0;32m~/miniconda3/envs/bis/lib/python3.6/site-packages/pandas/core/internals/managers.py\u001b[0m in \u001b[0;36mapply\u001b[0;34m(self, f, align_keys, **kwargs)\u001b[0m\n\u001b[1;32m    404\u001b[0m                 \u001b[0mapplied\u001b[0m \u001b[0;34m=\u001b[0m \u001b[0mb\u001b[0m\u001b[0;34m.\u001b[0m\u001b[0mapply\u001b[0m\u001b[0;34m(\u001b[0m\u001b[0mf\u001b[0m\u001b[0;34m,\u001b[0m \u001b[0;34m**\u001b[0m\u001b[0mkwargs\u001b[0m\u001b[0;34m)\u001b[0m\u001b[0;34m\u001b[0m\u001b[0;34m\u001b[0m\u001b[0m\n\u001b[1;32m    405\u001b[0m             \u001b[0;32melse\u001b[0m\u001b[0;34m:\u001b[0m\u001b[0;34m\u001b[0m\u001b[0;34m\u001b[0m\u001b[0m\n\u001b[0;32m--> 406\u001b[0;31m                 \u001b[0mapplied\u001b[0m \u001b[0;34m=\u001b[0m \u001b[0mgetattr\u001b[0m\u001b[0;34m(\u001b[0m\u001b[0mb\u001b[0m\u001b[0;34m,\u001b[0m \u001b[0mf\u001b[0m\u001b[0;34m)\u001b[0m\u001b[0;34m(\u001b[0m\u001b[0;34m**\u001b[0m\u001b[0mkwargs\u001b[0m\u001b[0;34m)\u001b[0m\u001b[0;34m\u001b[0m\u001b[0;34m\u001b[0m\u001b[0m\n\u001b[0m\u001b[1;32m    407\u001b[0m             \u001b[0mresult_blocks\u001b[0m \u001b[0;34m=\u001b[0m \u001b[0m_extend_blocks\u001b[0m\u001b[0;34m(\u001b[0m\u001b[0mapplied\u001b[0m\u001b[0;34m,\u001b[0m \u001b[0mresult_blocks\u001b[0m\u001b[0;34m)\u001b[0m\u001b[0;34m\u001b[0m\u001b[0;34m\u001b[0m\u001b[0m\n\u001b[1;32m    408\u001b[0m \u001b[0;34m\u001b[0m\u001b[0m\n",
      "\u001b[0;32m~/miniconda3/envs/bis/lib/python3.6/site-packages/pandas/core/internals/blocks.py\u001b[0m in \u001b[0;36mapply\u001b[0;34m(self, func, **kwargs)\u001b[0m\n\u001b[1;32m    344\u001b[0m         \"\"\"\n\u001b[1;32m    345\u001b[0m         \u001b[0;32mwith\u001b[0m \u001b[0mnp\u001b[0m\u001b[0;34m.\u001b[0m\u001b[0merrstate\u001b[0m\u001b[0;34m(\u001b[0m\u001b[0mall\u001b[0m\u001b[0;34m=\u001b[0m\u001b[0;34m\"ignore\"\u001b[0m\u001b[0;34m)\u001b[0m\u001b[0;34m:\u001b[0m\u001b[0;34m\u001b[0m\u001b[0;34m\u001b[0m\u001b[0m\n\u001b[0;32m--> 346\u001b[0;31m             \u001b[0mresult\u001b[0m \u001b[0;34m=\u001b[0m \u001b[0mfunc\u001b[0m\u001b[0;34m(\u001b[0m\u001b[0mself\u001b[0m\u001b[0;34m.\u001b[0m\u001b[0mvalues\u001b[0m\u001b[0;34m,\u001b[0m \u001b[0;34m**\u001b[0m\u001b[0mkwargs\u001b[0m\u001b[0;34m)\u001b[0m\u001b[0;34m\u001b[0m\u001b[0;34m\u001b[0m\u001b[0m\n\u001b[0m\u001b[1;32m    347\u001b[0m \u001b[0;34m\u001b[0m\u001b[0m\n\u001b[1;32m    348\u001b[0m         \u001b[0;32mreturn\u001b[0m \u001b[0mself\u001b[0m\u001b[0;34m.\u001b[0m\u001b[0m_split_op_result\u001b[0m\u001b[0;34m(\u001b[0m\u001b[0mresult\u001b[0m\u001b[0;34m)\u001b[0m\u001b[0;34m\u001b[0m\u001b[0;34m\u001b[0m\u001b[0m\n",
      "\u001b[0;32m~/miniconda3/envs/bis/lib/python3.6/site-packages/pandas/core/dtypes/missing.py\u001b[0m in \u001b[0;36misna\u001b[0;34m(obj)\u001b[0m\n\u001b[1;32m    122\u001b[0m     \u001b[0mName\u001b[0m\u001b[0;34m:\u001b[0m \u001b[0;36m1\u001b[0m\u001b[0;34m,\u001b[0m \u001b[0mdtype\u001b[0m\u001b[0;34m:\u001b[0m \u001b[0mbool\u001b[0m\u001b[0;34m\u001b[0m\u001b[0;34m\u001b[0m\u001b[0m\n\u001b[1;32m    123\u001b[0m     \"\"\"\n\u001b[0;32m--> 124\u001b[0;31m     \u001b[0;32mreturn\u001b[0m \u001b[0m_isna\u001b[0m\u001b[0;34m(\u001b[0m\u001b[0mobj\u001b[0m\u001b[0;34m)\u001b[0m\u001b[0;34m\u001b[0m\u001b[0;34m\u001b[0m\u001b[0m\n\u001b[0m\u001b[1;32m    125\u001b[0m \u001b[0;34m\u001b[0m\u001b[0m\n\u001b[1;32m    126\u001b[0m \u001b[0;34m\u001b[0m\u001b[0m\n",
      "\u001b[0;32m~/miniconda3/envs/bis/lib/python3.6/site-packages/pandas/core/dtypes/missing.py\u001b[0m in \u001b[0;36m_isna\u001b[0;34m(obj, inf_as_na)\u001b[0m\n\u001b[1;32m    155\u001b[0m         \u001b[0;32mreturn\u001b[0m \u001b[0;32mFalse\u001b[0m\u001b[0;34m\u001b[0m\u001b[0;34m\u001b[0m\u001b[0m\n\u001b[1;32m    156\u001b[0m     \u001b[0;32melif\u001b[0m \u001b[0misinstance\u001b[0m\u001b[0;34m(\u001b[0m\u001b[0mobj\u001b[0m\u001b[0;34m,\u001b[0m \u001b[0;34m(\u001b[0m\u001b[0mABCSeries\u001b[0m\u001b[0;34m,\u001b[0m \u001b[0mnp\u001b[0m\u001b[0;34m.\u001b[0m\u001b[0mndarray\u001b[0m\u001b[0;34m,\u001b[0m \u001b[0mABCIndexClass\u001b[0m\u001b[0;34m,\u001b[0m \u001b[0mABCExtensionArray\u001b[0m\u001b[0;34m)\u001b[0m\u001b[0;34m)\u001b[0m\u001b[0;34m:\u001b[0m\u001b[0;34m\u001b[0m\u001b[0;34m\u001b[0m\u001b[0m\n\u001b[0;32m--> 157\u001b[0;31m         \u001b[0;32mreturn\u001b[0m \u001b[0m_isna_ndarraylike\u001b[0m\u001b[0;34m(\u001b[0m\u001b[0mobj\u001b[0m\u001b[0;34m,\u001b[0m \u001b[0minf_as_na\u001b[0m\u001b[0;34m=\u001b[0m\u001b[0minf_as_na\u001b[0m\u001b[0;34m)\u001b[0m\u001b[0;34m\u001b[0m\u001b[0;34m\u001b[0m\u001b[0m\n\u001b[0m\u001b[1;32m    158\u001b[0m     \u001b[0;32melif\u001b[0m \u001b[0misinstance\u001b[0m\u001b[0;34m(\u001b[0m\u001b[0mobj\u001b[0m\u001b[0;34m,\u001b[0m \u001b[0mABCDataFrame\u001b[0m\u001b[0;34m)\u001b[0m\u001b[0;34m:\u001b[0m\u001b[0;34m\u001b[0m\u001b[0;34m\u001b[0m\u001b[0m\n\u001b[1;32m    159\u001b[0m         \u001b[0;32mreturn\u001b[0m \u001b[0mobj\u001b[0m\u001b[0;34m.\u001b[0m\u001b[0misna\u001b[0m\u001b[0;34m(\u001b[0m\u001b[0;34m)\u001b[0m\u001b[0;34m\u001b[0m\u001b[0;34m\u001b[0m\u001b[0m\n",
      "\u001b[0;32m~/miniconda3/envs/bis/lib/python3.6/site-packages/pandas/core/dtypes/missing.py\u001b[0m in \u001b[0;36m_isna_ndarraylike\u001b[0;34m(obj, inf_as_na)\u001b[0m\n\u001b[1;32m    216\u001b[0m             \u001b[0mresult\u001b[0m \u001b[0;34m=\u001b[0m \u001b[0mvalues\u001b[0m\u001b[0;34m.\u001b[0m\u001b[0misna\u001b[0m\u001b[0;34m(\u001b[0m\u001b[0;34m)\u001b[0m\u001b[0;34m\u001b[0m\u001b[0;34m\u001b[0m\u001b[0m\n\u001b[1;32m    217\u001b[0m     \u001b[0;32melif\u001b[0m \u001b[0mis_string_dtype\u001b[0m\u001b[0;34m(\u001b[0m\u001b[0mdtype\u001b[0m\u001b[0;34m)\u001b[0m\u001b[0;34m:\u001b[0m\u001b[0;34m\u001b[0m\u001b[0;34m\u001b[0m\u001b[0m\n\u001b[0;32m--> 218\u001b[0;31m         \u001b[0mresult\u001b[0m \u001b[0;34m=\u001b[0m \u001b[0m_isna_string_dtype\u001b[0m\u001b[0;34m(\u001b[0m\u001b[0mvalues\u001b[0m\u001b[0;34m,\u001b[0m \u001b[0mdtype\u001b[0m\u001b[0;34m,\u001b[0m \u001b[0minf_as_na\u001b[0m\u001b[0;34m=\u001b[0m\u001b[0minf_as_na\u001b[0m\u001b[0;34m)\u001b[0m\u001b[0;34m\u001b[0m\u001b[0;34m\u001b[0m\u001b[0m\n\u001b[0m\u001b[1;32m    219\u001b[0m     \u001b[0;32melif\u001b[0m \u001b[0mneeds_i8_conversion\u001b[0m\u001b[0;34m(\u001b[0m\u001b[0mdtype\u001b[0m\u001b[0;34m)\u001b[0m\u001b[0;34m:\u001b[0m\u001b[0;34m\u001b[0m\u001b[0;34m\u001b[0m\u001b[0m\n\u001b[1;32m    220\u001b[0m         \u001b[0;31m# this is the NaT pattern\u001b[0m\u001b[0;34m\u001b[0m\u001b[0;34m\u001b[0m\u001b[0;34m\u001b[0m\u001b[0m\n",
      "\u001b[0;32m~/miniconda3/envs/bis/lib/python3.6/site-packages/pandas/core/dtypes/missing.py\u001b[0m in \u001b[0;36m_isna_string_dtype\u001b[0;34m(values, dtype, inf_as_na)\u001b[0m\n\u001b[1;32m    246\u001b[0m             \u001b[0mvec\u001b[0m \u001b[0;34m=\u001b[0m \u001b[0mlibmissing\u001b[0m\u001b[0;34m.\u001b[0m\u001b[0misnaobj_old\u001b[0m\u001b[0;34m(\u001b[0m\u001b[0mvalues\u001b[0m\u001b[0;34m.\u001b[0m\u001b[0mravel\u001b[0m\u001b[0;34m(\u001b[0m\u001b[0;34m)\u001b[0m\u001b[0;34m)\u001b[0m\u001b[0;34m\u001b[0m\u001b[0;34m\u001b[0m\u001b[0m\n\u001b[1;32m    247\u001b[0m         \u001b[0;32melse\u001b[0m\u001b[0;34m:\u001b[0m\u001b[0;34m\u001b[0m\u001b[0;34m\u001b[0m\u001b[0m\n\u001b[0;32m--> 248\u001b[0;31m             \u001b[0mvec\u001b[0m \u001b[0;34m=\u001b[0m \u001b[0mlibmissing\u001b[0m\u001b[0;34m.\u001b[0m\u001b[0misnaobj\u001b[0m\u001b[0;34m(\u001b[0m\u001b[0mvalues\u001b[0m\u001b[0;34m.\u001b[0m\u001b[0mravel\u001b[0m\u001b[0;34m(\u001b[0m\u001b[0;34m)\u001b[0m\u001b[0;34m)\u001b[0m\u001b[0;34m\u001b[0m\u001b[0;34m\u001b[0m\u001b[0m\n\u001b[0m\u001b[1;32m    249\u001b[0m \u001b[0;34m\u001b[0m\u001b[0m\n\u001b[1;32m    250\u001b[0m         \u001b[0mresult\u001b[0m\u001b[0;34m[\u001b[0m\u001b[0;34m...\u001b[0m\u001b[0;34m]\u001b[0m \u001b[0;34m=\u001b[0m \u001b[0mvec\u001b[0m\u001b[0;34m.\u001b[0m\u001b[0mreshape\u001b[0m\u001b[0;34m(\u001b[0m\u001b[0mshape\u001b[0m\u001b[0;34m)\u001b[0m\u001b[0;34m\u001b[0m\u001b[0;34m\u001b[0m\u001b[0m\n",
      "\u001b[0;31mKeyboardInterrupt\u001b[0m: "
     ]
    }
   ],
   "source": [
    "df_fully_ptms = df_fully.loc[df_fully.ID==1].merge(df_key, on=['protein', 'PEP'], how='left')\n",
    "df_fully_ptms = df_fully_ptms.dropna().reset_index(drop=True)\n",
    "print(df_fully_ptms.shape)\n",
    "\n",
    "cab_idx = [idx for idx, seq in zip(df_fully_ptms.index, df_fully_ptms.PTM.values) if '(Cab)' in seq]\n",
    "ace_idx = [idx for idx, seq in zip(df_fully_ptms.index, df_fully_ptms.PTM.values) if '(Ace)' in seq]\n",
    "aml_idx = [idx for idx, seq in zip(df_fully_ptms.index, df_fully_ptms.PTM.values) if '(Aml)' in seq]\n",
    "drop_idx = set(cab_idx).union(set(ace_idx)).union(set(aml_idx))\n",
    "df_fully_ptms=df_fully_ptms.drop(drop_idx, axis=0).reset_index(drop=True)\n",
    "print(len(drop_idx))\n",
    "\n",
    "print(df_fully_ptms.shape)\n",
    "df_fully_ptms.head(2)"
   ]
  },
  {
   "cell_type": "code",
   "execution_count": 29,
   "metadata": {
    "ExecuteTime": {
     "end_time": "2021-11-15T08:05:10.216594Z",
     "start_time": "2021-11-15T08:05:09.384567Z"
    }
   },
   "outputs": [],
   "source": [
    "detect_peps = df_fully_ptms.PTM.apply(lambda x: x.replace('(Cabm)', '').replace('(Dam)', '').replace('(Ox)', '')).values\n",
    "detect_charge = df_fully_ptms.CHARGE.values\n",
    "detect_pc = {(p, c) for p, c in zip(detect_peps, detect_charge)}\n",
    "print(len(detect_pc))"
   ]
  },
  {
   "cell_type": "code",
   "execution_count": 34,
   "metadata": {
    "ExecuteTime": {
     "end_time": "2021-11-15T08:05:36.827722Z",
     "start_time": "2021-11-15T08:05:13.388772Z"
    }
   },
   "outputs": [],
   "source": [
    "df_key_realspec = pd.DataFrame([[p, c, '-'] for p, c in detect_pc], columns=['STRIP_PEPTIDE', 'CHARGE', 'DROP'])\n",
    "df_kbreal = df_kb.merge(df_key_realspec, on=['STRIP_PEPTIDE', 'CHARGE'], how='inner')\n",
    "\n",
    "cab_idx = [idx for idx, seq in zip(df_kbreal.index, df_kbreal.PTM_SEQ.values) if '(Cab)' in seq]\n",
    "ace_idx = [idx for idx, seq in zip(df_kbreal.index, df_kbreal.PTM_SEQ.values) if '(Ace)' in seq]\n",
    "aml_idx = [idx for idx, seq in zip(df_kbreal.index, df_kbreal.PTM_SEQ.values) if '(Aml)' in seq]\n",
    "drop_idx = set(cab_idx).union(set(ace_idx)).union(set(aml_idx))\n",
    "df_kbreal=df_kbreal.drop(drop_idx, axis=0).reset_index(drop=True)\n",
    "print(df_kbreal.shape)"
   ]
  },
  {
   "cell_type": "markdown",
   "metadata": {},
   "source": [
    "# 2019ACS_GuanModel Charge prediction\n",
    "\n",
    "# 2019Nat_Prosit MS2 Prediction"
   ]
  },
  {
   "cell_type": "code",
   "execution_count": 5,
   "metadata": {
    "ExecuteTime": {
     "end_time": "2021-11-25T02:52:51.338581Z",
     "start_time": "2021-11-25T02:52:49.860535Z"
    }
   },
   "outputs": [],
   "source": [
    "def reshapeOneHot(X):\n",
    "    X = np.dstack(X)\n",
    "    X = np.swapaxes(X, 1, 2)\n",
    "    X = np.swapaxes(X, 0, 1)\n",
    "    return X\n",
    "\n",
    "def one_hot_encode_peptide(peptide, MAX_LENGTH = 41):\n",
    "    if len(peptide) > MAX_LENGTH:\n",
    "        print('Peptide length is larger than maximal length of ', str(MAX_LENGTH))\n",
    "        return None\n",
    "    else:\n",
    "        AA_vocabulary = 'KRPTNAQVSGILCMJHFYWEDBXO'#B: acetyl; O: Carbamyl; J: oxidized Met; X:pyro_glu\n",
    "        no_not_used_aas = 1#U: not used\n",
    "\n",
    "        one_hot_peptide = np.zeros((len(peptide), len(AA_vocabulary) - no_not_used_aas))\n",
    "\n",
    "        for j in range(0, len(peptide)):\n",
    "            try:\n",
    "                aa = peptide[j]\n",
    "                one_hot_peptide[j, AA_vocabulary.index(aa)] = 1\n",
    "            except:\n",
    "                pass\n",
    "        \n",
    "        no_front_paddings = int((MAX_LENGTH - len(peptide))/2)\n",
    "        peptide_front_paddings = np.zeros((no_front_paddings, one_hot_peptide.shape[1]))\n",
    "\n",
    "        no_back_paddings = MAX_LENGTH - len(peptide) - no_front_paddings\n",
    "        peptide_back_paddings = np.zeros((no_back_paddings, one_hot_peptide.shape[1]))\n",
    "\n",
    "        full_one_hot_peptide = np.vstack((peptide_front_paddings, one_hot_peptide, peptide_back_paddings))\n",
    "\n",
    "        return peptide, full_one_hot_peptide\n",
    "    \n",
    "AA_vocabulary = 'KRPTNAQVSGILCMJHFYWEDBXOU'#B: acetyl; J: oxidized Met; X:pyro_glu\n",
    "single2psi_lookup = {'B': '(Acetyl)-',\n",
    "                     'J': 'M(Oxidation)',\n",
    "                     'X': '(Gln->pyro-Glu)Q',\n",
    "                     'C': 'C(Carbamidomethyl)'}\n",
    "\n",
    "def one_hot_to_single_ptm(one_hot):\n",
    "    seq = ''\n",
    "    for row in one_hot:\n",
    "        if row.sum() > 0:\n",
    "            idx = row.argmax()\n",
    "            seq += AA_vocabulary[idx]\n",
    "    return seq\n",
    "\n",
    "\n",
    "\n",
    "def single_ptm_to_psi(single_ptm_seq):\n",
    "    psi_seq = single_ptm_seq\n",
    "    for code in single2psi_lookup:\n",
    "        psi_seq = psi_seq.replace(code, single2psi_lookup[code])\n",
    "    return psi_seq\n",
    "\n",
    "fn1 = '../refModel/2019MCP_Guan/LCMSMS_Pred_Supplemental_Material_section_S6/ChargeState/zfit_bidirLSTM2_masking_result.pickle'\n",
    "with open(fn1, 'rb') as fid:\n",
    "    pred_data = pickle.load(fid)\n",
    "\n",
    "fn2 = '../refModel/2019MCP_Guan/LCMSMS_Pred_Supplemental_Material_section_S6/ChargeState/zfit_one_hot.pickle'\n",
    "with open(fn2, 'rb') as fid:\n",
    "    real_data = pickle.load(fid)\n",
    "\n",
    "def plot_zfit(train_X, train_y, predicted_train_y, n):\n",
    "\n",
    "    X = train_X[n]\n",
    "    s_seq = one_hot_to_single_ptm(X)\n",
    "    print(s_seq)\n",
    "    psi_seq = single_ptm_to_psi(s_seq)\n",
    "    print(psi_seq)\n",
    "   \n",
    "    y_exp = train_y[n]\n",
    "    y_pred = predicted_train_y[n]\n",
    "    pcc = pearsonr(y_exp, y_pred)\n",
    "\n",
    "    fig, ax = plt.subplots()\n",
    "    charges = range(1, len(y_exp) + 1)\n",
    "    ax.stem(charges, y_exp, 'b', markerfmt=\" \", label='Experimental')\n",
    "    ax.stem(charges, -y_pred, 'g', markerfmt=\" \", label='Predicted')\n",
    "    plt.text(1.5, -0.35, 'pcc: %6.3f, %6.3g'%(pcc[0], pcc[1]))\n",
    "    plt.xticks(charges)\n",
    "    plt.xlabel('charge')\n",
    "    plt.title(psi_seq)\n",
    "    plt.show()"
   ]
  },
  {
   "cell_type": "code",
   "execution_count": 6,
   "metadata": {
    "ExecuteTime": {
     "end_time": "2021-11-25T02:52:56.754464Z",
     "start_time": "2021-11-25T02:52:51.340467Z"
    }
   },
   "outputs": [
    {
     "name": "stdout",
     "output_type": "stream",
     "text": [
      "Model: \"sequential_1\"\n",
      "_________________________________________________________________\n",
      "Layer (type)                 Output Shape              Param #   \n",
      "=================================================================\n",
      "masking_1 (Masking)          (None, None, 23)          0         \n",
      "_________________________________________________________________\n",
      "bidirectional_1 (Bidirection (None, None, 512)         573440    \n",
      "_________________________________________________________________\n",
      "bidirectional_2 (Bidirection (None, 512)               1574912   \n",
      "_________________________________________________________________\n",
      "dense_1 (Dense)              (None, 256)               131328    \n",
      "_________________________________________________________________\n",
      "dense_2 (Dense)              (None, 5)                 1285      \n",
      "=================================================================\n",
      "Total params: 2,280,965\n",
      "Trainable params: 2,280,965\n",
      "Non-trainable params: 0\n",
      "_________________________________________________________________\n",
      "None\n"
     ]
    }
   ],
   "source": [
    "network_ori = tf.keras.models.load_model('../refModel/2019MCP_Guan/LCMSMS_Pred_Supplemental_Material_section_S6/ChargeState/zfit_bidirLSTM2_masking_model.h5')\n",
    "\n",
    "print(network_ori.summary())"
   ]
  },
  {
   "cell_type": "markdown",
   "metadata": {},
   "source": [
    "* undetected peptides"
   ]
  },
  {
   "cell_type": "code",
   "execution_count": 43,
   "metadata": {
    "ExecuteTime": {
     "end_time": "2021-11-15T08:05:50.177077Z",
     "start_time": "2021-11-15T08:05:49.068775Z"
    }
   },
   "outputs": [
    {
     "name": "stdout",
     "output_type": "stream",
     "text": [
      "1422466\n"
     ]
    }
   ],
   "source": [
    "undetect_peps = df_fully.loc[df_fully.ID==0].PEP.unique()\n",
    "print(len(undetect_peps))"
   ]
  },
  {
   "cell_type": "code",
   "execution_count": 44,
   "metadata": {
    "ExecuteTime": {
     "end_time": "2021-11-15T08:06:24.062804Z",
     "start_time": "2021-11-15T08:05:50.178479Z"
    }
   },
   "outputs": [],
   "source": [
    "# additional prediction charge 6 peptide \n",
    "all_X_str = np.array(list(set(undetect_peps)))\n",
    "all_onehot = dict()\n",
    "for p in all_X_str:\n",
    "    o = one_hot_encode_peptide(p)\n",
    "    all_onehot[p] = o[1]\n",
    "all_X = np.array(list(all_onehot.values()))\n",
    "print(all_X.shape)\n",
    "\n",
    "test=all_X[:1000]\n",
    "kb_pred = network_ori.predict(test)"
   ]
  },
  {
   "cell_type": "code",
   "execution_count": 47,
   "metadata": {
    "ExecuteTime": {
     "end_time": "2021-11-15T08:06:42.599421Z",
     "start_time": "2021-11-15T08:06:42.594444Z"
    }
   },
   "outputs": [
    {
     "name": "stdout",
     "output_type": "stream",
     "text": [
      "6.48 hour estimated\n"
     ]
    }
   ],
   "source": [
    "print(round(16.4*(1422466/1000)/3600, 2), 'hour estimated')"
   ]
  },
  {
   "cell_type": "code",
   "execution_count": 49,
   "metadata": {
    "ExecuteTime": {
     "end_time": "2021-11-15T13:51:48.312760Z",
     "start_time": "2021-11-15T08:06:42.622405Z"
    }
   },
   "outputs": [],
   "source": [
    "all_pred = network_ori.predict(all_X)\n",
    "\n",
    "all_pred_log = np.array([np.array(list(map(lambda x: -math.log(x), _))) for _ in all_pred])\n",
    "print(all_X_str.shape, all_X.shape, all_pred_log.shape)\n",
    "\n",
    "peplist = []\n",
    "for p, prob in zip(all_X_str, all_pred_log):\n",
    "    idxes = np.where(prob<=6)[0]\n",
    "    charges = idxes + 1  # casting\n",
    "    for c in charges:\n",
    "        peplist.append([p, 30, c])\n",
    "df_peplist = pd.DataFrame(peplist, columns=['modified_sequence', 'collision_energy', 'precursor_charge'])\n",
    "print(df_peplist.shape)"
   ]
  },
  {
   "cell_type": "code",
   "execution_count": 53,
   "metadata": {
    "ExecuteTime": {
     "end_time": "2021-11-15T13:52:30.834903Z",
     "start_time": "2021-11-15T13:52:25.175525Z"
    }
   },
   "outputs": [],
   "source": [
    "df_peplist.to_csv('undetect_peptides_MS2prediction_211115.csv', index=False)"
   ]
  },
  {
   "cell_type": "markdown",
   "metadata": {},
   "source": [
    "* detected peptide"
   ]
  },
  {
   "cell_type": "code",
   "execution_count": 56,
   "metadata": {
    "ExecuteTime": {
     "end_time": "2021-11-15T15:06:59.412820Z",
     "start_time": "2021-11-15T15:06:59.255863Z"
    }
   },
   "outputs": [],
   "source": [
    "detect_peps = [_[0] for _ in detect_pc]\n",
    "\n",
    "# additional prediction charge 6 peptide \n",
    "all_X_str = np.array(list(set(detect_peps)))\n",
    "all_onehot = dict()\n",
    "for p in all_X_str:\n",
    "    o = one_hot_encode_peptide(p)\n",
    "    all_onehot[p] = o[1]\n",
    "all_X = np.array(list(all_onehot.values()))\n",
    "print(all_X.shape)\n",
    "\n",
    "test=all_X[:1000]\n",
    "kb_pred = network_ori.predict(test)"
   ]
  },
  {
   "cell_type": "code",
   "execution_count": 73,
   "metadata": {
    "ExecuteTime": {
     "end_time": "2021-11-21T18:19:01.655490Z",
     "start_time": "2021-11-21T18:19:01.652151Z"
    }
   },
   "outputs": [
    {
     "name": "stdout",
     "output_type": "stream",
     "text": [
      "3.21 hour estimated\n"
     ]
    }
   ],
   "source": [
    "print(round(25.3*(456572/1000)/3600, 2), 'hour estimated')"
   ]
  },
  {
   "cell_type": "code",
   "execution_count": 75,
   "metadata": {
    "ExecuteTime": {
     "end_time": "2021-11-21T20:45:52.705193Z",
     "start_time": "2021-11-21T18:27:16.231149Z"
    }
   },
   "outputs": [],
   "source": [
    "all_pred = network_ori.predict(all_X)\n",
    "\n",
    "all_pred_log = np.array([np.array(list(map(lambda x: -math.log(x), _))) for _ in all_pred])\n",
    "print(all_X_str.shape, all_X.shape, all_pred_log.shape)\n",
    "\n",
    "peplist = []\n",
    "for p, prob in zip(all_X_str, all_pred_log):\n",
    "    idxes = np.where(prob<=6)[0]\n",
    "    charges = idxes + 1  # casting\n",
    "    for c in charges:\n",
    "        peplist.append([p, 30, c])\n",
    "df_peplist = pd.DataFrame(peplist, columns=['modified_sequence', 'collision_energy', 'precursor_charge'])\n",
    "print(df_peplist.shape)"
   ]
  },
  {
   "cell_type": "code",
   "execution_count": 78,
   "metadata": {
    "ExecuteTime": {
     "end_time": "2021-11-21T21:11:01.087245Z",
     "start_time": "2021-11-21T21:10:59.307563Z"
    }
   },
   "outputs": [],
   "source": [
    "df_peplist.to_csv('detect_peptides_MS2prediction_211115.csv', index=False)"
   ]
  },
  {
   "cell_type": "markdown",
   "metadata": {},
   "source": [
    "* modeling data"
   ]
  },
  {
   "cell_type": "code",
   "execution_count": 2,
   "metadata": {
    "ExecuteTime": {
     "end_time": "2021-11-25T02:44:06.398591Z",
     "start_time": "2021-11-25T02:44:06.305502Z"
    }
   },
   "outputs": [],
   "source": [
    "from sklearn.model_selection import train_test_split"
   ]
  },
  {
   "cell_type": "code",
   "execution_count": 3,
   "metadata": {
    "ExecuteTime": {
     "end_time": "2021-11-25T02:44:16.090205Z",
     "start_time": "2021-11-25T02:44:12.609754Z"
    }
   },
   "outputs": [
    {
     "name": "stdout",
     "output_type": "stream",
     "text": [
      "813388 797400\n",
      "SET check set()\n"
     ]
    }
   ],
   "source": [
    "df_detect_peptide_train = pd.read_csv('../data/df_detect_peptide_train.csv')\n",
    "test = pd.read_csv('../data/df_detect_peptide_test.csv')\n",
    "train, val = train_test_split(df_detect_peptide_train, test_size=0.2, random_state=7)\n",
    "\n",
    "df_modeling = pd.concat([train, val, test], axis=0)\n",
    "print(len(df_modeling), len(df_modeling.PEP.unique()))\n",
    "print('SET check', set(train.PEP.values).intersection(set(val.PEP.values)).intersection(set(test.PEP.values)))"
   ]
  },
  {
   "cell_type": "code",
   "execution_count": 7,
   "metadata": {
    "ExecuteTime": {
     "end_time": "2021-11-25T02:53:30.032796Z",
     "start_time": "2021-11-25T02:53:10.364655Z"
    }
   },
   "outputs": [
    {
     "name": "stdout",
     "output_type": "stream",
     "text": [
      "797400\n"
     ]
    }
   ],
   "source": [
    "# additional prediction charge 6 peptide \n",
    "all_X_str = np.array(df_modeling.PEP.values)\n",
    "all_onehot = dict()\n",
    "for p in all_X_str:\n",
    "    o = one_hot_encode_peptide(p)\n",
    "    all_onehot[p] = o[1]\n",
    "all_X = np.array(list(all_onehot.values()))\n",
    "print(len(all_X))"
   ]
  },
  {
   "cell_type": "code",
   "execution_count": 8,
   "metadata": {
    "ExecuteTime": {
     "end_time": "2021-11-25T07:06:57.042155Z",
     "start_time": "2021-11-25T02:53:30.034840Z"
    }
   },
   "outputs": [],
   "source": [
    "all_pred = network_ori.predict(all_X)"
   ]
  },
  {
   "cell_type": "code",
   "execution_count": 9,
   "metadata": {
    "ExecuteTime": {
     "end_time": "2021-11-25T10:32:23.532192Z",
     "start_time": "2021-11-25T10:32:19.463064Z"
    }
   },
   "outputs": [
    {
     "name": "stdout",
     "output_type": "stream",
     "text": [
      "(813388,) (797400, 41, 23) (797400, 5)\n"
     ]
    }
   ],
   "source": [
    "all_pred_log = np.array([np.array(list(map(lambda x: -math.log(x), _))) for _ in all_pred])\n",
    "print(all_X_str.shape, all_X.shape, all_pred_log.shape)"
   ]
  },
  {
   "cell_type": "code",
   "execution_count": 42,
   "metadata": {
    "ExecuteTime": {
     "end_time": "2021-11-25T19:15:00.822303Z",
     "start_time": "2021-11-25T19:14:53.411162Z"
    }
   },
   "outputs": [],
   "source": [
    "peplist = []\n",
    "for p, prob in zip(all_onehot.keys(), all_pred_log):\n",
    "    idxes = np.where(prob<=6)[0]\n",
    "    charges = idxes + 1  # casting\n",
    "    for c in charges:\n",
    "        peplist.append([p, 30, c])\n",
    "df_peplist = pd.DataFrame(peplist, columns=['modified_sequence', 'collision_energy', 'precursor_charge'])"
   ]
  },
  {
   "cell_type": "code",
   "execution_count": 22,
   "metadata": {
    "ExecuteTime": {
     "end_time": "2021-11-25T19:08:33.994674Z",
     "start_time": "2021-11-25T19:08:30.713400Z"
    }
   },
   "outputs": [],
   "source": [
    "df_peplist.to_csv('df_modeling_211124.csv', index=False)"
   ]
  },
  {
   "cell_type": "markdown",
   "metadata": {},
   "source": [
    "# MSGF+ Search for EDA\n",
    "  - make mgf file"
   ]
  },
  {
   "cell_type": "code",
   "execution_count": 56,
   "metadata": {
    "ExecuteTime": {
     "end_time": "2021-10-29T20:19:22.193791Z",
     "start_time": "2021-10-29T20:19:22.185223Z"
    }
   },
   "outputs": [],
   "source": [
    "# Amino acids\n",
    "MODIFICATION = {\n",
    "    \"CAM\": 57.0214637236,  # Carbamidomethylation (CAM)\n",
    "    \"OX\": 15.99491,  # Oxidation\n",
    "}\n",
    "AMINO_ACID = {\n",
    "    \"G\": 57.021464,\n",
    "    \"R\": 156.101111,\n",
    "    \"V\": 99.068414,\n",
    "    \"P\": 97.052764,\n",
    "    \"S\": 87.032028,\n",
    "    \"U\": 150.95363,\n",
    "    \"L\": 113.084064,\n",
    "    \"M\": 131.040485,\n",
    "    \"Q\": 128.058578,\n",
    "    \"N\": 114.042927,\n",
    "    \"Y\": 163.063329,\n",
    "    \"E\": 129.042593,\n",
    "    \"C\": 103.009185,\n",
    "    \"F\": 147.068414,\n",
    "    \"I\": 113.084064,\n",
    "    \"A\": 71.037114,\n",
    "    \"T\": 101.047679,\n",
    "    \"W\": 186.079313,\n",
    "    \"H\": 137.058912,\n",
    "    \"D\": 115.026943,\n",
    "    \"K\": 128.094963,\n",
    "}\n",
    "AMINO_ACID[\"M(ox)\"] = AMINO_ACID[\"M\"] + MODIFICATION[\"OX\"]\n",
    "AMINO_ACID[\"C(cam)\"] = AMINO_ACID[\"C\"] + MODIFICATION[\"CAM\"]\n",
    "\n",
    "# Atomic elements\n",
    "PROTON = 1.007276467\n",
    "ELECTRON = 0.00054858\n",
    "H = 1.007825035\n",
    "C = 12.0\n",
    "O = 15.99491463\n",
    "N = 14.003074\n",
    "\n",
    "# Tiny molecules\n",
    "N_TERMINUS = H\n",
    "C_TERMINUS = O + H\n",
    "CO = C + O\n",
    "CHO = C + H + O\n",
    "NH2 = N + H * 2\n",
    "H2O = H * 2 + O\n",
    "NH3 = N + H * 3\n",
    "\n",
    "def cal_MW(seq):\n",
    "    R = sum([AMINO_ACID[aa] for aa in list(map(lambda x: x.replace('C', 'C(cam)'), seq))])\n",
    "    return R + N_TERMINUS + C_TERMINUS\n",
    "\n",
    "def cal_mz(seq, CHARGE):\n",
    "    # we treat STRIP_PEPTIDE, so modification does not consider.\n",
    "    MW = cal_MW(seq)\n",
    "    return (MW + PROTON*CHARGE) / CHARGE"
   ]
  },
  {
   "cell_type": "code",
   "execution_count": 53,
   "metadata": {
    "ExecuteTime": {
     "end_time": "2021-10-29T20:18:26.867458Z",
     "start_time": "2021-10-29T20:18:10.537709Z"
    }
   },
   "outputs": [],
   "source": [
    "undetect_ms2 = pd.read_csv('undetect_peptides_MS2prediction_211025_result.msms', sep='\\t')\n",
    "print(undetect_ms2.shape)\n",
    "undetect_ms2.head(2)"
   ]
  },
  {
   "cell_type": "code",
   "execution_count": 58,
   "metadata": {
    "ExecuteTime": {
     "end_time": "2021-10-29T20:20:11.270086Z",
     "start_time": "2021-10-29T20:19:44.664591Z"
    }
   },
   "outputs": [
    {
     "name": "stdout",
     "output_type": "stream",
     "text": [
      "1400000 25.95\r"
     ]
    }
   ],
   "source": [
    "# peptide to spectrum dictionary (prediction)\n",
    "start = time.time()\n",
    "\n",
    "npep2spec_pred = dict()\n",
    "for idx, (i, mz, p, c) in enumerate(undetect_ms2[['Intensities', 'Masses', 'Modified Sequence', 'Charge']].values):\n",
    "    if idx % 100000 == 0:\n",
    "        print(idx, round(time.time() - start, 2), end='\\r')\n",
    "\n",
    "    if (p, c) not in npep2spec_pred:\n",
    "        npep2spec_pred[(p, c)] = dict()\n",
    "    for i_, mz_ in zip(i.split(';'), mz.split(';')):\n",
    "        npep2spec_pred[(p, c)][mz_]=i_"
   ]
  },
  {
   "cell_type": "code",
   "execution_count": 59,
   "metadata": {
    "ExecuteTime": {
     "end_time": "2021-10-29T20:23:37.340210Z",
     "start_time": "2021-10-29T20:22:31.509307Z"
    }
   },
   "outputs": [
    {
     "name": "stdout",
     "output_type": "stream",
     "text": [
      "1400000 59.79\r"
     ]
    }
   ],
   "source": [
    "# nID mgf\n",
    "start = time.time()\n",
    "\n",
    "idf01 = open('/data/210827_SJH_prosit/211025STRIP_PEP/uniprot_predMS2_frac01.mgf', mode='w')\n",
    "idf02 = open('/data/210827_SJH_prosit/211025STRIP_PEP/uniprot_predMS2_frac02.mgf', mode='w')\n",
    "idf03 = open('/data/210827_SJH_prosit/211025STRIP_PEP/uniprot_predMS2_frac03.mgf', mode='w')\n",
    "idf04 = open('/data/210827_SJH_prosit/211025STRIP_PEP/uniprot_predMS2_frac04.mgf', mode='w')\n",
    "idf05 = open('/data/210827_SJH_prosit/211025STRIP_PEP/uniprot_predMS2_frac05.mgf', mode='w')\n",
    "idf06 = open('/data/210827_SJH_prosit/211025STRIP_PEP/uniprot_predMS2_frac06.mgf', mode='w')\n",
    "idf07 = open('/data/210827_SJH_prosit/211025STRIP_PEP/uniprot_predMS2_frac07.mgf', mode='w')\n",
    "idf08 = open('/data/210827_SJH_prosit/211025STRIP_PEP/uniprot_predMS2_frac08.mgf', mode='w')\n",
    "idf09 = open('/data/210827_SJH_prosit/211025STRIP_PEP/uniprot_predMS2_frac09.mgf', mode='w')\n",
    "idf10 = open('/data/210827_SJH_prosit/211025STRIP_PEP/uniprot_predMS2_frac10.mgf', mode='w')\n",
    "idf11 = open('/data/210827_SJH_prosit/211025STRIP_PEP/uniprot_predMS2_frac11.mgf', mode='w')\n",
    "idf12 = open('/data/210827_SJH_prosit/211025STRIP_PEP/uniprot_predMS2_frac12.mgf', mode='w')\n",
    "idf2frac = dict()\n",
    "idf2frac[1]=idf01\n",
    "idf2frac[2]=idf02\n",
    "idf2frac[3]=idf03\n",
    "idf2frac[4]=idf04\n",
    "idf2frac[5]=idf05\n",
    "idf2frac[6]=idf06\n",
    "idf2frac[7]=idf07\n",
    "idf2frac[8]=idf08\n",
    "idf2frac[9]=idf09\n",
    "idf2frac[10]=idf10\n",
    "idf2frac[11]=idf11\n",
    "idf2frac[12]=idf12\n",
    "bins = [int(len(npep2spec_pred)/12 * i) for i in range(12)]\n",
    "idx2fracidx = np.digitize(range(len(npep2spec_pred)), bins=bins)\n",
    "\n",
    "for idx, ((p, c), mz2int) in enumerate(npep2spec_pred.items()):\n",
    "    if idx % 100000 == 0:\n",
    "        print(idx, round(time.time() - start, 2), end='\\r')\n",
    "        \n",
    "    idf = idf2frac[idx2fracidx[idx]]\n",
    "    idf.write('BEGIN IONS\\n')\n",
    "    idf.write('TITLE='+str(idx+1)+' File:\\\"uniprot_predMS2_frac{}.mgf\", NativeID:\\\"controllerType=0 controllerNumber=1 scan='.format(str(idx+1).zfill(2))+str(idx+1)+'\\\"\\n')\n",
    "#     idf.write('RTINSECONDS=10\\n')\n",
    "    idf.write('PEPMASS='+str(cal_mz(p, c))+'\\n')  # ' precursor_intensity'\n",
    "    idf.write('CHARGE='+str(c)+'+\\n')\n",
    "    for mz, i in sorted(mz2int.items(), key=lambda x: x[0]):\n",
    "        idf.write(str(mz)+' '+str(i)+'\\n')\n",
    "    idf.write('END IONS\\n')\n",
    "idf01.close()\n",
    "idf02.close()\n",
    "idf03.close()\n",
    "idf04.close()\n",
    "idf05.close()\n",
    "idf06.close()\n",
    "idf07.close()\n",
    "idf08.close()\n",
    "idf09.close()\n",
    "idf10.close()\n",
    "idf11.close()\n",
    "idf12.close()"
   ]
  },
  {
   "cell_type": "markdown",
   "metadata": {},
   "source": [
    "# massIVE-KB spectra"
   ]
  },
  {
   "cell_type": "code",
   "execution_count": 60,
   "metadata": {
    "ExecuteTime": {
     "end_time": "2021-10-29T20:23:47.163881Z",
     "start_time": "2021-10-29T20:23:37.342284Z"
    },
    "scrolled": true
   },
   "outputs": [
    {
     "name": "stdout",
     "output_type": "stream",
     "text": [
      "(764321, 5)\n"
     ]
    },
    {
     "data": {
      "text/html": [
       "<div>\n",
       "<style scoped>\n",
       "    .dataframe tbody tr th:only-of-type {\n",
       "        vertical-align: middle;\n",
       "    }\n",
       "\n",
       "    .dataframe tbody tr th {\n",
       "        vertical-align: top;\n",
       "    }\n",
       "\n",
       "    .dataframe thead th {\n",
       "        text-align: right;\n",
       "    }\n",
       "</style>\n",
       "<table border=\"1\" class=\"dataframe\">\n",
       "  <thead>\n",
       "    <tr style=\"text-align: right;\">\n",
       "      <th></th>\n",
       "      <th>Intensities</th>\n",
       "      <th>Masses</th>\n",
       "      <th>Matches</th>\n",
       "      <th>Modified Sequence</th>\n",
       "      <th>Charge</th>\n",
       "    </tr>\n",
       "  </thead>\n",
       "  <tbody>\n",
       "    <tr>\n",
       "      <th>0</th>\n",
       "      <td>0.23332144;0.12056828;1.0;0.51005423;0.1888672...</td>\n",
       "      <td>175.118952167;288.203016167;375.235044167;474....</td>\n",
       "      <td>y1;y2;y3;y4;y5;y6;y7;y8;b1;b2;b3;b4;b5;b6;b7;y...</td>\n",
       "      <td>KKYEEEVSLR</td>\n",
       "      <td>3</td>\n",
       "    </tr>\n",
       "    <tr>\n",
       "      <th>1</th>\n",
       "      <td>0.1725661;0.33016136;0.10774748;0.2737293;0.60...</td>\n",
       "      <td>175.118952167;304.161545167;433.204138167;562....</td>\n",
       "      <td>y1;y2;y3;y4;y5;y6;y7;y8;b2;b3;b4;b5;b6;b7;b8;b...</td>\n",
       "      <td>AGVLAHLEEER</td>\n",
       "      <td>2</td>\n",
       "    </tr>\n",
       "  </tbody>\n",
       "</table>\n",
       "</div>"
      ],
      "text/plain": [
       "                                         Intensities  \\\n",
       "0  0.23332144;0.12056828;1.0;0.51005423;0.1888672...   \n",
       "1  0.1725661;0.33016136;0.10774748;0.2737293;0.60...   \n",
       "\n",
       "                                              Masses  \\\n",
       "0  175.118952167;288.203016167;375.235044167;474....   \n",
       "1  175.118952167;304.161545167;433.204138167;562....   \n",
       "\n",
       "                                             Matches Modified Sequence  Charge  \n",
       "0  y1;y2;y3;y4;y5;y6;y7;y8;b1;b2;b3;b4;b5;b6;b7;y...        KKYEEEVSLR       3  \n",
       "1  y1;y2;y3;y4;y5;y6;y7;y8;b2;b3;b4;b5;b6;b7;b8;b...       AGVLAHLEEER       2  "
      ]
     },
     "execution_count": 60,
     "metadata": {},
     "output_type": "execute_result"
    }
   ],
   "source": [
    "detect_ms2 = pd.read_csv('detect_peptides_MS2prediction_211025_result.msms', sep='\\t')\n",
    "print(detect_ms2.shape)\n",
    "detect_ms2.head(2)"
   ]
  },
  {
   "cell_type": "code",
   "execution_count": 101,
   "metadata": {
    "ExecuteTime": {
     "end_time": "2021-11-07T20:44:14.335186Z",
     "start_time": "2021-11-07T20:44:14.321772Z"
    }
   },
   "outputs": [
    {
     "data": {
      "text/html": [
       "<div>\n",
       "<style scoped>\n",
       "    .dataframe tbody tr th:only-of-type {\n",
       "        vertical-align: middle;\n",
       "    }\n",
       "\n",
       "    .dataframe tbody tr th {\n",
       "        vertical-align: top;\n",
       "    }\n",
       "\n",
       "    .dataframe thead th {\n",
       "        text-align: right;\n",
       "    }\n",
       "</style>\n",
       "<table border=\"1\" class=\"dataframe\">\n",
       "  <thead>\n",
       "    <tr style=\"text-align: right;\">\n",
       "      <th></th>\n",
       "      <th>Unnamed: 0</th>\n",
       "      <th>PEPMASS</th>\n",
       "      <th>CHARGE</th>\n",
       "      <th>FILENAME</th>\n",
       "      <th>SEQ</th>\n",
       "      <th>PROTEIN</th>\n",
       "      <th>STRIP_PEPTIDE</th>\n",
       "      <th>SCORE</th>\n",
       "      <th>MZ</th>\n",
       "      <th>INTENSITY</th>\n",
       "      <th>SPECTRAL_CNT</th>\n",
       "      <th>PROTEIN_except_decoy</th>\n",
       "      <th>PROTEIN_except_else</th>\n",
       "      <th>PTM_SEQ</th>\n",
       "      <th>DROP</th>\n",
       "    </tr>\n",
       "  </thead>\n",
       "  <tbody>\n",
       "    <tr>\n",
       "      <th>0</th>\n",
       "      <td>732863</td>\n",
       "      <td>406.208155</td>\n",
       "      <td>3</td>\n",
       "      <td>filtered_library_mgf_files/0c118258c5c04954969...</td>\n",
       "      <td>AAEEPSKVEEK</td>\n",
       "      <td>sp|P29966|MARCS_HUMAN</td>\n",
       "      <td>AAEEPSKVEEK</td>\n",
       "      <td>5.561619</td>\n",
       "      <td>102.05590057373047;110.07201385498047;115.0874...</td>\n",
       "      <td>146919.9375;38942.06640625;651668.3125;25144.4...</td>\n",
       "      <td>85</td>\n",
       "      <td>sp|P29966|MARCS_HUMAN</td>\n",
       "      <td>sp|P29966|MARCS_HUMAN</td>\n",
       "      <td>AAEEPSKVEEK</td>\n",
       "      <td>-</td>\n",
       "    </tr>\n",
       "    <tr>\n",
       "      <th>1</th>\n",
       "      <td>121794</td>\n",
       "      <td>653.582825</td>\n",
       "      <td>4</td>\n",
       "      <td>filtered_library_mgf_files/97f2d7cfb5a94249ad0...</td>\n",
       "      <td>AC+57.021QDVSVIIHTAC+57.021IIDVFGVTHR</td>\n",
       "      <td>sp|P14060|3BHS1_HUMAN</td>\n",
       "      <td>ACQDVSVIIHTACIIDVFGVTHR</td>\n",
       "      <td>9.530160</td>\n",
       "      <td>101.071044921875;115.08629608154297;120.080528...</td>\n",
       "      <td>3950.259521484375;7356.15966796875;18369.31445...</td>\n",
       "      <td>10</td>\n",
       "      <td>sp|P14060|3BHS1_HUMAN</td>\n",
       "      <td>sp|P14060|3BHS1_HUMAN</td>\n",
       "      <td>AC(Cabm)QDVSVIIHTAC(Cabm)IIDVFGVTHR</td>\n",
       "      <td>-</td>\n",
       "    </tr>\n",
       "  </tbody>\n",
       "</table>\n",
       "</div>"
      ],
      "text/plain": [
       "   Unnamed: 0     PEPMASS  CHARGE  \\\n",
       "0      732863  406.208155       3   \n",
       "1      121794  653.582825       4   \n",
       "\n",
       "                                            FILENAME  \\\n",
       "0  filtered_library_mgf_files/0c118258c5c04954969...   \n",
       "1  filtered_library_mgf_files/97f2d7cfb5a94249ad0...   \n",
       "\n",
       "                                     SEQ                PROTEIN  \\\n",
       "0                            AAEEPSKVEEK  sp|P29966|MARCS_HUMAN   \n",
       "1  AC+57.021QDVSVIIHTAC+57.021IIDVFGVTHR  sp|P14060|3BHS1_HUMAN   \n",
       "\n",
       "             STRIP_PEPTIDE     SCORE  \\\n",
       "0              AAEEPSKVEEK  5.561619   \n",
       "1  ACQDVSVIIHTACIIDVFGVTHR  9.530160   \n",
       "\n",
       "                                                  MZ  \\\n",
       "0  102.05590057373047;110.07201385498047;115.0874...   \n",
       "1  101.071044921875;115.08629608154297;120.080528...   \n",
       "\n",
       "                                           INTENSITY  SPECTRAL_CNT  \\\n",
       "0  146919.9375;38942.06640625;651668.3125;25144.4...            85   \n",
       "1  3950.259521484375;7356.15966796875;18369.31445...            10   \n",
       "\n",
       "    PROTEIN_except_decoy    PROTEIN_except_else  \\\n",
       "0  sp|P29966|MARCS_HUMAN  sp|P29966|MARCS_HUMAN   \n",
       "1  sp|P14060|3BHS1_HUMAN  sp|P14060|3BHS1_HUMAN   \n",
       "\n",
       "                               PTM_SEQ DROP  \n",
       "0                          AAEEPSKVEEK    -  \n",
       "1  AC(Cabm)QDVSVIIHTAC(Cabm)IIDVFGVTHR    -  "
      ]
     },
     "execution_count": 101,
     "metadata": {},
     "output_type": "execute_result"
    }
   ],
   "source": [
    "print(df_kbreal.shape)\n",
    "df_kbreal.head(2)"
   ]
  },
  {
   "cell_type": "code",
   "execution_count": 114,
   "metadata": {
    "ExecuteTime": {
     "end_time": "2021-11-07T20:57:34.763301Z",
     "start_time": "2021-11-07T20:57:33.168747Z"
    }
   },
   "outputs": [
    {
     "data": {
      "text/plain": [
       "748884"
      ]
     },
     "execution_count": 114,
     "metadata": {},
     "output_type": "execute_result"
    }
   ],
   "source": [
    "len({(pp, c) for pp, p, c in df_kbreal[['STRIP_PEPTIDE', 'PTM_SEQ', 'CHARGE']].values if '(Ox)' not in p and '(Dam)' not in p})"
   ]
  },
  {
   "cell_type": "code",
   "execution_count": 63,
   "metadata": {
    "ExecuteTime": {
     "end_time": "2021-10-29T20:24:20.420180Z",
     "start_time": "2021-10-29T20:24:05.424665Z"
    }
   },
   "outputs": [
    {
     "name": "stdout",
     "output_type": "stream",
     "text": [
      "700000 13.64\r"
     ]
    }
   ],
   "source": [
    "# peptide to spectrum dictionary (prediction)\n",
    "start = time.time()\n",
    "\n",
    "pep2spec_pred = dict()\n",
    "for idx, (i, mz, p, c) in enumerate(detect_ms2[['Intensities', 'Masses', 'Modified Sequence', 'Charge']].values):\n",
    "    if idx % 100000 == 0:\n",
    "        print(idx, round(time.time() - start, 2), end='\\r')\n",
    "\n",
    "    if (p, c) not in pep2spec_pred:\n",
    "        pep2spec_pred[(p, c)] = dict()\n",
    "    for i_, mz_ in zip(i.split(';'), mz.split(';')):\n",
    "        pep2spec_pred[(p, c)][mz_]=i_"
   ]
  },
  {
   "cell_type": "code",
   "execution_count": 132,
   "metadata": {
    "ExecuteTime": {
     "end_time": "2021-11-07T21:04:34.170513Z",
     "start_time": "2021-11-07T21:04:33.252257Z"
    }
   },
   "outputs": [],
   "source": [
    "detect_ms2real = df_kbreal.loc[df_kbreal.PTM_SEQ.apply(lambda x: '(Ox)' not in x) & df_kbreal.PTM_SEQ.apply(lambda x: '(Dam)' not in x)]\n",
    "detect_ms2real = detect_ms2real[['INTENSITY', 'MZ', 'STRIP_PEPTIDE', 'CHARGE']].rename({'INTENSITY':'Intensities',\n",
    "                                                                                       'MZ':'Masses',\n",
    "                                                                                       'STRIP_PEPTIDE':'Modified Sequence',\n",
    "                                                                                       'CHARGE':'Charge'}, axis=1)"
   ]
  },
  {
   "cell_type": "code",
   "execution_count": 134,
   "metadata": {
    "ExecuteTime": {
     "end_time": "2021-11-07T21:05:59.076733Z",
     "start_time": "2021-11-07T21:05:20.748206Z"
    }
   },
   "outputs": [
    {
     "name": "stdout",
     "output_type": "stream",
     "text": [
      "700000 35.21\r"
     ]
    }
   ],
   "source": [
    "# peptide to spectrum dictionary\n",
    "start = time.time()\n",
    "\n",
    "pep2spec = dict()\n",
    "for idx, (i, mz, p, c) in enumerate(detect_ms2real[['Intensities', 'Masses', 'Modified Sequence', 'Charge']].values):\n",
    "    if idx % 100000 == 0:\n",
    "        print(idx, round(time.time() - start, 2), end='\\r')\n",
    "\n",
    "    if (p, c) not in pep2spec:\n",
    "        pep2spec[(p, c)] = dict()\n",
    "    for i_, mz_ in zip(i.split(';'), mz.split(';')):\n",
    "        pep2spec[(p, c)][mz_]=i_"
   ]
  },
  {
   "cell_type": "code",
   "execution_count": 65,
   "metadata": {
    "ExecuteTime": {
     "end_time": "2021-11-01T06:52:47.355173Z",
     "start_time": "2021-11-01T06:51:40.211798Z"
    }
   },
   "outputs": [],
   "source": [
    "import pickle\n",
    "with open('../data/massIVE-KB/211025_stirp_pep2spec_pred.pickle', 'wb') as f:\n",
    "    pickle.dump(pep2spec_pred, f, pickle.HIGHEST_PROTOCOL)\n",
    "    \n",
    "with open('../data/uniprot/211025_strip_npep2spec_pred.pickle', 'wb') as f:\n",
    "    pickle.dump(npep2spec_pred, f, pickle.HIGHEST_PROTOCOL)\n",
    "\n",
    "with open('../data/massIVE-KB/211108_stirp_pep2spec.pickle', 'wb') as f:\n",
    "    pickle.dump(pep2spec, f, pickle.HIGHEST_PROTOCOL)"
   ]
  },
  {
   "cell_type": "code",
   "execution_count": 64,
   "metadata": {
    "ExecuteTime": {
     "end_time": "2021-10-29T20:24:58.932171Z",
     "start_time": "2021-10-29T20:24:20.421903Z"
    }
   },
   "outputs": [
    {
     "name": "stdout",
     "output_type": "stream",
     "text": [
      "700000 31.83\r"
     ]
    }
   ],
   "source": [
    "# ID mgf\n",
    "start = time.time()\n",
    "\n",
    "idf01 = open('/data/210827_SJH_prosit/211025STRIP_PEP/massIVE-KB_predMS2_frac01.mgf', mode='w')\n",
    "idf02 = open('/data/210827_SJH_prosit/211025STRIP_PEP/massIVE-KB_predMS2_frac02.mgf', mode='w')\n",
    "idf03 = open('/data/210827_SJH_prosit/211025STRIP_PEP/massIVE-KB_predMS2_frac03.mgf', mode='w')\n",
    "idf04 = open('/data/210827_SJH_prosit/211025STRIP_PEP/massIVE-KB_predMS2_frac04.mgf', mode='w')\n",
    "idf05 = open('/data/210827_SJH_prosit/211025STRIP_PEP/massIVE-KB_predMS2_frac05.mgf', mode='w')\n",
    "idf06 = open('/data/210827_SJH_prosit/211025STRIP_PEP/massIVE-KB_predMS2_frac06.mgf', mode='w')\n",
    "idf07 = open('/data/210827_SJH_prosit/211025STRIP_PEP/massIVE-KB_predMS2_frac07.mgf', mode='w')\n",
    "idf08 = open('/data/210827_SJH_prosit/211025STRIP_PEP/massIVE-KB_predMS2_frac08.mgf', mode='w')\n",
    "idf09 = open('/data/210827_SJH_prosit/211025STRIP_PEP/massIVE-KB_predMS2_frac09.mgf', mode='w')\n",
    "idf10 = open('/data/210827_SJH_prosit/211025STRIP_PEP/massIVE-KB_predMS2_frac10.mgf', mode='w')\n",
    "idf11 = open('/data/210827_SJH_prosit/211025STRIP_PEP/massIVE-KB_predMS2_frac11.mgf', mode='w')\n",
    "idf12 = open('/data/210827_SJH_prosit/211025STRIP_PEP/massIVE-KB_predMS2_frac12.mgf', mode='w')\n",
    "idf2frac = dict()\n",
    "idf2frac[1]=idf01\n",
    "idf2frac[2]=idf02\n",
    "idf2frac[3]=idf03\n",
    "idf2frac[4]=idf04\n",
    "idf2frac[5]=idf05\n",
    "idf2frac[6]=idf06\n",
    "idf2frac[7]=idf07\n",
    "idf2frac[8]=idf08\n",
    "idf2frac[9]=idf09\n",
    "idf2frac[10]=idf10\n",
    "idf2frac[11]=idf11\n",
    "idf2frac[12]=idf12\n",
    "bins = [int(len(pep2spec_pred)/12 * i) for i in range(12)]\n",
    "idx2fracidx = np.digitize(range(len(pep2spec_pred)), bins=bins)\n",
    "\n",
    "for idx, ((p, c), mz2int) in enumerate(pep2spec_pred.items()):\n",
    "    if idx % 100000 == 0:\n",
    "        print(idx, round(time.time() - start, 2), end='\\r')\n",
    "    idf = idf2frac[idx2fracidx[idx]]\n",
    "    idf.write('BEGIN IONS\\n')\n",
    "    idf.write('TITLE='+str(idx+1)+' File:\\\"massIVE-KB_predMS2_frac{}.mgf\", NativeID:\\\"controllerType=0 controllerNumber=1 scan='.format(str(idx+1).zfill(2))+str(idx+1)+'\\\"\\n')\n",
    "    idf.write('PEPMASS='+str(cal_mz(p, c))+'\\n')  # ' precursor_intensity'\n",
    "    idf.write('CHARGE='+str(c)+'+\\n')\n",
    "    for mz, i in sorted(mz2int.items(), key=lambda x: x[0]):\n",
    "        idf.write(str(mz)+' '+str(i)+'\\n')\n",
    "    idf.write('END IONS\\n')\n",
    "\n",
    "idf01.close()\n",
    "idf02.close()\n",
    "idf03.close()\n",
    "idf04.close()\n",
    "idf05.close()\n",
    "idf06.close()\n",
    "idf07.close()\n",
    "idf08.close()\n",
    "idf09.close()\n",
    "idf10.close()\n",
    "idf11.close()\n",
    "idf12.close()"
   ]
  },
  {
   "cell_type": "code",
   "execution_count": 137,
   "metadata": {
    "ExecuteTime": {
     "end_time": "2021-11-07T21:29:18.497211Z",
     "start_time": "2021-11-07T21:27:57.519032Z"
    }
   },
   "outputs": [
    {
     "name": "stdout",
     "output_type": "stream",
     "text": [
      "700000 70.43\r"
     ]
    }
   ],
   "source": [
    "# ID mgf\n",
    "start = time.time()\n",
    "\n",
    "idf01 = open('/data/210827_SJH_prosit/211025STRIP_PEP/massIVE-KB_frac01.mgf', mode='w')\n",
    "idf02 = open('/data/210827_SJH_prosit/211025STRIP_PEP/massIVE-KB_frac02.mgf', mode='w')\n",
    "idf03 = open('/data/210827_SJH_prosit/211025STRIP_PEP/massIVE-KB_frac03.mgf', mode='w')\n",
    "idf04 = open('/data/210827_SJH_prosit/211025STRIP_PEP/massIVE-KB_frac04.mgf', mode='w')\n",
    "idf05 = open('/data/210827_SJH_prosit/211025STRIP_PEP/massIVE-KB_frac05.mgf', mode='w')\n",
    "idf06 = open('/data/210827_SJH_prosit/211025STRIP_PEP/massIVE-KB_frac06.mgf', mode='w')\n",
    "idf07 = open('/data/210827_SJH_prosit/211025STRIP_PEP/massIVE-KB_frac07.mgf', mode='w')\n",
    "idf08 = open('/data/210827_SJH_prosit/211025STRIP_PEP/massIVE-KB_frac08.mgf', mode='w')\n",
    "idf09 = open('/data/210827_SJH_prosit/211025STRIP_PEP/massIVE-KB_frac09.mgf', mode='w')\n",
    "idf10 = open('/data/210827_SJH_prosit/211025STRIP_PEP/massIVE-KB_frac10.mgf', mode='w')\n",
    "idf11 = open('/data/210827_SJH_prosit/211025STRIP_PEP/massIVE-KB_frac11.mgf', mode='w')\n",
    "idf12 = open('/data/210827_SJH_prosit/211025STRIP_PEP/massIVE-KB_frac12.mgf', mode='w')\n",
    "idf13 = open('/data/210827_SJH_prosit/211025STRIP_PEP/massIVE-KB_frac13.mgf', mode='w')\n",
    "idf14 = open('/data/210827_SJH_prosit/211025STRIP_PEP/massIVE-KB_frac14.mgf', mode='w')\n",
    "idf2frac = dict()\n",
    "idf2frac[1]=idf01\n",
    "idf2frac[2]=idf02\n",
    "idf2frac[3]=idf03\n",
    "idf2frac[4]=idf04\n",
    "idf2frac[5]=idf05\n",
    "idf2frac[6]=idf06\n",
    "idf2frac[7]=idf07\n",
    "idf2frac[8]=idf08\n",
    "idf2frac[9]=idf09\n",
    "idf2frac[10]=idf10\n",
    "idf2frac[11]=idf11\n",
    "idf2frac[12]=idf12\n",
    "idf2frac[13]=idf13\n",
    "idf2frac[14]=idf14\n",
    "bins = [int(len(pep2spec)/14 * i) for i in range(14)]\n",
    "idx2fracidx = np.digitize(range(len(pep2spec)), bins=bins)\n",
    "\n",
    "for idx, ((p, c), mz2int) in enumerate(pep2spec.items()):\n",
    "    if idx % 100000 == 0:\n",
    "        print(idx, round(time.time() - start, 2), end='\\r')\n",
    "    idf = idf2frac[idx2fracidx[idx]]\n",
    "    idf.write('BEGIN IONS\\n')\n",
    "    idf.write('TITLE='+str(idx+1)+' File:\\\"massIVE-KB_frac{}.mgf\", NativeID:\\\"controllerType=0 controllerNumber=1 scan='.format(str(idx+1).zfill(2))+str(idx+1)+'\\\"\\n')\n",
    "    idf.write('PEPMASS='+str(cal_mz(p, c))+'\\n')  # ' precursor_intensity'\n",
    "    idf.write('CHARGE='+str(c)+'+\\n')\n",
    "    for mz, i in sorted(mz2int.items(), key=lambda x: x[0]):\n",
    "        idf.write(str(mz)+' '+str(i)+'\\n')\n",
    "    idf.write('END IONS\\n')\n",
    "\n",
    "idf01.close()\n",
    "idf02.close()\n",
    "idf03.close()\n",
    "idf04.close()\n",
    "idf05.close()\n",
    "idf06.close()\n",
    "idf07.close()\n",
    "idf08.close()\n",
    "idf09.close()\n",
    "idf10.close()\n",
    "idf11.close()\n",
    "idf12.close()\n",
    "idf13.close()\n",
    "idf14.close()"
   ]
  }
 ],
 "metadata": {
  "kernelspec": {
   "display_name": "TF2.0",
   "language": "python",
   "name": "bis"
  },
  "language_info": {
   "codemirror_mode": {
    "name": "ipython",
    "version": 3
   },
   "file_extension": ".py",
   "mimetype": "text/x-python",
   "name": "python",
   "nbconvert_exporter": "python",
   "pygments_lexer": "ipython3",
   "version": "3.6.12"
  }
 },
 "nbformat": 4,
 "nbformat_minor": 4
}
