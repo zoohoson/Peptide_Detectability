{
 "cells": [
  {
   "cell_type": "code",
   "execution_count": 2,
   "metadata": {
    "ExecuteTime": {
     "end_time": "2021-11-14T19:01:43.833336Z",
     "start_time": "2021-11-14T19:01:43.033262Z"
    }
   },
   "outputs": [],
   "source": [
    "import pandas as pd\n",
    "import numpy as np\n",
    "import matplotlib.pyplot as plt\n",
    "import seaborn as sns\n",
    "from sklearn.metrics import classification_report\n",
    "from sklearn.metrics import confusion_matrix\n",
    "from sklearn.metrics import roc_curve\n",
    "from sklearn.metrics import roc_auc_score\n",
    "from sklearn.model_selection import train_test_split"
   ]
  },
  {
   "cell_type": "code",
   "execution_count": 3,
   "metadata": {
    "ExecuteTime": {
     "end_time": "2021-11-14T19:01:43.843688Z",
     "start_time": "2021-11-14T19:01:43.834788Z"
    }
   },
   "outputs": [
    {
     "name": "stdout",
     "output_type": "stream",
     "text": [
      "(19, 21)\n"
     ]
    }
   ],
   "source": [
    "df_aaindex = pd.read_csv('data/aaindex/df_aaindex19.csv')\n",
    "print(df_aaindex.shape)\n",
    "df_aaindex.head(1)\n",
    "tmp = df_aaindex.drop('Unnamed: 0',axis=1).T\n",
    "aa2val = dict()\n",
    "for aa, val in zip(tmp.index, tmp.values):\n",
    "    aa2val[aa]=val"
   ]
  },
  {
   "cell_type": "code",
   "execution_count": 4,
   "metadata": {
    "ExecuteTime": {
     "end_time": "2021-11-14T19:01:46.574155Z",
     "start_time": "2021-11-14T19:01:43.844925Z"
    }
   },
   "outputs": [],
   "source": [
    "df_detect_peptide_train = pd.read_csv('data/df_detect_peptide_train.csv')\n",
    "test = pd.read_csv('data/df_detect_peptide_test.csv')\n",
    "train, val = train_test_split(df_detect_peptide_train, test_size=0.2, random_state=7)"
   ]
  },
  {
   "cell_type": "code",
   "execution_count": 5,
   "metadata": {
    "ExecuteTime": {
     "end_time": "2021-11-14T19:01:46.587098Z",
     "start_time": "2021-11-14T19:01:46.575481Z"
    }
   },
   "outputs": [
    {
     "data": {
      "text/html": [
       "<div>\n",
       "<style scoped>\n",
       "    .dataframe tbody tr th:only-of-type {\n",
       "        vertical-align: middle;\n",
       "    }\n",
       "\n",
       "    .dataframe tbody tr th {\n",
       "        vertical-align: top;\n",
       "    }\n",
       "\n",
       "    .dataframe thead th {\n",
       "        text-align: right;\n",
       "    }\n",
       "</style>\n",
       "<table border=\"1\" class=\"dataframe\">\n",
       "  <thead>\n",
       "    <tr style=\"text-align: right;\">\n",
       "      <th></th>\n",
       "      <th>peptide</th>\n",
       "      <th>En</th>\n",
       "      <th>Ec</th>\n",
       "      <th>E1</th>\n",
       "      <th>E2</th>\n",
       "      <th>protein</th>\n",
       "      <th>PEP</th>\n",
       "      <th>ID</th>\n",
       "    </tr>\n",
       "  </thead>\n",
       "  <tbody>\n",
       "    <tr>\n",
       "      <th>595411</th>\n",
       "      <td>K.QELNEPPKQSTSFLVLQEILESEEKGDPNK.P</td>\n",
       "      <td>VYKMLQEKQELNEPP</td>\n",
       "      <td>EEKGDPNKPSGFRSV</td>\n",
       "      <td>QELNEPPKQSTSFLV</td>\n",
       "      <td>EILESEEKGDPNKPS</td>\n",
       "      <td>sp|O00151|PDLI1_HUMAN</td>\n",
       "      <td>QELNEPPKQSTSFLVLQEILESEEKGDPNK</td>\n",
       "      <td>0</td>\n",
       "    </tr>\n",
       "  </tbody>\n",
       "</table>\n",
       "</div>"
      ],
      "text/plain": [
       "                                   peptide               En               Ec  \\\n",
       "595411  K.QELNEPPKQSTSFLVLQEILESEEKGDPNK.P  VYKMLQEKQELNEPP  EEKGDPNKPSGFRSV   \n",
       "\n",
       "                     E1               E2                protein  \\\n",
       "595411  QELNEPPKQSTSFLV  EILESEEKGDPNKPS  sp|O00151|PDLI1_HUMAN   \n",
       "\n",
       "                                   PEP  ID  \n",
       "595411  QELNEPPKQSTSFLVLQEILESEEKGDPNK   0  "
      ]
     },
     "execution_count": 5,
     "metadata": {},
     "output_type": "execute_result"
    }
   ],
   "source": [
    "train.head(1)"
   ]
  },
  {
   "cell_type": "code",
   "execution_count": 6,
   "metadata": {
    "ExecuteTime": {
     "end_time": "2021-11-14T19:01:46.595728Z",
     "start_time": "2021-11-14T19:01:46.588070Z"
    }
   },
   "outputs": [],
   "source": [
    "def get_data_labelEnc(df):\n",
    "    label_enc = {v:k+1 for k, v in enumerate('ARNDCQEGHILKMFPSTWYV')}\n",
    "    label_enc['Z']=0\n",
    "    aa_data = [np.array([seq.count(a) for a in 'ARNDCQEGHILKMFPSTWYV'] + list(np.array([aa2val[aa] for aa in seq]).sum(axis=0)))\n",
    "               for seq in df.PEP.values]\n",
    "    pep_data = [[label_enc[aa] for aa in seq] + [0]*(30-len(seq))\n",
    "               for seq in df.PEP.values]\n",
    "    en_data = [[label_enc[aa] for aa in seq]\n",
    "               for seq in df.En.values]\n",
    "    ec_data = [[label_enc[aa] for aa in seq]\n",
    "               for seq in df.Ec.values]\n",
    "    e1_data = [[label_enc[aa] for aa in seq]\n",
    "               if seq != '-' else [0 for _ in range(15)]\n",
    "               for seq in df.E1.values]\n",
    "    e2_data = [[label_enc[aa] for aa in seq]\n",
    "               if seq != '-' else [0 for _ in range(15)]\n",
    "               for seq in df.E2.values]\n",
    "    return np.array(aa_data), np.array(pep_data), np.array(en_data), np.array(ec_data), np.array(e1_data), np.array(e2_data), np.array(df.ID.values)"
   ]
  },
  {
   "cell_type": "code",
   "execution_count": 34,
   "metadata": {
    "ExecuteTime": {
     "end_time": "2021-11-14T19:09:19.895527Z",
     "start_time": "2021-11-14T19:08:44.487215Z"
    }
   },
   "outputs": [
    {
     "name": "stdout",
     "output_type": "stream",
     "text": [
      "(543516, 39) (543516, 30) (543516, 15) (543516, 15) (543516, 15) (543516, 15) (543516,)\n",
      "(135880, 39) (135880, 30) (135880, 15) (135880, 15) (135880, 15) (135880, 15) (135880,)\n",
      "(133992, 39) (133992, 30) (133992, 15) (133992, 15) (133992, 15) (133992, 15) (133992,)\n"
     ]
    }
   ],
   "source": [
    "aa_train, pep_train, en_train, ec_train, e1_train, e2_train, y_train = get_data_labelEnc(train)\n",
    "aa_val, pep_val, en_val, ec_val, e1_val, e2_val, y_val = get_data_labelEnc(val)\n",
    "aa_test, pep_test, en_test, ec_test, e1_test, e2_test, y_test = get_data_labelEnc(test)\n",
    "print(aa_train.shape, pep_train.shape, en_train.shape, ec_train.shape, e1_train.shape, e2_train.shape, y_train.shape)\n",
    "print(aa_val.shape, pep_val.shape, en_val.shape, ec_val.shape, e1_val.shape, e2_val.shape, y_val.shape)\n",
    "print(aa_test.shape, pep_test.shape, en_test.shape, ec_test.shape, e1_test.shape, e2_test.shape, y_test.shape)"
   ]
  },
  {
   "cell_type": "code",
   "execution_count": 8,
   "metadata": {
    "ExecuteTime": {
     "end_time": "2021-11-14T19:02:22.558329Z",
     "start_time": "2021-11-14T19:02:21.144081Z"
    }
   },
   "outputs": [],
   "source": [
    "y_train = np.array([[1, 1, 0, 0] + [_] for _ in y_train])\n",
    "y_val = np.array([[1, 1, 0, 0] + [_] for _ in y_val])\n",
    "y_test = np.array([[1, 1, 0, 0] + [_] for _ in y_test])"
   ]
  },
  {
   "cell_type": "code",
   "execution_count": 9,
   "metadata": {
    "ExecuteTime": {
     "end_time": "2021-11-14T19:02:22.562960Z",
     "start_time": "2021-11-14T19:02:22.560253Z"
    }
   },
   "outputs": [
    {
     "name": "stdout",
     "output_type": "stream",
     "text": [
      "(543516, 5) (135880, 5) (133992, 5)\n"
     ]
    }
   ],
   "source": [
    "print(y_train.shape, y_val.shape, y_test.shape)"
   ]
  },
  {
   "cell_type": "markdown",
   "metadata": {},
   "source": [
    "# Train"
   ]
  },
  {
   "cell_type": "code",
   "execution_count": 10,
   "metadata": {
    "ExecuteTime": {
     "end_time": "2021-11-14T19:02:23.710133Z",
     "start_time": "2021-11-14T19:02:22.564280Z"
    }
   },
   "outputs": [],
   "source": [
    "from tensorflow.python.client import device_lib\n",
    "\n",
    "import tensorflow as tf\n",
    "gpus = tf.config.experimental.list_physical_devices('GPU')\n",
    "if gpus:\n",
    "    try:\n",
    "        tf.config.experimental.set_virtual_device_configuration(gpus[0],\n",
    "        [tf.config.experimental.VirtualDeviceConfiguration(memory_limit=1024*8)])\n",
    "    except RuntimeError as e:\n",
    "        print(e)"
   ]
  },
  {
   "cell_type": "code",
   "execution_count": 11,
   "metadata": {
    "ExecuteTime": {
     "end_time": "2021-11-14T19:02:23.714150Z",
     "start_time": "2021-11-14T19:02:23.711457Z"
    }
   },
   "outputs": [],
   "source": [
    "def plot_graphs(history, metric):\n",
    "    plt.plot(history.history[metric])\n",
    "    plt.plot(history.history['val_'+metric], '')\n",
    "    plt.xlabel(\"Epochs\")\n",
    "    plt.ylabel(metric)\n",
    "    plt.legend([metric, 'val_'+metric])"
   ]
  },
  {
   "cell_type": "markdown",
   "metadata": {},
   "source": [
    "# high param"
   ]
  },
  {
   "cell_type": "code",
   "execution_count": 12,
   "metadata": {
    "ExecuteTime": {
     "end_time": "2021-11-14T19:02:23.726584Z",
     "start_time": "2021-11-14T19:02:23.715222Z"
    }
   },
   "outputs": [],
   "source": [
    "from tensorflow.keras import layers\n",
    "from tensorflow import keras"
   ]
  },
  {
   "cell_type": "code",
   "execution_count": 13,
   "metadata": {
    "ExecuteTime": {
     "end_time": "2021-11-14T19:02:23.735374Z",
     "start_time": "2021-11-14T19:02:23.727724Z"
    }
   },
   "outputs": [],
   "source": [
    "class TransformerBlock(layers.Layer):\n",
    "    def __init__(self, embed_dim, num_heads, ff_dim, rate=0.1):\n",
    "        super(TransformerBlock, self).__init__()\n",
    "        self.att = layers.MultiHeadAttention(num_heads=num_heads, key_dim=embed_dim)\n",
    "        self.ffn = keras.Sequential(\n",
    "            [layers.Dense(ff_dim, activation=\"relu\"), layers.Dense(embed_dim),]\n",
    "        )\n",
    "        self.layernorm1 = layers.LayerNormalization(epsilon=1e-6)\n",
    "        self.layernorm2 = layers.LayerNormalization(epsilon=1e-6)\n",
    "        self.dropout1 = layers.Dropout(rate)\n",
    "        self.dropout2 = layers.Dropout(rate)\n",
    "\n",
    "    def call(self, inputs, training):\n",
    "        attn_output = self.att(inputs, inputs)\n",
    "        attn_output = self.dropout1(attn_output, training=training)\n",
    "        out1 = self.layernorm1(inputs + attn_output)\n",
    "        ffn_output = self.ffn(out1)\n",
    "        ffn_output = self.dropout2(ffn_output, training=training)\n",
    "        return self.layernorm2(out1 + ffn_output)\n",
    "    \n",
    "class TokenAndPositionEmbedding(layers.Layer):\n",
    "    def __init__(self, maxlen, vocab_size, embed_dim):\n",
    "        super(TokenAndPositionEmbedding, self).__init__()\n",
    "        self.token_emb = layers.Embedding(input_dim=vocab_size, output_dim=embed_dim)\n",
    "        self.pos_emb = layers.Embedding(input_dim=maxlen, output_dim=embed_dim)\n",
    "\n",
    "    def call(self, x):\n",
    "        maxlen = tf.shape(x)[-1]\n",
    "        positions = tf.range(start=0, limit=maxlen, delta=1)\n",
    "        positions = self.pos_emb(positions)\n",
    "        x = self.token_emb(x)\n",
    "        return x + positions"
   ]
  },
  {
   "cell_type": "code",
   "execution_count": 14,
   "metadata": {
    "ExecuteTime": {
     "end_time": "2021-11-14T19:02:23.742533Z",
     "start_time": "2021-11-14T19:02:23.736425Z"
    }
   },
   "outputs": [],
   "source": [
    "vocab_size = 21  # 20 Amino acid + zero padding\n",
    "maxlen_pep = 30\n",
    "maxlen_ts = 15\n",
    "\n",
    "pep_embed_dim = 128  # Embedding size for each token\n",
    "pep_num_heads = 4  # Number of attention heads\n",
    "pep_ff_dim = 64  # Hidden layer size in feed forward network inside transformer\n",
    "\n",
    "ts_embed_dim = 64  # Embedding size for each token\n",
    "ts_num_heads = 4  # Number of attention heads\n",
    "ts_ff_dim = 32  # Hidden layer size in feed forward network inside transformer"
   ]
  },
  {
   "cell_type": "code",
   "execution_count": 65,
   "metadata": {
    "ExecuteTime": {
     "end_time": "2021-11-14T19:32:14.760807Z",
     "start_time": "2021-11-14T19:32:12.702903Z"
    }
   },
   "outputs": [],
   "source": [
    "embedding_layer_pep = TokenAndPositionEmbedding(maxlen_pep, vocab_size, pep_embed_dim)\n",
    "transformer_block_pep = TransformerBlock(pep_embed_dim, pep_num_heads, pep_ff_dim)\n",
    "embedding_layer_ts = TokenAndPositionEmbedding(maxlen_ts, vocab_size, ts_embed_dim)\n",
    "transformer_block_ts = TransformerBlock(ts_embed_dim, ts_num_heads, ts_ff_dim)\n",
    "\n",
    "# peptide embedding\n",
    "pep_input = layers.Input(shape=(maxlen_pep,), name='pep_input')\n",
    "pep_embed = embedding_layer_pep(pep_input)\n",
    "pep_embed = transformer_block_pep(pep_embed)\n",
    "\n",
    "# peptide info\n",
    "meta_input = tf.keras.layers.Input(shape=((39,)))  \n",
    "\n",
    "# cleavage site embedding\n",
    "n_input = layers.Input(shape=(maxlen_ts,), name='n_input')\n",
    "n_embed = embedding_layer_ts(n_input)\n",
    "n_embed = transformer_block_ts(n_embed)\n",
    "\n",
    "c_input = layers.Input(shape=(maxlen_ts,), name='c_input')\n",
    "c_embed = embedding_layer_ts(c_input)\n",
    "c_embed = transformer_block_ts(c_embed)\n",
    "\n",
    "m1_input = layers.Input(shape=(maxlen_ts,), name='m1_input')\n",
    "m1_embed = embedding_layer_ts(m1_input)\n",
    "m1_embed = transformer_block_ts(m1_embed)\n",
    "\n",
    "m2_input = layers.Input(shape=(maxlen_ts,), name='m2_input')\n",
    "m2_embed = embedding_layer_ts(m2_input)\n",
    "m2_embed = transformer_block_ts(m2_embed)\n",
    "\n",
    "# peptide CNN + LSTM\n",
    "p_lstm = tf.keras.layers.Bidirectional(tf.keras.layers.LSTM(16), name='pep_lstm')\n",
    "# pep_reshape = keras.backend.reshape(pep_embed, [-1, 30, 128, 1], name='pep_reshape')\n",
    "# pep_cnn = tf.keras.layers.TimeDistributed(tf.keras.layers.Conv1D(filters=32, kernel_size=2, strides=1, padding='same', name='pep_cnn'),\n",
    "#                                          name='pep_cnn_t')(pep_reshape)\n",
    "# pep_pool = tf.keras.layers.TimeDistributed(tf.keras.layers.AveragePooling1D(pool_size=2, name='pep_pool'), name='pep_pool_t')(pep_cnn)\n",
    "# pep_flat = tf.keras.layers.TimeDistributed(tf.keras.layers.Flatten(name='pep_flat'), name='pep_flat_t')(pep_pool)\n",
    "# pep_lstm = p_lstm(pep_flat)\n",
    "pep_lstm = p_lstm(pep_embed)\n",
    "pep_lstm = tf.keras.layers.Dense(32, activation='relu', name='pep_dense')(pep_lstm)\n",
    "pep_lstm = tf.keras.layers.Dropout(np.random.uniform(0, 0.2))(pep_lstm)\n",
    "\n",
    "# meta info\n",
    "meta = tf.keras.layers.Dense(32, activation='relu', name='meta_dense')(meta_input)\n",
    "meta = tf.keras.layers.Dropout(np.random.uniform(0, 0.2))(meta)\n",
    "\n",
    "# cleavage site CNN+LSTM\n",
    "ts_lstm = tf.keras.layers.Bidirectional(tf.keras.layers.LSTM(16), name='ts_lstm')\n",
    "ts_flat = tf.keras.layers.Dense(16, activation='relu', name='ts_flat')\n",
    "ts_drop = tf.keras.layers.Dropout(np.random.uniform(0, 0.2))\n",
    "\n",
    "# n_reshape = keras.backend.reshape(n_embed, [-1, 15, 64, 1], name='n_reshape')\n",
    "# n_cnn = tf.keras.layers.TimeDistributed(tf.keras.layers.Conv1D(filters=16, kernel_size=2, strides=1, padding='same'))(n_reshape)\n",
    "# n_pool = tf.keras.layers.TimeDistributed(tf.keras.layers.AveragePooling1D(pool_size=2))(n_cnn)\n",
    "# n_flat = tf.keras.layers.TimeDistributed(tf.keras.layers.Flatten())(n_pool)\n",
    "# n_lstm = ts_lstm(n_flat)\n",
    "# n_lstm = tf.keras.layers.Dense(16, activation='relu', name='n_dense')(n_lstm)\n",
    "# n_lstm = tf.keras.layers.Dropout(np.random.uniform(0, 0.2))(n_lstm)\n",
    "n_lstm = ts_lstm(n_embed)\n",
    "n_lstm = ts_flat(n_lstm)\n",
    "n_lstm = ts_drop(n_lstm)\n",
    "\n",
    "# c_reshape = keras.backend.reshape(c_embed, [-1, 15, 64, 1], name='c_reshape')\n",
    "# c_cnn = tf.keras.layers.TimeDistributed(tf.keras.layers.Conv1D(filters=16, kernel_size=2, strides=1, padding='same'))(c_reshape)\n",
    "# c_pool = tf.keras.layers.TimeDistributed(tf.keras.layers.AveragePooling1D(pool_size=2))(c_cnn)\n",
    "# c_flat = tf.keras.layers.TimeDistributed(tf.keras.layers.Flatten())(c_pool)\n",
    "# c_lstm = ts_lstm(c_flat)\n",
    "# c_lstm = tf.keras.layers.Dense(16, activation='relu', name='c_dense')(c_lstm)\n",
    "# c_lstm = tf.keras.layers.Dropout(np.random.uniform(0, 0.2))(c_lstm)\n",
    "c_lstm = ts_lstm(c_embed)\n",
    "c_lstm = ts_flat(c_lstm)\n",
    "c_lstm = ts_drop(c_lstm)\n",
    "\n",
    "# m1_reshape = keras.backend.reshape(m1_embed, [-1, 15, 64, 1], name='m1_reshape')\n",
    "# m1_cnn = tf.keras.layers.TimeDistributed(tf.keras.layers.Conv1D(filters=16, kernel_size=2, strides=1, padding='same'))(m1_reshape)\n",
    "# m1_pool = tf.keras.layers.TimeDistributed(tf.keras.layers.AveragePooling1D(pool_size=2))(m1_cnn)\n",
    "# m1_flat = tf.keras.layers.TimeDistributed(tf.keras.layers.Flatten())(m1_pool)\n",
    "# m1_lstm = ts_lstm(m1_flat)\n",
    "# m1_lstm = tf.keras.layers.Dense(16, activation='relu', name='m1_dense')(m1_lstm)\n",
    "# m1_lstm = tf.keras.layers.Dropout(np.random.uniform(0, 0.2))(m1_lstm)\n",
    "m1_lstm = ts_lstm(m1_embed)\n",
    "m1_lstm = ts_flat(m1_lstm)\n",
    "m1_lstm = ts_drop(m1_lstm)\n",
    "\n",
    "# m2_reshape = keras.backend.reshape(m2_embed, [-1, 15, 64, 1], name='m2_reshape')\n",
    "# m2_cnn = tf.keras.layers.TimeDistributed(tf.keras.layers.Conv1D(filters=16, kernel_size=2, strides=1, padding='same'))(m2_reshape)\n",
    "# m2_pool = tf.keras.layers.TimeDistributed(tf.keras.layers.AveragePooling1D(pool_size=2))(m2_cnn)\n",
    "# m2_flat = tf.keras.layers.TimeDistributed(tf.keras.layers.Flatten())(m2_pool)\n",
    "# m2_lstm = ts_lstm(m2_flat)\n",
    "# m2_lstm = tf.keras.layers.Dense(16, activation='relu', name='m2_dense')(m2_lstm)\n",
    "# m2_lstm = tf.keras.layers.Dropout(np.random.uniform(0, 0.2))(m2_lstm)\n",
    "m2_lstm = ts_lstm(m2_embed)\n",
    "m2_lstm = ts_flat(m2_lstm)\n",
    "m2_lstm = ts_drop(m2_lstm)\n",
    "\n",
    "# Digestibility \n",
    "output_array = [] \n",
    "metrics_array = {}\n",
    "loss_array = {}\n",
    "digestibility_flat = tf.keras.layers.Dense(1, activation='sigmoid', name=\"digestibility_output\")\n",
    "\n",
    "for i, dense_layer in enumerate([n_lstm, c_lstm, m1_lstm, m2_lstm]):\n",
    "    layer = tf.keras.layers.concatenate([pep_lstm, dense_layer])\n",
    "    # A Dense Layer is created for each output\n",
    "    digestibility_output = digestibility_flat(layer)\n",
    "    output_array.append(digestibility_output)\n",
    "    if i ==0:\n",
    "        metrics_array[\"digestibility_output\"] = 'binary_accuracy'\n",
    "        loss_array[\"digestibility_output\"] = 'binary_crossentropy'\n",
    "    else:\n",
    "        metrics_array[\"digestibility_output_\"+str(i)] = 'binary_accuracy'\n",
    "        loss_array[\"digestibility_output_\"+str(i)] = 'binary_crossentropy'\n",
    "\n",
    "\n",
    "# Detectability\n",
    "detectability_output = tf.keras.layers.concatenate([pep_lstm, \n",
    "                                                     meta,\n",
    "                                                     n_lstm,\n",
    "                                                     c_lstm,\n",
    "                                                     m1_lstm,\n",
    "                                                     m2_lstm])\n",
    "\n",
    "detectability_output = tf.keras.layers.Dense(64, activation='relu', name='detect_out1')(detectability_output)\n",
    "detectability_output = tf.keras.layers.Dropout(np.random.uniform(0, 0.2), name='detect_drop1')(detectability_output)\n",
    "detectability_output = tf.keras.layers.Dense(32, activation='relu', name='detect_out2')(detectability_output)\n",
    "detectability_output = tf.keras.layers.Dropout(np.random.uniform(0, 0.2), name='detect_drop2')(detectability_output)\n",
    "detectability_output = tf.keras.layers.Dense(1, activation = 'sigmoid', name='detectability_output')(detectability_output)\n",
    "\n",
    "output_array.append(detectability_output)\n",
    "\n",
    "metrics_array['detectability_output'] = 'binary_accuracy'\n",
    "loss_array['detectability_output'] = 'binary_crossentropy'"
   ]
  },
  {
   "cell_type": "code",
   "execution_count": 66,
   "metadata": {
    "ExecuteTime": {
     "end_time": "2021-11-14T19:32:16.153393Z",
     "start_time": "2021-11-14T19:32:16.149630Z"
    }
   },
   "outputs": [
    {
     "data": {
      "text/plain": [
       "({'digestibility_output': 'binary_accuracy',\n",
       "  'digestibility_output_1': 'binary_accuracy',\n",
       "  'digestibility_output_2': 'binary_accuracy',\n",
       "  'digestibility_output_3': 'binary_accuracy',\n",
       "  'detectability_output': 'binary_accuracy'},\n",
       " {'digestibility_output': 'binary_crossentropy',\n",
       "  'digestibility_output_1': 'binary_crossentropy',\n",
       "  'digestibility_output_2': 'binary_crossentropy',\n",
       "  'digestibility_output_3': 'binary_crossentropy',\n",
       "  'detectability_output': 'binary_crossentropy'},\n",
       " [<KerasTensor: shape=(None, 1) dtype=float32 (created by layer 'digestibility_output')>,\n",
       "  <KerasTensor: shape=(None, 1) dtype=float32 (created by layer 'digestibility_output')>,\n",
       "  <KerasTensor: shape=(None, 1) dtype=float32 (created by layer 'digestibility_output')>,\n",
       "  <KerasTensor: shape=(None, 1) dtype=float32 (created by layer 'digestibility_output')>,\n",
       "  <KerasTensor: shape=(None, 1) dtype=float32 (created by layer 'detectability_output')>])"
      ]
     },
     "execution_count": 66,
     "metadata": {},
     "output_type": "execute_result"
    }
   ],
   "source": [
    "metrics_array, loss_array, output_array"
   ]
  },
  {
   "cell_type": "code",
   "execution_count": 67,
   "metadata": {
    "ExecuteTime": {
     "end_time": "2021-11-14T19:32:17.807383Z",
     "start_time": "2021-11-14T19:32:17.781433Z"
    },
    "scrolled": false
   },
   "outputs": [
    {
     "name": "stdout",
     "output_type": "stream",
     "text": [
      "Model: \"model_5\"\n",
      "__________________________________________________________________________________________________\n",
      "Layer (type)                    Output Shape         Param #     Connected to                     \n",
      "==================================================================================================\n",
      "pep_input (InputLayer)          [(None, 30)]         0                                            \n",
      "__________________________________________________________________________________________________\n",
      "n_input (InputLayer)            [(None, 15)]         0                                            \n",
      "__________________________________________________________________________________________________\n",
      "c_input (InputLayer)            [(None, 15)]         0                                            \n",
      "__________________________________________________________________________________________________\n",
      "m1_input (InputLayer)           [(None, 15)]         0                                            \n",
      "__________________________________________________________________________________________________\n",
      "m2_input (InputLayer)           [(None, 15)]         0                                            \n",
      "__________________________________________________________________________________________________\n",
      "token_and_position_embedding_20 (None, 30, 128)      6528        pep_input[0][0]                  \n",
      "__________________________________________________________________________________________________\n",
      "token_and_position_embedding_21 (None, 15, 64)       2304        n_input[0][0]                    \n",
      "                                                                 c_input[0][0]                    \n",
      "                                                                 m1_input[0][0]                   \n",
      "                                                                 m2_input[0][0]                   \n",
      "__________________________________________________________________________________________________\n",
      "transformer_block_20 (Transform (None, 30, 128)      280896      token_and_position_embedding_20[0\n",
      "__________________________________________________________________________________________________\n",
      "transformer_block_21 (Transform (None, 15, 64)       70816       token_and_position_embedding_21[0\n",
      "                                                                 token_and_position_embedding_21[1\n",
      "                                                                 token_and_position_embedding_21[2\n",
      "                                                                 token_and_position_embedding_21[3\n",
      "__________________________________________________________________________________________________\n",
      "pep_lstm (Bidirectional)        (None, 32)           18560       transformer_block_20[0][0]       \n",
      "__________________________________________________________________________________________________\n",
      "ts_lstm (Bidirectional)         (None, 32)           10368       transformer_block_21[0][0]       \n",
      "                                                                 transformer_block_21[1][0]       \n",
      "                                                                 transformer_block_21[2][0]       \n",
      "                                                                 transformer_block_21[3][0]       \n",
      "__________________________________________________________________________________________________\n",
      "input_11 (InputLayer)           [(None, 39)]         0                                            \n",
      "__________________________________________________________________________________________________\n",
      "pep_dense (Dense)               (None, 32)           1056        pep_lstm[0][0]                   \n",
      "__________________________________________________________________________________________________\n",
      "ts_flat (Dense)                 (None, 16)           528         ts_lstm[0][0]                    \n",
      "                                                                 ts_lstm[1][0]                    \n",
      "                                                                 ts_lstm[2][0]                    \n",
      "                                                                 ts_lstm[3][0]                    \n",
      "__________________________________________________________________________________________________\n",
      "meta_dense (Dense)              (None, 32)           1280        input_11[0][0]                   \n",
      "__________________________________________________________________________________________________\n",
      "dropout_74 (Dropout)            (None, 32)           0           pep_dense[0][0]                  \n",
      "__________________________________________________________________________________________________\n",
      "dropout_76 (Dropout)            (None, 16)           0           ts_flat[0][0]                    \n",
      "                                                                 ts_flat[1][0]                    \n",
      "                                                                 ts_flat[2][0]                    \n",
      "                                                                 ts_flat[3][0]                    \n",
      "__________________________________________________________________________________________________\n",
      "dropout_75 (Dropout)            (None, 32)           0           meta_dense[0][0]                 \n",
      "__________________________________________________________________________________________________\n",
      "concatenate_36 (Concatenate)    (None, 128)          0           dropout_74[0][0]                 \n",
      "                                                                 dropout_75[0][0]                 \n",
      "                                                                 dropout_76[0][0]                 \n",
      "                                                                 dropout_76[1][0]                 \n",
      "                                                                 dropout_76[2][0]                 \n",
      "                                                                 dropout_76[3][0]                 \n",
      "__________________________________________________________________________________________________\n",
      "detect_out1 (Dense)             (None, 64)           8256        concatenate_36[0][0]             \n",
      "__________________________________________________________________________________________________\n",
      "detect_drop1 (Dropout)          (None, 64)           0           detect_out1[0][0]                \n",
      "__________________________________________________________________________________________________\n",
      "detect_out2 (Dense)             (None, 32)           2080        detect_drop1[0][0]               \n",
      "__________________________________________________________________________________________________\n",
      "concatenate_32 (Concatenate)    (None, 48)           0           dropout_74[0][0]                 \n",
      "                                                                 dropout_76[0][0]                 \n",
      "__________________________________________________________________________________________________\n",
      "concatenate_33 (Concatenate)    (None, 48)           0           dropout_74[0][0]                 \n",
      "                                                                 dropout_76[1][0]                 \n",
      "__________________________________________________________________________________________________\n",
      "concatenate_34 (Concatenate)    (None, 48)           0           dropout_74[0][0]                 \n",
      "                                                                 dropout_76[2][0]                 \n",
      "__________________________________________________________________________________________________\n",
      "concatenate_35 (Concatenate)    (None, 48)           0           dropout_74[0][0]                 \n",
      "                                                                 dropout_76[3][0]                 \n",
      "__________________________________________________________________________________________________\n",
      "detect_drop2 (Dropout)          (None, 32)           0           detect_out2[0][0]                \n",
      "__________________________________________________________________________________________________\n",
      "digestibility_output (Dense)    (None, 1)            49          concatenate_32[0][0]             \n",
      "                                                                 concatenate_33[0][0]             \n",
      "                                                                 concatenate_34[0][0]             \n",
      "                                                                 concatenate_35[0][0]             \n",
      "__________________________________________________________________________________________________\n",
      "detectability_output (Dense)    (None, 1)            33          detect_drop2[0][0]               \n",
      "==================================================================================================\n",
      "Total params: 402,754\n",
      "Trainable params: 402,754\n",
      "Non-trainable params: 0\n",
      "__________________________________________________________________________________________________\n"
     ]
    }
   ],
   "source": [
    "model_high = tf.keras.Model(inputs=[pep_input, meta_input, n_input, c_input, m1_input, m2_input],\n",
    "                            outputs=output_array)\n",
    "model_high.summary()\n",
    "\n",
    "model_high.compile(loss=loss_array,\n",
    "                   optimizer=tf.keras.optimizers.Adam(1e-4),\n",
    "                   metrics=metrics_array)\n",
    "\n",
    "es = tf.keras.callbacks.EarlyStopping(monitor='val_loss',\n",
    "                                      mode='min', \n",
    "                                      verbose=1,\n",
    "                                      patience=50)"
   ]
  },
  {
   "cell_type": "code",
   "execution_count": 68,
   "metadata": {
    "ExecuteTime": {
     "end_time": "2021-11-14T22:37:28.665157Z",
     "start_time": "2021-11-14T19:32:18.406177Z"
    },
    "scrolled": true
   },
   "outputs": [
    {
     "name": "stdout",
     "output_type": "stream",
     "text": [
      "Epoch 1/300\n",
      "2124/2124 [==============================] - 106s 43ms/step - loss: 10.8125 - digestibility_output_loss: 0.4579 - digestibility_output_1_loss: 0.4572 - digestibility_output_2_loss: 0.7284 - digestibility_output_3_loss: 0.3454 - detectability_output_loss: 8.8236 - digestibility_output_binary_accuracy: 0.8203 - digestibility_output_1_binary_accuracy: 0.8211 - digestibility_output_2_binary_accuracy: 0.4475 - digestibility_output_3_binary_accuracy: 0.7794 - detectability_output_binary_accuracy: 0.5252 - val_loss: 2.3272 - val_digestibility_output_loss: 0.3839 - val_digestibility_output_1_loss: 0.3837 - val_digestibility_output_2_loss: 0.6566 - val_digestibility_output_3_loss: 0.2288 - val_detectability_output_loss: 0.6742 - val_digestibility_output_binary_accuracy: 0.8233 - val_digestibility_output_1_binary_accuracy: 0.8247 - val_digestibility_output_2_binary_accuracy: 0.4860 - val_digestibility_output_3_binary_accuracy: 0.8704 - val_detectability_output_binary_accuracy: 0.6433\n",
      "Epoch 2/300\n",
      "2124/2124 [==============================] - 88s 42ms/step - loss: 2.3697 - digestibility_output_loss: 0.3894 - digestibility_output_1_loss: 0.3895 - digestibility_output_2_loss: 0.6554 - digestibility_output_3_loss: 0.2334 - detectability_output_loss: 0.7020 - digestibility_output_binary_accuracy: 0.8266 - digestibility_output_1_binary_accuracy: 0.8260 - digestibility_output_2_binary_accuracy: 0.4721 - digestibility_output_3_binary_accuracy: 0.8573 - detectability_output_binary_accuracy: 0.5968 - val_loss: 2.2192 - val_digestibility_output_loss: 0.3944 - val_digestibility_output_1_loss: 0.3949 - val_digestibility_output_2_loss: 0.6231 - val_digestibility_output_3_loss: 0.2257 - val_detectability_output_loss: 0.5812 - val_digestibility_output_binary_accuracy: 0.8151 - val_digestibility_output_1_binary_accuracy: 0.8149 - val_digestibility_output_2_binary_accuracy: 0.4942 - val_digestibility_output_3_binary_accuracy: 0.8779 - val_detectability_output_binary_accuracy: 0.6814\n",
      "Epoch 3/300\n",
      "2124/2124 [==============================] - 87s 41ms/step - loss: 2.2473 - digestibility_output_loss: 0.3830 - digestibility_output_1_loss: 0.3824 - digestibility_output_2_loss: 0.6438 - digestibility_output_3_loss: 0.2277 - detectability_output_loss: 0.6105 - digestibility_output_binary_accuracy: 0.8214 - digestibility_output_1_binary_accuracy: 0.8205 - digestibility_output_2_binary_accuracy: 0.4869 - digestibility_output_3_binary_accuracy: 0.8728 - detectability_output_binary_accuracy: 0.6769 - val_loss: 2.1624 - val_digestibility_output_loss: 0.3921 - val_digestibility_output_1_loss: 0.3957 - val_digestibility_output_2_loss: 0.6149 - val_digestibility_output_3_loss: 0.2185 - val_detectability_output_loss: 0.5412 - val_digestibility_output_binary_accuracy: 0.8065 - val_digestibility_output_1_binary_accuracy: 0.8014 - val_digestibility_output_2_binary_accuracy: 0.5092 - val_digestibility_output_3_binary_accuracy: 0.8917 - val_detectability_output_binary_accuracy: 0.7397\n",
      "Epoch 4/300\n",
      "2124/2124 [==============================] - 89s 42ms/step - loss: 2.1852 - digestibility_output_loss: 0.3793 - digestibility_output_1_loss: 0.3827 - digestibility_output_2_loss: 0.6342 - digestibility_output_3_loss: 0.2305 - detectability_output_loss: 0.5585 - digestibility_output_binary_accuracy: 0.8273 - digestibility_output_1_binary_accuracy: 0.8222 - digestibility_output_2_binary_accuracy: 0.4870 - digestibility_output_3_binary_accuracy: 0.8680 - detectability_output_binary_accuracy: 0.7256 - val_loss: 2.1006 - val_digestibility_output_loss: 0.3795 - val_digestibility_output_1_loss: 0.3855 - val_digestibility_output_2_loss: 0.6275 - val_digestibility_output_3_loss: 0.2251 - val_detectability_output_loss: 0.4830 - val_digestibility_output_binary_accuracy: 0.8222 - val_digestibility_output_1_binary_accuracy: 0.8120 - val_digestibility_output_2_binary_accuracy: 0.4991 - val_digestibility_output_3_binary_accuracy: 0.8780 - val_detectability_output_binary_accuracy: 0.7686\n",
      "Epoch 5/300\n",
      "2124/2124 [==============================] - 89s 42ms/step - loss: 2.1255 - digestibility_output_loss: 0.3786 - digestibility_output_1_loss: 0.3827 - digestibility_output_2_loss: 0.6335 - digestibility_output_3_loss: 0.2302 - detectability_output_loss: 0.5005 - digestibility_output_binary_accuracy: 0.8251 - digestibility_output_1_binary_accuracy: 0.8178 - digestibility_output_2_binary_accuracy: 0.4920 - digestibility_output_3_binary_accuracy: 0.8713 - detectability_output_binary_accuracy: 0.7634 - val_loss: 2.0688 - val_digestibility_output_loss: 0.3635 - val_digestibility_output_1_loss: 0.3691 - val_digestibility_output_2_loss: 0.6481 - val_digestibility_output_3_loss: 0.2342 - val_detectability_output_loss: 0.4538 - val_digestibility_output_binary_accuracy: 0.8475 - val_digestibility_output_1_binary_accuracy: 0.8361 - val_digestibility_output_2_binary_accuracy: 0.4754 - val_digestibility_output_3_binary_accuracy: 0.8514 - val_detectability_output_binary_accuracy: 0.7865\n",
      "Epoch 6/300\n",
      "2124/2124 [==============================] - 89s 42ms/step - loss: 2.0927 - digestibility_output_loss: 0.3780 - digestibility_output_1_loss: 0.3824 - digestibility_output_2_loss: 0.6319 - digestibility_output_3_loss: 0.2288 - detectability_output_loss: 0.4716 - digestibility_output_binary_accuracy: 0.8256 - digestibility_output_1_binary_accuracy: 0.8165 - digestibility_output_2_binary_accuracy: 0.4932 - digestibility_output_3_binary_accuracy: 0.8726 - detectability_output_binary_accuracy: 0.7814 - val_loss: 2.0524 - val_digestibility_output_loss: 0.3657 - val_digestibility_output_1_loss: 0.3704 - val_digestibility_output_2_loss: 0.6439 - val_digestibility_output_3_loss: 0.2339 - val_detectability_output_loss: 0.4384 - val_digestibility_output_binary_accuracy: 0.8481 - val_digestibility_output_1_binary_accuracy: 0.8346 - val_digestibility_output_2_binary_accuracy: 0.4739 - val_digestibility_output_3_binary_accuracy: 0.8534 - val_detectability_output_binary_accuracy: 0.7956\n",
      "Epoch 7/300\n",
      "2124/2124 [==============================] - 89s 42ms/step - loss: 2.0715 - digestibility_output_loss: 0.3773 - digestibility_output_1_loss: 0.3819 - digestibility_output_2_loss: 0.6303 - digestibility_output_3_loss: 0.2287 - detectability_output_loss: 0.4533 - digestibility_output_binary_accuracy: 0.8240 - digestibility_output_1_binary_accuracy: 0.8172 - digestibility_output_2_binary_accuracy: 0.4956 - digestibility_output_3_binary_accuracy: 0.8733 - detectability_output_binary_accuracy: 0.7914 - val_loss: 2.0442 - val_digestibility_output_loss: 0.3800 - val_digestibility_output_1_loss: 0.3865 - val_digestibility_output_2_loss: 0.6215 - val_digestibility_output_3_loss: 0.2248 - val_detectability_output_loss: 0.4313 - val_digestibility_output_binary_accuracy: 0.8161 - val_digestibility_output_1_binary_accuracy: 0.8069 - val_digestibility_output_2_binary_accuracy: 0.5055 - val_digestibility_output_3_binary_accuracy: 0.8831 - val_detectability_output_binary_accuracy: 0.8017\n",
      "Epoch 8/300\n",
      "2124/2124 [==============================] - 88s 42ms/step - loss: 2.0590 - digestibility_output_loss: 0.3783 - digestibility_output_1_loss: 0.3822 - digestibility_output_2_loss: 0.6310 - digestibility_output_3_loss: 0.2278 - detectability_output_loss: 0.4397 - digestibility_output_binary_accuracy: 0.8237 - digestibility_output_1_binary_accuracy: 0.8174 - digestibility_output_2_binary_accuracy: 0.4929 - digestibility_output_3_binary_accuracy: 0.8737 - detectability_output_binary_accuracy: 0.7999 - val_loss: 2.0356 - val_digestibility_output_loss: 0.3826 - val_digestibility_output_1_loss: 0.3855 - val_digestibility_output_2_loss: 0.6236 - val_digestibility_output_3_loss: 0.2216 - val_detectability_output_loss: 0.4223 - val_digestibility_output_binary_accuracy: 0.8162 - val_digestibility_output_1_binary_accuracy: 0.8059 - val_digestibility_output_2_binary_accuracy: 0.5066 - val_digestibility_output_3_binary_accuracy: 0.8855 - val_detectability_output_binary_accuracy: 0.8061\n",
      "Epoch 9/300\n"
     ]
    },
    {
     "name": "stdout",
     "output_type": "stream",
     "text": [
      "2124/2124 [==============================] - 89s 42ms/step - loss: 2.0489 - digestibility_output_loss: 0.3783 - digestibility_output_1_loss: 0.3810 - digestibility_output_2_loss: 0.6301 - digestibility_output_3_loss: 0.2271 - detectability_output_loss: 0.4324 - digestibility_output_binary_accuracy: 0.8256 - digestibility_output_1_binary_accuracy: 0.8190 - digestibility_output_2_binary_accuracy: 0.4936 - digestibility_output_3_binary_accuracy: 0.8740 - detectability_output_binary_accuracy: 0.8037 - val_loss: 2.0275 - val_digestibility_output_loss: 0.3832 - val_digestibility_output_1_loss: 0.3847 - val_digestibility_output_2_loss: 0.6199 - val_digestibility_output_3_loss: 0.2237 - val_detectability_output_loss: 0.4160 - val_digestibility_output_binary_accuracy: 0.8189 - val_digestibility_output_1_binary_accuracy: 0.8108 - val_digestibility_output_2_binary_accuracy: 0.5006 - val_digestibility_output_3_binary_accuracy: 0.8819 - val_detectability_output_binary_accuracy: 0.8109\n",
      "Epoch 10/300\n",
      "2124/2124 [==============================] - 89s 42ms/step - loss: 2.0455 - digestibility_output_loss: 0.3796 - digestibility_output_1_loss: 0.3810 - digestibility_output_2_loss: 0.6314 - digestibility_output_3_loss: 0.2274 - detectability_output_loss: 0.4261 - digestibility_output_binary_accuracy: 0.8249 - digestibility_output_1_binary_accuracy: 0.8203 - digestibility_output_2_binary_accuracy: 0.4910 - digestibility_output_3_binary_accuracy: 0.8715 - detectability_output_binary_accuracy: 0.8076 - val_loss: 2.0245 - val_digestibility_output_loss: 0.3828 - val_digestibility_output_1_loss: 0.3840 - val_digestibility_output_2_loss: 0.6210 - val_digestibility_output_3_loss: 0.2233 - val_detectability_output_loss: 0.4133 - val_digestibility_output_binary_accuracy: 0.8149 - val_digestibility_output_1_binary_accuracy: 0.8088 - val_digestibility_output_2_binary_accuracy: 0.5040 - val_digestibility_output_3_binary_accuracy: 0.8859 - val_detectability_output_binary_accuracy: 0.8143\n",
      "Epoch 11/300\n",
      "2124/2124 [==============================] - 89s 42ms/step - loss: 2.0346 - digestibility_output_loss: 0.3787 - digestibility_output_1_loss: 0.3799 - digestibility_output_2_loss: 0.6292 - digestibility_output_3_loss: 0.2276 - detectability_output_loss: 0.4191 - digestibility_output_binary_accuracy: 0.8221 - digestibility_output_1_binary_accuracy: 0.8191 - digestibility_output_2_binary_accuracy: 0.4969 - digestibility_output_3_binary_accuracy: 0.8721 - detectability_output_binary_accuracy: 0.8103 - val_loss: 2.0195 - val_digestibility_output_loss: 0.3656 - val_digestibility_output_1_loss: 0.3740 - val_digestibility_output_2_loss: 0.6443 - val_digestibility_output_3_loss: 0.2282 - val_detectability_output_loss: 0.4074 - val_digestibility_output_binary_accuracy: 0.8490 - val_digestibility_output_1_binary_accuracy: 0.8289 - val_digestibility_output_2_binary_accuracy: 0.4829 - val_digestibility_output_3_binary_accuracy: 0.8529 - val_detectability_output_binary_accuracy: 0.8156\n",
      "Epoch 12/300\n",
      "2124/2124 [==============================] - 88s 42ms/step - loss: 2.0299 - digestibility_output_loss: 0.3782 - digestibility_output_1_loss: 0.3797 - digestibility_output_2_loss: 0.6296 - digestibility_output_3_loss: 0.2266 - detectability_output_loss: 0.4158 - digestibility_output_binary_accuracy: 0.8219 - digestibility_output_1_binary_accuracy: 0.8176 - digestibility_output_2_binary_accuracy: 0.4997 - digestibility_output_3_binary_accuracy: 0.8735 - detectability_output_binary_accuracy: 0.8132 - val_loss: 2.0199 - val_digestibility_output_loss: 0.3807 - val_digestibility_output_1_loss: 0.3817 - val_digestibility_output_2_loss: 0.6215 - val_digestibility_output_3_loss: 0.2255 - val_detectability_output_loss: 0.4104 - val_digestibility_output_binary_accuracy: 0.8126 - val_digestibility_output_1_binary_accuracy: 0.8076 - val_digestibility_output_2_binary_accuracy: 0.5075 - val_digestibility_output_3_binary_accuracy: 0.8835 - val_detectability_output_binary_accuracy: 0.8140\n",
      "Epoch 13/300\n",
      "2124/2124 [==============================] - 90s 43ms/step - loss: 2.0247 - digestibility_output_loss: 0.3783 - digestibility_output_1_loss: 0.3792 - digestibility_output_2_loss: 0.6281 - digestibility_output_3_loss: 0.2259 - detectability_output_loss: 0.4131 - digestibility_output_binary_accuracy: 0.8186 - digestibility_output_1_binary_accuracy: 0.8165 - digestibility_output_2_binary_accuracy: 0.5020 - digestibility_output_3_binary_accuracy: 0.8760 - detectability_output_binary_accuracy: 0.8144 - val_loss: 2.0150 - val_digestibility_output_loss: 0.3741 - val_digestibility_output_1_loss: 0.3763 - val_digestibility_output_2_loss: 0.6332 - val_digestibility_output_3_loss: 0.2261 - val_detectability_output_loss: 0.4052 - val_digestibility_output_binary_accuracy: 0.8287 - val_digestibility_output_1_binary_accuracy: 0.8205 - val_digestibility_output_2_binary_accuracy: 0.4926 - val_digestibility_output_3_binary_accuracy: 0.8718 - val_detectability_output_binary_accuracy: 0.8185\n",
      "Epoch 14/300\n",
      "2124/2124 [==============================] - 90s 42ms/step - loss: 2.0231 - digestibility_output_loss: 0.3785 - digestibility_output_1_loss: 0.3795 - digestibility_output_2_loss: 0.6293 - digestibility_output_3_loss: 0.2263 - detectability_output_loss: 0.4094 - digestibility_output_binary_accuracy: 0.8183 - digestibility_output_1_binary_accuracy: 0.8156 - digestibility_output_2_binary_accuracy: 0.5029 - digestibility_output_3_binary_accuracy: 0.8762 - detectability_output_binary_accuracy: 0.8165 - val_loss: 2.0105 - val_digestibility_output_loss: 0.3792 - val_digestibility_output_1_loss: 0.3797 - val_digestibility_output_2_loss: 0.6284 - val_digestibility_output_3_loss: 0.2219 - val_detectability_output_loss: 0.4012 - val_digestibility_output_binary_accuracy: 0.8149 - val_digestibility_output_1_binary_accuracy: 0.8111 - val_digestibility_output_2_binary_accuracy: 0.5079 - val_digestibility_output_3_binary_accuracy: 0.8851 - val_detectability_output_binary_accuracy: 0.8196\n",
      "Epoch 15/300\n",
      "2124/2124 [==============================] - 89s 42ms/step - loss: 2.0227 - digestibility_output_loss: 0.3793 - digestibility_output_1_loss: 0.3796 - digestibility_output_2_loss: 0.6294 - digestibility_output_3_loss: 0.2263 - detectability_output_loss: 0.4081 - digestibility_output_binary_accuracy: 0.8169 - digestibility_output_1_binary_accuracy: 0.8160 - digestibility_output_2_binary_accuracy: 0.5027 - digestibility_output_3_binary_accuracy: 0.8762 - detectability_output_binary_accuracy: 0.8166 - val_loss: 2.0094 - val_digestibility_output_loss: 0.3770 - val_digestibility_output_1_loss: 0.3804 - val_digestibility_output_2_loss: 0.6267 - val_digestibility_output_3_loss: 0.2247 - val_detectability_output_loss: 0.4007 - val_digestibility_output_binary_accuracy: 0.8203 - val_digestibility_output_1_binary_accuracy: 0.8110 - val_digestibility_output_2_binary_accuracy: 0.5049 - val_digestibility_output_3_binary_accuracy: 0.8794 - val_detectability_output_binary_accuracy: 0.8205\n",
      "Epoch 16/300\n",
      "2124/2124 [==============================] - 89s 42ms/step - loss: 2.0124 - digestibility_output_loss: 0.3782 - digestibility_output_1_loss: 0.3788 - digestibility_output_2_loss: 0.6286 - digestibility_output_3_loss: 0.2248 - detectability_output_loss: 0.4020 - digestibility_output_binary_accuracy: 0.8159 - digestibility_output_1_binary_accuracy: 0.8150 - digestibility_output_2_binary_accuracy: 0.5050 - digestibility_output_3_binary_accuracy: 0.8795 - detectability_output_binary_accuracy: 0.8197 - val_loss: 2.0065 - val_digestibility_output_loss: 0.3818 - val_digestibility_output_1_loss: 0.3828 - val_digestibility_output_2_loss: 0.6222 - val_digestibility_output_3_loss: 0.2220 - val_detectability_output_loss: 0.3977 - val_digestibility_output_binary_accuracy: 0.8119 - val_digestibility_output_1_binary_accuracy: 0.8104 - val_digestibility_output_2_binary_accuracy: 0.5071 - val_digestibility_output_3_binary_accuracy: 0.8847 - val_detectability_output_binary_accuracy: 0.8221\n",
      "Epoch 17/300\n"
     ]
    },
    {
     "name": "stdout",
     "output_type": "stream",
     "text": [
      "2124/2124 [==============================] - 90s 42ms/step - loss: 2.0135 - digestibility_output_loss: 0.3784 - digestibility_output_1_loss: 0.3788 - digestibility_output_2_loss: 0.6290 - digestibility_output_3_loss: 0.2256 - detectability_output_loss: 0.4017 - digestibility_output_binary_accuracy: 0.8173 - digestibility_output_1_binary_accuracy: 0.8160 - digestibility_output_2_binary_accuracy: 0.5038 - digestibility_output_3_binary_accuracy: 0.8758 - detectability_output_binary_accuracy: 0.8197 - val_loss: 2.0034 - val_digestibility_output_loss: 0.3855 - val_digestibility_output_1_loss: 0.3851 - val_digestibility_output_2_loss: 0.6159 - val_digestibility_output_3_loss: 0.2222 - val_detectability_output_loss: 0.3948 - val_digestibility_output_binary_accuracy: 0.7998 - val_digestibility_output_1_binary_accuracy: 0.7985 - val_digestibility_output_2_binary_accuracy: 0.5187 - val_digestibility_output_3_binary_accuracy: 0.8957 - val_detectability_output_binary_accuracy: 0.8225\n",
      "Epoch 18/300\n",
      "2124/2124 [==============================] - 90s 42ms/step - loss: 2.0101 - digestibility_output_loss: 0.3789 - digestibility_output_1_loss: 0.3790 - digestibility_output_2_loss: 0.6273 - digestibility_output_3_loss: 0.2262 - detectability_output_loss: 0.3987 - digestibility_output_binary_accuracy: 0.8138 - digestibility_output_1_binary_accuracy: 0.8136 - digestibility_output_2_binary_accuracy: 0.5085 - digestibility_output_3_binary_accuracy: 0.8788 - detectability_output_binary_accuracy: 0.8214 - val_loss: 2.0020 - val_digestibility_output_loss: 0.3798 - val_digestibility_output_1_loss: 0.3800 - val_digestibility_output_2_loss: 0.6254 - val_digestibility_output_3_loss: 0.2234 - val_detectability_output_loss: 0.3934 - val_digestibility_output_binary_accuracy: 0.8128 - val_digestibility_output_1_binary_accuracy: 0.8085 - val_digestibility_output_2_binary_accuracy: 0.5072 - val_digestibility_output_3_binary_accuracy: 0.8853 - val_detectability_output_binary_accuracy: 0.8241\n",
      "Epoch 19/300\n",
      "2124/2124 [==============================] - 89s 42ms/step - loss: 2.0101 - digestibility_output_loss: 0.3787 - digestibility_output_1_loss: 0.3794 - digestibility_output_2_loss: 0.6285 - digestibility_output_3_loss: 0.2264 - detectability_output_loss: 0.3971 - digestibility_output_binary_accuracy: 0.8151 - digestibility_output_1_binary_accuracy: 0.8137 - digestibility_output_2_binary_accuracy: 0.5074 - digestibility_output_3_binary_accuracy: 0.8773 - detectability_output_binary_accuracy: 0.8219 - val_loss: 2.0006 - val_digestibility_output_loss: 0.3774 - val_digestibility_output_1_loss: 0.3769 - val_digestibility_output_2_loss: 0.6286 - val_digestibility_output_3_loss: 0.2251 - val_detectability_output_loss: 0.3926 - val_digestibility_output_binary_accuracy: 0.8141 - val_digestibility_output_1_binary_accuracy: 0.8109 - val_digestibility_output_2_binary_accuracy: 0.5077 - val_digestibility_output_3_binary_accuracy: 0.8823 - val_detectability_output_binary_accuracy: 0.8240\n",
      "Epoch 20/300\n",
      "2124/2124 [==============================] - 89s 42ms/step - loss: 2.0080 - digestibility_output_loss: 0.3789 - digestibility_output_1_loss: 0.3793 - digestibility_output_2_loss: 0.6282 - digestibility_output_3_loss: 0.2259 - detectability_output_loss: 0.3957 - digestibility_output_binary_accuracy: 0.8143 - digestibility_output_1_binary_accuracy: 0.8135 - digestibility_output_2_binary_accuracy: 0.5075 - digestibility_output_3_binary_accuracy: 0.8788 - detectability_output_binary_accuracy: 0.8227 - val_loss: 1.9995 - val_digestibility_output_loss: 0.3771 - val_digestibility_output_1_loss: 0.3780 - val_digestibility_output_2_loss: 0.6277 - val_digestibility_output_3_loss: 0.2244 - val_detectability_output_loss: 0.3922 - val_digestibility_output_binary_accuracy: 0.8183 - val_digestibility_output_1_binary_accuracy: 0.8162 - val_digestibility_output_2_binary_accuracy: 0.5034 - val_digestibility_output_3_binary_accuracy: 0.8776 - val_detectability_output_binary_accuracy: 0.8233\n",
      "Epoch 21/300\n",
      "2124/2124 [==============================] - 90s 42ms/step - loss: 2.0044 - digestibility_output_loss: 0.3786 - digestibility_output_1_loss: 0.3789 - digestibility_output_2_loss: 0.6280 - digestibility_output_3_loss: 0.2257 - detectability_output_loss: 0.3932 - digestibility_output_binary_accuracy: 0.8146 - digestibility_output_1_binary_accuracy: 0.8137 - digestibility_output_2_binary_accuracy: 0.5076 - digestibility_output_3_binary_accuracy: 0.8788 - detectability_output_binary_accuracy: 0.8238 - val_loss: 1.9979 - val_digestibility_output_loss: 0.3850 - val_digestibility_output_1_loss: 0.3876 - val_digestibility_output_2_loss: 0.6164 - val_digestibility_output_3_loss: 0.2189 - val_detectability_output_loss: 0.3900 - val_digestibility_output_binary_accuracy: 0.8098 - val_digestibility_output_1_binary_accuracy: 0.8026 - val_digestibility_output_2_binary_accuracy: 0.5185 - val_digestibility_output_3_binary_accuracy: 0.8868 - val_detectability_output_binary_accuracy: 0.8244\n",
      "Epoch 22/300\n",
      "2124/2124 [==============================] - 89s 42ms/step - loss: 2.0017 - digestibility_output_loss: 0.3787 - digestibility_output_1_loss: 0.3787 - digestibility_output_2_loss: 0.6275 - digestibility_output_3_loss: 0.2260 - detectability_output_loss: 0.3907 - digestibility_output_binary_accuracy: 0.8141 - digestibility_output_1_binary_accuracy: 0.8144 - digestibility_output_2_binary_accuracy: 0.5085 - digestibility_output_3_binary_accuracy: 0.8775 - detectability_output_binary_accuracy: 0.8251 - val_loss: 1.9972 - val_digestibility_output_loss: 0.3776 - val_digestibility_output_1_loss: 0.3799 - val_digestibility_output_2_loss: 0.6249 - val_digestibility_output_3_loss: 0.2248 - val_detectability_output_loss: 0.3900 - val_digestibility_output_binary_accuracy: 0.8245 - val_digestibility_output_1_binary_accuracy: 0.8177 - val_digestibility_output_2_binary_accuracy: 0.4996 - val_digestibility_output_3_binary_accuracy: 0.8713 - val_detectability_output_binary_accuracy: 0.8258\n",
      "Epoch 23/300\n",
      "2124/2124 [==============================] - 91s 43ms/step - loss: 1.9990 - digestibility_output_loss: 0.3776 - digestibility_output_1_loss: 0.3784 - digestibility_output_2_loss: 0.6266 - digestibility_output_3_loss: 0.2256 - detectability_output_loss: 0.3907 - digestibility_output_binary_accuracy: 0.8154 - digestibility_output_1_binary_accuracy: 0.8148 - digestibility_output_2_binary_accuracy: 0.5083 - digestibility_output_3_binary_accuracy: 0.8770 - detectability_output_binary_accuracy: 0.8243 - val_loss: 1.9949 - val_digestibility_output_loss: 0.3746 - val_digestibility_output_1_loss: 0.3756 - val_digestibility_output_2_loss: 0.6309 - val_digestibility_output_3_loss: 0.2259 - val_detectability_output_loss: 0.3880 - val_digestibility_output_binary_accuracy: 0.8241 - val_digestibility_output_1_binary_accuracy: 0.8184 - val_digestibility_output_2_binary_accuracy: 0.4981 - val_digestibility_output_3_binary_accuracy: 0.8728 - val_detectability_output_binary_accuracy: 0.8261\n",
      "Epoch 24/300\n",
      "2124/2124 [==============================] - 89s 42ms/step - loss: 1.9989 - digestibility_output_loss: 0.3780 - digestibility_output_1_loss: 0.3787 - digestibility_output_2_loss: 0.6269 - digestibility_output_3_loss: 0.2260 - detectability_output_loss: 0.3893 - digestibility_output_binary_accuracy: 0.8151 - digestibility_output_1_binary_accuracy: 0.8125 - digestibility_output_2_binary_accuracy: 0.5100 - digestibility_output_3_binary_accuracy: 0.8784 - detectability_output_binary_accuracy: 0.8254 - val_loss: 1.9978 - val_digestibility_output_loss: 0.3705 - val_digestibility_output_1_loss: 0.3715 - val_digestibility_output_2_loss: 0.6372 - val_digestibility_output_3_loss: 0.2284 - val_detectability_output_loss: 0.3901 - val_digestibility_output_binary_accuracy: 0.8358 - val_digestibility_output_1_binary_accuracy: 0.8320 - val_digestibility_output_2_binary_accuracy: 0.4859 - val_digestibility_output_3_binary_accuracy: 0.8605 - val_detectability_output_binary_accuracy: 0.8256\n",
      "Epoch 25/300\n"
     ]
    },
    {
     "name": "stdout",
     "output_type": "stream",
     "text": [
      "2124/2124 [==============================] - 89s 42ms/step - loss: 1.9972 - digestibility_output_loss: 0.3777 - digestibility_output_1_loss: 0.3783 - digestibility_output_2_loss: 0.6270 - digestibility_output_3_loss: 0.2254 - detectability_output_loss: 0.3888 - digestibility_output_binary_accuracy: 0.8141 - digestibility_output_1_binary_accuracy: 0.8134 - digestibility_output_2_binary_accuracy: 0.5096 - digestibility_output_3_binary_accuracy: 0.8794 - detectability_output_binary_accuracy: 0.8258 - val_loss: 1.9963 - val_digestibility_output_loss: 0.3736 - val_digestibility_output_1_loss: 0.3751 - val_digestibility_output_2_loss: 0.6303 - val_digestibility_output_3_loss: 0.2276 - val_detectability_output_loss: 0.3896 - val_digestibility_output_binary_accuracy: 0.8311 - val_digestibility_output_1_binary_accuracy: 0.8258 - val_digestibility_output_2_binary_accuracy: 0.4923 - val_digestibility_output_3_binary_accuracy: 0.8645 - val_detectability_output_binary_accuracy: 0.8246\n",
      "Epoch 26/300\n",
      "2124/2124 [==============================] - 89s 42ms/step - loss: 1.9938 - digestibility_output_loss: 0.3776 - digestibility_output_1_loss: 0.3778 - digestibility_output_2_loss: 0.6266 - digestibility_output_3_loss: 0.2249 - detectability_output_loss: 0.3869 - digestibility_output_binary_accuracy: 0.8150 - digestibility_output_1_binary_accuracy: 0.8143 - digestibility_output_2_binary_accuracy: 0.5089 - digestibility_output_3_binary_accuracy: 0.8784 - detectability_output_binary_accuracy: 0.8263 - val_loss: 1.9977 - val_digestibility_output_loss: 0.3822 - val_digestibility_output_1_loss: 0.3808 - val_digestibility_output_2_loss: 0.6209 - val_digestibility_output_3_loss: 0.2233 - val_detectability_output_loss: 0.3906 - val_digestibility_output_binary_accuracy: 0.8146 - val_digestibility_output_1_binary_accuracy: 0.8139 - val_digestibility_output_2_binary_accuracy: 0.5060 - val_digestibility_output_3_binary_accuracy: 0.8795 - val_detectability_output_binary_accuracy: 0.8226\n",
      "Epoch 27/300\n",
      "2124/2124 [==============================] - 90s 42ms/step - loss: 1.9948 - digestibility_output_loss: 0.3781 - digestibility_output_1_loss: 0.3779 - digestibility_output_2_loss: 0.6258 - digestibility_output_3_loss: 0.2253 - detectability_output_loss: 0.3877 - digestibility_output_binary_accuracy: 0.8132 - digestibility_output_1_binary_accuracy: 0.8136 - digestibility_output_2_binary_accuracy: 0.5100 - digestibility_output_3_binary_accuracy: 0.8789 - detectability_output_binary_accuracy: 0.8262 - val_loss: 1.9949 - val_digestibility_output_loss: 0.3677 - val_digestibility_output_1_loss: 0.3714 - val_digestibility_output_2_loss: 0.6396 - val_digestibility_output_3_loss: 0.2287 - val_detectability_output_loss: 0.3875 - val_digestibility_output_binary_accuracy: 0.8367 - val_digestibility_output_1_binary_accuracy: 0.8312 - val_digestibility_output_2_binary_accuracy: 0.4832 - val_digestibility_output_3_binary_accuracy: 0.8608 - val_detectability_output_binary_accuracy: 0.8264\n",
      "Epoch 28/300\n",
      "2124/2124 [==============================] - 90s 42ms/step - loss: 1.9981 - digestibility_output_loss: 0.3783 - digestibility_output_1_loss: 0.3794 - digestibility_output_2_loss: 0.6269 - digestibility_output_3_loss: 0.2261 - detectability_output_loss: 0.3873 - digestibility_output_binary_accuracy: 0.8148 - digestibility_output_1_binary_accuracy: 0.8142 - digestibility_output_2_binary_accuracy: 0.5091 - digestibility_output_3_binary_accuracy: 0.8774 - detectability_output_binary_accuracy: 0.8265 - val_loss: 1.9929 - val_digestibility_output_loss: 0.3841 - val_digestibility_output_1_loss: 0.3835 - val_digestibility_output_2_loss: 0.6189 - val_digestibility_output_3_loss: 0.2202 - val_detectability_output_loss: 0.3861 - val_digestibility_output_binary_accuracy: 0.8056 - val_digestibility_output_1_binary_accuracy: 0.8062 - val_digestibility_output_2_binary_accuracy: 0.5185 - val_digestibility_output_3_binary_accuracy: 0.8869 - val_detectability_output_binary_accuracy: 0.8263\n",
      "Epoch 29/300\n",
      "2124/2124 [==============================] - 90s 43ms/step - loss: 1.9960 - digestibility_output_loss: 0.3786 - digestibility_output_1_loss: 0.3788 - digestibility_output_2_loss: 0.6268 - digestibility_output_3_loss: 0.2254 - detectability_output_loss: 0.3865 - digestibility_output_binary_accuracy: 0.8137 - digestibility_output_1_binary_accuracy: 0.8143 - digestibility_output_2_binary_accuracy: 0.5094 - digestibility_output_3_binary_accuracy: 0.8792 - detectability_output_binary_accuracy: 0.8265 - val_loss: 1.9932 - val_digestibility_output_loss: 0.3709 - val_digestibility_output_1_loss: 0.3736 - val_digestibility_output_2_loss: 0.6352 - val_digestibility_output_3_loss: 0.2268 - val_detectability_output_loss: 0.3867 - val_digestibility_output_binary_accuracy: 0.8319 - val_digestibility_output_1_binary_accuracy: 0.8242 - val_digestibility_output_2_binary_accuracy: 0.4919 - val_digestibility_output_3_binary_accuracy: 0.8653 - val_detectability_output_binary_accuracy: 0.8271\n",
      "Epoch 30/300\n",
      "2124/2124 [==============================] - 89s 42ms/step - loss: 1.9933 - digestibility_output_loss: 0.3781 - digestibility_output_1_loss: 0.3784 - digestibility_output_2_loss: 0.6264 - digestibility_output_3_loss: 0.2259 - detectability_output_loss: 0.3845 - digestibility_output_binary_accuracy: 0.8148 - digestibility_output_1_binary_accuracy: 0.8138 - digestibility_output_2_binary_accuracy: 0.5084 - digestibility_output_3_binary_accuracy: 0.8786 - detectability_output_binary_accuracy: 0.8280 - val_loss: 1.9921 - val_digestibility_output_loss: 0.3713 - val_digestibility_output_1_loss: 0.3754 - val_digestibility_output_2_loss: 0.6324 - val_digestibility_output_3_loss: 0.2274 - val_detectability_output_loss: 0.3856 - val_digestibility_output_binary_accuracy: 0.8255 - val_digestibility_output_1_binary_accuracy: 0.8167 - val_digestibility_output_2_binary_accuracy: 0.5035 - val_digestibility_output_3_binary_accuracy: 0.8693 - val_detectability_output_binary_accuracy: 0.8270\n",
      "Epoch 31/300\n",
      "2124/2124 [==============================] - 89s 42ms/step - loss: 1.9928 - digestibility_output_loss: 0.3783 - digestibility_output_1_loss: 0.3788 - digestibility_output_2_loss: 0.6260 - digestibility_output_3_loss: 0.2260 - detectability_output_loss: 0.3836 - digestibility_output_binary_accuracy: 0.8145 - digestibility_output_1_binary_accuracy: 0.8154 - digestibility_output_2_binary_accuracy: 0.5100 - digestibility_output_3_binary_accuracy: 0.8769 - detectability_output_binary_accuracy: 0.8287 - val_loss: 1.9918 - val_digestibility_output_loss: 0.3819 - val_digestibility_output_1_loss: 0.3838 - val_digestibility_output_2_loss: 0.6198 - val_digestibility_output_3_loss: 0.2207 - val_detectability_output_loss: 0.3856 - val_digestibility_output_binary_accuracy: 0.8118 - val_digestibility_output_1_binary_accuracy: 0.8077 - val_digestibility_output_2_binary_accuracy: 0.5154 - val_digestibility_output_3_binary_accuracy: 0.8822 - val_detectability_output_binary_accuracy: 0.8283\n",
      "Epoch 32/300\n",
      "2124/2124 [==============================] - 88s 42ms/step - loss: 1.9919 - digestibility_output_loss: 0.3783 - digestibility_output_1_loss: 0.3788 - digestibility_output_2_loss: 0.6262 - digestibility_output_3_loss: 0.2254 - detectability_output_loss: 0.3832 - digestibility_output_binary_accuracy: 0.8131 - digestibility_output_1_binary_accuracy: 0.8129 - digestibility_output_2_binary_accuracy: 0.5109 - digestibility_output_3_binary_accuracy: 0.8795 - detectability_output_binary_accuracy: 0.8278 - val_loss: 1.9938 - val_digestibility_output_loss: 0.3797 - val_digestibility_output_1_loss: 0.3828 - val_digestibility_output_2_loss: 0.6207 - val_digestibility_output_3_loss: 0.2227 - val_detectability_output_loss: 0.3878 - val_digestibility_output_binary_accuracy: 0.8194 - val_digestibility_output_1_binary_accuracy: 0.8120 - val_digestibility_output_2_binary_accuracy: 0.5087 - val_digestibility_output_3_binary_accuracy: 0.8758 - val_detectability_output_binary_accuracy: 0.8277\n",
      "Epoch 33/300\n"
     ]
    },
    {
     "name": "stdout",
     "output_type": "stream",
     "text": [
      "2124/2124 [==============================] - 89s 42ms/step - loss: 1.9894 - digestibility_output_loss: 0.3778 - digestibility_output_1_loss: 0.3784 - digestibility_output_2_loss: 0.6260 - digestibility_output_3_loss: 0.2251 - detectability_output_loss: 0.3821 - digestibility_output_binary_accuracy: 0.8148 - digestibility_output_1_binary_accuracy: 0.8144 - digestibility_output_2_binary_accuracy: 0.5101 - digestibility_output_3_binary_accuracy: 0.8790 - detectability_output_binary_accuracy: 0.8295 - val_loss: 1.9907 - val_digestibility_output_loss: 0.3757 - val_digestibility_output_1_loss: 0.3790 - val_digestibility_output_2_loss: 0.6268 - val_digestibility_output_3_loss: 0.2246 - val_detectability_output_loss: 0.3846 - val_digestibility_output_binary_accuracy: 0.8202 - val_digestibility_output_1_binary_accuracy: 0.8145 - val_digestibility_output_2_binary_accuracy: 0.5045 - val_digestibility_output_3_binary_accuracy: 0.8758 - val_detectability_output_binary_accuracy: 0.8280\n",
      "Epoch 34/300\n",
      "2124/2124 [==============================] - 90s 43ms/step - loss: 1.9888 - digestibility_output_loss: 0.3776 - digestibility_output_1_loss: 0.3787 - digestibility_output_2_loss: 0.6260 - digestibility_output_3_loss: 0.2252 - detectability_output_loss: 0.3812 - digestibility_output_binary_accuracy: 0.8144 - digestibility_output_1_binary_accuracy: 0.8139 - digestibility_output_2_binary_accuracy: 0.5112 - digestibility_output_3_binary_accuracy: 0.8795 - detectability_output_binary_accuracy: 0.8301 - val_loss: 1.9918 - val_digestibility_output_loss: 0.3865 - val_digestibility_output_1_loss: 0.3873 - val_digestibility_output_2_loss: 0.6129 - val_digestibility_output_3_loss: 0.2200 - val_detectability_output_loss: 0.3852 - val_digestibility_output_binary_accuracy: 0.8028 - val_digestibility_output_1_binary_accuracy: 0.8012 - val_digestibility_output_2_binary_accuracy: 0.5214 - val_digestibility_output_3_binary_accuracy: 0.8906 - val_detectability_output_binary_accuracy: 0.8274\n",
      "Epoch 35/300\n",
      "2124/2124 [==============================] - 89s 42ms/step - loss: 1.9890 - digestibility_output_loss: 0.3777 - digestibility_output_1_loss: 0.3790 - digestibility_output_2_loss: 0.6264 - digestibility_output_3_loss: 0.2255 - detectability_output_loss: 0.3804 - digestibility_output_binary_accuracy: 0.8141 - digestibility_output_1_binary_accuracy: 0.8138 - digestibility_output_2_binary_accuracy: 0.5105 - digestibility_output_3_binary_accuracy: 0.8789 - detectability_output_binary_accuracy: 0.8306 - val_loss: 1.9902 - val_digestibility_output_loss: 0.3751 - val_digestibility_output_1_loss: 0.3772 - val_digestibility_output_2_loss: 0.6263 - val_digestibility_output_3_loss: 0.2272 - val_detectability_output_loss: 0.3845 - val_digestibility_output_binary_accuracy: 0.8253 - val_digestibility_output_1_binary_accuracy: 0.8194 - val_digestibility_output_2_binary_accuracy: 0.5009 - val_digestibility_output_3_binary_accuracy: 0.8686 - val_detectability_output_binary_accuracy: 0.8278\n",
      "Epoch 36/300\n",
      "2124/2124 [==============================] - 91s 43ms/step - loss: 1.9869 - digestibility_output_loss: 0.3774 - digestibility_output_1_loss: 0.3781 - digestibility_output_2_loss: 0.6255 - digestibility_output_3_loss: 0.2246 - detectability_output_loss: 0.3813 - digestibility_output_binary_accuracy: 0.8146 - digestibility_output_1_binary_accuracy: 0.8147 - digestibility_output_2_binary_accuracy: 0.5109 - digestibility_output_3_binary_accuracy: 0.8784 - detectability_output_binary_accuracy: 0.8301 - val_loss: 1.9895 - val_digestibility_output_loss: 0.3765 - val_digestibility_output_1_loss: 0.3783 - val_digestibility_output_2_loss: 0.6267 - val_digestibility_output_3_loss: 0.2243 - val_detectability_output_loss: 0.3837 - val_digestibility_output_binary_accuracy: 0.8167 - val_digestibility_output_1_binary_accuracy: 0.8131 - val_digestibility_output_2_binary_accuracy: 0.5068 - val_digestibility_output_3_binary_accuracy: 0.8781 - val_detectability_output_binary_accuracy: 0.8276\n",
      "Epoch 37/300\n",
      "2124/2124 [==============================] - 90s 42ms/step - loss: 1.9872 - digestibility_output_loss: 0.3779 - digestibility_output_1_loss: 0.3783 - digestibility_output_2_loss: 0.6262 - digestibility_output_3_loss: 0.2251 - detectability_output_loss: 0.3796 - digestibility_output_binary_accuracy: 0.8140 - digestibility_output_1_binary_accuracy: 0.8137 - digestibility_output_2_binary_accuracy: 0.5110 - digestibility_output_3_binary_accuracy: 0.8790 - detectability_output_binary_accuracy: 0.8305 - val_loss: 1.9902 - val_digestibility_output_loss: 0.3739 - val_digestibility_output_1_loss: 0.3730 - val_digestibility_output_2_loss: 0.6326 - val_digestibility_output_3_loss: 0.2267 - val_detectability_output_loss: 0.3840 - val_digestibility_output_binary_accuracy: 0.8246 - val_digestibility_output_1_binary_accuracy: 0.8239 - val_digestibility_output_2_binary_accuracy: 0.4983 - val_digestibility_output_3_binary_accuracy: 0.8671 - val_detectability_output_binary_accuracy: 0.8275\n",
      "Epoch 38/300\n",
      "2124/2124 [==============================] - 91s 43ms/step - loss: 1.9864 - digestibility_output_loss: 0.3787 - digestibility_output_1_loss: 0.3786 - digestibility_output_2_loss: 0.6269 - digestibility_output_3_loss: 0.2249 - detectability_output_loss: 0.3773 - digestibility_output_binary_accuracy: 0.8125 - digestibility_output_1_binary_accuracy: 0.8133 - digestibility_output_2_binary_accuracy: 0.5102 - digestibility_output_3_binary_accuracy: 0.8800 - detectability_output_binary_accuracy: 0.8318 - val_loss: 1.9899 - val_digestibility_output_loss: 0.3746 - val_digestibility_output_1_loss: 0.3770 - val_digestibility_output_2_loss: 0.6300 - val_digestibility_output_3_loss: 0.2245 - val_detectability_output_loss: 0.3839 - val_digestibility_output_binary_accuracy: 0.8247 - val_digestibility_output_1_binary_accuracy: 0.8187 - val_digestibility_output_2_binary_accuracy: 0.5004 - val_digestibility_output_3_binary_accuracy: 0.8710 - val_detectability_output_binary_accuracy: 0.8274\n",
      "Epoch 39/300\n",
      "2124/2124 [==============================] - 90s 42ms/step - loss: 1.9871 - digestibility_output_loss: 0.3781 - digestibility_output_1_loss: 0.3787 - digestibility_output_2_loss: 0.6262 - digestibility_output_3_loss: 0.2252 - detectability_output_loss: 0.3789 - digestibility_output_binary_accuracy: 0.8149 - digestibility_output_1_binary_accuracy: 0.8139 - digestibility_output_2_binary_accuracy: 0.5109 - digestibility_output_3_binary_accuracy: 0.8791 - detectability_output_binary_accuracy: 0.8301 - val_loss: 1.9898 - val_digestibility_output_loss: 0.3748 - val_digestibility_output_1_loss: 0.3770 - val_digestibility_output_2_loss: 0.6296 - val_digestibility_output_3_loss: 0.2246 - val_detectability_output_loss: 0.3838 - val_digestibility_output_binary_accuracy: 0.8178 - val_digestibility_output_1_binary_accuracy: 0.8132 - val_digestibility_output_2_binary_accuracy: 0.5066 - val_digestibility_output_3_binary_accuracy: 0.8780 - val_detectability_output_binary_accuracy: 0.8285\n",
      "Epoch 40/300\n",
      "2124/2124 [==============================] - 89s 42ms/step - loss: 1.9861 - digestibility_output_loss: 0.3779 - digestibility_output_1_loss: 0.3786 - digestibility_output_2_loss: 0.6261 - digestibility_output_3_loss: 0.2252 - detectability_output_loss: 0.3783 - digestibility_output_binary_accuracy: 0.8125 - digestibility_output_1_binary_accuracy: 0.8134 - digestibility_output_2_binary_accuracy: 0.5124 - digestibility_output_3_binary_accuracy: 0.8803 - detectability_output_binary_accuracy: 0.8306 - val_loss: 1.9906 - val_digestibility_output_loss: 0.3735 - val_digestibility_output_1_loss: 0.3755 - val_digestibility_output_2_loss: 0.6300 - val_digestibility_output_3_loss: 0.2263 - val_detectability_output_loss: 0.3852 - val_digestibility_output_binary_accuracy: 0.8274 - val_digestibility_output_1_binary_accuracy: 0.8221 - val_digestibility_output_2_binary_accuracy: 0.4979 - val_digestibility_output_3_binary_accuracy: 0.8670 - val_detectability_output_binary_accuracy: 0.8280\n",
      "Epoch 41/300\n"
     ]
    },
    {
     "name": "stdout",
     "output_type": "stream",
     "text": [
      "2124/2124 [==============================] - 90s 42ms/step - loss: 1.9848 - digestibility_output_loss: 0.3778 - digestibility_output_1_loss: 0.3787 - digestibility_output_2_loss: 0.6251 - digestibility_output_3_loss: 0.2250 - detectability_output_loss: 0.3782 - digestibility_output_binary_accuracy: 0.8144 - digestibility_output_1_binary_accuracy: 0.8136 - digestibility_output_2_binary_accuracy: 0.5114 - digestibility_output_3_binary_accuracy: 0.8786 - detectability_output_binary_accuracy: 0.8311 - val_loss: 1.9907 - val_digestibility_output_loss: 0.3793 - val_digestibility_output_1_loss: 0.3811 - val_digestibility_output_2_loss: 0.6225 - val_digestibility_output_3_loss: 0.2227 - val_detectability_output_loss: 0.3851 - val_digestibility_output_binary_accuracy: 0.8203 - val_digestibility_output_1_binary_accuracy: 0.8159 - val_digestibility_output_2_binary_accuracy: 0.5061 - val_digestibility_output_3_binary_accuracy: 0.8730 - val_detectability_output_binary_accuracy: 0.8279\n",
      "Epoch 42/300\n",
      "2124/2124 [==============================] - 89s 42ms/step - loss: 1.9831 - digestibility_output_loss: 0.3774 - digestibility_output_1_loss: 0.3785 - digestibility_output_2_loss: 0.6254 - digestibility_output_3_loss: 0.2248 - detectability_output_loss: 0.3771 - digestibility_output_binary_accuracy: 0.8147 - digestibility_output_1_binary_accuracy: 0.8141 - digestibility_output_2_binary_accuracy: 0.5103 - digestibility_output_3_binary_accuracy: 0.8791 - detectability_output_binary_accuracy: 0.8320 - val_loss: 1.9906 - val_digestibility_output_loss: 0.3774 - val_digestibility_output_1_loss: 0.3810 - val_digestibility_output_2_loss: 0.6227 - val_digestibility_output_3_loss: 0.2247 - val_detectability_output_loss: 0.3848 - val_digestibility_output_binary_accuracy: 0.8132 - val_digestibility_output_1_binary_accuracy: 0.8065 - val_digestibility_output_2_binary_accuracy: 0.5153 - val_digestibility_output_3_binary_accuracy: 0.8808 - val_detectability_output_binary_accuracy: 0.8270\n",
      "Epoch 43/300\n",
      "2124/2124 [==============================] - 88s 42ms/step - loss: 1.9856 - digestibility_output_loss: 0.3779 - digestibility_output_1_loss: 0.3789 - digestibility_output_2_loss: 0.6264 - digestibility_output_3_loss: 0.2249 - detectability_output_loss: 0.3774 - digestibility_output_binary_accuracy: 0.8143 - digestibility_output_1_binary_accuracy: 0.8136 - digestibility_output_2_binary_accuracy: 0.5108 - digestibility_output_3_binary_accuracy: 0.8789 - detectability_output_binary_accuracy: 0.8310 - val_loss: 1.9884 - val_digestibility_output_loss: 0.3790 - val_digestibility_output_1_loss: 0.3802 - val_digestibility_output_2_loss: 0.6237 - val_digestibility_output_3_loss: 0.2227 - val_detectability_output_loss: 0.3827 - val_digestibility_output_binary_accuracy: 0.8121 - val_digestibility_output_1_binary_accuracy: 0.8083 - val_digestibility_output_2_binary_accuracy: 0.5116 - val_digestibility_output_3_binary_accuracy: 0.8845 - val_detectability_output_binary_accuracy: 0.8288\n",
      "Epoch 44/300\n",
      "2124/2124 [==============================] - 89s 42ms/step - loss: 1.9804 - digestibility_output_loss: 0.3773 - digestibility_output_1_loss: 0.3779 - digestibility_output_2_loss: 0.6261 - digestibility_output_3_loss: 0.2240 - detectability_output_loss: 0.3752 - digestibility_output_binary_accuracy: 0.8144 - digestibility_output_1_binary_accuracy: 0.8141 - digestibility_output_2_binary_accuracy: 0.5104 - digestibility_output_3_binary_accuracy: 0.8806 - detectability_output_binary_accuracy: 0.8330 - val_loss: 1.9888 - val_digestibility_output_loss: 0.3753 - val_digestibility_output_1_loss: 0.3767 - val_digestibility_output_2_loss: 0.6265 - val_digestibility_output_3_loss: 0.2264 - val_detectability_output_loss: 0.3839 - val_digestibility_output_binary_accuracy: 0.8226 - val_digestibility_output_1_binary_accuracy: 0.8176 - val_digestibility_output_2_binary_accuracy: 0.5037 - val_digestibility_output_3_binary_accuracy: 0.8711 - val_detectability_output_binary_accuracy: 0.8287\n",
      "Epoch 45/300\n",
      "2124/2124 [==============================] - 89s 42ms/step - loss: 1.9825 - digestibility_output_loss: 0.3782 - digestibility_output_1_loss: 0.3787 - digestibility_output_2_loss: 0.6251 - digestibility_output_3_loss: 0.2257 - detectability_output_loss: 0.3747 - digestibility_output_binary_accuracy: 0.8129 - digestibility_output_1_binary_accuracy: 0.8132 - digestibility_output_2_binary_accuracy: 0.5125 - digestibility_output_3_binary_accuracy: 0.8791 - detectability_output_binary_accuracy: 0.8328 - val_loss: 1.9879 - val_digestibility_output_loss: 0.3751 - val_digestibility_output_1_loss: 0.3767 - val_digestibility_output_2_loss: 0.6291 - val_digestibility_output_3_loss: 0.2244 - val_detectability_output_loss: 0.3826 - val_digestibility_output_binary_accuracy: 0.8214 - val_digestibility_output_1_binary_accuracy: 0.8167 - val_digestibility_output_2_binary_accuracy: 0.5035 - val_digestibility_output_3_binary_accuracy: 0.8732 - val_detectability_output_binary_accuracy: 0.8291\n",
      "Epoch 46/300\n",
      "2124/2124 [==============================] - 88s 42ms/step - loss: 1.9815 - digestibility_output_loss: 0.3777 - digestibility_output_1_loss: 0.3786 - digestibility_output_2_loss: 0.6264 - digestibility_output_3_loss: 0.2248 - detectability_output_loss: 0.3739 - digestibility_output_binary_accuracy: 0.8137 - digestibility_output_1_binary_accuracy: 0.8135 - digestibility_output_2_binary_accuracy: 0.5108 - digestibility_output_3_binary_accuracy: 0.8793 - detectability_output_binary_accuracy: 0.8332 - val_loss: 1.9904 - val_digestibility_output_loss: 0.3762 - val_digestibility_output_1_loss: 0.3779 - val_digestibility_output_2_loss: 0.6247 - val_digestibility_output_3_loss: 0.2265 - val_detectability_output_loss: 0.3850 - val_digestibility_output_binary_accuracy: 0.8175 - val_digestibility_output_1_binary_accuracy: 0.8132 - val_digestibility_output_2_binary_accuracy: 0.5082 - val_digestibility_output_3_binary_accuracy: 0.8754 - val_detectability_output_binary_accuracy: 0.8284\n",
      "Epoch 47/300\n",
      "2124/2124 [==============================] - 88s 42ms/step - loss: 1.9786 - digestibility_output_loss: 0.3771 - digestibility_output_1_loss: 0.3783 - digestibility_output_2_loss: 0.6252 - digestibility_output_3_loss: 0.2243 - detectability_output_loss: 0.3737 - digestibility_output_binary_accuracy: 0.8146 - digestibility_output_1_binary_accuracy: 0.8147 - digestibility_output_2_binary_accuracy: 0.5109 - digestibility_output_3_binary_accuracy: 0.8793 - detectability_output_binary_accuracy: 0.8335 - val_loss: 1.9892 - val_digestibility_output_loss: 0.3755 - val_digestibility_output_1_loss: 0.3766 - val_digestibility_output_2_loss: 0.6266 - val_digestibility_output_3_loss: 0.2266 - val_detectability_output_loss: 0.3838 - val_digestibility_output_binary_accuracy: 0.8267 - val_digestibility_output_1_binary_accuracy: 0.8226 - val_digestibility_output_2_binary_accuracy: 0.4964 - val_digestibility_output_3_binary_accuracy: 0.8678 - val_detectability_output_binary_accuracy: 0.8277\n",
      "Epoch 48/300\n",
      "2124/2124 [==============================] - 89s 42ms/step - loss: 1.9792 - digestibility_output_loss: 0.3777 - digestibility_output_1_loss: 0.3782 - digestibility_output_2_loss: 0.6251 - digestibility_output_3_loss: 0.2249 - detectability_output_loss: 0.3733 - digestibility_output_binary_accuracy: 0.8152 - digestibility_output_1_binary_accuracy: 0.8143 - digestibility_output_2_binary_accuracy: 0.5100 - digestibility_output_3_binary_accuracy: 0.8782 - detectability_output_binary_accuracy: 0.8334 - val_loss: 1.9862 - val_digestibility_output_loss: 0.3792 - val_digestibility_output_1_loss: 0.3814 - val_digestibility_output_2_loss: 0.6216 - val_digestibility_output_3_loss: 0.2227 - val_detectability_output_loss: 0.3812 - val_digestibility_output_binary_accuracy: 0.8199 - val_digestibility_output_1_binary_accuracy: 0.8160 - val_digestibility_output_2_binary_accuracy: 0.5075 - val_digestibility_output_3_binary_accuracy: 0.8733 - val_detectability_output_binary_accuracy: 0.8294\n",
      "Epoch 49/300\n"
     ]
    },
    {
     "name": "stdout",
     "output_type": "stream",
     "text": [
      "2124/2124 [==============================] - 89s 42ms/step - loss: 1.9784 - digestibility_output_loss: 0.3770 - digestibility_output_1_loss: 0.3783 - digestibility_output_2_loss: 0.6251 - digestibility_output_3_loss: 0.2245 - detectability_output_loss: 0.3734 - digestibility_output_binary_accuracy: 0.8134 - digestibility_output_1_binary_accuracy: 0.8132 - digestibility_output_2_binary_accuracy: 0.5119 - digestibility_output_3_binary_accuracy: 0.8793 - detectability_output_binary_accuracy: 0.8336 - val_loss: 1.9885 - val_digestibility_output_loss: 0.3801 - val_digestibility_output_1_loss: 0.3806 - val_digestibility_output_2_loss: 0.6215 - val_digestibility_output_3_loss: 0.2232 - val_detectability_output_loss: 0.3831 - val_digestibility_output_binary_accuracy: 0.8148 - val_digestibility_output_1_binary_accuracy: 0.8119 - val_digestibility_output_2_binary_accuracy: 0.5100 - val_digestibility_output_3_binary_accuracy: 0.8781 - val_detectability_output_binary_accuracy: 0.8293\n",
      "Epoch 50/300\n",
      "2124/2124 [==============================] - 90s 42ms/step - loss: 1.9775 - digestibility_output_loss: 0.3772 - digestibility_output_1_loss: 0.3778 - digestibility_output_2_loss: 0.6250 - digestibility_output_3_loss: 0.2246 - detectability_output_loss: 0.3729 - digestibility_output_binary_accuracy: 0.8148 - digestibility_output_1_binary_accuracy: 0.8142 - digestibility_output_2_binary_accuracy: 0.5112 - digestibility_output_3_binary_accuracy: 0.8792 - detectability_output_binary_accuracy: 0.8341 - val_loss: 1.9868 - val_digestibility_output_loss: 0.3722 - val_digestibility_output_1_loss: 0.3749 - val_digestibility_output_2_loss: 0.6318 - val_digestibility_output_3_loss: 0.2261 - val_detectability_output_loss: 0.3818 - val_digestibility_output_binary_accuracy: 0.8308 - val_digestibility_output_1_binary_accuracy: 0.8238 - val_digestibility_output_2_binary_accuracy: 0.4968 - val_digestibility_output_3_binary_accuracy: 0.8645 - val_detectability_output_binary_accuracy: 0.8297\n",
      "Epoch 51/300\n",
      "2124/2124 [==============================] - 90s 43ms/step - loss: 1.9765 - digestibility_output_loss: 0.3775 - digestibility_output_1_loss: 0.3778 - digestibility_output_2_loss: 0.6252 - digestibility_output_3_loss: 0.2244 - detectability_output_loss: 0.3715 - digestibility_output_binary_accuracy: 0.8145 - digestibility_output_1_binary_accuracy: 0.8153 - digestibility_output_2_binary_accuracy: 0.5107 - digestibility_output_3_binary_accuracy: 0.8777 - detectability_output_binary_accuracy: 0.8344 - val_loss: 1.9862 - val_digestibility_output_loss: 0.3756 - val_digestibility_output_1_loss: 0.3786 - val_digestibility_output_2_loss: 0.6259 - val_digestibility_output_3_loss: 0.2250 - val_detectability_output_loss: 0.3811 - val_digestibility_output_binary_accuracy: 0.8211 - val_digestibility_output_1_binary_accuracy: 0.8152 - val_digestibility_output_2_binary_accuracy: 0.5050 - val_digestibility_output_3_binary_accuracy: 0.8735 - val_detectability_output_binary_accuracy: 0.8291\n",
      "Epoch 52/300\n",
      "2124/2124 [==============================] - 91s 43ms/step - loss: 1.9800 - digestibility_output_loss: 0.3773 - digestibility_output_1_loss: 0.3788 - digestibility_output_2_loss: 0.6251 - digestibility_output_3_loss: 0.2251 - detectability_output_loss: 0.3737 - digestibility_output_binary_accuracy: 0.8156 - digestibility_output_1_binary_accuracy: 0.8142 - digestibility_output_2_binary_accuracy: 0.5113 - digestibility_output_3_binary_accuracy: 0.8770 - detectability_output_binary_accuracy: 0.8337 - val_loss: 1.9853 - val_digestibility_output_loss: 0.3756 - val_digestibility_output_1_loss: 0.3777 - val_digestibility_output_2_loss: 0.6269 - val_digestibility_output_3_loss: 0.2247 - val_detectability_output_loss: 0.3804 - val_digestibility_output_binary_accuracy: 0.8214 - val_digestibility_output_1_binary_accuracy: 0.8166 - val_digestibility_output_2_binary_accuracy: 0.5041 - val_digestibility_output_3_binary_accuracy: 0.8736 - val_detectability_output_binary_accuracy: 0.8289\n",
      "Epoch 53/300\n",
      "2124/2124 [==============================] - 90s 42ms/step - loss: 1.9787 - digestibility_output_loss: 0.3780 - digestibility_output_1_loss: 0.3783 - digestibility_output_2_loss: 0.6262 - digestibility_output_3_loss: 0.2247 - detectability_output_loss: 0.3715 - digestibility_output_binary_accuracy: 0.8146 - digestibility_output_1_binary_accuracy: 0.8161 - digestibility_output_2_binary_accuracy: 0.5091 - digestibility_output_3_binary_accuracy: 0.8788 - detectability_output_binary_accuracy: 0.8348 - val_loss: 1.9878 - val_digestibility_output_loss: 0.3774 - val_digestibility_output_1_loss: 0.3783 - val_digestibility_output_2_loss: 0.6254 - val_digestibility_output_3_loss: 0.2238 - val_detectability_output_loss: 0.3829 - val_digestibility_output_binary_accuracy: 0.8206 - val_digestibility_output_1_binary_accuracy: 0.8174 - val_digestibility_output_2_binary_accuracy: 0.5045 - val_digestibility_output_3_binary_accuracy: 0.8731 - val_detectability_output_binary_accuracy: 0.8291\n",
      "Epoch 54/300\n",
      "2124/2124 [==============================] - 90s 42ms/step - loss: 1.9723 - digestibility_output_loss: 0.3764 - digestibility_output_1_loss: 0.3774 - digestibility_output_2_loss: 0.6243 - digestibility_output_3_loss: 0.2237 - detectability_output_loss: 0.3704 - digestibility_output_binary_accuracy: 0.8144 - digestibility_output_1_binary_accuracy: 0.8156 - digestibility_output_2_binary_accuracy: 0.5120 - digestibility_output_3_binary_accuracy: 0.8790 - detectability_output_binary_accuracy: 0.8353 - val_loss: 1.9856 - val_digestibility_output_loss: 0.3815 - val_digestibility_output_1_loss: 0.3839 - val_digestibility_output_2_loss: 0.6179 - val_digestibility_output_3_loss: 0.2218 - val_detectability_output_loss: 0.3805 - val_digestibility_output_binary_accuracy: 0.8166 - val_digestibility_output_1_binary_accuracy: 0.8115 - val_digestibility_output_2_binary_accuracy: 0.5132 - val_digestibility_output_3_binary_accuracy: 0.8765 - val_detectability_output_binary_accuracy: 0.8307\n",
      "Epoch 55/300\n",
      "2124/2124 [==============================] - 90s 42ms/step - loss: 1.9784 - digestibility_output_loss: 0.3782 - digestibility_output_1_loss: 0.3791 - digestibility_output_2_loss: 0.6252 - digestibility_output_3_loss: 0.2252 - detectability_output_loss: 0.3706 - digestibility_output_binary_accuracy: 0.8139 - digestibility_output_1_binary_accuracy: 0.8137 - digestibility_output_2_binary_accuracy: 0.5117 - digestibility_output_3_binary_accuracy: 0.8781 - detectability_output_binary_accuracy: 0.8349 - val_loss: 1.9867 - val_digestibility_output_loss: 0.3794 - val_digestibility_output_1_loss: 0.3817 - val_digestibility_output_2_loss: 0.6193 - val_digestibility_output_3_loss: 0.2245 - val_detectability_output_loss: 0.3818 - val_digestibility_output_binary_accuracy: 0.8104 - val_digestibility_output_1_binary_accuracy: 0.8064 - val_digestibility_output_2_binary_accuracy: 0.5145 - val_digestibility_output_3_binary_accuracy: 0.8837 - val_detectability_output_binary_accuracy: 0.8289\n",
      "Epoch 56/300\n",
      "2124/2124 [==============================] - 89s 42ms/step - loss: 1.9764 - digestibility_output_loss: 0.3781 - digestibility_output_1_loss: 0.3793 - digestibility_output_2_loss: 0.6257 - digestibility_output_3_loss: 0.2251 - detectability_output_loss: 0.3683 - digestibility_output_binary_accuracy: 0.8150 - digestibility_output_1_binary_accuracy: 0.8143 - digestibility_output_2_binary_accuracy: 0.5099 - digestibility_output_3_binary_accuracy: 0.8780 - detectability_output_binary_accuracy: 0.8364 - val_loss: 1.9858 - val_digestibility_output_loss: 0.3796 - val_digestibility_output_1_loss: 0.3819 - val_digestibility_output_2_loss: 0.6203 - val_digestibility_output_3_loss: 0.2228 - val_detectability_output_loss: 0.3811 - val_digestibility_output_binary_accuracy: 0.8153 - val_digestibility_output_1_binary_accuracy: 0.8127 - val_digestibility_output_2_binary_accuracy: 0.5094 - val_digestibility_output_3_binary_accuracy: 0.8767 - val_detectability_output_binary_accuracy: 0.8296\n",
      "Epoch 57/300\n"
     ]
    },
    {
     "name": "stdout",
     "output_type": "stream",
     "text": [
      "2124/2124 [==============================] - 89s 42ms/step - loss: 1.9765 - digestibility_output_loss: 0.3775 - digestibility_output_1_loss: 0.3785 - digestibility_output_2_loss: 0.6256 - digestibility_output_3_loss: 0.2245 - detectability_output_loss: 0.3703 - digestibility_output_binary_accuracy: 0.8150 - digestibility_output_1_binary_accuracy: 0.8150 - digestibility_output_2_binary_accuracy: 0.5088 - digestibility_output_3_binary_accuracy: 0.8780 - detectability_output_binary_accuracy: 0.8352 - val_loss: 1.9861 - val_digestibility_output_loss: 0.3782 - val_digestibility_output_1_loss: 0.3812 - val_digestibility_output_2_loss: 0.6205 - val_digestibility_output_3_loss: 0.2246 - val_detectability_output_loss: 0.3815 - val_digestibility_output_binary_accuracy: 0.8179 - val_digestibility_output_1_binary_accuracy: 0.8106 - val_digestibility_output_2_binary_accuracy: 0.5111 - val_digestibility_output_3_binary_accuracy: 0.8767 - val_detectability_output_binary_accuracy: 0.8287\n",
      "Epoch 58/300\n",
      "2124/2124 [==============================] - 89s 42ms/step - loss: 1.9769 - digestibility_output_loss: 0.3777 - digestibility_output_1_loss: 0.3788 - digestibility_output_2_loss: 0.6249 - digestibility_output_3_loss: 0.2253 - detectability_output_loss: 0.3702 - digestibility_output_binary_accuracy: 0.8145 - digestibility_output_1_binary_accuracy: 0.8137 - digestibility_output_2_binary_accuracy: 0.5111 - digestibility_output_3_binary_accuracy: 0.8778 - detectability_output_binary_accuracy: 0.8349 - val_loss: 1.9852 - val_digestibility_output_loss: 0.3779 - val_digestibility_output_1_loss: 0.3805 - val_digestibility_output_2_loss: 0.6226 - val_digestibility_output_3_loss: 0.2235 - val_detectability_output_loss: 0.3807 - val_digestibility_output_binary_accuracy: 0.8164 - val_digestibility_output_1_binary_accuracy: 0.8107 - val_digestibility_output_2_binary_accuracy: 0.5099 - val_digestibility_output_3_binary_accuracy: 0.8783 - val_detectability_output_binary_accuracy: 0.8289\n",
      "Epoch 59/300\n",
      "2124/2124 [==============================] - 89s 42ms/step - loss: 1.9733 - digestibility_output_loss: 0.3775 - digestibility_output_1_loss: 0.3781 - digestibility_output_2_loss: 0.6247 - digestibility_output_3_loss: 0.2249 - detectability_output_loss: 0.3681 - digestibility_output_binary_accuracy: 0.8154 - digestibility_output_1_binary_accuracy: 0.8152 - digestibility_output_2_binary_accuracy: 0.5095 - digestibility_output_3_binary_accuracy: 0.8766 - detectability_output_binary_accuracy: 0.8363 - val_loss: 1.9857 - val_digestibility_output_loss: 0.3715 - val_digestibility_output_1_loss: 0.3747 - val_digestibility_output_2_loss: 0.6317 - val_digestibility_output_3_loss: 0.2267 - val_detectability_output_loss: 0.3811 - val_digestibility_output_binary_accuracy: 0.8286 - val_digestibility_output_1_binary_accuracy: 0.8218 - val_digestibility_output_2_binary_accuracy: 0.4983 - val_digestibility_output_3_binary_accuracy: 0.8671 - val_detectability_output_binary_accuracy: 0.8295\n",
      "Epoch 60/300\n",
      "2124/2124 [==============================] - 89s 42ms/step - loss: 1.9751 - digestibility_output_loss: 0.3779 - digestibility_output_1_loss: 0.3788 - digestibility_output_2_loss: 0.6264 - digestibility_output_3_loss: 0.2245 - detectability_output_loss: 0.3675 - digestibility_output_binary_accuracy: 0.8138 - digestibility_output_1_binary_accuracy: 0.8127 - digestibility_output_2_binary_accuracy: 0.5100 - digestibility_output_3_binary_accuracy: 0.8807 - detectability_output_binary_accuracy: 0.8363 - val_loss: 1.9854 - val_digestibility_output_loss: 0.3789 - val_digestibility_output_1_loss: 0.3788 - val_digestibility_output_2_loss: 0.6219 - val_digestibility_output_3_loss: 0.2253 - val_detectability_output_loss: 0.3804 - val_digestibility_output_binary_accuracy: 0.8181 - val_digestibility_output_1_binary_accuracy: 0.8160 - val_digestibility_output_2_binary_accuracy: 0.5083 - val_digestibility_output_3_binary_accuracy: 0.8734 - val_detectability_output_binary_accuracy: 0.8293\n",
      "Epoch 61/300\n",
      "2124/2124 [==============================] - 90s 42ms/step - loss: 1.9740 - digestibility_output_loss: 0.3778 - digestibility_output_1_loss: 0.3778 - digestibility_output_2_loss: 0.6256 - digestibility_output_3_loss: 0.2243 - detectability_output_loss: 0.3685 - digestibility_output_binary_accuracy: 0.8141 - digestibility_output_1_binary_accuracy: 0.8149 - digestibility_output_2_binary_accuracy: 0.5097 - digestibility_output_3_binary_accuracy: 0.8795 - detectability_output_binary_accuracy: 0.8364 - val_loss: 1.9850 - val_digestibility_output_loss: 0.3702 - val_digestibility_output_1_loss: 0.3738 - val_digestibility_output_2_loss: 0.6327 - val_digestibility_output_3_loss: 0.2279 - val_detectability_output_loss: 0.3804 - val_digestibility_output_binary_accuracy: 0.8304 - val_digestibility_output_1_binary_accuracy: 0.8253 - val_digestibility_output_2_binary_accuracy: 0.4954 - val_digestibility_output_3_binary_accuracy: 0.8639 - val_detectability_output_binary_accuracy: 0.8295\n",
      "Epoch 62/300\n",
      "2124/2124 [==============================] - 90s 42ms/step - loss: 1.9756 - digestibility_output_loss: 0.3778 - digestibility_output_1_loss: 0.3790 - digestibility_output_2_loss: 0.6258 - digestibility_output_3_loss: 0.2246 - detectability_output_loss: 0.3683 - digestibility_output_binary_accuracy: 0.8144 - digestibility_output_1_binary_accuracy: 0.8142 - digestibility_output_2_binary_accuracy: 0.5104 - digestibility_output_3_binary_accuracy: 0.8783 - detectability_output_binary_accuracy: 0.8360 - val_loss: 1.9848 - val_digestibility_output_loss: 0.3798 - val_digestibility_output_1_loss: 0.3816 - val_digestibility_output_2_loss: 0.6204 - val_digestibility_output_3_loss: 0.2229 - val_detectability_output_loss: 0.3802 - val_digestibility_output_binary_accuracy: 0.8161 - val_digestibility_output_1_binary_accuracy: 0.8130 - val_digestibility_output_2_binary_accuracy: 0.5088 - val_digestibility_output_3_binary_accuracy: 0.8757 - val_detectability_output_binary_accuracy: 0.8295\n",
      "Epoch 63/300\n",
      "2124/2124 [==============================] - 90s 43ms/step - loss: 1.9713 - digestibility_output_loss: 0.3768 - digestibility_output_1_loss: 0.3780 - digestibility_output_2_loss: 0.6247 - digestibility_output_3_loss: 0.2242 - detectability_output_loss: 0.3676 - digestibility_output_binary_accuracy: 0.8168 - digestibility_output_1_binary_accuracy: 0.8168 - digestibility_output_2_binary_accuracy: 0.5114 - digestibility_output_3_binary_accuracy: 0.8773 - detectability_output_binary_accuracy: 0.8367 - val_loss: 1.9846 - val_digestibility_output_loss: 0.3797 - val_digestibility_output_1_loss: 0.3826 - val_digestibility_output_2_loss: 0.6199 - val_digestibility_output_3_loss: 0.2224 - val_detectability_output_loss: 0.3800 - val_digestibility_output_binary_accuracy: 0.8133 - val_digestibility_output_1_binary_accuracy: 0.8094 - val_digestibility_output_2_binary_accuracy: 0.5123 - val_digestibility_output_3_binary_accuracy: 0.8809 - val_detectability_output_binary_accuracy: 0.8302\n",
      "Epoch 64/300\n",
      "2124/2124 [==============================] - 90s 43ms/step - loss: 1.9686 - digestibility_output_loss: 0.3769 - digestibility_output_1_loss: 0.3781 - digestibility_output_2_loss: 0.6242 - digestibility_output_3_loss: 0.2245 - detectability_output_loss: 0.3650 - digestibility_output_binary_accuracy: 0.8152 - digestibility_output_1_binary_accuracy: 0.8159 - digestibility_output_2_binary_accuracy: 0.5114 - digestibility_output_3_binary_accuracy: 0.8778 - detectability_output_binary_accuracy: 0.8376 - val_loss: 1.9851 - val_digestibility_output_loss: 0.3754 - val_digestibility_output_1_loss: 0.3783 - val_digestibility_output_2_loss: 0.6252 - val_digestibility_output_3_loss: 0.2256 - val_detectability_output_loss: 0.3805 - val_digestibility_output_binary_accuracy: 0.8210 - val_digestibility_output_1_binary_accuracy: 0.8168 - val_digestibility_output_2_binary_accuracy: 0.5049 - val_digestibility_output_3_binary_accuracy: 0.8719 - val_detectability_output_binary_accuracy: 0.8294\n",
      "Epoch 65/300\n"
     ]
    },
    {
     "name": "stdout",
     "output_type": "stream",
     "text": [
      "2124/2124 [==============================] - 88s 41ms/step - loss: 1.9727 - digestibility_output_loss: 0.3778 - digestibility_output_1_loss: 0.3784 - digestibility_output_2_loss: 0.6252 - digestibility_output_3_loss: 0.2249 - detectability_output_loss: 0.3663 - digestibility_output_binary_accuracy: 0.8150 - digestibility_output_1_binary_accuracy: 0.8147 - digestibility_output_2_binary_accuracy: 0.5106 - digestibility_output_3_binary_accuracy: 0.8775 - detectability_output_binary_accuracy: 0.8371 - val_loss: 1.9840 - val_digestibility_output_loss: 0.3731 - val_digestibility_output_1_loss: 0.3763 - val_digestibility_output_2_loss: 0.6292 - val_digestibility_output_3_loss: 0.2262 - val_detectability_output_loss: 0.3791 - val_digestibility_output_binary_accuracy: 0.8249 - val_digestibility_output_1_binary_accuracy: 0.8182 - val_digestibility_output_2_binary_accuracy: 0.5025 - val_digestibility_output_3_binary_accuracy: 0.8690 - val_detectability_output_binary_accuracy: 0.8306\n",
      "Epoch 66/300\n",
      "2124/2124 [==============================] - 89s 42ms/step - loss: 1.9686 - digestibility_output_loss: 0.3774 - digestibility_output_1_loss: 0.3777 - digestibility_output_2_loss: 0.6244 - digestibility_output_3_loss: 0.2243 - detectability_output_loss: 0.3648 - digestibility_output_binary_accuracy: 0.8161 - digestibility_output_1_binary_accuracy: 0.8161 - digestibility_output_2_binary_accuracy: 0.5104 - digestibility_output_3_binary_accuracy: 0.8767 - detectability_output_binary_accuracy: 0.8378 - val_loss: 1.9860 - val_digestibility_output_loss: 0.3785 - val_digestibility_output_1_loss: 0.3808 - val_digestibility_output_2_loss: 0.6215 - val_digestibility_output_3_loss: 0.2240 - val_detectability_output_loss: 0.3812 - val_digestibility_output_binary_accuracy: 0.8124 - val_digestibility_output_1_binary_accuracy: 0.8080 - val_digestibility_output_2_binary_accuracy: 0.5122 - val_digestibility_output_3_binary_accuracy: 0.8817 - val_detectability_output_binary_accuracy: 0.8293\n",
      "Epoch 67/300\n",
      "2124/2124 [==============================] - 88s 42ms/step - loss: 1.9697 - digestibility_output_loss: 0.3771 - digestibility_output_1_loss: 0.3782 - digestibility_output_2_loss: 0.6254 - digestibility_output_3_loss: 0.2242 - detectability_output_loss: 0.3648 - digestibility_output_binary_accuracy: 0.8141 - digestibility_output_1_binary_accuracy: 0.8139 - digestibility_output_2_binary_accuracy: 0.5118 - digestibility_output_3_binary_accuracy: 0.8794 - detectability_output_binary_accuracy: 0.8375 - val_loss: 1.9841 - val_digestibility_output_loss: 0.3746 - val_digestibility_output_1_loss: 0.3761 - val_digestibility_output_2_loss: 0.6286 - val_digestibility_output_3_loss: 0.2250 - val_detectability_output_loss: 0.3798 - val_digestibility_output_binary_accuracy: 0.8224 - val_digestibility_output_1_binary_accuracy: 0.8193 - val_digestibility_output_2_binary_accuracy: 0.5029 - val_digestibility_output_3_binary_accuracy: 0.8711 - val_detectability_output_binary_accuracy: 0.8298\n",
      "Epoch 68/300\n",
      "2124/2124 [==============================] - 89s 42ms/step - loss: 1.9663 - digestibility_output_loss: 0.3768 - digestibility_output_1_loss: 0.3779 - digestibility_output_2_loss: 0.6244 - digestibility_output_3_loss: 0.2243 - detectability_output_loss: 0.3629 - digestibility_output_binary_accuracy: 0.8150 - digestibility_output_1_binary_accuracy: 0.8145 - digestibility_output_2_binary_accuracy: 0.5117 - digestibility_output_3_binary_accuracy: 0.8786 - detectability_output_binary_accuracy: 0.8392 - val_loss: 1.9844 - val_digestibility_output_loss: 0.3742 - val_digestibility_output_1_loss: 0.3763 - val_digestibility_output_2_loss: 0.6283 - val_digestibility_output_3_loss: 0.2256 - val_detectability_output_loss: 0.3800 - val_digestibility_output_binary_accuracy: 0.8252 - val_digestibility_output_1_binary_accuracy: 0.8225 - val_digestibility_output_2_binary_accuracy: 0.4993 - val_digestibility_output_3_binary_accuracy: 0.8680 - val_detectability_output_binary_accuracy: 0.8297\n",
      "Epoch 69/300\n",
      "2124/2124 [==============================] - 88s 42ms/step - loss: 1.9666 - digestibility_output_loss: 0.3769 - digestibility_output_1_loss: 0.3782 - digestibility_output_2_loss: 0.6248 - digestibility_output_3_loss: 0.2241 - detectability_output_loss: 0.3625 - digestibility_output_binary_accuracy: 0.8166 - digestibility_output_1_binary_accuracy: 0.8161 - digestibility_output_2_binary_accuracy: 0.5102 - digestibility_output_3_binary_accuracy: 0.8777 - detectability_output_binary_accuracy: 0.8389 - val_loss: 1.9847 - val_digestibility_output_loss: 0.3737 - val_digestibility_output_1_loss: 0.3776 - val_digestibility_output_2_loss: 0.6273 - val_digestibility_output_3_loss: 0.2261 - val_detectability_output_loss: 0.3800 - val_digestibility_output_binary_accuracy: 0.8238 - val_digestibility_output_1_binary_accuracy: 0.8169 - val_digestibility_output_2_binary_accuracy: 0.5042 - val_digestibility_output_3_binary_accuracy: 0.8697 - val_detectability_output_binary_accuracy: 0.8298\n",
      "Epoch 70/300\n",
      "2124/2124 [==============================] - 89s 42ms/step - loss: 1.9684 - digestibility_output_loss: 0.3772 - digestibility_output_1_loss: 0.3787 - digestibility_output_2_loss: 0.6243 - digestibility_output_3_loss: 0.2252 - detectability_output_loss: 0.3631 - digestibility_output_binary_accuracy: 0.8147 - digestibility_output_1_binary_accuracy: 0.8143 - digestibility_output_2_binary_accuracy: 0.5122 - digestibility_output_3_binary_accuracy: 0.8781 - detectability_output_binary_accuracy: 0.8387 - val_loss: 1.9833 - val_digestibility_output_loss: 0.3749 - val_digestibility_output_1_loss: 0.3770 - val_digestibility_output_2_loss: 0.6274 - val_digestibility_output_3_loss: 0.2251 - val_detectability_output_loss: 0.3789 - val_digestibility_output_binary_accuracy: 0.8192 - val_digestibility_output_1_binary_accuracy: 0.8157 - val_digestibility_output_2_binary_accuracy: 0.5057 - val_digestibility_output_3_binary_accuracy: 0.8758 - val_detectability_output_binary_accuracy: 0.8303\n",
      "Epoch 71/300\n",
      "2124/2124 [==============================] - 88s 42ms/step - loss: 1.9680 - digestibility_output_loss: 0.3771 - digestibility_output_1_loss: 0.3780 - digestibility_output_2_loss: 0.6247 - digestibility_output_3_loss: 0.2240 - detectability_output_loss: 0.3642 - digestibility_output_binary_accuracy: 0.8152 - digestibility_output_1_binary_accuracy: 0.8150 - digestibility_output_2_binary_accuracy: 0.5116 - digestibility_output_3_binary_accuracy: 0.8791 - detectability_output_binary_accuracy: 0.8381 - val_loss: 1.9849 - val_digestibility_output_loss: 0.3744 - val_digestibility_output_1_loss: 0.3786 - val_digestibility_output_2_loss: 0.6286 - val_digestibility_output_3_loss: 0.2232 - val_detectability_output_loss: 0.3802 - val_digestibility_output_binary_accuracy: 0.8234 - val_digestibility_output_1_binary_accuracy: 0.8155 - val_digestibility_output_2_binary_accuracy: 0.5066 - val_digestibility_output_3_binary_accuracy: 0.8735 - val_detectability_output_binary_accuracy: 0.8290\n",
      "Epoch 72/300\n",
      "2124/2124 [==============================] - 89s 42ms/step - loss: 1.9658 - digestibility_output_loss: 0.3765 - digestibility_output_1_loss: 0.3782 - digestibility_output_2_loss: 0.6236 - digestibility_output_3_loss: 0.2245 - detectability_output_loss: 0.3630 - digestibility_output_binary_accuracy: 0.8161 - digestibility_output_1_binary_accuracy: 0.8152 - digestibility_output_2_binary_accuracy: 0.5124 - digestibility_output_3_binary_accuracy: 0.8778 - detectability_output_binary_accuracy: 0.8388 - val_loss: 1.9841 - val_digestibility_output_loss: 0.3708 - val_digestibility_output_1_loss: 0.3734 - val_digestibility_output_2_loss: 0.6336 - val_digestibility_output_3_loss: 0.2267 - val_detectability_output_loss: 0.3796 - val_digestibility_output_binary_accuracy: 0.8279 - val_digestibility_output_1_binary_accuracy: 0.8250 - val_digestibility_output_2_binary_accuracy: 0.4943 - val_digestibility_output_3_binary_accuracy: 0.8650 - val_detectability_output_binary_accuracy: 0.8302\n",
      "Epoch 73/300\n"
     ]
    },
    {
     "name": "stdout",
     "output_type": "stream",
     "text": [
      "2124/2124 [==============================] - 89s 42ms/step - loss: 1.9646 - digestibility_output_loss: 0.3770 - digestibility_output_1_loss: 0.3777 - digestibility_output_2_loss: 0.6242 - digestibility_output_3_loss: 0.2240 - detectability_output_loss: 0.3618 - digestibility_output_binary_accuracy: 0.8148 - digestibility_output_1_binary_accuracy: 0.8156 - digestibility_output_2_binary_accuracy: 0.5111 - digestibility_output_3_binary_accuracy: 0.8783 - detectability_output_binary_accuracy: 0.8393 - val_loss: 1.9848 - val_digestibility_output_loss: 0.3788 - val_digestibility_output_1_loss: 0.3815 - val_digestibility_output_2_loss: 0.6210 - val_digestibility_output_3_loss: 0.2235 - val_detectability_output_loss: 0.3799 - val_digestibility_output_binary_accuracy: 0.8155 - val_digestibility_output_1_binary_accuracy: 0.8100 - val_digestibility_output_2_binary_accuracy: 0.5137 - val_digestibility_output_3_binary_accuracy: 0.8782 - val_detectability_output_binary_accuracy: 0.8296\n",
      "Epoch 74/300\n",
      "2124/2124 [==============================] - 90s 42ms/step - loss: 1.9631 - digestibility_output_loss: 0.3767 - digestibility_output_1_loss: 0.3776 - digestibility_output_2_loss: 0.6247 - digestibility_output_3_loss: 0.2234 - detectability_output_loss: 0.3607 - digestibility_output_binary_accuracy: 0.8159 - digestibility_output_1_binary_accuracy: 0.8160 - digestibility_output_2_binary_accuracy: 0.5110 - digestibility_output_3_binary_accuracy: 0.8787 - detectability_output_binary_accuracy: 0.8398 - val_loss: 1.9838 - val_digestibility_output_loss: 0.3766 - val_digestibility_output_1_loss: 0.3772 - val_digestibility_output_2_loss: 0.6252 - val_digestibility_output_3_loss: 0.2253 - val_detectability_output_loss: 0.3794 - val_digestibility_output_binary_accuracy: 0.8150 - val_digestibility_output_1_binary_accuracy: 0.8133 - val_digestibility_output_2_binary_accuracy: 0.5097 - val_digestibility_output_3_binary_accuracy: 0.8788 - val_detectability_output_binary_accuracy: 0.8294\n",
      "Epoch 75/300\n",
      "2124/2124 [==============================] - 90s 43ms/step - loss: 1.9674 - digestibility_output_loss: 0.3779 - digestibility_output_1_loss: 0.3784 - digestibility_output_2_loss: 0.6245 - digestibility_output_3_loss: 0.2250 - detectability_output_loss: 0.3616 - digestibility_output_binary_accuracy: 0.8141 - digestibility_output_1_binary_accuracy: 0.8129 - digestibility_output_2_binary_accuracy: 0.5129 - digestibility_output_3_binary_accuracy: 0.8783 - detectability_output_binary_accuracy: 0.8389 - val_loss: 1.9845 - val_digestibility_output_loss: 0.3731 - val_digestibility_output_1_loss: 0.3747 - val_digestibility_output_2_loss: 0.6306 - val_digestibility_output_3_loss: 0.2261 - val_detectability_output_loss: 0.3800 - val_digestibility_output_binary_accuracy: 0.8271 - val_digestibility_output_1_binary_accuracy: 0.8239 - val_digestibility_output_2_binary_accuracy: 0.4988 - val_digestibility_output_3_binary_accuracy: 0.8661 - val_detectability_output_binary_accuracy: 0.8291\n",
      "Epoch 76/300\n",
      "2124/2124 [==============================] - 89s 42ms/step - loss: 1.9631 - digestibility_output_loss: 0.3768 - digestibility_output_1_loss: 0.3778 - digestibility_output_2_loss: 0.6245 - digestibility_output_3_loss: 0.2237 - detectability_output_loss: 0.3603 - digestibility_output_binary_accuracy: 0.8153 - digestibility_output_1_binary_accuracy: 0.8152 - digestibility_output_2_binary_accuracy: 0.5118 - digestibility_output_3_binary_accuracy: 0.8793 - detectability_output_binary_accuracy: 0.8395 - val_loss: 1.9844 - val_digestibility_output_loss: 0.3765 - val_digestibility_output_1_loss: 0.3775 - val_digestibility_output_2_loss: 0.6248 - val_digestibility_output_3_loss: 0.2257 - val_detectability_output_loss: 0.3799 - val_digestibility_output_binary_accuracy: 0.8221 - val_digestibility_output_1_binary_accuracy: 0.8203 - val_digestibility_output_2_binary_accuracy: 0.5023 - val_digestibility_output_3_binary_accuracy: 0.8692 - val_detectability_output_binary_accuracy: 0.8296\n",
      "Epoch 77/300\n",
      "2124/2124 [==============================] - 89s 42ms/step - loss: 1.9662 - digestibility_output_loss: 0.3777 - digestibility_output_1_loss: 0.3781 - digestibility_output_2_loss: 0.6244 - digestibility_output_3_loss: 0.2248 - detectability_output_loss: 0.3612 - digestibility_output_binary_accuracy: 0.8136 - digestibility_output_1_binary_accuracy: 0.8149 - digestibility_output_2_binary_accuracy: 0.5114 - digestibility_output_3_binary_accuracy: 0.8790 - detectability_output_binary_accuracy: 0.8395 - val_loss: 1.9855 - val_digestibility_output_loss: 0.3801 - val_digestibility_output_1_loss: 0.3818 - val_digestibility_output_2_loss: 0.6199 - val_digestibility_output_3_loss: 0.2227 - val_detectability_output_loss: 0.3810 - val_digestibility_output_binary_accuracy: 0.8130 - val_digestibility_output_1_binary_accuracy: 0.8111 - val_digestibility_output_2_binary_accuracy: 0.5124 - val_digestibility_output_3_binary_accuracy: 0.8785 - val_detectability_output_binary_accuracy: 0.8289\n",
      "Epoch 78/300\n",
      "2124/2124 [==============================] - 89s 42ms/step - loss: 1.9630 - digestibility_output_loss: 0.3769 - digestibility_output_1_loss: 0.3776 - digestibility_output_2_loss: 0.6244 - digestibility_output_3_loss: 0.2241 - detectability_output_loss: 0.3599 - digestibility_output_binary_accuracy: 0.8161 - digestibility_output_1_binary_accuracy: 0.8161 - digestibility_output_2_binary_accuracy: 0.5109 - digestibility_output_3_binary_accuracy: 0.8780 - detectability_output_binary_accuracy: 0.8399 - val_loss: 1.9851 - val_digestibility_output_loss: 0.3778 - val_digestibility_output_1_loss: 0.3784 - val_digestibility_output_2_loss: 0.6243 - val_digestibility_output_3_loss: 0.2241 - val_detectability_output_loss: 0.3805 - val_digestibility_output_binary_accuracy: 0.8200 - val_digestibility_output_1_binary_accuracy: 0.8180 - val_digestibility_output_2_binary_accuracy: 0.5037 - val_digestibility_output_3_binary_accuracy: 0.8713 - val_detectability_output_binary_accuracy: 0.8288\n",
      "Epoch 79/300\n",
      "2124/2124 [==============================] - 89s 42ms/step - loss: 1.9637 - digestibility_output_loss: 0.3776 - digestibility_output_1_loss: 0.3780 - digestibility_output_2_loss: 0.6247 - digestibility_output_3_loss: 0.2244 - detectability_output_loss: 0.3591 - digestibility_output_binary_accuracy: 0.8144 - digestibility_output_1_binary_accuracy: 0.8147 - digestibility_output_2_binary_accuracy: 0.5117 - digestibility_output_3_binary_accuracy: 0.8785 - detectability_output_binary_accuracy: 0.8401 - val_loss: 1.9857 - val_digestibility_output_loss: 0.3750 - val_digestibility_output_1_loss: 0.3776 - val_digestibility_output_2_loss: 0.6264 - val_digestibility_output_3_loss: 0.2254 - val_detectability_output_loss: 0.3812 - val_digestibility_output_binary_accuracy: 0.8238 - val_digestibility_output_1_binary_accuracy: 0.8195 - val_digestibility_output_2_binary_accuracy: 0.5035 - val_digestibility_output_3_binary_accuracy: 0.8686 - val_detectability_output_binary_accuracy: 0.8290\n",
      "Epoch 80/300\n",
      "2124/2124 [==============================] - 89s 42ms/step - loss: 1.9631 - digestibility_output_loss: 0.3768 - digestibility_output_1_loss: 0.3780 - digestibility_output_2_loss: 0.6248 - digestibility_output_3_loss: 0.2235 - detectability_output_loss: 0.3601 - digestibility_output_binary_accuracy: 0.8159 - digestibility_output_1_binary_accuracy: 0.8153 - digestibility_output_2_binary_accuracy: 0.5107 - digestibility_output_3_binary_accuracy: 0.8786 - detectability_output_binary_accuracy: 0.8405 - val_loss: 1.9846 - val_digestibility_output_loss: 0.3786 - val_digestibility_output_1_loss: 0.3817 - val_digestibility_output_2_loss: 0.6222 - val_digestibility_output_3_loss: 0.2222 - val_detectability_output_loss: 0.3800 - val_digestibility_output_binary_accuracy: 0.8109 - val_digestibility_output_1_binary_accuracy: 0.8080 - val_digestibility_output_2_binary_accuracy: 0.5142 - val_digestibility_output_3_binary_accuracy: 0.8833 - val_detectability_output_binary_accuracy: 0.8300\n",
      "Epoch 81/300\n"
     ]
    },
    {
     "name": "stdout",
     "output_type": "stream",
     "text": [
      "2124/2124 [==============================] - 88s 42ms/step - loss: 1.9608 - digestibility_output_loss: 0.3773 - digestibility_output_1_loss: 0.3780 - digestibility_output_2_loss: 0.6243 - digestibility_output_3_loss: 0.2237 - detectability_output_loss: 0.3575 - digestibility_output_binary_accuracy: 0.8146 - digestibility_output_1_binary_accuracy: 0.8151 - digestibility_output_2_binary_accuracy: 0.5116 - digestibility_output_3_binary_accuracy: 0.8794 - detectability_output_binary_accuracy: 0.8422 - val_loss: 1.9850 - val_digestibility_output_loss: 0.3759 - val_digestibility_output_1_loss: 0.3785 - val_digestibility_output_2_loss: 0.6260 - val_digestibility_output_3_loss: 0.2241 - val_detectability_output_loss: 0.3804 - val_digestibility_output_binary_accuracy: 0.8216 - val_digestibility_output_1_binary_accuracy: 0.8160 - val_digestibility_output_2_binary_accuracy: 0.5054 - val_digestibility_output_3_binary_accuracy: 0.8728 - val_detectability_output_binary_accuracy: 0.8289\n",
      "Epoch 82/300\n",
      "2124/2124 [==============================] - 89s 42ms/step - loss: 1.9630 - digestibility_output_loss: 0.3774 - digestibility_output_1_loss: 0.3782 - digestibility_output_2_loss: 0.6247 - digestibility_output_3_loss: 0.2244 - detectability_output_loss: 0.3582 - digestibility_output_binary_accuracy: 0.8153 - digestibility_output_1_binary_accuracy: 0.8140 - digestibility_output_2_binary_accuracy: 0.5110 - digestibility_output_3_binary_accuracy: 0.8789 - detectability_output_binary_accuracy: 0.8414 - val_loss: 1.9846 - val_digestibility_output_loss: 0.3755 - val_digestibility_output_1_loss: 0.3772 - val_digestibility_output_2_loss: 0.6261 - val_digestibility_output_3_loss: 0.2255 - val_detectability_output_loss: 0.3802 - val_digestibility_output_binary_accuracy: 0.8185 - val_digestibility_output_1_binary_accuracy: 0.8156 - val_digestibility_output_2_binary_accuracy: 0.5069 - val_digestibility_output_3_binary_accuracy: 0.8740 - val_detectability_output_binary_accuracy: 0.8297\n",
      "Epoch 83/300\n",
      "2124/2124 [==============================] - 88s 42ms/step - loss: 1.9633 - digestibility_output_loss: 0.3777 - digestibility_output_1_loss: 0.3781 - digestibility_output_2_loss: 0.6248 - digestibility_output_3_loss: 0.2247 - detectability_output_loss: 0.3579 - digestibility_output_binary_accuracy: 0.8154 - digestibility_output_1_binary_accuracy: 0.8159 - digestibility_output_2_binary_accuracy: 0.5109 - digestibility_output_3_binary_accuracy: 0.8781 - detectability_output_binary_accuracy: 0.8411 - val_loss: 1.9848 - val_digestibility_output_loss: 0.3774 - val_digestibility_output_1_loss: 0.3792 - val_digestibility_output_2_loss: 0.6232 - val_digestibility_output_3_loss: 0.2247 - val_detectability_output_loss: 0.3803 - val_digestibility_output_binary_accuracy: 0.8192 - val_digestibility_output_1_binary_accuracy: 0.8161 - val_digestibility_output_2_binary_accuracy: 0.5062 - val_digestibility_output_3_binary_accuracy: 0.8733 - val_detectability_output_binary_accuracy: 0.8296\n",
      "Epoch 84/300\n",
      "2124/2124 [==============================] - 89s 42ms/step - loss: 1.9617 - digestibility_output_loss: 0.3779 - digestibility_output_1_loss: 0.3784 - digestibility_output_2_loss: 0.6245 - digestibility_output_3_loss: 0.2247 - detectability_output_loss: 0.3562 - digestibility_output_binary_accuracy: 0.8150 - digestibility_output_1_binary_accuracy: 0.8155 - digestibility_output_2_binary_accuracy: 0.5107 - digestibility_output_3_binary_accuracy: 0.8782 - detectability_output_binary_accuracy: 0.8422 - val_loss: 1.9858 - val_digestibility_output_loss: 0.3765 - val_digestibility_output_1_loss: 0.3764 - val_digestibility_output_2_loss: 0.6253 - val_digestibility_output_3_loss: 0.2265 - val_detectability_output_loss: 0.3812 - val_digestibility_output_binary_accuracy: 0.8203 - val_digestibility_output_1_binary_accuracy: 0.8203 - val_digestibility_output_2_binary_accuracy: 0.5028 - val_digestibility_output_3_binary_accuracy: 0.8706 - val_detectability_output_binary_accuracy: 0.8283\n",
      "Epoch 85/300\n",
      "2124/2124 [==============================] - 88s 41ms/step - loss: 1.9596 - digestibility_output_loss: 0.3771 - digestibility_output_1_loss: 0.3779 - digestibility_output_2_loss: 0.6235 - digestibility_output_3_loss: 0.2249 - detectability_output_loss: 0.3562 - digestibility_output_binary_accuracy: 0.8157 - digestibility_output_1_binary_accuracy: 0.8156 - digestibility_output_2_binary_accuracy: 0.5112 - digestibility_output_3_binary_accuracy: 0.8766 - detectability_output_binary_accuracy: 0.8418 - val_loss: 1.9843 - val_digestibility_output_loss: 0.3784 - val_digestibility_output_1_loss: 0.3797 - val_digestibility_output_2_loss: 0.6223 - val_digestibility_output_3_loss: 0.2242 - val_detectability_output_loss: 0.3797 - val_digestibility_output_binary_accuracy: 0.8154 - val_digestibility_output_1_binary_accuracy: 0.8142 - val_digestibility_output_2_binary_accuracy: 0.5081 - val_digestibility_output_3_binary_accuracy: 0.8765 - val_detectability_output_binary_accuracy: 0.8295\n",
      "Epoch 86/300\n",
      "2124/2124 [==============================] - 89s 42ms/step - loss: 1.9590 - digestibility_output_loss: 0.3776 - digestibility_output_1_loss: 0.3781 - digestibility_output_2_loss: 0.6249 - digestibility_output_3_loss: 0.2241 - detectability_output_loss: 0.3544 - digestibility_output_binary_accuracy: 0.8148 - digestibility_output_1_binary_accuracy: 0.8162 - digestibility_output_2_binary_accuracy: 0.5090 - digestibility_output_3_binary_accuracy: 0.8788 - detectability_output_binary_accuracy: 0.8436 - val_loss: 1.9849 - val_digestibility_output_loss: 0.3781 - val_digestibility_output_1_loss: 0.3817 - val_digestibility_output_2_loss: 0.6238 - val_digestibility_output_3_loss: 0.2214 - val_detectability_output_loss: 0.3799 - val_digestibility_output_binary_accuracy: 0.8141 - val_digestibility_output_1_binary_accuracy: 0.8086 - val_digestibility_output_2_binary_accuracy: 0.5120 - val_digestibility_output_3_binary_accuracy: 0.8815 - val_detectability_output_binary_accuracy: 0.8290\n",
      "Epoch 87/300\n",
      "2124/2124 [==============================] - 89s 42ms/step - loss: 1.9616 - digestibility_output_loss: 0.3772 - digestibility_output_1_loss: 0.3782 - digestibility_output_2_loss: 0.6242 - digestibility_output_3_loss: 0.2247 - detectability_output_loss: 0.3572 - digestibility_output_binary_accuracy: 0.8152 - digestibility_output_1_binary_accuracy: 0.8167 - digestibility_output_2_binary_accuracy: 0.5110 - digestibility_output_3_binary_accuracy: 0.8773 - detectability_output_binary_accuracy: 0.8417 - val_loss: 1.9856 - val_digestibility_output_loss: 0.3778 - val_digestibility_output_1_loss: 0.3795 - val_digestibility_output_2_loss: 0.6219 - val_digestibility_output_3_loss: 0.2257 - val_detectability_output_loss: 0.3807 - val_digestibility_output_binary_accuracy: 0.8165 - val_digestibility_output_1_binary_accuracy: 0.8110 - val_digestibility_output_2_binary_accuracy: 0.5109 - val_digestibility_output_3_binary_accuracy: 0.8765 - val_detectability_output_binary_accuracy: 0.8290\n",
      "Epoch 88/300\n",
      "2124/2124 [==============================] - 89s 42ms/step - loss: 1.9587 - digestibility_output_loss: 0.3769 - digestibility_output_1_loss: 0.3781 - digestibility_output_2_loss: 0.6232 - digestibility_output_3_loss: 0.2241 - detectability_output_loss: 0.3563 - digestibility_output_binary_accuracy: 0.8149 - digestibility_output_1_binary_accuracy: 0.8142 - digestibility_output_2_binary_accuracy: 0.5126 - digestibility_output_3_binary_accuracy: 0.8786 - detectability_output_binary_accuracy: 0.8419 - val_loss: 1.9844 - val_digestibility_output_loss: 0.3754 - val_digestibility_output_1_loss: 0.3773 - val_digestibility_output_2_loss: 0.6263 - val_digestibility_output_3_loss: 0.2254 - val_detectability_output_loss: 0.3800 - val_digestibility_output_binary_accuracy: 0.8224 - val_digestibility_output_1_binary_accuracy: 0.8215 - val_digestibility_output_2_binary_accuracy: 0.5000 - val_digestibility_output_3_binary_accuracy: 0.8699 - val_detectability_output_binary_accuracy: 0.8290\n",
      "Epoch 89/300\n"
     ]
    },
    {
     "name": "stdout",
     "output_type": "stream",
     "text": [
      "2124/2124 [==============================] - 90s 42ms/step - loss: 1.9587 - digestibility_output_loss: 0.3770 - digestibility_output_1_loss: 0.3773 - digestibility_output_2_loss: 0.6238 - digestibility_output_3_loss: 0.2242 - detectability_output_loss: 0.3564 - digestibility_output_binary_accuracy: 0.8156 - digestibility_output_1_binary_accuracy: 0.8169 - digestibility_output_2_binary_accuracy: 0.5105 - digestibility_output_3_binary_accuracy: 0.8783 - detectability_output_binary_accuracy: 0.8418 - val_loss: 1.9850 - val_digestibility_output_loss: 0.3756 - val_digestibility_output_1_loss: 0.3779 - val_digestibility_output_2_loss: 0.6257 - val_digestibility_output_3_loss: 0.2253 - val_detectability_output_loss: 0.3805 - val_digestibility_output_binary_accuracy: 0.8196 - val_digestibility_output_1_binary_accuracy: 0.8162 - val_digestibility_output_2_binary_accuracy: 0.5047 - val_digestibility_output_3_binary_accuracy: 0.8743 - val_detectability_output_binary_accuracy: 0.8292\n",
      "Epoch 90/300\n",
      "2124/2124 [==============================] - 91s 43ms/step - loss: 1.9613 - digestibility_output_loss: 0.3773 - digestibility_output_1_loss: 0.3787 - digestibility_output_2_loss: 0.6245 - digestibility_output_3_loss: 0.2248 - detectability_output_loss: 0.3560 - digestibility_output_binary_accuracy: 0.8136 - digestibility_output_1_binary_accuracy: 0.8146 - digestibility_output_2_binary_accuracy: 0.5124 - digestibility_output_3_binary_accuracy: 0.8792 - detectability_output_binary_accuracy: 0.8418 - val_loss: 1.9849 - val_digestibility_output_loss: 0.3766 - val_digestibility_output_1_loss: 0.3781 - val_digestibility_output_2_loss: 0.6241 - val_digestibility_output_3_loss: 0.2259 - val_detectability_output_loss: 0.3802 - val_digestibility_output_binary_accuracy: 0.8155 - val_digestibility_output_1_binary_accuracy: 0.8147 - val_digestibility_output_2_binary_accuracy: 0.5073 - val_digestibility_output_3_binary_accuracy: 0.8766 - val_detectability_output_binary_accuracy: 0.8289\n",
      "Epoch 91/300\n",
      "2124/2124 [==============================] - 90s 42ms/step - loss: 1.9567 - digestibility_output_loss: 0.3771 - digestibility_output_1_loss: 0.3778 - digestibility_output_2_loss: 0.6240 - digestibility_output_3_loss: 0.2244 - detectability_output_loss: 0.3534 - digestibility_output_binary_accuracy: 0.8139 - digestibility_output_1_binary_accuracy: 0.8149 - digestibility_output_2_binary_accuracy: 0.5122 - digestibility_output_3_binary_accuracy: 0.8798 - detectability_output_binary_accuracy: 0.8437 - val_loss: 1.9856 - val_digestibility_output_loss: 0.3766 - val_digestibility_output_1_loss: 0.3798 - val_digestibility_output_2_loss: 0.6234 - val_digestibility_output_3_loss: 0.2251 - val_detectability_output_loss: 0.3807 - val_digestibility_output_binary_accuracy: 0.8182 - val_digestibility_output_1_binary_accuracy: 0.8128 - val_digestibility_output_2_binary_accuracy: 0.5092 - val_digestibility_output_3_binary_accuracy: 0.8754 - val_detectability_output_binary_accuracy: 0.8291\n",
      "Epoch 92/300\n",
      "2124/2124 [==============================] - 89s 42ms/step - loss: 1.9581 - digestibility_output_loss: 0.3774 - digestibility_output_1_loss: 0.3781 - digestibility_output_2_loss: 0.6246 - digestibility_output_3_loss: 0.2241 - detectability_output_loss: 0.3539 - digestibility_output_binary_accuracy: 0.8136 - digestibility_output_1_binary_accuracy: 0.8150 - digestibility_output_2_binary_accuracy: 0.5117 - digestibility_output_3_binary_accuracy: 0.8794 - detectability_output_binary_accuracy: 0.8430 - val_loss: 1.9853 - val_digestibility_output_loss: 0.3802 - val_digestibility_output_1_loss: 0.3832 - val_digestibility_output_2_loss: 0.6191 - val_digestibility_output_3_loss: 0.2221 - val_detectability_output_loss: 0.3807 - val_digestibility_output_binary_accuracy: 0.8130 - val_digestibility_output_1_binary_accuracy: 0.8088 - val_digestibility_output_2_binary_accuracy: 0.5134 - val_digestibility_output_3_binary_accuracy: 0.8808 - val_detectability_output_binary_accuracy: 0.8287\n",
      "Epoch 93/300\n",
      "2124/2124 [==============================] - 89s 42ms/step - loss: 1.9586 - digestibility_output_loss: 0.3773 - digestibility_output_1_loss: 0.3784 - digestibility_output_2_loss: 0.6244 - digestibility_output_3_loss: 0.2243 - detectability_output_loss: 0.3542 - digestibility_output_binary_accuracy: 0.8145 - digestibility_output_1_binary_accuracy: 0.8154 - digestibility_output_2_binary_accuracy: 0.5110 - digestibility_output_3_binary_accuracy: 0.8782 - detectability_output_binary_accuracy: 0.8427 - val_loss: 1.9856 - val_digestibility_output_loss: 0.3744 - val_digestibility_output_1_loss: 0.3787 - val_digestibility_output_2_loss: 0.6280 - val_digestibility_output_3_loss: 0.2238 - val_detectability_output_loss: 0.3806 - val_digestibility_output_binary_accuracy: 0.8206 - val_digestibility_output_1_binary_accuracy: 0.8164 - val_digestibility_output_2_binary_accuracy: 0.5026 - val_digestibility_output_3_binary_accuracy: 0.8743 - val_detectability_output_binary_accuracy: 0.8294\n",
      "Epoch 94/300\n",
      "2124/2124 [==============================] - 89s 42ms/step - loss: 1.9553 - digestibility_output_loss: 0.3769 - digestibility_output_1_loss: 0.3781 - digestibility_output_2_loss: 0.6237 - digestibility_output_3_loss: 0.2239 - detectability_output_loss: 0.3528 - digestibility_output_binary_accuracy: 0.8140 - digestibility_output_1_binary_accuracy: 0.8145 - digestibility_output_2_binary_accuracy: 0.5124 - digestibility_output_3_binary_accuracy: 0.8791 - detectability_output_binary_accuracy: 0.8436 - val_loss: 1.9857 - val_digestibility_output_loss: 0.3750 - val_digestibility_output_1_loss: 0.3774 - val_digestibility_output_2_loss: 0.6274 - val_digestibility_output_3_loss: 0.2248 - val_detectability_output_loss: 0.3811 - val_digestibility_output_binary_accuracy: 0.8257 - val_digestibility_output_1_binary_accuracy: 0.8231 - val_digestibility_output_2_binary_accuracy: 0.4987 - val_digestibility_output_3_binary_accuracy: 0.8664 - val_detectability_output_binary_accuracy: 0.8285\n",
      "Epoch 95/300\n",
      "2124/2124 [==============================] - 90s 42ms/step - loss: 1.9580 - digestibility_output_loss: 0.3771 - digestibility_output_1_loss: 0.3783 - digestibility_output_2_loss: 0.6244 - digestibility_output_3_loss: 0.2242 - detectability_output_loss: 0.3539 - digestibility_output_binary_accuracy: 0.8173 - digestibility_output_1_binary_accuracy: 0.8172 - digestibility_output_2_binary_accuracy: 0.5087 - digestibility_output_3_binary_accuracy: 0.8763 - detectability_output_binary_accuracy: 0.8437 - val_loss: 1.9847 - val_digestibility_output_loss: 0.3772 - val_digestibility_output_1_loss: 0.3783 - val_digestibility_output_2_loss: 0.6248 - val_digestibility_output_3_loss: 0.2244 - val_detectability_output_loss: 0.3801 - val_digestibility_output_binary_accuracy: 0.8213 - val_digestibility_output_1_binary_accuracy: 0.8190 - val_digestibility_output_2_binary_accuracy: 0.5036 - val_digestibility_output_3_binary_accuracy: 0.8698 - val_detectability_output_binary_accuracy: 0.8290\n",
      "Epoch 96/300\n",
      "2124/2124 [==============================] - 89s 42ms/step - loss: 1.9573 - digestibility_output_loss: 0.3772 - digestibility_output_1_loss: 0.3783 - digestibility_output_2_loss: 0.6239 - digestibility_output_3_loss: 0.2244 - detectability_output_loss: 0.3535 - digestibility_output_binary_accuracy: 0.8152 - digestibility_output_1_binary_accuracy: 0.8150 - digestibility_output_2_binary_accuracy: 0.5121 - digestibility_output_3_binary_accuracy: 0.8788 - detectability_output_binary_accuracy: 0.8431 - val_loss: 1.9868 - val_digestibility_output_loss: 0.3818 - val_digestibility_output_1_loss: 0.3831 - val_digestibility_output_2_loss: 0.6180 - val_digestibility_output_3_loss: 0.2217 - val_detectability_output_loss: 0.3821 - val_digestibility_output_binary_accuracy: 0.8114 - val_digestibility_output_1_binary_accuracy: 0.8092 - val_digestibility_output_2_binary_accuracy: 0.5142 - val_digestibility_output_3_binary_accuracy: 0.8812 - val_detectability_output_binary_accuracy: 0.8286\n",
      "Epoch 97/300\n"
     ]
    },
    {
     "name": "stdout",
     "output_type": "stream",
     "text": [
      "2124/2124 [==============================] - 90s 43ms/step - loss: 1.9567 - digestibility_output_loss: 0.3767 - digestibility_output_1_loss: 0.3777 - digestibility_output_2_loss: 0.6244 - digestibility_output_3_loss: 0.2236 - detectability_output_loss: 0.3542 - digestibility_output_binary_accuracy: 0.8151 - digestibility_output_1_binary_accuracy: 0.8154 - digestibility_output_2_binary_accuracy: 0.5105 - digestibility_output_3_binary_accuracy: 0.8793 - detectability_output_binary_accuracy: 0.8431 - val_loss: 1.9864 - val_digestibility_output_loss: 0.3753 - val_digestibility_output_1_loss: 0.3764 - val_digestibility_output_2_loss: 0.6280 - val_digestibility_output_3_loss: 0.2253 - val_detectability_output_loss: 0.3814 - val_digestibility_output_binary_accuracy: 0.8170 - val_digestibility_output_1_binary_accuracy: 0.8148 - val_digestibility_output_2_binary_accuracy: 0.5076 - val_digestibility_output_3_binary_accuracy: 0.8767 - val_detectability_output_binary_accuracy: 0.8283\n",
      "Epoch 98/300\n",
      "2124/2124 [==============================] - 90s 42ms/step - loss: 1.9565 - digestibility_output_loss: 0.3774 - digestibility_output_1_loss: 0.3779 - digestibility_output_2_loss: 0.6241 - digestibility_output_3_loss: 0.2247 - detectability_output_loss: 0.3525 - digestibility_output_binary_accuracy: 0.8137 - digestibility_output_1_binary_accuracy: 0.8136 - digestibility_output_2_binary_accuracy: 0.5128 - digestibility_output_3_binary_accuracy: 0.8794 - detectability_output_binary_accuracy: 0.8445 - val_loss: 1.9868 - val_digestibility_output_loss: 0.3749 - val_digestibility_output_1_loss: 0.3780 - val_digestibility_output_2_loss: 0.6275 - val_digestibility_output_3_loss: 0.2245 - val_detectability_output_loss: 0.3819 - val_digestibility_output_binary_accuracy: 0.8218 - val_digestibility_output_1_binary_accuracy: 0.8179 - val_digestibility_output_2_binary_accuracy: 0.5025 - val_digestibility_output_3_binary_accuracy: 0.8716 - val_detectability_output_binary_accuracy: 0.8280\n",
      "Epoch 99/300\n",
      "2124/2124 [==============================] - 89s 42ms/step - loss: 1.9551 - digestibility_output_loss: 0.3772 - digestibility_output_1_loss: 0.3779 - digestibility_output_2_loss: 0.6237 - digestibility_output_3_loss: 0.2241 - detectability_output_loss: 0.3522 - digestibility_output_binary_accuracy: 0.8142 - digestibility_output_1_binary_accuracy: 0.8154 - digestibility_output_2_binary_accuracy: 0.5122 - digestibility_output_3_binary_accuracy: 0.8796 - detectability_output_binary_accuracy: 0.8441 - val_loss: 1.9852 - val_digestibility_output_loss: 0.3754 - val_digestibility_output_1_loss: 0.3796 - val_digestibility_output_2_loss: 0.6256 - val_digestibility_output_3_loss: 0.2244 - val_detectability_output_loss: 0.3802 - val_digestibility_output_binary_accuracy: 0.8191 - val_digestibility_output_1_binary_accuracy: 0.8131 - val_digestibility_output_2_binary_accuracy: 0.5073 - val_digestibility_output_3_binary_accuracy: 0.8762 - val_detectability_output_binary_accuracy: 0.8291\n",
      "Epoch 100/300\n",
      "2124/2124 [==============================] - 88s 41ms/step - loss: 1.9565 - digestibility_output_loss: 0.3768 - digestibility_output_1_loss: 0.3783 - digestibility_output_2_loss: 0.6240 - digestibility_output_3_loss: 0.2247 - detectability_output_loss: 0.3526 - digestibility_output_binary_accuracy: 0.8160 - digestibility_output_1_binary_accuracy: 0.8151 - digestibility_output_2_binary_accuracy: 0.5112 - digestibility_output_3_binary_accuracy: 0.8781 - detectability_output_binary_accuracy: 0.8437 - val_loss: 1.9862 - val_digestibility_output_loss: 0.3763 - val_digestibility_output_1_loss: 0.3781 - val_digestibility_output_2_loss: 0.6258 - val_digestibility_output_3_loss: 0.2244 - val_detectability_output_loss: 0.3815 - val_digestibility_output_binary_accuracy: 0.8144 - val_digestibility_output_1_binary_accuracy: 0.8135 - val_digestibility_output_2_binary_accuracy: 0.5082 - val_digestibility_output_3_binary_accuracy: 0.8802 - val_detectability_output_binary_accuracy: 0.8286\n",
      "Epoch 101/300\n",
      "2124/2124 [==============================] - 89s 42ms/step - loss: 1.9507 - digestibility_output_loss: 0.3763 - digestibility_output_1_loss: 0.3770 - digestibility_output_2_loss: 0.6231 - digestibility_output_3_loss: 0.2234 - detectability_output_loss: 0.3509 - digestibility_output_binary_accuracy: 0.8134 - digestibility_output_1_binary_accuracy: 0.8146 - digestibility_output_2_binary_accuracy: 0.5133 - digestibility_output_3_binary_accuracy: 0.8814 - detectability_output_binary_accuracy: 0.8447 - val_loss: 1.9858 - val_digestibility_output_loss: 0.3794 - val_digestibility_output_1_loss: 0.3818 - val_digestibility_output_2_loss: 0.6188 - val_digestibility_output_3_loss: 0.2251 - val_detectability_output_loss: 0.3806 - val_digestibility_output_binary_accuracy: 0.8162 - val_digestibility_output_1_binary_accuracy: 0.8120 - val_digestibility_output_2_binary_accuracy: 0.5105 - val_digestibility_output_3_binary_accuracy: 0.8750 - val_detectability_output_binary_accuracy: 0.8290\n",
      "Epoch 102/300\n",
      "2124/2124 [==============================] - 88s 42ms/step - loss: 1.9520 - digestibility_output_loss: 0.3769 - digestibility_output_1_loss: 0.3779 - digestibility_output_2_loss: 0.6230 - digestibility_output_3_loss: 0.2241 - detectability_output_loss: 0.3501 - digestibility_output_binary_accuracy: 0.8164 - digestibility_output_1_binary_accuracy: 0.8166 - digestibility_output_2_binary_accuracy: 0.5108 - digestibility_output_3_binary_accuracy: 0.8773 - detectability_output_binary_accuracy: 0.8456 - val_loss: 1.9865 - val_digestibility_output_loss: 0.3783 - val_digestibility_output_1_loss: 0.3801 - val_digestibility_output_2_loss: 0.6230 - val_digestibility_output_3_loss: 0.2234 - val_detectability_output_loss: 0.3817 - val_digestibility_output_binary_accuracy: 0.8107 - val_digestibility_output_1_binary_accuracy: 0.8092 - val_digestibility_output_2_binary_accuracy: 0.5144 - val_digestibility_output_3_binary_accuracy: 0.8814 - val_detectability_output_binary_accuracy: 0.8286\n",
      "Epoch 103/300\n",
      "2124/2124 [==============================] - 89s 42ms/step - loss: 1.9545 - digestibility_output_loss: 0.3774 - digestibility_output_1_loss: 0.3783 - digestibility_output_2_loss: 0.6240 - digestibility_output_3_loss: 0.2247 - detectability_output_loss: 0.3500 - digestibility_output_binary_accuracy: 0.8138 - digestibility_output_1_binary_accuracy: 0.8142 - digestibility_output_2_binary_accuracy: 0.5131 - digestibility_output_3_binary_accuracy: 0.8792 - detectability_output_binary_accuracy: 0.8457 - val_loss: 1.9863 - val_digestibility_output_loss: 0.3764 - val_digestibility_output_1_loss: 0.3794 - val_digestibility_output_2_loss: 0.6251 - val_digestibility_output_3_loss: 0.2237 - val_detectability_output_loss: 0.3816 - val_digestibility_output_binary_accuracy: 0.8173 - val_digestibility_output_1_binary_accuracy: 0.8146 - val_digestibility_output_2_binary_accuracy: 0.5073 - val_digestibility_output_3_binary_accuracy: 0.8767 - val_detectability_output_binary_accuracy: 0.8284\n",
      "Epoch 104/300\n",
      "2124/2124 [==============================] - 90s 42ms/step - loss: 1.9552 - digestibility_output_loss: 0.3774 - digestibility_output_1_loss: 0.3786 - digestibility_output_2_loss: 0.6243 - digestibility_output_3_loss: 0.2245 - detectability_output_loss: 0.3504 - digestibility_output_binary_accuracy: 0.8132 - digestibility_output_1_binary_accuracy: 0.8133 - digestibility_output_2_binary_accuracy: 0.5127 - digestibility_output_3_binary_accuracy: 0.8801 - detectability_output_binary_accuracy: 0.8451 - val_loss: 1.9870 - val_digestibility_output_loss: 0.3780 - val_digestibility_output_1_loss: 0.3801 - val_digestibility_output_2_loss: 0.6236 - val_digestibility_output_3_loss: 0.2232 - val_detectability_output_loss: 0.3821 - val_digestibility_output_binary_accuracy: 0.8175 - val_digestibility_output_1_binary_accuracy: 0.8137 - val_digestibility_output_2_binary_accuracy: 0.5069 - val_digestibility_output_3_binary_accuracy: 0.8757 - val_detectability_output_binary_accuracy: 0.8281\n",
      "Epoch 105/300\n"
     ]
    },
    {
     "name": "stdout",
     "output_type": "stream",
     "text": [
      "2124/2124 [==============================] - 90s 42ms/step - loss: 1.9529 - digestibility_output_loss: 0.3770 - digestibility_output_1_loss: 0.3775 - digestibility_output_2_loss: 0.6237 - digestibility_output_3_loss: 0.2241 - detectability_output_loss: 0.3505 - digestibility_output_binary_accuracy: 0.8155 - digestibility_output_1_binary_accuracy: 0.8151 - digestibility_output_2_binary_accuracy: 0.5116 - digestibility_output_3_binary_accuracy: 0.8786 - detectability_output_binary_accuracy: 0.8449 - val_loss: 1.9857 - val_digestibility_output_loss: 0.3790 - val_digestibility_output_1_loss: 0.3809 - val_digestibility_output_2_loss: 0.6220 - val_digestibility_output_3_loss: 0.2226 - val_detectability_output_loss: 0.3813 - val_digestibility_output_binary_accuracy: 0.8184 - val_digestibility_output_1_binary_accuracy: 0.8165 - val_digestibility_output_2_binary_accuracy: 0.5061 - val_digestibility_output_3_binary_accuracy: 0.8743 - val_detectability_output_binary_accuracy: 0.8285\n",
      "Epoch 106/300\n",
      "2124/2124 [==============================] - 88s 41ms/step - loss: 1.9528 - digestibility_output_loss: 0.3773 - digestibility_output_1_loss: 0.3781 - digestibility_output_2_loss: 0.6246 - digestibility_output_3_loss: 0.2241 - detectability_output_loss: 0.3488 - digestibility_output_binary_accuracy: 0.8170 - digestibility_output_1_binary_accuracy: 0.8175 - digestibility_output_2_binary_accuracy: 0.5089 - digestibility_output_3_binary_accuracy: 0.8766 - detectability_output_binary_accuracy: 0.8455 - val_loss: 1.9855 - val_digestibility_output_loss: 0.3758 - val_digestibility_output_1_loss: 0.3794 - val_digestibility_output_2_loss: 0.6249 - val_digestibility_output_3_loss: 0.2249 - val_detectability_output_loss: 0.3805 - val_digestibility_output_binary_accuracy: 0.8153 - val_digestibility_output_1_binary_accuracy: 0.8084 - val_digestibility_output_2_binary_accuracy: 0.5107 - val_digestibility_output_3_binary_accuracy: 0.8807 - val_detectability_output_binary_accuracy: 0.8296\n",
      "Epoch 107/300\n",
      "2124/2124 [==============================] - 91s 43ms/step - loss: 1.9525 - digestibility_output_loss: 0.3764 - digestibility_output_1_loss: 0.3779 - digestibility_output_2_loss: 0.6253 - digestibility_output_3_loss: 0.2231 - detectability_output_loss: 0.3497 - digestibility_output_binary_accuracy: 0.8164 - digestibility_output_1_binary_accuracy: 0.8152 - digestibility_output_2_binary_accuracy: 0.5107 - digestibility_output_3_binary_accuracy: 0.8801 - detectability_output_binary_accuracy: 0.8448 - val_loss: 1.9866 - val_digestibility_output_loss: 0.3759 - val_digestibility_output_1_loss: 0.3786 - val_digestibility_output_2_loss: 0.6259 - val_digestibility_output_3_loss: 0.2244 - val_detectability_output_loss: 0.3817 - val_digestibility_output_binary_accuracy: 0.8163 - val_digestibility_output_1_binary_accuracy: 0.8140 - val_digestibility_output_2_binary_accuracy: 0.5073 - val_digestibility_output_3_binary_accuracy: 0.8773 - val_detectability_output_binary_accuracy: 0.8292\n",
      "Epoch 108/300\n",
      "2124/2124 [==============================] - 89s 42ms/step - loss: 1.9531 - digestibility_output_loss: 0.3770 - digestibility_output_1_loss: 0.3779 - digestibility_output_2_loss: 0.6243 - digestibility_output_3_loss: 0.2237 - detectability_output_loss: 0.3502 - digestibility_output_binary_accuracy: 0.8138 - digestibility_output_1_binary_accuracy: 0.8143 - digestibility_output_2_binary_accuracy: 0.5127 - digestibility_output_3_binary_accuracy: 0.8800 - detectability_output_binary_accuracy: 0.8447 - val_loss: 1.9865 - val_digestibility_output_loss: 0.3768 - val_digestibility_output_1_loss: 0.3797 - val_digestibility_output_2_loss: 0.6248 - val_digestibility_output_3_loss: 0.2236 - val_detectability_output_loss: 0.3816 - val_digestibility_output_binary_accuracy: 0.8224 - val_digestibility_output_1_binary_accuracy: 0.8182 - val_digestibility_output_2_binary_accuracy: 0.5022 - val_digestibility_output_3_binary_accuracy: 0.8701 - val_detectability_output_binary_accuracy: 0.8289\n",
      "Epoch 109/300\n",
      "2124/2124 [==============================] - 89s 42ms/step - loss: 1.9542 - digestibility_output_loss: 0.3780 - digestibility_output_1_loss: 0.3785 - digestibility_output_2_loss: 0.6259 - digestibility_output_3_loss: 0.2243 - detectability_output_loss: 0.3474 - digestibility_output_binary_accuracy: 0.8155 - digestibility_output_1_binary_accuracy: 0.8176 - digestibility_output_2_binary_accuracy: 0.5086 - digestibility_output_3_binary_accuracy: 0.8771 - detectability_output_binary_accuracy: 0.8470 - val_loss: 1.9880 - val_digestibility_output_loss: 0.3760 - val_digestibility_output_1_loss: 0.3789 - val_digestibility_output_2_loss: 0.6268 - val_digestibility_output_3_loss: 0.2234 - val_detectability_output_loss: 0.3828 - val_digestibility_output_binary_accuracy: 0.8195 - val_digestibility_output_1_binary_accuracy: 0.8163 - val_digestibility_output_2_binary_accuracy: 0.5057 - val_digestibility_output_3_binary_accuracy: 0.8744 - val_detectability_output_binary_accuracy: 0.8281\n",
      "Epoch 110/300\n",
      "2124/2124 [==============================] - 89s 42ms/step - loss: 1.9535 - digestibility_output_loss: 0.3779 - digestibility_output_1_loss: 0.3786 - digestibility_output_2_loss: 0.6241 - digestibility_output_3_loss: 0.2246 - detectability_output_loss: 0.3483 - digestibility_output_binary_accuracy: 0.8124 - digestibility_output_1_binary_accuracy: 0.8140 - digestibility_output_2_binary_accuracy: 0.5118 - digestibility_output_3_binary_accuracy: 0.8807 - detectability_output_binary_accuracy: 0.8468 - val_loss: 1.9863 - val_digestibility_output_loss: 0.3761 - val_digestibility_output_1_loss: 0.3788 - val_digestibility_output_2_loss: 0.6256 - val_digestibility_output_3_loss: 0.2243 - val_detectability_output_loss: 0.3815 - val_digestibility_output_binary_accuracy: 0.8209 - val_digestibility_output_1_binary_accuracy: 0.8160 - val_digestibility_output_2_binary_accuracy: 0.5041 - val_digestibility_output_3_binary_accuracy: 0.8737 - val_detectability_output_binary_accuracy: 0.8286\n",
      "Epoch 111/300\n",
      "2124/2124 [==============================] - 89s 42ms/step - loss: 1.9529 - digestibility_output_loss: 0.3774 - digestibility_output_1_loss: 0.3787 - digestibility_output_2_loss: 0.6242 - digestibility_output_3_loss: 0.2248 - detectability_output_loss: 0.3477 - digestibility_output_binary_accuracy: 0.8152 - digestibility_output_1_binary_accuracy: 0.8159 - digestibility_output_2_binary_accuracy: 0.5107 - digestibility_output_3_binary_accuracy: 0.8769 - detectability_output_binary_accuracy: 0.8468 - val_loss: 1.9883 - val_digestibility_output_loss: 0.3778 - val_digestibility_output_1_loss: 0.3817 - val_digestibility_output_2_loss: 0.6226 - val_digestibility_output_3_loss: 0.2231 - val_detectability_output_loss: 0.3832 - val_digestibility_output_binary_accuracy: 0.8165 - val_digestibility_output_1_binary_accuracy: 0.8116 - val_digestibility_output_2_binary_accuracy: 0.5104 - val_digestibility_output_3_binary_accuracy: 0.8765 - val_detectability_output_binary_accuracy: 0.8274\n",
      "Epoch 112/300\n",
      "2124/2124 [==============================] - 89s 42ms/step - loss: 1.9510 - digestibility_output_loss: 0.3771 - digestibility_output_1_loss: 0.3780 - digestibility_output_2_loss: 0.6246 - digestibility_output_3_loss: 0.2243 - detectability_output_loss: 0.3470 - digestibility_output_binary_accuracy: 0.8135 - digestibility_output_1_binary_accuracy: 0.8149 - digestibility_output_2_binary_accuracy: 0.5116 - digestibility_output_3_binary_accuracy: 0.8795 - detectability_output_binary_accuracy: 0.8468 - val_loss: 1.9874 - val_digestibility_output_loss: 0.3774 - val_digestibility_output_1_loss: 0.3793 - val_digestibility_output_2_loss: 0.6240 - val_digestibility_output_3_loss: 0.2241 - val_detectability_output_loss: 0.3825 - val_digestibility_output_binary_accuracy: 0.8167 - val_digestibility_output_1_binary_accuracy: 0.8145 - val_digestibility_output_2_binary_accuracy: 0.5076 - val_digestibility_output_3_binary_accuracy: 0.8770 - val_detectability_output_binary_accuracy: 0.8282\n",
      "Epoch 113/300\n"
     ]
    },
    {
     "name": "stdout",
     "output_type": "stream",
     "text": [
      "2124/2124 [==============================] - 89s 42ms/step - loss: 1.9496 - digestibility_output_loss: 0.3771 - digestibility_output_1_loss: 0.3778 - digestibility_output_2_loss: 0.6227 - digestibility_output_3_loss: 0.2245 - detectability_output_loss: 0.3475 - digestibility_output_binary_accuracy: 0.8147 - digestibility_output_1_binary_accuracy: 0.8161 - digestibility_output_2_binary_accuracy: 0.5115 - digestibility_output_3_binary_accuracy: 0.8787 - detectability_output_binary_accuracy: 0.8472 - val_loss: 1.9869 - val_digestibility_output_loss: 0.3766 - val_digestibility_output_1_loss: 0.3789 - val_digestibility_output_2_loss: 0.6258 - val_digestibility_output_3_loss: 0.2235 - val_detectability_output_loss: 0.3821 - val_digestibility_output_binary_accuracy: 0.8166 - val_digestibility_output_1_binary_accuracy: 0.8129 - val_digestibility_output_2_binary_accuracy: 0.5091 - val_digestibility_output_3_binary_accuracy: 0.8763 - val_detectability_output_binary_accuracy: 0.8293\n",
      "Epoch 114/300\n",
      "2124/2124 [==============================] - 90s 42ms/step - loss: 1.9518 - digestibility_output_loss: 0.3775 - digestibility_output_1_loss: 0.3786 - digestibility_output_2_loss: 0.6251 - digestibility_output_3_loss: 0.2242 - detectability_output_loss: 0.3464 - digestibility_output_binary_accuracy: 0.8152 - digestibility_output_1_binary_accuracy: 0.8144 - digestibility_output_2_binary_accuracy: 0.5109 - digestibility_output_3_binary_accuracy: 0.8789 - detectability_output_binary_accuracy: 0.8475 - val_loss: 1.9887 - val_digestibility_output_loss: 0.3755 - val_digestibility_output_1_loss: 0.3783 - val_digestibility_output_2_loss: 0.6263 - val_digestibility_output_3_loss: 0.2252 - val_detectability_output_loss: 0.3834 - val_digestibility_output_binary_accuracy: 0.8233 - val_digestibility_output_1_binary_accuracy: 0.8188 - val_digestibility_output_2_binary_accuracy: 0.4997 - val_digestibility_output_3_binary_accuracy: 0.8699 - val_detectability_output_binary_accuracy: 0.8280\n",
      "Epoch 115/300\n",
      "2124/2124 [==============================] - 89s 42ms/step - loss: 1.9494 - digestibility_output_loss: 0.3765 - digestibility_output_1_loss: 0.3779 - digestibility_output_2_loss: 0.6243 - digestibility_output_3_loss: 0.2237 - detectability_output_loss: 0.3470 - digestibility_output_binary_accuracy: 0.8176 - digestibility_output_1_binary_accuracy: 0.8170 - digestibility_output_2_binary_accuracy: 0.5087 - digestibility_output_3_binary_accuracy: 0.8766 - detectability_output_binary_accuracy: 0.8469 - val_loss: 1.9866 - val_digestibility_output_loss: 0.3783 - val_digestibility_output_1_loss: 0.3820 - val_digestibility_output_2_loss: 0.6223 - val_digestibility_output_3_loss: 0.2224 - val_detectability_output_loss: 0.3816 - val_digestibility_output_binary_accuracy: 0.8142 - val_digestibility_output_1_binary_accuracy: 0.8087 - val_digestibility_output_2_binary_accuracy: 0.5125 - val_digestibility_output_3_binary_accuracy: 0.8798 - val_detectability_output_binary_accuracy: 0.8285\n",
      "Epoch 116/300\n",
      "2124/2124 [==============================] - 89s 42ms/step - loss: 1.9491 - digestibility_output_loss: 0.3767 - digestibility_output_1_loss: 0.3776 - digestibility_output_2_loss: 0.6238 - digestibility_output_3_loss: 0.2235 - detectability_output_loss: 0.3475 - digestibility_output_binary_accuracy: 0.8160 - digestibility_output_1_binary_accuracy: 0.8161 - digestibility_output_2_binary_accuracy: 0.5103 - digestibility_output_3_binary_accuracy: 0.8793 - detectability_output_binary_accuracy: 0.8474 - val_loss: 1.9902 - val_digestibility_output_loss: 0.3722 - val_digestibility_output_1_loss: 0.3738 - val_digestibility_output_2_loss: 0.6319 - val_digestibility_output_3_loss: 0.2273 - val_detectability_output_loss: 0.3849 - val_digestibility_output_binary_accuracy: 0.8215 - val_digestibility_output_1_binary_accuracy: 0.8176 - val_digestibility_output_2_binary_accuracy: 0.5024 - val_digestibility_output_3_binary_accuracy: 0.8719 - val_detectability_output_binary_accuracy: 0.8264\n",
      "Epoch 117/300\n",
      "2124/2124 [==============================] - 90s 42ms/step - loss: 1.9483 - digestibility_output_loss: 0.3768 - digestibility_output_1_loss: 0.3774 - digestibility_output_2_loss: 0.6244 - digestibility_output_3_loss: 0.2238 - detectability_output_loss: 0.3459 - digestibility_output_binary_accuracy: 0.8161 - digestibility_output_1_binary_accuracy: 0.8154 - digestibility_output_2_binary_accuracy: 0.5115 - digestibility_output_3_binary_accuracy: 0.8793 - detectability_output_binary_accuracy: 0.8474 - val_loss: 1.9890 - val_digestibility_output_loss: 0.3693 - val_digestibility_output_1_loss: 0.3724 - val_digestibility_output_2_loss: 0.6367 - val_digestibility_output_3_loss: 0.2272 - val_detectability_output_loss: 0.3833 - val_digestibility_output_binary_accuracy: 0.8299 - val_digestibility_output_1_binary_accuracy: 0.8250 - val_digestibility_output_2_binary_accuracy: 0.4930 - val_digestibility_output_3_binary_accuracy: 0.8643 - val_detectability_output_binary_accuracy: 0.8279\n",
      "Epoch 118/300\n",
      "2124/2124 [==============================] - 90s 42ms/step - loss: 1.9487 - digestibility_output_loss: 0.3768 - digestibility_output_1_loss: 0.3775 - digestibility_output_2_loss: 0.6234 - digestibility_output_3_loss: 0.2246 - detectability_output_loss: 0.3463 - digestibility_output_binary_accuracy: 0.8151 - digestibility_output_1_binary_accuracy: 0.8164 - digestibility_output_2_binary_accuracy: 0.5119 - digestibility_output_3_binary_accuracy: 0.8781 - detectability_output_binary_accuracy: 0.8481 - val_loss: 1.9872 - val_digestibility_output_loss: 0.3781 - val_digestibility_output_1_loss: 0.3794 - val_digestibility_output_2_loss: 0.6231 - val_digestibility_output_3_loss: 0.2244 - val_detectability_output_loss: 0.3822 - val_digestibility_output_binary_accuracy: 0.8126 - val_digestibility_output_1_binary_accuracy: 0.8115 - val_digestibility_output_2_binary_accuracy: 0.5096 - val_digestibility_output_3_binary_accuracy: 0.8792 - val_detectability_output_binary_accuracy: 0.8285\n",
      "Epoch 119/300\n",
      "2124/2124 [==============================] - 90s 42ms/step - loss: 1.9500 - digestibility_output_loss: 0.3775 - digestibility_output_1_loss: 0.3781 - digestibility_output_2_loss: 0.6245 - digestibility_output_3_loss: 0.2244 - detectability_output_loss: 0.3455 - digestibility_output_binary_accuracy: 0.8142 - digestibility_output_1_binary_accuracy: 0.8152 - digestibility_output_2_binary_accuracy: 0.5115 - digestibility_output_3_binary_accuracy: 0.8792 - detectability_output_binary_accuracy: 0.8485 - val_loss: 1.9865 - val_digestibility_output_loss: 0.3791 - val_digestibility_output_1_loss: 0.3815 - val_digestibility_output_2_loss: 0.6210 - val_digestibility_output_3_loss: 0.2234 - val_detectability_output_loss: 0.3816 - val_digestibility_output_binary_accuracy: 0.8182 - val_digestibility_output_1_binary_accuracy: 0.8149 - val_digestibility_output_2_binary_accuracy: 0.5061 - val_digestibility_output_3_binary_accuracy: 0.8752 - val_detectability_output_binary_accuracy: 0.8288\n",
      "Epoch 120/300\n",
      "2124/2124 [==============================] - 90s 42ms/step - loss: 1.9517 - digestibility_output_loss: 0.3778 - digestibility_output_1_loss: 0.3784 - digestibility_output_2_loss: 0.6243 - digestibility_output_3_loss: 0.2246 - detectability_output_loss: 0.3466 - digestibility_output_binary_accuracy: 0.8156 - digestibility_output_1_binary_accuracy: 0.8160 - digestibility_output_2_binary_accuracy: 0.5094 - digestibility_output_3_binary_accuracy: 0.8784 - detectability_output_binary_accuracy: 0.8473 - val_loss: 1.9890 - val_digestibility_output_loss: 0.3756 - val_digestibility_output_1_loss: 0.3774 - val_digestibility_output_2_loss: 0.6269 - val_digestibility_output_3_loss: 0.2254 - val_detectability_output_loss: 0.3836 - val_digestibility_output_binary_accuracy: 0.8139 - val_digestibility_output_1_binary_accuracy: 0.8129 - val_digestibility_output_2_binary_accuracy: 0.5078 - val_digestibility_output_3_binary_accuracy: 0.8797 - val_detectability_output_binary_accuracy: 0.8289\n",
      "Epoch 121/300\n"
     ]
    },
    {
     "name": "stdout",
     "output_type": "stream",
     "text": [
      "2124/2124 [==============================] - 89s 42ms/step - loss: 1.9478 - digestibility_output_loss: 0.3770 - digestibility_output_1_loss: 0.3777 - digestibility_output_2_loss: 0.6240 - digestibility_output_3_loss: 0.2242 - detectability_output_loss: 0.3449 - digestibility_output_binary_accuracy: 0.8152 - digestibility_output_1_binary_accuracy: 0.8157 - digestibility_output_2_binary_accuracy: 0.5114 - digestibility_output_3_binary_accuracy: 0.8788 - detectability_output_binary_accuracy: 0.8480 - val_loss: 1.9886 - val_digestibility_output_loss: 0.3773 - val_digestibility_output_1_loss: 0.3786 - val_digestibility_output_2_loss: 0.6254 - val_digestibility_output_3_loss: 0.2241 - val_detectability_output_loss: 0.3832 - val_digestibility_output_binary_accuracy: 0.8191 - val_digestibility_output_1_binary_accuracy: 0.8166 - val_digestibility_output_2_binary_accuracy: 0.5052 - val_digestibility_output_3_binary_accuracy: 0.8726 - val_detectability_output_binary_accuracy: 0.8281\n",
      "Epoch 122/300\n",
      "2124/2124 [==============================] - 91s 43ms/step - loss: 1.9488 - digestibility_output_loss: 0.3773 - digestibility_output_1_loss: 0.3783 - digestibility_output_2_loss: 0.6244 - digestibility_output_3_loss: 0.2245 - detectability_output_loss: 0.3442 - digestibility_output_binary_accuracy: 0.8158 - digestibility_output_1_binary_accuracy: 0.8158 - digestibility_output_2_binary_accuracy: 0.5111 - digestibility_output_3_binary_accuracy: 0.8777 - detectability_output_binary_accuracy: 0.8483 - val_loss: 1.9875 - val_digestibility_output_loss: 0.3748 - val_digestibility_output_1_loss: 0.3781 - val_digestibility_output_2_loss: 0.6268 - val_digestibility_output_3_loss: 0.2255 - val_detectability_output_loss: 0.3824 - val_digestibility_output_binary_accuracy: 0.8235 - val_digestibility_output_1_binary_accuracy: 0.8192 - val_digestibility_output_2_binary_accuracy: 0.5029 - val_digestibility_output_3_binary_accuracy: 0.8695 - val_detectability_output_binary_accuracy: 0.8287\n",
      "Epoch 123/300\n",
      "2124/2124 [==============================] - 91s 43ms/step - loss: 1.9476 - digestibility_output_loss: 0.3770 - digestibility_output_1_loss: 0.3776 - digestibility_output_2_loss: 0.6248 - digestibility_output_3_loss: 0.2235 - detectability_output_loss: 0.3447 - digestibility_output_binary_accuracy: 0.8150 - digestibility_output_1_binary_accuracy: 0.8166 - digestibility_output_2_binary_accuracy: 0.5101 - digestibility_output_3_binary_accuracy: 0.8797 - detectability_output_binary_accuracy: 0.8486 - val_loss: 1.9884 - val_digestibility_output_loss: 0.3801 - val_digestibility_output_1_loss: 0.3842 - val_digestibility_output_2_loss: 0.6187 - val_digestibility_output_3_loss: 0.2224 - val_detectability_output_loss: 0.3829 - val_digestibility_output_binary_accuracy: 0.8191 - val_digestibility_output_1_binary_accuracy: 0.8120 - val_digestibility_output_2_binary_accuracy: 0.5087 - val_digestibility_output_3_binary_accuracy: 0.8735 - val_detectability_output_binary_accuracy: 0.8274\n",
      "Epoch 124/300\n",
      "2124/2124 [==============================] - 89s 42ms/step - loss: 1.9464 - digestibility_output_loss: 0.3770 - digestibility_output_1_loss: 0.3782 - digestibility_output_2_loss: 0.6235 - digestibility_output_3_loss: 0.2245 - detectability_output_loss: 0.3432 - digestibility_output_binary_accuracy: 0.8167 - digestibility_output_1_binary_accuracy: 0.8165 - digestibility_output_2_binary_accuracy: 0.5105 - digestibility_output_3_binary_accuracy: 0.8768 - detectability_output_binary_accuracy: 0.8498 - val_loss: 1.9897 - val_digestibility_output_loss: 0.3790 - val_digestibility_output_1_loss: 0.3798 - val_digestibility_output_2_loss: 0.6227 - val_digestibility_output_3_loss: 0.2235 - val_detectability_output_loss: 0.3847 - val_digestibility_output_binary_accuracy: 0.8138 - val_digestibility_output_1_binary_accuracy: 0.8123 - val_digestibility_output_2_binary_accuracy: 0.5092 - val_digestibility_output_3_binary_accuracy: 0.8785 - val_detectability_output_binary_accuracy: 0.8271\n",
      "Epoch 125/300\n",
      " 541/2124 [======>.......................] - ETA: 59s - loss: 1.9476 - digestibility_output_loss: 0.3773 - digestibility_output_1_loss: 0.3775 - digestibility_output_2_loss: 0.6234 - digestibility_output_3_loss: 0.2239 - detectability_output_loss: 0.3455 - digestibility_output_binary_accuracy: 0.8132 - digestibility_output_1_binary_accuracy: 0.8139 - digestibility_output_2_binary_accuracy: 0.5112 - digestibility_output_3_binary_accuracy: 0.8801 - detectability_output_binary_accuracy: 0.8469"
     ]
    },
    {
     "ename": "KeyboardInterrupt",
     "evalue": "",
     "output_type": "error",
     "traceback": [
      "\u001b[0;31m---------------------------------------------------------------------------\u001b[0m",
      "\u001b[0;31mKeyboardInterrupt\u001b[0m                         Traceback (most recent call last)",
      "\u001b[0;32m<ipython-input-68-1eb39881bb2a>\u001b[0m in \u001b[0;36m<module>\u001b[0;34m\u001b[0m\n\u001b[1;32m      6\u001b[0m             validation_data=(\n\u001b[1;32m      7\u001b[0m             \u001b[0;34m[\u001b[0m\u001b[0mpep_val\u001b[0m\u001b[0;34m,\u001b[0m \u001b[0maa_val\u001b[0m\u001b[0;34m,\u001b[0m \u001b[0men_val\u001b[0m\u001b[0;34m,\u001b[0m \u001b[0mec_val\u001b[0m\u001b[0;34m,\u001b[0m \u001b[0me1_val\u001b[0m\u001b[0;34m,\u001b[0m \u001b[0me2_val\u001b[0m\u001b[0;34m]\u001b[0m\u001b[0;34m,\u001b[0m\u001b[0;34m\u001b[0m\u001b[0m\n\u001b[0;32m----> 8\u001b[0;31m             [np.array([1]*len(y_val)), np.array([1]*len(y_val)), np.array([0]*len(y_val)), np.array([0]*len(y_val)), y_val]),\n\u001b[0m\u001b[1;32m      9\u001b[0m \u001b[0;31m#             callbacks=[es]\u001b[0m\u001b[0;34m\u001b[0m\u001b[0;34m\u001b[0m\u001b[0m\n\u001b[1;32m     10\u001b[0m )\n",
      "\u001b[0;32m~/miniconda3/envs/TF2.4/lib/python3.7/site-packages/tensorflow/python/keras/engine/training.py\u001b[0m in \u001b[0;36mfit\u001b[0;34m(self, x, y, batch_size, epochs, verbose, callbacks, validation_split, validation_data, shuffle, class_weight, sample_weight, initial_epoch, steps_per_epoch, validation_steps, validation_batch_size, validation_freq, max_queue_size, workers, use_multiprocessing)\u001b[0m\n\u001b[1;32m   1098\u001b[0m                 _r=1):\n\u001b[1;32m   1099\u001b[0m               \u001b[0mcallbacks\u001b[0m\u001b[0;34m.\u001b[0m\u001b[0mon_train_batch_begin\u001b[0m\u001b[0;34m(\u001b[0m\u001b[0mstep\u001b[0m\u001b[0;34m)\u001b[0m\u001b[0;34m\u001b[0m\u001b[0m\n\u001b[0;32m-> 1100\u001b[0;31m               \u001b[0mtmp_logs\u001b[0m \u001b[0;34m=\u001b[0m \u001b[0mself\u001b[0m\u001b[0;34m.\u001b[0m\u001b[0mtrain_function\u001b[0m\u001b[0;34m(\u001b[0m\u001b[0miterator\u001b[0m\u001b[0;34m)\u001b[0m\u001b[0;34m\u001b[0m\u001b[0m\n\u001b[0m\u001b[1;32m   1101\u001b[0m               \u001b[0;32mif\u001b[0m \u001b[0mdata_handler\u001b[0m\u001b[0;34m.\u001b[0m\u001b[0mshould_sync\u001b[0m\u001b[0;34m:\u001b[0m\u001b[0;34m\u001b[0m\u001b[0m\n\u001b[1;32m   1102\u001b[0m                 \u001b[0mcontext\u001b[0m\u001b[0;34m.\u001b[0m\u001b[0masync_wait\u001b[0m\u001b[0;34m(\u001b[0m\u001b[0;34m)\u001b[0m\u001b[0;34m\u001b[0m\u001b[0m\n",
      "\u001b[0;32m~/miniconda3/envs/TF2.4/lib/python3.7/site-packages/tensorflow/python/eager/def_function.py\u001b[0m in \u001b[0;36m__call__\u001b[0;34m(self, *args, **kwds)\u001b[0m\n\u001b[1;32m    826\u001b[0m     \u001b[0mtracing_count\u001b[0m \u001b[0;34m=\u001b[0m \u001b[0mself\u001b[0m\u001b[0;34m.\u001b[0m\u001b[0mexperimental_get_tracing_count\u001b[0m\u001b[0;34m(\u001b[0m\u001b[0;34m)\u001b[0m\u001b[0;34m\u001b[0m\u001b[0m\n\u001b[1;32m    827\u001b[0m     \u001b[0;32mwith\u001b[0m \u001b[0mtrace\u001b[0m\u001b[0;34m.\u001b[0m\u001b[0mTrace\u001b[0m\u001b[0;34m(\u001b[0m\u001b[0mself\u001b[0m\u001b[0;34m.\u001b[0m\u001b[0m_name\u001b[0m\u001b[0;34m)\u001b[0m \u001b[0;32mas\u001b[0m \u001b[0mtm\u001b[0m\u001b[0;34m:\u001b[0m\u001b[0;34m\u001b[0m\u001b[0m\n\u001b[0;32m--> 828\u001b[0;31m       \u001b[0mresult\u001b[0m \u001b[0;34m=\u001b[0m \u001b[0mself\u001b[0m\u001b[0;34m.\u001b[0m\u001b[0m_call\u001b[0m\u001b[0;34m(\u001b[0m\u001b[0;34m*\u001b[0m\u001b[0margs\u001b[0m\u001b[0;34m,\u001b[0m \u001b[0;34m**\u001b[0m\u001b[0mkwds\u001b[0m\u001b[0;34m)\u001b[0m\u001b[0;34m\u001b[0m\u001b[0m\n\u001b[0m\u001b[1;32m    829\u001b[0m       \u001b[0mcompiler\u001b[0m \u001b[0;34m=\u001b[0m \u001b[0;34m\"xla\"\u001b[0m \u001b[0;32mif\u001b[0m \u001b[0mself\u001b[0m\u001b[0;34m.\u001b[0m\u001b[0m_experimental_compile\u001b[0m \u001b[0;32melse\u001b[0m \u001b[0;34m\"nonXla\"\u001b[0m\u001b[0;34m\u001b[0m\u001b[0m\n\u001b[1;32m    830\u001b[0m       \u001b[0mnew_tracing_count\u001b[0m \u001b[0;34m=\u001b[0m \u001b[0mself\u001b[0m\u001b[0;34m.\u001b[0m\u001b[0mexperimental_get_tracing_count\u001b[0m\u001b[0;34m(\u001b[0m\u001b[0;34m)\u001b[0m\u001b[0;34m\u001b[0m\u001b[0m\n",
      "\u001b[0;32m~/miniconda3/envs/TF2.4/lib/python3.7/site-packages/tensorflow/python/eager/def_function.py\u001b[0m in \u001b[0;36m_call\u001b[0;34m(self, *args, **kwds)\u001b[0m\n\u001b[1;32m    853\u001b[0m       \u001b[0;31m# In this case we have created variables on the first call, so we run the\u001b[0m\u001b[0;34m\u001b[0m\u001b[0;34m\u001b[0m\u001b[0m\n\u001b[1;32m    854\u001b[0m       \u001b[0;31m# defunned version which is guaranteed to never create variables.\u001b[0m\u001b[0;34m\u001b[0m\u001b[0;34m\u001b[0m\u001b[0m\n\u001b[0;32m--> 855\u001b[0;31m       \u001b[0;32mreturn\u001b[0m \u001b[0mself\u001b[0m\u001b[0;34m.\u001b[0m\u001b[0m_stateless_fn\u001b[0m\u001b[0;34m(\u001b[0m\u001b[0;34m*\u001b[0m\u001b[0margs\u001b[0m\u001b[0;34m,\u001b[0m \u001b[0;34m**\u001b[0m\u001b[0mkwds\u001b[0m\u001b[0;34m)\u001b[0m  \u001b[0;31m# pylint: disable=not-callable\u001b[0m\u001b[0;34m\u001b[0m\u001b[0m\n\u001b[0m\u001b[1;32m    856\u001b[0m     \u001b[0;32melif\u001b[0m \u001b[0mself\u001b[0m\u001b[0;34m.\u001b[0m\u001b[0m_stateful_fn\u001b[0m \u001b[0;32mis\u001b[0m \u001b[0;32mnot\u001b[0m \u001b[0;32mNone\u001b[0m\u001b[0;34m:\u001b[0m\u001b[0;34m\u001b[0m\u001b[0m\n\u001b[1;32m    857\u001b[0m       \u001b[0;31m# Release the lock early so that multiple threads can perform the call\u001b[0m\u001b[0;34m\u001b[0m\u001b[0;34m\u001b[0m\u001b[0m\n",
      "\u001b[0;32m~/miniconda3/envs/TF2.4/lib/python3.7/site-packages/tensorflow/python/eager/function.py\u001b[0m in \u001b[0;36m__call__\u001b[0;34m(self, *args, **kwargs)\u001b[0m\n\u001b[1;32m   2941\u001b[0m        filtered_flat_args) = self._maybe_define_function(args, kwargs)\n\u001b[1;32m   2942\u001b[0m     return graph_function._call_flat(\n\u001b[0;32m-> 2943\u001b[0;31m         filtered_flat_args, captured_inputs=graph_function.captured_inputs)  # pylint: disable=protected-access\n\u001b[0m\u001b[1;32m   2944\u001b[0m \u001b[0;34m\u001b[0m\u001b[0m\n\u001b[1;32m   2945\u001b[0m   \u001b[0;34m@\u001b[0m\u001b[0mproperty\u001b[0m\u001b[0;34m\u001b[0m\u001b[0m\n",
      "\u001b[0;32m~/miniconda3/envs/TF2.4/lib/python3.7/site-packages/tensorflow/python/eager/function.py\u001b[0m in \u001b[0;36m_call_flat\u001b[0;34m(self, args, captured_inputs, cancellation_manager)\u001b[0m\n\u001b[1;32m   1917\u001b[0m       \u001b[0;31m# No tape is watching; skip to running the function.\u001b[0m\u001b[0;34m\u001b[0m\u001b[0;34m\u001b[0m\u001b[0m\n\u001b[1;32m   1918\u001b[0m       return self._build_call_outputs(self._inference_function.call(\n\u001b[0;32m-> 1919\u001b[0;31m           ctx, args, cancellation_manager=cancellation_manager))\n\u001b[0m\u001b[1;32m   1920\u001b[0m     forward_backward = self._select_forward_and_backward_functions(\n\u001b[1;32m   1921\u001b[0m         \u001b[0margs\u001b[0m\u001b[0;34m,\u001b[0m\u001b[0;34m\u001b[0m\u001b[0m\n",
      "\u001b[0;32m~/miniconda3/envs/TF2.4/lib/python3.7/site-packages/tensorflow/python/eager/function.py\u001b[0m in \u001b[0;36mcall\u001b[0;34m(self, ctx, args, cancellation_manager)\u001b[0m\n\u001b[1;32m    558\u001b[0m               \u001b[0minputs\u001b[0m\u001b[0;34m=\u001b[0m\u001b[0margs\u001b[0m\u001b[0;34m,\u001b[0m\u001b[0;34m\u001b[0m\u001b[0m\n\u001b[1;32m    559\u001b[0m               \u001b[0mattrs\u001b[0m\u001b[0;34m=\u001b[0m\u001b[0mattrs\u001b[0m\u001b[0;34m,\u001b[0m\u001b[0;34m\u001b[0m\u001b[0m\n\u001b[0;32m--> 560\u001b[0;31m               ctx=ctx)\n\u001b[0m\u001b[1;32m    561\u001b[0m         \u001b[0;32melse\u001b[0m\u001b[0;34m:\u001b[0m\u001b[0;34m\u001b[0m\u001b[0m\n\u001b[1;32m    562\u001b[0m           outputs = execute.execute_with_cancellation(\n",
      "\u001b[0;32m~/miniconda3/envs/TF2.4/lib/python3.7/site-packages/tensorflow/python/eager/execute.py\u001b[0m in \u001b[0;36mquick_execute\u001b[0;34m(op_name, num_outputs, inputs, attrs, ctx, name)\u001b[0m\n\u001b[1;32m     58\u001b[0m     \u001b[0mctx\u001b[0m\u001b[0;34m.\u001b[0m\u001b[0mensure_initialized\u001b[0m\u001b[0;34m(\u001b[0m\u001b[0;34m)\u001b[0m\u001b[0;34m\u001b[0m\u001b[0m\n\u001b[1;32m     59\u001b[0m     tensors = pywrap_tfe.TFE_Py_Execute(ctx._handle, device_name, op_name,\n\u001b[0;32m---> 60\u001b[0;31m                                         inputs, attrs, num_outputs)\n\u001b[0m\u001b[1;32m     61\u001b[0m   \u001b[0;32mexcept\u001b[0m \u001b[0mcore\u001b[0m\u001b[0;34m.\u001b[0m\u001b[0m_NotOkStatusException\u001b[0m \u001b[0;32mas\u001b[0m \u001b[0me\u001b[0m\u001b[0;34m:\u001b[0m\u001b[0;34m\u001b[0m\u001b[0m\n\u001b[1;32m     62\u001b[0m     \u001b[0;32mif\u001b[0m \u001b[0mname\u001b[0m \u001b[0;32mis\u001b[0m \u001b[0;32mnot\u001b[0m \u001b[0;32mNone\u001b[0m\u001b[0;34m:\u001b[0m\u001b[0;34m\u001b[0m\u001b[0m\n",
      "\u001b[0;31mKeyboardInterrupt\u001b[0m: "
     ]
    }
   ],
   "source": [
    "history = model_high.fit(\n",
    "            [pep_train, aa_train, en_train, ec_train, e1_train, e2_train],\n",
    "            [np.array([1]*len(y_train)), np.array([1]*len(y_train)), np.array([0]*len(y_train)), np.array([0]*len(y_train)), y_train], \n",
    "            epochs=100,\n",
    "            batch_size=256,\n",
    "            validation_data=(\n",
    "            [pep_val, aa_val, en_val, ec_val, e1_val, e2_val],\n",
    "            [np.array([1]*len(y_val)), np.array([1]*len(y_val)), np.array([0]*len(y_val)), np.array([0]*len(y_val)), y_val]),\n",
    "#             callbacks=[es]\n",
    ")"
   ]
  },
  {
   "cell_type": "code",
   "execution_count": null,
   "metadata": {
    "ExecuteTime": {
     "end_time": "2021-11-14T22:37:28.666733Z",
     "start_time": "2021-11-14T19:34:45.277Z"
    }
   },
   "outputs": [],
   "source": [
    "plt.figure(figsize=(16,2))\n",
    "plt.subplot(1,2,1)\n",
    "plot_graphs(history, 'accuracy')\n",
    "plt.subplot(1,2,2)\n",
    "plot_graphs(history, 'loss')"
   ]
  },
  {
   "cell_type": "markdown",
   "metadata": {},
   "source": [
    "# eval"
   ]
  },
  {
   "cell_type": "code",
   "execution_count": null,
   "metadata": {
    "ExecuteTime": {
     "end_time": "2021-11-14T22:37:28.667443Z",
     "start_time": "2021-11-14T19:35:09.298Z"
    },
    "scrolled": false
   },
   "outputs": [],
   "source": [
    "test_loss, test_acc = model_high.evaluate([pep_test, aa_test, en_test, ec_test, e1_test, e2_test], y_test)\n",
    "print('Test Loss: {}'.format(test_loss))\n",
    "print('Test Accuracy: {}'.format(test_acc))\n",
    "\n",
    "# prediction\n",
    "y_pred = [1 if i>=0.5 else 0 for i in model_high.predict([pep_test, aa_test, en_test, ec_test, e1_test, e2_test])]\n",
    "print(classification_report(y_test, y_pred))\n",
    "# AUC\n",
    "probs = model_high.predict([pep_test, aa_test, en_test, ec_test, e1_test, e2_test])\n",
    "rf_auc = roc_auc_score(y_test, probs)\n",
    "print('rf auc : {}'.format(rf_auc))\n",
    "# plot the roc curve for the model_high\n",
    "rf_fpr, rf_tpr, _ = roc_curve(y_test, probs)\n",
    "plt.figure(figsize=(4, 4))\n",
    "plt.plot(rf_fpr, rf_tpr, marker='.', label='RF AUC = {:.4f}'.format(rf_auc), color='orange')\n",
    "plt.title('ROC curve')\n",
    "# axis labels\n",
    "plt.xlabel('False Positive Rate')\n",
    "plt.ylabel('True Positive Rate')\n",
    "# show the legend\n",
    "plt.legend()\n",
    "# show the plot\n",
    "plt.show()\n",
    "\n",
    "cf_matrix = confusion_matrix(y_test, y_pred)\n",
    "plt.figure(figsize=(3, 3))\n",
    "sns.heatmap(cf_matrix, annot=True, fmt=',.0f')\n",
    "plt.show()\n",
    "plt.figure(figsize=(3, 3))\n",
    "sns.heatmap(cf_matrix/np.sum(cf_matrix), annot=True, \n",
    "            fmt='.2%', cmap='Blues')\n",
    "plt.show()"
   ]
  },
  {
   "cell_type": "code",
   "execution_count": null,
   "metadata": {},
   "outputs": [],
   "source": []
  }
 ],
 "metadata": {
  "kernelspec": {
   "display_name": "TF2.4",
   "language": "python",
   "name": "tf2.4"
  },
  "language_info": {
   "codemirror_mode": {
    "name": "ipython",
    "version": 3
   },
   "file_extension": ".py",
   "mimetype": "text/x-python",
   "name": "python",
   "nbconvert_exporter": "python",
   "pygments_lexer": "ipython3",
   "version": "3.7.0"
  }
 },
 "nbformat": 4,
 "nbformat_minor": 4
}
