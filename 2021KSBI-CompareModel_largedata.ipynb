{
 "cells": [
  {
   "cell_type": "markdown",
   "metadata": {},
   "source": [
    "# Compare : other model\n",
    "\n",
    "  - 2019ACS : AP3 \n",
    "    - Acc : 0.7843, AUC : 0.8679  \n",
    "    \n",
    "  - 2019Bioinformatics : DeepMSpeptide \n",
    "    - Acc : 0.8224, AUC : 0.8991\n",
    "  \n",
    "  - 2021ACS : PepFormer\n",
    "    - Acc : 0.8254, AUC : 0.9085\n",
    "  \n",
    "  - 2021KSBI : \n",
    "    - Acc : 0.8374, AUC : 0.9177\n",
    "    \n",
    "  - CNN + LSTM\n",
    "    - ACC : 0.8283, AUC : 0.9106"
   ]
  },
  {
   "cell_type": "code",
   "execution_count": null,
   "metadata": {},
   "outputs": [],
   "source": []
  },
  {
   "cell_type": "code",
   "execution_count": null,
   "metadata": {},
   "outputs": [],
   "source": []
  }
 ],
 "metadata": {
  "kernelspec": {
   "display_name": "TF2.4",
   "language": "python",
   "name": "tf2.4"
  },
  "language_info": {
   "codemirror_mode": {
    "name": "ipython",
    "version": 3
   },
   "file_extension": ".py",
   "mimetype": "text/x-python",
   "name": "python",
   "nbconvert_exporter": "python",
   "pygments_lexer": "ipython3",
   "version": "3.7.0"
  }
 },
 "nbformat": 4,
 "nbformat_minor": 4
}
