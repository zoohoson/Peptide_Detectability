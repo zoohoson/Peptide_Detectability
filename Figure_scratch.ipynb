{
 "cells": [
  {
   "cell_type": "code",
   "execution_count": 46,
   "id": "1731dc37",
   "metadata": {
    "ExecuteTime": {
     "end_time": "2023-01-28T12:03:17.795190Z",
     "start_time": "2023-01-28T12:03:17.792725Z"
    }
   },
   "outputs": [],
   "source": [
    "import numpy as np\n",
    "import matplotlib.pyplot as plt\n",
    "from sklearn.metrics import roc_auc_score, classification_report\n",
    "\n",
    "import pandas as pd"
   ]
  },
  {
   "cell_type": "code",
   "execution_count": 47,
   "id": "d2b9c2e4",
   "metadata": {
    "ExecuteTime": {
     "end_time": "2023-01-28T12:03:24.258392Z",
     "start_time": "2023-01-28T12:03:17.919713Z"
    }
   },
   "outputs": [
    {
     "name": "stdout",
     "output_type": "stream",
     "text": [
      "[170706, 170706, 170706, 170706, 170706]\n",
      "170706 170706 170706 170706\n",
      "170706\n"
     ]
    }
   ],
   "source": [
    "# label order double check\n",
    "true_capsnet = np.load('log/result_massivekb_ytrue_capsnet.npy')\n",
    "true_ap3 = np.load('log/result_massivekb_ytrue_ap3.npy')\n",
    "true_ap3 = np.array(list(map(int, true_ap3)))\n",
    "true_pepformer = np.load('log/result_massivekb_ytrue_PepFormer.npy')\n",
    "true_deepmspeptide = np.load('log/result_massivekb_ytrue_deepmspeptide.npy')\n",
    "true_deepmspeptide = np.array(list(map(int, true_deepmspeptide)))\n",
    "true_dbydeep = np.load('log/result_massivekb_ytrue_dbydeep.npy')\n",
    "true_dbydeep = np.array(list(map(int, true_dbydeep)))\n",
    "\n",
    "print(list(map(len, [true_capsnet, true_ap3, true_pepformer, true_deepmspeptide, true_dbydeep])))\n",
    "print(\n",
    "    sum(true_dbydeep == true_ap3),\n",
    "    sum(true_dbydeep == true_deepmspeptide), \n",
    "    sum(true_dbydeep == true_capsnet),\n",
    "    sum(true_dbydeep == true_pepformer),\n",
    ")\n",
    "\n",
    "df_test = pd.read_csv('/data/2021_SJH_detectability/data_human/test.csv')\n",
    "print(len(df_test.label.values==true_dbydeep))\n",
    "\n",
    "# get probability of models\n",
    "prob_capsnet = np.load('log/result_massivekb_yprob_capsnet.npy')\n",
    "prob_capsnet = np.array(list(map(lambda x: round(x, 4), prob_capsnet)))\n",
    "prob_ap3 = np.load('log/result_massivekb_yprob_ap3.npy')\n",
    "prob_ap3 = np.array(list(map(lambda x: round(x, 4), prob_ap3)))\n",
    "prob_pepformer = np.load('log/result_massivekb_yprob_PepFormer.npy')\n",
    "prob_pepformer = np.array(list(map(lambda x: round(x, 4), prob_pepformer)))\n",
    "prob_deepmspeptide = np.load('log/result_massivekb_yprob_deepmspeptide.npy')\n",
    "prob_deepmspeptide = np.array(list(map(lambda x: round(x, 4), prob_deepmspeptide.reshape(-1))))\n",
    "prob_dbydeep = np.load('log/result_massivekb_yprob_dbydeep.npy')\n",
    "prob_dbydeep = np.array(list(map(lambda x: round(x, 4), prob_dbydeep.reshape(-1))))\n",
    "\n",
    "df_test[['prob_dbydeep', 'prob_deepmspeptide', 'prob_capsnet', 'prob_pepformer', 'prob_ap3']] = np.array([\n",
    "    prob_dbydeep, \n",
    "    prob_deepmspeptide, \n",
    "    prob_capsnet, \n",
    "    prob_pepformer, \n",
    "    prob_ap3]).T\n",
    "\n",
    "pred_capsnet = np.load('log/result_massivekb_ypred_capsnet.npy')\n",
    "pred_ap3 = np.load('log/result_massivekb_ypred_ap3.npy')\n",
    "pred_ap3 = np.array(list(map(int, pred_ap3)))\n",
    "pred_pepformer = np.load('log/result_massivekb_ypred_PepFormer.npy')\n",
    "pred_deepmspeptide = np.load('log/result_massivekb_ypred_deepmspeptide.npy')\n",
    "pred_dbydeep = np.load('log/result_massivekb_ypred_dbydeep.npy')\n",
    "\n",
    "df_test[['pred_dbydeep', 'pred_deepmspeptide', 'pred_capsnet', 'pred_pepformer', 'pred_ap3']] = np.array([\n",
    "    pred_dbydeep, \n",
    "    pred_deepmspeptide, \n",
    "    pred_capsnet, \n",
    "    pred_pepformer, \n",
    "    pred_ap3]).T"
   ]
  },
  {
   "cell_type": "markdown",
   "id": "8f68f2a0",
   "metadata": {},
   "source": [
    "# Sequence identity : feasibility"
   ]
  },
  {
   "cell_type": "code",
   "execution_count": 49,
   "id": "fbbd6881",
   "metadata": {
    "ExecuteTime": {
     "end_time": "2023-01-28T12:03:32.217457Z",
     "start_time": "2023-01-28T12:03:32.162839Z"
    }
   },
   "outputs": [
    {
     "data": {
      "text/html": [
       "<div>\n",
       "<style scoped>\n",
       "    .dataframe tbody tr th:only-of-type {\n",
       "        vertical-align: middle;\n",
       "    }\n",
       "\n",
       "    .dataframe tbody tr th {\n",
       "        vertical-align: top;\n",
       "    }\n",
       "\n",
       "    .dataframe thead th {\n",
       "        text-align: right;\n",
       "    }\n",
       "</style>\n",
       "<table border=\"1\" class=\"dataframe\">\n",
       "  <thead>\n",
       "    <tr style=\"text-align: right;\">\n",
       "      <th></th>\n",
       "      <th>peptide</th>\n",
       "      <th>nterm</th>\n",
       "      <th>cterm</th>\n",
       "      <th>miss1</th>\n",
       "      <th>miss2</th>\n",
       "      <th>label</th>\n",
       "      <th>prob_dbydeep</th>\n",
       "      <th>prob_deepmspeptide</th>\n",
       "      <th>prob_capsnet</th>\n",
       "      <th>prob_pepformer</th>\n",
       "      <th>prob_ap3</th>\n",
       "      <th>pred_dbydeep</th>\n",
       "      <th>pred_deepmspeptide</th>\n",
       "      <th>pred_capsnet</th>\n",
       "      <th>pred_pepformer</th>\n",
       "      <th>pred_ap3</th>\n",
       "    </tr>\n",
       "  </thead>\n",
       "  <tbody>\n",
       "    <tr>\n",
       "      <th>15</th>\n",
       "      <td>SQSTQISQELEELR</td>\n",
       "      <td>HGDQMAQKSQSTQIS</td>\n",
       "      <td>SQELEELRAEQQRLK</td>\n",
       "      <td>ZZZZZZZZZZZZZZZ</td>\n",
       "      <td>ZZZZZZZZZZZZZZZ</td>\n",
       "      <td>True</td>\n",
       "      <td>0.9819</td>\n",
       "      <td>0.9394</td>\n",
       "      <td>0.9287</td>\n",
       "      <td>1.9078</td>\n",
       "      <td>0.985</td>\n",
       "      <td>1</td>\n",
       "      <td>1</td>\n",
       "      <td>1</td>\n",
       "      <td>1</td>\n",
       "      <td>1</td>\n",
       "    </tr>\n",
       "    <tr>\n",
       "      <th>2142</th>\n",
       "      <td>GFRVILEELK</td>\n",
       "      <td>ALGIEFLKGFRVILE</td>\n",
       "      <td>RVILEELKSEGRQCQ</td>\n",
       "      <td>IEFLKGFRVILEELK</td>\n",
       "      <td>ZZZZZZZZZZZZZZZ</td>\n",
       "      <td>True</td>\n",
       "      <td>0.4483</td>\n",
       "      <td>0.6466</td>\n",
       "      <td>0.5929</td>\n",
       "      <td>-0.0158</td>\n",
       "      <td>0.830</td>\n",
       "      <td>0</td>\n",
       "      <td>1</td>\n",
       "      <td>0</td>\n",
       "      <td>1</td>\n",
       "      <td>1</td>\n",
       "    </tr>\n",
       "  </tbody>\n",
       "</table>\n",
       "</div>"
      ],
      "text/plain": [
       "             peptide            nterm            cterm            miss1  \\\n",
       "15    SQSTQISQELEELR  HGDQMAQKSQSTQIS  SQELEELRAEQQRLK  ZZZZZZZZZZZZZZZ   \n",
       "2142      GFRVILEELK  ALGIEFLKGFRVILE  RVILEELKSEGRQCQ  IEFLKGFRVILEELK   \n",
       "\n",
       "                miss2  label  prob_dbydeep  prob_deepmspeptide  prob_capsnet  \\\n",
       "15    ZZZZZZZZZZZZZZZ   True        0.9819              0.9394        0.9287   \n",
       "2142  ZZZZZZZZZZZZZZZ   True        0.4483              0.6466        0.5929   \n",
       "\n",
       "      prob_pepformer  prob_ap3  pred_dbydeep  pred_deepmspeptide  \\\n",
       "15            1.9078     0.985             1                   1   \n",
       "2142         -0.0158     0.830             0                   1   \n",
       "\n",
       "      pred_capsnet  pred_pepformer  pred_ap3  \n",
       "15               1               1         1  \n",
       "2142             0               1         1  "
      ]
     },
     "execution_count": 49,
     "metadata": {},
     "output_type": "execute_result"
    }
   ],
   "source": [
    "df_test[df_test.cterm.apply(lambda x: x[3:7])=='LEEL'].head(2)"
   ]
  },
  {
   "cell_type": "markdown",
   "id": "c8ae5a7e",
   "metadata": {},
   "source": [
    "# Sequence identity : whole"
   ]
  },
  {
   "cell_type": "code",
   "execution_count": 71,
   "id": "0ba9d62c",
   "metadata": {
    "ExecuteTime": {
     "end_time": "2023-01-28T12:39:42.067300Z",
     "start_time": "2023-01-28T12:39:40.555091Z"
    }
   },
   "outputs": [],
   "source": [
    "percentile = 0.8\n",
    "\n",
    "df_train = pd.read_csv('/data/2021_SJH_detectability/data_human/train.csv')\n",
    "df_train = df_train.loc[df_train.label==True]\n",
    "\n",
    "tmp1 = df_train.peptide.apply(lambda s: s[-int(len(s)*percentile):]).values\n",
    "tmp2 = df_train.peptide.values\n",
    "half_seqs = {k:v for k, v in zip(tmp2, tmp1)}"
   ]
  },
  {
   "cell_type": "code",
   "execution_count": null,
   "id": "943c5c9e",
   "metadata": {
    "ExecuteTime": {
     "start_time": "2023-01-28T12:45:02.747Z"
    },
    "scrolled": false
   },
   "outputs": [
    {
     "name": "stdout",
     "output_type": "stream",
     "text": [
      "312\n",
      "('AIEINPDSAQPYKWR', 'AIEINPDSAQPYK', True, 0.93, 0.79, 0.86, 1.13, 0.77, 1)\n",
      "('AIEINPDSAQPYKWRGK', 'AIEINPDSAQPYK', True, 0.24, 0.42, 0.33, -1.58, 0.27, 0)\n",
      "('AIEINPDSAQPYKR', 'AIEINPDSAQPYK', True, 0.97, 0.94, 0.89, 1.4, 0.87, 1)\n",
      "1207\n",
      "('SCLHDELLFTVEREK', 'CLHDELLFTVER', True, 0.75, 0.78, 0.75, 0.52, 0.59, 1)\n",
      "('SCLHDELLFTVEREKR', 'CLHDELLFTVER', False, 0.26, 0.06, 0.34, -0.78, 0.19, 0)\n",
      "2088\n",
      "('TKLEQQVDDLEGSLEQEKK', 'LEQQVDDLEGSLEQEK', True, 0.96, 0.96, 0.87, 1.0, 0.78, 1)\n",
      "('LEQQVDDLEGSLEQEKK', 'LEQQVDDLEGSLEQEK', True, 0.97, 0.91, 0.92, 1.41, 0.78, 1)\n",
      "('IKLEQQVDDLEGSLEQEKK', 'LEQQVDDLEGSLEQEK', True, 0.97, 0.92, 0.87, 1.1, 0.73, 1)\n",
      "('LEQQVDDLEGSLEQEKK', 'LEQQVDDLEGSLEQEK', True, 0.97, 0.91, 0.92, 1.41, 0.78, 1)\n",
      "2324\n",
      "('TKLEQQVDDLEGSLEQEKK', 'LEQQVDDLEGSLEQEK', True, 0.96, 0.96, 0.87, 1.0, 0.78, 1)\n",
      "('LEQQVDDLEGSLEQEKK', 'LEQQVDDLEGSLEQEK', True, 0.97, 0.91, 0.92, 1.41, 0.78, 1)\n",
      "('IKLEQQVDDLEGSLEQEKK', 'LEQQVDDLEGSLEQEK', True, 0.97, 0.92, 0.87, 1.1, 0.73, 1)\n",
      "('LEQQVDDLEGSLEQEKK', 'LEQQVDDLEGSLEQEK', True, 0.97, 0.91, 0.92, 1.41, 0.78, 1)\n"
     ]
    }
   ],
   "source": [
    "result = dict()\n",
    "for idx1, (pep, half_pep) in enumerate(half_seqs.items()):\n",
    "    dic = {pep:[]}\n",
    "    for idx, (s, label, dbydeep, deepmspeptide, capsnet, pepformer, pepformer_lab, ap3) in enumerate(df_test[['peptide', 'label', 'prob_dbydeep', 'prob_deepmspeptide', 'prob_capsnet', 'prob_pepformer', 'pred_pepformer', 'prob_ap3']].values):\n",
    "        dbydeep, deepmspeptide, capsnet, pepformer, ap3 = list(map(lambda x: round(x, 2), [dbydeep, deepmspeptide, capsnet, pepformer, ap3]))\n",
    "#         if pep == s:\n",
    "#             dic[pep].append((s, half_pep, label, dbydeep, deepmspeptide, capsnet, pepformer, ap3, pepformer_lab))\n",
    "        if len(s) <= len(pep) and half_pep in s and s[-len(half_pep):] != half_pep:  #  and pep not in s\n",
    "            dic[pep].append((s, half_pep, label, dbydeep, deepmspeptide, capsnet, pepformer, ap3, pepformer_lab))\n",
    "\n",
    "    if len(dic[pep]) >= 2:\n",
    "        print(idx1)\n",
    "        for k, v in dic.items():\n",
    "            for v_ in v:\n",
    "                print(v_)\n",
    "        result[pep] = dic"
   ]
  },
  {
   "cell_type": "code",
   "execution_count": null,
   "id": "a0e6529a",
   "metadata": {
    "ExecuteTime": {
     "start_time": "2023-01-29T11:53:57.671Z"
    }
   },
   "outputs": [],
   "source": [
    "result"
   ]
  }
 ],
 "metadata": {
  "kernelspec": {
   "display_name": "dbydeep",
   "language": "python",
   "name": "dbydeep"
  },
  "language_info": {
   "codemirror_mode": {
    "name": "ipython",
    "version": 3
   },
   "file_extension": ".py",
   "mimetype": "text/x-python",
   "name": "python",
   "nbconvert_exporter": "python",
   "pygments_lexer": "ipython3",
   "version": "3.8.13"
  }
 },
 "nbformat": 4,
 "nbformat_minor": 5
}
