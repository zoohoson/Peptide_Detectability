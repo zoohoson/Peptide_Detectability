{
 "cells": [
  {
   "cell_type": "code",
   "execution_count": 9,
   "metadata": {
    "ExecuteTime": {
     "end_time": "2021-09-16T15:18:08.761649Z",
     "start_time": "2021-09-16T15:18:08.240830Z"
    }
   },
   "outputs": [],
   "source": [
    "import pandas as pd\n",
    "import numpy as np\n",
    "import matplotlib.pyplot as plt\n",
    "import seaborn as sns\n",
    "from sklearn.metrics import classification_report\n",
    "from sklearn.metrics import confusion_matrix\n",
    "from sklearn.metrics import roc_curve\n",
    "from sklearn.metrics import roc_auc_score\n",
    "from sklearn.model_selection import train_test_split"
   ]
  },
  {
   "cell_type": "code",
   "execution_count": 10,
   "metadata": {
    "ExecuteTime": {
     "end_time": "2021-09-16T15:18:08.771383Z",
     "start_time": "2021-09-16T15:18:08.762856Z"
    }
   },
   "outputs": [
    {
     "name": "stdout",
     "output_type": "stream",
     "text": [
      "(19, 21)\n"
     ]
    }
   ],
   "source": [
    "df_aaindex = pd.read_csv('data/aaindex/df_aaindex19.csv')\n",
    "print(df_aaindex.shape)\n",
    "df_aaindex.head(1)\n",
    "tmp = df_aaindex.drop('Unnamed: 0',axis=1).T\n",
    "aa2val = dict()\n",
    "for aa, val in zip(tmp.index, tmp.values):\n",
    "    aa2val[aa]=val"
   ]
  },
  {
   "cell_type": "code",
   "execution_count": 11,
   "metadata": {
    "ExecuteTime": {
     "end_time": "2021-09-16T15:18:09.674391Z",
     "start_time": "2021-09-16T15:18:08.772519Z"
    }
   },
   "outputs": [],
   "source": [
    "df_detect_peptide_train = pd.read_csv('data/df_detect_peptide_train.csv')\n",
    "test = pd.read_csv('data/df_detect_peptide_test.csv')\n",
    "train, val = train_test_split(df_detect_peptide_train, test_size=0.2, random_state=7)"
   ]
  },
  {
   "cell_type": "code",
   "execution_count": 12,
   "metadata": {
    "ExecuteTime": {
     "end_time": "2021-09-16T15:18:09.688821Z",
     "start_time": "2021-09-16T15:18:09.675641Z"
    }
   },
   "outputs": [
    {
     "data": {
      "text/html": [
       "<div>\n",
       "<style scoped>\n",
       "    .dataframe tbody tr th:only-of-type {\n",
       "        vertical-align: middle;\n",
       "    }\n",
       "\n",
       "    .dataframe tbody tr th {\n",
       "        vertical-align: top;\n",
       "    }\n",
       "\n",
       "    .dataframe thead th {\n",
       "        text-align: right;\n",
       "    }\n",
       "</style>\n",
       "<table border=\"1\" class=\"dataframe\">\n",
       "  <thead>\n",
       "    <tr style=\"text-align: right;\">\n",
       "      <th></th>\n",
       "      <th>peptide</th>\n",
       "      <th>En</th>\n",
       "      <th>Ec</th>\n",
       "      <th>E1</th>\n",
       "      <th>E2</th>\n",
       "      <th>protein</th>\n",
       "      <th>PEP</th>\n",
       "      <th>ID</th>\n",
       "    </tr>\n",
       "  </thead>\n",
       "  <tbody>\n",
       "    <tr>\n",
       "      <th>210101</th>\n",
       "      <td>R.MDKVHSEAER.L</td>\n",
       "      <td>QQKVLQQRMDKVHSE</td>\n",
       "      <td>KVHSEAERLEARFQD</td>\n",
       "      <td>VLQQRMDKVHSEAER</td>\n",
       "      <td>-</td>\n",
       "      <td>sp|Q96M63|CC114_HUMAN</td>\n",
       "      <td>MDKVHSEAER</td>\n",
       "      <td>0</td>\n",
       "    </tr>\n",
       "  </tbody>\n",
       "</table>\n",
       "</div>"
      ],
      "text/plain": [
       "               peptide               En               Ec               E1 E2  \\\n",
       "210101  R.MDKVHSEAER.L  QQKVLQQRMDKVHSE  KVHSEAERLEARFQD  VLQQRMDKVHSEAER  -   \n",
       "\n",
       "                      protein         PEP  ID  \n",
       "210101  sp|Q96M63|CC114_HUMAN  MDKVHSEAER   0  "
      ]
     },
     "execution_count": 12,
     "metadata": {},
     "output_type": "execute_result"
    }
   ],
   "source": [
    "train.head(1)"
   ]
  },
  {
   "cell_type": "code",
   "execution_count": 13,
   "metadata": {
    "ExecuteTime": {
     "end_time": "2021-09-16T15:18:09.695946Z",
     "start_time": "2021-09-16T15:18:09.689985Z"
    }
   },
   "outputs": [],
   "source": [
    "def get_data_labelEnc(df):\n",
    "    label_enc = {v:k+1 for k, v in enumerate('ARNDCQEGHILKMFPSTWYV')}\n",
    "    label_enc['Z']=0\n",
    "    aa_data = [np.array([seq.count(a) for a in 'ARNDCQEGHILKMFPSTWYV'] + list(np.array([aa2val[aa] for aa in seq]).sum(axis=0)))\n",
    "               for seq in df.PEP.values]\n",
    "    pep_data = [[label_enc[aa] for aa in seq] + [0]*(30-len(seq))\n",
    "               for seq in df.PEP.values]\n",
    "    en_data = [[label_enc[aa] for aa in seq]\n",
    "               for seq in df.En.values]\n",
    "    ec_data = [[label_enc[aa] for aa in seq]\n",
    "               for seq in df.Ec.values]\n",
    "    e1_data = [[label_enc[aa] for aa in seq]\n",
    "               if seq != '-' else [0 for _ in range(15)]\n",
    "               for seq in df.E1.values]\n",
    "    e2_data = [[label_enc[aa] for aa in seq]\n",
    "               if seq != '-' else [0 for _ in range(15)]\n",
    "               for seq in df.E2.values]\n",
    "    return np.array(aa_data), np.array(pep_data), np.array(en_data), np.array(ec_data), np.array(e1_data), np.array(e2_data), np.array(df.ID.values)"
   ]
  },
  {
   "cell_type": "code",
   "execution_count": 14,
   "metadata": {
    "ExecuteTime": {
     "end_time": "2021-09-16T15:18:24.242514Z",
     "start_time": "2021-09-16T15:18:09.696928Z"
    }
   },
   "outputs": [
    {
     "name": "stdout",
     "output_type": "stream",
     "text": [
      "(215352, 39) (215352, 30) (215352, 15) (215352, 15) (215352, 15) (215352, 15) (215352,)\n",
      "(53838, 39) (53838, 30) (53838, 15) (53838, 15) (53838, 15) (53838, 15) (53838,)\n",
      "(67298, 39) (67298, 30) (67298, 15) (67298, 15) (67298, 15) (67298, 15) (67298,)\n"
     ]
    }
   ],
   "source": [
    "aa_train, pep_train, en_train, ec_train, e1_train, e2_train, y_train = get_data_labelEnc(train)\n",
    "aa_val, pep_val, en_val, ec_val, e1_val, e2_val, y_val = get_data_labelEnc(val)\n",
    "aa_test, pep_test, en_test, ec_test, e1_test, e2_test, y_test = get_data_labelEnc(test)\n",
    "print(aa_train.shape, pep_train.shape, en_train.shape, ec_train.shape, e1_train.shape, e2_train.shape, y_train.shape)\n",
    "print(aa_val.shape, pep_val.shape, en_val.shape, ec_val.shape, e1_val.shape, e2_val.shape, y_val.shape)\n",
    "print(aa_test.shape, pep_test.shape, en_test.shape, ec_test.shape, e1_test.shape, e2_test.shape, y_test.shape)"
   ]
  },
  {
   "cell_type": "markdown",
   "metadata": {},
   "source": [
    "# Train"
   ]
  },
  {
   "cell_type": "code",
   "execution_count": null,
   "metadata": {
    "ExecuteTime": {
     "start_time": "2021-09-16T15:18:14.875Z"
    }
   },
   "outputs": [],
   "source": [
    "from tensorflow.python.client import device_lib\n",
    "import tensorflow as tf\n",
    "from tensorflow.keras import layers\n",
    "from tensorflow import keras"
   ]
  },
  {
   "cell_type": "code",
   "execution_count": 15,
   "metadata": {
    "ExecuteTime": {
     "end_time": "2021-09-16T15:18:24.309542Z",
     "start_time": "2021-09-16T15:18:24.243812Z"
    }
   },
   "outputs": [],
   "source": [
    "gpus = tf.config.experimental.list_physical_devices('GPU')\n",
    "if gpus:\n",
    "    try:\n",
    "        tf.config.experimental.set_virtual_device_configuration(gpus[0],\n",
    "        [tf.config.experimental.VirtualDeviceConfiguration(memory_limit=1024*4)])\n",
    "    except RuntimeError as e:\n",
    "        print(e)"
   ]
  },
  {
   "cell_type": "code",
   "execution_count": 16,
   "metadata": {
    "ExecuteTime": {
     "end_time": "2021-09-16T15:18:24.314890Z",
     "start_time": "2021-09-16T15:18:24.310612Z"
    }
   },
   "outputs": [],
   "source": [
    "def plot_graphs(history, metric):\n",
    "    plt.plot(history.history[metric])\n",
    "    plt.plot(history.history['val_'+metric], '')\n",
    "    plt.xlabel(\"Epochs\")\n",
    "    plt.ylabel(metric)\n",
    "    plt.legend([metric, 'val_'+metric])"
   ]
  },
  {
   "cell_type": "markdown",
   "metadata": {},
   "source": [
    "# Transformer"
   ]
  },
  {
   "cell_type": "code",
   "execution_count": 3,
   "metadata": {
    "ExecuteTime": {
     "end_time": "2021-09-16T15:15:57.441905Z",
     "start_time": "2021-09-16T15:15:57.434646Z"
    }
   },
   "outputs": [],
   "source": [
    "class TransformerBlock(layers.Layer):\n",
    "    def __init__(self, embed_dim, num_heads, ff_dim, rate=0.1):\n",
    "        super(TransformerBlock, self).__init__()\n",
    "        self.att = layers.MultiHeadAttention(num_heads=num_heads, key_dim=embed_dim)\n",
    "        self.ffn = keras.Sequential(\n",
    "            [layers.Dense(ff_dim, activation=\"relu\"), layers.Dense(embed_dim),]\n",
    "        )\n",
    "        self.layernorm1 = layers.LayerNormalization(epsilon=1e-6)\n",
    "        self.layernorm2 = layers.LayerNormalization(epsilon=1e-6)\n",
    "        self.dropout1 = layers.Dropout(rate)\n",
    "        self.dropout2 = layers.Dropout(rate)\n",
    "\n",
    "    def call(self, inputs, training):\n",
    "        attn_output = self.att(inputs, inputs)\n",
    "        attn_output = self.dropout1(attn_output, training=training)\n",
    "        out1 = self.layernorm1(inputs + attn_output)\n",
    "        ffn_output = self.ffn(out1)\n",
    "        ffn_output = self.dropout2(ffn_output, training=training)\n",
    "        return self.layernorm2(out1 + ffn_output)\n",
    "    \n",
    "class TokenAndPositionEmbedding(layers.Layer):\n",
    "    def __init__(self, maxlen, vocab_size, embed_dim):\n",
    "        super(TokenAndPositionEmbedding, self).__init__()\n",
    "        self.token_emb = layers.Embedding(input_dim=vocab_size, output_dim=embed_dim)\n",
    "        self.pos_emb = layers.Embedding(input_dim=maxlen, output_dim=embed_dim)\n",
    "\n",
    "    def call(self, x):\n",
    "        maxlen = tf.shape(x)[-1]\n",
    "        positions = tf.range(start=0, limit=maxlen, delta=1)\n",
    "        positions = self.pos_emb(positions)\n",
    "        x = self.token_emb(x)\n",
    "        return x + positions"
   ]
  },
  {
   "cell_type": "code",
   "execution_count": 58,
   "metadata": {
    "ExecuteTime": {
     "end_time": "2021-09-17T17:29:00.796763Z",
     "start_time": "2021-09-17T17:29:00.793468Z"
    }
   },
   "outputs": [],
   "source": [
    "vocab_size = 21  # 20 Amino acid + zero padding\n",
    "maxlen_pep = 30\n",
    "maxlen_ts = 15\n",
    "\n",
    "pep_embed_dim = 64  # Embedding size for each token\n",
    "pep_num_heads = 4  # Number of attention heads\n",
    "pep_ff_dim = 64  # Hidden layer size in feed forward network inside transformer\n",
    "\n",
    "ts_embed_dim = 32  # Embedding size for each token\n",
    "ts_num_heads = 4  # Number of attention heads\n",
    "ts_ff_dim = 32  # Hidden layer size in feed forward network inside transformer"
   ]
  },
  {
   "cell_type": "code",
   "execution_count": 65,
   "metadata": {
    "ExecuteTime": {
     "end_time": "2021-09-18T07:33:07.294634Z",
     "start_time": "2021-09-18T07:33:05.092717Z"
    },
    "scrolled": false
   },
   "outputs": [
    {
     "name": "stdout",
     "output_type": "stream",
     "text": [
      "Model: \"model_13\"\n",
      "__________________________________________________________________________________________________\n",
      "Layer (type)                    Output Shape         Param #     Connected to                     \n",
      "==================================================================================================\n",
      "input_85 (InputLayer)           [(None, 30)]         0                                            \n",
      "__________________________________________________________________________________________________\n",
      "input_87 (InputLayer)           [(None, 15)]         0                                            \n",
      "__________________________________________________________________________________________________\n",
      "input_88 (InputLayer)           [(None, 15)]         0                                            \n",
      "__________________________________________________________________________________________________\n",
      "input_89 (InputLayer)           [(None, 15)]         0                                            \n",
      "__________________________________________________________________________________________________\n",
      "input_90 (InputLayer)           [(None, 15)]         0                                            \n",
      "__________________________________________________________________________________________________\n",
      "token_and_position_embedding_28 (None, 30, 64)       3264        input_85[0][0]                   \n",
      "__________________________________________________________________________________________________\n",
      "token_and_position_embedding_29 (None, 15, 32)       1152        input_87[0][0]                   \n",
      "                                                                 input_88[0][0]                   \n",
      "                                                                 input_89[0][0]                   \n",
      "                                                                 input_90[0][0]                   \n",
      "__________________________________________________________________________________________________\n",
      "transformer_block_28 (Transform (None, 30, 64)       74944       token_and_position_embedding_28[0\n",
      "__________________________________________________________________________________________________\n",
      "transformer_block_29 (Transform (None, 15, 32)       19040       token_and_position_embedding_29[0\n",
      "                                                                 token_and_position_embedding_29[1\n",
      "                                                                 token_and_position_embedding_29[2\n",
      "                                                                 token_and_position_embedding_29[3\n",
      "__________________________________________________________________________________________________\n",
      "conv1d_70 (Conv1D)              (None, 30, 32)       10272       transformer_block_28[0][0]       \n",
      "__________________________________________________________________________________________________\n",
      "conv1d_71 (Conv1D)              (None, 15, 16)       2064        transformer_block_29[0][0]       \n",
      "__________________________________________________________________________________________________\n",
      "conv1d_72 (Conv1D)              (None, 15, 16)       2064        transformer_block_29[1][0]       \n",
      "__________________________________________________________________________________________________\n",
      "conv1d_73 (Conv1D)              (None, 15, 16)       2064        transformer_block_29[2][0]       \n",
      "__________________________________________________________________________________________________\n",
      "conv1d_74 (Conv1D)              (None, 15, 16)       2064        transformer_block_29[3][0]       \n",
      "__________________________________________________________________________________________________\n",
      "bidirectional_70 (Bidirectional (None, 32)           6272        conv1d_70[0][0]                  \n",
      "__________________________________________________________________________________________________\n",
      "bidirectional_71 (Bidirectional (None, 16)           1600        conv1d_71[0][0]                  \n",
      "__________________________________________________________________________________________________\n",
      "bidirectional_72 (Bidirectional (None, 16)           1600        conv1d_72[0][0]                  \n",
      "__________________________________________________________________________________________________\n",
      "bidirectional_73 (Bidirectional (None, 16)           1600        conv1d_73[0][0]                  \n",
      "__________________________________________________________________________________________________\n",
      "bidirectional_74 (Bidirectional (None, 16)           1600        conv1d_74[0][0]                  \n",
      "__________________________________________________________________________________________________\n",
      "dense_200 (Dense)               (None, 32)           1056        bidirectional_70[0][0]           \n",
      "__________________________________________________________________________________________________\n",
      "dense_203 (Dense)               (None, 16)           272         bidirectional_71[0][0]           \n",
      "__________________________________________________________________________________________________\n",
      "dense_205 (Dense)               (None, 16)           272         bidirectional_72[0][0]           \n",
      "__________________________________________________________________________________________________\n",
      "dense_207 (Dense)               (None, 16)           272         bidirectional_73[0][0]           \n",
      "__________________________________________________________________________________________________\n",
      "dense_209 (Dense)               (None, 16)           272         bidirectional_74[0][0]           \n",
      "__________________________________________________________________________________________________\n",
      "dropout_183 (Dropout)           (None, 32)           0           dense_200[0][0]                  \n",
      "__________________________________________________________________________________________________\n",
      "input_86 (InputLayer)           [(None, 39)]         0                                            \n",
      "__________________________________________________________________________________________________\n",
      "dropout_186 (Dropout)           (None, 16)           0           dense_203[0][0]                  \n",
      "__________________________________________________________________________________________________\n",
      "dropout_188 (Dropout)           (None, 16)           0           dense_205[0][0]                  \n",
      "__________________________________________________________________________________________________\n",
      "dropout_190 (Dropout)           (None, 16)           0           dense_207[0][0]                  \n",
      "__________________________________________________________________________________________________\n",
      "dropout_192 (Dropout)           (None, 16)           0           dense_209[0][0]                  \n",
      "__________________________________________________________________________________________________\n",
      "dense_201 (Dense)               (None, 16)           528         dropout_183[0][0]                \n",
      "__________________________________________________________________________________________________\n",
      "dense_202 (Dense)               (None, 16)           640         input_86[0][0]                   \n",
      "__________________________________________________________________________________________________\n",
      "dense_204 (Dense)               (None, 8)            136         dropout_186[0][0]                \n",
      "__________________________________________________________________________________________________\n",
      "dense_206 (Dense)               (None, 8)            136         dropout_188[0][0]                \n",
      "__________________________________________________________________________________________________\n",
      "dense_208 (Dense)               (None, 8)            136         dropout_190[0][0]                \n",
      "__________________________________________________________________________________________________\n",
      "dense_210 (Dense)               (None, 8)            136         dropout_192[0][0]                \n",
      "__________________________________________________________________________________________________\n",
      "dropout_184 (Dropout)           (None, 16)           0           dense_201[0][0]                  \n",
      "__________________________________________________________________________________________________\n",
      "dropout_185 (Dropout)           (None, 16)           0           dense_202[0][0]                  \n",
      "__________________________________________________________________________________________________\n",
      "dropout_187 (Dropout)           (None, 8)            0           dense_204[0][0]                  \n",
      "__________________________________________________________________________________________________\n",
      "dropout_189 (Dropout)           (None, 8)            0           dense_206[0][0]                  \n",
      "__________________________________________________________________________________________________\n",
      "dropout_191 (Dropout)           (None, 8)            0           dense_208[0][0]                  \n",
      "__________________________________________________________________________________________________\n",
      "dropout_193 (Dropout)           (None, 8)            0           dense_210[0][0]                  \n",
      "__________________________________________________________________________________________________\n",
      "concatenate_14 (Concatenate)    (None, 64)           0           dropout_184[0][0]                \n",
      "                                                                 dropout_185[0][0]                \n",
      "                                                                 dropout_187[0][0]                \n",
      "                                                                 dropout_189[0][0]                \n",
      "                                                                 dropout_191[0][0]                \n",
      "                                                                 dropout_193[0][0]                \n",
      "__________________________________________________________________________________________________\n",
      "dense_211 (Dense)               (None, 64)           4160        concatenate_14[0][0]             \n",
      "__________________________________________________________________________________________________\n",
      "dropout_194 (Dropout)           (None, 64)           0           dense_211[0][0]                  \n",
      "__________________________________________________________________________________________________\n",
      "dense_212 (Dense)               (None, 1)            65          dropout_194[0][0]                \n",
      "==================================================================================================\n",
      "Total params: 137,681\n",
      "Trainable params: 137,681\n",
      "Non-trainable params: 0\n",
      "__________________________________________________________________________________________________\n"
     ]
    }
   ],
   "source": [
    "embedding_layer_pep = TokenAndPositionEmbedding(maxlen_pep, vocab_size, pep_embed_dim)\n",
    "transformer_block_pep = TransformerBlock(pep_embed_dim, pep_num_heads, pep_ff_dim)\n",
    "embedding_layer_ts = TokenAndPositionEmbedding(maxlen_ts, vocab_size, ts_embed_dim)\n",
    "transformer_block_ts = TransformerBlock(ts_embed_dim, ts_num_heads, ts_ff_dim)\n",
    "\n",
    "pep_input = layers.Input(shape=(maxlen_pep,))\n",
    "pep_embed = embedding_layer_pep(pep_input)\n",
    "pep_enc = transformer_block_pep(pep_embed)\n",
    "\n",
    "input2 = tf.keras.layers.Input(shape=((39,)))  # peptide info\n",
    "\n",
    "n_input = layers.Input(shape=(maxlen_ts,))\n",
    "n_embed = embedding_layer_ts(n_input)\n",
    "n_enc = transformer_block_ts(n_embed)\n",
    "\n",
    "c_input = layers.Input(shape=(maxlen_ts,))\n",
    "c_embed = embedding_layer_ts(c_input)\n",
    "c_enc = transformer_block_ts(c_embed)\n",
    "\n",
    "m1_input = layers.Input(shape=(maxlen_ts,))\n",
    "m1_embed = embedding_layer_ts(m1_input)\n",
    "m1_enc = transformer_block_ts(m1_embed)\n",
    "\n",
    "m2_input = layers.Input(shape=(maxlen_ts,))\n",
    "m2_embed = embedding_layer_ts(m2_input)\n",
    "m2_enc = transformer_block_ts(m2_embed)\n",
    "\n",
    "cnn1 = tf.keras.layers.Conv1D(filters=32, kernel_size=5, strides=1, padding='same')(pep_enc)\n",
    "lstm1 = tf.keras.layers.Bidirectional(tf.keras.layers.LSTM(16))(cnn1)\n",
    "net_lstm_ = tf.keras.layers.Dense(32, activation='relu')(lstm1)\n",
    "net_lstm1 = tf.keras.layers.Dropout(np.random.uniform(0, 0.2))(net_lstm_)\n",
    "net_lstm2_ = tf.keras.layers.Dense(16, activation='relu')(net_lstm1)\n",
    "net_lstm = tf.keras.layers.Dropout(np.random.uniform(0, 0.2))(net_lstm2_)\n",
    "\n",
    "net_dense1_ = tf.keras.layers.Dense(16, activation='relu')(input2)\n",
    "net_dense1 = tf.keras.layers.Dropout(np.random.uniform(0, 0.2))(net_dense1_)\n",
    "\n",
    "cnn3 = tf.keras.layers.Conv1D(filters=16, kernel_size=4, strides=1, padding='same')(n_enc)\n",
    "digest_n = tf.keras.layers.Bidirectional(tf.keras.layers.LSTM(8))(cnn3)\n",
    "net_n_ = tf.keras.layers.Dense(16, activation='relu')(digest_n)\n",
    "net_n1 = tf.keras.layers.Dropout(np.random.uniform(0, 0.2))(net_n_)\n",
    "net_n2_ = tf.keras.layers.Dense(8, activation='relu')(net_n1)\n",
    "net_n = tf.keras.layers.Dropout(np.random.uniform(0, 0.2))(net_n2_)\n",
    "\n",
    "cnn4 = tf.keras.layers.Conv1D(filters=16, kernel_size=4, strides=1, padding='same')(c_enc)\n",
    "digest_c = tf.keras.layers.Bidirectional(tf.keras.layers.LSTM(8))(cnn4)\n",
    "net_c_ = tf.keras.layers.Dense(16, activation='relu')(digest_c)\n",
    "net_c1 = tf.keras.layers.Dropout(np.random.uniform(0, 0.2))(net_c_)\n",
    "net_c2_ = tf.keras.layers.Dense(8, activation='relu')(net_c1)\n",
    "net_c = tf.keras.layers.Dropout(np.random.uniform(0, 0.2))(net_c2_)\n",
    "\n",
    "cnn5 = tf.keras.layers.Conv1D(filters=16, kernel_size=4, strides=1, padding='same')(m1_enc)\n",
    "digest_m1 = tf.keras.layers.Bidirectional(tf.keras.layers.LSTM(8))(cnn5)\n",
    "net_m1_ = tf.keras.layers.Dense(16, activation='relu')(digest_m1)\n",
    "net_m11 = tf.keras.layers.Dropout(np.random.uniform(0, 0.2))(net_m1_)\n",
    "net_m12_ = tf.keras.layers.Dense(8, activation='relu')(net_m11)\n",
    "net_m1 = tf.keras.layers.Dropout(np.random.uniform(0, 0.2))(net_m12_)\n",
    "\n",
    "cnn6 = tf.keras.layers.Conv1D(filters=16, kernel_size=4, strides=1, padding='same')(m2_enc)\n",
    "digest_m2 = tf.keras.layers.Bidirectional(tf.keras.layers.LSTM(8))(cnn6)\n",
    "net_m2_ = tf.keras.layers.Dense(16, activation='relu')(digest_m2)\n",
    "net_m21 = tf.keras.layers.Dropout(np.random.uniform(0, 0.2))(net_m2_)\n",
    "net_m22_ = tf.keras.layers.Dense(8, activation='relu')(net_m21)\n",
    "net_m2 = tf.keras.layers.Dropout(np.random.uniform(0, 0.2))(net_m22_)\n",
    "\n",
    "merge = tf.keras.layers.concatenate([net_lstm, \n",
    "                                     net_dense1,\n",
    "                                    net_n,\n",
    "                                    net_c,\n",
    "                                    net_m1,\n",
    "                                    net_m2\n",
    "                                    ])\n",
    "\n",
    "net1 = tf.keras.layers.Dense(64, activation='relu')(merge)\n",
    "net1_drop = tf.keras.layers.Dropout(np.random.uniform(0, 0.2))(net1)\n",
    "# net3 = tf.keras.layers.Dense(64, activation='relu')(net1_drop)\n",
    "\n",
    "output = tf.keras.layers.Dense(1, activation = 'sigmoid')(net1_drop)\n",
    "\n",
    "model = tf.keras.Model(inputs=[pep_input, input2,\n",
    "                              n_input, c_input,\n",
    "                              m1_input, m2_input],\n",
    "                       outputs=[output])\n",
    "\n",
    "model.summary()\n",
    "\n",
    "es = tf.keras.callbacks.EarlyStopping(monitor='val_loss',\n",
    "                                      mode='min', \n",
    "                                      verbose=1,\n",
    "                                      patience=50)\n",
    "\n",
    "model.compile(loss=tf.keras.losses.BinaryCrossentropy(from_logits=True),\n",
    "              optimizer=tf.keras.optimizers.Adam(1e-4),\n",
    "              metrics=['accuracy'])"
   ]
  },
  {
   "cell_type": "code",
   "execution_count": 66,
   "metadata": {
    "ExecuteTime": {
     "end_time": "2021-09-18T09:31:06.054428Z",
     "start_time": "2021-09-18T07:33:07.295919Z"
    }
   },
   "outputs": [
    {
     "name": "stdout",
     "output_type": "stream",
     "text": [
      "Epoch 1/300\n",
      "3365/3365 [==============================] - 117s 31ms/step - loss: 9.0687 - accuracy: 0.6033 - val_loss: 0.4862 - val_accuracy: 0.7887\n",
      "Epoch 2/300\n",
      "3365/3365 [==============================] - 99s 29ms/step - loss: 0.6183 - accuracy: 0.7581 - val_loss: 0.4253 - val_accuracy: 0.8108\n",
      "Epoch 3/300\n",
      "3365/3365 [==============================] - 98s 29ms/step - loss: 0.4434 - accuracy: 0.8020 - val_loss: 0.4033 - val_accuracy: 0.8184\n",
      "Epoch 4/300\n",
      "3365/3365 [==============================] - 99s 29ms/step - loss: 0.4167 - accuracy: 0.8156 - val_loss: 0.3977 - val_accuracy: 0.8224\n",
      "Epoch 5/300\n",
      "3365/3365 [==============================] - 101s 30ms/step - loss: 0.4054 - accuracy: 0.8201 - val_loss: 0.3958 - val_accuracy: 0.8219\n",
      "Epoch 6/300\n",
      "3365/3365 [==============================] - 98s 29ms/step - loss: 0.3980 - accuracy: 0.8238 - val_loss: 0.3858 - val_accuracy: 0.8268\n",
      "Epoch 7/300\n",
      "3365/3365 [==============================] - 97s 29ms/step - loss: 0.3869 - accuracy: 0.8298 - val_loss: 0.3794 - val_accuracy: 0.8318\n",
      "Epoch 8/300\n",
      "3365/3365 [==============================] - 95s 28ms/step - loss: 0.3831 - accuracy: 0.8308 - val_loss: 0.3791 - val_accuracy: 0.8302\n",
      "Epoch 9/300\n",
      "3365/3365 [==============================] - 95s 28ms/step - loss: 0.3772 - accuracy: 0.8332 - val_loss: 0.3764 - val_accuracy: 0.8320\n",
      "Epoch 10/300\n",
      "3365/3365 [==============================] - 96s 28ms/step - loss: 0.3745 - accuracy: 0.8335 - val_loss: 0.3741 - val_accuracy: 0.8337\n",
      "Epoch 11/300\n",
      "3365/3365 [==============================] - 95s 28ms/step - loss: 0.3711 - accuracy: 0.8361 - val_loss: 0.3720 - val_accuracy: 0.8348\n",
      "Epoch 12/300\n",
      "3365/3365 [==============================] - 96s 29ms/step - loss: 0.3711 - accuracy: 0.8368 - val_loss: 0.3717 - val_accuracy: 0.8347\n",
      "Epoch 13/300\n",
      "3365/3365 [==============================] - 97s 29ms/step - loss: 0.3673 - accuracy: 0.8380 - val_loss: 0.3705 - val_accuracy: 0.8355\n",
      "Epoch 14/300\n",
      "3365/3365 [==============================] - 94s 28ms/step - loss: 0.3657 - accuracy: 0.8389 - val_loss: 0.3790 - val_accuracy: 0.8318\n",
      "Epoch 15/300\n",
      "3365/3365 [==============================] - 94s 28ms/step - loss: 0.3639 - accuracy: 0.8394 - val_loss: 0.3692 - val_accuracy: 0.8373\n",
      "Epoch 16/300\n",
      "3365/3365 [==============================] - 95s 28ms/step - loss: 0.3625 - accuracy: 0.8416 - val_loss: 0.3709 - val_accuracy: 0.8360\n",
      "Epoch 17/300\n",
      "3365/3365 [==============================] - 98s 29ms/step - loss: 0.3617 - accuracy: 0.8417 - val_loss: 0.3671 - val_accuracy: 0.8369\n",
      "Epoch 18/300\n",
      "3365/3365 [==============================] - 97s 29ms/step - loss: 0.3605 - accuracy: 0.8408 - val_loss: 0.3669 - val_accuracy: 0.8387\n",
      "Epoch 19/300\n",
      "3365/3365 [==============================] - 98s 29ms/step - loss: 0.3587 - accuracy: 0.8416 - val_loss: 0.3669 - val_accuracy: 0.8378\n",
      "Epoch 20/300\n",
      "3365/3365 [==============================] - 98s 29ms/step - loss: 0.3575 - accuracy: 0.8419 - val_loss: 0.3690 - val_accuracy: 0.8385\n",
      "Epoch 21/300\n",
      "3365/3365 [==============================] - 98s 29ms/step - loss: 0.3544 - accuracy: 0.8454 - val_loss: 0.3684 - val_accuracy: 0.8382\n",
      "Epoch 22/300\n",
      "3365/3365 [==============================] - 95s 28ms/step - loss: 0.3523 - accuracy: 0.8452 - val_loss: 0.3658 - val_accuracy: 0.8391\n",
      "Epoch 23/300\n",
      "3365/3365 [==============================] - 99s 30ms/step - loss: 0.3523 - accuracy: 0.8460 - val_loss: 0.3667 - val_accuracy: 0.8387\n",
      "Epoch 24/300\n",
      "3365/3365 [==============================] - 101s 30ms/step - loss: 0.3532 - accuracy: 0.8448 - val_loss: 0.3672 - val_accuracy: 0.8392\n",
      "Epoch 25/300\n",
      "3365/3365 [==============================] - 103s 31ms/step - loss: 0.3519 - accuracy: 0.8461 - val_loss: 0.3676 - val_accuracy: 0.8386\n",
      "Epoch 26/300\n",
      "3365/3365 [==============================] - 97s 29ms/step - loss: 0.3495 - accuracy: 0.8473 - val_loss: 0.3678 - val_accuracy: 0.8378\n",
      "Epoch 27/300\n",
      "3365/3365 [==============================] - 98s 29ms/step - loss: 0.3461 - accuracy: 0.8486 - val_loss: 0.3667 - val_accuracy: 0.8384\n",
      "Epoch 28/300\n",
      "3365/3365 [==============================] - 96s 29ms/step - loss: 0.3480 - accuracy: 0.8474 - val_loss: 0.3681 - val_accuracy: 0.8367\n",
      "Epoch 29/300\n",
      "3365/3365 [==============================] - 96s 28ms/step - loss: 0.3436 - accuracy: 0.8500 - val_loss: 0.3668 - val_accuracy: 0.8380\n",
      "Epoch 30/300\n",
      "3365/3365 [==============================] - 97s 29ms/step - loss: 0.3453 - accuracy: 0.8489 - val_loss: 0.3661 - val_accuracy: 0.8393\n",
      "Epoch 31/300\n",
      "3365/3365 [==============================] - 103s 31ms/step - loss: 0.3411 - accuracy: 0.8514 - val_loss: 0.3704 - val_accuracy: 0.8363\n",
      "Epoch 32/300\n",
      "3365/3365 [==============================] - 100s 30ms/step - loss: 0.3430 - accuracy: 0.8508 - val_loss: 0.3699 - val_accuracy: 0.8368\n",
      "Epoch 33/300\n",
      "3365/3365 [==============================] - 98s 29ms/step - loss: 0.3406 - accuracy: 0.8516 - val_loss: 0.3697 - val_accuracy: 0.8362\n",
      "Epoch 34/300\n",
      "3365/3365 [==============================] - 97s 29ms/step - loss: 0.3405 - accuracy: 0.8512 - val_loss: 0.3690 - val_accuracy: 0.8377\n",
      "Epoch 35/300\n",
      "3365/3365 [==============================] - 100s 30ms/step - loss: 0.3400 - accuracy: 0.8522 - val_loss: 0.3673 - val_accuracy: 0.8376\n",
      "Epoch 36/300\n",
      "3365/3365 [==============================] - 99s 29ms/step - loss: 0.3382 - accuracy: 0.8522 - val_loss: 0.3675 - val_accuracy: 0.8382\n",
      "Epoch 37/300\n",
      "3365/3365 [==============================] - 101s 30ms/step - loss: 0.3373 - accuracy: 0.8533 - val_loss: 0.3699 - val_accuracy: 0.8371\n",
      "Epoch 38/300\n",
      "3365/3365 [==============================] - 100s 30ms/step - loss: 0.3369 - accuracy: 0.8532 - val_loss: 0.3715 - val_accuracy: 0.8363\n",
      "Epoch 39/300\n",
      "3365/3365 [==============================] - 102s 30ms/step - loss: 0.3372 - accuracy: 0.8540 - val_loss: 0.3716 - val_accuracy: 0.8355\n",
      "Epoch 40/300\n",
      "3365/3365 [==============================] - 99s 29ms/step - loss: 0.3347 - accuracy: 0.8552 - val_loss: 0.3697 - val_accuracy: 0.8364\n",
      "Epoch 41/300\n",
      "3365/3365 [==============================] - 99s 29ms/step - loss: 0.3332 - accuracy: 0.8554 - val_loss: 0.3720 - val_accuracy: 0.8367\n",
      "Epoch 42/300\n",
      "3365/3365 [==============================] - 97s 29ms/step - loss: 0.3329 - accuracy: 0.8557 - val_loss: 0.3734 - val_accuracy: 0.8342\n",
      "Epoch 43/300\n",
      "3365/3365 [==============================] - 94s 28ms/step - loss: 0.3297 - accuracy: 0.8569 - val_loss: 0.3706 - val_accuracy: 0.8368\n",
      "Epoch 44/300\n",
      "3365/3365 [==============================] - 97s 29ms/step - loss: 0.3297 - accuracy: 0.8574 - val_loss: 0.3748 - val_accuracy: 0.8345\n",
      "Epoch 45/300\n",
      "3365/3365 [==============================] - 96s 29ms/step - loss: 0.3297 - accuracy: 0.8569 - val_loss: 0.3709 - val_accuracy: 0.8369\n",
      "Epoch 46/300\n",
      "3365/3365 [==============================] - 98s 29ms/step - loss: 0.3301 - accuracy: 0.8570 - val_loss: 0.3722 - val_accuracy: 0.8367\n",
      "Epoch 47/300\n",
      "3365/3365 [==============================] - 102s 30ms/step - loss: 0.3266 - accuracy: 0.8590 - val_loss: 0.3721 - val_accuracy: 0.8368\n",
      "Epoch 48/300\n",
      "3365/3365 [==============================] - 99s 29ms/step - loss: 0.3271 - accuracy: 0.8585 - val_loss: 0.3714 - val_accuracy: 0.8371\n",
      "Epoch 49/300\n",
      "3365/3365 [==============================] - 98s 29ms/step - loss: 0.3240 - accuracy: 0.8602 - val_loss: 0.3731 - val_accuracy: 0.8370\n",
      "Epoch 50/300\n",
      "3365/3365 [==============================] - 99s 29ms/step - loss: 0.3243 - accuracy: 0.8593 - val_loss: 0.3761 - val_accuracy: 0.8350\n",
      "Epoch 51/300\n",
      "3365/3365 [==============================] - 98s 29ms/step - loss: 0.3239 - accuracy: 0.8597 - val_loss: 0.3734 - val_accuracy: 0.8362\n",
      "Epoch 52/300\n",
      "3365/3365 [==============================] - 98s 29ms/step - loss: 0.3243 - accuracy: 0.8601 - val_loss: 0.3752 - val_accuracy: 0.8364\n",
      "Epoch 53/300\n",
      "3365/3365 [==============================] - 95s 28ms/step - loss: 0.3254 - accuracy: 0.8598 - val_loss: 0.3768 - val_accuracy: 0.8341\n",
      "Epoch 54/300\n",
      "3365/3365 [==============================] - 99s 29ms/step - loss: 0.3182 - accuracy: 0.8626 - val_loss: 0.3733 - val_accuracy: 0.8358\n",
      "Epoch 55/300\n",
      "3365/3365 [==============================] - 98s 29ms/step - loss: 0.3219 - accuracy: 0.8610 - val_loss: 0.3774 - val_accuracy: 0.8342\n",
      "Epoch 56/300\n",
      "3365/3365 [==============================] - 101s 30ms/step - loss: 0.3175 - accuracy: 0.8629 - val_loss: 0.3770 - val_accuracy: 0.8351\n",
      "Epoch 57/300\n",
      "3365/3365 [==============================] - 101s 30ms/step - loss: 0.3177 - accuracy: 0.8633 - val_loss: 0.3795 - val_accuracy: 0.8348\n",
      "Epoch 58/300\n",
      "3365/3365 [==============================] - 103s 30ms/step - loss: 0.3169 - accuracy: 0.8628 - val_loss: 0.3768 - val_accuracy: 0.8344\n",
      "Epoch 59/300\n",
      "3365/3365 [==============================] - 101s 30ms/step - loss: 0.3192 - accuracy: 0.8631 - val_loss: 0.3807 - val_accuracy: 0.8325\n",
      "Epoch 60/300\n",
      "3365/3365 [==============================] - 100s 30ms/step - loss: 0.3169 - accuracy: 0.8625 - val_loss: 0.3828 - val_accuracy: 0.8296\n",
      "Epoch 61/300\n",
      "3365/3365 [==============================] - 97s 29ms/step - loss: 0.3149 - accuracy: 0.8645 - val_loss: 0.3802 - val_accuracy: 0.8345\n",
      "Epoch 62/300\n",
      "3365/3365 [==============================] - 97s 29ms/step - loss: 0.3128 - accuracy: 0.8646 - val_loss: 0.3804 - val_accuracy: 0.8336\n",
      "Epoch 63/300\n",
      "3365/3365 [==============================] - 97s 29ms/step - loss: 0.3124 - accuracy: 0.8666 - val_loss: 0.3817 - val_accuracy: 0.8323\n",
      "Epoch 64/300\n",
      "3365/3365 [==============================] - 97s 29ms/step - loss: 0.3119 - accuracy: 0.8661 - val_loss: 0.3801 - val_accuracy: 0.8343\n",
      "Epoch 65/300\n",
      "3365/3365 [==============================] - 97s 29ms/step - loss: 0.3145 - accuracy: 0.8645 - val_loss: 0.3838 - val_accuracy: 0.8328\n",
      "Epoch 66/300\n",
      "3365/3365 [==============================] - 99s 29ms/step - loss: 0.3089 - accuracy: 0.8684 - val_loss: 0.3813 - val_accuracy: 0.8324\n",
      "Epoch 67/300\n",
      "3365/3365 [==============================] - 99s 29ms/step - loss: 0.3094 - accuracy: 0.8664 - val_loss: 0.3812 - val_accuracy: 0.8340\n",
      "Epoch 68/300\n",
      "3365/3365 [==============================] - 97s 29ms/step - loss: 0.3085 - accuracy: 0.8684 - val_loss: 0.3838 - val_accuracy: 0.8333\n",
      "Epoch 69/300\n",
      "3365/3365 [==============================] - 97s 29ms/step - loss: 0.3071 - accuracy: 0.8675 - val_loss: 0.3880 - val_accuracy: 0.8316\n",
      "Epoch 70/300\n",
      "3365/3365 [==============================] - 97s 29ms/step - loss: 0.3047 - accuracy: 0.8698 - val_loss: 0.3850 - val_accuracy: 0.8329\n",
      "Epoch 71/300\n",
      "3365/3365 [==============================] - 97s 29ms/step - loss: 0.3063 - accuracy: 0.8689 - val_loss: 0.3882 - val_accuracy: 0.8320\n",
      "Epoch 72/300\n",
      "3365/3365 [==============================] - 98s 29ms/step - loss: 0.3051 - accuracy: 0.8701 - val_loss: 0.3853 - val_accuracy: 0.8310\n",
      "Epoch 00072: early stopping\n"
     ]
    }
   ],
   "source": [
    "history = model.fit(\n",
    "                    [pep_train, aa_train, en_train, ec_train, e1_train, e2_train],\n",
    "                    y_train, \n",
    "                    epochs=300,\n",
    "                    batch_size=64,\n",
    "                    validation_data=([pep_val, aa_val, en_val, ec_val, e1_val, e2_val], y_val),\n",
    "                    callbacks=[es]\n",
    ")"
   ]
  },
  {
   "cell_type": "code",
   "execution_count": 67,
   "metadata": {
    "ExecuteTime": {
     "end_time": "2021-09-18T09:31:06.272505Z",
     "start_time": "2021-09-18T09:31:06.056079Z"
    }
   },
   "outputs": [
    {
     "data": {
      "image/png": "[encoded data removed]",
      "text/plain": [
       "<Figure size 1152x144 with 2 Axes>"
      ]
     },
     "metadata": {
      "needs_background": "light"
     },
     "output_type": "display_data"
    }
   ],
   "source": [
    "plt.figure(figsize=(16,2))\n",
    "plt.subplot(1,2,1)\n",
    "plot_graphs(history, 'accuracy')\n",
    "plt.subplot(1,2,2)\n",
    "plot_graphs(history, 'loss')"
   ]
  },
  {
   "cell_type": "markdown",
   "metadata": {},
   "source": [
    "# eval"
   ]
  },
  {
   "cell_type": "code",
   "execution_count": 68,
   "metadata": {
    "ExecuteTime": {
     "end_time": "2021-09-18T09:32:08.971551Z",
     "start_time": "2021-09-18T09:31:06.273618Z"
    },
    "scrolled": false
   },
   "outputs": [
    {
     "name": "stdout",
     "output_type": "stream",
     "text": [
      "2104/2104 [==============================] - 20s 10ms/step - loss: 0.3820 - accuracy: 0.8318\n",
      "Test Loss: 0.38199833035469055\n",
      "Test Accuracy: 0.8317780494689941\n",
      "              precision    recall  f1-score   support\n",
      "\n",
      "           0       0.84      0.82      0.83     33706\n",
      "           1       0.83      0.84      0.83     33592\n",
      "\n",
      "    accuracy                           0.83     67298\n",
      "   macro avg       0.83      0.83      0.83     67298\n",
      "weighted avg       0.83      0.83      0.83     67298\n",
      "\n",
      "rf auc : 0.9101830512896304\n"
     ]
    },
    {
     "data": {
      "image/png": "[encoded data removed]",
      "text/plain": [
       "<Figure size 288x288 with 1 Axes>"
      ]
     },
     "metadata": {
      "needs_background": "light"
     },
     "output_type": "display_data"
    },
    {
     "data": {
      "image/png": "[encoded data removed]",
      "text/plain": [
       "<Figure size 216x216 with 2 Axes>"
      ]
     },
     "metadata": {
      "needs_background": "light"
     },
     "output_type": "display_data"
    },
    {
     "data": {
      "image/png": "[encoded data removed]",
      "text/plain": [
       "<Figure size 216x216 with 2 Axes>"
      ]
     },
     "metadata": {
      "needs_background": "light"
     },
     "output_type": "display_data"
    }
   ],
   "source": [
    "test_loss, test_acc = model.evaluate([pep_test, aa_test, en_test, ec_test, e1_test, e2_test], y_test)\n",
    "print('Test Loss: {}'.format(test_loss))\n",
    "print('Test Accuracy: {}'.format(test_acc))\n",
    "\n",
    "# prediction\n",
    "y_pred = [1 if i>=0.5 else 0 for i in model.predict([pep_test, aa_test, en_test, ec_test, e1_test, e2_test])]\n",
    "print(classification_report(y_test, y_pred))\n",
    "# AUC\n",
    "probs = model.predict([pep_test, aa_test, en_test, ec_test, e1_test, e2_test])\n",
    "rf_auc = roc_auc_score(y_test, probs)\n",
    "print('rf auc : {}'.format(rf_auc))\n",
    "# plot the roc curve for the model\n",
    "rf_fpr, rf_tpr, _ = roc_curve(y_test, probs)\n",
    "plt.figure(figsize=(4, 4))\n",
    "plt.plot(rf_fpr, rf_tpr, marker='.', label='RF AUC = {:.4f}'.format(rf_auc), color='orange')\n",
    "plt.title('ROC curve')\n",
    "# axis labels\n",
    "plt.xlabel('False Positive Rate')\n",
    "plt.ylabel('True Positive Rate')\n",
    "# show the legend\n",
    "plt.legend()\n",
    "# show the plot\n",
    "plt.show()\n",
    "\n",
    "cf_matrix = confusion_matrix(y_test, y_pred)\n",
    "plt.figure(figsize=(3, 3))\n",
    "sns.heatmap(cf_matrix, annot=True, fmt=',.0f')\n",
    "plt.show()\n",
    "plt.figure(figsize=(3, 3))\n",
    "sns.heatmap(cf_matrix/np.sum(cf_matrix), annot=True, \n",
    "            fmt='.2%', cmap='Blues')\n",
    "plt.show()"
   ]
  },
  {
   "cell_type": "markdown",
   "metadata": {},
   "source": [
    "# not good enough"
   ]
  },
  {
   "cell_type": "code",
   "execution_count": null,
   "metadata": {},
   "outputs": [],
   "source": []
  }
 ],
 "metadata": {
  "kernelspec": {
   "display_name": "TF2.4",
   "language": "python",
   "name": "tf2.4"
  },
  "language_info": {
   "codemirror_mode": {
    "name": "ipython",
    "version": 3
   },
   "file_extension": ".py",
   "mimetype": "text/x-python",
   "name": "python",
   "nbconvert_exporter": "python",
   "pygments_lexer": "ipython3",
   "version": "3.7.0"
  }
 },
 "nbformat": 4,
 "nbformat_minor": 4
}
