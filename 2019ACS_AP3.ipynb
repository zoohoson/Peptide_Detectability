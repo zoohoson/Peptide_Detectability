{
 "cells": [
  {
   "cell_type": "code",
   "execution_count": 1,
   "metadata": {
    "ExecuteTime": {
     "end_time": "2021-09-05T21:39:56.302130Z",
     "start_time": "2021-09-05T21:39:55.973250Z"
    }
   },
   "outputs": [],
   "source": [
    "import pandas as pd\n",
    "import numpy as np"
   ]
  },
  {
   "cell_type": "code",
   "execution_count": 2,
   "metadata": {
    "ExecuteTime": {
     "end_time": "2021-09-05T21:39:59.965336Z",
     "start_time": "2021-09-05T21:39:59.137570Z"
    }
   },
   "outputs": [],
   "source": [
    "from sklearn.model_selection import cross_val_score\n",
    "from sklearn.model_selection import train_test_split\n",
    "from sklearn.ensemble import RandomForestClassifier\n",
    "from sklearn.metrics import classification_report\n",
    "from sklearn.metrics import confusion_matrix\n",
    "from sklearn.metrics import roc_curve\n",
    "from sklearn.metrics import roc_auc_score\n",
    "import seaborn as sns\n",
    "import matplotlib.pyplot as plt"
   ]
  },
  {
   "cell_type": "code",
   "execution_count": 3,
   "metadata": {
    "ExecuteTime": {
     "end_time": "2021-09-05T21:39:59.968653Z",
     "start_time": "2021-09-05T21:39:59.966818Z"
    }
   },
   "outputs": [],
   "source": [
    "import time"
   ]
  },
  {
   "cell_type": "code",
   "execution_count": 4,
   "metadata": {
    "ExecuteTime": {
     "end_time": "2021-09-05T21:40:00.213428Z",
     "start_time": "2021-09-05T21:39:59.970022Z"
    }
   },
   "outputs": [],
   "source": [
    "df_digest_protein = pd.read_csv('data/uniprot/df_digest_protein.csv')"
   ]
  },
  {
   "cell_type": "code",
   "execution_count": 5,
   "metadata": {
    "ExecuteTime": {
     "end_time": "2021-09-05T21:40:00.229273Z",
     "start_time": "2021-09-05T21:40:00.214833Z"
    }
   },
   "outputs": [
    {
     "name": "stdout",
     "output_type": "stream",
     "text": [
      "(5853, 5)\n"
     ]
    },
    {
     "data": {
      "text/html": [
       "<div>\n",
       "<style scoped>\n",
       "    .dataframe tbody tr th:only-of-type {\n",
       "        vertical-align: middle;\n",
       "    }\n",
       "\n",
       "    .dataframe tbody tr th {\n",
       "        vertical-align: top;\n",
       "    }\n",
       "\n",
       "    .dataframe thead th {\n",
       "        text-align: right;\n",
       "    }\n",
       "</style>\n",
       "<table border=\"1\" class=\"dataframe\">\n",
       "  <thead>\n",
       "    <tr style=\"text-align: right;\">\n",
       "      <th></th>\n",
       "      <th>PROTEIN</th>\n",
       "      <th>SEQUENCE</th>\n",
       "      <th>PROTEIN_FULL</th>\n",
       "      <th>SPECTRAL_CNT</th>\n",
       "      <th>SPECTRAL_CNT_MISS</th>\n",
       "    </tr>\n",
       "  </thead>\n",
       "  <tbody>\n",
       "    <tr>\n",
       "      <th>0</th>\n",
       "      <td>sp|Q9NP61|ARFG3_HUMAN</td>\n",
       "      <td>MGDPSKQDILTIFKRLRSVPTNKVCFDCGAKNPSWASITYGVFLCI...</td>\n",
       "      <td>&gt;sp|Q9NP61|ARFG3_HUMAN ADP-ribosylation factor...</td>\n",
       "      <td>M_2;G_206;D_0;P_5;S_0;K_0;Q_7;D_3;I_3;L_3;T_3;...</td>\n",
       "      <td>M_2;G_208;D_208;P_213;S_213;K_213;Q_217;D_217;...</td>\n",
       "    </tr>\n",
       "  </tbody>\n",
       "</table>\n",
       "</div>"
      ],
      "text/plain": [
       "                 PROTEIN                                           SEQUENCE  \\\n",
       "0  sp|Q9NP61|ARFG3_HUMAN  MGDPSKQDILTIFKRLRSVPTNKVCFDCGAKNPSWASITYGVFLCI...   \n",
       "\n",
       "                                        PROTEIN_FULL  \\\n",
       "0  >sp|Q9NP61|ARFG3_HUMAN ADP-ribosylation factor...   \n",
       "\n",
       "                                        SPECTRAL_CNT  \\\n",
       "0  M_2;G_206;D_0;P_5;S_0;K_0;Q_7;D_3;I_3;L_3;T_3;...   \n",
       "\n",
       "                                   SPECTRAL_CNT_MISS  \n",
       "0  M_2;G_208;D_208;P_213;S_213;K_213;Q_217;D_217;...  "
      ]
     },
     "execution_count": 5,
     "metadata": {},
     "output_type": "execute_result"
    }
   ],
   "source": [
    "print(df_digest_protein.shape)\n",
    "df_digest_protein.head(1)"
   ]
  },
  {
   "cell_type": "markdown",
   "metadata": {},
   "source": [
    "# Digestibility Modeling\n",
    "  - labelling followed AP3 paper"
   ]
  },
  {
   "cell_type": "code",
   "execution_count": 6,
   "metadata": {
    "ExecuteTime": {
     "end_time": "2021-09-05T21:40:02.431179Z",
     "start_time": "2021-09-05T21:40:02.417538Z"
    }
   },
   "outputs": [],
   "source": [
    "def labelling_ap3(prot2cnt, prot2cnt_miss, THRESHOLD = 4):  # prot2cnt, prot2cnt_miss must be list split by ;\n",
    "\n",
    "    ts2label = dict()\n",
    "    # protein loop\n",
    "    for idx in range(len(prot2cnt)):\n",
    "        # amino acid loop in one protein\n",
    "        for amino_idx in range(len(prot2cnt[idx])):\n",
    "            # tryptic site : K, R\n",
    "            if prot2cnt[idx][amino_idx][:1] in 'KR':\n",
    "                \n",
    "                # *******TRYPTIC SITE EXTRACTING FROM PROTEIN*******\n",
    "                # tryptic site in protein N-terminal\n",
    "                if amino_idx <= THRESHOLD - 1:\n",
    "                    tryptic_site = 'Z'*(THRESHOLD-amino_idx) + ''.join([a[0] for a in prot2cnt[idx][: amino_idx+THRESHOLD + 1]])  # added Z\n",
    "                # tryptic site in protein C-terminal\n",
    "                elif amino_idx >= len(prot2cnt[idx]) - THRESHOLD:\n",
    "                    tryptic_site = ''.join([a[0] for a in prot2cnt[idx][amino_idx-THRESHOLD: amino_idx+THRESHOLD + 1]]) + 'Z'*(THRESHOLD-(len(prot2cnt[idx])-1)+amino_idx)  # added Z\n",
    "                else:\n",
    "                    tryptic_site = ''.join([a[0] for a in prot2cnt[idx][amino_idx-THRESHOLD: amino_idx+THRESHOLD + 1]])\n",
    "\n",
    "                    \n",
    "                # *******TRYPTIC SITE LABELLING (WHEN POSITIVE)*******\n",
    "                # N-terminal of tryptic site condition\n",
    "                N_Pcondition = int(prot2cnt[idx][amino_idx][2:]) >= 1\n",
    "                # C-terminal of tryptic site condition\n",
    "                if amino_idx == len(prot2cnt[idx]) - 1:  # tryptic site in last position of protein\n",
    "                    C_prot2cntondition = True\n",
    "                else:\n",
    "                    C_prot2cntondition = int(prot2cnt[idx][amino_idx + 1][2:]) >= 1\n",
    "                # miss cleavage of tryptic site contidion\n",
    "                miss_prot2cntondition = int(prot2cnt_miss[idx][amino_idx][2:]) == 0\n",
    "                # True of all above, Positive labeling\n",
    "                P_condition = (N_Pcondition == True) and (C_prot2cntondition == True) and (miss_prot2cntondition == True)\n",
    "\n",
    "                # *******TRYPTIC SITE LABELLING (WHEN NEGATIVE)*******\n",
    "                # N-terminal of tryptic site condition\n",
    "                N_NCondition = int(prot2cnt[idx][amino_idx][2:]) == 0\n",
    "                # C-terminal of tryptic site condition\n",
    "                if amino_idx == len(prot2cnt[idx]) - 1:  # tryptic site in last position of protein\n",
    "                    C_NCondition = False\n",
    "                else:\n",
    "                    C_NCondition = int(prot2cnt[idx][amino_idx + 1][2:]) == 0\n",
    "                # miss cleavage of tryptic site condition\n",
    "                miss_Ncondition = int(prot2cnt_miss[idx][amino_idx][2:]) >= 1\n",
    "                # True of all above, Negative labeling\n",
    "                N_condition = (N_NCondition == True) and (C_NCondition == True) and (miss_Ncondition == True)\n",
    "\n",
    "                # *******MAKING DATASET*******\n",
    "                if P_condition:\n",
    "                    if tryptic_site not in ts2label:\n",
    "                        ts2label[tryptic_site] = []\n",
    "                    ts2label[tryptic_site].append(('P', idx, amino_idx))\n",
    "                elif N_condition:\n",
    "                    if tryptic_site not in ts2label:\n",
    "                        ts2label[tryptic_site] = []\n",
    "                    ts2label[tryptic_site].append(('N', idx, amino_idx))\n",
    "    \n",
    "    # *******JUST FOR COUNTING*******\n",
    "    p = [k for k, v in ts2label.items() if v[0][0]=='P']\n",
    "    n = [k for k, v in ts2label.items() if v[0][0]=='N']\n",
    "    print(' P, unique p: {} \\n n, unique n: {} \\n total : {:,}'.format(\n",
    "         (len(p), len(set(p))), \n",
    "         (len(n), len(set(n))), \n",
    "         len(p)+len(n)))\n",
    "    df = pd.DataFrame({'tryptic_site':p+n, 'label':['P' if i in p else 'N' for i in p+n]})\n",
    "    return df, ts2label"
   ]
  },
  {
   "cell_type": "code",
   "execution_count": 7,
   "metadata": {
    "ExecuteTime": {
     "end_time": "2021-09-05T21:40:04.690013Z",
     "start_time": "2021-09-05T21:40:04.240943Z"
    }
   },
   "outputs": [],
   "source": [
    "prot2cnt = [_.split(';') for _ in df_digest_protein.SPECTRAL_CNT.values]\n",
    "prot2cnt_miss = [_.split(';') for _ in df_digest_protein.SPECTRAL_CNT_MISS.values]"
   ]
  },
  {
   "cell_type": "code",
   "execution_count": 8,
   "metadata": {
    "ExecuteTime": {
     "end_time": "2021-09-05T21:40:35.666631Z",
     "start_time": "2021-09-05T21:40:04.691599Z"
    }
   },
   "outputs": [
    {
     "name": "stdout",
     "output_type": "stream",
     "text": [
      " P, unique p: (47502, 47502) \n",
      " n, unique n: (14319, 14319) \n",
      " total : 61,821\n"
     ]
    }
   ],
   "source": [
    "df_digest, ts2label = labelling_ap3(prot2cnt, prot2cnt_miss, THRESHOLD=4)  # ts2label is just for checking"
   ]
  },
  {
   "cell_type": "markdown",
   "metadata": {},
   "source": [
    "* train digestibility model"
   ]
  },
  {
   "cell_type": "code",
   "execution_count": 9,
   "metadata": {
    "ExecuteTime": {
     "end_time": "2021-09-05T21:40:35.671566Z",
     "start_time": "2021-09-05T21:40:35.668770Z"
    }
   },
   "outputs": [],
   "source": [
    "def onehot_enc(aa):\n",
    "    return [1 if aa == a else 0 for a in 'ARNDCQEGHILKMFPSTWYVZ']"
   ]
  },
  {
   "cell_type": "code",
   "execution_count": 10,
   "metadata": {
    "ExecuteTime": {
     "end_time": "2021-09-05T21:40:53.577843Z",
     "start_time": "2021-09-05T21:40:35.672919Z"
    }
   },
   "outputs": [
    {
     "name": "stdout",
     "output_type": "stream",
     "text": [
      "(61821, 189) (61821,) (46365, 189) (15456, 189) (46365,) (15456,)\n"
     ]
    },
    {
     "data": {
      "text/plain": [
       "RandomForestClassifier(max_features='sqrt', n_estimators=200)"
      ]
     },
     "execution_count": 10,
     "metadata": {},
     "output_type": "execute_result"
    }
   ],
   "source": [
    "X = np.array([[__ for _ in ts for __ in onehot_enc(_)] for ts in df_digest.tryptic_site.values])\n",
    "y = df_digest.label.values\n",
    "X_train, X_test, y_train, y_test = train_test_split(X, y,\n",
    "                                                    test_size=0.25, random_state=77)\n",
    "print(X.shape, y.shape, X_train.shape, X_test.shape, y_train.shape, y_test.shape)\n",
    "RF_digest = RandomForestClassifier(n_estimators=200, max_features='sqrt')\n",
    "RF_digest.fit(X_train, y_train)"
   ]
  },
  {
   "cell_type": "code",
   "execution_count": 11,
   "metadata": {
    "ExecuteTime": {
     "end_time": "2021-09-05T21:40:55.494634Z",
     "start_time": "2021-09-05T21:40:53.579347Z"
    }
   },
   "outputs": [
    {
     "name": "stdout",
     "output_type": "stream",
     "text": [
      "              precision    recall  f1-score   support\n",
      "\n",
      "           N       0.88      0.61      0.72      3541\n",
      "           P       0.89      0.98      0.93     11915\n",
      "\n",
      "    accuracy                           0.89     15456\n",
      "   macro avg       0.89      0.79      0.83     15456\n",
      "weighted avg       0.89      0.89      0.88     15456\n",
      "\n",
      "AUC : 0.9140357727824278\n"
     ]
    }
   ],
   "source": [
    "y_pred = RF_digest.predict(X_test)\n",
    "print(classification_report(y_test, y_pred))\n",
    "probs = RF_digest.predict_proba(X_test)[:, 1]\n",
    "rf_auc = roc_auc_score(y_test, probs)\n",
    "print('AUC : {}'.format(rf_auc))"
   ]
  },
  {
   "cell_type": "code",
   "execution_count": 12,
   "metadata": {
    "ExecuteTime": {
     "end_time": "2021-09-05T21:41:17.281225Z",
     "start_time": "2021-09-05T21:40:55.495942Z"
    }
   },
   "outputs": [
    {
     "data": {
      "text/plain": [
       "RandomForestClassifier(max_features='sqrt', n_estimators=200)"
      ]
     },
     "execution_count": 12,
     "metadata": {},
     "output_type": "execute_result"
    }
   ],
   "source": [
    "RF_digest = RandomForestClassifier(n_estimators=200, max_features='sqrt')\n",
    "RF_digest.fit(X, y)  # for adjusting Detectability"
   ]
  },
  {
   "cell_type": "code",
   "execution_count": 13,
   "metadata": {
    "ExecuteTime": {
     "end_time": "2021-09-05T21:43:40.177271Z",
     "start_time": "2021-09-05T21:43:39.914853Z"
    }
   },
   "outputs": [
    {
     "data": {
      "text/plain": [
       "['compareModel/2019ACS_AP3/digestibility.joblib']"
      ]
     },
     "execution_count": 13,
     "metadata": {},
     "output_type": "execute_result"
    }
   ],
   "source": [
    "import joblib\n",
    "joblib.dump(RF_digest, 'compareModel/2019ACS_AP3/digestibility.joblib')\n",
    "# loaded_rf = joblib.load(\"my_random_forest.joblib\")"
   ]
  },
  {
   "cell_type": "markdown",
   "metadata": {},
   "source": [
    "# Detectability"
   ]
  },
  {
   "cell_type": "code",
   "execution_count": 96,
   "metadata": {
    "ExecuteTime": {
     "end_time": "2021-09-01T19:53:30.697410Z",
     "start_time": "2021-09-01T19:53:30.693530Z"
    }
   },
   "outputs": [],
   "source": [
    "def cal_digestibility(seq_li, model):\n",
    "    noseq_idx = [idx for idx, _ in enumerate(seq_li) if _ == '-']\n",
    "    X = np.array([[__ for _ in seq for __ in onehot_enc(_)] if seq != '-' else [0]*189 for seq in seq_li])\n",
    "    y_pred = model.predict_proba(X)[:, 1]  # positive probability = digestibility\n",
    "    y_pred[noseq_idx] = 1\n",
    "    return y_pred"
   ]
  },
  {
   "cell_type": "code",
   "execution_count": 163,
   "metadata": {
    "ExecuteTime": {
     "end_time": "2021-09-03T01:58:14.797833Z",
     "start_time": "2021-09-03T01:58:14.788770Z"
    }
   },
   "outputs": [],
   "source": [
    "def labelling_detect(df, aa2val, RF_digest):\n",
    "    df_ = df.copy()\n",
    "    # set tryptic site 9mer\n",
    "    df_['miss'] = [sum([1 for _ in p[:-1] if _ in 'KR']) for p in df_.PEP.values]\n",
    "    df_['En'] = df_.En.apply(lambda x: x[3:-3]).values\n",
    "    df_['Ec'] = df_.Ec.apply(lambda x: x[3:-3]).values\n",
    "    df_['E1'] = df_.E1.apply(lambda x: x[3:-3] if x != '-' else '-').values\n",
    "    df_['E2'] = df_.E2.apply(lambda x: x[3:-3] if x != '-' else '-').values\n",
    "\n",
    "    # digestibility\n",
    "    score_n = cal_digestibility(df_.En.values, RF_digest)\n",
    "    score_c = cal_digestibility(df_.Ec.values, RF_digest)\n",
    "    score_m1 = cal_digestibility(df_.E1.values, RF_digest)\n",
    "    score_m2 = cal_digestibility(df_.E2.values, RF_digest)\n",
    "    df_['digestibility'] = score_n * score_c * score_m1 * score_m2\n",
    "    \n",
    "    # get AA index\n",
    "    cols = list(range(21+len(aa2val['A'])))  # aa_cnt + aa_index length sum \n",
    "    cols_value = []\n",
    "    for seq in df_.PEP.values:\n",
    "        aa_cnt = [seq.count(a) for a in 'ARNDCQEGHILKMFPSTWYVZ']\n",
    "        aa_index = list(np.array([aa2val[aa] for aa in seq]).sum(axis=0))\n",
    "        cols_value.append(aa_cnt+aa_index)\n",
    "    df_[cols] = cols_value\n",
    "\n",
    "    df_.drop(['peptide', 'En', 'Ec', 'E1', 'E2', 'protein', 'PEP'], axis=1, inplace=True)\n",
    "    return df_"
   ]
  },
  {
   "cell_type": "code",
   "execution_count": 164,
   "metadata": {
    "ExecuteTime": {
     "end_time": "2021-09-03T01:58:37.639851Z",
     "start_time": "2021-09-03T01:58:36.858565Z"
    }
   },
   "outputs": [],
   "source": [
    "df_detect_peptide_train = pd.read_csv('data/df_detect_peptide_train.csv')\n",
    "df_detect_peptide_test = pd.read_csv('data/df_detect_peptide_test.csv')\n",
    "\n",
    "# AA index\n",
    "df_aaindex = pd.read_csv('data/aaindex/df_aaindex.csv')\n",
    "tmp = df_aaindex.drop('Unnamed: 0',axis=1).T\n",
    "aa2val = dict()\n",
    "for aa, val in zip(tmp.index, tmp.values):\n",
    "    aa2val[aa]=val"
   ]
  },
  {
   "cell_type": "markdown",
   "metadata": {},
   "source": [
    "* mRMR top 50 features selection\n",
    "  - https://github.com/smazzanti/mrmr"
   ]
  },
  {
   "cell_type": "code",
   "execution_count": 133,
   "metadata": {
    "ExecuteTime": {
     "end_time": "2021-09-01T20:12:40.837800Z",
     "start_time": "2021-09-01T20:08:49.086523Z"
    }
   },
   "outputs": [],
   "source": [
    "train = labelling_detect(df_detect_peptide_train, aa2val, RF_digest)"
   ]
  },
  {
   "cell_type": "code",
   "execution_count": 144,
   "metadata": {
    "ExecuteTime": {
     "end_time": "2021-09-01T20:21:00.533484Z",
     "start_time": "2021-09-01T20:19:06.023848Z"
    }
   },
   "outputs": [
    {
     "name": "stderr",
     "output_type": "stream",
     "text": [
      "100%|██████████| 50/50 [01:47<00:00,  2.15s/it]\n"
     ]
    }
   ],
   "source": [
    "from mrmr import mrmr_classif\n",
    "\n",
    "X = train.drop('ID', axis=1)\n",
    "y = train.ID\n",
    "\n",
    "# use mrmr classification\n",
    "selected_features = mrmr_classif(X, y, K = 50)"
   ]
  },
  {
   "cell_type": "markdown",
   "metadata": {},
   "source": [
    "* Forward Selection strategy with 10 cross validation\n",
    "  - in paper, 29 feature is optimal"
   ]
  },
  {
   "cell_type": "code",
   "execution_count": 155,
   "metadata": {
    "ExecuteTime": {
     "end_time": "2021-09-02T19:21:18.823486Z",
     "start_time": "2021-09-01T20:26:37.846844Z"
    }
   },
   "outputs": [
    {
     "name": "stdout",
     "output_type": "stream",
     "text": [
      "50 79422.62\r"
     ]
    }
   ],
   "source": [
    "start = time.time()\n",
    "\n",
    "col2auc = dict()\n",
    "for col_idx in range(1, len(selected_features)+1):\n",
    "    print(col_idx, round(time.time() - start, 2), end='\\r')\n",
    "    \n",
    "    cols = selected_features[:col_idx] + ['ID']\n",
    "    df_selection = train[cols]\n",
    "    X = df_selection.drop('ID', axis=1).values\n",
    "    y = df_selection.ID.values\n",
    "    clf = RandomForestClassifier(n_estimators=200, max_features='sqrt', random_state=7)\n",
    "    scores = cross_val_score(clf, X, y, cv=10, scoring='roc_auc')\n",
    "    col2auc[col_idx] = sum(scores) / len(scores)"
   ]
  },
  {
   "cell_type": "code",
   "execution_count": 156,
   "metadata": {
    "ExecuteTime": {
     "end_time": "2021-09-02T19:21:18.831887Z",
     "start_time": "2021-09-02T19:21:18.825674Z"
    },
    "scrolled": true
   },
   "outputs": [
    {
     "name": "stdout",
     "output_type": "stream",
     "text": [
      "(45, 0.8499230583688361)\n",
      "(48, 0.8497914719263866)\n",
      "(43, 0.8497524107468564)\n",
      "(50, 0.8496948383901068)\n",
      "(46, 0.8496924335831336)\n",
      "(40, 0.8496805354114232)\n",
      "(49, 0.849499602851991)\n",
      "(36, 0.84945648996399)\n",
      "(42, 0.8494295063527725)\n",
      "(41, 0.8494230092645314)\n",
      "(44, 0.8493955271968291)\n",
      "(39, 0.8493014654387127)\n",
      "(35, 0.8492954345276535)\n",
      "(38, 0.849273164469641)\n",
      "(47, 0.8492720579757185)\n",
      "(37, 0.8491955709273251)\n",
      "(34, 0.8489310426154184)\n",
      "(33, 0.8487004285920318)\n",
      "(32, 0.8486954525487957)\n",
      "(29, 0.8486710746756243)\n",
      "(30, 0.8485472706670505)\n",
      "(31, 0.8484964454510168)\n",
      "(27, 0.8482097803937705)\n",
      "(28, 0.8479980308347516)\n",
      "(24, 0.8479373992662428)\n",
      "(25, 0.8475430437444317)\n",
      "(26, 0.847389621134474)\n",
      "(23, 0.847331316265161)\n",
      "(21, 0.8460584833812664)\n",
      "(20, 0.8459621771838869)\n",
      "(22, 0.845894121701941)\n",
      "(19, 0.8444996644075417)\n",
      "(18, 0.84423420734087)\n",
      "(17, 0.843755695771797)\n",
      "(16, 0.8428310013061775)\n",
      "(15, 0.8414592476346338)\n",
      "(14, 0.8405921741102583)\n",
      "(13, 0.8330609636083672)\n",
      "(12, 0.8306943207023189)\n",
      "(11, 0.8288106183744584)\n",
      "(9, 0.8239306546158021)\n",
      "(10, 0.8236057660373177)\n",
      "(8, 0.8168025971627332)\n",
      "(7, 0.808298452320863)\n",
      "(6, 0.8040193203746899)\n",
      "(2, 0.8003385531722701)\n",
      "(5, 0.7984046702480666)\n",
      "(3, 0.7941048470859537)\n",
      "(1, 0.7904978118505461)\n",
      "(4, 0.7605141079324176)\n"
     ]
    }
   ],
   "source": [
    "for i in sorted(col2auc.items(), key=lambda x:x[1], reverse=True):\n",
    "    print(i)  # select 29 features"
   ]
  },
  {
   "cell_type": "markdown",
   "metadata": {},
   "source": [
    "* final training"
   ]
  },
  {
   "cell_type": "code",
   "execution_count": null,
   "metadata": {
    "ExecuteTime": {
     "end_time": "2021-09-03T02:04:01.429983Z",
     "start_time": "2021-09-03T01:58:46.550399Z"
    }
   },
   "outputs": [],
   "source": [
    "df = pd.concat([df_detect_peptide_train, df_detect_peptide_test], axis=0)\n",
    "train_idx = df_detect_peptide_train.shape[0]\n",
    "\n",
    "df_ = labelling_detect(df, aa2val, RF_digest)"
   ]
  },
  {
   "cell_type": "code",
   "execution_count": 174,
   "metadata": {
    "ExecuteTime": {
     "end_time": "2021-09-03T02:07:14.597277Z",
     "start_time": "2021-09-03T02:07:14.594665Z"
    }
   },
   "outputs": [],
   "source": [
    "train_final = df_.iloc[:train_idx]\n",
    "test_final = df_.iloc[train_idx:]"
   ]
  },
  {
   "cell_type": "code",
   "execution_count": 175,
   "metadata": {
    "ExecuteTime": {
     "end_time": "2021-09-03T02:07:18.556324Z",
     "start_time": "2021-09-03T02:07:18.536505Z"
    }
   },
   "outputs": [],
   "source": [
    "cols = selected_features[:29] + ['ID']\n",
    "train = train_final[cols]\n",
    "test = test_final[cols]"
   ]
  },
  {
   "cell_type": "code",
   "execution_count": 176,
   "metadata": {
    "ExecuteTime": {
     "end_time": "2021-09-03T02:07:21.922412Z",
     "start_time": "2021-09-03T02:07:20.903930Z"
    }
   },
   "outputs": [
    {
     "name": "stdout",
     "output_type": "stream",
     "text": [
      "(269190, 574) (67298, 574) (269190,) (67298,)\n"
     ]
    }
   ],
   "source": [
    "X_train = train_final.drop('ID', axis=1).values\n",
    "y_train = train_final.ID.values\n",
    "X_test = test_final.drop('ID', axis=1).values\n",
    "y_test = test_final.ID.values\n",
    "print(X_train.shape, X_test.shape, y_train.shape, y_test.shape)"
   ]
  },
  {
   "cell_type": "code",
   "execution_count": 177,
   "metadata": {
    "ExecuteTime": {
     "end_time": "2021-09-03T02:31:10.589434Z",
     "start_time": "2021-09-03T02:07:23.991954Z"
    }
   },
   "outputs": [
    {
     "data": {
      "text/plain": [
       "RandomForestClassifier(max_features='sqrt', n_estimators=200)"
      ]
     },
     "execution_count": 177,
     "metadata": {},
     "output_type": "execute_result"
    }
   ],
   "source": [
    "RF_detect = RandomForestClassifier(n_estimators=200, max_features='sqrt')\n",
    "RF_detect.fit(X_train, y_train)"
   ]
  },
  {
   "cell_type": "code",
   "execution_count": 178,
   "metadata": {
    "ExecuteTime": {
     "end_time": "2021-09-03T02:31:31.636719Z",
     "start_time": "2021-09-03T02:31:10.591238Z"
    }
   },
   "outputs": [
    {
     "name": "stdout",
     "output_type": "stream",
     "text": [
      "              precision    recall  f1-score   support\n",
      "\n",
      "           0       0.80      0.78      0.79     33706\n",
      "           1       0.78      0.81      0.79     33592\n",
      "\n",
      "    accuracy                           0.79     67298\n",
      "   macro avg       0.79      0.79      0.79     67298\n",
      "weighted avg       0.79      0.79      0.79     67298\n",
      "\n",
      "rf auc : 0.8757674100260682\n"
     ]
    },
    {
     "data": {
      "image/png": "[encoded data removed]",
      "text/plain": [
       "<Figure size 288x288 with 1 Axes>"
      ]
     },
     "metadata": {
      "needs_background": "light"
     },
     "output_type": "display_data"
    }
   ],
   "source": [
    "# prediction\n",
    "y_pred = RF_detect.predict(X_test)\n",
    "print(classification_report(y_test, y_pred))\n",
    "\n",
    "# AUC\n",
    "probs = RF_detect.predict_proba(X_test)[:, 1]\n",
    "rf_auc = roc_auc_score(y_test, probs)\n",
    "print('rf auc : {}'.format(rf_auc))\n",
    "# plot the roc curve for the model\n",
    "rf_fpr, rf_tpr, _ = roc_curve(y_test, probs)\n",
    "plt.figure(figsize=(4, 4))\n",
    "plt.plot(rf_fpr, rf_tpr, marker='.', label='RF AUC = {:.4f}'.format(rf_auc), color='orange')\n",
    "plt.title('ROC curve')\n",
    "# axis labels\n",
    "plt.xlabel('False Positive Rate')\n",
    "plt.ylabel('True Positive Rate')\n",
    "# show the legend\n",
    "plt.legend()\n",
    "# show the plot\n",
    "plt.show()"
   ]
  }
 ],
 "metadata": {
  "kernelspec": {
   "display_name": "TF2.0",
   "language": "python",
   "name": "bis"
  },
  "language_info": {
   "codemirror_mode": {
    "name": "ipython",
    "version": 3
   },
   "file_extension": ".py",
   "mimetype": "text/x-python",
   "name": "python",
   "nbconvert_exporter": "python",
   "pygments_lexer": "ipython3",
   "version": "3.6.12"
  }
 },
 "nbformat": 4,
 "nbformat_minor": 4
}
