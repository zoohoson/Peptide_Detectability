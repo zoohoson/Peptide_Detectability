{
 "cells": [
  {
   "cell_type": "code",
   "execution_count": 1,
   "metadata": {
    "ExecuteTime": {
     "end_time": "2021-08-29T18:11:28.549050Z",
     "start_time": "2021-08-29T18:11:28.114803Z"
    }
   },
   "outputs": [],
   "source": [
    "import pandas as pd\n",
    "import numpy as np\n",
    "import re\n",
    "import matplotlib.pyplot as plt\n",
    "pd.set_option('display.max_colwidth', 50)\n",
    "pd.set_option('display.max_rows', 100)\n",
    "pd.set_option('display.max_columns', 100)"
   ]
  },
  {
   "cell_type": "code",
   "execution_count": 2,
   "metadata": {
    "ExecuteTime": {
     "end_time": "2021-08-29T18:11:28.554018Z",
     "start_time": "2021-08-29T18:11:28.550458Z"
    }
   },
   "outputs": [],
   "source": [
    "from utils import *"
   ]
  },
  {
   "cell_type": "markdown",
   "metadata": {},
   "source": [
    "# massIVE-KB\n",
    "- https://massive.ucsd.edu/ProteoSAFe/static/massive-kb-libraries.jsp\n",
    "\n",
    "\n",
    "- Human HCD spectral library derived from over 30TB of human MS/MS proteomics data and including ProteomeTools synthetic peptides\n",
    "    - proteins : 19,611\n",
    "    - precursors : 2,154,269\n",
    "    - peptides : 1,114,503\n",
    "\n",
    "# MGF file"
   ]
  },
  {
   "cell_type": "code",
   "execution_count": 24,
   "metadata": {
    "ExecuteTime": {
     "end_time": "2021-08-28T17:20:48.434309Z",
     "start_time": "2021-08-28T17:20:39.305828Z"
    },
    "scrolled": true
   },
   "outputs": [
    {
     "name": "stdout",
     "output_type": "stream",
     "text": [
      "BEGIN IONS\n",
      "\n",
      "PEPMASS=623.3276257633\n",
      "\n",
      "CHARGE=3\n",
      "\n",
      "MSLEVEL=2\n",
      "\n",
      "COLLISION_ENERGY=0.0\n",
      "\n",
      "FILENAME=filtered_library_mgf_files/9187af535f6e41ce9583b4553469c20e.mgf\n",
      "\n",
      "SEQ=+42.011AAEAAGGKYRSTVSKSKD\n",
      "\n",
      "PROTEIN=sp|Q96A65|EXOC4_HUMAN\n",
      "\n",
      "SCANS=1\n",
      "\n",
      "SCAN=1\n",
      "\n",
      "SCORE=4.6051746015\n",
      "\n",
      "FDR=0.0\n",
      "\n",
      "129.10317993164062\t63295.375\n",
      "\n",
      "130.08726501464844\t7010.876953125\n",
      "\n",
      "136.07666015625\t14278.6826171875\n",
      "\n",
      "143.0828857421875\t5026.0068359375\n",
      "\n",
      "147.11407470703125\t7820.40576171875\n",
      "\n",
      "155.08229064941406\t4797.83935546875\n",
      "\n",
      "161.09341430664062\t12979.1123046875\n",
      "\n",
      "173.09310913085938\t12697.0185546875\n",
      "\n",
      "185.09327697753906\t46881.85546875\n",
      "\n",
      "189.08819580078125\t8073.11181640625\n",
      "\n",
      "198.1256561279297\t5272.4541015625\n",
      "\n",
      "201.08811950683594\t40607.234375\n",
      "\n",
      "216.13560485839844\t25192.845703125\n",
      "\n",
      "262.1419982910156\t13653.341796875\n",
      "\n",
      "272.1259765625\t9055.1015625\n",
      "\n",
      "314.1366882324219\t39298.5859375\n",
      "\n",
      "315.1393737792969\t6137.8544921875\n",
      "\n",
      "349.172607421875\t12984.642578125\n",
      "\n",
      "385.17431640625\t22504.26953125\n",
      "\n",
      "397.213623046875\t10097.7060546875\n",
      "\n",
      "444.7332763671875\t4657.58154296875\n",
      "\n",
      "495.26116943359375\t6029.5712890625\n",
      "\n",
      "518.950439453125\t6554.2001953125\n",
      "\n",
      "519.2841796875\t15680.146484375\n",
      "\n",
      "519.7835083007812\t12590.0302734375\n",
      "\n",
      "555.963134765625\t11306.9287109375\n",
      "\n",
      "556.2948608398438\t10221.587890625\n",
      "\n",
      "559.3228759765625\t6483.2138671875\n",
      "\n",
      "564.3023071289062\t5984.9921875\n",
      "\n",
      "578.9806518554688\t5039.107421875\n",
      "\n",
      "585.6455078125\t10929.58984375\n",
      "\n",
      "585.979736328125\t8401.439453125\n",
      "\n",
      "586.3145751953125\t6667.50732421875\n",
      "\n",
      "647.3530883789062\t5405.7021484375\n",
      "\n",
      "649.288330078125\t4079.765869140625\n",
      "\n",
      "675.8847045898438\t16373.861328125\n",
      "\n",
      "676.3903198242188\t13298.5234375\n",
      "\n",
      "678.370849609375\t6408.7451171875\n",
      "\n",
      "706.8822631835938\t36478.83203125\n",
      "\n",
      "707.3839721679688\t31141.96875\n",
      "\n",
      "707.88525390625\t7342.0\n",
      "\n",
      "711.4046630859375\t14504.1298828125\n",
      "\n",
      "711.8970336914062\t14415.857421875\n",
      "\n",
      "733.4143676757812\t6960.8095703125\n",
      "\n",
      "733.8863525390625\t4497.7685546875\n",
      "\n",
      "741.385009765625\t13215.8828125\n",
      "\n",
      "742.4005737304688\t44238.4140625\n",
      "\n",
      "742.9022827148438\t35735.8125\n",
      "\n",
      "743.4024658203125\t12062.619140625\n",
      "\n",
      "759.871337890625\t7668.55712890625\n",
      "\n",
      "768.919677734375\t4696.0439453125\n",
      "\n",
      "769.4088134765625\t6471.42724609375\n",
      "\n",
      "769.9287109375\t4991.5712890625\n",
      "\n",
      "775.9236450195312\t6939.23046875\n",
      "\n",
      "777.9199829101562\t55166.0\n",
      "\n",
      "778.42333984375\t45777.2265625\n",
      "\n",
      "778.9247436523438\t17472.501953125\n",
      "\n",
      "794.3477172851562\t7494.5830078125\n",
      "\n",
      "832.3884887695312\t4812.9853515625\n",
      "\n",
      "832.8955688476562\t5254.24951171875\n",
      "\n",
      "833.4368896484375\t8280.501953125\n",
      "\n",
      "833.9405517578125\t5167.2900390625\n",
      "\n",
      "841.3980102539062\t26124.0859375\n",
      "\n",
      "841.899658203125\t9632.5078125\n",
      "\n",
      "842.4447631835938\t20494.96875\n",
      "\n",
      "842.946044921875\t10945.3037109375\n",
      "\n",
      "843.4418334960938\t8480.3251953125\n",
      "\n",
      "877.9591064453125\t11548.5576171875\n",
      "\n",
      "878.4688720703125\t11607.9345703125\n",
      "\n",
      "878.964599609375\t5299.6298828125\n",
      "\n",
      "881.3855590820312\t5578.099609375\n",
      "\n",
      "884.916259765625\t19339.30859375\n",
      "\n",
      "885.4149780273438\t7618.1689453125\n",
      "\n",
      "888.4560546875\t11704.8583984375\n",
      "\n",
      "964.425048828125\t6520.25048828125\n",
      "\n",
      "982.4306640625\t6736.4677734375\n",
      "\n",
      "1064.59375\t6427.220703125\n",
      "\n",
      "1135.62548828125\t6853.3984375\n",
      "\n",
      "1206.6575927734375\t5952.86962890625\n",
      "\n",
      "END IONS\n",
      "\n",
      "\n",
      "\n",
      "BEGIN IONS\n",
      "\n",
      "PEPMASS=969.1032256866\n",
      "\n",
      "CHARGE=3\n",
      "\n",
      "MSLEVEL=2\n",
      "\n",
      "COLLISION_ENERGY=0.0\n",
      "\n",
      "FILENAME=filtered_library_mgf_files/9187af535f6e41ce9583b4553469c20e.mgf\n",
      "\n",
      "SEQ=+42.011AAEAGSEEGGPVTAGAGGGGAAAGSSAYPAVC+57.021R\n",
      "\n"
     ]
    }
   ],
   "source": [
    "tmp = open('data/massIVE-KB/LIBRARY_CREATION_AUGMENT_LIBRARY_TEST-82c0124b-download_filtered_mgf_library-main.mgf')\n",
    "for _ in range(100):\n",
    "    print(tmp.readline())\n",
    "tmp.close()"
   ]
  },
  {
   "cell_type": "code",
   "execution_count": 25,
   "metadata": {
    "ExecuteTime": {
     "end_time": "2021-08-28T17:27:13.723246Z",
     "start_time": "2021-08-28T17:20:54.830075Z"
    }
   },
   "outputs": [],
   "source": [
    "kb = open('data/massIVE-KB/LIBRARY_CREATION_AUGMENT_LIBRARY_TEST-82c0124b-download_filtered_mgf_library-main.mgf', 'r')\n",
    "kblines = kb.readlines()\n",
    "kb.close()\n",
    "rows = {'PEPMASS':[], 'CHARGE':[], 'MSLEVEL':[], 'COLLISION_ENERGY':[], 'FILENAME':[], 'SEQ':[],\n",
    "       'PROTEIN':[], 'STRIP_PEPTIDE':[], 'SCANS':[], 'SCAN':[], 'SCORE':[], 'FDR':[], 'MZ':[], 'INTENSITY':[]}\n",
    "ms2mz = []\n",
    "ms2int = []\n",
    "for line in kblines:\n",
    "    line = line.replace('\\n', '')\n",
    "    if 'PEPMASS=' in line:\n",
    "        rows['PEPMASS'].append(line.replace('PEPMASS=', ''))\n",
    "    elif 'CHARGE=' in line:\n",
    "        rows['CHARGE'].append(line.replace('CHARGE=', ''))\n",
    "    elif 'MSLEVEL=' in line:\n",
    "        rows['MSLEVEL'].append(line.replace('MSLEVEL=', ''))\n",
    "    elif 'COLLISION_ENERGY=' in line:\n",
    "        rows['COLLISION_ENERGY'].append(line.replace('COLLISION_ENERGY=', ''))\n",
    "    elif 'FILENAME=' in line:\n",
    "        rows['FILENAME'].append(line.replace('FILENAME=', ''))\n",
    "    elif 'SEQ=' in line:\n",
    "        rows['SEQ'].append(line.replace('SEQ=', ''))\n",
    "        rows['STRIP_PEPTIDE'].append(''.join(list(filter(lambda x: ord(x) in range(65, 91), line.replace('SEQ=', '')))))\n",
    "    elif 'PROTEIN=' in line:\n",
    "        rows['PROTEIN'].append(line.replace('PROTEIN=', ''))\n",
    "    elif 'SCANS=' in line:\n",
    "        rows['SCANS'].append(line.replace('SCANS=', ''))\n",
    "    elif 'SCAN=' in line:\n",
    "        rows['SCAN'].append(line.replace('SCAN=', ''))\n",
    "    elif 'SCORE=' in line:\n",
    "        rows['SCORE'].append(line.replace('SCORE=', ''))\n",
    "    elif 'FDR=' in line:\n",
    "        rows['FDR'].append(line.replace('FDR=', ''))\n",
    "    elif '\\t' in line:\n",
    "        mz, inten = line.split('\\t')\n",
    "        ms2mz.append(mz)\n",
    "        ms2int.append(inten)      \n",
    "    elif 'END IONS' in line:\n",
    "        rows['MZ'].append(';'.join(ms2mz))\n",
    "        rows['INTENSITY'].append(';'.join(ms2int))\n",
    "        ms2mz = []\n",
    "        ms2int = []"
   ]
  },
  {
   "cell_type": "code",
   "execution_count": 26,
   "metadata": {
    "ExecuteTime": {
     "end_time": "2021-08-28T17:27:21.875545Z",
     "start_time": "2021-08-28T17:27:13.725303Z"
    }
   },
   "outputs": [],
   "source": [
    "df_kb = pd.DataFrame(rows)\n",
    "\n",
    "print(df_kb.shape)\n",
    "df_kb.head(2)"
   ]
  },
  {
   "cell_type": "code",
   "execution_count": 43,
   "metadata": {
    "ExecuteTime": {
     "end_time": "2021-08-28T17:37:33.771656Z",
     "start_time": "2021-08-28T17:37:29.773018Z"
    }
   },
   "outputs": [
    {
     "name": "stdout",
     "output_type": "stream",
     "text": [
      "pk check :  True \n",
      "unique peptide cnt :  897881\n"
     ]
    }
   ],
   "source": [
    "# find PK\n",
    "print('pk check : ', len(df_kb) == len({(SEQ, CHARGE) for SEQ, CHARGE in df_kb[['SEQ', 'CHARGE']].values}),\n",
    "      '\\nunique peptide with not modified cnt : ', len({_ for _ in df_kb.SEQ.values if '+' not in _}))"
   ]
  },
  {
   "cell_type": "markdown",
   "metadata": {},
   "source": [
    "# All Candidate Library Spectra file\n",
    "  - for spectral count of peptide\n",
    "  - STRIP_PEPTIDE count가 아니라, experiment의 spectral count를 세야 한다.\n",
    "      - filename 으로 구분해야한다."
   ]
  },
  {
   "cell_type": "code",
   "execution_count": 7,
   "metadata": {
    "ExecuteTime": {
     "end_time": "2021-08-19T06:11:41.946455Z",
     "start_time": "2021-08-19T06:10:28.046177Z"
    }
   },
   "outputs": [],
   "source": [
    "df_candi = pd.read_csv('data/massIVE-KB/LIBRARY_CREATION_AUGMENT_LIBRARY_TEST-82c0124b-candidate_library_spectra-main.tsv', sep='\\t')\n",
    "print(df_candi.shape)\n",
    "df_candi.head(2)"
   ]
  },
  {
   "cell_type": "code",
   "execution_count": 44,
   "metadata": {
    "ExecuteTime": {
     "end_time": "2021-08-28T17:38:06.307431Z",
     "start_time": "2021-08-28T17:38:01.302814Z"
    }
   },
   "outputs": [
    {
     "name": "stdout",
     "output_type": "stream",
     "text": [
      "unique file(experiment) cnt : 27,992\n"
     ]
    }
   ],
   "source": [
    "# check experiment count\n",
    "print('unique file(experiment) cnt : {:,}'.format(len(df_candi.filename.unique())))"
   ]
  },
  {
   "cell_type": "code",
   "execution_count": 58,
   "metadata": {
    "ExecuteTime": {
     "end_time": "2021-08-28T17:47:21.357734Z",
     "start_time": "2021-08-28T17:46:53.130016Z"
    }
   },
   "outputs": [],
   "source": [
    "# check same pk\n",
    "candi_uniqset = {(SEQ, CHARGE) for SEQ, CHARGE in df_candi[['annotation', 'charge']].values}\n",
    "kb_uniqset = {(SEQ, int(CHARGE)) for SEQ, CHARGE in df_kb[['SEQ', 'CHARGE']].values}\n",
    "\n",
    "print(len(candi_uniqset), \n",
    "      len(kb_uniqset),\n",
    "      len(candi_uniqset.intersection(kb_uniqset)))"
   ]
  },
  {
   "cell_type": "code",
   "execution_count": 60,
   "metadata": {
    "ExecuteTime": {
     "end_time": "2021-08-28T17:56:06.371624Z",
     "start_time": "2021-08-28T17:52:59.984117Z"
    }
   },
   "outputs": [],
   "source": [
    "# (annotation, charge) : filename\n",
    "precursor2fn = dict()\n",
    "for p, c, fn in df_candi[['annotation', 'charge', 'filename']].values:\n",
    "    if (p, c) not in precursor2fn:\n",
    "        precursor2fn[(p, c)] = set()\n",
    "    precursor2fn[(p, c)].add(fn)\n",
    "\n",
    "precursor2cnt = {k:len(v) for k, v in precursor2fn.items()}"
   ]
  },
  {
   "cell_type": "code",
   "execution_count": 63,
   "metadata": {
    "ExecuteTime": {
     "end_time": "2021-08-28T17:56:29.855945Z",
     "start_time": "2021-08-28T17:56:26.910035Z"
    }
   },
   "outputs": [
    {
     "data": {
      "image/png": "[encoded data removed]",
      "text/plain": [
       "<Figure size 720x360 with 1 Axes>"
      ]
     },
     "metadata": {
      "needs_background": "light"
     },
     "output_type": "display_data"
    }
   ],
   "source": [
    "viz = sorted(precursor2cnt.items(), key=lambda x: x[1], reverse=True)\n",
    "x = range(len([i[0] for i in viz]))\n",
    "y = [i[1] for i in viz]\n",
    "\n",
    "plt.figure(figsize=(10,5))\n",
    "plt.plot(x, y, color='navy')\n",
    "plt.xlabel('precursor')\n",
    "plt.ylabel('# of exp')\n",
    "plt.title('experiment coount per precursor')\n",
    "plt.grid()\n",
    "plt.show()"
   ]
  },
  {
   "cell_type": "markdown",
   "metadata": {},
   "source": [
    "# Merge"
   ]
  },
  {
   "cell_type": "code",
   "execution_count": 66,
   "metadata": {
    "ExecuteTime": {
     "end_time": "2021-08-28T18:06:35.039233Z",
     "start_time": "2021-08-28T18:06:29.934887Z"
    }
   },
   "outputs": [],
   "source": [
    "df_kb['SPECTRAL_CNT'] = [precursor2cnt[(S, int(C))] for S, C in df_kb[['SEQ', 'CHARGE']].values]"
   ]
  },
  {
   "cell_type": "code",
   "execution_count": 67,
   "metadata": {
    "ExecuteTime": {
     "end_time": "2021-08-28T18:06:39.742015Z",
     "start_time": "2021-08-28T18:06:39.730185Z"
    }
   },
   "outputs": [
    {
     "data": {
      "text/html": [
       "<div>\n",
       "<style scoped>\n",
       "    .dataframe tbody tr th:only-of-type {\n",
       "        vertical-align: middle;\n",
       "    }\n",
       "\n",
       "    .dataframe tbody tr th {\n",
       "        vertical-align: top;\n",
       "    }\n",
       "\n",
       "    .dataframe thead th {\n",
       "        text-align: right;\n",
       "    }\n",
       "</style>\n",
       "<table border=\"1\" class=\"dataframe\">\n",
       "  <thead>\n",
       "    <tr style=\"text-align: right;\">\n",
       "      <th></th>\n",
       "      <th>PEPMASS</th>\n",
       "      <th>CHARGE</th>\n",
       "      <th>FILENAME</th>\n",
       "      <th>SEQ</th>\n",
       "      <th>PROTEIN</th>\n",
       "      <th>STRIP_PEPTIDE</th>\n",
       "      <th>SCORE</th>\n",
       "      <th>MZ</th>\n",
       "      <th>INTENSITY</th>\n",
       "      <th>SPECTRAL_CNT</th>\n",
       "    </tr>\n",
       "  </thead>\n",
       "  <tbody>\n",
       "    <tr>\n",
       "      <th>0</th>\n",
       "      <td>623.3276257633</td>\n",
       "      <td>3</td>\n",
       "      <td>filtered_library_mgf_files/9187af535f6e41ce958...</td>\n",
       "      <td>+42.011AAEAAGGKYRSTVSKSKD</td>\n",
       "      <td>sp|Q96A65|EXOC4_HUMAN</td>\n",
       "      <td>AAEAAGGKYRSTVSKSKD</td>\n",
       "      <td>4.6051746015</td>\n",
       "      <td>129.10317993164062;130.08726501464844;136.0766...</td>\n",
       "      <td>63295.375;7010.876953125;14278.6826171875;5026...</td>\n",
       "      <td>1</td>\n",
       "    </tr>\n",
       "  </tbody>\n",
       "</table>\n",
       "</div>"
      ],
      "text/plain": [
       "          PEPMASS CHARGE                                           FILENAME  \\\n",
       "0  623.3276257633      3  filtered_library_mgf_files/9187af535f6e41ce958...   \n",
       "\n",
       "                         SEQ                PROTEIN       STRIP_PEPTIDE  \\\n",
       "0  +42.011AAEAAGGKYRSTVSKSKD  sp|Q96A65|EXOC4_HUMAN  AAEAAGGKYRSTVSKSKD   \n",
       "\n",
       "          SCORE                                                 MZ  \\\n",
       "0  4.6051746015  129.10317993164062;130.08726501464844;136.0766...   \n",
       "\n",
       "                                           INTENSITY  SPECTRAL_CNT  \n",
       "0  63295.375;7010.876953125;14278.6826171875;5026...             1  "
      ]
     },
     "execution_count": 67,
     "metadata": {},
     "output_type": "execute_result"
    }
   ],
   "source": [
    "df_kb.head(1)"
   ]
  },
  {
   "cell_type": "markdown",
   "metadata": {},
   "source": [
    "# Del "
   ]
  },
  {
   "cell_type": "code",
   "execution_count": 35,
   "metadata": {
    "ExecuteTime": {
     "end_time": "2021-08-28T17:32:34.930278Z",
     "start_time": "2021-08-28T17:32:32.358913Z"
    }
   },
   "outputs": [
    {
     "name": "stdout",
     "output_type": "stream",
     "text": [
      "['2'] ['0.0'] True True ['0.0']\n"
     ]
    }
   ],
   "source": [
    "# del columns\n",
    "print(df_kb.MSLEVEL.unique(),\n",
    "     df_kb.COLLISION_ENERGY.unique(),\n",
    "     len(df_kb)==len(df_kb.SCANS.unique()),\n",
    "     len(df_kb)==len(df_kb.SCAN.unique()),\n",
    "     df_kb.FDR.unique())\n",
    "\n",
    "df_kb.drop(['MSLEVEL', 'COLLISION_ENERGY', 'SCANS', 'SCAN', 'FDR'], axis=1, inplace=True)"
   ]
  },
  {
   "cell_type": "code",
   "execution_count": 74,
   "metadata": {
    "ExecuteTime": {
     "end_time": "2021-08-28T18:28:19.359875Z",
     "start_time": "2021-08-28T18:26:06.820728Z"
    }
   },
   "outputs": [
    {
     "name": "stdout",
     "output_type": "stream",
     "text": [
      "unique protein cnt : 23,458\n",
      "massiveKB intersect uniprotDB cnt : 19,301\n",
      "only massiveKB protein cnt :4,157\n",
      "decoy protein cnt :3,892\n",
      "decoy protein example  ['XXX_sp|Q9Y345|SC6A5_HUMAN', 'XXX_sp|H3BNL1|CC084_HUMAN']\n",
      "else protein cnt :265\n",
      "else protein example ['sp|Q6P9B6|TLDC1_HUMAN', 'sp|P30457|1A66_HUMAN']\n",
      "deleted total precursor: 0\n",
      "deleted total row : 0\n"
     ]
    }
   ],
   "source": [
    "# del decoy proteins (including protein which not exist in uniprot)\n",
    "df_uni = pd.read_csv('data/uniprot/df_uni.csv')\n",
    "prot = [__ for _ in df_kb.PROTEIN.values for __ in _.split(';')]\n",
    "\n",
    "inter_prot = set(prot).intersection(set(df_uni.PROTEIN.unique()))\n",
    "onlykb_prot = set(prot).difference(set(df_uni.PROTEIN.unique()))\n",
    "else_prot = [_ for _ in onlykb_prot if 'XXX' not in _]\n",
    "decoy_prot = [_ for _ in onlykb_prot if 'XXX' in _]\n",
    "print('unique protein cnt : {:,}'.format(len(set(prot))))\n",
    "print('massiveKB intersect uniprotDB cnt : {:,}'.format(len(inter_prot)))\n",
    "print('only massiveKB protein cnt :{:,}'.format(len(onlykb_prot)))\n",
    "print('decoy protein cnt :{:,}'.format(len(decoy_prot)))\n",
    "print('decoy protein example ', decoy_prot[:2])\n",
    "print('else protein cnt :{:,}'.format(len(else_prot)))\n",
    "print('else protein example', else_prot[:2])\n",
    "\n",
    "# remove precursor which has only decoy protein\n",
    "prot = []\n",
    "for p in df_kb.PROTEIN.values:\n",
    "    p_list = p.split(';')\n",
    "    inter = set(p_list).intersection(decoy_prot)\n",
    "    if len(inter) >= 1:\n",
    "        [p_list.remove(_) for _ in inter]\n",
    "    prot.append(';'.join(p_list))\n",
    "df_kb['PROTEIN_except_decoy'] = prot\n",
    "\n",
    "decoy_idx = df_kb.loc[df_kb.PROTEIN_except_decoy==''].index\n",
    "print('deleted total precursor: {:,}'.format(len(decoy_idx)))\n",
    "\n",
    "df_kb.drop(decoy_idx, inplace=True)\n",
    "df_kb.reset_index(drop=True, inplace=True)\n",
    "\n",
    "# remove else protein (not exist in uniprot)\n",
    "prot = []\n",
    "for p in df_kb.PROTEIN_except_decoy.values:\n",
    "    p_list = p.split(';')\n",
    "    inter = set(p_list).intersection(else_prot)\n",
    "    if len(inter) >= 1:\n",
    "        [p_list.remove(_) for _ in inter]\n",
    "    prot.append(';'.join(p_list))\n",
    "df_kb['PROTEIN_except_else'] = prot\n",
    "\n",
    "else_idx = df_kb.loc[df_kb.PROTEIN_except_else==''].index\n",
    "print('deleted total row : {:,}'.format(len(else_idx)))\n",
    "\n",
    "df_kb.drop(else_idx, inplace=True)\n",
    "df_kb.reset_index(drop=True, inplace=True)"
   ]
  },
  {
   "cell_type": "code",
   "execution_count": 76,
   "metadata": {
    "ExecuteTime": {
     "end_time": "2021-08-28T18:28:54.712114Z",
     "start_time": "2021-08-28T18:28:53.882963Z"
    }
   },
   "outputs": [],
   "source": [
    "df_kb.drop(['PROTEIN_except_decoy', 'PROTEIN'], axis=1, inplace=True)\n",
    "df_kb.rename({'PROTEIN_except_else':'PROTEIN'}, axis=1, inplace=True)"
   ]
  },
  {
   "cell_type": "markdown",
   "metadata": {},
   "source": [
    "# EDA"
   ]
  },
  {
   "cell_type": "code",
   "execution_count": 79,
   "metadata": {
    "ExecuteTime": {
     "end_time": "2021-08-28T18:30:09.166624Z",
     "start_time": "2021-08-28T18:30:07.033404Z"
    }
   },
   "outputs": [
    {
     "name": "stdout",
     "output_type": "stream",
     "text": [
      "unique protein cnt : 19,301\n",
      "unique peptide cnt : 1,547,644\n",
      "unique stripped peptide cnt : 1,075,839\n",
      "unique precursor cnt : 2,110,805\n"
     ]
    }
   ],
   "source": [
    "prot = [__ for _ in df_kb.PROTEIN.values for __ in _.split(';')]\n",
    "print('unique protein cnt : {:,}\\nunique peptide cnt : {:,}\\nunique stripped peptide cnt : {:,}'.format(\n",
    "    len(set(prot)), len(df_kb.SEQ.unique()), len(df_kb.STRIP_PEPTIDE.unique())))\n",
    "print('unique precursor cnt : {:,}'.format(len(df_kb)))"
   ]
  },
  {
   "cell_type": "markdown",
   "metadata": {},
   "source": [
    "* peptide length distribution"
   ]
  },
  {
   "cell_type": "code",
   "execution_count": 80,
   "metadata": {
    "ExecuteTime": {
     "end_time": "2021-08-28T18:30:50.973032Z",
     "start_time": "2021-08-28T18:30:49.540110Z"
    }
   },
   "outputs": [
    {
     "data": {
      "image/png": "[encoded data removed]",
      "text/plain": [
       "<Figure size 720x72 with 1 Axes>"
      ]
     },
     "metadata": {
      "needs_background": "light"
     },
     "output_type": "display_data"
    }
   ],
   "source": [
    "length_viz = {len(i):[] for i in df_kb.STRIP_PEPTIDE.values}\n",
    "for i in df_kb.STRIP_PEPTIDE.values:\n",
    "    length_viz[len(i)].append(i)\n",
    "    \n",
    "length_viz = {k:len(v) for k, v in length_viz.items()}\n",
    "x = length_viz.keys()\n",
    "y = length_viz.values()\n",
    "plt.figure(figsize=(10,1))\n",
    "plt.bar(x, y, color='orange')\n",
    "plt.title('peptide length freq')\n",
    "plt.xlabel('peptide length')\n",
    "plt.ylabel('count')\n",
    "plt.show()"
   ]
  },
  {
   "cell_type": "code",
   "execution_count": 82,
   "metadata": {
    "ExecuteTime": {
     "end_time": "2021-08-28T18:31:40.946354Z",
     "start_time": "2021-08-28T18:31:40.943412Z"
    }
   },
   "outputs": [
    {
     "name": "stdout",
     "output_type": "stream",
     "text": [
      "6 40\n"
     ]
    }
   ],
   "source": [
    "print(min(x), max(x))"
   ]
  },
  {
   "cell_type": "code",
   "execution_count": 85,
   "metadata": {
    "ExecuteTime": {
     "end_time": "2021-08-28T18:35:30.997437Z",
     "start_time": "2021-08-28T18:35:30.993495Z"
    }
   },
   "outputs": [
    {
     "name": "stdout",
     "output_type": "stream",
     "text": [
      "7~30 length cnt : 1,992,213\n",
      "7~30 length ratio : 0.94\n"
     ]
    }
   ],
   "source": [
    "# peptide length 7~30 count\n",
    "print('7~30 length cnt : {:,}\\n7~30 length ratio : {:.2f}'.format(\n",
    "    sum(length_viz[k] for k in range(7, 31)), sum(length_viz[k] for k in range(7, 31))/len(df_kb)))"
   ]
  },
  {
   "cell_type": "markdown",
   "metadata": {},
   "source": [
    "* missed cleavage distribution"
   ]
  },
  {
   "cell_type": "code",
   "execution_count": 83,
   "metadata": {
    "ExecuteTime": {
     "end_time": "2021-08-28T18:32:50.615500Z",
     "start_time": "2021-08-28T18:32:03.885170Z"
    }
   },
   "outputs": [
    {
     "data": {
      "image/png": "[encoded data removed]",
      "text/plain": [
       "<Figure size 720x72 with 1 Axes>"
      ]
     },
     "metadata": {
      "needs_background": "light"
     },
     "output_type": "display_data"
    }
   ],
   "source": [
    "tmp = [[i for i in pep[:-1] if i in 'KR'] for pep in df_kb.STRIP_PEPTIDE.values]\n",
    "miss_dic = {len(i):0 for i in tmp}\n",
    "for i in tmp:\n",
    "    miss_dic[len(i)] += 1\n",
    "\n",
    "x = miss_dic.keys()\n",
    "y = miss_dic.values()\n",
    "plt.figure(figsize=(10,1))\n",
    "plt.bar(x, y, color='orange')\n",
    "plt.title('miss cleavage count')\n",
    "plt.xlabel('miss cleavage')\n",
    "plt.ylabel('count')\n",
    "plt.show()"
   ]
  },
  {
   "cell_type": "code",
   "execution_count": 87,
   "metadata": {
    "ExecuteTime": {
     "end_time": "2021-08-28T18:46:35.059974Z",
     "start_time": "2021-08-28T18:46:35.056194Z"
    }
   },
   "outputs": [
    {
     "name": "stdout",
     "output_type": "stream",
     "text": [
      "0~2 miss cleavage cnt : 2,005,376\n",
      "0~2 miss cleavage ratio : 0.95\n"
     ]
    }
   ],
   "source": [
    "print('0~2 miss cleavage cnt : {:,}\\n0~2 miss cleavage ratio : {:.2f}'.format(\n",
    "    sum(miss_dic[k] for k in range(0,3)), sum(miss_dic[k] for k in range(0,3))/len(df_kb)))"
   ]
  },
  {
   "cell_type": "markdown",
   "metadata": {},
   "source": [
    "* charge distribution"
   ]
  },
  {
   "cell_type": "code",
   "execution_count": 8,
   "metadata": {
    "ExecuteTime": {
     "end_time": "2021-08-29T18:15:36.903279Z",
     "start_time": "2021-08-29T18:15:36.089613Z"
    }
   },
   "outputs": [
    {
     "data": {
      "image/png": "[encoded data removed]",
      "text/plain": [
       "<Figure size 720x72 with 1 Axes>"
      ]
     },
     "metadata": {
      "needs_background": "light"
     },
     "output_type": "display_data"
    }
   ],
   "source": [
    "tmp = [c for c in df_kb.CHARGE.values]\n",
    "charge_dic = {c:0 for c in tmp}\n",
    "for c in tmp:\n",
    "    charge_dic[c] += 1\n",
    "\n",
    "x = charge_dic.keys()\n",
    "y = charge_dic.values()\n",
    "plt.figure(figsize=(10,1))\n",
    "plt.bar(x, y, color='orange')\n",
    "plt.title('charge count')\n",
    "plt.xlabel('charge')\n",
    "plt.ylabel('count')\n",
    "plt.show()"
   ]
  },
  {
   "cell_type": "code",
   "execution_count": 16,
   "metadata": {
    "ExecuteTime": {
     "end_time": "2021-08-29T18:19:03.047649Z",
     "start_time": "2021-08-29T18:19:02.935685Z"
    }
   },
   "outputs": [
    {
     "data": {
      "image/png": "[encoded data removed]",
      "text/plain": [
       "<Figure size 360x360 with 1 Axes>"
      ]
     },
     "metadata": {},
     "output_type": "display_data"
    }
   ],
   "source": [
    "plt.figure(figsize=(5,5))\n",
    "plt.pie(charge_dic.values(), autopct='%1.1f%%', labels=charge_dic.keys(), explode=[0.1]*len(charge_dic))\n",
    "plt.title('charge distribution')\n",
    "plt.show()"
   ]
  },
  {
   "cell_type": "code",
   "execution_count": 18,
   "metadata": {
    "ExecuteTime": {
     "end_time": "2021-08-29T18:20:02.503419Z",
     "start_time": "2021-08-29T18:20:02.499668Z"
    }
   },
   "outputs": [
    {
     "name": "stdout",
     "output_type": "stream",
     "text": [
      "1~6 charge rows / total rows :  0.9996245381392451\n"
     ]
    }
   ],
   "source": [
    "print('1~6 charge rows / total rows : ', sum([charge_dic[k] for k in range(1, 7)]) / len(df_kb))"
   ]
  },
  {
   "cell_type": "markdown",
   "metadata": {},
   "source": [
    "# Filtration peptide length 7~30"
   ]
  },
  {
   "cell_type": "code",
   "execution_count": 104,
   "metadata": {
    "ExecuteTime": {
     "end_time": "2021-08-28T19:08:11.308287Z",
     "start_time": "2021-08-28T19:08:10.034394Z"
    }
   },
   "outputs": [],
   "source": [
    "df_kb_filter = df_kb.loc[df_kb.STRIP_PEPTIDE.apply(lambda x: (len(x)>=7)&(len(x)<=30))].reset_index(drop=True)"
   ]
  },
  {
   "cell_type": "code",
   "execution_count": 105,
   "metadata": {
    "ExecuteTime": {
     "end_time": "2021-08-28T19:08:21.830918Z",
     "start_time": "2021-08-28T19:08:21.819646Z"
    }
   },
   "outputs": [
    {
     "name": "stdout",
     "output_type": "stream",
     "text": [
      "(1992213, 10)\n"
     ]
    },
    {
     "data": {
      "text/html": [
       "<div>\n",
       "<style scoped>\n",
       "    .dataframe tbody tr th:only-of-type {\n",
       "        vertical-align: middle;\n",
       "    }\n",
       "\n",
       "    .dataframe tbody tr th {\n",
       "        vertical-align: top;\n",
       "    }\n",
       "\n",
       "    .dataframe thead th {\n",
       "        text-align: right;\n",
       "    }\n",
       "</style>\n",
       "<table border=\"1\" class=\"dataframe\">\n",
       "  <thead>\n",
       "    <tr style=\"text-align: right;\">\n",
       "      <th></th>\n",
       "      <th>PEPMASS</th>\n",
       "      <th>CHARGE</th>\n",
       "      <th>FILENAME</th>\n",
       "      <th>SEQ</th>\n",
       "      <th>STRIP_PEPTIDE</th>\n",
       "      <th>SCORE</th>\n",
       "      <th>MZ</th>\n",
       "      <th>INTENSITY</th>\n",
       "      <th>SPECTRAL_CNT</th>\n",
       "      <th>PROTEIN</th>\n",
       "    </tr>\n",
       "  </thead>\n",
       "  <tbody>\n",
       "    <tr>\n",
       "      <th>0</th>\n",
       "      <td>623.3276257633</td>\n",
       "      <td>3</td>\n",
       "      <td>filtered_library_mgf_files/9187af535f6e41ce958...</td>\n",
       "      <td>+42.011AAEAAGGKYRSTVSKSKD</td>\n",
       "      <td>AAEAAGGKYRSTVSKSKD</td>\n",
       "      <td>4.6051746015</td>\n",
       "      <td>129.10317993164062;130.08726501464844;136.0766...</td>\n",
       "      <td>63295.375;7010.876953125;14278.6826171875;5026...</td>\n",
       "      <td>1</td>\n",
       "      <td>sp|Q96A65|EXOC4_HUMAN</td>\n",
       "    </tr>\n",
       "  </tbody>\n",
       "</table>\n",
       "</div>"
      ],
      "text/plain": [
       "          PEPMASS CHARGE                                           FILENAME  \\\n",
       "0  623.3276257633      3  filtered_library_mgf_files/9187af535f6e41ce958...   \n",
       "\n",
       "                         SEQ       STRIP_PEPTIDE         SCORE  \\\n",
       "0  +42.011AAEAAGGKYRSTVSKSKD  AAEAAGGKYRSTVSKSKD  4.6051746015   \n",
       "\n",
       "                                                  MZ  \\\n",
       "0  129.10317993164062;130.08726501464844;136.0766...   \n",
       "\n",
       "                                           INTENSITY  SPECTRAL_CNT  \\\n",
       "0  63295.375;7010.876953125;14278.6826171875;5026...             1   \n",
       "\n",
       "                 PROTEIN  \n",
       "0  sp|Q96A65|EXOC4_HUMAN  "
      ]
     },
     "execution_count": 105,
     "metadata": {},
     "output_type": "execute_result"
    }
   ],
   "source": [
    "print(df_kb_filter.shape)\n",
    "df_kb_filter.head(1)"
   ]
  },
  {
   "cell_type": "code",
   "execution_count": 20,
   "metadata": {
    "ExecuteTime": {
     "end_time": "2021-08-29T18:21:09.127512Z",
     "start_time": "2021-08-29T18:21:07.688853Z"
    }
   },
   "outputs": [],
   "source": [
    "df_kb_filter = df_kb_filter.loc[df_kb_filter.CHARGE.apply(lambda x: x<=6)].reset_index(drop=True)"
   ]
  },
  {
   "cell_type": "code",
   "execution_count": 21,
   "metadata": {
    "ExecuteTime": {
     "end_time": "2021-08-29T18:21:13.902133Z",
     "start_time": "2021-08-29T18:21:13.890790Z"
    }
   },
   "outputs": [
    {
     "name": "stdout",
     "output_type": "stream",
     "text": [
      "(1991465, 10)\n"
     ]
    },
    {
     "data": {
      "text/html": [
       "<div>\n",
       "<style scoped>\n",
       "    .dataframe tbody tr th:only-of-type {\n",
       "        vertical-align: middle;\n",
       "    }\n",
       "\n",
       "    .dataframe tbody tr th {\n",
       "        vertical-align: top;\n",
       "    }\n",
       "\n",
       "    .dataframe thead th {\n",
       "        text-align: right;\n",
       "    }\n",
       "</style>\n",
       "<table border=\"1\" class=\"dataframe\">\n",
       "  <thead>\n",
       "    <tr style=\"text-align: right;\">\n",
       "      <th></th>\n",
       "      <th>PEPMASS</th>\n",
       "      <th>CHARGE</th>\n",
       "      <th>FILENAME</th>\n",
       "      <th>SEQ</th>\n",
       "      <th>STRIP_PEPTIDE</th>\n",
       "      <th>SCORE</th>\n",
       "      <th>MZ</th>\n",
       "      <th>INTENSITY</th>\n",
       "      <th>SPECTRAL_CNT</th>\n",
       "      <th>PROTEIN</th>\n",
       "    </tr>\n",
       "  </thead>\n",
       "  <tbody>\n",
       "    <tr>\n",
       "      <th>0</th>\n",
       "      <td>623.327626</td>\n",
       "      <td>3</td>\n",
       "      <td>filtered_library_mgf_files/9187af535f6e41ce958...</td>\n",
       "      <td>+42.011AAEAAGGKYRSTVSKSKD</td>\n",
       "      <td>AAEAAGGKYRSTVSKSKD</td>\n",
       "      <td>4.605175</td>\n",
       "      <td>129.10317993164062;130.08726501464844;136.0766...</td>\n",
       "      <td>63295.375;7010.876953125;14278.6826171875;5026...</td>\n",
       "      <td>1</td>\n",
       "      <td>sp|Q96A65|EXOC4_HUMAN</td>\n",
       "    </tr>\n",
       "  </tbody>\n",
       "</table>\n",
       "</div>"
      ],
      "text/plain": [
       "      PEPMASS  CHARGE                                           FILENAME  \\\n",
       "0  623.327626       3  filtered_library_mgf_files/9187af535f6e41ce958...   \n",
       "\n",
       "                         SEQ       STRIP_PEPTIDE     SCORE  \\\n",
       "0  +42.011AAEAAGGKYRSTVSKSKD  AAEAAGGKYRSTVSKSKD  4.605175   \n",
       "\n",
       "                                                  MZ  \\\n",
       "0  129.10317993164062;130.08726501464844;136.0766...   \n",
       "\n",
       "                                           INTENSITY  SPECTRAL_CNT  \\\n",
       "0  63295.375;7010.876953125;14278.6826171875;5026...             1   \n",
       "\n",
       "                 PROTEIN  \n",
       "0  sp|Q96A65|EXOC4_HUMAN  "
      ]
     },
     "execution_count": 21,
     "metadata": {},
     "output_type": "execute_result"
    }
   ],
   "source": [
    "print(df_kb_filter.shape)\n",
    "df_kb_filter.head(1)"
   ]
  },
  {
   "cell_type": "markdown",
   "metadata": {},
   "source": [
    "# save"
   ]
  },
  {
   "cell_type": "code",
   "execution_count": 23,
   "metadata": {
    "ExecuteTime": {
     "end_time": "2021-08-29T18:26:34.073647Z",
     "start_time": "2021-08-29T18:24:24.790055Z"
    }
   },
   "outputs": [],
   "source": [
    "df_kb_filter.to_csv('data/massIVE-KB/df_kb_filter.csv', index=False)"
   ]
  }
 ],
 "metadata": {
  "hide_input": false,
  "kernelspec": {
   "display_name": "TF2.0",
   "language": "python",
   "name": "bis"
  },
  "language_info": {
   "codemirror_mode": {
    "name": "ipython",
    "version": 3
   },
   "file_extension": ".py",
   "mimetype": "text/x-python",
   "name": "python",
   "nbconvert_exporter": "python",
   "pygments_lexer": "ipython3",
   "version": "3.6.12"
  },
  "toc": {
   "base_numbering": 1,
   "nav_menu": {},
   "number_sections": true,
   "sideBar": true,
   "skip_h1_title": false,
   "title_cell": "Table of Contents",
   "title_sidebar": "Contents",
   "toc_cell": false,
   "toc_position": {},
   "toc_section_display": true,
   "toc_window_display": false
  },
  "varInspector": {
   "cols": {
    "lenName": 16,
    "lenType": 16,
    "lenVar": 40
   },
   "kernels_config": {
    "python": {
     "delete_cmd_postfix": "",
     "delete_cmd_prefix": "del ",
     "library": "var_list.py",
     "varRefreshCmd": "print(var_dic_list())"
    },
    "r": {
     "delete_cmd_postfix": ") ",
     "delete_cmd_prefix": "rm(",
     "library": "var_list.r",
     "varRefreshCmd": "cat(var_dic_list()) "
    }
   },
   "oldHeight": 834,
   "position": {
    "height": "856px",
    "left": "4px",
    "right": "20px",
    "top": "116px",
    "width": "316px"
   },
   "types_to_exclude": [
    "module",
    "function",
    "builtin_function_or_method",
    "instance",
    "_Feature"
   ],
   "varInspector_section_display": "block",
   "window_display": false
  }
 },
 "nbformat": 4,
 "nbformat_minor": 4
}
