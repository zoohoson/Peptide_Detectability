{
 "cells": [
  {
   "cell_type": "code",
   "execution_count": 1,
   "id": "b068968d",
   "metadata": {
    "ExecuteTime": {
     "end_time": "2023-03-19T17:43:08.230721Z",
     "start_time": "2023-03-19T17:43:06.263922Z"
    }
   },
   "outputs": [],
   "source": [
    "import pandas as pd\n",
    "import numpy as np\n",
    "\n",
    "import torch\n",
    "import torch.nn as nn\n",
    "import torch.nn.functional as F\n",
    "import torchvision\n",
    "import torchvision.transforms as transforms\n",
    "import torch.utils.data as Data\n",
    "import torch.nn.utils.rnn as rnn_utils\n",
    "from torch.autograd import Variable\n",
    "\n",
    "device = torch.device(\"cuda\",0)\n",
    "\n",
    "import seaborn as sns\n",
    "import matplotlib.pyplot as plt\n",
    "from sklearn.metrics import classification_report, confusion_matrix, roc_curve, roc_auc_score, accuracy_score"
   ]
  },
  {
   "cell_type": "markdown",
   "id": "f2e38479",
   "metadata": {},
   "source": [
    "# Cross species : HPP"
   ]
  },
  {
   "cell_type": "code",
   "execution_count": 2,
   "id": "600fd864",
   "metadata": {
    "ExecuteTime": {
     "end_time": "2023-03-19T17:43:09.295986Z",
     "start_time": "2023-03-19T17:43:09.279892Z"
    }
   },
   "outputs": [],
   "source": [
    "def pred(data_iter, net):\n",
    "    y_pred = []\n",
    "    for x, y in data_iter:\n",
    "        x,y=x.to(device),y.to(device)\n",
    "        outputs=net.trainModel(x)\n",
    "#         print(outputs.argmax(dim=1),\n",
    "#              outputs.argmax(dim=1)==y,\n",
    "#              (outputs.argmax(dim=1)==y).float(),\n",
    "#              (outputs.argmax(dim=1)==y).float().sum(),\n",
    "#              (outputs.argmax(dim=1)==y).float().sum().item())\n",
    "        for _ in outputs.argmax(dim=1):\n",
    "            y_pred.append(int(_))\n",
    "    return y_pred\n",
    "\n",
    "def pred_prob(data_iter, net):\n",
    "    y_pred = []\n",
    "    for x, y in data_iter:\n",
    "        x,y=x.to(device),y.to(device)\n",
    "        outputs=net.trainModel(x)\n",
    "        for _ in outputs:\n",
    "            y_pred.append(list(map(float, _)))\n",
    "    return y_pred\n",
    "\n",
    "class newModel(nn.Module):\n",
    "    def __init__(self, vocab_size=24):\n",
    "        super().__init__()\n",
    "        self.hidden_dim = 25\n",
    "        self.batch_size = 256\n",
    "        self.emb_dim = 512\n",
    "        \n",
    "        self.embedding = nn.Embedding(vocab_size, self.emb_dim, padding_idx=0)\n",
    "        self.encoder_layer = nn.TransformerEncoderLayer(d_model=512, nhead=8)\n",
    "        self.transformer_encoder = nn.TransformerEncoder(self.encoder_layer, num_layers=1)\n",
    "        \n",
    "        self.gru = nn.GRU(self.emb_dim, self.hidden_dim, num_layers=2, \n",
    "                               bidirectional=True, dropout=0.2)\n",
    "        \n",
    "        \n",
    "        self.block1=nn.Sequential(nn.Linear(4050,1024),\n",
    "                                            nn.BatchNorm1d(1024),\n",
    "                                            nn.LeakyReLU(),\n",
    "                                            nn.Linear(1024,256),\n",
    "                                 )\n",
    "\n",
    "        self.block2=nn.Sequential(\n",
    "                                               nn.BatchNorm1d(256),\n",
    "                                               nn.LeakyReLU(),\n",
    "                                               nn.Linear(256,128),\n",
    "                                               nn.BatchNorm1d(128),\n",
    "                                               nn.LeakyReLU(),\n",
    "                                               nn.Linear(128,64),\n",
    "                                               nn.BatchNorm1d(64),\n",
    "                                               nn.LeakyReLU(),\n",
    "                                               nn.Linear(64,2)\n",
    "                                            )\n",
    "        \n",
    "    def forward(self, x):\n",
    "        x=self.embedding(x)\n",
    "        output=self.transformer_encoder(x).permute(1, 0, 2)\n",
    "        output,hn=self.gru(output)\n",
    "        output=output.permute(1,0,2)\n",
    "        hn=hn.permute(1,0,2)\n",
    "        output=output.reshape(output.shape[0],-1)\n",
    "        hn=hn.reshape(output.shape[0],-1)\n",
    "        output=torch.cat([output,hn],1)\n",
    "        return self.block1(output)\n",
    "\n",
    "    def trainModel(self, x):\n",
    "        with torch.no_grad():\n",
    "            output=self.forward(x)\n",
    "        return self.block2(output)"
   ]
  },
  {
   "cell_type": "code",
   "execution_count": 3,
   "id": "3d1f5c72",
   "metadata": {
    "ExecuteTime": {
     "end_time": "2023-03-19T17:43:18.325783Z",
     "start_time": "2023-03-19T17:43:11.086126Z"
    }
   },
   "outputs": [
    {
     "data": {
      "text/plain": [
       "<All keys matched successfully>"
      ]
     },
     "execution_count": 3,
     "metadata": {},
     "output_type": "execute_result"
    }
   ],
   "source": [
    "net = newModel().to(device)\n",
    "net.load_state_dict(torch.load(f'RefModel/2021ACS_PepFormer/Model/0.pl')['model'])"
   ]
  },
  {
   "cell_type": "code",
   "execution_count": 4,
   "id": "aaed949b",
   "metadata": {
    "ExecuteTime": {
     "end_time": "2022-12-16T15:43:15.859524Z",
     "start_time": "2022-12-16T15:43:15.782463Z"
    }
   },
   "outputs": [],
   "source": [
    "df_hpp = pd.read_csv('/data/2021_SJH_detectability/data_human/HPP.csv')[['peptide', 'Class']]\n",
    "df_hpp = df_hpp.loc[df_hpp.peptide.apply(len)<=79].reset_index(drop=True)\n",
    "hpp_class = np.array(df_hpp['Class'].values)\n",
    "df_hpp['Class'] = df_hpp.Class.apply(lambda x: {'PE1': str(1), 'Detected_MPs': str(1), 'MPs': str(0)}[x])"
   ]
  },
  {
   "cell_type": "code",
   "execution_count": 4,
   "id": "26018e91",
   "metadata": {
    "ExecuteTime": {
     "end_time": "2023-03-19T17:43:18.338356Z",
     "start_time": "2023-03-19T17:43:18.330781Z"
    }
   },
   "outputs": [],
   "source": [
    "def genData(file,max_len):\n",
    "    aa_dict={'A':1,'R':2,'N':3,'D':4,'C':5,'Q':6,'E':7,'G':8,'H':9,'I':10,\n",
    "             'L':11,'K':12,'M':13,'F':14,'P':15,'O':16,'S':17,'U':18,'T':19,\n",
    "             'W':20,'Y':21,'V':22,'X':23}\n",
    "##############################################\n",
    "# original code\n",
    "    # with open(file, 'r') as inf:\n",
    "    #     lines = inf.read().splitlines()\n",
    "##############################################        \n",
    "    lines = file\n",
    "    long_pep_counter=0\n",
    "    pep_codes=[]\n",
    "    labels=[]\n",
    "    lines.append('X'*79+',-1')  # for setting format\n",
    "    for pep in lines:\n",
    "        pep,label=pep.split(\",\")\n",
    "        if not len(pep) > max_len:\n",
    "            labels.append(int(label))\n",
    "            current_pep=[]\n",
    "            for aa in pep:\n",
    "                current_pep.append(aa_dict[aa])\n",
    "            pep_codes.append(torch.tensor(current_pep))\n",
    "        else:\n",
    "            long_pep_counter += 1\n",
    "    print(\"length > {}:\".format(max_len),long_pep_counter)\n",
    "    data = rnn_utils.pad_sequence(pep_codes, batch_first=True)  # padding\n",
    "    return data, torch.tensor(labels)"
   ]
  },
  {
   "cell_type": "code",
   "execution_count": 6,
   "id": "b30d2eb6",
   "metadata": {
    "ExecuteTime": {
     "end_time": "2022-12-16T15:43:20.563943Z",
     "start_time": "2022-12-16T15:43:17.589832Z"
    }
   },
   "outputs": [
    {
     "name": "stdout",
     "output_type": "stream",
     "text": [
      "length > 79: 0\n",
      "Making predictions\n"
     ]
    }
   ],
   "source": [
    "hpp = []\n",
    "for line in df_hpp.values:\n",
    "    line = ','.join(line)\n",
    "    hpp.append(line)\n",
    "hpp_data, hpp_label = genData(hpp, 79)\n",
    "hpp_data = hpp_data[:-1]\n",
    "hpp_label = hpp_label[:-1]\n",
    "hpp_dataset = Data.TensorDataset(hpp_data, hpp_label)\n",
    "\n",
    "batch_size=256\n",
    "hpp_iter = torch.utils.data.DataLoader(hpp_dataset, batch_size=batch_size, shuffle=False)\n",
    "\n",
    "print('Making predictions')\n",
    "y_prob = np.array(pred_prob(hpp_iter, net))[:, 1]"
   ]
  },
  {
   "cell_type": "code",
   "execution_count": 7,
   "id": "fb425ffd",
   "metadata": {
    "ExecuteTime": {
     "end_time": "2022-12-16T15:43:20.613599Z",
     "start_time": "2022-12-16T15:43:20.566281Z"
    }
   },
   "outputs": [],
   "source": [
    "df_hpp = pd.concat([df_hpp, pd.DataFrame(y_prob, columns=['probs'])], axis=1)\n",
    "\n",
    "df_hpp['Class'] = hpp_class\n",
    "min_val = df_hpp.probs.min()\n",
    "max_val = df_hpp.probs.max()\n",
    "df_hpp['probs'] = df_hpp.probs.apply(lambda x: (x-min_val)/(max_val-min_val))\n",
    "\n",
    "pe = df_hpp.loc[df_hpp.Class=='PE1'][['peptide', 'probs']].drop_duplicates()\n",
    "dmp = df_hpp.loc[df_hpp.Class=='Detected_MPs'][['peptide', 'probs']].drop_duplicates()\n",
    "mp = df_hpp.loc[df_hpp.Class=='MPs'][['peptide', 'probs']].drop_duplicates()"
   ]
  },
  {
   "cell_type": "code",
   "execution_count": 8,
   "id": "4b4d54af",
   "metadata": {
    "ExecuteTime": {
     "end_time": "2022-12-16T15:43:22.187175Z",
     "start_time": "2022-12-16T15:43:22.005039Z"
    }
   },
   "outputs": [
    {
     "data": {
      "image/png": "[encoded data removed]",
      "text/plain": [
       "<Figure size 360x216 with 1 Axes>"
      ]
     },
     "metadata": {
      "needs_background": "light"
     },
     "output_type": "display_data"
    }
   ],
   "source": [
    "plt.figure(figsize=(5,3))\n",
    "a = plt.violinplot([pe.probs.astype(float), \n",
    "                    dmp.probs.astype(float), \n",
    "                    mp.probs.astype(float)],\n",
    "               showmeans=True,\n",
    "              )\n",
    "plt.xticks([y + 1 for y in range(len([pe,dmp,mp]))], ['PE1', 'Detected MPs', 'Current MPs'])\n",
    "b = plt.grid(axis='y')\n",
    "plt.show()"
   ]
  },
  {
   "cell_type": "code",
   "execution_count": 9,
   "id": "e8a8bb88",
   "metadata": {
    "ExecuteTime": {
     "end_time": "2022-12-16T15:43:39.391937Z",
     "start_time": "2022-12-16T15:43:38.967851Z"
    }
   },
   "outputs": [
    {
     "name": "stdout",
     "output_type": "stream",
     "text": [
      "TEST Accuracy : 0.8310058866497658\n",
      "TEST AUC : 0.8309232336701081\n",
      "              precision    recall  f1-score   support\n",
      "\n",
      "           0     0.7589    0.5409    0.6316      6234\n",
      "           1     0.8480    0.9371    0.8904     17039\n",
      "\n",
      "    accuracy                         0.8310     23273\n",
      "   macro avg     0.8035    0.7390    0.7610     23273\n",
      "weighted avg     0.8242    0.8310    0.8211     23273\n",
      "\n"
     ]
    },
    {
     "data": {
      "image/png": "[encoded data removed]",
      "text/plain": [
       "<Figure size 288x288 with 1 Axes>"
      ]
     },
     "metadata": {
      "needs_background": "light"
     },
     "output_type": "display_data"
    },
    {
     "data": {
      "image/png": "[encoded data removed]",
      "text/plain": [
       "<Figure size 216x216 with 2 Axes>"
      ]
     },
     "metadata": {
      "needs_background": "light"
     },
     "output_type": "display_data"
    }
   ],
   "source": [
    "hpp_prob = np.concatenate([pe.probs.values, dmp.probs.values, mp.probs.values])\n",
    "hpp_pred = np.array([1 if _ >= 0.5 else 0 for _ in hpp_prob])\n",
    "hpp_true = np.array([1]*len(pe) + [1]*len(dmp) + [0]*len(mp))\n",
    "\n",
    "auc = roc_auc_score(hpp_true, hpp_prob)\n",
    "acc = accuracy_score(hpp_true,hpp_pred)\n",
    "print('TEST Accuracy : {}'.format(acc))\n",
    "print('TEST AUC : {}'.format(auc))\n",
    "print(classification_report(hpp_true, hpp_pred, digits=4))\n",
    "\n",
    "\n",
    "plt.figure(figsize=(4, 4))\n",
    "fpr, tpr, threshold = roc_curve(hpp_true, hpp_prob)\n",
    "plt.plot(fpr, tpr, marker='.', label='AUC = {:.4f}'.format(auc), color='orange')\n",
    "plt.title('ROC curve')\n",
    "plt.xlabel('False Positive Rate')\n",
    "plt.ylabel('True Positive Rate')\n",
    "plt.legend()\n",
    "plt.show()\n",
    "\n",
    "cf_matrix = confusion_matrix(hpp_true, hpp_pred)\n",
    "plt.figure(figsize=(3, 3))\n",
    "sns.heatmap(cf_matrix, annot=True, fmt=',.0f')\n",
    "plt.show()"
   ]
  },
  {
   "cell_type": "code",
   "execution_count": 10,
   "id": "f2050fdd",
   "metadata": {
    "ExecuteTime": {
     "end_time": "2022-12-16T15:44:16.930186Z",
     "start_time": "2022-12-16T15:44:16.925316Z"
    }
   },
   "outputs": [],
   "source": [
    "np.save('log/result_HPP_PepFormer_fpr.npy', fpr)\n",
    "np.save('log/result_HPP_PepFormer_tpr.npy', tpr)\n",
    "np.save('log/result_HPP_PepFormer_threshold.npy', threshold)\n",
    "np.save('log/result_HPP_PepFormer_prob.npy', hpp_prob)\n",
    "np.save('log/result_HPP_PepFormer_true.npy', hpp_true)"
   ]
  },
  {
   "cell_type": "markdown",
   "id": "b2d4c190",
   "metadata": {},
   "source": [
    "# Cross species : Mouse"
   ]
  },
  {
   "cell_type": "code",
   "execution_count": 12,
   "id": "39172757",
   "metadata": {
    "ExecuteTime": {
     "end_time": "2022-12-16T15:51:57.014355Z",
     "start_time": "2022-12-16T15:46:29.341003Z"
    }
   },
   "outputs": [
    {
     "name": "stdout",
     "output_type": "stream",
     "text": [
      "length > 79: 0\n",
      "Test AUC : 0.8331598547118834\n",
      "              precision    recall  f1-score   support\n",
      "\n",
      "           0     0.9984    0.5461    0.7060   1436852\n",
      "           1     0.1045    0.9835    0.1890     77418\n",
      "\n",
      "    accuracy                         0.5685   1514270\n",
      "   macro avg     0.5515    0.7648    0.4475   1514270\n",
      "weighted avg     0.9527    0.5685    0.6796   1514270\n",
      "\n"
     ]
    },
    {
     "data": {
      "image/png": "[encoded data removed]",
      "text/plain": [
       "<Figure size 288x288 with 1 Axes>"
      ]
     },
     "metadata": {
      "needs_background": "light"
     },
     "output_type": "display_data"
    },
    {
     "data": {
      "image/png": "[encoded data removed]",
      "text/plain": [
       "<Figure size 216x216 with 2 Axes>"
      ]
     },
     "metadata": {
      "needs_background": "light"
     },
     "output_type": "display_data"
    }
   ],
   "source": [
    "tmp = pd.concat([\n",
    "    pd.read_csv('/data/2021_SJH_detectability/data_cross_species/raw/mouse/KLife/train.csv'),\n",
    "    pd.read_csv('/data/2021_SJH_detectability/data_cross_species/raw/mouse/KLife/test.csv'),\n",
    "])[['peptide', 'label']]  # .drop_duplicates()\n",
    "tmp = tmp[tmp.peptide.apply(lambda x: 'B' not in x)].reset_index(drop=True)\n",
    "tmp = tmp[tmp.peptide.apply(lambda x: 'Z' not in x)].reset_index(drop=True)\n",
    "\n",
    "tmp['label'] = tmp['label'].apply(lambda x: {True: str(1), False: str(0)}[x])\n",
    "test = []\n",
    "for line in tmp.values:\n",
    "    line = ','.join(line)\n",
    "    test.append(line)\n",
    "\n",
    "test_data, test_label = genData(test, 79)\n",
    "test_data = test_data[:-1]\n",
    "test_label = test_label[:-1]\n",
    "test_dataset = Data.TensorDataset(test_data, test_label)\n",
    "batch_size=256\n",
    "test_iter = torch.utils.data.DataLoader(test_dataset, batch_size=batch_size, shuffle=False)\n",
    "\n",
    "y_pred = pred(test_iter, net)\n",
    "probs = np.array(pred_prob(test_iter, net))[:, 1]\n",
    "\n",
    "# acc = evaluate_accuracy(test_iter,net)\n",
    "auc = roc_auc_score(test_label, probs)\n",
    "\n",
    "# print('Test Accuracy: {}'.format(acc))\n",
    "print('Test AUC : {}'.format(auc))\n",
    "print(classification_report(test_label, y_pred, digits=4))\n",
    "\n",
    "plt.figure(figsize=(4, 4))\n",
    "fpr, tpr, threshold = roc_curve(test_label, probs)\n",
    "plt.plot(fpr, tpr, marker='.', label='AUC = {:.4f}'.format(auc), color='orange')\n",
    "plt.title('ROC curve')\n",
    "plt.xlabel('False Positive Rate')\n",
    "plt.ylabel('True Positive Rate')\n",
    "plt.legend()\n",
    "plt.show()\n",
    "\n",
    "cf_matrix = confusion_matrix(test_label, y_pred)\n",
    "plt.figure(figsize=(3, 3))\n",
    "sns.heatmap(cf_matrix, annot=True, fmt=',.0f')\n",
    "plt.show()\n",
    "\n",
    "np.save('log/result_mouse_KLife_PepFormer_fpr.npy', fpr)\n",
    "np.save('log/result_mouse_KLife_PepFormer_tpr.npy', tpr)\n",
    "np.save('log/result_mouse_KLife_PepFormer_threshold.npy', threshold)\n",
    "np.save('log/result_mouse_KLife_PepFormer_prob.npy', probs)\n",
    "np.save('log/result_mouse_KLife_PepFormer_true.npy', test_label)"
   ]
  },
  {
   "cell_type": "code",
   "execution_count": 6,
   "id": "1c359a60",
   "metadata": {
    "ExecuteTime": {
     "end_time": "2023-03-19T17:53:57.403310Z",
     "start_time": "2023-03-19T17:45:38.989327Z"
    }
   },
   "outputs": [
    {
     "name": "stdout",
     "output_type": "stream",
     "text": [
      "length > 79: 0\n",
      "Test AUC : 0.8277613276121357\n",
      "              precision    recall  f1-score   support\n",
      "\n",
      "           0     0.9973    0.5478    0.7071   1385973\n",
      "           1     0.1120    0.9743    0.2009     81135\n",
      "\n",
      "    accuracy                         0.5714   1467108\n",
      "   macro avg     0.5546    0.7610    0.4540   1467108\n",
      "weighted avg     0.9483    0.5714    0.6791   1467108\n",
      "\n"
     ]
    },
    {
     "data": {
      "image/png": "[encoded data removed]",
      "text/plain": [
       "<Figure size 288x288 with 1 Axes>"
      ]
     },
     "metadata": {
      "needs_background": "light"
     },
     "output_type": "display_data"
    },
    {
     "data": {
      "image/png": "[encoded data removed]",
      "text/plain": [
       "<Figure size 216x216 with 2 Axes>"
      ]
     },
     "metadata": {
      "needs_background": "light"
     },
     "output_type": "display_data"
    }
   ],
   "source": [
    "tmp = pd.read_csv('/data/2021_SJH_detectability/diff_tool/mouse_eph4/data.csv')[['peptide', 'label']]  # .drop_duplicates()\n",
    "tmp = tmp[tmp.peptide.apply(lambda x: 'B' not in x)].reset_index(drop=True)\n",
    "tmp = tmp[tmp.peptide.apply(lambda x: 'Z' not in x)].reset_index(drop=True)\n",
    "\n",
    "tmp['label'] = tmp['label'].apply(lambda x: {True: str(1), False: str(0)}[x])\n",
    "test = []\n",
    "for line in tmp.values:\n",
    "    line = ','.join(line)\n",
    "    test.append(line)\n",
    "\n",
    "test_data, test_label = genData(test, 79)\n",
    "test_data = test_data[:-1]\n",
    "test_label = test_label[:-1]\n",
    "test_dataset = Data.TensorDataset(test_data, test_label)\n",
    "batch_size=256\n",
    "test_iter = torch.utils.data.DataLoader(test_dataset, batch_size=batch_size, shuffle=False)\n",
    "\n",
    "y_pred = pred(test_iter, net)\n",
    "probs = np.array(pred_prob(test_iter, net))[:, 1]\n",
    "\n",
    "# acc = evaluate_accuracy(test_iter,net)\n",
    "auc = roc_auc_score(test_label, probs)\n",
    "\n",
    "# print('Test Accuracy: {}'.format(acc))\n",
    "print('Test AUC : {}'.format(auc))\n",
    "print(classification_report(test_label, y_pred, digits=4))\n",
    "\n",
    "plt.figure(figsize=(4, 4))\n",
    "fpr, tpr, threshold = roc_curve(test_label, probs)\n",
    "plt.plot(fpr, tpr, marker='.', label='AUC = {:.4f}'.format(auc), color='orange')\n",
    "plt.title('ROC curve')\n",
    "plt.xlabel('False Positive Rate')\n",
    "plt.ylabel('True Positive Rate')\n",
    "plt.legend()\n",
    "plt.show()\n",
    "\n",
    "cf_matrix = confusion_matrix(test_label, y_pred)\n",
    "plt.figure(figsize=(3, 3))\n",
    "sns.heatmap(cf_matrix, annot=True, fmt=',.0f')\n",
    "plt.show()\n",
    "\n",
    "np.save('log/result_mouse_msgf_KLife_PepFormer_fpr.npy', fpr)\n",
    "np.save('log/result_mouse_msgf_KLife_PepFormer_tpr.npy', tpr)\n",
    "np.save('log/result_mouse_msgf_KLife_PepFormer_threshold.npy', threshold)\n",
    "np.save('log/result_mouse_msgf_KLife_PepFormer_prob.npy', probs)\n",
    "np.save('log/result_mouse_msgf_KLife_PepFormer_true.npy', test_label)"
   ]
  },
  {
   "cell_type": "code",
   "execution_count": 13,
   "id": "0ef99c9f",
   "metadata": {
    "ExecuteTime": {
     "end_time": "2022-12-16T15:56:51.460339Z",
     "start_time": "2022-12-16T15:51:57.016234Z"
    }
   },
   "outputs": [
    {
     "name": "stdout",
     "output_type": "stream",
     "text": [
      "length > 79: 0\n",
      "Test AUC : 0.8247735024024605\n",
      "              precision    recall  f1-score   support\n",
      "\n",
      "           0     0.9973    0.5460    0.7056   1257928\n",
      "           1     0.1057    0.9730    0.1906     69344\n",
      "\n",
      "    accuracy                         0.5683   1327272\n",
      "   macro avg     0.5515    0.7595    0.4481   1327272\n",
      "weighted avg     0.9507    0.5683    0.6787   1327272\n",
      "\n"
     ]
    },
    {
     "data": {
      "image/png": "[encoded data removed]",
      "text/plain": [
       "<Figure size 288x288 with 1 Axes>"
      ]
     },
     "metadata": {
      "needs_background": "light"
     },
     "output_type": "display_data"
    },
    {
     "data": {
      "image/png": "[encoded data removed]",
      "text/plain": [
       "<Figure size 216x216 with 2 Axes>"
      ]
     },
     "metadata": {
      "needs_background": "light"
     },
     "output_type": "display_data"
    }
   ],
   "source": [
    "tmp = pd.concat([\n",
    "    pd.read_csv('/data/2021_SJH_detectability/data_cross_species/raw/mouse/SkeletaMuscle/train.csv'),\n",
    "    pd.read_csv('/data/2021_SJH_detectability/data_cross_species/raw/mouse/SkeletaMuscle/test.csv'),\n",
    "])[['peptide', 'label']]  # .drop_duplicates()\n",
    "tmp = tmp[tmp.peptide.apply(lambda x: 'B' not in x)].reset_index(drop=True)\n",
    "tmp = tmp[tmp.peptide.apply(lambda x: 'Z' not in x)].reset_index(drop=True)\n",
    "\n",
    "tmp['label'] = tmp['label'].apply(lambda x: {True: str(1), False: str(0)}[x])\n",
    "test = []\n",
    "for line in tmp.values:\n",
    "    line = ','.join(line)\n",
    "    test.append(line)\n",
    "\n",
    "test_data, test_label = genData(test, 79)\n",
    "test_data = test_data[:-1]\n",
    "test_label = test_label[:-1]\n",
    "test_dataset = Data.TensorDataset(test_data, test_label)\n",
    "batch_size=256\n",
    "test_iter = torch.utils.data.DataLoader(test_dataset, batch_size=batch_size, shuffle=False)\n",
    "\n",
    "y_pred = pred(test_iter, net)\n",
    "probs = np.array(pred_prob(test_iter, net))[:, 1]\n",
    "\n",
    "# acc = evaluate_accuracy(test_iter,net)\n",
    "auc = roc_auc_score(test_label, probs)\n",
    "\n",
    "# print('Test Accuracy: {}'.format(acc))\n",
    "print('Test AUC : {}'.format(auc))\n",
    "print(classification_report(test_label, y_pred, digits=4))\n",
    "\n",
    "plt.figure(figsize=(4, 4))\n",
    "fpr, tpr, threshold = roc_curve(test_label, probs)\n",
    "plt.plot(fpr, tpr, marker='.', label='AUC = {:.4f}'.format(auc), color='orange')\n",
    "plt.title('ROC curve')\n",
    "plt.xlabel('False Positive Rate')\n",
    "plt.ylabel('True Positive Rate')\n",
    "plt.legend()\n",
    "plt.show()\n",
    "\n",
    "cf_matrix = confusion_matrix(test_label, y_pred)\n",
    "plt.figure(figsize=(3, 3))\n",
    "sns.heatmap(cf_matrix, annot=True, fmt=',.0f')\n",
    "plt.show()\n",
    "\n",
    "np.save('log/result_mouse_SkeletaMuscle_PepFormer_fpr.npy', fpr)\n",
    "np.save('log/result_mouse_SkeletaMuscle_PepFormer_tpr.npy', tpr)\n",
    "np.save('log/result_mouse_SkeletaMuscle_PepFormer_threshold.npy', threshold)\n",
    "np.save('log/result_mouse_SkeletaMuscle_PepFormer_prob.npy', probs)\n",
    "np.save('log/result_mouse_SkeletaMuscle_PepFormer_true.npy', test_label)"
   ]
  },
  {
   "cell_type": "code",
   "execution_count": 7,
   "id": "1b31164c",
   "metadata": {
    "ExecuteTime": {
     "end_time": "2023-03-19T18:01:20.484816Z",
     "start_time": "2023-03-19T17:53:57.405980Z"
    }
   },
   "outputs": [
    {
     "name": "stdout",
     "output_type": "stream",
     "text": [
      "length > 79: 0\n",
      "Test AUC : 0.8176719360399799\n",
      "              precision    recall  f1-score   support\n",
      "\n",
      "           0     0.9960    0.5456    0.7050   1265207\n",
      "           1     0.1060    0.9613    0.1910     70913\n",
      "\n",
      "    accuracy                         0.5677   1336120\n",
      "   macro avg     0.5510    0.7535    0.4480   1336120\n",
      "weighted avg     0.9488    0.5677    0.6777   1336120\n",
      "\n"
     ]
    },
    {
     "data": {
      "image/png": "[encoded data removed]",
      "text/plain": [
       "<Figure size 288x288 with 1 Axes>"
      ]
     },
     "metadata": {
      "needs_background": "light"
     },
     "output_type": "display_data"
    },
    {
     "data": {
      "image/png": "[encoded data removed]",
      "text/plain": [
       "<Figure size 216x216 with 2 Axes>"
      ]
     },
     "metadata": {
      "needs_background": "light"
     },
     "output_type": "display_data"
    }
   ],
   "source": [
    "tmp = pd.read_csv('/data/2021_SJH_detectability/diff_tool/mouse_tmuscle/data.csv')[['peptide', 'label']]  # .drop_duplicates()\n",
    "tmp = tmp[tmp.peptide.apply(lambda x: 'B' not in x)].reset_index(drop=True)\n",
    "tmp = tmp[tmp.peptide.apply(lambda x: 'Z' not in x)].reset_index(drop=True)\n",
    "\n",
    "tmp['label'] = tmp['label'].apply(lambda x: {True: str(1), False: str(0)}[x])\n",
    "test = []\n",
    "for line in tmp.values:\n",
    "    line = ','.join(line)\n",
    "    test.append(line)\n",
    "\n",
    "test_data, test_label = genData(test, 79)\n",
    "test_data = test_data[:-1]\n",
    "test_label = test_label[:-1]\n",
    "test_dataset = Data.TensorDataset(test_data, test_label)\n",
    "batch_size=256\n",
    "test_iter = torch.utils.data.DataLoader(test_dataset, batch_size=batch_size, shuffle=False)\n",
    "\n",
    "y_pred = pred(test_iter, net)\n",
    "probs = np.array(pred_prob(test_iter, net))[:, 1]\n",
    "\n",
    "# acc = evaluate_accuracy(test_iter,net)\n",
    "auc = roc_auc_score(test_label, probs)\n",
    "\n",
    "# print('Test Accuracy: {}'.format(acc))\n",
    "print('Test AUC : {}'.format(auc))\n",
    "print(classification_report(test_label, y_pred, digits=4))\n",
    "\n",
    "plt.figure(figsize=(4, 4))\n",
    "fpr, tpr, threshold = roc_curve(test_label, probs)\n",
    "plt.plot(fpr, tpr, marker='.', label='AUC = {:.4f}'.format(auc), color='orange')\n",
    "plt.title('ROC curve')\n",
    "plt.xlabel('False Positive Rate')\n",
    "plt.ylabel('True Positive Rate')\n",
    "plt.legend()\n",
    "plt.show()\n",
    "\n",
    "cf_matrix = confusion_matrix(test_label, y_pred)\n",
    "plt.figure(figsize=(3, 3))\n",
    "sns.heatmap(cf_matrix, annot=True, fmt=',.0f')\n",
    "plt.show()\n",
    "\n",
    "np.save('log/result_mouse_msgf_SkeletaMuscle_PepFormer_fpr.npy', fpr)\n",
    "np.save('log/result_mouse_msgf_SkeletaMuscle_PepFormer_tpr.npy', tpr)\n",
    "np.save('log/result_mouse_msgf_SkeletaMuscle_PepFormer_threshold.npy', threshold)\n",
    "np.save('log/result_mouse_msgf_SkeletaMuscle_PepFormer_prob.npy', probs)\n",
    "np.save('log/result_mouse_msgf_SkeletaMuscle_PepFormer_true.npy', test_label)"
   ]
  },
  {
   "cell_type": "markdown",
   "id": "a63ddc2d",
   "metadata": {},
   "source": [
    "# Cross species : Human"
   ]
  },
  {
   "cell_type": "code",
   "execution_count": 14,
   "id": "e341ecc6",
   "metadata": {
    "ExecuteTime": {
     "end_time": "2022-12-16T16:04:43.034521Z",
     "start_time": "2022-12-16T15:56:51.462316Z"
    }
   },
   "outputs": [
    {
     "name": "stdout",
     "output_type": "stream",
     "text": [
      "length > 79: 0\n",
      "Test AUC : 0.8136893732874465\n",
      "              precision    recall  f1-score   support\n",
      "\n",
      "           0     0.9955    0.5550    0.7126   1862789\n",
      "           1     0.1341    0.9648    0.2355    133071\n",
      "\n",
      "    accuracy                         0.5823   1995860\n",
      "   macro avg     0.5648    0.7599    0.4741   1995860\n",
      "weighted avg     0.9381    0.5823    0.6808   1995860\n",
      "\n"
     ]
    },
    {
     "data": {
      "image/png": "[encoded data removed]",
      "text/plain": [
       "<Figure size 288x288 with 1 Axes>"
      ]
     },
     "metadata": {
      "needs_background": "light"
     },
     "output_type": "display_data"
    },
    {
     "data": {
      "image/png": "[encoded data removed]",
      "text/plain": [
       "<Figure size 216x216 with 2 Axes>"
      ]
     },
     "metadata": {
      "needs_background": "light"
     },
     "output_type": "display_data"
    }
   ],
   "source": [
    "tmp = pd.concat([\n",
    "    pd.read_csv('/data/2021_SJH_detectability/data_cross_species/raw/human/HEK293/train.csv'),\n",
    "    pd.read_csv('/data/2021_SJH_detectability/data_cross_species/raw/human/HEK293/test.csv'),\n",
    "])[['peptide', 'label']]#.drop_duplicates()\n",
    "\n",
    "tmp['label'] = tmp['label'].apply(lambda x: {True: str(1), False: str(0)}[x])\n",
    "test = []\n",
    "for line in tmp.values:\n",
    "    line = ','.join(line)\n",
    "    test.append(line)\n",
    "\n",
    "test_data, test_label = genData(test, 79)\n",
    "test_data = test_data[:-1]\n",
    "test_label = test_label[:-1]\n",
    "test_dataset = Data.TensorDataset(test_data, test_label)\n",
    "batch_size=256\n",
    "test_iter = torch.utils.data.DataLoader(test_dataset, batch_size=batch_size, shuffle=False)\n",
    "\n",
    "y_pred = pred(test_iter, net)\n",
    "probs = np.array(pred_prob(test_iter, net))[:, 1]\n",
    "\n",
    "# acc = evaluate_accuracy(test_iter,net)\n",
    "auc = roc_auc_score(test_label, probs)\n",
    "\n",
    "# print('Test Accuracy: {}'.format(acc))\n",
    "print('Test AUC : {}'.format(auc))\n",
    "print(classification_report(test_label, y_pred, digits=4))\n",
    "\n",
    "plt.figure(figsize=(4, 4))\n",
    "fpr, tpr, threshold = roc_curve(test_label, probs)\n",
    "plt.plot(fpr, tpr, marker='.', label='AUC = {:.4f}'.format(auc), color='orange')\n",
    "plt.title('ROC curve')\n",
    "plt.xlabel('False Positive Rate')\n",
    "plt.ylabel('True Positive Rate')\n",
    "plt.legend()\n",
    "plt.show()\n",
    "\n",
    "cf_matrix = confusion_matrix(test_label, y_pred)\n",
    "plt.figure(figsize=(3, 3))\n",
    "sns.heatmap(cf_matrix, annot=True, fmt=',.0f')\n",
    "plt.show()\n",
    "\n",
    "np.save('log/result_human_HEK293_PepFormer_fpr.npy', fpr)\n",
    "np.save('log/result_human_HEK293_PepFormer_tpr.npy', tpr)\n",
    "np.save('log/result_human_HEK293_PepFormer_threshold.npy', threshold)\n",
    "np.save('log/result_human_HEK293_PepFormer_prob.npy', probs)\n",
    "np.save('log/result_human_HEK293_PepFormer_true.npy', test_label)"
   ]
  },
  {
   "cell_type": "code",
   "execution_count": 8,
   "id": "149aa537",
   "metadata": {
    "ExecuteTime": {
     "end_time": "2023-03-19T18:12:45.216393Z",
     "start_time": "2023-03-19T18:01:20.488147Z"
    }
   },
   "outputs": [
    {
     "name": "stdout",
     "output_type": "stream",
     "text": [
      "length > 79: 0\n",
      "Test AUC : 0.8127688692616476\n",
      "              precision    recall  f1-score   support\n",
      "\n",
      "           0     0.9947    0.5567    0.7139   1723461\n",
      "           1     0.1423    0.9611    0.2479    131848\n",
      "\n",
      "    accuracy                         0.5855   1855309\n",
      "   macro avg     0.5685    0.7589    0.4809   1855309\n",
      "weighted avg     0.9341    0.5855    0.6808   1855309\n",
      "\n"
     ]
    },
    {
     "data": {
      "image/png": "[encoded data removed]",
      "text/plain": [
       "<Figure size 288x288 with 1 Axes>"
      ]
     },
     "metadata": {
      "needs_background": "light"
     },
     "output_type": "display_data"
    },
    {
     "data": {
      "image/png": "[encoded data removed]",
      "text/plain": [
       "<Figure size 216x216 with 2 Axes>"
      ]
     },
     "metadata": {
      "needs_background": "light"
     },
     "output_type": "display_data"
    }
   ],
   "source": [
    "tmp = pd.read_csv('/data/2021_SJH_detectability/diff_tool/human_hek293/data.csv')[['peptide', 'label']]#.drop_duplicates()\n",
    "\n",
    "tmp['label'] = tmp['label'].apply(lambda x: {True: str(1), False: str(0)}[x])\n",
    "test = []\n",
    "for line in tmp.values:\n",
    "    line = ','.join(line)\n",
    "    test.append(line)\n",
    "\n",
    "test_data, test_label = genData(test, 79)\n",
    "test_data = test_data[:-1]\n",
    "test_label = test_label[:-1]\n",
    "test_dataset = Data.TensorDataset(test_data, test_label)\n",
    "batch_size=256\n",
    "test_iter = torch.utils.data.DataLoader(test_dataset, batch_size=batch_size, shuffle=False)\n",
    "\n",
    "y_pred = pred(test_iter, net)\n",
    "probs = np.array(pred_prob(test_iter, net))[:, 1]\n",
    "\n",
    "# acc = evaluate_accuracy(test_iter,net)\n",
    "auc = roc_auc_score(test_label, probs)\n",
    "\n",
    "# print('Test Accuracy: {}'.format(acc))\n",
    "print('Test AUC : {}'.format(auc))\n",
    "print(classification_report(test_label, y_pred, digits=4))\n",
    "\n",
    "plt.figure(figsize=(4, 4))\n",
    "fpr, tpr, threshold = roc_curve(test_label, probs)\n",
    "plt.plot(fpr, tpr, marker='.', label='AUC = {:.4f}'.format(auc), color='orange')\n",
    "plt.title('ROC curve')\n",
    "plt.xlabel('False Positive Rate')\n",
    "plt.ylabel('True Positive Rate')\n",
    "plt.legend()\n",
    "plt.show()\n",
    "\n",
    "cf_matrix = confusion_matrix(test_label, y_pred)\n",
    "plt.figure(figsize=(3, 3))\n",
    "sns.heatmap(cf_matrix, annot=True, fmt=',.0f')\n",
    "plt.show()\n",
    "\n",
    "np.save('log/result_human_msgf_HEK293_PepFormer_fpr.npy', fpr)\n",
    "np.save('log/result_human_msgf_HEK293_PepFormer_tpr.npy', tpr)\n",
    "np.save('log/result_human_msgf_HEK293_PepFormer_threshold.npy', threshold)\n",
    "np.save('log/result_human_msgf_HEK293_PepFormer_prob.npy', probs)\n",
    "np.save('log/result_human_msgf_HEK293_PepFormer_true.npy', test_label)"
   ]
  },
  {
   "cell_type": "code",
   "execution_count": 15,
   "id": "a91f95ab",
   "metadata": {
    "ExecuteTime": {
     "end_time": "2022-12-16T16:10:36.386285Z",
     "start_time": "2022-12-16T16:04:43.036306Z"
    }
   },
   "outputs": [
    {
     "name": "stdout",
     "output_type": "stream",
     "text": [
      "length > 79: 0\n",
      "Test AUC : 0.7979706306478834\n",
      "              precision    recall  f1-score   support\n",
      "\n",
      "           0     0.9965    0.5371    0.6980   1441079\n",
      "           1     0.0746    0.9516    0.1383     56470\n",
      "\n",
      "    accuracy                         0.5528   1497549\n",
      "   macro avg     0.5355    0.7444    0.4182   1497549\n",
      "weighted avg     0.9617    0.5528    0.6769   1497549\n",
      "\n"
     ]
    },
    {
     "data": {
      "image/png": "[encoded data removed]",
      "text/plain": [
       "<Figure size 288x288 with 1 Axes>"
      ]
     },
     "metadata": {
      "needs_background": "light"
     },
     "output_type": "display_data"
    },
    {
     "data": {
      "image/png": "[encoded data removed]",
      "text/plain": [
       "<Figure size 216x216 with 2 Axes>"
      ]
     },
     "metadata": {
      "needs_background": "light"
     },
     "output_type": "display_data"
    }
   ],
   "source": [
    "tmp = pd.concat([\n",
    "    pd.read_csv('/data/2021_SJH_detectability/data_cross_species/raw/human/HmapLiver/train.csv'),\n",
    "    pd.read_csv('/data/2021_SJH_detectability/data_cross_species/raw/human/HmapLiver/test.csv'),\n",
    "])[['peptide', 'label']]#.drop_duplicates()\n",
    "\n",
    "tmp['label'] = tmp['label'].apply(lambda x: {True: str(1), False: str(0)}[x])\n",
    "test = []\n",
    "for line in tmp.values:\n",
    "    line = ','.join(line)\n",
    "    test.append(line)\n",
    "\n",
    "test_data, test_label = genData(test, 79)\n",
    "test_data = test_data[:-1]\n",
    "test_label = test_label[:-1]\n",
    "test_dataset = Data.TensorDataset(test_data, test_label)\n",
    "batch_size=256\n",
    "test_iter = torch.utils.data.DataLoader(test_dataset, batch_size=batch_size, shuffle=False)\n",
    "\n",
    "y_pred = pred(test_iter, net)\n",
    "probs = np.array(pred_prob(test_iter, net))[:, 1]\n",
    "\n",
    "# acc = evaluate_accuracy(test_iter,net)\n",
    "auc = roc_auc_score(test_label, probs)\n",
    "\n",
    "# print('Test Accuracy: {}'.format(acc))\n",
    "print('Test AUC : {}'.format(auc))\n",
    "print(classification_report(test_label, y_pred, digits=4))\n",
    "\n",
    "plt.figure(figsize=(4, 4))\n",
    "fpr, tpr, threshold = roc_curve(test_label, probs)\n",
    "plt.plot(fpr, tpr, marker='.', label='AUC = {:.4f}'.format(auc), color='orange')\n",
    "plt.title('ROC curve')\n",
    "plt.xlabel('False Positive Rate')\n",
    "plt.ylabel('True Positive Rate')\n",
    "plt.legend()\n",
    "plt.show()\n",
    "\n",
    "cf_matrix = confusion_matrix(test_label, y_pred)\n",
    "plt.figure(figsize=(3, 3))\n",
    "sns.heatmap(cf_matrix, annot=True, fmt=',.0f')\n",
    "plt.show()\n",
    "\n",
    "np.save('log/result_human_HmapLiver_PepFormer_fpr.npy', fpr)\n",
    "np.save('log/result_human_HmapLiver_PepFormer_tpr.npy', tpr)\n",
    "np.save('log/result_human_HmapLiver_PepFormer_threshold.npy', threshold)\n",
    "np.save('log/result_human_HmapLiver_PepFormer_prob.npy', probs)\n",
    "np.save('log/result_human_HmapLiver_PepFormer_true.npy', test_label)"
   ]
  },
  {
   "cell_type": "code",
   "execution_count": 9,
   "id": "3e81ea3b",
   "metadata": {
    "ExecuteTime": {
     "end_time": "2023-03-19T18:20:10.716109Z",
     "start_time": "2023-03-19T18:12:45.228323Z"
    }
   },
   "outputs": [
    {
     "name": "stdout",
     "output_type": "stream",
     "text": [
      "length > 79: 0\n",
      "Test AUC : 0.8063501026873556\n",
      "              precision    recall  f1-score   support\n",
      "\n",
      "           0     0.9966    0.5418    0.7019   1125108\n",
      "           1     0.0909    0.9617    0.1661     53621\n",
      "\n",
      "    accuracy                         0.5609   1178729\n",
      "   macro avg     0.5438    0.7517    0.4340   1178729\n",
      "weighted avg     0.9554    0.5609    0.6776   1178729\n",
      "\n"
     ]
    },
    {
     "data": {
      "image/png": "[encoded data removed]",
      "text/plain": [
       "<Figure size 288x288 with 1 Axes>"
      ]
     },
     "metadata": {
      "needs_background": "light"
     },
     "output_type": "display_data"
    },
    {
     "data": {
      "image/png": "[encoded data removed]",
      "text/plain": [
       "<Figure size 216x216 with 2 Axes>"
      ]
     },
     "metadata": {
      "needs_background": "light"
     },
     "output_type": "display_data"
    }
   ],
   "source": [
    "tmp = pd.read_csv('/data/2021_SJH_detectability/diff_tool/human_liver/data.csv')[['peptide', 'label']]#.drop_duplicates()\n",
    "\n",
    "tmp['label'] = tmp['label'].apply(lambda x: {True: str(1), False: str(0)}[x])\n",
    "test = []\n",
    "for line in tmp.values:\n",
    "    line = ','.join(line)\n",
    "    test.append(line)\n",
    "\n",
    "test_data, test_label = genData(test, 79)\n",
    "test_data = test_data[:-1]\n",
    "test_label = test_label[:-1]\n",
    "test_dataset = Data.TensorDataset(test_data, test_label)\n",
    "batch_size=256\n",
    "test_iter = torch.utils.data.DataLoader(test_dataset, batch_size=batch_size, shuffle=False)\n",
    "\n",
    "y_pred = pred(test_iter, net)\n",
    "probs = np.array(pred_prob(test_iter, net))[:, 1]\n",
    "\n",
    "# acc = evaluate_accuracy(test_iter,net)\n",
    "auc = roc_auc_score(test_label, probs)\n",
    "\n",
    "# print('Test Accuracy: {}'.format(acc))\n",
    "print('Test AUC : {}'.format(auc))\n",
    "print(classification_report(test_label, y_pred, digits=4))\n",
    "\n",
    "plt.figure(figsize=(4, 4))\n",
    "fpr, tpr, threshold = roc_curve(test_label, probs)\n",
    "plt.plot(fpr, tpr, marker='.', label='AUC = {:.4f}'.format(auc), color='orange')\n",
    "plt.title('ROC curve')\n",
    "plt.xlabel('False Positive Rate')\n",
    "plt.ylabel('True Positive Rate')\n",
    "plt.legend()\n",
    "plt.show()\n",
    "\n",
    "cf_matrix = confusion_matrix(test_label, y_pred)\n",
    "plt.figure(figsize=(3, 3))\n",
    "sns.heatmap(cf_matrix, annot=True, fmt=',.0f')\n",
    "plt.show()\n",
    "\n",
    "np.save('log/result_human_msgf_HmapLiver_PepFormer_fpr.npy', fpr)\n",
    "np.save('log/result_human_msgf_HmapLiver_PepFormer_tpr.npy', tpr)\n",
    "np.save('log/result_human_msgf_HmapLiver_PepFormer_threshold.npy', threshold)\n",
    "np.save('log/result_human_msgf_HmapLiver_PepFormer_prob.npy', probs)\n",
    "np.save('log/result_human_msgf_HmapLiver_PepFormer_true.npy', test_label)"
   ]
  },
  {
   "cell_type": "markdown",
   "id": "69c7bb88",
   "metadata": {},
   "source": [
    "# Cross species : Yeast"
   ]
  },
  {
   "cell_type": "code",
   "execution_count": 16,
   "id": "4eaf6db5",
   "metadata": {
    "ExecuteTime": {
     "end_time": "2022-12-16T16:12:46.957259Z",
     "start_time": "2022-12-16T16:10:36.387934Z"
    }
   },
   "outputs": [
    {
     "name": "stdout",
     "output_type": "stream",
     "text": [
      "length > 79: 0\n",
      "Test AUC : 0.8304964458095894\n",
      "              precision    recall  f1-score   support\n",
      "\n",
      "           0     0.9947    0.5415    0.7013    521986\n",
      "           1     0.1168    0.9546    0.2082     33160\n",
      "\n",
      "    accuracy                         0.5662    555146\n",
      "   macro avg     0.5558    0.7481    0.4547    555146\n",
      "weighted avg     0.9423    0.5662    0.6718    555146\n",
      "\n"
     ]
    },
    {
     "data": {
      "image/png": "[encoded data removed]",
      "text/plain": [
       "<Figure size 288x288 with 1 Axes>"
      ]
     },
     "metadata": {
      "needs_background": "light"
     },
     "output_type": "display_data"
    },
    {
     "data": {
      "image/png": "[encoded data removed]",
      "text/plain": [
       "<Figure size 216x216 with 2 Axes>"
      ]
     },
     "metadata": {
      "needs_background": "light"
     },
     "output_type": "display_data"
    }
   ],
   "source": [
    "tmp = pd.concat([\n",
    "    pd.read_csv('/data/2021_SJH_detectability/data_cross_species/raw/yeast/DelPBP1/train.csv'),\n",
    "    pd.read_csv('/data/2021_SJH_detectability/data_cross_species/raw/yeast/DelPBP1/test.csv'),\n",
    "])[['peptide', 'label']]#.drop_duplicates()\n",
    "\n",
    "tmp['label'] = tmp['label'].apply(lambda x: {True: str(1), False: str(0)}[x])\n",
    "test = []\n",
    "for line in tmp.values:\n",
    "    line = ','.join(line)\n",
    "    test.append(line)\n",
    "\n",
    "test_data, test_label = genData(test, 79)\n",
    "test_data = test_data[:-1]\n",
    "test_label = test_label[:-1]\n",
    "test_dataset = Data.TensorDataset(test_data, test_label)\n",
    "batch_size=256\n",
    "test_iter = torch.utils.data.DataLoader(test_dataset, batch_size=batch_size, shuffle=False)\n",
    "\n",
    "y_pred = pred(test_iter, net)\n",
    "probs = np.array(pred_prob(test_iter, net))[:, 1]\n",
    "\n",
    "# acc = evaluate_accuracy(test_iter,net)\n",
    "auc = roc_auc_score(test_label, probs)\n",
    "\n",
    "# print('Test Accuracy: {}'.format(acc))\n",
    "print('Test AUC : {}'.format(auc))\n",
    "print(classification_report(test_label, y_pred, digits=4))\n",
    "\n",
    "plt.figure(figsize=(4, 4))\n",
    "fpr, tpr, threshold = roc_curve(test_label, probs)\n",
    "plt.plot(fpr, tpr, marker='.', label='AUC = {:.4f}'.format(auc), color='orange')\n",
    "plt.title('ROC curve')\n",
    "plt.xlabel('False Positive Rate')\n",
    "plt.ylabel('True Positive Rate')\n",
    "plt.legend()\n",
    "plt.show()\n",
    "\n",
    "cf_matrix = confusion_matrix(test_label, y_pred)\n",
    "plt.figure(figsize=(3, 3))\n",
    "sns.heatmap(cf_matrix, annot=True, fmt=',.0f')\n",
    "plt.show()\n",
    "\n",
    "np.save('log/result_yeast_DelPBP1_PepFormer_fpr.npy', fpr)\n",
    "np.save('log/result_yeast_DelPBP1_PepFormer_tpr.npy', tpr)\n",
    "np.save('log/result_yeast_DelPBP1_PepFormer_threshold.npy', threshold)\n",
    "np.save('log/result_yeast_DelPBP1_PepFormer_prob.npy', probs)\n",
    "np.save('log/result_yeast_DelPBP1_PepFormer_true.npy', test_label)"
   ]
  },
  {
   "cell_type": "code",
   "execution_count": 10,
   "id": "c189587f",
   "metadata": {
    "ExecuteTime": {
     "end_time": "2023-03-19T18:23:44.750507Z",
     "start_time": "2023-03-19T18:20:10.717986Z"
    }
   },
   "outputs": [
    {
     "name": "stdout",
     "output_type": "stream",
     "text": [
      "length > 79: 0\n",
      "Test AUC : 0.8006053780935073\n",
      "              precision    recall  f1-score   support\n",
      "\n",
      "           0     0.9900    0.5381    0.6973    556165\n",
      "           1     0.1079    0.9113    0.1929     34086\n",
      "\n",
      "    accuracy                         0.5597    590251\n",
      "   macro avg     0.5489    0.7247    0.4451    590251\n",
      "weighted avg     0.9391    0.5597    0.6681    590251\n",
      "\n"
     ]
    },
    {
     "data": {
      "image/png": "[encoded data removed]",
      "text/plain": [
       "<Figure size 288x288 with 1 Axes>"
      ]
     },
     "metadata": {
      "needs_background": "light"
     },
     "output_type": "display_data"
    },
    {
     "data": {
      "image/png": "[encoded data removed]",
      "text/plain": [
       "<Figure size 216x216 with 2 Axes>"
      ]
     },
     "metadata": {
      "needs_background": "light"
     },
     "output_type": "display_data"
    }
   ],
   "source": [
    "tmp = pd.read_csv('/data/2021_SJH_detectability/diff_tool/yeast_25/data.csv')[['peptide', 'label']]#.drop_duplicates()\n",
    "\n",
    "tmp['label'] = tmp['label'].apply(lambda x: {True: str(1), False: str(0)}[x])\n",
    "test = []\n",
    "for line in tmp.values:\n",
    "    line = ','.join(line)\n",
    "    test.append(line)\n",
    "\n",
    "test_data, test_label = genData(test, 79)\n",
    "test_data = test_data[:-1]\n",
    "test_label = test_label[:-1]\n",
    "test_dataset = Data.TensorDataset(test_data, test_label)\n",
    "batch_size=256\n",
    "test_iter = torch.utils.data.DataLoader(test_dataset, batch_size=batch_size, shuffle=False)\n",
    "\n",
    "y_pred = pred(test_iter, net)\n",
    "probs = np.array(pred_prob(test_iter, net))[:, 1]\n",
    "\n",
    "# acc = evaluate_accuracy(test_iter,net)\n",
    "auc = roc_auc_score(test_label, probs)\n",
    "\n",
    "# print('Test Accuracy: {}'.format(acc))\n",
    "print('Test AUC : {}'.format(auc))\n",
    "print(classification_report(test_label, y_pred, digits=4))\n",
    "\n",
    "plt.figure(figsize=(4, 4))\n",
    "fpr, tpr, threshold = roc_curve(test_label, probs)\n",
    "plt.plot(fpr, tpr, marker='.', label='AUC = {:.4f}'.format(auc), color='orange')\n",
    "plt.title('ROC curve')\n",
    "plt.xlabel('False Positive Rate')\n",
    "plt.ylabel('True Positive Rate')\n",
    "plt.legend()\n",
    "plt.show()\n",
    "\n",
    "cf_matrix = confusion_matrix(test_label, y_pred)\n",
    "plt.figure(figsize=(3, 3))\n",
    "sns.heatmap(cf_matrix, annot=True, fmt=',.0f')\n",
    "plt.show()\n",
    "\n",
    "np.save('log/result_yeast_msgf_DelPBP1_PepFormer_fpr.npy', fpr)\n",
    "np.save('log/result_yeast_msgf_DelPBP1_PepFormer_tpr.npy', tpr)\n",
    "np.save('log/result_yeast_msgf_DelPBP1_PepFormer_threshold.npy', threshold)\n",
    "np.save('log/result_yeast_msgf_DelPBP1_PepFormer_prob.npy', probs)\n",
    "np.save('log/result_yeast_msgf_DelPBP1_PepFormer_true.npy', test_label)"
   ]
  },
  {
   "cell_type": "code",
   "execution_count": 17,
   "id": "eeaa1e79",
   "metadata": {
    "ExecuteTime": {
     "end_time": "2022-12-16T16:15:12.738799Z",
     "start_time": "2022-12-16T16:12:46.958732Z"
    }
   },
   "outputs": [
    {
     "name": "stdout",
     "output_type": "stream",
     "text": [
      "length > 79: 0\n",
      "Test AUC : 0.8369266088522029\n",
      "              precision    recall  f1-score   support\n",
      "\n",
      "           0     0.9930    0.5801    0.7324    562874\n",
      "           1     0.2438    0.9705    0.3897     78520\n",
      "\n",
      "    accuracy                         0.6279    641394\n",
      "   macro avg     0.6184    0.7753    0.5611    641394\n",
      "weighted avg     0.9013    0.6279    0.6904    641394\n",
      "\n"
     ]
    },
    {
     "data": {
      "image/png": "[encoded data removed]",
      "text/plain": [
       "<Figure size 288x288 with 1 Axes>"
      ]
     },
     "metadata": {
      "needs_background": "light"
     },
     "output_type": "display_data"
    },
    {
     "data": {
      "image/png": "[encoded data removed]",
      "text/plain": [
       "<Figure size 216x216 with 2 Axes>"
      ]
     },
     "metadata": {
      "needs_background": "light"
     },
     "output_type": "display_data"
    }
   ],
   "source": [
    "tmp = pd.concat([\n",
    "    pd.read_csv('/data/2021_SJH_detectability/data_cross_species/raw/yeast/KLife/train.csv'),\n",
    "    pd.read_csv('/data/2021_SJH_detectability/data_cross_species/raw/yeast/KLife/test.csv'),\n",
    "])[['peptide', 'label']]#.drop_duplicates()\n",
    "\n",
    "tmp['label'] = tmp['label'].apply(lambda x: {True: str(1), False: str(0)}[x])\n",
    "test = []\n",
    "for line in tmp.values:\n",
    "    line = ','.join(line)\n",
    "    test.append(line)\n",
    "\n",
    "test_data, test_label = genData(test, 79)\n",
    "test_data = test_data[:-1]\n",
    "test_label = test_label[:-1]\n",
    "test_dataset = Data.TensorDataset(test_data, test_label)\n",
    "batch_size=256\n",
    "test_iter = torch.utils.data.DataLoader(test_dataset, batch_size=batch_size, shuffle=False)\n",
    "\n",
    "y_pred = pred(test_iter, net)\n",
    "probs = np.array(pred_prob(test_iter, net))[:, 1]\n",
    "\n",
    "# acc = evaluate_accuracy(test_iter,net)\n",
    "auc = roc_auc_score(test_label, probs)\n",
    "\n",
    "# print('Test Accuracy: {}'.format(acc))\n",
    "print('Test AUC : {}'.format(auc))\n",
    "print(classification_report(test_label, y_pred, digits=4))\n",
    "\n",
    "plt.figure(figsize=(4, 4))\n",
    "fpr, tpr, threshold = roc_curve(test_label, probs)\n",
    "plt.plot(fpr, tpr, marker='.', label='AUC = {:.4f}'.format(auc), color='orange')\n",
    "plt.title('ROC curve')\n",
    "plt.xlabel('False Positive Rate')\n",
    "plt.ylabel('True Positive Rate')\n",
    "plt.legend()\n",
    "plt.show()\n",
    "\n",
    "cf_matrix = confusion_matrix(test_label, y_pred)\n",
    "plt.figure(figsize=(3, 3))\n",
    "sns.heatmap(cf_matrix, annot=True, fmt=',.0f')\n",
    "plt.show()\n",
    "\n",
    "np.save('log/result_yeast_KLife_PepFormer_fpr.npy', fpr)\n",
    "np.save('log/result_yeast_KLife_PepFormer_tpr.npy', tpr)\n",
    "np.save('log/result_yeast_KLife_PepFormer_threshold.npy', threshold)\n",
    "np.save('log/result_yeast_KLife_PepFormer_prob.npy', probs)\n",
    "np.save('log/result_yeast_KLife_PepFormer_true.npy', test_label)"
   ]
  },
  {
   "cell_type": "code",
   "execution_count": 11,
   "id": "041d8d91",
   "metadata": {
    "ExecuteTime": {
     "end_time": "2023-03-19T18:27:49.276531Z",
     "start_time": "2023-03-19T18:23:44.752651Z"
    }
   },
   "outputs": [
    {
     "name": "stdout",
     "output_type": "stream",
     "text": [
      "length > 79: 0\n",
      "Test AUC : 0.8311731872892081\n",
      "              precision    recall  f1-score   support\n",
      "\n",
      "           0     0.9901    0.5835    0.7343    558429\n",
      "           1     0.2569    0.9612    0.4054     83636\n",
      "\n",
      "    accuracy                         0.6327    642065\n",
      "   macro avg     0.6235    0.7723    0.5698    642065\n",
      "weighted avg     0.8946    0.6327    0.6915    642065\n",
      "\n"
     ]
    },
    {
     "data": {
      "image/png": "[encoded data removed]",
      "text/plain": [
       "<Figure size 288x288 with 1 Axes>"
      ]
     },
     "metadata": {
      "needs_background": "light"
     },
     "output_type": "display_data"
    },
    {
     "data": {
      "image/png": "[encoded data removed]",
      "text/plain": [
       "<Figure size 216x216 with 2 Axes>"
      ]
     },
     "metadata": {
      "needs_background": "light"
     },
     "output_type": "display_data"
    }
   ],
   "source": [
    "tmp = pd.read_csv('/data/2021_SJH_detectability/diff_tool/yeast_23/data.csv')[['peptide', 'label']]#.drop_duplicates()\n",
    "\n",
    "tmp['label'] = tmp['label'].apply(lambda x: {True: str(1), False: str(0)}[x])\n",
    "test = []\n",
    "for line in tmp.values:\n",
    "    line = ','.join(line)\n",
    "    test.append(line)\n",
    "\n",
    "test_data, test_label = genData(test, 79)\n",
    "test_data = test_data[:-1]\n",
    "test_label = test_label[:-1]\n",
    "test_dataset = Data.TensorDataset(test_data, test_label)\n",
    "batch_size=256\n",
    "test_iter = torch.utils.data.DataLoader(test_dataset, batch_size=batch_size, shuffle=False)\n",
    "\n",
    "y_pred = pred(test_iter, net)\n",
    "probs = np.array(pred_prob(test_iter, net))[:, 1]\n",
    "\n",
    "# acc = evaluate_accuracy(test_iter,net)\n",
    "auc = roc_auc_score(test_label, probs)\n",
    "\n",
    "# print('Test Accuracy: {}'.format(acc))\n",
    "print('Test AUC : {}'.format(auc))\n",
    "print(classification_report(test_label, y_pred, digits=4))\n",
    "\n",
    "plt.figure(figsize=(4, 4))\n",
    "fpr, tpr, threshold = roc_curve(test_label, probs)\n",
    "plt.plot(fpr, tpr, marker='.', label='AUC = {:.4f}'.format(auc), color='orange')\n",
    "plt.title('ROC curve')\n",
    "plt.xlabel('False Positive Rate')\n",
    "plt.ylabel('True Positive Rate')\n",
    "plt.legend()\n",
    "plt.show()\n",
    "\n",
    "cf_matrix = confusion_matrix(test_label, y_pred)\n",
    "plt.figure(figsize=(3, 3))\n",
    "sns.heatmap(cf_matrix, annot=True, fmt=',.0f')\n",
    "plt.show()\n",
    "\n",
    "np.save('log/result_yeast_msgf_KLife_PepFormer_fpr.npy', fpr)\n",
    "np.save('log/result_yeast_msgf_KLife_PepFormer_tpr.npy', tpr)\n",
    "np.save('log/result_yeast_msgf_KLife_PepFormer_threshold.npy', threshold)\n",
    "np.save('log/result_yeast_msgf_KLife_PepFormer_prob.npy', probs)\n",
    "np.save('log/result_yeast_msgf_KLife_PepFormer_true.npy', test_label)"
   ]
  },
  {
   "cell_type": "markdown",
   "id": "fdbe3fac",
   "metadata": {},
   "source": [
    "# massIVE-KB"
   ]
  },
  {
   "cell_type": "code",
   "execution_count": 18,
   "id": "ff609608",
   "metadata": {
    "ExecuteTime": {
     "end_time": "2022-12-17T15:07:33.111190Z",
     "start_time": "2022-12-17T15:07:33.098838Z"
    }
   },
   "outputs": [],
   "source": [
    "from RefModel.model_PepFormer import newModel, evaluate_accuracy, genData"
   ]
  },
  {
   "cell_type": "code",
   "execution_count": 19,
   "id": "86bea2d0",
   "metadata": {
    "ExecuteTime": {
     "end_time": "2022-12-17T15:07:34.324842Z",
     "start_time": "2022-12-17T15:07:34.220806Z"
    },
    "scrolled": true
   },
   "outputs": [
    {
     "data": {
      "text/plain": [
       "newModel(\n",
       "  (embedding): Embedding(24, 512, padding_idx=0)\n",
       "  (encoder_layer): TransformerEncoderLayer(\n",
       "    (self_attn): MultiheadAttention(\n",
       "      (out_proj): _LinearWithBias(in_features=512, out_features=512, bias=True)\n",
       "    )\n",
       "    (linear1): Linear(in_features=512, out_features=2048, bias=True)\n",
       "    (dropout): Dropout(p=0.1, inplace=False)\n",
       "    (linear2): Linear(in_features=2048, out_features=512, bias=True)\n",
       "    (norm1): LayerNorm((512,), eps=1e-05, elementwise_affine=True)\n",
       "    (norm2): LayerNorm((512,), eps=1e-05, elementwise_affine=True)\n",
       "    (dropout1): Dropout(p=0.1, inplace=False)\n",
       "    (dropout2): Dropout(p=0.1, inplace=False)\n",
       "  )\n",
       "  (transformer_encoder): TransformerEncoder(\n",
       "    (layers): ModuleList(\n",
       "      (0): TransformerEncoderLayer(\n",
       "        (self_attn): MultiheadAttention(\n",
       "          (out_proj): _LinearWithBias(in_features=512, out_features=512, bias=True)\n",
       "        )\n",
       "        (linear1): Linear(in_features=512, out_features=2048, bias=True)\n",
       "        (dropout): Dropout(p=0.1, inplace=False)\n",
       "        (linear2): Linear(in_features=2048, out_features=512, bias=True)\n",
       "        (norm1): LayerNorm((512,), eps=1e-05, elementwise_affine=True)\n",
       "        (norm2): LayerNorm((512,), eps=1e-05, elementwise_affine=True)\n",
       "        (dropout1): Dropout(p=0.1, inplace=False)\n",
       "        (dropout2): Dropout(p=0.1, inplace=False)\n",
       "      )\n",
       "    )\n",
       "  )\n",
       "  (gru): GRU(512, 25, num_layers=2, dropout=0.2, bidirectional=True)\n",
       "  (block1): Sequential(\n",
       "    (0): Linear(in_features=2100, out_features=1024, bias=True)\n",
       "    (1): BatchNorm1d(1024, eps=1e-05, momentum=0.1, affine=True, track_running_stats=True)\n",
       "    (2): LeakyReLU(negative_slope=0.01)\n",
       "    (3): Linear(in_features=1024, out_features=256, bias=True)\n",
       "  )\n",
       "  (block2): Sequential(\n",
       "    (0): BatchNorm1d(256, eps=1e-05, momentum=0.1, affine=True, track_running_stats=True)\n",
       "    (1): LeakyReLU(negative_slope=0.01)\n",
       "    (2): Linear(in_features=256, out_features=128, bias=True)\n",
       "    (3): BatchNorm1d(128, eps=1e-05, momentum=0.1, affine=True, track_running_stats=True)\n",
       "    (4): LeakyReLU(negative_slope=0.01)\n",
       "    (5): Linear(in_features=128, out_features=64, bias=True)\n",
       "    (6): BatchNorm1d(64, eps=1e-05, momentum=0.1, affine=True, track_running_stats=True)\n",
       "    (7): LeakyReLU(negative_slope=0.01)\n",
       "    (8): Linear(in_features=64, out_features=2, bias=True)\n",
       "  )\n",
       ")"
      ]
     },
     "execution_count": 19,
     "metadata": {},
     "output_type": "execute_result"
    }
   ],
   "source": [
    "net_re = newModel().to(device)\n",
    "net_re.load_state_dict(torch.load(f'log/model_PepFormer.pl')['model'])\n",
    "net_re.eval()"
   ]
  },
  {
   "cell_type": "code",
   "execution_count": 20,
   "id": "c751d5a7",
   "metadata": {
    "ExecuteTime": {
     "end_time": "2022-12-17T15:07:43.350899Z",
     "start_time": "2022-12-17T15:07:40.118375Z"
    }
   },
   "outputs": [
    {
     "name": "stdout",
     "output_type": "stream",
     "text": [
      "length > 40: 0\n"
     ]
    }
   ],
   "source": [
    "tmp = pd.read_csv('/data/2021_SJH_detectability/data_human/test.csv')[['peptide', 'label']]#.drop_duplicates()\n",
    "tmp['label'] = tmp['label'].apply(lambda x: {True: str(1), False: str(0)}[x])\n",
    "test = []\n",
    "for line in tmp.values:\n",
    "    line = ','.join(line)\n",
    "    test.append(line)\n",
    "\n",
    "test_data, test_label = genData(test, 40)\n",
    "test_dataset = Data.TensorDataset(test_data, test_label)\n",
    "batch_size=256\n",
    "test_iter = torch.utils.data.DataLoader(test_dataset, batch_size=batch_size, shuffle=False)"
   ]
  },
  {
   "cell_type": "code",
   "execution_count": 21,
   "id": "a42d8c06",
   "metadata": {
    "ExecuteTime": {
     "end_time": "2022-12-17T15:08:08.975431Z",
     "start_time": "2022-12-17T15:07:46.580791Z"
    }
   },
   "outputs": [],
   "source": [
    "y_pred = pred(test_iter, net_re)\n",
    "probs = np.array(pred_prob(test_iter, net_re))[:, 1]\n",
    "\n",
    "acc = evaluate_accuracy(test_iter,net_re)\n",
    "auc = roc_auc_score(test_label, probs)"
   ]
  },
  {
   "cell_type": "code",
   "execution_count": 22,
   "id": "3f977b17",
   "metadata": {
    "ExecuteTime": {
     "end_time": "2022-12-17T15:08:48.724831Z",
     "start_time": "2022-12-17T15:08:47.981126Z"
    }
   },
   "outputs": [
    {
     "name": "stdout",
     "output_type": "stream",
     "text": [
      "Test Accuracy: 0.8303984628542641\n",
      "Test AUC : 0.9082578385719137\n",
      "              precision    recall  f1-score   support\n",
      "\n",
      "           0     0.8379    0.8249    0.8313     86495\n",
      "           1     0.8230    0.8361    0.8295     84211\n",
      "\n",
      "    accuracy                         0.8304    170706\n",
      "   macro avg     0.8304    0.8305    0.8304    170706\n",
      "weighted avg     0.8305    0.8304    0.8304    170706\n",
      "\n"
     ]
    },
    {
     "data": {
      "image/png": "[encoded data removed]",
      "text/plain": [
       "<Figure size 288x288 with 1 Axes>"
      ]
     },
     "metadata": {
      "needs_background": "light"
     },
     "output_type": "display_data"
    },
    {
     "data": {
      "image/png": "[encoded data removed]",
      "text/plain": [
       "<Figure size 216x216 with 2 Axes>"
      ]
     },
     "metadata": {
      "needs_background": "light"
     },
     "output_type": "display_data"
    }
   ],
   "source": [
    "print('Test Accuracy: {}'.format(acc))\n",
    "print('Test AUC : {}'.format(auc))\n",
    "print(classification_report(test_label, y_pred, digits=4))\n",
    "\n",
    "plt.figure(figsize=(4, 4))\n",
    "fpr, tpr, _ = roc_curve(test_label, probs)\n",
    "plt.plot(fpr, tpr, marker='.', label='AUC = {:.4f}'.format(auc), color='orange')\n",
    "plt.title('ROC curve')\n",
    "plt.xlabel('False Positive Rate')\n",
    "plt.ylabel('True Positive Rate')\n",
    "plt.legend()\n",
    "plt.show()\n",
    "\n",
    "cf_matrix = confusion_matrix(test_label, y_pred)\n",
    "plt.figure(figsize=(3, 3))\n",
    "sns.heatmap(cf_matrix, annot=True, fmt=',.0f')\n",
    "plt.show()"
   ]
  },
  {
   "cell_type": "code",
   "execution_count": 16,
   "id": "b94bb475",
   "metadata": {
    "ExecuteTime": {
     "end_time": "2022-11-28T13:50:50.729924Z",
     "start_time": "2022-11-28T13:50:50.726366Z"
    }
   },
   "outputs": [],
   "source": [
    "np.save('log/result_PepFormer_fpr.npy', fpr)\n",
    "np.save('log/result_PepFormer_tpr.npy', tpr)"
   ]
  },
  {
   "cell_type": "code",
   "execution_count": 23,
   "id": "284098bc",
   "metadata": {
    "ExecuteTime": {
     "end_time": "2022-12-17T15:09:27.777242Z",
     "start_time": "2022-12-17T15:09:27.758313Z"
    }
   },
   "outputs": [],
   "source": [
    "np.save('log/result_massivekb_ypred_PepFormer.npy', np.array(y_pred))\n",
    "np.save('log/result_massivekb_yprob_PepFormer.npy', np.array(probs))\n",
    "np.save('log/result_massivekb_ytrue_PepFormer.npy', np.array(test_label))"
   ]
  },
  {
   "cell_type": "markdown",
   "id": "b2333053",
   "metadata": {},
   "source": [
    "# Case of cleavage site count"
   ]
  },
  {
   "cell_type": "code",
   "execution_count": 17,
   "id": "fc3b7d6a",
   "metadata": {
    "ExecuteTime": {
     "end_time": "2022-11-28T14:27:08.743086Z",
     "start_time": "2022-11-28T14:27:06.970066Z"
    },
    "scrolled": false
   },
   "outputs": [
    {
     "name": "stdout",
     "output_type": "stream",
     "text": [
      "Test AUC : 0.8692366689065514\n",
      "              precision    recall  f1-score   support\n",
      "\n",
      "           0     0.8075    0.5677    0.6667     10970\n",
      "           1     0.8904    0.9629    0.9252     40007\n",
      "\n",
      "    accuracy                         0.8778     50977\n",
      "   macro avg     0.8489    0.7653    0.7960     50977\n",
      "weighted avg     0.8725    0.8778    0.8696     50977\n",
      "\n"
     ]
    },
    {
     "data": {
      "image/png": "[encoded data removed]",
      "text/plain": [
       "<Figure size 288x288 with 1 Axes>"
      ]
     },
     "metadata": {
      "needs_background": "light"
     },
     "output_type": "display_data"
    },
    {
     "data": {
      "image/png": "[encoded data removed]",
      "text/plain": [
       "<Figure size 216x216 with 2 Axes>"
      ]
     },
     "metadata": {
      "needs_background": "light"
     },
     "output_type": "display_data"
    },
    {
     "name": "stdout",
     "output_type": "stream",
     "text": [
      "Test AUC : 0.8536561116875439\n",
      "              precision    recall  f1-score   support\n",
      "\n",
      "           0     0.7797    0.7433    0.7611     31745\n",
      "           1     0.7652    0.7993    0.7819     33229\n",
      "\n",
      "    accuracy                         0.7720     64974\n",
      "   macro avg     0.7724    0.7713    0.7715     64974\n",
      "weighted avg     0.7723    0.7720    0.7717     64974\n",
      "\n"
     ]
    },
    {
     "data": {
      "image/png": "[encoded data removed]",
      "text/plain": [
       "<Figure size 288x288 with 1 Axes>"
      ]
     },
     "metadata": {
      "needs_background": "light"
     },
     "output_type": "display_data"
    },
    {
     "data": {
      "image/png": "[encoded data removed]",
      "text/plain": [
       "<Figure size 216x216 with 2 Axes>"
      ]
     },
     "metadata": {
      "needs_background": "light"
     },
     "output_type": "display_data"
    },
    {
     "name": "stdout",
     "output_type": "stream",
     "text": [
      "Test AUC : 0.8725826408913484\n",
      "              precision    recall  f1-score   support\n",
      "\n",
      "           0     0.8802    0.9485    0.9131     43780\n",
      "           1     0.7023    0.4850    0.5738     10975\n",
      "\n",
      "    accuracy                         0.8556     54755\n",
      "   macro avg     0.7913    0.7167    0.7434     54755\n",
      "weighted avg     0.8445    0.8556    0.8451     54755\n",
      "\n"
     ]
    },
    {
     "data": {
      "image/png": "[encoded data removed]",
      "text/plain": [
       "<Figure size 288x288 with 1 Axes>"
      ]
     },
     "metadata": {
      "needs_background": "light"
     },
     "output_type": "display_data"
    },
    {
     "data": {
      "image/png": "[encoded data removed]",
      "text/plain": [
       "<Figure size 216x216 with 2 Axes>"
      ]
     },
     "metadata": {
      "needs_background": "light"
     },
     "output_type": "display_data"
    }
   ],
   "source": [
    "idx = tmp.index\n",
    "df_test = pd.read_csv('/data/2021_SJH_detectability/data_human/test.csv').loc[idx]\n",
    "df_test.reset_index(drop=True, inplace=True)\n",
    "\n",
    "miss0_idx = df_test.loc[df_test.miss1=='ZZZZZZZZZZZZZZZ'].index\n",
    "miss1_idx = df_test.loc[(df_test.miss1!='ZZZZZZZZZZZZZZZ') & (df_test.miss2=='ZZZZZZZZZZZZZZZ')].index\n",
    "miss2_idx = df_test.loc[(df_test.miss1!='ZZZZZZZZZZZZZZZ') & (df_test.miss2!='ZZZZZZZZZZZZZZZ')].index\n",
    "\n",
    "y_pred = np.array(y_pred)\n",
    "probs_miss0 = probs[miss0_idx]\n",
    "probs_miss1 = probs[miss1_idx]\n",
    "probs_miss2 = probs[miss2_idx]\n",
    "y_pred_miss0 = y_pred[miss0_idx]\n",
    "y_pred_miss1 = y_pred[miss1_idx]\n",
    "y_pred_miss2 = y_pred[miss2_idx]\n",
    "test_label_miss0 = test_label[miss0_idx]\n",
    "test_label_miss1 = test_label[miss1_idx]\n",
    "test_label_miss2 = test_label[miss2_idx]\n",
    "\n",
    "auc = roc_auc_score(test_label_miss0, probs_miss0)\n",
    "print('Test AUC : {}'.format(auc))\n",
    "print(classification_report(test_label_miss0, y_pred_miss0, digits=4))\n",
    "\n",
    "plt.figure(figsize=(4, 4))\n",
    "fpr, tpr, _ = roc_curve(test_label_miss0, probs_miss0)\n",
    "plt.plot(fpr, tpr, marker='.', label='AUC = {:.4f}'.format(auc), color='orange')\n",
    "plt.title('ROC curve')\n",
    "plt.xlabel('False Positive Rate')\n",
    "plt.ylabel('True Positive Rate')\n",
    "plt.legend()\n",
    "plt.show()\n",
    "\n",
    "cf_matrix = confusion_matrix(test_label_miss0, y_pred_miss0)\n",
    "plt.figure(figsize=(3, 3))\n",
    "sns.heatmap(cf_matrix, annot=True, fmt=',.0f')\n",
    "plt.show()\n",
    "\n",
    "auc = roc_auc_score(test_label_miss1, probs_miss1)\n",
    "print('Test AUC : {}'.format(auc))\n",
    "print(classification_report(test_label_miss1, y_pred_miss1, digits=4))\n",
    "\n",
    "plt.figure(figsize=(4, 4))\n",
    "fpr, tpr, _ = roc_curve(test_label_miss1, probs_miss1)\n",
    "plt.plot(fpr, tpr, marker='.', label='AUC = {:.4f}'.format(auc), color='orange')\n",
    "plt.title('ROC curve')\n",
    "plt.xlabel('False Positive Rate')\n",
    "plt.ylabel('True Positive Rate')\n",
    "plt.legend()\n",
    "plt.show()\n",
    "\n",
    "cf_matrix = confusion_matrix(test_label_miss1, y_pred_miss1)\n",
    "plt.figure(figsize=(3, 3))\n",
    "sns.heatmap(cf_matrix, annot=True, fmt=',.0f')\n",
    "plt.show()\n",
    "\n",
    "auc = roc_auc_score(test_label_miss2, probs_miss2)\n",
    "print('Test AUC : {}'.format(auc))\n",
    "print(classification_report(test_label_miss2, y_pred_miss2, digits=4))\n",
    "\n",
    "plt.figure(figsize=(4, 4))\n",
    "fpr, tpr, _ = roc_curve(test_label_miss2, probs_miss2)\n",
    "plt.plot(fpr, tpr, marker='.', label='AUC = {:.4f}'.format(auc), color='orange')\n",
    "plt.title('ROC curve')\n",
    "plt.xlabel('False Positive Rate')\n",
    "plt.ylabel('True Positive Rate')\n",
    "plt.legend()\n",
    "plt.show()\n",
    "\n",
    "cf_matrix = confusion_matrix(test_label_miss2, y_pred_miss2)\n",
    "plt.figure(figsize=(3, 3))\n",
    "sns.heatmap(cf_matrix, annot=True, fmt=',.0f')\n",
    "plt.show()\n",
    "\n"
   ]
  }
 ],
 "metadata": {
  "kernelspec": {
   "display_name": "torch",
   "language": "python",
   "name": "torch"
  },
  "language_info": {
   "codemirror_mode": {
    "name": "ipython",
    "version": 3
   },
   "file_extension": ".py",
   "mimetype": "text/x-python",
   "name": "python",
   "nbconvert_exporter": "python",
   "pygments_lexer": "ipython3",
   "version": "3.6.13"
  }
 },
 "nbformat": 4,
 "nbformat_minor": 5
}
