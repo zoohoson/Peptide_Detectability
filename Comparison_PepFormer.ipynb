{
 "cells": [
  {
   "cell_type": "code",
   "execution_count": 1,
   "id": "b068968d",
   "metadata": {
    "ExecuteTime": {
     "end_time": "2022-05-30T15:31:38.583921Z",
     "start_time": "2022-05-30T15:31:37.782050Z"
    }
   },
   "outputs": [],
   "source": [
    "import numpy as np\n",
    "import torch\n",
    "import torch.nn as nn\n",
    "import torch.nn.functional as F\n",
    "from torch.autograd import Variable\n",
    "import torchvision\n",
    "import torchvision.transforms as transforms\n",
    "import torch.utils.data as Data\n",
    "import torch.nn.utils.rnn as rnn_utils\n",
    "\n",
    "device = torch.device(\"cuda\",0)"
   ]
  },
  {
   "cell_type": "code",
   "execution_count": 2,
   "id": "fd9f8290",
   "metadata": {
    "ExecuteTime": {
     "end_time": "2022-05-30T15:31:40.311268Z",
     "start_time": "2022-05-30T15:31:39.582685Z"
    }
   },
   "outputs": [],
   "source": [
    "import seaborn as sns\n",
    "from sklearn.metrics import classification_report\n",
    "from sklearn.metrics import confusion_matrix\n",
    "from sklearn.metrics import roc_curve\n",
    "from sklearn.metrics import roc_auc_score"
   ]
  },
  {
   "cell_type": "code",
   "execution_count": 3,
   "id": "43ade7a1",
   "metadata": {
    "ExecuteTime": {
     "end_time": "2022-05-30T15:31:40.315272Z",
     "start_time": "2022-05-30T15:31:40.313232Z"
    }
   },
   "outputs": [],
   "source": [
    "import pandas as pd"
   ]
  },
  {
   "cell_type": "code",
   "execution_count": 4,
   "id": "346660c4",
   "metadata": {
    "ExecuteTime": {
     "end_time": "2022-05-30T15:31:40.335701Z",
     "start_time": "2022-05-30T15:31:40.316626Z"
    }
   },
   "outputs": [],
   "source": [
    "from model_PepFormer import *"
   ]
  },
  {
   "cell_type": "code",
   "execution_count": 5,
   "id": "42c6d211",
   "metadata": {
    "ExecuteTime": {
     "end_time": "2022-05-30T15:31:41.138243Z",
     "start_time": "2022-05-30T15:31:41.134813Z"
    }
   },
   "outputs": [],
   "source": [
    "def pred(data_iter, net):\n",
    "    y_pred = []\n",
    "    for x, y in data_iter:\n",
    "        x,y=x.to(device),y.to(device)\n",
    "        outputs=net.trainModel(x)\n",
    "#         print(outputs.argmax(dim=1),\n",
    "#              outputs.argmax(dim=1)==y,\n",
    "#              (outputs.argmax(dim=1)==y).float(),\n",
    "#              (outputs.argmax(dim=1)==y).float().sum(),\n",
    "#              (outputs.argmax(dim=1)==y).float().sum().item())\n",
    "        for _ in outputs.argmax(dim=1):\n",
    "            y_pred.append(int(_))\n",
    "    return y_pred"
   ]
  },
  {
   "cell_type": "code",
   "execution_count": 6,
   "id": "890fc7d6",
   "metadata": {
    "ExecuteTime": {
     "end_time": "2022-05-30T15:31:41.633865Z",
     "start_time": "2022-05-30T15:31:41.630206Z"
    }
   },
   "outputs": [],
   "source": [
    "def pred_prob(data_iter, net):\n",
    "    y_pred = []\n",
    "    for x, y in data_iter:\n",
    "        x,y=x.to(device),y.to(device)\n",
    "        outputs=net.trainModel(x)\n",
    "        for _ in outputs:\n",
    "            y_pred.append(list(map(float, _)))\n",
    "    return y_pred"
   ]
  },
  {
   "cell_type": "code",
   "execution_count": 7,
   "id": "30ebf453",
   "metadata": {
    "ExecuteTime": {
     "end_time": "2022-05-30T15:31:42.441509Z",
     "start_time": "2022-05-30T15:31:42.432416Z"
    }
   },
   "outputs": [],
   "source": [
    "class newModel(nn.Module):\n",
    "    def __init__(self, vocab_size=24):\n",
    "        super().__init__()\n",
    "        self.hidden_dim = 25\n",
    "        self.batch_size = 256\n",
    "        self.emb_dim = 512\n",
    "        \n",
    "        self.embedding = nn.Embedding(vocab_size, self.emb_dim, padding_idx=0)\n",
    "        self.encoder_layer = nn.TransformerEncoderLayer(d_model=512, nhead=8)\n",
    "        self.transformer_encoder = nn.TransformerEncoder(self.encoder_layer, num_layers=1)\n",
    "        \n",
    "        self.gru = nn.GRU(self.emb_dim, self.hidden_dim, num_layers=2, \n",
    "                               bidirectional=True, dropout=0.2)\n",
    "        \n",
    "        \n",
    "        self.block1=nn.Sequential(nn.Linear(4050,1024),\n",
    "                                            nn.BatchNorm1d(1024),\n",
    "                                            nn.LeakyReLU(),\n",
    "                                            nn.Linear(1024,256),\n",
    "                                 )\n",
    "\n",
    "        self.block2=nn.Sequential(\n",
    "                                               nn.BatchNorm1d(256),\n",
    "                                               nn.LeakyReLU(),\n",
    "                                               nn.Linear(256,128),\n",
    "                                               nn.BatchNorm1d(128),\n",
    "                                               nn.LeakyReLU(),\n",
    "                                               nn.Linear(128,64),\n",
    "                                               nn.BatchNorm1d(64),\n",
    "                                               nn.LeakyReLU(),\n",
    "                                               nn.Linear(64,2)\n",
    "                                            )\n",
    "        \n",
    "    def forward(self, x):\n",
    "        x=self.embedding(x)\n",
    "        output=self.transformer_encoder(x).permute(1, 0, 2)\n",
    "        output,hn=self.gru(output)\n",
    "        output=output.permute(1,0,2)\n",
    "        hn=hn.permute(1,0,2)\n",
    "        output=output.reshape(output.shape[0],-1)\n",
    "        hn=hn.reshape(output.shape[0],-1)\n",
    "        output=torch.cat([output,hn],1)\n",
    "        return self.block1(output)\n",
    "\n",
    "    def trainModel(self, x):\n",
    "        with torch.no_grad():\n",
    "            output=self.forward(x)\n",
    "        return self.block2(output)"
   ]
  },
  {
   "cell_type": "code",
   "execution_count": 8,
   "id": "12177deb",
   "metadata": {
    "ExecuteTime": {
     "end_time": "2022-05-30T15:31:48.029424Z",
     "start_time": "2022-05-30T15:31:44.712305Z"
    }
   },
   "outputs": [
    {
     "data": {
      "text/plain": [
       "<All keys matched successfully>"
      ]
     },
     "execution_count": 8,
     "metadata": {},
     "output_type": "execute_result"
    }
   ],
   "source": [
    "net = newModel().to(device)\n",
    "net.load_state_dict(torch.load(f'code/compareModel/2021ACS_PepFormer/Model/8.pl')['model'])"
   ]
  },
  {
   "cell_type": "markdown",
   "id": "f2e38479",
   "metadata": {},
   "source": [
    "# HPP"
   ]
  },
  {
   "cell_type": "code",
   "execution_count": 9,
   "id": "aaed949b",
   "metadata": {
    "ExecuteTime": {
     "end_time": "2022-05-27T16:15:00.286531Z",
     "start_time": "2022-05-27T16:15:00.195772Z"
    }
   },
   "outputs": [],
   "source": [
    "df_hpp = pd.read_csv('data/HPP.csv')[['peptide', 'Class']]\n",
    "\n",
    "hpp_class = list(df_hpp.Class.values) + ['None']\n",
    "df_hpp['Class'] = df_hpp.Class.apply(lambda x: {'PE1': str(1), 'Detected_MPs': str(1), 'MPs': str(0)}[x])\n",
    "\n",
    "hpp = []\n",
    "for line in df_hpp.values:\n",
    "    line = ','.join(line)\n",
    "    hpp.append(line)"
   ]
  },
  {
   "cell_type": "code",
   "execution_count": 10,
   "id": "b30d2eb6",
   "metadata": {
    "ExecuteTime": {
     "end_time": "2022-05-27T16:15:04.653395Z",
     "start_time": "2022-05-27T16:15:01.845496Z"
    }
   },
   "outputs": [
    {
     "name": "stdout",
     "output_type": "stream",
     "text": [
      "length > 81: 0\n",
      "Making predictions\n"
     ]
    }
   ],
   "source": [
    "hpp_data, hpp_label = genData(hpp, 81)\n",
    "\n",
    "hpp_dataset = Data.TensorDataset(hpp_data, hpp_label)\n",
    "\n",
    "batch_size=256\n",
    "hpp_iter = torch.utils.data.DataLoader(hpp_dataset, batch_size=batch_size, shuffle=False)\n",
    "\n",
    "print('Making predictions')\n",
    "y_prob = np.array(pred_prob(hpp_iter, net))[:, 1]"
   ]
  },
  {
   "cell_type": "code",
   "execution_count": 11,
   "id": "05a6ea36",
   "metadata": {
    "ExecuteTime": {
     "end_time": "2022-05-27T16:15:05.334664Z",
     "start_time": "2022-05-27T16:15:05.298100Z"
    }
   },
   "outputs": [],
   "source": [
    "df_hpp = pd.concat([df_hpp, pd.DataFrame(y_prob, columns=['probs'])], axis=1)\n",
    "df_hpp['Class'] = hpp_class\n",
    "min_val = df_hpp.probs.min()\n",
    "max_val = df_hpp.probs.max()\n",
    "df_hpp['probs'] = df_hpp.probs.apply(lambda x: (x-min_val)/(max_val-min_val))\n",
    "\n",
    "pe = df_hpp.loc[df_hpp.Class=='PE1'][['peptide', 'probs']].drop_duplicates()\n",
    "dmp = df_hpp.loc[df_hpp.Class=='Detected_MPs'][['peptide', 'probs']].drop_duplicates()\n",
    "mp = df_hpp.loc[df_hpp.Class=='MPs'][['peptide', 'probs']].drop_duplicates()"
   ]
  },
  {
   "cell_type": "code",
   "execution_count": 12,
   "id": "3ffe72e8",
   "metadata": {
    "ExecuteTime": {
     "end_time": "2022-05-27T16:15:08.315525Z",
     "start_time": "2022-05-27T16:15:08.168260Z"
    }
   },
   "outputs": [
    {
     "data": {
      "image/png": "[encoded data removed]",
      "text/plain": [
       "<Figure size 360x216 with 1 Axes>"
      ]
     },
     "metadata": {
      "needs_background": "light"
     },
     "output_type": "display_data"
    }
   ],
   "source": [
    "plt.figure(figsize=(5,3))\n",
    "a = plt.violinplot([pe.probs.astype(float), \n",
    "                    dmp.probs.astype(float), \n",
    "                    mp.probs.astype(float)],\n",
    "               showmeans=True,\n",
    "              )\n",
    "plt.xticks([y + 1 for y in range(len([pe,dmp,mp]))], ['PE1', 'Detected MPs', 'Current MPs'])\n",
    "b = plt.grid(axis='y')\n",
    "plt.show()"
   ]
  },
  {
   "cell_type": "markdown",
   "id": "5d90e8d9",
   "metadata": {},
   "source": [
    "# massIVE-KB"
   ]
  },
  {
   "cell_type": "code",
   "execution_count": 9,
   "id": "f8b91d59",
   "metadata": {
    "ExecuteTime": {
     "end_time": "2022-05-30T15:31:57.861923Z",
     "start_time": "2022-05-30T15:31:57.849297Z"
    }
   },
   "outputs": [],
   "source": [
    "class newModel_(nn.Module):\n",
    "    def __init__(self, vocab_size=24):\n",
    "        super().__init__()\n",
    "        self.hidden_dim = 25\n",
    "        self.batch_size = 256\n",
    "        self.emb_dim = 512\n",
    "        \n",
    "        self.embedding = nn.Embedding(vocab_size, self.emb_dim, padding_idx=0)\n",
    "        self.encoder_layer = nn.TransformerEncoderLayer(d_model=512, nhead=8)\n",
    "        self.transformer_encoder = nn.TransformerEncoder(self.encoder_layer, num_layers=1)\n",
    "        \n",
    "        self.gru = nn.GRU(self.emb_dim, self.hidden_dim, num_layers=2, \n",
    "                               bidirectional=True, dropout=0.2)\n",
    "        \n",
    "        \n",
    "        self.block1=nn.Sequential(nn.Linear(2100,1024),\n",
    "                                            nn.BatchNorm1d(1024),\n",
    "                                            nn.LeakyReLU(),\n",
    "                                            nn.Linear(1024,256),\n",
    "                                 )\n",
    "\n",
    "        self.block2=nn.Sequential(\n",
    "                                               nn.BatchNorm1d(256),\n",
    "                                               nn.LeakyReLU(),\n",
    "                                               nn.Linear(256,128),\n",
    "                                               nn.BatchNorm1d(128),\n",
    "                                               nn.LeakyReLU(),\n",
    "                                               nn.Linear(128,64),\n",
    "                                               nn.BatchNorm1d(64),\n",
    "                                               nn.LeakyReLU(),\n",
    "                                               nn.Linear(64,2)\n",
    "                                            )\n",
    "        \n",
    "    def forward(self, x):\n",
    "        x=self.embedding(x)\n",
    "        output=self.transformer_encoder(x).permute(1, 0, 2)\n",
    "        output,hn=self.gru(output)\n",
    "        output=output.permute(1,0,2)\n",
    "        hn=hn.permute(1,0,2)\n",
    "        output=output.reshape(output.shape[0],-1)\n",
    "        hn=hn.reshape(output.shape[0],-1)\n",
    "        output=torch.cat([output,hn],1)\n",
    "        return self.block1(output)\n",
    "\n",
    "    def trainModel(self, x):\n",
    "        with torch.no_grad():\n",
    "            output=self.forward(x)\n",
    "        return self.block2(output)"
   ]
  },
  {
   "cell_type": "code",
   "execution_count": 10,
   "id": "f5493bc2",
   "metadata": {
    "ExecuteTime": {
     "end_time": "2022-05-30T15:31:59.386111Z",
     "start_time": "2022-05-30T15:31:59.159380Z"
    },
    "scrolled": true
   },
   "outputs": [
    {
     "data": {
      "text/plain": [
       "newModel_(\n",
       "  (embedding): Embedding(24, 512, padding_idx=0)\n",
       "  (encoder_layer): TransformerEncoderLayer(\n",
       "    (self_attn): MultiheadAttention(\n",
       "      (out_proj): _LinearWithBias(in_features=512, out_features=512, bias=True)\n",
       "    )\n",
       "    (linear1): Linear(in_features=512, out_features=2048, bias=True)\n",
       "    (dropout): Dropout(p=0.1, inplace=False)\n",
       "    (linear2): Linear(in_features=2048, out_features=512, bias=True)\n",
       "    (norm1): LayerNorm((512,), eps=1e-05, elementwise_affine=True)\n",
       "    (norm2): LayerNorm((512,), eps=1e-05, elementwise_affine=True)\n",
       "    (dropout1): Dropout(p=0.1, inplace=False)\n",
       "    (dropout2): Dropout(p=0.1, inplace=False)\n",
       "  )\n",
       "  (transformer_encoder): TransformerEncoder(\n",
       "    (layers): ModuleList(\n",
       "      (0): TransformerEncoderLayer(\n",
       "        (self_attn): MultiheadAttention(\n",
       "          (out_proj): _LinearWithBias(in_features=512, out_features=512, bias=True)\n",
       "        )\n",
       "        (linear1): Linear(in_features=512, out_features=2048, bias=True)\n",
       "        (dropout): Dropout(p=0.1, inplace=False)\n",
       "        (linear2): Linear(in_features=2048, out_features=512, bias=True)\n",
       "        (norm1): LayerNorm((512,), eps=1e-05, elementwise_affine=True)\n",
       "        (norm2): LayerNorm((512,), eps=1e-05, elementwise_affine=True)\n",
       "        (dropout1): Dropout(p=0.1, inplace=False)\n",
       "        (dropout2): Dropout(p=0.1, inplace=False)\n",
       "      )\n",
       "    )\n",
       "  )\n",
       "  (gru): GRU(512, 25, num_layers=2, dropout=0.2, bidirectional=True)\n",
       "  (block1): Sequential(\n",
       "    (0): Linear(in_features=2100, out_features=1024, bias=True)\n",
       "    (1): BatchNorm1d(1024, eps=1e-05, momentum=0.1, affine=True, track_running_stats=True)\n",
       "    (2): LeakyReLU(negative_slope=0.01)\n",
       "    (3): Linear(in_features=1024, out_features=256, bias=True)\n",
       "  )\n",
       "  (block2): Sequential(\n",
       "    (0): BatchNorm1d(256, eps=1e-05, momentum=0.1, affine=True, track_running_stats=True)\n",
       "    (1): LeakyReLU(negative_slope=0.01)\n",
       "    (2): Linear(in_features=256, out_features=128, bias=True)\n",
       "    (3): BatchNorm1d(128, eps=1e-05, momentum=0.1, affine=True, track_running_stats=True)\n",
       "    (4): LeakyReLU(negative_slope=0.01)\n",
       "    (5): Linear(in_features=128, out_features=64, bias=True)\n",
       "    (6): BatchNorm1d(64, eps=1e-05, momentum=0.1, affine=True, track_running_stats=True)\n",
       "    (7): LeakyReLU(negative_slope=0.01)\n",
       "    (8): Linear(in_features=64, out_features=2, bias=True)\n",
       "  )\n",
       ")"
      ]
     },
     "execution_count": 10,
     "metadata": {},
     "output_type": "execute_result"
    }
   ],
   "source": [
    "net_re = newModel_().to(device)\n",
    "net_re.load_state_dict(torch.load(f'log/PepFormer.pl')['model'])\n",
    "net_re.eval()"
   ]
  },
  {
   "cell_type": "code",
   "execution_count": 11,
   "id": "b8873d42",
   "metadata": {
    "ExecuteTime": {
     "end_time": "2022-05-30T15:32:00.475488Z",
     "start_time": "2022-05-30T15:32:00.469094Z"
    }
   },
   "outputs": [],
   "source": [
    "def genData(file,max_len):\n",
    "    aa_dict={'A':1,'R':2,'N':3,'D':4,'C':5,'Q':6,'E':7,'G':8,'H':9,'I':10,\n",
    "             'L':11,'K':12,'M':13,'F':14,'P':15,'O':16,'S':17,'U':18,'T':19,\n",
    "             'W':20,'Y':21,'V':22,'X':23}\n",
    "##############################################\n",
    "# original code\n",
    "    # with open(file, 'r') as inf:\n",
    "    #     lines = inf.read().splitlines()\n",
    "##############################################        \n",
    "    lines = file\n",
    "    long_pep_counter=0\n",
    "    pep_codes=[]\n",
    "    labels=[]\n",
    "#     lines.append('X'*79+',0')\n",
    "    for pep in lines:\n",
    "        pep,label=pep.split(\",\")\n",
    "        labels.append(int(label))\n",
    "        if not len(pep) > max_len:\n",
    "            current_pep=[]\n",
    "            for aa in pep:\n",
    "                current_pep.append(aa_dict[aa])\n",
    "            pep_codes.append(torch.tensor(current_pep))\n",
    "        else:\n",
    "            long_pep_counter += 1\n",
    "    print(\"length > {}:\".format(max_len),long_pep_counter)\n",
    "    data = rnn_utils.pad_sequence(pep_codes, batch_first=True)  # padding\n",
    "    return data, torch.tensor(labels)"
   ]
  },
  {
   "cell_type": "code",
   "execution_count": 12,
   "id": "934eb915",
   "metadata": {
    "ExecuteTime": {
     "end_time": "2022-05-30T15:32:05.406986Z",
     "start_time": "2022-05-30T15:32:02.016767Z"
    }
   },
   "outputs": [
    {
     "name": "stdout",
     "output_type": "stream",
     "text": [
      "length > 81: 0\n"
     ]
    }
   ],
   "source": [
    "tmp = pd.read_csv('data/test_diff_hpp.csv')[['peptide', 'label']].drop_duplicates()\n",
    "tmp['label'] = tmp['label'].apply(lambda x: {True: str(1), False: str(0)}[x])\n",
    "test = []\n",
    "for line in tmp.values:\n",
    "    line = ','.join(line)\n",
    "    test.append(line)\n",
    "\n",
    "test_data, test_label = genData(test, 81)\n",
    "test_dataset = Data.TensorDataset(test_data, test_label)\n",
    "batch_size=256\n",
    "test_iter = torch.utils.data.DataLoader(test_dataset, batch_size=batch_size, shuffle=False)"
   ]
  },
  {
   "cell_type": "code",
   "execution_count": 13,
   "id": "249e94d2",
   "metadata": {
    "ExecuteTime": {
     "end_time": "2022-05-30T15:32:27.894527Z",
     "start_time": "2022-05-30T15:32:05.409406Z"
    }
   },
   "outputs": [],
   "source": [
    "y_pred = pred(test_iter, net_re)\n",
    "probs = np.array(pred_prob(test_iter, net_re))[:, 1]\n",
    "acc = evaluate_accuracy(test_iter,net_re)\n",
    "auc = roc_auc_score(test_label, probs)"
   ]
  },
  {
   "cell_type": "code",
   "execution_count": 19,
   "id": "74d26d76",
   "metadata": {
    "ExecuteTime": {
     "end_time": "2022-05-27T16:17:12.538043Z",
     "start_time": "2022-05-27T16:17:12.294675Z"
    }
   },
   "outputs": [
    {
     "name": "stdout",
     "output_type": "stream",
     "text": [
      "Test Accuracy: 0.8350869974135904\n",
      "Test AUC : 0.913151817299528\n",
      "              precision    recall  f1-score   support\n",
      "\n",
      "           0     0.8416    0.8308    0.8362     86178\n",
      "           1     0.8285    0.8395    0.8340     83942\n",
      "\n",
      "    accuracy                         0.8351    170120\n",
      "   macro avg     0.8351    0.8351    0.8351    170120\n",
      "weighted avg     0.8352    0.8351    0.8351    170120\n",
      "\n"
     ]
    }
   ],
   "source": [
    "print('Test Accuracy: {}'.format(acc))\n",
    "print('Test AUC : {}'.format(auc))\n",
    "print(classification_report(test_label, y_pred, digits=4))"
   ]
  },
  {
   "cell_type": "code",
   "execution_count": 18,
   "id": "96ae908d",
   "metadata": {
    "ExecuteTime": {
     "end_time": "2022-05-27T16:15:57.936164Z",
     "start_time": "2022-05-27T16:15:57.433291Z"
    }
   },
   "outputs": [
    {
     "data": {
      "image/png": "[encoded data removed]",
      "text/plain": [
       "<Figure size 288x288 with 1 Axes>"
      ]
     },
     "metadata": {
      "needs_background": "light"
     },
     "output_type": "display_data"
    },
    {
     "data": {
      "image/png": "[encoded data removed]",
      "text/plain": [
       "<Figure size 216x216 with 2 Axes>"
      ]
     },
     "metadata": {
      "needs_background": "light"
     },
     "output_type": "display_data"
    }
   ],
   "source": [
    "plt.figure(figsize=(4, 4))\n",
    "fpr, tpr, _ = roc_curve(test_label, probs)\n",
    "plt.plot(fpr, tpr, marker='.', label='AUC = {:.4f}'.format(auc), color='orange')\n",
    "plt.title('ROC curve')\n",
    "plt.xlabel('False Positive Rate')\n",
    "plt.ylabel('True Positive Rate')\n",
    "plt.legend()\n",
    "plt.show()\n",
    "\n",
    "cf_matrix = confusion_matrix(test_label, y_pred)\n",
    "plt.figure(figsize=(3, 3))\n",
    "sns.heatmap(cf_matrix, annot=True, fmt=',.0f')\n",
    "plt.show()"
   ]
  },
  {
   "cell_type": "code",
   "execution_count": 20,
   "id": "dc76d36f",
   "metadata": {
    "ExecuteTime": {
     "end_time": "2022-05-27T16:29:14.792035Z",
     "start_time": "2022-05-27T16:29:14.788606Z"
    }
   },
   "outputs": [],
   "source": [
    "np.save('log/result_PepFormer_fpr.npy', fpr)\n",
    "np.save('log/result_PepFormer_tpr.npy', tpr)"
   ]
  },
  {
   "cell_type": "markdown",
   "id": "c8f196b2",
   "metadata": {},
   "source": [
    "# Case of cleavage site count"
   ]
  },
  {
   "cell_type": "code",
   "execution_count": 15,
   "id": "923bc8ff",
   "metadata": {
    "ExecuteTime": {
     "end_time": "2022-05-30T15:33:51.388727Z",
     "start_time": "2022-05-30T15:33:49.514349Z"
    },
    "scrolled": false
   },
   "outputs": [
    {
     "name": "stdout",
     "output_type": "stream",
     "text": [
      "Test AUC : 0.8757956207997835\n",
      "              precision    recall  f1-score   support\n",
      "\n",
      "           0     0.8186    0.5612    0.6659     10839\n",
      "           1     0.8916    0.9667    0.9276     40477\n",
      "\n",
      "    accuracy                         0.8811     51316\n",
      "   macro avg     0.8551    0.7640    0.7968     51316\n",
      "weighted avg     0.8762    0.8811    0.8724     51316\n",
      "\n"
     ]
    },
    {
     "data": {
      "image/png": "[encoded data removed]",
      "text/plain": [
       "<Figure size 288x288 with 1 Axes>"
      ]
     },
     "metadata": {
      "needs_background": "light"
     },
     "output_type": "display_data"
    },
    {
     "data": {
      "image/png": "[encoded data removed]",
      "text/plain": [
       "<Figure size 216x216 with 2 Axes>"
      ]
     },
     "metadata": {
      "needs_background": "light"
     },
     "output_type": "display_data"
    },
    {
     "name": "stdout",
     "output_type": "stream",
     "text": [
      "Test AUC : 0.8592273261120646\n",
      "              precision    recall  f1-score   support\n",
      "\n",
      "           0     0.7799    0.7614    0.7706     31792\n",
      "           1     0.7745    0.7923    0.7833     32882\n",
      "\n",
      "    accuracy                         0.7771     64674\n",
      "   macro avg     0.7772    0.7769    0.7769     64674\n",
      "weighted avg     0.7772    0.7771    0.7770     64674\n",
      "\n"
     ]
    },
    {
     "data": {
      "image/png": "[encoded data removed]",
      "text/plain": [
       "<Figure size 288x288 with 1 Axes>"
      ]
     },
     "metadata": {
      "needs_background": "light"
     },
     "output_type": "display_data"
    },
    {
     "data": {
      "image/png": "[encoded data removed]",
      "text/plain": [
       "<Figure size 216x216 with 2 Axes>"
      ]
     },
     "metadata": {
      "needs_background": "light"
     },
     "output_type": "display_data"
    },
    {
     "name": "stdout",
     "output_type": "stream",
     "text": [
      "Test AUC : 0.8790725462684431\n",
      "              precision    recall  f1-score   support\n",
      "\n",
      "           0     0.8864    0.9484    0.9164     43547\n",
      "           1     0.7021    0.5000    0.5841     10583\n",
      "\n",
      "    accuracy                         0.8608     54130\n",
      "   macro avg     0.7943    0.7242    0.7503     54130\n",
      "weighted avg     0.8504    0.8608    0.8514     54130\n",
      "\n"
     ]
    },
    {
     "data": {
      "image/png": "[encoded data removed]",
      "text/plain": [
       "<Figure size 288x288 with 1 Axes>"
      ]
     },
     "metadata": {
      "needs_background": "light"
     },
     "output_type": "display_data"
    },
    {
     "data": {
      "image/png": "[encoded data removed]",
      "text/plain": [
       "<Figure size 216x216 with 2 Axes>"
      ]
     },
     "metadata": {
      "needs_background": "light"
     },
     "output_type": "display_data"
    }
   ],
   "source": [
    "idx = tmp.index\n",
    "df_test = pd.read_csv('data/test_diff_hpp.csv').loc[idx]\n",
    "df_test.reset_index(drop=True, inplace=True)\n",
    "\n",
    "miss0_idx = df_test.loc[df_test.miss1=='ZZZZZZZZZZZZZZZ'].index\n",
    "miss1_idx = df_test.loc[(df_test.miss1!='ZZZZZZZZZZZZZZZ') & (df_test.miss2=='ZZZZZZZZZZZZZZZ')].index\n",
    "miss2_idx = df_test.loc[(df_test.miss1!='ZZZZZZZZZZZZZZZ') & (df_test.miss2!='ZZZZZZZZZZZZZZZ')].index\n",
    "\n",
    "y_pred = np.array(y_pred)\n",
    "probs_miss0 = probs[miss0_idx]\n",
    "probs_miss1 = probs[miss1_idx]\n",
    "probs_miss2 = probs[miss2_idx]\n",
    "y_pred_miss0 = y_pred[miss0_idx]\n",
    "y_pred_miss1 = y_pred[miss1_idx]\n",
    "y_pred_miss2 = y_pred[miss2_idx]\n",
    "test_label_miss0 = test_label[miss0_idx]\n",
    "test_label_miss1 = test_label[miss1_idx]\n",
    "test_label_miss2 = test_label[miss2_idx]\n",
    "\n",
    "auc = roc_auc_score(test_label_miss0, probs_miss0)\n",
    "print('Test AUC : {}'.format(auc))\n",
    "print(classification_report(test_label_miss0, y_pred_miss0, digits=4))\n",
    "\n",
    "plt.figure(figsize=(4, 4))\n",
    "fpr, tpr, _ = roc_curve(test_label_miss0, probs_miss0)\n",
    "plt.plot(fpr, tpr, marker='.', label='AUC = {:.4f}'.format(auc), color='orange')\n",
    "plt.title('ROC curve')\n",
    "plt.xlabel('False Positive Rate')\n",
    "plt.ylabel('True Positive Rate')\n",
    "plt.legend()\n",
    "plt.show()\n",
    "\n",
    "cf_matrix = confusion_matrix(test_label_miss0, y_pred_miss0)\n",
    "plt.figure(figsize=(3, 3))\n",
    "sns.heatmap(cf_matrix, annot=True, fmt=',.0f')\n",
    "plt.show()\n",
    "\n",
    "auc = roc_auc_score(test_label_miss1, probs_miss1)\n",
    "print('Test AUC : {}'.format(auc))\n",
    "print(classification_report(test_label_miss1, y_pred_miss1, digits=4))\n",
    "\n",
    "plt.figure(figsize=(4, 4))\n",
    "fpr, tpr, _ = roc_curve(test_label_miss1, probs_miss1)\n",
    "plt.plot(fpr, tpr, marker='.', label='AUC = {:.4f}'.format(auc), color='orange')\n",
    "plt.title('ROC curve')\n",
    "plt.xlabel('False Positive Rate')\n",
    "plt.ylabel('True Positive Rate')\n",
    "plt.legend()\n",
    "plt.show()\n",
    "\n",
    "cf_matrix = confusion_matrix(test_label_miss1, y_pred_miss1)\n",
    "plt.figure(figsize=(3, 3))\n",
    "sns.heatmap(cf_matrix, annot=True, fmt=',.0f')\n",
    "plt.show()\n",
    "\n",
    "auc = roc_auc_score(test_label_miss2, probs_miss2)\n",
    "print('Test AUC : {}'.format(auc))\n",
    "print(classification_report(test_label_miss2, y_pred_miss2, digits=4))\n",
    "\n",
    "plt.figure(figsize=(4, 4))\n",
    "fpr, tpr, _ = roc_curve(test_label_miss2, probs_miss2)\n",
    "plt.plot(fpr, tpr, marker='.', label='AUC = {:.4f}'.format(auc), color='orange')\n",
    "plt.title('ROC curve')\n",
    "plt.xlabel('False Positive Rate')\n",
    "plt.ylabel('True Positive Rate')\n",
    "plt.legend()\n",
    "plt.show()\n",
    "\n",
    "cf_matrix = confusion_matrix(test_label_miss2, y_pred_miss2)\n",
    "plt.figure(figsize=(3, 3))\n",
    "sns.heatmap(cf_matrix, annot=True, fmt=',.0f')\n",
    "plt.show()\n",
    "\n"
   ]
  },
  {
   "cell_type": "code",
   "execution_count": null,
   "id": "87376e76",
   "metadata": {},
   "outputs": [],
   "source": []
  }
 ],
 "metadata": {
  "kernelspec": {
   "display_name": "torch",
   "language": "python",
   "name": "torch"
  },
  "language_info": {
   "codemirror_mode": {
    "name": "ipython",
    "version": 3
   },
   "file_extension": ".py",
   "mimetype": "text/x-python",
   "name": "python",
   "nbconvert_exporter": "python",
   "pygments_lexer": "ipython3",
   "version": "3.6.13"
  }
 },
 "nbformat": 4,
 "nbformat_minor": 5
}
