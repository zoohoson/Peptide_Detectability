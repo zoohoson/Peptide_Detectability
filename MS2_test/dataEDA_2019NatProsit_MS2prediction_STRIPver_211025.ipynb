{
 "cells": [
  {
   "cell_type": "code",
   "execution_count": 1,
   "metadata": {
    "ExecuteTime": {
     "end_time": "2021-11-15T07:54:19.455622Z",
     "start_time": "2021-11-15T07:54:19.027659Z"
    }
   },
   "outputs": [],
   "source": [
    "import pandas as pd\n",
    "import numpy as np\n",
    "import matplotlib.pyplot as plt\n",
    "\n",
    "import sys\n",
    "sys.path.append(\"/home/bis/2021_SJH_detectability/Detectability\")\n",
    "from utils import *"
   ]
  },
  {
   "cell_type": "code",
   "execution_count": 2,
   "metadata": {
    "ExecuteTime": {
     "end_time": "2021-11-15T07:55:27.598716Z",
     "start_time": "2021-11-15T07:54:20.889235Z"
    }
   },
   "outputs": [],
   "source": [
    "df_kb = pd.read_csv('../data/massIVE-KB/df_kb_filter.csv')\n",
    "df_uni = pd.read_csv('../data/uniprot/df_uni.csv')"
   ]
  },
  {
   "cell_type": "code",
   "execution_count": 3,
   "metadata": {
    "ExecuteTime": {
     "end_time": "2021-11-15T07:55:27.616119Z",
     "start_time": "2021-11-15T07:55:27.600273Z"
    }
   },
   "outputs": [
    {
     "data": {
      "text/html": [
       "<div>\n",
       "<style scoped>\n",
       "    .dataframe tbody tr th:only-of-type {\n",
       "        vertical-align: middle;\n",
       "    }\n",
       "\n",
       "    .dataframe tbody tr th {\n",
       "        vertical-align: top;\n",
       "    }\n",
       "\n",
       "    .dataframe thead th {\n",
       "        text-align: right;\n",
       "    }\n",
       "</style>\n",
       "<table border=\"1\" class=\"dataframe\">\n",
       "  <thead>\n",
       "    <tr style=\"text-align: right;\">\n",
       "      <th></th>\n",
       "      <th>Unnamed: 0</th>\n",
       "      <th>PEPMASS</th>\n",
       "      <th>CHARGE</th>\n",
       "      <th>FILENAME</th>\n",
       "      <th>SEQ</th>\n",
       "      <th>PROTEIN</th>\n",
       "      <th>STRIP_PEPTIDE</th>\n",
       "      <th>SCORE</th>\n",
       "      <th>MZ</th>\n",
       "      <th>INTENSITY</th>\n",
       "      <th>SPECTRAL_CNT</th>\n",
       "      <th>PROTEIN_except_decoy</th>\n",
       "      <th>PROTEIN_except_else</th>\n",
       "      <th>PTM_SEQ</th>\n",
       "    </tr>\n",
       "  </thead>\n",
       "  <tbody>\n",
       "    <tr>\n",
       "      <th>0</th>\n",
       "      <td>0</td>\n",
       "      <td>623.327626</td>\n",
       "      <td>3</td>\n",
       "      <td>filtered_library_mgf_files/9187af535f6e41ce958...</td>\n",
       "      <td>+42.011AAEAAGGKYRSTVSKSKD</td>\n",
       "      <td>sp|Q96A65|EXOC4_HUMAN</td>\n",
       "      <td>AAEAAGGKYRSTVSKSKD</td>\n",
       "      <td>4.605175</td>\n",
       "      <td>129.10317993164062;130.08726501464844;136.0766...</td>\n",
       "      <td>63295.375;7010.876953125;14278.6826171875;5026...</td>\n",
       "      <td>1</td>\n",
       "      <td>sp|Q96A65|EXOC4_HUMAN</td>\n",
       "      <td>sp|Q96A65|EXOC4_HUMAN</td>\n",
       "      <td>(Ace)AAEAAGGKYRSTVSKSKD</td>\n",
       "    </tr>\n",
       "  </tbody>\n",
       "</table>\n",
       "</div>"
      ],
      "text/plain": [
       "   Unnamed: 0     PEPMASS  CHARGE  \\\n",
       "0           0  623.327626       3   \n",
       "\n",
       "                                            FILENAME  \\\n",
       "0  filtered_library_mgf_files/9187af535f6e41ce958...   \n",
       "\n",
       "                         SEQ                PROTEIN       STRIP_PEPTIDE  \\\n",
       "0  +42.011AAEAAGGKYRSTVSKSKD  sp|Q96A65|EXOC4_HUMAN  AAEAAGGKYRSTVSKSKD   \n",
       "\n",
       "      SCORE                                                 MZ  \\\n",
       "0  4.605175  129.10317993164062;130.08726501464844;136.0766...   \n",
       "\n",
       "                                           INTENSITY  SPECTRAL_CNT  \\\n",
       "0  63295.375;7010.876953125;14278.6826171875;5026...             1   \n",
       "\n",
       "    PROTEIN_except_decoy    PROTEIN_except_else                  PTM_SEQ  \n",
       "0  sp|Q96A65|EXOC4_HUMAN  sp|Q96A65|EXOC4_HUMAN  (Ace)AAEAAGGKYRSTVSKSKD  "
      ]
     },
     "execution_count": 3,
     "metadata": {},
     "output_type": "execute_result"
    }
   ],
   "source": [
    "df_kb.head(1)"
   ]
  },
  {
   "cell_type": "markdown",
   "metadata": {},
   "source": [
    "# Guide\n",
    "  - STRIP_PEPTIDE의 spectral count 정리 기준\n",
    "    - PTM_PEPTIDE(SEQ)도 protein에서 ID된것이긴 하니까 STRIP_PEPTIDE 기준으로 detect 된 것으로 판단해야 한다.\n",
    "  - point 1\n",
    "      - PTM_PEPTIDE와 noPTM_PEPTIDE를 STRIP_PEPTIDE로 만들 때, spectral count 합쳐야 할까?  \n",
    "        - protien 기준에서 id peptide를 판단할 때, PTM없이 판단하므로 합치는게 맞다.\n",
    "      - 결론 : 맞다.\n",
    "  - point 2\n",
    "      - PTM_PEPTIDE 의 m/z, intensity 와 noPTM_PEPTIDE 의 m/z, intensity가 다를텐데 prosit 기준값은?\n",
    "          - m/z, intensity 는 noPTM_PEPTIDE것으로 사용한다.\n",
    "          - 물론, noPTM_PEPTIDE와 겹치지 않으면 STRIP_PEPTIDE의 스펙트럼 사용\n",
    "      - 결론 : PTM_PEPTIDE의 STRIP_PEPTIDE서열이 noPTM에 있는 경우 noPTM 스펙트럼 사용  \n",
    "        없는 경우, best score의 스펙트럼 사용\n",
    "  - point 3\n",
    "      - CHARGE 마다 spectral count 다른데, 합쳐야할까?\n",
    "      - 1과 같은 의미로 합치는게 맞다.\n",
    "      - 다만, m/z, intensity 비교를 위해 charge별 하나를 정해야하므로 별도로 유지한다."
   ]
  },
  {
   "cell_type": "code",
   "execution_count": 4,
   "metadata": {
    "ExecuteTime": {
     "end_time": "2021-11-15T07:55:35.289670Z",
     "start_time": "2021-11-15T07:55:27.617572Z"
    }
   },
   "outputs": [
    {
     "name": "stdout",
     "output_type": "stream",
     "text": [
      "STRIP precursor which has protein >2 cnt :  71419\n"
     ]
    }
   ],
   "source": [
    "# protein check\n",
    "pc2prot = dict()\n",
    "for pep, c, prot in df_kb[['STRIP_PEPTIDE', 'CHARGE', 'PROTEIN']].values:\n",
    "    if (pep, c) not in pc2prot:\n",
    "        pc2prot[(pep, c)]=set()\n",
    "    for p in prot.split(';'):\n",
    "        pc2prot[(pep, c)].add(p)\n",
    "    \n",
    "print('STRIP precursor which has protein >2 cnt : ', \n",
    "      len([_ for _ in pc2prot.values() if len(_) >=2]))\n",
    "\n",
    "for (p, c), v in pc2prot.items():\n",
    "    pc2prot[(p, c)] = ';'.join(list(v))"
   ]
  },
  {
   "cell_type": "code",
   "execution_count": 5,
   "metadata": {
    "ExecuteTime": {
     "end_time": "2021-11-15T07:55:41.218089Z",
     "start_time": "2021-11-15T07:55:35.291240Z"
    }
   },
   "outputs": [],
   "source": [
    "# ptm spectral count merge (plus)\n",
    "# Nterm (Ace), (Cab), (Aml) 은 spectral count 1로 둬서 나중에 빠질 수 있게 구성 !! \n",
    "ptm_arr = ['(Ace)', '(Cab)', '(Aml)']\n",
    "pc2cnt = dict()\n",
    "for c, p, cnt in df_kb[['CHARGE', 'STRIP_PEPTIDE', 'SPECTRAL_CNT']].values:\n",
    "    if (p, c) not in pc2cnt:\n",
    "        pc2cnt[(p, c)] = 0\n",
    "    pc2cnt[(p, c)] += cnt\n",
    "    \n",
    "for c, p, ptm_seq in df_kb[['CHARGE', 'STRIP_PEPTIDE', 'PTM_SEQ']].values:\n",
    "    if sum([1 for _ in ptm_arr if _ in ptm_seq])>=1:\n",
    "        pc2cnt[(p, c)]=1"
   ]
  },
  {
   "cell_type": "code",
   "execution_count": 6,
   "metadata": {
    "ExecuteTime": {
     "end_time": "2021-11-15T07:56:02.172694Z",
     "start_time": "2021-11-15T07:55:41.219513Z"
    }
   },
   "outputs": [],
   "source": [
    "# spectrum check\n",
    "# 84만개의 no PTM PEPTIDE\n",
    "pc2mz = dict()\n",
    "pc2int = dict()\n",
    "for p, c, m, i in df_kb[['SEQ', 'CHARGE', 'MZ', 'INTENSITY']].values:  \n",
    "    if '+' not in p:\n",
    "        pc2mz[(p, c)] = m\n",
    "        pc2int[(p, c)] = i\n",
    "\n",
    "# spectrum check\n",
    "# 20만개의 PTM PEPTIDE\n",
    "noptm_pc = {(_, c) for c, _ in df_kb[['CHARGE', 'SEQ']].values if '+' not in _}\n",
    "whole_pc = {(_, c) for c, _ in df_kb[['CHARGE', 'STRIP_PEPTIDE']].values}\n",
    "ptm_pc_candi = {k:set() for k in list(whole_pc.difference(noptm_pc))}\n",
    "\n",
    "# PTM_PEPTIDE candidate\n",
    "# ptm_pc_candi = (STRIP_PEPTIDE, CHARGE):(PTM_PEPTIDE, CHARGE)\n",
    "for c, p, seq in df_kb[['CHARGE', 'STRIP_PEPTIDE', 'SEQ']].values:\n",
    "    if (p, c) in ptm_pc_candi:\n",
    "        ptm_pc_candi[(p, c)].add((seq, c))\n",
    "\n",
    "pc2score_look = {(p, c):score for p, c, score in df_kb[['SEQ', 'CHARGE', 'SCORE']].values}\n",
    "pc2mz_look = {(p, c):mz for p, c, mz in df_kb[['SEQ' ,'CHARGE', 'MZ']].values}\n",
    "pc2int_look = {(p, c):i for p, c, i in df_kb[['SEQ' ,'CHARGE', 'INTENSITY']].values}\n",
    "\n",
    "for k, v in ptm_pc_candi.items():\n",
    "    if len(v)==1:\n",
    "        v = list(v)[0]\n",
    "        pc2mz[k] = pc2mz_look[v]\n",
    "        pc2int[k] = pc2int_look[v]\n",
    "    else:  # choose high SCORE's SEQ\n",
    "        ptm_seqs = {ptm_seq:pc2score_look[ptm_seq] for ptm_seq in v}\n",
    "        best_v = sorted(ptm_seqs.items(), key=lambda x: x[1], reverse=True)[0][0]  # 내림차순\n",
    "        pc2mz[k] = pc2mz_look[best_v]\n",
    "        pc2int[k] = pc2int_look[best_v]"
   ]
  },
  {
   "cell_type": "code",
   "execution_count": 7,
   "metadata": {
    "ExecuteTime": {
     "end_time": "2021-11-15T07:56:15.333520Z",
     "start_time": "2021-11-15T07:56:02.174554Z"
    }
   },
   "outputs": [],
   "source": [
    "pc = {(p,c) for p, c in df_kb[['STRIP_PEPTIDE', 'CHARGE']].values}\n",
    "df_ided_peptide = pd.DataFrame([[c, p, pc2prot[(p, c)], pc2cnt[(p,c)], pc2mz[(p,c)], pc2int[(p,c)]]\n",
    "                                for p, c in pc],\n",
    "                              columns=['CHARGE', 'PEPTIDE', 'PROTEINS', \n",
    "                                       'SPECTRAL_CNT', 'MZ', 'INTENSITY'])"
   ]
  },
  {
   "cell_type": "code",
   "execution_count": 8,
   "metadata": {
    "ExecuteTime": {
     "end_time": "2021-11-15T07:56:15.342877Z",
     "start_time": "2021-11-15T07:56:15.334913Z"
    }
   },
   "outputs": [
    {
     "name": "stdout",
     "output_type": "stream",
     "text": [
      "(1457872, 6)\n"
     ]
    },
    {
     "data": {
      "text/html": [
       "<div>\n",
       "<style scoped>\n",
       "    .dataframe tbody tr th:only-of-type {\n",
       "        vertical-align: middle;\n",
       "    }\n",
       "\n",
       "    .dataframe tbody tr th {\n",
       "        vertical-align: top;\n",
       "    }\n",
       "\n",
       "    .dataframe thead th {\n",
       "        text-align: right;\n",
       "    }\n",
       "</style>\n",
       "<table border=\"1\" class=\"dataframe\">\n",
       "  <thead>\n",
       "    <tr style=\"text-align: right;\">\n",
       "      <th></th>\n",
       "      <th>CHARGE</th>\n",
       "      <th>PEPTIDE</th>\n",
       "      <th>PROTEINS</th>\n",
       "      <th>SPECTRAL_CNT</th>\n",
       "      <th>MZ</th>\n",
       "      <th>INTENSITY</th>\n",
       "    </tr>\n",
       "  </thead>\n",
       "  <tbody>\n",
       "    <tr>\n",
       "      <th>0</th>\n",
       "      <td>3</td>\n",
       "      <td>LQMDNELLRQQIEELK</td>\n",
       "      <td>sp|Q15853|USF2_HUMAN</td>\n",
       "      <td>10</td>\n",
       "      <td>101.07118225097656;102.05537414550781;104.0531...</td>\n",
       "      <td>22109.3671875;8687.90234375;13804.5576171875;1...</td>\n",
       "    </tr>\n",
       "    <tr>\n",
       "      <th>1</th>\n",
       "      <td>2</td>\n",
       "      <td>VKHEDQQQGEDEH</td>\n",
       "      <td>sp|P05814|CASB_HUMAN</td>\n",
       "      <td>1</td>\n",
       "      <td>110.07174682617188;129.10267639160156;138.0550...</td>\n",
       "      <td>39044.734375;24020.220703125;23875.279296875;5...</td>\n",
       "    </tr>\n",
       "  </tbody>\n",
       "</table>\n",
       "</div>"
      ],
      "text/plain": [
       "   CHARGE           PEPTIDE              PROTEINS  SPECTRAL_CNT  \\\n",
       "0       3  LQMDNELLRQQIEELK  sp|Q15853|USF2_HUMAN            10   \n",
       "1       2     VKHEDQQQGEDEH  sp|P05814|CASB_HUMAN             1   \n",
       "\n",
       "                                                  MZ  \\\n",
       "0  101.07118225097656;102.05537414550781;104.0531...   \n",
       "1  110.07174682617188;129.10267639160156;138.0550...   \n",
       "\n",
       "                                           INTENSITY  \n",
       "0  22109.3671875;8687.90234375;13804.5576171875;1...  \n",
       "1  39044.734375;24020.220703125;23875.279296875;5...  "
      ]
     },
     "execution_count": 8,
     "metadata": {},
     "output_type": "execute_result"
    }
   ],
   "source": [
    "print(df_ided_peptide.shape)\n",
    "df_ided_peptide.head(2)"
   ]
  },
  {
   "cell_type": "markdown",
   "metadata": {},
   "source": [
    "# protein selection\n",
    "  - only use ided protein (based on massIVE-KB)"
   ]
  },
  {
   "cell_type": "code",
   "execution_count": 9,
   "metadata": {
    "ExecuteTime": {
     "end_time": "2021-11-15T07:56:15.844753Z",
     "start_time": "2021-11-15T07:56:15.344745Z"
    }
   },
   "outputs": [
    {
     "name": "stdout",
     "output_type": "stream",
     "text": [
      "21461\n"
     ]
    }
   ],
   "source": [
    "ided_protein = list({__ for _ in df_ided_peptide.PROTEINS.values for __ in _.split(';')})\n",
    "print(len(ided_protein))"
   ]
  },
  {
   "cell_type": "code",
   "execution_count": 10,
   "metadata": {
    "ExecuteTime": {
     "end_time": "2021-11-15T07:56:47.616253Z",
     "start_time": "2021-11-15T07:56:15.846407Z"
    }
   },
   "outputs": [
    {
     "name": "stdout",
     "output_type": "stream",
     "text": [
      "(19291, 3)\n"
     ]
    },
    {
     "data": {
      "text/html": [
       "<div>\n",
       "<style scoped>\n",
       "    .dataframe tbody tr th:only-of-type {\n",
       "        vertical-align: middle;\n",
       "    }\n",
       "\n",
       "    .dataframe tbody tr th {\n",
       "        vertical-align: top;\n",
       "    }\n",
       "\n",
       "    .dataframe thead th {\n",
       "        text-align: right;\n",
       "    }\n",
       "</style>\n",
       "<table border=\"1\" class=\"dataframe\">\n",
       "  <thead>\n",
       "    <tr style=\"text-align: right;\">\n",
       "      <th></th>\n",
       "      <th>PROTEIN</th>\n",
       "      <th>SEQUENCE</th>\n",
       "      <th>PROTEIN_FULL</th>\n",
       "    </tr>\n",
       "  </thead>\n",
       "  <tbody>\n",
       "    <tr>\n",
       "      <th>0</th>\n",
       "      <td>sp|Q9H553|ALG2_HUMAN</td>\n",
       "      <td>MAEEQGRERDSVPKPSVLFLHPDLGVGGAERLVLDAALALQARGCS...</td>\n",
       "      <td>&gt;sp|Q9H553|ALG2_HUMAN Alpha-1,3/1,6-mannosyltr...</td>\n",
       "    </tr>\n",
       "  </tbody>\n",
       "</table>\n",
       "</div>"
      ],
      "text/plain": [
       "                PROTEIN                                           SEQUENCE  \\\n",
       "0  sp|Q9H553|ALG2_HUMAN  MAEEQGRERDSVPKPSVLFLHPDLGVGGAERLVLDAALALQARGCS...   \n",
       "\n",
       "                                        PROTEIN_FULL  \n",
       "0  >sp|Q9H553|ALG2_HUMAN Alpha-1,3/1,6-mannosyltr...  "
      ]
     },
     "execution_count": 10,
     "metadata": {},
     "output_type": "execute_result"
    }
   ],
   "source": [
    "df_ided_protein_idx = [idx for idx, p in zip(df_uni.index, df_uni.PROTEIN.values) if p in ided_protein]\n",
    "df_ided_protein = df_uni.loc[df_ided_protein_idx].reset_index(drop=True)\n",
    "print(df_ided_protein.shape)\n",
    "df_ided_protein.head(1)\n",
    "# pk = PROTEIN"
   ]
  },
  {
   "cell_type": "markdown",
   "metadata": {},
   "source": [
    "# Spectral Count\n",
    "  - on uniprot protiens\n",
    "  - with massIVE-KB peptides,\n",
    "  - about spectral_count, spectral_count_miss"
   ]
  },
  {
   "cell_type": "code",
   "execution_count": 11,
   "metadata": {
    "ExecuteTime": {
     "end_time": "2021-11-15T07:56:47.631306Z",
     "start_time": "2021-11-15T07:56:47.617546Z"
    }
   },
   "outputs": [],
   "source": [
    "def prot2counting(pep_tree, df_prot, df_pep):\n",
    "    # STRIP_PEPTIDE SPECTRAL_CNT\n",
    "    pep2cnt = dict()\n",
    "    for p, cnt in df_pep[['PEPTIDE', 'SPECTRAL_CNT']].values:\n",
    "        if p not in pep2cnt:\n",
    "            pep2cnt[p] = 0\n",
    "        pep2cnt[p] += cnt\n",
    "\n",
    "    # counting array init\n",
    "    pep_cnt = [[0 for __ in range(len(_))] for _ in df_prot.SEQUENCE.values]\n",
    "    miss_cnt = [[0 for __ in range(len(_))] for _ in df_prot.SEQUENCE.values]\n",
    "    \n",
    "    # counting start! (protein roop)\n",
    "    for prot_idx, prot_seq in enumerate(df_prot.SEQUENCE.values):\n",
    "        if prot_idx % 1000 == 0:\n",
    "            print('peptide(spectral) counting...', prot_idx, '/', len(df_prot), end='\\r')\n",
    "\n",
    "        # matched peptide in protein\n",
    "        results = pep_tree.search_all(prot_seq)\n",
    "        # ex) result = ('ACAC', 5) = (peptide, location)\n",
    "        for result in results: \n",
    "            pep = result[0]\n",
    "            pep_len = len(result[0])\n",
    "            start_idx = result[1]\n",
    "            cnt = pep2cnt[pep]\n",
    "            \n",
    "            # miss cleavage case\n",
    "            if sum([1 for p in pep[:-1] if p in 'KR']) >= 1:\n",
    "                if pep[-1] in 'KR':  # __KR__KR case\n",
    "                    miss_change_range = range(start_idx, start_idx + pep_len -1)\n",
    "                    # miss cleavage count\n",
    "                    for idx, value in enumerate(miss_cnt[prot_idx]):\n",
    "                        if idx in miss_change_range:\n",
    "                            value += cnt\n",
    "                            miss_cnt[prot_idx][idx] = value\n",
    "                    # peptide(spectral) count \n",
    "                    # only count first, and last amino acid of peptide which include miss cleavage\n",
    "                    # last : For counting N term of tryptic site\n",
    "                    # first : Foir counting C term of tryptic site\n",
    "                    pep_cnt[prot_idx][start_idx + pep_len -1] += cnt\n",
    "                    pep_cnt[prot_idx][start_idx] += cnt\n",
    "                else:  # _KR__ case\n",
    "                    miss_change_range = range(start_idx, start_idx + pep_len)\n",
    "                    # miss cleavage count\n",
    "                    for idx, value in enumerate(miss_cnt[prot_idx]):\n",
    "                        if idx in miss_change_range:\n",
    "                            value += cnt\n",
    "                            miss_cnt[prot_idx][idx] = value\n",
    "            # not miss cleavage case\n",
    "            else:\n",
    "                change_range = range(start_idx, start_idx + pep_len)\n",
    "                # peptide(spectral) count\n",
    "                for idx, value in enumerate(pep_cnt[prot_idx]):\n",
    "                    if idx in change_range:\n",
    "                        value += cnt\n",
    "                        pep_cnt[prot_idx][idx] = value\n",
    "    print('peptide(spectral) counting done!                              n')\n",
    "    \n",
    "    # peptide(spectral) count with protein\n",
    "    prot2cnt = dict()\n",
    "    for idx, ((pname, seqs), cnts) in enumerate(zip(df_prot[['PROTEIN', 'SEQUENCE']].values, pep_cnt)):\n",
    "        prot2cnt[pname]=';'.join([str(seq) + '_' + str(cnt) for seq, cnt in zip(seqs, cnts)])\n",
    "\n",
    "    prot2cnt_miss = dict()\n",
    "    for idx, ((pname, seqs), cnts) in enumerate(zip(df_prot[['PROTEIN', 'SEQUENCE']].values, miss_cnt)):\n",
    "        prot2cnt_miss[pname] = ';'.join([str(seq) + '_' + str(cnt) for seq, cnt in zip(seqs, cnts)])\n",
    "    return prot2cnt, prot2cnt_miss"
   ]
  },
  {
   "cell_type": "code",
   "execution_count": 12,
   "metadata": {
    "ExecuteTime": {
     "end_time": "2021-11-15T08:01:40.342138Z",
     "start_time": "2021-11-15T07:56:47.632498Z"
    }
   },
   "outputs": [
    {
     "name": "stdout",
     "output_type": "stream",
     "text": [
      "peptide(spectral) counting done!                              n\n"
     ]
    }
   ],
   "source": [
    "pep_tree = tree_from_pep(df_ided_peptide.PEPTIDE.unique())  # from utils\n",
    "\n",
    "prot2cnt, prot2cnt_miss = prot2counting(pep_tree, df_ided_protein, df_ided_peptide)\n",
    "\n",
    "df_ided_protein['SPECTRAL_CNT'] = [prot2cnt[pname] for pname in df_ided_protein.PROTEIN.values]\n",
    "df_ided_protein['SPECTRAL_CNT_MISS'] = [prot2cnt_miss[pname] for pname in df_ided_protein.PROTEIN.values]"
   ]
  },
  {
   "cell_type": "code",
   "execution_count": 13,
   "metadata": {
    "ExecuteTime": {
     "end_time": "2021-11-15T08:01:40.352071Z",
     "start_time": "2021-11-15T08:01:40.343732Z"
    }
   },
   "outputs": [
    {
     "name": "stdout",
     "output_type": "stream",
     "text": [
      "(19291, 5)\n"
     ]
    },
    {
     "data": {
      "text/html": [
       "<div>\n",
       "<style scoped>\n",
       "    .dataframe tbody tr th:only-of-type {\n",
       "        vertical-align: middle;\n",
       "    }\n",
       "\n",
       "    .dataframe tbody tr th {\n",
       "        vertical-align: top;\n",
       "    }\n",
       "\n",
       "    .dataframe thead th {\n",
       "        text-align: right;\n",
       "    }\n",
       "</style>\n",
       "<table border=\"1\" class=\"dataframe\">\n",
       "  <thead>\n",
       "    <tr style=\"text-align: right;\">\n",
       "      <th></th>\n",
       "      <th>PROTEIN</th>\n",
       "      <th>SEQUENCE</th>\n",
       "      <th>PROTEIN_FULL</th>\n",
       "      <th>SPECTRAL_CNT</th>\n",
       "      <th>SPECTRAL_CNT_MISS</th>\n",
       "    </tr>\n",
       "  </thead>\n",
       "  <tbody>\n",
       "    <tr>\n",
       "      <th>0</th>\n",
       "      <td>sp|Q9H553|ALG2_HUMAN</td>\n",
       "      <td>MAEEQGRERDSVPKPSVLFLHPDLGVGGAERLVLDAALALQARGCS...</td>\n",
       "      <td>&gt;sp|Q9H553|ALG2_HUMAN Alpha-1,3/1,6-mannosyltr...</td>\n",
       "      <td>M_0;A_0;E_0;E_0;Q_0;G_0;R_0;E_3;R_0;D_76;S_2;V...</td>\n",
       "      <td>M_0;A_0;E_0;E_0;Q_0;G_0;R_0;E_3;R_3;D_79;S_81;...</td>\n",
       "    </tr>\n",
       "  </tbody>\n",
       "</table>\n",
       "</div>"
      ],
      "text/plain": [
       "                PROTEIN                                           SEQUENCE  \\\n",
       "0  sp|Q9H553|ALG2_HUMAN  MAEEQGRERDSVPKPSVLFLHPDLGVGGAERLVLDAALALQARGCS...   \n",
       "\n",
       "                                        PROTEIN_FULL  \\\n",
       "0  >sp|Q9H553|ALG2_HUMAN Alpha-1,3/1,6-mannosyltr...   \n",
       "\n",
       "                                        SPECTRAL_CNT  \\\n",
       "0  M_0;A_0;E_0;E_0;Q_0;G_0;R_0;E_3;R_0;D_76;S_2;V...   \n",
       "\n",
       "                                   SPECTRAL_CNT_MISS  \n",
       "0  M_0;A_0;E_0;E_0;Q_0;G_0;R_0;E_3;R_3;D_79;S_81;...  "
      ]
     },
     "execution_count": 13,
     "metadata": {},
     "output_type": "execute_result"
    }
   ],
   "source": [
    "print(df_ided_protein.shape)\n",
    "df_ided_protein.head(1)"
   ]
  },
  {
   "cell_type": "markdown",
   "metadata": {},
   "source": [
    "# Make Detect_pep, unDetect_pep version==whole\n",
    "  - spectral cnt >= 2 : detect\n",
    "  - spectral cnt == 0 : undetect"
   ]
  },
  {
   "cell_type": "code",
   "execution_count": 14,
   "metadata": {
    "ExecuteTime": {
     "end_time": "2021-11-15T08:01:40.371130Z",
     "start_time": "2021-11-15T08:01:40.353297Z"
    }
   },
   "outputs": [],
   "source": [
    "def pep_from_prot(df_uni, MISS_CLEAVAGE, thres=4):\n",
    "    peptide = []\n",
    "    TS_AA = 'KR'\n",
    "\n",
    "    for protein, pname, cnt, cnt_miss in df_uni[['SEQUENCE', 'PROTEIN', 'SPECTRAL_CNT', 'SPECTRAL_CNT_MISS']].values:\n",
    "        cnt = list(map(lambda x: int(x[2:]), cnt.split(';')))\n",
    "        cnt_miss = list(map(lambda x: int(x[2:]), cnt_miss.split(';')))\n",
    "        \n",
    "        ts_idx = []  # tryptic site index\n",
    "        for prot_idx, aa in enumerate(protein):\n",
    "            if aa in TS_AA:\n",
    "                ts_idx.append(prot_idx)\n",
    "        for idx in range(len(ts_idx)):\n",
    "            n = MISS_CLEAVAGE\n",
    "            if idx+(n+1) > len(ts_idx)-1:  # peptide making range\n",
    "                break\n",
    "\n",
    "            # protein N term\n",
    "            if (ts_idx[idx]<=(thres - 1)) and (ts_idx[idx] >= len(protein) -1 -(thres - 1)):  # -MNQKLLK- 앞뒤 다 부족한 경우\n",
    "                en = 'Z' * (thres - ts_idx[idx]) + protein[: ts_idx[idx]+(thres + 1)] + 'Z' * (thres - (len(protein)-1 - ts_idx[idx]))\n",
    "            elif ts_idx[idx]<=(thres - 1):\n",
    "                en = 'Z' * (thres - ts_idx[idx]) + protein[: ts_idx[idx]+(thres + 1)]\n",
    "            elif ts_idx[idx] >= len(protein) -1 -(thres - 1):  # for EAQDRRN : 끝이 부족한 경우\n",
    "                en = protein[ts_idx[idx]-thres:] + 'Z' * (thres - (len(protein)-1 - ts_idx[idx]))\n",
    "            else:\n",
    "                en = protein[ts_idx[idx]-thres: ts_idx[idx]+(thres + 1)]\n",
    "\n",
    "            # protein C term\n",
    "            if (ts_idx[idx+n+1] >= len(protein) -1 -(thres - 1)) and (ts_idx[idx+n+1] <= (thres - 1)):\n",
    "                ec = 'Z' * (thres - ts_idx[idx+n+1]) + protein[: ts_idx[idx+n+1]+(thres + 1)]  + 'Z' * (thres - (len(protein)-1 - ts_idx[idx+n+1]))\n",
    "            elif ts_idx[idx+n+1] >= len(protein) -1 -(thres - 1):\n",
    "                ec = protein[ts_idx[idx+n+1] - thres :] + 'Z' * (thres - (len(protein)-1 - ts_idx[idx+n+1]))\n",
    "            elif ts_idx[idx+n+1] <= (thres - 1):  # for -MRRS : 시작이 부족한 경우\n",
    "                ec = 'Z' * (thres - ts_idx[idx+n+1]) + protein[: ts_idx[idx+n+1]+(thres + 1)]\n",
    "            else:\n",
    "                ec = protein[ts_idx[idx+n+1] - thres : ts_idx[idx+n+1] +(thres + 1)]  # n+1번째 tryptic_site\n",
    "                    \n",
    "            # Peptide miss cleavage\n",
    "            if n != 0:  # miss cleavage 고려하는 경우,\n",
    "                ei = []\n",
    "                for i in range(1, n+1):\n",
    "                    if ts_idx[idx+i] >= len(protein) -1 -(thres - 1):\n",
    "                        ei_tmp = protein[ts_idx[idx+i] - thres :] + 'Z' * (thres - (len(protein)-1 - ts_idx[idx+i]))\n",
    "                    elif ts_idx[idx+i] <= (thres - 1):\n",
    "                        ei_tmp = 'Z' * (thres - ts_idx[idx+i]) + protein[: ts_idx[idx+i]+(thres + 1)]\n",
    "                    else:\n",
    "                        ei_tmp = protein[ts_idx[idx+i] - thres : ts_idx[idx+i] +(thres + 1)]\n",
    "                    ei.append(ei_tmp)\n",
    "            else:  # miss cleavage 고려안하는 경우\n",
    "                ei = []\n",
    "            # peptide\n",
    "            if ts_idx[idx+n+1] == len(protein)-1:  # protein C term = idx + n + 1 의 tryptic_site 가 단백질의 마지막인 경우\n",
    "                pep = protein[ts_idx[idx]] + '.' + protein[ts_idx[idx]+1:ts_idx[idx+n+1]+1] + '.Z'\n",
    "            else:\n",
    "                pep = protein[ts_idx[idx]] + '.' + protein[ts_idx[idx]+1:ts_idx[idx+n+1]+1] + '.' + protein[ts_idx[idx+n+1]+1]\n",
    "\n",
    "            peptide.append({pep:[[en], [ec], ei, pname]})\n",
    "    return peptide"
   ]
  },
  {
   "cell_type": "code",
   "execution_count": 15,
   "metadata": {
    "ExecuteTime": {
     "end_time": "2021-11-15T08:01:42.363988Z",
     "start_time": "2021-11-15T08:01:40.372340Z"
    }
   },
   "outputs": [],
   "source": [
    "# STRIP_PEPTIDE SPECTRAL_CNT\n",
    "pep2cnt = dict()\n",
    "for p, cnt in df_ided_peptide[['PEPTIDE', 'SPECTRAL_CNT']].values:\n",
    "    if p not in pep2cnt:\n",
    "        pep2cnt[p] = 0\n",
    "    pep2cnt[p] += cnt\n",
    "    \n",
    "    \n",
    "def pep_detection_labelling(df_ided_protein=df_ided_protein, pep_tree=pep_tree, pep2cnt=pep2cnt):\n",
    "    peptide0 = pep_from_prot(df_ided_protein, 0, thres=7)\n",
    "    peps = [list(dic.keys())[0] for dic in peptide0]\n",
    "    ens = [list(dic.values())[0][0] for dic in peptide0]\n",
    "    ecs = [list(dic.values())[0][1] for dic in peptide0]\n",
    "    eis = [list(dic.values())[0][2] for dic in peptide0]\n",
    "    pname = [list(dic.values())[0][3] for dic in peptide0]\n",
    "    zero = pd.DataFrame([[p, n[0], c[0], '-', '-', pn] \n",
    "                         for p, n, c, m, pn in zip(peps, ens, ecs, eis, pname)],\n",
    "                columns=['peptide', 'En', 'Ec', 'E1', 'E2', 'protein'])\n",
    "    zero['PEP'] = [i.split('.')[1] for i in zero.peptide.values]\n",
    "\n",
    "    peptide1 = pep_from_prot(df_ided_protein, 1, thres=7)\n",
    "    peps = [list(dic.keys())[0] for dic in peptide1]\n",
    "    ens = [list(dic.values())[0][0] for dic in peptide1]\n",
    "    ecs = [list(dic.values())[0][1] for dic in peptide1]\n",
    "    eis = [list(dic.values())[0][2] for dic in peptide1]\n",
    "    pname = [list(dic.values())[0][3] for dic in peptide1]\n",
    "    one = pd.DataFrame([[p, n[0], c[0], m[0], '-', pn]\n",
    "                        for p, n, c, m, pn in zip(peps, ens, ecs, eis, pname)],\n",
    "                columns=['peptide', 'En', 'Ec', 'E1', 'E2', 'protein'])\n",
    "    one['PEP'] = [i.split('.')[1] for i in one.peptide.values]\n",
    "\n",
    "    peptide2 = pep_from_prot(df_ided_protein, 2, thres=7)\n",
    "    peps = [list(dic.keys())[0] for dic in peptide2]\n",
    "    ens = [list(dic.values())[0][0] for dic in peptide2]\n",
    "    ecs = [list(dic.values())[0][1] for dic in peptide2]\n",
    "    eis = [list(dic.values())[0][2] for dic in peptide2]\n",
    "    pname = [list(dic.values())[0][3] for dic in peptide2]\n",
    "    two = pd.DataFrame([[p, n[0], c[0], m[0], m[1], pn]\n",
    "                        for p, n, c, m, pn in zip(peps, ens, ecs, eis, pname)],\n",
    "                columns=['peptide', 'En', 'Ec', 'E1', 'E2', 'protein'])\n",
    "    two['PEP'] = [i.split('.')[1] for i in two.peptide.values]\n",
    "\n",
    "    zero_filter = zero.loc[zero.PEP.apply(lambda x: (len(x)>=7) and (len(x)<=30))]\n",
    "    one_filter = one.loc[one.PEP.apply(lambda x: (len(x)>=7) and (len(x)<=30))]\n",
    "    two_filter = two.loc[two.PEP.apply(lambda x: (len(x)>=7) and (len(x)<=30))]\n",
    "\n",
    "    df_fully = pd.concat([zero_filter, one_filter, two_filter], axis=0).reset_index(drop=True)\n",
    "\n",
    "    # preprocessing\n",
    "    amino = list(\"ARNDCEQGHILKMFPSTWYVZ\")\n",
    "    check_u = [idx for idx, t in enumerate(df_fully.PEP.values) if 'U' in t]\n",
    "    check_x = [idx for idx, t in enumerate(df_fully.PEP.values) if 'X' in t]\n",
    "    check_n = [idx for idx, t in enumerate(df_fully.En.values) if (sum([1 for a in t if a not in amino]) >= 1) and t !='-']\n",
    "    check_c = [idx for idx, t in enumerate(df_fully.Ec.values) if (sum([1 for a in t if a not in amino]) >= 1) and t !='-']\n",
    "    check_1 = [idx for idx, t in enumerate(df_fully.E1.values) if (sum([1 for a in t if a not in amino]) >= 1) and t !='-']\n",
    "    check_2 = [idx for idx, t in enumerate(df_fully.E2.values) if (sum([1 for a in t if a not in amino]) >= 1) and t !='-']\n",
    "    check = list(set(check_n).union(set(check_c)).union(set(check_1)).union(set(check_2)).union(set(check_u)).union(set(check_x)))\n",
    "    print('del rows(including U, X amino acid) cnt : {:,}'.format(len(check)))\n",
    "    df_fully = df_fully.drop(check).reset_index(drop=True)\n",
    "\n",
    "    ided = []\n",
    "    for fully_pep in df_fully.PEP.values:\n",
    "        results = [i for i in pep_tree.search_all(fully_pep)]\n",
    "        if len(results) != 0:\n",
    "            result_pep = [_[0] for _ in results]\n",
    "            if fully_pep in result_pep:  # 정확히 똑같은 pep 있는 경우\n",
    "                if pep2cnt[fully_pep] > 1:\n",
    "                    ided.append(1)\n",
    "                else:\n",
    "                    ided.append(-1)  # SC1인 경우는 제거하자\n",
    "            else:\n",
    "                ided.append(0)\n",
    "        else:\n",
    "            ided.append(0)\n",
    "    df_fully['ID'] = ided\n",
    "\n",
    "    drop_idx = df_fully.loc[df_fully.ID==-1].index\n",
    "    print('peptide with 1 spectral count (remove this peptide) cnt : ', len(drop_idx))\n",
    "    df_fully = df_fully.drop(drop_idx).reset_index(drop=True)\n",
    "\n",
    "    drop_idx = np.where(df_fully.duplicated()==True)[0]\n",
    "    df_fully = df_fully.drop(drop_idx).reset_index(drop=True)\n",
    "\n",
    "    print('----ID/nonID cnt----\\n', df_fully.ID.value_counts())  # massIVE-KB : half is semi_non_tryptic, half is fully_tryptic\n",
    "    print('----final shape----\\n', df_fully.shape)\n",
    "    df_fully.head(1)\n",
    "    return df_fully"
   ]
  },
  {
   "cell_type": "code",
   "execution_count": 16,
   "metadata": {
    "ExecuteTime": {
     "end_time": "2021-11-15T08:01:42.475689Z",
     "start_time": "2021-11-15T08:01:42.365359Z"
    }
   },
   "outputs": [
    {
     "data": {
      "text/html": [
       "<div>\n",
       "<style scoped>\n",
       "    .dataframe tbody tr th:only-of-type {\n",
       "        vertical-align: middle;\n",
       "    }\n",
       "\n",
       "    .dataframe tbody tr th {\n",
       "        vertical-align: top;\n",
       "    }\n",
       "\n",
       "    .dataframe thead th {\n",
       "        text-align: right;\n",
       "    }\n",
       "</style>\n",
       "<table border=\"1\" class=\"dataframe\">\n",
       "  <thead>\n",
       "    <tr style=\"text-align: right;\">\n",
       "      <th></th>\n",
       "      <th>Unnamed: 0</th>\n",
       "      <th>PEPMASS</th>\n",
       "      <th>CHARGE</th>\n",
       "      <th>FILENAME</th>\n",
       "      <th>SEQ</th>\n",
       "      <th>PROTEIN</th>\n",
       "      <th>STRIP_PEPTIDE</th>\n",
       "      <th>SCORE</th>\n",
       "      <th>MZ</th>\n",
       "      <th>INTENSITY</th>\n",
       "      <th>SPECTRAL_CNT</th>\n",
       "      <th>PROTEIN_except_decoy</th>\n",
       "      <th>PROTEIN_except_else</th>\n",
       "      <th>PTM_SEQ</th>\n",
       "    </tr>\n",
       "  </thead>\n",
       "  <tbody>\n",
       "    <tr>\n",
       "      <th>1</th>\n",
       "      <td>1</td>\n",
       "      <td>420.207611</td>\n",
       "      <td>3</td>\n",
       "      <td>filtered_library_mgf_files/9187af535f6e41ce958...</td>\n",
       "      <td>+42.011AAEEPSKVEEK</td>\n",
       "      <td>sp|P29966|MARCS_HUMAN</td>\n",
       "      <td>AAEEPSKVEEK</td>\n",
       "      <td>5.081104</td>\n",
       "      <td>102.05455017089844;111.09056091308594;129.1016...</td>\n",
       "      <td>6125.9912109375;1650.5614013671875;13222.81445...</td>\n",
       "      <td>3</td>\n",
       "      <td>sp|P29966|MARCS_HUMAN</td>\n",
       "      <td>sp|P29966|MARCS_HUMAN</td>\n",
       "      <td>(Ace)AAEEPSKVEEK</td>\n",
       "    </tr>\n",
       "    <tr>\n",
       "      <th>79983</th>\n",
       "      <td>79983</td>\n",
       "      <td>629.808777</td>\n",
       "      <td>2</td>\n",
       "      <td>filtered_library_mgf_files/4ceb8327858446e3b58...</td>\n",
       "      <td>+42.011AAEEPSKVEEK</td>\n",
       "      <td>sp|P29966|MARCS_HUMAN</td>\n",
       "      <td>AAEEPSKVEEK</td>\n",
       "      <td>4.603983</td>\n",
       "      <td>102.05474090576172;111.09119415283203;115.0859...</td>\n",
       "      <td>1351.0970458984375;856.5582885742188;587.15649...</td>\n",
       "      <td>7</td>\n",
       "      <td>sp|P29966|MARCS_HUMAN</td>\n",
       "      <td>sp|P29966|MARCS_HUMAN</td>\n",
       "      <td>(Ace)AAEEPSKVEEK</td>\n",
       "    </tr>\n",
       "    <tr>\n",
       "      <th>586338</th>\n",
       "      <td>586338</td>\n",
       "      <td>608.806947</td>\n",
       "      <td>2</td>\n",
       "      <td>filtered_library_mgf_files/3874413ebf874cf19c9...</td>\n",
       "      <td>AAEEPSKVEEK</td>\n",
       "      <td>sp|P29966|MARCS_HUMAN</td>\n",
       "      <td>AAEEPSKVEEK</td>\n",
       "      <td>5.561619</td>\n",
       "      <td>102.05512237548828;115.08656311035156;115.0940...</td>\n",
       "      <td>144564.03125;309713.1875;10859.046875;110717.7...</td>\n",
       "      <td>95</td>\n",
       "      <td>sp|P29966|MARCS_HUMAN</td>\n",
       "      <td>sp|P29966|MARCS_HUMAN</td>\n",
       "      <td>AAEEPSKVEEK</td>\n",
       "    </tr>\n",
       "    <tr>\n",
       "      <th>732863</th>\n",
       "      <td>732863</td>\n",
       "      <td>406.208155</td>\n",
       "      <td>3</td>\n",
       "      <td>filtered_library_mgf_files/0c118258c5c04954969...</td>\n",
       "      <td>AAEEPSKVEEK</td>\n",
       "      <td>sp|P29966|MARCS_HUMAN</td>\n",
       "      <td>AAEEPSKVEEK</td>\n",
       "      <td>5.561619</td>\n",
       "      <td>102.05590057373047;110.07201385498047;115.0874...</td>\n",
       "      <td>146919.9375;38942.06640625;651668.3125;25144.4...</td>\n",
       "      <td>85</td>\n",
       "      <td>sp|P29966|MARCS_HUMAN</td>\n",
       "      <td>sp|P29966|MARCS_HUMAN</td>\n",
       "      <td>AAEEPSKVEEK</td>\n",
       "    </tr>\n",
       "    <tr>\n",
       "      <th>1938537</th>\n",
       "      <td>1938537</td>\n",
       "      <td>630.309520</td>\n",
       "      <td>2</td>\n",
       "      <td>filtered_library_mgf_files/f9dc38f66afa49a2b0a...</td>\n",
       "      <td>+43.006AAEEPSKVEEK</td>\n",
       "      <td>sp|P29966|MARCS_HUMAN</td>\n",
       "      <td>AAEEPSKVEEK</td>\n",
       "      <td>5.384195</td>\n",
       "      <td>87.055908203125;102.05543518066406;110.0719375...</td>\n",
       "      <td>23255.646484375;65401.15234375;5587.6552734375...</td>\n",
       "      <td>84</td>\n",
       "      <td>sp|P29966|MARCS_HUMAN</td>\n",
       "      <td>sp|P29966|MARCS_HUMAN</td>\n",
       "      <td>(Cab)AAEEPSKVEEK</td>\n",
       "    </tr>\n",
       "  </tbody>\n",
       "</table>\n",
       "</div>"
      ],
      "text/plain": [
       "         Unnamed: 0     PEPMASS  CHARGE  \\\n",
       "1                 1  420.207611       3   \n",
       "79983         79983  629.808777       2   \n",
       "586338       586338  608.806947       2   \n",
       "732863       732863  406.208155       3   \n",
       "1938537     1938537  630.309520       2   \n",
       "\n",
       "                                                  FILENAME  \\\n",
       "1        filtered_library_mgf_files/9187af535f6e41ce958...   \n",
       "79983    filtered_library_mgf_files/4ceb8327858446e3b58...   \n",
       "586338   filtered_library_mgf_files/3874413ebf874cf19c9...   \n",
       "732863   filtered_library_mgf_files/0c118258c5c04954969...   \n",
       "1938537  filtered_library_mgf_files/f9dc38f66afa49a2b0a...   \n",
       "\n",
       "                        SEQ                PROTEIN STRIP_PEPTIDE     SCORE  \\\n",
       "1        +42.011AAEEPSKVEEK  sp|P29966|MARCS_HUMAN   AAEEPSKVEEK  5.081104   \n",
       "79983    +42.011AAEEPSKVEEK  sp|P29966|MARCS_HUMAN   AAEEPSKVEEK  4.603983   \n",
       "586338          AAEEPSKVEEK  sp|P29966|MARCS_HUMAN   AAEEPSKVEEK  5.561619   \n",
       "732863          AAEEPSKVEEK  sp|P29966|MARCS_HUMAN   AAEEPSKVEEK  5.561619   \n",
       "1938537  +43.006AAEEPSKVEEK  sp|P29966|MARCS_HUMAN   AAEEPSKVEEK  5.384195   \n",
       "\n",
       "                                                        MZ  \\\n",
       "1        102.05455017089844;111.09056091308594;129.1016...   \n",
       "79983    102.05474090576172;111.09119415283203;115.0859...   \n",
       "586338   102.05512237548828;115.08656311035156;115.0940...   \n",
       "732863   102.05590057373047;110.07201385498047;115.0874...   \n",
       "1938537  87.055908203125;102.05543518066406;110.0719375...   \n",
       "\n",
       "                                                 INTENSITY  SPECTRAL_CNT  \\\n",
       "1        6125.9912109375;1650.5614013671875;13222.81445...             3   \n",
       "79983    1351.0970458984375;856.5582885742188;587.15649...             7   \n",
       "586338   144564.03125;309713.1875;10859.046875;110717.7...            95   \n",
       "732863   146919.9375;38942.06640625;651668.3125;25144.4...            85   \n",
       "1938537  23255.646484375;65401.15234375;5587.6552734375...            84   \n",
       "\n",
       "          PROTEIN_except_decoy    PROTEIN_except_else           PTM_SEQ  \n",
       "1        sp|P29966|MARCS_HUMAN  sp|P29966|MARCS_HUMAN  (Ace)AAEEPSKVEEK  \n",
       "79983    sp|P29966|MARCS_HUMAN  sp|P29966|MARCS_HUMAN  (Ace)AAEEPSKVEEK  \n",
       "586338   sp|P29966|MARCS_HUMAN  sp|P29966|MARCS_HUMAN       AAEEPSKVEEK  \n",
       "732863   sp|P29966|MARCS_HUMAN  sp|P29966|MARCS_HUMAN       AAEEPSKVEEK  \n",
       "1938537  sp|P29966|MARCS_HUMAN  sp|P29966|MARCS_HUMAN  (Cab)AAEEPSKVEEK  "
      ]
     },
     "execution_count": 16,
     "metadata": {},
     "output_type": "execute_result"
    }
   ],
   "source": [
    "df_kb.loc[df_kb.STRIP_PEPTIDE=='AAEEPSKVEEK']"
   ]
  },
  {
   "cell_type": "code",
   "execution_count": 17,
   "metadata": {
    "ExecuteTime": {
     "end_time": "2021-11-15T08:01:42.479492Z",
     "start_time": "2021-11-15T08:01:42.476920Z"
    }
   },
   "outputs": [
    {
     "data": {
      "text/plain": [
       "2"
      ]
     },
     "execution_count": 17,
     "metadata": {},
     "output_type": "execute_result"
    }
   ],
   "source": [
    "pep2cnt['AAEEPSKVEEK']"
   ]
  },
  {
   "cell_type": "code",
   "execution_count": 18,
   "metadata": {
    "ExecuteTime": {
     "end_time": "2021-11-15T08:04:53.550182Z",
     "start_time": "2021-11-15T08:01:42.480619Z"
    }
   },
   "outputs": [
    {
     "name": "stdout",
     "output_type": "stream",
     "text": [
      "del rows(including U, X amino acid) cnt : 160\n",
      "peptide with 1 spectral count (remove this peptide) cnt :  113427\n",
      "----ID/nonID cnt----\n",
      " 0    1493757\n",
      "1     480223\n",
      "Name: ID, dtype: int64\n",
      "----final shape----\n",
      " (1973980, 8)\n"
     ]
    }
   ],
   "source": [
    "df_fully = pep_detection_labelling()"
   ]
  },
  {
   "cell_type": "code",
   "execution_count": 19,
   "metadata": {
    "ExecuteTime": {
     "end_time": "2021-11-15T08:04:54.861403Z",
     "start_time": "2021-11-15T08:04:53.551760Z"
    }
   },
   "outputs": [
    {
     "name": "stdout",
     "output_type": "stream",
     "text": [
      "0\n"
     ]
    }
   ],
   "source": [
    "nidp = df_fully.loc[df_fully.ID==0].PEP.unique()\n",
    "idp = df_fully.loc[df_fully.ID==1].PEP.unique()\n",
    "print(len(set(nidp).intersection(set(idp))))"
   ]
  },
  {
   "cell_type": "code",
   "execution_count": 20,
   "metadata": {
    "ExecuteTime": {
     "end_time": "2021-11-15T08:05:05.282638Z",
     "start_time": "2021-11-15T08:04:54.862775Z"
    }
   },
   "outputs": [
    {
     "name": "stdout",
     "output_type": "stream",
     "text": [
      "(2189501, 4) 1121725\n",
      "(1244846, 10)\n"
     ]
    }
   ],
   "source": [
    "data = []\n",
    "for prot, ptms, strips, c in df_kb[['PROTEIN', 'PTM_SEQ', 'STRIP_PEPTIDE', 'CHARGE']].values:\n",
    "    for p in prot.split(';'):\n",
    "        data.append([p, ptms, strips, c])\n",
    "df_key = pd.DataFrame(data, columns=['protein', 'PTM', 'PEP', 'CHARGE']).drop_duplicates().reset_index(drop=True)\n",
    "print(df_key.shape, len({(_, __) for _, __ in df_key[['protein', 'PEP']].values}))\n",
    "\n",
    "df_fully_ptms = df_fully.loc[df_fully.ID==1].merge(df_key, on=['protein', 'PEP'], how='left')\n",
    "print(df_fully_ptms.shape)"
   ]
  },
  {
   "cell_type": "code",
   "execution_count": 21,
   "metadata": {
    "ExecuteTime": {
     "end_time": "2021-11-15T08:05:05.294307Z",
     "start_time": "2021-11-15T08:05:05.283998Z"
    }
   },
   "outputs": [
    {
     "data": {
      "text/html": [
       "<div>\n",
       "<style scoped>\n",
       "    .dataframe tbody tr th:only-of-type {\n",
       "        vertical-align: middle;\n",
       "    }\n",
       "\n",
       "    .dataframe tbody tr th {\n",
       "        vertical-align: top;\n",
       "    }\n",
       "\n",
       "    .dataframe thead th {\n",
       "        text-align: right;\n",
       "    }\n",
       "</style>\n",
       "<table border=\"1\" class=\"dataframe\">\n",
       "  <thead>\n",
       "    <tr style=\"text-align: right;\">\n",
       "      <th></th>\n",
       "      <th>peptide</th>\n",
       "      <th>En</th>\n",
       "      <th>Ec</th>\n",
       "      <th>E1</th>\n",
       "      <th>E2</th>\n",
       "      <th>protein</th>\n",
       "      <th>PEP</th>\n",
       "      <th>ID</th>\n",
       "      <th>PTM</th>\n",
       "      <th>CHARGE</th>\n",
       "    </tr>\n",
       "  </thead>\n",
       "  <tbody>\n",
       "    <tr>\n",
       "      <th>0</th>\n",
       "      <td>K.PSVLFLHPDLGVGGAER.L</td>\n",
       "      <td>RERDSVPKPSVLFLH</td>\n",
       "      <td>LGVGGAERLVLDAAL</td>\n",
       "      <td>-</td>\n",
       "      <td>-</td>\n",
       "      <td>sp|Q9H553|ALG2_HUMAN</td>\n",
       "      <td>PSVLFLHPDLGVGGAER</td>\n",
       "      <td>1</td>\n",
       "      <td>PSVLFLHPDLGVGGAER</td>\n",
       "      <td>2.0</td>\n",
       "    </tr>\n",
       "    <tr>\n",
       "      <th>1</th>\n",
       "      <td>R.LVLDAALALQAR.G</td>\n",
       "      <td>LGVGGAERLVLDAAL</td>\n",
       "      <td>AALALQARGCSVKIW</td>\n",
       "      <td>-</td>\n",
       "      <td>-</td>\n",
       "      <td>sp|Q9H553|ALG2_HUMAN</td>\n",
       "      <td>LVLDAALALQAR</td>\n",
       "      <td>1</td>\n",
       "      <td>LVLDAALALQAR</td>\n",
       "      <td>2.0</td>\n",
       "    </tr>\n",
       "  </tbody>\n",
       "</table>\n",
       "</div>"
      ],
      "text/plain": [
       "                 peptide               En               Ec E1 E2  \\\n",
       "0  K.PSVLFLHPDLGVGGAER.L  RERDSVPKPSVLFLH  LGVGGAERLVLDAAL  -  -   \n",
       "1       R.LVLDAALALQAR.G  LGVGGAERLVLDAAL  AALALQARGCSVKIW  -  -   \n",
       "\n",
       "                protein                PEP  ID                PTM  CHARGE  \n",
       "0  sp|Q9H553|ALG2_HUMAN  PSVLFLHPDLGVGGAER   1  PSVLFLHPDLGVGGAER     2.0  \n",
       "1  sp|Q9H553|ALG2_HUMAN       LVLDAALALQAR   1       LVLDAALALQAR     2.0  "
      ]
     },
     "execution_count": 21,
     "metadata": {},
     "output_type": "execute_result"
    }
   ],
   "source": [
    "df_fully_ptms.head(2)"
   ]
  },
  {
   "cell_type": "code",
   "execution_count": 22,
   "metadata": {
    "ExecuteTime": {
     "end_time": "2021-11-15T08:05:05.791793Z",
     "start_time": "2021-11-15T08:05:05.295484Z"
    }
   },
   "outputs": [
    {
     "data": {
      "text/html": [
       "<div>\n",
       "<style scoped>\n",
       "    .dataframe tbody tr th:only-of-type {\n",
       "        vertical-align: middle;\n",
       "    }\n",
       "\n",
       "    .dataframe tbody tr th {\n",
       "        vertical-align: top;\n",
       "    }\n",
       "\n",
       "    .dataframe thead th {\n",
       "        text-align: right;\n",
       "    }\n",
       "</style>\n",
       "<table border=\"1\" class=\"dataframe\">\n",
       "  <thead>\n",
       "    <tr style=\"text-align: right;\">\n",
       "      <th></th>\n",
       "      <th>peptide</th>\n",
       "      <th>En</th>\n",
       "      <th>Ec</th>\n",
       "      <th>E1</th>\n",
       "      <th>E2</th>\n",
       "      <th>protein</th>\n",
       "      <th>PEP</th>\n",
       "      <th>ID</th>\n",
       "      <th>PTM</th>\n",
       "      <th>CHARGE</th>\n",
       "    </tr>\n",
       "  </thead>\n",
       "  <tbody>\n",
       "    <tr>\n",
       "      <th>8682</th>\n",
       "      <td>R.LLLAALVQDYVQMK.A</td>\n",
       "      <td>TLSEDEARLLLAALV</td>\n",
       "      <td>VQDYVQMKASELEQE</td>\n",
       "      <td>-</td>\n",
       "      <td>-</td>\n",
       "      <td>sp|P06881|CALCA_HUMAN</td>\n",
       "      <td>LLLAALVQDYVQMK</td>\n",
       "      <td>1</td>\n",
       "      <td>NaN</td>\n",
       "      <td>NaN</td>\n",
       "    </tr>\n",
       "    <tr>\n",
       "      <th>168078</th>\n",
       "      <td>R.LLLAALVQDYVQMK.A</td>\n",
       "      <td>TLSEDEARLLLAALV</td>\n",
       "      <td>VQDYVQMKASELEQE</td>\n",
       "      <td>-</td>\n",
       "      <td>-</td>\n",
       "      <td>sp|P01258|CALC_HUMAN</td>\n",
       "      <td>LLLAALVQDYVQMK</td>\n",
       "      <td>1</td>\n",
       "      <td>NaN</td>\n",
       "      <td>NaN</td>\n",
       "    </tr>\n",
       "  </tbody>\n",
       "</table>\n",
       "</div>"
      ],
      "text/plain": [
       "                   peptide               En               Ec E1 E2  \\\n",
       "8682    R.LLLAALVQDYVQMK.A  TLSEDEARLLLAALV  VQDYVQMKASELEQE  -  -   \n",
       "168078  R.LLLAALVQDYVQMK.A  TLSEDEARLLLAALV  VQDYVQMKASELEQE  -  -   \n",
       "\n",
       "                      protein             PEP  ID  PTM  CHARGE  \n",
       "8682    sp|P06881|CALCA_HUMAN  LLLAALVQDYVQMK   1  NaN     NaN  \n",
       "168078   sp|P01258|CALC_HUMAN  LLLAALVQDYVQMK   1  NaN     NaN  "
      ]
     },
     "execution_count": 22,
     "metadata": {},
     "output_type": "execute_result"
    }
   ],
   "source": [
    "df_fully_ptms.loc[df_fully_ptms.PTM.isnull()].head(2)"
   ]
  },
  {
   "cell_type": "code",
   "execution_count": 23,
   "metadata": {
    "ExecuteTime": {
     "end_time": "2021-11-15T08:05:05.864249Z",
     "start_time": "2021-11-15T08:05:05.793055Z"
    }
   },
   "outputs": [
    {
     "data": {
      "text/html": [
       "<div>\n",
       "<style scoped>\n",
       "    .dataframe tbody tr th:only-of-type {\n",
       "        vertical-align: middle;\n",
       "    }\n",
       "\n",
       "    .dataframe tbody tr th {\n",
       "        vertical-align: top;\n",
       "    }\n",
       "\n",
       "    .dataframe thead th {\n",
       "        text-align: right;\n",
       "    }\n",
       "</style>\n",
       "<table border=\"1\" class=\"dataframe\">\n",
       "  <thead>\n",
       "    <tr style=\"text-align: right;\">\n",
       "      <th></th>\n",
       "      <th>peptide</th>\n",
       "      <th>En</th>\n",
       "      <th>Ec</th>\n",
       "      <th>E1</th>\n",
       "      <th>E2</th>\n",
       "      <th>protein</th>\n",
       "      <th>PEP</th>\n",
       "      <th>ID</th>\n",
       "      <th>PTM</th>\n",
       "      <th>CHARGE</th>\n",
       "    </tr>\n",
       "  </thead>\n",
       "  <tbody>\n",
       "    <tr>\n",
       "      <th>8682</th>\n",
       "      <td>R.LLLAALVQDYVQMK.A</td>\n",
       "      <td>TLSEDEARLLLAALV</td>\n",
       "      <td>VQDYVQMKASELEQE</td>\n",
       "      <td>-</td>\n",
       "      <td>-</td>\n",
       "      <td>sp|P06881|CALCA_HUMAN</td>\n",
       "      <td>LLLAALVQDYVQMK</td>\n",
       "      <td>1</td>\n",
       "      <td>NaN</td>\n",
       "      <td>NaN</td>\n",
       "    </tr>\n",
       "    <tr>\n",
       "      <th>168078</th>\n",
       "      <td>R.LLLAALVQDYVQMK.A</td>\n",
       "      <td>TLSEDEARLLLAALV</td>\n",
       "      <td>VQDYVQMKASELEQE</td>\n",
       "      <td>-</td>\n",
       "      <td>-</td>\n",
       "      <td>sp|P01258|CALC_HUMAN</td>\n",
       "      <td>LLLAALVQDYVQMK</td>\n",
       "      <td>1</td>\n",
       "      <td>NaN</td>\n",
       "      <td>NaN</td>\n",
       "    </tr>\n",
       "    <tr>\n",
       "      <th>183061</th>\n",
       "      <td>R.LLLAALVQDYVQMK.A</td>\n",
       "      <td>TLSKEDARLLLAALV</td>\n",
       "      <td>VQDYVQMKASELKQE</td>\n",
       "      <td>-</td>\n",
       "      <td>-</td>\n",
       "      <td>sp|P10092|CALCB_HUMAN</td>\n",
       "      <td>LLLAALVQDYVQMK</td>\n",
       "      <td>1</td>\n",
       "      <td>LLLAALVQDYVQM(Ox)K</td>\n",
       "      <td>2.0</td>\n",
       "    </tr>\n",
       "  </tbody>\n",
       "</table>\n",
       "</div>"
      ],
      "text/plain": [
       "                   peptide               En               Ec E1 E2  \\\n",
       "8682    R.LLLAALVQDYVQMK.A  TLSEDEARLLLAALV  VQDYVQMKASELEQE  -  -   \n",
       "168078  R.LLLAALVQDYVQMK.A  TLSEDEARLLLAALV  VQDYVQMKASELEQE  -  -   \n",
       "183061  R.LLLAALVQDYVQMK.A  TLSKEDARLLLAALV  VQDYVQMKASELKQE  -  -   \n",
       "\n",
       "                      protein             PEP  ID                 PTM  CHARGE  \n",
       "8682    sp|P06881|CALCA_HUMAN  LLLAALVQDYVQMK   1                 NaN     NaN  \n",
       "168078   sp|P01258|CALC_HUMAN  LLLAALVQDYVQMK   1                 NaN     NaN  \n",
       "183061  sp|P10092|CALCB_HUMAN  LLLAALVQDYVQMK   1  LLLAALVQDYVQM(Ox)K     2.0  "
      ]
     },
     "execution_count": 23,
     "metadata": {},
     "output_type": "execute_result"
    }
   ],
   "source": [
    "df_fully_ptms.loc[df_fully_ptms.PEP=='LLLAALVQDYVQMK']"
   ]
  },
  {
   "cell_type": "code",
   "execution_count": 24,
   "metadata": {
    "ExecuteTime": {
     "end_time": "2021-11-15T08:05:06.502731Z",
     "start_time": "2021-11-15T08:05:05.867063Z"
    }
   },
   "outputs": [
    {
     "data": {
      "text/plain": [
       "peptide     0\n",
       "En          0\n",
       "Ec          0\n",
       "E1          0\n",
       "E2          0\n",
       "protein     0\n",
       "PEP         0\n",
       "ID          0\n",
       "PTM        36\n",
       "CHARGE     36\n",
       "dtype: int64"
      ]
     },
     "execution_count": 24,
     "metadata": {},
     "output_type": "execute_result"
    }
   ],
   "source": [
    "df_fully_ptms.isnull().sum()"
   ]
  },
  {
   "cell_type": "code",
   "execution_count": 25,
   "metadata": {
    "ExecuteTime": {
     "end_time": "2021-11-15T08:05:07.658023Z",
     "start_time": "2021-11-15T08:05:06.504421Z"
    }
   },
   "outputs": [],
   "source": [
    "df_fully_ptms = df_fully_ptms.dropna().reset_index(drop=True)"
   ]
  },
  {
   "cell_type": "code",
   "execution_count": 26,
   "metadata": {
    "ExecuteTime": {
     "end_time": "2021-11-15T08:05:09.359135Z",
     "start_time": "2021-11-15T08:05:07.659453Z"
    }
   },
   "outputs": [],
   "source": [
    "cab_idx = [idx for idx, seq in zip(df_fully_ptms.index, df_fully_ptms.PTM.values) if '(Cab)' in seq]\n",
    "ace_idx = [idx for idx, seq in zip(df_fully_ptms.index, df_fully_ptms.PTM.values) if '(Ace)' in seq]\n",
    "aml_idx = [idx for idx, seq in zip(df_fully_ptms.index, df_fully_ptms.PTM.values) if '(Aml)' in seq]\n",
    "drop_idx = set(cab_idx).union(set(ace_idx)).union(set(aml_idx))\n",
    "df_fully_ptms=df_fully_ptms.drop(drop_idx, axis=0).reset_index(drop=True)"
   ]
  },
  {
   "cell_type": "code",
   "execution_count": 27,
   "metadata": {
    "ExecuteTime": {
     "end_time": "2021-11-15T08:05:09.363316Z",
     "start_time": "2021-11-15T08:05:09.360542Z"
    }
   },
   "outputs": [
    {
     "data": {
      "text/plain": [
       "147737"
      ]
     },
     "execution_count": 27,
     "metadata": {},
     "output_type": "execute_result"
    }
   ],
   "source": [
    "len(drop_idx)"
   ]
  },
  {
   "cell_type": "code",
   "execution_count": 28,
   "metadata": {
    "ExecuteTime": {
     "end_time": "2021-11-15T08:05:09.383396Z",
     "start_time": "2021-11-15T08:05:09.364544Z"
    }
   },
   "outputs": [
    {
     "name": "stdout",
     "output_type": "stream",
     "text": [
      "(1097073, 10)\n"
     ]
    },
    {
     "data": {
      "text/html": [
       "<div>\n",
       "<style scoped>\n",
       "    .dataframe tbody tr th:only-of-type {\n",
       "        vertical-align: middle;\n",
       "    }\n",
       "\n",
       "    .dataframe tbody tr th {\n",
       "        vertical-align: top;\n",
       "    }\n",
       "\n",
       "    .dataframe thead th {\n",
       "        text-align: right;\n",
       "    }\n",
       "</style>\n",
       "<table border=\"1\" class=\"dataframe\">\n",
       "  <thead>\n",
       "    <tr style=\"text-align: right;\">\n",
       "      <th></th>\n",
       "      <th>peptide</th>\n",
       "      <th>En</th>\n",
       "      <th>Ec</th>\n",
       "      <th>E1</th>\n",
       "      <th>E2</th>\n",
       "      <th>protein</th>\n",
       "      <th>PEP</th>\n",
       "      <th>ID</th>\n",
       "      <th>PTM</th>\n",
       "      <th>CHARGE</th>\n",
       "    </tr>\n",
       "  </thead>\n",
       "  <tbody>\n",
       "    <tr>\n",
       "      <th>0</th>\n",
       "      <td>K.PSVLFLHPDLGVGGAER.L</td>\n",
       "      <td>RERDSVPKPSVLFLH</td>\n",
       "      <td>LGVGGAERLVLDAAL</td>\n",
       "      <td>-</td>\n",
       "      <td>-</td>\n",
       "      <td>sp|Q9H553|ALG2_HUMAN</td>\n",
       "      <td>PSVLFLHPDLGVGGAER</td>\n",
       "      <td>1</td>\n",
       "      <td>PSVLFLHPDLGVGGAER</td>\n",
       "      <td>2.0</td>\n",
       "    </tr>\n",
       "    <tr>\n",
       "      <th>1</th>\n",
       "      <td>R.LVLDAALALQAR.G</td>\n",
       "      <td>LGVGGAERLVLDAAL</td>\n",
       "      <td>AALALQARGCSVKIW</td>\n",
       "      <td>-</td>\n",
       "      <td>-</td>\n",
       "      <td>sp|Q9H553|ALG2_HUMAN</td>\n",
       "      <td>LVLDAALALQAR</td>\n",
       "      <td>1</td>\n",
       "      <td>LVLDAALALQAR</td>\n",
       "      <td>2.0</td>\n",
       "    </tr>\n",
       "  </tbody>\n",
       "</table>\n",
       "</div>"
      ],
      "text/plain": [
       "                 peptide               En               Ec E1 E2  \\\n",
       "0  K.PSVLFLHPDLGVGGAER.L  RERDSVPKPSVLFLH  LGVGGAERLVLDAAL  -  -   \n",
       "1       R.LVLDAALALQAR.G  LGVGGAERLVLDAAL  AALALQARGCSVKIW  -  -   \n",
       "\n",
       "                protein                PEP  ID                PTM  CHARGE  \n",
       "0  sp|Q9H553|ALG2_HUMAN  PSVLFLHPDLGVGGAER   1  PSVLFLHPDLGVGGAER     2.0  \n",
       "1  sp|Q9H553|ALG2_HUMAN       LVLDAALALQAR   1       LVLDAALALQAR     2.0  "
      ]
     },
     "execution_count": 28,
     "metadata": {},
     "output_type": "execute_result"
    }
   ],
   "source": [
    "print(df_fully_ptms.shape)\n",
    "df_fully_ptms.head(2)"
   ]
  },
  {
   "cell_type": "code",
   "execution_count": 29,
   "metadata": {
    "ExecuteTime": {
     "end_time": "2021-11-15T08:05:10.216594Z",
     "start_time": "2021-11-15T08:05:09.384567Z"
    }
   },
   "outputs": [],
   "source": [
    "detect_peps = df_fully_ptms.PTM.apply(lambda x: x.replace('(Cabm)', '').replace('(Dam)', '').replace('(Ox)', '')).values\n",
    "detect_charge = df_fully_ptms.CHARGE.values"
   ]
  },
  {
   "cell_type": "code",
   "execution_count": 30,
   "metadata": {
    "ExecuteTime": {
     "end_time": "2021-11-15T08:05:10.730528Z",
     "start_time": "2021-11-15T08:05:10.217970Z"
    }
   },
   "outputs": [],
   "source": [
    "detect_pc = {(p, c) for p, c in zip(detect_peps, detect_charge)}"
   ]
  },
  {
   "cell_type": "code",
   "execution_count": 31,
   "metadata": {
    "ExecuteTime": {
     "end_time": "2021-11-15T08:05:10.734381Z",
     "start_time": "2021-11-15T08:05:10.731941Z"
    }
   },
   "outputs": [
    {
     "name": "stdout",
     "output_type": "stream",
     "text": [
      "764321\n"
     ]
    }
   ],
   "source": [
    "print(len(detect_pc))"
   ]
  },
  {
   "cell_type": "code",
   "execution_count": 32,
   "metadata": {
    "ExecuteTime": {
     "end_time": "2021-11-15T08:05:10.751645Z",
     "start_time": "2021-11-15T08:05:10.735563Z"
    }
   },
   "outputs": [
    {
     "data": {
      "text/html": [
       "<div>\n",
       "<style scoped>\n",
       "    .dataframe tbody tr th:only-of-type {\n",
       "        vertical-align: middle;\n",
       "    }\n",
       "\n",
       "    .dataframe tbody tr th {\n",
       "        vertical-align: top;\n",
       "    }\n",
       "\n",
       "    .dataframe thead th {\n",
       "        text-align: right;\n",
       "    }\n",
       "</style>\n",
       "<table border=\"1\" class=\"dataframe\">\n",
       "  <thead>\n",
       "    <tr style=\"text-align: right;\">\n",
       "      <th></th>\n",
       "      <th>Unnamed: 0</th>\n",
       "      <th>PEPMASS</th>\n",
       "      <th>CHARGE</th>\n",
       "      <th>FILENAME</th>\n",
       "      <th>SEQ</th>\n",
       "      <th>PROTEIN</th>\n",
       "      <th>STRIP_PEPTIDE</th>\n",
       "      <th>SCORE</th>\n",
       "      <th>MZ</th>\n",
       "      <th>INTENSITY</th>\n",
       "      <th>SPECTRAL_CNT</th>\n",
       "      <th>PROTEIN_except_decoy</th>\n",
       "      <th>PROTEIN_except_else</th>\n",
       "      <th>PTM_SEQ</th>\n",
       "    </tr>\n",
       "  </thead>\n",
       "  <tbody>\n",
       "    <tr>\n",
       "      <th>0</th>\n",
       "      <td>0</td>\n",
       "      <td>623.327626</td>\n",
       "      <td>3</td>\n",
       "      <td>filtered_library_mgf_files/9187af535f6e41ce958...</td>\n",
       "      <td>+42.011AAEAAGGKYRSTVSKSKD</td>\n",
       "      <td>sp|Q96A65|EXOC4_HUMAN</td>\n",
       "      <td>AAEAAGGKYRSTVSKSKD</td>\n",
       "      <td>4.605175</td>\n",
       "      <td>129.10317993164062;130.08726501464844;136.0766...</td>\n",
       "      <td>63295.375;7010.876953125;14278.6826171875;5026...</td>\n",
       "      <td>1</td>\n",
       "      <td>sp|Q96A65|EXOC4_HUMAN</td>\n",
       "      <td>sp|Q96A65|EXOC4_HUMAN</td>\n",
       "      <td>(Ace)AAEAAGGKYRSTVSKSKD</td>\n",
       "    </tr>\n",
       "  </tbody>\n",
       "</table>\n",
       "</div>"
      ],
      "text/plain": [
       "   Unnamed: 0     PEPMASS  CHARGE  \\\n",
       "0           0  623.327626       3   \n",
       "\n",
       "                                            FILENAME  \\\n",
       "0  filtered_library_mgf_files/9187af535f6e41ce958...   \n",
       "\n",
       "                         SEQ                PROTEIN       STRIP_PEPTIDE  \\\n",
       "0  +42.011AAEAAGGKYRSTVSKSKD  sp|Q96A65|EXOC4_HUMAN  AAEAAGGKYRSTVSKSKD   \n",
       "\n",
       "      SCORE                                                 MZ  \\\n",
       "0  4.605175  129.10317993164062;130.08726501464844;136.0766...   \n",
       "\n",
       "                                           INTENSITY  SPECTRAL_CNT  \\\n",
       "0  63295.375;7010.876953125;14278.6826171875;5026...             1   \n",
       "\n",
       "    PROTEIN_except_decoy    PROTEIN_except_else                  PTM_SEQ  \n",
       "0  sp|Q96A65|EXOC4_HUMAN  sp|Q96A65|EXOC4_HUMAN  (Ace)AAEAAGGKYRSTVSKSKD  "
      ]
     },
     "execution_count": 32,
     "metadata": {},
     "output_type": "execute_result"
    }
   ],
   "source": [
    "df_kb.head(1)"
   ]
  },
  {
   "cell_type": "code",
   "execution_count": 33,
   "metadata": {
    "ExecuteTime": {
     "end_time": "2021-11-15T08:05:13.387492Z",
     "start_time": "2021-11-15T08:05:10.752776Z"
    }
   },
   "outputs": [
    {
     "data": {
      "text/plain": [
       "(1457872, 1991465)"
      ]
     },
     "execution_count": 33,
     "metadata": {},
     "output_type": "execute_result"
    }
   ],
   "source": [
    "len({(p, c) for p, c in df_kb[['STRIP_PEPTIDE', 'CHARGE']].values}), len(df_kb)"
   ]
  },
  {
   "cell_type": "code",
   "execution_count": 34,
   "metadata": {
    "ExecuteTime": {
     "end_time": "2021-11-15T08:05:36.827722Z",
     "start_time": "2021-11-15T08:05:13.388772Z"
    }
   },
   "outputs": [],
   "source": [
    "df_key_realspec = pd.DataFrame([[p, c, '-'] for p, c in detect_pc], columns=['STRIP_PEPTIDE', 'CHARGE', 'DROP'])\n",
    "df_kbreal = df_kb.merge(df_key_realspec, on=['STRIP_PEPTIDE', 'CHARGE'], how='inner')"
   ]
  },
  {
   "cell_type": "code",
   "execution_count": 35,
   "metadata": {
    "ExecuteTime": {
     "end_time": "2021-11-15T08:05:39.099456Z",
     "start_time": "2021-11-15T08:05:36.829183Z"
    }
   },
   "outputs": [],
   "source": [
    "cab_idx = [idx for idx, seq in zip(df_kbreal.index, df_kbreal.PTM_SEQ.values) if '(Cab)' in seq]\n",
    "ace_idx = [idx for idx, seq in zip(df_kbreal.index, df_kbreal.PTM_SEQ.values) if '(Ace)' in seq]\n",
    "aml_idx = [idx for idx, seq in zip(df_kbreal.index, df_kbreal.PTM_SEQ.values) if '(Aml)' in seq]\n",
    "drop_idx = set(cab_idx).union(set(ace_idx)).union(set(aml_idx))\n",
    "df_kbreal=df_kbreal.drop(drop_idx, axis=0).reset_index(drop=True)"
   ]
  },
  {
   "cell_type": "code",
   "execution_count": 36,
   "metadata": {
    "ExecuteTime": {
     "end_time": "2021-11-15T08:05:39.103809Z",
     "start_time": "2021-11-15T08:05:39.100896Z"
    }
   },
   "outputs": [
    {
     "data": {
      "text/plain": [
       "(1035396, 15)"
      ]
     },
     "execution_count": 36,
     "metadata": {},
     "output_type": "execute_result"
    }
   ],
   "source": [
    "df_kbreal.shape"
   ]
  },
  {
   "cell_type": "code",
   "execution_count": 37,
   "metadata": {
    "ExecuteTime": {
     "end_time": "2021-11-15T08:05:40.437924Z",
     "start_time": "2021-11-15T08:05:39.104971Z"
    }
   },
   "outputs": [
    {
     "data": {
      "text/plain": [
       "764321"
      ]
     },
     "execution_count": 37,
     "metadata": {},
     "output_type": "execute_result"
    }
   ],
   "source": [
    "len({(p, c) for p, c in df_kbreal[['STRIP_PEPTIDE', 'CHARGE']].values})"
   ]
  },
  {
   "cell_type": "code",
   "execution_count": 38,
   "metadata": {
    "ExecuteTime": {
     "end_time": "2021-11-15T08:05:41.876975Z",
     "start_time": "2021-11-15T08:05:40.439196Z"
    }
   },
   "outputs": [
    {
     "data": {
      "text/plain": [
       "1035396"
      ]
     },
     "execution_count": 38,
     "metadata": {},
     "output_type": "execute_result"
    }
   ],
   "source": [
    "len({(p, c) for p, c in df_kbreal[['PTM_SEQ', 'CHARGE']].values})"
   ]
  },
  {
   "cell_type": "markdown",
   "metadata": {},
   "source": [
    "# guan Charge prediction\n",
    "# prosit MS2 prediction"
   ]
  },
  {
   "cell_type": "code",
   "execution_count": 39,
   "metadata": {
    "ExecuteTime": {
     "end_time": "2021-11-15T08:05:43.120677Z",
     "start_time": "2021-11-15T08:05:41.878246Z"
    }
   },
   "outputs": [],
   "source": [
    "import tensorflow as tf"
   ]
  },
  {
   "cell_type": "code",
   "execution_count": 40,
   "metadata": {
    "ExecuteTime": {
     "end_time": "2021-11-15T08:05:43.295988Z",
     "start_time": "2021-11-15T08:05:43.122021Z"
    }
   },
   "outputs": [],
   "source": [
    "import pickle\n",
    "import numpy as np\n",
    "from tensorflow.keras import models\n",
    "from tensorflow.keras import layers\n",
    "\n",
    "import matplotlib.pyplot as plt\n",
    "from scipy.stats import pearsonr\n",
    "\n",
    "import pandas as pd"
   ]
  },
  {
   "cell_type": "code",
   "execution_count": 41,
   "metadata": {
    "ExecuteTime": {
     "end_time": "2021-11-15T08:05:44.480678Z",
     "start_time": "2021-11-15T08:05:43.297331Z"
    }
   },
   "outputs": [],
   "source": [
    "def reshapeOneHot(X):\n",
    "    X = np.dstack(X)\n",
    "    X = np.swapaxes(X, 1, 2)\n",
    "    X = np.swapaxes(X, 0, 1)\n",
    "    return X\n",
    "\n",
    "def one_hot_encode_peptide(peptide, MAX_LENGTH = 41):\n",
    "    if len(peptide) > MAX_LENGTH:\n",
    "        print('Peptide length is larger than maximal length of ', str(MAX_LENGTH))\n",
    "        return None\n",
    "    else:\n",
    "        AA_vocabulary = 'KRPTNAQVSGILCMJHFYWEDBXO'#B: acetyl; O: Carbamyl; J: oxidized Met; X:pyro_glu\n",
    "        no_not_used_aas = 1#U: not used\n",
    "\n",
    "        one_hot_peptide = np.zeros((len(peptide), len(AA_vocabulary) - no_not_used_aas))\n",
    "\n",
    "        for j in range(0, len(peptide)):\n",
    "            try:\n",
    "                aa = peptide[j]\n",
    "                one_hot_peptide[j, AA_vocabulary.index(aa)] = 1\n",
    "            except:\n",
    "                pass\n",
    "        \n",
    "        no_front_paddings = int((MAX_LENGTH - len(peptide))/2)\n",
    "        peptide_front_paddings = np.zeros((no_front_paddings, one_hot_peptide.shape[1]))\n",
    "\n",
    "        no_back_paddings = MAX_LENGTH - len(peptide) - no_front_paddings\n",
    "        peptide_back_paddings = np.zeros((no_back_paddings, one_hot_peptide.shape[1]))\n",
    "\n",
    "        full_one_hot_peptide = np.vstack((peptide_front_paddings, one_hot_peptide, peptide_back_paddings))\n",
    "\n",
    "        return peptide, full_one_hot_peptide\n",
    "    \n",
    "AA_vocabulary = 'KRPTNAQVSGILCMJHFYWEDBXOU'#B: acetyl; J: oxidized Met; X:pyro_glu\n",
    "single2psi_lookup = {'B': '(Acetyl)-',\n",
    "                     'J': 'M(Oxidation)',\n",
    "                     'X': '(Gln->pyro-Glu)Q',\n",
    "                     'C': 'C(Carbamidomethyl)'}\n",
    "\n",
    "def one_hot_to_single_ptm(one_hot):\n",
    "    seq = ''\n",
    "    for row in one_hot:\n",
    "        if row.sum() > 0:\n",
    "            idx = row.argmax()\n",
    "            seq += AA_vocabulary[idx]\n",
    "    return seq\n",
    "\n",
    "\n",
    "\n",
    "def single_ptm_to_psi(single_ptm_seq):\n",
    "    psi_seq = single_ptm_seq\n",
    "    for code in single2psi_lookup:\n",
    "        psi_seq = psi_seq.replace(code, single2psi_lookup[code])\n",
    "    return psi_seq\n",
    "\n",
    "fn1 = '../refModel/2019MCP_Guan/LCMSMS_Pred_Supplemental_Material_section_S6/ChargeState/zfit_bidirLSTM2_masking_result.pickle'\n",
    "with open(fn1, 'rb') as fid:\n",
    "    pred_data = pickle.load(fid)\n",
    "\n",
    "fn2 = '../refModel/2019MCP_Guan/LCMSMS_Pred_Supplemental_Material_section_S6/ChargeState/zfit_one_hot.pickle'\n",
    "with open(fn2, 'rb') as fid:\n",
    "    real_data = pickle.load(fid)\n",
    "\n",
    "def plot_zfit(train_X, train_y, predicted_train_y, n):\n",
    "\n",
    "    X = train_X[n]\n",
    "    s_seq = one_hot_to_single_ptm(X)\n",
    "    print(s_seq)\n",
    "    psi_seq = single_ptm_to_psi(s_seq)\n",
    "    print(psi_seq)\n",
    "   \n",
    "    y_exp = train_y[n]\n",
    "    y_pred = predicted_train_y[n]\n",
    "    pcc = pearsonr(y_exp, y_pred)\n",
    "\n",
    "    fig, ax = plt.subplots()\n",
    "    charges = range(1, len(y_exp) + 1)\n",
    "    ax.stem(charges, y_exp, 'b', markerfmt=\" \", label='Experimental')\n",
    "    ax.stem(charges, -y_pred, 'g', markerfmt=\" \", label='Predicted')\n",
    "    plt.text(1.5, -0.35, 'pcc: %6.3f, %6.3g'%(pcc[0], pcc[1]))\n",
    "    plt.xticks(charges)\n",
    "    plt.xlabel('charge')\n",
    "    plt.title(psi_seq)\n",
    "    plt.show()"
   ]
  },
  {
   "cell_type": "code",
   "execution_count": 42,
   "metadata": {
    "ExecuteTime": {
     "end_time": "2021-11-15T08:05:49.067354Z",
     "start_time": "2021-11-15T08:05:44.482084Z"
    }
   },
   "outputs": [
    {
     "name": "stdout",
     "output_type": "stream",
     "text": [
      "Model: \"sequential_1\"\n",
      "_________________________________________________________________\n",
      "Layer (type)                 Output Shape              Param #   \n",
      "=================================================================\n",
      "masking_1 (Masking)          (None, None, 23)          0         \n",
      "_________________________________________________________________\n",
      "bidirectional_1 (Bidirection (None, None, 512)         573440    \n",
      "_________________________________________________________________\n",
      "bidirectional_2 (Bidirection (None, 512)               1574912   \n",
      "_________________________________________________________________\n",
      "dense_1 (Dense)              (None, 256)               131328    \n",
      "_________________________________________________________________\n",
      "dense_2 (Dense)              (None, 5)                 1285      \n",
      "=================================================================\n",
      "Total params: 2,280,965\n",
      "Trainable params: 2,280,965\n",
      "Non-trainable params: 0\n",
      "_________________________________________________________________\n",
      "None\n"
     ]
    }
   ],
   "source": [
    "network_ori = tf.keras.models.load_model('../refModel/2019MCP_Guan/LCMSMS_Pred_Supplemental_Material_section_S6/ChargeState/zfit_bidirLSTM2_masking_model.h5')\n",
    "\n",
    "print(network_ori.summary())"
   ]
  },
  {
   "cell_type": "code",
   "execution_count": 43,
   "metadata": {
    "ExecuteTime": {
     "end_time": "2021-11-15T08:05:50.177077Z",
     "start_time": "2021-11-15T08:05:49.068775Z"
    }
   },
   "outputs": [
    {
     "name": "stdout",
     "output_type": "stream",
     "text": [
      "1422466\n"
     ]
    }
   ],
   "source": [
    "undetect_peps = df_fully.loc[df_fully.ID==0].PEP.unique()\n",
    "print(len(undetect_peps))  # 교집합 없음"
   ]
  },
  {
   "cell_type": "markdown",
   "metadata": {},
   "source": [
    "* undetected peptides"
   ]
  },
  {
   "cell_type": "code",
   "execution_count": 44,
   "metadata": {
    "ExecuteTime": {
     "end_time": "2021-11-15T08:06:24.062804Z",
     "start_time": "2021-11-15T08:05:50.178479Z"
    }
   },
   "outputs": [],
   "source": [
    "# additional prediction charge 6 peptide \n",
    "all_X_str = np.array(list(set(undetect_peps)))\n",
    "all_onehot = dict()\n",
    "for p in all_X_str:\n",
    "    o = one_hot_encode_peptide(p)\n",
    "    all_onehot[p] = o[1]\n",
    "all_X = np.array(list(all_onehot.values()))"
   ]
  },
  {
   "cell_type": "code",
   "execution_count": 45,
   "metadata": {
    "ExecuteTime": {
     "end_time": "2021-11-15T08:06:24.067584Z",
     "start_time": "2021-11-15T08:06:24.064777Z"
    }
   },
   "outputs": [
    {
     "name": "stdout",
     "output_type": "stream",
     "text": [
      "(1422466, 41, 23)\n"
     ]
    }
   ],
   "source": [
    "print(all_X.shape)"
   ]
  },
  {
   "cell_type": "code",
   "execution_count": 46,
   "metadata": {
    "ExecuteTime": {
     "end_time": "2021-11-15T08:06:42.591285Z",
     "start_time": "2021-11-15T08:06:24.068799Z"
    }
   },
   "outputs": [],
   "source": [
    "test=all_X[:1000]\n",
    "kb_pred = network_ori.predict(test)"
   ]
  },
  {
   "cell_type": "code",
   "execution_count": 47,
   "metadata": {
    "ExecuteTime": {
     "end_time": "2021-11-15T08:06:42.599421Z",
     "start_time": "2021-11-15T08:06:42.594444Z"
    }
   },
   "outputs": [
    {
     "name": "stdout",
     "output_type": "stream",
     "text": [
      "6.48 hour estimated\n"
     ]
    }
   ],
   "source": [
    "print(round(16.4*(1422466/1000)/3600, 2), 'hour estimated')"
   ]
  },
  {
   "cell_type": "code",
   "execution_count": 48,
   "metadata": {
    "ExecuteTime": {
     "end_time": "2021-11-15T08:06:42.620488Z",
     "start_time": "2021-11-15T08:06:42.601544Z"
    }
   },
   "outputs": [],
   "source": [
    "import math"
   ]
  },
  {
   "cell_type": "code",
   "execution_count": 49,
   "metadata": {
    "ExecuteTime": {
     "end_time": "2021-11-15T13:51:48.312760Z",
     "start_time": "2021-11-15T08:06:42.622405Z"
    }
   },
   "outputs": [],
   "source": [
    "all_pred = network_ori.predict(all_X)"
   ]
  },
  {
   "cell_type": "code",
   "execution_count": 50,
   "metadata": {
    "ExecuteTime": {
     "end_time": "2021-11-15T13:52:25.158377Z",
     "start_time": "2021-11-15T13:51:48.315446Z"
    }
   },
   "outputs": [
    {
     "name": "stdout",
     "output_type": "stream",
     "text": [
      "(1422466,) (1422466, 41, 23) (1422466, 5)\n"
     ]
    }
   ],
   "source": [
    "all_pred_log = np.array([np.array(list(map(lambda x: -math.log(x), _))) for _ in all_pred])\n",
    "print(all_X_str.shape, all_X.shape, all_pred_log.shape)\n",
    "\n",
    "peplist = []\n",
    "for p, prob in zip(all_X_str, all_pred_log):\n",
    "    idxes = np.where(prob<=6)[0]\n",
    "    charges = idxes + 1  # casting\n",
    "    for c in charges:\n",
    "        peplist.append([p, 30, c])\n",
    "df_peplist = pd.DataFrame(peplist, columns=['modified_sequence', 'collision_energy', 'precursor_charge'])"
   ]
  },
  {
   "cell_type": "code",
   "execution_count": 51,
   "metadata": {
    "ExecuteTime": {
     "end_time": "2021-11-15T13:52:25.161548Z",
     "start_time": "2021-11-15T13:52:25.159895Z"
    }
   },
   "outputs": [],
   "source": [
    "# # 7시간 예상.. 일단 charge 2로 통일\n",
    "# df_peplist = pd.DataFrame([[_, 30, 2] for _ in undetect_peps], columns=['modified_sequence', 'collision_energy', 'precursor_charge'])"
   ]
  },
  {
   "cell_type": "code",
   "execution_count": 52,
   "metadata": {
    "ExecuteTime": {
     "end_time": "2021-11-15T13:52:25.174320Z",
     "start_time": "2021-11-15T13:52:25.162779Z"
    }
   },
   "outputs": [
    {
     "name": "stdout",
     "output_type": "stream",
     "text": [
      "(4349368, 3)\n"
     ]
    }
   ],
   "source": [
    "print(df_peplist.shape)"
   ]
  },
  {
   "cell_type": "code",
   "execution_count": 53,
   "metadata": {
    "ExecuteTime": {
     "end_time": "2021-11-15T13:52:30.834903Z",
     "start_time": "2021-11-15T13:52:25.175525Z"
    }
   },
   "outputs": [],
   "source": [
    "df_peplist.to_csv('undetect_peptides_MS2prediction_211115.csv', index=False)"
   ]
  },
  {
   "cell_type": "markdown",
   "metadata": {},
   "source": [
    "* detected peptide"
   ]
  },
  {
   "cell_type": "code",
   "execution_count": 56,
   "metadata": {
    "ExecuteTime": {
     "end_time": "2021-11-15T15:06:59.412820Z",
     "start_time": "2021-11-15T15:06:59.255863Z"
    }
   },
   "outputs": [],
   "source": [
    "detect_peps = [_[0] for _ in detect_pc]"
   ]
  },
  {
   "cell_type": "code",
   "execution_count": 57,
   "metadata": {
    "ExecuteTime": {
     "end_time": "2021-11-15T15:07:43.362555Z",
     "start_time": "2021-11-15T15:07:13.264964Z"
    }
   },
   "outputs": [],
   "source": [
    "# additional prediction charge 6 peptide \n",
    "all_X_str = np.array(list(set(undetect_peps)))\n",
    "all_onehot = dict()\n",
    "for p in all_X_str:\n",
    "    o = one_hot_encode_peptide(p)\n",
    "    all_onehot[p] = o[1]\n",
    "all_X = np.array(list(all_onehot.values()))"
   ]
  },
  {
   "cell_type": "code",
   "execution_count": 58,
   "metadata": {
    "ExecuteTime": {
     "end_time": "2021-11-15T15:07:43.366621Z",
     "start_time": "2021-11-15T15:07:43.364177Z"
    }
   },
   "outputs": [
    {
     "name": "stdout",
     "output_type": "stream",
     "text": [
      "(1422466, 41, 23)\n"
     ]
    }
   ],
   "source": [
    "print(all_X.shape)"
   ]
  },
  {
   "cell_type": "code",
   "execution_count": 59,
   "metadata": {
    "ExecuteTime": {
     "end_time": "2021-11-15T15:07:57.823935Z",
     "start_time": "2021-11-15T15:07:43.368037Z"
    }
   },
   "outputs": [],
   "source": [
    "test=all_X[:1000]\n",
    "kb_pred = network_ori.predict(test)"
   ]
  },
  {
   "cell_type": "code",
   "execution_count": 60,
   "metadata": {
    "ExecuteTime": {
     "end_time": "2021-11-15T15:08:15.885631Z",
     "start_time": "2021-11-15T15:08:15.882717Z"
    }
   },
   "outputs": [
    {
     "name": "stdout",
     "output_type": "stream",
     "text": [
      "5.73 hour estimated\n"
     ]
    }
   ],
   "source": [
    "print(round(14.5*(1422466/1000)/3600, 2), 'hour estimated')"
   ]
  },
  {
   "cell_type": "code",
   "execution_count": null,
   "metadata": {
    "ExecuteTime": {
     "start_time": "2021-11-15T15:08:26.067Z"
    }
   },
   "outputs": [],
   "source": [
    "all_pred = network_ori.predict(all_X)"
   ]
  },
  {
   "cell_type": "code",
   "execution_count": null,
   "metadata": {
    "ExecuteTime": {
     "start_time": "2021-11-15T15:08:31.851Z"
    }
   },
   "outputs": [],
   "source": [
    "all_pred_log = np.array([np.array(list(map(lambda x: -math.log(x), _))) for _ in all_pred])\n",
    "print(all_X_str.shape, all_X.shape, all_pred_log.shape)\n",
    "\n",
    "peplist = []\n",
    "for p, prob in zip(all_X_str, all_pred_log):\n",
    "    idxes = np.where(prob<=6)[0]\n",
    "    charges = idxes + 1  # casting\n",
    "    for c in charges:\n",
    "        peplist.append([p, 30, c])\n",
    "df_peplist = pd.DataFrame(peplist, columns=['modified_sequence', 'collision_energy', 'precursor_charge'])"
   ]
  },
  {
   "cell_type": "code",
   "execution_count": null,
   "metadata": {
    "ExecuteTime": {
     "start_time": "2021-11-15T15:08:32.067Z"
    }
   },
   "outputs": [],
   "source": [
    "print(df_peplist.shape)"
   ]
  },
  {
   "cell_type": "code",
   "execution_count": null,
   "metadata": {
    "ExecuteTime": {
     "start_time": "2021-11-15T15:08:32.371Z"
    }
   },
   "outputs": [],
   "source": [
    "df_peplist.to_csv('detect_peptides_MS2prediction_211115.csv', index=False)"
   ]
  },
  {
   "cell_type": "markdown",
   "metadata": {},
   "source": [
    "# prosit to MGF\n",
    "# MSGF search"
   ]
  },
  {
   "cell_type": "code",
   "execution_count": 53,
   "metadata": {
    "ExecuteTime": {
     "end_time": "2021-10-29T20:18:26.867458Z",
     "start_time": "2021-10-29T20:18:10.537709Z"
    }
   },
   "outputs": [],
   "source": [
    "undetect_ms2 = pd.read_csv('undetect_peptides_MS2prediction_211025_result.msms', sep='\\t')"
   ]
  },
  {
   "cell_type": "code",
   "execution_count": 54,
   "metadata": {
    "ExecuteTime": {
     "end_time": "2021-10-29T20:18:37.410971Z",
     "start_time": "2021-10-29T20:18:37.401755Z"
    }
   },
   "outputs": [
    {
     "name": "stdout",
     "output_type": "stream",
     "text": [
      "(1422466, 5)\n"
     ]
    },
    {
     "data": {
      "text/html": [
       "<div>\n",
       "<style scoped>\n",
       "    .dataframe tbody tr th:only-of-type {\n",
       "        vertical-align: middle;\n",
       "    }\n",
       "\n",
       "    .dataframe tbody tr th {\n",
       "        vertical-align: top;\n",
       "    }\n",
       "\n",
       "    .dataframe thead th {\n",
       "        text-align: right;\n",
       "    }\n",
       "</style>\n",
       "<table border=\"1\" class=\"dataframe\">\n",
       "  <thead>\n",
       "    <tr style=\"text-align: right;\">\n",
       "      <th></th>\n",
       "      <th>Intensities</th>\n",
       "      <th>Masses</th>\n",
       "      <th>Matches</th>\n",
       "      <th>Modified Sequence</th>\n",
       "      <th>Charge</th>\n",
       "    </tr>\n",
       "  </thead>\n",
       "  <tbody>\n",
       "    <tr>\n",
       "      <th>0</th>\n",
       "      <td>0.27977493;0.91897136;0.45183122;0.5894868;0.4...</td>\n",
       "      <td>147.112804167;294.18121816699994;393.249632166...</td>\n",
       "      <td>y1;y2;y3;y4;y5;y6;y7;y8;y9;y10;y11;y12;y13;y14...</td>\n",
       "      <td>APIDWIEEYTTGMADCILVNSQFTAAVFK</td>\n",
       "      <td>2</td>\n",
       "    </tr>\n",
       "    <tr>\n",
       "      <th>1</th>\n",
       "      <td>0.19809067;0.2571014;0.12245454;0.28557485;0.1...</td>\n",
       "      <td>175.118952167;246.156066167;345.22448016699997...</td>\n",
       "      <td>y1;y2;y3;y4;y5;y6;y7;y8;y9;y10;y11;y12;y13;y14...</td>\n",
       "      <td>LQEPEEDEDCYILNVQSSSDDTSGSSVAR</td>\n",
       "      <td>2</td>\n",
       "    </tr>\n",
       "  </tbody>\n",
       "</table>\n",
       "</div>"
      ],
      "text/plain": [
       "                                         Intensities  \\\n",
       "0  0.27977493;0.91897136;0.45183122;0.5894868;0.4...   \n",
       "1  0.19809067;0.2571014;0.12245454;0.28557485;0.1...   \n",
       "\n",
       "                                              Masses  \\\n",
       "0  147.112804167;294.18121816699994;393.249632166...   \n",
       "1  175.118952167;246.156066167;345.22448016699997...   \n",
       "\n",
       "                                             Matches  \\\n",
       "0  y1;y2;y3;y4;y5;y6;y7;y8;y9;y10;y11;y12;y13;y14...   \n",
       "1  y1;y2;y3;y4;y5;y6;y7;y8;y9;y10;y11;y12;y13;y14...   \n",
       "\n",
       "               Modified Sequence  Charge  \n",
       "0  APIDWIEEYTTGMADCILVNSQFTAAVFK       2  \n",
       "1  LQEPEEDEDCYILNVQSSSDDTSGSSVAR       2  "
      ]
     },
     "execution_count": 54,
     "metadata": {},
     "output_type": "execute_result"
    }
   ],
   "source": [
    "print(undetect_ms2.shape)\n",
    "undetect_ms2.head(2)"
   ]
  },
  {
   "cell_type": "code",
   "execution_count": 55,
   "metadata": {
    "ExecuteTime": {
     "end_time": "2021-10-29T20:18:39.894093Z",
     "start_time": "2021-10-29T20:18:39.721403Z"
    }
   },
   "outputs": [
    {
     "data": {
      "text/plain": [
       "[]"
      ]
     },
     "execution_count": 55,
     "metadata": {},
     "output_type": "execute_result"
    }
   ],
   "source": [
    "[_ for _ in undetect_ms2['Modified Sequence'] if 'X' in _]"
   ]
  },
  {
   "cell_type": "code",
   "execution_count": 56,
   "metadata": {
    "ExecuteTime": {
     "end_time": "2021-10-29T20:19:22.193791Z",
     "start_time": "2021-10-29T20:19:22.185223Z"
    }
   },
   "outputs": [],
   "source": [
    "# Amino acids\n",
    "MODIFICATION = {\n",
    "    \"CAM\": 57.0214637236,  # Carbamidomethylation (CAM)\n",
    "    \"OX\": 15.99491,  # Oxidation\n",
    "}\n",
    "AMINO_ACID = {\n",
    "    \"G\": 57.021464,\n",
    "    \"R\": 156.101111,\n",
    "    \"V\": 99.068414,\n",
    "    \"P\": 97.052764,\n",
    "    \"S\": 87.032028,\n",
    "    \"U\": 150.95363,\n",
    "    \"L\": 113.084064,\n",
    "    \"M\": 131.040485,\n",
    "    \"Q\": 128.058578,\n",
    "    \"N\": 114.042927,\n",
    "    \"Y\": 163.063329,\n",
    "    \"E\": 129.042593,\n",
    "    \"C\": 103.009185,\n",
    "    \"F\": 147.068414,\n",
    "    \"I\": 113.084064,\n",
    "    \"A\": 71.037114,\n",
    "    \"T\": 101.047679,\n",
    "    \"W\": 186.079313,\n",
    "    \"H\": 137.058912,\n",
    "    \"D\": 115.026943,\n",
    "    \"K\": 128.094963,\n",
    "}\n",
    "AMINO_ACID[\"M(ox)\"] = AMINO_ACID[\"M\"] + MODIFICATION[\"OX\"]\n",
    "AMINO_ACID[\"C(cam)\"] = AMINO_ACID[\"C\"] + MODIFICATION[\"CAM\"]\n",
    "\n",
    "# Atomic elements\n",
    "PROTON = 1.007276467\n",
    "ELECTRON = 0.00054858\n",
    "H = 1.007825035\n",
    "C = 12.0\n",
    "O = 15.99491463\n",
    "N = 14.003074\n",
    "\n",
    "# Tiny molecules\n",
    "N_TERMINUS = H\n",
    "C_TERMINUS = O + H\n",
    "CO = C + O\n",
    "CHO = C + H + O\n",
    "NH2 = N + H * 2\n",
    "H2O = H * 2 + O\n",
    "NH3 = N + H * 3\n",
    "\n",
    "def cal_MW(seq):\n",
    "    R = sum([AMINO_ACID[aa] for aa in list(map(lambda x: x.replace('C', 'C(cam)'), seq))])\n",
    "    return R + N_TERMINUS + C_TERMINUS\n",
    "\n",
    "def cal_mz(seq, CHARGE):\n",
    "    # we treat STRIP_PEPTIDE, so modification does not consider.\n",
    "    MW = cal_MW(seq)\n",
    "    return (MW + PROTON*CHARGE) / CHARGE"
   ]
  },
  {
   "cell_type": "code",
   "execution_count": 57,
   "metadata": {
    "ExecuteTime": {
     "end_time": "2021-10-29T20:19:40.053117Z",
     "start_time": "2021-10-29T20:19:40.050961Z"
    }
   },
   "outputs": [],
   "source": [
    "import time"
   ]
  },
  {
   "cell_type": "code",
   "execution_count": 58,
   "metadata": {
    "ExecuteTime": {
     "end_time": "2021-10-29T20:20:11.270086Z",
     "start_time": "2021-10-29T20:19:44.664591Z"
    }
   },
   "outputs": [
    {
     "name": "stdout",
     "output_type": "stream",
     "text": [
      "1400000 25.95\r"
     ]
    }
   ],
   "source": [
    "# peptide to spectrum dictionary (prediction)\n",
    "start = time.time()\n",
    "\n",
    "npep2spec_pred = dict()\n",
    "for idx, (i, mz, p, c) in enumerate(undetect_ms2[['Intensities', 'Masses', 'Modified Sequence', 'Charge']].values):\n",
    "    if idx % 100000 == 0:\n",
    "        print(idx, round(time.time() - start, 2), end='\\r')\n",
    "\n",
    "    if (p, c) not in npep2spec_pred:\n",
    "        npep2spec_pred[(p, c)] = dict()\n",
    "    for i_, mz_ in zip(i.split(';'), mz.split(';')):\n",
    "        npep2spec_pred[(p, c)][mz_]=i_"
   ]
  },
  {
   "cell_type": "code",
   "execution_count": null,
   "metadata": {},
   "outputs": [],
   "source": [
    "cols = ['Intensities', 'Masses', 'Modified Sequence', 'Charge']\n",
    "pep2cmzint = {p:[c, m, i] for i, m, p, c in df_ms2[cols].values}\n",
    "\n",
    "get_idx = lambda x: int(round(float(x), 2)*100)\n",
    "\n",
    "def get_spectrum(pep2cmzint):\n",
    "    pep2tensor = dict()\n",
    "    for pep, (c, m, i) in pep2cmzint.items():\n",
    "        tensor = np.zeros((5, 100000))\n",
    "        i = np.array(list(map(float, i.split(';'))))\n",
    "        m2idx = np.array(list(map(get_idx, m.split(';'))))\n",
    "        idx2inten = {k:v for k, v in zip(m2idx, i) if k <= 100000-1}  # Dalton 제한\n",
    "        \n",
    "        row_idx = c-1\n",
    "        col_idx = np.array(list(idx2inten.keys()))\n",
    "        val = np.array(list(idx2inten.values()))\n",
    "        tensor[row_idx, col_idx] = val\n",
    "        \n",
    "        pep2tensor[pep]=tensor\n",
    "    return pep2tensor\n",
    "\n",
    "pep2tensor = get_spectrum(pep2cmzint)"
   ]
  },
  {
   "cell_type": "code",
   "execution_count": 59,
   "metadata": {
    "ExecuteTime": {
     "end_time": "2021-10-29T20:23:37.340210Z",
     "start_time": "2021-10-29T20:22:31.509307Z"
    }
   },
   "outputs": [
    {
     "name": "stdout",
     "output_type": "stream",
     "text": [
      "1400000 59.79\r"
     ]
    }
   ],
   "source": [
    "# nID mgf\n",
    "start = time.time()\n",
    "\n",
    "idf01 = open('/data/210827_SJH_prosit/211025STRIP_PEP/uniprot_predMS2_frac01.mgf', mode='w')\n",
    "idf02 = open('/data/210827_SJH_prosit/211025STRIP_PEP/uniprot_predMS2_frac02.mgf', mode='w')\n",
    "idf03 = open('/data/210827_SJH_prosit/211025STRIP_PEP/uniprot_predMS2_frac03.mgf', mode='w')\n",
    "idf04 = open('/data/210827_SJH_prosit/211025STRIP_PEP/uniprot_predMS2_frac04.mgf', mode='w')\n",
    "idf05 = open('/data/210827_SJH_prosit/211025STRIP_PEP/uniprot_predMS2_frac05.mgf', mode='w')\n",
    "idf06 = open('/data/210827_SJH_prosit/211025STRIP_PEP/uniprot_predMS2_frac06.mgf', mode='w')\n",
    "idf07 = open('/data/210827_SJH_prosit/211025STRIP_PEP/uniprot_predMS2_frac07.mgf', mode='w')\n",
    "idf08 = open('/data/210827_SJH_prosit/211025STRIP_PEP/uniprot_predMS2_frac08.mgf', mode='w')\n",
    "idf09 = open('/data/210827_SJH_prosit/211025STRIP_PEP/uniprot_predMS2_frac09.mgf', mode='w')\n",
    "idf10 = open('/data/210827_SJH_prosit/211025STRIP_PEP/uniprot_predMS2_frac10.mgf', mode='w')\n",
    "idf11 = open('/data/210827_SJH_prosit/211025STRIP_PEP/uniprot_predMS2_frac11.mgf', mode='w')\n",
    "idf12 = open('/data/210827_SJH_prosit/211025STRIP_PEP/uniprot_predMS2_frac12.mgf', mode='w')\n",
    "idf2frac = dict()\n",
    "idf2frac[1]=idf01\n",
    "idf2frac[2]=idf02\n",
    "idf2frac[3]=idf03\n",
    "idf2frac[4]=idf04\n",
    "idf2frac[5]=idf05\n",
    "idf2frac[6]=idf06\n",
    "idf2frac[7]=idf07\n",
    "idf2frac[8]=idf08\n",
    "idf2frac[9]=idf09\n",
    "idf2frac[10]=idf10\n",
    "idf2frac[11]=idf11\n",
    "idf2frac[12]=idf12\n",
    "bins = [int(len(npep2spec_pred)/12 * i) for i in range(12)]\n",
    "idx2fracidx = np.digitize(range(len(npep2spec_pred)), bins=bins)\n",
    "\n",
    "for idx, ((p, c), mz2int) in enumerate(npep2spec_pred.items()):\n",
    "    if idx % 100000 == 0:\n",
    "        print(idx, round(time.time() - start, 2), end='\\r')\n",
    "        \n",
    "    idf = idf2frac[idx2fracidx[idx]]\n",
    "    idf.write('BEGIN IONS\\n')\n",
    "    idf.write('TITLE='+str(idx+1)+' File:\\\"uniprot_predMS2_frac{}.mgf\", NativeID:\\\"controllerType=0 controllerNumber=1 scan='.format(str(idx+1).zfill(2))+str(idx+1)+'\\\"\\n')\n",
    "#     idf.write('RTINSECONDS=10\\n')\n",
    "    idf.write('PEPMASS='+str(cal_mz(p, c))+'\\n')  # ' precursor_intensity'\n",
    "    idf.write('CHARGE='+str(c)+'+\\n')\n",
    "    for mz, i in sorted(mz2int.items(), key=lambda x: x[0]):\n",
    "        idf.write(str(mz)+' '+str(i)+'\\n')\n",
    "    idf.write('END IONS\\n')\n",
    "idf01.close()\n",
    "idf02.close()\n",
    "idf03.close()\n",
    "idf04.close()\n",
    "idf05.close()\n",
    "idf06.close()\n",
    "idf07.close()\n",
    "idf08.close()\n",
    "idf09.close()\n",
    "idf10.close()\n",
    "idf11.close()\n",
    "idf12.close()"
   ]
  },
  {
   "cell_type": "code",
   "execution_count": 60,
   "metadata": {
    "ExecuteTime": {
     "end_time": "2021-10-29T20:23:47.163881Z",
     "start_time": "2021-10-29T20:23:37.342284Z"
    },
    "scrolled": true
   },
   "outputs": [
    {
     "name": "stdout",
     "output_type": "stream",
     "text": [
      "(764321, 5)\n"
     ]
    },
    {
     "data": {
      "text/html": [
       "<div>\n",
       "<style scoped>\n",
       "    .dataframe tbody tr th:only-of-type {\n",
       "        vertical-align: middle;\n",
       "    }\n",
       "\n",
       "    .dataframe tbody tr th {\n",
       "        vertical-align: top;\n",
       "    }\n",
       "\n",
       "    .dataframe thead th {\n",
       "        text-align: right;\n",
       "    }\n",
       "</style>\n",
       "<table border=\"1\" class=\"dataframe\">\n",
       "  <thead>\n",
       "    <tr style=\"text-align: right;\">\n",
       "      <th></th>\n",
       "      <th>Intensities</th>\n",
       "      <th>Masses</th>\n",
       "      <th>Matches</th>\n",
       "      <th>Modified Sequence</th>\n",
       "      <th>Charge</th>\n",
       "    </tr>\n",
       "  </thead>\n",
       "  <tbody>\n",
       "    <tr>\n",
       "      <th>0</th>\n",
       "      <td>0.23332144;0.12056828;1.0;0.51005423;0.1888672...</td>\n",
       "      <td>175.118952167;288.203016167;375.235044167;474....</td>\n",
       "      <td>y1;y2;y3;y4;y5;y6;y7;y8;b1;b2;b3;b4;b5;b6;b7;y...</td>\n",
       "      <td>KKYEEEVSLR</td>\n",
       "      <td>3</td>\n",
       "    </tr>\n",
       "    <tr>\n",
       "      <th>1</th>\n",
       "      <td>0.1725661;0.33016136;0.10774748;0.2737293;0.60...</td>\n",
       "      <td>175.118952167;304.161545167;433.204138167;562....</td>\n",
       "      <td>y1;y2;y3;y4;y5;y6;y7;y8;b2;b3;b4;b5;b6;b7;b8;b...</td>\n",
       "      <td>AGVLAHLEEER</td>\n",
       "      <td>2</td>\n",
       "    </tr>\n",
       "  </tbody>\n",
       "</table>\n",
       "</div>"
      ],
      "text/plain": [
       "                                         Intensities  \\\n",
       "0  0.23332144;0.12056828;1.0;0.51005423;0.1888672...   \n",
       "1  0.1725661;0.33016136;0.10774748;0.2737293;0.60...   \n",
       "\n",
       "                                              Masses  \\\n",
       "0  175.118952167;288.203016167;375.235044167;474....   \n",
       "1  175.118952167;304.161545167;433.204138167;562....   \n",
       "\n",
       "                                             Matches Modified Sequence  Charge  \n",
       "0  y1;y2;y3;y4;y5;y6;y7;y8;b1;b2;b3;b4;b5;b6;b7;y...        KKYEEEVSLR       3  \n",
       "1  y1;y2;y3;y4;y5;y6;y7;y8;b2;b3;b4;b5;b6;b7;b8;b...       AGVLAHLEEER       2  "
      ]
     },
     "execution_count": 60,
     "metadata": {},
     "output_type": "execute_result"
    }
   ],
   "source": [
    "detect_ms2 = pd.read_csv('detect_peptides_MS2prediction_211025_result.msms', sep='\\t')\n",
    "print(detect_ms2.shape)\n",
    "detect_ms2.head(2)"
   ]
  },
  {
   "cell_type": "code",
   "execution_count": 61,
   "metadata": {
    "ExecuteTime": {
     "end_time": "2021-10-29T20:23:47.243776Z",
     "start_time": "2021-10-29T20:23:47.165782Z"
    }
   },
   "outputs": [
    {
     "data": {
      "text/plain": [
       "[]"
      ]
     },
     "execution_count": 61,
     "metadata": {},
     "output_type": "execute_result"
    }
   ],
   "source": [
    "[_ for _ in detect_ms2['Modified Sequence'] if 'X' in _]"
   ]
  },
  {
   "cell_type": "code",
   "execution_count": 62,
   "metadata": {
    "ExecuteTime": {
     "end_time": "2021-10-29T20:23:47.329341Z",
     "start_time": "2021-10-29T20:23:47.245278Z"
    }
   },
   "outputs": [
    {
     "data": {
      "text/plain": [
       "[]"
      ]
     },
     "execution_count": 62,
     "metadata": {},
     "output_type": "execute_result"
    }
   ],
   "source": [
    "[_ for _ in detect_ms2['Modified Sequence'] if 'M(ox)' in _]"
   ]
  },
  {
   "cell_type": "markdown",
   "metadata": {},
   "source": [
    "# massIVE-KB spectra"
   ]
  },
  {
   "cell_type": "code",
   "execution_count": 98,
   "metadata": {
    "ExecuteTime": {
     "end_time": "2021-11-07T20:41:27.891885Z",
     "start_time": "2021-11-07T20:41:27.884900Z"
    }
   },
   "outputs": [
    {
     "data": {
      "text/html": [
       "<div>\n",
       "<style scoped>\n",
       "    .dataframe tbody tr th:only-of-type {\n",
       "        vertical-align: middle;\n",
       "    }\n",
       "\n",
       "    .dataframe tbody tr th {\n",
       "        vertical-align: top;\n",
       "    }\n",
       "\n",
       "    .dataframe thead th {\n",
       "        text-align: right;\n",
       "    }\n",
       "</style>\n",
       "<table border=\"1\" class=\"dataframe\">\n",
       "  <thead>\n",
       "    <tr style=\"text-align: right;\">\n",
       "      <th></th>\n",
       "      <th>Intensities</th>\n",
       "      <th>Masses</th>\n",
       "      <th>Matches</th>\n",
       "      <th>Modified Sequence</th>\n",
       "      <th>Charge</th>\n",
       "    </tr>\n",
       "  </thead>\n",
       "  <tbody>\n",
       "    <tr>\n",
       "      <th>0</th>\n",
       "      <td>0.23332144;0.12056828;1.0;0.51005423;0.1888672...</td>\n",
       "      <td>175.118952167;288.203016167;375.235044167;474....</td>\n",
       "      <td>y1;y2;y3;y4;y5;y6;y7;y8;b1;b2;b3;b4;b5;b6;b7;y...</td>\n",
       "      <td>KKYEEEVSLR</td>\n",
       "      <td>3</td>\n",
       "    </tr>\n",
       "  </tbody>\n",
       "</table>\n",
       "</div>"
      ],
      "text/plain": [
       "                                         Intensities  \\\n",
       "0  0.23332144;0.12056828;1.0;0.51005423;0.1888672...   \n",
       "\n",
       "                                              Masses  \\\n",
       "0  175.118952167;288.203016167;375.235044167;474....   \n",
       "\n",
       "                                             Matches Modified Sequence  Charge  \n",
       "0  y1;y2;y3;y4;y5;y6;y7;y8;b1;b2;b3;b4;b5;b6;b7;y...        KKYEEEVSLR       3  "
      ]
     },
     "execution_count": 98,
     "metadata": {},
     "output_type": "execute_result"
    }
   ],
   "source": [
    "detect_ms2.head(1)"
   ]
  },
  {
   "cell_type": "code",
   "execution_count": 101,
   "metadata": {
    "ExecuteTime": {
     "end_time": "2021-11-07T20:44:14.335186Z",
     "start_time": "2021-11-07T20:44:14.321772Z"
    }
   },
   "outputs": [
    {
     "data": {
      "text/html": [
       "<div>\n",
       "<style scoped>\n",
       "    .dataframe tbody tr th:only-of-type {\n",
       "        vertical-align: middle;\n",
       "    }\n",
       "\n",
       "    .dataframe tbody tr th {\n",
       "        vertical-align: top;\n",
       "    }\n",
       "\n",
       "    .dataframe thead th {\n",
       "        text-align: right;\n",
       "    }\n",
       "</style>\n",
       "<table border=\"1\" class=\"dataframe\">\n",
       "  <thead>\n",
       "    <tr style=\"text-align: right;\">\n",
       "      <th></th>\n",
       "      <th>Unnamed: 0</th>\n",
       "      <th>PEPMASS</th>\n",
       "      <th>CHARGE</th>\n",
       "      <th>FILENAME</th>\n",
       "      <th>SEQ</th>\n",
       "      <th>PROTEIN</th>\n",
       "      <th>STRIP_PEPTIDE</th>\n",
       "      <th>SCORE</th>\n",
       "      <th>MZ</th>\n",
       "      <th>INTENSITY</th>\n",
       "      <th>SPECTRAL_CNT</th>\n",
       "      <th>PROTEIN_except_decoy</th>\n",
       "      <th>PROTEIN_except_else</th>\n",
       "      <th>PTM_SEQ</th>\n",
       "      <th>DROP</th>\n",
       "    </tr>\n",
       "  </thead>\n",
       "  <tbody>\n",
       "    <tr>\n",
       "      <th>0</th>\n",
       "      <td>732863</td>\n",
       "      <td>406.208155</td>\n",
       "      <td>3</td>\n",
       "      <td>filtered_library_mgf_files/0c118258c5c04954969...</td>\n",
       "      <td>AAEEPSKVEEK</td>\n",
       "      <td>sp|P29966|MARCS_HUMAN</td>\n",
       "      <td>AAEEPSKVEEK</td>\n",
       "      <td>5.561619</td>\n",
       "      <td>102.05590057373047;110.07201385498047;115.0874...</td>\n",
       "      <td>146919.9375;38942.06640625;651668.3125;25144.4...</td>\n",
       "      <td>85</td>\n",
       "      <td>sp|P29966|MARCS_HUMAN</td>\n",
       "      <td>sp|P29966|MARCS_HUMAN</td>\n",
       "      <td>AAEEPSKVEEK</td>\n",
       "      <td>-</td>\n",
       "    </tr>\n",
       "    <tr>\n",
       "      <th>1</th>\n",
       "      <td>121794</td>\n",
       "      <td>653.582825</td>\n",
       "      <td>4</td>\n",
       "      <td>filtered_library_mgf_files/97f2d7cfb5a94249ad0...</td>\n",
       "      <td>AC+57.021QDVSVIIHTAC+57.021IIDVFGVTHR</td>\n",
       "      <td>sp|P14060|3BHS1_HUMAN</td>\n",
       "      <td>ACQDVSVIIHTACIIDVFGVTHR</td>\n",
       "      <td>9.530160</td>\n",
       "      <td>101.071044921875;115.08629608154297;120.080528...</td>\n",
       "      <td>3950.259521484375;7356.15966796875;18369.31445...</td>\n",
       "      <td>10</td>\n",
       "      <td>sp|P14060|3BHS1_HUMAN</td>\n",
       "      <td>sp|P14060|3BHS1_HUMAN</td>\n",
       "      <td>AC(Cabm)QDVSVIIHTAC(Cabm)IIDVFGVTHR</td>\n",
       "      <td>-</td>\n",
       "    </tr>\n",
       "  </tbody>\n",
       "</table>\n",
       "</div>"
      ],
      "text/plain": [
       "   Unnamed: 0     PEPMASS  CHARGE  \\\n",
       "0      732863  406.208155       3   \n",
       "1      121794  653.582825       4   \n",
       "\n",
       "                                            FILENAME  \\\n",
       "0  filtered_library_mgf_files/0c118258c5c04954969...   \n",
       "1  filtered_library_mgf_files/97f2d7cfb5a94249ad0...   \n",
       "\n",
       "                                     SEQ                PROTEIN  \\\n",
       "0                            AAEEPSKVEEK  sp|P29966|MARCS_HUMAN   \n",
       "1  AC+57.021QDVSVIIHTAC+57.021IIDVFGVTHR  sp|P14060|3BHS1_HUMAN   \n",
       "\n",
       "             STRIP_PEPTIDE     SCORE  \\\n",
       "0              AAEEPSKVEEK  5.561619   \n",
       "1  ACQDVSVIIHTACIIDVFGVTHR  9.530160   \n",
       "\n",
       "                                                  MZ  \\\n",
       "0  102.05590057373047;110.07201385498047;115.0874...   \n",
       "1  101.071044921875;115.08629608154297;120.080528...   \n",
       "\n",
       "                                           INTENSITY  SPECTRAL_CNT  \\\n",
       "0  146919.9375;38942.06640625;651668.3125;25144.4...            85   \n",
       "1  3950.259521484375;7356.15966796875;18369.31445...            10   \n",
       "\n",
       "    PROTEIN_except_decoy    PROTEIN_except_else  \\\n",
       "0  sp|P29966|MARCS_HUMAN  sp|P29966|MARCS_HUMAN   \n",
       "1  sp|P14060|3BHS1_HUMAN  sp|P14060|3BHS1_HUMAN   \n",
       "\n",
       "                               PTM_SEQ DROP  \n",
       "0                          AAEEPSKVEEK    -  \n",
       "1  AC(Cabm)QDVSVIIHTAC(Cabm)IIDVFGVTHR    -  "
      ]
     },
     "execution_count": 101,
     "metadata": {},
     "output_type": "execute_result"
    }
   ],
   "source": [
    "df_kbreal.head(2)"
   ]
  },
  {
   "cell_type": "code",
   "execution_count": 138,
   "metadata": {
    "ExecuteTime": {
     "end_time": "2021-11-08T04:37:13.940847Z",
     "start_time": "2021-11-08T04:37:13.936840Z"
    }
   },
   "outputs": [
    {
     "data": {
      "text/plain": [
       "(1035396, 15)"
      ]
     },
     "execution_count": 138,
     "metadata": {},
     "output_type": "execute_result"
    }
   ],
   "source": [
    "df_kbreal.shape"
   ]
  },
  {
   "cell_type": "code",
   "execution_count": 114,
   "metadata": {
    "ExecuteTime": {
     "end_time": "2021-11-07T20:57:34.763301Z",
     "start_time": "2021-11-07T20:57:33.168747Z"
    }
   },
   "outputs": [
    {
     "data": {
      "text/plain": [
       "748884"
      ]
     },
     "execution_count": 114,
     "metadata": {},
     "output_type": "execute_result"
    }
   ],
   "source": [
    "len({(pp, c) for pp, p, c in df_kbreal[['STRIP_PEPTIDE', 'PTM_SEQ', 'CHARGE']].values if '(Ox)' not in p and '(Dam)' not in p})"
   ]
  },
  {
   "cell_type": "code",
   "execution_count": 132,
   "metadata": {
    "ExecuteTime": {
     "end_time": "2021-11-07T21:04:34.170513Z",
     "start_time": "2021-11-07T21:04:33.252257Z"
    }
   },
   "outputs": [],
   "source": [
    "detect_ms2real = df_kbreal.loc[df_kbreal.PTM_SEQ.apply(lambda x: '(Ox)' not in x) & df_kbreal.PTM_SEQ.apply(lambda x: '(Dam)' not in x)]\n",
    "detect_ms2real = detect_ms2real[['INTENSITY', 'MZ', 'STRIP_PEPTIDE', 'CHARGE']].rename({'INTENSITY':'Intensities',\n",
    "                                                                                       'MZ':'Masses',\n",
    "                                                                                       'STRIP_PEPTIDE':'Modified Sequence',\n",
    "                                                                                       'CHARGE':'Charge'}, axis=1)"
   ]
  },
  {
   "cell_type": "code",
   "execution_count": 134,
   "metadata": {
    "ExecuteTime": {
     "end_time": "2021-11-07T21:05:59.076733Z",
     "start_time": "2021-11-07T21:05:20.748206Z"
    }
   },
   "outputs": [
    {
     "name": "stdout",
     "output_type": "stream",
     "text": [
      "700000 35.21\r"
     ]
    }
   ],
   "source": [
    "# peptide to spectrum dictionary\n",
    "start = time.time()\n",
    "\n",
    "pep2spec = dict()\n",
    "for idx, (i, mz, p, c) in enumerate(detect_ms2real[['Intensities', 'Masses', 'Modified Sequence', 'Charge']].values):\n",
    "    if idx % 100000 == 0:\n",
    "        print(idx, round(time.time() - start, 2), end='\\r')\n",
    "\n",
    "    if (p, c) not in pep2spec:\n",
    "        pep2spec[(p, c)] = dict()\n",
    "    for i_, mz_ in zip(i.split(';'), mz.split(';')):\n",
    "        pep2spec[(p, c)][mz_]=i_"
   ]
  },
  {
   "cell_type": "code",
   "execution_count": 63,
   "metadata": {
    "ExecuteTime": {
     "end_time": "2021-10-29T20:24:20.420180Z",
     "start_time": "2021-10-29T20:24:05.424665Z"
    }
   },
   "outputs": [
    {
     "name": "stdout",
     "output_type": "stream",
     "text": [
      "700000 13.64\r"
     ]
    }
   ],
   "source": [
    "# peptide to spectrum dictionary (prediction)\n",
    "start = time.time()\n",
    "\n",
    "pep2spec_pred = dict()\n",
    "for idx, (i, mz, p, c) in enumerate(detect_ms2[['Intensities', 'Masses', 'Modified Sequence', 'Charge']].values):\n",
    "    if idx % 100000 == 0:\n",
    "        print(idx, round(time.time() - start, 2), end='\\r')\n",
    "\n",
    "    if (p, c) not in pep2spec_pred:\n",
    "        pep2spec_pred[(p, c)] = dict()\n",
    "    for i_, mz_ in zip(i.split(';'), mz.split(';')):\n",
    "        pep2spec_pred[(p, c)][mz_]=i_"
   ]
  },
  {
   "cell_type": "code",
   "execution_count": 64,
   "metadata": {
    "ExecuteTime": {
     "end_time": "2021-10-29T20:24:58.932171Z",
     "start_time": "2021-10-29T20:24:20.421903Z"
    }
   },
   "outputs": [
    {
     "name": "stdout",
     "output_type": "stream",
     "text": [
      "700000 31.83\r"
     ]
    }
   ],
   "source": [
    "# ID mgf\n",
    "start = time.time()\n",
    "\n",
    "idf01 = open('/data/210827_SJH_prosit/211025STRIP_PEP/massIVE-KB_predMS2_frac01.mgf', mode='w')\n",
    "idf02 = open('/data/210827_SJH_prosit/211025STRIP_PEP/massIVE-KB_predMS2_frac02.mgf', mode='w')\n",
    "idf03 = open('/data/210827_SJH_prosit/211025STRIP_PEP/massIVE-KB_predMS2_frac03.mgf', mode='w')\n",
    "idf04 = open('/data/210827_SJH_prosit/211025STRIP_PEP/massIVE-KB_predMS2_frac04.mgf', mode='w')\n",
    "idf05 = open('/data/210827_SJH_prosit/211025STRIP_PEP/massIVE-KB_predMS2_frac05.mgf', mode='w')\n",
    "idf06 = open('/data/210827_SJH_prosit/211025STRIP_PEP/massIVE-KB_predMS2_frac06.mgf', mode='w')\n",
    "idf07 = open('/data/210827_SJH_prosit/211025STRIP_PEP/massIVE-KB_predMS2_frac07.mgf', mode='w')\n",
    "idf08 = open('/data/210827_SJH_prosit/211025STRIP_PEP/massIVE-KB_predMS2_frac08.mgf', mode='w')\n",
    "idf09 = open('/data/210827_SJH_prosit/211025STRIP_PEP/massIVE-KB_predMS2_frac09.mgf', mode='w')\n",
    "idf10 = open('/data/210827_SJH_prosit/211025STRIP_PEP/massIVE-KB_predMS2_frac10.mgf', mode='w')\n",
    "idf11 = open('/data/210827_SJH_prosit/211025STRIP_PEP/massIVE-KB_predMS2_frac11.mgf', mode='w')\n",
    "idf12 = open('/data/210827_SJH_prosit/211025STRIP_PEP/massIVE-KB_predMS2_frac12.mgf', mode='w')\n",
    "idf2frac = dict()\n",
    "idf2frac[1]=idf01\n",
    "idf2frac[2]=idf02\n",
    "idf2frac[3]=idf03\n",
    "idf2frac[4]=idf04\n",
    "idf2frac[5]=idf05\n",
    "idf2frac[6]=idf06\n",
    "idf2frac[7]=idf07\n",
    "idf2frac[8]=idf08\n",
    "idf2frac[9]=idf09\n",
    "idf2frac[10]=idf10\n",
    "idf2frac[11]=idf11\n",
    "idf2frac[12]=idf12\n",
    "bins = [int(len(pep2spec_pred)/12 * i) for i in range(12)]\n",
    "idx2fracidx = np.digitize(range(len(pep2spec_pred)), bins=bins)\n",
    "\n",
    "for idx, ((p, c), mz2int) in enumerate(pep2spec_pred.items()):\n",
    "    if idx % 100000 == 0:\n",
    "        print(idx, round(time.time() - start, 2), end='\\r')\n",
    "    idf = idf2frac[idx2fracidx[idx]]\n",
    "    idf.write('BEGIN IONS\\n')\n",
    "    idf.write('TITLE='+str(idx+1)+' File:\\\"massIVE-KB_predMS2_frac{}.mgf\", NativeID:\\\"controllerType=0 controllerNumber=1 scan='.format(str(idx+1).zfill(2))+str(idx+1)+'\\\"\\n')\n",
    "    idf.write('PEPMASS='+str(cal_mz(p, c))+'\\n')  # ' precursor_intensity'\n",
    "    idf.write('CHARGE='+str(c)+'+\\n')\n",
    "    for mz, i in sorted(mz2int.items(), key=lambda x: x[0]):\n",
    "        idf.write(str(mz)+' '+str(i)+'\\n')\n",
    "    idf.write('END IONS\\n')\n",
    "\n",
    "idf01.close()\n",
    "idf02.close()\n",
    "idf03.close()\n",
    "idf04.close()\n",
    "idf05.close()\n",
    "idf06.close()\n",
    "idf07.close()\n",
    "idf08.close()\n",
    "idf09.close()\n",
    "idf10.close()\n",
    "idf11.close()\n",
    "idf12.close()"
   ]
  },
  {
   "cell_type": "code",
   "execution_count": 65,
   "metadata": {
    "ExecuteTime": {
     "end_time": "2021-11-01T06:52:47.355173Z",
     "start_time": "2021-11-01T06:51:40.211798Z"
    }
   },
   "outputs": [],
   "source": [
    "import pickle\n",
    "with open('../data/massIVE-KB/211025_stirp_pep2spec_pred.pickle', 'wb') as f:\n",
    "    pickle.dump(pep2spec_pred, f, pickle.HIGHEST_PROTOCOL)\n",
    "    \n",
    "with open('../data/uniprot/211025_strip_npep2spec_pred.pickle', 'wb') as f:\n",
    "    pickle.dump(npep2spec_pred, f, pickle.HIGHEST_PROTOCOL)"
   ]
  },
  {
   "cell_type": "code",
   "execution_count": 135,
   "metadata": {
    "ExecuteTime": {
     "end_time": "2021-11-07T21:08:02.539620Z",
     "start_time": "2021-11-07T21:07:05.500326Z"
    }
   },
   "outputs": [],
   "source": [
    "with open('../data/massIVE-KB/211108_stirp_pep2spec.pickle', 'wb') as f:\n",
    "    pickle.dump(pep2spec, f, pickle.HIGHEST_PROTOCOL)"
   ]
  },
  {
   "cell_type": "code",
   "execution_count": 137,
   "metadata": {
    "ExecuteTime": {
     "end_time": "2021-11-07T21:29:18.497211Z",
     "start_time": "2021-11-07T21:27:57.519032Z"
    }
   },
   "outputs": [
    {
     "name": "stdout",
     "output_type": "stream",
     "text": [
      "700000 70.43\r"
     ]
    }
   ],
   "source": [
    "# ID mgf\n",
    "start = time.time()\n",
    "\n",
    "idf01 = open('/data/210827_SJH_prosit/211025STRIP_PEP/massIVE-KB_frac01.mgf', mode='w')\n",
    "idf02 = open('/data/210827_SJH_prosit/211025STRIP_PEP/massIVE-KB_frac02.mgf', mode='w')\n",
    "idf03 = open('/data/210827_SJH_prosit/211025STRIP_PEP/massIVE-KB_frac03.mgf', mode='w')\n",
    "idf04 = open('/data/210827_SJH_prosit/211025STRIP_PEP/massIVE-KB_frac04.mgf', mode='w')\n",
    "idf05 = open('/data/210827_SJH_prosit/211025STRIP_PEP/massIVE-KB_frac05.mgf', mode='w')\n",
    "idf06 = open('/data/210827_SJH_prosit/211025STRIP_PEP/massIVE-KB_frac06.mgf', mode='w')\n",
    "idf07 = open('/data/210827_SJH_prosit/211025STRIP_PEP/massIVE-KB_frac07.mgf', mode='w')\n",
    "idf08 = open('/data/210827_SJH_prosit/211025STRIP_PEP/massIVE-KB_frac08.mgf', mode='w')\n",
    "idf09 = open('/data/210827_SJH_prosit/211025STRIP_PEP/massIVE-KB_frac09.mgf', mode='w')\n",
    "idf10 = open('/data/210827_SJH_prosit/211025STRIP_PEP/massIVE-KB_frac10.mgf', mode='w')\n",
    "idf11 = open('/data/210827_SJH_prosit/211025STRIP_PEP/massIVE-KB_frac11.mgf', mode='w')\n",
    "idf12 = open('/data/210827_SJH_prosit/211025STRIP_PEP/massIVE-KB_frac12.mgf', mode='w')\n",
    "idf13 = open('/data/210827_SJH_prosit/211025STRIP_PEP/massIVE-KB_frac13.mgf', mode='w')\n",
    "idf14 = open('/data/210827_SJH_prosit/211025STRIP_PEP/massIVE-KB_frac14.mgf', mode='w')\n",
    "idf2frac = dict()\n",
    "idf2frac[1]=idf01\n",
    "idf2frac[2]=idf02\n",
    "idf2frac[3]=idf03\n",
    "idf2frac[4]=idf04\n",
    "idf2frac[5]=idf05\n",
    "idf2frac[6]=idf06\n",
    "idf2frac[7]=idf07\n",
    "idf2frac[8]=idf08\n",
    "idf2frac[9]=idf09\n",
    "idf2frac[10]=idf10\n",
    "idf2frac[11]=idf11\n",
    "idf2frac[12]=idf12\n",
    "idf2frac[13]=idf13\n",
    "idf2frac[14]=idf14\n",
    "bins = [int(len(pep2spec)/14 * i) for i in range(14)]\n",
    "idx2fracidx = np.digitize(range(len(pep2spec)), bins=bins)\n",
    "\n",
    "for idx, ((p, c), mz2int) in enumerate(pep2spec.items()):\n",
    "    if idx % 100000 == 0:\n",
    "        print(idx, round(time.time() - start, 2), end='\\r')\n",
    "    idf = idf2frac[idx2fracidx[idx]]\n",
    "    idf.write('BEGIN IONS\\n')\n",
    "    idf.write('TITLE='+str(idx+1)+' File:\\\"massIVE-KB_frac{}.mgf\", NativeID:\\\"controllerType=0 controllerNumber=1 scan='.format(str(idx+1).zfill(2))+str(idx+1)+'\\\"\\n')\n",
    "    idf.write('PEPMASS='+str(cal_mz(p, c))+'\\n')  # ' precursor_intensity'\n",
    "    idf.write('CHARGE='+str(c)+'+\\n')\n",
    "    for mz, i in sorted(mz2int.items(), key=lambda x: x[0]):\n",
    "        idf.write(str(mz)+' '+str(i)+'\\n')\n",
    "    idf.write('END IONS\\n')\n",
    "\n",
    "idf01.close()\n",
    "idf02.close()\n",
    "idf03.close()\n",
    "idf04.close()\n",
    "idf05.close()\n",
    "idf06.close()\n",
    "idf07.close()\n",
    "idf08.close()\n",
    "idf09.close()\n",
    "idf10.close()\n",
    "idf11.close()\n",
    "idf12.close()\n",
    "idf13.close()\n",
    "idf14.close()"
   ]
  },
  {
   "cell_type": "code",
   "execution_count": null,
   "metadata": {},
   "outputs": [],
   "source": []
  },
  {
   "cell_type": "code",
   "execution_count": null,
   "metadata": {},
   "outputs": [],
   "source": [
    "sshpass -p \"isa4986\" scp /data/210827_SJH_prosit/211025STRIP_PEP/uniprot_predMS2_frac01.mgf isa@166.104.110.50:/home/isa/Search/210831_SJH_prosit/210915/\n",
    "sshpass -p \"isa4986\" scp /data/210827_SJH_prosit/211025STRIP_PEP/uniprot_predMS2_frac02.mgf isa@166.104.110.51:/home/isa/Search/210831_SJH_prosit/210915/\n",
    "sshpass -p \"isa4986\" scp /data/210827_SJH_prosit/211025STRIP_PEP/uniprot_predMS2_frac03.mgf isa@166.104.110.52:/home/isa/Search/210831_SJH_prosit/210915/\n",
    "sshpass -p \"isa4986\" scp /data/210827_SJH_prosit/211025STRIP_PEP/uniprot_predMS2_frac04.mgf isa@166.104.110.53:/home/isa/Search/210831_SJH_prosit/210915/\n",
    "sshpass -p \"isa4986\" scp /data/210827_SJH_prosit/211025STRIP_PEP/uniprot_predMS2_frac05.mgf isa@166.104.110.56:/home/isa/Search/210831_SJH_prosit/210915/\n",
    "sshpass -p \"isa4986\" scp /data/210827_SJH_prosit/211025STRIP_PEP/uniprot_predMS2_frac06.mgf isa@166.104.110.56:/home/isa/Search/210831_SJH_prosit/210915/\n",
    "sshpass -p \"isa4986\" scp /data/210827_SJH_prosit/211025STRIP_PEP/uniprot_predMS2_frac07.mgf isa@166.104.110.56:/home/isa/Search/210831_SJH_prosit/210915/\n",
    "sshpass -p \"isa4986\" scp /data/210827_SJH_prosit/211025STRIP_PEP/uniprot_predMS2_frac08.mgf isa@166.104.110.56:/home/isa/Search/210831_SJH_prosit/210915/\n",
    "sshpass -p \"isa4986\" scp /data/210827_SJH_prosit/211025STRIP_PEP/uniprot_predMS2_frac09.mgf isa@166.104.110.56:/home/isa/Search/210831_SJH_prosit/210915/\n",
    "sshpass -p \"isa4986\" scp /data/210827_SJH_prosit/211025STRIP_PEP/uniprot_predMS2_frac10.mgf isa@166.104.110.56:/home/isa/Search/210831_SJH_prosit/210915/\n",
    "sshpass -p \"isa4986\" scp /data/210827_SJH_prosit/211025STRIP_PEP/uniprot_predMS2_frac11.mgf isa@166.104.110.56:/home/isa/Search/210831_SJH_prosit/210915/\n",
    "\n",
    "    \n",
    "    # sshpass -p \"isa4986\" scp /data/210827_SJH_prosit/211025STRIP_PEP/uniprot_predMS2_frac12.mgf isa@166.104.112.62:/home/isa/Search/210831_SJH_prosit/210915/\n",
    "    "
   ]
  },
  {
   "cell_type": "code",
   "execution_count": null,
   "metadata": {},
   "outputs": [],
   "source": [
    "sshpass -p \"isa4986\" scp /data/210827_SJH_prosit/211025STRIP_PEP/massIVE-KB_frac01.mgf isa@166.104.110.45:/home/isa/Search/210831_SJH_prosit/210915/\n",
    "sshpass -p \"isa4986\" scp /data/210827_SJH_prosit/211025STRIP_PEP/massIVE-KB_frac02.mgf isa@166.104.110.46:/home/isa/Search/210831_SJH_prosit/210915/\n",
    "sshpass -p \"isa4986\" scp /data/210827_SJH_prosit/211025STRIP_PEP/massIVE-KB_frac03.mgf isa@166.104.110.39:/home/isa/Search/210831_SJH_prosit/210915/\n",
    "sshpass -p \"isa4986\" scp /data/210827_SJH_prosit/211025STRIP_PEP/massIVE-KB_frac04.mgf isa@166.104.110.48:/home/isa/Search/210831_SJH_prosit/210915/\n",
    "sshpass -p \"isa4986\" scp /data/210827_SJH_prosit/211025STRIP_PEP/massIVE-KB_frac05.mgf isa@166.104.110.49:/home/isa/Search/210831_SJH_prosit/210915/\n",
    "sshpass -p \"isa4986\" scp /data/210827_SJH_prosit/211025STRIP_PEP/massIVE-KB_frac06.mgf isa@166.104.110.50:/home/isa/Search/210831_SJH_prosit/210915/\n",
    "sshpass -p \"isa4986\" scp /data/210827_SJH_prosit/211025STRIP_PEP/massIVE-KB_frac07.mgf isa@166.104.110.51:/home/isa/Search/210831_SJH_prosit/210915/\n",
    "sshpass -p \"isa4986\" scp /data/210827_SJH_prosit/211025STRIP_PEP/massIVE-KB_frac08.mgf isa@166.104.110.52:/home/isa/Search/210831_SJH_prosit/210915/\n",
    "sshpass -p \"isa4986\" scp /data/210827_SJH_prosit/211025STRIP_PEP/massIVE-KB_frac09.mgf isa@166.104.110.53:/home/isa/Search/210831_SJH_prosit/210915/\n",
    "sshpass -p \"isa4986\" scp /data/210827_SJH_prosit/211025STRIP_PEP/massIVE-KB_frac10.mgf isa@166.104.110.55:/home/isa/Search/210831_SJH_prosit/210915/\n",
    "sshpass -p \"isa4986\" scp /data/210827_SJH_prosit/211025STRIP_PEP/massIVE-KB_frac11.mgf isa@166.104.110.56:/home/isa/Search/210831_SJH_prosit/210915/\n",
    "sshpass -p \"isa4986\" scp /data/210827_SJH_prosit/211025STRIP_PEP/massIVE-KB_frac12.mgf isa@166.104.110.56:/home/isa/Search/210831_SJH_prosit/210915/\n",
    "sshpass -p \"isa4986\" scp /data/210827_SJH_prosit/211025STRIP_PEP/massIVE-KB_frac13.mgf isa@166.104.110.56:/home/isa/Search/210831_SJH_prosit/210915/\n",
    "sshpass -p \"isa4986\" scp /data/210827_SJH_prosit/211025STRIP_PEP/massIVE-KB_frac14.mgf isa@166.104.110.56:/home/isa/Search/210831_SJH_prosit/210915/\n"
   ]
  },
  {
   "cell_type": "code",
   "execution_count": null,
   "metadata": {},
   "outputs": [],
   "source": [
    "sshpass -p \"isa4986\" scp /data/210827_SJH_prosit/211025STRIP_PEP/MSGFPlus_Params.txt isa@166.104.110.45:/home/isa/Search/210831_SJH_prosit/210915/\n",
    "sshpass -p \"isa4986\" scp /data/210827_SJH_prosit/211025STRIP_PEP/MSGFPlus_Params.txt isa@166.104.110.46:/home/isa/Search/210831_SJH_prosit/210915/\n",
    "sshpass -p \"isa4986\" scp /data/210827_SJH_prosit/211025STRIP_PEP/MSGFPlus_Params.txt isa@166.104.110.39:/home/isa/Search/210831_SJH_prosit/210915/\n",
    "sshpass -p \"isa4986\" scp /data/210827_SJH_prosit/211025STRIP_PEP/MSGFPlus_Params.txt isa@166.104.110.48:/home/isa/Search/210831_SJH_prosit/210915/\n",
    "sshpass -p \"isa4986\" scp /data/210827_SJH_prosit/211025STRIP_PEP/MSGFPlus_Params.txt isa@166.104.110.49:/home/isa/Search/210831_SJH_prosit/210915/\n",
    "sshpass -p \"isa4986\" scp /data/210827_SJH_prosit/211025STRIP_PEP/MSGFPlus_Params.txt isa@166.104.110.50:/home/isa/Search/210831_SJH_prosit/210915/\n",
    "sshpass -p \"isa4986\" scp /data/210827_SJH_prosit/211025STRIP_PEP/MSGFPlus_Params.txt isa@166.104.110.51:/home/isa/Search/210831_SJH_prosit/210915/\n",
    "sshpass -p \"isa4986\" scp /data/210827_SJH_prosit/211025STRIP_PEP/MSGFPlus_Params.txt isa@166.104.110.52:/home/isa/Search/210831_SJH_prosit/210915/\n",
    "sshpass -p \"isa4986\" scp /data/210827_SJH_prosit/211025STRIP_PEP/MSGFPlus_Params.txt isa@166.104.110.53:/home/isa/Search/210831_SJH_prosit/210915/\n",
    "sshpass -p \"isa4986\" scp /data/210827_SJH_prosit/211025STRIP_PEP/MSGFPlus_Params.txt isa@166.104.110.55:/home/isa/Search/210831_SJH_prosit/210915/\n",
    "sshpass -p \"isa4986\" scp /data/210827_SJH_prosit/211025STRIP_PEP/MSGFPlus_Params.txt isa@166.104.110.56:/home/isa/Search/210831_SJH_prosit/210915/\n",
    "sshpass -p \"isa4986\" scp /data/210827_SJH_prosit/211025STRIP_PEP/MSGFPlus_Params.txt isa@166.104.110.56:/home/isa/Search/210831_SJH_prosit/210915/\n",
    "sshpass -p \"isa4986\" scp /data/210827_SJH_prosit/211025STRIP_PEP/MSGFPlus_Params.txt isa@166.104.110.56:/home/isa/Search/210831_SJH_prosit/210915/\n",
    "sshpass -p \"isa4986\" scp /data/210827_SJH_prosit/211025STRIP_PEP/MSGFPlus_Params.txt isa@166.104.110.56:/home/isa/Search/210831_SJH_prosit/210915/\n"
   ]
  },
  {
   "cell_type": "code",
   "execution_count": null,
   "metadata": {},
   "outputs": [],
   "source": [
    "java -Xmx30000M -jar ../MSGFPlus.jar -s uniprot_frac01.mgf -d ../210831/uniprot-proteome_UP000005640.fasta -o uniprot_frac01.mzid -protocol 5 -addFeatures 1 -conf MSGFPlus_Params.txt\n",
    "java -Xmx30000M -cp ../MSGFPlus.jar edu.ucsd.msjava.ui.MzIDToTsv -i uniprot_frac01.mzid -o uniprot_frac01.tsv -showQValue 1 -showDecoy 1\n",
    "\n",
    "java -Xmx30000M -jar ../MSGFPlus.jar -s uniprot_frac02.mgf -d ../210831/uniprot-proteome_UP000005640.fasta -o uniprot_frac02.mzid -protocol 5 -addFeatures 1 -conf MSGFPlus_Params.txt\n",
    "java -Xmx30000M -cp ../MSGFPlus.jar edu.ucsd.msjava.ui.MzIDToTsv -i uniprot_frac02.mzid -o uniprot_frac02.tsv -showQValue 1 -showDecoy 1\n",
    "\n",
    "java -Xmx30000M -jar ../MSGFPlus.jar -s uniprot_frac03.mgf -d ../210831/uniprot-proteome_UP000005640.fasta -o uniprot_frac03.mzid -protocol 5 -addFeatures 1 -conf MSGFPlus_Params.txt\n",
    "java -Xmx30000M -cp ../MSGFPlus.jar edu.ucsd.msjava.ui.MzIDToTsv -i uniprot_frac03.mzid -o uniprot_frac03.tsv -showQValue 1 -showDecoy 1\n",
    "\n",
    "java -Xmx30000M -jar ../MSGFPlus.jar -s uniprot_frac04.mgf -d ../210831/uniprot-proteome_UP000005640.fasta -o uniprot_frac04.mzid -protocol 5 -addFeatures 1 -conf MSGFPlus_Params.txt\n",
    "java -Xmx30000M -cp ../MSGFPlus.jar edu.ucsd.msjava.ui.MzIDToTsv -i uniprot_frac04.mzid -o uniprot_frac04.tsv -showQValue 1 -showDecoy 1\n",
    "\n",
    "java -Xmx30000M -jar ../MSGFPlus.jar -s uniprot_frac05.mgf -d ../210831/uniprot-proteome_UP000005640.fasta -o uniprot_frac05.mzid -protocol 5 -addFeatures 1 -conf MSGFPlus_Params.txt\n",
    "java -Xmx30000M -cp ../MSGFPlus.jar edu.ucsd.msjava.ui.MzIDToTsv -i uniprot_frac05.mzid -o uniprot_frac05.tsv -showQValue 1 -showDecoy 1\n",
    "\n",
    "java -Xmx30000M -jar ../MSGFPlus.jar -s uniprot_frac06.mgf -d ../210831/uniprot-proteome_UP000005640.fasta -o uniprot_frac06.mzid -protocol 5 -addFeatures 1 -conf MSGFPlus_Params.txt\n",
    "java -Xmx30000M -cp ../MSGFPlus.jar edu.ucsd.msjava.ui.MzIDToTsv -i uniprot_frac06.mzid -o uniprot_frac06.tsv -showQValue 1 -showDecoy 1\n",
    "\n",
    "java -Xmx30000M -jar ../MSGFPlus.jar -s uniprot_frac07.mgf -d ../210831/uniprot-proteome_UP000005640.fasta -o uniprot_frac07.mzid -protocol 5 -addFeatures 1 -conf MSGFPlus_Params.txt\n",
    "java -Xmx30000M -cp ../MSGFPlus.jar edu.ucsd.msjava.ui.MzIDToTsv -i uniprot_frac07.mzid -o uniprot_frac07.tsv -showQValue 1 -showDecoy 1\n",
    "\n",
    "java -Xmx30000M -jar ../MSGFPlus.jar -s uniprot_frac08.mgf -d ../210831/uniprot-proteome_UP000005640.fasta -o uniprot_frac08.mzid -protocol 5 -addFeatures 1 -conf MSGFPlus_Params.txt\n",
    "java -Xmx30000M -cp ../MSGFPlus.jar edu.ucsd.msjava.ui.MzIDToTsv -i uniprot_frac08.mzid -o uniprot_frac08.tsv -showQValue 1 -showDecoy 1\n",
    "\n",
    "java -Xmx30000M -jar ../MSGFPlus.jar -s uniprot_frac09.mgf -d uniprot-proteome_UP000005640.fasta -o uniprot_frac09.mzid -protocol 5 -addFeatures 1 -conf MSGFPlus_Params.txt\n",
    "java -Xmx30000M -cp ../MSGFPlus.jar edu.ucsd.msjava.ui.MzIDToTsv -i uniprot_frac09.mzid -o uniprot_frac09.tsv -showQValue 1 -showDecoy 1\n",
    "\n",
    "java -Xmx30000M -jar ../MSGFPlus.jar -s uniprot_frac10.mgf -d ../210831/uniprot-proteome_UP000005640.fasta -o uniprot_frac10.mzid -protocol 5 -addFeatures 1 -conf MSGFPlus_Params.txt\n",
    "java -Xmx30000M -cp ../MSGFPlus.jar edu.ucsd.msjava.ui.MzIDToTsv -i uniprot_frac10.mzid -o uniprot_frac10.tsv -showQValue 1 -showDecoy 1\n",
    "\n",
    "java -Xmx30000M -jar ../MSGFPlus.jar -s uniprot_frac11.mgf -d uniprot-proteome_UP000005640.fasta -o uniprot_frac11.mzid -protocol 5 -addFeatures 1 -conf MSGFPlus_Params.txt\n",
    "java -Xmx30000M -cp ../MSGFPlus.jar edu.ucsd.msjava.ui.MzIDToTsv -i uniprot_frac11.mzid -o uniprot_frac11.tsv -showQValue 1 -showDecoy 1\n",
    "\n",
    "java -Xmx30000M -jar ../MSGFPlus.jar -s uniprot_frac12.mgf -d uniprot-proteome_UP000005640.fasta -o uniprot_frac12.mzid -protocol 5 -addFeatures 1 -conf MSGFPlus_Params.txt\n",
    "java -Xmx30000M -cp ../MSGFPlus.jar edu.ucsd.msjava.ui.MzIDToTsv -i uniprot_frac12.mzid -o uniprot_frac12.tsv -showQValue 1 -showDecoy 1\n",
    "\n",
    "java -Xmx30000M -jar ../MSGFPlus.jar -s uniprot_frac13.mgf -d uniprot-proteome_UP000005640.fasta -o uniprot_frac12.mzid -protocol 5 -addFeatures 1 -conf MSGFPlus_Params.txt\n",
    "java -Xmx30000M -cp ../MSGFPlus.jar edu.ucsd.msjava.ui.MzIDToTsv -i uniprot_frac12.mzid -o uniprot_frac12.tsv -showQValue 1 -showDecoy 1\n",
    "\n",
    "java -Xmx30000M -jar ../MSGFPlus.jar -s uniprot_frac14.mgf -d uniprot-proteome_UP000005640.fasta -o uniprot_frac12.mzid -protocol 5 -addFeatures 1 -conf MSGFPlus_Params.txt\n",
    "java -Xmx30000M -cp ../MSGFPlus.jar edu.ucsd.msjava.ui.MzIDToTsv -i uniprot_frac12.mzid -o uniprot_frac12.tsv -showQValue 1 -showDecoy 1"
   ]
  },
  {
   "cell_type": "code",
   "execution_count": null,
   "metadata": {},
   "outputs": [],
   "source": [
    "java -Xmx30000M -jar ../MSGFPlus.jar -s massIVE-KB_frac01.mgf -d ../210831/uniprot-proteome_UP000005640.fasta -o massIVE-KB_frac01.mzid -protocol 5 -addFeatures 1 -conf MSGFPlus_Params.txt\n",
    "java -Xmx30000M -cp ../MSGFPlus.jar edu.ucsd.msjava.ui.MzIDToTsv -i massIVE-KB_frac01.mzid -o massIVE-KB_frac01.tsv -showQValue 1 -showDecoy 1\n",
    "\n",
    "java -Xmx30000M -jar ../MSGFPlus.jar -s massIVE-KB_frac02.mgf -d ../210831/uniprot-proteome_UP000005640.fasta -o massIVE-KB_frac02.mzid -protocol 5 -addFeatures 1 -conf MSGFPlus_Params.txt\n",
    "java -Xmx30000M -cp ../MSGFPlus.jar edu.ucsd.msjava.ui.MzIDToTsv -i massIVE-KB_frac02.mzid -o massIVE-KB_frac02.tsv -showQValue 1 -showDecoy 1\n",
    "\n",
    "java -Xmx30000M -jar ../MSGFPlus.jar -s massIVE-KB_frac03.mgf -d ../210831/uniprot-proteome_UP000005640.fasta -o massIVE-KB_frac03.mzid -protocol 5 -addFeatures 1 -conf MSGFPlus_Params.txt\n",
    "java -Xmx30000M -cp ../MSGFPlus.jar edu.ucsd.msjava.ui.MzIDToTsv -i massIVE-KB_frac03.mzid -o massIVE-KB_frac03.tsv -showQValue 1 -showDecoy 1\n",
    "\n",
    "java -Xmx30000M -jar ../MSGFPlus.jar -s massIVE-KB_frac04.mgf -d ../210831/uniprot-proteome_UP000005640.fasta -o massIVE-KB_frac04.mzid -protocol 5 -addFeatures 1 -conf MSGFPlus_Params.txt\n",
    "java -Xmx30000M -cp ../MSGFPlus.jar edu.ucsd.msjava.ui.MzIDToTsv -i massIVE-KB_frac04.mzid -o massIVE-KB_frac04.tsv -showQValue 1 -showDecoy 1\n",
    "\n",
    "java -Xmx30000M -jar ../MSGFPlus.jar -s massIVE-KB_frac05.mgf -d ../210831/uniprot-proteome_UP000005640.fasta -o massIVE-KB_frac05.mzid -protocol 5 -addFeatures 1 -conf MSGFPlus_Params.txt\n",
    "java -Xmx30000M -cp ../MSGFPlus.jar edu.ucsd.msjava.ui.MzIDToTsv -i massIVE-KB_frac05.mzid -o massIVE-KB_frac05.tsv -showQValue 1 -showDecoy 1\n",
    "\n",
    "java -Xmx30000M -jar ../MSGFPlus.jar -s massIVE-KB_frac06.mgf -d ../210831/uniprot-proteome_UP000005640.fasta -o massIVE-KB_frac06.mzid -protocol 5 -addFeatures 1 -conf MSGFPlus_Params.txt\n",
    "java -Xmx30000M -cp ../MSGFPlus.jar edu.ucsd.msjava.ui.MzIDToTsv -i massIVE-KB_frac06.mzid -o massIVE-KB_frac06.tsv -showQValue 1 -showDecoy 1\n",
    "\n",
    "java -Xmx30000M -jar ../MSGFPlus.jar -s massIVE-KB_frac07.mgf -d ../210831/uniprot-proteome_UP000005640.fasta -o massIVE-KB_frac07.mzid -protocol 5 -addFeatures 1 -conf MSGFPlus_Params.txt\n",
    "java -Xmx30000M -cp ../MSGFPlus.jar edu.ucsd.msjava.ui.MzIDToTsv -i massIVE-KB_frac07.mzid -o massIVE-KB_frac07.tsv -showQValue 1 -showDecoy 1\n",
    "\n",
    "java -Xmx30000M -jar ../MSGFPlus.jar -s massIVE-KB_frac08.mgf -d ../210831/uniprot-proteome_UP000005640.fasta -o massIVE-KB_frac08.mzid -protocol 5 -addFeatures 1 -conf MSGFPlus_Params.txt\n",
    "java -Xmx30000M -cp ../MSGFPlus.jar edu.ucsd.msjava.ui.MzIDToTsv -i massIVE-KB_frac08.mzid -o massIVE-KB_frac08.tsv -showQValue 1 -showDecoy 1\n",
    "\n",
    "java -Xmx30000M -jar ../MSGFPlus.jar -s massIVE-KB_frac09.mgf -d ../210831/uniprot-proteome_UP000005640.fasta -o massIVE-KB_frac09.mzid -protocol 5 -addFeatures 1 -conf MSGFPlus_Params.txt\n",
    "java -Xmx30000M -cp ../MSGFPlus.jar edu.ucsd.msjava.ui.MzIDToTsv -i massIVE-KB_frac09.mzid -o massIVE-KB_frac09.tsv -showQValue 1 -showDecoy 1\n",
    "\n",
    "java -Xmx30000M -jar ../MSGFPlus.jar -s massIVE-KB_frac10.mgf -d ../210831/uniprot-proteome_UP000005640.fasta -o massIVE-KB_frac10.mzid -protocol 5 -addFeatures 1 -conf MSGFPlus_Params.txt\n",
    "java -Xmx30000M -cp ../MSGFPlus.jar edu.ucsd.msjava.ui.MzIDToTsv -i massIVE-KB_frac10.mzid -o massIVE-KB_frac10.tsv -showQValue 1 -showDecoy 1\n",
    "\n",
    "java -Xmx30000M -jar ../MSGFPlus.jar -s massIVE-KB_frac11.mgf -d ../210831/uniprot-proteome_UP000005640.fasta -o massIVE-KB_frac11.mzid -protocol 5 -addFeatures 1 -conf MSGFPlus_Params.txt\n",
    "java -Xmx30000M -cp ../MSGFPlus.jar edu.ucsd.msjava.ui.MzIDToTsv -i massIVE-KB_frac11.mzid -o massIVE-KB_frac11.tsv -showQValue 1 -showDecoy 1\n",
    "\n",
    "java -Xmx30000M -jar ../MSGFPlus.jar -s massIVE-KB_frac12.mgf -d ../210831/uniprot-proteome_UP000005640.fasta -o massIVE-KB_frac12.mzid -protocol 5 -addFeatures 1 -conf MSGFPlus_Params.txt\n",
    "java -Xmx30000M -cp ../MSGFPlus.jar edu.ucsd.msjava.ui.MzIDToTsv -i massIVE-KB_frac12.mzid -o massIVE-KB_frac12.tsv -showQValue 1 -showDecoy 1\n",
    "\n",
    "java -Xmx30000M -jar ../MSGFPlus.jar -s massIVE-KB_frac13.mgf -d ../210831/uniprot-proteome_UP000005640.fasta -o massIVE-KB_frac13.mzid -protocol 5 -addFeatures 1 -conf MSGFPlus_Params.txt\n",
    "java -Xmx30000M -cp ../MSGFPlus.jar edu.ucsd.msjava.ui.MzIDToTsv -i massIVE-KB_frac13.mzid -o massIVE-KB_frac13.tsv -showQValue 1 -showDecoy 1\n",
    "\n",
    "java -Xmx30000M -jar ../MSGFPlus.jar -s massIVE-KB_frac14.mgf -d ../210831/uniprot-proteome_UP000005640.fasta -o massIVE-KB_frac14.mzid -protocol 5 -addFeatures 1 -conf MSGFPlus_Params.txt\n",
    "java -Xmx30000M -cp ../MSGFPlus.jar edu.ucsd.msjava.ui.MzIDToTsv -i massIVE-KB_frac14.mzid -o massIVE-KB_frac14.tsv -showQValue 1 -showDecoy 1"
   ]
  },
  {
   "cell_type": "code",
   "execution_count": null,
   "metadata": {},
   "outputs": [],
   "source": [
    "sshpass -p \"isa4986\" scp isa@166.104.110.45:/home/isa/Search/210831_SJH_prosit/210915/massIVE-KB_frac01.tsv /data/210827_SJH_prosit/211025STRIP_PEP/\n",
    "sshpass -p \"isa4986\" scp isa@166.104.110.46:/home/isa/Search/210831_SJH_prosit/210915/massIVE-KB_frac02.tsv /data/210827_SJH_prosit/211025STRIP_PEP/\n",
    "sshpass -p \"isa4986\" scp isa@166.104.110.39:/home/isa/Search/210831_SJH_prosit/210915/massIVE-KB_frac03.tsv /data/210827_SJH_prosit/211025STRIP_PEP/\n",
    "sshpass -p \"isa4986\" scp isa@166.104.110.48:/home/isa/Search/210831_SJH_prosit/210915/massIVE-KB_frac04.tsv /data/210827_SJH_prosit/211025STRIP_PEP/\n",
    "sshpass -p \"isa4986\" scp isa@166.104.110.49:/home/isa/Search/210831_SJH_prosit/210915/massIVE-KB_frac05.tsv /data/210827_SJH_prosit/211025STRIP_PEP/\n",
    "sshpass -p \"isa4986\" scp isa@166.104.110.50:/home/isa/Search/210831_SJH_prosit/210915/massIVE-KB_frac06.tsv /data/210827_SJH_prosit/211025STRIP_PEP/\n",
    "sshpass -p \"isa4986\" scp isa@166.104.110.51:/home/isa/Search/210831_SJH_prosit/210915/massIVE-KB_frac07.tsv /data/210827_SJH_prosit/211025STRIP_PEP/\n",
    "sshpass -p \"isa4986\" scp isa@166.104.110.52:/home/isa/Search/210831_SJH_prosit/210915/massIVE-KB_frac08.tsv /data/210827_SJH_prosit/211025STRIP_PEP/\n",
    "sshpass -p \"isa4986\" scp isa@166.104.110.53:/home/isa/Search/210831_SJH_prosit/210915/massIVE-KB_frac09.tsv /data/210827_SJH_prosit/211025STRIP_PEP/\n",
    "sshpass -p \"isa4986\" scp isa@166.104.110.55:/home/isa/Search/210831_SJH_prosit/210915/massIVE-KB_frac10.tsv /data/210827_SJH_prosit/211025STRIP_PEP/\n",
    "sshpass -p \"isa4986\" scp isa@166.104.110.56:/home/isa/Search/210831_SJH_prosit/210915/massIVE-KB_frac11.tsv /data/210827_SJH_prosit/211025STRIP_PEP/\n",
    "sshpass -p \"isa4986\" scp isa@166.104.110.56:/home/isa/Search/210831_SJH_prosit/210915/massIVE-KB_frac12.tsv /data/210827_SJH_prosit/211025STRIP_PEP/\n",
    "sshpass -p \"isa4986\" scp isa@166.104.110.56:/home/isa/Search/210831_SJH_prosit/210915/massIVE-KB_frac13.tsv /data/210827_SJH_prosit/211025STRIP_PEP/\n",
    "sshpass -p \"isa4986\" scp isa@166.104.110.56:/home/isa/Search/210831_SJH_prosit/210915/massIVE-KB_frac14.tsv /data/210827_SJH_prosit/211025STRIP_PEP/\n"
   ]
  },
  {
   "cell_type": "code",
   "execution_count": null,
   "metadata": {},
   "outputs": [],
   "source": [
    "head -n 1 massIVE-KB_frac01.tsv > real_massIVE-KB_result.tsv\n",
    "for F in massIVE-KB_frac*.tsv ; do tail -n +2 ${F} >> real_massIVE-KB_result.tsv ; done\n"
   ]
  },
  {
   "cell_type": "code",
   "execution_count": null,
   "metadata": {},
   "outputs": [],
   "source": [
    "sshpass -p \"isa4986\" scp isa@166.104.110.50:/home/isa/Search/210831_SJH_prosit/210915/massIVE-KB_predMS2_frac01.tsv /data/210827_SJH_prosit/211025STRIP_PEP/\n",
    "sshpass -p \"isa4986\" scp isa@166.104.110.51:/home/isa/Search/210831_SJH_prosit/210915/massIVE-KB_predMS2_frac02.tsv /data/210827_SJH_prosit/211025STRIP_PEP/\n",
    "sshpass -p \"isa4986\" scp isa@166.104.110.52:/home/isa/Search/210831_SJH_prosit/210915/massIVE-KB_predMS2_frac03.tsv /data/210827_SJH_prosit/211025STRIP_PEP/\n",
    "sshpass -p \"isa4986\" scp isa@166.104.110.53:/home/isa/Search/210831_SJH_prosit/210915/massIVE-KB_predMS2_frac04.tsv /data/210827_SJH_prosit/211025STRIP_PEP/\n",
    "sshpass -p \"isa4986\" scp isa@166.104.110.56:/home/isa/Search/210831_SJH_prosit/210915/massIVE-KB_predMS2_frac05.tsv /data/210827_SJH_prosit/211025STRIP_PEP/\n",
    "sshpass -p \"isa4986\" scp isa@166.104.110.56:/home/isa/Search/210831_SJH_prosit/210915/massIVE-KB_predMS2_frac06.tsv /data/210827_SJH_prosit/211025STRIP_PEP/\n",
    "sshpass -p \"isa4986\" scp isa@166.104.110.56:/home/isa/Search/210831_SJH_prosit/210915/massIVE-KB_predMS2_frac07.tsv /data/210827_SJH_prosit/211025STRIP_PEP/\n",
    "sshpass -p \"isa4986\" scp isa@166.104.110.56:/home/isa/Search/210831_SJH_prosit/210915/massIVE-KB_predMS2_frac08.tsv /data/210827_SJH_prosit/211025STRIP_PEP/\n",
    "sshpass -p \"isa4986\" scp isa@166.104.110.56:/home/isa/Search/210831_SJH_prosit/210915/massIVE-KB_predMS2_frac10.tsv /data/210827_SJH_prosit/211025STRIP_PEP/\n"
   ]
  }
 ],
 "metadata": {
  "kernelspec": {
   "display_name": "TF2.0",
   "language": "python",
   "name": "bis"
  },
  "language_info": {
   "codemirror_mode": {
    "name": "ipython",
    "version": 3
   },
   "file_extension": ".py",
   "mimetype": "text/x-python",
   "name": "python",
   "nbconvert_exporter": "python",
   "pygments_lexer": "ipython3",
   "version": "3.6.12"
  }
 },
 "nbformat": 4,
 "nbformat_minor": 4
}
