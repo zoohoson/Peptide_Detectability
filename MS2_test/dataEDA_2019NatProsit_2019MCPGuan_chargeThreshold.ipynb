{
 "cells": [
  {
   "cell_type": "code",
   "execution_count": 1,
   "metadata": {
    "ExecuteTime": {
     "end_time": "2021-11-14T22:45:59.307531Z",
     "start_time": "2021-11-14T22:45:57.279109Z"
    }
   },
   "outputs": [],
   "source": [
    "import tensorflow as tf\n",
    "import pickle\n",
    "import numpy as np\n",
    "from tensorflow.keras import models\n",
    "from tensorflow.keras import layers\n",
    "\n",
    "import matplotlib.pyplot as plt\n",
    "from scipy.stats import pearsonr\n",
    "\n",
    "import pandas as pd"
   ]
  },
  {
   "cell_type": "code",
   "execution_count": 2,
   "metadata": {
    "ExecuteTime": {
     "end_time": "2021-11-14T22:45:59.354786Z",
     "start_time": "2021-11-14T22:45:59.309041Z"
    }
   },
   "outputs": [],
   "source": [
    "import math\n",
    "\n",
    "import seaborn as sns"
   ]
  },
  {
   "cell_type": "markdown",
   "metadata": {},
   "source": [
    "# charge prediction\n",
    " - find threshold"
   ]
  },
  {
   "cell_type": "code",
   "execution_count": 3,
   "metadata": {
    "ExecuteTime": {
     "end_time": "2021-11-14T22:46:02.550869Z",
     "start_time": "2021-11-14T22:46:01.125438Z"
    }
   },
   "outputs": [],
   "source": [
    "def reshapeOneHot(X):\n",
    "    X = np.dstack(X)\n",
    "    X = np.swapaxes(X, 1, 2)\n",
    "    X = np.swapaxes(X, 0, 1)\n",
    "    return X\n",
    "\n",
    "def one_hot_encode_peptide(peptide, MAX_LENGTH = 41):\n",
    "    if len(peptide) > MAX_LENGTH:\n",
    "        print('Peptide length is larger than maximal length of ', str(MAX_LENGTH))\n",
    "        return None\n",
    "    else:\n",
    "        AA_vocabulary = 'KRPTNAQVSGILCMJHFYWEDBXO'#B: acetyl; O: Carbamyl; J: oxidized Met; X:pyro_glu\n",
    "        no_not_used_aas = 1#U: not used\n",
    "\n",
    "        one_hot_peptide = np.zeros((len(peptide), len(AA_vocabulary) - no_not_used_aas))\n",
    "\n",
    "        for j in range(0, len(peptide)):\n",
    "            try:\n",
    "                aa = peptide[j]\n",
    "                one_hot_peptide[j, AA_vocabulary.index(aa)] = 1\n",
    "            except:\n",
    "                pass\n",
    "        \n",
    "        no_front_paddings = int((MAX_LENGTH - len(peptide))/2)\n",
    "        peptide_front_paddings = np.zeros((no_front_paddings, one_hot_peptide.shape[1]))\n",
    "\n",
    "        no_back_paddings = MAX_LENGTH - len(peptide) - no_front_paddings\n",
    "        peptide_back_paddings = np.zeros((no_back_paddings, one_hot_peptide.shape[1]))\n",
    "\n",
    "        full_one_hot_peptide = np.vstack((peptide_front_paddings, one_hot_peptide, peptide_back_paddings))\n",
    "\n",
    "        return peptide, full_one_hot_peptide\n",
    "    \n",
    "AA_vocabulary = 'KRPTNAQVSGILCMJHFYWEDBXOU'#B: acetyl; J: oxidized Met; X:pyro_glu\n",
    "single2psi_lookup = {'B': '(Acetyl)-',\n",
    "                     'J': 'M(Oxidation)',\n",
    "                     'X': '(Gln->pyro-Glu)Q',\n",
    "                     'C': 'C(Carbamidomethyl)'}\n",
    "\n",
    "def one_hot_to_single_ptm(one_hot):\n",
    "    seq = ''\n",
    "    for row in one_hot:\n",
    "        if row.sum() > 0:\n",
    "            idx = row.argmax()\n",
    "            seq += AA_vocabulary[idx]\n",
    "    return seq\n",
    "\n",
    "\n",
    "\n",
    "def single_ptm_to_psi(single_ptm_seq):\n",
    "    psi_seq = single_ptm_seq\n",
    "    for code in single2psi_lookup:\n",
    "        psi_seq = psi_seq.replace(code, single2psi_lookup[code])\n",
    "    return psi_seq\n",
    "\n",
    "fn1 = '../refModel/2019MCP_Guan/LCMSMS_Pred_Supplemental_Material_section_S6/ChargeState/zfit_bidirLSTM2_masking_result.pickle'\n",
    "with open(fn1, 'rb') as fid:\n",
    "    pred_data = pickle.load(fid)\n",
    "\n",
    "fn2 = '../refModel/2019MCP_Guan/LCMSMS_Pred_Supplemental_Material_section_S6/ChargeState/zfit_one_hot.pickle'\n",
    "with open(fn2, 'rb') as fid:\n",
    "    real_data = pickle.load(fid)\n",
    "\n",
    "def plot_zfit(train_X, train_y, predicted_train_y, n):\n",
    "\n",
    "    X = train_X[n]\n",
    "    s_seq = one_hot_to_single_ptm(X)\n",
    "    print(s_seq)\n",
    "    psi_seq = single_ptm_to_psi(s_seq)\n",
    "    print(psi_seq)\n",
    "   \n",
    "    y_exp = train_y[n]\n",
    "    y_pred = predicted_train_y[n]\n",
    "    pcc = pearsonr(y_exp, y_pred)\n",
    "\n",
    "    fig, ax = plt.subplots()\n",
    "    charges = range(1, len(y_exp) + 1)\n",
    "    ax.stem(charges, y_exp, 'b', markerfmt=\" \", label='Experimental')\n",
    "    ax.stem(charges, -y_pred, 'g', markerfmt=\" \", label='Predicted')\n",
    "    plt.text(1.5, -0.35, 'pcc: %6.3f, %6.3g'%(pcc[0], pcc[1]))\n",
    "    plt.xticks(charges)\n",
    "    plt.xlabel('charge')\n",
    "    plt.title(psi_seq)\n",
    "    plt.show()"
   ]
  },
  {
   "cell_type": "code",
   "execution_count": 4,
   "metadata": {
    "ExecuteTime": {
     "end_time": "2021-11-14T22:46:09.548674Z",
     "start_time": "2021-11-14T22:46:04.518004Z"
    }
   },
   "outputs": [
    {
     "name": "stdout",
     "output_type": "stream",
     "text": [
      "Model: \"sequential_1\"\n",
      "_________________________________________________________________\n",
      "Layer (type)                 Output Shape              Param #   \n",
      "=================================================================\n",
      "masking_1 (Masking)          (None, None, 23)          0         \n",
      "_________________________________________________________________\n",
      "bidirectional_1 (Bidirection (None, None, 512)         573440    \n",
      "_________________________________________________________________\n",
      "bidirectional_2 (Bidirection (None, 512)               1574912   \n",
      "_________________________________________________________________\n",
      "dense_1 (Dense)              (None, 256)               131328    \n",
      "_________________________________________________________________\n",
      "dense_2 (Dense)              (None, 5)                 1285      \n",
      "=================================================================\n",
      "Total params: 2,280,965\n",
      "Trainable params: 2,280,965\n",
      "Non-trainable params: 0\n",
      "_________________________________________________________________\n",
      "None\n"
     ]
    }
   ],
   "source": [
    "network_ori = tf.keras.models.load_model('../refModel/2019MCP_Guan/LCMSMS_Pred_Supplemental_Material_section_S6/ChargeState/zfit_bidirLSTM2_masking_model.h5')\n",
    "\n",
    "print(network_ori.summary())"
   ]
  },
  {
   "cell_type": "code",
   "execution_count": 6,
   "metadata": {
    "ExecuteTime": {
     "end_time": "2021-11-14T22:47:36.566635Z",
     "start_time": "2021-11-14T22:47:34.332558Z"
    }
   },
   "outputs": [],
   "source": [
    "train = pd.read_csv('../data/df_detect_peptide_train.csv')\n",
    "test = pd.read_csv('../data/df_detect_peptide_test.csv')\n",
    "\n",
    "df = pd.concat([train, test], axis=0).reset_index(drop=True)"
   ]
  },
  {
   "cell_type": "code",
   "execution_count": 8,
   "metadata": {
    "ExecuteTime": {
     "end_time": "2021-11-14T22:48:10.482631Z",
     "start_time": "2021-11-14T22:48:10.204586Z"
    }
   },
   "outputs": [],
   "source": [
    "ided_pep = df.loc[df.ID==1].PEP.unique()\n",
    "whole_pep = df.PEP.unique()"
   ]
  },
  {
   "cell_type": "code",
   "execution_count": 9,
   "metadata": {
    "ExecuteTime": {
     "end_time": "2021-11-14T22:48:11.917870Z",
     "start_time": "2021-11-14T22:48:11.772104Z"
    }
   },
   "outputs": [
    {
     "data": {
      "text/plain": [
       "((813388, 8), 797400, 394700)"
      ]
     },
     "execution_count": 9,
     "metadata": {},
     "output_type": "execute_result"
    }
   ],
   "source": [
    "df.shape, len(df.PEP.unique()), len(ided_pep)"
   ]
  },
  {
   "cell_type": "markdown",
   "metadata": {},
   "source": [
    "# Search Threshold\n",
    " - 몇 이상의 값을 가진 charge를 사용할 것인가, 나머지는 zero padding 해야한다."
   ]
  },
  {
   "cell_type": "code",
   "execution_count": 10,
   "metadata": {
    "ExecuteTime": {
     "end_time": "2021-11-14T22:52:49.014090Z",
     "start_time": "2021-11-14T22:51:57.240463Z"
    }
   },
   "outputs": [],
   "source": [
    "df_kb = pd.read_csv('../data/massIVE-KB/df_kb_strip.csv')\n",
    "df_uni = pd.read_csv('../data/uniprot/df_uni_ided.csv')\n",
    "\n",
    "df_kb_not6charge = df_kb.loc[df_kb.CHARGE!=6].reset_index(drop=True)\n",
    "\n",
    "pep2charge = dict()\n",
    "for p, c in df_kb_not6charge[['PEPTIDE', 'CHARGE']].values:\n",
    "    if p not in pep2charge:\n",
    "        pep2charge[p] = [0, 0, 0, 0, 0]\n",
    "    pep2charge[p][int(c)-1] += 1\n",
    "\n",
    "ided_pep2charge = dict()\n",
    "for p in ided_pep:\n",
    "    try:\n",
    "        ided_pep2charge[p] = pep2charge[p]\n",
    "    except:\n",
    "        pass  # charge 6 case"
   ]
  },
  {
   "cell_type": "code",
   "execution_count": 11,
   "metadata": {
    "ExecuteTime": {
     "end_time": "2021-11-14T22:52:49.786749Z",
     "start_time": "2021-11-14T22:52:49.016164Z"
    }
   },
   "outputs": [],
   "source": [
    "kb_y = np.array(list(ided_pep2charge.values()))\n",
    "kb_X_str = np.array(list(ided_pep2charge.keys()))"
   ]
  },
  {
   "cell_type": "code",
   "execution_count": 12,
   "metadata": {
    "ExecuteTime": {
     "end_time": "2021-11-14T22:52:59.682434Z",
     "start_time": "2021-11-14T22:52:49.788536Z"
    }
   },
   "outputs": [
    {
     "name": "stdout",
     "output_type": "stream",
     "text": [
      "(394661, 41, 23)\n"
     ]
    }
   ],
   "source": [
    "ided_pep2onehot = dict()\n",
    "for p in kb_X_str:\n",
    "    o = one_hot_encode_peptide(p)\n",
    "    ided_pep2onehot[p] = o[1]\n",
    "kb_X = np.array(list(ided_pep2onehot.values()))\n",
    "print(kb_X.shape)"
   ]
  },
  {
   "cell_type": "code",
   "execution_count": 29,
   "metadata": {
    "ExecuteTime": {
     "end_time": "2021-11-15T03:19:24.612800Z",
     "start_time": "2021-11-15T03:19:08.190142Z"
    }
   },
   "outputs": [],
   "source": [
    "test=kb_X[:1000]\n",
    "kb_pred = network_ori.predict(test)"
   ]
  },
  {
   "cell_type": "code",
   "execution_count": 31,
   "metadata": {
    "ExecuteTime": {
     "end_time": "2021-11-15T03:19:36.119772Z",
     "start_time": "2021-11-15T03:19:36.116284Z"
    }
   },
   "outputs": [
    {
     "name": "stdout",
     "output_type": "stream",
     "text": [
      "1.8 hour estimated\n"
     ]
    }
   ],
   "source": [
    "print(round(16.4*(394661/1000)/3600, 2), 'hour estimated')"
   ]
  },
  {
   "cell_type": "code",
   "execution_count": 14,
   "metadata": {
    "ExecuteTime": {
     "end_time": "2021-11-15T00:28:47.396801Z",
     "start_time": "2021-11-14T22:54:03.611590Z"
    }
   },
   "outputs": [],
   "source": [
    "kb_pred = network_ori.predict(kb_X)"
   ]
  },
  {
   "cell_type": "code",
   "execution_count": 15,
   "metadata": {
    "ExecuteTime": {
     "end_time": "2021-11-15T00:28:49.623436Z",
     "start_time": "2021-11-15T00:28:47.400209Z"
    }
   },
   "outputs": [],
   "source": [
    "kb_pred_log = np.array([np.array(list(map(lambda x: -math.log(x), _))) for _ in kb_pred])"
   ]
  },
  {
   "cell_type": "code",
   "execution_count": 16,
   "metadata": {
    "ExecuteTime": {
     "end_time": "2021-11-15T00:28:49.751984Z",
     "start_time": "2021-11-15T00:28:49.625804Z"
    }
   },
   "outputs": [
    {
     "name": "stdout",
     "output_type": "stream",
     "text": [
      "FSPEAFTEQLYR\n",
      "FSPEAFTEQLYR\n"
     ]
    },
    {
     "data": {
      "image/png": "[encoded data removed]",
      "text/plain": [
       "<Figure size 432x288 with 1 Axes>"
      ]
     },
     "metadata": {
      "needs_background": "light"
     },
     "output_type": "display_data"
    }
   ],
   "source": [
    "plot_zfit(kb_X, kb_y, kb_pred_log, 9)"
   ]
  },
  {
   "cell_type": "code",
   "execution_count": 17,
   "metadata": {
    "ExecuteTime": {
     "end_time": "2021-11-15T00:28:51.310153Z",
     "start_time": "2021-11-15T00:28:49.753494Z"
    }
   },
   "outputs": [],
   "source": [
    "pred_logs = []\n",
    "for real, pred in zip(kb_y, kb_pred_log):\n",
    "    idxes = np.where(real==1)[0]\n",
    "    pred_logs += list(pred[idxes])"
   ]
  },
  {
   "cell_type": "code",
   "execution_count": 18,
   "metadata": {
    "ExecuteTime": {
     "end_time": "2021-11-15T00:28:53.509378Z",
     "start_time": "2021-11-15T00:28:51.311785Z"
    }
   },
   "outputs": [
    {
     "name": "stderr",
     "output_type": "stream",
     "text": [
      "/home/bis/miniconda3/envs/bis/lib/python3.6/site-packages/seaborn/_decorators.py:43: FutureWarning: Pass the following variable as a keyword arg: x. From version 0.12, the only valid positional argument will be `data`, and passing other arguments without an explicit keyword will result in an error or misinterpretation.\n",
      "  FutureWarning\n"
     ]
    },
    {
     "data": {
      "image/png": "[encoded data removed]",
      "text/plain": [
       "<Figure size 1440x360 with 1 Axes>"
      ]
     },
     "metadata": {
      "needs_background": "light"
     },
     "output_type": "display_data"
    }
   ],
   "source": [
    "plt.figure(figsize=(20,5))\n",
    "sns.violinplot(pred_logs, color='orange')\n",
    "plt.title('massIVE-KB charge prediction threshold')\n",
    "plt.xlabel('prob logscale')\n",
    "plt.show()"
   ]
  },
  {
   "cell_type": "code",
   "execution_count": 19,
   "metadata": {
    "ExecuteTime": {
     "end_time": "2021-11-15T00:28:53.705073Z",
     "start_time": "2021-11-15T00:28:53.511012Z"
    }
   },
   "outputs": [
    {
     "name": "stdout",
     "output_type": "stream",
     "text": [
      "[only real charge] below 6 ratio :  0.9941051614144629\n"
     ]
    }
   ],
   "source": [
    "print('[only real charge] below 6 ratio : ', len(list(filter(lambda x: x<=6, pred_logs)))/len(pred_logs))"
   ]
  },
  {
   "cell_type": "code",
   "execution_count": 20,
   "metadata": {
    "ExecuteTime": {
     "end_time": "2021-11-15T01:51:05.453259Z",
     "start_time": "2021-11-15T01:51:04.409784Z"
    }
   },
   "outputs": [
    {
     "name": "stdout",
     "output_type": "stream",
     "text": [
      "[all charge] below 6 ratio :  0.5822424815221164\n"
     ]
    }
   ],
   "source": [
    "all_logs = [__ for _ in kb_pred_log for __ in _]\n",
    "print('[all charge] below 6 ratio : ', len(list(filter(lambda x: x<=6, all_logs)))/len(all_logs))"
   ]
  }
 ],
 "metadata": {
  "kernelspec": {
   "display_name": "TF2.0",
   "language": "python",
   "name": "bis"
  },
  "language_info": {
   "codemirror_mode": {
    "name": "ipython",
    "version": 3
   },
   "file_extension": ".py",
   "mimetype": "text/x-python",
   "name": "python",
   "nbconvert_exporter": "python",
   "pygments_lexer": "ipython3",
   "version": "3.6.12"
  }
 },
 "nbformat": 4,
 "nbformat_minor": 4
}
