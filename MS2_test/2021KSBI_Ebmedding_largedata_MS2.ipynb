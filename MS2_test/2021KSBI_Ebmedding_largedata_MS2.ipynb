{
 "cells": [
  {
   "cell_type": "code",
   "execution_count": 1,
   "metadata": {
    "ExecuteTime": {
     "end_time": "2021-11-14T17:39:33.154957Z",
     "start_time": "2021-11-14T17:39:32.368127Z"
    }
   },
   "outputs": [],
   "source": [
    "import pandas as pd\n",
    "import numpy as np\n",
    "import matplotlib.pyplot as plt\n",
    "import seaborn as sns\n",
    "from sklearn.metrics import classification_report\n",
    "from sklearn.metrics import confusion_matrix\n",
    "from sklearn.metrics import roc_curve\n",
    "from sklearn.metrics import roc_auc_score\n",
    "from sklearn.model_selection import train_test_split"
   ]
  },
  {
   "cell_type": "code",
   "execution_count": 3,
   "metadata": {
    "ExecuteTime": {
     "end_time": "2021-11-14T17:39:40.017734Z",
     "start_time": "2021-11-14T17:39:40.009713Z"
    }
   },
   "outputs": [
    {
     "name": "stdout",
     "output_type": "stream",
     "text": [
      "(19, 21)\n"
     ]
    }
   ],
   "source": [
    "df_aaindex = pd.read_csv('../data/aaindex/df_aaindex19.csv')\n",
    "print(df_aaindex.shape)\n",
    "df_aaindex.head(1)\n",
    "tmp = df_aaindex.drop('Unnamed: 0',axis=1).T\n",
    "aa2val = dict()\n",
    "for aa, val in zip(tmp.index, tmp.values):\n",
    "    aa2val[aa]=val"
   ]
  },
  {
   "cell_type": "code",
   "execution_count": 4,
   "metadata": {
    "ExecuteTime": {
     "end_time": "2021-11-14T17:39:48.264094Z",
     "start_time": "2021-11-14T17:39:45.613476Z"
    }
   },
   "outputs": [],
   "source": [
    "df_detect_peptide_train = pd.read_csv('../data/df_detect_peptide_train.csv')\n",
    "test = pd.read_csv('../data/df_detect_peptide_test.csv')\n",
    "train, val = train_test_split(df_detect_peptide_train, test_size=0.2, random_state=7)"
   ]
  },
  {
   "cell_type": "code",
   "execution_count": 5,
   "metadata": {
    "ExecuteTime": {
     "end_time": "2021-11-14T17:39:48.278564Z",
     "start_time": "2021-11-14T17:39:48.265763Z"
    }
   },
   "outputs": [
    {
     "data": {
      "text/html": [
       "<div>\n",
       "<style scoped>\n",
       "    .dataframe tbody tr th:only-of-type {\n",
       "        vertical-align: middle;\n",
       "    }\n",
       "\n",
       "    .dataframe tbody tr th {\n",
       "        vertical-align: top;\n",
       "    }\n",
       "\n",
       "    .dataframe thead th {\n",
       "        text-align: right;\n",
       "    }\n",
       "</style>\n",
       "<table border=\"1\" class=\"dataframe\">\n",
       "  <thead>\n",
       "    <tr style=\"text-align: right;\">\n",
       "      <th></th>\n",
       "      <th>peptide</th>\n",
       "      <th>En</th>\n",
       "      <th>Ec</th>\n",
       "      <th>E1</th>\n",
       "      <th>E2</th>\n",
       "      <th>protein</th>\n",
       "      <th>PEP</th>\n",
       "      <th>ID</th>\n",
       "    </tr>\n",
       "  </thead>\n",
       "  <tbody>\n",
       "    <tr>\n",
       "      <th>595411</th>\n",
       "      <td>K.QELNEPPKQSTSFLVLQEILESEEKGDPNK.P</td>\n",
       "      <td>VYKMLQEKQELNEPP</td>\n",
       "      <td>EEKGDPNKPSGFRSV</td>\n",
       "      <td>QELNEPPKQSTSFLV</td>\n",
       "      <td>EILESEEKGDPNKPS</td>\n",
       "      <td>sp|O00151|PDLI1_HUMAN</td>\n",
       "      <td>QELNEPPKQSTSFLVLQEILESEEKGDPNK</td>\n",
       "      <td>0</td>\n",
       "    </tr>\n",
       "  </tbody>\n",
       "</table>\n",
       "</div>"
      ],
      "text/plain": [
       "                                   peptide               En               Ec  \\\n",
       "595411  K.QELNEPPKQSTSFLVLQEILESEEKGDPNK.P  VYKMLQEKQELNEPP  EEKGDPNKPSGFRSV   \n",
       "\n",
       "                     E1               E2                protein  \\\n",
       "595411  QELNEPPKQSTSFLV  EILESEEKGDPNKPS  sp|O00151|PDLI1_HUMAN   \n",
       "\n",
       "                                   PEP  ID  \n",
       "595411  QELNEPPKQSTSFLVLQEILESEEKGDPNK   0  "
      ]
     },
     "execution_count": 5,
     "metadata": {},
     "output_type": "execute_result"
    }
   ],
   "source": [
    "train.head(1)"
   ]
  },
  {
   "cell_type": "code",
   "execution_count": 6,
   "metadata": {
    "ExecuteTime": {
     "end_time": "2021-11-14T17:39:48.287090Z",
     "start_time": "2021-11-14T17:39:48.279774Z"
    }
   },
   "outputs": [],
   "source": [
    "def get_data_labelEnc(df):\n",
    "    label_enc = {v:k+1 for k, v in enumerate('ARNDCQEGHILKMFPSTWYV')}\n",
    "    label_enc['Z']=0\n",
    "    aa_data = [np.array([seq.count(a) for a in 'ARNDCQEGHILKMFPSTWYV'] + list(np.array([aa2val[aa] for aa in seq]).sum(axis=0)))\n",
    "               for seq in df.PEP.values]\n",
    "    pep_data = [[label_enc[aa] for aa in seq] + [0]*(30-len(seq))\n",
    "               for seq in df.PEP.values]\n",
    "    en_data = [[label_enc[aa] for aa in seq]\n",
    "               for seq in df.En.values]\n",
    "    ec_data = [[label_enc[aa] for aa in seq]\n",
    "               for seq in df.Ec.values]\n",
    "    e1_data = [[label_enc[aa] for aa in seq]\n",
    "               if seq != '-' else [0 for _ in range(15)]\n",
    "               for seq in df.E1.values]\n",
    "    e2_data = [[label_enc[aa] for aa in seq]\n",
    "               if seq != '-' else [0 for _ in range(15)]\n",
    "               for seq in df.E2.values]\n",
    "    return np.array(aa_data), np.array(pep_data), np.array(en_data), np.array(ec_data), np.array(e1_data), np.array(e2_data), np.array(df.ID.values)"
   ]
  },
  {
   "cell_type": "code",
   "execution_count": 7,
   "metadata": {
    "ExecuteTime": {
     "end_time": "2021-11-14T17:40:24.865788Z",
     "start_time": "2021-11-14T17:39:48.288069Z"
    }
   },
   "outputs": [
    {
     "name": "stdout",
     "output_type": "stream",
     "text": [
      "(543516, 39) (543516, 30) (543516, 15) (543516, 15) (543516, 15) (543516, 15) (543516,)\n",
      "(135880, 39) (135880, 30) (135880, 15) (135880, 15) (135880, 15) (135880, 15) (135880,)\n",
      "(133992, 39) (133992, 30) (133992, 15) (133992, 15) (133992, 15) (133992, 15) (133992,)\n"
     ]
    }
   ],
   "source": [
    "aa_train, pep_train, en_train, ec_train, e1_train, e2_train, y_train = get_data_labelEnc(train)\n",
    "aa_val, pep_val, en_val, ec_val, e1_val, e2_val, y_val = get_data_labelEnc(val)\n",
    "aa_test, pep_test, en_test, ec_test, e1_test, e2_test, y_test = get_data_labelEnc(test)\n",
    "print(aa_train.shape, pep_train.shape, en_train.shape, ec_train.shape, e1_train.shape, e2_train.shape, y_train.shape)\n",
    "print(aa_val.shape, pep_val.shape, en_val.shape, ec_val.shape, e1_val.shape, e2_val.shape, y_val.shape)\n",
    "print(aa_test.shape, pep_test.shape, en_test.shape, ec_test.shape, e1_test.shape, e2_test.shape, y_test.shape)"
   ]
  },
  {
   "cell_type": "code",
   "execution_count": 24,
   "metadata": {
    "ExecuteTime": {
     "end_time": "2021-11-14T20:48:30.770766Z",
     "start_time": "2021-11-14T20:48:30.749003Z"
    }
   },
   "outputs": [
    {
     "data": {
      "text/html": [
       "<div>\n",
       "<style scoped>\n",
       "    .dataframe tbody tr th:only-of-type {\n",
       "        vertical-align: middle;\n",
       "    }\n",
       "\n",
       "    .dataframe tbody tr th {\n",
       "        vertical-align: top;\n",
       "    }\n",
       "\n",
       "    .dataframe thead th {\n",
       "        text-align: right;\n",
       "    }\n",
       "</style>\n",
       "<table border=\"1\" class=\"dataframe\">\n",
       "  <thead>\n",
       "    <tr style=\"text-align: right;\">\n",
       "      <th></th>\n",
       "      <th>peptide</th>\n",
       "      <th>En</th>\n",
       "      <th>Ec</th>\n",
       "      <th>E1</th>\n",
       "      <th>E2</th>\n",
       "      <th>protein</th>\n",
       "      <th>PEP</th>\n",
       "      <th>ID</th>\n",
       "    </tr>\n",
       "  </thead>\n",
       "  <tbody>\n",
       "    <tr>\n",
       "      <th>595411</th>\n",
       "      <td>K.QELNEPPKQSTSFLVLQEILESEEKGDPNK.P</td>\n",
       "      <td>VYKMLQEKQELNEPP</td>\n",
       "      <td>EEKGDPNKPSGFRSV</td>\n",
       "      <td>QELNEPPKQSTSFLV</td>\n",
       "      <td>EILESEEKGDPNKPS</td>\n",
       "      <td>sp|O00151|PDLI1_HUMAN</td>\n",
       "      <td>QELNEPPKQSTSFLVLQEILESEEKGDPNK</td>\n",
       "      <td>0</td>\n",
       "    </tr>\n",
       "    <tr>\n",
       "      <th>417883</th>\n",
       "      <td>K.LEDQEQR.A</td>\n",
       "      <td>RARMHIQKLEDQEQR</td>\n",
       "      <td>KLEDQEQRARQLKER</td>\n",
       "      <td>-</td>\n",
       "      <td>-</td>\n",
       "      <td>sp|Q9BW11|MAD3_HUMAN</td>\n",
       "      <td>LEDQEQR</td>\n",
       "      <td>0</td>\n",
       "    </tr>\n",
       "    <tr>\n",
       "      <th>257604</th>\n",
       "      <td>R.VANTSTQTMGPRPAAAAAAATPAVR.T</td>\n",
       "      <td>PRVMSTQRVANTSTQ</td>\n",
       "      <td>AAATPAVRTVPQYKY</td>\n",
       "      <td>STQTMGPRPAAAAAA</td>\n",
       "      <td>-</td>\n",
       "      <td>sp|P11940|PABP1_HUMAN</td>\n",
       "      <td>VANTSTQTMGPRPAAAAAAATPAVR</td>\n",
       "      <td>1</td>\n",
       "    </tr>\n",
       "    <tr>\n",
       "      <th>357477</th>\n",
       "      <td>R.QGHELAK.Q</td>\n",
       "      <td>TQPHCSPRQGHELAK</td>\n",
       "      <td>RQGHELAKQEIRVRV</td>\n",
       "      <td>-</td>\n",
       "      <td>-</td>\n",
       "      <td>sp|Q96RT1|ERBIN_HUMAN</td>\n",
       "      <td>QGHELAK</td>\n",
       "      <td>0</td>\n",
       "    </tr>\n",
       "    <tr>\n",
       "      <th>513549</th>\n",
       "      <td>K.SHLVHHQKIHSEERLVCSMNVGNSLAK.T</td>\n",
       "      <td>CQKAFIRKSHLVHHQ</td>\n",
       "      <td>NVGNSLAKTPTSLNI</td>\n",
       "      <td>SHLVHHQKIHSEERL</td>\n",
       "      <td>QKIHSEERLVCSMNV</td>\n",
       "      <td>sp|Q8NEK5|ZN548_HUMAN</td>\n",
       "      <td>SHLVHHQKIHSEERLVCSMNVGNSLAK</td>\n",
       "      <td>0</td>\n",
       "    </tr>\n",
       "    <tr>\n",
       "      <th>...</th>\n",
       "      <td>...</td>\n",
       "      <td>...</td>\n",
       "      <td>...</td>\n",
       "      <td>...</td>\n",
       "      <td>...</td>\n",
       "      <td>...</td>\n",
       "      <td>...</td>\n",
       "      <td>...</td>\n",
       "    </tr>\n",
       "    <tr>\n",
       "      <th>328599</th>\n",
       "      <td>K.LAEEESCREDVTRVCPK.H</td>\n",
       "      <td>AGAGGGWKLAEEESC</td>\n",
       "      <td>DVTRVCPKHTWSNNL</td>\n",
       "      <td>LAEEESCREDVTRVC</td>\n",
       "      <td>SCREDVTRVCPKHTW</td>\n",
       "      <td>sp|Q92896|GSLG1_HUMAN</td>\n",
       "      <td>LAEEESCREDVTRVCPK</td>\n",
       "      <td>1</td>\n",
       "    </tr>\n",
       "    <tr>\n",
       "      <th>535030</th>\n",
       "      <td>R.ELEIESQTEEQPTTKQAKAVEVGR.K</td>\n",
       "      <td>TWDYVARRELEIESQ</td>\n",
       "      <td>AKAVEVGRKEERCCA</td>\n",
       "      <td>TEEQPTTKQAKAVEV</td>\n",
       "      <td>QPTTKQAKAVEVGRK</td>\n",
       "      <td>sp|Q9NYH9|UTP6_HUMAN</td>\n",
       "      <td>ELEIESQTEEQPTTKQAKAVEVGR</td>\n",
       "      <td>0</td>\n",
       "    </tr>\n",
       "    <tr>\n",
       "      <th>573977</th>\n",
       "      <td>R.PDQQLQGEGK.I</td>\n",
       "      <td>GIRRVGRRPDQQLQG</td>\n",
       "      <td>QQLQGEGKIIDRRPE</td>\n",
       "      <td>-</td>\n",
       "      <td>-</td>\n",
       "      <td>sp|Q8NC51|PAIRB_HUMAN</td>\n",
       "      <td>PDQQLQGEGK</td>\n",
       "      <td>0</td>\n",
       "    </tr>\n",
       "    <tr>\n",
       "      <th>189636</th>\n",
       "      <td>R.VDYVIFDNFR.L</td>\n",
       "      <td>CTNNTQLRVDYVIFD</td>\n",
       "      <td>YVIFDNFRLDEKTEF</td>\n",
       "      <td>-</td>\n",
       "      <td>-</td>\n",
       "      <td>sp|Q17R55|F187B_HUMAN</td>\n",
       "      <td>VDYVIFDNFR</td>\n",
       "      <td>1</td>\n",
       "    </tr>\n",
       "    <tr>\n",
       "      <th>585903</th>\n",
       "      <td>K.LEKEEEEDDGDLPVVAEFVDER.P</td>\n",
       "      <td>WTAISTTKLEKEEEE</td>\n",
       "      <td>VAEFVDERPEEVKQM</td>\n",
       "      <td>ISTTKLEKEEEEDDG</td>\n",
       "      <td>-</td>\n",
       "      <td>sp|Q9BRD0|BUD13_HUMAN</td>\n",
       "      <td>LEKEEEEDDGDLPVVAEFVDER</td>\n",
       "      <td>0</td>\n",
       "    </tr>\n",
       "  </tbody>\n",
       "</table>\n",
       "<p>543516 rows × 8 columns</p>\n",
       "</div>"
      ],
      "text/plain": [
       "                                   peptide               En               Ec  \\\n",
       "595411  K.QELNEPPKQSTSFLVLQEILESEEKGDPNK.P  VYKMLQEKQELNEPP  EEKGDPNKPSGFRSV   \n",
       "417883                         K.LEDQEQR.A  RARMHIQKLEDQEQR  KLEDQEQRARQLKER   \n",
       "257604       R.VANTSTQTMGPRPAAAAAAATPAVR.T  PRVMSTQRVANTSTQ  AAATPAVRTVPQYKY   \n",
       "357477                         R.QGHELAK.Q  TQPHCSPRQGHELAK  RQGHELAKQEIRVRV   \n",
       "513549     K.SHLVHHQKIHSEERLVCSMNVGNSLAK.T  CQKAFIRKSHLVHHQ  NVGNSLAKTPTSLNI   \n",
       "...                                    ...              ...              ...   \n",
       "328599               K.LAEEESCREDVTRVCPK.H  AGAGGGWKLAEEESC  DVTRVCPKHTWSNNL   \n",
       "535030        R.ELEIESQTEEQPTTKQAKAVEVGR.K  TWDYVARRELEIESQ  AKAVEVGRKEERCCA   \n",
       "573977                      R.PDQQLQGEGK.I  GIRRVGRRPDQQLQG  QQLQGEGKIIDRRPE   \n",
       "189636                      R.VDYVIFDNFR.L  CTNNTQLRVDYVIFD  YVIFDNFRLDEKTEF   \n",
       "585903          K.LEKEEEEDDGDLPVVAEFVDER.P  WTAISTTKLEKEEEE  VAEFVDERPEEVKQM   \n",
       "\n",
       "                     E1               E2                protein  \\\n",
       "595411  QELNEPPKQSTSFLV  EILESEEKGDPNKPS  sp|O00151|PDLI1_HUMAN   \n",
       "417883                -                -   sp|Q9BW11|MAD3_HUMAN   \n",
       "257604  STQTMGPRPAAAAAA                -  sp|P11940|PABP1_HUMAN   \n",
       "357477                -                -  sp|Q96RT1|ERBIN_HUMAN   \n",
       "513549  SHLVHHQKIHSEERL  QKIHSEERLVCSMNV  sp|Q8NEK5|ZN548_HUMAN   \n",
       "...                 ...              ...                    ...   \n",
       "328599  LAEEESCREDVTRVC  SCREDVTRVCPKHTW  sp|Q92896|GSLG1_HUMAN   \n",
       "535030  TEEQPTTKQAKAVEV  QPTTKQAKAVEVGRK   sp|Q9NYH9|UTP6_HUMAN   \n",
       "573977                -                -  sp|Q8NC51|PAIRB_HUMAN   \n",
       "189636                -                -  sp|Q17R55|F187B_HUMAN   \n",
       "585903  ISTTKLEKEEEEDDG                -  sp|Q9BRD0|BUD13_HUMAN   \n",
       "\n",
       "                                   PEP  ID  \n",
       "595411  QELNEPPKQSTSFLVLQEILESEEKGDPNK   0  \n",
       "417883                         LEDQEQR   0  \n",
       "257604       VANTSTQTMGPRPAAAAAAATPAVR   1  \n",
       "357477                         QGHELAK   0  \n",
       "513549     SHLVHHQKIHSEERLVCSMNVGNSLAK   0  \n",
       "...                                ...  ..  \n",
       "328599               LAEEESCREDVTRVCPK   1  \n",
       "535030        ELEIESQTEEQPTTKQAKAVEVGR   0  \n",
       "573977                      PDQQLQGEGK   0  \n",
       "189636                      VDYVIFDNFR   1  \n",
       "585903          LEKEEEEDDGDLPVVAEFVDER   0  \n",
       "\n",
       "[543516 rows x 8 columns]"
      ]
     },
     "execution_count": 24,
     "metadata": {},
     "output_type": "execute_result"
    }
   ],
   "source": [
    "train"
   ]
  },
  {
   "cell_type": "markdown",
   "metadata": {},
   "source": [
    "# Train"
   ]
  },
  {
   "cell_type": "code",
   "execution_count": 8,
   "metadata": {
    "ExecuteTime": {
     "end_time": "2021-11-14T17:40:25.864950Z",
     "start_time": "2021-11-14T17:40:24.867514Z"
    }
   },
   "outputs": [],
   "source": [
    "from tensorflow.python.client import device_lib\n",
    "\n",
    "import tensorflow as tf\n",
    "gpus = tf.config.experimental.list_physical_devices('GPU')\n",
    "if gpus:\n",
    "    try:\n",
    "        tf.config.experimental.set_virtual_device_configuration(gpus[0],\n",
    "        [tf.config.experimental.VirtualDeviceConfiguration(memory_limit=1024*4)])\n",
    "    except RuntimeError as e:\n",
    "        print(e)"
   ]
  },
  {
   "cell_type": "code",
   "execution_count": 9,
   "metadata": {
    "ExecuteTime": {
     "end_time": "2021-11-14T17:40:25.869271Z",
     "start_time": "2021-11-14T17:40:25.866486Z"
    }
   },
   "outputs": [],
   "source": [
    "def plot_graphs(history, metric):\n",
    "    plt.plot(history.history[metric])\n",
    "    plt.plot(history.history['val_'+metric], '')\n",
    "    plt.xlabel(\"Epochs\")\n",
    "    plt.ylabel(metric)\n",
    "    plt.legend([metric, 'val_'+metric])"
   ]
  },
  {
   "cell_type": "markdown",
   "metadata": {},
   "source": [
    "# high param"
   ]
  },
  {
   "cell_type": "code",
   "execution_count": 10,
   "metadata": {
    "ExecuteTime": {
     "end_time": "2021-11-14T17:40:25.883312Z",
     "start_time": "2021-11-14T17:40:25.870390Z"
    }
   },
   "outputs": [],
   "source": [
    "from tensorflow import keras"
   ]
  },
  {
   "cell_type": "code",
   "execution_count": 23,
   "metadata": {
    "ExecuteTime": {
     "end_time": "2021-11-14T20:28:57.875034Z",
     "start_time": "2021-11-14T20:28:51.272064Z"
    },
    "scrolled": false
   },
   "outputs": [
    {
     "name": "stdout",
     "output_type": "stream",
     "text": [
      "Model: \"model_9\"\n",
      "__________________________________________________________________________________________________\n",
      "Layer (type)                    Output Shape         Param #     Connected to                     \n",
      "==================================================================================================\n",
      "input_58 (InputLayer)           [(None, 30)]         0                                            \n",
      "__________________________________________________________________________________________________\n",
      "input_60 (InputLayer)           [(None, 15)]         0                                            \n",
      "__________________________________________________________________________________________________\n",
      "input_61 (InputLayer)           [(None, 15)]         0                                            \n",
      "__________________________________________________________________________________________________\n",
      "input_62 (InputLayer)           [(None, 15)]         0                                            \n",
      "__________________________________________________________________________________________________\n",
      "input_63 (InputLayer)           [(None, 15)]         0                                            \n",
      "__________________________________________________________________________________________________\n",
      "embedding_48 (Embedding)        (None, 30, 128)      2688        input_58[0][0]                   \n",
      "__________________________________________________________________________________________________\n",
      "embedding_49 (Embedding)        (None, 15, 32)       672         input_60[0][0]                   \n",
      "__________________________________________________________________________________________________\n",
      "embedding_50 (Embedding)        (None, 15, 32)       672         input_61[0][0]                   \n",
      "__________________________________________________________________________________________________\n",
      "embedding_51 (Embedding)        (None, 15, 32)       672         input_62[0][0]                   \n",
      "__________________________________________________________________________________________________\n",
      "embedding_52 (Embedding)        (None, 15, 32)       672         input_63[0][0]                   \n",
      "__________________________________________________________________________________________________\n",
      "dropout_120 (Dropout)           (None, 30, 128)      0           embedding_48[0][0]               \n",
      "__________________________________________________________________________________________________\n",
      "dropout_121 (Dropout)           (None, 15, 32)       0           embedding_49[0][0]               \n",
      "__________________________________________________________________________________________________\n",
      "dropout_122 (Dropout)           (None, 15, 32)       0           embedding_50[0][0]               \n",
      "__________________________________________________________________________________________________\n",
      "dropout_123 (Dropout)           (None, 15, 32)       0           embedding_51[0][0]               \n",
      "__________________________________________________________________________________________________\n",
      "dropout_124 (Dropout)           (None, 15, 32)       0           embedding_52[0][0]               \n",
      "__________________________________________________________________________________________________\n",
      "bidirectional_45 (Bidirectional (None, 256)          263168      dropout_120[0][0]                \n",
      "__________________________________________________________________________________________________\n",
      "input_59 (InputLayer)           [(None, 39)]         0                                            \n",
      "__________________________________________________________________________________________________\n",
      "bidirectional_46 (Bidirectional (None, 64)           16640       dropout_121[0][0]                \n",
      "__________________________________________________________________________________________________\n",
      "bidirectional_47 (Bidirectional (None, 64)           16640       dropout_122[0][0]                \n",
      "__________________________________________________________________________________________________\n",
      "bidirectional_48 (Bidirectional (None, 64)           16640       dropout_123[0][0]                \n",
      "__________________________________________________________________________________________________\n",
      "bidirectional_49 (Bidirectional (None, 64)           16640       dropout_124[0][0]                \n",
      "__________________________________________________________________________________________________\n",
      "dense_81 (Dense)                (None, 128)          32896       bidirectional_45[0][0]           \n",
      "__________________________________________________________________________________________________\n",
      "dense_82 (Dense)                (None, 32)           1280        input_59[0][0]                   \n",
      "__________________________________________________________________________________________________\n",
      "dense_83 (Dense)                (None, 32)           2080        bidirectional_46[0][0]           \n",
      "__________________________________________________________________________________________________\n",
      "dense_84 (Dense)                (None, 32)           2080        bidirectional_47[0][0]           \n",
      "__________________________________________________________________________________________________\n",
      "dense_85 (Dense)                (None, 32)           2080        bidirectional_48[0][0]           \n",
      "__________________________________________________________________________________________________\n",
      "dense_86 (Dense)                (None, 32)           2080        bidirectional_49[0][0]           \n",
      "__________________________________________________________________________________________________\n",
      "dropout_125 (Dropout)           (None, 128)          0           dense_81[0][0]                   \n",
      "__________________________________________________________________________________________________\n",
      "dropout_126 (Dropout)           (None, 32)           0           dense_82[0][0]                   \n",
      "__________________________________________________________________________________________________\n",
      "dropout_127 (Dropout)           (None, 32)           0           dense_83[0][0]                   \n",
      "__________________________________________________________________________________________________\n",
      "dropout_128 (Dropout)           (None, 32)           0           dense_84[0][0]                   \n",
      "__________________________________________________________________________________________________\n",
      "dropout_129 (Dropout)           (None, 32)           0           dense_85[0][0]                   \n",
      "__________________________________________________________________________________________________\n",
      "dropout_130 (Dropout)           (None, 32)           0           dense_86[0][0]                   \n",
      "__________________________________________________________________________________________________\n",
      "concatenate_16 (Concatenate)    (None, 288)          0           dropout_125[0][0]                \n",
      "                                                                 dropout_126[0][0]                \n",
      "                                                                 dropout_127[0][0]                \n",
      "                                                                 dropout_128[0][0]                \n",
      "                                                                 dropout_129[0][0]                \n",
      "                                                                 dropout_130[0][0]                \n",
      "__________________________________________________________________________________________________\n",
      "dense_87 (Dense)                (None, 256)          73984       concatenate_16[0][0]             \n",
      "__________________________________________________________________________________________________\n",
      "dropout_131 (Dropout)           (None, 256)          0           dense_87[0][0]                   \n",
      "__________________________________________________________________________________________________\n",
      "dense_88 (Dense)                (None, 128)          32896       dropout_131[0][0]                \n",
      "__________________________________________________________________________________________________\n",
      "dropout_132 (Dropout)           (None, 128)          0           dense_88[0][0]                   \n",
      "__________________________________________________________________________________________________\n",
      "dense_89 (Dense)                (None, 1)            129         dropout_132[0][0]                \n",
      "==================================================================================================\n",
      "Total params: 484,609\n",
      "Trainable params: 484,609\n",
      "Non-trainable params: 0\n",
      "__________________________________________________________________________________________________\n"
     ]
    }
   ],
   "source": [
    "pep = tf.keras.layers.Input(shape=((30,)))\n",
    "pep_embed = tf.keras.layers.Embedding(21, 128, input_length=30, mask_zero=True)(pep)\n",
    "pep_embed = tf.keras.layers.Dropout(np.random.uniform(0, 0.2))(pep_embed)\n",
    "pep_input = tf.keras.layers.concatenate([np.array([float(1)]*870), pep_embed[0][0]])\n",
    "\n",
    "meta = tf.keras.layers.Input(shape=((39,)))  # peptide info\n",
    "\n",
    "n = tf.keras.layers.Input(shape=((15,)))\n",
    "n_embed = tf.keras.layers.Embedding(21, 32, input_length=15, mask_zero=True)(n)\n",
    "n_embed = tf.keras.layers.Dropout(np.random.uniform(0, 0.2))(n_embed)\n",
    "\n",
    "c = tf.keras.layers.Input(shape=((15,)))\n",
    "c_embed = tf.keras.layers.Embedding(21, 32, input_length=15, mask_zero=True)(c)\n",
    "c_embed = tf.keras.layers.Dropout(np.random.uniform(0, 0.2))(c_embed)\n",
    "\n",
    "m1 = tf.keras.layers.Input(shape=((15,)))\n",
    "m1_embed = tf.keras.layers.Embedding(21, 32, input_length=15, mask_zero=True)(m1)\n",
    "m1_embed = tf.keras.layers.Dropout(np.random.uniform(0, 0.2))(m1_embed)\n",
    "\n",
    "m2 = tf.keras.layers.Input(shape=((15,)))\n",
    "m2_embed = tf.keras.layers.Embedding(21, 32, input_length=15, mask_zero=True)(m2)\n",
    "m2_embed = tf.keras.layers.Dropout(np.random.uniform(0, 0.2))(m2_embed)\n",
    "\n",
    "\n",
    "\n",
    "pep_lstm = tf.keras.layers.Bidirectional(tf.keras.layers.LSTM(128))(pep_embed)\n",
    "pep_lstm = tf.keras.layers.Dense(128, activation='relu')(pep_lstm)\n",
    "pep_lstm = tf.keras.layers.Dropout(np.random.uniform(0, 0.2))(pep_lstm)\n",
    "\n",
    "net_meta = tf.keras.layers.Dense(32, activation='relu')(meta)\n",
    "net_meta = tf.keras.layers.Dropout(np.random.uniform(0, 0.2))(net_meta)\n",
    "\n",
    "n_lstm = tf.keras.layers.Bidirectional(tf.keras.layers.LSTM(32))(n_embed)\n",
    "n_lstm = tf.keras.layers.Dense(32, activation='relu')(n_lstm)\n",
    "n_lstm = tf.keras.layers.Dropout(np.random.uniform(0, 0.2))(n_lstm)\n",
    "\n",
    "c_lstm = tf.keras.layers.Bidirectional(tf.keras.layers.LSTM(32))(c_embed)\n",
    "c_lstm = tf.keras.layers.Dense(32, activation='relu')(c_lstm)\n",
    "c_lstm = tf.keras.layers.Dropout(np.random.uniform(0, 0.2))(c_lstm)\n",
    "\n",
    "m1_lstm = tf.keras.layers.Bidirectional(tf.keras.layers.LSTM(32))(m1_embed)\n",
    "m1_lstm = tf.keras.layers.Dense(32, activation='relu')(m1_lstm)\n",
    "m1_lstm = tf.keras.layers.Dropout(np.random.uniform(0, 0.2))(m1_lstm)\n",
    "\n",
    "m2_lstm = tf.keras.layers.Bidirectional(tf.keras.layers.LSTM(32))(m2_embed)\n",
    "m2_lstm = tf.keras.layers.Dense(32, activation='relu')(m2_lstm)\n",
    "m2_lstm = tf.keras.layers.Dropout(np.random.uniform(0, 0.2))(m2_lstm)\n",
    "\n",
    "merge = tf.keras.layers.concatenate([pep_lstm, \n",
    "                                     net_meta,\n",
    "                                     n_lstm,\n",
    "                                     c_lstm,\n",
    "                                     m1_lstm,\n",
    "                                     m2_lstm])\n",
    "\n",
    "net_merge = tf.keras.layers.Dense(256, activation='relu')(merge)\n",
    "net_merge = tf.keras.layers.Dropout(np.random.uniform(0, 0.2))(net_merge)\n",
    "net_merge = tf.keras.layers.Dense(128, activation='relu')(net_merge)\n",
    "net_merge = tf.keras.layers.Dropout(np.random.uniform(0, 0.2))(net_merge)\n",
    "\n",
    "output = tf.keras.layers.Dense(1, activation = 'sigmoid')(net_merge)\n",
    "\n",
    "model_high = tf.keras.Model(inputs=[pep, meta, n, c, m1, m2],\n",
    "                            outputs=[output])\n",
    "\n",
    "model_high.summary()\n",
    "\n",
    "model_high.compile(loss=tf.keras.losses.BinaryCrossentropy(from_logits=True),\n",
    "              optimizer=tf.keras.optimizers.Adam(1e-4),\n",
    "              metrics=['accuracy'])\n",
    "\n",
    "es = tf.keras.callbacks.EarlyStopping(monitor='val_loss',\n",
    "                                      mode='min', \n",
    "                                      verbose=1,\n",
    "                                      patience=50)"
   ]
  },
  {
   "cell_type": "code",
   "execution_count": 11,
   "metadata": {
    "ExecuteTime": {
     "end_time": "2021-11-11T13:29:23.911089Z",
     "start_time": "2021-11-11T10:40:23.421333Z"
    },
    "scrolled": true
   },
   "outputs": [
    {
     "name": "stdout",
     "output_type": "stream",
     "text": [
      "Epoch 1/100\n",
      "4247/4247 [==============================] - 127s 25ms/step - loss: 5.4538 - accuracy: 0.5924 - val_loss: 0.5405 - val_accuracy: 0.7376\n",
      "Epoch 2/100\n",
      "4247/4247 [==============================] - 102s 24ms/step - loss: 0.5768 - accuracy: 0.7108 - val_loss: 0.5061 - val_accuracy: 0.7557\n",
      "Epoch 3/100\n",
      "4247/4247 [==============================] - 102s 24ms/step - loss: 0.5243 - accuracy: 0.7360 - val_loss: 0.4838 - val_accuracy: 0.7699\n",
      "Epoch 4/100\n",
      "4247/4247 [==============================] - 101s 24ms/step - loss: 0.5001 - accuracy: 0.7511 - val_loss: 0.4731 - val_accuracy: 0.7761\n",
      "Epoch 5/100\n",
      "4247/4247 [==============================] - 102s 24ms/step - loss: 0.4869 - accuracy: 0.7668 - val_loss: 0.4601 - val_accuracy: 0.7834\n",
      "Epoch 6/100\n",
      "4247/4247 [==============================] - 102s 24ms/step - loss: 0.4717 - accuracy: 0.7781 - val_loss: 0.4539 - val_accuracy: 0.7866\n",
      "Epoch 7/100\n",
      "4247/4247 [==============================] - 102s 24ms/step - loss: 0.4650 - accuracy: 0.7816 - val_loss: 0.4499 - val_accuracy: 0.7887\n",
      "Epoch 8/100\n",
      "4247/4247 [==============================] - 103s 24ms/step - loss: 0.4575 - accuracy: 0.7864 - val_loss: 0.4415 - val_accuracy: 0.7943\n",
      "Epoch 9/100\n",
      "4247/4247 [==============================] - 103s 24ms/step - loss: 0.4519 - accuracy: 0.7889 - val_loss: 0.4404 - val_accuracy: 0.7963\n",
      "Epoch 10/100\n",
      "4247/4247 [==============================] - 102s 24ms/step - loss: 0.4475 - accuracy: 0.7922 - val_loss: 0.4342 - val_accuracy: 0.7994\n",
      "Epoch 11/100\n",
      "4247/4247 [==============================] - 103s 24ms/step - loss: 0.4422 - accuracy: 0.7950 - val_loss: 0.4292 - val_accuracy: 0.8021\n",
      "Epoch 12/100\n",
      "4247/4247 [==============================] - 103s 24ms/step - loss: 0.4383 - accuracy: 0.7979 - val_loss: 0.4246 - val_accuracy: 0.8052\n",
      "Epoch 13/100\n",
      "4247/4247 [==============================] - 102s 24ms/step - loss: 0.4343 - accuracy: 0.7999 - val_loss: 0.4230 - val_accuracy: 0.8067\n",
      "Epoch 14/100\n",
      "4247/4247 [==============================] - 101s 24ms/step - loss: 0.4300 - accuracy: 0.8020 - val_loss: 0.4208 - val_accuracy: 0.8072\n",
      "Epoch 15/100\n",
      "4247/4247 [==============================] - 104s 24ms/step - loss: 0.4266 - accuracy: 0.8037 - val_loss: 0.4211 - val_accuracy: 0.8066\n",
      "Epoch 16/100\n",
      "4247/4247 [==============================] - 101s 24ms/step - loss: 0.4260 - accuracy: 0.8041 - val_loss: 0.4156 - val_accuracy: 0.8105\n",
      "Epoch 17/100\n",
      "4247/4247 [==============================] - 101s 24ms/step - loss: 0.4227 - accuracy: 0.8064 - val_loss: 0.4150 - val_accuracy: 0.8117\n",
      "Epoch 18/100\n",
      "4247/4247 [==============================] - 100s 24ms/step - loss: 0.4216 - accuracy: 0.8068 - val_loss: 0.4123 - val_accuracy: 0.8126\n",
      "Epoch 19/100\n",
      "4247/4247 [==============================] - 100s 24ms/step - loss: 0.4194 - accuracy: 0.8079 - val_loss: 0.4114 - val_accuracy: 0.8128\n",
      "Epoch 20/100\n",
      "4247/4247 [==============================] - 101s 24ms/step - loss: 0.4182 - accuracy: 0.8090 - val_loss: 0.4098 - val_accuracy: 0.8139\n",
      "Epoch 21/100\n",
      "4247/4247 [==============================] - 101s 24ms/step - loss: 0.4169 - accuracy: 0.8092 - val_loss: 0.4081 - val_accuracy: 0.8151\n",
      "Epoch 22/100\n",
      "4247/4247 [==============================] - 102s 24ms/step - loss: 0.4167 - accuracy: 0.8097 - val_loss: 0.4116 - val_accuracy: 0.8128\n",
      "Epoch 23/100\n",
      "4247/4247 [==============================] - 101s 24ms/step - loss: 0.4153 - accuracy: 0.8112 - val_loss: 0.4085 - val_accuracy: 0.8151\n",
      "Epoch 24/100\n",
      "4247/4247 [==============================] - 102s 24ms/step - loss: 0.4143 - accuracy: 0.8119 - val_loss: 0.4088 - val_accuracy: 0.8154\n",
      "Epoch 25/100\n",
      "4247/4247 [==============================] - 101s 24ms/step - loss: 0.4134 - accuracy: 0.8121 - val_loss: 0.4050 - val_accuracy: 0.8171\n",
      "Epoch 26/100\n",
      "4247/4247 [==============================] - 102s 24ms/step - loss: 0.4123 - accuracy: 0.8118 - val_loss: 0.4044 - val_accuracy: 0.8175\n",
      "Epoch 27/100\n",
      "4247/4247 [==============================] - 101s 24ms/step - loss: 0.4116 - accuracy: 0.8127 - val_loss: 0.4033 - val_accuracy: 0.8180\n",
      "Epoch 28/100\n",
      "4247/4247 [==============================] - 102s 24ms/step - loss: 0.4087 - accuracy: 0.8136 - val_loss: 0.4033 - val_accuracy: 0.8183\n",
      "Epoch 29/100\n",
      "4247/4247 [==============================] - 102s 24ms/step - loss: 0.4096 - accuracy: 0.8134 - val_loss: 0.4091 - val_accuracy: 0.8155\n",
      "Epoch 30/100\n",
      "4247/4247 [==============================] - 101s 24ms/step - loss: 0.4093 - accuracy: 0.8138 - val_loss: 0.4044 - val_accuracy: 0.8174\n",
      "Epoch 31/100\n",
      "4247/4247 [==============================] - 102s 24ms/step - loss: 0.4072 - accuracy: 0.8147 - val_loss: 0.4028 - val_accuracy: 0.8184\n",
      "Epoch 32/100\n",
      "4247/4247 [==============================] - 102s 24ms/step - loss: 0.4068 - accuracy: 0.8159 - val_loss: 0.4012 - val_accuracy: 0.8196\n",
      "Epoch 33/100\n",
      "4247/4247 [==============================] - 101s 24ms/step - loss: 0.4063 - accuracy: 0.8157 - val_loss: 0.4022 - val_accuracy: 0.8188\n",
      "Epoch 34/100\n",
      "4247/4247 [==============================] - 102s 24ms/step - loss: 0.4054 - accuracy: 0.8160 - val_loss: 0.4004 - val_accuracy: 0.8199\n",
      "Epoch 35/100\n",
      "4247/4247 [==============================] - 102s 24ms/step - loss: 0.4042 - accuracy: 0.8165 - val_loss: 0.4022 - val_accuracy: 0.8184\n",
      "Epoch 36/100\n",
      "4247/4247 [==============================] - 102s 24ms/step - loss: 0.4047 - accuracy: 0.8166 - val_loss: 0.3994 - val_accuracy: 0.8205\n",
      "Epoch 37/100\n",
      "4247/4247 [==============================] - 102s 24ms/step - loss: 0.4045 - accuracy: 0.8168 - val_loss: 0.3982 - val_accuracy: 0.8215\n",
      "Epoch 38/100\n",
      "4247/4247 [==============================] - 102s 24ms/step - loss: 0.4035 - accuracy: 0.8169 - val_loss: 0.3983 - val_accuracy: 0.8208\n",
      "Epoch 39/100\n",
      "4247/4247 [==============================] - 102s 24ms/step - loss: 0.4017 - accuracy: 0.8178 - val_loss: 0.3971 - val_accuracy: 0.8215\n",
      "Epoch 40/100\n",
      "4247/4247 [==============================] - 101s 24ms/step - loss: 0.4016 - accuracy: 0.8177 - val_loss: 0.4011 - val_accuracy: 0.8190\n",
      "Epoch 41/100\n",
      "4247/4247 [==============================] - 102s 24ms/step - loss: 0.4004 - accuracy: 0.8186 - val_loss: 0.3969 - val_accuracy: 0.8216\n",
      "Epoch 42/100\n",
      "4247/4247 [==============================] - 102s 24ms/step - loss: 0.3986 - accuracy: 0.8193 - val_loss: 0.3984 - val_accuracy: 0.8203\n",
      "Epoch 43/100\n",
      "4247/4247 [==============================] - 101s 24ms/step - loss: 0.4004 - accuracy: 0.8183 - val_loss: 0.3957 - val_accuracy: 0.8226\n",
      "Epoch 44/100\n",
      "4247/4247 [==============================] - 101s 24ms/step - loss: 0.4006 - accuracy: 0.8183 - val_loss: 0.3947 - val_accuracy: 0.8227\n",
      "Epoch 45/100\n",
      "4247/4247 [==============================] - 102s 24ms/step - loss: 0.3986 - accuracy: 0.8199 - val_loss: 0.3956 - val_accuracy: 0.8220\n",
      "Epoch 46/100\n",
      "4247/4247 [==============================] - 102s 24ms/step - loss: 0.3973 - accuracy: 0.8207 - val_loss: 0.3966 - val_accuracy: 0.8218\n",
      "Epoch 47/100\n",
      "4247/4247 [==============================] - 101s 24ms/step - loss: 0.3991 - accuracy: 0.8194 - val_loss: 0.3934 - val_accuracy: 0.8232\n",
      "Epoch 48/100\n",
      "4247/4247 [==============================] - 101s 24ms/step - loss: 0.3972 - accuracy: 0.8207 - val_loss: 0.3961 - val_accuracy: 0.8216\n",
      "Epoch 49/100\n",
      "4247/4247 [==============================] - 101s 24ms/step - loss: 0.3967 - accuracy: 0.8207 - val_loss: 0.3924 - val_accuracy: 0.8238\n",
      "Epoch 50/100\n",
      "4247/4247 [==============================] - 102s 24ms/step - loss: 0.3962 - accuracy: 0.8209 - val_loss: 0.3962 - val_accuracy: 0.8213\n",
      "Epoch 51/100\n",
      "4247/4247 [==============================] - 101s 24ms/step - loss: 0.3964 - accuracy: 0.8207 - val_loss: 0.3959 - val_accuracy: 0.8215\n",
      "Epoch 52/100\n",
      "4247/4247 [==============================] - 101s 24ms/step - loss: 0.3956 - accuracy: 0.8215 - val_loss: 0.3940 - val_accuracy: 0.8231\n",
      "Epoch 53/100\n",
      "4247/4247 [==============================] - 101s 24ms/step - loss: 0.3947 - accuracy: 0.8225 - val_loss: 0.3925 - val_accuracy: 0.8240\n",
      "Epoch 54/100\n",
      "4247/4247 [==============================] - 103s 24ms/step - loss: 0.3939 - accuracy: 0.8223 - val_loss: 0.3915 - val_accuracy: 0.8242\n",
      "Epoch 55/100\n",
      "4247/4247 [==============================] - 102s 24ms/step - loss: 0.3940 - accuracy: 0.8214 - val_loss: 0.3916 - val_accuracy: 0.8247\n",
      "Epoch 56/100\n"
     ]
    },
    {
     "name": "stdout",
     "output_type": "stream",
     "text": [
      "4247/4247 [==============================] - 102s 24ms/step - loss: 0.3939 - accuracy: 0.8229 - val_loss: 0.3908 - val_accuracy: 0.8248\n",
      "Epoch 57/100\n",
      "4247/4247 [==============================] - 101s 24ms/step - loss: 0.3930 - accuracy: 0.8226 - val_loss: 0.3915 - val_accuracy: 0.8241\n",
      "Epoch 58/100\n",
      "4247/4247 [==============================] - 101s 24ms/step - loss: 0.3918 - accuracy: 0.8233 - val_loss: 0.3908 - val_accuracy: 0.8250\n",
      "Epoch 59/100\n",
      "4247/4247 [==============================] - 102s 24ms/step - loss: 0.3918 - accuracy: 0.8238 - val_loss: 0.3905 - val_accuracy: 0.8250\n",
      "Epoch 60/100\n",
      "4247/4247 [==============================] - 102s 24ms/step - loss: 0.3932 - accuracy: 0.8224 - val_loss: 0.3907 - val_accuracy: 0.8251\n",
      "Epoch 61/100\n",
      "4247/4247 [==============================] - 102s 24ms/step - loss: 0.3942 - accuracy: 0.8224 - val_loss: 0.3898 - val_accuracy: 0.8258\n",
      "Epoch 62/100\n",
      "4247/4247 [==============================] - 102s 24ms/step - loss: 0.3903 - accuracy: 0.8244 - val_loss: 0.3924 - val_accuracy: 0.8234\n",
      "Epoch 63/100\n",
      "4247/4247 [==============================] - 103s 24ms/step - loss: 0.3921 - accuracy: 0.8232 - val_loss: 0.3927 - val_accuracy: 0.8237\n",
      "Epoch 64/100\n",
      "4247/4247 [==============================] - 101s 24ms/step - loss: 0.3907 - accuracy: 0.8244 - val_loss: 0.3903 - val_accuracy: 0.8244\n",
      "Epoch 65/100\n",
      "4247/4247 [==============================] - 102s 24ms/step - loss: 0.3907 - accuracy: 0.8242 - val_loss: 0.3925 - val_accuracy: 0.8242\n",
      "Epoch 66/100\n",
      "4247/4247 [==============================] - 102s 24ms/step - loss: 0.3908 - accuracy: 0.8243 - val_loss: 0.3885 - val_accuracy: 0.8260\n",
      "Epoch 67/100\n",
      "4247/4247 [==============================] - 101s 24ms/step - loss: 0.3909 - accuracy: 0.8240 - val_loss: 0.3886 - val_accuracy: 0.8262\n",
      "Epoch 68/100\n",
      "4247/4247 [==============================] - 101s 24ms/step - loss: 0.3896 - accuracy: 0.8245 - val_loss: 0.3877 - val_accuracy: 0.8261\n",
      "Epoch 69/100\n",
      "4247/4247 [==============================] - 101s 24ms/step - loss: 0.3897 - accuracy: 0.8249 - val_loss: 0.3871 - val_accuracy: 0.8269\n",
      "Epoch 70/100\n",
      "4247/4247 [==============================] - 103s 24ms/step - loss: 0.3899 - accuracy: 0.8245 - val_loss: 0.3886 - val_accuracy: 0.8261\n",
      "Epoch 71/100\n",
      "4247/4247 [==============================] - 102s 24ms/step - loss: 0.3905 - accuracy: 0.8235 - val_loss: 0.3871 - val_accuracy: 0.8264\n",
      "Epoch 72/100\n",
      "4247/4247 [==============================] - 102s 24ms/step - loss: 0.3888 - accuracy: 0.8252 - val_loss: 0.3888 - val_accuracy: 0.8260\n",
      "Epoch 73/100\n",
      "4247/4247 [==============================] - 102s 24ms/step - loss: 0.3881 - accuracy: 0.8253 - val_loss: 0.3867 - val_accuracy: 0.8268\n",
      "Epoch 74/100\n",
      "4247/4247 [==============================] - 99s 23ms/step - loss: 0.3868 - accuracy: 0.8264 - val_loss: 0.3874 - val_accuracy: 0.8269\n",
      "Epoch 75/100\n",
      "4247/4247 [==============================] - 100s 24ms/step - loss: 0.3877 - accuracy: 0.8254 - val_loss: 0.3863 - val_accuracy: 0.8274\n",
      "Epoch 76/100\n",
      "4247/4247 [==============================] - 99s 23ms/step - loss: 0.3874 - accuracy: 0.8260 - val_loss: 0.3881 - val_accuracy: 0.8269\n",
      "Epoch 77/100\n",
      "4247/4247 [==============================] - 99s 23ms/step - loss: 0.3864 - accuracy: 0.8262 - val_loss: 0.3861 - val_accuracy: 0.8274\n",
      "Epoch 78/100\n",
      "4247/4247 [==============================] - 101s 24ms/step - loss: 0.3856 - accuracy: 0.8265 - val_loss: 0.3866 - val_accuracy: 0.8270\n",
      "Epoch 79/100\n",
      "4247/4247 [==============================] - 100s 24ms/step - loss: 0.3866 - accuracy: 0.8263 - val_loss: 0.3873 - val_accuracy: 0.8267\n",
      "Epoch 80/100\n",
      "4247/4247 [==============================] - 100s 24ms/step - loss: 0.3867 - accuracy: 0.8267 - val_loss: 0.3849 - val_accuracy: 0.8284\n",
      "Epoch 81/100\n",
      "4247/4247 [==============================] - 100s 24ms/step - loss: 0.3858 - accuracy: 0.8271 - val_loss: 0.3858 - val_accuracy: 0.8276\n",
      "Epoch 82/100\n",
      "4247/4247 [==============================] - 100s 23ms/step - loss: 0.3870 - accuracy: 0.8255 - val_loss: 0.3845 - val_accuracy: 0.8280\n",
      "Epoch 83/100\n",
      "4247/4247 [==============================] - 99s 23ms/step - loss: 0.3847 - accuracy: 0.8272 - val_loss: 0.3917 - val_accuracy: 0.8229\n",
      "Epoch 84/100\n",
      "4247/4247 [==============================] - 100s 23ms/step - loss: 0.3842 - accuracy: 0.8275 - val_loss: 0.3847 - val_accuracy: 0.8282\n",
      "Epoch 85/100\n",
      "4247/4247 [==============================] - 99s 23ms/step - loss: 0.3844 - accuracy: 0.8283 - val_loss: 0.3847 - val_accuracy: 0.8274\n",
      "Epoch 86/100\n",
      "4247/4247 [==============================] - 99s 23ms/step - loss: 0.3848 - accuracy: 0.8271 - val_loss: 0.3855 - val_accuracy: 0.8280\n",
      "Epoch 87/100\n",
      "4247/4247 [==============================] - 99s 23ms/step - loss: 0.3848 - accuracy: 0.8274 - val_loss: 0.3837 - val_accuracy: 0.8285\n",
      "Epoch 88/100\n",
      "4247/4247 [==============================] - 99s 23ms/step - loss: 0.3854 - accuracy: 0.8270 - val_loss: 0.3845 - val_accuracy: 0.8283\n",
      "Epoch 89/100\n",
      "4247/4247 [==============================] - 99s 23ms/step - loss: 0.3850 - accuracy: 0.8272 - val_loss: 0.3844 - val_accuracy: 0.8278\n",
      "Epoch 90/100\n",
      "4247/4247 [==============================] - 99s 23ms/step - loss: 0.3842 - accuracy: 0.8275 - val_loss: 0.3836 - val_accuracy: 0.8289\n",
      "Epoch 91/100\n",
      "4247/4247 [==============================] - 99s 23ms/step - loss: 0.3825 - accuracy: 0.8279 - val_loss: 0.3841 - val_accuracy: 0.8285\n",
      "Epoch 92/100\n",
      "4247/4247 [==============================] - 100s 23ms/step - loss: 0.3832 - accuracy: 0.8281 - val_loss: 0.3851 - val_accuracy: 0.8272\n",
      "Epoch 93/100\n",
      "4247/4247 [==============================] - 100s 24ms/step - loss: 0.3841 - accuracy: 0.8279 - val_loss: 0.3833 - val_accuracy: 0.8282\n",
      "Epoch 94/100\n",
      "4247/4247 [==============================] - 100s 24ms/step - loss: 0.3832 - accuracy: 0.8281 - val_loss: 0.3832 - val_accuracy: 0.8291\n",
      "Epoch 95/100\n",
      "4247/4247 [==============================] - 100s 24ms/step - loss: 0.3819 - accuracy: 0.8286 - val_loss: 0.3833 - val_accuracy: 0.8285\n",
      "Epoch 96/100\n",
      "4247/4247 [==============================] - 99s 23ms/step - loss: 0.3828 - accuracy: 0.8285 - val_loss: 0.3846 - val_accuracy: 0.8282\n",
      "Epoch 97/100\n",
      "4247/4247 [==============================] - 99s 23ms/step - loss: 0.3830 - accuracy: 0.8285 - val_loss: 0.3827 - val_accuracy: 0.8293\n",
      "Epoch 98/100\n",
      "4247/4247 [==============================] - 99s 23ms/step - loss: 0.3831 - accuracy: 0.8284 - val_loss: 0.3823 - val_accuracy: 0.8292\n",
      "Epoch 99/100\n",
      "4247/4247 [==============================] - 99s 23ms/step - loss: 0.3825 - accuracy: 0.8285 - val_loss: 0.3835 - val_accuracy: 0.8280\n",
      "Epoch 100/100\n",
      "4247/4247 [==============================] - 100s 24ms/step - loss: 0.3821 - accuracy: 0.8288 - val_loss: 0.3825 - val_accuracy: 0.8294\n"
     ]
    }
   ],
   "source": [
    "history = model_high.fit([pep_train, aa_train, en_train, ec_train, e1_train, e2_train],\n",
    "                    y_train, \n",
    "                    epochs=100,\n",
    "                    batch_size=128,\n",
    "                    validation_data=([pep_val, aa_val, en_val, ec_val, e1_val, e2_val], y_val),\n",
    "                    callbacks=[es]\n",
    "                        )"
   ]
  },
  {
   "cell_type": "code",
   "execution_count": 12,
   "metadata": {
    "ExecuteTime": {
     "end_time": "2021-11-11T13:29:24.236870Z",
     "start_time": "2021-11-11T13:29:23.912852Z"
    }
   },
   "outputs": [
    {
     "data": {
      "image/png": "[encoded data removed]",
      "text/plain": [
       "<Figure size 1152x144 with 2 Axes>"
      ]
     },
     "metadata": {
      "needs_background": "light"
     },
     "output_type": "display_data"
    }
   ],
   "source": [
    "plt.figure(figsize=(16,2))\n",
    "plt.subplot(1,2,1)\n",
    "plot_graphs(history, 'accuracy')\n",
    "plt.subplot(1,2,2)\n",
    "plot_graphs(history, 'loss')"
   ]
  },
  {
   "cell_type": "markdown",
   "metadata": {},
   "source": [
    "# eval"
   ]
  },
  {
   "cell_type": "code",
   "execution_count": 13,
   "metadata": {
    "ExecuteTime": {
     "end_time": "2021-11-11T13:31:04.051054Z",
     "start_time": "2021-11-11T13:29:24.238338Z"
    },
    "scrolled": true
   },
   "outputs": [
    {
     "name": "stdout",
     "output_type": "stream",
     "text": [
      "4188/4188 [==============================] - 34s 8ms/step - loss: 0.3746 - accuracy: 0.8337\n",
      "Test Loss: 0.3746189773082733\n",
      "Test Accuracy: 0.8336766362190247\n",
      "              precision    recall  f1-score   support\n",
      "\n",
      "           0       0.86      0.80      0.83     66996\n",
      "           1       0.81      0.87      0.84     66996\n",
      "\n",
      "    accuracy                           0.83    133992\n",
      "   macro avg       0.84      0.83      0.83    133992\n",
      "weighted avg       0.84      0.83      0.83    133992\n",
      "\n",
      "rf auc : 0.9146552810416916\n"
     ]
    },
    {
     "data": {
      "image/png": "[encoded data removed]",
      "text/plain": [
       "<Figure size 288x288 with 1 Axes>"
      ]
     },
     "metadata": {
      "needs_background": "light"
     },
     "output_type": "display_data"
    },
    {
     "data": {
      "image/png": "[encoded data removed]",
      "text/plain": [
       "<Figure size 216x216 with 2 Axes>"
      ]
     },
     "metadata": {
      "needs_background": "light"
     },
     "output_type": "display_data"
    },
    {
     "data": {
      "image/png": "[encoded data removed]",
      "text/plain": [
       "<Figure size 216x216 with 2 Axes>"
      ]
     },
     "metadata": {
      "needs_background": "light"
     },
     "output_type": "display_data"
    }
   ],
   "source": [
    "test_loss, test_acc = model_high.evaluate([pep_test, aa_test, en_test, ec_test, e1_test, e2_test], y_test)\n",
    "print('Test Loss: {}'.format(test_loss))\n",
    "print('Test Accuracy: {}'.format(test_acc))\n",
    "\n",
    "# prediction\n",
    "y_pred = [1 if i>=0.5 else 0 for i in model_high.predict([pep_test, aa_test, en_test, ec_test, e1_test, e2_test])]\n",
    "print(classification_report(y_test, y_pred))\n",
    "# AUC\n",
    "probs = model_high.predict([pep_test, aa_test, en_test, ec_test, e1_test, e2_test])\n",
    "rf_auc = roc_auc_score(y_test, probs)\n",
    "print('rf auc : {}'.format(rf_auc))\n",
    "# plot the roc curve for the model_high\n",
    "rf_fpr, rf_tpr, _ = roc_curve(y_test, probs)\n",
    "plt.figure(figsize=(4, 4))\n",
    "plt.plot(rf_fpr, rf_tpr, marker='.', label='RF AUC = {:.4f}'.format(rf_auc), color='orange')\n",
    "plt.title('ROC curve')\n",
    "# axis labels\n",
    "plt.xlabel('False Positive Rate')\n",
    "plt.ylabel('True Positive Rate')\n",
    "# show the legend\n",
    "plt.legend()\n",
    "# show the plot\n",
    "plt.show()\n",
    "\n",
    "cf_matrix = confusion_matrix(y_test, y_pred)\n",
    "plt.figure(figsize=(3, 3))\n",
    "sns.heatmap(cf_matrix, annot=True, fmt=',.0f')\n",
    "plt.show()\n",
    "plt.figure(figsize=(3, 3))\n",
    "sns.heatmap(cf_matrix/np.sum(cf_matrix), annot=True, \n",
    "            fmt='.2%', cmap='Blues')\n",
    "plt.show()"
   ]
  },
  {
   "cell_type": "code",
   "execution_count": null,
   "metadata": {
    "ExecuteTime": {
     "end_time": "2021-11-11T18:00:58.775058Z",
     "start_time": "2021-11-11T18:00:58.645631Z"
    }
   },
   "outputs": [],
   "source": [
    "# Calling `save('my_model.h5')` creates a h5 file `my_model.h5`.\n",
    "model_high.save(\"compareModel/2021KSBi_multi.h5\")"
   ]
  },
  {
   "cell_type": "code",
   "execution_count": 17,
   "metadata": {
    "ExecuteTime": {
     "end_time": "2021-11-11T18:01:03.091836Z",
     "start_time": "2021-11-11T18:01:03.077342Z"
    }
   },
   "outputs": [
    {
     "ename": "AttributeError",
     "evalue": "'str' object has no attribute 'decode'",
     "output_type": "error",
     "traceback": [
      "\u001b[0;31m---------------------------------------------------------------------------\u001b[0m",
      "\u001b[0;31mAttributeError\u001b[0m                            Traceback (most recent call last)",
      "\u001b[0;32m<ipython-input-17-d19457b3a518>\u001b[0m in \u001b[0;36m<module>\u001b[0;34m\u001b[0m\n\u001b[1;32m      1\u001b[0m \u001b[0;31m# It can be used to reconstruct the model identically.\u001b[0m\u001b[0;34m\u001b[0m\u001b[0;34m\u001b[0m\u001b[0m\n\u001b[0;32m----> 2\u001b[0;31m \u001b[0mmodel_high_re\u001b[0m \u001b[0;34m=\u001b[0m \u001b[0mkeras\u001b[0m\u001b[0;34m.\u001b[0m\u001b[0mmodels\u001b[0m\u001b[0;34m.\u001b[0m\u001b[0mload_model\u001b[0m\u001b[0;34m(\u001b[0m\u001b[0;34m\"compareModel/2021KSBi_multi.h5\"\u001b[0m\u001b[0;34m)\u001b[0m\u001b[0;34m\u001b[0m\u001b[0m\n\u001b[0m",
      "\u001b[0;32m~/miniconda3/envs/TF2.4/lib/python3.7/site-packages/tensorflow/python/keras/saving/save.py\u001b[0m in \u001b[0;36mload_model\u001b[0;34m(filepath, custom_objects, compile, options)\u001b[0m\n\u001b[1;32m    205\u001b[0m           (isinstance(filepath, h5py.File) or h5py.is_hdf5(filepath))):\n\u001b[1;32m    206\u001b[0m         return hdf5_format.load_model_from_hdf5(filepath, custom_objects,\n\u001b[0;32m--> 207\u001b[0;31m                                                 compile)\n\u001b[0m\u001b[1;32m    208\u001b[0m \u001b[0;34m\u001b[0m\u001b[0m\n\u001b[1;32m    209\u001b[0m       \u001b[0mfilepath\u001b[0m \u001b[0;34m=\u001b[0m \u001b[0mpath_to_string\u001b[0m\u001b[0;34m(\u001b[0m\u001b[0mfilepath\u001b[0m\u001b[0;34m)\u001b[0m\u001b[0;34m\u001b[0m\u001b[0m\n",
      "\u001b[0;32m~/miniconda3/envs/TF2.4/lib/python3.7/site-packages/tensorflow/python/keras/saving/hdf5_format.py\u001b[0m in \u001b[0;36mload_model_from_hdf5\u001b[0;34m(filepath, custom_objects, compile)\u001b[0m\n\u001b[1;32m    180\u001b[0m     \u001b[0;32mif\u001b[0m \u001b[0mmodel_config\u001b[0m \u001b[0;32mis\u001b[0m \u001b[0;32mNone\u001b[0m\u001b[0;34m:\u001b[0m\u001b[0;34m\u001b[0m\u001b[0m\n\u001b[1;32m    181\u001b[0m       \u001b[0;32mraise\u001b[0m \u001b[0mValueError\u001b[0m\u001b[0;34m(\u001b[0m\u001b[0;34m'No model found in config file.'\u001b[0m\u001b[0;34m)\u001b[0m\u001b[0;34m\u001b[0m\u001b[0m\n\u001b[0;32m--> 182\u001b[0;31m     \u001b[0mmodel_config\u001b[0m \u001b[0;34m=\u001b[0m \u001b[0mjson_utils\u001b[0m\u001b[0;34m.\u001b[0m\u001b[0mdecode\u001b[0m\u001b[0;34m(\u001b[0m\u001b[0mmodel_config\u001b[0m\u001b[0;34m.\u001b[0m\u001b[0mdecode\u001b[0m\u001b[0;34m(\u001b[0m\u001b[0;34m'utf-8'\u001b[0m\u001b[0;34m)\u001b[0m\u001b[0;34m)\u001b[0m\u001b[0;34m\u001b[0m\u001b[0m\n\u001b[0m\u001b[1;32m    183\u001b[0m     model = model_config_lib.model_from_config(model_config,\n\u001b[1;32m    184\u001b[0m                                                custom_objects=custom_objects)\n",
      "\u001b[0;31mAttributeError\u001b[0m: 'str' object has no attribute 'decode'"
     ]
    }
   ],
   "source": [
    "# It can be used to reconstruct the model identically.\n",
    "model_high_re = keras.models.load_model(\"compareModel/2021KSBi_multi.h5\")"
   ]
  },
  {
   "cell_type": "markdown",
   "metadata": {},
   "source": [
    "# TPR 99% DB size"
   ]
  },
  {
   "cell_type": "code",
   "execution_count": null,
   "metadata": {},
   "outputs": [],
   "source": [
    "model_high"
   ]
  }
 ],
 "metadata": {
  "kernelspec": {
   "display_name": "TF2.4",
   "language": "python",
   "name": "tf2.4"
  },
  "language_info": {
   "codemirror_mode": {
    "name": "ipython",
    "version": 3
   },
   "file_extension": ".py",
   "mimetype": "text/x-python",
   "name": "python",
   "nbconvert_exporter": "python",
   "pygments_lexer": "ipython3",
   "version": "3.7.0"
  }
 },
 "nbformat": 4,
 "nbformat_minor": 4
}
