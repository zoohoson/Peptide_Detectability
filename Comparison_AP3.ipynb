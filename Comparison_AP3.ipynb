{
 "cells": [
  {
   "cell_type": "code",
   "execution_count": 1,
   "id": "71ab6f24",
   "metadata": {
    "ExecuteTime": {
     "end_time": "2022-05-30T15:34:50.599008Z",
     "start_time": "2022-05-30T15:34:49.885646Z"
    }
   },
   "outputs": [],
   "source": [
    "import matplotlib.pyplot as plt\n",
    "import seaborn as sns"
   ]
  },
  {
   "cell_type": "code",
   "execution_count": 2,
   "id": "85ed6d81",
   "metadata": {
    "ExecuteTime": {
     "end_time": "2022-05-30T15:34:51.303918Z",
     "start_time": "2022-05-30T15:34:51.301677Z"
    }
   },
   "outputs": [],
   "source": [
    "import numpy as np"
   ]
  },
  {
   "cell_type": "code",
   "execution_count": 3,
   "id": "530493da",
   "metadata": {
    "ExecuteTime": {
     "end_time": "2022-05-30T15:34:51.769852Z",
     "start_time": "2022-05-30T15:34:51.501220Z"
    }
   },
   "outputs": [],
   "source": [
    "import pandas as pd\n",
    "import joblib\n",
    "from sklearn.ensemble import RandomForestClassifier\n",
    "from sklearn.metrics import classification_report\n",
    "from sklearn.metrics import confusion_matrix\n",
    "from sklearn.metrics import roc_curve\n",
    "from sklearn.metrics import roc_auc_score"
   ]
  },
  {
   "cell_type": "markdown",
   "id": "5d90e8d9",
   "metadata": {},
   "source": [
    "# massIVE-KB"
   ]
  },
  {
   "cell_type": "code",
   "execution_count": 4,
   "id": "a8145980",
   "metadata": {
    "ExecuteTime": {
     "end_time": "2022-05-30T15:34:52.874757Z",
     "start_time": "2022-05-30T15:34:52.338710Z"
    }
   },
   "outputs": [],
   "source": [
    "df_test = pd.read_csv('data/test_diff_HPP_AP3.csv')"
   ]
  },
  {
   "cell_type": "code",
   "execution_count": 5,
   "id": "732d8281",
   "metadata": {
    "ExecuteTime": {
     "end_time": "2022-05-30T15:34:57.633635Z",
     "start_time": "2022-05-30T15:34:57.630883Z"
    }
   },
   "outputs": [
    {
     "name": "stdout",
     "output_type": "stream",
     "text": [
      "(171261, 30)\n"
     ]
    }
   ],
   "source": [
    "print(df_test.shape)"
   ]
  },
  {
   "cell_type": "code",
   "execution_count": 6,
   "id": "7188a973",
   "metadata": {
    "ExecuteTime": {
     "end_time": "2022-05-30T15:34:59.805382Z",
     "start_time": "2022-05-30T15:34:59.780845Z"
    }
   },
   "outputs": [
    {
     "data": {
      "text/html": [
       "<div>\n",
       "<style scoped>\n",
       "    .dataframe tbody tr th:only-of-type {\n",
       "        vertical-align: middle;\n",
       "    }\n",
       "\n",
       "    .dataframe tbody tr th {\n",
       "        vertical-align: top;\n",
       "    }\n",
       "\n",
       "    .dataframe thead th {\n",
       "        text-align: right;\n",
       "    }\n",
       "</style>\n",
       "<table border=\"1\" class=\"dataframe\">\n",
       "  <thead>\n",
       "    <tr style=\"text-align: right;\">\n",
       "      <th></th>\n",
       "      <th>miss</th>\n",
       "      <th>314</th>\n",
       "      <th>4</th>\n",
       "      <th>108</th>\n",
       "      <th>1</th>\n",
       "      <th>digestibility</th>\n",
       "      <th>166</th>\n",
       "      <th>90</th>\n",
       "      <th>51</th>\n",
       "      <th>530</th>\n",
       "      <th>...</th>\n",
       "      <th>241</th>\n",
       "      <th>88</th>\n",
       "      <th>49</th>\n",
       "      <th>421</th>\n",
       "      <th>115</th>\n",
       "      <th>48</th>\n",
       "      <th>240</th>\n",
       "      <th>197</th>\n",
       "      <th>354</th>\n",
       "      <th>label</th>\n",
       "    </tr>\n",
       "  </thead>\n",
       "  <tbody>\n",
       "    <tr>\n",
       "      <th>0</th>\n",
       "      <td>1</td>\n",
       "      <td>2.38</td>\n",
       "      <td>0</td>\n",
       "      <td>5.0</td>\n",
       "      <td>0</td>\n",
       "      <td>0.054359</td>\n",
       "      <td>-4.0</td>\n",
       "      <td>36.15</td>\n",
       "      <td>8.0</td>\n",
       "      <td>6.87</td>\n",
       "      <td>...</td>\n",
       "      <td>19.23</td>\n",
       "      <td>-7.20</td>\n",
       "      <td>46.0</td>\n",
       "      <td>95.26</td>\n",
       "      <td>15.7</td>\n",
       "      <td>11.0</td>\n",
       "      <td>-8.34</td>\n",
       "      <td>308.80</td>\n",
       "      <td>21.7</td>\n",
       "      <td>True</td>\n",
       "    </tr>\n",
       "    <tr>\n",
       "      <th>1</th>\n",
       "      <td>1</td>\n",
       "      <td>0.14</td>\n",
       "      <td>1</td>\n",
       "      <td>2.0</td>\n",
       "      <td>1</td>\n",
       "      <td>0.044410</td>\n",
       "      <td>1.0</td>\n",
       "      <td>26.67</td>\n",
       "      <td>5.0</td>\n",
       "      <td>3.05</td>\n",
       "      <td>...</td>\n",
       "      <td>-23.28</td>\n",
       "      <td>-2.97</td>\n",
       "      <td>25.0</td>\n",
       "      <td>86.90</td>\n",
       "      <td>14.7</td>\n",
       "      <td>4.0</td>\n",
       "      <td>-5.96</td>\n",
       "      <td>216.18</td>\n",
       "      <td>15.5</td>\n",
       "      <td>True</td>\n",
       "    </tr>\n",
       "  </tbody>\n",
       "</table>\n",
       "<p>2 rows × 30 columns</p>\n",
       "</div>"
      ],
      "text/plain": [
       "   miss   314  4  108  1  digestibility  166     90   51   530  ...    241  \\\n",
       "0     1  2.38  0  5.0  0       0.054359 -4.0  36.15  8.0  6.87  ...  19.23   \n",
       "1     1  0.14  1  2.0  1       0.044410  1.0  26.67  5.0  3.05  ... -23.28   \n",
       "\n",
       "     88    49    421   115    48   240     197   354  label  \n",
       "0 -7.20  46.0  95.26  15.7  11.0 -8.34  308.80  21.7   True  \n",
       "1 -2.97  25.0  86.90  14.7   4.0 -5.96  216.18  15.5   True  \n",
       "\n",
       "[2 rows x 30 columns]"
      ]
     },
     "execution_count": 6,
     "metadata": {},
     "output_type": "execute_result"
    }
   ],
   "source": [
    "df_test.head(2)"
   ]
  },
  {
   "cell_type": "code",
   "execution_count": 7,
   "id": "a1b55987",
   "metadata": {
    "ExecuteTime": {
     "end_time": "2022-05-30T15:35:05.385408Z",
     "start_time": "2022-05-30T15:35:02.830360Z"
    }
   },
   "outputs": [
    {
     "name": "stdout",
     "output_type": "stream",
     "text": [
      "Loading model...\n",
      "Loading input peptides\n"
     ]
    }
   ],
   "source": [
    "print('Loading model...')\n",
    "model = joblib.load(\"log/AP3_detectability.joblib\")\n",
    "print('Loading input peptides')\n",
    "X_test = df_test.drop('label', axis=1).values\n",
    "y_test = df_test['label'].values"
   ]
  },
  {
   "cell_type": "code",
   "execution_count": 8,
   "id": "e032ea29",
   "metadata": {
    "ExecuteTime": {
     "end_time": "2022-05-30T15:35:08.083286Z",
     "start_time": "2022-05-30T15:35:06.241037Z"
    }
   },
   "outputs": [
    {
     "name": "stdout",
     "output_type": "stream",
     "text": [
      "Test AUC : 0.8701887772565748\n",
      "              precision    recall  f1-score   support\n",
      "\n",
      "       False     0.7864    0.7916    0.7890     86751\n",
      "        True     0.7846    0.7793    0.7819     84510\n",
      "\n",
      "    accuracy                         0.7855    171261\n",
      "   macro avg     0.7855    0.7855    0.7855    171261\n",
      "weighted avg     0.7855    0.7855    0.7855    171261\n",
      "\n"
     ]
    },
    {
     "data": {
      "image/png": "[encoded data removed]",
      "text/plain": [
       "<Figure size 288x288 with 1 Axes>"
      ]
     },
     "metadata": {
      "needs_background": "light"
     },
     "output_type": "display_data"
    },
    {
     "data": {
      "image/png": "[encoded data removed]",
      "text/plain": [
       "<Figure size 216x216 with 2 Axes>"
      ]
     },
     "metadata": {
      "needs_background": "light"
     },
     "output_type": "display_data"
    }
   ],
   "source": [
    "probs = model.predict_proba(X_test)[:, 1]\n",
    "y_pred = model.predict(X_test)\n",
    "auc = roc_auc_score(y_test, probs)\n",
    "print('Test AUC : {}'.format(auc))\n",
    "print(classification_report(y_test, y_pred, digits=4))\n",
    "\n",
    "plt.figure(figsize=(4, 4))\n",
    "fpr, tpr, _ = roc_curve(y_test, probs)\n",
    "plt.plot(fpr, tpr, marker='.', label='AUC = {:.4f}'.format(auc), color='orange')\n",
    "plt.title('ROC curve')\n",
    "plt.xlabel('False Positive Rate')\n",
    "plt.ylabel('True Positive Rate')\n",
    "plt.legend()\n",
    "plt.show()\n",
    "\n",
    "cf_matrix = confusion_matrix(y_test, y_pred)\n",
    "plt.figure(figsize=(3, 3))\n",
    "sns.heatmap(cf_matrix, annot=True, fmt=',.0f')\n",
    "plt.show()"
   ]
  },
  {
   "cell_type": "code",
   "execution_count": 10,
   "id": "9fa1db2b",
   "metadata": {},
   "outputs": [],
   "source": [
    "np.save('log/result_AP3_fpr.npy', fpr)\n",
    "np.save('log/result_AP3_tpr.npy', tpr)"
   ]
  },
  {
   "cell_type": "markdown",
   "id": "8278a73b",
   "metadata": {},
   "source": [
    "# Case of cleavage sites count"
   ]
  },
  {
   "cell_type": "code",
   "execution_count": 10,
   "id": "96cca943",
   "metadata": {
    "ExecuteTime": {
     "end_time": "2022-05-30T15:36:45.384376Z",
     "start_time": "2022-05-30T15:36:45.380276Z"
    }
   },
   "outputs": [],
   "source": [
    "miss0_idx = np.load('data/AP3_miss0_idx.npy')\n",
    "miss1_idx = np.load('data/AP3_miss1_idx.npy')\n",
    "miss2_idx = np.load('data/AP3_miss2_idx.npy')"
   ]
  },
  {
   "cell_type": "code",
   "execution_count": 11,
   "id": "9aa660c9",
   "metadata": {
    "ExecuteTime": {
     "end_time": "2022-05-30T15:37:23.283567Z",
     "start_time": "2022-05-30T15:37:22.085594Z"
    },
    "scrolled": false
   },
   "outputs": [
    {
     "name": "stdout",
     "output_type": "stream",
     "text": [
      "Test AUC : 0.881636990925923\n",
      "              precision    recall  f1-score   support\n",
      "\n",
      "       False     0.7887    0.5749    0.6651     11076\n",
      "        True     0.8924    0.9581    0.9241     40755\n",
      "\n",
      "    accuracy                         0.8763     51831\n",
      "   macro avg     0.8406    0.7665    0.7946     51831\n",
      "weighted avg     0.8702    0.8763    0.8687     51831\n",
      "\n"
     ]
    },
    {
     "data": {
      "image/png": "[encoded data removed]",
      "text/plain": [
       "<Figure size 288x288 with 1 Axes>"
      ]
     },
     "metadata": {
      "needs_background": "light"
     },
     "output_type": "display_data"
    },
    {
     "data": {
      "image/png": "[encoded data removed]",
      "text/plain": [
       "<Figure size 216x216 with 2 Axes>"
      ]
     },
     "metadata": {
      "needs_background": "light"
     },
     "output_type": "display_data"
    },
    {
     "name": "stdout",
     "output_type": "stream",
     "text": [
      "Test AUC : 0.7604699084724041\n",
      "              precision    recall  f1-score   support\n",
      "\n",
      "       False     0.7247    0.6126    0.6640     31999\n",
      "        True     0.6742    0.7750    0.7211     33100\n",
      "\n",
      "    accuracy                         0.6952     65099\n",
      "   macro avg     0.6994    0.6938    0.6925     65099\n",
      "weighted avg     0.6990    0.6952    0.6930     65099\n",
      "\n"
     ]
    },
    {
     "data": {
      "image/png": "[encoded data removed]",
      "text/plain": [
       "<Figure size 288x288 with 1 Axes>"
      ]
     },
     "metadata": {
      "needs_background": "light"
     },
     "output_type": "display_data"
    },
    {
     "data": {
      "image/png": "[encoded data removed]",
      "text/plain": [
       "<Figure size 216x216 with 2 Axes>"
      ]
     },
     "metadata": {
      "needs_background": "light"
     },
     "output_type": "display_data"
    },
    {
     "name": "stdout",
     "output_type": "stream",
     "text": [
      "Test AUC : 0.7463883533148772\n",
      "              precision    recall  f1-score   support\n",
      "\n",
      "       False     0.8180    0.9777    0.8908     43676\n",
      "        True     0.5427    0.1085    0.1808     10655\n",
      "\n",
      "    accuracy                         0.8072     54331\n",
      "   macro avg     0.6804    0.5431    0.5358     54331\n",
      "weighted avg     0.7640    0.8072    0.7515     54331\n",
      "\n"
     ]
    },
    {
     "data": {
      "image/png": "[encoded data removed]",
      "text/plain": [
       "<Figure size 288x288 with 1 Axes>"
      ]
     },
     "metadata": {
      "needs_background": "light"
     },
     "output_type": "display_data"
    },
    {
     "data": {
      "image/png": "[encoded data removed]",
      "text/plain": [
       "<Figure size 216x216 with 2 Axes>"
      ]
     },
     "metadata": {
      "needs_background": "light"
     },
     "output_type": "display_data"
    }
   ],
   "source": [
    "y_pred = np.array(y_pred)\n",
    "probs_miss0 = probs[miss0_idx]\n",
    "probs_miss1 = probs[miss1_idx]\n",
    "probs_miss2 = probs[miss2_idx]\n",
    "y_pred_miss0 = y_pred[miss0_idx]\n",
    "y_pred_miss1 = y_pred[miss1_idx]\n",
    "y_pred_miss2 = y_pred[miss2_idx]\n",
    "y_test_miss0 = y_test[miss0_idx]\n",
    "y_test_miss1 = y_test[miss1_idx]\n",
    "y_test_miss2 = y_test[miss2_idx]\n",
    "\n",
    "auc = roc_auc_score(y_test_miss0, probs_miss0)\n",
    "print('Test AUC : {}'.format(auc))\n",
    "print(classification_report(y_test_miss0, y_pred_miss0, digits=4))\n",
    "\n",
    "plt.figure(figsize=(4, 4))\n",
    "fpr, tpr, _ = roc_curve(y_test_miss0, probs_miss0)\n",
    "plt.plot(fpr, tpr, marker='.', label='AUC = {:.4f}'.format(auc), color='orange')\n",
    "plt.title('ROC curve')\n",
    "plt.xlabel('False Positive Rate')\n",
    "plt.ylabel('True Positive Rate')\n",
    "plt.legend()\n",
    "plt.show()\n",
    "\n",
    "cf_matrix = confusion_matrix(y_test_miss0, y_pred_miss0)\n",
    "plt.figure(figsize=(3, 3))\n",
    "sns.heatmap(cf_matrix, annot=True, fmt=',.0f')\n",
    "plt.show()\n",
    "\n",
    "auc = roc_auc_score(y_test_miss1, probs_miss1)\n",
    "print('Test AUC : {}'.format(auc))\n",
    "print(classification_report(y_test_miss1, y_pred_miss1, digits=4))\n",
    "\n",
    "plt.figure(figsize=(4, 4))\n",
    "fpr, tpr, _ = roc_curve(y_test_miss1, probs_miss1)\n",
    "plt.plot(fpr, tpr, marker='.', label='AUC = {:.4f}'.format(auc), color='orange')\n",
    "plt.title('ROC curve')\n",
    "plt.xlabel('False Positive Rate')\n",
    "plt.ylabel('True Positive Rate')\n",
    "plt.legend()\n",
    "plt.show()\n",
    "\n",
    "cf_matrix = confusion_matrix(y_test_miss1, y_pred_miss1)\n",
    "plt.figure(figsize=(3, 3))\n",
    "sns.heatmap(cf_matrix, annot=True, fmt=',.0f')\n",
    "plt.show()\n",
    "\n",
    "auc = roc_auc_score(y_test_miss2, probs_miss2)\n",
    "print('Test AUC : {}'.format(auc))\n",
    "print(classification_report(y_test_miss2, y_pred_miss2, digits=4))\n",
    "\n",
    "plt.figure(figsize=(4, 4))\n",
    "fpr, tpr, _ = roc_curve(y_test_miss2, probs_miss2)\n",
    "plt.plot(fpr, tpr, marker='.', label='AUC = {:.4f}'.format(auc), color='orange')\n",
    "plt.title('ROC curve')\n",
    "plt.xlabel('False Positive Rate')\n",
    "plt.ylabel('True Positive Rate')\n",
    "plt.legend()\n",
    "plt.show()\n",
    "\n",
    "cf_matrix = confusion_matrix(y_test_miss2, y_pred_miss2)\n",
    "plt.figure(figsize=(3, 3))\n",
    "sns.heatmap(cf_matrix, annot=True, fmt=',.0f')\n",
    "plt.show()\n",
    "\n"
   ]
  },
  {
   "cell_type": "code",
   "execution_count": null,
   "id": "c76d8aca",
   "metadata": {},
   "outputs": [],
   "source": []
  }
 ],
 "metadata": {
  "interpreter": {
   "hash": "0d9aaef04a9d71a27270017bf55f7862a96ca198a352fc71464738ce0bcd616e"
  },
  "kernelspec": {
   "display_name": "TF2.0",
   "language": "python",
   "name": "bis"
  },
  "language_info": {
   "codemirror_mode": {
    "name": "ipython",
    "version": 3
   },
   "file_extension": ".py",
   "mimetype": "text/x-python",
   "name": "python",
   "nbconvert_exporter": "python",
   "pygments_lexer": "ipython3",
   "version": "3.6.12"
  }
 },
 "nbformat": 4,
 "nbformat_minor": 5
}
