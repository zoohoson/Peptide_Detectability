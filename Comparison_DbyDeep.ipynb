{
 "cells": [
  {
   "cell_type": "code",
   "execution_count": 2,
   "id": "3a8ab587",
   "metadata": {
    "ExecuteTime": {
     "end_time": "2022-05-28T15:08:47.809565Z",
     "start_time": "2022-05-28T15:08:45.850199Z"
    }
   },
   "outputs": [],
   "source": [
    "import pandas as pd\n",
    "import numpy as np\n",
    "import matplotlib.pyplot as plt\n",
    "import seaborn as sns\n",
    "from sklearn.metrics import classification_report\n",
    "from sklearn.metrics import confusion_matrix\n",
    "from sklearn.metrics import roc_curve\n",
    "from sklearn.metrics import roc_auc_score\n",
    "from sklearn.model_selection import train_test_split\n",
    "\n",
    "from train import get_npy_DbyDeep"
   ]
  },
  {
   "cell_type": "code",
   "execution_count": 3,
   "id": "ab050802",
   "metadata": {
    "ExecuteTime": {
     "end_time": "2022-05-28T15:08:48.510138Z",
     "start_time": "2022-05-28T15:08:48.508125Z"
    }
   },
   "outputs": [],
   "source": [
    "from tensorflow import keras"
   ]
  },
  {
   "cell_type": "markdown",
   "id": "7b7bcf65",
   "metadata": {},
   "source": [
    "# HPP"
   ]
  },
  {
   "cell_type": "code",
   "execution_count": 4,
   "id": "159dd980",
   "metadata": {
    "ExecuteTime": {
     "end_time": "2022-05-28T15:08:57.562476Z",
     "start_time": "2022-05-28T15:08:57.510077Z"
    }
   },
   "outputs": [],
   "source": [
    "df_hpp = pd.read_csv('data/HPP.csv')\n",
    "df_hpp.rename({'Class':'label'}, axis=1, inplace=True)"
   ]
  },
  {
   "cell_type": "code",
   "execution_count": 5,
   "id": "2b71d4b7",
   "metadata": {
    "ExecuteTime": {
     "end_time": "2022-05-28T15:19:22.297623Z",
     "start_time": "2022-05-28T15:17:18.766062Z"
    }
   },
   "outputs": [
    {
     "name": "stdout",
     "output_type": "stream",
     "text": [
      "Loading model...\n"
     ]
    }
   ],
   "source": [
    "print('Loading model...')\n",
    "model = keras.models.load_model(\"log/DbyDeep\")"
   ]
  },
  {
   "cell_type": "code",
   "execution_count": 7,
   "id": "d726bdb1",
   "metadata": {
    "ExecuteTime": {
     "end_time": "2022-05-27T16:23:26.998582Z",
     "start_time": "2022-05-27T16:22:19.364204Z"
    }
   },
   "outputs": [
    {
     "name": "stdout",
     "output_type": "stream",
     "text": [
      "Loading model...\n",
      "Loading input peptides\n",
      "Making predictions\n"
     ]
    }
   ],
   "source": [
    "print('Loading input peptides')\n",
    "pep_hpp, n_hpp, c_hpp, m1_hpp, m2_hpp, label_hpp = get_npy_DbyDeep(df_hpp)\n",
    "\n",
    "print('Making predictions')\n",
    "model_pred = model.predict([pep_hpp, n_hpp, c_hpp, m1_hpp, m2_hpp])"
   ]
  },
  {
   "cell_type": "code",
   "execution_count": 14,
   "id": "c200224b",
   "metadata": {
    "ExecuteTime": {
     "end_time": "2022-05-27T16:27:25.902562Z",
     "start_time": "2022-05-27T16:27:25.879676Z"
    }
   },
   "outputs": [],
   "source": [
    "df_hpp = pd.concat([df_hpp, pd.DataFrame(model_pred, columns=['probs'])['probs']], axis=1)\n",
    "\n",
    "pe = df_hpp.loc[df_hpp['label']=='PE1'][['peptide', 'probs']].drop_duplicates()\n",
    "dmp = df_hpp.loc[df_hpp['label']=='Detected_MPs'][['peptide', 'probs']].drop_duplicates()\n",
    "mp = df_hpp.loc[df_hpp['label']=='MPs'][['peptide', 'probs']].drop_duplicates()"
   ]
  },
  {
   "cell_type": "code",
   "execution_count": 15,
   "id": "9be6f16a",
   "metadata": {
    "ExecuteTime": {
     "end_time": "2022-05-27T16:27:29.612173Z",
     "start_time": "2022-05-27T16:27:29.493490Z"
    }
   },
   "outputs": [
    {
     "data": {
      "image/png": "[encoded data removed]",
      "text/plain": [
       "<Figure size 500x300 with 1 Axes>"
      ]
     },
     "metadata": {},
     "output_type": "display_data"
    }
   ],
   "source": [
    "plt.figure(figsize=(5,3))\n",
    "a = plt.violinplot([pe.probs.astype(float), \n",
    "                    dmp.probs.astype(float), \n",
    "                    mp.probs.astype(float)],\n",
    "               showmeans=True,\n",
    "              )\n",
    "plt.xticks([y + 1 for y in range(len([pe,dmp,mp]))], ['PE1', 'Detected MPs', 'Current MPs'])\n",
    "b = plt.grid(axis='y')\n",
    "plt.show()"
   ]
  },
  {
   "cell_type": "markdown",
   "id": "0ef91252",
   "metadata": {},
   "source": [
    "# massIVE-KB"
   ]
  },
  {
   "cell_type": "code",
   "execution_count": 16,
   "id": "5832799b",
   "metadata": {
    "ExecuteTime": {
     "end_time": "2022-05-27T16:27:37.201576Z",
     "start_time": "2022-05-27T16:27:36.880706Z"
    }
   },
   "outputs": [],
   "source": [
    "df_test = pd.read_csv('data/test_diff_hpp.csv')"
   ]
  },
  {
   "cell_type": "code",
   "execution_count": 17,
   "id": "3eb225f4",
   "metadata": {
    "ExecuteTime": {
     "end_time": "2022-05-27T16:27:46.434057Z",
     "start_time": "2022-05-27T16:27:37.203128Z"
    }
   },
   "outputs": [
    {
     "name": "stdout",
     "output_type": "stream",
     "text": [
      "Loading input peptides\n"
     ]
    }
   ],
   "source": [
    "print('Loading input peptides')\n",
    "pep_test, n_test, c_test, m1_test, m2_test, label_test = get_npy_DbyDeep(df_test)"
   ]
  },
  {
   "cell_type": "code",
   "execution_count": 18,
   "id": "468d169f",
   "metadata": {
    "ExecuteTime": {
     "end_time": "2022-05-27T16:30:35.352893Z",
     "start_time": "2022-05-27T16:27:46.435962Z"
    }
   },
   "outputs": [
    {
     "name": "stdout",
     "output_type": "stream",
     "text": [
      "5352/5352 [==============================] - 90s 15ms/step - loss: 0.3574 - accuracy: 0.8412\n"
     ]
    }
   ],
   "source": [
    "probs = model.predict([pep_test, n_test, c_test, m1_test, m2_test])\n",
    "y_pred = [1 if i>=0.5 else 0 for i in probs]\n",
    "loss, acc = model.evaluate([pep_test, n_test, c_test, m1_test, m2_test], label_test)\n",
    "auc = roc_auc_score(label_test, probs)"
   ]
  },
  {
   "cell_type": "code",
   "execution_count": 19,
   "id": "54c23d84",
   "metadata": {
    "ExecuteTime": {
     "end_time": "2022-05-27T16:30:36.486226Z",
     "start_time": "2022-05-27T16:30:35.354883Z"
    }
   },
   "outputs": [
    {
     "name": "stdout",
     "output_type": "stream",
     "text": [
      "Test Loss: 0.35738125443458557\n",
      "Test Accuracy: 0.8411780595779419\n",
      "Test AUC : 0.9211546860191141\n",
      "              precision    recall  f1-score   support\n",
      "\n",
      "       False     0.8507    0.8326    0.8415     86751\n",
      "        True     0.8318    0.8500    0.8408     84510\n",
      "\n",
      "    accuracy                         0.8412    171261\n",
      "   macro avg     0.8413    0.8413    0.8412    171261\n",
      "weighted avg     0.8414    0.8412    0.8412    171261\n",
      "\n"
     ]
    },
    {
     "data": {
      "image/png": "[encoded data removed]",
      "text/plain": [
       "<Figure size 400x400 with 1 Axes>"
      ]
     },
     "metadata": {},
     "output_type": "display_data"
    },
    {
     "data": {
      "image/png": "[encoded data removed]",
      "text/plain": [
       "<Figure size 300x300 with 2 Axes>"
      ]
     },
     "metadata": {},
     "output_type": "display_data"
    }
   ],
   "source": [
    "print('Test Loss: {}'.format(loss))\n",
    "print('Test Accuracy: {}'.format(acc))\n",
    "print('Test AUC : {}'.format(auc))\n",
    "print(classification_report(label_test, y_pred, digits=4))\n",
    "\n",
    "plt.figure(figsize=(4, 4))\n",
    "fpr, tpr, _ = roc_curve(label_test, probs)\n",
    "plt.plot(fpr, tpr, marker='.', label='AUC = {:.4f}'.format(auc), color='orange')\n",
    "plt.title('ROC curve')\n",
    "plt.xlabel('False Positive Rate')\n",
    "plt.ylabel('True Positive Rate')\n",
    "plt.legend()\n",
    "plt.show()\n",
    "\n",
    "cf_matrix = confusion_matrix(label_test, y_pred)\n",
    "plt.figure(figsize=(3, 3))\n",
    "sns.heatmap(cf_matrix, annot=True, fmt=',.0f')\n",
    "plt.show()"
   ]
  },
  {
   "cell_type": "markdown",
   "id": "faebafba",
   "metadata": {},
   "source": [
    "# Figure"
   ]
  },
  {
   "cell_type": "code",
   "execution_count": null,
   "id": "5f6b628b",
   "metadata": {},
   "outputs": [],
   "source": [
    "fpr_dmp = np.load('log/result_DeepMSpeptide_fpr.npy')\n",
    "tpr_dmp = np.load('log/result_DeepMSpeptide_tpr.npy')\n",
    "\n",
    "fpr_pf = np.load('log/result_PepFormer_fpr.npy')\n",
    "tpr_pf = np.load('log/result_PepFormer_tpr.npy')\n",
    "\n",
    "fpr_c = np.load('log/result_CapsNet_fpr.npy')\n",
    "tpr_c = np.load('log/result_CapsNet_tpr.npy')\n",
    "\n",
    "fpr_ap3 = np.load('compareModel/2019ACS_AP3/fpr.npy')\n",
    "tpr_ap3 = np.load('compareModel/2019ACS_AP3/tpr.npy')"
   ]
  },
  {
   "cell_type": "code",
   "execution_count": null,
   "id": "1d3095b9",
   "metadata": {},
   "outputs": [],
   "source": [
    "plt.figure(figsize=(5, 5))\n",
    "\n",
    "# ours\n",
    "plt.plot(fpr_ours, tpr_ours, marker=',', \n",
    "         label='Ours                     (AUC={:.4f})'.format(rf_auc), \n",
    "         color='red')\n",
    "plt.plot(fpr_ap3, tpr_ap3, marker=',', \n",
    "         label='AP3                      (AUC=0.8679)', \n",
    "         color='gray')\n",
    "plt.plot(fpr_dmp, tpr_dmp, marker=',', \n",
    "         label='DeepMSpeptide   (AUC=0.8970)', \n",
    "         color='green')\n",
    "plt.plot(fpr_pf, tpr_pf, marker=',', \n",
    "         label='PepFormer           (AUC=0.9086)', \n",
    "         color='blue')\n",
    "\n",
    "\n",
    "plt.title('ROC curve')\n",
    "plt.xlabel('False Positive Rate')\n",
    "plt.ylabel('True Positive Rate')\n",
    "plt.legend(loc='lower right')\n",
    "plt.grid()\n",
    "plt.show()"
   ]
  },
  {
   "cell_type": "code",
   "execution_count": null,
   "id": "1b8d67e0",
   "metadata": {},
   "outputs": [],
   "source": [
    "plt.figure(figsize=(5, 5))\n",
    "\n",
    "# ours\n",
    "plt.plot(fpr_ours, tpr_ours, marker=',', \n",
    "         label='Ours                     (AUC={:.4f})'.format(rf_auc), \n",
    "         color='red')\n",
    "plt.plot(fpr_ap3, tpr_ap3, marker=',', \n",
    "         label='AP3                      (AUC=0.8679)', \n",
    "         color='gray')\n",
    "plt.plot(fpr_dmp, tpr_dmp, marker=',', \n",
    "         label='DeepMSpeptide   (AUC=0.8970)', \n",
    "         color='green')\n",
    "plt.plot(fpr_pf, tpr_pf, marker=',', \n",
    "         label='PepFormer           (AUC=0.9086)', \n",
    "         color='blue')\n",
    "\n",
    "\n",
    "plt.title('ROC curve')\n",
    "plt.xlabel('False Positive Rate')\n",
    "plt.ylabel('True Positive Rate')\n",
    "plt.legend(loc='lower right')\n",
    "plt.xlim(0, 0.1)\n",
    "# plt.ylim(0.4, 1)\n",
    "plt.grid()\n",
    "plt.show()"
   ]
  },
  {
   "cell_type": "markdown",
   "id": "f4e377b1",
   "metadata": {},
   "source": [
    "# Figure - TSNE"
   ]
  },
  {
   "cell_type": "code",
   "execution_count": 6,
   "id": "bc309ff3",
   "metadata": {
    "ExecuteTime": {
     "end_time": "2022-05-28T15:19:22.974780Z",
     "start_time": "2022-05-28T15:19:22.827753Z"
    }
   },
   "outputs": [],
   "source": [
    "from sklearn.manifold import TSNE"
   ]
  },
  {
   "cell_type": "code",
   "execution_count": 7,
   "id": "300a4428",
   "metadata": {
    "ExecuteTime": {
     "end_time": "2022-05-28T15:19:56.769421Z",
     "start_time": "2022-05-28T15:19:22.978272Z"
    }
   },
   "outputs": [],
   "source": [
    "df_cs = pd.read_csv('data/df_positive.csv')\n",
    "pep_test, n_test, c_test, m1_test, m2_test, label_test = get_npy_DbyDeep(df_cs)"
   ]
  },
  {
   "cell_type": "code",
   "execution_count": 8,
   "id": "f238c34f",
   "metadata": {
    "ExecuteTime": {
     "end_time": "2022-05-28T15:20:01.162713Z",
     "start_time": "2022-05-28T15:19:56.772196Z"
    }
   },
   "outputs": [
    {
     "name": "stdout",
     "output_type": "stream",
     "text": [
      "308255 37148 165499\n"
     ]
    }
   ],
   "source": [
    "p = {ts for row in df_cs[['nterm', 'cterm']].values for ts in row}\n",
    "n = {ts for row in df_cs[['miss1', 'miss2']].values for ts in row}\n",
    "multi = p.intersection(n)\n",
    "p = p.difference(multi)\n",
    "n = n.difference(multi)\n",
    "print(len(p), len(n), len(multi))\n",
    "\n",
    "df_cs_p = pd.DataFrame([[ts, 'True'] for ts in p], columns=['cleavage_site', 'label'])\n",
    "df_cs_n = pd.DataFrame([[ts, 'False'] for ts in n], columns=['cleavage_site', 'label'])\n",
    "df_cs_m = pd.DataFrame([[ts, 'Multi'] for ts in multi], columns=['cleavage_site', 'label'])\n",
    "df_cs = pd.concat([df_cs_p, df_cs_n, df_cs_m], axis=0).reset_index(drop=True)"
   ]
  },
  {
   "cell_type": "code",
   "execution_count": 9,
   "id": "1c7be64d",
   "metadata": {
    "ExecuteTime": {
     "end_time": "2022-05-28T15:20:01.243477Z",
     "start_time": "2022-05-28T15:20:01.165593Z"
    },
    "scrolled": true
   },
   "outputs": [
    {
     "name": "stdout",
     "output_type": "stream",
     "text": [
      "Model: \"model\"\n",
      "__________________________________________________________________________________________________\n",
      "Layer (type)                    Output Shape         Param #     Connected to                     \n",
      "==================================================================================================\n",
      "input_1 (InputLayer)            [(None, 81)]         0                                            \n",
      "__________________________________________________________________________________________________\n",
      "embedding (Embedding)           (None, 81, 32)       672         input_1[0][0]                    \n",
      "__________________________________________________________________________________________________\n",
      "input_2 (InputLayer)            [(None, 15)]         0                                            \n",
      "__________________________________________________________________________________________________\n",
      "input_3 (InputLayer)            [(None, 15)]         0                                            \n",
      "__________________________________________________________________________________________________\n",
      "input_4 (InputLayer)            [(None, 15)]         0                                            \n",
      "__________________________________________________________________________________________________\n",
      "input_5 (InputLayer)            [(None, 15)]         0                                            \n",
      "__________________________________________________________________________________________________\n",
      "dropout (Dropout)               (None, 81, 32)       0           embedding[0][0]                  \n",
      "__________________________________________________________________________________________________\n",
      "embedding_1 (Embedding)         (None, 15, 16)       336         input_2[0][0]                    \n",
      "__________________________________________________________________________________________________\n",
      "embedding_2 (Embedding)         (None, 15, 16)       336         input_3[0][0]                    \n",
      "__________________________________________________________________________________________________\n",
      "embedding_3 (Embedding)         (None, 15, 16)       336         input_4[0][0]                    \n",
      "__________________________________________________________________________________________________\n",
      "embedding_4 (Embedding)         (None, 15, 16)       336         input_5[0][0]                    \n",
      "__________________________________________________________________________________________________\n",
      "bidirectional (Bidirectional)   (None, 32)           6272        dropout[0][0]                    \n",
      "__________________________________________________________________________________________________\n",
      "dropout_2 (Dropout)             (None, 15, 16)       0           embedding_1[0][0]                \n",
      "__________________________________________________________________________________________________\n",
      "dropout_3 (Dropout)             (None, 15, 16)       0           embedding_2[0][0]                \n",
      "__________________________________________________________________________________________________\n",
      "dropout_4 (Dropout)             (None, 15, 16)       0           embedding_3[0][0]                \n",
      "__________________________________________________________________________________________________\n",
      "dropout_5 (Dropout)             (None, 15, 16)       0           embedding_4[0][0]                \n",
      "__________________________________________________________________________________________________\n",
      "dense (Dense)                   (None, 16)           528         bidirectional[0][0]              \n",
      "__________________________________________________________________________________________________\n",
      "bidirectional_1 (Bidirectional) (None, 16)           1600        dropout_2[0][0]                  \n",
      "__________________________________________________________________________________________________\n",
      "bidirectional_2 (Bidirectional) (None, 16)           1600        dropout_3[0][0]                  \n",
      "__________________________________________________________________________________________________\n",
      "bidirectional_3 (Bidirectional) (None, 16)           1600        dropout_4[0][0]                  \n",
      "__________________________________________________________________________________________________\n",
      "bidirectional_4 (Bidirectional) (None, 16)           1600        dropout_5[0][0]                  \n",
      "__________________________________________________________________________________________________\n",
      "dropout_1 (Dropout)             (None, 16)           0           dense[0][0]                      \n",
      "__________________________________________________________________________________________________\n",
      "dropout_6 (Dropout)             (None, 16)           0           bidirectional_1[0][0]            \n",
      "__________________________________________________________________________________________________\n",
      "dropout_7 (Dropout)             (None, 16)           0           bidirectional_2[0][0]            \n",
      "__________________________________________________________________________________________________\n",
      "dropout_8 (Dropout)             (None, 16)           0           bidirectional_3[0][0]            \n",
      "__________________________________________________________________________________________________\n",
      "dropout_9 (Dropout)             (None, 16)           0           bidirectional_4[0][0]            \n",
      "__________________________________________________________________________________________________\n",
      "concatenate (Concatenate)       (None, 80)           0           dropout_1[0][0]                  \n",
      "                                                                 dropout_6[0][0]                  \n",
      "                                                                 dropout_7[0][0]                  \n",
      "                                                                 dropout_8[0][0]                  \n",
      "                                                                 dropout_9[0][0]                  \n",
      "__________________________________________________________________________________________________\n",
      "dense_1 (Dense)                 (None, 64)           5184        concatenate[0][0]                \n",
      "__________________________________________________________________________________________________\n",
      "dropout_10 (Dropout)            (None, 64)           0           dense_1[0][0]                    \n",
      "__________________________________________________________________________________________________\n",
      "dense_2 (Dense)                 (None, 32)           2080        dropout_10[0][0]                 \n",
      "__________________________________________________________________________________________________\n",
      "dropout_11 (Dropout)            (None, 32)           0           dense_2[0][0]                    \n",
      "__________________________________________________________________________________________________\n",
      "dense_3 (Dense)                 (None, 1)            33          dropout_11[0][0]                 \n",
      "==================================================================================================\n",
      "Total params: 22,513\n",
      "Trainable params: 22,513\n",
      "Non-trainable params: 0\n",
      "__________________________________________________________________________________________________\n",
      "None\n",
      "Model: \"model\"\n",
      "__________________________________________________________________________________________________\n",
      "Layer (type)                    Output Shape         Param #     Connected to                     \n",
      "==================================================================================================\n",
      "input_1 (InputLayer)            [(None, 81)]         0                                            \n",
      "__________________________________________________________________________________________________\n",
      "input_2 (InputLayer)            [(None, 15)]         0                                            \n",
      "__________________________________________________________________________________________________\n",
      "input_3 (InputLayer)            [(None, 15)]         0                                            \n",
      "__________________________________________________________________________________________________\n",
      "input_4 (InputLayer)            [(None, 15)]         0                                            \n",
      "__________________________________________________________________________________________________\n",
      "input_5 (InputLayer)            [(None, 15)]         0                                            \n",
      "__________________________________________________________________________________________________\n",
      "embedding (Embedding)           (None, 81, 32)       672         input_1[0][0]                    \n",
      "__________________________________________________________________________________________________\n",
      "embedding_1 (Embedding)         (None, 15, 16)       336         input_2[0][0]                    \n",
      "__________________________________________________________________________________________________\n",
      "embedding_2 (Embedding)         (None, 15, 16)       336         input_3[0][0]                    \n",
      "__________________________________________________________________________________________________\n",
      "embedding_3 (Embedding)         (None, 15, 16)       336         input_4[0][0]                    \n",
      "__________________________________________________________________________________________________\n",
      "embedding_4 (Embedding)         (None, 15, 16)       336         input_5[0][0]                    \n",
      "__________________________________________________________________________________________________\n",
      "dropout (Dropout)               (None, 81, 32)       0           embedding[0][0]                  \n",
      "__________________________________________________________________________________________________\n",
      "dropout_2 (Dropout)             (None, 15, 16)       0           embedding_1[0][0]                \n",
      "__________________________________________________________________________________________________\n",
      "dropout_3 (Dropout)             (None, 15, 16)       0           embedding_2[0][0]                \n",
      "__________________________________________________________________________________________________\n",
      "dropout_4 (Dropout)             (None, 15, 16)       0           embedding_3[0][0]                \n",
      "__________________________________________________________________________________________________\n",
      "dropout_5 (Dropout)             (None, 15, 16)       0           embedding_4[0][0]                \n",
      "__________________________________________________________________________________________________\n",
      "bidirectional (Bidirectional)   (None, 32)           6272        dropout[0][0]                    \n",
      "__________________________________________________________________________________________________\n",
      "bidirectional_1 (Bidirectional) (None, 16)           1600        dropout_2[0][0]                  \n",
      "__________________________________________________________________________________________________\n",
      "bidirectional_2 (Bidirectional) (None, 16)           1600        dropout_3[0][0]                  \n",
      "__________________________________________________________________________________________________\n",
      "bidirectional_3 (Bidirectional) (None, 16)           1600        dropout_4[0][0]                  \n",
      "__________________________________________________________________________________________________\n",
      "bidirectional_4 (Bidirectional) (None, 16)           1600        dropout_5[0][0]                  \n",
      "==================================================================================================\n",
      "Total params: 14,688\n",
      "Trainable params: 14,688\n",
      "Non-trainable params: 0\n",
      "__________________________________________________________________________________________________\n",
      "None\n"
     ]
    }
   ],
   "source": [
    "print(model.summary())\n",
    "\n",
    "pep_output = 'bidirectional'\n",
    "n_output = 'bidirectional_1'\n",
    "c_output = 'bidirectional_2'\n",
    "m1_output = 'bidirectional_3'\n",
    "m2_output = 'bidirectional_4'\n",
    "model_tsne = keras.Model(inputs=model.input,\n",
    "                                       outputs=[model.get_layer(pep_output).output,\n",
    "                                                model.get_layer(n_output).output,\n",
    "                                                model.get_layer(c_output).output,\n",
    "                                                model.get_layer(m1_output).output,\n",
    "                                                model.get_layer(m2_output).output])\n",
    "print(model_tsne.summary())"
   ]
  },
  {
   "cell_type": "code",
   "execution_count": null,
   "id": "346c8545",
   "metadata": {
    "ExecuteTime": {
     "start_time": "2022-05-28T15:18:07.673Z"
    }
   },
   "outputs": [],
   "source": [
    "pep_out, n_out, c_out, m1_out, m2_out = model_tsne.predict(\n",
    "    [pep_test, n_test, c_test, m1_test, m2_test])"
   ]
  },
  {
   "cell_type": "code",
   "execution_count": null,
   "id": "197f66ed",
   "metadata": {
    "ExecuteTime": {
     "start_time": "2022-05-27T20:07:44.656Z"
    }
   },
   "outputs": [],
   "source": [
    "vectors_n = TSNE(n_components=2).fit_transform(n_out)\n",
    "vectors_c = TSNE(n_components=2).fit_transform(c_out)\n",
    "vectors_m1 = TSNE(n_components=2).fit_transform(m1_out)\n",
    "vectors_m2 = TSNE(n_components=2).fit_transform(m2_out)"
   ]
  },
  {
   "cell_type": "code",
   "execution_count": null,
   "id": "141d05d2",
   "metadata": {
    "ExecuteTime": {
     "start_time": "2022-05-27T20:13:22.134Z"
    }
   },
   "outputs": [],
   "source": [
    "plt.figure(figsize=(20,20))\n",
    "\n",
    "plt.scatter(vectors_n[:, 0], vectors_n[:, 1], color='blue', alpha=0.5, label='Cleavaged')\n",
    "plt.scatter(vectors_c[:, 0], vectors_c[:, 1], color='blue', alpha=0.5, label='MissedCleavaged')\n",
    "plt.scatter(vectors_m1[:, 0], vectors_m1[:, 1], color='red', alpha=0.5, label='Cleavaged')\n",
    "plt.scatter(vectors_m2[:, 0], vectors_m2[:, 1], color='red', alpha=0.5, label='MissedCleavaged')\n",
    "\n",
    "# plt.scatter(multiclv[:, 0], multiclv[:, 1], color='green', alpha=0.1, label='Multi-Label-Cleavaged')\n",
    "# plt.scatter(multiclv[:, 0], multiclv[:, 1], color='gold', alpha=0.05, label='Multi-Label-MissedCleavaged')\n",
    "\n",
    "plt.title('DeepDigest TSNE')\n",
    "plt.savefig('log/result_TSNE_DbyDeep.png', )\n",
    "plt.show()"
   ]
  },
  {
   "cell_type": "code",
   "execution_count": null,
   "id": "6e514ad0",
   "metadata": {},
   "outputs": [],
   "source": [
    "# down sampling\n",
    "cnt = min(len(clv), len(mclv), len(multiclv))\n",
    "\n",
    "clv_sample = clv[:cnt]\n",
    "mclv_sample = mclv[:cnt]\n",
    "multiclv_sample = multiclv[:cnt]"
   ]
  }
 ],
 "metadata": {
  "kernelspec": {
   "display_name": "TF2.4",
   "language": "python",
   "name": "tf2.4"
  },
  "language_info": {
   "codemirror_mode": {
    "name": "ipython",
    "version": 3
   },
   "file_extension": ".py",
   "mimetype": "text/x-python",
   "name": "python",
   "nbconvert_exporter": "python",
   "pygments_lexer": "ipython3",
   "version": "3.7.0"
  }
 },
 "nbformat": 4,
 "nbformat_minor": 5
}
