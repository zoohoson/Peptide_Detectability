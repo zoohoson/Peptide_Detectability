{
 "cells": [
  {
   "cell_type": "code",
   "execution_count": 1,
   "metadata": {
    "ExecuteTime": {
     "end_time": "2022-01-02T19:02:44.931474Z",
     "start_time": "2022-01-02T19:02:43.960124Z"
    }
   },
   "outputs": [],
   "source": [
    "import pandas as pd\n",
    "import numpy as np\n",
    "import matplotlib.pyplot as plt\n",
    "import seaborn as sns\n",
    "from sklearn.metrics import classification_report\n",
    "from sklearn.metrics import confusion_matrix\n",
    "from sklearn.metrics import roc_curve\n",
    "from sklearn.metrics import roc_auc_score\n",
    "from sklearn.model_selection import train_test_split"
   ]
  },
  {
   "cell_type": "code",
   "execution_count": 2,
   "metadata": {
    "ExecuteTime": {
     "end_time": "2022-01-02T19:02:44.943265Z",
     "start_time": "2022-01-02T19:02:44.933074Z"
    }
   },
   "outputs": [
    {
     "name": "stdout",
     "output_type": "stream",
     "text": [
      "(19, 21)\n"
     ]
    }
   ],
   "source": [
    "df_aaindex = pd.read_csv('../data/aaindex/df_aaindex19.csv')\n",
    "print(df_aaindex.shape)\n",
    "df_aaindex.head(1)\n",
    "tmp = df_aaindex.drop('Unnamed: 0',axis=1).T\n",
    "aa2val = dict()\n",
    "for aa, val in zip(tmp.index, tmp.values):\n",
    "    aa2val[aa]=val"
   ]
  },
  {
   "cell_type": "code",
   "execution_count": 3,
   "metadata": {
    "ExecuteTime": {
     "end_time": "2022-01-02T19:02:48.711883Z",
     "start_time": "2022-01-02T19:02:45.132769Z"
    }
   },
   "outputs": [],
   "source": [
    "df_detect_peptide_train = pd.read_csv('train.csv')\n",
    "test = pd.read_csv('test.csv')\n",
    "train, val = train_test_split(df_detect_peptide_train, test_size=0.2, random_state=7)"
   ]
  },
  {
   "cell_type": "code",
   "execution_count": 4,
   "metadata": {
    "ExecuteTime": {
     "end_time": "2022-01-02T19:02:48.720254Z",
     "start_time": "2022-01-02T19:02:48.713319Z"
    }
   },
   "outputs": [],
   "source": [
    "def get_data_labelEnc(df):\n",
    "    label_enc = {v:k+1 for k, v in enumerate('ARNDCQEGHILKMFPSTWYV')}\n",
    "    label_enc['Z']=0\n",
    "    aa_data = [np.array([seq.count(a) for a in 'ARNDCQEGHILKMFPSTWYV'] + list(np.array([aa2val[aa] for aa in seq]).sum(axis=0)))\n",
    "               for seq in df.PEP.values]\n",
    "    pep_data = [[label_enc[aa] for aa in seq] + [0]*(30-len(seq))\n",
    "               for seq in df.PEP.values]\n",
    "    en_data = [[label_enc[aa] for aa in seq]\n",
    "               for seq in df.En.values]\n",
    "    ec_data = [[label_enc[aa] for aa in seq]\n",
    "               for seq in df.Ec.values]\n",
    "    e1_data = [[label_enc[aa] for aa in seq]\n",
    "               if seq != '-' else [0 for _ in range(31)]\n",
    "               for seq in df.E1.values]\n",
    "    e2_data = [[label_enc[aa] for aa in seq]\n",
    "               if seq != '-' else [0 for _ in range(31)]\n",
    "               for seq in df.E2.values]\n",
    "    return np.array(aa_data), np.array(pep_data), np.array(en_data), np.array(ec_data), np.array(e1_data), np.array(e2_data), np.array(df.ID.values)"
   ]
  },
  {
   "cell_type": "code",
   "execution_count": 5,
   "metadata": {
    "ExecuteTime": {
     "end_time": "2022-01-02T19:02:48.734875Z",
     "start_time": "2022-01-02T19:02:48.721811Z"
    }
   },
   "outputs": [
    {
     "name": "stdout",
     "output_type": "stream",
     "text": [
      "{'A': 1, 'R': 2, 'N': 3, 'D': 4, 'C': 5, 'Q': 6, 'E': 7, 'G': 8, 'H': 9, 'I': 10, 'L': 11, 'K': 12, 'M': 13, 'F': 14, 'P': 15, 'S': 16, 'T': 17, 'W': 18, 'Y': 19, 'V': 20}\n"
     ]
    }
   ],
   "source": [
    "label_enc = {v:k+1 for k, v in enumerate('ARNDCQEGHILKMFPSTWYV')}\n",
    "print(label_enc)"
   ]
  },
  {
   "cell_type": "code",
   "execution_count": 6,
   "metadata": {
    "ExecuteTime": {
     "end_time": "2022-01-02T19:03:35.330213Z",
     "start_time": "2022-01-02T19:02:48.736312Z"
    }
   },
   "outputs": [
    {
     "name": "stdout",
     "output_type": "stream",
     "text": [
      "(543784, 39) (543784, 30) (543784, 31) (543784, 31) (543784, 31) (543784, 31) (543784,)\n",
      "(135946, 39) (135946, 30) (135946, 31) (135946, 31) (135946, 31) (135946, 31) (135946,)\n",
      "(134200, 39) (134200, 30) (134200, 31) (134200, 31) (134200, 31) (134200, 31) (134200,)\n"
     ]
    }
   ],
   "source": [
    "aa_train, pep_train, en_train, ec_train, e1_train, e2_train, y_train = get_data_labelEnc(train)\n",
    "aa_val, pep_val, en_val, ec_val, e1_val, e2_val, y_val = get_data_labelEnc(val)\n",
    "aa_test, pep_test, en_test, ec_test, e1_test, e2_test, y_test = get_data_labelEnc(test)\n",
    "print(aa_train.shape, pep_train.shape, en_train.shape, ec_train.shape, e1_train.shape, e2_train.shape, y_train.shape)\n",
    "print(aa_val.shape, pep_val.shape, en_val.shape, ec_val.shape, e1_val.shape, e2_val.shape, y_val.shape)\n",
    "print(aa_test.shape, pep_test.shape, en_test.shape, ec_test.shape, e1_test.shape, e2_test.shape, y_test.shape)"
   ]
  },
  {
   "cell_type": "markdown",
   "metadata": {},
   "source": [
    "# Train"
   ]
  },
  {
   "cell_type": "code",
   "execution_count": 7,
   "metadata": {
    "ExecuteTime": {
     "end_time": "2022-01-02T19:03:36.493390Z",
     "start_time": "2022-01-02T19:03:35.332466Z"
    }
   },
   "outputs": [],
   "source": [
    "from tensorflow.python.client import device_lib\n",
    "\n",
    "import tensorflow as tf\n",
    "gpus = tf.config.experimental.list_physical_devices('GPU')\n",
    "if gpus:\n",
    "    try:\n",
    "        tf.config.experimental.set_virtual_device_configuration(gpus[0],\n",
    "        [tf.config.experimental.VirtualDeviceConfiguration(memory_limit=1024*4)])\n",
    "    except RuntimeError as e:\n",
    "        print(e)"
   ]
  },
  {
   "cell_type": "code",
   "execution_count": 8,
   "metadata": {
    "ExecuteTime": {
     "end_time": "2022-01-02T19:03:36.499345Z",
     "start_time": "2022-01-02T19:03:36.495629Z"
    }
   },
   "outputs": [],
   "source": [
    "def plot_graphs(history, metric):\n",
    "    plt.plot(history.history[metric])\n",
    "    plt.plot(history.history['val_'+metric], '')\n",
    "    plt.xlabel(\"Epochs\")\n",
    "    plt.ylabel(metric)\n",
    "    plt.legend([metric, 'val_'+metric])"
   ]
  },
  {
   "cell_type": "markdown",
   "metadata": {},
   "source": [
    "# high param"
   ]
  },
  {
   "cell_type": "code",
   "execution_count": 9,
   "metadata": {
    "ExecuteTime": {
     "end_time": "2022-01-02T19:03:36.507249Z",
     "start_time": "2022-01-02T19:03:36.500830Z"
    }
   },
   "outputs": [],
   "source": [
    "from tensorflow import keras"
   ]
  },
  {
   "cell_type": "code",
   "execution_count": 10,
   "metadata": {
    "ExecuteTime": {
     "end_time": "2022-01-02T19:03:38.642899Z",
     "start_time": "2022-01-02T19:03:36.508760Z"
    },
    "scrolled": true
   },
   "outputs": [
    {
     "name": "stdout",
     "output_type": "stream",
     "text": [
      "Model: \"model\"\n",
      "__________________________________________________________________________________________________\n",
      "Layer (type)                    Output Shape         Param #     Connected to                     \n",
      "==================================================================================================\n",
      "input_1 (InputLayer)            [(None, 30)]         0                                            \n",
      "__________________________________________________________________________________________________\n",
      "embedding (Embedding)           (None, 30, 32)       672         input_1[0][0]                    \n",
      "__________________________________________________________________________________________________\n",
      "dropout (Dropout)               (None, 30, 32)       0           embedding[0][0]                  \n",
      "__________________________________________________________________________________________________\n",
      "bidirectional (Bidirectional)   (None, 32)           6272        dropout[0][0]                    \n",
      "__________________________________________________________________________________________________\n",
      "input_2 (InputLayer)            [(None, 39)]         0                                            \n",
      "__________________________________________________________________________________________________\n",
      "dense_1 (Dense)                 (None, 16)           528         bidirectional[0][0]              \n",
      "__________________________________________________________________________________________________\n",
      "dense (Dense)                   (None, 32)           1280        input_2[0][0]                    \n",
      "__________________________________________________________________________________________________\n",
      "dropout_2 (Dropout)             (None, 16)           0           dense_1[0][0]                    \n",
      "__________________________________________________________________________________________________\n",
      "dropout_1 (Dropout)             (None, 32)           0           dense[0][0]                      \n",
      "__________________________________________________________________________________________________\n",
      "concatenate (Concatenate)       (None, 48)           0           dropout_2[0][0]                  \n",
      "                                                                 dropout_1[0][0]                  \n",
      "__________________________________________________________________________________________________\n",
      "dense_2 (Dense)                 (None, 64)           3136        concatenate[0][0]                \n",
      "__________________________________________________________________________________________________\n",
      "dropout_3 (Dropout)             (None, 64)           0           dense_2[0][0]                    \n",
      "__________________________________________________________________________________________________\n",
      "dense_3 (Dense)                 (None, 32)           2080        dropout_3[0][0]                  \n",
      "__________________________________________________________________________________________________\n",
      "dropout_4 (Dropout)             (None, 32)           0           dense_3[0][0]                    \n",
      "__________________________________________________________________________________________________\n",
      "dense_4 (Dense)                 (None, 1)            33          dropout_4[0][0]                  \n",
      "==================================================================================================\n",
      "Total params: 14,001\n",
      "Trainable params: 14,001\n",
      "Non-trainable params: 0\n",
      "__________________________________________________________________________________________________\n"
     ]
    }
   ],
   "source": [
    "# Embedding\n",
    "pep = tf.keras.layers.Input(shape=((30,)))\n",
    "pep_embed = tf.keras.layers.Embedding(21, 32, input_length=30, mask_zero=True)(pep)\n",
    "pep_embed = tf.keras.layers.Dropout(np.random.uniform(0, 0.2))(pep_embed)\n",
    "\n",
    "meta = tf.keras.layers.Input(shape=((39,)))  # peptide info\n",
    "\n",
    "# n = tf.keras.layers.Input(shape=((31,)))\n",
    "# n_embed = tf.keras.layers.Embedding(21, 16, input_length=31, mask_zero=True)(n)\n",
    "# n_embed = tf.keras.layers.Dropout(np.random.uniform(0, 0.2))(n_embed)\n",
    "\n",
    "# c = tf.keras.layers.Input(shape=((31,)))\n",
    "# c_embed = tf.keras.layers.Embedding(21, 16, input_length=31, mask_zero=True)(c)\n",
    "# c_embed = tf.keras.layers.Dropout(np.random.uniform(0, 0.2))(c_embed)\n",
    "\n",
    "# m1 = tf.keras.layers.Input(shape=((31,)))\n",
    "# m1_embed = tf.keras.layers.Embedding(21, 16, input_length=31, mask_zero=True)(m1)\n",
    "# m1_embed = tf.keras.layers.Dropout(np.random.uniform(0, 0.2))(m1_embed)\n",
    "\n",
    "# m2 = tf.keras.layers.Input(shape=((31,)))\n",
    "# m2_embed = tf.keras.layers.Embedding(21, 16, input_length=31, mask_zero=True)(m2)\n",
    "# m2_embed = tf.keras.layers.Dropout(np.random.uniform(0, 0.2))(m2_embed)\n",
    "\n",
    "\n",
    "# LSTM\n",
    "net_meta = tf.keras.layers.Dense(32, activation='relu')(meta)\n",
    "net_meta = tf.keras.layers.Dropout(np.random.uniform(0, 0.2))(net_meta)\n",
    "\n",
    "# n_lstm = tf.keras.layers.Bidirectional(tf.keras.layers.LSTM(8))(n_embed)\n",
    "# n_lstm = tf.keras.layers.Dense(8, activation='relu')(n_lstm)\n",
    "# n_lstm = tf.keras.layers.Dropout(np.random.uniform(0, 0.2))(n_lstm)\n",
    "\n",
    "# c_lstm = tf.keras.layers.Bidirectional(tf.keras.layers.LSTM(8))(c_embed)\n",
    "# c_lstm = tf.keras.layers.Dense(8, activation='relu')(c_lstm)\n",
    "# c_lstm = tf.keras.layers.Dropout(np.random.uniform(0, 0.2))(c_lstm)\n",
    "\n",
    "# m1_lstm = tf.keras.layers.Bidirectional(tf.keras.layers.LSTM(8))(m1_embed)\n",
    "# m1_lstm = tf.keras.layers.Dense(8, activation='relu')(m1_lstm)\n",
    "# m1_lstm = tf.keras.layers.Dropout(np.random.uniform(0, 0.2))(m1_lstm)\n",
    "\n",
    "# m2_lstm = tf.keras.layers.Bidirectional(tf.keras.layers.LSTM(8))(m2_embed)\n",
    "# m2_lstm = tf.keras.layers.Dense(8, activation='relu')(m2_lstm)\n",
    "# m2_lstm = tf.keras.layers.Dropout(np.random.uniform(0, 0.2))(m2_lstm)\n",
    "\n",
    "pep_lstm = tf.keras.layers.Bidirectional(tf.keras.layers.LSTM(16))(pep_embed)\n",
    "pep_lstm = tf.keras.layers.Dense(16, activation='relu')(pep_lstm)\n",
    "pep_lstm = tf.keras.layers.Dropout(np.random.uniform(0, 0.2))(pep_lstm)\n",
    "\n",
    "\n",
    "# Dense\n",
    "merge = tf.keras.layers.concatenate([pep_lstm, \n",
    "                                     net_meta,\n",
    "#                                      n_lstm,\n",
    "#                                      c_lstm,\n",
    "#                                      m1_lstm,\n",
    "#                                      m2_lstm\n",
    "                                    ])\n",
    "net_merge = tf.keras.layers.Dense(64, activation='relu')(merge)\n",
    "net_merge = tf.keras.layers.Dropout(np.random.uniform(0, 0.2))(net_merge)\n",
    "net_merge = tf.keras.layers.Dense(32, activation='relu')(net_merge)\n",
    "net_merge = tf.keras.layers.Dropout(np.random.uniform(0, 0.2))(net_merge)\n",
    "\n",
    "output = tf.keras.layers.Dense(1, activation = 'sigmoid')(net_merge)\n",
    "\n",
    "model_high = tf.keras.Model(inputs=[pep, meta,\n",
    "#                                     n, c, m1, m2\n",
    "                                   ],\n",
    "                            outputs=[output])\n",
    "\n",
    "model_high.summary()\n",
    "\n",
    "model_high.compile(loss=tf.keras.losses.BinaryCrossentropy(from_logits=True),\n",
    "              optimizer=tf.keras.optimizers.Adam(5e-4),\n",
    "              metrics=['accuracy'])\n",
    "\n",
    "es = tf.keras.callbacks.EarlyStopping(monitor='val_loss',\n",
    "                                      mode='min', \n",
    "                                      verbose=1,\n",
    "                                      patience=50)"
   ]
  },
  {
   "cell_type": "code",
   "execution_count": null,
   "metadata": {
    "ExecuteTime": {
     "start_time": "2022-01-02T19:04:11.305Z"
    },
    "scrolled": true
   },
   "outputs": [
    {
     "name": "stdout",
     "output_type": "stream",
     "text": [
      "Epoch 1/300\n",
      "4249/4249 [==============================] - 108s 23ms/step - loss: 3.6360 - accuracy: 0.5242 - val_loss: 0.5144 - val_accuracy: 0.7623\n",
      "Epoch 2/300\n",
      "4249/4249 [==============================] - 126s 30ms/step - loss: 0.5168 - accuracy: 0.7575 - val_loss: 0.4508 - val_accuracy: 0.7894\n",
      "Epoch 3/300\n",
      "4249/4249 [==============================] - 189s 45ms/step - loss: 0.4578 - accuracy: 0.7889 - val_loss: 0.4307 - val_accuracy: 0.8018\n",
      "Epoch 4/300\n",
      "4249/4249 [==============================] - 219s 52ms/step - loss: 0.4415 - accuracy: 0.7981 - val_loss: 0.4284 - val_accuracy: 0.8045\n",
      "Epoch 5/300\n",
      "4249/4249 [==============================] - 220s 52ms/step - loss: 0.4347 - accuracy: 0.8016 - val_loss: 0.4215 - val_accuracy: 0.8075\n",
      "Epoch 6/300\n",
      "4249/4249 [==============================] - 272s 64ms/step - loss: 0.4283 - accuracy: 0.8053 - val_loss: 0.4205 - val_accuracy: 0.8065\n",
      "Epoch 7/300\n",
      "4249/4249 [==============================] - 314s 74ms/step - loss: 0.4246 - accuracy: 0.8075 - val_loss: 0.4155 - val_accuracy: 0.8108\n",
      "Epoch 8/300\n",
      "4249/4249 [==============================] - 306s 72ms/step - loss: 0.4204 - accuracy: 0.8093 - val_loss: 0.4219 - val_accuracy: 0.8078\n",
      "Epoch 9/300\n",
      "4249/4249 [==============================] - 224s 53ms/step - loss: 0.4182 - accuracy: 0.8114 - val_loss: 0.4108 - val_accuracy: 0.8135\n",
      "Epoch 10/300\n",
      "4249/4249 [==============================] - 249s 58ms/step - loss: 0.4157 - accuracy: 0.8120 - val_loss: 0.4123 - val_accuracy: 0.8143\n",
      "Epoch 11/300\n",
      "4249/4249 [==============================] - 229s 54ms/step - loss: 0.4126 - accuracy: 0.8138 - val_loss: 0.4165 - val_accuracy: 0.8127\n",
      "Epoch 12/300\n",
      "4249/4249 [==============================] - 236s 56ms/step - loss: 0.4108 - accuracy: 0.8142 - val_loss: 0.4125 - val_accuracy: 0.8116\n",
      "Epoch 13/300\n",
      "4249/4249 [==============================] - 236s 56ms/step - loss: 0.4113 - accuracy: 0.8136 - val_loss: 0.4094 - val_accuracy: 0.8163\n",
      "Epoch 14/300\n",
      "4249/4249 [==============================] - 294s 69ms/step - loss: 0.4084 - accuracy: 0.8153 - val_loss: 0.4055 - val_accuracy: 0.8176\n",
      "Epoch 15/300\n",
      "4249/4249 [==============================] - 318s 75ms/step - loss: 0.4087 - accuracy: 0.8150 - val_loss: 0.4059 - val_accuracy: 0.8159\n",
      "Epoch 16/300\n",
      "4249/4249 [==============================] - 216s 51ms/step - loss: 0.4074 - accuracy: 0.8159 - val_loss: 0.4071 - val_accuracy: 0.8150\n",
      "Epoch 17/300\n",
      "4249/4249 [==============================] - 144s 34ms/step - loss: 0.4057 - accuracy: 0.8165 - val_loss: 0.4069 - val_accuracy: 0.8168\n",
      "Epoch 18/300\n",
      "4249/4249 [==============================] - 150s 35ms/step - loss: 0.4072 - accuracy: 0.8154 - val_loss: 0.4036 - val_accuracy: 0.8178\n",
      "Epoch 19/300\n",
      "4249/4249 [==============================] - 158s 37ms/step - loss: 0.4048 - accuracy: 0.8173 - val_loss: 0.4052 - val_accuracy: 0.8183\n",
      "Epoch 20/300\n",
      "4249/4249 [==============================] - 260s 61ms/step - loss: 0.4040 - accuracy: 0.8167 - val_loss: 0.4038 - val_accuracy: 0.8181\n",
      "Epoch 21/300\n",
      "4249/4249 [==============================] - 282s 66ms/step - loss: 0.4023 - accuracy: 0.8179 - val_loss: 0.4017 - val_accuracy: 0.8188\n",
      "Epoch 22/300\n",
      "4249/4249 [==============================] - 119s 28ms/step - loss: 0.4018 - accuracy: 0.8186 - val_loss: 0.4069 - val_accuracy: 0.8181\n",
      "Epoch 23/300\n",
      "4249/4249 [==============================] - 126s 30ms/step - loss: 0.4031 - accuracy: 0.8177 - val_loss: 0.4006 - val_accuracy: 0.8196\n",
      "Epoch 24/300\n",
      "4249/4249 [==============================] - 119s 28ms/step - loss: 0.4033 - accuracy: 0.8182 - val_loss: 0.4040 - val_accuracy: 0.8200\n",
      "Epoch 25/300\n",
      "4249/4249 [==============================] - 127s 30ms/step - loss: 0.4030 - accuracy: 0.8182 - val_loss: 0.4025 - val_accuracy: 0.8189\n",
      "Epoch 26/300\n",
      "4249/4249 [==============================] - 119s 28ms/step - loss: 0.4013 - accuracy: 0.8186 - val_loss: 0.4009 - val_accuracy: 0.8200\n",
      "Epoch 27/300\n",
      "4249/4249 [==============================] - 322s 76ms/step - loss: 0.4008 - accuracy: 0.8189 - val_loss: 0.4038 - val_accuracy: 0.8187\n",
      "Epoch 28/300\n",
      "4249/4249 [==============================] - 320s 75ms/step - loss: 0.4000 - accuracy: 0.8197 - val_loss: 0.4023 - val_accuracy: 0.8203\n",
      "Epoch 29/300\n",
      "4249/4249 [==============================] - 318s 75ms/step - loss: 0.4009 - accuracy: 0.8190 - val_loss: 0.4012 - val_accuracy: 0.8205\n",
      "Epoch 30/300\n",
      "4249/4249 [==============================] - 251s 59ms/step - loss: 0.4003 - accuracy: 0.8189 - val_loss: 0.4021 - val_accuracy: 0.8205\n",
      "Epoch 31/300\n",
      "4249/4249 [==============================] - 138s 32ms/step - loss: 0.3996 - accuracy: 0.8201 - val_loss: 0.4066 - val_accuracy: 0.8203\n",
      "Epoch 32/300\n",
      "4249/4249 [==============================] - 150s 35ms/step - loss: 0.4000 - accuracy: 0.8193 - val_loss: 0.4009 - val_accuracy: 0.8205\n",
      "Epoch 33/300\n",
      "4249/4249 [==============================] - 162s 38ms/step - loss: 0.3996 - accuracy: 0.8199 - val_loss: 0.4018 - val_accuracy: 0.8202\n",
      "Epoch 34/300\n",
      "4249/4249 [==============================] - 379s 89ms/step - loss: 0.3988 - accuracy: 0.8200 - val_loss: 0.3992 - val_accuracy: 0.8210\n",
      "Epoch 35/300\n",
      "4249/4249 [==============================] - 293s 69ms/step - loss: 0.3968 - accuracy: 0.8214 - val_loss: 0.4033 - val_accuracy: 0.8209\n",
      "Epoch 36/300\n",
      "4249/4249 [==============================] - 231s 54ms/step - loss: 0.3989 - accuracy: 0.8196 - val_loss: 0.4034 - val_accuracy: 0.8194\n",
      "Epoch 37/300\n",
      "4249/4249 [==============================] - 131s 31ms/step - loss: 0.3971 - accuracy: 0.8204 - val_loss: 0.4014 - val_accuracy: 0.8200\n",
      "Epoch 38/300\n",
      "4249/4249 [==============================] - 94s 22ms/step - loss: 0.3989 - accuracy: 0.8191 - val_loss: 0.3992 - val_accuracy: 0.8204\n",
      "Epoch 39/300\n",
      "4249/4249 [==============================] - 92s 22ms/step - loss: 0.3978 - accuracy: 0.8203 - val_loss: 0.3997 - val_accuracy: 0.8209\n",
      "Epoch 40/300\n",
      "4249/4249 [==============================] - 82s 19ms/step - loss: 0.3973 - accuracy: 0.8213 - val_loss: 0.4005 - val_accuracy: 0.8205\n",
      "Epoch 41/300\n",
      "4249/4249 [==============================] - 107s 25ms/step - loss: 0.3969 - accuracy: 0.8206 - val_loss: 0.4016 - val_accuracy: 0.8213\n",
      "Epoch 42/300\n",
      "4249/4249 [==============================] - 206s 49ms/step - loss: 0.3980 - accuracy: 0.8207 - val_loss: 0.4012 - val_accuracy: 0.8205\n",
      "Epoch 43/300\n",
      "4249/4249 [==============================] - 121s 29ms/step - loss: 0.3981 - accuracy: 0.8206 - val_loss: 0.4000 - val_accuracy: 0.8200\n",
      "Epoch 44/300\n",
      "4249/4249 [==============================] - 121s 29ms/step - loss: 0.3970 - accuracy: 0.8206 - val_loss: 0.3991 - val_accuracy: 0.8209\n",
      "Epoch 45/300\n",
      "4249/4249 [==============================] - 120s 28ms/step - loss: 0.3984 - accuracy: 0.8199 - val_loss: 0.4014 - val_accuracy: 0.8210\n",
      "Epoch 46/300\n",
      "4249/4249 [==============================] - 126s 30ms/step - loss: 0.3956 - accuracy: 0.8221 - val_loss: 0.3993 - val_accuracy: 0.8204\n",
      "Epoch 47/300\n",
      "4249/4249 [==============================] - 156s 37ms/step - loss: 0.3974 - accuracy: 0.8210 - val_loss: 0.3981 - val_accuracy: 0.8215\n",
      "Epoch 48/300\n",
      "4249/4249 [==============================] - 127s 30ms/step - loss: 0.3958 - accuracy: 0.8213 - val_loss: 0.3987 - val_accuracy: 0.8218\n",
      "Epoch 49/300\n",
      "4249/4249 [==============================] - 161s 38ms/step - loss: 0.3958 - accuracy: 0.8211 - val_loss: 0.3996 - val_accuracy: 0.8203\n",
      "Epoch 50/300\n",
      "4249/4249 [==============================] - 129s 30ms/step - loss: 0.3950 - accuracy: 0.8214 - val_loss: 0.4039 - val_accuracy: 0.8205\n",
      "Epoch 51/300\n",
      "4249/4249 [==============================] - 271s 64ms/step - loss: 0.3957 - accuracy: 0.8219 - val_loss: 0.3984 - val_accuracy: 0.8216\n",
      "Epoch 52/300\n",
      "4249/4249 [==============================] - 306s 72ms/step - loss: 0.3952 - accuracy: 0.8227 - val_loss: 0.4006 - val_accuracy: 0.8212\n",
      "Epoch 53/300\n",
      "4249/4249 [==============================] - 314s 74ms/step - loss: 0.3957 - accuracy: 0.8215 - val_loss: 0.3978 - val_accuracy: 0.8214\n",
      "Epoch 54/300\n",
      "4249/4249 [==============================] - 317s 75ms/step - loss: 0.3943 - accuracy: 0.8221 - val_loss: 0.4009 - val_accuracy: 0.8220\n",
      "Epoch 55/300\n",
      "4249/4249 [==============================] - 300s 71ms/step - loss: 0.3938 - accuracy: 0.8226 - val_loss: 0.3981 - val_accuracy: 0.8210\n",
      "Epoch 56/300\n"
     ]
    },
    {
     "name": "stdout",
     "output_type": "stream",
     "text": [
      "4249/4249 [==============================] - 282s 66ms/step - loss: 0.3943 - accuracy: 0.8220 - val_loss: 0.3978 - val_accuracy: 0.8215\n",
      "Epoch 57/300\n",
      "4249/4249 [==============================] - 292s 69ms/step - loss: 0.3964 - accuracy: 0.8204 - val_loss: 0.3982 - val_accuracy: 0.8214\n",
      "Epoch 58/300\n",
      "4249/4249 [==============================] - 316s 74ms/step - loss: 0.3951 - accuracy: 0.8218 - val_loss: 0.3973 - val_accuracy: 0.8221\n",
      "Epoch 59/300\n",
      "4249/4249 [==============================] - 315s 74ms/step - loss: 0.3941 - accuracy: 0.8221 - val_loss: 0.3975 - val_accuracy: 0.8216\n",
      "Epoch 60/300\n",
      "4249/4249 [==============================] - 321s 76ms/step - loss: 0.3933 - accuracy: 0.8217 - val_loss: 0.3993 - val_accuracy: 0.8217\n",
      "Epoch 61/300\n",
      "4249/4249 [==============================] - 315s 74ms/step - loss: 0.3928 - accuracy: 0.8226 - val_loss: 0.3965 - val_accuracy: 0.8216\n",
      "Epoch 62/300\n",
      "4249/4249 [==============================] - 316s 74ms/step - loss: 0.3945 - accuracy: 0.8220 - val_loss: 0.3992 - val_accuracy: 0.8210\n",
      "Epoch 63/300\n",
      "4249/4249 [==============================] - 314s 74ms/step - loss: 0.3944 - accuracy: 0.8215 - val_loss: 0.3961 - val_accuracy: 0.8217\n",
      "Epoch 64/300\n",
      "4249/4249 [==============================] - 319s 75ms/step - loss: 0.3946 - accuracy: 0.8222 - val_loss: 0.3982 - val_accuracy: 0.8211\n",
      "Epoch 65/300\n",
      "4249/4249 [==============================] - 315s 74ms/step - loss: 0.3927 - accuracy: 0.8227 - val_loss: 0.4010 - val_accuracy: 0.8217\n",
      "Epoch 66/300\n",
      "4249/4249 [==============================] - 316s 74ms/step - loss: 0.3930 - accuracy: 0.8228 - val_loss: 0.4020 - val_accuracy: 0.8213\n",
      "Epoch 67/300\n",
      "4249/4249 [==============================] - 314s 74ms/step - loss: 0.3939 - accuracy: 0.8225 - val_loss: 0.3988 - val_accuracy: 0.8219\n",
      "Epoch 68/300\n",
      "4249/4249 [==============================] - 319s 75ms/step - loss: 0.3917 - accuracy: 0.8234 - val_loss: 0.4013 - val_accuracy: 0.8219\n",
      "Epoch 69/300\n",
      "4249/4249 [==============================] - 317s 75ms/step - loss: 0.3908 - accuracy: 0.8239 - val_loss: 0.3954 - val_accuracy: 0.8222\n",
      "Epoch 70/300\n",
      "4249/4249 [==============================] - 317s 75ms/step - loss: 0.3941 - accuracy: 0.8219 - val_loss: 0.4002 - val_accuracy: 0.8216\n",
      "Epoch 71/300\n",
      "4249/4249 [==============================] - 313s 74ms/step - loss: 0.3932 - accuracy: 0.8225 - val_loss: 0.3985 - val_accuracy: 0.8221\n",
      "Epoch 72/300\n",
      "4249/4249 [==============================] - 318s 75ms/step - loss: 0.3919 - accuracy: 0.8228 - val_loss: 0.3984 - val_accuracy: 0.8203\n",
      "Epoch 73/300\n",
      "4249/4249 [==============================] - 317s 75ms/step - loss: 0.3925 - accuracy: 0.8235 - val_loss: 0.3980 - val_accuracy: 0.8221\n",
      "Epoch 74/300\n",
      "4249/4249 [==============================] - 315s 74ms/step - loss: 0.3931 - accuracy: 0.8227 - val_loss: 0.3964 - val_accuracy: 0.8216\n",
      "Epoch 75/300\n",
      "4249/4249 [==============================] - 315s 74ms/step - loss: 0.3921 - accuracy: 0.8233 - val_loss: 0.3969 - val_accuracy: 0.8221\n",
      "Epoch 76/300\n",
      "2944/4249 [===================>..........] - ETA: 1:23 - loss: 0.3928 - accuracy: 0.8224"
     ]
    }
   ],
   "source": [
    "history = model_high.fit([pep_train, aa_train, \n",
    "#                           en_train, ec_train, e1_train, e2_train\n",
    "                         ],\n",
    "                    y_train, \n",
    "                    epochs=300,\n",
    "                    batch_size=128,\n",
    "                    validation_data=([pep_val, aa_val, \n",
    "#                                       en_val, ec_val, e1_val, e2_val\n",
    "                                     ], y_val),\n",
    "                    callbacks=[es]\n",
    "                        )"
   ]
  },
  {
   "cell_type": "code",
   "execution_count": 14,
   "metadata": {
    "ExecuteTime": {
     "end_time": "2022-01-03T07:01:32.246008Z",
     "start_time": "2022-01-03T07:01:32.243826Z"
    }
   },
   "outputs": [
    {
     "name": "stdout",
     "output_type": "stream",
     "text": [
      "finish\n"
     ]
    }
   ],
   "source": [
    "print('finish')"
   ]
  },
  {
   "cell_type": "code",
   "execution_count": 15,
   "metadata": {
    "ExecuteTime": {
     "end_time": "2022-01-03T12:35:18.324178Z",
     "start_time": "2022-01-03T12:35:18.209269Z"
    }
   },
   "outputs": [],
   "source": [
    "plt.figure(figsize=(16,2))\n",
    "plt.subplot(1,2,1)\n",
    "plot_graphs(history, 'accuracy')\n",
    "plt.subplot(1,2,2)\n",
    "plot_graphs(history, 'loss')"
   ]
  },
  {
   "cell_type": "markdown",
   "metadata": {},
   "source": [
    "# eval"
   ]
  },
  {
   "cell_type": "code",
   "execution_count": 16,
   "metadata": {
    "ExecuteTime": {
     "end_time": "2022-01-03T12:37:32.219101Z",
     "start_time": "2022-01-03T12:35:19.444998Z"
    },
    "scrolled": false
   },
   "outputs": [
    {
     "name": "stdout",
     "output_type": "stream",
     "text": [
      "4194/4194 [==============================] - 61s 14ms/step - loss: 0.3871 - accuracy: 0.8303\n",
      "Test Loss: 0.3871181309223175\n",
      "Test Accuracy: 0.8302757143974304\n",
      "              precision    recall  f1-score   support\n",
      "\n",
      "           0       0.85      0.80      0.83     67100\n",
      "           1       0.81      0.86      0.83     67100\n",
      "\n",
      "    accuracy                           0.83    134200\n",
      "   macro avg       0.83      0.83      0.83    134200\n",
      "weighted avg       0.83      0.83      0.83    134200\n",
      "\n",
      "rf auc : 0.9093679016349021\n"
     ]
    },
    {
     "data": {
      "image/png": "[encoded data removed]",
      "text/plain": [
       "<Figure size 1600x200 with 2 Axes>"
      ]
     },
     "metadata": {},
     "output_type": "display_data"
    },
    {
     "data": {
      "image/png": "[encoded data removed]",
      "text/plain": [
       "<Figure size 400x400 with 1 Axes>"
      ]
     },
     "metadata": {},
     "output_type": "display_data"
    },
    {
     "data": {
      "image/png": "[encoded data removed]",
      "text/plain": [
       "<Figure size 300x300 with 2 Axes>"
      ]
     },
     "metadata": {},
     "output_type": "display_data"
    },
    {
     "data": {
      "image/png": "[encoded data removed]",
      "text/plain": [
       "<Figure size 300x300 with 2 Axes>"
      ]
     },
     "metadata": {},
     "output_type": "display_data"
    }
   ],
   "source": [
    "test_loss, test_acc = model_high.evaluate([pep_test, aa_test\n",
    "#                                            , en_test, ec_test, e1_test, e2_test\n",
    "                                          ], y_test)\n",
    "print('Test Loss: {}'.format(test_loss))\n",
    "print('Test Accuracy: {}'.format(test_acc))\n",
    "\n",
    "# prediction\n",
    "y_pred = [1 if i>=0.5 else 0 for i in model_high.predict([pep_test, aa_test\n",
    "#                                                           , en_test, ec_test, e1_test, e2_test\n",
    "                                                         ])]\n",
    "print(classification_report(y_test, y_pred))\n",
    "# AUC\n",
    "probs = model_high.predict([pep_test, aa_test\n",
    "#                             , en_test, ec_test, e1_test, e2_test\n",
    "                           ])\n",
    "rf_auc = roc_auc_score(y_test, probs)\n",
    "print('rf auc : {}'.format(rf_auc))\n",
    "# plot the roc curve for the model_high\n",
    "rf_fpr, rf_tpr, _ = roc_curve(y_test, probs)\n",
    "plt.figure(figsize=(4, 4))\n",
    "plt.plot(rf_fpr, rf_tpr, marker='.', label='RF AUC = {:.4f}'.format(rf_auc), color='orange')\n",
    "plt.title('ROC curve')\n",
    "# axis labels\n",
    "plt.xlabel('False Positive Rate')\n",
    "plt.ylabel('True Positive Rate')\n",
    "# show the legend\n",
    "plt.legend()\n",
    "# show the plot\n",
    "plt.show()\n",
    "\n",
    "cf_matrix = confusion_matrix(y_test, y_pred)\n",
    "plt.figure(figsize=(3, 3))\n",
    "sns.heatmap(cf_matrix, annot=True, fmt=',.0f')\n",
    "plt.show()\n",
    "plt.figure(figsize=(3, 3))\n",
    "sns.heatmap(cf_matrix/np.sum(cf_matrix), annot=True, \n",
    "            fmt='.2%', cmap='Blues')\n",
    "plt.show()"
   ]
  },
  {
   "cell_type": "code",
   "execution_count": null,
   "metadata": {
    "ExecuteTime": {
     "start_time": "2022-01-02T19:02:00.440Z"
    }
   },
   "outputs": [],
   "source": [
    "# # Calling `save('my_model.h5')` creates a h5 file `my_model.h5`.\n",
    "# model_high.save(\"compareModel/2021KSBi_multi_lr0005\")"
   ]
  }
 ],
 "metadata": {
  "kernelspec": {
   "display_name": "TF2.4",
   "language": "python",
   "name": "tf2.4"
  },
  "language_info": {
   "codemirror_mode": {
    "name": "ipython",
    "version": 3
   },
   "file_extension": ".py",
   "mimetype": "text/x-python",
   "name": "python",
   "nbconvert_exporter": "python",
   "pygments_lexer": "ipython3",
   "version": "3.7.0"
  }
 },
 "nbformat": 4,
 "nbformat_minor": 4
}
