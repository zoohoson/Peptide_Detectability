{
 "cells": [
  {
   "cell_type": "code",
   "execution_count": 1,
   "metadata": {
    "ExecuteTime": {
     "end_time": "2022-01-02T21:27:04.253858Z",
     "start_time": "2022-01-02T21:27:03.201952Z"
    }
   },
   "outputs": [],
   "source": [
    "import pandas as pd\n",
    "import numpy as np\n",
    "import matplotlib.pyplot as plt\n",
    "import seaborn as sns\n",
    "from sklearn.metrics import classification_report\n",
    "from sklearn.metrics import confusion_matrix\n",
    "from sklearn.metrics import roc_curve\n",
    "from sklearn.metrics import roc_auc_score\n",
    "from sklearn.model_selection import train_test_split"
   ]
  },
  {
   "cell_type": "code",
   "execution_count": 2,
   "metadata": {
    "ExecuteTime": {
     "end_time": "2022-01-02T21:27:04.258652Z",
     "start_time": "2022-01-02T21:27:04.255924Z"
    }
   },
   "outputs": [],
   "source": [
    "import sys\n",
    "PATH_TO_REPO = \"/home/bis/2021_SJH_detectability/Detectability/compareModel/2021ACS_DeepDigest/\"\n",
    "sys.path.append(PATH_TO_REPO)"
   ]
  },
  {
   "cell_type": "code",
   "execution_count": 3,
   "metadata": {
    "ExecuteTime": {
     "end_time": "2022-01-02T21:27:05.663827Z",
     "start_time": "2022-01-02T21:27:04.264918Z"
    }
   },
   "outputs": [],
   "source": [
    "import time\n",
    "start = time.time()\n",
    "import read_protein_sequences\n",
    "import cut_and_gene_tradata\n",
    "import predictor\n",
    "import sys\n",
    "import getopt"
   ]
  },
  {
   "cell_type": "markdown",
   "metadata": {},
   "source": [
    "# digestibility check data"
   ]
  },
  {
   "cell_type": "code",
   "execution_count": 4,
   "metadata": {
    "ExecuteTime": {
     "end_time": "2022-01-02T21:27:51.920412Z",
     "start_time": "2022-01-02T21:27:06.263564Z"
    }
   },
   "outputs": [
    {
     "name": "stdout",
     "output_type": "stream",
     "text": [
      "(19, 21)\n",
      "{'A': 1, 'R': 2, 'N': 3, 'D': 4, 'C': 5, 'Q': 6, 'E': 7, 'G': 8, 'H': 9, 'I': 10, 'L': 11, 'K': 12, 'M': 13, 'F': 14, 'P': 15, 'S': 16, 'T': 17, 'W': 18, 'Y': 19, 'V': 20}\n",
      "(543784, 39) (543784, 30) (543784, 31) (543784, 31) (543784, 31) (543784, 31) (543784,)\n",
      "(135946, 39) (135946, 30) (135946, 31) (135946, 31) (135946, 31) (135946, 31) (135946,)\n",
      "(67100, 39) (67100, 30) (67100, 31) (67100, 31) (67100, 31) (67100, 31) (67100,)\n"
     ]
    }
   ],
   "source": [
    "df_aaindex = pd.read_csv('../data/aaindex/df_aaindex19.csv')\n",
    "print(df_aaindex.shape)\n",
    "df_aaindex.head(1)\n",
    "tmp = df_aaindex.drop('Unnamed: 0',axis=1).T\n",
    "aa2val = dict()\n",
    "for aa, val in zip(tmp.index, tmp.values):\n",
    "    aa2val[aa]=val\n",
    "\n",
    "df_detect_peptide_train = pd.read_csv('train.csv')\n",
    "test = pd.read_csv('test.csv')\n",
    "test = test.loc[test.ID==1].reset_index(drop=True)\n",
    "train, val = train_test_split(df_detect_peptide_train, test_size=0.2, random_state=7)\n",
    "\n",
    "def get_data_labelEnc(df):\n",
    "    label_enc = {v:k+1 for k, v in enumerate('ARNDCQEGHILKMFPSTWYV')}\n",
    "    label_enc['Z']=0\n",
    "    aa_data = [np.array([seq.count(a) for a in 'ARNDCQEGHILKMFPSTWYV'] + list(np.array([aa2val[aa] for aa in seq]).sum(axis=0)))\n",
    "               for seq in df.PEP.values]\n",
    "    pep_data = [[label_enc[aa] for aa in seq] + [0]*(30-len(seq))\n",
    "               for seq in df.PEP.values]\n",
    "    en_data = [[label_enc[aa] for aa in seq]\n",
    "               for seq in df.En.values]\n",
    "    ec_data = [[label_enc[aa] for aa in seq]\n",
    "               for seq in df.Ec.values]\n",
    "    e1_data = [[label_enc[aa] for aa in seq]\n",
    "               if seq != '-' else [0 for _ in range(31)]\n",
    "               for seq in df.E1.values]\n",
    "    e2_data = [[label_enc[aa] for aa in seq]\n",
    "               if seq != '-' else [0 for _ in range(31)]\n",
    "               for seq in df.E2.values]\n",
    "    return np.array(aa_data), np.array(pep_data), np.array(en_data), np.array(ec_data), np.array(e1_data), np.array(e2_data), np.array(df.ID.values)\n",
    "\n",
    "label_enc = {v:k+1 for k, v in enumerate('ARNDCQEGHILKMFPSTWYV')}\n",
    "print(label_enc)\n",
    "\n",
    "aa_train, pep_train, en_train, ec_train, e1_train, e2_train, y_train = get_data_labelEnc(train)\n",
    "aa_val, pep_val, en_val, ec_val, e1_val, e2_val, y_val = get_data_labelEnc(val)\n",
    "aa_test, pep_test, en_test, ec_test, e1_test, e2_test, y_test = get_data_labelEnc(test)\n",
    "print(aa_train.shape, pep_train.shape, en_train.shape, ec_train.shape, e1_train.shape, e2_train.shape, y_train.shape)\n",
    "print(aa_val.shape, pep_val.shape, en_val.shape, ec_val.shape, e1_val.shape, e2_val.shape, y_val.shape)\n",
    "print(aa_test.shape, pep_test.shape, en_test.shape, ec_test.shape, e1_test.shape, e2_test.shape, y_test.shape)"
   ]
  },
  {
   "cell_type": "code",
   "execution_count": 5,
   "metadata": {
    "ExecuteTime": {
     "end_time": "2022-01-02T21:27:52.226480Z",
     "start_time": "2022-01-02T21:27:51.922411Z"
    }
   },
   "outputs": [
    {
     "name": "stdout",
     "output_type": "stream",
     "text": [
      "Loading model...\n",
      "Time cost of loading model was 0.2991364002227783 seconds.\n"
     ]
    }
   ],
   "source": [
    "from tensorflow.keras.models import model_from_json\n",
    "import time\n",
    "import re\n",
    "\n",
    "print(\"Loading model...\")\n",
    "protease='Trypsin'\n",
    "s3 = time.time()\n",
    "# load architecture\n",
    "json_file = open(PATH_TO_REPO+'%s.json'%protease, 'r')\n",
    "loaded_model_json = json_file.read()\n",
    "json_file.close()\n",
    "loaded_model = model_from_json(loaded_model_json)\n",
    "\n",
    "# load parameters\n",
    "loaded_model.load_weights(PATH_TO_REPO+'%s.h5'%protease)\n",
    "e3 = time.time()\n",
    "print(\"Time cost of loading model was %s seconds.\"%(e3-s3))"
   ]
  },
  {
   "cell_type": "code",
   "execution_count": 6,
   "metadata": {
    "ExecuteTime": {
     "end_time": "2022-01-02T21:35:04.404348Z",
     "start_time": "2022-01-02T21:27:52.228837Z"
    }
   },
   "outputs": [
    {
     "name": "stdout",
     "output_type": "stream",
     "text": [
      "Predicting! Please wait...\n"
     ]
    }
   ],
   "source": [
    "test['E1'] = test.E1.apply(lambda x: x.replace('-', 'Z'*31))\n",
    "test['E2'] = test.E2.apply(lambda x: x.replace('-', 'Z'*31))\n",
    "\n",
    "en = pd.DataFrame([[ts, 1] for ts in test.En.values], columns=['mers', 'label'])\n",
    "ec = pd.DataFrame([[ts, 1] for ts in test.Ec.values], columns=['mers', 'label'])\n",
    "e1 = pd.DataFrame([[ts, 0] for ts in test.E1.values], columns=['mers', 'label'])\n",
    "e2 = pd.DataFrame([[ts, 0] for ts in test.E2.values], columns=['mers', 'label'])\n",
    "df_mers = pd.concat([en, ec, e1, e2], axis=0).reset_index(drop=True)\n",
    "\n",
    "print(\"Predicting! Please wait...\")\n",
    "s4 = time.time()\n",
    "mers = df_mers.mers.values\n",
    "\n",
    "X_test = np.array(predictor.coding(mers))\n",
    "probas = loaded_model.predict(X_test)\n",
    "proba = [p[0] for p in probas]\n",
    "\n",
    "end = time.time()"
   ]
  },
  {
   "cell_type": "code",
   "execution_count": 7,
   "metadata": {
    "ExecuteTime": {
     "end_time": "2022-01-02T21:35:04.532185Z",
     "start_time": "2022-01-02T21:35:04.412398Z"
    }
   },
   "outputs": [],
   "source": [
    "df_mers['proba'] = proba"
   ]
  },
  {
   "cell_type": "code",
   "execution_count": 27,
   "metadata": {
    "ExecuteTime": {
     "end_time": "2022-01-03T04:40:35.203221Z",
     "start_time": "2022-01-03T04:40:35.192090Z"
    }
   },
   "outputs": [
    {
     "data": {
      "text/html": [
       "<div>\n",
       "<style scoped>\n",
       "    .dataframe tbody tr th:only-of-type {\n",
       "        vertical-align: middle;\n",
       "    }\n",
       "\n",
       "    .dataframe tbody tr th {\n",
       "        vertical-align: top;\n",
       "    }\n",
       "\n",
       "    .dataframe thead th {\n",
       "        text-align: right;\n",
       "    }\n",
       "</style>\n",
       "<table border=\"1\" class=\"dataframe\">\n",
       "  <thead>\n",
       "    <tr style=\"text-align: right;\">\n",
       "      <th></th>\n",
       "      <th>peptide</th>\n",
       "      <th>En</th>\n",
       "      <th>Ec</th>\n",
       "      <th>E1</th>\n",
       "      <th>E2</th>\n",
       "      <th>protein</th>\n",
       "      <th>PEP</th>\n",
       "      <th>ID</th>\n",
       "    </tr>\n",
       "  </thead>\n",
       "  <tbody>\n",
       "    <tr>\n",
       "      <th>0</th>\n",
       "      <td>K.ECGKAFSWGSSLVK.H</td>\n",
       "      <td>SQHQKIHTGEKPFECKECGKAFSWGSSLVKH</td>\n",
       "      <td>CKECGKAFSWGSSLVKHERVHTGEKSHECKE</td>\n",
       "      <td>KIHTGEKPFECKECGKAFSWGSSLVKHERVH</td>\n",
       "      <td>ZZZZZZZZZZZZZZZZZZZZZZZZZZZZZZZ</td>\n",
       "      <td>sp|Q8N7M2|ZN283_HUMAN</td>\n",
       "      <td>ECGKAFSWGSSLVK</td>\n",
       "      <td>1</td>\n",
       "    </tr>\n",
       "    <tr>\n",
       "      <th>1</th>\n",
       "      <td>R.SPFSGTMTVDGNK.N</td>\n",
       "      <td>TLGYRMVHPSLLKSSRSPFSGTMTVDGNKNS</td>\n",
       "      <td>SSRSPFSGTMTVDGNKNSPADTCVEEDATVL</td>\n",
       "      <td>ZZZZZZZZZZZZZZZZZZZZZZZZZZZZZZZ</td>\n",
       "      <td>ZZZZZZZZZZZZZZZZZZZZZZZZZZZZZZZ</td>\n",
       "      <td>sp|Q9H7U1|CCSE2_HUMAN</td>\n",
       "      <td>SPFSGTMTVDGNK</td>\n",
       "      <td>1</td>\n",
       "    </tr>\n",
       "  </tbody>\n",
       "</table>\n",
       "</div>"
      ],
      "text/plain": [
       "              peptide                               En  \\\n",
       "0  K.ECGKAFSWGSSLVK.H  SQHQKIHTGEKPFECKECGKAFSWGSSLVKH   \n",
       "1   R.SPFSGTMTVDGNK.N  TLGYRMVHPSLLKSSRSPFSGTMTVDGNKNS   \n",
       "\n",
       "                                Ec                               E1  \\\n",
       "0  CKECGKAFSWGSSLVKHERVHTGEKSHECKE  KIHTGEKPFECKECGKAFSWGSSLVKHERVH   \n",
       "1  SSRSPFSGTMTVDGNKNSPADTCVEEDATVL  ZZZZZZZZZZZZZZZZZZZZZZZZZZZZZZZ   \n",
       "\n",
       "                                E2                protein             PEP  ID  \n",
       "0  ZZZZZZZZZZZZZZZZZZZZZZZZZZZZZZZ  sp|Q8N7M2|ZN283_HUMAN  ECGKAFSWGSSLVK   1  \n",
       "1  ZZZZZZZZZZZZZZZZZZZZZZZZZZZZZZZ  sp|Q9H7U1|CCSE2_HUMAN   SPFSGTMTVDGNK   1  "
      ]
     },
     "execution_count": 27,
     "metadata": {},
     "output_type": "execute_result"
    }
   ],
   "source": [
    "test.head(2)"
   ]
  },
  {
   "cell_type": "code",
   "execution_count": 26,
   "metadata": {
    "ExecuteTime": {
     "end_time": "2022-01-03T04:40:31.188092Z",
     "start_time": "2022-01-03T04:40:31.181595Z"
    }
   },
   "outputs": [
    {
     "data": {
      "text/html": [
       "<div>\n",
       "<style scoped>\n",
       "    .dataframe tbody tr th:only-of-type {\n",
       "        vertical-align: middle;\n",
       "    }\n",
       "\n",
       "    .dataframe tbody tr th {\n",
       "        vertical-align: top;\n",
       "    }\n",
       "\n",
       "    .dataframe thead th {\n",
       "        text-align: right;\n",
       "    }\n",
       "</style>\n",
       "<table border=\"1\" class=\"dataframe\">\n",
       "  <thead>\n",
       "    <tr style=\"text-align: right;\">\n",
       "      <th></th>\n",
       "      <th>mers</th>\n",
       "      <th>label</th>\n",
       "      <th>proba</th>\n",
       "    </tr>\n",
       "  </thead>\n",
       "  <tbody>\n",
       "    <tr>\n",
       "      <th>0</th>\n",
       "      <td>SQHQKIHTGEKPFECKECGKAFSWGSSLVKH</td>\n",
       "      <td>1</td>\n",
       "      <td>0.036479</td>\n",
       "    </tr>\n",
       "    <tr>\n",
       "      <th>1</th>\n",
       "      <td>TLGYRMVHPSLLKSSRSPFSGTMTVDGNKNS</td>\n",
       "      <td>1</td>\n",
       "      <td>0.004278</td>\n",
       "    </tr>\n",
       "  </tbody>\n",
       "</table>\n",
       "</div>"
      ],
      "text/plain": [
       "                              mers  label     proba\n",
       "0  SQHQKIHTGEKPFECKECGKAFSWGSSLVKH      1  0.036479\n",
       "1  TLGYRMVHPSLLKSSRSPFSGTMTVDGNKNS      1  0.004278"
      ]
     },
     "execution_count": 26,
     "metadata": {},
     "output_type": "execute_result"
    }
   ],
   "source": [
    "df_mers.head(2)"
   ]
  },
  {
   "cell_type": "code",
   "execution_count": 28,
   "metadata": {
    "ExecuteTime": {
     "end_time": "2022-01-03T04:41:24.924633Z",
     "start_time": "2022-01-03T04:41:24.900245Z"
    }
   },
   "outputs": [],
   "source": [
    "really = loaded_model.predict(np.array(predictor.coding(['SQHQKIHTGEKPFECKECGKAFSWGSSLVKH',\n",
    "                                                        'TLGYRMVHPSLLKSSRSPFSGTMTVDGNKNS'])))"
   ]
  },
  {
   "cell_type": "code",
   "execution_count": 29,
   "metadata": {
    "ExecuteTime": {
     "end_time": "2022-01-03T04:41:26.458750Z",
     "start_time": "2022-01-03T04:41:26.455225Z"
    }
   },
   "outputs": [
    {
     "data": {
      "text/plain": [
       "array([[0.03647927],\n",
       "       [0.00427793]], dtype=float32)"
      ]
     },
     "execution_count": 29,
     "metadata": {},
     "output_type": "execute_result"
    }
   ],
   "source": [
    "really"
   ]
  },
  {
   "cell_type": "code",
   "execution_count": 8,
   "metadata": {
    "ExecuteTime": {
     "end_time": "2022-01-02T21:35:04.758828Z",
     "start_time": "2022-01-02T21:35:04.534625Z"
    }
   },
   "outputs": [],
   "source": [
    "del_idx = [idx for idx, p in zip(df_mers.index, df_mers.mers.values) if p =='Z'*31]\n",
    "df_mers_onlyreal = df_mers.drop(del_idx, axis=0).reset_index(drop=True)"
   ]
  },
  {
   "cell_type": "code",
   "execution_count": 9,
   "metadata": {
    "ExecuteTime": {
     "end_time": "2022-01-02T21:35:06.533503Z",
     "start_time": "2022-01-02T21:35:04.762170Z"
    }
   },
   "outputs": [
    {
     "data": {
      "image/png": "[encoded data removed]",
      "text/plain": [
       "<Figure size 1080x288 with 1 Axes>"
      ]
     },
     "metadata": {
      "needs_background": "light"
     },
     "output_type": "display_data"
    }
   ],
   "source": [
    "df_sns = pd.DataFrame(df_mers_onlyreal['proba'])\n",
    "df_sns['Class']= df_mers_onlyreal.label.apply(lambda x: {1:'Observed Cleaved', 0:'Observed Missed Cleaved'}[x]).values\n",
    "\n",
    "plt.figure(figsize=(15,4))\n",
    "plt.title('Digestibility')\n",
    "plt.ylabel('Digestibility')\n",
    "plt.xlabel('Type')\n",
    "\n",
    "sns.violinplot(data=df_sns, x='Class', y='proba', order=['Observed Cleaved', 'Observed Missed Cleaved'])\n",
    "plt.show()"
   ]
  },
  {
   "cell_type": "code",
   "execution_count": 10,
   "metadata": {
    "ExecuteTime": {
     "end_time": "2022-01-02T21:35:06.545379Z",
     "start_time": "2022-01-02T21:35:06.539882Z"
    }
   },
   "outputs": [],
   "source": [
    "y_test = df_mers_onlyreal.label.values"
   ]
  },
  {
   "cell_type": "code",
   "execution_count": 11,
   "metadata": {
    "ExecuteTime": {
     "end_time": "2022-01-02T21:35:08.690043Z",
     "start_time": "2022-01-02T21:35:06.549487Z"
    }
   },
   "outputs": [
    {
     "name": "stdout",
     "output_type": "stream",
     "text": [
      "              precision    recall  f1-score   support\n",
      "\n",
      "           0       0.14      0.56      0.23     35745\n",
      "           1       0.50      0.12      0.19    134200\n",
      "\n",
      "    accuracy                           0.21    169945\n",
      "   macro avg       0.32      0.34      0.21    169945\n",
      "weighted avg       0.42      0.21      0.20    169945\n",
      "\n",
      "rf auc : 0.23111407460820654\n"
     ]
    },
    {
     "data": {
      "image/png": "[encoded data removed]",
      "text/plain": [
       "<Figure size 288x288 with 1 Axes>"
      ]
     },
     "metadata": {
      "needs_background": "light"
     },
     "output_type": "display_data"
    },
    {
     "data": {
      "image/png": "[encoded data removed]",
      "text/plain": [
       "<Figure size 216x216 with 2 Axes>"
      ]
     },
     "metadata": {
      "needs_background": "light"
     },
     "output_type": "display_data"
    },
    {
     "data": {
      "image/png": "[encoded data removed]",
      "text/plain": [
       "<Figure size 216x216 with 2 Axes>"
      ]
     },
     "metadata": {
      "needs_background": "light"
     },
     "output_type": "display_data"
    }
   ],
   "source": [
    "# prediction\n",
    "y_pred = [1 if i>=0.5 else 0 for i in df_mers_onlyreal.proba.values]\n",
    "print(classification_report(y_test, y_pred))\n",
    "\n",
    "# AUC\n",
    "probs = df_mers_onlyreal.proba.values\n",
    "rf_auc = roc_auc_score(y_test, probs)\n",
    "print('rf auc : {}'.format(rf_auc))\n",
    "# plot the roc curve for the model_high\n",
    "rf_fpr, rf_tpr, _ = roc_curve(y_test, probs)\n",
    "plt.figure(figsize=(4, 4))\n",
    "plt.plot(rf_fpr, rf_tpr, marker='.', label='RF AUC = {:.4f}'.format(rf_auc), color='orange')\n",
    "plt.title('ROC curve')\n",
    "# axis labels\n",
    "plt.xlabel('False Positive Rate')\n",
    "plt.ylabel('True Positive Rate')\n",
    "# show the legend\n",
    "plt.legend()\n",
    "# show the plot\n",
    "plt.show()\n",
    "\n",
    "cf_matrix = confusion_matrix(y_test, y_pred)\n",
    "plt.figure(figsize=(3, 3))\n",
    "sns.heatmap(cf_matrix, annot=True, fmt=',.0f')\n",
    "plt.show()\n",
    "plt.figure(figsize=(3, 3))\n",
    "sns.heatmap(cf_matrix/np.sum(cf_matrix), annot=True, \n",
    "            fmt='.2%', cmap='Blues')\n",
    "plt.show()"
   ]
  },
  {
   "cell_type": "markdown",
   "metadata": {},
   "source": [
    "# 아래는 아직 훈련덜끝났기에 3.6만개만 비교하는 임시코드"
   ]
  },
  {
   "cell_type": "code",
   "execution_count": 13,
   "metadata": {
    "ExecuteTime": {
     "end_time": "2022-01-02T21:38:39.126919Z",
     "start_time": "2022-01-02T21:38:38.695766Z"
    }
   },
   "outputs": [
    {
     "name": "stdout",
     "output_type": "stream",
     "text": [
      "132645 66253 27389\n"
     ]
    }
   ],
   "source": [
    "tmp = pd.read_csv('../data/df_detect_peptide_test.csv')\n",
    "\n",
    "tp = set(tmp.PEP.unique())\n",
    "testp = set(test.PEP.unique())\n",
    "print(len(tp), len(testp), len(tp.intersection(testp)))\n",
    "\n",
    "remain_tmp_p = tp.intersection(testp)\n",
    "remain_idx = [idx for idx, p in zip(test.index, test.PEP.values) if p in remain_tmp_p]\n",
    "remain_test = test.loc[remain_idx].reset_index(drop=True)"
   ]
  },
  {
   "cell_type": "code",
   "execution_count": 14,
   "metadata": {
    "ExecuteTime": {
     "end_time": "2022-01-02T21:38:39.669434Z",
     "start_time": "2022-01-02T21:38:39.416013Z"
    }
   },
   "outputs": [],
   "source": [
    "en36 = pd.DataFrame([[ts, 1] for ts in remain_test.En.values], columns=['mers', 'label'])\n",
    "ec36 = pd.DataFrame([[ts, 1] for ts in remain_test.Ec.values], columns=['mers', 'label'])\n",
    "e136 = pd.DataFrame([[ts, 0] for ts in remain_test.E1.values], columns=['mers', 'label'])\n",
    "e236 = pd.DataFrame([[ts, 0] for ts in remain_test.E2.values], columns=['mers', 'label'])\n",
    "df_mers36 = pd.concat([en36, ec36, e136, e236], axis=0).reset_index(drop=True)"
   ]
  },
  {
   "cell_type": "code",
   "execution_count": 15,
   "metadata": {
    "ExecuteTime": {
     "end_time": "2022-01-02T21:41:18.952954Z",
     "start_time": "2022-01-02T21:38:40.753565Z"
    }
   },
   "outputs": [],
   "source": [
    "mers36 = df_mers36.mers.values\n",
    "X_test36 = np.array(predictor.coding(mers36))\n",
    "probas36 = loaded_model.predict(X_test36)\n",
    "proba36 = [p[0] for p in probas36]"
   ]
  },
  {
   "cell_type": "code",
   "execution_count": 16,
   "metadata": {
    "ExecuteTime": {
     "end_time": "2022-01-02T21:41:19.025278Z",
     "start_time": "2022-01-02T21:41:18.956013Z"
    }
   },
   "outputs": [],
   "source": [
    "df_mers36['proba'] = proba36"
   ]
  },
  {
   "cell_type": "code",
   "execution_count": 17,
   "metadata": {
    "ExecuteTime": {
     "end_time": "2022-01-02T21:41:19.521976Z",
     "start_time": "2022-01-02T21:41:19.034299Z"
    }
   },
   "outputs": [
    {
     "name": "stdout",
     "output_type": "stream",
     "text": [
      "(70653, 3) 63088\n"
     ]
    },
    {
     "data": {
      "image/png": "[encoded data removed]",
      "text/plain": [
       "<Figure size 1080x288 with 1 Axes>"
      ]
     },
     "metadata": {
      "needs_background": "light"
     },
     "output_type": "display_data"
    }
   ],
   "source": [
    "del_idx = [idx for idx, p in zip(df_mers36.index, df_mers36.mers.values) if p =='Z'*31]\n",
    "df_mers_onlyreal36 = df_mers36.drop(del_idx, axis=0).reset_index(drop=True)\n",
    "\n",
    "print(df_mers_onlyreal36.shape, len(df_mers_onlyreal36.mers.unique()))\n",
    "\n",
    "df_sns = pd.DataFrame(df_mers_onlyreal36['proba'])\n",
    "df_sns['Class']= df_mers_onlyreal36.label.apply(lambda x: {1:'Observed Cleaved', 0:'Observed Missed Cleaved'}[x]).values\n",
    "\n",
    "plt.figure(figsize=(15,4))\n",
    "plt.title('Digestibility')\n",
    "plt.ylabel('Digestibility')\n",
    "plt.xlabel('Type')\n",
    "\n",
    "sns.violinplot(data=df_sns, x='Class', y='proba', order=['Observed Cleaved', 'Observed Missed Cleaved'])\n",
    "plt.show()"
   ]
  },
  {
   "cell_type": "markdown",
   "metadata": {},
   "source": [
    "# report"
   ]
  },
  {
   "cell_type": "code",
   "execution_count": 18,
   "metadata": {
    "ExecuteTime": {
     "end_time": "2022-01-02T21:41:20.159796Z",
     "start_time": "2022-01-02T21:41:19.523531Z"
    }
   },
   "outputs": [
    {
     "name": "stdout",
     "output_type": "stream",
     "text": [
      "              precision    recall  f1-score   support\n",
      "\n",
      "           0       0.14      0.55      0.22     14533\n",
      "           1       0.50      0.12      0.19     56120\n",
      "\n",
      "    accuracy                           0.21     70653\n",
      "   macro avg       0.32      0.33      0.21     70653\n",
      "weighted avg       0.43      0.21      0.20     70653\n",
      "\n",
      "rf auc : 0.23050268298378027\n"
     ]
    },
    {
     "data": {
      "image/png": "[encoded data removed]",
      "text/plain": [
       "<Figure size 288x288 with 1 Axes>"
      ]
     },
     "metadata": {
      "needs_background": "light"
     },
     "output_type": "display_data"
    },
    {
     "data": {
      "image/png": "[encoded data removed]",
      "text/plain": [
       "<Figure size 216x216 with 2 Axes>"
      ]
     },
     "metadata": {
      "needs_background": "light"
     },
     "output_type": "display_data"
    },
    {
     "data": {
      "image/png": "[encoded data removed]",
      "text/plain": [
       "<Figure size 216x216 with 2 Axes>"
      ]
     },
     "metadata": {
      "needs_background": "light"
     },
     "output_type": "display_data"
    }
   ],
   "source": [
    "y_test = df_mers_onlyreal36.label.values\n",
    "\n",
    "# prediction\n",
    "y_pred = [1 if i>=0.5 else 0 for i in df_mers_onlyreal36.proba.values]\n",
    "print(classification_report(y_test, y_pred))\n",
    "\n",
    "# AUC\n",
    "probs = df_mers_onlyreal36.proba.values\n",
    "rf_auc = roc_auc_score(y_test, probs)\n",
    "print('rf auc : {}'.format(rf_auc))\n",
    "# plot the roc curve for the model_high\n",
    "rf_fpr, rf_tpr, _ = roc_curve(y_test, probs)\n",
    "plt.figure(figsize=(4, 4))\n",
    "plt.plot(rf_fpr, rf_tpr, marker='.', label='RF AUC = {:.4f}'.format(rf_auc), color='orange')\n",
    "plt.title('ROC curve')\n",
    "# axis labels\n",
    "plt.xlabel('False Positive Rate')\n",
    "plt.ylabel('True Positive Rate')\n",
    "# show the legend\n",
    "plt.legend()\n",
    "# show the plot\n",
    "plt.show()\n",
    "\n",
    "cf_matrix = confusion_matrix(y_test, y_pred)\n",
    "plt.figure(figsize=(3, 3))\n",
    "sns.heatmap(cf_matrix, annot=True, fmt=',.0f')\n",
    "plt.show()\n",
    "plt.figure(figsize=(3, 3))\n",
    "sns.heatmap(cf_matrix/np.sum(cf_matrix), annot=True, \n",
    "            fmt='.2%', cmap='Blues')\n",
    "plt.show()"
   ]
  },
  {
   "cell_type": "code",
   "execution_count": null,
   "metadata": {},
   "outputs": [],
   "source": []
  }
 ],
 "metadata": {
  "kernelspec": {
   "display_name": "TF2.0",
   "language": "python",
   "name": "bis"
  },
  "language_info": {
   "codemirror_mode": {
    "name": "ipython",
    "version": 3
   },
   "file_extension": ".py",
   "mimetype": "text/x-python",
   "name": "python",
   "nbconvert_exporter": "python",
   "pygments_lexer": "ipython3",
   "version": "3.6.12"
  }
 },
 "nbformat": 4,
 "nbformat_minor": 4
}
