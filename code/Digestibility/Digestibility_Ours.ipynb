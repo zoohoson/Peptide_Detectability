{
 "cells": [
  {
   "cell_type": "code",
   "execution_count": 1,
   "metadata": {
    "ExecuteTime": {
     "end_time": "2022-01-02T19:01:32.530266Z",
     "start_time": "2022-01-02T19:01:31.535777Z"
    }
   },
   "outputs": [],
   "source": [
    "import pandas as pd\n",
    "import numpy as np\n",
    "import matplotlib.pyplot as plt\n",
    "import seaborn as sns\n",
    "from sklearn.metrics import classification_report\n",
    "from sklearn.metrics import confusion_matrix\n",
    "from sklearn.metrics import roc_curve\n",
    "from sklearn.metrics import roc_auc_score\n",
    "from sklearn.model_selection import train_test_split"
   ]
  },
  {
   "cell_type": "code",
   "execution_count": 2,
   "metadata": {
    "ExecuteTime": {
     "end_time": "2022-01-02T19:01:33.750426Z",
     "start_time": "2022-01-02T19:01:33.739040Z"
    }
   },
   "outputs": [
    {
     "name": "stdout",
     "output_type": "stream",
     "text": [
      "(19, 21)\n"
     ]
    }
   ],
   "source": [
    "df_aaindex = pd.read_csv('../data/aaindex/df_aaindex19.csv')\n",
    "print(df_aaindex.shape)\n",
    "df_aaindex.head(1)\n",
    "tmp = df_aaindex.drop('Unnamed: 0',axis=1).T\n",
    "aa2val = dict()\n",
    "for aa, val in zip(tmp.index, tmp.values):\n",
    "    aa2val[aa]=val"
   ]
  },
  {
   "cell_type": "code",
   "execution_count": 3,
   "metadata": {
    "ExecuteTime": {
     "end_time": "2022-01-02T19:01:38.077309Z",
     "start_time": "2022-01-02T19:01:34.183496Z"
    }
   },
   "outputs": [],
   "source": [
    "df_detect_peptide_train = pd.read_csv('train.csv')\n",
    "test = pd.read_csv('test.csv')\n",
    "train, val = train_test_split(df_detect_peptide_train, test_size=0.2, random_state=7)"
   ]
  },
  {
   "cell_type": "code",
   "execution_count": 4,
   "metadata": {
    "ExecuteTime": {
     "end_time": "2022-01-02T19:01:38.086793Z",
     "start_time": "2022-01-02T19:01:38.079248Z"
    }
   },
   "outputs": [],
   "source": [
    "def get_data_labelEnc(df):\n",
    "    label_enc = {v:k+1 for k, v in enumerate('ARNDCQEGHILKMFPSTWYV')}\n",
    "    label_enc['Z']=0\n",
    "    aa_data = [np.array([seq.count(a) for a in 'ARNDCQEGHILKMFPSTWYV'] + list(np.array([aa2val[aa] for aa in seq]).sum(axis=0)))\n",
    "               for seq in df.PEP.values]\n",
    "    pep_data = [[label_enc[aa] for aa in seq] + [0]*(30-len(seq))\n",
    "               for seq in df.PEP.values]\n",
    "    en_data = [[label_enc[aa] for aa in seq]\n",
    "               for seq in df.En.values]\n",
    "    ec_data = [[label_enc[aa] for aa in seq]\n",
    "               for seq in df.Ec.values]\n",
    "    e1_data = [[label_enc[aa] for aa in seq]\n",
    "               if seq != '-' else [0 for _ in range(31)]\n",
    "               for seq in df.E1.values]\n",
    "    e2_data = [[label_enc[aa] for aa in seq]\n",
    "               if seq != '-' else [0 for _ in range(31)]\n",
    "               for seq in df.E2.values]\n",
    "    return np.array(aa_data), np.array(pep_data), np.array(en_data), np.array(ec_data), np.array(e1_data), np.array(e2_data), np.array(df.ID.values)"
   ]
  },
  {
   "cell_type": "code",
   "execution_count": 5,
   "metadata": {
    "ExecuteTime": {
     "end_time": "2022-01-02T19:01:38.102129Z",
     "start_time": "2022-01-02T19:01:38.088450Z"
    }
   },
   "outputs": [
    {
     "name": "stdout",
     "output_type": "stream",
     "text": [
      "{'A': 1, 'R': 2, 'N': 3, 'D': 4, 'C': 5, 'Q': 6, 'E': 7, 'G': 8, 'H': 9, 'I': 10, 'L': 11, 'K': 12, 'M': 13, 'F': 14, 'P': 15, 'S': 16, 'T': 17, 'W': 18, 'Y': 19, 'V': 20}\n"
     ]
    }
   ],
   "source": [
    "label_enc = {v:k+1 for k, v in enumerate('ARNDCQEGHILKMFPSTWYV')}\n",
    "print(label_enc)"
   ]
  },
  {
   "cell_type": "code",
   "execution_count": 6,
   "metadata": {
    "ExecuteTime": {
     "end_time": "2022-01-02T19:02:23.240063Z",
     "start_time": "2022-01-02T19:01:39.248726Z"
    }
   },
   "outputs": [
    {
     "name": "stdout",
     "output_type": "stream",
     "text": [
      "(543784, 39) (543784, 30) (543784, 31) (543784, 31) (543784, 31) (543784, 31) (543784,)\n",
      "(135946, 39) (135946, 30) (135946, 31) (135946, 31) (135946, 31) (135946, 31) (135946,)\n",
      "(134200, 39) (134200, 30) (134200, 31) (134200, 31) (134200, 31) (134200, 31) (134200,)\n"
     ]
    }
   ],
   "source": [
    "aa_train, pep_train, en_train, ec_train, e1_train, e2_train, y_train = get_data_labelEnc(train)\n",
    "aa_val, pep_val, en_val, ec_val, e1_val, e2_val, y_val = get_data_labelEnc(val)\n",
    "aa_test, pep_test, en_test, ec_test, e1_test, e2_test, y_test = get_data_labelEnc(test)\n",
    "print(aa_train.shape, pep_train.shape, en_train.shape, ec_train.shape, e1_train.shape, e2_train.shape, y_train.shape)\n",
    "print(aa_val.shape, pep_val.shape, en_val.shape, ec_val.shape, e1_val.shape, e2_val.shape, y_val.shape)\n",
    "print(aa_test.shape, pep_test.shape, en_test.shape, ec_test.shape, e1_test.shape, e2_test.shape, y_test.shape)"
   ]
  },
  {
   "cell_type": "markdown",
   "metadata": {},
   "source": [
    "# Train"
   ]
  },
  {
   "cell_type": "code",
   "execution_count": 7,
   "metadata": {
    "ExecuteTime": {
     "end_time": "2022-01-02T19:02:24.471325Z",
     "start_time": "2022-01-02T19:02:23.241385Z"
    }
   },
   "outputs": [],
   "source": [
    "from tensorflow.python.client import device_lib\n",
    "\n",
    "import tensorflow as tf\n",
    "gpus = tf.config.experimental.list_physical_devices('GPU')\n",
    "if gpus:\n",
    "    try:\n",
    "        tf.config.experimental.set_virtual_device_configuration(gpus[0],\n",
    "        [tf.config.experimental.VirtualDeviceConfiguration(memory_limit=1024*4)])\n",
    "    except RuntimeError as e:\n",
    "        print(e)"
   ]
  },
  {
   "cell_type": "code",
   "execution_count": 8,
   "metadata": {
    "ExecuteTime": {
     "end_time": "2022-01-02T19:02:24.475653Z",
     "start_time": "2022-01-02T19:02:24.472934Z"
    }
   },
   "outputs": [],
   "source": [
    "def plot_graphs(history, metric):\n",
    "    plt.plot(history.history[metric])\n",
    "    plt.plot(history.history['val_'+metric], '')\n",
    "    plt.xlabel(\"Epochs\")\n",
    "    plt.ylabel(metric)\n",
    "    plt.legend([metric, 'val_'+metric])"
   ]
  },
  {
   "cell_type": "markdown",
   "metadata": {},
   "source": [
    "# high param"
   ]
  },
  {
   "cell_type": "code",
   "execution_count": 9,
   "metadata": {
    "ExecuteTime": {
     "end_time": "2022-01-02T19:02:24.481386Z",
     "start_time": "2022-01-02T19:02:24.477209Z"
    }
   },
   "outputs": [],
   "source": [
    "from tensorflow import keras"
   ]
  },
  {
   "cell_type": "code",
   "execution_count": 10,
   "metadata": {
    "ExecuteTime": {
     "end_time": "2022-01-02T19:02:32.577778Z",
     "start_time": "2022-01-02T19:02:24.483056Z"
    },
    "scrolled": true
   },
   "outputs": [
    {
     "name": "stdout",
     "output_type": "stream",
     "text": [
      "Model: \"model\"\n",
      "__________________________________________________________________________________________________\n",
      "Layer (type)                    Output Shape         Param #     Connected to                     \n",
      "==================================================================================================\n",
      "input_1 (InputLayer)            [(None, 30)]         0                                            \n",
      "__________________________________________________________________________________________________\n",
      "input_3 (InputLayer)            [(None, 31)]         0                                            \n",
      "__________________________________________________________________________________________________\n",
      "input_4 (InputLayer)            [(None, 31)]         0                                            \n",
      "__________________________________________________________________________________________________\n",
      "input_5 (InputLayer)            [(None, 31)]         0                                            \n",
      "__________________________________________________________________________________________________\n",
      "input_6 (InputLayer)            [(None, 31)]         0                                            \n",
      "__________________________________________________________________________________________________\n",
      "embedding (Embedding)           (None, 30, 32)       672         input_1[0][0]                    \n",
      "__________________________________________________________________________________________________\n",
      "embedding_1 (Embedding)         (None, 31, 16)       336         input_3[0][0]                    \n",
      "__________________________________________________________________________________________________\n",
      "embedding_2 (Embedding)         (None, 31, 16)       336         input_4[0][0]                    \n",
      "__________________________________________________________________________________________________\n",
      "embedding_3 (Embedding)         (None, 31, 16)       336         input_5[0][0]                    \n",
      "__________________________________________________________________________________________________\n",
      "embedding_4 (Embedding)         (None, 31, 16)       336         input_6[0][0]                    \n",
      "__________________________________________________________________________________________________\n",
      "dropout (Dropout)               (None, 30, 32)       0           embedding[0][0]                  \n",
      "__________________________________________________________________________________________________\n",
      "dropout_1 (Dropout)             (None, 31, 16)       0           embedding_1[0][0]                \n",
      "__________________________________________________________________________________________________\n",
      "dropout_2 (Dropout)             (None, 31, 16)       0           embedding_2[0][0]                \n",
      "__________________________________________________________________________________________________\n",
      "dropout_3 (Dropout)             (None, 31, 16)       0           embedding_3[0][0]                \n",
      "__________________________________________________________________________________________________\n",
      "dropout_4 (Dropout)             (None, 31, 16)       0           embedding_4[0][0]                \n",
      "__________________________________________________________________________________________________\n",
      "bidirectional_4 (Bidirectional) (None, 32)           6272        dropout[0][0]                    \n",
      "__________________________________________________________________________________________________\n",
      "input_2 (InputLayer)            [(None, 39)]         0                                            \n",
      "__________________________________________________________________________________________________\n",
      "bidirectional (Bidirectional)   (None, 16)           1600        dropout_1[0][0]                  \n",
      "__________________________________________________________________________________________________\n",
      "bidirectional_1 (Bidirectional) (None, 16)           1600        dropout_2[0][0]                  \n",
      "__________________________________________________________________________________________________\n",
      "bidirectional_2 (Bidirectional) (None, 16)           1600        dropout_3[0][0]                  \n",
      "__________________________________________________________________________________________________\n",
      "bidirectional_3 (Bidirectional) (None, 16)           1600        dropout_4[0][0]                  \n",
      "__________________________________________________________________________________________________\n",
      "dense_5 (Dense)                 (None, 16)           528         bidirectional_4[0][0]            \n",
      "__________________________________________________________________________________________________\n",
      "dense (Dense)                   (None, 32)           1280        input_2[0][0]                    \n",
      "__________________________________________________________________________________________________\n",
      "dense_1 (Dense)                 (None, 8)            136         bidirectional[0][0]              \n",
      "__________________________________________________________________________________________________\n",
      "dense_2 (Dense)                 (None, 8)            136         bidirectional_1[0][0]            \n",
      "__________________________________________________________________________________________________\n",
      "dense_3 (Dense)                 (None, 8)            136         bidirectional_2[0][0]            \n",
      "__________________________________________________________________________________________________\n",
      "dense_4 (Dense)                 (None, 8)            136         bidirectional_3[0][0]            \n",
      "__________________________________________________________________________________________________\n",
      "dropout_10 (Dropout)            (None, 16)           0           dense_5[0][0]                    \n",
      "__________________________________________________________________________________________________\n",
      "dropout_5 (Dropout)             (None, 32)           0           dense[0][0]                      \n",
      "__________________________________________________________________________________________________\n",
      "dropout_6 (Dropout)             (None, 8)            0           dense_1[0][0]                    \n",
      "__________________________________________________________________________________________________\n",
      "dropout_7 (Dropout)             (None, 8)            0           dense_2[0][0]                    \n",
      "__________________________________________________________________________________________________\n",
      "dropout_8 (Dropout)             (None, 8)            0           dense_3[0][0]                    \n",
      "__________________________________________________________________________________________________\n",
      "dropout_9 (Dropout)             (None, 8)            0           dense_4[0][0]                    \n",
      "__________________________________________________________________________________________________\n",
      "concatenate (Concatenate)       (None, 80)           0           dropout_10[0][0]                 \n",
      "                                                                 dropout_5[0][0]                  \n",
      "                                                                 dropout_6[0][0]                  \n",
      "                                                                 dropout_7[0][0]                  \n",
      "                                                                 dropout_8[0][0]                  \n",
      "                                                                 dropout_9[0][0]                  \n",
      "__________________________________________________________________________________________________\n",
      "dense_6 (Dense)                 (None, 64)           5184        concatenate[0][0]                \n",
      "__________________________________________________________________________________________________\n",
      "dropout_11 (Dropout)            (None, 64)           0           dense_6[0][0]                    \n",
      "__________________________________________________________________________________________________\n",
      "dense_7 (Dense)                 (None, 32)           2080        dropout_11[0][0]                 \n",
      "__________________________________________________________________________________________________\n",
      "dropout_12 (Dropout)            (None, 32)           0           dense_7[0][0]                    \n",
      "__________________________________________________________________________________________________\n",
      "dense_8 (Dense)                 (None, 1)            33          dropout_12[0][0]                 \n",
      "==================================================================================================\n",
      "Total params: 24,337\n",
      "Trainable params: 24,337\n",
      "Non-trainable params: 0\n",
      "__________________________________________________________________________________________________\n"
     ]
    }
   ],
   "source": [
    "# Embedding\n",
    "pep = tf.keras.layers.Input(shape=((30,)))\n",
    "pep_embed = tf.keras.layers.Embedding(21, 32, input_length=30, mask_zero=True)(pep)\n",
    "pep_embed = tf.keras.layers.Dropout(np.random.uniform(0, 0.2))(pep_embed)\n",
    "\n",
    "meta = tf.keras.layers.Input(shape=((39,)))  # peptide info\n",
    "\n",
    "n = tf.keras.layers.Input(shape=((31,)))\n",
    "n_embed = tf.keras.layers.Embedding(21, 16, input_length=31, mask_zero=True)(n)\n",
    "n_embed = tf.keras.layers.Dropout(np.random.uniform(0, 0.2))(n_embed)\n",
    "\n",
    "c = tf.keras.layers.Input(shape=((31,)))\n",
    "c_embed = tf.keras.layers.Embedding(21, 16, input_length=31, mask_zero=True)(c)\n",
    "c_embed = tf.keras.layers.Dropout(np.random.uniform(0, 0.2))(c_embed)\n",
    "\n",
    "m1 = tf.keras.layers.Input(shape=((31,)))\n",
    "m1_embed = tf.keras.layers.Embedding(21, 16, input_length=31, mask_zero=True)(m1)\n",
    "m1_embed = tf.keras.layers.Dropout(np.random.uniform(0, 0.2))(m1_embed)\n",
    "\n",
    "m2 = tf.keras.layers.Input(shape=((31,)))\n",
    "m2_embed = tf.keras.layers.Embedding(21, 16, input_length=31, mask_zero=True)(m2)\n",
    "m2_embed = tf.keras.layers.Dropout(np.random.uniform(0, 0.2))(m2_embed)\n",
    "\n",
    "\n",
    "# LSTM\n",
    "net_meta = tf.keras.layers.Dense(32, activation='relu')(meta)\n",
    "net_meta = tf.keras.layers.Dropout(np.random.uniform(0, 0.2))(net_meta)\n",
    "\n",
    "n_lstm = tf.keras.layers.Bidirectional(tf.keras.layers.LSTM(8))(n_embed)\n",
    "n_lstm = tf.keras.layers.Dense(8, activation='relu')(n_lstm)\n",
    "n_lstm = tf.keras.layers.Dropout(np.random.uniform(0, 0.2))(n_lstm)\n",
    "\n",
    "c_lstm = tf.keras.layers.Bidirectional(tf.keras.layers.LSTM(8))(c_embed)\n",
    "c_lstm = tf.keras.layers.Dense(8, activation='relu')(c_lstm)\n",
    "c_lstm = tf.keras.layers.Dropout(np.random.uniform(0, 0.2))(c_lstm)\n",
    "\n",
    "m1_lstm = tf.keras.layers.Bidirectional(tf.keras.layers.LSTM(8))(m1_embed)\n",
    "m1_lstm = tf.keras.layers.Dense(8, activation='relu')(m1_lstm)\n",
    "m1_lstm = tf.keras.layers.Dropout(np.random.uniform(0, 0.2))(m1_lstm)\n",
    "\n",
    "m2_lstm = tf.keras.layers.Bidirectional(tf.keras.layers.LSTM(8))(m2_embed)\n",
    "m2_lstm = tf.keras.layers.Dense(8, activation='relu')(m2_lstm)\n",
    "m2_lstm = tf.keras.layers.Dropout(np.random.uniform(0, 0.2))(m2_lstm)\n",
    "\n",
    "pep_lstm = tf.keras.layers.Bidirectional(tf.keras.layers.LSTM(16))(pep_embed)\n",
    "pep_lstm = tf.keras.layers.Dense(16, activation='relu')(pep_lstm)\n",
    "pep_lstm = tf.keras.layers.Dropout(np.random.uniform(0, 0.2))(pep_lstm)\n",
    "\n",
    "\n",
    "# Dense\n",
    "merge = tf.keras.layers.concatenate([pep_lstm, \n",
    "                                     net_meta,\n",
    "                                     n_lstm,\n",
    "                                     c_lstm,\n",
    "                                     m1_lstm,\n",
    "                                     m2_lstm])\n",
    "net_merge = tf.keras.layers.Dense(64, activation='relu')(merge)\n",
    "net_merge = tf.keras.layers.Dropout(np.random.uniform(0, 0.2))(net_merge)\n",
    "net_merge = tf.keras.layers.Dense(32, activation='relu')(net_merge)\n",
    "net_merge = tf.keras.layers.Dropout(np.random.uniform(0, 0.2))(net_merge)\n",
    "\n",
    "output = tf.keras.layers.Dense(1, activation = 'sigmoid')(net_merge)\n",
    "\n",
    "model_high = tf.keras.Model(inputs=[pep, meta, n, c, m1, m2],\n",
    "                            outputs=[output])\n",
    "\n",
    "model_high.summary()\n",
    "\n",
    "model_high.compile(loss=tf.keras.losses.BinaryCrossentropy(from_logits=True),\n",
    "              optimizer=tf.keras.optimizers.Adam(5e-4),\n",
    "              metrics=['accuracy'])\n",
    "\n",
    "es = tf.keras.callbacks.EarlyStopping(monitor='val_loss',\n",
    "                                      mode='min', \n",
    "                                      verbose=1,\n",
    "                                      patience=50)"
   ]
  },
  {
   "cell_type": "code",
   "execution_count": null,
   "metadata": {
    "ExecuteTime": {
     "start_time": "2022-01-02T19:01:47.491Z"
    },
    "scrolled": true
   },
   "outputs": [
    {
     "name": "stdout",
     "output_type": "stream",
     "text": [
      "Epoch 1/300\n",
      "4249/4249 [==============================] - 1376s 316ms/step - loss: 3.0061 - accuracy: 0.5251 - val_loss: 0.5205 - val_accuracy: 0.7523\n",
      "Epoch 2/300\n",
      "4249/4249 [==============================] - 1368s 322ms/step - loss: 0.5248 - accuracy: 0.7493 - val_loss: 0.4460 - val_accuracy: 0.7955\n",
      "Epoch 3/300\n",
      "4249/4249 [==============================] - 1340s 315ms/step - loss: 0.4553 - accuracy: 0.7915 - val_loss: 0.4220 - val_accuracy: 0.8059\n",
      "Epoch 4/300\n",
      "4249/4249 [==============================] - 1542s 363ms/step - loss: 0.4347 - accuracy: 0.8024 - val_loss: 0.4180 - val_accuracy: 0.8094\n",
      "Epoch 5/300\n",
      "4249/4249 [==============================] - 1290s 304ms/step - loss: 0.4259 - accuracy: 0.8071 - val_loss: 0.4124 - val_accuracy: 0.8138\n",
      "Epoch 6/300\n",
      "4249/4249 [==============================] - 1631s 384ms/step - loss: 0.4203 - accuracy: 0.8094 - val_loss: 0.4071 - val_accuracy: 0.8151\n",
      "Epoch 7/300\n",
      "4249/4249 [==============================] - 1645s 387ms/step - loss: 0.4147 - accuracy: 0.8117 - val_loss: 0.4039 - val_accuracy: 0.8173\n",
      "Epoch 8/300\n",
      "4249/4249 [==============================] - 1307s 308ms/step - loss: 0.4102 - accuracy: 0.8143 - val_loss: 0.4008 - val_accuracy: 0.8182\n",
      "Epoch 9/300\n",
      "4249/4249 [==============================] - 1314s 309ms/step - loss: 0.4085 - accuracy: 0.8158 - val_loss: 0.4032 - val_accuracy: 0.8203\n",
      "Epoch 10/300\n",
      "4249/4249 [==============================] - 1294s 305ms/step - loss: 0.4060 - accuracy: 0.8168 - val_loss: 0.3967 - val_accuracy: 0.8217\n",
      "Epoch 11/300\n",
      "4249/4249 [==============================] - 1291s 304ms/step - loss: 0.4036 - accuracy: 0.8185 - val_loss: 0.3961 - val_accuracy: 0.8218\n",
      "Epoch 12/300\n",
      "4249/4249 [==============================] - 1287s 303ms/step - loss: 0.4020 - accuracy: 0.8190 - val_loss: 0.3945 - val_accuracy: 0.8228\n",
      "Epoch 13/300\n",
      "3604/4249 [========================>.....] - ETA: 3:00 - loss: 0.3995 - accuracy: 0.8200"
     ]
    }
   ],
   "source": [
    "history = model_high.fit([pep_train, aa_train, en_train, ec_train, e1_train, e2_train],\n",
    "                    y_train, \n",
    "                    epochs=300,\n",
    "                    batch_size=128,\n",
    "                    validation_data=([pep_val, aa_val, en_val, ec_val, e1_val, e2_val], y_val),\n",
    "                    callbacks=[es]\n",
    "                        )"
   ]
  },
  {
   "cell_type": "code",
   "execution_count": 17,
   "metadata": {
    "ExecuteTime": {
     "end_time": "2022-01-06T16:29:46.215912Z",
     "start_time": "2022-01-06T16:29:46.112327Z"
    }
   },
   "outputs": [],
   "source": [
    "plt.figure(figsize=(16,2))\n",
    "plt.subplot(1,2,1)\n",
    "plot_graphs(history, 'accuracy')\n",
    "plt.subplot(1,2,2)\n",
    "plot_graphs(history, 'loss')"
   ]
  },
  {
   "cell_type": "markdown",
   "metadata": {},
   "source": [
    "# eval"
   ]
  },
  {
   "cell_type": "code",
   "execution_count": 18,
   "metadata": {
    "ExecuteTime": {
     "end_time": "2022-01-06T16:36:09.893696Z",
     "start_time": "2022-01-06T16:29:49.437488Z"
    },
    "scrolled": false
   },
   "outputs": [
    {
     "name": "stdout",
     "output_type": "stream",
     "text": [
      "4194/4194 [==============================] - 126s 30ms/step - loss: 0.3743 - accuracy: 0.8333\n",
      "Test Loss: 0.3743060529232025\n",
      "Test Accuracy: 0.8332638144493103\n",
      "              precision    recall  f1-score   support\n",
      "\n",
      "           0       0.87      0.78      0.82     67100\n",
      "           1       0.80      0.89      0.84     67100\n",
      "\n",
      "    accuracy                           0.83    134200\n",
      "   macro avg       0.84      0.83      0.83    134200\n",
      "weighted avg       0.84      0.83      0.83    134200\n",
      "\n",
      "rf auc : 0.917232801210907\n"
     ]
    },
    {
     "data": {
      "image/png": "[encoded data removed]",
      "text/plain": [
       "<Figure size 1600x200 with 2 Axes>"
      ]
     },
     "metadata": {},
     "output_type": "display_data"
    },
    {
     "data": {
      "image/png": "[encoded data removed]",
      "text/plain": [
       "<Figure size 400x400 with 1 Axes>"
      ]
     },
     "metadata": {},
     "output_type": "display_data"
    },
    {
     "data": {
      "image/png": "[encoded data removed]",
      "text/plain": [
       "<Figure size 300x300 with 2 Axes>"
      ]
     },
     "metadata": {},
     "output_type": "display_data"
    },
    {
     "data": {
      "image/png": "[encoded data removed]",
      "text/plain": [
       "<Figure size 300x300 with 2 Axes>"
      ]
     },
     "metadata": {},
     "output_type": "display_data"
    }
   ],
   "source": [
    "test_loss, test_acc = model_high.evaluate([pep_test, aa_test, en_test, ec_test, e1_test, e2_test], y_test)\n",
    "print('Test Loss: {}'.format(test_loss))\n",
    "print('Test Accuracy: {}'.format(test_acc))\n",
    "\n",
    "# prediction\n",
    "y_pred = [1 if i>=0.5 else 0 for i in model_high.predict([pep_test, aa_test, en_test, ec_test, e1_test, e2_test])]\n",
    "print(classification_report(y_test, y_pred))\n",
    "# AUC\n",
    "probs = model_high.predict([pep_test, aa_test, en_test, ec_test, e1_test, e2_test])\n",
    "rf_auc = roc_auc_score(y_test, probs)\n",
    "print('rf auc : {}'.format(rf_auc))\n",
    "# plot the roc curve for the model_high\n",
    "rf_fpr, rf_tpr, _ = roc_curve(y_test, probs)\n",
    "plt.figure(figsize=(4, 4))\n",
    "plt.plot(rf_fpr, rf_tpr, marker='.', label='RF AUC = {:.4f}'.format(rf_auc), color='orange')\n",
    "plt.title('ROC curve')\n",
    "# axis labels\n",
    "plt.xlabel('False Positive Rate')\n",
    "plt.ylabel('True Positive Rate')\n",
    "# show the legend\n",
    "plt.legend()\n",
    "# show the plot\n",
    "plt.show()\n",
    "\n",
    "cf_matrix = confusion_matrix(y_test, y_pred)\n",
    "plt.figure(figsize=(3, 3))\n",
    "sns.heatmap(cf_matrix, annot=True, fmt=',.0f')\n",
    "plt.show()\n",
    "plt.figure(figsize=(3, 3))\n",
    "sns.heatmap(cf_matrix/np.sum(cf_matrix), annot=True, \n",
    "            fmt='.2%', cmap='Blues')\n",
    "plt.show()"
   ]
  },
  {
   "cell_type": "code",
   "execution_count": 19,
   "metadata": {
    "ExecuteTime": {
     "end_time": "2022-01-10T03:12:47.533037Z",
     "start_time": "2022-01-10T03:11:25.235685Z"
    }
   },
   "outputs": [
    {
     "name": "stderr",
     "output_type": "stream",
     "text": [
      "WARNING:absl:Found untraced functions such as lstm_cell_13_layer_call_fn, lstm_cell_13_layer_call_and_return_conditional_losses, lstm_cell_14_layer_call_fn, lstm_cell_14_layer_call_and_return_conditional_losses, lstm_cell_1_layer_call_fn while saving (showing 5 of 50). These functions will not be directly callable after loading.\n",
      "WARNING:absl:Found untraced functions such as lstm_cell_13_layer_call_fn, lstm_cell_13_layer_call_and_return_conditional_losses, lstm_cell_14_layer_call_fn, lstm_cell_14_layer_call_and_return_conditional_losses, lstm_cell_1_layer_call_fn while saving (showing 5 of 50). These functions will not be directly callable after loading.\n"
     ]
    },
    {
     "name": "stdout",
     "output_type": "stream",
     "text": [
      "INFO:tensorflow:Assets written to: 2021KSBi_multi_lr0005/assets\n"
     ]
    },
    {
     "name": "stderr",
     "output_type": "stream",
     "text": [
      "INFO:tensorflow:Assets written to: 2021KSBi_multi_lr0005/assets\n"
     ]
    }
   ],
   "source": [
    "# # Calling `save('my_model.h5')` creates a h5 file `my_model.h5`.\n",
    "model_high.save(\"2021KSBi_multi_lr0005\")"
   ]
  },
  {
   "cell_type": "code",
   "execution_count": null,
   "metadata": {},
   "outputs": [],
   "source": []
  }
 ],
 "metadata": {
  "kernelspec": {
   "display_name": "TF2.4",
   "language": "python",
   "name": "tf2.4"
  },
  "language_info": {
   "codemirror_mode": {
    "name": "ipython",
    "version": 3
   },
   "file_extension": ".py",
   "mimetype": "text/x-python",
   "name": "python",
   "nbconvert_exporter": "python",
   "pygments_lexer": "ipython3",
   "version": "3.7.0"
  }
 },
 "nbformat": 4,
 "nbformat_minor": 4
}
