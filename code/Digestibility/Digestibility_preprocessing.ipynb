{
 "cells": [
  {
   "cell_type": "code",
   "execution_count": 1,
   "metadata": {
    "ExecuteTime": {
     "end_time": "2022-01-09T18:47:35.594899Z",
     "start_time": "2022-01-09T18:47:35.166119Z"
    }
   },
   "outputs": [],
   "source": [
    "import pandas as pd\n",
    "import numpy as np\n",
    "import matplotlib.pyplot as plt\n",
    "\n",
    "import sys\n",
    "PATH_TO_REPO = \"/home/bis/2021_SJH_detectability/Detectability/\"\n",
    "sys.path.append(PATH_TO_REPO)\n",
    "from utils import *"
   ]
  },
  {
   "cell_type": "code",
   "execution_count": 2,
   "metadata": {
    "ExecuteTime": {
     "end_time": "2022-01-09T18:48:39.490200Z",
     "start_time": "2022-01-09T18:47:37.438729Z"
    }
   },
   "outputs": [],
   "source": [
    "df_kb = pd.read_csv('../data/massIVE-KB/df_kb_filter.csv')\n",
    "df_uni = pd.read_csv('../data/uniprot/df_uni.csv')"
   ]
  },
  {
   "cell_type": "code",
   "execution_count": 3,
   "metadata": {
    "ExecuteTime": {
     "end_time": "2022-01-09T18:48:47.094232Z",
     "start_time": "2022-01-09T18:48:39.491777Z"
    }
   },
   "outputs": [
    {
     "name": "stdout",
     "output_type": "stream",
     "text": [
      "STRIP precursor which has protein >2 cnt :  69082\n"
     ]
    }
   ],
   "source": [
    "# protein check\n",
    "pc2prot = dict()\n",
    "for pep, c, prot in df_kb[['STRIP_PEPTIDE', 'CHARGE', 'PROTEIN']].values:\n",
    "    if (pep, c) not in pc2prot:\n",
    "        pc2prot[(pep, c)]=set()\n",
    "    for p in prot.split(';'):\n",
    "        pc2prot[(pep, c)].add(p)\n",
    "    \n",
    "print('STRIP precursor which has protein >2 cnt : ', \n",
    "      len([_ for _ in pc2prot.values() if len(_) >=2]))\n",
    "\n",
    "for (p, c), v in pc2prot.items():\n",
    "    pc2prot[(p, c)] = ';'.join(list(v))"
   ]
  },
  {
   "cell_type": "code",
   "execution_count": 4,
   "metadata": {
    "ExecuteTime": {
     "end_time": "2022-01-09T18:48:50.132154Z",
     "start_time": "2022-01-09T18:48:47.095942Z"
    }
   },
   "outputs": [],
   "source": [
    "# ptm spectral count merge (plus)\n",
    "pc2cnt = dict()\n",
    "for c, p, cnt in df_kb[['CHARGE', 'STRIP_PEPTIDE', 'SPECTRAL_CNT']].values:\n",
    "    if (p, c) not in pc2cnt:\n",
    "        pc2cnt[(p, c)] = 0\n",
    "    pc2cnt[(p, c)] += cnt"
   ]
  },
  {
   "cell_type": "code",
   "execution_count": 5,
   "metadata": {
    "ExecuteTime": {
     "end_time": "2022-01-09T18:49:11.059690Z",
     "start_time": "2022-01-09T18:48:50.133746Z"
    }
   },
   "outputs": [],
   "source": [
    "# spectrum check\n",
    "# 84만개의 no PTM PEPTIDE\n",
    "pc2mz = dict()\n",
    "pc2int = dict()\n",
    "for p, c, m, i in df_kb[['SEQ', 'CHARGE', 'MZ', 'INTENSITY']].values:  \n",
    "    if '+' not in p:\n",
    "        pc2mz[(p, c)] = m\n",
    "        pc2int[(p, c)] = i\n",
    "\n",
    "# spectrum check\n",
    "# 20만개의 PTM PEPTIDE\n",
    "noptm_pc = {(_, c) for c, _ in df_kb[['CHARGE', 'SEQ']].values if '+' not in _}\n",
    "whole_pc = {(_, c) for c, _ in df_kb[['CHARGE', 'STRIP_PEPTIDE']].values}\n",
    "ptm_pc_candi = {k:set() for k in list(whole_pc.difference(noptm_pc))}\n",
    "\n",
    "# PTM_PEPTIDE candidate\n",
    "# ptm_pc_candi = (STRIP_PEPTIDE, CHARGE):(PTM_PEPTIDE, CHARGE)\n",
    "for c, p, seq in df_kb[['CHARGE', 'STRIP_PEPTIDE', 'SEQ']].values:\n",
    "    if (p, c) in ptm_pc_candi:\n",
    "        ptm_pc_candi[(p, c)].add((seq, c))\n",
    "\n",
    "pc2score_look = {(p, c):score for p, c, score in df_kb[['SEQ', 'CHARGE', 'SCORE']].values}\n",
    "pc2mz_look = {(p, c):mz for p, c, mz in df_kb[['SEQ' ,'CHARGE', 'MZ']].values}\n",
    "pc2int_look = {(p, c):i for p, c, i in df_kb[['SEQ' ,'CHARGE', 'INTENSITY']].values}\n",
    "\n",
    "for k, v in ptm_pc_candi.items():\n",
    "    if len(v)==1:\n",
    "        v = list(v)[0]\n",
    "        pc2mz[k] = pc2mz_look[v]\n",
    "        pc2int[k] = pc2int_look[v]\n",
    "    else:  # choose high SCORE's SEQ\n",
    "        ptm_seqs = {ptm_seq:pc2score_look[ptm_seq] for ptm_seq in v}\n",
    "        best_v = sorted(ptm_seqs.items(), key=lambda x: x[1], reverse=True)[0][0]  # 내림차순\n",
    "        pc2mz[k] = pc2mz_look[best_v]\n",
    "        pc2int[k] = pc2int_look[best_v]"
   ]
  },
  {
   "cell_type": "code",
   "execution_count": 6,
   "metadata": {
    "ExecuteTime": {
     "end_time": "2022-01-09T18:49:24.124950Z",
     "start_time": "2022-01-09T18:49:11.061107Z"
    }
   },
   "outputs": [],
   "source": [
    "pc = {(p,c) for p, c in df_kb[['STRIP_PEPTIDE', 'CHARGE']].values}\n",
    "df_ided_peptide = pd.DataFrame([[c, p, pc2prot[(p, c)], pc2cnt[(p,c)], pc2mz[(p,c)], pc2int[(p,c)]]\n",
    "                                for p, c in pc],\n",
    "                              columns=['CHARGE', 'PEPTIDE', 'PROTEINS', \n",
    "                                       'SPECTRAL_CNT', 'MZ', 'INTENSITY'])"
   ]
  },
  {
   "cell_type": "code",
   "execution_count": 7,
   "metadata": {
    "ExecuteTime": {
     "end_time": "2022-01-09T18:49:24.138958Z",
     "start_time": "2022-01-09T18:49:24.126378Z"
    }
   },
   "outputs": [
    {
     "name": "stdout",
     "output_type": "stream",
     "text": [
      "(1457872, 6)\n"
     ]
    },
    {
     "data": {
      "text/html": [
       "<div>\n",
       "<style scoped>\n",
       "    .dataframe tbody tr th:only-of-type {\n",
       "        vertical-align: middle;\n",
       "    }\n",
       "\n",
       "    .dataframe tbody tr th {\n",
       "        vertical-align: top;\n",
       "    }\n",
       "\n",
       "    .dataframe thead th {\n",
       "        text-align: right;\n",
       "    }\n",
       "</style>\n",
       "<table border=\"1\" class=\"dataframe\">\n",
       "  <thead>\n",
       "    <tr style=\"text-align: right;\">\n",
       "      <th></th>\n",
       "      <th>CHARGE</th>\n",
       "      <th>PEPTIDE</th>\n",
       "      <th>PROTEINS</th>\n",
       "      <th>SPECTRAL_CNT</th>\n",
       "      <th>MZ</th>\n",
       "      <th>INTENSITY</th>\n",
       "    </tr>\n",
       "  </thead>\n",
       "  <tbody>\n",
       "    <tr>\n",
       "      <th>0</th>\n",
       "      <td>3</td>\n",
       "      <td>EDTQEKLGEDDKTQK</td>\n",
       "      <td>sp|Q9H2G2|SLK_HUMAN</td>\n",
       "      <td>3</td>\n",
       "      <td>101.07136535644531;102.05533599853516;110.0717...</td>\n",
       "      <td>11190.43359375;12658.1640625;16535.03125;38210...</td>\n",
       "    </tr>\n",
       "    <tr>\n",
       "      <th>1</th>\n",
       "      <td>2</td>\n",
       "      <td>GETLDIQSLETAIK</td>\n",
       "      <td>sp|Q86VS3|IQCH_HUMAN</td>\n",
       "      <td>3</td>\n",
       "      <td>130.08621215820312;141.06561279296875;147.1127...</td>\n",
       "      <td>48425.16015625;28807.794921875;177909.03125;81...</td>\n",
       "    </tr>\n",
       "  </tbody>\n",
       "</table>\n",
       "</div>"
      ],
      "text/plain": [
       "   CHARGE          PEPTIDE              PROTEINS  SPECTRAL_CNT  \\\n",
       "0       3  EDTQEKLGEDDKTQK   sp|Q9H2G2|SLK_HUMAN             3   \n",
       "1       2   GETLDIQSLETAIK  sp|Q86VS3|IQCH_HUMAN             3   \n",
       "\n",
       "                                                  MZ  \\\n",
       "0  101.07136535644531;102.05533599853516;110.0717...   \n",
       "1  130.08621215820312;141.06561279296875;147.1127...   \n",
       "\n",
       "                                           INTENSITY  \n",
       "0  11190.43359375;12658.1640625;16535.03125;38210...  \n",
       "1  48425.16015625;28807.794921875;177909.03125;81...  "
      ]
     },
     "execution_count": 7,
     "metadata": {},
     "output_type": "execute_result"
    }
   ],
   "source": [
    "print(df_ided_peptide.shape)\n",
    "df_ided_peptide.head(2)"
   ]
  },
  {
   "cell_type": "markdown",
   "metadata": {},
   "source": [
    "# protein selection\n",
    "  - only use ided protein (based on massIVE-KB)"
   ]
  },
  {
   "cell_type": "code",
   "execution_count": 8,
   "metadata": {
    "ExecuteTime": {
     "end_time": "2022-01-09T18:49:24.629612Z",
     "start_time": "2022-01-09T18:49:24.140124Z"
    }
   },
   "outputs": [
    {
     "name": "stdout",
     "output_type": "stream",
     "text": [
      "19291\n"
     ]
    }
   ],
   "source": [
    "ided_protein = list({__ for _ in df_ided_peptide.PROTEINS.values for __ in _.split(';')})\n",
    "print(len(ided_protein))"
   ]
  },
  {
   "cell_type": "code",
   "execution_count": 9,
   "metadata": {
    "ExecuteTime": {
     "end_time": "2022-01-09T18:49:53.228398Z",
     "start_time": "2022-01-09T18:49:24.631508Z"
    }
   },
   "outputs": [
    {
     "name": "stdout",
     "output_type": "stream",
     "text": [
      "(19291, 3)\n"
     ]
    },
    {
     "data": {
      "text/html": [
       "<div>\n",
       "<style scoped>\n",
       "    .dataframe tbody tr th:only-of-type {\n",
       "        vertical-align: middle;\n",
       "    }\n",
       "\n",
       "    .dataframe tbody tr th {\n",
       "        vertical-align: top;\n",
       "    }\n",
       "\n",
       "    .dataframe thead th {\n",
       "        text-align: right;\n",
       "    }\n",
       "</style>\n",
       "<table border=\"1\" class=\"dataframe\">\n",
       "  <thead>\n",
       "    <tr style=\"text-align: right;\">\n",
       "      <th></th>\n",
       "      <th>PROTEIN</th>\n",
       "      <th>SEQUENCE</th>\n",
       "      <th>PROTEIN_FULL</th>\n",
       "    </tr>\n",
       "  </thead>\n",
       "  <tbody>\n",
       "    <tr>\n",
       "      <th>0</th>\n",
       "      <td>sp|Q9H553|ALG2_HUMAN</td>\n",
       "      <td>MAEEQGRERDSVPKPSVLFLHPDLGVGGAERLVLDAALALQARGCS...</td>\n",
       "      <td>&gt;sp|Q9H553|ALG2_HUMAN Alpha-1,3/1,6-mannosyltr...</td>\n",
       "    </tr>\n",
       "  </tbody>\n",
       "</table>\n",
       "</div>"
      ],
      "text/plain": [
       "                PROTEIN                                           SEQUENCE  \\\n",
       "0  sp|Q9H553|ALG2_HUMAN  MAEEQGRERDSVPKPSVLFLHPDLGVGGAERLVLDAALALQARGCS...   \n",
       "\n",
       "                                        PROTEIN_FULL  \n",
       "0  >sp|Q9H553|ALG2_HUMAN Alpha-1,3/1,6-mannosyltr...  "
      ]
     },
     "execution_count": 9,
     "metadata": {},
     "output_type": "execute_result"
    }
   ],
   "source": [
    "df_ided_protein_idx = [idx for idx, p in zip(df_uni.index, df_uni.PROTEIN.values) if p in ided_protein]\n",
    "df_ided_protein = df_uni.loc[df_ided_protein_idx].reset_index(drop=True)\n",
    "print(df_ided_protein.shape)\n",
    "df_ided_protein.head(1)\n",
    "# pk = PROTEIN"
   ]
  },
  {
   "cell_type": "markdown",
   "metadata": {},
   "source": [
    "# Spectral Count\n",
    "  - on uniprot protiens\n",
    "  - with massIVE-KB peptides,\n",
    "  - about spectral_count, spectral_count_miss"
   ]
  },
  {
   "cell_type": "code",
   "execution_count": 10,
   "metadata": {
    "ExecuteTime": {
     "end_time": "2022-01-09T18:49:53.243482Z",
     "start_time": "2022-01-09T18:49:53.229816Z"
    }
   },
   "outputs": [],
   "source": [
    "def prot2counting(pep_tree, df_prot, df_pep):\n",
    "    # STRIP_PEPTIDE SPECTRAL_CNT\n",
    "    pep2cnt = dict()\n",
    "    for p, cnt in df_pep[['PEPTIDE', 'SPECTRAL_CNT']].values:\n",
    "        if p not in pep2cnt:\n",
    "            pep2cnt[p] = 0\n",
    "        pep2cnt[p] += cnt\n",
    "\n",
    "    # counting array init\n",
    "    pep_cnt = [[0 for __ in range(len(_))] for _ in df_prot.SEQUENCE.values]\n",
    "    miss_cnt = [[0 for __ in range(len(_))] for _ in df_prot.SEQUENCE.values]\n",
    "    \n",
    "    # counting start! (protein roop)\n",
    "    for prot_idx, prot_seq in enumerate(df_prot.SEQUENCE.values):\n",
    "        if prot_idx % 1000 == 0:\n",
    "            print('peptide(spectral) counting...', prot_idx, '/', len(df_prot), end='\\r')\n",
    "\n",
    "        # matched peptide in protein\n",
    "        results = pep_tree.search_all(prot_seq)\n",
    "        # ex) result = ('ACAC', 5) = (peptide, location)\n",
    "        for result in results: \n",
    "            pep = result[0]\n",
    "            pep_len = len(result[0])\n",
    "            start_idx = result[1]\n",
    "            cnt = pep2cnt[pep]\n",
    "            \n",
    "            # miss cleavage case\n",
    "            if sum([1 for p in pep[:-1] if p in 'KR']) >= 1:\n",
    "                if pep[-1] in 'KR':  # __KR__KR case\n",
    "                    miss_change_range = range(start_idx, start_idx + pep_len -1)\n",
    "                    # miss cleavage count\n",
    "                    for idx, value in enumerate(miss_cnt[prot_idx]):\n",
    "                        if idx in miss_change_range:\n",
    "                            value += cnt\n",
    "                            miss_cnt[prot_idx][idx] = value\n",
    "                    # peptide(spectral) count \n",
    "                    # only count first, and last amino acid of peptide which include miss cleavage\n",
    "                    # last : For counting N term of tryptic site\n",
    "                    # first : Foir counting C term of tryptic site\n",
    "                    pep_cnt[prot_idx][start_idx + pep_len -1] += cnt\n",
    "                    pep_cnt[prot_idx][start_idx] += cnt\n",
    "                else:  # _KR__ case\n",
    "                    miss_change_range = range(start_idx, start_idx + pep_len)\n",
    "                    # miss cleavage count\n",
    "                    for idx, value in enumerate(miss_cnt[prot_idx]):\n",
    "                        if idx in miss_change_range:\n",
    "                            value += cnt\n",
    "                            miss_cnt[prot_idx][idx] = value\n",
    "            # not miss cleavage case\n",
    "            else:\n",
    "                change_range = range(start_idx, start_idx + pep_len)\n",
    "                # peptide(spectral) count\n",
    "                for idx, value in enumerate(pep_cnt[prot_idx]):\n",
    "                    if idx in change_range:\n",
    "                        value += cnt\n",
    "                        pep_cnt[prot_idx][idx] = value\n",
    "    print('peptide(spectral) counting done!                              n')\n",
    "    \n",
    "    # peptide(spectral) count with protein\n",
    "    prot2cnt = dict()\n",
    "    for idx, ((pname, seqs), cnts) in enumerate(zip(df_prot[['PROTEIN', 'SEQUENCE']].values, pep_cnt)):\n",
    "        prot2cnt[pname]=';'.join([str(seq) + '_' + str(cnt) for seq, cnt in zip(seqs, cnts)])\n",
    "\n",
    "    prot2cnt_miss = dict()\n",
    "    for idx, ((pname, seqs), cnts) in enumerate(zip(df_prot[['PROTEIN', 'SEQUENCE']].values, miss_cnt)):\n",
    "        prot2cnt_miss[pname] = ';'.join([str(seq) + '_' + str(cnt) for seq, cnt in zip(seqs, cnts)])\n",
    "    return prot2cnt, prot2cnt_miss"
   ]
  },
  {
   "cell_type": "code",
   "execution_count": 12,
   "metadata": {
    "ExecuteTime": {
     "end_time": "2022-01-09T19:19:21.273124Z",
     "start_time": "2022-01-09T19:12:58.600741Z"
    }
   },
   "outputs": [
    {
     "name": "stdout",
     "output_type": "stream",
     "text": [
      "peptide(spectral) counting done!                              n\n"
     ]
    }
   ],
   "source": [
    "pep_tree = tree_from_pep(df_ided_peptide.PEPTIDE.unique())  # from utils\n",
    "prot2cnt, prot2cnt_miss = prot2counting(pep_tree, df_ided_protein, df_ided_peptide)\n",
    "\n",
    "df_ided_protein['SPECTRAL_CNT'] = [prot2cnt[pname] for pname in df_ided_protein.PROTEIN.values]\n",
    "df_ided_protein['SPECTRAL_CNT_MISS'] = [prot2cnt_miss[pname] for pname in df_ided_protein.PROTEIN.values]"
   ]
  },
  {
   "cell_type": "code",
   "execution_count": 13,
   "metadata": {
    "ExecuteTime": {
     "end_time": "2022-01-09T19:19:21.283045Z",
     "start_time": "2022-01-09T19:19:21.274852Z"
    }
   },
   "outputs": [
    {
     "name": "stdout",
     "output_type": "stream",
     "text": [
      "(19291, 5)\n"
     ]
    },
    {
     "data": {
      "text/html": [
       "<div>\n",
       "<style scoped>\n",
       "    .dataframe tbody tr th:only-of-type {\n",
       "        vertical-align: middle;\n",
       "    }\n",
       "\n",
       "    .dataframe tbody tr th {\n",
       "        vertical-align: top;\n",
       "    }\n",
       "\n",
       "    .dataframe thead th {\n",
       "        text-align: right;\n",
       "    }\n",
       "</style>\n",
       "<table border=\"1\" class=\"dataframe\">\n",
       "  <thead>\n",
       "    <tr style=\"text-align: right;\">\n",
       "      <th></th>\n",
       "      <th>PROTEIN</th>\n",
       "      <th>SEQUENCE</th>\n",
       "      <th>PROTEIN_FULL</th>\n",
       "      <th>SPECTRAL_CNT</th>\n",
       "      <th>SPECTRAL_CNT_MISS</th>\n",
       "    </tr>\n",
       "  </thead>\n",
       "  <tbody>\n",
       "    <tr>\n",
       "      <th>0</th>\n",
       "      <td>sp|Q9H553|ALG2_HUMAN</td>\n",
       "      <td>MAEEQGRERDSVPKPSVLFLHPDLGVGGAERLVLDAALALQARGCS...</td>\n",
       "      <td>&gt;sp|Q9H553|ALG2_HUMAN Alpha-1,3/1,6-mannosyltr...</td>\n",
       "      <td>M_0;A_0;E_0;E_0;Q_0;G_0;R_0;E_3;R_0;D_152;S_2;...</td>\n",
       "      <td>M_0;A_0;E_0;E_0;Q_0;G_0;R_0;E_3;R_3;D_155;S_15...</td>\n",
       "    </tr>\n",
       "  </tbody>\n",
       "</table>\n",
       "</div>"
      ],
      "text/plain": [
       "                PROTEIN                                           SEQUENCE  \\\n",
       "0  sp|Q9H553|ALG2_HUMAN  MAEEQGRERDSVPKPSVLFLHPDLGVGGAERLVLDAALALQARGCS...   \n",
       "\n",
       "                                        PROTEIN_FULL  \\\n",
       "0  >sp|Q9H553|ALG2_HUMAN Alpha-1,3/1,6-mannosyltr...   \n",
       "\n",
       "                                        SPECTRAL_CNT  \\\n",
       "0  M_0;A_0;E_0;E_0;Q_0;G_0;R_0;E_3;R_0;D_152;S_2;...   \n",
       "\n",
       "                                   SPECTRAL_CNT_MISS  \n",
       "0  M_0;A_0;E_0;E_0;Q_0;G_0;R_0;E_3;R_3;D_155;S_15...  "
      ]
     },
     "execution_count": 13,
     "metadata": {},
     "output_type": "execute_result"
    }
   ],
   "source": [
    "print(df_ided_protein.shape)\n",
    "df_ided_protein.head(1)"
   ]
  },
  {
   "cell_type": "markdown",
   "metadata": {},
   "source": [
    "# Make Digest_prot, Detect_pep, unDetect_pep  version==holdout\n",
    "  - digestion preprocessing -> proceed to AP3 (or each file which treat digestion peptide)\n",
    "  - spectral cnt >= 2 : detect\n",
    "  - spectral cnt == 0 : undetect"
   ]
  },
  {
   "cell_type": "code",
   "execution_count": 14,
   "metadata": {
    "ExecuteTime": {
     "end_time": "2022-01-09T19:19:21.303961Z",
     "start_time": "2022-01-09T19:19:21.284519Z"
    }
   },
   "outputs": [],
   "source": [
    "def pep_from_prot(df_uni, MISS_CLEAVAGE, thres=4):\n",
    "    peptide = []\n",
    "    TS_AA = 'KR'\n",
    "\n",
    "    for protein, pname, cnt, cnt_miss in df_uni[['SEQUENCE', 'PROTEIN', 'SPECTRAL_CNT', 'SPECTRAL_CNT_MISS']].values:\n",
    "        cnt = list(map(lambda x: int(x[2:]), cnt.split(';')))\n",
    "        cnt_miss = list(map(lambda x: int(x[2:]), cnt_miss.split(';')))\n",
    "        \n",
    "        ts_idx = []  # tryptic site index\n",
    "        for prot_idx, aa in enumerate(protein):\n",
    "            if aa in TS_AA:\n",
    "                ts_idx.append(prot_idx)\n",
    "        for idx in range(len(ts_idx)):\n",
    "            n = MISS_CLEAVAGE\n",
    "            if idx+(n+1) > len(ts_idx)-1:  # peptide making range\n",
    "                break\n",
    "\n",
    "            # protein N term\n",
    "            if (ts_idx[idx]<=(thres - 1)) and (ts_idx[idx] >= len(protein) -1 -(thres - 1)):  # -MNQKLLK- 앞뒤 다 부족한 경우\n",
    "                en = 'Z' * (thres - ts_idx[idx]) + protein[: ts_idx[idx]+(thres + 1)] + 'Z' * (thres - (len(protein)-1 - ts_idx[idx]))\n",
    "            elif ts_idx[idx]<=(thres - 1):\n",
    "                en = 'Z' * (thres - ts_idx[idx]) + protein[: ts_idx[idx]+(thres + 1)]\n",
    "            elif ts_idx[idx] >= len(protein) -1 -(thres - 1):  # for EAQDRRN : 끝이 부족한 경우\n",
    "                en = protein[ts_idx[idx]-thres:] + 'Z' * (thres - (len(protein)-1 - ts_idx[idx]))\n",
    "            else:\n",
    "                en = protein[ts_idx[idx]-thres: ts_idx[idx]+(thres + 1)]\n",
    "\n",
    "            # protein C term\n",
    "            if (ts_idx[idx+n+1] >= len(protein) -1 -(thres - 1)) and (ts_idx[idx+n+1] <= (thres - 1)):\n",
    "                ec = 'Z' * (thres - ts_idx[idx+n+1]) + protein[: ts_idx[idx+n+1]+(thres + 1)]  + 'Z' * (thres - (len(protein)-1 - ts_idx[idx+n+1]))\n",
    "            elif ts_idx[idx+n+1] >= len(protein) -1 -(thres - 1):\n",
    "                ec = protein[ts_idx[idx+n+1] - thres :] + 'Z' * (thres - (len(protein)-1 - ts_idx[idx+n+1]))\n",
    "            elif ts_idx[idx+n+1] <= (thres - 1):  # for -MRRS : 시작이 부족한 경우\n",
    "                ec = 'Z' * (thres - ts_idx[idx+n+1]) + protein[: ts_idx[idx+n+1]+(thres + 1)]\n",
    "            else:\n",
    "                ec = protein[ts_idx[idx+n+1] - thres : ts_idx[idx+n+1] +(thres + 1)]  # n+1번째 tryptic_site\n",
    "                    \n",
    "            # Peptide miss cleavage\n",
    "            if n != 0:  # miss cleavage 고려하는 경우,\n",
    "                ei = []\n",
    "                for i in range(1, n+1):\n",
    "                    if (ts_idx[idx+i] <= (thres - 1)) and (ts_idx[idx+i] >= len(protein) -1 -(thres - 1)):\n",
    "                        # both padding case\n",
    "                        ei_tmp = 'Z' * (thres - ts_idx[idx+i]) + protein + 'Z' * (thres - (len(protein)-1 - ts_idx[idx+i]))\n",
    "                        \n",
    "                    elif ts_idx[idx+i] >= len(protein) -1 -(thres - 1):\n",
    "                        # 'MTTRGFSCLLLLI R EIDLSAKRRI' : ts_idx= 3, 13, 20, 21, 22\n",
    "                        # -> N_term : 3, C_term : 20, m1_term : 13 in miss_cleavage==1 case\n",
    "                        # ts_idx[idx+i]=13, len(protein)-1-(thres-1)=24-1-14=9, if True case.\n",
    "                        # right padding case.\n",
    "                        ei_tmp = protein[ts_idx[idx+i] - thres :] + 'Z' * (thres - (len(protein)-1 - ts_idx[idx+i]))\n",
    "                        \n",
    "                    elif ts_idx[idx+i] <= (thres - 1):\n",
    "                        # left padding case\n",
    "                        ei_tmp = 'Z' * (thres - ts_idx[idx+i]) + protein[: ts_idx[idx+i]+(thres + 1)]\n",
    "                    \n",
    "                    else:\n",
    "                        # no pad case.\n",
    "                        ei_tmp = protein[ts_idx[idx+i] - thres : ts_idx[idx+i] +(thres + 1)]\n",
    "                    ei.append(ei_tmp)\n",
    "            else:  # miss cleavage 고려안하는 경우\n",
    "                ei = []\n",
    "            # peptide\n",
    "            if ts_idx[idx+n+1] == len(protein)-1:  # protein C term = idx + n + 1 의 tryptic_site 가 단백질의 마지막인 경우\n",
    "                pep = protein[ts_idx[idx]] + '.' + protein[ts_idx[idx]+1:ts_idx[idx+n+1]+1] + '.Z'\n",
    "            else:\n",
    "                pep = protein[ts_idx[idx]] + '.' + protein[ts_idx[idx]+1:ts_idx[idx+n+1]+1] + '.' + protein[ts_idx[idx+n+1]+1]\n",
    "\n",
    "            peptide.append({pep:[[en], [ec], ei, pname]})\n",
    "    return peptide"
   ]
  },
  {
   "cell_type": "code",
   "execution_count": 15,
   "metadata": {
    "ExecuteTime": {
     "end_time": "2022-01-09T19:19:23.244924Z",
     "start_time": "2022-01-09T19:19:21.305253Z"
    }
   },
   "outputs": [],
   "source": [
    "# STRIP_PEPTIDE SPECTRAL_CNT\n",
    "pep2cnt = dict()\n",
    "for p, cnt in df_ided_peptide[['PEPTIDE', 'SPECTRAL_CNT']].values:\n",
    "    if p not in pep2cnt:\n",
    "        pep2cnt[p] = 0\n",
    "    pep2cnt[p] += cnt\n",
    "    \n",
    "    \n",
    "def pep_detection_labelling(df_ided_protein=df_ided_protein, pep_tree=pep_tree, pep2cnt=pep2cnt):\n",
    "    peptide0 = pep_from_prot(df_ided_protein, 0, thres=15)\n",
    "    peps = [list(dic.keys())[0] for dic in peptide0]\n",
    "    ens = [list(dic.values())[0][0] for dic in peptide0]\n",
    "    ecs = [list(dic.values())[0][1] for dic in peptide0]\n",
    "    eis = [list(dic.values())[0][2] for dic in peptide0]\n",
    "    pname = [list(dic.values())[0][3] for dic in peptide0]\n",
    "    zero = pd.DataFrame([[p, n[0], c[0], '-', '-', pn] \n",
    "                         for p, n, c, m, pn in zip(peps, ens, ecs, eis, pname)],\n",
    "                columns=['peptide', 'En', 'Ec', 'E1', 'E2', 'protein'])\n",
    "    zero['PEP'] = [i.split('.')[1] for i in zero.peptide.values]\n",
    "\n",
    "    peptide1 = pep_from_prot(df_ided_protein, 1, thres=15)\n",
    "    peps = [list(dic.keys())[0] for dic in peptide1]\n",
    "    ens = [list(dic.values())[0][0] for dic in peptide1]\n",
    "    ecs = [list(dic.values())[0][1] for dic in peptide1]\n",
    "    eis = [list(dic.values())[0][2] for dic in peptide1]\n",
    "    pname = [list(dic.values())[0][3] for dic in peptide1]\n",
    "    one = pd.DataFrame([[p, n[0], c[0], m[0], '-', pn]\n",
    "                        for p, n, c, m, pn in zip(peps, ens, ecs, eis, pname)],\n",
    "                columns=['peptide', 'En', 'Ec', 'E1', 'E2', 'protein'])\n",
    "    one['PEP'] = [i.split('.')[1] for i in one.peptide.values]\n",
    "\n",
    "    peptide2 = pep_from_prot(df_ided_protein, 2, thres=15)\n",
    "    peps = [list(dic.keys())[0] for dic in peptide2]\n",
    "    ens = [list(dic.values())[0][0] for dic in peptide2]\n",
    "    ecs = [list(dic.values())[0][1] for dic in peptide2]\n",
    "    eis = [list(dic.values())[0][2] for dic in peptide2]\n",
    "    pname = [list(dic.values())[0][3] for dic in peptide2]\n",
    "    two = pd.DataFrame([[p, n[0], c[0], m[0], m[1], pn]\n",
    "                        for p, n, c, m, pn in zip(peps, ens, ecs, eis, pname)],\n",
    "                columns=['peptide', 'En', 'Ec', 'E1', 'E2', 'protein'])\n",
    "    two['PEP'] = [i.split('.')[1] for i in two.peptide.values]\n",
    "\n",
    "    zero_filter = zero.loc[zero.PEP.apply(lambda x: (len(x)>=7) and (len(x)<=30))]\n",
    "    one_filter = one.loc[one.PEP.apply(lambda x: (len(x)>=7) and (len(x)<=30))]\n",
    "    two_filter = two.loc[two.PEP.apply(lambda x: (len(x)>=7) and (len(x)<=30))]\n",
    "\n",
    "    df_fully = pd.concat([zero_filter, one_filter, two_filter], axis=0).reset_index(drop=True)\n",
    "\n",
    "    # preprocessing\n",
    "    amino = list(\"ARNDCEQGHILKMFPSTWYVZ\")\n",
    "    check_u = [idx for idx, t in enumerate(df_fully.PEP.values) if 'U' in t]\n",
    "    check_x = [idx for idx, t in enumerate(df_fully.PEP.values) if 'X' in t]\n",
    "    check_n = [idx for idx, t in enumerate(df_fully.En.values) if (sum([1 for a in t if a not in amino]) >= 1) and t !='-']\n",
    "    check_c = [idx for idx, t in enumerate(df_fully.Ec.values) if (sum([1 for a in t if a not in amino]) >= 1) and t !='-']\n",
    "    check_1 = [idx for idx, t in enumerate(df_fully.E1.values) if (sum([1 for a in t if a not in amino]) >= 1) and t !='-']\n",
    "    check_2 = [idx for idx, t in enumerate(df_fully.E2.values) if (sum([1 for a in t if a not in amino]) >= 1) and t !='-']\n",
    "    check = list(set(check_n).union(set(check_c)).union(set(check_1)).union(set(check_2)).union(set(check_u)).union(set(check_x)))\n",
    "    print('del rows(including U, X amino acid) cnt : {:,}'.format(len(check)))\n",
    "    df_fully = df_fully.drop(check).reset_index(drop=True)\n",
    "\n",
    "    ided = []\n",
    "    for fully_pep in df_fully.PEP.values:\n",
    "        results = [i for i in pep_tree.search_all(fully_pep)]\n",
    "        if len(results) != 0:\n",
    "            result_pep = [_[0] for _ in results]\n",
    "            if fully_pep in result_pep:  # 정확히 똑같은 pep 있는 경우\n",
    "                if pep2cnt[fully_pep] > 1:\n",
    "                    ided.append(1)\n",
    "                else:\n",
    "                    ided.append(-1)  # SC1인 경우는 제거하자\n",
    "            else:\n",
    "                ided.append(0)\n",
    "        else:\n",
    "            ided.append(0)\n",
    "    df_fully['ID'] = ided\n",
    "\n",
    "    drop_idx = df_fully.loc[df_fully.ID==-1].index\n",
    "    print('peptide with 1 spectral count (remove this peptide) cnt : ', len(drop_idx))\n",
    "    df_fully = df_fully.drop(drop_idx).reset_index(drop=True)\n",
    "\n",
    "    drop_idx = np.where(df_fully.duplicated()==True)[0]\n",
    "    df_fully = df_fully.drop(drop_idx).reset_index(drop=True)\n",
    "\n",
    "    print('----ID/nonID cnt----\\n', df_fully.ID.value_counts())  # massIVE-KB : half is semi_non_tryptic, half is fully_tryptic\n",
    "    print('----final shape----\\n', df_fully.shape)\n",
    "    df_fully.head(1)\n",
    "    return df_fully"
   ]
  },
  {
   "cell_type": "markdown",
   "metadata": {},
   "source": [
    "# 1. protein filtration \n",
    "  - sequence coverage >= 0.5"
   ]
  },
  {
   "cell_type": "code",
   "execution_count": 16,
   "metadata": {
    "ExecuteTime": {
     "end_time": "2022-01-09T19:21:58.572276Z",
     "start_time": "2022-01-09T19:19:23.246370Z"
    }
   },
   "outputs": [
    {
     "name": "stdout",
     "output_type": "stream",
     "text": [
      "after protein sequence coverage >= 0.5 filtration :  11707\n",
      "(5853, 5) (5854, 5)\n"
     ]
    }
   ],
   "source": [
    "cover_cnt = [[0 for __ in range(len(_))] for _ in df_ided_protein.SEQUENCE.values]\n",
    "coverage_dic = {pname:0 for pname in df_ided_protein.PROTEIN.values}\n",
    "for prot_idx, (prot_seq, pname) in enumerate(df_ided_protein[['SEQUENCE', 'PROTEIN']].values):\n",
    "    pep_results = pep_tree.search_all(prot_seq)\n",
    "\n",
    "    for pep_result in pep_results:  # result = ('ACAC', 5) = (peptide, location)\n",
    "        change_range = range(pep_result[1], pep_result[1] + len(pep_result[0]))\n",
    "        for idx, value in enumerate(cover_cnt[prot_idx]):\n",
    "            if idx in change_range:\n",
    "                value += 1\n",
    "                cover_cnt[prot_idx][idx] = value\n",
    "    cov = sum([1 for _ in cover_cnt[prot_idx] if _ >= 1]) / len(cover_cnt[prot_idx])\n",
    "    coverage_dic[pname] = cov\n",
    "\n",
    "# viz : protein's spectral count, coverage\n",
    "df_cover = pd.DataFrame([[pname, round(c, 2)]\n",
    "                           for pname, c in coverage_dic.items()],\n",
    "                           columns=['protein', 'coverage']).sort_values('coverage', ascending=False)\n",
    "\n",
    "THRESHOLD = 0.5\n",
    "remain_prot = df_cover.loc[df_cover.coverage>=THRESHOLD].protein.values\n",
    "print('after protein sequence coverage >= 0.5 filtration : ', len(remain_prot))\n",
    "\n",
    "digest_prot = remain_prot[:int(len(remain_prot)/2)]\n",
    "detect_prot = remain_prot[int(len(remain_prot)/2):]\n",
    "\n",
    "digest_idx = [idx for idx, _ in enumerate(df_ided_protein.PROTEIN.values) if _ in digest_prot]\n",
    "detect_idx = [idx for idx, _ in enumerate(df_ided_protein.PROTEIN.values) if _ in detect_prot]\n",
    "df_digest_protein = df_ided_protein.loc[digest_idx].reset_index(drop=True)\n",
    "df_detect_protein = df_ided_protein.loc[detect_idx].reset_index(drop=True)\n",
    "print(df_digest_protein.shape, df_detect_protein.shape)"
   ]
  },
  {
   "cell_type": "markdown",
   "metadata": {},
   "source": [
    "# 2. Detect_pep, unDetect_pep"
   ]
  },
  {
   "cell_type": "code",
   "execution_count": 17,
   "metadata": {
    "ExecuteTime": {
     "end_time": "2022-01-09T19:23:00.661647Z",
     "start_time": "2022-01-09T19:21:58.573777Z"
    }
   },
   "outputs": [
    {
     "name": "stdout",
     "output_type": "stream",
     "text": [
      "del rows(including U, X amino acid) cnt : 71\n",
      "peptide with 1 spectral count (remove this peptide) cnt :  30370\n",
      "----ID/nonID cnt----\n",
      " 0    497024\n",
      "1    168317\n",
      "Name: ID, dtype: int64\n",
      "----final shape----\n",
      " (665341, 8)\n"
     ]
    }
   ],
   "source": [
    "df_detect_peptide = pep_detection_labelling(df_ided_protein = df_detect_protein)"
   ]
  },
  {
   "cell_type": "code",
   "execution_count": 57,
   "metadata": {
    "ExecuteTime": {
     "end_time": "2022-01-02T17:18:35.938098Z",
     "start_time": "2022-01-02T17:16:34.736225Z"
    }
   },
   "outputs": [
    {
     "name": "stdout",
     "output_type": "stream",
     "text": [
      "del rows(including U, X amino acid) cnt : 71\n",
      "peptide with 1 spectral count (remove this peptide) cnt :  30370\n",
      "----ID/nonID cnt----\n",
      " 0    497024\n",
      "1    168317\n",
      "Name: ID, dtype: int64\n",
      "----final shape----\n",
      " (665341, 8)\n"
     ]
    }
   ],
   "source": [
    "df_detect_peptide = pep_detection_labelling(df_ided_protein = df_detect_protein)"
   ]
  },
  {
   "cell_type": "code",
   "execution_count": 58,
   "metadata": {
    "ExecuteTime": {
     "end_time": "2022-01-02T17:19:34.104120Z",
     "start_time": "2022-01-02T17:18:35.940215Z"
    }
   },
   "outputs": [
    {
     "name": "stdout",
     "output_type": "stream",
     "text": [
      "del rows(including U, X amino acid) cnt : 56\n",
      "peptide with 1 spectral count (remove this peptide) cnt :  32100\n",
      "----ID/nonID cnt----\n",
      " 0    318731\n",
      "1    245478\n",
      "Name: ID, dtype: int64\n",
      "----final shape----\n",
      " (564209, 8)\n"
     ]
    }
   ],
   "source": [
    "df_digest_peptide = pep_detection_labelling(df_ided_protein = df_digest_protein)"
   ]
  },
  {
   "cell_type": "code",
   "execution_count": 59,
   "metadata": {
    "ExecuteTime": {
     "end_time": "2022-01-02T17:19:35.994802Z",
     "start_time": "2022-01-02T17:19:34.112640Z"
    }
   },
   "outputs": [
    {
     "name": "stdout",
     "output_type": "stream",
     "text": [
      "564209 553543 10666\n"
     ]
    }
   ],
   "source": [
    "# detect 데이터에 있는 펩타이드 제거\n",
    "df_key = pd.DataFrame([[_, True] for _ in df_detect_peptide.PEP.unique()], columns=['PEP', 'Drop'])\n",
    "before=df_digest_peptide.shape[0]\n",
    "df_digest_peptide_drop = df_digest_peptide.merge(df_key, on='PEP', how='left')\n",
    "df_digest_peptide_drop = df_digest_peptide_drop.loc[df_digest_peptide_drop.Drop.isnull()].drop('Drop', axis=1).reset_index(drop=True)\n",
    "after=df_digest_peptide_drop.shape[0]\n",
    "print(before, after, before-after)"
   ]
  },
  {
   "cell_type": "code",
   "execution_count": 60,
   "metadata": {
    "ExecuteTime": {
     "end_time": "2022-01-02T17:19:36.457610Z",
     "start_time": "2022-01-02T17:19:35.996462Z"
    }
   },
   "outputs": [
    {
     "name": "stdout",
     "output_type": "stream",
     "text": [
      "---sampled ID/nonID cnt---\n",
      " 0    497024\n",
      "1    168317\n",
      "Name: ID, dtype: int64 \n",
      "---holdout ID/nonID cnt---\n",
      " 0    199036\n",
      "1     67100\n",
      "Name: ID, dtype: int64 \n",
      "---train   ID/nonID cnt---\n",
      " 0    297988\n",
      "1    101217\n",
      "Name: ID, dtype: int64\n"
     ]
    }
   ],
   "source": [
    "hold = df_detect_peptide.sample(frac=0.4, random_state=7)\n",
    "train = df_detect_peptide.drop(hold.index, axis=0)\n",
    "print('---sampled ID/nonID cnt---\\n', df_detect_peptide.ID.value_counts(),\n",
    "      '\\n---holdout ID/nonID cnt---\\n', hold.ID.value_counts(),\n",
    "      '\\n---train   ID/nonID cnt---\\n', train.ID.value_counts())"
   ]
  },
  {
   "cell_type": "code",
   "execution_count": 61,
   "metadata": {
    "ExecuteTime": {
     "end_time": "2022-01-02T17:19:37.687063Z",
     "start_time": "2022-01-02T17:19:36.459420Z"
    }
   },
   "outputs": [
    {
     "name": "stdout",
     "output_type": "stream",
     "text": [
      "399205 389854 9351\n"
     ]
    }
   ],
   "source": [
    "df_key = pd.DataFrame([[_, True] for _ in hold.PEP.unique()], columns=['PEP', 'Drop'])\n",
    "before=train.shape[0]\n",
    "train_drop = train.merge(df_key, on='PEP', how='left')\n",
    "train_drop = train_drop.loc[train_drop.Drop.isnull()].drop('Drop', axis=1).reset_index(drop=True)\n",
    "after=train_drop.shape[0]\n",
    "print(before, after, before-after)"
   ]
  },
  {
   "cell_type": "code",
   "execution_count": 62,
   "metadata": {
    "ExecuteTime": {
     "end_time": "2022-01-02T17:19:37.695936Z",
     "start_time": "2022-01-02T17:19:37.688517Z"
    }
   },
   "outputs": [
    {
     "data": {
      "text/plain": [
       "0    312655\n",
       "1    240888\n",
       "Name: ID, dtype: int64"
      ]
     },
     "execution_count": 62,
     "metadata": {},
     "output_type": "execute_result"
    }
   ],
   "source": [
    "df_digest_peptide_drop.ID.value_counts()"
   ]
  },
  {
   "cell_type": "code",
   "execution_count": 63,
   "metadata": {
    "ExecuteTime": {
     "end_time": "2022-01-02T17:19:38.152955Z",
     "start_time": "2022-01-02T17:19:37.697121Z"
    }
   },
   "outputs": [
    {
     "data": {
      "text/plain": [
       "0    603532\n",
       "1    339865\n",
       "Name: ID, dtype: int64"
      ]
     },
     "execution_count": 63,
     "metadata": {},
     "output_type": "execute_result"
    }
   ],
   "source": [
    "df_train = pd.concat([train_drop, df_digest_peptide_drop], axis=0).reset_index(drop=True)\n",
    "df_train.ID.value_counts()"
   ]
  },
  {
   "cell_type": "code",
   "execution_count": 64,
   "metadata": {
    "ExecuteTime": {
     "end_time": "2022-01-02T17:19:38.437112Z",
     "start_time": "2022-01-02T17:19:38.154196Z"
    }
   },
   "outputs": [
    {
     "name": "stdout",
     "output_type": "stream",
     "text": [
      "67100 67100\n"
     ]
    }
   ],
   "source": [
    "p = hold.loc[hold.ID==1]\n",
    "n = hold.loc[hold.ID==0].sample(len(p), random_state=7)\n",
    "print(len(p), len(n))\n",
    "hold_sampled = pd.concat([p, n], axis=0).reset_index(drop=True)"
   ]
  },
  {
   "cell_type": "code",
   "execution_count": 65,
   "metadata": {
    "ExecuteTime": {
     "end_time": "2022-01-02T17:19:39.171778Z",
     "start_time": "2022-01-02T17:19:38.441973Z"
    }
   },
   "outputs": [
    {
     "name": "stdout",
     "output_type": "stream",
     "text": [
      "339865 339865\n"
     ]
    }
   ],
   "source": [
    "p = df_train.loc[df_train.ID==1]\n",
    "n = df_train.loc[df_train.ID==0].sample(len(p), random_state=7)\n",
    "print(len(p), len(n))\n",
    "df_train_sampled = pd.concat([p, n], axis=0).reset_index(drop=True)"
   ]
  },
  {
   "cell_type": "markdown",
   "metadata": {},
   "source": [
    "* unDetectable sampling"
   ]
  },
  {
   "cell_type": "code",
   "execution_count": 66,
   "metadata": {
    "ExecuteTime": {
     "end_time": "2022-01-02T17:19:39.219199Z",
     "start_time": "2022-01-02T17:19:39.173079Z"
    }
   },
   "outputs": [
    {
     "data": {
      "text/html": [
       "<div>\n",
       "<style scoped>\n",
       "    .dataframe tbody tr th:only-of-type {\n",
       "        vertical-align: middle;\n",
       "    }\n",
       "\n",
       "    .dataframe tbody tr th {\n",
       "        vertical-align: top;\n",
       "    }\n",
       "\n",
       "    .dataframe thead th {\n",
       "        text-align: right;\n",
       "    }\n",
       "</style>\n",
       "<table border=\"1\" class=\"dataframe\">\n",
       "  <thead>\n",
       "    <tr style=\"text-align: right;\">\n",
       "      <th></th>\n",
       "      <th>peptide</th>\n",
       "      <th>En</th>\n",
       "      <th>Ec</th>\n",
       "      <th>E1</th>\n",
       "      <th>E2</th>\n",
       "      <th>protein</th>\n",
       "      <th>PEP</th>\n",
       "      <th>ID</th>\n",
       "    </tr>\n",
       "  </thead>\n",
       "  <tbody>\n",
       "    <tr>\n",
       "      <th>285897</th>\n",
       "      <td>R.GFSCLLLLIREIDLSAK.R</td>\n",
       "      <td>ZZZZZZZZZZZZMTTRGFSCLLLLIREIDLS</td>\n",
       "      <td>FSCLLLLIREIDLSAKRRIZZZZZZZZZZZZ</td>\n",
       "      <td>ZZMTTRGFSCLLLLIREIDLSAKRRIZZZZZ</td>\n",
       "      <td>-</td>\n",
       "      <td>sp|P0CJ77|HMN10_HUMAN</td>\n",
       "      <td>GFSCLLLLIREIDLSAK</td>\n",
       "      <td>1</td>\n",
       "    </tr>\n",
       "    <tr>\n",
       "      <th>285898</th>\n",
       "      <td>R.EIDLSAKR.R</td>\n",
       "      <td>ZZMTTRGFSCLLLLIREIDLSAKRRIZZZZZ</td>\n",
       "      <td>SCLLLLIREIDLSAKRRIZZZZZZZZZZZZZ</td>\n",
       "      <td>FSCLLLLIREIDLSAKRRIZZZZZZZZZZZZ</td>\n",
       "      <td>-</td>\n",
       "      <td>sp|P0CJ77|HMN10_HUMAN</td>\n",
       "      <td>EIDLSAKR</td>\n",
       "      <td>1</td>\n",
       "    </tr>\n",
       "    <tr>\n",
       "      <th>420619</th>\n",
       "      <td>R.EIDLSAKRR.I</td>\n",
       "      <td>ZZMTTRGFSCLLLLIREIDLSAKRRIZZZZZ</td>\n",
       "      <td>CLLLLIREIDLSAKRRIZZZZZZZZZZZZZZ</td>\n",
       "      <td>FSCLLLLIREIDLSAKRRIZZZZZZZZZZZZ</td>\n",
       "      <td>SCLLLLIREIDLSAKRRIZZZZZZZZZZZZZ</td>\n",
       "      <td>sp|P0CJ77|HMN10_HUMAN</td>\n",
       "      <td>EIDLSAKRR</td>\n",
       "      <td>0</td>\n",
       "    </tr>\n",
       "    <tr>\n",
       "      <th>502881</th>\n",
       "      <td>R.GFSCLLLLIREIDLSAKR.R</td>\n",
       "      <td>ZZZZZZZZZZZZMTTRGFSCLLLLIREIDLS</td>\n",
       "      <td>SCLLLLIREIDLSAKRRIZZZZZZZZZZZZZ</td>\n",
       "      <td>ZZMTTRGFSCLLLLIREIDLSAKRRIZZZZZ</td>\n",
       "      <td>FSCLLLLIREIDLSAKRRIZZZZZZZZZZZZ</td>\n",
       "      <td>sp|P0CJ77|HMN10_HUMAN</td>\n",
       "      <td>GFSCLLLLIREIDLSAKR</td>\n",
       "      <td>0</td>\n",
       "    </tr>\n",
       "    <tr>\n",
       "      <th>671152</th>\n",
       "      <td>R.GFSCLLLLIR.E</td>\n",
       "      <td>ZZZZZZZZZZZZMTTRGFSCLLLLIREIDLS</td>\n",
       "      <td>ZZMTTRGFSCLLLLIREIDLSAKRRIZZZZZ</td>\n",
       "      <td>-</td>\n",
       "      <td>-</td>\n",
       "      <td>sp|P0CJ77|HMN10_HUMAN</td>\n",
       "      <td>GFSCLLLLIR</td>\n",
       "      <td>0</td>\n",
       "    </tr>\n",
       "  </tbody>\n",
       "</table>\n",
       "</div>"
      ],
      "text/plain": [
       "                       peptide                               En  \\\n",
       "285897   R.GFSCLLLLIREIDLSAK.R  ZZZZZZZZZZZZMTTRGFSCLLLLIREIDLS   \n",
       "285898            R.EIDLSAKR.R  ZZMTTRGFSCLLLLIREIDLSAKRRIZZZZZ   \n",
       "420619           R.EIDLSAKRR.I  ZZMTTRGFSCLLLLIREIDLSAKRRIZZZZZ   \n",
       "502881  R.GFSCLLLLIREIDLSAKR.R  ZZZZZZZZZZZZMTTRGFSCLLLLIREIDLS   \n",
       "671152          R.GFSCLLLLIR.E  ZZZZZZZZZZZZMTTRGFSCLLLLIREIDLS   \n",
       "\n",
       "                                     Ec                               E1  \\\n",
       "285897  FSCLLLLIREIDLSAKRRIZZZZZZZZZZZZ  ZZMTTRGFSCLLLLIREIDLSAKRRIZZZZZ   \n",
       "285898  SCLLLLIREIDLSAKRRIZZZZZZZZZZZZZ  FSCLLLLIREIDLSAKRRIZZZZZZZZZZZZ   \n",
       "420619  CLLLLIREIDLSAKRRIZZZZZZZZZZZZZZ  FSCLLLLIREIDLSAKRRIZZZZZZZZZZZZ   \n",
       "502881  SCLLLLIREIDLSAKRRIZZZZZZZZZZZZZ  ZZMTTRGFSCLLLLIREIDLSAKRRIZZZZZ   \n",
       "671152  ZZMTTRGFSCLLLLIREIDLSAKRRIZZZZZ                                -   \n",
       "\n",
       "                                     E2                protein  \\\n",
       "285897                                -  sp|P0CJ77|HMN10_HUMAN   \n",
       "285898                                -  sp|P0CJ77|HMN10_HUMAN   \n",
       "420619  SCLLLLIREIDLSAKRRIZZZZZZZZZZZZZ  sp|P0CJ77|HMN10_HUMAN   \n",
       "502881  FSCLLLLIREIDLSAKRRIZZZZZZZZZZZZ  sp|P0CJ77|HMN10_HUMAN   \n",
       "671152                                -  sp|P0CJ77|HMN10_HUMAN   \n",
       "\n",
       "                       PEP  ID  \n",
       "285897   GFSCLLLLIREIDLSAK   1  \n",
       "285898            EIDLSAKR   1  \n",
       "420619           EIDLSAKRR   0  \n",
       "502881  GFSCLLLLIREIDLSAKR   0  \n",
       "671152          GFSCLLLLIR   0  "
      ]
     },
     "execution_count": 66,
     "metadata": {},
     "output_type": "execute_result"
    }
   ],
   "source": [
    "df_train_sampled.loc[df_train_sampled.protein=='sp|P0CJ77|HMN10_HUMAN']"
   ]
  },
  {
   "cell_type": "code",
   "execution_count": 50,
   "metadata": {
    "ExecuteTime": {
     "end_time": "2022-01-02T17:09:39.644722Z",
     "start_time": "2022-01-02T17:09:39.635156Z"
    }
   },
   "outputs": [
    {
     "data": {
      "text/html": [
       "<div>\n",
       "<style scoped>\n",
       "    .dataframe tbody tr th:only-of-type {\n",
       "        vertical-align: middle;\n",
       "    }\n",
       "\n",
       "    .dataframe tbody tr th {\n",
       "        vertical-align: top;\n",
       "    }\n",
       "\n",
       "    .dataframe thead th {\n",
       "        text-align: right;\n",
       "    }\n",
       "</style>\n",
       "<table border=\"1\" class=\"dataframe\">\n",
       "  <thead>\n",
       "    <tr style=\"text-align: right;\">\n",
       "      <th></th>\n",
       "      <th>PROTEIN</th>\n",
       "      <th>SEQUENCE</th>\n",
       "      <th>PROTEIN_FULL</th>\n",
       "      <th>SPECTRAL_CNT</th>\n",
       "      <th>SPECTRAL_CNT_MISS</th>\n",
       "    </tr>\n",
       "  </thead>\n",
       "  <tbody>\n",
       "    <tr>\n",
       "      <th>15969</th>\n",
       "      <td>sp|P0CJ77|HMN10_HUMAN</td>\n",
       "      <td>MTTRGFSCLLLLIREIDLSAKRRI</td>\n",
       "      <td>&gt;sp|P0CJ77|HMN10_HUMAN Humanin-like 10 OS=Homo...</td>\n",
       "      <td>M_0;T_0;T_0;R_0;G_2;F_0;S_0;C_0;L_0;L_0;L_0;L_...</td>\n",
       "      <td>M_0;T_0;T_0;R_0;G_2;F_2;S_2;C_2;L_2;L_2;L_2;L_...</td>\n",
       "    </tr>\n",
       "  </tbody>\n",
       "</table>\n",
       "</div>"
      ],
      "text/plain": [
       "                     PROTEIN                  SEQUENCE  \\\n",
       "15969  sp|P0CJ77|HMN10_HUMAN  MTTRGFSCLLLLIREIDLSAKRRI   \n",
       "\n",
       "                                            PROTEIN_FULL  \\\n",
       "15969  >sp|P0CJ77|HMN10_HUMAN Humanin-like 10 OS=Homo...   \n",
       "\n",
       "                                            SPECTRAL_CNT  \\\n",
       "15969  M_0;T_0;T_0;R_0;G_2;F_0;S_0;C_0;L_0;L_0;L_0;L_...   \n",
       "\n",
       "                                       SPECTRAL_CNT_MISS  \n",
       "15969  M_0;T_0;T_0;R_0;G_2;F_2;S_2;C_2;L_2;L_2;L_2;L_...  "
      ]
     },
     "execution_count": 50,
     "metadata": {},
     "output_type": "execute_result"
    }
   ],
   "source": [
    "df_ided_protein.loc[df_ided_protein.PROTEIN=='sp|P0CJ77|HMN10_HUMAN']"
   ]
  },
  {
   "cell_type": "code",
   "execution_count": 67,
   "metadata": {
    "ExecuteTime": {
     "end_time": "2022-01-02T17:31:04.177284Z",
     "start_time": "2022-01-02T17:30:59.836799Z"
    }
   },
   "outputs": [],
   "source": [
    "hold_sampled.to_csv('test.csv', index=False)\n",
    "df_train_sampled.to_csv('train.csv', index=False)"
   ]
  },
  {
   "cell_type": "code",
   "execution_count": null,
   "metadata": {},
   "outputs": [],
   "source": []
  }
 ],
 "metadata": {
  "kernelspec": {
   "display_name": "TF2.0",
   "language": "python",
   "name": "bis"
  },
  "language_info": {
   "codemirror_mode": {
    "name": "ipython",
    "version": 3
   },
   "file_extension": ".py",
   "mimetype": "text/x-python",
   "name": "python",
   "nbconvert_exporter": "python",
   "pygments_lexer": "ipython3",
   "version": "3.6.12"
  }
 },
 "nbformat": 4,
 "nbformat_minor": 4
}
