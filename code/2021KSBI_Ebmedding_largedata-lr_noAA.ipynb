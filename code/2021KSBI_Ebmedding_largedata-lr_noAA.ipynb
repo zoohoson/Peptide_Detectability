{
 "cells": [
  {
   "cell_type": "code",
   "execution_count": 1,
   "metadata": {
    "ExecuteTime": {
     "end_time": "2022-04-26T19:10:23.190887Z",
     "start_time": "2022-04-26T19:10:22.352965Z"
    }
   },
   "outputs": [],
   "source": [
    "import pandas as pd\n",
    "import numpy as np\n",
    "import matplotlib.pyplot as plt\n",
    "import seaborn as sns\n",
    "from sklearn.metrics import classification_report\n",
    "from sklearn.metrics import confusion_matrix\n",
    "from sklearn.metrics import roc_curve\n",
    "from sklearn.metrics import roc_auc_score\n",
    "from sklearn.model_selection import train_test_split"
   ]
  },
  {
   "cell_type": "code",
   "execution_count": 2,
   "metadata": {
    "ExecuteTime": {
     "end_time": "2022-04-26T19:10:25.086046Z",
     "start_time": "2022-04-26T19:10:25.071070Z"
    }
   },
   "outputs": [
    {
     "name": "stdout",
     "output_type": "stream",
     "text": [
      "(19, 21)\n"
     ]
    }
   ],
   "source": [
    "df_aaindex = pd.read_csv('../data/aaindex/df_aaindex19.csv')\n",
    "print(df_aaindex.shape)\n",
    "df_aaindex.head(1)\n",
    "tmp = df_aaindex.drop('Unnamed: 0',axis=1).T\n",
    "aa2val = dict()\n",
    "for aa, val in zip(tmp.index, tmp.values):\n",
    "    aa2val[aa]=val"
   ]
  },
  {
   "cell_type": "code",
   "execution_count": 3,
   "metadata": {
    "ExecuteTime": {
     "end_time": "2022-04-26T19:10:27.736490Z",
     "start_time": "2022-04-26T19:10:25.269143Z"
    }
   },
   "outputs": [],
   "source": [
    "df_detect_peptide_train = pd.read_csv('../data/df_detect_peptide_train.csv')\n",
    "test = pd.read_csv('../data/df_detect_peptide_test.csv')\n",
    "train, val = train_test_split(df_detect_peptide_train, test_size=0.2, random_state=7)"
   ]
  },
  {
   "cell_type": "code",
   "execution_count": 4,
   "metadata": {
    "ExecuteTime": {
     "end_time": "2022-04-26T19:10:27.752064Z",
     "start_time": "2022-04-26T19:10:27.738346Z"
    }
   },
   "outputs": [
    {
     "data": {
      "text/html": [
       "<div>\n",
       "<style scoped>\n",
       "    .dataframe tbody tr th:only-of-type {\n",
       "        vertical-align: middle;\n",
       "    }\n",
       "\n",
       "    .dataframe tbody tr th {\n",
       "        vertical-align: top;\n",
       "    }\n",
       "\n",
       "    .dataframe thead th {\n",
       "        text-align: right;\n",
       "    }\n",
       "</style>\n",
       "<table border=\"1\" class=\"dataframe\">\n",
       "  <thead>\n",
       "    <tr style=\"text-align: right;\">\n",
       "      <th></th>\n",
       "      <th>peptide</th>\n",
       "      <th>En</th>\n",
       "      <th>Ec</th>\n",
       "      <th>E1</th>\n",
       "      <th>E2</th>\n",
       "      <th>protein</th>\n",
       "      <th>PEP</th>\n",
       "      <th>ID</th>\n",
       "    </tr>\n",
       "  </thead>\n",
       "  <tbody>\n",
       "    <tr>\n",
       "      <th>595411</th>\n",
       "      <td>K.QELNEPPKQSTSFLVLQEILESEEKGDPNK.P</td>\n",
       "      <td>VYKMLQEKQELNEPP</td>\n",
       "      <td>EEKGDPNKPSGFRSV</td>\n",
       "      <td>QELNEPPKQSTSFLV</td>\n",
       "      <td>EILESEEKGDPNKPS</td>\n",
       "      <td>sp|O00151|PDLI1_HUMAN</td>\n",
       "      <td>QELNEPPKQSTSFLVLQEILESEEKGDPNK</td>\n",
       "      <td>0</td>\n",
       "    </tr>\n",
       "  </tbody>\n",
       "</table>\n",
       "</div>"
      ],
      "text/plain": [
       "                                   peptide               En               Ec  \\\n",
       "595411  K.QELNEPPKQSTSFLVLQEILESEEKGDPNK.P  VYKMLQEKQELNEPP  EEKGDPNKPSGFRSV   \n",
       "\n",
       "                     E1               E2                protein  \\\n",
       "595411  QELNEPPKQSTSFLV  EILESEEKGDPNKPS  sp|O00151|PDLI1_HUMAN   \n",
       "\n",
       "                                   PEP  ID  \n",
       "595411  QELNEPPKQSTSFLVLQEILESEEKGDPNK   0  "
      ]
     },
     "execution_count": 4,
     "metadata": {},
     "output_type": "execute_result"
    }
   ],
   "source": [
    "train.head(1)"
   ]
  },
  {
   "cell_type": "code",
   "execution_count": 5,
   "metadata": {
    "ExecuteTime": {
     "end_time": "2022-04-26T19:10:27.760865Z",
     "start_time": "2022-04-26T19:10:27.753396Z"
    }
   },
   "outputs": [],
   "source": [
    "def get_data_labelEnc(df):\n",
    "    label_enc = {v:k+1 for k, v in enumerate('ARNDCQEGHILKMFPSTWYV')}\n",
    "    label_enc['Z']=0\n",
    "    aa_data = [np.array([seq.count(a) for a in 'ARNDCQEGHILKMFPSTWYV'] + list(np.array([aa2val[aa] for aa in seq]).sum(axis=0)))\n",
    "               for seq in df.PEP.values]\n",
    "    pep_data = [[label_enc[aa] for aa in seq] + [0]*(30-len(seq))\n",
    "               for seq in df.PEP.values]\n",
    "    en_data = [[label_enc[aa] for aa in seq]\n",
    "               for seq in df.En.values]\n",
    "    ec_data = [[label_enc[aa] for aa in seq]\n",
    "               for seq in df.Ec.values]\n",
    "    e1_data = [[label_enc[aa] for aa in seq]\n",
    "               if seq != '-' else [0 for _ in range(15)]\n",
    "               for seq in df.E1.values]\n",
    "    e2_data = [[label_enc[aa] for aa in seq]\n",
    "               if seq != '-' else [0 for _ in range(15)]\n",
    "               for seq in df.E2.values]\n",
    "    return np.array(aa_data), np.array(pep_data), np.array(en_data), np.array(ec_data), np.array(e1_data), np.array(e2_data), np.array(df.ID.values)"
   ]
  },
  {
   "cell_type": "code",
   "execution_count": 6,
   "metadata": {
    "ExecuteTime": {
     "end_time": "2022-04-26T19:10:28.234410Z",
     "start_time": "2022-04-26T19:10:28.231703Z"
    }
   },
   "outputs": [
    {
     "name": "stdout",
     "output_type": "stream",
     "text": [
      "{'A': 1, 'R': 2, 'N': 3, 'D': 4, 'C': 5, 'Q': 6, 'E': 7, 'G': 8, 'H': 9, 'I': 10, 'L': 11, 'K': 12, 'M': 13, 'F': 14, 'P': 15, 'S': 16, 'T': 17, 'W': 18, 'Y': 19, 'V': 20}\n"
     ]
    }
   ],
   "source": [
    "label_enc = {v:k+1 for k, v in enumerate('ARNDCQEGHILKMFPSTWYV')}\n",
    "print(label_enc)"
   ]
  },
  {
   "cell_type": "code",
   "execution_count": 7,
   "metadata": {
    "ExecuteTime": {
     "end_time": "2022-04-26T19:11:04.983647Z",
     "start_time": "2022-04-26T19:10:30.002844Z"
    }
   },
   "outputs": [
    {
     "name": "stdout",
     "output_type": "stream",
     "text": [
      "(543516, 39) (543516, 30) (543516, 15) (543516, 15) (543516, 15) (543516, 15) (543516,)\n",
      "(135880, 39) (135880, 30) (135880, 15) (135880, 15) (135880, 15) (135880, 15) (135880,)\n",
      "(133992, 39) (133992, 30) (133992, 15) (133992, 15) (133992, 15) (133992, 15) (133992,)\n"
     ]
    }
   ],
   "source": [
    "aa_train, pep_train, en_train, ec_train, e1_train, e2_train, y_train = get_data_labelEnc(train)\n",
    "aa_val, pep_val, en_val, ec_val, e1_val, e2_val, y_val = get_data_labelEnc(val)\n",
    "aa_test, pep_test, en_test, ec_test, e1_test, e2_test, y_test = get_data_labelEnc(test)\n",
    "print(aa_train.shape, pep_train.shape, en_train.shape, ec_train.shape, e1_train.shape, e2_train.shape, y_train.shape)\n",
    "print(aa_val.shape, pep_val.shape, en_val.shape, ec_val.shape, e1_val.shape, e2_val.shape, y_val.shape)\n",
    "print(aa_test.shape, pep_test.shape, en_test.shape, ec_test.shape, e1_test.shape, e2_test.shape, y_test.shape)"
   ]
  },
  {
   "cell_type": "markdown",
   "metadata": {},
   "source": [
    "# Train"
   ]
  },
  {
   "cell_type": "code",
   "execution_count": 8,
   "metadata": {
    "ExecuteTime": {
     "end_time": "2022-04-26T19:11:06.133234Z",
     "start_time": "2022-04-26T19:11:04.985089Z"
    }
   },
   "outputs": [],
   "source": [
    "from tensorflow.python.client import device_lib\n",
    "\n",
    "import tensorflow as tf\n",
    "gpus = tf.config.experimental.list_physical_devices('GPU')\n",
    "if gpus:\n",
    "    try:\n",
    "        tf.config.experimental.set_virtual_device_configuration(gpus[0],\n",
    "        [tf.config.experimental.VirtualDeviceConfiguration(memory_limit=1024*4)])\n",
    "    except RuntimeError as e:\n",
    "        print(e)"
   ]
  },
  {
   "cell_type": "code",
   "execution_count": 9,
   "metadata": {
    "ExecuteTime": {
     "end_time": "2022-04-26T19:11:06.138929Z",
     "start_time": "2022-04-26T19:11:06.134904Z"
    }
   },
   "outputs": [],
   "source": [
    "def plot_graphs(history, metric):\n",
    "    plt.plot(history.history[metric])\n",
    "    plt.plot(history.history['val_'+metric], '')\n",
    "    plt.xlabel(\"Epochs\")\n",
    "    plt.ylabel(metric)\n",
    "    plt.legend([metric, 'val_'+metric])"
   ]
  },
  {
   "cell_type": "markdown",
   "metadata": {},
   "source": [
    "# high param"
   ]
  },
  {
   "cell_type": "code",
   "execution_count": 10,
   "metadata": {
    "ExecuteTime": {
     "end_time": "2022-04-26T19:11:06.176011Z",
     "start_time": "2022-04-26T19:11:06.140103Z"
    }
   },
   "outputs": [],
   "source": [
    "from tensorflow import keras"
   ]
  },
  {
   "cell_type": "code",
   "execution_count": 16,
   "metadata": {
    "ExecuteTime": {
     "end_time": "2022-03-31T11:20:12.152782Z",
     "start_time": "2022-03-31T11:20:05.897584Z"
    },
    "scrolled": true
   },
   "outputs": [
    {
     "name": "stdout",
     "output_type": "stream",
     "text": [
      "Model: \"model_1\"\n",
      "__________________________________________________________________________________________________\n",
      "Layer (type)                    Output Shape         Param #     Connected to                     \n",
      "==================================================================================================\n",
      "input_6 (InputLayer)            [(None, 30)]         0                                            \n",
      "__________________________________________________________________________________________________\n",
      "input_7 (InputLayer)            [(None, 15)]         0                                            \n",
      "__________________________________________________________________________________________________\n",
      "input_8 (InputLayer)            [(None, 15)]         0                                            \n",
      "__________________________________________________________________________________________________\n",
      "input_9 (InputLayer)            [(None, 15)]         0                                            \n",
      "__________________________________________________________________________________________________\n",
      "input_10 (InputLayer)           [(None, 15)]         0                                            \n",
      "__________________________________________________________________________________________________\n",
      "embedding_5 (Embedding)         (None, 30, 32)       672         input_6[0][0]                    \n",
      "__________________________________________________________________________________________________\n",
      "embedding_6 (Embedding)         (None, 15, 16)       336         input_7[0][0]                    \n",
      "__________________________________________________________________________________________________\n",
      "embedding_7 (Embedding)         (None, 15, 16)       336         input_8[0][0]                    \n",
      "__________________________________________________________________________________________________\n",
      "embedding_8 (Embedding)         (None, 15, 16)       336         input_9[0][0]                    \n",
      "__________________________________________________________________________________________________\n",
      "embedding_9 (Embedding)         (None, 15, 16)       336         input_10[0][0]                   \n",
      "__________________________________________________________________________________________________\n",
      "dropout_12 (Dropout)            (None, 30, 32)       0           embedding_5[0][0]                \n",
      "__________________________________________________________________________________________________\n",
      "dropout_13 (Dropout)            (None, 15, 16)       0           embedding_6[0][0]                \n",
      "__________________________________________________________________________________________________\n",
      "dropout_14 (Dropout)            (None, 15, 16)       0           embedding_7[0][0]                \n",
      "__________________________________________________________________________________________________\n",
      "dropout_15 (Dropout)            (None, 15, 16)       0           embedding_8[0][0]                \n",
      "__________________________________________________________________________________________________\n",
      "dropout_16 (Dropout)            (None, 15, 16)       0           embedding_9[0][0]                \n",
      "__________________________________________________________________________________________________\n",
      "bidirectional_9 (Bidirectional) (None, 32)           6272        dropout_12[0][0]                 \n",
      "__________________________________________________________________________________________________\n",
      "bidirectional_5 (Bidirectional) (None, 16)           1600        dropout_13[0][0]                 \n",
      "__________________________________________________________________________________________________\n",
      "bidirectional_6 (Bidirectional) (None, 16)           1600        dropout_14[0][0]                 \n",
      "__________________________________________________________________________________________________\n",
      "bidirectional_7 (Bidirectional) (None, 16)           1600        dropout_15[0][0]                 \n",
      "__________________________________________________________________________________________________\n",
      "bidirectional_8 (Bidirectional) (None, 16)           1600        dropout_16[0][0]                 \n",
      "__________________________________________________________________________________________________\n",
      "dense_12 (Dense)                (None, 16)           528         bidirectional_9[0][0]            \n",
      "__________________________________________________________________________________________________\n",
      "dense_8 (Dense)                 (None, 8)            136         bidirectional_5[0][0]            \n",
      "__________________________________________________________________________________________________\n",
      "dense_9 (Dense)                 (None, 8)            136         bidirectional_6[0][0]            \n",
      "__________________________________________________________________________________________________\n",
      "dense_10 (Dense)                (None, 8)            136         bidirectional_7[0][0]            \n",
      "__________________________________________________________________________________________________\n",
      "dense_11 (Dense)                (None, 8)            136         bidirectional_8[0][0]            \n",
      "__________________________________________________________________________________________________\n",
      "dropout_21 (Dropout)            (None, 16)           0           dense_12[0][0]                   \n",
      "__________________________________________________________________________________________________\n",
      "dropout_17 (Dropout)            (None, 8)            0           dense_8[0][0]                    \n",
      "__________________________________________________________________________________________________\n",
      "dropout_18 (Dropout)            (None, 8)            0           dense_9[0][0]                    \n",
      "__________________________________________________________________________________________________\n",
      "dropout_19 (Dropout)            (None, 8)            0           dense_10[0][0]                   \n",
      "__________________________________________________________________________________________________\n",
      "dropout_20 (Dropout)            (None, 8)            0           dense_11[0][0]                   \n",
      "__________________________________________________________________________________________________\n",
      "concatenate_1 (Concatenate)     (None, 48)           0           dropout_21[0][0]                 \n",
      "                                                                 dropout_17[0][0]                 \n",
      "                                                                 dropout_18[0][0]                 \n",
      "                                                                 dropout_19[0][0]                 \n",
      "                                                                 dropout_20[0][0]                 \n",
      "__________________________________________________________________________________________________\n",
      "dense_13 (Dense)                (None, 64)           3136        concatenate_1[0][0]              \n",
      "__________________________________________________________________________________________________\n",
      "dropout_22 (Dropout)            (None, 64)           0           dense_13[0][0]                   \n",
      "__________________________________________________________________________________________________\n",
      "dense_14 (Dense)                (None, 32)           2080        dropout_22[0][0]                 \n",
      "__________________________________________________________________________________________________\n",
      "dropout_23 (Dropout)            (None, 32)           0           dense_14[0][0]                   \n",
      "__________________________________________________________________________________________________\n",
      "dense_15 (Dense)                (None, 1)            33          dropout_23[0][0]                 \n",
      "==================================================================================================\n",
      "Total params: 21,009\n",
      "Trainable params: 21,009\n",
      "Non-trainable params: 0\n",
      "__________________________________________________________________________________________________\n"
     ]
    }
   ],
   "source": [
    "# Embedding\n",
    "pep = tf.keras.layers.Input(shape=((30,)))\n",
    "pep_embed = tf.keras.layers.Embedding(21, 32, input_length=30, mask_zero=True)(pep)\n",
    "pep_embed = tf.keras.layers.Dropout(np.random.uniform(0, 0.2))(pep_embed)\n",
    "\n",
    "# meta = tf.keras.layers.Input(shape=((39,)))  # peptide info\n",
    "\n",
    "n = tf.keras.layers.Input(shape=((15,)))\n",
    "n_embed = tf.keras.layers.Embedding(21, 16, input_length=15, mask_zero=True)(n)\n",
    "n_embed = tf.keras.layers.Dropout(np.random.uniform(0, 0.2))(n_embed)\n",
    "\n",
    "c = tf.keras.layers.Input(shape=((15,)))\n",
    "c_embed = tf.keras.layers.Embedding(21, 16, input_length=15, mask_zero=True)(c)\n",
    "c_embed = tf.keras.layers.Dropout(np.random.uniform(0, 0.2))(c_embed)\n",
    "\n",
    "m1 = tf.keras.layers.Input(shape=((15,)))\n",
    "m1_embed = tf.keras.layers.Embedding(21, 16, input_length=15, mask_zero=True)(m1)\n",
    "m1_embed = tf.keras.layers.Dropout(np.random.uniform(0, 0.2))(m1_embed)\n",
    "\n",
    "m2 = tf.keras.layers.Input(shape=((15,)))\n",
    "m2_embed = tf.keras.layers.Embedding(21, 16, input_length=15, mask_zero=True)(m2)\n",
    "m2_embed = tf.keras.layers.Dropout(np.random.uniform(0, 0.2))(m2_embed)\n",
    "\n",
    "\n",
    "# LSTM\n",
    "# net_meta = tf.keras.layers.Dense(32, activation='relu')(meta)\n",
    "# net_meta = tf.keras.layers.Dropout(np.random.uniform(0, 0.2))(net_meta)\n",
    "\n",
    "n_lstm = tf.keras.layers.Bidirectional(tf.keras.layers.LSTM(8))(n_embed)\n",
    "n_lstm = tf.keras.layers.Dense(8, activation='relu')(n_lstm)\n",
    "n_lstm = tf.keras.layers.Dropout(np.random.uniform(0, 0.2))(n_lstm)\n",
    "\n",
    "c_lstm = tf.keras.layers.Bidirectional(tf.keras.layers.LSTM(8))(c_embed)\n",
    "c_lstm = tf.keras.layers.Dense(8, activation='relu')(c_lstm)\n",
    "c_lstm = tf.keras.layers.Dropout(np.random.uniform(0, 0.2))(c_lstm)\n",
    "\n",
    "m1_lstm = tf.keras.layers.Bidirectional(tf.keras.layers.LSTM(8))(m1_embed)\n",
    "m1_lstm = tf.keras.layers.Dense(8, activation='relu')(m1_lstm)\n",
    "m1_lstm = tf.keras.layers.Dropout(np.random.uniform(0, 0.2))(m1_lstm)\n",
    "\n",
    "m2_lstm = tf.keras.layers.Bidirectional(tf.keras.layers.LSTM(8))(m2_embed)\n",
    "m2_lstm = tf.keras.layers.Dense(8, activation='relu')(m2_lstm)\n",
    "m2_lstm = tf.keras.layers.Dropout(np.random.uniform(0, 0.2))(m2_lstm)\n",
    "\n",
    "pep_lstm = tf.keras.layers.Bidirectional(tf.keras.layers.LSTM(16))(pep_embed)\n",
    "pep_lstm = tf.keras.layers.Dense(16, activation='relu')(pep_lstm)\n",
    "pep_lstm = tf.keras.layers.Dropout(np.random.uniform(0, 0.2))(pep_lstm)\n",
    "\n",
    "\n",
    "# Dense\n",
    "merge = tf.keras.layers.concatenate([pep_lstm, \n",
    "#                                      net_meta,\n",
    "                                     n_lstm,\n",
    "                                     c_lstm,\n",
    "                                     m1_lstm,\n",
    "                                     m2_lstm])\n",
    "net_merge = tf.keras.layers.Dense(64, activation='relu')(merge)\n",
    "net_merge = tf.keras.layers.Dropout(np.random.uniform(0, 0.2))(net_merge)\n",
    "net_merge = tf.keras.layers.Dense(32, activation='relu')(net_merge)\n",
    "net_merge = tf.keras.layers.Dropout(np.random.uniform(0, 0.2))(net_merge)\n",
    "\n",
    "output = tf.keras.layers.Dense(1, activation = 'sigmoid')(net_merge)\n",
    "\n",
    "model_high = tf.keras.Model(inputs=[pep, \n",
    "#                                     meta,\n",
    "                                    n, c, m1, m2],\n",
    "                            outputs=[output])\n",
    "\n",
    "model_high.summary()\n",
    "\n",
    "model_high.compile(loss=tf.keras.losses.BinaryCrossentropy(from_logits=True),\n",
    "              optimizer=tf.keras.optimizers.Adam(5e-4),\n",
    "              metrics=['accuracy'])\n",
    "\n",
    "es = tf.keras.callbacks.EarlyStopping(monitor='val_loss',\n",
    "                                      mode='min', \n",
    "                                      verbose=1,\n",
    "                                      patience=50)"
   ]
  },
  {
   "cell_type": "code",
   "execution_count": 17,
   "metadata": {
    "ExecuteTime": {
     "end_time": "2022-04-01T07:20:57.343089Z",
     "start_time": "2022-03-31T11:20:12.154215Z"
    },
    "scrolled": true
   },
   "outputs": [
    {
     "name": "stdout",
     "output_type": "stream",
     "text": [
      "Epoch 1/300\n",
      "4247/4247 [==============================] - 410s 91ms/step - loss: 0.5044 - accuracy: 0.7559 - val_loss: 0.4361 - val_accuracy: 0.7965\n",
      "Epoch 2/300\n",
      "4247/4247 [==============================] - 374s 88ms/step - loss: 0.4397 - accuracy: 0.7966 - val_loss: 0.4185 - val_accuracy: 0.8098\n",
      "Epoch 3/300\n",
      "4247/4247 [==============================] - 405s 95ms/step - loss: 0.4235 - accuracy: 0.8069 - val_loss: 0.4127 - val_accuracy: 0.8125\n",
      "Epoch 4/300\n",
      "4247/4247 [==============================] - 411s 97ms/step - loss: 0.4178 - accuracy: 0.8096 - val_loss: 0.4049 - val_accuracy: 0.8174\n",
      "Epoch 5/300\n",
      "4247/4247 [==============================] - 407s 96ms/step - loss: 0.4130 - accuracy: 0.8122 - val_loss: 0.4095 - val_accuracy: 0.8134\n",
      "Epoch 6/300\n",
      "4247/4247 [==============================] - 398s 94ms/step - loss: 0.4103 - accuracy: 0.8141 - val_loss: 0.3997 - val_accuracy: 0.8189\n",
      "Epoch 7/300\n",
      "4247/4247 [==============================] - 397s 93ms/step - loss: 0.4063 - accuracy: 0.8157 - val_loss: 0.3986 - val_accuracy: 0.8203\n",
      "Epoch 8/300\n",
      "4247/4247 [==============================] - 403s 95ms/step - loss: 0.4024 - accuracy: 0.8186 - val_loss: 0.3988 - val_accuracy: 0.8203\n",
      "Epoch 9/300\n",
      "4247/4247 [==============================] - 403s 95ms/step - loss: 0.4029 - accuracy: 0.8178 - val_loss: 0.3939 - val_accuracy: 0.8228\n",
      "Epoch 10/300\n",
      "4247/4247 [==============================] - 408s 96ms/step - loss: 0.4001 - accuracy: 0.8196 - val_loss: 0.3923 - val_accuracy: 0.8239\n",
      "Epoch 11/300\n",
      "4247/4247 [==============================] - 411s 97ms/step - loss: 0.3977 - accuracy: 0.8214 - val_loss: 0.3974 - val_accuracy: 0.8189\n",
      "Epoch 12/300\n",
      "4247/4247 [==============================] - 411s 97ms/step - loss: 0.3956 - accuracy: 0.8213 - val_loss: 0.3899 - val_accuracy: 0.8256\n",
      "Epoch 13/300\n",
      "4247/4247 [==============================] - 410s 96ms/step - loss: 0.3941 - accuracy: 0.8230 - val_loss: 0.3923 - val_accuracy: 0.8238\n",
      "Epoch 14/300\n",
      "4247/4247 [==============================] - 408s 96ms/step - loss: 0.3942 - accuracy: 0.8229 - val_loss: 0.3872 - val_accuracy: 0.8266\n",
      "Epoch 15/300\n",
      "4247/4247 [==============================] - 413s 97ms/step - loss: 0.3946 - accuracy: 0.8232 - val_loss: 0.3862 - val_accuracy: 0.8273\n",
      "Epoch 16/300\n",
      "4247/4247 [==============================] - 404s 95ms/step - loss: 0.3893 - accuracy: 0.8259 - val_loss: 0.3857 - val_accuracy: 0.8273\n",
      "Epoch 17/300\n",
      "4247/4247 [==============================] - 403s 95ms/step - loss: 0.3900 - accuracy: 0.8251 - val_loss: 0.3836 - val_accuracy: 0.8283\n",
      "Epoch 18/300\n",
      "4247/4247 [==============================] - 411s 97ms/step - loss: 0.3885 - accuracy: 0.8262 - val_loss: 0.3861 - val_accuracy: 0.8263\n",
      "Epoch 19/300\n",
      "4247/4247 [==============================] - 405s 95ms/step - loss: 0.3880 - accuracy: 0.8264 - val_loss: 0.3844 - val_accuracy: 0.8282\n",
      "Epoch 20/300\n",
      "4247/4247 [==============================] - 409s 96ms/step - loss: 0.3863 - accuracy: 0.8275 - val_loss: 0.3828 - val_accuracy: 0.8303\n",
      "Epoch 21/300\n",
      "4247/4247 [==============================] - 415s 98ms/step - loss: 0.3851 - accuracy: 0.8279 - val_loss: 0.3846 - val_accuracy: 0.8271\n",
      "Epoch 22/300\n",
      "4247/4247 [==============================] - 410s 96ms/step - loss: 0.3863 - accuracy: 0.8270 - val_loss: 0.3831 - val_accuracy: 0.8294\n",
      "Epoch 23/300\n",
      "4247/4247 [==============================] - 409s 96ms/step - loss: 0.3846 - accuracy: 0.8283 - val_loss: 0.3879 - val_accuracy: 0.8259\n",
      "Epoch 24/300\n",
      "4247/4247 [==============================] - 407s 96ms/step - loss: 0.3835 - accuracy: 0.8287 - val_loss: 0.3809 - val_accuracy: 0.8308\n",
      "Epoch 25/300\n",
      "4247/4247 [==============================] - 399s 94ms/step - loss: 0.3829 - accuracy: 0.8293 - val_loss: 0.3797 - val_accuracy: 0.8308\n",
      "Epoch 26/300\n",
      "4247/4247 [==============================] - 407s 96ms/step - loss: 0.3832 - accuracy: 0.8289 - val_loss: 0.3805 - val_accuracy: 0.8310\n",
      "Epoch 27/300\n",
      "4247/4247 [==============================] - 412s 97ms/step - loss: 0.3832 - accuracy: 0.8292 - val_loss: 0.3833 - val_accuracy: 0.8265\n",
      "Epoch 28/300\n",
      "4247/4247 [==============================] - 409s 96ms/step - loss: 0.3799 - accuracy: 0.8303 - val_loss: 0.3794 - val_accuracy: 0.8317\n",
      "Epoch 29/300\n",
      "4247/4247 [==============================] - 412s 97ms/step - loss: 0.3800 - accuracy: 0.8302 - val_loss: 0.3800 - val_accuracy: 0.8310\n",
      "Epoch 30/300\n",
      "4247/4247 [==============================] - 411s 97ms/step - loss: 0.3792 - accuracy: 0.8307 - val_loss: 0.3796 - val_accuracy: 0.8304\n",
      "Epoch 31/300\n",
      "4247/4247 [==============================] - 413s 97ms/step - loss: 0.3805 - accuracy: 0.8305 - val_loss: 0.3778 - val_accuracy: 0.8319\n",
      "Epoch 32/300\n",
      "4247/4247 [==============================] - 411s 97ms/step - loss: 0.3789 - accuracy: 0.8305 - val_loss: 0.3779 - val_accuracy: 0.8310\n",
      "Epoch 33/300\n",
      "4247/4247 [==============================] - 409s 96ms/step - loss: 0.3786 - accuracy: 0.8310 - val_loss: 0.3777 - val_accuracy: 0.8320\n",
      "Epoch 34/300\n",
      "4247/4247 [==============================] - 411s 97ms/step - loss: 0.3791 - accuracy: 0.8312 - val_loss: 0.3774 - val_accuracy: 0.8320\n",
      "Epoch 35/300\n",
      "4247/4247 [==============================] - 410s 96ms/step - loss: 0.3783 - accuracy: 0.8313 - val_loss: 0.3771 - val_accuracy: 0.8320\n",
      "Epoch 36/300\n",
      "4247/4247 [==============================] - 416s 98ms/step - loss: 0.3771 - accuracy: 0.8322 - val_loss: 0.3775 - val_accuracy: 0.8310\n",
      "Epoch 37/300\n",
      "4247/4247 [==============================] - 412s 97ms/step - loss: 0.3789 - accuracy: 0.8310 - val_loss: 0.3772 - val_accuracy: 0.8315\n",
      "Epoch 38/300\n",
      "4247/4247 [==============================] - 408s 96ms/step - loss: 0.3758 - accuracy: 0.8333 - val_loss: 0.3798 - val_accuracy: 0.8320\n",
      "Epoch 39/300\n",
      "4247/4247 [==============================] - 411s 97ms/step - loss: 0.3766 - accuracy: 0.8324 - val_loss: 0.3775 - val_accuracy: 0.8316\n",
      "Epoch 40/300\n",
      "4247/4247 [==============================] - 411s 97ms/step - loss: 0.3770 - accuracy: 0.8319 - val_loss: 0.3772 - val_accuracy: 0.8319\n",
      "Epoch 41/300\n",
      "4247/4247 [==============================] - 408s 96ms/step - loss: 0.3754 - accuracy: 0.8330 - val_loss: 0.3756 - val_accuracy: 0.8328\n",
      "Epoch 42/300\n",
      "4247/4247 [==============================] - 413s 97ms/step - loss: 0.3762 - accuracy: 0.8326 - val_loss: 0.3816 - val_accuracy: 0.8286\n",
      "Epoch 43/300\n",
      "4247/4247 [==============================] - 411s 97ms/step - loss: 0.3761 - accuracy: 0.8320 - val_loss: 0.3755 - val_accuracy: 0.8332\n",
      "Epoch 44/300\n",
      "4247/4247 [==============================] - 417s 98ms/step - loss: 0.3753 - accuracy: 0.8337 - val_loss: 0.3779 - val_accuracy: 0.8321\n",
      "Epoch 45/300\n",
      "4247/4247 [==============================] - 412s 97ms/step - loss: 0.3749 - accuracy: 0.8330 - val_loss: 0.3758 - val_accuracy: 0.8325\n",
      "Epoch 46/300\n",
      "4247/4247 [==============================] - 414s 98ms/step - loss: 0.3765 - accuracy: 0.8328 - val_loss: 0.3762 - val_accuracy: 0.8319\n",
      "Epoch 47/300\n",
      "4247/4247 [==============================] - 411s 97ms/step - loss: 0.3745 - accuracy: 0.8337 - val_loss: 0.3758 - val_accuracy: 0.8322\n",
      "Epoch 48/300\n",
      "4247/4247 [==============================] - 414s 98ms/step - loss: 0.3730 - accuracy: 0.8346 - val_loss: 0.3741 - val_accuracy: 0.8334\n",
      "Epoch 49/300\n",
      "4247/4247 [==============================] - 411s 97ms/step - loss: 0.3737 - accuracy: 0.8339 - val_loss: 0.3751 - val_accuracy: 0.8331\n",
      "Epoch 50/300\n",
      "4247/4247 [==============================] - 411s 97ms/step - loss: 0.3737 - accuracy: 0.8334 - val_loss: 0.3757 - val_accuracy: 0.8326\n",
      "Epoch 51/300\n",
      "4247/4247 [==============================] - 414s 97ms/step - loss: 0.3727 - accuracy: 0.8348 - val_loss: 0.3766 - val_accuracy: 0.8321\n",
      "Epoch 52/300\n",
      "4247/4247 [==============================] - 415s 98ms/step - loss: 0.3719 - accuracy: 0.8357 - val_loss: 0.3753 - val_accuracy: 0.8324\n",
      "Epoch 53/300\n",
      "4247/4247 [==============================] - 410s 97ms/step - loss: 0.3727 - accuracy: 0.8346 - val_loss: 0.3760 - val_accuracy: 0.8326\n",
      "Epoch 54/300\n",
      "4247/4247 [==============================] - 411s 97ms/step - loss: 0.3717 - accuracy: 0.8350 - val_loss: 0.3752 - val_accuracy: 0.8327\n",
      "Epoch 55/300\n",
      "4247/4247 [==============================] - 411s 97ms/step - loss: 0.3714 - accuracy: 0.8354 - val_loss: 0.3746 - val_accuracy: 0.8331\n",
      "Epoch 56/300\n"
     ]
    },
    {
     "name": "stdout",
     "output_type": "stream",
     "text": [
      "4247/4247 [==============================] - 402s 95ms/step - loss: 0.3708 - accuracy: 0.8353 - val_loss: 0.3744 - val_accuracy: 0.8331\n",
      "Epoch 57/300\n",
      "4247/4247 [==============================] - 416s 98ms/step - loss: 0.3707 - accuracy: 0.8362 - val_loss: 0.3767 - val_accuracy: 0.8322\n",
      "Epoch 58/300\n",
      "4247/4247 [==============================] - 411s 97ms/step - loss: 0.3717 - accuracy: 0.8350 - val_loss: 0.3757 - val_accuracy: 0.8336\n",
      "Epoch 59/300\n",
      "4247/4247 [==============================] - 406s 96ms/step - loss: 0.3711 - accuracy: 0.8348 - val_loss: 0.3750 - val_accuracy: 0.8327\n",
      "Epoch 60/300\n",
      "4247/4247 [==============================] - 401s 94ms/step - loss: 0.3715 - accuracy: 0.8356 - val_loss: 0.3741 - val_accuracy: 0.8332\n",
      "Epoch 61/300\n",
      "4247/4247 [==============================] - 411s 97ms/step - loss: 0.3705 - accuracy: 0.8358 - val_loss: 0.3736 - val_accuracy: 0.8336\n",
      "Epoch 62/300\n",
      "4247/4247 [==============================] - 416s 98ms/step - loss: 0.3694 - accuracy: 0.8365 - val_loss: 0.3741 - val_accuracy: 0.8335\n",
      "Epoch 63/300\n",
      "4247/4247 [==============================] - 418s 98ms/step - loss: 0.3699 - accuracy: 0.8367 - val_loss: 0.3761 - val_accuracy: 0.8327\n",
      "Epoch 64/300\n",
      "4247/4247 [==============================] - 414s 97ms/step - loss: 0.3704 - accuracy: 0.8360 - val_loss: 0.3740 - val_accuracy: 0.8336\n",
      "Epoch 65/300\n",
      "4247/4247 [==============================] - 403s 95ms/step - loss: 0.3691 - accuracy: 0.8362 - val_loss: 0.3748 - val_accuracy: 0.8325\n",
      "Epoch 66/300\n",
      "4247/4247 [==============================] - 408s 96ms/step - loss: 0.3689 - accuracy: 0.8366 - val_loss: 0.3748 - val_accuracy: 0.8331\n",
      "Epoch 67/300\n",
      "4247/4247 [==============================] - 413s 97ms/step - loss: 0.3702 - accuracy: 0.8363 - val_loss: 0.3742 - val_accuracy: 0.8328\n",
      "Epoch 68/300\n",
      "4247/4247 [==============================] - 408s 96ms/step - loss: 0.3686 - accuracy: 0.8369 - val_loss: 0.3736 - val_accuracy: 0.8334\n",
      "Epoch 69/300\n",
      "4247/4247 [==============================] - 415s 98ms/step - loss: 0.3703 - accuracy: 0.8359 - val_loss: 0.3729 - val_accuracy: 0.8340\n",
      "Epoch 70/300\n",
      "4247/4247 [==============================] - 412s 97ms/step - loss: 0.3681 - accuracy: 0.8366 - val_loss: 0.3736 - val_accuracy: 0.8333\n",
      "Epoch 71/300\n",
      "4247/4247 [==============================] - 399s 94ms/step - loss: 0.3704 - accuracy: 0.8359 - val_loss: 0.3741 - val_accuracy: 0.8327\n",
      "Epoch 72/300\n",
      "4247/4247 [==============================] - 412s 97ms/step - loss: 0.3679 - accuracy: 0.8374 - val_loss: 0.3744 - val_accuracy: 0.8331\n",
      "Epoch 73/300\n",
      "4247/4247 [==============================] - 413s 97ms/step - loss: 0.3690 - accuracy: 0.8368 - val_loss: 0.3733 - val_accuracy: 0.8340\n",
      "Epoch 74/300\n",
      "4247/4247 [==============================] - 409s 96ms/step - loss: 0.3690 - accuracy: 0.8361 - val_loss: 0.3770 - val_accuracy: 0.8325\n",
      "Epoch 75/300\n",
      "4247/4247 [==============================] - 411s 97ms/step - loss: 0.3682 - accuracy: 0.8369 - val_loss: 0.3734 - val_accuracy: 0.8338\n",
      "Epoch 76/300\n",
      "4247/4247 [==============================] - 410s 96ms/step - loss: 0.3674 - accuracy: 0.8376 - val_loss: 0.3738 - val_accuracy: 0.8332\n",
      "Epoch 77/300\n",
      "4247/4247 [==============================] - 417s 98ms/step - loss: 0.3684 - accuracy: 0.8369 - val_loss: 0.3734 - val_accuracy: 0.8341\n",
      "Epoch 78/300\n",
      "4247/4247 [==============================] - 405s 95ms/step - loss: 0.3673 - accuracy: 0.8372 - val_loss: 0.3747 - val_accuracy: 0.8332\n",
      "Epoch 79/300\n",
      "4247/4247 [==============================] - 409s 96ms/step - loss: 0.3677 - accuracy: 0.8377 - val_loss: 0.3745 - val_accuracy: 0.8336\n",
      "Epoch 80/300\n",
      "4247/4247 [==============================] - 402s 95ms/step - loss: 0.3672 - accuracy: 0.8380 - val_loss: 0.3735 - val_accuracy: 0.8339\n",
      "Epoch 81/300\n",
      "4247/4247 [==============================] - 417s 98ms/step - loss: 0.3675 - accuracy: 0.8365 - val_loss: 0.3758 - val_accuracy: 0.8322\n",
      "Epoch 82/300\n",
      "4247/4247 [==============================] - 416s 98ms/step - loss: 0.3688 - accuracy: 0.8361 - val_loss: 0.3736 - val_accuracy: 0.8336\n",
      "Epoch 83/300\n",
      "4247/4247 [==============================] - 414s 98ms/step - loss: 0.3677 - accuracy: 0.8371 - val_loss: 0.3741 - val_accuracy: 0.8331\n",
      "Epoch 84/300\n",
      "4247/4247 [==============================] - 417s 98ms/step - loss: 0.3653 - accuracy: 0.8384 - val_loss: 0.3750 - val_accuracy: 0.8333\n",
      "Epoch 85/300\n",
      "4247/4247 [==============================] - 416s 98ms/step - loss: 0.3678 - accuracy: 0.8369 - val_loss: 0.3739 - val_accuracy: 0.8335\n",
      "Epoch 86/300\n",
      "4247/4247 [==============================] - 415s 98ms/step - loss: 0.3658 - accuracy: 0.8384 - val_loss: 0.3744 - val_accuracy: 0.8335\n",
      "Epoch 87/300\n",
      "4247/4247 [==============================] - 416s 98ms/step - loss: 0.3658 - accuracy: 0.8390 - val_loss: 0.3761 - val_accuracy: 0.8327\n",
      "Epoch 88/300\n",
      "4247/4247 [==============================] - 409s 96ms/step - loss: 0.3672 - accuracy: 0.8376 - val_loss: 0.3737 - val_accuracy: 0.8327\n",
      "Epoch 89/300\n",
      "4247/4247 [==============================] - 401s 94ms/step - loss: 0.3675 - accuracy: 0.8374 - val_loss: 0.3739 - val_accuracy: 0.8335\n",
      "Epoch 90/300\n",
      "4247/4247 [==============================] - 415s 98ms/step - loss: 0.3660 - accuracy: 0.8375 - val_loss: 0.3752 - val_accuracy: 0.8326\n",
      "Epoch 91/300\n",
      "4247/4247 [==============================] - 414s 97ms/step - loss: 0.3671 - accuracy: 0.8376 - val_loss: 0.3758 - val_accuracy: 0.8324\n",
      "Epoch 92/300\n",
      "4247/4247 [==============================] - 417s 98ms/step - loss: 0.3654 - accuracy: 0.8376 - val_loss: 0.3734 - val_accuracy: 0.8334\n",
      "Epoch 93/300\n",
      "4247/4247 [==============================] - 411s 97ms/step - loss: 0.3650 - accuracy: 0.8392 - val_loss: 0.3735 - val_accuracy: 0.8334\n",
      "Epoch 94/300\n",
      "4247/4247 [==============================] - 415s 98ms/step - loss: 0.3649 - accuracy: 0.8382 - val_loss: 0.3736 - val_accuracy: 0.8332\n",
      "Epoch 95/300\n",
      "4247/4247 [==============================] - 416s 98ms/step - loss: 0.3652 - accuracy: 0.8386 - val_loss: 0.3731 - val_accuracy: 0.8340\n",
      "Epoch 96/300\n",
      "4247/4247 [==============================] - 412s 97ms/step - loss: 0.3665 - accuracy: 0.8378 - val_loss: 0.3748 - val_accuracy: 0.8321\n",
      "Epoch 97/300\n",
      "4247/4247 [==============================] - 411s 97ms/step - loss: 0.3672 - accuracy: 0.8373 - val_loss: 0.3752 - val_accuracy: 0.8330\n",
      "Epoch 98/300\n",
      "4247/4247 [==============================] - 407s 96ms/step - loss: 0.3650 - accuracy: 0.8387 - val_loss: 0.3729 - val_accuracy: 0.8331\n",
      "Epoch 99/300\n",
      "4247/4247 [==============================] - 409s 96ms/step - loss: 0.3655 - accuracy: 0.8381 - val_loss: 0.3735 - val_accuracy: 0.8337\n",
      "Epoch 100/300\n",
      "4247/4247 [==============================] - 419s 99ms/step - loss: 0.3661 - accuracy: 0.8378 - val_loss: 0.3738 - val_accuracy: 0.8336\n",
      "Epoch 101/300\n",
      "4247/4247 [==============================] - 417s 98ms/step - loss: 0.3643 - accuracy: 0.8391 - val_loss: 0.3727 - val_accuracy: 0.8332\n",
      "Epoch 102/300\n",
      "4247/4247 [==============================] - 413s 97ms/step - loss: 0.3658 - accuracy: 0.8382 - val_loss: 0.3734 - val_accuracy: 0.8334\n",
      "Epoch 103/300\n",
      "4247/4247 [==============================] - 413s 97ms/step - loss: 0.3652 - accuracy: 0.8392 - val_loss: 0.3752 - val_accuracy: 0.8335\n",
      "Epoch 104/300\n",
      "4247/4247 [==============================] - 414s 98ms/step - loss: 0.3648 - accuracy: 0.8396 - val_loss: 0.3753 - val_accuracy: 0.8333\n",
      "Epoch 105/300\n",
      "4247/4247 [==============================] - 415s 98ms/step - loss: 0.3648 - accuracy: 0.8383 - val_loss: 0.3731 - val_accuracy: 0.8344\n",
      "Epoch 106/300\n",
      "4247/4247 [==============================] - 412s 97ms/step - loss: 0.3642 - accuracy: 0.8387 - val_loss: 0.3734 - val_accuracy: 0.8333\n",
      "Epoch 107/300\n",
      "4247/4247 [==============================] - 415s 98ms/step - loss: 0.3640 - accuracy: 0.8393 - val_loss: 0.3767 - val_accuracy: 0.8318\n",
      "Epoch 108/300\n",
      "4247/4247 [==============================] - 418s 98ms/step - loss: 0.3630 - accuracy: 0.8394 - val_loss: 0.3750 - val_accuracy: 0.8326\n",
      "Epoch 109/300\n",
      "4247/4247 [==============================] - 413s 97ms/step - loss: 0.3639 - accuracy: 0.8400 - val_loss: 0.3733 - val_accuracy: 0.8334\n",
      "Epoch 110/300\n",
      "4247/4247 [==============================] - 415s 98ms/step - loss: 0.3631 - accuracy: 0.8393 - val_loss: 0.3755 - val_accuracy: 0.8338\n"
     ]
    },
    {
     "name": "stdout",
     "output_type": "stream",
     "text": [
      "Epoch 111/300\n",
      "4247/4247 [==============================] - 417s 98ms/step - loss: 0.3630 - accuracy: 0.8397 - val_loss: 0.3737 - val_accuracy: 0.8346\n",
      "Epoch 112/300\n",
      "4247/4247 [==============================] - 416s 98ms/step - loss: 0.3640 - accuracy: 0.8392 - val_loss: 0.3739 - val_accuracy: 0.8328\n",
      "Epoch 113/300\n",
      "4247/4247 [==============================] - 416s 98ms/step - loss: 0.3633 - accuracy: 0.8398 - val_loss: 0.3760 - val_accuracy: 0.8326\n",
      "Epoch 114/300\n",
      "4247/4247 [==============================] - 415s 98ms/step - loss: 0.3631 - accuracy: 0.8392 - val_loss: 0.3726 - val_accuracy: 0.8340\n",
      "Epoch 115/300\n",
      "4247/4247 [==============================] - 413s 97ms/step - loss: 0.3634 - accuracy: 0.8398 - val_loss: 0.3731 - val_accuracy: 0.8342\n",
      "Epoch 116/300\n",
      "4247/4247 [==============================] - 414s 98ms/step - loss: 0.3641 - accuracy: 0.8389 - val_loss: 0.3730 - val_accuracy: 0.8341\n",
      "Epoch 117/300\n",
      "4247/4247 [==============================] - 415s 98ms/step - loss: 0.3618 - accuracy: 0.8406 - val_loss: 0.3762 - val_accuracy: 0.8320\n",
      "Epoch 118/300\n",
      "4247/4247 [==============================] - 421s 99ms/step - loss: 0.3621 - accuracy: 0.8398 - val_loss: 0.3736 - val_accuracy: 0.8333\n",
      "Epoch 119/300\n",
      "4247/4247 [==============================] - 415s 98ms/step - loss: 0.3639 - accuracy: 0.8392 - val_loss: 0.3761 - val_accuracy: 0.8331\n",
      "Epoch 120/300\n",
      "4247/4247 [==============================] - 411s 97ms/step - loss: 0.3635 - accuracy: 0.8394 - val_loss: 0.3749 - val_accuracy: 0.8327\n",
      "Epoch 121/300\n",
      "4247/4247 [==============================] - 415s 98ms/step - loss: 0.3627 - accuracy: 0.8396 - val_loss: 0.3737 - val_accuracy: 0.8339\n",
      "Epoch 122/300\n",
      "4247/4247 [==============================] - 416s 98ms/step - loss: 0.3619 - accuracy: 0.8398 - val_loss: 0.3730 - val_accuracy: 0.8339\n",
      "Epoch 123/300\n",
      "4247/4247 [==============================] - 415s 98ms/step - loss: 0.3624 - accuracy: 0.8397 - val_loss: 0.3735 - val_accuracy: 0.8334\n",
      "Epoch 124/300\n",
      "4247/4247 [==============================] - 417s 98ms/step - loss: 0.3636 - accuracy: 0.8395 - val_loss: 0.3725 - val_accuracy: 0.8341\n",
      "Epoch 125/300\n",
      "4247/4247 [==============================] - 415s 98ms/step - loss: 0.3635 - accuracy: 0.8397 - val_loss: 0.3721 - val_accuracy: 0.8342\n",
      "Epoch 126/300\n",
      "4247/4247 [==============================] - 407s 96ms/step - loss: 0.3615 - accuracy: 0.8401 - val_loss: 0.3760 - val_accuracy: 0.8324\n",
      "Epoch 127/300\n",
      "4247/4247 [==============================] - 417s 98ms/step - loss: 0.3636 - accuracy: 0.8394 - val_loss: 0.3735 - val_accuracy: 0.8333\n",
      "Epoch 128/300\n",
      "4247/4247 [==============================] - 415s 98ms/step - loss: 0.3619 - accuracy: 0.8398 - val_loss: 0.3745 - val_accuracy: 0.8324\n",
      "Epoch 129/300\n",
      "4247/4247 [==============================] - 413s 97ms/step - loss: 0.3627 - accuracy: 0.8402 - val_loss: 0.3732 - val_accuracy: 0.8333\n",
      "Epoch 130/300\n",
      "4247/4247 [==============================] - 411s 97ms/step - loss: 0.3616 - accuracy: 0.8407 - val_loss: 0.3750 - val_accuracy: 0.8324\n",
      "Epoch 131/300\n",
      "4247/4247 [==============================] - 417s 98ms/step - loss: 0.3619 - accuracy: 0.8405 - val_loss: 0.3751 - val_accuracy: 0.8328\n",
      "Epoch 132/300\n",
      "4247/4247 [==============================] - 417s 98ms/step - loss: 0.3614 - accuracy: 0.8396 - val_loss: 0.3736 - val_accuracy: 0.8347\n",
      "Epoch 133/300\n",
      "4247/4247 [==============================] - 410s 97ms/step - loss: 0.3632 - accuracy: 0.8398 - val_loss: 0.3736 - val_accuracy: 0.8334\n",
      "Epoch 134/300\n",
      "4247/4247 [==============================] - 415s 98ms/step - loss: 0.3638 - accuracy: 0.8393 - val_loss: 0.3739 - val_accuracy: 0.8337\n",
      "Epoch 135/300\n",
      "4247/4247 [==============================] - 408s 96ms/step - loss: 0.3611 - accuracy: 0.8401 - val_loss: 0.3731 - val_accuracy: 0.8345\n",
      "Epoch 136/300\n",
      "4247/4247 [==============================] - 414s 98ms/step - loss: 0.3624 - accuracy: 0.8400 - val_loss: 0.3741 - val_accuracy: 0.8330\n",
      "Epoch 137/300\n",
      "4247/4247 [==============================] - 411s 97ms/step - loss: 0.3617 - accuracy: 0.8409 - val_loss: 0.3756 - val_accuracy: 0.8319\n",
      "Epoch 138/300\n",
      "4247/4247 [==============================] - 415s 98ms/step - loss: 0.3614 - accuracy: 0.8406 - val_loss: 0.3762 - val_accuracy: 0.8317\n",
      "Epoch 139/300\n",
      "4247/4247 [==============================] - 416s 98ms/step - loss: 0.3615 - accuracy: 0.8399 - val_loss: 0.3744 - val_accuracy: 0.8331\n",
      "Epoch 140/300\n",
      "4247/4247 [==============================] - 413s 97ms/step - loss: 0.3603 - accuracy: 0.8412 - val_loss: 0.3725 - val_accuracy: 0.8344\n",
      "Epoch 141/300\n",
      "4247/4247 [==============================] - 409s 96ms/step - loss: 0.3612 - accuracy: 0.8406 - val_loss: 0.3759 - val_accuracy: 0.8326\n",
      "Epoch 142/300\n",
      "4247/4247 [==============================] - 415s 98ms/step - loss: 0.3617 - accuracy: 0.8403 - val_loss: 0.3757 - val_accuracy: 0.8325\n",
      "Epoch 143/300\n",
      "4247/4247 [==============================] - 415s 98ms/step - loss: 0.3608 - accuracy: 0.8400 - val_loss: 0.3738 - val_accuracy: 0.8334\n",
      "Epoch 144/300\n",
      "4247/4247 [==============================] - 417s 98ms/step - loss: 0.3609 - accuracy: 0.8409 - val_loss: 0.3744 - val_accuracy: 0.8328\n",
      "Epoch 145/300\n",
      "4247/4247 [==============================] - 418s 98ms/step - loss: 0.3620 - accuracy: 0.8401 - val_loss: 0.3731 - val_accuracy: 0.8336\n",
      "Epoch 146/300\n",
      "4247/4247 [==============================] - 418s 98ms/step - loss: 0.3615 - accuracy: 0.8407 - val_loss: 0.3746 - val_accuracy: 0.8333\n",
      "Epoch 147/300\n",
      "4247/4247 [==============================] - 408s 96ms/step - loss: 0.3622 - accuracy: 0.8396 - val_loss: 0.3743 - val_accuracy: 0.8333\n",
      "Epoch 148/300\n",
      "4247/4247 [==============================] - 415s 98ms/step - loss: 0.3607 - accuracy: 0.8403 - val_loss: 0.3747 - val_accuracy: 0.8333\n",
      "Epoch 149/300\n",
      "4247/4247 [==============================] - 412s 97ms/step - loss: 0.3619 - accuracy: 0.8406 - val_loss: 0.3740 - val_accuracy: 0.8337\n",
      "Epoch 150/300\n",
      "4247/4247 [==============================] - 416s 98ms/step - loss: 0.3599 - accuracy: 0.8422 - val_loss: 0.3738 - val_accuracy: 0.8331\n",
      "Epoch 151/300\n",
      "4247/4247 [==============================] - 416s 98ms/step - loss: 0.3604 - accuracy: 0.8410 - val_loss: 0.3729 - val_accuracy: 0.8334\n",
      "Epoch 152/300\n",
      "4247/4247 [==============================] - 415s 98ms/step - loss: 0.3608 - accuracy: 0.8411 - val_loss: 0.3723 - val_accuracy: 0.8339\n",
      "Epoch 153/300\n",
      "4247/4247 [==============================] - 411s 97ms/step - loss: 0.3611 - accuracy: 0.8401 - val_loss: 0.3740 - val_accuracy: 0.8332\n",
      "Epoch 154/300\n",
      "4247/4247 [==============================] - 411s 97ms/step - loss: 0.3613 - accuracy: 0.8407 - val_loss: 0.3734 - val_accuracy: 0.8331\n",
      "Epoch 155/300\n",
      "4247/4247 [==============================] - 413s 97ms/step - loss: 0.3602 - accuracy: 0.8417 - val_loss: 0.3751 - val_accuracy: 0.8331\n",
      "Epoch 156/300\n",
      "4247/4247 [==============================] - 413s 97ms/step - loss: 0.3614 - accuracy: 0.8402 - val_loss: 0.3734 - val_accuracy: 0.8334\n",
      "Epoch 157/300\n",
      "4247/4247 [==============================] - 416s 98ms/step - loss: 0.3589 - accuracy: 0.8414 - val_loss: 0.3748 - val_accuracy: 0.8326\n",
      "Epoch 158/300\n",
      "4247/4247 [==============================] - 415s 98ms/step - loss: 0.3600 - accuracy: 0.8419 - val_loss: 0.3733 - val_accuracy: 0.8329\n",
      "Epoch 159/300\n",
      "4247/4247 [==============================] - 412s 97ms/step - loss: 0.3596 - accuracy: 0.8412 - val_loss: 0.3755 - val_accuracy: 0.8322\n",
      "Epoch 160/300\n",
      "4247/4247 [==============================] - 415s 98ms/step - loss: 0.3615 - accuracy: 0.8408 - val_loss: 0.3748 - val_accuracy: 0.8325\n",
      "Epoch 161/300\n",
      "4247/4247 [==============================] - 414s 97ms/step - loss: 0.3596 - accuracy: 0.8416 - val_loss: 0.3738 - val_accuracy: 0.8334\n",
      "Epoch 162/300\n",
      "4247/4247 [==============================] - 406s 96ms/step - loss: 0.3603 - accuracy: 0.8413 - val_loss: 0.3730 - val_accuracy: 0.8340\n",
      "Epoch 163/300\n",
      "4247/4247 [==============================] - 414s 98ms/step - loss: 0.3604 - accuracy: 0.8403 - val_loss: 0.3725 - val_accuracy: 0.8335\n",
      "Epoch 164/300\n",
      "4247/4247 [==============================] - 417s 98ms/step - loss: 0.3605 - accuracy: 0.8406 - val_loss: 0.3736 - val_accuracy: 0.8339\n",
      "Epoch 165/300\n",
      "4247/4247 [==============================] - 408s 96ms/step - loss: 0.3593 - accuracy: 0.8423 - val_loss: 0.3729 - val_accuracy: 0.8340\n",
      "Epoch 166/300\n",
      "4247/4247 [==============================] - 415s 98ms/step - loss: 0.3587 - accuracy: 0.8416 - val_loss: 0.3754 - val_accuracy: 0.8326\n",
      "Epoch 167/300\n",
      "4247/4247 [==============================] - 410s 97ms/step - loss: 0.3591 - accuracy: 0.8419 - val_loss: 0.3765 - val_accuracy: 0.8314\n",
      "Epoch 168/300\n",
      "4247/4247 [==============================] - 412s 97ms/step - loss: 0.3606 - accuracy: 0.8411 - val_loss: 0.3730 - val_accuracy: 0.8334\n",
      "Epoch 169/300\n",
      "4247/4247 [==============================] - 417s 98ms/step - loss: 0.3607 - accuracy: 0.8410 - val_loss: 0.3733 - val_accuracy: 0.8333\n",
      "Epoch 170/300\n",
      "4247/4247 [==============================] - 416s 98ms/step - loss: 0.3602 - accuracy: 0.8406 - val_loss: 0.3773 - val_accuracy: 0.8319\n",
      "Epoch 171/300\n",
      "4247/4247 [==============================] - 414s 97ms/step - loss: 0.3596 - accuracy: 0.8414 - val_loss: 0.3743 - val_accuracy: 0.8328\n",
      "Epoch 172/300\n",
      "4247/4247 [==============================] - 411s 97ms/step - loss: 0.3601 - accuracy: 0.8411 - val_loss: 0.3726 - val_accuracy: 0.8342\n",
      "Epoch 173/300\n",
      "4247/4247 [==============================] - 414s 98ms/step - loss: 0.3589 - accuracy: 0.8422 - val_loss: 0.3742 - val_accuracy: 0.8327\n",
      "Epoch 174/300\n",
      "4247/4247 [==============================] - 412s 97ms/step - loss: 0.3588 - accuracy: 0.8412 - val_loss: 0.3785 - val_accuracy: 0.8325\n",
      "Epoch 175/300\n",
      "4247/4247 [==============================] - 414s 97ms/step - loss: 0.3592 - accuracy: 0.8418 - val_loss: 0.3733 - val_accuracy: 0.8329\n",
      "Epoch 00175: early stopping\n"
     ]
    }
   ],
   "source": [
    "history = model_high.fit([pep_train, \n",
    "#                           aa_train, \n",
    "                          en_train, ec_train, e1_train, e2_train],\n",
    "                    y_train, \n",
    "                    epochs=300,\n",
    "                    batch_size=128,\n",
    "                    validation_data=([pep_val, \n",
    "#                                       aa_val,\n",
    "                                      en_val, ec_val, e1_val, e2_val], y_val),\n",
    "                    callbacks=[es]\n",
    "                        )"
   ]
  },
  {
   "cell_type": "code",
   "execution_count": 18,
   "metadata": {
    "ExecuteTime": {
     "end_time": "2022-04-01T07:20:57.465419Z",
     "start_time": "2022-04-01T07:20:57.345180Z"
    }
   },
   "outputs": [],
   "source": [
    "plt.figure(figsize=(16,2))\n",
    "plt.subplot(1,2,1)\n",
    "plot_graphs(history, 'accuracy')\n",
    "plt.subplot(1,2,2)\n",
    "plot_graphs(history, 'loss')"
   ]
  },
  {
   "cell_type": "markdown",
   "metadata": {},
   "source": [
    "# eval"
   ]
  },
  {
   "cell_type": "code",
   "execution_count": 19,
   "metadata": {
    "ExecuteTime": {
     "end_time": "2022-04-01T07:24:38.350903Z",
     "start_time": "2022-04-01T07:20:57.466738Z"
    },
    "scrolled": false
   },
   "outputs": [
    {
     "name": "stdout",
     "output_type": "stream",
     "text": [
      "4188/4188 [==============================] - 70s 17ms/step - loss: 0.3664 - accuracy: 0.8383\n",
      "Test Loss: 0.3663899600505829\n",
      "Test Accuracy: 0.8383261561393738\n",
      "              precision    recall  f1-score   support\n",
      "\n",
      "           0       0.86      0.81      0.83     66996\n",
      "           1       0.82      0.87      0.84     66996\n",
      "\n",
      "    accuracy                           0.84    133992\n",
      "   macro avg       0.84      0.84      0.84    133992\n",
      "weighted avg       0.84      0.84      0.84    133992\n",
      "\n",
      "rf auc : 0.9181100971981146\n"
     ]
    },
    {
     "data": {
      "image/png": "[encoded data removed]",
      "text/plain": [
       "<Figure size 1600x200 with 2 Axes>"
      ]
     },
     "metadata": {},
     "output_type": "display_data"
    },
    {
     "data": {
      "image/png": "[encoded data removed]",
      "text/plain": [
       "<Figure size 400x400 with 1 Axes>"
      ]
     },
     "metadata": {},
     "output_type": "display_data"
    },
    {
     "data": {
      "image/png": "[encoded data removed]",
      "text/plain": [
       "<Figure size 300x300 with 2 Axes>"
      ]
     },
     "metadata": {},
     "output_type": "display_data"
    },
    {
     "data": {
      "image/png": "[encoded data removed]",
      "text/plain": [
       "<Figure size 300x300 with 2 Axes>"
      ]
     },
     "metadata": {},
     "output_type": "display_data"
    }
   ],
   "source": [
    "test_loss, test_acc = model_high.evaluate([pep_test, \n",
    "#                                            aa_test, \n",
    "                                           en_test, ec_test, e1_test, e2_test], y_test)\n",
    "print('Test Loss: {}'.format(test_loss))\n",
    "print('Test Accuracy: {}'.format(test_acc))\n",
    "\n",
    "# prediction\n",
    "y_pred = [1 if i>=0.5 else 0 for i in model_high.predict([pep_test, \n",
    "#                                                           aa_test,\n",
    "                                                          en_test, ec_test, e1_test, e2_test])]\n",
    "print(classification_report(y_test, y_pred))\n",
    "# AUC\n",
    "probs = model_high.predict([pep_test, \n",
    "#                             aa_test, \n",
    "                            en_test, ec_test, e1_test, e2_test])\n",
    "rf_auc = roc_auc_score(y_test, probs)\n",
    "print('rf auc : {}'.format(rf_auc))\n",
    "# plot the roc curve for the model_high\n",
    "rf_fpr, rf_tpr, _ = roc_curve(y_test, probs)\n",
    "plt.figure(figsize=(4, 4))\n",
    "plt.plot(rf_fpr, rf_tpr, marker='.', label='RF AUC = {:.4f}'.format(rf_auc), color='orange')\n",
    "plt.title('ROC curve')\n",
    "# axis labels\n",
    "plt.xlabel('False Positive Rate')\n",
    "plt.ylabel('True Positive Rate')\n",
    "# show the legend\n",
    "plt.legend()\n",
    "# show the plot\n",
    "plt.show()\n",
    "\n",
    "cf_matrix = confusion_matrix(y_test, y_pred)\n",
    "plt.figure(figsize=(3, 3))\n",
    "sns.heatmap(cf_matrix, annot=True, fmt=',.0f')\n",
    "plt.show()\n",
    "plt.figure(figsize=(3, 3))\n",
    "sns.heatmap(cf_matrix/np.sum(cf_matrix), annot=True, \n",
    "            fmt='.2%', cmap='Blues')\n",
    "plt.show()"
   ]
  },
  {
   "cell_type": "code",
   "execution_count": 11,
   "metadata": {
    "ExecuteTime": {
     "end_time": "2022-04-26T19:11:14.299806Z",
     "start_time": "2022-04-26T19:11:06.177149Z"
    }
   },
   "outputs": [],
   "source": [
    "# # Calling `save('my_model.h5')` creates a h5 file `my_model.h5`.\n",
    "# model_high.save(\"noAA.h5\")\n",
    "\n",
    "# It can be used to reconstruct the model identically.\n",
    "model_high = keras.models.load_model(\"noAA.h5\")"
   ]
  },
  {
   "cell_type": "markdown",
   "metadata": {},
   "source": [
    "# HPP"
   ]
  },
  {
   "cell_type": "code",
   "execution_count": 12,
   "metadata": {
    "ExecuteTime": {
     "end_time": "2022-04-26T19:15:10.332169Z",
     "start_time": "2022-04-26T19:11:14.301377Z"
    }
   },
   "outputs": [
    {
     "name": "stdout",
     "output_type": "stream",
     "text": [
      "del rows(including U, X amino acid) cnt : 11,806\n",
      "peptide with 1 spectral count (remove this peptide) cnt :  0\n",
      "----ID/nonID cnt----\n",
      " 0    4743073\n",
      "1      47314\n",
      "Name: ID, dtype: int64\n",
      "----final shape----\n",
      " (4790387, 8)\n",
      "(47314, 8)\n",
      "953\n"
     ]
    }
   ],
   "source": [
    "import sys\n",
    "PATH_TO_REPO = \"/home/bis/2021_SJH_detectability/Detectability/\"\n",
    "sys.path.append(PATH_TO_REPO)\n",
    "from utils import *\n",
    "\n",
    "df_hpp = pd.read_csv('compareModel/2019Bioinformatics_DeepMSPeptide/Datasets/HPP_validation_peptides.txt', sep='\\t')\n",
    "df_hpp_under30 = df_hpp.loc[df_hpp.Peptide_seq.apply(lambda x: len(x)<=30 and len(x) >= 7)].reset_index(drop=True)\n",
    "df_uni = pd.read_csv('../data/uniprot/df_uni.csv')\n",
    "\n",
    "pep2cnt = dict()\n",
    "cnt = 2\n",
    "for p in df_hpp_under30.Peptide_seq.values:\n",
    "    if p not in pep2cnt:\n",
    "        pep2cnt[p] = 0\n",
    "    pep2cnt[p] += cnt\n",
    "\n",
    "pep_tree = tree_from_pep(df_hpp_under30.Peptide_seq.unique())\n",
    "\n",
    "def pep_from_prot(df_uni, MISS_CLEAVAGE, thres=4):\n",
    "    peptide = []\n",
    "    TS_AA = 'KR'\n",
    "\n",
    "    for protein, pname in df_uni[['SEQUENCE', 'PROTEIN']].values:\n",
    "        \n",
    "        ts_idx = []  # tryptic site index\n",
    "        for prot_idx, aa in enumerate(protein):\n",
    "            if aa in TS_AA:\n",
    "                ts_idx.append(prot_idx)\n",
    "        for idx in range(len(ts_idx)):\n",
    "            n = MISS_CLEAVAGE\n",
    "            if idx+(n+1) > len(ts_idx)-1:  # peptide making range\n",
    "                break\n",
    "\n",
    "            # protein N term\n",
    "            if (ts_idx[idx]<=(thres - 1)) and (ts_idx[idx] >= len(protein) -1 -(thres - 1)):  # -MNQKLLK- 앞뒤 다 부족한 경우\n",
    "                en = 'Z' * (thres - ts_idx[idx]) + protein[: ts_idx[idx]+(thres + 1)] + 'Z' * (thres - (len(protein)-1 - ts_idx[idx]))\n",
    "            elif ts_idx[idx]<=(thres - 1):\n",
    "                en = 'Z' * (thres - ts_idx[idx]) + protein[: ts_idx[idx]+(thres + 1)]\n",
    "            elif ts_idx[idx] >= len(protein) -1 -(thres - 1):  # for EAQDRRN : 끝이 부족한 경우\n",
    "                en = protein[ts_idx[idx]-thres:] + 'Z' * (thres - (len(protein)-1 - ts_idx[idx]))\n",
    "            else:\n",
    "                en = protein[ts_idx[idx]-thres: ts_idx[idx]+(thres + 1)]\n",
    "\n",
    "            # protein C term\n",
    "            if (ts_idx[idx+n+1] >= len(protein) -1 -(thres - 1)) and (ts_idx[idx+n+1] <= (thres - 1)):\n",
    "                ec = 'Z' * (thres - ts_idx[idx+n+1]) + protein[: ts_idx[idx+n+1]+(thres + 1)]  + 'Z' * (thres - (len(protein)-1 - ts_idx[idx+n+1]))\n",
    "            elif ts_idx[idx+n+1] >= len(protein) -1 -(thres - 1):\n",
    "                ec = protein[ts_idx[idx+n+1] - thres :] + 'Z' * (thres - (len(protein)-1 - ts_idx[idx+n+1]))\n",
    "            elif ts_idx[idx+n+1] <= (thres - 1):  # for -MRRS : 시작이 부족한 경우\n",
    "                ec = 'Z' * (thres - ts_idx[idx+n+1]) + protein[: ts_idx[idx+n+1]+(thres + 1)]\n",
    "            else:\n",
    "                ec = protein[ts_idx[idx+n+1] - thres : ts_idx[idx+n+1] +(thres + 1)]  # n+1번째 tryptic_site\n",
    "                    \n",
    "            # Peptide miss cleavage\n",
    "            if n != 0:  # miss cleavage 고려하는 경우,\n",
    "                ei = []\n",
    "                for i in range(1, n+1):\n",
    "                    if (ts_idx[idx+i] <= (thres - 1)) and (ts_idx[idx+i] >= len(protein) -1 -(thres - 1)):\n",
    "                        # both padding case\n",
    "                        ei_tmp = 'Z' * (thres - ts_idx[idx+i]) + protein + 'Z' * (thres - (len(protein)-1 - ts_idx[idx+i]))\n",
    "                        \n",
    "                    elif ts_idx[idx+i] >= len(protein) -1 -(thres - 1):\n",
    "                        # 'MTTRGFSCLLLLI R EIDLSAKRRI' : ts_idx= 3, 13, 20, 21, 22\n",
    "                        # -> N_term : 3, C_term : 20, m1_term : 13 in miss_cleavage==1 case\n",
    "                        # ts_idx[idx+i]=13, len(protein)-1-(thres-1)=24-1-14=9, if True case.\n",
    "                        # right padding case.\n",
    "                        ei_tmp = protein[ts_idx[idx+i] - thres :] + 'Z' * (thres - (len(protein)-1 - ts_idx[idx+i]))\n",
    "                        \n",
    "                    elif ts_idx[idx+i] <= (thres - 1):\n",
    "                        # left padding case\n",
    "                        ei_tmp = 'Z' * (thres - ts_idx[idx+i]) + protein[: ts_idx[idx+i]+(thres + 1)]\n",
    "                    \n",
    "                    else:\n",
    "                        # no pad case.\n",
    "                        ei_tmp = protein[ts_idx[idx+i] - thres : ts_idx[idx+i] +(thres + 1)]\n",
    "                    ei.append(ei_tmp)\n",
    "            else:  # miss cleavage 고려안하는 경우\n",
    "                ei = []\n",
    "            # peptide\n",
    "            if ts_idx[idx+n+1] == len(protein)-1:  # protein C term = idx + n + 1 의 tryptic_site 가 단백질의 마지막인 경우\n",
    "                pep = protein[ts_idx[idx]] + '.' + protein[ts_idx[idx]+1:ts_idx[idx+n+1]+1] + '.Z'\n",
    "            else:\n",
    "                pep = protein[ts_idx[idx]] + '.' + protein[ts_idx[idx]+1:ts_idx[idx+n+1]+1] + '.' + protein[ts_idx[idx+n+1]+1]\n",
    "\n",
    "            peptide.append({pep:[[en], [ec], ei, pname]})\n",
    "    return peptide\n",
    "\n",
    "def pep_detection_labelling(df_ided_protein=df_uni, pep_tree=pep_tree, pep2cnt=pep2cnt):\n",
    "    peptide0 = pep_from_prot(df_ided_protein, 0, thres=7)\n",
    "    peps = [list(dic.keys())[0] for dic in peptide0]\n",
    "    ens = [list(dic.values())[0][0] for dic in peptide0]\n",
    "    ecs = [list(dic.values())[0][1] for dic in peptide0]\n",
    "    eis = [list(dic.values())[0][2] for dic in peptide0]\n",
    "    pname = [list(dic.values())[0][3] for dic in peptide0]\n",
    "    zero = pd.DataFrame([[p, n[0], c[0], '-', '-', pn] \n",
    "                         for p, n, c, m, pn in zip(peps, ens, ecs, eis, pname)],\n",
    "                columns=['peptide', 'En', 'Ec', 'E1', 'E2', 'protein'])\n",
    "    zero['PEP'] = [i.split('.')[1] for i in zero.peptide.values]\n",
    "\n",
    "    peptide1 = pep_from_prot(df_ided_protein, 1, thres=7)\n",
    "    peps = [list(dic.keys())[0] for dic in peptide1]\n",
    "    ens = [list(dic.values())[0][0] for dic in peptide1]\n",
    "    ecs = [list(dic.values())[0][1] for dic in peptide1]\n",
    "    eis = [list(dic.values())[0][2] for dic in peptide1]\n",
    "    pname = [list(dic.values())[0][3] for dic in peptide1]\n",
    "    one = pd.DataFrame([[p, n[0], c[0], m[0], '-', pn]\n",
    "                        for p, n, c, m, pn in zip(peps, ens, ecs, eis, pname)],\n",
    "                columns=['peptide', 'En', 'Ec', 'E1', 'E2', 'protein'])\n",
    "    one['PEP'] = [i.split('.')[1] for i in one.peptide.values]\n",
    "\n",
    "    peptide2 = pep_from_prot(df_ided_protein, 2, thres=7)\n",
    "    peps = [list(dic.keys())[0] for dic in peptide2]\n",
    "    ens = [list(dic.values())[0][0] for dic in peptide2]\n",
    "    ecs = [list(dic.values())[0][1] for dic in peptide2]\n",
    "    eis = [list(dic.values())[0][2] for dic in peptide2]\n",
    "    pname = [list(dic.values())[0][3] for dic in peptide2]\n",
    "    two = pd.DataFrame([[p, n[0], c[0], m[0], m[1], pn]\n",
    "                        for p, n, c, m, pn in zip(peps, ens, ecs, eis, pname)],\n",
    "                columns=['peptide', 'En', 'Ec', 'E1', 'E2', 'protein'])\n",
    "    two['PEP'] = [i.split('.')[1] for i in two.peptide.values]\n",
    "\n",
    "    zero_filter = zero.loc[zero.PEP.apply(lambda x: (len(x)>=7) and (len(x)<=30))]\n",
    "    one_filter = one.loc[one.PEP.apply(lambda x: (len(x)>=7) and (len(x)<=30))]\n",
    "    two_filter = two.loc[two.PEP.apply(lambda x: (len(x)>=7) and (len(x)<=30))]\n",
    "\n",
    "    df_fully = pd.concat([zero_filter, one_filter, two_filter], axis=0).reset_index(drop=True)\n",
    "\n",
    "    # preprocessing\n",
    "    amino = list(\"ARNDCEQGHILKMFPSTWYVZ\")\n",
    "    check_u = [idx for idx, t in enumerate(df_fully.PEP.values) if 'U' in t]\n",
    "    check_x = [idx for idx, t in enumerate(df_fully.PEP.values) if 'X' in t]\n",
    "    check_n = [idx for idx, t in enumerate(df_fully.En.values) if (sum([1 for a in t if a not in amino]) >= 1) and t !='-']\n",
    "    check_c = [idx for idx, t in enumerate(df_fully.Ec.values) if (sum([1 for a in t if a not in amino]) >= 1) and t !='-']\n",
    "    check_1 = [idx for idx, t in enumerate(df_fully.E1.values) if (sum([1 for a in t if a not in amino]) >= 1) and t !='-']\n",
    "    check_2 = [idx for idx, t in enumerate(df_fully.E2.values) if (sum([1 for a in t if a not in amino]) >= 1) and t !='-']\n",
    "    check = list(set(check_n).union(set(check_c)).union(set(check_1)).union(set(check_2)).union(set(check_u)).union(set(check_x)))\n",
    "    print('del rows(including U, X amino acid) cnt : {:,}'.format(len(check)))\n",
    "    df_fully = df_fully.drop(check).reset_index(drop=True)\n",
    "\n",
    "    ided = []\n",
    "    for fully_pep in df_fully.PEP.values:\n",
    "        results = [i for i in pep_tree.search_all(fully_pep)]\n",
    "        if len(results) != 0:\n",
    "            result_pep = [_[0] for _ in results]\n",
    "            if fully_pep in result_pep:  # 정확히 똑같은 pep 있는 경우\n",
    "                if pep2cnt[fully_pep] > 1:\n",
    "                    ided.append(1)\n",
    "                else:\n",
    "                    ided.append(-1)  # SC1인 경우는 제거하자\n",
    "            else:\n",
    "                ided.append(0)\n",
    "        else:\n",
    "            ided.append(0)\n",
    "    df_fully['ID'] = ided\n",
    "\n",
    "    drop_idx = df_fully.loc[df_fully.ID==-1].index\n",
    "    print('peptide with 1 spectral count (remove this peptide) cnt : ', len(drop_idx))\n",
    "    df_fully = df_fully.drop(drop_idx).reset_index(drop=True)\n",
    "\n",
    "    drop_idx = np.where(df_fully.duplicated()==True)[0]\n",
    "    df_fully = df_fully.drop(drop_idx).reset_index(drop=True)\n",
    "\n",
    "    print('----ID/nonID cnt----\\n', df_fully.ID.value_counts())  # massIVE-KB : half is semi_non_tryptic, half is fully_tryptic\n",
    "    print('----final shape----\\n', df_fully.shape)\n",
    "    df_fully.head(1)\n",
    "    return df_fully\n",
    "\n",
    "df_hpp_ = pep_detection_labelling()\n",
    "\n",
    "df_hpp_ = df_hpp_.loc[df_hpp_.ID==1]\n",
    "\n",
    "print(df_hpp_.shape)\n",
    "df_hpp_.head(2)\n",
    "\n",
    "unip = set(df_hpp_.PEP.unique())\n",
    "hppp = set(df_hpp_under30.Peptide_seq.unique())\n",
    "nonp = hppp.difference(unip)\n",
    "\n",
    "print(len(hppp)-len(unip))"
   ]
  },
  {
   "cell_type": "code",
   "execution_count": 13,
   "metadata": {
    "ExecuteTime": {
     "end_time": "2022-04-26T19:15:10.432849Z",
     "start_time": "2022-04-26T19:15:10.334208Z"
    }
   },
   "outputs": [
    {
     "name": "stdout",
     "output_type": "stream",
     "text": [
      "total hpp dataset cnt : 23910\n",
      " 7<= <=30 filtration cnt : 3046\n",
      " semi trpytic cnt : 953\n",
      "remain HPP peptides cnt :  19911\n",
      "(21522, 8)\n"
     ]
    }
   ],
   "source": [
    "print('total hpp dataset cnt : {}\\n \\\n",
    "7<= <=30 filtration cnt : {}\\n \\\n",
    "semi trpytic cnt : {}'.format(len(df_hpp), len(df_hpp)-len(df_hpp_under30), len(hppp)-len(unip)))\n",
    "\n",
    "print('remain HPP peptides cnt : ', len(unip))\n",
    "\n",
    "df_hpp_uniq = df_hpp_[['peptide', 'En', 'Ec', 'E1', 'E2', 'PEP', 'ID']].drop_duplicates().reset_index(drop=True)\n",
    "df_hpp_uniq = df_hpp_uniq.merge(df_hpp, left_on='PEP', right_on='Peptide_seq', how='inner').drop(['Peptide_seq'], axis=1)\n",
    "\n",
    "print(df_hpp_uniq.shape)"
   ]
  },
  {
   "cell_type": "code",
   "execution_count": 14,
   "metadata": {
    "ExecuteTime": {
     "end_time": "2022-04-26T19:15:11.270276Z",
     "start_time": "2022-04-26T19:15:10.434374Z"
    }
   },
   "outputs": [
    {
     "name": "stdout",
     "output_type": "stream",
     "text": [
      "(21522, 39) (21522, 30) (21522, 15) (21522, 15) (21522, 15) (21522, 15) (21522,)\n"
     ]
    }
   ],
   "source": [
    "aa, pep, en, ec, e1, e2, y = get_data_labelEnc(df_hpp_uniq)\n",
    "print(aa.shape, pep.shape, en.shape, ec.shape, e1.shape, e2.shape, y.shape)"
   ]
  },
  {
   "cell_type": "code",
   "execution_count": 15,
   "metadata": {
    "ExecuteTime": {
     "end_time": "2022-04-26T19:15:31.780419Z",
     "start_time": "2022-04-26T19:15:11.271606Z"
    }
   },
   "outputs": [],
   "source": [
    "probs = model_high.predict([pep, en, ec, e1, e2])"
   ]
  },
  {
   "cell_type": "code",
   "execution_count": 16,
   "metadata": {
    "ExecuteTime": {
     "end_time": "2022-04-26T19:15:31.784556Z",
     "start_time": "2022-04-26T19:15:31.781863Z"
    }
   },
   "outputs": [],
   "source": [
    "df_hpp_uniq['probs'] = probs"
   ]
  },
  {
   "cell_type": "code",
   "execution_count": 17,
   "metadata": {
    "ExecuteTime": {
     "end_time": "2022-04-26T19:15:31.834540Z",
     "start_time": "2022-04-26T19:15:31.785713Z"
    }
   },
   "outputs": [],
   "source": [
    "dmp = df_hpp_uniq.loc[df_hpp_uniq.Class=='Detected_MPs']\n",
    "mp = df_hpp_uniq.loc[df_hpp_uniq.Class=='MPs']\n",
    "pe = df_hpp_uniq.loc[df_hpp_uniq.Class=='PE1']"
   ]
  },
  {
   "cell_type": "code",
   "execution_count": 18,
   "metadata": {
    "ExecuteTime": {
     "end_time": "2022-04-26T19:15:31.838604Z",
     "start_time": "2022-04-26T19:15:31.835676Z"
    }
   },
   "outputs": [
    {
     "name": "stderr",
     "output_type": "stream",
     "text": [
      "/home/bis/miniconda3/envs/TF2.4/lib/python3.7/site-packages/ipykernel_launcher.py:1: SettingWithCopyWarning: \n",
      "A value is trying to be set on a copy of a slice from a DataFrame.\n",
      "Try using .loc[row_indexer,col_indexer] = value instead\n",
      "\n",
      "See the caveats in the documentation: https://pandas.pydata.org/pandas-docs/stable/user_guide/indexing.html#returning-a-view-versus-a-copy\n",
      "  \"\"\"Entry point for launching an IPython kernel.\n",
      "/home/bis/miniconda3/envs/TF2.4/lib/python3.7/site-packages/ipykernel_launcher.py:2: SettingWithCopyWarning: \n",
      "A value is trying to be set on a copy of a slice from a DataFrame.\n",
      "Try using .loc[row_indexer,col_indexer] = value instead\n",
      "\n",
      "See the caveats in the documentation: https://pandas.pydata.org/pandas-docs/stable/user_guide/indexing.html#returning-a-view-versus-a-copy\n",
      "  \n"
     ]
    }
   ],
   "source": [
    "dmp['Class'] = 'Detected MPs'\n",
    "mp['Class'] = 'Current MPs'"
   ]
  },
  {
   "cell_type": "code",
   "execution_count": 19,
   "metadata": {
    "ExecuteTime": {
     "end_time": "2022-04-26T19:15:31.853181Z",
     "start_time": "2022-04-26T19:15:31.840273Z"
    }
   },
   "outputs": [],
   "source": [
    "df_hpp_uniq_ = pd.concat([dmp, mp, pe], axis=0).reset_index(drop=True)"
   ]
  },
  {
   "cell_type": "code",
   "execution_count": 20,
   "metadata": {
    "ExecuteTime": {
     "end_time": "2022-04-26T19:15:31.862196Z",
     "start_time": "2022-04-26T19:15:31.854448Z"
    }
   },
   "outputs": [],
   "source": [
    "df_sns = df_hpp_uniq_[['Class', 'probs']]"
   ]
  },
  {
   "cell_type": "code",
   "execution_count": 21,
   "metadata": {
    "ExecuteTime": {
     "end_time": "2022-04-26T19:15:31.865314Z",
     "start_time": "2022-04-26T19:15:31.863352Z"
    }
   },
   "outputs": [],
   "source": [
    "df_sns.columns = ['_', 'Detection probability']"
   ]
  },
  {
   "cell_type": "code",
   "execution_count": 22,
   "metadata": {
    "ExecuteTime": {
     "end_time": "2022-04-26T19:15:31.875692Z",
     "start_time": "2022-04-26T19:15:31.866474Z"
    }
   },
   "outputs": [
    {
     "data": {
      "text/html": [
       "<div>\n",
       "<style scoped>\n",
       "    .dataframe tbody tr th:only-of-type {\n",
       "        vertical-align: middle;\n",
       "    }\n",
       "\n",
       "    .dataframe tbody tr th {\n",
       "        vertical-align: top;\n",
       "    }\n",
       "\n",
       "    .dataframe thead th {\n",
       "        text-align: right;\n",
       "    }\n",
       "</style>\n",
       "<table border=\"1\" class=\"dataframe\">\n",
       "  <thead>\n",
       "    <tr style=\"text-align: right;\">\n",
       "      <th></th>\n",
       "      <th>_</th>\n",
       "      <th>Detection probability</th>\n",
       "    </tr>\n",
       "  </thead>\n",
       "  <tbody>\n",
       "    <tr>\n",
       "      <th>0</th>\n",
       "      <td>Detected MPs</td>\n",
       "      <td>0.932916</td>\n",
       "    </tr>\n",
       "    <tr>\n",
       "      <th>1</th>\n",
       "      <td>Detected MPs</td>\n",
       "      <td>0.849749</td>\n",
       "    </tr>\n",
       "  </tbody>\n",
       "</table>\n",
       "</div>"
      ],
      "text/plain": [
       "              _  Detection probability\n",
       "0  Detected MPs               0.932916\n",
       "1  Detected MPs               0.849749"
      ]
     },
     "execution_count": 22,
     "metadata": {},
     "output_type": "execute_result"
    }
   ],
   "source": [
    "df_sns.head(2)"
   ]
  },
  {
   "cell_type": "code",
   "execution_count": 23,
   "metadata": {
    "ExecuteTime": {
     "end_time": "2022-04-26T19:15:32.091387Z",
     "start_time": "2022-04-26T19:15:31.876785Z"
    }
   },
   "outputs": [
    {
     "data": {
      "image/png": "[encoded data removed]",
      "text/plain": [
       "<Figure size 640x480 with 1 Axes>"
      ]
     },
     "metadata": {},
     "output_type": "display_data"
    }
   ],
   "source": [
    "plt.title('DBDB-Deep')\n",
    "\n",
    "sns.violinplot(data=df_sns, x='_', y='Detection probability', order=['PE1', 'Detected MPs', 'Current MPs'])\n",
    "plt.ylim(0, 1.0)\n",
    "plt.show()"
   ]
  },
  {
   "cell_type": "code",
   "execution_count": 31,
   "metadata": {
    "ExecuteTime": {
     "end_time": "2022-04-26T19:30:47.107820Z",
     "start_time": "2022-04-26T19:30:46.996406Z"
    }
   },
   "outputs": [
    {
     "data": {
      "image/png": "[encoded data removed]",
      "text/plain": [
       "<Figure size 500x300 with 1 Axes>"
      ]
     },
     "metadata": {},
     "output_type": "display_data"
    }
   ],
   "source": [
    "plt.figure(figsize=(5,3))\n",
    "# plt.title('DBDB-Deep')\n",
    "# plt.ylabel('Detection probability')\n",
    "\n",
    "a = plt.violinplot([pe.probs, dmp.probs, mp.probs],\n",
    "               showmeans=True,\n",
    "#                    alpha=0.2\n",
    "              )\n",
    "# plt.ylim(0, 1.0)\n",
    "plt.xticks([y + 1 for y in range(len([pe,dmp,mp]))], ['PE1', 'Detected MPs', 'Current MPs'])\n",
    "b = plt.grid(axis='y')\n",
    "# plt.setp(a, alpha=0.2)\n",
    "plt.show()"
   ]
  },
  {
   "cell_type": "code",
   "execution_count": null,
   "metadata": {},
   "outputs": [],
   "source": []
  },
  {
   "cell_type": "code",
   "execution_count": 36,
   "metadata": {
    "ExecuteTime": {
     "end_time": "2022-05-05T12:47:52.939786Z",
     "start_time": "2022-05-05T12:47:52.872860Z"
    }
   },
   "outputs": [
    {
     "ename": "NameError",
     "evalue": "name 'history' is not defined",
     "output_type": "error",
     "traceback": [
      "\u001b[0;31m---------------------------------------------------------------------------\u001b[0m",
      "\u001b[0;31mNameError\u001b[0m                                 Traceback (most recent call last)",
      "\u001b[0;32m<ipython-input-36-897d539db152>\u001b[0m in \u001b[0;36m<module>\u001b[0;34m\u001b[0m\n\u001b[1;32m      1\u001b[0m \u001b[0mplt\u001b[0m\u001b[0;34m.\u001b[0m\u001b[0mfigure\u001b[0m\u001b[0;34m(\u001b[0m\u001b[0mfigsize\u001b[0m\u001b[0;34m=\u001b[0m\u001b[0;34m(\u001b[0m\u001b[0;36m16\u001b[0m\u001b[0;34m,\u001b[0m\u001b[0;36m2\u001b[0m\u001b[0;34m)\u001b[0m\u001b[0;34m)\u001b[0m\u001b[0;34m\u001b[0m\u001b[0m\n\u001b[1;32m      2\u001b[0m \u001b[0mplt\u001b[0m\u001b[0;34m.\u001b[0m\u001b[0msubplot\u001b[0m\u001b[0;34m(\u001b[0m\u001b[0;36m1\u001b[0m\u001b[0;34m,\u001b[0m\u001b[0;36m2\u001b[0m\u001b[0;34m,\u001b[0m\u001b[0;36m1\u001b[0m\u001b[0;34m)\u001b[0m\u001b[0;34m\u001b[0m\u001b[0m\n\u001b[0;32m----> 3\u001b[0;31m \u001b[0mplot_graphs\u001b[0m\u001b[0;34m(\u001b[0m\u001b[0mhistory\u001b[0m\u001b[0;34m,\u001b[0m \u001b[0;34m'accuracy'\u001b[0m\u001b[0;34m)\u001b[0m\u001b[0;34m\u001b[0m\u001b[0m\n\u001b[0m\u001b[1;32m      4\u001b[0m \u001b[0mplt\u001b[0m\u001b[0;34m.\u001b[0m\u001b[0msubplot\u001b[0m\u001b[0;34m(\u001b[0m\u001b[0;36m1\u001b[0m\u001b[0;34m,\u001b[0m\u001b[0;36m2\u001b[0m\u001b[0;34m,\u001b[0m\u001b[0;36m2\u001b[0m\u001b[0;34m)\u001b[0m\u001b[0;34m\u001b[0m\u001b[0m\n\u001b[1;32m      5\u001b[0m \u001b[0mplot_graphs\u001b[0m\u001b[0;34m(\u001b[0m\u001b[0mhistory\u001b[0m\u001b[0;34m,\u001b[0m \u001b[0;34m'loss'\u001b[0m\u001b[0;34m)\u001b[0m\u001b[0;34m\u001b[0m\u001b[0m\n",
      "\u001b[0;31mNameError\u001b[0m: name 'history' is not defined"
     ]
    }
   ],
   "source": [
    "plt.figure(figsize=(16,2))\n",
    "plt.subplot(1,2,1)\n",
    "plot_graphs(history, 'accuracy')\n",
    "plt.subplot(1,2,2)\n",
    "plot_graphs(history, 'loss')\n",
    "plt.show()"
   ]
  }
 ],
 "metadata": {
  "kernelspec": {
   "display_name": "TF2.4",
   "language": "python",
   "name": "tf2.4"
  },
  "language_info": {
   "codemirror_mode": {
    "name": "ipython",
    "version": 3
   },
   "file_extension": ".py",
   "mimetype": "text/x-python",
   "name": "python",
   "nbconvert_exporter": "python",
   "pygments_lexer": "ipython3",
   "version": "3.7.0"
  }
 },
 "nbformat": 4,
 "nbformat_minor": 4
}
