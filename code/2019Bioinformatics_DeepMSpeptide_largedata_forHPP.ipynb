{
 "cells": [
  {
   "cell_type": "code",
   "execution_count": 1,
   "metadata": {
    "ExecuteTime": {
     "end_time": "2022-01-23T18:57:16.097303Z",
     "start_time": "2022-01-23T18:57:14.218153Z"
    }
   },
   "outputs": [],
   "source": [
    "import warnings\n",
    "warnings.simplefilter(action='ignore', category=FutureWarning)\n",
    "\n",
    "import argparse\n",
    "import numpy as np\n",
    "import tensorflow as tf\n",
    "from tensorflow import keras"
   ]
  },
  {
   "cell_type": "code",
   "execution_count": 2,
   "metadata": {
    "ExecuteTime": {
     "end_time": "2022-01-23T18:57:16.796812Z",
     "start_time": "2022-01-23T18:57:16.099003Z"
    }
   },
   "outputs": [],
   "source": [
    "from sklearn.metrics import classification_report\n",
    "from sklearn.metrics import confusion_matrix\n",
    "from sklearn.metrics import roc_curve\n",
    "from sklearn.metrics import roc_auc_score\n",
    "import seaborn as sns"
   ]
  },
  {
   "cell_type": "code",
   "execution_count": 3,
   "metadata": {
    "ExecuteTime": {
     "end_time": "2022-01-23T18:57:16.807310Z",
     "start_time": "2022-01-23T18:57:16.798604Z"
    }
   },
   "outputs": [],
   "source": [
    "import matplotlib.pyplot as plt\n",
    "import pandas as pd\n",
    "from sklearn.model_selection import train_test_split"
   ]
  },
  {
   "cell_type": "code",
   "execution_count": 4,
   "metadata": {
    "ExecuteTime": {
     "end_time": "2022-01-23T18:57:16.810895Z",
     "start_time": "2022-01-23T18:57:16.808740Z"
    }
   },
   "outputs": [],
   "source": [
    "import tensorflow as tf"
   ]
  },
  {
   "cell_type": "code",
   "execution_count": 5,
   "metadata": {
    "ExecuteTime": {
     "end_time": "2022-01-23T18:57:16.822264Z",
     "start_time": "2022-01-23T18:57:16.812176Z"
    }
   },
   "outputs": [],
   "source": [
    "tf.enable_eager_execution()"
   ]
  },
  {
   "cell_type": "code",
   "execution_count": 6,
   "metadata": {
    "ExecuteTime": {
     "end_time": "2022-01-23T18:57:20.259702Z",
     "start_time": "2022-01-23T18:57:20.251526Z"
    }
   },
   "outputs": [],
   "source": [
    "def load_pep_and_codify(file, max_len):\n",
    "    aa_dict={'A':1,'R':2,'N':3,'D':4,'C':5,'Q':6,'E':7,'G':8,'H':9,'I':10,'L':11,'K':12,'M':13,'F':14,\n",
    "        'P':15,'O':16,'S':17,'U':18,'T':19,'W':20,'Y':21,'V':22}\n",
    "    with open(file, 'r') as inf:\n",
    "        lines = inf.read().splitlines()\n",
    "    pep_codes=[]\n",
    "    long_pep_counter = 0\n",
    "    newLines = []\n",
    "    for pep in lines:\n",
    "        if not len(pep) > max_len:\n",
    "            current_pep=[]\n",
    "            for aa in pep:\n",
    "                current_pep.append(aa_dict[aa])\n",
    "            pep_codes.append(current_pep)\n",
    "            newLines.extend([pep])\n",
    "        else:\n",
    "            long_pep_counter += 1\n",
    "    predict_data = keras.preprocessing.sequence.pad_sequences(pep_codes, value=0, padding='post', maxlen=max_len)\n",
    "    return predict_data, long_pep_counter, newLines"
   ]
  },
  {
   "cell_type": "markdown",
   "metadata": {},
   "source": [
    "# 1. Make Data X_train, y_train, X_test, y_test"
   ]
  },
  {
   "cell_type": "code",
   "execution_count": 7,
   "metadata": {
    "ExecuteTime": {
     "end_time": "2022-01-23T18:57:22.046059Z",
     "start_time": "2022-01-23T18:57:22.043678Z"
    }
   },
   "outputs": [],
   "source": [
    "file_path = 'compareModel/2019Bioinformatics_DeepMSPeptide/DeepMSPeptide/'"
   ]
  },
  {
   "cell_type": "code",
   "execution_count": 8,
   "metadata": {
    "ExecuteTime": {
     "end_time": "2022-01-23T18:59:31.617178Z",
     "start_time": "2022-01-23T18:59:21.413363Z"
    }
   },
   "outputs": [
    {
     "name": "stdout",
     "output_type": "stream",
     "text": [
      "Loading input peptides\n",
      "Succesfully loaded 668927 peptides and skipped 0\n",
      "Loading input peptides\n",
      "Succesfully loaded 133992 peptides and skipped 0\n",
      "(535141, 81) (133786, 81) (133992, 81) (535141,) (133786,) (133992,)\n"
     ]
    }
   ],
   "source": [
    "# make DeepMSpeptide format\n",
    "tra = pd.read_csv('compareModel/2021MDPI_CapsNet/train.csv')\n",
    "val = pd.read_csv('compareModel/2021MDPI_CapsNet/val.csv')\n",
    "df_peptide_train = pd.concat([tra, val], axis=0).reset_index(drop=True)\n",
    "df_peptide_test = pd.read_csv('compareModel/2021MDPI_CapsNet/test.csv')\n",
    "\n",
    "inp = open(file_path+'detect_peptide_train_hpp.txt', 'w')\n",
    "inp_y = open(file_path+'detect_peptide_train_y_hpp.txt', 'w')\n",
    "for x, y in df_peptide_train[['PEP', 'ID']].values:\n",
    "    inp.write(x+'\\n')\n",
    "    inp_y.write(str(y)+'\\n')\n",
    "inp.close()\n",
    "inp_y.close()\n",
    "\n",
    "inp = open(file_path+'detect_peptide_test_hpp.txt', 'w')\n",
    "inp_y = open(file_path+'detect_peptide_test_y_hpp.txt', 'w')\n",
    "for x, y in df_peptide_test[['PEP', 'ID']].values:\n",
    "    inp.write(x+'\\n')\n",
    "    inp_y.write(str(y)+'\\n')\n",
    "inp.close()\n",
    "inp_y.close()\n",
    "\n",
    "args = file_path + 'detect_peptide_train_hpp.txt'\n",
    "print('Loading input peptides')\n",
    "X_train, skipped, lines = load_pep_and_codify(args, 81)\n",
    "tmp = open(file_path+'detect_peptide_train_y_hpp.txt')\n",
    "y_train = np.array([int(_.replace('\\n', '')) for _ in tmp.readlines()])\n",
    "tmp.close()\n",
    "print('Succesfully loaded {0} peptides and skipped {1}'.format(len(lines), str(skipped)))\n",
    "\n",
    "args = file_path + 'detect_peptide_test_hpp.txt'\n",
    "print('Loading input peptides')\n",
    "X_test, skipped, lines = load_pep_and_codify(args, 81)\n",
    "tmp = open(file_path+'detect_peptide_test_y_hpp.txt')\n",
    "y_test = np.array([int(_.replace('\\n', '')) for _ in tmp.readlines()])\n",
    "tmp.close()\n",
    "print('Succesfully loaded {0} peptides and skipped {1}'.format(len(lines), str(skipped)))\n",
    "\n",
    "X_train, X_val, y_train, y_val = train_test_split(X_train, y_train, test_size=0.2)\n",
    "print(X_train.shape, X_val.shape, X_test.shape, y_train.shape, y_val.shape, y_test.shape)"
   ]
  },
  {
   "cell_type": "markdown",
   "metadata": {},
   "source": [
    "# 2. train"
   ]
  },
  {
   "cell_type": "code",
   "execution_count": 9,
   "metadata": {
    "ExecuteTime": {
     "end_time": "2022-01-23T18:59:43.662018Z",
     "start_time": "2022-01-23T18:59:43.657947Z"
    }
   },
   "outputs": [],
   "source": [
    "def plot_graphs(history, metric):\n",
    "    plt.plot(history.history[metric])\n",
    "    plt.plot(history.history['val_'+metric], '')\n",
    "    plt.xlabel(\"Epochs\")\n",
    "    plt.ylabel(metric)\n",
    "    plt.legend([metric, 'val_'+metric])"
   ]
  },
  {
   "cell_type": "code",
   "execution_count": 10,
   "metadata": {
    "ExecuteTime": {
     "end_time": "2022-01-23T18:59:49.129082Z",
     "start_time": "2022-01-23T18:59:48.158973Z"
    }
   },
   "outputs": [
    {
     "name": "stdout",
     "output_type": "stream",
     "text": [
      "Loading model...\n",
      "WARNING:tensorflow:From /home/bis/miniconda3/envs/TF1.14/lib/python3.6/site-packages/tensorflow/python/ops/math_grad.py:1250: add_dispatch_support.<locals>.wrapper (from tensorflow.python.ops.array_ops) is deprecated and will be removed in a future version.\n",
      "Instructions for updating:\n",
      "Use tf.where in 2.0, which has the same broadcast rule as np.where\n",
      "WARNING:tensorflow:Error in loading the saved optimizer state. As a result, your model is starting with a freshly initialized optimizer.\n",
      "Model: \"sequential_1\"\n",
      "_________________________________________________________________\n",
      "Layer (type)                 Output Shape              Param #   \n",
      "=================================================================\n",
      "embedding_1 (Embedding)      (None, 81, 50)            1150      \n",
      "_________________________________________________________________\n",
      "dropout_2 (Dropout)          (None, 81, 50)            0         \n",
      "_________________________________________________________________\n",
      "conv1d_1 (Conv1D)            (None, 81, 128)           19328     \n",
      "_________________________________________________________________\n",
      "conv1d_2 (Conv1D)            (None, 80, 64)            16448     \n",
      "_________________________________________________________________\n",
      "global_max_pooling1d_1 (Glob (None, 64)                0         \n",
      "_________________________________________________________________\n",
      "dense_2 (Dense)              (None, 64)                4160      \n",
      "_________________________________________________________________\n",
      "dropout_3 (Dropout)          (None, 64)                0         \n",
      "_________________________________________________________________\n",
      "activation_2 (Activation)    (None, 64)                0         \n",
      "_________________________________________________________________\n",
      "dense_3 (Dense)              (None, 1)                 65        \n",
      "_________________________________________________________________\n",
      "activation_3 (Activation)    (None, 1)                 0         \n",
      "=================================================================\n",
      "Total params: 41,151\n",
      "Trainable params: 41,151\n",
      "Non-trainable params: 0\n",
      "_________________________________________________________________\n",
      "None\n"
     ]
    }
   ],
   "source": [
    "file_path = 'compareModel/2019Bioinformatics_DeepMSPeptide/DeepMSPeptide/'\n",
    "args = file_path + 'inputExample.txt'\n",
    "\n",
    "print('Loading model...')\n",
    "model_2_1D = keras.models.load_model(file_path + 'model_2_1D.h5')\n",
    "print(model_2_1D.summary())"
   ]
  },
  {
   "cell_type": "code",
   "execution_count": 11,
   "metadata": {
    "ExecuteTime": {
     "end_time": "2022-01-23T18:59:51.787285Z",
     "start_time": "2022-01-23T18:59:51.768775Z"
    }
   },
   "outputs": [],
   "source": [
    "model_2_1D.get_layer(index=0).set_weights(\n",
    "    [tf.keras.initializers.glorot_uniform(seed=7)(shape=(23,50)).numpy()])\n",
    "model_2_1D.get_layer(index=1).set_weights([])\n",
    "model_2_1D.get_layer(index=2).set_weights(\n",
    "    [tf.keras.initializers.glorot_uniform(seed=7)(shape=(3,50,128)).numpy(),\n",
    "     np.zeros(128,)])\n",
    "model_2_1D.get_layer(index=3).set_weights(\n",
    "    [tf.keras.initializers.glorot_uniform(seed=7)(shape=(2,128,64)).numpy(),\n",
    "    np.zeros(64,)])\n",
    "model_2_1D.get_layer(index=4).set_weights([])\n",
    "model_2_1D.get_layer(index=5).set_weights(\n",
    "    [tf.keras.initializers.glorot_uniform(seed=7)(shape=(64,64)).numpy(),\n",
    "    np.zeros(64,)])\n",
    "model_2_1D.get_layer(index=6).set_weights([])\n",
    "model_2_1D.get_layer(index=7).set_weights([])\n",
    "model_2_1D.get_layer(index=8).set_weights(\n",
    "    [tf.keras.initializers.glorot_uniform(seed=7)(shape=(64,1)).numpy(),\n",
    "    np.zeros(1,)])\n",
    "model_2_1D.get_layer(index=9).set_weights([])"
   ]
  },
  {
   "cell_type": "code",
   "execution_count": 12,
   "metadata": {
    "ExecuteTime": {
     "end_time": "2022-01-23T23:32:53.293041Z",
     "start_time": "2022-01-23T19:00:30.521828Z"
    }
   },
   "outputs": [
    {
     "name": "stdout",
     "output_type": "stream",
     "text": [
      "Train on 535141 samples, validate on 133786 samples\n",
      "Epoch 1/200\n",
      "535141/535141 [==============================] - 80s 150us/sample - loss: 0.4772 - acc: 0.7769 - binary_crossentropy: 0.4772 - val_loss: 0.4452 - val_acc: 0.7951 - val_binary_crossentropy: 0.4452\n",
      "Epoch 2/200\n",
      "535141/535141 [==============================] - 80s 149us/sample - loss: 0.4444 - acc: 0.7967 - binary_crossentropy: 0.4444 - val_loss: 0.4354 - val_acc: 0.8003 - val_binary_crossentropy: 0.4354\n",
      "Epoch 3/200\n",
      "535141/535141 [==============================] - 79s 147us/sample - loss: 0.4364 - acc: 0.8014 - binary_crossentropy: 0.4364 - val_loss: 0.4463 - val_acc: 0.7936 - val_binary_crossentropy: 0.4463\n",
      "Epoch 4/200\n",
      "535141/535141 [==============================] - 78s 146us/sample - loss: 0.4321 - acc: 0.8038 - binary_crossentropy: 0.4321 - val_loss: 0.4275 - val_acc: 0.8065 - val_binary_crossentropy: 0.4275\n",
      "Epoch 5/200\n",
      "535141/535141 [==============================] - 77s 144us/sample - loss: 0.4291 - acc: 0.8055 - binary_crossentropy: 0.4291 - val_loss: 0.4295 - val_acc: 0.8035 - val_binary_crossentropy: 0.4295\n",
      "Epoch 6/200\n",
      "535141/535141 [==============================] - 79s 148us/sample - loss: 0.4270 - acc: 0.8068 - binary_crossentropy: 0.4270 - val_loss: 0.4236 - val_acc: 0.8072 - val_binary_crossentropy: 0.4236\n",
      "Epoch 7/200\n",
      "535141/535141 [==============================] - 78s 146us/sample - loss: 0.4244 - acc: 0.8084 - binary_crossentropy: 0.4244 - val_loss: 0.4253 - val_acc: 0.8060 - val_binary_crossentropy: 0.4253\n",
      "Epoch 8/200\n",
      "535141/535141 [==============================] - 78s 145us/sample - loss: 0.4224 - acc: 0.8092 - binary_crossentropy: 0.4224 - val_loss: 0.4155 - val_acc: 0.8126 - val_binary_crossentropy: 0.4155\n",
      "Epoch 9/200\n",
      "535141/535141 [==============================] - 79s 148us/sample - loss: 0.4214 - acc: 0.8093 - binary_crossentropy: 0.4214 - val_loss: 0.4153 - val_acc: 0.8119 - val_binary_crossentropy: 0.4153\n",
      "Epoch 10/200\n",
      "535141/535141 [==============================] - 78s 145us/sample - loss: 0.4195 - acc: 0.8101 - binary_crossentropy: 0.4195 - val_loss: 0.4155 - val_acc: 0.8111 - val_binary_crossentropy: 0.4155\n",
      "Epoch 11/200\n",
      "535141/535141 [==============================] - 77s 145us/sample - loss: 0.4186 - acc: 0.8116 - binary_crossentropy: 0.4186 - val_loss: 0.4209 - val_acc: 0.8099 - val_binary_crossentropy: 0.4209\n",
      "Epoch 12/200\n",
      "535141/535141 [==============================] - 76s 142us/sample - loss: 0.4174 - acc: 0.8116 - binary_crossentropy: 0.4174 - val_loss: 0.4233 - val_acc: 0.8073 - val_binary_crossentropy: 0.4233\n",
      "Epoch 13/200\n",
      "535141/535141 [==============================] - 78s 146us/sample - loss: 0.4164 - acc: 0.8123 - binary_crossentropy: 0.4164 - val_loss: 0.4173 - val_acc: 0.8110 - val_binary_crossentropy: 0.4173\n",
      "Epoch 14/200\n",
      "535141/535141 [==============================] - 82s 153us/sample - loss: 0.4154 - acc: 0.8125 - binary_crossentropy: 0.4154 - val_loss: 0.4221 - val_acc: 0.8087 - val_binary_crossentropy: 0.4221\n",
      "Epoch 15/200\n",
      "535141/535141 [==============================] - 81s 152us/sample - loss: 0.4145 - acc: 0.8133 - binary_crossentropy: 0.4145 - val_loss: 0.4298 - val_acc: 0.8055 - val_binary_crossentropy: 0.4298\n",
      "Epoch 16/200\n",
      "535141/535141 [==============================] - 84s 156us/sample - loss: 0.4141 - acc: 0.8135 - binary_crossentropy: 0.4141 - val_loss: 0.4188 - val_acc: 0.8098 - val_binary_crossentropy: 0.4188\n",
      "Epoch 17/200\n",
      "535141/535141 [==============================] - 85s 158us/sample - loss: 0.4132 - acc: 0.8141 - binary_crossentropy: 0.4132 - val_loss: 0.4253 - val_acc: 0.8086 - val_binary_crossentropy: 0.4253\n",
      "Epoch 18/200\n",
      "535141/535141 [==============================] - 82s 153us/sample - loss: 0.4127 - acc: 0.8144 - binary_crossentropy: 0.4127 - val_loss: 0.4203 - val_acc: 0.8092 - val_binary_crossentropy: 0.4203\n",
      "Epoch 19/200\n",
      "535141/535141 [==============================] - 81s 152us/sample - loss: 0.4122 - acc: 0.8145 - binary_crossentropy: 0.4122 - val_loss: 0.4255 - val_acc: 0.8088 - val_binary_crossentropy: 0.4255\n",
      "Epoch 20/200\n",
      "535141/535141 [==============================] - 80s 150us/sample - loss: 0.4115 - acc: 0.8148 - binary_crossentropy: 0.4115 - val_loss: 0.4113 - val_acc: 0.8149 - val_binary_crossentropy: 0.4113\n",
      "Epoch 21/200\n",
      "535141/535141 [==============================] - 81s 152us/sample - loss: 0.4112 - acc: 0.8149 - binary_crossentropy: 0.4112 - val_loss: 0.4164 - val_acc: 0.8129 - val_binary_crossentropy: 0.4164\n",
      "Epoch 22/200\n",
      "535141/535141 [==============================] - 85s 158us/sample - loss: 0.4103 - acc: 0.8159 - binary_crossentropy: 0.4103 - val_loss: 0.4162 - val_acc: 0.8103 - val_binary_crossentropy: 0.4162\n",
      "Epoch 23/200\n",
      "535141/535141 [==============================] - 85s 158us/sample - loss: 0.4101 - acc: 0.8160 - binary_crossentropy: 0.4101 - val_loss: 0.4119 - val_acc: 0.8132 - val_binary_crossentropy: 0.4119\n",
      "Epoch 24/200\n",
      "535141/535141 [==============================] - 81s 151us/sample - loss: 0.4095 - acc: 0.8162 - binary_crossentropy: 0.4095 - val_loss: 0.4248 - val_acc: 0.8085 - val_binary_crossentropy: 0.4248\n",
      "Epoch 25/200\n",
      "535141/535141 [==============================] - 80s 150us/sample - loss: 0.4091 - acc: 0.8166 - binary_crossentropy: 0.4091 - val_loss: 0.4145 - val_acc: 0.8125 - val_binary_crossentropy: 0.4145\n",
      "Epoch 26/200\n",
      "535141/535141 [==============================] - 88s 165us/sample - loss: 0.4086 - acc: 0.8165 - binary_crossentropy: 0.4086 - val_loss: 0.4122 - val_acc: 0.8130 - val_binary_crossentropy: 0.4122\n",
      "Epoch 27/200\n",
      "535141/535141 [==============================] - 84s 157us/sample - loss: 0.4077 - acc: 0.8165 - binary_crossentropy: 0.4077 - val_loss: 0.4267 - val_acc: 0.8062 - val_binary_crossentropy: 0.4267\n",
      "Epoch 28/200\n",
      "535141/535141 [==============================] - 83s 156us/sample - loss: 0.4079 - acc: 0.8169 - binary_crossentropy: 0.4079 - val_loss: 0.4207 - val_acc: 0.8095 - val_binary_crossentropy: 0.4207\n",
      "Epoch 29/200\n",
      "535141/535141 [==============================] - 84s 157us/sample - loss: 0.4075 - acc: 0.8166 - binary_crossentropy: 0.4075 - val_loss: 0.4272 - val_acc: 0.8049 - val_binary_crossentropy: 0.4272\n",
      "Epoch 30/200\n",
      "535141/535141 [==============================] - 84s 157us/sample - loss: 0.4067 - acc: 0.8173 - binary_crossentropy: 0.4067 - val_loss: 0.4122 - val_acc: 0.8135 - val_binary_crossentropy: 0.4122\n",
      "Epoch 31/200\n",
      "535141/535141 [==============================] - 83s 155us/sample - loss: 0.4063 - acc: 0.8176 - binary_crossentropy: 0.4063 - val_loss: 0.4167 - val_acc: 0.8125 - val_binary_crossentropy: 0.4167\n",
      "Epoch 32/200\n",
      "535141/535141 [==============================] - 83s 156us/sample - loss: 0.4061 - acc: 0.8180 - binary_crossentropy: 0.4061 - val_loss: 0.4132 - val_acc: 0.8135 - val_binary_crossentropy: 0.4132\n",
      "Epoch 33/200\n",
      "535141/535141 [==============================] - 84s 157us/sample - loss: 0.4059 - acc: 0.8176 - binary_crossentropy: 0.4059 - val_loss: 0.4209 - val_acc: 0.8100 - val_binary_crossentropy: 0.4209\n",
      "Epoch 34/200\n",
      "535141/535141 [==============================] - 84s 157us/sample - loss: 0.4051 - acc: 0.8178 - binary_crossentropy: 0.4051 - val_loss: 0.4130 - val_acc: 0.8131 - val_binary_crossentropy: 0.4130\n",
      "Epoch 35/200\n",
      "535141/535141 [==============================] - 81s 152us/sample - loss: 0.4051 - acc: 0.8179 - binary_crossentropy: 0.4051 - val_loss: 0.4203 - val_acc: 0.8112 - val_binary_crossentropy: 0.4203\n",
      "Epoch 36/200\n",
      "535141/535141 [==============================] - 85s 159us/sample - loss: 0.4047 - acc: 0.8187 - binary_crossentropy: 0.4047 - val_loss: 0.4150 - val_acc: 0.8120 - val_binary_crossentropy: 0.4150\n",
      "Epoch 37/200\n",
      "535141/535141 [==============================] - 86s 161us/sample - loss: 0.4047 - acc: 0.8185 - binary_crossentropy: 0.4047 - val_loss: 0.4131 - val_acc: 0.8136 - val_binary_crossentropy: 0.4131\n",
      "Epoch 38/200\n",
      "535141/535141 [==============================] - 83s 155us/sample - loss: 0.4050 - acc: 0.8180 - binary_crossentropy: 0.4050 - val_loss: 0.4105 - val_acc: 0.8147 - val_binary_crossentropy: 0.4105\n",
      "Epoch 39/200\n",
      "535141/535141 [==============================] - 84s 157us/sample - loss: 0.4041 - acc: 0.8187 - binary_crossentropy: 0.4041 - val_loss: 0.4220 - val_acc: 0.8101 - val_binary_crossentropy: 0.4220\n"
     ]
    },
    {
     "name": "stdout",
     "output_type": "stream",
     "text": [
      "Epoch 40/200\n",
      "535141/535141 [==============================] - 84s 158us/sample - loss: 0.4039 - acc: 0.8192 - binary_crossentropy: 0.4039 - val_loss: 0.4146 - val_acc: 0.8124 - val_binary_crossentropy: 0.4146\n",
      "Epoch 41/200\n",
      "535141/535141 [==============================] - 83s 154us/sample - loss: 0.4038 - acc: 0.8191 - binary_crossentropy: 0.4038 - val_loss: 0.4132 - val_acc: 0.8129 - val_binary_crossentropy: 0.4132\n",
      "Epoch 42/200\n",
      "535141/535141 [==============================] - 83s 155us/sample - loss: 0.4033 - acc: 0.8190 - binary_crossentropy: 0.4033 - val_loss: 0.4163 - val_acc: 0.8125 - val_binary_crossentropy: 0.4163\n",
      "Epoch 43/200\n",
      "535141/535141 [==============================] - 84s 157us/sample - loss: 0.4030 - acc: 0.8189 - binary_crossentropy: 0.4030 - val_loss: 0.4185 - val_acc: 0.8098 - val_binary_crossentropy: 0.4185\n",
      "Epoch 44/200\n",
      "535141/535141 [==============================] - 82s 153us/sample - loss: 0.4033 - acc: 0.8194 - binary_crossentropy: 0.4033 - val_loss: 0.4128 - val_acc: 0.8144 - val_binary_crossentropy: 0.4128\n",
      "Epoch 45/200\n",
      "535141/535141 [==============================] - 81s 151us/sample - loss: 0.4028 - acc: 0.8198 - binary_crossentropy: 0.4028 - val_loss: 0.4224 - val_acc: 0.8076 - val_binary_crossentropy: 0.4224\n",
      "Epoch 46/200\n",
      "535141/535141 [==============================] - 81s 152us/sample - loss: 0.4029 - acc: 0.8196 - binary_crossentropy: 0.4029 - val_loss: 0.4241 - val_acc: 0.8076 - val_binary_crossentropy: 0.4241\n",
      "Epoch 47/200\n",
      "535141/535141 [==============================] - 83s 155us/sample - loss: 0.4022 - acc: 0.8196 - binary_crossentropy: 0.4022 - val_loss: 0.4180 - val_acc: 0.8097 - val_binary_crossentropy: 0.4180\n",
      "Epoch 48/200\n",
      "535141/535141 [==============================] - 83s 155us/sample - loss: 0.4020 - acc: 0.8204 - binary_crossentropy: 0.4020 - val_loss: 0.4133 - val_acc: 0.8131 - val_binary_crossentropy: 0.4133\n",
      "Epoch 49/200\n",
      "535141/535141 [==============================] - 84s 157us/sample - loss: 0.4016 - acc: 0.8199 - binary_crossentropy: 0.4016 - val_loss: 0.4197 - val_acc: 0.8115 - val_binary_crossentropy: 0.4197\n",
      "Epoch 50/200\n",
      "535141/535141 [==============================] - 81s 152us/sample - loss: 0.4013 - acc: 0.8206 - binary_crossentropy: 0.4013 - val_loss: 0.4213 - val_acc: 0.8124 - val_binary_crossentropy: 0.4213\n",
      "Epoch 51/200\n",
      "535141/535141 [==============================] - 86s 160us/sample - loss: 0.4017 - acc: 0.8204 - binary_crossentropy: 0.4017 - val_loss: 0.4129 - val_acc: 0.8143 - val_binary_crossentropy: 0.4129\n",
      "Epoch 52/200\n",
      "535141/535141 [==============================] - 83s 154us/sample - loss: 0.4014 - acc: 0.8204 - binary_crossentropy: 0.4014 - val_loss: 0.4125 - val_acc: 0.8135 - val_binary_crossentropy: 0.4125\n",
      "Epoch 53/200\n",
      "535141/535141 [==============================] - 81s 151us/sample - loss: 0.4011 - acc: 0.8205 - binary_crossentropy: 0.4011 - val_loss: 0.4220 - val_acc: 0.8112 - val_binary_crossentropy: 0.4220\n",
      "Epoch 54/200\n",
      "535141/535141 [==============================] - 86s 160us/sample - loss: 0.4012 - acc: 0.8201 - binary_crossentropy: 0.4012 - val_loss: 0.4166 - val_acc: 0.8118 - val_binary_crossentropy: 0.4166\n",
      "Epoch 55/200\n",
      "535141/535141 [==============================] - 84s 157us/sample - loss: 0.4010 - acc: 0.8206 - binary_crossentropy: 0.4010 - val_loss: 0.4164 - val_acc: 0.8126 - val_binary_crossentropy: 0.4164\n",
      "Epoch 56/200\n",
      "535141/535141 [==============================] - 84s 156us/sample - loss: 0.4006 - acc: 0.8206 - binary_crossentropy: 0.4006 - val_loss: 0.4165 - val_acc: 0.8111 - val_binary_crossentropy: 0.4165\n",
      "Epoch 57/200\n",
      "535141/535141 [==============================] - 84s 157us/sample - loss: 0.4004 - acc: 0.8208 - binary_crossentropy: 0.4004 - val_loss: 0.4194 - val_acc: 0.8095 - val_binary_crossentropy: 0.4194\n",
      "Epoch 58/200\n",
      "535141/535141 [==============================] - 81s 152us/sample - loss: 0.4001 - acc: 0.8207 - binary_crossentropy: 0.4001 - val_loss: 0.4174 - val_acc: 0.8111 - val_binary_crossentropy: 0.4174\n",
      "Epoch 59/200\n",
      "535141/535141 [==============================] - 83s 155us/sample - loss: 0.4002 - acc: 0.8208 - binary_crossentropy: 0.4002 - val_loss: 0.4174 - val_acc: 0.8115 - val_binary_crossentropy: 0.4174\n",
      "Epoch 60/200\n",
      "535141/535141 [==============================] - 84s 157us/sample - loss: 0.3999 - acc: 0.8211 - binary_crossentropy: 0.3999 - val_loss: 0.4126 - val_acc: 0.8132 - val_binary_crossentropy: 0.4126\n",
      "Epoch 61/200\n",
      "535141/535141 [==============================] - 84s 157us/sample - loss: 0.4001 - acc: 0.8206 - binary_crossentropy: 0.4001 - val_loss: 0.4174 - val_acc: 0.8114 - val_binary_crossentropy: 0.4174\n",
      "Epoch 62/200\n",
      "535141/535141 [==============================] - 83s 155us/sample - loss: 0.3998 - acc: 0.8212 - binary_crossentropy: 0.3998 - val_loss: 0.4191 - val_acc: 0.8136 - val_binary_crossentropy: 0.4191\n",
      "Epoch 63/200\n",
      "535141/535141 [==============================] - 83s 154us/sample - loss: 0.3991 - acc: 0.8212 - binary_crossentropy: 0.3991 - val_loss: 0.4141 - val_acc: 0.8134 - val_binary_crossentropy: 0.4141\n",
      "Epoch 64/200\n",
      "535141/535141 [==============================] - 83s 155us/sample - loss: 0.3990 - acc: 0.8212 - binary_crossentropy: 0.3990 - val_loss: 0.4148 - val_acc: 0.8131 - val_binary_crossentropy: 0.4148\n",
      "Epoch 65/200\n",
      "535141/535141 [==============================] - 84s 157us/sample - loss: 0.3989 - acc: 0.8215 - binary_crossentropy: 0.3989 - val_loss: 0.4150 - val_acc: 0.8132 - val_binary_crossentropy: 0.4150\n",
      "Epoch 66/200\n",
      "535141/535141 [==============================] - 83s 155us/sample - loss: 0.3988 - acc: 0.8215 - binary_crossentropy: 0.3988 - val_loss: 0.4228 - val_acc: 0.8098 - val_binary_crossentropy: 0.4228\n",
      "Epoch 67/200\n",
      "535141/535141 [==============================] - 84s 158us/sample - loss: 0.3989 - acc: 0.8214 - binary_crossentropy: 0.3989 - val_loss: 0.4132 - val_acc: 0.8144 - val_binary_crossentropy: 0.4132\n",
      "Epoch 68/200\n",
      "535141/535141 [==============================] - 83s 155us/sample - loss: 0.3987 - acc: 0.8214 - binary_crossentropy: 0.3987 - val_loss: 0.4158 - val_acc: 0.8118 - val_binary_crossentropy: 0.4158\n",
      "Epoch 69/200\n",
      "535141/535141 [==============================] - 83s 156us/sample - loss: 0.3985 - acc: 0.8217 - binary_crossentropy: 0.3985 - val_loss: 0.4305 - val_acc: 0.8112 - val_binary_crossentropy: 0.4305\n",
      "Epoch 70/200\n",
      "535141/535141 [==============================] - 82s 153us/sample - loss: 0.3987 - acc: 0.8217 - binary_crossentropy: 0.3987 - val_loss: 0.4202 - val_acc: 0.8094 - val_binary_crossentropy: 0.4202\n",
      "Epoch 71/200\n",
      "535141/535141 [==============================] - 86s 161us/sample - loss: 0.3989 - acc: 0.8216 - binary_crossentropy: 0.3989 - val_loss: 0.4156 - val_acc: 0.8124 - val_binary_crossentropy: 0.4156\n",
      "Epoch 72/200\n",
      "535141/535141 [==============================] - 84s 156us/sample - loss: 0.3984 - acc: 0.8218 - binary_crossentropy: 0.3984 - val_loss: 0.4199 - val_acc: 0.8108 - val_binary_crossentropy: 0.4199\n",
      "Epoch 73/200\n",
      "535141/535141 [==============================] - 82s 153us/sample - loss: 0.3982 - acc: 0.8218 - binary_crossentropy: 0.3982 - val_loss: 0.4169 - val_acc: 0.8113 - val_binary_crossentropy: 0.4169\n",
      "Epoch 74/200\n",
      "535141/535141 [==============================] - 81s 152us/sample - loss: 0.3983 - acc: 0.8218 - binary_crossentropy: 0.3983 - val_loss: 0.4172 - val_acc: 0.8111 - val_binary_crossentropy: 0.4172\n",
      "Epoch 75/200\n",
      "535141/535141 [==============================] - 81s 151us/sample - loss: 0.3976 - acc: 0.8220 - binary_crossentropy: 0.3976 - val_loss: 0.4105 - val_acc: 0.8152 - val_binary_crossentropy: 0.4105\n",
      "Epoch 76/200\n",
      "535141/535141 [==============================] - 85s 158us/sample - loss: 0.3976 - acc: 0.8222 - binary_crossentropy: 0.3976 - val_loss: 0.4151 - val_acc: 0.8125 - val_binary_crossentropy: 0.4151\n",
      "Epoch 77/200\n",
      "535141/535141 [==============================] - 84s 157us/sample - loss: 0.3980 - acc: 0.8221 - binary_crossentropy: 0.3980 - val_loss: 0.4204 - val_acc: 0.8107 - val_binary_crossentropy: 0.4204\n",
      "Epoch 78/200\n",
      "535141/535141 [==============================] - 83s 155us/sample - loss: 0.3971 - acc: 0.8226 - binary_crossentropy: 0.3971 - val_loss: 0.4210 - val_acc: 0.8119 - val_binary_crossentropy: 0.4210\n",
      "Epoch 79/200\n",
      "535141/535141 [==============================] - 82s 154us/sample - loss: 0.3976 - acc: 0.8222 - binary_crossentropy: 0.3976 - val_loss: 0.4173 - val_acc: 0.8116 - val_binary_crossentropy: 0.4173\n",
      "Epoch 80/200\n",
      "535141/535141 [==============================] - 79s 147us/sample - loss: 0.3974 - acc: 0.8219 - binary_crossentropy: 0.3974 - val_loss: 0.4120 - val_acc: 0.8136 - val_binary_crossentropy: 0.4120\n",
      "Epoch 81/200\n",
      "535141/535141 [==============================] - 78s 146us/sample - loss: 0.3975 - acc: 0.8227 - binary_crossentropy: 0.3975 - val_loss: 0.4132 - val_acc: 0.8139 - val_binary_crossentropy: 0.4132\n",
      "Epoch 82/200\n",
      "535141/535141 [==============================] - 78s 145us/sample - loss: 0.3968 - acc: 0.8223 - binary_crossentropy: 0.3968 - val_loss: 0.4187 - val_acc: 0.8107 - val_binary_crossentropy: 0.4187\n",
      "Epoch 83/200\n",
      "535141/535141 [==============================] - 79s 148us/sample - loss: 0.3971 - acc: 0.8221 - binary_crossentropy: 0.3971 - val_loss: 0.4140 - val_acc: 0.8129 - val_binary_crossentropy: 0.4140\n",
      "Epoch 84/200\n",
      "535141/535141 [==============================] - 77s 144us/sample - loss: 0.3967 - acc: 0.8225 - binary_crossentropy: 0.3967 - val_loss: 0.4194 - val_acc: 0.8103 - val_binary_crossentropy: 0.4194\n",
      "Epoch 85/200\n",
      "535141/535141 [==============================] - 78s 146us/sample - loss: 0.3965 - acc: 0.8230 - binary_crossentropy: 0.3965 - val_loss: 0.4157 - val_acc: 0.8111 - val_binary_crossentropy: 0.4157\n",
      "Epoch 86/200\n",
      "535141/535141 [==============================] - 78s 145us/sample - loss: 0.3967 - acc: 0.8227 - binary_crossentropy: 0.3967 - val_loss: 0.4164 - val_acc: 0.8107 - val_binary_crossentropy: 0.4164\n",
      "Epoch 87/200\n",
      "535141/535141 [==============================] - 80s 149us/sample - loss: 0.3965 - acc: 0.8225 - binary_crossentropy: 0.3965 - val_loss: 0.4156 - val_acc: 0.8139 - val_binary_crossentropy: 0.4156\n",
      "Epoch 88/200\n",
      "535141/535141 [==============================] - 78s 146us/sample - loss: 0.3962 - acc: 0.8227 - binary_crossentropy: 0.3962 - val_loss: 0.4105 - val_acc: 0.8148 - val_binary_crossentropy: 0.4105\n",
      "Epoch 89/200\n",
      "535141/535141 [==============================] - 76s 142us/sample - loss: 0.3964 - acc: 0.8225 - binary_crossentropy: 0.3964 - val_loss: 0.4121 - val_acc: 0.8140 - val_binary_crossentropy: 0.4121\n",
      "Epoch 90/200\n",
      "535141/535141 [==============================] - 76s 142us/sample - loss: 0.3962 - acc: 0.8229 - binary_crossentropy: 0.3962 - val_loss: 0.4151 - val_acc: 0.8127 - val_binary_crossentropy: 0.4151\n",
      "Epoch 91/200\n",
      "535141/535141 [==============================] - 78s 145us/sample - loss: 0.3965 - acc: 0.8227 - binary_crossentropy: 0.3965 - val_loss: 0.4168 - val_acc: 0.8134 - val_binary_crossentropy: 0.4168\n",
      "Epoch 92/200\n",
      "535141/535141 [==============================] - 80s 150us/sample - loss: 0.3964 - acc: 0.8229 - binary_crossentropy: 0.3964 - val_loss: 0.4123 - val_acc: 0.8140 - val_binary_crossentropy: 0.4123\n",
      "Epoch 93/200\n",
      "535141/535141 [==============================] - 78s 146us/sample - loss: 0.3961 - acc: 0.8228 - binary_crossentropy: 0.3961 - val_loss: 0.4128 - val_acc: 0.8129 - val_binary_crossentropy: 0.4128\n",
      "Epoch 94/200\n",
      "535141/535141 [==============================] - 79s 148us/sample - loss: 0.3961 - acc: 0.8230 - binary_crossentropy: 0.3961 - val_loss: 0.4139 - val_acc: 0.8131 - val_binary_crossentropy: 0.4139\n",
      "Epoch 95/200\n",
      "535141/535141 [==============================] - 82s 153us/sample - loss: 0.3955 - acc: 0.8233 - binary_crossentropy: 0.3955 - val_loss: 0.4188 - val_acc: 0.8121 - val_binary_crossentropy: 0.4188\n",
      "Epoch 96/200\n",
      "535141/535141 [==============================] - 81s 152us/sample - loss: 0.3958 - acc: 0.8227 - binary_crossentropy: 0.3958 - val_loss: 0.4185 - val_acc: 0.8117 - val_binary_crossentropy: 0.4185\n",
      "Epoch 97/200\n",
      "535141/535141 [==============================] - 84s 157us/sample - loss: 0.3957 - acc: 0.8233 - binary_crossentropy: 0.3957 - val_loss: 0.4112 - val_acc: 0.8151 - val_binary_crossentropy: 0.4112\n",
      "Epoch 98/200\n",
      "535141/535141 [==============================] - 82s 154us/sample - loss: 0.3955 - acc: 0.8235 - binary_crossentropy: 0.3955 - val_loss: 0.4256 - val_acc: 0.8102 - val_binary_crossentropy: 0.4256\n",
      "Epoch 99/200\n",
      "535141/535141 [==============================] - 84s 156us/sample - loss: 0.3953 - acc: 0.8232 - binary_crossentropy: 0.3953 - val_loss: 0.4194 - val_acc: 0.8117 - val_binary_crossentropy: 0.4194\n",
      "Epoch 100/200\n",
      "535141/535141 [==============================] - 83s 155us/sample - loss: 0.3960 - acc: 0.8230 - binary_crossentropy: 0.3960 - val_loss: 0.4140 - val_acc: 0.8125 - val_binary_crossentropy: 0.4140\n",
      "Epoch 101/200\n",
      "535141/535141 [==============================] - 86s 161us/sample - loss: 0.3956 - acc: 0.8228 - binary_crossentropy: 0.3956 - val_loss: 0.4128 - val_acc: 0.8130 - val_binary_crossentropy: 0.4128\n",
      "Epoch 102/200\n",
      "535141/535141 [==============================] - 83s 155us/sample - loss: 0.3952 - acc: 0.8231 - binary_crossentropy: 0.3952 - val_loss: 0.4132 - val_acc: 0.8142 - val_binary_crossentropy: 0.4132\n",
      "Epoch 103/200\n",
      "535141/535141 [==============================] - 89s 166us/sample - loss: 0.3951 - acc: 0.8238 - binary_crossentropy: 0.3951 - val_loss: 0.4162 - val_acc: 0.8111 - val_binary_crossentropy: 0.4162\n",
      "Epoch 104/200\n",
      "535141/535141 [==============================] - 82s 152us/sample - loss: 0.3946 - acc: 0.8239 - binary_crossentropy: 0.3946 - val_loss: 0.4211 - val_acc: 0.8091 - val_binary_crossentropy: 0.4211\n",
      "Epoch 105/200\n",
      "535141/535141 [==============================] - 87s 162us/sample - loss: 0.3943 - acc: 0.8240 - binary_crossentropy: 0.3943 - val_loss: 0.4139 - val_acc: 0.8128 - val_binary_crossentropy: 0.4139\n",
      "Epoch 106/200\n",
      "535141/535141 [==============================] - 83s 154us/sample - loss: 0.3955 - acc: 0.8227 - binary_crossentropy: 0.3955 - val_loss: 0.4260 - val_acc: 0.8107 - val_binary_crossentropy: 0.4260\n",
      "Epoch 107/200\n",
      "535141/535141 [==============================] - 84s 157us/sample - loss: 0.3950 - acc: 0.8238 - binary_crossentropy: 0.3950 - val_loss: 0.4178 - val_acc: 0.8112 - val_binary_crossentropy: 0.4178\n",
      "Epoch 108/200\n",
      "535141/535141 [==============================] - 83s 155us/sample - loss: 0.3943 - acc: 0.8240 - binary_crossentropy: 0.3943 - val_loss: 0.4245 - val_acc: 0.8082 - val_binary_crossentropy: 0.4245\n",
      "Epoch 109/200\n",
      "535141/535141 [==============================] - 83s 154us/sample - loss: 0.3947 - acc: 0.8235 - binary_crossentropy: 0.3947 - val_loss: 0.4203 - val_acc: 0.8117 - val_binary_crossentropy: 0.4203\n",
      "Epoch 110/200\n",
      "535141/535141 [==============================] - 83s 155us/sample - loss: 0.3947 - acc: 0.8238 - binary_crossentropy: 0.3947 - val_loss: 0.4246 - val_acc: 0.8089 - val_binary_crossentropy: 0.4246\n",
      "Epoch 111/200\n",
      "535141/535141 [==============================] - 84s 157us/sample - loss: 0.3946 - acc: 0.8235 - binary_crossentropy: 0.3946 - val_loss: 0.4149 - val_acc: 0.8127 - val_binary_crossentropy: 0.4149\n",
      "Epoch 112/200\n",
      "535141/535141 [==============================] - 81s 152us/sample - loss: 0.3949 - acc: 0.8237 - binary_crossentropy: 0.3949 - val_loss: 0.4172 - val_acc: 0.8124 - val_binary_crossentropy: 0.4172\n",
      "Epoch 113/200\n",
      "535141/535141 [==============================] - 83s 155us/sample - loss: 0.3947 - acc: 0.8236 - binary_crossentropy: 0.3947 - val_loss: 0.4126 - val_acc: 0.8141 - val_binary_crossentropy: 0.4126\n",
      "Epoch 114/200\n",
      "535141/535141 [==============================] - 84s 156us/sample - loss: 0.3946 - acc: 0.8239 - binary_crossentropy: 0.3946 - val_loss: 0.4132 - val_acc: 0.8138 - val_binary_crossentropy: 0.4132\n",
      "Epoch 115/200\n",
      "535141/535141 [==============================] - 85s 158us/sample - loss: 0.3941 - acc: 0.8240 - binary_crossentropy: 0.3941 - val_loss: 0.4185 - val_acc: 0.8113 - val_binary_crossentropy: 0.4185\n",
      "Epoch 116/200\n",
      "535141/535141 [==============================] - 84s 157us/sample - loss: 0.3941 - acc: 0.8239 - binary_crossentropy: 0.3941 - val_loss: 0.4176 - val_acc: 0.8115 - val_binary_crossentropy: 0.4176\n",
      "Epoch 117/200\n",
      "535141/535141 [==============================] - 85s 159us/sample - loss: 0.3943 - acc: 0.8238 - binary_crossentropy: 0.3943 - val_loss: 0.4148 - val_acc: 0.8124 - val_binary_crossentropy: 0.4148\n",
      "Epoch 118/200\n"
     ]
    },
    {
     "name": "stdout",
     "output_type": "stream",
     "text": [
      "535141/535141 [==============================] - 85s 158us/sample - loss: 0.3944 - acc: 0.8235 - binary_crossentropy: 0.3944 - val_loss: 0.4145 - val_acc: 0.8145 - val_binary_crossentropy: 0.4145\n",
      "Epoch 119/200\n",
      "535141/535141 [==============================] - 85s 159us/sample - loss: 0.3945 - acc: 0.8240 - binary_crossentropy: 0.3945 - val_loss: 0.4134 - val_acc: 0.8136 - val_binary_crossentropy: 0.4134\n",
      "Epoch 120/200\n",
      "535141/535141 [==============================] - 83s 156us/sample - loss: 0.3938 - acc: 0.8240 - binary_crossentropy: 0.3938 - val_loss: 0.4248 - val_acc: 0.8108 - val_binary_crossentropy: 0.4248\n",
      "Epoch 121/200\n",
      "535141/535141 [==============================] - 85s 159us/sample - loss: 0.3938 - acc: 0.8240 - binary_crossentropy: 0.3938 - val_loss: 0.4154 - val_acc: 0.8134 - val_binary_crossentropy: 0.4154\n",
      "Epoch 122/200\n",
      "535141/535141 [==============================] - 83s 154us/sample - loss: 0.3939 - acc: 0.8242 - binary_crossentropy: 0.3939 - val_loss: 0.4158 - val_acc: 0.8135 - val_binary_crossentropy: 0.4158\n",
      "Epoch 123/200\n",
      "535141/535141 [==============================] - 82s 153us/sample - loss: 0.3935 - acc: 0.8239 - binary_crossentropy: 0.3935 - val_loss: 0.4211 - val_acc: 0.8103 - val_binary_crossentropy: 0.4211\n",
      "Epoch 124/200\n",
      "535141/535141 [==============================] - 82s 153us/sample - loss: 0.3937 - acc: 0.8241 - binary_crossentropy: 0.3937 - val_loss: 0.4183 - val_acc: 0.8124 - val_binary_crossentropy: 0.4183\n",
      "Epoch 125/200\n",
      "535141/535141 [==============================] - 82s 154us/sample - loss: 0.3934 - acc: 0.8239 - binary_crossentropy: 0.3934 - val_loss: 0.4201 - val_acc: 0.8107 - val_binary_crossentropy: 0.4201\n",
      "Epoch 126/200\n",
      "535141/535141 [==============================] - 83s 155us/sample - loss: 0.3936 - acc: 0.8242 - binary_crossentropy: 0.3936 - val_loss: 0.4254 - val_acc: 0.8094 - val_binary_crossentropy: 0.4254\n",
      "Epoch 127/200\n",
      "535141/535141 [==============================] - 85s 158us/sample - loss: 0.3935 - acc: 0.8245 - binary_crossentropy: 0.3935 - val_loss: 0.4119 - val_acc: 0.8136 - val_binary_crossentropy: 0.4119\n",
      "Epoch 128/200\n",
      "535141/535141 [==============================] - 82s 153us/sample - loss: 0.3941 - acc: 0.8246 - binary_crossentropy: 0.3941 - val_loss: 0.4151 - val_acc: 0.8133 - val_binary_crossentropy: 0.4151\n",
      "Epoch 129/200\n",
      "535141/535141 [==============================] - 84s 156us/sample - loss: 0.3936 - acc: 0.8244 - binary_crossentropy: 0.3936 - val_loss: 0.4174 - val_acc: 0.8119 - val_binary_crossentropy: 0.4174\n",
      "Epoch 130/200\n",
      "535141/535141 [==============================] - 84s 158us/sample - loss: 0.3933 - acc: 0.8241 - binary_crossentropy: 0.3933 - val_loss: 0.4123 - val_acc: 0.8146 - val_binary_crossentropy: 0.4123\n",
      "Epoch 131/200\n",
      "535141/535141 [==============================] - 84s 156us/sample - loss: 0.3934 - acc: 0.8246 - binary_crossentropy: 0.3934 - val_loss: 0.4160 - val_acc: 0.8134 - val_binary_crossentropy: 0.4160\n",
      "Epoch 132/200\n",
      "535141/535141 [==============================] - 86s 161us/sample - loss: 0.3932 - acc: 0.8244 - binary_crossentropy: 0.3932 - val_loss: 0.4249 - val_acc: 0.8095 - val_binary_crossentropy: 0.4249\n",
      "Epoch 133/200\n",
      "535141/535141 [==============================] - 85s 158us/sample - loss: 0.3936 - acc: 0.8245 - binary_crossentropy: 0.3936 - val_loss: 0.4213 - val_acc: 0.8113 - val_binary_crossentropy: 0.4213\n",
      "Epoch 134/200\n",
      "535141/535141 [==============================] - 85s 158us/sample - loss: 0.3930 - acc: 0.8249 - binary_crossentropy: 0.3930 - val_loss: 0.4146 - val_acc: 0.8147 - val_binary_crossentropy: 0.4146\n",
      "Epoch 135/200\n",
      "535141/535141 [==============================] - 83s 156us/sample - loss: 0.3931 - acc: 0.8243 - binary_crossentropy: 0.3931 - val_loss: 0.4136 - val_acc: 0.8139 - val_binary_crossentropy: 0.4136\n",
      "Epoch 136/200\n",
      "535141/535141 [==============================] - 84s 157us/sample - loss: 0.3928 - acc: 0.8246 - binary_crossentropy: 0.3928 - val_loss: 0.4117 - val_acc: 0.8151 - val_binary_crossentropy: 0.4117\n",
      "Epoch 137/200\n",
      "535141/535141 [==============================] - 85s 158us/sample - loss: 0.3931 - acc: 0.8245 - binary_crossentropy: 0.3931 - val_loss: 0.4150 - val_acc: 0.8136 - val_binary_crossentropy: 0.4150\n",
      "Epoch 138/200\n",
      "535141/535141 [==============================] - 81s 152us/sample - loss: 0.3927 - acc: 0.8242 - binary_crossentropy: 0.3927 - val_loss: 0.4132 - val_acc: 0.8140 - val_binary_crossentropy: 0.4132\n",
      "Epoch 139/200\n",
      "535141/535141 [==============================] - 82s 153us/sample - loss: 0.3927 - acc: 0.8250 - binary_crossentropy: 0.3927 - val_loss: 0.4184 - val_acc: 0.8120 - val_binary_crossentropy: 0.4184\n",
      "Epoch 140/200\n",
      "535141/535141 [==============================] - 84s 157us/sample - loss: 0.3928 - acc: 0.8247 - binary_crossentropy: 0.3928 - val_loss: 0.4261 - val_acc: 0.8124 - val_binary_crossentropy: 0.4261\n",
      "Epoch 141/200\n",
      "535141/535141 [==============================] - 84s 157us/sample - loss: 0.3929 - acc: 0.8246 - binary_crossentropy: 0.3929 - val_loss: 0.4166 - val_acc: 0.8116 - val_binary_crossentropy: 0.4166\n",
      "Epoch 142/200\n",
      "535141/535141 [==============================] - 84s 157us/sample - loss: 0.3929 - acc: 0.8245 - binary_crossentropy: 0.3929 - val_loss: 0.4121 - val_acc: 0.8135 - val_binary_crossentropy: 0.4121\n",
      "Epoch 143/200\n",
      "535141/535141 [==============================] - 83s 156us/sample - loss: 0.3927 - acc: 0.8251 - binary_crossentropy: 0.3927 - val_loss: 0.4157 - val_acc: 0.8128 - val_binary_crossentropy: 0.4157\n",
      "Epoch 144/200\n",
      "535141/535141 [==============================] - 84s 156us/sample - loss: 0.3924 - acc: 0.8248 - binary_crossentropy: 0.3924 - val_loss: 0.4149 - val_acc: 0.8128 - val_binary_crossentropy: 0.4149\n",
      "Epoch 145/200\n",
      "535141/535141 [==============================] - 84s 157us/sample - loss: 0.3927 - acc: 0.8245 - binary_crossentropy: 0.3927 - val_loss: 0.4168 - val_acc: 0.8112 - val_binary_crossentropy: 0.4168\n",
      "Epoch 146/200\n",
      "535141/535141 [==============================] - 83s 156us/sample - loss: 0.3924 - acc: 0.8245 - binary_crossentropy: 0.3924 - val_loss: 0.4158 - val_acc: 0.8131 - val_binary_crossentropy: 0.4158\n",
      "Epoch 147/200\n",
      "535141/535141 [==============================] - 84s 156us/sample - loss: 0.3926 - acc: 0.8246 - binary_crossentropy: 0.3926 - val_loss: 0.4216 - val_acc: 0.8131 - val_binary_crossentropy: 0.4216\n",
      "Epoch 148/200\n",
      "535141/535141 [==============================] - 82s 154us/sample - loss: 0.3926 - acc: 0.8247 - binary_crossentropy: 0.3926 - val_loss: 0.4149 - val_acc: 0.8123 - val_binary_crossentropy: 0.4149\n",
      "Epoch 149/200\n",
      "535141/535141 [==============================] - 82s 152us/sample - loss: 0.3924 - acc: 0.8249 - binary_crossentropy: 0.3924 - val_loss: 0.4152 - val_acc: 0.8125 - val_binary_crossentropy: 0.4152\n",
      "Epoch 150/200\n",
      "535141/535141 [==============================] - 84s 156us/sample - loss: 0.3923 - acc: 0.8248 - binary_crossentropy: 0.3923 - val_loss: 0.4145 - val_acc: 0.8121 - val_binary_crossentropy: 0.4145\n",
      "Epoch 151/200\n",
      "535141/535141 [==============================] - 84s 156us/sample - loss: 0.3921 - acc: 0.8251 - binary_crossentropy: 0.3921 - val_loss: 0.4174 - val_acc: 0.8124 - val_binary_crossentropy: 0.4174\n",
      "Epoch 152/200\n",
      "535141/535141 [==============================] - 85s 159us/sample - loss: 0.3924 - acc: 0.8247 - binary_crossentropy: 0.3924 - val_loss: 0.4228 - val_acc: 0.8110 - val_binary_crossentropy: 0.4228\n",
      "Epoch 153/200\n",
      "535141/535141 [==============================] - 83s 155us/sample - loss: 0.3926 - acc: 0.8253 - binary_crossentropy: 0.3926 - val_loss: 0.4180 - val_acc: 0.8114 - val_binary_crossentropy: 0.4180\n",
      "Epoch 154/200\n",
      "535141/535141 [==============================] - 84s 156us/sample - loss: 0.3923 - acc: 0.8248 - binary_crossentropy: 0.3923 - val_loss: 0.4140 - val_acc: 0.8116 - val_binary_crossentropy: 0.4140\n",
      "Epoch 155/200\n",
      "535141/535141 [==============================] - 84s 158us/sample - loss: 0.3925 - acc: 0.8248 - binary_crossentropy: 0.3925 - val_loss: 0.4153 - val_acc: 0.8120 - val_binary_crossentropy: 0.4153\n",
      "Epoch 156/200\n",
      "535141/535141 [==============================] - 86s 161us/sample - loss: 0.3922 - acc: 0.8250 - binary_crossentropy: 0.3922 - val_loss: 0.4141 - val_acc: 0.8135 - val_binary_crossentropy: 0.4141\n",
      "Epoch 157/200\n",
      "535141/535141 [==============================] - 81s 150us/sample - loss: 0.3925 - acc: 0.8246 - binary_crossentropy: 0.3925 - val_loss: 0.4170 - val_acc: 0.8120 - val_binary_crossentropy: 0.4170\n",
      "Epoch 158/200\n",
      "535141/535141 [==============================] - 81s 151us/sample - loss: 0.3920 - acc: 0.8249 - binary_crossentropy: 0.3920 - val_loss: 0.4239 - val_acc: 0.8095 - val_binary_crossentropy: 0.4239\n",
      "Epoch 159/200\n",
      "535141/535141 [==============================] - 85s 158us/sample - loss: 0.3921 - acc: 0.8249 - binary_crossentropy: 0.3921 - val_loss: 0.4157 - val_acc: 0.8137 - val_binary_crossentropy: 0.4157\n",
      "Epoch 160/200\n",
      "535141/535141 [==============================] - 81s 151us/sample - loss: 0.3919 - acc: 0.8250 - binary_crossentropy: 0.3919 - val_loss: 0.4173 - val_acc: 0.8120 - val_binary_crossentropy: 0.4173\n",
      "Epoch 161/200\n",
      "535141/535141 [==============================] - 78s 146us/sample - loss: 0.3918 - acc: 0.8250 - binary_crossentropy: 0.3918 - val_loss: 0.4155 - val_acc: 0.8141 - val_binary_crossentropy: 0.4155\n",
      "Epoch 162/200\n",
      "535141/535141 [==============================] - 77s 144us/sample - loss: 0.3919 - acc: 0.8252 - binary_crossentropy: 0.3919 - val_loss: 0.4145 - val_acc: 0.8133 - val_binary_crossentropy: 0.4145\n",
      "Epoch 163/200\n",
      "535141/535141 [==============================] - 78s 146us/sample - loss: 0.3916 - acc: 0.8251 - binary_crossentropy: 0.3916 - val_loss: 0.4157 - val_acc: 0.8123 - val_binary_crossentropy: 0.4157\n",
      "Epoch 164/200\n",
      "535141/535141 [==============================] - 76s 142us/sample - loss: 0.3915 - acc: 0.8254 - binary_crossentropy: 0.3915 - val_loss: 0.4169 - val_acc: 0.8119 - val_binary_crossentropy: 0.4169\n",
      "Epoch 165/200\n",
      "535141/535141 [==============================] - 80s 149us/sample - loss: 0.3916 - acc: 0.8250 - binary_crossentropy: 0.3916 - val_loss: 0.4166 - val_acc: 0.8135 - val_binary_crossentropy: 0.4166\n",
      "Epoch 166/200\n",
      "535141/535141 [==============================] - 78s 147us/sample - loss: 0.3915 - acc: 0.8255 - binary_crossentropy: 0.3915 - val_loss: 0.4144 - val_acc: 0.8129 - val_binary_crossentropy: 0.4144\n",
      "Epoch 167/200\n",
      "535141/535141 [==============================] - 78s 145us/sample - loss: 0.3916 - acc: 0.8249 - binary_crossentropy: 0.3916 - val_loss: 0.4173 - val_acc: 0.8109 - val_binary_crossentropy: 0.4173\n",
      "Epoch 168/200\n",
      "535141/535141 [==============================] - 79s 148us/sample - loss: 0.3922 - acc: 0.8251 - binary_crossentropy: 0.3922 - val_loss: 0.4204 - val_acc: 0.8120 - val_binary_crossentropy: 0.4204\n",
      "Epoch 169/200\n",
      "535141/535141 [==============================] - 78s 147us/sample - loss: 0.3914 - acc: 0.8256 - binary_crossentropy: 0.3914 - val_loss: 0.4213 - val_acc: 0.8104 - val_binary_crossentropy: 0.4213\n",
      "Epoch 170/200\n",
      "535141/535141 [==============================] - 76s 143us/sample - loss: 0.3917 - acc: 0.8249 - binary_crossentropy: 0.3917 - val_loss: 0.4134 - val_acc: 0.8137 - val_binary_crossentropy: 0.4134\n",
      "Epoch 171/200\n",
      "535141/535141 [==============================] - 78s 145us/sample - loss: 0.3921 - acc: 0.8253 - binary_crossentropy: 0.3921 - val_loss: 0.4128 - val_acc: 0.8137 - val_binary_crossentropy: 0.4128\n",
      "Epoch 172/200\n",
      "535141/535141 [==============================] - 78s 145us/sample - loss: 0.3917 - acc: 0.8253 - binary_crossentropy: 0.3917 - val_loss: 0.4167 - val_acc: 0.8107 - val_binary_crossentropy: 0.4167\n",
      "Epoch 173/200\n",
      "535141/535141 [==============================] - 80s 149us/sample - loss: 0.3916 - acc: 0.8252 - binary_crossentropy: 0.3916 - val_loss: 0.4231 - val_acc: 0.8100 - val_binary_crossentropy: 0.4231\n",
      "Epoch 174/200\n",
      "535141/535141 [==============================] - 76s 142us/sample - loss: 0.3914 - acc: 0.8252 - binary_crossentropy: 0.3914 - val_loss: 0.4130 - val_acc: 0.8143 - val_binary_crossentropy: 0.4130\n",
      "Epoch 175/200\n",
      "535141/535141 [==============================] - 80s 150us/sample - loss: 0.3915 - acc: 0.8248 - binary_crossentropy: 0.3915 - val_loss: 0.4190 - val_acc: 0.8110 - val_binary_crossentropy: 0.4190\n",
      "Epoch 176/200\n",
      "535141/535141 [==============================] - 83s 156us/sample - loss: 0.3916 - acc: 0.8253 - binary_crossentropy: 0.3916 - val_loss: 0.4156 - val_acc: 0.8122 - val_binary_crossentropy: 0.4156\n",
      "Epoch 177/200\n",
      "535141/535141 [==============================] - 80s 149us/sample - loss: 0.3913 - acc: 0.8249 - binary_crossentropy: 0.3913 - val_loss: 0.4208 - val_acc: 0.8109 - val_binary_crossentropy: 0.4208\n",
      "Epoch 178/200\n",
      "535141/535141 [==============================] - 83s 154us/sample - loss: 0.3909 - acc: 0.8257 - binary_crossentropy: 0.3909 - val_loss: 0.4134 - val_acc: 0.8147 - val_binary_crossentropy: 0.4134\n",
      "Epoch 179/200\n",
      "535141/535141 [==============================] - 82s 154us/sample - loss: 0.3915 - acc: 0.8256 - binary_crossentropy: 0.3915 - val_loss: 0.4302 - val_acc: 0.8104 - val_binary_crossentropy: 0.4302\n",
      "Epoch 180/200\n",
      "535141/535141 [==============================] - 80s 150us/sample - loss: 0.3912 - acc: 0.8253 - binary_crossentropy: 0.3912 - val_loss: 0.4183 - val_acc: 0.8120 - val_binary_crossentropy: 0.4183\n",
      "Epoch 181/200\n",
      "535141/535141 [==============================] - 77s 144us/sample - loss: 0.3914 - acc: 0.8250 - binary_crossentropy: 0.3914 - val_loss: 0.4293 - val_acc: 0.8113 - val_binary_crossentropy: 0.4293\n",
      "Epoch 182/200\n",
      "535141/535141 [==============================] - 79s 147us/sample - loss: 0.3915 - acc: 0.8256 - binary_crossentropy: 0.3915 - val_loss: 0.4214 - val_acc: 0.8110 - val_binary_crossentropy: 0.4214\n",
      "Epoch 183/200\n",
      "535141/535141 [==============================] - 80s 150us/sample - loss: 0.3911 - acc: 0.8255 - binary_crossentropy: 0.3911 - val_loss: 0.4158 - val_acc: 0.8146 - val_binary_crossentropy: 0.4158\n",
      "Epoch 184/200\n",
      "535141/535141 [==============================] - 80s 149us/sample - loss: 0.3911 - acc: 0.8256 - binary_crossentropy: 0.3911 - val_loss: 0.4163 - val_acc: 0.8120 - val_binary_crossentropy: 0.4163\n",
      "Epoch 185/200\n",
      "535141/535141 [==============================] - 81s 152us/sample - loss: 0.3911 - acc: 0.8258 - binary_crossentropy: 0.3911 - val_loss: 0.4181 - val_acc: 0.8124 - val_binary_crossentropy: 0.4181\n",
      "Epoch 186/200\n",
      "535141/535141 [==============================] - 78s 146us/sample - loss: 0.3911 - acc: 0.8256 - binary_crossentropy: 0.3911 - val_loss: 0.4216 - val_acc: 0.8132 - val_binary_crossentropy: 0.4216\n",
      "Epoch 187/200\n",
      "535141/535141 [==============================] - 78s 145us/sample - loss: 0.3911 - acc: 0.8257 - binary_crossentropy: 0.3911 - val_loss: 0.4250 - val_acc: 0.8105 - val_binary_crossentropy: 0.4250\n",
      "Epoch 188/200\n",
      "535141/535141 [==============================] - 79s 147us/sample - loss: 0.3907 - acc: 0.8250 - binary_crossentropy: 0.3907 - val_loss: 0.4217 - val_acc: 0.8114 - val_binary_crossentropy: 0.4217\n",
      "Epoch 189/200\n",
      "535141/535141 [==============================] - 78s 147us/sample - loss: 0.3907 - acc: 0.8254 - binary_crossentropy: 0.3907 - val_loss: 0.4184 - val_acc: 0.8116 - val_binary_crossentropy: 0.4184\n",
      "Epoch 190/200\n",
      "535141/535141 [==============================] - 80s 149us/sample - loss: 0.3914 - acc: 0.8251 - binary_crossentropy: 0.3914 - val_loss: 0.4258 - val_acc: 0.8092 - val_binary_crossentropy: 0.4258\n",
      "Epoch 191/200\n",
      "535141/535141 [==============================] - 78s 146us/sample - loss: 0.3909 - acc: 0.8256 - binary_crossentropy: 0.3909 - val_loss: 0.4183 - val_acc: 0.8111 - val_binary_crossentropy: 0.4183\n",
      "Epoch 192/200\n",
      "535141/535141 [==============================] - 79s 147us/sample - loss: 0.3914 - acc: 0.8252 - binary_crossentropy: 0.3914 - val_loss: 0.4180 - val_acc: 0.8109 - val_binary_crossentropy: 0.4180\n",
      "Epoch 193/200\n",
      "535141/535141 [==============================] - 77s 145us/sample - loss: 0.3912 - acc: 0.8258 - binary_crossentropy: 0.3912 - val_loss: 0.4157 - val_acc: 0.8129 - val_binary_crossentropy: 0.4157\n",
      "Epoch 194/200\n",
      "535141/535141 [==============================] - 78s 146us/sample - loss: 0.3911 - acc: 0.8254 - binary_crossentropy: 0.3911 - val_loss: 0.4245 - val_acc: 0.8097 - val_binary_crossentropy: 0.4245\n",
      "Epoch 195/200\n",
      "535141/535141 [==============================] - 78s 147us/sample - loss: 0.3909 - acc: 0.8258 - binary_crossentropy: 0.3909 - val_loss: 0.4255 - val_acc: 0.8105 - val_binary_crossentropy: 0.4255\n",
      "Epoch 196/200\n"
     ]
    },
    {
     "name": "stdout",
     "output_type": "stream",
     "text": [
      "535141/535141 [==============================] - 77s 144us/sample - loss: 0.3904 - acc: 0.8257 - binary_crossentropy: 0.3904 - val_loss: 0.4170 - val_acc: 0.8125 - val_binary_crossentropy: 0.4170\n",
      "Epoch 197/200\n",
      "535141/535141 [==============================] - 80s 150us/sample - loss: 0.3908 - acc: 0.8256 - binary_crossentropy: 0.3908 - val_loss: 0.4228 - val_acc: 0.8107 - val_binary_crossentropy: 0.4228\n",
      "Epoch 198/200\n",
      "535141/535141 [==============================] - 78s 145us/sample - loss: 0.3903 - acc: 0.8256 - binary_crossentropy: 0.3903 - val_loss: 0.4172 - val_acc: 0.8139 - val_binary_crossentropy: 0.4172\n",
      "Epoch 199/200\n",
      "535141/535141 [==============================] - 78s 145us/sample - loss: 0.3912 - acc: 0.8259 - binary_crossentropy: 0.3912 - val_loss: 0.4228 - val_acc: 0.8114 - val_binary_crossentropy: 0.4228\n",
      "Epoch 200/200\n",
      "535141/535141 [==============================] - 78s 146us/sample - loss: 0.3908 - acc: 0.8256 - binary_crossentropy: 0.3908 - val_loss: 0.4248 - val_acc: 0.8120 - val_binary_crossentropy: 0.4248\n"
     ]
    }
   ],
   "source": [
    "history = model_2_1D.fit(X_train, y_train, epochs=200, \n",
    "                    batch_size=100,\n",
    "                    validation_data=(X_val, y_val))"
   ]
  },
  {
   "cell_type": "code",
   "execution_count": 13,
   "metadata": {
    "ExecuteTime": {
     "end_time": "2022-01-23T23:32:53.634174Z",
     "start_time": "2022-01-23T23:32:53.294784Z"
    }
   },
   "outputs": [
    {
     "data": {
      "image/png": "[encoded data removed]",
      "text/plain": [
       "<Figure size 1152x144 with 2 Axes>"
      ]
     },
     "metadata": {
      "needs_background": "light"
     },
     "output_type": "display_data"
    }
   ],
   "source": [
    "plt.figure(figsize=(16,2))\n",
    "plt.subplot(1,2,1)\n",
    "plot_graphs(history, 'acc')\n",
    "plt.subplot(1,2,2)\n",
    "plot_graphs(history, 'loss')"
   ]
  },
  {
   "cell_type": "markdown",
   "metadata": {},
   "source": [
    "# 3. test"
   ]
  },
  {
   "cell_type": "code",
   "execution_count": 14,
   "metadata": {
    "ExecuteTime": {
     "end_time": "2022-01-23T23:33:27.172484Z",
     "start_time": "2022-01-23T23:32:53.635998Z"
    }
   },
   "outputs": [
    {
     "name": "stdout",
     "output_type": "stream",
     "text": [
      "133992/133992 [==============================] - 12s 88us/sample - loss: 0.4086 - acc: 0.8211 - binary_crossentropy: 0.4086\n",
      "Test Accuracy: [0.40855041332754194, 0.82106394, 0.40855068]\n",
      "              precision    recall  f1-score   support\n",
      "\n",
      "           0       0.85      0.78      0.81     66996\n",
      "           1       0.80      0.86      0.83     66996\n",
      "\n",
      "    accuracy                           0.82    133992\n",
      "   macro avg       0.82      0.82      0.82    133992\n",
      "weighted avg       0.82      0.82      0.82    133992\n",
      "\n",
      "rf auc : 0.8984298998778026\n"
     ]
    },
    {
     "data": {
      "image/png": "[encoded data removed]",
      "text/plain": [
       "<Figure size 288x288 with 1 Axes>"
      ]
     },
     "metadata": {
      "needs_background": "light"
     },
     "output_type": "display_data"
    },
    {
     "data": {
      "image/png": "[encoded data removed]",
      "text/plain": [
       "<Figure size 216x216 with 2 Axes>"
      ]
     },
     "metadata": {
      "needs_background": "light"
     },
     "output_type": "display_data"
    },
    {
     "data": {
      "image/png": "[encoded data removed]",
      "text/plain": [
       "<Figure size 216x216 with 2 Axes>"
      ]
     },
     "metadata": {
      "needs_background": "light"
     },
     "output_type": "display_data"
    }
   ],
   "source": [
    "test_acc = model_2_1D.evaluate(X_test, y_test)\n",
    "print('Test Accuracy: {}'.format(test_acc))\n",
    "\n",
    "# prediction\n",
    "y_pred = [1 if i>=0.5 else 0 for i in model_2_1D.predict(X_test)]\n",
    "print(classification_report(y_test, y_pred))\n",
    "# AUC\n",
    "probs = model_2_1D.predict(X_test)\n",
    "rf_auc = roc_auc_score(y_test, probs)\n",
    "print('rf auc : {}'.format(rf_auc))\n",
    "# plot the roc curve for the model_2_1D\n",
    "rf_fpr, rf_tpr, _ = roc_curve(y_test, probs)\n",
    "plt.figure(figsize=(4, 4))\n",
    "plt.plot(rf_fpr, rf_tpr, marker='.', label='RF AUC = {:.4f}'.format(rf_auc), color='orange')\n",
    "plt.title('ROC curve')\n",
    "# axis labels\n",
    "plt.xlabel('False Positive Rate')\n",
    "plt.ylabel('True Positive Rate')\n",
    "# show the legend\n",
    "plt.legend()\n",
    "# show the plot\n",
    "plt.show()\n",
    "\n",
    "cf_matrix = confusion_matrix(y_test, y_pred)\n",
    "plt.figure(figsize=(3, 3))\n",
    "sns.heatmap(cf_matrix, annot=True, fmt=',.0f')\n",
    "plt.show()\n",
    "plt.figure(figsize=(3, 3))\n",
    "sns.heatmap(cf_matrix/np.sum(cf_matrix), annot=True, \n",
    "            fmt='.2%', cmap='Blues')\n",
    "plt.show()"
   ]
  },
  {
   "cell_type": "code",
   "execution_count": 15,
   "metadata": {
    "ExecuteTime": {
     "end_time": "2022-01-23T23:33:27.175801Z",
     "start_time": "2022-01-23T23:33:27.173995Z"
    }
   },
   "outputs": [],
   "source": [
    "# Calling `save('my_model.h5')` creates a h5 file `my_model.h5`.\n",
    "# model_2_1D.save(\"compareModel/2019Bioinformatics_DeepMSPeptide/2021KSBi_DeepMSpeptide.h5\")\n",
    "\n",
    "# It can be used to reconstruct the model identically.\n",
    "# model_2_1D_re = keras.models.load_model(\"compareModel/2019Bioinformatics_DeepMSPeptide/2021KSBi_DeepMSpeptide.h5\")"
   ]
  },
  {
   "cell_type": "code",
   "execution_count": null,
   "metadata": {},
   "outputs": [],
   "source": []
  },
  {
   "cell_type": "code",
   "execution_count": null,
   "metadata": {},
   "outputs": [],
   "source": []
  },
  {
   "cell_type": "code",
   "execution_count": 38,
   "metadata": {
    "ExecuteTime": {
     "end_time": "2022-01-24T04:50:14.291329Z",
     "start_time": "2022-01-24T04:50:14.267263Z"
    }
   },
   "outputs": [],
   "source": [
    "pe1 = pd.read_csv('compareModel/2021MDPI_CapsNet/pe1.csv')\n",
    "dmp = pd.read_csv('compareModel/2021MDPI_CapsNet/dmp.csv')\n",
    "mp = pd.read_csv('compareModel/2021MDPI_CapsNet/mp.csv')"
   ]
  },
  {
   "cell_type": "code",
   "execution_count": 41,
   "metadata": {
    "ExecuteTime": {
     "end_time": "2022-01-24T04:50:42.489503Z",
     "start_time": "2022-01-24T04:50:42.482363Z"
    }
   },
   "outputs": [
    {
     "data": {
      "text/html": [
       "<div>\n",
       "<style scoped>\n",
       "    .dataframe tbody tr th:only-of-type {\n",
       "        vertical-align: middle;\n",
       "    }\n",
       "\n",
       "    .dataframe tbody tr th {\n",
       "        vertical-align: top;\n",
       "    }\n",
       "\n",
       "    .dataframe thead th {\n",
       "        text-align: right;\n",
       "    }\n",
       "</style>\n",
       "<table border=\"1\" class=\"dataframe\">\n",
       "  <thead>\n",
       "    <tr style=\"text-align: right;\">\n",
       "      <th></th>\n",
       "      <th>PEP</th>\n",
       "      <th>Class</th>\n",
       "    </tr>\n",
       "  </thead>\n",
       "  <tbody>\n",
       "    <tr>\n",
       "      <th>0</th>\n",
       "      <td>ATLEVSSIIK</td>\n",
       "      <td>PE1</td>\n",
       "    </tr>\n",
       "  </tbody>\n",
       "</table>\n",
       "</div>"
      ],
      "text/plain": [
       "          PEP Class\n",
       "0  ATLEVSSIIK   PE1"
      ]
     },
     "execution_count": 41,
     "metadata": {},
     "output_type": "execute_result"
    }
   ],
   "source": [
    "pe1.head(1)"
   ]
  },
  {
   "cell_type": "code",
   "execution_count": 43,
   "metadata": {
    "ExecuteTime": {
     "end_time": "2022-01-24T04:51:09.399357Z",
     "start_time": "2022-01-24T04:51:09.393923Z"
    }
   },
   "outputs": [],
   "source": [
    "pe1.rename({'PEP':'Seqs', 'Class':'Label'}, axis=1, inplace=True)\n",
    "dmp.rename({'PEP':'Seqs', 'Class':'Label'}, axis=1, inplace=True)\n",
    "mp.rename({'PEP':'Seqs', 'Class':'Label'}, axis=1, inplace=True)"
   ]
  },
  {
   "cell_type": "code",
   "execution_count": 44,
   "metadata": {
    "ExecuteTime": {
     "end_time": "2022-01-24T04:51:10.248571Z",
     "start_time": "2022-01-24T04:51:10.245172Z"
    }
   },
   "outputs": [
    {
     "name": "stdout",
     "output_type": "stream",
     "text": [
      "(8244, 2) (8177, 2) (5101, 2)\n"
     ]
    }
   ],
   "source": [
    "print(pe1.shape, dmp.shape, mp.shape)"
   ]
  },
  {
   "cell_type": "code",
   "execution_count": 47,
   "metadata": {
    "ExecuteTime": {
     "end_time": "2022-01-24T04:51:45.377340Z",
     "start_time": "2022-01-24T04:51:45.372856Z"
    }
   },
   "outputs": [],
   "source": [
    "pe1['Label']=1\n",
    "dmp['Label']=1\n",
    "mp['Label']=0"
   ]
  },
  {
   "cell_type": "code",
   "execution_count": 48,
   "metadata": {
    "ExecuteTime": {
     "end_time": "2022-01-24T04:51:46.982361Z",
     "start_time": "2022-01-24T04:51:46.654731Z"
    }
   },
   "outputs": [
    {
     "name": "stdout",
     "output_type": "stream",
     "text": [
      "Loading input peptides\n",
      "Succesfully loaded 8244 peptides and skipped 0\n",
      "Loading input peptides\n",
      "Succesfully loaded 8177 peptides and skipped 0\n",
      "Loading input peptides\n",
      "Succesfully loaded 5101 peptides and skipped 0\n"
     ]
    }
   ],
   "source": [
    "# make DeepMSpeptide format\n",
    "inp = open(file_path+'HPP_pe1.txt', 'w')\n",
    "inp_y = open(file_path+'HPP_pe1_y.txt', 'w')\n",
    "for x, y in pe1[['Seqs', 'Label']].values:\n",
    "    inp.write(x+'\\n')\n",
    "    inp_y.write(str(y)+'\\n')\n",
    "inp.close()\n",
    "inp_y.close()\n",
    "\n",
    "inp = open(file_path+'HPP_dmp.txt', 'w')\n",
    "inp_y = open(file_path+'HPP_dmp_y.txt', 'w')\n",
    "for x, y in dmp[['Seqs', 'Label']].values:\n",
    "    inp.write(x+'\\n')\n",
    "    inp_y.write(str(y)+'\\n')\n",
    "inp.close()\n",
    "inp_y.close()\n",
    "\n",
    "inp = open(file_path+'HPP_mp.txt', 'w')\n",
    "inp_y = open(file_path+'HPP_mp_y.txt', 'w')\n",
    "for x, y in mp[['Seqs', 'Label']].values:\n",
    "    inp.write(x+'\\n')\n",
    "    inp_y.write(str(y)+'\\n')\n",
    "inp.close()\n",
    "inp_y.close()\n",
    "\n",
    "args = file_path + 'HPP_pe1.txt'\n",
    "print('Loading input peptides')\n",
    "X_pe1, skipped, lines = load_pep_and_codify(args, 81)\n",
    "tmp = open(file_path+'HPP_pe1_y.txt')\n",
    "y_pe1 = np.array([int(_.replace('\\n', '')) for _ in tmp.readlines()])\n",
    "tmp.close()\n",
    "print('Succesfully loaded {0} peptides and skipped {1}'.format(len(lines), str(skipped)))\n",
    "\n",
    "args = file_path + 'HPP_dmp.txt'\n",
    "print('Loading input peptides')\n",
    "X_dmp, skipped, lines = load_pep_and_codify(args, 81)\n",
    "tmp = open(file_path+'HPP_dmp_y.txt')\n",
    "y_dmp = np.array([int(_.replace('\\n', '')) for _ in tmp.readlines()])\n",
    "tmp.close()\n",
    "print('Succesfully loaded {0} peptides and skipped {1}'.format(len(lines), str(skipped)))\n",
    "\n",
    "args = file_path + 'HPP_mp.txt'\n",
    "print('Loading input peptides')\n",
    "X_mp, skipped, lines = load_pep_and_codify(args, 81)\n",
    "tmp = open(file_path+'HPP_mp_y.txt')\n",
    "y_mp = np.array([int(_.replace('\\n', '')) for _ in tmp.readlines()])\n",
    "tmp.close()\n",
    "print('Succesfully loaded {0} peptides and skipped {1}'.format(len(lines), str(skipped)))"
   ]
  },
  {
   "cell_type": "code",
   "execution_count": 49,
   "metadata": {
    "ExecuteTime": {
     "end_time": "2022-01-24T04:51:50.464128Z",
     "start_time": "2022-01-24T04:51:49.667781Z"
    }
   },
   "outputs": [],
   "source": [
    "y_pe1_pred = [i[0] for i in model_2_1D.predict(X_pe1)]\n",
    "\n",
    "y_dmp_pred = [i[0] for i in model_2_1D.predict(X_dmp)]\n",
    "y_mp_pred = [i[0] for i in model_2_1D.predict(X_mp)]"
   ]
  },
  {
   "cell_type": "code",
   "execution_count": 51,
   "metadata": {
    "ExecuteTime": {
     "end_time": "2022-01-24T04:51:51.978316Z",
     "start_time": "2022-01-24T04:51:51.770016Z"
    },
    "id": "5piTcRiANrup"
   },
   "outputs": [
    {
     "data": {
      "image/png": "[encoded data removed]",
      "text/plain": [
       "<Figure size 1080x576 with 1 Axes>"
      ]
     },
     "metadata": {
      "needs_background": "light"
     },
     "output_type": "display_data"
    }
   ],
   "source": [
    "import matplotlib.pyplot as plt\n",
    "import numpy as np\n",
    "\n",
    "fig, axes = plt.subplots(figsize=(15, 8))\n",
    "\n",
    "#all_data = [np.random.normal(0, std, 100) for std in range(6, 10)]\n",
    "#\n",
    "# print(y_pe1_pred)\n",
    "axes.violinplot([y_pe1_pred,y_dmp_pred,y_mp_pred],\n",
    "                   showmeans=True,\n",
    "                   showmedians=True\n",
    "                   )\n",
    "\n",
    "axes.set_title('violin plot')\n",
    "\n",
    "# adding horizontal grid lines\n",
    "\n",
    "axes.yaxis.grid(True)\n",
    "#axes.set_xticks([y + 1 for y in range(len(all_data))], )\n",
    "axes.set_xlabel('xlabel')\n",
    "axes.set_ylabel('ylabel')\n",
    "\n",
    "plt.setp(axes, xticks=[y + 1 for y in range(len([y_pe1_pred,y_dmp_pred,y_mp_pred]))],\n",
    "         xticklabels=['PF1', 'Detected MPs', 'Current MPs'],\n",
    "         )\n",
    "\n",
    "plt.show()"
   ]
  },
  {
   "cell_type": "code",
   "execution_count": 52,
   "metadata": {
    "ExecuteTime": {
     "end_time": "2022-01-24T04:51:55.378573Z",
     "start_time": "2022-01-24T04:51:55.358601Z"
    }
   },
   "outputs": [],
   "source": [
    "df_pe1 = pd.DataFrame([['PE1', _] for _ in y_pe1_pred],\n",
    "                     columns=['class', 'prob'])\n",
    "df_dmp = pd.DataFrame([['Detected_MPs', _] for _ in y_dmp_pred],\n",
    "                     columns=['class', 'prob'])\n",
    "df_mp = pd.DataFrame([['MPs', _] for _ in y_mp_pred],\n",
    "                     columns=['class', 'prob'])\n",
    "df_sns = pd.concat([df_pe1, df_dmp, df_mp], axis=0).reset_index(drop=True)"
   ]
  },
  {
   "cell_type": "code",
   "execution_count": 53,
   "metadata": {
    "ExecuteTime": {
     "end_time": "2022-01-24T04:51:56.063401Z",
     "start_time": "2022-01-24T04:51:56.061041Z"
    }
   },
   "outputs": [],
   "source": [
    "import seaborn as sns"
   ]
  },
  {
   "cell_type": "code",
   "execution_count": 54,
   "metadata": {
    "ExecuteTime": {
     "end_time": "2022-01-24T04:51:56.616068Z",
     "start_time": "2022-01-24T04:51:56.324784Z"
    }
   },
   "outputs": [
    {
     "data": {
      "image/png": "[encoded data removed]",
      "text/plain": [
       "<Figure size 720x720 with 1 Axes>"
      ]
     },
     "metadata": {
      "needs_background": "light"
     },
     "output_type": "display_data"
    }
   ],
   "source": [
    "plt.figure(figsize=(10,10))\n",
    "plt.title('Peptide Detectability')\n",
    "plt.ylabel('Detectability')\n",
    "plt.xlabel('Type')\n",
    "\n",
    "sns.violinplot(data=df_sns, x='class', y='prob', order=['PE1', 'Detected_MPs', 'MPs'])\n",
    "plt.show()"
   ]
  },
  {
   "cell_type": "code",
   "execution_count": 55,
   "metadata": {
    "ExecuteTime": {
     "end_time": "2022-01-24T04:53:13.824934Z",
     "start_time": "2022-01-24T04:53:13.536453Z"
    }
   },
   "outputs": [
    {
     "data": {
      "image/png": "[encoded data removed]",
      "text/plain": [
       "<Figure size 720x720 with 1 Axes>"
      ]
     },
     "metadata": {
      "needs_background": "light"
     },
     "output_type": "display_data"
    }
   ],
   "source": [
    "plt.figure(figsize=(10,10))\n",
    "plt.title('Peptide Detectability')\n",
    "plt.ylabel('Detectability')\n",
    "plt.xlabel('Type')\n",
    "\n",
    "plt.ylim(0, 1)\n",
    "sns.violinplot(data=df_sns, x='class', y='prob', order=['PE1', 'Detected_MPs', 'MPs'])\n",
    "plt.show()"
   ]
  },
  {
   "cell_type": "code",
   "execution_count": null,
   "metadata": {},
   "outputs": [],
   "source": []
  },
  {
   "cell_type": "code",
   "execution_count": null,
   "metadata": {},
   "outputs": [],
   "source": []
  }
 ],
 "metadata": {
  "kernelspec": {
   "display_name": "TF1.14",
   "language": "python",
   "name": "tf1.14"
  },
  "language_info": {
   "codemirror_mode": {
    "name": "ipython",
    "version": 3
   },
   "file_extension": ".py",
   "mimetype": "text/x-python",
   "name": "python",
   "nbconvert_exporter": "python",
   "pygments_lexer": "ipython3",
   "version": "3.6.13"
  }
 },
 "nbformat": 4,
 "nbformat_minor": 4
}
