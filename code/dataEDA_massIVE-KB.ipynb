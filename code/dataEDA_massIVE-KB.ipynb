{
 "cells": [
  {
   "cell_type": "code",
   "execution_count": null,
   "metadata": {
    "ExecuteTime": {
     "end_time": "2022-02-11T15:01:02.789568Z",
     "start_time": "2022-02-11T15:01:02.222244Z"
    }
   },
   "outputs": [],
   "source": [
    "import pandas as pd\n",
    "import numpy as np\n",
    "import re\n",
    "import matplotlib.pyplot as plt\n",
    "pd.set_option('display.max_colwidth', 50)\n",
    "pd.set_option('display.max_rows', 100)\n",
    "pd.set_option('display.max_columns', 100)"
   ]
  },
  {
   "cell_type": "code",
   "execution_count": 3,
   "metadata": {
    "ExecuteTime": {
     "end_time": "2022-02-11T15:03:12.089967Z",
     "start_time": "2022-02-11T15:03:12.078052Z"
    }
   },
   "outputs": [],
   "source": [
    "import sys\n",
    "sys.path.append('../')\n",
    "from utils import *"
   ]
  },
  {
   "cell_type": "markdown",
   "metadata": {},
   "source": [
    "# massIVE-KB\n",
    "- https://massive.ucsd.edu/ProteoSAFe/static/massive-kb-libraries.jsp\n",
    "\n",
    "\n",
    "- Human HCD spectral library derived from over 30TB of human MS/MS proteomics data and including ProteomeTools synthetic peptides\n",
    "    - proteins : 19,611\n",
    "    - precursors : 2,154,269\n",
    "    - peptides : 1,114,503\n",
    "\n",
    "# MGF file"
   ]
  },
  {
   "cell_type": "code",
   "execution_count": 4,
   "metadata": {
    "ExecuteTime": {
     "end_time": "2022-02-11T15:03:22.366782Z",
     "start_time": "2022-02-11T15:03:22.354935Z"
    },
    "scrolled": true
   },
   "outputs": [
    {
     "name": "stdout",
     "output_type": "stream",
     "text": [
      "BEGIN IONS\n",
      "\n",
      "PEPMASS=623.3276257633\n",
      "\n",
      "CHARGE=3\n",
      "\n",
      "MSLEVEL=2\n",
      "\n",
      "COLLISION_ENERGY=0.0\n",
      "\n",
      "FILENAME=filtered_library_mgf_files/9187af535f6e41ce9583b4553469c20e.mgf\n",
      "\n",
      "SEQ=+42.011AAEAAGGKYRSTVSKSKD\n",
      "\n",
      "PROTEIN=sp|Q96A65|EXOC4_HUMAN\n",
      "\n",
      "SCANS=1\n",
      "\n",
      "SCAN=1\n",
      "\n",
      "SCORE=4.6051746015\n",
      "\n",
      "FDR=0.0\n",
      "\n",
      "129.10317993164062\t63295.375\n",
      "\n",
      "130.08726501464844\t7010.876953125\n",
      "\n",
      "136.07666015625\t14278.6826171875\n",
      "\n",
      "143.0828857421875\t5026.0068359375\n",
      "\n",
      "147.11407470703125\t7820.40576171875\n",
      "\n",
      "155.08229064941406\t4797.83935546875\n",
      "\n",
      "161.09341430664062\t12979.1123046875\n",
      "\n",
      "173.09310913085938\t12697.0185546875\n",
      "\n",
      "185.09327697753906\t46881.85546875\n",
      "\n",
      "189.08819580078125\t8073.11181640625\n",
      "\n",
      "198.1256561279297\t5272.4541015625\n",
      "\n",
      "201.08811950683594\t40607.234375\n",
      "\n",
      "216.13560485839844\t25192.845703125\n",
      "\n",
      "262.1419982910156\t13653.341796875\n",
      "\n",
      "272.1259765625\t9055.1015625\n",
      "\n",
      "314.1366882324219\t39298.5859375\n",
      "\n",
      "315.1393737792969\t6137.8544921875\n",
      "\n",
      "349.172607421875\t12984.642578125\n",
      "\n",
      "385.17431640625\t22504.26953125\n",
      "\n",
      "397.213623046875\t10097.7060546875\n",
      "\n",
      "444.7332763671875\t4657.58154296875\n",
      "\n",
      "495.26116943359375\t6029.5712890625\n",
      "\n",
      "518.950439453125\t6554.2001953125\n",
      "\n",
      "519.2841796875\t15680.146484375\n",
      "\n",
      "519.7835083007812\t12590.0302734375\n",
      "\n",
      "555.963134765625\t11306.9287109375\n",
      "\n",
      "556.2948608398438\t10221.587890625\n",
      "\n",
      "559.3228759765625\t6483.2138671875\n",
      "\n",
      "564.3023071289062\t5984.9921875\n",
      "\n",
      "578.9806518554688\t5039.107421875\n",
      "\n",
      "585.6455078125\t10929.58984375\n",
      "\n",
      "585.979736328125\t8401.439453125\n",
      "\n",
      "586.3145751953125\t6667.50732421875\n",
      "\n",
      "647.3530883789062\t5405.7021484375\n",
      "\n",
      "649.288330078125\t4079.765869140625\n",
      "\n",
      "675.8847045898438\t16373.861328125\n",
      "\n",
      "676.3903198242188\t13298.5234375\n",
      "\n",
      "678.370849609375\t6408.7451171875\n",
      "\n",
      "706.8822631835938\t36478.83203125\n",
      "\n",
      "707.3839721679688\t31141.96875\n",
      "\n",
      "707.88525390625\t7342.0\n",
      "\n",
      "711.4046630859375\t14504.1298828125\n",
      "\n",
      "711.8970336914062\t14415.857421875\n",
      "\n",
      "733.4143676757812\t6960.8095703125\n",
      "\n",
      "733.8863525390625\t4497.7685546875\n",
      "\n",
      "741.385009765625\t13215.8828125\n",
      "\n",
      "742.4005737304688\t44238.4140625\n",
      "\n",
      "742.9022827148438\t35735.8125\n",
      "\n",
      "743.4024658203125\t12062.619140625\n",
      "\n",
      "759.871337890625\t7668.55712890625\n",
      "\n",
      "768.919677734375\t4696.0439453125\n",
      "\n",
      "769.4088134765625\t6471.42724609375\n",
      "\n",
      "769.9287109375\t4991.5712890625\n",
      "\n",
      "775.9236450195312\t6939.23046875\n",
      "\n",
      "777.9199829101562\t55166.0\n",
      "\n",
      "778.42333984375\t45777.2265625\n",
      "\n",
      "778.9247436523438\t17472.501953125\n",
      "\n",
      "794.3477172851562\t7494.5830078125\n",
      "\n",
      "832.3884887695312\t4812.9853515625\n",
      "\n",
      "832.8955688476562\t5254.24951171875\n",
      "\n",
      "833.4368896484375\t8280.501953125\n",
      "\n",
      "833.9405517578125\t5167.2900390625\n",
      "\n",
      "841.3980102539062\t26124.0859375\n",
      "\n",
      "841.899658203125\t9632.5078125\n",
      "\n",
      "842.4447631835938\t20494.96875\n",
      "\n",
      "842.946044921875\t10945.3037109375\n",
      "\n",
      "843.4418334960938\t8480.3251953125\n",
      "\n",
      "877.9591064453125\t11548.5576171875\n",
      "\n",
      "878.4688720703125\t11607.9345703125\n",
      "\n",
      "878.964599609375\t5299.6298828125\n",
      "\n",
      "881.3855590820312\t5578.099609375\n",
      "\n",
      "884.916259765625\t19339.30859375\n",
      "\n",
      "885.4149780273438\t7618.1689453125\n",
      "\n",
      "888.4560546875\t11704.8583984375\n",
      "\n",
      "964.425048828125\t6520.25048828125\n",
      "\n",
      "982.4306640625\t6736.4677734375\n",
      "\n",
      "1064.59375\t6427.220703125\n",
      "\n",
      "1135.62548828125\t6853.3984375\n",
      "\n",
      "1206.6575927734375\t5952.86962890625\n",
      "\n",
      "END IONS\n",
      "\n",
      "\n",
      "\n",
      "BEGIN IONS\n",
      "\n",
      "PEPMASS=969.1032256866\n",
      "\n",
      "CHARGE=3\n",
      "\n",
      "MSLEVEL=2\n",
      "\n",
      "COLLISION_ENERGY=0.0\n",
      "\n",
      "FILENAME=filtered_library_mgf_files/9187af535f6e41ce9583b4553469c20e.mgf\n",
      "\n",
      "SEQ=+42.011AAEAGSEEGGPVTAGAGGGGAAAGSSAYPAVC+57.021R\n",
      "\n"
     ]
    }
   ],
   "source": [
    "tmp = open('../data/massIVE-KB/LIBRARY_CREATION_AUGMENT_LIBRARY_TEST-82c0124b-download_filtered_mgf_library-main.mgf')\n",
    "for _ in range(100):\n",
    "    print(tmp.readline())\n",
    "tmp.close()"
   ]
  },
  {
   "cell_type": "code",
   "execution_count": 6,
   "metadata": {
    "ExecuteTime": {
     "end_time": "2022-02-11T15:09:26.796948Z",
     "start_time": "2022-02-11T15:03:26.725774Z"
    }
   },
   "outputs": [],
   "source": [
    "kb = open('../data/massIVE-KB/LIBRARY_CREATION_AUGMENT_LIBRARY_TEST-82c0124b-download_filtered_mgf_library-main.mgf', 'r')\n",
    "kblines = kb.readlines()\n",
    "kb.close()\n",
    "rows = {'PEPMASS':[], 'CHARGE':[], 'MSLEVEL':[], 'COLLISION_ENERGY':[], 'FILENAME':[], 'SEQ':[],\n",
    "       'PROTEIN':[], 'STRIP_PEPTIDE':[], 'SCANS':[], 'SCAN':[], 'SCORE':[], 'FDR':[], 'MZ':[], 'INTENSITY':[]}\n",
    "ms2mz = []\n",
    "ms2int = []\n",
    "for line in kblines:\n",
    "    line = line.replace('\\n', '')\n",
    "    if 'PEPMASS=' in line:\n",
    "        rows['PEPMASS'].append(line.replace('PEPMASS=', ''))\n",
    "    elif 'CHARGE=' in line:\n",
    "        rows['CHARGE'].append(line.replace('CHARGE=', ''))\n",
    "    elif 'MSLEVEL=' in line:\n",
    "        rows['MSLEVEL'].append(line.replace('MSLEVEL=', ''))\n",
    "    elif 'COLLISION_ENERGY=' in line:\n",
    "        rows['COLLISION_ENERGY'].append(line.replace('COLLISION_ENERGY=', ''))\n",
    "    elif 'FILENAME=' in line:\n",
    "        rows['FILENAME'].append(line.replace('FILENAME=', ''))\n",
    "    elif 'SEQ=' in line:\n",
    "        rows['SEQ'].append(line.replace('SEQ=', ''))\n",
    "        rows['STRIP_PEPTIDE'].append(''.join(list(filter(lambda x: ord(x) in range(65, 91), line.replace('SEQ=', '')))))\n",
    "    elif 'PROTEIN=' in line:\n",
    "        rows['PROTEIN'].append(line.replace('PROTEIN=', ''))\n",
    "    elif 'SCANS=' in line:\n",
    "        rows['SCANS'].append(line.replace('SCANS=', ''))\n",
    "    elif 'SCAN=' in line:\n",
    "        rows['SCAN'].append(line.replace('SCAN=', ''))\n",
    "    elif 'SCORE=' in line:\n",
    "        rows['SCORE'].append(line.replace('SCORE=', ''))\n",
    "    elif 'FDR=' in line:\n",
    "        rows['FDR'].append(line.replace('FDR=', ''))\n",
    "    elif '\\t' in line:\n",
    "        mz, inten = line.split('\\t')\n",
    "        ms2mz.append(mz)\n",
    "        ms2int.append(inten)      \n",
    "    elif 'END IONS' in line:\n",
    "        rows['MZ'].append(';'.join(ms2mz))\n",
    "        rows['INTENSITY'].append(';'.join(ms2int))\n",
    "        ms2mz = []\n",
    "        ms2int = []"
   ]
  },
  {
   "cell_type": "code",
   "execution_count": 8,
   "metadata": {
    "ExecuteTime": {
     "end_time": "2022-02-11T15:13:16.270831Z",
     "start_time": "2022-02-11T15:12:59.289201Z"
    }
   },
   "outputs": [
    {
     "name": "stdout",
     "output_type": "stream",
     "text": [
      "(2154269, 14)\n"
     ]
    },
    {
     "data": {
      "text/html": [
       "<div>\n",
       "<style scoped>\n",
       "    .dataframe tbody tr th:only-of-type {\n",
       "        vertical-align: middle;\n",
       "    }\n",
       "\n",
       "    .dataframe tbody tr th {\n",
       "        vertical-align: top;\n",
       "    }\n",
       "\n",
       "    .dataframe thead th {\n",
       "        text-align: right;\n",
       "    }\n",
       "</style>\n",
       "<table border=\"1\" class=\"dataframe\">\n",
       "  <thead>\n",
       "    <tr style=\"text-align: right;\">\n",
       "      <th></th>\n",
       "      <th>PEPMASS</th>\n",
       "      <th>CHARGE</th>\n",
       "      <th>MSLEVEL</th>\n",
       "      <th>COLLISION_ENERGY</th>\n",
       "      <th>FILENAME</th>\n",
       "      <th>SEQ</th>\n",
       "      <th>PROTEIN</th>\n",
       "      <th>STRIP_PEPTIDE</th>\n",
       "      <th>SCANS</th>\n",
       "      <th>SCAN</th>\n",
       "      <th>SCORE</th>\n",
       "      <th>FDR</th>\n",
       "      <th>MZ</th>\n",
       "      <th>INTENSITY</th>\n",
       "    </tr>\n",
       "  </thead>\n",
       "  <tbody>\n",
       "    <tr>\n",
       "      <th>0</th>\n",
       "      <td>623.3276257633</td>\n",
       "      <td>3</td>\n",
       "      <td>2</td>\n",
       "      <td>0.0</td>\n",
       "      <td>filtered_library_mgf_files/9187af535f6e41ce958...</td>\n",
       "      <td>+42.011AAEAAGGKYRSTVSKSKD</td>\n",
       "      <td>sp|Q96A65|EXOC4_HUMAN</td>\n",
       "      <td>AAEAAGGKYRSTVSKSKD</td>\n",
       "      <td>1</td>\n",
       "      <td>1</td>\n",
       "      <td>4.6051746015</td>\n",
       "      <td>0.0</td>\n",
       "      <td>129.10317993164062;130.08726501464844;136.0766...</td>\n",
       "      <td>63295.375;7010.876953125;14278.6826171875;5026...</td>\n",
       "    </tr>\n",
       "    <tr>\n",
       "      <th>1</th>\n",
       "      <td>969.1032256866</td>\n",
       "      <td>3</td>\n",
       "      <td>2</td>\n",
       "      <td>0.0</td>\n",
       "      <td>filtered_library_mgf_files/9187af535f6e41ce958...</td>\n",
       "      <td>+42.011AAEAGSEEGGPVTAGAGGGGAAAGSSAYPAVC+57.021R</td>\n",
       "      <td>sp|P20936|RASA1_HUMAN</td>\n",
       "      <td>AAEAGSEEGGPVTAGAGGGGAAAGSSAYPAVCR</td>\n",
       "      <td>2</td>\n",
       "      <td>2</td>\n",
       "      <td>26.0627742768</td>\n",
       "      <td>0.0</td>\n",
       "      <td>102.05564880371094;136.07582092285156;147.1135...</td>\n",
       "      <td>23235.02734375;15666.6142578125;24713.92382812...</td>\n",
       "    </tr>\n",
       "  </tbody>\n",
       "</table>\n",
       "</div>"
      ],
      "text/plain": [
       "          PEPMASS CHARGE MSLEVEL COLLISION_ENERGY  \\\n",
       "0  623.3276257633      3       2              0.0   \n",
       "1  969.1032256866      3       2              0.0   \n",
       "\n",
       "                                            FILENAME  \\\n",
       "0  filtered_library_mgf_files/9187af535f6e41ce958...   \n",
       "1  filtered_library_mgf_files/9187af535f6e41ce958...   \n",
       "\n",
       "                                               SEQ                PROTEIN  \\\n",
       "0                        +42.011AAEAAGGKYRSTVSKSKD  sp|Q96A65|EXOC4_HUMAN   \n",
       "1  +42.011AAEAGSEEGGPVTAGAGGGGAAAGSSAYPAVC+57.021R  sp|P20936|RASA1_HUMAN   \n",
       "\n",
       "                       STRIP_PEPTIDE SCANS SCAN          SCORE  FDR  \\\n",
       "0                 AAEAAGGKYRSTVSKSKD     1    1   4.6051746015  0.0   \n",
       "1  AAEAGSEEGGPVTAGAGGGGAAAGSSAYPAVCR     2    2  26.0627742768  0.0   \n",
       "\n",
       "                                                  MZ  \\\n",
       "0  129.10317993164062;130.08726501464844;136.0766...   \n",
       "1  102.05564880371094;136.07582092285156;147.1135...   \n",
       "\n",
       "                                           INTENSITY  \n",
       "0  63295.375;7010.876953125;14278.6826171875;5026...  \n",
       "1  23235.02734375;15666.6142578125;24713.92382812...  "
      ]
     },
     "execution_count": 8,
     "metadata": {},
     "output_type": "execute_result"
    }
   ],
   "source": [
    "df_kb = pd.DataFrame(rows)\n",
    "\n",
    "print(df_kb.shape)\n",
    "df_kb.head(2)"
   ]
  },
  {
   "cell_type": "code",
   "execution_count": 5,
   "metadata": {
    "ExecuteTime": {
     "end_time": "2021-11-24T20:16:13.933210Z",
     "start_time": "2021-11-24T20:16:05.088416Z"
    }
   },
   "outputs": [
    {
     "name": "stdout",
     "output_type": "stream",
     "text": [
      "pk check :  True\n"
     ]
    }
   ],
   "source": [
    "# find PK\n",
    "print('pk check : ', len(df_kb) == len({(SEQ, CHARGE) for SEQ, CHARGE in df_kb[['SEQ', 'CHARGE']].values}))\n",
    "# (SEQ, CHARGE)가 pk !"
   ]
  },
  {
   "cell_type": "markdown",
   "metadata": {},
   "source": [
    "# All Candidate Library Spectra file\n",
    "  - for spectral count of peptide\n",
    "  - STRIP_PEPTIDE count가 아니라, experiment의 spectral count를 세야 한다.\n",
    "      - filename 으로 구분해야한다."
   ]
  },
  {
   "cell_type": "code",
   "execution_count": 6,
   "metadata": {
    "ExecuteTime": {
     "end_time": "2021-11-24T20:17:31.071920Z",
     "start_time": "2021-11-24T20:16:13.934734Z"
    }
   },
   "outputs": [
    {
     "name": "stdout",
     "output_type": "stream",
     "text": [
      "(30633841, 17)\n"
     ]
    },
    {
     "data": {
      "text/html": [
       "<div>\n",
       "<style scoped>\n",
       "    .dataframe tbody tr th:only-of-type {\n",
       "        vertical-align: middle;\n",
       "    }\n",
       "\n",
       "    .dataframe tbody tr th {\n",
       "        vertical-align: top;\n",
       "    }\n",
       "\n",
       "    .dataframe thead th {\n",
       "        text-align: right;\n",
       "    }\n",
       "</style>\n",
       "<table border=\"1\" class=\"dataframe\">\n",
       "  <thead>\n",
       "    <tr style=\"text-align: right;\">\n",
       "      <th></th>\n",
       "      <th>annotated_peak_count</th>\n",
       "      <th>annotation</th>\n",
       "      <th>augment_task</th>\n",
       "      <th>charge</th>\n",
       "      <th>explained_intensity</th>\n",
       "      <th>extract_task</th>\n",
       "      <th>filename</th>\n",
       "      <th>kl_score</th>\n",
       "      <th>most_similar_score</th>\n",
       "      <th>mz</th>\n",
       "      <th>number_of_ions_annotated_above_SNR</th>\n",
       "      <th>number_of_peaks_within_1_percent_of_max</th>\n",
       "      <th>ppm_error</th>\n",
       "      <th>precursor_intensity</th>\n",
       "      <th>proteosafe_task</th>\n",
       "      <th>scan</th>\n",
       "      <th>score</th>\n",
       "    </tr>\n",
       "  </thead>\n",
       "  <tbody>\n",
       "    <tr>\n",
       "      <th>0</th>\n",
       "      <td>29</td>\n",
       "      <td>-17.027QAAAAAAAAAATAAWTGTTF</td>\n",
       "      <td>818a7b41e3994f1f83801a7d625bcdd7</td>\n",
       "      <td>2</td>\n",
       "      <td>0.773831</td>\n",
       "      <td>8fd4d62a97cf472cbb0f74b907f0a572</td>\n",
       "      <td>MSV000080813/ccms_peak/RAW/20130426_EXQ6_SaDe_...</td>\n",
       "      <td>-1.000000</td>\n",
       "      <td>0.900479</td>\n",
       "      <td>888.935677</td>\n",
       "      <td>47</td>\n",
       "      <td>149</td>\n",
       "      <td>5.307678</td>\n",
       "      <td>529638.125</td>\n",
       "      <td>173516dbe1a1405290fa01276cc084f1</td>\n",
       "      <td>94572</td>\n",
       "      <td>3.857783</td>\n",
       "    </tr>\n",
       "    <tr>\n",
       "      <th>1</th>\n",
       "      <td>32</td>\n",
       "      <td>-17.027QAAAAAAAAAATAAWTGTTF</td>\n",
       "      <td>19eab28787264e089157a616fcdda792</td>\n",
       "      <td>2</td>\n",
       "      <td>0.827863</td>\n",
       "      <td>888400a2034e47f7898b255c8b79dac9</td>\n",
       "      <td>MSV000080679/peak/peak/j10848_ZYX.mzXML</td>\n",
       "      <td>0.001657</td>\n",
       "      <td>0.886112</td>\n",
       "      <td>888.927783</td>\n",
       "      <td>37</td>\n",
       "      <td>118</td>\n",
       "      <td>3.572741</td>\n",
       "      <td>3887554.750</td>\n",
       "      <td>345c4bf040874398a5cfec713050ff0f</td>\n",
       "      <td>21577</td>\n",
       "      <td>3.497227</td>\n",
       "    </tr>\n",
       "  </tbody>\n",
       "</table>\n",
       "</div>"
      ],
      "text/plain": [
       "   annotated_peak_count                   annotation  \\\n",
       "0                    29  -17.027QAAAAAAAAAATAAWTGTTF   \n",
       "1                    32  -17.027QAAAAAAAAAATAAWTGTTF   \n",
       "\n",
       "                       augment_task  charge  explained_intensity  \\\n",
       "0  818a7b41e3994f1f83801a7d625bcdd7       2             0.773831   \n",
       "1  19eab28787264e089157a616fcdda792       2             0.827863   \n",
       "\n",
       "                       extract_task  \\\n",
       "0  8fd4d62a97cf472cbb0f74b907f0a572   \n",
       "1  888400a2034e47f7898b255c8b79dac9   \n",
       "\n",
       "                                            filename  kl_score  \\\n",
       "0  MSV000080813/ccms_peak/RAW/20130426_EXQ6_SaDe_... -1.000000   \n",
       "1            MSV000080679/peak/peak/j10848_ZYX.mzXML  0.001657   \n",
       "\n",
       "   most_similar_score          mz  number_of_ions_annotated_above_SNR  \\\n",
       "0            0.900479  888.935677                                  47   \n",
       "1            0.886112  888.927783                                  37   \n",
       "\n",
       "   number_of_peaks_within_1_percent_of_max  ppm_error  precursor_intensity  \\\n",
       "0                                      149   5.307678           529638.125   \n",
       "1                                      118   3.572741          3887554.750   \n",
       "\n",
       "                    proteosafe_task   scan     score  \n",
       "0  173516dbe1a1405290fa01276cc084f1  94572  3.857783  \n",
       "1  345c4bf040874398a5cfec713050ff0f  21577  3.497227  "
      ]
     },
     "execution_count": 6,
     "metadata": {},
     "output_type": "execute_result"
    }
   ],
   "source": [
    "df_candi = pd.read_csv('data/massIVE-KB/LIBRARY_CREATION_AUGMENT_LIBRARY_TEST-82c0124b-candidate_library_spectra-main.tsv', sep='\\t')\n",
    "print(df_candi.shape)\n",
    "df_candi.head(2)"
   ]
  },
  {
   "cell_type": "code",
   "execution_count": 7,
   "metadata": {
    "ExecuteTime": {
     "end_time": "2021-11-24T20:17:35.589980Z",
     "start_time": "2021-11-24T20:17:31.073369Z"
    }
   },
   "outputs": [
    {
     "name": "stdout",
     "output_type": "stream",
     "text": [
      "unique file(experiment) cnt : 27,992\n"
     ]
    }
   ],
   "source": [
    "# check experiment count\n",
    "print('unique file(experiment) cnt : {:,}'.format(len(df_candi.filename.unique())))"
   ]
  },
  {
   "cell_type": "code",
   "execution_count": 8,
   "metadata": {
    "ExecuteTime": {
     "end_time": "2021-11-24T20:18:04.095232Z",
     "start_time": "2021-11-24T20:17:35.591387Z"
    }
   },
   "outputs": [
    {
     "name": "stdout",
     "output_type": "stream",
     "text": [
      "2202284 2154269 2154269\n"
     ]
    }
   ],
   "source": [
    "# check same pk\n",
    "candi_uniqset = {(SEQ, CHARGE) for SEQ, CHARGE in df_candi[['annotation', 'charge']].values}\n",
    "kb_uniqset = {(SEQ, int(CHARGE)) for SEQ, CHARGE in df_kb[['SEQ', 'CHARGE']].values}\n",
    "\n",
    "print(len(candi_uniqset), \n",
    "      len(kb_uniqset),\n",
    "      len(candi_uniqset.intersection(kb_uniqset)))"
   ]
  },
  {
   "cell_type": "code",
   "execution_count": 9,
   "metadata": {
    "ExecuteTime": {
     "end_time": "2021-11-24T20:20:11.659256Z",
     "start_time": "2021-11-24T20:18:04.096820Z"
    }
   },
   "outputs": [],
   "source": [
    "# (annotation, charge) : filename\n",
    "precursor2fn = dict()\n",
    "for p, c, fn in df_candi[['annotation', 'charge', 'filename']].values:\n",
    "    if (p, c) not in precursor2fn:\n",
    "        precursor2fn[(p, c)] = set()\n",
    "    precursor2fn[(p, c)].add(fn)\n",
    "\n",
    "precursor2cnt = {k:len(v) for k, v in precursor2fn.items()}"
   ]
  },
  {
   "cell_type": "code",
   "execution_count": 10,
   "metadata": {
    "ExecuteTime": {
     "end_time": "2021-11-24T20:20:13.857938Z",
     "start_time": "2021-11-24T20:20:11.661557Z"
    }
   },
   "outputs": [
    {
     "data": {
      "image/png": "[encoded data removed]",
      "text/plain": [
       "<Figure size 720x360 with 1 Axes>"
      ]
     },
     "metadata": {
      "needs_background": "light"
     },
     "output_type": "display_data"
    }
   ],
   "source": [
    "viz = sorted(precursor2cnt.items(), key=lambda x: x[1], reverse=True)\n",
    "x = range(len([i[0] for i in viz]))\n",
    "y = [i[1] for i in viz]\n",
    "\n",
    "plt.figure(figsize=(10,5))\n",
    "plt.plot(x, y, color='navy')\n",
    "plt.xlabel('precursor')\n",
    "plt.ylabel('# of exp')\n",
    "plt.title('experiment coount per precursor')\n",
    "plt.grid()\n",
    "plt.show()"
   ]
  },
  {
   "cell_type": "markdown",
   "metadata": {},
   "source": [
    "# Merge"
   ]
  },
  {
   "cell_type": "code",
   "execution_count": 11,
   "metadata": {
    "ExecuteTime": {
     "end_time": "2021-11-24T20:20:18.466117Z",
     "start_time": "2021-11-24T20:20:13.859608Z"
    }
   },
   "outputs": [],
   "source": [
    "df_kb['SPECTRAL_CNT'] = [precursor2cnt[(S, int(C))] for S, C in df_kb[['SEQ', 'CHARGE']].values]"
   ]
  },
  {
   "cell_type": "code",
   "execution_count": 12,
   "metadata": {
    "ExecuteTime": {
     "end_time": "2021-11-24T20:20:18.480592Z",
     "start_time": "2021-11-24T20:20:18.467734Z"
    }
   },
   "outputs": [
    {
     "data": {
      "text/html": [
       "<div>\n",
       "<style scoped>\n",
       "    .dataframe tbody tr th:only-of-type {\n",
       "        vertical-align: middle;\n",
       "    }\n",
       "\n",
       "    .dataframe tbody tr th {\n",
       "        vertical-align: top;\n",
       "    }\n",
       "\n",
       "    .dataframe thead th {\n",
       "        text-align: right;\n",
       "    }\n",
       "</style>\n",
       "<table border=\"1\" class=\"dataframe\">\n",
       "  <thead>\n",
       "    <tr style=\"text-align: right;\">\n",
       "      <th></th>\n",
       "      <th>PEPMASS</th>\n",
       "      <th>CHARGE</th>\n",
       "      <th>MSLEVEL</th>\n",
       "      <th>COLLISION_ENERGY</th>\n",
       "      <th>FILENAME</th>\n",
       "      <th>SEQ</th>\n",
       "      <th>PROTEIN</th>\n",
       "      <th>STRIP_PEPTIDE</th>\n",
       "      <th>SCANS</th>\n",
       "      <th>SCAN</th>\n",
       "      <th>SCORE</th>\n",
       "      <th>FDR</th>\n",
       "      <th>MZ</th>\n",
       "      <th>INTENSITY</th>\n",
       "      <th>SPECTRAL_CNT</th>\n",
       "    </tr>\n",
       "  </thead>\n",
       "  <tbody>\n",
       "    <tr>\n",
       "      <th>0</th>\n",
       "      <td>623.3276257633</td>\n",
       "      <td>3</td>\n",
       "      <td>2</td>\n",
       "      <td>0.0</td>\n",
       "      <td>filtered_library_mgf_files/9187af535f6e41ce958...</td>\n",
       "      <td>+42.011AAEAAGGKYRSTVSKSKD</td>\n",
       "      <td>sp|Q96A65|EXOC4_HUMAN</td>\n",
       "      <td>AAEAAGGKYRSTVSKSKD</td>\n",
       "      <td>1</td>\n",
       "      <td>1</td>\n",
       "      <td>4.6051746015</td>\n",
       "      <td>0.0</td>\n",
       "      <td>129.10317993164062;130.08726501464844;136.0766...</td>\n",
       "      <td>63295.375;7010.876953125;14278.6826171875;5026...</td>\n",
       "      <td>1</td>\n",
       "    </tr>\n",
       "  </tbody>\n",
       "</table>\n",
       "</div>"
      ],
      "text/plain": [
       "          PEPMASS CHARGE MSLEVEL COLLISION_ENERGY  \\\n",
       "0  623.3276257633      3       2              0.0   \n",
       "\n",
       "                                            FILENAME  \\\n",
       "0  filtered_library_mgf_files/9187af535f6e41ce958...   \n",
       "\n",
       "                         SEQ                PROTEIN       STRIP_PEPTIDE SCANS  \\\n",
       "0  +42.011AAEAAGGKYRSTVSKSKD  sp|Q96A65|EXOC4_HUMAN  AAEAAGGKYRSTVSKSKD     1   \n",
       "\n",
       "  SCAN         SCORE  FDR                                                 MZ  \\\n",
       "0    1  4.6051746015  0.0  129.10317993164062;130.08726501464844;136.0766...   \n",
       "\n",
       "                                           INTENSITY  SPECTRAL_CNT  \n",
       "0  63295.375;7010.876953125;14278.6826171875;5026...             1  "
      ]
     },
     "execution_count": 12,
     "metadata": {},
     "output_type": "execute_result"
    }
   ],
   "source": [
    "df_kb.head(1)"
   ]
  },
  {
   "cell_type": "markdown",
   "metadata": {},
   "source": [
    "# Del "
   ]
  },
  {
   "cell_type": "code",
   "execution_count": 13,
   "metadata": {
    "ExecuteTime": {
     "end_time": "2021-11-24T20:20:21.682153Z",
     "start_time": "2021-11-24T20:20:18.481891Z"
    }
   },
   "outputs": [
    {
     "name": "stdout",
     "output_type": "stream",
     "text": [
      "['2'] ['0.0'] True True ['0.0']\n"
     ]
    }
   ],
   "source": [
    "# del columns\n",
    "print(df_kb.MSLEVEL.unique(),\n",
    "     df_kb.COLLISION_ENERGY.unique(),\n",
    "     len(df_kb)==len(df_kb.SCANS.unique()),\n",
    "     len(df_kb)==len(df_kb.SCAN.unique()),\n",
    "     df_kb.FDR.unique())\n",
    "\n",
    "df_kb.drop(['MSLEVEL', 'COLLISION_ENERGY', 'SCANS', 'SCAN', 'FDR'], axis=1, inplace=True)"
   ]
  },
  {
   "cell_type": "code",
   "execution_count": 14,
   "metadata": {
    "ExecuteTime": {
     "end_time": "2021-11-24T20:23:03.872134Z",
     "start_time": "2021-11-24T20:20:21.683709Z"
    }
   },
   "outputs": [
    {
     "name": "stdout",
     "output_type": "stream",
     "text": [
      "unique protein cnt : 23,930\n",
      "massiveKB intersect uniprotDB cnt : 19,301\n",
      "only massiveKB protein cnt :4,629\n",
      "decoy protein cnt :3,970\n",
      "decoy protein example  ['XXX_sp|P01566|IFN10_HUMAN', 'XXX_sp|P07197|NFM_HUMAN']\n",
      "else protein cnt :659\n",
      "else protein example ['sp|Q5Y7A7|2B1D_HUMAN', 'sp|Q29836|1B67_HUMAN']\n",
      "deleted total precursor: 38\n",
      "deleted total row : 43,426\n"
     ]
    }
   ],
   "source": [
    "# del decoy proteins (including protein which not exist in uniprot)\n",
    "df_uni = pd.read_csv('data/uniprot/df_uni.csv')\n",
    "prot = [__ for _ in df_kb.PROTEIN.values for __ in _.split(';')]\n",
    "\n",
    "inter_prot = set(prot).intersection(set(df_uni.PROTEIN.unique()))\n",
    "onlykb_prot = set(prot).difference(set(df_uni.PROTEIN.unique()))\n",
    "else_prot = [_ for _ in onlykb_prot if 'XXX' not in _]\n",
    "decoy_prot = [_ for _ in onlykb_prot if 'XXX' in _]\n",
    "print('unique protein cnt : {:,}'.format(len(set(prot))))\n",
    "print('massiveKB intersect uniprotDB cnt : {:,}'.format(len(inter_prot)))\n",
    "print('only massiveKB protein cnt :{:,}'.format(len(onlykb_prot)))\n",
    "print('decoy protein cnt :{:,}'.format(len(decoy_prot)))\n",
    "print('decoy protein example ', decoy_prot[:2])\n",
    "print('else protein cnt :{:,}'.format(len(else_prot)))\n",
    "print('else protein example', else_prot[:2])\n",
    "\n",
    "# remove precursor which has only decoy protein\n",
    "prot = []\n",
    "for p in df_kb.PROTEIN.values:\n",
    "    p_list = p.split(';')\n",
    "    inter = set(p_list).intersection(decoy_prot)\n",
    "    if len(inter) >= 1:\n",
    "        [p_list.remove(_) for _ in inter]\n",
    "    prot.append(';'.join(p_list))\n",
    "df_kb['PROTEIN_except_decoy'] = prot\n",
    "\n",
    "decoy_idx = df_kb.loc[df_kb.PROTEIN_except_decoy==''].index\n",
    "print('deleted total precursor: {:,}'.format(len(decoy_idx)))\n",
    "\n",
    "df_kb.drop(decoy_idx, inplace=True)\n",
    "df_kb.reset_index(drop=True, inplace=True)\n",
    "\n",
    "# remove else protein (not exist in uniprot)\n",
    "prot = []\n",
    "for p in df_kb.PROTEIN_except_decoy.values:\n",
    "    p_list = p.split(';')\n",
    "    inter = set(p_list).intersection(else_prot)\n",
    "    if len(inter) >= 1:\n",
    "        [p_list.remove(_) for _ in inter]\n",
    "    prot.append(';'.join(p_list))\n",
    "df_kb['PROTEIN_except_else'] = prot\n",
    "\n",
    "else_idx = df_kb.loc[df_kb.PROTEIN_except_else==''].index\n",
    "print('deleted total row : {:,}'.format(len(else_idx)))\n",
    "\n",
    "df_kb.drop(else_idx, inplace=True)\n",
    "df_kb.reset_index(drop=True, inplace=True)"
   ]
  },
  {
   "cell_type": "code",
   "execution_count": 15,
   "metadata": {
    "ExecuteTime": {
     "end_time": "2021-11-24T20:23:04.553272Z",
     "start_time": "2021-11-24T20:23:03.873755Z"
    }
   },
   "outputs": [],
   "source": [
    "df_kb.drop(['PROTEIN_except_decoy', 'PROTEIN'], axis=1, inplace=True)\n",
    "df_kb.rename({'PROTEIN_except_else':'PROTEIN'}, axis=1, inplace=True)"
   ]
  },
  {
   "cell_type": "code",
   "execution_count": 16,
   "metadata": {
    "ExecuteTime": {
     "end_time": "2021-11-24T20:23:04.575369Z",
     "start_time": "2021-11-24T20:23:04.555253Z"
    }
   },
   "outputs": [
    {
     "data": {
      "text/html": [
       "<div>\n",
       "<style scoped>\n",
       "    .dataframe tbody tr th:only-of-type {\n",
       "        vertical-align: middle;\n",
       "    }\n",
       "\n",
       "    .dataframe tbody tr th {\n",
       "        vertical-align: top;\n",
       "    }\n",
       "\n",
       "    .dataframe thead th {\n",
       "        text-align: right;\n",
       "    }\n",
       "</style>\n",
       "<table border=\"1\" class=\"dataframe\">\n",
       "  <thead>\n",
       "    <tr style=\"text-align: right;\">\n",
       "      <th></th>\n",
       "      <th>PEPMASS</th>\n",
       "      <th>CHARGE</th>\n",
       "      <th>FILENAME</th>\n",
       "      <th>SEQ</th>\n",
       "      <th>STRIP_PEPTIDE</th>\n",
       "      <th>SCORE</th>\n",
       "      <th>MZ</th>\n",
       "      <th>INTENSITY</th>\n",
       "      <th>SPECTRAL_CNT</th>\n",
       "      <th>PROTEIN</th>\n",
       "    </tr>\n",
       "  </thead>\n",
       "  <tbody>\n",
       "    <tr>\n",
       "      <th>0</th>\n",
       "      <td>623.3276257633</td>\n",
       "      <td>3</td>\n",
       "      <td>filtered_library_mgf_files/9187af535f6e41ce958...</td>\n",
       "      <td>+42.011AAEAAGGKYRSTVSKSKD</td>\n",
       "      <td>AAEAAGGKYRSTVSKSKD</td>\n",
       "      <td>4.6051746015</td>\n",
       "      <td>129.10317993164062;130.08726501464844;136.0766...</td>\n",
       "      <td>63295.375;7010.876953125;14278.6826171875;5026...</td>\n",
       "      <td>1</td>\n",
       "      <td>sp|Q96A65|EXOC4_HUMAN</td>\n",
       "    </tr>\n",
       "  </tbody>\n",
       "</table>\n",
       "</div>"
      ],
      "text/plain": [
       "          PEPMASS CHARGE                                           FILENAME  \\\n",
       "0  623.3276257633      3  filtered_library_mgf_files/9187af535f6e41ce958...   \n",
       "\n",
       "                         SEQ       STRIP_PEPTIDE         SCORE  \\\n",
       "0  +42.011AAEAAGGKYRSTVSKSKD  AAEAAGGKYRSTVSKSKD  4.6051746015   \n",
       "\n",
       "                                                  MZ  \\\n",
       "0  129.10317993164062;130.08726501464844;136.0766...   \n",
       "\n",
       "                                           INTENSITY  SPECTRAL_CNT  \\\n",
       "0  63295.375;7010.876953125;14278.6826171875;5026...             1   \n",
       "\n",
       "                 PROTEIN  \n",
       "0  sp|Q96A65|EXOC4_HUMAN  "
      ]
     },
     "execution_count": 16,
     "metadata": {},
     "output_type": "execute_result"
    }
   ],
   "source": [
    "df_kb.head(1)"
   ]
  },
  {
   "cell_type": "markdown",
   "metadata": {},
   "source": [
    "# EDA"
   ]
  },
  {
   "cell_type": "markdown",
   "metadata": {},
   "source": [
    "* peptide length distribution"
   ]
  },
  {
   "cell_type": "code",
   "execution_count": 17,
   "metadata": {
    "ExecuteTime": {
     "end_time": "2021-11-24T20:23:05.842457Z",
     "start_time": "2021-11-24T20:23:04.576610Z"
    }
   },
   "outputs": [
    {
     "name": "stdout",
     "output_type": "stream",
     "text": [
      "minimum value : 6, maximum value : 40\n"
     ]
    },
    {
     "data": {
      "image/png": "[encoded data removed]",
      "text/plain": [
       "<Figure size 720x72 with 1 Axes>"
      ]
     },
     "metadata": {
      "needs_background": "light"
     },
     "output_type": "display_data"
    }
   ],
   "source": [
    "length_viz = {len(i):[] for i in df_kb.STRIP_PEPTIDE.values}\n",
    "for i in df_kb.STRIP_PEPTIDE.values:\n",
    "    length_viz[len(i)].append(i)\n",
    "    \n",
    "length_viz = {k:len(v) for k, v in length_viz.items()}\n",
    "x = length_viz.keys()\n",
    "print('minimum value : {}, maximum value : {}'.format(min(x), max(x)))\n",
    "y = length_viz.values()\n",
    "plt.figure(figsize=(10,1))\n",
    "plt.bar(x, y, color='orange')\n",
    "plt.title('peptide length freq')\n",
    "plt.xlabel('peptide length')\n",
    "plt.ylabel('count')\n",
    "plt.show()"
   ]
  },
  {
   "cell_type": "code",
   "execution_count": 18,
   "metadata": {
    "ExecuteTime": {
     "end_time": "2021-11-24T20:23:05.846878Z",
     "start_time": "2021-11-24T20:23:05.843784Z"
    }
   },
   "outputs": [
    {
     "name": "stdout",
     "output_type": "stream",
     "text": [
      "7~30 length cnt : 1,992,213\n",
      "7~30 length ratio : 0.94\n"
     ]
    }
   ],
   "source": [
    "# peptide length 7~30 count\n",
    "print('7~30 length cnt : {:,}\\n7~30 length ratio : {:.2f}'.format(\n",
    "    sum(length_viz[k] for k in range(7, 31)), sum(length_viz[k] for k in range(7, 31))/len(df_kb)))"
   ]
  },
  {
   "cell_type": "markdown",
   "metadata": {},
   "source": [
    "* missed cleavage distribution"
   ]
  },
  {
   "cell_type": "code",
   "execution_count": 19,
   "metadata": {
    "ExecuteTime": {
     "end_time": "2021-11-24T20:23:28.878402Z",
     "start_time": "2021-11-24T20:23:05.848063Z"
    }
   },
   "outputs": [
    {
     "data": {
      "image/png": "[encoded data removed]",
      "text/plain": [
       "<Figure size 720x72 with 1 Axes>"
      ]
     },
     "metadata": {
      "needs_background": "light"
     },
     "output_type": "display_data"
    }
   ],
   "source": [
    "tmp = [[i for i in pep[:-1] if i in 'KR'] for pep in df_kb.STRIP_PEPTIDE.values]\n",
    "miss_dic = {len(i):0 for i in tmp}\n",
    "for i in tmp:\n",
    "    miss_dic[len(i)] += 1\n",
    "\n",
    "x = miss_dic.keys()\n",
    "y = miss_dic.values()\n",
    "plt.figure(figsize=(10,1))\n",
    "plt.bar(x, y, color='orange')\n",
    "plt.title('miss cleavage count')\n",
    "plt.xlabel('miss cleavage')\n",
    "plt.ylabel('count')\n",
    "plt.show()"
   ]
  },
  {
   "cell_type": "code",
   "execution_count": 20,
   "metadata": {
    "ExecuteTime": {
     "end_time": "2021-11-24T20:23:28.882757Z",
     "start_time": "2021-11-24T20:23:28.879698Z"
    }
   },
   "outputs": [
    {
     "name": "stdout",
     "output_type": "stream",
     "text": [
      "0~2 miss cleavage cnt : 2,005,376\n",
      "0~2 miss cleavage ratio : 0.95\n"
     ]
    }
   ],
   "source": [
    "print('0~2 miss cleavage cnt : {:,}\\n0~2 miss cleavage ratio : {:.2f}'.format(\n",
    "    sum(miss_dic[k] for k in range(0,3)), sum(miss_dic[k] for k in range(0,3))/len(df_kb)))"
   ]
  },
  {
   "cell_type": "code",
   "execution_count": 21,
   "metadata": {
    "ExecuteTime": {
     "end_time": "2021-11-24T20:23:28.895154Z",
     "start_time": "2021-11-24T20:23:28.883959Z"
    }
   },
   "outputs": [
    {
     "name": "stdout",
     "output_type": "stream",
     "text": [
      "0~5 miss cleavage cnt : 2,099,255\n",
      "0~2 miss cleavage ratio : 0.99\n"
     ]
    }
   ],
   "source": [
    "print('0~5 miss cleavage cnt : {:,}\\n0~2 miss cleavage ratio : {:.2f}'.format(\n",
    "    sum(miss_dic[k] for k in range(0,5)), sum(miss_dic[k] for k in range(0,5))/len(df_kb)))"
   ]
  },
  {
   "cell_type": "markdown",
   "metadata": {},
   "source": [
    "* charge distribution"
   ]
  },
  {
   "cell_type": "code",
   "execution_count": 22,
   "metadata": {
    "ExecuteTime": {
     "end_time": "2021-11-24T20:23:29.852282Z",
     "start_time": "2021-11-24T20:23:28.896314Z"
    }
   },
   "outputs": [
    {
     "data": {
      "image/png": "[encoded data removed]",
      "text/plain": [
       "<Figure size 720x72 with 1 Axes>"
      ]
     },
     "metadata": {
      "needs_background": "light"
     },
     "output_type": "display_data"
    }
   ],
   "source": [
    "tmp = [c for c in df_kb.CHARGE.values]\n",
    "charge_dic = {c:0 for c in tmp}\n",
    "for c in tmp:\n",
    "    charge_dic[c] += 1\n",
    "\n",
    "x = charge_dic.keys()\n",
    "y = charge_dic.values()\n",
    "plt.figure(figsize=(10,1))\n",
    "plt.bar(x, y, color='orange')\n",
    "plt.title('charge count')\n",
    "plt.xlabel('charge')\n",
    "plt.ylabel('count')\n",
    "plt.show()"
   ]
  },
  {
   "cell_type": "code",
   "execution_count": 23,
   "metadata": {
    "ExecuteTime": {
     "end_time": "2021-11-24T20:23:29.962346Z",
     "start_time": "2021-11-24T20:23:29.853615Z"
    }
   },
   "outputs": [
    {
     "data": {
      "image/png": "[encoded data removed]",
      "text/plain": [
       "<Figure size 360x360 with 1 Axes>"
      ]
     },
     "metadata": {},
     "output_type": "display_data"
    }
   ],
   "source": [
    "plt.figure(figsize=(5,5))\n",
    "plt.pie(charge_dic.values(), autopct='%1.1f%%', labels=charge_dic.keys(), explode=[0.1]*len(charge_dic))\n",
    "plt.title('charge distribution')\n",
    "plt.show()"
   ]
  },
  {
   "cell_type": "code",
   "execution_count": 24,
   "metadata": {
    "ExecuteTime": {
     "end_time": "2021-11-24T20:23:29.966540Z",
     "start_time": "2021-11-24T20:23:29.963621Z"
    }
   },
   "outputs": [
    {
     "name": "stdout",
     "output_type": "stream",
     "text": [
      "1~6 charge rows / total rows :  0.9985417885593411\n"
     ]
    }
   ],
   "source": [
    "print('1~6 charge rows / total rows : ', sum([charge_dic[str(k)] for k in range(1, 7)]) / len(df_kb))"
   ]
  },
  {
   "cell_type": "markdown",
   "metadata": {},
   "source": [
    "# semi / fully tryptic ratio"
   ]
  },
  {
   "cell_type": "code",
   "execution_count": 25,
   "metadata": {
    "ExecuteTime": {
     "end_time": "2021-11-24T20:23:29.974875Z",
     "start_time": "2021-11-24T20:23:29.969205Z"
    }
   },
   "outputs": [],
   "source": [
    "def make_fullyTrypticPeptide(df_uni, MISS_CLEAVAGE):\n",
    "    peptide = []\n",
    "    TS_AA = 'KR'\n",
    "    \n",
    "    for protein in df_uni.SEQUENCE.values:\n",
    "        ts_idx = []  # tryptic site index\n",
    "        for prot_idx, aa in enumerate(protein):\n",
    "            if aa in TS_AA:\n",
    "                ts_idx.append(prot_idx)\n",
    "        for idx in range(len(ts_idx)):\n",
    "            n = MISS_CLEAVAGE\n",
    "            if idx+(n+1) > len(ts_idx)-1:  # peptide making range\n",
    "                break\n",
    "            # peptide\n",
    "            if ts_idx[idx+n+1] == len(protein)-1:  # protein C term = idx + n + 1 의 tryptic_site 가 단백질의 마지막인 경우\n",
    "                pep = protein[ts_idx[idx]] + '.' + protein[ts_idx[idx]+1:ts_idx[idx+n+1]+1] + '.-'\n",
    "            else:\n",
    "                pep = protein[ts_idx[idx]] + '.' + protein[ts_idx[idx]+1:ts_idx[idx+n+1]+1] + '.' + protein[ts_idx[idx+n+1]+1]\n",
    "            peptide.append(pep)\n",
    "    return peptide"
   ]
  },
  {
   "cell_type": "code",
   "execution_count": 26,
   "metadata": {
    "ExecuteTime": {
     "end_time": "2021-11-24T20:23:52.793041Z",
     "start_time": "2021-11-24T20:23:29.976329Z"
    }
   },
   "outputs": [],
   "source": [
    "peptide0 = make_fullyTrypticPeptide(df_uni, 0)\n",
    "peptide1 = make_fullyTrypticPeptide(df_uni, 1)\n",
    "peptide2 = make_fullyTrypticPeptide(df_uni, 2)\n",
    "peptide3 = make_fullyTrypticPeptide(df_uni, 3)\n",
    "peptide4 = make_fullyTrypticPeptide(df_uni, 4)\n",
    "\n",
    "peptide = list(set(peptide0).union(set(peptide1)).union(set(peptide2)).union(set(peptide3)).union(set(peptide4)))"
   ]
  },
  {
   "cell_type": "code",
   "execution_count": 27,
   "metadata": {
    "ExecuteTime": {
     "end_time": "2021-11-24T20:29:59.690011Z",
     "start_time": "2021-11-24T20:23:52.794884Z"
    }
   },
   "outputs": [],
   "source": [
    "trie = Trie()\n",
    "for p in [i.split('.')[1] for i in peptide]:\n",
    "    trie.insert(p)\n",
    "\n",
    "fully_tryptic = [pep for pep in df_kb.STRIP_PEPTIDE.values if trie.search(pep)==True]"
   ]
  },
  {
   "cell_type": "code",
   "execution_count": 28,
   "metadata": {
    "ExecuteTime": {
     "end_time": "2021-11-24T20:30:00.499525Z",
     "start_time": "2021-11-24T20:29:59.691903Z"
    }
   },
   "outputs": [],
   "source": [
    "STRIP_PEP = set(df_kb.STRIP_PEPTIDE.values)\n",
    "STRIP_PEP_cnt = len(STRIP_PEP)\n",
    "fULLY_PEP = set(fully_tryptic)\n",
    "fULLY_PEP_cnt = len(fULLY_PEP)\n",
    "SEMI_PEP = STRIP_PEP.difference(fULLY_PEP)\n",
    "SEMI_PEP_cnt = STRIP_PEP_cnt-fULLY_PEP_cnt"
   ]
  },
  {
   "cell_type": "code",
   "execution_count": 29,
   "metadata": {
    "ExecuteTime": {
     "end_time": "2021-11-24T20:30:00.911900Z",
     "start_time": "2021-11-24T20:30:00.500917Z"
    }
   },
   "outputs": [
    {
     "data": {
      "image/png": "[encoded data removed]",
      "text/plain": [
       "<Figure size 216x216 with 1 Axes>"
      ]
     },
     "metadata": {},
     "output_type": "display_data"
    }
   ],
   "source": [
    "plt.figure(figsize=(3,3))\n",
    "plt.pie([fULLY_PEP_cnt, SEMI_PEP_cnt], labels=['fully', 'semi / non'], autopct='%1.1f%%')\n",
    "plt.title('massIVE-KB fully/semi tryptic peptide ratio \\n(total stripped peptide cnt : {:,})'.format(STRIP_PEP_cnt))\n",
    "plt.show()"
   ]
  },
  {
   "cell_type": "markdown",
   "metadata": {},
   "source": [
    "# Filtration peptide length 7~30"
   ]
  },
  {
   "cell_type": "code",
   "execution_count": 30,
   "metadata": {
    "ExecuteTime": {
     "end_time": "2021-11-24T20:30:03.984959Z",
     "start_time": "2021-11-24T20:30:00.913299Z"
    }
   },
   "outputs": [],
   "source": [
    "df_kb_filter = df_kb.loc[df_kb.STRIP_PEPTIDE.apply(lambda x: (len(x)>=7)&(len(x)<=30))].reset_index(drop=True)"
   ]
  },
  {
   "cell_type": "code",
   "execution_count": 31,
   "metadata": {
    "ExecuteTime": {
     "end_time": "2021-11-24T20:30:03.996925Z",
     "start_time": "2021-11-24T20:30:03.986351Z"
    }
   },
   "outputs": [
    {
     "name": "stdout",
     "output_type": "stream",
     "text": [
      "(1992213, 10)\n"
     ]
    },
    {
     "data": {
      "text/html": [
       "<div>\n",
       "<style scoped>\n",
       "    .dataframe tbody tr th:only-of-type {\n",
       "        vertical-align: middle;\n",
       "    }\n",
       "\n",
       "    .dataframe tbody tr th {\n",
       "        vertical-align: top;\n",
       "    }\n",
       "\n",
       "    .dataframe thead th {\n",
       "        text-align: right;\n",
       "    }\n",
       "</style>\n",
       "<table border=\"1\" class=\"dataframe\">\n",
       "  <thead>\n",
       "    <tr style=\"text-align: right;\">\n",
       "      <th></th>\n",
       "      <th>PEPMASS</th>\n",
       "      <th>CHARGE</th>\n",
       "      <th>FILENAME</th>\n",
       "      <th>SEQ</th>\n",
       "      <th>STRIP_PEPTIDE</th>\n",
       "      <th>SCORE</th>\n",
       "      <th>MZ</th>\n",
       "      <th>INTENSITY</th>\n",
       "      <th>SPECTRAL_CNT</th>\n",
       "      <th>PROTEIN</th>\n",
       "    </tr>\n",
       "  </thead>\n",
       "  <tbody>\n",
       "    <tr>\n",
       "      <th>0</th>\n",
       "      <td>623.3276257633</td>\n",
       "      <td>3</td>\n",
       "      <td>filtered_library_mgf_files/9187af535f6e41ce958...</td>\n",
       "      <td>+42.011AAEAAGGKYRSTVSKSKD</td>\n",
       "      <td>AAEAAGGKYRSTVSKSKD</td>\n",
       "      <td>4.6051746015</td>\n",
       "      <td>129.10317993164062;130.08726501464844;136.0766...</td>\n",
       "      <td>63295.375;7010.876953125;14278.6826171875;5026...</td>\n",
       "      <td>1</td>\n",
       "      <td>sp|Q96A65|EXOC4_HUMAN</td>\n",
       "    </tr>\n",
       "  </tbody>\n",
       "</table>\n",
       "</div>"
      ],
      "text/plain": [
       "          PEPMASS CHARGE                                           FILENAME  \\\n",
       "0  623.3276257633      3  filtered_library_mgf_files/9187af535f6e41ce958...   \n",
       "\n",
       "                         SEQ       STRIP_PEPTIDE         SCORE  \\\n",
       "0  +42.011AAEAAGGKYRSTVSKSKD  AAEAAGGKYRSTVSKSKD  4.6051746015   \n",
       "\n",
       "                                                  MZ  \\\n",
       "0  129.10317993164062;130.08726501464844;136.0766...   \n",
       "\n",
       "                                           INTENSITY  SPECTRAL_CNT  \\\n",
       "0  63295.375;7010.876953125;14278.6826171875;5026...             1   \n",
       "\n",
       "                 PROTEIN  \n",
       "0  sp|Q96A65|EXOC4_HUMAN  "
      ]
     },
     "execution_count": 31,
     "metadata": {},
     "output_type": "execute_result"
    }
   ],
   "source": [
    "print(df_kb_filter.shape)\n",
    "df_kb_filter.head(1)"
   ]
  },
  {
   "cell_type": "markdown",
   "metadata": {},
   "source": [
    "# filtration precursor charge <= 6"
   ]
  },
  {
   "cell_type": "code",
   "execution_count": 32,
   "metadata": {
    "ExecuteTime": {
     "end_time": "2021-11-24T20:30:05.264661Z",
     "start_time": "2021-11-24T20:30:03.998082Z"
    }
   },
   "outputs": [],
   "source": [
    "df_kb_filter['CHARGE'] = df_kb_filter.CHARGE.apply(lambda x: int(x))"
   ]
  },
  {
   "cell_type": "code",
   "execution_count": 33,
   "metadata": {
    "ExecuteTime": {
     "end_time": "2021-11-24T20:30:06.768330Z",
     "start_time": "2021-11-24T20:30:05.266155Z"
    }
   },
   "outputs": [],
   "source": [
    "df_kb_filter = df_kb_filter.loc[df_kb_filter.CHARGE.apply(lambda x: x<=6)].reset_index(drop=True)"
   ]
  },
  {
   "cell_type": "code",
   "execution_count": 34,
   "metadata": {
    "ExecuteTime": {
     "end_time": "2021-11-24T20:30:06.779918Z",
     "start_time": "2021-11-24T20:30:06.769808Z"
    }
   },
   "outputs": [
    {
     "name": "stdout",
     "output_type": "stream",
     "text": [
      "(1991465, 10)\n"
     ]
    },
    {
     "data": {
      "text/html": [
       "<div>\n",
       "<style scoped>\n",
       "    .dataframe tbody tr th:only-of-type {\n",
       "        vertical-align: middle;\n",
       "    }\n",
       "\n",
       "    .dataframe tbody tr th {\n",
       "        vertical-align: top;\n",
       "    }\n",
       "\n",
       "    .dataframe thead th {\n",
       "        text-align: right;\n",
       "    }\n",
       "</style>\n",
       "<table border=\"1\" class=\"dataframe\">\n",
       "  <thead>\n",
       "    <tr style=\"text-align: right;\">\n",
       "      <th></th>\n",
       "      <th>PEPMASS</th>\n",
       "      <th>CHARGE</th>\n",
       "      <th>FILENAME</th>\n",
       "      <th>SEQ</th>\n",
       "      <th>STRIP_PEPTIDE</th>\n",
       "      <th>SCORE</th>\n",
       "      <th>MZ</th>\n",
       "      <th>INTENSITY</th>\n",
       "      <th>SPECTRAL_CNT</th>\n",
       "      <th>PROTEIN</th>\n",
       "    </tr>\n",
       "  </thead>\n",
       "  <tbody>\n",
       "    <tr>\n",
       "      <th>0</th>\n",
       "      <td>623.3276257633</td>\n",
       "      <td>3</td>\n",
       "      <td>filtered_library_mgf_files/9187af535f6e41ce958...</td>\n",
       "      <td>+42.011AAEAAGGKYRSTVSKSKD</td>\n",
       "      <td>AAEAAGGKYRSTVSKSKD</td>\n",
       "      <td>4.6051746015</td>\n",
       "      <td>129.10317993164062;130.08726501464844;136.0766...</td>\n",
       "      <td>63295.375;7010.876953125;14278.6826171875;5026...</td>\n",
       "      <td>1</td>\n",
       "      <td>sp|Q96A65|EXOC4_HUMAN</td>\n",
       "    </tr>\n",
       "  </tbody>\n",
       "</table>\n",
       "</div>"
      ],
      "text/plain": [
       "          PEPMASS  CHARGE                                           FILENAME  \\\n",
       "0  623.3276257633       3  filtered_library_mgf_files/9187af535f6e41ce958...   \n",
       "\n",
       "                         SEQ       STRIP_PEPTIDE         SCORE  \\\n",
       "0  +42.011AAEAAGGKYRSTVSKSKD  AAEAAGGKYRSTVSKSKD  4.6051746015   \n",
       "\n",
       "                                                  MZ  \\\n",
       "0  129.10317993164062;130.08726501464844;136.0766...   \n",
       "\n",
       "                                           INTENSITY  SPECTRAL_CNT  \\\n",
       "0  63295.375;7010.876953125;14278.6826171875;5026...             1   \n",
       "\n",
       "                 PROTEIN  \n",
       "0  sp|Q96A65|EXOC4_HUMAN  "
      ]
     },
     "execution_count": 34,
     "metadata": {},
     "output_type": "execute_result"
    }
   ],
   "source": [
    "print(df_kb_filter.shape)\n",
    "df_kb_filter.head(1)"
   ]
  },
  {
   "cell_type": "markdown",
   "metadata": {},
   "source": [
    "# EDA - count"
   ]
  },
  {
   "cell_type": "code",
   "execution_count": 35,
   "metadata": {
    "ExecuteTime": {
     "end_time": "2021-11-24T20:30:17.324809Z",
     "start_time": "2021-11-24T20:30:06.781102Z"
    }
   },
   "outputs": [
    {
     "name": "stdout",
     "output_type": "stream",
     "text": [
      "unique protein cnt : 19,291\n",
      "\n",
      "unique precursor cnt : 1,991,465\n",
      "unique noPTM precursor cnt : 1,163,969\n",
      "unique STRIP precursor cnt : 1,457,872\n",
      "\n",
      "unique peptide cnt : 1,463,793\n",
      "unique noPTM peptide cnt : 823,730\n",
      "unique STRIP peptide cnt : 1,025,874\n"
     ]
    }
   ],
   "source": [
    "prot = [__ for _ in df_kb_filter.PROTEIN.values for __ in _.split(';')]\n",
    "print('unique protein cnt : {:,}'.format(len(set(prot))))\n",
    "\n",
    "print('\\nunique precursor cnt : {:,}'.format(len({(c, p) for c, p in df_kb_filter[['CHARGE', 'SEQ']].values})))\n",
    "print('unique noPTM precursor cnt : {:,}'.format(len({(c, p) for c, p in df_kb_filter[['CHARGE', 'SEQ']].values \n",
    "                                                      if ('+' not in p) and ('-' not in p)})))\n",
    "print('unique STRIP precursor cnt : {:,}'.format(len({(c, p) for c, p in df_kb_filter[['CHARGE', 'STRIP_PEPTIDE']].values})))\n",
    "\n",
    "print('\\nunique peptide cnt : {:,}'.format(len({p for p in df_kb_filter['SEQ'].values})))\n",
    "print('unique noPTM peptide cnt : {:,}'.format(len({p for p in df_kb_filter['SEQ'].values \n",
    "                                                    if ('+' not in p) and ('-' not in p)})))\n",
    "print('unique STRIP peptide cnt : {:,}'.format(len({p for p in df_kb_filter['STRIP_PEPTIDE'].values})))"
   ]
  },
  {
   "cell_type": "code",
   "execution_count": 36,
   "metadata": {
    "ExecuteTime": {
     "end_time": "2021-11-24T20:30:17.329158Z",
     "start_time": "2021-11-24T20:30:17.326218Z"
    }
   },
   "outputs": [
    {
     "data": {
      "text/plain": [
       "(1991465, 10)"
      ]
     },
     "execution_count": 36,
     "metadata": {},
     "output_type": "execute_result"
    }
   ],
   "source": [
    "df_kb_filter.shape"
   ]
  },
  {
   "cell_type": "markdown",
   "metadata": {},
   "source": [
    "# check modification type"
   ]
  },
  {
   "cell_type": "code",
   "execution_count": 37,
   "metadata": {
    "ExecuteTime": {
     "end_time": "2021-11-24T20:30:18.339907Z",
     "start_time": "2021-11-24T20:30:17.330323Z"
    }
   },
   "outputs": [],
   "source": [
    "peps = df_kb_filter.SEQ.unique()\n",
    "ptms = [_ for _ in peps if ('+' in _) or ('-' in _)]\n",
    "noptms = [_ for _ in peps if ('+' not in _) and ('-' not in _)]"
   ]
  },
  {
   "cell_type": "code",
   "execution_count": 38,
   "metadata": {
    "ExecuteTime": {
     "end_time": "2021-11-24T20:30:18.344318Z",
     "start_time": "2021-11-24T20:30:18.341325Z"
    }
   },
   "outputs": [
    {
     "name": "stdout",
     "output_type": "stream",
     "text": [
      "1463793 823730 823730 640063\n"
     ]
    }
   ],
   "source": [
    "print(len(peps), len(peps)-len(ptms), len(noptms), len(ptms))"
   ]
  },
  {
   "cell_type": "code",
   "execution_count": 39,
   "metadata": {
    "ExecuteTime": {
     "end_time": "2021-11-24T20:30:18.514531Z",
     "start_time": "2021-11-24T20:30:18.345530Z"
    }
   },
   "outputs": [
    {
     "data": {
      "image/png": "[encoded data removed]",
      "text/plain": [
       "<Figure size 432x288 with 1 Axes>"
      ]
     },
     "metadata": {},
     "output_type": "display_data"
    }
   ],
   "source": [
    "plt.figure()\n",
    "plt.pie([len(peps)-len(ptms), len(ptms)], labels=['noPTM', 'PTM'], autopct='%1.1f%%')\n",
    "plt.title('PTM peptide ratio (total cnt : {:,})'.format(len(peps)))\n",
    "plt.show()"
   ]
  },
  {
   "cell_type": "code",
   "execution_count": 40,
   "metadata": {
    "ExecuteTime": {
     "end_time": "2021-11-24T20:30:19.180382Z",
     "start_time": "2021-11-24T20:30:18.515872Z"
    }
   },
   "outputs": [
    {
     "name": "stdout",
     "output_type": "stream",
     "text": [
      "63671 100777 219219 119832 219219 119832 189765\n"
     ]
    }
   ],
   "source": [
    "Acetyl = '+42.011'\n",
    "Carbamyl = '+43.006'\n",
    "Carbamidomethyl = '+57.021'\n",
    "Oxidation = '+15.995'\n",
    "Deamidated = '+0.984'\n",
    "Ammonia_loss = '-17.027'\n",
    "\n",
    "na = sum([1 for _ in ptms if Acetyl in _])  # N-terminal Acetylation\n",
    "cc = sum([1 for _ in ptms if 'C'+Carbamidomethyl in _])  # Fixed Carbamidomethyl C (alkylation)\n",
    "nc = sum([1 for _ in ptms if Carbamyl in _])  # N-terminal Carbamyl \n",
    "mo = sum([1 for _ in ptms if 'M'+Oxidation in _])  # Oxidation M\n",
    "o = sum([1 for _ in ptms if Oxidation in _])  # Oxidation\n",
    "c = sum([1 for _ in ptms if Carbamidomethyl in _])  # Carbamidomethyl\n",
    "d = sum([1 for _ in ptms if Deamidated in _])  # Deamidated\n",
    "al = sum([1 for _ in ptms if Ammonia_loss in _])  # Ammonia_loss\n",
    "\n",
    "print(na, nc, cc, mo, c, o, d)"
   ]
  },
  {
   "cell_type": "code",
   "execution_count": 41,
   "metadata": {
    "ExecuteTime": {
     "end_time": "2021-11-24T20:30:19.351753Z",
     "start_time": "2021-11-24T20:30:19.181730Z"
    }
   },
   "outputs": [
    {
     "name": "stdout",
     "output_type": "stream",
     "text": [
      "[219219, 189765, 119832, 100777, 63671, 26871]\n"
     ]
    }
   ],
   "source": [
    "ptm_dic = {'N_Acetyl':int(na), 'C_carba':int(cc), 'M_ox':int(mo), 'N_Carbamyl':int(nc), 'NQ_Deamidated':int(d), 'N_Ammonia':int(al)}\n",
    "\n",
    "tmp = np.array(sorted(ptm_dic.items(), key=lambda x: x[1], reverse=True))\n",
    "lab=tmp[:, 0]\n",
    "x = list(map(int, tmp[:, 1]))\n",
    "print(x)"
   ]
  },
  {
   "cell_type": "code",
   "execution_count": 42,
   "metadata": {
    "ExecuteTime": {
     "end_time": "2021-11-24T20:30:19.460621Z",
     "start_time": "2021-11-24T20:30:19.353069Z"
    }
   },
   "outputs": [
    {
     "data": {
      "image/png": "[encoded data removed]",
      "text/plain": [
       "<Figure size 720x216 with 1 Axes>"
      ]
     },
     "metadata": {
      "needs_background": "light"
     },
     "output_type": "display_data"
    }
   ],
   "source": [
    "plt.figure(figsize=(10,3))\n",
    "plt.bar(range(len(x)), x, color='gray')\n",
    "plt.xticks(range(len(x)), lab)\n",
    "plt.title('massIVE-KB PTM peptides frequency')\n",
    "plt.xlabel('PTM')\n",
    "plt.ylabel('freq')\n",
    "plt.show()"
   ]
  },
  {
   "cell_type": "code",
   "execution_count": 43,
   "metadata": {
    "ExecuteTime": {
     "end_time": "2021-11-24T20:30:27.085341Z",
     "start_time": "2021-11-24T20:30:19.461823Z"
    }
   },
   "outputs": [
    {
     "data": {
      "image/png": "[encoded data removed]",
      "text/plain": [
       "<Figure size 720x216 with 1 Axes>"
      ]
     },
     "metadata": {
      "needs_background": "light"
     },
     "output_type": "display_data"
    }
   ],
   "source": [
    "aa_dic = {k:0 for k in 'ARNDCEQGHILKMFPSTWYVXU'}\n",
    "aas_noptm = [__ for _ in ptms for __ in _]\n",
    "for a in aas_noptm:\n",
    "    if ord(a) in range(65,91):\n",
    "        aa_dic[a]+=1\n",
    "\n",
    "tmp = np.array(sorted(aa_dic.items(), key=lambda x: x[1], reverse=True))\n",
    "aa = tmp[:, 0]\n",
    "freq = list(map(int,tmp[:, 1]))\n",
    "\n",
    "plt.figure(figsize=(10,3))\n",
    "plt.bar(range(len(freq)), freq, color='gray')\n",
    "plt.xticks(range(len(freq)), aa)\n",
    "plt.title('massIVE-KB PTM peptides\\'s AA frequency')\n",
    "plt.xlabel('Amino Acid')\n",
    "plt.ylabel('freq')\n",
    "plt.show()"
   ]
  },
  {
   "cell_type": "code",
   "execution_count": 44,
   "metadata": {
    "ExecuteTime": {
     "end_time": "2021-11-24T20:30:29.153713Z",
     "start_time": "2021-11-24T20:30:27.086813Z"
    }
   },
   "outputs": [
    {
     "data": {
      "image/png": "[encoded data removed]",
      "text/plain": [
       "<Figure size 720x216 with 1 Axes>"
      ]
     },
     "metadata": {
      "needs_background": "light"
     },
     "output_type": "display_data"
    }
   ],
   "source": [
    "aa_dic = {k:0 for k in 'ARNDCEQGHILKMFPSTWYVXU'}\n",
    "aas_noptm = [__ for _ in noptms for __ in _]\n",
    "for a in aas_noptm:\n",
    "    aa_dic[a]+=1\n",
    "\n",
    "tmp = np.array(sorted(aa_dic.items(), key=lambda x: x[1], reverse=True))\n",
    "aa = tmp[:, 0]\n",
    "freq = list(map(int,tmp[:, 1]))\n",
    "\n",
    "plt.figure(figsize=(10,3))\n",
    "plt.bar(range(len(freq)), freq, color='gray')\n",
    "plt.xticks(range(len(freq)), aa)\n",
    "plt.title('massIVE-KB noPTM peptides\\'s AA frequency')\n",
    "plt.xlabel('Amino Acid')\n",
    "plt.ylabel('freq')\n",
    "plt.show()"
   ]
  },
  {
   "cell_type": "code",
   "execution_count": 45,
   "metadata": {
    "ExecuteTime": {
     "end_time": "2021-11-24T20:30:29.238797Z",
     "start_time": "2021-11-24T20:30:29.155042Z"
    }
   },
   "outputs": [
    {
     "data": {
      "text/plain": [
       "{'+43.006-', '-17.027Q'}"
      ]
     },
     "execution_count": 45,
     "metadata": {},
     "output_type": "execute_result"
    }
   ],
   "source": [
    "{_[:8] for _ in ptms if Ammonia_loss in _}"
   ]
  },
  {
   "cell_type": "markdown",
   "metadata": {},
   "source": [
    "# save"
   ]
  },
  {
   "cell_type": "code",
   "execution_count": 46,
   "metadata": {
    "ExecuteTime": {
     "end_time": "2021-11-24T20:30:29.242657Z",
     "start_time": "2021-11-24T20:30:29.240004Z"
    }
   },
   "outputs": [],
   "source": [
    "def PTM_replace(seq, dic):\n",
    "    ptms = []\n",
    "    for k in dic.keys():\n",
    "        if k in seq:\n",
    "            seq = seq.replace(k, dic[k])\n",
    "    return seq"
   ]
  },
  {
   "cell_type": "code",
   "execution_count": 47,
   "metadata": {
    "ExecuteTime": {
     "end_time": "2021-11-24T20:30:29.247836Z",
     "start_time": "2021-11-24T20:30:29.243844Z"
    }
   },
   "outputs": [],
   "source": [
    "# add index, PTM_SEQ column \n",
    "PTM_dic = {Acetyl:'(Ace)', \n",
    "           Carbamyl:'(Cab)',\n",
    "           Carbamidomethyl:'(Cabm)',\n",
    "           Oxidation: '(Ox)',\n",
    "           Deamidated: '(Dam)',\n",
    "           Ammonia_loss: '(Aml)'}"
   ]
  },
  {
   "cell_type": "code",
   "execution_count": 48,
   "metadata": {
    "ExecuteTime": {
     "end_time": "2021-11-24T20:30:30.957515Z",
     "start_time": "2021-11-24T20:30:29.248974Z"
    }
   },
   "outputs": [],
   "source": [
    "df_kb_filter['PTM_SEQ'] = df_kb_filter.SEQ.apply(lambda x: PTM_replace(x, PTM_dic)).values"
   ]
  },
  {
   "cell_type": "code",
   "execution_count": 51,
   "metadata": {
    "ExecuteTime": {
     "end_time": "2021-11-24T20:39:06.201963Z",
     "start_time": "2021-11-24T20:36:56.329492Z"
    }
   },
   "outputs": [],
   "source": [
    "df_kb_filter.to_csv('data/massIVE-KB/df_kb_filter.csv', index=False)"
   ]
  }
 ],
 "metadata": {
  "hide_input": false,
  "kernelspec": {
   "display_name": "TF2.0",
   "language": "python",
   "name": "bis"
  },
  "language_info": {
   "codemirror_mode": {
    "name": "ipython",
    "version": 3
   },
   "file_extension": ".py",
   "mimetype": "text/x-python",
   "name": "python",
   "nbconvert_exporter": "python",
   "pygments_lexer": "ipython3",
   "version": "3.6.12"
  },
  "toc": {
   "base_numbering": 1,
   "nav_menu": {},
   "number_sections": true,
   "sideBar": true,
   "skip_h1_title": false,
   "title_cell": "Table of Contents",
   "title_sidebar": "Contents",
   "toc_cell": false,
   "toc_position": {},
   "toc_section_display": true,
   "toc_window_display": false
  },
  "varInspector": {
   "cols": {
    "lenName": 16,
    "lenType": 16,
    "lenVar": 40
   },
   "kernels_config": {
    "python": {
     "delete_cmd_postfix": "",
     "delete_cmd_prefix": "del ",
     "library": "var_list.py",
     "varRefreshCmd": "print(var_dic_list())"
    },
    "r": {
     "delete_cmd_postfix": ") ",
     "delete_cmd_prefix": "rm(",
     "library": "var_list.r",
     "varRefreshCmd": "cat(var_dic_list()) "
    }
   },
   "oldHeight": 834,
   "position": {
    "height": "856px",
    "left": "4px",
    "right": "20px",
    "top": "116px",
    "width": "316px"
   },
   "types_to_exclude": [
    "module",
    "function",
    "builtin_function_or_method",
    "instance",
    "_Feature"
   ],
   "varInspector_section_display": "block",
   "window_display": false
  }
 },
 "nbformat": 4,
 "nbformat_minor": 4
}
