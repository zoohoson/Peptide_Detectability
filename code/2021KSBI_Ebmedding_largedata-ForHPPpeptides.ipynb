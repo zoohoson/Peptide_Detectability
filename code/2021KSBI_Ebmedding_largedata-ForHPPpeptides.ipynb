{
 "cells": [
  {
   "cell_type": "code",
   "execution_count": 2,
   "metadata": {
    "ExecuteTime": {
     "end_time": "2022-01-23T15:17:38.056184Z",
     "start_time": "2022-01-23T15:17:37.052635Z"
    }
   },
   "outputs": [],
   "source": [
    "import pandas as pd\n",
    "import numpy as np\n",
    "import matplotlib.pyplot as plt\n",
    "import seaborn as sns\n",
    "from sklearn.metrics import classification_report\n",
    "from sklearn.metrics import confusion_matrix\n",
    "from sklearn.metrics import roc_curve\n",
    "from sklearn.metrics import roc_auc_score\n",
    "from sklearn.model_selection import train_test_split"
   ]
  },
  {
   "cell_type": "code",
   "execution_count": 3,
   "metadata": {
    "ExecuteTime": {
     "end_time": "2022-01-23T15:17:38.805494Z",
     "start_time": "2022-01-23T15:17:38.778911Z"
    }
   },
   "outputs": [
    {
     "name": "stdout",
     "output_type": "stream",
     "text": [
      "(19, 21)\n"
     ]
    }
   ],
   "source": [
    "df_aaindex = pd.read_csv('data/aaindex/df_aaindex19.csv')\n",
    "print(df_aaindex.shape)\n",
    "df_aaindex.head(1)\n",
    "tmp = df_aaindex.drop('Unnamed: 0',axis=1).T\n",
    "aa2val = dict()\n",
    "for aa, val in zip(tmp.index, tmp.values):\n",
    "    aa2val[aa]=val"
   ]
  },
  {
   "cell_type": "code",
   "execution_count": 4,
   "metadata": {
    "ExecuteTime": {
     "end_time": "2022-01-23T15:17:41.779416Z",
     "start_time": "2022-01-23T15:17:39.695456Z"
    }
   },
   "outputs": [],
   "source": [
    "df_detect_peptide_train = pd.read_csv('data/df_detect_peptide_train.csv')\n",
    "test = pd.read_csv('data/df_detect_peptide_test.csv')"
   ]
  },
  {
   "cell_type": "code",
   "execution_count": 5,
   "metadata": {
    "ExecuteTime": {
     "end_time": "2022-01-23T15:17:42.324839Z",
     "start_time": "2022-01-23T15:17:41.780692Z"
    }
   },
   "outputs": [],
   "source": [
    "train, val = train_test_split(df_detect_peptide_train, test_size=0.2, random_state=7)"
   ]
  },
  {
   "cell_type": "code",
   "execution_count": 6,
   "metadata": {
    "ExecuteTime": {
     "end_time": "2022-01-23T15:17:42.341057Z",
     "start_time": "2022-01-23T15:17:42.326254Z"
    }
   },
   "outputs": [
    {
     "data": {
      "text/html": [
       "<div>\n",
       "<style scoped>\n",
       "    .dataframe tbody tr th:only-of-type {\n",
       "        vertical-align: middle;\n",
       "    }\n",
       "\n",
       "    .dataframe tbody tr th {\n",
       "        vertical-align: top;\n",
       "    }\n",
       "\n",
       "    .dataframe thead th {\n",
       "        text-align: right;\n",
       "    }\n",
       "</style>\n",
       "<table border=\"1\" class=\"dataframe\">\n",
       "  <thead>\n",
       "    <tr style=\"text-align: right;\">\n",
       "      <th></th>\n",
       "      <th>peptide</th>\n",
       "      <th>En</th>\n",
       "      <th>Ec</th>\n",
       "      <th>E1</th>\n",
       "      <th>E2</th>\n",
       "      <th>protein</th>\n",
       "      <th>PEP</th>\n",
       "      <th>ID</th>\n",
       "    </tr>\n",
       "  </thead>\n",
       "  <tbody>\n",
       "    <tr>\n",
       "      <th>595411</th>\n",
       "      <td>K.QELNEPPKQSTSFLVLQEILESEEKGDPNK.P</td>\n",
       "      <td>VYKMLQEKQELNEPP</td>\n",
       "      <td>EEKGDPNKPSGFRSV</td>\n",
       "      <td>QELNEPPKQSTSFLV</td>\n",
       "      <td>EILESEEKGDPNKPS</td>\n",
       "      <td>sp|O00151|PDLI1_HUMAN</td>\n",
       "      <td>QELNEPPKQSTSFLVLQEILESEEKGDPNK</td>\n",
       "      <td>0</td>\n",
       "    </tr>\n",
       "  </tbody>\n",
       "</table>\n",
       "</div>"
      ],
      "text/plain": [
       "                                   peptide               En               Ec  \\\n",
       "595411  K.QELNEPPKQSTSFLVLQEILESEEKGDPNK.P  VYKMLQEKQELNEPP  EEKGDPNKPSGFRSV   \n",
       "\n",
       "                     E1               E2                protein  \\\n",
       "595411  QELNEPPKQSTSFLV  EILESEEKGDPNKPS  sp|O00151|PDLI1_HUMAN   \n",
       "\n",
       "                                   PEP  ID  \n",
       "595411  QELNEPPKQSTSFLVLQEILESEEKGDPNK   0  "
      ]
     },
     "execution_count": 6,
     "metadata": {},
     "output_type": "execute_result"
    }
   ],
   "source": [
    "train.head(1)"
   ]
  },
  {
   "cell_type": "markdown",
   "metadata": {},
   "source": [
    "# HPP proteins"
   ]
  },
  {
   "cell_type": "code",
   "execution_count": 7,
   "metadata": {
    "ExecuteTime": {
     "end_time": "2022-01-23T15:21:42.206027Z",
     "start_time": "2022-01-23T15:17:48.533914Z"
    }
   },
   "outputs": [
    {
     "name": "stdout",
     "output_type": "stream",
     "text": [
      "del rows(including U, X amino acid) cnt : 11,806\n",
      "peptide with 1 spectral count (remove this peptide) cnt :  0\n",
      "----ID/nonID cnt----\n",
      " 0    4743073\n",
      "1      47314\n",
      "Name: ID, dtype: int64\n",
      "----final shape----\n",
      " (4790387, 8)\n",
      "(47314, 8)\n",
      "953\n"
     ]
    }
   ],
   "source": [
    "import sys\n",
    "PATH_TO_REPO = \"/home/bis/2021_SJH_detectability/Detectability/\"\n",
    "sys.path.append(PATH_TO_REPO)\n",
    "from utils import *\n",
    "\n",
    "df_hpp = pd.read_csv('compareModel/2019Bioinformatics_DeepMSPeptide/Datasets/HPP_validation_peptides.txt', sep='\\t')\n",
    "df_hpp_under30 = df_hpp.loc[df_hpp.Peptide_seq.apply(lambda x: len(x)<=30 and len(x) >= 7)].reset_index(drop=True)\n",
    "df_uni = pd.read_csv('data/uniprot/df_uni.csv')\n",
    "\n",
    "pep2cnt = dict()\n",
    "cnt = 2\n",
    "for p in df_hpp_under30.Peptide_seq.values:\n",
    "    if p not in pep2cnt:\n",
    "        pep2cnt[p] = 0\n",
    "    pep2cnt[p] += cnt\n",
    "\n",
    "pep_tree = tree_from_pep(df_hpp_under30.Peptide_seq.unique())\n",
    "\n",
    "def pep_from_prot(df_uni, MISS_CLEAVAGE, thres=4):\n",
    "    peptide = []\n",
    "    TS_AA = 'KR'\n",
    "\n",
    "    for protein, pname in df_uni[['SEQUENCE', 'PROTEIN']].values:\n",
    "        \n",
    "        ts_idx = []  # tryptic site index\n",
    "        for prot_idx, aa in enumerate(protein):\n",
    "            if aa in TS_AA:\n",
    "                ts_idx.append(prot_idx)\n",
    "        for idx in range(len(ts_idx)):\n",
    "            n = MISS_CLEAVAGE\n",
    "            if idx+(n+1) > len(ts_idx)-1:  # peptide making range\n",
    "                break\n",
    "\n",
    "            # protein N term\n",
    "            if (ts_idx[idx]<=(thres - 1)) and (ts_idx[idx] >= len(protein) -1 -(thres - 1)):  # -MNQKLLK- 앞뒤 다 부족한 경우\n",
    "                en = 'Z' * (thres - ts_idx[idx]) + protein[: ts_idx[idx]+(thres + 1)] + 'Z' * (thres - (len(protein)-1 - ts_idx[idx]))\n",
    "            elif ts_idx[idx]<=(thres - 1):\n",
    "                en = 'Z' * (thres - ts_idx[idx]) + protein[: ts_idx[idx]+(thres + 1)]\n",
    "            elif ts_idx[idx] >= len(protein) -1 -(thres - 1):  # for EAQDRRN : 끝이 부족한 경우\n",
    "                en = protein[ts_idx[idx]-thres:] + 'Z' * (thres - (len(protein)-1 - ts_idx[idx]))\n",
    "            else:\n",
    "                en = protein[ts_idx[idx]-thres: ts_idx[idx]+(thres + 1)]\n",
    "\n",
    "            # protein C term\n",
    "            if (ts_idx[idx+n+1] >= len(protein) -1 -(thres - 1)) and (ts_idx[idx+n+1] <= (thres - 1)):\n",
    "                ec = 'Z' * (thres - ts_idx[idx+n+1]) + protein[: ts_idx[idx+n+1]+(thres + 1)]  + 'Z' * (thres - (len(protein)-1 - ts_idx[idx+n+1]))\n",
    "            elif ts_idx[idx+n+1] >= len(protein) -1 -(thres - 1):\n",
    "                ec = protein[ts_idx[idx+n+1] - thres :] + 'Z' * (thres - (len(protein)-1 - ts_idx[idx+n+1]))\n",
    "            elif ts_idx[idx+n+1] <= (thres - 1):  # for -MRRS : 시작이 부족한 경우\n",
    "                ec = 'Z' * (thres - ts_idx[idx+n+1]) + protein[: ts_idx[idx+n+1]+(thres + 1)]\n",
    "            else:\n",
    "                ec = protein[ts_idx[idx+n+1] - thres : ts_idx[idx+n+1] +(thres + 1)]  # n+1번째 tryptic_site\n",
    "                    \n",
    "            # Peptide miss cleavage\n",
    "            if n != 0:  # miss cleavage 고려하는 경우,\n",
    "                ei = []\n",
    "                for i in range(1, n+1):\n",
    "                    if (ts_idx[idx+i] <= (thres - 1)) and (ts_idx[idx+i] >= len(protein) -1 -(thres - 1)):\n",
    "                        # both padding case\n",
    "                        ei_tmp = 'Z' * (thres - ts_idx[idx+i]) + protein + 'Z' * (thres - (len(protein)-1 - ts_idx[idx+i]))\n",
    "                        \n",
    "                    elif ts_idx[idx+i] >= len(protein) -1 -(thres - 1):\n",
    "                        # 'MTTRGFSCLLLLI R EIDLSAKRRI' : ts_idx= 3, 13, 20, 21, 22\n",
    "                        # -> N_term : 3, C_term : 20, m1_term : 13 in miss_cleavage==1 case\n",
    "                        # ts_idx[idx+i]=13, len(protein)-1-(thres-1)=24-1-14=9, if True case.\n",
    "                        # right padding case.\n",
    "                        ei_tmp = protein[ts_idx[idx+i] - thres :] + 'Z' * (thres - (len(protein)-1 - ts_idx[idx+i]))\n",
    "                        \n",
    "                    elif ts_idx[idx+i] <= (thres - 1):\n",
    "                        # left padding case\n",
    "                        ei_tmp = 'Z' * (thres - ts_idx[idx+i]) + protein[: ts_idx[idx+i]+(thres + 1)]\n",
    "                    \n",
    "                    else:\n",
    "                        # no pad case.\n",
    "                        ei_tmp = protein[ts_idx[idx+i] - thres : ts_idx[idx+i] +(thres + 1)]\n",
    "                    ei.append(ei_tmp)\n",
    "            else:  # miss cleavage 고려안하는 경우\n",
    "                ei = []\n",
    "            # peptide\n",
    "            if ts_idx[idx+n+1] == len(protein)-1:  # protein C term = idx + n + 1 의 tryptic_site 가 단백질의 마지막인 경우\n",
    "                pep = protein[ts_idx[idx]] + '.' + protein[ts_idx[idx]+1:ts_idx[idx+n+1]+1] + '.Z'\n",
    "            else:\n",
    "                pep = protein[ts_idx[idx]] + '.' + protein[ts_idx[idx]+1:ts_idx[idx+n+1]+1] + '.' + protein[ts_idx[idx+n+1]+1]\n",
    "\n",
    "            peptide.append({pep:[[en], [ec], ei, pname]})\n",
    "    return peptide\n",
    "\n",
    "def pep_detection_labelling(df_ided_protein=df_uni, pep_tree=pep_tree, pep2cnt=pep2cnt):\n",
    "    peptide0 = pep_from_prot(df_ided_protein, 0, thres=7)\n",
    "    peps = [list(dic.keys())[0] for dic in peptide0]\n",
    "    ens = [list(dic.values())[0][0] for dic in peptide0]\n",
    "    ecs = [list(dic.values())[0][1] for dic in peptide0]\n",
    "    eis = [list(dic.values())[0][2] for dic in peptide0]\n",
    "    pname = [list(dic.values())[0][3] for dic in peptide0]\n",
    "    zero = pd.DataFrame([[p, n[0], c[0], '-', '-', pn] \n",
    "                         for p, n, c, m, pn in zip(peps, ens, ecs, eis, pname)],\n",
    "                columns=['peptide', 'En', 'Ec', 'E1', 'E2', 'protein'])\n",
    "    zero['PEP'] = [i.split('.')[1] for i in zero.peptide.values]\n",
    "\n",
    "    peptide1 = pep_from_prot(df_ided_protein, 1, thres=7)\n",
    "    peps = [list(dic.keys())[0] for dic in peptide1]\n",
    "    ens = [list(dic.values())[0][0] for dic in peptide1]\n",
    "    ecs = [list(dic.values())[0][1] for dic in peptide1]\n",
    "    eis = [list(dic.values())[0][2] for dic in peptide1]\n",
    "    pname = [list(dic.values())[0][3] for dic in peptide1]\n",
    "    one = pd.DataFrame([[p, n[0], c[0], m[0], '-', pn]\n",
    "                        for p, n, c, m, pn in zip(peps, ens, ecs, eis, pname)],\n",
    "                columns=['peptide', 'En', 'Ec', 'E1', 'E2', 'protein'])\n",
    "    one['PEP'] = [i.split('.')[1] for i in one.peptide.values]\n",
    "\n",
    "    peptide2 = pep_from_prot(df_ided_protein, 2, thres=7)\n",
    "    peps = [list(dic.keys())[0] for dic in peptide2]\n",
    "    ens = [list(dic.values())[0][0] for dic in peptide2]\n",
    "    ecs = [list(dic.values())[0][1] for dic in peptide2]\n",
    "    eis = [list(dic.values())[0][2] for dic in peptide2]\n",
    "    pname = [list(dic.values())[0][3] for dic in peptide2]\n",
    "    two = pd.DataFrame([[p, n[0], c[0], m[0], m[1], pn]\n",
    "                        for p, n, c, m, pn in zip(peps, ens, ecs, eis, pname)],\n",
    "                columns=['peptide', 'En', 'Ec', 'E1', 'E2', 'protein'])\n",
    "    two['PEP'] = [i.split('.')[1] for i in two.peptide.values]\n",
    "\n",
    "    zero_filter = zero.loc[zero.PEP.apply(lambda x: (len(x)>=7) and (len(x)<=30))]\n",
    "    one_filter = one.loc[one.PEP.apply(lambda x: (len(x)>=7) and (len(x)<=30))]\n",
    "    two_filter = two.loc[two.PEP.apply(lambda x: (len(x)>=7) and (len(x)<=30))]\n",
    "\n",
    "    df_fully = pd.concat([zero_filter, one_filter, two_filter], axis=0).reset_index(drop=True)\n",
    "\n",
    "    # preprocessing\n",
    "    amino = list(\"ARNDCEQGHILKMFPSTWYVZ\")\n",
    "    check_u = [idx for idx, t in enumerate(df_fully.PEP.values) if 'U' in t]\n",
    "    check_x = [idx for idx, t in enumerate(df_fully.PEP.values) if 'X' in t]\n",
    "    check_n = [idx for idx, t in enumerate(df_fully.En.values) if (sum([1 for a in t if a not in amino]) >= 1) and t !='-']\n",
    "    check_c = [idx for idx, t in enumerate(df_fully.Ec.values) if (sum([1 for a in t if a not in amino]) >= 1) and t !='-']\n",
    "    check_1 = [idx for idx, t in enumerate(df_fully.E1.values) if (sum([1 for a in t if a not in amino]) >= 1) and t !='-']\n",
    "    check_2 = [idx for idx, t in enumerate(df_fully.E2.values) if (sum([1 for a in t if a not in amino]) >= 1) and t !='-']\n",
    "    check = list(set(check_n).union(set(check_c)).union(set(check_1)).union(set(check_2)).union(set(check_u)).union(set(check_x)))\n",
    "    print('del rows(including U, X amino acid) cnt : {:,}'.format(len(check)))\n",
    "    df_fully = df_fully.drop(check).reset_index(drop=True)\n",
    "\n",
    "    ided = []\n",
    "    for fully_pep in df_fully.PEP.values:\n",
    "        results = [i for i in pep_tree.search_all(fully_pep)]\n",
    "        if len(results) != 0:\n",
    "            result_pep = [_[0] for _ in results]\n",
    "            if fully_pep in result_pep:  # 정확히 똑같은 pep 있는 경우\n",
    "                if pep2cnt[fully_pep] > 1:\n",
    "                    ided.append(1)\n",
    "                else:\n",
    "                    ided.append(-1)  # SC1인 경우는 제거하자\n",
    "            else:\n",
    "                ided.append(0)\n",
    "        else:\n",
    "            ided.append(0)\n",
    "    df_fully['ID'] = ided\n",
    "\n",
    "    drop_idx = df_fully.loc[df_fully.ID==-1].index\n",
    "    print('peptide with 1 spectral count (remove this peptide) cnt : ', len(drop_idx))\n",
    "    df_fully = df_fully.drop(drop_idx).reset_index(drop=True)\n",
    "\n",
    "    drop_idx = np.where(df_fully.duplicated()==True)[0]\n",
    "    df_fully = df_fully.drop(drop_idx).reset_index(drop=True)\n",
    "\n",
    "    print('----ID/nonID cnt----\\n', df_fully.ID.value_counts())  # massIVE-KB : half is semi_non_tryptic, half is fully_tryptic\n",
    "    print('----final shape----\\n', df_fully.shape)\n",
    "    df_fully.head(1)\n",
    "    return df_fully\n",
    "\n",
    "df_hpp_ = pep_detection_labelling()\n",
    "\n",
    "df_hpp_ = df_hpp_.loc[df_hpp_.ID==1]\n",
    "\n",
    "print(df_hpp_.shape)\n",
    "df_hpp_.head(2)\n",
    "\n",
    "unip = set(df_hpp_.PEP.unique())\n",
    "hppp = set(df_hpp_under30.Peptide_seq.unique())\n",
    "nonp = hppp.difference(unip)\n",
    "\n",
    "print(len(hppp)-len(unip))"
   ]
  },
  {
   "cell_type": "code",
   "execution_count": 8,
   "metadata": {
    "ExecuteTime": {
     "end_time": "2022-01-23T15:23:38.337814Z",
     "start_time": "2022-01-23T15:23:38.224134Z"
    }
   },
   "outputs": [
    {
     "name": "stdout",
     "output_type": "stream",
     "text": [
      "total hpp dataset cnt : 23910\n",
      " 7<= <=30 filtration cnt : 3046\n",
      " semi trpytic cnt : 953\n",
      "remain HPP peptides cnt :  19911\n",
      "(21522, 8)\n"
     ]
    }
   ],
   "source": [
    "print('total hpp dataset cnt : {}\\n \\\n",
    "7<= <=30 filtration cnt : {}\\n \\\n",
    "semi trpytic cnt : {}'.format(len(df_hpp), len(df_hpp)-len(df_hpp_under30), len(hppp)-len(unip)))\n",
    "\n",
    "print('remain HPP peptides cnt : ', len(unip))\n",
    "\n",
    "df_hpp_uniq = df_hpp_[['peptide', 'En', 'Ec', 'E1', 'E2', 'PEP', 'ID']].drop_duplicates().reset_index(drop=True)\n",
    "df_hpp_uniq = df_hpp_uniq.merge(df_hpp, left_on='PEP', right_on='Peptide_seq', how='inner').drop(['Peptide_seq'], axis=1)\n",
    "\n",
    "print(df_hpp_uniq.shape)"
   ]
  },
  {
   "cell_type": "code",
   "execution_count": 9,
   "metadata": {
    "ExecuteTime": {
     "end_time": "2022-01-23T15:24:44.827421Z",
     "start_time": "2022-01-23T15:24:44.563665Z"
    }
   },
   "outputs": [],
   "source": [
    "train_del_idx = [idx for idx, p in zip(train.index, train.PEP.values) if p in unip]\n",
    "val_del_idx = [idx for idx, p in zip(val.index, val.PEP.values) if p in unip]"
   ]
  },
  {
   "cell_type": "code",
   "execution_count": 10,
   "metadata": {
    "ExecuteTime": {
     "end_time": "2022-01-23T15:24:53.805592Z",
     "start_time": "2022-01-23T15:24:53.802885Z"
    }
   },
   "outputs": [
    {
     "name": "stdout",
     "output_type": "stream",
     "text": [
      "8325 2144\n"
     ]
    }
   ],
   "source": [
    "print(len(train_del_idx), len(val_del_idx))"
   ]
  },
  {
   "cell_type": "code",
   "execution_count": 11,
   "metadata": {
    "ExecuteTime": {
     "end_time": "2022-01-23T15:25:04.040045Z",
     "start_time": "2022-01-23T15:25:03.666009Z"
    }
   },
   "outputs": [],
   "source": [
    "train = train.drop(train_del_idx).reset_index(drop=True)\n",
    "val = val.drop(val_del_idx).reset_index(drop=True)"
   ]
  },
  {
   "cell_type": "code",
   "execution_count": 13,
   "metadata": {
    "ExecuteTime": {
     "end_time": "2022-01-23T15:25:58.002464Z",
     "start_time": "2022-01-23T15:25:54.538263Z"
    }
   },
   "outputs": [],
   "source": [
    "train.to_csv('compareModel/2021MDPI_CapsNet/train.csv')\n",
    "val.to_csv('compareModel/2021MDPI_CapsNet/val.csv')\n",
    "test.to_csv('compareModel/2021MDPI_CapsNet/test.csv')"
   ]
  },
  {
   "cell_type": "code",
   "execution_count": 14,
   "metadata": {
    "ExecuteTime": {
     "end_time": "2022-01-23T15:25:59.536393Z",
     "start_time": "2022-01-23T15:25:59.529687Z"
    }
   },
   "outputs": [],
   "source": [
    "def get_data_labelEnc(df):\n",
    "    label_enc = {v:k+1 for k, v in enumerate('ARNDCQEGHILKMFPSTWYV')}\n",
    "    label_enc['Z']=0\n",
    "    aa_data = [np.array([seq.count(a) for a in 'ARNDCQEGHILKMFPSTWYV'] + list(np.array([aa2val[aa] for aa in seq]).sum(axis=0)))\n",
    "               for seq in df.PEP.values]\n",
    "    pep_data = [[label_enc[aa] for aa in seq] + [0]*(30-len(seq))\n",
    "               for seq in df.PEP.values]\n",
    "    en_data = [[label_enc[aa] for aa in seq]\n",
    "               for seq in df.En.values]\n",
    "    ec_data = [[label_enc[aa] for aa in seq]\n",
    "               for seq in df.Ec.values]\n",
    "    e1_data = [[label_enc[aa] for aa in seq]\n",
    "               if seq != '-' else [0 for _ in range(15)]\n",
    "               for seq in df.E1.values]\n",
    "    e2_data = [[label_enc[aa] for aa in seq]\n",
    "               if seq != '-' else [0 for _ in range(15)]\n",
    "               for seq in df.E2.values]\n",
    "    return np.array(aa_data), np.array(pep_data), np.array(en_data), np.array(ec_data), np.array(e1_data), np.array(e2_data), np.array(df.ID.values)"
   ]
  },
  {
   "cell_type": "code",
   "execution_count": 15,
   "metadata": {
    "ExecuteTime": {
     "end_time": "2022-01-23T15:26:03.853879Z",
     "start_time": "2022-01-23T15:26:03.850956Z"
    }
   },
   "outputs": [
    {
     "name": "stdout",
     "output_type": "stream",
     "text": [
      "{'A': 1, 'R': 2, 'N': 3, 'D': 4, 'C': 5, 'Q': 6, 'E': 7, 'G': 8, 'H': 9, 'I': 10, 'L': 11, 'K': 12, 'M': 13, 'F': 14, 'P': 15, 'S': 16, 'T': 17, 'W': 18, 'Y': 19, 'V': 20}\n"
     ]
    }
   ],
   "source": [
    "label_enc = {v:k+1 for k, v in enumerate('ARNDCQEGHILKMFPSTWYV')}\n",
    "print(label_enc)"
   ]
  },
  {
   "cell_type": "code",
   "execution_count": 16,
   "metadata": {
    "ExecuteTime": {
     "end_time": "2022-01-23T15:26:42.341005Z",
     "start_time": "2022-01-23T15:26:04.004504Z"
    }
   },
   "outputs": [
    {
     "name": "stdout",
     "output_type": "stream",
     "text": [
      "(535191, 39) (535191, 30) (535191, 15) (535191, 15) (535191, 15) (535191, 15) (535191,)\n",
      "(133736, 39) (133736, 30) (133736, 15) (133736, 15) (133736, 15) (133736, 15) (133736,)\n",
      "(133992, 39) (133992, 30) (133992, 15) (133992, 15) (133992, 15) (133992, 15) (133992,)\n"
     ]
    }
   ],
   "source": [
    "aa_train, pep_train, en_train, ec_train, e1_train, e2_train, y_train = get_data_labelEnc(train)\n",
    "aa_val, pep_val, en_val, ec_val, e1_val, e2_val, y_val = get_data_labelEnc(val)\n",
    "aa_test, pep_test, en_test, ec_test, e1_test, e2_test, y_test = get_data_labelEnc(test)\n",
    "print(aa_train.shape, pep_train.shape, en_train.shape, ec_train.shape, e1_train.shape, e2_train.shape, y_train.shape)\n",
    "print(aa_val.shape, pep_val.shape, en_val.shape, ec_val.shape, e1_val.shape, e2_val.shape, y_val.shape)\n",
    "print(aa_test.shape, pep_test.shape, en_test.shape, ec_test.shape, e1_test.shape, e2_test.shape, y_test.shape)"
   ]
  },
  {
   "cell_type": "markdown",
   "metadata": {},
   "source": [
    "# Train"
   ]
  },
  {
   "cell_type": "code",
   "execution_count": 17,
   "metadata": {
    "ExecuteTime": {
     "end_time": "2022-01-23T15:26:43.764619Z",
     "start_time": "2022-01-23T15:26:42.342285Z"
    }
   },
   "outputs": [],
   "source": [
    "from tensorflow.python.client import device_lib\n",
    "\n",
    "import tensorflow as tf\n",
    "gpus = tf.config.experimental.list_physical_devices('GPU')\n",
    "if gpus:\n",
    "    try:\n",
    "        tf.config.experimental.set_virtual_device_configuration(gpus[0],\n",
    "        [tf.config.experimental.VirtualDeviceConfiguration(memory_limit=1024*2)])\n",
    "    except RuntimeError as e:\n",
    "        print(e)"
   ]
  },
  {
   "cell_type": "code",
   "execution_count": 18,
   "metadata": {
    "ExecuteTime": {
     "end_time": "2022-01-23T15:26:43.768598Z",
     "start_time": "2022-01-23T15:26:43.766044Z"
    }
   },
   "outputs": [],
   "source": [
    "def plot_graphs(history, metric):\n",
    "    plt.plot(history.history[metric])\n",
    "    plt.plot(history.history['val_'+metric], '')\n",
    "    plt.xlabel(\"Epochs\")\n",
    "    plt.ylabel(metric)\n",
    "    plt.legend([metric, 'val_'+metric])"
   ]
  },
  {
   "cell_type": "markdown",
   "metadata": {},
   "source": [
    "# high param"
   ]
  },
  {
   "cell_type": "code",
   "execution_count": 19,
   "metadata": {
    "ExecuteTime": {
     "end_time": "2022-01-23T15:26:43.773709Z",
     "start_time": "2022-01-23T15:26:43.769613Z"
    }
   },
   "outputs": [],
   "source": [
    "from tensorflow import keras"
   ]
  },
  {
   "cell_type": "code",
   "execution_count": 20,
   "metadata": {
    "ExecuteTime": {
     "end_time": "2022-01-23T15:26:50.996327Z",
     "start_time": "2022-01-23T15:26:43.774686Z"
    },
    "scrolled": true
   },
   "outputs": [
    {
     "name": "stdout",
     "output_type": "stream",
     "text": [
      "Model: \"model\"\n",
      "__________________________________________________________________________________________________\n",
      "Layer (type)                    Output Shape         Param #     Connected to                     \n",
      "==================================================================================================\n",
      "input_1 (InputLayer)            [(None, 30)]         0                                            \n",
      "__________________________________________________________________________________________________\n",
      "input_3 (InputLayer)            [(None, 15)]         0                                            \n",
      "__________________________________________________________________________________________________\n",
      "input_4 (InputLayer)            [(None, 15)]         0                                            \n",
      "__________________________________________________________________________________________________\n",
      "input_5 (InputLayer)            [(None, 15)]         0                                            \n",
      "__________________________________________________________________________________________________\n",
      "input_6 (InputLayer)            [(None, 15)]         0                                            \n",
      "__________________________________________________________________________________________________\n",
      "embedding (Embedding)           (None, 30, 32)       672         input_1[0][0]                    \n",
      "__________________________________________________________________________________________________\n",
      "embedding_1 (Embedding)         (None, 15, 16)       336         input_3[0][0]                    \n",
      "__________________________________________________________________________________________________\n",
      "embedding_2 (Embedding)         (None, 15, 16)       336         input_4[0][0]                    \n",
      "__________________________________________________________________________________________________\n",
      "embedding_3 (Embedding)         (None, 15, 16)       336         input_5[0][0]                    \n",
      "__________________________________________________________________________________________________\n",
      "embedding_4 (Embedding)         (None, 15, 16)       336         input_6[0][0]                    \n",
      "__________________________________________________________________________________________________\n",
      "dropout (Dropout)               (None, 30, 32)       0           embedding[0][0]                  \n",
      "__________________________________________________________________________________________________\n",
      "dropout_1 (Dropout)             (None, 15, 16)       0           embedding_1[0][0]                \n",
      "__________________________________________________________________________________________________\n",
      "dropout_2 (Dropout)             (None, 15, 16)       0           embedding_2[0][0]                \n",
      "__________________________________________________________________________________________________\n",
      "dropout_3 (Dropout)             (None, 15, 16)       0           embedding_3[0][0]                \n",
      "__________________________________________________________________________________________________\n",
      "dropout_4 (Dropout)             (None, 15, 16)       0           embedding_4[0][0]                \n",
      "__________________________________________________________________________________________________\n",
      "bidirectional_4 (Bidirectional) (None, 32)           6272        dropout[0][0]                    \n",
      "__________________________________________________________________________________________________\n",
      "input_2 (InputLayer)            [(None, 39)]         0                                            \n",
      "__________________________________________________________________________________________________\n",
      "bidirectional (Bidirectional)   (None, 16)           1600        dropout_1[0][0]                  \n",
      "__________________________________________________________________________________________________\n",
      "bidirectional_1 (Bidirectional) (None, 16)           1600        dropout_2[0][0]                  \n",
      "__________________________________________________________________________________________________\n",
      "bidirectional_2 (Bidirectional) (None, 16)           1600        dropout_3[0][0]                  \n",
      "__________________________________________________________________________________________________\n",
      "bidirectional_3 (Bidirectional) (None, 16)           1600        dropout_4[0][0]                  \n",
      "__________________________________________________________________________________________________\n",
      "dense_5 (Dense)                 (None, 16)           528         bidirectional_4[0][0]            \n",
      "__________________________________________________________________________________________________\n",
      "dense (Dense)                   (None, 32)           1280        input_2[0][0]                    \n",
      "__________________________________________________________________________________________________\n",
      "dense_1 (Dense)                 (None, 8)            136         bidirectional[0][0]              \n",
      "__________________________________________________________________________________________________\n",
      "dense_2 (Dense)                 (None, 8)            136         bidirectional_1[0][0]            \n",
      "__________________________________________________________________________________________________\n",
      "dense_3 (Dense)                 (None, 8)            136         bidirectional_2[0][0]            \n",
      "__________________________________________________________________________________________________\n",
      "dense_4 (Dense)                 (None, 8)            136         bidirectional_3[0][0]            \n",
      "__________________________________________________________________________________________________\n",
      "dropout_10 (Dropout)            (None, 16)           0           dense_5[0][0]                    \n",
      "__________________________________________________________________________________________________\n",
      "dropout_5 (Dropout)             (None, 32)           0           dense[0][0]                      \n",
      "__________________________________________________________________________________________________\n",
      "dropout_6 (Dropout)             (None, 8)            0           dense_1[0][0]                    \n",
      "__________________________________________________________________________________________________\n",
      "dropout_7 (Dropout)             (None, 8)            0           dense_2[0][0]                    \n",
      "__________________________________________________________________________________________________\n",
      "dropout_8 (Dropout)             (None, 8)            0           dense_3[0][0]                    \n",
      "__________________________________________________________________________________________________\n",
      "dropout_9 (Dropout)             (None, 8)            0           dense_4[0][0]                    \n",
      "__________________________________________________________________________________________________\n",
      "concatenate (Concatenate)       (None, 80)           0           dropout_10[0][0]                 \n",
      "                                                                 dropout_5[0][0]                  \n",
      "                                                                 dropout_6[0][0]                  \n",
      "                                                                 dropout_7[0][0]                  \n",
      "                                                                 dropout_8[0][0]                  \n",
      "                                                                 dropout_9[0][0]                  \n",
      "__________________________________________________________________________________________________\n",
      "dense_6 (Dense)                 (None, 64)           5184        concatenate[0][0]                \n",
      "__________________________________________________________________________________________________\n",
      "dropout_11 (Dropout)            (None, 64)           0           dense_6[0][0]                    \n",
      "__________________________________________________________________________________________________\n",
      "dense_7 (Dense)                 (None, 32)           2080        dropout_11[0][0]                 \n",
      "__________________________________________________________________________________________________\n",
      "dropout_12 (Dropout)            (None, 32)           0           dense_7[0][0]                    \n",
      "__________________________________________________________________________________________________\n",
      "dense_8 (Dense)                 (None, 1)            33          dropout_12[0][0]                 \n",
      "==================================================================================================\n",
      "Total params: 24,337\n",
      "Trainable params: 24,337\n",
      "Non-trainable params: 0\n",
      "__________________________________________________________________________________________________\n"
     ]
    }
   ],
   "source": [
    "# Embedding\n",
    "pep = tf.keras.layers.Input(shape=((30,)))\n",
    "pep_embed = tf.keras.layers.Embedding(21, 32, input_length=30, mask_zero=True)(pep)\n",
    "pep_embed = tf.keras.layers.Dropout(np.random.uniform(0, 0.2))(pep_embed)\n",
    "\n",
    "meta = tf.keras.layers.Input(shape=((39,)))  # peptide info\n",
    "\n",
    "n = tf.keras.layers.Input(shape=((15,)))\n",
    "n_embed = tf.keras.layers.Embedding(21, 16, input_length=15, mask_zero=True)(n)\n",
    "n_embed = tf.keras.layers.Dropout(np.random.uniform(0, 0.2))(n_embed)\n",
    "\n",
    "c = tf.keras.layers.Input(shape=((15,)))\n",
    "c_embed = tf.keras.layers.Embedding(21, 16, input_length=15, mask_zero=True)(c)\n",
    "c_embed = tf.keras.layers.Dropout(np.random.uniform(0, 0.2))(c_embed)\n",
    "\n",
    "m1 = tf.keras.layers.Input(shape=((15,)))\n",
    "m1_embed = tf.keras.layers.Embedding(21, 16, input_length=15, mask_zero=True)(m1)\n",
    "m1_embed = tf.keras.layers.Dropout(np.random.uniform(0, 0.2))(m1_embed)\n",
    "\n",
    "m2 = tf.keras.layers.Input(shape=((15,)))\n",
    "m2_embed = tf.keras.layers.Embedding(21, 16, input_length=15, mask_zero=True)(m2)\n",
    "m2_embed = tf.keras.layers.Dropout(np.random.uniform(0, 0.2))(m2_embed)\n",
    "\n",
    "\n",
    "# LSTM\n",
    "net_meta = tf.keras.layers.Dense(32, activation='relu')(meta)\n",
    "net_meta = tf.keras.layers.Dropout(np.random.uniform(0, 0.2))(net_meta)\n",
    "\n",
    "n_lstm = tf.keras.layers.Bidirectional(tf.keras.layers.LSTM(8))(n_embed)\n",
    "n_lstm = tf.keras.layers.Dense(8, activation='relu')(n_lstm)\n",
    "n_lstm = tf.keras.layers.Dropout(np.random.uniform(0, 0.2))(n_lstm)\n",
    "\n",
    "c_lstm = tf.keras.layers.Bidirectional(tf.keras.layers.LSTM(8))(c_embed)\n",
    "c_lstm = tf.keras.layers.Dense(8, activation='relu')(c_lstm)\n",
    "c_lstm = tf.keras.layers.Dropout(np.random.uniform(0, 0.2))(c_lstm)\n",
    "\n",
    "m1_lstm = tf.keras.layers.Bidirectional(tf.keras.layers.LSTM(8))(m1_embed)\n",
    "m1_lstm = tf.keras.layers.Dense(8, activation='relu')(m1_lstm)\n",
    "m1_lstm = tf.keras.layers.Dropout(np.random.uniform(0, 0.2))(m1_lstm)\n",
    "\n",
    "m2_lstm = tf.keras.layers.Bidirectional(tf.keras.layers.LSTM(8))(m2_embed)\n",
    "m2_lstm = tf.keras.layers.Dense(8, activation='relu')(m2_lstm)\n",
    "m2_lstm = tf.keras.layers.Dropout(np.random.uniform(0, 0.2))(m2_lstm)\n",
    "\n",
    "pep_lstm = tf.keras.layers.Bidirectional(tf.keras.layers.LSTM(16))(pep_embed)\n",
    "pep_lstm = tf.keras.layers.Dense(16, activation='relu')(pep_lstm)\n",
    "pep_lstm = tf.keras.layers.Dropout(np.random.uniform(0, 0.2))(pep_lstm)\n",
    "\n",
    "\n",
    "# Dense\n",
    "merge = tf.keras.layers.concatenate([pep_lstm, \n",
    "                                     net_meta,\n",
    "                                     n_lstm,\n",
    "                                     c_lstm,\n",
    "                                     m1_lstm,\n",
    "                                     m2_lstm])\n",
    "net_merge = tf.keras.layers.Dense(64, activation='relu')(merge)\n",
    "net_merge = tf.keras.layers.Dropout(np.random.uniform(0, 0.2))(net_merge)\n",
    "net_merge = tf.keras.layers.Dense(32, activation='relu')(net_merge)\n",
    "net_merge = tf.keras.layers.Dropout(np.random.uniform(0, 0.2))(net_merge)\n",
    "\n",
    "output = tf.keras.layers.Dense(1, activation = 'sigmoid')(net_merge)\n",
    "\n",
    "model_high = tf.keras.Model(inputs=[pep, meta, n, c, m1, m2],\n",
    "                            outputs=[output])\n",
    "\n",
    "model_high.summary()\n",
    "\n",
    "model_high.compile(loss=tf.keras.losses.BinaryCrossentropy(from_logits=True),\n",
    "              optimizer=tf.keras.optimizers.Adam(5e-4),\n",
    "              metrics=['accuracy'])\n",
    "\n",
    "es = tf.keras.callbacks.EarlyStopping(monitor='val_loss',\n",
    "                                      mode='min', \n",
    "                                      verbose=1,\n",
    "                                      patience=50)"
   ]
  },
  {
   "cell_type": "code",
   "execution_count": 21,
   "metadata": {
    "ExecuteTime": {
     "end_time": "2022-01-24T19:45:30.077824Z",
     "start_time": "2022-01-23T15:28:25.136487Z"
    },
    "scrolled": true
   },
   "outputs": [
    {
     "name": "stdout",
     "output_type": "stream",
     "text": [
      "Epoch 1/300\n",
      "4182/4182 [==============================] - 408s 91ms/step - loss: 1.9531 - accuracy: 0.5470 - val_loss: 0.5013 - val_accuracy: 0.7541\n",
      "Epoch 2/300\n",
      "4182/4182 [==============================] - 367s 88ms/step - loss: 0.5100 - accuracy: 0.7566 - val_loss: 0.4541 - val_accuracy: 0.7855\n",
      "Epoch 3/300\n",
      "4182/4182 [==============================] - 385s 92ms/step - loss: 0.4692 - accuracy: 0.7832 - val_loss: 0.4415 - val_accuracy: 0.7953\n",
      "Epoch 4/300\n",
      "4182/4182 [==============================] - 383s 91ms/step - loss: 0.4494 - accuracy: 0.7938 - val_loss: 0.4289 - val_accuracy: 0.8021\n",
      "Epoch 5/300\n",
      "4182/4182 [==============================] - 381s 91ms/step - loss: 0.4369 - accuracy: 0.8011 - val_loss: 0.4193 - val_accuracy: 0.8092\n",
      "Epoch 6/300\n",
      "4182/4182 [==============================] - 429s 103ms/step - loss: 0.4273 - accuracy: 0.8047 - val_loss: 0.4205 - val_accuracy: 0.8078\n",
      "Epoch 7/300\n",
      "4182/4182 [==============================] - 524s 125ms/step - loss: 0.4230 - accuracy: 0.8072 - val_loss: 0.4121 - val_accuracy: 0.8134\n",
      "Epoch 8/300\n",
      "4182/4182 [==============================] - 524s 125ms/step - loss: 0.4207 - accuracy: 0.8091 - val_loss: 0.4084 - val_accuracy: 0.8145\n",
      "Epoch 9/300\n",
      "4182/4182 [==============================] - 528s 126ms/step - loss: 0.4151 - accuracy: 0.8110 - val_loss: 0.4068 - val_accuracy: 0.8160\n",
      "Epoch 10/300\n",
      "4182/4182 [==============================] - 526s 126ms/step - loss: 0.4131 - accuracy: 0.8131 - val_loss: 0.4051 - val_accuracy: 0.8170\n",
      "Epoch 11/300\n",
      "4182/4182 [==============================] - 518s 124ms/step - loss: 0.4092 - accuracy: 0.8147 - val_loss: 0.4034 - val_accuracy: 0.8168\n",
      "Epoch 12/300\n",
      "4182/4182 [==============================] - 522s 125ms/step - loss: 0.4084 - accuracy: 0.8157 - val_loss: 0.4018 - val_accuracy: 0.8198\n",
      "Epoch 13/300\n",
      "4182/4182 [==============================] - 518s 124ms/step - loss: 0.4070 - accuracy: 0.8168 - val_loss: 0.3986 - val_accuracy: 0.8210\n",
      "Epoch 14/300\n",
      "4182/4182 [==============================] - 518s 124ms/step - loss: 0.4060 - accuracy: 0.8165 - val_loss: 0.4049 - val_accuracy: 0.8181\n",
      "Epoch 15/300\n",
      "4182/4182 [==============================] - 516s 123ms/step - loss: 0.4048 - accuracy: 0.8172 - val_loss: 0.3996 - val_accuracy: 0.8212\n",
      "Epoch 16/300\n",
      "4182/4182 [==============================] - 506s 121ms/step - loss: 0.4025 - accuracy: 0.8184 - val_loss: 0.3951 - val_accuracy: 0.8232\n",
      "Epoch 17/300\n",
      "4182/4182 [==============================] - 516s 123ms/step - loss: 0.4006 - accuracy: 0.8195 - val_loss: 0.4022 - val_accuracy: 0.8218\n",
      "Epoch 18/300\n",
      "4182/4182 [==============================] - 517s 124ms/step - loss: 0.3987 - accuracy: 0.8210 - val_loss: 0.3999 - val_accuracy: 0.8226\n",
      "Epoch 19/300\n",
      "4182/4182 [==============================] - 524s 125ms/step - loss: 0.3982 - accuracy: 0.8212 - val_loss: 0.3945 - val_accuracy: 0.8241\n",
      "Epoch 20/300\n",
      "4182/4182 [==============================] - 518s 124ms/step - loss: 0.3968 - accuracy: 0.8208 - val_loss: 0.3945 - val_accuracy: 0.8242\n",
      "Epoch 21/300\n",
      "4182/4182 [==============================] - 516s 123ms/step - loss: 0.3964 - accuracy: 0.8221 - val_loss: 0.3931 - val_accuracy: 0.8239\n",
      "Epoch 22/300\n",
      "4182/4182 [==============================] - 518s 124ms/step - loss: 0.3939 - accuracy: 0.8228 - val_loss: 0.3955 - val_accuracy: 0.8257\n",
      "Epoch 23/300\n",
      "4182/4182 [==============================] - 513s 123ms/step - loss: 0.3959 - accuracy: 0.8219 - val_loss: 0.3914 - val_accuracy: 0.8256\n",
      "Epoch 24/300\n",
      "4182/4182 [==============================] - 519s 124ms/step - loss: 0.3941 - accuracy: 0.8230 - val_loss: 0.3892 - val_accuracy: 0.8253\n",
      "Epoch 25/300\n",
      "4182/4182 [==============================] - 519s 124ms/step - loss: 0.3919 - accuracy: 0.8250 - val_loss: 0.3929 - val_accuracy: 0.8249\n",
      "Epoch 26/300\n",
      "4182/4182 [==============================] - 516s 123ms/step - loss: 0.3923 - accuracy: 0.8239 - val_loss: 0.3884 - val_accuracy: 0.8263\n",
      "Epoch 27/300\n",
      "4182/4182 [==============================] - 584s 140ms/step - loss: 0.3911 - accuracy: 0.8247 - val_loss: 0.3881 - val_accuracy: 0.8279\n",
      "Epoch 28/300\n",
      "4182/4182 [==============================] - 586s 140ms/step - loss: 0.3901 - accuracy: 0.8254 - val_loss: 0.3907 - val_accuracy: 0.8259\n",
      "Epoch 29/300\n",
      "4182/4182 [==============================] - 571s 137ms/step - loss: 0.3881 - accuracy: 0.8263 - val_loss: 0.3907 - val_accuracy: 0.8281\n",
      "Epoch 30/300\n",
      "4182/4182 [==============================] - 570s 136ms/step - loss: 0.3876 - accuracy: 0.8267 - val_loss: 0.3866 - val_accuracy: 0.8284\n",
      "Epoch 31/300\n",
      "4182/4182 [==============================] - 578s 138ms/step - loss: 0.3871 - accuracy: 0.8274 - val_loss: 0.3855 - val_accuracy: 0.8292\n",
      "Epoch 32/300\n",
      "4182/4182 [==============================] - 571s 136ms/step - loss: 0.3879 - accuracy: 0.8268 - val_loss: 0.3849 - val_accuracy: 0.8280\n",
      "Epoch 33/300\n",
      "4182/4182 [==============================] - 576s 138ms/step - loss: 0.3848 - accuracy: 0.8281 - val_loss: 0.3855 - val_accuracy: 0.8293\n",
      "Epoch 34/300\n",
      "4182/4182 [==============================] - 563s 135ms/step - loss: 0.3862 - accuracy: 0.8273 - val_loss: 0.3852 - val_accuracy: 0.8294\n",
      "Epoch 35/300\n",
      "4182/4182 [==============================] - 575s 137ms/step - loss: 0.3849 - accuracy: 0.8283 - val_loss: 0.3855 - val_accuracy: 0.8300\n",
      "Epoch 36/300\n",
      "4182/4182 [==============================] - 568s 136ms/step - loss: 0.3856 - accuracy: 0.8274 - val_loss: 0.3836 - val_accuracy: 0.8295\n",
      "Epoch 37/300\n",
      "4182/4182 [==============================] - 574s 137ms/step - loss: 0.3846 - accuracy: 0.8286 - val_loss: 0.3846 - val_accuracy: 0.8295\n",
      "Epoch 38/300\n",
      "4182/4182 [==============================] - 591s 141ms/step - loss: 0.3848 - accuracy: 0.8279 - val_loss: 0.3837 - val_accuracy: 0.8296\n",
      "Epoch 39/300\n",
      "4182/4182 [==============================] - 595s 142ms/step - loss: 0.3843 - accuracy: 0.8289 - val_loss: 0.3858 - val_accuracy: 0.8290\n",
      "Epoch 40/300\n",
      "4182/4182 [==============================] - 580s 139ms/step - loss: 0.3826 - accuracy: 0.8295 - val_loss: 0.3827 - val_accuracy: 0.8293\n",
      "Epoch 41/300\n",
      "4182/4182 [==============================] - 559s 134ms/step - loss: 0.3825 - accuracy: 0.8293 - val_loss: 0.3801 - val_accuracy: 0.8310\n",
      "Epoch 42/300\n",
      "4182/4182 [==============================] - 571s 137ms/step - loss: 0.3817 - accuracy: 0.8294 - val_loss: 0.3810 - val_accuracy: 0.8305\n",
      "Epoch 43/300\n",
      "4182/4182 [==============================] - 557s 133ms/step - loss: 0.3832 - accuracy: 0.8295 - val_loss: 0.3807 - val_accuracy: 0.8310\n",
      "Epoch 44/300\n",
      "4182/4182 [==============================] - 575s 137ms/step - loss: 0.3831 - accuracy: 0.8294 - val_loss: 0.3844 - val_accuracy: 0.8301\n",
      "Epoch 45/300\n",
      "4182/4182 [==============================] - 567s 135ms/step - loss: 0.3813 - accuracy: 0.8305 - val_loss: 0.3851 - val_accuracy: 0.8300\n",
      "Epoch 46/300\n",
      "4182/4182 [==============================] - 558s 133ms/step - loss: 0.3816 - accuracy: 0.8301 - val_loss: 0.3865 - val_accuracy: 0.8283\n",
      "Epoch 47/300\n",
      "4182/4182 [==============================] - 558s 134ms/step - loss: 0.3818 - accuracy: 0.8300 - val_loss: 0.3860 - val_accuracy: 0.8302\n",
      "Epoch 48/300\n",
      "4182/4182 [==============================] - 568s 136ms/step - loss: 0.3797 - accuracy: 0.8309 - val_loss: 0.3830 - val_accuracy: 0.8293\n",
      "Epoch 49/300\n",
      "4182/4182 [==============================] - 565s 135ms/step - loss: 0.3795 - accuracy: 0.8316 - val_loss: 0.3860 - val_accuracy: 0.8296\n",
      "Epoch 50/300\n",
      "4182/4182 [==============================] - 600s 143ms/step - loss: 0.3798 - accuracy: 0.8310 - val_loss: 0.3843 - val_accuracy: 0.8299\n",
      "Epoch 51/300\n",
      "4182/4182 [==============================] - 594s 142ms/step - loss: 0.3807 - accuracy: 0.8311 - val_loss: 0.3821 - val_accuracy: 0.8290\n",
      "Epoch 52/300\n",
      "4182/4182 [==============================] - 580s 139ms/step - loss: 0.3813 - accuracy: 0.8303 - val_loss: 0.3817 - val_accuracy: 0.8303\n",
      "Epoch 53/300\n",
      "4182/4182 [==============================] - 581s 139ms/step - loss: 0.3786 - accuracy: 0.8314 - val_loss: 0.3836 - val_accuracy: 0.8312\n",
      "Epoch 54/300\n",
      "4182/4182 [==============================] - 578s 138ms/step - loss: 0.3781 - accuracy: 0.8317 - val_loss: 0.3829 - val_accuracy: 0.8309\n",
      "Epoch 55/300\n",
      "4182/4182 [==============================] - 552s 132ms/step - loss: 0.3788 - accuracy: 0.8316 - val_loss: 0.3798 - val_accuracy: 0.8311\n"
     ]
    },
    {
     "name": "stdout",
     "output_type": "stream",
     "text": [
      "Epoch 56/300\n",
      "4182/4182 [==============================] - 532s 127ms/step - loss: 0.3772 - accuracy: 0.8324 - val_loss: 0.3814 - val_accuracy: 0.8313\n",
      "Epoch 57/300\n",
      "4182/4182 [==============================] - 532s 127ms/step - loss: 0.3799 - accuracy: 0.8313 - val_loss: 0.3798 - val_accuracy: 0.8308\n",
      "Epoch 58/300\n",
      "4182/4182 [==============================] - 531s 127ms/step - loss: 0.3778 - accuracy: 0.8330 - val_loss: 0.3821 - val_accuracy: 0.8304\n",
      "Epoch 59/300\n",
      "4182/4182 [==============================] - 534s 128ms/step - loss: 0.3778 - accuracy: 0.8320 - val_loss: 0.3790 - val_accuracy: 0.8324\n",
      "Epoch 60/300\n",
      "4182/4182 [==============================] - 530s 127ms/step - loss: 0.3774 - accuracy: 0.8321 - val_loss: 0.3819 - val_accuracy: 0.8313\n",
      "Epoch 61/300\n",
      "4182/4182 [==============================] - 516s 123ms/step - loss: 0.3781 - accuracy: 0.8317 - val_loss: 0.3805 - val_accuracy: 0.8308\n",
      "Epoch 62/300\n",
      "4182/4182 [==============================] - 526s 126ms/step - loss: 0.3768 - accuracy: 0.8331 - val_loss: 0.3828 - val_accuracy: 0.8310\n",
      "Epoch 63/300\n",
      "4182/4182 [==============================] - 532s 127ms/step - loss: 0.3766 - accuracy: 0.8322 - val_loss: 0.3823 - val_accuracy: 0.8303\n",
      "Epoch 64/300\n",
      "4182/4182 [==============================] - 536s 128ms/step - loss: 0.3771 - accuracy: 0.8326 - val_loss: 0.3873 - val_accuracy: 0.8289\n",
      "Epoch 65/300\n",
      "4182/4182 [==============================] - 530s 127ms/step - loss: 0.3762 - accuracy: 0.8325 - val_loss: 0.3827 - val_accuracy: 0.8310\n",
      "Epoch 66/300\n",
      "4182/4182 [==============================] - 535s 128ms/step - loss: 0.3750 - accuracy: 0.8336 - val_loss: 0.3802 - val_accuracy: 0.8306\n",
      "Epoch 67/300\n",
      "4182/4182 [==============================] - 536s 128ms/step - loss: 0.3779 - accuracy: 0.8318 - val_loss: 0.3797 - val_accuracy: 0.8311\n",
      "Epoch 68/300\n",
      "4182/4182 [==============================] - 532s 127ms/step - loss: 0.3764 - accuracy: 0.8331 - val_loss: 0.3787 - val_accuracy: 0.8316\n",
      "Epoch 69/300\n",
      "4182/4182 [==============================] - 531s 127ms/step - loss: 0.3759 - accuracy: 0.8332 - val_loss: 0.3822 - val_accuracy: 0.8316\n",
      "Epoch 70/300\n",
      "4182/4182 [==============================] - 530s 127ms/step - loss: 0.3752 - accuracy: 0.8329 - val_loss: 0.3806 - val_accuracy: 0.8315\n",
      "Epoch 71/300\n",
      "4182/4182 [==============================] - 520s 124ms/step - loss: 0.3738 - accuracy: 0.8340 - val_loss: 0.3845 - val_accuracy: 0.8312\n",
      "Epoch 72/300\n",
      "4182/4182 [==============================] - 519s 124ms/step - loss: 0.3753 - accuracy: 0.8331 - val_loss: 0.3806 - val_accuracy: 0.8310\n",
      "Epoch 73/300\n",
      "4182/4182 [==============================] - 532s 127ms/step - loss: 0.3750 - accuracy: 0.8335 - val_loss: 0.3791 - val_accuracy: 0.8324\n",
      "Epoch 74/300\n",
      "4182/4182 [==============================] - 531s 127ms/step - loss: 0.3725 - accuracy: 0.8355 - val_loss: 0.3883 - val_accuracy: 0.8314\n",
      "Epoch 75/300\n",
      "4182/4182 [==============================] - 534s 128ms/step - loss: 0.3763 - accuracy: 0.8322 - val_loss: 0.3806 - val_accuracy: 0.8317\n",
      "Epoch 76/300\n",
      "4182/4182 [==============================] - 531s 127ms/step - loss: 0.3732 - accuracy: 0.8343 - val_loss: 0.3799 - val_accuracy: 0.8314\n",
      "Epoch 77/300\n",
      "4182/4182 [==============================] - 534s 128ms/step - loss: 0.3752 - accuracy: 0.8332 - val_loss: 0.3801 - val_accuracy: 0.8328\n",
      "Epoch 78/300\n",
      "4182/4182 [==============================] - 531s 127ms/step - loss: 0.3751 - accuracy: 0.8335 - val_loss: 0.3801 - val_accuracy: 0.8313\n",
      "Epoch 79/300\n",
      "4182/4182 [==============================] - 534s 128ms/step - loss: 0.3727 - accuracy: 0.8350 - val_loss: 0.3816 - val_accuracy: 0.8328\n",
      "Epoch 80/300\n",
      "4182/4182 [==============================] - 533s 128ms/step - loss: 0.3744 - accuracy: 0.8338 - val_loss: 0.3812 - val_accuracy: 0.8316\n",
      "Epoch 81/300\n",
      "4182/4182 [==============================] - 526s 126ms/step - loss: 0.3737 - accuracy: 0.8343 - val_loss: 0.3796 - val_accuracy: 0.8315\n",
      "Epoch 82/300\n",
      "4182/4182 [==============================] - 521s 125ms/step - loss: 0.3741 - accuracy: 0.8353 - val_loss: 0.3845 - val_accuracy: 0.8301\n",
      "Epoch 83/300\n",
      "4182/4182 [==============================] - 529s 126ms/step - loss: 0.3733 - accuracy: 0.8344 - val_loss: 0.3789 - val_accuracy: 0.8325\n",
      "Epoch 84/300\n",
      "4182/4182 [==============================] - 533s 127ms/step - loss: 0.3735 - accuracy: 0.8343 - val_loss: 0.3795 - val_accuracy: 0.8331\n",
      "Epoch 85/300\n",
      "4182/4182 [==============================] - 533s 128ms/step - loss: 0.3730 - accuracy: 0.8338 - val_loss: 0.3810 - val_accuracy: 0.8314\n",
      "Epoch 86/300\n",
      "4182/4182 [==============================] - 532s 127ms/step - loss: 0.3720 - accuracy: 0.8352 - val_loss: 0.3808 - val_accuracy: 0.8320\n",
      "Epoch 87/300\n",
      "4182/4182 [==============================] - 528s 126ms/step - loss: 0.3733 - accuracy: 0.8350 - val_loss: 0.3822 - val_accuracy: 0.8324\n",
      "Epoch 88/300\n",
      "4182/4182 [==============================] - 533s 128ms/step - loss: 0.3723 - accuracy: 0.8354 - val_loss: 0.3829 - val_accuracy: 0.8307\n",
      "Epoch 89/300\n",
      "4182/4182 [==============================] - 534s 128ms/step - loss: 0.3737 - accuracy: 0.8342 - val_loss: 0.3826 - val_accuracy: 0.8314\n",
      "Epoch 90/300\n",
      "4182/4182 [==============================] - 530s 127ms/step - loss: 0.3726 - accuracy: 0.8347 - val_loss: 0.3795 - val_accuracy: 0.8323\n",
      "Epoch 91/300\n",
      "4182/4182 [==============================] - 528s 126ms/step - loss: 0.3714 - accuracy: 0.8351 - val_loss: 0.3794 - val_accuracy: 0.8313\n",
      "Epoch 92/300\n",
      "4182/4182 [==============================] - 520s 124ms/step - loss: 0.3725 - accuracy: 0.8351 - val_loss: 0.3795 - val_accuracy: 0.8323\n",
      "Epoch 93/300\n",
      "4182/4182 [==============================] - 528s 126ms/step - loss: 0.3729 - accuracy: 0.8352 - val_loss: 0.3783 - val_accuracy: 0.8325\n",
      "Epoch 94/300\n",
      "4182/4182 [==============================] - 533s 127ms/step - loss: 0.3719 - accuracy: 0.8348 - val_loss: 0.3787 - val_accuracy: 0.8318\n",
      "Epoch 95/300\n",
      "4182/4182 [==============================] - 532s 127ms/step - loss: 0.3714 - accuracy: 0.8353 - val_loss: 0.3784 - val_accuracy: 0.8323\n",
      "Epoch 96/300\n",
      "4182/4182 [==============================] - 535s 128ms/step - loss: 0.3709 - accuracy: 0.8353 - val_loss: 0.3793 - val_accuracy: 0.8318\n",
      "Epoch 97/300\n",
      "4182/4182 [==============================] - 531s 127ms/step - loss: 0.3722 - accuracy: 0.8348 - val_loss: 0.3801 - val_accuracy: 0.8312\n",
      "Epoch 98/300\n",
      "4182/4182 [==============================] - 532s 127ms/step - loss: 0.3715 - accuracy: 0.8355 - val_loss: 0.3775 - val_accuracy: 0.8326\n",
      "Epoch 99/300\n",
      "4182/4182 [==============================] - 535s 128ms/step - loss: 0.3711 - accuracy: 0.8355 - val_loss: 0.3801 - val_accuracy: 0.8318\n",
      "Epoch 100/300\n",
      "4182/4182 [==============================] - 534s 128ms/step - loss: 0.3705 - accuracy: 0.8359 - val_loss: 0.3823 - val_accuracy: 0.8314\n",
      "Epoch 101/300\n",
      "4182/4182 [==============================] - 534s 128ms/step - loss: 0.3711 - accuracy: 0.8356 - val_loss: 0.3803 - val_accuracy: 0.8321\n",
      "Epoch 102/300\n",
      "4182/4182 [==============================] - 523s 125ms/step - loss: 0.3717 - accuracy: 0.8352 - val_loss: 0.3804 - val_accuracy: 0.8321\n",
      "Epoch 103/300\n",
      "4182/4182 [==============================] - 522s 125ms/step - loss: 0.3704 - accuracy: 0.8362 - val_loss: 0.3788 - val_accuracy: 0.8327\n",
      "Epoch 104/300\n",
      "4182/4182 [==============================] - 530s 127ms/step - loss: 0.3715 - accuracy: 0.8351 - val_loss: 0.3785 - val_accuracy: 0.8320\n",
      "Epoch 105/300\n",
      "4182/4182 [==============================] - 529s 126ms/step - loss: 0.3705 - accuracy: 0.8357 - val_loss: 0.3826 - val_accuracy: 0.8302\n",
      "Epoch 106/300\n",
      "4182/4182 [==============================] - 534s 128ms/step - loss: 0.3719 - accuracy: 0.8351 - val_loss: 0.3817 - val_accuracy: 0.8315\n",
      "Epoch 107/300\n",
      "4182/4182 [==============================] - 529s 126ms/step - loss: 0.3707 - accuracy: 0.8356 - val_loss: 0.3810 - val_accuracy: 0.8313\n",
      "Epoch 108/300\n",
      "4182/4182 [==============================] - 534s 128ms/step - loss: 0.3701 - accuracy: 0.8363 - val_loss: 0.3814 - val_accuracy: 0.8318\n",
      "Epoch 109/300\n",
      "4182/4182 [==============================] - 531s 127ms/step - loss: 0.3716 - accuracy: 0.8358 - val_loss: 0.3794 - val_accuracy: 0.8328\n",
      "Epoch 110/300\n"
     ]
    },
    {
     "name": "stdout",
     "output_type": "stream",
     "text": [
      "4182/4182 [==============================] - 531s 127ms/step - loss: 0.3703 - accuracy: 0.8359 - val_loss: 0.3829 - val_accuracy: 0.8283\n",
      "Epoch 111/300\n",
      "4182/4182 [==============================] - 532s 127ms/step - loss: 0.3701 - accuracy: 0.8357 - val_loss: 0.3786 - val_accuracy: 0.8323\n",
      "Epoch 112/300\n",
      "4182/4182 [==============================] - 525s 126ms/step - loss: 0.3694 - accuracy: 0.8362 - val_loss: 0.3783 - val_accuracy: 0.8322\n",
      "Epoch 113/300\n",
      "4182/4182 [==============================] - 520s 124ms/step - loss: 0.3699 - accuracy: 0.8366 - val_loss: 0.3779 - val_accuracy: 0.8327\n",
      "Epoch 114/300\n",
      "4182/4182 [==============================] - 527s 126ms/step - loss: 0.3690 - accuracy: 0.8372 - val_loss: 0.3793 - val_accuracy: 0.8322\n",
      "Epoch 115/300\n",
      "4182/4182 [==============================] - 530s 127ms/step - loss: 0.3702 - accuracy: 0.8353 - val_loss: 0.3809 - val_accuracy: 0.8322\n",
      "Epoch 116/300\n",
      "4182/4182 [==============================] - 519s 124ms/step - loss: 0.3699 - accuracy: 0.8363 - val_loss: 0.3829 - val_accuracy: 0.8326\n",
      "Epoch 117/300\n",
      "4182/4182 [==============================] - 498s 119ms/step - loss: 0.3701 - accuracy: 0.8365 - val_loss: 0.3779 - val_accuracy: 0.8324\n",
      "Epoch 118/300\n",
      "4182/4182 [==============================] - 519s 124ms/step - loss: 0.3705 - accuracy: 0.8366 - val_loss: 0.3789 - val_accuracy: 0.8324\n",
      "Epoch 119/300\n",
      "4182/4182 [==============================] - 518s 124ms/step - loss: 0.3682 - accuracy: 0.8369 - val_loss: 0.3795 - val_accuracy: 0.8321\n",
      "Epoch 120/300\n",
      "4182/4182 [==============================] - 524s 125ms/step - loss: 0.3696 - accuracy: 0.8367 - val_loss: 0.3771 - val_accuracy: 0.8331\n",
      "Epoch 121/300\n",
      "4182/4182 [==============================] - 522s 125ms/step - loss: 0.3697 - accuracy: 0.8363 - val_loss: 0.3802 - val_accuracy: 0.8331\n",
      "Epoch 122/300\n",
      "4182/4182 [==============================] - 511s 122ms/step - loss: 0.3684 - accuracy: 0.8367 - val_loss: 0.3792 - val_accuracy: 0.8319\n",
      "Epoch 123/300\n",
      "4182/4182 [==============================] - 515s 123ms/step - loss: 0.3678 - accuracy: 0.8374 - val_loss: 0.3806 - val_accuracy: 0.8312\n",
      "Epoch 124/300\n",
      "4182/4182 [==============================] - 514s 123ms/step - loss: 0.3705 - accuracy: 0.8359 - val_loss: 0.3789 - val_accuracy: 0.8327\n",
      "Epoch 125/300\n",
      "4182/4182 [==============================] - 519s 124ms/step - loss: 0.3699 - accuracy: 0.8358 - val_loss: 0.3795 - val_accuracy: 0.8324\n",
      "Epoch 126/300\n",
      "4182/4182 [==============================] - 500s 119ms/step - loss: 0.3688 - accuracy: 0.8366 - val_loss: 0.3816 - val_accuracy: 0.8305\n",
      "Epoch 127/300\n",
      "4182/4182 [==============================] - 495s 118ms/step - loss: 0.3691 - accuracy: 0.8365 - val_loss: 0.3780 - val_accuracy: 0.8326\n",
      "Epoch 128/300\n",
      "4182/4182 [==============================] - 510s 122ms/step - loss: 0.3681 - accuracy: 0.8375 - val_loss: 0.3832 - val_accuracy: 0.8317\n",
      "Epoch 129/300\n",
      "4182/4182 [==============================] - 523s 125ms/step - loss: 0.3680 - accuracy: 0.8372 - val_loss: 0.3798 - val_accuracy: 0.8311\n",
      "Epoch 130/300\n",
      "4182/4182 [==============================] - 517s 124ms/step - loss: 0.3691 - accuracy: 0.8365 - val_loss: 0.3776 - val_accuracy: 0.8329\n",
      "Epoch 131/300\n",
      "4182/4182 [==============================] - 523s 125ms/step - loss: 0.3676 - accuracy: 0.8377 - val_loss: 0.3765 - val_accuracy: 0.8325\n",
      "Epoch 132/300\n",
      "4182/4182 [==============================] - 505s 121ms/step - loss: 0.3694 - accuracy: 0.8364 - val_loss: 0.3772 - val_accuracy: 0.8324\n",
      "Epoch 133/300\n",
      "4182/4182 [==============================] - 519s 124ms/step - loss: 0.3683 - accuracy: 0.8377 - val_loss: 0.3790 - val_accuracy: 0.8325\n",
      "Epoch 134/300\n",
      "4182/4182 [==============================] - 514s 123ms/step - loss: 0.3696 - accuracy: 0.8366 - val_loss: 0.3842 - val_accuracy: 0.8297\n",
      "Epoch 135/300\n",
      "4182/4182 [==============================] - 512s 122ms/step - loss: 0.3682 - accuracy: 0.8367 - val_loss: 0.3836 - val_accuracy: 0.8308\n",
      "Epoch 136/300\n",
      "4182/4182 [==============================] - 481s 115ms/step - loss: 0.3691 - accuracy: 0.8368 - val_loss: 0.3806 - val_accuracy: 0.8319\n",
      "Epoch 137/300\n",
      "4182/4182 [==============================] - 408s 97ms/step - loss: 0.3662 - accuracy: 0.8379 - val_loss: 0.3781 - val_accuracy: 0.8310\n",
      "Epoch 138/300\n",
      "4182/4182 [==============================] - 400s 96ms/step - loss: 0.3670 - accuracy: 0.8375 - val_loss: 0.3794 - val_accuracy: 0.8321\n",
      "Epoch 139/300\n",
      "4182/4182 [==============================] - 404s 97ms/step - loss: 0.3687 - accuracy: 0.8366 - val_loss: 0.3782 - val_accuracy: 0.8319\n",
      "Epoch 140/300\n",
      "4182/4182 [==============================] - 409s 98ms/step - loss: 0.3682 - accuracy: 0.8371 - val_loss: 0.3795 - val_accuracy: 0.8321\n",
      "Epoch 141/300\n",
      "4182/4182 [==============================] - 409s 98ms/step - loss: 0.3674 - accuracy: 0.8374 - val_loss: 0.3773 - val_accuracy: 0.8334\n",
      "Epoch 142/300\n",
      "4182/4182 [==============================] - 410s 98ms/step - loss: 0.3683 - accuracy: 0.8369 - val_loss: 0.3781 - val_accuracy: 0.8324\n",
      "Epoch 143/300\n",
      "4182/4182 [==============================] - 408s 97ms/step - loss: 0.3672 - accuracy: 0.8370 - val_loss: 0.3782 - val_accuracy: 0.8332\n",
      "Epoch 144/300\n",
      "4182/4182 [==============================] - 404s 97ms/step - loss: 0.3659 - accuracy: 0.8383 - val_loss: 0.3786 - val_accuracy: 0.8329\n",
      "Epoch 145/300\n",
      "4182/4182 [==============================] - 412s 98ms/step - loss: 0.3676 - accuracy: 0.8370 - val_loss: 0.3804 - val_accuracy: 0.8320\n",
      "Epoch 146/300\n",
      "4182/4182 [==============================] - 409s 98ms/step - loss: 0.3677 - accuracy: 0.8376 - val_loss: 0.3769 - val_accuracy: 0.8326\n",
      "Epoch 147/300\n",
      "4182/4182 [==============================] - 408s 97ms/step - loss: 0.3684 - accuracy: 0.8375 - val_loss: 0.3812 - val_accuracy: 0.8323\n",
      "Epoch 148/300\n",
      "4182/4182 [==============================] - 405s 97ms/step - loss: 0.3641 - accuracy: 0.8389 - val_loss: 0.3806 - val_accuracy: 0.8328\n",
      "Epoch 149/300\n",
      "4182/4182 [==============================] - 415s 99ms/step - loss: 0.3658 - accuracy: 0.8385 - val_loss: 0.3820 - val_accuracy: 0.8315\n",
      "Epoch 150/300\n",
      "4182/4182 [==============================] - 405s 97ms/step - loss: 0.3686 - accuracy: 0.8365 - val_loss: 0.3783 - val_accuracy: 0.8331\n",
      "Epoch 151/300\n",
      "4182/4182 [==============================] - 405s 97ms/step - loss: 0.3664 - accuracy: 0.8379 - val_loss: 0.3783 - val_accuracy: 0.8320\n",
      "Epoch 152/300\n",
      "4182/4182 [==============================] - 408s 98ms/step - loss: 0.3688 - accuracy: 0.8362 - val_loss: 0.3774 - val_accuracy: 0.8329\n",
      "Epoch 153/300\n",
      "4182/4182 [==============================] - 410s 98ms/step - loss: 0.3663 - accuracy: 0.8381 - val_loss: 0.3776 - val_accuracy: 0.8323\n",
      "Epoch 154/300\n",
      "4182/4182 [==============================] - 409s 98ms/step - loss: 0.3683 - accuracy: 0.8371 - val_loss: 0.3789 - val_accuracy: 0.8331\n",
      "Epoch 155/300\n",
      "4182/4182 [==============================] - 414s 99ms/step - loss: 0.3670 - accuracy: 0.8380 - val_loss: 0.3761 - val_accuracy: 0.8322\n",
      "Epoch 156/300\n",
      "4182/4182 [==============================] - 411s 98ms/step - loss: 0.3669 - accuracy: 0.8378 - val_loss: 0.3786 - val_accuracy: 0.8332\n",
      "Epoch 157/300\n",
      "4182/4182 [==============================] - 419s 100ms/step - loss: 0.3680 - accuracy: 0.8368 - val_loss: 0.3777 - val_accuracy: 0.8322\n",
      "Epoch 158/300\n",
      "4182/4182 [==============================] - 413s 99ms/step - loss: 0.3669 - accuracy: 0.8377 - val_loss: 0.3794 - val_accuracy: 0.8317\n",
      "Epoch 159/300\n",
      "4182/4182 [==============================] - 411s 98ms/step - loss: 0.3666 - accuracy: 0.8379 - val_loss: 0.3756 - val_accuracy: 0.8331\n",
      "Epoch 160/300\n",
      "4182/4182 [==============================] - 413s 99ms/step - loss: 0.3657 - accuracy: 0.8384 - val_loss: 0.3786 - val_accuracy: 0.8322\n",
      "Epoch 161/300\n",
      "4182/4182 [==============================] - 410s 98ms/step - loss: 0.3669 - accuracy: 0.8380 - val_loss: 0.3795 - val_accuracy: 0.8328\n",
      "Epoch 162/300\n",
      "4182/4182 [==============================] - 407s 97ms/step - loss: 0.3674 - accuracy: 0.8376 - val_loss: 0.3790 - val_accuracy: 0.8333\n",
      "Epoch 163/300\n",
      "4182/4182 [==============================] - 408s 98ms/step - loss: 0.3668 - accuracy: 0.8373 - val_loss: 0.3790 - val_accuracy: 0.8328\n",
      "Epoch 164/300\n"
     ]
    },
    {
     "name": "stdout",
     "output_type": "stream",
     "text": [
      "4182/4182 [==============================] - 415s 99ms/step - loss: 0.3650 - accuracy: 0.8385 - val_loss: 0.3813 - val_accuracy: 0.8318\n",
      "Epoch 165/300\n",
      "4182/4182 [==============================] - 415s 99ms/step - loss: 0.3659 - accuracy: 0.8381 - val_loss: 0.3773 - val_accuracy: 0.8321\n",
      "Epoch 166/300\n",
      "4182/4182 [==============================] - 413s 99ms/step - loss: 0.3653 - accuracy: 0.8387 - val_loss: 0.3779 - val_accuracy: 0.8328\n",
      "Epoch 167/300\n",
      "4182/4182 [==============================] - 408s 98ms/step - loss: 0.3652 - accuracy: 0.8384 - val_loss: 0.3786 - val_accuracy: 0.8322\n",
      "Epoch 168/300\n",
      "4182/4182 [==============================] - 409s 98ms/step - loss: 0.3670 - accuracy: 0.8376 - val_loss: 0.3783 - val_accuracy: 0.8324\n",
      "Epoch 169/300\n",
      "4182/4182 [==============================] - 411s 98ms/step - loss: 0.3657 - accuracy: 0.8383 - val_loss: 0.3778 - val_accuracy: 0.8327\n",
      "Epoch 170/300\n",
      "4182/4182 [==============================] - 407s 97ms/step - loss: 0.3661 - accuracy: 0.8381 - val_loss: 0.3782 - val_accuracy: 0.8322\n",
      "Epoch 171/300\n",
      "4182/4182 [==============================] - 410s 98ms/step - loss: 0.3665 - accuracy: 0.8384 - val_loss: 0.3802 - val_accuracy: 0.8323\n",
      "Epoch 172/300\n",
      "4182/4182 [==============================] - 410s 98ms/step - loss: 0.3676 - accuracy: 0.8372 - val_loss: 0.3783 - val_accuracy: 0.8328\n",
      "Epoch 173/300\n",
      "4182/4182 [==============================] - 413s 99ms/step - loss: 0.3671 - accuracy: 0.8384 - val_loss: 0.3787 - val_accuracy: 0.8323\n",
      "Epoch 174/300\n",
      "4182/4182 [==============================] - 412s 98ms/step - loss: 0.3658 - accuracy: 0.8383 - val_loss: 0.3773 - val_accuracy: 0.8331\n",
      "Epoch 175/300\n",
      "4182/4182 [==============================] - 401s 96ms/step - loss: 0.3653 - accuracy: 0.8380 - val_loss: 0.3784 - val_accuracy: 0.8325\n",
      "Epoch 176/300\n",
      "4182/4182 [==============================] - 413s 99ms/step - loss: 0.3655 - accuracy: 0.8384 - val_loss: 0.3785 - val_accuracy: 0.8330\n",
      "Epoch 177/300\n",
      "4182/4182 [==============================] - 408s 98ms/step - loss: 0.3660 - accuracy: 0.8380 - val_loss: 0.3789 - val_accuracy: 0.8316\n",
      "Epoch 178/300\n",
      "4182/4182 [==============================] - 410s 98ms/step - loss: 0.3661 - accuracy: 0.8378 - val_loss: 0.3780 - val_accuracy: 0.8335\n",
      "Epoch 179/300\n",
      "4182/4182 [==============================] - 412s 99ms/step - loss: 0.3642 - accuracy: 0.8391 - val_loss: 0.3780 - val_accuracy: 0.8322\n",
      "Epoch 180/300\n",
      "4182/4182 [==============================] - 412s 99ms/step - loss: 0.3662 - accuracy: 0.8392 - val_loss: 0.3801 - val_accuracy: 0.8311\n",
      "Epoch 181/300\n",
      "4182/4182 [==============================] - 395s 95ms/step - loss: 0.3652 - accuracy: 0.8385 - val_loss: 0.3793 - val_accuracy: 0.8326\n",
      "Epoch 182/300\n",
      "4182/4182 [==============================] - 410s 98ms/step - loss: 0.3641 - accuracy: 0.8397 - val_loss: 0.3776 - val_accuracy: 0.8319\n",
      "Epoch 183/300\n",
      "4182/4182 [==============================] - 403s 96ms/step - loss: 0.3664 - accuracy: 0.8375 - val_loss: 0.3802 - val_accuracy: 0.8317\n",
      "Epoch 184/300\n",
      "4182/4182 [==============================] - 399s 96ms/step - loss: 0.3640 - accuracy: 0.8395 - val_loss: 0.3777 - val_accuracy: 0.8324\n",
      "Epoch 185/300\n",
      "4182/4182 [==============================] - 409s 98ms/step - loss: 0.3642 - accuracy: 0.8388 - val_loss: 0.3778 - val_accuracy: 0.8327\n",
      "Epoch 186/300\n",
      "4182/4182 [==============================] - 412s 99ms/step - loss: 0.3654 - accuracy: 0.8388 - val_loss: 0.3803 - val_accuracy: 0.8323\n",
      "Epoch 187/300\n",
      "4182/4182 [==============================] - 411s 98ms/step - loss: 0.3660 - accuracy: 0.8382 - val_loss: 0.3796 - val_accuracy: 0.8323\n",
      "Epoch 188/300\n",
      "4182/4182 [==============================] - 409s 98ms/step - loss: 0.3658 - accuracy: 0.8381 - val_loss: 0.3780 - val_accuracy: 0.8326\n",
      "Epoch 189/300\n",
      "4182/4182 [==============================] - 412s 99ms/step - loss: 0.3644 - accuracy: 0.8388 - val_loss: 0.3780 - val_accuracy: 0.8323\n",
      "Epoch 190/300\n",
      "4182/4182 [==============================] - 408s 98ms/step - loss: 0.3651 - accuracy: 0.8390 - val_loss: 0.3771 - val_accuracy: 0.8321\n",
      "Epoch 191/300\n",
      "4182/4182 [==============================] - 413s 99ms/step - loss: 0.3629 - accuracy: 0.8404 - val_loss: 0.3777 - val_accuracy: 0.8325\n",
      "Epoch 192/300\n",
      "4182/4182 [==============================] - 406s 97ms/step - loss: 0.3651 - accuracy: 0.8390 - val_loss: 0.3780 - val_accuracy: 0.8319\n",
      "Epoch 193/300\n",
      "4182/4182 [==============================] - 409s 98ms/step - loss: 0.3624 - accuracy: 0.8395 - val_loss: 0.3768 - val_accuracy: 0.8328\n",
      "Epoch 194/300\n",
      "4182/4182 [==============================] - 405s 97ms/step - loss: 0.3653 - accuracy: 0.8387 - val_loss: 0.3830 - val_accuracy: 0.8319\n",
      "Epoch 195/300\n",
      "4182/4182 [==============================] - 416s 100ms/step - loss: 0.3643 - accuracy: 0.8381 - val_loss: 0.3795 - val_accuracy: 0.8319\n",
      "Epoch 196/300\n",
      "4182/4182 [==============================] - 404s 97ms/step - loss: 0.3662 - accuracy: 0.8381 - val_loss: 0.3762 - val_accuracy: 0.8327\n",
      "Epoch 197/300\n",
      "4182/4182 [==============================] - 410s 98ms/step - loss: 0.3652 - accuracy: 0.8379 - val_loss: 0.3770 - val_accuracy: 0.8329\n",
      "Epoch 198/300\n",
      "4182/4182 [==============================] - 405s 97ms/step - loss: 0.3631 - accuracy: 0.8396 - val_loss: 0.3792 - val_accuracy: 0.8321\n",
      "Epoch 199/300\n",
      "4182/4182 [==============================] - 414s 99ms/step - loss: 0.3662 - accuracy: 0.8382 - val_loss: 0.3799 - val_accuracy: 0.8325\n",
      "Epoch 200/300\n",
      "4182/4182 [==============================] - 417s 100ms/step - loss: 0.3628 - accuracy: 0.8392 - val_loss: 0.3759 - val_accuracy: 0.8324\n",
      "Epoch 201/300\n",
      "4182/4182 [==============================] - 416s 99ms/step - loss: 0.3631 - accuracy: 0.8391 - val_loss: 0.3796 - val_accuracy: 0.8323\n",
      "Epoch 202/300\n",
      "4182/4182 [==============================] - 416s 99ms/step - loss: 0.3645 - accuracy: 0.8390 - val_loss: 0.3786 - val_accuracy: 0.8320\n",
      "Epoch 203/300\n",
      "4182/4182 [==============================] - 411s 98ms/step - loss: 0.3646 - accuracy: 0.8391 - val_loss: 0.3763 - val_accuracy: 0.8328\n",
      "Epoch 204/300\n",
      "4182/4182 [==============================] - 404s 97ms/step - loss: 0.3642 - accuracy: 0.8393 - val_loss: 0.3831 - val_accuracy: 0.8313\n",
      "Epoch 205/300\n",
      "4182/4182 [==============================] - 411s 98ms/step - loss: 0.3643 - accuracy: 0.8392 - val_loss: 0.3770 - val_accuracy: 0.8328\n",
      "Epoch 206/300\n",
      "4182/4182 [==============================] - 409s 98ms/step - loss: 0.3640 - accuracy: 0.8391 - val_loss: 0.3763 - val_accuracy: 0.8332\n",
      "Epoch 207/300\n",
      "4182/4182 [==============================] - 412s 99ms/step - loss: 0.3645 - accuracy: 0.8389 - val_loss: 0.3813 - val_accuracy: 0.8311\n",
      "Epoch 208/300\n",
      "4182/4182 [==============================] - 413s 99ms/step - loss: 0.3644 - accuracy: 0.8392 - val_loss: 0.3812 - val_accuracy: 0.8323\n",
      "Epoch 209/300\n",
      "4182/4182 [==============================] - 412s 99ms/step - loss: 0.3632 - accuracy: 0.8399 - val_loss: 0.3782 - val_accuracy: 0.8323\n",
      "Epoch 00209: early stopping\n"
     ]
    }
   ],
   "source": [
    "history = model_high.fit([pep_train, aa_train, en_train, ec_train, e1_train, e2_train],\n",
    "                    y_train, \n",
    "                    epochs=300,\n",
    "                    batch_size=128,\n",
    "                    validation_data=([pep_val, aa_val, en_val, ec_val, e1_val, e2_val], y_val),\n",
    "                    callbacks=[es]\n",
    "                        )"
   ]
  },
  {
   "cell_type": "code",
   "execution_count": 22,
   "metadata": {
    "ExecuteTime": {
     "end_time": "2022-01-24T19:45:30.241103Z",
     "start_time": "2022-01-24T19:45:30.079551Z"
    }
   },
   "outputs": [],
   "source": [
    "plt.figure(figsize=(16,2))\n",
    "plt.subplot(1,2,1)\n",
    "plot_graphs(history, 'accuracy')\n",
    "plt.subplot(1,2,2)\n",
    "plot_graphs(history, 'loss')"
   ]
  },
  {
   "cell_type": "markdown",
   "metadata": {},
   "source": [
    "# eval"
   ]
  },
  {
   "cell_type": "code",
   "execution_count": 23,
   "metadata": {
    "ExecuteTime": {
     "end_time": "2022-01-24T19:49:12.582706Z",
     "start_time": "2022-01-24T19:45:30.244707Z"
    },
    "scrolled": false
   },
   "outputs": [
    {
     "name": "stdout",
     "output_type": "stream",
     "text": [
      "4188/4188 [==============================] - 73s 18ms/step - loss: 0.3679 - accuracy: 0.8371\n",
      "Test Loss: 0.3678658604621887\n",
      "Test Accuracy: 0.8371245861053467\n",
      "              precision    recall  f1-score   support\n",
      "\n",
      "           0       0.86      0.80      0.83     66996\n",
      "           1       0.82      0.87      0.84     66996\n",
      "\n",
      "    accuracy                           0.84    133992\n",
      "   macro avg       0.84      0.84      0.84    133992\n",
      "weighted avg       0.84      0.84      0.84    133992\n",
      "\n",
      "rf auc : 0.9175806778930852\n"
     ]
    },
    {
     "data": {
      "image/png": "[encoded data removed]",
      "text/plain": [
       "<Figure size 1600x200 with 2 Axes>"
      ]
     },
     "metadata": {},
     "output_type": "display_data"
    },
    {
     "data": {
      "image/png": "[encoded data removed]",
      "text/plain": [
       "<Figure size 400x400 with 1 Axes>"
      ]
     },
     "metadata": {},
     "output_type": "display_data"
    },
    {
     "data": {
      "image/png": "[encoded data removed]",
      "text/plain": [
       "<Figure size 300x300 with 2 Axes>"
      ]
     },
     "metadata": {},
     "output_type": "display_data"
    },
    {
     "data": {
      "image/png": "[encoded data removed]",
      "text/plain": [
       "<Figure size 300x300 with 2 Axes>"
      ]
     },
     "metadata": {},
     "output_type": "display_data"
    }
   ],
   "source": [
    "test_loss, test_acc = model_high.evaluate([pep_test, aa_test, en_test, ec_test, e1_test, e2_test], y_test)\n",
    "print('Test Loss: {}'.format(test_loss))\n",
    "print('Test Accuracy: {}'.format(test_acc))\n",
    "\n",
    "# prediction\n",
    "y_pred = [1 if i>=0.5 else 0 for i in model_high.predict([pep_test, aa_test, en_test, ec_test, e1_test, e2_test])]\n",
    "print(classification_report(y_test, y_pred))\n",
    "# AUC\n",
    "probs = model_high.predict([pep_test, aa_test, en_test, ec_test, e1_test, e2_test])\n",
    "rf_auc = roc_auc_score(y_test, probs)\n",
    "print('rf auc : {}'.format(rf_auc))\n",
    "# plot the roc curve for the model_high\n",
    "rf_fpr, rf_tpr, _ = roc_curve(y_test, probs)\n",
    "plt.figure(figsize=(4, 4))\n",
    "plt.plot(rf_fpr, rf_tpr, marker='.', label='RF AUC = {:.4f}'.format(rf_auc), color='orange')\n",
    "plt.title('ROC curve')\n",
    "# axis labels\n",
    "plt.xlabel('False Positive Rate')\n",
    "plt.ylabel('True Positive Rate')\n",
    "# show the legend\n",
    "plt.legend()\n",
    "# show the plot\n",
    "plt.show()\n",
    "\n",
    "cf_matrix = confusion_matrix(y_test, y_pred)\n",
    "plt.figure(figsize=(3, 3))\n",
    "sns.heatmap(cf_matrix, annot=True, fmt=',.0f')\n",
    "plt.show()\n",
    "plt.figure(figsize=(3, 3))\n",
    "sns.heatmap(cf_matrix/np.sum(cf_matrix), annot=True, \n",
    "            fmt='.2%', cmap='Blues')\n",
    "plt.show()"
   ]
  },
  {
   "cell_type": "code",
   "execution_count": 24,
   "metadata": {
    "ExecuteTime": {
     "end_time": "2022-01-24T19:50:36.723031Z",
     "start_time": "2022-01-24T19:49:12.586646Z"
    }
   },
   "outputs": [
    {
     "name": "stderr",
     "output_type": "stream",
     "text": [
      "WARNING:absl:Found untraced functions such as lstm_cell_13_layer_call_and_return_conditional_losses, lstm_cell_13_layer_call_fn, lstm_cell_14_layer_call_and_return_conditional_losses, lstm_cell_14_layer_call_fn, lstm_cell_1_layer_call_and_return_conditional_losses while saving (showing 5 of 50). These functions will not be directly callable after loading.\n",
      "WARNING:absl:Found untraced functions such as lstm_cell_13_layer_call_and_return_conditional_losses, lstm_cell_13_layer_call_fn, lstm_cell_14_layer_call_and_return_conditional_losses, lstm_cell_14_layer_call_fn, lstm_cell_1_layer_call_and_return_conditional_losses while saving (showing 5 of 50). These functions will not be directly callable after loading.\n"
     ]
    },
    {
     "name": "stdout",
     "output_type": "stream",
     "text": [
      "INFO:tensorflow:Assets written to: compareModel/2021DBDeep_forHPP/assets\n"
     ]
    },
    {
     "name": "stderr",
     "output_type": "stream",
     "text": [
      "INFO:tensorflow:Assets written to: compareModel/2021DBDeep_forHPP/assets\n"
     ]
    }
   ],
   "source": [
    "# Calling `save('my_model.h5')` creates a h5 file `my_model.h5`.\n",
    "model_high.save(\"compareModel/2021DBDeep_forHPP\")\n",
    "# model_high_re = tf.keras.models.load_model(\"compareModel/2021KSBi_multi_lr0005\")"
   ]
  },
  {
   "cell_type": "markdown",
   "metadata": {},
   "source": [
    "# prediction"
   ]
  },
  {
   "cell_type": "code",
   "execution_count": 25,
   "metadata": {
    "ExecuteTime": {
     "end_time": "2022-01-24T19:50:37.617854Z",
     "start_time": "2022-01-24T19:50:36.744574Z"
    }
   },
   "outputs": [
    {
     "name": "stdout",
     "output_type": "stream",
     "text": [
      "(21522, 39) (21522, 30) (21522, 15) (21522, 15) (21522, 15) (21522, 15) (21522,)\n"
     ]
    }
   ],
   "source": [
    "aa, pep, en, ec, e1, e2, y = get_data_labelEnc(df_hpp_uniq)\n",
    "print(aa.shape, pep.shape, en.shape, ec.shape, e1.shape, e2.shape, y.shape)"
   ]
  },
  {
   "cell_type": "code",
   "execution_count": 26,
   "metadata": {
    "ExecuteTime": {
     "end_time": "2022-01-24T19:50:48.144221Z",
     "start_time": "2022-01-24T19:50:37.619077Z"
    }
   },
   "outputs": [],
   "source": [
    "probs = model_high.predict([pep, aa, en, ec, e1, e2])"
   ]
  },
  {
   "cell_type": "code",
   "execution_count": 27,
   "metadata": {
    "ExecuteTime": {
     "end_time": "2022-01-24T19:50:48.148329Z",
     "start_time": "2022-01-24T19:50:48.145753Z"
    }
   },
   "outputs": [],
   "source": [
    "df_hpp_uniq['probs'] = probs"
   ]
  },
  {
   "cell_type": "code",
   "execution_count": 28,
   "metadata": {
    "ExecuteTime": {
     "end_time": "2022-01-24T19:50:48.172951Z",
     "start_time": "2022-01-24T19:50:48.149330Z"
    }
   },
   "outputs": [
    {
     "data": {
      "text/html": [
       "<div>\n",
       "<style scoped>\n",
       "    .dataframe tbody tr th:only-of-type {\n",
       "        vertical-align: middle;\n",
       "    }\n",
       "\n",
       "    .dataframe tbody tr th {\n",
       "        vertical-align: top;\n",
       "    }\n",
       "\n",
       "    .dataframe thead th {\n",
       "        text-align: right;\n",
       "    }\n",
       "</style>\n",
       "<table border=\"1\" class=\"dataframe\">\n",
       "  <thead>\n",
       "    <tr style=\"text-align: right;\">\n",
       "      <th></th>\n",
       "      <th>peptide</th>\n",
       "      <th>En</th>\n",
       "      <th>Ec</th>\n",
       "      <th>E1</th>\n",
       "      <th>E2</th>\n",
       "      <th>PEP</th>\n",
       "      <th>ID</th>\n",
       "      <th>Class</th>\n",
       "      <th>probs</th>\n",
       "    </tr>\n",
       "  </thead>\n",
       "  <tbody>\n",
       "    <tr>\n",
       "      <th>0</th>\n",
       "      <td>R.LVLDAALALQAR.G</td>\n",
       "      <td>LGVGGAERLVLDAAL</td>\n",
       "      <td>AALALQARGCSVKIW</td>\n",
       "      <td>-</td>\n",
       "      <td>-</td>\n",
       "      <td>LVLDAALALQAR</td>\n",
       "      <td>1</td>\n",
       "      <td>Detected_MPs</td>\n",
       "      <td>0.947544</td>\n",
       "    </tr>\n",
       "    <tr>\n",
       "      <th>1</th>\n",
       "      <td>K.IWTAHYDPGHCFAESR.E</td>\n",
       "      <td>QARGCSVKIWTAHYD</td>\n",
       "      <td>GHCFAESRELPVRCA</td>\n",
       "      <td>-</td>\n",
       "      <td>-</td>\n",
       "      <td>IWTAHYDPGHCFAESR</td>\n",
       "      <td>1</td>\n",
       "      <td>Detected_MPs</td>\n",
       "      <td>0.795319</td>\n",
       "    </tr>\n",
       "    <tr>\n",
       "      <th>2</th>\n",
       "      <td>R.CAGDWLPR.G</td>\n",
       "      <td>ESRELPVRCAGDWLP</td>\n",
       "      <td>CAGDWLPRGLGWGGR</td>\n",
       "      <td>-</td>\n",
       "      <td>-</td>\n",
       "      <td>CAGDWLPR</td>\n",
       "      <td>1</td>\n",
       "      <td>Detected_MPs</td>\n",
       "      <td>0.705757</td>\n",
       "    </tr>\n",
       "    <tr>\n",
       "      <th>3</th>\n",
       "      <td>R.GAAVCAYVR.M</td>\n",
       "      <td>RGLGWGGRGAAVCAY</td>\n",
       "      <td>AAVCAYVRMVFLALY</td>\n",
       "      <td>-</td>\n",
       "      <td>-</td>\n",
       "      <td>GAAVCAYVR</td>\n",
       "      <td>1</td>\n",
       "      <td>Detected_MPs</td>\n",
       "      <td>0.772080</td>\n",
       "    </tr>\n",
       "    <tr>\n",
       "      <th>4</th>\n",
       "      <td>K.ILFYCHFPDLLLTK.R</td>\n",
       "      <td>RLARRRKKILFYCHF</td>\n",
       "      <td>FPDLLLTKRDSFLKR</td>\n",
       "      <td>-</td>\n",
       "      <td>-</td>\n",
       "      <td>ILFYCHFPDLLLTK</td>\n",
       "      <td>1</td>\n",
       "      <td>Detected_MPs</td>\n",
       "      <td>0.795564</td>\n",
       "    </tr>\n",
       "    <tr>\n",
       "      <th>...</th>\n",
       "      <td>...</td>\n",
       "      <td>...</td>\n",
       "      <td>...</td>\n",
       "      <td>...</td>\n",
       "      <td>...</td>\n",
       "      <td>...</td>\n",
       "      <td>...</td>\n",
       "      <td>...</td>\n",
       "      <td>...</td>\n",
       "    </tr>\n",
       "    <tr>\n",
       "      <th>21517</th>\n",
       "      <td>K.GPEQSPQGRPVGTRQK.K</td>\n",
       "      <td>NNPKEKGKGPEQSPQ</td>\n",
       "      <td>RPVGTRQKKSPSINT</td>\n",
       "      <td>PEQSPQGRPVGTRQK</td>\n",
       "      <td>QGRPVGTRQKKSPSI</td>\n",
       "      <td>GPEQSPQGRPVGTRQK</td>\n",
       "      <td>1</td>\n",
       "      <td>MPs</td>\n",
       "      <td>0.499063</td>\n",
       "    </tr>\n",
       "    <tr>\n",
       "      <th>21518</th>\n",
       "      <td>K.VISGVLKGEPKPR.K</td>\n",
       "      <td>NMRKISAKVISGVLK</td>\n",
       "      <td>LKGEPKPRKLDFRSD</td>\n",
       "      <td>KVISGVLKGEPKPRK</td>\n",
       "      <td>GVLKGEPKPRKLDFR</td>\n",
       "      <td>VISGVLKGEPKPR</td>\n",
       "      <td>1</td>\n",
       "      <td>MPs</td>\n",
       "      <td>0.831710</td>\n",
       "    </tr>\n",
       "    <tr>\n",
       "      <th>21519</th>\n",
       "      <td>R.KPKVLGVLCGHK.F</td>\n",
       "      <td>LQEKFFKRKPKVLGV</td>\n",
       "      <td>LGVLCGHKFSTHSGC</td>\n",
       "      <td>QEKFFKRKPKVLGVL</td>\n",
       "      <td>KFFKRKPKVLGVLCG</td>\n",
       "      <td>KPKVLGVLCGHK</td>\n",
       "      <td>1</td>\n",
       "      <td>MPs</td>\n",
       "      <td>0.013474</td>\n",
       "    </tr>\n",
       "    <tr>\n",
       "      <th>21520</th>\n",
       "      <td>R.KPKVLGVLCGHK.F</td>\n",
       "      <td>LQEKFFKRKPKVLGV</td>\n",
       "      <td>LGVLCGHKFSTHSVS</td>\n",
       "      <td>QEKFFKRKPKVLGVL</td>\n",
       "      <td>KFFKRKPKVLGVLCG</td>\n",
       "      <td>KPKVLGVLCGHK</td>\n",
       "      <td>1</td>\n",
       "      <td>MPs</td>\n",
       "      <td>0.009315</td>\n",
       "    </tr>\n",
       "    <tr>\n",
       "      <th>21521</th>\n",
       "      <td>R.RPRAPVTPAR.R</td>\n",
       "      <td>WRRGGRGRRPRAPVT</td>\n",
       "      <td>RAPVTPARRRTSLPA</td>\n",
       "      <td>RRGGRGRRPRAPVTP</td>\n",
       "      <td>GGRGRRPRAPVTPAR</td>\n",
       "      <td>RPRAPVTPAR</td>\n",
       "      <td>1</td>\n",
       "      <td>MPs</td>\n",
       "      <td>0.073077</td>\n",
       "    </tr>\n",
       "  </tbody>\n",
       "</table>\n",
       "<p>21522 rows × 9 columns</p>\n",
       "</div>"
      ],
      "text/plain": [
       "                    peptide               En               Ec  \\\n",
       "0          R.LVLDAALALQAR.G  LGVGGAERLVLDAAL  AALALQARGCSVKIW   \n",
       "1      K.IWTAHYDPGHCFAESR.E  QARGCSVKIWTAHYD  GHCFAESRELPVRCA   \n",
       "2              R.CAGDWLPR.G  ESRELPVRCAGDWLP  CAGDWLPRGLGWGGR   \n",
       "3             R.GAAVCAYVR.M  RGLGWGGRGAAVCAY  AAVCAYVRMVFLALY   \n",
       "4        K.ILFYCHFPDLLLTK.R  RLARRRKKILFYCHF  FPDLLLTKRDSFLKR   \n",
       "...                     ...              ...              ...   \n",
       "21517  K.GPEQSPQGRPVGTRQK.K  NNPKEKGKGPEQSPQ  RPVGTRQKKSPSINT   \n",
       "21518     K.VISGVLKGEPKPR.K  NMRKISAKVISGVLK  LKGEPKPRKLDFRSD   \n",
       "21519      R.KPKVLGVLCGHK.F  LQEKFFKRKPKVLGV  LGVLCGHKFSTHSGC   \n",
       "21520      R.KPKVLGVLCGHK.F  LQEKFFKRKPKVLGV  LGVLCGHKFSTHSVS   \n",
       "21521        R.RPRAPVTPAR.R  WRRGGRGRRPRAPVT  RAPVTPARRRTSLPA   \n",
       "\n",
       "                    E1               E2               PEP  ID         Class  \\\n",
       "0                    -                -      LVLDAALALQAR   1  Detected_MPs   \n",
       "1                    -                -  IWTAHYDPGHCFAESR   1  Detected_MPs   \n",
       "2                    -                -          CAGDWLPR   1  Detected_MPs   \n",
       "3                    -                -         GAAVCAYVR   1  Detected_MPs   \n",
       "4                    -                -    ILFYCHFPDLLLTK   1  Detected_MPs   \n",
       "...                ...              ...               ...  ..           ...   \n",
       "21517  PEQSPQGRPVGTRQK  QGRPVGTRQKKSPSI  GPEQSPQGRPVGTRQK   1           MPs   \n",
       "21518  KVISGVLKGEPKPRK  GVLKGEPKPRKLDFR     VISGVLKGEPKPR   1           MPs   \n",
       "21519  QEKFFKRKPKVLGVL  KFFKRKPKVLGVLCG      KPKVLGVLCGHK   1           MPs   \n",
       "21520  QEKFFKRKPKVLGVL  KFFKRKPKVLGVLCG      KPKVLGVLCGHK   1           MPs   \n",
       "21521  RRGGRGRRPRAPVTP  GGRGRRPRAPVTPAR        RPRAPVTPAR   1           MPs   \n",
       "\n",
       "          probs  \n",
       "0      0.947544  \n",
       "1      0.795319  \n",
       "2      0.705757  \n",
       "3      0.772080  \n",
       "4      0.795564  \n",
       "...         ...  \n",
       "21517  0.499063  \n",
       "21518  0.831710  \n",
       "21519  0.013474  \n",
       "21520  0.009315  \n",
       "21521  0.073077  \n",
       "\n",
       "[21522 rows x 9 columns]"
      ]
     },
     "execution_count": 28,
     "metadata": {},
     "output_type": "execute_result"
    }
   ],
   "source": [
    "df_hpp_uniq"
   ]
  },
  {
   "cell_type": "code",
   "execution_count": 29,
   "metadata": {
    "ExecuteTime": {
     "end_time": "2022-01-24T19:50:48.187549Z",
     "start_time": "2022-01-24T19:50:48.173926Z"
    }
   },
   "outputs": [],
   "source": [
    "dmp = df_hpp_uniq.loc[df_hpp_uniq.Class=='Detected_MPs']\n",
    "mp = df_hpp_uniq.loc[df_hpp_uniq.Class=='MPs']\n",
    "pe = df_hpp_uniq.loc[df_hpp_uniq.Class=='PE1']"
   ]
  },
  {
   "cell_type": "code",
   "execution_count": 30,
   "metadata": {
    "ExecuteTime": {
     "end_time": "2022-01-24T19:50:48.196738Z",
     "start_time": "2022-01-24T19:50:48.188490Z"
    }
   },
   "outputs": [
    {
     "name": "stdout",
     "output_type": "stream",
     "text": [
      "7523 7478 4910\n"
     ]
    }
   ],
   "source": [
    "print(len(pe.PEP.unique()), len(dmp.PEP.unique()), len(mp.PEP.unique()))"
   ]
  },
  {
   "cell_type": "code",
   "execution_count": 31,
   "metadata": {
    "ExecuteTime": {
     "end_time": "2022-01-24T19:50:48.200172Z",
     "start_time": "2022-01-24T19:50:48.197696Z"
    }
   },
   "outputs": [],
   "source": [
    "df_sns = df_hpp_uniq[['Class', 'probs']]"
   ]
  },
  {
   "cell_type": "code",
   "execution_count": 32,
   "metadata": {
    "ExecuteTime": {
     "end_time": "2022-01-24T19:50:48.206291Z",
     "start_time": "2022-01-24T19:50:48.201120Z"
    }
   },
   "outputs": [],
   "source": [
    "mp_seq = mp.PEP.unique()"
   ]
  },
  {
   "cell_type": "code",
   "execution_count": 33,
   "metadata": {
    "ExecuteTime": {
     "end_time": "2022-01-24T19:50:48.211996Z",
     "start_time": "2022-01-24T19:50:48.207252Z"
    }
   },
   "outputs": [],
   "source": [
    "mp_len = list(map(lambda x: len(x), mp.PEP.unique()))"
   ]
  },
  {
   "cell_type": "code",
   "execution_count": 34,
   "metadata": {
    "ExecuteTime": {
     "end_time": "2022-01-24T19:50:48.328770Z",
     "start_time": "2022-01-24T19:50:48.212965Z"
    }
   },
   "outputs": [
    {
     "data": {
      "image/png": "[encoded data removed]",
      "text/plain": [
       "<Figure size 1400x200 with 1 Axes>"
      ]
     },
     "metadata": {},
     "output_type": "display_data"
    }
   ],
   "source": [
    "plt.figure(figsize=(14,2))\n",
    "sns.violinplot(x=mp_len, color='gray')\n",
    "\n",
    "plt.title('missing peptides length distribution')\n",
    "plt.xlabel('peptide_length')\n",
    "plt.ylabel('freq')\n",
    "plt.show()"
   ]
  },
  {
   "cell_type": "code",
   "execution_count": 35,
   "metadata": {
    "ExecuteTime": {
     "end_time": "2022-01-24T19:50:48.336977Z",
     "start_time": "2022-01-24T19:50:48.330263Z"
    }
   },
   "outputs": [
    {
     "name": "stderr",
     "output_type": "stream",
     "text": [
      "/home/bis/miniconda3/envs/TF2.4/lib/python3.7/site-packages/ipykernel_launcher.py:1: SettingWithCopyWarning: \n",
      "A value is trying to be set on a copy of a slice from a DataFrame.\n",
      "Try using .loc[row_indexer,col_indexer] = value instead\n",
      "\n",
      "See the caveats in the documentation: https://pandas.pydata.org/pandas-docs/stable/user_guide/indexing.html#returning-a-view-versus-a-copy\n",
      "  \"\"\"Entry point for launching an IPython kernel.\n"
     ]
    }
   ],
   "source": [
    "mp['probs_rnd'] = mp.probs.apply(lambda x: round(x, 2))"
   ]
  },
  {
   "cell_type": "code",
   "execution_count": 36,
   "metadata": {
    "ExecuteTime": {
     "end_time": "2022-01-24T19:50:48.358801Z",
     "start_time": "2022-01-24T19:50:48.337966Z"
    }
   },
   "outputs": [
    {
     "data": {
      "text/html": [
       "<div>\n",
       "<style scoped>\n",
       "    .dataframe tbody tr th:only-of-type {\n",
       "        vertical-align: middle;\n",
       "    }\n",
       "\n",
       "    .dataframe tbody tr th {\n",
       "        vertical-align: top;\n",
       "    }\n",
       "\n",
       "    .dataframe thead th {\n",
       "        text-align: right;\n",
       "    }\n",
       "</style>\n",
       "<table border=\"1\" class=\"dataframe\">\n",
       "  <thead>\n",
       "    <tr style=\"text-align: right;\">\n",
       "      <th></th>\n",
       "      <th>peptide</th>\n",
       "      <th>En</th>\n",
       "      <th>Ec</th>\n",
       "      <th>E1</th>\n",
       "      <th>E2</th>\n",
       "      <th>PEP</th>\n",
       "      <th>ID</th>\n",
       "      <th>Class</th>\n",
       "      <th>probs</th>\n",
       "      <th>probs_rnd</th>\n",
       "    </tr>\n",
       "  </thead>\n",
       "  <tbody>\n",
       "    <tr>\n",
       "      <th>17247</th>\n",
       "      <td>K.NKGDLEEPIIFSEVR.M</td>\n",
       "      <td>GLRLMWYKNKGDLEE</td>\n",
       "      <td>PIIFSEVRMSKEEDS</td>\n",
       "      <td>RLMWYKNKGDLEEPI</td>\n",
       "      <td>-</td>\n",
       "      <td>NKGDLEEPIIFSEVR</td>\n",
       "      <td>1</td>\n",
       "      <td>MPs</td>\n",
       "      <td>9.783533e-01</td>\n",
       "      <td>0.98</td>\n",
       "    </tr>\n",
       "    <tr>\n",
       "      <th>5977</th>\n",
       "      <td>R.YATILTNPVIAK.A</td>\n",
       "      <td>VAICYPLRYATILTN</td>\n",
       "      <td>LTNPVIAKAGLATFL</td>\n",
       "      <td>-</td>\n",
       "      <td>-</td>\n",
       "      <td>YATILTNPVIAK</td>\n",
       "      <td>1</td>\n",
       "      <td>MPs</td>\n",
       "      <td>9.781814e-01</td>\n",
       "      <td>0.98</td>\n",
       "    </tr>\n",
       "    <tr>\n",
       "      <th>6622</th>\n",
       "      <td>K.TAEAHWITTPNQLLR.I</td>\n",
       "      <td>DTIFRNSKTAEAHWI</td>\n",
       "      <td>TTPNQLLRIWNDGKI</td>\n",
       "      <td>-</td>\n",
       "      <td>-</td>\n",
       "      <td>TAEAHWITTPNQLLR</td>\n",
       "      <td>1</td>\n",
       "      <td>MPs</td>\n",
       "      <td>9.774415e-01</td>\n",
       "      <td>0.98</td>\n",
       "    </tr>\n",
       "    <tr>\n",
       "      <th>5555</th>\n",
       "      <td>K.TTDDYLQSQFGPNR.L</td>\n",
       "      <td>SQAKAVIKTTDDYLQ</td>\n",
       "      <td>QSQFGPNRLVHSAAV</td>\n",
       "      <td>-</td>\n",
       "      <td>-</td>\n",
       "      <td>TTDDYLQSQFGPNR</td>\n",
       "      <td>1</td>\n",
       "      <td>MPs</td>\n",
       "      <td>9.771639e-01</td>\n",
       "      <td>0.98</td>\n",
       "    </tr>\n",
       "    <tr>\n",
       "      <th>3409</th>\n",
       "      <td>K.FGHPNNIIGVGGAK.S</td>\n",
       "      <td>CVGFSNAKFGHPNNI</td>\n",
       "      <td>IIGVGGAKSMADGWE</td>\n",
       "      <td>-</td>\n",
       "      <td>-</td>\n",
       "      <td>FGHPNNIIGVGGAK</td>\n",
       "      <td>1</td>\n",
       "      <td>MPs</td>\n",
       "      <td>9.770771e-01</td>\n",
       "      <td>0.98</td>\n",
       "    </tr>\n",
       "    <tr>\n",
       "      <th>...</th>\n",
       "      <td>...</td>\n",
       "      <td>...</td>\n",
       "      <td>...</td>\n",
       "      <td>...</td>\n",
       "      <td>...</td>\n",
       "      <td>...</td>\n",
       "      <td>...</td>\n",
       "      <td>...</td>\n",
       "      <td>...</td>\n",
       "      <td>...</td>\n",
       "    </tr>\n",
       "    <tr>\n",
       "      <th>6279</th>\n",
       "      <td>K.IELAGGLGAIFLLLVLLVVIYK.C</td>\n",
       "      <td>RKKDLIYKIELAGGL</td>\n",
       "      <td>VLLVVIYKCYNIELM</td>\n",
       "      <td>-</td>\n",
       "      <td>-</td>\n",
       "      <td>IELAGGLGAIFLLLVLLVVIYK</td>\n",
       "      <td>1</td>\n",
       "      <td>MPs</td>\n",
       "      <td>9.894085e-07</td>\n",
       "      <td>0.00</td>\n",
       "    </tr>\n",
       "    <tr>\n",
       "      <th>8916</th>\n",
       "      <td>K.IVFVIFLIFYMGTVVGNMLIIVTIK.S</td>\n",
       "      <td>TQDPLRQKIVFVIFL</td>\n",
       "      <td>MLIIVTIKSSRTLGS</td>\n",
       "      <td>-</td>\n",
       "      <td>-</td>\n",
       "      <td>IVFVIFLIFYMGTVVGNMLIIVTIK</td>\n",
       "      <td>1</td>\n",
       "      <td>MPs</td>\n",
       "      <td>3.177670e-09</td>\n",
       "      <td>0.00</td>\n",
       "    </tr>\n",
       "    <tr>\n",
       "      <th>14005</th>\n",
       "      <td>K.GFAIAFVVLLFLFLIVMIFRCAK.L</td>\n",
       "      <td>SSGVDVDKGFAIAFV</td>\n",
       "      <td>VMIFRCAKLVKNPYK</td>\n",
       "      <td>FLIVMIFRCAKLVKN</td>\n",
       "      <td>-</td>\n",
       "      <td>GFAIAFVVLLFLFLIVMIFRCAK</td>\n",
       "      <td>1</td>\n",
       "      <td>MPs</td>\n",
       "      <td>3.567005e-19</td>\n",
       "      <td>0.00</td>\n",
       "    </tr>\n",
       "    <tr>\n",
       "      <th>13094</th>\n",
       "      <td>K.MTFVFVILLFIFLGILIVR.C</td>\n",
       "      <td>SSMSLEQKMTFVFVI</td>\n",
       "      <td>FLGILIVRCFRILLD</td>\n",
       "      <td>-</td>\n",
       "      <td>-</td>\n",
       "      <td>MTFVFVILLFIFLGILIVR</td>\n",
       "      <td>1</td>\n",
       "      <td>MPs</td>\n",
       "      <td>3.342863e-33</td>\n",
       "      <td>0.00</td>\n",
       "    </tr>\n",
       "    <tr>\n",
       "      <th>7836</th>\n",
       "      <td>R.GAAGGALCLFFAGTALLIGIFVLLWCLYR.R</td>\n",
       "      <td>VTLVGRPRGAAGGAL</td>\n",
       "      <td>VLLWCLYRRAARQRP</td>\n",
       "      <td>-</td>\n",
       "      <td>-</td>\n",
       "      <td>GAAGGALCLFFAGTALLIGIFVLLWCLYR</td>\n",
       "      <td>1</td>\n",
       "      <td>MPs</td>\n",
       "      <td>5.436338e-34</td>\n",
       "      <td>0.00</td>\n",
       "    </tr>\n",
       "  </tbody>\n",
       "</table>\n",
       "<p>5101 rows × 10 columns</p>\n",
       "</div>"
      ],
      "text/plain": [
       "                                 peptide               En               Ec  \\\n",
       "17247                K.NKGDLEEPIIFSEVR.M  GLRLMWYKNKGDLEE  PIIFSEVRMSKEEDS   \n",
       "5977                    R.YATILTNPVIAK.A  VAICYPLRYATILTN  LTNPVIAKAGLATFL   \n",
       "6622                 K.TAEAHWITTPNQLLR.I  DTIFRNSKTAEAHWI  TTPNQLLRIWNDGKI   \n",
       "5555                  K.TTDDYLQSQFGPNR.L  SQAKAVIKTTDDYLQ  QSQFGPNRLVHSAAV   \n",
       "3409                  K.FGHPNNIIGVGGAK.S  CVGFSNAKFGHPNNI  IIGVGGAKSMADGWE   \n",
       "...                                  ...              ...              ...   \n",
       "6279          K.IELAGGLGAIFLLLVLLVVIYK.C  RKKDLIYKIELAGGL  VLLVVIYKCYNIELM   \n",
       "8916       K.IVFVIFLIFYMGTVVGNMLIIVTIK.S  TQDPLRQKIVFVIFL  MLIIVTIKSSRTLGS   \n",
       "14005        K.GFAIAFVVLLFLFLIVMIFRCAK.L  SSGVDVDKGFAIAFV  VMIFRCAKLVKNPYK   \n",
       "13094            K.MTFVFVILLFIFLGILIVR.C  SSMSLEQKMTFVFVI  FLGILIVRCFRILLD   \n",
       "7836   R.GAAGGALCLFFAGTALLIGIFVLLWCLYR.R  VTLVGRPRGAAGGAL  VLLWCLYRRAARQRP   \n",
       "\n",
       "                    E1 E2                            PEP  ID Class  \\\n",
       "17247  RLMWYKNKGDLEEPI  -                NKGDLEEPIIFSEVR   1   MPs   \n",
       "5977                 -  -                   YATILTNPVIAK   1   MPs   \n",
       "6622                 -  -                TAEAHWITTPNQLLR   1   MPs   \n",
       "5555                 -  -                 TTDDYLQSQFGPNR   1   MPs   \n",
       "3409                 -  -                 FGHPNNIIGVGGAK   1   MPs   \n",
       "...                ... ..                            ...  ..   ...   \n",
       "6279                 -  -         IELAGGLGAIFLLLVLLVVIYK   1   MPs   \n",
       "8916                 -  -      IVFVIFLIFYMGTVVGNMLIIVTIK   1   MPs   \n",
       "14005  FLIVMIFRCAKLVKN  -        GFAIAFVVLLFLFLIVMIFRCAK   1   MPs   \n",
       "13094                -  -            MTFVFVILLFIFLGILIVR   1   MPs   \n",
       "7836                 -  -  GAAGGALCLFFAGTALLIGIFVLLWCLYR   1   MPs   \n",
       "\n",
       "              probs  probs_rnd  \n",
       "17247  9.783533e-01       0.98  \n",
       "5977   9.781814e-01       0.98  \n",
       "6622   9.774415e-01       0.98  \n",
       "5555   9.771639e-01       0.98  \n",
       "3409   9.770771e-01       0.98  \n",
       "...             ...        ...  \n",
       "6279   9.894085e-07       0.00  \n",
       "8916   3.177670e-09       0.00  \n",
       "14005  3.567005e-19       0.00  \n",
       "13094  3.342863e-33       0.00  \n",
       "7836   5.436338e-34       0.00  \n",
       "\n",
       "[5101 rows x 10 columns]"
      ]
     },
     "execution_count": 36,
     "metadata": {},
     "output_type": "execute_result"
    }
   ],
   "source": [
    "mp.sort_values('probs', ascending=False)"
   ]
  },
  {
   "cell_type": "code",
   "execution_count": 37,
   "metadata": {
    "ExecuteTime": {
     "end_time": "2022-01-24T19:50:48.554041Z",
     "start_time": "2022-01-24T19:50:48.359760Z"
    }
   },
   "outputs": [
    {
     "data": {
      "image/png": "[encoded data removed]",
      "text/plain": [
       "<Figure size 640x480 with 1 Axes>"
      ]
     },
     "metadata": {},
     "output_type": "display_data"
    }
   ],
   "source": [
    "plt.title('Peptide Detectability')\n",
    "plt.ylabel('Detectability')\n",
    "plt.xlabel('Type')\n",
    "\n",
    "sns.violinplot(data=df_sns, x='Class', y='probs', order=['PE1', 'Detected_MPs', 'MPs'])\n",
    "plt.show()"
   ]
  },
  {
   "cell_type": "code",
   "execution_count": 63,
   "metadata": {
    "ExecuteTime": {
     "end_time": "2022-01-04T03:06:24.643037Z",
     "start_time": "2022-01-04T03:06:24.402965Z"
    }
   },
   "outputs": [
    {
     "data": {
      "image/png": "[encoded data removed]",
      "text/plain": [
       "<Figure size 640x480 with 1 Axes>"
      ]
     },
     "metadata": {},
     "output_type": "display_data"
    }
   ],
   "source": [
    "plt.title('Peptide Detectability')\n",
    "plt.ylabel('Detectability')\n",
    "plt.xlabel('Type')\n",
    "\n",
    "sns.violinplot(data=df_sns, x='Class', y='probs', order=['PE1', 'Detected_MPs', 'MPs'])\n",
    "plt.show()"
   ]
  },
  {
   "cell_type": "code",
   "execution_count": null,
   "metadata": {},
   "outputs": [],
   "source": []
  }
 ],
 "metadata": {
  "kernelspec": {
   "display_name": "TF2.4",
   "language": "python",
   "name": "tf2.4"
  },
  "language_info": {
   "codemirror_mode": {
    "name": "ipython",
    "version": 3
   },
   "file_extension": ".py",
   "mimetype": "text/x-python",
   "name": "python",
   "nbconvert_exporter": "python",
   "pygments_lexer": "ipython3",
   "version": "3.7.0"
  }
 },
 "nbformat": 4,
 "nbformat_minor": 4
}
