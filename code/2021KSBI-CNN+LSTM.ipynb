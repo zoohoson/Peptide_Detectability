{
 "cells": [
  {
   "cell_type": "code",
   "execution_count": 1,
   "metadata": {
    "ExecuteTime": {
     "end_time": "2021-10-20T19:04:34.970502Z",
     "start_time": "2021-10-20T19:04:33.159422Z"
    }
   },
   "outputs": [],
   "source": [
    "import warnings\n",
    "warnings.simplefilter(action='ignore', category=FutureWarning)\n",
    "\n",
    "import argparse\n",
    "import numpy as np\n",
    "import tensorflow as tf\n",
    "from tensorflow import keras"
   ]
  },
  {
   "cell_type": "code",
   "execution_count": 2,
   "metadata": {
    "ExecuteTime": {
     "end_time": "2021-10-20T19:04:36.002792Z",
     "start_time": "2021-10-20T19:04:35.959804Z"
    }
   },
   "outputs": [],
   "source": [
    "import tensorflow as tf\n",
    "gpus = tf.config.experimental.list_physical_devices('GPU')\n",
    "if gpus:\n",
    "    try:\n",
    "        tf.config.experimental.set_virtual_device_configuration(gpus[0],\n",
    "        [tf.config.experimental.VirtualDeviceConfiguration(memory_limit=1024*4)])\n",
    "    except RuntimeError as e:\n",
    "        print(e)"
   ]
  },
  {
   "cell_type": "code",
   "execution_count": 3,
   "metadata": {
    "ExecuteTime": {
     "end_time": "2021-10-20T19:04:36.180674Z",
     "start_time": "2021-10-20T19:04:36.175614Z"
    }
   },
   "outputs": [],
   "source": [
    "def load_pep_and_codify(file, max_len):\n",
    "    aa_dict={'A':1,'R':2,'N':3,'D':4,'C':5,'Q':6,'E':7,'G':8,'H':9,'I':10,'L':11,'K':12,'M':13,'F':14,\n",
    "        'P':15,'O':16,'S':17,'U':18,'T':19,'W':20,'Y':21,'V':22}\n",
    "    with open(file, 'r') as inf:\n",
    "        lines = inf.read().splitlines()\n",
    "    pep_codes=[]\n",
    "    long_pep_counter = 0\n",
    "    newLines = []\n",
    "    for pep in lines:\n",
    "        if not len(pep) > max_len:\n",
    "            current_pep=[]\n",
    "            for aa in pep:\n",
    "                current_pep.append(aa_dict[aa])\n",
    "            pep_codes.append(current_pep)\n",
    "            newLines.extend([pep])\n",
    "        else:\n",
    "            long_pep_counter += 1\n",
    "    predict_data = keras.preprocessing.sequence.pad_sequences(pep_codes, value=0, padding='post', maxlen=max_len)\n",
    "    return predict_data, long_pep_counter, newLines"
   ]
  },
  {
   "cell_type": "markdown",
   "metadata": {},
   "source": [
    "# New Train"
   ]
  },
  {
   "cell_type": "code",
   "execution_count": 4,
   "metadata": {
    "ExecuteTime": {
     "end_time": "2021-10-20T19:04:42.298380Z",
     "start_time": "2021-10-20T19:04:37.295825Z"
    }
   },
   "outputs": [
    {
     "name": "stdout",
     "output_type": "stream",
     "text": [
      "Model: \"model\"\n",
      "_________________________________________________________________\n",
      "Layer (type)                 Output Shape              Param #   \n",
      "=================================================================\n",
      "input_1 (InputLayer)         [(None, 30)]              0         \n",
      "_________________________________________________________________\n",
      "embedding (Embedding)        (None, 30, 50)            1150      \n",
      "_________________________________________________________________\n",
      "dropout (Dropout)            (None, 30, 50)            0         \n",
      "_________________________________________________________________\n",
      "tf.reshape (TFOpLambda)      (None, 30, 50, 1)         0         \n",
      "_________________________________________________________________\n",
      "time_distributed (TimeDistri (None, 30, 50, 32)        128       \n",
      "_________________________________________________________________\n",
      "time_distributed_1 (TimeDist (None, 30, 25, 32)        0         \n",
      "_________________________________________________________________\n",
      "time_distributed_2 (TimeDist (None, 30, 800)           0         \n",
      "_________________________________________________________________\n",
      "lstm (LSTM)                  (None, 32)                106624    \n",
      "_________________________________________________________________\n",
      "dense (Dense)                (None, 16)                528       \n",
      "_________________________________________________________________\n",
      "dropout_1 (Dropout)          (None, 16)                0         \n",
      "_________________________________________________________________\n",
      "dense_1 (Dense)              (None, 1)                 17        \n",
      "=================================================================\n",
      "Total params: 108,447\n",
      "Trainable params: 108,447\n",
      "Non-trainable params: 0\n",
      "_________________________________________________________________\n"
     ]
    }
   ],
   "source": [
    "pep = tf.keras.layers.Input(shape=((30,)))\n",
    "input1_ = tf.keras.layers.Embedding(23, 50, input_length=30, mask_zero=True)(pep)\n",
    "input1 = tf.keras.layers.Dropout(np.random.uniform(0, 0.2))(input1_)\n",
    "\n",
    "reshap = keras.backend.reshape(input1, [-1, 30, 50, 1])\n",
    "\n",
    "cnn1 = tf.keras.layers.TimeDistributed(\n",
    "    tf.keras.layers.Conv1D(\n",
    "        filters=32, kernel_size=3, strides=1, padding='same')\n",
    "    )(reshap)\n",
    "\n",
    "avgpool = tf.keras.layers.TimeDistributed(\n",
    "    tf.keras.layers.AveragePooling1D(pool_size=2)\n",
    "    )(cnn1)\n",
    "\n",
    "flat = tf.keras.layers.TimeDistributed(\n",
    "    tf.keras.layers.Flatten()\n",
    "    )(avgpool)\n",
    "\n",
    "lstm = tf.keras.layers.LSTM(32)(flat)\n",
    "    \n",
    "den = tf.keras.layers.Dense(16, activation='relu')(lstm)\n",
    "dropout1 = tf.keras.layers.Dropout(np.random.uniform(0, 0.2))(den)\n",
    "output = tf.keras.layers.Dense(1, activation='sigmoid')(dropout1)\n",
    "\n",
    "model = tf.keras.Model(inputs=pep, outputs=[output])\n",
    "model.summary()\n",
    "\n",
    "model.compile(loss=tf.keras.losses.BinaryCrossentropy(from_logits=True),\n",
    "              optimizer=tf.keras.optimizers.Adam(1e-4),\n",
    "              metrics=['accuracy'])\n",
    "\n",
    "es = tf.keras.callbacks.EarlyStopping(monitor='val_loss',\n",
    "                                      mode='min', \n",
    "                                      verbose=1,\n",
    "                                      patience=20)"
   ]
  },
  {
   "cell_type": "markdown",
   "metadata": {},
   "source": [
    "# 1. Make Data X_train, y_train, X_test, y_test"
   ]
  },
  {
   "cell_type": "code",
   "execution_count": 5,
   "metadata": {
    "ExecuteTime": {
     "end_time": "2021-10-20T19:04:42.998520Z",
     "start_time": "2021-10-20T19:04:42.299948Z"
    }
   },
   "outputs": [],
   "source": [
    "import matplotlib.pyplot as plt\n",
    "import pandas as pd\n",
    "from sklearn.model_selection import train_test_split\n",
    "\n",
    "file_path = 'compareModel/2019Bioinformatics_DeepMSPeptide/DeepMSPeptide/'"
   ]
  },
  {
   "cell_type": "code",
   "execution_count": null,
   "metadata": {
    "ExecuteTime": {
     "start_time": "2021-10-20T19:04:40.983Z"
    }
   },
   "outputs": [],
   "source": [
    "# make DeepMSpeptide format\n",
    "df_peptide_train = pd.read_csv('data/df_detect_peptide_train.csv')\n",
    "df_peptide_test = pd.read_csv('data/df_detect_peptide_test.csv')\n",
    "\n",
    "inp = open(file_path+'detect_peptide_train.txt', 'w')\n",
    "inp_y = open(file_path+'detect_peptide_train_y.txt', 'w')\n",
    "for x, y in df_peptide_train[['PEP', 'ID']].values:\n",
    "    inp.write(x+'\\n')\n",
    "    inp_y.write(str(y)+'\\n')\n",
    "inp.close()\n",
    "inp_y.close()\n",
    "\n",
    "inp = open(file_path+'detect_peptide_test.txt', 'w')\n",
    "inp_y = open(file_path+'detect_peptide_test_y.txt', 'w')\n",
    "for x, y in df_peptide_test[['PEP', 'ID']].values:\n",
    "    inp.write(x+'\\n')\n",
    "    inp_y.write(str(y)+'\\n')\n",
    "inp.close()\n",
    "inp_y.close()\n",
    "\n",
    "args = file_path + 'detect_peptide_train.txt'\n",
    "print('Loading input peptides')\n",
    "X_train, skipped, lines = load_pep_and_codify(args, 30)\n",
    "tmp = open(file_path+'detect_peptide_train_y.txt')\n",
    "y_train = np.array([int(_.replace('\\n', '')) for _ in tmp.readlines()])\n",
    "tmp.close()\n",
    "print('Succesfully loaded {0} peptides and skipped {1}'.format(len(lines), str(skipped)))\n",
    "\n",
    "args = file_path + 'detect_peptide_test.txt'\n",
    "print('Loading input peptides')\n",
    "X_test, skipped, lines = load_pep_and_codify(args, 30)\n",
    "tmp = open(file_path+'detect_peptide_test_y.txt')\n",
    "y_test = np.array([int(_.replace('\\n', '')) for _ in tmp.readlines()])\n",
    "tmp.close()\n",
    "print('Succesfully loaded {0} peptides and skipped {1}'.format(len(lines), str(skipped)))\n",
    "\n",
    "X_train, X_val, y_train, y_val = train_test_split(X_train, y_train, test_size=0.2)\n",
    "print(X_train.shape, X_val.shape, X_test.shape, y_train.shape, y_val.shape, y_test.shape)\n"
   ]
  },
  {
   "cell_type": "markdown",
   "metadata": {},
   "source": [
    "# 2. train"
   ]
  },
  {
   "cell_type": "code",
   "execution_count": null,
   "metadata": {
    "ExecuteTime": {
     "start_time": "2021-10-20T19:04:42.311Z"
    }
   },
   "outputs": [],
   "source": [
    "def plot_graphs(history, metric):\n",
    "    plt.plot(history.history[metric])\n",
    "    plt.plot(history.history['val_'+metric], '')\n",
    "    plt.xlabel(\"Epochs\")\n",
    "    plt.ylabel(metric)\n",
    "    plt.legend([metric, 'val_'+metric])"
   ]
  },
  {
   "cell_type": "code",
   "execution_count": 19,
   "metadata": {
    "ExecuteTime": {
     "end_time": "2021-09-07T07:52:23.308542Z",
     "start_time": "2021-09-07T07:35:59.260948Z"
    }
   },
   "outputs": [
    {
     "name": "stdout",
     "output_type": "stream",
     "text": [
      "Epoch 1/200\n",
      "2154/2154 [==============================] - 14s 6ms/step - loss: 0.5617 - accuracy: 0.6923 - val_loss: 0.4413 - val_accuracy: 0.7927\n",
      "Epoch 2/200\n",
      "2154/2154 [==============================] - 12s 6ms/step - loss: 0.4454 - accuracy: 0.7904 - val_loss: 0.4350 - val_accuracy: 0.7967\n",
      "Epoch 3/200\n",
      "2154/2154 [==============================] - 12s 6ms/step - loss: 0.4354 - accuracy: 0.7972 - val_loss: 0.4305 - val_accuracy: 0.8000\n",
      "Epoch 4/200\n",
      "2154/2154 [==============================] - 12s 6ms/step - loss: 0.4283 - accuracy: 0.8019 - val_loss: 0.4205 - val_accuracy: 0.8062\n",
      "Epoch 5/200\n",
      "2154/2154 [==============================] - 12s 6ms/step - loss: 0.4216 - accuracy: 0.8072 - val_loss: 0.4109 - val_accuracy: 0.8123\n",
      "Epoch 6/200\n",
      "2154/2154 [==============================] - 12s 6ms/step - loss: 0.4163 - accuracy: 0.8109 - val_loss: 0.4096 - val_accuracy: 0.8141\n",
      "Epoch 7/200\n",
      "2154/2154 [==============================] - 12s 6ms/step - loss: 0.4108 - accuracy: 0.8130 - val_loss: 0.4022 - val_accuracy: 0.8174\n",
      "Epoch 8/200\n",
      "2154/2154 [==============================] - 13s 6ms/step - loss: 0.4071 - accuracy: 0.8165 - val_loss: 0.4099 - val_accuracy: 0.8127\n",
      "Epoch 9/200\n",
      "2154/2154 [==============================] - 12s 6ms/step - loss: 0.4060 - accuracy: 0.8167 - val_loss: 0.3984 - val_accuracy: 0.8196\n",
      "Epoch 10/200\n",
      "2154/2154 [==============================] - 12s 6ms/step - loss: 0.4012 - accuracy: 0.8197 - val_loss: 0.3950 - val_accuracy: 0.8222\n",
      "Epoch 11/200\n",
      "2154/2154 [==============================] - 12s 6ms/step - loss: 0.3998 - accuracy: 0.8201 - val_loss: 0.4062 - val_accuracy: 0.8134\n",
      "Epoch 12/200\n",
      "2154/2154 [==============================] - 12s 6ms/step - loss: 0.3990 - accuracy: 0.8191 - val_loss: 0.3957 - val_accuracy: 0.8212\n",
      "Epoch 13/200\n",
      "2154/2154 [==============================] - 12s 6ms/step - loss: 0.3951 - accuracy: 0.8226 - val_loss: 0.3927 - val_accuracy: 0.8224\n",
      "Epoch 14/200\n",
      "2154/2154 [==============================] - 12s 6ms/step - loss: 0.3961 - accuracy: 0.8219 - val_loss: 0.3923 - val_accuracy: 0.8242\n",
      "Epoch 15/200\n",
      "2154/2154 [==============================] - 12s 6ms/step - loss: 0.3926 - accuracy: 0.8238 - val_loss: 0.3900 - val_accuracy: 0.8248\n",
      "Epoch 16/200\n",
      "2154/2154 [==============================] - 13s 6ms/step - loss: 0.3945 - accuracy: 0.8228 - val_loss: 0.3934 - val_accuracy: 0.8220\n",
      "Epoch 17/200\n",
      "2154/2154 [==============================] - 12s 5ms/step - loss: 0.3937 - accuracy: 0.8230 - val_loss: 0.3907 - val_accuracy: 0.8243\n",
      "Epoch 18/200\n",
      "2154/2154 [==============================] - 12s 6ms/step - loss: 0.3915 - accuracy: 0.8234 - val_loss: 0.3865 - val_accuracy: 0.8262\n",
      "Epoch 19/200\n",
      "2154/2154 [==============================] - 12s 6ms/step - loss: 0.3887 - accuracy: 0.8256 - val_loss: 0.3878 - val_accuracy: 0.8251\n",
      "Epoch 20/200\n",
      "2154/2154 [==============================] - 12s 5ms/step - loss: 0.3903 - accuracy: 0.8249 - val_loss: 0.3849 - val_accuracy: 0.8275\n",
      "Epoch 21/200\n",
      "2154/2154 [==============================] - 13s 6ms/step - loss: 0.3844 - accuracy: 0.8295 - val_loss: 0.3914 - val_accuracy: 0.8229\n",
      "Epoch 22/200\n",
      "2154/2154 [==============================] - 12s 6ms/step - loss: 0.3864 - accuracy: 0.8274 - val_loss: 0.3875 - val_accuracy: 0.8257\n",
      "Epoch 23/200\n",
      "2154/2154 [==============================] - 12s 6ms/step - loss: 0.3870 - accuracy: 0.8271 - val_loss: 0.3853 - val_accuracy: 0.8272\n",
      "Epoch 24/200\n",
      "2154/2154 [==============================] - 12s 6ms/step - loss: 0.3853 - accuracy: 0.8283 - val_loss: 0.3847 - val_accuracy: 0.8279\n",
      "Epoch 25/200\n",
      "2154/2154 [==============================] - 12s 6ms/step - loss: 0.3814 - accuracy: 0.8295 - val_loss: 0.3819 - val_accuracy: 0.8286\n",
      "Epoch 26/200\n",
      "2154/2154 [==============================] - 12s 6ms/step - loss: 0.3842 - accuracy: 0.8290 - val_loss: 0.3832 - val_accuracy: 0.8287\n",
      "Epoch 27/200\n",
      "2154/2154 [==============================] - 12s 6ms/step - loss: 0.3808 - accuracy: 0.8297 - val_loss: 0.3835 - val_accuracy: 0.8276\n",
      "Epoch 28/200\n",
      "2154/2154 [==============================] - 12s 5ms/step - loss: 0.3802 - accuracy: 0.8313 - val_loss: 0.3823 - val_accuracy: 0.8284\n",
      "Epoch 29/200\n",
      "2154/2154 [==============================] - 12s 6ms/step - loss: 0.3819 - accuracy: 0.8295 - val_loss: 0.3861 - val_accuracy: 0.8271\n",
      "Epoch 30/200\n",
      "2154/2154 [==============================] - 12s 6ms/step - loss: 0.3829 - accuracy: 0.8282 - val_loss: 0.3856 - val_accuracy: 0.8260\n",
      "Epoch 31/200\n",
      "2154/2154 [==============================] - 12s 6ms/step - loss: 0.3801 - accuracy: 0.8297 - val_loss: 0.3823 - val_accuracy: 0.8288\n",
      "Epoch 32/200\n",
      "2154/2154 [==============================] - 12s 5ms/step - loss: 0.3802 - accuracy: 0.8308 - val_loss: 0.3793 - val_accuracy: 0.8303\n",
      "Epoch 33/200\n",
      "2154/2154 [==============================] - 12s 6ms/step - loss: 0.3786 - accuracy: 0.8306 - val_loss: 0.3826 - val_accuracy: 0.8286\n",
      "Epoch 34/200\n",
      "2154/2154 [==============================] - 12s 6ms/step - loss: 0.3770 - accuracy: 0.8323 - val_loss: 0.3805 - val_accuracy: 0.8296\n",
      "Epoch 35/200\n",
      "2154/2154 [==============================] - 12s 6ms/step - loss: 0.3775 - accuracy: 0.8312 - val_loss: 0.3792 - val_accuracy: 0.8304\n",
      "Epoch 36/200\n",
      "2154/2154 [==============================] - 12s 6ms/step - loss: 0.3794 - accuracy: 0.8311 - val_loss: 0.3799 - val_accuracy: 0.8299\n",
      "Epoch 37/200\n",
      "2154/2154 [==============================] - 12s 6ms/step - loss: 0.3753 - accuracy: 0.8321 - val_loss: 0.3782 - val_accuracy: 0.8308\n",
      "Epoch 38/200\n",
      "2154/2154 [==============================] - 12s 6ms/step - loss: 0.3768 - accuracy: 0.8311 - val_loss: 0.3799 - val_accuracy: 0.8299\n",
      "Epoch 39/200\n",
      "2154/2154 [==============================] - 12s 6ms/step - loss: 0.3751 - accuracy: 0.8329 - val_loss: 0.3815 - val_accuracy: 0.8286\n",
      "Epoch 40/200\n",
      "2154/2154 [==============================] - 12s 5ms/step - loss: 0.3756 - accuracy: 0.8324 - val_loss: 0.3795 - val_accuracy: 0.8302\n",
      "Epoch 41/200\n",
      "2154/2154 [==============================] - 13s 6ms/step - loss: 0.3749 - accuracy: 0.8336 - val_loss: 0.3788 - val_accuracy: 0.8306\n",
      "Epoch 42/200\n",
      "2154/2154 [==============================] - 12s 6ms/step - loss: 0.3762 - accuracy: 0.8314 - val_loss: 0.3779 - val_accuracy: 0.8310\n",
      "Epoch 43/200\n",
      "2154/2154 [==============================] - 12s 6ms/step - loss: 0.3740 - accuracy: 0.8325 - val_loss: 0.3763 - val_accuracy: 0.8318\n",
      "Epoch 44/200\n",
      "2154/2154 [==============================] - 12s 6ms/step - loss: 0.3760 - accuracy: 0.8329 - val_loss: 0.3778 - val_accuracy: 0.8309\n",
      "Epoch 45/200\n",
      "2154/2154 [==============================] - 12s 6ms/step - loss: 0.3718 - accuracy: 0.8346 - val_loss: 0.3780 - val_accuracy: 0.8309\n",
      "Epoch 46/200\n",
      "2154/2154 [==============================] - 12s 6ms/step - loss: 0.3727 - accuracy: 0.8342 - val_loss: 0.3785 - val_accuracy: 0.8316\n",
      "Epoch 47/200\n",
      "2154/2154 [==============================] - 12s 5ms/step - loss: 0.3709 - accuracy: 0.8340 - val_loss: 0.3778 - val_accuracy: 0.8306\n",
      "Epoch 48/200\n",
      "2154/2154 [==============================] - 12s 6ms/step - loss: 0.3704 - accuracy: 0.8355 - val_loss: 0.3770 - val_accuracy: 0.8318\n",
      "Epoch 49/200\n",
      "2154/2154 [==============================] - 12s 6ms/step - loss: 0.3695 - accuracy: 0.8351 - val_loss: 0.3760 - val_accuracy: 0.8316\n",
      "Epoch 50/200\n",
      "2154/2154 [==============================] - 12s 5ms/step - loss: 0.3695 - accuracy: 0.8351 - val_loss: 0.3778 - val_accuracy: 0.8312\n",
      "Epoch 51/200\n",
      "2154/2154 [==============================] - 12s 6ms/step - loss: 0.3688 - accuracy: 0.8354 - val_loss: 0.3772 - val_accuracy: 0.8318\n",
      "Epoch 52/200\n",
      "2154/2154 [==============================] - 12s 6ms/step - loss: 0.3689 - accuracy: 0.8359 - val_loss: 0.3764 - val_accuracy: 0.8315\n",
      "Epoch 53/200\n",
      "2154/2154 [==============================] - 13s 6ms/step - loss: 0.3655 - accuracy: 0.8370 - val_loss: 0.3770 - val_accuracy: 0.8318\n",
      "Epoch 54/200\n",
      "2154/2154 [==============================] - 12s 6ms/step - loss: 0.3649 - accuracy: 0.8377 - val_loss: 0.3760 - val_accuracy: 0.8321\n",
      "Epoch 55/200\n",
      "2154/2154 [==============================] - 12s 6ms/step - loss: 0.3672 - accuracy: 0.8354 - val_loss: 0.3744 - val_accuracy: 0.8334\n",
      "Epoch 56/200\n",
      "2154/2154 [==============================] - 12s 6ms/step - loss: 0.3630 - accuracy: 0.8401 - val_loss: 0.3744 - val_accuracy: 0.8331\n"
     ]
    },
    {
     "name": "stdout",
     "output_type": "stream",
     "text": [
      "Epoch 57/200\n",
      "2154/2154 [==============================] - 12s 6ms/step - loss: 0.3656 - accuracy: 0.8369 - val_loss: 0.3746 - val_accuracy: 0.8323\n",
      "Epoch 58/200\n",
      "2154/2154 [==============================] - 12s 6ms/step - loss: 0.3649 - accuracy: 0.8367 - val_loss: 0.3747 - val_accuracy: 0.8340\n",
      "Epoch 59/200\n",
      "2154/2154 [==============================] - 12s 6ms/step - loss: 0.3626 - accuracy: 0.8380 - val_loss: 0.3773 - val_accuracy: 0.8315\n",
      "Epoch 60/200\n",
      "2154/2154 [==============================] - 12s 6ms/step - loss: 0.3616 - accuracy: 0.8396 - val_loss: 0.3733 - val_accuracy: 0.8334\n",
      "Epoch 61/200\n",
      "2154/2154 [==============================] - 13s 6ms/step - loss: 0.3611 - accuracy: 0.8390 - val_loss: 0.3725 - val_accuracy: 0.8335\n",
      "Epoch 62/200\n",
      "2154/2154 [==============================] - 13s 6ms/step - loss: 0.3614 - accuracy: 0.8389 - val_loss: 0.3745 - val_accuracy: 0.8337\n",
      "Epoch 63/200\n",
      "2154/2154 [==============================] - 12s 6ms/step - loss: 0.3621 - accuracy: 0.8389 - val_loss: 0.3749 - val_accuracy: 0.8333\n",
      "Epoch 64/200\n",
      "2154/2154 [==============================] - 13s 6ms/step - loss: 0.3598 - accuracy: 0.8395 - val_loss: 0.3747 - val_accuracy: 0.8336\n",
      "Epoch 65/200\n",
      "2154/2154 [==============================] - 12s 5ms/step - loss: 0.3580 - accuracy: 0.8423 - val_loss: 0.3729 - val_accuracy: 0.8342\n",
      "Epoch 66/200\n",
      "2154/2154 [==============================] - 12s 5ms/step - loss: 0.3559 - accuracy: 0.8422 - val_loss: 0.3752 - val_accuracy: 0.8323\n",
      "Epoch 67/200\n",
      "2154/2154 [==============================] - 12s 6ms/step - loss: 0.3585 - accuracy: 0.8409 - val_loss: 0.3745 - val_accuracy: 0.8344\n",
      "Epoch 68/200\n",
      "2154/2154 [==============================] - 13s 6ms/step - loss: 0.3572 - accuracy: 0.8411 - val_loss: 0.3762 - val_accuracy: 0.8346\n",
      "Epoch 69/200\n",
      "2154/2154 [==============================] - 12s 6ms/step - loss: 0.3571 - accuracy: 0.8413 - val_loss: 0.3752 - val_accuracy: 0.8330\n",
      "Epoch 70/200\n",
      "2154/2154 [==============================] - 12s 5ms/step - loss: 0.3555 - accuracy: 0.8424 - val_loss: 0.3798 - val_accuracy: 0.8307\n",
      "Epoch 71/200\n",
      "2154/2154 [==============================] - 12s 6ms/step - loss: 0.3555 - accuracy: 0.8414 - val_loss: 0.3755 - val_accuracy: 0.8341\n",
      "Epoch 72/200\n",
      "2154/2154 [==============================] - 12s 5ms/step - loss: 0.3539 - accuracy: 0.8428 - val_loss: 0.3738 - val_accuracy: 0.8341\n",
      "Epoch 73/200\n",
      "2154/2154 [==============================] - 12s 5ms/step - loss: 0.3542 - accuracy: 0.8425 - val_loss: 0.3777 - val_accuracy: 0.8338\n",
      "Epoch 74/200\n",
      "2154/2154 [==============================] - 12s 5ms/step - loss: 0.3507 - accuracy: 0.8440 - val_loss: 0.3752 - val_accuracy: 0.8334\n",
      "Epoch 75/200\n",
      "2154/2154 [==============================] - 12s 5ms/step - loss: 0.3512 - accuracy: 0.8434 - val_loss: 0.3779 - val_accuracy: 0.8334\n",
      "Epoch 76/200\n",
      "2154/2154 [==============================] - 12s 6ms/step - loss: 0.3502 - accuracy: 0.8440 - val_loss: 0.3775 - val_accuracy: 0.8329\n",
      "Epoch 77/200\n",
      "2154/2154 [==============================] - 12s 6ms/step - loss: 0.3523 - accuracy: 0.8442 - val_loss: 0.3773 - val_accuracy: 0.8334\n",
      "Epoch 78/200\n",
      "2154/2154 [==============================] - 12s 6ms/step - loss: 0.3516 - accuracy: 0.8441 - val_loss: 0.3752 - val_accuracy: 0.8330\n",
      "Epoch 79/200\n",
      "2154/2154 [==============================] - 12s 6ms/step - loss: 0.3477 - accuracy: 0.8460 - val_loss: 0.3773 - val_accuracy: 0.8307\n",
      "Epoch 80/200\n",
      "2154/2154 [==============================] - 12s 5ms/step - loss: 0.3466 - accuracy: 0.8470 - val_loss: 0.3791 - val_accuracy: 0.8315\n",
      "Epoch 81/200\n",
      "2154/2154 [==============================] - 13s 6ms/step - loss: 0.3452 - accuracy: 0.8477 - val_loss: 0.3786 - val_accuracy: 0.8317\n",
      "Epoch 00081: early stopping\n"
     ]
    }
   ],
   "source": [
    "history = model.fit(X_train, y_train, epochs=200, \n",
    "                    batch_size=100,\n",
    "                    validation_data=(X_val, y_val),\n",
    "                                       callbacks=[es])"
   ]
  },
  {
   "cell_type": "code",
   "execution_count": 20,
   "metadata": {
    "ExecuteTime": {
     "end_time": "2021-09-07T07:52:23.604060Z",
     "start_time": "2021-09-07T07:52:23.310775Z"
    }
   },
   "outputs": [
    {
     "data": {
      "image/png": "[encoded data removed]",
      "text/plain": [
       "<Figure size 1152x144 with 2 Axes>"
      ]
     },
     "metadata": {
      "needs_background": "light"
     },
     "output_type": "display_data"
    }
   ],
   "source": [
    "plt.figure(figsize=(16,2))\n",
    "plt.subplot(1,2,1)\n",
    "plot_graphs(history, 'accuracy')\n",
    "plt.subplot(1,2,2)\n",
    "plot_graphs(history, 'loss')"
   ]
  },
  {
   "cell_type": "markdown",
   "metadata": {},
   "source": [
    "# 3. test"
   ]
  },
  {
   "cell_type": "code",
   "execution_count": 21,
   "metadata": {
    "ExecuteTime": {
     "end_time": "2021-09-07T07:52:23.607969Z",
     "start_time": "2021-09-07T07:52:23.605579Z"
    }
   },
   "outputs": [],
   "source": [
    "from sklearn.metrics import classification_report\n",
    "from sklearn.metrics import confusion_matrix\n",
    "from sklearn.metrics import roc_curve\n",
    "from sklearn.metrics import roc_auc_score\n",
    "import seaborn as sns"
   ]
  },
  {
   "cell_type": "code",
   "execution_count": 22,
   "metadata": {
    "ExecuteTime": {
     "end_time": "2021-09-07T07:52:28.363256Z",
     "start_time": "2021-09-07T07:52:23.609161Z"
    }
   },
   "outputs": [
    {
     "name": "stdout",
     "output_type": "stream",
     "text": [
      "2104/2104 [==============================] - 5s 2ms/step - loss: 0.3780 - accuracy: 0.8330\n",
      "Test Loss: 0.3780378997325897\n",
      "Test Accuracy: 0.8329519629478455\n"
     ]
    }
   ],
   "source": [
    "test_loss, test_acc = model.evaluate(X_test, y_test)\n",
    "print('Test Loss: {}'.format(test_loss))\n",
    "print('Test Accuracy: {}'.format(test_acc))"
   ]
  },
  {
   "cell_type": "code",
   "execution_count": 23,
   "metadata": {
    "ExecuteTime": {
     "end_time": "2021-09-07T07:52:35.905334Z",
     "start_time": "2021-09-07T07:52:28.364415Z"
    }
   },
   "outputs": [
    {
     "name": "stdout",
     "output_type": "stream",
     "text": [
      "              precision    recall  f1-score   support\n",
      "\n",
      "           0       0.83      0.83      0.83     33706\n",
      "           1       0.83      0.83      0.83     33592\n",
      "\n",
      "    accuracy                           0.83     67298\n",
      "   macro avg       0.83      0.83      0.83     67298\n",
      "weighted avg       0.83      0.83      0.83     67298\n",
      "\n",
      "rf auc : 0.9113185291289301\n"
     ]
    },
    {
     "data": {
      "image/png": "[encoded data removed]",
      "text/plain": [
       "<Figure size 288x288 with 1 Axes>"
      ]
     },
     "metadata": {
      "needs_background": "light"
     },
     "output_type": "display_data"
    },
    {
     "data": {
      "image/png": "[encoded data removed]",
      "text/plain": [
       "<Figure size 216x216 with 2 Axes>"
      ]
     },
     "metadata": {
      "needs_background": "light"
     },
     "output_type": "display_data"
    },
    {
     "data": {
      "image/png": "[encoded data removed]",
      "text/plain": [
       "<Figure size 216x216 with 2 Axes>"
      ]
     },
     "metadata": {
      "needs_background": "light"
     },
     "output_type": "display_data"
    }
   ],
   "source": [
    "# prediction\n",
    "y_pred = [1 if i>=0.5 else 0 for i in model.predict(X_test)]\n",
    "print(classification_report(y_test, y_pred))\n",
    "# AUC\n",
    "probs = model.predict(X_test)\n",
    "rf_auc = roc_auc_score(y_test, probs)\n",
    "print('rf auc : {}'.format(rf_auc))\n",
    "# plot the roc curve for the model\n",
    "rf_fpr, rf_tpr, _ = roc_curve(y_test, probs)\n",
    "plt.figure(figsize=(4, 4))\n",
    "plt.plot(rf_fpr, rf_tpr, marker='.', label='RF AUC = {:.4f}'.format(rf_auc), color='orange')\n",
    "plt.title('ROC curve')\n",
    "# axis labels\n",
    "plt.xlabel('False Positive Rate')\n",
    "plt.ylabel('True Positive Rate')\n",
    "# show the legend\n",
    "plt.legend()\n",
    "# show the plot\n",
    "plt.show()\n",
    "\n",
    "cf_matrix = confusion_matrix(y_test, y_pred)\n",
    "plt.figure(figsize=(3, 3))\n",
    "sns.heatmap(cf_matrix, annot=True, fmt=',.0f')\n",
    "plt.show()\n",
    "plt.figure(figsize=(3, 3))\n",
    "sns.heatmap(cf_matrix/np.sum(cf_matrix), annot=True, \n",
    "            fmt='.2%', cmap='Blues')\n",
    "plt.show()"
   ]
  },
  {
   "cell_type": "code",
   "execution_count": null,
   "metadata": {},
   "outputs": [],
   "source": []
  }
 ],
 "metadata": {
  "kernelspec": {
   "display_name": "TF2.4",
   "language": "python",
   "name": "tf2.4"
  },
  "language_info": {
   "codemirror_mode": {
    "name": "ipython",
    "version": 3
   },
   "file_extension": ".py",
   "mimetype": "text/x-python",
   "name": "python",
   "nbconvert_exporter": "python",
   "pygments_lexer": "ipython3",
   "version": "3.7.0"
  }
 },
 "nbformat": 4,
 "nbformat_minor": 4
}
