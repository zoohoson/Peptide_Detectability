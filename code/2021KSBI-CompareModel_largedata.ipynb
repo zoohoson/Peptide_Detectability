{
 "cells": [
  {
   "cell_type": "markdown",
   "metadata": {},
   "source": [
    "# Compare : other model\n",
    "\n",
    "  - 2019ACS : AP3 \n",
    "    - Acc : 0.7843, AUC : 0.8679  \n",
    "    \n",
    "  - 2021MDPI : CAMB + CapsNet  \n",
    "    - ACC : 0.8203, AUC : 0.8969\n",
    "    \n",
    "  - 2019Bioinformatics : DeepMSpeptide \n",
    "    - Acc : 0.8224, AUC : 0.8991\n",
    "  \n",
    "  - 2021ACS : PepFormer\n",
    "    - Acc : 0.8254, AUC : 0.9085\n",
    "  \n",
    "  - 2021DBDeep :\n",
    "    - Acc : 0.8360, AUC : 0.9186\n",
    "    - Acc : 0.8383, AUC : 0.9181 (noAA)\n",
    "    \n",
    "  - CNN + LSTM\n",
    "    - ACC : 0.8283, AUC : 0.9106"
   ]
  },
  {
   "cell_type": "markdown",
   "metadata": {
    "ExecuteTime": {
     "end_time": "2021-11-28T19:01:46.974620Z",
     "start_time": "2021-11-28T19:01:46.971188Z"
    }
   },
   "source": [
    "- LSTM zero init: ACC 0.8301 AUC 0.9147\n",
    "- LSTM MS2 init : ACC 0.8217 AUC 0.9008\n",
    "- LSTM MS2 multi: ACC 0.8327 AUC 0.9173   \n",
    "\n",
    "\n",
    "- LSTM MS2 multi small(lr0.0005) : ACC 0.8334 AUC 0.9161\n",
    "- LSTM MS2 multi small(lr0.0001) : ACC 0.8375 AUC 0.9156"
   ]
  },
  {
   "cell_type": "markdown",
   "metadata": {},
   "source": [
    "- Precursor MS2 init : ACC 0.8297 AUC 0.9082\n",
    "- Precursor MS2 multi: ACC 0.8311 AUC 0.9098"
   ]
  },
  {
   "cell_type": "code",
   "execution_count": null,
   "metadata": {},
   "outputs": [],
   "source": []
  }
 ],
 "metadata": {
  "kernelspec": {
   "display_name": "TF2.4",
   "language": "python",
   "name": "tf2.4"
  },
  "language_info": {
   "codemirror_mode": {
    "name": "ipython",
    "version": 3
   },
   "file_extension": ".py",
   "mimetype": "text/x-python",
   "name": "python",
   "nbconvert_exporter": "python",
   "pygments_lexer": "ipython3",
   "version": "3.7.0"
  }
 },
 "nbformat": 4,
 "nbformat_minor": 4
}
