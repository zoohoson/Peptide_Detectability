{
 "cells": [
  {
   "cell_type": "code",
   "execution_count": 1,
   "metadata": {
    "ExecuteTime": {
     "end_time": "2021-12-08T23:05:53.791854Z",
     "start_time": "2021-12-08T23:05:52.333011Z"
    }
   },
   "outputs": [],
   "source": [
    "import warnings\n",
    "warnings.simplefilter(action='ignore', category=FutureWarning)\n",
    "\n",
    "import argparse\n",
    "import numpy as np\n",
    "import tensorflow as tf\n",
    "from tensorflow import keras"
   ]
  },
  {
   "cell_type": "code",
   "execution_count": 2,
   "metadata": {
    "ExecuteTime": {
     "end_time": "2021-12-08T23:05:54.298952Z",
     "start_time": "2021-12-08T23:05:53.793157Z"
    }
   },
   "outputs": [],
   "source": [
    "from sklearn.metrics import classification_report\n",
    "from sklearn.metrics import confusion_matrix\n",
    "from sklearn.metrics import roc_curve\n",
    "from sklearn.metrics import roc_auc_score\n",
    "import seaborn as sns"
   ]
  },
  {
   "cell_type": "code",
   "execution_count": 3,
   "metadata": {
    "ExecuteTime": {
     "end_time": "2021-12-08T23:05:54.307036Z",
     "start_time": "2021-12-08T23:05:54.300304Z"
    }
   },
   "outputs": [],
   "source": [
    "import matplotlib.pyplot as plt\n",
    "import pandas as pd\n",
    "from sklearn.model_selection import train_test_split"
   ]
  },
  {
   "cell_type": "code",
   "execution_count": 4,
   "metadata": {
    "ExecuteTime": {
     "end_time": "2021-12-08T23:05:54.309985Z",
     "start_time": "2021-12-08T23:05:54.308106Z"
    }
   },
   "outputs": [],
   "source": [
    "import tensorflow as tf"
   ]
  },
  {
   "cell_type": "code",
   "execution_count": 5,
   "metadata": {
    "ExecuteTime": {
     "end_time": "2021-12-08T23:05:55.932989Z",
     "start_time": "2021-12-08T23:05:55.930878Z"
    }
   },
   "outputs": [],
   "source": [
    "tf.enable_eager_execution()"
   ]
  },
  {
   "cell_type": "code",
   "execution_count": 6,
   "metadata": {
    "ExecuteTime": {
     "end_time": "2021-12-08T23:05:56.242173Z",
     "start_time": "2021-12-08T23:05:56.236568Z"
    }
   },
   "outputs": [],
   "source": [
    "def load_pep_and_codify(file, max_len):\n",
    "    aa_dict={'A':1,'R':2,'N':3,'D':4,'C':5,'Q':6,'E':7,'G':8,'H':9,'I':10,'L':11,'K':12,'M':13,'F':14,\n",
    "        'P':15,'O':16,'S':17,'U':18,'T':19,'W':20,'Y':21,'V':22}\n",
    "    with open(file, 'r') as inf:\n",
    "        lines = inf.read().splitlines()\n",
    "    pep_codes=[]\n",
    "    long_pep_counter = 0\n",
    "    newLines = []\n",
    "    for pep in lines:\n",
    "        if not len(pep) > max_len:\n",
    "            current_pep=[]\n",
    "            for aa in pep:\n",
    "                current_pep.append(aa_dict[aa])\n",
    "            pep_codes.append(current_pep)\n",
    "            newLines.extend([pep])\n",
    "        else:\n",
    "            long_pep_counter += 1\n",
    "    predict_data = keras.preprocessing.sequence.pad_sequences(pep_codes, value=0, padding='post', maxlen=max_len)\n",
    "    return predict_data, long_pep_counter, newLines"
   ]
  },
  {
   "cell_type": "markdown",
   "metadata": {},
   "source": [
    "# 1. Make Data X_train, y_train, X_test, y_test"
   ]
  },
  {
   "cell_type": "code",
   "execution_count": 7,
   "metadata": {
    "ExecuteTime": {
     "end_time": "2021-12-08T23:05:58.832367Z",
     "start_time": "2021-12-08T23:05:58.830394Z"
    }
   },
   "outputs": [],
   "source": [
    "file_path = 'compareModel/2019Bioinformatics_DeepMSPeptide/DeepMSPeptide/'"
   ]
  },
  {
   "cell_type": "code",
   "execution_count": 8,
   "metadata": {
    "ExecuteTime": {
     "end_time": "2021-12-08T23:06:09.353725Z",
     "start_time": "2021-12-08T23:05:59.038546Z"
    }
   },
   "outputs": [
    {
     "name": "stdout",
     "output_type": "stream",
     "text": [
      "Loading input peptides\n",
      "Succesfully loaded 679396 peptides and skipped 0\n",
      "Loading input peptides\n",
      "Succesfully loaded 133992 peptides and skipped 0\n",
      "(543516, 81) (135880, 81) (133992, 81) (543516,) (135880,) (133992,)\n"
     ]
    }
   ],
   "source": [
    "# make DeepMSpeptide format\n",
    "df_peptide_train = pd.read_csv('data/df_detect_peptide_train.csv')\n",
    "df_peptide_test = pd.read_csv('data/df_detect_peptide_test.csv')\n",
    "\n",
    "inp = open(file_path+'detect_peptide_train.txt', 'w')\n",
    "inp_y = open(file_path+'detect_peptide_train_y.txt', 'w')\n",
    "for x, y in df_peptide_train[['PEP', 'ID']].values:\n",
    "    inp.write(x+'\\n')\n",
    "    inp_y.write(str(y)+'\\n')\n",
    "inp.close()\n",
    "inp_y.close()\n",
    "\n",
    "inp = open(file_path+'detect_peptide_test.txt', 'w')\n",
    "inp_y = open(file_path+'detect_peptide_test_y.txt', 'w')\n",
    "for x, y in df_peptide_test[['PEP', 'ID']].values:\n",
    "    inp.write(x+'\\n')\n",
    "    inp_y.write(str(y)+'\\n')\n",
    "inp.close()\n",
    "inp_y.close()\n",
    "\n",
    "args = file_path + 'detect_peptide_train.txt'\n",
    "print('Loading input peptides')\n",
    "X_train, skipped, lines = load_pep_and_codify(args, 81)\n",
    "tmp = open(file_path+'detect_peptide_train_y.txt')\n",
    "y_train = np.array([int(_.replace('\\n', '')) for _ in tmp.readlines()])\n",
    "tmp.close()\n",
    "print('Succesfully loaded {0} peptides and skipped {1}'.format(len(lines), str(skipped)))\n",
    "\n",
    "args = file_path + 'detect_peptide_test.txt'\n",
    "print('Loading input peptides')\n",
    "X_test, skipped, lines = load_pep_and_codify(args, 81)\n",
    "tmp = open(file_path+'detect_peptide_test_y.txt')\n",
    "y_test = np.array([int(_.replace('\\n', '')) for _ in tmp.readlines()])\n",
    "tmp.close()\n",
    "print('Succesfully loaded {0} peptides and skipped {1}'.format(len(lines), str(skipped)))\n",
    "\n",
    "X_train, X_val, y_train, y_val = train_test_split(X_train, y_train, test_size=0.2)\n",
    "print(X_train.shape, X_val.shape, X_test.shape, y_train.shape, y_val.shape, y_test.shape)"
   ]
  },
  {
   "cell_type": "markdown",
   "metadata": {},
   "source": [
    "# 2. train"
   ]
  },
  {
   "cell_type": "code",
   "execution_count": 9,
   "metadata": {
    "ExecuteTime": {
     "end_time": "2021-12-08T23:06:09.358360Z",
     "start_time": "2021-12-08T23:06:09.355275Z"
    }
   },
   "outputs": [],
   "source": [
    "def plot_graphs(history, metric):\n",
    "    plt.plot(history.history[metric])\n",
    "    plt.plot(history.history['val_'+metric], '')\n",
    "    plt.xlabel(\"Epochs\")\n",
    "    plt.ylabel(metric)\n",
    "    plt.legend([metric, 'val_'+metric])"
   ]
  },
  {
   "cell_type": "code",
   "execution_count": 10,
   "metadata": {
    "ExecuteTime": {
     "end_time": "2021-11-11T10:33:16.040640Z",
     "start_time": "2021-11-11T10:33:15.081933Z"
    }
   },
   "outputs": [
    {
     "name": "stdout",
     "output_type": "stream",
     "text": [
      "Loading model...\n",
      "WARNING:tensorflow:From /home/bis/miniconda3/envs/TF1.14/lib/python3.6/site-packages/tensorflow/python/ops/math_grad.py:1250: add_dispatch_support.<locals>.wrapper (from tensorflow.python.ops.array_ops) is deprecated and will be removed in a future version.\n",
      "Instructions for updating:\n",
      "Use tf.where in 2.0, which has the same broadcast rule as np.where\n",
      "WARNING:tensorflow:Error in loading the saved optimizer state. As a result, your model is starting with a freshly initialized optimizer.\n",
      "Model: \"sequential_1\"\n",
      "_________________________________________________________________\n",
      "Layer (type)                 Output Shape              Param #   \n",
      "=================================================================\n",
      "embedding_1 (Embedding)      (None, 81, 50)            1150      \n",
      "_________________________________________________________________\n",
      "dropout_2 (Dropout)          (None, 81, 50)            0         \n",
      "_________________________________________________________________\n",
      "conv1d_1 (Conv1D)            (None, 81, 128)           19328     \n",
      "_________________________________________________________________\n",
      "conv1d_2 (Conv1D)            (None, 80, 64)            16448     \n",
      "_________________________________________________________________\n",
      "global_max_pooling1d_1 (Glob (None, 64)                0         \n",
      "_________________________________________________________________\n",
      "dense_2 (Dense)              (None, 64)                4160      \n",
      "_________________________________________________________________\n",
      "dropout_3 (Dropout)          (None, 64)                0         \n",
      "_________________________________________________________________\n",
      "activation_2 (Activation)    (None, 64)                0         \n",
      "_________________________________________________________________\n",
      "dense_3 (Dense)              (None, 1)                 65        \n",
      "_________________________________________________________________\n",
      "activation_3 (Activation)    (None, 1)                 0         \n",
      "=================================================================\n",
      "Total params: 41,151\n",
      "Trainable params: 41,151\n",
      "Non-trainable params: 0\n",
      "_________________________________________________________________\n",
      "None\n"
     ]
    }
   ],
   "source": [
    "file_path = 'compareModel/2019Bioinformatics_DeepMSPeptide/DeepMSPeptide/'\n",
    "args = file_path + 'inputExample.txt'\n",
    "\n",
    "print('Loading model...')\n",
    "model_2_1D = keras.models.load_model(file_path + 'model_2_1D.h5')\n",
    "print(model_2_1D.summary())"
   ]
  },
  {
   "cell_type": "code",
   "execution_count": 11,
   "metadata": {
    "ExecuteTime": {
     "end_time": "2021-11-11T10:33:18.525251Z",
     "start_time": "2021-11-11T10:33:18.505472Z"
    }
   },
   "outputs": [],
   "source": [
    "model_2_1D.get_layer(index=0).set_weights(\n",
    "    [tf.keras.initializers.glorot_uniform(seed=7)(shape=(23,50)).numpy()])\n",
    "model_2_1D.get_layer(index=1).set_weights([])\n",
    "model_2_1D.get_layer(index=2).set_weights(\n",
    "    [tf.keras.initializers.glorot_uniform(seed=7)(shape=(3,50,128)).numpy(),\n",
    "     np.zeros(128,)])\n",
    "model_2_1D.get_layer(index=3).set_weights(\n",
    "    [tf.keras.initializers.glorot_uniform(seed=7)(shape=(2,128,64)).numpy(),\n",
    "    np.zeros(64,)])\n",
    "model_2_1D.get_layer(index=4).set_weights([])\n",
    "model_2_1D.get_layer(index=5).set_weights(\n",
    "    [tf.keras.initializers.glorot_uniform(seed=7)(shape=(64,64)).numpy(),\n",
    "    np.zeros(64,)])\n",
    "model_2_1D.get_layer(index=6).set_weights([])\n",
    "model_2_1D.get_layer(index=7).set_weights([])\n",
    "model_2_1D.get_layer(index=8).set_weights(\n",
    "    [tf.keras.initializers.glorot_uniform(seed=7)(shape=(64,1)).numpy(),\n",
    "    np.zeros(1,)])\n",
    "model_2_1D.get_layer(index=9).set_weights([])"
   ]
  },
  {
   "cell_type": "code",
   "execution_count": 12,
   "metadata": {
    "ExecuteTime": {
     "end_time": "2021-11-11T14:36:05.548613Z",
     "start_time": "2021-11-11T10:33:18.810098Z"
    }
   },
   "outputs": [
    {
     "name": "stdout",
     "output_type": "stream",
     "text": [
      "Train on 543516 samples, validate on 135880 samples\n",
      "Epoch 1/200\n",
      "543516/543516 [==============================] - 62s 115us/sample - loss: 0.4738 - acc: 0.7801 - binary_crossentropy: 0.4738 - val_loss: 0.4336 - val_acc: 0.8031 - val_binary_crossentropy: 0.4336\n",
      "Epoch 2/200\n",
      "543516/543516 [==============================] - 63s 117us/sample - loss: 0.4406 - acc: 0.7998 - binary_crossentropy: 0.4406 - val_loss: 0.4260 - val_acc: 0.8070 - val_binary_crossentropy: 0.4260\n",
      "Epoch 3/200\n",
      "543516/543516 [==============================] - 60s 111us/sample - loss: 0.4334 - acc: 0.8039 - binary_crossentropy: 0.4334 - val_loss: 0.4246 - val_acc: 0.8065 - val_binary_crossentropy: 0.4246\n",
      "Epoch 4/200\n",
      "543516/543516 [==============================] - 60s 111us/sample - loss: 0.4289 - acc: 0.8061 - binary_crossentropy: 0.4289 - val_loss: 0.4192 - val_acc: 0.8098 - val_binary_crossentropy: 0.4192\n",
      "Epoch 5/200\n",
      "543516/543516 [==============================] - 60s 111us/sample - loss: 0.4258 - acc: 0.8078 - binary_crossentropy: 0.4258 - val_loss: 0.4286 - val_acc: 0.8071 - val_binary_crossentropy: 0.4286\n",
      "Epoch 6/200\n",
      "543516/543516 [==============================] - 61s 112us/sample - loss: 0.4237 - acc: 0.8087 - binary_crossentropy: 0.4237 - val_loss: 0.4211 - val_acc: 0.8084 - val_binary_crossentropy: 0.4211\n",
      "Epoch 7/200\n",
      "543516/543516 [==============================] - 61s 113us/sample - loss: 0.4206 - acc: 0.8100 - binary_crossentropy: 0.4206 - val_loss: 0.4155 - val_acc: 0.8127 - val_binary_crossentropy: 0.4155\n",
      "Epoch 8/200\n",
      "543516/543516 [==============================] - 76s 139us/sample - loss: 0.4198 - acc: 0.8111 - binary_crossentropy: 0.4198 - val_loss: 0.4126 - val_acc: 0.8141 - val_binary_crossentropy: 0.4126\n",
      "Epoch 9/200\n",
      "543516/543516 [==============================] - 78s 144us/sample - loss: 0.4182 - acc: 0.8115 - binary_crossentropy: 0.4182 - val_loss: 0.4136 - val_acc: 0.8129 - val_binary_crossentropy: 0.4136\n",
      "Epoch 10/200\n",
      "543516/543516 [==============================] - 79s 146us/sample - loss: 0.4171 - acc: 0.8125 - binary_crossentropy: 0.4171 - val_loss: 0.4126 - val_acc: 0.8129 - val_binary_crossentropy: 0.4126\n",
      "Epoch 11/200\n",
      "543516/543516 [==============================] - 81s 150us/sample - loss: 0.4158 - acc: 0.8129 - binary_crossentropy: 0.4158 - val_loss: 0.4181 - val_acc: 0.8109 - val_binary_crossentropy: 0.4181\n",
      "Epoch 12/200\n",
      "543516/543516 [==============================] - 84s 154us/sample - loss: 0.4147 - acc: 0.8138 - binary_crossentropy: 0.4147 - val_loss: 0.4253 - val_acc: 0.8059 - val_binary_crossentropy: 0.4253\n",
      "Epoch 13/200\n",
      "543516/543516 [==============================] - 79s 144us/sample - loss: 0.4136 - acc: 0.8142 - binary_crossentropy: 0.4136 - val_loss: 0.4139 - val_acc: 0.8133 - val_binary_crossentropy: 0.4139\n",
      "Epoch 14/200\n",
      "543516/543516 [==============================] - 79s 145us/sample - loss: 0.4127 - acc: 0.8144 - binary_crossentropy: 0.4127 - val_loss: 0.4187 - val_acc: 0.8102 - val_binary_crossentropy: 0.4187\n",
      "Epoch 15/200\n",
      "543516/543516 [==============================] - 79s 146us/sample - loss: 0.4115 - acc: 0.8151 - binary_crossentropy: 0.4115 - val_loss: 0.4120 - val_acc: 0.8139 - val_binary_crossentropy: 0.4120\n",
      "Epoch 16/200\n",
      "543516/543516 [==============================] - 90s 165us/sample - loss: 0.4113 - acc: 0.8160 - binary_crossentropy: 0.4113 - val_loss: 0.4095 - val_acc: 0.8153 - val_binary_crossentropy: 0.4095\n",
      "Epoch 17/200\n",
      "543516/543516 [==============================] - 132s 242us/sample - loss: 0.4106 - acc: 0.8155 - binary_crossentropy: 0.4106 - val_loss: 0.4092 - val_acc: 0.8177 - val_binary_crossentropy: 0.4092\n",
      "Epoch 18/200\n",
      "543516/543516 [==============================] - 123s 226us/sample - loss: 0.4095 - acc: 0.8168 - binary_crossentropy: 0.4095 - val_loss: 0.4153 - val_acc: 0.8121 - val_binary_crossentropy: 0.4153\n",
      "Epoch 19/200\n",
      "543516/543516 [==============================] - 78s 144us/sample - loss: 0.4095 - acc: 0.8166 - binary_crossentropy: 0.4095 - val_loss: 0.4145 - val_acc: 0.8108 - val_binary_crossentropy: 0.4145\n",
      "Epoch 20/200\n",
      "543516/543516 [==============================] - 79s 146us/sample - loss: 0.4086 - acc: 0.8167 - binary_crossentropy: 0.4086 - val_loss: 0.4138 - val_acc: 0.8137 - val_binary_crossentropy: 0.4138\n",
      "Epoch 21/200\n",
      "543516/543516 [==============================] - 79s 145us/sample - loss: 0.4079 - acc: 0.8173 - binary_crossentropy: 0.4079 - val_loss: 0.4142 - val_acc: 0.8137 - val_binary_crossentropy: 0.4142\n",
      "Epoch 22/200\n",
      "543516/543516 [==============================] - 82s 151us/sample - loss: 0.4078 - acc: 0.8168 - binary_crossentropy: 0.4078 - val_loss: 0.4078 - val_acc: 0.8154 - val_binary_crossentropy: 0.4078\n",
      "Epoch 23/200\n",
      "543516/543516 [==============================] - 79s 145us/sample - loss: 0.4071 - acc: 0.8177 - binary_crossentropy: 0.4071 - val_loss: 0.4149 - val_acc: 0.8134 - val_binary_crossentropy: 0.4149\n",
      "Epoch 24/200\n",
      "543516/543516 [==============================] - 82s 150us/sample - loss: 0.4067 - acc: 0.8181 - binary_crossentropy: 0.4067 - val_loss: 0.4127 - val_acc: 0.8129 - val_binary_crossentropy: 0.4127\n",
      "Epoch 25/200\n",
      "543516/543516 [==============================] - 86s 157us/sample - loss: 0.4067 - acc: 0.8179 - binary_crossentropy: 0.4067 - val_loss: 0.4151 - val_acc: 0.8134 - val_binary_crossentropy: 0.4151\n",
      "Epoch 26/200\n",
      "543516/543516 [==============================] - 79s 146us/sample - loss: 0.4063 - acc: 0.8177 - binary_crossentropy: 0.4064 - val_loss: 0.4169 - val_acc: 0.8117 - val_binary_crossentropy: 0.4169\n",
      "Epoch 27/200\n",
      "543516/543516 [==============================] - 79s 145us/sample - loss: 0.4054 - acc: 0.8186 - binary_crossentropy: 0.4054 - val_loss: 0.4136 - val_acc: 0.8119 - val_binary_crossentropy: 0.4136\n",
      "Epoch 28/200\n",
      "543516/543516 [==============================] - 79s 145us/sample - loss: 0.4048 - acc: 0.8183 - binary_crossentropy: 0.4048 - val_loss: 0.4092 - val_acc: 0.8153 - val_binary_crossentropy: 0.4092\n",
      "Epoch 29/200\n",
      "543516/543516 [==============================] - 79s 145us/sample - loss: 0.4048 - acc: 0.8189 - binary_crossentropy: 0.4048 - val_loss: 0.4115 - val_acc: 0.8149 - val_binary_crossentropy: 0.4115\n",
      "Epoch 30/200\n",
      "543516/543516 [==============================] - 80s 147us/sample - loss: 0.4043 - acc: 0.8190 - binary_crossentropy: 0.4043 - val_loss: 0.4096 - val_acc: 0.8159 - val_binary_crossentropy: 0.4096\n",
      "Epoch 31/200\n",
      "543516/543516 [==============================] - 79s 145us/sample - loss: 0.4044 - acc: 0.8188 - binary_crossentropy: 0.4044 - val_loss: 0.4101 - val_acc: 0.8143 - val_binary_crossentropy: 0.4101\n",
      "Epoch 32/200\n",
      "543516/543516 [==============================] - 78s 144us/sample - loss: 0.4038 - acc: 0.8194 - binary_crossentropy: 0.4038 - val_loss: 0.4097 - val_acc: 0.8156 - val_binary_crossentropy: 0.4097\n",
      "Epoch 33/200\n",
      "543516/543516 [==============================] - 78s 144us/sample - loss: 0.4031 - acc: 0.8198 - binary_crossentropy: 0.4031 - val_loss: 0.4114 - val_acc: 0.8139 - val_binary_crossentropy: 0.4114\n",
      "Epoch 34/200\n",
      "543516/543516 [==============================] - 79s 146us/sample - loss: 0.4031 - acc: 0.8199 - binary_crossentropy: 0.4031 - val_loss: 0.4159 - val_acc: 0.8141 - val_binary_crossentropy: 0.4159\n",
      "Epoch 35/200\n",
      "543516/543516 [==============================] - 79s 146us/sample - loss: 0.4027 - acc: 0.8198 - binary_crossentropy: 0.4027 - val_loss: 0.4137 - val_acc: 0.8119 - val_binary_crossentropy: 0.4137\n",
      "Epoch 36/200\n",
      "543516/543516 [==============================] - 79s 145us/sample - loss: 0.4022 - acc: 0.8196 - binary_crossentropy: 0.4022 - val_loss: 0.4120 - val_acc: 0.8134 - val_binary_crossentropy: 0.4120\n",
      "Epoch 37/200\n",
      "543516/543516 [==============================] - 79s 145us/sample - loss: 0.4017 - acc: 0.8201 - binary_crossentropy: 0.4017 - val_loss: 0.4100 - val_acc: 0.8157 - val_binary_crossentropy: 0.4100\n",
      "Epoch 38/200\n",
      "543516/543516 [==============================] - 79s 145us/sample - loss: 0.4021 - acc: 0.8199 - binary_crossentropy: 0.4021 - val_loss: 0.4157 - val_acc: 0.8135 - val_binary_crossentropy: 0.4157\n",
      "Epoch 39/200\n",
      "543516/543516 [==============================] - 78s 144us/sample - loss: 0.4017 - acc: 0.8204 - binary_crossentropy: 0.4017 - val_loss: 0.4100 - val_acc: 0.8162 - val_binary_crossentropy: 0.4100\n"
     ]
    },
    {
     "name": "stdout",
     "output_type": "stream",
     "text": [
      "Epoch 40/200\n",
      "543516/543516 [==============================] - 79s 145us/sample - loss: 0.4013 - acc: 0.8209 - binary_crossentropy: 0.4013 - val_loss: 0.4093 - val_acc: 0.8168 - val_binary_crossentropy: 0.4093\n",
      "Epoch 41/200\n",
      "543516/543516 [==============================] - 78s 144us/sample - loss: 0.4009 - acc: 0.8207 - binary_crossentropy: 0.4009 - val_loss: 0.4108 - val_acc: 0.8147 - val_binary_crossentropy: 0.4108\n",
      "Epoch 42/200\n",
      "543516/543516 [==============================] - 78s 144us/sample - loss: 0.4007 - acc: 0.8208 - binary_crossentropy: 0.4007 - val_loss: 0.4104 - val_acc: 0.8144 - val_binary_crossentropy: 0.4104\n",
      "Epoch 43/200\n",
      "543516/543516 [==============================] - 79s 145us/sample - loss: 0.4005 - acc: 0.8206 - binary_crossentropy: 0.4005 - val_loss: 0.4106 - val_acc: 0.8160 - val_binary_crossentropy: 0.4106\n",
      "Epoch 44/200\n",
      "543516/543516 [==============================] - 79s 145us/sample - loss: 0.4000 - acc: 0.8213 - binary_crossentropy: 0.4000 - val_loss: 0.4111 - val_acc: 0.8146 - val_binary_crossentropy: 0.4111\n",
      "Epoch 45/200\n",
      "543516/543516 [==============================] - 79s 145us/sample - loss: 0.4003 - acc: 0.8212 - binary_crossentropy: 0.4003 - val_loss: 0.4117 - val_acc: 0.8145 - val_binary_crossentropy: 0.4117\n",
      "Epoch 46/200\n",
      "543516/543516 [==============================] - 79s 145us/sample - loss: 0.3998 - acc: 0.8213 - binary_crossentropy: 0.3998 - val_loss: 0.4096 - val_acc: 0.8162 - val_binary_crossentropy: 0.4096\n",
      "Epoch 47/200\n",
      "543516/543516 [==============================] - 79s 145us/sample - loss: 0.3999 - acc: 0.8214 - binary_crossentropy: 0.3999 - val_loss: 0.4128 - val_acc: 0.8136 - val_binary_crossentropy: 0.4128\n",
      "Epoch 48/200\n",
      "543516/543516 [==============================] - 80s 146us/sample - loss: 0.3996 - acc: 0.8216 - binary_crossentropy: 0.3996 - val_loss: 0.4069 - val_acc: 0.8165 - val_binary_crossentropy: 0.4069\n",
      "Epoch 49/200\n",
      "543516/543516 [==============================] - 79s 146us/sample - loss: 0.3989 - acc: 0.8218 - binary_crossentropy: 0.3989 - val_loss: 0.4104 - val_acc: 0.8140 - val_binary_crossentropy: 0.4104\n",
      "Epoch 50/200\n",
      "543516/543516 [==============================] - 79s 145us/sample - loss: 0.3994 - acc: 0.8216 - binary_crossentropy: 0.3994 - val_loss: 0.4109 - val_acc: 0.8141 - val_binary_crossentropy: 0.4109\n",
      "Epoch 51/200\n",
      "543516/543516 [==============================] - 79s 146us/sample - loss: 0.3989 - acc: 0.8219 - binary_crossentropy: 0.3989 - val_loss: 0.4169 - val_acc: 0.8116 - val_binary_crossentropy: 0.4169\n",
      "Epoch 52/200\n",
      "543516/543516 [==============================] - 79s 145us/sample - loss: 0.3991 - acc: 0.8221 - binary_crossentropy: 0.3991 - val_loss: 0.4125 - val_acc: 0.8136 - val_binary_crossentropy: 0.4125\n",
      "Epoch 53/200\n",
      "543516/543516 [==============================] - 79s 145us/sample - loss: 0.3991 - acc: 0.8215 - binary_crossentropy: 0.3991 - val_loss: 0.4115 - val_acc: 0.8144 - val_binary_crossentropy: 0.4115\n",
      "Epoch 54/200\n",
      "543516/543516 [==============================] - 79s 145us/sample - loss: 0.3984 - acc: 0.8222 - binary_crossentropy: 0.3984 - val_loss: 0.4118 - val_acc: 0.8124 - val_binary_crossentropy: 0.4118\n",
      "Epoch 55/200\n",
      "543516/543516 [==============================] - 78s 144us/sample - loss: 0.3981 - acc: 0.8222 - binary_crossentropy: 0.3981 - val_loss: 0.4064 - val_acc: 0.8168 - val_binary_crossentropy: 0.4064\n",
      "Epoch 56/200\n",
      "543516/543516 [==============================] - 79s 146us/sample - loss: 0.3980 - acc: 0.8220 - binary_crossentropy: 0.3980 - val_loss: 0.4099 - val_acc: 0.8159 - val_binary_crossentropy: 0.4099\n",
      "Epoch 57/200\n",
      "543516/543516 [==============================] - 79s 145us/sample - loss: 0.3979 - acc: 0.8225 - binary_crossentropy: 0.3979 - val_loss: 0.4185 - val_acc: 0.8104 - val_binary_crossentropy: 0.4185\n",
      "Epoch 58/200\n",
      "543516/543516 [==============================] - 79s 145us/sample - loss: 0.3975 - acc: 0.8226 - binary_crossentropy: 0.3975 - val_loss: 0.4139 - val_acc: 0.8130 - val_binary_crossentropy: 0.4139\n",
      "Epoch 59/200\n",
      "543516/543516 [==============================] - 79s 145us/sample - loss: 0.3977 - acc: 0.8225 - binary_crossentropy: 0.3977 - val_loss: 0.4090 - val_acc: 0.8150 - val_binary_crossentropy: 0.4090\n",
      "Epoch 60/200\n",
      "543516/543516 [==============================] - 78s 144us/sample - loss: 0.3975 - acc: 0.8222 - binary_crossentropy: 0.3975 - val_loss: 0.4121 - val_acc: 0.8150 - val_binary_crossentropy: 0.4121\n",
      "Epoch 61/200\n",
      "543516/543516 [==============================] - 79s 145us/sample - loss: 0.3974 - acc: 0.8227 - binary_crossentropy: 0.3974 - val_loss: 0.4097 - val_acc: 0.8147 - val_binary_crossentropy: 0.4097\n",
      "Epoch 62/200\n",
      "543516/543516 [==============================] - 79s 146us/sample - loss: 0.3966 - acc: 0.8231 - binary_crossentropy: 0.3966 - val_loss: 0.4137 - val_acc: 0.8137 - val_binary_crossentropy: 0.4137\n",
      "Epoch 63/200\n",
      "543516/543516 [==============================] - 79s 145us/sample - loss: 0.3968 - acc: 0.8231 - binary_crossentropy: 0.3968 - val_loss: 0.4080 - val_acc: 0.8165 - val_binary_crossentropy: 0.4080\n",
      "Epoch 64/200\n",
      "543516/543516 [==============================] - 78s 144us/sample - loss: 0.3970 - acc: 0.8223 - binary_crossentropy: 0.3970 - val_loss: 0.4104 - val_acc: 0.8149 - val_binary_crossentropy: 0.4104\n",
      "Epoch 65/200\n",
      "543516/543516 [==============================] - 79s 146us/sample - loss: 0.3970 - acc: 0.8233 - binary_crossentropy: 0.3970 - val_loss: 0.4092 - val_acc: 0.8151 - val_binary_crossentropy: 0.4092\n",
      "Epoch 66/200\n",
      "543516/543516 [==============================] - 79s 145us/sample - loss: 0.3969 - acc: 0.8228 - binary_crossentropy: 0.3969 - val_loss: 0.4107 - val_acc: 0.8152 - val_binary_crossentropy: 0.4107\n",
      "Epoch 67/200\n",
      "543516/543516 [==============================] - 79s 145us/sample - loss: 0.3965 - acc: 0.8227 - binary_crossentropy: 0.3965 - val_loss: 0.4123 - val_acc: 0.8153 - val_binary_crossentropy: 0.4123\n",
      "Epoch 68/200\n",
      "543516/543516 [==============================] - 79s 145us/sample - loss: 0.3963 - acc: 0.8234 - binary_crossentropy: 0.3963 - val_loss: 0.4123 - val_acc: 0.8134 - val_binary_crossentropy: 0.4123\n",
      "Epoch 69/200\n",
      "543516/543516 [==============================] - 79s 146us/sample - loss: 0.3964 - acc: 0.8230 - binary_crossentropy: 0.3964 - val_loss: 0.4144 - val_acc: 0.8129 - val_binary_crossentropy: 0.4144\n",
      "Epoch 70/200\n",
      "543516/543516 [==============================] - 80s 147us/sample - loss: 0.3961 - acc: 0.8232 - binary_crossentropy: 0.3961 - val_loss: 0.4128 - val_acc: 0.8153 - val_binary_crossentropy: 0.4128\n",
      "Epoch 71/200\n",
      "543516/543516 [==============================] - 79s 145us/sample - loss: 0.3959 - acc: 0.8232 - binary_crossentropy: 0.3959 - val_loss: 0.4184 - val_acc: 0.8121 - val_binary_crossentropy: 0.4184\n",
      "Epoch 72/200\n",
      "543516/543516 [==============================] - 78s 144us/sample - loss: 0.3962 - acc: 0.8229 - binary_crossentropy: 0.3962 - val_loss: 0.4104 - val_acc: 0.8159 - val_binary_crossentropy: 0.4104\n",
      "Epoch 73/200\n",
      "543516/543516 [==============================] - 79s 145us/sample - loss: 0.3954 - acc: 0.8236 - binary_crossentropy: 0.3954 - val_loss: 0.4163 - val_acc: 0.8125 - val_binary_crossentropy: 0.4163\n",
      "Epoch 74/200\n",
      "543516/543516 [==============================] - 79s 145us/sample - loss: 0.3948 - acc: 0.8241 - binary_crossentropy: 0.3948 - val_loss: 0.4100 - val_acc: 0.8154 - val_binary_crossentropy: 0.4100\n",
      "Epoch 75/200\n",
      "543516/543516 [==============================] - 80s 147us/sample - loss: 0.3954 - acc: 0.8236 - binary_crossentropy: 0.3954 - val_loss: 0.4107 - val_acc: 0.8161 - val_binary_crossentropy: 0.4107\n",
      "Epoch 76/200\n",
      "543516/543516 [==============================] - 78s 144us/sample - loss: 0.3952 - acc: 0.8233 - binary_crossentropy: 0.3952 - val_loss: 0.4118 - val_acc: 0.8141 - val_binary_crossentropy: 0.4118\n",
      "Epoch 77/200\n",
      "543516/543516 [==============================] - 79s 144us/sample - loss: 0.3953 - acc: 0.8238 - binary_crossentropy: 0.3953 - val_loss: 0.4093 - val_acc: 0.8157 - val_binary_crossentropy: 0.4093\n",
      "Epoch 78/200\n",
      "543516/543516 [==============================] - 79s 146us/sample - loss: 0.3953 - acc: 0.8238 - binary_crossentropy: 0.3953 - val_loss: 0.4095 - val_acc: 0.8146 - val_binary_crossentropy: 0.4095\n",
      "Epoch 79/200\n",
      "543516/543516 [==============================] - 79s 145us/sample - loss: 0.3950 - acc: 0.8236 - binary_crossentropy: 0.3950 - val_loss: 0.4155 - val_acc: 0.8142 - val_binary_crossentropy: 0.4155\n",
      "Epoch 80/200\n",
      "543516/543516 [==============================] - 79s 146us/sample - loss: 0.3950 - acc: 0.8240 - binary_crossentropy: 0.3950 - val_loss: 0.4142 - val_acc: 0.8136 - val_binary_crossentropy: 0.4142\n",
      "Epoch 81/200\n",
      "543516/543516 [==============================] - 80s 146us/sample - loss: 0.3953 - acc: 0.8238 - binary_crossentropy: 0.3953 - val_loss: 0.4230 - val_acc: 0.8096 - val_binary_crossentropy: 0.4230\n",
      "Epoch 82/200\n",
      "543516/543516 [==============================] - 79s 145us/sample - loss: 0.3948 - acc: 0.8240 - binary_crossentropy: 0.3948 - val_loss: 0.4215 - val_acc: 0.8098 - val_binary_crossentropy: 0.4215\n",
      "Epoch 83/200\n",
      "543516/543516 [==============================] - 79s 146us/sample - loss: 0.3945 - acc: 0.8242 - binary_crossentropy: 0.3945 - val_loss: 0.4100 - val_acc: 0.8152 - val_binary_crossentropy: 0.4100\n",
      "Epoch 84/200\n",
      "543516/543516 [==============================] - 79s 146us/sample - loss: 0.3946 - acc: 0.8237 - binary_crossentropy: 0.3946 - val_loss: 0.4200 - val_acc: 0.8123 - val_binary_crossentropy: 0.4200\n",
      "Epoch 85/200\n",
      "543516/543516 [==============================] - 79s 145us/sample - loss: 0.3948 - acc: 0.8239 - binary_crossentropy: 0.3948 - val_loss: 0.4129 - val_acc: 0.8143 - val_binary_crossentropy: 0.4129\n",
      "Epoch 86/200\n",
      "543516/543516 [==============================] - 78s 144us/sample - loss: 0.3939 - acc: 0.8246 - binary_crossentropy: 0.3939 - val_loss: 0.4094 - val_acc: 0.8157 - val_binary_crossentropy: 0.4094\n",
      "Epoch 87/200\n",
      "543516/543516 [==============================] - 79s 145us/sample - loss: 0.3943 - acc: 0.8240 - binary_crossentropy: 0.3943 - val_loss: 0.4123 - val_acc: 0.8132 - val_binary_crossentropy: 0.4123\n",
      "Epoch 88/200\n",
      "543516/543516 [==============================] - 79s 144us/sample - loss: 0.3943 - acc: 0.8244 - binary_crossentropy: 0.3943 - val_loss: 0.4150 - val_acc: 0.8124 - val_binary_crossentropy: 0.4150\n",
      "Epoch 89/200\n",
      "543516/543516 [==============================] - 79s 146us/sample - loss: 0.3943 - acc: 0.8241 - binary_crossentropy: 0.3943 - val_loss: 0.4093 - val_acc: 0.8168 - val_binary_crossentropy: 0.4093\n",
      "Epoch 90/200\n",
      "543516/543516 [==============================] - 79s 146us/sample - loss: 0.3940 - acc: 0.8240 - binary_crossentropy: 0.3940 - val_loss: 0.4174 - val_acc: 0.8119 - val_binary_crossentropy: 0.4174\n",
      "Epoch 91/200\n",
      "543516/543516 [==============================] - 79s 146us/sample - loss: 0.3936 - acc: 0.8245 - binary_crossentropy: 0.3936 - val_loss: 0.4127 - val_acc: 0.8136 - val_binary_crossentropy: 0.4127\n",
      "Epoch 92/200\n",
      "543516/543516 [==============================] - 79s 145us/sample - loss: 0.3937 - acc: 0.8245 - binary_crossentropy: 0.3937 - val_loss: 0.4178 - val_acc: 0.8118 - val_binary_crossentropy: 0.4178\n",
      "Epoch 93/200\n",
      "543516/543516 [==============================] - 79s 145us/sample - loss: 0.3938 - acc: 0.8246 - binary_crossentropy: 0.3938 - val_loss: 0.4106 - val_acc: 0.8150 - val_binary_crossentropy: 0.4106\n",
      "Epoch 94/200\n",
      "543516/543516 [==============================] - 80s 146us/sample - loss: 0.3933 - acc: 0.8246 - binary_crossentropy: 0.3933 - val_loss: 0.4143 - val_acc: 0.8134 - val_binary_crossentropy: 0.4143\n",
      "Epoch 95/200\n",
      "543516/543516 [==============================] - 80s 147us/sample - loss: 0.3938 - acc: 0.8245 - binary_crossentropy: 0.3938 - val_loss: 0.4155 - val_acc: 0.8126 - val_binary_crossentropy: 0.4155\n",
      "Epoch 96/200\n",
      "543516/543516 [==============================] - 80s 146us/sample - loss: 0.3932 - acc: 0.8246 - binary_crossentropy: 0.3932 - val_loss: 0.4162 - val_acc: 0.8122 - val_binary_crossentropy: 0.4162\n",
      "Epoch 97/200\n",
      "543516/543516 [==============================] - 79s 146us/sample - loss: 0.3936 - acc: 0.8243 - binary_crossentropy: 0.3936 - val_loss: 0.4148 - val_acc: 0.8134 - val_binary_crossentropy: 0.4148\n",
      "Epoch 98/200\n",
      "543516/543516 [==============================] - 79s 146us/sample - loss: 0.3928 - acc: 0.8247 - binary_crossentropy: 0.3928 - val_loss: 0.4089 - val_acc: 0.8157 - val_binary_crossentropy: 0.4089\n",
      "Epoch 99/200\n",
      "543516/543516 [==============================] - 79s 146us/sample - loss: 0.3932 - acc: 0.8245 - binary_crossentropy: 0.3932 - val_loss: 0.4151 - val_acc: 0.8141 - val_binary_crossentropy: 0.4151\n",
      "Epoch 100/200\n",
      "543516/543516 [==============================] - 79s 145us/sample - loss: 0.3928 - acc: 0.8249 - binary_crossentropy: 0.3928 - val_loss: 0.4187 - val_acc: 0.8118 - val_binary_crossentropy: 0.4187\n",
      "Epoch 101/200\n",
      "543516/543516 [==============================] - 78s 144us/sample - loss: 0.3924 - acc: 0.8254 - binary_crossentropy: 0.3924 - val_loss: 0.4128 - val_acc: 0.8139 - val_binary_crossentropy: 0.4128\n",
      "Epoch 102/200\n",
      "543516/543516 [==============================] - 78s 143us/sample - loss: 0.3935 - acc: 0.8245 - binary_crossentropy: 0.3935 - val_loss: 0.4168 - val_acc: 0.8110 - val_binary_crossentropy: 0.4168\n",
      "Epoch 103/200\n",
      "543516/543516 [==============================] - 78s 143us/sample - loss: 0.3932 - acc: 0.8249 - binary_crossentropy: 0.3932 - val_loss: 0.4151 - val_acc: 0.8141 - val_binary_crossentropy: 0.4151\n",
      "Epoch 104/200\n",
      "543516/543516 [==============================] - 78s 143us/sample - loss: 0.3929 - acc: 0.8249 - binary_crossentropy: 0.3929 - val_loss: 0.4141 - val_acc: 0.8152 - val_binary_crossentropy: 0.4141\n",
      "Epoch 105/200\n",
      "543516/543516 [==============================] - 77s 143us/sample - loss: 0.3931 - acc: 0.8249 - binary_crossentropy: 0.3931 - val_loss: 0.4168 - val_acc: 0.8105 - val_binary_crossentropy: 0.4168\n",
      "Epoch 106/200\n",
      "543516/543516 [==============================] - 79s 146us/sample - loss: 0.3928 - acc: 0.8251 - binary_crossentropy: 0.3928 - val_loss: 0.4183 - val_acc: 0.8134 - val_binary_crossentropy: 0.4183\n",
      "Epoch 107/200\n",
      "543516/543516 [==============================] - 78s 143us/sample - loss: 0.3926 - acc: 0.8248 - binary_crossentropy: 0.3926 - val_loss: 0.4118 - val_acc: 0.8141 - val_binary_crossentropy: 0.4118\n",
      "Epoch 108/200\n",
      "543516/543516 [==============================] - 78s 143us/sample - loss: 0.3926 - acc: 0.8252 - binary_crossentropy: 0.3926 - val_loss: 0.4232 - val_acc: 0.8118 - val_binary_crossentropy: 0.4232\n",
      "Epoch 109/200\n",
      "543516/543516 [==============================] - 78s 144us/sample - loss: 0.3926 - acc: 0.8253 - binary_crossentropy: 0.3926 - val_loss: 0.4149 - val_acc: 0.8136 - val_binary_crossentropy: 0.4149\n",
      "Epoch 110/200\n",
      "543516/543516 [==============================] - 78s 144us/sample - loss: 0.3926 - acc: 0.8248 - binary_crossentropy: 0.3926 - val_loss: 0.4166 - val_acc: 0.8133 - val_binary_crossentropy: 0.4166\n",
      "Epoch 111/200\n",
      "543516/543516 [==============================] - 78s 144us/sample - loss: 0.3926 - acc: 0.8251 - binary_crossentropy: 0.3926 - val_loss: 0.4164 - val_acc: 0.8119 - val_binary_crossentropy: 0.4164\n",
      "Epoch 112/200\n",
      "543516/543516 [==============================] - 78s 143us/sample - loss: 0.3919 - acc: 0.8251 - binary_crossentropy: 0.3919 - val_loss: 0.4241 - val_acc: 0.8094 - val_binary_crossentropy: 0.4241\n",
      "Epoch 113/200\n",
      "543516/543516 [==============================] - 78s 143us/sample - loss: 0.3922 - acc: 0.8251 - binary_crossentropy: 0.3922 - val_loss: 0.4291 - val_acc: 0.8101 - val_binary_crossentropy: 0.4291\n",
      "Epoch 114/200\n",
      "543516/543516 [==============================] - 77s 142us/sample - loss: 0.3924 - acc: 0.8249 - binary_crossentropy: 0.3924 - val_loss: 0.4195 - val_acc: 0.8117 - val_binary_crossentropy: 0.4195\n",
      "Epoch 115/200\n",
      "543516/543516 [==============================] - 78s 144us/sample - loss: 0.3920 - acc: 0.8259 - binary_crossentropy: 0.3920 - val_loss: 0.4103 - val_acc: 0.8140 - val_binary_crossentropy: 0.4103\n",
      "Epoch 116/200\n",
      "543516/543516 [==============================] - 78s 143us/sample - loss: 0.3921 - acc: 0.8253 - binary_crossentropy: 0.3921 - val_loss: 0.4113 - val_acc: 0.8154 - val_binary_crossentropy: 0.4113\n",
      "Epoch 117/200\n",
      "543516/543516 [==============================] - 77s 143us/sample - loss: 0.3921 - acc: 0.8250 - binary_crossentropy: 0.3921 - val_loss: 0.4156 - val_acc: 0.8126 - val_binary_crossentropy: 0.4156\n",
      "Epoch 118/200\n"
     ]
    },
    {
     "name": "stdout",
     "output_type": "stream",
     "text": [
      "543516/543516 [==============================] - 78s 143us/sample - loss: 0.3920 - acc: 0.8254 - binary_crossentropy: 0.3920 - val_loss: 0.4194 - val_acc: 0.8125 - val_binary_crossentropy: 0.4194\n",
      "Epoch 119/200\n",
      "543516/543516 [==============================] - 78s 143us/sample - loss: 0.3921 - acc: 0.8248 - binary_crossentropy: 0.3921 - val_loss: 0.4146 - val_acc: 0.8133 - val_binary_crossentropy: 0.4146\n",
      "Epoch 120/200\n",
      "543516/543516 [==============================] - 77s 143us/sample - loss: 0.3920 - acc: 0.8254 - binary_crossentropy: 0.3920 - val_loss: 0.4127 - val_acc: 0.8141 - val_binary_crossentropy: 0.4127\n",
      "Epoch 121/200\n",
      "543516/543516 [==============================] - 78s 144us/sample - loss: 0.3919 - acc: 0.8253 - binary_crossentropy: 0.3919 - val_loss: 0.4234 - val_acc: 0.8096 - val_binary_crossentropy: 0.4234\n",
      "Epoch 122/200\n",
      "543516/543516 [==============================] - 78s 143us/sample - loss: 0.3917 - acc: 0.8255 - binary_crossentropy: 0.3917 - val_loss: 0.4209 - val_acc: 0.8122 - val_binary_crossentropy: 0.4209\n",
      "Epoch 123/200\n",
      "543516/543516 [==============================] - 78s 143us/sample - loss: 0.3922 - acc: 0.8248 - binary_crossentropy: 0.3922 - val_loss: 0.4130 - val_acc: 0.8142 - val_binary_crossentropy: 0.4130\n",
      "Epoch 124/200\n",
      "543516/543516 [==============================] - 78s 144us/sample - loss: 0.3920 - acc: 0.8252 - binary_crossentropy: 0.3920 - val_loss: 0.4172 - val_acc: 0.8125 - val_binary_crossentropy: 0.4172\n",
      "Epoch 125/200\n",
      "543516/543516 [==============================] - 78s 143us/sample - loss: 0.3918 - acc: 0.8252 - binary_crossentropy: 0.3918 - val_loss: 0.4186 - val_acc: 0.8109 - val_binary_crossentropy: 0.4186\n",
      "Epoch 126/200\n",
      "543516/543516 [==============================] - 78s 143us/sample - loss: 0.3916 - acc: 0.8255 - binary_crossentropy: 0.3916 - val_loss: 0.4248 - val_acc: 0.8112 - val_binary_crossentropy: 0.4248\n",
      "Epoch 127/200\n",
      "543516/543516 [==============================] - 78s 143us/sample - loss: 0.3914 - acc: 0.8256 - binary_crossentropy: 0.3914 - val_loss: 0.4118 - val_acc: 0.8141 - val_binary_crossentropy: 0.4118\n",
      "Epoch 128/200\n",
      "543516/543516 [==============================] - 78s 143us/sample - loss: 0.3915 - acc: 0.8253 - binary_crossentropy: 0.3915 - val_loss: 0.4165 - val_acc: 0.8129 - val_binary_crossentropy: 0.4165\n",
      "Epoch 129/200\n",
      "543516/543516 [==============================] - 78s 143us/sample - loss: 0.3920 - acc: 0.8254 - binary_crossentropy: 0.3920 - val_loss: 0.4268 - val_acc: 0.8104 - val_binary_crossentropy: 0.4268\n",
      "Epoch 130/200\n",
      "543516/543516 [==============================] - 77s 143us/sample - loss: 0.3914 - acc: 0.8255 - binary_crossentropy: 0.3914 - val_loss: 0.4147 - val_acc: 0.8130 - val_binary_crossentropy: 0.4147\n",
      "Epoch 131/200\n",
      "543516/543516 [==============================] - 77s 142us/sample - loss: 0.3914 - acc: 0.8254 - binary_crossentropy: 0.3914 - val_loss: 0.4132 - val_acc: 0.8128 - val_binary_crossentropy: 0.4132\n",
      "Epoch 132/200\n",
      "543516/543516 [==============================] - 78s 143us/sample - loss: 0.3910 - acc: 0.8258 - binary_crossentropy: 0.3910 - val_loss: 0.4124 - val_acc: 0.8145 - val_binary_crossentropy: 0.4124\n",
      "Epoch 133/200\n",
      "543516/543516 [==============================] - 78s 143us/sample - loss: 0.3914 - acc: 0.8253 - binary_crossentropy: 0.3914 - val_loss: 0.4243 - val_acc: 0.8095 - val_binary_crossentropy: 0.4243\n",
      "Epoch 134/200\n",
      "543516/543516 [==============================] - 78s 143us/sample - loss: 0.3915 - acc: 0.8252 - binary_crossentropy: 0.3915 - val_loss: 0.4117 - val_acc: 0.8147 - val_binary_crossentropy: 0.4117\n",
      "Epoch 135/200\n",
      "543516/543516 [==============================] - 76s 139us/sample - loss: 0.3914 - acc: 0.8256 - binary_crossentropy: 0.3914 - val_loss: 0.4146 - val_acc: 0.8133 - val_binary_crossentropy: 0.4146\n",
      "Epoch 136/200\n",
      "543516/543516 [==============================] - 69s 127us/sample - loss: 0.3914 - acc: 0.8257 - binary_crossentropy: 0.3914 - val_loss: 0.4162 - val_acc: 0.8125 - val_binary_crossentropy: 0.4162\n",
      "Epoch 137/200\n",
      "543516/543516 [==============================] - 61s 112us/sample - loss: 0.3913 - acc: 0.8254 - binary_crossentropy: 0.3913 - val_loss: 0.4143 - val_acc: 0.8130 - val_binary_crossentropy: 0.4143\n",
      "Epoch 138/200\n",
      "543516/543516 [==============================] - 60s 111us/sample - loss: 0.3911 - acc: 0.8258 - binary_crossentropy: 0.3911 - val_loss: 0.4218 - val_acc: 0.8138 - val_binary_crossentropy: 0.4218\n",
      "Epoch 139/200\n",
      "543516/543516 [==============================] - 61s 112us/sample - loss: 0.3910 - acc: 0.8255 - binary_crossentropy: 0.3910 - val_loss: 0.4094 - val_acc: 0.8156 - val_binary_crossentropy: 0.4094\n",
      "Epoch 140/200\n",
      "543516/543516 [==============================] - 60s 111us/sample - loss: 0.3906 - acc: 0.8261 - binary_crossentropy: 0.3906 - val_loss: 0.4136 - val_acc: 0.8148 - val_binary_crossentropy: 0.4136\n",
      "Epoch 141/200\n",
      "543516/543516 [==============================] - 60s 111us/sample - loss: 0.3911 - acc: 0.8257 - binary_crossentropy: 0.3911 - val_loss: 0.4130 - val_acc: 0.8139 - val_binary_crossentropy: 0.4130\n",
      "Epoch 142/200\n",
      "543516/543516 [==============================] - 61s 112us/sample - loss: 0.3907 - acc: 0.8262 - binary_crossentropy: 0.3907 - val_loss: 0.4214 - val_acc: 0.8127 - val_binary_crossentropy: 0.4214\n",
      "Epoch 143/200\n",
      "543516/543516 [==============================] - 60s 111us/sample - loss: 0.3905 - acc: 0.8259 - binary_crossentropy: 0.3905 - val_loss: 0.4266 - val_acc: 0.8104 - val_binary_crossentropy: 0.4266\n",
      "Epoch 144/200\n",
      "543516/543516 [==============================] - 60s 111us/sample - loss: 0.3911 - acc: 0.8260 - binary_crossentropy: 0.3911 - val_loss: 0.4197 - val_acc: 0.8095 - val_binary_crossentropy: 0.4197\n",
      "Epoch 145/200\n",
      "543516/543516 [==============================] - 60s 111us/sample - loss: 0.3908 - acc: 0.8255 - binary_crossentropy: 0.3908 - val_loss: 0.4200 - val_acc: 0.8122 - val_binary_crossentropy: 0.4200\n",
      "Epoch 146/200\n",
      "543516/543516 [==============================] - 61s 112us/sample - loss: 0.3910 - acc: 0.8261 - binary_crossentropy: 0.3910 - val_loss: 0.4199 - val_acc: 0.8124 - val_binary_crossentropy: 0.4199\n",
      "Epoch 147/200\n",
      "543516/543516 [==============================] - 60s 111us/sample - loss: 0.3909 - acc: 0.8260 - binary_crossentropy: 0.3909 - val_loss: 0.4152 - val_acc: 0.8151 - val_binary_crossentropy: 0.4152\n",
      "Epoch 148/200\n",
      "543516/543516 [==============================] - 60s 111us/sample - loss: 0.3905 - acc: 0.8258 - binary_crossentropy: 0.3905 - val_loss: 0.4451 - val_acc: 0.8019 - val_binary_crossentropy: 0.4451\n",
      "Epoch 149/200\n",
      "543516/543516 [==============================] - 61s 111us/sample - loss: 0.3909 - acc: 0.8259 - binary_crossentropy: 0.3909 - val_loss: 0.4170 - val_acc: 0.8131 - val_binary_crossentropy: 0.4170\n",
      "Epoch 150/200\n",
      "543516/543516 [==============================] - 60s 111us/sample - loss: 0.3905 - acc: 0.8265 - binary_crossentropy: 0.3905 - val_loss: 0.4202 - val_acc: 0.8114 - val_binary_crossentropy: 0.4202\n",
      "Epoch 151/200\n",
      "543516/543516 [==============================] - 61s 112us/sample - loss: 0.3909 - acc: 0.8257 - binary_crossentropy: 0.3909 - val_loss: 0.4213 - val_acc: 0.8114 - val_binary_crossentropy: 0.4213\n",
      "Epoch 152/200\n",
      "543516/543516 [==============================] - 61s 112us/sample - loss: 0.3904 - acc: 0.8260 - binary_crossentropy: 0.3904 - val_loss: 0.4305 - val_acc: 0.8085 - val_binary_crossentropy: 0.4305\n",
      "Epoch 153/200\n",
      "543516/543516 [==============================] - 60s 111us/sample - loss: 0.3901 - acc: 0.8262 - binary_crossentropy: 0.3901 - val_loss: 0.4200 - val_acc: 0.8125 - val_binary_crossentropy: 0.4200\n",
      "Epoch 154/200\n",
      "543516/543516 [==============================] - 61s 111us/sample - loss: 0.3910 - acc: 0.8259 - binary_crossentropy: 0.3910 - val_loss: 0.4181 - val_acc: 0.8113 - val_binary_crossentropy: 0.4181\n",
      "Epoch 155/200\n",
      "543516/543516 [==============================] - 61s 112us/sample - loss: 0.3904 - acc: 0.8263 - binary_crossentropy: 0.3904 - val_loss: 0.4238 - val_acc: 0.8093 - val_binary_crossentropy: 0.4238\n",
      "Epoch 156/200\n",
      "543516/543516 [==============================] - 61s 112us/sample - loss: 0.3901 - acc: 0.8261 - binary_crossentropy: 0.3901 - val_loss: 0.4160 - val_acc: 0.8127 - val_binary_crossentropy: 0.4160\n",
      "Epoch 157/200\n",
      "543516/543516 [==============================] - 61s 112us/sample - loss: 0.3906 - acc: 0.8259 - binary_crossentropy: 0.3906 - val_loss: 0.4190 - val_acc: 0.8129 - val_binary_crossentropy: 0.4190\n",
      "Epoch 158/200\n",
      "543516/543516 [==============================] - 61s 112us/sample - loss: 0.3900 - acc: 0.8262 - binary_crossentropy: 0.3901 - val_loss: 0.4143 - val_acc: 0.8132 - val_binary_crossentropy: 0.4143\n",
      "Epoch 159/200\n",
      "543516/543516 [==============================] - 61s 112us/sample - loss: 0.3904 - acc: 0.8266 - binary_crossentropy: 0.3904 - val_loss: 0.4329 - val_acc: 0.8092 - val_binary_crossentropy: 0.4329\n",
      "Epoch 160/200\n",
      "543516/543516 [==============================] - 61s 111us/sample - loss: 0.3899 - acc: 0.8262 - binary_crossentropy: 0.3899 - val_loss: 0.4197 - val_acc: 0.8108 - val_binary_crossentropy: 0.4197\n",
      "Epoch 161/200\n",
      "543516/543516 [==============================] - 61s 112us/sample - loss: 0.3902 - acc: 0.8259 - binary_crossentropy: 0.3902 - val_loss: 0.4246 - val_acc: 0.8097 - val_binary_crossentropy: 0.4246\n",
      "Epoch 162/200\n",
      "543516/543516 [==============================] - 60s 111us/sample - loss: 0.3901 - acc: 0.8261 - binary_crossentropy: 0.3901 - val_loss: 0.4130 - val_acc: 0.8135 - val_binary_crossentropy: 0.4130\n",
      "Epoch 163/200\n",
      "543516/543516 [==============================] - 61s 112us/sample - loss: 0.3897 - acc: 0.8261 - binary_crossentropy: 0.3897 - val_loss: 0.4177 - val_acc: 0.8114 - val_binary_crossentropy: 0.4177\n",
      "Epoch 164/200\n",
      "543516/543516 [==============================] - 61s 111us/sample - loss: 0.3903 - acc: 0.8258 - binary_crossentropy: 0.3903 - val_loss: 0.4191 - val_acc: 0.8121 - val_binary_crossentropy: 0.4191\n",
      "Epoch 165/200\n",
      "543516/543516 [==============================] - 61s 112us/sample - loss: 0.3900 - acc: 0.8263 - binary_crossentropy: 0.3900 - val_loss: 0.4215 - val_acc: 0.8111 - val_binary_crossentropy: 0.4215\n",
      "Epoch 166/200\n",
      "543516/543516 [==============================] - 61s 112us/sample - loss: 0.3903 - acc: 0.8257 - binary_crossentropy: 0.3903 - val_loss: 0.4228 - val_acc: 0.8102 - val_binary_crossentropy: 0.4228\n",
      "Epoch 167/200\n",
      "543516/543516 [==============================] - 60s 111us/sample - loss: 0.3898 - acc: 0.8260 - binary_crossentropy: 0.3898 - val_loss: 0.4173 - val_acc: 0.8115 - val_binary_crossentropy: 0.4173\n",
      "Epoch 168/200\n",
      "543516/543516 [==============================] - 61s 112us/sample - loss: 0.3900 - acc: 0.8265 - binary_crossentropy: 0.3900 - val_loss: 0.4180 - val_acc: 0.8123 - val_binary_crossentropy: 0.4180\n",
      "Epoch 169/200\n",
      "543516/543516 [==============================] - 61s 112us/sample - loss: 0.3901 - acc: 0.8261 - binary_crossentropy: 0.3901 - val_loss: 0.4160 - val_acc: 0.8126 - val_binary_crossentropy: 0.4160\n",
      "Epoch 170/200\n",
      "543516/543516 [==============================] - 61s 112us/sample - loss: 0.3899 - acc: 0.8266 - binary_crossentropy: 0.3899 - val_loss: 0.4188 - val_acc: 0.8127 - val_binary_crossentropy: 0.4188\n",
      "Epoch 171/200\n",
      "543516/543516 [==============================] - 61s 111us/sample - loss: 0.3896 - acc: 0.8266 - binary_crossentropy: 0.3896 - val_loss: 0.4164 - val_acc: 0.8123 - val_binary_crossentropy: 0.4164\n",
      "Epoch 172/200\n",
      "543516/543516 [==============================] - 61s 111us/sample - loss: 0.3898 - acc: 0.8263 - binary_crossentropy: 0.3898 - val_loss: 0.4160 - val_acc: 0.8124 - val_binary_crossentropy: 0.4160\n",
      "Epoch 173/200\n",
      "543516/543516 [==============================] - 60s 111us/sample - loss: 0.3901 - acc: 0.8260 - binary_crossentropy: 0.3901 - val_loss: 0.4294 - val_acc: 0.8079 - val_binary_crossentropy: 0.4294\n",
      "Epoch 174/200\n",
      "543516/543516 [==============================] - 61s 111us/sample - loss: 0.3898 - acc: 0.8260 - binary_crossentropy: 0.3898 - val_loss: 0.4144 - val_acc: 0.8142 - val_binary_crossentropy: 0.4144\n",
      "Epoch 175/200\n",
      "543516/543516 [==============================] - 61s 112us/sample - loss: 0.3901 - acc: 0.8262 - binary_crossentropy: 0.3901 - val_loss: 0.4196 - val_acc: 0.8126 - val_binary_crossentropy: 0.4196\n",
      "Epoch 176/200\n",
      "543516/543516 [==============================] - 61s 112us/sample - loss: 0.3896 - acc: 0.8267 - binary_crossentropy: 0.3896 - val_loss: 0.4155 - val_acc: 0.8133 - val_binary_crossentropy: 0.4155\n",
      "Epoch 177/200\n",
      "543516/543516 [==============================] - 60s 111us/sample - loss: 0.3896 - acc: 0.8266 - binary_crossentropy: 0.3896 - val_loss: 0.4181 - val_acc: 0.8123 - val_binary_crossentropy: 0.4181\n",
      "Epoch 178/200\n",
      "543516/543516 [==============================] - 61s 112us/sample - loss: 0.3895 - acc: 0.8261 - binary_crossentropy: 0.3895 - val_loss: 0.4140 - val_acc: 0.8142 - val_binary_crossentropy: 0.4140\n",
      "Epoch 179/200\n",
      "543516/543516 [==============================] - 61s 111us/sample - loss: 0.3901 - acc: 0.8263 - binary_crossentropy: 0.3901 - val_loss: 0.4167 - val_acc: 0.8127 - val_binary_crossentropy: 0.4167\n",
      "Epoch 180/200\n",
      "543516/543516 [==============================] - 61s 112us/sample - loss: 0.3894 - acc: 0.8261 - binary_crossentropy: 0.3894 - val_loss: 0.4260 - val_acc: 0.8092 - val_binary_crossentropy: 0.4260\n",
      "Epoch 181/200\n",
      "543516/543516 [==============================] - 61s 112us/sample - loss: 0.3899 - acc: 0.8256 - binary_crossentropy: 0.3899 - val_loss: 0.4239 - val_acc: 0.8084 - val_binary_crossentropy: 0.4239\n",
      "Epoch 182/200\n",
      "543516/543516 [==============================] - 61s 112us/sample - loss: 0.3899 - acc: 0.8262 - binary_crossentropy: 0.3899 - val_loss: 0.4332 - val_acc: 0.8089 - val_binary_crossentropy: 0.4332\n",
      "Epoch 183/200\n",
      "543516/543516 [==============================] - 61s 112us/sample - loss: 0.3897 - acc: 0.8263 - binary_crossentropy: 0.3897 - val_loss: 0.4170 - val_acc: 0.8126 - val_binary_crossentropy: 0.4170\n",
      "Epoch 184/200\n",
      "543516/543516 [==============================] - 61s 111us/sample - loss: 0.3891 - acc: 0.8264 - binary_crossentropy: 0.3891 - val_loss: 0.4213 - val_acc: 0.8100 - val_binary_crossentropy: 0.4213\n",
      "Epoch 185/200\n",
      "543516/543516 [==============================] - 61s 112us/sample - loss: 0.3898 - acc: 0.8263 - binary_crossentropy: 0.3898 - val_loss: 0.4192 - val_acc: 0.8117 - val_binary_crossentropy: 0.4192\n",
      "Epoch 186/200\n",
      "543516/543516 [==============================] - 61s 112us/sample - loss: 0.3895 - acc: 0.8263 - binary_crossentropy: 0.3895 - val_loss: 0.4277 - val_acc: 0.8065 - val_binary_crossentropy: 0.4277\n",
      "Epoch 187/200\n",
      "543516/543516 [==============================] - 60s 111us/sample - loss: 0.3892 - acc: 0.8267 - binary_crossentropy: 0.3892 - val_loss: 0.4182 - val_acc: 0.8134 - val_binary_crossentropy: 0.4182\n",
      "Epoch 188/200\n",
      "543516/543516 [==============================] - 60s 111us/sample - loss: 0.3890 - acc: 0.8262 - binary_crossentropy: 0.3890 - val_loss: 0.4221 - val_acc: 0.8120 - val_binary_crossentropy: 0.4221\n",
      "Epoch 189/200\n",
      "543516/543516 [==============================] - 61s 112us/sample - loss: 0.3900 - acc: 0.8263 - binary_crossentropy: 0.3900 - val_loss: 0.4274 - val_acc: 0.8106 - val_binary_crossentropy: 0.4274\n",
      "Epoch 190/200\n",
      "543516/543516 [==============================] - 61s 112us/sample - loss: 0.3894 - acc: 0.8264 - binary_crossentropy: 0.3894 - val_loss: 0.4136 - val_acc: 0.8130 - val_binary_crossentropy: 0.4136\n",
      "Epoch 191/200\n",
      "543516/543516 [==============================] - 61s 112us/sample - loss: 0.3894 - acc: 0.8264 - binary_crossentropy: 0.3894 - val_loss: 0.4247 - val_acc: 0.8086 - val_binary_crossentropy: 0.4247\n",
      "Epoch 192/200\n",
      "543516/543516 [==============================] - 61s 113us/sample - loss: 0.3896 - acc: 0.8260 - binary_crossentropy: 0.3896 - val_loss: 0.4210 - val_acc: 0.8118 - val_binary_crossentropy: 0.4210\n",
      "Epoch 193/200\n",
      "543516/543516 [==============================] - 60s 111us/sample - loss: 0.3891 - acc: 0.8272 - binary_crossentropy: 0.3891 - val_loss: 0.4142 - val_acc: 0.8134 - val_binary_crossentropy: 0.4142\n",
      "Epoch 194/200\n",
      "543516/543516 [==============================] - 61s 112us/sample - loss: 0.3894 - acc: 0.8268 - binary_crossentropy: 0.3895 - val_loss: 0.4223 - val_acc: 0.8113 - val_binary_crossentropy: 0.4223\n",
      "Epoch 195/200\n",
      "543516/543516 [==============================] - 61s 112us/sample - loss: 0.3888 - acc: 0.8269 - binary_crossentropy: 0.3888 - val_loss: 0.4212 - val_acc: 0.8101 - val_binary_crossentropy: 0.4212\n",
      "Epoch 196/200\n"
     ]
    },
    {
     "name": "stdout",
     "output_type": "stream",
     "text": [
      "543516/543516 [==============================] - 61s 111us/sample - loss: 0.3892 - acc: 0.8263 - binary_crossentropy: 0.3892 - val_loss: 0.4198 - val_acc: 0.8132 - val_binary_crossentropy: 0.4198\n",
      "Epoch 197/200\n",
      "543516/543516 [==============================] - 60s 111us/sample - loss: 0.3891 - acc: 0.8262 - binary_crossentropy: 0.3891 - val_loss: 0.4189 - val_acc: 0.8126 - val_binary_crossentropy: 0.4189\n",
      "Epoch 198/200\n",
      "543516/543516 [==============================] - 61s 111us/sample - loss: 0.3888 - acc: 0.8262 - binary_crossentropy: 0.3888 - val_loss: 0.4156 - val_acc: 0.8145 - val_binary_crossentropy: 0.4156\n",
      "Epoch 199/200\n",
      "543516/543516 [==============================] - 61s 112us/sample - loss: 0.3890 - acc: 0.8267 - binary_crossentropy: 0.3890 - val_loss: 0.4234 - val_acc: 0.8092 - val_binary_crossentropy: 0.4234\n",
      "Epoch 200/200\n",
      "543516/543516 [==============================] - 60s 111us/sample - loss: 0.3888 - acc: 0.8267 - binary_crossentropy: 0.3888 - val_loss: 0.4168 - val_acc: 0.8125 - val_binary_crossentropy: 0.4168\n"
     ]
    }
   ],
   "source": [
    "history = model_2_1D.fit(X_train, y_train, epochs=200, \n",
    "                    batch_size=100,\n",
    "                    validation_data=(X_val, y_val))"
   ]
  },
  {
   "cell_type": "code",
   "execution_count": 13,
   "metadata": {
    "ExecuteTime": {
     "end_time": "2021-11-11T14:36:05.792245Z",
     "start_time": "2021-11-11T14:36:05.550280Z"
    }
   },
   "outputs": [
    {
     "data": {
      "image/png": "[encoded data removed]",
      "text/plain": [
       "<Figure size 1152x144 with 2 Axes>"
      ]
     },
     "metadata": {
      "needs_background": "light"
     },
     "output_type": "display_data"
    }
   ],
   "source": [
    "plt.figure(figsize=(16,2))\n",
    "plt.subplot(1,2,1)\n",
    "plot_graphs(history, 'acc')\n",
    "plt.subplot(1,2,2)\n",
    "plot_graphs(history, 'loss')"
   ]
  },
  {
   "cell_type": "markdown",
   "metadata": {},
   "source": [
    "# 3. test"
   ]
  },
  {
   "cell_type": "code",
   "execution_count": 14,
   "metadata": {
    "ExecuteTime": {
     "end_time": "2021-11-11T14:36:32.597383Z",
     "start_time": "2021-11-11T14:36:05.793517Z"
    }
   },
   "outputs": [
    {
     "name": "stdout",
     "output_type": "stream",
     "text": [
      "133992/133992 [==============================] - 9s 70us/sample - loss: 0.4088 - acc: 0.8179 - binary_crossentropy: 0.4088\n",
      "Test Accuracy: [0.40883931583970745, 0.81794435, 0.40883905]\n",
      "              precision    recall  f1-score   support\n",
      "\n",
      "           0       0.85      0.78      0.81     66996\n",
      "           1       0.79      0.86      0.83     66996\n",
      "\n",
      "    accuracy                           0.82    133992\n",
      "   macro avg       0.82      0.82      0.82    133992\n",
      "weighted avg       0.82      0.82      0.82    133992\n",
      "\n",
      "rf auc : 0.897000624299981\n"
     ]
    },
    {
     "data": {
      "image/png": "[encoded data removed]",
      "text/plain": [
       "<Figure size 288x288 with 1 Axes>"
      ]
     },
     "metadata": {
      "needs_background": "light"
     },
     "output_type": "display_data"
    },
    {
     "data": {
      "image/png": "[encoded data removed]",
      "text/plain": [
       "<Figure size 216x216 with 2 Axes>"
      ]
     },
     "metadata": {
      "needs_background": "light"
     },
     "output_type": "display_data"
    },
    {
     "data": {
      "image/png": "[encoded data removed]",
      "text/plain": [
       "<Figure size 216x216 with 2 Axes>"
      ]
     },
     "metadata": {
      "needs_background": "light"
     },
     "output_type": "display_data"
    }
   ],
   "source": [
    "test_acc = model_2_1D.evaluate(X_test, y_test)\n",
    "print('Test Accuracy: {}'.format(test_acc))\n",
    "\n",
    "# prediction\n",
    "y_pred = [1 if i>=0.5 else 0 for i in model_2_1D.predict(X_test)]\n",
    "print(classification_report(y_test, y_pred))\n",
    "# AUC\n",
    "probs = model_2_1D.predict(X_test)\n",
    "rf_auc = roc_auc_score(y_test, probs)\n",
    "print('rf auc : {}'.format(rf_auc))\n",
    "# plot the roc curve for the model_2_1D\n",
    "rf_fpr, rf_tpr, _ = roc_curve(y_test, probs)\n",
    "plt.figure(figsize=(4, 4))\n",
    "plt.plot(rf_fpr, rf_tpr, marker='.', label='RF AUC = {:.4f}'.format(rf_auc), color='orange')\n",
    "plt.title('ROC curve')\n",
    "# axis labels\n",
    "plt.xlabel('False Positive Rate')\n",
    "plt.ylabel('True Positive Rate')\n",
    "# show the legend\n",
    "plt.legend()\n",
    "# show the plot\n",
    "plt.show()\n",
    "\n",
    "cf_matrix = confusion_matrix(y_test, y_pred)\n",
    "plt.figure(figsize=(3, 3))\n",
    "sns.heatmap(cf_matrix, annot=True, fmt=',.0f')\n",
    "plt.show()\n",
    "plt.figure(figsize=(3, 3))\n",
    "sns.heatmap(cf_matrix/np.sum(cf_matrix), annot=True, \n",
    "            fmt='.2%', cmap='Blues')\n",
    "plt.show()"
   ]
  },
  {
   "cell_type": "code",
   "execution_count": null,
   "metadata": {
    "ExecuteTime": {
     "end_time": "2021-11-11T18:01:22.564497Z",
     "start_time": "2021-11-11T18:01:21.693534Z"
    }
   },
   "outputs": [],
   "source": [
    "# Calling `save('my_model.h5')` creates a h5 file `my_model.h5`.\n",
    "model_2_1D.save(\"compareModel/2019Bioinformatics_DeepMSPeptide/2021KSBi_DeepMSpeptide.h5\")"
   ]
  },
  {
   "cell_type": "code",
   "execution_count": 10,
   "metadata": {
    "ExecuteTime": {
     "end_time": "2021-12-08T23:06:31.757979Z",
     "start_time": "2021-12-08T23:06:30.807443Z"
    }
   },
   "outputs": [
    {
     "name": "stdout",
     "output_type": "stream",
     "text": [
      "WARNING:tensorflow:From /home/bis/miniconda3/envs/TF1.14/lib/python3.6/site-packages/tensorflow/python/ops/math_grad.py:1250: add_dispatch_support.<locals>.wrapper (from tensorflow.python.ops.array_ops) is deprecated and will be removed in a future version.\n",
      "Instructions for updating:\n",
      "Use tf.where in 2.0, which has the same broadcast rule as np.where\n"
     ]
    }
   ],
   "source": [
    "# It can be used to reconstruct the model identically.\n",
    "model_2_1D_re = keras.models.load_model(\"compareModel/2019Bioinformatics_DeepMSPeptide/2021KSBi_DeepMSpeptide.h5\")"
   ]
  },
  {
   "cell_type": "code",
   "execution_count": 12,
   "metadata": {
    "ExecuteTime": {
     "end_time": "2021-12-08T23:07:25.817651Z",
     "start_time": "2021-12-08T23:06:57.657141Z"
    }
   },
   "outputs": [
    {
     "name": "stdout",
     "output_type": "stream",
     "text": [
      "133992/133992 [==============================] - 10s 73us/sample - loss: 0.4088 - acc: 0.8179 - binary_crossentropy: 0.4088\n",
      "Test Accuracy: [0.40883931583970745, 0.81794435, 0.40883905]\n",
      "              precision    recall  f1-score   support\n",
      "\n",
      "           0       0.85      0.78      0.81     66996\n",
      "           1       0.79      0.86      0.83     66996\n",
      "\n",
      "    accuracy                           0.82    133992\n",
      "   macro avg       0.82      0.82      0.82    133992\n",
      "weighted avg       0.82      0.82      0.82    133992\n",
      "\n",
      "rf auc : 0.897000624299981\n"
     ]
    },
    {
     "data": {
      "image/png": "[encoded data removed]",
      "text/plain": [
       "<Figure size 288x288 with 1 Axes>"
      ]
     },
     "metadata": {
      "needs_background": "light"
     },
     "output_type": "display_data"
    },
    {
     "data": {
      "image/png": "[encoded data removed]",
      "text/plain": [
       "<Figure size 216x216 with 2 Axes>"
      ]
     },
     "metadata": {
      "needs_background": "light"
     },
     "output_type": "display_data"
    },
    {
     "data": {
      "image/png": "[encoded data removed]",
      "text/plain": [
       "<Figure size 216x216 with 2 Axes>"
      ]
     },
     "metadata": {
      "needs_background": "light"
     },
     "output_type": "display_data"
    }
   ],
   "source": [
    "test_acc = model_2_1D_re.evaluate(X_test, y_test)\n",
    "print('Test Accuracy: {}'.format(test_acc))\n",
    "\n",
    "# prediction\n",
    "y_pred = [1 if i>=0.5 else 0 for i in model_2_1D_re.predict(X_test)]\n",
    "print(classification_report(y_test, y_pred))\n",
    "# AUC\n",
    "probs = model_2_1D_re.predict(X_test)\n",
    "rf_auc = roc_auc_score(y_test, probs)\n",
    "print('rf auc : {}'.format(rf_auc))\n",
    "# plot the roc curve for the model_2_1D_re\n",
    "rf_fpr, rf_tpr, _ = roc_curve(y_test, probs)\n",
    "plt.figure(figsize=(4, 4))\n",
    "plt.plot(rf_fpr, rf_tpr, marker='.', label='RF AUC = {:.4f}'.format(rf_auc), color='orange')\n",
    "plt.title('ROC curve')\n",
    "# axis labels\n",
    "plt.xlabel('False Positive Rate')\n",
    "plt.ylabel('True Positive Rate')\n",
    "# show the legend\n",
    "plt.legend()\n",
    "# show the plot\n",
    "plt.show()\n",
    "\n",
    "cf_matrix = confusion_matrix(y_test, y_pred)\n",
    "plt.figure(figsize=(3, 3))\n",
    "sns.heatmap(cf_matrix, annot=True, fmt=',.0f')\n",
    "plt.show()\n",
    "plt.figure(figsize=(3, 3))\n",
    "sns.heatmap(cf_matrix/np.sum(cf_matrix), annot=True, \n",
    "            fmt='.2%', cmap='Blues')\n",
    "plt.show()"
   ]
  },
  {
   "cell_type": "code",
   "execution_count": 14,
   "metadata": {
    "ExecuteTime": {
     "end_time": "2021-12-09T01:24:24.919143Z",
     "start_time": "2021-12-09T01:24:24.915051Z"
    }
   },
   "outputs": [],
   "source": [
    "np.save('compareModel/2019Bioinformatics_DeepMSPeptide/fpr.npy', rf_fpr)\n",
    "np.save('compareModel/2019Bioinformatics_DeepMSPeptide/tpr.npy', rf_tpr)"
   ]
  },
  {
   "cell_type": "markdown",
   "metadata": {},
   "source": [
    "# TPR 99% DB size"
   ]
  },
  {
   "cell_type": "code",
   "execution_count": null,
   "metadata": {},
   "outputs": [],
   "source": []
  },
  {
   "cell_type": "markdown",
   "metadata": {},
   "source": [
    "# others"
   ]
  },
  {
   "cell_type": "code",
   "execution_count": 18,
   "metadata": {
    "ExecuteTime": {
     "end_time": "2021-10-25T04:54:02.197533Z",
     "start_time": "2021-10-25T04:54:02.177702Z"
    }
   },
   "outputs": [],
   "source": [
    "peps = pd.read_csv('Archive_noPTM/211018MS2real_problem_possibility.csv')"
   ]
  },
  {
   "cell_type": "code",
   "execution_count": 19,
   "metadata": {
    "ExecuteTime": {
     "end_time": "2021-10-25T04:54:21.508339Z",
     "start_time": "2021-10-25T04:54:20.515887Z"
    }
   },
   "outputs": [
    {
     "name": "stdout",
     "output_type": "stream",
     "text": [
      "4482/4482 [==============================] - 1s 112us/sample - loss: 0.2645 - acc: 0.8773 - binary_crossentropy: 0.2645\n"
     ]
    }
   ],
   "source": [
    "predict_label = peps.ID.values\n",
    "Xs = peps.PEP.values\n",
    "\n",
    "max_len=81\n",
    "aa_dict={'A':1,'R':2,'N':3,'D':4,'C':5,'Q':6,'E':7,'G':8,'H':9,'I':10,'L':11,'K':12,'M':13,'F':14,\n",
    "    'P':15,'O':16,'S':17,'U':18,'T':19,'W':20,'Y':21,'V':22}\n",
    "pep_codes=[]\n",
    "newLines = []\n",
    "for pep in Xs:\n",
    "    if not len(pep) > max_len:\n",
    "        current_pep=[]\n",
    "        for aa in pep:\n",
    "            current_pep.append(aa_dict[aa])\n",
    "        pep_codes.append(current_pep)\n",
    "        newLines.extend([pep])\n",
    "predict_data = keras.preprocessing.sequence.pad_sequences(pep_codes, value=0, padding='post', maxlen=max_len)\n",
    "\n",
    "test_acc = model_2_1D.evaluate(predict_data, predict_label)\n",
    "y_prob = model_2_1D.predict(predict_data)"
   ]
  },
  {
   "cell_type": "code",
   "execution_count": 24,
   "metadata": {
    "ExecuteTime": {
     "end_time": "2021-10-25T04:55:33.011573Z",
     "start_time": "2021-10-25T04:55:32.564739Z"
    }
   },
   "outputs": [
    {
     "name": "stdout",
     "output_type": "stream",
     "text": [
      "Test Accuracy: [0.26453991788524645, 0.8772869, 0.26453996]\n",
      "              precision    recall  f1-score   support\n",
      "\n",
      "           0       1.00      0.88      0.93      4482\n",
      "           1       0.00      0.00      0.00         0\n",
      "\n",
      "    accuracy                           0.88      4482\n",
      "   macro avg       0.50      0.44      0.47      4482\n",
      "weighted avg       1.00      0.88      0.93      4482\n",
      "\n"
     ]
    },
    {
     "name": "stderr",
     "output_type": "stream",
     "text": [
      "/home/bis/miniconda3/envs/TF1.14/lib/python3.6/site-packages/sklearn/metrics/_classification.py:1248: UndefinedMetricWarning: Recall and F-score are ill-defined and being set to 0.0 in labels with no true samples. Use `zero_division` parameter to control this behavior.\n",
      "  _warn_prf(average, modifier, msg_start, len(result))\n",
      "/home/bis/miniconda3/envs/TF1.14/lib/python3.6/site-packages/sklearn/metrics/_classification.py:1248: UndefinedMetricWarning: Recall and F-score are ill-defined and being set to 0.0 in labels with no true samples. Use `zero_division` parameter to control this behavior.\n",
      "  _warn_prf(average, modifier, msg_start, len(result))\n",
      "/home/bis/miniconda3/envs/TF1.14/lib/python3.6/site-packages/sklearn/metrics/_classification.py:1248: UndefinedMetricWarning: Recall and F-score are ill-defined and being set to 0.0 in labels with no true samples. Use `zero_division` parameter to control this behavior.\n",
      "  _warn_prf(average, modifier, msg_start, len(result))\n"
     ]
    },
    {
     "data": {
      "image/png": "[encoded data removed]",
      "text/plain": [
       "<Figure size 504x144 with 1 Axes>"
      ]
     },
     "metadata": {
      "needs_background": "light"
     },
     "output_type": "display_data"
    }
   ],
   "source": [
    "print('Test Accuracy: {}'.format(test_acc))\n",
    "\n",
    "# prediction\n",
    "y_pred = [1 if i>=0.5 else 0 for i in model_2_1D.predict(predict_data)]\n",
    "print(classification_report(predict_label, y_pred))\n",
    "\n",
    "plt.figure(figsize=(7,2))\n",
    "sns.violinplot(y_prob.reshape(-1))\n",
    "plt.title('zero MSGF score noptm_peptides\\' detectability')\n",
    "plt.xlabel('0MSGF peptides\\'')\n",
    "plt.show()"
   ]
  },
  {
   "cell_type": "markdown",
   "metadata": {},
   "source": [
    "# check bias"
   ]
  },
  {
   "cell_type": "code",
   "execution_count": 27,
   "metadata": {
    "ExecuteTime": {
     "end_time": "2021-10-25T05:10:47.094912Z",
     "start_time": "2021-10-25T05:10:46.212351Z"
    }
   },
   "outputs": [
    {
     "name": "stdout",
     "output_type": "stream",
     "text": [
      "Loading model...\n",
      "WARNING:tensorflow:Error in loading the saved optimizer state. As a result, your model is starting with a freshly initialized optimizer.\n",
      "Model: \"sequential_1\"\n",
      "_________________________________________________________________\n",
      "Layer (type)                 Output Shape              Param #   \n",
      "=================================================================\n",
      "embedding_1 (Embedding)      (None, 81, 50)            1150      \n",
      "_________________________________________________________________\n",
      "dropout_2 (Dropout)          (None, 81, 50)            0         \n",
      "_________________________________________________________________\n",
      "conv1d_1 (Conv1D)            (None, 81, 128)           19328     \n",
      "_________________________________________________________________\n",
      "conv1d_2 (Conv1D)            (None, 80, 64)            16448     \n",
      "_________________________________________________________________\n",
      "global_max_pooling1d_1 (Glob (None, 64)                0         \n",
      "_________________________________________________________________\n",
      "dense_2 (Dense)              (None, 64)                4160      \n",
      "_________________________________________________________________\n",
      "dropout_3 (Dropout)          (None, 64)                0         \n",
      "_________________________________________________________________\n",
      "activation_2 (Activation)    (None, 64)                0         \n",
      "_________________________________________________________________\n",
      "dense_3 (Dense)              (None, 1)                 65        \n",
      "_________________________________________________________________\n",
      "activation_3 (Activation)    (None, 1)                 0         \n",
      "=================================================================\n",
      "Total params: 41,151\n",
      "Trainable params: 41,151\n",
      "Non-trainable params: 0\n",
      "_________________________________________________________________\n",
      "None\n"
     ]
    }
   ],
   "source": [
    "file_path = 'compareModel/2019Bioinformatics_DeepMSPeptide/DeepMSPeptide/'\n",
    "args = file_path + 'inputExample.txt'\n",
    "\n",
    "print('Loading model...')\n",
    "model_2_1D2 = keras.models.load_model(file_path + 'model_2_1D.h5')\n",
    "print(model_2_1D2.summary())\n",
    "\n",
    "model_2_1D2.get_layer(index=0).set_weights(\n",
    "    [tf.keras.initializers.glorot_uniform(seed=7)(shape=(23,50)).numpy()])\n",
    "model_2_1D2.get_layer(index=1).set_weights([])\n",
    "model_2_1D2.get_layer(index=2).set_weights(\n",
    "    [tf.keras.initializers.glorot_uniform(seed=7)(shape=(3,50,128)).numpy(),\n",
    "     np.zeros(128,)])\n",
    "model_2_1D2.get_layer(index=3).set_weights(\n",
    "    [tf.keras.initializers.glorot_uniform(seed=7)(shape=(2,128,64)).numpy(),\n",
    "    np.zeros(64,)])\n",
    "model_2_1D2.get_layer(index=4).set_weights([])\n",
    "model_2_1D2.get_layer(index=5).set_weights(\n",
    "    [tf.keras.initializers.glorot_uniform(seed=7)(shape=(64,64)).numpy(),\n",
    "    np.zeros(64,)])\n",
    "model_2_1D2.get_layer(index=6).set_weights([])\n",
    "model_2_1D2.get_layer(index=7).set_weights([])\n",
    "model_2_1D2.get_layer(index=8).set_weights(\n",
    "    [tf.keras.initializers.glorot_uniform(seed=7)(shape=(64,1)).numpy(),\n",
    "    np.zeros(1,)])\n",
    "model_2_1D2.get_layer(index=9).set_weights([])"
   ]
  },
  {
   "cell_type": "code",
   "execution_count": 28,
   "metadata": {
    "ExecuteTime": {
     "end_time": "2021-10-25T09:48:23.237533Z",
     "start_time": "2021-10-25T05:10:50.421908Z"
    }
   },
   "outputs": [
    {
     "name": "stdout",
     "output_type": "stream",
     "text": [
      "Train on 543516 samples, validate on 135880 samples\n",
      "Epoch 1/200\n",
      "543516/543516 [==============================] - 85s 156us/sample - loss: 0.4764 - acc: 0.7779 - binary_crossentropy: 0.4764 - val_loss: 0.4483 - val_acc: 0.7941 - val_binary_crossentropy: 0.4483\n",
      "Epoch 2/200\n",
      "543516/543516 [==============================] - 86s 158us/sample - loss: 0.4422 - acc: 0.7987 - binary_crossentropy: 0.4422 - val_loss: 0.4341 - val_acc: 0.8024 - val_binary_crossentropy: 0.4341\n",
      "Epoch 3/200\n",
      "543516/543516 [==============================] - 86s 159us/sample - loss: 0.4339 - acc: 0.8023 - binary_crossentropy: 0.4339 - val_loss: 0.4334 - val_acc: 0.8029 - val_binary_crossentropy: 0.4334\n",
      "Epoch 4/200\n",
      "543516/543516 [==============================] - 86s 159us/sample - loss: 0.4294 - acc: 0.8057 - binary_crossentropy: 0.4294 - val_loss: 0.4288 - val_acc: 0.8056 - val_binary_crossentropy: 0.4288\n",
      "Epoch 5/200\n",
      "543516/543516 [==============================] - 84s 155us/sample - loss: 0.4263 - acc: 0.8077 - binary_crossentropy: 0.4263 - val_loss: 0.4335 - val_acc: 0.8035 - val_binary_crossentropy: 0.4335\n",
      "Epoch 6/200\n",
      "543516/543516 [==============================] - 87s 160us/sample - loss: 0.4239 - acc: 0.8087 - binary_crossentropy: 0.4239 - val_loss: 0.4341 - val_acc: 0.8031 - val_binary_crossentropy: 0.4341\n",
      "Epoch 7/200\n",
      "543516/543516 [==============================] - 86s 158us/sample - loss: 0.4217 - acc: 0.8096 - binary_crossentropy: 0.4217 - val_loss: 0.4234 - val_acc: 0.8076 - val_binary_crossentropy: 0.4234\n",
      "Epoch 8/200\n",
      "543516/543516 [==============================] - 86s 157us/sample - loss: 0.4204 - acc: 0.8105 - binary_crossentropy: 0.4204 - val_loss: 0.4172 - val_acc: 0.8109 - val_binary_crossentropy: 0.4172\n",
      "Epoch 9/200\n",
      "543516/543516 [==============================] - 88s 163us/sample - loss: 0.4187 - acc: 0.8115 - binary_crossentropy: 0.4187 - val_loss: 0.4467 - val_acc: 0.7959 - val_binary_crossentropy: 0.4467\n",
      "Epoch 10/200\n",
      "543516/543516 [==============================] - 86s 159us/sample - loss: 0.4172 - acc: 0.8125 - binary_crossentropy: 0.4172 - val_loss: 0.4202 - val_acc: 0.8105 - val_binary_crossentropy: 0.4202\n",
      "Epoch 11/200\n",
      "543516/543516 [==============================] - 83s 153us/sample - loss: 0.4163 - acc: 0.8128 - binary_crossentropy: 0.4163 - val_loss: 0.4267 - val_acc: 0.8071 - val_binary_crossentropy: 0.4267\n",
      "Epoch 12/200\n",
      "543516/543516 [==============================] - 87s 160us/sample - loss: 0.4149 - acc: 0.8131 - binary_crossentropy: 0.4149 - val_loss: 0.4213 - val_acc: 0.8094 - val_binary_crossentropy: 0.4213\n",
      "Epoch 13/200\n",
      "543516/543516 [==============================] - 88s 161us/sample - loss: 0.4137 - acc: 0.8140 - binary_crossentropy: 0.4137 - val_loss: 0.4164 - val_acc: 0.8123 - val_binary_crossentropy: 0.4164\n",
      "Epoch 14/200\n",
      "543516/543516 [==============================] - 88s 161us/sample - loss: 0.4128 - acc: 0.8145 - binary_crossentropy: 0.4128 - val_loss: 0.4149 - val_acc: 0.8130 - val_binary_crossentropy: 0.4149\n",
      "Epoch 15/200\n",
      "543516/543516 [==============================] - 85s 156us/sample - loss: 0.4122 - acc: 0.8150 - binary_crossentropy: 0.4122 - val_loss: 0.4200 - val_acc: 0.8098 - val_binary_crossentropy: 0.4200\n",
      "Epoch 16/200\n",
      "543516/543516 [==============================] - 86s 158us/sample - loss: 0.4111 - acc: 0.8150 - binary_crossentropy: 0.4111 - val_loss: 0.4230 - val_acc: 0.8088 - val_binary_crossentropy: 0.4230\n",
      "Epoch 17/200\n",
      "543516/543516 [==============================] - 87s 160us/sample - loss: 0.4105 - acc: 0.8157 - binary_crossentropy: 0.4105 - val_loss: 0.4216 - val_acc: 0.8093 - val_binary_crossentropy: 0.4216\n",
      "Epoch 18/200\n",
      "543516/543516 [==============================] - 83s 152us/sample - loss: 0.4100 - acc: 0.8161 - binary_crossentropy: 0.4100 - val_loss: 0.4210 - val_acc: 0.8099 - val_binary_crossentropy: 0.4210\n",
      "Epoch 19/200\n",
      "543516/543516 [==============================] - 86s 158us/sample - loss: 0.4099 - acc: 0.8160 - binary_crossentropy: 0.4099 - val_loss: 0.4197 - val_acc: 0.8106 - val_binary_crossentropy: 0.4197\n",
      "Epoch 20/200\n",
      "543516/543516 [==============================] - 86s 159us/sample - loss: 0.4088 - acc: 0.8168 - binary_crossentropy: 0.4088 - val_loss: 0.4297 - val_acc: 0.8067 - val_binary_crossentropy: 0.4297\n",
      "Epoch 21/200\n",
      "543516/543516 [==============================] - 85s 156us/sample - loss: 0.4083 - acc: 0.8170 - binary_crossentropy: 0.4083 - val_loss: 0.4223 - val_acc: 0.8104 - val_binary_crossentropy: 0.4223\n",
      "Epoch 22/200\n",
      "543516/543516 [==============================] - 86s 159us/sample - loss: 0.4076 - acc: 0.8171 - binary_crossentropy: 0.4076 - val_loss: 0.4221 - val_acc: 0.8092 - val_binary_crossentropy: 0.4221\n",
      "Epoch 23/200\n",
      "543516/543516 [==============================] - 86s 158us/sample - loss: 0.4074 - acc: 0.8177 - binary_crossentropy: 0.4074 - val_loss: 0.4145 - val_acc: 0.8129 - val_binary_crossentropy: 0.4145\n",
      "Epoch 24/200\n",
      "543516/543516 [==============================] - 86s 158us/sample - loss: 0.4067 - acc: 0.8179 - binary_crossentropy: 0.4067 - val_loss: 0.4240 - val_acc: 0.8077 - val_binary_crossentropy: 0.4240\n",
      "Epoch 25/200\n",
      "543516/543516 [==============================] - 85s 156us/sample - loss: 0.4066 - acc: 0.8179 - binary_crossentropy: 0.4066 - val_loss: 0.4138 - val_acc: 0.8133 - val_binary_crossentropy: 0.4138\n",
      "Epoch 26/200\n",
      "543516/543516 [==============================] - 86s 157us/sample - loss: 0.4055 - acc: 0.8181 - binary_crossentropy: 0.4055 - val_loss: 0.4188 - val_acc: 0.8116 - val_binary_crossentropy: 0.4188\n",
      "Epoch 27/200\n",
      "543516/543516 [==============================] - 85s 157us/sample - loss: 0.4054 - acc: 0.8185 - binary_crossentropy: 0.4054 - val_loss: 0.4349 - val_acc: 0.8017 - val_binary_crossentropy: 0.4349\n",
      "Epoch 28/200\n",
      "543516/543516 [==============================] - 84s 154us/sample - loss: 0.4052 - acc: 0.8190 - binary_crossentropy: 0.4052 - val_loss: 0.4313 - val_acc: 0.8054 - val_binary_crossentropy: 0.4313\n",
      "Epoch 29/200\n",
      "543516/543516 [==============================] - 86s 158us/sample - loss: 0.4052 - acc: 0.8188 - binary_crossentropy: 0.4052 - val_loss: 0.4221 - val_acc: 0.8100 - val_binary_crossentropy: 0.4221\n",
      "Epoch 30/200\n",
      "543516/543516 [==============================] - 85s 157us/sample - loss: 0.4046 - acc: 0.8190 - binary_crossentropy: 0.4046 - val_loss: 0.4134 - val_acc: 0.8131 - val_binary_crossentropy: 0.4134\n",
      "Epoch 31/200\n",
      "543516/543516 [==============================] - 82s 151us/sample - loss: 0.4039 - acc: 0.8189 - binary_crossentropy: 0.4039 - val_loss: 0.4140 - val_acc: 0.8119 - val_binary_crossentropy: 0.4140\n",
      "Epoch 32/200\n",
      "543516/543516 [==============================] - 86s 157us/sample - loss: 0.4038 - acc: 0.8195 - binary_crossentropy: 0.4038 - val_loss: 0.4194 - val_acc: 0.8109 - val_binary_crossentropy: 0.4194\n",
      "Epoch 33/200\n",
      "543516/543516 [==============================] - 85s 157us/sample - loss: 0.4035 - acc: 0.8197 - binary_crossentropy: 0.4035 - val_loss: 0.4187 - val_acc: 0.8111 - val_binary_crossentropy: 0.4187\n",
      "Epoch 34/200\n",
      "543516/543516 [==============================] - 85s 156us/sample - loss: 0.4033 - acc: 0.8199 - binary_crossentropy: 0.4033 - val_loss: 0.4226 - val_acc: 0.8099 - val_binary_crossentropy: 0.4226\n",
      "Epoch 35/200\n",
      "543516/543516 [==============================] - 85s 156us/sample - loss: 0.4029 - acc: 0.8201 - binary_crossentropy: 0.4029 - val_loss: 0.4158 - val_acc: 0.8119 - val_binary_crossentropy: 0.4158\n",
      "Epoch 36/200\n",
      "543516/543516 [==============================] - 87s 159us/sample - loss: 0.4029 - acc: 0.8196 - binary_crossentropy: 0.4029 - val_loss: 0.4184 - val_acc: 0.8109 - val_binary_crossentropy: 0.4184\n",
      "Epoch 37/200\n",
      "543516/543516 [==============================] - 86s 158us/sample - loss: 0.4022 - acc: 0.8202 - binary_crossentropy: 0.4022 - val_loss: 0.4162 - val_acc: 0.8122 - val_binary_crossentropy: 0.4162\n",
      "Epoch 38/200\n",
      "543516/543516 [==============================] - 83s 152us/sample - loss: 0.4019 - acc: 0.8204 - binary_crossentropy: 0.4019 - val_loss: 0.4174 - val_acc: 0.8115 - val_binary_crossentropy: 0.4174\n",
      "Epoch 39/200\n",
      "543516/543516 [==============================] - 86s 159us/sample - loss: 0.4013 - acc: 0.8206 - binary_crossentropy: 0.4013 - val_loss: 0.4144 - val_acc: 0.8132 - val_binary_crossentropy: 0.4144\n"
     ]
    },
    {
     "name": "stdout",
     "output_type": "stream",
     "text": [
      "Epoch 40/200\n",
      "543516/543516 [==============================] - 87s 159us/sample - loss: 0.4013 - acc: 0.8206 - binary_crossentropy: 0.4013 - val_loss: 0.4168 - val_acc: 0.8123 - val_binary_crossentropy: 0.4168\n",
      "Epoch 41/200\n",
      "543516/543516 [==============================] - 84s 155us/sample - loss: 0.4006 - acc: 0.8213 - binary_crossentropy: 0.4006 - val_loss: 0.4269 - val_acc: 0.8078 - val_binary_crossentropy: 0.4269\n",
      "Epoch 42/200\n",
      "543516/543516 [==============================] - 86s 158us/sample - loss: 0.4003 - acc: 0.8215 - binary_crossentropy: 0.4003 - val_loss: 0.4154 - val_acc: 0.8132 - val_binary_crossentropy: 0.4154\n",
      "Epoch 43/200\n",
      "543516/543516 [==============================] - 86s 157us/sample - loss: 0.4003 - acc: 0.8208 - binary_crossentropy: 0.4003 - val_loss: 0.4137 - val_acc: 0.8144 - val_binary_crossentropy: 0.4137\n",
      "Epoch 44/200\n",
      "543516/543516 [==============================] - 84s 154us/sample - loss: 0.4001 - acc: 0.8211 - binary_crossentropy: 0.4001 - val_loss: 0.4167 - val_acc: 0.8142 - val_binary_crossentropy: 0.4167\n",
      "Epoch 45/200\n",
      "543516/543516 [==============================] - 86s 158us/sample - loss: 0.4001 - acc: 0.8215 - binary_crossentropy: 0.4001 - val_loss: 0.4132 - val_acc: 0.8140 - val_binary_crossentropy: 0.4132\n",
      "Epoch 46/200\n",
      "543516/543516 [==============================] - 86s 158us/sample - loss: 0.3997 - acc: 0.8215 - binary_crossentropy: 0.3997 - val_loss: 0.4187 - val_acc: 0.8112 - val_binary_crossentropy: 0.4187\n",
      "Epoch 47/200\n",
      "543516/543516 [==============================] - 86s 158us/sample - loss: 0.3999 - acc: 0.8212 - binary_crossentropy: 0.3999 - val_loss: 0.4313 - val_acc: 0.8064 - val_binary_crossentropy: 0.4313\n",
      "Epoch 48/200\n",
      "543516/543516 [==============================] - 84s 154us/sample - loss: 0.3998 - acc: 0.8213 - binary_crossentropy: 0.3998 - val_loss: 0.4120 - val_acc: 0.8135 - val_binary_crossentropy: 0.4120\n",
      "Epoch 49/200\n",
      "543516/543516 [==============================] - 87s 159us/sample - loss: 0.3988 - acc: 0.8217 - binary_crossentropy: 0.3988 - val_loss: 0.4142 - val_acc: 0.8122 - val_binary_crossentropy: 0.4142\n",
      "Epoch 50/200\n",
      "543516/543516 [==============================] - 86s 158us/sample - loss: 0.3989 - acc: 0.8218 - binary_crossentropy: 0.3989 - val_loss: 0.4234 - val_acc: 0.8117 - val_binary_crossentropy: 0.4234\n",
      "Epoch 51/200\n",
      "543516/543516 [==============================] - 83s 153us/sample - loss: 0.3986 - acc: 0.8222 - binary_crossentropy: 0.3986 - val_loss: 0.4300 - val_acc: 0.8087 - val_binary_crossentropy: 0.4300\n",
      "Epoch 52/200\n",
      "543516/543516 [==============================] - 86s 159us/sample - loss: 0.3983 - acc: 0.8217 - binary_crossentropy: 0.3983 - val_loss: 0.4161 - val_acc: 0.8144 - val_binary_crossentropy: 0.4161\n",
      "Epoch 53/200\n",
      "543516/543516 [==============================] - 87s 159us/sample - loss: 0.3979 - acc: 0.8226 - binary_crossentropy: 0.3979 - val_loss: 0.4161 - val_acc: 0.8141 - val_binary_crossentropy: 0.4161\n",
      "Epoch 54/200\n",
      "543516/543516 [==============================] - 83s 153us/sample - loss: 0.3981 - acc: 0.8221 - binary_crossentropy: 0.3981 - val_loss: 0.4180 - val_acc: 0.8121 - val_binary_crossentropy: 0.4180\n",
      "Epoch 55/200\n",
      "543516/543516 [==============================] - 86s 158us/sample - loss: 0.3978 - acc: 0.8220 - binary_crossentropy: 0.3978 - val_loss: 0.4151 - val_acc: 0.8123 - val_binary_crossentropy: 0.4151\n",
      "Epoch 56/200\n",
      "543516/543516 [==============================] - 87s 160us/sample - loss: 0.3975 - acc: 0.8226 - binary_crossentropy: 0.3975 - val_loss: 0.4176 - val_acc: 0.8118 - val_binary_crossentropy: 0.4176\n",
      "Epoch 57/200\n",
      "543516/543516 [==============================] - 85s 157us/sample - loss: 0.3972 - acc: 0.8224 - binary_crossentropy: 0.3972 - val_loss: 0.4188 - val_acc: 0.8124 - val_binary_crossentropy: 0.4188\n",
      "Epoch 58/200\n",
      "543516/543516 [==============================] - 84s 155us/sample - loss: 0.3972 - acc: 0.8228 - binary_crossentropy: 0.3972 - val_loss: 0.4121 - val_acc: 0.8150 - val_binary_crossentropy: 0.4121\n",
      "Epoch 59/200\n",
      "543516/543516 [==============================] - 85s 157us/sample - loss: 0.3969 - acc: 0.8228 - binary_crossentropy: 0.3969 - val_loss: 0.4148 - val_acc: 0.8127 - val_binary_crossentropy: 0.4148\n",
      "Epoch 60/200\n",
      "543516/543516 [==============================] - 86s 159us/sample - loss: 0.3969 - acc: 0.8224 - binary_crossentropy: 0.3969 - val_loss: 0.4187 - val_acc: 0.8133 - val_binary_crossentropy: 0.4187\n",
      "Epoch 61/200\n",
      "543516/543516 [==============================] - 83s 153us/sample - loss: 0.3969 - acc: 0.8229 - binary_crossentropy: 0.3969 - val_loss: 0.4115 - val_acc: 0.8146 - val_binary_crossentropy: 0.4115\n",
      "Epoch 62/200\n",
      "543516/543516 [==============================] - 86s 158us/sample - loss: 0.3964 - acc: 0.8231 - binary_crossentropy: 0.3964 - val_loss: 0.4154 - val_acc: 0.8128 - val_binary_crossentropy: 0.4154\n",
      "Epoch 63/200\n",
      "543516/543516 [==============================] - 87s 159us/sample - loss: 0.3964 - acc: 0.8229 - binary_crossentropy: 0.3964 - val_loss: 0.4159 - val_acc: 0.8139 - val_binary_crossentropy: 0.4159\n",
      "Epoch 64/200\n",
      "543516/543516 [==============================] - 83s 152us/sample - loss: 0.3958 - acc: 0.8239 - binary_crossentropy: 0.3958 - val_loss: 0.4145 - val_acc: 0.8144 - val_binary_crossentropy: 0.4145\n",
      "Epoch 65/200\n",
      "543516/543516 [==============================] - 87s 159us/sample - loss: 0.3966 - acc: 0.8226 - binary_crossentropy: 0.3966 - val_loss: 0.4136 - val_acc: 0.8127 - val_binary_crossentropy: 0.4136\n",
      "Epoch 66/200\n",
      "543516/543516 [==============================] - 86s 159us/sample - loss: 0.3961 - acc: 0.8231 - binary_crossentropy: 0.3961 - val_loss: 0.4237 - val_acc: 0.8102 - val_binary_crossentropy: 0.4237\n",
      "Epoch 67/200\n",
      "543516/543516 [==============================] - 85s 157us/sample - loss: 0.3960 - acc: 0.8232 - binary_crossentropy: 0.3960 - val_loss: 0.4141 - val_acc: 0.8139 - val_binary_crossentropy: 0.4141\n",
      "Epoch 68/200\n",
      "543516/543516 [==============================] - 86s 157us/sample - loss: 0.3956 - acc: 0.8234 - binary_crossentropy: 0.3956 - val_loss: 0.4153 - val_acc: 0.8135 - val_binary_crossentropy: 0.4153\n",
      "Epoch 69/200\n",
      "543516/543516 [==============================] - 86s 158us/sample - loss: 0.3953 - acc: 0.8235 - binary_crossentropy: 0.3953 - val_loss: 0.4132 - val_acc: 0.8134 - val_binary_crossentropy: 0.4132\n",
      "Epoch 70/200\n",
      "543516/543516 [==============================] - 86s 158us/sample - loss: 0.3958 - acc: 0.8229 - binary_crossentropy: 0.3958 - val_loss: 0.4173 - val_acc: 0.8113 - val_binary_crossentropy: 0.4173\n",
      "Epoch 71/200\n",
      "543516/543516 [==============================] - 84s 154us/sample - loss: 0.3952 - acc: 0.8234 - binary_crossentropy: 0.3952 - val_loss: 0.4160 - val_acc: 0.8135 - val_binary_crossentropy: 0.4160\n",
      "Epoch 72/200\n",
      "543516/543516 [==============================] - 87s 160us/sample - loss: 0.3950 - acc: 0.8236 - binary_crossentropy: 0.3950 - val_loss: 0.4201 - val_acc: 0.8127 - val_binary_crossentropy: 0.4201\n",
      "Epoch 73/200\n",
      "543516/543516 [==============================] - 86s 159us/sample - loss: 0.3952 - acc: 0.8237 - binary_crossentropy: 0.3952 - val_loss: 0.4113 - val_acc: 0.8153 - val_binary_crossentropy: 0.4113\n",
      "Epoch 74/200\n",
      "543516/543516 [==============================] - 80s 147us/sample - loss: 0.3950 - acc: 0.8235 - binary_crossentropy: 0.3950 - val_loss: 0.4106 - val_acc: 0.8142 - val_binary_crossentropy: 0.4106\n",
      "Epoch 75/200\n",
      "543516/543516 [==============================] - 74s 137us/sample - loss: 0.3947 - acc: 0.8239 - binary_crossentropy: 0.3947 - val_loss: 0.4125 - val_acc: 0.8144 - val_binary_crossentropy: 0.4125\n",
      "Epoch 76/200\n",
      "543516/543516 [==============================] - 73s 135us/sample - loss: 0.3949 - acc: 0.8238 - binary_crossentropy: 0.3949 - val_loss: 0.4146 - val_acc: 0.8126 - val_binary_crossentropy: 0.4146\n",
      "Epoch 77/200\n",
      "543516/543516 [==============================] - 69s 128us/sample - loss: 0.3939 - acc: 0.8245 - binary_crossentropy: 0.3939 - val_loss: 0.4125 - val_acc: 0.8157 - val_binary_crossentropy: 0.4125\n",
      "Epoch 78/200\n",
      "543516/543516 [==============================] - 73s 134us/sample - loss: 0.3949 - acc: 0.8240 - binary_crossentropy: 0.3949 - val_loss: 0.4206 - val_acc: 0.8114 - val_binary_crossentropy: 0.4206\n",
      "Epoch 79/200\n",
      "543516/543516 [==============================] - 73s 134us/sample - loss: 0.3941 - acc: 0.8243 - binary_crossentropy: 0.3941 - val_loss: 0.4190 - val_acc: 0.8119 - val_binary_crossentropy: 0.4190\n",
      "Epoch 80/200\n",
      "543516/543516 [==============================] - 74s 135us/sample - loss: 0.3943 - acc: 0.8243 - binary_crossentropy: 0.3943 - val_loss: 0.4153 - val_acc: 0.8129 - val_binary_crossentropy: 0.4153\n",
      "Epoch 81/200\n",
      "543516/543516 [==============================] - 73s 134us/sample - loss: 0.3940 - acc: 0.8243 - binary_crossentropy: 0.3940 - val_loss: 0.4163 - val_acc: 0.8120 - val_binary_crossentropy: 0.4163\n",
      "Epoch 82/200\n",
      "543516/543516 [==============================] - 62s 114us/sample - loss: 0.3938 - acc: 0.8242 - binary_crossentropy: 0.3938 - val_loss: 0.4143 - val_acc: 0.8130 - val_binary_crossentropy: 0.4143\n",
      "Epoch 83/200\n",
      "543516/543516 [==============================] - 62s 114us/sample - loss: 0.3941 - acc: 0.8242 - binary_crossentropy: 0.3941 - val_loss: 0.4232 - val_acc: 0.8109 - val_binary_crossentropy: 0.4232\n",
      "Epoch 84/200\n",
      "543516/543516 [==============================] - 62s 113us/sample - loss: 0.3936 - acc: 0.8244 - binary_crossentropy: 0.3936 - val_loss: 0.4133 - val_acc: 0.8154 - val_binary_crossentropy: 0.4133\n",
      "Epoch 85/200\n",
      "543516/543516 [==============================] - 62s 115us/sample - loss: 0.3937 - acc: 0.8244 - binary_crossentropy: 0.3937 - val_loss: 0.4158 - val_acc: 0.8145 - val_binary_crossentropy: 0.4158\n",
      "Epoch 86/200\n",
      "543516/543516 [==============================] - 61s 113us/sample - loss: 0.3934 - acc: 0.8241 - binary_crossentropy: 0.3934 - val_loss: 0.4175 - val_acc: 0.8125 - val_binary_crossentropy: 0.4175\n",
      "Epoch 87/200\n",
      "543516/543516 [==============================] - 62s 115us/sample - loss: 0.3934 - acc: 0.8242 - binary_crossentropy: 0.3934 - val_loss: 0.4213 - val_acc: 0.8123 - val_binary_crossentropy: 0.4213\n",
      "Epoch 88/200\n",
      "543516/543516 [==============================] - 61s 113us/sample - loss: 0.3938 - acc: 0.8243 - binary_crossentropy: 0.3938 - val_loss: 0.4202 - val_acc: 0.8103 - val_binary_crossentropy: 0.4202\n",
      "Epoch 89/200\n",
      "543516/543516 [==============================] - 62s 114us/sample - loss: 0.3930 - acc: 0.8250 - binary_crossentropy: 0.3930 - val_loss: 0.4168 - val_acc: 0.8117 - val_binary_crossentropy: 0.4168\n",
      "Epoch 90/200\n",
      "543516/543516 [==============================] - 61s 113us/sample - loss: 0.3929 - acc: 0.8247 - binary_crossentropy: 0.3929 - val_loss: 0.4151 - val_acc: 0.8130 - val_binary_crossentropy: 0.4151\n",
      "Epoch 91/200\n",
      "543516/543516 [==============================] - 62s 114us/sample - loss: 0.3931 - acc: 0.8247 - binary_crossentropy: 0.3931 - val_loss: 0.4158 - val_acc: 0.8141 - val_binary_crossentropy: 0.4158\n",
      "Epoch 92/200\n",
      "543516/543516 [==============================] - 62s 114us/sample - loss: 0.3933 - acc: 0.8249 - binary_crossentropy: 0.3933 - val_loss: 0.4122 - val_acc: 0.8154 - val_binary_crossentropy: 0.4122\n",
      "Epoch 93/200\n",
      "543516/543516 [==============================] - 63s 116us/sample - loss: 0.3934 - acc: 0.8247 - binary_crossentropy: 0.3934 - val_loss: 0.4221 - val_acc: 0.8114 - val_binary_crossentropy: 0.4221\n",
      "Epoch 94/200\n",
      "543516/543516 [==============================] - 86s 158us/sample - loss: 0.3927 - acc: 0.8246 - binary_crossentropy: 0.3927 - val_loss: 0.4154 - val_acc: 0.8140 - val_binary_crossentropy: 0.4154\n",
      "Epoch 95/200\n",
      "543516/543516 [==============================] - 85s 157us/sample - loss: 0.3926 - acc: 0.8246 - binary_crossentropy: 0.3926 - val_loss: 0.4159 - val_acc: 0.8136 - val_binary_crossentropy: 0.4159\n",
      "Epoch 96/200\n",
      "543516/543516 [==============================] - 85s 156us/sample - loss: 0.3929 - acc: 0.8246 - binary_crossentropy: 0.3929 - val_loss: 0.4112 - val_acc: 0.8155 - val_binary_crossentropy: 0.4112\n",
      "Epoch 97/200\n",
      "543516/543516 [==============================] - 74s 136us/sample - loss: 0.3921 - acc: 0.8252 - binary_crossentropy: 0.3921 - val_loss: 0.4144 - val_acc: 0.8128 - val_binary_crossentropy: 0.4144\n",
      "Epoch 98/200\n",
      "543516/543516 [==============================] - 86s 158us/sample - loss: 0.3924 - acc: 0.8251 - binary_crossentropy: 0.3924 - val_loss: 0.4128 - val_acc: 0.8149 - val_binary_crossentropy: 0.4128\n",
      "Epoch 99/200\n",
      "543516/543516 [==============================] - 86s 158us/sample - loss: 0.3922 - acc: 0.8250 - binary_crossentropy: 0.3922 - val_loss: 0.4190 - val_acc: 0.8136 - val_binary_crossentropy: 0.4190\n",
      "Epoch 100/200\n",
      "543516/543516 [==============================] - 83s 153us/sample - loss: 0.3920 - acc: 0.8252 - binary_crossentropy: 0.3920 - val_loss: 0.4164 - val_acc: 0.8105 - val_binary_crossentropy: 0.4164\n",
      "Epoch 101/200\n",
      "543516/543516 [==============================] - 86s 157us/sample - loss: 0.3916 - acc: 0.8252 - binary_crossentropy: 0.3916 - val_loss: 0.4172 - val_acc: 0.8145 - val_binary_crossentropy: 0.4172\n",
      "Epoch 102/200\n",
      "543516/543516 [==============================] - 86s 159us/sample - loss: 0.3921 - acc: 0.8254 - binary_crossentropy: 0.3921 - val_loss: 0.4164 - val_acc: 0.8130 - val_binary_crossentropy: 0.4164\n",
      "Epoch 103/200\n",
      "543516/543516 [==============================] - 84s 155us/sample - loss: 0.3916 - acc: 0.8258 - binary_crossentropy: 0.3916 - val_loss: 0.4217 - val_acc: 0.8119 - val_binary_crossentropy: 0.4217\n",
      "Epoch 104/200\n",
      "543516/543516 [==============================] - 85s 157us/sample - loss: 0.3921 - acc: 0.8249 - binary_crossentropy: 0.3921 - val_loss: 0.4129 - val_acc: 0.8153 - val_binary_crossentropy: 0.4129\n",
      "Epoch 105/200\n",
      "543516/543516 [==============================] - 85s 157us/sample - loss: 0.3919 - acc: 0.8251 - binary_crossentropy: 0.3919 - val_loss: 0.4116 - val_acc: 0.8147 - val_binary_crossentropy: 0.4116\n",
      "Epoch 106/200\n",
      "543516/543516 [==============================] - 85s 156us/sample - loss: 0.3919 - acc: 0.8256 - binary_crossentropy: 0.3919 - val_loss: 0.4128 - val_acc: 0.8135 - val_binary_crossentropy: 0.4128\n",
      "Epoch 107/200\n",
      "543516/543516 [==============================] - 82s 151us/sample - loss: 0.3911 - acc: 0.8256 - binary_crossentropy: 0.3911 - val_loss: 0.4247 - val_acc: 0.8112 - val_binary_crossentropy: 0.4247\n",
      "Epoch 108/200\n",
      "543516/543516 [==============================] - 85s 157us/sample - loss: 0.3918 - acc: 0.8249 - binary_crossentropy: 0.3918 - val_loss: 0.4206 - val_acc: 0.8142 - val_binary_crossentropy: 0.4206\n",
      "Epoch 109/200\n",
      "543516/543516 [==============================] - 86s 157us/sample - loss: 0.3916 - acc: 0.8253 - binary_crossentropy: 0.3916 - val_loss: 0.4128 - val_acc: 0.8145 - val_binary_crossentropy: 0.4128\n",
      "Epoch 110/200\n",
      "543516/543516 [==============================] - 83s 152us/sample - loss: 0.3913 - acc: 0.8256 - binary_crossentropy: 0.3913 - val_loss: 0.4135 - val_acc: 0.8137 - val_binary_crossentropy: 0.4135\n",
      "Epoch 111/200\n",
      "543516/543516 [==============================] - 86s 158us/sample - loss: 0.3915 - acc: 0.8250 - binary_crossentropy: 0.3915 - val_loss: 0.4120 - val_acc: 0.8150 - val_binary_crossentropy: 0.4120\n",
      "Epoch 112/200\n",
      "543516/543516 [==============================] - 86s 158us/sample - loss: 0.3911 - acc: 0.8251 - binary_crossentropy: 0.3911 - val_loss: 0.4135 - val_acc: 0.8145 - val_binary_crossentropy: 0.4135\n",
      "Epoch 113/200\n",
      "543516/543516 [==============================] - 82s 151us/sample - loss: 0.3913 - acc: 0.8254 - binary_crossentropy: 0.3913 - val_loss: 0.4185 - val_acc: 0.8121 - val_binary_crossentropy: 0.4185\n",
      "Epoch 114/200\n",
      "543516/543516 [==============================] - 86s 158us/sample - loss: 0.3910 - acc: 0.8259 - binary_crossentropy: 0.3910 - val_loss: 0.4196 - val_acc: 0.8128 - val_binary_crossentropy: 0.4196\n",
      "Epoch 115/200\n",
      "543516/543516 [==============================] - 86s 159us/sample - loss: 0.3906 - acc: 0.8259 - binary_crossentropy: 0.3906 - val_loss: 0.4177 - val_acc: 0.8140 - val_binary_crossentropy: 0.4177\n",
      "Epoch 116/200\n",
      "543516/543516 [==============================] - 83s 153us/sample - loss: 0.3909 - acc: 0.8258 - binary_crossentropy: 0.3909 - val_loss: 0.4128 - val_acc: 0.8140 - val_binary_crossentropy: 0.4128\n",
      "Epoch 117/200\n",
      "543516/543516 [==============================] - 85s 156us/sample - loss: 0.3908 - acc: 0.8264 - binary_crossentropy: 0.3908 - val_loss: 0.4125 - val_acc: 0.8149 - val_binary_crossentropy: 0.4125\n",
      "Epoch 118/200\n"
     ]
    },
    {
     "name": "stdout",
     "output_type": "stream",
     "text": [
      "543516/543516 [==============================] - 85s 157us/sample - loss: 0.3908 - acc: 0.8260 - binary_crossentropy: 0.3908 - val_loss: 0.4295 - val_acc: 0.8092 - val_binary_crossentropy: 0.4295\n",
      "Epoch 119/200\n",
      "543516/543516 [==============================] - 86s 158us/sample - loss: 0.3908 - acc: 0.8258 - binary_crossentropy: 0.3908 - val_loss: 0.4152 - val_acc: 0.8139 - val_binary_crossentropy: 0.4152\n",
      "Epoch 120/200\n",
      "543516/543516 [==============================] - 83s 153us/sample - loss: 0.3906 - acc: 0.8258 - binary_crossentropy: 0.3906 - val_loss: 0.4177 - val_acc: 0.8135 - val_binary_crossentropy: 0.4177\n",
      "Epoch 121/200\n",
      "543516/543516 [==============================] - 85s 157us/sample - loss: 0.3905 - acc: 0.8260 - binary_crossentropy: 0.3905 - val_loss: 0.4202 - val_acc: 0.8105 - val_binary_crossentropy: 0.4202\n",
      "Epoch 122/200\n",
      "543516/543516 [==============================] - 86s 157us/sample - loss: 0.3909 - acc: 0.8258 - binary_crossentropy: 0.3909 - val_loss: 0.4129 - val_acc: 0.8147 - val_binary_crossentropy: 0.4129\n",
      "Epoch 123/200\n",
      "543516/543516 [==============================] - 84s 154us/sample - loss: 0.3904 - acc: 0.8259 - binary_crossentropy: 0.3903 - val_loss: 0.4140 - val_acc: 0.8157 - val_binary_crossentropy: 0.4140\n",
      "Epoch 124/200\n",
      "543516/543516 [==============================] - 86s 159us/sample - loss: 0.3905 - acc: 0.8258 - binary_crossentropy: 0.3905 - val_loss: 0.4126 - val_acc: 0.8143 - val_binary_crossentropy: 0.4126\n",
      "Epoch 125/200\n",
      "543516/543516 [==============================] - 86s 158us/sample - loss: 0.3901 - acc: 0.8258 - binary_crossentropy: 0.3901 - val_loss: 0.4128 - val_acc: 0.8147 - val_binary_crossentropy: 0.4128\n",
      "Epoch 126/200\n",
      "543516/543516 [==============================] - 84s 154us/sample - loss: 0.3906 - acc: 0.8259 - binary_crossentropy: 0.3906 - val_loss: 0.4176 - val_acc: 0.8138 - val_binary_crossentropy: 0.4176\n",
      "Epoch 127/200\n",
      "543516/543516 [==============================] - 86s 158us/sample - loss: 0.3902 - acc: 0.8259 - binary_crossentropy: 0.3902 - val_loss: 0.4148 - val_acc: 0.8136 - val_binary_crossentropy: 0.4148\n",
      "Epoch 128/200\n",
      "543516/543516 [==============================] - 85s 157us/sample - loss: 0.3908 - acc: 0.8258 - binary_crossentropy: 0.3908 - val_loss: 0.4166 - val_acc: 0.8115 - val_binary_crossentropy: 0.4166\n",
      "Epoch 129/200\n",
      "543516/543516 [==============================] - 84s 154us/sample - loss: 0.3901 - acc: 0.8258 - binary_crossentropy: 0.3901 - val_loss: 0.4185 - val_acc: 0.8115 - val_binary_crossentropy: 0.4185\n",
      "Epoch 130/200\n",
      "543516/543516 [==============================] - 85s 157us/sample - loss: 0.3901 - acc: 0.8263 - binary_crossentropy: 0.3901 - val_loss: 0.4142 - val_acc: 0.8143 - val_binary_crossentropy: 0.4142\n",
      "Epoch 131/200\n",
      "543516/543516 [==============================] - 86s 158us/sample - loss: 0.3896 - acc: 0.8265 - binary_crossentropy: 0.3896 - val_loss: 0.4163 - val_acc: 0.8127 - val_binary_crossentropy: 0.4163\n",
      "Epoch 132/200\n",
      "543516/543516 [==============================] - 84s 155us/sample - loss: 0.3901 - acc: 0.8259 - binary_crossentropy: 0.3901 - val_loss: 0.4138 - val_acc: 0.8137 - val_binary_crossentropy: 0.4138\n",
      "Epoch 133/200\n",
      "543516/543516 [==============================] - 85s 157us/sample - loss: 0.3902 - acc: 0.8262 - binary_crossentropy: 0.3902 - val_loss: 0.4147 - val_acc: 0.8139 - val_binary_crossentropy: 0.4147\n",
      "Epoch 134/200\n",
      "543516/543516 [==============================] - 86s 158us/sample - loss: 0.3900 - acc: 0.8260 - binary_crossentropy: 0.3900 - val_loss: 0.4128 - val_acc: 0.8149 - val_binary_crossentropy: 0.4128\n",
      "Epoch 135/200\n",
      "543516/543516 [==============================] - 85s 157us/sample - loss: 0.3896 - acc: 0.8267 - binary_crossentropy: 0.3896 - val_loss: 0.4139 - val_acc: 0.8142 - val_binary_crossentropy: 0.4139\n",
      "Epoch 136/200\n",
      "543516/543516 [==============================] - 83s 153us/sample - loss: 0.3896 - acc: 0.8260 - binary_crossentropy: 0.3896 - val_loss: 0.4125 - val_acc: 0.8146 - val_binary_crossentropy: 0.4125\n",
      "Epoch 137/200\n",
      "543516/543516 [==============================] - 86s 158us/sample - loss: 0.3893 - acc: 0.8261 - binary_crossentropy: 0.3893 - val_loss: 0.4245 - val_acc: 0.8111 - val_binary_crossentropy: 0.4245\n",
      "Epoch 138/200\n",
      "543516/543516 [==============================] - 85s 156us/sample - loss: 0.3899 - acc: 0.8262 - binary_crossentropy: 0.3899 - val_loss: 0.4139 - val_acc: 0.8142 - val_binary_crossentropy: 0.4139\n",
      "Epoch 139/200\n",
      "543516/543516 [==============================] - 83s 153us/sample - loss: 0.3901 - acc: 0.8261 - binary_crossentropy: 0.3901 - val_loss: 0.4115 - val_acc: 0.8139 - val_binary_crossentropy: 0.4115\n",
      "Epoch 140/200\n",
      "543516/543516 [==============================] - 85s 156us/sample - loss: 0.3892 - acc: 0.8265 - binary_crossentropy: 0.3892 - val_loss: 0.4159 - val_acc: 0.8142 - val_binary_crossentropy: 0.4159\n",
      "Epoch 141/200\n",
      "543516/543516 [==============================] - 85s 156us/sample - loss: 0.3892 - acc: 0.8266 - binary_crossentropy: 0.3892 - val_loss: 0.4166 - val_acc: 0.8127 - val_binary_crossentropy: 0.4166\n",
      "Epoch 142/200\n",
      "543516/543516 [==============================] - 84s 155us/sample - loss: 0.3892 - acc: 0.8268 - binary_crossentropy: 0.3892 - val_loss: 0.4121 - val_acc: 0.8153 - val_binary_crossentropy: 0.4121\n",
      "Epoch 143/200\n",
      "543516/543516 [==============================] - 86s 158us/sample - loss: 0.3893 - acc: 0.8264 - binary_crossentropy: 0.3893 - val_loss: 0.4210 - val_acc: 0.8113 - val_binary_crossentropy: 0.4210\n",
      "Epoch 144/200\n",
      "543516/543516 [==============================] - 85s 157us/sample - loss: 0.3892 - acc: 0.8265 - binary_crossentropy: 0.3892 - val_loss: 0.4177 - val_acc: 0.8128 - val_binary_crossentropy: 0.4177\n",
      "Epoch 145/200\n",
      "543516/543516 [==============================] - 85s 156us/sample - loss: 0.3896 - acc: 0.8262 - binary_crossentropy: 0.3896 - val_loss: 0.4195 - val_acc: 0.8118 - val_binary_crossentropy: 0.4195\n",
      "Epoch 146/200\n",
      "543516/543516 [==============================] - 86s 158us/sample - loss: 0.3892 - acc: 0.8266 - binary_crossentropy: 0.3892 - val_loss: 0.4266 - val_acc: 0.8103 - val_binary_crossentropy: 0.4266\n",
      "Epoch 147/200\n",
      "543516/543516 [==============================] - 86s 158us/sample - loss: 0.3893 - acc: 0.8264 - binary_crossentropy: 0.3893 - val_loss: 0.4197 - val_acc: 0.8111 - val_binary_crossentropy: 0.4197\n",
      "Epoch 148/200\n",
      "543516/543516 [==============================] - 85s 156us/sample - loss: 0.3894 - acc: 0.8263 - binary_crossentropy: 0.3894 - val_loss: 0.4223 - val_acc: 0.8110 - val_binary_crossentropy: 0.4223\n",
      "Epoch 149/200\n",
      "543516/543516 [==============================] - 84s 154us/sample - loss: 0.3888 - acc: 0.8270 - binary_crossentropy: 0.3888 - val_loss: 0.4123 - val_acc: 0.8151 - val_binary_crossentropy: 0.4123\n",
      "Epoch 150/200\n",
      "543516/543516 [==============================] - 85s 157us/sample - loss: 0.3891 - acc: 0.8267 - binary_crossentropy: 0.3891 - val_loss: 0.4155 - val_acc: 0.8132 - val_binary_crossentropy: 0.4155\n",
      "Epoch 151/200\n",
      "543516/543516 [==============================] - 86s 158us/sample - loss: 0.3888 - acc: 0.8269 - binary_crossentropy: 0.3888 - val_loss: 0.4149 - val_acc: 0.8140 - val_binary_crossentropy: 0.4149\n",
      "Epoch 152/200\n",
      "543516/543516 [==============================] - 83s 153us/sample - loss: 0.3890 - acc: 0.8264 - binary_crossentropy: 0.3890 - val_loss: 0.4124 - val_acc: 0.8137 - val_binary_crossentropy: 0.4124\n",
      "Epoch 153/200\n",
      "543516/543516 [==============================] - 85s 156us/sample - loss: 0.3890 - acc: 0.8268 - binary_crossentropy: 0.3890 - val_loss: 0.4216 - val_acc: 0.8123 - val_binary_crossentropy: 0.4216\n",
      "Epoch 154/200\n",
      "543516/543516 [==============================] - 86s 159us/sample - loss: 0.3888 - acc: 0.8269 - binary_crossentropy: 0.3888 - val_loss: 0.4128 - val_acc: 0.8146 - val_binary_crossentropy: 0.4128\n",
      "Epoch 155/200\n",
      "543516/543516 [==============================] - 83s 153us/sample - loss: 0.3889 - acc: 0.8267 - binary_crossentropy: 0.3889 - val_loss: 0.4132 - val_acc: 0.8125 - val_binary_crossentropy: 0.4132\n",
      "Epoch 156/200\n",
      "543516/543516 [==============================] - 85s 156us/sample - loss: 0.3886 - acc: 0.8270 - binary_crossentropy: 0.3886 - val_loss: 0.4145 - val_acc: 0.8144 - val_binary_crossentropy: 0.4145\n",
      "Epoch 157/200\n",
      "543516/543516 [==============================] - 85s 157us/sample - loss: 0.3886 - acc: 0.8268 - binary_crossentropy: 0.3886 - val_loss: 0.4195 - val_acc: 0.8130 - val_binary_crossentropy: 0.4195\n",
      "Epoch 158/200\n",
      "543516/543516 [==============================] - 84s 154us/sample - loss: 0.3885 - acc: 0.8271 - binary_crossentropy: 0.3885 - val_loss: 0.4145 - val_acc: 0.8142 - val_binary_crossentropy: 0.4145\n",
      "Epoch 159/200\n",
      "543516/543516 [==============================] - 85s 157us/sample - loss: 0.3888 - acc: 0.8271 - binary_crossentropy: 0.3888 - val_loss: 0.4139 - val_acc: 0.8143 - val_binary_crossentropy: 0.4139\n",
      "Epoch 160/200\n",
      "543516/543516 [==============================] - 86s 158us/sample - loss: 0.3883 - acc: 0.8269 - binary_crossentropy: 0.3883 - val_loss: 0.4167 - val_acc: 0.8132 - val_binary_crossentropy: 0.4167\n",
      "Epoch 161/200\n",
      "543516/543516 [==============================] - 86s 157us/sample - loss: 0.3887 - acc: 0.8271 - binary_crossentropy: 0.3887 - val_loss: 0.4170 - val_acc: 0.8131 - val_binary_crossentropy: 0.4170\n",
      "Epoch 162/200\n",
      "543516/543516 [==============================] - 83s 153us/sample - loss: 0.3888 - acc: 0.8268 - binary_crossentropy: 0.3888 - val_loss: 0.4160 - val_acc: 0.8128 - val_binary_crossentropy: 0.4160\n",
      "Epoch 163/200\n",
      "543516/543516 [==============================] - 86s 159us/sample - loss: 0.3890 - acc: 0.8267 - binary_crossentropy: 0.3890 - val_loss: 0.4246 - val_acc: 0.8118 - val_binary_crossentropy: 0.4246\n",
      "Epoch 164/200\n",
      "543516/543516 [==============================] - 86s 158us/sample - loss: 0.3887 - acc: 0.8267 - binary_crossentropy: 0.3887 - val_loss: 0.4199 - val_acc: 0.8113 - val_binary_crossentropy: 0.4199\n",
      "Epoch 165/200\n",
      "543516/543516 [==============================] - 83s 154us/sample - loss: 0.3879 - acc: 0.8273 - binary_crossentropy: 0.3879 - val_loss: 0.4167 - val_acc: 0.8113 - val_binary_crossentropy: 0.4167\n",
      "Epoch 166/200\n",
      "543516/543516 [==============================] - 85s 157us/sample - loss: 0.3884 - acc: 0.8269 - binary_crossentropy: 0.3884 - val_loss: 0.4134 - val_acc: 0.8143 - val_binary_crossentropy: 0.4134\n",
      "Epoch 167/200\n",
      "543516/543516 [==============================] - 86s 158us/sample - loss: 0.3882 - acc: 0.8266 - binary_crossentropy: 0.3882 - val_loss: 0.4135 - val_acc: 0.8142 - val_binary_crossentropy: 0.4135\n",
      "Epoch 168/200\n",
      "543516/543516 [==============================] - 83s 153us/sample - loss: 0.3884 - acc: 0.8268 - binary_crossentropy: 0.3884 - val_loss: 0.4174 - val_acc: 0.8139 - val_binary_crossentropy: 0.4174\n",
      "Epoch 169/200\n",
      "543516/543516 [==============================] - 85s 156us/sample - loss: 0.3884 - acc: 0.8269 - binary_crossentropy: 0.3884 - val_loss: 0.4193 - val_acc: 0.8120 - val_binary_crossentropy: 0.4193\n",
      "Epoch 170/200\n",
      "543516/543516 [==============================] - 86s 158us/sample - loss: 0.3878 - acc: 0.8274 - binary_crossentropy: 0.3878 - val_loss: 0.4204 - val_acc: 0.8115 - val_binary_crossentropy: 0.4204\n",
      "Epoch 171/200\n",
      "543516/543516 [==============================] - 83s 153us/sample - loss: 0.3879 - acc: 0.8270 - binary_crossentropy: 0.3879 - val_loss: 0.4179 - val_acc: 0.8134 - val_binary_crossentropy: 0.4179\n",
      "Epoch 172/200\n",
      "543516/543516 [==============================] - 85s 156us/sample - loss: 0.3877 - acc: 0.8276 - binary_crossentropy: 0.3877 - val_loss: 0.4124 - val_acc: 0.8141 - val_binary_crossentropy: 0.4124\n",
      "Epoch 173/200\n",
      "543516/543516 [==============================] - 86s 158us/sample - loss: 0.3878 - acc: 0.8275 - binary_crossentropy: 0.3878 - val_loss: 0.4120 - val_acc: 0.8144 - val_binary_crossentropy: 0.4120\n",
      "Epoch 174/200\n",
      "543516/543516 [==============================] - 84s 155us/sample - loss: 0.3882 - acc: 0.8274 - binary_crossentropy: 0.3882 - val_loss: 0.4162 - val_acc: 0.8138 - val_binary_crossentropy: 0.4162\n",
      "Epoch 175/200\n",
      "543516/543516 [==============================] - 86s 159us/sample - loss: 0.3880 - acc: 0.8272 - binary_crossentropy: 0.3880 - val_loss: 0.4172 - val_acc: 0.8118 - val_binary_crossentropy: 0.4172\n",
      "Epoch 176/200\n",
      "543516/543516 [==============================] - 86s 158us/sample - loss: 0.3878 - acc: 0.8271 - binary_crossentropy: 0.3878 - val_loss: 0.4160 - val_acc: 0.8129 - val_binary_crossentropy: 0.4160\n",
      "Epoch 177/200\n",
      "543516/543516 [==============================] - 85s 157us/sample - loss: 0.3881 - acc: 0.8268 - binary_crossentropy: 0.3881 - val_loss: 0.4171 - val_acc: 0.8138 - val_binary_crossentropy: 0.4171\n",
      "Epoch 178/200\n",
      "543516/543516 [==============================] - 84s 155us/sample - loss: 0.3874 - acc: 0.8276 - binary_crossentropy: 0.3874 - val_loss: 0.4240 - val_acc: 0.8085 - val_binary_crossentropy: 0.4240\n",
      "Epoch 179/200\n",
      "543516/543516 [==============================] - 86s 159us/sample - loss: 0.3874 - acc: 0.8278 - binary_crossentropy: 0.3874 - val_loss: 0.4228 - val_acc: 0.8109 - val_binary_crossentropy: 0.4228\n",
      "Epoch 180/200\n",
      "543516/543516 [==============================] - 86s 158us/sample - loss: 0.3876 - acc: 0.8274 - binary_crossentropy: 0.3876 - val_loss: 0.4191 - val_acc: 0.8120 - val_binary_crossentropy: 0.4191\n",
      "Epoch 181/200\n",
      "543516/543516 [==============================] - 82s 151us/sample - loss: 0.3876 - acc: 0.8277 - binary_crossentropy: 0.3876 - val_loss: 0.4164 - val_acc: 0.8136 - val_binary_crossentropy: 0.4164\n",
      "Epoch 182/200\n",
      "543516/543516 [==============================] - 85s 157us/sample - loss: 0.3876 - acc: 0.8275 - binary_crossentropy: 0.3876 - val_loss: 0.4145 - val_acc: 0.8131 - val_binary_crossentropy: 0.4145\n",
      "Epoch 183/200\n",
      "543516/543516 [==============================] - 86s 158us/sample - loss: 0.3874 - acc: 0.8272 - binary_crossentropy: 0.3874 - val_loss: 0.4136 - val_acc: 0.8147 - val_binary_crossentropy: 0.4136\n",
      "Epoch 184/200\n",
      "543516/543516 [==============================] - 84s 154us/sample - loss: 0.3877 - acc: 0.8274 - binary_crossentropy: 0.3877 - val_loss: 0.4141 - val_acc: 0.8127 - val_binary_crossentropy: 0.4141\n",
      "Epoch 185/200\n",
      "543516/543516 [==============================] - 85s 157us/sample - loss: 0.3878 - acc: 0.8272 - binary_crossentropy: 0.3878 - val_loss: 0.4233 - val_acc: 0.8126 - val_binary_crossentropy: 0.4233\n",
      "Epoch 186/200\n",
      "543516/543516 [==============================] - 86s 157us/sample - loss: 0.3874 - acc: 0.8273 - binary_crossentropy: 0.3874 - val_loss: 0.4158 - val_acc: 0.8133 - val_binary_crossentropy: 0.4158\n",
      "Epoch 187/200\n",
      "543516/543516 [==============================] - 84s 154us/sample - loss: 0.3879 - acc: 0.8270 - binary_crossentropy: 0.3879 - val_loss: 0.4114 - val_acc: 0.8146 - val_binary_crossentropy: 0.4114\n",
      "Epoch 188/200\n",
      "543516/543516 [==============================] - 86s 158us/sample - loss: 0.3870 - acc: 0.8277 - binary_crossentropy: 0.3870 - val_loss: 0.4185 - val_acc: 0.8123 - val_binary_crossentropy: 0.4185\n",
      "Epoch 189/200\n",
      "543516/543516 [==============================] - 85s 156us/sample - loss: 0.3877 - acc: 0.8272 - binary_crossentropy: 0.3877 - val_loss: 0.4123 - val_acc: 0.8149 - val_binary_crossentropy: 0.4123\n",
      "Epoch 190/200\n",
      "543516/543516 [==============================] - 86s 158us/sample - loss: 0.3875 - acc: 0.8272 - binary_crossentropy: 0.3875 - val_loss: 0.4167 - val_acc: 0.8135 - val_binary_crossentropy: 0.4167\n",
      "Epoch 191/200\n",
      "543516/543516 [==============================] - 85s 157us/sample - loss: 0.3875 - acc: 0.8273 - binary_crossentropy: 0.3875 - val_loss: 0.4164 - val_acc: 0.8141 - val_binary_crossentropy: 0.4164\n",
      "Epoch 192/200\n",
      "543516/543516 [==============================] - 85s 156us/sample - loss: 0.3875 - acc: 0.8271 - binary_crossentropy: 0.3875 - val_loss: 0.4153 - val_acc: 0.8142 - val_binary_crossentropy: 0.4153\n",
      "Epoch 193/200\n",
      "543516/543516 [==============================] - 86s 159us/sample - loss: 0.3874 - acc: 0.8272 - binary_crossentropy: 0.3874 - val_loss: 0.4181 - val_acc: 0.8129 - val_binary_crossentropy: 0.4181\n",
      "Epoch 194/200\n",
      "543516/543516 [==============================] - 83s 153us/sample - loss: 0.3871 - acc: 0.8273 - binary_crossentropy: 0.3871 - val_loss: 0.4235 - val_acc: 0.8125 - val_binary_crossentropy: 0.4235\n",
      "Epoch 195/200\n",
      "543516/543516 [==============================] - 86s 158us/sample - loss: 0.3866 - acc: 0.8280 - binary_crossentropy: 0.3866 - val_loss: 0.4144 - val_acc: 0.8138 - val_binary_crossentropy: 0.4144\n",
      "Epoch 196/200\n"
     ]
    },
    {
     "name": "stdout",
     "output_type": "stream",
     "text": [
      "543516/543516 [==============================] - 86s 157us/sample - loss: 0.3868 - acc: 0.8276 - binary_crossentropy: 0.3868 - val_loss: 0.4198 - val_acc: 0.8119 - val_binary_crossentropy: 0.4198\n",
      "Epoch 197/200\n",
      "543516/543516 [==============================] - 83s 153us/sample - loss: 0.3869 - acc: 0.8279 - binary_crossentropy: 0.3869 - val_loss: 0.4192 - val_acc: 0.8145 - val_binary_crossentropy: 0.4192\n",
      "Epoch 198/200\n",
      "543516/543516 [==============================] - 86s 158us/sample - loss: 0.3874 - acc: 0.8275 - binary_crossentropy: 0.3874 - val_loss: 0.4215 - val_acc: 0.8109 - val_binary_crossentropy: 0.4215\n",
      "Epoch 199/200\n",
      "543516/543516 [==============================] - 85s 157us/sample - loss: 0.3870 - acc: 0.8276 - binary_crossentropy: 0.3870 - val_loss: 0.4197 - val_acc: 0.8137 - val_binary_crossentropy: 0.4197\n",
      "Epoch 200/200\n",
      "543516/543516 [==============================] - 84s 154us/sample - loss: 0.3871 - acc: 0.8278 - binary_crossentropy: 0.3871 - val_loss: 0.4199 - val_acc: 0.8134 - val_binary_crossentropy: 0.4199\n"
     ]
    }
   ],
   "source": [
    "history2 = model_2_1D2.fit(X_train, y_train, epochs=200, \n",
    "                    batch_size=100,\n",
    "                    validation_data=(X_val, y_val))"
   ]
  },
  {
   "cell_type": "code",
   "execution_count": 29,
   "metadata": {
    "ExecuteTime": {
     "end_time": "2021-10-25T09:48:23.477046Z",
     "start_time": "2021-10-25T09:48:23.239168Z"
    }
   },
   "outputs": [
    {
     "data": {
      "image/png": "[encoded data removed]",
      "text/plain": [
       "<Figure size 1152x144 with 2 Axes>"
      ]
     },
     "metadata": {
      "needs_background": "light"
     },
     "output_type": "display_data"
    }
   ],
   "source": [
    "plt.figure(figsize=(16,2))\n",
    "plt.subplot(1,2,1)\n",
    "plot_graphs(history2, 'acc')\n",
    "plt.subplot(1,2,2)\n",
    "plot_graphs(history2, 'loss')"
   ]
  },
  {
   "cell_type": "code",
   "execution_count": 30,
   "metadata": {
    "ExecuteTime": {
     "end_time": "2021-10-25T09:48:54.808527Z",
     "start_time": "2021-10-25T09:48:23.478346Z"
    }
   },
   "outputs": [
    {
     "name": "stdout",
     "output_type": "stream",
     "text": [
      "133992/133992 [==============================] - 11s 81us/sample - loss: 0.4018 - acc: 0.8234 - binary_crossentropy: 0.4018\n",
      "Test Accuracy: [0.4017712440435349, 0.82335514, 0.40177077]\n",
      "              precision    recall  f1-score   support\n",
      "\n",
      "           0       0.84      0.80      0.82     66996\n",
      "           1       0.81      0.84      0.83     66996\n",
      "\n",
      "    accuracy                           0.82    133992\n",
      "   macro avg       0.82      0.82      0.82    133992\n",
      "weighted avg       0.82      0.82      0.82    133992\n",
      "\n",
      "rf auc : 0.8999477677888996\n"
     ]
    },
    {
     "data": {
      "image/png": "[encoded data removed]",
      "text/plain": [
       "<Figure size 288x288 with 1 Axes>"
      ]
     },
     "metadata": {
      "needs_background": "light"
     },
     "output_type": "display_data"
    },
    {
     "data": {
      "image/png": "[encoded data removed]",
      "text/plain": [
       "<Figure size 216x216 with 2 Axes>"
      ]
     },
     "metadata": {
      "needs_background": "light"
     },
     "output_type": "display_data"
    },
    {
     "data": {
      "image/png": "[encoded data removed]",
      "text/plain": [
       "<Figure size 216x216 with 2 Axes>"
      ]
     },
     "metadata": {
      "needs_background": "light"
     },
     "output_type": "display_data"
    }
   ],
   "source": [
    "test_acc = model_2_1D2.evaluate(X_test, y_test)\n",
    "print('Test Accuracy: {}'.format(test_acc))\n",
    "\n",
    "# prediction\n",
    "y_pred = [1 if i>=0.5 else 0 for i in model_2_1D2.predict(X_test)]\n",
    "print(classification_report(y_test, y_pred))\n",
    "# AUC\n",
    "probs = model_2_1D2.predict(X_test)\n",
    "rf_auc = roc_auc_score(y_test, probs)\n",
    "print('rf auc : {}'.format(rf_auc))\n",
    "# plot the roc curve for the model_2_1D2\n",
    "rf_fpr, rf_tpr, _ = roc_curve(y_test, probs)\n",
    "plt.figure(figsize=(4, 4))\n",
    "plt.plot(rf_fpr, rf_tpr, marker='.', label='RF AUC = {:.4f}'.format(rf_auc), color='orange')\n",
    "plt.title('ROC curve')\n",
    "# axis labels\n",
    "plt.xlabel('False Positive Rate')\n",
    "plt.ylabel('True Positive Rate')\n",
    "# show the legend\n",
    "plt.legend()\n",
    "# show the plot\n",
    "plt.show()\n",
    "\n",
    "cf_matrix = confusion_matrix(y_test, y_pred)\n",
    "plt.figure(figsize=(3, 3))\n",
    "sns.heatmap(cf_matrix, annot=True, fmt=',.0f')\n",
    "plt.show()\n",
    "plt.figure(figsize=(3, 3))\n",
    "sns.heatmap(cf_matrix/np.sum(cf_matrix), annot=True, \n",
    "            fmt='.2%', cmap='Blues')\n",
    "plt.show()"
   ]
  },
  {
   "cell_type": "code",
   "execution_count": null,
   "metadata": {},
   "outputs": [],
   "source": []
  }
 ],
 "metadata": {
  "kernelspec": {
   "display_name": "TF1.14",
   "language": "python",
   "name": "tf1.14"
  },
  "language_info": {
   "codemirror_mode": {
    "name": "ipython",
    "version": 3
   },
   "file_extension": ".py",
   "mimetype": "text/x-python",
   "name": "python",
   "nbconvert_exporter": "python",
   "pygments_lexer": "ipython3",
   "version": "3.6.13"
  }
 },
 "nbformat": 4,
 "nbformat_minor": 4
}
